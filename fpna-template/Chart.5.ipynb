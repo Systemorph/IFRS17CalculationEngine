{
    "metadata": {
        "authors": [],
        "id": "W-_sM0av80qw-c-qS37i6A",
        "kernelspec": {
            "display_name": "Formula Framework",
            "language": "C#",
            "name": "C#"
        },
        "language_info": {
            "file_extension": ".cs",
            "mimetype": "text/plain",
            "name": "C#"
        }
    },
    "nbformat": 4,
    "nbformat_minor": 5,
    "cells": [
        {
            "cell_type": "code",
            "source": [
                "#!import \"Evaluate\""
            ],
            "metadata": {},
            "execution_count": 0,
            "outputs": []
        },
        {
            "cell_type": "code",
            "source": [
                "#r \"nuget:Systemorph.Charting,1.6.5\""
            ],
            "metadata": {},
            "execution_count": 0,
            "outputs": []
        },
        {
            "cell_type": "markdown",
            "source": [
                "# Utils"
            ],
            "metadata": {},
            "execution_count": 0,
            "outputs": []
        },
        {
            "cell_type": "code",
            "source": [
                "public static IDataCube<FpaReportVariable> ToReportType (this IDataCube<FpaVariable> fpaVariable)",
                "\n    => fpaVariable.SelectMany(rv => rv.Values.Select((x,i) => new FpaReportVariable {",
                "\n        EstimateType = rv.EstimateType, AmountType = rv.AmountType, DataNode = rv.DataNode, AocType = rv.AocType, Novelty = rv.Novelty, ",
                "\n        Index = i, Value = x, Layer = rv.Layer }))",
                "\n        .ToDataCube();"
            ],
            "metadata": {},
            "execution_count": 0,
            "outputs": []
        },
        {
            "cell_type": "markdown",
            "source": [
                "# Chart"
            ],
            "metadata": {},
            "execution_count": 0,
            "outputs": []
        },
        {
            "cell_type": "code",
            "source": [
                "await Report.ForDataCube(",
                "\n    cashflowVariables.ToDataCube().ToReportType()",
                "\n    //.Filter(x => x.AmountType == \"RP\")",
                "\n)",
                "\n.SliceRowsBy(\"AmountType\", \"Layer\") // Notes : 1. use \"AmountType\", \"Layer\" (inverse order does not work). 2. Slice by AmountType adds the parent level",
                "\n.SliceColumnsBy(\"Index\")",
                "\n.WithQuerySource(DataSource)",
                "\n.ToBarChart()",
                "\n//.WithColorScheme(Palettes.Brewer.PuBu3)",
                "\n.ExecuteAsync()"
            ],
            "metadata": {},
            "execution_count": 0,
            "outputs": []
        }
    ]
}