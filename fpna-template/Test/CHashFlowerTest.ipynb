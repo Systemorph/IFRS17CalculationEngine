{
    "metadata": {
        "authors": [],
        "id": "0Sv-iuexO02G_9VRlhVTLw",
        "kernelspec": {
            "display_name": "Formula Framework",
            "language": "C#",
            "name": "C#"
        },
        "language_info": {
            "file_extension": ".cs",
            "mimetype": "text/plain",
            "name": "C#"
        }
    },
    "nbformat": 4,
    "nbformat_minor": 5,
    "cells": [
        {
            "cell_type": "markdown",
            "source": [
                "<p style=\"font-weight:bold;\"> <span style=\"font-size: 36px\"> CHashFlower calculation Test </span> </p>"
            ],
            "metadata": {},
            "execution_count": 0,
            "outputs": []
        },
        {
            "cell_type": "code",
            "source": [
                "#!import \"../Initialization/InitSystemorphToMemory\""
            ],
            "metadata": {},
            "execution_count": 0,
            "outputs": []
        },
        {
            "cell_type": "markdown",
            "source": [
                "# Args"
            ],
            "metadata": {},
            "execution_count": 0,
            "outputs": []
        },
        {
            "cell_type": "code",
            "source": [
                "var reportingNode = \"CH\";",
                "\nvar year = 2020;",
                "\nvar month = 12;",
                "\nvar importFormat = ImportFormats.Cashflow;",
                "\nvar periodicity = Periodicity.Monthly;",
                "\nvar scenario = (string)null;",
                "\n",
                "\nImportArgs args = new ImportArgs(reportingNode, year, month, periodicity, scenario, importFormat);"
            ],
            "metadata": {},
            "execution_count": 0,
            "outputs": []
        },
        {
            "cell_type": "markdown",
            "source": [
                "# Basic"
            ],
            "metadata": {},
            "execution_count": 0,
            "outputs": []
        },
        {
            "cell_type": "code",
            "source": [
                "var workspace = Workspace.CreateNew();",
                "\nworkspace.Initialize(x => x.FromSource(DataSource));"
            ],
            "metadata": {},
            "execution_count": 0,
            "outputs": []
        },
        {
            "cell_type": "code",
            "source": [
                "var basicCashflows = @\"",
                "\n@@Main",
                "\nReportingNode,Year,Month,Scenario,",
                "\nCH,2020,12,,",
                "\n@@BasicCashflow",
                "\nDataNode,AmountType,Shape,InitialValue,Length,Shift,Values0,Values1,Values2,Values3,Values4,",
                "\nG.BBA.LRC.2020.P,PR,Constant,10,5,0,,,,,",
                "\nG.BBA.LRC.2020.P,PR,Linear,10,5,1,2,-1,0.5,0.2",
                "\n\";"
            ],
            "metadata": {},
            "execution_count": 0,
            "outputs": []
        },
        {
            "cell_type": "code",
            "source": [
                "await Import.FromString(basicCashflows).WithFormat(\"CashflowDefinition\").WithTarget(workspace).ExecuteAsync()"
            ],
            "metadata": {},
            "execution_count": 0,
            "outputs": []
        },
        {
            "cell_type": "code",
            "source": [
                "var storage = new CashflowStorage(args, DataSource, workspace);",
                "\nawait storage.InitializeAsync();",
                "\n",
                "\nvar identities = storage.Identities;",
                "\n",
                "\npublic interface IModel : IMutableScopeWithStorage<CashflowStorage>{}",
                "\nvar universe = Scopes.ForStorage(storage).ToScope<IModel>();"
            ],
            "metadata": {},
            "execution_count": 0,
            "outputs": []
        },
        {
            "cell_type": "code",
            "source": [
                "var cashflowVariables = Scopes.ForIdentities(identities, storage).ToScopes<Compute>().SelectMany(x => x.FpaVariables).ToArray();",
                "\ncashflowVariables"
            ],
            "metadata": {},
            "execution_count": 0,
            "outputs": []
        },
        {
            "cell_type": "code",
            "source": [
                "double[] array1 = new double[] { 2.0, 3.0, 6.7 };",
                "\narray1.SequenceEqual(new double[] { 2.0, 3.0, 6.7 }, Precision);"
            ],
            "metadata": {},
            "execution_count": 0,
            "outputs": []
        },
        {
            "cell_type": "code",
            "source": [
                "cashflowVariables.Single(x => x.Layer.Contains(\"Constant\")).Values.SequenceEqual(new double[] { 10, 10, 10, 10, 10 }, Precision).Should().BeTrue();"
            ],
            "metadata": {},
            "execution_count": 0,
            "outputs": []
        },
        {
            "cell_type": "code",
            "source": [
                "cashflowVariables.Single(x => x.Layer.Contains(\"Linear\")).Values.SequenceEqual(new double[] { 0, 20, -20, -10, -2}, Precision).Should().BeTrue();",
                "\n",
                "\n// Check computed : new double[] { 0, 10, -10, -5, -1} ; ",
                "\n// The first weight is used for the skipped value => useless Values input up to Shift",
                "\n// The first value after the skip is the InitialValue making the Value1 column useless"
            ],
            "metadata": {},
            "execution_count": 0,
            "outputs": []
        },
        {
            "cell_type": "code",
            "source": [
                "workspace.Dispose()"
            ],
            "metadata": {},
            "execution_count": 0,
            "outputs": []
        },
        {
            "cell_type": "markdown",
            "source": [
                "# Bounded"
            ],
            "metadata": {},
            "execution_count": 0,
            "outputs": []
        },
        {
            "cell_type": "code",
            "source": [
                "var workspace = Workspace.CreateNew();",
                "\nworkspace.Initialize(x => x.FromSource(DataSource));"
            ],
            "metadata": {},
            "execution_count": 0,
            "outputs": []
        },
        {
            "cell_type": "code",
            "source": [
                "var boundedCashflows = @\"",
                "\n@@Main",
                "\nReportingNode,Year,Month,Scenario,",
                "\nCH,2020,12,,",
                "\n@@BoundedCashflow  ",
                "\nDataNode,AmountType,Shape,InitialValue,Length,Shift,Minimum,Maximum",
                "\nG.BBA.LRC.2020.P,PR,Random,6000,4,1,100,101",
                "\n\";"
            ],
            "metadata": {},
            "execution_count": 0,
            "outputs": []
        },
        {
            "cell_type": "code",
            "source": [
                "await Import.FromString(boundedCashflows).WithFormat(\"CashflowDefinition\").WithTarget(workspace).ExecuteAsync()"
            ],
            "metadata": {},
            "execution_count": 0,
            "outputs": []
        },
        {
            "cell_type": "code",
            "source": [
                "var storage = new CashflowStorage(args, DataSource, workspace);",
                "\nawait storage.InitializeAsync();",
                "\nvar identities = storage.Identities;",
                "\n",
                "\npublic interface IModel : IMutableScopeWithStorage<CashflowStorage>{}",
                "\nvar universe = Scopes.ForStorage(storage).ToScope<IModel>();"
            ],
            "metadata": {},
            "execution_count": 0,
            "outputs": []
        },
        {
            "cell_type": "code",
            "source": [
                "((ICashflowStorage)storage).GetCashflow<BoundedCashflow>(identities.First())"
            ],
            "metadata": {},
            "execution_count": 0,
            "outputs": []
        },
        {
            "cell_type": "code",
            "source": [
                "var cashflowVariables = Scopes.ForIdentities(identities, storage).ToScopes<Compute>().SelectMany(x => x.FpaVariables).ToArray();",
                "\ncashflowVariables"
            ],
            "metadata": {},
            "execution_count": 0,
            "outputs": []
        },
        {
            "cell_type": "code",
            "source": [
                "cashflowVariables.Single().Values.First().Should().BeApproximately(0d, Precision);",
                "\ncashflowVariables.Single().Values.Skip(1).All(x => x < 101d && x > 100d).Should().BeTrue();"
            ],
            "metadata": {},
            "execution_count": 0,
            "outputs": []
        },
        {
            "cell_type": "code",
            "source": [
                "workspace.Dispose()"
            ],
            "metadata": {},
            "execution_count": 0,
            "outputs": []
        },
        {
            "cell_type": "markdown",
            "source": [
                "# Reference"
            ],
            "metadata": {},
            "execution_count": 0,
            "outputs": []
        },
        {
            "cell_type": "code",
            "source": [
                ""
            ],
            "metadata": {},
            "execution_count": 0,
            "outputs": []
        },
        {
            "cell_type": "code",
            "source": [
                ""
            ],
            "metadata": {},
            "execution_count": 0,
            "outputs": []
        },
        {
            "cell_type": "code",
            "source": [
                ""
            ],
            "metadata": {},
            "execution_count": 0,
            "outputs": []
        }
    ]
}