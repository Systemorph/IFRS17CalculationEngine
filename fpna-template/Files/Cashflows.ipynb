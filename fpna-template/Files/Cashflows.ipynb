{
    "metadata": {
        "authors": [],
        "id": "mcxVoq7tgkWFra_yhSjkFA",
        "kernelspec": {
            "display_name": "Formula Framework",
            "language": "C#",
            "name": "C#"
        },
        "language_info": {
            "file_extension": ".cs",
            "mimetype": "text/plain",
            "name": "C#"
        }
    },
    "nbformat": 4,
    "nbformat_minor": 5,
    "cells": [
        {
            "cell_type": "code",
            "source": [
                "var basicCashflows = @\"@@BasicCashflow",
                "\nDataNode,AmountType,Shape,InitialValue,Length,Shift,Values0,Values1,Values2,Values3,Values4,",
                "\nG.BBA.LRC.2020.P,PR,Constant,10000,5,0,,,,,",
                "\nG.BBA.LRC.2020.P,PR,Linear,1000,4,1,0.5,0.5,0.5,0.5,",
                "\n\";"
            ],
            "metadata": {},
            "execution_count": 0,
            "outputs": []
        },
        {
            "cell_type": "code",
            "source": [
                "var boundedCashflows = @\"@@BoundedCashflow  ",
                "\nDataNode,AmountType,Shape,InitialValue,Length,Shift,Minimum,Maximum",
                "\nG.BBA.LRC.2020.P,PR,Random,6000,4,1,100,400",
                "\n\";"
            ],
            "metadata": {},
            "execution_count": 0,
            "outputs": []
        },
        {
            "cell_type": "code",
            "source": [
                "var referencedCashflows = @\"@@ReferencedCashflow",
                "\nDataNode,AmountType,AccidentYear,Shape,InitialValue,Length,Shift,ReferenceAmountType,Values0,Values1,Values2,Values3,Values4",
                "\nG.BBA.LRC.2020.P,PR,,Reference,,,,PR,0.5,0.5,0.5,0.5,0.5",
                "\nG.BBA.LRC.2020.P,AEM,,Reference,,,,PR,-0.5,-0.5,-0.5,-0.5,-0.5",
                "\nG.BBA.LRC.2020.P,CL,,Reference,,,,PR,-0.25,-0.25,-0.25,-0.25,-0.25",
                "\nG.BBA.LRC.2020.P,CL,,Reference,,,,AEM,0.5,0.5,0.5,0.5,0.5",
                "\nG.BBA.LRC.2020.P,S2TP,,Reference,,,,PR,3,3,3,4,5",
                "\n\";",
                "\n"
            ],
            "metadata": {},
            "execution_count": 0,
            "outputs": []
        }
    ]
}