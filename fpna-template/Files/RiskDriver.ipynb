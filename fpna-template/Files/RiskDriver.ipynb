{
    "metadata": {
        "authors": [],
        "id": "QeoE_xy_RkWkEesq4zH7Yw",
        "kernelspec": {
            "display_name": "Formula Framework",
            "language": "C#",
            "name": "C#"
        },
        "language_info": {
            "file_extension": ".cs",
            "mimetype": "text/plain",
            "name": "C#"
        }
    },
    "nbformat": 4,
    "nbformat_minor": 5,
    "cells": [
        {
            "cell_type": "markdown",
            "source": [
                "# Risk Driver"
            ],
            "metadata": {},
            "execution_count": 0,
            "outputs": []
        },
        {
            "cell_type": "code",
            "source": [
                "var riskDrivers = @\"@@RiskDriver",
                "\nSystemName,DisplayName,Parent",
                "\nT,All Risks,",
                "\nADJ,Adjustments to Risk,T",
                "\nOPR,Operational Risk,T",
                "\nBR,Basic Risk,T",
                "\nMR,Market Risk,BR",
                "\nEQR,Equity,MR",
                "\nPPR,Property,MR",
                "\nIRR,Interest Rate,MR",
                "\nSPR,Spread,MR",
                "\nCUR,Currency,MR",
                "\nCOR,Concentration,MR",
                "\nHR,Health Insurance Risk,BR",
                "\nHSR,Health Similar to Life Techniques Risk,HR",
                "\nHDIS,Disability Morbidity Heath SLT Risk,HSR",
                "\nHMOR,Mortality Heath SLT Risk,HSR",
                "\nHLON,Longevity Heath SLT Risk,HSR",
                "\nHLAP,Lapse Heath SLT Risk,HSR",
                "\nHEXP,Expenses Heath SLT Risk,HSR",
                "\nHREV,Revision Heath SLT Risk,HSR",
                "\nHCAT,Catastrophe Heath SLT Risk,HR",
                "\nHNR,Health Not Similar to Life Techniques Risk,HR",
                "\nHPRR,Premium Reserve Heath NSLT Risk,HNR",
                "\nHLAP,Lapse Heath NSLT Risk,HNR",
                "\nLIR,Life Insurance Risk,BR",
                "\nLMOR,Mortality Life Risk,LIR",
                "\nLDIS,Disability Morbidity Life Risk,LIR",
                "\nLLON,Longevity Life Risk,LIR",
                "\nLLAP,Lapse Life Risk,LIR",
                "\nLEXP,Expenses Life Risk,LIR",
                "\nLREV,Revision Life Risk,LIR",
                "\nLCAT,Catastrophe Life Risk,LIR",
                "\nNR,Non-Life Insurance Risk,BR",
                "\nNPRR,Premium Reserve Non-Life Risk,NR",
                "\nNLAP,Lapse Non-Life Risk,NR",
                "\nNCAT,Catastrophe Non-Life Risk,NR",
                "\nDR,Counterparty Default Risk,BR",
                "\nIR,Intangible Risk,BR\"",
                "\n;"
            ],
            "metadata": {},
            "execution_count": 0,
            "outputs": []
        },
        {
            "cell_type": "markdown",
            "source": [
                "# Risk Driver Correlation Matrix"
            ],
            "metadata": {},
            "execution_count": 0,
            "outputs": []
        },
        {
            "cell_type": "code",
            "source": [
                "var riskDriverCorrelationMatrix = @\"@@BoundedCashflow  ",
                "\nDataNode,RiskDriver,AmountType,Shape,InitialValue,Length,Shift,Minimum,Maximum",
                "\nDT1,LIR,PPR,Costant,0.75,5,0,-1,1",
                "\nDT1,LIR,LDIS,Costant,0.75,5,0,-1,1",
                "\nDT1,MR,LIR,Costant,0.75,5,0,-1,1",
                "\nDT1,MR,HSR,Costant,0.75,5,0,-1,1",
                "\nDT1,LIR,HSR,Costant,0.75,5,0,-1,1",
                "\n\";",
                "\n"
            ],
            "metadata": {},
            "execution_count": 0,
            "outputs": []
        }
    ]
}