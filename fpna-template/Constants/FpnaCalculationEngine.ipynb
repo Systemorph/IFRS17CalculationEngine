{
    "metadata": {
        "authors": [],
        "id": "dbO68puCAEuKRWoipkS-2Q",
        "kernelspec": {
            "display_name": "Formula Framework",
            "language": "C#",
            "name": "C#"
        },
        "language_info": {
            "file_extension": ".cs",
            "mimetype": "text/plain",
            "name": "C#"
        }
    },
    "nbformat": 4,
    "nbformat_minor": 5,
    "cells": [
        {
            "cell_type": "code",
            "source": [
                "var projectName = \"fpna\";",
                "\nvar environmentName = \"dev\";",
                "\nvar notebookName = \"CalculationEngine\";",
                "\nvar fpnaCalculationEngine = $\"#!import \\\"//{projectName}/{environmentName}/{notebookName}\\\"\";",
                "\nfpnaCalculationEngine = $\"#!import \\\"../../{projectName}/{notebookName}\\\"\";"
            ],
            "metadata": {},
            "execution_count": 0,
            "outputs": []
        }
    ]
}