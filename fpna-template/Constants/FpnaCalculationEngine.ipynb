{
    "metadata": {
        "authors": [],
        "id": "dbO68puCAEuKRWoipkS-2Q",
        "kernelspec": {
            "display_name": "Formula Framework",
            "language": "C#",
            "name": "C#"
        },
        "language_info": {
            "file_extension": ".cs",
            "mimetype": "text/plain",
            "name": "C#"
        }
    },
    "nbformat": 4,
    "nbformat_minor": 5,
    "cells": [
        {
            "cell_type": "code",
            "source": [
                "var projectName = \"fp-ce-oct23\";",
                "\nvar environmentName = \"dev\";",
                "\nvar notebookName = \"CalculationEngine\";",
                "\nvar fpnaCalculationEngine = $\"#!import \\\"//{projectName}/{environmentName}/{notebookName}\\\"\";",
                "\n//fpnaCalculationEngine = $\"#!import \\\"../../{projectName}/{notebookName}\\\"\";"
            ],
            "metadata": {},
            "execution_count": 0,
            "outputs": []
        }
    ]
}