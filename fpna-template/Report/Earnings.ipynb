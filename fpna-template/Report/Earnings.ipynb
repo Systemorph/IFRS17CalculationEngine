{
    "metadata": {
        "authors": [],
        "id": "gXXtjwQC9UGS_zM5GV2aTw",
        "kernelspec": {
            "display_name": "Formula Framework",
            "language": "C#",
            "name": "C#"
        },
        "language_info": {
            "file_extension": ".cs",
            "mimetype": "text/plain",
            "name": "C#"
        }
    },
    "nbformat": 4,
    "nbformat_minor": 5,
    "cells": [
        {
            "cell_type": "markdown",
            "source": [
                "# Earnings"
            ],
            "metadata": {},
            "execution_count": 0,
            "outputs": []
        },
        {
            "cell_type": "markdown",
            "source": [
                "- Forecast earnings under IFRS17 or any other regimes.",
                "\n- Integrate bottom-up and top-down approaches to earnings planning. ",
                "\n- Scale your projections by estimated volumes of business",
                "\n- Split figures by components, analyze by source and compare actual to expected for any of your KPI's"
            ],
            "metadata": {},
            "execution_count": 0,
            "outputs": []
        },
        {
            "cell_type": "markdown",
            "source": [
                "## Setup"
            ],
            "metadata": {},
            "execution_count": 0,
            "outputs": []
        },
        {
            "cell_type": "code",
            "source": [
                "#!import \"../Import/FpnaCloseImportTemplate\""
            ],
            "metadata": {},
            "execution_count": 0,
            "outputs": []
        },
        {
            "cell_type": "code",
            "source": [
                "#r \"nuget:Systemorph.Charting,1.6.5\""
            ],
            "metadata": {},
            "execution_count": 0,
            "outputs": []
        },
        {
            "cell_type": "markdown",
            "source": [
                "# Report"
            ],
            "metadata": {},
            "execution_count": 0,
            "outputs": []
        },
        {
            "cell_type": "code",
            "source": [
                "await Report.ForDataCube(",
                "\n    cashflowVariables.ToDataCube().ToReportType()",
                "\n    )",
                "\n.SliceRowsBy(\"AmountType\", \"Layer\")",
                "\n.SliceColumnsBy(\"Projection\")",
                "\n.WithQuerySource(DataSource)",
                "\n.ToTable()",
                "\n    .WithOptions(go => go",
                "\n        .WithColumns(cols => cols.Modify(\"Value\",c => c.WithFormat(\"typeof(value) == 'number' ? new Intl.NumberFormat('en',{ minimumFractionDigits:2, maximumFractionDigits:2 }).format(value) : value\")))",
                "\n        .WithRows(rows => rows ",
                "\n            .Where(r => !(r.RowGroup.Coordinates.Last() == \"NullGroup\"))",
                "\n            .Select(r => r with { RowGroup = r.RowGroup with { Coordinates = r.RowGroup.Coordinates.Where(c => c != \"NullGroup\").ToImmutableList() } })",
                "\n            .ToArray()))",
                "\n.ExecuteAsync()"
            ],
            "metadata": {},
            "execution_count": 0,
            "outputs": []
        },
        {
            "cell_type": "markdown",
            "source": [
                "# Chart"
            ],
            "metadata": {},
            "execution_count": 0,
            "outputs": []
        },
        {
            "cell_type": "code",
            "source": [
                "await Report.ForDataCube(",
                "\n    cashflowVariables.ToDataCube().ToReportType().AggregateBy(\"AmountType\")",
                "\n    )",
                "\n.SliceRowsBy(\"AmountType\")",
                "\n.SliceColumnsBy(\"Projection\")  ",
                "\n.WithQuerySource(DataSource)",
                "\n.ToBarChart()",
                "\n.WithColorScheme(Palettes.Brewer.PuBu3)",
                "\n.ExecuteAsync()"
            ],
            "metadata": {},
            "execution_count": 0,
            "outputs": []
        }
    ]
}