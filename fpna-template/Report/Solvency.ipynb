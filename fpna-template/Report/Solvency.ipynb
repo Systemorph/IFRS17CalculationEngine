{
    "metadata": {
        "authors": [],
        "id": "gXXtjwQC9UGS_zM5GV2aT1",
        "kernelspec": {
            "display_name": "Formula Framework",
            "language": "C#",
            "name": "C#"
        },
        "language_info": {
            "file_extension": ".cs",
            "mimetype": "text/plain",
            "name": "C#"
        }
    },
    "nbformat": 4,
    "nbformat_minor": 5,
    "cells": [
        {
            "cell_type": "markdown",
            "source": [
                "# Solvency"
            ],
            "metadata": {},
            "execution_count": 0,
            "outputs": []
        },
        {
            "cell_type": "markdown",
            "source": [
                "- Project Balance Sheets for existing and new business, including initiatives.",
                "\n- Project capital requirements and margins under Solvency II or Swiss Solvency Test",
                "\n- Correlate hierarchy of risks",
                "\n- Integrate capital planning with cash and earnings projections. "
            ],
            "metadata": {},
            "execution_count": 0,
            "outputs": []
        },
        {
            "cell_type": "markdown",
            "source": [
                "## Setup"
            ],
            "metadata": {},
            "execution_count": 0,
            "outputs": []
        },
        {
            "cell_type": "code",
            "source": [
                "#!import \"../Import/CloseImportTemplate\""
            ],
            "metadata": {},
            "execution_count": 0,
            "outputs": []
        },
        {
            "cell_type": "code",
            "source": [
                "#r \"nuget:Systemorph.Charting,1.6.5\""
            ],
            "metadata": {},
            "execution_count": 0,
            "outputs": []
        },
        {
            "cell_type": "markdown",
            "source": [
                "# Report"
            ],
            "metadata": {},
            "execution_count": 0,
            "outputs": []
        },
        {
            "cell_type": "code",
            "source": [
                "await Report.ForDataCube(",
                "\n    cashflowVariables.ToDataCube().ToReportType()",
                "\n    .Filter(x => storage.SolvencyBsAmountTypes.Contains(x.AmountType))",
                "\n    )",
                "\n.SliceRowsBy(\"AmountType\", \"Layer\") // Notes : 1. use \"AmountType\", \"Layer\" (inverse order does not work). 2. Slice by AmountType adds the parent level",
                "\n.SliceColumnsBy(\"Index\")",
                "\n.WithQuerySource(DataSource)",
                "\n.ToTable()",
                "\n.ExecuteAsync()"
            ],
            "metadata": {},
            "execution_count": 0,
            "outputs": []
        },
        {
            "cell_type": "markdown",
            "source": [
                "# Chart"
            ],
            "metadata": {},
            "execution_count": 0,
            "outputs": []
        },
        {
            "cell_type": "code",
            "source": [
                "await Report.ForDataCube(",
                "\n    cashflowVariables.ToDataCube().ToReportType()",
                "\n    .Filter(x => storage.SolvencyBsAmountTypes.Contains(x.AmountType))",
                "\n    )",
                "\n.SliceRowsBy(\"AmountType\", \"Layer\") // Notes : 1. use \"AmountType\", \"Layer\" (inverse order does not work). 2. Slice by AmountType adds the parent level",
                "\n.SliceColumnsBy(\"Index\")",
                "\n.WithQuerySource(DataSource)",
                "\n.ToBarChart()",
                "\n.WithColorScheme(Palettes.Brewer.PuBu3)",
                "\n.ExecuteAsync()"
            ],
            "metadata": {},
            "execution_count": 0,
            "outputs": []
        }
    ]
}