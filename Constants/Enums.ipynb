{
  "metadata": {
    "toc-showmarkdowntxt": "False",
    "toc-showcode": "False",
    "language_info": {
      "file_extension": ".cs",
      "mimetype": "text/plain",
      "name": "C#"
    },
    "authors": [],
    "kernelspec": {
      "display_name": "Formula Framework",
      "language": "C#",
      "name": "C#"
    },
    "toc-autonumbering": "True"
  },
  "nbformat": 4,
  "nbformat_minor": 5,
  "cells": [
    {
      "id": "HUFgBXkmYU6rV0daYBo-nQ",
      "cell_type": "markdown",
      "source": [
        "# Enumerables",
        "\n",
        "\nIn the case of data which is not expected to change over time, it is convenient to introduce such data as variables of type \"enumerable\"."
      ],
      "metadata": {}
    },
    {
      "id": "ALWeaAkPh0uiwQ9SYb9Y-w",
      "cell_type": "markdown",
      "source": [
        "## Exchange Rates",
        "\n",
        "\nFor exchange rates, we set the type for which the rates apply:"
      ],
      "metadata": {}
    },
    {
      "id": "W6x_0Pa3_kOAd3N9CBgcgQ",
      "cell_type": "code",
      "source": [
        "public enum FxType { Spot, Average }"
      ],
      "metadata": {},
      "execution_count": 1,
      "outputs": []
    },
    {
      "id": "r50zPe2AP0KrCOR-fgpccg",
      "cell_type": "code",
      "source": [
        "public enum FxPeriod { NotApplicable, BeginningOfPeriod, Average, EndOfPeriod }"
      ],
      "metadata": {},
      "execution_count": 1,
      "outputs": []
    },
    {
      "id": "YCF3tVHQB0eUa0yWpiRD0g",
      "cell_type": "markdown",
      "source": [
        "## Currency Types"
      ],
      "metadata": {}
    },
    {
      "id": "cF0fRptcGE64Vr1b058rqg",
      "cell_type": "markdown",
      "source": [
        "Currency Types define which currency is used as standard at different aggregation levels (in the Data Level hierarchy).",
        "\n- Functional: this is the standard Currency Type at Reporting Node level",
        "\n- Group: this is the standard Currency Type at Group level",
        "\n- Contractual: this is the standard Currency Type at Data Node level",
        "\n- Transactional: this is the standard Currency Type at Transactional level (used typically for Actuals)"
      ],
      "metadata": {}
    },
    {
      "id": "zj07LR0PT0CesH4nRl1Sig",
      "cell_type": "code",
      "source": [
        "public enum CurrencyType { Functional, Group, Contractual, Transactional }"
      ],
      "metadata": {},
      "execution_count": 1,
      "outputs": []
    },
    {
      "id": "wL17I9jyQ0eaeXrSdlvJyA",
      "cell_type": "markdown",
      "source": [
        "## Period Type"
      ],
      "metadata": {}
    },
    {
      "id": "3e3wVNw-rECnTHBTkVOfCQ",
      "cell_type": "code",
      "source": [
        "public enum PeriodType { NotApplicable, BeginningOfPeriod, EndOfPeriod }"
      ],
      "metadata": {},
      "execution_count": 1,
      "outputs": []
    },
    {
      "id": "Expd7Urm102om6-y2Skz4w",
      "cell_type": "markdown",
      "source": [
        "## Valuation Period"
      ],
      "metadata": {}
    },
    {
      "id": "dsJwHWIQPkOB29dEUCLHGg",
      "cell_type": "code",
      "source": [
        "public enum ValuationPeriod { NotApplicable, BeginningOfPeriod, MidOfPeriod, Delta, EndOfPeriod }"
      ],
      "metadata": {},
      "execution_count": 1,
      "outputs": []
    },
    {
      "id": "iejG0G0VJ0q_tAg2HGHuOw",
      "cell_type": "markdown",
      "source": [
        "## Portfolio View"
      ],
      "metadata": {}
    },
    {
      "id": "0Pdzxbnsx0SOaIiUb_X1YQ",
      "cell_type": "code",
      "source": [
        "[Flags] public enum PortfolioView { Gross = 1, Reinsurance = 2, Net = Gross | Reinsurance }"
      ],
      "metadata": {},
      "execution_count": 1,
      "outputs": []
    },
    {
      "id": "v7NVqB0p1Ei4vilTCiErFg",
      "cell_type": "markdown",
      "source": [
        "## Structure Type"
      ],
      "metadata": {}
    },
    {
      "id": "Kge1fD31n0S7BW0EiClT0g",
      "cell_type": "code",
      "source": [
        "public enum StructureType { None, AoC }"
      ],
      "metadata": {},
      "execution_count": 1,
      "outputs": []
    },
    {
      "id": "S49a3Gcz_0S7apcSmQy3JA",
      "cell_type": "markdown",
      "source": [
        "## State"
      ],
      "metadata": {}
    },
    {
      "id": "mJADknA9Q0KQjmTmf03Blw",
      "cell_type": "markdown",
      "source": [
        "State describes the state in which a Data Node can be - There are two types of states:",
        "\n- Active: visible in reports and queries",
        "\n- Inactive: not visible in reports and queries"
      ],
      "metadata": {}
    },
    {
      "id": "lsRYxseYzUaLMcAn7JB2Qw",
      "cell_type": "code",
      "source": [
        "public enum State { Active, Inactive }"
      ],
      "metadata": {},
      "execution_count": 1,
      "outputs": []
    },
    {
      "id": "kgMLZfJ4PkCFRU4kLKSGcw",
      "cell_type": "markdown",
      "source": [
        "## Periodicity"
      ],
      "metadata": {}
    },
    {
      "id": "iV_fcqBE2E6B12CgJq2ybg",
      "cell_type": "code",
      "source": [
        "public enum Periodicity { Monthly, Quarterly, Yearly }"
      ],
      "metadata": {},
      "execution_count": 1,
      "outputs": []
    },
    {
      "id": "ndV2D2lQL0icIY9VirJweQ",
      "cell_type": "markdown",
      "source": [
        "## Input Source"
      ],
      "metadata": {}
    },
    {
      "id": "z6t0m-civUGAcBEAW0C3Nw",
      "cell_type": "code",
      "source": [
        "[Flags]",
        "\npublic enum InputSource {NotApplicable = 0, Opening = 1, Actual = 2, Cashflow = 4} ",
        "\n//Opening + Actual = 3,",
        "\n//Opening + Cashflow = 5",
        "\n//Actual + Cashflow = 6",
        "\n//Opening + Actual + Cashflow = 7"
      ],
      "metadata": {},
      "execution_count": 1,
      "outputs": []
    },
    {
      "id": "aEqUAtvxPESgt-FHx2e7yA",
      "cell_type": "markdown",
      "source": [
        "## Data Type"
      ],
      "metadata": {}
    },
    {
      "id": "LR7R7DUA0k6Ywl5WjSrEvg",
      "cell_type": "code",
      "source": [
        "public enum DataType { Optional, Mandatory, Calculated, CalculatedTelescopic }"
      ],
      "metadata": {},
      "execution_count": 1,
      "outputs": []
    },
    {
      "id": "euBhm6zy1Uib521-G3w3eQ",
      "cell_type": "markdown",
      "source": [
        "## Import Scope"
      ],
      "metadata": {}
    },
    {
      "id": "4PP7M-Sv9k6_6MsJWS1bUg",
      "cell_type": "code",
      "source": [
        "public enum ImportScope { Primary, Secondary }"
      ],
      "metadata": {},
      "execution_count": 1,
      "outputs": []
    }
  ]
}