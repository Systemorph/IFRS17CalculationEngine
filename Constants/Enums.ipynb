{
    "metadata": {
        "language_info": {
            "file_extension": ".cs",
            "mimetype": "text/plain",
            "name": "C#"
        },
        "authors": [],
        "kernelspec": {
            "display_name": "Formula Framework",
            "language": "C#",
            "name": "C#"
        },
        "toc-autonumbering": "True",
        "toc-showcode": "False",
        "toc-showmarkdowntxt": "False"
    },
    "nbformat": 4,
    "nbformat_minor": 5,
    "cells": [
        {
            "cell_type": "markdown",
            "source": [
                "# Enumerables",
                "\n",
                "\nIn the case of data which is not expected to change over time, it is convenient to introduce such data as variables of type \"enumerable\"."
            ]
        },
        {
            "cell_type": "markdown",
            "source": [
                "## Exchange Rates",
                "\n",
                "\nFor exchange rates, we set the type for which the rates apply:"
            ]
        },
        {
            "cell_type": "code",
            "source": [
                "public enum FxType { Spot, Average }"
            ]
        },
        {
            "cell_type": "code",
            "source": [
                "public enum FxPeriod { NotApplicable, BeginningOfPeriod, Average, EndOfPeriod }"
            ]
        },
        {
            "cell_type": "markdown",
            "source": [
                "## Currency Types"
            ]
        },
        {
            "cell_type": "markdown",
            "source": [
                "Currency Types define which currency is used as standard at different aggregation levels (in the Data Level hierarchy).",
                "\n- Functional: this is the standard Currency Type at Reporting Node level",
                "\n- Group: this is the standard Currency Type at Group level",
                "\n- Contractual: this is the standard Currency Type at Data Node level",
                "\n- Transactional: this is the standard Currency Type at Transactional level (used typically for Actuals)"
            ]
        },
        {
            "cell_type": "code",
            "source": [
                "public enum CurrencyType { Functional, Group, Contractual, Transactional }"
            ]
        },
        {
            "cell_type": "markdown",
            "source": [
                "## Period Type"
            ]
        },
        {
            "cell_type": "code",
            "source": [
                "public enum PeriodType { NotApplicable, BeginningOfPeriod, EndOfPeriod }"
            ]
        },
        {
            "cell_type": "markdown",
            "source": [
                "## Valuation Period"
            ]
        },
        {
            "cell_type": "code",
            "source": [
                "public enum ValuationPeriod { NotApplicable, BeginningOfPeriod, MidOfPeriod, Delta, EndOfPeriod }"
            ]
        },
        {
            "cell_type": "markdown",
            "source": [
                "## Portfolio View"
            ]
        },
        {
            "cell_type": "code",
            "source": [
                "[Flags] public enum PortfolioView { Gross = 1, Reinsurance = 2, Net = Gross | Reinsurance }"
            ]
        },
        {
            "cell_type": "markdown",
            "source": [
                "## Structure Type"
            ]
        },
        {
            "cell_type": "code",
            "source": [
                "public enum StructureType { None, AoC }"
            ]
        },
        {
            "cell_type": "markdown",
            "source": [
                "## State"
            ]
        },
        {
            "cell_type": "markdown",
            "source": [
                "State describes the state in which a Data Node can be - There are two types of states:",
                "\n- Active: visible in reports and queries",
                "\n- Inactive: not visible in reports and queries"
            ]
        },
        {
            "cell_type": "code",
            "source": [
                "public enum State { Active, Inactive }"
            ]
        },
        {
            "cell_type": "markdown",
            "source": [
                "## Periodicity"
            ]
        },
        {
            "cell_type": "code",
            "source": [
                "public enum Periodicity { Monthly, Quarterly, Yearly }"
            ]
        },
        {
            "cell_type": "markdown",
            "source": [
                "## Input Source"
            ]
        },
        {
            "cell_type": "code",
            "source": [
                "[Flags]",
                "\npublic enum InputSource {NotApplicable = 0, Opening = 1, Actual = 2, Cashflow = 4} ",
                "\n//Opening + Actual = 3,",
                "\n//Opening + Cashflow = 5",
                "\n//Actual + Cashflow = 6",
                "\n//Opening + Actual + Cashflow = 7"
            ]
        },
        {
            "cell_type": "markdown",
            "source": [
                "## Data Type"
            ]
        },
        {
            "cell_type": "code",
            "source": [
                "public enum DataType { Optional, Mandatory, Calculated, CalculatedTelescopic }"
            ]
        },
        {
            "cell_type": "markdown",
            "source": [
                "## Import Scope"
            ]
        },
        {
            "cell_type": "code",
            "source": [
                "public enum ImportScope { Primary, Secondary }"
            ]
        }
    ]
}