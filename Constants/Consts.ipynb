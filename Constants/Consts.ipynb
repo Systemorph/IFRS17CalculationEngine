{
  "metadata": {
    "language_info": {
      "file_extension": ".cs",
      "mimetype": "text/plain",
      "name": "C#"
    },
    "authors": [],
    "kernelspec": {
      "display_name": "Formula Framework",
      "language": "C#",
      "name": "C#"
    },
    "toc-autonumbering": "True",
    "toc-showcode": "False",
    "toc-showmarkdowntxt": "False"
  },
  "nbformat": 4,
  "nbformat_minor": 5,
  "cells": [
    {
      "id": "2kYu9e9ygUipdOuqA9Hk6A",
      "cell_type": "markdown",
      "source": [
        "<p style=\"font-weight:bold;\"> <span style=\"font-size: 36px\"> Consts </span> </p>"
      ],
      "metadata": {}
    },
    {
      "id": "DmUpa-myfk6s7tnBoktcyw",
      "cell_type": "markdown",
      "source": [
        "# Numerical Precision"
      ],
      "metadata": {}
    },
    {
      "id": "KG3zmL2K_kGTNzWA2eQJvg",
      "cell_type": "code",
      "source": [
        "public const double Precision = 1E-5;"
      ],
      "metadata": {},
      "execution_count": 1,
      "outputs": []
    },
    {
      "id": "gMPLPUb7kUiJnLQWtEkkFA",
      "cell_type": "code",
      "source": [
        "public const double ProjectionPrecision = 1E-3;"
      ],
      "metadata": {},
      "execution_count": 1,
      "outputs": []
    },
    {
      "id": "gv0HnKTwuU--7Xo8e6UU2w",
      "cell_type": "code",
      "source": [
        "public const double BenchmarkPrecision = 1E-4;"
      ],
      "metadata": {},
      "execution_count": 1,
      "outputs": []
    },
    {
      "id": "gbuDd5t2Ike1Jq-lnVVIqg",
      "cell_type": "markdown",
      "source": [
        "# Time Period"
      ],
      "metadata": {}
    },
    {
      "id": "oX6yOw75DE-NwrYkdYTmzg",
      "cell_type": "code",
      "source": [
        "public const int CurrentPeriod = 0; "
      ],
      "metadata": {},
      "execution_count": 1,
      "outputs": []
    },
    {
      "id": "2XFjLebnDEWBoNCyq6lKgg",
      "cell_type": "code",
      "source": [
        "public const int PreviousPeriod = -1; "
      ],
      "metadata": {},
      "execution_count": 1,
      "outputs": []
    },
    {
      "id": "5ydvfd1abEm-CSTH-csz-g",
      "cell_type": "code",
      "source": [
        "public const int MonthInAYear = 12;"
      ],
      "metadata": {},
      "execution_count": 1,
      "outputs": []
    },
    {
      "id": "yhpv5BPDJUGKucF6Y_AVeQ",
      "cell_type": "markdown",
      "source": [
        "# Defaults"
      ],
      "metadata": {}
    },
    {
      "id": "uOfb6nvi8USI3mPOH8YvwQ",
      "cell_type": "code",
      "source": [
        "public const int DefaultDataNodeActivationMonth = 1;"
      ],
      "metadata": {},
      "execution_count": 1,
      "outputs": []
    },
    {
      "id": "ZU5IN71RqEmHfRQSSCUvnw",
      "cell_type": "code",
      "source": [
        "public const double DefaultPremiumExperienceAdjustmentFactor = 1.0;"
      ],
      "metadata": {},
      "execution_count": 1,
      "outputs": []
    },
    {
      "id": "KNUzhe58B0GBnCuZD1ATOg",
      "cell_type": "markdown",
      "source": [
        "# Names"
      ],
      "metadata": {}
    },
    {
      "id": "hZGPPDopiECnoXlB48cB2Q",
      "cell_type": "code",
      "source": [
        "public const string Main = nameof(Main);"
      ],
      "metadata": {},
      "execution_count": 1,
      "outputs": []
    },
    {
      "id": "w5Zs2AGjxkWgRQfAGs8BIA",
      "cell_type": "code",
      "source": [
        "public const string Default = nameof(Default);"
      ],
      "metadata": {},
      "execution_count": 1,
      "outputs": []
    },
    {
      "id": "jAyhudwOJkmsPwMaZM1P4g",
      "cell_type": "code",
      "source": [
        "public const string ValueType = nameof(ValueType);"
      ],
      "metadata": {},
      "execution_count": 1,
      "outputs": []
    },
    {
      "id": "Aj_qnZxiqUeFHk088tNruA",
      "cell_type": "markdown",
      "source": [
        "GroupCurrency defines the SystemName (from Currency Dimension) to be used as the Group Currency."
      ],
      "metadata": {}
    },
    {
      "id": "pvlhKSXdW0Wt3dns45SWfQ",
      "cell_type": "code",
      "source": [
        "public const string GroupCurrency = \"CHF\";"
      ],
      "metadata": {},
      "execution_count": 1,
      "outputs": []
    },
    {
      "id": "9SCJFj6zcUK_5Uczpicjjw",
      "cell_type": "markdown",
      "source": [
        "# Import Formats"
      ],
      "metadata": {}
    },
    {
      "id": "xEDrrk_AxUicpKHTSr6acA",
      "cell_type": "code",
      "source": [
        "public static class ImportFormats{",
        "\n    public const string Cashflow = nameof(Cashflow);",
        "\n    public const string Actual = nameof(Actual);",
        "\n    public const string DataNodeParameter = nameof(DataNodeParameter);",
        "\n    public const string SimpleValue = nameof(SimpleValue);",
        "\n    public const string Opening = nameof(Opening);",
        "\n}"
      ],
      "metadata": {},
      "execution_count": 1,
      "outputs": []
    },
    {
      "id": "DQHpY4V8xUOGR8L84B7DTg",
      "cell_type": "markdown",
      "source": [
        "# IFRS specific"
      ],
      "metadata": {}
    },
    {
      "id": "YjgOf6OCyUuxcwR9IhoZvA",
      "cell_type": "code",
      "source": [
        "public static class ValuationApproaches{",
        "\n    public const string BBA = nameof(BBA); //Building Block Approach",
        "\n    public const string VFA = nameof(VFA); //Variable Fee Approach",
        "\n    public const string PAA = nameof(PAA); //Premium Allocation Approach",
        "\n}"
      ],
      "metadata": {},
      "execution_count": 1,
      "outputs": []
    },
    {
      "id": "pMhVfzvrjkyXcNpx0Tn4wA",
      "cell_type": "code",
      "source": [
        "public static class LiabilityTypes{",
        "\n    public const string LRC = nameof(LRC); //Liability for Remaining Coverage",
        "\n    public const string LIC = nameof(LIC); //Liability Incurred Claims",
        "\n}"
      ],
      "metadata": {},
      "execution_count": 1,
      "outputs": []
    },
    {
      "id": "1eDEjgoZmEOfPbRzZthlTQ",
      "cell_type": "code",
      "source": [
        "public static class CalculationTypes{",
        "\n    public const string BE = nameof(BE); //Best Estimate",
        "\n    public const string CU = nameof(CU); //Coverage Units",
        "\n    public const string RA = nameof(RA); //Risk Adjustment",
        "\n}"
      ],
      "metadata": {},
      "execution_count": 1,
      "outputs": []
    },
    {
      "id": "b6cmqzNyQ0q0McHf-Rf5lw",
      "cell_type": "code",
      "source": [
        "public static class EstimateTypes{",
        "\n    public const string BE = nameof(BE); //Best Estimate",
        "\n    public const string RA = nameof(RA); //Risk Adjustment",
        "\n    public const string A = nameof(A); //Actuals",
        "\n    public const string AA = nameof(AA); //Advance Actuals",
        "\n    public const string OA = nameof(OA); //Overdue Actuals",
        "\n    public const string DA = nameof(DA); //Deferrable Actuals",
        "\n    public const string C = nameof(C); //Contractual Service Margin",
        "\n    public const string L = nameof(L); //Loss Component",
        "\n    public const string LR = nameof(LR); //Loss Recovery",
        "\n    public const string F = nameof(F); //factors",
        "\n    public const string FCF = nameof(FCF); //Fulfilment Cash flows",
        "\n    public const string BEPA = nameof(BEPA); //Experience Adjusted BE Premium to Csm",
        "\n    public const string APA = nameof(APA); //Experience Adjusted Written Actual Premium to Csm",
        "\n    public const string AAPA = nameof(AAPA); //Experience Adjusted Advance Actual Premium to Csm",
        "\n    public const string OAPA = nameof(OAPA); //Experience Adjusted Overdue Actual Premium to Csm",
        "\n}"
      ],
      "metadata": {},
      "execution_count": 1,
      "outputs": []
    },
    {
      "id": "vCJNvDF6D02HPepD8ay2pA",
      "cell_type": "code",
      "source": [
        "public static class AocTypes{",
        "\n    public const string BOP = nameof(BOP);",
        "\n    public const string MC  = nameof(MC);",
        "\n    public const string RCU  = nameof(RCU);",
        "\n    public const string CF  = nameof(CF);",
        "\n    public const string IA  = nameof(IA);",
        "\n    public const string YCU  = nameof(YCU);",
        "\n    public const string CRU  = nameof(CRU);",
        "\n    public const string WO  = nameof(WO);",
        "\n    public const string EV  = nameof(EV);",
        "\n    public const string CL  = nameof(CL);",
        "\n    public const string EA  = nameof(EA);",
        "\n    public const string AM  = nameof(AM);",
        "\n    public const string FX  = nameof(FX);",
        "\n    public const string EOP = nameof(EOP);",
        "\n}"
      ],
      "metadata": {},
      "execution_count": 1,
      "outputs": []
    },
    {
      "id": "OE45Je2KUk6WlHo9upd5fA",
      "cell_type": "code",
      "source": [
        "public static class Novelties{",
        "\n    public const string I = nameof(I); //In-Force",
        "\n    public const string N = nameof(N); //New Business",
        "\n    public const string C = nameof(C); //All Novelties Combined",
        "\n}"
      ],
      "metadata": {},
      "execution_count": 1,
      "outputs": []
    },
    {
      "id": "BUPmJSTjdkuP8nR7MJyQiw",
      "cell_type": "code",
      "source": [
        "public static class EconomicBases{",
        "\n    public const string L = nameof(L); //Locked Interest Rates",
        "\n    public const string C = nameof(C); //Current Interest Rates",
        "\n    public const string N = nameof(N); //Nominal Interest Rates",
        "\n}"
      ],
      "metadata": {},
      "execution_count": 1,
      "outputs": []
    },
    {
      "id": "-cRhXT5tKE-834Umpyaudw",
      "cell_type": "code",
      "source": [
        "public static class AmountTypes{",
        "\n    public const string ACA = nameof(ACA); //Attributable Commissions Acquisition",
        "\n    public const string AEA = nameof(AEA); //Attributable Expenses Acquisition",
        "\n    public const string CDR = nameof(CDR); //Credit Default Risk",
        "\n    public const string CL = nameof(CL);   //Claims",
        "\n    public const string PR = nameof(PR);   //Premiums",
        "\n    public const string NIC = nameof(NIC); //Claims Non-Investment component",
        "\n    public const string ICO = nameof(ICO); //Claims Investment component",
        "\n    public const string NE = nameof(NE);   //Non Attributable Expenses",
        "\n    public const string ACM = nameof(ACM); //Attributable Commissions Maintenance",
        "\n    public const string AEM = nameof(AEM); //Attributable Expenses Maintenance",
        "\n    public const string AC = nameof(AC); //Attributable Commissions",
        "\n    public const string AE = nameof(AE); //Attributable Expenses",
        "\n}"
      ],
      "metadata": {},
      "execution_count": 1,
      "outputs": []
    },
    {
      "id": "e33hFwGm9kmVNOsShmvn4w",
      "cell_type": "markdown",
      "source": [
        "# Insurance specific"
      ],
      "metadata": {}
    },
    {
      "id": "9n2de6iCUEKECrkoUtSuiw",
      "cell_type": "code",
      "source": [
        "public static class LineOfBusinesses{",
        "\n    public const string LI = nameof(LI); //Life",
        "\n    public const string NL = nameof(NL); //Non-Life",
        "\n}"
      ],
      "metadata": {},
      "execution_count": 1,
      "outputs": []
    }
  ]
}