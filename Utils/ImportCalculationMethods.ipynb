{
  "metadata": {
    "toc-showcode": "False",
    "language_info": {
      "file_extension": ".cs",
      "mimetype": "text/plain",
      "name": "C#"
    },
    "authors": [],
    "kernelspec": {
      "display_name": "Formula Framework",
      "language": "C#",
      "name": "C#"
    },
    "toc-autonumbering": "True"
  },
  "nbformat": 4,
  "nbformat_minor": 5,
  "cells": [
    {
      "id": "72RJn3yBk0-cdIRCo3QO6A",
      "cell_type": "code",
      "source": [
        "#!import \"./Extensions\""
      ],
      "metadata": {},
      "execution_count": 1,
      "outputs": []
    },
    {
      "id": "cq_4STuakk6krLbs6TZ4yg",
      "cell_type": "markdown",
      "source": [
        "# Get Previous Identities"
      ],
      "metadata": {}
    },
    {
      "id": "XYOo4uHfnkeKWMF_MQ5r-Q",
      "cell_type": "code",
      "source": [
        "public static Dictionary<AocStep,IEnumerable<AocStep>> GetPreviousIdentities(IEnumerable<AocStep> identities)",
        "\n{",
        "\n    var bopNovelties = identities.Where(id => id.AocType == AocTypes.BOP).Select(id => id.Novelty);",
        "\n    var previousStep = (new string[]{Novelties.N,Novelties.I,Novelties.C})",
        "\n                                        .ToDictionary(n => n, n => bopNovelties.Contains(n) ? new AocStep(AocTypes.BOP,n) : null);",
        "\n    return identities.Where(id =>  id.AocType != AocTypes.BOP)",
        "\n                                .ToDictionary(x => x, x => {var ret = x.AocType == AocTypes.CL ? previousStep.Where(kvp => kvp.Value != null).Select(kvp => kvp.Value).ToArray() ",
        "\n                                                                                               : previousStep[x.Novelty].RepeatOnce();",
        "\n                                                            previousStep[x.Novelty] = new AocStep(x.AocType, x.Novelty);",
        "\n                                                            return ret;});",
        "\n}"
      ],
      "metadata": {},
      "execution_count": 1,
      "outputs": []
    },
    {
      "id": "XbcZgL57GUy04M44loxF-g",
      "cell_type": "markdown",
      "source": [
        "# Get Reference AocStep for calculated steps"
      ],
      "metadata": {}
    },
    {
      "id": "MLNCUWgSAkyrA-DMWc-JpQ",
      "cell_type": "code",
      "source": [
        "public static AocStep GetReferenceAocStepForCalculated(this IEnumerable<AocStep> identities, Dictionary<AocStep, AocConfiguration> aocConfigurationByAocStep, AocStep identityAocStep)",
        "\n{",
        "\n    return identities.LastOrDefault(aocStep => aocConfigurationByAocStep[aocStep].DataType != DataType.Calculated",
        "\n                                            && aocConfigurationByAocStep[aocStep].DataType != DataType.CalculatedTelescopic",
        "\n                                            && aocConfigurationByAocStep[aocStep].Order < aocConfigurationByAocStep[identityAocStep].Order",
        "\n                                            && aocStep.Novelty == identityAocStep.Novelty) ",
        "\n        ?? new AocStep(default, default);",
        "\n}"
      ],
      "metadata": {},
      "execution_count": 1,
      "outputs": []
    },
    {
      "id": "9OeFmvwQJECtzHY6Dg8Yzw",
      "cell_type": "markdown",
      "source": [
        "# Discount and Cumulate"
      ],
      "metadata": {}
    },
    {
      "id": "Ajyhr4n0106OnU6fEIdL5g",
      "cell_type": "code",
      "source": [
        "public static double[] ComputeDiscountAndCumulate(this double[] nominalValues, double[] monthlyDiscounting, PeriodType periodType) ",
        "\n{ ",
        "\n    if(nominalValues == null) return Enumerable.Empty<double>().ToArray();",
        "\n    ",
        "\n    var ret = new double[nominalValues.Length];",
        "\n    ",
        "\n    if(periodType == PeriodType.BeginningOfPeriod)",
        "\n    {",
        "\n        for (var i = nominalValues.Length - 1; i >= 0; i--)",
        "\n                ret[i] = nominalValues[i] + GetElementOrDefault(ret, i + 1) * GetElementOrDefault(monthlyDiscounting, i/12);",
        "\n        return ret;",
        "\n    }",
        "\n    ",
        "\n    for (var i = nominalValues.Length - 1; i >= 0; i--)",
        "\n                ret[i] = ( nominalValues[i] + GetElementOrDefault(ret, i + 1) ) * GetElementOrDefault(monthlyDiscounting, i/12);",
        "\n    ",
        "\n    return ret;",
        "\n}"
      ],
      "metadata": {},
      "execution_count": 1,
      "outputs": []
    },
    {
      "id": "LoqMwHfd8kOJYFyQxw5KNQ",
      "cell_type": "code",
      "source": [
        "public static double[] ComputeDiscountAndCumulateWithCreditDefaultRisk(this double[] nominalValues, double[] monthlyDiscounting, double nonPerformanceRiskRate) //Is it correct that NonPerformanceRiskRate is a double? Should it be an array that takes as input tau/t?",
        "\n{ ",
        "\n    return Enumerable.Range(0, nominalValues.Length)",
        "\n                     .Select( t => Enumerable.Range(t, nominalValues.Length-t)",
        "\n                                             .Select( tau => nominalValues[tau] * Math.Pow(GetElementOrDefault(monthlyDiscounting, t/12), tau-t+1) * (Math.Exp(-nonPerformanceRiskRate*(tau-t)) - 1) )",
        "\n                                             .Sum() )",
        "\n                     .ToArray();",
        "\n}"
      ],
      "metadata": {},
      "execution_count": 1,
      "outputs": []
    },
    {
      "id": "Y9wSV5wvy0mvkCNsCiRmlQ",
      "cell_type": "markdown",
      "source": [
        "# Import Configuration "
      ],
      "metadata": {}
    },
    {
      "id": "11et4IQ_0US7mUdWWNnouw",
      "cell_type": "markdown",
      "source": [
        "## Data Nodes"
      ],
      "metadata": {}
    },
    {
      "id": "fd6J9NnbXkmWF-7Qi2FmWA",
      "cell_type": "code",
      "source": [
        "public GroupOfInsuranceContract ExtendGroupOfContract(GroupOfInsuranceContract gic, IDataRow datarow) => gic;"
      ],
      "metadata": {},
      "execution_count": 1,
      "outputs": []
    },
    {
      "id": "z4UEzk2bPEOGnwoC6UN3pg",
      "cell_type": "code",
      "source": [
        "public GroupOfReinsuranceContract ExtendGroupOfContract(GroupOfReinsuranceContract gric, IDataRow datarow) => gric;"
      ],
      "metadata": {},
      "execution_count": 1,
      "outputs": []
    },
    {
      "id": "fba78eb8-78f7-459a-86a3-f9b9551c640b",
      "cell_type": "markdown",
      "source": [
        "## Change Sign Rules"
      ],
      "metadata": {}
    },
    {
      "id": "Uv2X9RT3wkKLJvMvooTbSw",
      "cell_type": "code",
      "source": [
        "public static int GetSign((string AocType, string AmountType, string EstimateType, bool IsReinsurance) variable, Systemorph.Vertex.Hierarchies.IHierarchicalDimensionCache hierarchyCache)",
        "\n{",
        "\n    var isActual = (new string[] { EstimateTypes.AA, EstimateTypes.OA, EstimateTypes.A }).Contains(variable.EstimateType) ? -1 : 1;",
        "\n    return isActual;",
        "\n}"
      ],
      "metadata": {},
      "execution_count": 1,
      "outputs": []
    },
    {
      "id": "cd9655ea-d0f3-427d-b382-3a86550891dd",
      "cell_type": "markdown",
      "source": [
        "## EstimateType And AmountType"
      ],
      "metadata": {}
    },
    {
      "id": "2c93206a-a36a-4796-8e9b-82aa1b3dfc07",
      "cell_type": "code",
      "source": [
        "public static Dictionary<string, HashSet<string>> GetAmountTypesByEstimateType(Systemorph.Vertex.Hierarchies.IHierarchicalDimensionCache hierarchyCache)",
        "\n{",
        "\n    return new Dictionary<string, HashSet<string>>(){",
        "\n        {EstimateTypes.RA, new string[]{}.ToHashSet()},",
        "\n        {EstimateTypes.C, new string[]{}.ToHashSet()},",
        "\n        {EstimateTypes.L, new string[]{}.ToHashSet()},",
        "\n        {EstimateTypes.LR, new string[]{}.ToHashSet()},",
        "\n   };",
        "\n}"
      ],
      "metadata": {},
      "execution_count": 1,
      "outputs": []
    },
    {
      "id": "f5d1fda3-d7ec-458d-9b31-e78424fbd734",
      "cell_type": "markdown",
      "source": [
        "## Technical Margin EstimateType"
      ],
      "metadata": {}
    },
    {
      "id": "fd397824-4205-44fb-9f8c-b7e066d592f7",
      "cell_type": "code",
      "source": [
        "public static HashSet<string> GetTechnicalMarginEstimateType()",
        "\n{",
        "\n    return new []{EstimateTypes.C, EstimateTypes.L, EstimateTypes.LR, }.ToHashSet();",
        "\n}"
      ],
      "metadata": {},
      "execution_count": 1,
      "outputs": []
    }
  ]
}