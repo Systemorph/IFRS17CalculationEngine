{
  "metadata": {
    "language_info": {
      "file_extension": ".cs",
      "mimetype": "text/plain",
      "name": "C#"
    },
    "authors": [],
    "kernelspec": {
      "display_name": "Formula Framework",
      "language": "C#",
      "name": "C#"
    },
    "toc-autonumbering": "True",
    "toc-showcode": "False"
  },
  "nbformat": 4,
  "nbformat_minor": 5,
  "cells": [
    {
      "id": "72RJn3yBk0-cdIRCo3QO6A",
      "cell_type": "code",
      "source": [
        "#!import \"./Extensions\""
      ],
      "metadata": {},
      "execution_count": 1,
      "outputs": []
    },
    {
      "id": "bTXVV8ziO0GApQeS_y9z3Q",
      "cell_type": "code",
      "source": [
        "using System.Linq.Expressions;"
      ],
      "metadata": {},
      "execution_count": 1,
      "outputs": []
    },
    {
      "id": "ekflioBoz0ukcAPWv4xRtQ",
      "cell_type": "markdown",
      "source": [
        "# Exchange Rates"
      ],
      "metadata": {}
    },
    {
      "id": "B24vyYMc9kOlNnSUAfEHGQ",
      "cell_type": "code",
      "source": [
        "public static async Task<Dictionary<string, Dictionary<FxPeriod, double>>> GetExchangeRatesDictionaryAsync(this IQuerySource querySource, int year, int month)",
        "\n    => (await querySource.Query<ExchangeRate>()",
        "\n    .Where(x => x.Year == year - 1 && x.Month == MonthInAYear && x.FxType == FxType.Spot ||",
        "\n                x.Year == year && x.Month == month)",
        "\n    .ToArrayAsync())",
        "\n    .ToDictionaryGrouped(x => x.Currency,",
        "\n                         x => x.ToDictionary(y => (y.Year, y.Month, y.FxType) switch",
        "\n                                             {",
        "\n                                                 (_, _, _) when y.Year == year - 1 && y.Month == MonthInAYear && y.FxType == FxType.Spot    => FxPeriod.BeginningOfPeriod,",
        "\n                                                 (_, _, _) when y.Year == year     && y.Month == month        && y.FxType == FxType.Average => FxPeriod.Average,",
        "\n                                                 (_, _, _) when y.Year == year     && y.Month == month        && y.FxType == FxType.Spot    => FxPeriod.EndOfPeriod",
        "\n                                             },",
        "\n                                             y => y.FxToGroupCurrency));"
      ],
      "metadata": {},
      "execution_count": 1,
      "outputs": []
    },
    {
      "id": "hcDcg_DFUEOgLrrWw8cE2g",
      "cell_type": "markdown",
      "source": [
        "# Current and Previous Parameters"
      ],
      "metadata": {}
    },
    {
      "id": "X01D1mGxS06sfFEPjwyG-A",
      "cell_type": "code",
      "source": [
        "public static async Task<T[]> LoadParameterAsync<T>(",
        "\n    this IQuerySource querySource,",
        "\n    int year,",
        "\n    int month,",
        "\n    Expression<Func<T, bool>> filterExpression = null ) ",
        "\n    where T : IWithYearAndMonth",
        "\n{",
        "\n    return await querySource.Query<T>()",
        "\n                     .Where(x => x.Year == year && x.Month <= month || x.Year < year)",
        "\n                     .Where(filterExpression?? (Expression<Func<T, bool>>)(x => true))",
        "\n                     .ToArrayAsync();",
        "\n}"
      ],
      "metadata": {},
      "execution_count": 1,
      "outputs": []
    },
    {
      "id": "sKO5N-LgyEGBEZam7l9_Fg",
      "cell_type": "code",
      "source": [
        "public static async Task<Dictionary<string, T>> LoadCurrentParameterAsync<T> (",
        "\n    this IQuerySource querySource,",
        "\n    Args args,",
        "\n    Func<T, string> identityExpression,",
        "\n    Expression<Func<T, bool>> filterExpression = null ) ",
        "\n    where T : IWithYearAndMonth",
        "\n{",
        "\n    return (await querySource.LoadParameterAsync<T>(args.Year, args.Month, filterExpression))",
        "\n                    .GroupBy(identityExpression)",
        "\n                    .Select(y => y.OrderByDescending(x => x.Year)",
        "\n                                  .ThenByDescending(x => x.Month)",
        "\n                                  .FirstOrDefault())",
        "\n                    .ToDictionary(identityExpression);",
        "\n}"
      ],
      "metadata": {},
      "execution_count": 1,
      "outputs": []
    },
    {
      "id": "I0M5hxr91UGl2zNnwXzW-g",
      "cell_type": "code",
      "source": [
        "public static async Task<Dictionary<string, Dictionary<int, T>>> LoadCurrentAndPreviousParameterAsync<T> (",
        "\n    this IQuerySource querySource,",
        "\n    Args args,",
        "\n    Func<T, string> identityExpression,",
        "\n    Expression<Func<T, bool>> filterExpression = null ) ",
        "\n    where T : IWithYearAndMonth",
        "\n{",
        "\n    var parameters = (await querySource.LoadParameterAsync<T>(args.Year, args.Month, filterExpression)).GroupBy(identityExpression);",
        "\n                                         ",
        "\n    var ret = new Dictionary<string, Dictionary<int, T>>();",
        "\n    foreach(var p in parameters)",
        "\n    {",
        "\n        var inner = ret.GetOrAdd(p.Key, _ => new Dictionary<int, T>());",
        "\n",
        "\n        var currentCandidate = p.Where(x => x.Year == args.Year).OrderByDescending(x => x.Month).FirstOrDefault();",
        "\n        var previousCandidate = p.Where(x => x.Year < args.Year).OrderByDescending(x => x.Year).ThenByDescending(x => x.Month).FirstOrDefault();",
        "\n    ",
        "\n        inner.Add(CurrentPeriod, currentCandidate != null ? currentCandidate : previousCandidate);",
        "\n        inner.Add(PreviousPeriod, previousCandidate != null ? previousCandidate : currentCandidate);",
        "\n    }",
        "\n    return ret;",
        "\n}"
      ],
      "metadata": {},
      "execution_count": 1,
      "outputs": []
    },
    {
      "id": "UMrZ966740-j48yfqsXM2g",
      "cell_type": "markdown",
      "source": [
        "<a id='yield-curve'></a>",
        "\n# Yield Curve"
      ],
      "metadata": {}
    },
    {
      "id": "7c3a22e8-d903-400a-8edc-7119b7d84581",
      "cell_type": "markdown",
      "source": [
        "## Locked-in"
      ],
      "metadata": {}
    },
    {
      "id": "qcQgXJr-l0Gql-aOiCdRrQ",
      "cell_type": "code",
      "source": [
        "public static async Task<Dictionary<string, YieldCurve>> LoadLockedInYieldCurveAsync(this IQuerySource querySource, Args args, ",
        "\n                                                                                                       IEnumerable<DataNodeData> dataNodes)",
        "\n{",
        "\n    var lockedInYieldCurveByGoc = new Dictionary<string, YieldCurve>();",
        "\n    foreach (var dn in dataNodes.Where(x => x.ValuationApproach == ValuationApproaches.BBA))",
        "\n    {",
        "\n        var argsNew = args with {Year = dn.Year, Month = dn.Month};",
        "\n        var loadedYc = (await querySource.LoadCurrentParameterAsync<YieldCurve>(argsNew, x => x.Currency, x => x.Currency == dn.ContractualCurrency));",
        "\n        ",
        "\n        if(!loadedYc.TryGetValue(dn.ContractualCurrency, out var lockedYc))",
        "\n            ApplicationMessage.Log(Error.YieldCurveNotFound, dn.ContractualCurrency, argsNew.Year.ToString(), argsNew.Month.ToString());",
        "\n            ",
        "\n        lockedInYieldCurveByGoc[dn.DataNode] = lockedYc;",
        "\n    }",
        "\n    ",
        "\n    return lockedInYieldCurveByGoc;",
        "\n}"
      ],
      "metadata": {},
      "execution_count": 1,
      "outputs": []
    },
    {
      "id": "dfe389ad-2cd1-4eb8-ac4c-8ee3fe1a59bd",
      "cell_type": "markdown",
      "source": [
        "## Current"
      ],
      "metadata": {}
    },
    {
      "id": "mkhcBCMjAku6Fqv8M8fhmg",
      "cell_type": "code",
      "source": [
        "public static async Task<Dictionary<string, Dictionary<int, YieldCurve>>> LoadCurrentYieldCurveAsync(this IQuerySource querySource, Args args, ",
        "\n                                                                                                      IEnumerable<DataNodeData> dataNodes)",
        "\n{",
        "\n    var contractualCurrenciesInScope = dataNodes.Select(dn => dn.ContractualCurrency).ToHashSet();",
        "\n    return (await querySource.LoadCurrentAndPreviousParameterAsync<YieldCurve>(args, ",
        "\n                                                                               x => x.Currency,",
        "\n                                                                               x => contractualCurrenciesInScope.Contains(x.Currency)",
        "\n                                                                               ));",
        "\n}"
      ],
      "metadata": {},
      "execution_count": 1,
      "outputs": []
    },
    {
      "id": "11r0X9aBAUKWja2qSlbOWQ",
      "cell_type": "markdown",
      "source": [
        "# Data Node State"
      ],
      "metadata": {}
    },
    {
      "id": "ineEPRxhfkOAuclOvhZ1lw",
      "cell_type": "code",
      "source": [
        "//TODO : remove this method and clean up in queriesTest. We need a new test for LoadDataNodes.",
        "\npublic static async Task<Dictionary<string, DataNodeState>> LoadDataNodeStateAsync(this IQuerySource querySource, Args args)",
        "\n{",
        "\n    //This querySource is partitioned",
        "\n    return (await querySource.LoadCurrentAndPreviousParameterAsync<DataNodeState>(args, x => x.DataNode))",
        "\n                             .Where(x => x.Value[CurrentPeriod].State != State.Inactive)",
        "\n                             .ToDictionary(x => x.Key, x => x.Value[CurrentPeriod]);",
        "\n}"
      ],
      "metadata": {},
      "execution_count": 1,
      "outputs": []
    },
    {
      "id": "B1n-fWXBi0GL93ngrSSRbQ",
      "cell_type": "markdown",
      "source": [
        "# Data Nodes"
      ],
      "metadata": {}
    },
    {
      "id": "jdq7blDf4U6-pmv3CMUQTQ",
      "cell_type": "code",
      "source": [
        "// TODO: the name of this method is strange, one expects DataNodes in return but instead obtains DataNodeData...",
        "\npublic static async Task<Dictionary<string, DataNodeData>> LoadDataNodesAsync(this IQuerySource querySource, Args args) //How do we force the user to provide here a partitioned source? IWorkspace?",
        "\n{",
        "\n    var dataNodeStates = await querySource.LoadCurrentAndPreviousParameterAsync<DataNodeState>(args, x => x.DataNode);",
        "\n    var activeDataNodes = dataNodeStates.Where(kvp => kvp.Value[CurrentPeriod].State != State.Inactive).Select(kvp => kvp.Key);",
        "\n    ",
        "\n    return (await querySource.Query<GroupOfContract>().Where(dn => activeDataNodes.Contains(dn.SystemName)).ToArrayAsync())",
        "\n                            .ToDictionary(dn => dn.SystemName, dn => {",
        "\n                                                                      var dnCurrentState = dataNodeStates[dn.SystemName][CurrentPeriod];",
        "\n                                                                      var dnPreviousState = dataNodeStates[dn.SystemName][PreviousPeriod];",
        "\n                                                                      return new DataNodeData(){Year = dnPreviousState.Year, ",
        "\n                                                                                                  Month = dnPreviousState.Month,",
        "\n                                                                                                  State = dnCurrentState.State,",
        "\n                                                                                                  PreviousState = dnPreviousState.State,",
        "\n                                                                                                  //from Group of Contract",
        "\n                                                                                                  DataNode = dn.SystemName,",
        "\n                                                                                                  ContractualCurrency  = dn.ContractualCurrency,",
        "\n                                                                                                  FunctionalCurrency  = dn.FunctionalCurrency,",
        "\n                                                                                                  LineOfBusiness  = dn.LineOfBusiness,",
        "\n                                                                                                  ValuationApproach  = dn.ValuationApproach,",
        "\n                                                                                                  OciType  = dn.OciType,",
        "\n                                                                                                  Portfolio  = dn.Portfolio,",
        "\n                                                                                                  AnnualCohort  = dn.AnnualCohort,",
        "\n                                                                                                  LiabilityType  = dn.LiabilityType,",
        "\n                                                                                                  Profitability  = dn.Profitability,",
        "\n                                                                                                  Partner  = dn.Partner,",
        "\n                                                                                                  IsReinsurance  = dn.GetType() == typeof(GroupOfReinsuranceContract),",
        "\n                                                                                                  };",
        "\n                                                                     }",
        "\n                                         );",
        "\n}"
      ],
      "metadata": {},
      "execution_count": 1,
      "outputs": []
    },
    {
      "id": "o0-QY0CD_U6QtHo8DUg-XA",
      "cell_type": "markdown",
      "source": [
        "# Data Node Parameters"
      ],
      "metadata": {}
    },
    {
      "id": "u2AAh0Om8k-FVnzV99qeXw",
      "cell_type": "markdown",
      "source": [
        "## Single data Node"
      ],
      "metadata": {}
    },
    {
      "id": "fGw6yDyGdkGSnMtEzlCWNg",
      "cell_type": "code",
      "source": [
        "public static async Task<Dictionary<string, Dictionary<int, SingleDataNodeParameter>>> LoadSingleDataNodeParametersAsync(this IQuerySource querySource, Args args)",
        "\n{",
        "\n    return await querySource.LoadCurrentAndPreviousParameterAsync<SingleDataNodeParameter>(args, x => x.DataNode);",
        "\n}"
      ],
      "metadata": {},
      "execution_count": 1,
      "outputs": []
    },
    {
      "id": "fqKznL41TkGOYs41YCJkIw",
      "cell_type": "markdown",
      "source": [
        "## Inter data Node"
      ],
      "metadata": {}
    },
    {
      "id": "9TJH-kJoTEmIucE-PjX7sw",
      "cell_type": "code",
      "source": [
        "public static async Task<Dictionary<string, Dictionary<int, HashSet<InterDataNodeParameter>>>> LoadInterDataNodeParametersAsync(this IQuerySource querySource, Args args)",
        "\n{",
        "\n    var identityExpressions = new Func<InterDataNodeParameter, string>[]{x => x.DataNode, x => x.LinkedDataNode,};",
        "\n    var parameterArray = (await querySource.LoadParameterAsync<InterDataNodeParameter>(args.Year, args.Month));",
        "\n    var parameters = identityExpressions.SelectMany(ie => parameterArray.GroupBy(ie));",
        "\n                                         ",
        "\n    return parameters.SelectMany(p => p",
        "\n                                 .GroupBy(x => x.DataNode != p.Key ? x.DataNode : x.LinkedDataNode)",
        "\n                                 .Select(gg =>",
        "\n                                         {",
        "\n                                             var currentCandidate = gg.Where(x => x.Year == args.Year).OrderByDescending(x => x.Month).FirstOrDefault();",
        "\n                                             var previousCandidate = gg.Where(x => x.Year < args.Year).OrderByDescending(x => x.Year).ThenByDescending(x => x.Month).FirstOrDefault();",
        "\n                                             return (key: p.Key,",
        "\n                                                     currentPeriod: currentCandidate != null ? currentCandidate : previousCandidate,",
        "\n                                                     previousPeriod: previousCandidate != null ? previousCandidate : currentCandidate);",
        "\n                                         })",
        "\n                                )",
        "\n        .ToDictionaryGrouped(x => x.key,",
        "\n                             x => new Dictionary<int, HashSet<InterDataNodeParameter>>{ {CurrentPeriod, x.Select(y => y.currentPeriod).ToHashSet()},",
        "\n                                                                                       {PreviousPeriod, x.Select(y => y.previousPeriod).ToHashSet()}});",
        "\n}"
      ],
      "metadata": {},
      "execution_count": 1,
      "outputs": []
    },
    {
      "id": "m5W0i-9h_USmOALgfJ5ynw",
      "cell_type": "markdown",
      "source": [
        "# Aoc Step Configuration"
      ],
      "metadata": {}
    },
    {
      "id": "foNau3wankChqmtvuPVxmw",
      "cell_type": "code",
      "source": [
        "public static async Task<IEnumerable<AocConfiguration>> LoadAocStepConfigurationAsync(this IQuerySource querySource, int year, int month)",
        "\n    => (await querySource.LoadParameterAsync<AocConfiguration>(year, month))",
        "\n            .GroupBy(x => (x.AocType, x.Novelty), ",
        "\n                    (k, v) => v.OrderByDescending(x => x.Year).ThenByDescending(x => x.Month).First()); "
      ],
      "metadata": {},
      "execution_count": 1,
      "outputs": []
    },
    {
      "id": "u2cguHXQ-kyIKbXgTS6P_g",
      "cell_type": "code",
      "source": [
        "public static async Task<Dictionary<AocStep, AocConfiguration>> LoadAocStepConfigurationAsDictionaryAsync(this IQuerySource querySource, int year, int month) ",
        "\n    => (await querySource.LoadAocStepConfigurationAsync(year, month))",
        "\n            .ToDictionary(x => new AocStep(x.AocType, x.Novelty)); "
      ],
      "metadata": {},
      "execution_count": 1,
      "outputs": []
    },
    {
      "id": "6k1Zt47Wtk6cltgFOwSPXQ",
      "cell_type": "code",
      "source": [
        ""
      ],
      "metadata": {},
      "execution_count": 1,
      "outputs": []
    }
  ]
}