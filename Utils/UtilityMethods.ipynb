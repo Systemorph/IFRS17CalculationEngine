{
    "metadata": {
        "authors": [],
        "kernelspec": {
            "display_name": "Formula Framework",
            "language": "C#",
            "name": "C#"
        },
        "language_info": {
            "file_extension": ".cs",
            "mimetype": "text/plain",
            "name": "C#"
        },
        "toc-autonumbering": "True",
        "toc-showcode": "False"
    },
    "nbformat": 4,
    "nbformat_minor": 5,
    "cells": [
        {
            "cell_type": "code",
            "source": [
                "#!import \"../DataModel/DataStructure\"",
                "\n#!import \"./ApplicationMessage\""
            ]
        },
        {
            "cell_type": "code",
            "source": [
                "using System.Linq.Expressions;"
            ]
        },
        {
            "cell_type": "markdown",
            "source": [
                "# Math Functions"
            ]
        },
        {
            "cell_type": "code",
            "source": [
                "static double DivideOrDefault(double numerator, double denominator, double defaultValue = default) => Math.Abs(denominator) > double.Epsilon ? numerator / denominator : defaultValue;"
            ]
        },
        {
            "cell_type": "code",
            "source": [
                "// because the default(T) is something else than the first/last element. What about \"static T GetValidElement<T>(this IList<T> array, int index)\"? ",
                "\nstatic T GetElementOrDefault<T>(this ICollection<T> array, int index)",
                "\n{   ",
                "\n    var count = array.Count;",
                "\n    if (array == null || count == 0)",
                "\n        return default(T);",
                "\n",
                "\n    return index < 0",
                "\n               ? array.ElementAt(0) // should this case be removed?",
                "\n               : index < count",
                "\n                   ? array.ElementAt(index)",
                "\n                   : array.ElementAt(count -1);",
                "\n}"
            ]
        },
        {
            "cell_type": "markdown",
            "source": [
                "# Enumerable Extensions"
            ]
        },
        {
            "cell_type": "code",
            "source": [
                "public static Dictionary<TKey, TResult> ToDictionaryGrouped<TSource, TKey, TResult>(this IEnumerable<TSource> source, Func<TSource, TKey> keySelector, Func<IGrouping<TKey, TSource>, TResult> elementSelector) => source.GroupBy(keySelector).ToDictionary(g => g.Key, elementSelector);"
            ]
        },
        {
            "cell_type": "code",
            "source": [
                "public static IDataCube<TTarget> SelectToDataCube<TSource, TTarget>(this IEnumerable<TSource> source, Func<TSource, bool> whereClause, Func<TSource, TTarget> selector) => source.Where(whereClause).Select(selector).ToDataCube();"
            ]
        },
        {
            "cell_type": "code",
            "source": [
                "public static IDataCube<TTarget> SelectToDataCube<TSource, TTarget>(this IEnumerable<TSource> source, Func<TSource, TTarget> selector) => source.SelectToDataCube(x => true, selector);"
            ]
        },
        {
            "cell_type": "code",
            "source": [
                "public static double[] Prune (this IEnumerable<double> source, double precision = Precision) => source.Reverse().SkipWhile(x => Math.Abs(x) < precision).Reverse().ToArray();"
            ]
        },
        {
            "cell_type": "markdown",
            "source": [
                "# String Extensions"
            ]
        },
        {
            "cell_type": "code",
            "source": [
                "using System.Globalization;"
            ]
        },
        {
            "cell_type": "code",
            "source": [
                "public static double CheckStringForExponentialAndConvertToDouble (this string s)",
                "\n{   ",
                "\n    if (s == null) return default;",
                "\n    if (double.TryParse(s, NumberStyles.Number, CultureInfo.InvariantCulture, out var doubleValue)) return doubleValue;",
                "\n    else { ApplicationMessage.Log(Error.ParsingScientificNotation, s); return 1; }",
                "\n}"
            ]
        },
        {
            "cell_type": "markdown",
            "source": [
                "# Enum Extentions"
            ]
        },
        {
            "cell_type": "code",
            "source": [
                "public static bool Contains<T>(this T value, T lookingForFlag) ",
                "\n    where T : struct",
                "\n{",
                "\n    int intValue = (int) (object) value;",
                "\n    int intLookingForFlag = (int) (object) lookingForFlag;",
                "\n    return ((intValue & intLookingForFlag) == intLookingForFlag);",
                "\n}"
            ]
        },
        {
            "cell_type": "markdown",
            "source": [
                "# Queries"
            ]
        },
        {
            "cell_type": "markdown",
            "source": [
                "## FX"
            ]
        },
        {
            "cell_type": "code",
            "source": [
                "public static async Task<Dictionary<string, Dictionary<FxPeriod, double>>> GetExchangeRatesDictionaryAsync(this IQuerySource querySource, int year, int month)",
                "\n    => (await querySource.Query<ExchangeRate>()",
                "\n    .Where(x => x.Year == year - 1 && x.Month == MonthInAYear && x.FxType == FxType.Spot ||",
                "\n                x.Year == year && x.Month == month)",
                "\n    .ToArrayAsync())",
                "\n    .ToDictionaryGrouped(x => x.Currency,",
                "\n                         x => x.ToDictionary(y => (y.Year, y.Month, y.FxType) switch",
                "\n                                             {",
                "\n                                                 (_, _, _) when y.Year == year - 1 && y.Month == MonthInAYear && y.FxType == FxType.Spot    => FxPeriod.BeginningOfPeriod,",
                "\n                                                 (_, _, _) when y.Year == year     && y.Month == month        && y.FxType == FxType.Average => FxPeriod.Average,",
                "\n                                                 (_, _, _) when y.Year == year     && y.Month == month        && y.FxType == FxType.Spot    => FxPeriod.EndOfPeriod",
                "\n                                             },",
                "\n                                             y => y.FxToGroupCurrency));"
            ]
        },
        {
            "cell_type": "code",
            "source": [
                "public static double GetCurrencyToGroupFx(Dictionary<string, Dictionary<FxPeriod, double>> exchangeRates, string currency, FxPeriod fxPeriod, string groupCurrency)",
                "\n{",
                "\n    if(currency == groupCurrency)",
                "\n      return 1;",
                "\n",
                "\n    if(!exchangeRates.TryGetValue(currency, out var currencyToGroup))",
                "\n      ApplicationMessage.Log(Error.ExchangeRateCurrency, currency);",
                "\n",
                "\n    if(!currencyToGroup.TryGetValue(fxPeriod, out var currencyToGroupFx))",
                "\n      ApplicationMessage.Log(Error.ExchangeRateNotFound, currency, fxPeriod.ToString());",
                "\n",
                "\n    return currencyToGroupFx;",
                "\n}"
            ]
        },
        {
            "cell_type": "markdown",
            "source": [
                "## Current and Previous Parameters"
            ]
        },
        {
            "cell_type": "markdown",
            "source": [
                "<b>TODOs:</b>",
                "\n<ul>",
                "\n<li> DataNodes Query: After merging with the new import storage, define IsFirstPeriod property.</li>",
                "\n<li> Once Scenario is defined as a simple property (e.g. in DataNodeState), introduce concept of Priority in LoadCurrentAndPreviousParameterAsync query (see ParameterResultsEntityQueryExtensions in IfrsGeneric).</li>",
                "\n</ul>"
            ]
        },
        {
            "cell_type": "code",
            "source": [
                "public static async Task<T[]> LoadParameterAsync<T>(",
                "\n    this IQuerySource querySource,",
                "\n    int year,",
                "\n    int month,",
                "\n    Expression<Func<T, bool>> filterExpression = null ) ",
                "\n    where T : IWithYearAndMonth",
                "\n{",
                "\n    return await querySource.Query<T>()",
                "\n                     .Where(x => x.Year == year && x.Month <= month || x.Year < year)",
                "\n                     .Where(filterExpression?? (Expression<Func<T, bool>>)(x => true))",
                "\n                     .ToArrayAsync();",
                "\n}"
            ]
        },
        {
            "cell_type": "code",
            "source": [
                "public static async Task<Dictionary<string, T>> LoadCurrentParameterAsync<T> (",
                "\n    this IQuerySource querySource,",
                "\n    Args args,",
                "\n    Func<T, string> identityExpression,",
                "\n    Expression<Func<T, bool>> filterExpression = null ) ",
                "\n    where T : IWithYearAndMonth",
                "\n{",
                "\n    return (await querySource.LoadParameterAsync<T>(args.Year, args.Month, filterExpression))",
                "\n                    .GroupBy(identityExpression)",
                "\n                    .Select(y => y.OrderByDescending(x => x.Year)",
                "\n                                  .ThenByDescending(x => x.Month)",
                "\n                                  .FirstOrDefault())",
                "\n                    .ToDictionary(identityExpression);",
                "\n}"
            ]
        },
        {
            "cell_type": "code",
            "source": [
                "public static async Task<Dictionary<string, Dictionary<int, T>>> LoadCurrentAndPreviousParameterAsync<T> (",
                "\n    this IQuerySource querySource,",
                "\n    Args args,",
                "\n    Func<T, string> identityExpression,",
                "\n    Expression<Func<T, bool>> filterExpression = null ) ",
                "\n    where T : IWithYearAndMonth",
                "\n{",
                "\n    var parameters = (await querySource.LoadParameterAsync<T>(args.Year, args.Month, filterExpression)).GroupBy(identityExpression);",
                "\n                                         ",
                "\n    var ret = new Dictionary<string, Dictionary<int, T>>();",
                "\n    foreach(var p in parameters)",
                "\n    {",
                "\n        var inner = ret.GetOrAdd(p.Key, _ => new Dictionary<int, T>());",
                "\n",
                "\n        var currentCandidate = p.Where(x => x.Year == args.Year).OrderByDescending(x => x.Month).FirstOrDefault();",
                "\n        var previousCandidate = p.Where(x => x.Year < args.Year).OrderByDescending(x => x.Year).ThenByDescending(x => x.Month).FirstOrDefault();",
                "\n    ",
                "\n        inner.Add(CurrentPeriod, currentCandidate != null ? currentCandidate : previousCandidate);",
                "\n        inner.Add(PreviousPeriod, previousCandidate != null ? previousCandidate : currentCandidate);",
                "\n    }",
                "\n    return ret;",
                "\n}"
            ]
        },
        {
            "cell_type": "markdown",
            "source": [
                "<a id='yield-curve'></a>",
                "\n## Yield Curve"
            ]
        },
        {
            "cell_type": "code",
            "source": [
                "public static async Task<Dictionary<string, YieldCurve>> LoadLockedInYieldCurveAsync(this IQuerySource querySource, Args args, ",
                "\n                                                                                                       IEnumerable<DataNodeData> dataNodes)",
                "\n{",
                "\n    var lockedInYieldCurveByGoc = new Dictionary<string, YieldCurve>();",
                "\n    foreach (var dn in dataNodes.Where(x => x.ValuationApproach == ValuationApproaches.BBA))",
                "\n    {",
                "\n        var argsNew = args with {Year = dn.Year, Month = dn.Month};",
                "\n        var loadedYc = (await querySource.LoadCurrentParameterAsync<YieldCurve>(argsNew, x => x.Currency, x => x.Currency == dn.ContractualCurrency));",
                "\n        ",
                "\n        if(!loadedYc.TryGetValue(dn.ContractualCurrency, out var lockedYc))",
                "\n            ApplicationMessage.Log(Error.YieldCurveNotFound, dn.ContractualCurrency, argsNew.Year.ToString(), argsNew.Month.ToString());",
                "\n            ",
                "\n        lockedInYieldCurveByGoc[dn.DataNode] = lockedYc;",
                "\n    }",
                "\n    ",
                "\n    return lockedInYieldCurveByGoc;",
                "\n}"
            ]
        },
        {
            "cell_type": "code",
            "source": [
                "public static async Task<Dictionary<string, Dictionary<int, YieldCurve>>> LoadCurrentYieldCurveAsync(this IQuerySource querySource, Args args, ",
                "\n                                                                                                      IEnumerable<DataNodeData> dataNodes)",
                "\n{",
                "\n    var contractualCurrenciesInScope = dataNodes.Select(dn => dn.ContractualCurrency).ToHashSet();",
                "\n    return (await querySource.LoadCurrentAndPreviousParameterAsync<YieldCurve>(args, ",
                "\n                                                                               x => x.Currency,",
                "\n                                                                               x => contractualCurrenciesInScope.Contains(x.Currency)",
                "\n                                                                               ));",
                "\n}"
            ]
        },
        {
            "cell_type": "markdown",
            "source": [
                "## Data Node State"
            ]
        },
        {
            "cell_type": "code",
            "source": [
                "//TODO : remove this method and clean up in queriesTest. We need a new test for LoadDataNodes.",
                "\npublic static async Task<Dictionary<string, DataNodeState>> LoadDataNodeStateAsync(this IQuerySource querySource, Args args)",
                "\n{",
                "\n    //This querySource is partitioned",
                "\n    return (await querySource.LoadCurrentAndPreviousParameterAsync<DataNodeState>(args, x => x.DataNode))",
                "\n                             .Where(x => x.Value[CurrentPeriod].State != State.Inactive)",
                "\n                             .ToDictionary(x => x.Key, x => x.Value[CurrentPeriod]);",
                "\n}"
            ]
        },
        {
            "cell_type": "markdown",
            "source": [
                "## Data Nodes"
            ]
        },
        {
            "cell_type": "code",
            "source": [
                "// TODO: the name of this method is strange, one expects DataNodes in return but instead obtains DataNodeData...",
                "\npublic static async Task<Dictionary<string, DataNodeData>> LoadDataNodesAsync(this IQuerySource querySource, Args args) //How do we force the user to provide here a partitioned source? IWorkspace?",
                "\n{",
                "\n    var dataNodeStates = await querySource.LoadCurrentAndPreviousParameterAsync<DataNodeState>(args, x => x.DataNode);",
                "\n    var activeDataNodes = dataNodeStates.Where(kvp => kvp.Value[CurrentPeriod].State != State.Inactive).Select(kvp => kvp.Key);",
                "\n    ",
                "\n    return (await querySource.Query<GroupOfContract>().Where(dn => activeDataNodes.Contains(dn.SystemName)).ToArrayAsync())",
                "\n                            .ToDictionary(dn => dn.SystemName, dn => {",
                "\n                                                                      var dnCurrentState = dataNodeStates[dn.SystemName][CurrentPeriod];",
                "\n                                                                      var dnPreviousState = dataNodeStates[dn.SystemName][PreviousPeriod];",
                "\n                                                                      return new DataNodeData(){Year = dnPreviousState.Year, ",
                "\n                                                                                                  Month = dnPreviousState.Month,",
                "\n                                                                                                  State = dnCurrentState.State,",
                "\n                                                                                                  PreviousState = dnPreviousState.State,",
                "\n                                                                                                  //from Group of Contract",
                "\n                                                                                                  DataNode = dn.SystemName,",
                "\n                                                                                                  ContractualCurrency  = dn.ContractualCurrency,",
                "\n                                                                                                  FunctionalCurrency  = dn.FunctionalCurrency,",
                "\n                                                                                                  LineOfBusiness  = dn.LineOfBusiness,",
                "\n                                                                                                  ValuationApproach  = dn.ValuationApproach,",
                "\n                                                                                                  OciType  = dn.OciType,",
                "\n                                                                                                  Portfolio  = dn.Portfolio,",
                "\n                                                                                                  AnnualCohort  = dn.AnnualCohort,",
                "\n                                                                                                  LiabilityType  = dn.LiabilityType,",
                "\n                                                                                                  Profitability  = dn.Profitability,",
                "\n                                                                                                  Partner  = dn.Partner,",
                "\n                                                                                                  IsReinsurance  = dn.GetType() == typeof(GroupOfReinsuranceContract),",
                "\n                                                                                                  };",
                "\n                                                                     }",
                "\n                                         );",
                "\n}"
            ]
        },
        {
            "cell_type": "markdown",
            "source": [
                "## Data Node Parameters"
            ]
        },
        {
            "cell_type": "markdown",
            "source": [
                "### Single data Node"
            ]
        },
        {
            "cell_type": "code",
            "source": [
                "public static async Task<Dictionary<string, Dictionary<int, SingleDataNodeParameter>>> LoadSingleDataNodeParametersAsync(this IQuerySource querySource, Args args)",
                "\n{",
                "\n    return await querySource.LoadCurrentAndPreviousParameterAsync<SingleDataNodeParameter>(args, x => x.DataNode);",
                "\n}"
            ]
        },
        {
            "cell_type": "markdown",
            "source": [
                "### Inter data Node"
            ]
        },
        {
            "cell_type": "code",
            "source": [
                "public static async Task<Dictionary<string, Dictionary<int, HashSet<InterDataNodeParameter>>>> LoadInterDataNodeParametersAsync(this IQuerySource querySource, Args args)",
                "\n{",
                "\n    var identityExpressions = new Func<InterDataNodeParameter, string>[]{x => x.DataNode, x => x.LinkedDataNode,};",
                "\n    var parameterArray = (await querySource.LoadParameterAsync<InterDataNodeParameter>(args.Year, args.Month));",
                "\n    var parameters = identityExpressions.SelectMany(ie => parameterArray.GroupBy(ie));",
                "\n                                         ",
                "\n    return parameters.SelectMany(p => p",
                "\n                                 .GroupBy(x => x.DataNode != p.Key ? x.DataNode : x.LinkedDataNode)",
                "\n                                 .Select(gg =>",
                "\n                                         {",
                "\n                                             var currentCandidate = gg.Where(x => x.Year == args.Year).OrderByDescending(x => x.Month).FirstOrDefault();",
                "\n                                             var previousCandidate = gg.Where(x => x.Year < args.Year).OrderByDescending(x => x.Year).ThenByDescending(x => x.Month).FirstOrDefault();",
                "\n                                             return (key: p.Key,",
                "\n                                                     currentPeriod: currentCandidate != null ? currentCandidate : previousCandidate,",
                "\n                                                     previousPeriod: previousCandidate != null ? previousCandidate : currentCandidate);",
                "\n                                         })",
                "\n                                )",
                "\n        .ToDictionaryGrouped(x => x.key,",
                "\n                             x => new Dictionary<int, HashSet<InterDataNodeParameter>>{ {CurrentPeriod, x.Select(y => y.currentPeriod).ToHashSet()},",
                "\n                                                                                       {PreviousPeriod, x.Select(y => y.previousPeriod).ToHashSet()}});",
                "\n}"
            ]
        },
        {
            "cell_type": "markdown",
            "source": [
                "## Aoc Step Configuration"
            ]
        },
        {
            "cell_type": "code",
            "source": [
                "public static async Task<IEnumerable<AocConfiguration>> LoadAocStepConfigurationAsync(this IQuerySource querySource, int year, int month)",
                "\n    => (await querySource.LoadParameterAsync<AocConfiguration>(year, month)).GroupBy(x => (x.AocType, x.Novelty), (k, v) => v.OrderByDescending(x => x.Year).ThenByDescending(x => x.Month).First()); "
            ]
        },
        {
            "cell_type": "code",
            "source": [
                "public static async Task<Dictionary<AocStep, AocConfiguration>> LoadAocStepConfigurationAsDictionaryAsync(this IQuerySource querySource, int year, int month) => (await querySource.LoadAocStepConfigurationAsync(year, month)).ToDictionary(x => new AocStep(x.AocType, x.Novelty)); "
            ]
        },
        {
            "cell_type": "markdown",
            "source": [
                "# Export Configurations"
            ]
        },
        {
            "cell_type": "markdown",
            "source": [
                "## Main Tab"
            ]
        },
        {
            "cell_type": "code",
            "source": [
                "public static IDocumentBuilder MainTabConfigurationWoScenario<T>(this IDocumentBuilder builder, T args) where T : IfrsPartition",
                "\n    => builder.WithTable<T>( config => config .AtBeginning() ",
                "\n        .WithName(Main) ",
                "\n        .WithSource(source => args.RepeatOnce().AsQueryable()) ",
                "\n        .WithColumn(x => x.Id, x => x.Delete())",
                "\n        .WithColumn(x => x.Scenario, x => x.Delete()));"
            ]
        },
        {
            "cell_type": "code",
            "source": [
                "public static IDocumentBuilder MainTabConfiguration<T>(this IDocumentBuilder builder, T args) where T : IfrsPartition",
                "\n    => builder.WithTable<T>( config => config .AtBeginning() ",
                "\n        .WithName(Main) ",
                "\n        .WithSource(source => args.RepeatOnce().AsQueryable()) ",
                "\n        .WithColumn(x => x.Id, x => x.Delete()));"
            ]
        },
        {
            "cell_type": "markdown",
            "source": [
                "## Dimensions"
            ]
        },
        {
            "cell_type": "code",
            "source": [
                "public static IDocumentBuilder PortfolioConfiguration<T>(this IDocumentBuilder builder, Type DependsOnType = default) where T : Portfolio",
                "\n    => builder.WithTable<T>(config => { ",
                "\n        if(DependsOnType != default)",
                "\n            config = config.DependsOn(DependsOnType);               ",
                "\n        return config .AtBeginning() ",
                "\n            .WithColumn(x => x.DisplayName, x => x.AtBeginning())",
                "\n            .WithColumn(x => x.SystemName, x => x.AtBeginning())",
                "\n            .WithColumn(x => x.Partition, x => x.Delete())",
                "\n            .WithColumn(x => x.FunctionalCurrency, x => x.Delete());",
                "\n    });"
            ]
        },
        {
            "cell_type": "code",
            "source": [
                "public static IDocumentBuilder GroupofContractConfiguration<T>(this IDocumentBuilder builder, Type DependsOnType = default) where T : GroupOfContract",
                "\n    => builder.WithTable<T>(config => { ",
                "\n        if(DependsOnType != default)",
                "\n            config = config.DependsOn(DependsOnType);      ",
                "\n        if(typeof(T).Name == nameof(GroupOfInsuranceContract))",
                "\n            config = config.WithColumn(x => x.Partner, x => x.Delete());",
                "\n        return config .AtBeginning() ",
                "\n            .WithColumn(x => x.DisplayName, x => x.AtBeginning())",
                "\n            .WithColumn(x => x.SystemName, x => x.AtBeginning())",
                "\n            .WithColumn(x => x.Partition, x => x.Delete())",
                "\n            .WithColumn(x => x.ContractualCurrency, x => x.Delete())",
                "\n            .WithColumn(x => x.FunctionalCurrency, x => x.Delete())",
                "\n            .WithColumn(x => x.LineOfBusiness, x => x.Delete())",
                "\n            .WithColumn(x => x.OciType, x => x.Delete())",
                "\n            .WithColumn(x => x.ValuationApproach, x => x.Delete());",
                "\n    });"
            ]
        },
        {
            "cell_type": "markdown",
            "source": [
                "## Data Node State"
            ]
        },
        {
            "cell_type": "code",
            "source": [
                "using DocumentFormat.OpenXml.Spreadsheet;"
            ]
        },
        {
            "cell_type": "code",
            "source": [
                "public record HelperState { public string State {get; init;} }"
            ]
        },
        {
            "cell_type": "code",
            "source": [
                "public static IExcelDocumentBuilder DataNodeStateConfiguration (this IExcelDocumentBuilder builder, DataNodeState[] data)",
                "\n    => builder",
                "\n        .WithTable<LiabilityType>(x => x.Delete())",
                "\n        .WithTable<Profitability>(x => x.Delete())",
                "\n        .WithTable<Portfolio>(x => x.Delete())",
                "\n        .WithTable<Currency>(x => x.Delete())",
                "\n        .WithTable<LineOfBusiness>(x => x.Delete())",
                "\n        .WithTable<ValuationApproach>(x => x.Delete())",
                "\n        .WithTable<OciType>(x => x.Delete())",
                "\n        .WithTable<Partner>(x => x.Delete())",
                "\n        .WithTable<ReportingNode>(x => x.Delete())",
                "\n        .WithTable<Scenario>(x => x.Delete())",
                "\n        .WithTable<DataNodeState>(config => config       ",
                "\n            .AtBeginning() ",
                "\n            .WithSource(source => data.AsQueryable())",
                "\n            .WithColumn(x => x.Partition, x => x.Delete())",
                "\n            .WithColumn(x => x.Month, x => x.Delete())",
                "\n            .WithColumn(x => x.Year, x => x.Delete())",
                "\n            .WithColumn(x => x.Id, x => x.Delete())",
                "\n            .WithColumn(x => x.State, y => y.WithDataValidation(z => z.WithReferenceTo<HelperState, string>(t => t.State)))",
                "\n        );"
            ]
        },
        {
            "cell_type": "code",
            "source": [
                "public static IExcelDocumentBuilder StateEnumConfiguration (this IExcelDocumentBuilder builder)",
                "\n{",
                "\n    var helperState = new[] {new HelperState {State = \"Active\"}, new HelperState {State = \"Inactive\"} }; ",
                "\n    return builder.WithTable<HelperState>( config => config .WithSheetVisibility(SheetStateValues.Hidden)",
                "\n                //.WithColumn(x => x.State, z => z.WithNamedRange(y => y.WithName(\"HelperState_State\")))",
                "\n                .WithColumn(x => x.State, z => z.WithDefaultNamedRange())",
                "\n                .WithSource(source => helperState.AsQueryable()) );",
                "\n}"
            ]
        },
        {
            "cell_type": "markdown",
            "source": [
                "## Data Node Parameter"
            ]
        },
        {
            "cell_type": "code",
            "source": [
                "public static IExcelDocumentBuilder DataNodeParameterConfiguration (this IExcelDocumentBuilder builder, Dictionary<string, DataNodeParameter[]> data)",
                "\n    => builder",
                "\n        .WithTable<LiabilityType>(x => x.Delete())",
                "\n        .WithTable<Profitability>(x => x.Delete())",
                "\n        .WithTable<Portfolio>(x => x.Delete())",
                "\n        .WithTable<Currency>(x => x.Delete())",
                "\n        .WithTable<LineOfBusiness>(x => x.Delete())",
                "\n        .WithTable<ValuationApproach>(x => x.Delete())",
                "\n        .WithTable<OciType>(x => x.Delete())",
                "\n        .WithTable<Partner>(x => x.Delete())",
                "\n        .WithTable<ReportingNode>(x => x.Delete())",
                "\n        .WithTable<Scenario>(x => x.Delete())",
                "\n        .WithTable<InterDataNodeParameter>(config => config       ",
                "\n            .AtBeginning() ",
                "\n            .WithSource(source => data[nameof(InterDataNodeParameter)].Cast<InterDataNodeParameter>().AsQueryable())",
                "\n            .WithColumn(x => x.Partition, x => x.Delete())",
                "\n            .WithColumn(x => x.Month, x => x.Delete())",
                "\n            .WithColumn(x => x.Id, x => x.Delete())",
                "\n            .WithColumn(x => x.Year, x => x.Delete())",
                "\n        )",
                "\n        .WithTable<SingleDataNodeParameter>(config => config       ",
                "\n            .AtBeginning() ",
                "\n            .WithSource(source => data[nameof(SingleDataNodeParameter)].Cast<SingleDataNodeParameter>().AsQueryable())",
                "\n            .WithColumn(x => x.DataNode, x => x.WithHeader(\"DataNode\"))",
                "\n            .WithColumn(x => x.Partition, x => x.Delete())",
                "\n            .WithColumn(x => x.Month, x => x.Delete())",
                "\n            .WithColumn(x => x.Year, x => x.Delete())",
                "\n            .WithColumn(x => x.Year, x => x.Delete())",
                "\n            .WithColumn(x => x.Id, x => x.Delete())",
                "\n        );"
            ]
        },
        {
            "cell_type": "markdown",
            "source": [
                "# Report Configurations"
            ]
        },
        {
            "cell_type": "code",
            "source": [
                "using Systemorph.Vertex.Pivot.Reporting.Builder;"
            ]
        },
        {
            "cell_type": "code",
            "source": [
                "public static ReportBuilder<IfrsVariable,IfrsVariable,IfrsVariable> WithGridOptionsForIfrsVariable",
                "\n(this ReportBuilder<IfrsVariable,IfrsVariable,IfrsVariable> reportBuilder, int reportHeight = 650)",
                "\n{",
                "\n    return reportBuilder.WithGridOptions(go => go.WithColumns(cols => cols.Modify(\"Value\", c => c.WithWidth(300)",
                "\n                                                                          .WithFormat(\"new Intl.NumberFormat('en',{ minimumFractionDigits:2, maximumFractionDigits:2 }).format(value)\")))",
                "\n                          .WithRows(rows => rows.Where(r => !r.RowGroup.SystemName.EndsWith(\"NullGroup\")).ToList())",
                "\n                          .WithAutoGroupColumn(c => c.WithWidth(250) with { Pinned = \"left\" }) with { Height = reportHeight, GroupDefaultExpanded = 2, OnGridReady = null }",
                "\n                );",
                "\n}"
            ]
        },
        {
            "cell_type": "markdown",
            "source": [
                "# Utility Methods Class"
            ]
        },
        {
            "cell_type": "markdown",
            "source": [
                "This class contains:",
                "\n- EqualityComparer"
            ]
        },
        {
            "cell_type": "code",
            "source": [
                "public static class Utils {",
                "\n    public static void EqualityComparer<T> (T[] collection1, T[] collection2) ",
                "\n    {",
                "\n        collection1.Length.Should().Be(collection2.Length);",
                "\n        var type = typeof(T);",
                "\n        var properties = type.GetProperties().Where(p => p.Name != \"Id\").ToArray();",
                "\n        if(properties.Count() == 0) {",
                "\n            bool isEqual = Enumerable.SequenceEqual(collection1, collection2);",
                "\n            isEqual.Should().Be(true);",
                "\n        }",
                "\n        foreach(var item1 in collection1) {",
                "\n            var item2 = collection2.Where(x => ",
                "\n                properties.All(prop => {",
                "\n                    var propType = prop.PropertyType;",
                "\n                    var val = prop.GetValue(item1);",
                "\n                    var otherVal = prop.GetValue(x);",
                "\n                    if(val == null && otherVal == null) return true;",
                "\n                    else if((val != null && otherVal == null) || (val == null && otherVal != null)) return false;",
                "\n                    else return Convert.ChangeType(otherVal, propType).Equals( Convert.ChangeType(val, propType) );",
                "\n                })",
                "\n            );",
                "\n            item2.Count().Should().NotBe(0);",
                "\n        }",
                "\n    }",
                "\n}"
            ]
        },
        {
            "cell_type": "code",
            "source": [
                "// TODO: find a better arrangement to these methods",
                "\nstatic var NumericalPrecisionEqualityChecker = 1.0E-10;",
                "\n",
                "\nstatic bool CheckEquality(this double[] arr1, double[] arr2) ",
                "\n{",
                "\n    if(arr1.Length != arr2.Length) return false;",
                "\n    for(int i = 0; i < arr1.Length; i++) {",
                "\n        double d1 = arr1[i];",
                "\n        double d2 = arr2[i];",
                "\n        if(Math.Abs(d1) < NumericalPrecisionEqualityChecker && Math.Abs(d1) < NumericalPrecisionEqualityChecker) continue;",
                "\n        if(Math.Abs( (d1 - d2) / d1 ) > NumericalPrecisionEqualityChecker) return false;",
                "\n    }",
                "\n    return true;",
                "\n}",
                "\n",
                "\nstatic bool CheckEquality(this IEnumerable<double> arr1, double[] arr2) => CheckEquality(arr1.ToArray(), arr2);",
                "\nstatic bool CheckEquality(this double[] arr1, IEnumerable<double> arr2) => CheckEquality(arr1, arr2.ToArray());",
                "\nstatic bool CheckEquality(this IEnumerable<double> arr1, IEnumerable<double> arr2) => CheckEquality(arr1.ToArray(), arr2.ToArray());",
                "\nstatic bool CheckEquality(this double d1, double d2) => CheckEquality(d1.RepeatOnce(), d2.RepeatOnce());",
                "\n",
                "\nstatic bool CheckEquality(this double? d1, double? d2) ",
                "\n{",
                "\n    if(d1 == null && d2 == null) return true;",
                "\n    else return CheckEquality((double)d1, (double)d2);",
                "\n}",
                "\n"
            ]
        },
        {
            "cell_type": "markdown",
            "source": [
                "## ToIdentityString"
            ]
        },
        {
            "cell_type": "code",
            "source": [
                "using System.Text;",
                "\npublic static string ToIdentityString<T>(this T v)",
                "\n   where T : class",
                "\n{",
                "\n  StringBuilder sb = new StringBuilder();",
                "\n  var propertyInfos = v.GetType()",
                "\n                       .GetProperties()",
                "\n                       .Where(x => Attribute.IsDefined(x, typeof(IdentityPropertyAttribute)))",
                "\n                       .OrderByDescending(x => x.PropertyType.Name).ThenByDescending(x => x.Name)",
                "\n                       .Select(x => sb.Append(x.Name).Append(\":\").Append(v.GetType().GetProperty(x.Name)?.GetValue(v, null)).Append(\", \"));",
                "\n",
                "\nreturn propertyInfos.Select(p => p.ToString()).ToArray().Last();",
                "\n}"
            ]
        },
        {
            "cell_type": "markdown",
            "source": [
                "## GetPreviousIdentities"
            ]
        },
        {
            "cell_type": "code",
            "source": [
                "public static Dictionary<AocStep,IEnumerable<AocStep>> GetPreviousIdentities(IEnumerable<AocStep> identities)",
                "\n{",
                "\n    var bopNovelties = identities.Where(id => id.AocType == AocTypes.BOP).Select(id => id.Novelty);",
                "\n    var previousStep = (new string[]{Novelties.N,Novelties.I,Novelties.C})",
                "\n                                        .ToDictionary(n => n, n => bopNovelties.Contains(n) ? new AocStep(AocTypes.BOP,n) : null);",
                "\n    return identities.Where(id =>  id.AocType != AocTypes.BOP)",
                "\n                                .ToDictionary(x => x, x => {var ret = x.AocType == AocTypes.CL ? previousStep.Where(kvp => kvp.Value != null).Select(kvp => kvp.Value).ToArray() ",
                "\n                                                                                               : previousStep[x.Novelty].RepeatOnce();",
                "\n                                                            previousStep[x.Novelty] = new AocStep(x.AocType, x.Novelty);",
                "\n                                                            return ret;});",
                "\n}"
            ]
        },
        {
            "cell_type": "markdown",
            "source": [
                "## GetReferenceAocStepForCalculated"
            ]
        },
        {
            "cell_type": "code",
            "source": [
                "public static AocStep GetReferenceAocStepForCalculated(this IEnumerable<AocStep> identities, Dictionary<AocStep, AocConfiguration> aocConfigurationByAocStep, AocStep identityAocStep)",
                "\n{",
                "\n    return identities.LastOrDefault(aocStep => aocConfigurationByAocStep[aocStep].DataType != DataType.Calculated",
                "\n                                            && aocConfigurationByAocStep[aocStep].DataType != DataType.CalculatedTelescopic",
                "\n                                            && aocConfigurationByAocStep[aocStep].Order < aocConfigurationByAocStep[identityAocStep].Order",
                "\n                                            && aocStep.Novelty == identityAocStep.Novelty) ",
                "\n        ?? new AocStep(default, default);",
                "\n}"
            ]
        },
        {
            "cell_type": "markdown",
            "source": [
                "# Change Sign Rules"
            ]
        },
        {
            "cell_type": "code",
            "source": [
                "public static int GetSign((string AocType, string AmountType, string EstimateType, bool IsReinsurance) variable, Systemorph.Vertex.Hierarchies.IHierarchicalDimensionCache hierarchyCache)",
                "\n{",
                "\n    var isActual = (new string[] { EstimateTypes.AA, EstimateTypes.OA, EstimateTypes.A }).Contains(variable.EstimateType) ? -1 : 1;",
                "\n    return isActual;",
                "\n}"
            ]
        },
        {
            "cell_type": "markdown",
            "source": [
                "# EstimateType And AmountType"
            ]
        },
        {
            "cell_type": "code",
            "source": [
                "public static Dictionary<string, HashSet<string>> GetAmountTypesByEstimateType(Systemorph.Vertex.Hierarchies.IHierarchicalDimensionCache hierarchyCache)",
                "\n{",
                "\n    return new Dictionary<string, HashSet<string>>(){",
                "\n        {EstimateTypes.RA, new string[]{}.ToHashSet()},",
                "\n        {EstimateTypes.C, new string[]{}.ToHashSet()},",
                "\n        {EstimateTypes.L, new string[]{}.ToHashSet()},",
                "\n        {EstimateTypes.LR, new string[]{}.ToHashSet()},",
                "\n   };",
                "\n}"
            ]
        },
        {
            "cell_type": "markdown",
            "source": [
                "# Technical Margin EstimateType"
            ]
        },
        {
            "cell_type": "code",
            "source": [
                "public static HashSet<string> GetTechnicalMarginEstimateType()",
                "\n{",
                "\n    return new []{EstimateTypes.C, EstimateTypes.L, EstimateTypes.LR, }.ToHashSet();",
                "\n}"
            ]
        },
        {
            "cell_type": "markdown",
            "source": [
                "# Discount and Cumulate"
            ]
        },
        {
            "cell_type": "code",
            "source": [
                "public static double[] ComputeDiscountAndCumulate(this double[] nominalValues, double[] monthlyDiscounting, PeriodType periodType) ",
                "\n{ ",
                "\n    if(nominalValues == null) return Enumerable.Empty<double>().ToArray();",
                "\n    ",
                "\n    var ret = new double[nominalValues.Length];",
                "\n    ",
                "\n    if(periodType == PeriodType.BeginningOfPeriod)",
                "\n    {",
                "\n        for (var i = nominalValues.Length - 1; i >= 0; i--)",
                "\n                ret[i] = nominalValues[i] + GetElementOrDefault(ret, i + 1) * GetElementOrDefault(monthlyDiscounting, i/12);",
                "\n        return ret;",
                "\n    }",
                "\n    ",
                "\n    for (var i = nominalValues.Length - 1; i >= 0; i--)",
                "\n                ret[i] = ( nominalValues[i] + GetElementOrDefault(ret, i + 1) ) * GetElementOrDefault(monthlyDiscounting, i/12);",
                "\n    ",
                "\n    return ret;",
                "\n}"
            ]
        },
        {
            "cell_type": "code",
            "source": [
                "public static double[] ComputeDiscountAndCumulateWithCreditDefaultRisk(this double[] nominalValues, double[] monthlyDiscounting, double nonPerformanceRiskRate) //Is it correct that NonPerformanceRiskRate is a double? Should it be an array that takes as input tau/t?",
                "\n{ ",
                "\n    return Enumerable.Range(0, nominalValues.Length)",
                "\n                     .Select( t => Enumerable.Range(t, nominalValues.Length-t)",
                "\n                                             .Select( tau => nominalValues[tau] * Math.Pow(GetElementOrDefault(monthlyDiscounting, t/12), tau-t+1) * (Math.Exp(-nonPerformanceRiskRate*(tau-t)) - 1) )",
                "\n                                             .Sum() )",
                "\n                     .ToArray();",
                "\n}"
            ]
        },
        {
            "cell_type": "markdown",
            "source": [
                "# Import Configuration"
            ]
        },
        {
            "cell_type": "markdown",
            "source": [
                "## Data Nodes"
            ]
        },
        {
            "cell_type": "code",
            "source": [
                "public GroupOfInsuranceContract ExtendGroupOfContract(GroupOfInsuranceContract gic, IDataRow datarow) => gic;"
            ]
        },
        {
            "cell_type": "code",
            "source": [
                "public GroupOfReinsuranceContract ExtendGroupOfContract(GroupOfReinsuranceContract gric, IDataRow datarow) => gric;"
            ]
        },
        {
            "cell_type": "code",
            "source": [
                ""
            ]
        }
    ]
}