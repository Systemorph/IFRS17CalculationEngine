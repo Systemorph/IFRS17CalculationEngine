{
  "metadata": {
    "toc-showmarkdowntxt": "False",
    "toc-showcode": "False",
    "language_info": {
      "file_extension": ".cs",
      "mimetype": "text/plain",
      "name": "C#"
    },
    "authors": [],
    "kernelspec": {
      "display_name": "Formula Framework",
      "language": "C#",
      "name": "C#"
    },
    "toc-autonumbering": "True"
  },
  "nbformat": 4,
  "nbformat_minor": 5,
  "cells": [
    {
      "id": "broxX4LAHEyOyWz2MhegDg",
      "cell_type": "markdown",
      "source": [
        "<p style=\"font-weight:bold;\"> <span style=\"font-size: 36px\"> Application Message </span> </p>"
      ],
      "metadata": {}
    },
    {
      "id": "h1R2W32vMUu5tJyRO8rd4A",
      "cell_type": "code",
      "source": [
        "#r \"nuget:Systemorph.Activities,1.2.3\""
      ],
      "metadata": {},
      "execution_count": 1,
      "outputs": []
    },
    {
      "id": "84ytRYskFU-7SEmFS1wFiA",
      "cell_type": "code",
      "source": [
        "#!import \"../Constants/Validations\""
      ],
      "metadata": {},
      "execution_count": 1,
      "outputs": []
    },
    {
      "id": "zdCOoGGKDUad4bauxbDx8A",
      "cell_type": "code",
      "source": [
        "using Microsoft.Extensions.Logging;",
        "\n",
        "\npublic class ApplicationMessage {",
        "\n    private static ILogger log;",
        "\n    ",
        "\n    private static IActivityVariable activity;",
        "\n    ",
        "\n    public static void Configure (ILogger log, IActivityVariable activity) ",
        "\n    {",
        "\n        ApplicationMessage.log = log;",
        "\n        ApplicationMessage.activity = activity;",
        "\n    }",
        "\n    ",
        "\n    public static Object Log (Error e, params string[] s) { log.LogError(Get(e,s)); return null; }",
        "\n    ",
        "\n    public static Object Log (Warning w, params string[] s) { log.LogWarning(Get(w,s)); return null; }",
        "\n    ",
        "\n    public static bool HasErrors () => activity.HasErrors();",
        "\n}"
      ],
      "metadata": {},
      "execution_count": 1,
      "outputs": []
    },
    {
      "id": "rmXkyteAs0qIkylMj_uzoA",
      "cell_type": "code",
      "source": [
        "ApplicationMessage.Configure(Log, Activity)"
      ],
      "metadata": {},
      "execution_count": 1,
      "outputs": []
    },
    {
      "id": "C5Sz9dotT0ye5OfZ9kKzZg",
      "cell_type": "markdown",
      "source": [
        "# Utils"
      ],
      "metadata": {}
    },
    {
      "id": "PI-rD5MuDkm1oNDAzAlxdQ",
      "cell_type": "code",
      "source": [
        "public static bool HasErrors (this ActivityLog[] logs) {",
        "\n    foreach (var log in logs)",
        "\n        if(log.Errors.Any())",
        "\n            return true;",
        "\n    return false;",
        "\n}"
      ],
      "metadata": {},
      "execution_count": 1,
      "outputs": []
    },
    {
      "id": "zP4DHMB7v0iJBQU0evmyJQ",
      "cell_type": "code",
      "source": [
        "public static ActivityLog Merge (this ActivityLog a, ActivityLog b) {",
        "\n    return a with { ",
        "\n        StartDateTime  = a.StartDateTime < b.StartDateTime ? a.StartDateTime : b.StartDateTime,",
        "\n        FinishDateTime = a.FinishDateTime > b.FinishDateTime ? a.FinishDateTime : b.FinishDateTime,",
        "\n        Errors         = a.Errors.Concat(b.Errors).ToList(),",
        "\n        Warnings       = a.Warnings.Concat(b.Warnings).ToList(),",
        "\n        Infos          = a.Infos.Concat(b.Infos).ToList(),",
        "\n        Status         = a.Status == ActivityLogStatus.Failed || b.Status == ActivityLogStatus.Failed ? ActivityLogStatus.Failed : ActivityLogStatus.Succeeded",
        "\n    };",
        "\n}",
        "\n",
        "\npublic static ActivityLog Merge (this ActivityLog[] logs) ",
        "\n{",
        "\n    if(logs == null || logs.Length == 0) return null;",
        "\n    return logs.Aggregate((x, y) => x.Merge(y));",
        "\n}",
        "\n",
        "\npublic static ActivityLog Merge (this ActivityLog[] logs, ActivityLog log) => logs.Merge().Merge(log);",
        "\npublic static ActivityLog Merge (this ActivityLog log, ActivityLog[] logs) => log.Merge(logs.Merge());"
      ],
      "metadata": {},
      "execution_count": 1,
      "outputs": []
    },
    {
      "id": "CdUfdMGymkqjIXT66mL65g",
      "cell_type": "code",
      "source": [
        ""
      ],
      "metadata": {},
      "execution_count": 1,
      "outputs": []
    }
  ]
}