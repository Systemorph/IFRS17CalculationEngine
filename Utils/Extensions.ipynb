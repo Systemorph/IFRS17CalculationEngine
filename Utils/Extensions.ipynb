{
  "metadata": {
    "toc-showcode": "False",
    "language_info": {
      "file_extension": ".cs",
      "mimetype": "text/plain",
      "name": "C#"
    },
    "authors": [],
    "kernelspec": {
      "display_name": "Formula Framework",
      "language": "C#",
      "name": "C#"
    },
    "toc-autonumbering": "True"
  },
  "nbformat": 4,
  "nbformat_minor": 5,
  "cells": [
    {
      "id": "5e6045b5-4b78-41d0-91d2-b25c8abeccca",
      "cell_type": "code",
      "source": [
        "#!import \"../DataModel/DataStructure\"",
        "\n#!import \"ApplicationMessage\""
      ],
      "metadata": {},
      "execution_count": 1,
      "outputs": []
    },
    {
      "id": "A-gLq4O2eE6IW3jx-1tDCw",
      "cell_type": "markdown",
      "source": [
        "# Enumerable Extensions"
      ],
      "metadata": {}
    },
    {
      "id": "9dxEM2ggXU-zTLNvvCHsOQ",
      "cell_type": "code",
      "source": [
        "// because the default(T) is something else than the first/last element. What about \"static T GetValidElement<T>(this IList<T> array, int index)\"? ",
        "\nstatic T GetElementOrDefault<T>(this ICollection<T> array, int index)",
        "\n{   ",
        "\n    var count = array.Count;",
        "\n    if (array == null || count == 0)",
        "\n        return default(T);",
        "\n",
        "\n    return index < 0",
        "\n               ? array.ElementAt(0) // should this case be removed?",
        "\n               : index < count",
        "\n                   ? array.ElementAt(index)",
        "\n                   : array.ElementAt(count -1);",
        "\n}"
      ],
      "metadata": {},
      "execution_count": 1,
      "outputs": []
    },
    {
      "id": "QhtXvQfGpkOPqpRxznrgcg",
      "cell_type": "code",
      "source": [
        "public static Dictionary<TKey, TResult> ToDictionaryGrouped<TSource, TKey, TResult>(this IEnumerable<TSource> source, Func<TSource, TKey> keySelector, Func<IGrouping<TKey, TSource>, TResult> elementSelector) => source.GroupBy(keySelector).ToDictionary(g => g.Key, elementSelector);"
      ],
      "metadata": {},
      "execution_count": 1,
      "outputs": []
    },
    {
      "id": "Brh1Yk0MoEO5H52znFTqUQ",
      "cell_type": "code",
      "source": [
        "public static IDataCube<TTarget> SelectToDataCube<TSource, TTarget>(this IEnumerable<TSource> source, Func<TSource, bool> whereClause, Func<TSource, TTarget> selector) => source.Where(whereClause).Select(selector).ToDataCube();"
      ],
      "metadata": {},
      "execution_count": 1,
      "outputs": []
    },
    {
      "id": "3hPGQtfhI0ic1_w5PyiBgw",
      "cell_type": "code",
      "source": [
        "public static IDataCube<TTarget> SelectToDataCube<TSource, TTarget>(this IEnumerable<TSource> source, Func<TSource, TTarget> selector) => source.SelectToDataCube(x => true, selector);"
      ],
      "metadata": {},
      "execution_count": 1,
      "outputs": []
    },
    {
      "id": "-Y6HUEHIgEidj23uHIcscQ",
      "cell_type": "code",
      "source": [
        "public static double[] Prune (this IEnumerable<double> source, double precision = Precision) => source.Reverse().SkipWhile(x => Math.Abs(x) < precision).Reverse().ToArray();"
      ],
      "metadata": {},
      "execution_count": 1,
      "outputs": []
    },
    {
      "id": "xZnDqW6rXEagl6N5IPFBHg",
      "cell_type": "markdown",
      "source": [
        "# String Extensions"
      ],
      "metadata": {}
    },
    {
      "id": "3TZ5QaWLL0eXsicw9mEhrA",
      "cell_type": "code",
      "source": [
        "using System.Globalization;"
      ],
      "metadata": {},
      "execution_count": 1,
      "outputs": []
    },
    {
      "id": "DLkjFfpXp0ODlwc_imkUwA",
      "cell_type": "code",
      "source": [
        "public static double CheckStringForExponentialAndConvertToDouble (this string s)",
        "\n{   ",
        "\n    if (s == null) return default;",
        "\n    if (double.TryParse(s, NumberStyles.Number, CultureInfo.InvariantCulture, out var doubleValue)) return doubleValue;",
        "\n    else { ApplicationMessage.Log(Error.ParsingScientificNotation, s); return 1; }",
        "\n}"
      ],
      "metadata": {},
      "execution_count": 1,
      "outputs": []
    },
    {
      "id": "740WQ9Xg6ESwS7mzcd_UDQ",
      "cell_type": "markdown",
      "source": [
        "# Enum Extentions"
      ],
      "metadata": {}
    },
    {
      "id": "WNoxcMPslUm-66pmOH5a8g",
      "cell_type": "code",
      "source": [
        "public static bool Contains<T>(this T value, T lookingForFlag) ",
        "\n    where T : struct",
        "\n{",
        "\n    int intValue = (int) (object) value;",
        "\n    int intLookingForFlag = (int) (object) lookingForFlag;",
        "\n    return ((intValue & intLookingForFlag) == intLookingForFlag);",
        "\n}"
      ],
      "metadata": {},
      "execution_count": 1,
      "outputs": []
    },
    {
      "id": "dea38722-cc17-4c2b-9264-100061f5e682",
      "cell_type": "markdown",
      "source": [
        "# ToIdentityString"
      ],
      "metadata": {}
    },
    {
      "id": "a431aa30-eb7b-404e-9cb3-834350f8d8e0",
      "cell_type": "code",
      "source": [
        "using System.Text;",
        "\npublic static string ToIdentityString<T>(this T v)",
        "\n   where T : class",
        "\n{",
        "\n  StringBuilder sb = new StringBuilder();",
        "\n  var propertyInfos = v.GetType()",
        "\n                       .GetProperties()",
        "\n                       .Where(x => Attribute.IsDefined(x, typeof(IdentityPropertyAttribute)))",
        "\n                       .OrderByDescending(x => x.PropertyType.Name).ThenByDescending(x => x.Name)",
        "\n                       .Select(x => sb.Append(x.Name).Append(\":\").Append(v.GetType().GetProperty(x.Name)?.GetValue(v, null)).Append(\", \"));",
        "\n",
        "\nreturn propertyInfos.Select(p => p.ToString()).ToArray().Last();",
        "\n}"
      ],
      "metadata": {},
      "execution_count": 1,
      "outputs": []
    },
    {
      "id": "056f8980-ac8f-46c4-9d03-91b735f3a25d",
      "cell_type": "code",
      "source": [
        ""
      ],
      "metadata": {},
      "execution_count": 1,
      "outputs": []
    }
  ]
}