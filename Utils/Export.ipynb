{
  "metadata": {
    "toc-showcode": "False",
    "language_info": {
      "file_extension": ".cs",
      "mimetype": "text/plain",
      "name": "C#"
    },
    "authors": [],
    "kernelspec": {
      "display_name": "Formula Framework",
      "language": "C#",
      "name": "C#"
    },
    "toc-autonumbering": "True"
  },
  "nbformat": 4,
  "nbformat_minor": 5,
  "cells": [
    {
      "id": "d7414a18-4834-4e23-ac3e-de9929e8b48e",
      "cell_type": "code",
      "source": [
        "#!import \"../DataModel/DataStructure\""
      ],
      "metadata": {},
      "execution_count": 1,
      "outputs": []
    },
    {
      "id": "cdft6A5YOU-JKits9tdQ0w",
      "cell_type": "markdown",
      "source": [
        "# Main Tab"
      ],
      "metadata": {}
    },
    {
      "id": "qAmPBlXGBkanj2uTVSqlCA",
      "cell_type": "code",
      "source": [
        "public static IDocumentBuilder MainTabConfigurationWoScenario<T>(this IDocumentBuilder builder, T args) where T : IfrsPartition",
        "\n    => builder.WithTable<T>( config => config .AtBeginning() ",
        "\n        .WithName(Main) ",
        "\n        .WithSource(source => args.RepeatOnce().AsQueryable()) ",
        "\n        .WithColumn(x => x.Id, x => x.Delete())",
        "\n        .WithColumn(x => x.Scenario, x => x.Delete()));"
      ],
      "metadata": {},
      "execution_count": 1,
      "outputs": []
    },
    {
      "id": "xDi9MN7YXE6TzDsUxJKv_g",
      "cell_type": "code",
      "source": [
        "public static IDocumentBuilder MainTabConfiguration<T>(this IDocumentBuilder builder, T args) where T : IfrsPartition",
        "\n    => builder.WithTable<T>( config => config .AtBeginning() ",
        "\n        .WithName(Main) ",
        "\n        .WithSource(source => args.RepeatOnce().AsQueryable()) ",
        "\n        .WithColumn(x => x.Id, x => x.Delete()));"
      ],
      "metadata": {},
      "execution_count": 1,
      "outputs": []
    },
    {
      "id": "CRZfO8bZy0G9fSLekjFWUg",
      "cell_type": "markdown",
      "source": [
        "# Porfolio"
      ],
      "metadata": {}
    },
    {
      "id": "Ln1Wggqu406eomb1E8Akcw",
      "cell_type": "code",
      "source": [
        "public static IDocumentBuilder PortfolioConfiguration<T>(this IDocumentBuilder builder, Type DependsOnType = default) where T : Portfolio",
        "\n    => builder.WithTable<T>(config => { ",
        "\n        if(DependsOnType != default)",
        "\n            config = config.DependsOn(DependsOnType);               ",
        "\n        return config .AtBeginning() ",
        "\n            .WithColumn(x => x.DisplayName, x => x.AtBeginning())",
        "\n            .WithColumn(x => x.SystemName, x => x.AtBeginning())",
        "\n            .WithColumn(x => x.Partition, x => x.Delete())",
        "\n            .WithColumn(x => x.FunctionalCurrency, x => x.Delete());",
        "\n    });"
      ],
      "metadata": {},
      "execution_count": 1,
      "outputs": []
    },
    {
      "id": "9c810732-ed1c-49b8-a514-43371557c6e2",
      "cell_type": "markdown",
      "source": [
        "# Group of Contract"
      ],
      "metadata": {}
    },
    {
      "id": "6qc9dAkjOkSfbiofWgLnXw",
      "cell_type": "code",
      "source": [
        "public static IDocumentBuilder GroupofContractConfiguration<T>(this IDocumentBuilder builder, Type DependsOnType = default) where T : GroupOfContract",
        "\n    => builder.WithTable<T>(config => { ",
        "\n        if(DependsOnType != default)",
        "\n            config = config.DependsOn(DependsOnType);      ",
        "\n        if(typeof(T).Name == nameof(GroupOfInsuranceContract))",
        "\n            config = config.WithColumn(x => x.Partner, x => x.Delete());",
        "\n        return config .AtBeginning() ",
        "\n            .WithColumn(x => x.DisplayName, x => x.AtBeginning())",
        "\n            .WithColumn(x => x.SystemName, x => x.AtBeginning())",
        "\n            .WithColumn(x => x.Partition, x => x.Delete())",
        "\n            .WithColumn(x => x.ContractualCurrency, x => x.Delete())",
        "\n            .WithColumn(x => x.FunctionalCurrency, x => x.Delete())",
        "\n            .WithColumn(x => x.LineOfBusiness, x => x.Delete())",
        "\n            .WithColumn(x => x.OciType, x => x.Delete())",
        "\n            .WithColumn(x => x.ValuationApproach, x => x.Delete());",
        "\n    });"
      ],
      "metadata": {},
      "execution_count": 1,
      "outputs": []
    },
    {
      "id": "1dhHyd3JGEOohmsGAjA_gw",
      "cell_type": "markdown",
      "source": [
        "# Data Node State"
      ],
      "metadata": {}
    },
    {
      "id": "Ymq2Wq7sjkeLyNlifepNaQ",
      "cell_type": "code",
      "source": [
        "using DocumentFormat.OpenXml.Spreadsheet;"
      ],
      "metadata": {},
      "execution_count": 1,
      "outputs": []
    },
    {
      "id": "dGKqDg0S5Eq62tKaxG_7yg",
      "cell_type": "code",
      "source": [
        "public record HelperState { public string State {get; init;} }"
      ],
      "metadata": {},
      "execution_count": 1,
      "outputs": []
    },
    {
      "id": "8HjMW_4oEkSc8gt502-Lkw",
      "cell_type": "code",
      "source": [
        "public static IExcelDocumentBuilder DataNodeStateConfiguration (this IExcelDocumentBuilder builder, DataNodeState[] data)",
        "\n    => builder",
        "\n        .WithTable<LiabilityType>(x => x.Delete())",
        "\n        .WithTable<Profitability>(x => x.Delete())",
        "\n        .WithTable<Portfolio>(x => x.Delete())",
        "\n        .WithTable<Currency>(x => x.Delete())",
        "\n        .WithTable<LineOfBusiness>(x => x.Delete())",
        "\n        .WithTable<ValuationApproach>(x => x.Delete())",
        "\n        .WithTable<OciType>(x => x.Delete())",
        "\n        .WithTable<Partner>(x => x.Delete())",
        "\n        .WithTable<ReportingNode>(x => x.Delete())",
        "\n        .WithTable<Scenario>(x => x.Delete())",
        "\n        .WithTable<DataNodeState>(config => config       ",
        "\n            .AtBeginning() ",
        "\n            .WithSource(source => data.AsQueryable())",
        "\n            .WithColumn(x => x.Partition, x => x.Delete())",
        "\n            .WithColumn(x => x.Month, x => x.Delete())",
        "\n            .WithColumn(x => x.Year, x => x.Delete())",
        "\n            .WithColumn(x => x.Id, x => x.Delete())",
        "\n            .WithColumn(x => x.State, y => y.WithDataValidation(z => z.WithReferenceTo<HelperState, string>(t => t.State)))",
        "\n        );"
      ],
      "metadata": {},
      "execution_count": 1,
      "outputs": []
    },
    {
      "id": "G2bKdGeyiEeKBz1bG8g86w",
      "cell_type": "code",
      "source": [
        "public static IExcelDocumentBuilder StateEnumConfiguration (this IExcelDocumentBuilder builder)",
        "\n{",
        "\n    var helperState = new[] {new HelperState {State = \"Active\"}, new HelperState {State = \"Inactive\"} }; ",
        "\n    return builder.WithTable<HelperState>( config => config .WithSheetVisibility(SheetStateValues.Hidden)",
        "\n                //.WithColumn(x => x.State, z => z.WithNamedRange(y => y.WithName(\"HelperState_State\")))",
        "\n                .WithColumn(x => x.State, z => z.WithDefaultNamedRange())",
        "\n                .WithSource(source => helperState.AsQueryable()) );",
        "\n}"
      ],
      "metadata": {},
      "execution_count": 1,
      "outputs": []
    },
    {
      "id": "zb2wO1m1uUaw0RbXeMwHGw",
      "cell_type": "markdown",
      "source": [
        "# Data Node Parameter"
      ],
      "metadata": {}
    },
    {
      "id": "4hvQE9cObUS1h9wW2WA_LA",
      "cell_type": "code",
      "source": [
        "public static IExcelDocumentBuilder DataNodeParameterConfiguration (this IExcelDocumentBuilder builder, Dictionary<string, DataNodeParameter[]> data)",
        "\n    => builder",
        "\n        .WithTable<LiabilityType>(x => x.Delete())",
        "\n        .WithTable<Profitability>(x => x.Delete())",
        "\n        .WithTable<Portfolio>(x => x.Delete())",
        "\n        .WithTable<Currency>(x => x.Delete())",
        "\n        .WithTable<LineOfBusiness>(x => x.Delete())",
        "\n        .WithTable<ValuationApproach>(x => x.Delete())",
        "\n        .WithTable<OciType>(x => x.Delete())",
        "\n        .WithTable<Partner>(x => x.Delete())",
        "\n        .WithTable<ReportingNode>(x => x.Delete())",
        "\n        .WithTable<Scenario>(x => x.Delete())",
        "\n        .WithTable<InterDataNodeParameter>(config => config       ",
        "\n            .AtBeginning() ",
        "\n            .WithSource(source => data[nameof(InterDataNodeParameter)].Cast<InterDataNodeParameter>().AsQueryable())",
        "\n            .WithColumn(x => x.Partition, x => x.Delete())",
        "\n            .WithColumn(x => x.Month, x => x.Delete())",
        "\n            .WithColumn(x => x.Id, x => x.Delete())",
        "\n            .WithColumn(x => x.Year, x => x.Delete())",
        "\n        )",
        "\n        .WithTable<SingleDataNodeParameter>(config => config       ",
        "\n            .AtBeginning() ",
        "\n            .WithSource(source => data[nameof(SingleDataNodeParameter)].Cast<SingleDataNodeParameter>().AsQueryable())",
        "\n            .WithColumn(x => x.DataNode, x => x.WithHeader(\"DataNode\"))",
        "\n            .WithColumn(x => x.Partition, x => x.Delete())",
        "\n            .WithColumn(x => x.Month, x => x.Delete())",
        "\n            .WithColumn(x => x.Year, x => x.Delete())",
        "\n            .WithColumn(x => x.Year, x => x.Delete())",
        "\n            .WithColumn(x => x.Id, x => x.Delete())",
        "\n        );"
      ],
      "metadata": {},
      "execution_count": 1,
      "outputs": []
    },
    {
      "id": "6k1Zt47Wtk6cltgFOwSPXQ",
      "cell_type": "code",
      "source": [
        ""
      ],
      "metadata": {},
      "execution_count": 1,
      "outputs": []
    }
  ]
}