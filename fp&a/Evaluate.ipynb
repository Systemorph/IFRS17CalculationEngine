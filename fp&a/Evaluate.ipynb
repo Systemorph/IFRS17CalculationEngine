{
    "metadata": {
        "authors": [],
        "id": "qeOnUAhRJ0ihlDezHlrM-w",
        "kernelspec": {
            "display_name": "Formula Framework",
            "language": "C#",
            "name": "C#"
        },
        "language_info": {
            "file_extension": ".cs",
            "mimetype": "text/plain",
            "name": "C#"
        }
    },
    "nbformat": 4,
    "nbformat_minor": 5,
    "cells": [
        {
            "cell_type": "markdown",
            "source": [
                "<p style=\"font-weight:bold;\"> <span style=\"font-size: 36px\">Cashflow Scopes Calculation</span> </p>",
                "\n",
                "\n<br><br>",
                "\nAfter successfully loading the parsed data in the dataSource, the import scopes for a specific partition can be re-evaluated in this notebook. ",
                "\nThe import scopes can then be displayed, examined and used for further calculations."
            ],
            "metadata": {},
            "execution_count": 0,
            "outputs": []
        },
        {
            "cell_type": "markdown",
            "source": [
                "# Basic Initialization"
            ],
            "metadata": {},
            "execution_count": 0,
            "outputs": []
        },
        {
            "cell_type": "markdown",
            "source": [
                "## Dimensions"
            ],
            "metadata": {},
            "execution_count": 0,
            "outputs": []
        },
        {
            "cell_type": "code",
            "source": [
                "#!import \"Initialize Dimensions\""
            ],
            "metadata": {},
            "execution_count": 0,
            "outputs": []
        },
        {
            "cell_type": "markdown",
            "source": [
                "# Storage & Scopes"
            ],
            "metadata": {},
            "execution_count": 0,
            "outputs": []
        },
        {
            "cell_type": "code",
            "source": [
                "#!import \"/Import/Scopes\""
            ],
            "metadata": {},
            "execution_count": 0,
            "outputs": []
        },
        {
            "cell_type": "markdown",
            "source": [
                "# Setup"
            ],
            "metadata": {},
            "execution_count": 0,
            "outputs": []
        },
        {
            "cell_type": "markdown",
            "source": [
                "## Primary Args"
            ],
            "metadata": {},
            "execution_count": 0,
            "outputs": []
        },
        {
            "cell_type": "code",
            "source": [
                "var reportingNode = \"DE\";",
                "\nvar year = 2022;",
                "\nvar month = 12;",
                "\nvar importFormat = ImportFormats.Cashflow;",
                "\nvar periodicity = Periodicity.Monthly;",
                "\nvar scenario = (string)null;",
                "\n",
                "\nImportArgs args = new ImportArgs(reportingNode, year, month, periodicity, scenario, importFormat);"
            ],
            "metadata": {},
            "execution_count": 0,
            "outputs": []
        },
        {
            "cell_type": "markdown",
            "source": [
                "## Storage"
            ],
            "metadata": {},
            "execution_count": 0,
            "outputs": []
        },
        {
            "cell_type": "code",
            "source": [
                "var storage = new CashflowStorage(args, DataSource, Workspace);",
                "\nawait storage.InitializeAsync();"
            ],
            "metadata": {},
            "execution_count": 0,
            "outputs": []
        },
        {
            "cell_type": "code",
            "source": [
                "//storage.BasicCashflowDefinitionsByIdentity"
            ],
            "metadata": {},
            "execution_count": 0,
            "outputs": []
        },
        {
            "cell_type": "markdown",
            "source": [
                "## Identities"
            ],
            "metadata": {},
            "execution_count": 0,
            "outputs": []
        },
        {
            "cell_type": "code",
            "source": [
                "var identities = storage.Identities;",
                "\n//identities"
            ],
            "metadata": {},
            "execution_count": 0,
            "outputs": []
        },
        {
            "cell_type": "markdown",
            "source": [
                "# Cashflows"
            ],
            "metadata": {},
            "execution_count": 0,
            "outputs": []
        },
        {
            "cell_type": "markdown",
            "source": [
                "## Basic"
            ],
            "metadata": {},
            "execution_count": 0,
            "outputs": []
        },
        {
            "cell_type": "code",
            "source": [
                "var basic = Scopes.ForIdentities(identities, storage).ToScopes<BasicCashflows>().SelectMany(x => x.rv).ToArray();",
                "\n//basic.Take(3)"
            ],
            "metadata": {},
            "execution_count": 0,
            "outputs": []
        },
        {
            "cell_type": "code",
            "source": [
                "var id = identities.Single(x => x.DataNode == \"G.BBA.LRC.2020.P\" && x.AmountType == \"PR\");",
                "\n//id"
            ],
            "metadata": {},
            "execution_count": 0,
            "outputs": []
        },
        {
            "cell_type": "code",
            "source": [
                "public interface IModel : IMutableScopeWithStorage<CashflowStorage>{}",
                "\nvar universe = Scopes.ForStorage(storage).ToScope<IModel>();",
                "\n//universe.GetScope<BasicCashflows>(id).rv.Select(x => x.Values).AggregateDoubleArray()"
            ],
            "metadata": {},
            "execution_count": 0,
            "outputs": []
        },
        {
            "cell_type": "markdown",
            "source": [
                "## Bounded"
            ],
            "metadata": {},
            "execution_count": 0,
            "outputs": []
        },
        {
            "cell_type": "code",
            "source": [
                "var bounded = Scopes.ForIdentities(identities, storage).ToScopes<BoundedCashflows>().SelectMany(x => x.rv).ToArray();"
            ],
            "metadata": {},
            "execution_count": 0,
            "outputs": []
        },
        {
            "cell_type": "markdown",
            "source": [
                "## Referenced"
            ],
            "metadata": {},
            "execution_count": 0,
            "outputs": []
        },
        {
            "cell_type": "markdown",
            "source": [
                "### Cashflow Definitions"
            ],
            "metadata": {},
            "execution_count": 0,
            "outputs": []
        },
        {
            "cell_type": "code",
            "source": [
                "var cd = Scopes.ForIdentities(identities, storage).ToScopes<ReferencedCashflows>().SelectMany(x => x.cd).ToArray();",
                "\ncd.Take(3)"
            ],
            "metadata": {},
            "execution_count": 0,
            "outputs": []
        },
        {
            "cell_type": "markdown",
            "source": [
                "### Cashflows"
            ],
            "metadata": {},
            "execution_count": 0,
            "outputs": []
        },
        {
            "cell_type": "code",
            "source": [
                "var referenced = Scopes.ForIdentities(identities, storage).ToScopes<ReferencedCashflows>().SelectMany(x => x.rv).ToArray();",
                "\nreferenced.Take(3)"
            ],
            "metadata": {},
            "execution_count": 0,
            "outputs": []
        },
        {
            "cell_type": "code",
            "source": [
                ""
            ],
            "metadata": {},
            "execution_count": 0,
            "outputs": []
        }
    ]
}