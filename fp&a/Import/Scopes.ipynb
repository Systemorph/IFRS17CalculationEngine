{
    "metadata": {
        "authors": [],
        "id": "Zjpv15lfHE-pIOV4Y6Bt4A",
        "kernelspec": {
            "display_name": "Formula Framework",
            "language": "C#",
            "name": "C#"
        },
        "language_info": {
            "file_extension": ".cs",
            "mimetype": "text/plain",
            "name": "C#"
        }
    },
    "nbformat": 4,
    "nbformat_minor": 5,
    "cells": [
        {
            "cell_type": "code",
            "source": [
                "#!import \"Storage\""
            ],
            "metadata": {},
            "execution_count": 0,
            "outputs": []
        },
        {
            "cell_type": "code",
            "source": [
                "public interface BasicCashflows : IScope<CashflowIdentity, CashflowStorage>",
                "\n{",
                "\n    public IEnumerable<BasicCashflowDefinition> cd => GetStorage().GetBasicCashflowDefinitions(Identity);",
                "\n",
                "\n    public RawVariable[] rv => cd.Select(x => new RawVariable() {",
                "\n        Values = GenerateBasicCashflow(x),",
                "\n        DataNode = Identity.DataNode,",
                "\n        AmountType = Identity.AmountType,",
                "\n        AccidentYear = Identity.AccidentYear,",
                "\n        EstimateType = EstimateTypes.BE,",
                "\n        Novelty = Novelties.C,",
                "\n        AocType = AocTypes.CL",
                "\n    }",
                "\n    ).ToArray();",
                "\n    ",
                "\n",
                "\n}"
            ],
            "metadata": {},
            "execution_count": 0,
            "outputs": []
        },
        {
            "cell_type": "code",
            "source": [
                "public interface BoundedCashflows : IScope<CashflowIdentity, CashflowStorage>",
                "\n{",
                "\n    public IEnumerable<BoundedCashflowDefinition> cd => GetStorage().GetBoundedCashflowDefinitions(Identity);",
                "\n",
                "\n    public RawVariable[] rv => cd.Select(x => new RawVariable() {",
                "\n        Values = GenerateBoundedCashflow(x),",
                "\n        DataNode = Identity.DataNode,",
                "\n        AmountType = Identity.AmountType,",
                "\n        AccidentYear = Identity.AccidentYear,",
                "\n        EstimateType = EstimateTypes.BE,",
                "\n        Novelty = Novelties.C,",
                "\n        AocType = AocTypes.CL",
                "\n    }",
                "\n    ).ToArray();",
                "\n      ",
                "\n}"
            ],
            "metadata": {},
            "execution_count": 0,
            "outputs": []
        },
        {
            "cell_type": "code",
            "source": [
                "public interface ReferencedCashflows : IScope<CashflowIdentity, CashflowStorage>",
                "\n{",
                "\n    public  IEnumerable<ReferencedCashflowDefinition> cd => GetStorage().GetReferencedCashflowDefinitions(Identity);",
                "\n",
                "\n    public RawVariable[] rv => cd.Select(x => new RawVariable() {",
                "\n        Values = GetScope<BasicCashflows>(Identity with {AmountType = x.ReferenceAmountType}).rv.First().Values,",
                "\n        DataNode = Identity.DataNode,",
                "\n        AmountType = Identity.AmountType,",
                "\n        AccidentYear = Identity.AccidentYear,",
                "\n        EstimateType = EstimateTypes.BE,",
                "\n        Novelty = Novelties.C,",
                "\n        AocType = AocTypes.CL",
                "\n    }",
                "\n    ).ToArray();",
                "\n",
                "\n   ",
                "\n}"
            ],
            "metadata": {},
            "execution_count": 0,
            "outputs": []
        },
        {
            "cell_type": "code",
            "source": [
                ""
            ],
            "metadata": {},
            "execution_count": 0,
            "outputs": []
        },
        {
            "cell_type": "code",
            "source": [
                ""
            ],
            "metadata": {},
            "execution_count": 0,
            "outputs": []
        }
    ]
}