{
    "metadata": {
        "authors": [],
        "id": "Zjpv15lfHE-pIOV4Y6Bt4A",
        "kernelspec": {
            "display_name": "Formula Framework",
            "language": "C#",
            "name": "C#"
        },
        "language_info": {
            "file_extension": ".cs",
            "mimetype": "text/plain",
            "name": "C#"
        }
    },
    "nbformat": 4,
    "nbformat_minor": 5,
    "cells": [
        {
            "cell_type": "code",
            "source": [
                "#!import \"Storage\""
            ],
            "metadata": {},
            "execution_count": 0,
            "outputs": []
        },
        {
            "cell_type": "code",
            "source": [
                "public interface BasicCashflows : IScope<CashflowIdentity, CashflowStorage>",
                "\n{",
                "\n    public IEnumerable<BasicCashflowDefinition> cd => GetStorage().GetBasicCashflowDefinitions(Identity); // TODO remove the IEnumerable here",
                "\n",
                "\n    public FpaVariable[] rv => cd.Select((x,i) => new FpaVariable() { //  and here, create one rv",
                "\n        Layer = i,",
                "\n        Values = GenerateBasicCashflow(x),",
                "\n        DataNode = Identity.DataNode,",
                "\n        AmountType = Identity.AmountType,",
                "\n        AccidentYear = Identity.AccidentYear,",
                "\n        EstimateType = EstimateTypes.BE,",
                "\n        Novelty = Novelties.C,",
                "\n        AocType = AocTypes.CL",
                "\n    }",
                "\n    ).ToArray();",
                "\n}"
            ],
            "metadata": {},
            "execution_count": 0,
            "outputs": []
        },
        {
            "cell_type": "code",
            "source": [
                "public interface BoundedCashflows : IScope<CashflowIdentity, CashflowStorage>",
                "\n{",
                "\n    public IEnumerable<BoundedCashflowDefinition> cd => GetStorage().GetBoundedCashflowDefinitions(Identity);",
                "\n",
                "\n    public FpaVariable[] rv => cd.Select((x,i) => new FpaVariable() {",
                "\n        Layer = i,",
                "\n        Values = GenerateBoundedCashflow(x),",
                "\n        DataNode = Identity.DataNode,",
                "\n        AmountType = Identity.AmountType,",
                "\n        AccidentYear = Identity.AccidentYear,",
                "\n        EstimateType = EstimateTypes.BE,",
                "\n        Novelty = Novelties.C,",
                "\n        AocType = AocTypes.CL",
                "\n    }",
                "\n    ).ToArray();      ",
                "\n}"
            ],
            "metadata": {},
            "execution_count": 0,
            "outputs": []
        },
        {
            "cell_type": "code",
            "source": [
                "public interface ParametrisedCashflows : IScope<(CashflowIdentity Id, string originalAmountType), CashflowStorage>{",
                "\n",
                "\n    static ApplicabilityBuilder ScopeApplicabilityBuilder(ApplicabilityBuilder builder) =>",
                "\n                builder.ForScope<ParametrisedCashflows>(s => s.WithApplicability<ReferencedParametrisedCashflows>(x => x.Identity.originalAmountType != x.Identity.Id.AmountType));",
                "\n",
                "\n    public double[] values => (GetScope<BasicCashflows>(Identity.Id).rv.Concat(",
                "\n                               GetScope<BoundedCashflows>(Identity.Id).rv))",
                "\n                               .Select(x => x.Values).AggregateDoubleArray(); // TODO zip parameters GetStorage().GetReferencedCashflowDefinitions(Identity)",
                "\n}",
                "\n",
                "\npublic interface ReferencedParametrisedCashflows : ParametrisedCashflows",
                "\n{",
                "\n",
                "\n    double[] ParametrisedCashflows.values => GetScope<ReferencedCashflows>(Identity.Id).rv.Select(x => x.Values).AggregateDoubleArray();",
                "\n",
                "\n}",
                "\n",
                "\npublic interface ReferencedCashflows : IScope<CashflowIdentity, CashflowStorage>",
                "\n{",
                "\n    public  IEnumerable<ReferencedCashflowDefinition> cd => GetStorage().GetReferencedCashflowDefinitions(Identity);",
                "\n",
                "\n    public double[] values => cd.Select(x => GetScope<ParametrisedCashflows>((Identity with {AmountType = x.ReferenceAmountType}, x.AmountType)).values).AggregateDoubleArray();",
                "\n",
                "\n    public FpaVariable[] rv => cd.Select((x, i) => new FpaVariable() {",
                "\n        Layer = i,",
                "\n        Values = values,",
                "\n        DataNode = Identity.DataNode,",
                "\n        AmountType = Identity.AmountType,",
                "\n        AccidentYear = Identity.AccidentYear,",
                "\n        EstimateType = EstimateTypes.BE,",
                "\n        Novelty = Novelties.C,",
                "\n        AocType = AocTypes.CL",
                "\n    }",
                "\n    ).ToArray(); ",
                "\n}"
            ],
            "metadata": {},
            "execution_count": 0,
            "outputs": []
        },
        {
            "cell_type": "code",
            "source": [
                ""
            ],
            "metadata": {},
            "execution_count": 0,
            "outputs": []
        }
    ]
}