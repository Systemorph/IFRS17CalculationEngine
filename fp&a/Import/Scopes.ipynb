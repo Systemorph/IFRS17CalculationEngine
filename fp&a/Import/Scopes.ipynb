{
    "metadata": {
        "authors": [],
        "id": "Zjpv15lfHE-pIOV4Y6Bt4A",
        "kernelspec": {
            "display_name": "Formula Framework",
            "language": "C#",
            "name": "C#"
        },
        "language_info": {
            "file_extension": ".cs",
            "mimetype": "text/plain",
            "name": "C#"
        }
    },
    "nbformat": 4,
    "nbformat_minor": 5,
    "cells": [
        {
            "cell_type": "code",
            "source": [
                "#!import \"Storage\""
            ],
            "metadata": {},
            "execution_count": 0,
            "outputs": []
        },
        {
            "cell_type": "code",
            "source": [
                "public interface ComputeBasicCashflow : IScope<BasicCashflowDefinition>",
                "\n{",
                "\n    static ApplicabilityBuilder ScopeApplicabilityBuilder(ApplicabilityBuilder builder) =>",
                "\n     builder.ForScope<ComputeBasicCashflow>(s => s",
                "\n         .WithApplicability<LinearShape>(x => x.Identity.Shape == Shape.Linear)",
                "\n         .WithApplicability<CompoundShape>(x => x.Identity.Shape == Shape.Compound)",
                "\n    );",
                "\n    //Constant is the default Case",
                "\n    double[] Values => Enumerable.Repeat(Identity.InitialValue, Identity.Length).ToArray();",
                "\n}",
                "\n",
                "\npublic interface LinearShape : ComputeBasicCashflow {",
                "\n    double[] ComputeBasicCashflow.Values => GetLinearValues();",
                "\n",
                "\n    private double[] GetLinearValues(){ //Should these functions be moved in the utils?",
                "\n        var linear = new double[Identity.Length];",
                "\n            for (var i = Identity.Shift; i < Identity.Length; i++)",
                "\n                if (i == Identity.Shift)",
                "\n                    linear[i] = Identity.InitialValue;",
                "\n                else",
                "\n                    linear[i] = linear[i-1] * Identity.Values[i - Identity.Shift];",
                "\n        return linear;",
                "\n    }",
                "\n}",
                "\n",
                "\npublic interface CompoundShape : ComputeBasicCashflow {",
                "\n    double[] ComputeBasicCashflow.Values => GetCompoundValues();",
                "\n",
                "\n    private double[] GetCompoundValues(){",
                "\n        var compound = new double[Identity.Length];",
                "\n            for (var i = Identity.Shift; i < Identity.Length; i++)",
                "\n                if (i == Identity.Shift)",
                "\n                    compound[i] = Identity.InitialValue;",
                "\n                else",
                "\n                    compound[i] = compound[i-1] * Identity.Values[i - Identity.Shift];",
                "\n        return compound;",
                "\n    }",
                "\n}"
            ],
            "metadata": {},
            "execution_count": 0,
            "outputs": []
        },
        {
            "cell_type": "code",
            "source": [
                "public interface BasicCashflows : IScope<CashflowIdentity, CashflowStorage>",
                "\n{",
                "\n    public FpaVariable[] rv => GetStorage().GetBasicCashflowDefinitions(Identity)",
                "\n        .Select((cd,i) => new FpaVariable() {",
                "\n            Layer = \"Basic\" + i.ToString(),",
                "\n            Values = GetScope<ComputeBasicCashflow>(cd).Values,",
                "\n            DataNode = Identity.DataNode,",
                "\n            AmountType = Identity.AmountType,",
                "\n            AccidentYear = Identity.AccidentYear,",
                "\n            EstimateType = EstimateTypes.BE,",
                "\n            Novelty = Novelties.C,",
                "\n            AocType = AocTypes.CL",
                "\n    }",
                "\n    ).ToArray();",
                "\n}"
            ],
            "metadata": {},
            "execution_count": 0,
            "outputs": []
        },
        {
            "cell_type": "code",
            "source": [
                "public interface BoundedCashflows : IScope<CashflowIdentity, CashflowStorage>",
                "\n{",
                "\n    public IEnumerable<BoundedCashflowDefinition> cd => GetStorage().GetBoundedCashflowDefinitions(Identity);",
                "\n",
                "\n    public FpaVariable[] rv => cd.Select((x,i) => new FpaVariable() {",
                "\n        Layer = \"Bounded\" + i.ToString(),",
                "\n        Values = GenerateBoundedCashflow(x),",
                "\n        DataNode = Identity.DataNode,",
                "\n        AmountType = Identity.AmountType,",
                "\n        AccidentYear = Identity.AccidentYear,",
                "\n        EstimateType = EstimateTypes.BE,",
                "\n        Novelty = Novelties.C,",
                "\n        AocType = AocTypes.CL",
                "\n    }",
                "\n    ).ToArray();      ",
                "\n}"
            ],
            "metadata": {},
            "execution_count": 0,
            "outputs": []
        },
        {
            "cell_type": "code",
            "source": [
                "public interface ReferencedCashflows : IScope<(CashflowIdentity Id, string OriginalAmountType), CashflowStorage>{",
                "\n",
                "\n   static ApplicabilityBuilder ScopeApplicabilityBuilder(ApplicabilityBuilder builder) =>",
                "\n        builder.ForScope<ReferencedCashflows>(s => s",
                "\n            .WithApplicability<ParametrisedCashflows>(x => x.Identity.OriginalAmountType == x.Identity.Id.AmountType));",
                "\n",
                "\n    public double[] Values => GetScope<ReferenceCashflows>(Identity.Id).rv.Select(x => x.Values).AggregateDoubleArray();",
                "\n}",
                "\n",
                "\npublic interface ParametrisedCashflows : ReferencedCashflows{",
                "\n    double[] ReferencedCashflows.Values => GetScope<BasicCashflows>(Identity.Id).rv.Concat(",
                "\n                               GetScope<BoundedCashflows>(Identity.Id).rv)",
                "\n                               .Select(x => x.Values).AggregateDoubleArray();",
                "\n}",
                "\n",
                "\npublic interface WeightedReference : IScope<(CashflowIdentity Id, string ReferenceAmountType), CashflowStorage>{",
                "\n    //private",
                "\n    double[] referencedValues => GetScope<ReferencedCashflows>((Identity.Id with {AmountType = Identity.ReferenceAmountType}, Identity.Id.AmountType)).Values;",
                "\n    double[] weights => GetStorage().GetReferencedCashflowDefinition(Identity.Id).Single(cd => cd.ReferenceAmountType == Identity.ReferenceAmountType).Values;",
                "\n    ",
                "\n    double[] Values => weights.Zip(referencedValues, (weight, referencedValue) => weight * referencedValue).ToArray();",
                "\n}",
                "\n",
                "\npublic interface ReferenceCashflows : IScope<CashflowIdentity, CashflowStorage>",
                "\n{",
                "\n    public FpaVariable[] rv => GetStorage().GetReferencedCashflowDefinition(Identity) //Split computation from variable creation",
                "\n        .Select((cd, i) => new FpaVariable() {",
                "\n        Layer = \"Reference\" + i.ToString(),",
                "\n        Values = GetScope<WeightedReference>((Identity, cd.ReferenceAmountType)).Values,",
                "\n        DataNode = Identity.DataNode,",
                "\n        AmountType = Identity.AmountType,",
                "\n        AccidentYear = Identity.AccidentYear,",
                "\n        EstimateType = EstimateTypes.BE,",
                "\n        Novelty = Novelties.C,",
                "\n        AocType = AocTypes.CL",
                "\n    }",
                "\n    ).ToArray(); ",
                "\n}"
            ],
            "metadata": {},
            "execution_count": 0,
            "outputs": []
        },
        {
            "cell_type": "code",
            "source": [
                ""
            ],
            "metadata": {},
            "execution_count": 0,
            "outputs": []
        },
        {
            "cell_type": "code",
            "source": [
                ""
            ],
            "metadata": {},
            "execution_count": 0,
            "outputs": []
        }
    ]
}