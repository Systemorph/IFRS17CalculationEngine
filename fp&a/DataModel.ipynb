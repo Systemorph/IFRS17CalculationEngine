{
    "metadata": {
        "authors": [],
        "id": "bpCHQp0px0SSZnf-SYxkzQ",
        "kernelspec": {
            "display_name": "Formula Framework",
            "language": "C#",
            "name": "C#"
        },
        "language_info": {
            "file_extension": ".cs",
            "mimetype": "text/plain",
            "name": "C#"
        }
    },
    "nbformat": 4,
    "nbformat_minor": 5,
    "cells": [
        {
            "cell_type": "markdown",
            "source": [
                "# Basics"
            ],
            "metadata": {},
            "execution_count": 0,
            "outputs": []
        },
        {
            "cell_type": "code",
            "source": [
                "#!import \"../Constants/CalculationEngine\"",
                "\n#!import \"../Constants/Enums\""
            ],
            "metadata": {},
            "execution_count": 0,
            "outputs": []
        },
        {
            "cell_type": "code",
            "source": [
                "using Systemorph.Vertex.Grid.Model;",
                "\nusing Systemorph.Vertex.Pivot.Builder.Interfaces;",
                "\nusing Systemorph.Vertex.Hierarchies;"
            ],
            "metadata": {},
            "execution_count": 0,
            "outputs": []
        },
        {
            "cell_type": "markdown",
            "source": [
                "# Dimensions"
            ],
            "metadata": {},
            "execution_count": 0,
            "outputs": []
        },
        {
            "cell_type": "markdown",
            "source": [
                "## Cashflow Definition"
            ],
            "metadata": {},
            "execution_count": 0,
            "outputs": []
        },
        {
            "cell_type": "code",
            "source": [
                "public record CashflowDefinition : IKeyed",
                "\n{",
                "\n    [Key]",
                "\n    [NotVisible]     ",
                "\n    public Guid Id { get; init; }",
                "\n",
                "\n    [IdentityProperty]",
                "\n    [Dimension(typeof(string), nameof(DataNode))]",
                "\n    public string DataNode { get; init; }",
                "\n",
                "\n    [IdentityProperty]",
                "\n    [Dimension(typeof(AmountType))] ",
                "\n    public string AmountType { get; init; }",
                "\n",
                "\n    [NotVisible]",
                "\n    [NoArithmetics(ArithmeticOperation.Scale)]",
                "\n    [Dimension(typeof(int), nameof(AccidentYear))]",
                "\n    [IdentityProperty]",
                "\n    public int? AccidentYear { get; init; }",
                "\n",
                "\n    [IdentityProperty]",
                "\n    [Dimension(typeof(Shape), nameof(Shape))]",
                "\n    public Shape Shape { get; init; }",
                "\n       ",
                "\n    [Dimension(typeof(double), nameof(Values))]",
                "\n    public double[] Values { get; init; }",
                "\n",
                "\n}"
            ],
            "metadata": {},
            "execution_count": 0,
            "outputs": []
        },
        {
            "cell_type": "code",
            "source": [
                "public record SimpleCashflowDefinition : CashflowDefinition",
                "\n{",
                "\n    public double InitialValue { get; init; }",
                "\n",
                "\n    public int Length { get; init; }",
                "\n",
                "\n    public int Shift { get; init; }",
                "\n",
                "\n}"
            ],
            "metadata": {},
            "execution_count": 0,
            "outputs": []
        },
        {
            "cell_type": "markdown",
            "source": [
                "### Basic"
            ],
            "metadata": {},
            "execution_count": 0,
            "outputs": []
        },
        {
            "cell_type": "code",
            "source": [
                "public record BasicCashflowDefinition : SimpleCashflowDefinition {}"
            ],
            "metadata": {},
            "execution_count": 0,
            "outputs": []
        },
        {
            "cell_type": "markdown",
            "source": [
                "#### Bounded"
            ],
            "metadata": {},
            "execution_count": 0,
            "outputs": []
        },
        {
            "cell_type": "code",
            "source": [
                "public record BoundedCashflowDefinition : SimpleCashflowDefinition",
                "\n{",
                "\n    public double Minimum { get; init; }",
                "\n",
                "\n    public double Maximum { get; init; }",
                "\n}"
            ],
            "metadata": {},
            "execution_count": 0,
            "outputs": []
        },
        {
            "cell_type": "markdown",
            "source": [
                "#### Referenced"
            ],
            "metadata": {},
            "execution_count": 0,
            "outputs": []
        },
        {
            "cell_type": "code",
            "source": [
                "public record ReferencedCashflowDefinition : SimpleCashflowDefinition",
                "\n{",
                "\n    [IdentityProperty]",
                "\n    [Dimension(typeof(AmountType))] ",
                "\n    public string ReferenceAmountType { get; init; }",
                "\n}"
            ],
            "metadata": {},
            "execution_count": 0,
            "outputs": []
        }
    ]
}