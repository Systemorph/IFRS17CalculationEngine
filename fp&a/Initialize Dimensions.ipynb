{
    "metadata": {
        "authors": [],
        "id": "B3DxP9O2AkuhFYIgwYJCpw",
        "kernelspec": {
            "display_name": "Formula Framework",
            "language": "C#",
            "name": "C#"
        },
        "language_info": {
            "file_extension": ".cs",
            "mimetype": "text/plain",
            "name": "C#"
        }
    },
    "nbformat": 4,
    "nbformat_minor": 5,
    "cells": [
        {
            "cell_type": "markdown",
            "source": [
                "# Initialize"
            ],
            "metadata": {},
            "execution_count": 0,
            "outputs": []
        },
        {
            "cell_type": "code",
            "source": [
                "#!import \"../Utils/ImportCalculationMethods\""
            ],
            "metadata": {},
            "execution_count": 0,
            "outputs": []
        },
        {
            "cell_type": "markdown",
            "source": [
                "## DataSource"
            ],
            "metadata": {},
            "execution_count": 0,
            "outputs": []
        },
        {
            "cell_type": "code",
            "source": [
                "await DataSource.SetAsync();",
                "\nDataSource.Reset(x => x.ResetCurrentPartitions());"
            ],
            "metadata": {},
            "execution_count": 0,
            "outputs": []
        },
        {
            "cell_type": "markdown",
            "source": [
                "# Dimensions"
            ],
            "metadata": {},
            "execution_count": 0,
            "outputs": []
        },
        {
            "cell_type": "markdown",
            "source": [
                "## AmountType"
            ],
            "metadata": {},
            "execution_count": 0,
            "outputs": []
        },
        {
            "cell_type": "code",
            "source": [
                "var amountTypes = @\"@@AmountType",
                "\nSystemName,DisplayName,Parent",
                "\nT,Technical Result,",
                "\nPR,Premium,T",
                "\nLO,Loss,T",
                "\nRA,Risk Adjustment,",
                "\nCI,Claims Incurred,",
                "\nCL,Claims,T",
                "\nNIC,Claims Paid (LIC),CL",
                "\nCE,Claims Expense,CL",
                "\nE,Expenses,",
                "\nDAE,Deferred Acquisition Expenses,E",
                "\nAEM,Maintenance Expenses,E",
                "\nCE,Claim Expenses,E",
                "\nO,Other,",
                "\nCU,CoverageUnits,O\"",
                "\n;",
                "\nvar ratioAmountTypes = @\"@@RatioAmountType",
                "\nSystemName,DisplayName,Parent",
                "\nLR,LossRatio,",
                "\nS2R,Solvency Ratio,\"",
                "\n;",
                "\nvar patternAmountTypes = @\"@@PatternAmountType",
                "\nSystemName,DisplayName,Parent",
                "\nXC,Claims Incurred Pattern,",
                "\nXN,Claims Paid Pattern,\"",
                "\n;",
                "\nvar assetAmountTypes = @\"@@AssetAmountType",
                "\nSystemName,DisplayName,Parent",
                "\nSH,Shares,",
                "\nRE,Real Estate,",
                "\nCH,Cash,",
                "\nBO,Bonds,",
                "\nCB,CouponBond,BO",
                "\nCBC,Coupon,CB",
                "\nCBF,FaceValue,CB\"",
                "\n;",
                "\nvar solvencyBsAmountTypes = @\"@@SolvencyBsAmountType",
                "\nSystemName,DisplayName,Parent",
                "\nS2A,Solvency II Assets,",
                "\nS2IA,Invested Assets,S2A",
                "\nS2L,Solvency II Liabilities,",
                "\nS2TP,Technical Provisions,S2L",
                "\nS2RM,Risk Margin,S2TP",
                "\nS2BEL,Best Estimate Liability,S2TP",
                "\nS2OF,Own Funds,S2L",
                "\nS2SCR,SCR,S2OF",
                "\nS2FC,Free Capital,S2OF\"",
                "\n;",
                "\nvar ifrsBsAmountTypes = @\"@@IfrsBsAmountType",
                "\nSystemName,DisplayName,Parent",
                "\nIFRSA,IFRS17 Assets,",
                "\nIFRSIA,Invested Assets,IFRSA",
                "\nIFRSOCI,Asset OCI,IFRSA",
                "\nIFRSL,IFRS17 Liabilites,",
                "\nIFRSBE,Best Estimate Liabilities,IFRSL",
                "\nIFRSBEL,BEL Book Value,IFRSBE",
                "\nIFRSBELOCI,Best Estimate Liabilities OCI,IFRSBE",
                "\nIFRSRA,Risk Adjustment,IFRSL",
                "\nIFRSCSM,CSM,IFRSL",
                "\nIFRSEQ,Shareholders Equity,",
                "\nIFRSEQOCI,Net OCI Reserve,IFRSEQ",
                "\nIFRSEQRE,Retained Earnings,IFRSEQ\"",
                "\n;"
            ],
            "metadata": {},
            "execution_count": 0,
            "outputs": []
        },
        {
            "cell_type": "code",
            "source": [
                "await Import.FromString(amountTypes).WithType<AmountType>().WithTarget(DataSource).ExecuteAsync();",
                "\nawait Import.FromString(ratioAmountTypes).WithType<RatioAmountType>().WithTarget(DataSource).ExecuteAsync();",
                "\nawait Import.FromString(patternAmountTypes).WithType<PatternAmountType>().WithTarget(DataSource).ExecuteAsync();",
                "\nawait Import.FromString(assetAmountTypes).WithType<AssetAmountType>().WithTarget(DataSource).ExecuteAsync();",
                "\nawait Import.FromString(solvencyBsAmountTypes).WithType<SolvencyBsAmountType>().WithTarget(DataSource).ExecuteAsync();",
                "\nawait Import.FromString(ifrsBsAmountTypes).WithType<IfrsBsAmountType>().WithTarget(DataSource).ExecuteAsync();"
            ],
            "metadata": {},
            "execution_count": 0,
            "outputs": []
        },
        {
            "cell_type": "code",
            "source": [
                "(await DataSource.Query<AmountType>().ToArrayAsync()).Count()"
            ],
            "metadata": {},
            "execution_count": 0,
            "outputs": []
        },
        {
            "cell_type": "markdown",
            "source": [
                "## Cashflow Definition",
                "\n### Basic"
            ],
            "metadata": {},
            "execution_count": 0,
            "outputs": []
        },
        {
            "cell_type": "code",
            "source": [
                "Workspace.Initialize(x => x.FromSource(DataSource).DisableInitialization<RawVariable>().DisableInitialization<IfrsVariable>());"
            ],
            "metadata": {},
            "execution_count": 0,
            "outputs": []
        },
        {
            "cell_type": "code",
            "source": [
                "var basicCashflowDefinitions = @\"@@BasicCashflowDefinition",
                "\nDataNode,AmountType,Shape,InitialValue,Length,Shift,Values0,Values1,Values2,Values3,Values4,",
                "\nG.BBA.LRC.2020.P,PR,Constant,10000,5,0,,,,,",
                "\nG.BBA.LRC.2020.P,PR,Linear,1000,4,1,0.5,0.5,0.5,0.5,",
                "\n\";"
            ],
            "metadata": {},
            "execution_count": 0,
            "outputs": []
        },
        {
            "cell_type": "code",
            "source": [
                "await Import.FromString(basicCashflowDefinitions).WithType<BasicCashflowDefinition>().WithTarget(Workspace).ExecuteAsync()"
            ],
            "metadata": {},
            "execution_count": 0,
            "outputs": []
        },
        {
            "cell_type": "code",
            "source": [
                "Workspace.Query<BasicCashflowDefinition>()"
            ],
            "metadata": {},
            "execution_count": 0,
            "outputs": []
        },
        {
            "cell_type": "markdown",
            "source": [
                "### Bounded"
            ],
            "metadata": {},
            "execution_count": 0,
            "outputs": []
        },
        {
            "cell_type": "code",
            "source": [
                "var boundedCashflowDefinitions = @\"@@BoundedCashflowDefinition",
                "\nDataNode,AmountType,Shape,InitialValue,Length,Shift,Minimum,Maximum",
                "\nG.BBA.LRC.2020.P,PR,Random,6000,4,1,100,400",
                "\n\";"
            ],
            "metadata": {},
            "execution_count": 0,
            "outputs": []
        },
        {
            "cell_type": "code",
            "source": [
                "await Import.FromString(boundedCashflowDefinitions).WithType<BoundedCashflowDefinition>().WithTarget(Workspace).ExecuteAsync()"
            ],
            "metadata": {},
            "execution_count": 0,
            "outputs": []
        },
        {
            "cell_type": "code",
            "source": [
                "Workspace.Query<BoundedCashflowDefinition>()"
            ],
            "metadata": {},
            "execution_count": 0,
            "outputs": []
        },
        {
            "cell_type": "markdown",
            "source": [
                "### Referenced"
            ],
            "metadata": {},
            "execution_count": 0,
            "outputs": []
        },
        {
            "cell_type": "code",
            "source": [
                "var referencedCashflowDefinition = @\"@@ReferencedCashflowDefinition",
                "\nDataNode,AmountType,AccidentYear,Shape,InitialValue,Length,Shift,ReferenceAmountType,Values0,Values1,Values2,Values3,Values4",
                "\nG.BBA.LRC.2020.P,PR,,Reference,,,,PR,0.5,0.5,0.5,0.5,0.5",
                "\nG.BBA.LRC.2020.P,CL,,Reference,,,,PR,0.25,0.25,0.25,0.25,0.25",
                "\nG.BBA.LRC.2020.P,CL,,Reference,,,,AEM,0.5,0.5,0.5,0.5,0.5",
                "\nG.BBA.LRC.2020.P,AEM,,Reference,,,,PR,0.5,0.5,0.5,0.5,0.5",
                "\n\";"
            ],
            "metadata": {},
            "execution_count": 0,
            "outputs": []
        },
        {
            "cell_type": "code",
            "source": [
                "await Import.FromString(referencedCashflowDefinition).WithType<ReferencedCashflowDefinition>().WithTarget(Workspace).ExecuteAsync()"
            ],
            "metadata": {},
            "execution_count": 0,
            "outputs": []
        },
        {
            "cell_type": "code",
            "source": [
                "Workspace.Query<ReferencedCashflowDefinition>()"
            ],
            "metadata": {},
            "execution_count": 0,
            "outputs": []
        },
        {
            "cell_type": "code",
            "source": [
                ""
            ],
            "metadata": {},
            "execution_count": 0,
            "outputs": []
        }
    ]
}