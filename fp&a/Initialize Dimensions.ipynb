{
    "metadata": {
        "authors": [],
        "id": "B3DxP9O2AkuhFYIgwYJCpw",
        "kernelspec": {
            "display_name": "Formula Framework",
            "language": "C#",
            "name": "C#"
        },
        "language_info": {
            "file_extension": ".cs",
            "mimetype": "text/plain",
            "name": "C#"
        }
    },
    "nbformat": 4,
    "nbformat_minor": 5,
    "cells": [
        {
            "cell_type": "markdown",
            "source": [
                "# Initialize"
            ],
            "metadata": {},
            "execution_count": 0,
            "outputs": []
        },
        {
            "cell_type": "code",
            "source": [
                "#!import \"../Utils/ImportCalculationMethods\""
            ],
            "metadata": {},
            "execution_count": 0,
            "outputs": []
        },
        {
            "cell_type": "markdown",
            "source": [
                "## DataSource"
            ],
            "metadata": {},
            "execution_count": 0,
            "outputs": []
        },
        {
            "cell_type": "code",
            "source": [
                "await DataSource.SetAsync();",
                "\nDataSource.Reset(x => x.ResetCurrentPartitions());"
            ],
            "metadata": {},
            "execution_count": 0,
            "outputs": []
        },
        {
            "cell_type": "markdown",
            "source": [
                "# Dimensions"
            ],
            "metadata": {},
            "execution_count": 0,
            "outputs": []
        },
        {
            "cell_type": "markdown",
            "source": [
                "## AmountType"
            ],
            "metadata": {},
            "execution_count": 0,
            "outputs": []
        },
        {
            "cell_type": "code",
            "source": [
                "var amountTypes = @\"@@AmountType",
                "\nSystemName,DisplayName,Parent",
                "\nT,Technical Result,",
                "\nPR,Premium,T",
                "\nLO,Loss,T",
                "\nRA,Risk Adjustment,",
                "\nCI,Claims Incurred,",
                "\nCL,Claims,T",
                "\nNIC,Claims Paid (LIC),CL",
                "\nCE,Claims Expense,CL",
                "\nE,Expenses,",
                "\nDAE,Deferred Acquisition Expenses,E",
                "\nAEM,Maintenance Expenses,E",
                "\nCE,Claim Expenses,E",
                "\nO,Other,",
                "\nCU,CoverageUnits,O",
                "\nR,Ratios,",
                "\nLR,LossRatio,R",
                "\nX,Patterns,",
                "\nXC,Claims Incurred Pattern,X",
                "\nXN,Claims Paid Pattern,X",
                "\nA,AssetClasses,",
                "\nCB,CouponBond,A",
                "\nCBC,Coupon,CB",
                "\nCBF,FaceValue,CB",
                "\n\";"
            ],
            "metadata": {},
            "execution_count": 0,
            "outputs": []
        },
        {
            "cell_type": "code",
            "source": [
                "await Import.FromString(amountTypes).WithType<AmountType>().WithTarget(DataSource).ExecuteAsync()"
            ],
            "metadata": {},
            "execution_count": 0,
            "outputs": []
        },
        {
            "cell_type": "code",
            "source": [
                "await DataSource.Query<AmountType>().Take(3).ToArrayAsync()"
            ],
            "metadata": {},
            "execution_count": 0,
            "outputs": []
        },
        {
            "cell_type": "markdown",
            "source": [
                "## Cashflow Definition",
                "\n### Basic"
            ],
            "metadata": {},
            "execution_count": 0,
            "outputs": []
        },
        {
            "cell_type": "code",
            "source": [
                "Workspace.Initialize(x => x.FromSource(DataSource).DisableInitialization<RawVariable>().DisableInitialization<IfrsVariable>());"
            ],
            "metadata": {},
            "execution_count": 0,
            "outputs": []
        },
        {
            "cell_type": "code",
            "source": [
                "var basicCashflowDefinitions = @\"@@BasicCashflowDefinition",
                "\nDataNode,AmountType,Shape,InitialValue,Length,Shift",
                "\nG.BBA.LRC.2020.P,PR,Constant,10000,5,0",
                "\nG.BBA.LRC.2023.P,PR,Constant,12000,5,0",
                "\nG.BBA.LRC.2022.P,CBC,Constant,25,4,1",
                "\nG.BBA.LRC.2022.P,CBF,Constant,1000,1,4",
                "\n\";"
            ],
            "metadata": {},
            "execution_count": 0,
            "outputs": []
        },
        {
            "cell_type": "code",
            "source": [
                "await Import.FromString(basicCashflowDefinitions).WithType<BasicCashflowDefinition>().WithTarget(Workspace).ExecuteAsync()"
            ],
            "metadata": {},
            "execution_count": 0,
            "outputs": []
        },
        {
            "cell_type": "code",
            "source": [
                "Workspace.Query<BasicCashflowDefinition>().Take(3)"
            ],
            "metadata": {},
            "execution_count": 0,
            "outputs": []
        },
        {
            "cell_type": "markdown",
            "source": [
                "### Bounded"
            ],
            "metadata": {},
            "execution_count": 0,
            "outputs": []
        },
        {
            "cell_type": "code",
            "source": [
                "var boundedCashflowDefinitions = @\"@@BoundedCashflowDefinition",
                "\nDataNode,AmountType,Shape,InitialValue,Length,Shift,Minimum,Maximum",
                "\nG.BBA.LRC.2019.P,PR,Random,6000,4,1,0,12000",
                "\n\";"
            ],
            "metadata": {},
            "execution_count": 0,
            "outputs": []
        },
        {
            "cell_type": "code",
            "source": [
                "await Import.FromString(boundedCashflowDefinitions).WithType<BoundedCashflowDefinition>().WithTarget(Workspace).ExecuteAsync()"
            ],
            "metadata": {},
            "execution_count": 0,
            "outputs": []
        },
        {
            "cell_type": "code",
            "source": [
                "Workspace.Query<BoundedCashflowDefinition>().Take(3)"
            ],
            "metadata": {},
            "execution_count": 0,
            "outputs": []
        },
        {
            "cell_type": "markdown",
            "source": [
                "### Referenced"
            ],
            "metadata": {},
            "execution_count": 0,
            "outputs": []
        },
        {
            "cell_type": "code",
            "source": [
                "var referencedCashflowDefinition = @\"@@ReferencedCashflowDefinition",
                "\nDataNode,AmountType,AccidentYear,Shape,InitialValue,Length,Shift,ReferenceAmountType,Values0,Values1,Values2,Values3,Values4",
                "\nG.BBA.LRC.2020.P,CL,,Reference,,,,PR,0.75,0.75,0.75,0.75,0.75",
                "\nG.BBA.LRC.2020.P,DAE,,Reference,,,,PR,0.2,0.2,0.2,0.2,0.2",
                "\nG.BBA.LRC.2020.P,AEM,,Reference,,,,PR,0.02,0.02,0.02,0.02,0.02",
                "\nG.BBA.LRC.2020.P,CE,,Reference,,,,NIC,,,,,",
                "\nG.BBA.LRC.2023.P,CE,,Reference,,,,NIC,-0.03,-0.03,-0.03,-0.03,-0.03",
                "\nG.BBA.LRC.2020.P,RA,,Reference,,,,CL,0.04,0.04,0.04,0.04,0.04",
                "\nG.BBA.LRC.2023.P,RA,2023,Reference,,,,CL,0.04,0.04,0.04,0.04,0.04",
                "\nG.BBA.LRC.2023.P,RA,2024,Reference,,,1,CL,0.04,0.04,0.04,0.04,0.04",
                "\nG.BBA.LRC.2023.P,RA,2025,Reference,,,2,CL,0.04,0.04,0.04,0.04,0.04",
                "\nG.BBA.LRC.2023.P,RA,2026,Reference,,,3,CL,0.04,0.04,0.04,0.04,0.04",
                "\nG.BBA.LRC.2023.P,RA,2027,Reference,,,4,CL,0.04,0.04,0.04,0.04,0.04",
                "\nG.BBA.LRC.2023.P,RA,2028,Reference,,,5,CL,0.04,0.04,0.04,0.04,0.04",
                "\n\";"
            ],
            "metadata": {},
            "execution_count": 0,
            "outputs": []
        },
        {
            "cell_type": "code",
            "source": [
                "await Import.FromString(referencedCashflowDefinition).WithType<ReferencedCashflowDefinition>().WithTarget(Workspace).ExecuteAsync()"
            ],
            "metadata": {},
            "execution_count": 0,
            "outputs": []
        },
        {
            "cell_type": "code",
            "source": [
                "Workspace.Query<ReferencedCashflowDefinition>().Take(3)"
            ],
            "metadata": {},
            "execution_count": 0,
            "outputs": []
        },
        {
            "cell_type": "code",
            "source": [
                ""
            ],
            "metadata": {},
            "execution_count": 0,
            "outputs": []
        }
    ]
}