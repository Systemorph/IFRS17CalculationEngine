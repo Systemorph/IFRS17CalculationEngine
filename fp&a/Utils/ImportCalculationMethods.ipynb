{
    "metadata": {
        "authors": [],
        "id": "VUawTqH4l0uIj5t9sUjN3A",
        "kernelspec": {
            "display_name": "Formula Framework",
            "language": "C#",
            "name": "C#"
        },
        "language_info": {
            "file_extension": ".cs",
            "mimetype": "text/plain",
            "name": "C#"
        }
    },
    "nbformat": 4,
    "nbformat_minor": 5,
    "cells": [
        {
            "cell_type": "markdown",
            "source": [
                "# Import"
            ],
            "metadata": {},
            "execution_count": 0,
            "outputs": []
        },
        {
            "cell_type": "code",
            "source": [
                "#!import \"../DataModel\""
            ],
            "metadata": {},
            "execution_count": 0,
            "outputs": []
        },
        {
            "cell_type": "markdown",
            "source": [
                "# Calculation Methods"
            ],
            "metadata": {},
            "execution_count": 0,
            "outputs": []
        },
        {
            "cell_type": "markdown",
            "source": [
                "## Basic"
            ],
            "metadata": {},
            "execution_count": 0,
            "outputs": []
        },
        {
            "cell_type": "code",
            "source": [
                "public static double[] GenerateBasicCashflow(BasicCashflowDefinition cd)",
                "\n{ ",
                "\n    var shape = cd.Shape;",
                "\n    var values = cd.Values;",
                "\n ",
                "\n    var initialValue = cd.InitialValue;",
                "\n    var length = cd.Length;",
                "\n    var shift = cd.Shift;",
                "\n",
                "\n    if(length < 0 || shift < 0) return Enumerable.Empty<double>().ToArray();",
                "\n    ",
                "\n    var ret = new double[shift + length];",
                "\n",
                "\n    if(length >= 0)",
                "\n    {",
                "\n        for (var i = shift; i < shift + length; i++)",
                "\n            ret[i] = shape switch {",
                "\n               Shape.Constant  => initialValue,",
                "\n               Shape.Linear    => (i == 0 ? initialValue : ret[i - 1]) + values[i],",
                "\n               Shape.Compound  => (i == 0 ? initialValue : ret[i - 1]) * (1 +values[i]),",
                "\n               _           => default,",
                "\n            };",
                "\n        return ret;",
                "\n    }",
                "\n    return ret;",
                "\n}"
            ],
            "metadata": {},
            "execution_count": 0,
            "outputs": []
        },
        {
            "cell_type": "markdown",
            "source": [
                "## Bounded"
            ],
            "metadata": {},
            "execution_count": 0,
            "outputs": []
        },
        {
            "cell_type": "code",
            "source": [
                "public static double[] GenerateBoundedCashflow(BoundedCashflowDefinition cd)",
                "\n{ ",
                "\n    var shape = cd.Shape;",
                "\n",
                "\n    var minimum = cd.Minimum;",
                "\n    var maximum = cd.Maximum;",
                "\n",
                "\n    var initialValue = cd.InitialValue;",
                "\n    var length = cd.Length;",
                "\n    var shift = cd.Shift;",
                "\n",
                "\n    if(length < 0 || shift < 0) return Enumerable.Empty<double>().ToArray();",
                "\n    ",
                "\n    var ret = new double[shift + length];",
                "\n",
                "\n    var random = new Random();",
                "\n",
                "\n    if(length >= 0)",
                "\n    {",
                "\n        for (var i = shift; i < shift + length; i++)",
                "\n            ret[i] = shape switch {",
                "\n               Shape.Random  => random.NextDouble() * (maximum - minimum) + minimum,",
                "\n               _           => default",
                "\n            };",
                "\n        return ret;",
                "\n    }",
                "\n    return ret;",
                "\n}"
            ],
            "metadata": {},
            "execution_count": 0,
            "outputs": []
        }
    ]
}