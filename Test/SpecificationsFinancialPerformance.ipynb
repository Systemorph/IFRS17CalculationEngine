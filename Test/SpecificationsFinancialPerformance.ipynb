{
  "metadata": {
    "kernelspec": {
      "display_name": "Formula Framework",
      "language": "C#",
      "name": "C#"
    },
    "toc-autonumbering": "True",
    "toc-showcode": "False",
    "authors": [],
    "language_info": {
      "file_extension": ".cs",
      "mimetype": "text/plain",
      "name": "C#"
    }
  },
  "nbformat": 4,
  "nbformat_minor": 5,
  "cells": [
    {
      "id": "5nO38HYGpkascixiTUO0gw",
      "cell_type": "markdown",
      "source": [
        "<p style=\"font-weight:bold;\"> <span style=\"font-size: 36px\"> Financial Performance Specifications </span> </p>"
      ],
      "metadata": {}
    },
    {
      "id": "YiqIuEZ5Ika8lHG2QytiBg",
      "cell_type": "markdown",
      "source": [
        "The aim of this notebook is to document the Financial Performance reporting system. The process is pictorially explained in the following flowchart. ",
        "\n",
        "\n<a name=\"TOC\"></a>",
        "\n<center><img src=\"../Images/SpecificationsPL.PNG\" width=\"45%\" style=\"float:center;\">",
        "\n",
        "\nThroughout this notebook we adopt the following variable notation:  we use the words *computed* vs. *expected* to differentiate the results provided by the application vs. this test notebook, respectively."
      ],
      "metadata": {}
    },
    {
      "id": "I_4NcYOLg0-FT87qtmCw5g",
      "cell_type": "markdown",
      "source": [
        "In the following the Dimensions, Parameters, Nominal Cashflows, and Actuals are imported from the corresponding csv files in <code>Initialization/Systemorph/</code>"
      ],
      "metadata": {}
    },
    {
      "id": "G0Y5GVas3k6z7nhLhKYi2A",
      "cell_type": "code",
      "source": [
        "#!eval-notebook \"../Initialization/InitSystemorphToMemory\""
      ],
      "metadata": {},
      "execution_count": 1,
      "outputs": []
    },
    {
      "id": "SZwhFp3mkUKWwRMH8wcnKw",
      "cell_type": "markdown",
      "source": [
        "---"
      ],
      "metadata": {}
    },
    {
      "id": "FCPPVD5qb0edgdnX8gE5TA",
      "cell_type": "markdown",
      "source": [
        "# Process Data"
      ],
      "metadata": {}
    },
    {
      "id": "8kQa9wme2E2KwZMXm_jkRQ",
      "cell_type": "markdown",
      "source": [
        "<a id='year-and-period'></a>",
        "\n## Current Period, Reporting Node and Currency Type"
      ],
      "metadata": {}
    },
    {
      "id": "9Mil10I7XUKS9qwodcQnJQ",
      "cell_type": "markdown",
      "source": [
        "Please select the target period (i.e. year and month) and Reporting Node based on the imported data:"
      ],
      "metadata": {}
    },
    {
      "id": "jycgHCLPSU6SsnQh_NqdXQ",
      "cell_type": "code",
      "source": [
        "var year          = 2021                    ;",
        "\nvar month         = 3                       ;",
        "\nvar reportingNode = \"CH\"                    ;"
      ],
      "metadata": {},
      "execution_count": 1,
      "outputs": []
    },
    {
      "id": "Q1ptu1Ih6UqNipHCM9wrFw",
      "cell_type": "markdown",
      "source": [
        "and the type of Currency among <code>Contractual</code>, <code>Functional</code>, and <code>Group</code>"
      ],
      "metadata": {}
    },
    {
      "id": "W_q-kxke4kSXENWTI_sTDg",
      "cell_type": "code",
      "source": [
        "var currencyType  = CurrencyType.Contractual ;"
      ],
      "metadata": {},
      "execution_count": 1,
      "outputs": []
    },
    {
      "id": "Z5gPrgd79kaIdxevViMb5Q",
      "cell_type": "markdown",
      "source": [
        "Import the Report definitions, initialize the Workspace and the Test Suite:"
      ],
      "metadata": {}
    },
    {
      "id": "jZs86CqBw0S_Ms4QvU6Yhg",
      "cell_type": "code",
      "source": [
        "#!import \"../Report/ReportScopes\"",
        "\n#!import \"../Report/ReportConfigurationAndUtils\""
      ],
      "metadata": {},
      "execution_count": 1,
      "outputs": []
    },
    {
      "id": "fsDoELzhOEKHVk0LvwG8lg",
      "cell_type": "code",
      "source": [
        "Workspace.InitializeFrom(DataSource);"
      ],
      "metadata": {},
      "execution_count": 1,
      "outputs": []
    },
    {
      "id": "FwJCyVQlg0iyVa9GIObOVA",
      "cell_type": "code",
      "source": [
        "var period        = (year, month)                                                        ;",
        "\nvar reportStorage = new ReportStorage(Workspace, Report)                                 ;",
        "\nvar Test          = Scopes.ForSingleton().WithStorage(reportStorage).ToScope<IUniverse>();"
      ],
      "metadata": {},
      "execution_count": 1,
      "outputs": []
    },
    {
      "id": "0H5JBXBojEmJX2J4YxoSKQ",
      "cell_type": "code",
      "source": [
        "await reportStorage.InitializeReportIndependentCacheAsync();",
        "\nawait reportStorage.InitializeAsync(period, reportingNode, null, currencyType);"
      ],
      "metadata": {},
      "execution_count": 1,
      "outputs": []
    },
    {
      "id": "ljauWn5bzkePv8oz0hmmcw",
      "cell_type": "markdown",
      "source": [
        "## View list of Identities"
      ],
      "metadata": {}
    },
    {
      "id": "ROlx1yHrOkOcN8NoaWg_kQ",
      "cell_type": "markdown",
      "source": [
        "Based on the Cashflows imported, the list of all possible identities, i.e. combinations of valid Contractual and Functional Currencies, Liability Types, (Re)Insurance and Oci, is contructed and reported here below:"
      ],
      "metadata": {}
    },
    {
      "id": "FWlyPQurk0e7MxUr1_Vh4Q",
      "cell_type": "code",
      "source": [
        "var identities = reportStorage.GetIdentities(period, reportingNode, null, currencyType);"
      ],
      "metadata": {},
      "execution_count": 1,
      "outputs": []
    },
    {
      "id": "dQr4xO85AkW_XOGwRhp3Wg",
      "cell_type": "code",
      "source": [
        "identities"
      ],
      "metadata": {},
      "execution_count": 1,
      "outputs": []
    },
    {
      "id": "8WK3-WqoVkKWxMmrunWCPw",
      "cell_type": "markdown",
      "source": [
        "<br/><br/>",
        "\n<a id='report'></a>",
        "\n# Report"
      ],
      "metadata": {}
    },
    {
      "id": "6SapvCdFR0Wa-5iw2O7bmA",
      "cell_type": "markdown",
      "source": [
        "Please select here below the target Data Node for executing the tests below:"
      ],
      "metadata": {}
    },
    {
      "id": "tnnSkBvTP0OcTweKBHRVwA",
      "cell_type": "code",
      "source": [
        "var dataNode = \"DT1.1\";"
      ],
      "metadata": {},
      "execution_count": 1,
      "outputs": []
    },
    {
      "id": "MaxaD_pix0qUJSHQFYw_Yg",
      "cell_type": "markdown",
      "source": [
        "The Group of Contract selected is:"
      ],
      "metadata": {}
    },
    {
      "id": "ojOHd0ltR0ysyqjaXBV7fA",
      "cell_type": "code",
      "source": [
        "var groupOfContract = (await Workspace.Query<GroupOfContract>().Where(x => x.SystemName == dataNode).ToArrayAsync()).FirstOrDefault();",
        "\ngroupOfContract"
      ],
      "metadata": {},
      "execution_count": 1,
      "outputs": []
    },
    {
      "id": "2wrq4ud_nUywAVYp0c16ng",
      "cell_type": "markdown",
      "source": [
        "where ",
        "\n- the **OciType** can be <code>Default</code> for contracts with non-zero OCI, and <code>null</code> otherwise, ",
        "\n- the **Liability Type** can be <code>LRC</code> for Liability for Remaining Coverage, and <code>LIC</code> for Liability of Incurred Claims,",
        "\n- the **Partner** can be <code>null</code> for Insurance contracts, or equal to the Partner System Name for Reinsurance contracts."
      ],
      "metadata": {}
    },
    {
      "id": "FLplPZmhH0uHoByRc9jzyw",
      "cell_type": "markdown",
      "source": [
        "The summary of the Financial Performance report is shown below"
      ],
      "metadata": {}
    },
    {
      "id": "PPVlpKTvE0utqi7d_6hsOA",
      "cell_type": "code",
      "source": [
        "Report.ForDataCube( Test.GetScopes<FinancialPerformance>(identities).Aggregate().FinancialPerformance.Filter((\"GroupOfContract\", dataNode)) )",
        "\n      .WithQuerySource(DataSource)",
        "\n      .SliceRowsBy(\"VariableType\", \"EstimateType\")",
        "\n      .SliceColumnsBy(CurrencyGrouper(currencyType), \"LiabilityType\",\"GroupOfContract\")",
        "\n      .ReportGridOptions(reportHeight: 900, headerColumnWidth: 500, groupDefaultExpanded: 3)",
        "\n      .ToReport() with { Height = 600 }"
      ],
      "metadata": {},
      "execution_count": 1,
      "outputs": []
    },
    {
      "id": "Y6ExKbo35kizVyUzucL8tg",
      "cell_type": "markdown",
      "source": [
        "<br/><br/>",
        "\n<a name='inspection'></a>",
        "\n# Inspection"
      ],
      "metadata": {}
    },
    {
      "id": "mljPLFn_Vk699EW8NxaqFQ",
      "cell_type": "markdown",
      "source": [
        "## Fulfillment Cashflows"
      ],
      "metadata": {}
    },
    {
      "id": "fXAJiiBobE-8cIFXnwQW_g",
      "cell_type": "markdown",
      "source": [
        "The Fulfillment Cashflow (FCF) corresponds to the sum of the Best Estimate [Present Value](../Import/ImportScopeCalculation#current-and-locked) (PV) and the [Risk Adjustment](../Import/ImportScopeCalculation#risk-adjustment) (RA), both summed over Amounty Types, and both discounted with the Locked-In curve in the BBA valuation approach:",
        "\n",
        "\n$$",
        "\n\\text{FCF}(\\text{AoC}) =  \\text{PV Locked}(\\text{AoC})",
        "\n\\bigg|_{\\substack{\\text{Non Attributable} \\\\ \\text{Amount Types} \\\\ \\text{excluded}}}  ",
        "\n+ \\text{RA Locked}(\\text{AoC}) ~.",
        "\n$$"
      ],
      "metadata": {}
    },
    {
      "id": "EIByt77nt02vKJ6M7fbYPA",
      "cell_type": "markdown",
      "source": [
        "### Non Financial"
      ],
      "metadata": {}
    },
    {
      "id": "BeRPnXRcr0KgXSe9gOqr0w",
      "cell_type": "markdown",
      "source": [
        "The computed value for the non financial contribution to the FCF is"
      ],
      "metadata": {}
    },
    {
      "id": "Tpu5SaZ9GEGA3y-zQW_yHw",
      "cell_type": "code",
      "source": [
        "var computedDeltaFCF_nonFinancial = Test.GetScopes<FcfChangeInEstimate>(identities).Aggregate()",
        "\n                                        .FpNonFinancial.Filter((\"GroupOfContract\", dataNode)).Aggregate().Value;"
      ],
      "metadata": {},
      "execution_count": 1,
      "outputs": []
    },
    {
      "id": "1lQULEdowk-gnCueOrvJrg",
      "cell_type": "code",
      "source": [
        "computedDeltaFCF_nonFinancial"
      ],
      "metadata": {},
      "execution_count": 1,
      "outputs": []
    },
    {
      "id": "i4QyAGfVmEGE_5Igb2Z-LQ",
      "cell_type": "markdown",
      "source": [
        "This value can be independently computed starting from the full list of FCFs"
      ],
      "metadata": {}
    },
    {
      "id": "qqBotvtEjE22aC7q0898qw",
      "cell_type": "code",
      "source": [
        "var FCFs = Test.GetScopes<Fcf>(identities).Aggregate().Fcf.Filter((\"GroupOfContract\", dataNode));"
      ],
      "metadata": {},
      "execution_count": 1,
      "outputs": []
    },
    {
      "id": "VzFxq-PplkGMBBeSgTqoVg",
      "cell_type": "code",
      "source": [
        "var deltaFCF = FCFs.Filter((\"VariableType\", \"!BOP\"),(\"VariableType\", \"!EOP\")) +",
        "\n               FCFs.Filter((\"VariableType\", AocTypes.BOP),(\"Novelty\", Novelties.N));"
      ],
      "metadata": {},
      "execution_count": 1,
      "outputs": []
    },
    {
      "id": "iNXYCe0l-U2neY7wtMwZ0Q",
      "cell_type": "code",
      "source": [
        "deltaFCF.Aggregate().Value"
      ],
      "metadata": {},
      "execution_count": 1,
      "outputs": []
    },
    {
      "id": "yI_ySCVJT06znmYYyfM3zQ",
      "cell_type": "code",
      "source": [
        "var expectedDeltaFCF_nonFinancial = deltaFCF.Filter((\"VariableType\", \"!IA\"), ",
        "\n                                                    (\"VariableType\", \"!YCU\"), ",
        "\n                                                    (\"VariableType\", \"!CRU\")  ).Aggregate().Value;"
      ],
      "metadata": {},
      "execution_count": 1,
      "outputs": []
    },
    {
      "id": "kYVlMOqOrEeCvRN9BdzD5Q",
      "cell_type": "code",
      "source": [
        "expectedDeltaFCF_nonFinancial"
      ],
      "metadata": {},
      "execution_count": 1,
      "outputs": []
    },
    {
      "id": "vLdRwY5WPEeVSdEZ6mq5eg",
      "cell_type": "markdown",
      "source": [
        "For consistency, this term is taken with the minus sign"
      ],
      "metadata": {}
    },
    {
      "id": "1z_-jBHxPECdPV59L1zu3w",
      "cell_type": "code",
      "source": [
        "expectedDeltaFCF_nonFinancial.CheckEquality( -computedDeltaFCF_nonFinancial ).Should().Be(true);"
      ],
      "metadata": {},
      "execution_count": 1,
      "outputs": []
    },
    {
      "id": "zLC_x5tXRkqCJb8ko1k1pw",
      "cell_type": "markdown",
      "source": [
        "### Financial"
      ],
      "metadata": {}
    },
    {
      "id": "8q-L68QoyUWnE_1p9I8GrQ",
      "cell_type": "markdown",
      "source": [
        "Conversely, the computed value for the financial contribution to the Fulfillment Cashflows (FCF) is"
      ],
      "metadata": {}
    },
    {
      "id": "unbfg7yEZkajmEbeDpLGbw",
      "cell_type": "code",
      "source": [
        "var computedDeltaFCF_Financial = Test.GetScopes<FcfChangeInEstimate>(identities).Aggregate()",
        "\n                                     .FpFinancial.Filter((\"GroupOfContract\", dataNode)).Aggregate().Value;"
      ],
      "metadata": {},
      "execution_count": 1,
      "outputs": []
    },
    {
      "id": "1Z9AZCSrsUqNaYXcDtgG9g",
      "cell_type": "code",
      "source": [
        "computedDeltaFCF_Financial"
      ],
      "metadata": {},
      "execution_count": 1,
      "outputs": []
    },
    {
      "id": "QUKtT16YKECBrRssqHJ7iA",
      "cell_type": "markdown",
      "source": [
        "The independent recalculation of this value reads"
      ],
      "metadata": {}
    },
    {
      "id": "DBD46hb6jkmOuS8fF8AzNg",
      "cell_type": "code",
      "source": [
        "var expectedDeltaFCF_Financial = (deltaFCF.Filter((\"VariableType\", \"IA\")) +",
        "\n                                  deltaFCF.Filter((\"VariableType\", \"YCU\")) +",
        "\n                                  deltaFCF.Filter((\"VariableType\", \"CRU\")) ).Aggregate().Value;"
      ],
      "metadata": {},
      "execution_count": 1,
      "outputs": []
    },
    {
      "id": "3Pml-0__90GYfwqGIkh8hA",
      "cell_type": "code",
      "source": [
        "expectedDeltaFCF_Financial"
      ],
      "metadata": {},
      "execution_count": 1,
      "outputs": []
    },
    {
      "id": "WeeGHMbfv0yDqvE0uspuwA",
      "cell_type": "markdown",
      "source": [
        "taking the minus sign into account"
      ],
      "metadata": {}
    },
    {
      "id": "Jy8LN1Jl9UW7ZFn61_0E7g",
      "cell_type": "code",
      "source": [
        "expectedDeltaFCF_Financial.CheckEquality( -computedDeltaFCF_Financial ).Should().Be(true);"
      ],
      "metadata": {},
      "execution_count": 1,
      "outputs": []
    },
    {
      "id": "KdafoHd6V0WcBY3w-7FCNg",
      "cell_type": "markdown",
      "source": [
        "### Other Comprehensive Income"
      ],
      "metadata": {}
    },
    {
      "id": "WTWsM2t8ske9c6Qp4Sw6tw",
      "cell_type": "markdown",
      "source": [
        "The Other Comprehensive Income (OCI) term is by definition the sum of the financial contributions not related to the insurance sector.",
        "\n",
        "\nThe <code>Default</code> method to compute the OCI term is by subtracting the FCF computed with the *Locked-In* rates and the FCF computed with the *Current* rates. In this way the non insurance financial volatiliy of the economic input is relegated to the OCI. "
      ],
      "metadata": {}
    },
    {
      "id": "HFvK3TQALEyxtaqOa072RA",
      "cell_type": "code",
      "source": [
        "var computedDeltaFCF_OCI = Test.GetScopes<FcfChangeInEstimate>(identities).Aggregate()",
        "\n                               .OciFinancial.Filter((\"GroupOfContract\", dataNode)).Aggregate().Value;"
      ],
      "metadata": {},
      "execution_count": 1,
      "outputs": []
    },
    {
      "id": "KlV-XHswLUm60jAtrKXRxw",
      "cell_type": "code",
      "source": [
        "computedDeltaFCF_OCI"
      ],
      "metadata": {},
      "execution_count": 1,
      "outputs": []
    },
    {
      "id": "wLYM_5_Cw0agX8ngdpiJNw",
      "cell_type": "markdown",
      "source": [
        "The OCI contribution is zero when the OCI option is disabled for the [target Group of Contract](#report).",
        "\n",
        "\nHere below we follow the steps to calculate independently the OCI contribution "
      ],
      "metadata": {}
    },
    {
      "id": "jExIPgxaoEKHbQ0n1CCDlg",
      "cell_type": "code",
      "source": [
        "var DeltaFCF_Locked = deltaFCF.Aggregate().Value;"
      ],
      "metadata": {},
      "execution_count": 1,
      "outputs": []
    },
    {
      "id": "Fi1WFLVNokSI8kGpGrtSgg",
      "cell_type": "code",
      "source": [
        "var FCFs_current = Test.GetScopes<CurrentFcf>(identities).Aggregate().CurrentFcf.Filter((\"GroupOfContract\", dataNode));"
      ],
      "metadata": {},
      "execution_count": 1,
      "outputs": []
    },
    {
      "id": "08PqnzK1VkqrjayuXu29Gw",
      "cell_type": "code",
      "source": [
        "var DeltaFCF_Current = FCFs_current.Filter((\"VariableType\", \"!BOP\"),(\"VariableType\", \"!EOP\")) +",
        "\n                       FCFs_current.Filter((\"VariableType\", AocTypes.BOP),(\"Novelty\", Novelties.N));"
      ],
      "metadata": {},
      "execution_count": 1,
      "outputs": []
    },
    {
      "id": "2H7J_REURECEUakkHg3uZQ",
      "cell_type": "code",
      "source": [
        "var expectedDeltaFCF_OCI = DeltaFCF_Locked - DeltaFCF_Current.Aggregate().Value;"
      ],
      "metadata": {},
      "execution_count": 1,
      "outputs": []
    },
    {
      "id": "0bDk7FRhN0C2sRCzbkIzrQ",
      "cell_type": "code",
      "source": [
        "DeltaFCF_Locked"
      ],
      "metadata": {},
      "execution_count": 1,
      "outputs": []
    },
    {
      "id": "FG-gv68W_E2X5Duxt7tKlw",
      "cell_type": "code",
      "source": [
        "DeltaFCF_Current.Aggregate().Value"
      ],
      "metadata": {},
      "execution_count": 1,
      "outputs": []
    },
    {
      "id": "HOaaRyAoI0CC6BerqeJ41Q",
      "cell_type": "code",
      "source": [
        "expectedDeltaFCF_OCI"
      ],
      "metadata": {},
      "execution_count": 1,
      "outputs": []
    },
    {
      "id": "uTbfa8NPIUqm-o4eZSU8fw",
      "cell_type": "code",
      "source": [
        "expectedDeltaFCF_OCI.CheckEquality( computedDeltaFCF_OCI ).Should().Be(true);"
      ],
      "metadata": {},
      "execution_count": 1,
      "outputs": []
    },
    {
      "id": "1IZSRJ3t_0CNXpp4ywd9VQ",
      "cell_type": "markdown",
      "source": [
        "## Contractual Service Margin"
      ],
      "metadata": {}
    },
    {
      "id": "5bsUEITa6kuGaTRVkZ084A",
      "cell_type": "markdown",
      "source": [
        "### Non Financial"
      ],
      "metadata": {}
    },
    {
      "id": "JTfLDJSJQEOWT2i89grUSQ",
      "cell_type": "markdown",
      "source": [
        "The computed value for the non financial change of the CSM is"
      ],
      "metadata": {}
    },
    {
      "id": "8ILRJFbhBUC62g15t754iQ",
      "cell_type": "code",
      "source": [
        "var computedDeltaCSM_nonFinancial = Test.GetScopes<CsmChangeInEstimate>(identities).Aggregate()",
        "\n                                        .NonFinancialChanges.Filter((\"GroupOfContract\", dataNode)).Aggregate().Value;"
      ],
      "metadata": {},
      "execution_count": 1,
      "outputs": []
    },
    {
      "id": "WKz0gPwLNU-dpX_9pel6qQ",
      "cell_type": "code",
      "source": [
        "computedDeltaCSM_nonFinancial"
      ],
      "metadata": {},
      "execution_count": 1,
      "outputs": []
    },
    {
      "id": "M-zez2dNKEqoEuSnVmQOAQ",
      "cell_type": "markdown",
      "source": [
        "This value can be independently computed starting from the full CSM data from which the delta can be computed:"
      ],
      "metadata": {}
    },
    {
      "id": "u3qO33HX2EWTdU-FsXV1DQ",
      "cell_type": "code",
      "source": [
        "var CSM = Test.GetScopes<Csm>(identities).Aggregate().Csm.Filter((\"GroupOfContract\", dataNode));"
      ],
      "metadata": {},
      "execution_count": 1,
      "outputs": []
    },
    {
      "id": "sUzTJENNQE2vyUAMH18-Fg",
      "cell_type": "code",
      "source": [
        "var deltaCSM = CSM.Filter((\"VariableType\", \"!BOP\"),(\"VariableType\", \"!EOP\")) +",
        "\n               CSM.Filter((\"VariableType\", AocTypes.BOP),(\"Novelty\", Novelties.N));"
      ],
      "metadata": {},
      "execution_count": 1,
      "outputs": []
    },
    {
      "id": "YE8SeJsLGkigzdsg2lrthg",
      "cell_type": "code",
      "source": [
        "deltaCSM.Aggregate().Value"
      ],
      "metadata": {},
      "execution_count": 1,
      "outputs": []
    },
    {
      "id": "APgQnfCAvUGZOS1alGD76A",
      "cell_type": "markdown",
      "source": [
        "The non Financial contribution is calculated subtracting the Amortization and the Interest Accretion terms:"
      ],
      "metadata": {}
    },
    {
      "id": "RtFAIsTtqkKptF872l2QOA",
      "cell_type": "code",
      "source": [
        "var expectedDeltaCSM_nonFinancial = deltaCSM.Filter((\"VariableType\", \"!AM\"), (\"VariableType\", \"!IA\"), (\"VariableType\", \"!YCU\"), (\"VariableType\", \"!CRU\")).Aggregate().Value;"
      ],
      "metadata": {},
      "execution_count": 1,
      "outputs": []
    },
    {
      "id": "QIAfXjMAUkKl824oTIpkxg",
      "cell_type": "code",
      "source": [
        "expectedDeltaCSM_nonFinancial"
      ],
      "metadata": {},
      "execution_count": 1,
      "outputs": []
    },
    {
      "id": "ROYdG5qKq0WskXY9TubsCw",
      "cell_type": "code",
      "source": [
        "expectedDeltaCSM_nonFinancial.CheckEquality( -computedDeltaCSM_nonFinancial ).Should().Be(true);"
      ],
      "metadata": {},
      "execution_count": 1,
      "outputs": []
    },
    {
      "id": "B3v_a4ACR0aaHYEIZ5Efmw",
      "cell_type": "markdown",
      "source": [
        "### Financial"
      ],
      "metadata": {}
    },
    {
      "id": "XUhfK022zUq-fhkyjtdiRA",
      "cell_type": "markdown",
      "source": [
        "Conversely, the computed value for the financial change of the CSM is"
      ],
      "metadata": {}
    },
    {
      "id": "ni56W_02FkyqpCsEn8POig",
      "cell_type": "code",
      "source": [
        "var computedDeltaCSM_Financial = Test.GetScopes<CsmChangeInEstimate>(identities).Aggregate()",
        "\n                                     .FinancialChanges.Filter((\"GroupOfContract\", dataNode)).Aggregate().Value;"
      ],
      "metadata": {},
      "execution_count": 1,
      "outputs": []
    },
    {
      "id": "UBEJvfmS9UOcouMKcyVlSA",
      "cell_type": "code",
      "source": [
        "computedDeltaCSM_Financial"
      ],
      "metadata": {},
      "execution_count": 1,
      "outputs": []
    },
    {
      "id": "TqRsmZIHlUqsIwggU5ok1w",
      "cell_type": "markdown",
      "source": [
        "This value can be independently computed starting from the $\\Delta\\text{CSM}$, and considering only the Interest Accretion term"
      ],
      "metadata": {}
    },
    {
      "id": "60OowsZamEOXwPfjqtKINg",
      "cell_type": "code",
      "source": [
        "var expectedDeltaCSM_Financial = ( deltaCSM.Filter((\"VariableType\", \"IA\")) +",
        "\n                                   deltaCSM.Filter((\"VariableType\", \"YCU\")) +",
        "\n                                   deltaCSM.Filter((\"VariableType\", \"CRU\")) )",
        "\n                                 .Aggregate().Value;"
      ],
      "metadata": {},
      "execution_count": 1,
      "outputs": []
    },
    {
      "id": "d89jwj04Ak-rvKD6GrFThw",
      "cell_type": "code",
      "source": [
        "expectedDeltaCSM_Financial"
      ],
      "metadata": {},
      "execution_count": 1,
      "outputs": []
    },
    {
      "id": "HZ5FzlG01U-9aaQvlx_cCQ",
      "cell_type": "code",
      "source": [
        "expectedDeltaCSM_Financial.CheckEquality( -computedDeltaCSM_Financial ).Should().Be(true);"
      ],
      "metadata": {},
      "execution_count": 1,
      "outputs": []
    },
    {
      "id": "q-EaVofzPkeq9BLkL6Pk2w",
      "cell_type": "markdown",
      "source": [
        "## Loss Component"
      ],
      "metadata": {}
    },
    {
      "id": "LE5bZlbq_UWJBvszrykzuA",
      "cell_type": "markdown",
      "source": [
        "### Non Financial"
      ],
      "metadata": {}
    },
    {
      "id": "lFKLvci1FUOz6Q0a40u2-A",
      "cell_type": "markdown",
      "source": [
        "The computed value for the non financial change of the LC is"
      ],
      "metadata": {}
    },
    {
      "id": "NA8SeqEo5EiJhDQHBuTtjg",
      "cell_type": "code",
      "source": [
        "var computedDeltaLC_nonFinancial = Test.GetScopes<LcChangeInEstimate>(identities).Aggregate()",
        "\n                                       .NonFinancialChanges.Filter((\"GroupOfContract\", dataNode)).Aggregate().Value;"
      ],
      "metadata": {},
      "execution_count": 1,
      "outputs": []
    },
    {
      "id": "yoNwfY6O-EGOYvwfX9CXKw",
      "cell_type": "code",
      "source": [
        "computedDeltaLC_nonFinancial"
      ],
      "metadata": {},
      "execution_count": 1,
      "outputs": []
    },
    {
      "id": "wQpKhvuttU2S-2T2XqWz9g",
      "cell_type": "markdown",
      "source": [
        "This value can be independently computed starting from the full CSM data from which the delta can be computed:"
      ],
      "metadata": {}
    },
    {
      "id": "ZnNiktkIsEmVeTAPp4eq0Q",
      "cell_type": "code",
      "source": [
        "var LC = Test.GetScopes<Lc>(identities).Aggregate().Lc.Filter((\"GroupOfContract\", dataNode));"
      ],
      "metadata": {},
      "execution_count": 1,
      "outputs": []
    },
    {
      "id": "XRtrMck4ak-bF1LUNbR-bw",
      "cell_type": "code",
      "source": [
        "var deltaLC = LC.Filter((\"VariableType\", \"!BOP\"),(\"VariableType\", \"!EOP\")) +",
        "\n              LC.Filter((\"VariableType\", AocTypes.BOP),(\"Novelty\", Novelties.N));"
      ],
      "metadata": {},
      "execution_count": 1,
      "outputs": []
    },
    {
      "id": "rUaX0OrwkUuo2_xNMVz34g",
      "cell_type": "code",
      "source": [
        "deltaLC.Aggregate().Value"
      ],
      "metadata": {},
      "execution_count": 1,
      "outputs": []
    },
    {
      "id": "Xv4auAOkAE6oXxsy4JGUBw",
      "cell_type": "markdown",
      "source": [
        "The non Financial contribution is calculated subtracting the Amortization and the Interest Accretion terms:"
      ],
      "metadata": {}
    },
    {
      "id": "c95lLlyhYU2YCY4HE8ZVIg",
      "cell_type": "code",
      "source": [
        "var expectedDeltaLC_nonFinancial = deltaLC.Filter((\"VariableType\", \"!AM\"), (\"VariableType\", \"!IA\"), (\"VariableType\", \"!YCU\"), (\"VariableType\", \"!CRU\")).Aggregate().Value;"
      ],
      "metadata": {},
      "execution_count": 1,
      "outputs": []
    },
    {
      "id": "qmlrXNV4n0iOMmSFHVe7wA",
      "cell_type": "code",
      "source": [
        "expectedDeltaLC_nonFinancial"
      ],
      "metadata": {},
      "execution_count": 1,
      "outputs": []
    },
    {
      "id": "k_hU6dAGrEmzN3vI30De0A",
      "cell_type": "code",
      "source": [
        "expectedDeltaLC_nonFinancial.CheckEquality( -computedDeltaLC_nonFinancial ).Should().Be(true);"
      ],
      "metadata": {},
      "execution_count": 1,
      "outputs": []
    },
    {
      "id": "q0Cm5RmXxUa4oQVQ1fuHjw",
      "cell_type": "markdown",
      "source": [
        "### Financial"
      ],
      "metadata": {}
    },
    {
      "id": "cAJ4Q4Rx60aaCC-Nt-gdpQ",
      "cell_type": "markdown",
      "source": [
        "Conversely, the computed value for the financial change of the LC is"
      ],
      "metadata": {}
    },
    {
      "id": "MtdwhbqZiU-TOLVfW0DFDg",
      "cell_type": "code",
      "source": [
        "var computedDeltaLC_Financial = Test.GetScopes<LcChangeInEstimate>(identities).Aggregate()",
        "\n                                    .FinancialChanges.Filter((\"GroupOfContract\", dataNode)).Aggregate().Value;"
      ],
      "metadata": {},
      "execution_count": 1,
      "outputs": []
    },
    {
      "id": "cWArdm8iMESr118b9tDMkQ",
      "cell_type": "code",
      "source": [
        "computedDeltaLC_Financial"
      ],
      "metadata": {},
      "execution_count": 1,
      "outputs": []
    },
    {
      "id": "q2pAhq-A_0aROq8zEDtVCA",
      "cell_type": "markdown",
      "source": [
        "This value can be independently computed starting from the $\\Delta\\text{CSM}$, and considering only the Interest Accretion term"
      ],
      "metadata": {}
    },
    {
      "id": "fxZPPdSMCkG-mV0CjyLK4g",
      "cell_type": "code",
      "source": [
        "var expectedDeltaLC_Financial = ( deltaLC.Filter((\"VariableType\", \"IA\")) +",
        "\n                                  deltaLC.Filter((\"VariableType\", \"YCU\")) +",
        "\n                                  deltaLC.Filter((\"VariableType\", \"CRU\")) )",
        "\n                                .Aggregate().Value;"
      ],
      "metadata": {},
      "execution_count": 1,
      "outputs": []
    },
    {
      "id": "WYqhArIhB0aUgSAq2pl4Ag",
      "cell_type": "code",
      "source": [
        "expectedDeltaLC_Financial"
      ],
      "metadata": {},
      "execution_count": 1,
      "outputs": []
    },
    {
      "id": "IzddiJL3oUewH76M1wgr1w",
      "cell_type": "code",
      "source": [
        "expectedDeltaLC_Financial.CheckEquality( -computedDeltaLC_Financial ).Should().Be(true);"
      ],
      "metadata": {},
      "execution_count": 1,
      "outputs": []
    },
    {
      "id": "ktY-cyI15E-U1ahdw6cDuA",
      "cell_type": "markdown",
      "source": [
        "## Loss Recovery Component"
      ],
      "metadata": {}
    },
    {
      "id": "Jj5QAJYtR0mPDZsLbwt82w",
      "cell_type": "markdown",
      "source": [
        "### Non Financial"
      ],
      "metadata": {}
    },
    {
      "id": "MNr136KdUEWkl6QE99H-tQ",
      "cell_type": "markdown",
      "source": [
        "If the [target Group of Contract](#report) is not of type Re-Insurance, the result of the following will return <code>null</code>.",
        "\n",
        "\nThe computed value for the non financial change of the LoReCo is"
      ],
      "metadata": {}
    },
    {
      "id": "vheo4pqpoUC636g-YZNg7w",
      "cell_type": "code",
      "source": [
        "var computedDeltaLORECO_nonFinancial = Test.GetScopes<LorecoChangeInEstimate>(identities).Aggregate()",
        "\n                                           .NonFinancialChanges.Filter((\"GroupOfContract\", dataNode)).Aggregate()?.Value?? 0;"
      ],
      "metadata": {},
      "execution_count": 1,
      "outputs": []
    },
    {
      "id": "gcye9gWqLUSp2DBeuZK5JA",
      "cell_type": "code",
      "source": [
        "computedDeltaLORECO_nonFinancial"
      ],
      "metadata": {},
      "execution_count": 1,
      "outputs": []
    },
    {
      "id": "1h9DSjP030GvgF_-V2wXEQ",
      "cell_type": "markdown",
      "source": [
        "This value can be independently computed starting from the full LoReCo data from which the delta can be computed:"
      ],
      "metadata": {}
    },
    {
      "id": "toras9Yo70eeiatIr1j9fw",
      "cell_type": "code",
      "source": [
        "var LORECO = Test.GetScopes<Loreco>(identities).Aggregate().Loreco.Filter((\"GroupOfContract\", dataNode));"
      ],
      "metadata": {},
      "execution_count": 1,
      "outputs": []
    },
    {
      "id": "uT9D_Ku9WkS7lCo1nrxs0Q",
      "cell_type": "code",
      "source": [
        "var deltaLORECO = LORECO.Filter((\"VariableType\", \"!BOP\"),(\"VariableType\", \"!EOP\")) +",
        "\n                  LORECO.Filter((\"VariableType\", AocTypes.BOP),(\"Novelty\", Novelties.N));"
      ],
      "metadata": {},
      "execution_count": 1,
      "outputs": []
    },
    {
      "id": "Qhxfbqq4OEaXyYoe5rfTUg",
      "cell_type": "code",
      "source": [
        "deltaLORECO.Aggregate()?.Value?? 0"
      ],
      "metadata": {},
      "execution_count": 1,
      "outputs": []
    },
    {
      "id": "_uTlE0FJFEOI34sBONg8Mw",
      "cell_type": "markdown",
      "source": [
        "The non Financial contribution is calculated subtracting the Amortization and the Interest Accretion terms:"
      ],
      "metadata": {}
    },
    {
      "id": "qmBrKRZP8U-13Lup_I2e5Q",
      "cell_type": "code",
      "source": [
        "var expectedDeltaLORECO_nonFinancial = deltaLORECO.Filter((\"VariableType\", \"!AM\"), (\"VariableType\", \"!IA\"), (\"VariableType\", \"!YCU\"), (\"VariableType\", \"!CRU\")).Aggregate()?.Value?? 0;"
      ],
      "metadata": {},
      "execution_count": 1,
      "outputs": []
    },
    {
      "id": "tMMjF_m4D0aRpukRYlpdLA",
      "cell_type": "code",
      "source": [
        "expectedDeltaLORECO_nonFinancial"
      ],
      "metadata": {},
      "execution_count": 1,
      "outputs": []
    },
    {
      "id": "in3E9cuYDEymJ4n3r_iWPA",
      "cell_type": "code",
      "source": [
        "expectedDeltaLORECO_nonFinancial.CheckEquality( -computedDeltaLORECO_nonFinancial ).Should().Be(true);"
      ],
      "metadata": {},
      "execution_count": 1,
      "outputs": []
    },
    {
      "id": "OaAYtHkPf0CohNZ6dPoGGA",
      "cell_type": "markdown",
      "source": [
        "### Financial"
      ],
      "metadata": {}
    },
    {
      "id": "gHC-7-HgtEWWHf6ZCY6dDQ",
      "cell_type": "markdown",
      "source": [
        "Conversely, the computed value for the financial change of the LoReCo is"
      ],
      "metadata": {}
    },
    {
      "id": "Y9twZB0o6ESo6PY18cZj9g",
      "cell_type": "code",
      "source": [
        "var computedDeltaLORECO_Financial = Test.GetScopes<LorecoChangeInEstimate>(identities).Aggregate()",
        "\n                                    .FinancialChanges.Filter((\"GroupOfContract\", dataNode)).Aggregate()?.Value?? 0;"
      ],
      "metadata": {},
      "execution_count": 1,
      "outputs": []
    },
    {
      "id": "3wLUoygmE0CXCU5UFkL41Q",
      "cell_type": "code",
      "source": [
        "computedDeltaLORECO_Financial"
      ],
      "metadata": {},
      "execution_count": 1,
      "outputs": []
    },
    {
      "id": "j5qJfGmdMkGwoFc1yb_X3Q",
      "cell_type": "markdown",
      "source": [
        "This value can be independently computed starting from the $\\Delta\\text{CSM}$, and considering only the Interest Accretion term"
      ],
      "metadata": {}
    },
    {
      "id": "3UGSj5-MYUSI-mW2tMJXVg",
      "cell_type": "code",
      "source": [
        "var expectedDeltaLORECO_Financial = ( deltaLORECO.Filter((\"VariableType\", \"IA\")) +",
        "\n                                     deltaLORECO.Filter((\"VariableType\", \"YCU\")) +",
        "\n                                     deltaLORECO.Filter((\"VariableType\", \"CRU\")) )",
        "\n                                    .Aggregate()?.Value?? 0;"
      ],
      "metadata": {},
      "execution_count": 1,
      "outputs": []
    },
    {
      "id": "_Yk_rP1ZHEqRB6g3yMCUMg",
      "cell_type": "code",
      "source": [
        "expectedDeltaLORECO_Financial"
      ],
      "metadata": {},
      "execution_count": 1,
      "outputs": []
    },
    {
      "id": "dDZLX-mHFEyX5X2GNKLW7Q",
      "cell_type": "code",
      "source": [
        "expectedDeltaLORECO_Financial.CheckEquality( -computedDeltaLORECO_Financial ).Should().Be(true);"
      ],
      "metadata": {},
      "execution_count": 1,
      "outputs": []
    },
    {
      "id": "S8TFuLo4eUeNTC-d5f9GjA",
      "cell_type": "markdown",
      "source": [
        "<br/><br/>",
        "\n<a name='reconciliation'></a>",
        "\n# Reconciliation"
      ],
      "metadata": {}
    },
    {
      "id": "GEzn2LZBRkSr7oqQsmzPDA",
      "cell_type": "markdown",
      "source": [
        "Based on the results calculated in Section 3, we check here the consistency of the [Financial Performance Report](#report). ",
        "\n",
        "\nFiner granular reconciliations can be performed by following the datails of how each report contributes to the Financial Performance Report. Please, refer to the [Report documentation](../Report/ReportScopes#financial-performance) for all the details. "
      ],
      "metadata": {}
    },
    {
      "id": "a6N6B4TD8kuk12aZT40KVg",
      "cell_type": "markdown",
      "source": [
        "## Insurance Revenue"
      ],
      "metadata": {}
    },
    {
      "id": "6MZPkbR47EmeDYqsSV4urQ",
      "cell_type": "markdown",
      "source": [
        "The Insurance Revenue (IR) contributions vary from Insurance to Re-Insurance and depend on the Liability Type of the [target Group of Contract](#report). This can be summarized by the formulas below",
        "\n",
        "\n$$",
        "\n\\text{IR} = \\left\\{ ",
        "\n\\begin{array}{ll}",
        "\n\\Delta\\text{FCF Gross Non Financial} + \\Delta\\text{CSM Non Financial} + \\Delta\\text{CSM Release} \\\\",
        "\n+ \\text{Incurred Incoming Cashflows} + \\text{Claims ICO} + \\text{Incurred Deferrals} \\\\",
        "\n+ \\text{Exc. Experience Adjustment on Premiums} ~~,",
        "\n& \\text{for LRC Insurance contracts} \\\\[0.2cm]",
        "\n\\Delta\\text{CSM Non Financial} + \\Delta\\text{CSM Release} \\\\",
        "\n+ \\text{Incurred Incoming Cashflows} + \\text{Claims ICO} + \\text{Incurred Deferrals} ~~,",
        "\n& \\text{for LIC Insurance contracts} \\\\[0.2cm]",
        "\n\\text{Claims ICO} + \\text{Incurred Deferrals} ~~,",
        "\n& \\text{for Re-Insurance contracts}",
        "\n\\end{array}",
        "\n\\right.",
        "\n$$",
        "\n",
        "\nHere below we recompute the IR term:"
      ],
      "metadata": {}
    },
    {
      "id": "dFWCtF0eBkqXubXgarv3IA",
      "cell_type": "code",
      "source": [
        "var expectedDeltaCSM_release = deltaCSM.Filter((\"VariableType\", \"AM\")).Aggregate()?.Value?? 0;"
      ],
      "metadata": {},
      "execution_count": 1,
      "outputs": []
    },
    {
      "id": "cnXGdn9kHkaAPsUUjaffrg",
      "cell_type": "code",
      "source": [
        "var expectedIncurredIncomingCashflows = Test.GetScopes<IncurredActuals>(identities).Aggregate().Premiums",
        "\n                                            .Filter((\"GroupOfContract\", dataNode)).Aggregate()?.Value?? 0;"
      ],
      "metadata": {},
      "execution_count": 1,
      "outputs": []
    },
    {
      "id": "d5AwPz1_ZUiGBL5xhIKZ4g",
      "cell_type": "code",
      "source": [
        "var expectedIncurredDeferralsIr = Test.GetScopes<IncurredDeferrals>(identities).Aggregate().AmortizationToIr",
        "\n                                      .Filter((\"GroupOfContract\", dataNode)).Aggregate()?.Value?? 0;"
      ],
      "metadata": {},
      "execution_count": 1,
      "outputs": []
    },
    {
      "id": "YsUQO-5qx0mI-Ze0xAxR2g",
      "cell_type": "code",
      "source": [
        "var expectedClaimsICO = Test.GetScopes<IncurredActuals>(identities).Aggregate().ClaimsIcoToIr",
        "\n                            .Filter((\"GroupOfContract\", dataNode)).Aggregate()?.Value?? 0;"
      ],
      "metadata": {},
      "execution_count": 1,
      "outputs": []
    },
    {
      "id": "uEta4W7kvEGPG1QyEoMh7w",
      "cell_type": "code",
      "source": [
        "var expectedExcExperienceAdjPremiums = Test.GetScopes<ExperienceAdjustmentOnPremium>(identities).Aggregate().ExperienceAdjustmentOnPremium",
        "\n                                           .Filter((\"GroupOfContract\", dataNode)).Aggregate()?.Value?? 0;"
      ],
      "metadata": {},
      "execution_count": 1,
      "outputs": []
    },
    {
      "id": "zOT5DeoAmUCB4VCKdUJ2lw",
      "cell_type": "code",
      "source": [
        "double IR = 0;",
        "\nif(groupOfContract.Partner == null && groupOfContract.LiabilityType == \"LRC\")",
        "\n    IR = - expectedDeltaFCF_nonFinancial ",
        "\n         - expectedDeltaCSM_nonFinancial ",
        "\n         - expectedDeltaCSM_release ",
        "\n         + expectedIncurredIncomingCashflows",
        "\n         + expectedClaimsICO",
        "\n         + expectedIncurredDeferralsIr",
        "\n         + expectedExcExperienceAdjPremiums;",
        "\nelse if(groupOfContract.Partner == null && groupOfContract.LiabilityType == \"LIC\")",
        "\n    IR = - expectedDeltaCSM_nonFinancial",
        "\n         - expectedDeltaCSM_release",
        "\n         + expectedIncurredIncomingCashflows",
        "\n         + expectedClaimsICO",
        "\n         + expectedIncurredDeferralsIr ",
        "\n         + expectedExcExperienceAdjPremiums;",
        "\nelse if(groupOfContract.Partner != null)",
        "\n    IR = + expectedClaimsICO",
        "\n         + expectedIncurredDeferralsIr",
        "\n         + expectedExcExperienceAdjPremiums;"
      ],
      "metadata": {},
      "execution_count": 1,
      "outputs": []
    },
    {
      "id": "gPU-YBlmbU-CuZWTrFnM-Q",
      "cell_type": "code",
      "source": [
        "IR"
      ],
      "metadata": {},
      "execution_count": 1,
      "outputs": []
    },
    {
      "id": "yE-6MD2uiE6ttfKjHLsQlg",
      "cell_type": "markdown",
      "source": [
        "## Insurance Service Expenses"
      ],
      "metadata": {}
    },
    {
      "id": "Obp_9f3AZkCH8Lap4aYmFg",
      "cell_type": "markdown",
      "source": [
        "Analogously, the Insurance Service Expenses (ISE) read",
        "\n",
        "\n$$",
        "\n\\text{ISE} = \\left\\{ ",
        "\n\\begin{array}{ll}",
        "\n\\Delta\\text{LC Non Financial}",
        "\n+ \\Delta\\text{LC Release}",
        "\n+ \\text{Incurred ClaimsNIC} \\\\",
        "\n+ \\text{Incurred Expenses}",
        "\n+ \\text{Incurred Commissions}",
        "\n+ \\text{Incurred Deferrals}",
        "\n& \\text{for LRC Insurance contracts} \\\\[0.2cm]",
        "\n\\Delta\\text{FCF Reinsurance Non Financial}",
        "\n+ \\Delta\\text{LC Non Financial}",
        "\n+ \\Delta\\text{LC Release}",
        "\n+ \\text{Incurred ClaimsNIC} \\\\",
        "\n+ \\text{Incurred Expenses} ",
        "\n+ \\text{Incurred Commissions}",
        "\n+ \\text{Incurred Deferrals}",
        "\n& \\text{for LIC Insurance contracts} \\\\[0.2cm]",
        "\n\\Delta\\text{FCF Reinsurance Non Financial} ",
        "\n+ \\Delta\\text{CSM Non Financial} ",
        "\n+ \\Delta\\text{CSM Release} \\\\",
        "\n+ \\Delta\\text{LC Non Financial} ",
        "\n+ \\Delta\\text{LC Release} ",
        "\n+ \\Delta\\text{LoReCo Non Financial} \\\\",
        "\n+ \\text{Incurred Incoming Cashflows} ",
        "\n+ \\text{Incurred ClaimsNIC} ",
        "\n+ \\text{Incurred Expenses} \\\\",
        "\n+ \\text{Incurred Commissions}",
        "\n+ \\text{Incurred Deferrals}",
        "\n& \\text{for Re-Insurance contracts}",
        "\n\\end{array}",
        "\n\\right.",
        "\n$$",
        "\n",
        "\nHere below we recompute the ISE term:"
      ],
      "metadata": {}
    },
    {
      "id": "JL2Q7lsrlEucGEc4EjA_oA",
      "cell_type": "code",
      "source": [
        "var expectedDeltaLC_release = deltaLC.Filter((\"VariableType\", \"AM\")).Aggregate()?.Value?? 0;"
      ],
      "metadata": {},
      "execution_count": 1,
      "outputs": []
    },
    {
      "id": "O9r-rlZ5hky9sOj-zExurg",
      "cell_type": "code",
      "source": [
        "var expectedDeltaLoReCo_release = deltaLORECO.Filter((\"VariableType\", \"AM\")).Aggregate()?.Value?? 0;"
      ],
      "metadata": {},
      "execution_count": 1,
      "outputs": []
    },
    {
      "id": "bL0MmHokbUmpt_-xEliEwg",
      "cell_type": "code",
      "source": [
        "var expectedIncurredClaimsNIC = Test.GetScopes<IncurredActuals>(identities).Aggregate().ClaimsNic",
        "\n                                    .Filter((\"GroupOfContract\", dataNode)).Aggregate()?.Value?? 0;"
      ],
      "metadata": {},
      "execution_count": 1,
      "outputs": []
    },
    {
      "id": "pV3DTg_19k2Hvp6dPqucww",
      "cell_type": "code",
      "source": [
        "var expectedIncurredExpenses = Test.GetScopes<IncurredActuals>(identities).Aggregate().Expenses",
        "\n                                   .Filter((\"GroupOfContract\", dataNode)).Aggregate()?.Value?? 0;"
      ],
      "metadata": {},
      "execution_count": 1,
      "outputs": []
    },
    {
      "id": "KKkpsRFmHUiTPE7WDhV5LQ",
      "cell_type": "code",
      "source": [
        "var expectedIncurredCommissions = Test.GetScopes<IncurredActuals>(identities).Aggregate().Commissions",
        "\n                                      .Filter((\"GroupOfContract\", dataNode)).Aggregate()?.Value?? 0;"
      ],
      "metadata": {},
      "execution_count": 1,
      "outputs": []
    },
    {
      "id": "ZoXGr9AuiUiZ9G1X4jUa8Q",
      "cell_type": "code",
      "source": [
        "var expectedIncurredClaimsICO = Test.GetScopes<IncurredActuals>(identities).Aggregate().ClaimsIcoToIse",
        "\n                            .Filter((\"GroupOfContract\", dataNode)).Aggregate()?.Value?? 0;"
      ],
      "metadata": {},
      "execution_count": 1,
      "outputs": []
    },
    {
      "id": "80_7zlUU90-JspeAvDJ9lQ",
      "cell_type": "code",
      "source": [
        "var expectedIncurredDeferralsIse = Test.GetScopes<IncurredDeferrals>(identities).Aggregate().AmortizationToIse",
        "\n                                       .Filter((\"GroupOfContract\", dataNode)).Aggregate()?.Value?? 0;"
      ],
      "metadata": {},
      "execution_count": 1,
      "outputs": []
    },
    {
      "id": "Cekx0MB6YkyVgxkvslykvQ",
      "cell_type": "code",
      "source": [
        "double ISE = 0;",
        "\nif(groupOfContract.Partner == null && groupOfContract.LiabilityType == \"LRC\")",
        "\n    ISE = - expectedDeltaLC_nonFinancial ",
        "\n          - expectedDeltaLC_release",
        "\n          + expectedIncurredClaimsNIC ",
        "\n          + expectedIncurredExpenses ",
        "\n          + expectedIncurredClaimsICO",
        "\n          + expectedIncurredCommissions",
        "\n          + expectedIncurredDeferralsIse;",
        "\nelse if(groupOfContract.Partner == null && groupOfContract.LiabilityType == \"LIC\")",
        "\n    ISE = - expectedDeltaFCF_nonFinancial",
        "\n          - expectedDeltaLC_nonFinancial ",
        "\n          - expectedDeltaLC_release",
        "\n          + expectedIncurredClaimsNIC ",
        "\n          + expectedIncurredExpenses ",
        "\n          + expectedIncurredClaimsICO",
        "\n          + expectedIncurredCommissions",
        "\n          + expectedIncurredDeferralsIse;",
        "\nelse if(groupOfContract.Partner != null)",
        "\n    ISE = - expectedDeltaFCF_nonFinancial",
        "\n          - expectedDeltaCSM_nonFinancial",
        "\n          - expectedDeltaCSM_release",
        "\n          - expectedDeltaLC_nonFinancial ",
        "\n          - expectedDeltaLC_release",
        "\n          - expectedDeltaLoReCo_release",
        "\n          + expectedIncurredIncomingCashflows",
        "\n          + expectedIncurredClaimsNIC ",
        "\n          + expectedIncurredExpenses ",
        "\n          + expectedIncurredClaimsICO",
        "\n          + expectedIncurredCommissions",
        "\n          + expectedIncurredDeferralsIse;"
      ],
      "metadata": {},
      "execution_count": 1,
      "outputs": []
    },
    {
      "id": "081ToSk3WESb6183HlFQlA",
      "cell_type": "code",
      "source": [
        "ISE"
      ],
      "metadata": {},
      "execution_count": 1,
      "outputs": []
    },
    {
      "id": "83VrYmGYX0uHykId27aWOQ",
      "cell_type": "markdown",
      "source": [
        "## Insurance Finance Income/Expenses"
      ],
      "metadata": {}
    },
    {
      "id": "NAkWvaF6NUG6tYDPqEbVNA",
      "cell_type": "markdown",
      "source": [
        "The Financial part associated to the Insurance business encompassing both the Income and Expenses is denoted IFIE from the initials marked in capital letters. The  ",
        "\n",
        "\n$$",
        "\n\\text{IFIE} = \\left\\{",
        "\n\\begin{array}{ll}",
        "\n\\Delta\\text{FCF Financial} + \\Delta\\text{CSM Financial} + \\Delta\\text{LC Financial} ~~,",
        "\n& \\text{for Insurance contracts} \\\\[0.2cm]",
        "\n\\Delta\\text{FCF Financial} + \\Delta\\text{CSM Financial} + \\Delta\\text{LC Financial} ",
        "\n+ \\Delta\\text{LoReCo Financial} ~~, ",
        "\n& \\text{for Re-Insurance contracts}",
        "\n\\end{array}",
        "\n\\right.",
        "\n$$",
        "\n",
        "\nHere below we recompute the IFIE term:"
      ],
      "metadata": {}
    },
    {
      "id": "JkwONyKiakC4XpVgxusdRg",
      "cell_type": "code",
      "source": [
        "double IFIE = 0;",
        "\nif(groupOfContract.Partner == null) ",
        "\n    IFIE = - expectedDeltaFCF_Financial ",
        "\n           - expectedDeltaCSM_Financial",
        "\n           - expectedDeltaLC_Financial;",
        "\nelse",
        "\n    IFIE = - expectedDeltaFCF_Financial ",
        "\n           - expectedDeltaCSM_Financial",
        "\n           - expectedDeltaLC_Financial",
        "\n           - expectedDeltaLORECO_Financial;"
      ],
      "metadata": {},
      "execution_count": 1,
      "outputs": []
    },
    {
      "id": "grefaMt7BEaTJ7dsa0AUQA",
      "cell_type": "code",
      "source": [
        "IFIE"
      ],
      "metadata": {},
      "execution_count": 1,
      "outputs": []
    },
    {
      "id": "6_E3dWyyF0COz4xLh1e-xA",
      "cell_type": "markdown",
      "source": [
        "## Other Comprehensive Income"
      ],
      "metadata": {}
    },
    {
      "id": "jK3nTYcm30KoVUioi71r4g",
      "cell_type": "markdown",
      "source": [
        "The Other Comprehensive Income (OCI) can be non-zero only when the OCI is enabled for [target Group of Contract](#report), that is, <code>Oci Type = Default</code>.",
        "\n",
        "\n$$",
        "\n\\text{OCI} = \\Delta\\text{FCF} \\big|_{\\text{Locked-in}} - \\Delta\\text{FCF} \\big|_{\\text{Current}} ~~.",
        "\n$$",
        "\n",
        "\nHere below we recompute the OCI term:"
      ],
      "metadata": {}
    },
    {
      "id": "j2wpd2OAuUmjvKWQoew9jQ",
      "cell_type": "code",
      "source": [
        "var OCI = expectedDeltaFCF_OCI;"
      ],
      "metadata": {},
      "execution_count": 1,
      "outputs": []
    },
    {
      "id": "7R8qKIIsGU6fcW8M2M2M5g",
      "cell_type": "code",
      "source": [
        "OCI"
      ],
      "metadata": {},
      "execution_count": 1,
      "outputs": []
    },
    {
      "id": "_BPpLy2cnUKTaE-9tgr-UQ",
      "cell_type": "code",
      "source": [
        ""
      ],
      "metadata": {},
      "execution_count": 1,
      "outputs": []
    }
  ]
}