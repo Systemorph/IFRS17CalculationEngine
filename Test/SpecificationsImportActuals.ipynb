{
  "metadata": {
    "toc-showcode": "False",
    "language_info": {
      "file_extension": ".cs",
      "mimetype": "text/plain",
      "name": "C#"
    },
    "authors": [],
    "kernelspec": {
      "display_name": "Formula Framework",
      "language": "C#",
      "name": "C#"
    },
    "toc-autonumbering": "True"
  },
  "nbformat": 4,
  "nbformat_minor": 5,
  "cells": [
    {
      "id": "1O9abtyGKUeDiX_VyaeaAQ",
      "cell_type": "markdown",
      "source": [
        "<p style=\"font-weight:bold;\"> <span style=\"font-size: 36px\"> Import Actuals Specifications </span> </p>"
      ],
      "metadata": {}
    },
    {
      "id": "mgxNtYdjh027T2LccTaWsA",
      "cell_type": "markdown",
      "source": [
        "The aim of this notebook is to document the calculations taking place when importing the Actuals. For this documentation notebook the Data is imported from the corresponding csv files located in the following path <code>Initialization/Systemorph/</code>. The process is pictorially explained in the following flowchart. ",
        "\n",
        "\n<a name=\"TOC\"></a>",
        "\n<center><img src=\"../Images/SpecificationsImportActuals.PNG\" width=\"45%\" style=\"float:center;\">",
        "\n",
        "\nThroughout this notebook we adopt the following variable notation:  we use the words *computed* vs. *expected* to differentiate the results provided by the application vs. this test notebook, respectively."
      ],
      "metadata": {}
    },
    {
      "id": "9sXMifQXi0yuys7dMnvmmA",
      "cell_type": "markdown",
      "source": [
        "[Setup IFRS17 Calculation Engine](../Import/ImportScopeCalculation):"
      ],
      "metadata": {}
    },
    {
      "id": "TYI7B_9JxEm9gBQSiHP7Tw",
      "cell_type": "code",
      "source": [
        "#!import \"SpecificationsSetup\""
      ],
      "metadata": {},
      "execution_count": 1,
      "outputs": []
    },
    {
      "id": "sQZ9EDWrRUCqjDaDiUaslg",
      "cell_type": "markdown",
      "source": [
        "---"
      ],
      "metadata": {}
    },
    {
      "id": "9VuASxTZcE64BWvOvV6Y0A",
      "cell_type": "markdown",
      "source": [
        "# Import Data"
      ],
      "metadata": {}
    },
    {
      "id": "cb5PqhqcY0eWhhsN18hk8Q",
      "cell_type": "markdown",
      "source": [
        "<a id='year-and-period'></a>",
        "\n## Current Period"
      ],
      "metadata": {}
    },
    {
      "id": "AYwuUnm7D0OvGFWfuLCS0g",
      "cell_type": "markdown",
      "source": [
        "Please select the target period (i.e. year and month), Reporting Node, Economic Basis, and Data Node based on the imported data:"
      ],
      "metadata": {}
    },
    {
      "id": "e0LWvI9K1U-qRdDpHJWU3Q",
      "cell_type": "code",
      "source": [
        "var year          = 2021   ;",
        "\nvar month         = 3      ;",
        "\nvar reportingNode = \"CH\"   ;",
        "\nvar economicBasis = \"L\"    ;",
        "\nvar dataNode      = \"DT1.1\";"
      ],
      "metadata": {},
      "execution_count": 1,
      "outputs": []
    },
    {
      "id": "MfXiwU7pSkeiWLcmqQJytA",
      "cell_type": "markdown",
      "source": [
        "Import the Dimensions, Yield Curves and Nominal Cashflows from the corresponding csv files in <code>Initialization/Systemorph/</code>"
      ],
      "metadata": {}
    },
    {
      "id": "VckQZIZagUGxLJK_kIkJzA",
      "cell_type": "code",
      "source": [
        "#!eval-notebook \"../Initialization/InitSystemorphToMemory\""
      ],
      "metadata": {},
      "execution_count": 1,
      "outputs": []
    },
    {
      "id": "Epv9604EmEmVeKtkGt_iqA",
      "cell_type": "markdown",
      "source": [
        "Initialization of the Test Suite: the data loaded from csv files are ready to be used by the Scopes for the calculations"
      ],
      "metadata": {}
    },
    {
      "id": "UWRWl2pRz0eA8IvYfBeXbQ",
      "cell_type": "code",
      "source": [
        "var Test = await StartCalculatorAsync(reportingNode, year, month, economicBasis, Periodicity.Quarterly, ImportFormats.Actual);"
      ],
      "metadata": {},
      "execution_count": 1,
      "outputs": []
    },
    {
      "id": "Ball02llF0KmddCeo9vhsw",
      "cell_type": "markdown",
      "source": [
        "<a id='view-imported-actuals'></a>",
        "\n## View imported Actuals"
      ],
      "metadata": {}
    },
    {
      "id": "XiBDlMNVEk-oEido9aLDsA",
      "cell_type": "markdown",
      "source": [
        "Here the imported Actuals from csv are visualized "
      ],
      "metadata": {}
    },
    {
      "id": "CaVs88CPvEuA-lj1QXbU4A",
      "cell_type": "code",
      "source": [
        "Test.GetStorage().GetIfrsVariables(dataNode)",
        "\n    .Where(x => new string[] {EstimateTypes.A, EstimateTypes.AA, EstimateTypes.OA}.Contains(x.EstimateType))",
        "\n    .Where(x => x.AocType != \"EOP\")"
      ],
      "metadata": {},
      "execution_count": 1,
      "outputs": []
    },
    {
      "id": "J2FGEyUHWk-y2N3yq7bQGQ",
      "cell_type": "markdown",
      "source": [
        "where the filter is selecting only those *estimate types* associated to the imported Actuals, hence excluding the IFRS variables calculated when [importing the cashflows](SpecificationsImportCashflows)."
      ],
      "metadata": {}
    },
    {
      "id": "ZFf-ptMOJUaVX3hg-LJRPA",
      "cell_type": "markdown",
      "source": [
        "<br/><br/>",
        "\n<a id='base-actual'></a>",
        "\n# Base Actuals"
      ],
      "metadata": {}
    },
    {
      "id": "q2ZSjwzGV0iSYC2rHoNKBQ",
      "cell_type": "markdown",
      "source": [
        "The following simplified AoC Chain applies for Advance and Overdue Actuals:",
        "\n1. Beginning of Period (BOP)",
        "\n2. Cash flow (CF)",
        "\n3. Amortization (AM) ",
        "\n4. End of Period (EOP) ",
        "\n",
        "\nWe consider 4 types of Actual values, which are distinguished through their [Estimate Type](../DataModel/DataStructure#estimate-type):",
        "\n- Actuals (A)",
        "\n- Advance Actuals (AA)",
        "\n- Overdue Actuals (OA)",
        "\n- Deferrable Actuals (DA)",
        "\n",
        "\nwith the Estimate Type's system name shown between parenthesis above.",
        "\nThey are computed by the so-called Actual Base **Scope**",
        "\n",
        "\n$$",
        "\n\\text{Actual Base} (\\text{AoC}) = \\left\\{",
        "\n\\begin{array}{cl}",
        "\n0                                                                                        & \\text{if AoC step is AM,} \\\\",
        "\n\\text{Actual Base}(\\rm{BOP}) + \\text{Actual Base}(\\rm{CF}) + \\text{Actual Base}(\\rm{WO}) & \\text{if AoC step is EOP and Estimate Type is not A,} \\\\",
        "\n\\text{Imported Actual}                                                                   & \\text{otherwise.}",
        "\n\\end{array}",
        "\n\\right.",
        "\n$$",
        "\n",
        "\nWe start by selecting one of the [imported Actual](#view-imported-actuals) and we pick up an available data node, novelty, and amount type. Then, we can retrieve the corresponding actual (if any) with AoC type BOP, R, and WO. ",
        "\n",
        "\nNote that the **Identity** for Actual Base contains information about the target data node, AoC type, novelty, amount type and estimate type."
      ],
      "metadata": {}
    },
    {
      "id": "3mz_ogsNkUOQiwgPjhzFSw",
      "cell_type": "markdown",
      "source": [
        "## End of Period"
      ],
      "metadata": {}
    },
    {
      "id": "1gmNQIcnYkWzuw3POkhHTg",
      "cell_type": "markdown",
      "source": [
        "The imported actuals for the AoC steps BOP, CF, and WO are:"
      ],
      "metadata": {}
    },
    {
      "id": "m0tpSB8gxUyDD338Zgkb2Q",
      "cell_type": "code",
      "source": [
        "var actualBaseBOP = Test.GetScope<ActualBase>( (new ImportIdentity {DataNode = \"DT1.1\", AocType = \"BOP\", Novelty = \"I\" }, \"PR\", \"AA\", (int?)null) ); ",
        "\nactualBaseBOP"
      ],
      "metadata": {},
      "execution_count": 1,
      "outputs": []
    },
    {
      "id": "dJten8gq_kyMKh4S8U_dzw",
      "cell_type": "code",
      "source": [
        "var actualBaseCF = Test.GetScope<ActualBase>( (new ImportIdentity {DataNode = \"DT1.1\", AocType = \"CF\", Novelty = \"C\" }, \"PR\", \"AA\", (int?)null) );",
        "\nactualBaseCF"
      ],
      "metadata": {},
      "execution_count": 1,
      "outputs": []
    },
    {
      "id": "YmaBzLIDzU-jXeSLLeah2Q",
      "cell_type": "code",
      "source": [
        "var actualBaseWO = Test.GetScope<ActualBase>( (new ImportIdentity {DataNode = \"DT1.1\", AocType = \"WO\", Novelty = \"C\" }, \"PR\", \"AA\", (int?)null) ); ",
        "\nactualBaseWO"
      ],
      "metadata": {},
      "execution_count": 1,
      "outputs": []
    },
    {
      "id": "kkzVuYU0TUq_BrtrZbS2Cg",
      "cell_type": "markdown",
      "source": [
        "Based on the imported actuals and according to the [formula above](#base-actual), the computed actual for AoC step EOP reads"
      ],
      "metadata": {}
    },
    {
      "id": "rJlipm8F8UqWjrerzqNxHw",
      "cell_type": "code",
      "source": [
        "var computedActualBaseEOP = Test.GetScope<ActualBase>( (new ImportIdentity {DataNode = \"DT1.1\", AocType = \"EOP\", Novelty = \"C\" }, \"PR\", \"AA\", (int?)null) ); ",
        "\ncomputedActualBaseEOP"
      ],
      "metadata": {},
      "execution_count": 1,
      "outputs": []
    },
    {
      "id": "agUQcE0dMkGmHLSL3ckUNA",
      "cell_type": "markdown",
      "source": [
        "The computed value can be compared with the expected value"
      ],
      "metadata": {}
    },
    {
      "id": "iNuhJJEj4UukayFi6gCk5Q",
      "cell_type": "code",
      "source": [
        "computedActualBaseEOP.Value == actualBaseBOP.Value + actualBaseCF.Value + actualBaseWO.Value"
      ],
      "metadata": {},
      "execution_count": 1,
      "outputs": []
    },
    {
      "id": "LoHEbpUBtUKZRzu41Eyo1g",
      "cell_type": "code",
      "source": [
        "computedActualBaseEOP.Value.Should().Be( actualBaseBOP.Value + actualBaseCF.Value + actualBaseWO.Value );"
      ],
      "metadata": {},
      "execution_count": 1,
      "outputs": []
    },
    {
      "id": "g-rX5A35Bk67CAhSb5UMBw",
      "cell_type": "markdown",
      "source": [
        "<br/><br/>",
        "\n<a id='deferrable-actual'></a>",
        "\n# Deferrable Actuals"
      ],
      "metadata": {}
    },
    {
      "id": "Yb0BdsMIdEmyenFYmcNP0g",
      "cell_type": "markdown",
      "source": [
        "The Deferrable Actuals (DA) are computed as follows",
        "\n",
        "\n$$",
        "\n\\text{Deferrable Actual} (\\text{AoC}) = \\left\\{",
        "\n\\begin{array}{cl}",
        "\n\\text{Actual Base}_{\\substack{\\text{Estimate Type}=\\text{A} \\\\ \\text{Amount Type}=\\text{ACA}}} (\\text{CF})",
        "\n +\\text{Actual Base}_{\\substack{\\text{Estimate Type}=\\text{A} \\\\ \\text{Amount Type}=\\text{AEA}}} (\\text{CF})    & \\text{if AoC step is CF }  \\\\",
        "\n-\\text{AMF} \\cdot \\big( \\text{Deferrable Actual}(\\rm{BOP}) + \\text{Deferrable Actual}(\\rm{CF}) \\big)            & \\text{if AoC step is AM } \\\\",
        "\n\\text{Deferrable Actual}(\\rm{BOP}) + \\text{Deferrable Actual}(\\rm{CF}) + \\text{Deferrable Actual}(\\rm{AM})      & \\text{if AoC step is EOP } \\\\",
        "\n\\text{Input Actual}_{\\text{Estimate Type}=\\text{DA}} (\\text{BOP})                                              & \\text{if AoC step is BOP } \\\\",
        "\n\\end{array}",
        "\n\\right.",
        "\n$$",
        "\n",
        "\nwhere ACA and AEA are *Aquisition* Amount Types from *Attributable Commission* and *Attributable Expenses*, respectively.",
        "\n",
        "\nNote that the **Identity** of Deferrable Actual is encompassing solely data node, Aoc type, and novelty."
      ],
      "metadata": {}
    },
    {
      "id": "dIh2Kt3mwEOjtIdYsSQLpw",
      "cell_type": "markdown",
      "source": [
        "## Beginning of Period"
      ],
      "metadata": {}
    },
    {
      "id": "ZwwOl_GoSEyoQi2486bksw",
      "cell_type": "code",
      "source": [
        "var computedDeferrableActualBOP = Test.GetScope<DeferrableActual>( new ImportIdentity {DataNode = \"DT1.1\", AocType = \"BOP\", Novelty = \"I\" } );",
        "\ncomputedDeferrableActualBOP"
      ],
      "metadata": {},
      "execution_count": 1,
      "outputs": []
    },
    {
      "id": "rwIPbApkqk20YefMttJaBQ",
      "cell_type": "markdown",
      "source": [
        "The deferrable Actual for the AoC step being BOP is simply the EOP Actual of the previous period. In fact, if the latter exists among the [imported Actuals](#view-imported-actuals), it is reported here below as the BOP of the current period:"
      ],
      "metadata": {}
    },
    {
      "id": "ECOpAU6G40ecEEPHz210UQ",
      "cell_type": "code",
      "source": [
        "var expectedDeferrableActualBOP = Test.GetStorage().GetValue(new ImportIdentity {DataNode = \"DT1.1\", AocType = \"BOP\", Novelty = \"I\" }, (string)null, EstimateTypes.DA, (int?)null);",
        "\nexpectedDeferrableActualBOP"
      ],
      "metadata": {},
      "execution_count": 1,
      "outputs": []
    },
    {
      "id": "F_RpeDiSsk2xnjvgkmQyfA",
      "cell_type": "markdown",
      "source": [
        "The expected value is compared with the computed result: "
      ],
      "metadata": {}
    },
    {
      "id": "RAI7Dd_j4kaqQJENtCDH2Q",
      "cell_type": "code",
      "source": [
        "computedDeferrableActualBOP.Value == expectedDeferrableActualBOP"
      ],
      "metadata": {},
      "execution_count": 1,
      "outputs": []
    },
    {
      "id": "Xj5YWVMuskWq5g578_rF3g",
      "cell_type": "code",
      "source": [
        "computedDeferrableActualBOP.Value.Should().Be(expectedDeferrableActualBOP);"
      ],
      "metadata": {},
      "execution_count": 1,
      "outputs": []
    },
    {
      "id": "VE3a5lAE40OUqsCPrC8OkQ",
      "cell_type": "markdown",
      "source": [
        "## Cash flow"
      ],
      "metadata": {}
    },
    {
      "id": "KCDTqi_VaEeLnsXIQtuFfw",
      "cell_type": "code",
      "source": [
        "var computedDeferrableActualCF = Test.GetScope<DeferrableActual>( new ImportIdentity {DataNode = \"DT1.1\", AocType = \"CF\", Novelty = \"C\" } );",
        "\ncomputedDeferrableActualCF"
      ],
      "metadata": {},
      "execution_count": 1,
      "outputs": []
    },
    {
      "id": "-npyFyfnKU2HKSBOkmaWqw",
      "cell_type": "markdown",
      "source": [
        "The deferrable Actual for the AoC step being CF is the sum of the base Actuals with Amount Type ACA and AEA:"
      ],
      "metadata": {}
    },
    {
      "id": "DMXlh_BdV0m-gGATOlCmXw",
      "cell_type": "code",
      "source": [
        "var actualBaseAEA = Test.GetScope<ActualBase>( (new ImportIdentity {DataNode = \"DT1.1\", AocType = \"CF\", Novelty = \"C\" }, \"AEA\", \"A\", (int?)null) );",
        "\nactualBaseAEA"
      ],
      "metadata": {},
      "execution_count": 1,
      "outputs": []
    },
    {
      "id": "0bhhirWn60Sa22kkJBKxPA",
      "cell_type": "code",
      "source": [
        "var actualBaseACA = Test.GetScope<ActualBase>( (new ImportIdentity {DataNode = \"DT1.1\", AocType = \"CF\", Novelty = \"C\" }, \"ACA\", \"A\", (int?)null) );",
        "\nactualBaseACA"
      ],
      "metadata": {},
      "execution_count": 1,
      "outputs": []
    },
    {
      "id": "s5th00fR9km5T_Jn7WG_Tw",
      "cell_type": "code",
      "source": [
        "var expectedDeferrableActualCF = actualBaseAEA.Value + actualBaseACA.Value;",
        "\nexpectedDeferrableActualCF"
      ],
      "metadata": {},
      "execution_count": 1,
      "outputs": []
    },
    {
      "id": "nTo3qqybYkKSKmR3F1ElOA",
      "cell_type": "markdown",
      "source": [
        "The expected value is compared with the computed result: "
      ],
      "metadata": {}
    },
    {
      "id": "focF1ZcZDUOXSSNLlZkfFg",
      "cell_type": "code",
      "source": [
        "computedDeferrableActualCF.Value == expectedDeferrableActualCF"
      ],
      "metadata": {},
      "execution_count": 1,
      "outputs": []
    },
    {
      "id": "zj2ipSnC_UqYHMXCw093xg",
      "cell_type": "code",
      "source": [
        "computedDeferrableActualCF.Value.Should().Be(expectedDeferrableActualCF);"
      ],
      "metadata": {},
      "execution_count": 1,
      "outputs": []
    },
    {
      "id": "RQuw7gToOkS4hInnv9Kzww",
      "cell_type": "markdown",
      "source": [
        "## Amortization"
      ],
      "metadata": {}
    },
    {
      "id": "_MvSo7kpmEO8Lx_8g70chg",
      "cell_type": "code",
      "source": [
        "var computedDeferrableActualAM = Test.GetScope<DeferrableActual>( new ImportIdentity {DataNode = \"DT1.1\", AocType = \"AM\", Novelty = \"C\" } );",
        "\ncomputedDeferrableActualAM"
      ],
      "metadata": {},
      "execution_count": 1,
      "outputs": []
    },
    {
      "id": "GxyMep7IRUuKq-XPTZaSoA",
      "cell_type": "markdown",
      "source": [
        "The deferrable Actual for the AoC step being AM is the sum of the deferrable Actuals for AoC step BOP and CF multiplied by the current period amortization factor:"
      ],
      "metadata": {}
    },
    {
      "id": "YxvqYPNNPkGTrfpko0P9tg",
      "cell_type": "code",
      "source": [
        "var currentPeriodAmortizationFactor = Test.GetScope<CurrentPeriodAmortizationFactor>( new ImportIdentity {DataNode = \"DT1.1\", AocType = \"AM\", Novelty = \"C\" } );",
        "\ncurrentPeriodAmortizationFactor"
      ],
      "metadata": {},
      "execution_count": 1,
      "outputs": []
    },
    {
      "id": "CcAeUSZHEUy_ZLSZOjwWNQ",
      "cell_type": "code",
      "source": [
        "Test.GetStorage().GetValue(new ImportIdentity {DataNode = \"DT1.1\", AocType = \"AM\", Novelty = \"C\" }, (string)null, \"F\", \"L\", (int?)null)"
      ],
      "metadata": {},
      "execution_count": 1,
      "outputs": []
    },
    {
      "id": "R7RYD25pIkyzpVtr4bTYZQ",
      "cell_type": "code",
      "source": [
        "var expectedDeferrableActualAM = -currentPeriodAmortizationFactor.Value * (expectedDeferrableActualBOP + expectedDeferrableActualCF);",
        "\nexpectedDeferrableActualAM"
      ],
      "metadata": {},
      "execution_count": 1,
      "outputs": []
    },
    {
      "id": "57FkYeaQNEGS22T303mszw",
      "cell_type": "markdown",
      "source": [
        "The expected value is compared with the computed result: "
      ],
      "metadata": {}
    },
    {
      "id": "vj4ilsvlW0Kd_W6yb9M_LA",
      "cell_type": "code",
      "source": [
        "computedDeferrableActualAM.Value == expectedDeferrableActualAM"
      ],
      "metadata": {},
      "execution_count": 1,
      "outputs": []
    },
    {
      "id": "-ZnJyECl70mF5zHLrrMwJA",
      "cell_type": "code",
      "source": [
        "computedDeferrableActualAM.Value.Should().Be( expectedDeferrableActualAM );"
      ],
      "metadata": {},
      "execution_count": 1,
      "outputs": []
    },
    {
      "id": "xc8raQB2aECcY5vJIlfnXw",
      "cell_type": "markdown",
      "source": [
        "## End of Period"
      ],
      "metadata": {}
    },
    {
      "id": "LVj_SAEOeEy1V78xmool1w",
      "cell_type": "code",
      "source": [
        "var computedDeferrableActualEOP = Test.GetScope<DeferrableActual>( new ImportIdentity {DataNode = \"DT1.1\", AocType = \"EOP\", Novelty = \"C\" } );",
        "\ncomputedDeferrableActualEOP"
      ],
      "metadata": {},
      "execution_count": 1,
      "outputs": []
    },
    {
      "id": "4thR0prSO0KUITk7bFfW2g",
      "cell_type": "markdown",
      "source": [
        "The deferrable Actual for the AoC step being EOP is the sum of the deferrable Actuals for AoC step BOP, CF, and AM:"
      ],
      "metadata": {}
    },
    {
      "id": "KCOAQSqabUmBYKvz1FRHWQ",
      "cell_type": "code",
      "source": [
        "var deferrableActualBOP = Test.GetScope<DeferrableActual>( new ImportIdentity {DataNode = \"DT1.1\", AocType = \"BOP\", Novelty = \"I\" } );",
        "\ndeferrableActualBOP"
      ],
      "metadata": {},
      "execution_count": 1,
      "outputs": []
    },
    {
      "id": "-goqiLAXmEa7aVplCpRGjQ",
      "cell_type": "code",
      "source": [
        "var deferrableActualCF = Test.GetScope<DeferrableActual>( new ImportIdentity {DataNode = \"DT1.1\", AocType = \"CF\", Novelty = \"C\" } );",
        "\ndeferrableActualCF"
      ],
      "metadata": {},
      "execution_count": 1,
      "outputs": []
    },
    {
      "id": "IW3UXfNFZ0CCML8Omp0uKQ",
      "cell_type": "code",
      "source": [
        "var deferrableActualAM = Test.GetScope<DeferrableActual>( new ImportIdentity {DataNode = \"DT1.1\", AocType = \"AM\", Novelty = \"C\" } );",
        "\ndeferrableActualAM"
      ],
      "metadata": {},
      "execution_count": 1,
      "outputs": []
    },
    {
      "id": "LbrMeCRVTEGd8XazzJK4UQ",
      "cell_type": "code",
      "source": [
        "var expectedDeferrableActualEOP = deferrableActualBOP.Value + deferrableActualCF.Value + deferrableActualAM.Value;",
        "\nexpectedDeferrableActualEOP"
      ],
      "metadata": {},
      "execution_count": 1,
      "outputs": []
    },
    {
      "id": "bq4Rfl5WFEejDIWSCzYAgA",
      "cell_type": "markdown",
      "source": [
        "The expected value is compared with the computed result: "
      ],
      "metadata": {}
    },
    {
      "id": "hKN5tE4QmkuzwXxOyxc9xQ",
      "cell_type": "code",
      "source": [
        "computedDeferrableActualEOP.Value == expectedDeferrableActualEOP"
      ],
      "metadata": {},
      "execution_count": 1,
      "outputs": []
    },
    {
      "id": "BrWWx3tS2UK7lsbEDU4TOg",
      "cell_type": "code",
      "source": [
        "computedDeferrableActualEOP.Value.Should().Be(expectedDeferrableActualEOP);"
      ],
      "metadata": {},
      "execution_count": 1,
      "outputs": []
    },
    {
      "id": "Rn9tO4dA3kGJWgSdp5k-hA",
      "cell_type": "code",
      "source": [
        ""
      ],
      "metadata": {},
      "execution_count": 1,
      "outputs": []
    }
  ]
}