{
  "metadata": {
    "language_info": {
      "file_extension": ".cs",
      "mimetype": "text/plain",
      "name": "C#"
    },
    "authors": [],
    "kernelspec": {
      "display_name": "Formula Framework",
      "language": "C#",
      "name": "C#"
    },
    "toc-autonumbering": "True",
    "toc-showcode": "False"
  },
  "nbformat": 4,
  "nbformat_minor": 5,
  "cells": [
    {
      "id": "TZgppEey_UevldeIhLk-Zg",
      "cell_type": "markdown",
      "source": [
        "<p style=\"font-weight:bold;\"> <span style=\"font-size: 36px\"> Tests </span> </p>"
      ],
      "metadata": {}
    },
    {
      "id": "SyI_QtXCw0yCEOXRPFFsww",
      "cell_type": "code",
      "source": [
        "#!eval-notebook \"IfrsVariablesTest\""
      ],
      "metadata": {},
      "execution_count": 1,
      "outputs": []
    },
    {
      "id": "-uMg4UaFbECZuIbtwJCvJw",
      "cell_type": "code",
      "source": [
        "#!eval-notebook \"ImportStorageTest\""
      ],
      "metadata": {},
      "execution_count": 1,
      "outputs": []
    },
    {
      "id": "x_X1-9LqmkCGI9R1UOQo6A",
      "cell_type": "code",
      "source": [
        "#!eval-notebook \"ReportStorageTest\""
      ],
      "metadata": {},
      "execution_count": 1,
      "outputs": []
    },
    {
      "id": "fTEQQtLuT0uQ01JBhmVGzw",
      "cell_type": "code",
      "source": [
        "#!eval-notebook \"QueriesTest\""
      ],
      "metadata": {},
      "execution_count": 1,
      "outputs": []
    },
    {
      "id": "iRWR94CbKU-eP1eVu7LpbA",
      "cell_type": "code",
      "source": [
        "#!eval-notebook \"AocStructureTest\""
      ],
      "metadata": {},
      "execution_count": 1,
      "outputs": []
    },
    {
      "id": "Omg1EkcRJ0miK9epGdB5Fg",
      "cell_type": "code",
      "source": [
        "#!eval-notebook \"TechnicalMarginTest\""
      ],
      "metadata": {},
      "execution_count": 1,
      "outputs": []
    },
    {
      "id": "EMHkr07qoEyWT3n-TUrE_A",
      "cell_type": "markdown",
      "source": [
        "---"
      ],
      "metadata": {}
    },
    {
      "id": "XYHMD6zOzUS3CLOcyaAq_g",
      "cell_type": "code",
      "source": [
        "#!eval-notebook \"SpecificationsImportCashflows\""
      ],
      "metadata": {},
      "execution_count": 1,
      "outputs": []
    },
    {
      "id": "HfcLmG39kE2VFzt18WLEKA",
      "cell_type": "code",
      "source": [
        "#!eval-notebook \"SpecificationsImportActuals\""
      ],
      "metadata": {},
      "execution_count": 1,
      "outputs": []
    },
    {
      "id": "XgjC6ZJsvkGNTDeP374MXw",
      "cell_type": "code",
      "source": [
        "#!eval-notebook \"SpecificationsTechnicalMargin\""
      ],
      "metadata": {},
      "execution_count": 1,
      "outputs": []
    },
    {
      "id": "-zjdp-ODe0qnHVp1-wr02A",
      "cell_type": "code",
      "source": [
        "#!eval-notebook \"SpecificationsFinancialPerformance\""
      ],
      "metadata": {},
      "execution_count": 1,
      "outputs": []
    },
    {
      "id": "QtahA_wtJUmc5mWycmnjzA",
      "cell_type": "markdown",
      "source": [
        "---"
      ],
      "metadata": {}
    },
    {
      "id": "xfKpAnti3UaiKrOBQeD8gw",
      "cell_type": "code",
      "source": [
        "#!eval-notebook \"MapTemplateAndImportTest\""
      ],
      "metadata": {},
      "execution_count": 1,
      "outputs": []
    },
    {
      "id": "5jyZtMUGUU6YhrXXY2mMqQ",
      "cell_type": "markdown",
      "source": [
        "---"
      ],
      "metadata": {}
    },
    {
      "id": "hvH198RRBUGXwPc-HsgU0A",
      "cell_type": "code",
      "source": [
        "#!eval-notebook \"ReportVariablesTest\""
      ],
      "metadata": {},
      "execution_count": 1,
      "outputs": []
    },
    {
      "id": "Q8h-6uY0TkCHeLq1bFnNhQ",
      "cell_type": "code",
      "source": [
        ""
      ],
      "metadata": {},
      "execution_count": 1,
      "outputs": []
    }
  ]
}