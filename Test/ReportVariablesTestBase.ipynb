{
  "metadata": {
    "toc-showcode": "False",
    "language_info": {
      "file_extension": ".cs",
      "mimetype": "text/plain",
      "name": "C#"
    },
    "authors": [],
    "kernelspec": {
      "display_name": "Formula Framework",
      "language": "C#",
      "name": "C#"
    },
    "toc-autonumbering": "True"
  },
  "nbformat": 4,
  "nbformat_minor": 5,
  "cells": [
    {
      "id": "FYwy37yMNEeDl1kHPRFpKg",
      "cell_type": "markdown",
      "source": [
        "<p style=\"font-weight:bold;\"> <span style=\"font-size: 36px\"> Report Variable Test Base </span> </p>"
      ],
      "metadata": {}
    },
    {
      "id": "3ZyHFOIosEyHCIUotySSVQ",
      "cell_type": "code",
      "source": [
        "#!import \"../Report/ReportScopes\""
      ],
      "metadata": {},
      "execution_count": 1,
      "outputs": []
    },
    {
      "id": "injwhNjFM0Gd0wGXOWk0iw",
      "cell_type": "markdown",
      "source": [
        "# Helpers"
      ],
      "metadata": {}
    },
    {
      "id": "16zJY8-HwUWXMwwH0PDnKA",
      "cell_type": "code",
      "source": [
        "const string benchmarkFileNamePrefix = \"ReportVariableBenchmarks_\";"
      ],
      "metadata": {},
      "execution_count": 1,
      "outputs": []
    },
    {
      "id": "w93TGY8caEWby3AEWexMfw",
      "cell_type": "code",
      "source": [
        "static string GetBenchmarkFileName(((int Year, int Month) Period, string ReportingNode, string Scenario, CurrencyType CurrencyType) args) => args.ToString().Replace(\"(\", \"\").Replace(\")\", \"\").Replace(\" \", \"\").Replace(\",\", \"_\");"
      ],
      "metadata": {},
      "execution_count": 1,
      "outputs": []
    },
    {
      "id": "FN-2epLYEEi0XlPqNMZBmQ",
      "cell_type": "markdown",
      "source": [
        "# Calculated"
      ],
      "metadata": {}
    },
    {
      "id": "lpbvuOTZvkeSAcnrEI9kXQ",
      "cell_type": "code",
      "source": [
        "static ICollection<ReportVariable> GetScopesData(Systemorph.Vertex.Scopes.IScopeWithStorage<ReportStorage> universe, ICollection<(ReportIdentity, CurrencyType)> identities) {",
        "\n    ",
        "\n    var lockedBePvs = universe.GetScopes<LockedBestEstimate>(identities).Aggregate().LockedBestEstimate;",
        "\n    var currentBePvs = universe.GetScopes<CurrentBestEstimate>(identities).Aggregate().CurrentBestEstimate;       ",
        "\n",
        "\n    var lockedRaPvs = universe.GetScopes<LockedRiskAdjustment>(identities).Aggregate().LockedRiskAdjustment;",
        "\n    var currentRaPvs = universe.GetScopes<CurrentRiskAdjustment>(identities).Aggregate().CurrentRiskAdjustment;",
        "\n",
        "\n    var writtenActuals = universe.GetScopes<WrittenAndAccruals>(identities).Aggregate().Written;",
        "\n    var advanceActuals = universe.GetScopes<WrittenAndAccruals>(identities).Aggregate().Advance;",
        "\n    var overdueActuals = universe.GetScopes<WrittenAndAccruals>(identities).Aggregate().Overdue;",
        "\n",
        "\n    var deferrableActuals = universe.GetScopes<Deferrals>(identities).Aggregate().Deferrals;",
        "\n",
        "\n    var csm = universe.GetScopes<Csm>(identities).Aggregate().Csm;",
        "\n    var lc = universe.GetScopes<Lc>(identities).Aggregate().Lc;",
        "\n    var loreco = universe.GetScopes<Loreco>(identities).Aggregate().Loreco;",
        "\n",
        "\n    var fp = universe.GetScopes<FinancialPerformance>(identities).Aggregate().FinancialPerformance;",
        "\n    ",
        "\n    return Enumerable.Empty<ReportVariable>()",
        "\n    .Concat(lockedBePvs)    ",
        "\n    .Concat(currentBePvs)",
        "\n    .Concat(lockedRaPvs)",
        "\n    .Concat(currentRaPvs)",
        "\n    .Concat(writtenActuals)",
        "\n    .Concat(advanceActuals)",
        "\n    .Concat(overdueActuals)",
        "\n    .Concat(deferrableActuals)",
        "\n    .Concat(csm)",
        "\n    .Concat(lc)",
        "\n    .Concat(loreco)",
        "\n    .Concat(fp)",
        "\n    .OrderBy(v => v.GroupOfContract).ThenBy(v => v.Scenario).ThenBy(v => v.Projection).ThenBy(v => v.AccidentYear).ThenBy(v => v.EstimateType).ThenBy(v => (v.VariableType, v.Novelty))",
        "\n    .ToArray();",
        "\n}"
      ],
      "metadata": {},
      "execution_count": 1,
      "outputs": []
    },
    {
      "id": "GBx1EE3IREu7RPWu8iZFbg",
      "cell_type": "code",
      "source": [
        "static async Task<ICollection<ReportVariable>> GetScopesDataAsync(((int Year, int Month) Period, string ReportingNode, string Scenario, CurrencyType CurrencyType) args, ReportStorage reportStorage, Systemorph.Vertex.Scopes.Proxy.IScopeFactory scopes ) {",
        "\n    await reportStorage.InitializeAsync(args.Period, args.ReportingNode, args.Scenario, args.CurrencyType);",
        "\n    var identities = reportStorage.GetIdentities(args.Period, args.ReportingNode, args.Scenario, args.CurrencyType);",
        "\n    var universe = scopes.ForSingleton().WithStorage(reportStorage).ToScope<IUniverse>();",
        "\n    return GetScopesData(universe, identities);",
        "\n}"
      ],
      "metadata": {},
      "execution_count": 1,
      "outputs": []
    },
    {
      "id": "fkOXnPgChECva8WmF0hbaQ",
      "cell_type": "markdown",
      "source": [
        "# Benchmarks"
      ],
      "metadata": {}
    },
    {
      "id": "BJVbgmFieEGNehAotQ38Eg",
      "cell_type": "code",
      "source": [
        "static async Task<ICollection<ReportVariable>> GetBenchmarkDataAsync(((int Year, int Month) Period, string ReportingNode, string Scenario, CurrencyType CurrencyType) args, string path, IWorkspace workspace, IImportVariable importVariable) {",
        "\n    var bmFileName = benchmarkFileNamePrefix + GetBenchmarkFileName(args) + \".csv\";",
        "\n    await workspace.Partition.SetAsync<PartitionByReportingNode>(new { ReportingNode = args.ReportingNode, Scenario = args.Scenario });",
        "\n    await workspace.Partition.SetAsync<PartitionByReportingNodeAndPeriod>(new { ReportingNode = args.ReportingNode, Scenario = args.Scenario, Year = args.Period.Year, Month = args.Period.Month });",
        "\n    await importVariable.FromFile(path + bmFileName).WithType<ReportVariable>(x => x.SnapshotMode()).WithTarget(workspace).ExecuteAsync();",
        "\n    var ret = await workspace.Query<ReportVariable>().ToArrayAsync();",
        "\n    workspace.Reset(x => x.ResetCurrentPartitions().ResetType<ReportVariable>());",
        "\n    return ret;",
        "\n}"
      ],
      "metadata": {},
      "execution_count": 1,
      "outputs": []
    }
  ]
}