{
    "metadata": {
        "authors": [],
        "kernelspec": {
            "display_name": "Formula Framework",
            "language": "C#",
            "name": "C#"
        },
        "language_info": {
            "file_extension": ".cs",
            "mimetype": "text/plain",
            "name": "C#"
        },
        "toc-autonumbering": "True",
        "toc-showcode": "False"
    },
    "nbformat": 4,
    "nbformat_minor": 5,
    "cells": [
        {
            "cell_type": "markdown",
            "source": [
                "<p style=\"font-weight:bold;\"> <span style=\"font-size: 36px\"> Report Variable Test Base </span> </p>"
            ]
        },
        {
            "cell_type": "code",
            "source": [
                "#!import \"../Report/ReportScopes\""
            ]
        },
        {
            "cell_type": "markdown",
            "source": [
                "# Helpers"
            ]
        },
        {
            "cell_type": "code",
            "source": [
                "const string benchmarkFileNamePrefix = \"ReportVariableBenchmarks_\";"
            ]
        },
        {
            "cell_type": "code",
            "source": [
                "static string GetBenchmarkFileName(((int Year, int Month) Period, string ReportingNode, string Scenario, CurrencyType CurrencyType) args) => args.ToString().Replace(\"(\", \"\").Replace(\")\", \"\").Replace(\" \", \"\").Replace(\",\", \"_\");"
            ]
        },
        {
            "cell_type": "markdown",
            "source": [
                "# Calculated"
            ]
        },
        {
            "cell_type": "code",
            "source": [
                "static ICollection<ReportVariable> GetScopesData(Systemorph.Vertex.Scopes.IScopeWithStorage<ReportStorage> universe, ICollection<(ReportIdentity, CurrencyType)> identities) {",
                "\n    ",
                "\n    var lockedBePvs = universe.GetScopes<LockedBestEstimate>(identities).Aggregate().LockedBestEstimate;",
                "\n    var currentBePvs = universe.GetScopes<CurrentBestEstimate>(identities).Aggregate().CurrentBestEstimate;       ",
                "\n",
                "\n    var lockedRaPvs = universe.GetScopes<LockedRiskAdjustment>(identities).Aggregate().LockedRiskAdjustment;",
                "\n    var currentRaPvs = universe.GetScopes<CurrentRiskAdjustment>(identities).Aggregate().CurrentRiskAdjustment;",
                "\n",
                "\n    var writtenActuals = universe.GetScopes<WrittenAndAccruals>(identities).Aggregate().Written;",
                "\n    var advanceActuals = universe.GetScopes<WrittenAndAccruals>(identities).Aggregate().Advance;",
                "\n    var overdueActuals = universe.GetScopes<WrittenAndAccruals>(identities).Aggregate().Overdue;",
                "\n",
                "\n    var deferrableActuals = universe.GetScopes<Deferrals>(identities).Aggregate().Deferrals;",
                "\n",
                "\n    var csm = universe.GetScopes<Csm>(identities).Aggregate().Csm;",
                "\n    var lc = universe.GetScopes<Lc>(identities).Aggregate().Lc;",
                "\n    var loreco = universe.GetScopes<Loreco>(identities).Aggregate().Loreco;",
                "\n",
                "\n    var fp = universe.GetScopes<FinancialPerformance>(identities).Aggregate().FinancialPerformance;",
                "\n    ",
                "\n    return Enumerable.Empty<ReportVariable>()",
                "\n    .Concat(lockedBePvs)    ",
                "\n    .Concat(currentBePvs)",
                "\n    .Concat(lockedRaPvs)",
                "\n    .Concat(currentRaPvs)",
                "\n    .Concat(writtenActuals)",
                "\n    .Concat(advanceActuals)",
                "\n    .Concat(overdueActuals)",
                "\n    .Concat(deferrableActuals)",
                "\n    .Concat(csm)",
                "\n    .Concat(lc)",
                "\n    .Concat(loreco)",
                "\n    .Concat(fp)",
                "\n    .OrderBy(v => v.GroupOfContract).ThenBy(v => v.Scenario).ThenBy(v => v.Projection).ThenBy(v => v.AccidentYear).ThenBy(v => v.EstimateType).ThenBy(v => (v.VariableType, v.Novelty))",
                "\n    .ToArray();",
                "\n}"
            ]
        },
        {
            "cell_type": "code",
            "source": [
                "static async Task<ICollection<ReportVariable>> GetScopesDataAsync(((int Year, int Month) Period, string ReportingNode, string Scenario, CurrencyType CurrencyType) args, ReportStorage reportStorage, Systemorph.Vertex.Scopes.Proxy.IScopeFactory scopes ) {",
                "\n    await reportStorage.InitializeAsync(args.Period, args.ReportingNode, args.Scenario, args.CurrencyType);",
                "\n    var identities = reportStorage.GetIdentities(args.Period, args.ReportingNode, args.Scenario, args.CurrencyType);",
                "\n    var universe = scopes.ForSingleton().WithStorage(reportStorage).ToScope<IUniverse>();",
                "\n    return GetScopesData(universe, identities);",
                "\n}"
            ]
        },
        {
            "cell_type": "markdown",
            "source": [
                "# Benchmarks"
            ]
        },
        {
            "cell_type": "code",
            "source": [
                "static async Task<ICollection<ReportVariable>> GetBenchmarkDataAsync(((int Year, int Month) Period, string ReportingNode, string Scenario, CurrencyType CurrencyType) args, string path, IWorkspace workspace, IImportVariable importVariable) {",
                "\n    var bmFileName = benchmarkFileNamePrefix + GetBenchmarkFileName(args) + \".csv\";",
                "\n    await workspace.Partition.SetAsync<PartitionByReportingNode>(new { ReportingNode = args.ReportingNode, Scenario = args.Scenario });",
                "\n    await workspace.Partition.SetAsync<PartitionByReportingNodeAndPeriod>(new { ReportingNode = args.ReportingNode, Scenario = args.Scenario, Year = args.Period.Year, Month = args.Period.Month });",
                "\n    await importVariable.FromFile(path + bmFileName).WithType<ReportVariable>(x => x.SnapshotMode()).WithTarget(workspace).ExecuteAsync();",
                "\n    var ret = await workspace.Query<ReportVariable>().ToArrayAsync();",
                "\n    workspace.Reset(x => x.ResetCurrentPartitions().ResetType<ReportVariable>());",
                "\n    return ret;",
                "\n}"
            ]
        }
    ]
}