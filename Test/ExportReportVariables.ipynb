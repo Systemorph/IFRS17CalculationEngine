{
  "metadata": {
    "language_info": {
      "file_extension": ".cs",
      "mimetype": "text/plain",
      "name": "C#"
    },
    "authors": [],
    "kernelspec": {
      "display_name": "Formula Framework",
      "language": "C#",
      "name": "C#"
    },
    "toc-autonumbering": "True",
    "toc-showcode": "False"
  },
  "nbformat": 4,
  "nbformat_minor": 5,
  "cells": [
    {
      "id": "TG_x9dWCM0usAoORaJW0wA",
      "cell_type": "markdown",
      "source": [
        "<p style=\"font-weight:bold;\"> <span style=\"font-size: 36px\"> Report Variable Exporter </span> </p>"
      ],
      "metadata": {}
    },
    {
      "id": "Y25XYadyL0aU_Fzz5elNMQ",
      "cell_type": "markdown",
      "source": [
        "# Infrastructure and Configuration"
      ],
      "metadata": {}
    },
    {
      "id": "cfjgktx4p0-NVKhru0UtHg",
      "cell_type": "markdown",
      "source": [
        "## Initialize Workspace"
      ],
      "metadata": {}
    },
    {
      "id": "LsMvspLNjUSjzwV8dPfvYA",
      "cell_type": "code",
      "source": [
        "#!eval-notebook \"../Initialization/InitSystemorphToMemory\""
      ],
      "metadata": {},
      "execution_count": 1,
      "outputs": []
    },
    {
      "id": "1HOdfKtqgEyoCXzmZfFBXw",
      "cell_type": "code",
      "source": [
        "Workspace.InitializeFrom(DataSource);"
      ],
      "metadata": {},
      "execution_count": 1,
      "outputs": []
    },
    {
      "id": "_REnUbsBBkCMFwqQyGWg5Q",
      "cell_type": "markdown",
      "source": [
        "## Imports and Configurations"
      ],
      "metadata": {}
    },
    {
      "id": "txVLamtljU-DLHzCcz9PnQ",
      "cell_type": "code",
      "source": [
        "#!import \"ReportVariablesTestBase\""
      ],
      "metadata": {},
      "execution_count": 1,
      "outputs": []
    },
    {
      "id": "zzDardBj_kKdArEdeDsDNQ",
      "cell_type": "markdown",
      "source": [
        "## Storage"
      ],
      "metadata": {}
    },
    {
      "id": "37AwAO8feEOU3Vi9qBbP4Q",
      "cell_type": "code",
      "source": [
        "var reportStorage = new ReportStorage(Workspace, Report);",
        "\nawait reportStorage.InitializeReportIndependentCacheAsync();"
      ],
      "metadata": {},
      "execution_count": 1,
      "outputs": []
    },
    {
      "id": "iFTfudfp-EetHuW8yU6YCg",
      "cell_type": "markdown",
      "source": [
        "## Configurations"
      ],
      "metadata": {}
    },
    {
      "id": "2qOI8dJxZ0WPMJf28ue31g",
      "cell_type": "code",
      "source": [
        "var path = \"./Data/ReportVariableBenchmarks/\";"
      ],
      "metadata": {},
      "execution_count": 1,
      "outputs": []
    },
    {
      "id": "kXndb4zG_UO9VKIhnleT1A",
      "cell_type": "markdown",
      "source": [
        "# Defining Scope for the Reports and Tests"
      ],
      "metadata": {}
    },
    {
      "id": "ZC_lDkxtFEeOujJtQdnaUg",
      "cell_type": "markdown",
      "source": [
        "### Defining the Period and Reporting Node (...) for the Reports"
      ],
      "metadata": {}
    },
    {
      "id": "JIbgXj_2n0K5dfj-X2RJ5A",
      "cell_type": "code",
      "source": [
        "((int Year, int Month) Period, string ReportingNode, string Scenario, CurrencyType CurrencyType)[] exportScope = {",
        "\n    ((2020, 12), \"CH\", null, CurrencyType.Contractual),",
        "\n//    ((2020, 12), \"CH\", null, CurrencyType.Functional),",
        "\n//    ((2020, 12), \"CH\", null, CurrencyType.Group),",
        "\n    ",
        "\n    ((2021,  3), \"CH\", null, CurrencyType.Contractual),",
        "\n//    ((2021,  3), \"CH\", null, CurrencyType.Functional),",
        "\n//    ((2021,  3), \"CH\", null, CurrencyType.Group),",
        "\n};"
      ],
      "metadata": {},
      "execution_count": 1,
      "outputs": []
    },
    {
      "id": "OJE_pdhJBEKChAxri8wv9A",
      "cell_type": "markdown",
      "source": [
        "# Export"
      ],
      "metadata": {}
    },
    {
      "id": "hYzcfGQt4kGKYbKgl9vmqw",
      "cell_type": "code",
      "source": [
        "foreach(var args in exportScope){",
        "\n    var scopesData = await GetScopesDataAsync(args, reportStorage, Scopes);",
        "\n    var bmFileName = benchmarkFileNamePrefix + GetBenchmarkFileName(args) + \".csv\";",
        "\n    await Export.ToCsv(path + bmFileName).WithTable<ReportVariable>(tableConfig => tableConfig.WithSource(source => scopesData.AsQueryable())).ExecuteAsync();    ",
        "\n}"
      ],
      "metadata": {},
      "execution_count": 1,
      "outputs": []
    },
    {
      "id": "plmvGTRjsU60fGgbLWHM3g",
      "cell_type": "code",
      "source": [
        ""
      ],
      "metadata": {},
      "execution_count": 1,
      "outputs": []
    }
  ]
}