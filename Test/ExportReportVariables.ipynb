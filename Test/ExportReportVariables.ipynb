{
    "metadata": {
        "language_info": {
            "file_extension": ".cs",
            "mimetype": "text/plain",
            "name": "C#"
        },
        "authors": [],
        "kernelspec": {
            "display_name": "Formula Framework",
            "language": "C#",
            "name": "C#"
        },
        "toc-autonumbering": "True",
        "toc-showcode": "False"
    },
    "nbformat": 4,
    "nbformat_minor": 5,
    "cells": [
        {
            "cell_type": "markdown",
            "source": [
                "<p style=\"font-weight:bold;\"> <span style=\"font-size: 36px\"> Report Variable Exporter </span> </p>"
            ]
        },
        {
            "cell_type": "markdown",
            "source": [
                "# Infrastructure and Configuration"
            ]
        },
        {
            "cell_type": "markdown",
            "source": [
                "## Initialize Workspace"
            ]
        },
        {
            "cell_type": "code",
            "source": [
                "#!eval-notebook \"../Initialization/InitSystemorphToMemory\""
            ]
        },
        {
            "cell_type": "code",
            "source": [
                "Workspace.InitializeFrom(DataSource);"
            ]
        },
        {
            "cell_type": "markdown",
            "source": [
                "## Imports and Configurations"
            ]
        },
        {
            "cell_type": "code",
            "source": [
                "#!import \"ReportVariablesTestBase\""
            ]
        },
        {
            "cell_type": "markdown",
            "source": [
                "## Storage"
            ]
        },
        {
            "cell_type": "code",
            "source": [
                "var reportStorage = new ReportStorage(Workspace, Report);",
                "\nawait reportStorage.InitializeReportIndependentCacheAsync();"
            ]
        },
        {
            "cell_type": "markdown",
            "source": [
                "## Configurations"
            ]
        },
        {
            "cell_type": "code",
            "source": [
                "var path = \"./Data/ReportVariableBenchmarks/\";"
            ]
        },
        {
            "cell_type": "markdown",
            "source": [
                "# Defining Scope for the Reports and Tests"
            ]
        },
        {
            "cell_type": "markdown",
            "source": [
                "### Defining the Period and Reporting Node (...) for the Reports"
            ]
        },
        {
            "cell_type": "code",
            "source": [
                "((int Year, int Month) Period, string ReportingNode, string Scenario, CurrencyType CurrencyType)[] exportScope = {",
                "\n    ((2020, 12), \"CH\", null, CurrencyType.Contractual),",
                "\n//    ((2020, 12), \"CH\", null, CurrencyType.Functional),",
                "\n//    ((2020, 12), \"CH\", null, CurrencyType.Group),",
                "\n    ",
                "\n    ((2021,  3), \"CH\", null, CurrencyType.Contractual),",
                "\n//    ((2021,  3), \"CH\", null, CurrencyType.Functional),",
                "\n//    ((2021,  3), \"CH\", null, CurrencyType.Group),",
                "\n};"
            ]
        },
        {
            "cell_type": "markdown",
            "source": [
                "# Export"
            ]
        },
        {
            "cell_type": "code",
            "source": [
                "foreach(var args in exportScope){",
                "\n    var scopesData = await GetScopesDataAsync(args, reportStorage, Scopes);",
                "\n    var bmFileName = benchmarkFileNamePrefix + GetBenchmarkFileName(args) + \".csv\";",
                "\n    await Export.ToCsv(path + bmFileName).WithTable<ReportVariable>(tableConfig => tableConfig.WithSource(source => scopesData.AsQueryable())).ExecuteAsync();    ",
                "\n}"
            ]
        },
        {
            "cell_type": "code",
            "source": [
                ""
            ]
        }
    ]
}