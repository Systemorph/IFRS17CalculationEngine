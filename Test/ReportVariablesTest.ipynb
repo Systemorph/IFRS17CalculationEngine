{
  "metadata": {
    "language_info": {
      "file_extension": ".cs",
      "mimetype": "text/plain",
      "name": "C#"
    },
    "authors": [],
    "kernelspec": {
      "display_name": "Formula Framework",
      "language": "C#",
      "name": "C#"
    },
    "toc-autonumbering": "True",
    "toc-showcode": "False"
  },
  "nbformat": 4,
  "nbformat_minor": 5,
  "cells": [
    {
      "id": "LQUN8dM-FUOLRRCNCCfefg",
      "cell_type": "markdown",
      "source": [
        "<p style=\"font-weight:bold;\"> <span style=\"font-size: 36px\"> Test Reports </span> </p>"
      ],
      "metadata": {}
    },
    {
      "id": "FeOU5sOWxUCzzbh-gAXjpQ",
      "cell_type": "markdown",
      "source": [
        "# Infrastructure and Configuration"
      ],
      "metadata": {}
    },
    {
      "id": "eULpl26ryUODapYZKqPsAg",
      "cell_type": "markdown",
      "source": [
        "## Imports and Configurations"
      ],
      "metadata": {}
    },
    {
      "id": "v68OhAZHnkmBFLc4VS_Wsg",
      "cell_type": "code",
      "source": [
        "#r \"nuget:FluentAssertions\" "
      ],
      "metadata": {},
      "execution_count": 1,
      "outputs": []
    },
    {
      "id": "S5Jab8aqL0q_0yz2NvANCg",
      "cell_type": "code",
      "source": [
        "#!import \"ReportVariablesTestBase\""
      ],
      "metadata": {},
      "execution_count": 1,
      "outputs": []
    },
    {
      "id": "T5-epYkxdESEdRkeQzPZ-Q",
      "cell_type": "markdown",
      "source": [
        "## Initialize Workspace"
      ],
      "metadata": {}
    },
    {
      "id": "MjO2BvvAS0e4HFtBefzQiQ",
      "cell_type": "code",
      "source": [
        "#!eval-notebook \"../Initialization/InitSystemorphToMemory\""
      ],
      "metadata": {},
      "execution_count": 1,
      "outputs": []
    },
    {
      "id": "WYaoK2llRES_PV3X7rt7dw",
      "cell_type": "code",
      "source": [
        "Workspace.InitializeFrom(DataSource);"
      ],
      "metadata": {},
      "execution_count": 1,
      "outputs": []
    },
    {
      "id": "LPEQPX6GkU6oZRTDNeu9gg",
      "cell_type": "markdown",
      "source": [
        "## Storage"
      ],
      "metadata": {}
    },
    {
      "id": "iyzfnUDQkE-IFlJDJhToWg",
      "cell_type": "code",
      "source": [
        "var reportStorage = new ReportStorage(Workspace, Report);",
        "\nawait reportStorage.InitializeReportIndependentCacheAsync();"
      ],
      "metadata": {},
      "execution_count": 1,
      "outputs": []
    },
    {
      "id": "PFEVTLIKUE6H0KLbPCp60w",
      "cell_type": "markdown",
      "source": [
        "## Configurations"
      ],
      "metadata": {}
    },
    {
      "id": "0JhPAc6LX0Wa6M-BQfsrPw",
      "cell_type": "code",
      "source": [
        "var path = \"./Data/ReportVariableBenchmarks/\";"
      ],
      "metadata": {},
      "execution_count": 1,
      "outputs": []
    },
    {
      "id": "XutzHhUA00KlM1bajdW_IQ",
      "cell_type": "code",
      "source": [
        "((int Year, int Month) Period, string ReportingNode, string Scenario, CurrencyType CurrencyType) args;",
        "\nICollection<ReportVariable> scopesData;",
        "\nICollection<ReportVariable> benchmarkData;"
      ],
      "metadata": {},
      "execution_count": 1,
      "outputs": []
    },
    {
      "id": "WTg65cXwoUC2csjHSFzPfw",
      "cell_type": "markdown",
      "source": [
        "# Test Cases"
      ],
      "metadata": {}
    },
    {
      "id": "7rnaJC3nVkGkge79ibM8KA",
      "cell_type": "markdown",
      "source": [
        "## ((2020, 12), \"CH\", null, CurrencyType.Contractual)"
      ],
      "metadata": {}
    },
    {
      "id": "E34nYeT2ckKrYWP3mxgc2g",
      "cell_type": "code",
      "source": [
        "args = ((2020, 12), \"CH\", null, CurrencyType.Contractual);"
      ],
      "metadata": {},
      "execution_count": 1,
      "outputs": []
    },
    {
      "id": "uBf_ViTSUUe1CC5J5UfWHA",
      "cell_type": "code",
      "source": [
        "scopesData = await GetScopesDataAsync(args, reportStorage, Scopes);",
        "\nbenchmarkData = await GetBenchmarkDataAsync(args, path, Workspace, Import);"
      ],
      "metadata": {},
      "execution_count": 1,
      "outputs": []
    },
    {
      "id": "ZB0QEVnuHUWzFbp6xXyVdg",
      "cell_type": "code",
      "source": [
        "scopesData.Should().BeEquivalentTo(benchmarkData,",
        "\n                                   options => options",
        "\n                                   //.ComparingRecordsByValue()",
        "\n                                   .ComparingRecordsByMembers() ",
        "\n                                   //.ComparingByMembers<ReportVariable>()",
        "\n                                   //.ComparingByValue<ReportVariable>()",
        "\n                                   //.Excluding(o => o.Value)",
        "\n                                   .Using<double>(ctx => ctx.Subject.Should().BeApproximately(ctx.Expectation, BenchmarkPrecision))",
        "\n                                   .WhenTypeIs<double>()",
        "\n                                  );"
      ],
      "metadata": {},
      "execution_count": 1,
      "outputs": []
    },
    {
      "id": "g026nTeHy0a1vC2J5XM87g",
      "cell_type": "markdown",
      "source": [
        "## ((2021, 3), \"CH\", null, CurrencyType.Contractual)"
      ],
      "metadata": {}
    },
    {
      "id": "D7qV0NdVHE2Kdk6uavXIKw",
      "cell_type": "code",
      "source": [
        "args = ((2021, 3), \"CH\", null, CurrencyType.Contractual);"
      ],
      "metadata": {},
      "execution_count": 1,
      "outputs": []
    },
    {
      "id": "ZYBQRO7yZ02UzX2eYt7Vnw",
      "cell_type": "code",
      "source": [
        "scopesData = await GetScopesDataAsync(args, reportStorage, Scopes);",
        "\nbenchmarkData = await GetBenchmarkDataAsync(args, path, Workspace, Import);"
      ],
      "metadata": {},
      "execution_count": 1,
      "outputs": []
    },
    {
      "id": "age1izMU1EmhYYO6S_LhWw",
      "cell_type": "code",
      "source": [
        "scopesData.Should().BeEquivalentTo(benchmarkData,",
        "\n                                   options => options",
        "\n                                   //.ComparingRecordsByValue()",
        "\n                                   .ComparingRecordsByMembers() ",
        "\n                                   //.ComparingByMembers<ReportVariable>()",
        "\n                                   //.ComparingByValue<ReportVariable>()",
        "\n                                   //.Excluding(o => o.Value)",
        "\n                                   .Using<double>(ctx => ctx.Subject.Should().BeApproximately(ctx.Expectation, Precision))",
        "\n                                   .WhenTypeIs<double>()",
        "\n                                  );"
      ],
      "metadata": {},
      "execution_count": 1,
      "outputs": []
    },
    {
      "id": "dl7B6Z5qnEWoD8LTXhUAYw",
      "cell_type": "code",
      "source": [
        ""
      ],
      "metadata": {},
      "execution_count": 1,
      "outputs": []
    }
  ]
}