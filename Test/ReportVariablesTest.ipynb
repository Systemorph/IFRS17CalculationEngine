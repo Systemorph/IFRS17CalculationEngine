{
    "metadata": {
        "language_info": {
            "file_extension": ".cs",
            "mimetype": "text/plain",
            "name": "C#"
        },
        "authors": [],
        "kernelspec": {
            "display_name": "Formula Framework",
            "language": "C#",
            "name": "C#"
        },
        "toc-autonumbering": "True",
        "toc-showcode": "False"
    },
    "nbformat": 4,
    "nbformat_minor": 5,
    "cells": [
        {
            "cell_type": "markdown",
            "source": [
                "<p style=\"font-weight:bold;\"> <span style=\"font-size: 36px\"> Test Reports </span> </p>"
            ]
        },
        {
            "cell_type": "markdown",
            "source": [
                "# Infrastructure and Configuration"
            ]
        },
        {
            "cell_type": "markdown",
            "source": [
                "## Imports and Configurations"
            ]
        },
        {
            "cell_type": "code",
            "source": [
                "#r \"nuget:FluentAssertions\" "
            ]
        },
        {
            "cell_type": "code",
            "source": [
                "#!import \"ReportVariablesTestBase\""
            ]
        },
        {
            "cell_type": "markdown",
            "source": [
                "## Initialize Workspace"
            ]
        },
        {
            "cell_type": "code",
            "source": [
                "#!eval-notebook \"../Initialization/InitSystemorphToMemory\""
            ]
        },
        {
            "cell_type": "code",
            "source": [
                "Workspace.InitializeFrom(DataSource);"
            ]
        },
        {
            "cell_type": "markdown",
            "source": [
                "## Storage"
            ]
        },
        {
            "cell_type": "code",
            "source": [
                "var reportStorage = new ReportStorage(Workspace, Report);",
                "\nawait reportStorage.InitializeReportIndependentCacheAsync();"
            ]
        },
        {
            "cell_type": "markdown",
            "source": [
                "## Configurations"
            ]
        },
        {
            "cell_type": "code",
            "source": [
                "var path = \"./Data/ReportVariableBenchmarks/\";"
            ]
        },
        {
            "cell_type": "code",
            "source": [
                "((int Year, int Month) Period, string ReportingNode, string Scenario, CurrencyType CurrencyType) args;",
                "\nICollection<ReportVariable> scopesData;",
                "\nICollection<ReportVariable> benchmarkData;"
            ]
        },
        {
            "cell_type": "markdown",
            "source": [
                "# Test Cases"
            ]
        },
        {
            "cell_type": "markdown",
            "source": [
                "## ((2020, 12), \"CH\", null, CurrencyType.Contractual)"
            ]
        },
        {
            "cell_type": "code",
            "source": [
                "args = ((2020, 12), \"CH\", null, CurrencyType.Contractual);"
            ]
        },
        {
            "cell_type": "code",
            "source": [
                "scopesData = await GetScopesDataAsync(args, reportStorage, Scopes);",
                "\nbenchmarkData = await GetBenchmarkDataAsync(args, path, Workspace, Import);"
            ]
        },
        {
            "cell_type": "code",
            "source": [
                "scopesData.Should().BeEquivalentTo(benchmarkData,",
                "\n                                   options => options",
                "\n                                   //.ComparingRecordsByValue()",
                "\n                                   .ComparingRecordsByMembers() ",
                "\n                                   //.ComparingByMembers<ReportVariable>()",
                "\n                                   //.ComparingByValue<ReportVariable>()",
                "\n                                   //.Excluding(o => o.Value)",
                "\n                                   .Using<double>(ctx => ctx.Subject.Should().BeApproximately(ctx.Expectation, BenchmarkPrecision))",
                "\n                                   .WhenTypeIs<double>()",
                "\n                                  );"
            ]
        },
        {
            "cell_type": "markdown",
            "source": [
                "## ((2021, 3), \"CH\", null, CurrencyType.Contractual)"
            ]
        },
        {
            "cell_type": "code",
            "source": [
                "args = ((2021, 3), \"CH\", null, CurrencyType.Contractual);"
            ]
        },
        {
            "cell_type": "code",
            "source": [
                "scopesData = await GetScopesDataAsync(args, reportStorage, Scopes);",
                "\nbenchmarkData = await GetBenchmarkDataAsync(args, path, Workspace, Import);"
            ]
        },
        {
            "cell_type": "code",
            "source": [
                "scopesData.Should().BeEquivalentTo(benchmarkData,",
                "\n                                   options => options",
                "\n                                   //.ComparingRecordsByValue()",
                "\n                                   .ComparingRecordsByMembers() ",
                "\n                                   //.ComparingByMembers<ReportVariable>()",
                "\n                                   //.ComparingByValue<ReportVariable>()",
                "\n                                   //.Excluding(o => o.Value)",
                "\n                                   .Using<double>(ctx => ctx.Subject.Should().BeApproximately(ctx.Expectation, Precision))",
                "\n                                   .WhenTypeIs<double>()",
                "\n                                  );"
            ]
        },
        {
            "cell_type": "code",
            "source": [
                ""
            ]
        }
    ]
}