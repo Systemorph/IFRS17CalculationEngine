{
  "metadata": {
    "toc-showcode": "False",
    "language_info": {
      "file_extension": ".cs",
      "mimetype": "text/plain",
      "name": "C#"
    },
    "authors": [],
    "kernelspec": {
      "display_name": "Formula Framework",
      "language": "C#",
      "name": "C#"
    },
    "toc-autonumbering": "True"
  },
  "nbformat": 4,
  "nbformat_minor": 5,
  "cells": [
    {
      "id": "1fnxMsytI0SV8h59pqZxDQ",
      "cell_type": "markdown",
      "source": [
        "<p style=\"font-weight:bold;\"> <span style=\"font-size: 36px\"> Test Reports </span> </p>"
      ],
      "metadata": {}
    },
    {
      "id": "sY2AQGDoZUaMYR5JiSxcjQ",
      "cell_type": "code",
      "source": [
        "#!eval-notebook \"../Initialization/InitSystemorphToMemory\""
      ],
      "metadata": {},
      "execution_count": 1,
      "outputs": []
    },
    {
      "id": "-xiQumLe30mD77Pvhijxtw",
      "cell_type": "markdown",
      "source": [
        "# BenchMarks"
      ],
      "metadata": {}
    },
    {
      "id": "jOHCgtzBxke3Wk8c8QC1Ug",
      "cell_type": "code",
      "source": [
        "var pathToBm = \"./Data/ReportBenchmarks/\";"
      ],
      "metadata": {},
      "execution_count": 1,
      "outputs": []
    },
    {
      "id": "LvvPQ9tBmU-4pDW_tCG-1g",
      "cell_type": "code",
      "source": [
        "var argsArray = new ImportArgs[]{",
        "\n    new ImportArgs (\"CH\", 2020, 12, Periodicity.Quarterly, null, null),",
        "\n    new ImportArgs (\"CH\", 2021, 3, Periodicity.Quarterly, null, null)",
        "\n    };"
      ],
      "metadata": {},
      "execution_count": 1,
      "outputs": []
    },
    {
      "id": "CnPCEWt_aUe8ts0COdm3ZA",
      "cell_type": "code",
      "source": [
        "public async Task ExportBenchmarks(ImportArgs args)",
        "\n{",
        "\n    await DataSource.Partition.SetAsync<PartitionByReportingNodeAndPeriod>(new {ReportingNode = args.ReportingNode, Year= args.Year, Month = args.Month, Scenario = args.Scenario});",
        "\n    var computedVariables = (await DataSource.Query<IfrsVariable>().ToArrayAsync()).ToDictionaryGrouped(x => x.EstimateType, x => x.ToArray());",
        "\n",
        "\n    foreach (var estimateType in computedVariables.Keys)",
        "\n    {",
        "\n        await Export.ToCsv(pathToBm+\"BM_\"+args.ReportingNode+\"_\"+args.Year.ToString()+\"_\"+args.Month.ToString()+\"_\"+estimateType)",
        "\n                                    .WithTable<ImportArgs>(tableConfig => tableConfig",
        "\n                                                                    .AtBeginning()",
        "\n                                                                    .WithName(Main)",
        "\n                                                                    .WithSource(source => args.RepeatOnce().AsQueryable())",
        "\n                                                                    .WithColumn(x => x.Periodicity, x => x.Delete())",
        "\n                                                                    .WithColumn(x => x.ImportFormat, x => x.Delete())",
        "\n                                                    )",
        "\n                                    .WithTable<IfrsVariable>(tableConfig => tableConfig",
        "\n                                                                  .WithSource(source => computedVariables[estimateType].AsQueryable())",
        "\n                                                                  .WithName(estimateType)",
        "\n                                                                  .WithColumn(x => x.Partition, x => x.Delete())",
        "\n                                                                  .WithColumn(x => x.Id, x => x.Delete())",
        "\n                                                                 )",
        "\n                                    .ExecuteAsync();",
        "\n    }",
        "\n}"
      ],
      "metadata": {},
      "execution_count": 1,
      "outputs": []
    },
    {
      "id": "aa_A6kszrU67Ghv0nf-m_g",
      "cell_type": "code",
      "source": [
        "foreach (var args in argsArray)",
        "\n        await ExportBenchmarks(args);"
      ],
      "metadata": {},
      "execution_count": 1,
      "outputs": []
    },
    {
      "id": "snRElFsmF0OjFLQvRzQNhA",
      "cell_type": "code",
      "source": [
        ""
      ],
      "metadata": {},
      "execution_count": 1,
      "outputs": []
    }
  ]
}