{
    "metadata": {
        "authors": [],
        "kernelspec": {
            "display_name": "Formula Framework",
            "language": "C#",
            "name": "C#"
        },
        "language_info": {
            "file_extension": ".cs",
            "mimetype": "text/plain",
            "name": "C#"
        },
        "toc-autonumbering": "True",
        "toc-showcode": "False"
    },
    "nbformat": 4,
    "nbformat_minor": 5,
    "cells": [
        {
            "cell_type": "markdown",
            "source": [
                "<p style=\"font-weight:bold;\"> <span style=\"font-size: 36px\"> Test Reports </span> </p>"
            ]
        },
        {
            "cell_type": "code",
            "source": [
                "#!eval-notebook \"../Initialization/InitSystemorphToMemory\""
            ]
        },
        {
            "cell_type": "markdown",
            "source": [
                "# BenchMarks"
            ]
        },
        {
            "cell_type": "code",
            "source": [
                "var pathToBm = \"./Data/ReportBenchmarks/\";"
            ]
        },
        {
            "cell_type": "code",
            "source": [
                "var argsArray = new ImportArgs[]{",
                "\n    new ImportArgs (\"CH\", 2020, 12, Periodicity.Quarterly, null, null),",
                "\n    new ImportArgs (\"CH\", 2021, 3, Periodicity.Quarterly, null, null)",
                "\n    };"
            ]
        },
        {
            "cell_type": "code",
            "source": [
                "public async Task ExportBenchmarks(ImportArgs args)",
                "\n{",
                "\n    await DataSource.Partition.SetAsync<PartitionByReportingNodeAndPeriod>(new {ReportingNode = args.ReportingNode, Year= args.Year, Month = args.Month, Scenario = args.Scenario});",
                "\n    var computedVariables = (await DataSource.Query<IfrsVariable>().ToArrayAsync()).ToDictionaryGrouped(x => x.EstimateType, x => x.ToArray());",
                "\n",
                "\n    foreach (var estimateType in computedVariables.Keys)",
                "\n    {",
                "\n        await Export.ToCsv(pathToBm+\"BM_\"+args.ReportingNode+\"_\"+args.Year.ToString()+\"_\"+args.Month.ToString()+\"_\"+estimateType)",
                "\n                                    .WithTable<ImportArgs>(tableConfig => tableConfig",
                "\n                                                                    .AtBeginning()",
                "\n                                                                    .WithName(Main)",
                "\n                                                                    .WithSource(source => args.RepeatOnce().AsQueryable())",
                "\n                                                                    .WithColumn(x => x.Periodicity, x => x.Delete())",
                "\n                                                                    .WithColumn(x => x.ImportFormat, x => x.Delete())",
                "\n                                                    )",
                "\n                                    .WithTable<IfrsVariable>(tableConfig => tableConfig",
                "\n                                                                  .WithSource(source => computedVariables[estimateType].AsQueryable())",
                "\n                                                                  .WithName(estimateType)",
                "\n                                                                  .WithColumn(x => x.Partition, x => x.Delete())",
                "\n                                                                  .WithColumn(x => x.Id, x => x.Delete())",
                "\n                                                                 )",
                "\n                                    .ExecuteAsync();",
                "\n    }",
                "\n}"
            ]
        },
        {
            "cell_type": "code",
            "source": [
                "foreach (var args in argsArray)",
                "\n        await ExportBenchmarks(args);"
            ]
        },
        {
            "cell_type": "code",
            "source": [
                ""
            ]
        }
    ]
}