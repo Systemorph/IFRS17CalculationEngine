{
  "metadata": {
    "authors": [],
    "kernelspec": {
      "display_name": "Formula Framework",
      "language": "C#",
      "name": "C#"
    },
    "language_info": {
      "file_extension": ".cs",
      "mimetype": "text/plain",
      "name": "C#"
    },
    "toc-showcode": "False",
    "toc-autonumbering": "True"
  },
  "nbformat": 4,
  "nbformat_minor": 5,
  "cells": [
    {
      "id": "g8tjy1GbI0uoEDhZW9OubA",
      "cell_type": "markdown",
      "source": [
        "<p style=\"font-weight:bold;\"> <span style=\"font-size: 36px\"> Technical Margin Specifications </span> </p>"
      ],
      "metadata": {}
    },
    {
      "id": "x6HTq-dyx0CT0axGCN5uCw",
      "cell_type": "markdown",
      "source": [
        "The aim of this notebook is to document the Technical Margin (TM) and its allocation to the Contractual Service Margin (CSM), Loss Component (LC), or Loss Recovery Component (LoReCo). The process is pictorially explained in the following flowchart. ",
        "\n",
        "\n<a name=\"TOC\"></a>",
        "\n<center><img src=\"../Images/SpecificationsCSM.PNG\" width=\"45%\" style=\"float:center;\">",
        "\n",
        "\nThroughout this notebook we adopt the following variable notation:  we use the words *computed* vs. *expected* to differentiate the results provided by the application vs. this test notebook, respectively."
      ],
      "metadata": {}
    },
    {
      "id": "LhxZv_5tLEW3BCU74MttbA",
      "cell_type": "markdown",
      "source": [
        "[Setup IFRS17 Calculation Engine](../Import/ImportScopeCalculation):"
      ],
      "metadata": {}
    },
    {
      "id": "yPpeVsREbUy--NQi9jbNpw",
      "cell_type": "code",
      "source": [
        "#!import \"SpecificationsSetup\""
      ],
      "metadata": {},
      "execution_count": 1,
      "outputs": []
    },
    {
      "id": "U3AjnYiM5kuSmp75cguUSA",
      "cell_type": "markdown",
      "source": [
        "---"
      ],
      "metadata": {}
    },
    {
      "id": "ECkaAKQIMEu5hqUdpeBq8Q",
      "cell_type": "markdown",
      "source": [
        "# Import Data"
      ],
      "metadata": {}
    },
    {
      "id": "SEMqfkxNU0e_-5mrR4lZTw",
      "cell_type": "markdown",
      "source": [
        "<a id='year-and-period'></a>",
        "\n## Current Period"
      ],
      "metadata": {}
    },
    {
      "id": "IvTb1XGZ1kuJ-VvXkuWNJw",
      "cell_type": "markdown",
      "source": [
        "Please select the target period (i.e. year and month) and Reporting Node based on the imported data:"
      ],
      "metadata": {}
    },
    {
      "id": "KdFdFW3OhUy3KzhPTiarkg",
      "cell_type": "code",
      "source": [
        "var year          = 2021   ;",
        "\nvar month         = 3      ;",
        "\nvar reportingNode = \"CH\"   ;",
        "\nvar economicBasis = \"L\"    ;"
      ],
      "metadata": {},
      "execution_count": 1,
      "outputs": []
    },
    {
      "id": "UnwIzmJO6EeRXQWBbmoK1g",
      "cell_type": "markdown",
      "source": [
        "Import the Dimensions, Parameters, Nominal Cashflows, and Actuals from the corresponding csv files in <code>Initialization/Systemorph/</code>"
      ],
      "metadata": {}
    },
    {
      "id": "xPBxX-MYjEirprXfdCjqHw",
      "cell_type": "code",
      "source": [
        "#!eval-notebook \"../Initialization/InitSystemorphToMemory\""
      ],
      "metadata": {},
      "execution_count": 1,
      "outputs": []
    },
    {
      "id": "8lAk_SdyNEmrDVylgM3ueg",
      "cell_type": "markdown",
      "source": [
        "Initialization of the Test Suite: the data loaded from csv files are ready to be used by the Scopes for the calculations"
      ],
      "metadata": {}
    },
    {
      "id": "LZ2n8pzel0OnpsJ86gHLDw",
      "cell_type": "code",
      "source": [
        "var Test = await StartCalculatorAsync(reportingNode, year, month, economicBasis, Periodicity.Quarterly, ImportFormats.Cashflow);"
      ],
      "metadata": {},
      "execution_count": 1,
      "outputs": []
    },
    {
      "id": "YRjwR8fuJkK9bvH84fq8dA",
      "cell_type": "markdown",
      "source": [
        "<a id='view-loaded-data-nodes'></a>",
        "\n## View loaded Data Nodes"
      ],
      "metadata": {}
    },
    {
      "id": "YEMgdgKuwEe_bIe-xkd09g",
      "cell_type": "markdown",
      "source": [
        "The imported active Data Nodes from <code>Initialization/Systemorph/DataNodes.csv</code> are "
      ],
      "metadata": {}
    },
    {
      "id": "uS9vfK-rBUiZsfCYiJzIpA",
      "cell_type": "code",
      "source": [
        "Test.GetStorage().DataNodeDataBySystemName"
      ],
      "metadata": {},
      "execution_count": 1,
      "outputs": []
    },
    {
      "id": "LvO_qjZPmEOI6YxzgwM4vg",
      "cell_type": "markdown",
      "source": [
        "whereas the Data Nodes of your imported Cashflows are"
      ],
      "metadata": {}
    },
    {
      "id": "jpqlfwEBkU20upkPfktIQA",
      "cell_type": "code",
      "source": [
        "Test.GetStorage().DataNodesByImportScope[ImportScope.Primary]"
      ],
      "metadata": {},
      "execution_count": 1,
      "outputs": []
    },
    {
      "id": "Km-AMREk2ECK0lggstN9yA",
      "cell_type": "markdown",
      "source": [
        "Please select here below the target Data Node for executing the tests below:"
      ],
      "metadata": {}
    },
    {
      "id": "KeB4MbA30U-GTokbWzsbNw",
      "cell_type": "code",
      "source": [
        "var dataNode = \"DT1.1\";"
      ],
      "metadata": {},
      "execution_count": 1,
      "outputs": []
    },
    {
      "id": "yjMtNI_UpEOFhOhlYPIjdg",
      "cell_type": "markdown",
      "source": [
        "## View list of Identities"
      ],
      "metadata": {}
    },
    {
      "id": "2suX-6pDYUu9ZRoKpbzwtg",
      "cell_type": "markdown",
      "source": [
        "Based on the Cashflows imported, the list of all possible identities, i.e. combinations of valid Data Nodes, Aoc steps, and Novelties, is contructed and reported here below:"
      ],
      "metadata": {}
    },
    {
      "id": "uXw2nYCpZ0i16yt57O-hZw",
      "cell_type": "code",
      "source": [
        "var allIdentities = Test.GetScopes<GetIdentities>(Test.GetStorage().DataNodesByImportScope[ImportScope.Primary]).SelectMany(s => s.Identities).ToArray();"
      ],
      "metadata": {},
      "execution_count": 1,
      "outputs": []
    },
    {
      "id": "PpgNb9iz3kaMC2BeZoDKXQ",
      "cell_type": "code",
      "source": [
        "allIdentities"
      ],
      "metadata": {},
      "execution_count": 1,
      "outputs": []
    },
    {
      "id": "FX3f8E0cn0iRfjDMfGMWMw",
      "cell_type": "markdown",
      "source": [
        "<br/><br/>",
        "\n<a id='present-value'></a>",
        "\n# Present Value"
      ],
      "metadata": {}
    },
    {
      "id": "bjt2kV7OaU-pgEwV4_f7cw",
      "cell_type": "markdown",
      "source": [
        "Projected Present Values (PPVs) are calculated for each Amount Type (AT) either with the *locked-in* (L) and with the *current* (C) Yield Curves. While the former is the latest available as per end of the DataNode's inception year, the latter is the latest available as per the current period. ",
        "\nPPVs for both Economic Basis L and C have been defined [here](../Import/ImportScopeCalculation#present-value) and tested [here](SpecificationsImportCashflows#present-values). ",
        "\n",
        "\nAccording to the BBA methodology, the CSM calculation uses the PV with locked-in Yield Curve simply defined as",
        "\n",
        "\n$$",
        "\n\\text{PV Locked}(\\text{AoC}, \\text{AT}) = \\text{PPV}(\\text{AoC}, \\text{AT}) \\big|_{\\substack{ \\text{Calculation Type = BE} \\\\ \\text{Economic Base = L} } }",
        "\n$$"
      ],
      "metadata": {}
    },
    {
      "id": "z3MoqQ9eQUS09tb1mXkFyA",
      "cell_type": "code",
      "source": [
        "var pvsLocked = allIdentities.SelectMany(id => Test.GetScope<PvLocked>(id).PresentValues",
        "\n                                                   .Where(x => Math.Abs(x.Value) >= Precision)",
        "\n                                                   .Select(x => x.FromPvToIfrsVariable())).ToArray();"
      ],
      "metadata": {},
      "execution_count": 1,
      "outputs": []
    },
    {
      "id": "t7tRCeCG10KKMVZzfO_pPg",
      "cell_type": "markdown",
      "source": [
        "Below a view of the computed locked-in PV "
      ],
      "metadata": {}
    },
    {
      "id": "OIen-nXHD0SiauOT9N-_Bg",
      "cell_type": "code",
      "source": [
        "Report.ForObjects(pvsLocked)",
        "\n      .WithQuerySource(Workspace)",
        "\n      .GroupColumnsBy(x => x.EconomicBasis)",
        "\n      .GroupColumnsBy(x => x.AmountType)",
        "\n      .GroupRowsBy(x => x.Novelty)",
        "\n      .GroupRowsBy(x => x.AocType)",
        "\n      .WithGridOptionsForIfrsVariable()",
        "\n      .ToReport()"
      ],
      "metadata": {},
      "execution_count": 1,
      "outputs": []
    },
    {
      "id": "muPGuU2J_0C0ajt9hkta5A",
      "cell_type": "markdown",
      "source": [
        "Aggregated values are also available as the sum over all [Amount Types](../DataModel/DataStructure#amount-type):",
        "\n",
        "\n$$",
        "\n\\text{PV Locked Value}(\\text{AoC}) = \\sum_{\\text{AT}} \\text{PV Locked}(\\text{AoC}, \\text{AT})",
        "\n$$"
      ],
      "metadata": {}
    },
    {
      "id": "kvGGn3Q4rUex05dzYM9qdg",
      "cell_type": "markdown",
      "source": [
        "Here below an example"
      ],
      "metadata": {}
    },
    {
      "id": "9_XxzJoITE-6372AHPhE3g",
      "cell_type": "code",
      "source": [
        "var id_BoP_I = Test.GetIdentity(dataNode, \"BOP\", \"I\");"
      ],
      "metadata": {},
      "execution_count": 1,
      "outputs": []
    },
    {
      "id": "R9nUtmCCQECPK-w_Mp_yVw",
      "cell_type": "code",
      "source": [
        "id_BoP_I"
      ],
      "metadata": {},
      "execution_count": 1,
      "outputs": []
    },
    {
      "id": "du2mo7J8002QJbtRt584Mw",
      "cell_type": "code",
      "source": [
        "Test.GetScope<PvLocked>( id_BoP_I ).Value"
      ],
      "metadata": {},
      "execution_count": 1,
      "outputs": []
    },
    {
      "id": "_OxvDZWrPka_CFvaMAisxg",
      "cell_type": "markdown",
      "source": [
        "<br/><br/>",
        "\n<a id='risk-adjustment'></a>",
        "\n# Risk Adjustment"
      ],
      "metadata": {}
    },
    {
      "id": "376Njyw59EGhWrieNRi8jQ",
      "cell_type": "markdown",
      "source": [
        "The CSM calculation also uses locked-in Risk Adjustment (RA Locked) which is retrieved from the corresponding Present Value with [Calculation Type](../DataModel/DataStructure#calculation-type) being RA defined [here](../Import/ImportScopeCalculation#present-value) and tested [here](SpecificationsImportCashflows#present-values). ",
        "\n",
        "\nRisk Adjustment values can be written as",
        "\n",
        "\n$$",
        "\n\\text{RA Locked Value}(\\text{AoC}) = \\text{PV}(\\text{AoC})|_{\\substack{ \\text{Calculation Type = RA} \\\\ \\text{Economic Base = L} }}",
        "\n$$",
        "\n",
        "\nwhere the imported Cashflows for the RA Calculation Type are already aggregated over all [Amount Types](../DataModel/DataStructure#amount-type)."
      ],
      "metadata": {}
    },
    {
      "id": "3siM-DZsEEiBkk5Y3FRKFg",
      "cell_type": "markdown",
      "source": [
        "Here below an example"
      ],
      "metadata": {}
    },
    {
      "id": "Xl2yuS6a60C9Quny8zQ-5A",
      "cell_type": "code",
      "source": [
        "var id_BoP_I = Test.GetIdentity(dataNode, \"BOP\", \"I\");"
      ],
      "metadata": {},
      "execution_count": 1,
      "outputs": []
    },
    {
      "id": "LSaHrUxyq0i4azSGh961Jg",
      "cell_type": "code",
      "source": [
        "id_BoP_I"
      ],
      "metadata": {},
      "execution_count": 1,
      "outputs": []
    },
    {
      "id": "RuOYh7rjz0G8Mc61JSv5Yg",
      "cell_type": "code",
      "source": [
        "Test.GetScope<RaLocked>( id_BoP_I ).Value"
      ],
      "metadata": {},
      "execution_count": 1,
      "outputs": []
    },
    {
      "id": "qAzxMRN-SkuuSQuz6UYYYQ",
      "cell_type": "markdown",
      "source": [
        "The RA Locked per Data Node imported are"
      ],
      "metadata": {}
    },
    {
      "id": "I6YzC1vPqUKXP9iGgM9VCw",
      "cell_type": "code",
      "source": [
        "var rasLocked = allIdentities.SelectMany(id => Test.GetScope<RaLocked>(id).PresentValues",
        "\n                                                   .Where(x => Math.Abs(x.Value) >= Precision)",
        "\n                                                   .Select(x => x.FromPvToIfrsVariable())).ToArray();"
      ],
      "metadata": {},
      "execution_count": 1,
      "outputs": []
    },
    {
      "id": "iYZeYBNeU0C41iCvscI1CA",
      "cell_type": "code",
      "source": [
        "Report.ForObjects<IfrsVariable>(rasLocked)",
        "\n      .WithQuerySource(Workspace)",
        "\n      .GroupColumnsBy(x => x.EconomicBasis)",
        "\n      .GroupColumnsBy(x => x.DataNode)",
        "\n      .GroupRowsBy(x => x.Novelty)",
        "\n      .GroupRowsBy(x => x.AocType)",
        "\n      .WithGridOptionsForIfrsVariable()",
        "\n      .ToReport()"
      ],
      "metadata": {},
      "execution_count": 1,
      "outputs": []
    },
    {
      "id": "fuyUZe63NEiB09VJA2Na4A",
      "cell_type": "markdown",
      "source": [
        "<br/><br/>",
        "\n<a name='technical-margins'></a>",
        "\n# Technical Margin"
      ],
      "metadata": {}
    },
    {
      "id": "2VStZINSF0KMaeav25AQSQ",
      "cell_type": "markdown",
      "source": [
        "For the computation of the CSM or LC components for each AoC step, it is convenient to introduce the notion of technical margin (TM).",
        "\n",
        "\nFirstly, it is useful to define the so-called Aggregated Technical Margin (ATM)",
        "\n",
        "\n$$",
        "\n\\text{ATM} (\\text{AoC}) = \\sum_{s\\in\\text{previous AoC steps}} \\text{TM}(s) ~,",
        "\n$$",
        "\n",
        "\nand the Interest Accretion Factor (IAF) ",
        "\n",
        "\n$$",
        "\n\\text{IAF} = \\prod_{i=1}^{\\text{TS}} (1 + \\text{YC}_i) - 1 ~.",
        "\n$$",
        "\n",
        "\nThe TM is defined as",
        "\n",
        "\n$$",
        "\n\\text{TM}(\\text{AoC}) = \\left\\{",
        "\n\\begin{array}{rl}",
        "\n\\text{TM}(\\rm{EOP}) \\text{ of the previous period}                           ~ & \\text{if }s = \\text{BOP and Novelty is In-Force}. \\\\",
        "\n0                                                                            ~ & \\text{if }s = \\text{CF}. \\\\",
        "\n\\text{IAF} \\cdot ~ \\text{ATM}(\\text{AoC})                                    ~ & \\text{if }s = \\text{IA}. \\\\",
        "\n\\rm{Premiums} + \\text{Attributable Expense and Commissions} + \\text{Investment Claims}                    ~ & \\text{if }s = \\text{EA}. \\\\",
        "\n-\\text{AMF} \\cdot ~ \\text{ATM}(\\text{AoC})                                   ~ & \\text{if }s = \\text{AM}. \\\\",
        "\n\\text{PV Locked Value}(\\text{AoC}) ",
        "\n\\bigg|_{\\substack{\\text{Non Attributable} \\\\ ",
        "\n                  \\text{Amount Types} \\\\ ",
        "\n                  \\text{excluded}}} ",
        "\n+ \\text{RA Locked Value}(\\text{AoC})                                         ~ & \\text{otherwise} ",
        "\n\\end{array}",
        "\n\\right.",
        "\n$$",
        "\n",
        "\nwhere AMF is the Amortization Factor that is defined [here](../Import/ImportScopeCalculation#amortization-factor) and tested [here](SpecificationsImportCashflows#amortization-factor), with YC being the [Yield Curve](#yield-curves) and TS is the Time-Step, ",
        "\nand the Premiums, Attributable Expense and Commissions and Investment Claims terms are given by:",
        "\n",
        "\n$$",
        "\n\\begin{array}{lcl}",
        "\n\\rm{Premiums} &=& \\text{Premium Allocation Factor} \\cdot \\sum_{\\text{Amount Type}\\in\\{\\text{PR and its children}\\}}",
        "\n                  \\big(\\text{PV}_{\\text{Novelty = I}} + \\text{PV}_{\\text{Novelty = N}} \\big) - ",
        "\n                  \\big(\\text{Actual}_{\\text{Novelty=C}} + \\text{Advance Actual}_{\\text{Novelty=C}} + \\text{Overdue Actual}_{\\text{Novelty=C}} \\big) ~, \\\\",
        "\n\\text{Attributable Expense and Commissions} &=& \\sum_{\\text{Amount Type}\\in\\{\\rm{ACA}, \\rm{AEA}\\}}",
        "\n                   \\big(\\text{PV}_{\\text{Novelty = I}} + \\text{PV}_{\\text{Novelty = N}} \\big) - \\text{Actual}_{\\text{Novelty=C}} ~, \\\\",
        "\n\\text{Investment Claims } &=& \\sum_{\\text{Amount Type}\\in\\{\\text{ICO and its children}\\}}",
        "\n                              \\big(\\text{PV}_{\\text{Novelty = I}} + \\text{PV}_{\\text{Novelty = N}} \\big) - ",
        "\n                              \\big( \\text{Actual}_{\\text{Novelty=C}} + \\text{Advance Actual}_{\\text{Novelty=C}} + \\text{Overdue Actual}_{\\text{Novelty=C}} \\big) ~.",
        "\n\\end{array}",
        "\n$$",
        "\n",
        "\nThe AoC Type **CF** is implicit for all formulas, PV is the [present value](#present-value) with Calculation Type **BE**, and Actuals have Estimate Types **A**, **OA** and **AA** (see details [here](../Import/ImportScopeCalculation#actual-base))."
      ],
      "metadata": {}
    },
    {
      "id": "dHH8INfYdk6Y3NzMtPgJbA",
      "cell_type": "markdown",
      "source": [
        "## Beginning of Period"
      ],
      "metadata": {}
    },
    {
      "id": "X49_KQk8ek2l9u2XuCXQPw",
      "cell_type": "code",
      "source": [
        "var id_BoP_I = Test.GetIdentity(dataNode, \"BOP\", \"I\");"
      ],
      "metadata": {},
      "execution_count": 1,
      "outputs": []
    },
    {
      "id": "-MSegalanEGCyd9Lmbhk2g",
      "cell_type": "code",
      "source": [
        "id_BoP_I"
      ],
      "metadata": {},
      "execution_count": 1,
      "outputs": []
    },
    {
      "id": "GauKnHaTZk2qPtNwgM0kgQ",
      "cell_type": "code",
      "source": [
        "var computedTM_BoP_I = Test.GetScope<TechnicalMargin>(id_BoP_I);"
      ],
      "metadata": {},
      "execution_count": 1,
      "outputs": []
    },
    {
      "id": "sDV3uzZnZE-xy3w3XNF0xA",
      "cell_type": "code",
      "source": [
        "computedTM_BoP_I.Value"
      ],
      "metadata": {},
      "execution_count": 1,
      "outputs": []
    },
    {
      "id": "3rv0eEV93Euw7OXSDpqR0w",
      "cell_type": "markdown",
      "source": [
        "The TM for BOP is equal to the TM for EOP of the previous period, that is, the sum of Csm, Loss Component and LoReCo as of at the end of last period (see the corresponding [formula](#technical-margins)). ",
        "\n",
        "\nThe corresponding **IFRS Variables** can be loaded directly from the *Storage*"
      ],
      "metadata": {}
    },
    {
      "id": "AOE-Piw6OUGsQ3Bl1AuGbw",
      "cell_type": "code",
      "source": [
        "var valueCsm = Test.GetStorage().GetValue(id_BoP_I, null, EstimateTypes.C, null);",
        "\nvalueCsm"
      ],
      "metadata": {},
      "execution_count": 1,
      "outputs": []
    },
    {
      "id": "YdYcIzhRG0CLSLEWQblsEA",
      "cell_type": "code",
      "source": [
        "var valueLc = Test.GetStorage().GetValue(id_BoP_I, null, EstimateTypes.L, null);",
        "\nvalueLc"
      ],
      "metadata": {},
      "execution_count": 1,
      "outputs": []
    },
    {
      "id": "0Onxmh3pPU6pxWFOSJt6DA",
      "cell_type": "code",
      "source": [
        "var valueLr = Test.GetStorage().GetValue(id_BoP_I, null, EstimateTypes.LR, null);",
        "\nvalueLr"
      ],
      "metadata": {},
      "execution_count": 1,
      "outputs": []
    },
    {
      "id": "0x0FA_cjZEWhsLSbrQq40g",
      "cell_type": "code",
      "source": [
        "var expectedTM_BoP_I = -valueCsm + valueLc + valueLr;"
      ],
      "metadata": {},
      "execution_count": 1,
      "outputs": []
    },
    {
      "id": "SJSNzLoPJUiPGHBvEduNeQ",
      "cell_type": "code",
      "source": [
        "expectedTM_BoP_I"
      ],
      "metadata": {},
      "execution_count": 1,
      "outputs": []
    },
    {
      "id": "8VnVUHSzbE-KpM6n4ONuQg",
      "cell_type": "code",
      "source": [
        "computedTM_BoP_I.Value.Should().BeApproximately( expectedTM_BoP_I, Precision );"
      ],
      "metadata": {},
      "execution_count": 1,
      "outputs": []
    },
    {
      "id": "xIQdOuzLvESRKcPIgcUsPQ",
      "cell_type": "markdown",
      "source": [
        "<a id='model-corrections'></a>",
        "\n## Model Corrections"
      ],
      "metadata": {}
    },
    {
      "id": "fNltK5PaA0Kw7wchmSNY_w",
      "cell_type": "code",
      "source": [
        "var id_MC_I = Test.GetIdentity(dataNode, \"MC\", \"I\");"
      ],
      "metadata": {},
      "execution_count": 1,
      "outputs": []
    },
    {
      "id": "RRBZvtJHhUikmA_j6oodwg",
      "cell_type": "code",
      "source": [
        "id_MC_I"
      ],
      "metadata": {},
      "execution_count": 1,
      "outputs": []
    },
    {
      "id": "AOGe1hxqB0auL-m48n4LEQ",
      "cell_type": "code",
      "source": [
        "var computedTM_MC_I = Test.GetScope<TechnicalMargin>(id_MC_I);"
      ],
      "metadata": {},
      "execution_count": 1,
      "outputs": []
    },
    {
      "id": "glwYLenix0mbVAzz2QauDg",
      "cell_type": "code",
      "source": [
        "computedTM_MC_I.Value"
      ],
      "metadata": {},
      "execution_count": 1,
      "outputs": []
    },
    {
      "id": "NmTxRKBaJUSBln-u_LqjRA",
      "cell_type": "markdown",
      "source": [
        "The TM for MC is given by the default [formula](#technical-margins), i.e. it is equal to the sum of PV and RA Locked, where the former does not encompass the *NonAttributable* Amount Types"
      ],
      "metadata": {}
    },
    {
      "id": "cZmPuuHgGEiu5xbMXe88xQ",
      "cell_type": "code",
      "source": [
        "var expectedTM_MC_I = Test.GetScope<PvLocked>(id_MC_I).Value + Test.GetScope<RaLocked>( id_MC_I ).Value;"
      ],
      "metadata": {},
      "execution_count": 1,
      "outputs": []
    },
    {
      "id": "4L9o1tHqWki3eAAa7xkajA",
      "cell_type": "code",
      "source": [
        "expectedTM_MC_I"
      ],
      "metadata": {},
      "execution_count": 1,
      "outputs": []
    },
    {
      "id": "98q4ZQeegkuz71N9nfEHJg",
      "cell_type": "code",
      "source": [
        "computedTM_MC_I.Value.Should().BeApproximately( expectedTM_MC_I, Precision );"
      ],
      "metadata": {},
      "execution_count": 1,
      "outputs": []
    },
    {
      "id": "B5PYDN0vMkqQxtE9Hyw25A",
      "cell_type": "markdown",
      "source": [
        "## Cash Flow"
      ],
      "metadata": {}
    },
    {
      "id": "499xH8CoX0GNNMn3D9roXg",
      "cell_type": "code",
      "source": [
        "var id_CF_I = Test.GetIdentity(dataNode, \"CF\", \"I\");"
      ],
      "metadata": {},
      "execution_count": 1,
      "outputs": []
    },
    {
      "id": "D0CbUxy5UUKrMhBCxYOZgg",
      "cell_type": "code",
      "source": [
        "id_CF_I"
      ],
      "metadata": {},
      "execution_count": 1,
      "outputs": []
    },
    {
      "id": "5Wp3bWCQyUGxZdn4_VfQ6Q",
      "cell_type": "code",
      "source": [
        "var computedTM_CF_I = Test.GetScope<TechnicalMargin>(id_CF_I);"
      ],
      "metadata": {},
      "execution_count": 1,
      "outputs": []
    },
    {
      "id": "nd6a0CNEH0S7s7gB7otViA",
      "cell_type": "code",
      "source": [
        "computedTM_CF_I.Value"
      ],
      "metadata": {},
      "execution_count": 1,
      "outputs": []
    },
    {
      "id": "3n9f5rJGHUulpGouIZZY-w",
      "cell_type": "markdown",
      "source": [
        "According to the [formula](#technical-margins) above, the tecnical margin is 0 for the Cash Flow AoC step "
      ],
      "metadata": {}
    },
    {
      "id": "rKHBn4AQB0-Xf3R7XoqAaQ",
      "cell_type": "code",
      "source": [
        "computedTM_CF_I.Value.Should().BeApproximately( 0, Precision );"
      ],
      "metadata": {},
      "execution_count": 1,
      "outputs": []
    },
    {
      "id": "AVeLuFLOC0C5EG_ODOOKgg",
      "cell_type": "markdown",
      "source": [
        "<a id='interest-accretion'></a>",
        "\n## Interest Accretion"
      ],
      "metadata": {}
    },
    {
      "id": "fb9GTLqZ10S_IGiMHnsjtA",
      "cell_type": "code",
      "source": [
        "var id_IA_I = Test.GetIdentity(dataNode, \"IA\", \"I\");"
      ],
      "metadata": {},
      "execution_count": 1,
      "outputs": []
    },
    {
      "id": "qTqnPKarN0W0KXR3GY0C2Q",
      "cell_type": "code",
      "source": [
        "id_IA_I"
      ],
      "metadata": {},
      "execution_count": 1,
      "outputs": []
    },
    {
      "id": "-A6XSrwceEml_t5TZg447g",
      "cell_type": "code",
      "source": [
        "var computedTM_IA_I = Test.GetScope<TechnicalMargin>(id_IA_I);"
      ],
      "metadata": {},
      "execution_count": 1,
      "outputs": []
    },
    {
      "id": "grxq6Y2xxkeWfYaEXojn4w",
      "cell_type": "code",
      "source": [
        "computedTM_IA_I.Value"
      ],
      "metadata": {},
      "execution_count": 1,
      "outputs": []
    },
    {
      "id": "S4WYAmNv9kOPoeM8Utgblg",
      "cell_type": "markdown",
      "source": [
        "According to the [formula](#technical-margins) above, for the AoC step IA, the TM is equal to sum of the TMs of its previous AoC step multiplied by the IAF. "
      ],
      "metadata": {}
    },
    {
      "id": "4WhIgYaOr0aGNomU8C5-uA",
      "cell_type": "markdown",
      "source": [
        "The IAF associated to the current period (i.e. shift and time step) can be calculated from the shift, the time Step, and the Interest Rates"
      ],
      "metadata": {}
    },
    {
      "id": "4xfyE1DlUEqKdYMjYcygRw",
      "cell_type": "code",
      "source": [
        "var projectionPeriod = 0;"
      ],
      "metadata": {},
      "execution_count": 1,
      "outputs": []
    },
    {
      "id": "RjAsyz82BECP1W48K-a7rA",
      "cell_type": "code",
      "source": [
        "var shift = Test.GetStorage().GetShift(projectionPeriod);"
      ],
      "metadata": {},
      "execution_count": 1,
      "outputs": []
    },
    {
      "id": "wsHHDSkq-0-huGE1nvj3wQ",
      "cell_type": "code",
      "source": [
        "var timeStep = Test.GetStorage().GetTimeStep(projectionPeriod);"
      ],
      "metadata": {},
      "execution_count": 1,
      "outputs": []
    },
    {
      "id": "_gEJdoVPuUyxvU1oEF2Clw",
      "cell_type": "code",
      "source": [
        "(shift, timeStep)"
      ],
      "metadata": {},
      "execution_count": 1,
      "outputs": []
    },
    {
      "id": "lNmbEvWOU0KMR_ZMy4DQpQ",
      "cell_type": "code",
      "source": [
        "var monthlyRates = Test.GetScope<MonthlyRate>(id_IA_I);"
      ],
      "metadata": {},
      "execution_count": 1,
      "outputs": []
    },
    {
      "id": "p4EWaRtorkCe5b4KbM6kFA",
      "cell_type": "code",
      "source": [
        "monthlyRates"
      ],
      "metadata": {},
      "execution_count": 1,
      "outputs": []
    },
    {
      "id": "WhnDXZb69ES2SSJKZBdqPA",
      "cell_type": "code",
      "source": [
        "var IAF = Enumerable.Range(shift,timeStep).Select(i => monthlyRates.Interest.GetValidElement(i/12)).Aggregate(1.0d, (x, y) => x * y ) - 1.0d;"
      ],
      "metadata": {},
      "execution_count": 1,
      "outputs": []
    },
    {
      "id": "A4PMm2aaGEejwDCTGWNc2w",
      "cell_type": "code",
      "source": [
        "IAF"
      ],
      "metadata": {},
      "execution_count": 1,
      "outputs": []
    },
    {
      "id": "bJTIxBr6wUSGCYZKPko5RA",
      "cell_type": "markdown",
      "source": [
        "Since the previous AoC steps are"
      ],
      "metadata": {}
    },
    {
      "id": "fJq-TMlCuE-9Xsfek5KWug",
      "cell_type": "code",
      "source": [
        "var previousAocStep = Test.GetScope<PreviousAocSteps>((id_IA_I, InputSource.Cashflow)).Values;",
        "\npreviousAocStep"
      ],
      "metadata": {},
      "execution_count": 1,
      "outputs": []
    },
    {
      "id": "__ftTIzmrUS_DQUcSg34vg",
      "cell_type": "markdown",
      "source": [
        "the expected TM for the Amortization step reads"
      ],
      "metadata": {}
    },
    {
      "id": "FMyRgLCS30mHjSbBaZ6LgA",
      "cell_type": "code",
      "source": [
        "var expectedTM_IA_I = IAF * previousAocStep.Sum(aoc => Test.GetScope<TechnicalMargin>(id_IA_I with {AocType = aoc.AocType, Novelty = aoc.Novelty}).Value);"
      ],
      "metadata": {},
      "execution_count": 1,
      "outputs": []
    },
    {
      "id": "UBacH9pFIkG_rxoWOux8Rg",
      "cell_type": "code",
      "source": [
        "expectedTM_IA_I"
      ],
      "metadata": {},
      "execution_count": 1,
      "outputs": []
    },
    {
      "id": "1-tr5DyvAEyE3oMQwJnJyA",
      "cell_type": "code",
      "source": [
        "computedTM_IA_I.Value.Should().BeApproximately( expectedTM_IA_I, Precision );"
      ],
      "metadata": {},
      "execution_count": 1,
      "outputs": []
    },
    {
      "id": "TAmMb4uGQ0CGG-bwB1k0bg",
      "cell_type": "markdown",
      "source": [
        "## Combined Liabilities"
      ],
      "metadata": {}
    },
    {
      "id": "RH193aFtkEq65MfZGDWFgQ",
      "cell_type": "code",
      "source": [
        "var id_CL_C = Test.GetIdentity(dataNode, \"CL\", \"C\");"
      ],
      "metadata": {},
      "execution_count": 1,
      "outputs": []
    },
    {
      "id": "8Ug4OQB9lEWCTqQm6mWYdA",
      "cell_type": "code",
      "source": [
        "id_CL_C"
      ],
      "metadata": {},
      "execution_count": 1,
      "outputs": []
    },
    {
      "id": "YDa8Beon7Umu1aUF0ONGJQ",
      "cell_type": "code",
      "source": [
        "var computedTM_CL_C = Test.GetScope<TechnicalMargin>(id_CL_C);"
      ],
      "metadata": {},
      "execution_count": 1,
      "outputs": []
    },
    {
      "id": "eyyv-oaJE0KWTDaGRKqDpw",
      "cell_type": "code",
      "source": [
        "computedTM_CL_C.Value"
      ],
      "metadata": {},
      "execution_count": 1,
      "outputs": []
    },
    {
      "id": "VWU-qT5aV0GrakHpIsqPgQ",
      "cell_type": "markdown",
      "source": [
        "According to the default TM [formula](#technical-margins), for the CL step the TM is equal to the sum of PV and RA Locked, where the former does not encompass the *NonAttributable* Amount Types"
      ],
      "metadata": {}
    },
    {
      "id": "6EyiiEVRzkuI6YRXJQ1MTQ",
      "cell_type": "code",
      "source": [
        "var expectedTM_CL_C = Test.GetScope<PvLocked>(id_CL_C).Value + Test.GetScope<RaLocked>( id_CL_C ).Value;"
      ],
      "metadata": {},
      "execution_count": 1,
      "outputs": []
    },
    {
      "id": "0dDkPEAfeE-XhvLA7DH1Wg",
      "cell_type": "code",
      "source": [
        "expectedTM_CL_C"
      ],
      "metadata": {},
      "execution_count": 1,
      "outputs": []
    },
    {
      "id": "MKmlpGv4-E64crKcv0Zlig",
      "cell_type": "code",
      "source": [
        "computedTM_CL_C.Value.Should().BeApproximately( expectedTM_CL_C, Precision );"
      ],
      "metadata": {},
      "execution_count": 1,
      "outputs": []
    },
    {
      "id": "WDBCcZKCLUeobaNw-juV1g",
      "cell_type": "markdown",
      "source": [
        "## Experience Adjustment"
      ],
      "metadata": {}
    },
    {
      "id": "2dBJGbhnzk6wE_QuqLi-RQ",
      "cell_type": "code",
      "source": [
        "var id_EA_C = Test.GetIdentity(dataNode, \"EA\", \"C\");"
      ],
      "metadata": {},
      "execution_count": 1,
      "outputs": []
    },
    {
      "id": "hyawxe-JhUqkLHKOWPTdQw",
      "cell_type": "code",
      "source": [
        "id_EA_C"
      ],
      "metadata": {},
      "execution_count": 1,
      "outputs": []
    },
    {
      "id": "goQMZoAJfkSEn4o50YRUew",
      "cell_type": "code",
      "source": [
        "var computedTM_EA_C = Test.GetScope<TechnicalMargin>(id_EA_C);"
      ],
      "metadata": {},
      "execution_count": 1,
      "outputs": []
    },
    {
      "id": "8dX7PfDfwEWf7hkrubnBxw",
      "cell_type": "code",
      "source": [
        "computedTM_EA_C.Value"
      ],
      "metadata": {},
      "execution_count": 1,
      "outputs": []
    },
    {
      "id": "-WJt_6_ZIkGH0yWrnqftrQ",
      "cell_type": "markdown",
      "source": [
        "According to the [formula](#technical-margins) above, for the AoC step EA, the TM is equal to sum of the Premiums, Attributable Expense and Commissions, and Investment Claims. Here below we calculate these terms individually."
      ],
      "metadata": {}
    },
    {
      "id": "DB62V_OoakmF-fa0ir-6vg",
      "cell_type": "markdown",
      "source": [
        "The Premiums, Attributable Expense and Commissions and Investment Claims Present Values and Actuals are calculated using the CF AoC step. Therefore, as first step we define the relevant AoC step and Novelties:"
      ],
      "metadata": {}
    },
    {
      "id": "tGqV5u76l0-NIz-zJDKesQ",
      "cell_type": "code",
      "source": [
        "var referenceAoCType = Test.GetScope<ReferenceAocStep>(id_EA_C).Value.AocType;",
        "\nvar referenceAoC = Test.GetStorage().GetNovelties().Select(n => new AocStep(referenceAoCType, n));"
      ],
      "metadata": {},
      "execution_count": 1,
      "outputs": []
    },
    {
      "id": "tFXCsZ7yPkaUO_sP6Rf4dw",
      "cell_type": "code",
      "source": [
        "referenceAoC"
      ],
      "metadata": {},
      "execution_count": 1,
      "outputs": []
    },
    {
      "id": "Zn9OSvz3M02EYNKavRdHWA",
      "cell_type": "markdown",
      "source": [
        "**Premiums**"
      ],
      "metadata": {}
    },
    {
      "id": "hD28G9xlTki7-KNMU73QQQ",
      "cell_type": "markdown",
      "source": [
        "The list of Premiums Amount Type defined in the imported dimensions and the Premium Allocation Factor can be retrieved"
      ],
      "metadata": {}
    },
    {
      "id": "WPVewiJ-ZUKbnl0snAuRBA",
      "cell_type": "code",
      "source": [
        "Test.GetStorage().GetPremiums()"
      ],
      "metadata": {},
      "execution_count": 1,
      "outputs": []
    },
    {
      "id": "N6sWBi5BvkKF2O4N78nT_Q",
      "cell_type": "code",
      "source": [
        "var premiumAllocationFactor = Test.GetStorage().GetPremiumAllocationFactor(id_EA_C);"
      ],
      "metadata": {},
      "execution_count": 1,
      "outputs": []
    },
    {
      "id": "Fmxi3kQshEaXnPNNsbhPNg",
      "cell_type": "code",
      "source": [
        "premiumAllocationFactor"
      ],
      "metadata": {},
      "execution_count": 1,
      "outputs": []
    },
    {
      "id": "GY7vCaRdK0GOmI8q5PX9_Q",
      "cell_type": "markdown",
      "source": [
        "Lastly, the Premiums term is"
      ],
      "metadata": {}
    },
    {
      "id": "5-HIYLo-bk2YFsABuEJCsQ",
      "cell_type": "code",
      "source": [
        "var premiums = premiumAllocationFactor * Test.GetStorage().GetPremiums()",
        "\n    .Sum(p => referenceAoC.Sum(aoc => Test.GetScope<PresentValue>((Test.GetIdentity(dataNode, aoc.AocType, aoc.Novelty), p, EstimateTypes.BE, (int?)null), o => o.WithContext(economicBasis)).Value)",
        "\n             -referenceAoC.Sum(aoc => Test.GetScope<ActualBase>((Test.GetIdentity(dataNode, aoc.AocType, aoc.Novelty), p, EstimateTypes.A, (int?)null)).Value)",
        "\n             -referenceAoC.Sum(aoc => Test.GetScope<ActualBase>((Test.GetIdentity(dataNode, aoc.AocType, aoc.Novelty), p, EstimateTypes.AA, (int?)null)).Value)",
        "\n             -referenceAoC.Sum(aoc => Test.GetScope<ActualBase>((Test.GetIdentity(dataNode, aoc.AocType, aoc.Novelty), p, EstimateTypes.OA, (int?)null)).Value)",
        "\n        );"
      ],
      "metadata": {},
      "execution_count": 1,
      "outputs": []
    },
    {
      "id": "fg0ynhRLfEiTL68jnBFYPg",
      "cell_type": "code",
      "source": [
        "premiums"
      ],
      "metadata": {},
      "execution_count": 1,
      "outputs": []
    },
    {
      "id": "GpYhgIs7bkijYtGnn_rmug",
      "cell_type": "markdown",
      "source": [
        "**Attributable Expense and Commissions**"
      ],
      "metadata": {}
    },
    {
      "id": "HLALKVc8NE233oTSH12a-Q",
      "cell_type": "markdown",
      "source": [
        "Analogously, the Attributable Expense and Commissions term can be computed"
      ],
      "metadata": {}
    },
    {
      "id": "tPhUn5VaikiP2WaFNmIoiA",
      "cell_type": "code",
      "source": [
        "var attributableExpenseAndCommissions = new string[] {AmountTypes.ACA, AmountTypes.AEA}",
        "\n    .Sum(d => referenceAoC.Sum(s => Test.GetScope<PresentValue>((Test.GetIdentity(dataNode, s.AocType, s.Novelty), d, EstimateTypes.BE, (int?)null), o => o.WithContext(economicBasis)).Value)",
        "\n             -referenceAoC.Sum(s => Test.GetScope<ActualBase>((Test.GetIdentity(dataNode, s.AocType, s.Novelty), d, EstimateTypes.A, (int?)null)).Value));"
      ],
      "metadata": {},
      "execution_count": 1,
      "outputs": []
    },
    {
      "id": "CBelGvY28Uef9-9DjuaJSA",
      "cell_type": "code",
      "source": [
        "attributableExpenseAndCommissions"
      ],
      "metadata": {},
      "execution_count": 1,
      "outputs": []
    },
    {
      "id": "endWZOKckEWp2c6BLELK1w",
      "cell_type": "markdown",
      "source": [
        "**Investment Claims**"
      ],
      "metadata": {}
    },
    {
      "id": "AHIdM5P7nUyMySdWDQN-kA",
      "cell_type": "markdown",
      "source": [
        "Finally the Investment Claims term reads"
      ],
      "metadata": {}
    },
    {
      "id": "bETNZXjO2EuzRVFBP4Nykw",
      "cell_type": "code",
      "source": [
        "var investmentClaims = Test.GetStorage().GetInvestmentClaims()",
        "\n    .Sum(ic => referenceAoC.Sum(s => Test.GetScope<PresentValue>((Test.GetIdentity(dataNode, s.AocType, s.Novelty), ic, EstimateTypes.BE, (int?)null), o => o.WithContext(economicBasis)).Value)",
        "\n              -referenceAoC.Sum(s => Test.GetScope<ActualBase>((Test.GetIdentity(dataNode, s.AocType, s.Novelty), ic, EstimateTypes.A, (int?)null)).Value)",
        "\n              -referenceAoC.Sum(s => Test.GetScope<ActualBase>((Test.GetIdentity(dataNode, s.AocType, s.Novelty), ic, EstimateTypes.AA, (int?)null)).Value)",
        "\n              -referenceAoC.Sum(s => Test.GetScope<ActualBase>((Test.GetIdentity(dataNode, s.AocType, s.Novelty), ic, EstimateTypes.OA, (int?)null)).Value)",
        "\n        );"
      ],
      "metadata": {},
      "execution_count": 1,
      "outputs": []
    },
    {
      "id": "hKxm4Ea8-kCpGkmuQ8-P1g",
      "cell_type": "code",
      "source": [
        "investmentClaims"
      ],
      "metadata": {},
      "execution_count": 1,
      "outputs": []
    },
    {
      "id": "tHqLLnVgKE6pcPnvAv06Tg",
      "cell_type": "markdown",
      "source": [
        "**Expected TM**"
      ],
      "metadata": {}
    },
    {
      "id": "ffxLkcddWUifhMB2Ybvzzw",
      "cell_type": "code",
      "source": [
        "var expectedTM_EA_C = premiums + attributableExpenseAndCommissions + investmentClaims;"
      ],
      "metadata": {},
      "execution_count": 1,
      "outputs": []
    },
    {
      "id": "SUkya34JlUm2dEmvnV6bTQ",
      "cell_type": "code",
      "source": [
        "expectedTM_EA_C"
      ],
      "metadata": {},
      "execution_count": 1,
      "outputs": []
    },
    {
      "id": "KL-ACiIWbkaCFXsaDZoW-g",
      "cell_type": "code",
      "source": [
        "computedTM_EA_C.Value.Should().BeApproximately( expectedTM_EA_C, Precision );"
      ],
      "metadata": {},
      "execution_count": 1,
      "outputs": []
    },
    {
      "id": "aly806PPsk6nb1bq-n7-Sg",
      "cell_type": "markdown",
      "source": [
        "## Amortization"
      ],
      "metadata": {}
    },
    {
      "id": "bsMWbnZzwkiwXgJ8qAvFvw",
      "cell_type": "code",
      "source": [
        "var id_AM_C = Test.GetIdentity(dataNode, \"AM\", \"C\");"
      ],
      "metadata": {},
      "execution_count": 1,
      "outputs": []
    },
    {
      "id": "f4APi5_3CUmHUbP4cXLdcg",
      "cell_type": "code",
      "source": [
        "id_AM_C"
      ],
      "metadata": {},
      "execution_count": 1,
      "outputs": []
    },
    {
      "id": "Rh7epJw7NUaRJ1RMc2rMQg",
      "cell_type": "code",
      "source": [
        "var computedTM_AM_C = Test.GetScope<TechnicalMargin>(id_AM_C);"
      ],
      "metadata": {},
      "execution_count": 1,
      "outputs": []
    },
    {
      "id": "8zkFkhgH00CXbsv5T8h-Hg",
      "cell_type": "code",
      "source": [
        "computedTM_AM_C.Value"
      ],
      "metadata": {},
      "execution_count": 1,
      "outputs": []
    },
    {
      "id": "exXE3mAyIEi-kS4auuzrKQ",
      "cell_type": "code",
      "source": [
        "computedTM_AM_C"
      ],
      "metadata": {},
      "execution_count": 1,
      "outputs": []
    },
    {
      "id": "EpoM-9UMx0qwL68EXUoiiA",
      "cell_type": "markdown",
      "source": [
        "According to the [formula](#technical-margins) above, for the AoC step AM, the TM is equal to sum of the TMs of its previous AoC step multiplied by the amortization factor with opposite sign. ",
        "\n",
        "\nThe AoC step previous to Amortization are"
      ],
      "metadata": {}
    },
    {
      "id": "RWUkvmQU9kqvjgKafKtMGg",
      "cell_type": "code",
      "source": [
        "var previousAocStep = Test.GetScope<PreviousAocSteps>((id_AM_C, InputSource.Cashflow)).Values;",
        "\npreviousAocStep"
      ],
      "metadata": {},
      "execution_count": 1,
      "outputs": []
    },
    {
      "id": "WvdwUX-cX0SvELfpTOrxHA",
      "cell_type": "markdown",
      "source": [
        "while the Amortization Factor can be retrieved in the following"
      ],
      "metadata": {}
    },
    {
      "id": "HTgPDX8Zw0agihg2o3LoWQ",
      "cell_type": "code",
      "source": [
        "Test.GetScope<CurrentPeriodAmortizationFactor>(id_AM_C)"
      ],
      "metadata": {},
      "execution_count": 1,
      "outputs": []
    },
    {
      "id": "r74wo-n4PEiaFDs1bW_41w",
      "cell_type": "markdown",
      "source": [
        "Therefore, the expected TM for the Amortization step reads"
      ],
      "metadata": {}
    },
    {
      "id": "SznuOL-o1Uy5mmuI-jmWPw",
      "cell_type": "code",
      "source": [
        "var expectedTM_AM_C = -Test.GetScope<CurrentPeriodAmortizationFactor>(id_AM_C).Value * ",
        "\n                       previousAocStep.Sum(aoc => Test.GetScope<TechnicalMargin>(id_AM_C with {AocType = aoc.AocType, Novelty = aoc.Novelty}).Value);"
      ],
      "metadata": {},
      "execution_count": 1,
      "outputs": []
    },
    {
      "id": "rEbKtIir70eeIiyYnSAFiA",
      "cell_type": "code",
      "source": [
        "expectedTM_AM_C"
      ],
      "metadata": {},
      "execution_count": 1,
      "outputs": []
    },
    {
      "id": "5Boj82BZcUanZERZtQH1mA",
      "cell_type": "code",
      "source": [
        "computedTM_AM_C.Value.Should().BeApproximately( expectedTM_AM_C, Precision );"
      ],
      "metadata": {},
      "execution_count": 1,
      "outputs": []
    },
    {
      "id": "IoyFPh2DekK36wAQkduuFw",
      "cell_type": "markdown",
      "source": [
        "## End of Period"
      ],
      "metadata": {}
    },
    {
      "id": "e7GBWeapNUCJFEwl3Hdlfw",
      "cell_type": "code",
      "source": [
        "var id_EoP_C = Test.GetIdentity(dataNode, \"EOP\", \"C\");"
      ],
      "metadata": {},
      "execution_count": 1,
      "outputs": []
    },
    {
      "id": "bFFAsDW4HU21gY0oQl4w-g",
      "cell_type": "code",
      "source": [
        "id_EoP_C"
      ],
      "metadata": {},
      "execution_count": 1,
      "outputs": []
    },
    {
      "id": "-NF7JtObB0el7f59d8rHzw",
      "cell_type": "code",
      "source": [
        "var computedTM_EoP_C = Test.GetScope<TechnicalMargin>(id_EoP_C);"
      ],
      "metadata": {},
      "execution_count": 1,
      "outputs": []
    },
    {
      "id": "J6OQYmtTy0O6Pa4dqCaYEQ",
      "cell_type": "code",
      "source": [
        "computedTM_EoP_C.Value"
      ],
      "metadata": {},
      "execution_count": 1,
      "outputs": []
    },
    {
      "id": "ar4enZGkDkahHzmCKHvxBA",
      "cell_type": "code",
      "source": [
        "var expectedTM_EoP_C = Test.GetScope<PvLocked>( id_EoP_C ).Value + Test.GetScope<RaLocked>( id_EoP_C ).Value;"
      ],
      "metadata": {},
      "execution_count": 1,
      "outputs": []
    },
    {
      "id": "Q-Rv4WF-uEOJenziP5Ko6w",
      "cell_type": "code",
      "source": [
        "expectedTM_EoP_C"
      ],
      "metadata": {},
      "execution_count": 1,
      "outputs": []
    },
    {
      "id": "GE0JdvladkOqE6BxVNRMcA",
      "cell_type": "code",
      "source": [
        "computedTM_EoP_C.Value.Should().BeApproximately( expectedTM_EoP_C, Precision );"
      ],
      "metadata": {},
      "execution_count": 1,
      "outputs": []
    },
    {
      "id": "XDuHL9hx2E6DU5ayGYHutQ",
      "cell_type": "markdown",
      "source": [
        "<br/><br/>",
        "\n<a name='switch-logic'></a>",
        "\n# Switch Logic    "
      ],
      "metadata": {}
    },
    {
      "id": "NHk1HPZ3y0K-uGfMOBF1gQ",
      "cell_type": "markdown",
      "source": [
        "The CSM and LC figures are allocated for each AoC step based on the sign of the ATM. Specifically, for positive (negative) ATM, the TM of the current step is allocated to the LC (CSM), unless the TM flips the sign of the ATM. This special circumstance is named **switch**. It can happen at any AoC step with the only exception of Amortization where there is no switch from the previous step.",
        "\nWhen a switch occurs the total contribution to the CSM (LC) prior the switching step is brought to 0 and the remaing amount is allocated to LC (CSM).",
        "\n",
        "\nIn the following the AoC chain is investigated."
      ],
      "metadata": {}
    },
    {
      "id": "qkwHpG9GrUmO52LhVW0gMw",
      "cell_type": "markdown",
      "source": [
        "## Beginning of Period",
        "\n",
        "\nFor the BOP, the last period is considered, which dictates that the corresponding EOP figures considered have necessarily Novelty of type *In-Force*.",
        "\n",
        "\n$$",
        "\n\\begin{array}{rcl}",
        "\n\\text{CSM}(\\text{BOP}) &=& \\text{CSM}(\\text{EOP}) \\text{ of the previous period, for Novelty In-Force} \\\\",
        "\n\\text{LC}(\\text{BOP}) &=& \\text{LC}(\\text{EOP}) \\text{ of the previous period, for Novelty In-Force}",
        "\n\\end{array}",
        "\n$$"
      ],
      "metadata": {}
    },
    {
      "id": "x2DkfQwGp0q67zTOEqWSDg",
      "cell_type": "code",
      "source": [
        "var id_BoP_I = Test.GetIdentity(dataNode, \"BOP\", \"I\");"
      ],
      "metadata": {},
      "execution_count": 1,
      "outputs": []
    },
    {
      "id": "U1ZDbeNAYUSlPIqSHFql-A",
      "cell_type": "code",
      "source": [
        "id_BoP_I"
      ],
      "metadata": {},
      "execution_count": 1,
      "outputs": []
    },
    {
      "id": "OeYWN1P_DEOPTJgMbEYdwg",
      "cell_type": "code",
      "source": [
        "var computedCSM_BoP_I = Test.GetScope<Csm>(id_BoP_I).Value;",
        "\nvar computedLC_BoP_I = Test.GetScope<Lc>(id_BoP_I).Value;"
      ],
      "metadata": {},
      "execution_count": 1,
      "outputs": []
    },
    {
      "id": "ihEr80PWCkGZdhvb1ggfKw",
      "cell_type": "code",
      "source": [
        "(computedCSM_BoP_I, computedLC_BoP_I)"
      ],
      "metadata": {},
      "execution_count": 1,
      "outputs": []
    },
    {
      "id": "gGKUWa-n40u9Xu3VNw4n7A",
      "cell_type": "markdown",
      "source": [
        "To understand where the BOP is allocated, we retrieve the corresponding TM and, based on its sign, we expect the CSM or the LC to be non-zero according to the [formula](#switch-logic) above"
      ],
      "metadata": {}
    },
    {
      "id": "GbsT5_IX40yquehB3bXzWg",
      "cell_type": "code",
      "source": [
        "var TM_BOP_I = Test.GetScope<TechnicalMargin>(id_BoP_I).Value;"
      ],
      "metadata": {},
      "execution_count": 1,
      "outputs": []
    },
    {
      "id": "VzVSQA_NVE2D__qk77LRuQ",
      "cell_type": "code",
      "source": [
        "TM_BOP_I"
      ],
      "metadata": {},
      "execution_count": 1,
      "outputs": []
    },
    {
      "id": "VyqxO7jhD06tjnlyZWgklA",
      "cell_type": "code",
      "source": [
        "var expectedCSM_BoP_I = TM_BOP_I < 0 ? -TM_BOP_I : 0;",
        "\nvar expectedLC_BoP_I  = TM_BOP_I > 0 ? +TM_BOP_I : 0;"
      ],
      "metadata": {},
      "execution_count": 1,
      "outputs": []
    },
    {
      "id": "I9Ou_OG9n0-4enuli2WR8w",
      "cell_type": "code",
      "source": [
        "(expectedCSM_BoP_I, expectedLC_BoP_I)"
      ],
      "metadata": {},
      "execution_count": 1,
      "outputs": []
    },
    {
      "id": "ZGzRu0gOjEuAs_AaPiyaAA",
      "cell_type": "code",
      "source": [
        "computedCSM_BoP_I.CheckEquality(computedCSM_BoP_I).Should().Be(true);",
        "\nexpectedLC_BoP_I.CheckEquality(computedLC_BoP_I).Should().Be(true);"
      ],
      "metadata": {},
      "execution_count": 1,
      "outputs": []
    },
    {
      "id": "Dmr2QZObzkCiSqWNVstsqA",
      "cell_type": "markdown",
      "source": [
        "## Following AoC steps"
      ],
      "metadata": {}
    },
    {
      "id": "QhyguKxmFkur5akQ_kuU4w",
      "cell_type": "markdown",
      "source": [
        "From the BOP up to the CL step, the switch logic is applied separately to the In-Force and New Business novelties."
      ],
      "metadata": {}
    },
    {
      "id": "j2v9TGxKBEi9vyAXzjnYRQ",
      "cell_type": "code",
      "source": [
        "var id_MC_I = Test.GetIdentity(dataNode, \"MC\", \"I\");"
      ],
      "metadata": {},
      "execution_count": 1,
      "outputs": []
    },
    {
      "id": "oURGBY049UO_6rpp5Yvd8w",
      "cell_type": "code",
      "source": [
        "id_MC_I"
      ],
      "metadata": {},
      "execution_count": 1,
      "outputs": []
    },
    {
      "id": "Zz6IYfaXW0eEwAt1CFXLqQ",
      "cell_type": "code",
      "source": [
        "var computedCSM_MC_I = Test.GetScope<Csm>(id_MC_I).Value;",
        "\nvar computedLC_MC_I = Test.GetScope<Lc>(id_MC_I).Value;"
      ],
      "metadata": {},
      "execution_count": 1,
      "outputs": []
    },
    {
      "id": "anLo2TEZn0a-c-b58-NptA",
      "cell_type": "code",
      "source": [
        "(computedCSM_MC_I, computedLC_MC_I)"
      ],
      "metadata": {},
      "execution_count": 1,
      "outputs": []
    },
    {
      "id": "_3ECx3xw6kaAPhipr_o3IQ",
      "cell_type": "markdown",
      "source": [
        "According to the [formula](#switch-logic) above this AoC step is allocated either to CSM or to LC based on the sign of ATM + TM. Both these two terms can be retrieved from the **TechnicalMargin** Scope."
      ],
      "metadata": {}
    },
    {
      "id": "vDlb6A-66UaV1dj-A7BpwA",
      "cell_type": "code",
      "source": [
        "var TM_MC_I = Test.GetScope<TechnicalMargin>(id_MC_I);"
      ],
      "metadata": {},
      "execution_count": 1,
      "outputs": []
    },
    {
      "id": "tWklX6ndd0eQuh10WyJwow",
      "cell_type": "code",
      "source": [
        "TM_MC_I"
      ],
      "metadata": {},
      "execution_count": 1,
      "outputs": []
    },
    {
      "id": "VShlk81fLE6vcS4-zPChpA",
      "cell_type": "markdown",
      "source": [
        "The correctness of the ATM can be checked by firstly withdrawing the previous AoC steps"
      ],
      "metadata": {}
    },
    {
      "id": "ZeVVDyOg8kiQOSI9_cx7Sg",
      "cell_type": "code",
      "source": [
        "var previousAocStep = Test.GetScope<PreviousAocSteps>((id_MC_I, InputSource.Cashflow)).Values;"
      ],
      "metadata": {},
      "execution_count": 1,
      "outputs": []
    },
    {
      "id": "TGc_r6IcEUWsmmbS1dH8gA",
      "cell_type": "code",
      "source": [
        "previousAocStep"
      ],
      "metadata": {},
      "execution_count": 1,
      "outputs": []
    },
    {
      "id": "4LVnT3VEWkyKk021jdSe1g",
      "cell_type": "markdown",
      "source": [
        "and then evaluating the sum of the corresponding TMs"
      ],
      "metadata": {}
    },
    {
      "id": "C4MRuXZBHEWOoGmxdDMPNQ",
      "cell_type": "code",
      "source": [
        "var expectedATM = previousAocStep.Sum(aoc => Test.GetScope<TechnicalMargin>(id_MC_I with {AocType = aoc.AocType, Novelty = aoc.Novelty}).Value);"
      ],
      "metadata": {},
      "execution_count": 1,
      "outputs": []
    },
    {
      "id": "AjUcTq64mUiQGuUK9WLhpQ",
      "cell_type": "code",
      "source": [
        "expectedATM"
      ],
      "metadata": {},
      "execution_count": 1,
      "outputs": []
    },
    {
      "id": "qG0nHl69Y0qX9agYsei91g",
      "cell_type": "markdown",
      "source": [
        "Therefore, the following condition for ATM calculated by the **TechnicalMargin** Scope needs to be fullfilled"
      ],
      "metadata": {}
    },
    {
      "id": "-2a6HsG0-U6ss9qGHoExYw",
      "cell_type": "code",
      "source": [
        "TM_MC_I.AggregatedValue.Should().BeApproximately( expectedATM, Precision );"
      ],
      "metadata": {},
      "execution_count": 1,
      "outputs": []
    },
    {
      "id": "z3e8UQynb02Bjtq0B_KbcA",
      "cell_type": "markdown",
      "source": [
        "The CSM and LC can be allocated according to the [Switch Logic](#switch-logic)."
      ],
      "metadata": {}
    },
    {
      "id": "SpZykQISGUS5t5LfteXTqg",
      "cell_type": "code",
      "source": [
        "double expectedCSM_MC_I; ",
        "\ndouble expectedLC_MC_I; "
      ],
      "metadata": {},
      "execution_count": 1,
      "outputs": []
    },
    {
      "id": "8I15mZw2KUKeZMDPsOvYfg",
      "cell_type": "code",
      "source": [
        "var aggregated = TM_MC_I.Value + TM_MC_I.AggregatedValue;"
      ],
      "metadata": {},
      "execution_count": 1,
      "outputs": []
    },
    {
      "id": "Qw1GlZ5Edkaz3I-5i96u9A",
      "cell_type": "markdown",
      "source": [
        "If there is no switch from LC, i.e. $\\text{ATM} (\\text{AoC}) > 0$ and $\\text{ATM} (\\text{AoC}) + \\text{TM}(\\text{AoC}) \\ge 0 $, then:",
        "\n",
        "\n$$",
        "\n\\begin{array}{rcl}",
        "\n\\text{CSM}(\\text{AoC}) &=& 0 ~, \\\\",
        "\n\\text{LC}(\\text{AoC}) &=& \\text{TM}(\\text{AoC}) ~.",
        "\n\\end{array}",
        "\n$$"
      ],
      "metadata": {}
    },
    {
      "id": "7da5XEhrhEu35M4vNuKJ7Q",
      "cell_type": "code",
      "source": [
        "if(TM_MC_I.AggregatedValue > 0 && aggregated >= 0) {",
        "\n    expectedCSM_MC_I = 0 ;",
        "\n    expectedLC_MC_I = TM_MC_I.Value ;",
        "\n} "
      ],
      "metadata": {},
      "execution_count": 1,
      "outputs": []
    },
    {
      "id": "KbFNOw70mEePHWniU_e5Gw",
      "cell_type": "markdown",
      "source": [
        "If there is no switch from CSM, i.e. $\\text{ATM} (\\text{AoC}) \\le 0$ and $\\text{ATM} (\\text{AoC}) + \\text{TM}(\\text{AoC}) \\le 0 $, then:",
        "\n",
        "\n$$",
        "\n\\begin{array}{rcl}",
        "\n\\text{CSM}(\\text{AoC}) &=& -\\text{TM}(\\text{AoC}) ~, \\\\",
        "\n\\text{LC}(\\text{AoC}) &=& 0 ~.",
        "\n\\end{array}",
        "\n$$"
      ],
      "metadata": {}
    },
    {
      "id": "fgaGOnieo0qKvh_7zYB2Iw",
      "cell_type": "code",
      "source": [
        "if(TM_MC_I.AggregatedValue < 0 && aggregated <= 0) {",
        "\n    expectedCSM_MC_I = -TM_MC_I.Value ;",
        "\n    expectedLC_MC_I = 0 ;",
        "\n}"
      ],
      "metadata": {},
      "execution_count": 1,
      "outputs": []
    },
    {
      "id": "wI01nxemTE6PWDDgvWjtww",
      "cell_type": "markdown",
      "source": [
        "If $\\text{ATM} (\\text{AoC}) > 0$ and $\\text{ATM} (\\text{AoC}) + \\text{TM}(\\text{AoC}) \\le 0$, then there is a switch to CSM:",
        "\n",
        "\n$$",
        "\n\\begin{array}{rcl}",
        "\n\\text{CSM}(\\text{AoC}) &=& -\\text{TM}(\\text{AoC}) -\\text{ATM} (\\text{AoC}) ~, \\\\",
        "\n\\text{LC}(\\text{AoC}) &=& -\\text{ATM} (\\text{AoC}) ~.",
        "\n\\end{array}",
        "\n$$"
      ],
      "metadata": {}
    },
    {
      "id": "r_Z-PV3jnEe61s5dxqqeAQ",
      "cell_type": "code",
      "source": [
        "if(TM_MC_I.AggregatedValue > 0 && aggregated <= 0) {",
        "\n    expectedCSM_MC_I = -aggregated;",
        "\n    expectedLC_MC_I = -TM_MC_I.AggregatedValue ;",
        "\n}"
      ],
      "metadata": {},
      "execution_count": 1,
      "outputs": []
    },
    {
      "id": "UGTIjdFCpUOf3okJiq05Xw",
      "cell_type": "markdown",
      "source": [
        "On the other hand, if $\\text{ATM} (\\text{AoC}) \\le 0$ and $\\text{ATM} (\\text{AoC}) + \\text{TM}(\\text{AoC}) > 0$, ",
        "\nthen the switch is to LC:",
        "\n",
        "\n$$",
        "\n\\begin{array}{rcl}",
        "\n\\text{CSM}(\\text{AoC}) &=& \\text{ATM} (\\text{AoC}) ~, \\\\",
        "\n\\text{LC}(\\text{AoC}) &=& \\text{TM}(\\text{AoC}) + \\text{ATM} (\\text{AoC}) ~.",
        "\n\\end{array}",
        "\n$$"
      ],
      "metadata": {}
    },
    {
      "id": "b4tllqavSUaAPPPQ9-2xNw",
      "cell_type": "code",
      "source": [
        "if(TM_MC_I.AggregatedValue <= 0 && aggregated > 0) {",
        "\n    expectedCSM_MC_I = TM_MC_I.AggregatedValue ;",
        "\n    expectedLC_MC_I = aggregated ;",
        "\n}"
      ],
      "metadata": {},
      "execution_count": 1,
      "outputs": []
    },
    {
      "id": "7DcRpZcCLEurfCz1WhmBsA",
      "cell_type": "markdown",
      "source": [
        "Therefore, the expected CSM and LC for this step are"
      ],
      "metadata": {}
    },
    {
      "id": "Cynr0d0AokyhPo5thwHxng",
      "cell_type": "code",
      "source": [
        "(expectedCSM_MC_I, expectedLC_MC_I)"
      ],
      "metadata": {},
      "execution_count": 1,
      "outputs": []
    },
    {
      "id": "jt1m57jeUUOnClnAWUh4GQ",
      "cell_type": "code",
      "source": [
        "expectedCSM_MC_I.CheckEquality(computedCSM_MC_I).Should().Be(true);",
        "\nexpectedLC_MC_I.CheckEquality(computedLC_MC_I).Should().Be(true);"
      ],
      "metadata": {},
      "execution_count": 1,
      "outputs": []
    },
    {
      "id": "0CzQml-85UuZbrhJFsKLDw",
      "cell_type": "markdown",
      "source": [
        "<a name='combined-liabilities'></a>",
        "\n## Combined Liabilities"
      ],
      "metadata": {}
    },
    {
      "id": "l3-1ZxlOU06br5k6_VWJgw",
      "cell_type": "markdown",
      "source": [
        "The CL Aoc Step brings both contributions to CSM and LC together as the novelities are summed.",
        "\n",
        "\nFor the CL step, the logic is similar to the one above, except that a switch from LC to CSM can happen **because of New Business and despite of In-Force**, in which case we have:",
        "\n",
        "\n$$",
        "\n\\begin{array}{rcl}",
        "\n\\text{CSM}(\\text{AoC}) &=& -\\text{TM}(\\text{AoC}) - \\text{ATM}(\\text{Last In-Force AoC step}) - \\text{TM}(\\text{Last In-Force AoC step}) \\\\",
        "\n\\text{LC}(\\text{AoC}) &=& -\\text{ATM}(\\text{Last In-Force AoC step}) - \\text{TM}(\\text{Last In-Force AoC step})",
        "\n\\end{array}",
        "\n$$",
        "\n",
        "\nIf, on the other hand, the switch from LC to CSM happens **because of In-Force and despite of New Business**, then we have:",
        "\n",
        "\n$$",
        "\n\\begin{array}{rcl}",
        "\n\\text{CSM}(\\text{AoC}) &=& - \\text{TM}(\\text{AoC}) - \\text{ATM}(\\text{Last NB AoC step}) - \\text{TM}(\\text{Last NB AoC step}) \\\\",
        "\n\\text{LC}(\\text{AoC}) &=& - \\text{ATM}(\\text{Last NB AoC step}) - \\text{TM}(\\text{Last NB AoC step})",
        "\n\\end{array}",
        "\n$$",
        "\n",
        "\nFor the switch in the other direction, i.e. from CSM to LC the formulas are similar except that LC and CSM are swapped."
      ],
      "metadata": {}
    },
    {
      "id": "LbA7zjeoTUmzsL20pTogpg",
      "cell_type": "code",
      "source": [
        "var id_CL_C = Test.GetIdentity(dataNode, \"CL\", \"C\");"
      ],
      "metadata": {},
      "execution_count": 1,
      "outputs": []
    },
    {
      "id": "BQ0_Jmo4GUCeoSwaNpzSEQ",
      "cell_type": "code",
      "source": [
        "id_CL_C"
      ],
      "metadata": {},
      "execution_count": 1,
      "outputs": []
    },
    {
      "id": "b1ZovjyK206ocT3in7tJJg",
      "cell_type": "code",
      "source": [
        "var computedCSM_CL_C = Test.GetScope<Csm>(id_CL_C).Value;",
        "\nvar computedLC_CL_C = Test.GetScope<Lc>(id_CL_C).Value;"
      ],
      "metadata": {},
      "execution_count": 1,
      "outputs": []
    },
    {
      "id": "di_k8t-Q8k6S_g2qUV6UKA",
      "cell_type": "code",
      "source": [
        "(computedCSM_CL_C, computedLC_CL_C)"
      ],
      "metadata": {},
      "execution_count": 1,
      "outputs": []
    },
    {
      "id": "HNbDZeZA-0q7FhEWN2i1AA",
      "cell_type": "markdown",
      "source": [
        "The CL step considers the last step of both the New Business and the In Force Novelties to decide what to allocate to CSM or LC. "
      ],
      "metadata": {}
    },
    {
      "id": "gFyHo7Xd80Kx9qUhOBfakQ",
      "cell_type": "code",
      "source": [
        "var lastAocSteps = Test.GetScope<PreviousAocSteps>((id_CL_C, InputSource.Cashflow)).Values.GroupBy(x => x.Novelty).Select(g => g.Last());"
      ],
      "metadata": {},
      "execution_count": 1,
      "outputs": []
    },
    {
      "id": "Z0o-1_Kj7kqDfc6VHr5cxQ",
      "cell_type": "code",
      "source": [
        "lastAocSteps"
      ],
      "metadata": {},
      "execution_count": 1,
      "outputs": []
    },
    {
      "id": "OJYdM2hIAk-hyqf4zANz0A",
      "cell_type": "markdown",
      "source": [
        "Selecting the corresponding AocTypes:"
      ],
      "metadata": {}
    },
    {
      "id": "W0LNije6AESOhExOn3cEIQ",
      "cell_type": "code",
      "source": [
        "var lastAocTypeNb = lastAocSteps.Single(x => x.Novelty == Novelties.N).AocType;",
        "\nvar lastAocTypeI = lastAocSteps.Single(x => x.Novelty == Novelties.I).AocType;",
        "\n(lastAocTypeI, lastAocTypeNb)"
      ],
      "metadata": {},
      "execution_count": 1,
      "outputs": []
    },
    {
      "id": "LQ6g6NwhGkaAn6cNDgnwLw",
      "cell_type": "code",
      "source": [
        "var lastTM_NewBusiness = Test.GetScope<TechnicalMargin>(id_CL_C with {AocType = lastAocTypeNb, Novelty = Novelties.N});"
      ],
      "metadata": {},
      "execution_count": 1,
      "outputs": []
    },
    {
      "id": "h_-vLUO1a0CaiTlvHdl-Qw",
      "cell_type": "code",
      "source": [
        "lastTM_NewBusiness"
      ],
      "metadata": {},
      "execution_count": 1,
      "outputs": []
    },
    {
      "id": "vx-ERfMXoEmPlM7YjfSpVg",
      "cell_type": "code",
      "source": [
        "var lastTM_InForce = Test.GetScope<TechnicalMargin>(id_CL_C with {AocType = lastAocTypeI, Novelty = Novelties.I});"
      ],
      "metadata": {},
      "execution_count": 1,
      "outputs": []
    },
    {
      "id": "nEAfJcJBfU6e8ESe_G-HGQ",
      "cell_type": "code",
      "source": [
        "lastTM_InForce"
      ],
      "metadata": {},
      "execution_count": 1,
      "outputs": []
    },
    {
      "id": "IsysT0dxB02V9LtXUi4WKw",
      "cell_type": "markdown",
      "source": [
        "Conversely the TM and ATM for the CL step is"
      ],
      "metadata": {}
    },
    {
      "id": "0nCrk056Kki5-Lj4k_DNUA",
      "cell_type": "code",
      "source": [
        "var TM_Combined = Test.GetScope<TechnicalMargin>(id_CL_C);"
      ],
      "metadata": {},
      "execution_count": 1,
      "outputs": []
    },
    {
      "id": "HYP4Ehlpz06WTCeicsf-TA",
      "cell_type": "code",
      "source": [
        "TM_Combined"
      ],
      "metadata": {},
      "execution_count": 1,
      "outputs": []
    },
    {
      "id": "VizwJ9n3JUWNn8VHtyyZRg",
      "cell_type": "markdown",
      "source": [
        "where the ATM of CL is given by the sum of the ATMs of the New Business and In Force Novelties"
      ],
      "metadata": {}
    },
    {
      "id": "_6wJKgMbikuQcgsNrkRUKA",
      "cell_type": "code",
      "source": [
        "var aggregatedNewBusiness =  lastTM_NewBusiness.Value + lastTM_NewBusiness.AggregatedValue;",
        "\nvar aggregatedInForce = lastTM_InForce.Value + lastTM_InForce.AggregatedValue;",
        "\nvar sum = aggregatedNewBusiness + aggregatedInForce;",
        "\nsum"
      ],
      "metadata": {},
      "execution_count": 1,
      "outputs": []
    },
    {
      "id": "VmDd0wzbzEW0oE885Kyqww",
      "cell_type": "code",
      "source": [
        "( (sum - TM_Combined.AggregatedValue)/sum < 1.0e-12).Should().Be(true);"
      ],
      "metadata": {},
      "execution_count": 1,
      "outputs": []
    },
    {
      "id": "19uVR0w7F02xd9KaJ2yVIQ",
      "cell_type": "markdown",
      "source": [
        "In order to decide where the TM of the CL step is allocated, one has to check the sign of the ATM + TM for both the New Business and the In Force"
      ],
      "metadata": {}
    },
    {
      "id": "QeZXbaKXGk2Vyp4P4dxgJg",
      "cell_type": "code",
      "source": [
        "var aggregatedCombined = TM_Combined.Value + TM_Combined.AggregatedValue;",
        "\naggregatedCombined"
      ],
      "metadata": {},
      "execution_count": 1,
      "outputs": []
    },
    {
      "id": "Njb3qejxeU6T_QL3ocb23g",
      "cell_type": "markdown",
      "source": [
        "According to the [formulas above](#combined-liabilities), for a positive (negative) aggregated CL value, the CL TM has to be allocated to LC (CSM). ",
        "\n<br> In case the one of last Aoc step of the novelties (I, NB) has the sign of the CL ATM opposite to the CL ATM, the CL AocStep is used to introduce a balancing item to bring the ATM of the novelty with opposite sign to 0. ",
        "\n<br> This is equivalent to execute the switch logic with a balancing item = ATM of the last AocStep having opposite sign to CL ATM. ",
        "\n<br> Note that if CL TM is zero this results in allocating the same amount with opposite sign to CSM(note that the sign of the CSM componet is flipped) and LC."
      ],
      "metadata": {}
    },
    {
      "id": "PKCnye7OH0qMHL6PW1vWMw",
      "cell_type": "code",
      "source": [
        "double expectedCSM_CL_C; ",
        "\ndouble expectedLC_CL_C; "
      ],
      "metadata": {},
      "execution_count": 1,
      "outputs": []
    },
    {
      "id": "mR_PzvyP50CGygsS3pFx9g",
      "cell_type": "code",
      "source": [
        "var balancingItem = aggregatedCombined < 0 ? aggregatedNewBusiness : aggregatedInForce;",
        "\nbalancingItem"
      ],
      "metadata": {},
      "execution_count": 1,
      "outputs": []
    },
    {
      "id": "hhE70xjs-EGuXjI4ztfscQ",
      "cell_type": "code",
      "source": [
        "",
        "\nif(aggregatedCombined > 0) {",
        "\n    expectedCSM_CL_C = balancingItem ;",
        "\n    expectedLC_CL_C = TM_Combined.Value + balancingItem;",
        "\n} else {",
        "\n    expectedLC_CL_C = - balancingItem ;",
        "\n    expectedCSM_CL_C = TM_Combined.Value - balancingItem ;",
        "\n}"
      ],
      "metadata": {},
      "execution_count": 1,
      "outputs": []
    },
    {
      "id": "474WEtEUPEqOIsiRVbHO0g",
      "cell_type": "code",
      "source": [
        "(expectedCSM_CL_C, expectedLC_CL_C)"
      ],
      "metadata": {},
      "execution_count": 1,
      "outputs": []
    },
    {
      "id": "-gNe5T_ZLEeVHsBfCLPhWA",
      "cell_type": "code",
      "source": [
        "expectedCSM_CL_C.CheckEquality(computedCSM_CL_C).Should().Be(true);",
        "\nexpectedLC_CL_C.CheckEquality(computedLC_CL_C).Should().Be(true);"
      ],
      "metadata": {},
      "execution_count": 1,
      "outputs": []
    },
    {
      "id": "DyvDoHzrBEq3_wVcCchkEw",
      "cell_type": "markdown",
      "source": [
        "## End Of Period",
        "\n",
        "\nFor the last AoC step, the EOP is the sum of all previous steps",
        "\n",
        "\n$$",
        "\n\\begin{array}{rcl}",
        "\n\\text{CSM}(\\text{EOP}) &=& \\sum_{s~\\in~\\text{previous AoC steps}} \\text{CSM}(s) ~, \\\\",
        "\n\\text{LC}(\\text{EOP}) &=& \\sum_{s~\\in~\\text{previous AoC steps}} \\text{LC}(s) ~.",
        "\n\\end{array}",
        "\n$$"
      ],
      "metadata": {}
    },
    {
      "id": "_ESoopqaZU-By3wLhIBkgw",
      "cell_type": "code",
      "source": [
        "var id_EoP_C = Test.GetIdentity(dataNode, \"EOP\", \"C\");"
      ],
      "metadata": {},
      "execution_count": 1,
      "outputs": []
    },
    {
      "id": "ZqMiKYtLj0mrhg2Bk0SKbQ",
      "cell_type": "code",
      "source": [
        "id_EoP_C"
      ],
      "metadata": {},
      "execution_count": 1,
      "outputs": []
    },
    {
      "id": "qHO12xBFj0OKhZj66J3uxQ",
      "cell_type": "code",
      "source": [
        "var computedCSM_EoP_C = Test.GetScope<Csm>(id_EoP_C).Value;",
        "\nvar computedLC_EoP_C = Test.GetScope<Lc>(id_EoP_C).Value;"
      ],
      "metadata": {},
      "execution_count": 1,
      "outputs": []
    },
    {
      "id": "C54gDBF8B0iE8erZtf9PDA",
      "cell_type": "code",
      "source": [
        "(computedCSM_EoP_C, computedLC_EoP_C)"
      ],
      "metadata": {},
      "execution_count": 1,
      "outputs": []
    },
    {
      "id": "MoN2gU7CgkmSAoAH8E3P4g",
      "cell_type": "markdown",
      "source": [
        "<br/><br/>",
        "\n<div class=\"alert alert-block alert-info\">",
        "\nFor the <b/>reinsurance case</b>, the switch logic is identical to the one described above, except that it uses the corresponding gross case TM to allocate the figure either to CSM or to LoReCo. The reinsurance gross TM multiplied by the weights coming from the Reinsurance Coverage Parameter (Data Node Parameters). In case a GRIC has multiple GICs, then these weighted TMs are aggregated.",
        "\n</div>"
      ],
      "metadata": {}
    },
    {
      "id": "-17yUzUfYU-46uPh5jCLzQ",
      "cell_type": "markdown",
      "source": [
        "<a name=\"switch-logic\"></a>"
      ],
      "metadata": {}
    },
    {
      "id": "LHXDcjueYUy1IKvyMPuZyQ",
      "cell_type": "markdown",
      "source": [
        "<br/><br/>",
        "\n<a name='csm-lc'></a>",
        "\n# Contractual Service Margin and Loss Component"
      ],
      "metadata": {}
    },
    {
      "id": "O7oZvk5RIk-EplmELWCLLw",
      "cell_type": "markdown",
      "source": [
        "Here below a view of the CSM and Loss Component results are shown. ",
        "\n",
        "\nNote: the Data Nodes with LiabilityType being *LIC* are excluded."
      ],
      "metadata": {}
    },
    {
      "id": "WQsEnHxeUkWa24cVa17ASw",
      "cell_type": "code",
      "source": [
        "var allIdentitiesWoLic = allIdentities.Where(id => Test.GetStorage().DataNodeDataBySystemName[id.DataNode].LiabilityType != \"LIC\").ToArray();"
      ],
      "metadata": {},
      "execution_count": 1,
      "outputs": []
    },
    {
      "id": "ZClqTg9_EEKdli2o4Blwqw",
      "cell_type": "code",
      "source": [
        "var csm = allIdentitiesWoLic.SelectMany(id => Test.GetScope<Csm>(id).RepeatOnce()",
        "\n                                                  .Where(x => Math.Abs(x.Value) >= Precision)",
        "\n                                                  .Select(x => x.FromCsmToIfrsVariable())).ToArray();"
      ],
      "metadata": {},
      "execution_count": 1,
      "outputs": []
    },
    {
      "id": "VYCT72rdHE6fE0HDC7ygOQ",
      "cell_type": "markdown",
      "source": [
        "## Gross case"
      ],
      "metadata": {}
    },
    {
      "id": "UsRkibKobkCtFXhm5l__xQ",
      "cell_type": "code",
      "source": [
        "var allInsuranceIdentitiesWoLic = allIdentitiesWoLic.Where(id => !id.IsReinsurance).ToArray();"
      ],
      "metadata": {},
      "execution_count": 1,
      "outputs": []
    },
    {
      "id": "PirmpNw8w0yTsQZmMWqgKw",
      "cell_type": "code",
      "source": [
        "var lc = allInsuranceIdentitiesWoLic.SelectMany(id => Test.GetScope<Lc>(id).RepeatOnce()",
        "\n                                                  .Where(x => Math.Abs(x.Value) >= Precision)",
        "\n                                                  .Select(x => x.FromLcToIfrsVariable())).ToArray();"
      ],
      "metadata": {},
      "execution_count": 1,
      "outputs": []
    },
    {
      "id": "rqcC8OgZSEWmclwqnva9LQ",
      "cell_type": "markdown",
      "source": [
        "## Re-Insurance case (LoReCo)"
      ],
      "metadata": {}
    },
    {
      "id": "9FlZC2iKzkimZWgYZNcsRw",
      "cell_type": "code",
      "source": [
        "var allReInsuranceIdentitiesWoLic = allIdentitiesWoLic.Where(id => id.IsReinsurance).ToArray();"
      ],
      "metadata": {},
      "execution_count": 1,
      "outputs": []
    },
    {
      "id": "NZ39ut9ark6eMKtKoBbyOg",
      "cell_type": "code",
      "source": [
        "var loreco = allReInsuranceIdentitiesWoLic.SelectMany(id => Test.GetScope<LoReCo>(id).RepeatOnce()",
        "\n                                                     .Where(x => Math.Abs(x.Value) >= Precision)",
        "\n                                                     .Select(x => x.FromLoReCoToIfrsVariable())).ToArray();"
      ],
      "metadata": {},
      "execution_count": 1,
      "outputs": []
    },
    {
      "id": "x-kOOIetOka_mQDABgu3oQ",
      "cell_type": "markdown",
      "source": [
        "## Summary"
      ],
      "metadata": {}
    },
    {
      "id": "mF7UvAY_-EKAlqSsnrQcNQ",
      "cell_type": "code",
      "source": [
        "Report.ForObjects( csm.Concat(lc).Concat(loreco) )",
        "\n      .WithQuerySource(Workspace)",
        "\n      .GroupColumnsBy(x => x.DataNode)",
        "\n      .GroupColumnsBy(x => x.EstimateType)",
        "\n      .GroupRowsBy(x => x.Novelty)",
        "\n      .GroupRowsBy(x => x.AocType)",
        "\n      .WithGridOptionsForIfrsVariable()",
        "\n      .ToReport()"
      ],
      "metadata": {},
      "execution_count": 1,
      "outputs": []
    },
    {
      "id": "WMr4L1n4PUOCiZT5gKh9ug",
      "cell_type": "code",
      "source": [
        ""
      ],
      "metadata": {},
      "execution_count": 1,
      "outputs": []
    }
  ]
}