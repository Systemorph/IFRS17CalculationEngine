{
  "metadata": {
    "toc-showtags": "False",
    "toc-showmarkdowntxt": "False",
    "toc-showcode": "False",
    "language_info": {
      "file_extension": ".cs",
      "mimetype": "text/plain",
      "name": "C#"
    },
    "authors": [],
    "kernelspec": {
      "display_name": "Formula Framework",
      "language": "C#",
      "name": "C#"
    },
    "toc-autonumbering": "True"
  },
  "nbformat": 4,
  "nbformat_minor": 5,
  "cells": [
    {
      "id": "lI4yThFtAkGBL2c6iGY6NA",
      "cell_type": "markdown",
      "source": [
        "<p style=\"font-weight:bold;\"> <span style=\"font-size: 36px\"> Import Cashflows Specifications </span> </p>"
      ],
      "metadata": {}
    },
    {
      "id": "XPSBZvgeJUWm3KfISi0_kw",
      "cell_type": "markdown",
      "source": [
        "The aim of this notebook is to document the calculation of the Present Values and Amortization Factors starting from the nominal Cashflows and the Yearly Yield Curve. These starting data is imported from the corresponding csv files located in the following path <code>Initialization/Systemorph/</code>. The process is pictorially explained in the following flowchart. ",
        "\n",
        "\n<a name=\"TOC\"></a>",
        "\n<center><img src=\"../Images/SpecificationsImportCashflows.PNG\" width=\"45%\" style=\"float:center;\">",
        "\n",
        "\nThroughout this notebook we adopt the following variable notation:  we use the words *computed* vs. *expected* to differentiate the results provided by the application vs. this test notebook, respectively."
      ],
      "metadata": {}
    },
    {
      "id": "KuBokOZnNEKyeai5pecD_A",
      "cell_type": "markdown",
      "source": [
        "[Setup IFRS17 Calculation Engine](../Import/ImportScopeCalculation):"
      ],
      "metadata": {}
    },
    {
      "id": "ymRDCUIfokuZuGhcIgRC2Q",
      "cell_type": "code",
      "source": [
        "#!import \"SpecificationsSetup\""
      ],
      "metadata": {},
      "execution_count": 1,
      "outputs": []
    },
    {
      "id": "K2nnKAzJ1kWqqKCw6hgCpg",
      "cell_type": "markdown",
      "source": [
        "---"
      ],
      "metadata": {}
    },
    {
      "id": "vDUrjRR4W0Cab2XwoLh66g",
      "cell_type": "markdown",
      "source": [
        "# Import Data"
      ],
      "metadata": {}
    },
    {
      "id": "25t6_azELkmmpL2KrlobIg",
      "cell_type": "markdown",
      "source": [
        "<a id='year-and-period'></a>",
        "\n## Current Period"
      ],
      "metadata": {}
    },
    {
      "id": "p89NHTl7QUan7LJZcHQ7CA",
      "cell_type": "markdown",
      "source": [
        "Please select the target period (i.e. year and month), Reporting Node, Economic Basis, and Data Node based on the imported data:"
      ],
      "metadata": {}
    },
    {
      "id": "1AQXjlCH5UqQtZhHE_ToWA",
      "cell_type": "code",
      "source": [
        "var year            = 2021    ;",
        "\nvar month           = 3       ;",
        "\nvar reportingNode   = \"CH\"    ;",
        "\nvar economicBasis   = \"C\"     ;"
      ],
      "metadata": {},
      "execution_count": 1,
      "outputs": []
    },
    {
      "id": "C7KE2ugMTEeeZXpow5IctQ",
      "cell_type": "markdown",
      "source": [
        "Import the Dimensions, Yield Curves and Nominal Cashflows from the corresponding csv files in <code>Initialization/Systemorph/</code>"
      ],
      "metadata": {}
    },
    {
      "id": "o-K6Iedo20-WGrgowVvxNA",
      "cell_type": "code",
      "source": [
        "#!eval-notebook \"../Initialization/InitSystemorphBaseToMemory\""
      ],
      "metadata": {},
      "execution_count": 1,
      "outputs": []
    },
    {
      "id": "Kd4etWIfVECgbQOUwpJjng",
      "cell_type": "code",
      "source": [
        "Workspace.InitializeFrom(DataSource);"
      ],
      "metadata": {},
      "execution_count": 1,
      "outputs": []
    },
    {
      "id": "wRwk6MvytEO_Ynh6H4re9g",
      "cell_type": "markdown",
      "source": [
        "At this point reference data are loaded. Import now a cashfow file with a 720 elements."
      ],
      "metadata": {}
    },
    {
      "id": "u4C4qyNFokyVYXTnBsqhGw",
      "cell_type": "code",
      "source": [
        "var groupOfContract = \"GricComplex\";",
        "\nawait UploadCashflowsAsync(\"Data/CashflowComplex.csv\")"
      ],
      "metadata": {},
      "execution_count": 1,
      "outputs": []
    },
    {
      "id": "5qP7HJWjK0K-tb_-qAYFaw",
      "cell_type": "markdown",
      "source": [
        "Initialization of the Test suite: the data loaded from csv files are ready to be used by the Scopes for the calculations"
      ],
      "metadata": {}
    },
    {
      "id": "_NJvnl5PKE6FQXhN5Pr_tw",
      "cell_type": "code",
      "source": [
        "var Test = await StartCalculatorAsync(reportingNode, year, month, economicBasis, Periodicity.Quarterly, ImportFormats.Cashflow);"
      ],
      "metadata": {},
      "execution_count": 1,
      "outputs": []
    },
    {
      "id": "raVSJGuqL0i16HubdvKRSQ",
      "cell_type": "markdown",
      "source": [
        "<a id='view-loaded-data-nodes'></a>",
        "\n## View loaded Data Nodes"
      ],
      "metadata": {}
    },
    {
      "id": "C-jrvc1_akme8Lq4zXXNnA",
      "cell_type": "markdown",
      "source": [
        "The imported active Data Nodes from <code>Initialization/Systemorph/DataNodes.csv</code> are "
      ],
      "metadata": {}
    },
    {
      "id": "ayPI03mGFEuJqDditI5Zcg",
      "cell_type": "code",
      "source": [
        "Test.GetStorage().DataNodeDataBySystemName"
      ],
      "metadata": {},
      "execution_count": 1,
      "outputs": []
    },
    {
      "id": "PNkJZPN3D0OTE4K9m7yhtw",
      "cell_type": "markdown",
      "source": [
        "<a id='view-loaded-yearly-yield-curve'></a>",
        "\n## View loaded Yearly Yield Curve"
      ],
      "metadata": {}
    },
    {
      "id": "449EmK-s0EC-qvpkUic0Ng",
      "cell_type": "markdown",
      "source": [
        "Here the correct Yield Curve is chosen among those imported from <code>Initialization/Systemorph/Data.csv</code> according to the [current period](#year-and-period) and the Aoc Step according the [Aoc Configuration](../DataModel/DataStructure#aoc-configuration). In the following we retrieve the desired identity."
      ],
      "metadata": {}
    },
    {
      "id": "GFBbfoECXkyIOhUvzUj1YA",
      "cell_type": "code",
      "source": [
        "var aocType = \"CL\";",
        "\nvar novelty = \"C\";"
      ],
      "metadata": {},
      "execution_count": 1,
      "outputs": []
    },
    {
      "id": "Xh9Ph958zUaWPoHyXTfa7g",
      "cell_type": "code",
      "source": [
        "var id = Test.GetIdentity(groupOfContract, aocType, novelty);"
      ],
      "metadata": {},
      "execution_count": 1,
      "outputs": []
    },
    {
      "id": "LSypuaGSnkmcuusalSOIMw",
      "cell_type": "code",
      "source": [
        "var yearlyYieldCurve = Test.GetStorage().GetYearlyYieldCurve(id, economicBasis);"
      ],
      "metadata": {},
      "execution_count": 1,
      "outputs": []
    },
    {
      "id": "ZVGOGlL470Cv6pGp5K4TQA",
      "cell_type": "code",
      "source": [
        "yearlyYieldCurve"
      ],
      "metadata": {},
      "execution_count": 1,
      "outputs": []
    },
    {
      "id": "YHtOWxQvJUygOp9bM9DnOg",
      "cell_type": "markdown",
      "source": [
        "<a id='view-loaded-nominal-cashflows'></a>",
        "\n## View loaded Nominal Cashflows"
      ],
      "metadata": {}
    },
    {
      "id": "nuWozOR2zUqFJgmjZjSpSw",
      "cell_type": "markdown",
      "source": [
        "The nominal Cashflows for the current period are loaded together with last period Cashflows for Group of Contract that were already existent. ",
        "\n",
        "\nThe relative files are located in: <code>Files/</code>.",
        "\n",
        "\nThe result is showed in the following list to be compared with the entries of the csv files"
      ],
      "metadata": {}
    },
    {
      "id": "5XHFiMOI_k6ZLxFuzYGObA",
      "cell_type": "code",
      "source": [
        "Test.GetStorage().GetRawVariables(groupOfContract)"
      ],
      "metadata": {},
      "execution_count": 1,
      "outputs": []
    },
    {
      "id": "i5XQoNnkHkCwFkZK-wvzeg",
      "cell_type": "markdown",
      "source": [
        "<br/><br/>",
        "\n<a id='interest-and-discount-rates'></a>",
        "\n# Interest and Discount Rates"
      ],
      "metadata": {}
    },
    {
      "id": "QvPW08NJs0mc35ufVdJITA",
      "cell_type": "markdown",
      "source": [
        "The Yield Curve ${\\text{YC}_i}$ associated to the the [selected period](#year-and-period) and target currency of the Group of Contract Reporting Node is [displayed above](#view-loaded-yearly-yield-curve) and used in this section to calculate the Interest and Discount factors",
        "\n",
        "\n$$",
        "\n\\text{Interest}_i = \\big( 1 + \\text{YC}_i \\big) ^{\\frac{1}{12}} ~,",
        "\n$$",
        "\n",
        "\nand",
        "\n",
        "\n\\begin{align}",
        "\n\\text{Discount}_i = \\big( 1 + \\text{YC}_i \\big) ^{-\\frac{1}{12}} ~.",
        "\n\\end{align}"
      ],
      "metadata": {}
    },
    {
      "id": "Tx3o3lO8s0m5gv72S8Okfw",
      "cell_type": "markdown",
      "source": [
        "In the Scope named *MonthlyRate* the Interest and Discount factors are computed"
      ],
      "metadata": {}
    },
    {
      "id": "WjCiyKVx3UKysYDWgLig9w",
      "cell_type": "code",
      "source": [
        "var computedMonthlyRates = Test.GetScope<MonthlyRate>( id );"
      ],
      "metadata": {},
      "execution_count": 1,
      "outputs": []
    },
    {
      "id": "Q4y_soImlkyK0gLglSALsQ",
      "cell_type": "code",
      "source": [
        "computedMonthlyRates"
      ],
      "metadata": {},
      "execution_count": 1,
      "outputs": []
    },
    {
      "id": "fl25D0dZKk6SeRoszzGp6Q",
      "cell_type": "markdown",
      "source": [
        "## Interest"
      ],
      "metadata": {}
    },
    {
      "id": "Z9R5ky64QUmw-BnZLN2Jug",
      "cell_type": "markdown",
      "source": [
        "In the following, the Interest factors computed by the application are recalculated independently according to the formula above in two different ways"
      ],
      "metadata": {}
    },
    {
      "id": "JAjIqFrQ-UizVR9ENdEB5Q",
      "cell_type": "code",
      "source": [
        "var expectedInterest = yearlyYieldCurve.Select( yc => (1 + yc)^( 1.0 / 12.0) );",
        "\nexpectedInterest"
      ],
      "metadata": {},
      "execution_count": 1,
      "outputs": []
    },
    {
      "id": "KHb-pVU5lkKoPw1Yx6IOLw",
      "cell_type": "code",
      "source": [
        "from yc in yearlyYieldCurve select (1 + yc)^( 1.0 / 12.0 ) "
      ],
      "metadata": {},
      "execution_count": 1,
      "outputs": []
    },
    {
      "id": "eWIhGYRQQUSp9YT53BxCgw",
      "cell_type": "code",
      "source": [
        "computedMonthlyRates.Interest.CheckEquality( expectedInterest ).Should().Be(true);"
      ],
      "metadata": {},
      "execution_count": 1,
      "outputs": []
    },
    {
      "id": "Pt64D8ANL06gXx9he1WVzw",
      "cell_type": "markdown",
      "source": [
        "## Discount"
      ],
      "metadata": {}
    },
    {
      "id": "TPUopwWBTUG3gPPmb2B5Nw",
      "cell_type": "markdown",
      "source": [
        "The following recalculates the Discount factors to be compared with the computed values"
      ],
      "metadata": {}
    },
    {
      "id": "YtUiQ2xnzE2FfAa6LlAcfw",
      "cell_type": "code",
      "source": [
        "var expectedDiscount = yearlyYieldCurve.Select( yc => (1 + yc)^( -1.0 / 12.0) );",
        "\nexpectedDiscount"
      ],
      "metadata": {},
      "execution_count": 1,
      "outputs": []
    },
    {
      "id": "ZGVBiwBOUk-I3JmXZnK4JA",
      "cell_type": "code",
      "source": [
        "computedMonthlyRates.Discount.CheckEquality( expectedDiscount ).Should().Be(true);"
      ],
      "metadata": {},
      "execution_count": 1,
      "outputs": []
    },
    {
      "id": "lMyTCC6GPUW45Cvx6U3JRw",
      "cell_type": "markdown",
      "source": [
        "## Test method: Get Valid Element"
      ],
      "metadata": {}
    },
    {
      "id": "FZ9_fdXlIECy7PDdcDlH1Q",
      "cell_type": "markdown",
      "source": [
        "Given the present Yield Curve array has finite *length*, the extrapolation implemented is taking the last element for all successive years. This behavior is given by the function *GetValidElement*. The test in this section assures that constant extrapolation is taken for *index* > *length*"
      ],
      "metadata": {}
    },
    {
      "id": "IfoqWI9zGkGc-Po9tnOcoQ",
      "cell_type": "code",
      "source": [
        "expectedDiscount.GetValidElement( 120 )"
      ],
      "metadata": {},
      "execution_count": 1,
      "outputs": []
    },
    {
      "id": "Z5ZpUs9wmUWbGWk6GcxNeA",
      "cell_type": "code",
      "source": [
        "expectedDiscount.GetValidElement( 120 ).Should().Be( expectedDiscount.Last() );"
      ],
      "metadata": {},
      "execution_count": 1,
      "outputs": []
    },
    {
      "id": "-KgziQbrF0mQYRsvkSkeGw",
      "cell_type": "markdown",
      "source": [
        "<br/><br/>",
        "\n# Cashflows"
      ],
      "metadata": {}
    },
    {
      "id": "ITDv12Ph90ObEuoxNIr45w",
      "cell_type": "markdown",
      "source": [
        "This section deals with the calculation of the *Cumulated Discounted Cashflows* (CDC) starting from the nominal Cashflows. "
      ],
      "metadata": {}
    },
    {
      "id": "Isggf5h2S0unL3O7pgAirQ",
      "cell_type": "markdown",
      "source": [
        "## Choose identity"
      ],
      "metadata": {}
    },
    {
      "id": "pwQ4TMUvhUK-StHJEDFlCg",
      "cell_type": "markdown",
      "source": [
        "Each loaded nominal Cashflows is assigned to a so-called *Identity* which uniquely identifies it based on the *Data Node*, *Aoc Type*, and *Novelty*. In the following cells we retrieve the desired Identity:"
      ],
      "metadata": {}
    },
    {
      "id": "3MHGdD0V1k6cXBNxvaUgHA",
      "cell_type": "code",
      "source": [
        "var aocType = \"CL\";",
        "\nvar novelty = \"C\";"
      ],
      "metadata": {},
      "execution_count": 1,
      "outputs": []
    },
    {
      "id": "gPX1Ygo_DECIrwFPBvRXSQ",
      "cell_type": "code",
      "source": [
        "var id = Test.GetIdentity(groupOfContract, aocType, novelty);"
      ],
      "metadata": {},
      "execution_count": 1,
      "outputs": []
    },
    {
      "id": "KOWB-LuZSE6jCwSkVWLqLQ",
      "cell_type": "markdown",
      "source": [
        "<a id='nominal-cashflow'></a>",
        "\n## Nominal Cashflow"
      ],
      "metadata": {}
    },
    {
      "id": "7wA9Mo5SWkGRA9UpDIfDug",
      "cell_type": "markdown",
      "source": [
        "Consider the two Amount Type *PR* and *NIC*, with Transaction Period being *Beginning of Period* (BOP) and *End of Period* (EOP), respectively. The corresponding nominal Cashflows are deposited in the Scopes named *NominalCashflow* with the Identity provided above, Calculation Type *BE*, and the aforementioned Amount Types. These nominal Cashflows correspond with those [loaded from the csv files](#view-loaded-nominal-cashflows).  "
      ],
      "metadata": {}
    },
    {
      "id": "mlWZ7mpOFkSD2Ru1TCl59g",
      "cell_type": "code",
      "source": [
        "var amountTypePR = \"PR\";",
        "\nvar amountTypeNIC = \"NIC\";",
        "\nvar calculationType = \"BE\";",
        "\nvar accidentYear = (int?)null;"
      ],
      "metadata": {},
      "execution_count": 1,
      "outputs": []
    },
    {
      "id": "9TXHMp0XEEKq8LfUzqH9CA",
      "cell_type": "code",
      "source": [
        "var nominalPR = Test.GetScope<NominalCashflow>((id, amountTypePR, calculationType, accidentYear));"
      ],
      "metadata": {},
      "execution_count": 1,
      "outputs": []
    },
    {
      "id": "WlEihYtxbECHWuuKVgue_w",
      "cell_type": "code",
      "source": [
        "nominalPR"
      ],
      "metadata": {},
      "execution_count": 1,
      "outputs": []
    },
    {
      "id": "NERNBoD-OkiRREaV55ijeA",
      "cell_type": "code",
      "source": [
        "var nominalNIC = Test.GetScope<NominalCashflow>((id, amountTypeNIC, calculationType, accidentYear));"
      ],
      "metadata": {},
      "execution_count": 1,
      "outputs": []
    },
    {
      "id": "hFfWM0bKxkW3mOhIZgZ5AQ",
      "cell_type": "code",
      "source": [
        "nominalNIC"
      ],
      "metadata": {},
      "execution_count": 1,
      "outputs": []
    },
    {
      "id": "765s5aL5Z0K0t5ZLuyCojg",
      "cell_type": "markdown",
      "source": [
        "<a id='cumulated-discounted-cashflow'></a>",
        "\n## Cumulated Discounted Cashflow"
      ],
      "metadata": {}
    },
    {
      "id": "JT4SSHYyVkK6kvw6pm1RYQ",
      "cell_type": "markdown",
      "source": [
        "The CDC is defined by the following recursive formulas",
        "\n",
        "\n$$",
        "\n\\text{CDC}_t = \\left\\{",
        "\n\\begin{array}{cl}",
        "\n\\text{Nominal}_t + \\text{CDC}_{t+1} \\cdot {\\text{Valid Discount}_{\\frac{t}{12}}} ~, & \\text{if Transaction Period is Beginning of Period} \\\\",
        "\n\\big( \\text{Nominal}_t + \\text{CDC}_{t+1} \\big) \\cdot {\\text{Valid Discount}_{\\frac{t}{12}}} ~, & \\text{if Transaction Period is End of Period}",
        "\n\\end{array}",
        "\n\\right.",
        "\n$$",
        "\n",
        "\nwhere the Transaction Period depends on the given cashflow Amount Type. "
      ],
      "metadata": {}
    },
    {
      "id": "d_iKZefoME6wTrnz9UAv5A",
      "cell_type": "markdown",
      "source": [
        "### Beginning of Period"
      ],
      "metadata": {}
    },
    {
      "id": "espKPj1dtUuJz8XXQUAKzg",
      "cell_type": "markdown",
      "source": [
        "The Amount Type **Premiums** (PR) has Transaction Period **Beginning of Period** (BOP). The corresponding CDC calculated by the application is"
      ],
      "metadata": {}
    },
    {
      "id": "T7aVgGRgDEakkG-s3lfN0g",
      "cell_type": "code",
      "source": [
        "var computedDiscountedPR = Test.GetScope<DiscountedCashflow>((id, amountTypePR, calculationType, accidentYear));"
      ],
      "metadata": {},
      "execution_count": 1,
      "outputs": []
    },
    {
      "id": "3FU71v2QJkyxs_bZfP4Uow",
      "cell_type": "code",
      "source": [
        "computedDiscountedPR"
      ],
      "metadata": {},
      "execution_count": 1,
      "outputs": []
    },
    {
      "id": "4YMOoutvQU-8pkN7n6TASQ",
      "cell_type": "markdown",
      "source": [
        "In the following cell we independently evaluate the expected discounted cashflow according to the formula above:"
      ],
      "metadata": {}
    },
    {
      "id": "ybObocoOVUKh6wl-2THKMA",
      "cell_type": "code",
      "source": [
        "var expectedDiscountedPR = new double[nominalPR.Values.Length];",
        "\n",
        "\nEnumerable.Range(0, nominalPR.Values.Length).Reverse()",
        "\n    .ForEach( i => expectedDiscountedPR[i] = nominalPR.Values[i] + expectedDiscountedPR.GetValidElement(i+1) * expectedDiscount.GetValidElement(i/12) );"
      ],
      "metadata": {},
      "execution_count": 1,
      "outputs": []
    },
    {
      "id": "z256hRI3W0-dt-SPwhspvA",
      "cell_type": "code",
      "source": [
        "expectedDiscountedPR"
      ],
      "metadata": {},
      "execution_count": 1,
      "outputs": []
    },
    {
      "id": "kS81thpvcUK8_BDbmIGAew",
      "cell_type": "code",
      "source": [
        "(nominalPR.Values, nominalPR.Values.Length)"
      ],
      "metadata": {},
      "execution_count": 1,
      "outputs": []
    },
    {
      "id": "BVho0r3vFECpLdRKqXPiJQ",
      "cell_type": "markdown",
      "source": [
        "The expected cumulated discount is compared with the computed values"
      ],
      "metadata": {}
    },
    {
      "id": "rFrYAjOqPU6GlakOLi6Whg",
      "cell_type": "code",
      "source": [
        "computedDiscountedPR.Values.CheckEquality( expectedDiscountedPR )"
      ],
      "metadata": {},
      "execution_count": 1,
      "outputs": []
    },
    {
      "id": "CNA426Ac4ESI3ob66JKdfg",
      "cell_type": "code",
      "source": [
        "computedDiscountedPR.Values.CheckEquality( expectedDiscountedPR ).Should().Be(true);"
      ],
      "metadata": {},
      "execution_count": 1,
      "outputs": []
    },
    {
      "id": "qGuikH-yU0uOYPbqe-xgiA",
      "cell_type": "markdown",
      "source": [
        "### End Of Period"
      ],
      "metadata": {}
    },
    {
      "id": "PxdI661DkEOx8fXIEikCeg",
      "cell_type": "markdown",
      "source": [
        "The Amount Type **Non Investment Component** (NIC) has Transaction Period **End of Period** (EOP). The corresponding CDC calculated by the application is"
      ],
      "metadata": {}
    },
    {
      "id": "glGfJSBB_UyhR3a-IkrEyw",
      "cell_type": "code",
      "source": [
        "var computedDiscountedNIC = Test.GetScope<DiscountedCashflow>((id, amountTypeNIC, calculationType, accidentYear));"
      ],
      "metadata": {},
      "execution_count": 1,
      "outputs": []
    },
    {
      "id": "RYBSPN2Cvk-wIGFAo24vXA",
      "cell_type": "code",
      "source": [
        "computedDiscountedNIC"
      ],
      "metadata": {},
      "execution_count": 1,
      "outputs": []
    },
    {
      "id": "qHM_Iqz93Ee9T-BENSbB6Q",
      "cell_type": "markdown",
      "source": [
        "In the following cell we independently evaluate the expected discounted cashflow according to the formula above:"
      ],
      "metadata": {}
    },
    {
      "id": "MROITxwMj0ujWWt4L-Up3w",
      "cell_type": "code",
      "source": [
        "var expectedDiscountedNIC = new double[nominalNIC.Values.Length];",
        "\n",
        "\nEnumerable.Range(0, nominalNIC.Values.Length).Reverse()",
        "\n    .ForEach( i => expectedDiscountedNIC[i] = ( nominalNIC.Values[i] + expectedDiscountedNIC.GetValidElement(i+1) ) * expectedDiscount.GetValidElement(i/12) );"
      ],
      "metadata": {},
      "execution_count": 1,
      "outputs": []
    },
    {
      "id": "oHNnWbOAC02remoQuB3xeQ",
      "cell_type": "code",
      "source": [
        "expectedDiscountedNIC"
      ],
      "metadata": {},
      "execution_count": 1,
      "outputs": []
    },
    {
      "id": "pxhcnJV1UUuGT40Y5o79JA",
      "cell_type": "markdown",
      "source": [
        "The expected cumulated discount is compared with the computed values"
      ],
      "metadata": {}
    },
    {
      "id": "fB_CWCbH30qYOnXykKpInQ",
      "cell_type": "code",
      "source": [
        "computedDiscountedNIC.Values.CheckEquality( expectedDiscountedNIC )"
      ],
      "metadata": {},
      "execution_count": 1,
      "outputs": []
    },
    {
      "id": "s2gR76itBESoEBFxheTs2g",
      "cell_type": "code",
      "source": [
        "computedDiscountedNIC.Values.CheckEquality( expectedDiscountedNIC ).Should().Be(true);"
      ],
      "metadata": {},
      "execution_count": 1,
      "outputs": []
    },
    {
      "id": "WdMso-NBKku_uV1NVbeBoQ",
      "cell_type": "markdown",
      "source": [
        "<a id='non-performance-risk-adjustment'></a>",
        "\n## Non Performance Risk Adjustment"
      ],
      "metadata": {}
    },
    {
      "id": "x6qIuyV8iUmHNpSrP7kT_Q",
      "cell_type": "markdown",
      "source": [
        "In this section we treat the determination of the non-performance risk adjustment, an element offsetting partially future",
        "\nclaims according to the risk that the reinsurance company cannot fulfil the full extent of its obligations.",
        "\n",
        "\nFirstly, the discounting recursive relation can be written explicitly as",
        "\n",
        "\n$$",
        "\n\\begin{array}{l}",
        "\n\\text{CDC}_t = \\big( \\text{Nominal}_t + \\text{CDC}_{t+1} \\big) \\cdot {\\text{Valid Discount}_{\\frac{t}{12}}} \\\\",
        "\n\\Rightarrow \\text{CDC}_t = \\sum_{\\tau=t} \\big( \\text{Valid Discount}_{\\frac{t}{12}} \\big)^{\\tau-t+1} \\cdot \\text{Nominal}_\\tau ",
        "\n\\end{array}",
        "\n$$",
        "\n",
        "\nFor nominal Cashflows with Amount Type being *Claims*, the risk-adjusted Cumulated Discounted Cashflow ",
        "\nis assigned the Amount Type **Credit Default Risk** (CDR), ",
        "\nand is obtained by multiplying the right hand side of the latter formula by the corresponding risk factor",
        "\n",
        "\n$$",
        "\n\\text{CDC}_t^{\\text{Amount Type}=\\text{CDR}} = \\sum_{\\tau=t} \\big( \\text{Valid Discount}_{\\frac{t}{12}} \\big)^{\\tau-t+1} \\cdot \\text{Nominal}_\\tau^{\\text{Claim}} \\cdot \\big( e^{-\\gamma(\\tau-t)} -1 \\big)",
        "\n$$",
        "\n",
        "\nwhere $\\gamma$ is the assumed non-performance probability of the reinsurer to be provided as an [input parameter](../DataModel/DataStructure#credit-default-rate).",
        "\n",
        "\nThis rate is constant for the whole projection period, that is, $\\gamma$ is not a function of $t$. ",
        "\nIt effectively amounts to a constant increase in the continuous discount rate by $\\gamma$. "
      ],
      "metadata": {}
    },
    {
      "id": "a0Ap0lOGJE21INUHWmjGoQ",
      "cell_type": "markdown",
      "source": [
        "### Explicit vs recursive formula"
      ],
      "metadata": {}
    },
    {
      "id": "pbGuRNJm70SkHeIktIoBDQ",
      "cell_type": "markdown",
      "source": [
        "The explicit formula is tested versus the expected result obtained with the recursive formula"
      ],
      "metadata": {}
    },
    {
      "id": "e6e-jV9vnE6RTUlNhgK1Vw",
      "cell_type": "code",
      "source": [
        "var expectedDiscountedNICbis = new double[nominalNIC.Values.Length];",
        "\n",
        "\n//for(int t = 0; t < 12; t++)",
        "\n//    for(int tau = t; tau < 12; tau++)",
        "\n//        expectedDiscountedNICbis[t] += nominalNIC.Values[tau] * Math.Pow(expectedDiscount.GetValidElement(t/12), tau-t+1);",
        "\n",
        "\nEnumerable.Range(0, nominalNIC.Values.Length)",
        "\n    .ForEach( i => expectedDiscountedNICbis[i] = ",
        "\n        Enumerable.Range(i, nominalNIC.Values.Length-i).Select( tau => nominalNIC.Values[tau] * Math.Pow(expectedDiscount.GetValidElement(i/12), tau-i+1) ).Sum() );",
        "\n    ",
        "\nexpectedDiscountedNIC.CheckEquality( expectedDiscountedNICbis )"
      ],
      "metadata": {},
      "execution_count": 1,
      "outputs": []
    },
    {
      "id": "7VKY58rmN0i4hNUObTx5Lg",
      "cell_type": "markdown",
      "source": [
        "### Risk Adjusted Claims "
      ],
      "metadata": {}
    },
    {
      "id": "CDMXGMuNGUWSY2-VFbiSkQ",
      "cell_type": "markdown",
      "source": [
        "The computed CDC with Amount Type being CDR reads"
      ],
      "metadata": {}
    },
    {
      "id": "XnvESgljxkSWyht7EqW7NA",
      "cell_type": "code",
      "source": [
        "var computedDiscountedCRD = Test.GetScope<DiscountedCashflow>((id, \"CDR\", calculationType, accidentYear));"
      ],
      "metadata": {},
      "execution_count": 1,
      "outputs": []
    },
    {
      "id": "reDXOTbUxEGUchxSzysJog",
      "cell_type": "code",
      "source": [
        "computedDiscountedCRD"
      ],
      "metadata": {},
      "execution_count": 1,
      "outputs": []
    },
    {
      "id": "nv4x6ysZxEmmtipcaDJy9g",
      "cell_type": "markdown",
      "source": [
        "The starting point for the non performance risk adjustment is the computation of the sum of nominal Cashflows with Amount Type **Claims** listed below"
      ],
      "metadata": {}
    },
    {
      "id": "bOQ1CXDjbUOygxJaPI-XYQ",
      "cell_type": "code",
      "source": [
        "Test.GetStorage().GetClaims()"
      ],
      "metadata": {},
      "execution_count": 1,
      "outputs": []
    },
    {
      "id": "0pTAfl977UK_SmRREnPF6Q",
      "cell_type": "markdown",
      "source": [
        "with the corresponding nominal Cashflows being"
      ],
      "metadata": {}
    },
    {
      "id": "syJWhInzsEObE2ykdoGLew",
      "cell_type": "code",
      "source": [
        "var nominalNIC = Test.GetScope<NominalCashflow>((id, \"NIC\", calculationType, accidentYear));",
        "\nnominalNIC"
      ],
      "metadata": {},
      "execution_count": 1,
      "outputs": []
    },
    {
      "id": "C7ko6wgyUkSyCQS2-Q8GuQ",
      "cell_type": "code",
      "source": [
        "var nominalICO = Test.GetScope<NominalCashflow>((id, \"ICO\", calculationType, accidentYear));",
        "\nnominalICO"
      ],
      "metadata": {},
      "execution_count": 1,
      "outputs": []
    },
    {
      "id": "GrTtn99Pc0KsTrYaIj7vhg",
      "cell_type": "code",
      "source": [
        "var nominalALE = Test.GetScope<NominalCashflow>((id, \"ALE\", calculationType, accidentYear));",
        "\nnominalNIC"
      ],
      "metadata": {},
      "execution_count": 1,
      "outputs": []
    },
    {
      "id": "gAGXa9ftTUODRVbLikWr2A",
      "cell_type": "code",
      "source": [
        "var nominalULE = Test.GetScope<NominalCashflow>((id, \"ULE\", calculationType, accidentYear));",
        "\nnominalNIC"
      ],
      "metadata": {},
      "execution_count": 1,
      "outputs": []
    },
    {
      "id": "ybob0Y2K00ysBNz_vpid2w",
      "cell_type": "code",
      "source": [
        "var nominalClaims = nominalICO.Values + nominalNIC.Values + nominalALE.Values + nominalULE.Values;"
      ],
      "metadata": {},
      "execution_count": 1,
      "outputs": []
    },
    {
      "id": "7UXMUmrFwEKfhXV-EPyNOQ",
      "cell_type": "markdown",
      "source": [
        "Secondly, the correct credit risk rate (parameter $\\gamma$ in the [formula above](#non-performance-risk-adjustment)) is retrieved from the list of imported [Partner Rating](../DataModel/DataStructure) and [Credit Default Rates](../DataModel/DataStructure) relative to the target [Data Node](#year-and-period)'s Partner"
      ],
      "metadata": {}
    },
    {
      "id": "to_RSXazSEKtePbtjP11bA",
      "cell_type": "code",
      "source": [
        "groupOfContract"
      ],
      "metadata": {},
      "execution_count": 1,
      "outputs": []
    },
    {
      "id": "qblrNkgGZkibWZqeduwsJg",
      "cell_type": "code",
      "source": [
        "var creditDefaultRate = Test.GetStorage().GetNonPerformanceRiskRate( id );",
        "\ncreditDefaultRate"
      ],
      "metadata": {},
      "execution_count": 1,
      "outputs": []
    },
    {
      "id": "OAZT23-9Uk2Bs3qRbvUOKw",
      "cell_type": "markdown",
      "source": [
        "Lastly, using the [formula above](#non-performance-risk-adjustment), the expected CDR discounted Cashflow can be computed"
      ],
      "metadata": {}
    },
    {
      "id": "rUJBZVBNdU-8u5dSP4bv8w",
      "cell_type": "code",
      "source": [
        "var expectedDiscountedCDR = new double[nominalNIC.Values.Length];",
        "\n",
        "\nEnumerable.Range(0, nominalClaims.Length).ForEach( t => ",
        "\n    expectedDiscountedCDR[t] = Enumerable.Range(t, nominalClaims.Length-t).Select( tau => ",
        "\n                                  nominalClaims[tau] * Math.Pow(expectedDiscount.GetValidElement(t/12), tau-t+1) * (Math.Exp(-creditDefaultRate*(tau-t)) - 1)",
        "\n                               ).Sum() );",
        "\n",
        "\nexpectedDiscountedCDR"
      ],
      "metadata": {},
      "execution_count": 1,
      "outputs": []
    },
    {
      "id": "kKmpjPuP70GAVkBoNBqNrA",
      "cell_type": "markdown",
      "source": [
        "Finally, the expected cumulated discount is compared with the computed values"
      ],
      "metadata": {}
    },
    {
      "id": "m_bSBl61DE26IDp7VpY6dg",
      "cell_type": "code",
      "source": [
        "computedDiscountedCRD.Values.CheckEquality( expectedDiscountedCDR )"
      ],
      "metadata": {},
      "execution_count": 1,
      "outputs": []
    },
    {
      "id": "DqkJo2YgcE65RX7db90WKQ",
      "cell_type": "code",
      "source": [
        "computedDiscountedCRD.Values.CheckEquality( expectedDiscountedCDR ).Should().Be(true);"
      ],
      "metadata": {},
      "execution_count": 1,
      "outputs": []
    },
    {
      "id": "mvwCM2Umf0OZHCcpOt9V5Q",
      "cell_type": "markdown",
      "source": [
        "<br/><br/>",
        "\n<a id='present-values'></a>",
        "\n# Present Values"
      ],
      "metadata": {}
    },
    {
      "id": "jzTF3NdnHkqzQ4KSajU3ig",
      "cell_type": "markdown",
      "source": [
        "For an implementation of these formulas refer to the [ImportScopeCalculation notebook](../Import/ImportScopeCalculation). "
      ],
      "metadata": {}
    },
    {
      "id": "g03stTrBDk-qgVynbAHR8w",
      "cell_type": "markdown",
      "source": [
        "The company portfolio value in one period is given by the following Analysis of Change AoC steps:",
        "\n1. Beginning of Period (BoP): starting value of the portfolio as of December last year (in the Year to Date view), ",
        "\n2. Model Corrections (MC): change of the portfolio value based on the model change,",
        "\n3. Cash Flow (CF):",
        "\n4. Interest Accretion (IA): ",
        "\n5. Assumption Update (AU): ",
        "\n6. Yield Curve Update (YCU): impact of yield curve update occured during the reporting period,",
        "\n7. Credit Risk Update (CRU): impact of credit default rate update occured during the reporting period,",
        "\n8. Experience Variance (EV): value adjustments following insurance related events which took place (e.g. mortality),",
        "\n9. Combined Liabilities (CL):",
        "\n10. End of Period (EOP): portfolio value at the end of the current period.",
        "\n",
        "\nNote: the AoC steps WO, EA and AM are not included in the Present Value calculation, hence their values if inquired is zero."
      ],
      "metadata": {}
    },
    {
      "id": "YcUNq4BqbUuS6xpbevFZDw",
      "cell_type": "markdown",
      "source": [
        "The Present Value Base (PVB) values are valid for all [Economic Basis](../DataModel/DataStructure#economic-basis) and depends on the corresponding [AoCType](../DataModel/DataStructure#aoc-type):",
        "\n",
        "\n$$",
        "\n\\text{PVB}_t \\big(\\text{AoC}\\big) = ",
        "\n\\left\\{",
        "\n\\begin{array}{cl}",
        "\n\\text{CDC}_t                                                           & \\text{if AoC is Beginning of Period (BOP) } \\\\",
        "\n-\\text{Nominal}_t(\\text{Parent AoC})                                   & \\text{if AoC is Expected Cashflow (CF) } \\\\",
        "\n\\text{InterestAccretion}_t                                             & \\text{if AoC is Interest Accretion (IA) } \\\\",
        "\n\\text{CDC}_t(\\text{Parent AoC})                                        & \\text{if AoC is End of Period (EOP) } \\\\",
        "\n\\text{CDC}_{t}(\\text{current AoC}) - \\text{CDC}_{t}(\\text{parent AoC}) & \\text{otherwise}",
        "\n\\end{array}",
        "\n\\right.",
        "\n$$",
        "\n",
        "\nand the Projected Present Value (PPV) reads",
        "\n",
        "\n$$",
        "\n\\text{PPV} \\big(\\text{AoC},\\text{TS},\\text{S}\\big) = \\left\\{",
        "\n\\begin{array}{cll}",
        "\n\\text{PVB}_{S}                        & \\text{if AoC Valuation Period is Beginning of Period } & \\text{ (e.g. BOP, MC) } \\\\",
        "\n\\text{PVB}_{S+TS/2 -1}                & \\text{if AoC Valuation Period is Mid of Period }       & \\text{ (no examples in current data model) } \\\\",
        "\n\\sum_{i=S}^{S + TS -1}\\text{PVB}_{i}  & \\text{if AoC Valuation Period is Delta }               & \\text{ (e.g. CF, IA) } \\\\",
        "\n\\text{PVB}_{S + TS}                   & \\text{if AoC Valuation Period is End of Period }       & \\text{ (e.g. YCU, CRU, EV, CL, EOP) } \\\\",
        "\n\\end{array}",
        "\n\\right.",
        "\n$$",
        "\n",
        "\nwhere the Shift (S) and Time Step (TS) are derived from the current [Year and Period](#year-and-period)"
      ],
      "metadata": {}
    },
    {
      "id": "96OPjQu30EWs42-nfLhp4A",
      "cell_type": "code",
      "source": [
        "var projectionPeriod = 0;"
      ],
      "metadata": {},
      "execution_count": 1,
      "outputs": []
    },
    {
      "id": "4ZzZwXo6T0-e0QLjP8y4hg",
      "cell_type": "code",
      "source": [
        "Test.GetStorage().GetShift(projectionPeriod)"
      ],
      "metadata": {},
      "execution_count": 1,
      "outputs": []
    },
    {
      "id": "netwTLrv3EmUheR4K9fkww",
      "cell_type": "code",
      "source": [
        "Test.GetStorage().GetTimeStep(projectionPeriod)"
      ],
      "metadata": {},
      "execution_count": 1,
      "outputs": []
    },
    {
      "id": "HMUKlLJN6kCSVDgFWS5NUw",
      "cell_type": "markdown",
      "source": [
        "## Load Cashflow Data"
      ],
      "metadata": {}
    },
    {
      "id": "HZbqZPP1wUiVXHajP55O6w",
      "cell_type": "code",
      "source": [
        "#!eval-notebook \"../Initialization/InitSystemorphToMemory\""
      ],
      "metadata": {},
      "execution_count": 1,
      "outputs": []
    },
    {
      "id": "ZWm_0QT1NEy3vrI1pssFEg",
      "cell_type": "code",
      "source": [
        "Workspace.InitializeFrom(DataSource);"
      ],
      "metadata": {},
      "execution_count": 1,
      "outputs": []
    },
    {
      "id": "ERPDxPrxRE2F80hUf91cqQ",
      "cell_type": "markdown",
      "source": [
        "At this point standard Cashflows are loaded."
      ],
      "metadata": {}
    },
    {
      "id": "5qSxlX_u-0a1kyOkKpWkrw",
      "cell_type": "markdown",
      "source": [
        "Initialization of the Test suite: the data loaded from csv files are ready to be used by the Scopes for the calculations"
      ],
      "metadata": {}
    },
    {
      "id": "yQhC05DCzEGeOGNpEf3mbg",
      "cell_type": "code",
      "source": [
        "var Test = await StartCalculatorAsync(reportingNode, year, month, economicBasis, Periodicity.Quarterly, ImportFormats.Cashflow);"
      ],
      "metadata": {},
      "execution_count": 1,
      "outputs": []
    },
    {
      "id": "R-gHWFQh4USaSbZeSX4nRA",
      "cell_type": "markdown",
      "source": [
        "## Select Group of Contract",
        "\n",
        "\nHere, it is possible to select the Group of Contract used to run the next section of this Notebook."
      ],
      "metadata": {}
    },
    {
      "id": "S6Fw2Fa0UUOkuS8wyQfBtg",
      "cell_type": "code",
      "source": [
        "groupOfContract = \"DTR1.1\" ;"
      ],
      "metadata": {},
      "execution_count": 1,
      "outputs": []
    },
    {
      "id": "hT5J5i-Tk0evmsGzFslKZA",
      "cell_type": "markdown",
      "source": [
        "## Beginning of Period"
      ],
      "metadata": {}
    },
    {
      "id": "nvqfr4Ux3kWlzwsCW0_USg",
      "cell_type": "markdown",
      "source": [
        "The computed Present Value for Aoc type Beginning of Period is:"
      ],
      "metadata": {}
    },
    {
      "id": "fC63Uw1ey0OYVorrzegYrA",
      "cell_type": "code",
      "source": [
        "var idBoP = Test.GetIdentity(groupOfContract, \"BOP\", \"I\");",
        "\nidBoP"
      ],
      "metadata": {},
      "execution_count": 1,
      "outputs": []
    },
    {
      "id": "-_jk2YKNT0u7l9uCTrc18w",
      "cell_type": "code",
      "source": [
        "var computedPresentValueBoP_PR = Test.GetScope<PresentValue>((idBoP, \"PR\", \"BE\", (int?)null));",
        "\ncomputedPresentValueBoP_PR"
      ],
      "metadata": {},
      "execution_count": 1,
      "outputs": []
    },
    {
      "id": "ddqVdgtt20KgvWxmw6d8tQ",
      "cell_type": "markdown",
      "source": [
        "According to the [formula](#present-values) above, the expected BOP AoCType for PVB is defined to be equal to the discounted cashflows with the same Identity, Amount Type, and Calculation Type, whereas the PPV is the S-th element of the PVB."
      ],
      "metadata": {}
    },
    {
      "id": "UCd_zlXg7UKAz7Ak8etIKQ",
      "cell_type": "code",
      "source": [
        "var discountedBoP_PR = Test.GetScope<DiscountedCashflow>((idBoP, \"PR\", \"BE\", (int?)null));",
        "\ndiscountedBoP_PR"
      ],
      "metadata": {},
      "execution_count": 1,
      "outputs": []
    },
    {
      "id": "he2CNq7s20a2kIAEI1Ew5A",
      "cell_type": "code",
      "source": [
        "var expectedPresentValueBoP_PR = discountedBoP_PR.Values;"
      ],
      "metadata": {},
      "execution_count": 1,
      "outputs": []
    },
    {
      "id": "k8y7lMCUU0ahMIV2XNly5w",
      "cell_type": "markdown",
      "source": [
        "In the following cell we check whether the expected values match the computed values"
      ],
      "metadata": {}
    },
    {
      "id": "E_a4AaUiYU-qVqiFMH4Ffg",
      "cell_type": "code",
      "source": [
        "computedPresentValueBoP_PR.Values.CheckEquality( expectedPresentValueBoP_PR )"
      ],
      "metadata": {},
      "execution_count": 1,
      "outputs": []
    },
    {
      "id": "USXwqdZpmEOlDJdxqDBZaA",
      "cell_type": "code",
      "source": [
        "computedPresentValueBoP_PR.Values.CheckEquality( expectedPresentValueBoP_PR ).Should().Be(true);"
      ],
      "metadata": {},
      "execution_count": 1,
      "outputs": []
    },
    {
      "id": "-zbiX1EOvUaXOZIuba9Jbw",
      "cell_type": "markdown",
      "source": [
        "<a id='model-corrections'></a>",
        "\n## Model Corrections"
      ],
      "metadata": {}
    },
    {
      "id": "8tg7sZov10aMykVfqjUstg",
      "cell_type": "markdown",
      "source": [
        "The computed Present Value for Aoc type Model Corrections is:"
      ],
      "metadata": {}
    },
    {
      "id": "CxmloqNXXkaE5PpJU1ydAQ",
      "cell_type": "code",
      "source": [
        "var idMC = Test.GetIdentity(groupOfContract, \"MC\", \"I\");",
        "\nidMC"
      ],
      "metadata": {},
      "execution_count": 1,
      "outputs": []
    },
    {
      "id": "nvbs4pu8Sk-fnfw1MqBJEQ",
      "cell_type": "code",
      "source": [
        "var computedPresentValueMC_PR = Test.GetScope<PresentValue>((idMC, \"PR\", \"BE\", (int?)null));",
        "\ncomputedPresentValueMC_PR"
      ],
      "metadata": {},
      "execution_count": 1,
      "outputs": []
    },
    {
      "id": "8I2WEVons0iuf2UA4TyGtQ",
      "cell_type": "markdown",
      "source": [
        "According to the [formula](#present-values) above, for MC AoCType, the PVB is equal to the difference between the CDC of the current AoCType and the CDC of its parent. Additionally, the PPV is the S-th element of the PVB."
      ],
      "metadata": {}
    },
    {
      "id": "XX3McWqdQECPv33I70zR8w",
      "cell_type": "code",
      "source": [
        "Test.GetScope<ParentAocStep>((idMC, \"PR\")).Values"
      ],
      "metadata": {},
      "execution_count": 1,
      "outputs": []
    },
    {
      "id": "dnlMbprPGEefEvBLpE3SVA",
      "cell_type": "code",
      "source": [
        "var discountedMC_PR = Test.GetScope<DiscountedCashflow>((idMC, \"PR\", \"BE\", (int?)null));",
        "\ndiscountedMC_PR"
      ],
      "metadata": {},
      "execution_count": 1,
      "outputs": []
    },
    {
      "id": "pqOSCzCTJEyNauxM07RTvg",
      "cell_type": "code",
      "source": [
        "var expectedPresentValueMC_PR = discountedMC_PR.Values - discountedBoP_PR.Values;"
      ],
      "metadata": {},
      "execution_count": 1,
      "outputs": []
    },
    {
      "id": "gjdYsN-ftE-HlOKgEwvQLg",
      "cell_type": "markdown",
      "source": [
        "The expected PVB and PPV are compared with the computed results in the following two cells: "
      ],
      "metadata": {}
    },
    {
      "id": "WOMu6tnVOEWiRZqaziMRcg",
      "cell_type": "code",
      "source": [
        "computedPresentValueMC_PR.Values.CheckEquality( expectedPresentValueMC_PR )"
      ],
      "metadata": {},
      "execution_count": 1,
      "outputs": []
    },
    {
      "id": "TvZ78p6vLkCL-xejOqvUcw",
      "cell_type": "code",
      "source": [
        "computedPresentValueMC_PR.Value == expectedPresentValueMC_PR[0]"
      ],
      "metadata": {},
      "execution_count": 1,
      "outputs": []
    },
    {
      "id": "w9D4tVGk5UmDB-tTCeS5Rw",
      "cell_type": "code",
      "source": [
        "computedPresentValueMC_PR.Values.CheckEquality( expectedPresentValueMC_PR ).Should().Be(true);"
      ],
      "metadata": {},
      "execution_count": 1,
      "outputs": []
    },
    {
      "id": "nnvwi_zKy0ebrac1nrqanQ",
      "cell_type": "code",
      "source": [
        "computedPresentValueMC_PR.Value.Should().Be( expectedPresentValueMC_PR[0] );"
      ],
      "metadata": {},
      "execution_count": 1,
      "outputs": []
    },
    {
      "id": "jiKZ8kbywUK4oPhyLtuzFg",
      "cell_type": "markdown",
      "source": [
        "## Cashflow"
      ],
      "metadata": {}
    },
    {
      "id": "LG4pdtcxt0K_GSnJ0CDHLA",
      "cell_type": "markdown",
      "source": [
        "The computed Present Value for Aoc type Cashflow is:"
      ],
      "metadata": {}
    },
    {
      "id": "CIshbPDh_0OC_HeMFEe2Rw",
      "cell_type": "code",
      "source": [
        "var idCF = Test.GetIdentity(groupOfContract, \"CF\", \"I\");",
        "\nidCF"
      ],
      "metadata": {},
      "execution_count": 1,
      "outputs": []
    },
    {
      "id": "5sLKCaklikuTAXBf9hAoGQ",
      "cell_type": "code",
      "source": [
        "var computedPresentValueCF_PR = Test.GetScope<PresentValue>((idCF, \"PR\", \"BE\", (int?)null));",
        "\ncomputedPresentValueCF_PR"
      ],
      "metadata": {},
      "execution_count": 1,
      "outputs": []
    },
    {
      "id": "VNaRi132eUy9m4SnHizakQ",
      "cell_type": "markdown",
      "source": [
        "According to the [formula](#present-values) above, for CF AoCType, the PVB is equal to the nominal cashflow of its parent AoC step with opposite sign. The PPV is given by the sum of the first 3 elements."
      ],
      "metadata": {}
    },
    {
      "id": "pad5L8Zv40a1HYc508KwvA",
      "cell_type": "code",
      "source": [
        "var cfReferenceAocStep = Test.GetScope<ReferenceAocStep>(idCF).Value;",
        "\ncfReferenceAocStep"
      ],
      "metadata": {},
      "execution_count": 1,
      "outputs": []
    },
    {
      "id": "d_4naEye_0ez9ceQFlUsHg",
      "cell_type": "code",
      "source": [
        "var cfNominalReference_PR = Test.GetScope<NominalCashflow>((idCF with {AocType = cfReferenceAocStep.AocType}, \"PR\", \"BE\", (int?)null));",
        "\ncfNominalReference_PR"
      ],
      "metadata": {},
      "execution_count": 1,
      "outputs": []
    },
    {
      "id": "YSGvWpZAgk676PWkouVFvg",
      "cell_type": "code",
      "source": [
        "var expectedPresentValueCF_PR = -1.0 * cfNominalReference_PR.Values;"
      ],
      "metadata": {},
      "execution_count": 1,
      "outputs": []
    },
    {
      "id": "T8i5WyGKH0eb6JTHWt3k3w",
      "cell_type": "markdown",
      "source": [
        "The expected PVB and PPV are compared with the computed results in the following two cells: "
      ],
      "metadata": {}
    },
    {
      "id": "mlrKZMMExkOXb_z-QA-nzQ",
      "cell_type": "code",
      "source": [
        "computedPresentValueCF_PR.Values.CheckEquality( expectedPresentValueCF_PR )"
      ],
      "metadata": {},
      "execution_count": 1,
      "outputs": []
    },
    {
      "id": "_iXoBI2Ra06t95Lv-UKmdQ",
      "cell_type": "code",
      "source": [
        "computedPresentValueCF_PR.Values[0] + computedPresentValueCF_PR.Values[1] + computedPresentValueCF_PR.Values[2] == computedPresentValueCF_PR.Value"
      ],
      "metadata": {},
      "execution_count": 1,
      "outputs": []
    },
    {
      "id": "QWPx_7NUmEyE5Xu_kEeyjg",
      "cell_type": "code",
      "source": [
        "computedPresentValueCF_PR.Values.CheckEquality( expectedPresentValueCF_PR ).Should().Be(true);"
      ],
      "metadata": {},
      "execution_count": 1,
      "outputs": []
    },
    {
      "id": "MSbSF0-9w0-iu_c3cNINjA",
      "cell_type": "code",
      "source": [
        "computedPresentValueCF_PR.Value.Should().Be( computedPresentValueCF_PR.Values[0] + computedPresentValueCF_PR.Values[1] + computedPresentValueCF_PR.Values[2] );"
      ],
      "metadata": {},
      "execution_count": 1,
      "outputs": []
    },
    {
      "id": "iO7keKMcaE2t2gXC_7kqsA",
      "cell_type": "markdown",
      "source": [
        "<a id='interest-accretion'></a>",
        "\n## Interest Accretion"
      ],
      "metadata": {}
    },
    {
      "id": "m6ZEzxBBsUyJ_QAcvMD6dA",
      "cell_type": "markdown",
      "source": [
        "For IA AoCType, the PVB is given by the following relation  ",
        "\n",
        "\n$$",
        "\n\\text{InterestAccretion}_i = \\left\\{",
        "\n\\begin{array}{cl}",
        "\n\\big(\\text{CDC}_i(\\text{Parent AoC}) - \\text{Nominal}_i(\\text{parent AoC}) \\big) \\cdot \\big({\\text{Valid Interest}_{\\frac{i}{12}}} - 1 \\big)~, ",
        "\n    & \\text{if AmountType Transaction Period is Beginning of Period} \\\\",
        "\n\\text{CDC}_i(\\text{parent AoC}) \\cdot \\big({\\text{Valid Interest}_{\\frac{i}{12}}} - 1 \\big)~, ",
        "\n    & \\text{otherwise}",
        "\n\\end{array}",
        "\n\\right.",
        "\n$$",
        "\n",
        "\nwhile the PPV is given by the sum of the first S elements.",
        "\n",
        "\nWhen selecting the Identity, note that the Novelty *C* is not contemplated for Interest Accretion."
      ],
      "metadata": {}
    },
    {
      "id": "NMCk4gASMU62Bn6JnDxQmQ",
      "cell_type": "code",
      "source": [
        "var idIA = Test.GetIdentity(groupOfContract, \"IA\", \"I\");",
        "\nidIA"
      ],
      "metadata": {},
      "execution_count": 1,
      "outputs": []
    },
    {
      "id": "fGjntj5jp0KxtiO6hKj29A",
      "cell_type": "markdown",
      "source": [
        "### Amount Type BOP"
      ],
      "metadata": {}
    },
    {
      "id": "byoRIpg2MkegjRvCvI9Ung",
      "cell_type": "markdown",
      "source": [
        "The computed Present Value for Amount Type **Premiums** (PR) with Transaction Period **Beginning of Period** (BOP) is"
      ],
      "metadata": {}
    },
    {
      "id": "ZiyHW9AJqEqeFgbYLv9FQA",
      "cell_type": "code",
      "source": [
        "var computedPresentValueIA_PR = Test.GetScope<PresentValue>((idIA, \"PR\", \"BE\", (int?)null));",
        "\ncomputedPresentValueIA_PR"
      ],
      "metadata": {},
      "execution_count": 1,
      "outputs": []
    },
    {
      "id": "XsDT4dnWfEqsJ28QKuHueg",
      "cell_type": "markdown",
      "source": [
        "The Present Value can be recomputed independently following the aforementioned [equation](#interest-accretion) starting from the interest factors, the nominal and discounted Cashflow of the parent Aoc Step"
      ],
      "metadata": {}
    },
    {
      "id": "yFVC3VGv4E2tNAJb0CRucw",
      "cell_type": "code",
      "source": [
        "var iaComputedMonthlyRates = Test.GetScope<MonthlyRate>( idIA );",
        "\niaComputedMonthlyRates"
      ],
      "metadata": {},
      "execution_count": 1,
      "outputs": []
    },
    {
      "id": "kNS1BMQgXUCkSOuUK_IS7g",
      "cell_type": "code",
      "source": [
        "var iaReferenceAocStep = Test.GetScope<ReferenceAocStep>(idIA).Value;",
        "\niaReferenceAocStep"
      ],
      "metadata": {},
      "execution_count": 1,
      "outputs": []
    },
    {
      "id": "m6gpvEMNwEqFRImTGZBmTQ",
      "cell_type": "code",
      "source": [
        "var nominalIaReference_PR = Test.GetScope<NominalCashflow>((idIA with {AocType = iaReferenceAocStep.AocType}, \"PR\", \"BE\", (int?)null));",
        "\nnominalIaReference_PR"
      ],
      "metadata": {},
      "execution_count": 1,
      "outputs": []
    },
    {
      "id": "kEFdXGJHjkK39Ed9UMwNQA",
      "cell_type": "code",
      "source": [
        "var discountedIaReference_PR = Test.GetScope<DiscountedCashflow>((idIA with {AocType = iaReferenceAocStep.AocType}, \"PR\", \"BE\", (int?)null));",
        "\ndiscountedIaReference_PR"
      ],
      "metadata": {},
      "execution_count": 1,
      "outputs": []
    },
    {
      "id": "b-s6yRRvEUeLF_z6-rD7lw",
      "cell_type": "code",
      "source": [
        "var expectedPresentValueIA_PR = discountedIaReference_PR.Values.Select((val, index) => ( val - nominalIaReference_PR.Values[index]) * ( iaComputedMonthlyRates.Interest.GetValidElement(index/12) -1));"
      ],
      "metadata": {},
      "execution_count": 1,
      "outputs": []
    },
    {
      "id": "kpN29rNO-Uu2al_yAtJQVg",
      "cell_type": "markdown",
      "source": [
        "The expected PVB and PPV are compared with the computed results in the following two cells: "
      ],
      "metadata": {}
    },
    {
      "id": "2R1QDTLoAkSYgN3VL0pXxg",
      "cell_type": "code",
      "source": [
        "computedPresentValueIA_PR.Values.CheckEquality( expectedPresentValueIA_PR )"
      ],
      "metadata": {},
      "execution_count": 1,
      "outputs": []
    },
    {
      "id": "ioWKmAEOBk6ly7qdPm8UcQ",
      "cell_type": "code",
      "source": [
        "computedPresentValueIA_PR.Values[0] + computedPresentValueIA_PR.Values[1] + computedPresentValueIA_PR.Values[2] == computedPresentValueIA_PR.Value"
      ],
      "metadata": {},
      "execution_count": 1,
      "outputs": []
    },
    {
      "id": "lLcVd6QU_E-CV-zx6UKKyw",
      "cell_type": "code",
      "source": [
        "computedPresentValueIA_PR.Values.CheckEquality( expectedPresentValueIA_PR ).Should().Be(true);"
      ],
      "metadata": {},
      "execution_count": 1,
      "outputs": []
    },
    {
      "id": "nksstSVXV0KMKV3s1Qzbjw",
      "cell_type": "code",
      "source": [
        "computedPresentValueIA_PR.Value.Should().Be( computedPresentValueIA_PR.Values[0] + computedPresentValueIA_PR.Values[1] + computedPresentValueIA_PR.Values[2] );"
      ],
      "metadata": {},
      "execution_count": 1,
      "outputs": []
    },
    {
      "id": "-DoJ5d5hPkGgyuUIARfcpw",
      "cell_type": "markdown",
      "source": [
        "### Amount Type EOP"
      ],
      "metadata": {}
    },
    {
      "id": "AIiYNFEf4EC9W5W55HyRuw",
      "cell_type": "markdown",
      "source": [
        "The computed Present Value for Amount Type **Non Investment Component** (NIC) with Transaction Period **End of Period** (EOP) is"
      ],
      "metadata": {}
    },
    {
      "id": "1sPIRjZ290ekFi_RcQIo0g",
      "cell_type": "code",
      "source": [
        "var computedPresentValueIA_NIC = Test.GetScope<PresentValue>((idIA, \"NIC\", \"BE\", (int?)null));",
        "\ncomputedPresentValueIA_NIC"
      ],
      "metadata": {},
      "execution_count": 1,
      "outputs": []
    },
    {
      "id": "8nDAQ54uqUOqhCa5ArK8Ig",
      "cell_type": "markdown",
      "source": [
        "The Present Value can be recomputed independently following the aforementioned [equation](#interest-accretion) starting from the interest monthly rates, the discounted Cashflow of the parent Aoc Step"
      ],
      "metadata": {}
    },
    {
      "id": "HMwmW4WN50q8XsSBrLA9mw",
      "cell_type": "code",
      "source": [
        "var iaReferenceAocStep = Test.GetScope<ReferenceAocStep>(idIA).Value;",
        "\niaReferenceAocStep"
      ],
      "metadata": {},
      "execution_count": 1,
      "outputs": []
    },
    {
      "id": "harsyLraKU-NCaV-qs_10A",
      "cell_type": "code",
      "source": [
        "var discountedIaReference_NIC = Test.GetScope<DiscountedCashflow>((idIA with {AocType = iaReferenceAocStep.AocType}, \"NIC\", \"BE\", (int?)null));",
        "\ndiscountedIaReference_NIC"
      ],
      "metadata": {},
      "execution_count": 1,
      "outputs": []
    },
    {
      "id": "CeJcWORR1USjRX0vRrD9uw",
      "cell_type": "code",
      "source": [
        "var expectedPresentValueIA_NIC = discountedIaReference_NIC.Values.Select((val, index) => val * ( iaComputedMonthlyRates.Interest.GetValidElement(index/12) -1));"
      ],
      "metadata": {},
      "execution_count": 1,
      "outputs": []
    },
    {
      "id": "Bg1hcEUU9UarAJ7j6K3Cgg",
      "cell_type": "markdown",
      "source": [
        "The expected PVB and PPV are compared with the computed results in the following two cells: "
      ],
      "metadata": {}
    },
    {
      "id": "hiB4BkoAvUWvG3yaH-lUgg",
      "cell_type": "code",
      "source": [
        "computedPresentValueIA_NIC.Values.CheckEquality( expectedPresentValueIA_NIC )"
      ],
      "metadata": {},
      "execution_count": 1,
      "outputs": []
    },
    {
      "id": "FAOKIDlrpEiY95BXbRJ9Lg",
      "cell_type": "code",
      "source": [
        "computedPresentValueIA_NIC.Values[0] + computedPresentValueIA_NIC.Values[1] + computedPresentValueIA_NIC.Values[2] == computedPresentValueIA_NIC.Value"
      ],
      "metadata": {},
      "execution_count": 1,
      "outputs": []
    },
    {
      "id": "3XieKhmULE2hpsAGvEz6Jw",
      "cell_type": "code",
      "source": [
        "computedPresentValueIA_NIC.Values.CheckEquality( expectedPresentValueIA_NIC ).Should().Be(true);"
      ],
      "metadata": {},
      "execution_count": 1,
      "outputs": []
    },
    {
      "id": "7eg7INUm50qXDWFveCVSJA",
      "cell_type": "code",
      "source": [
        "computedPresentValueIA_NIC.Value.Should().Be( computedPresentValueIA_NIC.Values[0] + computedPresentValueIA_NIC.Values[1] + computedPresentValueIA_NIC.Values[2] );"
      ],
      "metadata": {},
      "execution_count": 1,
      "outputs": []
    },
    {
      "id": "6PbcOZfV3Ua46NCV9bNvnw",
      "cell_type": "markdown",
      "source": [
        "## Yield Curve Update"
      ],
      "metadata": {}
    },
    {
      "id": "AJCuWf4c_kG-MTka3KHH9A",
      "cell_type": "markdown",
      "source": [
        "The computed Present Value for Aoc type Yield Curve Update is:"
      ],
      "metadata": {}
    },
    {
      "id": "xECM9ubIAUWuJJQrVhS96Q",
      "cell_type": "code",
      "source": [
        "var idYcu = Test.GetIdentity(groupOfContract, \"YCU\", \"I\");",
        "\nidYcu"
      ],
      "metadata": {},
      "execution_count": 1,
      "outputs": []
    },
    {
      "id": "ZtcMBnMzIkCuhjXxj25VQA",
      "cell_type": "code",
      "source": [
        "var computedPresentValueYCU_PR = Test.GetScope<PresentValue>((idYcu, \"PR\", \"BE\", (int?)null));",
        "\ncomputedPresentValueYCU_PR"
      ],
      "metadata": {},
      "execution_count": 1,
      "outputs": []
    },
    {
      "id": "i_nXQ_NxtkanS4_VPwpXAA",
      "cell_type": "markdown",
      "source": [
        "The Present Value can be recomputed independently following the aforementioned [equation](#interest-accretion) starting from the discount factors for beginning of period and for end of period applied to the reference Aoc step, followed by the difference between the CDC obtained with end of period discount factor and the CDC obtained with beginning of period discount factor. "
      ],
      "metadata": {}
    },
    {
      "id": "qPgsLajbvEek7uwPNGMznw",
      "cell_type": "code",
      "source": [
        "var ycReferenceAocStep = Test.GetScope<ReferenceAocStep>(idYcu).Value;",
        "\nycReferenceAocStep"
      ],
      "metadata": {},
      "execution_count": 1,
      "outputs": []
    },
    {
      "id": "s8uI23FdzE6M9phEhZvlpg",
      "cell_type": "code",
      "source": [
        "var ycParentAocStep = Test.GetScope<ParentAocStep>((idYcu, \"PR\")).Values.Single();",
        "\nycParentAocStep"
      ],
      "metadata": {},
      "execution_count": 1,
      "outputs": []
    },
    {
      "id": "utP-1N2gHk2noyPx1Bz_Xw",
      "cell_type": "code",
      "source": [
        "var ycParentId = idYcu with {AocType = ycParentAocStep.AocType, Novelty = ycParentAocStep.Novelty};",
        "\nycParentId"
      ],
      "metadata": {},
      "execution_count": 1,
      "outputs": []
    },
    {
      "id": "mtfbhW8_Fkar_ZID9fIKvw",
      "cell_type": "markdown",
      "source": [
        "Here is the parent AocStep discounted with the beginning of period discount factor."
      ],
      "metadata": {}
    },
    {
      "id": "m-hTC4iApEK8Ex_Oq8nqYQ",
      "cell_type": "code",
      "source": [
        "var discountedYcParent = Test.GetScope<DiscountedCashflow>((ycParentId, \"PR\", \"BE\", (int?)null));",
        "\ndiscountedYcParent"
      ],
      "metadata": {},
      "execution_count": 1,
      "outputs": []
    },
    {
      "id": "y1gdrxvTuE6sNtropNbIvg",
      "cell_type": "markdown",
      "source": [
        "Here we independently compute the CDC of the parent AocStep discounted with end of period discount factor."
      ],
      "metadata": {}
    },
    {
      "id": "v2NdunV9lUCmDXNy3tWk5g",
      "cell_type": "code",
      "source": [
        "var nominalYcParent = Test.GetScope<NominalCashflow>((ycParentId, \"PR\", \"BE\", (int?)null));",
        "\nnominalYcParent"
      ],
      "metadata": {},
      "execution_count": 1,
      "outputs": []
    },
    {
      "id": "Y5RkFcGlxUWUCsWbNDtAbg",
      "cell_type": "code",
      "source": [
        "var ycComputedMonthlyRates = Test.GetScope<MonthlyRate>( idYcu );",
        "\nycComputedMonthlyRates"
      ],
      "metadata": {},
      "execution_count": 1,
      "outputs": []
    },
    {
      "id": "Yko2CYybLEGJHMKwCDW3-g",
      "cell_type": "code",
      "source": [
        "var ycReferenceDiscountedEop = new double[nominalYcParent.Values.Length];",
        "\n",
        "\nEnumerable.Range(0, nominalYcParent.Values.Length).Reverse()",
        "\n    .ForEach( i => ycReferenceDiscountedEop[i] = nominalYcParent.Values[i] + ycReferenceDiscountedEop.GetValidElement(i+1) * ycComputedMonthlyRates.Discount.GetValidElement(i/12) );",
        "\nycReferenceDiscountedEop"
      ],
      "metadata": {},
      "execution_count": 1,
      "outputs": []
    },
    {
      "id": "-nB_BwXaFUSg1RGG9OtRWQ",
      "cell_type": "code",
      "source": [
        "var expectedPresentValueYCU_PR = ycReferenceDiscountedEop - discountedYcParent.Values;"
      ],
      "metadata": {},
      "execution_count": 1,
      "outputs": []
    },
    {
      "id": "oqAvk5VK906PkRkAT2OaRg",
      "cell_type": "code",
      "source": [
        "computedPresentValueYCU_PR.Values.CheckEquality( expectedPresentValueYCU_PR )"
      ],
      "metadata": {},
      "execution_count": 1,
      "outputs": []
    },
    {
      "id": "tUv9lq_VLEqCkXFKJJuQig",
      "cell_type": "code",
      "source": [
        "computedPresentValueYCU_PR.Value == expectedPresentValueYCU_PR[3]"
      ],
      "metadata": {},
      "execution_count": 1,
      "outputs": []
    },
    {
      "id": "m4ee2o2DZ0aKf2FH92STsw",
      "cell_type": "code",
      "source": [
        "computedPresentValueYCU_PR.Values.CheckEquality( expectedPresentValueYCU_PR ).Should().Be(true);"
      ],
      "metadata": {},
      "execution_count": 1,
      "outputs": []
    },
    {
      "id": "kA0wrkGJaUG-mcZFz8IYPw",
      "cell_type": "code",
      "source": [
        "computedPresentValueYCU_PR.Value.Should().Be( expectedPresentValueYCU_PR[3] );"
      ],
      "metadata": {},
      "execution_count": 1,
      "outputs": []
    },
    {
      "id": "USKTbJfkSE607v_NwHKjvA",
      "cell_type": "markdown",
      "source": [
        "## Credit Risk Update"
      ],
      "metadata": {}
    },
    {
      "id": "QxohiF0860mtmiIoW8C26A",
      "cell_type": "markdown",
      "source": [
        "This Aoc Step is relevant only in the case of a Group of Reinsurance Contract."
      ],
      "metadata": {}
    },
    {
      "id": "aN_4K8LWFU-JoAvOSlRyvw",
      "cell_type": "markdown",
      "source": [
        "The computed Present Value for Aoc type Credit Risk Update is:"
      ],
      "metadata": {}
    },
    {
      "id": "JuGimhzAIEKT0SIZKqog0w",
      "cell_type": "code",
      "source": [
        "var idCru = Test.GetIdentity(groupOfContract, \"CRU\", \"I\");",
        "\nidCru"
      ],
      "metadata": {},
      "execution_count": 1,
      "outputs": []
    },
    {
      "id": "77exgwl5wUefPwQGSvv_nA",
      "cell_type": "code",
      "source": [
        "var computedPresentValueCRU = Test.GetScope<PresentValue>((idCru, \"CDR\", \"BE\", (int?)null));",
        "\ncomputedPresentValueCRU"
      ],
      "metadata": {},
      "execution_count": 1,
      "outputs": []
    },
    {
      "id": "ltjSbNI1_k-mVdX0EBv-xA",
      "cell_type": "markdown",
      "source": [
        "The Present Value can be recomputed independently starting as the difference between the CDC obtained with end of period credit default risk rate and the CDC obtained with beginning of period credit default risk rate, both computed using the Nominal cashflow of the reference Aoc Step and the End Of Period discounting factors. "
      ],
      "metadata": {}
    },
    {
      "id": "5Mi2lhLj9kivaiTjvv2G1Q",
      "cell_type": "code",
      "source": [
        "var cruReferenceAocStep = Test.GetScope<ReferenceAocStep>(idCru).Value;",
        "\ncruReferenceAocStep"
      ],
      "metadata": {},
      "execution_count": 1,
      "outputs": []
    },
    {
      "id": "px7VkUXT10yK8uLGIu7UEw",
      "cell_type": "code",
      "source": [
        "var cruReferenceId = idCru with {AocType = cruReferenceAocStep.AocType, Novelty = cruReferenceAocStep.Novelty};",
        "\ncruReferenceId"
      ],
      "metadata": {},
      "execution_count": 1,
      "outputs": []
    },
    {
      "id": "0EZECyt5MEWdc8mjDVvhuA",
      "cell_type": "code",
      "source": [
        "var cruParentAocStep = Test.GetScope<ParentAocStep>((idCru, \"CDR\")).Values.Single();",
        "\ncruParentAocStep"
      ],
      "metadata": {},
      "execution_count": 1,
      "outputs": []
    },
    {
      "id": "osW4gCnv2EKUPFxXxAMqJA",
      "cell_type": "code",
      "source": [
        "var cruParentId = idCru with {AocType = cruParentAocStep.AocType, Novelty = cruParentAocStep.Novelty};",
        "\ncruParentId"
      ],
      "metadata": {},
      "execution_count": 1,
      "outputs": []
    },
    {
      "id": "LpyKsQ8EekaZw0sPwhs2Vw",
      "cell_type": "markdown",
      "source": [
        "Here is the parent AocStep discounted with beginning of period credit default risk rate."
      ],
      "metadata": {}
    },
    {
      "id": "72C7qsrN9Ui9B_XYbrIpsQ",
      "cell_type": "code",
      "source": [
        "var discountedCruParent = Test.GetScope<DiscountedCashflow>((cruParentId, \"CDR\", \"BE\", (int?)null));",
        "\ndiscountedCruParent"
      ],
      "metadata": {},
      "execution_count": 1,
      "outputs": []
    },
    {
      "id": "vRLrx8ecq02PiEdHXn3hBg",
      "cell_type": "code",
      "source": [
        "var nominalCruReference = Test.GetScope<NominalCashflow>((cruReferenceId, \"CDR\", \"BE\", (int?)null)).Values;",
        "\nnominalCruReference"
      ],
      "metadata": {},
      "execution_count": 1,
      "outputs": []
    },
    {
      "id": "jLV_5_vMx0OrVHD_Yu5mVA",
      "cell_type": "code",
      "source": [
        "var creditDefaultRate = Test.GetStorage().GetNonPerformanceRiskRate( idCru );",
        "\ncreditDefaultRate"
      ],
      "metadata": {},
      "execution_count": 1,
      "outputs": []
    },
    {
      "id": "VEgXXlyhrEawDMht-nAV9A",
      "cell_type": "code",
      "source": [
        "var cruComputedMonthlyRates = Test.GetScope<MonthlyRate>( idCru );",
        "\ncruComputedMonthlyRates"
      ],
      "metadata": {},
      "execution_count": 1,
      "outputs": []
    },
    {
      "id": "owmqecMemE-q5q164EhXnw",
      "cell_type": "markdown",
      "source": [
        "Lastly, using the [formula above](#non-performance-risk-adjustment), the expected CDR discounted Cashflow can be computed"
      ],
      "metadata": {}
    },
    {
      "id": "LYbZBgKavEO7IynuEAXGcA",
      "cell_type": "code",
      "source": [
        "var cruExpectedDiscountedCDR = new double[nominalCruReference.Length];",
        "\n",
        "\nEnumerable.Range(0, nominalCruReference.Length).ForEach( t => ",
        "\n    cruExpectedDiscountedCDR[t] = Enumerable.Range(t, nominalCruReference.Length-t).Select( tau => ",
        "\n                                  nominalCruReference[tau] * ",
        "\n                                  Math.Pow(cruComputedMonthlyRates.Discount.GetValidElement(t/12), tau-t+1) * ",
        "\n                                 (Math.Exp(-creditDefaultRate*(tau-t)) - 1)",
        "\n                               ).Sum() );",
        "\n",
        "\ncruExpectedDiscountedCDR"
      ],
      "metadata": {},
      "execution_count": 1,
      "outputs": []
    },
    {
      "id": "f8a9p87_WUCugmBsw0E4sA",
      "cell_type": "code",
      "source": [
        "var expectedPresentValueCRU = cruExpectedDiscountedCDR - discountedCruParent.Values;"
      ],
      "metadata": {},
      "execution_count": 1,
      "outputs": []
    },
    {
      "id": "7odSeJ5RTUmTR32M-5tlAA",
      "cell_type": "code",
      "source": [
        "computedPresentValueCRU.Values.CheckEquality( expectedPresentValueCRU )"
      ],
      "metadata": {},
      "execution_count": 1,
      "outputs": []
    },
    {
      "id": "ojtYz8I9xkaTA1AcV3U1Cw",
      "cell_type": "code",
      "source": [
        "computedPresentValueCRU.Value == expectedPresentValueCRU[3]"
      ],
      "metadata": {},
      "execution_count": 1,
      "outputs": []
    },
    {
      "id": "WH8Cl5EMp0ewbK4iQ7-W3A",
      "cell_type": "code",
      "source": [
        "computedPresentValueCRU.Values.CheckEquality( expectedPresentValueCRU ).Should().Be(true);"
      ],
      "metadata": {},
      "execution_count": 1,
      "outputs": []
    },
    {
      "id": "-4irtBVO70uLS-mVjr-3jQ",
      "cell_type": "code",
      "source": [
        "computedPresentValueCRU.Value.Should().Be( expectedPresentValueCRU[3] );"
      ],
      "metadata": {},
      "execution_count": 1,
      "outputs": []
    },
    {
      "id": "QLzUGR2eJk-J02bHAg78sg",
      "cell_type": "markdown",
      "source": [
        "## Combined Liabilities"
      ],
      "metadata": {}
    },
    {
      "id": "bxMjiXdzt0a-HXTolLPSig",
      "cell_type": "markdown",
      "source": [
        "The computed Present Value for Aoc type Combined Liabilities and Amount Type PR is:"
      ],
      "metadata": {}
    },
    {
      "id": "iWOEJ3tfb02n5-nhXKNWPg",
      "cell_type": "code",
      "source": [
        "var idCL = Test.GetIdentity(groupOfContract, \"CL\", \"C\");",
        "\nidCL"
      ],
      "metadata": {},
      "execution_count": 1,
      "outputs": []
    },
    {
      "id": "RxytwcSRIEOh4gnpLjM-6A",
      "cell_type": "code",
      "source": [
        "var computedPresentValueCL_PR = Test.GetScope<PresentValue>((idCL, \"PR\", \"BE\", (int?)null));",
        "\ncomputedPresentValueCL_PR"
      ],
      "metadata": {},
      "execution_count": 1,
      "outputs": []
    },
    {
      "id": "L0VyPzCrw02LlbNwi8lo6Q",
      "cell_type": "markdown",
      "source": [
        "According to the [formula](#present-values) above, for CL AoCType, the PVB is equal to the difference between the CDC of the current AoCType and the CDC of its parent(s). Additionally, the PPV is the $(\\text{S}+\\text{TS})$-th element of the PVB."
      ],
      "metadata": {}
    },
    {
      "id": "eWjL6y9C3k-py-95Mi0SJg",
      "cell_type": "code",
      "source": [
        "var clParents = Test.GetScope<ParentAocStep>((idCL,\"PR\")).Values;",
        "\nclParents"
      ],
      "metadata": {},
      "execution_count": 1,
      "outputs": []
    },
    {
      "id": "o7Xu2o42K0SylUpXrn5bIw",
      "cell_type": "code",
      "source": [
        "var expectedPresentValueCL_PR = Test.GetScope<DiscountedCashflow>((idCL, \"PR\", \"BE\", (int?)null)).Values -",
        "\n                             clParents.Select(aocStep => Test.GetScope<DiscountedCashflow>((idCL with {AocType = aocStep.AocType, Novelty = aocStep.Novelty}, \"PR\", \"BE\", (int?)null)).Values).Aggregate();"
      ],
      "metadata": {},
      "execution_count": 1,
      "outputs": []
    },
    {
      "id": "2Pzjvmq7BEGnPjDo-Jvo3g",
      "cell_type": "markdown",
      "source": [
        "The expected PVB and PPV are compared with the computed results in the following two cells: "
      ],
      "metadata": {}
    },
    {
      "id": "mJ3zeyh3YUSL7myhsdowKg",
      "cell_type": "code",
      "source": [
        "computedPresentValueCL_PR.Values.CheckEquality( expectedPresentValueCL_PR )"
      ],
      "metadata": {},
      "execution_count": 1,
      "outputs": []
    },
    {
      "id": "t8dZLcMcYEiQaGohNjbhbw",
      "cell_type": "code",
      "source": [
        "computedPresentValueCL_PR.Value == expectedPresentValueCL_PR[3]"
      ],
      "metadata": {},
      "execution_count": 1,
      "outputs": []
    },
    {
      "id": "CG2NuOh-OUWD0O9KjUlTKg",
      "cell_type": "code",
      "source": [
        "computedPresentValueCL_PR.Values.CheckEquality( expectedPresentValueCL_PR ).Should().Be(true);"
      ],
      "metadata": {},
      "execution_count": 1,
      "outputs": []
    },
    {
      "id": "FNsLWW7W6UmZwW_agz-FbQ",
      "cell_type": "code",
      "source": [
        "computedPresentValueCL_PR.Value.Should().Be( expectedPresentValueCL_PR[3] );"
      ],
      "metadata": {},
      "execution_count": 1,
      "outputs": []
    },
    {
      "id": "YAUW6hLjTkSDSB8hvqc-Ow",
      "cell_type": "markdown",
      "source": [
        "## End of Period"
      ],
      "metadata": {}
    },
    {
      "id": "ED73CBkcQkyvPg6_7eDFSg",
      "cell_type": "markdown",
      "source": [
        "The computed Present Value for Aoc type End of Period is:"
      ],
      "metadata": {}
    },
    {
      "id": "k3jsi34sxkSGoxKA1Btb1g",
      "cell_type": "code",
      "source": [
        "var idEOP = Test.GetIdentity(groupOfContract, \"EOP\", \"C\");",
        "\nidEOP"
      ],
      "metadata": {},
      "execution_count": 1,
      "outputs": []
    },
    {
      "id": "s86AHJ-4Pk6Va461mh5gBQ",
      "cell_type": "code",
      "source": [
        "var computedPresentValueEOP_NIC = Test.GetScope<PresentValue>((idEOP, \"NIC\", \"BE\", (int?)null));",
        "\ncomputedPresentValueEOP_NIC"
      ],
      "metadata": {},
      "execution_count": 1,
      "outputs": []
    },
    {
      "id": "QVXK0fUvN0-yuvBbKXPPrw",
      "cell_type": "markdown",
      "source": [
        "According to the [formula](#present-values) above, for EOP AoCType, the PVB is equal to the CDC of the parent AoC step, while the PPV is the $(\\text{S}+\\text{TS})$-th element of the PVB."
      ],
      "metadata": {}
    },
    {
      "id": "22vabLHnN0uty9-9BNNPNg",
      "cell_type": "code",
      "source": [
        "var eopReferenceAocStep = Test.GetScope<ReferenceAocStep>(idEOP).Value;",
        "\neopReferenceAocStep"
      ],
      "metadata": {},
      "execution_count": 1,
      "outputs": []
    },
    {
      "id": "ECiuOq0oL0eK5tMnQpoHtg",
      "cell_type": "code",
      "source": [
        "var discountedCL_NIC = Test.GetScope<DiscountedCashflow>((idEOP with {AocType = eopReferenceAocStep.AocType, Novelty = eopReferenceAocStep.Novelty}, \"NIC\", \"BE\", (int?)null));",
        "\ndiscountedCL_NIC"
      ],
      "metadata": {},
      "execution_count": 1,
      "outputs": []
    },
    {
      "id": "TgfGcomxyEu_Bi31dr0a8Q",
      "cell_type": "code",
      "source": [
        "var expectedPresentValueEOP_NIC = discountedCL_NIC.Values;"
      ],
      "metadata": {},
      "execution_count": 1,
      "outputs": []
    },
    {
      "id": "COrZzNoVR0uPcoTvusJl9A",
      "cell_type": "markdown",
      "source": [
        "The expected PVB and PPV are compared with the computed results in the following two cells: "
      ],
      "metadata": {}
    },
    {
      "id": "uHz3FD5pz0KtlPWvehPSTw",
      "cell_type": "code",
      "source": [
        "computedPresentValueEOP_NIC.Values.CheckEquality( expectedPresentValueEOP_NIC )"
      ],
      "metadata": {},
      "execution_count": 1,
      "outputs": []
    },
    {
      "id": "NgccZKROIUGyHphm6Pt3mA",
      "cell_type": "code",
      "source": [
        "computedPresentValueEOP_NIC.Value == expectedPresentValueEOP_NIC[3]"
      ],
      "metadata": {},
      "execution_count": 1,
      "outputs": []
    },
    {
      "id": "9jo2Z3ljfkyeYFEYk8YevQ",
      "cell_type": "code",
      "source": [
        "computedPresentValueEOP_NIC.Values.CheckEquality( expectedPresentValueEOP_NIC ).Should().Be(true);"
      ],
      "metadata": {},
      "execution_count": 1,
      "outputs": []
    },
    {
      "id": "wQEKDnBmiEiCcxaQ5z8n_Q",
      "cell_type": "code",
      "source": [
        "computedPresentValueEOP_NIC.Value.Should().Be( expectedPresentValueEOP_NIC[3] );"
      ],
      "metadata": {},
      "execution_count": 1,
      "outputs": []
    },
    {
      "id": "TYv8HCkwJ0-eIPL5UgmkSg",
      "cell_type": "markdown",
      "source": [
        "## Check for zero PVB values"
      ],
      "metadata": {}
    },
    {
      "id": "ypVkZQiC50KtLKlrkxwfWA",
      "cell_type": "markdown",
      "source": [
        "### Amortization"
      ],
      "metadata": {}
    },
    {
      "id": "f6LQtXZHZE60NfgYXKiAmg",
      "cell_type": "markdown",
      "source": [
        "For AM AoCType, the PVB values are zero, i.e. Amortization is not part of the Present Value computation. In this subsection we check whether the corresponding values are zero accordingly. "
      ],
      "metadata": {}
    },
    {
      "id": "YmNDcj0tDEObggNuOxfFVg",
      "cell_type": "code",
      "source": [
        "var idAM = Test.GetIdentity(groupOfContract, \"AM\", \"C\");",
        "\nidAM"
      ],
      "metadata": {},
      "execution_count": 1,
      "outputs": []
    },
    {
      "id": "Hbvbc_-ghkCPuBcY4CaNSw",
      "cell_type": "code",
      "source": [
        "var computedPresentValueAM_PR = Test.GetScope<PresentValue>((idAM, \"PR\", \"BE\", (int?)null));",
        "\ncomputedPresentValueAM_PR"
      ],
      "metadata": {},
      "execution_count": 1,
      "outputs": []
    },
    {
      "id": "vtA_SwM1FkWUvn7cz_gsEg",
      "cell_type": "code",
      "source": [
        "var computedPresentValueAM_PR = Test.GetScope<PresentValue>((idAM, \"NIC\", \"BE\", (int?)null));",
        "\ncomputedPresentValueAM_PR"
      ],
      "metadata": {},
      "execution_count": 1,
      "outputs": []
    },
    {
      "id": "Hm9t12cEPEq0qfPXqqQKDA",
      "cell_type": "markdown",
      "source": [
        "<br/><br/>",
        "\n<a id='amortization-factor'></a>",
        "\n# Amortization Factors"
      ],
      "metadata": {}
    },
    {
      "id": "HIn4-XNBlUC_ryCdXqFJXw",
      "cell_type": "markdown",
      "source": [
        "The amortization factors (AMF) are calculated from the corresponding Nominal and Discounted Cashflows with Calculation Type being *Coverage Units* (CU). ",
        "\nThe monthly AMF is",
        "\n",
        "\n$$",
        "\n\\text{AMF}^{\\text{Monthly}}_t = 1 - \\frac{ \\text{Nominal}^{\\text{Coverage Units}}_t } { \\text{CDC}^{\\text{Coverage Units}}_t } ~,",
        "\n$$",
        "\n",
        "\nwhile the AMF related to the current period is",
        "\n",
        "\n$$",
        "\n\\text{AMF} = \\prod _{t = \\text{S}}^{\\text{S}+\\text{TS}} \\text{AMF}^{\\text{Monthly}}_t  ~.",
        "\n$$",
        "\n",
        "\nwhere the shift S and Time Step TS for the [current period](#year-and-period) are"
      ],
      "metadata": {}
    },
    {
      "id": "GMNrVzKXH0ymV23dJDvYKQ",
      "cell_type": "code",
      "source": [
        "var projectionPeriod = 0;"
      ],
      "metadata": {},
      "execution_count": 1,
      "outputs": []
    },
    {
      "id": "YPFhl76CQkyB4G8ObloZRg",
      "cell_type": "code",
      "source": [
        "var shift = Test.GetStorage().GetShift(projectionPeriod);",
        "\nshift"
      ],
      "metadata": {},
      "execution_count": 1,
      "outputs": []
    },
    {
      "id": "-kXqVC_kq0CICZBKBb1HlQ",
      "cell_type": "code",
      "source": [
        "var timeStep = Test.GetStorage().GetTimeStep(projectionPeriod);",
        "\ntimeStep"
      ],
      "metadata": {},
      "execution_count": 1,
      "outputs": []
    },
    {
      "id": "t4HaEWnCNk6mQabiDiws1w",
      "cell_type": "markdown",
      "source": [
        "## Monthly Amortization"
      ],
      "metadata": {}
    },
    {
      "id": "xeALkGs7xUeu3Y4WpeNO1Q",
      "cell_type": "markdown",
      "source": [
        "The computed monthly and current period Amortization Factors derived from a non-zero [imported](#year-and-period) nominal cashflows and its corresponding discounted are shown in the following"
      ],
      "metadata": {}
    },
    {
      "id": "L1ZjEB2bYkqJCYEQcSaCLA",
      "cell_type": "code",
      "source": [
        "var idAM = Test.GetIdentity(groupOfContract, \"CL\", \"C\");",
        "\nidAM"
      ],
      "metadata": {},
      "execution_count": 1,
      "outputs": []
    },
    {
      "id": "P_fB5G8CbkOe7_gqmr8nQA",
      "cell_type": "code",
      "source": [
        "var nominalCashflowAmortizationFactorTest = Test.GetScope<NominalCashflow>( (idAM, default(string), \"CU\", (int?)null) );",
        "\nnominalCashflowAmortizationFactorTest"
      ],
      "metadata": {},
      "execution_count": 1,
      "outputs": []
    },
    {
      "id": "nwNr460Q5kO_3WOTIbp0qQ",
      "cell_type": "code",
      "source": [
        "var discountedCashflowAmortizationFactorTest = Test.GetScope<CoverageUnitCashflow>(idAM);",
        "\ndiscountedCashflowAmortizationFactorTest"
      ],
      "metadata": {},
      "execution_count": 1,
      "outputs": []
    },
    {
      "id": "uCI4iAP0DUGsPQOWdrwDuA",
      "cell_type": "code",
      "source": [
        "var computedMonthlyAmortizationFactor = Test.GetScope<MonthlyAmortizationFactorCashflow>(idAM with {AocType = \"AM\"});",
        "\ncomputedMonthlyAmortizationFactor"
      ],
      "metadata": {},
      "execution_count": 1,
      "outputs": []
    },
    {
      "id": "gHcGaR3jfEWKUAK4D2kCVw",
      "cell_type": "markdown",
      "source": [
        "In the following cell we independently evaluate the expected monthly amortization factor according to the [formula above](#amortization-factor) and we check whether expected vs computed match"
      ],
      "metadata": {}
    },
    {
      "id": "I8F4XooarU6ejB9dIO3ByA",
      "cell_type": "code",
      "source": [
        "var expectedMonthlyAmortizationFactor = nominalCashflowAmortizationFactorTest.Values.Zip(discountedCashflowAmortizationFactorTest.Values, ",
        "\n                                            (nominal, discountedCumulated) => 1 - nominal / discountedCumulated ).ToArray();"
      ],
      "metadata": {},
      "execution_count": 1,
      "outputs": []
    },
    {
      "id": "QwB0UIilbkK-CRTF-jWgEA",
      "cell_type": "code",
      "source": [
        "expectedMonthlyAmortizationFactor.RepeatOnce()"
      ],
      "metadata": {},
      "execution_count": 1,
      "outputs": []
    },
    {
      "id": "_66rpQUzrU-3wQQMLfLqTw",
      "cell_type": "code",
      "source": [
        "computedMonthlyAmortizationFactor.MonthlyAmortizationFactors.CheckEquality( expectedMonthlyAmortizationFactor )"
      ],
      "metadata": {},
      "execution_count": 1,
      "outputs": []
    },
    {
      "id": "ibllj4WfMkCzKaaYRuhfmA",
      "cell_type": "code",
      "source": [
        "computedMonthlyAmortizationFactor.MonthlyAmortizationFactors.CheckEquality( expectedMonthlyAmortizationFactor ).Should().Be(true);"
      ],
      "metadata": {},
      "execution_count": 1,
      "outputs": []
    },
    {
      "id": "Jk9YlP6QCkqRxZo-o68MsA",
      "cell_type": "markdown",
      "source": [
        "## Current Period"
      ],
      "metadata": {}
    },
    {
      "id": "DTl5o5jz_0erzyZWFTpUHQ",
      "cell_type": "markdown",
      "source": [
        "The computed current period amortization factor is"
      ],
      "metadata": {}
    },
    {
      "id": "PCy8Dakbh0mPaY2sEWzjGg",
      "cell_type": "code",
      "source": [
        "var computedCurrentPeriodAmortizationFactor = Test.GetScope<CurrentPeriodAmortizationFactor>(idAM with {AocType = \"AM\"});",
        "\ncomputedCurrentPeriodAmortizationFactor"
      ],
      "metadata": {},
      "execution_count": 1,
      "outputs": []
    },
    {
      "id": "FdbZR9Yuy0-UNKH3vCixGw",
      "cell_type": "markdown",
      "source": [
        "Conversely, the current period Amortization factor can be independently computed using the [formula above](#amortization-factor) as"
      ],
      "metadata": {}
    },
    {
      "id": "w8ypGjX1wUGEjtCySuAp3w",
      "cell_type": "code",
      "source": [
        "var expectedCurrentPeriodAmortizationFactor = expectedMonthlyAmortizationFactor.Skip(shift).Take(timeStep).Aggregate(1d, (x, y) => x * y);"
      ],
      "metadata": {},
      "execution_count": 1,
      "outputs": []
    },
    {
      "id": "YwRfJmVI3UmwsjBL1JE48Q",
      "cell_type": "code",
      "source": [
        "expectedCurrentPeriodAmortizationFactor"
      ],
      "metadata": {},
      "execution_count": 1,
      "outputs": []
    },
    {
      "id": "33_7tRKRmUu9inImy1G2VQ",
      "cell_type": "code",
      "source": [
        "computedCurrentPeriodAmortizationFactor.Value == expectedCurrentPeriodAmortizationFactor"
      ],
      "metadata": {},
      "execution_count": 1,
      "outputs": []
    },
    {
      "id": "rM6pE_9pL0SCB56yFBmlUA",
      "cell_type": "code",
      "source": [
        "computedCurrentPeriodAmortizationFactor.Value.Should().Be( expectedCurrentPeriodAmortizationFactor );"
      ],
      "metadata": {},
      "execution_count": 1,
      "outputs": []
    },
    {
      "id": "zJ4a8KsYUEWmMuBSKeJn0g",
      "cell_type": "markdown",
      "source": [
        "<br/><br/>",
        "\n<a id='persist-results'></a>",
        "\n# Results persisted"
      ],
      "metadata": {}
    },
    {
      "id": "c4kFsHdrzEut20I1sKx5wQ",
      "cell_type": "markdown",
      "source": [
        "The last step during the Cashflow import is to save, namely *persist* the Present Values computed with *locked* (L) and *current* (C) economic basis, and calculation type being *Best Estimate* (BE). ",
        "\n",
        "\nThese data is the starting point of the [Contractual Service Margin calculation](\"SpecificationsCSM\")."
      ],
      "metadata": {}
    },
    {
      "id": "zco2828uiUeNWEkjLJSbmA",
      "cell_type": "code",
      "source": [
        ""
      ],
      "metadata": {},
      "execution_count": 1,
      "outputs": []
    }
  ]
}