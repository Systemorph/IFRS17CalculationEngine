{
    "metadata": {
        "authors": [],
        "kernelspec": {
            "display_name": "Formula Framework",
            "language": "C#",
            "name": "C#"
        },
        "language_info": {
            "file_extension": ".cs",
            "mimetype": "text/plain",
            "name": "C#"
        },
        "toc-autonumbering": "True",
        "toc-showcode": "False",
        "toc-showmarkdowntxt": "False",
        "toc-showtags": "False"
    },
    "nbformat": 4,
    "nbformat_minor": 5,
    "cells": [
        {
            "cell_type": "markdown",
            "source": [
                "<p style=\"font-weight:bold;\"> <span style=\"font-size: 36px\"> Import Cashflows Specifications </span> </p>"
            ]
        },
        {
            "cell_type": "markdown",
            "source": [
                "The aim of this notebook is to document the calculation of the Present Values and Amortization Factors starting from the nominal Cashflows and the Yearly Yield Curve. These starting data is imported from the corresponding csv files located in the following path <code>Initialization/Systemorph/</code>. The process is pictorially explained in the following flowchart. ",
                "\n",
                "\n<a name=\"TOC\"></a>",
                "\n<center><img src=\"../Images/SpecificationsImportCashflows.PNG\" width=\"45%\" style=\"float:center;\">",
                "\n",
                "\nThroughout this notebook we adopt the following variable notation:  we use the words *computed* vs. *expected* to differentiate the results provided by the application vs. this test notebook, respectively."
            ]
        },
        {
            "cell_type": "markdown",
            "source": [
                "[Setup IFRS17 Calculation Engine](../Import/ImportScopeCalculation):"
            ]
        },
        {
            "cell_type": "code",
            "source": [
                "#!import \"SpecificationsSetup\""
            ]
        },
        {
            "cell_type": "markdown",
            "source": [
                "---"
            ]
        },
        {
            "cell_type": "markdown",
            "source": [
                "# Import Data"
            ]
        },
        {
            "cell_type": "markdown",
            "source": [
                "<a id='year-and-period'></a>",
                "\n## Current Period"
            ]
        },
        {
            "cell_type": "markdown",
            "source": [
                "Please select the target period (i.e. year and month), Reporting Node, Economic Basis, and Data Node based on the imported data:"
            ]
        },
        {
            "cell_type": "code",
            "source": [
                "var year            = 2021    ;",
                "\nvar month           = 3       ;",
                "\nvar reportingNode   = \"CH\"    ;",
                "\nvar economicBasis   = \"C\"     ;"
            ]
        },
        {
            "cell_type": "markdown",
            "source": [
                "Import the Dimensions, Yield Curves and Nominal Cashflows from the corresponding csv files in <code>Initialization/Systemorph/</code>"
            ]
        },
        {
            "cell_type": "code",
            "source": [
                "#!eval-notebook \"../Initialization/InitSystemorphBaseToMemory\""
            ]
        },
        {
            "cell_type": "code",
            "source": [
                "Workspace.InitializeFrom(DataSource);"
            ]
        },
        {
            "cell_type": "markdown",
            "source": [
                "At this point reference data are loaded. Import now a cashfow file with a 720 elements."
            ]
        },
        {
            "cell_type": "code",
            "source": [
                "var groupOfContract = \"GricComplex\";",
                "\nawait UploadCashflowsAsync(\"Data/CashflowComplex.csv\")"
            ]
        },
        {
            "cell_type": "markdown",
            "source": [
                "Initialization of the Test suite: the data loaded from csv files are ready to be used by the Scopes for the calculations"
            ]
        },
        {
            "cell_type": "code",
            "source": [
                "var Test = await StartCalculatorAsync(reportingNode, year, month, economicBasis, Periodicity.Quarterly, ImportFormats.Cashflow);"
            ]
        },
        {
            "cell_type": "markdown",
            "source": [
                "<a id='view-loaded-data-nodes'></a>",
                "\n## View loaded Data Nodes"
            ]
        },
        {
            "cell_type": "markdown",
            "source": [
                "The imported active Data Nodes from <code>Initialization/Systemorph/DataNodes.csv</code> are "
            ]
        },
        {
            "cell_type": "code",
            "source": [
                "Test.GetStorage().DataNodeDataBySystemName"
            ]
        },
        {
            "cell_type": "markdown",
            "source": [
                "<a id='view-loaded-yearly-yield-curve'></a>",
                "\n## View loaded Yearly Yield Curve"
            ]
        },
        {
            "cell_type": "markdown",
            "source": [
                "Here the correct Yield Curve is chosen among those imported from <code>Initialization/Systemorph/Data.csv</code> according to the [current period](#year-and-period) and the Aoc Step according the [Aoc Configuration](../DataModel/DataStructure#aoc-configuration). In the following we retrieve the desired identity."
            ]
        },
        {
            "cell_type": "code",
            "source": [
                "var aocType = \"CL\";",
                "\nvar novelty = \"C\";"
            ]
        },
        {
            "cell_type": "code",
            "source": [
                "var id = Test.GetIdentity(groupOfContract, aocType, novelty);"
            ]
        },
        {
            "cell_type": "code",
            "source": [
                "var yearlyYieldCurve = Test.GetStorage().GetYearlyYieldCurve(id, economicBasis);"
            ]
        },
        {
            "cell_type": "code",
            "source": [
                "yearlyYieldCurve"
            ]
        },
        {
            "cell_type": "markdown",
            "source": [
                "<a id='view-loaded-nominal-cashflows'></a>",
                "\n## View loaded Nominal Cashflows"
            ]
        },
        {
            "cell_type": "markdown",
            "source": [
                "The nominal Cashflows for the current period are loaded together with last period Cashflows for Group of Contract that were already existent. ",
                "\n",
                "\nThe relative files are located in: <code>Files/</code>.",
                "\n",
                "\nThe result is showed in the following list to be compared with the entries of the csv files"
            ]
        },
        {
            "cell_type": "code",
            "source": [
                "Test.GetStorage().GetRawVariables(groupOfContract)"
            ]
        },
        {
            "cell_type": "markdown",
            "source": [
                "<br/><br/>",
                "\n<a id='interest-and-discount-rates'></a>",
                "\n# Interest and Discount Rates"
            ]
        },
        {
            "cell_type": "markdown",
            "source": [
                "The Yield Curve ${\\text{YC}_i}$ associated to the the [selected period](#year-and-period) and target currency of the Group of Contract Reporting Node is [displayed above](#view-loaded-yearly-yield-curve) and used in this section to calculate the Interest and Discount factors",
                "\n",
                "\n$$",
                "\n\\text{Interest}_i = \\big( 1 + \\text{YC}_i \\big) ^{\\frac{1}{12}} ~,",
                "\n$$",
                "\n",
                "\nand",
                "\n",
                "\n\\begin{align}",
                "\n\\text{Discount}_i = \\big( 1 + \\text{YC}_i \\big) ^{-\\frac{1}{12}} ~.",
                "\n\\end{align}"
            ]
        },
        {
            "cell_type": "markdown",
            "source": [
                "In the Scope named *MonthlyRate* the Interest and Discount factors are computed"
            ]
        },
        {
            "cell_type": "code",
            "source": [
                "var computedMonthlyRates = Test.GetScope<MonthlyRate>( id );"
            ]
        },
        {
            "cell_type": "code",
            "source": [
                "computedMonthlyRates"
            ]
        },
        {
            "cell_type": "markdown",
            "source": [
                "## Interest"
            ]
        },
        {
            "cell_type": "markdown",
            "source": [
                "In the following, the Interest factors computed by the application are recalculated independently according to the formula above in two different ways"
            ]
        },
        {
            "cell_type": "code",
            "source": [
                "var expectedInterest = yearlyYieldCurve.Select( yc => (1 + yc)^( 1.0 / 12.0) );",
                "\nexpectedInterest"
            ]
        },
        {
            "cell_type": "code",
            "source": [
                "from yc in yearlyYieldCurve select (1 + yc)^( 1.0 / 12.0 ) "
            ]
        },
        {
            "cell_type": "code",
            "source": [
                "computedMonthlyRates.Interest.CheckEquality( expectedInterest ).Should().Be(true);"
            ]
        },
        {
            "cell_type": "markdown",
            "source": [
                "## Discount"
            ]
        },
        {
            "cell_type": "markdown",
            "source": [
                "The following recalculates the Discount factors to be compared with the computed values"
            ]
        },
        {
            "cell_type": "code",
            "source": [
                "var expectedDiscount = yearlyYieldCurve.Select( yc => (1 + yc)^( -1.0 / 12.0) );",
                "\nexpectedDiscount"
            ]
        },
        {
            "cell_type": "code",
            "source": [
                "computedMonthlyRates.Discount.CheckEquality( expectedDiscount ).Should().Be(true);"
            ]
        },
        {
            "cell_type": "markdown",
            "source": [
                "## Test method: Get Valid Element"
            ]
        },
        {
            "cell_type": "markdown",
            "source": [
                "Given the present Yield Curve array has finite *length*, the extrapolation implemented is taking the last element for all successive years. This behavior is given by the function *GetValidElement*. The test in this section assures that constant extrapolation is taken for *index* > *length*"
            ]
        },
        {
            "cell_type": "code",
            "source": [
                "expectedDiscount.GetValidElement( 120 )"
            ]
        },
        {
            "cell_type": "code",
            "source": [
                "expectedDiscount.GetValidElement( 120 ).Should().Be( expectedDiscount.Last() );"
            ]
        },
        {
            "cell_type": "markdown",
            "source": [
                "<br/><br/>",
                "\n# Cashflows"
            ]
        },
        {
            "cell_type": "markdown",
            "source": [
                "This section deals with the calculation of the *Cumulated Discounted Cashflows* (CDC) starting from the nominal Cashflows. "
            ]
        },
        {
            "cell_type": "markdown",
            "source": [
                "## Choose identity"
            ]
        },
        {
            "cell_type": "markdown",
            "source": [
                "Each loaded nominal Cashflows is assigned to a so-called *Identity* which uniquely identifies it based on the *Data Node*, *Aoc Type*, and *Novelty*. In the following cells we retrieve the desired Identity:"
            ]
        },
        {
            "cell_type": "code",
            "source": [
                "var aocType = \"CL\";",
                "\nvar novelty = \"C\";"
            ]
        },
        {
            "cell_type": "code",
            "source": [
                "var id = Test.GetIdentity(groupOfContract, aocType, novelty);"
            ]
        },
        {
            "cell_type": "markdown",
            "source": [
                "<a id='nominal-cashflow'></a>",
                "\n## Nominal Cashflow"
            ]
        },
        {
            "cell_type": "markdown",
            "source": [
                "Consider the two Amount Type *PR* and *NIC*, with Transaction Period being *Beginning of Period* (BOP) and *End of Period* (EOP), respectively. The corresponding nominal Cashflows are deposited in the Scopes named *NominalCashflow* with the Identity provided above, Calculation Type *BE*, and the aforementioned Amount Types. These nominal Cashflows correspond with those [loaded from the csv files](#view-loaded-nominal-cashflows).  "
            ]
        },
        {
            "cell_type": "code",
            "source": [
                "var amountTypePR = \"PR\";",
                "\nvar amountTypeNIC = \"NIC\";",
                "\nvar estimateType = \"BE\";",
                "\nvar accidentYear = (int?)null;"
            ]
        },
        {
            "cell_type": "code",
            "source": [
                "var nominalPR = Test.GetScope<NominalCashflow>((id, amountTypePR, estimateType, accidentYear));"
            ]
        },
        {
            "cell_type": "code",
            "source": [
                "nominalPR"
            ]
        },
        {
            "cell_type": "code",
            "source": [
                "var nominalNIC = Test.GetScope<NominalCashflow>((id, amountTypeNIC, estimateType, accidentYear));"
            ]
        },
        {
            "cell_type": "code",
            "source": [
                "nominalNIC"
            ]
        },
        {
            "cell_type": "markdown",
            "source": [
                "<a id='cumulated-discounted-cashflow'></a>",
                "\n## Cumulated Discounted Cashflow"
            ]
        },
        {
            "cell_type": "markdown",
            "source": [
                "The CDC is defined by the following recursive formulas",
                "\n",
                "\n$$",
                "\n\\text{CDC}_t = \\left\\{",
                "\n\\begin{array}{cl}",
                "\n\\text{Nominal}_t + \\text{CDC}_{t+1} \\cdot {\\text{Valid Discount}_{\\frac{t}{12}}} ~, & \\text{if Transaction Period is Beginning of Period} \\\\",
                "\n\\big( \\text{Nominal}_t + \\text{CDC}_{t+1} \\big) \\cdot {\\text{Valid Discount}_{\\frac{t}{12}}} ~, & \\text{if Transaction Period is End of Period}",
                "\n\\end{array}",
                "\n\\right.",
                "\n$$",
                "\n",
                "\nwhere the Transaction Period depends on the given cashflow Amount Type. "
            ]
        },
        {
            "cell_type": "markdown",
            "source": [
                "### Beginning of Period"
            ]
        },
        {
            "cell_type": "markdown",
            "source": [
                "The Amount Type **Premiums** (PR) has Transaction Period **Beginning of Period** (BOP). The corresponding CDC calculated by the application is"
            ]
        },
        {
            "cell_type": "code",
            "source": [
                "var computedDiscountedPR = Test.GetScope<DiscountedCashflow>((id, amountTypePR, estimateType, accidentYear));"
            ]
        },
        {
            "cell_type": "code",
            "source": [
                "computedDiscountedPR"
            ]
        },
        {
            "cell_type": "markdown",
            "source": [
                "In the following cell we independently evaluate the expected discounted cashflow according to the formula above:"
            ]
        },
        {
            "cell_type": "code",
            "source": [
                "var expectedDiscountedPR = new double[nominalPR.Values.Length];",
                "\n",
                "\nEnumerable.Range(0, nominalPR.Values.Length).Reverse()",
                "\n    .ForEach( i => expectedDiscountedPR[i] = nominalPR.Values[i] + expectedDiscountedPR.GetValidElement(i+1) * expectedDiscount.GetValidElement(i/12) );"
            ]
        },
        {
            "cell_type": "code",
            "source": [
                "expectedDiscountedPR"
            ]
        },
        {
            "cell_type": "code",
            "source": [
                "(nominalPR.Values, nominalPR.Values.Length)"
            ]
        },
        {
            "cell_type": "markdown",
            "source": [
                "The expected cumulated discount is compared with the computed values"
            ]
        },
        {
            "cell_type": "code",
            "source": [
                "computedDiscountedPR.Values.CheckEquality( expectedDiscountedPR )"
            ]
        },
        {
            "cell_type": "code",
            "source": [
                "computedDiscountedPR.Values.CheckEquality( expectedDiscountedPR ).Should().Be(true);"
            ]
        },
        {
            "cell_type": "markdown",
            "source": [
                "### End Of Period"
            ]
        },
        {
            "cell_type": "markdown",
            "source": [
                "The Amount Type **Non Investment Component** (NIC) has Transaction Period **End of Period** (EOP). The corresponding CDC calculated by the application is"
            ]
        },
        {
            "cell_type": "code",
            "source": [
                "var computedDiscountedNIC = Test.GetScope<DiscountedCashflow>((id, amountTypeNIC, estimateType, accidentYear));"
            ]
        },
        {
            "cell_type": "code",
            "source": [
                "computedDiscountedNIC"
            ]
        },
        {
            "cell_type": "markdown",
            "source": [
                "In the following cell we independently evaluate the expected discounted cashflow according to the formula above:"
            ]
        },
        {
            "cell_type": "code",
            "source": [
                "var expectedDiscountedNIC = new double[nominalNIC.Values.Length];",
                "\n",
                "\nEnumerable.Range(0, nominalNIC.Values.Length).Reverse()",
                "\n    .ForEach( i => expectedDiscountedNIC[i] = ( nominalNIC.Values[i] + expectedDiscountedNIC.GetValidElement(i+1) ) * expectedDiscount.GetValidElement(i/12) );"
            ]
        },
        {
            "cell_type": "code",
            "source": [
                "expectedDiscountedNIC"
            ]
        },
        {
            "cell_type": "markdown",
            "source": [
                "The expected cumulated discount is compared with the computed values"
            ]
        },
        {
            "cell_type": "code",
            "source": [
                "computedDiscountedNIC.Values.CheckEquality( expectedDiscountedNIC )"
            ]
        },
        {
            "cell_type": "code",
            "source": [
                "computedDiscountedNIC.Values.CheckEquality( expectedDiscountedNIC ).Should().Be(true);"
            ]
        },
        {
            "cell_type": "markdown",
            "source": [
                "<a id='non-performance-risk-adjustment'></a>",
                "\n## Non Performance Risk Adjustment"
            ]
        },
        {
            "cell_type": "markdown",
            "source": [
                "In this section we treat the determination of the non-performance risk adjustment, an element offsetting partially future",
                "\nclaims according to the risk that the reinsurance company cannot fulfil the full extent of its obligations.",
                "\n",
                "\nFirstly, the discounting recursive relation can be written explicitly as",
                "\n",
                "\n$$",
                "\n\\begin{array}{l}",
                "\n\\text{CDC}_t = \\big( \\text{Nominal}_t + \\text{CDC}_{t+1} \\big) \\cdot {\\text{Valid Discount}_{\\frac{t}{12}}} \\\\",
                "\n\\Rightarrow \\text{CDC}_t = \\sum_{\\tau=t} \\big( \\text{Valid Discount}_{\\frac{t}{12}} \\big)^{\\tau-t+1} \\cdot \\text{Nominal}_\\tau ",
                "\n\\end{array}",
                "\n$$",
                "\n",
                "\nFor nominal Cashflows with Amount Type being *Claims*, the risk-adjusted Cumulated Discounted Cashflow ",
                "\nis assigned the Amount Type **Credit Default Risk** (CDR), ",
                "\nand is obtained by multiplying the right hand side of the latter formula by the corresponding risk factor",
                "\n",
                "\n$$",
                "\n\\text{CDC}_t^{\\text{Amount Type}=\\text{CDR}} = \\sum_{\\tau=t} \\big( \\text{Valid Discount}_{\\frac{t}{12}} \\big)^{\\tau-t+1} \\cdot \\text{Nominal}_\\tau^{\\text{Claim}} \\cdot \\big( e^{-\\gamma(\\tau-t)} -1 \\big)",
                "\n$$",
                "\n",
                "\nwhere $\\gamma$ is the assumed non-performance probability of the reinsurer to be provided as an [input parameter](../DataModel/DataStructure#credit-default-rate).",
                "\n",
                "\nThis rate is constant for the whole projection period, that is, $\\gamma$ is not a function of $t$. ",
                "\nIt effectively amounts to a constant increase in the continuous discount rate by $\\gamma$. "
            ]
        },
        {
            "cell_type": "markdown",
            "source": [
                "### Explicit vs recursive formula"
            ]
        },
        {
            "cell_type": "markdown",
            "source": [
                "The explicit formula is tested versus the expected result obtained with the recursive formula"
            ]
        },
        {
            "cell_type": "code",
            "source": [
                "var expectedDiscountedNICbis = new double[nominalNIC.Values.Length];",
                "\n",
                "\n//for(int t = 0; t < 12; t++)",
                "\n//    for(int tau = t; tau < 12; tau++)",
                "\n//        expectedDiscountedNICbis[t] += nominalNIC.Values[tau] * Math.Pow(expectedDiscount.GetValidElement(t/12), tau-t+1);",
                "\n",
                "\nEnumerable.Range(0, nominalNIC.Values.Length)",
                "\n    .ForEach( i => expectedDiscountedNICbis[i] = ",
                "\n        Enumerable.Range(i, nominalNIC.Values.Length-i).Select( tau => nominalNIC.Values[tau] * Math.Pow(expectedDiscount.GetValidElement(i/12), tau-i+1) ).Sum() );",
                "\n    ",
                "\nexpectedDiscountedNIC.CheckEquality( expectedDiscountedNICbis )"
            ]
        },
        {
            "cell_type": "markdown",
            "source": [
                "### Risk Adjusted Claims "
            ]
        },
        {
            "cell_type": "markdown",
            "source": [
                "The computed CDC with Amount Type being CDR reads"
            ]
        },
        {
            "cell_type": "code",
            "source": [
                "var computedDiscountedCRD = Test.GetScope<DiscountedCashflow>((id, \"CDR\", estimateType, accidentYear));"
            ]
        },
        {
            "cell_type": "code",
            "source": [
                "computedDiscountedCRD"
            ]
        },
        {
            "cell_type": "markdown",
            "source": [
                "The starting point for the non performance risk adjustment is the computation of the sum of nominal Cashflows with Amount Type **Claims** listed below"
            ]
        },
        {
            "cell_type": "code",
            "source": [
                "Test.GetStorage().GetClaims()"
            ]
        },
        {
            "cell_type": "markdown",
            "source": [
                "with the corresponding nominal Cashflows being"
            ]
        },
        {
            "cell_type": "code",
            "source": [
                "var nominalNIC = Test.GetScope<NominalCashflow>((id, \"NIC\", estimateType, accidentYear));",
                "\nnominalNIC"
            ]
        },
        {
            "cell_type": "code",
            "source": [
                "var nominalICO = Test.GetScope<NominalCashflow>((id, \"ICO\", estimateType, accidentYear));",
                "\nnominalICO"
            ]
        },
        {
            "cell_type": "code",
            "source": [
                "var nominalALE = Test.GetScope<NominalCashflow>((id, \"ALE\", estimateType, accidentYear));",
                "\nnominalNIC"
            ]
        },
        {
            "cell_type": "code",
            "source": [
                "var nominalULE = Test.GetScope<NominalCashflow>((id, \"ULE\", estimateType, accidentYear));",
                "\nnominalNIC"
            ]
        },
        {
            "cell_type": "code",
            "source": [
                "var nominalClaims = nominalICO.Values + nominalNIC.Values + nominalALE.Values + nominalULE.Values;"
            ]
        },
        {
            "cell_type": "markdown",
            "source": [
                "Secondly, the correct credit risk rate (parameter $\\gamma$ in the [formula above](#non-performance-risk-adjustment)) is retrieved from the list of imported [Partner Rating](../DataModel/DataStructure) and [Credit Default Rates](../DataModel/DataStructure) relative to the target [Data Node](#year-and-period)'s Partner"
            ]
        },
        {
            "cell_type": "code",
            "source": [
                "groupOfContract"
            ]
        },
        {
            "cell_type": "code",
            "source": [
                "var creditDefaultRate = Test.GetStorage().GetNonPerformanceRiskRate( id );",
                "\ncreditDefaultRate"
            ]
        },
        {
            "cell_type": "markdown",
            "source": [
                "Lastly, using the [formula above](#non-performance-risk-adjustment), the expected CDR discounted Cashflow can be computed"
            ]
        },
        {
            "cell_type": "code",
            "source": [
                "var expectedDiscountedCDR = new double[nominalNIC.Values.Length];",
                "\n",
                "\nEnumerable.Range(0, nominalClaims.Length).ForEach( t => ",
                "\n    expectedDiscountedCDR[t] = Enumerable.Range(t, nominalClaims.Length-t).Select( tau => ",
                "\n                                  nominalClaims[tau] * Math.Pow(expectedDiscount.GetValidElement(t/12), tau-t+1) * (Math.Exp(-creditDefaultRate*(tau-t)) - 1)",
                "\n                               ).Sum() );",
                "\n",
                "\nexpectedDiscountedCDR"
            ]
        },
        {
            "cell_type": "markdown",
            "source": [
                "Finally, the expected cumulated discount is compared with the computed values"
            ]
        },
        {
            "cell_type": "code",
            "source": [
                "computedDiscountedCRD.Values.CheckEquality( expectedDiscountedCDR )"
            ]
        },
        {
            "cell_type": "code",
            "source": [
                "computedDiscountedCRD.Values.CheckEquality( expectedDiscountedCDR ).Should().Be(true);"
            ]
        },
        {
            "cell_type": "markdown",
            "source": [
                "<br/><br/>",
                "\n<a id='present-values'></a>",
                "\n# Present Values"
            ]
        },
        {
            "cell_type": "markdown",
            "source": [
                "For an implementation of these formulas refer to the [ImportScopeCalculation notebook](../Import/ImportScopeCalculation). "
            ]
        },
        {
            "cell_type": "markdown",
            "source": [
                "The company portfolio value in one period is given by the following Analysis of Change AoC steps:",
                "\n1. Beginning of Period (BoP): starting value of the portfolio as of December last year (in the Year to Date view), ",
                "\n2. Model Corrections (MC): change of the portfolio value based on the model change,",
                "\n3. Cash Flow (CF):",
                "\n4. Interest Accretion (IA): ",
                "\n5. Assumption Update (AU): ",
                "\n6. Yield Curve Update (YCU): impact of yield curve update occured during the reporting period,",
                "\n7. Credit Risk Update (CRU): impact of credit default rate update occured during the reporting period,",
                "\n8. Experience Variance (EV): value adjustments following insurance related events which took place (e.g. mortality),",
                "\n9. Combined Liabilities (CL):",
                "\n10. End of Period (EOP): portfolio value at the end of the current period.",
                "\n",
                "\nNote: the AoC steps WO, EA and AM are not included in the Present Value calculation, hence their values if inquired is zero."
            ]
        },
        {
            "cell_type": "markdown",
            "source": [
                "The Present Value Base (PVB) values are valid for all [Economic Basis](../DataModel/DataStructure#economic-basis) and depends on the corresponding [AoCType](../DataModel/DataStructure#aoc-type):",
                "\n",
                "\n$$",
                "\n\\text{PVB}_t \\big(\\text{AoC}\\big) = ",
                "\n\\left\\{",
                "\n\\begin{array}{cl}",
                "\n\\text{CDC}_t                                                           & \\text{if AoC is Beginning of Period (BOP) } \\\\",
                "\n-\\text{Nominal}_t(\\text{Parent AoC})                                   & \\text{if AoC is Expected Cashflow (CF) } \\\\",
                "\n\\text{InterestAccretion}_t                                             & \\text{if AoC is Interest Accretion (IA) } \\\\",
                "\n\\text{CDC}_t(\\text{Parent AoC})                                        & \\text{if AoC is End of Period (EOP) } \\\\",
                "\n\\text{CDC}_{t}(\\text{current AoC}) - \\text{CDC}_{t}(\\text{parent AoC}) & \\text{otherwise}",
                "\n\\end{array}",
                "\n\\right.",
                "\n$$",
                "\n",
                "\nand the Projected Present Value (PPV) reads",
                "\n",
                "\n$$",
                "\n\\text{PPV} \\big(\\text{AoC},\\text{TS},\\text{S}\\big) = \\left\\{",
                "\n\\begin{array}{cll}",
                "\n\\text{PVB}_{S}                        & \\text{if AoC Valuation Period is Beginning of Period } & \\text{ (e.g. BOP, MC) } \\\\",
                "\n\\text{PVB}_{S+TS/2 -1}                & \\text{if AoC Valuation Period is Mid of Period }       & \\text{ (no examples in current data model) } \\\\",
                "\n\\sum_{i=S}^{S + TS -1}\\text{PVB}_{i}  & \\text{if AoC Valuation Period is Delta }               & \\text{ (e.g. CF, IA) } \\\\",
                "\n\\text{PVB}_{S + TS}                   & \\text{if AoC Valuation Period is End of Period }       & \\text{ (e.g. YCU, CRU, EV, CL, EOP) } \\\\",
                "\n\\end{array}",
                "\n\\right.",
                "\n$$",
                "\n",
                "\nwhere the Shift (S) and Time Step (TS) are derived from the current [Year and Period](#year-and-period)"
            ]
        },
        {
            "cell_type": "code",
            "source": [
                "var projectionPeriod = 0;"
            ]
        },
        {
            "cell_type": "code",
            "source": [
                "Test.GetStorage().GetShift(projectionPeriod)"
            ]
        },
        {
            "cell_type": "code",
            "source": [
                "Test.GetStorage().GetTimeStep(projectionPeriod)"
            ]
        },
        {
            "cell_type": "markdown",
            "source": [
                "## Load Cashflow Data"
            ]
        },
        {
            "cell_type": "code",
            "source": [
                "#!eval-notebook \"../Initialization/InitSystemorphToMemory\""
            ]
        },
        {
            "cell_type": "code",
            "source": [
                "Workspace.InitializeFrom(DataSource);"
            ]
        },
        {
            "cell_type": "markdown",
            "source": [
                "At this point standard Cashflows are loaded."
            ]
        },
        {
            "cell_type": "markdown",
            "source": [
                "Initialization of the Test suite: the data loaded from csv files are ready to be used by the Scopes for the calculations"
            ]
        },
        {
            "cell_type": "code",
            "source": [
                "var Test = await StartCalculatorAsync(reportingNode, year, month, economicBasis, Periodicity.Quarterly, ImportFormats.Cashflow);"
            ]
        },
        {
            "cell_type": "markdown",
            "source": [
                "## Select Group of Contract",
                "\n",
                "\nHere, it is possible to select the Group of Contract used to run the next section of this Notebook."
            ]
        },
        {
            "cell_type": "code",
            "source": [
                "groupOfContract = \"DTR1.1\" ;"
            ]
        },
        {
            "cell_type": "markdown",
            "source": [
                "## Beginning of Period"
            ]
        },
        {
            "cell_type": "markdown",
            "source": [
                "The computed Present Value for Aoc type Beginning of Period is:"
            ]
        },
        {
            "cell_type": "code",
            "source": [
                "var idBoP = Test.GetIdentity(groupOfContract, \"BOP\", \"I\");",
                "\nidBoP"
            ]
        },
        {
            "cell_type": "code",
            "source": [
                "var computedPresentValueBoP_PR = Test.GetScope<PresentValue>((idBoP, \"PR\", \"BE\", (int?)null));",
                "\ncomputedPresentValueBoP_PR"
            ]
        },
        {
            "cell_type": "markdown",
            "source": [
                "According to the [formula](#present-values) above, the expected BOP AoCType for PVB is defined to be equal to the discounted cashflows with the same Identity, Amount Type, and Calculation Type, whereas the PPV is the S-th element of the PVB."
            ]
        },
        {
            "cell_type": "code",
            "source": [
                "var discountedBoP_PR = Test.GetScope<DiscountedCashflow>((idBoP, \"PR\", \"BE\", (int?)null));",
                "\ndiscountedBoP_PR"
            ]
        },
        {
            "cell_type": "code",
            "source": [
                "var expectedPresentValueBoP_PR = discountedBoP_PR.Values;"
            ]
        },
        {
            "cell_type": "markdown",
            "source": [
                "In the following cell we check whether the expected values match the computed values"
            ]
        },
        {
            "cell_type": "code",
            "source": [
                "computedPresentValueBoP_PR.Values.CheckEquality( expectedPresentValueBoP_PR )"
            ]
        },
        {
            "cell_type": "code",
            "source": [
                "computedPresentValueBoP_PR.Values.CheckEquality( expectedPresentValueBoP_PR ).Should().Be(true);"
            ]
        },
        {
            "cell_type": "markdown",
            "source": [
                "<a id='model-corrections'></a>",
                "\n## Model Corrections"
            ]
        },
        {
            "cell_type": "markdown",
            "source": [
                "The computed Present Value for Aoc type Model Corrections is:"
            ]
        },
        {
            "cell_type": "code",
            "source": [
                "var idMC = Test.GetIdentity(groupOfContract, \"MC\", \"I\");",
                "\nidMC"
            ]
        },
        {
            "cell_type": "code",
            "source": [
                "var computedPresentValueMC_PR = Test.GetScope<PresentValue>((idMC, \"PR\", \"BE\", (int?)null));",
                "\ncomputedPresentValueMC_PR"
            ]
        },
        {
            "cell_type": "markdown",
            "source": [
                "According to the [formula](#present-values) above, for MC AoCType, the PVB is equal to the difference between the CDC of the current AoCType and the CDC of its parent. Additionally, the PPV is the S-th element of the PVB."
            ]
        },
        {
            "cell_type": "code",
            "source": [
                "Test.GetScope<ParentAocStep>((idMC, \"PR\")).Values"
            ]
        },
        {
            "cell_type": "code",
            "source": [
                "var discountedMC_PR = Test.GetScope<DiscountedCashflow>((idMC, \"PR\", \"BE\", (int?)null));",
                "\ndiscountedMC_PR"
            ]
        },
        {
            "cell_type": "code",
            "source": [
                "var expectedPresentValueMC_PR = discountedMC_PR.Values - discountedBoP_PR.Values;"
            ]
        },
        {
            "cell_type": "markdown",
            "source": [
                "The expected PVB and PPV are compared with the computed results in the following two cells: "
            ]
        },
        {
            "cell_type": "code",
            "source": [
                "computedPresentValueMC_PR.Values.CheckEquality( expectedPresentValueMC_PR )"
            ]
        },
        {
            "cell_type": "code",
            "source": [
                "computedPresentValueMC_PR.Value == expectedPresentValueMC_PR[0]"
            ]
        },
        {
            "cell_type": "code",
            "source": [
                "computedPresentValueMC_PR.Values.CheckEquality( expectedPresentValueMC_PR ).Should().Be(true);"
            ]
        },
        {
            "cell_type": "code",
            "source": [
                "computedPresentValueMC_PR.Value.Should().Be( expectedPresentValueMC_PR[0] );"
            ]
        },
        {
            "cell_type": "markdown",
            "source": [
                "## Cashflow"
            ]
        },
        {
            "cell_type": "markdown",
            "source": [
                "The computed Present Value for Aoc type Cashflow is:"
            ]
        },
        {
            "cell_type": "code",
            "source": [
                "var idCF = Test.GetIdentity(groupOfContract, \"CF\", \"I\");",
                "\nidCF"
            ]
        },
        {
            "cell_type": "code",
            "source": [
                "var computedPresentValueCF_PR = Test.GetScope<PresentValue>((idCF, \"PR\", \"BE\", (int?)null));",
                "\ncomputedPresentValueCF_PR"
            ]
        },
        {
            "cell_type": "markdown",
            "source": [
                "According to the [formula](#present-values) above, for CF AoCType, the PVB is equal to the nominal cashflow of its parent AoC step with opposite sign. The PPV is given by the sum of the first 3 elements."
            ]
        },
        {
            "cell_type": "code",
            "source": [
                "var cfReferenceAocStep = Test.GetScope<ReferenceAocStep>(idCF).Value;",
                "\ncfReferenceAocStep"
            ]
        },
        {
            "cell_type": "code",
            "source": [
                "var cfNominalReference_PR = Test.GetScope<NominalCashflow>((idCF with {AocType = cfReferenceAocStep.AocType}, \"PR\", \"BE\", (int?)null));",
                "\ncfNominalReference_PR"
            ]
        },
        {
            "cell_type": "code",
            "source": [
                "var expectedPresentValueCF_PR = -1.0 * cfNominalReference_PR.Values;"
            ]
        },
        {
            "cell_type": "markdown",
            "source": [
                "The expected PVB and PPV are compared with the computed results in the following two cells: "
            ]
        },
        {
            "cell_type": "code",
            "source": [
                "computedPresentValueCF_PR.Values.CheckEquality( expectedPresentValueCF_PR )"
            ]
        },
        {
            "cell_type": "code",
            "source": [
                "computedPresentValueCF_PR.Values[0] + computedPresentValueCF_PR.Values[1] + computedPresentValueCF_PR.Values[2] == computedPresentValueCF_PR.Value"
            ]
        },
        {
            "cell_type": "code",
            "source": [
                "computedPresentValueCF_PR.Values.CheckEquality( expectedPresentValueCF_PR ).Should().Be(true);"
            ]
        },
        {
            "cell_type": "code",
            "source": [
                "computedPresentValueCF_PR.Value.Should().Be( computedPresentValueCF_PR.Values[0] + computedPresentValueCF_PR.Values[1] + computedPresentValueCF_PR.Values[2] );"
            ]
        },
        {
            "cell_type": "markdown",
            "source": [
                "<a id='interest-accretion'></a>",
                "\n## Interest Accretion"
            ]
        },
        {
            "cell_type": "markdown",
            "source": [
                "For IA AoCType, the PVB is given by the following relation  ",
                "\n",
                "\n$$",
                "\n\\text{InterestAccretion}_i = \\left\\{",
                "\n\\begin{array}{cl}",
                "\n\\big(\\text{CDC}_i(\\text{Parent AoC}) - \\text{Nominal}_i(\\text{parent AoC}) \\big) \\cdot \\big({\\text{Valid Interest}_{\\frac{i}{12}}} - 1 \\big)~, ",
                "\n    & \\text{if AmountType Transaction Period is Beginning of Period} \\\\",
                "\n\\text{CDC}_i(\\text{parent AoC}) \\cdot \\big({\\text{Valid Interest}_{\\frac{i}{12}}} - 1 \\big)~, ",
                "\n    & \\text{otherwise}",
                "\n\\end{array}",
                "\n\\right.",
                "\n$$",
                "\n",
                "\nwhile the PPV is given by the sum of the first S elements.",
                "\n",
                "\nWhen selecting the Identity, note that the Novelty *C* is not contemplated for Interest Accretion."
            ]
        },
        {
            "cell_type": "code",
            "source": [
                "var idIA = Test.GetIdentity(groupOfContract, \"IA\", \"I\");",
                "\nidIA"
            ]
        },
        {
            "cell_type": "markdown",
            "source": [
                "### Amount Type BOP"
            ]
        },
        {
            "cell_type": "markdown",
            "source": [
                "The computed Present Value for Amount Type **Premiums** (PR) with Transaction Period **Beginning of Period** (BOP) is"
            ]
        },
        {
            "cell_type": "code",
            "source": [
                "var computedPresentValueIA_PR = Test.GetScope<PresentValue>((idIA, \"PR\", \"BE\", (int?)null));",
                "\ncomputedPresentValueIA_PR"
            ]
        },
        {
            "cell_type": "markdown",
            "source": [
                "The Present Value can be recomputed independently following the aforementioned [equation](#interest-accretion) starting from the interest factors, the nominal and discounted Cashflow of the parent Aoc Step"
            ]
        },
        {
            "cell_type": "code",
            "source": [
                "var iaComputedMonthlyRates = Test.GetScope<MonthlyRate>( idIA );",
                "\niaComputedMonthlyRates"
            ]
        },
        {
            "cell_type": "code",
            "source": [
                "var iaReferenceAocStep = Test.GetScope<ReferenceAocStep>(idIA).Value;",
                "\niaReferenceAocStep"
            ]
        },
        {
            "cell_type": "code",
            "source": [
                "var nominalIaReference_PR = Test.GetScope<NominalCashflow>((idIA with {AocType = iaReferenceAocStep.AocType}, \"PR\", \"BE\", (int?)null));",
                "\nnominalIaReference_PR"
            ]
        },
        {
            "cell_type": "code",
            "source": [
                "var discountedIaReference_PR = Test.GetScope<DiscountedCashflow>((idIA with {AocType = iaReferenceAocStep.AocType}, \"PR\", \"BE\", (int?)null));",
                "\ndiscountedIaReference_PR"
            ]
        },
        {
            "cell_type": "code",
            "source": [
                "var expectedPresentValueIA_PR = discountedIaReference_PR.Values.Select((val, index) => ( val - nominalIaReference_PR.Values[index]) * ( iaComputedMonthlyRates.Interest.GetValidElement(index/12) -1));"
            ]
        },
        {
            "cell_type": "markdown",
            "source": [
                "The expected PVB and PPV are compared with the computed results in the following two cells: "
            ]
        },
        {
            "cell_type": "code",
            "source": [
                "computedPresentValueIA_PR.Values.CheckEquality( expectedPresentValueIA_PR )"
            ]
        },
        {
            "cell_type": "code",
            "source": [
                "computedPresentValueIA_PR.Values[0] + computedPresentValueIA_PR.Values[1] + computedPresentValueIA_PR.Values[2] == computedPresentValueIA_PR.Value"
            ]
        },
        {
            "cell_type": "code",
            "source": [
                "computedPresentValueIA_PR.Values.CheckEquality( expectedPresentValueIA_PR ).Should().Be(true);"
            ]
        },
        {
            "cell_type": "code",
            "source": [
                "computedPresentValueIA_PR.Value.Should().Be( computedPresentValueIA_PR.Values[0] + computedPresentValueIA_PR.Values[1] + computedPresentValueIA_PR.Values[2] );"
            ]
        },
        {
            "cell_type": "markdown",
            "source": [
                "### Amount Type EOP"
            ]
        },
        {
            "cell_type": "markdown",
            "source": [
                "The computed Present Value for Amount Type **Non Investment Component** (NIC) with Transaction Period **End of Period** (EOP) is"
            ]
        },
        {
            "cell_type": "code",
            "source": [
                "var computedPresentValueIA_NIC = Test.GetScope<PresentValue>((idIA, \"NIC\", \"BE\", (int?)null));",
                "\ncomputedPresentValueIA_NIC"
            ]
        },
        {
            "cell_type": "markdown",
            "source": [
                "The Present Value can be recomputed independently following the aforementioned [equation](#interest-accretion) starting from the interest monthly rates, the discounted Cashflow of the parent Aoc Step"
            ]
        },
        {
            "cell_type": "code",
            "source": [
                "var iaReferenceAocStep = Test.GetScope<ReferenceAocStep>(idIA).Value;",
                "\niaReferenceAocStep"
            ]
        },
        {
            "cell_type": "code",
            "source": [
                "var discountedIaReference_NIC = Test.GetScope<DiscountedCashflow>((idIA with {AocType = iaReferenceAocStep.AocType}, \"NIC\", \"BE\", (int?)null));",
                "\ndiscountedIaReference_NIC"
            ]
        },
        {
            "cell_type": "code",
            "source": [
                "var expectedPresentValueIA_NIC = discountedIaReference_NIC.Values.Select((val, index) => val * ( iaComputedMonthlyRates.Interest.GetValidElement(index/12) -1));"
            ]
        },
        {
            "cell_type": "markdown",
            "source": [
                "The expected PVB and PPV are compared with the computed results in the following two cells: "
            ]
        },
        {
            "cell_type": "code",
            "source": [
                "computedPresentValueIA_NIC.Values.CheckEquality( expectedPresentValueIA_NIC )"
            ]
        },
        {
            "cell_type": "code",
            "source": [
                "computedPresentValueIA_NIC.Values[0] + computedPresentValueIA_NIC.Values[1] + computedPresentValueIA_NIC.Values[2] == computedPresentValueIA_NIC.Value"
            ]
        },
        {
            "cell_type": "code",
            "source": [
                "computedPresentValueIA_NIC.Values.CheckEquality( expectedPresentValueIA_NIC ).Should().Be(true);"
            ]
        },
        {
            "cell_type": "code",
            "source": [
                "computedPresentValueIA_NIC.Value.Should().Be( computedPresentValueIA_NIC.Values[0] + computedPresentValueIA_NIC.Values[1] + computedPresentValueIA_NIC.Values[2] );"
            ]
        },
        {
            "cell_type": "markdown",
            "source": [
                "## Yield Curve Update"
            ]
        },
        {
            "cell_type": "markdown",
            "source": [
                "The computed Present Value for Aoc type Yield Curve Update is:"
            ]
        },
        {
            "cell_type": "code",
            "source": [
                "var idYcu = Test.GetIdentity(groupOfContract, \"YCU\", \"I\");",
                "\nidYcu"
            ]
        },
        {
            "cell_type": "code",
            "source": [
                "var computedPresentValueYCU_PR = Test.GetScope<PresentValue>((idYcu, \"PR\", \"BE\", (int?)null));",
                "\ncomputedPresentValueYCU_PR"
            ]
        },
        {
            "cell_type": "markdown",
            "source": [
                "The Present Value can be recomputed independently following the aforementioned [equation](#interest-accretion) starting from the discount factors for beginning of period and for end of period applied to the reference Aoc step, followed by the difference between the CDC obtained with end of period discount factor and the CDC obtained with beginning of period discount factor. "
            ]
        },
        {
            "cell_type": "code",
            "source": [
                "var ycReferenceAocStep = Test.GetScope<ReferenceAocStep>(idYcu).Value;",
                "\nycReferenceAocStep"
            ]
        },
        {
            "cell_type": "code",
            "source": [
                "var ycParentAocStep = Test.GetScope<ParentAocStep>((idYcu, \"PR\")).Values.Single();",
                "\nycParentAocStep"
            ]
        },
        {
            "cell_type": "code",
            "source": [
                "var ycParentId = idYcu with {AocType = ycParentAocStep.AocType, Novelty = ycParentAocStep.Novelty};",
                "\nycParentId"
            ]
        },
        {
            "cell_type": "markdown",
            "source": [
                "Here is the parent AocStep discounted with the beginning of period discount factor."
            ]
        },
        {
            "cell_type": "code",
            "source": [
                "var discountedYcParent = Test.GetScope<DiscountedCashflow>((ycParentId, \"PR\", \"BE\", (int?)null));",
                "\ndiscountedYcParent"
            ]
        },
        {
            "cell_type": "markdown",
            "source": [
                "Here we independently compute the CDC of the parent AocStep discounted with end of period discount factor."
            ]
        },
        {
            "cell_type": "code",
            "source": [
                "var nominalYcParent = Test.GetScope<NominalCashflow>((ycParentId, \"PR\", \"BE\", (int?)null));",
                "\nnominalYcParent"
            ]
        },
        {
            "cell_type": "code",
            "source": [
                "var ycComputedMonthlyRates = Test.GetScope<MonthlyRate>( idYcu );",
                "\nycComputedMonthlyRates"
            ]
        },
        {
            "cell_type": "code",
            "source": [
                "var ycReferenceDiscountedEop = new double[nominalYcParent.Values.Length];",
                "\n",
                "\nEnumerable.Range(0, nominalYcParent.Values.Length).Reverse()",
                "\n    .ForEach( i => ycReferenceDiscountedEop[i] = nominalYcParent.Values[i] + ycReferenceDiscountedEop.GetValidElement(i+1) * ycComputedMonthlyRates.Discount.GetValidElement(i/12) );",
                "\nycReferenceDiscountedEop"
            ]
        },
        {
            "cell_type": "code",
            "source": [
                "var expectedPresentValueYCU_PR = ycReferenceDiscountedEop - discountedYcParent.Values;"
            ]
        },
        {
            "cell_type": "code",
            "source": [
                "computedPresentValueYCU_PR.Values.CheckEquality( expectedPresentValueYCU_PR )"
            ]
        },
        {
            "cell_type": "code",
            "source": [
                "computedPresentValueYCU_PR.Value == expectedPresentValueYCU_PR[3]"
            ]
        },
        {
            "cell_type": "code",
            "source": [
                "computedPresentValueYCU_PR.Values.CheckEquality( expectedPresentValueYCU_PR ).Should().Be(true);"
            ]
        },
        {
            "cell_type": "code",
            "source": [
                "computedPresentValueYCU_PR.Value.Should().Be( expectedPresentValueYCU_PR[3] );"
            ]
        },
        {
            "cell_type": "markdown",
            "source": [
                "## Credit Risk Update"
            ]
        },
        {
            "cell_type": "markdown",
            "source": [
                "This Aoc Step is relevant only in the case of a Group of Reinsurance Contract."
            ]
        },
        {
            "cell_type": "markdown",
            "source": [
                "The computed Present Value for Aoc type Credit Risk Update is:"
            ]
        },
        {
            "cell_type": "code",
            "source": [
                "var idCru = Test.GetIdentity(groupOfContract, \"CRU\", \"I\");",
                "\nidCru"
            ]
        },
        {
            "cell_type": "code",
            "source": [
                "var computedPresentValueCRU = Test.GetScope<PresentValue>((idCru, \"CDR\", \"BE\", (int?)null));",
                "\ncomputedPresentValueCRU"
            ]
        },
        {
            "cell_type": "markdown",
            "source": [
                "The Present Value can be recomputed independently starting as the difference between the CDC obtained with end of period credit default risk rate and the CDC obtained with beginning of period credit default risk rate, both computed using the Nominal cashflow of the reference Aoc Step and the End Of Period discounting factors. "
            ]
        },
        {
            "cell_type": "code",
            "source": [
                "var cruReferenceAocStep = Test.GetScope<ReferenceAocStep>(idCru).Value;",
                "\ncruReferenceAocStep"
            ]
        },
        {
            "cell_type": "code",
            "source": [
                "var cruReferenceId = idCru with {AocType = cruReferenceAocStep.AocType, Novelty = cruReferenceAocStep.Novelty};",
                "\ncruReferenceId"
            ]
        },
        {
            "cell_type": "code",
            "source": [
                "var cruParentAocStep = Test.GetScope<ParentAocStep>((idCru, \"CDR\")).Values.Single();",
                "\ncruParentAocStep"
            ]
        },
        {
            "cell_type": "code",
            "source": [
                "var cruParentId = idCru with {AocType = cruParentAocStep.AocType, Novelty = cruParentAocStep.Novelty};",
                "\ncruParentId"
            ]
        },
        {
            "cell_type": "markdown",
            "source": [
                "Here is the parent AocStep discounted with beginning of period credit default risk rate."
            ]
        },
        {
            "cell_type": "code",
            "source": [
                "var discountedCruParent = Test.GetScope<DiscountedCashflow>((cruParentId, \"CDR\", \"BE\", (int?)null));",
                "\ndiscountedCruParent"
            ]
        },
        {
            "cell_type": "code",
            "source": [
                "var nominalCruReference = Test.GetScope<NominalCashflow>((cruReferenceId, \"CDR\", \"BE\", (int?)null)).Values;",
                "\nnominalCruReference"
            ]
        },
        {
            "cell_type": "code",
            "source": [
                "var creditDefaultRate = Test.GetStorage().GetNonPerformanceRiskRate( idCru );",
                "\ncreditDefaultRate"
            ]
        },
        {
            "cell_type": "code",
            "source": [
                "var cruComputedMonthlyRates = Test.GetScope<MonthlyRate>( idCru );",
                "\ncruComputedMonthlyRates"
            ]
        },
        {
            "cell_type": "markdown",
            "source": [
                "Lastly, using the [formula above](#non-performance-risk-adjustment), the expected CDR discounted Cashflow can be computed"
            ]
        },
        {
            "cell_type": "code",
            "source": [
                "var cruExpectedDiscountedCDR = new double[nominalCruReference.Length];",
                "\n",
                "\nEnumerable.Range(0, nominalCruReference.Length).ForEach( t => ",
                "\n    cruExpectedDiscountedCDR[t] = Enumerable.Range(t, nominalCruReference.Length-t).Select( tau => ",
                "\n                                  nominalCruReference[tau] * ",
                "\n                                  Math.Pow(cruComputedMonthlyRates.Discount.GetValidElement(t/12), tau-t+1) * ",
                "\n                                 (Math.Exp(-creditDefaultRate*(tau-t)) - 1)",
                "\n                               ).Sum() );",
                "\n",
                "\ncruExpectedDiscountedCDR"
            ]
        },
        {
            "cell_type": "code",
            "source": [
                "var expectedPresentValueCRU = cruExpectedDiscountedCDR - discountedCruParent.Values;"
            ]
        },
        {
            "cell_type": "code",
            "source": [
                "computedPresentValueCRU.Values.CheckEquality( expectedPresentValueCRU )"
            ]
        },
        {
            "cell_type": "code",
            "source": [
                "computedPresentValueCRU.Value == expectedPresentValueCRU[3]"
            ]
        },
        {
            "cell_type": "code",
            "source": [
                "computedPresentValueCRU.Values.CheckEquality( expectedPresentValueCRU ).Should().Be(true);"
            ]
        },
        {
            "cell_type": "code",
            "source": [
                "computedPresentValueCRU.Value.Should().Be( expectedPresentValueCRU[3] );"
            ]
        },
        {
            "cell_type": "markdown",
            "source": [
                "## Combined Liabilities"
            ]
        },
        {
            "cell_type": "markdown",
            "source": [
                "The computed Present Value for Aoc type Combined Liabilities and Amount Type PR is:"
            ]
        },
        {
            "cell_type": "code",
            "source": [
                "var idCL = Test.GetIdentity(groupOfContract, \"CL\", \"C\");",
                "\nidCL"
            ]
        },
        {
            "cell_type": "code",
            "source": [
                "var computedPresentValueCL_PR = Test.GetScope<PresentValue>((idCL, \"PR\", \"BE\", (int?)null));",
                "\ncomputedPresentValueCL_PR"
            ]
        },
        {
            "cell_type": "markdown",
            "source": [
                "According to the [formula](#present-values) above, for CL AoCType, the PVB is equal to the difference between the CDC of the current AoCType and the CDC of its parent(s). Additionally, the PPV is the $(\\text{S}+\\text{TS})$-th element of the PVB."
            ]
        },
        {
            "cell_type": "code",
            "source": [
                "var clParents = Test.GetScope<ParentAocStep>((idCL,\"PR\")).Values;",
                "\nclParents"
            ]
        },
        {
            "cell_type": "code",
            "source": [
                "var expectedPresentValueCL_PR = Test.GetScope<DiscountedCashflow>((idCL, \"PR\", \"BE\", (int?)null)).Values -",
                "\n                             clParents.Select(aocStep => Test.GetScope<DiscountedCashflow>((idCL with {AocType = aocStep.AocType, Novelty = aocStep.Novelty}, \"PR\", \"BE\", (int?)null)).Values).Aggregate();"
            ]
        },
        {
            "cell_type": "markdown",
            "source": [
                "The expected PVB and PPV are compared with the computed results in the following two cells: "
            ]
        },
        {
            "cell_type": "code",
            "source": [
                "computedPresentValueCL_PR.Values.CheckEquality( expectedPresentValueCL_PR )"
            ]
        },
        {
            "cell_type": "code",
            "source": [
                "computedPresentValueCL_PR.Value == expectedPresentValueCL_PR[3]"
            ]
        },
        {
            "cell_type": "code",
            "source": [
                "computedPresentValueCL_PR.Values.CheckEquality( expectedPresentValueCL_PR ).Should().Be(true);"
            ]
        },
        {
            "cell_type": "code",
            "source": [
                "computedPresentValueCL_PR.Value.Should().Be( expectedPresentValueCL_PR[3] );"
            ]
        },
        {
            "cell_type": "markdown",
            "source": [
                "## End of Period"
            ]
        },
        {
            "cell_type": "markdown",
            "source": [
                "The computed Present Value for Aoc type End of Period is:"
            ]
        },
        {
            "cell_type": "code",
            "source": [
                "var idEOP = Test.GetIdentity(groupOfContract, \"EOP\", \"C\");",
                "\nidEOP"
            ]
        },
        {
            "cell_type": "code",
            "source": [
                "var computedPresentValueEOP_NIC = Test.GetScope<PresentValue>((idEOP, \"NIC\", \"BE\", (int?)null));",
                "\ncomputedPresentValueEOP_NIC"
            ]
        },
        {
            "cell_type": "markdown",
            "source": [
                "According to the [formula](#present-values) above, for EOP AoCType, the PVB is equal to the CDC of the parent AoC step, while the PPV is the $(\\text{S}+\\text{TS})$-th element of the PVB."
            ]
        },
        {
            "cell_type": "code",
            "source": [
                "var eopReferenceAocStep = Test.GetScope<ReferenceAocStep>(idEOP).Value;",
                "\neopReferenceAocStep"
            ]
        },
        {
            "cell_type": "code",
            "source": [
                "var discountedCL_NIC = Test.GetScope<DiscountedCashflow>((idEOP with {AocType = eopReferenceAocStep.AocType, Novelty = eopReferenceAocStep.Novelty}, \"NIC\", \"BE\", (int?)null));",
                "\ndiscountedCL_NIC"
            ]
        },
        {
            "cell_type": "code",
            "source": [
                "var expectedPresentValueEOP_NIC = discountedCL_NIC.Values;"
            ]
        },
        {
            "cell_type": "markdown",
            "source": [
                "The expected PVB and PPV are compared with the computed results in the following two cells: "
            ]
        },
        {
            "cell_type": "code",
            "source": [
                "computedPresentValueEOP_NIC.Values.CheckEquality( expectedPresentValueEOP_NIC )"
            ]
        },
        {
            "cell_type": "code",
            "source": [
                "computedPresentValueEOP_NIC.Value == expectedPresentValueEOP_NIC[3]"
            ]
        },
        {
            "cell_type": "code",
            "source": [
                "computedPresentValueEOP_NIC.Values.CheckEquality( expectedPresentValueEOP_NIC ).Should().Be(true);"
            ]
        },
        {
            "cell_type": "code",
            "source": [
                "computedPresentValueEOP_NIC.Value.Should().Be( expectedPresentValueEOP_NIC[3] );"
            ]
        },
        {
            "cell_type": "markdown",
            "source": [
                "## Check for zero PVB values"
            ]
        },
        {
            "cell_type": "markdown",
            "source": [
                "### Amortization"
            ]
        },
        {
            "cell_type": "markdown",
            "source": [
                "For AM AoCType, the PVB values are zero, i.e. Amortization is not part of the Present Value computation. In this subsection we check whether the corresponding values are zero accordingly. "
            ]
        },
        {
            "cell_type": "code",
            "source": [
                "var idAM = Test.GetIdentity(groupOfContract, \"AM\", \"C\");",
                "\nidAM"
            ]
        },
        {
            "cell_type": "code",
            "source": [
                "var computedPresentValueAM_PR = Test.GetScope<PresentValue>((idAM, \"PR\", \"BE\", (int?)null));",
                "\ncomputedPresentValueAM_PR"
            ]
        },
        {
            "cell_type": "code",
            "source": [
                "var computedPresentValueAM_PR = Test.GetScope<PresentValue>((idAM, \"NIC\", \"BE\", (int?)null));",
                "\ncomputedPresentValueAM_PR"
            ]
        },
        {
            "cell_type": "markdown",
            "source": [
                "<br/><br/>",
                "\n<a id='amortization-factor'></a>",
                "\n# Amortization Factors"
            ]
        },
        {
            "cell_type": "markdown",
            "source": [
                "The amortization factors (AMF) are calculated from the corresponding Nominal and Discounted Cashflows with Calculation Type being *Coverage Units* (CU). ",
                "\nThe monthly AMF is",
                "\n",
                "\n$$",
                "\n\\text{AMF}^{\\text{Monthly}}_t = 1 - \\frac{ \\text{Nominal}^{\\text{Coverage Units}}_t } { \\text{CDC}^{\\text{Coverage Units}}_t } ~,",
                "\n$$",
                "\n",
                "\nwhile the AMF related to the current period is",
                "\n",
                "\n$$",
                "\n\\text{AMF} = \\prod _{t = \\text{S}}^{\\text{S}+\\text{TS}} \\text{AMF}^{\\text{Monthly}}_t  ~.",
                "\n$$",
                "\n",
                "\nwhere the shift S and Time Step TS for the [current period](#year-and-period) are"
            ]
        },
        {
            "cell_type": "code",
            "source": [
                "var projectionPeriod = 0;"
            ]
        },
        {
            "cell_type": "code",
            "source": [
                "var shift = Test.GetStorage().GetShift(projectionPeriod);",
                "\nshift"
            ]
        },
        {
            "cell_type": "code",
            "source": [
                "var timeStep = Test.GetStorage().GetTimeStep(projectionPeriod);",
                "\ntimeStep"
            ]
        },
        {
            "cell_type": "markdown",
            "source": [
                "## Monthly Amortization"
            ]
        },
        {
            "cell_type": "markdown",
            "source": [
                "The computed monthly and current period Amortization Factors derived from a non-zero [imported](#year-and-period) nominal cashflows and its corresponding discounted are shown in the following"
            ]
        },
        {
            "cell_type": "code",
            "source": [
                "var idAM = Test.GetIdentity(groupOfContract, \"CL\", \"C\");",
                "\nidAM"
            ]
        },
        {
            "cell_type": "code",
            "source": [
                "var nominalCashflowAmortizationFactorTest = Test.GetScope<NominalCashflow>( (idAM, default(string), \"CU\", (int?)null) );",
                "\nnominalCashflowAmortizationFactorTest"
            ]
        },
        {
            "cell_type": "code",
            "source": [
                "var discountedCashflowAmortizationFactorTest = Test.GetScope<CoverageUnitCashflow>(idAM);",
                "\ndiscountedCashflowAmortizationFactorTest"
            ]
        },
        {
            "cell_type": "code",
            "source": [
                "var computedMonthlyAmortizationFactor = Test.GetScope<MonthlyAmortizationFactorCashflow>(idAM with {AocType = \"AM\"});",
                "\ncomputedMonthlyAmortizationFactor"
            ]
        },
        {
            "cell_type": "markdown",
            "source": [
                "In the following cell we independently evaluate the expected monthly amortization factor according to the [formula above](#amortization-factor) and we check whether expected vs computed match"
            ]
        },
        {
            "cell_type": "code",
            "source": [
                "var expectedMonthlyAmortizationFactor = nominalCashflowAmortizationFactorTest.Values.Zip(discountedCashflowAmortizationFactorTest.Values, ",
                "\n                                            (nominal, discountedCumulated) => 1 - nominal / discountedCumulated ).ToArray();"
            ]
        },
        {
            "cell_type": "code",
            "source": [
                "expectedMonthlyAmortizationFactor.RepeatOnce()"
            ]
        },
        {
            "cell_type": "code",
            "source": [
                "computedMonthlyAmortizationFactor.MonthlyAmortizationFactors.CheckEquality( expectedMonthlyAmortizationFactor )"
            ]
        },
        {
            "cell_type": "code",
            "source": [
                "computedMonthlyAmortizationFactor.MonthlyAmortizationFactors.CheckEquality( expectedMonthlyAmortizationFactor ).Should().Be(true);"
            ]
        },
        {
            "cell_type": "markdown",
            "source": [
                "## Current Period"
            ]
        },
        {
            "cell_type": "markdown",
            "source": [
                "The computed current period amortization factor is"
            ]
        },
        {
            "cell_type": "code",
            "source": [
                "var computedCurrentPeriodAmortizationFactor = Test.GetScope<CurrentPeriodAmortizationFactor>(idAM with {AocType = \"AM\"});",
                "\ncomputedCurrentPeriodAmortizationFactor"
            ]
        },
        {
            "cell_type": "markdown",
            "source": [
                "Conversely, the current period Amortization factor can be independently computed using the [formula above](#amortization-factor) as"
            ]
        },
        {
            "cell_type": "code",
            "source": [
                "var expectedCurrentPeriodAmortizationFactor = expectedMonthlyAmortizationFactor.Skip(shift).Take(timeStep).Aggregate(1d, (x, y) => x * y);"
            ]
        },
        {
            "cell_type": "code",
            "source": [
                "expectedCurrentPeriodAmortizationFactor"
            ]
        },
        {
            "cell_type": "code",
            "source": [
                "computedCurrentPeriodAmortizationFactor.Value == expectedCurrentPeriodAmortizationFactor"
            ]
        },
        {
            "cell_type": "code",
            "source": [
                "computedCurrentPeriodAmortizationFactor.Value.Should().Be( expectedCurrentPeriodAmortizationFactor );"
            ]
        },
        {
            "cell_type": "markdown",
            "source": [
                "<br/><br/>",
                "\n<a id='persist-results'></a>",
                "\n# Results persisted"
            ]
        },
        {
            "cell_type": "markdown",
            "source": [
                "The last step during the Cashflow import is to save, namely *persist* the Present Values computed with *locked* (L) and *current* (C) economic basis, and calculation type being *Best Estimate* (BE). ",
                "\n",
                "\nThese data is the starting point of the [Contractual Service Margin calculation](\"SpecificationsCSM\")."
            ]
        },
        {
            "cell_type": "code",
            "source": [
                ""
            ]
        }
    ]
}