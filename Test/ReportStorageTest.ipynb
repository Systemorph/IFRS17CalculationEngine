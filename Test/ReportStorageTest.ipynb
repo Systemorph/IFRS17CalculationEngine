{
    "metadata": {
        "authors": [],
        "kernelspec": {
            "display_name": "Formula Framework",
            "language": "C#",
            "name": "C#"
        },
        "language_info": {
            "file_extension": ".cs",
            "mimetype": "text/plain",
            "name": "C#"
        },
        "toc-autonumbering": "True",
        "toc-showcode": "False"
    },
    "nbformat": 4,
    "nbformat_minor": 5,
    "cells": [
        {
            "cell_type": "code",
            "source": [
                "#!eval-notebook \"../Report/ReportStorage\""
            ]
        },
        {
            "cell_type": "code",
            "source": [
                "#!eval-notebook \"../Initialization/InitSystemorphBaseToMemory\""
            ]
        },
        {
            "cell_type": "markdown",
            "source": [
                "# Test Exchange Rate Query"
            ]
        },
        {
            "cell_type": "code",
            "source": [
                "Workspace.Initialize(x => x.FromSource(DataSource)",
                "\n         .DisableInitialization<ExchangeRate>());"
            ]
        },
        {
            "cell_type": "code",
            "source": [
                "public async Task CheckGetFx(string currentCurrency, string targetCurrency, int year, int month, IEnumerable<ExchangeRate> testData, double fxBOPBenchmark, double fxAVGBenchmark, double fxEOPBenchmark)",
                "\n{",
                "\n    await Workspace.UpdateAsync(testData);",
                "\n    ",
                "\n    //Create report storage",
                "\n    var period = (year, month);",
                "\n    var reportStorage = new ReportStorage(Workspace, Report);",
                "\n    await reportStorage.InitializeReportIndependentCacheAsync();",
                "\n    await reportStorage.InitializeAsync(period, \"G\", null, CurrencyType.Contractual);",
                "\n    ",
                "\n    var fxBOP = reportStorage.GetFx(period, currentCurrency, targetCurrency, FxPeriod.BeginningOfPeriod);",
                "\n    var fxAVG = reportStorage.GetFx(period, currentCurrency, targetCurrency, FxPeriod.Average);",
                "\n    var fxEOP = reportStorage.GetFx(period, currentCurrency, targetCurrency, FxPeriod.EndOfPeriod);",
                "\n    ",
                "\n    //Check FX rates",
                "\n    fxBOP.Should().Be(fxBOPBenchmark);",
                "\n    fxAVG.Should().Be(fxAVGBenchmark);",
                "\n    fxEOP.Should().Be(fxEOPBenchmark);",
                "\n    ",
                "\n    await Workspace.DeleteAsync(Workspace.Query<ExchangeRate>().ToArray());",
                "\n}"
            ]
        },
        {
            "cell_type": "code",
            "source": [
                "var testData = new ExchangeRate[] {new ExchangeRate{ Currency = \"EUR\", Year = 2020, Month = 12, FxType = FxType.Spot, FxToGroupCurrency = 10 }, ",
                "\n                                 new ExchangeRate{ Currency = \"EUR\", Year = 2021, Month = 3, FxType = FxType.Spot, FxToGroupCurrency = 15 },",
                "\n                                 new ExchangeRate{ Currency = \"EUR\", Year = 2021, Month = 6, FxType = FxType.Average, FxToGroupCurrency = 20 },",
                "\n                                 new ExchangeRate{ Currency = \"EUR\", Year = 2021, Month = 6, FxType = FxType.Spot, FxToGroupCurrency = 30 },",
                "\n                                 new ExchangeRate{ Currency = \"USD\", Year = 2020, Month = 12, FxType = FxType.Spot, FxToGroupCurrency = 5 },",
                "\n                                 new ExchangeRate{ Currency = \"USD\", Year = 2021, Month = 6, FxType = FxType.Average, FxToGroupCurrency = 2 },",
                "\n                                 new ExchangeRate{ Currency = \"USD\", Year = 2021, Month = 6, FxType = FxType.Spot, FxToGroupCurrency = 0.5 }};",
                "\nawait CheckGetFx(\"EUR\", \"USD\", 2021, 6, testData, 2, 10, 60);"
            ]
        },
        {
            "cell_type": "code",
            "source": [
                "Workspace.Reset(x => x.ResetInitializationRules().ResetCurrentPartitions());"
            ]
        },
        {
            "cell_type": "code",
            "source": [
                ""
            ]
        }
    ]
}