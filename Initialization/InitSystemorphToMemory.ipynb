{
  "metadata": {
    "toc-showcode": "False",
    "language_info": {
      "file_extension": ".cs",
      "mimetype": "text/plain",
      "name": "C#"
    },
    "authors": [],
    "kernelspec": {
      "display_name": "Formula Framework",
      "language": "C#",
      "name": "C#"
    },
    "toc-autonumbering": "True"
  },
  "nbformat": 4,
  "nbformat_minor": 5,
  "cells": [
    {
      "id": "p3DIOKsMYUawUuOBORa9iQ",
      "cell_type": "markdown",
      "source": [
        "<p style=\"font-weight:bold;\"> <span style=\"font-size: 36px\"> In Memory Initialization of unconfigured DataSource </span> </p>",
        "\n",
        "\n<a id='init-to-memory'></a>"
      ],
      "metadata": {}
    },
    {
      "id": "M0C3GJVwOkKVrGYTzCLVXw",
      "cell_type": "code",
      "source": [
        "#!eval-notebook \"InitSystemorphBaseToMemory\""
      ],
      "metadata": {},
      "execution_count": 1,
      "outputs": []
    },
    {
      "id": "ekrl841-jk6Qu-cUbOdg9g",
      "cell_type": "code",
      "source": [
        "Workspace.Reset(x => x.ResetInitializationRules().ResetCurrentPartitions());"
      ],
      "metadata": {},
      "execution_count": 1,
      "outputs": []
    },
    {
      "id": "55NcBpz1JU2BhAj8tZAtbg",
      "cell_type": "code",
      "source": [
        "Workspace.InitializeFrom(DataSource);"
      ],
      "metadata": {},
      "execution_count": 1,
      "outputs": []
    },
    {
      "id": "oSjApvqd006sATOwdgj9fA",
      "cell_type": "markdown",
      "source": [
        "# Import of Transactional Data"
      ],
      "metadata": {}
    },
    {
      "id": "_44_VnWkr0KGvFIltkjYlw",
      "cell_type": "code",
      "source": [
        "await UploadOpeningAsync(\"../Files/900.TransactionalData/Openings_CH_2020_12.csv\")"
      ],
      "metadata": {},
      "execution_count": 1,
      "outputs": []
    },
    {
      "id": "-lteFKun20qSXUvjgV0Rtw",
      "cell_type": "code",
      "source": [
        "await UploadCashflowsAsync(\"../Files/900.TransactionalData/NominalCashflows_CH_2020_12.csv\")"
      ],
      "metadata": {},
      "execution_count": 1,
      "outputs": []
    },
    {
      "id": "eZ5TTE-VyEqMqe4FJhoSxw",
      "cell_type": "code",
      "source": [
        "await UploadActualAsync(\"../Files/900.TransactionalData/Actuals_CH_2020_12.csv\")"
      ],
      "metadata": {},
      "execution_count": 1,
      "outputs": []
    },
    {
      "id": "wvXE8jKoiE6GQKf0u2Ja5g",
      "cell_type": "code",
      "source": [
        "await UploadCashflowsAsync(\"../Files/900.TransactionalData/NominalCashflows_CH_2021_3.csv\")"
      ],
      "metadata": {},
      "execution_count": 1,
      "outputs": []
    },
    {
      "id": "y-vXTvD7pEuT7CEINzNlxg",
      "cell_type": "code",
      "source": [
        "await UploadActualAsync(\"../Files/900.TransactionalData/Actuals_CH_2021_3.csv\")"
      ],
      "metadata": {},
      "execution_count": 1,
      "outputs": []
    },
    {
      "id": "CFPyThMEyUSs9Z01gQRMXg",
      "cell_type": "markdown",
      "source": [
        "# Reset Workspace"
      ],
      "metadata": {}
    },
    {
      "id": "6BRncOutP0KF8VwCVa1jYw",
      "cell_type": "code",
      "source": [
        "Workspace.Reset(x => x.ResetInitializationRules().ResetCurrentPartitions());"
      ],
      "metadata": {},
      "execution_count": 1,
      "outputs": []
    },
    {
      "id": "qQmhez-Ep0G2G01ULLKy-g",
      "cell_type": "code",
      "source": [
        ""
      ],
      "metadata": {},
      "execution_count": 1,
      "outputs": []
    }
  ]
}