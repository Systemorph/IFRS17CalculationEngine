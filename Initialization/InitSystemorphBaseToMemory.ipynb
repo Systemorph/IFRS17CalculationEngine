{
  "metadata": {
    "kernelspec": {
      "display_name": "Formula Framework",
      "language": "C#",
      "name": "C#"
    },
    "toc-autonumbering": "True",
    "toc-showcode": "False",
    "authors": [],
    "language_info": {
      "file_extension": ".cs",
      "mimetype": "text/plain",
      "name": "C#"
    }
  },
  "nbformat": 4,
  "nbformat_minor": 5,
  "cells": [
    {
      "id": "IsXau2AxIU6GrqDFBctd_g",
      "cell_type": "markdown",
      "source": [
        "<p style=\"font-weight:bold;\"> <span style=\"font-size: 36px\"> In Memory Initialization of unconfigured DataSource </span> </p>",
        "\n<p style=\"font-weight:bold;\"> <span style=\"font-size: 24px\"> Reference Data and DataNode </span> </p>",
        "\n",
        "\n<a id='init-base-to-memory'></a>"
      ],
      "metadata": {}
    },
    {
      "id": "7UYbILtPnkuX3ekPtoWAWA",
      "cell_type": "code",
      "source": [
        "#!import \"../Import/Importers\""
      ],
      "metadata": {},
      "execution_count": 1,
      "outputs": []
    },
    {
      "id": "X1GMcf7BW0mzdwq86kKuRQ",
      "cell_type": "markdown",
      "source": [
        "# Set default DataSource"
      ],
      "metadata": {}
    },
    {
      "id": "fVAqI420SkWAgNT6ijl6Fg",
      "cell_type": "code",
      "source": [
        "await DataSource.SetAsync();",
        "\nDataSource.Reset(x => x.ResetCurrentPartitions());"
      ],
      "metadata": {},
      "execution_count": 1,
      "outputs": []
    },
    {
      "id": "82iGxa0-z0StnHV9TIuQDQ",
      "cell_type": "markdown",
      "source": [
        "# Initialize Workspace"
      ],
      "metadata": {}
    },
    {
      "id": "t74nFVf0AkOncugJ2F8jUQ",
      "cell_type": "code",
      "source": [
        "Workspace.Reset(x => x.ResetInitializationRules().ResetCurrentPartitions());"
      ],
      "metadata": {},
      "execution_count": 1,
      "outputs": []
    },
    {
      "id": "K898FO9wPUmvy-obSQrJ3Q",
      "cell_type": "code",
      "source": [
        "Workspace.InitializeFrom(DataSource);"
      ],
      "metadata": {},
      "execution_count": 1,
      "outputs": []
    },
    {
      "id": "QppbRvo4lUWN-7dYzi7zqw",
      "cell_type": "markdown",
      "source": [
        "# Import Dimensions, Partitions"
      ],
      "metadata": {}
    },
    {
      "id": "4T9Mtqgv8kuSz7Ro7CfcOw",
      "cell_type": "code",
      "source": [
        "await Import.FromFile(\"../Files/DimensionsAndPartitions.csv\")",
        "\n    .WithType<Novelty>()",
        "\n    .WithType<AocType>()",
        "\n    .WithType<PnlVariableType>()",
        "\n    .WithType<BsVariableType>()",
        "\n    .WithType<AocConfiguration>()",
        "\n    .WithType<PvAmountType>()",
        "\n    .WithType<DeferrableAmountType>()",
        "\n    .WithType<CalculationType>()",
        "\n    .WithType<RiskDriver>()",
        "\n    .WithType<EconomicBasis>()",
        "\n    .WithType<EstimateType>()",
        "\n    .WithType<ValuationApproach>()",
        "\n    .WithType<LineOfBusiness>()",
        "\n    .WithType<OciType>()",
        "\n    .WithType<LiabilityType>()",
        "\n    .WithType<Profitability>()",
        "\n    .WithType<Currency>()",
        "\n    .WithType<Partner>()",
        "\n    .WithType<CreditRiskRating>()",
        "\n    .WithType<Scenario>()",
        "\n    .WithType<ProjectionConfiguration>()",
        "\n    .WithTarget(DataSource)",
        "\n    .ExecuteAsync()"
      ],
      "metadata": {},
      "execution_count": 1,
      "outputs": []
    },
    {
      "id": "DCmPy2JDPEqrwPZceL6ncA",
      "cell_type": "code",
      "source": [
        "await Import.FromFile(\"../Files/300.ReportingNodes/ReportingNodes.csv\").WithType<ReportingNode>().WithTarget(DataSource).ExecuteAsync()"
      ],
      "metadata": {},
      "execution_count": 1,
      "outputs": []
    },
    {
      "id": "pg7FYVPT8E-V8CHNAvl1Wg",
      "cell_type": "code",
      "source": [
        "await Import.FromFile(\"../Files/DimensionsAndPartitions.csv\")",
        "\n    .WithType<PartitionByReportingNode>()",
        "\n    .WithType<PartitionByReportingNodeAndPeriod>()",
        "\n    .WithTarget(DataSource)",
        "\n    .ExecuteAsync()"
      ],
      "metadata": {},
      "execution_count": 1,
      "outputs": []
    },
    {
      "id": "RxTzyhca0kSB8pMpuzIcug",
      "cell_type": "markdown",
      "source": [
        "# Import Parameters"
      ],
      "metadata": {}
    },
    {
      "id": "zVvAMvAHzEWwm2mzvadTng",
      "cell_type": "code",
      "source": [
        "await UploadDimensionsAsync<YieldCurve>(\"../Files/800.Parameters/YieldCurve.csv\")"
      ],
      "metadata": {},
      "execution_count": 1,
      "outputs": []
    },
    {
      "id": "KdJRkfTVH0KUAXsSPQetHg",
      "cell_type": "code",
      "source": [
        "await UploadDimensionsAsync<ExchangeRate>(\"../Files/800.Parameters/ExchangeRate.csv\")"
      ],
      "metadata": {},
      "execution_count": 1,
      "outputs": []
    },
    {
      "id": "oxIQKMoo5UqjKAtjcdn32Q",
      "cell_type": "code",
      "source": [
        "await UploadDimensionsAsync<PartnerRating>(\"../Files/800.Parameters/PartnerRating.csv\")"
      ],
      "metadata": {},
      "execution_count": 1,
      "outputs": []
    },
    {
      "id": "4CDsZoshXE6BZbDJYoXD_w",
      "cell_type": "code",
      "source": [
        "await UploadDimensionsAsync<CreditDefaultRate>(\"../Files/800.Parameters/CreditDefaultRate.csv\")"
      ],
      "metadata": {},
      "execution_count": 1,
      "outputs": []
    },
    {
      "id": "uu3vipnW30CDEQcLQ1ezyA",
      "cell_type": "markdown",
      "source": [
        "# Import DataNodes and DataNodeParameters"
      ],
      "metadata": {}
    },
    {
      "id": "DzfZozeHJk-8yJ_uH5jKUA",
      "cell_type": "code",
      "source": [
        "await UploadDataNodesAsync(\"../Files/700.DataNodes/DataNodes_CH.csv\")"
      ],
      "metadata": {},
      "execution_count": 1,
      "outputs": []
    },
    {
      "id": "A8AUrboHqESmsdhkjXLh_Q",
      "cell_type": "code",
      "source": [
        "await UploadDataNodeStateAsync(\"../Files/700.DataNodes/DataNodeStates_CH_2020_12.csv\")"
      ],
      "metadata": {},
      "execution_count": 1,
      "outputs": []
    },
    {
      "id": "p1m4aehU1kSmNpWDzIpE0A",
      "cell_type": "code",
      "source": [
        "await UploadDataNodeParameterAsync(\"../Files/700.DataNodes/DataNodeParameters_CH_2020_12.csv\")"
      ],
      "metadata": {},
      "execution_count": 1,
      "outputs": []
    },
    {
      "id": "pEqNN1RpCkSiVxiqryS-vQ",
      "cell_type": "markdown",
      "source": [
        "# Reset Workspace"
      ],
      "metadata": {}
    },
    {
      "id": "pqpb7AWAy06nubi3ydQCPA",
      "cell_type": "code",
      "source": [
        "Workspace.Reset(x => x.ResetInitializationRules().ResetCurrentPartitions());"
      ],
      "metadata": {},
      "execution_count": 1,
      "outputs": []
    },
    {
      "id": "Uc9njlRC-kiAccvmjSF5xw",
      "cell_type": "code",
      "source": [
        ""
      ],
      "metadata": {},
      "execution_count": 1,
      "outputs": []
    }
  ]
}