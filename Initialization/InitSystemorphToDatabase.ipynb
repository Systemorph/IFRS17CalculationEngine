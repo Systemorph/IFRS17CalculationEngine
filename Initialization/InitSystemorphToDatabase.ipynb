{
  "metadata": {
    "kernelspec": {
      "display_name": "Formula Framework",
      "language": "C#",
      "name": "C#"
    },
    "toc-autonumbering": "True",
    "toc-showcode": "False",
    "authors": [],
    "language_info": {
      "file_extension": ".cs",
      "mimetype": "text/plain",
      "name": "C#"
    }
  },
  "nbformat": 4,
  "nbformat_minor": 5,
  "cells": [
    {
      "id": "Cy8T4hrL4kO_Gfnm6Z5XTg",
      "cell_type": "markdown",
      "source": [
        "<p style=\"font-weight:bold;\"> <span style=\"font-size: 36px\"> Physical Database Initialization </span> </p>"
      ],
      "metadata": {}
    },
    {
      "id": "TW3qAJFbN0GzvfZswIQD9g",
      "cell_type": "code",
      "source": [
        "#!import \"../Database/Configure\""
      ],
      "metadata": {},
      "execution_count": 1,
      "outputs": []
    },
    {
      "id": "WW6qYyWLN0CDzizR6oTSFw",
      "cell_type": "code",
      "source": [
        "#!import \"../Import/Importers\""
      ],
      "metadata": {},
      "execution_count": 1,
      "outputs": []
    },
    {
      "id": "MKwi685La0Shl61un7unGg",
      "cell_type": "markdown",
      "source": [
        "# Initialize Workspace"
      ],
      "metadata": {}
    },
    {
      "id": "19uyY1p_DEafziYCP4_ajg",
      "cell_type": "code",
      "source": [
        "Workspace.Reset(x => x.ResetInitializationRules());"
      ],
      "metadata": {},
      "execution_count": 1,
      "outputs": []
    },
    {
      "id": "VaUXNeTpnkqp4qvlkZT1tA",
      "cell_type": "code",
      "source": [
        "Workspace.InitializeFrom(DataSource);"
      ],
      "metadata": {},
      "execution_count": 1,
      "outputs": []
    },
    {
      "id": "ujiYx54U70a1Lk7al17aNQ",
      "cell_type": "markdown",
      "source": [
        "# Import Dimensions, Partitions"
      ],
      "metadata": {}
    },
    {
      "id": "iHL9ANV_7EqKGUtvOzgh9A",
      "cell_type": "code",
      "source": [
        "await Import.FromFile(\"../Files/DimensionsAndPartitions.csv\")",
        "\n    .WithType<Novelty>()",
        "\n    .WithType<AocType>()",
        "\n    .WithType<PnlVariableType>()",
        "\n    .WithType<BsVariableType>()",
        "\n    .WithType<AocConfiguration>()",
        "\n    .WithType<PvAmountType>()",
        "\n    .WithType<DeferrableAmountType>()",
        "\n    .WithType<CalculationType>()",
        "\n    .WithType<RiskDriver>()",
        "\n    .WithType<EconomicBasis>()",
        "\n    .WithType<EstimateType>()",
        "\n    .WithType<ValuationApproach>()",
        "\n    .WithType<LineOfBusiness>()",
        "\n    .WithType<OciType>()",
        "\n    .WithType<LiabilityType>()",
        "\n    .WithType<Profitability>()",
        "\n    .WithType<Currency>()",
        "\n    .WithType<Partner>()",
        "\n    .WithType<CreditRiskRating>()",
        "\n    .WithType<Scenario>()",
        "\n    .WithType<ProjectionConfiguration>()",
        "\n    .WithTarget(DataSource)",
        "\n    .ExecuteAsync()"
      ],
      "metadata": {},
      "execution_count": 1,
      "outputs": []
    },
    {
      "id": "WITsBPPMmkapIKK3ocjeCA",
      "cell_type": "code",
      "source": [
        "await Import.FromFile(\"../Files/300.ReportingNodes/ReportingNodes.csv\").WithType<ReportingNode>().WithTarget(DataSource).ExecuteAsync()"
      ],
      "metadata": {},
      "execution_count": 1,
      "outputs": []
    },
    {
      "id": "UBG4zPFBzEGM9I8BwyLHBg",
      "cell_type": "code",
      "source": [
        "await Import.FromFile(\"../Files/DimensionsAndPartitions.csv\")",
        "\n    .WithType<PartitionByReportingNode>()",
        "\n    .WithType<PartitionByReportingNodeAndPeriod>()",
        "\n    .WithTarget(DataSource)",
        "\n    .ExecuteAsync()"
      ],
      "metadata": {},
      "execution_count": 1,
      "outputs": []
    },
    {
      "id": "x_FX7ZmdQkqPWJ_8inZXIg",
      "cell_type": "markdown",
      "source": [
        "# Import Parameters"
      ],
      "metadata": {}
    },
    {
      "id": "OecjLAV7AkiT3KhjiiJnog",
      "cell_type": "code",
      "source": [
        "await UploadDimensionsAsync<YieldCurve>(\"../Files/800.Parameters/YieldCurve.csv\")"
      ],
      "metadata": {},
      "execution_count": 1,
      "outputs": []
    },
    {
      "id": "Ii5PJHvCl0Cx2m89VaFSQg",
      "cell_type": "code",
      "source": [
        "await UploadDimensionsAsync<ExchangeRate>(\"../Files/800.Parameters/ExchangeRate.csv\")"
      ],
      "metadata": {},
      "execution_count": 1,
      "outputs": []
    },
    {
      "id": "XRyJuiNql0mkE-hZETImsg",
      "cell_type": "code",
      "source": [
        "await UploadDimensionsAsync<PartnerRating>(\"../Files/800.Parameters/PartnerRating.csv\")"
      ],
      "metadata": {},
      "execution_count": 1,
      "outputs": []
    },
    {
      "id": "bGA-LWJqmUmMqydPlYBymQ",
      "cell_type": "code",
      "source": [
        "await UploadDimensionsAsync<CreditDefaultRate>(\"../Files/800.Parameters/CreditDefaultRate.csv\")"
      ],
      "metadata": {},
      "execution_count": 1,
      "outputs": []
    },
    {
      "id": "UzoF3kC3bkSV0tPlgFIH4Q",
      "cell_type": "markdown",
      "source": [
        "# Import DataNodes and DataNodeParameters"
      ],
      "metadata": {}
    },
    {
      "id": "7D_GmV2jsUa_BlNeRX202w",
      "cell_type": "code",
      "source": [
        "await UploadDataNodesAsync(\"../Files/700.DataNodes/DataNodes_CH.csv\")"
      ],
      "metadata": {},
      "execution_count": 1,
      "outputs": []
    },
    {
      "id": "BNrbXnwP-USpPbMvCQJkQw",
      "cell_type": "code",
      "source": [
        "await UploadDataNodeStateAsync(\"../Files/700.DataNodes/DataNodeStates_CH_2020_12.csv\")"
      ],
      "metadata": {},
      "execution_count": 1,
      "outputs": []
    },
    {
      "id": "Gbq1iNgL5ku27G-9ZCDgyw",
      "cell_type": "code",
      "source": [
        "await UploadDataNodeParameterAsync(\"../Files/700.DataNodes/DataNodeParameters_CH_2020_12.csv\")"
      ],
      "metadata": {},
      "execution_count": 1,
      "outputs": []
    },
    {
      "id": "mIAgGfevFkSw8FcNW7S_Dw",
      "cell_type": "markdown",
      "source": [
        "# Import Cashflow and Actuals"
      ],
      "metadata": {}
    },
    {
      "id": "Dx3T6KwOi0-h1_MxtEvu0Q",
      "cell_type": "code",
      "source": [
        "await UploadOpeningAsync(\"../Files/900.TransactionalData/Openings_CH_2020_12.csv\")"
      ],
      "metadata": {},
      "execution_count": 1,
      "outputs": []
    },
    {
      "id": "7rQXgufixki5Mr5wvIqvmg",
      "cell_type": "code",
      "source": [
        "await UploadCashflowsAsync(\"../Files/900.TransactionalData/NominalCashflows_CH_2020_12.csv\")"
      ],
      "metadata": {},
      "execution_count": 1,
      "outputs": []
    },
    {
      "id": "9teVf5xzQ0Gkra1zUNiPVw",
      "cell_type": "code",
      "source": [
        "await UploadActualAsync(\"../Files/900.TransactionalData/Actuals_CH_2020_12.csv\")"
      ],
      "metadata": {},
      "execution_count": 1,
      "outputs": []
    },
    {
      "id": "teSj9-cIHEKxQBYlxrSUaw",
      "cell_type": "code",
      "source": [
        "await UploadCashflowsAsync(\"../Files/900.TransactionalData/NominalCashflows_CH_2021_3.csv\")"
      ],
      "metadata": {},
      "execution_count": 1,
      "outputs": []
    },
    {
      "id": "eopo9jQQJECpkYPGIcToIg",
      "cell_type": "code",
      "source": [
        "await UploadActualAsync(\"../Files/900.TransactionalData/Actuals_CH_2021_3.csv\")"
      ],
      "metadata": {},
      "execution_count": 1,
      "outputs": []
    },
    {
      "id": "I9rluX4YaE2AXRNtnwzghw",
      "cell_type": "markdown",
      "source": [
        "# Reset Workspace"
      ],
      "metadata": {}
    },
    {
      "id": "vjYLEV52S0yEzRX-hbQu5g",
      "cell_type": "code",
      "source": [
        "Workspace.Reset(x => x.ResetInitializationRules().ResetCurrentPartitions());"
      ],
      "metadata": {},
      "execution_count": 1,
      "outputs": []
    },
    {
      "id": "CQDkkzwLSUi-ZedmBK9uVg",
      "cell_type": "code",
      "source": [
        ""
      ],
      "metadata": {},
      "execution_count": 1,
      "outputs": []
    }
  ]
}