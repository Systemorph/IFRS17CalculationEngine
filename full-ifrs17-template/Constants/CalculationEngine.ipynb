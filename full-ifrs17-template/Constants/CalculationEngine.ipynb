{
    "cells": [
        {
            "cell_type": "code",
            "execution_count": null,
            "metadata": {
                "vscode": {
                    "languageId": "csharp"
                }
            },
            "outputs": [],
            "source": [
                "var projectName = \"ifrs17\";\n",
                "\n",
                "var environmentName = \"v1.0.0\";\n",
                "\n",
                "var notebookName = \"CalculationEngine\";\n",
                "\n",
                "var calculationEngine = $\"#!import \\\"//{projectName}/{environmentName}/{notebookName}\\\"\";"
            ]
        }
    ],
    "metadata": {
        "authors": [],
        "kernelspec": {
            "display_name": "Formula Framework",
            "language": "C#",
            "name": "C#"
        },
        "language_info": {
            "file_extension": ".cs",
            "mimetype": "text/plain",
            "name": "C#"
        }
    },
    "nbformat": 4,
    "nbformat_minor": 5
}
