{
    "cells": [
        {
            "cell_type": "code",
            "execution_count": null,
            "metadata": {
                "vscode": {
                    "languageId": "csharp"
                }
            },
            "outputs": [],
            "source": [
                "var projectName = \"ifrs17\";",
                "\nvar environmentName = \"v1.0.0\";",
                "\nvar notebookName = \"CalculationEngine\";",
                "\nvar calculationEngine = $\"#!import \\\"//{projectName}/{environmentName}/{notebookName}\\\"\";"
            ]
        }
    ],
    "metadata": {
        "authors": [],
        "kernelspec": {
            "display_name": "Formula Framework",
            "language": "C#",
            "name": "C#"
        },
        "language_info": {
            "file_extension": ".cs",
            "mimetype": "text/plain",
            "name": "C#"
        }
    },
    "nbformat": 4,
    "nbformat_minor": 5
}
