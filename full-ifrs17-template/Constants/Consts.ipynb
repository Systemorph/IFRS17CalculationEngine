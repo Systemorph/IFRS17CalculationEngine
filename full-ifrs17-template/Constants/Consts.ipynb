{
    "metadata": {
        "authors": [],
        "kernelspec": {
            "display_name": "Formula Framework",
            "language": "C#",
            "name": "C#"
        },
        "language_info": {
            "file_extension": ".cs",
            "mimetype": "text/plain",
            "name": "C#"
        }
    },
    "nbformat": 4,
    "nbformat_minor": 5,
    "cells": [
        {
            "cell_type": "code",
            "source": [
                "var projectName = \"ifrs17ce\";",
                "\nvar environmentName = \"dev\";",
                "\nvar notebookName = \"CalculationEngine\";",
                "\nvar calculationEngine = $\"#!import \\\"//{projectName}/{environmentName}/{notebookName}\\\"\";",
                "\ncalculationEngine = $\"#!import \\\"../../ifrs17/CalculationEngine\\\"\";"
            ]
        }
    ]
}