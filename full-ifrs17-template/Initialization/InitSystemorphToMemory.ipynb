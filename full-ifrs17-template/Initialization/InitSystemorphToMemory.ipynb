{
    "metadata": {
        "authors": [],
        "kernelspec": {
            "display_name": "Formula Framework",
            "language": "C#",
            "name": "C#"
        },
        "language_info": {
            "file_extension": ".cs",
            "mimetype": "text/plain",
            "name": "C#"
        },
        "toc-autonumbering": "True",
        "toc-showcode": "False"
    },
    "nbformat": 4,
    "nbformat_minor": 5,
    "cells": [
        {
            "cell_type": "markdown",
            "source": [
                "<p style=\"font-weight:bold;\"> <span style=\"font-size: 36px\"> In Memory Initialization of unconfigured DataSource </span> </p>",
                "\n",
                "\n<a id='init-to-memory'></a>"
            ]
        },
        {
            "cell_type": "code",
            "source": [
                "#!eval-notebook \"InitSystemorphBaseToMemory\""
            ]
        },
        {
            "cell_type": "code",
            "source": [
                "Workspace.Reset(x => x.ResetInitializationRules().ResetCurrentPartitions());"
            ]
        },
        {
            "cell_type": "code",
            "source": [
                "Workspace.InitializeFrom(DataSource);"
            ]
        },
        {
            "cell_type": "markdown",
            "source": [
                "# Import of Transactional Data"
            ]
        },
        {
            "cell_type": "code",
            "source": [
                "await Import.FromFile(\"../Files/900.TransactionalData/Openings_CH_2020_12.csv\").WithFormat(ImportFormats.Opening).WithTarget(DataSource).ExecuteAsync()"
            ]
        },
        {
            "cell_type": "code",
            "source": [
                "await Import.FromFile(\"../Files/900.TransactionalData/NominalCashflows_CH_2020_12.csv\").WithFormat(ImportFormats.Cashflow).WithTarget(DataSource).ExecuteAsync()"
            ]
        },
        {
            "cell_type": "code",
            "source": [
                "await Import.FromFile(\"../Files/900.TransactionalData/Actuals_CH_2020_12.csv\").WithFormat(ImportFormats.Actual).WithTarget(DataSource).ExecuteAsync()"
            ]
        },
        {
            "cell_type": "code",
            "source": [
                "await Import.FromFile(\"../Files/900.TransactionalData/NominalCashflows_CH_2021_3.csv\").WithFormat(ImportFormats.Cashflow).WithTarget(DataSource).ExecuteAsync()"
            ]
        },
        {
            "cell_type": "code",
            "source": [
                "await Import.FromFile(\"../Files/900.TransactionalData/Actuals_CH_2021_3.csv\").WithFormat(ImportFormats.Actual).WithTarget(DataSource).ExecuteAsync()"
            ]
        },
        {
            "cell_type": "code",
            "source": [
                "//await UploadSimpleValueAsync(\"../Files/900.TransactionalData/SimpleValue_CH_2020_12.csv\") TODO: missing benchmarks"
            ]
        },
        {
            "cell_type": "markdown",
            "source": [
                "# Reset Workspace"
            ]
        },
        {
            "cell_type": "code",
            "source": [
                "Workspace.Reset(x => x.ResetInitializationRules().ResetCurrentPartitions());"
            ]
        },
        {
            "cell_type": "code",
            "source": [
                ""
            ]
        }
    ]
}