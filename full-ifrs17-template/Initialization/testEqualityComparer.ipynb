{
    "metadata": {
        "authors": [],
        "kernelspec": {
            "display_name": "Formula Framework",
            "language": "C#",
            "name": "C#"
        },
        "language_info": {
            "file_extension": ".cs",
            "mimetype": "text/plain",
            "name": "C#"
        }
    },
    "nbformat": 4,
    "nbformat_minor": 5,
    "cells": [
        {
            "cell_type": "code",
            "source": [
                "#!eval-notebook \"InitSystemorphBaseToMemory\""
            ]
        },
        {
            "cell_type": "code",
            "source": [
                "Workspace.Reset(x => x.ResetInitializationRules().ResetCurrentPartitions());"
            ]
        },
        {
            "cell_type": "code",
            "source": [
                "Workspace.InitializeFrom(DataSource);"
            ]
        },
        {
            "cell_type": "code",
            "source": [
                "await UploadOpeningAsync(\"../Files/900.TransactionalData/Openings_CH_2020_12.csv\")"
            ]
        },
        {
            "cell_type": "code",
            "source": [
                "var fileName = \"../Files/900.TransactionalData/NominalCashflows_CH_2020_12.csv\";",
                "\nActivity.Start();",
                "\nvar args = (await GetArgsFromMainAsync<PartitionByReportingNodeAndPeriod>(fileName)) with {ImportFormat = ImportFormats.Cashflow};",
                "\nawait DataNodeFactoryAsync(fileName, ImportFormats.Cashflow, args);",
                "\nif(Activity.HasErrors()) return Activity.Finish();",
                "\n    ",
                "\nvar parsingLog = await ParseCashflowsToWorkspaceAsync(fileName, args);",
                "\n",
                "\nvar targetPartition = (await DataSource.Query<PartitionByReportingNodeAndPeriod>().Where(p => p.ReportingNode == args.ReportingNode &&",
                "\n                                                                                                   p.Year == args.Year &&",
                "\n                                                                                                   p.Month == args.Month &&",
                "\n                                                                                                   p.Scenario == args.Scenario).ToArrayAsync()).Single().Id;",
                "\nawait Workspace.Partition.SetAsync<PartitionByReportingNodeAndPeriod>(targetPartition);                                                                                            ",
                "\nawait DataSource.Partition.SetAsync<PartitionByReportingNodeAndPeriod>(targetPartition);",
                "\nvar parsedVariables = await Workspace.Query<RawVariable>().ToArrayAsync();",
                "\nvar savedVariables = await DataSource.Query<RawVariable>().ToArrayAsync();",
                "\nvar updatedVariables = savedVariables?.Union(parsedVariables, DataRecordComparer<RawVariable>.Instance) ?? Enumerable.Empty<RawVariable>();",
                "\nvar newVariables = updatedVariables?.Except(parsedVariables, DataRecordComparer<RawVariable>.Instance) ?? Enumerable.Empty<RawVariable>();",
                "\nif(newVariables.Count() == 0) {",
                "\n    ApplicationMessage.Log(Warning.VariablesAlreadyImported, \"\");",
                "\n    return Activity.Finish().Merge(parsingLog);",
                "\n    }",
                "\nreturn Activity.Finish().Merge(parsingLog);"
            ]
        },
        {
            "cell_type": "code",
            "source": [
                ""
            ]
        }
    ]
}