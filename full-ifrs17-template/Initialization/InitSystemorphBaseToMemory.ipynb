{
    "metadata": {
        "authors": [],
        "kernelspec": {
            "display_name": "Formula Framework",
            "language": "C#",
            "name": "C#"
        },
        "language_info": {
            "file_extension": ".cs",
            "mimetype": "text/plain",
            "name": "C#"
        },
        "toc-autonumbering": "True",
        "toc-showcode": "False"
    },
    "nbformat": 4,
    "nbformat_minor": 5,
    "cells": [
        {
            "cell_type": "markdown",
            "source": [
                "<p style=\"font-weight:bold;\"> <span style=\"font-size: 36px\"> In Memory Initialization of unconfigured DataSource </span> </p>",
                "\n<p style=\"font-weight:bold;\"> <span style=\"font-size: 24px\"> Reference Data and DataNode </span> </p>",
                "\n",
                "\n<a id='init-base-to-memory'></a>"
            ]
        },
        {
            "cell_type": "code",
            "source": [
                "#!import \"//ifrs17ce/dev/CalculationEngine\""
            ]
        },
        {
            "cell_type": "markdown",
            "source": [
                "# Set default DataSource"
            ]
        },
        {
            "cell_type": "code",
            "source": [
                "await DataSource.SetAsync();",
                "\nDataSource.Reset(x => x.ResetCurrentPartitions());"
            ]
        },
        {
            "cell_type": "markdown",
            "source": [
                "# Initialize Workspace"
            ]
        },
        {
            "cell_type": "code",
            "source": [
                "Workspace.Reset(x => x.ResetInitializationRules().ResetCurrentPartitions());"
            ]
        },
        {
            "cell_type": "code",
            "source": [
                "Workspace.InitializeFrom(DataSource);"
            ]
        },
        {
            "cell_type": "markdown",
            "source": [
                "# Import Dimensions, Partitions"
            ]
        },
        {
            "cell_type": "code",
            "source": [
                "await Import.FromFile(\"../Files/DimensionsAndPartitions.csv\")",
                "\n    .WithType<Novelty>()",
                "\n    .WithType<AocType>()",
                "\n    .WithType<PnlVariableType>()",
                "\n    .WithType<BsVariableType>()",
                "\n    .WithType<PvAmountType>()",
                "\n    .WithType<DeferrableAmountType>()",
                "\n    .WithType<RiskDriver>()",
                "\n    .WithType<EconomicBasis>()",
                "\n    .WithType<EstimateType>()",
                "\n    .WithType<ValuationApproach>()",
                "\n    .WithType<LineOfBusiness>()",
                "\n    .WithType<OciType>()",
                "\n    .WithType<LiabilityType>()",
                "\n    .WithType<Profitability>()",
                "\n    .WithType<Currency>()",
                "\n    .WithType<Partner>()",
                "\n    .WithType<CreditRiskRating>()",
                "\n    .WithType<Scenario>()",
                "\n    .WithType<ProjectionConfiguration>()",
                "\n    .WithTarget(DataSource)",
                "\n    .ExecuteAsync()"
            ]
        },
	{
            "cell_type": "code",
            "source": [
                "await Import.FromFile(\"../Files/DimensionsAndPartitions.csv\").WithFormat(\"AocConfiguration\").WithTarget(DataSource).ExecuteAsync()"
            ]
        },
        {
            "cell_type": "code",
            "source": [
                "await Import.FromFile(\"../Files/300.ReportingNodes/ReportingNodes.csv\").WithType<ReportingNode>().WithTarget(DataSource).ExecuteAsync()"
            ]
        },
        {
            "cell_type": "code",
            "source": [
                "await Import.FromFile(\"../Files/DimensionsAndPartitions.csv\")",
                "\n    .WithType<PartitionByReportingNode>()",
                "\n    .WithType<PartitionByReportingNodeAndPeriod>()",
                "\n    .WithTarget(DataSource)",
                "\n    .ExecuteAsync()"
            ]
        },
        {
            "cell_type": "markdown",
            "source": [
                "# Import Parameters"
            ]
        },
        {
            "cell_type": "code",
            "source": [
                "await UploadDimensionsAsync<YieldCurve>(\"../Files/800.Parameters/YieldCurve.csv\")"
            ]
        },
        {
            "cell_type": "code",
            "source": [
                "await UploadDimensionsAsync<ExchangeRate>(\"../Files/800.Parameters/ExchangeRate.csv\")"
            ]
        },
        {
            "cell_type": "code",
            "source": [
                "await UploadDimensionsAsync<PartnerRating>(\"../Files/800.Parameters/PartnerRating.csv\")"
            ]
        },
        {
            "cell_type": "code",
            "source": [
                "await UploadDimensionsAsync<CreditDefaultRate>(\"../Files/800.Parameters/CreditDefaultRate.csv\")"
            ]
        },
        {
            "cell_type": "markdown",
            "source": [
                "# Import DataNodes and DataNodeParameters"
            ]
        },
        {
            "cell_type": "code",
            "source": [
                "await UploadDataNodesAsync(\"../Files/700.DataNodes/DataNodes_CH.csv\")"
            ]
        },
        {
            "cell_type": "code",
            "source": [
                "await UploadDataNodeStateAsync(\"../Files/700.DataNodes/DataNodeStates_CH_2020_12.csv\")"
            ]
        },
        {
            "cell_type": "code",
            "source": [
                "await UploadDataNodeParameterAsync(\"../Files/700.DataNodes/DataNodeParameters_CH_2020_12.csv\")"
            ]
        },
        {
            "cell_type": "markdown",
            "source": [
                "# Reset Workspace"
            ]
        },
        {
            "cell_type": "code",
            "source": [
                "Workspace.Reset(x => x.ResetInitializationRules().ResetCurrentPartitions());"
            ]
        },
        {
            "cell_type": "code",
            "source": [
                ""
            ]
        }
    ]
}
