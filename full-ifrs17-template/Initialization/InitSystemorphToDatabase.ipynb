{
    "metadata": {
        "authors": [],
        "kernelspec": {
            "display_name": "Formula Framework",
            "language": "C#",
            "name": "C#"
        },
        "language_info": {
            "file_extension": ".cs",
            "mimetype": "text/plain",
            "name": "C#"
        },
        "toc-autonumbering": "True",
        "toc-showcode": "False"
    },
    "nbformat": 4,
    "nbformat_minor": 5,
    "cells": [
        {
            "id": "dXiMOEAkhUS3szd2gfF6AA",
            "cell_type": "markdown",
            "source": [
                "<p style=\"font-weight:bold;\"> <span style=\"font-size: 36px\"> Physical Database Initialization </span> </p>"
            ],
            "metadata": {},
            "execution_count": 0,
            "outputs": []
        },
        {
            "id": "_W0Ol9Yp9UeBergpPJwHJQ",
            "cell_type": "code",
            "source": [
                "#!import \"../Database/Configure\""
            ],
            "metadata": {},
            "execution_count": 0,
            "outputs": []
        },
        {
            "id": "65YliV-tKkmoSPy38bJF1Q",
            "cell_type": "markdown",
            "source": [
                "# Initialize Workspace"
            ],
            "metadata": {},
            "execution_count": 0,
            "outputs": []
        },
        {
            "id": "a-PRJMIuu0-d1Wc9Vdzexw",
            "cell_type": "code",
            "source": [
                "Workspace.Reset(x => x.ResetInitializationRules());"
            ],
            "metadata": {},
            "execution_count": 0,
            "outputs": []
        },
        {
            "id": "MiNtGH15D0yiZ7EBxZapSw",
            "cell_type": "code",
            "source": [
                "Workspace.InitializeFrom(DataSource);"
            ],
            "metadata": {},
            "execution_count": 0,
            "outputs": []
        },
        {
            "id": "ly36ekMIOEmIr3ecEcrcLw",
            "cell_type": "markdown",
            "source": [
                "# Import Dimensions, Partitions"
            ],
            "metadata": {},
            "execution_count": 0,
            "outputs": []
        },
        {
            "id": "x-MizAOJUE2I94Jd_HMpBA",
            "cell_type": "code",
            "source": [
                "await Import.FromFile(\"../Files/Dimensions.csv\")",
                "\n    .WithType<Novelty>()",
                "\n    .WithType<AocType>()",
                "\n    .WithType<PnlVariableType>()",
                "\n    .WithType<BsVariableType>()",
                "\n    .WithType<AocConfiguration>()",
                "\n    .WithType<AmountType>()",
                "\n    .WithType<DeferrableAmountType>()",
                "\n    .WithType<RiskDriver>()",
                "\n    .WithType<EconomicBasis>()",
                "\n    .WithType<EstimateType>()",
                "\n    .WithType<ValuationApproach>()",
                "\n    .WithType<LineOfBusiness>()",
                "\n    .WithType<OciType>()",
                "\n    .WithType<LiabilityType>()",
                "\n    .WithType<Profitability>()",
                "\n    .WithType<Currency>()",
                "\n    .WithType<Partner>()",
                "\n    .WithType<CreditRiskRating>()",
                "\n    .WithType<Scenario>()",
                "\n    .WithType<ProjectionConfiguration>()",
                "\n    .WithTarget(DataSource)",
                "\n    .ExecuteAsync()"
            ],
            "metadata": {},
            "execution_count": 0,
            "outputs": []
        },
        {
            "id": "dH5kihXlfU-Ipg3yKL6HZQ",
            "cell_type": "code",
            "source": [
                "await Import.FromFile(\"../Files/ReportingNodes/ReportingNodes.csv\").WithType<ReportingNode>().WithTarget(DataSource).ExecuteAsync()"
            ],
            "metadata": {},
            "execution_count": 0,
            "outputs": []
        },
        {
            "id": "ptLGGIqwaU-rOpJwqkDPMQ",
            "cell_type": "markdown",
            "source": [
                "# Import Parameters"
            ],
            "metadata": {},
            "execution_count": 0,
            "outputs": []
        },
        {
            "id": "nyVjHWMCwkq5BzpPbVxpSg",
            "cell_type": "code",
            "source": [
                "await Import.FromFile(\"../Files/Parameters/YieldCurve.csv\").WithType<YieldCurve>().SnapshotMode().WithTarget(DataSource).ExecuteAsync()"
            ],
            "metadata": {},
            "execution_count": 0,
            "outputs": []
        },
        {
            "id": "EnJEQa5B1kSZWSMWzVP6iQ",
            "cell_type": "code",
            "source": [
                "await Import.FromFile(\"../Files/Parameters/ExchangeRate.csv\").WithType<ExchangeRate>().SnapshotMode().WithTarget(DataSource).ExecuteAsync()"
            ],
            "metadata": {},
            "execution_count": 0,
            "outputs": []
        },
        {
            "id": "nlxEPvEV8ke7pYuCdyx_Kw",
            "cell_type": "code",
            "source": [
                "await Import.FromFile(\"../Files/Parameters/PartnerRating.csv\").WithType<PartnerRating>().SnapshotMode().WithTarget(DataSource).ExecuteAsync()"
            ],
            "metadata": {},
            "execution_count": 0,
            "outputs": []
        },
        {
            "id": "MKh8LPhn8EWNCzMIjw0FPg",
            "cell_type": "code",
            "source": [
                "await Import.FromFile(\"../Files/Parameters/CreditDefaultRate.csv\").WithType<CreditDefaultRate>().SnapshotMode().WithTarget(DataSource).ExecuteAsync()"
            ],
            "metadata": {},
            "execution_count": 0,
            "outputs": []
        },
        {
            "id": "6Lg4ijhfp02NEI7_K7WLeg",
            "cell_type": "markdown",
            "source": [
                "# Import DataNodes and DataNodeParameters"
            ],
            "metadata": {},
            "execution_count": 0,
            "outputs": []
        },
        {
            "id": "wybN1I0PzE60Q8fsBQncNA",
            "cell_type": "code",
            "source": [
                "await Import.FromFile(\"../Files/DataNodes/DataNodes_CH.csv\").WithFormat(ImportFormats.DataNode).WithTarget(DataSource).ExecuteAsync()"
            ],
            "metadata": {},
            "execution_count": 0,
            "outputs": []
        },
        {
            "id": "lDVi2RgwC0KBfSTM0haXLA",
            "cell_type": "code",
            "source": [
                "await Import.FromFile(\"../Files/DataNodes/DataNodeStates_CH_2020_12.csv\").WithFormat(ImportFormats.DataNodeState).WithTarget(DataSource).ExecuteAsync()"
            ],
            "metadata": {},
            "execution_count": 0,
            "outputs": []
        },
        {
            "id": "RZGXHFwlhUa4QElkgnabrA",
            "cell_type": "code",
            "source": [
                "await Import.FromFile(\"../Files/DataNodes/DataNodeParameters_CH_2020_12.csv\").WithFormat(ImportFormats.DataNodeParameter).WithTarget(DataSource).ExecuteAsync()"
            ],
            "metadata": {},
            "execution_count": 0,
            "outputs": []
        },
        {
            "id": "ZRzbVWjGt0CQWMBmcdV6xA",
            "cell_type": "markdown",
            "source": [
                "# Import Cashflow and Actuals"
            ],
            "metadata": {},
            "execution_count": 0,
            "outputs": []
        },
        {
            "id": "AQ2a6_t30kK9G1SpuPzbXA",
            "cell_type": "code",
            "source": [
                "await Import.FromFile(\"../Files/TransactionalData/Openings_CH_2020_12.csv\").WithFormat(ImportFormats.Opening).WithTarget(DataSource).ExecuteAsync()"
            ],
            "metadata": {},
            "execution_count": 0,
            "outputs": []
        },
        {
            "id": "czdzFh4XYE6tgQIH0X5PeQ",
            "cell_type": "code",
            "source": [
                "await Import.FromFile(\"../Files/TransactionalData/NominalCashflows_CH_2020_12.csv\").WithFormat(ImportFormats.Cashflow).WithTarget(DataSource).ExecuteAsync()"
            ],
            "metadata": {},
            "execution_count": 0,
            "outputs": []
        },
        {
            "id": "4oyINCcm00aOGDsmy3uYCg",
            "cell_type": "code",
            "source": [
                "await Import.FromFile(\"../Files/TransactionalData/Actuals_CH_2020_12.csv\").WithFormat(ImportFormats.Actual).WithTarget(DataSource).ExecuteAsync()"
            ],
            "metadata": {},
            "execution_count": 0,
            "outputs": []
        },
        {
            "id": "4QCb8Aedd0SGt_lDSgoLZg",
            "cell_type": "code",
            "source": [
                "await Import.FromFile(\"../Files/TransactionalData/NominalCashflows_CH_2021_3.csv\").WithFormat(ImportFormats.Cashflow).WithTarget(DataSource).ExecuteAsync()"
            ],
            "metadata": {},
            "execution_count": 0,
            "outputs": []
        },
        {
            "id": "PpdBhbl5XUOHeuneQTuqHg",
            "cell_type": "code",
            "source": [
                "await Import.FromFile(\"../Files/TransactionalData/Actuals_CH_2021_3.csv\").WithFormat(ImportFormats.Actual).WithTarget(DataSource).ExecuteAsync()"
            ],
            "metadata": {},
            "execution_count": 0,
            "outputs": []
        },
        {
            "id": "cuqbrXADgESQzMGmdJNbKA",
            "cell_type": "markdown",
            "source": [
                "# Reset Workspace"
            ],
            "metadata": {},
            "execution_count": 0,
            "outputs": []
        },
        {
            "id": "yH5itqeYMkKbcSt0cjJdBw",
            "cell_type": "code",
            "source": [
                "Workspace.Reset(x => x.ResetInitializationRules().ResetCurrentPartitions());"
            ],
            "metadata": {},
            "execution_count": 0,
            "outputs": []
        },
        {
            "id": "hQT5R1kCBUSQ-acs3AO6yg",
            "cell_type": "code",
            "source": [
                ""
            ],
            "metadata": {},
            "execution_count": 0,
            "outputs": []
        }
    ]
}