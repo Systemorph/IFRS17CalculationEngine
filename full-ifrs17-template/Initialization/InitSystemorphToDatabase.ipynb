{
    "metadata": {
        "authors": [],
        "kernelspec": {
            "display_name": "Formula Framework",
            "language": "C#",
            "name": "C#"
        },
        "language_info": {
            "file_extension": ".cs",
            "mimetype": "text/plain",
            "name": "C#"
        },
        "toc-autonumbering": "True",
        "toc-showcode": "False"
    },
    "nbformat": 4,
    "nbformat_minor": 5,
    "cells": [
        {
            "id": "WzQjH3SsxkGPnGOAmfZ6Sg",
            "cell_type": "markdown",
            "source": [
                "<p style=\"font-weight:bold;\"> <span style=\"font-size: 36px\"> Physical Database Initialization </span> </p>"
            ],
            "metadata": {},
            "execution_count": 0,
            "outputs": []
        },
        {
            "id": "Jv7vfksvAUSEj5yxWb4PWQ",
            "cell_type": "code",
            "source": [
                "#!import \"../Database/Configure\""
            ],
            "metadata": {},
            "execution_count": 0,
            "outputs": []
        },
        {
            "id": "SqHWXHcp_0mtorw1JPXm4Q",
            "cell_type": "markdown",
            "source": [
                "# Initialize Workspace"
            ],
            "metadata": {},
            "execution_count": 0,
            "outputs": []
        },
        {
            "id": "XDUz0wA9BES03BdvwLWMzw",
            "cell_type": "code",
            "source": [
                "Workspace.Reset(x => x.ResetInitializationRules());"
            ],
            "metadata": {},
            "execution_count": 0,
            "outputs": []
        },
        {
            "id": "viztJwiXnEaP50LCMWDamQ",
            "cell_type": "code",
            "source": [
                "Workspace.InitializeFrom(DataSource);"
            ],
            "metadata": {},
            "execution_count": 0,
            "outputs": []
        },
        {
            "id": "jTFCF0XsSUStSOmNEMQHkg",
            "cell_type": "markdown",
            "source": [
                "# Import Dimensions, Partitions"
            ],
            "metadata": {},
            "execution_count": 0,
            "outputs": []
        },
        {
            "id": "AxGVsEJjz0aaAg6mdwLMZg",
            "cell_type": "code",
            "source": [
                "await Import.FromFile(\"../Files/Dimensions.csv\")",
                "\n    .WithType<Novelty>()",
                "\n    .WithType<AocType>()",
                "\n    .WithType<PnlVariableType>()",
                "\n    .WithType<BsVariableType>()",
                "\n    .WithType<AocConfiguration>()",
                "\n    .WithType<AmountType>()",
                "\n    .WithType<DeferrableAmountType>()",
                "\n    .WithType<RiskDriver>()",
                "\n    .WithType<EconomicBasis>()",
                "\n    .WithType<EstimateType>()",
                "\n    .WithType<ValuationApproach>()",
                "\n    .WithType<LineOfBusiness>()",
                "\n    .WithType<OciType>()",
                "\n    .WithType<LiabilityType>()",
                "\n    .WithType<Profitability>()",
                "\n    .WithType<Currency>()",
                "\n    .WithType<Partner>()",
                "\n    .WithType<CreditRiskRating>()",
                "\n    .WithType<Scenario>()",
                "\n    .WithType<ProjectionConfiguration>()",
                "\n    .WithTarget(DataSource)",
                "\n    .ExecuteAsync()"
            ],
            "metadata": {},
            "execution_count": 0,
            "outputs": []
        },
        {
            "id": "jdSUQ_u2qkmP6G6P_pPgHQ",
            "cell_type": "code",
            "source": [
                "await Import.FromFile(\"../Files/ReportingNodes/ReportingNodes.csv\").WithType<ReportingNode>().WithTarget(DataSource).ExecuteAsync()"
            ],
            "metadata": {},
            "execution_count": 0,
            "outputs": []
        },
        {
            "id": "vWLiIU80VEKjcF8ioviveg",
            "cell_type": "markdown",
            "source": [
                "# Import Parameters"
            ],
            "metadata": {},
            "execution_count": 0,
            "outputs": []
        },
        {
            "id": "Yw_7ieLlVkemclI9mNlM_Q",
            "cell_type": "code",
            "source": [
                "await Import.FromFile(\"../Files/Parameters/YieldCurve.csv\").WithType<YieldCurve>().SnapshotMode().WithTarget(DataSource).ExecuteAsync()"
            ],
            "metadata": {},
            "execution_count": 0,
            "outputs": []
        },
        {
            "id": "_IZRQ3GaZ0ityDZGlY2Whg",
            "cell_type": "code",
            "source": [
                "await Import.FromFile(\"../Files/Parameters/ExchangeRate.csv\").WithType<ExchangeRate>().SnapshotMode().WithTarget(DataSource).ExecuteAsync()"
            ],
            "metadata": {},
            "execution_count": 0,
            "outputs": []
        },
        {
            "id": "CQN2LzLNaEKoCqDCbBb_zA",
            "cell_type": "code",
            "source": [
                "await Import.FromFile(\"../Files/Parameters/PartnerRating.csv\").WithType<PartnerRating>().SnapshotMode().WithTarget(DataSource).ExecuteAsync()"
            ],
            "metadata": {},
            "execution_count": 0,
            "outputs": []
        },
        {
            "id": "aQeqEarGPUubIqO4G7WdIA",
            "cell_type": "code",
            "source": [
                "await Import.FromFile(\"../Files/Parameters/CreditDefaultRate.csv\").WithType<CreditDefaultRate>().SnapshotMode().WithTarget(DataSource).ExecuteAsync()"
            ],
            "metadata": {},
            "execution_count": 0,
            "outputs": []
        },
        {
            "id": "94loAb0c9kyg_3v2PNqA_A",
            "cell_type": "markdown",
            "source": [
                "# Import DataNodes and DataNodeParameters"
            ],
            "metadata": {},
            "execution_count": 0,
            "outputs": []
        },
        {
            "id": "Cn2hLBuznUaAtoiKeYfOKg",
            "cell_type": "code",
            "source": [
                "await Import.FromFile(\"../Files/DataNodes/DataNodes_CH.csv\").WithFormat(ImportFormats.DataNode).WithTarget(DataSource).ExecuteAsync()"
            ],
            "metadata": {},
            "execution_count": 0,
            "outputs": []
        },
        {
            "id": "QApu3iwu5EKM-yQoXcfF-Q",
            "cell_type": "code",
            "source": [
                "await Import.FromFile(\"../Files/DataNodes/DataNodeStates_CH_2020_12.csv\").WithFormat(ImportFormats.DataNodeState).WithTarget(DataSource).ExecuteAsync()"
            ],
            "metadata": {},
            "execution_count": 0,
            "outputs": []
        },
        {
            "id": "5HnXK0qZdUW-L-QiKTJUBA",
            "cell_type": "code",
            "source": [
                "await Import.FromFile(\"../Files/DataNodes/DataNodeParameters_CH_2020_12.csv\").WithFormat(ImportFormats.DataNodeParameter).WithTarget(DataSource).ExecuteAsync()"
            ],
            "metadata": {},
            "execution_count": 0,
            "outputs": []
        },
        {
            "id": "YVsKmyNoxkyJm0ernJ2n0g",
            "cell_type": "markdown",
            "source": [
                "# Import Cashflow and Actuals"
            ],
            "metadata": {},
            "execution_count": 0,
            "outputs": []
        },
        {
            "id": "obA5bw6ytkedP1jlXAJaLQ",
            "cell_type": "code",
            "source": [
                "await Import.FromFile(\"../Files/TransactionalData/Openings_CH_2020_12.csv\").WithFormat(ImportFormats.Opening).WithTarget(DataSource).ExecuteAsync()"
            ],
            "metadata": {},
            "execution_count": 0,
            "outputs": []
        },
        {
            "id": "S7G0wG_5Z0-S11qQF-C8dA",
            "cell_type": "code",
            "source": [
                "await Import.FromFile(\"../Files/TransactionalData/NominalCashflows_CH_2020_12.csv\").WithFormat(ImportFormats.Cashflow).WithTarget(DataSource).ExecuteAsync()"
            ],
            "metadata": {},
            "execution_count": 0,
            "outputs": []
        },
        {
            "id": "a8SZr-SWZUubA-ADIEfrFw",
            "cell_type": "code",
            "source": [
                "await Import.FromFile(\"../Files/TransactionalData/Actuals_CH_2020_12.csv\").WithFormat(ImportFormats.Actual).WithTarget(DataSource).ExecuteAsync()"
            ],
            "metadata": {},
            "execution_count": 0,
            "outputs": []
        },
        {
            "id": "j5hByZ5vp0GPGQTwcJG_Jg",
            "cell_type": "code",
            "source": [
                "await Import.FromFile(\"../Files/TransactionalData/NominalCashflows_CH_2021_3.csv\").WithFormat(ImportFormats.Cashflow).WithTarget(DataSource).ExecuteAsync()"
            ],
            "metadata": {},
            "execution_count": 0,
            "outputs": []
        },
        {
            "id": "uRIS4i65qUeE3EHWprm5Vw",
            "cell_type": "code",
            "source": [
                "await Import.FromFile(\"../Files/TransactionalData/Actuals_CH_2021_3.csv\").WithFormat(ImportFormats.Actual).WithTarget(DataSource).ExecuteAsync()"
            ],
            "metadata": {},
            "execution_count": 0,
            "outputs": []
        },
        {
            "id": "7-d_cLs9mEO8LFbudR4kvQ",
            "cell_type": "markdown",
            "source": [
                "# Reset Workspace"
            ],
            "metadata": {},
            "execution_count": 0,
            "outputs": []
        },
        {
            "id": "xMc34qKIlUeDmCDpsgwMrw",
            "cell_type": "code",
            "source": [
                "Workspace.Reset(x => x.ResetInitializationRules().ResetCurrentPartitions());"
            ],
            "metadata": {},
            "execution_count": 0,
            "outputs": []
        },
        {
            "id": "Gc9osofm6k6qi07BIGtC-w",
            "cell_type": "code",
            "source": [
                ""
            ],
            "metadata": {},
            "execution_count": 0,
            "outputs": []
        }
    ]
}