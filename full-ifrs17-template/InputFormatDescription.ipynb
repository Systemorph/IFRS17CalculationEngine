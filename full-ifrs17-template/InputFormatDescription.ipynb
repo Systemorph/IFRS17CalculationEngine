{
    "metadata": {
        "authors": [],
        "kernelspec": {
            "display_name": "Formula Framework",
            "language": "C#",
            "name": "C#"
        },
        "language_info": {
            "file_extension": ".cs",
            "mimetype": "text/plain",
            "name": "C#"
        },
        "toc-autonumbering": "True",
        "toc-showcode": "False"
    },
    "nbformat": 4,
    "nbformat_minor": 5,
    "cells": [
        {
            "cell_type": "markdown",
            "source": [
                "<p style=\"font-weight:bold;\"> <span style=\"font-size: 36px\"> Structure of the Cashflows, Actuals and Openings Files </span> </p>",
                "\n",
                "\nThis Notebook documents the structure of Cashflows, Actuals and Opening input files.",
                "\n",
                "\n<a id='cashflow'></a>",
                "\n# The Cashflows File Structure ",
                "\n",
                "\n<a name=\"TOC\"></a>",
                "\n<center><img src=\"./Images/CashflowFormat.png\" width=\"85%\" style=\"float:center;\">"
            ]
        },
        {
            "cell_type": "markdown",
            "source": [
                "A cashflow file is named **NominalCashflows** *\\_<reportingNode\\>* *\\_<year\\>* *\\_<month\\>* and is composed of two sections: **Main** and **Cashflow**.",
                "\n",
                "\nThe **Main** section contains information such as: Reporting Node, Year, Month and Scenario for which the data is being imported. This information is used to define the [partition](https://portal.stage.systemorph.cloud/project/ifrs17ce/env/dev/DataModel/DataStructure#partitions) to which the data belongs.",
                "\n",
                "\nThe **Cashflow** section contains the cash flow data. Several pieces of information are required to characterize a cash flow correctly:",
                "\n- [DataNode](https://portal.stage.systemorph.cloud/project/ifrs17ce/env/dev/DataModel/DataStructure#group-of-contracts) : lowest granularity of the Data Node, it is entered with its SystemName,",
                "\n- [AmountType](https://portal.stage.systemorph.cloud/project/ifrs17ce/env/dev/DataModel/DataStructure#amount-type) : entered with its SystemName,",
                "\n- [AocType](https://portal.stage.systemorph.cloud/project/ifrs17ce/env/dev/DataModel/DataStructure#aoc-type) : entered with its SystemName,",
                "\n- [Novelty](https://portal.stage.systemorph.cloud/project/ifrs17ce/env/dev/DataModel/DataStructure#novelty) : entered with its SystemName,",
                "\n- AccidentYear : relevant for Data Node with Liability Type: Liability for Incurred Claims.",
                "\n",
                "\nAll valid combinations of AocType and Novelty can be found in [AocConfiguration](https://portal.stage.systemorph.cloud/project/ifrs17ce/env/dev/DataModel/DataStructure#aoc-configuration) with DataType Optional or Mandatory.",
                "\n<br>The cash flow is entered in the columns named <code>ValuesN</code> where N goes from 0 to the lenght of cash flow. The Value0 corresponds to January of the Year entered in the **Main** section for every combination of AocType and Novelty. "
            ]
        },
        {
            "cell_type": "markdown",
            "source": [
                "<a id='actual'></a>",
                "\n# The Actuals File Structure ",
                "\n",
                "\n<a name=\"TOC\"></a>",
                "\n<center><img src=\"./Images/ActualFormat.png\" width=\"85%\" style=\"float:center;\">"
            ]
        },
        {
            "cell_type": "markdown",
            "source": [
                "An Actuals file is named **Actuals** *\\_<reportingNode\\>* *\\_<year\\>* *\\_<month\\>* and is composed of two sections: **Main** and **Actual**.",
                "\n",
                "\nThe **Main** section contains information such as: Reporting Node, Year, Month for which the data is being imported. This information is used to define the [partition](https://portal.stage.systemorph.cloud/project/ifrs17ce/env/dev/DataModel/DataStructure#partition) to which the data belong.",
                "\n",
                "\nThe **Actual** section contains the actuals data. Several pieces of information are required to to characterize an Actuals amount correctly:",
                "\n- [DataNode](https://portal.stage.systemorph.cloud/project/ifrs17ce/env/dev/DataModel/DataStructure#group-of-contracts) : lowest granularity of the Data Node, it is entered with its SystemName,",
                "\n- [AocType](https://portal.stage.systemorph.cloud/project/ifrs17ce/env/dev/DataModel/DataStructure#aoc-type) : entered with its SystemName,",
                "\n- [ValueType](https://portal.stage.systemorph.cloud/project/ifrs17ce/env/dev/DataModel/DataStructure#amount-type) : corresponds to AmountType SystemName extended with the ExternalId,",
                "\n- AccidentYear : relevant for Data Node with Liability Type: Liability for Incurred Claims."
            ]
        },
        {
            "cell_type": "markdown",
            "source": [
                "<a id='opening'></a>",
                "\n# The Openings File Structure ",
                "\n",
                "\n<a name=\"TOC\"></a>",
                "\n<center><img src=\"./Images/OpeningFormat.png\" width=\"85%\" style=\"float:center;\">"
            ]
        },
        {
            "cell_type": "markdown",
            "source": [
                "An Openings file is named **Openings** *\\_<reportingNode\\>* *\\_<year\\>* *\\_<month\\>* and is composed of two sections: **Main** and **Opening**.  In an AoC for one period, we only need one file with the year/month combination of the beginning of the period.  Some GICs do not need any entries in Openings.",
                "\n",
                "\nThe **Main** section contains information such as: Reporting Node, Year, Month for which the data is being imported. This information is used to define the [partition](https://portal.stage.systemorph.cloud/project/ifrs17ce/env/dev/DataModel/DataStructure#partition) to which the data belong.",
                "\n",
                "\nThe **Opening** section contains values at opening of an analysis. Several pieces of information are required to to characterize an Opening amount correctly:",
                "\n- [DataNode](https://portal.stage.systemorph.cloud/project/ifrs17ce/env/dev/DataModel/DataStructure#group-of-contracts) : lowest granularity of the Data Node, it is entered with its SystemName,",
                "\n- [EstimateType](https://portal.stage.systemorph.cloud/project/ifrs17ce/env/dev/DataModel/DataStructure#estimate-type) : entered with its SystemName,",
                "\n- [AmountType](https://portal.stage.systemorph.cloud/project/ifrs17ce/env/dev/DataModel/DataStructure#amount-type) : entered with its SystemName,",
                "\n- AccidentYear : relevant for Data Node with Liability Type: Liability for Incurred Claims."
            ]
        }
    ]
}