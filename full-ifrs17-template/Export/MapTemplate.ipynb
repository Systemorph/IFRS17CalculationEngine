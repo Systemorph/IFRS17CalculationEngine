{
    "metadata": {
        "authors": [],
        "kernelspec": {
            "display_name": "Formula Framework",
            "language": "C#",
            "name": "C#"
        },
        "language_info": {
            "file_extension": ".cs",
            "mimetype": "text/plain",
            "name": "C#"
        },
        "toc-autonumbering": "True",
        "toc-showcode": "False"
    },
    "nbformat": 4,
    "nbformat_minor": 5,
    "cells": [
        {
            "id": "FneWO8gy90SRDr5wp7Q73A",
            "cell_type": "markdown",
            "source": [
                "<p style=\"font-weight:bold;\"> <span style=\"font-size: 36px\"> Map Template </span> </p>"
            ],
            "metadata": {},
            "execution_count": 0,
            "outputs": []
        },
        {
            "id": "mGjGbxzPhUmr9TCNFIPq4g",
            "cell_type": "markdown",
            "source": [
                "This notebook exports the data nodes, data node states, and data node parameters belonging to a specific data partition into an excel file.",
                "\n<br> This file contains reference data used to prepopulate dropdows and validations to facilitate editing.",
                "\n<br> This can be modified and imported in the calculation engine to create and modify data."
            ],
            "metadata": {},
            "execution_count": 0,
            "outputs": []
        },
        {
            "id": "Bxa92d8rhk61RIEqJSwmPQ",
            "cell_type": "markdown",
            "source": [
                "After setting the desired target Partition, the Data present in the workspace is ready to be exported. ",
                "\n",
                "\nThe default location of the exported files is the project file storage. A **download** link is generated and available for as long as the session is active. "
            ],
            "metadata": {},
            "execution_count": 0,
            "outputs": []
        },
        {
            "id": "a1JBot3_IUuoGfAkOT-zug",
            "cell_type": "markdown",
            "source": [
                "# Select Initialization"
            ],
            "metadata": {},
            "execution_count": 0,
            "outputs": []
        },
        {
            "id": "xd31ExrZm0q3ypEzZT_3JA",
            "cell_type": "markdown",
            "source": [
                "Choose to run the Map Template either with the set of Systemorph data in memory or with the data present in the Database: ",
                "\n- #!eval-notebook \"../Database/Configure\" : connects to a physical Database",
                "\n- #!eval-notebook \"../Import/CloseImportTemplate\" : uses the in-memory set up",
                "\n",
                "\nWe use here the in-memory set up."
            ],
            "metadata": {},
            "execution_count": 0,
            "outputs": []
        },
        {
            "id": "_LzJA8etQUGUXz_yrcoFNQ",
            "cell_type": "code",
            "source": [
                "#!eval-notebook \"../Import/CloseImportTemplate\""
            ],
            "metadata": {},
            "execution_count": 0,
            "outputs": []
        },
        {
            "id": "IsNu7K-RZ0yi8QKsCCeWHg",
            "cell_type": "markdown",
            "source": [
                "# Workspace Initialization "
            ],
            "metadata": {},
            "execution_count": 0,
            "outputs": []
        },
        {
            "id": "PIeGZ3gx-UeuUkpuxtaVqA",
            "cell_type": "markdown",
            "source": [
                "Firstly, the Workspace is initialized with basic dimensions and with Data Nodes. For a list of the dimensions please refer to the DataModel/DataStructure notebook."
            ],
            "metadata": {},
            "execution_count": 0,
            "outputs": []
        },
        {
            "id": "1gENLM7BR0SWXf8XQpFF0g",
            "cell_type": "code",
            "source": [
                "Workspace.InitializeFrom(DataSource);"
            ],
            "metadata": {},
            "execution_count": 0,
            "outputs": []
        },
        {
            "id": "NaGY1ZZpuECt_fT_wn19hg",
            "cell_type": "markdown",
            "source": [
                "# Map Template: Data Node",
                "\n",
                "\n[DataNodes](https://portal.systemorph.cloud/project/ifrs17/env/v1.0.0/DataModel/DataStructure#data-node) defines the properties of [Portfolios](https://portal.systemorph.cloud/project/ifrs17/env/v1.0.0/DataModel/DataStructure#portfolios) and [Group of Contracts](https://portal.systemorph.cloud/project/ifrs17/env/v1.0.0/DataModel/DataStructure#group-of-contracts)."
            ],
            "metadata": {},
            "execution_count": 0,
            "outputs": []
        },
        {
            "id": "IpASDV5O3k6kRwBARFACmA",
            "cell_type": "markdown",
            "source": [
                "## Set Partition"
            ],
            "metadata": {},
            "execution_count": 0,
            "outputs": []
        },
        {
            "id": "eP_yS438mUK79aRSpcp4yA",
            "cell_type": "code",
            "source": [
                "static var partition = new PartitionByReportingNode() { ReportingNode = \"CH\" };",
                "\nawait Workspace.Partition.SetAsync<PartitionByReportingNode>( partition );"
            ],
            "metadata": {},
            "execution_count": 0,
            "outputs": []
        },
        {
            "id": "4ICpTqPgCUSt-KzlhbPSqQ",
            "cell_type": "markdown",
            "source": [
                "## Export"
            ],
            "metadata": {},
            "execution_count": 0,
            "outputs": []
        },
        {
            "id": "WdpqxQM0bEKbPGs9NOWpvg",
            "cell_type": "code",
            "source": [
                "await Export.ToExcel(\"DataNodes\")",
                "\n    .WithSource(Workspace)",
                "\n    .PortfolioConfiguration<ReinsurancePortfolio>()",
                "\n    .PortfolioConfiguration<InsurancePortfolio>()",
                "\n    .GroupofContractConfiguration<GroupOfReinsuranceContract>(typeof(ReinsurancePortfolio))",
                "\n    .GroupofContractConfiguration<GroupOfInsuranceContract>(typeof(InsurancePortfolio))",
                "\n    .MainTabConfigurationWoScenario(partition)",
                "\n.ExecuteAsync()"
            ],
            "metadata": {},
            "execution_count": 0,
            "outputs": []
        },
        {
            "id": "ms8ufnYGV0KuJ8HnqHcOMg",
            "cell_type": "markdown",
            "source": [
                "# Map Template: Data Node State",
                "\n",
                "\n[Data Node State](https://portal.systemorph.cloud/project/ifrs17/env/v1.0.0/DataModel/DataStructure#data-node-state) defines whether the instance is active (used in import/output) or inactive (present in the DataSource but not used in input/output operations)."
            ],
            "metadata": {},
            "execution_count": 0,
            "outputs": []
        },
        {
            "id": "Gi2aIdl-SU2uVBwbB7ICYg",
            "cell_type": "markdown",
            "source": [
                "## Set Partition"
            ],
            "metadata": {},
            "execution_count": 0,
            "outputs": []
        },
        {
            "id": "sY-0zE1hZU6NHBR3IzEC-A",
            "cell_type": "code",
            "source": [
                "static var partition = new PartitionByReportingNodeAndPeriod() { ReportingNode = \"CH\", Year = 2020, Month = 12 };",
                "\nawait Workspace.Partition.SetAsync<PartitionByReportingNode>( new PartitionByReportingNode() { ReportingNode = partition.ReportingNode } );"
            ],
            "metadata": {},
            "execution_count": 0,
            "outputs": []
        },
        {
            "id": "JCyElzSF8EGlJR9fS1SvWA",
            "cell_type": "markdown",
            "source": [
                "## Export"
            ],
            "metadata": {},
            "execution_count": 0,
            "outputs": []
        },
        {
            "id": "oKbXKqdEoEKLDdStW77jFw",
            "cell_type": "markdown",
            "source": [
                "The data is retrieved for the Workspace and prepared for export."
            ],
            "metadata": {},
            "execution_count": 0,
            "outputs": []
        },
        {
            "id": "Q8IF8ssMc0-l_TH7dyZErQ",
            "cell_type": "code",
            "source": [
                "var dataNodeStates = (await Workspace.Query<DataNodeState>()",
                "\n                        .Where(x => (x.Year == partition.Year && x.Month <= partition.Month) || x.Year < partition.Year).ToArrayAsync())",
                "\n                        .GroupBy(x => x.DataNode)",
                "\n                        .Select(x => x.OrderByDescending(y => y.Year).ThenByDescending(y => y.Month))",
                "\n                        .Select(x => x.Last())",
                "\n                        .ToArray();"
            ],
            "metadata": {},
            "execution_count": 0,
            "outputs": []
        },
        {
            "id": "mciBXqZbS0Cm0vb3gteogw",
            "cell_type": "markdown",
            "source": [
                "Export is performed."
            ],
            "metadata": {},
            "execution_count": 0,
            "outputs": []
        },
        {
            "id": "TaCed3EGrEe-WBuCJ2ZbTQ",
            "cell_type": "code",
            "source": [
                "await Export.ToExcel(\"DataNodeState\")",
                "\n    .WithSource(Workspace)",
                "\n    .StateEnumConfiguration() ",
                "\n    .DataNodeStateConfiguration(dataNodeStates)",
                "\n    .MainTabConfigurationWoScenario(partition)",
                "\n.ExecuteAsync()"
            ],
            "metadata": {},
            "execution_count": 0,
            "outputs": []
        },
        {
            "id": "u9DWxrcKTESUHg3hCawXYA",
            "cell_type": "markdown",
            "source": [
                "# Map Template: Data Node Parameter",
                "\n",
                "\n[Data Node Parameters](https://portal.systemorph.cloud/project/ifrs17/env/v1.0.0/DataModel/DataStructure#data-node-parameters) are defined at the Group of Contract level and are used during the import calculation. "
            ],
            "metadata": {},
            "execution_count": 0,
            "outputs": []
        },
        {
            "id": "sRVHi2xZo0aHsq3L-oYlkA",
            "cell_type": "markdown",
            "source": [
                "## Set Partition"
            ],
            "metadata": {},
            "execution_count": 0,
            "outputs": []
        },
        {
            "id": "MFRYiVeTD0OLI_tV2LuVAA",
            "cell_type": "code",
            "source": [
                "static var partition = new PartitionByReportingNodeAndPeriod() { ReportingNode = \"CH\", Year = 2020, Month = 12 };",
                "\nawait Workspace.Partition.SetAsync<PartitionByReportingNode>( new PartitionByReportingNode() { ReportingNode = partition.ReportingNode } );"
            ],
            "metadata": {},
            "execution_count": 0,
            "outputs": []
        },
        {
            "id": "kLbEBQI7OUefudQPdV-6Bw",
            "cell_type": "markdown",
            "source": [
                "## Export"
            ],
            "metadata": {},
            "execution_count": 0,
            "outputs": []
        },
        {
            "id": "MLt2Wl2TLUqs1NzuY_WJ3A",
            "cell_type": "markdown",
            "source": [
                "The data is retrieved for the Workspace and prepared for export."
            ],
            "metadata": {},
            "execution_count": 0,
            "outputs": []
        },
        {
            "id": "QggYaqqUK0CmmJxVRK8ivg",
            "cell_type": "code",
            "source": [
                "var dataNodeParameters = (await Workspace.Query<DataNodeParameter>()",
                "\n                        .Where(x => (x.Year == partition.Year && x.Month <= partition.Month) || x.Year < partition.Year).ToArrayAsync())",
                "\n                        .GroupBy(x => x.GetType().Name)",
                "\n                        .ToDictionary(x => x.Key, ",
                "\n                                      x => x.GroupBy(y => y.DataNode)",
                "\n                                            .Select(y => y.OrderByDescending(z => z.Year).ThenByDescending(z => z.Month))",
                "\n                                            .Select(y => y.Last())",
                "\n                                            .ToArray() );"
            ],
            "metadata": {},
            "execution_count": 0,
            "outputs": []
        },
        {
            "id": "p9Nl8e0YdUS6iMWFnCl_pQ",
            "cell_type": "markdown",
            "source": [
                "Export is performed."
            ],
            "metadata": {},
            "execution_count": 0,
            "outputs": []
        },
        {
            "id": "0OhhBoJHLkmsCaBt17MkKw",
            "cell_type": "code",
            "source": [
                "await Export.ToExcel(\"DataNodeParameter\")",
                "\n    .WithSource(Workspace)",
                "\n    .DataNodeParameterConfiguration(dataNodeParameters)",
                "\n    .MainTabConfiguration(partition)",
                "\n.ExecuteAsync()"
            ],
            "metadata": {},
            "execution_count": 0,
            "outputs": []
        },
        {
            "id": "uh79h3Q3okCQeYRRtXC-ow",
            "cell_type": "code",
            "source": [
                ""
            ],
            "metadata": {},
            "execution_count": 0,
            "outputs": []
        }
    ]
}