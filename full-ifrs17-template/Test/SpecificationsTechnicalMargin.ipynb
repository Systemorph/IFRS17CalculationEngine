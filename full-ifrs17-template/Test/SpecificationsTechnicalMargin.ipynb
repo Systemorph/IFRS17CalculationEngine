{
    "metadata": {
        "authors": [],
        "kernelspec": {
            "display_name": "Formula Framework",
            "language": "C#",
            "name": "C#"
        },
        "language_info": {
            "file_extension": ".cs",
            "mimetype": "text/plain",
            "name": "C#"
        },
        "toc-autonumbering": "True",
        "toc-showcode": "False"
    },
    "nbformat": 4,
    "nbformat_minor": 5,
    "cells": [
        {
            "cell_type": "markdown",
            "source": [
                "<p style=\"font-weight:bold;\"> <span style=\"font-size: 36px\"> Technical Margin Specifications </span> </p>"
            ]
        },
        {
            "cell_type": "markdown",
            "source": [
                "The aim of this notebook is to document the Technical Margin (TM) and its allocation to the Contractual Service Margin (CSM), Loss Component (LC), or Loss Recovery Component (LoReCo). The process is pictorially explained in the following flowchart. ",
                "\n",
                "\n<a name=\"TOC\"></a>",
                "\n<center><img src=\"../Images/SpecificationsCSM.PNG\" width=\"45%\" style=\"float:center;\">",
                "\n",
                "\nThroughout this notebook we adopt the following variable notation:  we use the words *computed* vs. *expected* to differentiate the results provided by the application vs. this test notebook, respectively."
            ]
        },
        {
            "cell_type": "markdown",
            "source": [
                "[Setup IFRS17 Calculation Engine](../Import/ImportScopeCalculation):"
            ]
        },
        {
            "cell_type": "code",
            "source": [
                "#!import \"SpecificationsSetup\""
            ]
        },
        {
            "cell_type": "markdown",
            "source": [
                "---"
            ]
        },
        {
            "cell_type": "markdown",
            "source": [
                "# Import Data"
            ]
        },
        {
            "cell_type": "markdown",
            "source": [
                "<a id='year-and-period'></a>",
                "\n## Current Period"
            ]
        },
        {
            "cell_type": "markdown",
            "source": [
                "Please select the target period (i.e. year and month) and Reporting Node based on the imported data:"
            ]
        },
        {
            "cell_type": "code",
            "source": [
                "var year          = 2021   ;",
                "\nvar month         = 3      ;",
                "\nvar reportingNode = \"CH\"   ;",
                "\nvar economicBasis = \"L\"    ;"
            ]
        },
        {
            "cell_type": "markdown",
            "source": [
                "Import the Dimensions, Parameters, Nominal Cashflows, and Actuals from the corresponding csv files in <code>Initialization/Systemorph/</code>"
            ]
        },
        {
            "cell_type": "code",
            "source": [
                "#!eval-notebook \"../Initialization/InitSystemorphToMemory\""
            ]
        },
        {
            "cell_type": "markdown",
            "source": [
                "Initialization of the Test Suite: the data loaded from csv files are ready to be used by the Scopes for the calculations"
            ]
        },
        {
            "cell_type": "code",
            "source": [
                "var Test = await StartCalculatorAsync(reportingNode, year, month, economicBasis, Periodicity.Quarterly, ImportFormats.Cashflow);"
            ]
        },
        {
            "cell_type": "markdown",
            "source": [
                "<a id='view-loaded-data-nodes'></a>",
                "\n## View loaded Data Nodes"
            ]
        },
        {
            "cell_type": "markdown",
            "source": [
                "The imported active Data Nodes from <code>Initialization/Systemorph/DataNodes.csv</code> are "
            ]
        },
        {
            "cell_type": "code",
            "source": [
                "Test.GetStorage().DataNodeDataBySystemName"
            ]
        },
        {
            "cell_type": "markdown",
            "source": [
                "whereas the Data Nodes of your imported Cashflows are"
            ]
        },
        {
            "cell_type": "code",
            "source": [
                "Test.GetStorage().DataNodesByImportScope[ImportScope.Primary]"
            ]
        },
        {
            "cell_type": "markdown",
            "source": [
                "Please select here below the target Data Node for executing the tests below:"
            ]
        },
        {
            "cell_type": "code",
            "source": [
                "var dataNode = \"DT1.1\";"
            ]
        },
        {
            "cell_type": "markdown",
            "source": [
                "## View list of Identities"
            ]
        },
        {
            "cell_type": "markdown",
            "source": [
                "Based on the Cashflows imported, the list of all possible identities, i.e. combinations of valid Data Nodes, Aoc steps, and Novelties, is contructed and reported here below:"
            ]
        },
        {
            "cell_type": "code",
            "source": [
                "var allIdentities = Test.GetScopes<GetIdentities>(Test.GetStorage().DataNodesByImportScope[ImportScope.Primary]).SelectMany(s => s.Identities).ToArray();"
            ]
        },
        {
            "cell_type": "code",
            "source": [
                "allIdentities"
            ]
        },
        {
            "cell_type": "markdown",
            "source": [
                "<br/><br/>",
                "\n<a id='present-value'></a>",
                "\n# Present Value"
            ]
        },
        {
            "cell_type": "markdown",
            "source": [
                "Projected Present Values (PPVs) are calculated for each Amount Type (AT) either with the *locked-in* (L) and with the *current* (C) Yield Curves. While the former is the latest available as per end of the DataNode's inception year, the latter is the latest available as per the current period. ",
                "\nPPVs for both Economic Basis L and C have been defined [here](../Import/ImportScopeCalculation#present-value) and tested [here](SpecificationsImportCashflows#present-values). ",
                "\n",
                "\nAccording to the BBA methodology, the CSM calculation uses the PV with locked-in Yield Curve simply defined as",
                "\n",
                "\n$$",
                "\n\\text{PV Locked}(\\text{AoC}, \\text{AT}) = \\text{PPV}(\\text{AoC}, \\text{AT}) \\big|_{\\substack{ \\text{Calculation Type = BE} \\\\ \\text{Economic Base = L} } }",
                "\n$$"
            ]
        },
        {
            "cell_type": "code",
            "source": [
                "var pvsLocked = allIdentities.SelectMany(id => Test.GetScope<PvLocked>(id).PresentValues",
                "\n                                                   .Where(x => Math.Abs(x.Value) >= Precision)",
                "\n                                                   .Select(x => x.FromPvToIfrsVariable())).ToArray();"
            ]
        },
        {
            "cell_type": "markdown",
            "source": [
                "Below a view of the computed locked-in PV "
            ]
        },
        {
            "cell_type": "code",
            "source": [
                "Report.ForObjects(pvsLocked)",
                "\n      .WithQuerySource(Workspace)",
                "\n      .GroupColumnsBy(x => x.EconomicBasis)",
                "\n      .GroupColumnsBy(x => x.AmountType)",
                "\n      .GroupRowsBy(x => x.Novelty)",
                "\n      .GroupRowsBy(x => x.AocType)",
                "\n      .WithGridOptionsForIfrsVariable()",
                "\n      .ToReport()"
            ]
        },
        {
            "cell_type": "markdown",
            "source": [
                "Aggregated values are also available as the sum over all [Amount Types](../DataModel/DataStructure#amount-type):",
                "\n",
                "\n$$",
                "\n\\text{PV Locked Value}(\\text{AoC}) = \\sum_{\\text{AT}} \\text{PV Locked}(\\text{AoC}, \\text{AT})",
                "\n$$"
            ]
        },
        {
            "cell_type": "markdown",
            "source": [
                "Here below an example"
            ]
        },
        {
            "cell_type": "code",
            "source": [
                "var id_BoP_I = Test.GetIdentity(dataNode, \"BOP\", \"I\");"
            ]
        },
        {
            "cell_type": "code",
            "source": [
                "id_BoP_I"
            ]
        },
        {
            "cell_type": "code",
            "source": [
                "Test.GetScope<PvLocked>( id_BoP_I ).Value"
            ]
        },
        {
            "cell_type": "markdown",
            "source": [
                "<br/><br/>",
                "\n<a id='risk-adjustment'></a>",
                "\n# Risk Adjustment"
            ]
        },
        {
            "cell_type": "markdown",
            "source": [
                "The CSM calculation also uses locked-in Risk Adjustment (RA Locked) which is retrieved from the corresponding Present Value with [Calculation Type](../DataModel/DataStructure#calculation-type) being RA defined [here](../Import/ImportScopeCalculation#present-value) and tested [here](SpecificationsImportCashflows#present-values). ",
                "\n",
                "\nRisk Adjustment values can be written as",
                "\n",
                "\n$$",
                "\n\\text{RA Locked Value}(\\text{AoC}) = \\text{PV}(\\text{AoC})|_{\\substack{ \\text{Calculation Type = RA} \\\\ \\text{Economic Base = L} }}",
                "\n$$",
                "\n",
                "\nwhere the imported Cashflows for the RA Calculation Type are already aggregated over all [Amount Types](../DataModel/DataStructure#amount-type)."
            ]
        },
        {
            "cell_type": "markdown",
            "source": [
                "Here below an example"
            ]
        },
        {
            "cell_type": "code",
            "source": [
                "var id_BoP_I = Test.GetIdentity(dataNode, \"BOP\", \"I\");"
            ]
        },
        {
            "cell_type": "code",
            "source": [
                "id_BoP_I"
            ]
        },
        {
            "cell_type": "code",
            "source": [
                "Test.GetScope<RaLocked>( id_BoP_I ).Value"
            ]
        },
        {
            "cell_type": "markdown",
            "source": [
                "The RA Locked per Data Node imported are"
            ]
        },
        {
            "cell_type": "code",
            "source": [
                "var rasLocked = allIdentities.SelectMany(id => Test.GetScope<RaLocked>(id).PresentValues",
                "\n                                                   .Where(x => Math.Abs(x.Value) >= Precision)",
                "\n                                                   .Select(x => x.FromPvToIfrsVariable())).ToArray();"
            ]
        },
        {
            "cell_type": "code",
            "source": [
                "Report.ForObjects<IfrsVariable>(rasLocked)",
                "\n      .WithQuerySource(Workspace)",
                "\n      .GroupColumnsBy(x => x.EconomicBasis)",
                "\n      .GroupColumnsBy(x => x.DataNode)",
                "\n      .GroupRowsBy(x => x.Novelty)",
                "\n      .GroupRowsBy(x => x.AocType)",
                "\n      .WithGridOptionsForIfrsVariable()",
                "\n      .ToReport()"
            ]
        },
        {
            "cell_type": "markdown",
            "source": [
                "<br/><br/>",
                "\n<a name='technical-margins'></a>",
                "\n# Technical Margin"
            ]
        },
        {
            "cell_type": "markdown",
            "source": [
                "For the computation of the CSM or LC components for each AoC step, it is convenient to introduce the notion of technical margin (TM).",
                "\n",
                "\nFirstly, it is useful to define the so-called Aggregated Technical Margin (ATM)",
                "\n",
                "\n$$",
                "\n\\text{ATM} (\\text{AoC}) = \\sum_{s\\in\\text{previous AoC steps}} \\text{TM}(s) ~,",
                "\n$$",
                "\n",
                "\nand the Interest Accretion Factor (IAF) ",
                "\n",
                "\n$$",
                "\n\\text{IAF} = \\prod_{i=1}^{\\text{TS}} (1 + \\text{YC}_i) - 1 ~.",
                "\n$$",
                "\n",
                "\nThe TM is defined as",
                "\n",
                "\n$$",
                "\n\\text{TM}(\\text{AoC}) = \\left\\{",
                "\n\\begin{array}{rl}",
                "\n\\text{TM}(\\rm{EOP}) \\text{ of the previous period}                           ~ & \\text{if }s = \\text{BOP and Novelty is In-Force}. \\\\",
                "\n0                                                                            ~ & \\text{if }s = \\text{CF}. \\\\",
                "\n\\text{IAF} \\cdot ~ \\text{ATM}(\\text{AoC})                                    ~ & \\text{if }s = \\text{IA}. \\\\",
                "\n\\rm{Premiums} + \\text{Attributable Expense and Commissions} + \\text{Investment Claims}                    ~ & \\text{if }s = \\text{EA}. \\\\",
                "\n-\\text{AMF} \\cdot ~ \\text{ATM}(\\text{AoC})                                   ~ & \\text{if }s = \\text{AM}. \\\\",
                "\n\\text{PV Locked Value}(\\text{AoC}) ",
                "\n\\bigg|_{\\substack{\\text{Non Attributable} \\\\ ",
                "\n                  \\text{Amount Types} \\\\ ",
                "\n                  \\text{excluded}}} ",
                "\n+ \\text{RA Locked Value}(\\text{AoC})                                         ~ & \\text{otherwise} ",
                "\n\\end{array}",
                "\n\\right.",
                "\n$$",
                "\n",
                "\nwhere AMF is the Amortization Factor that is defined [here](../Import/ImportScopeCalculation#amortization-factor) and tested [here](SpecificationsImportCashflows#amortization-factor), with YC being the [Yield Curve](#yield-curves) and TS is the Time-Step, ",
                "\nand the Premiums, Attributable Expense and Commissions and Investment Claims terms are given by:",
                "\n",
                "\n$$",
                "\n\\begin{array}{lcl}",
                "\n\\rm{Premiums} &=& \\text{Premium Allocation Factor} \\cdot \\sum_{\\text{Amount Type}\\in\\{\\text{PR and its children}\\}}",
                "\n                  \\big(\\text{PV}_{\\text{Novelty = I}} + \\text{PV}_{\\text{Novelty = N}} \\big) - ",
                "\n                  \\big(\\text{Actual}_{\\text{Novelty=C}} + \\text{Advance Actual}_{\\text{Novelty=C}} + \\text{Overdue Actual}_{\\text{Novelty=C}} \\big) ~, \\\\",
                "\n\\text{Attributable Expense and Commissions} &=& \\sum_{\\text{Amount Type}\\in\\{\\rm{ACA}, \\rm{AEA}\\}}",
                "\n                   \\big(\\text{PV}_{\\text{Novelty = I}} + \\text{PV}_{\\text{Novelty = N}} \\big) - \\text{Actual}_{\\text{Novelty=C}} ~, \\\\",
                "\n\\text{Investment Claims } &=& \\sum_{\\text{Amount Type}\\in\\{\\text{ICO and its children}\\}}",
                "\n                              \\big(\\text{PV}_{\\text{Novelty = I}} + \\text{PV}_{\\text{Novelty = N}} \\big) - ",
                "\n                              \\big( \\text{Actual}_{\\text{Novelty=C}} + \\text{Advance Actual}_{\\text{Novelty=C}} + \\text{Overdue Actual}_{\\text{Novelty=C}} \\big) ~.",
                "\n\\end{array}",
                "\n$$",
                "\n",
                "\nThe AoC Type **CF** is implicit for all formulas, PV is the [present value](#present-value) with Calculation Type **BE**, and Actuals have Estimate Types **A**, **OA** and **AA** (see details [here](../Import/ImportScopeCalculation#actual-base))."
            ]
        },
        {
            "cell_type": "markdown",
            "source": [
                "## Beginning of Period"
            ]
        },
        {
            "cell_type": "code",
            "source": [
                "var id_BoP_I = Test.GetIdentity(dataNode, \"BOP\", \"I\");"
            ]
        },
        {
            "cell_type": "code",
            "source": [
                "id_BoP_I"
            ]
        },
        {
            "cell_type": "code",
            "source": [
                "var computedTM_BoP_I = Test.GetScope<TechnicalMargin>(id_BoP_I);"
            ]
        },
        {
            "cell_type": "code",
            "source": [
                "computedTM_BoP_I.Value"
            ]
        },
        {
            "cell_type": "markdown",
            "source": [
                "The TM for BOP is equal to the TM for EOP of the previous period, that is, the sum of Csm, Loss Component and LoReCo as of at the end of last period (see the corresponding [formula](#technical-margins)). ",
                "\n",
                "\nThe corresponding **IFRS Variables** can be loaded directly from the *Storage*"
            ]
        },
        {
            "cell_type": "code",
            "source": [
                "var valueCsm = Test.GetStorage().GetValue(id_BoP_I, null, EstimateTypes.C, null);",
                "\nvalueCsm"
            ]
        },
        {
            "cell_type": "code",
            "source": [
                "var valueLc = Test.GetStorage().GetValue(id_BoP_I, null, EstimateTypes.L, null);",
                "\nvalueLc"
            ]
        },
        {
            "cell_type": "code",
            "source": [
                "var valueLr = Test.GetStorage().GetValue(id_BoP_I, null, EstimateTypes.LR, null);",
                "\nvalueLr"
            ]
        },
        {
            "cell_type": "code",
            "source": [
                "var expectedTM_BoP_I = -valueCsm + valueLc + valueLr;"
            ]
        },
        {
            "cell_type": "code",
            "source": [
                "expectedTM_BoP_I"
            ]
        },
        {
            "cell_type": "code",
            "source": [
                "computedTM_BoP_I.Value.Should().BeApproximately( expectedTM_BoP_I, Precision );"
            ]
        },
        {
            "cell_type": "markdown",
            "source": [
                "<a id='model-corrections'></a>",
                "\n## Model Corrections"
            ]
        },
        {
            "cell_type": "code",
            "source": [
                "var id_MC_I = Test.GetIdentity(dataNode, \"MC\", \"I\");"
            ]
        },
        {
            "cell_type": "code",
            "source": [
                "id_MC_I"
            ]
        },
        {
            "cell_type": "code",
            "source": [
                "var computedTM_MC_I = Test.GetScope<TechnicalMargin>(id_MC_I);"
            ]
        },
        {
            "cell_type": "code",
            "source": [
                "computedTM_MC_I.Value"
            ]
        },
        {
            "cell_type": "markdown",
            "source": [
                "The TM for MC is given by the default [formula](#technical-margins), i.e. it is equal to the sum of PV and RA Locked, where the former does not encompass the *NonAttributable* Amount Types"
            ]
        },
        {
            "cell_type": "code",
            "source": [
                "var expectedTM_MC_I = Test.GetScope<PvLocked>(id_MC_I).Value + Test.GetScope<RaLocked>( id_MC_I ).Value;"
            ]
        },
        {
            "cell_type": "code",
            "source": [
                "expectedTM_MC_I"
            ]
        },
        {
            "cell_type": "code",
            "source": [
                "computedTM_MC_I.Value.Should().BeApproximately( expectedTM_MC_I, Precision );"
            ]
        },
        {
            "cell_type": "markdown",
            "source": [
                "## Cash Flow"
            ]
        },
        {
            "cell_type": "code",
            "source": [
                "var id_CF_I = Test.GetIdentity(dataNode, \"CF\", \"I\");"
            ]
        },
        {
            "cell_type": "code",
            "source": [
                "id_CF_I"
            ]
        },
        {
            "cell_type": "code",
            "source": [
                "var computedTM_CF_I = Test.GetScope<TechnicalMargin>(id_CF_I);"
            ]
        },
        {
            "cell_type": "code",
            "source": [
                "computedTM_CF_I.Value"
            ]
        },
        {
            "cell_type": "markdown",
            "source": [
                "According to the [formula](#technical-margins) above, the tecnical margin is 0 for the Cash Flow AoC step "
            ]
        },
        {
            "cell_type": "code",
            "source": [
                "computedTM_CF_I.Value.Should().BeApproximately( 0, Precision );"
            ]
        },
        {
            "cell_type": "markdown",
            "source": [
                "<a id='interest-accretion'></a>",
                "\n## Interest Accretion"
            ]
        },
        {
            "cell_type": "code",
            "source": [
                "var id_IA_I = Test.GetIdentity(dataNode, \"IA\", \"I\");"
            ]
        },
        {
            "cell_type": "code",
            "source": [
                "id_IA_I"
            ]
        },
        {
            "cell_type": "code",
            "source": [
                "var computedTM_IA_I = Test.GetScope<TechnicalMargin>(id_IA_I);"
            ]
        },
        {
            "cell_type": "code",
            "source": [
                "computedTM_IA_I.Value"
            ]
        },
        {
            "cell_type": "markdown",
            "source": [
                "According to the [formula](#technical-margins) above, for the AoC step IA, the TM is equal to sum of the TMs of its previous AoC step multiplied by the IAF. "
            ]
        },
        {
            "cell_type": "markdown",
            "source": [
                "The IAF associated to the current period (i.e. shift and time step) can be calculated from the shift, the time Step, and the Interest Rates"
            ]
        },
        {
            "cell_type": "code",
            "source": [
                "var projectionPeriod = 0;"
            ]
        },
        {
            "cell_type": "code",
            "source": [
                "var shift = Test.GetStorage().GetShift(projectionPeriod);"
            ]
        },
        {
            "cell_type": "code",
            "source": [
                "var timeStep = Test.GetStorage().GetTimeStep(projectionPeriod);"
            ]
        },
        {
            "cell_type": "code",
            "source": [
                "(shift, timeStep)"
            ]
        },
        {
            "cell_type": "code",
            "source": [
                "var monthlyRates = Test.GetScope<MonthlyRate>(id_IA_I);"
            ]
        },
        {
            "cell_type": "code",
            "source": [
                "monthlyRates"
            ]
        },
        {
            "cell_type": "code",
            "source": [
                "var IAF = Enumerable.Range(shift,timeStep).Select(i => monthlyRates.Interest.GetValidElement(i/12)).Aggregate(1.0d, (x, y) => x * y ) - 1.0d;"
            ]
        },
        {
            "cell_type": "code",
            "source": [
                "IAF"
            ]
        },
        {
            "cell_type": "markdown",
            "source": [
                "Since the previous AoC steps are"
            ]
        },
        {
            "cell_type": "code",
            "source": [
                "var previousAocStep = Test.GetScope<PreviousAocSteps>((id_IA_I, InputSource.Cashflow)).Values;",
                "\npreviousAocStep"
            ]
        },
        {
            "cell_type": "markdown",
            "source": [
                "the expected TM for the Amortization step reads"
            ]
        },
        {
            "cell_type": "code",
            "source": [
                "var expectedTM_IA_I = IAF * previousAocStep.Sum(aoc => Test.GetScope<TechnicalMargin>(id_IA_I with {AocType = aoc.AocType, Novelty = aoc.Novelty}).Value);"
            ]
        },
        {
            "cell_type": "code",
            "source": [
                "expectedTM_IA_I"
            ]
        },
        {
            "cell_type": "code",
            "source": [
                "computedTM_IA_I.Value.Should().BeApproximately( expectedTM_IA_I, Precision );"
            ]
        },
        {
            "cell_type": "markdown",
            "source": [
                "## Combined Liabilities"
            ]
        },
        {
            "cell_type": "code",
            "source": [
                "var id_CL_C = Test.GetIdentity(dataNode, \"CL\", \"C\");"
            ]
        },
        {
            "cell_type": "code",
            "source": [
                "id_CL_C"
            ]
        },
        {
            "cell_type": "code",
            "source": [
                "var computedTM_CL_C = Test.GetScope<TechnicalMargin>(id_CL_C);"
            ]
        },
        {
            "cell_type": "code",
            "source": [
                "computedTM_CL_C.Value"
            ]
        },
        {
            "cell_type": "markdown",
            "source": [
                "According to the default TM [formula](#technical-margins), for the CL step the TM is equal to the sum of PV and RA Locked, where the former does not encompass the *NonAttributable* Amount Types"
            ]
        },
        {
            "cell_type": "code",
            "source": [
                "var expectedTM_CL_C = Test.GetScope<PvLocked>(id_CL_C).Value + Test.GetScope<RaLocked>( id_CL_C ).Value;"
            ]
        },
        {
            "cell_type": "code",
            "source": [
                "expectedTM_CL_C"
            ]
        },
        {
            "cell_type": "code",
            "source": [
                "computedTM_CL_C.Value.Should().BeApproximately( expectedTM_CL_C, Precision );"
            ]
        },
        {
            "cell_type": "markdown",
            "source": [
                "## Experience Adjustment"
            ]
        },
        {
            "cell_type": "code",
            "source": [
                "var id_EA_C = Test.GetIdentity(dataNode, \"EA\", \"C\");"
            ]
        },
        {
            "cell_type": "code",
            "source": [
                "id_EA_C"
            ]
        },
        {
            "cell_type": "code",
            "source": [
                "var computedTM_EA_C = Test.GetScope<TechnicalMargin>(id_EA_C);"
            ]
        },
        {
            "cell_type": "code",
            "source": [
                "computedTM_EA_C.Value"
            ]
        },
        {
            "cell_type": "markdown",
            "source": [
                "According to the [formula](#technical-margins) above, for the AoC step EA, the TM is equal to sum of the Premiums, Attributable Expense and Commissions, and Investment Claims. Here below we calculate these terms individually."
            ]
        },
        {
            "cell_type": "markdown",
            "source": [
                "The Premiums, Attributable Expense and Commissions and Investment Claims Present Values and Actuals are calculated using the CF AoC step. Therefore, as first step we define the relevant AoC step and Novelties:"
            ]
        },
        {
            "cell_type": "code",
            "source": [
                "var referenceAoCType = Test.GetScope<ReferenceAocStep>(id_EA_C).Value.AocType;",
                "\nvar referenceAoC = Test.GetStorage().GetNovelties().Select(n => new AocStep(referenceAoCType, n));"
            ]
        },
        {
            "cell_type": "code",
            "source": [
                "referenceAoC"
            ]
        },
        {
            "cell_type": "markdown",
            "source": [
                "**Premiums**"
            ]
        },
        {
            "cell_type": "markdown",
            "source": [
                "The list of Premiums Amount Type defined in the imported dimensions and the Premium Allocation Factor can be retrieved"
            ]
        },
        {
            "cell_type": "code",
            "source": [
                "Test.GetStorage().GetPremiums()"
            ]
        },
        {
            "cell_type": "code",
            "source": [
                "var premiumAllocationFactor = Test.GetStorage().GetPremiumAllocationFactor(id_EA_C);"
            ]
        },
        {
            "cell_type": "code",
            "source": [
                "premiumAllocationFactor"
            ]
        },
        {
            "cell_type": "markdown",
            "source": [
                "Lastly, the Premiums term is"
            ]
        },
        {
            "cell_type": "code",
            "source": [
                "var premiums = premiumAllocationFactor * Test.GetStorage().GetPremiums()",
                "\n    .Sum(p => referenceAoC.Sum(aoc => Test.GetScope<PresentValue>((Test.GetIdentity(dataNode, aoc.AocType, aoc.Novelty), p, EstimateTypes.BE, (int?)null), o => o.WithContext(economicBasis)).Value)",
                "\n             -referenceAoC.Sum(aoc => Test.GetScope<ActualBase>((Test.GetIdentity(dataNode, aoc.AocType, aoc.Novelty), p, EstimateTypes.A, (int?)null)).Value)",
                "\n             -referenceAoC.Sum(aoc => Test.GetScope<ActualBase>((Test.GetIdentity(dataNode, aoc.AocType, aoc.Novelty), p, EstimateTypes.AA, (int?)null)).Value)",
                "\n             -referenceAoC.Sum(aoc => Test.GetScope<ActualBase>((Test.GetIdentity(dataNode, aoc.AocType, aoc.Novelty), p, EstimateTypes.OA, (int?)null)).Value)",
                "\n        );"
            ]
        },
        {
            "cell_type": "code",
            "source": [
                "premiums"
            ]
        },
        {
            "cell_type": "markdown",
            "source": [
                "**Attributable Expense and Commissions**"
            ]
        },
        {
            "cell_type": "markdown",
            "source": [
                "Analogously, the Attributable Expense and Commissions term can be computed"
            ]
        },
        {
            "cell_type": "code",
            "source": [
                "var attributableExpenseAndCommissions = new string[] {AmountTypes.ACA, AmountTypes.AEA}",
                "\n    .Sum(d => referenceAoC.Sum(s => Test.GetScope<PresentValue>((Test.GetIdentity(dataNode, s.AocType, s.Novelty), d, EstimateTypes.BE, (int?)null), o => o.WithContext(economicBasis)).Value)",
                "\n             -referenceAoC.Sum(s => Test.GetScope<ActualBase>((Test.GetIdentity(dataNode, s.AocType, s.Novelty), d, EstimateTypes.A, (int?)null)).Value));"
            ]
        },
        {
            "cell_type": "code",
            "source": [
                "attributableExpenseAndCommissions"
            ]
        },
        {
            "cell_type": "markdown",
            "source": [
                "**Investment Claims**"
            ]
        },
        {
            "cell_type": "markdown",
            "source": [
                "Finally the Investment Claims term reads"
            ]
        },
        {
            "cell_type": "code",
            "source": [
                "var investmentClaims = Test.GetStorage().GetInvestmentClaims()",
                "\n    .Sum(ic => referenceAoC.Sum(s => Test.GetScope<PresentValue>((Test.GetIdentity(dataNode, s.AocType, s.Novelty), ic, EstimateTypes.BE, (int?)null), o => o.WithContext(economicBasis)).Value)",
                "\n              -referenceAoC.Sum(s => Test.GetScope<ActualBase>((Test.GetIdentity(dataNode, s.AocType, s.Novelty), ic, EstimateTypes.A, (int?)null)).Value)",
                "\n              -referenceAoC.Sum(s => Test.GetScope<ActualBase>((Test.GetIdentity(dataNode, s.AocType, s.Novelty), ic, EstimateTypes.AA, (int?)null)).Value)",
                "\n              -referenceAoC.Sum(s => Test.GetScope<ActualBase>((Test.GetIdentity(dataNode, s.AocType, s.Novelty), ic, EstimateTypes.OA, (int?)null)).Value)",
                "\n        );"
            ]
        },
        {
            "cell_type": "code",
            "source": [
                "investmentClaims"
            ]
        },
        {
            "cell_type": "markdown",
            "source": [
                "**Expected TM**"
            ]
        },
        {
            "cell_type": "code",
            "source": [
                "var expectedTM_EA_C = premiums + attributableExpenseAndCommissions + investmentClaims;"
            ]
        },
        {
            "cell_type": "code",
            "source": [
                "expectedTM_EA_C"
            ]
        },
        {
            "cell_type": "code",
            "source": [
                "computedTM_EA_C.Value.Should().BeApproximately( expectedTM_EA_C, Precision );"
            ]
        },
        {
            "cell_type": "markdown",
            "source": [
                "## Amortization"
            ]
        },
        {
            "cell_type": "code",
            "source": [
                "var id_AM_C = Test.GetIdentity(dataNode, \"AM\", \"C\");"
            ]
        },
        {
            "cell_type": "code",
            "source": [
                "id_AM_C"
            ]
        },
        {
            "cell_type": "code",
            "source": [
                "var computedTM_AM_C = Test.GetScope<TechnicalMargin>(id_AM_C);"
            ]
        },
        {
            "cell_type": "code",
            "source": [
                "computedTM_AM_C.Value"
            ]
        },
        {
            "cell_type": "code",
            "source": [
                "computedTM_AM_C"
            ]
        },
        {
            "cell_type": "markdown",
            "source": [
                "According to the [formula](#technical-margins) above, for the AoC step AM, the TM is equal to sum of the TMs of its previous AoC step multiplied by the amortization factor with opposite sign. ",
                "\n",
                "\nThe AoC step previous to Amortization are"
            ]
        },
        {
            "cell_type": "code",
            "source": [
                "var previousAocStep = Test.GetScope<PreviousAocSteps>((id_AM_C, InputSource.Cashflow)).Values;",
                "\npreviousAocStep"
            ]
        },
        {
            "cell_type": "markdown",
            "source": [
                "while the Amortization Factor can be retrieved in the following"
            ]
        },
        {
            "cell_type": "code",
            "source": [
                "Test.GetScope<CurrentPeriodAmortizationFactor>(id_AM_C)"
            ]
        },
        {
            "cell_type": "markdown",
            "source": [
                "Therefore, the expected TM for the Amortization step reads"
            ]
        },
        {
            "cell_type": "code",
            "source": [
                "var expectedTM_AM_C = -Test.GetScope<CurrentPeriodAmortizationFactor>(id_AM_C).Value * ",
                "\n                       previousAocStep.Sum(aoc => Test.GetScope<TechnicalMargin>(id_AM_C with {AocType = aoc.AocType, Novelty = aoc.Novelty}).Value);"
            ]
        },
        {
            "cell_type": "code",
            "source": [
                "expectedTM_AM_C"
            ]
        },
        {
            "cell_type": "code",
            "source": [
                "computedTM_AM_C.Value.Should().BeApproximately( expectedTM_AM_C, Precision );"
            ]
        },
        {
            "cell_type": "markdown",
            "source": [
                "## End of Period"
            ]
        },
        {
            "cell_type": "code",
            "source": [
                "var id_EoP_C = Test.GetIdentity(dataNode, \"EOP\", \"C\");"
            ]
        },
        {
            "cell_type": "code",
            "source": [
                "id_EoP_C"
            ]
        },
        {
            "cell_type": "code",
            "source": [
                "var computedTM_EoP_C = Test.GetScope<TechnicalMargin>(id_EoP_C);"
            ]
        },
        {
            "cell_type": "code",
            "source": [
                "computedTM_EoP_C.Value"
            ]
        },
        {
            "cell_type": "code",
            "source": [
                "var expectedTM_EoP_C = Test.GetScope<PvLocked>( id_EoP_C ).Value + Test.GetScope<RaLocked>( id_EoP_C ).Value;"
            ]
        },
        {
            "cell_type": "code",
            "source": [
                "expectedTM_EoP_C"
            ]
        },
        {
            "cell_type": "code",
            "source": [
                "computedTM_EoP_C.Value.Should().BeApproximately( expectedTM_EoP_C, Precision );"
            ]
        },
        {
            "cell_type": "markdown",
            "source": [
                "<br/><br/>",
                "\n<a name='switch-logic'></a>",
                "\n# Switch Logic    "
            ]
        },
        {
            "cell_type": "markdown",
            "source": [
                "The CSM and LC figures are allocated for each AoC step based on the sign of the ATM. Specifically, for positive (negative) ATM, the TM of the current step is allocated to the LC (CSM), unless the TM flips the sign of the ATM. This special circumstance is named **switch**. It can happen at any AoC step with the only exception of Amortization where there is no switch from the previous step.",
                "\nWhen a switch occurs the total contribution to the CSM (LC) prior the switching step is brought to 0 and the remaing amount is allocated to LC (CSM).",
                "\n",
                "\nIn the following the AoC chain is investigated."
            ]
        },
        {
            "cell_type": "markdown",
            "source": [
                "## Beginning of Period",
                "\n",
                "\nFor the BOP, the last period is considered, which dictates that the corresponding EOP figures considered have necessarily Novelty of type *In-Force*.",
                "\n",
                "\n$$",
                "\n\\begin{array}{rcl}",
                "\n\\text{CSM}(\\text{BOP}) &=& \\text{CSM}(\\text{EOP}) \\text{ of the previous period, for Novelty In-Force} \\\\",
                "\n\\text{LC}(\\text{BOP}) &=& \\text{LC}(\\text{EOP}) \\text{ of the previous period, for Novelty In-Force}",
                "\n\\end{array}",
                "\n$$"
            ]
        },
        {
            "cell_type": "code",
            "source": [
                "var id_BoP_I = Test.GetIdentity(dataNode, \"BOP\", \"I\");"
            ]
        },
        {
            "cell_type": "code",
            "source": [
                "id_BoP_I"
            ]
        },
        {
            "cell_type": "code",
            "source": [
                "var computedCSM_BoP_I = Test.GetScope<ContractualServiceMaring>(id_BoP_I).Value;",
                "\nvar computedLC_BoP_I = Test.GetScope<LossComponent>(id_BoP_I).Value;"
            ]
        },
        {
            "cell_type": "code",
            "source": [
                "(computedCSM_BoP_I, computedLC_BoP_I)"
            ]
        },
        {
            "cell_type": "markdown",
            "source": [
                "To understand where the BOP is allocated, we retrieve the corresponding TM and, based on its sign, we expect the CSM or the LC to be non-zero according to the [formula](#switch-logic) above"
            ]
        },
        {
            "cell_type": "code",
            "source": [
                "var TM_BOP_I = Test.GetScope<TechnicalMargin>(id_BoP_I).Value;"
            ]
        },
        {
            "cell_type": "code",
            "source": [
                "TM_BOP_I"
            ]
        },
        {
            "cell_type": "code",
            "source": [
                "var expectedCSM_BoP_I = TM_BOP_I < 0 ? -TM_BOP_I : 0;",
                "\nvar expectedLC_BoP_I  = TM_BOP_I > 0 ? +TM_BOP_I : 0;"
            ]
        },
        {
            "cell_type": "code",
            "source": [
                "(expectedCSM_BoP_I, expectedLC_BoP_I)"
            ]
        },
        {
            "cell_type": "code",
            "source": [
                "computedCSM_BoP_I.CheckEquality(computedCSM_BoP_I).Should().Be(true);",
                "\nexpectedLC_BoP_I.CheckEquality(computedLC_BoP_I).Should().Be(true);"
            ]
        },
        {
            "cell_type": "markdown",
            "source": [
                "## Following AoC steps"
            ]
        },
        {
            "cell_type": "markdown",
            "source": [
                "From the BOP up to the CL step, the switch logic is applied separately to the In-Force and New Business novelties."
            ]
        },
        {
            "cell_type": "code",
            "source": [
                "var id_MC_I = Test.GetIdentity(dataNode, \"MC\", \"I\");"
            ]
        },
        {
            "cell_type": "code",
            "source": [
                "id_MC_I"
            ]
        },
        {
            "cell_type": "code",
            "source": [
                "var computedCSM_MC_I = Test.GetScope<ContractualServiceMaring>(id_MC_I).Value;",
                "\nvar computedLC_MC_I = Test.GetScope<LossComponent>(id_MC_I).Value;"
            ]
        },
        {
            "cell_type": "code",
            "source": [
                "(computedCSM_MC_I, computedLC_MC_I)"
            ]
        },
        {
            "cell_type": "markdown",
            "source": [
                "According to the [formula](#switch-logic) above this AoC step is allocated either to CSM or to LC based on the sign of ATM + TM. Both these two terms can be retrieved from the **TechnicalMargin** Scope."
            ]
        },
        {
            "cell_type": "code",
            "source": [
                "var TM_MC_I = Test.GetScope<TechnicalMargin>(id_MC_I);"
            ]
        },
        {
            "cell_type": "code",
            "source": [
                "TM_MC_I"
            ]
        },
        {
            "cell_type": "markdown",
            "source": [
                "The correctness of the ATM can be checked by firstly withdrawing the previous AoC steps"
            ]
        },
        {
            "cell_type": "code",
            "source": [
                "var previousAocStep = Test.GetScope<PreviousAocSteps>((id_MC_I, InputSource.Cashflow)).Values;"
            ]
        },
        {
            "cell_type": "code",
            "source": [
                "previousAocStep"
            ]
        },
        {
            "cell_type": "markdown",
            "source": [
                "and then evaluating the sum of the corresponding TMs"
            ]
        },
        {
            "cell_type": "code",
            "source": [
                "var expectedATM = previousAocStep.Sum(aoc => Test.GetScope<TechnicalMargin>(id_MC_I with {AocType = aoc.AocType, Novelty = aoc.Novelty}).Value);"
            ]
        },
        {
            "cell_type": "code",
            "source": [
                "expectedATM"
            ]
        },
        {
            "cell_type": "markdown",
            "source": [
                "Therefore, the following condition for ATM calculated by the **TechnicalMargin** Scope needs to be fullfilled"
            ]
        },
        {
            "cell_type": "code",
            "source": [
                "TM_MC_I.AggregatedValue.Should().BeApproximately( expectedATM, Precision );"
            ]
        },
        {
            "cell_type": "markdown",
            "source": [
                "The CSM and LC can be allocated according to the [Switch Logic](#switch-logic)."
            ]
        },
        {
            "cell_type": "code",
            "source": [
                "double expectedCSM_MC_I; ",
                "\ndouble expectedLC_MC_I; "
            ]
        },
        {
            "cell_type": "code",
            "source": [
                "var aggregated = TM_MC_I.Value + TM_MC_I.AggregatedValue;"
            ]
        },
        {
            "cell_type": "markdown",
            "source": [
                "If there is no switch from LC, i.e. $\\text{ATM} (\\text{AoC}) > 0$ and $\\text{ATM} (\\text{AoC}) + \\text{TM}(\\text{AoC}) \\ge 0 $, then:",
                "\n",
                "\n$$",
                "\n\\begin{array}{rcl}",
                "\n\\text{CSM}(\\text{AoC}) &=& 0 ~, \\\\",
                "\n\\text{LC}(\\text{AoC}) &=& \\text{TM}(\\text{AoC}) ~.",
                "\n\\end{array}",
                "\n$$"
            ]
        },
        {
            "cell_type": "code",
            "source": [
                "if(TM_MC_I.AggregatedValue > 0 && aggregated >= 0) {",
                "\n    expectedCSM_MC_I = 0 ;",
                "\n    expectedLC_MC_I = TM_MC_I.Value ;",
                "\n} "
            ]
        },
        {
            "cell_type": "markdown",
            "source": [
                "If there is no switch from CSM, i.e. $\\text{ATM} (\\text{AoC}) \\le 0$ and $\\text{ATM} (\\text{AoC}) + \\text{TM}(\\text{AoC}) \\le 0 $, then:",
                "\n",
                "\n$$",
                "\n\\begin{array}{rcl}",
                "\n\\text{CSM}(\\text{AoC}) &=& -\\text{TM}(\\text{AoC}) ~, \\\\",
                "\n\\text{LC}(\\text{AoC}) &=& 0 ~.",
                "\n\\end{array}",
                "\n$$"
            ]
        },
        {
            "cell_type": "code",
            "source": [
                "if(TM_MC_I.AggregatedValue < 0 && aggregated <= 0) {",
                "\n    expectedCSM_MC_I = -TM_MC_I.Value ;",
                "\n    expectedLC_MC_I = 0 ;",
                "\n}"
            ]
        },
        {
            "cell_type": "markdown",
            "source": [
                "If $\\text{ATM} (\\text{AoC}) > 0$ and $\\text{ATM} (\\text{AoC}) + \\text{TM}(\\text{AoC}) \\le 0$, then there is a switch to CSM:",
                "\n",
                "\n$$",
                "\n\\begin{array}{rcl}",
                "\n\\text{CSM}(\\text{AoC}) &=& -\\text{TM}(\\text{AoC}) -\\text{ATM} (\\text{AoC}) ~, \\\\",
                "\n\\text{LC}(\\text{AoC}) &=& -\\text{ATM} (\\text{AoC}) ~.",
                "\n\\end{array}",
                "\n$$"
            ]
        },
        {
            "cell_type": "code",
            "source": [
                "if(TM_MC_I.AggregatedValue > 0 && aggregated <= 0) {",
                "\n    expectedCSM_MC_I = -aggregated;",
                "\n    expectedLC_MC_I = -TM_MC_I.AggregatedValue ;",
                "\n}"
            ]
        },
        {
            "cell_type": "markdown",
            "source": [
                "On the other hand, if $\\text{ATM} (\\text{AoC}) \\le 0$ and $\\text{ATM} (\\text{AoC}) + \\text{TM}(\\text{AoC}) > 0$, ",
                "\nthen the switch is to LC:",
                "\n",
                "\n$$",
                "\n\\begin{array}{rcl}",
                "\n\\text{CSM}(\\text{AoC}) &=& \\text{ATM} (\\text{AoC}) ~, \\\\",
                "\n\\text{LC}(\\text{AoC}) &=& \\text{TM}(\\text{AoC}) + \\text{ATM} (\\text{AoC}) ~.",
                "\n\\end{array}",
                "\n$$"
            ]
        },
        {
            "cell_type": "code",
            "source": [
                "if(TM_MC_I.AggregatedValue <= 0 && aggregated > 0) {",
                "\n    expectedCSM_MC_I = TM_MC_I.AggregatedValue ;",
                "\n    expectedLC_MC_I = aggregated ;",
                "\n}"
            ]
        },
        {
            "cell_type": "markdown",
            "source": [
                "Therefore, the expected CSM and LC for this step are"
            ]
        },
        {
            "cell_type": "code",
            "source": [
                "(expectedCSM_MC_I, expectedLC_MC_I)"
            ]
        },
        {
            "cell_type": "code",
            "source": [
                "expectedCSM_MC_I.CheckEquality(computedCSM_MC_I).Should().Be(true);",
                "\nexpectedLC_MC_I.CheckEquality(computedLC_MC_I).Should().Be(true);"
            ]
        },
        {
            "cell_type": "markdown",
            "source": [
                "<a name='combined-liabilities'></a>",
                "\n## Combined Liabilities"
            ]
        },
        {
            "cell_type": "markdown",
            "source": [
                "The CL Aoc Step brings both contributions to CSM and LC together as the novelities are summed.",
                "\n",
                "\nFor the CL step, the logic is similar to the one above, except that a switch from LC to CSM can happen **because of New Business and despite of In-Force**, in which case we have:",
                "\n",
                "\n$$",
                "\n\\begin{array}{rcl}",
                "\n\\text{CSM}(\\text{AoC}) &=& -\\text{TM}(\\text{AoC}) - \\text{ATM}(\\text{Last In-Force AoC step}) - \\text{TM}(\\text{Last In-Force AoC step}) \\\\",
                "\n\\text{LC}(\\text{AoC}) &=& -\\text{ATM}(\\text{Last In-Force AoC step}) - \\text{TM}(\\text{Last In-Force AoC step})",
                "\n\\end{array}",
                "\n$$",
                "\n",
                "\nIf, on the other hand, the switch from LC to CSM happens **because of In-Force and despite of New Business**, then we have:",
                "\n",
                "\n$$",
                "\n\\begin{array}{rcl}",
                "\n\\text{CSM}(\\text{AoC}) &=& - \\text{TM}(\\text{AoC}) - \\text{ATM}(\\text{Last NB AoC step}) - \\text{TM}(\\text{Last NB AoC step}) \\\\",
                "\n\\text{LC}(\\text{AoC}) &=& - \\text{ATM}(\\text{Last NB AoC step}) - \\text{TM}(\\text{Last NB AoC step})",
                "\n\\end{array}",
                "\n$$",
                "\n",
                "\nFor the switch in the other direction, i.e. from CSM to LC the formulas are similar except that LC and CSM are swapped."
            ]
        },
        {
            "cell_type": "code",
            "source": [
                "var id_CL_C = Test.GetIdentity(dataNode, \"CL\", \"C\");"
            ]
        },
        {
            "cell_type": "code",
            "source": [
                "id_CL_C"
            ]
        },
        {
            "cell_type": "code",
            "source": [
                "var computedCSM_CL_C = Test.GetScope<ContractualServiceMaring>(id_CL_C).Value;",
                "\nvar computedLC_CL_C = Test.GetScope<LossComponent>(id_CL_C).Value;"
            ]
        },
        {
            "cell_type": "code",
            "source": [
                "(computedCSM_CL_C, computedLC_CL_C)"
            ]
        },
        {
            "cell_type": "markdown",
            "source": [
                "The CL step considers the last step of both the New Business and the In Force Novelties to decide what to allocate to CSM or LC. "
            ]
        },
        {
            "cell_type": "code",
            "source": [
                "var lastAocSteps = Test.GetScope<PreviousAocSteps>((id_CL_C, InputSource.Cashflow)).Values.GroupBy(x => x.Novelty).Select(g => g.Last());"
            ]
        },
        {
            "cell_type": "code",
            "source": [
                "lastAocSteps"
            ]
        },
        {
            "cell_type": "markdown",
            "source": [
                "Selecting the corresponding AocTypes:"
            ]
        },
        {
            "cell_type": "code",
            "source": [
                "var lastAocTypeNb = lastAocSteps.Single(x => x.Novelty == Novelties.N).AocType;",
                "\nvar lastAocTypeI = lastAocSteps.Single(x => x.Novelty == Novelties.I).AocType;",
                "\n(lastAocTypeI, lastAocTypeNb)"
            ]
        },
        {
            "cell_type": "code",
            "source": [
                "var lastTM_NewBusiness = Test.GetScope<TechnicalMargin>(id_CL_C with {AocType = lastAocTypeNb, Novelty = Novelties.N});"
            ]
        },
        {
            "cell_type": "code",
            "source": [
                "lastTM_NewBusiness"
            ]
        },
        {
            "cell_type": "code",
            "source": [
                "var lastTM_InForce = Test.GetScope<TechnicalMargin>(id_CL_C with {AocType = lastAocTypeI, Novelty = Novelties.I});"
            ]
        },
        {
            "cell_type": "code",
            "source": [
                "lastTM_InForce"
            ]
        },
        {
            "cell_type": "markdown",
            "source": [
                "Conversely the TM and ATM for the CL step is"
            ]
        },
        {
            "cell_type": "code",
            "source": [
                "var TM_Combined = Test.GetScope<TechnicalMargin>(id_CL_C);"
            ]
        },
        {
            "cell_type": "code",
            "source": [
                "TM_Combined"
            ]
        },
        {
            "cell_type": "markdown",
            "source": [
                "where the ATM of CL is given by the sum of the ATMs of the New Business and In Force Novelties"
            ]
        },
        {
            "cell_type": "code",
            "source": [
                "var aggregatedNewBusiness =  lastTM_NewBusiness.Value + lastTM_NewBusiness.AggregatedValue;",
                "\nvar aggregatedInForce = lastTM_InForce.Value + lastTM_InForce.AggregatedValue;",
                "\nvar sum = aggregatedNewBusiness + aggregatedInForce;",
                "\nsum"
            ]
        },
        {
            "cell_type": "code",
            "source": [
                "( (sum - TM_Combined.AggregatedValue)/sum < 1.0e-12).Should().Be(true);"
            ]
        },
        {
            "cell_type": "markdown",
            "source": [
                "In order to decide where the TM of the CL step is allocated, one has to check the sign of the ATM + TM for both the New Business and the In Force"
            ]
        },
        {
            "cell_type": "code",
            "source": [
                "var aggregatedCombined = TM_Combined.Value + TM_Combined.AggregatedValue;",
                "\naggregatedCombined"
            ]
        },
        {
            "cell_type": "markdown",
            "source": [
                "According to the [formulas above](#combined-liabilities), for a positive (negative) aggregated CL value, the CL TM has to be allocated to LC (CSM). ",
                "\n<br> In case the one of last Aoc step of the novelties (I, NB) has the sign of the CL ATM opposite to the CL ATM, the CL AocStep is used to introduce a balancing item to bring the ATM of the novelty with opposite sign to 0. ",
                "\n<br> This is equivalent to execute the switch logic with a balancing item = ATM of the last AocStep having opposite sign to CL ATM. ",
                "\n<br> Note that if CL TM is zero this results in allocating the same amount with opposite sign to CSM(note that the sign of the CSM componet is flipped) and LC."
            ]
        },
        {
            "cell_type": "code",
            "source": [
                "double expectedCSM_CL_C; ",
                "\ndouble expectedLC_CL_C; "
            ]
        },
        {
            "cell_type": "code",
            "source": [
                "var balancingItem = aggregatedCombined < 0 ? aggregatedNewBusiness : aggregatedInForce;",
                "\nbalancingItem"
            ]
        },
        {
            "cell_type": "code",
            "source": [
                "",
                "\nif(aggregatedCombined > 0) {",
                "\n    expectedCSM_CL_C = balancingItem ;",
                "\n    expectedLC_CL_C = TM_Combined.Value + balancingItem;",
                "\n} else {",
                "\n    expectedLC_CL_C = - balancingItem ;",
                "\n    expectedCSM_CL_C = TM_Combined.Value - balancingItem ;",
                "\n}"
            ]
        },
        {
            "cell_type": "code",
            "source": [
                "(expectedCSM_CL_C, expectedLC_CL_C)"
            ]
        },
        {
            "cell_type": "code",
            "source": [
                "expectedCSM_CL_C.CheckEquality(computedCSM_CL_C).Should().Be(true);",
                "\nexpectedLC_CL_C.CheckEquality(computedLC_CL_C).Should().Be(true);"
            ]
        },
        {
            "cell_type": "markdown",
            "source": [
                "## End Of Period",
                "\n",
                "\nFor the last AoC step, the EOP is the sum of all previous steps",
                "\n",
                "\n$$",
                "\n\\begin{array}{rcl}",
                "\n\\text{CSM}(\\text{EOP}) &=& \\sum_{s~\\in~\\text{previous AoC steps}} \\text{CSM}(s) ~, \\\\",
                "\n\\text{LC}(\\text{EOP}) &=& \\sum_{s~\\in~\\text{previous AoC steps}} \\text{LC}(s) ~.",
                "\n\\end{array}",
                "\n$$"
            ]
        },
        {
            "cell_type": "code",
            "source": [
                "var id_EoP_C = Test.GetIdentity(dataNode, \"EOP\", \"C\");"
            ]
        },
        {
            "cell_type": "code",
            "source": [
                "id_EoP_C"
            ]
        },
        {
            "cell_type": "code",
            "source": [
                "var computedCSM_EoP_C = Test.GetScope<ContractualServiceMaring>(id_EoP_C).Value;",
                "\nvar computedLC_EoP_C = Test.GetScope<LossComponent>(id_EoP_C).Value;"
            ]
        },
        {
            "cell_type": "code",
            "source": [
                "(computedCSM_EoP_C, computedLC_EoP_C)"
            ]
        },
        {
            "cell_type": "markdown",
            "source": [
                "<br/><br/>",
                "\n<div class=\"alert alert-block alert-info\">",
                "\nFor the <b/>reinsurance case</b>, the switch logic is identical to the one described above, except that it uses the corresponding gross case TM to allocate the figure either to CSM or to LoReCo. The reinsurance gross TM multiplied by the weights coming from the Reinsurance Coverage Parameter (Data Node Parameters). In case a GRIC has multiple GICs, then these weighted TMs are aggregated.",
                "\n</div>"
            ]
        },
        {
            "cell_type": "markdown",
            "source": [
                "<a name=\"switch-logic\"></a>"
            ]
        },
        {
            "cell_type": "markdown",
            "source": [
                "<br/><br/>",
                "\n<a name='csm-lc'></a>",
                "\n# Contractual Service Margin and Loss Component"
            ]
        },
        {
            "cell_type": "markdown",
            "source": [
                "Here below a view of the CSM and Loss Component results are shown. ",
                "\n",
                "\nNote: the Data Nodes with LiabilityType being *LIC* are excluded."
            ]
        },
        {
            "cell_type": "code",
            "source": [
                "var allIdentitiesWoLic = allIdentities.Where(id => Test.GetStorage().DataNodeDataBySystemName[id.DataNode].LiabilityType != \"LIC\").ToArray();"
            ]
        },
        {
            "cell_type": "code",
            "source": [
                "var csm = allIdentitiesWoLic.SelectMany(id => Test.GetScope<ContractualServiceMaring>(id).RepeatOnce()",
                "\n                                                  .Where(x => Math.Abs(x.Value) >= Precision)",
                "\n                                                  .Select(x => x.FromCsmToIfrsVariable())).ToArray();"
            ]
        },
        {
            "cell_type": "markdown",
            "source": [
                "## Gross case"
            ]
        },
        {
            "cell_type": "code",
            "source": [
                "var allInsuranceIdentitiesWoLic = allIdentitiesWoLic.Where(id => !id.IsReinsurance).ToArray();"
            ]
        },
        {
            "cell_type": "code",
            "source": [
                "var lc = allInsuranceIdentitiesWoLic.SelectMany(id => Test.GetScope<Lc>(id).RepeatOnce()",
                "\n                                                  .Where(x => Math.Abs(x.Value) >= Precision)",
                "\n                                                  .Select(x => x.FromLcToIfrsVariable())).ToArray();"
            ]
        },
        {
            "cell_type": "markdown",
            "source": [
                "## Re-Insurance case (LoReCo)"
            ]
        },
        {
            "cell_type": "code",
            "source": [
                "var allReInsuranceIdentitiesWoLic = allIdentitiesWoLic.Where(id => id.IsReinsurance).ToArray();"
            ]
        },
        {
            "cell_type": "code",
            "source": [
                "var loreco = allReInsuranceIdentitiesWoLic.SelectMany(id => Test.GetScope<LoReCo>(id).RepeatOnce()",
                "\n                                                     .Where(x => Math.Abs(x.Value) >= Precision)",
                "\n                                                     .Select(x => x.FromLoReCoToIfrsVariable())).ToArray();"
            ]
        },
        {
            "cell_type": "markdown",
            "source": [
                "## Summary"
            ]
        },
        {
            "cell_type": "code",
            "source": [
                "Report.ForObjects( csm.Concat(lc).Concat(loreco) )",
                "\n      .WithQuerySource(Workspace)",
                "\n      .GroupColumnsBy(x => x.DataNode)",
                "\n      .GroupColumnsBy(x => x.EstimateType)",
                "\n      .GroupRowsBy(x => x.Novelty)",
                "\n      .GroupRowsBy(x => x.AocType)",
                "\n      .WithGridOptionsForIfrsVariable()",
                "\n      .ToReport()"
            ]
        },
        {
            "cell_type": "code",
            "source": [
                ""
            ]
        }
    ]
}