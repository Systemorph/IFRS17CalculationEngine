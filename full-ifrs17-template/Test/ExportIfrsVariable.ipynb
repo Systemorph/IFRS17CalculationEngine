{
    "metadata": {
        "authors": [],
        "kernelspec": {
            "display_name": "Formula Framework",
            "language": "C#",
            "name": "C#"
        },
        "language_info": {
            "file_extension": ".cs",
            "mimetype": "text/plain",
            "name": "C#"
        },
        "toc-autonumbering": "True",
        "toc-showcode": "False"
    },
    "nbformat": 4,
    "nbformat_minor": 5,
    "cells": [
        {
            "id": "Vg1pbsddL0OhVgqppTVUdQ",
            "cell_type": "markdown",
            "source": [
                "<p style=\"font-weight:bold;\"> <span style=\"font-size: 36px\"> Test Reports </span> </p>"
            ],
            "metadata": {},
            "execution_count": 0,
            "outputs": []
        },
        {
            "id": "NP4JK6FhC02ZKzjMgJiZAw",
            "cell_type": "code",
            "source": [
                "#!eval-notebook \"../Initialization/InitSystemorphToMemory\""
            ],
            "metadata": {},
            "execution_count": 0,
            "outputs": []
        },
        {
            "id": "jALnietomkO_In9VwNz6hQ",
            "cell_type": "markdown",
            "source": [
                "# BenchMarks"
            ],
            "metadata": {},
            "execution_count": 0,
            "outputs": []
        },
        {
            "id": "q3PWH1KElkq3Tdr3pdJHUA",
            "cell_type": "code",
            "source": [
                "var pathToBm = \"./Data/ReportBenchmarks/\";"
            ],
            "metadata": {},
            "execution_count": 0,
            "outputs": []
        },
        {
            "id": "fCP95CSa80G51JvvxxV57Q",
            "cell_type": "code",
            "source": [
                "var argsArray = new ImportArgs[]{",
                "\n    new ImportArgs (\"CH\", 2020, 12, Periodicity.Quarterly, null, null),",
                "\n    new ImportArgs (\"CH\", 2021, 3, Periodicity.Quarterly, null, null)",
                "\n    };"
            ],
            "metadata": {},
            "execution_count": 0,
            "outputs": []
        },
        {
            "id": "8WIVgjtxX06fuZ352FAxyQ",
            "cell_type": "code",
            "source": [
                "var scenario = \"MTUP10pct\";"
            ],
            "metadata": {},
            "execution_count": 0,
            "outputs": []
        },
        {
            "id": "YJi3cGD2n0On3H_Sdj22jw",
            "cell_type": "code",
            "source": [
                "var args = new ImportArgs (\"CH\", 2020, 12, Periodicity.Quarterly, scenario, null);",
                "\nawait DataSource.Partition.SetAsync<PartitionByReportingNodeAndPeriod>(new {ReportingNode = args.ReportingNode, Year= args.Year, Month = args.Month, Scenario = args.Scenario});",
                "\nvar computedVariables = (await DataSource.Query<IfrsVariable>().ToArrayAsync()).ToDictionaryGrouped(x => x.EstimateType, x => x.ToArray());"
            ],
            "metadata": {},
            "execution_count": 0,
            "outputs": []
        },
        {
            "id": "RHKWRTtbmUG4_tW6_LLFzg",
            "cell_type": "code",
            "source": [
                "(0, computedVariables.Keys)"
            ],
            "metadata": {},
            "execution_count": 0,
            "outputs": []
        },
        {
            "id": "jBnufCt4SEaGFqz40LkRbg",
            "cell_type": "code",
            "source": [
                "var estimateType = \"BEPA\";",
                "\nawait Export.ToCsv(\"BM_\"+args.ReportingNode+\"_\"+args.Year.ToString()+\"_\"+args.Month.ToString()+\"_\"+scenario+\"_\"+estimateType)",
                "\n                                    .WithTable<ImportArgs>(tableConfig => tableConfig",
                "\n                                                                    .AtBeginning()",
                "\n                                                                    .WithName(Main)",
                "\n                                                                    .WithSource(source => args.RepeatOnce().AsQueryable())",
                "\n                                                                    .WithColumn(x => x.Periodicity, x => x.Delete())",
                "\n                                                                    .WithColumn(x => x.ImportFormat, x => x.Delete())",
                "\n                                                    )",
                "\n                                    .WithTable<IfrsVariable>(tableConfig => tableConfig",
                "\n                                                                  .WithSource(source => computedVariables[estimateType].AsQueryable())",
                "\n                                                                  .WithName(estimateType)",
                "\n                                                                  .WithColumn(x => x.Partition, x => x.Delete())",
                "\n                                                                  .WithColumn(x => x.Id, x => x.Delete())",
                "\n                                                                 )",
                "\n                                    .WithSource(DataSource)",
                "\n                                    .ExecuteAsync()"
            ],
            "metadata": {},
            "execution_count": 0,
            "outputs": []
        },
        {
            "id": "3kINZ8BFGkWBTD5ixUuOTg",
            "cell_type": "code",
            "source": [
                ""
            ],
            "metadata": {},
            "execution_count": 0,
            "outputs": []
        }
    ]
}