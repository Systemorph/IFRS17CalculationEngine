{
    "metadata": {
        "authors": [],
        "kernelspec": {
            "display_name": "Formula Framework",
            "language": "C#",
            "name": "C#"
        },
        "language_info": {
            "file_extension": ".cs",
            "mimetype": "text/plain",
            "name": "C#"
        },
        "toc-autonumbering": "True",
        "toc-showcode": "False"
    },
    "nbformat": 4,
    "nbformat_minor": 5,
    "cells": [
        {
            "id": "eS8C5z_ddku0_2ge1i0nXA",
            "cell_type": "markdown",
            "source": [
                "<p style=\"font-weight:bold;\"> <span style=\"font-size: 36px\"> Technical Margin Allocation</span> </p>"
            ],
            "metadata": {},
            "execution_count": 0,
            "outputs": []
        },
        {
            "id": "g5msif3qgUCAQv9Vv2NygA",
            "cell_type": "code",
            "source": [
                "#!eval-notebook \"../Initialization/InitSystemorphBaseToMemory\""
            ],
            "metadata": {},
            "execution_count": 0,
            "outputs": []
        },
        {
            "id": "IYfZMaaLGkqd9uqQtMBcZA",
            "cell_type": "markdown",
            "source": [
                "# Workspace Initialization "
            ],
            "metadata": {},
            "execution_count": 0,
            "outputs": []
        },
        {
            "id": "8dNEPER5zEWF5GzE8u0MYQ",
            "cell_type": "code",
            "source": [
                "Workspace.Initialize(x => x.FromSource(DataSource)",
                "\n         .DisableInitialization<RawVariable>()",
                "\n         .DisableInitialization<IfrsVariable>());"
            ],
            "metadata": {},
            "execution_count": 0,
            "outputs": []
        },
        {
            "id": "GCCe3RVB40GXLQs2EkBkkg",
            "cell_type": "markdown",
            "source": [
                "# Test switch logic"
            ],
            "metadata": {},
            "execution_count": 0,
            "outputs": []
        },
        {
            "id": "bvbpbGGs90ybF6CEpta8nA",
            "cell_type": "code",
            "source": [
                "//define group of contract",
                "\nvar groupOfContract = \"DT1.1\";"
            ],
            "metadata": {},
            "execution_count": 0,
            "outputs": []
        },
        {
            "id": "kpiO7Eix_0OxQsM1Pp1whA",
            "cell_type": "code",
            "source": [
                "//Define partition",
                "\n    var args = new ImportArgs(\"CH\", 2020, 12, Periodicity.Quarterly, null, ImportFormats.Actual);",
                "\n    var partition = Workspace.Query<PartitionByReportingNodeAndPeriod>().FirstOrDefault(x => x.ReportingNode == args.ReportingNode && x.Year == args.Year && ",
                "\n                                                                                    x.Month == args.Month && x.Scenario == args.Scenario);",
                "\n    if(partition == null) ApplicationMessage.Log(Error.PartitionNotFound);"
            ],
            "metadata": {},
            "execution_count": 0,
            "outputs": []
        },
        {
            "id": "_usInDys0k2juVgvyh3sdw",
            "cell_type": "code",
            "source": [
                "public async Task CheckSwitchLogicAsync(IEnumerable<IfrsVariable> inputDataSet, Dictionary<AocStep,(double valueCsm, double valueLc)> csmLcSwitchBenchmark)",
                "\n{",
                "\n    //Save test input data",
                "\n    await Workspace.UpdateAsync<IfrsVariable>(inputDataSet);",
                "\n    ",
                "\n    //Set up import storage and test universe",
                "\n    var testStorage = new ImportStorage(args, DataSource, Workspace);",
                "\n    await testStorage.InitializeAsync();",
                "\n    var testUniverse = Scopes.ForStorage(testStorage).ToScope<IModel>();",
                "\n    ",
                "\n    var identities = testUniverse.GetScopes<GetIdentities>(testStorage.DataNodesByImportScope[ImportScope.Primary].Where(dn => dn == groupOfContract)).SelectMany(s => s.Identities);",
                "\n    var csm = testUniverse.GetScopes<AllocateTechnicalMargin>(identities, o => o.WithContext(\"C\")).Where(x => Math.Abs(x.Value) > Precision);",
                "\n    var lc = testUniverse.GetScopes<AllocateTechnicalMargin>(identities, o => o.WithContext(\"L\")).Where(x => Math.Abs(x.Value) > Precision);",
                "\n    //Clean up Workspace",
                "\n    await Workspace.DeleteAsync<IfrsVariable>(await Workspace.Query<IfrsVariable>().ToArrayAsync());    ",
                "\n    ",
                "\n    var csmBenchmark = csmLcSwitchBenchmark.Where(x => Math.Abs(x.Value.valueCsm) > Precision).ToDictionary(x => x.Key, x => x.Value);",
                "\n    var lcBenchmark = csmLcSwitchBenchmark.Where(x => Math.Abs(x.Value.valueLc) > Precision).ToDictionary(x => x.Key, x => x.Value);",
                "\n        ",
                "\n        ",
                "\n    var errors = new List<string>();",
                "\n    if(csm.Count() > csmBenchmark.Count()) ",
                "\n    {",
                "\n        var extraVariables = csm.Where(x => !csmBenchmark.Keys.Contains(new AocStep(x.Identity.AocType, x.Identity.Novelty)))",
                "\n            .Select(x => $\"AocType:{x.Identity.AocType}, Novelty:{x.Identity.Novelty}, EstimateType:{x.EstimateType}, Value:{x.Value}.\");",
                "\n        errors.Add( $\"{nameof(AllocateTechnicalMargin)} scope for CSM has more non zero items than benchmark. Extra computed variables : \\n {string.Join(\"\\n\", extraVariables)}.\" );",
                "\n    }",
                "\n    if(lc.Count() > lcBenchmark.Count()) ",
                "\n    {",
                "\n        var extraVariables = lc.Where(x => !lcBenchmark.Keys.Contains(new AocStep(x.Identity.AocType, x.Identity.Novelty)))",
                "\n            .Select(x => $\"AocType:{x.Identity.AocType}, Novelty:{x.Identity.Novelty}, EstimateType:{x.EstimateType}, Value:{x.Value}, \");",
                "\n        errors.Add( $\"{nameof(AllocateTechnicalMargin)} scope for LC has more non zero items compared to benchmark: \\n {string.Join(\"\\n\", extraVariables)}.\" );",
                "\n    }",
                "\n    ",
                "\n    //Check ValueCsm",
                "\n    foreach(var kvp in csmBenchmark)",
                "\n    {",
                "\n        var scopeSwitch = csm.SingleOrDefault(y => y.Identity.AocType == kvp.Key.AocType && y.Identity.Novelty == kvp.Key.Novelty);",
                "\n        ",
                "\n        if(scopeSwitch == null)",
                "\n        {",
                "\n            errors.Add( $\"Missing calculated scope for AocType and Novelty: {kvp.Key.AocType}, {kvp.Key.Novelty}.\" );",
                "\n            continue;",
                "\n        }",
                "\n        ",
                "\n        if(Math.Abs(-1.0 * scopeSwitch.Value - kvp.Value.valueCsm) > Precision) ",
                "\n            errors.Add( $\"Values not matching for AocType {kvp.Key.AocType} and Novelty {kvp.Key.Novelty}. Scope: Csm {-1 * scopeSwitch.Value}; Benchmark: Csm {kvp.Value.valueCsm}.\" );",
                "\n    }",
                "\n    //Check ValueLc",
                "\n    foreach(var kvp in lcBenchmark)",
                "\n    {",
                "\n        var scopeSwitch = lc.SingleOrDefault(y => y.Identity.AocType == kvp.Key.AocType && y.Identity.Novelty == kvp.Key.Novelty);",
                "\n        ",
                "\n        if(scopeSwitch == null)",
                "\n        {",
                "\n            errors.Add( $\"Missing calculated scope for AocType and Novelty: {kvp.Key.AocType}, {kvp.Key.Novelty}.\" );",
                "\n            continue;",
                "\n        }",
                "\n        ",
                "\n        if(Math.Abs(scopeSwitch.Value - kvp.Value.valueLc) > Precision) ",
                "\n            errors.Add( $\"Values not matching for AocType {kvp.Key.AocType} and Novelty {kvp.Key.Novelty}. Scope: Lc {scopeSwitch.Value}; Benchmark: Lc {kvp.Value.valueLc}.\" );",
                "\n    }",
                "\n    ",
                "\n    if(errors.Any()) ApplicationMessage.Log(Error.Generic, string.Join(\"\\n\", errors));",
                "\n}"
            ],
            "metadata": {},
            "execution_count": 0,
            "outputs": []
        },
        {
            "id": "5ZYyAnpRSkajKWv8-Q0u2Q",
            "cell_type": "code",
            "source": [
                "var basicIfrsVariable = new IfrsVariable{Partition = partition.Id, DataNode = groupOfContract, AccidentYear = null, AmountType = \"PR\", EstimateType = \"BE\", EconomicBasis = \"L\"};",
                "\nvar inputDataSet = new IfrsVariable[]{",
                "\n    basicIfrsVariable with {AocType = \"BOP\", Novelty = \"N\", Value = 100.0},",
                "\n    basicIfrsVariable with {AocType = \"CF\", Novelty = \"N\", Value = -10.0},",
                "\n    basicIfrsVariable with {AocType = \"IA\", Novelty = \"N\", Value = 15.0},",
                "\n    basicIfrsVariable with {AocType = \"EV\", Novelty = \"N\", Value = 100.0},",
                "\n    basicIfrsVariable with {AocType = \"CL\", Novelty = \"C\", Value = 100.0},",
                "\n    basicIfrsVariable with {AocType = \"AM\", Novelty = \"C\", Value = 0.5, EstimateType = \"F\", AmountType = null},",
                "\n  };",
                "\n",
                "\nvar csmLcSwitch_benchmark = new Dictionary<AocStep,(double valueCsm, double valueLc)>()",
                "\n    {",
                "\n        {new AocStep(\"BOP\",\"N\"),(0d, 100d)},",
                "\n        {new AocStep(\"IA\",\"N\"), (0d,  15d)},",
                "\n        {new AocStep(\"EV\",\"N\"), (0d, 100d)},",
                "\n        {new AocStep(\"CL\",\"C\"), (0d, 100d)},",
                "\n        {new AocStep(\"EA\",\"C\"), (0d, -8.0)},",
                "\n        {new AocStep(\"AM\",\"C\"), (0d, -153.5)},",
                "\n        {new AocStep(\"EOP\",\"C\"),(0d, 153.5)},",
                "\n    };",
                "\n",
                "\nawait CheckSwitchLogicAsync(inputDataSet, csmLcSwitch_benchmark);"
            ],
            "metadata": {},
            "execution_count": 0,
            "outputs": []
        },
        {
            "id": "mIRuoXHG4UyChOL7Pl-MQQ",
            "cell_type": "code",
            "source": [
                "var basicIfrsVariable = new IfrsVariable{Partition = partition.Id, DataNode = groupOfContract, AccidentYear = null, AmountType = \"PR\", EstimateType = \"BE\", EconomicBasis = \"L\"};",
                "\nvar inputDataSet = new IfrsVariable[]{",
                "\n    basicIfrsVariable with {AocType = \"BOP\", Novelty = \"N\", Value = 100.0},",
                "\n    basicIfrsVariable with {AocType = \"CF\", Novelty = \"N\", Value = -10.0},",
                "\n    basicIfrsVariable with {AocType = \"IA\", Novelty = \"N\", Value = 15.0},",
                "\n    basicIfrsVariable with {AocType = \"EV\", Novelty = \"N\", Value = 100.0},",
                "\n    basicIfrsVariable with {AocType = \"CL\", Novelty = \"C\", Value = -500.0},",
                "\n    basicIfrsVariable with {AocType = \"AM\", Novelty = \"C\", Value = 0.5, EstimateType = \"F\", AmountType = null},",
                "\n  };",
                "\n",
                "\nvar csmLcSwitch_benchmark = new Dictionary<AocStep,(double valueCsm, double valueLc)>()",
                "\n    {",
                "\n        {new AocStep(\"BOP\",\"N\"),(0d, 100d)},",
                "\n        {new AocStep(\"IA\",\"N\"), (0d,  15d)},",
                "\n        {new AocStep(\"EV\",\"N\"), (0d, 100d)},",
                "\n        {new AocStep(\"CL\",\"C\"), (285d, -215d)},",
                "\n        {new AocStep(\"EA\",\"C\"), (8d, 0d)},",
                "\n        {new AocStep(\"AM\",\"C\"), (-146.5d, 0d)},",
                "\n        {new AocStep(\"EOP\",\"C\"),(146.5d, 0d)},",
                "\n    };",
                "\n",
                "\nawait CheckSwitchLogicAsync(inputDataSet, csmLcSwitch_benchmark);"
            ],
            "metadata": {},
            "execution_count": 0,
            "outputs": []
        },
        {
            "id": "aiAdLYEWzUOZRVINpOvsbQ",
            "cell_type": "code",
            "source": [
                "var basicIfrsVariable = new IfrsVariable{Partition = partition.Id, DataNode = groupOfContract, AccidentYear = null, AmountType = \"PR\", EstimateType = \"BE\", EconomicBasis = \"L\"};",
                "\nvar inputDataSet = new IfrsVariable[]{",
                "\n    basicIfrsVariable with {AocType = \"BOP\", Novelty = \"N\", Value = 100.0},",
                "\n    basicIfrsVariable with {AocType = \"CF\", Novelty = \"N\", Value = -10.0},",
                "\n    basicIfrsVariable with {AocType = \"IA\", Novelty = \"N\", Value = -150.0},",
                "\n    basicIfrsVariable with {AocType = \"AM\", Novelty = \"C\", Value = 0.5, EstimateType = \"F\", AmountType = null},",
                "\n  };",
                "\n",
                "\nvar csmLcSwitch_benchmark = new Dictionary<AocStep,(double valueCsm, double valueLc)>()",
                "\n    {",
                "\n        {new AocStep(\"BOP\",\"N\"), (0d, 100d)},",
                "\n        {new AocStep(\"IA\",\"N\"), (50d, -100d)},",
                "\n        {new AocStep(\"EA\",\"C\"), (8d,   0d)},",
                "\n        {new AocStep(\"AM\",\"C\"), (-29d,   0d)},",
                "\n        {new AocStep(\"EOP\",\"C\"),(29d,   0d)},",
                "\n    };",
                "\n",
                "\nawait CheckSwitchLogicAsync(inputDataSet, csmLcSwitch_benchmark);"
            ],
            "metadata": {},
            "execution_count": 0,
            "outputs": []
        },
        {
            "id": "KHeN1hS-TU-Hft5V4uyAsA",
            "cell_type": "code",
            "source": [
                "var basicIfrsVariable = new IfrsVariable{Partition = partition.Id, DataNode = groupOfContract, AccidentYear = null, AmountType = \"PR\", EstimateType = \"BE\", EconomicBasis = \"L\"};",
                "\nvar inputDataSet = new IfrsVariable[]{",
                "\n    basicIfrsVariable with {AocType = \"BOP\", Novelty = \"I\", Value = 5010.0, EstimateType = \"L\", AmountType = null},",
                "\n    basicIfrsVariable with {AocType = \"MC\", Novelty = \"I\", Value = -10.0},",
                "\n    basicIfrsVariable with {AocType = \"EV\", Novelty = \"I\", Value = -5015.0},",
                "\n    basicIfrsVariable with {AocType = \"BOP\", Novelty = \"N\", Value = -100.0},",
                "\n    basicIfrsVariable with {AocType = \"CF\", Novelty = \"N\", Value = 10.0},",
                "\n    basicIfrsVariable with {AocType = \"IA\", Novelty = \"N\", Value = 150.0},",
                "\n    basicIfrsVariable with {AocType = \"EV\", Novelty = \"N\", Value = -45.0},",
                "\n    basicIfrsVariable with {AocType = \"CL\", Novelty = \"C\", Value = -30.0},",
                "\n    basicIfrsVariable with {AocType = \"AM\", Novelty = \"C\", Value = 0.5, EstimateType = \"F\", AmountType = null},",
                "\n  };",
                "\n",
                "\nvar csmLcSwitch_benchmark = new Dictionary<AocStep,(double valueCsm, double valueLc)>()",
                "\n    {",
                "\n        {new AocStep(\"BOP\",\"I\"),(  0d, 5010.0)},",
                "\n        {new AocStep(\"MC\",\"I\"), (  0d, -10d)},",
                "\n        {new AocStep(\"IA\",\"I\"), (  0d, 10d)},",
                "\n        {new AocStep(\"EV\",\"I\"), (  5d,-5010d)},",
                "\n    ",
                "\n        {new AocStep(\"BOP\",\"N\"),(100d,   0d)},",
                "\n        {new AocStep(\"IA\",\"N\"), (-100d,  50d)},",
                "\n        {new AocStep(\"EV\",\"N\"), (  0d, -45d)},",
                "\n    ",
                "\n        {new AocStep(\"CL\",\"C\"), ( 25d,  -5d)},",
                "\n        {new AocStep(\"EA\",\"C\"), ( -8d,   0d)},",
                "\n        {new AocStep(\"AM\",\"C\"), ( -11d,   0d)},",
                "\n        {new AocStep(\"EOP\",\"C\"),( 11d,   0d)},",
                "\n    };",
                "\n",
                "\nawait CheckSwitchLogicAsync(inputDataSet, csmLcSwitch_benchmark);"
            ],
            "metadata": {},
            "execution_count": 0,
            "outputs": []
        },
        {
            "id": "l32nlAgYGEyNaTPQaIafTg",
            "cell_type": "code",
            "source": [
                ""
            ],
            "metadata": {},
            "execution_count": 0,
            "outputs": []
        }
    ]
}