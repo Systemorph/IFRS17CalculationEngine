{
    "metadata": {
        "authors": [],
        "kernelspec": {
            "display_name": "Formula Framework",
            "language": "C#",
            "name": "C#"
        },
        "language_info": {
            "file_extension": ".cs",
            "mimetype": "text/plain",
            "name": "C#"
        },
        "toc-autonumbering": "True",
        "toc-showcode": "False"
    },
    "nbformat": 4,
    "nbformat_minor": 5,
    "cells": [
        {
            "cell_type": "markdown",
            "source": [
                "<p style=\"font-weight:bold;\"> <span style=\"font-size: 36px\"> Tests </span> </p>"
            ]
        },
        {
            "cell_type": "code",
            "source": [
                "#!eval-notebook \"IfrsVariablesTest\""
            ]
        },
        {
            "cell_type": "code",
            "source": [
                "#!eval-notebook \"ImportStorageTest\""
            ]
        },
        {
            "cell_type": "code",
            "source": [
                "#!eval-notebook \"ReportStorageTest\""
            ]
        },
        {
            "cell_type": "code",
            "source": [
                "#!eval-notebook \"AocStructureTest\""
            ]
        },
        {
            "cell_type": "code",
            "source": [
                "#!eval-notebook \"TechnicalMarginTest\""
            ]
        },
        {
            "cell_type": "code",
            "source": [
                "#!eval-notebook \"SequenceImportTest\""
            ]
        },
        {
            "cell_type": "code",
            "source": [
                "#!eval-notebook \"ScenarioTest\""
            ]
        },
        {
            "cell_type": "markdown",
            "source": [
                "---"
            ]
        },
        {
            "cell_type": "code",
            "source": [
                "#!eval-notebook \"MapTemplateAndImportTest\""
            ]
        },
        {
            "cell_type": "markdown",
            "source": [
                "---"
            ]
        },
        {
            "cell_type": "code",
            "source": [
                "#!eval-notebook \"ReportVariablesTest\""
            ]
        },
        {
            "cell_type": "code",
            "source": [
                ""
            ]
        }
    ]
}