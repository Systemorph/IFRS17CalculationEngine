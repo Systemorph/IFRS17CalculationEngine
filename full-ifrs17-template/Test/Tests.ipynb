{
    "metadata": {
        "authors": [],
        "kernelspec": {
            "display_name": "Formula Framework",
            "language": "C#",
            "name": "C#"
        },
        "language_info": {
            "file_extension": ".cs",
            "mimetype": "text/plain",
            "name": "C#"
        },
        "toc-autonumbering": "True",
        "toc-showcode": "False"
    },
    "nbformat": 4,
    "nbformat_minor": 5,
    "cells": [
        {
            "id": "MQ7XPYnTFEOMHrtoB3Oerg",
            "cell_type": "markdown",
            "source": [
                "<p style=\"font-weight:bold;\"> <span style=\"font-size: 36px\"> Tests </span> </p>"
            ],
            "metadata": {},
            "execution_count": 0,
            "outputs": []
        },
        {
            "id": "8IHp-7c15Uq0vxaFsrXmzQ",
            "cell_type": "code",
            "source": [
                "#!eval-notebook \"IfrsVariablesTest\""
            ],
            "metadata": {},
            "execution_count": 0,
            "outputs": []
        },
        {
            "id": "-uvPzzVPT0-Y54bxFtKl0g",
            "cell_type": "code",
            "source": [
                "#!eval-notebook \"ImportStorageTest\""
            ],
            "metadata": {},
            "execution_count": 0,
            "outputs": []
        },
        {
            "id": "HvLhnrHPakG-RHLDv1YlTw",
            "cell_type": "code",
            "source": [
                "#!eval-notebook \"ReportStorageTest\""
            ],
            "metadata": {},
            "execution_count": 0,
            "outputs": []
        },
        {
            "id": "GHLqatm6zEix6r7rBO-VVg",
            "cell_type": "code",
            "source": [
                "#!eval-notebook \"AocStructureTest\""
            ],
            "metadata": {},
            "execution_count": 0,
            "outputs": []
        },
        {
            "id": "H39eZoIm9Uu2XuyAa0Sg_Q",
            "cell_type": "code",
            "source": [
                "#!eval-notebook \"TechnicalMarginTest\""
            ],
            "metadata": {},
            "execution_count": 0,
            "outputs": []
        },
        {
            "id": "sLb7AsZlOUyGeRzwfKoM-Q",
            "cell_type": "code",
            "source": [
                "#!eval-notebook \"SequenceImportTest\""
            ],
            "metadata": {},
            "execution_count": 0,
            "outputs": []
        },
        {
            "id": "B_dzy6sUvUKc2e3m81pOJg",
            "cell_type": "code",
            "source": [
                "#!eval-notebook \"ScenarioTest\""
            ],
            "metadata": {},
            "execution_count": 0,
            "outputs": []
        },
        {
            "id": "hWVGU3WYHkycqipZOO1fFw",
            "cell_type": "markdown",
            "source": [
                "---"
            ],
            "metadata": {},
            "execution_count": 0,
            "outputs": []
        },
        {
            "id": "dZoX6ICHOkGWZZzUHjZ9DQ",
            "cell_type": "code",
            "source": [
                "#!eval-notebook \"MapTemplateAndImportTest\""
            ],
            "metadata": {},
            "execution_count": 0,
            "outputs": []
        },
        {
            "id": "1YHxPQejxkGzdzCOLao7HQ",
            "cell_type": "markdown",
            "source": [
                "---"
            ],
            "metadata": {},
            "execution_count": 0,
            "outputs": []
        },
        {
            "id": "kXdtF5erPkm1bfIJoQ7S6g",
            "cell_type": "code",
            "source": [
                "#!eval-notebook \"ReportVariablesTest\""
            ],
            "metadata": {},
            "execution_count": 0,
            "outputs": []
        },
        {
            "id": "W9Bknri1XkC2erPpRjyrjQ",
            "cell_type": "code",
            "source": [
                ""
            ],
            "metadata": {},
            "execution_count": 0,
            "outputs": []
        }
    ]
}