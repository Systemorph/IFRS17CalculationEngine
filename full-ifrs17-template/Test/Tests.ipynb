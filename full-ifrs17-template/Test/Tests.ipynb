{
    "metadata": {
        "authors": [],
        "kernelspec": {
            "display_name": "Formula Framework",
            "language": "C#",
            "name": "C#"
        },
        "language_info": {
            "file_extension": ".cs",
            "mimetype": "text/plain",
            "name": "C#"
        },
        "toc-autonumbering": "True",
        "toc-showcode": "False"
    },
    "nbformat": 4,
    "nbformat_minor": 5,
    "cells": [
        {
            "id": "nCQMQv1s40yHiYysgpz6uA",
            "cell_type": "markdown",
            "source": [
                "<p style=\"font-weight:bold;\"> <span style=\"font-size: 36px\"> Tests </span> </p>"
            ],
            "metadata": {},
            "execution_count": 0,
            "outputs": []
        },
        {
            "id": "6lpA3-PC7k2dpY8BFShtdA",
            "cell_type": "code",
            "source": [
                "#!eval-notebook \"IfrsVariablesTest\""
            ],
            "metadata": {},
            "execution_count": 0,
            "outputs": []
        },
        {
            "id": "jJtawGuMLkCNzh7sv2Bseg",
            "cell_type": "code",
            "source": [
                "#!eval-notebook \"ImportStorageTest\""
            ],
            "metadata": {},
            "execution_count": 0,
            "outputs": []
        },
        {
            "id": "L8A1p6oiDEi92z2AfsEq4w",
            "cell_type": "code",
            "source": [
                "#!eval-notebook \"ReportStorageTest\""
            ],
            "metadata": {},
            "execution_count": 0,
            "outputs": []
        },
        {
            "id": "kBY1GOPcs06k0U4VnhKvEg",
            "cell_type": "code",
            "source": [
                "#!eval-notebook \"AocStructureTest\""
            ],
            "metadata": {},
            "execution_count": 0,
            "outputs": []
        },
        {
            "id": "0g0HdiwRX0KFRWisoA1PGA",
            "cell_type": "code",
            "source": [
                "#!eval-notebook \"TechnicalMarginTest\""
            ],
            "metadata": {},
            "execution_count": 0,
            "outputs": []
        },
        {
            "id": "pEM8uj1gfkK-3nRKNgbTSQ",
            "cell_type": "code",
            "source": [
                "#!eval-notebook \"SequenceImportTest\""
            ],
            "metadata": {},
            "execution_count": 0,
            "outputs": []
        },
        {
            "id": "17K_OQ6vrku0_aSMDf9lZQ",
            "cell_type": "code",
            "source": [
                "#!eval-notebook \"ScenarioTest\""
            ],
            "metadata": {},
            "execution_count": 0,
            "outputs": []
        },
        {
            "id": "o2OQfNHfmkyasb3Q1OApjA",
            "cell_type": "markdown",
            "source": [
                "---"
            ],
            "metadata": {},
            "execution_count": 0,
            "outputs": []
        },
        {
            "id": "mzyegH3BWkSALRER0YbiQQ",
            "cell_type": "code",
            "source": [
                "#!eval-notebook \"MapTemplateAndImportTest\""
            ],
            "metadata": {},
            "execution_count": 0,
            "outputs": []
        },
        {
            "id": "sx_LvyHHr0OFnl7bDZ3b5Q",
            "cell_type": "markdown",
            "source": [
                "---"
            ],
            "metadata": {},
            "execution_count": 0,
            "outputs": []
        },
        {
            "id": "23zuqZBRS0GfGS-TcnmZzg",
            "cell_type": "code",
            "source": [
                "#!eval-notebook \"ReportVariablesTest\""
            ],
            "metadata": {},
            "execution_count": 0,
            "outputs": []
        },
        {
            "id": "eXXbTFVmDUSg6j-KDo3iGg",
            "cell_type": "code",
            "source": [
                ""
            ],
            "metadata": {},
            "execution_count": 0,
            "outputs": []
        }
    ]
}