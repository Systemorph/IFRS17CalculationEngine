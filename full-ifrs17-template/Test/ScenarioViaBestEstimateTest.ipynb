{
    "metadata": {
        "authors": [],
        "kernelspec": {
            "display_name": "Formula Framework",
            "language": "C#",
            "name": "C#"
        },
        "language_info": {
            "file_extension": ".cs",
            "mimetype": "text/plain",
            "name": "C#"
        }
    },
    "nbformat": 4,
    "nbformat_minor": 5,
    "cells": [
        {
            "cell_type": "code",
            "source": [
                "#!eval-notebook \"../Initialization/InitSystemorphBaseToMemory\""
            ],
            "metadata": {},
            "execution_count": 0,
            "outputs": []
        },
        {
            "cell_type": "code",
            "source": [
                "Workspace.Reset(x => x.ResetInitializationRules().ResetCurrentPartitions());",
                "\nWorkspace.Initialize(x => x.FromSource(DataSource));",
                "\nvar defaultVarsBE = await Workspace.Query<IfrsVariable>().ToArrayAsync();",
                "\nawait Workspace.Query<PartitionByReportingNodeAndPeriod>().ToArrayAsync()"
            ],
            "metadata": {},
            "execution_count": 0,
            "outputs": []
        },
        {
            "cell_type": "code",
            "source": [
                "var yieldCurve_Test = @\"",
                "\n@@YieldCurve",
                "\nCurrency,Year,Month,Scenario,Values0,Values1,Values2,Values3",
                "\nUSD,2021,6,,0.003,0.003,0.003,0.003",
                "\nUSD,2021,6,MTUP10pct,0.103,0.103,0.103,0.103\";"
            ],
            "metadata": {},
            "execution_count": 0,
            "outputs": []
        },
        {
            "cell_type": "code",
            "source": [
                "var cashflows_BestEstimate = @\"",
                "\n@@Main",
                "\nReportingNode,Year,Month,Scenario",
                "\nCH,2021,6,",
                "\n@@Cashflow",
                "\nDataNode,AmountType,AocType,Novelty,AccidentYear,Values0,Values1,Values2,Values3,Values4,Values5,Values6,Values7,Values8,Values9,Values10,Values11,Values12,Values13,Values14,Values15,Values16,Values17,Values18,Values19,Values20,Values21,Values22,Values23",
                "\nDT1.1,PR,CL,C,,110,0,0,110,0,0,110,0,0,110,0,0,0,110,0,0,110,0,0,110,0,0,110,0",
                "\nDT1.1,NIC,CL,C,,-27.5,-27.5,-27.5,-27.5,-27.5,-27.5,-27.5,-27.5,-27.5,-27.5,-27.5,-27.5,-27.5,-27.5,-27.5,-27.5,-27.5,-27.5,-27.5,-27.5,-27.5,-27.5,-27.5,-27.5",
                "\nDT1.1,CU,CL,C,,-11,-11,-11,-11,-11,-11,-11,-11,-11,-11,-11,-11,-11,-5.5,-5.5,-5.5,-5.5,-5.5,-5.5,-5.5,-5.5,-5.5,-5.5,-3.3",
                "\nDT1.1,RA,CL,C,,-2.75,-2.75,-2.75,-2.75,-2.75,-2.75,-2.75,-2.75,-2.75,-2.75,-2.75,-2.75,-2.75,-2.75,-2.75,-2.75,-2.75,-2.75,-2.75,-2.75,-2.75,-2.75,-2.75,-2.75\";"
            ],
            "metadata": {},
            "execution_count": 0,
            "outputs": []
        },
        {
            "cell_type": "code",
            "source": [
                "var actuals_BestEstimate = @\"",
                "\n@@Main",
                "\nReportingNode,Year,Month,Scenario",
                "\nCH,2021,6,",
                "\n@@Actual",
                "\nDataNode,AocType,ValueType,AccidentYear,Value",
                "\nDT1.1,CF,NIC,,-3008\";"
            ],
            "metadata": {},
            "execution_count": 0,
            "outputs": []
        },
        {
            "cell_type": "code",
            "source": [
                "var argsBestEstimate = new ImportArgs (\"CH\", 2021, 6, Periodicity.Quarterly, null, ImportFormats.Cashflow);",
                "\nvar argsScenario = new ImportArgs (\"CH\", 2021, 6, Periodicity.Quarterly, \"MTUP10pct\", ImportFormats.Cashflow);"
            ],
            "metadata": {},
            "execution_count": 0,
            "outputs": []
        },
        {
            "cell_type": "code",
            "source": [
                "var yieldCurveLog = await Import.FromString(yieldCurve_Test).WithFormat(ImportFormats.YieldCurve).WithTarget(DataSource).ExecuteAsync();",
                "\nWorkspace.Reset(x => x.ResetInitializationRules().ResetCurrentPartitions());",
                "\nWorkspace.Initialize(x => x.FromSource(DataSource));"
            ],
            "metadata": {},
            "execution_count": 0,
            "outputs": []
        },
        {
            "cell_type": "markdown",
            "source": [
                "# Import Cashflow"
            ],
            "metadata": {},
            "execution_count": 0,
            "outputs": []
        },
        {
            "cell_type": "code",
            "source": [
                "await Import.FromString(cashflows_BestEstimate).WithFormat(ImportFormats.Cashflow).WithTarget(DataSource).ExecuteAsync()"
            ],
            "metadata": {},
            "execution_count": 0,
            "outputs": []
        },
        {
            "cell_type": "code",
            "source": [
                "await DataSource.Partition.SetAsync<PartitionByReportingNode>(argsBestEstimate);",
                "\nawait DataSource.Partition.SetAsync<PartitionByReportingNodeAndPeriod>(argsBestEstimate);",
                "\nvar rawVarsBE = await DataSource.Query<RawVariable>().ToArrayAsync();",
                "\nvar ifrsVarsBE = await DataSource.Query<IfrsVariable>().ToArrayAsync();",
                "\nrawVarsBE.Length.Should().NotBe(0);",
                "\nifrsVarsBE.Length.Should().NotBe(0);"
            ],
            "metadata": {},
            "execution_count": 0,
            "outputs": []
        },
        {
            "cell_type": "code",
            "source": [
                "await DataSource.Partition.SetAsync<PartitionByReportingNode>(argsScenario);",
                "\nawait DataSource.Partition.SetAsync<PartitionByReportingNodeAndPeriod>(argsScenario);",
                "\nvar rawVarsSCE = await DataSource.Query<RawVariable>().ToArrayAsync();",
                "\nvar ifrsVarsSCE = await DataSource.Query<IfrsVariable>().ToArrayAsync();",
                "\nrawVarsSCE.Length.Should().Be(0);",
                "\nifrsVarsSCE.Length.Should().NotBe(0);"
            ],
            "metadata": {},
            "execution_count": 0,
            "outputs": []
        },
        {
            "cell_type": "code",
            "source": [
                "ifrsVarsSCE.Where(x => x.EconomicBasis == \"C\").Intersect(ifrsVarsBE.Where(x => x.EconomicBasis == \"C\"), IfrsVariableComparer.Instance()).ToArray().Length.Should().Be(0);"
            ],
            "metadata": {},
            "execution_count": 0,
            "outputs": []
        },
        {
            "cell_type": "code",
            "source": [
                "ifrsVarsSCE"
            ],
            "metadata": {},
            "execution_count": 0,
            "outputs": []
        },
        {
            "cell_type": "code",
            "source": [
                "ifrsVarsBE"
            ],
            "metadata": {},
            "execution_count": 0,
            "outputs": []
        },
        {
            "cell_type": "markdown",
            "source": [
                "# Import Actuals"
            ],
            "metadata": {},
            "execution_count": 0,
            "outputs": []
        },
        {
            "cell_type": "code",
            "source": [
                "await Import.FromString(cashflows_BestEstimate).WithFormat(ImportFormats.Cashflow).WithTarget(DataSource).ExecuteAsync()"
            ],
            "metadata": {},
            "execution_count": 0,
            "outputs": []
        },
        {
            "cell_type": "code",
            "source": [
                "await DataSource.Partition.SetAsync<PartitionByReportingNode>(argsBestEstimate);",
                "\nawait DataSource.Partition.SetAsync<PartitionByReportingNodeAndPeriod>(argsBestEstimate);",
                "\nvar newRawVarsBE = await DataSource.Query<RawVariable>().ToArrayAsync();",
                "\nvar newIfrsVarsBE = await DataSource.Query<IfrsVariable>().ToArrayAsync();",
                "\nnewRawVarsBE.Length.Should().NotBe(0);",
                "\nnewIfrsVarsBE.Length.Should().NotBe(0);"
            ],
            "metadata": {},
            "execution_count": 0,
            "outputs": []
        },
        {
            "cell_type": "code",
            "source": [
                "newIfrsVarsBE"
            ],
            "metadata": {},
            "execution_count": 0,
            "outputs": []
        },
        {
            "cell_type": "code",
            "source": [
                "newIfrsVarsBE.Except(ifrsVarsBE, IfrsVariableComparer.Instance()).ToArray().Length.Should().NotBe(0);"
            ],
            "metadata": {},
            "execution_count": 0,
            "outputs": []
        },
        {
            "cell_type": "code",
            "source": [
                "newIfrsVarsBE"
            ],
            "metadata": {},
            "execution_count": 0,
            "outputs": []
        },
        {
            "cell_type": "code",
            "source": [
                "ifrsVarsBE"
            ],
            "metadata": {},
            "execution_count": 0,
            "outputs": []
        },
        {
            "cell_type": "code",
            "source": [
                "await DataSource.Partition.SetAsync<PartitionByReportingNode>(argsScenario);",
                "\nawait DataSource.Partition.SetAsync<PartitionByReportingNodeAndPeriod>(argsScenario);",
                "\nvar newRawVarsSCE = await DataSource.Query<RawVariable>().ToArrayAsync();",
                "\nvar newIfrsVarsSCE = await DataSource.Query<IfrsVariable>().Where(x => x.EconomicBasis == \"C\").ToArrayAsync();",
                "\nnewRawVarsSCE.Length.Should().Be(0);",
                "\nnewIfrsVarsSCE.Length.Should().NotBe(0);"
            ],
            "metadata": {},
            "execution_count": 0,
            "outputs": []
        },
        {
            "cell_type": "code",
            "source": [
                "ifrsVarsSCE.Intersect(newIfrsVarsSCE, IfrsVariableComparer.Instance()).ToArray().Length.Should().Be(0);"
            ],
            "metadata": {},
            "execution_count": 0,
            "outputs": []
        },
        {
            "cell_type": "markdown",
            "source": [
                "# Debug"
            ],
            "metadata": {},
            "execution_count": 0,
            "outputs": []
        },
        {
            "cell_type": "code",
            "source": [
                "(Guid)(await DataSource.Partition.GetKeyForInstanceAsync<PartitionByReportingNodeAndPeriod>(mainArgs))"
            ],
            "metadata": {},
            "execution_count": 0,
            "outputs": []
        },
        {
            "cell_type": "code",
            "source": [
                "var extension = System.IO.Path.GetExtension(file);",
                "\nvar stream = await Project.FileStorage.ReadAsync(file);",
                "\nvar dataSet = (await DataSetReader.ReadFromStream(stream).WithContentType(extension).ExecuteAsync()).DataSet;",
                "\n",
                "\n    Activity.Start();",
                "\n    var mainArgs = (await GetArgsFromMainAsync<PartitionByReportingNodeAndPeriod>(dataSet)) with {ImportFormat = ImportFormats.Cashflow};",
                "\n    if(Activity.HasErrors()) return Activity.Finish();",
                "\n    await DataNodeFactoryAsync(dataSet, ImportFormats.Cashflow, mainArgs);",
                "\n    if(Activity.HasErrors()) return Activity.Finish();",
                "\n    ",
                "\n    var workspace = Workspace.CreateNew();",
                "\n    var log = await ParseCashflowsToWorkspaceAsync(dataSet, mainArgs, workspace);",
                "\n    if(log.Errors.Any()) return Activity.Finish().Merge(log);",
                "\n",
                "\n    var targetArgs = mainArgs.Scenario == null  ",
                "\n                     ? mainArgs.RepeatOnce().Concat(await DataSource.Query<PartitionByReportingNodeAndPeriod>()  // TODO: check that concat is adding at the end of the list",
                "\n                            .Where(x => x.ReportingNode == mainArgs.ReportingNode && x.Year == mainArgs.Year && x.Month == mainArgs.Month && x.Scenario != null)",
                "\n                            .Select(x => new ImportArgs(x.ReportingNode, x.Year, x.Month, default(Periodicity), x.Scenario, ImportFormats.Cashflow)).ToArrayAsync())",
                "\n                      : mainArgs.RepeatOnce();",
                "\n        ",
                "\n    foreach (var args in targetArgs) {",
                "\n        log = log.Merge(await CalculateAndUploadIfrsVariablesAsync(args, workspace));",
                "\n        if(log.Errors.Any()) return  Activity.Finish().Merge(log);",
                "\n    }",
                "\n",
                "\n    await workspace.Partition.SetAsync<PartitionByReportingNodeAndPeriod>(mainArgs);",
                "\n    await CommitToDatabase<RawVariable>(workspace, (Guid)(await DataSource.Partition.GetKeyForInstanceAsync<PartitionByReportingNodeAndPeriod>(mainArgs)), snapshot : true);",
                "\n    return Activity.Finish().Merge(log); ",
                "\n    "
            ],
            "metadata": {},
            "execution_count": 0,
            "outputs": []
        },
        {
            "cell_type": "code",
            "source": [
                " Activity.Start();",
                "\n    var args = targetArgs.ToArray()[0];",
                "\n    var storage = new ImportStorage(args, DataSource, workspace);",
                "\n    await storage.InitializeAsync();",
                "\n    if(Activity.HasErrors()) return Activity.Finish();",
                "\n   ",
                "\n    var universe = Scopes.ForStorage(storage).ToScope<IModel>();",
                "\n    var identities = universe.GetScopes<GetIdentities>(storage.DataNodesByImportScope[ImportScope.Primary]).SelectMany(s => s.Identities);",
                "\n    var ivs = universe.GetScopes<ComputeAllScopes>(identities).SelectMany(x => x.CalculatedIfrsVariables);",
                "\n    if(Activity.HasErrors()) return Activity.Finish();",
                "\n    ",
                "\n    await workspace.UpdateAsync<IfrsVariable>(ivs);",
                "\n    await CommitToDatabase<IfrsVariable>(workspace,",
                "\n                                         storage.TargetPartition, ",
                "\n                                         snapshot : true, ",
                "\n                                         filter : x => storage.EstimateTypesByImportFormat[ImportFormats.Cashflow].Contains(x.EstimateType) && ",
                "\n                                                       storage.DataNodesByImportScope[ImportScope.Primary].Contains(x.DataNode));",
                "\n    return Activity.Finish();"
            ],
            "metadata": {},
            "execution_count": 0,
            "outputs": []
        },
        {
            "cell_type": "code",
            "source": [
                "    var args = targetArgs.ToArray()[1];",
                "\n    var storage = new ImportStorage(args, DataSource, workspace);",
                "\n    await storage.InitializeAsync();"
            ],
            "metadata": {},
            "execution_count": 0,
            "outputs": []
        },
        {
            "cell_type": "code",
            "source": [
                "storage.TargetPartition"
            ],
            "metadata": {},
            "execution_count": 0,
            "outputs": []
        },
        {
            "cell_type": "code",
            "source": [
                "await storage.InitializeAsync()"
            ],
            "metadata": {},
            "execution_count": 0,
            "outputs": []
        },
        {
            "cell_type": "code",
            "source": [
                "await workspace.Partition.SetAsync<PartitionByReportingNodeAndPeriod>(storage.TargetPartition)"
            ],
            "metadata": {},
            "execution_count": 0,
            "outputs": []
        },
        {
            "cell_type": "code",
            "source": [
                "(workspace.Partition.GetCurrentPartitions(), DataSource.Partition.GetCurrentPartitions())"
            ],
            "metadata": {},
            "execution_count": 0,
            "outputs": []
        },
        {
            "cell_type": "code",
            "source": [
                "(workspace.Query<IfrsVariable>().Count(), DataSource.Query<IfrsVariable>().Count())"
            ],
            "metadata": {},
            "execution_count": 0,
            "outputs": []
        },
        {
            "cell_type": "code",
            "source": [
                "await DataSource.DeleteAsync( await DataSource.Query<IfrsVariable>().ToArrayAsync() );",
                "\nawait DataSource.CommitAsync()"
            ],
            "metadata": {},
            "execution_count": 0,
            "outputs": []
        },
        {
            "cell_type": "code",
            "source": [
                "ivs"
            ],
            "metadata": {},
            "execution_count": 0,
            "outputs": []
        },
        {
            "cell_type": "code",
            "source": [
                "identities.First()"
            ],
            "metadata": {},
            "execution_count": 0,
            "outputs": []
        },
        {
            "cell_type": "code",
            "source": [
                "ivs"
            ],
            "metadata": {},
            "execution_count": 0,
            "outputs": []
        },
        {
            "cell_type": "code",
            "source": [
                ""
            ],
            "metadata": {},
            "execution_count": 0,
            "outputs": []
        },
        {
            "cell_type": "code",
            "source": [
                "var extension = System.IO.Path.GetExtension(file);",
                "\nvar stream = await Project.FileStorage.ReadAsync(file);",
                "\nvar dataSet = (await DataSetReader.ReadFromStream(stream).WithContentType(extension).ExecuteAsync()).DataSet;",
                "\n",
                "\n// begin cashflow importer",
                "\n    Activity.Start();",
                "\n    var args = (await GetArgsFromMainAsync<PartitionByReportingNodeAndPeriod>(dataSet)) with {ImportFormat = ImportFormats.Cashflow};",
                "\n    await DataNodeFactoryAsync(dataSet, ImportFormats.Cashflow, args);",
                "\n    if(Activity.HasErrors()) return Activity.Finish();",
                "\n    ",
                "\n    var workspace = Workspace.CreateNew();",
                "\n    var parsingLog = await ParseCashflowsToWorkspaceAsync(dataSet, args, workspace);",
                "\n    if(parsingLog.Errors.Any()) return Activity.Finish().Merge(parsingLog);",
                "\n",
                "\n    /*var calculationLog = await CalculateAndSaveVarsAsync(args, workspace);",
                "\n    if(calculationLog.Errors.Any()) return  Activity.Finish().Merge(parsingLog).Merge(calculationLog); already imported */",
                "\n    ",
                "\n    //if (args.Scenario == null){",
                "\n        var saveRawVars = false;",
                "\n        var calculatingPartitions = await DataSource.Query<PartitionByReportingNodeAndPeriod>()",
                "\n                                            .Where(x => x.ReportingNode == args.ReportingNode",
                "\n                                                   && x.Year == args.Year",
                "\n                                                   && x.Month == args.Month",
                "\n                                                   && x.Scenario != null).ToArrayAsync();",
                "\n    ",
                "\n       // foreach (var partition in calculatingPartitions){",
                "\n            var partition = calculatingPartitions[0];",
                "\n            args = new ImportArgs(partition.ReportingNode, partition.Year, partition.Month, Periodicity.Quarterly, partition.Scenario, ImportFormats.Cashflow);",
                "\n",
                "\n            await DataNodeFactoryAsync(dataSet, ImportFormats.Cashflow, args);",
                "\n            if(Activity.HasErrors()) return Activity.Finish();",
                "\n",
                "\n            //workspace = Workspace.CreateNew();",
                "\n            workspace.Reset(x => x.ResetInitializationRules().ResetCurrentPartitions());",
                "\n            workspace.Initialize(x => x.FromSource(DataSource).DisableInitialization<RawVariable>().DisableInitialization<IfrsVariable>());",
                "\n            // debug CalculateAndSaveVarsAsync",
                "\n            //var newCalculationLog = await CalculateAndSaveVarsAsync(args, workspace, saveRawVars);",
                "\n            var storage = new ImportStorage(args, DataSource, workspace);",
                "\n            //await storage.InitializeAsync();",
                "\n            //if(Activity.HasErrors()) return Activity.Finish();",
                "\n            //debug importstorage",
                "\n                int periodicityInMonths = 3;",
                "\n                var hierarchyCache  = workspace.ToHierarchicalDimensionCache();",
                "\n                string ImportFormat = args.ImportFormat;",
                "\n                (int Year, int Month) CurrentReportingPeriod = (args.Year, args.Month);",
                "\n                (int Year, int Month) PreviousReportingPeriod = (args.Year - 1, MonthInAYear); // YTD Logic",
                "\n                var estimateTypes = (await workspace.Query<EstimateType>().ToArrayAsync());",
                "\n        ",
                "\n                var EstimateTypeDimension     = estimateTypes.ToDictionary(x => x.SystemName);",
                "\n                var AmountTypeDimension       = (await workspace.Query<AmountType>().ToArrayAsync()).ToDictionary(x => x.SystemName);",
                "\n                var NoveltyDimension          = (await workspace.Query<Novelty>().ToArrayAsync()).ToDictionary(x => x.SystemName);",
                "\n        ",
                "\n                var ExperienceAdjustEstimateTypeMapping = new Dictionary<string,string>{{EstimateTypes.A, EstimateTypes.APA}}; //TODO move this logic",
                "\n        ",
                "\n                //Hierarchy Cache",
                "\n                await hierarchyCache.InitializeAsync<AmountType>();",
                "\n        ",
                "\n                //EstimateType to load and to update",
                "\n                var EstimateTypesByImportFormat = new InputSource[] { InputSource.Opening, InputSource.Actual, InputSource.Cashflow,}",
                "\n                                        .ToDictionary(x => x.ToString(), ",
                "\n                                                      x => estimateTypes",
                "\n                                                      .Where(et => et.InputSource.Contains(x))",
                "\n                                                      .Select(et => et.SystemName)",
                "\n                                                      .ToHashSet());",
                "\n        ",
                "\n                //ProjectionConfiguration : Current Period + projection for every Quarter End for current Year and next Years as in projectionConfiguration.csv",
                "\n                var ProjectionConfiguration = (await workspace.Query<ProjectionConfiguration>()",
                "\n                                               .Where(x => x.Shift > 0 || x.TimeStep == args.Month || (x.TimeStep > args.Month && x.TimeStep % periodicityInMonths == 0))",
                "\n                                               .OrderBy(x => x.Shift).ThenBy(x => x.TimeStep).ToArrayAsync());",
                "\n        ",
                "\n                //Get Partitions",
                "\n                var PartitionByRn = (await DataSource.Query<PartitionByReportingNode>().Where(p => p.ReportingNode == args.ReportingNode).ToArrayAsync()).Single().Id;",
                "\n                var TargetPartition = (await DataSource.Query<PartitionByReportingNodeAndPeriod>().Where(p => p.ReportingNode == args.ReportingNode &&",
                "\n                                                                                                   p.Year == CurrentReportingPeriod.Year &&",
                "\n                                                                                                   p.Month == CurrentReportingPeriod.Month &&",
                "\n                                                                                                   p.Scenario == args.Scenario).ToArrayAsync()).Single().Id;",
                "\n                var DefaultPartition = (await DataSource.Query<PartitionByReportingNodeAndPeriod>().Where(p => p.ReportingNode == args.ReportingNode &&",
                "\n                                                                                                    p.Year == CurrentReportingPeriod.Year &&",
                "\n                                                                                                    p.Month == CurrentReportingPeriod.Month &&",
                "\n                                                                                                    p.Scenario == null).ToArrayAsync()).Single().Id;",
                "\n                //Set Partitions",
                "\n                await DataSource.Partition.SetAsync<PartitionByReportingNode>(PartitionByRn);",
                "\n                await workspace.Partition.SetAsync<PartitionByReportingNode>(PartitionByRn);",
                "\n        ",
                "\n                await DataSource.Partition.SetAsync<PartitionByReportingNodeAndPeriod>(TargetPartition);",
                "\n                await workspace.Partition.SetAsync<PartitionByReportingNodeAndPeriod>(TargetPartition);",
                "\n        ",
                "\n                //Get data from Workspace (result of parsing)",
                "\n                var parsedRawVariables = await workspace.LoadVariablesRelaxedAsync<RawVariable>(DataSource, TargetPartition, DefaultPartition);",
                "\n                var parsedIfrsVariables = await workspace.LoadVariablesRelaxedAsync<IfrsVariable>(DataSource, TargetPartition, DefaultPartition);",
                "\n        ",
                "\n                //DataNodes",
                "\n                var DataNodeDataBySystemName = await workspace.LoadDataNodesAsync(args);",
                "\n        ",
                "\n                //Accident Years",
                "\n                var AccidentYearsByDataNode = (IDictionary<string, ICollection<int?>>)",
                "\n                    (ImportFormat == ImportFormats.Cashflow ? parsedRawVariables.Select(x => new {x.DataNode, x.AccidentYear}) : parsedIfrsVariables.Select(x => new {x.DataNode, x.AccidentYear}))",
                "\n                    .ToDictionaryGrouped(x => x.DataNode, x => (ICollection<int?>)x.Select(y => y.AccidentYear).ToHashSet());",
                "\n        ",
                "\n                // Import Scopes and Data Node relationship parameters",
                "\n                var InterDataNodeParametersByGoc = await workspace.LoadInterDataNodeParametersAsync(args);",
                "\n        ",
                "\n                var primaryScopeFromParsedVariables = (ImportFormat == ImportFormats.Cashflow ? parsedRawVariables.Select(x => x.DataNode) : parsedIfrsVariables.Select(x => x.DataNode)).ToHashSet();",
                "\n                var primaryScopeFromLinkedReinsurance = primaryScopeFromParsedVariables",
                "\n                                            .Where(goc => !DataNodeDataBySystemName[goc].IsReinsurance && DataNodeDataBySystemName[goc].LiabilityType == LiabilityTypes.LRC)",
                "\n                                            .SelectMany(goc => InterDataNodeParametersByGoc.TryGetValue(goc, out var interDataNodeParamByPeriod)",
                "\n                                                                  ? interDataNodeParamByPeriod[CurrentPeriod].Select(param => param.DataNode == goc ? param.LinkedDataNode : param.DataNode).Where(goc => !primaryScopeFromParsedVariables.Contains(goc))",
                "\n                                                                  : Enumerable.Empty<string>())",
                "\n                                            .ToHashSet();",
                "\n        ",
                "\n                var primaryScope = primaryScopeFromParsedVariables.Concat(primaryScopeFromLinkedReinsurance).ToHashSet();",
                "\n                var secondaryScope = InterDataNodeParametersByGoc",
                "\n                            .Where(kvp => primaryScope.Contains(kvp.Key))",
                "\n                            .SelectMany(kvp => { var linkedGocs = kvp.Value[CurrentPeriod].Select(param => param.DataNode == kvp.Key ? param.LinkedDataNode : param.DataNode);",
                "\n                                                return linkedGocs.Where(goc => !primaryScope.Contains(goc));}).ToHashSet();",
                "\n                var allImportScopes = new HashSet<string>(primaryScope.Concat(secondaryScope));",
                "\n        ",
                "\n                var DataNodesByImportScope = new Dictionary<ImportScope, HashSet<string>> { { ImportScope.Primary, primaryScope }, { ImportScope.Secondary, secondaryScope } };",
                "\n        ",
                "\n                // Parameters",
                "\n                var PartnerRating = await workspace.LoadCurrentAndPreviousParameterAsync<PartnerRating>(args, x => x.Partner);",
                "\n                var CreditDefaultRates = await workspace.LoadCurrentAndPreviousParameterAsync<CreditDefaultRate>(args, x => x.CreditRiskRating);",
                "\n                var SingleDataNodeParametersByGoc = await workspace.LoadSingleDataNodeParametersAsync(args);",
                "\n",
                "\n                var LockedInYieldCurve = await workspace.LoadLockedInYieldCurveAsync(args, allImportScopes.Select(dn => DataNodeDataBySystemName[dn]));",
                "\n                var CurrentYieldCurve = await workspace.LoadCurrentYieldCurveAsync(args, allImportScopes.Select(dn => DataNodeDataBySystemName[dn])); //TODO Rename this variable",
                "\n        ",
                "\n                var AocConfigurationByAocStep = await DataSource.LoadAocStepConfigurationAsDictionaryAsync(args.Year, args.Month);         ",
                "\n                var aocStepByInputSource = ((InputSource[])Enum.GetValues(typeof(InputSource))).ToDictionary(x => x,",
                "\n                                                                                                 x => AocConfigurationByAocStep",
                "\n                                                                                                 .Where(kvp => kvp.Value.InputSource.Contains(x))",
                "\n                                                                                                 .Select(kvp => kvp.Key)",
                "\n                                                                                                 .ToHashSet());",
                "\n        ",
                "\n",
                "\n",
                "\n",
                "\n            /*var universe = Scopes.ForStorage(storage).ToScope<IModel>();",
                "\n            var identities = universe.GetScopes<GetIdentities>(storage.DataNodesByImportScope[ImportScope.Primary]).SelectMany(s => s.Identities);",
                "\n            var ivs = universe.GetScopes<ComputeAllScopes>(identities).SelectMany(x => x.CalculatedIfrsVariables);",
                "\n            if(Activity.HasErrors()) return Activity.Finish();",
                "\n    ",
                "\n            await workspace.UpdateAsync<IfrsVariable>(ivs);",
                "\n            await CommitToDatabase<IfrsVariable>(workspace,",
                "\n                                         storage.TargetPartition, ",
                "\n                                         snapshot : true, ",
                "\n                                         filter : x => storage.EstimateTypesByImportFormat[ImportFormats.Cashflow].Contains(x.EstimateType) && ",
                "\n                                                       storage.DataNodesByImportScope[ImportScope.Primary].Contains(x.DataNode));",
                "\n            if(saveRawVars) await CommitToDatabase<RawVariable>(workspace, ",
                "\n                                        storage.TargetPartition, ",
                "\n                                        snapshot : true,",
                "\n                                        filter : x => storage.DataNodesByImportScope[ImportScope.Primary].Contains(x.DataNode));*/",
                "\n            //if(newCalculationLog.Errors.Any()) return  Activity.Finish().Merge(parsingLog).Merge(calculationLog);",
                "\n            //calculationLog = calculationLog.Merge(newCalculationLog);",
                "\n            //end debug CalculateAndSaveVarsAsync",
                "\n        //}",
                "\n    //}",
                "\n    return Activity.Finish().Merge(parsingLog); "
            ],
            "metadata": {},
            "execution_count": 0,
            "outputs": []
        },
        {
            "cell_type": "code",
            "source": [
                "CurrentYieldCurve[\"USD\"]"
            ],
            "metadata": {},
            "execution_count": 0,
            "outputs": []
        },
        {
            "cell_type": "code",
            "source": [
                "LockedInYieldCurve"
            ],
            "metadata": {},
            "execution_count": 0,
            "outputs": []
        },
        {
            "cell_type": "code",
            "source": [
                "await DataSource.Partition.SetAsync<PartitionByReportingNodeAndPeriod>(TargetPartition);"
            ],
            "metadata": {},
            "execution_count": 0,
            "outputs": []
        },
        {
            "cell_type": "code",
            "source": [
                "await workspace.Query<PartitionByReportingNodeAndPeriod>().ToArrayAsync()"
            ],
            "metadata": {},
            "execution_count": 0,
            "outputs": []
        },
        {
            "cell_type": "code",
            "source": [
                ""
            ],
            "metadata": {},
            "execution_count": 0,
            "outputs": []
        }
    ]
}