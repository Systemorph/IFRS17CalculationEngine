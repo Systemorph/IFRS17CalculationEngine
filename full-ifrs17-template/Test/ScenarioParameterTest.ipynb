{
    "metadata": {
        "authors": [],
        "kernelspec": {
            "display_name": "Formula Framework",
            "language": "C#",
            "name": "C#"
        },
        "language_info": {
            "file_extension": ".cs",
            "mimetype": "text/plain",
            "name": "C#"
        }
    },
    "nbformat": 4,
    "nbformat_minor": 5,
    "cells": [
        {
            "cell_type": "code",
            "source": [
                "#!eval-notebook \"../Initialization/InitSystemorphBaseToMemory\""
            ]
        },
        {
            "cell_type": "code",
            "source": [
                "await Import.FromFile(\"../Files/TransactionalData/NominalCashflows_CH_2020_12.csv\").WithFormat(ImportFormats.Cashflow).WithTarget(DataSource).ExecuteAsync()"
            ]
        },
        {
            "cell_type": "code",
            "source": [
                "//Import.DefineFormat(ImportFormats.YieldCurve, async (options, dataSet) => {",
                "\n    Activity.Start();",
                "\n    var workspace =  Workspace.CreateNew();",
                "\n    workspace.Initialize(x => x.FromSource(DataSource).DisableInitialization<RawVariable>().DisableInitialization<IfrsVariable>().DisableInitialization<YieldCurve>());",
                "\n    var parsingLog = await Import.FromFile(\"../Files/Parameters/YieldCurveScenario.csv\").WithType<YieldCurve>().WithTarget(workspace).ExecuteAsync();  // TODO: FromDataSet(dataSet)",
                "\n    if(parsingLog.Errors.Any()) return parsingLog; ",
                "\n",
                "\n    var partitions = await DataSource.Query<PartitionByReportingNodeAndPeriod>().ToArrayAsync();",
                "\n    var newYieldCurves = await workspace.Query<YieldCurve>().ToArrayAsync();",
                "\n    var savedYieldCurves = await DataSource.Query<YieldCurve>().ToArrayAsync();",
                "\n    newYieldCurves = newYieldCurves.Except(savedYieldCurves, YieldCurveComparer.Instance()).ToArray();",
                "\n    var reportingNodeByPartition = await DataSource.Query<PartitionByReportingNode>().ToDictionaryAsync(x => x.Id, x => x.ReportingNode);",
                "\n    var inactiveDataNodesByPeriodAndScenario = DataSource.Query<DataNodeState>()",
                "\n                                .Where(x => x.State == State.Inactive)",
                "\n                                .GroupBy(x => new Tuple<int,int,string> (x.Year, x.Month, x.Scenario).ToValueTuple())",
                "\n                                .Select(x => new{ Year = x.Key.Item1, ",
                "\n                                                  Month = x.Key.Item2, ",
                "\n                                                  Scenario = x.Key.Item3,",
                "\n                                                  DataNodes = x.Select(y => y.DataNode)});",
                "\n",
                "\n    var dataNodesByCurrencyAndReportingNode = DataSource.Query<DataNode>()",
                "\n                                                .GroupBy(x => new Tuple<string, Guid>(x.FunctionalCurrency, x.Partition).ToValueTuple())",
                "\n                                                .Select(x => new { Currency = x.Key.Item1, ",
                "\n                                                                   ReportingNode = reportingNodeByPartition[x.Key.Item2], ",
                "\n                                                                   DataNodes = x.Select(y => y.SystemName)});",
                "\n",
                "\n    var updatableDataNodesByArgs = newYieldCurves.Join(dataNodesByCurrencyAndReportingNode, ",
                "\n                                        yc => yc.Currency, dn => dn.Currency, ",
                "\n                                        (yc, dn) => new { Args = new ImportArgs( dn.ReportingNode,",
                "\n                                                                                 yc.Year, ",
                "\n                                                                                 yc.Month,",
                "\n                                                                                 Periodicity.Quarterly,",
                "\n                                                                                 yc.Scenario,",
                "\n                                                                                 ImportFormats.Cashflow), ",
                "\n                                                          Currency = yc.Currency,",
                "\n                                                          DataNodes = dn.DataNodes }).ToArray();",
                "\n    ",
                "\n    foreach (var groupOfArgs in updatableDataNodesByArgs.GroupBy(x => new {ReportingNode = x.Args.ReportingNode, Scenario = x.Args.Scenario, Currency = x.Currency})) {",
                "\n        var item = groupOfArgs.OrderBy(x => x.Args.Year).ThenBy(x => x.Args.Month).First();",
                "\n        var newArgs = partitions.Where(x => x.Scenario == item.Args.Scenario && x.ReportingNode == item.Args.ReportingNode &&",
                "\n                                            (x.Year >= item.Args.Year || (x.Year == item.Args.Year && x.Month >= item.Args.Month)))",
                "\n                                .Select(x => new ImportArgs(x.ReportingNode, x.Year, x.Month, Periodicity.Quarterly, x.Scenario, ImportFormats.Cashflow)).ToArray();",
                "\n        updatableDataNodesByArgs = updatableDataNodesByArgs.Concat(newArgs.Select(x => new { Args = x, Currency = item.Currency, DataNodes = item.DataNodes }).ToArray()).ToArray();",
                "\n    }",
                "\n    ",
                "\n    // filter for active data nodes by period and scenario",
                "\n    foreach(var inactiveDataNodes in inactiveDataNodesByPeriodAndScenario) {",
                "\n        updatableDataNodesByArgs.Where(x => x.Args.Year == inactiveDataNodes.Year && x.Args.Month == inactiveDataNodes.Month && x.Args.Scenario == inactiveDataNodes.Scenario)",
                "\n                                .Select(x => new {Args = x.Args, Currency = x.Currency, DataNodes = x.DataNodes.Except(inactiveDataNodes.DataNodes)}).ToArray().ToArray();",
                "\n    }",
                "\n                            ",
                "\n    updatableDataNodesByArgs = updatableDataNodesByArgs.OrderBy(x => x.Args.Year).ThenBy(x => x.Args.Month).ThenBy(x => x.Args.Scenario).ToArray();",
                "\n    ",
                "\n    //foreach (var dataNodesInPartition in updatableDataNodesByPartition){",
                "\n        var dataNodesInPartition = updatableDataNodesByArgs.First();",
                "\n        await DataSource.UpdateAsync<PartitionByReportingNode>( new[] { new PartitionByReportingNode { ",
                "\n                                   Id = (Guid)(await DataSource.Partition.GetKeyForInstanceAsync<PartitionByReportingNode>(dataNodesInPartition.Args)),",
                "\n                                   ReportingNode = dataNodesInPartition.Args.ReportingNode, ",
                "\n                                   Scenario = dataNodesInPartition.Args.Scenario } } );",
                "\n                                    ",
                "\n        await DataSource.UpdateAsync<PartitionByReportingNodeAndPeriod>( new[]{ new PartitionByReportingNodeAndPeriod { ",
                "\n                                   Id = (Guid)(await DataSource.Partition.GetKeyForInstanceAsync<PartitionByReportingNodeAndPeriod>(dataNodesInPartition.Args)),",
                "\n                                   Year = dataNodesInPartition.Args.Year,",
                "\n                                   Month = dataNodesInPartition.Args.Month,",
                "\n                                   ReportingNode = dataNodesInPartition.Args.ReportingNode, ",
                "\n                                   Scenario = dataNodesInPartition.Args.Scenario } } );",
                "\n        await DataSource.CommitAsync();",
                "\n        // var storage = new ImportStorage(dataNodesInPartition.Args, DataSource, workspace);",
                "\n        //await storage.InitializeAsync();",
                "\n        // debug ImportStorage",
                "\n        var args = dataNodesInPartition.Args;",
                "\n        var CurrentReportingPeriod = (args.Year, args.Month);",
                "\n        var PreviousReportingPeriod = (args.Year - 1, MonthInAYear); // YTD Logic",
                "\n        //Dimensions",
                "\n        var estimateTypes = (await workspace.Query<EstimateType>().ToArrayAsync());",
                "\n        ",
                "\n        var EstimateTypeDimension     = estimateTypes.ToDictionary(x => x.SystemName);",
                "\n        var AmountTypeDimension       = (await workspace.Query<AmountType>().ToArrayAsync()).ToDictionary(x => x.SystemName);",
                "\n        var NoveltyDimension          = (await workspace.Query<Novelty>().ToArrayAsync()).ToDictionary(x => x.SystemName);",
                "\n        ",
                "\n        var ExperienceAdjustEstimateTypeMapping = new Dictionary<string,string>{{EstimateTypes.A, EstimateTypes.APA}, {EstimateTypes.AA, EstimateTypes.AAPA}, {EstimateTypes.OA, EstimateTypes.OAPA}}; //TODO move this logic",
                "\n        ",
                "\n        //Hierarchy Cache",
                "\n        //hierarchyCache.Initialize<AmountType>();",
                "\n        ",
                "\n        //EstimateType to load and to update",
                "\n        var EstimateTypesByImportFormat = new InputSource[] { InputSource.Opening, InputSource.Actual, InputSource.Cashflow,}",
                "\n                                        .ToDictionary(x => x.ToString(), ",
                "\n                                                      x => estimateTypes",
                "\n                                                      .Where(et => et.InputSource.Contains(x))",
                "\n                                                      .Select(et => et.SystemName)",
                "\n                                                      .ToHashSet());",
                "\n        ",
                "\n        //ProjectionConfiguration : Current Period + projection for every Quarter End for current Year and next Years as in projectionConfiguration.csv",
                "\n        var ProjectionConfiguration = (await workspace.Query<ProjectionConfiguration>()",
                "\n                                               .Where(x => x.Shift > 0 || x.TimeStep == args.Month || (x.TimeStep > args.Month && x.TimeStep % 3 == 0))",
                "\n                                               .OrderBy(x => x.Shift).ThenBy(x => x.TimeStep).ToArrayAsync());",
                "\n        ",
                "\n        //Get Partitions",
                "\n        var PartitionByRn = (await DataSource.Query<PartitionByReportingNode>().Where(p => p.ReportingNode == args.ReportingNode &&",
                "\n                                                                                     p.Scenario == args.Scenario).ToArrayAsync()).Single().Id;",
                "\n        var TargetPartition = (await DataSource.Query<PartitionByReportingNodeAndPeriod>().Where(p => p.ReportingNode == args.ReportingNode &&",
                "\n                                                                                                   p.Year == CurrentReportingPeriod.Year &&",
                "\n                                                                                                   p.Month == CurrentReportingPeriod.Month &&",
                "\n                                                                                                   p.Scenario == args.Scenario).ToArrayAsync()).Single().Id;",
                "\n        //TODO: what should happen when we import a YC for a scenario but the relative BE does not exist because it is not imported yet? ",
                "\n        ",
                "\n        /*var DefaultPartition = (await DataSource.Query<PartitionByReportingNodeAndPeriod>().Where(p => p.ReportingNode == args.ReportingNode &&",
                "\n                                                                                                    p.Year == CurrentReportingPeriod.Year &&",
                "\n                                                                                                    p.Month == CurrentReportingPeriod.Month &&",
                "\n                                                                                                    p.Scenario == null).ToArrayAsync()).Single().Id;",
                "\n        if(Activity.HasErrors()) return Activity.Finish().Merge(parsingLog);",
                "\n",
                "\n        var universe = Scopes.ForStorage(storage).ToScope<IModel>();",
                "\n        var identities = universe.GetScopes<GetIdentities>(storage.DataNodesByImportScope[ImportScope.Primary]).SelectMany(s => s.Identities);",
                "\n        var ivs = universe.GetScopes<ComputeAllScopes>(identities).SelectMany(x => x.CalculatedIfrsVariables);",
                "\n        //calculatedIfrsVariables = calculatedIfrsVariables.Concat(ivs);",
                "\n        if(Activity.HasErrors()) return Activity.Finish().Merge(parsingLog);",
                "\n        await workspace.UpdateAsync<IfrsVariable>(ivs);",
                "\n        await CommitToDatabase<IfrsVariable>(storage.TargetPartition, ",
                "\n                                         snapshot : true, ",
                "\n                                         filter : x => storage.EstimateTypesByImportFormat[ImportFormats.Cashflow].Contains(x.EstimateType) && ",
                "\n                                                       storage.DataNodesByImportScope[ImportScope.Primary].Contains(x.DataNode));  ",
                "\n        await CommitToDatabase<RawVariable>(storage.TargetPartition, ",
                "\n                                        snapshot : true,",
                "\n                                        filter : x => storage.DataNodesByImportScope[ImportScope.Primary].Contains(x.DataNode));",
                "\n",
                "\n    //}",
                "\n    await DataSource.UpdateAsync<YieldCurve>( await Workspace.Query<YieldCurve>().ToArrayAsync() );",
                "\n    await DataSource.CommitAsync();*/",
                "\n    Activity.Finish()",
                "\n"
            ]
        },
        {
            "cell_type": "code",
            "source": [
                "updatableDataNodesByArgs"
            ]
        },
        {
            "cell_type": "code",
            "source": [
                "var temp = newYieldCurves.Except(savedYieldCurves, YieldCurveComparer.Instance());",
                "\ntemp"
            ]
        },
        {
            "cell_type": "code",
            "source": [
                "temp.Intersect(savedYieldCurves, YieldCurveComparer.Instance()).ToArray().Count()"
            ]
        },
        {
            "cell_type": "code",
            "source": [
                "var temp = updatedYieldCurves.Intersect(savedYieldCurves, YieldCurveComparer.Instance()).ToArray();",
                "\nYieldCurveComparer.Instance().Equals(updatedYieldCurves[0], savedYieldCurves[0])",
                "\n"
            ]
        },
        {
            "cell_type": "code",
            "source": [
                "var x = new string[] {\"A\", \"B\", \"C\"};",
                "\nvar y = new string[]  {\"B\", \"C\"};",
                "\nx.Except(y)"
            ]
        },
        {
            "cell_type": "code",
            "source": [
                "var x = updatedYieldCurves[0];"
            ]
        },
        {
            "cell_type": "code",
            "source": [
                "var y = savedYieldCurves[0];"
            ]
        },
        {
            "cell_type": "code",
            "source": [
                "YieldCurveComparer.Instance().Equals(x,y)"
            ]
        },
        {
            "cell_type": "code",
            "source": [
                "updatedYieldCurves.Except(savedYieldCurves, YieldCurveComparer.Instance())"
            ]
        },
        {
            "cell_type": "code",
            "source": [
                "savedYieldCurves"
            ]
        }
    ]
}