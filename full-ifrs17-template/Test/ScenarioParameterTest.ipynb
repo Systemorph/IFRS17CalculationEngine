{
    "metadata": {
        "authors": [],
        "kernelspec": {
            "display_name": "Formula Framework",
            "language": "C#",
            "name": "C#"
        },
        "language_info": {
            "file_extension": ".cs",
            "mimetype": "text/plain",
            "name": "C#"
        }
    },
    "nbformat": 4,
    "nbformat_minor": 5,
    "cells": [
        {
            "cell_type": "code",
            "source": [
                "#!eval-notebook \"../Initialization/InitSystemorphBaseToMemory\"",
                "\nWorkspace.Reset(x => x.ResetInitializationRules().ResetCurrentPartitions());",
                "\nWorkspace.Initialize(x => x.FromSource(DataSource));"
            ]
        },
        {
            "cell_type": "code",
            "source": [
                "var scenario = \"IRU\";",
                "\nvar year = 2020;",
                "\nvar month = 12;",
                "\nvar reportingNode = \"CH\";",
                "\nvar dataNode = \"DT1.1\";",
                "\nvar targetPartition = (await DataSource.Query<PartitionByReportingNodeAndPeriod>().Where(p => p.ReportingNode == reportingNode &&",
                "\n                                                                                                   p.Year == year &&",
                "\n                                                                                                   p.Month == month &&",
                "\n                                                                                                   p.Scenario == scenario).ToArrayAsync()).Single().Id;",
                "\nvar defaultPartition = (await DataSource.Query<PartitionByReportingNodeAndPeriod>().Where(p => p.ReportingNode == reportingNode &&",
                "\n                                                                                                    p.Year == year &&",
                "\n                                                                                                    p.Month == month &&",
                "\n                                                                                                    p.Scenario == null).ToArrayAsync()).Single().Id;",
                "\nvar args = new ImportArgs(dataNode, year, month, Periodicity.Quarterly, scenario,null);",
                "\nvar reportingNodeByPartitionAndScenario = await DataSource.Query<PartitionByReportingNode>().ToDictionaryAsync(x => (x.Id, x.Scenario), x => x.ReportingNode);",
                "\nvar reportingNodeByPartition = await DataSource.Query<PartitionByReportingNode>().ToDictionaryAsync(x => x.Id, x => x.ReportingNode);",
                "\n",
                "\nreportingNodeByPartition",
                "\n"
            ]
        },
        {
            "cell_type": "code",
            "source": [
                "await UploadCashflowsAsync(\"../Files/900.TransactionalData/NominalCashflows_CH_2020_12_Scenario.csv\");",
                "\nawait CleanDatabaseAsync<YieldCurve>();",
                "\nvar importLog = await Import.FromFile(\"../Files/800.Parameters/YieldCurveScenario.csv\").WithType<YieldCurve>().WithTarget(DataSource).WithTarget(Workspace).ExecuteAsync();",
                "\nWorkspace.Query<YieldCurve>().First()"
            ]
        },
        {
            "cell_type": "code",
            "source": [
                "var dataNodesByCurrencyAndReportingNode = Workspace.Query<DataNode>()",
                "\n    .Select(x => new {SystemName = x.SystemName, ",
                "\n        Currency = x.FunctionalCurrency, ",
                "\n        ReportingNode = reportingNodeByPartition[x.Partition]})",
                "\n        .GroupBy(x => new Tuple<string, string>(x.Currency, x.ReportingNode).ToValueTuple())",
                "\n        .Select(x => new{ ",
                "\n            Currency = x.Key.Item1, ",
                "\n            ReportingNode = x.Key.Item2, ",
                "\n            DataNodes = x.Select(y => y.SystemName).ToList()",
                "\n            }).ToList();",
                "\n    dataNodesByCurrencyAndReportingNode",
                "\n    /*.Select(g => new {",
                "\n        Key = g.Key,",
                "\n        DataNodes = g.Select(dn => dn.SystemName).ToList()",
                "\n    });",
                "\ndataNodes",
                "\n.GroupBy(i => i.A)",
                "\n    .Select(g => new GroupItem() ",
                "\n    { ",
                "\n        A = g.Key, ",
                "\n        AllBsWithinA = g.Select(i => i.B).ToList() ",
                "\n    });*/"
            ]
        },
        {
            "cell_type": "code",
            "source": [
                "var improvedQuery  = Workspace.Query<DataNode>()",
                "\n        .GroupBy(x => new Tuple<string, Guid>(x.FunctionalCurrency, x.Partition).ToValueTuple())",
                "\n        .Select(x => new{ ",
                "\n            Currency = x.Key.Item1, ",
                "\n            ReportingNode = reportingNodeByPartition[x.Key.Item2], ",
                "\n            DataNodes = x.Select(y => y.SystemName).ToList()",
                "\n            });",
                "\nimprovedQuery.ToList()",
                "\n            "
            ]
        },
        {
            "cell_type": "code",
            "source": [
                ""
            ]
        },
        {
            "cell_type": "code",
            "source": [
                "var updatableDataNodesByPartition = await Workspace.Query<YieldCurve>()",
                "\n    .Join(improvedQuery, ",
                "\n    yc => yc.Currency, ",
                "\n    dn => dn.Currency, ",
                "\n    (yc, dn) => new { ",
                "\n                    Args = new ImportArgs( dn.ReportingNode,",
                "\n                                           yc.Year, ",
                "\n                                           yc.Month,",
                "\n                                           Periodicity.Quarterly,",
                "\n                                           yc.Scenario,",
                "\n                                           ImportFormats.Cashflow),",
                "\n                    DataNodes = dn.DataNodes})",
                "\n                    .OrderBy(x => x.Args.Year).ThenBy(x => x.Args.Month).ToArrayAsync();",
                "\n                    updatableDataNodesByPartition[0].Args"
            ]
        },
        {
            "cell_type": "code",
            "source": [
                "Activity.Start();",
                "\nforeach (var dataNodesInPartition in updatableDataNodesByPartition){",
                "\n        var args = dataNodesInPartition.Args;",
                "\n        /*var partition = (await querySource.Query<PartitionByReportingNodeAndPeriod>().Where(p => p.ReportingNode == args.ReportingNode &&",
                "\n                                                                                                   p.Year == CurrentReportingPeriod.Year &&",
                "\n                                                                                                   p.Month == CurrentReportingPeriod.Month &&",
                "\n                                                                                                   p.Scenario == args.Scenario).ToArrayAsync()).Single().Id;*/",
                "\n        await DataSource.Partition.SetAsync<PartitionByReportingNodeAndPeriod>(new {ReportingNode = args.ReportingNode, Year= args.Year, Month = args.Month, Scenario = args.Scenario});",
                "\n        var retrivedRawVariables = await DataSource.Query<RawVariable>().Where(x => dataNodesInPartition.DataNodes.Contains(x.DataNode)).ToArrayAsync();",
                "\n        if(!retrivedRawVariables.Any()) ",
                "\n            {",
                "\n                await Workspace.UpdateAsync<RawVariable>(retrivedRawVariables);",
                "\n",
                "\n                var storage = new ImportStorage(dataNodesInPartition.Args, DataSource, Workspace);",
                "\n                await storage.InitializeAsync();",
                "\n                var universe = Scopes.ForStorage(storage).ToScope<IModel>();",
                "\n                var identities = universe.GetScopes<GetIdentities>(storage.DataNodesByImportScope[ImportScope.Primary]).SelectMany(s => s.Identities);",
                "\n                var ivs = universe.GetScopes<ComputeAllScopes>(identities).SelectMany(x => x.CalculatedIfrsVariables);",
                "\n                if (await CompareCalculatedToDBAsync(args, ivs)){",
                "\n                    ApplicationMessage.Log(Warning.VariablesAlreadyCalculated, \"\");",
                "\n                    return Activity.Finish();",
                "\n                }",
                "\n                if(Activity.HasErrors()) return Activity.Finish();",
                "\n    ",
                "\n                await Workspace.UpdateAsync<IfrsVariable>(ivs);",
                "\n                await CommitToDatabase<IfrsVariable>(storage.TargetPartition, ",
                "\n                                         snapshot : true, ",
                "\n                                         filter : x => storage.EstimateTypesByImportFormat[ImportFormats.Cashflow].Contains(x.EstimateType) && ",
                "\n                                                       storage.DataNodesByImportScope[ImportScope.Primary].Contains(x.DataNode));  ",
                "\n                await CommitToDatabase<RawVariable>(storage.TargetPartition, ",
                "\n                                        snapshot : true,",
                "\n                                        filter : x => storage.DataNodesByImportScope[ImportScope.Primary].Contains(x.DataNode));",
                "\n",
                "\n            }",
                "\n    }",
                "\n",
                "\n    ",
                "\nActivity.Finish();"
            ]
        },
        {
            "cell_type": "code",
            "source": [
                "/*await Workspace.Query<YieldCurve>()",
                "\n               .Join(Workspace.Query<DataNode>(), ",
                "\n                     yc => yc.Currency, ",
                "\n                     dn => dn.FunctionalCurrency, ",
                "\n                     (yc, dn) => new {",
                "\n                                    Args = new ImportArgs( reportingNodeByPartition[dn.Partition],",
                "\n                                                 yc.Year, ",
                "\n                                                 yc.Month,",
                "\n                                                 Periodicity.Quarterly,",
                "\n                                                 yc.Scenario,",
                "\n                                                 ImportFormats.Cashflow),",
                "\n                                    DataNode = dn.SystemName}).ToArrayAsync()",
                "\n                    .Where(x => x.DataNodes.Any())",
                "\n                    .OrderBy(y => y.Year).ThenBy(y => y.Month).ToArrayAsync();*/"
            ]
        },
        {
            "cell_type": "code",
            "source": [
                "new ImportArgs (\"CH\", 1, 1, Periodicity.Quarterly, null, ImportFormats.Cashflow)"
            ]
        },
        {
            "cell_type": "code",
            "source": [
                "reportingNodeByPartitionAndScenario[(dataNodes.First().Partition, null)]"
            ]
        },
        {
            "cell_type": "code",
            "source": [
                ""
            ]
        }
    ]
}