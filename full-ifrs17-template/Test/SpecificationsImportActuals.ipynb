{
    "metadata": {
        "authors": [],
        "kernelspec": {
            "display_name": "Formula Framework",
            "language": "C#",
            "name": "C#"
        },
        "language_info": {
            "file_extension": ".cs",
            "mimetype": "text/plain",
            "name": "C#"
        },
        "toc-autonumbering": "True",
        "toc-showcode": "False"
    },
    "nbformat": 4,
    "nbformat_minor": 5,
    "cells": [
        {
            "cell_type": "markdown",
            "source": [
                "<p style=\"font-weight:bold;\"> <span style=\"font-size: 36px\"> Import Actuals Specifications </span> </p>"
            ]
        },
        {
            "cell_type": "markdown",
            "source": [
                "The aim of this notebook is to document the calculations taking place when importing the Actuals. For this documentation notebook the Data is imported from the corresponding csv files located in the following path <code>Initialization/Systemorph/</code>. The process is pictorially explained in the following flowchart. ",
                "\n",
                "\n<a name=\"TOC\"></a>",
                "\n<center><img src=\"../Images/SpecificationsImportActuals.PNG\" width=\"45%\" style=\"float:center;\">",
                "\n",
                "\nThroughout this notebook we adopt the following variable notation:  we use the words *computed* vs. *expected* to differentiate the results provided by the application vs. this test notebook, respectively."
            ]
        },
        {
            "cell_type": "markdown",
            "source": [
                "# Import Data"
            ]
        },
        {
            "cell_type": "markdown",
            "source": [
                "<a id='year-and-period'></a>",
                "\n## Current Period"
            ]
        },
        {
            "cell_type": "markdown",
            "source": [
                "Please select the target period (i.e. year and month), Reporting Node, Economic Basis, and Data Node based on the imported data:"
            ]
        },
        {
            "cell_type": "code",
            "source": [
                "var year          = 2021   ;",
                "\nvar month         = 3      ;",
                "\nvar reportingNode = \"CH\"   ;",
                "\nvar economicBasis = \"L\"    ;",
                "\nvar dataNode      = \"DT1.1\";"
            ]
        },
        {
            "cell_type": "markdown",
            "source": [
                "Import the Dimensions, Yield Curves and Nominal Cashflows from the corresponding csv files in <code>Initialization/Systemorph/</code>"
            ]
        },
        {
            "cell_type": "code",
            "source": [
                "#!eval-notebook \"../Initialization/InitSystemorphToMemory\""
            ]
        },
        {
            "cell_type": "markdown",
            "source": [
                "---"
            ]
        },
        {
            "cell_type": "markdown",
            "source": [
                "[Setup IFRS17 Calculation Engine](../Import/ImportScopeCalculation):"
            ]
        },
        {
            "cell_type": "code",
            "source": [
                "#!import \"SpecificationsSetup\""
            ]
        },
        {
            "cell_type": "markdown",
            "source": [
                "---"
            ]
        },
        {
            "cell_type": "markdown",
            "source": [
                "Initialization of the Test Suite: the data loaded from csv files are ready to be used by the Scopes for the calculations"
            ]
        },
        {
            "cell_type": "code",
            "source": [
                "var Test = await StartCalculatorAsync(reportingNode, year, month, economicBasis, Periodicity.Quarterly, ImportFormats.Actual);"
            ]
        },
        {
            "cell_type": "markdown",
            "source": [
                "<a id='view-imported-actuals'></a>",
                "\n## View imported Actuals"
            ]
        },
        {
            "cell_type": "markdown",
            "source": [
                "Here the imported Actuals from csv are visualized "
            ]
        },
        {
            "cell_type": "code",
            "source": [
                "Test.GetStorage().GetIfrsVariables(dataNode)",
                "\n    .Where(x => new string[] {EstimateTypes.A, EstimateTypes.AA, EstimateTypes.OA}.Contains(x.EstimateType))",
                "\n    .Where(x => x.AocType != \"EOP\")"
            ]
        },
        {
            "cell_type": "markdown",
            "source": [
                "where the filter is selecting only those *estimate types* associated to the imported Actuals, hence excluding the IFRS variables calculated when [importing the cashflows](SpecificationsImportCashflows)."
            ]
        },
        {
            "cell_type": "markdown",
            "source": [
                "<br/><br/>",
                "\n<a id='base-actual'></a>",
                "\n# Base Actuals"
            ]
        },
        {
            "cell_type": "markdown",
            "source": [
                "The following simplified AoC Chain applies for Advance and Overdue Actuals:",
                "\n1. Beginning of Period (BOP)",
                "\n2. Cash flow (CF)",
                "\n3. Amortization (AM) ",
                "\n4. End of Period (EOP) ",
                "\n",
                "\nWe consider 4 types of Actual values, which are distinguished through their [Estimate Type](../DataModel/DataStructure#estimate-type):",
                "\n- Actuals (A)",
                "\n- Advance Actuals (AA)",
                "\n- Overdue Actuals (OA)",
                "\n- Deferrable Actuals (DA)",
                "\n",
                "\nwith the Estimate Type's system name shown between parenthesis above.",
                "\nThey are computed by the so-called Actual Base **Scope**",
                "\n",
                "\n$$",
                "\n\\text{Actual Base} (\\text{AoC}) = \\left\\{",
                "\n\\begin{array}{cl}",
                "\n0                                                                                        & \\text{if AoC step is AM,} \\\\",
                "\n\\text{Actual Base}(\\rm{BOP}) + \\text{Actual Base}(\\rm{CF}) + \\text{Actual Base}(\\rm{WO}) & \\text{if AoC step is EOP and Estimate Type is not A,} \\\\",
                "\n\\text{Imported Actual}                                                                   & \\text{otherwise.}",
                "\n\\end{array}",
                "\n\\right.",
                "\n$$",
                "\n",
                "\nWe start by selecting one of the [imported Actual](#view-imported-actuals) and we pick up an available data node, novelty, and amount type. Then, we can retrieve the corresponding actual (if any) with AoC type BOP, R, and WO. ",
                "\n",
                "\nNote that the **Identity** for Actual Base contains information about the target data node, AoC type, novelty, amount type and estimate type."
            ]
        },
        {
            "cell_type": "markdown",
            "source": [
                "## End of Period"
            ]
        },
        {
            "cell_type": "markdown",
            "source": [
                "The imported actuals for the AoC steps BOP, CF, and WO are:"
            ]
        },
        {
            "cell_type": "code",
            "source": [
                "var actualBaseBOP = Test.GetScope<ActualBase>( (new ImportIdentity {DataNode = \"DT1.1\", AocType = \"BOP\", Novelty = \"I\" }, \"PR\", \"AA\", (int?)null) ); ",
                "\nactualBaseBOP"
            ]
        },
        {
            "cell_type": "code",
            "source": [
                "var actualBaseCF = Test.GetScope<ActualBase>( (new ImportIdentity {DataNode = \"DT1.1\", AocType = \"CF\", Novelty = \"C\" }, \"PR\", \"AA\", (int?)null) );",
                "\nactualBaseCF"
            ]
        },
        {
            "cell_type": "code",
            "source": [
                "var actualBaseWO = Test.GetScope<ActualBase>( (new ImportIdentity {DataNode = \"DT1.1\", AocType = \"WO\", Novelty = \"C\" }, \"PR\", \"AA\", (int?)null) ); ",
                "\nactualBaseWO"
            ]
        },
        {
            "cell_type": "markdown",
            "source": [
                "Based on the imported actuals and according to the [formula above](#base-actual), the computed actual for AoC step EOP reads"
            ]
        },
        {
            "cell_type": "code",
            "source": [
                "var computedActualBaseEOP = Test.GetScope<ActualBase>( (new ImportIdentity {DataNode = \"DT1.1\", AocType = \"EOP\", Novelty = \"C\" }, \"PR\", \"AA\", (int?)null) ); ",
                "\ncomputedActualBaseEOP"
            ]
        },
        {
            "cell_type": "markdown",
            "source": [
                "The computed value can be compared with the expected value"
            ]
        },
        {
            "cell_type": "code",
            "source": [
                "computedActualBaseEOP.Value == actualBaseBOP.Value + actualBaseCF.Value + actualBaseWO.Value"
            ]
        },
        {
            "cell_type": "code",
            "source": [
                "computedActualBaseEOP.Value.Should().Be( actualBaseBOP.Value + actualBaseCF.Value + actualBaseWO.Value );"
            ]
        },
        {
            "cell_type": "markdown",
            "source": [
                "<br/><br/>",
                "\n<a id='deferrable-actual'></a>",
                "\n# Deferrable Actuals"
            ]
        },
        {
            "cell_type": "markdown",
            "source": [
                "The Deferrable Actuals (DA) are computed as follows",
                "\n",
                "\n$$",
                "\n\\text{Deferrable Actual} (\\text{AoC}) = \\left\\{",
                "\n\\begin{array}{cl}",
                "\n\\text{Actual Base}_{\\substack{\\text{Estimate Type}=\\text{A} \\\\ \\text{Amount Type}=\\text{ACA}}} (\\text{CF})",
                "\n +\\text{Actual Base}_{\\substack{\\text{Estimate Type}=\\text{A} \\\\ \\text{Amount Type}=\\text{AEA}}} (\\text{CF})    & \\text{if AoC step is CF }  \\\\",
                "\n-\\text{AMF} \\cdot \\big( \\text{Deferrable Actual}(\\rm{BOP}) + \\text{Deferrable Actual}(\\rm{CF}) \\big)            & \\text{if AoC step is AM } \\\\",
                "\n\\text{Deferrable Actual}(\\rm{BOP}) + \\text{Deferrable Actual}(\\rm{CF}) + \\text{Deferrable Actual}(\\rm{AM})      & \\text{if AoC step is EOP } \\\\",
                "\n\\text{Input Actual}_{\\text{Estimate Type}=\\text{DA}} (\\text{BOP})                                              & \\text{if AoC step is BOP } \\\\",
                "\n\\end{array}",
                "\n\\right.",
                "\n$$",
                "\n",
                "\nwhere ACA and AEA are *Aquisition* Amount Types from *Attributable Commission* and *Attributable Expenses*, respectively.",
                "\n",
                "\nNote that the **Identity** of Deferrable Actual is encompassing solely data node, Aoc type, and novelty."
            ]
        },
        {
            "cell_type": "markdown",
            "source": [
                "## Beginning of Period"
            ]
        },
        {
            "cell_type": "code",
            "source": [
                "var computedDeferrableActualBOP = Test.GetScope<DeferrableActual>( new ImportIdentity {DataNode = \"DT1.1\", AocType = \"BOP\", Novelty = \"I\" } );",
                "\ncomputedDeferrableActualBOP"
            ]
        },
        {
            "cell_type": "markdown",
            "source": [
                "The deferrable Actual for the AoC step being BOP is simply the EOP Actual of the previous period. In fact, if the latter exists among the [imported Actuals](#view-imported-actuals), it is reported here below as the BOP of the current period:"
            ]
        },
        {
            "cell_type": "code",
            "source": [
                "var expectedDeferrableActualBOP = Test.GetStorage().GetValue(new ImportIdentity {DataNode = \"DT1.1\", AocType = \"BOP\", Novelty = \"I\" }, (string)null, EstimateTypes.DA, (int?)null);",
                "\nexpectedDeferrableActualBOP"
            ]
        },
        {
            "cell_type": "markdown",
            "source": [
                "The expected value is compared with the computed result: "
            ]
        },
        {
            "cell_type": "code",
            "source": [
                "computedDeferrableActualBOP.Value == expectedDeferrableActualBOP"
            ]
        },
        {
            "cell_type": "code",
            "source": [
                "computedDeferrableActualBOP.Value.Should().Be(expectedDeferrableActualBOP);"
            ]
        },
        {
            "cell_type": "markdown",
            "source": [
                "## Cash flow"
            ]
        },
        {
            "cell_type": "code",
            "source": [
                "var computedDeferrableActualCF = Test.GetScope<DeferrableActual>( new ImportIdentity {DataNode = \"DT1.1\", AocType = \"CF\", Novelty = \"C\" } );",
                "\ncomputedDeferrableActualCF"
            ]
        },
        {
            "cell_type": "markdown",
            "source": [
                "The deferrable Actual for the AoC step being CF is the sum of the base Actuals with Amount Type ACA and AEA:"
            ]
        },
        {
            "cell_type": "code",
            "source": [
                "var actualBaseAEA = Test.GetScope<ActualBase>( (new ImportIdentity {DataNode = \"DT1.1\", AocType = \"CF\", Novelty = \"C\" }, \"AEA\", \"A\", (int?)null) );",
                "\nactualBaseAEA"
            ]
        },
        {
            "cell_type": "code",
            "source": [
                "var actualBaseACA = Test.GetScope<ActualBase>( (new ImportIdentity {DataNode = \"DT1.1\", AocType = \"CF\", Novelty = \"C\" }, \"ACA\", \"A\", (int?)null) );",
                "\nactualBaseACA"
            ]
        },
        {
            "cell_type": "code",
            "source": [
                "var expectedDeferrableActualCF = actualBaseAEA.Value + actualBaseACA.Value;",
                "\nexpectedDeferrableActualCF"
            ]
        },
        {
            "cell_type": "markdown",
            "source": [
                "The expected value is compared with the computed result: "
            ]
        },
        {
            "cell_type": "code",
            "source": [
                "computedDeferrableActualCF.Value == expectedDeferrableActualCF"
            ]
        },
        {
            "cell_type": "code",
            "source": [
                "computedDeferrableActualCF.Value.Should().Be(expectedDeferrableActualCF);"
            ]
        },
        {
            "cell_type": "markdown",
            "source": [
                "## Amortization"
            ]
        },
        {
            "cell_type": "code",
            "source": [
                "var computedDeferrableActualAM = Test.GetScope<DeferrableActual>( new ImportIdentity {DataNode = \"DT1.1\", AocType = \"AM\", Novelty = \"C\" } );",
                "\ncomputedDeferrableActualAM"
            ]
        },
        {
            "cell_type": "markdown",
            "source": [
                "The deferrable Actual for the AoC step being AM is the sum of the deferrable Actuals for AoC step BOP and CF multiplied by the current period amortization factor:"
            ]
        },
        {
            "cell_type": "code",
            "source": [
                "var currentPeriodAmortizationFactor = Test.GetScope<CurrentPeriodAmortizationFactor>( new ImportIdentity {DataNode = \"DT1.1\", AocType = \"AM\", Novelty = \"C\" } );",
                "\ncurrentPeriodAmortizationFactor"
            ]
        },
        {
            "cell_type": "code",
            "source": [
                "Test.GetStorage().GetValue(new ImportIdentity {DataNode = \"DT1.1\", AocType = \"AM\", Novelty = \"C\" }, (string)null, \"F\", \"L\", (int?)null)"
            ]
        },
        {
            "cell_type": "code",
            "source": [
                "var expectedDeferrableActualAM = -currentPeriodAmortizationFactor.Value * (expectedDeferrableActualBOP + expectedDeferrableActualCF);",
                "\nexpectedDeferrableActualAM"
            ]
        },
        {
            "cell_type": "markdown",
            "source": [
                "The expected value is compared with the computed result: "
            ]
        },
        {
            "cell_type": "code",
            "source": [
                "computedDeferrableActualAM.Value == expectedDeferrableActualAM"
            ]
        },
        {
            "cell_type": "code",
            "source": [
                "computedDeferrableActualAM.Value.Should().Be( expectedDeferrableActualAM );"
            ]
        },
        {
            "cell_type": "markdown",
            "source": [
                "## End of Period"
            ]
        },
        {
            "cell_type": "code",
            "source": [
                "var computedDeferrableActualEOP = Test.GetScope<DeferrableActual>( new ImportIdentity {DataNode = \"DT1.1\", AocType = \"EOP\", Novelty = \"C\" } );",
                "\ncomputedDeferrableActualEOP"
            ]
        },
        {
            "cell_type": "markdown",
            "source": [
                "The deferrable Actual for the AoC step being EOP is the sum of the deferrable Actuals for AoC step BOP, CF, and AM:"
            ]
        },
        {
            "cell_type": "code",
            "source": [
                "var deferrableActualBOP = Test.GetScope<DeferrableActual>( new ImportIdentity {DataNode = \"DT1.1\", AocType = \"BOP\", Novelty = \"I\" } );",
                "\ndeferrableActualBOP"
            ]
        },
        {
            "cell_type": "code",
            "source": [
                "var deferrableActualCF = Test.GetScope<DeferrableActual>( new ImportIdentity {DataNode = \"DT1.1\", AocType = \"CF\", Novelty = \"C\" } );",
                "\ndeferrableActualCF"
            ]
        },
        {
            "cell_type": "code",
            "source": [
                "var deferrableActualAM = Test.GetScope<DeferrableActual>( new ImportIdentity {DataNode = \"DT1.1\", AocType = \"AM\", Novelty = \"C\" } );",
                "\ndeferrableActualAM"
            ]
        },
        {
            "cell_type": "code",
            "source": [
                "var expectedDeferrableActualEOP = deferrableActualBOP.Value + deferrableActualCF.Value + deferrableActualAM.Value;",
                "\nexpectedDeferrableActualEOP"
            ]
        },
        {
            "cell_type": "markdown",
            "source": [
                "The expected value is compared with the computed result: "
            ]
        },
        {
            "cell_type": "code",
            "source": [
                "computedDeferrableActualEOP.Value == expectedDeferrableActualEOP"
            ]
        },
        {
            "cell_type": "code",
            "source": [
                "computedDeferrableActualEOP.Value.Should().Be(expectedDeferrableActualEOP);"
            ]
        },
        {
            "cell_type": "code",
            "source": [
                ""
            ]
        }
    ]
}