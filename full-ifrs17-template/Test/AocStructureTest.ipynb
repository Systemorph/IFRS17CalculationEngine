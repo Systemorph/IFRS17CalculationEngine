{
    "metadata": {
        "authors": [],
        "kernelspec": {
            "display_name": "Formula Framework",
            "language": "C#",
            "name": "C#"
        },
        "language_info": {
            "file_extension": ".cs",
            "mimetype": "text/plain",
            "name": "C#"
        },
        "toc-autonumbering": "True",
        "toc-showcode": "False"
    },
    "nbformat": 4,
    "nbformat_minor": 5,
    "cells": [
        {
            "id": "KHS_ozuKgkKD7894PwzaMA",
            "cell_type": "markdown",
            "source": [
                "<p style=\"font-weight:bold;\"> <span style=\"font-size: 36px\"> Test Aoc Management </span> </p>"
            ],
            "metadata": {},
            "execution_count": 0,
            "outputs": []
        },
        {
            "id": "xSd7qXErYk63kJhKsB4R2w",
            "cell_type": "code",
            "source": [
                "#!eval-notebook \"../Initialization/InitSystemorphBaseToMemory\""
            ],
            "metadata": {},
            "execution_count": 0,
            "outputs": []
        },
        {
            "id": "6bXSuC5dmEa02K1aN6a-2w",
            "cell_type": "markdown",
            "source": [
                "# Workspace Initialization "
            ],
            "metadata": {},
            "execution_count": 0,
            "outputs": []
        },
        {
            "id": "PpQqVjKEOU6CZM9c_dsnRA",
            "cell_type": "code",
            "source": [
                "Workspace.Initialize(x => x.FromSource(DataSource)",
                "\n                           .DisableInitialization<RawVariable>()",
                "\n                           .DisableInitialization<IfrsVariable>());"
            ],
            "metadata": {},
            "execution_count": 0,
            "outputs": []
        },
        {
            "id": "4cgLAPXsgUGg6vBeikzUmg",
            "cell_type": "markdown",
            "source": [
                "# Test"
            ],
            "metadata": {},
            "execution_count": 0,
            "outputs": []
        },
        {
            "id": "EjfMLWFFsk-MMb9hkLtvfQ",
            "cell_type": "code",
            "source": [
                "var reportingNode = \"CH\";",
                "\nvar scenario = (string)null;"
            ],
            "metadata": {},
            "execution_count": 0,
            "outputs": []
        },
        {
            "id": "jwnu01WUDkuEJDMtVlGZXw",
            "cell_type": "code",
            "source": [
                "//Define partition",
                "\nvar args = new ImportArgs(reportingNode, 2021, 3, Periodicity.Quarterly, scenario, ImportFormats.Actual);",
                "\nvar partition = new PartitionByReportingNodeAndPeriod { Id = (Guid)(await DataSource.Partition.GetKeyForInstanceAsync<PartitionByReportingNode>(args)),",
                "\n                                                        ReportingNode = reportingNode, ",
                "\n                                                        Scenario = scenario, ",
                "\n                                                        Year = args.Year,",
                "\n                                                        Month = args.Month };",
                "\nawait DataSource.UpdateAsync(new[]{partition});",
                "\nawait DataSource.CommitAsync();"
            ],
            "metadata": {},
            "execution_count": 0,
            "outputs": []
        },
        {
            "id": "w5v_I7zIN0Sx-ERpw4lu3w",
            "cell_type": "code",
            "source": [
                "public async Task CheckAocStepStructureAsync(IEnumerable<BaseDataRecord> inputVariables, ",
                "\n                                             Dictionary<AocStep,IEnumerable<AocStep>> parentBm, ",
                "\n                                             Dictionary<AocStep,AocStep> referenceBm, ",
                "\n                                             Dictionary<AocStep,IEnumerable<AocStep>> fullAocBm,",
                "\n                                             Dictionary<AocStep,IEnumerable<AocStep>> parentBmCdr = null)",
                "\n{",
                "\n    //Save test input data",
                "\n    var importFormat = ImportFormats.Cashflow;",
                "\n    var inputSource = InputSource.Cashflow;",
                "\n    if (inputVariables.First() is RawVariable)",
                "\n    {",
                "\n        await Workspace.UpdateAsync<RawVariable>(inputVariables.Cast<RawVariable>());",
                "\n    }",
                "\n    if (inputVariables.First() is IfrsVariable)",
                "\n    {",
                "\n        await Workspace.UpdateAsync<IfrsVariable>(inputVariables.Cast<IfrsVariable>());",
                "\n        importFormat = ImportFormats.Actual;",
                "\n        inputSource = InputSource.Actual;",
                "\n    }",
                "\n    ",
                "\n    var newArgs = args with {ImportFormat = importFormat };",
                "\n    //Set up import storage and test universe",
                "\n    var testStorage = new ImportStorage(newArgs, DataSource, Workspace);",
                "\n    await testStorage.InitializeAsync();",
                "\n    var isReinsurance = testStorage.DataNodeDataBySystemName[inputVariables.First().DataNode].IsReinsurance;",
                "\n    var testUniverse = Scopes.ForStorage(testStorage).ToScope<IModel>();",
                "\n    //Clean up Workspace",
                "\n    await Workspace.DeleteAsync<RawVariable>(await Workspace.Query<RawVariable>().ToArrayAsync());   ",
                "\n    await Workspace.DeleteAsync<IfrsVariable>(await Workspace.Query<IfrsVariable>().ToArrayAsync());   ",
                "\n    ",
                "\n    var errors = new List<string>();",
                "\n    ",
                "\n    var goc = inputVariables.First().DataNode;",
                "\n    var identities = testUniverse.GetScopes<GetIdentities>(testStorage.DataNodesByImportScope[ImportScope.Primary].Where(dn => dn == goc)).SelectMany(s => s.Identities);",
                "\n    ",
                "\n   //Assert Parents",
                "\n    if (importFormat != ImportFormats.Actual)",
                "\n    {",
                "\n        var parents = testUniverse.GetScopes<ParentAocStep>(identities.Select(id => (object)(id, \"PR\")), o => o.WithStorage(testStorage)).Where(x => x.Values != Enumerable.Empty<AocStep>()).ToArray();",
                "\n        if (parentBm.Count() != parents.Count()) ",
                "\n        {",
                "\n            var computedIds = parents.Select(s => $\"AocType:{s.Identity.Id.AocType}, Novelty:{s.Identity.Id.Novelty}\");",
                "\n            var expectedIds = parentBm.Keys.Select(aoc => $\"AocType:{aoc.AocType}, Novelty:{aoc.Novelty}\");",
                "\n            errors.Add( $\"Parent count does not match expected: \\n Computed {parents.Count()} \\n {string.Join(\"\\n\", computedIds)} \\n Expected {parentBm.Count()} \\n {string.Join(\"\\n\", expectedIds)}.\" );",
                "\n        }",
                "\n    ",
                "\n    foreach(var kvp in parentBm)",
                "\n    {",
                "\n        var scopeParents = parents.Where(y => y.Identity.Id.AocType == kvp.Key.AocType && y.Identity.Id.Novelty == kvp.Key.Novelty);",
                "\n        if(scopeParents.Count() != 1)",
                "\n            errors.Add( $\"Parent not found for AocStep: {kvp.Key.AocType}, {kvp.Key.Novelty}.\");",
                "\n        else{",
                "\n            var scopeParent = scopeParents.First();",
                "\n            if( kvp.Value.Intersect(scopeParent.Values).Count() != kvp.Value.Count() ||",
                "\n                kvp.Value.Intersect(scopeParent.Values).Count() != scopeParent.Values.Count()){",
                "\n                var computedAocSteps = scopeParent.Values.Select(aoc => $\"AocType:{aoc.AocType}, Novelty:{aoc.Novelty}\");",
                "\n                var expectedAocSteps = kvp.Value.Select(aoc => $\"AocType:{aoc.AocType}, Novelty:{aoc.Novelty}\"); ",
                "\n                errors.Add( $\"Parents of {kvp.Key.AocType}, {kvp.Key.Novelty} do not match expected value: \\n Computed: \\n {string.Join(\"\\n\", computedAocSteps)} \\n Expected: \\n {string.Join(\"\\n\", expectedAocSteps)}.\" );",
                "\n            }",
                "\n        }",
                "\n    }",
                "\n    ",
                "\n    //Parents for CDR",
                "\n    if(isReinsurance)",
                "\n    {",
                "\n        var parentsCdr = testUniverse.GetScopes<ParentAocStep>(identities.Select(id => (object)(id, AmountTypes.CDR)), o => o.WithStorage(testStorage));",
                "\n        ",
                "\n        var countP = parentsCdr.Where(x => x.Values != Enumerable.Empty<AocStep>()).Count();",
                "\n        if (parentBmCdr.Count() != countP) ",
                "\n            errors.Add( $\"Parent count for AmountType CDR does not match expected: \\n Computed {countP} \\n Expected {parentBm.Count()}.\" );",
                "\n    ",
                "\n        foreach(var kvp in parentBmCdr)",
                "\n        {",
                "\n            var scopeParents = parentsCdr.Where(y => y.Identity.Id.AocType == kvp.Key.AocType && y.Identity.Id.Novelty == kvp.Key.Novelty);",
                "\n            if(scopeParents.Count() != 1)",
                "\n                errors.Add( $\"Parent for CDR not found for AocStep: {kvp.Key.AocType}, {kvp.Key.Novelty}.\");",
                "\n            else{",
                "\n                var scopeParent = scopeParents.First();",
                "\n                if( kvp.Value.Intersect(scopeParent.Values).Count() != kvp.Value.Count() || ",
                "\n                    kvp.Value.Intersect(scopeParent.Values).Count() != scopeParent.Values.Count() ){",
                "\n                    var computedAocSteps = scopeParent.Values.Select(aoc => $\"AocType:{aoc.AocType}, Novelty:{aoc.Novelty}\");",
                "\n                    var expectedAocSteps = kvp.Value.Select(aoc => $\"AocType:{aoc.AocType}, Novelty:{aoc.Novelty}\"); ",
                "\n                    errors.Add( $\"Parents of {kvp.Key.AocType}, {kvp.Key.Novelty} for AmountType CDR do not match expected value: \\n Computed: \\n {string.Join(\"\\n\", computedAocSteps)} \\n Expected: \\n {string.Join(\"\\n\", expectedAocSteps)}.\" );",
                "\n                }",
                "\n            }",
                "\n        } ",
                "\n    }",
                "\n    }",
                "\n    ",
                "\n    //Assert Reference",
                "\n    if (importFormat != ImportFormats.Actual)",
                "\n    {",
                "\n        var reference = testUniverse.GetScopes<ReferenceAocStep>(identities, o => o.WithStorage(testStorage)).ToArray();",
                "\n        var countR = reference.Select(x => x.Value).Count();",
                "\n        if (referenceBm.Count() != countR) ",
                "\n            errors.Add( $\"Reference count does not match expected: \\n Computed {countR} \\n Expected {referenceBm.Count()}.\" );",
                "\n    ",
                "\n        foreach(var kvp in referenceBm)",
                "\n        {",
                "\n            var scopeReferences = reference.Where(y => y.Identity.AocType == kvp.Key.AocType && y.Identity.Novelty == kvp.Key.Novelty);",
                "\n            if(scopeReferences.Count() != 1)",
                "\n                errors.Add( $\"Reference not found for AocStep: {kvp.Key.AocType}, {kvp.Key.Novelty}.\");",
                "\n            else{",
                "\n                var scopeReference = scopeReferences.First();",
                "\n                if( kvp.Value.AocType != scopeReference.Value.AocType || kvp.Value.Novelty != scopeReference.Value.Novelty )",
                "\n                    errors.Add( $\"Reference of {kvp.Key.AocType}, {kvp.Key.Novelty} do not match expected value: \\n Computed {scopeReference.Value} \\n Expected {kvp.Value}.\" );",
                "\n            }",
                "\n        }",
                "\n    }",
                "\n    ",
                "\n    //Assert FullAoc",
                "\n    var fullAoc = testUniverse.GetScopes<PreviousAocSteps>(identities.Select(id => (object)(id, inputSource)), o => o.WithStorage(testStorage)).Where(s => s.Values.Any());",
                "\n    var count = fullAoc.Count();",
                "\n    if (fullAocBm.Count() != count)",
                "\n    {",
                "\n        var computedAocSteps = fullAoc.Select(x => $\"AocType:{x.Identity.Id.AocType}, Novelty:{x.Identity.Id.Novelty}\");",
                "\n        var benchmarkKeys = fullAocBm.Keys.Select(aoc => $\"AocType:{aoc.AocType}, Novelty:{aoc.Novelty}\");",
                "\n        errors.Add( $\"Full Aoc count does not match expected: \\n Computed {count} \\n Expected {fullAocBm.Count()}.\" );    ",
                "\n        errors.Add( $\"In particular, \\n Computed Identities \\n {string.Join(\"\\n\", computedAocSteps)} \\n Expected \\n {string.Join(\"\\n\", benchmarkKeys)}.\" );    ",
                "\n    }",
                "\n ",
                "\n    foreach(var kvp in fullAocBm)",
                "\n    {",
                "\n       var scopeAocFulls = fullAoc.Where(y => y.Identity.Id.AocType == kvp.Key.AocType && y.Identity.Id.Novelty == kvp.Key.Novelty);",
                "\n        if(scopeAocFulls.Count() != 1){",
                "\n            errors.Add( $\"Full AocStep not found for AocStep: {kvp.Key.AocType}, {kvp.Key.Novelty}.\");}",
                "\n        else{",
                "\n            var scopeAocFull = scopeAocFulls.First();",
                "\n            if( kvp.Value.Intersect(scopeAocFull.Values).Count() != kvp.Value.Count() || ",
                "\n                kvp.Value.Intersect(scopeAocFull.Values).Count() != scopeAocFull.Values.Count() ){",
                "\n                var computedAocSteps = scopeAocFull.Values.Select(aoc => $\"AocType:{aoc.AocType}, Novelty:{aoc.Novelty}\");",
                "\n                var expectedAocSteps = kvp.Value.Select(aoc => $\"AocType:{aoc.AocType}, Novelty:{aoc.Novelty}\"); ",
                "\n                errors.Add( $\"AocFull for {kvp.Key.AocType}, {kvp.Key.Novelty} do not match expected value: \\n Computed \\n {string.Join(\"\\n\", computedAocSteps)} \\n Expected: \\n {string.Join(\"\\n\", expectedAocSteps)}.\" );",
                "\n            }",
                "\n        }",
                "\n    }",
                "\n    ",
                "\n    if(errors.Any()) ApplicationMessage.Log(Error.Generic, string.Join(\"\\n\", errors));",
                "\n}",
                "\n"
            ],
            "metadata": {},
            "execution_count": 0,
            "outputs": []
        },
        {
            "id": "loB02p447k-joKtgGGAWdw",
            "cell_type": "markdown",
            "source": [
                "# Use Cases"
            ],
            "metadata": {},
            "execution_count": 0,
            "outputs": []
        },
        {
            "id": "nlefq5i89U252GowSfuA0w",
            "cell_type": "markdown",
            "source": [
                "## Gross Cashflow: InForce, NewBusiness, and Combined"
            ],
            "metadata": {},
            "execution_count": 0,
            "outputs": []
        },
        {
            "id": "UVAqPCnZA0q1oojEtVx8gg",
            "cell_type": "code",
            "source": [
                "var groupOfContract = \"DT1.1\";"
            ],
            "metadata": {},
            "execution_count": 0,
            "outputs": []
        },
        {
            "id": "BEYZES2u8Uu3BlmL8xl9Vw",
            "cell_type": "code",
            "source": [
                "var inputRawVariables = new RawVariable[]{",
                "\n    new RawVariable{Partition = partition.Id, Values = new []{1.0}, DataNode = groupOfContract, AocType = \"BOP\", Novelty = \"I\", AccidentYear = null, AmountType = \"PR\", EstimateType = \"BE\"},",
                "\n    new RawVariable{Partition = partition.Id, Values = new []{1.0}, DataNode = groupOfContract, AocType = \"MC\", Novelty = \"I\", AccidentYear = null, AmountType = \"PR\", EstimateType = \"BE\"},",
                "\n    new RawVariable{Partition = partition.Id, Values = new []{1.0}, DataNode = groupOfContract, AocType = \"BOP\", Novelty = \"N\", AccidentYear = null, AmountType = \"PR\", EstimateType = \"BE\"},",
                "\n    new RawVariable{Partition = partition.Id, Values = new []{1.0}, DataNode = groupOfContract, AocType = \"EV\", Novelty = \"N\", AccidentYear = null, AmountType = \"PR\", EstimateType = \"BE\"},",
                "\n    new RawVariable{Partition = partition.Id, Values = new []{1.0}, DataNode = groupOfContract, AocType = \"CL\", Novelty = \"C\", AccidentYear = null, AmountType = \"PR\", EstimateType = \"BE\"},",
                "\n};"
            ],
            "metadata": {},
            "execution_count": 0,
            "outputs": []
        },
        {
            "id": "6PZq3tv5pU6GpVgGNBoCmA",
            "cell_type": "code",
            "source": [
                "var parentBm = new Dictionary<AocStep,IEnumerable<AocStep>>()",
                "\n    {",
                "\n        {new AocStep(\"MC\",\"I\"), new AocStep[]{new AocStep(\"BOP\",\"I\")}},",
                "\n        {new AocStep(\"YCU\",\"I\"), new AocStep[]{new AocStep(\"MC\",\"I\")}}, ",
                "\n        {new AocStep(\"EV\",\"N\"), new AocStep[]{new AocStep(\"BOP\",\"N\")}},",
                "\n        {new AocStep(\"CL\",\"C\"), new AocStep[]{new AocStep(\"YCU\",\"I\"), new AocStep(\"EV\",\"N\"),}},",
                "\n    };"
            ],
            "metadata": {},
            "execution_count": 0,
            "outputs": []
        },
        {
            "id": "8MRUcZlBQkuHEGFCuF2-Dw",
            "cell_type": "code",
            "source": [
                "var referenceBm = new Dictionary<AocStep,AocStep>()",
                "\n    {",
                "\n        {new AocStep(\"BOP\",\"I\"), new AocStep(\"BOP\",\"I\")},",
                "\n        {new AocStep(\"MC\",\"I\"), new AocStep(\"MC\",\"I\")},",
                "\n        {new AocStep(\"CF\",\"I\"), new AocStep(\"MC\",\"I\")},",
                "\n        {new AocStep(\"IA\",\"I\"), new AocStep(\"MC\",\"I\")},",
                "\n        {new AocStep(\"YCU\",\"I\"), new AocStep(\"MC\",\"I\")}, ",
                "\n        {new AocStep(\"BOP\",\"N\"), new AocStep(\"BOP\",\"N\")},",
                "\n        {new AocStep(\"CF\",\"N\"), new AocStep(\"BOP\",\"N\")},",
                "\n        {new AocStep(\"IA\",\"N\"), new AocStep(\"BOP\",\"N\")},",
                "\n        {new AocStep(\"EV\",\"N\"), new AocStep(\"EV\",\"N\")},",
                "\n        {new AocStep(\"CL\",\"C\"), new AocStep(\"CL\",\"C\")},",
                "\n        {new AocStep(\"EA\",\"C\"), new AocStep(\"CF\",\"C\")},",
                "\n        {new AocStep(\"AM\",\"C\"), new AocStep(\"CL\",\"C\")},",
                "\n        {new AocStep(\"EOP\",\"C\"), new AocStep(\"CL\",\"C\")},",
                "\n        {new AocStep(\"CF\",\"C\"), new AocStep(\"CF\",\"C\")},",
                "\n    };"
            ],
            "metadata": {},
            "execution_count": 0,
            "outputs": []
        },
        {
            "id": "tJOWfdgsckWek4Sz9-HHrQ",
            "cell_type": "code",
            "source": [
                "var fullAocBm = new Dictionary<AocStep,IEnumerable<AocStep>>()",
                "\n    {",
                "\n        //{new AocStep(\"BOP\",\"I\"), Enumerable.Empty<AocStep>()},",
                "\n        {new AocStep(\"MC\",\"I\"), new AocStep[]{new AocStep(\"BOP\",\"I\")}},",
                "\n        {new AocStep(\"CF\",\"I\"), new AocStep[]{new AocStep(\"BOP\",\"I\"), new AocStep(\"MC\",\"I\")}},",
                "\n        {new AocStep(\"IA\",\"I\"), new AocStep[]{new AocStep(\"BOP\",\"I\"), new AocStep(\"MC\",\"I\"), new AocStep(\"CF\",\"I\")}},",
                "\n        {new AocStep(\"YCU\",\"I\"), new AocStep[]{new AocStep(\"IA\",\"I\"), new AocStep(\"BOP\",\"I\"), new AocStep(\"MC\",\"I\"), new AocStep(\"CF\",\"I\")}},",
                "\n        //{new AocStep(\"BOP\",\"N\"), Enumerable.Empty<AocStep>()},",
                "\n        {new AocStep(\"CF\",\"N\"), new AocStep[]{new AocStep(\"BOP\",\"N\")}},",
                "\n        {new AocStep(\"IA\",\"N\"), new AocStep[]{new AocStep(\"BOP\",\"N\"), new AocStep(\"CF\",\"N\")}},",
                "\n        {new AocStep(\"EV\",\"N\"), new AocStep[]{new AocStep(\"BOP\",\"N\"), new AocStep(\"CF\",\"N\"), new AocStep(\"IA\",\"N\")}},",
                "\n        ",
                "\n        {new AocStep(\"CL\",\"C\"), new AocStep[]{new AocStep(\"BOP\",\"I\"), new AocStep(\"MC\",\"I\"), new AocStep(\"CF\",\"I\"), new AocStep(\"IA\",\"I\"), new AocStep(\"YCU\",\"I\"),",
                "\n                                              new AocStep(\"BOP\",\"N\"), new AocStep(\"CF\",\"N\"), new AocStep(\"IA\",\"N\"), new AocStep(\"EV\",\"N\"),",
                "\n                                              }},",
                "\n        {new AocStep(\"EA\",\"C\"), new AocStep[]{new AocStep(\"BOP\",\"I\"), new AocStep(\"MC\",\"I\"),new AocStep(\"CF\",\"I\"), new AocStep(\"IA\",\"I\"),new AocStep(\"YCU\",\"I\"), ",
                "\n                                              new AocStep(\"BOP\",\"N\"), new AocStep(\"CF\",\"N\"), new AocStep(\"IA\",\"N\"), new AocStep(\"EV\",\"N\"), ",
                "\n                                              new AocStep(\"CL\",\"C\"),",
                "\n                                             }},",
                "\n        {new AocStep(\"AM\",\"C\"), new AocStep[]{new AocStep(\"BOP\",\"I\"), new AocStep(\"MC\",\"I\"), new AocStep(\"CF\",\"I\"), new AocStep(\"IA\",\"I\"), new AocStep(\"YCU\",\"I\"),",
                "\n                                              new AocStep(\"BOP\",\"N\"), new AocStep(\"CF\",\"N\"), new AocStep(\"IA\",\"N\"), new AocStep(\"EV\",\"N\"), ",
                "\n                                              new AocStep(\"EA\",\"C\"), new AocStep(\"CL\",\"C\"),",
                "\n                                             }},",
                "\n        {new AocStep(\"EOP\",\"C\"), new AocStep[]{new AocStep(\"BOP\",\"I\"), new AocStep(\"MC\",\"I\"), new AocStep(\"CF\",\"I\"), new AocStep(\"IA\",\"I\"), new AocStep(\"YCU\",\"I\"),",
                "\n                                               new AocStep(\"BOP\",\"N\"), new AocStep(\"CF\",\"N\"), new AocStep(\"IA\",\"N\"), new AocStep(\"EV\",\"N\"), ",
                "\n                                                new AocStep(\"EA\",\"C\"), new AocStep(\"AM\",\"C\"), new AocStep(\"CL\",\"C\"),",
                "\n                                               }},",
                "\n        //{new AocStep(\"CF\",\"C\"), Enumerable.Empty<AocStep>()},",
                "\n    };"
            ],
            "metadata": {},
            "execution_count": 0,
            "outputs": []
        },
        {
            "id": "eI70XyIrakCQ5D9eY6qQIQ",
            "cell_type": "code",
            "source": [
                "await CheckAocStepStructureAsync(inputRawVariables, parentBm, referenceBm, fullAocBm)"
            ],
            "metadata": {},
            "execution_count": 0,
            "outputs": []
        },
        {
            "id": "doyGVLO1K0WxQ4cA-tMwSA",
            "cell_type": "markdown",
            "source": [
                "## Reinsurance Cashflow: InForce, NewBusiness, and Combined"
            ],
            "metadata": {},
            "execution_count": 0,
            "outputs": []
        },
        {
            "id": "ZP6ytRp8xEaOVsISC7x4hQ",
            "cell_type": "code",
            "source": [
                "groupOfContract = \"DTR1.1\";"
            ],
            "metadata": {},
            "execution_count": 0,
            "outputs": []
        },
        {
            "id": "WW8bMSkQb0Sj8UiukhQolw",
            "cell_type": "code",
            "source": [
                "inputRawVariables = new RawVariable[]{",
                "\n    new RawVariable{Partition = partition.Id, Values = new []{1.0}, DataNode = groupOfContract, AocType = \"BOP\", Novelty = \"I\", AccidentYear = null, AmountType = \"PR\", EstimateType = \"BE\"},",
                "\n    new RawVariable{Partition = partition.Id, Values = new []{1.0}, DataNode = groupOfContract, AocType = \"MC\", Novelty = \"I\", AccidentYear = null, AmountType = \"PR\", EstimateType = \"BE\"},",
                "\n    new RawVariable{Partition = partition.Id, Values = new []{1.0}, DataNode = groupOfContract, AocType = \"BOP\", Novelty = \"N\", AccidentYear = null, AmountType = \"PR\", EstimateType = \"BE\"},",
                "\n    new RawVariable{Partition = partition.Id, Values = new []{1.0}, DataNode = groupOfContract, AocType = \"EV\", Novelty = \"N\", AccidentYear = null, AmountType = \"PR\", EstimateType = \"BE\"},",
                "\n    new RawVariable{Partition = partition.Id, Values = new []{1.0}, DataNode = groupOfContract, AocType = \"CL\", Novelty = \"C\", AccidentYear = null, AmountType = \"PR\", EstimateType = \"BE\"},",
                "\n};"
            ],
            "metadata": {},
            "execution_count": 0,
            "outputs": []
        },
        {
            "id": "jxYttLLWK0S62a15wpf1oA",
            "cell_type": "code",
            "source": [
                "parentBm = new Dictionary<AocStep,IEnumerable<AocStep>>()",
                "\n    {",
                "\n        {new AocStep(\"MC\",\"I\"), new AocStep[]{new AocStep(\"BOP\",\"I\")}},",
                "\n        {new AocStep(\"YCU\",\"I\"), new AocStep[]{new AocStep(\"MC\",\"I\")}},",
                "\n        {new AocStep(\"CRU\",\"I\"), new AocStep[]{new AocStep(\"YCU\",\"I\")}}, ",
                "\n        {new AocStep(\"EV\",\"N\"), new AocStep[]{new AocStep(\"BOP\",\"N\")}},",
                "\n        {new AocStep(\"CL\",\"C\"), new AocStep[]{new AocStep(\"YCU\",\"I\"), new AocStep(\"EV\",\"N\"),}},",
                "\n    };"
            ],
            "metadata": {},
            "execution_count": 0,
            "outputs": []
        },
        {
            "id": "x2tZgHx8Uk2k492vkiiSDw",
            "cell_type": "code",
            "source": [
                "var parentBm_CDR = new Dictionary<AocStep,IEnumerable<AocStep>>()",
                "\n    {",
                "\n        {new AocStep(\"MC\",\"I\"), new AocStep[]{new AocStep(\"BOP\",\"I\")}},",
                "\n        {new AocStep(\"YCU\",\"I\"), new AocStep[]{new AocStep(\"MC\",\"I\")}}, ",
                "\n        {new AocStep(\"CRU\",\"I\"), new AocStep[]{new AocStep(\"YCU\",\"I\")}}, ",
                "\n        {new AocStep(\"EV\",\"N\"), new AocStep[]{new AocStep(\"BOP\",\"N\")}},",
                "\n        {new AocStep(\"CL\",\"C\"), new AocStep[]{new AocStep(\"CRU\",\"I\"), new AocStep(\"EV\",\"N\"),}},",
                "\n    };"
            ],
            "metadata": {},
            "execution_count": 0,
            "outputs": []
        },
        {
            "id": "vjlv_1RiwESMTXfW99uyhA",
            "cell_type": "code",
            "source": [
                "referenceBm = new Dictionary<AocStep,AocStep>()",
                "\n    {",
                "\n        {new AocStep(\"BOP\",\"I\"), new AocStep(\"BOP\",\"I\")},",
                "\n        {new AocStep(\"MC\",\"I\"), new AocStep(\"MC\",\"I\")},",
                "\n        {new AocStep(\"RCU\",\"I\"), new AocStep(\"MC\",\"I\")}, ",
                "\n        {new AocStep(\"CF\",\"I\"), new AocStep(\"MC\",\"I\")},",
                "\n        {new AocStep(\"IA\",\"I\"), new AocStep(\"MC\",\"I\")},",
                "\n        {new AocStep(\"YCU\",\"I\"), new AocStep(\"MC\",\"I\")}, ",
                "\n        {new AocStep(\"CRU\",\"I\"), new AocStep(\"MC\",\"I\")}, ",
                "\n        {new AocStep(\"BOP\",\"N\"), new AocStep(\"BOP\",\"N\")},",
                "\n        {new AocStep(\"CF\",\"N\"), new AocStep(\"BOP\",\"N\")},",
                "\n        {new AocStep(\"IA\",\"N\"), new AocStep(\"BOP\",\"N\")},",
                "\n        {new AocStep(\"EV\",\"N\"), new AocStep(\"EV\",\"N\")},",
                "\n        {new AocStep(\"CL\",\"C\"), new AocStep(\"CL\",\"C\")},",
                "\n        {new AocStep(\"EA\",\"C\"), new AocStep(\"CF\",\"C\")},",
                "\n        {new AocStep(\"AM\",\"C\"), new AocStep(\"CL\",\"C\")},",
                "\n        {new AocStep(\"EOP\",\"C\"), new AocStep(\"CL\",\"C\")},",
                "\n        {new AocStep(\"CF\",\"C\"), new AocStep(\"CF\",\"C\")},",
                "\n    };"
            ],
            "metadata": {},
            "execution_count": 0,
            "outputs": []
        },
        {
            "id": "k5dc1MHqoU2pcjWdxc3_Fg",
            "cell_type": "code",
            "source": [
                "fullAocBm = new Dictionary<AocStep,IEnumerable<AocStep>>()",
                "\n    {",
                "\n        //{new AocStep(\"BOP\",\"I\"), Enumerable.Empty<AocStep>()},",
                "\n        {new AocStep(\"MC\",\"I\"), new AocStep[]{new AocStep(\"BOP\",\"I\")}},",
                "\n        {new AocStep(\"RCU\",\"I\"), new AocStep[]{new AocStep(\"BOP\",\"I\"), new AocStep(\"MC\",\"I\")}},",
                "\n        {new AocStep(\"CF\",\"I\"), new AocStep[]{new AocStep(\"RCU\",\"I\"), new AocStep(\"BOP\",\"I\"), new AocStep(\"MC\",\"I\")}},",
                "\n        {new AocStep(\"IA\",\"I\"), new AocStep[]{new AocStep(\"RCU\",\"I\"), new AocStep(\"BOP\",\"I\"), new AocStep(\"MC\",\"I\"), new AocStep(\"CF\",\"I\")}},",
                "\n        {new AocStep(\"YCU\",\"I\"), new AocStep[]{new AocStep(\"IA\",\"I\"), new AocStep(\"RCU\",\"I\"), new AocStep(\"BOP\",\"I\"), new AocStep(\"MC\",\"I\"), new AocStep(\"CF\",\"I\")}},",
                "\n        {new AocStep(\"CRU\",\"I\"), new AocStep[]{new AocStep(\"YCU\",\"I\"), new AocStep(\"IA\",\"I\"), new AocStep(\"RCU\",\"I\"), new AocStep(\"BOP\",\"I\"), new AocStep(\"MC\",\"I\"), new AocStep(\"CF\",\"I\")}},",
                "\n        //{new AocStep(\"BOP\",\"N\"), Enumerable.Empty<AocStep>()},",
                "\n        {new AocStep(\"CF\",\"N\"), new AocStep[]{new AocStep(\"BOP\",\"N\")}},",
                "\n        {new AocStep(\"IA\",\"N\"), new AocStep[]{new AocStep(\"BOP\",\"N\"), new AocStep(\"CF\",\"N\")}},",
                "\n        {new AocStep(\"EV\",\"N\"), new AocStep[]{new AocStep(\"BOP\",\"N\"), new AocStep(\"CF\",\"N\"), new AocStep(\"IA\",\"N\")}},",
                "\n        ",
                "\n        {new AocStep(\"CL\",\"C\"), new AocStep[]{new AocStep(\"BOP\",\"I\"), new AocStep(\"MC\",\"I\"), new AocStep(\"RCU\",\"I\"), new AocStep(\"CF\",\"I\"), new AocStep(\"IA\",\"I\"), new AocStep(\"YCU\",\"I\"), new AocStep(\"CRU\",\"I\"),",
                "\n                                              new AocStep(\"BOP\",\"N\"), new AocStep(\"CF\",\"N\"), new AocStep(\"IA\",\"N\"), new AocStep(\"EV\",\"N\"),",
                "\n                                              }},",
                "\n        {new AocStep(\"EA\",\"C\"), new AocStep[]{new AocStep(\"BOP\",\"I\"), new AocStep(\"MC\",\"I\"), new AocStep(\"RCU\",\"I\"), new AocStep(\"CF\",\"I\"), new AocStep(\"IA\",\"I\"),new AocStep(\"YCU\",\"I\"), new AocStep(\"CRU\",\"I\"),",
                "\n                                              new AocStep(\"BOP\",\"N\"), new AocStep(\"CF\",\"N\"), new AocStep(\"IA\",\"N\"), new AocStep(\"EV\",\"N\"), ",
                "\n                                              new AocStep(\"CL\",\"C\"),",
                "\n                                             }},",
                "\n        {new AocStep(\"AM\",\"C\"), new AocStep[]{new AocStep(\"BOP\",\"I\"), new AocStep(\"MC\",\"I\"), new AocStep(\"RCU\",\"I\"), new AocStep(\"CF\",\"I\"), new AocStep(\"IA\",\"I\"),new AocStep(\"YCU\",\"I\"), new AocStep(\"CRU\",\"I\"),",
                "\n                                              new AocStep(\"BOP\",\"N\"), new AocStep(\"CF\",\"N\"), new AocStep(\"IA\",\"N\"), new AocStep(\"EV\",\"N\"), ",
                "\n                                              new AocStep(\"EA\",\"C\"), new AocStep(\"CL\",\"C\"),",
                "\n                                             }},",
                "\n        {new AocStep(\"EOP\",\"C\"), new AocStep[]{new AocStep(\"BOP\",\"I\"), new AocStep(\"MC\",\"I\"), new AocStep(\"RCU\",\"I\"), new AocStep(\"CF\",\"I\"), new AocStep(\"IA\",\"I\"),new AocStep(\"YCU\",\"I\"), new AocStep(\"CRU\",\"I\"),",
                "\n                                               new AocStep(\"BOP\",\"N\"), new AocStep(\"CF\",\"N\"), new AocStep(\"IA\",\"N\"), new AocStep(\"EV\",\"N\"), ",
                "\n                                               new AocStep(\"EA\",\"C\"), new AocStep(\"AM\",\"C\"), new AocStep(\"CL\",\"C\"),",
                "\n                                               }},",
                "\n        //{new AocStep(\"CF\",\"C\"), Enumerable.Empty<AocStep>()},",
                "\n        ",
                "\n    };"
            ],
            "metadata": {},
            "execution_count": 0,
            "outputs": []
        },
        {
            "id": "GkHniY46HUKrGmVv_6qDPQ",
            "cell_type": "code",
            "source": [
                "await CheckAocStepStructureAsync(inputRawVariables, parentBm, referenceBm, fullAocBm, parentBm_CDR)"
            ],
            "metadata": {},
            "execution_count": 0,
            "outputs": []
        },
        {
            "id": "guYoecdIMEWlmxcIIHzQzQ",
            "cell_type": "markdown",
            "source": [
                "## Cashflow: InForce, and Combined"
            ],
            "metadata": {},
            "execution_count": 0,
            "outputs": []
        },
        {
            "id": "HGPz7qKQ8USdBEpeDGF48w",
            "cell_type": "code",
            "source": [
                "var groupOfContract = \"DT1.1\";"
            ],
            "metadata": {},
            "execution_count": 0,
            "outputs": []
        },
        {
            "id": "Sf63ySq8tkGTQ5UaR0oKVA",
            "cell_type": "code",
            "source": [
                "inputRawVariables = new RawVariable[]{",
                "\n    new RawVariable{Partition = partition.Id, Values = new []{1.0}, DataNode = groupOfContract, AocType = \"BOP\", Novelty = \"I\", AccidentYear = null, AmountType = \"PR\", EstimateType = \"BE\"},",
                "\n    new RawVariable{Partition = partition.Id, Values = new []{1.0}, DataNode = groupOfContract, AocType = \"MC\", Novelty = \"I\", AccidentYear = null, AmountType = \"PR\", EstimateType = \"BE\"},",
                "\n    new RawVariable{Partition = partition.Id, Values = new []{1.0}, DataNode = groupOfContract, AocType = \"CL\", Novelty = \"C\", AccidentYear = null, AmountType = \"PR\", EstimateType = \"BE\"},",
                "\n};"
            ],
            "metadata": {},
            "execution_count": 0,
            "outputs": []
        },
        {
            "id": "KaaK7mJVwUSWnaoue4SJqQ",
            "cell_type": "code",
            "source": [
                "parentBm = new Dictionary<AocStep,IEnumerable<AocStep>>()",
                "\n    {",
                "\n        {new AocStep(\"MC\",\"I\"), new AocStep[]{new AocStep(\"BOP\",\"I\")}},",
                "\n        {new AocStep(\"YCU\",\"I\"), new AocStep[]{new AocStep(\"MC\",\"I\")}}, ",
                "\n        {new AocStep(\"CL\",\"C\"), new AocStep[]{new AocStep(\"YCU\",\"I\")}},",
                "\n    };"
            ],
            "metadata": {},
            "execution_count": 0,
            "outputs": []
        },
        {
            "id": "QSX2piY_C0KdG9ne8fVYdg",
            "cell_type": "code",
            "source": [
                "referenceBm = new Dictionary<AocStep,AocStep>()",
                "\n    {",
                "\n        {new AocStep(\"BOP\",\"I\"), new AocStep(\"BOP\",\"I\")},",
                "\n        {new AocStep(\"MC\",\"I\"), new AocStep(\"MC\",\"I\")},",
                "\n        {new AocStep(\"CF\",\"I\"), new AocStep(\"MC\",\"I\")},",
                "\n        {new AocStep(\"IA\",\"I\"), new AocStep(\"MC\",\"I\")},",
                "\n        {new AocStep(\"YCU\",\"I\"), new AocStep(\"MC\",\"I\")}, ",
                "\n        {new AocStep(\"CL\",\"C\"), new AocStep(\"CL\",\"C\")},",
                "\n        {new AocStep(\"EA\",\"C\"), new AocStep(\"CF\",\"C\")},",
                "\n        {new AocStep(\"AM\",\"C\"), new AocStep(\"CL\",\"C\")},",
                "\n        {new AocStep(\"EOP\",\"C\"), new AocStep(\"CL\",\"C\")},",
                "\n        {new AocStep(\"CF\",\"C\"), new AocStep(\"CF\",\"C\")},",
                "\n    };"
            ],
            "metadata": {},
            "execution_count": 0,
            "outputs": []
        },
        {
            "id": "Fak7zdkvIkC1l1YD0Aj0sg",
            "cell_type": "code",
            "source": [
                "fullAocBm = new Dictionary<AocStep,IEnumerable<AocStep>>()",
                "\n    {",
                "\n        //{new AocStep(\"BOP\",\"I\"), Enumerable.Empty<AocStep>()},",
                "\n        {new AocStep(\"MC\",\"I\"), new AocStep[]{new AocStep(\"BOP\",\"I\")}},",
                "\n        {new AocStep(\"CF\",\"I\"), new AocStep[]{new AocStep(\"BOP\",\"I\"), new AocStep(\"MC\",\"I\")}},",
                "\n        {new AocStep(\"IA\",\"I\"), new AocStep[]{new AocStep(\"BOP\",\"I\"), new AocStep(\"MC\",\"I\"), new AocStep(\"CF\",\"I\")}},",
                "\n        {new AocStep(\"YCU\",\"I\"), new AocStep[]{new AocStep(\"BOP\",\"I\"), new AocStep(\"MC\",\"I\"), new AocStep(\"CF\",\"I\"), new AocStep(\"IA\",\"I\")}},",
                "\n        ",
                "\n        {new AocStep(\"CL\",\"C\"), new AocStep[]{new AocStep(\"BOP\",\"I\"), new AocStep(\"MC\",\"I\"), new AocStep(\"CF\",\"I\"), new AocStep(\"IA\",\"I\"), new AocStep(\"YCU\",\"I\"), ",
                "\n                                            }},",
                "\n    ",
                "\n        {new AocStep(\"EA\",\"C\"), new AocStep[]{new AocStep(\"BOP\",\"I\"), new AocStep(\"MC\",\"I\"),new AocStep(\"CF\",\"I\"), new AocStep(\"IA\",\"I\"), new AocStep(\"YCU\",\"I\"),",
                "\n                                              new AocStep(\"CL\",\"C\"),}},",
                "\n        {new AocStep(\"AM\",\"C\"), new AocStep[]{new AocStep(\"BOP\",\"I\"), new AocStep(\"MC\",\"I\"),new AocStep(\"CF\",\"I\"), new AocStep(\"IA\",\"I\"), new AocStep(\"YCU\",\"I\"),",
                "\n                                              new AocStep(\"CL\",\"C\"), new AocStep(\"EA\",\"C\"),}},",
                "\n        {new AocStep(\"EOP\",\"C\"), new AocStep[]{new AocStep(\"BOP\",\"I\"), new AocStep(\"MC\",\"I\"),new AocStep(\"CF\",\"I\"), new AocStep(\"IA\",\"I\"), new AocStep(\"YCU\",\"I\"),",
                "\n                                               new AocStep(\"CL\",\"C\"), new AocStep(\"EA\",\"C\"), new AocStep(\"AM\",\"C\"),}},",
                "\n        //{new AocStep(\"CF\",\"C\"), Enumerable.Empty<AocStep>()},",
                "\n    };"
            ],
            "metadata": {},
            "execution_count": 0,
            "outputs": []
        },
        {
            "id": "xgu3KyxyS0qhfrgTKtizsg",
            "cell_type": "code",
            "source": [
                "await CheckAocStepStructureAsync(inputRawVariables, parentBm, referenceBm, fullAocBm)"
            ],
            "metadata": {},
            "execution_count": 0,
            "outputs": []
        },
        {
            "id": "X1502DLXY02s1r0_b52wOg",
            "cell_type": "markdown",
            "source": [
                "## Actual"
            ],
            "metadata": {},
            "execution_count": 0,
            "outputs": []
        },
        {
            "id": "amqQ0iZSr0-rVqn922luLA",
            "cell_type": "code",
            "source": [
                "var groupOfContract = \"DT1.1\";"
            ],
            "metadata": {},
            "execution_count": 0,
            "outputs": []
        },
        {
            "id": "mfksBUzkJkW35KTI2-C94g",
            "cell_type": "code",
            "source": [
                "var inputIfrsVariables = new IfrsVariable[]{",
                "\n    new IfrsVariable{Partition = partition.Id, Value = 1.0, DataNode = groupOfContract, AocType = \"BOP\", Novelty = \"C\", AccidentYear = null, AmountType = \"PR\", EstimateType = \"AA\"},",
                "\n    new IfrsVariable{Partition = partition.Id, Value = 1.0, DataNode = groupOfContract, AocType = \"CF\", Novelty = \"C\", AccidentYear = null, AmountType = \"PR\", EstimateType = \"AA\"},",
                "\n    new IfrsVariable{Partition = partition.Id, Value = 1.0, DataNode = groupOfContract, AocType = \"CF\", Novelty = \"C\", AccidentYear = null, AmountType = \"ACA\", EstimateType = \"A\"},",
                "\n    new IfrsVariable{Partition = partition.Id, Value = 1.0, DataNode = groupOfContract, AocType = \"WO\", Novelty = \"C\", AccidentYear = null, AmountType = \"PR\", EstimateType = \"OA\"},",
                "\n};"
            ],
            "metadata": {},
            "execution_count": 0,
            "outputs": []
        },
        {
            "id": "tK_XOkV8b0yydo5YtlqfVg",
            "cell_type": "code",
            "source": [
                "parentBm = null;"
            ],
            "metadata": {},
            "execution_count": 0,
            "outputs": []
        },
        {
            "id": "Xw_VuLKwH0Kfn07yp6gjKA",
            "cell_type": "code",
            "source": [
                "referenceBm = null;"
            ],
            "metadata": {},
            "execution_count": 0,
            "outputs": []
        },
        {
            "id": "OKPH78BD7EeycBSAG-jO2g",
            "cell_type": "code",
            "source": [
                "fullAocBm = new Dictionary<AocStep,IEnumerable<AocStep>>()",
                "\n    {",
                "\n        //{new AocStep(\"BOP\",\"I\"), Enumerable.Empty<AocStep>()},",
                "\n        {new AocStep(\"CF\",\"C\"), new AocStep[]{new AocStep(\"BOP\",\"I\"),}},",
                "\n        {new AocStep(\"WO\",\"C\"), new AocStep[]{new AocStep(\"BOP\",\"I\"), new AocStep(\"CF\",\"C\"),}},",
                "\n        {new AocStep(\"AM\",\"C\"), new AocStep[]{new AocStep(\"BOP\",\"I\"), new AocStep(\"CF\",\"C\"), new AocStep(\"WO\",\"C\"),}},",
                "\n        {new AocStep(\"EOP\",\"C\"), new AocStep[]{new AocStep(\"BOP\",\"I\"), new AocStep(\"CF\",\"C\"), new AocStep(\"WO\",\"C\"), new AocStep(\"AM\",\"C\"),}},",
                "\n    };"
            ],
            "metadata": {},
            "execution_count": 0,
            "outputs": []
        },
        {
            "id": "Luj0B1G2L0Sow0D-Fxa4og",
            "cell_type": "code",
            "source": [
                "await CheckAocStepStructureAsync(inputIfrsVariables, parentBm, referenceBm, fullAocBm)"
            ],
            "metadata": {},
            "execution_count": 0,
            "outputs": []
        },
        {
            "id": "llxqbac2EEuHKqpB6un3FA",
            "cell_type": "code",
            "source": [
                ""
            ],
            "metadata": {},
            "execution_count": 0,
            "outputs": []
        }
    ]
}