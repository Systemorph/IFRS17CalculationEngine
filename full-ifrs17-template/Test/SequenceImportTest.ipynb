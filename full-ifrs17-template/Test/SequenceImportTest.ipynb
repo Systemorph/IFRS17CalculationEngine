{
    "metadata": {
        "authors": [],
        "kernelspec": {
            "display_name": "Formula Framework",
            "language": "C#",
            "name": "C#"
        },
        "language_info": {
            "file_extension": ".cs",
            "mimetype": "text/plain",
            "name": "C#"
        }
    },
    "nbformat": 4,
    "nbformat_minor": 5,
    "cells": [
        {
            "id": "lT6-ULeaLkCjHnJPRMVzZw",
            "cell_type": "code",
            "source": [
                "#!eval-notebook \"../Initialization/InitSystemorphBaseToMemory\""
            ],
            "metadata": {},
            "execution_count": 0,
            "outputs": []
        },
        {
            "id": "r8NoIEbwSUOe4IGLlZFmKw",
            "cell_type": "markdown",
            "source": [
                "# Cashflow -> Actuals"
            ],
            "metadata": {},
            "execution_count": 0,
            "outputs": []
        },
        {
            "id": "0gDULLGzvEW8v5jg0vRrjQ",
            "cell_type": "code",
            "source": [
                "var ws1 = Workspace.CreateNew();",
                "\nws1.InitializeFrom(DataSource);"
            ],
            "metadata": {},
            "execution_count": 0,
            "outputs": []
        },
        {
            "id": "Pz3H5OYg0E26NZvdiCWCeg",
            "cell_type": "code",
            "source": [
                "await Import.FromFile(\"../Files/TransactionalData/NominalCashflows_CH_2020_12.csv\").WithFormat(ImportFormats.Cashflow).WithTarget(ws1).ExecuteAsync()"
            ],
            "metadata": {},
            "execution_count": 0,
            "outputs": []
        },
        {
            "id": "0kv-mqLlQkquKj4WurtKzQ",
            "cell_type": "code",
            "source": [
                "await Import.FromFile(\"../Files/TransactionalData/Actuals_CH_2020_12.csv\").WithFormat(ImportFormats.Actual).WithTarget(ws1).ExecuteAsync()"
            ],
            "metadata": {},
            "execution_count": 0,
            "outputs": []
        },
        {
            "id": "2UA1ZnfH3UipDQ1TnW8J9A",
            "cell_type": "code",
            "source": [
                "ws1.Reset(x => x.ResetInitializationRules().ResetCurrentPartitions());",
                "\nws1.Initialize(x => x.FromSource(DataSource));"
            ],
            "metadata": {},
            "execution_count": 0,
            "outputs": []
        },
        {
            "id": "6Zv5wDEHp0ejngPzm70Uug",
            "cell_type": "code",
            "source": [
                "var ifrsVars1 = await ws1.Query<IfrsVariable>().ToArrayAsync();",
                "\nifrsVars1.Count()"
            ],
            "metadata": {},
            "execution_count": 0,
            "outputs": []
        },
        {
            "id": "6Ptjc2FbG0-LBe6nw1BIdA",
            "cell_type": "markdown",
            "source": [
                "# Actuals -> Cashflow"
            ],
            "metadata": {},
            "execution_count": 0,
            "outputs": []
        },
        {
            "id": "82iAzppfNkqb5SpUKsi8pA",
            "cell_type": "code",
            "source": [
                "var ws2 = Workspace.CreateNew();",
                "\nws2.InitializeFrom(DataSource);"
            ],
            "metadata": {},
            "execution_count": 0,
            "outputs": []
        },
        {
            "id": "UgadDCbuM0qHwMnrQkN-TQ",
            "cell_type": "code",
            "source": [
                "await Import.FromFile(\"../Files/TransactionalData/Actuals_CH_2020_12.csv\").WithFormat(ImportFormats.Actual).WithTarget(ws2).ExecuteAsync()"
            ],
            "metadata": {},
            "execution_count": 0,
            "outputs": []
        },
        {
            "id": "4S9H9rEKb0yCeAF4IyKWMw",
            "cell_type": "code",
            "source": [
                "await Import.FromFile(\"../Files/TransactionalData/NominalCashflows_CH_2020_12.csv\").WithFormat(ImportFormats.Cashflow).WithTarget(ws2).ExecuteAsync()"
            ],
            "metadata": {},
            "execution_count": 0,
            "outputs": []
        },
        {
            "id": "JqkyqzHW9Eazf8YuELjfOg",
            "cell_type": "code",
            "source": [
                "ws2.Reset(x => x.ResetInitializationRules().ResetCurrentPartitions());",
                "\nws2.Initialize(x => x.FromSource(DataSource));"
            ],
            "metadata": {},
            "execution_count": 0,
            "outputs": []
        },
        {
            "id": "EpWHnU8f10qpBtUfsHT6MA",
            "cell_type": "code",
            "source": [
                "var ifrsVars2 = await ws2.Query<IfrsVariable>().ToArrayAsync();",
                "\nifrsVars2.Count()"
            ],
            "metadata": {},
            "execution_count": 0,
            "outputs": []
        },
        {
            "id": "HNS3Oub88kqttNJZXJ3xjw",
            "cell_type": "markdown",
            "source": [
                "# Test"
            ],
            "metadata": {},
            "execution_count": 0,
            "outputs": []
        },
        {
            "id": "XHa4H0YDOEuNvjfy0CL-8A",
            "cell_type": "code",
            "source": [
                "ifrsVars1.Except(ifrsVars2, IfrsVariableComparer.Instance()).Count().Should().Be(0);"
            ],
            "metadata": {},
            "execution_count": 0,
            "outputs": []
        },
        {
            "id": "q7E4H2BDAke4TLC0oSQtuA",
            "cell_type": "code",
            "source": [
                ""
            ],
            "metadata": {},
            "execution_count": 0,
            "outputs": []
        }
    ]
}