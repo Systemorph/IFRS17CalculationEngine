{
    "metadata": {
        "authors": [],
        "kernelspec": {
            "display_name": "Formula Framework",
            "language": "C#",
            "name": "C#"
        },
        "language_info": {
            "file_extension": ".cs",
            "mimetype": "text/plain",
            "name": "C#"
        }
    },
    "nbformat": 4,
    "nbformat_minor": 5,
    "cells": [
        {
            "cell_type": "code",
            "source": [
                "#!eval-notebook \"../Initialization/InitSystemorphBaseToMemory\""
            ]
        },
        {
            "cell_type": "markdown",
            "source": [
                "# Cashflow -> Actuals"
            ]
        },
        {
            "cell_type": "code",
            "source": [
                "var ws1 = Workspace.CreateNew();",
                "\nws1.InitializeFrom(DataSource);"
            ]
        },
        {
            "cell_type": "code",
            "source": [
                "await Import.FromFile(\"../Files/900.TransactionalData/NominalCashflows_CH_2020_12.csv\").WithFormat(ImportFormats.Cashflow).WithTarget(ws1).ExecuteAsync()"
            ]
        },
        {
            "cell_type": "code",
            "source": [
                "await Import.FromFile(\"../Files/900.TransactionalData/Actuals_CH_2020_12.csv\").WithFormat(ImportFormats.Actual).WithTarget(ws1).ExecuteAsync()"
            ]
        },
        {
            "cell_type": "code",
            "source": [
                "ws1.Reset(x => x.ResetInitializationRules().ResetCurrentPartitions());",
                "\nws1.Initialize(x => x.FromSource(DataSource));"
            ]
        },
        {
            "cell_type": "code",
            "source": [
                "var ifrsVars1 = await ws1.Query<IfrsVariable>().ToArrayAsync();",
                "\nifrsVars1.Count()"
            ]
        },
        {
            "cell_type": "markdown",
            "source": [
                "# Actuals -> Cashflow"
            ]
        },
        {
            "cell_type": "code",
            "source": [
                "var ws2 = Workspace.CreateNew();",
                "\nws2.InitializeFrom(DataSource);"
            ]
        },
        {
            "cell_type": "code",
            "source": [
                "await Import.FromFile(\"../Files/900.TransactionalData/Actuals_CH_2020_12.csv\").WithFormat(ImportFormats.Actual).WithTarget(ws2).ExecuteAsync()"
            ]
        },
        {
            "cell_type": "code",
            "source": [
                "await Import.FromFile(\"../Files/900.TransactionalData/NominalCashflows_CH_2020_12.csv\").WithFormat(ImportFormats.Cashflow).WithTarget(ws2).ExecuteAsync()"
            ]
        },
        {
            "cell_type": "code",
            "source": [
                "ws2.Reset(x => x.ResetInitializationRules().ResetCurrentPartitions());",
                "\nws2.Initialize(x => x.FromSource(DataSource));"
            ]
        },
        {
            "cell_type": "code",
            "source": [
                "var ifrsVars2 = await ws2.Query<IfrsVariable>().ToArrayAsync();",
                "\nifrsVars2.Count()"
            ]
        },
        {
            "cell_type": "markdown",
            "source": [
                "# Test"
            ]
        },
        {
            "cell_type": "code",
            "source": [
                "ifrsVars1.Except(ifrsVars2, IfrsVariableComparer.Instance())"
            ]
        }
    ]
}