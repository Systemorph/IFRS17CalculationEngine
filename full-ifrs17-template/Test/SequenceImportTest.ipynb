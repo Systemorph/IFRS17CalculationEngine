{
    "metadata": {
        "authors": [],
        "kernelspec": {
            "display_name": "Formula Framework",
            "language": "C#",
            "name": "C#"
        },
        "language_info": {
            "file_extension": ".cs",
            "mimetype": "text/plain",
            "name": "C#"
        }
    },
    "nbformat": 4,
    "nbformat_minor": 5,
    "cells": [
        {
            "id": "HHmHJcVFz0ynhwn1ndamdQ",
            "cell_type": "code",
            "source": [
                "#!eval-notebook \"../Initialization/InitSystemorphBaseToMemory\""
            ],
            "metadata": {},
            "execution_count": 0,
            "outputs": []
        },
        {
            "id": "9_QRCK_3Ak650X7IU_i3pg",
            "cell_type": "markdown",
            "source": [
                "# Cashflow -> Actuals"
            ],
            "metadata": {},
            "execution_count": 0,
            "outputs": []
        },
        {
            "id": "LJFqm9IszUuAVVCZLuf-Dg",
            "cell_type": "code",
            "source": [
                "var ws1 = Workspace.CreateNew();",
                "\nws1.InitializeFrom(DataSource);"
            ],
            "metadata": {},
            "execution_count": 0,
            "outputs": []
        },
        {
            "id": "OSnXFzMyt0mODbMSzsfw8Q",
            "cell_type": "code",
            "source": [
                "await Import.FromFile(\"../Files/TransactionalData/NominalCashflows_CH_2020_12.csv\").WithFormat(ImportFormats.Cashflow).WithTarget(ws1).ExecuteAsync()"
            ],
            "metadata": {},
            "execution_count": 0,
            "outputs": []
        },
        {
            "id": "OjDhT04mE0SrR0_iY-AEzA",
            "cell_type": "code",
            "source": [
                "await Import.FromFile(\"../Files/TransactionalData/Actuals_CH_2020_12.csv\").WithFormat(ImportFormats.Actual).WithTarget(ws1).ExecuteAsync()"
            ],
            "metadata": {},
            "execution_count": 0,
            "outputs": []
        },
        {
            "id": "EuPySBFenkyfqEg-88AVYQ",
            "cell_type": "code",
            "source": [
                "ws1.Reset(x => x.ResetInitializationRules().ResetCurrentPartitions());",
                "\nws1.Initialize(x => x.FromSource(DataSource));"
            ],
            "metadata": {},
            "execution_count": 0,
            "outputs": []
        },
        {
            "id": "zRkLp4YYh06NgUS42YDmww",
            "cell_type": "code",
            "source": [
                "var ifrsVars1 = await ws1.Query<IfrsVariable>().ToArrayAsync();",
                "\nifrsVars1.Count()"
            ],
            "metadata": {},
            "execution_count": 0,
            "outputs": []
        },
        {
            "id": "gXyM_0vXRUmUN2nVHeKBmQ",
            "cell_type": "markdown",
            "source": [
                "# Actuals -> Cashflow"
            ],
            "metadata": {},
            "execution_count": 0,
            "outputs": []
        },
        {
            "id": "yQVWyOm6yUC1KAdO2wlKAA",
            "cell_type": "code",
            "source": [
                "var ws2 = Workspace.CreateNew();",
                "\nws2.InitializeFrom(DataSource);"
            ],
            "metadata": {},
            "execution_count": 0,
            "outputs": []
        },
        {
            "id": "U0Fw0pYp-E-UPP3x6tTcYg",
            "cell_type": "code",
            "source": [
                "await Import.FromFile(\"../Files/TransactionalData/Actuals_CH_2020_12.csv\").WithFormat(ImportFormats.Actual).WithTarget(ws2).ExecuteAsync()"
            ],
            "metadata": {},
            "execution_count": 0,
            "outputs": []
        },
        {
            "id": "FtSWSuDI_k-J9MgOaPs4zA",
            "cell_type": "code",
            "source": [
                "await Import.FromFile(\"../Files/TransactionalData/NominalCashflows_CH_2020_12.csv\").WithFormat(ImportFormats.Cashflow).WithTarget(ws2).ExecuteAsync()"
            ],
            "metadata": {},
            "execution_count": 0,
            "outputs": []
        },
        {
            "id": "1qUN_bce4EC7PhOzOnWd6g",
            "cell_type": "code",
            "source": [
                "ws2.Reset(x => x.ResetInitializationRules().ResetCurrentPartitions());",
                "\nws2.Initialize(x => x.FromSource(DataSource));"
            ],
            "metadata": {},
            "execution_count": 0,
            "outputs": []
        },
        {
            "id": "b7JVW20cy0SP4lxyaRWRlA",
            "cell_type": "code",
            "source": [
                "var ifrsVars2 = await ws2.Query<IfrsVariable>().ToArrayAsync();",
                "\nifrsVars2.Count()"
            ],
            "metadata": {},
            "execution_count": 0,
            "outputs": []
        },
        {
            "id": "-MzpgZ3PC0WYNdM_TgZJCQ",
            "cell_type": "markdown",
            "source": [
                "# Test"
            ],
            "metadata": {},
            "execution_count": 0,
            "outputs": []
        },
        {
            "id": "J25d8jG4akKQRUUQbotmsA",
            "cell_type": "code",
            "source": [
                "ifrsVars1.Except(ifrsVars2, IfrsVariableComparer.Instance()).Count().Should().Be(0);"
            ],
            "metadata": {},
            "execution_count": 0,
            "outputs": []
        },
        {
            "id": "A_CSlqanOkKzjrN2gGko3w",
            "cell_type": "code",
            "source": [
                ""
            ],
            "metadata": {},
            "execution_count": 0,
            "outputs": []
        }
    ]
}