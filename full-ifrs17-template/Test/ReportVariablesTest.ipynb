{
    "metadata": {
        "authors": [],
        "kernelspec": {
            "display_name": "Formula Framework",
            "language": "C#",
            "name": "C#"
        },
        "language_info": {
            "file_extension": ".cs",
            "mimetype": "text/plain",
            "name": "C#"
        },
        "toc-autonumbering": "True",
        "toc-showcode": "False"
    },
    "nbformat": 4,
    "nbformat_minor": 5,
    "cells": [
        {
            "cell_type": "markdown",
            "source": [
                "<p style=\"font-weight:bold;\"> <span style=\"font-size: 36px\"> Test Reports </span> </p>"
            ],
            "metadata": {},
            "execution_count": 0,
            "outputs": []
        },
        {
            "cell_type": "markdown",
            "source": [
                "# Infrastructure and Configuration"
            ],
            "metadata": {},
            "execution_count": 0,
            "outputs": []
        },
        {
            "cell_type": "markdown",
            "source": [
                "## Imports and Configurations"
            ],
            "metadata": {},
            "execution_count": 0,
            "outputs": []
        },
        {
            "cell_type": "code",
            "source": [
                "#r \"nuget:FluentAssertions\" "
            ],
            "metadata": {},
            "execution_count": 0,
            "outputs": []
        },
        {
            "cell_type": "code",
            "source": [
                "#!import \"ReportVariablesTestBase\""
            ],
            "metadata": {},
            "execution_count": 0,
            "outputs": []
        },
        {
            "cell_type": "markdown",
            "source": [
                "## Initialize Workspace"
            ],
            "metadata": {},
            "execution_count": 0,
            "outputs": []
        },
        {
            "cell_type": "code",
            "source": [
                "#!eval-notebook \"../Initialization/InitSystemorphToMemory\""
            ],
            "metadata": {},
            "execution_count": 0,
            "outputs": []
        },
        {
            "cell_type": "code",
            "source": [
                "Workspace.InitializeFrom(DataSource);"
            ],
            "metadata": {},
            "execution_count": 0,
            "outputs": []
        },
        {
            "cell_type": "markdown",
            "source": [
                "## Initialize Workspace"
            ]
        },
        {
            "cell_type": "code",
            "source": [
                "#!eval-notebook \"../Initialization/InitSystemorphToMemory\""
            ]
        },
        {
            "cell_type": "code",
            "source": [
                "Workspace.InitializeFrom(DataSource);"
            ]
        },
        {
            "cell_type": "markdown",
            "source": [
                "## Storage"
            ],
            "metadata": {},
            "execution_count": 0,
            "outputs": []
        },
        {
            "cell_type": "code",
            "source": [
                "var reportStorage = new ReportStorage(Workspace, Report);",
                "\nawait reportStorage.InitializeReportIndependentCacheAsync();"
            ],
            "metadata": {},
            "execution_count": 0,
            "outputs": []
        },
        {
            "cell_type": "markdown",
            "source": [
                "## Configurations"
            ],
            "metadata": {},
            "execution_count": 0,
            "outputs": []
        },
        {
            "cell_type": "code",
            "source": [
                "var path = \"./Data/ReportVariableBenchmarks/\";"
            ],
            "metadata": {},
            "execution_count": 0,
            "outputs": []
        },
        {
            "cell_type": "code",
            "source": [
                "((int Year, int Month) Period, string ReportingNode, string Scenario, CurrencyType CurrencyType) args;",
                "\nICollection<ReportVariable> scopesData;",
                "\nICollection<ReportVariable> benchmarkData;"
            ],
            "metadata": {},
            "execution_count": 0,
            "outputs": []
        },
        {
            "cell_type": "markdown",
            "source": [
                "# Test Cases"
            ],
            "metadata": {},
            "execution_count": 0,
            "outputs": []
        },
        {
            "cell_type": "markdown",
            "source": [
                "## ((2020, 12), \"CH\", null, CurrencyType.Contractual)"
            ],
            "metadata": {},
            "execution_count": 0,
            "outputs": []
        },
        {
            "cell_type": "code",
            "source": [
                "args = ((2020, 12), \"CH\", null, CurrencyType.Contractual);"
            ],
            "metadata": {},
            "execution_count": 0,
            "outputs": []
        },
        {
            "cell_type": "code",
            "source": [
                "scopesData = await GetScopesDataAsync(args, reportStorage, Scopes);",
                "\nbenchmarkData = await GetBenchmarkDataAsync(args, path, Workspace, Import);"
            ],
            "metadata": {},
            "execution_count": 0,
            "outputs": []
        },
        {
            "cell_type": "code",
            "source": [
                "scopesData.Should().BeEquivalentTo(benchmarkData,",
                "\n                                   options => options",
                "\n                                   //.ComparingRecordsByValue()",
                "\n                                   .ComparingRecordsByMembers() ",
                "\n                                   //.ComparingByMembers<ReportVariable>()",
                "\n                                   //.ComparingByValue<ReportVariable>()",
                "\n                                   //.Excluding(o => o.Value)",
                "\n                                   .Using<double>(ctx => ctx.Subject.Should().BeApproximately(ctx.Expectation, BenchmarkPrecision))",
                "\n                                   .WhenTypeIs<double>()",
                "\n                                  );"
            ],
            "metadata": {},
            "execution_count": 0,
            "outputs": []
        },
        {
            "cell_type": "markdown",
            "source": [
                "## ((2021, 3), \"CH\", null, CurrencyType.Contractual)"
            ],
            "metadata": {},
            "execution_count": 0,
            "outputs": []
        },
        {
            "cell_type": "code",
            "source": [
                "args = ((2021, 3), \"CH\", null, CurrencyType.Contractual);"
            ],
            "metadata": {},
            "execution_count": 0,
            "outputs": []
        },
        {
            "cell_type": "code",
            "source": [
                "scopesData = await GetScopesDataAsync(args, reportStorage, Scopes);",
                "\nbenchmarkData = await GetBenchmarkDataAsync(args, path, Workspace, Import);"
            ],
            "metadata": {},
            "execution_count": 0,
            "outputs": []
        },
        {
            "cell_type": "code",
            "source": [
                "scopesData.Should().BeEquivalentTo(benchmarkData,",
                "\n                                   options => options",
                "\n                                   //.ComparingRecordsByValue()",
                "\n                                   .ComparingRecordsByMembers() ",
                "\n                                   //.ComparingByMembers<ReportVariable>()",
                "\n                                   //.ComparingByValue<ReportVariable>()",
                "\n                                   //.Excluding(o => o.Value)",
                "\n                                   .Using<double>(ctx => ctx.Subject.Should().BeApproximately(ctx.Expectation, Precision))",
                "\n                                   .WhenTypeIs<double>()",
                "\n                                  );"
            ],
            "metadata": {},
            "execution_count": 0,
            "outputs": []
        },
        {
            "cell_type": "code",
            "source": [
                ""
            ],
            "metadata": {},
            "execution_count": 0,
            "outputs": []
        }
    ]
}