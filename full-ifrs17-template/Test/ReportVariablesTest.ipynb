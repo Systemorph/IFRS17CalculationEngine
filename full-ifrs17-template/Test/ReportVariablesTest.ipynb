{
    "metadata": {
        "authors": [],
        "kernelspec": {
            "display_name": "Formula Framework",
            "language": "C#",
            "name": "C#"
        },
        "language_info": {
            "file_extension": ".cs",
            "mimetype": "text/plain",
            "name": "C#"
        },
        "toc-autonumbering": "True",
        "toc-showcode": "False"
    },
    "nbformat": 4,
    "nbformat_minor": 5,
    "cells": [
        {
            "id": "6Qj7tfi3vkOnT-w3p9YgWQ",
            "cell_type": "markdown",
            "source": [
                "<p style=\"font-weight:bold;\"> <span style=\"font-size: 36px\"> Test Reports </span> </p>"
            ],
            "metadata": {},
            "execution_count": 0,
            "outputs": []
        },
        {
            "id": "UM4YbDkSHEuUsW4JcFChRg",
            "cell_type": "markdown",
            "source": [
                "# Infrastructure and Configuration"
            ],
            "metadata": {},
            "execution_count": 0,
            "outputs": []
        },
        {
            "id": "xvEmTES-N0WidQFXWsFCQQ",
            "cell_type": "markdown",
            "source": [
                "## Imports and Configurations"
            ],
            "metadata": {},
            "execution_count": 0,
            "outputs": []
        },
        {
            "id": "aw_PBwJwu0ipHu9pIwD3tg",
            "cell_type": "code",
            "source": [
                "#r \"nuget:FluentAssertions\" "
            ],
            "metadata": {},
            "execution_count": 0,
            "outputs": []
        },
        {
            "id": "Aj7JTSYAZkCmmPiRudmVww",
            "cell_type": "code",
            "source": [
                "#!import \"ReportVariablesTestBase\""
            ],
            "metadata": {},
            "execution_count": 0,
            "outputs": []
        },
        {
            "id": "hWZ0y59Y1EuKvuJldsb1Kg",
            "cell_type": "markdown",
            "source": [
                "## Storage"
            ],
            "metadata": {},
            "execution_count": 0,
            "outputs": []
        },
        {
            "id": "Rk4MAZ7TrEK8mnR_hvNpuw",
            "cell_type": "code",
            "source": [
                "var reportStorage = new ReportStorage(Workspace, Report);",
                "\nawait reportStorage.InitializeReportIndependentCacheAsync();"
            ],
            "metadata": {},
            "execution_count": 0,
            "outputs": []
        },
        {
            "id": "yvriIBPgs0u7EwAg2KsrHA",
            "cell_type": "markdown",
            "source": [
                "## Configurations"
            ],
            "metadata": {},
            "execution_count": 0,
            "outputs": []
        },
        {
            "id": "FQUFzGUxL0OitivlfXmmGw",
            "cell_type": "code",
            "source": [
                "var path = \"./Data/ReportVariableBenchmarks/\";"
            ],
            "metadata": {},
            "execution_count": 0,
            "outputs": []
        },
        {
            "id": "sK8KQAKoMES0onAOQkKVdA",
            "cell_type": "code",
            "source": [
                "((int Year, int Month) Period, string ReportingNode, string Scenario, CurrencyType CurrencyType) args;",
                "\nICollection<ReportVariable> scopesData;",
                "\nICollection<ReportVariable> benchmarkData;"
            ],
            "metadata": {},
            "execution_count": 0,
            "outputs": []
        },
        {
            "id": "V9KwMMRk40SC9ornqY_k5g",
            "cell_type": "markdown",
            "source": [
                "# Test Cases"
            ],
            "metadata": {},
            "execution_count": 0,
            "outputs": []
        },
        {
            "id": "_roffpl1UUKF4fLEZqKg0Q",
            "cell_type": "markdown",
            "source": [
                "## ((2020, 12), \"CH\", null, CurrencyType.Contractual)"
            ],
            "metadata": {},
            "execution_count": 0,
            "outputs": []
        },
        {
            "id": "ptiCiqLIQ0uI9Tb6XSNqSQ",
            "cell_type": "code",
            "source": [
                "args = ((2020, 12), \"CH\", null, CurrencyType.Contractual);"
            ],
            "metadata": {},
            "execution_count": 0,
            "outputs": []
        },
        {
            "id": "q6_QAx8lTUu1oTvILKmzcQ",
            "cell_type": "code",
            "source": [
                "scopesData = await GetScopesDataAsync(args, reportStorage, Scopes);",
                "\nbenchmarkData = await GetBenchmarkDataAsync(args, path, Workspace, Import);"
            ],
            "metadata": {},
            "execution_count": 0,
            "outputs": []
        },
        {
            "id": "Im_UhvGKOU-uAPZdcp0PIA",
            "cell_type": "code",
            "source": [
                "scopesData.Should().BeEquivalentTo(benchmarkData,",
                "\n                                   options => options",
                "\n                                   //.ComparingRecordsByValue()",
                "\n                                   .ComparingRecordsByMembers() ",
                "\n                                   //.ComparingByMembers<ReportVariable>()",
                "\n                                   //.ComparingByValue<ReportVariable>()",
                "\n                                   //.Excluding(o => o.Value)",
                "\n                                   .Using<double>(ctx => ctx.Subject.Should().BeApproximately(ctx.Expectation, BenchmarkPrecision))",
                "\n                                   .WhenTypeIs<double>()",
                "\n                                  );"
            ],
            "metadata": {},
            "execution_count": 0,
            "outputs": []
        },
        {
            "id": "dR5WAB4PeEeKqld-VlpYVw",
            "cell_type": "markdown",
            "source": [
                "## ((2021, 3), \"CH\", null, CurrencyType.Contractual)"
            ],
            "metadata": {},
            "execution_count": 0,
            "outputs": []
        },
        {
            "id": "qVwg04dgvUeSquF9Lrj4Dg",
            "cell_type": "code",
            "source": [
                "args = ((2021, 3), \"CH\", null, CurrencyType.Contractual);"
            ],
            "metadata": {},
            "execution_count": 0,
            "outputs": []
        },
        {
            "id": "p2z3CAe6skmyYHeqR1JfPw",
            "cell_type": "code",
            "source": [
                "scopesData = await GetScopesDataAsync(args, reportStorage, Scopes);",
                "\nbenchmarkData = await GetBenchmarkDataAsync(args, path, Workspace, Import);"
            ],
            "metadata": {},
            "execution_count": 0,
            "outputs": []
        },
        {
            "id": "2bT9sTmj9EGuOx9tvy1Q8w",
            "cell_type": "code",
            "source": [
                "scopesData.Should().BeEquivalentTo(benchmarkData,",
                "\n                                   options => options",
                "\n                                   //.ComparingRecordsByValue()",
                "\n                                   .ComparingRecordsByMembers() ",
                "\n                                   //.ComparingByMembers<ReportVariable>()",
                "\n                                   //.ComparingByValue<ReportVariable>()",
                "\n                                   //.Excluding(o => o.Value)",
                "\n                                   .Using<double>(ctx => ctx.Subject.Should().BeApproximately(ctx.Expectation, Precision))",
                "\n                                   .WhenTypeIs<double>()",
                "\n                                  );"
            ],
            "metadata": {},
            "execution_count": 0,
            "outputs": []
        },
        {
            "id": "sPerra1BTkak-g43wAsRqw",
            "cell_type": "code",
            "source": [
                ""
            ],
            "metadata": {},
            "execution_count": 0,
            "outputs": []
        }
    ]
}