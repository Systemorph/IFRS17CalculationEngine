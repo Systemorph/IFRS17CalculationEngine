{
    "metadata": {
        "authors": [],
        "kernelspec": {
            "display_name": "Formula Framework",
            "language": "C#",
            "name": "C#"
        },
        "language_info": {
            "file_extension": ".cs",
            "mimetype": "text/plain",
            "name": "C#"
        },
        "toc-autonumbering": "True",
        "toc-showcode": "False"
    },
    "nbformat": 4,
    "nbformat_minor": 5,
    "cells": [
        {
            "id": "n3ED-3EkxkuED3NiSerohA",
            "cell_type": "markdown",
            "source": [
                "<p style=\"font-weight:bold;\"> <span style=\"font-size: 36px\"> Test Reports </span> </p>"
            ],
            "metadata": {},
            "execution_count": 0,
            "outputs": []
        },
        {
            "id": "jEW2JcFV1UqH9OxxrCWEEg",
            "cell_type": "markdown",
            "source": [
                "# Infrastructure and Configuration"
            ],
            "metadata": {},
            "execution_count": 0,
            "outputs": []
        },
        {
            "id": "jrvWTVmt0U2tdCG7sYizeg",
            "cell_type": "markdown",
            "source": [
                "## Imports and Configurations"
            ],
            "metadata": {},
            "execution_count": 0,
            "outputs": []
        },
        {
            "id": "2HW97YdZKUOnq-DRyvt3Uw",
            "cell_type": "code",
            "source": [
                "#r \"nuget:FluentAssertions\" "
            ],
            "metadata": {},
            "execution_count": 0,
            "outputs": []
        },
        {
            "id": "w7sYIzs9ykulzszdiIyXGg",
            "cell_type": "code",
            "source": [
                "#!import \"ReportVariablesTestBase\""
            ],
            "metadata": {},
            "execution_count": 0,
            "outputs": []
        },
        {
            "id": "jk5ZRZUAoUCXUNcy1_1eXA",
            "cell_type": "markdown",
            "source": [
                "## Storage"
            ],
            "metadata": {},
            "execution_count": 0,
            "outputs": []
        },
        {
            "id": "C7GJzm1J-EuPR9aGuWZwQg",
            "cell_type": "code",
            "source": [
                "var reportStorage = new ReportStorage(Workspace, Report);",
                "\nawait reportStorage.InitializeReportIndependentCacheAsync();"
            ],
            "metadata": {},
            "execution_count": 0,
            "outputs": []
        },
        {
            "id": "LzDL_aRFO0etCQGzAUu0vg",
            "cell_type": "markdown",
            "source": [
                "## Configurations"
            ],
            "metadata": {},
            "execution_count": 0,
            "outputs": []
        },
        {
            "id": "Y42oT-3UIU-VktHZCgIgMA",
            "cell_type": "code",
            "source": [
                "var path = \"./Data/ReportVariableBenchmarks/\";"
            ],
            "metadata": {},
            "execution_count": 0,
            "outputs": []
        },
        {
            "id": "a8qO17ZhGk2lD513BUl1kg",
            "cell_type": "code",
            "source": [
                "((int Year, int Month) Period, string ReportingNode, string Scenario, CurrencyType CurrencyType) args;",
                "\nICollection<ReportVariable> scopesData;",
                "\nICollection<ReportVariable> benchmarkData;"
            ],
            "metadata": {},
            "execution_count": 0,
            "outputs": []
        },
        {
            "id": "yNI1-7C-DkCwPylFdztLLg",
            "cell_type": "markdown",
            "source": [
                "# Test Cases"
            ],
            "metadata": {},
            "execution_count": 0,
            "outputs": []
        },
        {
            "id": "DG6J_osu7EG_geAlI15nDQ",
            "cell_type": "markdown",
            "source": [
                "## ((2020, 12), \"CH\", null, CurrencyType.Contractual)"
            ],
            "metadata": {},
            "execution_count": 0,
            "outputs": []
        },
        {
            "id": "_9qOvBWy9kWXqjvg2Ojx-Q",
            "cell_type": "code",
            "source": [
                "args = ((2020, 12), \"CH\", null, CurrencyType.Contractual);"
            ],
            "metadata": {},
            "execution_count": 0,
            "outputs": []
        },
        {
            "id": "oZphaPxRS0Cr60WeHFtueA",
            "cell_type": "code",
            "source": [
                "scopesData = await GetScopesDataAsync(args, reportStorage, Scopes);",
                "\nbenchmarkData = await GetBenchmarkDataAsync(args, path, Workspace, Import);"
            ],
            "metadata": {},
            "execution_count": 0,
            "outputs": []
        },
        {
            "id": "ezagEsinVkq0-jfyCtYp9A",
            "cell_type": "code",
            "source": [
                "scopesData.Should().BeEquivalentTo(benchmarkData,",
                "\n                                   options => options",
                "\n                                   //.ComparingRecordsByValue()",
                "\n                                   .ComparingRecordsByMembers() ",
                "\n                                   //.ComparingByMembers<ReportVariable>()",
                "\n                                   //.ComparingByValue<ReportVariable>()",
                "\n                                   //.Excluding(o => o.Value)",
                "\n                                   .Using<double>(ctx => ctx.Subject.Should().BeApproximately(ctx.Expectation, BenchmarkPrecision))",
                "\n                                   .WhenTypeIs<double>()",
                "\n                                  );"
            ],
            "metadata": {},
            "execution_count": 0,
            "outputs": []
        },
        {
            "id": "Rll-mqrAM0-4SIC9DLFDwA",
            "cell_type": "markdown",
            "source": [
                "## ((2021, 3), \"CH\", null, CurrencyType.Contractual)"
            ],
            "metadata": {},
            "execution_count": 0,
            "outputs": []
        },
        {
            "id": "O9tsdJU1VUWk5_AsCG7iQA",
            "cell_type": "code",
            "source": [
                "args = ((2021, 3), \"CH\", null, CurrencyType.Contractual);"
            ],
            "metadata": {},
            "execution_count": 0,
            "outputs": []
        },
        {
            "id": "NrAH0jftEkKUA-mvSJBY8w",
            "cell_type": "code",
            "source": [
                "scopesData = await GetScopesDataAsync(args, reportStorage, Scopes);",
                "\nbenchmarkData = await GetBenchmarkDataAsync(args, path, Workspace, Import);"
            ],
            "metadata": {},
            "execution_count": 0,
            "outputs": []
        },
        {
            "id": "vBqjLjwokUKpiME0hFnzxQ",
            "cell_type": "code",
            "source": [
                "scopesData.Should().BeEquivalentTo(benchmarkData,",
                "\n                                   options => options",
                "\n                                   //.ComparingRecordsByValue()",
                "\n                                   .ComparingRecordsByMembers() ",
                "\n                                   //.ComparingByMembers<ReportVariable>()",
                "\n                                   //.ComparingByValue<ReportVariable>()",
                "\n                                   //.Excluding(o => o.Value)",
                "\n                                   .Using<double>(ctx => ctx.Subject.Should().BeApproximately(ctx.Expectation, Precision))",
                "\n                                   .WhenTypeIs<double>()",
                "\n                                  );"
            ],
            "metadata": {},
            "execution_count": 0,
            "outputs": []
        },
        {
            "id": "Q2klv4_48EmNfNAi7QNdZQ",
            "cell_type": "code",
            "source": [
                ""
            ],
            "metadata": {},
            "execution_count": 0,
            "outputs": []
        }
    ]
}