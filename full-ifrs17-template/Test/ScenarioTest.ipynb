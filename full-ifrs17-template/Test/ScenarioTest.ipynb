{
    "metadata": {
        "authors": [],
        "kernelspec": {
            "display_name": "Formula Framework",
            "language": "C#",
            "name": "C#"
        },
        "language_info": {
            "file_extension": ".cs",
            "mimetype": "text/plain",
            "name": "C#"
        }
    },
    "nbformat": 4,
    "nbformat_minor": 5,
    "cells": [
        {
            "cell_type": "code",
            "source": [
                "var scenario = \"IRU\";",
                "\nvar year = 2020;",
                "\nvar month = 12;",
                "\nvar reportingNode = \"CH\";"
            ]
        },
        {
            "cell_type": "code",
            "source": [
                "#!eval-notebook \"../Initialization/InitSystemorphToMemory\""
            ]
        },
        {
            "cell_type": "code",
            "source": [
                "var targetPartition = (await DataSource.Query<PartitionByReportingNodeAndPeriod>().Where(p => p.ReportingNode == reportingNode &&",
                "\n                                                                                                   p.Year == year &&",
                "\n                                                                                                   p.Month == month &&",
                "\n                                                                                                   p.Scenario == scenario).ToArrayAsync()).Single().Id;",
                "\nvar defaultPartition = (await DataSource.Query<PartitionByReportingNodeAndPeriod>().Where(p => p.ReportingNode == reportingNode &&",
                "\n                                                                                                    p.Year == year &&",
                "\n                                                                                                    p.Month == month &&",
                "\n                                                                                                    p.Scenario == null).ToArrayAsync()).Single().Id;",
                "\n/*await DataSource.Partition.SetAsync<PartitionByReportingNodeAndPeriod>(defaultPartition);",
                "\nawait DataSource.Query<IfrsVariable>().Where(x => x.Partition == defaultPartition).ToArrayAsync()*/"
            ]
        },
        {
            "cell_type": "code",
            "source": [
                "Workspace.Reset(x => x.ResetInitializationRules().ResetCurrentPartitions());"
            ]
        },
        {
            "cell_type": "code",
            "source": [
                "(await DataSource.Query<IfrsVariable>().Where(x => x.Partition == defaultPartition).ToArrayAsync())"
            ]
        },
        {
            "cell_type": "markdown",
            "source": [
                "# Import Scenario Data"
            ]
        },
        {
            "cell_type": "code",
            "source": [
                "Workspace.Initialize(x => x.FromSource(DataSource));",
                "\nawait UploadCashflowsAsync(\"../Files/900.TransactionalData/NominalCashflows_CH_2020_12.csv\");",
                "\nWorkspace.Reset(x => x.ResetInitializationRules().ResetCurrentPartitions());",
                "\nvar test1 = (await DataSource.Query<IfrsVariable>().Where(x => x.Partition == defaultPartition).ToArrayAsync());",
                "\ntest1"
            ]
        },
        {
            "cell_type": "code",
            "source": [
                "Workspace.Initialize(x => x.FromSource(DataSource));",
                "\n//await UploadDimensionsAsync<YieldCurve>(\"../Files/800.Parameters/YieldCurveScenario.csv\");",
                "\nawait UploadCashflowsAsync(\"../Files/900.TransactionalData/NominalCashflows_CH_2020_12_Scenario.csv\");",
                "\nWorkspace.Reset(x => x.ResetInitializationRules().ResetCurrentPartitions());"
            ]
        },
        {
            "cell_type": "code",
            "source": [
                "var computedVariablesByEstimateTypeWithScenario = (await DataSource.Query<IfrsVariable>().Where(x => x.Partition == targetPartition).ToArrayAsync());",
                "\nawait DataSource.Partition.SetAsync<PartitionByReportingNodeAndPeriod>(defaultPartition);",
                "\nvar computedVariablesByEstimateType = (await DataSource.Query<IfrsVariable>().Where(x => x.Partition == defaultPartition).ToArrayAsync());"
            ]
        },
        {
            "cell_type": "code",
            "source": [
                "computedVariablesByEstimateTypeWithScenario"
            ]
        },
        {
            "cell_type": "markdown",
            "source": [
                ""
            ]
        }
    ]
}