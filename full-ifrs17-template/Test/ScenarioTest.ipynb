{
    "metadata": {
        "authors": [],
        "kernelspec": {
            "display_name": "Formula Framework",
            "language": "C#",
            "name": "C#"
        },
        "language_info": {
            "file_extension": ".cs",
            "mimetype": "text/plain",
            "name": "C#"
        }
    },
    "nbformat": 4,
    "nbformat_minor": 5,
    "cells": [
        {
            "cell_type": "code",
            "source": [
                "var scenario = \"IRU\";",
                "\nvar year = 2020;",
                "\nvar month = 12;",
                "\nvar reportingNode = \"CH\";"
            ]
        },
        {
            "cell_type": "code",
            "source": [
                "#!eval-notebook \"../Initialization/InitSystemorphToMemory\""
            ]
        },
        {
            "cell_type": "code",
            "source": [
                "var targetPartition = (await DataSource.Query<PartitionByReportingNodeAndPeriod>().Where(p => p.ReportingNode == reportingNode &&",
                "\n                                                                                                   p.Year == year &&",
                "\n                                                                                                   p.Month == month &&",
                "\n                                                                                                   p.Scenario == scenario).ToArrayAsync()).Single().Id;",
                "\nvar defaultPartition = (await DataSource.Query<PartitionByReportingNodeAndPeriod>().Where(p => p.ReportingNode == reportingNode &&",
                "\n                                                                                                    p.Year == year &&",
                "\n                                                                                                    p.Month == month &&",
                "\n                                                                                                    p.Scenario == null).ToArrayAsync()).Single().Id;",
                "\n"
            ]
        },
        {
            "cell_type": "markdown",
            "source": [
                "# Import Scenario Data"
            ]
        },
        {
            "cell_type": "code",
            "source": [
                "//Workspace.Initialize(x => x.FromSource(DataSource));",
                "\n//await UploadCashflowsAsync(\"../Files/900.TransactionalData/NominalCashflows_CH_2020_12.csv\");",
                "\nawait DataSource.Partition.SetAsync<PartitionByReportingNodeAndPeriod>(defaultPartition);",
                "\nvar computedVariablesByEstimateTypeBestEstimeate = (await DataSource.Query<IfrsVariable>().Where(x => x.Partition == defaultPartition).ToArrayAsync());",
                "\ncomputedVariablesByEstimateTypeBestEstimeate.Count()"
            ]
        },
        {
            "cell_type": "code",
            "source": [
                "//await DataSource.Partition.SetAsync<PartitionByReportingNodeAndPeriod>(targetPartition);",
                "\nawait UploadCashflowsAsync(\"../Files/900.TransactionalData/NominalCashflows_CH_2020_12_Scenario.csv\");",
                "\nvar computedVariablesByEstimateTypeWithScenario = (await DataSource.Query<IfrsVariable>().Where(x => x.Partition == targetPartition).ToArrayAsync());",
                "\ncomputedVariablesByEstimateTypeWithScenario.Count()"
            ]
        },
        {
            "cell_type": "code",
            "source": [
                ""
            ]
        }
    ]
}