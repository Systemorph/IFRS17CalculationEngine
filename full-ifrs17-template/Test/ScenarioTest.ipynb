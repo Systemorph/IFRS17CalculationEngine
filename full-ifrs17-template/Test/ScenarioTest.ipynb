{
    "metadata": {
        "authors": [],
        "kernelspec": {
            "display_name": "Formula Framework",
            "language": "C#",
            "name": "C#"
        },
        "language_info": {
            "file_extension": ".cs",
            "mimetype": "text/plain",
            "name": "C#"
        }
    },
    "nbformat": 4,
    "nbformat_minor": 5,
    "cells": [
        {
            "cell_type": "code",
            "source": [
                "var scenario = \"IRU\";"
            ]
        },
        {
            "cell_type": "code",
            "source": [
                "#!eval-notebook \"../Initialization/InitSystemorphToMemory\""
            ]
        },
        {
            "cell_type": "code",
            "source": [
                "Workspace.Reset(x => x.ResetInitializationRules().ResetCurrentPartitions());"
            ]
        },
        {
            "cell_type": "code",
            "source": [
                "Workspace.Initialize(x => x.FromSource(DataSource));"
            ]
        },
        {
            "cell_type": "markdown",
            "source": [
                "# Import Scenario Data"
            ]
        },
        {
            "cell_type": "code",
            "source": [
                "await UploadDimensionsAsync<YieldCurve>(\"../Files/800.Parameters/YieldCurveScenario.csv\")"
            ]
        },
        {
            "cell_type": "code",
            "source": [
                "await UploadCashflowsAsync(\"../Files/900.TransactionalData/NominalCashflows_CH_2020_12_Scenario.csv\")"
            ]
        },
        {
            "cell_type": "code",
            "source": [
                "//Define partition",
                "\nvar args = new ImportArgs(\"CH\", 2020, 12, Periodicity.Quarterly, scenario, ImportFormats.Actual);",
                "\nvar partition = DataSource.Query<PartitionByReportingNodeAndPeriod>().FirstOrDefault(x => x.ReportingNode == args.ReportingNode && x.Year == args.Year && ",
                "\n                                                                                    x.Month == args.Month && x.Scenario == args.Scenario);",
                "\nif(partition == null) ApplicationMessage.Log(Error.PartitionNotFound);",
                "\n",
                "\nvar previousPeriodPartition = Workspace.Query<PartitionByReportingNodeAndPeriod>().FirstOrDefault(x => x.ReportingNode == args.ReportingNode && x.Year == args.Year - 1 && ",
                "\n                                                                                    x.Month == MonthInAYear && x.Scenario == args.Scenario);",
                "\nif(previousPeriodPartition == null) ApplicationMessage.Log(Error.PartitionNotFound);",
                "\nDataSource.Query<PartitionByReportingNodeAndPeriod>()"
            ]
        },
        {
            "cell_type": "code",
            "source": [
                "partition"
            ]
        },
        {
            "cell_type": "markdown",
            "source": [
                ""
            ]
        }
    ]
}