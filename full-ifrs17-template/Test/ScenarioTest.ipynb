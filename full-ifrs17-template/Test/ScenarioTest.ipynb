{
    "metadata": {
        "authors": [],
        "kernelspec": {
            "display_name": "Formula Framework",
            "language": "C#",
            "name": "C#"
        },
        "language_info": {
            "file_extension": ".cs",
            "mimetype": "text/plain",
            "name": "C#"
        }
    },
    "nbformat": 4,
    "nbformat_minor": 5,
    "cells": [
        {
            "cell_type": "code",
            "source": [
                "#!eval-notebook \"../Initialization/InitSystemorphBaseToMemory\""
            ]
        },
        {
            "cell_type": "markdown",
            "source": [
                "# Set Contest"
            ]
        },
        {
            "cell_type": "code",
            "source": [
                "Workspace.Reset(x => x.ResetInitializationRules().ResetCurrentPartitions());",
                "\nWorkspace.Initialize(x => x.FromSource(DataSource));",
                "\nawait UploadCashflowsAsync(\"../Files/900.TransactionalData/NominalCashflows_CH_2020_12.csv\");"
            ]
        },
        {
            "cell_type": "code",
            "source": [
                "var scenario = \"IRU\";",
                "\nvar year = 2020;",
                "\nvar month = 12;",
                "\nvar reportingNode = \"CH\";",
                "\nvar dataNode = \"DT1.1\";",
                "\nvar format = ImportFormats.Cashflow;",
                "\nFunc<IfrsVariable, bool> filter = x => x.AmountType == \"NIC\" && x.DataNode == dataNode;"
            ]
        },
        {
            "cell_type": "code",
            "source": [
                "var targetPartition = (await DataSource.Query<PartitionByReportingNodeAndPeriod>().Where(p => p.ReportingNode == reportingNode &&",
                "\n                                                                                                   p.Year == year &&",
                "\n                                                                                                   p.Month == month &&",
                "\n                                                                                                   p.Scenario == scenario).ToArrayAsync()).Single().Id;",
                "\nvar defaultPartition = (await DataSource.Query<PartitionByReportingNodeAndPeriod>().Where(p => p.ReportingNode == reportingNode &&",
                "\n                                                                                                    p.Year == year &&",
                "\n                                                                                                    p.Month == month &&",
                "\n                                                                                                    p.Scenario == null).ToArrayAsync()).Single().Id;",
                "\n"
            ]
        },
        {
            "cell_type": "markdown",
            "source": [
                "# Import Best Estimate and Scenario Cashflows"
            ]
        },
        {
            "cell_type": "code",
            "source": [
                "var cashflows_MUP = $\"",
                "\n@@Main",
                "\nReportingNode,Year,Month,Scenario",
                "\nCH,2020,12,MUP",
                "\n@@Cashflow",
                "\nDataNode,AmountType,AocType,Novelty,AccidentYear,Values0,Values1,Values2,Values3,Values4,Values5,Values6,Values7,Values8,Values9,Values10,Values11,Values12,Values13,Values14,Values15,Values16,Values17,Values18,Values19,Values20,Values21,Values22,Values23",
                "\nDT1.1,PR,CL,C,,-110,0,0,-110,0,0,-110,0,0,-110,0,0,0,-110,0,0,-110,0,0,-110,0,0,-110,0",
                "\nDT1.1,NIC,CL,C,,27.5,27.5,27.5,27.5,27.5,27.5,27.5,27.5,27.5,27.5,27.5,27.5,27.5,27.5,27.5,27.5,27.5,27.5,27.5,27.5,27.5,27.5,27.5,27.5",
                "\nDT1.1,CU,CL,C,,11,11,11,11,11,11,11,11,11,11,11,11,11,5.5,5.5,5.5,5.5,5.5,5.5,5.5,5.5,5.5,5.5,3.3",
                "\nDT1.1,RA,CL,C,,2.75,2.75,2.75,2.75,2.75,2.75,2.75,2.75,2.75,2.75,2.75,2.75,2.75,2.75,2.75,2.75,2.75,2.75,2.75,2.75,2.75,2.75,2.75,2.75\";"
            ]
        },
        {
            "cell_type": "code",
            "source": [
                "var cashflowsMUP_BE = $\"",
                "\n@@Main",
                "\nReportingNode,Year,Month,Scenario",
                "\nCH,2020,12,MUP",
                "\n@@Cashflow",
                "\nDataNode,AmountType,AocType,Novelty,AccidentYear,Values0,Values1,Values2,Values3,Values4,Values5,Values6,Values7,Values8,Values9,Values10,Values11,Values12,Values13,Values14,Values15,Values16,Values17,Values18,Values19,Values20,Values21,Values22,Values23",
                "\nDT1.1,PR,CL,C,,-100,0,0,-100,0,0,-100,0,0,-100,0,0,0,-100,0,0,-100,0,0,-100,0,0,-100,0",
                "\nDT1.1,NIC,CL,C,,25,25,25,25,25,25,25,25,25,25,25,25,25,25,25,25,25,25,25,25,25,25,25,25",
                "\nDT1.1,CU,CL,C,,10,10,10,10,10,10,10,10,10,10,10,10,10,5,5,5,5,5,5,5,5,5,5,3",
                "\nDT1.1,RA,CL,C,,2.5,2.5,2.5,2.5,2.5,2.5,2.5,2.5,2.5,2.5,2.5,2.5,2.5,2.5,2.5,2.5,2.5,2.5,2.5,2.5,2.5,2.5,2.5,2.5\";"
            ]
        },
        {
            "cell_type": "code",
            "source": [
                "await Workspace.Partition.SetAsync<PartitionByReportingNodeAndPeriod>(defaultPartition);  ",
                "\nawait DataSource.Partition.SetAsync<PartitionByReportingNodeAndPeriod>(defaultPartition);",
                "\nvar defaultVar = Workspace.Query<IfrsVariable>().Where(filter).ToArray();",
                "\ndefaultVar"
            ]
        },
        {
            "cell_type": "markdown",
            "source": [
                ""
            ]
        },
        {
            "cell_type": "code",
            "source": [
                "await UploadCashflowsAsync(\"../Files/900.TransactionalData/NominalCashflows_CH_2020_12_Scenario.csv\");",
                "\nvar scenarioVar = Workspace.Query<IfrsVariable>().Where(filter).ToArray();",
                "\n(scenarioVar.Except(defaultVar, IfrsVariableComparer.Instance()).ToArray()).Length.Should().NotBe(0)"
            ]
        },
        {
            "cell_type": "code",
            "source": [
                "var log = await UploadCashflowsAsync(\"../Files/900.TransactionalData/NominalCashflows_CH_2020_12_Scenario_BE.csv\");",
                "\nvar mirrorBE = Workspace.Query<IfrsVariable>().Where(filter);",
                "\n(mirrorBE.Except(defaultVar, IfrsVariableComparer.Instance()).ToArray()).Length.Should().Be(0)"
            ]
        },
        {
            "cell_type": "markdown",
            "source": [
                "# Import Best Estimate and Scenario Actuals"
            ]
        },
        {
            "cell_type": "code",
            "source": [
                "var actualsMUP = $\"",
                "\n@@Main",
                "\nReportingNode,Year,Month,Scenario,",
                "\nCH,2020,12,MUP,",
                "\n@@Actual",
                "\nDataNode,AocType,ValueType,AccidentYear,Value",
                "\nDT1.1,CF,NIC,,308\";"
            ]
        },
        {
            "cell_type": "code",
            "source": [
                "var actualsMUP_BE = $\"",
                "\n@@Main",
                "\nReportingNode,Year,Month,Scenario,",
                "\nCH,2020,12,MUP,",
                "\n@@Actual",
                "\nDataNode,AocType,ValueType,AccidentYear,Value",
                "\nDT1.1,CF,NIC,,280\";"
            ]
        },
        {
            "cell_type": "code",
            "source": [
                "await UploadActualAsync(\"../Files/900.TransactionalData/Actuals_CH_2020_12.csv\");",
                "\nvar defaultVar = Workspace.Query<IfrsVariable>().Where(filter).ToArray();"
            ]
        },
        {
            "cell_type": "code",
            "source": [
                "await UploadActualAsync(\"../Files/900.TransactionalData/Actuals_CH_2020_12_Scenario.csv\")",
                "\nvar scenarioVar = Workspace.Query<IfrsVariable>().Where(filter).ToArray();",
                "\n(scenarioVar.Except(defaultVar, IfrsVariableComparer.Instance()).ToArray()).Length.Should().NotBe(0)"
            ]
        },
        {
            "cell_type": "code",
            "source": [
                "await UploadActualAsync(\"../Files/900.TransactionalData/Actuals_CH_2020_12_Scenario_BE.csv\")",
                "\nvar mirrorBE = Workspace.Query<IfrsVariable>().Where(filter);",
                "\n(mirrorBE.Except(defaultVar, IfrsVariableComparer.Instance()).ToArray()).Length.Should().Be(0)"
            ]
        },
        {
            "cell_type": "code",
            "source": [
                ""
            ]
        }
    ]
}