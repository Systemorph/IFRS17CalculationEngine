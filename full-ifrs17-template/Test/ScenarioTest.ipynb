{
    "metadata": {
        "authors": [],
        "kernelspec": {
            "display_name": "Formula Framework",
            "language": "C#",
            "name": "C#"
        },
        "language_info": {
            "file_extension": ".cs",
            "mimetype": "text/plain",
            "name": "C#"
        }
    },
    "nbformat": 4,
    "nbformat_minor": 5,
    "cells": [
        {
            "cell_type": "code",
            "source": [
                "#!eval-notebook \"../Initialization/InitSystemorphToMemory\""
            ]
        },
        {
            "cell_type": "code",
            "source": [
                "var scenario = \"IRU\";",
                "\nvar year = 2020;",
                "\nvar month = 12;",
                "\nvar reportingNode = \"CH\";",
                "\nvar dataNode = \"DT1.1\";",
                "\nvar format = ImportFormats.Cashflow;"
            ]
        },
        {
            "cell_type": "code",
            "source": [
                "Workspace.Initialize(x => x.FromSource(DataSource));"
            ]
        },
        {
            "cell_type": "code",
            "source": [
                "var targetPartition = (await DataSource.Query<PartitionByReportingNodeAndPeriod>().Where(p => p.ReportingNode == reportingNode &&",
                "\n                                                                                                   p.Year == year &&",
                "\n                                                                                                   p.Month == month &&",
                "\n                                                                                                   p.Scenario == scenario).ToArrayAsync()).Single().Id;",
                "\nvar defaultPartition = (await DataSource.Query<PartitionByReportingNodeAndPeriod>().Where(p => p.ReportingNode == reportingNode &&",
                "\n                                                                                                    p.Year == year &&",
                "\n                                                                                                    p.Month == month &&",
                "\n                                                                                                    p.Scenario == null).ToArrayAsync()).Single().Id;",
                "\n"
            ]
        },
        {
            "cell_type": "markdown",
            "source": [
                "# Import Scenario Data"
            ]
        },
        {
            "cell_type": "code",
            "source": [
                "//await UploadCashflowsAsync(\"../Files/900.TransactionalData/NominalCashflows_CH_2020_12_Scenario.csv\")",
                "\nvar fileName = \"../Files/900.TransactionalData/NominalCashflows_CH_2020_12_Scenario.csv\";",
                "\nvar args = (await GetArgsFromMainAsync<PartitionByReportingNodeAndPeriod>(fileName)) with {ImportFormat = ImportFormats.Cashflow};",
                "\nawait DataNodeFactoryAsync(fileName, ImportFormats.Cashflow, args);",
                "\n    ",
                "\nvar parsingLog = await ParseCashflowsToWorkspaceAsync(fileName, args);",
                "\nvar targetPartition = (await DataSource.Query<PartitionByReportingNodeAndPeriod>().Where(p => p.ReportingNode == args.ReportingNode &&",
                "\n                                                                                                   p.Year == args.Year &&",
                "\n                                                                                                   p.Month == args.Month &&",
                "\n                                                                                                   p.Scenario == args.Scenario).ToArrayAsync()).Single().Id;",
                "\nawait Workspace.Partition.SetAsync<PartitionByReportingNodeAndPeriod>(targetPartition);                                                                                            ",
                "\nawait DataSource.Partition.SetAsync<PartitionByReportingNodeAndPeriod>(targetPartition);",
                "\nvar parsedVariables = await Workspace.Query<RawVariable>().ToArrayAsync();",
                "\nvar savedVariables = await DataSource.Query<RawVariable>().ToArrayAsync();",
                "\nif (!parsedVariables.Any()) return true;",
                "\nvar updatedVariables = savedVariables?.Union(parsedVariables, RawVariableComparer.Instance) ?? parsedVariables;",
                "\nvar newVariables = updatedVariables?.Except(parsedVariables, RawVariableComparer.Instance) ?? Enumerable.Empty<RawVariable>();",
                "\nupdatedVariables"
            ]
        },
        {
            "cell_type": "code",
            "source": [
                "await UploadCashflowsAsync(\"../Files/900.TransactionalData/NominalCashflows_CH_2020_12_Scenario_BE.csv\")"
            ]
        },
        {
            "cell_type": "code",
            "source": [
                "Workspace.InitializeFrom(DataSource);"
            ]
        },
        {
            "cell_type": "code",
            "source": [
                ""
            ]
        }
    ]
}