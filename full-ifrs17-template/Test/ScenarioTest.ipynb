{
    "metadata": {
        "authors": [],
        "kernelspec": {
            "display_name": "Formula Framework",
            "language": "C#",
            "name": "C#"
        },
        "language_info": {
            "file_extension": ".cs",
            "mimetype": "text/plain",
            "name": "C#"
        }
    },
    "nbformat": 4,
    "nbformat_minor": 5,
    "cells": [
        {
            "cell_type": "code",
            "source": [
                "#!eval-notebook \"../Initialization/InitSystemorphBaseToMemory\""
            ]
        },
        {
            "cell_type": "markdown",
            "source": [
                "# Context"
            ]
        },
        {
            "cell_type": "code",
            "source": [
                "var log = await Import.FromFile(\"../Files/900.TransactionalData/NominalCashflows_CH_2020_12.csv\").WithFormat(ImportFormats.Cashflow).WithTarget(DataSource).ExecuteAsync();",
                "\nWorkspace.Reset(x => x.ResetInitializationRules().ResetCurrentPartitions());",
                "\nWorkspace.Initialize(x => x.FromSource(DataSource));",
                "\nlog"
            ]
        },
        {
            "cell_type": "code",
            "source": [
                "var log = await Import.FromFile(\"../Files/900.TransactionalData/Actuals_CH_2020_12.csv\").WithFormat(ImportFormats.Actual).WithTarget(DataSource).ExecuteAsync();",
                "\nWorkspace.Reset(x => x.ResetInitializationRules().ResetCurrentPartitions());",
                "\nWorkspace.Initialize(x => x.FromSource(DataSource));",
                "\nlog"
            ]
        },
        {
            "cell_type": "code",
            "source": [
                "var defaultVarsBE = Workspace.Query<IfrsVariable>().ToArray();"
            ]
        },
        {
            "cell_type": "markdown",
            "source": [
                "# Scenario Cashflows"
            ]
        },
        {
            "cell_type": "code",
            "source": [
                "var cashflows_MTUP10pct = @\"",
                "\n@@Main",
                "\nReportingNode,Year,Month,Scenario",
                "\nCH,2020,12,MTUP10pct",
                "\n@@Cashflow",
                "\nDataNode,AmountType,AocType,Novelty,AccidentYear,Values0,Values1,Values2,Values3,Values4,Values5,Values6,Values7,Values8,Values9,Values10,Values11,Values12,Values13,Values14,Values15,Values16,Values17,Values18,Values19,Values20,Values21,Values22,Values23",
                "\nDT1.1,PR,CL,C,,-110,0,0,-110,0,0,-110,0,0,-110,0,0,0,-110,0,0,-110,0,0,-110,0,0,-110,0",
                "\nDT1.1,NIC,CL,C,,27.5,27.5,27.5,27.5,27.5,27.5,27.5,27.5,27.5,27.5,27.5,27.5,27.5,27.5,27.5,27.5,27.5,27.5,27.5,27.5,27.5,27.5,27.5,27.5",
                "\nDT1.1,CU,CL,C,,11,11,11,11,11,11,11,11,11,11,11,11,11,5.5,5.5,5.5,5.5,5.5,5.5,5.5,5.5,5.5,5.5,3.3",
                "\nDT1.1,RA,CL,C,,2.75,2.75,2.75,2.75,2.75,2.75,2.75,2.75,2.75,2.75,2.75,2.75,2.75,2.75,2.75,2.75,2.75,2.75,2.75,2.75,2.75,2.75,2.75,2.75\";"
            ]
        },
        {
            "cell_type": "code",
            "source": [
                "var cashflows_MTUP10pct_BE = @\"",
                "\n@@Main",
                "\nReportingNode,Year,Month,Scenario",
                "\nCH,2020,12,MTUP10pct",
                "\n@@Cashflow",
                "\nDataNode,AmountType,AocType,Novelty,AccidentYear,Values0,Values1,Values2,Values3,Values4,Values5,Values6,Values7,Values8,Values9,Values10,Values11,Values12,Values13,Values14,Values15,Values16,Values17,Values18,Values19,Values20,Values21,Values22,Values23",
                "\nDT1.1,PR,CL,C,,-100,0,0,-100,0,0,-100,0,0,-100,0,0,0,-100,0,0,-100,0,0,-100,0,0,-100,0",
                "\nDT1.1,NIC,CL,C,,25,25,25,25,25,25,25,25,25,25,25,25,25,25,25,25,25,25,25,25,25,25,25,25",
                "\nDT1.1,CU,CL,C,,10,10,10,10,10,10,10,10,10,10,10,10,10,5,5,5,5,5,5,5,5,5,5,3",
                "\nDT1.1,RA,CL,C,,2.5,2.5,2.5,2.5,2.5,2.5,2.5,2.5,2.5,2.5,2.5,2.5,2.5,2.5,2.5,2.5,2.5,2.5,2.5,2.5,2.5,2.5,2.5,2.5\";"
            ]
        },
        {
            "cell_type": "code",
            "source": [
                "var log = await Import.FromString(cashflows_MTUP10pct).WithFormat(ImportFormats.Cashflow).WithTarget(DataSource).ExecuteAsync();",
                "\nWorkspace.Reset(x => x.ResetInitializationRules().ResetCurrentPartitions());",
                "\nWorkspace.Initialize(x => x.FromSource(DataSource));",
                "\nlog"
            ]
        },
        {
            "cell_type": "code",
            "source": [
                "class IfrsVariableComparer: IEqualityComparer<IfrsVariable>",
                "\n{",
                "\n    private bool IgnoreValue;",
                "\n    private IfrsVariableComparer(bool ignoreValue)",
                "\n    {",
                "\n        IgnoreValue = ignoreValue;",
                "\n    }",
                "\n",
                "\n    public bool Equals(IfrsVariable x, IfrsVariable y) =>",
                "\n        x.AccidentYear == y.AccidentYear && x.AmountType == y.AmountType && x.DataNode == y.DataNode && x.AocType == y.AocType && ",
                "\n        x.Novelty == y.Novelty && x.EstimateType == y.EstimateType && (IgnoreValue ? true : Math.Abs(x.Value - y.Value) < Precision); ",
                "\n",
                "\n    public int GetHashCode(IfrsVariable v) => IgnoreValue  ",
                "\n                                            ? HashCode.Combine(v.AccidentYear, v.AmountType, v.DataNode, v.AocType, v.Novelty) ",
                "\n                                            : HashCode.Combine(v.AccidentYear, v.AmountType, v.DataNode, v.AocType, v.Novelty, v.Value.ToString(\"F5\"));",
                "\n",
                "\n    public static IfrsVariableComparer Instance(bool ignoreValue = false)",
                "\n    { ",
                "\n        return new IfrsVariableComparer(ignoreValue);",
                "\n    }",
                "\n}"
            ]
        },
        {
            "cell_type": "code",
            "source": [
                "await Workspace.Partition.SetAsync<PartitionByReportingNodeAndPeriod>(new{ReportingNode = \"CH\", Scenario = \"MTUP10pct\", Year = 2020, Month = 12});",
                "\nawait DataSource.Partition.SetAsync<PartitionByReportingNodeAndPeriod>(new{ReportingNode = \"CH\", Scenario = \"MTUP10pct\", Year = 2020, Month = 12});",
                "\nvar diffs = Workspace.Query<IfrsVariable>().Except(defaultVarsBE, IfrsVariableComparer.Instance());",
                "\ndiffs.Where(x => (new[]{\"A\",\"AA\",\"OA\",\"DA\"}).Contains(x.EstimateType)).ToArray().Length.Should().Be(0);",
                "\ndiffs.Where(x => !(new[]{\"A\",\"AA\",\"OA\",\"DA\"}).Contains(x.EstimateType)).ToArray().Length.Should().NotBe(0);"
            ]
        },
        {
            "cell_type": "code",
            "source": [
                "var a = Workspace.Query<IfrsVariable>().Except(defaultVarsBE, IfrsVariableComparer.Instance()).Where(x => (new[]{\"A\",\"AA\",\"OA\",\"DA\"}).Contains(x.EstimateType)).ToArray(); a"
            ]
        },
        {
            "cell_type": "code",
            "source": [
                "var b = Workspace.Query<IfrsVariable>().Where(x => (new[]{\"A\",\"AA\",\"OA\",\"DA\"}).Contains(x.EstimateType) && x.DataNode == \"DT1.1\").ToArray(); b"
            ]
        },
        {
            "cell_type": "code",
            "source": [
                "var c = defaultVarsBE.Where(x => (new[]{\"A\",\"AA\",\"OA\",\"DA\"}).Contains(x.EstimateType) && x.DataNode == \"DT1.1\").ToArray(); c"
            ]
        },
        {
            "cell_type": "code",
            "source": [
                "// DISCUSS: some Actuals are missing..."
            ]
        },
        {
            "cell_type": "markdown",
            "source": [
                "# Scenario Actuals"
            ]
        },
        {
            "cell_type": "code",
            "source": [
                "var actuals_MTUP10pct = @\"",
                "\n@@Main",
                "\nReportingNode,Year,Month,Scenario,",
                "\nCH,2020,12,MTUP10pct,",
                "\n@@Actual",
                "\nDataNode,AocType,ValueType,AccidentYear,Value",
                "\nDT1.1,CF,NIC,,308\";"
            ]
        },
        {
            "cell_type": "code",
            "source": [
                "var actuals_MTUP10pct_BE = @\"",
                "\n@@Main",
                "\nReportingNode,Year,Month,Scenario,",
                "\nCH,2020,12,MTUP10pct,",
                "\n@@Actual",
                "\nDataNode,AocType,ValueType,AccidentYear,Value",
                "\nDT1.1,CF,NIC,,280\";"
            ]
        },
        {
            "cell_type": "code",
            "source": [
                "var log = await Import.FromString(actuals_MTUP10pct).WithFormat(ImportFormats.Actual).WithTarget(DataSource).ExecuteAsync();",
                "\nWorkspace.Reset(x => x.ResetInitializationRules().ResetCurrentPartitions());",
                "\nWorkspace.Initialize(x => x.FromSource(DataSource));",
                "\nlog"
            ]
        },
        {
            "cell_type": "code",
            "source": [
                "await Workspace.Partition.SetAsync<PartitionByReportingNodeAndPeriod>(new{ReportingNode = \"CH\", Scenario = \"MTUP10pct\", Year = 2020, Month = 12});",
                "\nawait DataSource.Partition.SetAsync<PartitionByReportingNodeAndPeriod>(new{ReportingNode = \"CH\", Scenario = \"MTUP10pct\", Year = 2020, Month = 12});",
                "\nvar diffs = Workspace.Query<IfrsVariable>().Except(defaultVarsBE, IfrsVariableComparer.Instance());",
                "\ndiffs.Where(x => (new[]{\"A\",\"AA\",\"OA\",\"DA\"}).Contains(x.EstimateType)).ToArray().Length.Should().NotBe(0);",
                "\ndiffs.Where(x => x.EstimateType == \"CU\").ToArray().Length.Should().Be(0);"
            ]
        },
        {
            "cell_type": "markdown",
            "source": [
                "# Robustness: back to Best Estimate"
            ]
        },
        {
            "cell_type": "code",
            "source": [
                "var log = await Import.FromString(actuals_MTUP10pct_BE).WithFormat(ImportFormats.Actual).WithTarget(DataSource).ExecuteAsync();",
                "\nWorkspace.Reset(x => x.ResetInitializationRules().ResetCurrentPartitions());",
                "\nWorkspace.Initialize(x => x.FromSource(DataSource));",
                "\nlog"
            ]
        },
        {
            "cell_type": "code",
            "source": [
                "var log = await Import.FromString(cashflows_MTUP10pct_BE).WithFormat(ImportFormats.Cashflow).WithTarget(DataSource).ExecuteAsync();",
                "\nWorkspace.Reset(x => x.ResetInitializationRules().ResetCurrentPartitions());",
                "\nWorkspace.Initialize(x => x.FromSource(DataSource));",
                "\nlog"
            ]
        },
        {
            "cell_type": "code",
            "source": [
                "Workspace.Query<IfrsVariable>().Except(defaultVarsBE, IfrsVariableComparer.Instance()).ToArray().Length.Should().Be(0);"
            ]
        },
        {
            "cell_type": "code",
            "source": [
                ""
            ]
        }
    ]
}