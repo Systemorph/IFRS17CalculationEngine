{
    "metadata": {
        "authors": [],
        "kernelspec": {
            "display_name": "Formula Framework",
            "language": "C#",
            "name": "C#"
        },
        "language_info": {
            "file_extension": ".cs",
            "mimetype": "text/plain",
            "name": "C#"
        },
        "toc-autonumbering": "True",
        "toc-showcode": "False"
    },
    "nbformat": 4,
    "nbformat_minor": 5,
    "cells": [
        {
            "id": "w3hTos8PYE2anJHmCX5-og",
            "cell_type": "markdown",
            "source": [
                "<p style=\"font-weight:bold;\"> <span style=\"font-size: 36px\"> Report Variable Exporter </span> </p>"
            ],
            "metadata": {},
            "execution_count": 0,
            "outputs": []
        },
        {
            "id": "HpEqqWuC7kuRLHoeY6YLaA",
            "cell_type": "markdown",
            "source": [
                "# Infrastructure and Configuration"
            ],
            "metadata": {},
            "execution_count": 0,
            "outputs": []
        },
        {
            "id": "3Gteb02znkyyorr1rK8qrg",
            "cell_type": "markdown",
            "source": [
                "## Initialize Workspace"
            ],
            "metadata": {},
            "execution_count": 0,
            "outputs": []
        },
        {
            "id": "CHzk0G-F6EqVRewucQ24Tw",
            "cell_type": "code",
            "source": [
                "#!eval-notebook \"../Initialization/InitSystemorphToMemory\""
            ],
            "metadata": {},
            "execution_count": 0,
            "outputs": []
        },
        {
            "id": "BYSXWDg9fkKVxwArMwDo2w",
            "cell_type": "code",
            "source": [
                "Workspace.InitializeFrom(DataSource);"
            ],
            "metadata": {},
            "execution_count": 0,
            "outputs": []
        },
        {
            "id": "EhBxY5wLOkSrpUozXxisOA",
            "cell_type": "markdown",
            "source": [
                "## Imports and Configurations"
            ],
            "metadata": {},
            "execution_count": 0,
            "outputs": []
        },
        {
            "id": "S02JZwmkG0epPmZbsUR7dg",
            "cell_type": "code",
            "source": [
                "#!import \"ReportVariablesTestBase\""
            ],
            "metadata": {},
            "execution_count": 0,
            "outputs": []
        },
        {
            "id": "oJbkEK0FXkirjq30Wu873w",
            "cell_type": "markdown",
            "source": [
                "## Storage"
            ],
            "metadata": {},
            "execution_count": 0,
            "outputs": []
        },
        {
            "id": "r-VrgwtMV0WNk2B4EJSZ7w",
            "cell_type": "code",
            "source": [
                "var reportStorage = new ReportStorage(Workspace, Report);",
                "\nawait reportStorage.InitializeReportIndependentCacheAsync();"
            ],
            "metadata": {},
            "execution_count": 0,
            "outputs": []
        },
        {
            "id": "D2-Sfwcbk0S_kDpIUPw9qw",
            "cell_type": "markdown",
            "source": [
                "## Configurations"
            ],
            "metadata": {},
            "execution_count": 0,
            "outputs": []
        },
        {
            "id": "fST1ooZG606uxzvrn9n86w",
            "cell_type": "code",
            "source": [
                "//var path = \"./Data/ReportVariableBenchmarks/\";"
            ],
            "metadata": {},
            "execution_count": 0,
            "outputs": []
        },
        {
            "id": "YG-CpjjbQk6oQcpgxXt23w",
            "cell_type": "markdown",
            "source": [
                "# Defining Scope for the Reports and Tests"
            ],
            "metadata": {},
            "execution_count": 0,
            "outputs": []
        },
        {
            "id": "_0V0ZWihnk-d3zNj56ZvcQ",
            "cell_type": "markdown",
            "source": [
                "### Defining the Period and Reporting Node (...) for the Reports"
            ],
            "metadata": {},
            "execution_count": 0,
            "outputs": []
        },
        {
            "id": "QPJPvzqJqU20dfRXkgSKCA",
            "cell_type": "code",
            "source": [
                "((int Year, int Month) Period, string ReportingNode, string Scenario, CurrencyType CurrencyType)[] exportScope = {",
                "\n    ((2020, 12), \"CH\", null, CurrencyType.Contractual),",
                "\n//    ((2020, 12), \"CH\", null, CurrencyType.Functional),",
                "\n//    ((2020, 12), \"CH\", null, CurrencyType.Group),",
                "\n    ",
                "\n    ((2021,  3), \"CH\", null, CurrencyType.Contractual),",
                "\n//    ((2021,  3), \"CH\", null, CurrencyType.Functional),",
                "\n//    ((2021,  3), \"CH\", null, CurrencyType.Group),",
                "\n};"
            ],
            "metadata": {},
            "execution_count": 0,
            "outputs": []
        },
        {
            "id": "doLfGk3ZY0O0B-1OJ93Eww",
            "cell_type": "markdown",
            "source": [
                "# Export"
            ],
            "metadata": {},
            "execution_count": 0,
            "outputs": []
        },
        {
            "id": "J-gceJlUTEWA3b-_lA8jqQ",
            "cell_type": "code",
            "source": [
                "// foreach(var args in exportScope){",
                "\n//     var scopesData = await GetScopesDataAsync(args, reportStorage, Scopes);",
                "\n//     var bmFileName = benchmarkFileNamePrefix + GetBenchmarkFileName(args) + \".csv\";",
                "\n//     await Export.ToCsv(path + bmFileName).WithTable<ReportVariable>(tableConfig => tableConfig.WithSource(source => scopesData.AsQueryable())).ExecuteAsync();    ",
                "\n// }"
            ],
            "metadata": {},
            "execution_count": 0,
            "outputs": []
        },
        {
            "id": "wimBAI-AxUamvGEoBsgvLQ",
            "cell_type": "code",
            "source": [
                "var args = exportScope.First();"
            ],
            "metadata": {},
            "execution_count": 0,
            "outputs": []
        },
        {
            "id": "g7w8cfsKC0uqqa8Hk-tvig",
            "cell_type": "code",
            "source": [
                "var scopesData = await GetScopesDataAsync(args, reportStorage, Scopes);",
                "\nvar bmFileName = benchmarkFileNamePrefix + GetBenchmarkFileName(args) + \".csv\";"
            ],
            "metadata": {},
            "execution_count": 0,
            "outputs": []
        },
        {
            "id": "qIKmkC8tI0afnRzqSzu3Bg",
            "cell_type": "code",
            "source": [
                "await Export.ToCsv(bmFileName)",
                "\n    .WithTable<ReportVariable>(tableConfig => tableConfig.WithSource(source => scopesData.AsQueryable()))",
                "\n    .WithSource(Workspace)",
                "\n    .ExecuteAsync()"
            ],
            "metadata": {},
            "execution_count": 0,
            "outputs": []
        }
    ]
}