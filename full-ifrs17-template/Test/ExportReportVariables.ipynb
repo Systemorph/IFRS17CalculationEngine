{
    "metadata": {
        "authors": [],
        "kernelspec": {
            "display_name": "Formula Framework",
            "language": "C#",
            "name": "C#"
        },
        "language_info": {
            "file_extension": ".cs",
            "mimetype": "text/plain",
            "name": "C#"
        },
        "toc-autonumbering": "True",
        "toc-showcode": "False"
    },
    "nbformat": 4,
    "nbformat_minor": 5,
    "cells": [
        {
            "id": "k5_ODgvr80Ku-nMVOcnH2g",
            "cell_type": "markdown",
            "source": [
                "<p style=\"font-weight:bold;\"> <span style=\"font-size: 36px\"> Report Variable Exporter </span> </p>"
            ],
            "metadata": {},
            "execution_count": 0,
            "outputs": []
        },
        {
            "id": "Hfr1F9kVdEKd0Tp0h565UA",
            "cell_type": "markdown",
            "source": [
                "# Infrastructure and Configuration"
            ],
            "metadata": {},
            "execution_count": 0,
            "outputs": []
        },
        {
            "id": "QJsqLmsFGEWNZszzI7YpcA",
            "cell_type": "markdown",
            "source": [
                "## Initialize Workspace"
            ],
            "metadata": {},
            "execution_count": 0,
            "outputs": []
        },
        {
            "id": "QH9wxD3KbU24dE0g5wvdBg",
            "cell_type": "code",
            "source": [
                "#!eval-notebook \"../Initialization/InitSystemorphToMemory\""
            ],
            "metadata": {},
            "execution_count": 0,
            "outputs": []
        },
        {
            "id": "ycvNncszQ0GL2M9FNKo25w",
            "cell_type": "code",
            "source": [
                "Workspace.InitializeFrom(DataSource);"
            ],
            "metadata": {},
            "execution_count": 0,
            "outputs": []
        },
        {
            "id": "vCehZKt-hECj9LFUeL2Upg",
            "cell_type": "markdown",
            "source": [
                "## Imports and Configurations"
            ],
            "metadata": {},
            "execution_count": 0,
            "outputs": []
        },
        {
            "id": "O72LnopoAE2cckiYpYHvgQ",
            "cell_type": "code",
            "source": [
                "#!import \"ReportVariablesTestBase\""
            ],
            "metadata": {},
            "execution_count": 0,
            "outputs": []
        },
        {
            "id": "EewzZ0wNoUSpJs3tpfN3Qg",
            "cell_type": "markdown",
            "source": [
                "## Storage"
            ],
            "metadata": {},
            "execution_count": 0,
            "outputs": []
        },
        {
            "id": "Ki31clLAZUaA0XGovKPPsA",
            "cell_type": "code",
            "source": [
                "var reportStorage = new ReportStorage(Workspace, Report);",
                "\nawait reportStorage.InitializeReportIndependentCacheAsync();"
            ],
            "metadata": {},
            "execution_count": 0,
            "outputs": []
        },
        {
            "id": "GxOBkTxJVEixGXCTDfnFTw",
            "cell_type": "markdown",
            "source": [
                "## Configurations"
            ],
            "metadata": {},
            "execution_count": 0,
            "outputs": []
        },
        {
            "id": "Yx2k7NTlnEKRLu2HxY1tkg",
            "cell_type": "code",
            "source": [
                "//var path = \"./Data/ReportVariableBenchmarks/\";"
            ],
            "metadata": {},
            "execution_count": 0,
            "outputs": []
        },
        {
            "id": "80ku1j_Tu0m4FSPqwuw2lQ",
            "cell_type": "markdown",
            "source": [
                "# Defining Scope for the Reports and Tests"
            ],
            "metadata": {},
            "execution_count": 0,
            "outputs": []
        },
        {
            "id": "qYid0tffIkiNhtBdr4BW3w",
            "cell_type": "markdown",
            "source": [
                "### Defining the Period and Reporting Node (...) for the Reports"
            ],
            "metadata": {},
            "execution_count": 0,
            "outputs": []
        },
        {
            "id": "0B5MctOf6kOf6jGHxJid8g",
            "cell_type": "code",
            "source": [
                "((int Year, int Month) Period, string ReportingNode, string Scenario, CurrencyType CurrencyType)[] exportScope = {",
                "\n    ((2020, 12), \"CH\", null, CurrencyType.Contractual),",
                "\n//    ((2020, 12), \"CH\", null, CurrencyType.Functional),",
                "\n//    ((2020, 12), \"CH\", null, CurrencyType.Group),",
                "\n    ",
                "\n    ((2021,  3), \"CH\", null, CurrencyType.Contractual),",
                "\n//    ((2021,  3), \"CH\", null, CurrencyType.Functional),",
                "\n//    ((2021,  3), \"CH\", null, CurrencyType.Group),",
                "\n};"
            ],
            "metadata": {},
            "execution_count": 0,
            "outputs": []
        },
        {
            "id": "5A0y3aaCXEO8bc6fBXPoVw",
            "cell_type": "markdown",
            "source": [
                "# Export"
            ],
            "metadata": {},
            "execution_count": 0,
            "outputs": []
        },
        {
            "id": "iL96P9iZW0mo6FgetJyLLg",
            "cell_type": "code",
            "source": [
                "// foreach(var args in exportScope){",
                "\n//     var scopesData = await GetScopesDataAsync(args, reportStorage, Scopes);",
                "\n//     var bmFileName = benchmarkFileNamePrefix + GetBenchmarkFileName(args) + \".csv\";",
                "\n//     await Export.ToCsv(path + bmFileName).WithTable<ReportVariable>(tableConfig => tableConfig.WithSource(source => scopesData.AsQueryable())).ExecuteAsync();    ",
                "\n// }"
            ],
            "metadata": {},
            "execution_count": 0,
            "outputs": []
        },
        {
            "id": "XgvvALFo6UWWOdrx7oY8wg",
            "cell_type": "code",
            "source": [
                "var args = exportScope.First();"
            ],
            "metadata": {},
            "execution_count": 0,
            "outputs": []
        },
        {
            "id": "c0Q2FjxLjUCKj5bhfE0k4w",
            "cell_type": "code",
            "source": [
                "var scopesData = await GetScopesDataAsync(args, reportStorage, Scopes);",
                "\nvar bmFileName = benchmarkFileNamePrefix + GetBenchmarkFileName(args) + \".csv\";"
            ],
            "metadata": {},
            "execution_count": 0,
            "outputs": []
        },
        {
            "id": "sJDmglMDlEyoiWeADhXNYw",
            "cell_type": "code",
            "source": [
                "await Export.ToCsv(bmFileName)",
                "\n    .WithTable<ReportVariable>(tableConfig => tableConfig.WithSource(source => scopesData.AsQueryable()))",
                "\n    .WithSource(Workspace)",
                "\n    .ExecuteAsync()"
            ],
            "metadata": {},
            "execution_count": 0,
            "outputs": []
        }
    ]
}