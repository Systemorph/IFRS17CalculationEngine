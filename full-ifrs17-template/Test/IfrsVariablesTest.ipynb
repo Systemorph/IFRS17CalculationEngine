{
    "metadata": {
        "authors": [],
        "kernelspec": {
            "display_name": "Formula Framework",
            "language": "C#",
            "name": "C#"
        },
        "language_info": {
            "file_extension": ".cs",
            "mimetype": "text/plain",
            "name": "C#"
        },
        "toc-autonumbering": "True",
        "toc-showcode": "False"
    },
    "nbformat": 4,
    "nbformat_minor": 5,
    "cells": [
        {
            "cell_type": "markdown",
            "source": [
                "<p style=\"font-weight:bold;\"> <span style=\"font-size: 36px\"> Ifrs Variable </span> </p>"
            ]
        },
        {
            "cell_type": "code",
            "source": [
                "#!eval-notebook \"../Initialization/InitSystemorphToMemory\""
            ]
        },
        {
            "cell_type": "markdown",
            "source": [
                "# BenchMarks"
            ]
        },
        {
            "cell_type": "code",
            "source": [
                "var pathToBm = \"./Data/IfrsVariableBenchmarks/\";"
            ]
        },
        {
            "cell_type": "code",
            "source": [
                "public record BenchmarkMetadata(string FileName, string ReportingNode, int Year, int Month){} "
            ]
        },
        {
            "cell_type": "code",
            "source": [
                "var bmFiles = new BenchmarkMetadata[]{",
                "\n    //2020 Q4",
                "\n    new BenchmarkMetadata(pathToBm+\"BM_CH_2020_12_A.csv\"   , \"CH\", 2020, 12),",
                "\n    new BenchmarkMetadata(pathToBm+\"BM_CH_2020_12_AA.csv\"  , \"CH\", 2020, 12),",
                "\n    new BenchmarkMetadata(pathToBm+\"BM_CH_2020_12_APA.csv\" , \"CH\", 2020, 12),",
                "\n    new BenchmarkMetadata(pathToBm+\"BM_CH_2020_12_BE.csv\"  , \"CH\", 2020, 12),",
                "\n    new BenchmarkMetadata(pathToBm+\"BM_CH_2020_12_BEPA.csv\", \"CH\", 2020, 12),",
                "\n    new BenchmarkMetadata(pathToBm+\"BM_CH_2020_12_C.csv\"   , \"CH\", 2020, 12),",
                "\n    new BenchmarkMetadata(pathToBm+\"BM_CH_2020_12_DA.csv\"  , \"CH\", 2020, 12),",
                "\n    new BenchmarkMetadata(pathToBm+\"BM_CH_2020_12_F.csv\"   , \"CH\", 2020, 12),",
                "\n    new BenchmarkMetadata(pathToBm+\"BM_CH_2020_12_OA.csv\"  , \"CH\", 2020, 12),",
                "\n    new BenchmarkMetadata(pathToBm+\"BM_CH_2020_12_RA.csv\"  , \"CH\", 2020, 12),",
                "\n    //2021 Q1",
                "\n    new BenchmarkMetadata(pathToBm+\"BM_CH_2021_3_A.csv\"    , \"CH\", 2021, 3),",
                "\n    new BenchmarkMetadata(pathToBm+\"BM_CH_2021_3_AA.csv\"   , \"CH\", 2021, 3),",
                "\n    new BenchmarkMetadata(pathToBm+\"BM_CH_2021_3_AAPA.csv\" , \"CH\", 2021, 3),",
                "\n    new BenchmarkMetadata(pathToBm+\"BM_CH_2021_3_APA.csv\"  , \"CH\", 2021, 3),",
                "\n    new BenchmarkMetadata(pathToBm+\"BM_CH_2021_3_BE.csv\"   , \"CH\", 2021, 3),",
                "\n    new BenchmarkMetadata(pathToBm+\"BM_CH_2021_3_BEPA.csv\" , \"CH\", 2021, 3),",
                "\n    new BenchmarkMetadata(pathToBm+\"BM_CH_2021_3_C.csv\"    , \"CH\", 2021, 3),",
                "\n    new BenchmarkMetadata(pathToBm+\"BM_CH_2021_3_DA.csv\"   , \"CH\", 2021, 3),",
                "\n    new BenchmarkMetadata(pathToBm+\"BM_CH_2021_3_F.csv\"    , \"CH\", 2021, 3),",
                "\n    new BenchmarkMetadata(pathToBm+\"BM_CH_2021_3_L.csv\"    , \"CH\", 2021, 3),",
                "\n    new BenchmarkMetadata(pathToBm+\"BM_CH_2021_3_LR.csv\"   , \"CH\", 2021, 3),",
                "\n    new BenchmarkMetadata(pathToBm+\"BM_CH_2021_3_OA.csv\"   , \"CH\", 2021, 3),",
                "\n    new BenchmarkMetadata(pathToBm+\"BM_CH_2021_3_OAPA.csv\" , \"CH\", 2021, 3),",
                "\n    new BenchmarkMetadata(pathToBm+\"BM_CH_2021_3_RA.csv\"   , \"CH\", 2021, 3),",
                "\n};"
            ]
        },
        {
            "cell_type": "markdown",
            "source": [
                "# Functions"
            ]
        },
        {
            "cell_type": "code",
            "source": [
                "public static NumberStyles AllowedNumberStyles = NumberStyles.Float | NumberStyles.AllowLeadingWhite | NumberStyles.AllowTrailingWhite | NumberStyles.AllowLeadingSign | NumberStyles.AllowTrailingSign | NumberStyles.AllowDecimalPoint;"
            ]
        },
        {
            "cell_type": "code",
            "source": [
                "public IfrsVariable CreateVariable (IDataRow row, Guid partition)",
                "\n{",
                "\n    if (!double.TryParse(row[nameof(IfrsVariable.Value)]?.ToString(), AllowedNumberStyles, CultureInfo.InvariantCulture, out var doubleValue))",
                "\n        throw new Exception(\"Value cannot be parsed.\");",
                "\n   ",
                "\n    return new IfrsVariable(){AocType = row.Field<string>(nameof(IfrsVariable.AocType)),",
                "\n                              Partition = partition,",
                "\n                              Novelty = row.Field<string>(nameof(IfrsVariable.Novelty)),",
                "\n                              DataNode = row.Field<string>(nameof(IfrsVariable.DataNode)),",
                "\n                              EstimateType = row.Field<string>(nameof(IfrsVariable.EstimateType)),",
                "\n                              AmountType = row.Field<string>(nameof(IfrsVariable.AmountType)),",
                "\n                              AccidentYear = Int32.TryParse((row.Field<string>(nameof(IfrsVariable.AccidentYear))), out var accidentYear) ? accidentYear : (int?)null,",
                "\n                              EconomicBasis = row.Field<string>(nameof(IfrsVariable.EconomicBasis)),",
                "\n                              Value = (-1.0) * doubleValue,",
                "\n                                  };",
                "\n}"
            ]
        },
        {
            "cell_type": "code",
            "source": [
                "public class BenchmarkTestResult",
                "\n{",
                "\n    public string ErrorMessage {get; set;}",
                "\n    public double ExpectedValue {get; set;}",
                "\n    public double ComputedValue {get; set;}",
                "\n    public BenchmarkTestResult (string message)",
                "\n    {",
                "\n        ErrorMessage = message;",
                "\n    }",
                "\n    public BenchmarkTestResult (string message, double expValue, double compValue)",
                "\n    {",
                "\n        ErrorMessage = message;",
                "\n        ExpectedValue = expValue;",
                "\n        ComputedValue = compValue;    ",
                "\n    }",
                "\n}"
            ]
        },
        {
            "cell_type": "code",
            "source": [
                "public List<BenchmarkTestResult> CompareAgainstBm (List<BenchmarkTestResult> errors, IEnumerable<IfrsVariable> expected, IEnumerable<IfrsVariable> computed)",
                "\n{",
                "\n    var expectedNotComputed = expected.Where(x => Math.Abs(x.Value) > BenchmarkPrecision).Select(x => x.ToIdentityString()).Except(computed.Select(x => x.ToIdentityString()));",
                "\n    var computedNotExpected = computed.Where(x => Math.Abs(x.Value) > BenchmarkPrecision).Select(x => x.ToIdentityString()).Except(expected.Select(x => x.ToIdentityString()));",
                "\n    if (expectedNotComputed.Any())",
                "\n        foreach (var error in expectedNotComputed)",
                "\n            errors.Add(new BenchmarkTestResult(\"Extra expected variable for: \" + error));",
                "\n    if (computedNotExpected.Any())",
                "\n        foreach (var error in computedNotExpected)",
                "\n            errors.Add(new BenchmarkTestResult(\"Extra computed variable for: \" + error));",
                "\n    ",
                "\n    var misMatchedVariables = expected.Concat(computed).AggregateOver().Where(x => Math.Abs(x.Value) > BenchmarkPrecision);",
                "\n    if (misMatchedVariables.Any())",
                "\n    {",
                "\n        foreach (var variable in misMatchedVariables)",
                "\n        {",
                "\n          var message = variable.ToIdentityString();",
                "\n          var bmValue = expected.FirstOrDefault(x => x.AocType == variable.AocType && ",
                "\n                                                    x.Novelty == variable.Novelty &&",
                "\n                                                    x.DataNode == variable.DataNode && ",
                "\n                                                    x.EstimateType == variable.EstimateType && ",
                "\n                                                    x.AmountType == variable.AmountType && ",
                "\n                                                    x.EconomicBasis == variable.EconomicBasis && ",
                "\n                                                    x.AccidentYear == variable.AccidentYear",
                "\n                                                    )?.Value ?? 0.0d;",
                "\n          var computedValue = computed.FirstOrDefault(x => x.AocType == variable.AocType && ",
                "\n                                                    x.Novelty == variable.Novelty &&",
                "\n                                                    x.DataNode == variable.DataNode && ",
                "\n                                                    x.EstimateType == variable.EstimateType && ",
                "\n                                                    x.AmountType == variable.AmountType && ",
                "\n                                                    x.EconomicBasis == variable.EconomicBasis && ",
                "\n                                                    x.AccidentYear == variable.AccidentYear",
                "\n                                                     )?.Value ?? 0.0d;",
                "\n          errors.Add(new BenchmarkTestResult(\"Value does not match for Variable: \" + message, -bmValue, computedValue));",
                "\n        }",
                "\n    }",
                "\n    return errors;",
                "\n}"
            ]
        },
        {
            "cell_type": "markdown",
            "source": [
                "# Test Runner"
            ]
        },
        {
            "cell_type": "code",
            "source": [
                "public bool ValidateMainTab(IDataRow mainRow, string reportingNode, int year, int month)",
                "\n{",
                "\n    if (!int.TryParse(mainRow[nameof(PartitionByReportingNodeAndPeriod.Year)]?.ToString(), NumberStyles.AllowLeadingWhite | NumberStyles.AllowTrailingWhite , CultureInfo.InvariantCulture, out var mainYear))",
                "\n            throw new Exception(\"Value Year cannot be parsed.\"); ",
                "\n    if (!int.TryParse(mainRow[nameof(PartitionByReportingNodeAndPeriod.Month)]?.ToString(), NumberStyles.AllowLeadingWhite | NumberStyles.AllowTrailingWhite , CultureInfo.InvariantCulture, out var mainMonth))",
                "\n            throw new Exception(\"Value Month cannot be parsed.\"); ",
                "\n    var mainReportingNode = mainRow[nameof(PartitionByReportingNodeAndPeriod.ReportingNode)].ToString();",
                "\n    ",
                "\n    return reportingNode == mainReportingNode && year == mainYear && month == mainMonth;",
                "\n}"
            ]
        },
        {
            "cell_type": "code",
            "source": [
                "var errorList = new List<BenchmarkTestResult>();",
                "\nforeach (var g in bmFiles.GroupBy(x => (ReportingNode: x.ReportingNode, Year: x.Year, Month: x.Month)))",
                "\n{",
                "\n    var reportingNode = g.Key.ReportingNode;",
                "\n    var year = g.Key.Year;",
                "\n    var month = g.Key.Month;",
                "\n    string scenario = null;",
                "\n    ",
                "\n    //Set up Args and storage",
                "\n    await DataSource.Partition.SetAsync<PartitionByReportingNodeAndPeriod>(new {ReportingNode = reportingNode, ",
                "\n                                                                                Year= year, ",
                "\n                                                                                Month = month, ",
                "\n                                                                                Scenario = scenario});",
                "\n    var partition = (await DataSource.Query<PartitionByReportingNodeAndPeriod>().ToArrayAsync())",
                "\n                        .SingleOrDefault(x => x.ReportingNode == reportingNode && x.Year== year && x.Month == month && x.Scenario == scenario)?.Id ?? new Guid();",
                "\n    ",
                "\n    var computedVariablesByEstimateType = (await DataSource.Query<IfrsVariable>().ToArrayAsync()).ToDictionaryGrouped(x => x.EstimateType, x => x.ToArray());",
                "\n",
                "\n    foreach (var bmfile in g)",
                "\n    {",
                "\n        var extension = System.IO.Path.GetExtension(bmfile.FileName);",
                "\n        var stream = await Project.FileStorage.ReadAsync(bmfile.FileName);",
                "\n        //Read Bm csv",
                "\n        var bmDataTable = (await DataSetReader.ReadFromStream(stream).WithContentType(extension).ExecuteAsync()).DataSet;",
                "\n",
                "\n        var mainTab = bmDataTable.Tables[Main].Rows.First();",
                "\n        if(!ValidateMainTab(mainTab, reportingNode, year, month))",
                "\n            throw new Exception(\"Metadata and main tab of the Benchmark are different.\");",
                "\n",
                "\n        var bmTableName = bmDataTable.Tables.Single(x => x.TableName != Main).TableName;",
                "\n        var bmVariables = bmDataTable.Tables[bmTableName].Rows.Select(x => CreateVariable(x, partition));",
                "\n",
                "\n        //Get the computed Data",
                "\n        var computedVariables = computedVariablesByEstimateType.TryGetValue(bmTableName, out var ret) ? ret : Enumerable.Empty<IfrsVariable>();",
                "\n",
                "\n        if(!computedVariables.Any())    ",
                "\n            errorList.Add(new BenchmarkTestResult(\"No variables are computed for EstimateType: \" + bmTableName, 0, 0));",
                "\n        //CompareAgainstBm",
                "\n        if (bmVariables.Any() && computedVariables.Any()) //TODO we are adding duplicates here",
                "\n            errorList = errorList.Concat(CompareAgainstBm(errorList, bmVariables, computedVariables)).ToList();",
                "\n    }",
                "\n}",
                "\nerrorList = errorList.Distinct().ToList();"
            ]
        },
        {
            "cell_type": "code",
            "source": [
                "errorList.Count().Should().Be(0);"
            ]
        },
        {
            "cell_type": "code",
            "source": [
                "errorList"
            ]
        },
        {
            "cell_type": "code",
            "source": [
                ""
            ]
        }
    ]
}