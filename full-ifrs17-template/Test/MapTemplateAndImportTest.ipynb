{
    "metadata": {
        "authors": [],
        "kernelspec": {
            "display_name": "Formula Framework",
            "language": "C#",
            "name": "C#"
        },
        "language_info": {
            "file_extension": ".cs",
            "mimetype": "text/plain",
            "name": "C#"
        },
        "toc-autonumbering": "True",
        "toc-showcode": "False"
    },
    "nbformat": 4,
    "nbformat_minor": 5,
    "cells": [
        {
            "id": "Um-BjxrZ2kuTmqWQLf-Gzg",
            "cell_type": "markdown",
            "source": [
                "<p style=\"font-weight:bold;\"> <span style=\"font-size: 36px\"> Test Map Template Export and Import </span> </p>"
            ],
            "metadata": {},
            "execution_count": 0,
            "outputs": []
        },
        {
            "id": "OFGa9mMAPk6g4ux9ZAJo2w",
            "cell_type": "code",
            "source": [
                "#!eval-notebook \"../Initialization/InitSystemorphBaseToMemory\""
            ],
            "metadata": {},
            "execution_count": 0,
            "outputs": []
        },
        {
            "id": "JAV8yWT6MkSzgmyGMk78rA",
            "cell_type": "markdown",
            "source": [
                "# Test Empty Database"
            ],
            "metadata": {},
            "execution_count": 0,
            "outputs": []
        },
        {
            "id": "Vf2XEisWuESiQjCzbuJLMw",
            "cell_type": "code",
            "source": [
                "(await DataSource.Query<DataNode>().ToArrayAsync()).Length.Should().NotBe(0);"
            ],
            "metadata": {},
            "execution_count": 0,
            "outputs": []
        },
        {
            "id": "uXPuD7e5ZU-dvAJQpv7sIw",
            "cell_type": "code",
            "source": [
                "(await DataSource.Query<Portfolio>().ToArrayAsync()).Length.Should().NotBe(0);"
            ],
            "metadata": {},
            "execution_count": 0,
            "outputs": []
        },
        {
            "id": "az5nbQEmoU6niPb5d5rafw",
            "cell_type": "code",
            "source": [
                "(await DataSource.Query<InsurancePortfolio>().ToArrayAsync()).Length.Should().NotBe(0);"
            ],
            "metadata": {},
            "execution_count": 0,
            "outputs": []
        },
        {
            "id": "nneJQuZlEEO9di4CSFfnoA",
            "cell_type": "code",
            "source": [
                "(await DataSource.Query<ReinsurancePortfolio>().ToArrayAsync()).Length.Should().NotBe(0);"
            ],
            "metadata": {},
            "execution_count": 0,
            "outputs": []
        },
        {
            "id": "afK_BLnzgkKq-6LZqmFSIw",
            "cell_type": "code",
            "source": [
                "(await DataSource.Query<GroupOfContract>().ToArrayAsync()).Length.Should().NotBe(0);"
            ],
            "metadata": {},
            "execution_count": 0,
            "outputs": []
        },
        {
            "id": "j2OFwT9lQ02aJryHiwyTag",
            "cell_type": "code",
            "source": [
                "(await DataSource.Query<GroupOfInsuranceContract>().ToArrayAsync()).Length.Should().NotBe(0);"
            ],
            "metadata": {},
            "execution_count": 0,
            "outputs": []
        },
        {
            "id": "kca8Aj1AU0-6GcWAW_Fp3A",
            "cell_type": "code",
            "source": [
                "(await DataSource.Query<GroupOfReinsuranceContract>().ToArrayAsync()).Length.Should().NotBe(0);"
            ],
            "metadata": {},
            "execution_count": 0,
            "outputs": []
        },
        {
            "id": "NoePgACmeEiLHImkU7TsHQ",
            "cell_type": "code",
            "source": [
                "(await DataSource.Query<DataNodeState>().ToArrayAsync()).Length.Should().NotBe(0);"
            ],
            "metadata": {},
            "execution_count": 0,
            "outputs": []
        },
        {
            "id": "Ku28PG9h5EmMP2YM80nEeg",
            "cell_type": "code",
            "source": [
                "(await DataSource.Query<DataNodeParameter>().ToArrayAsync()).Length.Should().NotBe(0);"
            ],
            "metadata": {},
            "execution_count": 0,
            "outputs": []
        },
        {
            "id": "x4_HuEkWLEuExrP1V3Ox8g",
            "cell_type": "markdown",
            "source": [
                "# Test Map Template"
            ],
            "metadata": {},
            "execution_count": 0,
            "outputs": []
        },
        {
            "id": "gstGuP6ak0i4VdPxpwKgww",
            "cell_type": "markdown",
            "source": [
                "## Data Node"
            ],
            "metadata": {},
            "execution_count": 0,
            "outputs": []
        },
        {
            "id": "BJGbq6N9-0OzstSpwUNeJQ",
            "cell_type": "code",
            "source": [
                "Workspace.InitializeFrom(DataSource);",
                "\n",
                "\nstatic var partition = new PartitionByReportingNode() { ReportingNode = \"CH\" };",
                "\nstatic var filename = \"TestMapTemplateDataNode\";",
                "\n",
                "\nWorkspace.InitializeFrom(DataSource);",
                "\nawait Workspace.Partition.SetAsync<PartitionByReportingNode>( partition );",
                "\n",
                "\nvar ips = Workspace.Query<InsurancePortfolio>().ToArray();",
                "\nvar rps = Workspace.Query<ReinsurancePortfolio>().ToArray();",
                "\nvar gics = Workspace.Query<GroupOfInsuranceContract>().ToArray();",
                "\nvar grics = Workspace.Query<GroupOfReinsuranceContract>().ToArray();",
                "\n",
                "\nvar exportResult = await Export.ToExcel(filename)",
                "\n    .WithSource(Workspace)",
                "\n    .PortfolioConfiguration<ReinsurancePortfolio>()",
                "\n    .PortfolioConfiguration<InsurancePortfolio>()",
                "\n    .GroupofContractConfiguration<GroupOfReinsuranceContract>(typeof(ReinsurancePortfolio))",
                "\n    .GroupofContractConfiguration<GroupOfInsuranceContract>(typeof(InsurancePortfolio))",
                "\n    .MainTabConfigurationWoScenario(partition)",
                "\n.ExecuteAsync();",
                "\n",
                "\nexportResult.ActivityLog.Status.Should().Be(ActivityLogStatus.Succeeded);"
            ],
            "metadata": {},
            "execution_count": 0,
            "outputs": []
        },
        {
            "id": "yiVvugiSWkuM12alraVR4A",
            "cell_type": "code",
            "source": [
                "await Export.ToExcel(filename)",
                "\n    .WithSource(Workspace)",
                "\n    .PortfolioConfiguration<ReinsurancePortfolio>()",
                "\n    .PortfolioConfiguration<InsurancePortfolio>()",
                "\n    .GroupofContractConfiguration<GroupOfReinsuranceContract>(typeof(ReinsurancePortfolio))",
                "\n    .GroupofContractConfiguration<GroupOfInsuranceContract>(typeof(InsurancePortfolio))",
                "\n    .MainTabConfigurationWoScenario(partition)",
                "\n.ExecuteAsync()"
            ],
            "metadata": {},
            "execution_count": 0,
            "outputs": []
        },
        {
            "id": "I8_mWpG_NkmDqpanASPvmw",
            "cell_type": "code",
            "source": [
                "// Run this only after having imported the file exported in the above cell.",
                "\n/*",
                "\n// check that exporter generates only the desired columns ",
                "\nvar extension = \".xlsx\";",
                "\nvar stream = await Project.FileStorage.ReadAsync(filename + extension);",
                "\nvar tables = (await DataSetReader.ReadFromStream(stream).WithContentType(extension).ExecuteAsync()).DataSet;",
                "\nvar mainCols = new[]{nameof(PartitionByReportingNode.ReportingNode)};",
                "\nvar portfolioCols = new[]{nameof(Portfolio.SystemName),nameof(Portfolio.DisplayName),nameof(Portfolio.ContractualCurrency),",
                "\n                          nameof(Portfolio.LineOfBusiness),nameof(Portfolio.OciType),nameof(Portfolio.ValuationApproach)};",
                "\nvar gicCols = new[]{nameof(GroupOfContract.SystemName),nameof(GroupOfContract.DisplayName),nameof(GroupOfContract.AnnualCohort),",
                "\n                    nameof(GroupOfContract.LiabilityType),nameof(InsurancePortfolio),nameof(GroupOfContract.Profitability)};",
                "\nvar gricCols = new[]{nameof(GroupOfContract.SystemName),nameof(GroupOfContract.DisplayName),nameof(GroupOfContract.AnnualCohort),",
                "\n                     nameof(GroupOfContract.LiabilityType),nameof(ReinsurancePortfolio),nameof(GroupOfContract.Profitability),nameof(GroupOfContract.Partner)};",
                "\n",
                "\nmainCols.Intersect(tables.Tables[Main].Columns.Select(x => x.ColumnName).ToArray()).Count().Should().Be(mainCols.Length);",
                "\nportfolioCols.Intersect(tables.Tables[nameof(InsurancePortfolio)].Columns.Select(x => x.ColumnName).ToArray()).Count().Should().Be(portfolioCols.Length); ",
                "\nportfolioCols.Intersect(tables.Tables[nameof(ReinsurancePortfolio)].Columns.Select(x => x.ColumnName).ToArray()).Count().Should().Be(portfolioCols.Length); ",
                "\ngicCols.Intersect(tables.Tables[nameof(GroupOfInsuranceContract)].Columns.Select(x => x.ColumnName).ToArray()).Count().Should().Be(gicCols.Length); ",
                "\ngricCols.Intersect(tables.Tables[nameof(GroupOfReinsuranceContract)].Columns.Select(x => x.ColumnName).ToArray()).Count().Should().Be(gricCols.Length); ",
                "\n",
                "\n// check that imported data matches the exported data",
                "\nawait Import.FromFile(filename+\".xlsx\").WithFormat(ImportFormats.DataNode).WithTarget(Workspace).ExecuteAsync();",
                "\nUtils.EqualityComparer<InsurancePortfolio>(ips, Workspace.Query<InsurancePortfolio>().ToArray());",
                "\nUtils.EqualityComparer<ReinsurancePortfolio>(rps, Workspace.Query<ReinsurancePortfolio>().ToArray());",
                "\nUtils.EqualityComparer<GroupOfInsuranceContract>(gics, Workspace.Query<GroupOfInsuranceContract>().ToArray());",
                "\nUtils.EqualityComparer<GroupOfReinsuranceContract>(grics, Workspace.Query<GroupOfReinsuranceContract>().ToArray());",
                "\n*/"
            ],
            "metadata": {},
            "execution_count": 0,
            "outputs": []
        },
        {
            "id": "YyiDCEdBJkO3z6aNByU70g",
            "cell_type": "code",
            "source": [
                "Workspace.Reset(x => x.ResetInitializationRules().ResetCurrentPartitions());"
            ],
            "metadata": {},
            "execution_count": 0,
            "outputs": []
        },
        {
            "id": "H-vrHmd2kkGMrfIN3Ab3iQ",
            "cell_type": "markdown",
            "source": [
                "## Data Node State"
            ],
            "metadata": {},
            "execution_count": 0,
            "outputs": []
        },
        {
            "id": "SiKSvHhvL02R3223R1B8lw",
            "cell_type": "code",
            "source": [
                "static var partition = new PartitionByReportingNodeAndPeriod() { ReportingNode = \"CH\", Year = 2021, Month = 3 };",
                "\nstatic var filename = \"TestMapTemplateDataNodeState\";",
                "\n",
                "\nWorkspace.InitializeFrom(DataSource);",
                "\nawait Workspace.Partition.SetAsync<PartitionByReportingNode>( new PartitionByReportingNode() { ReportingNode = partition.ReportingNode } );",
                "\nawait Workspace.Partition.SetAsync<PartitionByReportingNodeAndPeriod>( partition );",
                "\n",
                "\nvar dataNodeStates = await Workspace.Query<DataNodeState>()",
                "\n                        .Where(x => (x.Year == partition.Year && x.Month <= partition.Month) || x.Year < partition.Year)",
                "\n                        .GroupBy(x => x.DataNode)",
                "\n                        .Select(x => x.OrderByDescending(y => y.Year).ThenByDescending(y => y.Month))",
                "\n                        .Select(x => x.Last())",
                "\n                        .ToArrayAsync();",
                "\n",
                "\nvar exportResult = await Export.ToExcel(filename)",
                "\n    .WithSource(Workspace)",
                "\n    .StateEnumConfiguration() ",
                "\n    .DataNodeStateConfiguration(dataNodeStates)",
                "\n    .MainTabConfigurationWoScenario(partition)",
                "\n.ExecuteAsync();",
                "\n",
                "\nexportResult.ActivityLog.Status.Should().Be(ActivityLogStatus.Succeeded);"
            ],
            "metadata": {},
            "execution_count": 0,
            "outputs": []
        },
        {
            "id": "gdr3kuOcmkikTVgnxIZTFg",
            "cell_type": "code",
            "source": [
                "await Export.ToExcel(filename)",
                "\n    .WithSource(Workspace)",
                "\n    .StateEnumConfiguration() ",
                "\n    .DataNodeStateConfiguration(dataNodeStates)",
                "\n    .MainTabConfigurationWoScenario(partition)",
                "\n.ExecuteAsync()"
            ],
            "metadata": {},
            "execution_count": 0,
            "outputs": []
        },
        {
            "id": "EGoQ5sEMDEKrD2FeT2EM_w",
            "cell_type": "code",
            "source": [
                "// Run this only after having imported the file exported in the above cell.",
                "\n/*",
                "\n// check that exporter generates only the desired columns ",
                "\nvar extension = \".xlsx\";",
                "\nvar stream = await Project.FileStorage.ReadAsync(filename + extension);",
                "\nvar tables = (await DataSetReader.ReadFromStream(stream).WithContentType(extension).ExecuteAsync()).DataSet;",
                "\nvar mainCols = new[]{nameof(PartitionByReportingNodeAndPeriod.ReportingNode),",
                "\n                     nameof(PartitionByReportingNodeAndPeriod.Year),",
                "\n                     nameof(PartitionByReportingNodeAndPeriod.Month)};",
                "\nvar dataNodeStateCols = new[]{nameof(DataNodeState.DataNode),nameof(DataNodeState.State)};",
                "\nmainCols.Intersect(tables.Tables[Main].Columns.Select(x => x.ColumnName).ToArray()).Count().Should().Be(mainCols.Length);",
                "\ndataNodeStateCols.Intersect(tables.Tables[\"DataNodeState\"].Columns.Select(x => x.ColumnName).ToArray()).Count().Should().Be(dataNodeStateCols.Length);",
                "\n",
                "\n// check that imported data matches the exported data ",
                "\nawait Import.FromFile(filename+\".xlsx\").WithFormat(ImportFormats.DataNodeState).WithTarget(Workspace).ExecuteAsync();",
                "\n// Workspace is empty because ValidateDataNodeStatesAsync removes the entry, since this is already present in the DataSource.",
                "\nWorkspace.Query<DataNodeState>().ToArray().Should().BeEmpty();",
                "\n*/"
            ],
            "metadata": {},
            "execution_count": 0,
            "outputs": []
        },
        {
            "id": "vxBtIDd03U-EUgEqc-y9WA",
            "cell_type": "code",
            "source": [
                "Workspace.Reset(x => x.ResetInitializationRules().ResetCurrentPartitions());"
            ],
            "metadata": {},
            "execution_count": 0,
            "outputs": []
        },
        {
            "id": "Zs3dRCpmIUiCES2U2w6brA",
            "cell_type": "markdown",
            "source": [
                "## DataNodeParameter"
            ],
            "metadata": {},
            "execution_count": 0,
            "outputs": []
        },
        {
            "id": "jbiZsou910udrBAgl9Mzsw",
            "cell_type": "code",
            "source": [
                "Workspace.InitializeFrom(DataSource);",
                "\nstatic var partition = new PartitionByReportingNodeAndPeriod() { ReportingNode = \"CH\", Year = 2020, Month = 12 };",
                "\nvar partitionByReportingNode = (await DataSource.Query<PartitionByReportingNode>().Where(x => x.ReportingNode == partition.ReportingNode).ToArrayAsync()).Single();",
                "\nstatic var filename = \"TestMapTemplateDataNodeParameter\";",
                "\nvar singleDataNodeParamBm = await DataSource.Query<SingleDataNodeParameter>().Where(x => x.Year == partition.Year && x.Month == partition.Month && x.Partition == partitionByReportingNode.Id ).ToArrayAsync();",
                "\nvar interDataNodeParamBm = await DataSource.Query<InterDataNodeParameter>().Where(x => x.Year == partition.Year && x.Month == partition.Month && x.Partition == partitionByReportingNode.Id ).ToArrayAsync();",
                "\nawait Workspace.Partition.SetAsync<PartitionByReportingNode>( new PartitionByReportingNode() { ReportingNode = partition.ReportingNode } );",
                "\nawait Workspace.Partition.SetAsync<PartitionByReportingNodeAndPeriod>( partition );",
                "\n//--------------------Export Map Template--------------------------",
                "\n//--------------------From MapTemplate NB--------------------------",
                "\nvar dataNodeParameters = (await Workspace.Query<DataNodeParameter>()",
                "\n                        .Where(x => (x.Year == partition.Year && x.Month <= partition.Month) || x.Year < partition.Year).ToArrayAsync())",
                "\n                        .GroupBy(x => x.GetType().Name)",
                "\n                        .ToDictionary(x => x.Key, ",
                "\n                                      x => x.GroupBy(y => y.DataNode)",
                "\n                                            .Select(y => y.OrderByDescending(z => z.Year).ThenByDescending(z => z.Month))",
                "\n                                            .Select(y => y.First())",
                "\n                                            .ToArray() );",
                "\nvar exportResult = await Export.ToExcel(filename)",
                "\n    .WithSource(Workspace)",
                "\n    .DataNodeParameterConfiguration(dataNodeParameters)",
                "\n    .MainTabConfiguration(partition)",
                "\n.ExecuteAsync();",
                "\n",
                "\nexportResult.ActivityLog.Status.Should().Be(ActivityLogStatus.Succeeded);"
            ],
            "metadata": {},
            "execution_count": 0,
            "outputs": []
        },
        {
            "id": "6ZrXpyF20k2lHagZsrwGdA",
            "cell_type": "code",
            "source": [
                "await Export.ToExcel(filename)",
                "\n    .WithSource(Workspace)",
                "\n    .DataNodeParameterConfiguration(dataNodeParameters)",
                "\n    .MainTabConfiguration(partition)",
                "\n.ExecuteAsync()"
            ],
            "metadata": {},
            "execution_count": 0,
            "outputs": []
        },
        {
            "id": "lKCzUA7sUEu5lQb_bZI0rg",
            "cell_type": "code",
            "source": [
                "// Run this only after having imported the file exported in the above cell.",
                "\n/*",
                "\n// check that exporter generates only the desired columns ",
                "\nvar extension = \".xlsx\";",
                "\nvar stream = await Project.FileStorage.ReadAsync(filename + extension);",
                "\nvar tables = (await DataSetReader.ReadFromStream(stream).WithContentType(extension).ExecuteAsync()).DataSet;",
                "\nvar mainCols = new[]{nameof(PartitionByReportingNodeAndPeriod.ReportingNode),",
                "\n                     nameof(PartitionByReportingNodeAndPeriod.Year),",
                "\n                     nameof(PartitionByReportingNodeAndPeriod.Month),",
                "\n                     nameof(PartitionByReportingNodeAndPeriod.Scenario)};",
                "\nvar singleDataNodeParamCols = new[]{nameof(DataNode),",
                "\n                                    nameof(SingleDataNodeParameter.PremiumAllocation)};",
                "\nvar interDataNodeParamCols = new[]{nameof(DataNodeParameter.DataNode),",
                "\n                                   nameof(InterDataNodeParameter.LinkedDataNode),",
                "\n                                   nameof(InterDataNodeParameter.ReinsuranceCoverage)};",
                "\nmainCols.Intersect(tables.Tables[Main].Columns.Select(x => x.ColumnName).ToArray()).Count().Should().Be(mainCols.Length);",
                "\nsingleDataNodeParamCols.Intersect(tables.Tables[nameof(SingleDataNodeParameter)].Columns.Select(x => x.ColumnName).ToArray()).Count().Should().Be(singleDataNodeParamCols.Length);",
                "\ninterDataNodeParamCols.Intersect(tables.Tables[nameof(InterDataNodeParameter)].Columns.Select(x => x.ColumnName).ToArray()).Count().Should().Be(interDataNodeParamCols.Length);",
                "\n// check that imported data matches the exported data ",
                "\nawait Import.FromFile(filename+\".xlsx\").WithFormat(ImportFormats.DataNodeParameter).WithTarget(Workspace).ExecuteAsync();",
                "\nvar expectedSingleDataNodeParamBm = Workspace.Query<SingleDataNodeParameter>().Where(x => x.Year == partition.Year && x.Month == partition.Month).ToArray();",
                "\nvar expectedInterDataNodeParamBm = Workspace.Query<InterDataNodeParameter>().ToArray();",
                "\nUtils.EqualityComparer<SingleDataNodeParameter>(singleDataNodeParamBm, expectedSingleDataNodeParamBm);",
                "\nUtils.EqualityComparer<InterDataNodeParameter>(interDataNodeParamBm, expectedInterDataNodeParamBm);",
                "\n*/"
            ],
            "metadata": {},
            "execution_count": 0,
            "outputs": []
        },
        {
            "id": "4rLP7FTmvke7eTHlgRjb6Q",
            "cell_type": "code",
            "source": [
                "Workspace.Reset(x => x.ResetInitializationRules().ResetCurrentPartitions());"
            ],
            "metadata": {},
            "execution_count": 0,
            "outputs": []
        },
        {
            "id": "-KCs1aWiFUSt9L3W9pvw6w",
            "cell_type": "markdown",
            "source": [
                "# Test Import Validation"
            ],
            "metadata": {},
            "execution_count": 0,
            "outputs": []
        },
        {
            "id": "yNocNXAdv0mHTksozhJ6Mw",
            "cell_type": "markdown",
            "source": [
                "## Data Node State: entries cannot be imported which change status from Inactive to Active"
            ],
            "metadata": {},
            "execution_count": 0,
            "outputs": []
        },
        {
            "id": "ZKWxxisJvE6za5cqAZdSpg",
            "cell_type": "code",
            "source": [
                "Workspace.InitializeFrom(DataSource);",
                "\nvar partition = Workspace.Query<PartitionByReportingNode>().Where(x => x.ReportingNode == \"CH\").ToArray().FirstOrDefault();",
                "\nawait Workspace.Partition.SetAsync<PartitionByReportingNode>(partition);",
                "\n",
                "\nvar itemInactive = new DataNodeState { Year = 2022, Month = 9, DataNode = \"GIC1\", State = State.Inactive, Partition = partition.Id };",
                "\nvar itemActive = new DataNodeState { Year = 2022, Month = 9, DataNode = \"GIC1\", State = State.Active, Partition = partition.Id };",
                "\n",
                "\n// Define GIC1 State as Inactive",
                "\nvar persistentDataNodeDataByDataNode = new Dictionary<string, DataNodeData> ",
                "\n{",
                "\n    [\"GIC1\"] = new DataNodeData() {DataNode = \"GIC1\", State = itemInactive.State, Year = itemInactive.Year, Month =  itemInactive.Month},",
                "\n};",
                "\n",
                "\n// Set GIC1 from Inactive into Active",
                "\nawait Workspace.DeleteAsync(Workspace.Query<DataNodeState>().ToArray());",
                "\nawait Workspace.UpdateAsync(itemActive);",
                "\n",
                "\n// Test Validation",
                "\nActivity.Start();",
                "\nawait ValidateDataNodeStatesAsync(persistentDataNodeDataByDataNode);",
                "\nActivity.HasErrors().Should().Be(true);",
                "\nvar log = Activity.Finish().Errors.First().ToString().Substring(40);",
                "\n(log.Substring(0,log.Length-2) == Get(Error.ChangeDataNodeState, \"GIC1\")).Should().Be(true);"
            ],
            "metadata": {},
            "execution_count": 0,
            "outputs": []
        },
        {
            "id": "7booOt2NVEer8wAHFK3CsA",
            "cell_type": "code",
            "source": [
                "Workspace.Reset(x => x.ResetInitializationRules().ResetCurrentPartitions());"
            ],
            "metadata": {},
            "execution_count": 0,
            "outputs": []
        },
        {
            "id": "E1R0HGEBBkuzHPLVbKJ_7w",
            "cell_type": "markdown",
            "source": [
                "## Data Node State: Validation removes the entry when the DataSource already contains a previous version  "
            ],
            "metadata": {},
            "execution_count": 0,
            "outputs": []
        },
        {
            "id": "TYjXKExzkUapP1sqkfDm7Q",
            "cell_type": "code",
            "source": [
                "Workspace.InitializeFrom(DataSource);",
                "\nvar partition = Workspace.Query<PartitionByReportingNode>().Where(x => x.ReportingNode == \"CH\").ToArray().FirstOrDefault();",
                "\nawait Workspace.Partition.SetAsync<PartitionByReportingNode>(partition);",
                "\n",
                "\nvar itemPrevious = new DataNodeState { Year = 2022, Month = 3, DataNode = \"GIC1\", State = State.Active, Partition = partition.Id };",
                "\nvar itemImport = new DataNodeState { Year = 2022, Month = 9, DataNode = \"GIC1\", State = State.Active, Partition = partition.Id };",
                "\n",
                "\n// Define persisted Data Node State",
                "\nvar persistentDataNodeDataByDataNode = new Dictionary<string, DataNodeData>",
                "\n{",
                "\n    [\"GIC1\"] = new DataNodeData() {DataNode = itemPrevious.DataNode, State = itemPrevious.State, Year = itemPrevious.Year, Month =  itemPrevious.Month},",
                "\n};",
                "\n",
                "\n// Reimport Data Node State for GIC1 with State unchanged",
                "\nawait Workspace.DeleteAsync(Workspace.Query<DataNodeState>().ToArray());",
                "\nawait Workspace.UpdateAsync(itemImport);",
                "\n",
                "\nawait ValidateDataNodeStatesAsync(persistentDataNodeDataByDataNode);",
                "\n",
                "\n// Check that the new redundant State is removed from the Workspace",
                "\nWorkspace.Query<DataNodeState>().ToArray().Should().BeEmpty();"
            ],
            "metadata": {},
            "execution_count": 0,
            "outputs": []
        },
        {
            "id": "RqvYJWIYG0ibN57srjuzUQ",
            "cell_type": "code",
            "source": [
                "Workspace.Reset(x => x.ResetInitializationRules().ResetCurrentPartitions());"
            ],
            "metadata": {},
            "execution_count": 0,
            "outputs": []
        },
        {
            "id": "SL_lo3Qhsk-40Mtqejn93g",
            "cell_type": "markdown",
            "source": [
                "## Data Node Parameters : Validations"
            ],
            "metadata": {},
            "execution_count": 0,
            "outputs": []
        },
        {
            "id": "x1BhQ0JlZkeN5q78_qRONA",
            "cell_type": "code",
            "source": [
                "public async Task CheckErrors(string inputFileName, List<string> errorBms)",
                "\n{",
                "\n   var log = await Import.FromFile(inputFileName).WithFormat(ImportFormats.DataNodeParameter).WithTarget(Workspace).ExecuteAsync();",
                "\n   Workspace.Reset(x => x.ResetInitializationRules().ResetCurrentPartitions());",
                "\n   errorBms.Intersect(log.Errors.Select(x => x.ToString().Substring(0,x.ToString().Length-2).Substring(40)).ToArray()).Count().Should().Be(errorBms.Count());",
                "\n}"
            ],
            "metadata": {},
            "execution_count": 0,
            "outputs": []
        },
        {
            "id": "HbVuQhcA9USK1ePgohzDfA",
            "cell_type": "code",
            "source": [
                "var inputFileName = \"Data/DataNodeParameter_InvalidDataNode.csv\";",
                "\nvar errorsBm = new List<string>(){Get(Error.InvalidDataNode, \"DataNodeInvalid0\"),",
                "\n                                  Get(Error.InvalidDataNode, \"DataNodeInvalid1\"),",
                "\n                                  Get(Error.InvalidDataNode, \"DataNodeInvalid2\")};",
                "\nawait CheckErrors(inputFileName, errorsBm);"
            ],
            "metadata": {},
            "execution_count": 0,
            "outputs": []
        },
        {
            "id": "LpnAYiYwhUaNE3T04OwWlw",
            "cell_type": "code",
            "source": [
                "var inputFileName = \"Data/DataNodeParameter_Duplicate.csv\";",
                "\nvar errorsBm = new List<string>(){Get(Error.DuplicateSingleDataNode, \"DT1.1\"),",
                "\n                                  Get(Error.DuplicateInterDataNode, \"DT1.1\",\"DTR1.1\"),};",
                "\nawait CheckErrors(inputFileName, errorsBm);"
            ],
            "metadata": {},
            "execution_count": 0,
            "outputs": []
        },
        {
            "id": "Eiav_87nw0mCqR2AhLwFAg",
            "cell_type": "code",
            "source": [
                "var inputFileName = \"Data/DataNodeParameter_InvalidReinsCov.csv\";",
                "\nvar errorsBm = new List<string>(){Get(Error.ReinsuranceCoverageDataNode, \"DT1.1\",\"DT1.1\")};",
                "\nawait CheckErrors(inputFileName, errorsBm);"
            ],
            "metadata": {},
            "execution_count": 0,
            "outputs": []
        },
        {
            "id": "2BHrs218hkKSB51Lo64kUQ",
            "cell_type": "code",
            "source": [
                ""
            ],
            "metadata": {},
            "execution_count": 0,
            "outputs": []
        }
    ]
}