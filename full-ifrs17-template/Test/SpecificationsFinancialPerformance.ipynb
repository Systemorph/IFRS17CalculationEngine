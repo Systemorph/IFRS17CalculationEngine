{
    "metadata": {
        "authors": [],
        "kernelspec": {
            "display_name": "Formula Framework",
            "language": "C#",
            "name": "C#"
        },
        "language_info": {
            "file_extension": ".cs",
            "mimetype": "text/plain",
            "name": "C#"
        },
        "toc-autonumbering": "True",
        "toc-showcode": "False"
    },
    "nbformat": 4,
    "nbformat_minor": 5,
    "cells": [
        {
            "cell_type": "markdown",
            "source": [
                "<p style=\"font-weight:bold;\"> <span style=\"font-size: 36px\"> Financial Performance Specifications </span> </p>"
            ]
        },
        {
            "cell_type": "markdown",
            "source": [
                "The aim of this notebook is to document the Financial Performance reporting system. The process is pictorially explained in the following flowchart. ",
                "\n",
                "\n<a name=\"TOC\"></a>",
                "\n<center><img src=\"../Images/SpecificationsPL.PNG\" width=\"45%\" style=\"float:center;\">",
                "\n",
                "\nThroughout this notebook we adopt the following variable notation:  we use the words *computed* vs. *expected* to differentiate the results provided by the application vs. this test notebook, respectively."
            ]
        },
        {
            "cell_type": "markdown",
            "source": [
                "In the following the Dimensions, Parameters, Nominal Cashflows, and Actuals are imported from the corresponding csv files in <code>Initialization/Systemorph/</code>"
            ]
        },
        {
            "cell_type": "code",
            "source": [
                "#!eval-notebook \"../Initialization/InitSystemorphToMemory\""
            ]
        },
        {
            "cell_type": "markdown",
            "source": [
                "---"
            ]
        },
        {
            "cell_type": "markdown",
            "source": [
                "# Process Data"
            ]
        },
        {
            "cell_type": "markdown",
            "source": [
                "<a id='year-and-period'></a>",
                "\n## Current Period, Reporting Node and Currency Type"
            ]
        },
        {
            "cell_type": "markdown",
            "source": [
                "Please select the target period (i.e. year and month) and Reporting Node based on the imported data:"
            ]
        },
        {
            "cell_type": "code",
            "source": [
                "var year          = 2021                    ;",
                "\nvar month         = 3                       ;",
                "\nvar reportingNode = \"CH\"                    ;"
            ]
        },
        {
            "cell_type": "markdown",
            "source": [
                "and the type of Currency among <code>Contractual</code>, <code>Functional</code>, and <code>Group</code>"
            ]
        },
        {
            "cell_type": "code",
            "source": [
                "var currencyType  = CurrencyType.Functional ;"
            ]
        },
        {
            "cell_type": "markdown",
            "source": [
                "Import the Report definitions, initialize the Workspace and the Test Suite:"
            ]
        },
        {
            "cell_type": "code",
            "source": [
                "Workspace.InitializeFrom(DataSource);"
            ]
        },
        {
            "cell_type": "code",
            "source": [
                "var period        = (year, month)                                                        ;",
                "\nvar reportStorage = new ReportStorage(Workspace, Report)                                 ;",
                "\nvar Test          = Scopes.ForSingleton().WithStorage(reportStorage).ToScope<IUniverse>();"
            ]
        },
        {
            "cell_type": "code",
            "source": [
                "await reportStorage.InitializeReportIndependentCacheAsync();",
                "\nawait reportStorage.InitializeAsync(period, reportingNode, null, currencyType);"
            ]
        },
        {
            "cell_type": "markdown",
            "source": [
                "## View list of Identities"
            ]
        },
        {
            "cell_type": "markdown",
            "source": [
                "Based on the Cashflows imported, the list of all possible identities, i.e. combinations of valid Contractual and Functional Currencies, Liability Types, (Re)Insurance and Oci, is contructed and reported here below:"
            ]
        },
        {
            "cell_type": "code",
            "source": [
                "var identities = reportStorage.GetIdentities(period, reportingNode, null, currencyType);",
                "\nidentities"
            ]
        },
        {
            "cell_type": "markdown",
            "source": [
                "<br/><br/>",
                "\n<a id='report'></a>",
                "\n# Report"
            ]
        },
        {
            "cell_type": "markdown",
            "source": [
                "Please select here below the target Data Node for executing the tests below:"
            ]
        },
        {
            "cell_type": "code",
            "source": [
                "var dataNode = \"DT1.1\";"
            ]
        },
        {
            "cell_type": "markdown",
            "source": [
                "The Group of Contract selected is:"
            ]
        },
        {
            "cell_type": "code",
            "source": [
                "var groupOfContract = (await Workspace.Query<GroupOfContract>().Where(x => x.SystemName == dataNode).ToArrayAsync()).FirstOrDefault();",
                "\ngroupOfContract"
            ]
        },
        {
            "cell_type": "markdown",
            "source": [
                "where ",
                "\n- the **OciType** can be <code>Default</code> for contracts with non-zero OCI, and <code>null</code> otherwise, ",
                "\n- the **Liability Type** can be <code>LRC</code> for Liability for Remaining Coverage, and <code>LIC</code> for Liability of Incurred Claims,",
                "\n- the **Partner** can be <code>null</code> for Insurance contracts, or equal to the Partner System Name for Reinsurance contracts."
            ]
        },
        {
            "cell_type": "markdown",
            "source": [
                "The summary of the Financial Performance report is shown below"
            ]
        },
        {
            "cell_type": "code",
            "source": [
                "Report.ForDataCube( Test.GetScopes<FinancialPerformance>(identities).Aggregate().FinancialPerformance.Filter((\"GroupOfContract\", dataNode)) )",
                "\n      .WithQuerySource(DataSource)",
                "\n      .SliceRowsBy(\"VariableType\", \"EstimateType\")",
                "\n      .SliceColumnsBy(CurrencyGrouper(currencyType), \"LiabilityType\",\"GroupOfContract\")",
                "\n      .WithGridOptions( o => o.WithDefaultColumn( c => c.WithWidth(260) ) with {GroupDefaultExpanded = 3, Height = 900, OnGridReady = null} )",
                "\n      .ToReport()"
            ]
        },
        {
            "cell_type": "markdown",
            "source": [
                "<br/><br/>",
                "\n<a name='inspection'></a>",
                "\n# Inspection"
            ]
        },
        {
            "cell_type": "markdown",
            "source": [
                "## Fulfillment Cashflows"
            ]
        },
        {
            "cell_type": "markdown",
            "source": [
                "The Fulfillment Cashflow (FCF) corresponds to the sum of the Best Estimate [Present Value](https://portal.stage.systemorph.cloud/project/ifrs17ce/env/dev/Import/ImportScopeCalculation#current-and-locked) (PV) and the [Risk Adjustment](https://portal.stage.systemorph.cloud/project/ifrs17ce/env/dev/Import/ImportScopeCalculation#risk-adjustment) (RA), both summed over Amounty Types, and both discounted with the Locked-In curve in the BBA valuation approach:",
                "\n",
                "\n$$",
                "\n\\text{FCF}(\\text{AoC}) =  \\text{PV Locked}(\\text{AoC})",
                "\n\\bigg|_{\\substack{\\text{Non Attributable} \\\\ \\text{Amount Types} \\\\ \\text{excluded}}}  ",
                "\n+ \\text{RA Locked}(\\text{AoC}) ~.",
                "\n$$"
            ]
        },
        {
            "cell_type": "markdown",
            "source": [
                "### Non Financial"
            ]
        },
        {
            "cell_type": "markdown",
            "source": [
                "The computed value for the non financial contribution to the FCF is"
            ]
        },
        {
            "cell_type": "code",
            "source": [
                "var computedDeltaFCF_nonFinancial = Test.GetScopes<FcfChangeInEstimate>(identities).Aggregate()",
                "\n                                        .FpNonFinancial.Filter((\"GroupOfContract\", dataNode)).Aggregate().Value;"
            ]
        },
        {
            "cell_type": "code",
            "source": [
                "computedDeltaFCF_nonFinancial"
            ]
        },
        {
            "cell_type": "markdown",
            "source": [
                "This value can be independently computed starting from the full list of FCFs"
            ]
        },
        {
            "cell_type": "code",
            "source": [
                "var FCFs = Test.GetScopes<Fcf>(identities).Aggregate().Fcf.Filter((\"GroupOfContract\", dataNode));"
            ]
        },
        {
            "cell_type": "code",
            "source": [
                "var deltaFCF = FCFs.Filter((\"VariableType\", \"!BOP\"),(\"VariableType\", \"!EOP\")) +",
                "\n               FCFs.Filter((\"VariableType\", AocTypes.BOP),(\"Novelty\", Novelties.N));"
            ]
        },
        {
            "cell_type": "code",
            "source": [
                "deltaFCF.Aggregate().Value"
            ]
        },
        {
            "cell_type": "code",
            "source": [
                "var expectedDeltaFCF_nonFinancial = deltaFCF.Filter((\"VariableType\", \"!IA\"), ",
                "\n                                                    (\"VariableType\", \"!YCU\"), ",
                "\n                                                    (\"VariableType\", \"!CRU\"), ",
                "\n                                                    (\"VariableType\", \"!FX\") ).Aggregate().Value;"
            ]
        },
        {
            "cell_type": "code",
            "source": [
                "expectedDeltaFCF_nonFinancial"
            ]
        },
        {
            "cell_type": "markdown",
            "source": [
                "For consistency, this term is taken with the minus sign"
            ]
        },
        {
            "cell_type": "code",
            "source": [
                "expectedDeltaFCF_nonFinancial.CheckEquality( -computedDeltaFCF_nonFinancial ).Should().Be(true);"
            ]
        },
        {
            "cell_type": "markdown",
            "source": [
                "### Financial"
            ]
        },
        {
            "cell_type": "markdown",
            "source": [
                "Conversely, the computed value for the financial contribution to the Fulfillment Cashflows (FCF) is"
            ]
        },
        {
            "cell_type": "code",
            "source": [
                "var computedDeltaFCF_Financial = Test.GetScopes<FcfChangeInEstimate>(identities).Aggregate()",
                "\n                                     .FpFinancial.Filter((\"GroupOfContract\", dataNode)).Aggregate().Value;"
            ]
        },
        {
            "cell_type": "code",
            "source": [
                "computedDeltaFCF_Financial"
            ]
        },
        {
            "cell_type": "markdown",
            "source": [
                "The independent recalculation of this value reads"
            ]
        },
        {
            "cell_type": "code",
            "source": [
                "var expectedDeltaFCF_Financial = (deltaFCF.Filter((\"VariableType\", \"IA\")) +",
                "\n                                  deltaFCF.Filter((\"VariableType\", \"YCU\")) +",
                "\n                                  deltaFCF.Filter((\"VariableType\", \"CRU\")) ).Aggregate().Value;"
            ]
        },
        {
            "cell_type": "code",
            "source": [
                "expectedDeltaFCF_Financial"
            ]
        },
        {
            "cell_type": "markdown",
            "source": [
                "taking the minus sign into account"
            ]
        },
        {
            "cell_type": "code",
            "source": [
                "expectedDeltaFCF_Financial.CheckEquality( -computedDeltaFCF_Financial ).Should().Be(true);"
            ]
        },
        {
            "cell_type": "markdown",
            "source": [
                "### FX"
            ]
        },
        {
            "cell_type": "markdown",
            "source": [
                "The computed value for the FX contribution to the Fulfillment Cashflows (FCF) is"
            ]
        },
        {
            "cell_type": "code",
            "source": [
                "var computedDeltaFCF_Fx = Test.GetScopes<FcfChangeInEstimate>(identities).Aggregate()",
                "\n                                     .FpFx.Filter((\"GroupOfContract\", dataNode)).Aggregate().Value;"
            ]
        },
        {
            "cell_type": "code",
            "source": [
                "computedDeltaFCF_Fx"
            ]
        },
        {
            "cell_type": "markdown",
            "source": [
                "The independent recalculation of this value reads"
            ]
        },
        {
            "cell_type": "code",
            "source": [
                "var expectedDeltaFCF_Fx = deltaFCF.Filter((\"VariableType\", \"FX\")).Aggregate().Value;"
            ]
        },
        {
            "cell_type": "code",
            "source": [
                "expectedDeltaFCF_Fx"
            ]
        },
        {
            "cell_type": "markdown",
            "source": [
                "taking the minus sign into account"
            ]
        },
        {
            "cell_type": "code",
            "source": [
                "expectedDeltaFCF_Fx.CheckEquality( -computedDeltaFCF_Fx ).Should().Be(true);"
            ]
        },
        {
            "cell_type": "markdown",
            "source": [
                "<a id='oci'></a>",
                "\n### Other Comprehensive Income"
            ]
        },
        {
            "cell_type": "markdown",
            "source": [
                "The Other Comprehensive Income (OCI) term is by definition the sum of the financial contributions not related to the insurance sector.",
                "\n",
                "\nThe <code>Default</code> method to compute the OCI term is by subtracting the FCF computed with the *Locked-In* rates and the FCF computed with the *Current* rates. In this way the non insurance financial volatiliy of the economic input is relegated to the OCI. "
            ]
        },
        {
            "cell_type": "code",
            "source": [
                "var computedDeltaFCF_OCI = Test.GetScopes<FcfChangeInEstimate>(identities).Aggregate()",
                "\n                               .OciFinancial.Filter((\"GroupOfContract\", dataNode)).Aggregate().Value;"
            ]
        },
        {
            "cell_type": "code",
            "source": [
                "computedDeltaFCF_OCI"
            ]
        },
        {
            "cell_type": "markdown",
            "source": [
                "The OCI contribution is zero when the OCI option is disabled for the [target Group of Contract](#report).",
                "\n",
                "\nHere below we follow the steps to calculate independently the OCI contribution "
            ]
        },
        {
            "cell_type": "code",
            "source": [
                "var DeltaFCF_Locked = deltaFCF.Aggregate().Value;"
            ]
        },
        {
            "cell_type": "code",
            "source": [
                "var FCFs_current = Test.GetScopes<CurrentFcf>(identities).Aggregate().CurrentFcf.Filter((\"GroupOfContract\", dataNode));"
            ]
        },
        {
            "cell_type": "code",
            "source": [
                "var DeltaFCF_Current = FCFs_current.Filter((\"VariableType\", \"!BOP\"),(\"VariableType\", \"!EOP\")) +",
                "\n                       FCFs_current.Filter((\"VariableType\", AocTypes.BOP),(\"Novelty\", Novelties.N));"
            ]
        },
        {
            "cell_type": "code",
            "source": [
                "var expectedDeltaFCF_OCI = DeltaFCF_Locked - DeltaFCF_Current.Aggregate().Value;"
            ]
        },
        {
            "cell_type": "code",
            "source": [
                "DeltaFCF_Locked"
            ]
        },
        {
            "cell_type": "code",
            "source": [
                "DeltaFCF_Current.Aggregate().Value"
            ]
        },
        {
            "cell_type": "code",
            "source": [
                "expectedDeltaFCF_OCI"
            ]
        },
        {
            "cell_type": "code",
            "source": [
                "expectedDeltaFCF_OCI.CheckEquality( computedDeltaFCF_OCI ).Should().Be(true);"
            ]
        },
        {
            "cell_type": "markdown",
            "source": [
                "### FX Other Comprehensive Income"
            ]
        },
        {
            "cell_type": "markdown",
            "source": [
                "The FX impact on the Other Comprehensive Income is calculated using the same formulas defined [above](#oci) but is presented separately in the Financial Performance.",
                "\n",
                "\nThe computed value for the FX contribution to the Other Comprehensive Income (OCI) is"
            ]
        },
        {
            "cell_type": "code",
            "source": [
                "var computedFxFCF_OCI = Test.GetScopes<FcfChangeInEstimate>(identities).Aggregate()",
                "\n                               .OciFx.Filter((\"GroupOfContract\", dataNode)).Aggregate().Value;"
            ]
        },
        {
            "cell_type": "code",
            "source": [
                "computedFxFCF_OCI"
            ]
        },
        {
            "cell_type": "markdown",
            "source": [
                "The OCI contribution is zero when the OCI option is disabled for the [target Group of Contract](#report).",
                "\n",
                "\nHere below we follow the steps to calculate independently the FX OCI contribution "
            ]
        },
        {
            "cell_type": "code",
            "source": [
                "var FxFCF_Locked = deltaFCF.Filter((\"VariableType\", AocTypes.FX)).Aggregate().Value;"
            ]
        },
        {
            "cell_type": "code",
            "source": [
                "var FxFCF_Current = FCFs_current.Filter((\"VariableType\", AocTypes.FX)).Aggregate().Value;"
            ]
        },
        {
            "cell_type": "code",
            "source": [
                "var expectedFxFCF_OCI = FxFCF_Locked - FxFCF_Current;"
            ]
        },
        {
            "cell_type": "code",
            "source": [
                "FxFCF_Locked"
            ]
        },
        {
            "cell_type": "code",
            "source": [
                "FxFCF_Current"
            ]
        },
        {
            "cell_type": "code",
            "source": [
                "expectedFxFCF_OCI"
            ]
        },
        {
            "cell_type": "code",
            "source": [
                "expectedFxFCF_OCI.CheckEquality( computedFxFCF_OCI ).Should().Be(true);"
            ]
        },
        {
            "cell_type": "markdown",
            "source": [
                "## Contractual Service Margin"
            ]
        },
        {
            "cell_type": "markdown",
            "source": [
                "### Non Financial"
            ]
        },
        {
            "cell_type": "markdown",
            "source": [
                "The computed value for the non financial change of the CSM is"
            ]
        },
        {
            "cell_type": "code",
            "source": [
                "var computedDeltaCSM_nonFinancial = Test.GetScopes<CsmChangeInEstimate>(identities).Aggregate()",
                "\n                                        .NonFinancialChanges.Filter((\"GroupOfContract\", dataNode)).Aggregate().Value;"
            ]
        },
        {
            "cell_type": "code",
            "source": [
                "computedDeltaCSM_nonFinancial"
            ]
        },
        {
            "cell_type": "markdown",
            "source": [
                "This value can be independently computed starting from the full CSM data from which the delta can be computed:"
            ]
        },
        {
            "cell_type": "code",
            "source": [
                "var CSM = Test.GetScopes<Csm>(identities).Aggregate().Csm.Filter((\"GroupOfContract\", dataNode));"
            ]
        },
        {
            "cell_type": "code",
            "source": [
                "var deltaCSM = CSM.Filter((\"VariableType\", \"!BOP\"),(\"VariableType\", \"!EOP\")) +",
                "\n               CSM.Filter((\"VariableType\", AocTypes.BOP),(\"Novelty\", Novelties.N));"
            ]
        },
        {
            "cell_type": "code",
            "source": [
                "deltaCSM.Aggregate().Value"
            ]
        },
        {
            "cell_type": "markdown",
            "source": [
                "The non Financial contribution is calculated subtracting the Amortization and the Interest Accretion terms:"
            ]
        },
        {
            "cell_type": "code",
            "source": [
                "var expectedDeltaCSM_nonFinancial = deltaCSM.Filter((\"VariableType\", \"!AM\"), (\"VariableType\", \"!IA\"), (\"VariableType\", \"!YCU\"), (\"VariableType\", \"!CRU\"), (\"VariableType\", \"!FX\")).Aggregate().Value;"
            ]
        },
        {
            "cell_type": "code",
            "source": [
                "expectedDeltaCSM_nonFinancial"
            ]
        },
        {
            "cell_type": "code",
            "source": [
                "expectedDeltaCSM_nonFinancial.CheckEquality( -computedDeltaCSM_nonFinancial ).Should().Be(true);"
            ]
        },
        {
            "cell_type": "markdown",
            "source": [
                "### Financial"
            ]
        },
        {
            "cell_type": "markdown",
            "source": [
                "Conversely, the computed value for the financial change of the CSM is"
            ]
        },
        {
            "cell_type": "code",
            "source": [
                "var computedDeltaCSM_Financial = Test.GetScopes<CsmChangeInEstimate>(identities).Aggregate()",
                "\n                                     .FinancialChanges.Filter((\"GroupOfContract\", dataNode)).Aggregate().Value;"
            ]
        },
        {
            "cell_type": "code",
            "source": [
                "computedDeltaCSM_Financial"
            ]
        },
        {
            "cell_type": "markdown",
            "source": [
                "This value can be independently computed starting from the $\\Delta\\text{CSM}$, and considering only Interest Accretion, Yield Curve Update and Credit Risk Update terms"
            ]
        },
        {
            "cell_type": "code",
            "source": [
                "var expectedDeltaCSM_Financial = ( deltaCSM.Filter((\"VariableType\", \"IA\")) +",
                "\n                                   deltaCSM.Filter((\"VariableType\", \"YCU\")) +",
                "\n                                   deltaCSM.Filter((\"VariableType\", \"CRU\")) )",
                "\n                                 .Aggregate().Value;"
            ]
        },
        {
            "cell_type": "code",
            "source": [
                "expectedDeltaCSM_Financial"
            ]
        },
        {
            "cell_type": "code",
            "source": [
                "expectedDeltaCSM_Financial.CheckEquality( -computedDeltaCSM_Financial ).Should().Be(true);"
            ]
        },
        {
            "cell_type": "markdown",
            "source": [
                "### FX"
            ]
        },
        {
            "cell_type": "markdown",
            "source": [
                "The computed value for the FX change of the CSM is"
            ]
        },
        {
            "cell_type": "code",
            "source": [
                "var computedDeltaCSM_Fx = Test.GetScopes<CsmChangeInEstimate>(identities).Aggregate()",
                "\n                                     .Fx.Filter((\"GroupOfContract\", dataNode)).Aggregate().Value;"
            ]
        },
        {
            "cell_type": "code",
            "source": [
                "computedDeltaCSM_Fx"
            ]
        },
        {
            "cell_type": "markdown",
            "source": [
                "This value can be independently computed starting from the $\\Delta\\text{CSM}$, and considering only the FX term"
            ]
        },
        {
            "cell_type": "code",
            "source": [
                "var expectedDeltaCSM_Fx = deltaCSM.Filter((\"VariableType\", AocTypes.FX)).Aggregate().Value;"
            ]
        },
        {
            "cell_type": "code",
            "source": [
                "expectedDeltaCSM_Fx"
            ]
        },
        {
            "cell_type": "code",
            "source": [
                "expectedDeltaCSM_Fx.CheckEquality( -computedDeltaCSM_Fx ).Should().Be(true);"
            ]
        },
        {
            "cell_type": "markdown",
            "source": [
                "## Loss Component"
            ]
        },
        {
            "cell_type": "markdown",
            "source": [
                "### Non Financial"
            ]
        },
        {
            "cell_type": "markdown",
            "source": [
                "The computed value for the non financial change of the LC is"
            ]
        },
        {
            "cell_type": "code",
            "source": [
                "var computedDeltaLC_nonFinancial = Test.GetScopes<LcChangeInEstimate>(identities).Aggregate()",
                "\n                                       .NonFinancialChanges.Filter((\"GroupOfContract\", dataNode)).Aggregate().Value;"
            ]
        },
        {
            "cell_type": "code",
            "source": [
                "computedDeltaLC_nonFinancial"
            ]
        },
        {
            "cell_type": "markdown",
            "source": [
                "This value can be independently computed starting from the full CSM data from which the delta can be computed:"
            ]
        },
        {
            "cell_type": "code",
            "source": [
                "var LC = Test.GetScopes<Lc>(identities).Aggregate().Lc.Filter((\"GroupOfContract\", dataNode));"
            ]
        },
        {
            "cell_type": "code",
            "source": [
                "var deltaLC = LC.Filter((\"VariableType\", \"!BOP\"),(\"VariableType\", \"!EOP\")) +",
                "\n              LC.Filter((\"VariableType\", AocTypes.BOP),(\"Novelty\", Novelties.N));"
            ]
        },
        {
            "cell_type": "code",
            "source": [
                "deltaLC.Aggregate().Value"
            ]
        },
        {
            "cell_type": "markdown",
            "source": [
                "The non Financial contribution is calculated subtracting the Amortization, Interest Accretion, Yield Curve Update, Credit Risk Update, Fx terms:"
            ]
        },
        {
            "cell_type": "code",
            "source": [
                "var expectedDeltaLC_nonFinancial = deltaLC.Filter((\"VariableType\", \"!AM\"), (\"VariableType\", \"!IA\"), (\"VariableType\", \"!YCU\"), (\"VariableType\", \"!CRU\"), (\"VariableType\", \"!FX\")).Aggregate().Value;"
            ]
        },
        {
            "cell_type": "code",
            "source": [
                "expectedDeltaLC_nonFinancial"
            ]
        },
        {
            "cell_type": "code",
            "source": [
                "expectedDeltaLC_nonFinancial.CheckEquality( -computedDeltaLC_nonFinancial ).Should().Be(true);"
            ]
        },
        {
            "cell_type": "markdown",
            "source": [
                "### Financial"
            ]
        },
        {
            "cell_type": "markdown",
            "source": [
                "Conversely, the computed value for the financial change of the LC is"
            ]
        },
        {
            "cell_type": "code",
            "source": [
                "var computedDeltaLC_Financial = Test.GetScopes<LcChangeInEstimate>(identities).Aggregate()",
                "\n                                    .FinancialChanges.Filter((\"GroupOfContract\", dataNode)).Aggregate().Value;"
            ]
        },
        {
            "cell_type": "code",
            "source": [
                "computedDeltaLC_Financial"
            ]
        },
        {
            "cell_type": "markdown",
            "source": [
                "This value can be independently computed starting from the $\\Delta\\text{LC}$, and considering only the Interest Accretion, Yield Curve Update, Credit Risk Update terms"
            ]
        },
        {
            "cell_type": "code",
            "source": [
                "var expectedDeltaLC_Financial = ( deltaLC.Filter((\"VariableType\", \"IA\")) +",
                "\n                                  deltaLC.Filter((\"VariableType\", \"YCU\")) +",
                "\n                                  deltaLC.Filter((\"VariableType\", \"CRU\")) )",
                "\n                                .Aggregate().Value;"
            ]
        },
        {
            "cell_type": "code",
            "source": [
                "expectedDeltaLC_Financial"
            ]
        },
        {
            "cell_type": "code",
            "source": [
                "expectedDeltaLC_Financial.CheckEquality( -computedDeltaLC_Financial ).Should().Be(true);"
            ]
        },
        {
            "cell_type": "markdown",
            "source": [
                "### FX"
            ]
        },
        {
            "cell_type": "markdown",
            "source": [
                "The computed value for the FX change of the LC is"
            ]
        },
        {
            "cell_type": "code",
            "source": [
                "var computedDeltaLC_Fx = Test.GetScopes<LcChangeInEstimate>(identities).Aggregate()",
                "\n                                    .Fx.Filter((\"GroupOfContract\", dataNode)).Aggregate().Value;"
            ]
        },
        {
            "cell_type": "code",
            "source": [
                "computedDeltaLC_Fx"
            ]
        },
        {
            "cell_type": "markdown",
            "source": [
                "This value can be independently computed starting from the $\\Delta\\text{LC}$, and considering only the FX term"
            ]
        },
        {
            "cell_type": "code",
            "source": [
                "var expectedDeltaLC_Fx = deltaLC.Filter((\"VariableType\", AocTypes.FX)).Aggregate().Value;"
            ]
        },
        {
            "cell_type": "code",
            "source": [
                "expectedDeltaLC_Fx"
            ]
        },
        {
            "cell_type": "code",
            "source": [
                "expectedDeltaLC_Fx.CheckEquality( -computedDeltaLC_Fx ).Should().Be(true);"
            ]
        },
        {
            "cell_type": "markdown",
            "source": [
                "## Loss Recovery Component"
            ]
        },
        {
            "cell_type": "markdown",
            "source": [
                "### Non Financial"
            ]
        },
        {
            "cell_type": "markdown",
            "source": [
                "If the [target Group of Contract](#report) is not of type Re-Insurance, the result of the following will return <code>null</code>.",
                "\n",
                "\nThe computed value for the non financial change of the LoReCo is"
            ]
        },
        {
            "cell_type": "code",
            "source": [
                "var computedDeltaLORECO_nonFinancial = Test.GetScopes<LorecoChangeInEstimate>(identities).Aggregate()",
                "\n                                           .NonFinancialChanges.Filter((\"GroupOfContract\", dataNode)).Aggregate()?.Value?? 0;"
            ]
        },
        {
            "cell_type": "code",
            "source": [
                "computedDeltaLORECO_nonFinancial"
            ]
        },
        {
            "cell_type": "markdown",
            "source": [
                "This value can be independently computed starting from the full LoReCo data from which the delta can be computed:"
            ]
        },
        {
            "cell_type": "code",
            "source": [
                "var LORECO = Test.GetScopes<Loreco>(identities).Aggregate().Loreco.Filter((\"GroupOfContract\", dataNode));"
            ]
        },
        {
            "cell_type": "code",
            "source": [
                "var deltaLORECO = LORECO.Filter((\"VariableType\", \"!BOP\"),(\"VariableType\", \"!EOP\")) +",
                "\n                  LORECO.Filter((\"VariableType\", AocTypes.BOP),(\"Novelty\", Novelties.N));"
            ]
        },
        {
            "cell_type": "code",
            "source": [
                "deltaLORECO.Aggregate()?.Value?? 0"
            ]
        },
        {
            "cell_type": "markdown",
            "source": [
                "The non Financial contribution is calculated subtracting the Amortization and the Interest Accretion terms:"
            ]
        },
        {
            "cell_type": "code",
            "source": [
                "var expectedDeltaLORECO_nonFinancial = deltaLORECO.Filter((\"VariableType\", \"!AM\"), (\"VariableType\", \"!IA\"), (\"VariableType\", \"!YCU\"), (\"VariableType\", \"!CRU\"), (\"VariableType\", \"!FX\")).Aggregate()?.Value?? 0;"
            ]
        },
        {
            "cell_type": "code",
            "source": [
                "expectedDeltaLORECO_nonFinancial"
            ]
        },
        {
            "cell_type": "code",
            "source": [
                "expectedDeltaLORECO_nonFinancial.CheckEquality( -computedDeltaLORECO_nonFinancial ).Should().Be(true);"
            ]
        },
        {
            "cell_type": "markdown",
            "source": [
                "### Financial"
            ]
        },
        {
            "cell_type": "markdown",
            "source": [
                "Conversely, the computed value for the financial change of the LoReCo is"
            ]
        },
        {
            "cell_type": "code",
            "source": [
                "var computedDeltaLORECO_Financial = Test.GetScopes<LorecoChangeInEstimate>(identities).Aggregate()",
                "\n                                    .FinancialChanges.Filter((\"GroupOfContract\", dataNode)).Aggregate()?.Value?? 0;"
            ]
        },
        {
            "cell_type": "code",
            "source": [
                "computedDeltaLORECO_Financial"
            ]
        },
        {
            "cell_type": "markdown",
            "source": [
                "This value can be independently computed starting from the $\\Delta\\text{LoReCo}$, and considering only the Interest Accretion, Yield Curve Update, Credit Risk Update terms"
            ]
        },
        {
            "cell_type": "code",
            "source": [
                "var expectedDeltaLORECO_Financial = ( deltaLORECO.Filter((\"VariableType\", \"IA\")) +",
                "\n                                     deltaLORECO.Filter((\"VariableType\", \"YCU\")) +",
                "\n                                     deltaLORECO.Filter((\"VariableType\", \"CRU\")) )",
                "\n                                    .Aggregate()?.Value?? 0;"
            ]
        },
        {
            "cell_type": "code",
            "source": [
                "expectedDeltaLORECO_Financial"
            ]
        },
        {
            "cell_type": "code",
            "source": [
                "expectedDeltaLORECO_Financial.CheckEquality( -computedDeltaLORECO_Financial ).Should().Be(true);"
            ]
        },
        {
            "cell_type": "markdown",
            "source": [
                "### FX"
            ]
        },
        {
            "cell_type": "markdown",
            "source": [
                "The computed value for the FX change of the LoReCo is"
            ]
        },
        {
            "cell_type": "code",
            "source": [
                "var computedDeltaLORECO_Fx = Test.GetScopes<LorecoChangeInEstimate>(identities).Aggregate()",
                "\n                                    .Fx.Filter((\"GroupOfContract\", dataNode)).Aggregate()?.Value?? 0;"
            ]
        },
        {
            "cell_type": "code",
            "source": [
                "computedDeltaLORECO_Fx"
            ]
        },
        {
            "cell_type": "markdown",
            "source": [
                "This value can be independently computed starting from the $\\Delta\\text{LoReCo}$, and considering only the FX term"
            ]
        },
        {
            "cell_type": "code",
            "source": [
                "var expectedDeltaLORECO_Fx = deltaLORECO.Filter((\"VariableType\", AocTypes.FX)).Aggregate()?.Value?? 0;"
            ]
        },
        {
            "cell_type": "code",
            "source": [
                "expectedDeltaLORECO_Fx"
            ]
        },
        {
            "cell_type": "code",
            "source": [
                "expectedDeltaLORECO_Fx.CheckEquality( -computedDeltaLORECO_Fx ).Should().Be(true);"
            ]
        },
        {
            "cell_type": "markdown",
            "source": [
                "<br/><br/>",
                "\n<a name='reconciliation'></a>",
                "\n# Reconciliation"
            ]
        },
        {
            "cell_type": "markdown",
            "source": [
                "Based on the results calculated in Section 3, we check here the consistency of the [Financial Performance Report](#report). ",
                "\n",
                "\nFiner granular reconciliations can be performed by following the datails of how each report contributes to the Financial Performance Report. Please, refer to the [Report documentation](https://portal.stage.systemorph.cloud/project/ifrs17ce/env/dev/Report/ReportScopes#financial-performance) for all the details. "
            ]
        },
        {
            "cell_type": "markdown",
            "source": [
                "## Insurance Revenue"
            ]
        },
        {
            "cell_type": "markdown",
            "source": [
                "The Insurance Revenue (IR) contributions vary from Insurance to Re-Insurance and depend on the Liability Type of the [target Group of Contract](#report). This can be summarized by the formulas below",
                "\n",
                "\n$$",
                "\n\\text{IR} = \\left\\{ ",
                "\n\\begin{array}{ll}",
                "\n\\Delta\\text{FCF Gross Non Financial} + \\Delta\\text{CSM Non Financial} + \\Delta\\text{CSM Release} \\\\",
                "\n+ \\text{Incurred Incoming Cashflows} + \\text{Claims ICO} + \\text{Incurred Deferrals} \\\\",
                "\n+ \\text{Exc. Experience Adjustment on Premiums} ~~,",
                "\n& \\text{for LRC Insurance contracts} \\\\[0.2cm]",
                "\n\\Delta\\text{CSM Non Financial} + \\Delta\\text{CSM Release} \\\\",
                "\n+ \\text{Incurred Incoming Cashflows} + \\text{Claims ICO} + \\text{Incurred Deferrals} ~~,",
                "\n& \\text{for LIC Insurance contracts} \\\\[0.2cm]",
                "\n\\text{Claims ICO} + \\text{Incurred Deferrals} ~~,",
                "\n& \\text{for Re-Insurance contracts}",
                "\n\\end{array}",
                "\n\\right.",
                "\n$$",
                "\n",
                "\nHere below we recompute the IR term:"
            ]
        },
        {
            "cell_type": "code",
            "source": [
                "var expectedDeltaCSM_release = deltaCSM.Filter((\"VariableType\", \"AM\")).Aggregate()?.Value?? 0;"
            ]
        },
        {
            "cell_type": "code",
            "source": [
                "var expectedIncurredIncomingCashflows = Test.GetScopes<IncurredActuals>(identities).Aggregate().Premiums",
                "\n                                            .Filter((\"GroupOfContract\", dataNode)).Aggregate()?.Value?? 0;"
            ]
        },
        {
            "cell_type": "code",
            "source": [
                "var expectedIncurredDeferralsIr = Test.GetScopes<IncurredDeferrals>(identities).Aggregate().AmortizationToIr",
                "\n                                      .Filter((\"GroupOfContract\", dataNode)).Aggregate()?.Value?? 0;"
            ]
        },
        {
            "cell_type": "code",
            "source": [
                "var expectedClaimsICO = Test.GetScopes<IncurredActuals>(identities).Aggregate().ClaimsIcoToIr",
                "\n                            .Filter((\"GroupOfContract\", dataNode)).Aggregate()?.Value?? 0;"
            ]
        },
        {
            "cell_type": "code",
            "source": [
                "var expectedExcExperienceAdjPremiums = Test.GetScopes<ExperienceAdjustmentOnPremium>(identities).Aggregate().ExperienceAdjustmentOnPremium",
                "\n                                           .Filter((\"GroupOfContract\", dataNode)).Aggregate()?.Value?? 0;"
            ]
        },
        {
            "cell_type": "code",
            "source": [
                "double IR = 0;",
                "\nif(groupOfContract.Partner == null && groupOfContract.LiabilityType == \"LRC\")",
                "\n    IR = - expectedDeltaFCF_nonFinancial ",
                "\n         - expectedDeltaCSM_nonFinancial ",
                "\n         - expectedDeltaCSM_release ",
                "\n         + expectedIncurredIncomingCashflows",
                "\n         + expectedClaimsICO",
                "\n         + expectedIncurredDeferralsIr",
                "\n         + expectedExcExperienceAdjPremiums;",
                "\nelse if(groupOfContract.Partner == null && groupOfContract.LiabilityType == \"LIC\")",
                "\n    IR = - expectedDeltaCSM_nonFinancial",
                "\n         - expectedDeltaCSM_release",
                "\n         + expectedIncurredIncomingCashflows",
                "\n         + expectedClaimsICO",
                "\n         + expectedIncurredDeferralsIr ",
                "\n         + expectedExcExperienceAdjPremiums;",
                "\nelse if(groupOfContract.Partner != null)",
                "\n    IR = + expectedClaimsICO",
                "\n         + expectedIncurredDeferralsIr",
                "\n         + expectedExcExperienceAdjPremiums;"
            ]
        },
        {
            "cell_type": "code",
            "source": [
                "IR"
            ]
        },
        {
            "cell_type": "markdown",
            "source": [
                "## Insurance Service Expenses"
            ]
        },
        {
            "cell_type": "markdown",
            "source": [
                "Analogously, the Insurance Service Expenses (ISE) read",
                "\n",
                "\n$$",
                "\n\\text{ISE} = \\left\\{ ",
                "\n\\begin{array}{ll}",
                "\n\\Delta\\text{LC Non Financial}",
                "\n+ \\Delta\\text{LC Release}",
                "\n+ \\text{Incurred ClaimsNIC} \\\\",
                "\n+ \\text{Incurred Expenses}",
                "\n+ \\text{Incurred Commissions}",
                "\n+ \\text{Incurred Deferrals}",
                "\n& \\text{for LRC Insurance contracts} \\\\[0.2cm]",
                "\n\\Delta\\text{FCF Reinsurance Non Financial}",
                "\n+ \\Delta\\text{LC Non Financial}",
                "\n+ \\Delta\\text{LC Release}",
                "\n+ \\text{Incurred ClaimsNIC} \\\\",
                "\n+ \\text{Incurred Expenses} ",
                "\n+ \\text{Incurred Commissions}",
                "\n+ \\text{Incurred Deferrals}",
                "\n& \\text{for LIC Insurance contracts} \\\\[0.2cm]",
                "\n\\Delta\\text{FCF Reinsurance Non Financial} ",
                "\n+ \\Delta\\text{CSM Non Financial} ",
                "\n+ \\Delta\\text{CSM Release} \\\\",
                "\n+ \\Delta\\text{LC Non Financial} ",
                "\n+ \\Delta\\text{LC Release} ",
                "\n+ \\Delta\\text{LoReCo Non Financial} \\\\",
                "\n+ \\text{Incurred Incoming Cashflows} ",
                "\n+ \\text{Incurred ClaimsNIC} ",
                "\n+ \\text{Incurred Expenses} \\\\",
                "\n+ \\text{Incurred Commissions}",
                "\n+ \\text{Incurred Deferrals}",
                "\n& \\text{for Re-Insurance contracts}",
                "\n\\end{array}",
                "\n\\right.",
                "\n$$",
                "\n",
                "\nHere below we recompute the ISE term:"
            ]
        },
        {
            "cell_type": "code",
            "source": [
                "var expectedDeltaLC_release = deltaLC.Filter((\"VariableType\", \"AM\")).Aggregate()?.Value?? 0;"
            ]
        },
        {
            "cell_type": "code",
            "source": [
                "var expectedDeltaLoReCo_release = deltaLORECO.Filter((\"VariableType\", \"AM\")).Aggregate()?.Value?? 0;"
            ]
        },
        {
            "cell_type": "code",
            "source": [
                "var expectedIncurredClaimsNIC = Test.GetScopes<IncurredActuals>(identities).Aggregate().ClaimsNic",
                "\n                                    .Filter((\"GroupOfContract\", dataNode)).Aggregate()?.Value?? 0;"
            ]
        },
        {
            "cell_type": "code",
            "source": [
                "var expectedIncurredExpenses = Test.GetScopes<IncurredActuals>(identities).Aggregate().Expenses",
                "\n                                   .Filter((\"GroupOfContract\", dataNode)).Aggregate()?.Value?? 0;"
            ]
        },
        {
            "cell_type": "code",
            "source": [
                "var expectedIncurredCommissions = Test.GetScopes<IncurredActuals>(identities).Aggregate().Commissions",
                "\n                                      .Filter((\"GroupOfContract\", dataNode)).Aggregate()?.Value?? 0;"
            ]
        },
        {
            "cell_type": "code",
            "source": [
                "var expectedIncurredClaimsICO = Test.GetScopes<IncurredActuals>(identities).Aggregate().ClaimsIcoToIse",
                "\n                            .Filter((\"GroupOfContract\", dataNode)).Aggregate()?.Value?? 0;"
            ]
        },
        {
            "cell_type": "code",
            "source": [
                "var expectedIncurredDeferralsIse = Test.GetScopes<IncurredDeferrals>(identities).Aggregate().AmortizationToIse",
                "\n                                       .Filter((\"GroupOfContract\", dataNode)).Aggregate()?.Value?? 0;"
            ]
        },
        {
            "cell_type": "code",
            "source": [
                "double ISE = 0;",
                "\nif(groupOfContract.Partner == null && groupOfContract.LiabilityType == \"LRC\")",
                "\n    ISE = - expectedDeltaLC_nonFinancial ",
                "\n          - expectedDeltaLC_release",
                "\n          + expectedIncurredClaimsNIC ",
                "\n          + expectedIncurredExpenses ",
                "\n          + expectedIncurredClaimsICO",
                "\n          + expectedIncurredCommissions",
                "\n          + expectedIncurredDeferralsIse;",
                "\nelse if(groupOfContract.Partner == null && groupOfContract.LiabilityType == \"LIC\")",
                "\n    ISE = - expectedDeltaFCF_nonFinancial",
                "\n          - expectedDeltaLC_nonFinancial ",
                "\n          - expectedDeltaLC_release",
                "\n          + expectedIncurredClaimsNIC ",
                "\n          + expectedIncurredExpenses ",
                "\n          + expectedIncurredClaimsICO",
                "\n          + expectedIncurredCommissions",
                "\n          + expectedIncurredDeferralsIse;",
                "\nelse if(groupOfContract.Partner != null)",
                "\n    ISE = - expectedDeltaFCF_nonFinancial",
                "\n          - expectedDeltaCSM_nonFinancial",
                "\n          - expectedDeltaCSM_release",
                "\n          - expectedDeltaLC_nonFinancial ",
                "\n          - expectedDeltaLC_release",
                "\n          - expectedDeltaLoReCo_release",
                "\n          + expectedIncurredIncomingCashflows",
                "\n          + expectedIncurredClaimsNIC ",
                "\n          + expectedIncurredExpenses ",
                "\n          + expectedIncurredClaimsICO",
                "\n          + expectedIncurredCommissions",
                "\n          + expectedIncurredDeferralsIse;"
            ]
        },
        {
            "cell_type": "code",
            "source": [
                "ISE"
            ]
        },
        {
            "cell_type": "markdown",
            "source": [
                "## Insurance Finance Income/Expenses"
            ]
        },
        {
            "cell_type": "markdown",
            "source": [
                "The Financial part associated to the Insurance business encompassing both the Income and Expenses is denoted IFIE from the initials marked in capital letters. The  ",
                "\n",
                "\n$$",
                "\n\\text{IFIE} = \\left\\{",
                "\n\\begin{array}{ll}",
                "\n\\Delta\\text{FCF Financial} + \\Delta\\text{CSM Financial} + \\Delta\\text{LC Financial} + \\Delta\\text{FCF FX} + \\Delta\\text{CSM FX} + \\Delta\\text{LC FX} ~~,",
                "\n& \\text{for Insurance contracts} \\\\[0.2cm]",
                "\n\\Delta\\text{FCF Financial} + \\Delta\\text{CSM Financial} + \\Delta\\text{LC Financial} ",
                "\n+ \\Delta\\text{LoReCo Financial} + \\Delta\\text{FCF FX} + \\Delta\\text{CSM FX} + \\Delta\\text{LC FX} ",
                "\n+ \\Delta\\text{LoReCo FX} ~~, ",
                "\n& \\text{for Re-Insurance contracts}",
                "\n\\end{array}",
                "\n\\right.",
                "\n$$",
                "\n",
                "\nHere below we recompute the IFIE term:"
            ]
        },
        {
            "cell_type": "code",
            "source": [
                "double IFIE = 0;",
                "\nif(groupOfContract.Partner == null) ",
                "\n    IFIE = - expectedDeltaFCF_Financial ",
                "\n           - expectedDeltaCSM_Financial",
                "\n           - expectedDeltaLC_Financial",
                "\n           - expectedDeltaFCF_Fx ",
                "\n           - expectedDeltaCSM_Fx",
                "\n           - expectedDeltaLC_Fx;",
                "\nelse",
                "\n    IFIE = - expectedDeltaFCF_Financial ",
                "\n           - expectedDeltaCSM_Financial",
                "\n           - expectedDeltaLC_Financial",
                "\n           - expectedDeltaLORECO_Financial",
                "\n           - expectedDeltaFCF_Fx ",
                "\n           - expectedDeltaCSM_Fx",
                "\n           - expectedDeltaLC_Fx",
                "\n           - expectedDeltaLORECO_Fx;"
            ]
        },
        {
            "cell_type": "code",
            "source": [
                "IFIE"
            ]
        },
        {
            "cell_type": "markdown",
            "source": [
                "## Other Comprehensive Income"
            ]
        },
        {
            "cell_type": "markdown",
            "source": [
                "The Other Comprehensive Income (OCI) can be non-zero only when the OCI is enabled for [target Group of Contract](#report), that is, <code>Oci Type = Default</code>.",
                "\n",
                "\n$$",
                "\n\\text{OCI} = \\Delta\\text{FCF} \\big|_{\\text{Locked-in}} - \\Delta\\text{FCF} \\big|_{\\text{Current}} ~~.",
                "\n$$",
                "\n",
                "\nHere below we recompute the OCI term:"
            ]
        },
        {
            "cell_type": "code",
            "source": [
                "var OCI = expectedDeltaFCF_OCI + expectedFxFCF_OCI;"
            ]
        },
        {
            "cell_type": "code",
            "source": [
                "OCI"
            ]
        },
        {
            "cell_type": "code",
            "source": [
                ""
            ]
        }
    ]
}