{
    "metadata": {
        "authors": [],
        "kernelspec": {
            "display_name": "Formula Framework",
            "language": "C#",
            "name": "C#"
        },
        "language_info": {
            "file_extension": ".cs",
            "mimetype": "text/plain",
            "name": "C#"
        },
        "toc-autonumbering": "True",
        "toc-showcode": "False"
    },
    "nbformat": 4,
    "nbformat_minor": 5,
    "cells": [
        {
            "cell_type": "markdown",
            "source": [
                "<a id='report-production'></a>",
                "\n<p style=\"font-weight:bold;\"> <span style=\"font-size: 36px\"> Reports</span> </p>"
            ]
        },
        {
            "cell_type": "markdown",
            "source": [
                "For demonstration purposes we import here data for 7 *Group of Insurance Contract* (GIC) and 4 *Group of Reinsurance Contract* (GRIC) - the import is triggered in the [Set up data and configuration](#set-up-data-and-configuration).",
                "\n<br> The imported data set consists of cashflows, actuals, and parameters for two consecutive periods (Year 2020-Quarter 4 and Year 2021-Quarter 1)",
                "\n<br> Input files can be found in the **File** directory. You are invited to change them or upload your own or to add new data in the [CloseImportTemplate](../Import/CloseImportTemplate) notebook. ",
                "\n<br> For simplicity, we import the same transactional data for all GICs and GRICs. Each *Group of Contracts* produces different figures due to differences in parameters such as *Liability Type*, *Oci type* or *Premium allocation factor* to Contractual Service Margin.",
                "\n",
                "\nFollow the instructions below for a guided interaction with the reports."
            ]
        },
        {
            "cell_type": "markdown",
            "source": [
                "# Set up data and configuration"
            ]
        },
        {
            "cell_type": "code",
            "source": [
                "#!eval-notebook \"../Import/CloseImportTemplate\""
            ]
        },
        {
            "cell_type": "code",
            "source": [
                "Workspace.InitializeFrom(DataSource);",
                "\nifrs17Report.Reset(Workspace)"
            ]
        },
        {
            "cell_type": "markdown",
            "source": [
                "# Best Estimate",
                "\n",
                "\nPresent values of the [best-estimate](https://portal.systemorph.cloud/project/ifrs17/env/v1.0.0/Report/ReportScopes#best-estimate) future cashflows are shown here in an Analysis of Change report.",
                "\n",
                "\nThe granularity of the reported figures can be modified by changing the Column Slices options.",
                "\nFor example one can add <code>\"GroupOfContract\"</code> to separate the contributions of the individual Group of Contracts.",
                "\n",
                "\nAggregated values are displayed when the data has a finer granularity than the one selected by the report slice options."
            ]
        },
        {
            "cell_type": "code",
            "source": [
                "var pvReport = ifrs17Report.PresentValues;",
                "\npvReport.ReportingNode = \"CH\";",
                "\npvReport.ReportingPeriod = (2021, 3);",
                "\npvReport.CurrencyType = CurrencyType.Contractual;",
                "\npvReport.ColumnSlices = new string[]{};//\"GroupOfContract\", \"AmountType\"",
                "\npvReport.DataFilter = null; //new [] {(\"GroupOfContract\", \"DT1.2\"),(\"LiabilityType\", \"LIC\") }",
                "\n(await pvReport.ToReportAsync) with {Height = 720}"
            ]
        },
        {
            "cell_type": "markdown",
            "source": [
                "# Risk Adjustment",
                "\n",
                "\nPresent values of the [risk adjustment](https://portal.systemorph.cloud/project/ifrs17/env/v1.0.0/Report/ReportScopes#risk-adjustment) future cashflows are shown here.",
                "\n",
                "\nThe additional ColumnSlices are added to the view as the inner column. This can dicrease the readability of the report. For example, adding the slice by \"GroupOfContract\" leaves the lock-in and current rate contributions far apart and difficult to compare. The re-order of default slices with custom slices is achieved by esplicitly add the default slice among the custom slices. In our case, you can try entering both \"GroupOfContract\" and \"EconomicBasis\" separated by a comma in the ColumnSlices."
            ]
        },
        {
            "cell_type": "code",
            "source": [
                "var raReport = ifrs17Report.RiskAdjustments;",
                "\nraReport.ReportingNode = \"CH\";",
                "\nraReport.ReportingPeriod = (2021, 3);",
                "\nraReport.ColumnSlices = new string[]{};//\"GroupOfContract\", \"EconomicBasis\"",
                "\nraReport.DataFilter = null;//new [] {(\"GroupOfContract\", \"DT1.2\")};",
                "\n(await raReport.ToReportAsync) with {Height = 800}"
            ]
        },
        {
            "cell_type": "markdown",
            "source": [
                "# Written Actuals",
                "\n",
                "\n[Written Actuals](https://portal.systemorph.cloud/project/ifrs17/env/v1.0.0/Report/ReportScopes#written-accrual-deferral) are shown here. ",
                "\n",
                "\nIn this case, the analysis of change view is replaced with a default slice by the **AmountTypes**. Only the amount type with non zero value are displayed. ",
                "\nFilters can be applied to report to isolate a sub-set of the data, by selecting the dimension to filter and the system value desired. For example, to investigate the contribution of a single Group of Contract the following filter can be applied: new [] {(\"GroupOfContract\", \"DT1.1\")}."
            ]
        },
        {
            "cell_type": "code",
            "source": [
                "var writtenActualReport = ifrs17Report.WrittenActuals;",
                "\nwrittenActualReport.ReportingNode = \"CH\";",
                "\nwrittenActualReport.ReportingPeriod = (2021, 3);",
                "\nwrittenActualReport.ColumnSlices = new string[]{};//\"GroupOfContract\"",
                "\nwrittenActualReport.DataFilter =  null; //new [] {(\"GroupOfContract\", \"DT1.1\")};",
                "\n(await writtenActualReport.ToReportAsync) with {Height = 400}"
            ]
        },
        {
            "cell_type": "markdown",
            "source": [
                "## Advance, Overdue Actuals",
                "\n",
                "\nActuals payed in [Advance](https://portal.systemorph.cloud/project/ifrs17/env/v1.0.0/Report/ReportScopes#written-accrual-deferral)",
                "\nor [Overdue](https://portal.systemorph.cloud/project/ifrs17/env/v1.0.0/Report/ReportScopes#written-accrual-deferral) are shown here together in a simplified Analysis of Change. ",
                "\n",
                "\nCombining Filters and ColumnSlices facilitate the report analysis. For example, you can select \"GroupOfContract\" as column slices with a Filter on EstimateType \"AA\" to analyse the Advance Actuals for all Group of Contract. "
            ]
        },
        {
            "cell_type": "code",
            "source": [
                "var accrualActualReport = ifrs17Report.AccrualActuals;",
                "\naccrualActualReport.ReportingNode = \"CH\";",
                "\naccrualActualReport.ReportingPeriod = (2021, 3);",
                "\naccrualActualReport.ColumnSlices = new string[]{};//\"GroupOfContract\", \"AmountType\"",
                "\naccrualActualReport.DataFilter = null; //new [] {(\"EstimateType\", \"AA\")};",
                "\n(await accrualActualReport.ToReportAsync) with {Height = 400}"
            ]
        },
        {
            "cell_type": "markdown",
            "source": [
                "## Deferrable Actuals",
                "\n",
                "\n[Deferrable Actuals](https://portal.systemorph.cloud/project/ifrs17/env/v1.0.0/Report/ReportScopes#written-accrual-deferral) are shown here. Amortization of the deferrable amount is computed using the Coverage Unit pattern.  "
            ]
        },
        {
            "cell_type": "code",
            "source": [
                "var deferrableActualReport = ifrs17Report.DeferralActuals;",
                "\ndeferrableActualReport.ReportingNode = \"CH\";",
                "\ndeferrableActualReport.ReportingPeriod = (2021, 3);",
                "\ndeferrableActualReport.ColumnSlices = new string[]{};//\"GroupOfContract\", \"AmountType\"",
                "\ndeferrableActualReport.DataFilter = null;//new [] {(\"GroupOfContract\", \"DT1.1\")};",
                "\n(await deferrableActualReport.ToReportAsync) with {Height = 400}"
            ]
        },
        {
            "cell_type": "markdown",
            "source": [
                "# Fulfilment Cashflow",
                "\n",
                "\nPresent Value of the [Fulfilment Cashflow](https://portal.systemorph.cloud/project/ifrs17/env/v1.0.0/Report/ReportScopes#fulfillment-cashflows) are shown here. ",
                "\n<br> The individual contributions from Best Estimate and Risk Adjustment can be visualized slicing by **EstimateType**.",
                "\n",
                "\nFilters can be applied to report to isolate a sub-set of the data. For example you can Filter by a specific Group of Contract using its system name using : new [] {(\"GroupOfContract\", \"DT1.1\")}.",
                "\n"
            ]
        },
        {
            "cell_type": "code",
            "source": [
                "var fulfillmentCashflowsReport = ifrs17Report.FulfillmentCashflows;",
                "\nfulfillmentCashflowsReport.ReportingNode = \"CH\";",
                "\nfulfillmentCashflowsReport.ReportingPeriod = (2021, 3);",
                "\nfulfillmentCashflowsReport.ColumnSlices = new string[]{};//\"EstimateType\"",
                "\nfulfillmentCashflowsReport.DataFilter = null;// new [] {(\"GroupOfContract\", \"DT1.1\")};",
                "\n(await fulfillmentCashflowsReport.ToReportAsync) with {Height = 750}"
            ]
        },
        {
            "cell_type": "markdown",
            "source": [
                "# Actuarial Experience Adjustment",
                "\n",
                "\nA comparison between [Written Actual](#written-actual) and the Releases of the [Best Estimate](#present-value) is reported in the [Actuarial Experience Adjustment](https://portal.systemorph.cloud/project/ifrs17/env/v1.0.0/Report/ReportScopes#experience-adjustment)."
            ]
        },
        {
            "cell_type": "code",
            "source": [
                "var experienceAdjustmentsReport = ifrs17Report.ExperienceAdjustments;",
                "\nexperienceAdjustmentsReport.ReportingNode = \"CH\";",
                "\nexperienceAdjustmentsReport.ReportingPeriod = (2021, 3);",
                "\nexperienceAdjustmentsReport.ColumnSlices = new string[]{};//\"GroupOfContract\", \"AmountType\"",
                "\nexperienceAdjustmentsReport.DataFilter = null; //new [] {(\"GroupOfContract\", \"DT1.1\")};",
                "\n(await experienceAdjustmentsReport.ToReportAsync) with {Height = 300}"
            ]
        },
        {
            "cell_type": "markdown",
            "source": [
                "# LRC Technical Margin",
                "\n",
                "\nIn the [Technical Margin](https://portal.systemorph.cloud/project/ifrs17/env/v1.0.0/Report/ReportScopes#technical-margin) report we present a unified view on the figures that are allocated to either Contractual Service Margin or to Loss Component. ",
                "\n<br> The Analysis of Change is expanded with few more steps such as **Experience Adjustment** and **Amortization**."
            ]
        },
        {
            "cell_type": "code",
            "source": [
                "var technicalMarginsReport = ifrs17Report.TechnicalMargins;",
                "\ntechnicalMarginsReport.ReportingNode = \"CH\";",
                "\ntechnicalMarginsReport.ReportingPeriod = (2021, 3);",
                "\ntechnicalMarginsReport.ColumnSlices = new string[]{};//\"GroupOfContract\", \"AmountType\"",
                "\ntechnicalMarginsReport.DataFilter = null; //new [] {(\"GroupOfContract\", \"DT1.1\")};",
                "\n(await technicalMarginsReport.ToReportAsync) with {Height = 600}"
            ]
        },
        {
            "cell_type": "markdown",
            "source": [
                "# Contractual Service Margin / Loss Component / Loss Recovery Component",
                "\n",
                "\nThe Contractual Service Margin (CSM) / Loss Component (LC) / Loss Recovery Component (LR) [report](https://portal.systemorph.cloud/project/ifrs17/env/v1.0.0/Report/ReportScopes#technical-margin) are here shown side by side as the allocation to profit or loss is done at each step of the Analysis of Change. ",
                "\n",
                "\nA default slice by EstimateType - which distinguish between CSM, LC and LR contributions - is automatically enforced. "
            ]
        },
        {
            "cell_type": "code",
            "source": [
                "var allocatedTechnicalMarginsReport = ifrs17Report.AllocatedTechnicalMargins;",
                "\nallocatedTechnicalMarginsReport.ReportingNode = \"CH\";",
                "\nallocatedTechnicalMarginsReport.ReportingPeriod = (2021, 3);",
                "\nallocatedTechnicalMarginsReport.ColumnSlices = new string[]{\"GroupOfContract\", \"EstimateType\"};//\"GroupOfContract\", \"AmountType\"",
                "\nallocatedTechnicalMarginsReport.DataFilter = null; //new [] {(\"GroupOfContract\", \"DT1.1\")};",
                "\n(await allocatedTechnicalMarginsReport.ToReportAsync) with {Height = 700}"
            ]
        },
        {
            "cell_type": "markdown",
            "source": [
                "# LRC Actuarial",
                "\n",
                "\nThe [Actuarial Liability for Remaining Coverage](https://portal.systemorph.cloud/project/ifrs17/env/v1.0.0/Report/ReportScopes#lrc-actuarial-actuarial-liability-for-remaining-coverage) report shows figures from Fulfilment Cashflow discounted with current yield curve, and the allocated techinical margin. "
            ]
        },
        {
            "cell_type": "code",
            "source": [
                "var actuarialLrcReport = ifrs17Report.ActuarialLrc;",
                "\nactuarialLrcReport.ReportingNode = \"CH\";",
                "\nactuarialLrcReport.ReportingPeriod = (2021, 3);",
                "\nactuarialLrcReport.ColumnSlices = new string[]{};//\"GroupOfContract\", \"AmountType\"",
                "\nactuarialLrcReport.DataFilter = null; //new [] {(\"GroupOfContract\", \"DT1.1\")};",
                "\n(await actuarialLrcReport.ToReportAsync) with {Height = 750}"
            ]
        },
        {
            "cell_type": "markdown",
            "source": [
                "# LRC",
                "\n",
                "\nThe [Liability for Remaining Coverage](https://portal.systemorph.cloud/project/ifrs17/env/v1.0.0/Report/ReportScopes#lrc-liability-for-remaining-coverage) report adds to the [Actuarial Liability for Remaining Coverage](#lrc-actuarial) the contribution of and accrual actuals. A simplified Aoc Chain is used to allow comparison of the balance change between Actuals and Present Values. "
            ]
        },
        {
            "cell_type": "code",
            "source": [
                "var lrcReport = ifrs17Report.Lrc;",
                "\nlrcReport.ReportingNode = \"CH\";",
                "\nlrcReport.ReportingPeriod = (2021, 3);",
                "\nlrcReport.ColumnSlices = new string[]{};//\"GroupOfContract\", \"AmountType\"",
                "\nlrcReport.DataFilter = null; //new [] {(\"GroupOfContract\", \"DT1.1\")};",
                "\n(await lrcReport.ToReportAsync) with {Height = 250}"
            ]
        },
        {
            "cell_type": "markdown",
            "source": [
                "# LIC Actuarial",
                "\n",
                "\nThe [Actuarial Liability of Incurred Claims](https://portal.systemorph.cloud/project/ifrs17/env/v1.0.0/Report/ReportScopes#lic-actuarial-actuarial-liability-for-incurred-claims) report shows figures from Fulfilment Cashflow discounted with current yield curve. "
            ]
        },
        {
            "cell_type": "code",
            "source": [
                "var actuarialLicReport = ifrs17Report.ActuarialLic;",
                "\nactuarialLicReport.ReportingNode = \"CH\";",
                "\nactuarialLicReport.ReportingPeriod = (2021, 3);",
                "\nactuarialLicReport.ColumnSlices = new string[]{};//\"GroupOfContract\", \"AmountType\"",
                "\nactuarialLicReport.DataFilter = null; //new [] {(\"GroupOfContract\", \"DT1.1\")};",
                "\n(await actuarialLicReport.ToReportAsync) with {Height = 750}"
            ]
        },
        {
            "cell_type": "markdown",
            "source": [
                "# LIC",
                "\n",
                "\nThe [Liability for Incurred Claims](https://portal.systemorph.cloud/project/ifrs17/env/v1.0.0/Report/ReportScopes#lic-liability-for-incurred-claims) adds to the [Actuarial Liability for Incurred Claims](#lic-actuarial) the contribution of and accrual actuals."
            ]
        },
        {
            "cell_type": "code",
            "source": [
                "var licReport = ifrs17Report.Lic;",
                "\nlicReport.ReportingNode = \"CH\";",
                "\nlicReport.ReportingPeriod = (2021, 3);",
                "\nlicReport.ColumnSlices = new string[]{};//\"GroupOfContract\", \"AmountType\"",
                "\nlicReport.DataFilter = null; //new [] {(\"GroupOfContract\", \"DT1.1\")};",
                "\n(await licReport.ToReportAsync) with {Height = 250}"
            ]
        },
        {
            "cell_type": "markdown",
            "source": [
                "# Financial Performance",
                "\n",
                "\nThe [Financial Performance](https://portal.systemorph.cloud/project/ifrs17/env/v1.0.0/Report/ReportScopes#ifrs-17-financial-performance) report discloses the Change in Estimate of the IFRS 17 balance sheet items ([LRC](#lrc) and [LIC](#lic)) and the relevant incurred cashflows (Premiums, Claims, Expenses, etc...) for the given period.",
                "\n",
                "\nUse the expand and collapse buttons in the report rows to change the granularity of the figures displayed."
            ]
        },
        {
            "cell_type": "code",
            "source": [
                "var financialPerformanceReport = ifrs17Report.FinancialPerformance;",
                "\nfinancialPerformanceReport.ReportingNode = \"CH\";",
                "\nfinancialPerformanceReport.ReportingPeriod = (2021, 3);",
                "\nfinancialPerformanceReport.ColumnSlices = new string[]{};//\"GroupOfContract\"",
                "\nfinancialPerformanceReport.DataFilter = null; //new [] {(\"GroupOfContract\", \"DT1.1\")};",
                "\n(await financialPerformanceReport.ToReportAsync) with { Height = 900, GroupDefaultExpanded = 3}"
            ]
        },
        {
            "cell_type": "code",
            "source": [
                ""
            ]
        }
    ]
}