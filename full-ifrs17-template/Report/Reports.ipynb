{
    "metadata": {
        "authors": [],
        "kernelspec": {
            "display_name": "Formula Framework",
            "language": "C#",
            "name": "C#"
        },
        "language_info": {
            "file_extension": ".cs",
            "mimetype": "text/plain",
            "name": "C#"
        },
        "toc-autonumbering": "True",
        "toc-showcode": "False"
    },
    "nbformat": 4,
    "nbformat_minor": 5,
    "cells": [
        {
            "cell_type": "markdown",
            "source": [
                "<p style=\"font-weight:bold;\"> <span style=\"font-size: 36px\"> Reports</span> </p>",
                "\n",
                "\n<a id='report-production'></a>"
            ]
        },
        {
            "cell_type": "markdown",
            "source": [
                "# Set up data and configuration"
            ]
        },
        {
            "cell_type": "markdown",
            "source": [
            ]
        },
        {
            "cell_type": "code",
            "source": [
                "#!eval-notebook \"../Initialization/InitSystemorphToMemory\"",
                "\nWorkspace.InitializeFrom(DataSource);"
            ]
        },
        {
            "cell_type": "code",
            "source": [
                "var ifrs17 = new Ifrs17Reports(Workspace, Scopes, Report);"
            ]
        },
        {
            "cell_type": "markdown",
            "source": [
                "# Use cases",
                "\n",
                "\nFor demonstration purposes we import data for 7 *Group of Insurance Contract* (GIC) and 4 *Group of Reinsurance Contract* (GRIC). ",
                "\n<br> The data set consists of cashflows, actuals, and parameters.",
                "\n",
                "\n"
            ]
        },
        {
            "cell_type": "markdown",
            "source": [
                "# Present Value",
                "\n",
                "\nPresent values of the best-estimate future cashflows are shown here in an Analysis of Change report.",
                "\n",
                "\nThe report view can be modified with the Slice options for the columns by changing the <code>SliceColumnBy</code> inputs in the next command cell.",
                "\nFor example one can add <code>\"GroupOfContract\"</code> to separate the contributions of the individual Group of Contracts.",
                "\n<br> We suggest to add this slice between the <code>\"LiabilityType\"</code> and the <code>\"EconomicBasis\"</code> as the order of the inputs corresponds to the order of the columns shown in the report to expand the data.",
                "\n",
                "\nAggregated values are displayed when the data has a finer granularity than the one selected by the report slice options."
            ]
        },
        {
            "cell_type": "code",
            "source": [
                "var pvReport = ifrs17.PresentValues;",
                "\npvReport.ColumnSlices = new string[]{};//\"GroupOfContract\", \"AmountType\"",
                "\npvReport.DataFilter = null; //new [] {(\"GroupOfContract\", \"DT1.2\"),(\"LiabilityType\", \"LIC\") }",
                "\n(await pvReport.ToReportAsync) with {Height = 720}"
            ]
        },
        {
            "cell_type": "markdown",
            "source": [
                "# Risk Adjustment"
            ]
        },
        {
            "cell_type": "code",
            "source": [
                "var raReport = ifrs17.RiskAdjustments;",
                "\nraReport.ColumnSlices = new string[]{};//\"GroupOfContract\"",
                "\nraReport.DataFilter = null;//new [] {(\"GroupOfContract\", \"DT1.2\")};",
                "\n(await raReport.ToReportAsync) with {Height = 800}"
            ]
        },
        {
            "cell_type": "markdown",
            "source": [
                "# Actuals"
            ]
        },
        {
            "cell_type": "code",
            "source": [
                "var writtenActualReport = ifrs17.WrittenActuals;",
                "\nwrittenActualReport.ColumnSlices = new string[]{};//\"GroupOfContract\"",
                "\nwrittenActualReport.DataFilter = null; //new [] {(\"GroupOfContract\", \"DT1.1\")};",
                "\n(await writtenActualReport.ToReportAsync) with {Height = 400}"
            ]
        },
        {
            "cell_type": "markdown",
            "source": [
                "## Advance, Overdue Actuals"
            ]
        },
        {
            "cell_type": "code",
            "source": [
                "var accrualActualReport = ifrs17.AccrualActuals;",
                "\naccrualActualReport.ColumnSlices = new string[]{};//\"GroupOfContract\", \"AmountType\"",
                "\naccrualActualReport.DataFilter = null;//new [] {(\"GroupOfContract\", \"DT2.1\")};",
                "\n(await accrualActualReport.ToReportAsync) with {Height = 400}"
            ]
        },
        {
            "cell_type": "markdown",
            "source": [
                "## Deferrable Actuals"
            ]
        },
        {
            "cell_type": "code",
            "source": [
                "var deferrableActualReport = ifrs17.DeferralActuals;",
                "\ndeferrableActualReport.ColumnSlices = new string[]{};//\"GroupOfContract\", \"AmountType\"",
                "\ndeferrableActualReport.DataFilter = null;//new [] {(\"GroupOfContract\", \"DT1.1\")};",
                "\n(await deferrableActualReport.ToReportAsync) with {Height = 400}"
            ]
        },
        {
            "cell_type": "markdown",
            "source": [
                "# Fulfilment Cashflow"
            ]
        },
        {
            "cell_type": "code",
            "source": [
                "var fulfillmentCashflowsReport = ifrs17.FulfillmentCashflows;",
                "\nfulfillmentCashflowsReport.ColumnSlices = new string[]{};//\"GroupOfContract\", \"AmountType\"",
                "\nfulfillmentCashflowsReport.DataFilter = null;// new [] {(\"GroupOfContract\", \"DT1.1\")};",
                "\n(await fulfillmentCashflowsReport.ToReportAsync) with {Height = 750}"
            ]
        },
        {
            "cell_type": "markdown",
            "source": [
                "# Actuarial Experience Adjustment"
            ]
        },
        {
            "cell_type": "code",
            "source": [
                "var experienceAdjustmentsReport = ifrs17.ExperienceAdjustments;",
                "\nexperienceAdjustmentsReport.ColumnSlices = new string[]{};//\"GroupOfContract\", \"AmountType\"",
                "\nexperienceAdjustmentsReport.DataFilter = null; //new [] {(\"GroupOfContract\", \"DT1.1\")};",
                "\n(await experienceAdjustmentsReport.ToReportAsync) with {Height = 300}"
            ]
        },
        {
            "cell_type": "markdown",
            "source": [
                "# LRC Technical Margin"
            ]
        },
        {
            "cell_type": "code",
            "source": [
                "var technicalMarginsReport = ifrs17.TechnicalMargins;",
                "\ntechnicalMarginsReport.ColumnSlices = new string[]{};//\"GroupOfContract\", \"AmountType\"",
                "\ntechnicalMarginsReport.DataFilter = null; //new [] {(\"GroupOfContract\", \"DT1.1\")};",
                "\n(await technicalMarginsReport.ToReportAsync) with {Height = 600}"
            ]
        },
        {
            "cell_type": "markdown",
            "source": [
                "# Contractual Service Margin / Loss Component / Loss Recovery Component"
            ]
        },
        {
            "cell_type": "code",
            "source": [
                "var allocatedTechnicalMarginsReport = ifrs17.AllocatedTechnicalMargins;",
                "\nallocatedTechnicalMarginsReport.ColumnSlices = new string[]{};//\"GroupOfContract\", \"AmountType\"",
                "\nallocatedTechnicalMarginsReport.DataFilter = null; //new [] {(\"GroupOfContract\", \"DT1.1\")};",
                "\n(await allocatedTechnicalMarginsReport.ToReportAsync) with {Height = 700}"
            ]
        },
        {
            "cell_type": "markdown",
            "source": [
                "# LRC Actuarial"
            ]
        },
        {
            "cell_type": "code",
            "source": [
                "var actuarialLrcReport = ifrs17.ActuarialLrc;",
                "\nactuarialLrcReport.ColumnSlices = new string[]{};//\"GroupOfContract\", \"AmountType\"",
                "\nactuarialLrcReport.DataFilter = null; //new [] {(\"GroupOfContract\", \"DT1.1\")};",
                "\n(await actuarialLrcReport.ToReportAsync) with {Height = 750}"
            ]
        },
        {
            "cell_type": "markdown",
            "source": [
                "# LRC"
            ]
        },
        {
            "cell_type": "code",
            "source": [
                "var lrcReport = ifrs17.Lrc;",
                "\nlrcReport.ColumnSlices = new string[]{};//\"GroupOfContract\", \"AmountType\"",
                "\nlrcReport.DataFilter = null; //new [] {(\"GroupOfContract\", \"DT1.1\")};",
                "\n(await lrcReport.ToReportAsync) with {Height = 250}"
            ]
        },
        {
            "cell_type": "markdown",
            "source": [
                "# LIC Actuarial"
            ]
        },
        {
            "cell_type": "code",
            "source": [
                "var actuarialLicReport = ifrs17.ActuarialLic;",
                "\nactuarialLicReport.ColumnSlices = new string[]{};//\"GroupOfContract\", \"AmountType\"",
                "\nactuarialLicReport.DataFilter = null; //new [] {(\"GroupOfContract\", \"DT1.1\")};",
                "\n(await actuarialLicReport.ToReportAsync) with {Height = 750}"
            ]
        },
        {
            "cell_type": "markdown",
            "source": [
                "# LIC"
            ]
        },
        {
            "cell_type": "code",
            "source": [
                "var licReport = ifrs17.Lic;",
                "\nlicReport.ColumnSlices = new string[]{};//\"GroupOfContract\", \"AmountType\"",
                "\nlicReport.DataFilter = null; //new [] {(\"GroupOfContract\", \"DT1.1\")};",
                "\n(await licReport.ToReportAsync) with {Height = 250}"
            ]
        },
        {
            "cell_type": "markdown",
            "source": [
                "# Financial Performance",
                "\n",
                "\nUse the expand and collapse buttons in the report rows to change the granularity of the figures displayed."
            ]
        },
        {
            "cell_type": "code",
            "source": [
                "var financialPerformanceReport = ifrs17.FinancialPerformance;",
                "\nfinancialPerformanceReport.ColumnSlices = new string[]{};//\"GroupOfContract\"",
                "\nfinancialPerformanceReport.DataFilter = null; //new [] {(\"GroupOfContract\", \"DT1.1\")};",
                "\n(await financialPerformanceReport.ToReportAsync) with { Height = 900, GroupDefaultExpanded = 3}"
            ]
        },
        {
            "cell_type": "code",
            "source": [
                ""
            ]
        }
    ]
}