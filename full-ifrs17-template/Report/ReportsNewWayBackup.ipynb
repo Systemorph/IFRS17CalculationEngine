{
    "metadata": {
        "authors": [],
        "kernelspec": {
            "display_name": "Formula Framework",
            "language": "C#",
            "name": "C#"
        },
        "language_info": {
            "file_extension": ".cs",
            "mimetype": "text/plain",
            "name": "C#"
        },
        "toc-autonumbering": "True",
        "toc-showcode": "False"
    },
    "nbformat": 4,
    "nbformat_minor": 5,
    "cells": [
        {
            "cell_type": "markdown",
            "source": [
                "# Infrastructure and Configuration"
            ]
        },
        {
            "cell_type": "markdown",
            "source": [
                "## Initialize data"
            ]
        },
        {
            "cell_type": "code",
            "source": [
                "/* Systemorph set of dimensions + mockdata are dispatched to the unconfigured in-memory DataSource */",
                "\n#!eval-notebook \"../Initialization/InitSystemorphToMemory\"",
                "\n/* DataSource is configured and connected to real database */",
                "\n//#!eval-notebook \"../Database/Configure\""
            ]
        },
        {
            "cell_type": "code",
            "source": [
                "Workspace.InitializeFrom(DataSource);"
            ]
        },
        {
            "cell_type": "markdown",
            "source": [
                "## Import Dependencies"
            ]
        },
        {
            "cell_type": "code",
            "source": [
                "#!import \"ReportScopes\"",
                "\n#!import \"ReportConfigurationAndUtils\""
            ]
        },
        {
            "cell_type": "markdown",
            "source": [
                "# Report Scope Proposal"
            ]
        },
        {
            "cell_type": "code",
            "source": [
                "[InitializeScope(nameof(InitAsync))]",
                "\npublic interface FcfReport : IMutableScopeWithStorage<ReportStorage> {",
                "\n    // Some infrastructure",
                "\n    private IWorkspace workspace => GetStorage().Workspace;",
                "\n    private Systemorph.Vertex.Pivot.Reporting.IReportFactory report => GetStorage().Report;",
                "\n    ",
                "\n    // Basic mutable properties",
                "\n    (int Year, int Month) ReportingPeriod { get; set; }",
                "\n    int Year => ReportingPeriod.Year;",
                "\n    int Month => ReportingPeriod.Month;",
                "\n    string ReportingNode { get; set; }",
                "\n    string Scenario { get; set; }",
                "\n    CurrencyType CurrencyType { get; set; }",
                "\n    ",
                "\n    ((int Year, int Month) ReportingPeriod, string ReportingNode, string Scenario, CurrencyType) ShowSettings => (ReportingPeriod, ReportingNode, Scenario, CurrencyType);",
                "\n    ",
                "\n    // Slice and Dice",
                "\n    IEnumerable<string> RowSlices { get; set; }",
                "\n    private string[] defaultRowSlices => new string[] { \"Novelty\", \"VariableType\" };",
                "\n    private string[] rowSlices => RowSlices is null ? defaultRowSlices : defaultRowSlices.Concat(RowSlices).ToArray();",
                "\n    ",
                "\n    IEnumerable<string> ColumnSlices { get; set; }",
                "\n    private string[] defaultColumnSlices => new string[] { CurrencyGrouper(CurrencyType) };",
                "\n    private string[] columnSlices => ColumnSlices is null ? defaultColumnSlices : defaultColumnSlices.Concat(ColumnSlices).ToArray();",
                "\n    ",
                "\n    // Filter",
                "\n    IEnumerable<(string filterName, string filterValue)> DataFilter { get; set; }",
                "\n    private (string filterName, object filterValue)[] dataFilter => (DataFilter is null ? Enumerable.Empty<(string, object)>() : DataFilter.Select(x => (x.filterName, (object)x.filterValue))).ToArray();",
                "\n    ",
                "\n    // Scope Initialization",
                "\n    async Task InitAsync() {",
                "\n        var mostRecentPartition = (await workspace.Query<PartitionByReportingNodeAndPeriod>().Where(x => x.Scenario == null).OrderBy(x => x.Year).ThenBy(x => x.Month).ToArrayAsync()).Last();  ",
                "\n        ",
                "\n        ReportingPeriod = (mostRecentPartition.Year, mostRecentPartition.Month);",
                "\n        ReportingNode = (await workspace.Query<ReportingNode>().Where(x => x.Parent == null).ToArrayAsync()).First().SystemName; // TODO: change once user permissions are available",
                "\n        Scenario = null;",
                "\n        CurrencyType = CurrencyType.Contractual;",
                "\n        ",
                "\n        ColumnSlices = \"EstimateType\".RepeatOnce();",
                "\n",
                "\n        await GetStorage().InitializeReportIndependentCacheAsync();",
                "\n    }",
                "\n    ",
                "\n    // Data update in Storage and Report Generation",
                "\n    private async Task<GridOptions> GetReportTaskAsync() {",
                "\n        await GetStorage().InitializeAsync(ReportingPeriod, ReportingNode, Scenario, CurrencyType);",
                "\n    ",
                "\n        var identities = GetStorage().GetIdentities(ReportingPeriod, ReportingNode, Scenario, CurrencyType);",
                "\n        var dataCube = GetScopes<Fcf>(identities).Aggregate().Fcf.Filter(dataFilter);",
                "\n        ",
                "\n        return report.ForDataCube(dataCube)",
                "\n            .WithQuerySource(workspace)",
                "\n            .SliceRowsBy(rowSlices)",
                "\n            .SliceColumnsBy(columnSlices)",
                "\n            .ReportGridOptions()",
                "\n            .ToReport();",
                "\n    }",
                "\n",
                "\n    Task<GridOptions> ToReportAsync => GetReportTaskAsync();",
                "\n }"
            ]
        },
        {
            "cell_type": "markdown",
            "source": [
                "# Playground"
            ]
        },
        {
            "cell_type": "code",
            "source": [
                "var reportStorage = new ReportStorage(Workspace, Report);"
            ]
        },
        {
            "cell_type": "code",
            "source": [
                "var fcfReport = Scopes.ForSingleton().WithStorage(reportStorage).ToScope<FcfReport>();"
            ]
        },
        {
            "cell_type": "code",
            "source": [
                "fcfReport.ReportingNode = \"CH\";"
            ]
        },
        {
            "cell_type": "code",
            "source": [
                "fcfReport.ShowSettings"
            ]
        },
        {
            "cell_type": "code",
            "source": [
                "(await fcfReport.ToReportAsync) with {Height = 250}"
            ]
        },
        {
            "cell_type": "code",
            "source": [
                "fcfReport.ReportingPeriod = (2020, 12);"
            ]
        },
        {
            "cell_type": "code",
            "source": [
                "fcfReport.ShowSettings"
            ]
        },
        {
            "cell_type": "code",
            "source": [
                "(await fcfReport.ToReportAsync) with {Height = 250}"
            ]
        },
        {
            "cell_type": "code",
            "source": [
                "fcfReport.ReportingNode = \"G\";"
            ]
        },
        {
            "cell_type": "code",
            "source": [
                "fcfReport.ShowSettings"
            ]
        },
        {
            "cell_type": "code",
            "source": [
                "(await fcfReport.ToReportAsync) with {Height = 250}"
            ]
        },
        {
            "cell_type": "code",
            "source": [
                "fcfReport.ReportingPeriod = (2021, 3);"
            ]
        },
        {
            "cell_type": "code",
            "source": [
                "fcfReport.ShowSettings"
            ]
        },
        {
            "cell_type": "code",
            "source": [
                "(await fcfReport.ToReportAsync) with {Height = 250}"
            ]
        },
        {
            "cell_type": "code",
            "source": [
                "fcfReport.ReportingNode = \"CH\";"
            ]
        },
        {
            "cell_type": "code",
            "source": [
                "fcfReport.ColumnSlices = \"EconomicBasis\".RepeatOnce();"
            ]
        },
        {
            "cell_type": "code",
            "source": [
                "fcfReport.DataFilter = new [] {(\"VariableType\", \"!BOP\"), (\"VariableType\", \"!EOP\")};"
            ]
        },
        {
            "cell_type": "code",
            "source": [
                "(await fcfReport.ToReportAsync) with {Height = 500}"
            ]
        },
        {
            "cell_type": "code",
            "source": [
                ""
            ]
        }
    ]
}