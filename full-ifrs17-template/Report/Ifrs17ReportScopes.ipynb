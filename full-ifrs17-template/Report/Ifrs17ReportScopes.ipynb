{
    "metadata": {
        "authors": [],
        "kernelspec": {
            "display_name": "Formula Framework",
            "language": "C#",
            "name": "C#"
        },
        "language_info": {
            "file_extension": ".cs",
            "mimetype": "text/plain",
            "name": "C#"
        },
        "toc-autonumbering": "True",
        "toc-showcode": "False"
    },
    "nbformat": 4,
    "nbformat_minor": 5,
    "cells": [
        {
            "cell_type": "markdown",
            "source": [
                "# Infrastructure and Configuration"
            ]
        },
        {
            "cell_type": "markdown",
            "source": [
                "## Initialize data"
            ]
        },
        {
            "cell_type": "code",
            "source": [
                "/* Systemorph set of dimensions + mockdata are dispatched to the unconfigured in-memory DataSource */",
                "\n#!eval-notebook \"../Initialization/InitSystemorphToMemory\"",
                "\n/* DataSource is configured and connected to real database */",
                "\n//#!eval-notebook \"../Database/Configure.ipynb\""
            ]
        },
        {
            "cell_type": "code",
            "source": [
                "Workspace.InitializeFrom(DataSource);"
            ]
        },
        {
            "cell_type": "markdown",
            "source": [
                "## Import Dependencies"
            ]
        },
        {
            "cell_type": "code",
            "source": [
                "//#!import \"ReportScopes.ipynb\"",
                "\n//#!import \"ReportConfigurationAndUtils.ipynb\""
            ]
        },
        {
            "cell_type": "markdown",
            "source": [
                "# Report Scope Proposal"
            ]
        },
        {
            "cell_type": "code",
            "source": [
                "public enum ReportNames { PvReport, FcfReport}",
                "\n[InitializeScope(nameof(InitAsync))]",
                "\npublic interface IIfrs17Report : IMutableScope<ReportNames,ReportStorage> {",
                "\n    // Some infrastructure",
                "\n    protected IWorkspace workspace => GetStorage().Workspace;",
                "\n    protected Systemorph.Vertex.Pivot.Reporting.IReportFactory report => GetStorage().Report;",
                "\n",
                "\n    static ApplicabilityBuilder ScopeApplicabilityBuilder(ApplicabilityBuilder builder) =>",
                "\n        builder.ForScope<IIfrs17Report>(s => s.WithApplicability<FcfReport>(x => x.Identity == ReportNames.FcfReport)",
                "\n        .WithApplicability<PvReport>(x => x.Identity == ReportNames.PvReport)",
                "\n                );",
                "\n",
                "\n    ",
                "\n    // Basic mutable properties",
                "\n    (int Year, int Month) ReportingPeriod { get; set; }",
                "\n    int Year => ReportingPeriod.Year;",
                "\n    int Month => ReportingPeriod.Month;",
                "\n    string ReportingNode { get; set; }",
                "\n    string Scenario { get; set; }",
                "\n    CurrencyType CurrencyType { get; set; }",
                "\n    ",
                "\n    ((int Year, int Month) ReportingPeriod, string ReportingNode, string Scenario, CurrencyType) ShowSettings => (ReportingPeriod, ReportingNode, Scenario, CurrencyType);",
                "\n    ",
                "\n    // Slice and Dice",
                "\n    IEnumerable<string> RowSlices { get; set; }",
                "\n    protected string[] defaultRowSlices => new string[] { };",
                "\n    protected string[] rowSlices => RowSlices is null ? defaultRowSlices : defaultRowSlices.Concat(RowSlices).ToArray();",
                "\n",
                "\n    IEnumerable<string> ColumnSlices { get; set; }",
                "\n    protected string[] defaultColumnSlices => new string[] {  };",
                "\n    protected string[] columnSlices => ColumnSlices is null ? defaultColumnSlices : defaultColumnSlices.Concat(ColumnSlices).ToArray();",
                "\n    protected HashSet<(ReportIdentity, CurrencyType)> GetIdentities() =>  GetStorage().GetIdentities(ReportingPeriod, ReportingNode, Scenario, CurrencyType);",
                "\n    ",
                "\n    // Filter",
                "\n    IEnumerable<(string filterName, string filterValue)> DataFilter { get; set; }",
                "\n    protected (string filterName, object filterValue)[] dataFilter => (DataFilter is null ? Enumerable.Empty<(string, object)>() : DataFilter.Select(x => (x.filterName, (object)x.filterValue))).ToArray();",
                "\n    ",
                "\n    // Scope Initialization",
                "\n    async Task InitAsync() {",
                "\n        var mostRecentPartition = (await workspace.Query<PartitionByReportingNodeAndPeriod>().Where(x => x.Scenario == null).OrderBy(x => x.Year).ThenBy(x => x.Month).ToArrayAsync()).Last();  ",
                "\n        ",
                "\n        ReportingPeriod = (mostRecentPartition.Year, mostRecentPartition.Month);",
                "\n        ReportingNode = (await workspace.Query<ReportingNode>().Where(x => x.Parent == null).ToArrayAsync()).First().SystemName; // TODO: change once user permissions are available",
                "\n        Scenario = null;",
                "\n        CurrencyType = CurrencyType.Contractual;",
                "\n        ",
                "\n        ColumnSlices = \"EstimateType\".RepeatOnce();",
                "\n",
                "\n",
                "\n        await GetStorage().InitializeReportIndependentCacheAsync();",
                "\n    }",
                "\n    int GetNumber() => 10;",
                "\n    public IDataCube<ReportVariable> GetDataCube() => default;",
                "\n    ",
                "\n    //Needs to be copy pasted",
                "\n    private async Task<GridOptions> GetReportTaskAsync() {",
                "\n        await GetStorage().InitializeAsync(ReportingPeriod, ReportingNode, Scenario, CurrencyType);",
                "\n    ",
                "\n        ",
                "\n        return report.ForDataCube(GetDataCube())",
                "\n            .WithQuerySource(workspace)",
                "\n            .SliceRowsBy(rowSlices)",
                "\n            .SliceColumnsBy(columnSlices)",
                "\n            .ReportGridOptions()",
                "\n            .ToReport();",
                "\n    }",
                "\n",
                "\n    Task<GridOptions> ToReportAsync => GetReportTaskAsync();",
                "\n",
                "\n",
                "\n",
                "\n }",
                "\npublic interface PvReport : IIfrs17Report {",
                "\n    string[] IIfrs17Report.defaultRowSlices => new string[] {  \"Novelty\", \"VariableType\" };",
                "\n",
                "\n    string[] IIfrs17Report.defaultColumnSlices => new string[] { CurrencyGrouper(CurrencyType), \"LiabilityType\", \"EconomicBasis\" };",
                "\n",
                "\n    IDataCube<ReportVariable> IIfrs17Report.GetDataCube() => GetScopes<LockedBestEstimate>(GetIdentities()).Aggregate().LockedBestEstimate.Filter(dataFilter) ;//+ GetScopes<CurrentBestEstimate>(identities).Aggregate().CurrentBestEstimateFcf.Filter(dataFilter);",
                "\n   ",
                "\n }",
                "\n",
                "\n public interface FcfReport : IIfrs17Report {",
                "\n",
                "\n    string[] IIfrs17Report.defaultRowSlices => new string[] { \"Novelty\",\"VariableType\" };",
                "\n",
                "\n    string[] IIfrs17Report.defaultColumnSlices => new string[] { CurrencyGrouper(CurrencyType) };",
                "\n",
                "\n    IDataCube<ReportVariable> IIfrs17Report.GetDataCube() =>  GetScopes<Fcf>(GetIdentities()).Aggregate().Fcf.Filter(dataFilter);",
                "\n",
                "\n",
                "\n }",
                "\n    "
            ]
        },
        {
            "cell_type": "code",
            "source": [
                "public class Ifrs17 ",
                "\n{",
                "\n    private IWorkspace Workspace {get; init;}",
                "\n    private Systemorph.Vertex.Scopes.Proxy.IScopeFactory Scopes {get; init;}",
                "\n    private Systemorph.Vertex.Pivot.Reporting.IReportFactory Report {get; init;}",
                "\n    private ReportStorage Storage {get; set;}",
                "\n    public PvReport PresentValues {get{",
                "\n        Storage = new ReportStorage(Workspace,Report);",
                "\n        return Scopes.ForSingleton().WithStorage(Storage).ToScope<PvReport>();",
                "\n    }}",
                "\n    public Ifrs17 (IWorkspace ws, Systemorph.Vertex.Scopes.Proxy.IScopeFactory scopes, Systemorph.Vertex.Pivot.Reporting.IReportFactory report)",
                "\n    {",
                "\n        Workspace = ws; ",
                "\n        Scopes = scopes; ",
                "\n        Report = report; ",
                "\n    }",
                "\n}"
            ]
        },
        {
            "cell_type": "markdown",
            "source": [
                "# Playground"
            ]
        },
        {
            "cell_type": "code",
            "source": [
                " var reportStorage = new ReportStorage(Workspace, Report);",
                "\n var ids = new ReportNames[] {ReportNames.PvReport, ReportNames.FcfReport};",
                "\n var reports = Scopes.ForIdentities(ids).WithStorage(reportStorage).ToScopes<IIfrs17Report>();",
                "\nvar fcfReport = reports.Last();",
                "\n",
                "\n"
            ]
        },
        {
            "cell_type": "code",
            "source": [
                "  fcfReport.ReportingNode = \"CH\";",
                "\n fcfReport.ReportingPeriod = (2020, 12);",
                "\n",
                "\n (await fcfReport.ToReportAsync) with {Height = 250}",
                "\n"
            ]
        },
        {
            "cell_type": "code",
            "source": [
                "fcfReport.Last().GetNumber()"
            ]
        },
        {
            "cell_type": "code",
            "source": [
                " var reportStorage = new ReportStorage(Workspace, Report);",
                "\n var pvReport = Scopes.ForSingleton().WithStorage(reportStorage).ToScope<PvReport>();",
                "\n pvReport.ReportingNode = \"CH\";",
                "\n pvReport.ReportingPeriod = (2020, 12);",
                "\n (await pvReport.ToReportAsync) with {Height = 250}",
                "\n",
                "\n"
            ]
        },
        {
            "cell_type": "code",
            "source": [
                "pvReport.GetNumber()"
            ]
        },
        {
            "cell_type": "code",
            "source": [
                "typeof(PvReport)"
            ]
        },
        {
            "cell_type": "code",
            "source": [
                "fcfReport is PvReport"
            ]
        },
        {
            "cell_type": "code",
            "source": [
                "public interface Hello {",
                "\n    public int Number();",
                "\n}",
                "\npublic class Class1 : Hello {",
                "\n    public int Number() => 5;",
                "\n}",
                "\npublic class Class2 : Hello",
                "\n{",
                "\n    public int Number() => 7;",
                "\n}"
            ]
        },
        {
            "cell_type": "code",
            "source": [
                "var c1= new Class1();",
                "\nvar c2 = new Class2();",
                "\nc1 is Class2"
            ]
        },
        {
            "cell_type": "code",
            "source": [
                ""
            ]
        }
    ]
}