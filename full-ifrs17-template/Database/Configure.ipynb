{
    "metadata": {
        "authors": [],
        "kernelspec": {
            "display_name": "Formula Framework",
            "language": "C#",
            "name": "C#"
        },
        "language_info": {
            "file_extension": ".cs",
            "mimetype": "text/plain",
            "name": "C#"
        },
        "toc-autonumbering": "True",
        "toc-showcode": "False",
        "toc-showmarkdowntxt": "False"
    },
    "nbformat": 4,
    "nbformat_minor": 5,
    "cells": [
        {
            "id": "4pCtjml9b0qsW_qdBuJO6w",
            "cell_type": "markdown",
            "source": [
                "<p style=\"font-weight:bold;\"> <span style=\"font-size: 36px\"> DataSource Configuration </span> </p>"
            ],
            "metadata": {},
            "execution_count": 0,
            "outputs": []
        },
        {
            "id": "Vfn_7rax10adJW_1ZtDM8A",
            "cell_type": "code",
            "source": [
                "#!import \"../Constants/CalculationEngine\"",
                "\n#!eval calculationEngine"
            ],
            "metadata": {},
            "execution_count": 0,
            "outputs": []
        },
        {
            "id": "KhBa0fF-l0a93pgXYgVuFw",
            "cell_type": "code",
            "source": [
                "#!import \"PersonalConnection\""
            ],
            "metadata": {},
            "execution_count": 0,
            "outputs": []
        },
        {
            "id": "Vh7nAxVvy0iUuSAGzjmDaw",
            "cell_type": "code",
            "source": [
                "using System.Reflection;"
            ],
            "metadata": {},
            "execution_count": 0,
            "outputs": []
        },
        {
            "id": "ZMZQjqRWTUGnPoJJpxkdLw",
            "cell_type": "markdown",
            "source": [
                "# Database Configure"
            ],
            "metadata": {},
            "execution_count": 0,
            "outputs": []
        },
        {
            "id": "M452PsrooEqiMehPCaxUyQ",
            "cell_type": "code",
            "source": [
                "var allTypes = AppDomain.CurrentDomain.GetAssemblies().SelectMany(a => a.GetTypes())",
                "\n    .Where(t => (t.IsAssignableTo(typeof(IKeyed)) || t.IsAssignableTo(typeof(KeyedDimension)))",
                "\n                && !t.IsInterface",
                "\n                && !t.IsAbstract",
                "\n    ).ToArray();"
            ],
            "metadata": {},
            "execution_count": 0,
            "outputs": []
        },
        {
            "id": "0N7ABGO-n06LsiMOOHcdJw",
            "cell_type": "code",
            "source": [
                "await DataSource.Configure().UseMsSql(opt => opt.WithConnectionString(connectionStringMsSql)",
                "\n                                                .WithTypes(allTypes)) .ConnectAsync();"
            ],
            "metadata": {},
            "execution_count": 0,
            "outputs": []
        },
        {
            "id": "RmBLxQdX_kOIeA0ktt94xQ",
            "cell_type": "code",
            "source": [
                "await DataSource.CommitAsync();"
            ],
            "metadata": {},
            "execution_count": 0,
            "outputs": []
        },
        {
            "id": "BA0VOza8rEajIHBmKBrSXA",
            "cell_type": "markdown",
            "source": [
                "# Reset Workspace"
            ],
            "metadata": {},
            "execution_count": 0,
            "outputs": []
        },
        {
            "id": "9InVK4PX5EGrE4_tARwXLw",
            "cell_type": "code",
            "source": [
                "Workspace.Reset(x => x.ResetInitializationRules());"
            ],
            "metadata": {},
            "execution_count": 0,
            "outputs": []
        },
        {
            "id": "oYFbN_9RAU6NiE_F3qNY1A",
            "cell_type": "code",
            "source": [
                ""
            ],
            "metadata": {},
            "execution_count": 0,
            "outputs": []
        }
    ]
}