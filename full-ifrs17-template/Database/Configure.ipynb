{
    "metadata": {
        "authors": [],
        "kernelspec": {
            "display_name": "Formula Framework",
            "language": "C#",
            "name": "C#"
        },
        "language_info": {
            "file_extension": ".cs",
            "mimetype": "text/plain",
            "name": "C#"
        },
        "toc-autonumbering": "True",
        "toc-showcode": "False",
        "toc-showmarkdowntxt": "False"
    },
    "nbformat": 4,
    "nbformat_minor": 5,
    "cells": [
        {
            "id": "wWf2sX0Uf0O2UnjqfbXVFg",
            "cell_type": "markdown",
            "source": [
                "<p style=\"font-weight:bold;\"> <span style=\"font-size: 36px\"> DataSource Configuration </span> </p>"
            ],
            "metadata": {},
            "execution_count": 0,
            "outputs": []
        },
        {
            "id": "VGUlnhzi00KdXaAxyYHZ5Q",
            "cell_type": "code",
            "source": [
                "#!import \"../Constants/CalculationEngine\"",
                "\n#!eval calculationEngine"
            ],
            "metadata": {},
            "execution_count": 0,
            "outputs": []
        },
        {
            "id": "OoizWpf_ykaB65IWZf3A-g",
            "cell_type": "code",
            "source": [
                "#!import \"PersonalConnection\""
            ],
            "metadata": {},
            "execution_count": 0,
            "outputs": []
        },
        {
            "id": "KO9gO5Y6qESE591IDdXdNw",
            "cell_type": "code",
            "source": [
                "using System.Reflection;"
            ],
            "metadata": {},
            "execution_count": 0,
            "outputs": []
        },
        {
            "id": "ALVcqLfAOUyO402ajehLhQ",
            "cell_type": "markdown",
            "source": [
                "# Database Configure"
            ],
            "metadata": {},
            "execution_count": 0,
            "outputs": []
        },
        {
            "id": "1xN_42-6Vkqo0I_yS3z-eQ",
            "cell_type": "code",
            "source": [
                "var allTypes = AppDomain.CurrentDomain.GetAssemblies().SelectMany(a => a.GetTypes())",
                "\n    .Where(t => (t.IsAssignableTo(typeof(IKeyed)) || t.IsAssignableTo(typeof(KeyedDimension)))",
                "\n                && !t.IsInterface",
                "\n                && !t.IsAbstract",
                "\n    ).ToArray();"
            ],
            "metadata": {},
            "execution_count": 0,
            "outputs": []
        },
        {
            "id": "F6kTKwsxsEedjjc0jvXRhQ",
            "cell_type": "code",
            "source": [
                "await DataSource.Configure().UseMsSql(opt => opt.WithConnectionString(connectionStringMsSql)",
                "\n                                                .WithTypes(allTypes)) .ConnectAsync();"
            ],
            "metadata": {},
            "execution_count": 0,
            "outputs": []
        },
        {
            "id": "E1HlGYiBsEyzs6rionEksA",
            "cell_type": "code",
            "source": [
                "await DataSource.CommitAsync();"
            ],
            "metadata": {},
            "execution_count": 0,
            "outputs": []
        },
        {
            "id": "b6F5BJr8q0iN4OVNHuDdYw",
            "cell_type": "markdown",
            "source": [
                "# Reset Workspace"
            ],
            "metadata": {},
            "execution_count": 0,
            "outputs": []
        },
        {
            "id": "L6Odt9i6Vkupepy75NvX2w",
            "cell_type": "code",
            "source": [
                "Workspace.Reset(x => x.ResetInitializationRules());"
            ],
            "metadata": {},
            "execution_count": 0,
            "outputs": []
        },
        {
            "id": "X9Rb9ooFaEWbADRYtehF3g",
            "cell_type": "code",
            "source": [
                ""
            ],
            "metadata": {},
            "execution_count": 0,
            "outputs": []
        }
    ]
}