{
    "metadata": {
        "authors": [],
        "kernelspec": {
            "display_name": "Formula Framework",
            "language": "C#",
            "name": "C#"
        },
        "language_info": {
            "file_extension": ".cs",
            "mimetype": "text/plain",
            "name": "C#"
        },
        "toc-autonumbering": "True",
        "toc-showcode": "False",
        "toc-showmarkdowntxt": "False"
    },
    "nbformat": 4,
    "nbformat_minor": 5,
    "cells": [
        {
            "cell_type": "markdown",
            "source": [
                "<p style=\"font-weight:bold;\"> <span style=\"font-size: 36px\"> DataSource Configuration </span> </p>"
            ]
        },
        {
            "cell_type": "code",
            "source": [
                "#!import \"../Constants/CalculationEngine\"",
                "\n#!eval calculationEngine"
            ]
        },
        {
            "cell_type": "code",
            "source": [
                "#!import \"PersonalConnection\""
            ]
        },
        {
            "cell_type": "code",
            "source": [
                "using System.Reflection;"
            ]
        },
        {
            "cell_type": "markdown",
            "source": [
                "# Database Configure"
            ]
        },
        {
            "cell_type": "code",
            "source": [
                "var allTypes = AppDomain.CurrentDomain.GetAssemblies().SelectMany(a => a.GetTypes())",
                "\n    .Where(t => (t.IsAssignableTo(typeof(IKeyed)) || t.IsAssignableTo(typeof(KeyedDimension)))",
                "\n                && !t.IsInterface",
                "\n                && !t.IsAbstract",
                "\n    ).ToArray();"
            ]
        },
        {
            "cell_type": "code",
            "source": [
                "await DataSource.Configure().UseMsSql(opt => opt.WithConnectionString(connectionStringMsSql)",
                "\n                                                .WithTypes(allTypes)) .ConnectAsync();"
            ]
        },
        {
            "cell_type": "code",
            "source": [
                "await DataSource.CommitAsync();"
            ]
        },
        {
            "cell_type": "markdown",
            "source": [
                "# Reset Workspace"
            ]
        },
        {
            "cell_type": "code",
            "source": [
                "Workspace.Reset(x => x.ResetInitializationRules());"
            ]
        },
        {
            "cell_type": "code",
            "source": [
                ""
            ]
        }
    ]
}