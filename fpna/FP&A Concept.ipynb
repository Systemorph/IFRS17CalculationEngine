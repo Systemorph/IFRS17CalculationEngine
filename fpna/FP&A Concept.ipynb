{
    "metadata": {
        "authors": [],
        "id": "OqMzEpGd60WtRDDYnqTZrA",
        "kernelspec": {
            "display_name": "Formula Framework",
            "language": "C#",
            "name": "C#"
        },
        "language_info": {
            "file_extension": ".cs",
            "mimetype": "text/plain",
            "name": "C#"
        }
    },
    "nbformat": 4,
    "nbformat_minor": 5,
    "cells": [
        {
            "cell_type": "markdown",
            "source": [
                "# Steering your business: Financial Planning & Analysis for IFRS17 tool"
            ],
            "metadata": {},
            "execution_count": 0,
            "outputs": []
        },
        {
            "cell_type": "markdown",
            "source": [
                "This FP&A solution is designed to help insurance companies of all sizes to improve the financial planning and analysis based on an existing IFRS17 implementation. It covers the four main pillars of FP&A: managing earnings, liquidity, solvency, and other KPIs. It is integrated, flexible, and easy-to-use, and provides a wide range of features and functionality to help insurance companies to steer the business.",
                "\n",
                "\nThe solution provides users with a single \"source of truth\" for all of their financial data, and it makes it easy to generate reports and dashboards that track performance, identify trends, and help make informed decisions."
            ],
            "metadata": {},
            "execution_count": 0,
            "outputs": []
        },
        {
            "cell_type": "markdown",
            "source": [
                "# Features",
                "\n## Flexibility",
                "\n- This FP&A solution is designed to be flexible and integrate with existing system landscape. It also supports a variety of business processes, including existing business and run-off, as well as new business and initiatives.",
                "\n",
                "\n## Efficiency",
                "\n- This solution helps increase efficiency and productivity by automating many of the manual tasks associated with financial planning and analysis. This frees up resources to focus on more strategic and value-adding activities.",
                "\n",
                "\n## User-friendly",
                "\n- Slice & Dice & filter Reports & Graphs by any relevant reporting hierarchy or data dimension. Document next to the business logic by using computational notebooks.",
                "\n",
                "\n## Control",
                "\n- Maintain auditability and versioning control for Data & Business logic. Improve compliance with IFRS 17, Solvency II, and other financial reporting and regulatory requirements."
            ],
            "metadata": {},
            "execution_count": 0,
            "outputs": []
        },
        {
            "cell_type": "markdown",
            "source": [
                "# Steering Dashboard",
                "\n## Earnings",
                "\n- Forecast earnings under IFRS 17, integrate bottom-up and top-down approaches to earnings planning, and scale plans by estimated volumes of business.",
                "\n- Net Income, split by Insurance, Expense and Invemstment components, showing Absolute Amounts, Deltas, % Change and relevant ratios",
                "\n- Compare to Planned metrics (expected) and quantify KPI's separately for future NB and Inforce (IF) run-off",
                "\n- project Balance sheet for existing business runoff and new business, including initatives",
                "\n- Compute Forecasts as BottomUp using predefined parameters & TopDown by interactively adjusting the plan, either by Overwriting or Adding to the BottomUp plan",
                "\n- Autogenerate comments & explanations on movements compared to previous period or any other delta",
                "\n",
                "\n## Capital",
                "\n- Project capital requirements and margins under Solvency II or Swiss Solvency Test",
                "\n- Correlate hierarchy of risks, ",
                "\n- Integrate capital planning with cash and earnings projections",
                "\n",
                "\n## Liquidity",
                "\n- Track and analyze liquidity indicators against defined thresholds, ",
                "\n- Define and calculate liquidity ratios and other KPIs, and",
                "\n- Manage debt financing and profits release into dividends.",
                "\n  ",
                "\n## Other KPIs",
                "\n- Combine and analyze a wide range of financial and non-financial indicators like: Profitability targets, Market Data, Benchmarks, Number of Clients or Workforce, ESG ratings, etc.",
                "\n- Generate scenarios and sensitivity analysis, ",
                "\n- Test the impact of different events on financial performance."
            ],
            "metadata": {},
            "execution_count": 0,
            "outputs": []
        }
    ]
}