{
    "metadata": {
        "authors": [],
        "id": "LJoTiynOtkyykUkLA7QITw",
        "kernelspec": {
            "display_name": "Formula Framework",
            "language": "C#",
            "name": "C#"
        },
        "language_info": {
            "file_extension": ".cs",
            "mimetype": "text/plain",
            "name": "C#"
        }
    },
    "nbformat": 4,
    "nbformat_minor": 5,
    "cells": [
        {
            "cell_type": "markdown",
            "source": [
                "# Life Contingencies Methods ",
                "\n## Data Model"
            ],
            "metadata": {},
            "execution_count": 0,
            "outputs": []
        },
        {
            "cell_type": "code",
            "source": [
                "#!import \"../DataModel\""
            ],
            "metadata": {},
            "execution_count": 0,
            "outputs": []
        },
        {
            "cell_type": "markdown",
            "source": [
                "## Basic functions"
            ],
            "metadata": {},
            "execution_count": 0,
            "outputs": []
        },
        {
            "cell_type": "code",
            "source": [
                "public static double[] Complement(double[] qx)",
                "\n{ ",
                "\n    return qx.Select(x => 1 - x).ToArray();",
                "\n}"
            ],
            "metadata": {},
            "execution_count": 0,
            "outputs": []
        },
        {
            "cell_type": "markdown",
            "source": [
                "## Survival Probability for age x till time t",
                "\nIt is the probability that a person aged exactly x lives for another t years to exact age (x+t). For example, if tpx = 0.95, then this means that there is a 95% chance that a person aged x will survive for another t years. The position in the array corresponds to t years. Input to the function is the applicable mortality table for given age x onwards."
            ],
            "metadata": {},
            "execution_count": 0,
            "outputs": []
        },
        {
            "cell_type": "code",
            "source": [
                "public static double[] tPx(double[] qx)",
                "\n{ ",
                "\n    var length = qx.Length;",
                "\n    ",
                "\n    var ret = new double[length];",
                "\n    var px = Complement(qx);",
                "\n",
                "\n    for (var i = 0; i < length; i++)",
                "\n        ret[i] = Math.Max(0, Math.Min(1, px.Take(i + 1).Aggregate((a,x) => a * x)));",
                "\n    return ret;",
                "\n}"
            ],
            "metadata": {},
            "execution_count": 0,
            "outputs": []
        },
        {
            "cell_type": "markdown",
            "source": [
                "## Probability of death for age x within next t years",
                "\nThe position in the array corresponds to t years.",
                "\n",
                "\nThe actuarial notation for the probability of death at age x is qx. It is the probability that a person aged exactly x will die within the next year.",
                "\n",
                "\nFor example, if qx = 0.05, then this means that there is a 5% chance that a person aged x will die within the next year.",
                "\n",
                "\nProbability of death after aged x surviving n years is n+q_x. It is the probability that a person aged exactly x who survives for another n years will die within the next year."
            ],
            "metadata": {},
            "execution_count": 0,
            "outputs": []
        },
        {
            "cell_type": "code",
            "source": [
                "public static double[] tQx(double[] qx, int n = default)",
                "\n{",
                "\n    var tpx = tPx(qx);",
                "\n    return tPx(qx).Select( x => tpx[n] * x).ToArray();",
                "\n}"
            ],
            "metadata": {},
            "execution_count": 0,
            "outputs": []
        },
        {
            "cell_type": "markdown",
            "source": [
                "## Test"
            ],
            "metadata": {},
            "execution_count": 0,
            "outputs": []
        },
        {
            "cell_type": "code",
            "source": [
                "double[] qx = {0.1, 0.11, 0.111};",
                "\ntQx(qx, 1)"
            ],
            "metadata": {},
            "execution_count": 0,
            "outputs": []
        },
        {
            "cell_type": "code",
            "source": [
                ""
            ],
            "metadata": {},
            "execution_count": 0,
            "outputs": []
        },
        {
            "cell_type": "code",
            "source": [
                ""
            ],
            "metadata": {},
            "execution_count": 0,
            "outputs": []
        }
    ]
}