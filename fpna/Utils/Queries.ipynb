{
    "metadata": {
        "authors": [],
        "id": "p8IcPf21F0SvkDjESdB1bw",
        "kernelspec": {
            "display_name": "Formula Framework",
            "language": "C#",
            "name": "C#"
        },
        "language_info": {
            "file_extension": ".cs",
            "mimetype": "text/plain",
            "name": "C#"
        }
    },
    "nbformat": 4,
    "nbformat_minor": 5,
    "cells": [
        {
            "cell_type": "markdown",
            "source": [
                "# Cashflow Definition",
                "\nCashflow Defintion query takes as input a string identifying the pillar: IFRS 17, Solvency, ...",
                "\n",
                "\nThis query has the default logic necessary to provide a fall back (Best Estimate) in case of Scenario calculation. "
            ],
            "metadata": {},
            "execution_count": 0,
            "outputs": []
        },
        {
            "cell_type": "code",
            "source": [
                "// Should be required only to compile this NB in isolation (debugging)",
                "\n#!import \"../Constants/Ifrs17CalculationEngine\""
            ],
            "metadata": {},
            "execution_count": 0,
            "outputs": []
        },
        {
            "cell_type": "code",
            "source": [
                "#!import \"../DataModel/DataStructure\""
            ],
            "metadata": {},
            "execution_count": 0,
            "outputs": []
        },
        {
            "cell_type": "code",
            "source": [
                "public static async Task<T[]> QueryCashflowAsync<T,P>(this IWorkspace workspace, IDataSource dataSource, ",
                "\n                                                                      Guid targetPartition, Guid defaultPartition,",
                "\n                                                                      ImportArgs args,",
                "\n                                                                      string pillar) //pillar should be idenfied from the args.ImportFormat",
                "\n    where T : IPartitioned, IWithPillar",
                "\n    where P : IPartition",
                "\n{",
                "\n    //FilterExpression",
                "\n    //Expression<Func<T, bool>> filterExpression = pillar == null ? (Expression<Func<T, bool>>)(x => true) : x => x.Pillar == pillar; // Is it ever needed to query all pillars?",
                "\n    Expression<Func<T, bool>> filterExpression = x => x.Pillar == pillar;",
                "\n    ",
                "\n    var variablesFromWorkspace = await workspace.LoadPartitionedDataAsync<T,P>(targetPartition, filterExpression);",
                "\n    if(args.Scenario == null)",
                "\n        return variablesFromWorkspace;",
                "\n",
                "\n    var variablesFromDataSource = await dataSource.LoadPartitionedDataAsync<T,P>(defaultPartition, x => x.Pillar == pillar); //TODO what about the partition? Should be set to the correct one here?",
                "\n",
                "\n    return variablesFromWorkspace.Union(variablesFromWorkspace, EqualityComparer<T>.Instance).ToArray();",
                "\n}"
            ],
            "metadata": {},
            "execution_count": 0,
            "outputs": []
        }
    ]
}