{
    "metadata": {
        "authors": [],
        "id": "kkNKCHFFzkqRCi2Qb4VFDQ",
        "kernelspec": {
            "display_name": "Formula Framework",
            "language": "C#",
            "name": "C#"
        },
        "language_info": {
            "file_extension": ".cs",
            "mimetype": "text/plain",
            "name": "C#"
        }
    },
    "nbformat": 4,
    "nbformat_minor": 5,
    "cells": [
        {
            "cell_type": "markdown",
            "source": [
                "# Basic Cashflow Computation",
                "\n## Compute Constant Cashflow",
                "\nThis method will provide a constant cashflow of \"**Initial Value**\".",
                "\n",
                "\nThe cash flow starts after \"**shift**\" projection periods and is paid for \"**length**\" projection periods."
            ],
            "metadata": {},
            "execution_count": 0,
            "outputs": []
        },
        {
            "cell_type": "code",
            "source": [
                "public static double[] GetConstantValues(this double initialValue, int shift, int length){",
                "\n",
                "\n    var constant = new double[shift + length];",
                "\n    ",
                "\n    for (var i = 0; i < length; i++)",
                "\n        constant[shift + i] =  initialValue;",
                "\n        ",
                "\n    return constant;",
                "\n}"
            ],
            "metadata": {},
            "execution_count": 0,
            "outputs": []
        },
        {
            "cell_type": "markdown",
            "source": [
                "## Compute Linear Cashflow",
                "\nThis method provides a linearly increasing cash flow.",
                "\n",
                "\nThe amount of which is equal to the \"**Initial Value**\" plus any \"**Values**\" for the given time period.",
                "\n",
                "\nThe cash flow starts after \"**shift**\" projection periods and is paid for \"**length**\" projection periods."
            ],
            "metadata": {},
            "execution_count": 0,
            "outputs": []
        },
        {
            "cell_type": "code",
            "source": [
                "public static double[] GetLinearValues(this double initialValue, int shift, int length, double[] values){",
                "\n",
                "\n    // The cashflow start after \"shift\" periods. ",
                "\n    // The cashflow length is \"Lenght\" periods.",
                "\n    // The cashflow is the accumulation of \"initialValue\" + \"value[i]\"",
                "\n",
                "\n    var linear = new double[shift + length];",
                "\n    ",
                "\n    for (var i = 0; i < length; i++)",
                "\n        linear[shift + i] =  initialValue + values.Take(i + 1).Aggregate((x, y) => x + y);",
                "\n        ",
                "\n    return linear;",
                "\n}"
            ],
            "metadata": {},
            "execution_count": 0,
            "outputs": []
        },
        {
            "cell_type": "markdown",
            "source": [
                "## Compute Compounded Cashflow",
                "\nThis method provides a geometrically increasing or decreasing cash flow.",
                "\n",
                "\nThe **amount** of the cash flow in the first period is equal to \"**Initial Value**\" * (1 + **Value**(t)). In subsequent periods, the cash flow is equal to the previous cash flow multiplied by (1 + **Value**(t)).",
                "\n",
                "\nThe cash flow starts after \"**shift**\" projection periods and is paid for \"**length**\" projection periods."
            ],
            "metadata": {},
            "execution_count": 0,
            "outputs": []
        },
        {
            "cell_type": "code",
            "source": [
                "public static double[] GetCompoundValues(this double initialValue, int shift, int length, double[] values){",
                "\n    ",
                "\n    var compound = new double[shift + length];",
                "\n",
                "\n    for (var i = 0; i < length; i++)",
                "\n        compound[shift + i] = initialValue * values.Take(i + 1).Select(x => 1 + x).Aggregate((x, y) => x * y);",
                "\n             ",
                "\n    return compound;",
                "\n}"
            ],
            "metadata": {},
            "execution_count": 0,
            "outputs": []
        },
        {
            "cell_type": "markdown",
            "source": [
                "# Bounded Cashflow Computation"
            ],
            "metadata": {},
            "execution_count": 0,
            "outputs": []
        },
        {
            "cell_type": "markdown",
            "source": [
                "## Compute Bounded Random Cashflows",
                "\n",
                "\nThis method provides random cash flow amounts, with values between the specified \"**Minimum**\" and \"**Maximum**\" boundaries.",
                "\n",
                "\nThe cash flow starts after the specified number of projection periods (\"**shift**\") and is paid for the specified number of projection periods (\"**length**\")."
            ],
            "metadata": {},
            "execution_count": 0,
            "outputs": []
        },
        {
            "cell_type": "code",
            "source": [
                "public static double[] GetBoundedRandomValues(this int shift, int length, double max, double min){",
                "\n    var bounded = new double[length];",
                "\n    var random = new Random();",
                "\n",
                "\n    for (var i = shift; i < length; i++)",
                "\n        bounded[i] = random.NextDouble() * (max - min) + min;",
                "\n               ",
                "\n    return bounded;",
                "\n}"
            ],
            "metadata": {},
            "execution_count": 0,
            "outputs": []
        },
        {
            "cell_type": "markdown",
            "source": [
                "Correlating Cash Flows for Risk Drivers in the Solvency Framework",
                "\n",
                "\nSome cash flows for risk drivers in the Solvency framework can be correlated. This is done by using a correlation factor.",
                "\n",
                "\nThe correlated value of two correlated risks is calculated as follows:",
                "\n",
                "\nCode snippet",
                "\n$$",
                "\n\\text{Correlated Value} = \\sqrt{\\text{r1}^2 + \\text{r2}^2 + 2ab\\text{Corr}(\\text{r1},\\text{r2})}",
                "\n$$",
                "\nwhere:",
                "\n",
                "\n$$r1$$ and $$r2$$ are the risk measures of the two correlated risks",
                "\n",
                "\n$$\\text{Corr}(\\text{r1},\\text{r2})$$ is the correlation factor between the two risk measures",
                "\n",
                "\n$$a$$ and $$b$$ are the weights of the two risk measures",
                "\n",
                "\nThe correlation effect is the difference between the correlated value and the sum of the two risk measures:",
                "\n",
                "\n$$",
                "\n\\text{Correlation Effect} = \\text{Correlated Value} - \\text{r1} - \\text{r2}",
                "\n$$",
                "\n",
                "\nIf both risks are the same, the correlation is assumed to be 1, and the correlation effect is 0. Therefore, there is no need to provide correlation factors of 1.",
                "\n",
                "\nMultiple Risks",
                "\n",
                "\nThe correlated value of multiple risks is calculated as follows:",
                "\n",
                "\n$$",
                "\n\\text{Correlated Value} = \\sum_{i,j} \\text{r}_i \\text{r}_j \\text{Corr}(\\text{r}_i,\\text{r}_j)",
                "\n$$",
                "\n",
                "\nwhere:",
                "\n",
                "\n$$\\text{r}_i$$ and $$\\text{r}_j$$ are the risk measures of the individual risks",
                "\n$$\\text{Corr}(\\text{r}_i,\\text{r}_j)$$ is the correlation factor between the two risk measures",
                "\nThe correlation effect is calculated as follows:",
                "\n",
                "\n$$\\text{Correlation Effect} = \\text{Correlated Value} - \\sum_i \\text{r}_i",
                "\n$$"
            ],
            "metadata": {},
            "execution_count": 0,
            "outputs": []
        },
        {
            "cell_type": "markdown",
            "source": [
                "## Correlate Risk Cashflows",
                "\n### Two risks",
                "\nSome cashflows for Risk Drivers in the Solvency framework should allow for correlation between them. This is done by using a Correlation factor. ",
                "\n$$",
                "\n\\text{Correlated Value} = \\sqrt{r_1^2 + r_2^2 + 2 \\cdot a \\cdot b \\cdot \\text{Corr}(r_1,r_2)}",
                "\n$$",
                "\n",
                "\nwhere ",
                "\n- $$r_1$$ and $$r_2$$ represent risk measure of 2 correlated risks",
                "\n- $$Corr(r_1, r_2)$$ is correlation factor between such 2 risk measures",
                "\n  ",
                "\nThe total value, *in addition* to simple aggregation of *r_1* an *r_2* is expressed by",
                "\n$$",
                "\n\\text{Correlation Effect} = \\text{Correlated Value} - r_1 - r_2",
                "\n$$",
                "\n",
                "\nNote, if both risks are the same, the correlation is assumed to be 1, and the above formula for Correlation Effect simlifies to 0. Thus, there is no need to provide correlation factors of 1.",
                "\n",
                "\n### Multiple risks",
                "\n$$",
                "\n\\text{Correlated Value} = \\sqrt{\\sum_{ij} r_i \\cdot r_j \\cdot \\text{Corr}(r_i,r_j)}",
                "\n$$",
                "\n",
                "\n$$",
                "\n\\text{Correlation Effect} = \\text{Correlated Value} - \\sum_{i}r_i",
                "\n$$",
                "\n",
                "\nSource: [Eiopa CEIOPS Correlation Parameters](https://register.eiopa.europa.eu/CEIOPS-Archive/Documents/Advices/CEIOPS-L2-Advice-Correlation-Parameters.pdf)"
            ],
            "metadata": {},
            "execution_count": 0,
            "outputs": []
        },
        {
            "cell_type": "code",
            "source": [
                "public static double Correlate(double[] r1, double[] r2, double[,] correlation){",
                "\n",
                "\n    if (r1.Length != r2.Length)",
                "\n        throw new System.Exception(\"Vectors of unequal lenghts!\");",
                "\n",
                "\n   return Math.Sqrt(r1.Select((x,i) => r2.Select((y,j) => x * y * correlation[i,j] ).Sum()).Sum());",
                "\n",
                "\n}"
            ],
            "metadata": {},
            "execution_count": 0,
            "outputs": []
        },
        {
            "cell_type": "code",
            "source": [
                ""
            ],
            "metadata": {},
            "execution_count": 0,
            "outputs": []
        }
    ]
}