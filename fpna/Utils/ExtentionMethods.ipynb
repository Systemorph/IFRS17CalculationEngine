{
    "metadata": {
        "authors": [],
        "id": "kkNKCHFFzkqRCi2Qb4VFDQ",
        "kernelspec": {
            "display_name": "Formula Framework",
            "language": "C#",
            "name": "C#"
        },
        "language_info": {
            "file_extension": ".cs",
            "mimetype": "text/plain",
            "name": "C#"
        }
    },
    "nbformat": 4,
    "nbformat_minor": 5,
    "cells": [
        {
            "cell_type": "markdown",
            "source": [
                "# Basic Cashflow Computation"
            ],
            "metadata": {},
            "execution_count": 0,
            "outputs": []
        },
        {
            "cell_type": "markdown",
            "source": [
                "## Compute Linear Cashflow",
                "\n",
                "\nTODO: Add Short description"
            ],
            "metadata": {},
            "execution_count": 0,
            "outputs": []
        },
        {
            "cell_type": "code",
            "source": [
                "public static double[] GetLinearValues(this double initialValue, int shift, int length, double[] values){",
                "\n    var linear = new double[length];",
                "\n    ",
                "\n    for (var i = shift; i < length; i++)",
                "\n        if (i == shift)",
                "\n            linear[i] = initialValue;",
                "\n        else",
                "\n            linear[i] = linear[i-1] * values[i - shift];",
                "\n    ",
                "\n    return linear;",
                "\n}"
            ],
            "metadata": {},
            "execution_count": 0,
            "outputs": []
        },
        {
            "cell_type": "markdown",
            "source": [
                "## Compute Compounded Cashflow",
                "\n",
                "\nTODO: Add Short description"
            ],
            "metadata": {},
            "execution_count": 0,
            "outputs": []
        },
        {
            "cell_type": "code",
            "source": [
                "public static double[] GetCompoundValues(this double initialValue, int shift, int length, double[] values){",
                "\n    var compound = new double[length];",
                "\n    ",
                "\n    for (var i = shift; i < length; i++)",
                "\n        if (i == shift)",
                "\n            compound[i] = initialValue;",
                "\n        else",
                "\n            compound[i] = compound[i-1] * (1d + values[i - shift]);",
                "\n    ",
                "\n    return compound;",
                "\n}"
            ],
            "metadata": {},
            "execution_count": 0,
            "outputs": []
        },
        {
            "cell_type": "markdown",
            "source": [
                "# Bounded Cashflow Computation"
            ],
            "metadata": {},
            "execution_count": 0,
            "outputs": []
        },
        {
            "cell_type": "markdown",
            "source": [
                "## Compute Bounded Random",
                "\n",
                "\nTODO: Add Short description"
            ],
            "metadata": {},
            "execution_count": 0,
            "outputs": []
        },
        {
            "cell_type": "code",
            "source": [
                "public static double[] GetBoundedRandomCashflow(this int shift, int length, double max, double min){",
                "\n    var bounded = new double[length];",
                "\n    var random = new Random(); // is this random enough?",
                "\n",
                "\n    for (var i = shift; i < length; i++)",
                "\n        bounded[i] = random.NextDouble() * (max - min) + min;",
                "\n               ",
                "\n    return bounded;",
                "\n}"
            ],
            "metadata": {},
            "execution_count": 0,
            "outputs": []
        }
    ]
}