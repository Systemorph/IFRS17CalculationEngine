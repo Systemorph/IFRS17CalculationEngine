{
    "metadata": {
        "authors": [],
        "id": "kkNKCHFFzkqRCi2Qb4VFDQ",
        "kernelspec": {
            "display_name": "Formula Framework",
            "language": "C#",
            "name": "C#"
        },
        "language_info": {
            "file_extension": ".cs",
            "mimetype": "text/plain",
            "name": "C#"
        }
    },
    "nbformat": 4,
    "nbformat_minor": 5,
    "cells": [
        {
            "cell_type": "markdown",
            "source": [
                "# Basic Cashflow Computation",
                "\n## Compute Constant Cashflow",
                "\nThis method will provide a constant cashflow of *'Initial Value'*.",
                "\n",
                "\nThe overall cash flow length is determined by the *'length'* parameter, while the initial number of periods, specified by the *'shift'* parameter, is zero."
            ],
            "metadata": {},
            "execution_count": 0,
            "outputs": []
        },
        {
            "cell_type": "code",
            "source": [
                "public static double[] GetConstantValues(this double initialValue, int shift, int length){",
                "\n",
                "\n    var constant = new double[length];",
                "\n    ",
                "\n    for (var i = shift; i < length; i++)",
                "\n        constant[i] =  initialValue;",
                "\n        ",
                "\n    return constant;",
                "\n}"
            ],
            "metadata": {},
            "execution_count": 0,
            "outputs": []
        },
        {
            "cell_type": "markdown",
            "source": [
                "## Compute Linear Cashflow",
                "\nThis method provides a linearly increasing cash flow.",
                "\n",
                "\nThe amount of which is equal to the \"**Initial Value**\" plus any \"**Values**\" for the given time period.",
                "\n",
                "\nThe overall cash flow length is determined by the *'length'* parameter, while the initial number of periods, specified by the *'shift'* parameter, is zero."
            ],
            "metadata": {},
            "execution_count": 0,
            "outputs": []
        },
        {
            "cell_type": "code",
            "source": [
                "public static double[] GetLinearValues(this double initialValue, int shift, int length, double[] values){",
                "\n",
                "\n    var linear = new double[length];",
                "\n    ",
                "\n    for (var i = shift; i < length; i++)",
                "\n        linear[i] =  initialValue + values.Take(i - shift + 1).Aggregate((x, y) => x + y);",
                "\n        ",
                "\n    return linear;",
                "\n}"
            ],
            "metadata": {},
            "execution_count": 0,
            "outputs": []
        },
        {
            "cell_type": "markdown",
            "source": [
                "## Compute Compounded Cashflow",
                "\nThis method provides a geometrically increasing or decreasing cash flow.",
                "\n",
                "\nThe value of the cash flow in the first period is equal to \"**Initial Value**\" * (1 + **Value**(t)). In subsequent periods, the cash flow is equal to the previous cash flow multiplied by (1 + **Value**(t)).",
                "\n",
                "\nThe overall cash flow length is determined by the *'length'* parameter, while the initial number of periods, specified by the *'shift'* parameter, is zero."
            ],
            "metadata": {},
            "execution_count": 0,
            "outputs": []
        },
        {
            "cell_type": "code",
            "source": [
                "public static double[] GetCompoundValues(this double initialValue, int shift, int length, double[] values){",
                "\n    ",
                "\n    var compound = new double[length];",
                "\n",
                "\n    for (var i = shift; i < length; i++)",
                "\n        compound[i] = initialValue * values.Take(i - shift + 1).Select(x => 1 + x).Aggregate((x, y) => x * y);",
                "\n             ",
                "\n    return compound;",
                "\n}"
            ],
            "metadata": {},
            "execution_count": 0,
            "outputs": []
        },
        {
            "cell_type": "markdown",
            "source": [
                "# Bounded Cashflow Computation"
            ],
            "metadata": {},
            "execution_count": 0,
            "outputs": []
        },
        {
            "cell_type": "markdown",
            "source": [
                "## Compute Bounded Random Cashflows",
                "\n",
                "\nThis method provides random cash flow amounts, with values between the specified \"**Minimum**\" and \"**Maximum**\" boundaries.",
                "\n",
                "\nThe overall cash flow length is determined by the *'length'* parameter, while the initial number of periods, specified by the *'shift'* parameter, is zero."
            ],
            "metadata": {},
            "execution_count": 0,
            "outputs": []
        },
        {
            "cell_type": "code",
            "source": [
                "public static double[] GetBoundedRandomValues(this int shift, int length, double max, double min){",
                "\n    var bounded = new double[length];",
                "\n    var random = new Random();",
                "\n",
                "\n    for (var i = shift; i < length; i++)",
                "\n        bounded[i] = random.NextDouble() * (max - min) + min;",
                "\n               ",
                "\n    return bounded;",
                "\n}"
            ],
            "metadata": {},
            "execution_count": 0,
            "outputs": []
        },
        {
            "cell_type": "markdown",
            "source": [
                "# Correlate Risk Cashflows",
                "\n",
                "\nCorrelating Cash Flows for Risk Drivers in the Solvency Framework.",
                "\n",
                "\nSome cash flows for risk drivers in the Solvency framework can be correlated. This is done by using a correlation factor.",
                "\n",
                "\nSource: [Eiopa CEIOPS Correlation Parameters](https://register.eiopa.europa.eu/CEIOPS-Archive/Documents/Advices/CEIOPS-L2-Advice-Correlation-Parameters.pdf)"
            ],
            "metadata": {},
            "execution_count": 0,
            "outputs": []
        },
        {
            "cell_type": "markdown",
            "source": [
                "## Multiple Risks",
                "\n",
                "\nThe correlated value of multiple risks is calculated as follows:",
                "\n",
                "\n$$",
                "\n\\text{Correlated Value} = \\sum_{i,j} \\text{r}_i \\text{r}_j \\text{Corr}(\\text{r}_i,\\text{r}_j)",
                "\n$$",
                "\n",
                "\n- $$\\text{r}_i$$ and $$\\text{r}_j$$ are the risk measures of the individual risks",
                "\n",
                "\nThe correlation effect is calculated as follows:",
                "\n",
                "\n$$",
                "\n\\text{Correlation Effect} = \\text{Correlated Value} - \\sum_i \\text{r}_i",
                "\n$$"
            ],
            "metadata": {},
            "execution_count": 0,
            "outputs": []
        },
        {
            "cell_type": "code",
            "source": [
                "public static double GetCorrelatedValue(double[] r1, double[] r2, double[,] correlation){",
                "\n",
                "\n   return Math.Sqrt(r1.Select((x,i) => r2.Select((y,j) => x * y * correlation[i,j] ).Sum()).Sum());",
                "\n",
                "\n}"
            ],
            "metadata": {},
            "execution_count": 0,
            "outputs": []
        },
        {
            "cell_type": "markdown",
            "source": [
                "## Two risks (not implemented)",
                "\nThe correlated value of two correlated risks is calculated as follows:",
                "\n",
                "\n$$",
                "\n\\text{Correlated Value} = \\sqrt{ r_1^2 + r_2^2 + 2 \\text{r}_1 \\text{r}_2  \\text{Corr}(\\text{r}_1,\\text{r}_2)  }",
                "\n$$",
                "\nwhere:",
                "\n",
                "\n- $$r_1$$ and $$r_2$$ are the risk measures of the two correlated risks",
                "\n- $$\\text{Corr}(\\text{r}_1,\\text{r}_2)$$ is the correlation factor between the two risk measures",
                "\n- $$r_1$$ and $$r_2$$ are the weights of the two risk measures",
                "\n",
                "\nThe correlation effect is the difference between the correlated value and the sum of the two risk measures:",
                "\n",
                "\n$$",
                "\n\\text{Correlation Effect} = \\text{Correlated Value} - \\text{r}_1 - \\text{r}_2",
                "\n$$",
                "\n",
                "\nIf both risks are the same, the correlation is assumed to be 1, and the correlation effect is 0. Therefore, there is no need to provide correlation factors of 1."
            ],
            "metadata": {},
            "execution_count": 0,
            "outputs": []
        },
        {
            "cell_type": "code",
            "source": [
                ""
            ],
            "metadata": {},
            "execution_count": 0,
            "outputs": []
        }
    ]
}