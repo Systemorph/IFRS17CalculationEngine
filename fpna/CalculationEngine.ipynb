{
    "metadata": {
        "authors": [],
        "id": "q-pn5zOdG0eP2UyxKeTX2g",
        "kernelspec": {
            "display_name": "Formula Framework",
            "language": "C#",
            "name": "C#"
        },
        "language_info": {
            "file_extension": ".cs",
            "mimetype": "text/plain",
            "name": "C#"
        }
    },
    "nbformat": 4,
    "nbformat_minor": 5,
    "cells": [
        {
            "cell_type": "code",
            "source": [
                "#!import \"DataModel/DataStructure\"",
                "\n#!import \"Import/Importers\"",
                "\n#!import \"Report/ReportConfigurationAndUtils\""
            ],
            "metadata": {},
            "execution_count": 0,
            "outputs": []
        }
    ]
}