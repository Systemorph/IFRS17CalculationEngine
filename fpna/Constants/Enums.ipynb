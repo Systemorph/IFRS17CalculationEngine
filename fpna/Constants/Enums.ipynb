{
    "metadata": {
        "authors": [],
        "id": "EH_PRB9zT0emQV20j5jOwQ",
        "kernelspec": {
            "display_name": "Formula Framework",
            "language": "C#",
            "name": "C#"
        },
        "language_info": {
            "file_extension": ".cs",
            "mimetype": "text/plain",
            "name": "C#"
        }
    },
    "nbformat": 4,
    "nbformat_minor": 5,
    "cells": [
        {
            "cell_type": "markdown",
            "source": [
                "# Enums"
            ],
            "metadata": {},
            "execution_count": 0,
            "outputs": []
        },
        {
            "cell_type": "code",
            "source": [
                "public enum Shape { Constant, Linear, Compound, Random, Reference, Custom}"
            ],
            "metadata": {},
            "execution_count": 0,
            "outputs": []
        }
    ]
}