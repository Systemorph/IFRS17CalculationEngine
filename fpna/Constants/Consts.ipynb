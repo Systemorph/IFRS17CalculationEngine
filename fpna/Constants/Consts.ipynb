{
    "metadata": {
        "authors": [],
        "id": "bJt8xTHAUESnpCCmxGokOg",
        "kernelspec": {
            "display_name": "Formula Framework",
            "language": "C#",
            "name": "C#"
        },
        "language_info": {
            "file_extension": ".cs",
            "mimetype": "text/plain",
            "name": "C#"
        }
    },
    "nbformat": 4,
    "nbformat_minor": 5,
    "cells": [
        {
            "cell_type": "code",
            "source": [
                "public static class SolvencyImportFormats{",
                "\n    public const string SolvencyCashflowDefinition = nameof(SolvencyCashflowDefinition);     // Importer for Cash flows Defition ",
                "\n}"
            ],
            "metadata": {},
            "execution_count": 0,
            "outputs": []
        }
    ]
}