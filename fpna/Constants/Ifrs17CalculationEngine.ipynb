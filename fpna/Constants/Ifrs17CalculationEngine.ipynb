{
    "metadata": {
        "authors": [],
        "id": "DLpM1qzeikKOOU3RjREZAQ",
        "kernelspec": {
            "display_name": "Formula Framework",
            "language": "C#",
            "name": "C#"
        },
        "language_info": {
            "file_extension": ".cs",
            "mimetype": "text/plain",
            "name": "C#"
        }
    },
    "nbformat": 4,
    "nbformat_minor": 5,
    "cells": [
        {
            "cell_type": "markdown",
            "source": [
                "# IFRS 17 Calculation Engine"
            ],
            "metadata": {},
            "execution_count": 0,
            "outputs": []
        },
        {
            "cell_type": "code",
            "source": [
                "var projectName = \"ifrs-17-calculation-engine-oct23\";",
                "\nvar environmentName = \"v1.3.2\";",
                "\nvar notebookName = \"CalculationEngine\";",
                "\nvar calculationEngine = $\"#!import \\\"//{projectName}/{environmentName}/{notebookName}\\\"\";",
                "\n//var calculationEngine = $\"#!import \\\"../../{projectName}/{notebookName}\\\"\";"
            ],
            "metadata": {},
            "execution_count": 0,
            "outputs": []
        },
        {
            "cell_type": "code",
            "source": [
                "#!eval calculationEngine"
            ],
            "metadata": {},
            "execution_count": 0,
            "outputs": []
        },
        {
            "cell_type": "markdown",
            "source": [
                "# IFRS 17 Template"
            ],
            "metadata": {},
            "execution_count": 0,
            "outputs": []
        },
        {
            "cell_type": "code",
            "source": [
                "var projectTemplateName = \"ifrs17-template\";",
                "\nvar environmentTemplateName = \"dev\";"
            ],
            "metadata": {},
            "execution_count": 0,
            "outputs": []
        }
    ]
}