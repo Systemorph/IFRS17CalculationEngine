{
    "metadata": {
        "authors": [],
        "id": "o7A581FUC0q2YdzDbbqVew",
        "kernelspec": {
            "display_name": "Formula Framework",
            "language": "C#",
            "name": "C#"
        },
        "language_info": {
            "file_extension": ".cs",
            "mimetype": "text/plain",
            "name": "C#"
        }
    },
    "nbformat": 4,
    "nbformat_minor": 5,
    "cells": [
        {
            "cell_type": "markdown",
            "source": [
                "# Solvency (Capital Management)"
            ],
            "metadata": {},
            "execution_count": 0,
            "outputs": []
        },
        {
            "cell_type": "markdown",
            "source": [
                "## Summary",
                "\n- Project capital requirements and margins under one or several solvency regimes",
                "\n- Correlate hierarchy of risks",
                "\n- Integrate capital planning with cash and earnings projections",
                "\n- In more complex structure, allow for \"inflection points\" depending on the directionality of a movement in risk capital or asset price"
            ],
            "metadata": {},
            "execution_count": 0,
            "outputs": []
        },
        {
            "cell_type": "markdown",
            "source": [
                "Steps in the calculation: ",
                "\n",
                "\n# Import Earnings projections ",
                "\nof IFRS17 (or US GAAP) including Dividends and Balance Sheet projections (Assets and Liabilities ((Reserves)) relevant for the given business portfolios",
                "\n",
                "\n# Setup Data Model",
                "\nAdd necessry Data dimensions to the data model:",
                "\n- Solvency: Decide for which solvency regime(s) the calculation will be performed. default Solvency II (SII)",
                "\n- Risk",
                "\n- Scenario",
                "\n- AmountTypes for Assets and Liability",
                "\n- Risk correlations matrices",
                "\n- etc.",
                "\n",
                "\n# Define Risks as a hierarchical dimension",
                "\nunder the selected regime (SII, SST or both). Note that some risks aggregate as sums or are correlated via appropriate 2D dependency matrix between risks",
                "\n",
                "\nNumber of Basic risks could be defined, that aggregate into a hierarchy of higher-level risks",
                "\n- Market Risk",
                "\n- Liquidity Risk",
                "\n- Mortality Risk",
                "\n- Morbidity Risk",
                "\n- Operational Risk",
                "\n- Asset Risk",
                "\n- - Equity",
                "\n- - Property",
                "\n- - Hedge Funds",
                "\n- - Loans",
                "\n- - Cash",
                "\n- - Other Assets",
                "\n- Insurance Risk",
                "\n- Credit Risk",
                "\n- etc",
                "\n",
                "\nFor example, Market Risk can be composed of correlations between Interest Rate, Interest Rate Sensitivity, Spread Risk, Volatility Risk, Inflation Risk, and Assets risks. Asset Risks can be related to various types of Assets, like Equity, Property, Hedge Funds, Loans, Cash etc. Note the above list is not exhaustive.",
                "\n",
                "\n# Scale risks up or down",
                "\nFor each SolvencyRegime, obtain estimates of current volume of Risk, depending on given Risk Exposure to given Assets, Liabilities (Reserves), Earnings or Premium volume",
                "\n",
                "\n# Project Required Risk Capital",
                "\ncreate projection similar to cashflow projection for all risks, and thus a risk capital requirements for the whole blocks of business.  Do this at a granularity of various types of Assets and Liabilities, being impacted by various risks to a defined degree. This will be done by choosinga a suitably defined two-way relationship between AmountType projections (mostly asset and liability types) and basic risks, as well as choosing a cashflow like shape to project the risk (e.g. Constant, Asset pattern, Liability pattern, Premium Earned pattern, Correlated pattern, etc.)",
                "\n",
                "\n# Compare to Available Risk capital",
                "\nproject a cashflow for available capital for the given period and blocks of business and compare it to the required capital. Thus provide a measure of capital adequacy in % terms (ratios) and absolute amount (Solvency Capital)",
                "\n",
                "\n# Evaluate Scenarios",
                "\nby subjecting various componentes to \"shock\" that imapct the 'BalanceSheet' and consequently required Risk Capital. Then use this parallel projections to evalute sensitivity of capital projection to pre-defined scenarios. ",
                "\nExample scenarios are:",
                "\n- Share prices downward shock by 10% in each future period",
                "\n- Mortality experience upward shock by 10% in each future period",
                "\n- Morbidity experience one off shock of 50% in first period",
                "\n- Interest Rate Shock by a number of basis points in each period",
                "\n- etc.",
                "\n",
                "\n# Reports on Capital models",
                "\nPresent above results into suitable set of reports, combining the Solvency Captital projection results into the oveall dashbord with Earnings and Dividends"
            ],
            "metadata": {},
            "execution_count": 0,
            "outputs": []
        },
        {
            "cell_type": "code",
            "source": [
                ""
            ],
            "metadata": {},
            "execution_count": 0,
            "outputs": []
        }
    ]
}