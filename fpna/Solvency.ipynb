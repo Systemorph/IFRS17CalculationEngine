{
    "metadata": {
        "authors": [],
        "id": "o7A581FUC0q2YdzDbbqVew",
        "kernelspec": {
            "display_name": "Formula Framework",
            "language": "C#",
            "name": "C#"
        },
        "language_info": {
            "file_extension": ".cs",
            "mimetype": "text/plain",
            "name": "C#"
        }
    },
    "nbformat": 4,
    "nbformat_minor": 5,
    "cells": [
        {
            "cell_type": "markdown",
            "source": [
                "# Solvency"
            ],
            "metadata": {},
            "execution_count": 0,
            "outputs": []
        },
        {
            "cell_type": "markdown",
            "source": [
                "## Summary",
                "\n- Project Balance Sheets for existing and new business, including new initiatives.",
                "\n- Aggregate and correlate hierarchies of risks.",
                "\n- Project capital requirements and risk margins under Solvency II or Swiss Solvency Test.",
                "\n- Integrate capital planning with liquidity and earnings projections",
                "\n- In more complex structure, allow for \"inflection points\" depending on the directionality of a movement in risk capital or asset price"
            ],
            "metadata": {},
            "execution_count": 0,
            "outputs": []
        },
        {
            "cell_type": "markdown",
            "source": [
                "## Steps in the solvency calculation:",
                "\n",
                "\n1. **Import earnings projections** from IFRS17 or US GAAP, including liquidity projections and balance sheet projections relevant for the given business portfolios.",
                "\n",
                "\n2. **Set up a data model** with the necessary data dimensions, including solvency and scenarios.",
                "\n",
                "\n3. **Define risks as a hierarchical dimension** under the selected solvency regime (e.g., Solvency II). Note that some risks aggregate as sums or are correlated via appropriate 2D-dependency-matrix between risks.",
                "\n",
                "\n4. **Scale risks up or down** for each solvency regime, based on the current volume of risk, depending on the given risk exposure to given assets, liabilities (reserves), earnings, or premium volume.",
                "\n",
                "\n5. **Project required solvency capital requirement (SCR)** by creating a projection similar to a cashflow projection for all risks, and thus a risk capital requirement for the whole blocks of business. Allow for a granularity of various types of assets and liabilities, being impacted by various risks to a defined degree. This will be done by choosing a suitably defined two-way relationship between amount type projections (mostly asset and liability types) and basic risks, as well as choosing a cashflow like shape to project the risk (e.g., constant, asset pattern, liability pattern, premium earned pattern, correlated pattern, etc.).",
                "\n",
                "\n6. **Compare to available risk capital** by projecting a cashflow for available capital for the given period and blocks of business and comparing it to the required capital. This will provide a measure of capital adequacy in % terms (ratios) and absolute amount (solvency capital).",
                "\n",
                "\n7. **Evaluate scenarios** by subjecting balance sheet components to prescribed \"shocks\" and consequently calculating required risk capital. Use these parallel projections to evaluate the sensitivity of capital projection to predefined scenarios. Examples:",
                "\n- Share prices downward shock by 10% in each future period",
                "\n- Mortality experience upward shock by 10% in each future period",
                "\n- Morbidity experience one-off shock of 50% in the first period",
                "\n- Interest rate shock by a number of basis points in each period",
                "\n- etc.",
                "\n",
                "\n1. **Generate reports** on capital models by presenting the above results into a suitable set of reports, combining the solvency capital projection results into the overall dashboard with earnings and dividends."
            ],
            "metadata": {},
            "execution_count": 0,
            "outputs": []
        },
        {
            "cell_type": "code",
            "source": [
                ""
            ],
            "metadata": {},
            "execution_count": 0,
            "outputs": []
        }
    ]
}