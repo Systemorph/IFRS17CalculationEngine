{
    "metadata": {
        "authors": [],
        "id": "EGgRE12ezUGzee9_NQQ4Vg",
        "kernelspec": {
            "display_name": "Formula Framework",
            "language": "C#",
            "name": "C#"
        },
        "language_info": {
            "file_extension": ".cs",
            "mimetype": "text/plain",
            "name": "C#"
        }
    },
    "nbformat": 4,
    "nbformat_minor": 5,
    "cells": [
        {
            "cell_type": "code",
            "source": [
                "#!import \"../DataModel/DataStructure\""
            ],
            "metadata": {},
            "execution_count": 0,
            "outputs": []
        },
        {
            "cell_type": "markdown",
            "source": [
                "# FpaVariable To Report Type"
            ],
            "metadata": {},
            "execution_count": 0,
            "outputs": []
        },
        {
            "cell_type": "code",
            "source": [
                "public static IDataCube<FpaReportVariable> ToReportType (this IDataCube<FpaVariable> fpaVariable)",
                "\n    => fpaVariable.SelectMany(rv => rv.Values.Select((x,i) => new FpaReportVariable {",
                "\n                EstimateType = rv.EstimateType, ",
                "\n                AmountType = rv.AmountType, ",
                "\n                DataNode = rv.DataNode, ",
                "\n                AocType = rv.AocType,",
                "\n                Novelty = rv.Novelty,",
                "\n          //      RiskDriver = rv.RiskDriver,",
                "\n                Projection = i,",
                "\n                Value = x,",
                "\n                Layer = rv.Layer",
                "\n                }))",
                "\n            .ToDataCube();"
            ],
            "metadata": {},
            "execution_count": 0,
            "outputs": []
        }
    ]
}