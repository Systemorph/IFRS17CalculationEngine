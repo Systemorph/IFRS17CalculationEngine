{
    "metadata": {
        "authors": [],
        "id": "bpCHQp0px0SSZnf-SYxkzQ",
        "kernelspec": {
            "display_name": "Formula Framework",
            "language": "C#",
            "name": "C#"
        },
        "language_info": {
            "file_extension": ".cs",
            "mimetype": "text/plain",
            "name": "C#"
        }
    },
    "nbformat": 4,
    "nbformat_minor": 5,
    "cells": [
        {
            "cell_type": "markdown",
            "source": [
                "# Basics"
            ],
            "metadata": {},
            "execution_count": 0,
            "outputs": []
        },
        {
            "cell_type": "code",
            "source": [
                "#!import \"../Constants/Ifrs17CalculationEngine\"",
                "\n#!import \"../Constants/Enums\""
            ],
            "metadata": {},
            "execution_count": 0,
            "outputs": []
        },
        {
            "cell_type": "code",
            "source": [
                "using Systemorph.Vertex.Grid.Model;",
                "\nusing Systemorph.Vertex.Pivot.Builder.Interfaces;",
                "\nusing Systemorph.Vertex.Hierarchies;"
            ],
            "metadata": {},
            "execution_count": 0,
            "outputs": []
        },
        {
            "cell_type": "markdown",
            "source": [
                "# Dimensions"
            ],
            "metadata": {},
            "execution_count": 0,
            "outputs": []
        },
        {
            "cell_type": "markdown",
            "source": [
                "## AmountType"
            ],
            "metadata": {},
            "execution_count": 0,
            "outputs": []
        },
        {
            "cell_type": "code",
            "source": [
                "public record EarningsAmountType : AmountType {} // TODO resolve the potential conflict in SystemName",
                "\npublic record RatioAmountType : AmountType {}",
                "\npublic record PatternAmountType : AmountType {}",
                "\npublic record AssetAmountType : AmountType {}",
                "\npublic record SolvencyBsAmountType : AmountType {}",
                "\npublic record IfrsBsAmountType : AmountType {}"
            ],
            "metadata": {},
            "execution_count": 0,
            "outputs": []
        },
        {
            "cell_type": "markdown",
            "source": [
                "## Cashflow"
            ],
            "metadata": {},
            "execution_count": 0,
            "outputs": []
        },
        {
            "cell_type": "code",
            "source": [
                "public record Cashflow : IKeyed",
                "\n{",
                "\n    [Key]",
                "\n    [NotVisible]     ",
                "\n    public Guid Id { get; init; }",
                "\n",
                "\n    [IdentityProperty]",
                "\n    [Dimension(typeof(string), nameof(DataNode))]",
                "\n    public string DataNode { get; init; }",
                "\n",
                "\n    [IdentityProperty]",
                "\n    [Dimension(typeof(AmountType))] ",
                "\n    public string AmountType { get; init; }",
                "\n",
                "\n    [NoArithmetics(ArithmeticOperation.Scale)]",
                "\n    [Dimension(typeof(int), nameof(AccidentYear))]",
                "\n    [IdentityProperty]",
                "\n    public int? AccidentYear { get; init; }",
                "\n",
                "\n    [IdentityProperty]",
                "\n    [Dimension(typeof(Shape), nameof(Shape))] // TODO find a better name",
                "\n    public Shape Shape { get; init; }",
                "\n       ",
                "\n    [Dimension(typeof(double), nameof(Values))]",
                "\n    public double[] Values { get; init; }",
                "\n",
                "\n}"
            ],
            "metadata": {},
            "execution_count": 0,
            "outputs": []
        },
        {
            "cell_type": "code",
            "source": [
                "public record SimpleCashflow : Cashflow",
                "\n{",
                "\n    public double InitialValue { get; init; }",
                "\n",
                "\n    public int Length { get; init; }",
                "\n",
                "\n    public int Shift { get; init; }",
                "\n",
                "\n}"
            ],
            "metadata": {},
            "execution_count": 0,
            "outputs": []
        },
        {
            "cell_type": "markdown",
            "source": [
                "### Basic"
            ],
            "metadata": {},
            "execution_count": 0,
            "outputs": []
        },
        {
            "cell_type": "code",
            "source": [
                "public record BasicCashflow : SimpleCashflow {}"
            ],
            "metadata": {},
            "execution_count": 0,
            "outputs": []
        },
        {
            "cell_type": "markdown",
            "source": [
                "#### Bounded"
            ],
            "metadata": {},
            "execution_count": 0,
            "outputs": []
        },
        {
            "cell_type": "code",
            "source": [
                "public record BoundedCashflow : SimpleCashflow",
                "\n{",
                "\n    public double Minimum { get; init; }",
                "\n",
                "\n    public double Maximum { get; init; }",
                "\n}"
            ],
            "metadata": {},
            "execution_count": 0,
            "outputs": []
        },
        {
            "cell_type": "markdown",
            "source": [
                "#### Referenced"
            ],
            "metadata": {},
            "execution_count": 0,
            "outputs": []
        },
        {
            "cell_type": "code",
            "source": [
                "public record ReferencedCashflow : SimpleCashflow",
                "\n{",
                "\n    [IdentityProperty]",
                "\n    [Dimension(typeof(AmountType))] ",
                "\n    public string ReferenceAmountType { get; init; }",
                "\n}"
            ],
            "metadata": {},
            "execution_count": 0,
            "outputs": []
        },
        {
            "cell_type": "code",
            "source": [
                "public record FpaVariable : RawVariable",
                "\n{",
                "\n    //AocType => the minimum set for ifrs17 would be CL,C. (Projection of NB is included in CL,C)",
                "\n    [Dimension(typeof(string))] ",
                "\n    public string Layer { get; init; }",
                "\n}"
            ],
            "metadata": {},
            "execution_count": 0,
            "outputs": []
        },
        {
            "cell_type": "code",
            "source": [
                "public record FpaReportVariable",
                "\n{",
                "\n    [NotVisible] /*[Dimension(typeof(GroupOfContract))]*/",
                "\n    public string DataNode { get; init; }",
                "\n    ",
                "\n    [NotVisible] [AggregateBy] /* [Dimension(typeof(AocType))]*/",
                "\n    public string AocType { get; init; }",
                "\n    ",
                "\n    [NotVisible] /*[Dimension(typeof(Novelty))]*/",
                "\n    public string Novelty { get; init; }",
                "\n        ",
                "\n    [NotVisible] [Dimension(typeof(AmountType))]",
                "\n    public string AmountType { get; init; }",
                "\n    ",
                "\n    [NotVisible] /*[Dimension(typeof(EstimateType))]*/",
                "\n    public string EstimateType { get; init; }",
                "\n    ",
                "\n    [NotVisible] [Dimension(typeof(string), nameof(Layer))] ",
                "\n    public string Layer { get; init; }",
                "\n",
                "\n    [NotVisible] [Dimension(typeof(int), nameof(Projection))]",
                "\n    public int Projection { get; init; }",
                "\n",
                "\n    public double Value { get; init; }",
                "\n}"
            ],
            "metadata": {},
            "execution_count": 0,
            "outputs": []
        }
    ]
}