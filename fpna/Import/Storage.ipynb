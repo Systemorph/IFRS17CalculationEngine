{
    "metadata": {
        "authors": [],
        "id": "EC4buVCSHkO-a0E91CUJ1A",
        "kernelspec": {
            "display_name": "Formula Framework",
            "language": "C#",
            "name": "C#"
        },
        "language_info": {
            "file_extension": ".cs",
            "mimetype": "text/plain",
            "name": "C#"
        }
    },
    "nbformat": 4,
    "nbformat_minor": 5,
    "cells": [
        {
            "cell_type": "code",
            "source": [
                "#!import \"../DataModel/DataStructure\"",
                "\n#!import \"../Utils/Queries\""
            ],
            "metadata": {},
            "execution_count": 0,
            "outputs": []
        },
        {
            "cell_type": "markdown",
            "source": [
                "# Cashflower"
            ],
            "metadata": {},
            "execution_count": 0,
            "outputs": []
        },
        {
            "cell_type": "markdown",
            "source": [
                "## Identity ",
                "\nIdentity is used in the calculation (performed by Scopes) during import. "
            ],
            "metadata": {},
            "execution_count": 0,
            "outputs": []
        },
        {
            "cell_type": "code",
            "source": [
                "public record CashflowIdentity{",
                "\n    public string DataNode {get; set;}",
                "\n    public string AmountType {get; set;}",
                "\n    public int? AccidentYear {get; set;}",
                "\n    public Type Type {get; set;}",
                "\n}"
            ],
            "metadata": {},
            "execution_count": 0,
            "outputs": []
        },
        {
            "cell_type": "markdown",
            "source": [
                "# Storage",
                "\n",
                "\nThe Storage, preload and prepare the data that are required during the calculation. The Storage is consumed by the Scopes. "
            ],
            "metadata": {},
            "execution_count": 0,
            "outputs": []
        },
        {
            "cell_type": "markdown",
            "source": [
                "# Interface"
            ],
            "metadata": {},
            "execution_count": 0,
            "outputs": []
        },
        {
            "cell_type": "code",
            "source": [
                "public interface ICashflowStorage",
                "\n{   ",
                "\n    protected IDataSource querySource {get;} ",
                "\n    protected IWorkspace workspace {get;}",
                "\n    protected Systemorph.Vertex.Hierarchies.IHierarchicalDimensionCache hierarchyCache {get;}",
                "\n    protected ImportArgs args {get;}",
                "\n",
                "\n    public string pillar {get; set; }",
                "\n    public Cashflow[] CashflowsByIdentity { get; set; } //rename to CashflowDefinitions",
                "\n    public CashflowIdentity[] Identities {get; set;} //Should not come from the storage but be computed in a scope to add those that are not input explicitly",
                "\n    public Dictionary<string, IEnumerable<string>> AmountTypesByPillar {get; set;}",
                "\n    ",
                "\n    //From ImportStorage",
                "\n    //Time Periods",
                "\n    public (int Year, int Month) CurrentReportingPeriod => (args.Year, args.Month);",
                "\n    public (int Year, int Month) PreviousReportingPeriod => (args.Year - 1, MonthInAYear); // YTD Logic",
                "\n    //Partitions",
                "\n    public Guid PartitionByRn {get; set; }",
                "\n    public Guid TargetPartition {get; set; }",
                "\n    public Guid DefaultPartition {get; set; }",
                "\n",
                "\n    // Initialize",
                "\n    public async Task BaseInitializeAsync()",
                "\n    {",
                "\n        // Hierarchical Dimensions",
                "\n        await hierarchyCache.InitializeAsync<LineOfBusiness>();",
                "\n        await hierarchyCache.InitializeAsync<AmountType>();",
                "\n        await hierarchyCache.InitializeAsync<RiskDriver>(); //Should RiskDriver be an AmountType",
                "\n        await hierarchyCache.InitializeAsync<VariableType>();",
                "\n        await hierarchyCache.InitializeAsync<ReportingNode>();",
                "\n",
                "\n        //Query Dimensions",
                "\n        AmountTypesByPillar = new Dictionary<string, IEnumerable<string>>(){",
                "\n            {\"Solvency\", await querySource.Query<RiskDriver>().Select(x => x.SystemName).ToArrayAsync()},",
                "\n        };",
                "\n",
                "\n        //Get Partitions",
                "\n        PartitionByRn = (await querySource.Query<PartitionByReportingNode>().Where(p => p.ReportingNode == args.ReportingNode).ToArrayAsync()).Single().Id;",
                "\n        TargetPartition = (await querySource.Query<PartitionByReportingNodeAndPeriod>().Where(p => p.ReportingNode == args.ReportingNode &&",
                "\n                                                                                                   p.Year == CurrentReportingPeriod.Year &&",
                "\n                                                                                                   p.Month == CurrentReportingPeriod.Month &&",
                "\n                                                                                                   p.Scenario == args.Scenario).ToArrayAsync()).Single().Id;",
                "\n        DefaultPartition = (await querySource.Query<PartitionByReportingNodeAndPeriod>().Where(p => p.ReportingNode == args.ReportingNode &&",
                "\n                                                                                                    p.Year == CurrentReportingPeriod.Year &&",
                "\n                                                                                                    p.Month == CurrentReportingPeriod.Month &&",
                "\n                                                                                                    p.Scenario == null).ToArrayAsync()).Single().Id;",
                "\n        //Cashflow Definition",
                "\n       CashflowsByIdentity = await workspace.QueryCashflowAsync<Cashflow,PartitionByReportingNodeAndPeriod>(querySource, TargetPartition, DefaultPartition, args, pillar);",
                "\n        ",
                "\n        // Identities",
                "\n        Identities = CashflowsByIdentity.Select(x => new CashflowIdentity() ",
                "\n            { ",
                "\n                DataNode = x.DataNode,",
                "\n                AmountType = x.AmountType,",
                "\n                AccidentYear = x.AccidentYear,",
                "\n                Type = x.GetType(),",
                "\n            }",
                "\n        ).Distinct().ToArray();",
                "\n    }",
                "\n",
                "\n    protected static async Task DefaultInitializationAsync(ICashflowStorage iCashflowStorage) => await iCashflowStorage.BaseInitializeAsync();",
                "\n   ",
                "\n    // Getters",
                "\n    public IEnumerable<Cashflow> GetCashflow<T>(CashflowIdentity identity) where T : Cashflow =>",
                "\n        CashflowsByIdentity.Where(x => x.GetType() == typeof(T) && x.DataNode == identity.DataNode && x.AmountType == identity.AmountType && x.AccidentYear == identity.AccidentYear);",
                "\n",
                "\n    public string GetPillar() => \"Pillar not set\";",
                "\n",
                "\n    public bool IsExternalReference(string amountType) => false;",
                "\n",
                "\n    public double[] GetValues(string amountType) => Enumerable.Empty<double>().ToArray();",
                "\n}"
            ],
            "metadata": {},
            "execution_count": 0,
            "outputs": []
        },
        {
            "cell_type": "code",
            "source": [
                "public class CashflowStorage : ICashflowStorage",
                "\n{",
                "\n    public IDataSource querySource {get;} ",
                "\n    public IWorkspace workspace {get;}",
                "\n    public Systemorph.Vertex.Hierarchies.IHierarchicalDimensionCache hierarchyCache {get;}",
                "\n    public ImportArgs args {get;}",
                "\n",
                "\n    public string pillar {get; set; }",
                "\n    public Cashflow[] CashflowsByIdentity { get; set; }",
                "\n    public CashflowIdentity[] Identities {get; set;}",
                "\n    public Dictionary<string, IEnumerable<string>> AmountTypesByPillar {get; set;}",
                "\n    ",
                "\n    //Partitions",
                "\n    public Guid PartitionByRn {get; set; }",
                "\n    public Guid TargetPartition {get; set; }",
                "\n    public Guid DefaultPartition {get; set; }",
                "\n",
                "\n    // Constructor",
                "\n    public CashflowStorage(ImportArgs args, IDataSource querySource, IWorkspace workspace)",
                "\n    {",
                "\n        this.querySource = querySource;",
                "\n        this.workspace = workspace;",
                "\n        hierarchyCache = workspace.ToHierarchicalDimensionCache();",
                "\n        this.args = args;",
                "\n    }",
                "\n",
                "\n    public async Task InitializeAsync() { //Can't be called like the method in Interface ",
                "\n        await ICashflowStorage.DefaultInitializationAsync(this);",
                "\n    }",
                "\n}"
            ],
            "metadata": {},
            "execution_count": 0,
            "outputs": []
        },
        {
            "cell_type": "code",
            "source": [
                "public class SolvencyStorage : ICashflowStorage",
                "\n{",
                "\n    public IDataSource querySource {get;} ",
                "\n    public IWorkspace workspace {get;}",
                "\n    public Systemorph.Vertex.Hierarchies.IHierarchicalDimensionCache hierarchyCache {get;}",
                "\n    public ImportArgs args {get;}",
                "\n",
                "\n    public string pillar {get; set; }",
                "\n    public Cashflow[] CashflowsByIdentity { get; set; }",
                "\n    public CashflowIdentity[] Identities {get; set;}",
                "\n    public Dictionary<string, IEnumerable<string>> AmountTypesByPillar {get; set;}",
                "\n    ",
                "\n    //From ImportStorage",
                "\n    //Partitions",
                "\n    public Guid PartitionByRn {get; set; }",
                "\n    public Guid TargetPartition {get; set; }",
                "\n    public Guid DefaultPartition {get; set; }",
                "\n    ",
                "\n    // Constructor",
                "\n    public SolvencyStorage(ImportArgs args, IDataSource querySource, IWorkspace workspace)",
                "\n    {",
                "\n        this.querySource = querySource;",
                "\n        this.workspace = workspace;",
                "\n        hierarchyCache = workspace.ToHierarchicalDimensionCache();",
                "\n        this.args = args;",
                "\n    }",
                "\n",
                "\n    public async Task InitializeAsync() { // Can't be called like the method in Interface",
                "\n        pillar = \"Solvency\";",
                "\n        await ICashflowStorage.DefaultInitializationAsync(this);",
                "\n    }",
                "\n",
                "\n    //Getters",
                "\n    public string GetPillar() => pillar;",
                "\n",
                "\n    public bool IsExternalReference(string amountType) => !AmountTypesByPillar[pillar].Contains(amountType);",
                "\n}"
            ],
            "metadata": {},
            "execution_count": 0,
            "outputs": []
        },
        {
            "cell_type": "code",
            "source": [
                ""
            ],
            "metadata": {},
            "execution_count": 0,
            "outputs": []
        }
    ]
}