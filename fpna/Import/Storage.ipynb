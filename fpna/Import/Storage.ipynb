{
    "metadata": {
        "authors": [],
        "id": "EC4buVCSHkO-a0E91CUJ1A",
        "kernelspec": {
            "display_name": "Formula Framework",
            "language": "C#",
            "name": "C#"
        },
        "language_info": {
            "file_extension": ".cs",
            "mimetype": "text/plain",
            "name": "C#"
        }
    },
    "nbformat": 4,
    "nbformat_minor": 5,
    "cells": [
        {
            "cell_type": "code",
            "source": [
                "#!import \"../DataModel/DataStructure\""
            ],
            "metadata": {},
            "execution_count": 0,
            "outputs": []
        },
        {
            "cell_type": "code",
            "source": [
                "public record CashflowIdentity{",
                "\n    public string DataNode {get; set;}",
                "\n    public string AmountType {get; set;}",
                "\n    public int? AccidentYear {get; set;}",
                "\n}"
            ],
            "metadata": {},
            "execution_count": 0,
            "outputs": []
        },
        {
            "cell_type": "markdown",
            "source": [
                "# Storage"
            ],
            "metadata": {},
            "execution_count": 0,
            "outputs": []
        },
        {
            "cell_type": "code",
            "source": [
                "public class CashflowStorage",
                "\n{   ",
                "\n    private readonly IDataSource querySource; ",
                "\n    private readonly IWorkspace workspace;",
                "\n    private readonly Systemorph.Vertex.Hierarchies.IHierarchicalDimensionCache hierarchyCache;",
                "\n    private readonly ImportArgs args;",
                "\n",
                "\n    //Dimensions",
                "\n    public HashSet<string> EarningsAmountTypes  { get; private set; }",
                "\n    public HashSet<string> SolvencyBsAmountTypes  { get; private set; }",
                "\n    public HashSet<string> IfrsBsAmountTypes  { get; private set; }",
                "\n",
                "\n    public CashflowDefinition[] CashflowDefinitionsByIdentity { get; private set; }",
                "\n    public BasicCashflowDefinition[] BasicCashflowDefinitionsByIdentity { get; private set; }",
                "\n    public BoundedCashflowDefinition[] BoundedCashflowDefinitionsByIdentity { get; private set; }",
                "\n    public ReferencedCashflowDefinition[] ReferencedCashflowDefinitionsByIdentity { get; private set; }",
                "\n",
                "\n       ",
                "\n    public CashflowIdentity[] Identities {get; set;}",
                "\n",
                "\n    // Constructor",
                "\n    public CashflowStorage(ImportArgs args, IDataSource querySource, IWorkspace workspace)",
                "\n    {",
                "\n        this.querySource = querySource;",
                "\n        this.workspace = workspace;",
                "\n        hierarchyCache = workspace.ToHierarchicalDimensionCache();",
                "\n        this.args = args;",
                "\n    }",
                "\n    ",
                "\n    // Initialize",
                "\n    public async Task InitializeAsync()",
                "\n    {   ",
                "\n        // Dimensions",
                "\n        EarningsAmountTypes = (await workspace.Query<EarningsAmountType>().ToArrayAsync()).Select(x => x.SystemName).ToHashSet();",
                "\n        SolvencyBsAmountTypes = (await workspace.Query<SolvencyBsAmountType>().ToArrayAsync()).Select(x => x.SystemName).ToHashSet();",
                "\n        IfrsBsAmountTypes = (await workspace.Query<IfrsBsAmountType>().ToArrayAsync()).Select(x => x.SystemName).ToHashSet();",
                "\n        ",
                "\n        // Identities",
                "\n        CashflowDefinitionsByIdentity = await workspace.Query<CashflowDefinition>().ToArrayAsync();",
                "\n        BasicCashflowDefinitionsByIdentity = await workspace.Query<BasicCashflowDefinition>().ToArrayAsync();",
                "\n        BoundedCashflowDefinitionsByIdentity = await workspace.Query<BoundedCashflowDefinition>().ToArrayAsync();",
                "\n        ReferencedCashflowDefinitionsByIdentity = await workspace.Query<ReferencedCashflowDefinition>().ToArrayAsync();",
                "\n",
                "\n        Identities = CashflowDefinitionsByIdentity.Select(x => new CashflowIdentity() ",
                "\n            { ",
                "\n                DataNode = x.DataNode,",
                "\n                AmountType = x.AmountType,",
                "\n                AccidentYear = x.AccidentYear",
                "\n            }",
                "\n        ).Distinct().ToArray();",
                "\n",
                "\n    }",
                "\n",
                "\n   ",
                "\n   // Getters",
                "\n    public IEnumerable<BasicCashflowDefinition> GetBasicCashflowDefinitions(CashflowIdentity identity) => ",
                "\n        BasicCashflowDefinitionsByIdentity.Where(x => x.DataNode == identity.DataNode && x.AmountType == identity.AmountType && x.AccidentYear == identity.AccidentYear);",
                "\n",
                "\n",
                "\n    public IEnumerable<BoundedCashflowDefinition> GetBoundedCashflowDefinitions(CashflowIdentity identity) => ",
                "\n        BoundedCashflowDefinitionsByIdentity.Where(x => x.DataNode == identity.DataNode && x.AmountType == identity.AmountType && x.AccidentYear == identity.AccidentYear);",
                "\n    ",
                "\n    public IEnumerable<ReferencedCashflowDefinition> GetReferencedCashflowDefinition(CashflowIdentity identity) => ",
                "\n        ReferencedCashflowDefinitionsByIdentity.Where(x => x.DataNode == identity.DataNode && x.AmountType == identity.AmountType && x.AccidentYear == identity.AccidentYear);",
                "\n",
                "\n}"
            ],
            "metadata": {},
            "execution_count": 0,
            "outputs": []
        }
    ]
}