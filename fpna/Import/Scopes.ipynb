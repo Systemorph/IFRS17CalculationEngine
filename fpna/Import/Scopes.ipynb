{
    "metadata": {
        "authors": [],
        "id": "Zjpv15lfHE-pIOV4Y6Bt4A",
        "kernelspec": {
            "display_name": "Formula Framework",
            "language": "C#",
            "name": "C#"
        },
        "language_info": {
            "file_extension": ".cs",
            "mimetype": "text/plain",
            "name": "C#"
        }
    },
    "nbformat": 4,
    "nbformat_minor": 5,
    "cells": [
        {
            "cell_type": "code",
            "source": [
                "#!import \"Storage\""
            ],
            "metadata": {},
            "execution_count": 0,
            "outputs": []
        },
        {
            "cell_type": "code",
            "source": [
                "#!import \"../Utils/ExtentionMethods\""
            ],
            "metadata": {},
            "execution_count": 0,
            "outputs": []
        },
        {
            "cell_type": "markdown",
            "source": [
                "# Basic Cashflow"
            ],
            "metadata": {},
            "execution_count": 0,
            "outputs": []
        },
        {
            "cell_type": "code",
            "source": [
                "public interface ComputeBasicCashflow : IScope<BasicCashflow>",
                "\n{",
                "\n    static ApplicabilityBuilder ScopeApplicabilityBuilder(ApplicabilityBuilder builder) =>",
                "\n     builder.ForScope<ComputeBasicCashflow>(s => s",
                "\n         .WithApplicability<LinearShape>(x => x.Identity.Shape == Shape.Linear)",
                "\n         .WithApplicability<CompoundShape>(x => x.Identity.Shape == Shape.Compound)",
                "\n    );",
                "\n    //Constant is the default Case",
                "\n    double[] Values => Enumerable.Repeat(Identity.InitialValue, Identity.Length).ToArray();",
                "\n}",
                "\n",
                "\npublic interface LinearShape : ComputeBasicCashflow {",
                "\n    double[] ComputeBasicCashflow.Values => Identity.InitialValue.GetLinearValues(Identity.Shift, Identity.Length, Identity.Values);",
                "\n}",
                "\n",
                "\npublic interface CompoundShape : ComputeBasicCashflow {",
                "\n    double[] ComputeBasicCashflow.Values => Identity.InitialValue.GetCompoundValues(Identity.Shift, Identity.Length, Identity.Values);",
                "\n}"
            ],
            "metadata": {},
            "execution_count": 0,
            "outputs": []
        },
        {
            "cell_type": "code",
            "source": [
                "public interface BasicCashflows : IScope<CashflowIdentity, ICashflowStorage>",
                "\n{",
                "\n    public IEnumerable<(string Layer, double[] Values)> LayerValues => GetStorage().GetCashflow<BasicCashflow>(Identity)",
                "\n        .Select((cd,i) => (\"Basic-\" + cd.Shape + i.ToString(), GetScope<ComputeBasicCashflow>(cd).Values));",
                "\n}"
            ],
            "metadata": {},
            "execution_count": 0,
            "outputs": []
        },
        {
            "cell_type": "markdown",
            "source": [
                "# Bounded Cashflow"
            ],
            "metadata": {},
            "execution_count": 0,
            "outputs": []
        },
        {
            "cell_type": "code",
            "source": [
                "public interface ComputeBoundedCashflows : IScope<BoundedCashflow>",
                "\n{",
                "\n    static ApplicabilityBuilder ScopeApplicabilityBuilder(ApplicabilityBuilder builder) =>",
                "\n     builder.ForScope<ComputeBoundedCashflows>(s => s",
                "\n         .WithApplicability<RandomShape>(x => x.Identity.Shape == Shape.Random)",
                "\n    );",
                "\n    //null is the default Case",
                "\n    double[] Values => default;",
                "\n}",
                "\n",
                "\npublic interface RandomShape: ComputeBoundedCashflows{",
                "\n    double[] ComputeBoundedCashflows.Values => GetBoundedRandomCashflow(Identity.Shift, Identity.Length, Identity.Maximum, Identity.Minimum);",
                "\n}"
            ],
            "metadata": {},
            "execution_count": 0,
            "outputs": []
        },
        {
            "cell_type": "code",
            "source": [
                "public interface BoundedCashflows : IScope<CashflowIdentity, ICashflowStorage>",
                "\n{",
                "\n    public IEnumerable<(string Layer, double[] Values)> LayerValues => GetStorage().GetCashflow<BoundedCashflow>(Identity)",
                "\n        .Select((cd,i) => (\"Bounded-\" + cd.Shape + i.ToString(), GetScope<ComputeBoundedCashflows>(cd).Values));     ",
                "\n}"
            ],
            "metadata": {},
            "execution_count": 0,
            "outputs": []
        },
        {
            "cell_type": "markdown",
            "source": [
                "# Reference Cashflow"
            ],
            "metadata": {},
            "execution_count": 0,
            "outputs": []
        },
        {
            "cell_type": "code",
            "source": [
                "public interface ReferencedCashflows : IScope<(CashflowIdentity Id, string OriginalAmountType), ICashflowStorage>{",
                "\n   static ApplicabilityBuilder ScopeApplicabilityBuilder(ApplicabilityBuilder builder) =>",
                "\n        builder.ForScope<ReferencedCashflows>(s => s",
                "\n            .WithApplicability<ParametrisedCashflows>(x => x.Identity.OriginalAmountType == x.Identity.Id.AmountType));",
                "\n        ",
                "\n    public double[] Values => GetScope<ReferenceCashflows>(Identity.Id).LayerValues.Concat(",
                "\n        GetScope<ParametrisedCashflows>(Identity).LayerValues)",
                "\n        .Select(x => x.Values).AggregateDoubleArray();",
                "\n}",
                "\n",
                "\npublic interface ParametrisedCashflows : ReferencedCashflows{",
                "\n    public IEnumerable<(string Layer, double[] Values)> LayerValues => GetScope<BasicCashflows>(Identity.Id).LayerValues.Concat(",
                "\n        GetScope<BoundedCashflows>(Identity.Id).LayerValues);",
                "\n    double[] ReferencedCashflows.Values => LayerValues.Select(x => x.Values).AggregateDoubleArray();",
                "\n}",
                "\n",
                "\n//Use functions where the reference can be provided externally",
                "\npublic interface WeightedReference : IScope<(CashflowIdentity Id, string ReferenceAmountType), ICashflowStorage>{",
                "\n       static ApplicabilityBuilder ScopeApplicabilityBuilder(ApplicabilityBuilder builder) =>",
                "\n        builder.ForScope<WeightedReference>(s => s",
                "\n            .WithApplicability<WeightedSelfReference>(x => x.Identity.ReferenceAmountType == x.Identity.Id.AmountType)",
                "\n            //.WithApplicability<ExternalReference>(x => x.GetStorage().IsExternalReference(x.Identity.ReferenceAmountType) ) //wip",
                "\n            );",
                "\n",
                "\n    protected double[] referencedValues => GetScope<ReferencedCashflows>((Identity.Id with {AmountType = Identity.ReferenceAmountType}, Identity.Id.AmountType)).Values;",
                "\n    // double[] referencedValues => GetStorage().GetPillar() switch { //HERE the class method is used!",
                "\n    //     \"Solvency\" => new []{1d,1d,1d,1d,1d},",
                "\n    //     _ => new []{1000d,1000d,1000d,1000d,1000d},",
                "\n    // };",
                "\n    protected double[] weights => GetStorage().GetCashflow<ReferencedCashflow>(Identity.Id).Single(cd => cd.ReferenceAmountType == Identity.ReferenceAmountType).Values;",
                "\n    ",
                "\n    double[] Values => weights.Zip(referencedValues, (weight, referencedValue) => weight * referencedValue).ToArray();",
                "\n}",
                "\npublic interface ExternalReference : WeightedReference{",
                "\n    double[] WeightedReference.referencedValues => GetStorage().GetValues(Identity.ReferenceAmountType);",
                "\n}",
                "\n",
                "\npublic interface WeightedSelfReference : WeightedReference{",
                "\n    double[] WeightedReference.Values => weights.Zip(referencedValues, (weight, referencedValue) => ( weight - 1d )  * referencedValue).ToArray();",
                "\n}",
                "\n",
                "\npublic interface ReferenceCashflows : IScope<CashflowIdentity, ICashflowStorage>",
                "\n{",
                "\n    public IEnumerable<(string Layer, double[] Values)> LayerValues => GetStorage().GetCashflow<ReferencedCashflow>(Identity)",
                "\n        .Select( (cd,i) => (\"Reference\" + cd.Shape + i.ToString(), ",
                "\n                            GetScope<WeightedReference>((Identity, cd.ReferenceAmountType)).Values));",
                "\n}"
            ],
            "metadata": {},
            "execution_count": 0,
            "outputs": []
        },
        {
            "cell_type": "markdown",
            "source": [
                "# Compute all Cashflows (no pillar storage - debug -)"
            ],
            "metadata": {},
            "execution_count": 0,
            "outputs": []
        },
        {
            "cell_type": "code",
            "source": [
                "public interface Compute : IScope<CashflowIdentity, CashflowStorage>",
                "\n{",
                "\n    public FpaVariable[] FpaVariables => (Identity.Type.Name switch {",
                "\n        nameof(BasicCashflow) => GetScope<BasicCashflows>(Identity).LayerValues,",
                "\n        nameof(BoundedCashflow) => GetScope<BoundedCashflows>(Identity).LayerValues,",
                "\n        nameof(ReferencedCashflow) => GetScope<ReferenceCashflows>(Identity).LayerValues,",
                "\n        _ => Enumerable.Empty<(string Layer, double[] Values)>(),",
                "\n    }).Select(v => new FpaVariable() {",
                "\n            Layer = v.Layer,",
                "\n            Values = v.Values,",
                "\n            DataNode = Identity.DataNode,",
                "\n            AmountType = Identity.AmountType,",
                "\n            AccidentYear = Identity.AccidentYear,",
                "\n            EstimateType = EstimateTypes.BE,       //hardcodedValue",
                "\n            Novelty = Novelties.C,                 //hardcodedValue",
                "\n            AocType = AocTypes.CL                  //hardcodedValue",
                "\n        }).ToArray();",
                "\n}"
            ],
            "metadata": {},
            "execution_count": 0,
            "outputs": []
        },
        {
            "cell_type": "markdown",
            "source": [
                "# Solvency Scopes"
            ],
            "metadata": {},
            "execution_count": 0,
            "outputs": []
        },
        {
            "cell_type": "code",
            "source": [
                "public interface ComputeSolvency : IScope<CashflowIdentity, SolvencyStorage>",
                "\n{",
                "\n    public FpaVariable[] FpaVariables => (Identity.Type.Name switch {",
                "\n        nameof(BasicCashflow) => GetScope<BasicCashflows>(Identity).LayerValues,",
                "\n        nameof(BoundedCashflow) => GetScope<BoundedCashflows>(Identity).LayerValues,",
                "\n        nameof(ReferencedCashflow) => GetScope<ReferenceCashflows>(Identity).LayerValues,",
                "\n        _ => Enumerable.Empty<(string Layer, double[] Values)>(),",
                "\n    }).Select(v => new FpaVariable() {",
                "\n            Layer = v.Layer,",
                "\n            Values = v.Values,",
                "\n            DataNode = Identity.DataNode,",
                "\n            AmountType = Identity.AmountType,",
                "\n            AccidentYear = Identity.AccidentYear,",
                "\n            EstimateType = EstimateTypes.BE,       //hardcodedValue",
                "\n            Novelty = Novelties.C,                 //hardcodedValue",
                "\n            AocType = AocTypes.CL                  //hardcodedValue",
                "\n        }).ToArray();",
                "\n}"
            ],
            "metadata": {},
            "execution_count": 0,
            "outputs": []
        }
    ]
}