{
    "metadata": {
        "authors": [],
        "id": "Zjpv15lfHE-pIOV4Y6Bt4A",
        "kernelspec": {
            "display_name": "Formula Framework",
            "language": "C#",
            "name": "C#"
        },
        "language_info": {
            "file_extension": ".cs",
            "mimetype": "text/plain",
            "name": "C#"
        }
    },
    "nbformat": 4,
    "nbformat_minor": 5,
    "cells": [
        {
            "cell_type": "code",
            "source": [
                "#!import \"Storage\""
            ],
            "metadata": {},
            "execution_count": 0,
            "outputs": []
        },
        {
            "cell_type": "code",
            "source": [
                "#!import \"../Utils/ExtentionMethods\""
            ],
            "metadata": {},
            "execution_count": 0,
            "outputs": []
        },
        {
            "cell_type": "markdown",
            "source": [
                "# Basic Cashflow"
            ],
            "metadata": {},
            "execution_count": 0,
            "outputs": []
        },
        {
            "cell_type": "code",
            "source": [
                "public interface ComputeBasicCashflow : IScope<BasicCashflow>",
                "\n{",
                "\n    static ApplicabilityBuilder ScopeApplicabilityBuilder(ApplicabilityBuilder builder) =>",
                "\n     builder.ForScope<ComputeBasicCashflow>(s => s",
                "\n         .WithApplicability<ConstantShape>(x => x.Identity.Shape == Shape.Constant)",
                "\n         .WithApplicability<LinearShape>(x => x.Identity.Shape == Shape.Linear)",
                "\n         .WithApplicability<CompoundShape>(x => x.Identity.Shape == Shape.Compound)",
                "\n    );",
                "\n    //Custom is the default Case",
                "\n    double[] Values => Identity.Values;",
                "\n}",
                "\n",
                "\npublic interface ConstantShape : ComputeBasicCashflow {",
                "\n    double[] ComputeBasicCashflow.Values => Identity.InitialValue.GetConstantValues(Identity.Shift, Identity.Length);",
                "\n}",
                "\n",
                "\npublic interface LinearShape : ComputeBasicCashflow {",
                "\n    double[] ComputeBasicCashflow.Values => Identity.InitialValue.GetLinearValues(Identity.Shift, Identity.Length, Identity.Values);",
                "\n}",
                "\n",
                "\npublic interface CompoundShape : ComputeBasicCashflow {",
                "\n    double[] ComputeBasicCashflow.Values => Identity.InitialValue.GetCompoundValues(Identity.Shift, Identity.Length, Identity.Values);",
                "\n",
                "\n}"
            ],
            "metadata": {},
            "execution_count": 0,
            "outputs": []
        },
        {
            "cell_type": "code",
            "source": [
                "public interface BasicCashflows : IScope<CashflowIdentity, CashflowStorage>",
                "\n{",
                "\n    public IEnumerable<(string Layer, double[] Values)> LayerValues => GetStorage().GetBasicCashflows(Identity)",
                "\n        .Select((cd,i) => (\"Basic\" + i.ToString(), GetScope<ComputeBasicCashflow>(cd).Values));",
                "\n}"
            ],
            "metadata": {},
            "execution_count": 0,
            "outputs": []
        },
        {
            "cell_type": "markdown",
            "source": [
                "# Bounded Cashflow"
            ],
            "metadata": {},
            "execution_count": 0,
            "outputs": []
        },
        {
            "cell_type": "code",
            "source": [
                "public interface ComputeBoundedCashflows : IScope<BoundedCashflow>",
                "\n{",
                "\n    static ApplicabilityBuilder ScopeApplicabilityBuilder(ApplicabilityBuilder builder) =>",
                "\n     builder.ForScope<ComputeBoundedCashflows>(s => s",
                "\n         .WithApplicability<RandomShape>(x => x.Identity.Shape == Shape.Random)",
                "\n    );",
                "\n    //null is the default Case",
                "\n    double[] Values => default;",
                "\n}",
                "\n",
                "\npublic interface RandomShape: ComputeBoundedCashflows{",
                "\n    double[] ComputeBoundedCashflows.Values => GetBoundedRandomValues(Identity.Shift, Identity.Length, Identity.Maximum, Identity.Minimum);",
                "\n}"
            ],
            "metadata": {},
            "execution_count": 0,
            "outputs": []
        },
        {
            "cell_type": "code",
            "source": [
                "public interface BoundedCashflows : IScope<CashflowIdentity, CashflowStorage>",
                "\n{",
                "\n    public IEnumerable<(string Layer, double[] Values)> LayerValues => GetStorage().GetBoundedCashflows(Identity)",
                "\n        .Select((cd,i) => (\"Bounded\" + i.ToString(), GetScope<ComputeBoundedCashflows>(cd).Values));     ",
                "\n}"
            ],
            "metadata": {},
            "execution_count": 0,
            "outputs": []
        },
        {
            "cell_type": "markdown",
            "source": [
                "# Reference Cashflow"
            ],
            "metadata": {},
            "execution_count": 0,
            "outputs": []
        },
        {
            "cell_type": "code",
            "source": [
                "public interface ReferencedCashflows : IScope<(CashflowIdentity Id, string OriginalAmountType), CashflowStorage>{",
                "\n   static ApplicabilityBuilder ScopeApplicabilityBuilder(ApplicabilityBuilder builder) =>",
                "\n        builder.ForScope<ReferencedCashflows>(s => s",
                "\n            .WithApplicability<ParametrisedCashflows>(x => x.Identity.OriginalAmountType == x.Identity.Id.AmountType));",
                "\n        ",
                "\n    public double[] Values => GetScope<ReferenceCashflows>(Identity.Id).LayerValues.Concat(",
                "\n        GetScope<ParametrisedCashflows>(Identity).LayerValues)",
                "\n        .Select(x => x.Values).AggregateDoubleArray();",
                "\n}",
                "\n",
                "\npublic interface ParametrisedCashflows : ReferencedCashflows{",
                "\n    public IEnumerable<(string Layer, double[] Values)> LayerValues => GetScope<BasicCashflows>(Identity.Id).LayerValues.Concat(",
                "\n        GetScope<BoundedCashflows>(Identity.Id).LayerValues);",
                "\n    double[] ReferencedCashflows.Values => LayerValues.Select(x => x.Values).AggregateDoubleArray();",
                "\n}",
                "\n",
                "\npublic interface WeightedReference : IScope<(CashflowIdentity Id, string ReferenceAmountType), CashflowStorage>{",
                "\n       static ApplicabilityBuilder ScopeApplicabilityBuilder(ApplicabilityBuilder builder) =>",
                "\n        builder.ForScope<WeightedReference>(s => s",
                "\n            .WithApplicability<WeightedReferenceSameAt>(x => x.Identity.ReferenceAmountType == x.Identity.Id.AmountType));",
                "\n",
                "\n    //private",
                "\n    double[] referencedValues => GetScope<ReferencedCashflows>((Identity.Id with {AmountType = Identity.ReferenceAmountType}, Identity.Id.AmountType)).Values;",
                "\n    double[] weights => GetStorage().GetReferencedCashflow(Identity.Id).Single(cd => cd.ReferenceAmountType == Identity.ReferenceAmountType).Values;",
                "\n    ",
                "\n    double[] Values => weights.Zip(referencedValues, (weight, referencedValue) => weight * referencedValue).ToArray();",
                "\n}",
                "\n",
                "\npublic interface WeightedReferenceSameAt : WeightedReference{",
                "\n    double[] WeightedReference.Values => weights.Zip(referencedValues, (weight, referencedValue) => ( weight - 1d )  * referencedValue).ToArray();",
                "\n}",
                "\n",
                "\npublic interface ReferenceCashflows : IScope<CashflowIdentity, CashflowStorage>",
                "\n{",
                "\n    public IEnumerable<(string Layer, double[] Values)> LayerValues => GetStorage().GetReferencedCashflow(Identity)",
                "\n        .Select((cd,i) => (\"Reference\" + i.ToString(), GetScope<WeightedReference>((Identity, cd.ReferenceAmountType)).Values));",
                "\n}"
            ],
            "metadata": {},
            "execution_count": 0,
            "outputs": []
        },
        {
            "cell_type": "markdown",
            "source": [
                "# Compute all Cashflows"
            ],
            "metadata": {},
            "execution_count": 0,
            "outputs": []
        },
        {
            "cell_type": "code",
            "source": [
                "public interface Compute : IScope<CashflowIdentity, CashflowStorage>{",
                "\n    public FpaVariable[] FpaVariables => GetScope<BasicCashflows>(Identity).LayerValues.Concat(",
                "\n        GetScope<BoundedCashflows>(Identity).LayerValues).Concat(",
                "\n        GetScope<ReferenceCashflows>(Identity).LayerValues).Select(v => ",
                "\n        new FpaVariable() {",
                "\n            Layer = v.Layer,",
                "\n            Values = v.Values,",
                "\n            DataNode = Identity.DataNode,",
                "\n            AmountType = Identity.AmountType,",
                "\n            AccidentYear = Identity.AccidentYear,",
                "\n            EstimateType = EstimateTypes.BE,",
                "\n            Novelty = Novelties.C,",
                "\n            AocType = AocTypes.CL",
                "\n        }).ToArray();",
                "\n}"
            ],
            "metadata": {},
            "execution_count": 0,
            "outputs": []
        },
        {
            "cell_type": "code",
            "source": [
                ""
            ],
            "metadata": {},
            "execution_count": 0,
            "outputs": []
        }
    ]
}