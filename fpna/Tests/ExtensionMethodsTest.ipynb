{
    "metadata": {
        "authors": [],
        "id": "0Sv-iuexO02G_9VRlhVTLw",
        "kernelspec": {
            "display_name": "Formula Framework",
            "language": "C#",
            "name": "C#"
        },
        "language_info": {
            "file_extension": ".cs",
            "mimetype": "text/plain",
            "name": "C#"
        }
    },
    "nbformat": 4,
    "nbformat_minor": 5,
    "cells": [
        {
            "cell_type": "markdown",
            "source": [
                "<p style=\"font-weight:bold;\"> <span style=\"font-size: 36px\"> Extension Methods Test </span> </p>"
            ],
            "metadata": {},
            "execution_count": 0,
            "outputs": []
        },
        {
            "cell_type": "code",
            "source": [
                "#!import \"../CalculationEngine\""
            ],
            "metadata": {},
            "execution_count": 0,
            "outputs": []
        },
        {
            "cell_type": "markdown",
            "source": [
                "## Constant"
            ],
            "metadata": {},
            "execution_count": 0,
            "outputs": []
        },
        {
            "cell_type": "code",
            "source": [
                "GetConstantValues(10, 0, 5).SequenceEqual(new double[] { 10, 10, 10, 10, 10 }, Precision).Should().BeTrue();",
                "\nGetConstantValues(10, 1, 4).SequenceEqual(new double[] { 0, 10, 10, 10, 10 }, Precision).Should().BeTrue();",
                "\nGetConstantValues(10, 0, 0).SequenceEqual(new double[] {}, Precision).Should().BeTrue();"
            ],
            "metadata": {},
            "execution_count": 0,
            "outputs": []
        },
        {
            "cell_type": "markdown",
            "source": [
                "## Linear"
            ],
            "metadata": {},
            "execution_count": 0,
            "outputs": []
        },
        {
            "cell_type": "code",
            "source": [
                "GetLinearValues(10, 0, 5, new double[] {2,-1,0.5,0.2}).SequenceEqual(new double[] { 12, 11, 11.5, 11.7, 11.7}, Precision).Should().BeTrue();",
                "\nGetLinearValues(10, 0, 4, new double[] {2,-1,0.5,0.2}).SequenceEqual(new double[] { 12, 11, 11.5, 11.7 }, Precision).Should().BeTrue();",
                "\nGetLinearValues(10, 0, 5, new double[] {2,-1,0.5,0.2, 3}).SequenceEqual(new double[] { 12, 11, 11.5, 11.7, 14.7 }, Precision).Should().BeTrue();"
            ],
            "metadata": {},
            "execution_count": 0,
            "outputs": []
        },
        {
            "cell_type": "code",
            "source": [
                "GetLinearValues(10, 1, 4, new double[] {2,-1,0.5,0.2}).SequenceEqual(new double[] { 0, 12, 11, 11.5, 11.7}, Precision).Should().BeTrue();",
                "\nGetLinearValues(10, 4, 1, new double[] {2,-1,0.5,0.2}).SequenceEqual(new double[] { 0, 0, 0, 0, 12 }, Precision).Should().BeTrue();"
            ],
            "metadata": {},
            "execution_count": 0,
            "outputs": []
        },
        {
            "cell_type": "markdown",
            "source": [
                "## Compound"
            ],
            "metadata": {},
            "execution_count": 0,
            "outputs": []
        },
        {
            "cell_type": "code",
            "source": [
                "GetCompoundValues(10, 0, 5, new double[] {0,0.1,0.2,0.3,0.4}).SequenceEqual(new double[] { 10, 11, 13.2, 17.16, 24.024}, Precision).Should().BeTrue();",
                "\nGetCompoundValues(10, 1, 4, new double[] {0,0.1,0.2,0.3,0.4}).SequenceEqual(new double[] { 0, 10, 11, 13.2, 17.16}, Precision).Should().BeTrue();"
            ],
            "metadata": {},
            "execution_count": 0,
            "outputs": []
        },
        {
            "cell_type": "markdown",
            "source": [
                "## Bounded"
            ],
            "metadata": {},
            "execution_count": 0,
            "outputs": []
        },
        {
            "cell_type": "code",
            "source": [
                "GetBoundedRandomValues(1, 4, 100, 101).First().Should().BeApproximately(0d, Precision);",
                "\nGetBoundedRandomValues(1, 4, 100, 101).Skip(1).All(x => x > 100d && x < 101d ).Should().BeTrue();"
            ],
            "metadata": {},
            "execution_count": 0,
            "outputs": []
        },
        {
            "cell_type": "markdown",
            "source": [
                "# Get Correlation Effect"
            ],
            "metadata": {},
            "execution_count": 0,
            "outputs": []
        },
        {
            "cell_type": "markdown",
            "source": [
                "Calculate correlation between 2 arrays using correlation factor array."
            ],
            "metadata": {},
            "execution_count": 0,
            "outputs": []
        },
        {
            "cell_type": "code",
            "source": [
                "var corr = new double[3,4] {{1, 0.5, 0.75, 1}, {0.5, 1, 0.6, 1}, {0.75, 0.6, 1, 1}}; ",
                "\n",
                "\nGetCorrelatdValue(new double[] {1, 2, 3}, new double[] {4, 5, 6}, corr).Should().BeApproximately(8.25833, Precision);",
                "\nGetCorrelatdValue(new double[] {1, 2}, new double[] {4, 5}, corr).Should().BeApproximately(4.52769, Precision);"
            ],
            "metadata": {},
            "execution_count": 0,
            "outputs": []
        },
        {
            "cell_type": "code",
            "source": [
                ""
            ],
            "metadata": {},
            "execution_count": 0,
            "outputs": []
        }
    ]
}