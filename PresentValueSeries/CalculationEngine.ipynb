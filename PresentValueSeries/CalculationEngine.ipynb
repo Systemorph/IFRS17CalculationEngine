{
    "metadata": {
        "authors": [],
        "kernelspec": {
            "display_name": "Formula Framework",
            "language": "C#",
            "name": "C#"
        },
        "language_info": {
            "file_extension": ".cs",
            "mimetype": "text/plain",
            "name": "C#"
        },
        "toc-autonumbering": "True",
        "toc-showcode": "False",
        "toc-showmarkdowntxt": "False",
        "toc-showtags": "False"
    },
    "nbformat": 4,
    "nbformat_minor": 5,
    "cells": [
        {
            "cell_type": "markdown",
            "source": [
                "<p style=\"font-weight:bold;\"> <span style=\"font-size: 36px\"> IFRS17 Calculation Engine </span> </p>"
            ]
        },
        {
            "cell_type": "code",
            "source": [
                "#!import \"//ifrs17/dev/CalculationEngine\""
            ]
        },
        {
            "cell_type": "code",
            "source": [
                "#r \"nuget:Systemorph.Charting,1.5.5\""
            ]
        },
        {
            "cell_type": "markdown",
            "source": [
                "# TMP report configurations"
            ]
        },
        {
            "cell_type": "code",
            "source": [
                "// TODO: this must be improved and included in the api",
                "\nconst string ArrayFormatter = \"value.map(v => new Intl.NumberFormat([], { maximumFractionDigits: 8 }).format(v)).join(' , ')\";"
            ]
        },
        {
            "cell_type": "code",
            "source": [
                "// TODO: the default must include this ",
                "\npublic static ReportBuilder<YieldCurve,YieldCurve,YieldCurve> WithGridOptionsForYieldCurves (this ReportBuilder<YieldCurve,YieldCurve,YieldCurve> reportBuilder, int reportHeight = 200)",
                "\n{",
                "\n    return reportBuilder.WithGridOptions(o => o.WithColumns(c => c.Modify(\"Values\", x => x with { ValueFormatter = ArrayFormatter, CellStyle = new { TextAlign = \"left\" } } ))",
                "\n                                         with { Height = reportHeight, TreeData = false } );  // AutoGroupColumnDef = null (what is this?)",
                "\n}"
            ]
        },
        {
            "cell_type": "code",
            "source": [
                "using System.Collections.Immutable;",
                "\n// TODO: The type or namespace name 'ToImmutableList' does not exist in the namespace 'System.Collections.Immutable",
                "\n//System.Collections.Immutable.ToImmutableList(r.RowGroup.Coordinates.Where(c => c != \"NullGroup\")) ",
                "\n",
                "\n// TODO: discuss default here too, especially the trick to remove empty row",
                "\npublic static ReportBuilder<RawVariable,RawVariable,RawVariable> WithGridOptionsForCashflows (this ReportBuilder<RawVariable,RawVariable,RawVariable> reportBuilder, int reportHeight = 450)",
                "\n{",
                "\n    return reportBuilder.GroupColumnsBy(x => x.DataNode)",
                "\n                        //.GroupColumnsBy(x => x.CalculationType)",
                "\n                        .GroupRowsBy(x => x.AmountType)",
                "\n                        .GroupRowsBy(x => x.AocType)",
                "\n                        .WithGridOptions(o => o.WithRows(r => r.Where(r => !(r.RowGroup.Coordinates.Last() == \"NullGroup\"))",
                "\n                                                               .Select(r => r with { RowGroup = r.RowGroup with { Coordinates = r.RowGroup.Coordinates.Where(c => c != \"NullGroup\").ToImmutableList() } }).ToList())",
                "\n                                               .WithColumns(c => c.Modify(\"Values\", x => x with { ValueFormatter = ArrayFormatter, CellStyle = new { TextAlign = \"left\" } } ))",
                "\n                                         with { Height = reportHeight, GroupDefaultExpanded = 2 } );",
                "\n}"
            ]
        },
        {
            "cell_type": "code",
            "source": [
                "public static DataCubeReportBuilder<IDataCube<RawVariable>, RawVariable, RawVariable ,RawVariable> WithGridOptionsForCashflows ",
                "\n(this DataCubeReportBuilder<IDataCube<RawVariable>, RawVariable, RawVariable ,RawVariable> reportBuilder, int reportHeight = 450)",
                "\n{",
                "\n    return reportBuilder.SliceColumnsBy(nameof(GroupOfContract))//,nameof(CalculationType))",
                "\n                        .SliceRowsBy(nameof(AmountType),nameof(AocType))",
                "\n                        .WithGridOptions(o => o.WithRows(r => r.Where(r => !(r.RowGroup.Coordinates.Last() == \"NullGroup\"))",
                "\n                                                               .Select(r => r with { RowGroup = r.RowGroup with { Coordinates = r.RowGroup.Coordinates.Where(c => c != \"NullGroup\").ToImmutableList() } }).ToList())",
                "\n                                               .WithColumns(c => c.Modify(\"Values\", x => x with { ValueFormatter = ArrayFormatter, CellStyle = new { TextAlign = \"left\" } } ))",
                "\n                                         with { Height = reportHeight, GroupDefaultExpanded = 2 } );",
                "\n}"
            ]
        },
        {
            "cell_type": "markdown",
            "source": [
                "# TMP Report Chart"
            ]
        },
        {
            "cell_type": "code",
            "source": [
                "static Systemorph.Vertex.Charting.Builders.ChartBuilderVariable chart;",
                "\nchart = (Systemorph.Vertex.Charting.Builders.ChartBuilderVariable)ChartBuilder;",
                "\n",
                "\npublic static YieldCurve[] ForObject",
                "\n(this Systemorph.Vertex.Pivot.Builder.Interfaces.IPivotFactory report, YieldCurve[] data) ",
                "\n    => data;",
                "\n",
                "\npublic static Systemorph.Vertex.DataCubes.DataCube<RawVariable> ForDatacube",
                "\n(this Systemorph.Vertex.Pivot.Builder.Interfaces.IPivotFactory report, Systemorph.Vertex.DataCubes.Api.IDataCube<RawVariable> data) ",
                "\n    => (Systemorph.Vertex.DataCubes.DataCube<RawVariable>)data;",
                "\n",
                "\npublic static Systemorph.Vertex.Charting.Builders.ChartBuilders.LineChartBuilder WithOptionsForEconomicRates ",
                "\n(this YieldCurve[] ycs)",
                "\n{",
                "\n    var res = chart.Line();",
                "\n    var max = -100.0;",
                "\n    var min = +100.0;",
                "\n    foreach(var yc in ycs) ",
                "\n    {",
                "\n        var interest = (from x in yc.Values select Math.Pow((1 + x),( +1.0 / 12.0 ))).ToArray();",
                "\n        //var discount = (from x in yc.Values select (1 + x)^( -1.0 / 12.0 )).ToArray();",
                "\n        if(interest.Max() > max) max = interest.Max();",
                "\n        //if(discount.Max() > max) max = discount.Max();",
                "\n        if(interest.Min() < min) min = interest.Min();",
                "\n        //if(discount.Min() < min) min = discount.Min();",
                "\n        res.WithDataSet( o => o.WithData(interest).WithLabel( yc.Currency) );",
                "\n        //.WithDataArray( discount , o => o.WithLabel(\"Discount \" + yc.Currency) );",
                "\n    }",
                "\n    return res.WithOptions(o => o.WithYAxisMin(Math.Truncate((min-0.001) * 1000) / 1000))",
                "\n              .WithOptions(o => o.WithYAxisMax(Math.Truncate((max+0.001) * 1000) / 1000))",
                "\n              .WithTitle(\"Discount Factor\")",
                "\n              .WithLegend();",
                "\n}",
                "\n",
                "\npublic static Systemorph.Vertex.Charting.Builders.ChartBuilders.BarChartBuilder WithOptionsForNominalCashFlows",
                "\n(this Systemorph.Vertex.DataCubes.DataCube<RawVariable> cfs)",
                "\n{",
                "\n    return chart.Bar().WithTitle(\"Nominal Cashflows\", o => o.WithFontSize(20))",
                "\n                      .WithDataSet(o => o.WithData(cfs.First(x => x.AmountType == \"PR\" && x.AocType == \"BOP\") .Values).WithLabel(\"Premiums BOP\"))",
                "\n                      .WithDataSet(o => o.WithData(cfs.First(x => x.AmountType == \"PR\" && x.AocType == \"AU\")  .Values).WithLabel(\"Premiums AU\"))",
                "\n                      .WithDataSet(o => o.WithData(cfs.First(x => x.AmountType == \"PR\" && x.AocType == \"EV\")  .Values).WithLabel(\"Premiums EV\"))",
                "\n                      .WithDataSet(o => o.WithData(cfs.First(x => x.AmountType == \"PR\" && x.AocType == \"CL\")  .Values).WithLabel(\"Premiums CL\"))",
                "\n                      .WithDataSet(o => o.WithData(cfs.First(x => x.AmountType == \"CL\" && x.AocType == \"BOP\") .Values).WithLabel(\"Claims BOP\"))",
                "\n                      .WithDataSet(o => o.WithData(cfs.First(x => x.AmountType == \"CL\" && x.AocType == \"EV\")  .Values).WithLabel(\"Claims EV\"))",
                "\n                      .WithDataSet(o => o.WithData(cfs.First(x => x.AmountType == \"CL\" && x.AocType == \"CL\")  .Values).WithLabel(\"Claims CL\"))",
                "\n                      .WithLegend();",
                "\n}",
                "\n",
                "\npublic static Systemorph.Vertex.Charting.ChartPresenterData ToLineChart",
                "\n(this Systemorph.Vertex.Charting.Builders.ChartBuilders.LineChartBuilder charting) ",
                "\n    => charting.ToChart();",
                "\n",
                "\npublic static Systemorph.Vertex.Charting.ChartPresenterData ToBarChart",
                "\n(this Systemorph.Vertex.Charting.Builders.ChartBuilders.BarChartBuilder charting) ",
                "\n    => charting.ToChart();"
            ]
        }
    ]
}