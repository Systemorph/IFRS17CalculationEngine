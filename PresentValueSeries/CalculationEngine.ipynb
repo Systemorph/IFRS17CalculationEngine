{
    "metadata": {
        "authors": [],
        "kernelspec": {
            "display_name": "Formula Framework",
            "language": "C#",
            "name": "C#"
        },
        "language_info": {
            "file_extension": ".cs",
            "mimetype": "text/plain",
            "name": "C#"
        },
        "toc-autonumbering": "True",
        "toc-showcode": "False",
        "toc-showmarkdowntxt": "False",
        "toc-showtags": "False"
    },
    "nbformat": 4,
    "nbformat_minor": 5,
    "cells": [
        {
            "cell_type": "markdown",
            "source": [
                "<p style=\"font-weight:bold;\"> <span style=\"font-size: 36px\"> IFRS17 Calculation Engine </span> </p>"
            ]
        },
        {
            "cell_type": "code",
            "source": [
                "#!import \"../ifrs17/Import/Importers\""
            ]
        },
        {
            "cell_type": "code",
            "source": [
                "// TODO: avoid scopes with the same name, e.g. Csm, Lc",
                "\n#!import \"../ifrs17/Report/ReportScopes\""
            ]
        },
        {
            "cell_type": "code",
            "source": [
                "#!import \"../ifrs17/Report/ReportConfigurationAndUtils\""
            ]
        },
        {
            "cell_type": "code",
            "source": [
                "#r \"nuget:Systemorph.Charting,1.3.0\""
            ]
        },
        {
            "cell_type": "markdown",
            "source": [
                "# TMP replacement methods"
            ]
        },
        {
            "cell_type": "code",
            "source": [
                "// TODO: improve the way we get identities, not related to this project ",
                "\n//public static ImportIdentity GetIdentity (this Universe universe, string dataNode, string aocType, string novelty) ",
                "\n//    => universe.GetScope<GetIdentities>((dataNode, (int?)null)).Identities.Single( x => x.AocType == aocType && x.Novelty == novelty );"
            ]
        },
        {
            "cell_type": "code",
            "source": [
                "// TODO: check whether to replace the existing method \"GetElementOrDefault\"",
                "\nstatic T GetValidElement<T>(this IList<T> array, int index) => GetElementOrDefault(array, index);",
                "\nstatic T GetValidElement<T>(this IEnumerable<T> array, int index) => GetElementOrDefault(array.ToArray(), index);"
            ]
        },
        {
            "cell_type": "code",
            "source": [
                "public static IDataCube<RawVariable> ComputeDiscountAndCumulate ( this IDataCube<RawVariable> nominals, double[] yearlyDiscountRates, AmountType[] amountTypes ) ",
                "\n{",
                "\n    if(nominals == null) return Enumerable.Empty<RawVariable>().ToDataCube();",
                "\n       ",
                "\n    return nominals.Select(x => {",
                "\n        var nominal = x.Values.ToArray();",
                "\n        var cdcf = new double[nominal.Length];",
                "\n        var period = amountTypes.FirstOrDefault(a => a.SystemName == x.AmountType)?.PeriodType?? PeriodType.EndOfPeriod;",
                "\n",
                "\n        if(period == PeriodType.BeginningOfPeriod)",
                "\n        {",
                "\n            for (var i = cdcf.Length - 1; i >= 0; i--)",
                "\n                cdcf[i] = nominal[i] + GetElementOrDefault(cdcf, i + 1) * GetElementOrDefault(yearlyDiscountRates, i/12);",
                "\n        }",
                "\n        else",
                "\n        { ",
                "\n            for (var i = cdcf.Length - 1; i >= 0; i--)",
                "\n                cdcf[i] = ( nominal[i] + GetElementOrDefault(cdcf, i + 1) ) * GetElementOrDefault(yearlyDiscountRates, i/12);",
                "\n        }",
                "\n        return x with { Values = cdcf };",
                "\n    })",
                "\n    .ToDataCube();",
                "\n}"
            ]
        },
        {
            "cell_type": "markdown",
            "source": [
                "# TMP report configurations"
            ]
        },
        {
            "cell_type": "code",
            "source": [
                "// TODO: this must be improved and included in the api",
                "\nconst string ArrayFormatter = \"value.map(v => new Intl.NumberFormat([], { maximumFractionDigits: 8 }).format(v)).join(' , ')\";"
            ]
        },
        {
            "cell_type": "code",
            "source": [
                "// TODO: the default must include this ",
                "\npublic static ReportBuilder<YieldCurve,YieldCurve,YieldCurve> WithGridOptionsForYieldCurves (this ReportBuilder<YieldCurve,YieldCurve,YieldCurve> reportBuilder, int reportHeight = 200)",
                "\n{",
                "\n    return reportBuilder.WithGridOptions(o => o.WithColumns(c => c.Modify(\"Values\", x => x with { ValueFormatter = ArrayFormatter, CellStyle = new { TextAlign = \"left\" } } ))",
                "\n                                         with { Height = reportHeight, TreeData = false } );  // AutoGroupColumnDef = null (what is this?)",
                "\n}"
            ]
        },
        {
            "cell_type": "code",
            "source": [
                "//Report.ForObjects(yieldCurves).WithGridOptionsForYieldCurves().WithQuerySource(DataSource).ToReport()"
            ]
        },
        {
            "cell_type": "code",
            "source": [
                "using System.Collections.Immutable;",
                "\n// TODO: The type or namespace name 'ToImmutableList' does not exist in the namespace 'System.Collections.Immutable",
                "\n//System.Collections.Immutable.ToImmutableList(r.RowGroup.Coordinates.Where(c => c != \"NullGroup\")) ",
                "\n",
                "\n// TODO: discuss default here too, especially the trick to remove empty row",
                "\npublic static ReportBuilder<RawVariable,RawVariable,RawVariable> WithGridOptionsForCashflows (this ReportBuilder<RawVariable,RawVariable,RawVariable> reportBuilder, int reportHeight = 450)",
                "\n{",
                "\n    return reportBuilder.GroupColumnsBy(x => x.DataNode)",
                "\n                        //.GroupColumnsBy(x => x.CalculationType)",
                "\n                        .GroupRowsBy(x => x.AmountType)",
                "\n                        .GroupRowsBy(x => x.AocType)",
                "\n                        .WithGridOptions(o => o.WithRows(r => r.Where(r => !(r.RowGroup.Coordinates.Last() == \"NullGroup\"))",
                "\n                                                               .Select(r => r with { RowGroup = r.RowGroup with { Coordinates = r.RowGroup.Coordinates.Where(c => c != \"NullGroup\").ToImmutableList() } }).ToList())",
                "\n                                               .WithColumns(c => c.Modify(\"Values\", x => x with { ValueFormatter = ArrayFormatter, CellStyle = new { TextAlign = \"left\" } } ))",
                "\n                                         with { Height = reportHeight, GroupDefaultExpanded = 2 } );",
                "\n}"
            ]
        },
        {
            "cell_type": "code",
            "source": [
                "public static DataCubeReportBuilder<IDataCube<RawVariable>, RawVariable, RawVariable ,RawVariable> WithGridOptionsForCashflows ",
                "\n(this DataCubeReportBuilder<IDataCube<RawVariable>, RawVariable, RawVariable ,RawVariable> reportBuilder, int reportHeight = 450)",
                "\n{",
                "\n    return reportBuilder.SliceColumnsBy(nameof(GroupOfContract))//,nameof(CalculationType))",
                "\n                        .SliceRowsBy(nameof(AmountType),nameof(AocType))",
                "\n                        .WithGridOptions(o => o.WithRows(r => r.Where(r => !(r.RowGroup.Coordinates.Last() == \"NullGroup\"))",
                "\n                                                               .Select(r => r with { RowGroup = r.RowGroup with { Coordinates = r.RowGroup.Coordinates.Where(c => c != \"NullGroup\").ToImmutableList() } }).ToList())",
                "\n                                               .WithColumns(c => c.Modify(\"Values\", x => x with { ValueFormatter = ArrayFormatter, CellStyle = new { TextAlign = \"left\" } } ))",
                "\n                                         with { Height = reportHeight, GroupDefaultExpanded = 2 } );",
                "\n}"
            ]
        },
        {
            "cell_type": "code",
            "source": [
                "//Report.ForDataCube(nominals).WithGridOptionsForCashflows(500).WithQuerySource(DataSource).ToReport()"
            ]
        },
        {
            "cell_type": "markdown",
            "source": [
                "# TMP report api"
            ]
        },
        {
            "cell_type": "code",
            "source": [
                "[InitializeScope(nameof(InitAsync))]",
                "\npublic interface PvReportTmp: IMutableScopeWithStorage<ReportStorage> {",
                "\n    // Some infrastructure",
                "\n    private IWorkspace workspace => GetStorage().Workspace;",
                "\n    private Systemorph.Vertex.Pivot.Builder.Interfaces.IPivotFactory report => GetStorage().Report;",
                "\n    ",
                "\n    // Basic mutable properties",
                "\n    (int Year, int Month) ReportingPeriod { get; set; }",
                "\n    int Year => ReportingPeriod.Year;",
                "\n    int Month => ReportingPeriod.Month;",
                "\n    string ReportingNode { get; set; }",
                "\n    string Scenario { get; set; }",
                "\n    CurrencyType CurrencyType { get; set; }",
                "\n    ",
                "\n    ((int Year, int Month) ReportingPeriod, string ReportingNode, string Scenario, CurrencyType) ShowSettings => (ReportingPeriod, ReportingNode, Scenario, CurrencyType);",
                "\n    ",
                "\n    // Slice and Dice",
                "\n    IEnumerable<string> RowSlices { get; set; }",
                "\n    private string[] defaultRowSlices => new string[] { \"Novelty\", \"VariableType\" };",
                "\n    private string[] rowSlices => RowSlices is null ? defaultRowSlices : defaultRowSlices.Concat(RowSlices).ToArray();",
                "\n    ",
                "\n    IEnumerable<string> ColumnSlices { get; set; }",
                "\n    // TODO: include EconomicBasis in the default slices",
                "\n    private string[] defaultColumnSlices => new string[] { \"ReportingNode\", CurrencyGrouper(CurrencyType), \"EstimateType\", \"EconomicBasis\" };",
                "\n    private string[] columnSlices => ColumnSlices is null ? defaultColumnSlices : defaultColumnSlices.Concat(ColumnSlices).ToArray();",
                "\n    ",
                "\n    // Filter",
                "\n    // TODO: this is bugged, since the default null will remove all filters",
                "\n    IEnumerable<(string filterName, string filterValue)> DataFilter { get; set; }",
                "\n    private (string filterName, object filterValue)[] dataFilter => (DataFilter is null ? Enumerable.Empty<(string, object)>() : DataFilter.Select(x => (x.filterName, (object)x.filterValue))).ToArray();",
                "\n    ",
                "\n    // Scope Initialization",
                "\n    async Task InitAsync() {",
                "\n        var mostRecentPartition = (await workspace.Query<PartitionByReportingNodeAndPeriod>().Where(x => x.Scenario == null).OrderBy(x => x.Year).ThenBy(x => x.Month).ToArrayAsync()).Last();  ",
                "\n        ",
                "\n        ReportingPeriod = (mostRecentPartition.Year, mostRecentPartition.Month);",
                "\n        ReportingNode = (await workspace.Query<ReportingNode>().Where(x => x.Parent == null).ToArrayAsync()).First().SystemName;;",
                "\n        Scenario = null;",
                "\n        CurrencyType = CurrencyType.Contractual;       ",
                "\n        ColumnSlices = new[] {\"AmountType\"};",
                "\n        await GetStorage().InitializeReportIndependentCacheAsync();",
                "\n    }",
                "\n    ",
                "\n    // Data update in Storage and Report Generation",
                "\n    async Task<GridOptions> ToReportAsync() {",
                "\n        await GetStorage().InitializeAsync(ReportingPeriod, ReportingNode, Scenario, CurrencyType);",
                "\n    ",
                "\n        var identities = GetStorage().GetIdentities(ReportingPeriod, ReportingNode, Scenario, CurrencyType);",
                "\n        var dataCube = GetScopes<LockedBestEstimate>(identities).Aggregate().LockedBestEstimate;",
                "\n        ",
                "\n        return report.ForDataCube(dataCube)",
                "\n                     .WithQuerySource(workspace)",
                "\n                     .SliceRowsBy(rowSlices)",
                "\n                     .SliceColumnsBy(columnSlices)",
                "\n                     .ReportGridOptions(reportHeight : 600)",
                "\n                     .ToReport();",
                "\n    }",
                "\n    ",
                "\n    // TODO: return a ReportBuilder",
                "\n    async Task<DataCubeReportBuilder<IDataCube<ReportVariable>, ReportVariable, ReportVariable, ReportVariable>> ToReportBuilderAsync() {",
                "\n        await GetStorage().InitializeAsync(ReportingPeriod, ReportingNode, Scenario, CurrencyType);",
                "\n    ",
                "\n        var identities = GetStorage().GetIdentities(ReportingPeriod, ReportingNode, Scenario, CurrencyType);",
                "\n        var dataCube = (GetScopes<LockedBestEstimate>(identities).Aggregate().LockedBestEstimate + GetScopes<CurrentBestEstimate>(identities).Aggregate().CurrentBestEstimate).Filter(dataFilter);",
                "\n        ",
                "\n        return report.ForDataCube(dataCube)",
                "\n            .WithQuerySource(workspace)",
                "\n            .SliceRowsBy(rowSlices)",
                "\n            .SliceColumnsBy(columnSlices)",
                "\n            .ReportGridOptions();",
                "\n    }",
                "\n}"
            ]
        },
        {
            "cell_type": "code",
            "source": [
                "// TODO: move it to calculation engine",
                "\npublic class Ifrs17 ",
                "\n{",
                "\n    private IWorkspace Workspace {get; init;}",
                "\n    private Systemorph.Vertex.Scopes.Proxy.IScopeFactory Scopes {get; init;}",
                "\n    private Systemorph.Vertex.Pivot.Builder.Interfaces.IPivotFactory Report {get; init;}",
                "\n    private ReportStorage Storage {get; set;}",
                "\n    ",
                "\n    public PvReportTmp PresentValues {get{",
                "\n        Storage = new ReportStorage(Workspace,Report);",
                "\n        return Scopes.ForSingleton().WithStorage(Storage).ToScope<PvReportTmp>();",
                "\n    }}",
                "\n    ",
                "\n    // TODO: temporary just for the feeling of having many topics to present",
                "\n    public PvReportTmp RiskAdjustment {get{",
                "\n        Storage = new ReportStorage(Workspace,Report);",
                "\n        return Scopes.ForSingleton().WithStorage(Storage).ToScope<PvReportTmp>();",
                "\n    }}",
                "\n    ",
                "\n    // TODO: temporary just for the feeling of having many topics to present",
                "\n    public PvReportTmp ContractualServiceMargin {get{",
                "\n        Storage = new ReportStorage(Workspace,Report);",
                "\n        return Scopes.ForSingleton().WithStorage(Storage).ToScope<PvReportTmp>();",
                "\n    }}",
                "\n    ",
                "\n    // TODO: temporary just for the feeling of having many topics to present",
                "\n    public PvReportTmp FinancialPerformance {get{",
                "\n        Storage = new ReportStorage(Workspace,Report);",
                "\n        return Scopes.ForSingleton().WithStorage(Storage).ToScope<PvReportTmp>();",
                "\n    }}",
                "\n    ",
                "\n    public Ifrs17 (IWorkspace ws, Systemorph.Vertex.Scopes.Proxy.IScopeFactory scopes, Systemorph.Vertex.Pivot.Builder.Interfaces.IPivotFactory report)",
                "\n    {",
                "\n        Workspace = ws; ",
                "\n        Scopes = scopes; ",
                "\n        Report = report; ",
                "\n    }",
                "\n}"
            ]
        },
        {
            "cell_type": "code",
            "source": [
                "var Ifrs17 = new Ifrs17(Workspace,Scopes,Report);"
            ]
        },
        {
            "cell_type": "markdown",
            "source": [
                "# TMP Waterfall Chart"
            ]
        },
        {
            "cell_type": "markdown",
            "source": [
                "var identities = pv.GetStorage().GetIdentities((2021,3), \"G\", null);",
                "\nvar datacube = pv.GetScopes<LockedBestEstimate>(identities).Aggregate().LockedBestEstimate;",
                "\nvar pr = datacube.Filter((\"AmountType\",\"PR\"));",
                "\nvar cl = datacube.Filter((\"AmountType\",\"CL\"));"
            ]
        },
        {
            "cell_type": "markdown",
            "source": [
                "double[] pr1 = {0,",
                "\n                pr.Filter((\"VariableType\",\"BOP\")).First().Value,",
                "\n                pr.Filter((\"VariableType\",\"BOP\")).First().Value",
                "\n                    +pr.Filter((\"VariableType\",\"CF\")).First().Value,",
                "\n                pr.Filter((\"VariableType\",\"BOP\")).First().Value",
                "\n                    +pr.Filter((\"VariableType\",\"CF\")).First().Value",
                "\n                    +pr.Filter((\"VariableType\",\"IA\")).First().Value,",
                "\n                pr.Filter((\"VariableType\",\"BOP\")).First().Value",
                "\n                    +pr.Filter((\"VariableType\",\"CF\")).First().Value",
                "\n                    +pr.Filter((\"VariableType\",\"IA\")).First().Value",
                "\n                    +pr.Filter((\"VariableType\",\"AU\")).First().Value,",
                "\n                0};",
                "\ndouble[] pr2 = {pr.Filter((\"VariableType\",\"BOP\")).First().Value,",
                "\n                pr.Filter((\"VariableType\",\"BOP\")).First().Value",
                "\n                    +pr.Filter((\"VariableType\",\"CF\")).First().Value,",
                "\n                pr.Filter((\"VariableType\",\"BOP\")).First().Value",
                "\n                    +pr.Filter((\"VariableType\",\"CF\")).First().Value",
                "\n                    +pr.Filter((\"VariableType\",\"IA\")).First().Value,",
                "\n                pr.Filter((\"VariableType\",\"BOP\")).First().Value",
                "\n                    +pr.Filter((\"VariableType\",\"CF\")).First().Value",
                "\n                    +pr.Filter((\"VariableType\",\"IA\")).First().Value",
                "\n                    +pr.Filter((\"VariableType\",\"AU\")).First().Value,",
                "\n                pr.Filter((\"VariableType\",\"BOP\")).First().Value",
                "\n                    +pr.Filter((\"VariableType\",\"CF\")).First().Value",
                "\n                    +pr.Filter((\"VariableType\",\"IA\")).First().Value",
                "\n                    +pr.Filter((\"VariableType\",\"AU\")).First().Value",
                "\n                    +pr.Filter((\"VariableType\",\"EV\")).First().Value,",
                "\n                pr.Filter((\"VariableType\",\"EOP\")).First().Value};"
            ]
        },
        {
            "cell_type": "markdown",
            "source": [
                "double[] cl1 = {0,",
                "\n                cl.Filter((\"VariableType\",\"BOP\")).First().Value,",
                "\n                cl.Filter((\"VariableType\",\"BOP\")).First().Value",
                "\n                    +cl.Filter((\"VariableType\",\"CF\")).First().Value,",
                "\n                cl.Filter((\"VariableType\",\"BOP\")).First().Value",
                "\n                    +cl.Filter((\"VariableType\",\"CF\")).First().Value",
                "\n                    +cl.Filter((\"VariableType\",\"IA\")).First().Value,",
                "\n                cl.Filter((\"VariableType\",\"BOP\")).First().Value",
                "\n                    +cl.Filter((\"VariableType\",\"CF\")).First().Value",
                "\n                    +cl.Filter((\"VariableType\",\"IA\")).First().Value",
                "\n                    +cl.Filter((\"VariableType\",\"AU\")).First().Value,",
                "\n                0};",
                "\ndouble[] cl2 = {cl.Filter((\"VariableType\",\"BOP\")).First().Value,",
                "\n                cl.Filter((\"VariableType\",\"BOP\")).First().Value",
                "\n                    +cl.Filter((\"VariableType\",\"CF\")).First().Value,",
                "\n                cl.Filter((\"VariableType\",\"BOP\")).First().Value",
                "\n                    +cl.Filter((\"VariableType\",\"CF\")).First().Value",
                "\n                    +cl.Filter((\"VariableType\",\"IA\")).First().Value,",
                "\n                cl.Filter((\"VariableType\",\"BOP\")).First().Value",
                "\n                    +cl.Filter((\"VariableType\",\"CF\")).First().Value",
                "\n                    +cl.Filter((\"VariableType\",\"IA\")).First().Value",
                "\n                    +cl.Filter((\"VariableType\",\"AU\")).First().Value,",
                "\n                cl.Filter((\"VariableType\",\"BOP\")).First().Value",
                "\n                    +cl.Filter((\"VariableType\",\"CF\")).First().Value",
                "\n                    +cl.Filter((\"VariableType\",\"IA\")).First().Value",
                "\n                    +cl.Filter((\"VariableType\",\"AU\")).First().Value",
                "\n                    +cl.Filter((\"VariableType\",\"EV\")).First().Value,",
                "\n                cl.Filter((\"VariableType\",\"EOP\")).First().Value};"
            ]
        },
        {
            "cell_type": "markdown",
            "source": [
                "string[] aocs = {\"BOP\", \"CF\", \"IA\", \"AU\", \"EV\", \"EOP\"};"
            ]
        },
        {
            "cell_type": "markdown",
            "source": [
                "string[] labels = {\"Opening Balance\", \"Cash flow\", \"Interest Accretion\", \"Assumption Update\", \"Experience Variance\", \"Closing Balance\"};"
            ]
        },
        {
            "cell_type": "markdown",
            "source": [
                "// TODO: talk to A.Kravets ",
                "\nChart.FloatingBar()",
                "\n     .WithDataRange(pr1, pr2, options => options.WithLabel(\"Premiums\"))",
                "\n     .WithDataRange(cl1, cl2, options => options.WithLabel(\"Claims\"))",
                "\n     .WithLabels(labels)",
                "\n     .WithTitle(\"Analysis of Change\")"
            ]
        },
        {
            "cell_type": "markdown",
            "source": [
                "# TMP Report Chart"
            ]
        },
        {
            "cell_type": "code",
            "source": [
                "ChartBuilder.GetType()"
            ]
        },
        {
            "cell_type": "code",
            "source": [
                "static Systemorph.Vertex.Charting.Builders.ChartBuilderVariable chart;",
                "\nchart = (Systemorph.Vertex.Charting.Builders.ChartBuilderVariable)ChartBuilder;",
                "\n",
                "\npublic static YieldCurve[] ForObject",
                "\n(this Systemorph.Vertex.Pivot.Builder.Interfaces.IPivotFactory report, YieldCurve[] data) ",
                "\n    => data;",
                "\n",
                "\npublic static Systemorph.Vertex.DataCubes.DataCube<RawVariable> ForDatacube",
                "\n(this Systemorph.Vertex.Pivot.Builder.Interfaces.IPivotFactory report, Systemorph.Vertex.DataCubes.Api.IDataCube<RawVariable> data) ",
                "\n    => (Systemorph.Vertex.DataCubes.DataCube<RawVariable>)data;",
                "\n",
                "\npublic static Systemorph.Vertex.Charting.Builders.ChartBuilders.LineChartBuilder WithOptionsForEconomicRates ",
                "\n(this YieldCurve[] ycs)",
                "\n{",
                "\n    var res = chart.Line();",
                "\n    var max = -100.0;",
                "\n    var min = +100.0;",
                "\n    foreach(var yc in ycs) ",
                "\n    {",
                "\n        var interest = (from x in yc.Values select Math.Pow((1 + x),( +1.0 / 12.0 ))).ToArray();",
                "\n        //var discount = (from x in yc.Values select (1 + x)^( -1.0 / 12.0 )).ToArray();",
                "\n        if(interest.Max() > max) max = interest.Max();",
                "\n        //if(discount.Max() > max) max = discount.Max();",
                "\n        if(interest.Min() < min) min = interest.Min();",
                "\n        //if(discount.Min() < min) min = discount.Min();",
                "\n        res.WithDataSet( o => o.WithData(interest).WithLabel( yc.Currency) );",
                "\n        //.WithDataArray( discount , o => o.WithLabel(\"Discount \" + yc.Currency) );",
                "\n    }",
                "\n    return res.WithOptions(o => o.WithYAxisMin(Math.Truncate((min-0.001) * 1000) / 1000))",
                "\n              .WithOptions(o => o.WithYAxisMax(Math.Truncate((max+0.001) * 1000) / 1000))",
                "\n              .WithTitle(\"Discount Factor\")",
                "\n              .WithLegend();",
                "\n}",
                "\n",
                "\npublic static Systemorph.Vertex.Charting.Builders.ChartBuilders.BarChartBuilder WithOptionsForNominalCashFlows",
                "\n(this Systemorph.Vertex.DataCubes.DataCube<RawVariable> cfs)",
                "\n{",
                "\n    return chart.Bar().WithTitle(\"Nominal Cashflows\", o => o.WithFontSize(20))",
                "\n                      .WithDataSet(o => o.WithData(cfs.First(x => x.AmountType == \"PR\" && x.AocType == \"BOP\") .Values).WithLabel(\"Premiums BOP\"))",
                "\n                      .WithDataSet(o => o.WithData(cfs.First(x => x.AmountType == \"PR\" && x.AocType == \"AU\")  .Values).WithLabel(\"Premiums AU\"))",
                "\n                      .WithDataSet(o => o.WithData(cfs.First(x => x.AmountType == \"PR\" && x.AocType == \"EV\")  .Values).WithLabel(\"Premiums EV\"))",
                "\n                      .WithDataSet(o => o.WithData(cfs.First(x => x.AmountType == \"PR\" && x.AocType == \"CL\")  .Values).WithLabel(\"Premiums CL\"))",
                "\n                      .WithDataSet(o => o.WithData(cfs.First(x => x.AmountType == \"CL\" && x.AocType == \"BOP\") .Values).WithLabel(\"Claims BOP\"))",
                "\n                      .WithDataSet(o => o.WithData(cfs.First(x => x.AmountType == \"CL\" && x.AocType == \"EV\")  .Values).WithLabel(\"Claims EV\"))",
                "\n                      .WithDataSet(o => o.WithData(cfs.First(x => x.AmountType == \"CL\" && x.AocType == \"CL\")  .Values).WithLabel(\"Claims CL\"))",
                "\n                      .WithLegend();",
                "\n}",
                "\n",
                "\npublic static Systemorph.Vertex.Charting.ChartPresenterData ToLineChart",
                "\n(this Systemorph.Vertex.Charting.Builders.ChartBuilders.LineChartBuilder charting) ",
                "\n    => charting.ToChart();",
                "\n",
                "\npublic static Systemorph.Vertex.Charting.ChartPresenterData ToBarChart",
                "\n(this Systemorph.Vertex.Charting.Builders.ChartBuilders.BarChartBuilder charting) ",
                "\n    => charting.ToChart();"
            ]
        },
        {
            "cell_type": "markdown",
            "source": [
                ".",
                "\n",
                "\n.",
                "\n",
                "\n.",
                "\n",
                "\n.",
                "\n",
                "\n."
            ]
        },
        {
            "cell_type": "markdown",
            "source": [
                "# TMP How to make it nicer"
            ]
        },
        {
            "cell_type": "markdown",
            "source": [
                "        RESTRICT THE FOCUS OF THIS NOTEBOOK (keep 1 instead of n major subjects)",
                "\n",
                "\n- **Parameters** to be changed by the user --> Yield Curve, Cashflows (!)",
                "\n",
                "\n- **Insurance** or Reinsurance or both --> just the first (!)",
                "\n",
                "\n- **no exchange rates** for the moment (big topic, depends on period type), better to have one separate notebook dealing with multi-currencies (!)",
                "\n",
                "\n- **irreducible data set which tells the entire story**",
                "\n",
                "\n    - reduce number of Amount Types, e.g. keep only the roots (Premiums, Claims, Attributable Expenses, Non-attributable Expenses, Attributable Commission)"
            ]
        },
        {
            "cell_type": "markdown",
            "source": [
                "# TMP Limitations of the current IFRS17 engine"
            ]
        },
        {
            "cell_type": "markdown",
            "source": [
                "        LIMITATIONS (...)",
                "\n",
                "\n- Granularity of the **yield curve**: at the moment it is yiearly",
                "\n",
                "\n- The **yield curve** is (trivially) extrapolated, that is, the last element is considered ",
                "\n",
                "\n- Granularity of the cashflows: at the moment it is monthly (hardcoded, see 1/12 in yield curve)",
                "\n",
                "\n- At the moment no warning is thrown when appropriate Yield Curve is not found for the target period"
            ]
        }
    ]
}