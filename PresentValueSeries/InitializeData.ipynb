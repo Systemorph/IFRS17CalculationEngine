{
    "metadata": {
        "authors": [],
        "kernelspec": {
            "display_name": "Formula Framework",
            "language": "C#",
            "name": "C#"
        },
        "language_info": {
            "file_extension": ".cs",
            "mimetype": "text/plain",
            "name": "C#"
        },
        "toc-autonumbering": "True",
        "toc-showcode": "False",
        "toc-showmarkdowntxt": "False",
        "toc-showtags": "False"
    },
    "nbformat": 4,
    "nbformat_minor": 5,
    "cells": [
        {
            "cell_type": "markdown",
            "source": [
                "<p style=\"font-weight:bold;\"> <span style=\"font-size: 36px\"> Initialize Dimensions </span> </p>"
            ]
        },
        {
            "cell_type": "code",
            "source": [
                "#!import \"//ifrs17/dev/CalculationEngine\""
            ]
        },
        {
            "cell_type": "markdown",
            "source": [
                "---"
            ]
        },
        {
            "cell_type": "code",
            "source": [
                "await Import.FromFile(\"Dimensions.xlsx\")",
                "\n    .WithType<ReportingNode>()               .WithType<AocType>()                .WithType<DeferrableAmountType>()",
                "\n    .WithType<PvAmountType>()                .WithType<Scenario>()               .WithType<LiabilityType>()",
                "\n    .WithType<LineOfBusiness>()              .WithType<EstimateType>()           .WithType<EconomicBasis>()",
                "\n    .WithType<Currency>()                    .WithType<PnlVariableType>()        .WithType<BsVariableType>()",
                "\n    .WithType<Novelty>()                     .WithType<Profitability>()          .WithType<OciType>()",
                "\n    .WithType<ValuationApproach>()           .WithType<RiskDriver>()             .WithType<ProjectionConfiguration>()    ",
                "\n    //.WithType<Partner>()                     .WithType<CreditRiskRating>()       ",
                "\n    .WithType<ExchangeRate>()",
                "\n    .SnapshotMode()",
                "\n    .WithTarget(DataSource)",
                "\n    .ExecuteAsync()"
            ]
        },
        {
            "cell_type": "code",
            "source": [
                "await Import.FromFile(\"Dimensions.xlsx\").WithFormat(ImportFormats.AocConfiguration).WithTarget(DataSource).ExecuteAsync()"
            ]
        },
        {
            "cell_type": "code",
            "source": [
                "await Import.FromFile(\"DataNodes.xlsx\").WithFormat(\"DataNode\").WithTarget(DataSource).ExecuteAsync()"
            ]
        },
        {
            "cell_type": "code",
            "source": [
                "Workspace.Reset(x => x.ResetInitializationRules());",
                "\nWorkspace.InitializeFrom(DataSource);"
            ]
        },
        {
            "cell_type": "code",
            "source": [
                ""
            ]
        }
    ]
}