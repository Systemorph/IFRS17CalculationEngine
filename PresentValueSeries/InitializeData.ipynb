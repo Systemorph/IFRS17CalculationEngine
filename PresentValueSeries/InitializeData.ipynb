{
    "metadata": {
        "authors": [],
        "id": "HSWSJivQ9Uq-k7P9Ky6MAg",
        "kernelspec": {
            "display_name": "Formula Framework",
            "language": "C#",
            "name": "C#"
        },
        "language_info": {
            "file_extension": ".cs",
            "mimetype": "text/plain",
            "name": "C#"
        }
    },
    "nbformat": 4,
    "nbformat_minor": 8,
    "cells": [
        {
            "cell_type": "markdown",
            "source": [
                "<p style=\"font-weight:bold;\"> <span style=\"font-size: 36px\"> Initialize Dimensions </span> </p>"
            ],
            "metadata": {},
            "execution_count": 0,
            "outputs": []
        },
        {
            "cell_type": "markdown",
            "source": [
                "---"
            ],
            "metadata": {},
            "execution_count": 0,
            "outputs": []
        },
        {
            "cell_type": "code",
            "source": [
                "#!import \"//ifrs17/v1.1.0/CalculationEngine\""
            ],
            "metadata": {},
            "execution_count": 0,
            "outputs": []
        },
        {
            "cell_type": "code",
            "source": [
                "await Import.FromFile(\"Dimensions.xlsx\")",
                "\n    .WithType<ReportingNode>()               .WithType<AocType>()                .WithType<DeferrableAmountType>()",
                "\n    .WithType<AmountType>()                  .WithType<Scenario>()               .WithType<LiabilityType>()",
                "\n    .WithType<LineOfBusiness>()              .WithType<EstimateType>()           .WithType<EconomicBasis>()",
                "\n    .WithType<Currency>()                    .WithType<PnlVariableType>()        .WithType<BsVariableType>()",
                "\n    .WithType<Novelty>()                     .WithType<Profitability>()          .WithType<OciType>()",
                "\n    .WithType<ValuationApproach>()           .WithType<RiskDriver>()             .WithType<ProjectionConfiguration>()    ",
                "\n    .WithType<ExchangeRate>()",
                "\n    .WithTarget(DataSource)",
                "\n    .ExecuteAsync()"
            ],
            "metadata": {},
            "execution_count": 0,
            "outputs": []
        },
        {
            "cell_type": "code",
            "source": [
                "await Import.FromFile(\"Dimensions.xlsx\")",
                "\n            .WithFormat(ImportFormats.AocConfiguration)",
                "\n            .WithTarget(DataSource)",
                "\n            .ExecuteAsync()"
            ],
            "metadata": {},
            "execution_count": 0,
            "outputs": []
        },
        {
            "cell_type": "code",
            "source": [
                "await Import.FromFile(\"DataNodes.xlsx\")",
                "\n            .WithFormat(\"DataNode\")",
                "\n            .WithTarget(DataSource)",
                "\n            .ExecuteAsync()"
            ],
            "metadata": {},
            "execution_count": 0,
            "outputs": []
        },
        {
            "cell_type": "code",
            "source": [
                "Workspace.Reset(x => x.ResetInitializationRules());",
                "\nWorkspace.InitializeFrom(DataSource);"
            ],
            "metadata": {},
            "execution_count": 0,
            "outputs": []
        },
        {
            "cell_type": "code",
            "source": [
                ""
            ],
            "metadata": {},
            "execution_count": 0,
            "outputs": []
        }
    ]
}