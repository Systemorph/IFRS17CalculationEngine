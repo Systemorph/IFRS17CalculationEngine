{
    "metadata": {
        "authors": [],
        "kernelspec": {
            "display_name": "Formula Framework",
            "language": "C#",
            "name": "C#"
        },
        "language_info": {
            "file_extension": ".cs",
            "mimetype": "text/plain",
            "name": "C#"
        },
        "toc-autonumbering": "True",
        "toc-showcode": "False",
        "toc-showmarkdowntxt": "False",
        "toc-showtags": "False"
    },
    "nbformat": 4,
    "nbformat_minor": 5,
    "cells": [
        {
            "cell_type": "markdown",
            "source": [
                "<p style=\"font-weight:bold;\"> <span style=\"font-size: 36px\"> Initialize Data </span> </p>"
            ]
        },
        {
            "cell_type": "code",
            "source": [
                "#!import \"//ifrs17/dev/Import/Importers\" "
            ]
        },
        {
            "cell_type": "code",
            "source": [
                "#!import \"CalculationEngine\""
            ]
        },
        {
            "cell_type": "markdown",
            "source": [
                "---"
            ]
        },
        {
            "cell_type": "code",
            "source": [
                "await Import.FromFile(\"Dimensions.xlsx\")",
                "\n            .WithType<Novelty>()                  .WithType<AocType>()                   .WithType<PnlVariableType>()            .WithType<AocConfiguration>()",
                "\n            .WithType<PvAmountType>()             .WithType<DeferrableAmountType>()      //.WithType<CalculationType>()            ",
                "\n            .WithType<RiskDriver>()",
                "\n            .WithType<EconomicBasis>()            .WithType<EstimateType>()              .WithType<ValuationApproach>()          .WithType<LineOfBusiness>()",
                "\n            .WithType<OciType>()                  .WithType<LiabilityType>()             .WithType<Profitability>()              .WithType<Currency>()",
                "\n            .WithType<ReportingNode>()            .WithType<Partner>()                   .WithType<CreditRiskRating>()           .WithType<Scenario>()",
                "\n            .WithType<ProjectionConfiguration>()",
                "\n            .WithType<PartitionByReportingNode>()                                                            // TODO: automatize partitions",
                "\n            .WithType<PartitionByReportingNodeAndPeriod>(\"PartitionByReportingNodeAndPeri\")                  // TODO: ugly",
                "\n            .WithTarget(DataSource)",
                "\n            .ExecuteAsync()"
            ]
        },
        {
            "cell_type": "code",
            "source": [
                "await Import.FromFile(\"DataNodes.xlsx\").WithFormat(\"DataNode\").WithTarget(DataSource).ExecuteAsync()"
            ]
        },
        {
            "cell_type": "code",
            "source": [
                ""
            ]
        }
    ]
}