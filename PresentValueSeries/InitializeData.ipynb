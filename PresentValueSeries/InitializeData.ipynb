{
    "metadata": {
        "authors": [],
        "kernelspec": {
            "display_name": "Formula Framework",
            "language": "C#",
            "name": "C#"
        },
        "language_info": {
            "file_extension": ".cs",
            "mimetype": "text/plain",
            "name": "C#"
        },
        "toc-autonumbering": "True",
        "toc-showcode": "False",
        "toc-showmarkdowntxt": "False",
        "toc-showtags": "False"
    },
    "nbformat": 4,
    "nbformat_minor": 5,
    "cells": [
        {
            "cell_type": "markdown",
            "source": [
                "<p style=\"font-weight:bold;\"> <span style=\"font-size: 36px\"> Initialize Data </span> </p>"
            ]
        },
        {
            "cell_type": "code",
            "source": [
                "#!import \"../ifrs17/Import/Importers\"",
                "\n//#!import \"//ifrs17/dev/Import/Importers\" "
            ]
        },
        {
            "cell_type": "code",
            "source": [
                "#!import \"../ifrs17/CalculationEngine\""
            ]
        },
        {
            "cell_type": "markdown",
            "source": [
                "---"
            ]
        },
        {
            "cell_type": "markdown",
            "source": [
                "    TODO: this is a trick, remove later when import format is ready and implemented in the calculation engine"
            ]
        },
        {
            "cell_type": "code",
            "source": [
                "public static IImportVariable GetImport(this IImportVariable import) => import; "
            ]
        },
        {
            "cell_type": "code",
            "source": [
                "var importbck = Import.GetImport();"
            ]
        },
        {
            "cell_type": "code",
            "source": [
                "var Import = importbck;"
            ]
        },
        {
            "cell_type": "markdown",
            "source": [
                "---"
            ]
        },
        {
            "cell_type": "code",
            "source": [
                "// not working because enums are not supported (also this requires the excel cells format to be tuned adequately)",
                "\n//await Domain.GenerateFromFile(\"Dimensions.xlsx\").ExecuteAsync()"
            ]
        },
        {
            "cell_type": "code",
            "source": [
                "/*",
                "\nvar domain = Domain.CreateDomain(\"Dimension\")",
                "\n                .WithType<Novelty>()            .WithType<AocType>()                    .WithType<PnlVariableType>()            .WithType<AocConfiguration>()",
                "\n                .WithType<PvAmountType>()       .WithType<DeferrableAmountType>()       .WithType<CalculationType>()            .WithType<RiskDriver>()",
                "\n                .WithType<EconomicBasis>()      .WithType<EstimateType>()               .WithType<ValuationApproach>()          .WithType<LineOfBusiness>()",
                "\n                .WithType<OciType>()            .WithType<LiabilityType>()              .WithType<Profitability>()              .WithType<Currency>()",
                "\n                .WithType<ReportingNode>()      .WithType<Partner>()                    .WithType<CreditRiskRating>()           .WithType<Scenario>()",
                "\n                .WithType<ProjectionConfiguration>()    ",
                "\n                .WithType<PartitionByReportingNode>()            // TODO: automatize partitions",
                "\n                .WithType<PartitionByReportingNodeAndPeriod>()   // TODO: not working cause the name is too long for excel",
                "\n                .ToDomain();",
                "\n*/"
            ]
        },
        {
            "cell_type": "code",
            "source": [
                "// not usable at the moment for the reason outlined above",
                "\n//await Import.FromFile(\"Dimensions.xlsx\").WithDomain(domain).WithTarget(DataSource).ExecuteAsync()"
            ]
        },
        {
            "cell_type": "code",
            "source": [
                "// FEEDBACK: use domain (e.g. IFRS17.Import), see above",
                "\nawait Import.FromFile(\"Dimensions.xlsx\")",
                "\n            .WithType<Novelty>()                  .WithType<AocType>()                   .WithType<PnlVariableType>()            .WithType<AocConfiguration>()",
                "\n            .WithType<PvAmountType>()             .WithType<DeferrableAmountType>()      //.WithType<CalculationType>()            ",
                "\n            .WithType<RiskDriver>()",
                "\n            .WithType<EconomicBasis>()            .WithType<EstimateType>()              .WithType<ValuationApproach>()          .WithType<LineOfBusiness>()",
                "\n            .WithType<OciType>()                  .WithType<LiabilityType>()             .WithType<Profitability>()              .WithType<Currency>()",
                "\n            .WithType<ReportingNode>()            .WithType<Partner>()                   .WithType<CreditRiskRating>()           .WithType<Scenario>()",
                "\n            .WithType<ProjectionConfiguration>()",
                "\n            .WithType<PartitionByReportingNode>()                                                            // TODO: automatize partitions",
                "\n            .WithType<PartitionByReportingNodeAndPeriod>(\"PartitionByReportingNodeAndPeri\")                  // TODO: ugly",
                "\n            .WithTarget(DataSource)",
                "\n            .ExecuteAsync()"
            ]
        },
        {
            "cell_type": "code",
            "source": [
                "await UploadDataNodesAsync(\"DataNodes.xlsx\")"
            ]
        },
        {
            "cell_type": "code",
            "source": [
                "// TODO: set the imported DataNodes to Active by default",
                "\n//await UploadDataNodeStateAsync(\"DataNodeStates.csv\")"
            ]
        },
        {
            "cell_type": "code",
            "source": [
                "// TODO: 1. map template not working, 2. set default values",
                "\n//await UploadDataNodeParameterAsync(\"DataNodeParameters.csv\")"
            ]
        },
        {
            "cell_type": "markdown",
            "source": [
                "# TMP import api"
            ]
        },
        {
            "cell_type": "code",
            "source": [
                "// TODO: temporary workaround while waiting for the new unified import api",
                "\npublic class MyImport ",
                "\n{",
                "\n    public Systemorph.Vertex.Import.IImportVariable Import {get; init;}",
                "\n    public Systemorph.Vertex.DataSource.IDataSourceVariable DataSource {get; private set;}",
                "\n    public IWorkspace Workspace {get; init;}",
                "\n    ",
                "\n    private Func<string, Task<ActivityLog>> ImportCashflowAsync {get; init;}",
                "\n    private Func<string, Task<ActivityLog>> ImportActualAsync {get; init;}",
                "\n    private Func<string, Task<ActivityLog>> ImportDataNodeAsync {get; init;}",
                "\n    ",
                "\n    private string fileName;",
                "\n    private string format; ",
                "\n    ",
                "\n    public MyImport (IImportVariable import,",
                "\n                     IWorkspace workspace, ",
                "\n                     Func<string, Task<ActivityLog>> importDataNodeAsync,",
                "\n                     Func<string, Task<ActivityLog>> importCashflowAsync, ",
                "\n                     Func<string, Task<ActivityLog>> importActualAsync) ",
                "\n    {",
                "\n        Import = import;",
                "\n        Workspace = workspace;",
                "\n        ImportDataNodeAsync = importDataNodeAsync;",
                "\n        ImportCashflowAsync = importCashflowAsync;",
                "\n        ImportActualAsync = importActualAsync;",
                "\n    }",
                "\n    ",
                "\n    public IImportVariable GetImport() => Import;",
                "\n    ",
                "\n    public MyImport FromFile (string fn)    { fileName = fn; return this; }",
                "\n    public MyImport WithFormat (string f)   { format = f; return this; }",
                "\n    public MyImport WithType<T> ()          { format = typeof(T).Name; return this; }",
                "\n    public MyImport WithTarget (Systemorph.Vertex.DataSource.IDataSourceVariable datasource) { DataSource = datasource; return this; }",
                "\n    ",
                "\n    public async Task<Systemorph.Vertex.Activities.ActivityLog[]> ExecuteAsync () {",
                "\n        Systemorph.Vertex.Activities.ActivityLog[] logs;",
                "\n        switch(format) ",
                "\n        {",
                "\n            case(\"DataNodes\") : logs = (await ImportDataNodeAsync(fileName)).RepeatOnce().ToArray(); break;",
                "\n",
                "\n            // TODO: add property to stress that this is yearly",
                "\n            case(\"YieldCurve\") : logs = (await Import.FromFile(fileName).WithType<YieldCurve>().WithTarget(DataSource).ExecuteAsync()).RepeatOnce().ToArray();  break;",
                "\n                ",
                "\n            // TODO: use default for Calculation Type (BE, CU, RA) and Novelty",
                "\n            // Objection: is is quite fundamental to state which calculation type the cf is, better to delegate this to the user",
                "\n            // Possibility: fuse calculation type and amount type?",
                "\n            case(\"Cashflows\") : logs = (await ImportCashflowAsync(fileName)).RepeatOnce().ToArray();  break;",
                "\n",
                "\n            case(\"Actuals\") : logs = (await ImportActualAsync(fileName)).RepeatOnce().ToArray();  break;",
                "\n",
                "\n            default : logs = (new Systemorph.Vertex.Activities.ActivityLog(new Guid(), new DateTime(), new DateTime(), \"\", ActivityLogStatus.Succeeded, new(), new(), new() )).RepeatOnce().ToArray();  break;",
                "\n        };",
                "\n        // TODO: clarify how this works, e.g. whether the data is cached or not",
                "\n        // TODO: use DataSOurce in the report module so that this line is not needed",
                "\n        Workspace.InitializeFrom(DataSource);",
                "\n        return logs;",
                "\n    }",
                "\n}"
            ]
        },
        {
            "cell_type": "code",
            "source": [
                "var Import = new MyImport(importbck, Workspace, UploadDataNodesAsync, UploadCashflowsAsync, UploadActualAsync);"
            ]
        },
        {
            "cell_type": "code",
            "source": [
                "await Import.FromFile(\"DataNodes.xlsx\").WithFormat(\"DataNodes\").WithTarget(DataSource).ExecuteAsync()"
            ]
        },
        {
            "cell_type": "code",
            "source": [
                ""
            ]
        },
        {
            "cell_type": "code",
            "source": [
                ""
            ]
        }
    ]
}