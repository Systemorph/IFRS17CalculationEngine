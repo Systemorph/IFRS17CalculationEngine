{
    "metadata": {
        "authors": [],
        "kernelspec": {
            "display_name": "Formula Framework",
            "language": "C#",
            "name": "C#"
        },
        "language_info": {
            "file_extension": ".cs",
            "mimetype": "text/plain",
            "name": "C#"
        },
        "toc-autonumbering": "True",
        "toc-showcode": "False",
        "toc-showmarkdowntxt": "False",
        "toc-showtags": "False"
    },
    "nbformat": 4,
    "nbformat_minor": 5,
    "cells": [
        {
            "cell_type": "markdown",
            "source": [
                "<p style=\"font-weight:bold;\"> <span style=\"font-size: 36px\"> Initialize Data </span> </p>"
            ]
        },
        {
            "cell_type": "code",
            "source": [
                "#!import \"../ifrs17/Import/Importers\"",
                "\n//#!import \"//ifrs17/dev/Import/Importers\" "
            ]
        },
        {
            "cell_type": "code",
            "source": [
                "#!import \"../ifrs17/CalculationEngine\""
            ]
        },
        {
            "cell_type": "markdown",
            "source": [
                "---"
            ]
        },
        {
            "cell_type": "code",
            "source": [
                "// not working because enums are not supported (also this requires the excel cells format to be tuned adequately)",
                "\n//await Domain.GenerateFromFile(\"Dimensions.xlsx\").ExecuteAsync()"
            ]
        },
        {
            "cell_type": "code",
            "source": [
                "/*",
                "\nvar domain = Domain.CreateDomain(\"Dimension\")",
                "\n                .WithType<Novelty>()            .WithType<AocType>()                    .WithType<PnlVariableType>()            .WithType<AocConfiguration>()",
                "\n                .WithType<PvAmountType>()       .WithType<DeferrableAmountType>()       .WithType<CalculationType>()            .WithType<RiskDriver>()",
                "\n                .WithType<EconomicBasis>()      .WithType<EstimateType>()               .WithType<ValuationApproach>()          .WithType<LineOfBusiness>()",
                "\n                .WithType<OciType>()            .WithType<LiabilityType>()              .WithType<Profitability>()              .WithType<Currency>()",
                "\n                .WithType<ReportingNode>()      .WithType<Partner>()                    .WithType<CreditRiskRating>()           .WithType<Scenario>()",
                "\n                .WithType<ProjectionConfiguration>()    ",
                "\n                .WithType<PartitionByReportingNode>()            // TODO: automatize partitions",
                "\n                .WithType<PartitionByReportingNodeAndPeriod>()   // TODO: not working cause the name is too long for excel",
                "\n                .ToDomain();",
                "\n*/"
            ]
        },
        {
            "cell_type": "code",
            "source": [
                "// not usable at the moment for the reason outlined above",
                "\n//await Import.FromFile(\"Dimensions.xlsx\").WithDomain(domain).WithTarget(DataSource).ExecuteAsync()"
            ]
        },
        {
            "cell_type": "code",
            "source": [
                "// FEEDBACK: use domain (e.g. IFRS17.Import), see above",
                "\nawait Import.FromFile(\"Dimensions.xlsx\")",
                "\n            .WithType<Novelty>()                  .WithType<AocType>()                   .WithType<PnlVariableType>()            .WithType<AocConfiguration>()",
                "\n            .WithType<PvAmountType>()             .WithType<DeferrableAmountType>()      //.WithType<CalculationType>()            ",
                "\n            .WithType<RiskDriver>()",
                "\n            .WithType<EconomicBasis>()            .WithType<EstimateType>()              .WithType<ValuationApproach>()          .WithType<LineOfBusiness>()",
                "\n            .WithType<OciType>()                  .WithType<LiabilityType>()             .WithType<Profitability>()              .WithType<Currency>()",
                "\n            .WithType<ReportingNode>()            .WithType<Partner>()                   .WithType<CreditRiskRating>()           .WithType<Scenario>()",
                "\n            .WithType<ProjectionConfiguration>()",
                "\n            .WithType<PartitionByReportingNode>()                                                            // TODO: automatize partitions",
                "\n            .WithType<PartitionByReportingNodeAndPeriod>(\"PartitionByReportingNodeAndPeri\")                  // TODO: ugly",
                "\n            .WithTarget(DataSource)",
                "\n            .ExecuteAsync()"
            ]
        },
        {
            "cell_type": "code",
            "source": [
                "await Import.FromFile(\"DataNodes.xlsx\").WithFormat(\"DataNode\").WithTarget(DataSource).ExecuteAsync()"
            ]
        },
        {
            "cell_type": "code",
            "source": [
                "// TODO: set the imported DataNodes to Active by default",
                "\n//await UploadDataNodeStateAsync(\"DataNodeStates.csv\")"
            ]
        },
        {
            "cell_type": "code",
            "source": [
                "// TODO: 1. map template not working, 2. set default values",
                "\n//await UploadDataNodeParameterAsync(\"DataNodeParameters.csv\")"
            ]
        },
        {
            "cell_type": "code",
            "source": [
                ""
            ]
        },
        {
            "cell_type": "code",
            "source": [
                ""
            ]
        }
    ]
}