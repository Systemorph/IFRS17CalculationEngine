{
    "metadata": {
        "authors": [],
        "kernelspec": {
            "display_name": "Formula Framework",
            "language": "C#",
            "name": "C#"
        },
        "language_info": {
            "file_extension": ".cs",
            "mimetype": "text/plain",
            "name": "C#"
        },
        "toc-autonumbering": "True",
        "toc-showcode": "False",
        "toc-showmarkdowntxt": "False",
        "toc-showtags": "False"
    },
    "nbformat": 4,
    "nbformat_minor": 5,
    "cells": [
        {
            "cell_type": "markdown",
            "source": [
                "<p style=\"font-weight:bold; font-size: 40px; color:#0171ff; padding-top: 50px; text-align:center\"> How to compute Present Values </p>"
            ]
        },
        {
            "cell_type": "markdown",
            "source": [
                "> IFRS 17 is a new accounting standard for insurance contracts. It is an economic accounting approach, replacing the nominal accounting of the previous standard IFRS 4, that is, the economic value of the insurance products is considered. The focus is on the liabilities of an insurance company, namely the insurance policies. ",
                "\n",
                "\n</p>"
            ]
        },
        {
            "cell_type": "markdown",
            "source": [
                "<br/>",
                "\n",
                "\nThis aim of this notebook is to illustrate the IFRS17 *Present Value* calculation using Systemorph Cloud Technology. Present Values are the amount of money that someone would pay in the present day for the contracts of the group up to their run off. The starting point are the so called *Nominal Cashflows*, which express the amounts of cash and cash equivalents being transferred into and out of a business. Cashflow values are **discounted** according to the *Yield Curve* provided as economic input in order to take into account the corresponding Interest Accretion, and the discounted figures are **cumulated** to find the **Present Values**. ",
                "\n",
                "\nThe IFRS17 standard prescribes that the accounting statements are based on the value of a group of insurance contracts at the beginning of the period (BoP), their development throughout the period, and the value at the end of the period (EoP). While the period is typically a quarter, the **Analysis of Change** from BoP to EoP per group of contract is made considering for each step the variation of the cashflow so as to enhance the readability of the value changes. To this aim it is necessary to **evaluate the Present Value difference** between each step, yielding the figures to be shown in the result table.",
                "\n",
                "\nThis process is pictorially represented in the flowchart below"
            ]
        },
        {
            "cell_type": "markdown",
            "source": [
                "<center><img src=\"./Images/flowchart.png\" width=\"35%\" style=\"float:center;\">"
            ]
        },
        {
            "cell_type": "markdown",
            "source": [
                "---",
                "\n",
                "\nImport the IFRS17 calculation engine:"
            ]
        },
        {
            "cell_type": "code",
            "source": [
                "#!eval-notebook \"CalculationEngine\"",
                "\n#!import \"//ifrs17/dev/CalculationEngine\""
            ]
        },
        {
            "cell_type": "markdown",
            "source": [
                "Initialize basic pre-configured dimensions that can be tuned to reflect for your company and business. Example of such dimensions are",
                "\n",
                "\n**Reporting Nodes**: hierarchical structure of the company, where the root is the *Group* level and the end nodes are the levels at which data is imported.",
                "\n",
                "\n**Data Nodes**: Grouping of (Re-)Insurance Contracts belonging to the same Portfolio, and defined by their Reporting Node, Scenario, Contractual Currency, FunctionalCurrency, LineOfBusiness, ValuationApproach, and OCI Type. ",
                "\n",
                "\n**Aoc Type**: the Analysis of Change steps used for accounting statements."
            ]
        },
        {
            "cell_type": "code",
            "source": [
                "#!eval-notebook \"InitializeData\""
            ]
        },
        {
            "cell_type": "markdown",
            "source": [
                "---"
            ]
        },
        {
            "cell_type": "markdown",
            "source": [
                "# Import"
            ]
        },
        {
            "cell_type": "markdown",
            "source": [
                "In the following code cells, the necessary data to start the IFRS calculator are being imported.",
                "\nAfter the standard dimensions and parameters are loaded, for the calculation of the Present Value ",
                "\none needs the economic input yield curves for the target period",
                "\nand the nominal cashflows for the desired group of contracts:",
                "\n",
                "\n**Yield Curve**: line that plots yields, i.e. interest rates. It depends on the given currency related to the target *Reporting Node*, and is imported on a yierly basis. The slope of the yield curve gives an idea of future interest rate changes and economic activity.",
                "\n",
                "\n**Nominal Cashflows**: they are the amounts of cash and cash equivalents that a company expects to transfer into and out of a business, without any adjustment. This is useful for anticipating future revenue and expenses.",
                "\n",
                "\nThe import process of these example spreadsheets can be completed by running the two cells below"
            ]
        },
        {
            "cell_type": "code",
            "source": [
                "await Import.FromFile(\"DataNodes_CH.xlsx\").WithFormat(\"DataNode\").WithTarget(DataSource).ExecuteAsync()"
            ]
        },
        {
            "cell_type": "code",
            "source": [
                "await Import.FromFile(\"DataNodes_DE.xlsx\").WithFormat(\"DataNode\").WithTarget(DataSource).ExecuteAsync()"
            ]
        },
        {
            "cell_type": "code",
            "source": [
                "await Import.FromFile(\"YieldCurve.xlsx\").WithType<YieldCurve>().WithTarget(DataSource).ExecuteAsync()"
            ]
        },
        {
            "cell_type": "code",
            "source": [
                "await Import.FromFile(\"Cashflows.xlsx\").WithFormat(\"Cashflow\").WithTarget(DataSource).ExecuteAsync()"
            ]
        },
        {
            "cell_type": "code",
            "source": [
                "await Import.FromFile(\"CF_CH_2021_12.xlsx\").WithFormat(\"Cashflow\").WithTarget(DataSource).ExecuteAsync()"
            ]
        },
        {
            "cell_type": "code",
            "source": [
                "await Import.FromFile(\"CF_DE_2021_12.xlsx\").WithFormat(\"Cashflow\").WithTarget(DataSource).ExecuteAsync()"
            ]
        },
        {
            "cell_type": "code",
            "source": [
                "await Import.FromFile(\"CF_DE_2022_12.xlsx\").WithFormat(\"Cashflow\").WithTarget(DataSource).ExecuteAsync()"
            ]
        },
        {
            "cell_type": "code",
            "source": [
                "Workspace.Reset(x => x.ResetInitializationRules());",
                "\nWorkspace.InitializeFrom(DataSource);"
            ]
        },
        {
            "cell_type": "code",
            "source": [
                "DataSource.Query<PartitionByReportingNodeAndPeriod>()"
            ]
        },
        {
            "cell_type": "code",
            "source": [
                "//await DataSource.Partition.SetAsync<PartitionByReportingNode>(null);",
                "\n//await Workspace.Partition.SetAsync<PartitionByReportingNode>(null);",
                "\nawait DataSource.Partition.SetAsync<PartitionByReportingNodeAndPeriod>(null);",
                "\nawait Workspace.Partition.SetAsync<PartitionByReportingNodeAndPeriod>(null);"
            ]
        },
        {
            "cell_type": "code",
            "source": [
                "(Workspace.Partition.GetCurrentPartitions(), DataSource.Partition.GetCurrentPartitions())"
            ]
        },
        {
            "cell_type": "code",
            "source": [
                "(DataSource.Query<RawVariable>().Select(x => x.Partition).Distinct().Count(), Workspace.Query<RawVariable>().Select(x => x.Partition).Distinct().Count())"
            ]
        },
        {
            "cell_type": "code",
            "source": [
                "(await Workspace.QueryReportVariablesAsync((2021, 12, \"CH\", null))).Count()"
            ]
        },
        {
            "cell_type": "markdown",
            "source": [
                "<br/><br/><br/><br/>",
                "\n",
                "\n<a id='present-value-report'></a>",
                "\n# Present Value Report"
            ]
        },
        {
            "cell_type": "markdown",
            "source": [
                "Present Value is today’s value of money you expect from future income and is calculated as the sum of future investment returns discounted at a specified level of rate of return expectation.",
                "\n",
                "\nThe change of the Present Value in the target period is analysed following the Analysis of Change method."
            ]
        },
        {
            "cell_type": "code",
            "source": [
                "var ifrs17 = new Ifrs17(Workspace, Scopes, Report);"
            ]
        },
        {
            "cell_type": "code",
            "source": [
                "var pv = ifrs17.PresentValues;"
            ]
        },
        {
            "cell_type": "code",
            "source": [
                "pv.ReportingNode = \"DE\";",
                "\npv.ReportingPeriod = (2022, 12);",
                "\npv.ColumnSlices = new[] {\"ReportingNode\", \"EstimateType\", \"AmountType\"};",
                "\npv.DataFilter = new[] {(\"EconomicBasis\", \"L\")};"
            ]
        },
        {
            "cell_type": "code",
            "source": [
                "await pv.ToReportAsync"
            ]
        },
        {
            "cell_type": "markdown",
            "source": [
                "<br/><br/><br/><br/><br/><br/><br/><br/><br/><br/><br/><br/><br/><br/><br/>",
                "\n",
                "\n# View imported Data"
            ]
        },
        {
            "cell_type": "markdown",
            "source": [
                "Systemorph notebook technology excels in analyse on the fly the imported data. In this section the newly imported Yield Curves and nominal cashflows can be analysed."
            ]
        },
        {
            "cell_type": "markdown",
            "source": [
                "**Imported Yield Curve**"
            ]
        },
        {
            "cell_type": "code",
            "source": [
                "var yieldCurves = await DataSource.Query<YieldCurve>().ToArrayAsync();"
            ]
        },
        {
            "cell_type": "code",
            "source": [
                "Report.ForObject(yieldCurves).WithOptionsForEconomicRates().ToLineChart()"
            ]
        },
        {
            "cell_type": "markdown",
            "source": [
                "**Imported Nominal Cashflows**"
            ]
        },
        {
            "cell_type": "code",
            "source": [
                "var nominals = (await DataSource.Query<RawVariable>().ToArrayAsync()).ToDataCube();"
            ]
        },
        {
            "cell_type": "code",
            "source": [
                "Report.ForDatacube(nominals).WithOptionsForNominalCashFlows().ToBarChart()"
            ]
        },
        {
            "cell_type": "markdown",
            "source": [
                "# Discounting and Cumulate"
            ]
        },
        {
            "cell_type": "markdown",
            "source": [
                "The list of **Amount Types** are retrieved from the Data Source"
            ]
        },
        {
            "cell_type": "code",
            "source": [
                "var amountTypes = await DataSource.Query<AmountType>().ToArrayAsync();"
            ]
        },
        {
            "cell_type": "markdown",
            "source": [
                "The **Yield Curve** associated to the target period and Group of Contract Reporting Node Currency is selected for the computation of the Discount rates",
                "\n",
                "\n\\begin{align}",
                "\n\\text{Discount}_i = \\big( 1 + \\text{YieldCurve}_i \\big) ^{-\\frac{1}{12}} ~.",
                "\n\\end{align}"
            ]
        },
        {
            "cell_type": "code",
            "source": [
                "var discountRates = ( from yc in yieldCurves.FirstOrDefault(x => x.Currency == \"CHF\").Values select Math.Pow((1 + yc),( - 1.0 / 12.0 )) ).ToArray();"
            ]
        },
        {
            "cell_type": "markdown",
            "source": [
                "The Cumulated Discounted Cashflow ($\\text{CDC}$) is defined by the following recursive formulas",
                "\n",
                "\n$$",
                "\n\\text{CDC}_t = \\left\\{",
                "\n\\begin{array}{cl}",
                "\n\\text{Nominal}_t + \\text{CDC}_{t+1} \\cdot {\\text{Valid Discount}_{\\frac{t}{12}}} ~, & \\text{if Period Type is Beginning of Period} \\\\",
                "\n\\big( \\text{Nominal}_t + \\text{CDC}_{t+1} \\big) \\cdot {\\text{Valid Discount}_{\\frac{t}{12}}} ~, & \\text{if Period Type is End of Period}",
                "\n\\end{array}",
                "\n\\right.",
                "\n$$",
                "\n",
                "\nwhere the Period Type depends on the given cashflow Amount Type. "
            ]
        },
        {
            "cell_type": "markdown",
            "source": [
                "In the following, the premiums are retrieved from the nominals **Data Cube** through a simple Filter. ",
                "\nAdditionally, among the list of premiums provided, we select only the cashflows for the Assumption Update (AU) and Experience Variance (EV) steps."
            ]
        },
        {
            "cell_type": "markdown",
            "source": [
                "The discount and cumulation operation can be performed on the resulting Data Cube through the method <code>ComputeDiscountAndCumulateAsync</code> provided by the solution. We focus on the Assumption Update step"
            ]
        },
        {
            "cell_type": "code",
            "source": [
                "var premiumsAU = nominals.Filter((\"AmountType\", \"PR\"),(\"AocType\", \"AU\"));"
            ]
        },
        {
            "cell_type": "code",
            "source": [
                "var premiumsAU_CD = premiumsAU.ComputeDiscountAndCumulate( discountRates, amountTypes );"
            ]
        },
        {
            "cell_type": "markdown",
            "source": [
                "and on the Experience Variance step"
            ]
        },
        {
            "cell_type": "code",
            "source": [
                "var premiumsEV = nominals.Filter((\"AmountType\", \"PR\"),(\"AocType\", \"EV\"));"
            ]
        },
        {
            "cell_type": "code",
            "source": [
                "var premiumsEV_CD = premiumsEV.ComputeDiscountAndCumulate( discountRates, amountTypes );"
            ]
        },
        {
            "cell_type": "markdown",
            "source": [
                "# Evaluating the Delta for a given step"
            ]
        },
        {
            "cell_type": "code",
            "source": [
                "var premiums_Delta_EV_AU = (premiumsEV_CD - premiumsAU_CD).Aggregate();"
            ]
        },
        {
            "cell_type": "markdown",
            "source": [
                "The contribution to the Present Value related to the Experience Variance AoC step, is given by the th element of the Values array, ",
                "\nwhich corresponds to the value at the EOP of the current quarter, that is, the BOP of the next one"
            ]
        },
        {
            "cell_type": "code",
            "source": [
                "premiums_Delta_EV_AU.Values[3]"
            ]
        },
        {
            "cell_type": "markdown",
            "source": [
                "This Delta Present Value can then be compared with the value provided in the [reporting table](#present-value-report). "
            ]
        }
    ]
}