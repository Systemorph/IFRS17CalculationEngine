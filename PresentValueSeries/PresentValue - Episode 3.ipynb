{
    "metadata": {
        "authors": [],
        "kernelspec": {
            "display_name": "Formula Framework",
            "language": "C#",
            "name": "C#"
        },
        "language_info": {
            "file_extension": ".cs",
            "mimetype": "text/plain",
            "name": "C#"
        },
        "toc-autonumbering": "True",
        "toc-showcode": "False",
        "toc-showmarkdowntxt": "False",
        "toc-showtags": "False"
    },
    "nbformat": 4,
    "nbformat_minor": 5,
    "cells": [
        {
            "cell_type": "markdown",
            "source": [
                "<p style=\"font-weight:bold; font-size: 40px; color:#0171ff; padding-top: 50px; text-align:center\"> How to compute Present Values </p>"
            ],
            "metadata": {},
            "execution_count": 0,
            "outputs": []
        },
        {
            "cell_type": "markdown",
            "source": [
                "> IFRS 17 is a new accounting standard for insurance contracts. It is an economic accounting approach, replacing the nominal accounting of the previous standard IFRS 4, that is, the economic value of the insurance products is considered. The focus is on the liabilities of an insurance company, namely the insurance policies. ",
                "\n",
                "\n</p>"
            ],
            "metadata": {},
            "execution_count": 0,
            "outputs": []
        },
        {
            "cell_type": "markdown",
            "source": [
                "<br/>",
                "\n",
                "\nThe aim of this notebook is to illustrate the IFRS 17 *Present Value* calculation using Systemorph Cloud Technology. Present Values are the amount of money that someone would pay in the present day for the contracts of the group up to their run off. The starting point are the so called *Nominal Cash flows*, which express the amounts of cash and cash equivalents being transferred into and out of a business. Cash flow values are **discounted** according to the *Yield Curve* provided as economic input in order to take into account the corresponding Interest Accretion, and the discounted figures are **cumulated** to find the **Present Values**. ",
                "\n",
                "\nThe IFRS 17 standard prescribes that the accounting statements are based on the value of a group of insurance contracts at the beginning of the period (BoP), their development throughout the period, and the value at the end of the period (EoP). While the period is typically a quarter, the **Analysis of Change** (AoC) from BoP to EoP per group of contract is made considering for each step the variation of the cash flow so as to enhance the readability of the value changes. To this aim it is necessary to **evaluate the Present Value difference** (or delta) between each step, yielding the figures shown in the resulting report.",
                "\n",
                "\nThis process is pictorially represented in the flowchart below"
            ],
            "metadata": {},
            "execution_count": 0,
            "outputs": []
        },
        {
            "cell_type": "markdown",
            "source": [
                "<center><img src=\"https://stacdnsmcwe.blob.core.windows.net/content/IFRS17CalculationEngine/Images/PresentValueOfCashFlow/Flowchart.png\" width=\"40%\" style=\"float:center;\">"
            ],
            "metadata": {},
            "execution_count": 0,
            "outputs": []
        },
        {
            "cell_type": "markdown",
            "source": [
                "---",
                "\n",
                "\nImport the IFRS 17 calculation engine:"
            ],
            "metadata": {},
            "execution_count": 0,
            "outputs": []
        },
        {
            "cell_type": "code",
            "source": [
                "#!import \"//ifrs17/v1.0.0/CalculationEngine\""
            ],
            "metadata": {},
            "execution_count": 0,
            "outputs": []
        },
        {
            "cell_type": "markdown",
            "source": [
                "Initialize basic pre-configured dimensions that can be tuned to reflect for your company and business. Example of such dimensions are",
                "\n",
                "\n**Reporting Nodes**: hierarchical structure of the company, where the root is the *Group* level and the end nodes are the levels at which data is imported.",
                "\n",
                "\n**Data Nodes**: Grouping of (Re-)Insurance Contracts belonging to the same Portfolio, and defined by their Reporting Node, Scenario, Contractual Currency, FunctionalCurrency, LineOfBusiness, ValuationApproach, and OCI Type. ",
                "\n",
                "\n**AoC Type**: the Analysis of Change steps used for accounting statements."
            ],
            "metadata": {},
            "execution_count": 0,
            "outputs": []
        },
        {
            "cell_type": "code",
            "source": [
                "#!eval-notebook \"InitializeData\""
            ],
            "metadata": {},
            "execution_count": 0,
            "outputs": []
        },
        {
            "cell_type": "markdown",
            "source": [
                "---"
            ],
            "metadata": {},
            "execution_count": 0,
            "outputs": []
        },
        {
            "cell_type": "markdown",
            "source": [
                "# Import"
            ],
            "metadata": {},
            "execution_count": 0,
            "outputs": []
        },
        {
            "cell_type": "markdown",
            "source": [
                "In the following code cells, the necessary data to start the IFRS calculator are being imported.",
                "\nAfter the standard dimensions and parameters are loaded, for the calculation of the Present Value ",
                "\none needs the economic input yield curves for the target period",
                "\nand the nominal cash flows for the desired group of contracts:",
                "\n",
                "\n**Yield Curve**: line that plots yields, i.e. interest rates. It depends on the given currency related to the target *Reporting Node*, and is imported on a yierly basis. The slope of the yield curve gives an idea of future interest rate changes and economic activity.",
                "\n",
                "\n**Nominal Cash flows**: they are the amounts of cash and cash equivalents that a company expects to transfer into and out of a business, without any adjustment. This is useful for anticipating future revenue and expenses.",
                "\n",
                "\nThe import process of these example spreadsheets can be completed by running the two cells below"
            ],
            "metadata": {},
            "execution_count": 0,
            "outputs": []
        },
        {
            "cell_type": "code",
            "source": [
                "await Import.FromFile(\"DataNodes_CH.xlsx\")",
                "\n            .WithFormat(\"DataNode\")",
                "\n            .WithTarget(DataSource)",
                "\n            .ExecuteWithStoreActivityAsync(Session, DataSource, DataSetReader)"
            ],
            "metadata": {},
            "execution_count": 0,
            "outputs": []
        },
        {
            "cell_type": "code",
            "source": [
                "await Import.FromFile(\"DataNodes_DE.xlsx\")",
                "\n            .WithFormat(\"DataNode\")",
                "\n            .WithTarget(DataSource)",
                "\n            .ExecuteWithStoreActivityAsync(Session, DataSource, DataSetReader)"
            ],
            "metadata": {},
            "execution_count": 0,
            "outputs": []
        },
        {
            "cell_type": "code",
            "source": [
                "await Import.FromFile(\"YieldCurve.xlsx\")",
                "\n            .WithType<YieldCurve>()",
                "\n            .WithTarget(DataSource)",
                "\n            .ExecuteWithStoreActivityAsync(Session, DataSource, DataSetReader)"
            ],
            "metadata": {},
            "execution_count": 0,
            "outputs": []
        },
        {
            "cell_type": "code",
            "source": [
                "await Import.FromFile(\"Cashflows.xlsx\")",
                "\n            .WithFormat(\"Cashflow\")",
                "\n            .WithTarget(DataSource)",
                "\n            .ExecuteWithStoreActivityAsync(Session, DataSource, DataSetReader)"
            ],
            "metadata": {},
            "execution_count": 0,
            "outputs": []
        },
        {
            "cell_type": "code",
            "source": [
                "await Import.FromFile(\"CF_CH_2021_12.xlsx\")",
                "\n            .WithFormat(\"Cashflow\")",
                "\n            .WithTarget(DataSource)",
                "\n            .ExecuteWithStoreActivityAsync(Session, DataSource, DataSetReader)"
            ],
            "metadata": {},
            "execution_count": 0,
            "outputs": []
        },
        {
            "cell_type": "code",
            "source": [
                "await Import.FromFile(\"CF_DE_2021_12.xlsx\")",
                "\n            .WithFormat(\"Cashflow\")",
                "\n            .WithTarget(DataSource)",
                "\n            .ExecuteWithStoreActivityAsync(Session, DataSource, DataSetReader)"
            ],
            "metadata": {},
            "execution_count": 0,
            "outputs": []
        },
        {
            "cell_type": "code",
            "source": [
                "await Import.FromFile(\"CF_DE_2022_12.xlsx\")",
                "\n            .WithFormat(\"Cashflow\")",
                "\n            .WithTarget(DataSource)",
                "\n            .ExecuteWithStoreActivityAsync(Session, DataSource, DataSetReader)"
            ],
            "metadata": {},
            "execution_count": 0,
            "outputs": []
        },
        {
            "cell_type": "code",
            "source": [
                "ifrs17.Reset(Workspace)"
            ],
            "metadata": {},
            "execution_count": 0,
            "outputs": []
        },
        {
            "cell_type": "markdown",
            "source": [
                "<br/><br/><br/><br/>",
                "\n",
                "\n<a id='present-value-report'></a>",
                "\n# Present Value Report"
            ],
            "metadata": {},
            "execution_count": 0,
            "outputs": []
        },
        {
            "cell_type": "markdown",
            "source": [
                "Present Value is today’s value of money you expect from future income and is calculated as the sum of future investment returns discounted at a specified level of rate of return expectation.",
                "\n",
                "\nThe change of the Present Value in the target period is analysed following the Analysis of Change method."
            ],
            "metadata": {},
            "execution_count": 0,
            "outputs": []
        },
        {
            "cell_type": "code",
            "source": [
                "var pv = ifrs17.PresentValues;"
            ],
            "metadata": {},
            "execution_count": 0,
            "outputs": []
        },
        {
            "cell_type": "code",
            "source": [
                "pv.ReportingNode = \"DE\";",
                "\npv.ReportingPeriod = (2022, 12);",
                "\npv.ColumnSlices = new[] {\"ReportingNode\", \"EstimateType\", \"AmountType\"};",
                "\npv.DataFilter = new[] {(\"EconomicBasis\", \"L\")};"
            ],
            "metadata": {},
            "execution_count": 0,
            "outputs": []
        },
        {
            "cell_type": "code",
            "source": [
                "await pv.ToReportAsync"
            ],
            "metadata": {},
            "execution_count": 0,
            "outputs": []
        },
        {
            "cell_type": "markdown",
            "source": [
                "<br/><br/><br/><br/><br/><br/><br/><br/><br/><br/><br/><br/><br/><br/><br/>",
                "\n",
                "\n# View imported Data"
            ],
            "metadata": {},
            "execution_count": 0,
            "outputs": []
        },
        {
            "cell_type": "markdown",
            "source": [
                "Systemorph notebook technology excels in analyse on the fly the imported data. In this section the newly imported Yield Curves and nominal cash flows can be analysed."
            ],
            "metadata": {},
            "execution_count": 0,
            "outputs": []
        },
        {
            "cell_type": "markdown",
            "source": [
                "**Imported Yield Curve**"
            ],
            "metadata": {},
            "execution_count": 0,
            "outputs": []
        },
        {
            "cell_type": "code",
            "source": [
                "var yieldCurves = await DataSource.Query<YieldCurve>().ToArrayAsync();"
            ],
            "metadata": {},
            "execution_count": 0,
            "outputs": []
        },
        {
            "cell_type": "code",
            "source": [
                "await Report.ForDataCube(yieldCurves.ToReportType()).SliceRowsBy(\"Currency\").SliceColumnsBy(\"Index\").ToLineChart().ExecuteAsync() with { Width = 1000 }"
            ],
            "metadata": {},
            "execution_count": 0,
            "outputs": []
        },
        {
            "cell_type": "markdown",
            "source": [
                "**Imported Nominal Cash flows**"
            ],
            "metadata": {},
            "execution_count": 0,
            "outputs": []
        },
        {
            "cell_type": "code",
            "source": [
                "await DataSource.Partition.SetAsync<PartitionByReportingNodeAndPeriod>( new {ReportingNode = pv.ReportingNode, Year = pv.ReportingPeriod.Year, Month = pv.ReportingPeriod.Month, Scenario = (string)null} );"
            ],
            "metadata": {},
            "execution_count": 0,
            "outputs": []
        },
        {
            "cell_type": "code",
            "source": [
                "var nominals = (await DataSource.Query<RawVariable>().ToArrayAsync()).ToDataCube();"
            ],
            "metadata": {},
            "execution_count": 0,
            "outputs": []
        },
        {
            "cell_type": "code",
            "source": [
                "await Report.ForDataCube(nominals.ToReportType()).SliceRowsBy(\"AmountType\",\"AocType\").SliceColumnsBy(\"Index\").WithQuerySource(Workspace).ToBarChart().ExecuteAsync()"
            ],
            "metadata": {},
            "execution_count": 0,
            "outputs": []
        },
        {
            "cell_type": "markdown",
            "source": [
                "# Discounting and Cumulate"
            ],
            "metadata": {},
            "execution_count": 0,
            "outputs": []
        },
        {
            "cell_type": "markdown",
            "source": [
                "The list of **Amount Types** are retrieved from the Data Source"
            ],
            "metadata": {},
            "execution_count": 0,
            "outputs": []
        },
        {
            "cell_type": "code",
            "source": [
                "var amountTypes = await DataSource.Query<AmountType>().ToArrayAsync();"
            ],
            "metadata": {},
            "execution_count": 0,
            "outputs": []
        },
        {
            "cell_type": "markdown",
            "source": [
                "The **Yield Curve** associated to the target Group of Contract Reporting Node Currency is selected for the computation of the Discount rates",
                "\n",
                "\n$$",
                "\n\\text{Discount}_i = \\big( 1 + \\text{YieldCurve}_i \\big) ^{-\\frac{1}{12}} ~.",
                "\n$$"
            ],
            "metadata": {},
            "execution_count": 0,
            "outputs": []
        },
        {
            "cell_type": "code",
            "source": [
                "var discountRates = ( from yc in yieldCurves.FirstOrDefault(x => x.Currency == \"CHF\").Values select Math.Pow((1 + yc),( - 1.0 / 12.0 )) ).ToArray();"
            ],
            "metadata": {},
            "execution_count": 0,
            "outputs": []
        },
        {
            "cell_type": "markdown",
            "source": [
                "Before discounting the cash flows, it is necessary to match the discount rates starting period with the target period selected in the [report](#present-value-report). ",
                "\nSince the imported Yearly Yield Curve starts from the year 2021, we can simply skip the past elements with the aid of the following cell "
            ],
            "metadata": {},
            "execution_count": 0,
            "outputs": []
        },
        {
            "cell_type": "code",
            "source": [
                "discountRates = discountRates.Skip(pv.ReportingPeriod.Year - 2021).ToArray();"
            ],
            "metadata": {},
            "execution_count": 0,
            "outputs": []
        },
        {
            "cell_type": "markdown",
            "source": [
                "The Cumulated Discounted Cash flow ($\\text{CDC}$) is defined by the following recursive formulas",
                "\n",
                "\n$$",
                "\n\\text{CDC}_t = \\left\\{",
                "\n\\begin{array}{cl}",
                "\n\\text{Nominal}_t + \\text{CDC}_{t+1} \\cdot {\\text{Valid Discount}_{\\frac{t}{12}}} ~, & \\text{if Period Type is Beginning of Period} \\\\",
                "\n\\big( \\text{Nominal}_t + \\text{CDC}_{t+1} \\big) \\cdot {\\text{Valid Discount}_{\\frac{t}{12}}} ~, & \\text{if Period Type is End of Period}",
                "\n\\end{array}",
                "\n\\right.",
                "\n$$",
                "\n",
                "\nwhere the Period Type depends on the given cash flow Amount Type. "
            ],
            "metadata": {},
            "execution_count": 0,
            "outputs": []
        },
        {
            "cell_type": "markdown",
            "source": [
                "In the following, the premiums are retrieved from the nominals **Data Cube** through a simple Filter. ",
                "\nAdditionally, among the list of premiums provided, we select only the cash flows for the Assumption Update (AU) and Experience Variance (EV) steps."
            ],
            "metadata": {},
            "execution_count": 0,
            "outputs": []
        },
        {
            "cell_type": "markdown",
            "source": [
                "The discount and cumulation operation can be performed on the resulting Data Cube through the method <code>ComputeDiscountAndCumulateAsync</code> provided by the solution. We focus on the Assumption Update step"
            ],
            "metadata": {},
            "execution_count": 0,
            "outputs": []
        },
        {
            "cell_type": "code",
            "source": [
                "var premiumsAU = nominals.Filter((\"AmountType\", \"PR\"),(\"AocType\", \"AU\"));"
            ],
            "metadata": {},
            "execution_count": 0,
            "outputs": []
        },
        {
            "cell_type": "code",
            "source": [
                "var premiumsAU_CDC = premiumsAU.ComputeDiscountAndCumulate( discountRates, amountTypes );"
            ],
            "metadata": {},
            "execution_count": 0,
            "outputs": []
        },
        {
            "cell_type": "markdown",
            "source": [
                "and on the Experience Variance step"
            ],
            "metadata": {},
            "execution_count": 0,
            "outputs": []
        },
        {
            "cell_type": "code",
            "source": [
                "var premiumsEV = nominals.Filter((\"AmountType\", \"PR\"),(\"AocType\", \"EV\"));"
            ],
            "metadata": {},
            "execution_count": 0,
            "outputs": []
        },
        {
            "cell_type": "code",
            "source": [
                "var premiumsEV_CDC = premiumsEV.ComputeDiscountAndCumulate( discountRates, amountTypes );"
            ],
            "metadata": {},
            "execution_count": 0,
            "outputs": []
        },
        {
            "cell_type": "markdown",
            "source": [
                "# Evaluating the Delta for a given step"
            ],
            "metadata": {},
            "execution_count": 0,
            "outputs": []
        },
        {
            "cell_type": "code",
            "source": [
                "var premiums_Delta_EV_AU = (premiumsEV_CDC - premiumsAU_CDC).Aggregate();"
            ],
            "metadata": {},
            "execution_count": 0,
            "outputs": []
        },
        {
            "cell_type": "markdown",
            "source": [
                "The contribution to the Present Value related to the Experience Variance AoC Step, is given by the n-th element of the Values array, ",
                "\nwith $n$ equal to the target Month. This element corresponds to the value at the EOP of the current quarter, that is, the BOP of the next one"
            ],
            "metadata": {},
            "execution_count": 0,
            "outputs": []
        },
        {
            "cell_type": "code",
            "source": [
                "-premiums_Delta_EV_AU.Values[12]"
            ],
            "metadata": {},
            "execution_count": 0,
            "outputs": []
        },
        {
            "cell_type": "markdown",
            "source": [
                "This Delta Present Value can then be compared with the value provided in the [reporting table](#present-value-report). ",
                "\n",
                "\nNote that the minus sign is needed to reconcile with the reserve view of the reports. "
            ],
            "metadata": {},
            "execution_count": 0,
            "outputs": []
        },
        {
            "cell_type": "markdown",
            "source": [
                "---"
            ],
            "metadata": {},
            "execution_count": 0,
            "outputs": []
        }
    ]
}