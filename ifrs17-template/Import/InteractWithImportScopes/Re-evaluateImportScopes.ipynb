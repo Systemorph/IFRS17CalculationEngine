{
    "metadata": {
        "authors": [],
        "id": "k8iYfSqYS0a-X8_axYbvhQ",
        "kernelspec": {
            "display_name": "Formula Framework",
            "language": "C#",
            "name": "C#"
        },
        "language_info": {
            "file_extension": ".cs",
            "mimetype": "text/plain",
            "name": "C#"
        }
    },
    "nbformat": 4,
    "nbformat_minor": 5,
    "cells": [
        {
            "cell_type": "markdown",
            "source": [
                "<p style=\"font-weight:bold;\"> <span style=\"font-size: 36px\"> Interact With Import Scope Calculation</span> </p>",
                "\n",
                "\n<br><br>",
                "\nAfter successfully loading the parsed and computed data in the dataSource, the import scopes with for a specific partition can be re-evaluated in this notebook. ",
                "\nThe import scopes can then be displayed, examined and used for further calculations."
            ],
            "metadata": {},
            "execution_count": 0,
            "outputs": []
        },
        {
            "cell_type": "code",
            "source": [
                "#!eval-notebook \"../CloseImportTemplate\""
            ],
            "metadata": {},
            "execution_count": 0,
            "outputs": []
        },
        {
            "cell_type": "markdown",
            "source": [
                "# Args"
            ],
            "metadata": {},
            "execution_count": 0,
            "outputs": []
        },
        {
            "cell_type": "code",
            "source": [
                "var reportingNode = \"CH\";",
                "\nvar year = 2020;",
                "\nvar month = 12;",
                "\nvar importFormat = ImportFormats.Cashflow;",
                "\nvar scenario = (string)null;",
                "\n",
                "\nImportArgs args = new ImportArgs(reportingNode, year, month, default(Periodicity), scenario, importFormat);",
                "\nargs"
            ],
            "metadata": {},
            "execution_count": 0,
            "outputs": []
        },
        {
            "cell_type": "code",
            "source": [
                "Workspace.Initialize(x => x.FromSource(DataSource).DisableInitialization<RawVariable>().DisableInitialization<IfrsVariable>());"
            ],
            "metadata": {},
            "execution_count": 0,
            "outputs": []
        },
        {
            "cell_type": "markdown",
            "source": [
                "# EstimateType to load"
            ],
            "metadata": {},
            "execution_count": 0,
            "outputs": []
        },
        {
            "cell_type": "code",
            "source": [
                "var estimateTypes = (await DataSource.Query<EstimateType>().ToArrayAsync());"
            ],
            "metadata": {},
            "execution_count": 0,
            "outputs": []
        },
        {
            "cell_type": "code",
            "source": [
                "var estimateTypesByImportFormat = new Dictionary<string, IEnumerable<string>>(); ",
                "\nestimateTypesByImportFormat[ImportFormats.Actual] = estimateTypes.Where(et => (et.InputSource == (InputSource)2 || et.InputSource == (InputSource)3) && ",
                "\n                                                        et.SystemName != EstimateTypes.APA)",
                "\n                                            .Select(x => x.SystemName);",
                "\nestimateTypesByImportFormat[ImportFormats.Cashflow] = estimateTypes.Where(et => et.InputSource == (InputSource)4 && ",
                "\n                                                        et.SystemName != EstimateTypes.BEPA && et.SystemName != EstimateTypes.F)",
                "\n                                            .Select(x => x.SystemName);",
                "\nestimateTypesByImportFormat[ImportFormats.Opening] = estimateTypes.Where(et => (et.InputSource == (InputSource)3 || et.InputSource == (InputSource)7) && ",
                "\n                                                        et.SystemName != \"PL\")",
                "\n                                            .Select(x => x.SystemName);",
                "\n",
                "\nestimateTypesByImportFormat"
            ],
            "metadata": {},
            "execution_count": 0,
            "outputs": []
        },
        {
            "cell_type": "markdown",
            "source": [
                "# Load variables to workspace"
            ],
            "metadata": {},
            "execution_count": 0,
            "outputs": []
        },
        {
            "cell_type": "code",
            "source": [
                "DataSource.Partition.GetCurrent()"
            ],
            "metadata": {},
            "execution_count": 0,
            "outputs": []
        },
        {
            "cell_type": "code",
            "source": [
                "await DataSource.Partition.SetAsync<PartitionByReportingNodeAndPeriod>(args);",
                "\nawait Workspace.Partition.SetAsync<PartitionByReportingNodeAndPeriod>(args);"
            ],
            "metadata": {},
            "execution_count": 0,
            "outputs": []
        },
        {
            "cell_type": "code",
            "source": [
                "switch (args.ImportFormat)",
                "\n{ ",
                "\n    case ImportFormats.Actual : ",
                "\n        await Workspace.UpdateAsync<IfrsVariable>(await DataSource.Query<IfrsVariable>().Where(x => estimateTypesByImportFormat[ImportFormats.Actual].Contains(x.EstimateType)).ToArrayAsync());",
                "\n        break;",
                "\n    case ImportFormats.Cashflow : ",
                "\n        await Workspace.UpdateAsync<RawVariable>(await DataSource.Query<RawVariable>().Where(x => estimateTypesByImportFormat[ImportFormats.Cashflow].Contains(x.EstimateType)).ToArrayAsync());",
                "\n        break;",
                "\n    default : ",
                "\n        await Workspace.UpdateAsync<IfrsVariable>(await DataSource.Query<IfrsVariable>().Where(x => estimateTypesByImportFormat[ImportFormats.Opening].Contains(x.EstimateType)).ToArrayAsync());",
                "\n        break;",
                "\n}"
            ],
            "metadata": {},
            "execution_count": 0,
            "outputs": []
        },
        {
            "cell_type": "markdown",
            "source": [
                "# Set up a copy of the DataSource"
            ],
            "metadata": {},
            "execution_count": 0,
            "outputs": []
        },
        {
            "cell_type": "code",
            "source": [
                "var customDataSource = Workspace.CreateNew();"
            ],
            "metadata": {},
            "execution_count": 0,
            "outputs": []
        },
        {
            "cell_type": "code",
            "source": [
                "customDataSource.Initialize(x => x.FromSource(DataSource).DisableInitialization<RawVariable>().DisableInitialization<IfrsVariable>());"
            ],
            "metadata": {},
            "execution_count": 0,
            "outputs": []
        },
        {
            "cell_type": "markdown",
            "source": [
                "# Construct ImportStorage"
            ],
            "metadata": {},
            "execution_count": 0,
            "outputs": []
        },
        {
            "cell_type": "code",
            "source": [
                "var storage = new ImportStorage(args, customDataSource, Workspace);",
                "\nawait storage.InitializeAsync();"
            ],
            "metadata": {},
            "execution_count": 0,
            "outputs": []
        },
        {
            "cell_type": "markdown",
            "source": [
                "# Create universe and Identities"
            ],
            "metadata": {},
            "execution_count": 0,
            "outputs": []
        },
        {
            "cell_type": "code",
            "source": [
                "var universe = Scopes.ForStorage(storage).ToScope<IModel>();",
                "\nvar identities = universe.GetScopes<GetIdentities>(storage.DataNodesByImportScope[ImportScope.Primary]).SelectMany(s => s.Identities);"
            ],
            "metadata": {},
            "execution_count": 0,
            "outputs": []
        },
        {
            "cell_type": "code",
            "source": [
                "var pvLocked = universe.GetScopes<PvLocked>(identities)",
                "\n                .SelectMany(x => x.PresentValues)",
                "\n                .Select(x => new {Value= x.Value, ",
                "\n                                  Id = x.Identity.Id, ",
                "\n                                  AmoutType = x.Identity.AmountType,",
                "\n                                  EstimateType = x.Identity.EstimateType,",
                "\n                                  AccidentYear = x.Identity.AccidentYear});",
                "\npvLocked"
            ],
            "metadata": {},
            "execution_count": 0,
            "outputs": []
        },
        {
            "cell_type": "code",
            "source": [
                ""
            ],
            "metadata": {},
            "execution_count": 0,
            "outputs": []
        }
    ]
}