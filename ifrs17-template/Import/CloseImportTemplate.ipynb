{
    "metadata": {
        "authors": [],
        "kernelspec": {
            "display_name": "Formula Framework",
            "language": "C#",
            "name": "C#"
        },
        "language_info": {
            "file_extension": ".cs",
            "mimetype": "text/plain",
            "name": "C#"
        }
    },
    "nbformat": 4,
    "nbformat_minor": 5,
    "cells": [
        {
            "cell_type": "markdown",
            "source": [
                "*Note: before configuring your data please refer to [Map Template](../Export/MapTemplate) Notebook.*"
            ],
            "metadata": {},
            "execution_count": 0,
            "outputs": []
        },
        {
            "cell_type": "markdown",
            "source": [
                "<p style=\"font-weight:bold;\"> <span style=\"font-size: 36px\"> Close Import Template</span> </p>"
            ],
            "metadata": {},
            "execution_count": 0,
            "outputs": []
        },
        {
            "cell_type": "markdown",
            "source": [
                "All imports are triggered via the <code>Import</code> command. Several options can be fluently appended to customize the import action:",
                "\n- <code>FromFile()</code> : accepts a string as input (eg. \"../Files/TransactionalData/Openings_CH_2020_12.csv\"). It corresponds the file to be imported complete with the path",
                "\n- <code>WithFormat()</code> : accepts a string as input (eg. \"Cashflow\" or \"Actual\"). It is used to trigger the desired import logic for the current file. Full list of avalaible ImportFormat can be found [here](https://portal.systemorph.cloud/project/ifrs17/env/v1.0.0/Constants/Consts#import-formats)",
                "\n- <code>WithFileStorage()</code> : defined the drive from where the input files is retrieved. In this example we use the project file storage (new files have to be uploaded into the project), other options are SharePoint and OneDrive. ",
                "\n- <code>WithTarget()</code> : target drive where the results are stored. In this example we use our in-memory set up",
                "\n"
            ],
            "metadata": {},
            "execution_count": 0,
            "outputs": []
        },
        {
            "cell_type": "markdown",
            "source": [
                "# Set up data and configuration",
                "\n",
                "\nThe data source is initialized and the whole IFRS 17 Calculation Engine code is compiled. "
            ],
            "metadata": {},
            "execution_count": 0,
            "outputs": []
        },
        {
            "cell_type": "markdown",
            "source": [
                "Choose to run the Close Import Template notebook either on top of the set of Systemorph data in memory or on top to the data present in the Database: ",
                "\n- #!eval-notebook \"../Database/Configure\" : connects to a physical Database",
                "\n- #!eval-notebook \"../Initialization/InitSystemorphToMemory\" : uses the in-memory set up",
                "\n",
                "\nWe use here the in-memory set up."
            ],
            "metadata": {},
            "execution_count": 0,
            "outputs": []
        },
        {
            "cell_type": "code",
            "source": [
                "#!eval-notebook \"../Initialization/InitSystemorphToMemory\""
            ],
            "metadata": {},
            "execution_count": 0,
            "outputs": []
        },
        {
            "cell_type": "markdown",
            "source": [
                "# DataNode and Parameters",
                "\n",
                "\nNew Data Nodes and Parameters are imported here.",
                "\n<br> To easily generate these files, please refer to the **Map Template** files exported [here](../Export/MapTemplate). Edit them at your wish and import them back into the solution through the following cells. ",
                "\n<br> For the **ImportFormat**, the following options are expected:",
                "\n- ImportFormats.DataNode : [Portfolios](https://portal.systemorph.cloud/project/ifrs17/env/v1.0.0/DataModel/DataStructure#portfolios) and [Group of Contracts](https://portal.systemorph.cloud/project/ifrs17/env/v1.0.0/DataModel/DataStructure#group-of-contracts)",
                "\n- ImportFormats.DataNodeState : the [state of a data node](https://portal.systemorph.cloud/project/ifrs17/env/v1.0.0/DataModel/DataStructure#data-node-state) can be either active or inactive.",
                "\n- ImportFormats.DataNodeParameter : parameters are described [here](https://portal.systemorph.cloud/project/ifrs17/env/v1.0.0/DataModel/DataStructure#data-node-parameters). For **Group of Insurance Contracts** a default [Premium Allocation factor](https://portal.systemorph.cloud/project/ifrs17/env/v1.0.0/Import/ImportScopeCalculation#experience-adjustment-on-premium) of 1 is applied if the parameter is not imported.",
                "\n"
            ],
            "metadata": {},
            "execution_count": 0,
            "outputs": []
        },
        {
            "cell_type": "code",
            "source": [
                "var pathToFile = \"../Files/DataNodes/DataNodes_CH.csv\";"
            ],
            "metadata": {},
            "execution_count": 0,
            "outputs": []
        },
        {
            "cell_type": "code",
            "source": [
                "var format = ImportFormats.DataNode;"
            ],
            "metadata": {},
            "execution_count": 0,
            "outputs": []
        },
        {
            "cell_type": "code",
            "source": [
                "await Import.FromFile(pathToFile)",
                "\n            .WithFormat(format)",
                "\n            .WithTarget(DataSource)",
                "\n            .ExecuteWithStoreActivityAsync(Session, DataSource, DataSetReader)"
            ],
            "metadata": {},
            "execution_count": 0,
            "outputs": []
        },
        {
            "cell_type": "markdown",
            "source": [
                "# Transactional Data",
                "\n",
                "\nTransactional data are imported here. ",
                "\n<br> For the **ImportFormat**, the following options are expected:",
                "\n- ImportFormats.Opening : for opening values in a Fair Value Approach",
                "\n- ImportFormats.Cashflow : nominal cash flows",
                "\n- ImportFormats.Actual : written actuals, payable and receivables. ",
                "\n- ImportFormats.SimpleValue : direct import of pre-calculated Present Value and Actual values for all reports - no pre-calculation at import is triggered, only at report level -",
                "\n",
                "\nThe results are visible in the [Report](../Report/Reports) notebook."
            ],
            "metadata": {},
            "execution_count": 0,
            "outputs": []
        },
        {
            "cell_type": "code",
            "source": [
                "var pathToFile = \"../Files/TransactionalData/Openings_CH_2020_12.csv\";"
            ],
            "metadata": {},
            "execution_count": 0,
            "outputs": []
        },
        {
            "cell_type": "code",
            "source": [
                "var format = ImportFormats.Opening;"
            ],
            "metadata": {},
            "execution_count": 0,
            "outputs": []
        },
        {
            "cell_type": "code",
            "source": [
                "await Import.FromFile(pathToFile)",
                "\n            .WithFormat(format)",
                "\n            .WithTarget(DataSource)",
                "\n            .ExecuteWithStoreActivityAsync(Session, DataSource, DataSetReader)"
            ],
            "metadata": {},
            "execution_count": 0,
            "outputs": []
        },
        {
            "cell_type": "markdown",
            "source": [
                "# Workspace reset"
            ],
            "metadata": {},
            "execution_count": 0,
            "outputs": []
        },
        {
            "cell_type": "code",
            "source": [
                "Workspace.Reset(x => x.ResetInitializationRules().ResetCurrentPartitions());",
                "\nawait DataSource.Partition.SetAsync<PartitionByReportingNode>(null);",
                "\nawait DataSource.Partition.SetAsync<PartitionByReportingNodeAndPeriod>(null);"
            ],
            "metadata": {},
            "execution_count": 0,
            "outputs": []
        }
    ]
}