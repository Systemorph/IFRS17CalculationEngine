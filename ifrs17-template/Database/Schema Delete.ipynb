{
    "metadata": {
        "authors": [],
        "id": "5eRSY38YIEezOQrFaki93g",
        "kernelspec": {
            "display_name": "Formula Framework",
            "language": "C#",
            "name": "C#"
        },
        "language_info": {
            "file_extension": ".cs",
            "mimetype": "text/plain",
            "name": "C#"
        }
    },
    "nbformat": 4,
    "nbformat_minor": 5,
    "cells": [
        {
            "cell_type": "code",
            "source": [
                "#!import \"PersonalConnection\""
            ],
            "metadata": {},
            "execution_count": 0,
            "outputs": []
        },
        {
            "cell_type": "code",
            "source": [
                "#r \"nuget:SqlConnection,1.0.4\""
            ],
            "metadata": {},
            "execution_count": 0,
            "outputs": []
        },
        {
            "cell_type": "code",
            "source": [
                "string[] split = connectionStringMsSql.Split(new char[] { '=', ':', ',', ';'  });",
                "\n",
                "\nstring serverName = split[2];",
                "\nstring database = split[5];",
                "\nstring userID = split[9];",
                "\nstring password = split[11];"
            ],
            "metadata": {},
            "execution_count": 0,
            "outputs": []
        },
        {
            "cell_type": "code",
            "source": [
                "using SQLConnection;",
                "\nusing System;",
                "\nusing System.Data.SqlClient;"
            ],
            "metadata": {},
            "execution_count": 0,
            "outputs": []
        },
        {
            "cell_type": "code",
            "source": [
                "string query = \"DECLARE @sql NVARCHAR(max)='' SELECT @sql += ' Drop table ' + QUOTENAME(TABLE_SCHEMA) + '.'+ QUOTENAME(TABLE_NAME) + '; 'FROM   INFORMATION_SCHEMA.TABLES WHERE  TABLE_TYPE = 'BASE TABLE' Exec Sp_executesql @sql\";"
            ],
            "metadata": {},
            "execution_count": 0,
            "outputs": []
        },
        {
            "cell_type": "code",
            "source": [
                "int rowAffect = SqlServer.AzureSqlConnection(serverName, database, userID, password, query);"
            ],
            "metadata": {},
            "execution_count": 0,
            "outputs": []
        }
    ]
}