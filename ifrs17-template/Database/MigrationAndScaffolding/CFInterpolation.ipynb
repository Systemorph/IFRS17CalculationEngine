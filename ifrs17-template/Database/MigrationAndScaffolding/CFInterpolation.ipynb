{
    "metadata": {
        "authors": [],
        "id": "_miy4m8XeUyiykDsXoQrcA",
        "kernelspec": {
            "display_name": "Formula Framework",
            "language": "C#",
            "name": "C#"
        },
        "language_info": {
            "file_extension": ".cs",
            "mimetype": "text/plain",
            "name": "C#"
        }
    },
    "nbformat": 4,
    "nbformat_minor": 5,
    "cells": [
        {
            "cell_type": "markdown",
            "source": [
                "<p style=\"font-weight:bold;\"> <span style=\"font-size: 36px\"> Cashflow Interpolation Migration Code </span> </p>"
            ],
            "metadata": {},
            "execution_count": 0,
            "outputs": []
        },
        {
            "cell_type": "markdown",
            "source": [
                "This copy contains the copy of the cashflow interpolation migration code. It is a necessary input to execute the second migration flow. "
            ],
            "metadata": {},
            "execution_count": 0,
            "outputs": []
        },
        {
            "cell_type": "code",
            "source": [
                "[Migration(\"20230412081831_CFInterpolationTypes\")]",
                "\npublic class CFInterpolationTypes : Migration",
                "\n{",
                "\n    protected override void Up(MigrationBuilder migrationBuilder)",
                "\n    {",
                "\n        migrationBuilder.AddColumn<int>(",
                "\n            name: \"CashFlowPeriodicity\",",
                "\n            table: \"DataNodeParameter\",",
                "\n            type: \"int\",",
                "\n            nullable: true);",
                "\n",
                "\n        migrationBuilder.AddColumn<int>(",
                "\n            name: \"InterpolationMethod\",",
                "\n            table: \"DataNodeParameter\",",
                "\n            type: \"int\",",
                "\n            nullable: true);",
                "\n    }",
                "\n",
                "\n    protected override void Down(MigrationBuilder migrationBuilder)",
                "\n    {",
                "\n        migrationBuilder.DropColumn(",
                "\n            name: \"CashFlowPeriodicity\",",
                "\n            table: \"DataNodeParameter\");",
                "\n",
                "\n        migrationBuilder.DropColumn(",
                "\n            name: \"InterpolationMethod\",",
                "\n            table: \"DataNodeParameter\");",
                "\n    }",
                "\n}",
                "\n"
            ],
            "metadata": {},
            "execution_count": 0,
            "outputs": []
        }
    ]
}