{
    "metadata": {
        "authors": [],
        "kernelspec": {
            "display_name": "Formula Framework",
            "language": "C#",
            "name": "C#"
        },
        "language_info": {
            "file_extension": ".cs",
            "mimetype": "text/plain",
            "name": "C#"
        }
    },
    "nbformat": 4,
    "nbformat_minor": 5,
    "cells": [
        {
            "cell_type": "code",
            "source": [
                "#!import \"../../Constants/CalculationEngine\"",
                "\n#!eval calculationEngine"
            ],
            "metadata": {},
            "execution_count": 0,
            "outputs": []
        },
        {
            "cell_type": "code",
            "source": [
                "var allTypes = AppDomain.CurrentDomain.GetAssemblies().SelectMany(a => a.GetTypes())",
                "\n    .Where(t => (t.IsAssignableTo(typeof(IKeyed)) || t.IsAssignableTo(typeof(KeyedDimension)))",
                "\n                && !t.IsInterface",
                "\n                && !t.IsAbstract",
                "\n    );"
            ],
            "metadata": {},
            "execution_count": 0,
            "outputs": []
        },
        {
            "cell_type": "code",
            "source": [
                "var allTypesFiltered = allTypes",
                "\n    .GroupBy(x => x.Name, (k, v) => v.OrderBy(y => Int32.Parse(y.DeclaringType.Name.Substring(11))).Last())",
                "\n    .ToArray();"
            ],
            "metadata": {},
            "execution_count": 0,
            "outputs": []
        },
        {
            "cell_type": "code",
            "source": [
                "allTypesFiltered"
            ],
            "metadata": {},
            "execution_count": 0,
            "outputs": []
        },
        {
            "cell_type": "code",
            "source": [
                "allTypesFiltered.Where((_, i) => i == 0).ToArray()"
            ],
            "metadata": {},
            "execution_count": 0,
            "outputs": []
        },
        {
            "cell_type": "code",
            "source": [
                "public record AmountType2 : KeyedOrderedDimensionWithExternalId, IHierarchicalDimension",
                "\n{",
                "\n    [Dimension(typeof(AmountType))]",
                "\n    public string Parent { get; init; }",
                "\n    ",
                "\n    [Dimension(typeof(PeriodType))]",
                "\n    public PeriodType PeriodType { get; init; }",
                "\n}"
            ],
            "metadata": {},
            "execution_count": 0,
            "outputs": []
        },
        {
            "cell_type": "markdown",
            "source": [
                "Start from the scaffolding of the initial types. Please make sure that you run this code *only at the first you create the DB*. For any subsequent changes, please comment this cell out and never use it again. "
            ],
            "metadata": {},
            "execution_count": 0,
            "outputs": []
        },
        {
            "cell_type": "code",
            "source": [
                "var migration = SchemaMigrations",
                "\n    .ConfigureScaffolder(allTypesFiltered)",
                "\n    .ForMsSql()",
                "\n    .Scaffold(\"InitialTypes\");"
            ],
            "metadata": {},
            "execution_count": 0,
            "outputs": []
        },
        {
            "cell_type": "markdown",
            "source": [
                "In order to perform any subsequent change in the DB, there is no need to erase the DB and create from the scratch. It is sufficient to erase the cell above and uncomment the following cell. Please do not forget to insert a proper array of classes that you'd like to scaffold in the third row, as well as to give your own unique name to this migration in the 5th line."
            ],
            "metadata": {},
            "execution_count": 0,
            "outputs": []
        },
        {
            "cell_type": "code",
            "source": [
                "//#!import \"Snapshot\"",
                "\n//var migration = SchemaMigrations",
                "\n//    .ConfigureScaffolder({your array of types here}, new DbModelSnapshot())",
                "\n//    .ForMsSql()",
                "\n//    .Scaffold({Your unique name here});  "
            ],
            "metadata": {},
            "execution_count": 0,
            "outputs": []
        },
        {
            "cell_type": "code",
            "source": [
                "migration.MigrationCode"
            ],
            "metadata": {},
            "execution_count": 0,
            "outputs": []
        },
        {
            "cell_type": "code",
            "source": [
                "migration.SnapshotCode"
            ],
            "metadata": {},
            "execution_count": 0,
            "outputs": []
        },
        {
            "cell_type": "code",
            "source": [
                ""
            ],
            "metadata": {},
            "execution_count": 0,
            "outputs": []
        }
    ]
}