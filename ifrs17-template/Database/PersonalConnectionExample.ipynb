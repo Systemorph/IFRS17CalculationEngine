{
    "metadata": {
        "authors": [],
        "id": "iMY-rLl2BUa8lkYs0sDLqg",
        "kernelspec": {
            "display_name": "Formula Framework",
            "language": "C#",
            "name": "C#"
        },
        "language_info": {
            "file_extension": ".cs",
            "mimetype": "text/plain",
            "name": "C#"
        }
    },
    "nbformat": 4,
    "nbformat_minor": 8,
    "cells": [
        {
            "cell_type": "code",
            "source": [
                "var connectionStringMsSql = \"here enter your connection string\";"
            ],
            "metadata": {},
            "execution_count": 0,
            "outputs": []
        }
    ]
}