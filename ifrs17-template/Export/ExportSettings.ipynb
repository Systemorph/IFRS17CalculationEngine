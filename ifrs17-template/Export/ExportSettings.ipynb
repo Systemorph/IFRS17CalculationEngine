{
    "metadata": {
        "authors": [],
        "id": "SW5aARBVpEi8-8zKI1xJoQ",
        "kernelspec": {
            "display_name": "Formula Framework",
            "language": "C#",
            "name": "C#"
        },
        "language_info": {
            "file_extension": ".cs",
            "mimetype": "text/plain",
            "name": "C#"
        }
    },
    "nbformat": 4,
    "nbformat_minor": 5,
    "cells": [
        {
            "cell_type": "markdown",
            "source": [
                "In order to allow direct export of the files into the sharepoint folder of choice, please comment out the first row of the following code and uncomment the rest of the code."
            ],
            "metadata": {},
            "execution_count": 0,
            "outputs": []
        },
        {
            "cell_type": "code",
            "source": [
                "var pathToExport = \"\";",
                "\n//#!import \"../Constants/Sharepoint\"",
                "\n//var fileStorage = SharePoint.Site(Sharepoint.Sites, Sharepoint.Tenant);",
                "\n//var pathToExport = Sharepoint.PathToExport",
                "\n//Export.SetDefaultFileStorage(fileStorage);"
            ],
            "metadata": {},
            "execution_count": 0,
            "outputs": []
        },
        {
            "cell_type": "code",
            "source": [
                ""
            ],
            "metadata": {},
            "execution_count": 0,
            "outputs": []
        }
    ]
}