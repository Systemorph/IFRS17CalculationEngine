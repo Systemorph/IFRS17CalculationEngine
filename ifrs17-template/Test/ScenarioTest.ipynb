{
    "metadata": {
        "authors": [],
        "kernelspec": {
            "display_name": "Formula Framework",
            "language": "C#",
            "name": "C#"
        },
        "language_info": {
            "file_extension": ".cs",
            "mimetype": "text/plain",
            "name": "C#"
        }
    },
    "nbformat": 4,
    "nbformat_minor": 5,
    "cells": [
        {
            "cell_type": "code",
            "source": [
                "#!eval-notebook \"../Initialization/InitSystemorphBaseToMemory\""
            ],
            "metadata": {},
            "execution_count": 0,
            "outputs": []
        },
        {
            "cell_type": "markdown",
            "source": [
                "# Context"
            ],
            "metadata": {},
            "execution_count": 0,
            "outputs": []
        },
        {
            "cell_type": "code",
            "source": [
                "var log = await Import.FromFile(\"../Files/TransactionalData/NominalCashflows_CH_2020_12.csv\").WithFormat(ImportFormats.Cashflow).WithTarget(DataSource).ExecuteAsync();",
                "\nWorkspace.Reset(x => x.ResetInitializationRules().ResetCurrentPartitions());",
                "\nWorkspace.Initialize(x => x.FromSource(DataSource));",
                "\nlog"
            ],
            "metadata": {},
            "execution_count": 0,
            "outputs": []
        },
        {
            "cell_type": "code",
            "source": [
                "var log = await Import.FromFile(\"../Files/TransactionalData/Actuals_CH_2020_12.csv\").WithFormat(ImportFormats.Actual).WithTarget(DataSource).ExecuteAsync();",
                "\nWorkspace.Reset(x => x.ResetInitializationRules().ResetCurrentPartitions());",
                "\nWorkspace.Initialize(x => x.FromSource(DataSource));",
                "\nlog"
            ],
            "metadata": {},
            "execution_count": 0,
            "outputs": []
        },
        {
            "cell_type": "code",
            "source": [
                "var defaultVarsBE = Workspace.Query<IfrsVariable>().ToArray();"
            ],
            "metadata": {},
            "execution_count": 0,
            "outputs": []
        },
        {
            "cell_type": "markdown",
            "source": [
                "# Scenario Cash flows"
            ],
            "metadata": {},
            "execution_count": 0,
            "outputs": []
        },
        {
            "cell_type": "code",
            "source": [
                "var cashflows_scenarioTest = @\"",
                "\n@@Main",
                "\nReportingNode,Year,Month,Scenario",
                "\nCH,2020,12,Test",
                "\n@@Cashflow",
                "\nDataNode,AmountType,AocType,Novelty,AccidentYear,Values0,Values1,Values2,Values3,Values4,Values5,Values6,Values7,Values8,Values9,Values10,Values11,Values12,Values13,Values14,Values15,Values16,Values17,Values18,Values19,Values20,Values21,Values22,Values23",
                "\nDT1.1,PR,CL,C,,110,0,0,110,0,0,110,0,0,110,0,0,0,110,0,0,110,0,0,110,0,0,110,0",
                "\nDT1.1,NIC,CL,C,,-27.5,-27.5,-27.5,-27.5,-27.5,-27.5,-27.5,-27.5,-27.5,-27.5,-27.5,-27.5,-27.5,-27.5,-27.5,-27.5,-27.5,-27.5,-27.5,-27.5,-27.5,-27.5,-27.5,-27.5",
                "\nDT1.1,CU,CL,C,,-11,-11,-11,-11,-11,-11,-11,-11,-11,-11,-11,-11,-11,-5.5,-5.5,-5.5,-5.5,-5.5,-5.5,-5.5,-5.5,-5.5,-5.5,-3.3",
                "\nDT1.1,RA,CL,C,,-2.75,-2.75,-2.75,-2.75,-2.75,-2.75,-2.75,-2.75,-2.75,-2.75,-2.75,-2.75,-2.75,-2.75,-2.75,-2.75,-2.75,-2.75,-2.75,-2.75,-2.75,-2.75,-2.75,-2.75\";"
            ],
            "metadata": {},
            "execution_count": 0,
            "outputs": []
        },
        {
            "cell_type": "code",
            "source": [
                "var cashflows_scenarioTest_equalTo_BestEstimate = @\"",
                "\n@@Main",
                "\nReportingNode,Year,Month,Scenario",
                "\nCH,2020,12,Test",
                "\n@@Cashflow",
                "\nDataNode,AmountType,AocType,Novelty,AccidentYear,Values0,Values1,Values2,Values3,Values4,Values5,Values6,Values7,Values8,Values9,Values10,Values11,Values12,Values13,Values14,Values15,Values16,Values17,Values18,Values19,Values20,Values21,Values22,Values23",
                "\nDT1.1,PR,CL,C,,100,0,0,100,0,0,100,0,0,100,0,0,0,100,0,0,100,0,0,100,0,0,100,0",
                "\nDT1.1,NIC,CL,C,,-25,-25,-25,-25,-25,-25,-25,-25,-25,-25,-25,-25,-25,-25,-25,-25,-25,-25,-25,-25,-25,-25,-25,-25",
                "\nDT1.1,CU,CL,C,,-10,-10,-10,-10,-10,-10,-10,-10,-10,-10,-10,-10,-10,-5,-5,-5,-5,-5,-5,-5,-5,-5,-5,-3",
                "\nDT1.1,RA,CL,C,,-2.5,-2.5,-2.5,-2.5,-2.5,-2.5,-2.5,-2.5,-2.5,-2.5,-2.5,-2.5,-2.5,-2.5,-2.5,-2.5,-2.5,-2.5,-2.5,-2.5,-2.5,-2.5,-2.5,-2.5\";"
            ],
            "metadata": {},
            "execution_count": 0,
            "outputs": []
        },
        {
            "cell_type": "code",
            "source": [
                "var log = await Import.FromString(cashflows_scenarioTest).WithFormat(ImportFormats.Cashflow).WithTarget(DataSource).ExecuteAsync();",
                "\nWorkspace.Reset(x => x.ResetInitializationRules().ResetCurrentPartitions());",
                "\nWorkspace.Initialize(x => x.FromSource(DataSource));",
                "\nlog"
            ],
            "metadata": {},
            "execution_count": 0,
            "outputs": []
        },
        {
            "cell_type": "code",
            "source": [
                "await Workspace.Partition.SetAsync<PartitionByReportingNodeAndPeriod>(new{ReportingNode = \"CH\", Scenario = \"Test\", Year = 2020, Month = 12});",
                "\nawait DataSource.Partition.SetAsync<PartitionByReportingNodeAndPeriod>(new{ReportingNode = \"CH\", Scenario = \"Test\", Year = 2020, Month = 12});",
                "\nvar diffs = Workspace.Query<IfrsVariable>().Except(defaultVarsBE, IfrsVariableComparer.Instance());",
                "\ndiffs.Where(x => (new[]{\"A\",\"AA\",\"OA\",\"DA\"}).Contains(x.EstimateType)).ToArray().Length.Should().Be(0);",
                "\ndiffs.Where(x => !(new[]{\"A\",\"AA\",\"OA\",\"DA\"}).Contains(x.EstimateType)).ToArray().Length.Should().NotBe(0);"
            ],
            "metadata": {},
            "execution_count": 0,
            "outputs": []
        },
        {
            "cell_type": "markdown",
            "source": [
                "# Scenario Actuals"
            ],
            "metadata": {},
            "execution_count": 0,
            "outputs": []
        },
        {
            "cell_type": "code",
            "source": [
                "var actuals_scenarioTest = @\"",
                "\n@@Main",
                "\nReportingNode,Year,Month,Scenario",
                "\nCH,2020,12,Test",
                "\n@@Actual",
                "\nDataNode,AocType,ValueType,AccidentYear,Value",
                "\nDT1.1,CF,NIC,,-308\";"
            ],
            "metadata": {},
            "execution_count": 0,
            "outputs": []
        },
        {
            "cell_type": "code",
            "source": [
                "var actuals_scenarioTest_equalTo_BestEstimate = @\"",
                "\n@@Main",
                "\nReportingNode,Year,Month,Scenario",
                "\nCH,2020,12,Test",
                "\n@@Actual",
                "\nDataNode,AocType,ValueType,AccidentYear,Value",
                "\nDT1.1,CF,NIC,,-280\";"
            ],
            "metadata": {},
            "execution_count": 0,
            "outputs": []
        },
        {
            "cell_type": "code",
            "source": [
                "var log = await Import.FromString(actuals_scenarioTest).WithFormat(ImportFormats.Actual).WithTarget(DataSource).ExecuteAsync();",
                "\nWorkspace.Reset(x => x.ResetInitializationRules().ResetCurrentPartitions());",
                "\nWorkspace.Initialize(x => x.FromSource(DataSource));",
                "\nlog"
            ],
            "metadata": {},
            "execution_count": 0,
            "outputs": []
        },
        {
            "cell_type": "code",
            "source": [
                "await Workspace.Partition.SetAsync<PartitionByReportingNodeAndPeriod>(new{ReportingNode = \"CH\", Scenario = \"Test\", Year = 2020, Month = 12});",
                "\nawait DataSource.Partition.SetAsync<PartitionByReportingNodeAndPeriod>(new{ReportingNode = \"CH\", Scenario = \"Test\", Year = 2020, Month = 12});",
                "\nvar diffs = Workspace.Query<IfrsVariable>().Except(defaultVarsBE, IfrsVariableComparer.Instance());",
                "\ndiffs.Where(x => (new[]{\"A\",\"AA\",\"OA\",\"DA\"}).Contains(x.EstimateType)).ToArray().Length.Should().NotBe(0);",
                "\ndiffs.Where(x => x.EstimateType == \"CU\").ToArray().Length.Should().Be(0);"
            ],
            "metadata": {},
            "execution_count": 0,
            "outputs": []
        },
        {
            "cell_type": "markdown",
            "source": [
                "# Robustness: back to Best Estimate"
            ],
            "metadata": {},
            "execution_count": 0,
            "outputs": []
        },
        {
            "cell_type": "code",
            "source": [
                "var log = await Import.FromString(actuals_scenarioTest_equalTo_BestEstimate).WithFormat(ImportFormats.Actual).WithTarget(DataSource).ExecuteAsync();",
                "\nWorkspace.Reset(x => x.ResetInitializationRules().ResetCurrentPartitions());",
                "\nWorkspace.Initialize(x => x.FromSource(DataSource));",
                "\nlog"
            ],
            "metadata": {},
            "execution_count": 0,
            "outputs": []
        },
        {
            "cell_type": "code",
            "source": [
                "var log = await Import.FromString(cashflows_scenarioTest_equalTo_BestEstimate).WithFormat(ImportFormats.Cashflow).WithTarget(DataSource).ExecuteAsync();",
                "\nWorkspace.Reset(x => x.ResetInitializationRules().ResetCurrentPartitions());",
                "\nWorkspace.Initialize(x => x.FromSource(DataSource));",
                "\nlog"
            ],
            "metadata": {},
            "execution_count": 0,
            "outputs": []
        },
        {
            "cell_type": "code",
            "source": [
                "Workspace.Query<IfrsVariable>().Except(defaultVarsBE, IfrsVariableComparer.Instance()).ToArray().Length.Should().Be(0);"
            ],
            "metadata": {},
            "execution_count": 0,
            "outputs": []
        },
        {
            "cell_type": "code",
            "source": [
                ""
            ],
            "metadata": {},
            "execution_count": 0,
            "outputs": []
        }
    ]
}