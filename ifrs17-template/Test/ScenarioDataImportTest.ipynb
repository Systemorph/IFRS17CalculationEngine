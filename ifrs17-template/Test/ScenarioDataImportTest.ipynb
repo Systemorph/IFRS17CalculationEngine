{
    "metadata": {
        "authors": [],
        "kernelspec": {
            "display_name": "Formula Framework",
            "language": "C#",
            "name": "C#"
        },
        "language_info": {
            "file_extension": ".cs",
            "mimetype": "text/plain",
            "name": "C#"
        }
    },
    "nbformat": 4,
    "nbformat_minor": 5,
    "cells": [
        {
            "cell_type": "markdown",
            "source": [
                "<p style=\"font-weight:bold;\"> <span style=\"font-size: 36px\"> Scenario Transactional Data Import Test </span> </p>"
            ],
            "metadata": {},
            "execution_count": 0,
            "outputs": []
        },
        {
            "cell_type": "code",
            "source": [
                "#!eval-notebook \"../Initialization/InitSystemorphBaseToMemory\""
            ],
            "metadata": {},
            "execution_count": 0,
            "outputs": []
        },
        {
            "cell_type": "code",
            "source": [
                "DataSource.Reset(x => x.ResetType<RawVariable>().ResetType<IfrsVariable>());"
            ],
            "metadata": {},
            "execution_count": 0,
            "outputs": []
        },
        {
            "cell_type": "code",
            "source": [
                "static ImportStorage mystorage;",
                "\nstatic ImportIdentity[] myidentities; ",
                "\nstatic IModel mymodel;",
                "\nstatic List<string> my = new List<string>();",
                "\n",
                "\nstatic IfrsVariable[] targetIVS;",
                "\nstatic IfrsVariable[] defaultIVS;",
                "\n",
                "\npublic async Task<ActivityLog> CalculateAndUploadIfrsVariablesAsync(ImportArgs args, IWorkspace workspace)",
                "\n{",
                "\n    Activity.Start();",
                "\n    var storage = new ImportStorage(args, DataSource, workspace);",
                "\n    await storage.InitializeAsync();",
                "\n    if(Activity.HasErrors()) return Activity.Finish();",
                "\n   ",
                "\n    var universe = Scopes.ForStorage(storage).ToScope<IModel>();",
                "\n    var identities = universe.GetScopes<GetIdentities>(storage.DataNodesByImportScope[ImportScope.Primary]).SelectMany(s => s.Identities);",
                "\n    var ivs = universe.GetScopes<ComputeAllScopes>(identities).SelectMany(x => x.CalculatedIfrsVariables);",
                "\n    if(Activity.HasErrors()) return Activity.Finish();",
                "\n",
                "\n    targetIVS = ivs.ToArray();",
                "\n    defaultIVS = storage.DefaultIfrsVariables.ToArray();",
                "\n    ",
                "\n    //ivs = ivs.Except(storage.DefaultIfrsVariables, EqualityComparer<IfrsVariable>.Instance);",
                "\n    await workspace.UpdateAsync<IfrsVariable>(ivs);",
                "\n    await CommitToDatabase<IfrsVariable,PartitionByReportingNodeAndPeriod>(workspace, storage.TargetPartition, snapshot : true, ",
                "\n                                                                           filter : x => storage.EstimateTypesByImportFormat[args.ImportFormat].Contains(x.EstimateType) ",
                "\n                                                                                      && storage.DataNodesByImportScope[ImportScope.Primary].Contains(x.DataNode));",
                "\n    return Activity.Finish();",
                "\n}",
                "\n",
                "\nImport.DefineFormat(ImportFormats.Cashflow, async (options, dataSet) => {",
                "\n    Activity.Start();",
                "\n    my.Add(\"0\");",
                "\n    var mainArgs = (await GetArgsFromMainAsync<PartitionByReportingNodeAndPeriod>(dataSet)) with {ImportFormat = ImportFormats.Cashflow};",
                "\n    if(Activity.HasErrors()) return Activity.Finish();",
                "\n    my.Add(\"1\");",
                "\n    await DataNodeFactoryAsync(dataSet, ImportFormats.Cashflow, mainArgs);",
                "\n    my.Add(\"2\");",
                "\n    if(Activity.HasErrors()) return Activity.Finish();",
                "\n    ",
                "\n    var workspace = Workspace.CreateNew();",
                "\n    var log = await ParseCashflowsToWorkspaceAsync(dataSet, mainArgs, workspace);",
                "\n    if(log.Errors.Any()) return Activity.Finish().Merge(log);",
                "\n",
                "\n    var targetArgs = mainArgs.Scenario == null ",
                "\n                     ? mainArgs.RepeatOnce().Concat(await DataSource.Query<PartitionByReportingNodeAndPeriod>() ",
                "\n                               .Where(x => x.ReportingNode == mainArgs.ReportingNode && x.Year == mainArgs.Year && x.Month == mainArgs.Month && x.Scenario != null)",
                "\n                               .Select(x => new ImportArgs(x.ReportingNode, x.Year, x.Month, default(Periodicity), x.Scenario, ImportFormats.Cashflow)).ToArrayAsync())",
                "\n                     : mainArgs.RepeatOnce();",
                "\n    ",
                "\n    foreach (var args in targetArgs) {",
                "\n        log = log.Merge(await CalculateAndUploadIfrsVariablesAsync(args, workspace));",
                "\n        if(log.Errors.Any()) return Activity.Finish().Merge(log);",
                "\n",
                "\n        var storage = new ImportStorage(args, DataSource, workspace);",
                "\n        await storage.InitializeAsync();",
                "\n        var universe = Scopes.ForStorage(storage).ToScope<IModel>();",
                "\n        var identities = universe.GetScopes<GetIdentities>(storage.DataNodesByImportScope[ImportScope.Primary]).SelectMany(s => s.Identities);",
                "\n        var ivs = universe.GetScopes<ComputeAllScopes>(identities).SelectMany(x => x.CalculatedIfrsVariables);",
                "\n        mystorage = storage; ",
                "\n        myidentities = identities.ToArray(); ",
                "\n        mymodel = universe;",
                "\n",
                "\n        if(args.Scenario == mainArgs.Scenario) await CommitToDatabase<RawVariable, PartitionByReportingNodeAndPeriod>(workspace, (Guid)(await DataSource.Partition.GetKeyForInstanceAsync<PartitionByReportingNodeAndPeriod>(args)));",
                "\n    }",
                "\n",
                "\n    return Activity.Finish().Merge(log); ",
                "\n});"
            ],
            "metadata": {},
            "execution_count": 0,
            "outputs": []
        },
        {
            "cell_type": "code",
            "source": [
                "var actualEstimateTypes = new[] {\"A\",\"AA\",\"OA\",\"DA\"};"
            ],
            "metadata": {},
            "execution_count": 0,
            "outputs": []
        },
        {
            "cell_type": "code",
            "source": [
                "var argsBestEstimate = new ImportArgs (\"CH\", 2020, 12, Periodicity.Quarterly, null, ImportFormats.Cashflow);",
                "\nvar argsScenario = new ImportArgs (\"CH\", 2020, 12, Periodicity.Quarterly, \"Test\", ImportFormats.Cashflow);"
            ],
            "metadata": {},
            "execution_count": 0,
            "outputs": []
        },
        {
            "cell_type": "markdown",
            "source": [
                "# Best Estimate Initialization"
            ],
            "metadata": {},
            "execution_count": 0,
            "outputs": []
        },
        {
            "cell_type": "code",
            "source": [
                "await Import.FromFile(\"../Files/TransactionalData/NominalCashflows_CH_2020_12.csv\").WithFormat(ImportFormats.Cashflow).WithTarget(DataSource).ExecuteAsync()"
            ],
            "metadata": {},
            "execution_count": 0,
            "outputs": []
        },
        {
            "cell_type": "code",
            "source": [
                "await Import.FromFile(\"../Files/TransactionalData/Actuals_CH_2020_12.csv\").WithFormat(ImportFormats.Actual).WithTarget(DataSource).ExecuteAsync()"
            ],
            "metadata": {},
            "execution_count": 0,
            "outputs": []
        },
        {
            "cell_type": "code",
            "source": [
                "var ivsBestEstimateInit = await DataSource.Query<IfrsVariable>().ToArrayAsync();"
            ],
            "metadata": {},
            "execution_count": 0,
            "outputs": []
        },
        {
            "cell_type": "markdown",
            "source": [
                "# Scenario Init Cash flows"
            ],
            "metadata": {},
            "execution_count": 0,
            "outputs": []
        },
        {
            "cell_type": "code",
            "source": [
                "var cashflowsScenario = @\"",
                "\n@@Main",
                "\nReportingNode,Year,Month,Scenario",
                "\nCH,2020,12,Test",
                "\n@@Cashflow",
                "\nDataNode,AmountType,AocType,Novelty,AccidentYear,Values0,Values1,Values2,Values3,Values4,Values5,Values6,Values7,Values8,Values9,Values10,Values11,Values12,Values13,Values14,Values15,Values16,Values17,Values18,Values19,Values20,Values21,Values22,Values23",
                "\nDT1.1,PR,CL,C,,110,0,0,110,0,0,110,0,0,110,0,0,0,110,0,0,110,0,0,110,0,0,110,0",
                "\nDT1.1,NIC,CL,C,,-27.5,-27.5,-27.5,-27.5,-27.5,-27.5,-27.5,-27.5,-27.5,-27.5,-27.5,-27.5,-27.5,-27.5,-27.5,-27.5,-27.5,-27.5,-27.5,-27.5,-27.5,-27.5,-27.5,-27.5",
                "\nDT1.1,CU,CL,C,,-11,-11,-11,-11,-11,-11,-11,-11,-11,-11,-11,-11,-11,-5.5,-5.5,-5.5,-5.5,-5.5,-5.5,-5.5,-5.5,-5.5,-5.5,-3.3",
                "\nDT1.1,RA,CL,C,,-2.75,-2.75,-2.75,-2.75,-2.75,-2.75,-2.75,-2.75,-2.75,-2.75,-2.75,-2.75,-2.75,-2.75,-2.75,-2.75,-2.75,-2.75,-2.75,-2.75,-2.75,-2.75,-2.75,-2.75\";"
            ],
            "metadata": {},
            "execution_count": 0,
            "outputs": []
        },
        {
            "cell_type": "code",
            "source": [
                "await Import.FromString(cashflowsScenario).WithFormat(ImportFormats.Cashflow).WithTarget(DataSource).ExecuteAsync()"
            ],
            "metadata": {},
            "execution_count": 0,
            "outputs": []
        },
        {
            "cell_type": "code",
            "source": [
                "await DataSource.Partition.SetAsync<PartitionByReportingNodeAndPeriod>(argsScenario);",
                "\nvar ivsScenarioInitCashFlows = await DataSource.Query<IfrsVariable>().ToArrayAsync();",
                "\nvar diffs = ivsScenarioInitCashFlows.Except(ivsBestEstimateInit, IfrsVariableComparer.Instance());"
            ],
            "metadata": {},
            "execution_count": 0,
            "outputs": []
        },
        {
            "cell_type": "code",
            "source": [
                "diffs.Where(x => actualEstimateTypes.Contains(x.EstimateType)).ToArray().Length.Should().Be(0);",
                "\ndiffs.Where(x => !actualEstimateTypes.Contains(x.EstimateType)).ToArray().Length.Should().NotBe(0);",
                "\nivsScenarioInitCashFlows.Where(x => x.EstimateType == \"DA\").ToArray().Length.Should().NotBe(0);"
            ],
            "metadata": {},
            "execution_count": 0,
            "outputs": []
        },
        {
            "cell_type": "code",
            "source": [
                "targetIVS.Where(x => x.AocType == \"AM\")"
            ],
            "metadata": {},
            "execution_count": 0,
            "outputs": []
        },
        {
            "cell_type": "code",
            "source": [
                "defaultIVS.Where(x => x.AocType == \"AM\")"
            ],
            "metadata": {},
            "execution_count": 0,
            "outputs": []
        },
        {
            "cell_type": "code",
            "source": [
                "mymodel.GetScopes<CurrentPeriodAmortizationFactor>(myidentities.Where(x => x.DataNode == \"DT1.1\" && x.AocType == \"AM\"), o => o.WithContext(\"L\")).Select(x => (x.EstimateType, x.Value, x.Identity))"
            ],
            "metadata": {},
            "execution_count": 0,
            "outputs": []
        },
        {
            "cell_type": "code",
            "source": [
                "mymodel.GetScope<NominalCashflow>((myidentities.First(x => x.DataNode == \"DT1.1\" && x.AocType == \"AM\") with {AocType = AocTypes.CL}, (string)null, EstimateTypes.CU, (int?)null))"
            ],
            "metadata": {},
            "execution_count": 0,
            "outputs": []
        },
        {
            "cell_type": "code",
            "source": [
                "await DataSource.Partition.SetAsync<PartitionByReportingNodeAndPeriod>(argsBestEstimate);",
                "\nDataSource.Query<RawVariable>().Where(x => x.DataNode == \"DT1.1\" && x.EstimateType == \"CU\")"
            ],
            "metadata": {},
            "execution_count": 0,
            "outputs": []
        },
        {
            "cell_type": "markdown",
            "source": [
                "# Scenario Init Actuals"
            ],
            "metadata": {},
            "execution_count": 0,
            "outputs": []
        },
        {
            "cell_type": "code",
            "source": [
                "var actualsScenario = @\"",
                "\n@@Main",
                "\nReportingNode,Year,Month,Scenario",
                "\nCH,2020,12,Test",
                "\n@@Actual",
                "\nDataNode,AocType,ValueType,AccidentYear,Value",
                "\nDT1.1,CF,NIC,,-308\";"
            ],
            "metadata": {},
            "execution_count": 0,
            "outputs": []
        },
        {
            "cell_type": "code",
            "source": [
                "await Import.FromString(actualsScenario).WithFormat(ImportFormats.Actual).WithTarget(DataSource).ExecuteAsync()"
            ],
            "metadata": {},
            "execution_count": 0,
            "outputs": []
        },
        {
            "cell_type": "code",
            "source": [
                "await DataSource.Partition.SetAsync<PartitionByReportingNodeAndPeriod>(argsScenario);",
                "\nvar ivsScenarioInitActuals = DataSource.Query<IfrsVariable>().ToArray();",
                "\nvar diffs = ivsScenarioInitActuals.Except(ivsBestEstimateInit, IfrsVariableComparer.Instance());"
            ],
            "metadata": {},
            "execution_count": 0,
            "outputs": []
        },
        {
            "cell_type": "code",
            "source": [
                "diffs.Where(x => actualEstimateTypes.Contains(x.EstimateType)).ToArray().Length.Should().NotBe(0);",
                "\ndiffs.Where(x => x.EstimateType == \"CU\").ToArray().Length.Should().Be(0);",
                "\nivsScenarioInitActuals.Where(x => x.EstimateType == \"DA\").ToArray().Length.Should().NotBe(0);"
            ],
            "metadata": {},
            "execution_count": 0,
            "outputs": []
        },
        {
            "cell_type": "markdown",
            "source": [
                "# Update of Deferrable Actuals with a Coverage Units Import for Scenario  "
            ],
            "metadata": {},
            "execution_count": 0,
            "outputs": []
        },
        {
            "cell_type": "markdown",
            "source": [
                "Update CU cashflow for scenario and check that the Amortization Factor (and hence the Deferrable Actual) is updated"
            ],
            "metadata": {},
            "execution_count": 0,
            "outputs": []
        },
        {
            "cell_type": "code",
            "source": [
                "var cashflowsScenarioUpdateCU = @\"",
                "\n@@Main",
                "\nReportingNode,Year,Month,Scenario",
                "\nCH,2020,12,Test",
                "\n@@Cashflow",
                "\nDataNode,AmountType,AocType,Novelty,AccidentYear,Values0,Values1,Values2,Values3,Values4,Values5,Values6,Values7,Values8,Values9,Values10,Values11,Values12,Values13,Values14,Values15,Values16,Values17,Values18,Values19,Values20,Values21,Values22,Values23",
                "\nDT1.1,CU,CL,C,,-17,-17,-17,-17,-17,-17,-17,-17,-17,-17,-17,-17,-17,-5.5,-5.5,-5.5,-5.5,-5.5,-5.5,-5.5,-5.5,-5.5,-5.5,-3.3\";"
            ],
            "metadata": {},
            "execution_count": 0,
            "outputs": []
        },
        {
            "cell_type": "code",
            "source": [
                "await Import.FromString(cashflowsScenarioUpdateCU).WithFormat(ImportFormats.Cashflow).WithTarget(DataSource).ExecuteAsync()"
            ],
            "metadata": {},
            "execution_count": 0,
            "outputs": []
        },
        {
            "cell_type": "code",
            "source": [
                "await DataSource.Partition.SetAsync<PartitionByReportingNodeAndPeriod>(argsScenario);",
                "\nvar ivsScenarioCashflowUpdateCU = await DataSource.Query<IfrsVariable>().ToArrayAsync();",
                "\nvar diffs = ivsScenarioCashflowUpdateCU.Except(ivsScenarioInitActuals, IfrsVariableComparer.Instance());"
            ],
            "metadata": {},
            "execution_count": 0,
            "outputs": []
        },
        {
            "cell_type": "code",
            "source": [
                "diffs.Where(x => x.EstimateType == EstimateTypes.DA).ToArray().Length.Should().NotBe(0);",
                "\ndiffs.Where(x => x.EstimateType == EstimateTypes.F).ToArray().Length.Should().NotBe(0);"
            ],
            "metadata": {},
            "execution_count": 0,
            "outputs": []
        },
        {
            "cell_type": "markdown",
            "source": [
                "# Update of Deferrable Actuals with a ACA/AEA Import for Scenario"
            ],
            "metadata": {},
            "execution_count": 0,
            "outputs": []
        },
        {
            "cell_type": "code",
            "source": [
                "var actualsScenarioUpdateACAAEA = @\"",
                "\n@@Main",
                "\nReportingNode,Year,Month,Scenario",
                "\nCH,2020,12,Test",
                "\n@@Actual",
                "\nDataNode,AocType,ValueType,AccidentYear,Value",
                "\nDT1.1,CF,ACA,,-555",
                "\nDT1.1,CF,AEA,,-777\";"
            ],
            "metadata": {},
            "execution_count": 0,
            "outputs": []
        },
        {
            "cell_type": "code",
            "source": [
                "await Import.FromString(actualsScenarioUpdateACAAEA).WithFormat(ImportFormats.Actual).WithTarget(DataSource).ExecuteAsync()"
            ],
            "metadata": {},
            "execution_count": 0,
            "outputs": []
        },
        {
            "cell_type": "code",
            "source": [
                "await DataSource.Partition.SetAsync<PartitionByReportingNodeAndPeriod>(argsScenario);",
                "\nvar ivsScenarioActualUpdateACAAEA = await DataSource.Query<IfrsVariable>().ToArrayAsync();",
                "\nvar diffs = ivsScenarioActualUpdateACAAEA.Except(ivsScenarioCashflowUpdateCU, IfrsVariableComparer.Instance());"
            ],
            "metadata": {},
            "execution_count": 0,
            "outputs": []
        },
        {
            "cell_type": "code",
            "source": [
                "diffs.Where(x => x.EstimateType == EstimateTypes.DA).ToArray().Length.Should().NotBe(0);",
                "\ndiffs.Where(x => x.EstimateType == EstimateTypes.F).ToArray().Length.Should().Be(0);"
            ],
            "metadata": {},
            "execution_count": 0,
            "outputs": []
        },
        {
            "cell_type": "markdown",
            "source": [
                "# Removal of Deferrable Actuals with a Actual Scenario Import"
            ],
            "metadata": {},
            "execution_count": 0,
            "outputs": []
        },
        {
            "cell_type": "markdown",
            "source": [
                "Set ACA and AEA to zero and check that DA is removed"
            ],
            "metadata": {},
            "execution_count": 0,
            "outputs": []
        },
        {
            "cell_type": "code",
            "source": [
                "// TODO"
            ],
            "metadata": {},
            "execution_count": 0,
            "outputs": []
        },
        {
            "cell_type": "markdown",
            "source": [
                "# Robustness: back to Best Estimate"
            ],
            "metadata": {},
            "execution_count": 0,
            "outputs": []
        },
        {
            "cell_type": "code",
            "source": [
                "var cashflowsScenarioTestEqualToBestEstimate = @\"",
                "\n@@Main",
                "\nReportingNode,Year,Month,Scenario",
                "\nCH,2020,12,Test",
                "\n@@Cashflow",
                "\nDataNode,AmountType,AocType,Novelty,AccidentYear,Values0,Values1,Values2,Values3,Values4,Values5,Values6,Values7,Values8,Values9,Values10,Values11,Values12,Values13,Values14,Values15,Values16,Values17,Values18,Values19,Values20,Values21,Values22,Values23",
                "\nDT1.1,PR,CL,C,,100,0,0,100,0,0,100,0,0,100,0,0,0,100,0,0,100,0,0,100,0,0,100,0",
                "\nDT1.1,NIC,CL,C,,-25,-25,-25,-25,-25,-25,-25,-25,-25,-25,-25,-25,-25,-25,-25,-25,-25,-25,-25,-25,-25,-25,-25,-25",
                "\nDT1.1,CU,CL,C,,-10,-10,-10,-10,-10,-10,-10,-10,-10,-10,-10,-10,-10,-5,-5,-5,-5,-5,-5,-5,-5,-5,-5,-3",
                "\nDT1.1,RA,CL,C,,-2.5,-2.5,-2.5,-2.5,-2.5,-2.5,-2.5,-2.5,-2.5,-2.5,-2.5,-2.5,-2.5,-2.5,-2.5,-2.5,-2.5,-2.5,-2.5,-2.5,-2.5,-2.5,-2.5,-2.5\";"
            ],
            "metadata": {},
            "execution_count": 0,
            "outputs": []
        },
        {
            "cell_type": "code",
            "source": [
                "var actualsScenarioTestEqualToBestEstimate = @\"",
                "\n@@Main",
                "\nReportingNode,Year,Month,Scenario",
                "\nCH,2020,12,Test",
                "\n@@Actual",
                "\nDataNode,AocType,ValueType,AccidentYear,Value",
                "\nDT1.1,CF,NIC,,-280\";"
            ],
            "metadata": {},
            "execution_count": 0,
            "outputs": []
        },
        {
            "cell_type": "code",
            "source": [
                "await Import.FromString(actualsScenarioTestEqualToBestEstimate).WithFormat(ImportFormats.Actual).WithTarget(DataSource).ExecuteAsync()"
            ],
            "metadata": {},
            "execution_count": 0,
            "outputs": []
        },
        {
            "cell_type": "code",
            "source": [
                "await Import.FromString(cashflowsScenarioTestEqualToBestEstimate).WithFormat(ImportFormats.Cashflow).WithTarget(DataSource).ExecuteAsync()"
            ],
            "metadata": {},
            "execution_count": 0,
            "outputs": []
        },
        {
            "cell_type": "code",
            "source": [
                "var ivsScenarioReimportEqualToBestEstimate = await DataSource.Query<IfrsVariable>().ToArrayAsync(); ",
                "\nivsScenarioReimportEqualToBestEstimate.Except(ivsBestEstimateInit, IfrsVariableComparer.Instance()).Count().Should().Be(0);"
            ],
            "metadata": {},
            "execution_count": 0,
            "outputs": []
        },
        {
            "cell_type": "markdown",
            "source": [
                "# Reimport of Best Estimate Cashflow"
            ],
            "metadata": {},
            "execution_count": 0,
            "outputs": []
        },
        {
            "cell_type": "code",
            "source": [
                "var newCashflowsBestEstimate = @\"",
                "\n@@Main",
                "\nReportingNode,Year,Month,Scenario",
                "\nCH,2020,12,",
                "\n@@Cashflow",
                "\nDataNode,AmountType,AocType,Novelty,AccidentYear,Values0,Values1,Values2,Values3,Values4,Values5,Values6,Values7,Values8,Values9,Values10,Values11,Values12,Values13,Values14,Values15,Values16,Values17,Values18,Values19,Values20,Values21,Values22,Values23",
                "\nDT1.1,PR,CL,C,,210,0,0,210,0,0,210,0,0,210,0,0,0,210,0,0,210,0,0,210,0,0,210,0",
                "\nDT1.1,NIC,CL,C,,-37,-37,-37,-37,-37,-37,-37,-37,-37,-37,-37,-37,-37,-37,-37,-37,-37,-37,-37,-37,-37,-37,-37,-37",
                "\nDT1.1,CU,CL,C,,-21,-21,-21,-21,-21,-21,-21,-21,-21,-21,-21,-21,-21,-17,-17,-17,-17,-17,-17,-17,-17,-17,-17,-3.3",
                "\nDT1.1,RA,CL,C,,-42,-42,-42,-42,-42,-42,-42,-42,-42,-42,-42,-42,-42,-42,-42,-42,-42,-42,-42,-42,-42,-42,-42,-42\";"
            ],
            "metadata": {},
            "execution_count": 0,
            "outputs": []
        },
        {
            "cell_type": "code",
            "source": [
                "await Import.FromString(newCashflowsBestEstimate).WithFormat(ImportFormats.Cashflow).WithTarget(DataSource).ExecuteAsync()"
            ],
            "metadata": {},
            "execution_count": 0,
            "outputs": []
        },
        {
            "cell_type": "code",
            "source": [
                "await DataSource.Partition.SetAsync<PartitionByReportingNodeAndPeriod>(argsBestEstimate);",
                "\nvar ivsBestEstimateReimportCashFlows = await DataSource.Query<IfrsVariable>().ToArrayAsync();",
                "\nvar diffs = ivsBestEstimateReimportCashFlows.Except(ivsBestEstimateInit, IfrsVariableComparer.Instance());",
                "\nvar items = diffs.Where(x => actualEstimateTypes.Contains(x.EstimateType)).Select(x => x.EstimateType).Distinct().ToArray();"
            ],
            "metadata": {},
            "execution_count": 0,
            "outputs": []
        },
        {
            "cell_type": "code",
            "source": [
                "items.Length.Should().Be(1);",
                "\n(items.First() == \"DA\").Should().Be(true);",
                "\ndiffs.Where(x => !actualEstimateTypes.Contains(x.EstimateType)).ToArray().Length.Should().NotBe(0);"
            ],
            "metadata": {},
            "execution_count": 0,
            "outputs": []
        },
        {
            "cell_type": "code",
            "source": [
                "await DataSource.Partition.SetAsync<PartitionByReportingNodeAndPeriod>(argsScenario);",
                "\nvar ivsScenarioReimportCashFlows = await DataSource.Query<IfrsVariable>().ToArrayAsync();",
                "\nvar diffs = ivsScenarioReimportCashFlows.Except(ivsBestEstimateInit, IfrsVariableComparer.Instance());"
            ],
            "metadata": {},
            "execution_count": 0,
            "outputs": []
        },
        {
            "cell_type": "code",
            "source": [
                "diffs.Where(x => !actualEstimateTypes.Contains(x.EstimateType)).ToArray().Length.Should().NotBe(0);",
                "\ndiffs.Where(x => actualEstimateTypes.Contains(x.EstimateType)).ToArray().Length.Should().Be(0);"
            ],
            "metadata": {},
            "execution_count": 0,
            "outputs": []
        },
        {
            "cell_type": "markdown",
            "source": [
                "# Reimport of Best Estimate Actuals"
            ],
            "metadata": {},
            "execution_count": 0,
            "outputs": []
        },
        {
            "cell_type": "code",
            "source": [
                "var newActualsBestEstimate = @\"",
                "\n@@Main",
                "\nReportingNode,Year,Month,Scenario",
                "\nCH,2020,12,",
                "\n@@Actual",
                "\nDataNode,AocType,ValueType,AccidentYear,Value",
                "\nDT1.1,CF,NIC,,-2000",
                "\nDT1.1,CF,PR,,-4000\";"
            ],
            "metadata": {},
            "execution_count": 0,
            "outputs": []
        },
        {
            "cell_type": "code",
            "source": [
                "await Import.FromString(newActualsBestEstimate).WithFormat(ImportFormats.Actual).WithTarget(DataSource).ExecuteAsync()"
            ],
            "metadata": {},
            "execution_count": 0,
            "outputs": []
        },
        {
            "cell_type": "code",
            "source": [
                "await DataSource.Partition.SetAsync<PartitionByReportingNodeAndPeriod>(argsBestEstimate);",
                "\nvar ivsBestEstimateReimportActuals = await DataSource.Query<IfrsVariable>().ToArrayAsync();",
                "\nvar diffs = ivsBestEstimateReimportActuals.Except(ivsBestEstimateReimportCashFlows, IfrsVariableComparer.Instance());"
            ],
            "metadata": {},
            "execution_count": 0,
            "outputs": []
        },
        {
            "cell_type": "code",
            "source": [
                "diffs.Where(x => actualEstimateTypes.Contains(x.EstimateType)).ToArray().Length.Should().NotBe(0);",
                "\ndiffs.Where(x => x.EstimateType == \"DA\").ToArray().Length.Should().Be(0);"
            ],
            "metadata": {},
            "execution_count": 0,
            "outputs": []
        },
        {
            "cell_type": "code",
            "source": [
                "diffs"
            ],
            "metadata": {},
            "execution_count": 0,
            "outputs": []
        },
        {
            "cell_type": "code",
            "source": [
                "await DataSource.Partition.SetAsync<PartitionByReportingNodeAndPeriod>(argsScenario);",
                "\nvar ivsScenarioReimportActuals = await DataSource.Query<IfrsVariable>().ToArrayAsync();",
                "\nvar diffs = ivsScenarioReimportActuals.Except(ivsScenarioReimportCashFlows, IfrsVariableComparer.Instance());"
            ],
            "metadata": {},
            "execution_count": 0,
            "outputs": []
        },
        {
            "cell_type": "code",
            "source": [
                "diffs.Where(x => actualEstimateTypes.Contains(x.EstimateType)).ToArray().Length.Should().Be(0);",
                "\ndiffs.Where(x => x.EstimateType == \"DA\").ToArray().Length.Should().Be(0);"
            ],
            "metadata": {},
            "execution_count": 0,
            "outputs": []
        },
        {
            "cell_type": "code",
            "source": [
                "diffs"
            ],
            "metadata": {},
            "execution_count": 0,
            "outputs": []
        },
        {
            "cell_type": "markdown",
            "source": [
                "# Update of Scenario Deferrable Actuals via Best Estimate Coverage Units"
            ],
            "metadata": {},
            "execution_count": 0,
            "outputs": []
        },
        {
            "cell_type": "markdown",
            "source": [
                "Reset Coverage Units for Scenario so that they are taken from Best Estimate. Then, test that a re-import of Best Estimate Coverage Units changes the Scenario Deferrable Actuals. "
            ],
            "metadata": {},
            "execution_count": 0,
            "outputs": []
        },
        {
            "cell_type": "code",
            "source": [
                "var cashflowsScenarioNoCU = @\"",
                "\n@@Main",
                "\nReportingNode,Year,Month,Scenario",
                "\nCH,2020,12,Test",
                "\n@@Cashflow",
                "\nDataNode,AmountType,AocType,Novelty,AccidentYear,Values0,Values1,Values2,Values3,Values4,Values5,Values6,Values7,Values8,Values9,Values10,Values11,Values12,Values13,Values14,Values15,Values16,Values17,Values18,Values19,Values20,Values21,Values22,Values23",
                "\nDT1.1,PR,CL,C,,110,0,0,110,0,0,110,0,0,110,0,0,0,110,0,0,110,0,0,110,0,0,110,0",
                "\nDT1.1,NIC,CL,C,,-274.5,-27.5,-27.5,-27.5,-27.5,-27.5,-27.5,-27.5,-27.5,-27.5,-27.5,-27.5,-27.5,-27.5,-27.5,-27.5,-27.5,-27.5,-27.5,-27.5,-27.5,-27.5,-27.5,-27.5",
                "\nDT1.1,RA,CL,C,,-2.75,-2.75,-2.75,-2.75,-2.75,-2.75,-2.75,-2.75,-2.75,-2.75,-2.75,-2.75,-2.75,-2.75,-2.75,-2.75,-2.75,-2.75,-2.75,-2.75,-2.75,-2.75,-2.75,-2.75\";"
            ],
            "metadata": {},
            "execution_count": 0,
            "outputs": []
        },
        {
            "cell_type": "code",
            "source": [
                "var newCashflowsBestEstimateBis = @\"",
                "\n@@Main",
                "\nReportingNode,Year,Month,Scenario",
                "\nCH,2020,12,",
                "\n@@Cashflow",
                "\nDataNode,AmountType,AocType,Novelty,AccidentYear,Values0,Values1,Values2,Values3,Values4,Values5,Values6,Values7,Values8,Values9,Values10,Values11,Values12,Values13,Values14,Values15,Values16,Values17,Values18,Values19,Values20,Values21,Values22,Values23",
                "\nDT1.1,PR,CL,C,,200,0,0,200,0,0,200,0,0,200,0,0,0,200,0,0,200,0,0,200,0,0,200,0",
                "\nDT1.1,NIC,CL,C,,-33,-33,-33,-33,-33,-33,-33,-33,-33,-33,-33,-33,-33,-33,-33,-33,-33,-33,-33,-33,-33,-33,-33,-33",
                "\nDT1.1,CU,CL,C,,-434,-23,-23,-23,-23,-23,-23,-23,-23,-23,-23,-23,-23,-19,-19,-19,-19,-19,-19,-19,-19,-19,-19,-3.5",
                "\nDT1.1,RA,CL,C,,-45,-45,-45,-45,-45,-45,-45,-45,-45,-45,-45,-45,-45,-45,-45,-45,-45,-45,-45,-45,-45,-45,-45,-45\";"
            ],
            "metadata": {},
            "execution_count": 0,
            "outputs": []
        },
        {
            "cell_type": "code",
            "source": [
                "await Import.FromString(cashflowsScenarioNoCU).WithFormat(ImportFormats.Cashflow).WithTarget(DataSource).ExecuteAsync()"
            ],
            "metadata": {},
            "execution_count": 0,
            "outputs": []
        },
        {
            "cell_type": "code",
            "source": [
                "await DataSource.Partition.SetAsync<PartitionByReportingNodeAndPeriod>(argsScenario);",
                "\nvar ivsScenarioReimportCashflowNoCU = await DataSource.Query<IfrsVariable>().ToArrayAsync();"
            ],
            "metadata": {},
            "execution_count": 0,
            "outputs": []
        },
        {
            "cell_type": "code",
            "source": [
                "ivsScenarioReimportCashflowNoCU.Where(x => x.AocType == \"AM\")"
            ],
            "metadata": {},
            "execution_count": 0,
            "outputs": []
        },
        {
            "cell_type": "code",
            "source": [
                "await Import.FromString(newCashflowsBestEstimateBis).WithFormat(ImportFormats.Cashflow).WithTarget(DataSource).ExecuteAsync()"
            ],
            "metadata": {},
            "execution_count": 0,
            "outputs": []
        },
        {
            "cell_type": "code",
            "source": [
                "await DataSource.Partition.SetAsync<PartitionByReportingNodeAndPeriod>(argsScenario);",
                "\nvar ivsScenarioReimportCashFlowsWithCU = await DataSource.Query<IfrsVariable>().ToArrayAsync();",
                "\nvar diffs = ivsScenarioReimportCashFlowsWithCU.Except(ivsScenarioReimportCashflowNoCU, IfrsVariableComparer.Instance());",
                "\nvar items = diffs.Where(x => actualEstimateTypes.Contains(x.EstimateType)).Select(x => x.EstimateType).Distinct().ToArray();"
            ],
            "metadata": {},
            "execution_count": 0,
            "outputs": []
        },
        {
            "cell_type": "code",
            "source": [
                "ivsScenarioReimportCashFlowsWithCU.Where(x => x.AocType == \"AM\")"
            ],
            "metadata": {},
            "execution_count": 0,
            "outputs": []
        },
        {
            "cell_type": "code",
            "source": [
                "diffs.Where(x => !actualEstimateTypes.Contains(x.EstimateType)).ToArray().Length.Should().NotBe(0);",
                "\nitems.Length.Should().Be(1);",
                "\n(items.First() == \"DA\").Should().Be(true);"
            ],
            "metadata": {},
            "execution_count": 0,
            "outputs": []
        },
        {
            "cell_type": "code",
            "source": [
                "mymodel.GetScopes<ComputeAllScopes>(myidentities).SelectMany(x => x.DeferrableActual)//.Select(x => (x.Value, x.Identity))"
            ],
            "metadata": {},
            "execution_count": 0,
            "outputs": []
        },
        {
            "cell_type": "code",
            "source": [
                "mymodel.GetScopes<DeferrableActual>(myidentities).Select(x => new IfrsVariable{ EstimateType = x.EstimateType,",
                "\n                                   DataNode = x.Identity.DataNode,",
                "\n                                   AocType = x.Identity.AocType,",
                "\n                                   Novelty = x.Identity.Novelty,",
                "\n                                   AccidentYear = null,",
                "\n                                   Value = x.Value,",
                "\n                                   Partition = mystorage.TargetPartition",
                "\n                                })"
            ],
            "metadata": {},
            "execution_count": 0,
            "outputs": []
        },
        {
            "cell_type": "code",
            "source": [
                "myidentities.Where(x => x.AocType == \"AM\")"
            ],
            "metadata": {},
            "execution_count": 0,
            "outputs": []
        },
        {
            "cell_type": "code",
            "source": [
                "//    private double AmortizationFactor => GetScope<CurrentPeriodAmortizationFactor>(Identity, o => o.WithContext(EconomicBasis)).Value;",
                "\n//    private double AggregatedDeferrable => GetScope<PreviousAocSteps>((Identity, InputSource.Actual)).Values",
                "\n//                                            .Sum(aocStep => GetScope<DeferrableActual>(Identity with {AocType = aocStep.AocType, Novelty = aocStep.Novelty}).Value);",
                "\n//    double DeferrableActual.Value => -1d * AggregatedDeferrable * AmortizationFactor;",
                "\n",
                "\nvar amids = myidentities.Where(x => x.AocType == \"AM\").ToArray();",
                "\nmymodel.GetScopes<CurrentPeriodAmortizationFactor>(amids, o => o.WithContext(\"L\")).Select(x => (x.EstimateType, x.Value, x.Identity))"
            ],
            "metadata": {},
            "execution_count": 0,
            "outputs": []
        },
        {
            "cell_type": "code",
            "source": [
                "mymodel.GetScopes<PreviousAocSteps>(amids.Select(x => (x, InputSource.Actual))).Select(x => (x.Values, x.Identity))",
                "\n    //.Select(x => x.Values.Sum( aocStep => mymodel.GetScope<DeferrableActual>(Identity with {AocType = aocStep.AocType, Novelty = aocStep.Novelty}).Value )",
                "\n    //.Select(x => (x.EstimateType, x.Value, x.Identity))"
            ],
            "metadata": {},
            "execution_count": 0,
            "outputs": []
        },
        {
            "cell_type": "code",
            "source": [
                "mymodel.GetScopes<PreviousAocSteps>(amids.Select(x => (x, InputSource.Actual))).Select(x => (x.Values, x.Identity))",
                "\n    .Select((x,i) => x.Values.Sum( aocStep => mymodel.GetScope<DeferrableActual>(amids[i] with {AocType = aocStep.AocType, Novelty = aocStep.Novelty}).Value ) )"
            ],
            "metadata": {},
            "execution_count": 0,
            "outputs": []
        },
        {
            "cell_type": "code",
            "source": [
                ""
            ],
            "metadata": {},
            "execution_count": 0,
            "outputs": []
        }
    ]
}