{
    "metadata": {
        "authors": [],
        "id": "RTdwhhLYx0Oqt3uP2hPqzg",
        "kernelspec": {
            "display_name": "Formula Framework",
            "language": "C#",
            "name": "C#"
        },
        "language_info": {
            "file_extension": ".cs",
            "mimetype": "text/plain",
            "name": "C#"
        }
    },
    "nbformat": 4,
    "nbformat_minor": 5,
    "cells": [
        {
            "cell_type": "markdown",
            "source": [
                "<p style=\"font-weight:bold;\"> <span style=\"font-size: 36px\"> Scenario Transactional Data Import Test </span> </p>"
            ],
            "metadata": {},
            "execution_count": 0,
            "outputs": []
        },
        {
            "cell_type": "code",
            "source": [
                "#!eval-notebook \"../Initialization/InitSystemorphBaseToMemory\""
            ],
            "metadata": {},
            "execution_count": 0,
            "outputs": []
        },
        {
            "cell_type": "code",
            "source": [
                "DataSource.Reset(x => x.ResetType<RawVariable>().ResetType<IfrsVariable>());"
            ],
            "metadata": {},
            "execution_count": 0,
            "outputs": []
        },
        {
            "cell_type": "markdown",
            "source": [
                "# Setting Constants"
            ],
            "metadata": {},
            "execution_count": 0,
            "outputs": []
        },
        {
            "cell_type": "code",
            "source": [
                "var EnableScenarioBackup = Scenarios.EnableScenario;"
            ],
            "metadata": {},
            "execution_count": 0,
            "outputs": []
        },
        {
            "cell_type": "code",
            "source": [
                "Scenarios.EnableScenario = true;"
            ],
            "metadata": {},
            "execution_count": 0,
            "outputs": []
        },
        {
            "cell_type": "code",
            "source": [
                "var argsBestEstimate = new ImportArgs (\"CH\", 2020, 12, Periodicity.Quarterly, null, ImportFormats.Cashflow);",
                "\nvar argsScenario = new ImportArgs (\"CH\", 2020, 12, Periodicity.Quarterly, \"MTUP10pct\", ImportFormats.Cashflow);"
            ],
            "metadata": {},
            "execution_count": 0,
            "outputs": []
        },
        {
            "cell_type": "code",
            "source": [
                "var estimateTypes = (await DataSource.Query<EstimateType>().ToArrayAsync());",
                "\nvar actualEstimateTypes = estimateTypes.Where(et => et.InputSource.Contains(InputSource.Actual)).Select(x => x.SystemName);",
                "\nvar cashflowEstimateTypes = estimateTypes.Where(et => et.InputSource.Contains(InputSource.Cashflow)).Select(x => x.SystemName);",
                "\nvar actualAndCashflowEstimateTypes = actualEstimateTypes.Intersect(cashflowEstimateTypes);",
                "\nvar onlyActualEstimateTypes = actualEstimateTypes.Except(cashflowEstimateTypes);",
                "\nvar onlyCashflowEstimateTypes = cashflowEstimateTypes.Except(actualEstimateTypes);"
            ],
            "metadata": {},
            "execution_count": 0,
            "outputs": []
        },
        {
            "cell_type": "markdown",
            "source": [
                "# Best Estimate Initialization"
            ],
            "metadata": {},
            "execution_count": 0,
            "outputs": []
        },
        {
            "cell_type": "code",
            "source": [
                "var cashflowBestEstimateInit = @\"",
                "\n@@Main",
                "\nReportingNode,Year,Month,Scenario",
                "\nCH,2020,12,",
                "\n@@Cashflow",
                "\nDataNode,AmountType,EstimateType,AocType,Novelty,AccidentYear,Values0,Values1,Values2,Values3,Values4,Values5,Values6,Values7,Values8,Values9,Values10,Values11,Values12,Values13,Values14,Values15,Values16,Values17,Values18,Values19,Values20,Values21,Values22,Values23",
                "\nDT1.1,PR,BE,CL,C,,100,0,0,100,0,0,100,0,0,100,0,0,0,100,0,0,100,0,0,100,0,0,100,0",
                "\nDT1.1,NIC,BE,CL,C,,-25,-25,-25,-25,-25,-25,-25,-25,-25,-25,-25,-25,-25,-25,-25,-25,-25,-25,-25,-25,-25,-25,-25,-25",
                "\nDT1.1,,CU,CL,C,,-10,-10,-10,-10,-10,-10,-10,-10,-10,-10,-10,-10,-10,-5,-5,-5,-5,-5,-5,-5,-5,-5,-5,-3",
                "\nDT1.1,,RA,CL,C,,-2.5,-2.5,-2.5,-2.5,-2.5,-2.5,-2.5,-2.5,-2.5,-2.5,-2.5,-2.5,-2.5,-2.5,-2.5,-2.5,-2.5,-2.5,-2.5,-2.5,-2.5,-2.5,-2.5,-2.5",
                "\nDTR1.1,PR,BE,CL,C,,50,0,0,50,0,0,50,0,0,50,0,0,50,0,0,50,0,0,50,0,0,50,0,0",
                "\nDTR1.1,NIC,BE,CL,C,,12.5,12.5,12.5,12.5,12.5,12.5,12.5,12.5,12.5,12.5,12.5,12.5,12.5,12.5,12.5,12.5,12.5,12.5,12.5,12.5,12.5,12.5,12.5,12.5",
                "\nDTR1.1,,CU,CL,C,,-5,-5,-5,-5,-5,-5,-5,-5,-5,-5,-5,-5,-5,-5,-5,-5,-5,-5,-5,-5,-5,-5,-5,-5",
                "\nDTR1.1,,RA,CL,C,,1.25,1.25,1.25,1.25,1.25,1.25,1.25,1.25,1.25,1.25,1.25,1.25,1.25,1.25,1.25,1.25,1.25,1.25,1.25,1.25,1.25,1.25,1.25,1.25\";"
            ],
            "metadata": {},
            "execution_count": 0,
            "outputs": []
        },
        {
            "cell_type": "code",
            "source": [
                "await Import.FromString(cashflowBestEstimateInit).WithFormat(ImportFormats.Cashflow).WithTarget(DataSource).ExecuteAsync()"
            ],
            "metadata": {},
            "execution_count": 0,
            "outputs": []
        },
        {
            "cell_type": "code",
            "source": [
                "var actualsBestEstimateInit = @\"",
                "\n@@Main",
                "\nReportingNode,Year,Month,Scenario",
                "\nCH,2020,12,",
                "\n@@Actual",
                "\nDataNode,AocType,AmountType,EstimateType,AccidentYear,Value",
                "\nDT1.1,CF,ACA,A,,-10",
                "\nDT1.1,CF,AEA,A,,-5",
                "\nDT1.1,CF,NIC,A,,-280",
                "\nDT1.1,CF,PR,A,,400",
                "\nDTR1.1,CF,PR,A,,-200",
                "\nDTR1.1,CF,NIC,A,,140\";"
            ],
            "metadata": {},
            "execution_count": 0,
            "outputs": []
        },
        {
            "cell_type": "code",
            "source": [
                "await Import.FromString(actualsBestEstimateInit).WithFormat(ImportFormats.Actual).WithTarget(DataSource).ExecuteAsync()"
            ],
            "metadata": {},
            "execution_count": 0,
            "outputs": []
        },
        {
            "cell_type": "code",
            "source": [
                "var ivsBestEstimateInit = await DataSource.Query<IfrsVariable>().ToArrayAsync();"
            ],
            "metadata": {},
            "execution_count": 0,
            "outputs": []
        },
        {
            "cell_type": "markdown",
            "source": [
                "# Scenario Init Cash flows"
            ],
            "metadata": {},
            "execution_count": 0,
            "outputs": []
        },
        {
            "cell_type": "code",
            "source": [
                "var cashflowsScenario = @\"",
                "\n@@Main",
                "\nReportingNode,Year,Month,Scenario",
                "\nCH,2020,12,MTUP10pct",
                "\n@@Cashflow",
                "\nDataNode,AmountType,EstimateType,AocType,Novelty,AccidentYear,Values0,Values1,Values2,Values3,Values4,Values5,Values6,Values7,Values8,Values9,Values10,Values11,Values12,Values13,Values14,Values15,Values16,Values17,Values18,Values19,Values20,Values21,Values22,Values23",
                "\nDT1.1,PR,BE,CL,C,,110,0,0,110,0,0,110,0,0,110,0,0,0,110,0,0,110,0,0,110,0,0,110,0",
                "\nDT1.1,NIC,BE,CL,C,,-27.5,-27.5,-27.5,-27.5,-27.5,-27.5,-27.5,-27.5,-27.5,-27.5,-27.5,-27.5,-27.5,-27.5,-27.5,-27.5,-27.5,-27.5,-27.5,-27.5,-27.5,-27.5,-27.5,-27.5",
                "\nDT1.1,,CU,CL,C,,-11,-11,-11,-11,-11,-11,-11,-11,-11,-11,-11,-11,-11,-5.5,-5.5,-5.5,-5.5,-5.5,-5.5,-5.5,-5.5,-53.5,-52.5,-31.3",
                "\nDT1.1,,RA,CL,C,,-2.75,-2.75,-2.75,-2.75,-2.75,-2.75,-2.75,-2.75,-2.75,-2.75,-2.75,-2.75,-2.75,-2.75,-2.75,-2.75,-2.75,-2.75,-2.75,-2.75,-2.75,-2.75,-2.75,-2.75\";"
            ],
            "metadata": {},
            "execution_count": 0,
            "outputs": []
        },
        {
            "cell_type": "code",
            "source": [
                "await Import.FromString(cashflowsScenario).WithFormat(ImportFormats.Cashflow).WithTarget(DataSource).ExecuteAsync()"
            ],
            "metadata": {},
            "execution_count": 0,
            "outputs": []
        },
        {
            "cell_type": "code",
            "source": [
                "await DataSource.Partition.SetAsync<PartitionByReportingNodeAndPeriod>(argsScenario);",
                "\nvar ivsScenarioInitCashFlows = await DataSource.Query<IfrsVariable>().ToArrayAsync();",
                "\nvar diffs = ivsScenarioInitCashFlows.Except(ivsBestEstimateInit, IfrsVariableComparer.Instance());",
                "\nvar actualVars = diffs.Where(x => onlyActualEstimateTypes.Contains(x.EstimateType)).ToArray();",
                "\nvar cashflowVars = diffs.Where(x => onlyCashflowEstimateTypes.Contains(x.EstimateType)).ToArray();",
                "\nvar actualAndCashflowVars = diffs.Where(x => actualAndCashflowEstimateTypes.Contains(x.EstimateType)).ToArray();"
            ],
            "metadata": {},
            "execution_count": 0,
            "outputs": []
        },
        {
            "cell_type": "code",
            "source": [
                "actualVars.Length.Should().Be(0);",
                "\ncashflowVars.Length.Should().NotBe(0);",
                "\ndiffs.Except(actualVars.Union(cashflowVars).Union(actualAndCashflowVars)).ToArray().Length.Should().Be(0);"
            ],
            "metadata": {},
            "execution_count": 0,
            "outputs": []
        },
        {
            "cell_type": "markdown",
            "source": [
                "# Scenario Init Actuals"
            ],
            "metadata": {},
            "execution_count": 0,
            "outputs": []
        },
        {
            "cell_type": "code",
            "source": [
                "var actualsScenario = @\"",
                "\n@@Main",
                "\nReportingNode,Year,Month,Scenario",
                "\nCH,2020,12,MTUP10pct",
                "\n@@Actual",
                "\nDataNode,AocType,AmountType,EstimateType,AccidentYear,Value",
                "\nDT1.1,CF,NIC,A,,-308\";"
            ],
            "metadata": {},
            "execution_count": 0,
            "outputs": []
        },
        {
            "cell_type": "code",
            "source": [
                "await Import.FromString(actualsScenario).WithFormat(ImportFormats.Actual).WithTarget(DataSource).ExecuteAsync()"
            ],
            "metadata": {},
            "execution_count": 0,
            "outputs": []
        },
        {
            "cell_type": "code",
            "source": [
                "await DataSource.Partition.SetAsync<PartitionByReportingNodeAndPeriod>(argsScenario);",
                "\nvar ivsScenarioInitActuals = DataSource.Query<IfrsVariable>().ToArray();",
                "\nvar diffs = ivsScenarioInitActuals.Except(ivsScenarioInitCashFlows, IfrsVariableComparer.Instance());",
                "\nvar actualVars = diffs.Where(x => onlyActualEstimateTypes.Contains(x.EstimateType)).ToArray();",
                "\nvar cashflowVars = diffs.Where(x => onlyCashflowEstimateTypes.Contains(x.EstimateType)).ToArray();",
                "\nvar actualAndCashflowVars = diffs.Where(x => actualAndCashflowEstimateTypes.Contains(x.EstimateType)).ToArray();"
            ],
            "metadata": {},
            "execution_count": 0,
            "outputs": []
        },
        {
            "cell_type": "code",
            "source": [
                "actualVars.Length.Should().NotBe(0);",
                "\ncashflowVars.Length.Should().Be(0);",
                "\ndiffs.Except(actualVars.Union(cashflowVars).Union(actualAndCashflowVars)).ToArray().Length.Should().Be(0);"
            ],
            "metadata": {},
            "execution_count": 0,
            "outputs": []
        },
        {
            "cell_type": "markdown",
            "source": [
                "# Update of Deferrable Actuals with a Scenario Coverage Units Import"
            ],
            "metadata": {},
            "execution_count": 0,
            "outputs": []
        },
        {
            "cell_type": "markdown",
            "source": [
                "Update CU cashflow for scenario and check that the Amortization Factor (and hence the Deferrable Actual) is updated"
            ],
            "metadata": {},
            "execution_count": 0,
            "outputs": []
        },
        {
            "cell_type": "code",
            "source": [
                "var cashflowsScenarioUpdateCU = @\"",
                "\n@@Main",
                "\nReportingNode,Year,Month,Scenario",
                "\nCH,2020,12,MTUP10pct",
                "\n@@Cashflow",
                "\nDataNode,AmountType,EstimateType,AocType,Novelty,AccidentYear,Values0,Values1,Values2,Values3,Values4,Values5,Values6,Values7,Values8,Values9,Values10,Values11,Values12,Values13,Values14,Values15,Values16,Values17,Values18,Values19,Values20,Values21,Values22,Values23",
                "\nDT1.1,,CU,CL,C,,-17,-17,-17,-17,-17,-17,-17,-17,-17,-17,-17,-17,-17,-6.5,-6.5,-6.5,-6.5,-6.5,-6.5,-6.5,-6.5,-6.5,-7.5,-8.5\";"
            ],
            "metadata": {},
            "execution_count": 0,
            "outputs": []
        },
        {
            "cell_type": "code",
            "source": [
                "await Import.FromString(cashflowsScenarioUpdateCU).WithFormat(ImportFormats.Cashflow).WithTarget(DataSource).ExecuteAsync()"
            ],
            "metadata": {},
            "execution_count": 0,
            "outputs": []
        },
        {
            "cell_type": "code",
            "source": [
                "await DataSource.Partition.SetAsync<PartitionByReportingNodeAndPeriod>(argsScenario);",
                "\nvar ivsScenarioCashflowUpdateCU = await DataSource.Query<IfrsVariable>().ToArrayAsync();",
                "\nvar diffs = ivsScenarioCashflowUpdateCU.Except(ivsScenarioInitActuals, IfrsVariableComparer.Instance());",
                "\nvar actualVars = diffs.Where(x => onlyActualEstimateTypes.Contains(x.EstimateType)).ToArray();",
                "\nvar cashflowVars = diffs.Where(x => onlyCashflowEstimateTypes.Contains(x.EstimateType)).ToArray();",
                "\nvar actualAndCashflowVars = diffs.Where(x => actualAndCashflowEstimateTypes.Contains(x.EstimateType)).ToArray();"
            ],
            "metadata": {},
            "execution_count": 0,
            "outputs": []
        },
        {
            "cell_type": "code",
            "source": [
                "actualVars.Length.Should().Be(0);",
                "\ncashflowVars.Where(x => x.EstimateType == EstimateTypes.F).Count().Should().NotBe(0);",
                "\ndiffs.Where(x => x.EstimateType == EstimateTypes.C).Count().Should().NotBe(0);",
                "\ndiffs.Where(x => x.EstimateType == EstimateTypes.DA).Count().Should().NotBe(0);",
                "\ndiffs.Except(actualVars.Union(cashflowVars).Union(actualAndCashflowVars)).ToArray().Length.Should().Be(0);"
            ],
            "metadata": {},
            "execution_count": 0,
            "outputs": []
        },
        {
            "cell_type": "markdown",
            "source": [
                "# Update of Deferrable Actuals with a Scenario ACA/AEA Import"
            ],
            "metadata": {},
            "execution_count": 0,
            "outputs": []
        },
        {
            "cell_type": "code",
            "source": [
                "var actualsScenarioUpdateACAAEA = @\"",
                "\n@@Main",
                "\nReportingNode,Year,Month,Scenario",
                "\nCH,2020,12,MTUP10pct",
                "\n@@Actual",
                "\nDataNode,AocType,AmountType,EstimateType,AccidentYear,Value",
                "\nDT1.1,CF,ACA,A,,-555",
                "\nDT1.1,CF,AEA,A,,-777\";"
            ],
            "metadata": {},
            "execution_count": 0,
            "outputs": []
        },
        {
            "cell_type": "code",
            "source": [
                "await Import.FromString(actualsScenarioUpdateACAAEA).WithFormat(ImportFormats.Actual).WithTarget(DataSource).ExecuteAsync()"
            ],
            "metadata": {},
            "execution_count": 0,
            "outputs": []
        },
        {
            "cell_type": "code",
            "source": [
                "await DataSource.Partition.SetAsync<PartitionByReportingNodeAndPeriod>(argsScenario);",
                "\nvar ivsScenarioActualUpdateACAAEA = await DataSource.Query<IfrsVariable>().ToArrayAsync();",
                "\nvar diffs = ivsScenarioActualUpdateACAAEA.Except(ivsScenarioCashflowUpdateCU, IfrsVariableComparer.Instance());",
                "\nvar actualVars = diffs.Where(x => onlyActualEstimateTypes.Contains(x.EstimateType)).ToArray();",
                "\nvar cashflowVars = diffs.Where(x => onlyCashflowEstimateTypes.Contains(x.EstimateType)).ToArray();",
                "\nvar actualAndCashflowVars = diffs.Where(x => actualAndCashflowEstimateTypes.Contains(x.EstimateType)).ToArray();"
            ],
            "metadata": {},
            "execution_count": 0,
            "outputs": []
        },
        {
            "cell_type": "code",
            "source": [
                "cashflowVars.Count().Should().Be(0);",
                "\ndiffs.Where(x => x.EstimateType == EstimateTypes.DA).ToArray().Length.Should().NotBe(0);",
                "\ndiffs.Where(x => x.EstimateType == EstimateTypes.F).ToArray().Length.Should().Be(0);",
                "\ndiffs.Except(actualVars.Union(cashflowVars).Union(actualAndCashflowVars)).ToArray().Length.Should().Be(0);"
            ],
            "metadata": {},
            "execution_count": 0,
            "outputs": []
        },
        {
            "cell_type": "markdown",
            "source": [
                "# Removal of Deferrable Actuals with a Actual Scenario Import"
            ],
            "metadata": {},
            "execution_count": 0,
            "outputs": []
        },
        {
            "cell_type": "markdown",
            "source": [
                "Set ACA and AEA to zero and check that DA is removed"
            ],
            "metadata": {},
            "execution_count": 0,
            "outputs": []
        },
        {
            "cell_type": "code",
            "source": [
                "var actualsScenarioNoACAAEA = @\"",
                "\n@@Main",
                "\nReportingNode,Year,Month,Scenario",
                "\nCH,2020,12,MTUP10pct",
                "\n@@Actual",
                "\nDataNode,AocType,AmountType,EstimateType,AccidentYear,Value",
                "\nDT1.1,CF,ACA,A,,0",
                "\nDT1.1,CF,AEA,A,,0\";"
            ],
            "metadata": {},
            "execution_count": 0,
            "outputs": []
        },
        {
            "cell_type": "code",
            "source": [
                "await Import.FromString(actualsScenarioNoACAAEA).WithFormat(ImportFormats.Actual).WithTarget(DataSource).ExecuteAsync()"
            ],
            "metadata": {},
            "execution_count": 0,
            "outputs": []
        },
        {
            "cell_type": "code",
            "source": [
                "await DataSource.Partition.SetAsync<PartitionByReportingNodeAndPeriod>(argsScenario);",
                "\nvar ivsScenarioActualNoACAAEA = await DataSource.Query<IfrsVariable>().ToArrayAsync();",
                "\nvar diffs = ivsScenarioActualNoACAAEA.Except(ivsScenarioActualUpdateACAAEA, IfrsVariableComparer.Instance());"
            ],
            "metadata": {},
            "execution_count": 0,
            "outputs": []
        },
        {
            "cell_type": "code",
            "source": [
                "diffs.Where(x => x.EstimateType == EstimateTypes.DA).ToArray().Length.Should().NotBe(0);",
                "\nivsScenarioActualNoACAAEA.Where(x => x.EstimateType == EstimateTypes.F).Count().Should().NotBe(0);",
                "\nivsScenarioActualNoACAAEA.Where(x => x.EstimateType == EstimateTypes.DA && x.Values.Any(v => Math.Abs(v) > Precision)).Count().Should().Be(0);"
            ],
            "metadata": {},
            "execution_count": 0,
            "outputs": []
        },
        {
            "cell_type": "markdown",
            "source": [
                "# Robustness: scenario back to Best Estimate"
            ],
            "metadata": {},
            "execution_count": 0,
            "outputs": []
        },
        {
            "cell_type": "code",
            "source": [
                "var cashflowsScenarioEqualToBestEstimate = @\"",
                "\n@@Main",
                "\nReportingNode,Year,Month,Scenario",
                "\nCH,2020,12,MTUP10pct",
                "\n@@Cashflow",
                "\nDataNode,AmountType,EstimateType,AocType,Novelty,AccidentYear,Values0,Values1,Values2,Values3,Values4,Values5,Values6,Values7,Values8,Values9,Values10,Values11,Values12,Values13,Values14,Values15,Values16,Values17,Values18,Values19,Values20,Values21,Values22,Values23",
                "\nDT1.1,PR,BE,CL,C,,100,0,0,100,0,0,100,0,0,100,0,0,0,100,0,0,100,0,0,100,0,0,100,0",
                "\nDT1.1,NIC,BE,CL,C,,-25,-25,-25,-25,-25,-25,-25,-25,-25,-25,-25,-25,-25,-25,-25,-25,-25,-25,-25,-25,-25,-25,-25,-25",
                "\nDT1.1,,CU,CL,C,,-10,-10,-10,-10,-10,-10,-10,-10,-10,-10,-10,-10,-10,-5,-5,-5,-5,-5,-5,-5,-5,-5,-5,-3",
                "\nDT1.1,,RA,CL,C,,-2.5,-2.5,-2.5,-2.5,-2.5,-2.5,-2.5,-2.5,-2.5,-2.5,-2.5,-2.5,-2.5,-2.5,-2.5,-2.5,-2.5,-2.5,-2.5,-2.5,-2.5,-2.5,-2.5,-2.5\";"
            ],
            "metadata": {},
            "execution_count": 0,
            "outputs": []
        },
        {
            "cell_type": "code",
            "source": [
                "var actualsScenarioEqualToBestEstimate = @\"",
                "\n@@Main",
                "\nReportingNode,Year,Month,Scenario",
                "\nCH,2020,12,MTUP10pct",
                "\n@@Actual",
                "\nDataNode,AocType,AmountType,EstimateType,AccidentYear,Value",
                "\nDT1.1,CF,ACA,A,,-10",
                "\nDT1.1,CF,AEA,A,,-5",
                "\nDT1.1,CF,NIC,A,,-280\";"
            ],
            "metadata": {},
            "execution_count": 0,
            "outputs": []
        },
        {
            "cell_type": "code",
            "source": [
                "await Import.FromString(actualsScenarioEqualToBestEstimate).WithFormat(ImportFormats.Actual).WithTarget(DataSource).ExecuteAsync()"
            ],
            "metadata": {},
            "execution_count": 0,
            "outputs": []
        },
        {
            "cell_type": "code",
            "source": [
                "await Import.FromString(cashflowsScenarioEqualToBestEstimate).WithFormat(ImportFormats.Cashflow).WithTarget(DataSource).ExecuteAsync()"
            ],
            "metadata": {},
            "execution_count": 0,
            "outputs": []
        },
        {
            "cell_type": "code",
            "source": [
                "await DataSource.Partition.SetAsync<PartitionByReportingNodeAndPeriod>(argsScenario);",
                "\nvar ivsScenarioReimportEqualToBestEstimate = await DataSource.Query<IfrsVariable>().ToArrayAsync(); ",
                "\nvar diffs = ivsScenarioReimportEqualToBestEstimate.Except(ivsBestEstimateInit, IfrsVariableComparer.Instance()).Where(x =>x.Values.Any(v => Math.Abs(v) > Precision));"
            ],
            "metadata": {},
            "execution_count": 0,
            "outputs": []
        },
        {
            "cell_type": "code",
            "source": [
                "ivsScenarioReimportEqualToBestEstimate.Count().Should().Be(0);"
            ],
            "metadata": {},
            "execution_count": 0,
            "outputs": []
        },
        {
            "cell_type": "markdown",
            "source": [
                "# Reimport of Best Estimate Cashflow: zero impact on Scenario"
            ],
            "metadata": {},
            "execution_count": 0,
            "outputs": []
        },
        {
            "cell_type": "markdown",
            "source": [
                "Reimport of best estimate with different gross cash flow, whereas reinsurance business is the same of the initialization. This causes an update of the best estimate IFRS variables but it must have no impact on Scenario variables because gross cash flow contains only a combination of AocType, Novelty and AmoutType that have already been imported for Scenario (see above the variable cashflowsScenarioEqualToBestEstimate). "
            ],
            "metadata": {},
            "execution_count": 0,
            "outputs": []
        },
        {
            "cell_type": "code",
            "source": [
                "var cashflowsBestEstimateNoImpact = @\"",
                "\n@@Main",
                "\nReportingNode,Year,Month,Scenario",
                "\nCH,2020,12,",
                "\n@@Cashflow",
                "\nDataNode,AmountType,EstimateType,AocType,Novelty,AccidentYear,Values0,Values1,Values2,Values3,Values4,Values5,Values6,Values7,Values8,Values9,Values10,Values11,Values12,Values13,Values14,Values15,Values16,Values17,Values18,Values19,Values20,Values21,Values22,Values23",
                "\nDT1.1,PR,BE,CL,C,,210,0,0,210,0,0,210,0,0,210,0,0,0,210,0,0,210,0,0,210,0,0,210,0",
                "\nDT1.1,NIC,BE,CL,C,,-37,-37,-37,-37,-37,-37,-37,-37,-37,-37,-37,-37,-37,-37,-37,-37,-37,-37,-37,-37,-37,-37,-37,-37",
                "\nDT1.1,,CU,CL,C,,-21,-21,-21,-21,-21,-21,-21,-21,-21,-21,-21,-21,-21,-17,-17,-17,-17,-17,-17,-17,-17,-17,-17,-3.3",
                "\nDT1.1,,RA,CL,C,,-42,-42,-42,-42,-42,-42,-42,-42,-42,-42,-42,-42,-42,-42,-42,-42,-42,-42,-42,-42,-42,-42,-42,-42",
                "\nDTR1.1,PR,BE,CL,C,,50,0,0,50,0,0,50,0,0,50,0,0,50,0,0,50,0,0,50,0,0,50,0,0",
                "\nDTR1.1,NIC,BE,CL,C,,12.5,12.5,12.5,12.5,12.5,12.5,12.5,12.5,12.5,12.5,12.5,12.5,12.5,12.5,12.5,12.5,12.5,12.5,12.5,12.5,12.5,12.5,12.5,12.5",
                "\nDTR1.1,,CU,CL,C,,-5,-5,-5,-5,-5,-5,-5,-5,-5,-5,-5,-5,-5,-5,-5,-5,-5,-5,-5,-5,-5,-5,-5,-5",
                "\nDTR1.1,,RA,CL,C,,1.25,1.25,1.25,1.25,1.25,1.25,1.25,1.25,1.25,1.25,1.25,1.25,1.25,1.25,1.25,1.25,1.25,1.25,1.25,1.25,1.25,1.25,1.25,1.25\";"
            ],
            "metadata": {},
            "execution_count": 0,
            "outputs": []
        },
        {
            "cell_type": "code",
            "source": [
                "await Import.FromString(cashflowsBestEstimateNoImpact).WithFormat(ImportFormats.Cashflow).WithTarget(DataSource).ExecuteAsync()"
            ],
            "metadata": {},
            "execution_count": 0,
            "outputs": []
        },
        {
            "cell_type": "code",
            "source": [
                "await DataSource.Partition.SetAsync<PartitionByReportingNodeAndPeriod>(argsBestEstimate);",
                "\nvar ivsBestEstimateReimportCashFlowsNoImpactScenario = await DataSource.Query<IfrsVariable>().ToArrayAsync();",
                "\nvar diffs = ivsBestEstimateReimportCashFlowsNoImpactScenario.Except(ivsBestEstimateInit, IfrsVariableComparer.Instance());",
                "\nvar actualVars = diffs.Where(x => onlyActualEstimateTypes.Contains(x.EstimateType)).ToArray();",
                "\nvar cashflowVars = diffs.Where(x => onlyCashflowEstimateTypes.Contains(x.EstimateType)).ToArray();",
                "\nvar actualAndCashflowVars = diffs.Where(x => actualAndCashflowEstimateTypes.Contains(x.EstimateType)).ToArray();"
            ],
            "metadata": {},
            "execution_count": 0,
            "outputs": []
        },
        {
            "cell_type": "code",
            "source": [
                "diffs.Where(x => x.EstimateType == EstimateTypes.DA).Count().Should().NotBe(0);",
                "\nactualVars.Length.Should().Be(0);",
                "\ndiffs.Except(actualVars.Union(cashflowVars).Union(actualAndCashflowVars)).ToArray().Length.Should().Be(0);"
            ],
            "metadata": {},
            "execution_count": 0,
            "outputs": []
        },
        {
            "cell_type": "code",
            "source": [
                "await DataSource.Partition.SetAsync<PartitionByReportingNodeAndPeriod>(argsScenario);",
                "\nvar ivsScenarioReimportCashFlowsNoImpactScenario = await DataSource.Query<IfrsVariable>().ToArrayAsync();",
                "\nvar diffs = ivsScenarioReimportCashFlowsNoImpactScenario.Except(ivsBestEstimateInit, IfrsVariableComparer.Instance());"
            ],
            "metadata": {},
            "execution_count": 0,
            "outputs": []
        },
        {
            "cell_type": "code",
            "source": [
                "diffs.Where(x => onlyCashflowEstimateTypes.Contains(x.EstimateType) && x.EstimateType != EstimateTypes.F && x.Values.Any(v => Math.Abs(v) > Precision)).Count().Should().Be(0);",
                "\ndiffs.Where(x => onlyActualEstimateTypes.Contains(x.EstimateType) && x.Values.Any(v => Math.Abs(v) > Precision)).Count().Should().Be(0);"
            ],
            "metadata": {},
            "execution_count": 0,
            "outputs": []
        },
        {
            "cell_type": "markdown",
            "source": [
                "# Reimport of Best Estimate Cashflow"
            ],
            "metadata": {},
            "execution_count": 0,
            "outputs": []
        },
        {
            "cell_type": "code",
            "source": [
                "var cashflowsBestEstimateImpact = @\"",
                "\n@@Main",
                "\nReportingNode,Year,Month,Scenario",
                "\nCH,2020,12,",
                "\n@@Cashflow",
                "\nDataNode,AmountType,EstimateType,AocType,Novelty,AccidentYear,Values0,Values1,Values2,Values3,Values4,Values5,Values6,Values7,Values8,Values9,Values10,Values11,Values12,Values13,Values14,Values15,Values16,Values17,Values18,Values19,Values20,Values21,Values22,Values23",
                "\nDT1.1,ICO,BE,CL,C,,-3,-3,-3,-3,-3,-3,-3,-3,-3,-3,-3,-3,-3,-3,-3,-3,-3,-3,-3,-3,-3,-3,-3,-3",
                "\nDT1.1,PR,BE,CL,C,,210,0,0,210,0,0,210,0,0,210,0,0,0,210,0,0,210,0,0,210,0,0,210,0",
                "\nDT1.1,NIC,BE,CL,C,,-37,-37,-37,-37,-37,-37,-37,-37,-37,-37,-37,-37,-37,-37,-37,-37,-37,-37,-37,-37,-37,-37,-37,-37",
                "\nDT1.1,,CU,CL,C,,-21,-21,-21,-21,-21,-21,-21,-21,-21,-21,-21,-21,-21,-17,-17,-17,-17,-17,-17,-17,-17,-17,-17,-3.3",
                "\nDT1.1,,RA,CL,C,,-42,-42,-42,-42,-42,-42,-42,-42,-42,-42,-42,-42,-42,-42,-42,-42,-42,-42,-42,-42,-42,-42,-42,-42\";"
            ],
            "metadata": {},
            "execution_count": 0,
            "outputs": []
        },
        {
            "cell_type": "code",
            "source": [
                "await Import.FromString(cashflowsBestEstimateImpact).WithFormat(ImportFormats.Cashflow).WithTarget(DataSource).ExecuteAsync()"
            ],
            "metadata": {},
            "execution_count": 0,
            "outputs": []
        },
        {
            "cell_type": "code",
            "source": [
                "await DataSource.Partition.SetAsync<PartitionByReportingNodeAndPeriod>(argsBestEstimate);",
                "\nvar ivsBestEstimateReimportCashFlows = await DataSource.Query<IfrsVariable>().ToArrayAsync();",
                "\nvar diffs = ivsBestEstimateReimportCashFlows.Except(ivsBestEstimateReimportCashFlowsNoImpactScenario, IfrsVariableComparer.Instance());"
            ],
            "metadata": {},
            "execution_count": 0,
            "outputs": []
        },
        {
            "cell_type": "code",
            "source": [
                "diffs.Count().Should().NotBe(0);"
            ],
            "metadata": {},
            "execution_count": 0,
            "outputs": []
        },
        {
            "cell_type": "code",
            "source": [
                "await DataSource.Partition.SetAsync<PartitionByReportingNodeAndPeriod>(argsScenario);",
                "\nvar ivsScenarioReimportCashFlows = await DataSource.Query<IfrsVariable>().ToArrayAsync();",
                "\nvar diffs = ivsScenarioReimportCashFlows.Except(ivsScenarioReimportCashFlowsNoImpactScenario, IfrsVariableComparer.Instance());",
                "\nvar actualVars = diffs.Where(x => onlyActualEstimateTypes.Contains(x.EstimateType)).ToArray();",
                "\nvar cashflowVars = diffs.Where(x => onlyCashflowEstimateTypes.Contains(x.EstimateType)).ToArray();",
                "\nvar actualAndCashflowVars = diffs.Where(x => actualAndCashflowEstimateTypes.Contains(x.EstimateType)).ToArray();"
            ],
            "metadata": {},
            "execution_count": 0,
            "outputs": []
        },
        {
            "cell_type": "code",
            "source": [
                "cashflowVars.Length.Should().NotBe(0);",
                "\nactualVars.Length.Should().Be(0);",
                "\ndiffs.Except(actualVars.Union(cashflowVars).Union(actualAndCashflowVars)).ToArray().Length.Should().Be(0);"
            ],
            "metadata": {},
            "execution_count": 0,
            "outputs": []
        },
        {
            "cell_type": "markdown",
            "source": [
                "# Reimport of Best Estimate Actuals"
            ],
            "metadata": {},
            "execution_count": 0,
            "outputs": []
        },
        {
            "cell_type": "code",
            "source": [
                "var newActualsBestEstimate = @\"",
                "\n@@Main",
                "\nReportingNode,Year,Month,Scenario",
                "\nCH,2020,12,",
                "\n@@Actual",
                "\nDataNode,AocType,AmountType,EstimateType,AccidentYear,Value",
                "\nDT1.1,CF,NIC,A,,-2000",
                "\nDT1.1,CF,PR,A,,4000",
                "\nDT1.1,CF,CL,A,,-3000\";"
            ],
            "metadata": {},
            "execution_count": 0,
            "outputs": []
        },
        {
            "cell_type": "code",
            "source": [
                "await Import.FromString(newActualsBestEstimate).WithFormat(ImportFormats.Actual).WithTarget(DataSource).ExecuteAsync()"
            ],
            "metadata": {},
            "execution_count": 0,
            "outputs": []
        },
        {
            "cell_type": "code",
            "source": [
                "await DataSource.Partition.SetAsync<PartitionByReportingNodeAndPeriod>(argsBestEstimate);",
                "\nvar ivsBestEstimateReimportActuals = await DataSource.Query<IfrsVariable>().ToArrayAsync();",
                "\nvar diffs = ivsBestEstimateReimportActuals.Except(ivsBestEstimateReimportCashFlows, IfrsVariableComparer.Instance());",
                "\nvar actualVars = diffs.Where(x => onlyActualEstimateTypes.Contains(x.EstimateType)).ToArray();",
                "\nvar cashflowVars = diffs.Where(x => onlyCashflowEstimateTypes.Contains(x.EstimateType)).ToArray();"
            ],
            "metadata": {},
            "execution_count": 0,
            "outputs": []
        },
        {
            "cell_type": "code",
            "source": [
                "actualVars.Length.Should().NotBe(0);",
                "\ncashflowVars.Length.Should().Be(0);"
            ],
            "metadata": {},
            "execution_count": 0,
            "outputs": []
        },
        {
            "cell_type": "code",
            "source": [
                "await DataSource.Partition.SetAsync<PartitionByReportingNodeAndPeriod>(argsScenario);",
                "\nvar ivsScenarioReimportActuals = await DataSource.Query<IfrsVariable>().ToArrayAsync();",
                "\nvar diffs = ivsScenarioReimportActuals.Except(ivsScenarioReimportCashFlows, IfrsVariableComparer.Instance());",
                "\nvar actualVars = diffs.Where(x => onlyActualEstimateTypes.Contains(x.EstimateType)).ToArray();",
                "\nvar cashflowVars = diffs.Where(x => onlyCashflowEstimateTypes.Contains(x.EstimateType)).ToArray();"
            ],
            "metadata": {},
            "execution_count": 0,
            "outputs": []
        },
        {
            "cell_type": "code",
            "source": [
                "diffs.Where(x => x.EstimateType == EstimateTypes.C).Count().Should().NotBe(0);",
                "\nactualVars.Length.Should().Be(0);",
                "\ncashflowVars.Length.Should().Be(0);"
            ],
            "metadata": {},
            "execution_count": 0,
            "outputs": []
        },
        {
            "cell_type": "markdown",
            "source": [
                "# Update of Deferrable Actuals with a Best Estimate Coverage Units Import"
            ],
            "metadata": {},
            "execution_count": 0,
            "outputs": []
        },
        {
            "cell_type": "markdown",
            "source": [
                "Reset Coverage Units for Scenario so that they are taken from Best Estimate. Then, test that a re-import of Best Estimate Coverage Units changes the Scenario Deferrable Actuals. "
            ],
            "metadata": {},
            "execution_count": 0,
            "outputs": []
        },
        {
            "cell_type": "code",
            "source": [
                "var cashflowsScenarioNoCU = @\"",
                "\n@@Main",
                "\nReportingNode,Year,Month,Scenario",
                "\nCH,2020,12,MTUP10pct",
                "\n@@Cashflow",
                "\nDataNode,AmountType,EstimateType,AocType,Novelty,AccidentYear,Values0,Values1,Values2,Values3,Values4,Values5,Values6,Values7,Values8,Values9,Values10,Values11,Values12,Values13,Values14,Values15,Values16,Values17,Values18,Values19,Values20,Values21,Values22,Values23",
                "\nDT1.1,PR,BE,CL,C,,110,0,0,110,0,0,110,0,0,110,0,0,0,110,0,0,110,0,0,110,0,0,110,0",
                "\nDT1.1,NIC,BE,CL,C,,-274.5,-27.5,-27.5,-27.5,-27.5,-27.5,-27.5,-27.5,-27.5,-27.5,-27.5,-27.5,-27.5,-27.5,-27.5,-27.5,-27.5,-27.5,-27.5,-27.5,-27.5,-27.5,-27.5,-27.5",
                "\nDT1.1,,RA,CL,C,,-2.75,-2.75,-2.75,-2.75,-2.75,-2.75,-2.75,-2.75,-2.75,-2.75,-2.75,-2.75,-2.75,-2.75,-2.75,-2.75,-2.75,-2.75,-2.75,-2.75,-2.75,-2.75,-2.75,-2.75\";"
            ],
            "metadata": {},
            "execution_count": 0,
            "outputs": []
        },
        {
            "cell_type": "code",
            "source": [
                "var cashflowsBestEstimateUpdatedCU = @\"",
                "\n@@Main",
                "\nReportingNode,Year,Month,Scenario",
                "\nCH,2020,12,",
                "\n@@Cashflow",
                "\nDataNode,AmountType,EstimateType,AocType,Novelty,AccidentYear,Values0,Values1,Values2,Values3,Values4,Values5,Values6,Values7,Values8,Values9,Values10,Values11,Values12,Values13,Values14,Values15,Values16,Values17,Values18,Values19,Values20,Values21,Values22,Values23",
                "\nDT1.1,PR,BE,CL,C,,200,0,0,200,0,0,200,0,0,200,0,0,0,200,0,0,200,0,0,200,0,0,200,0",
                "\nDT1.1,NIC,BE,CL,C,,-33,-33,-33,-33,-33,-33,-33,-33,-33,-33,-33,-33,-33,-33,-33,-33,-33,-33,-33,-33,-33,-33,-33,-33",
                "\nDT1.1,,CU,CL,C,,-719,-71,-70,-70,-69,-69,-68,-68,-67,-67,-66,-66,-65,-65,-64,-64,-63,-63,-62,-62,-61,-61,-60,-60",
                "\nDT1.1,,RA,CL,C,,-45,-45,-45,-45,-45,-45,-45,-45,-45,-45,-45,-45,-45,-45,-45,-45,-45,-45,-45,-45,-45,-45,-45,-45\";"
            ],
            "metadata": {},
            "execution_count": 0,
            "outputs": []
        },
        {
            "cell_type": "code",
            "source": [
                "await DataSource.Partition.SetAsync<PartitionByReportingNodeAndPeriod>(argsScenario);",
                "\nawait DataSource.DeleteAsync(await DataSource.Query<RawVariable>().ToArrayAsync());"
            ],
            "metadata": {},
            "execution_count": 0,
            "outputs": []
        },
        {
            "cell_type": "code",
            "source": [
                "await Import.FromString(cashflowsScenarioNoCU).WithFormat(ImportFormats.Cashflow).WithTarget(DataSource).ExecuteAsync()"
            ],
            "metadata": {},
            "execution_count": 0,
            "outputs": []
        },
        {
            "cell_type": "code",
            "source": [
                "await DataSource.Partition.SetAsync<PartitionByReportingNodeAndPeriod>(argsScenario);",
                "\nvar ivsScenarioReimportCashflowNoCU = await DataSource.Query<IfrsVariable>().ToArrayAsync();"
            ],
            "metadata": {},
            "execution_count": 0,
            "outputs": []
        },
        {
            "cell_type": "code",
            "source": [
                "await Import.FromString(cashflowsBestEstimateUpdatedCU).WithFormat(ImportFormats.Cashflow).WithTarget(DataSource).ExecuteAsync()"
            ],
            "metadata": {},
            "execution_count": 0,
            "outputs": []
        },
        {
            "cell_type": "code",
            "source": [
                "await DataSource.Partition.SetAsync<PartitionByReportingNodeAndPeriod>(argsScenario);",
                "\nvar ivsScenarioReimportCashFlowsWithCU = await DataSource.Query<IfrsVariable>().ToArrayAsync();",
                "\nvar diffs = ivsScenarioReimportCashFlowsWithCU.Except(ivsScenarioReimportCashflowNoCU, IfrsVariableComparer.Instance());",
                "\nvar actualVars = diffs.Where(x => onlyActualEstimateTypes.Contains(x.EstimateType)).ToArray();",
                "\nvar cashflowVars = diffs.Where(x => onlyCashflowEstimateTypes.Contains(x.EstimateType)).ToArray();"
            ],
            "metadata": {},
            "execution_count": 0,
            "outputs": []
        },
        {
            "cell_type": "code",
            "source": [
                "actualVars.Length.Should().Be(0);",
                "\ndiffs.Count().Should().NotBe(0);"
            ],
            "metadata": {},
            "execution_count": 0,
            "outputs": []
        },
        {
            "cell_type": "markdown",
            "source": [
                "# Restore Constants"
            ],
            "metadata": {},
            "execution_count": 0,
            "outputs": []
        },
        {
            "cell_type": "code",
            "source": [
                "Scenarios.EnableScenario = EnableScenarioBackup;"
            ],
            "metadata": {},
            "execution_count": 0,
            "outputs": []
        },
        {
            "cell_type": "code",
            "source": [
                ""
            ],
            "metadata": {},
            "execution_count": 0,
            "outputs": []
        }
    ]
}