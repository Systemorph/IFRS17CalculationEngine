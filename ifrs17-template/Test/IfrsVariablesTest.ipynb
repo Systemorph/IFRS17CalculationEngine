{
    "metadata": {
        "authors": [],
        "id": "L-jO5zRc-0WHi8WTFkhcWQ",
        "kernelspec": {
            "display_name": "Formula Framework",
            "language": "C#",
            "name": "C#"
        },
        "language_info": {
            "file_extension": ".cs",
            "mimetype": "text/plain",
            "name": "C#"
        }
    },
    "nbformat": 4,
    "nbformat_minor": 5,
    "cells": [
        {
            "cell_type": "markdown",
            "source": [
                "<p style=\"font-weight:bold;\"> <span style=\"font-size: 36px\"> Ifrs Variable </span> </p>"
            ],
            "metadata": {},
            "execution_count": 0,
            "outputs": []
        },
        {
            "cell_type": "markdown",
            "source": [
                "Uncomment the next cell to run or debug this test."
            ],
            "metadata": {},
            "execution_count": 0,
            "outputs": []
        },
        {
            "cell_type": "code",
            "source": [
                "//#!eval-notebook \"Data/InitSystemorphToMemoryForTesting\""
            ],
            "metadata": {},
            "execution_count": 0,
            "outputs": []
        },
        {
            "cell_type": "markdown",
            "source": [
                "# Set Up"
            ],
            "metadata": {},
            "execution_count": 0,
            "outputs": []
        },
        {
            "cell_type": "code",
            "source": [
                "#!import \"IfrsVariablesTestBase\""
            ],
            "metadata": {},
            "execution_count": 0,
            "outputs": []
        },
        {
            "cell_type": "markdown",
            "source": [
                "# BenchMark"
            ],
            "metadata": {},
            "execution_count": 0,
            "outputs": []
        },
        {
            "cell_type": "code",
            "source": [
                "var bmFiles = new BenchmarkMetadata[]{",
                "\n    //2020 Q4",
                "\n    new BenchmarkMetadata(pathToBm+\"BM_CH_2020_12__A.csv\"   , \"CH\", 2020, 12),",
                "\n    new BenchmarkMetadata(pathToBm+\"BM_CH_2020_12__AA.csv\"  , \"CH\", 2020, 12),",
                "\n    new BenchmarkMetadata(pathToBm+\"BM_CH_2020_12__APA.csv\" , \"CH\", 2020, 12),",
                "\n    new BenchmarkMetadata(pathToBm+\"BM_CH_2020_12__BE.csv\"  , \"CH\", 2020, 12),",
                "\n    new BenchmarkMetadata(pathToBm+\"BM_CH_2020_12__BEPA.csv\", \"CH\", 2020, 12),",
                "\n    new BenchmarkMetadata(pathToBm+\"BM_CH_2020_12__C.csv\"   , \"CH\", 2020, 12),",
                "\n    new BenchmarkMetadata(pathToBm+\"BM_CH_2020_12__L.csv\"   , \"CH\", 2020, 12),",
                "\n    new BenchmarkMetadata(pathToBm+\"BM_CH_2020_12__DA.csv\"  , \"CH\", 2020, 12),",
                "\n    new BenchmarkMetadata(pathToBm+\"BM_CH_2020_12__F.csv\"   , \"CH\", 2020, 12),",
                "\n    new BenchmarkMetadata(pathToBm+\"BM_CH_2020_12__OA.csv\"  , \"CH\", 2020, 12),",
                "\n    new BenchmarkMetadata(pathToBm+\"BM_CH_2020_12__RA.csv\"  , \"CH\", 2020, 12),",
                "\n    // 2020 Q4 MTUP10pct",
                "\n    new BenchmarkMetadata(pathToBm+\"BM_CH_2020_12_MTUP10pct_BE.csv\"   , \"CH\", 2020, 12, \"MTUP10pct\"),",
                "\n    new BenchmarkMetadata(pathToBm+\"BM_CH_2020_12_MTUP10pct_A.csv\"    , \"CH\", 2020, 12, \"MTUP10pct\"),",
                "\n    new BenchmarkMetadata(pathToBm+\"BM_CH_2020_12_MTUP10pct_C.csv\"    , \"CH\", 2020, 12, \"MTUP10pct\"),",
                "\n    new BenchmarkMetadata(pathToBm+\"BM_CH_2020_12_MTUP10pct_L.csv\"    , \"CH\", 2020, 12, \"MTUP10pct\"),",
                "\n    new BenchmarkMetadata(pathToBm+\"BM_CH_2020_12_MTUP10pct_LR.csv\"   , \"CH\", 2020, 12, \"MTUP10pct\"),",
                "\n    // 2021 Q1",
                "\n    new BenchmarkMetadata(pathToBm+\"BM_CH_2021_3__A.csv\"    , \"CH\", 2021, 3),",
                "\n    new BenchmarkMetadata(pathToBm+\"BM_CH_2021_3__AA.csv\"   , \"CH\", 2021, 3),",
                "\n    new BenchmarkMetadata(pathToBm+\"BM_CH_2021_3__APA.csv\"  , \"CH\", 2021, 3),",
                "\n    new BenchmarkMetadata(pathToBm+\"BM_CH_2021_3__BE.csv\"   , \"CH\", 2021, 3),",
                "\n    new BenchmarkMetadata(pathToBm+\"BM_CH_2021_3__BEPA.csv\" , \"CH\", 2021, 3),",
                "\n    new BenchmarkMetadata(pathToBm+\"BM_CH_2021_3__DA.csv\"   , \"CH\", 2021, 3),",
                "\n    new BenchmarkMetadata(pathToBm+\"BM_CH_2021_3__F.csv\"    , \"CH\", 2021, 3),",
                "\n    new BenchmarkMetadata(pathToBm+\"BM_CH_2021_3__L.csv\"    , \"CH\", 2021, 3),",
                "\n    new BenchmarkMetadata(pathToBm+\"BM_CH_2021_3__OA.csv\"   , \"CH\", 2021, 3),",
                "\n    new BenchmarkMetadata(pathToBm+\"BM_CH_2021_3__RA.csv\"   , \"CH\", 2021, 3),",
                "\n    new BenchmarkMetadata(pathToBm+\"BM_CH_2021_3__C.csv\"    , \"CH\", 2021, 3),",
                "\n    new BenchmarkMetadata(pathToBm+\"BM_CH_2021_3__LR.csv\"   , \"CH\", 2021, 3),",
                "\n};",
                "\n"
            ],
            "metadata": {},
            "execution_count": 0,
            "outputs": []
        },
        {
            "cell_type": "markdown",
            "source": [
                "# Test"
            ],
            "metadata": {},
            "execution_count": 0,
            "outputs": []
        },
        {
            "cell_type": "code",
            "source": [
                "excludedDataNodes = null; // new string[]{\"DTP1.1\"};",
                "\nincludedDataNodes = null;",
                "\nvar errorList = await CheckIfrsVariablesValuesAsync(bmFiles, excludedDataNodes, includedDataNodes);"
            ],
            "metadata": {},
            "execution_count": 0,
            "outputs": []
        },
        {
            "cell_type": "code",
            "source": [
                "errorList.Count().Should().Be(0);"
            ],
            "metadata": {},
            "execution_count": 0,
            "outputs": []
        },
        {
            "cell_type": "code",
            "source": [
                "workspace.Dispose();"
            ],
            "metadata": {},
            "execution_count": 0,
            "outputs": []
        }
    ]
}