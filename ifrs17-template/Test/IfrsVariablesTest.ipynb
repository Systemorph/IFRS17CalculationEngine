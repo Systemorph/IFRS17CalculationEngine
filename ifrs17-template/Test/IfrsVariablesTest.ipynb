{
    "metadata": {
        "authors": [],
        "id": "L-jO5zRc-0WHi8WTFkhcWQ",
        "kernelspec": {
            "display_name": "Formula Framework",
            "language": "C#",
            "name": "C#"
        },
        "language_info": {
            "file_extension": ".cs",
            "mimetype": "text/plain",
            "name": "C#"
        }
    },
    "nbformat": 4,
    "nbformat_minor": 5,
    "cells": [
        {
            "cell_type": "markdown",
            "source": [
                "<p style=\"font-weight:bold;\"> <span style=\"font-size: 36px\"> Ifrs Variable </span> </p>"
            ],
            "metadata": {},
            "execution_count": 0,
            "outputs": []
        },
        {
            "cell_type": "markdown",
            "source": [
                "Uncomment the next cell to run or debug this test."
            ],
            "metadata": {},
            "execution_count": 0,
            "outputs": []
        },
        {
            "cell_type": "code",
            "source": [
                "//#!eval-notebook \"Data/InitSystemorphToMemoryForTesting\""
            ],
            "metadata": {},
            "execution_count": 0,
            "outputs": []
        },
        {
            "cell_type": "markdown",
            "source": [
                "# Set Up"
            ],
            "metadata": {},
            "execution_count": 0,
            "outputs": []
        },
        {
            "cell_type": "code",
            "source": [
                "var workspace = Workspace.CreateNew();",
                "\nworkspace.InitializeFrom(DataSource);"
            ],
            "metadata": {},
            "execution_count": 0,
            "outputs": []
        },
        {
            "cell_type": "code",
            "source": [
                "var pathToBm = \"./Data/IfrsVariableBenchmarks/\";"
            ],
            "metadata": {},
            "execution_count": 0,
            "outputs": []
        },
        {
            "cell_type": "code",
            "source": [
                "public record BenchmarkMetadata(string FileName, string ReportingNode, int Year, int Month, string Scenario = null){} "
            ],
            "metadata": {},
            "execution_count": 0,
            "outputs": []
        },
        {
            "cell_type": "code",
            "source": [
                "var excludedDataNodes = new string[]{};",
                "\nvar includedDataNodes = new string[]{};"
            ],
            "metadata": {},
            "execution_count": 0,
            "outputs": []
        },
        {
            "cell_type": "code",
            "source": [
                "var numberOfProjections = (await workspace.Query<ProjectionConfiguration>().ToArrayAsync()).Count();"
            ],
            "metadata": {},
            "execution_count": 0,
            "outputs": []
        },
        {
            "cell_type": "markdown",
            "source": [
                "# Functions"
            ],
            "metadata": {},
            "execution_count": 0,
            "outputs": []
        },
        {
            "cell_type": "code",
            "source": [
                "public bool IsCorrectValue(double value) => Math.Abs(value) <= BenchmarkPrecision;"
            ],
            "metadata": {},
            "execution_count": 0,
            "outputs": []
        },
        {
            "cell_type": "code",
            "source": [
                "public static NumberStyles AllowedNumberStyles = NumberStyles.Float | NumberStyles.AllowLeadingWhite | NumberStyles.AllowTrailingWhite | NumberStyles.AllowLeadingSign | NumberStyles.AllowTrailingSign | NumberStyles.AllowDecimalPoint;"
            ],
            "metadata": {},
            "execution_count": 0,
            "outputs": []
        },
        {
            "cell_type": "code",
            "source": [
                "public double? ParseIfrsVariableValue(IDataRow row, string nameOfIfrsVariableValue){",
                "\n    return (row.Table.Columns.Contains(nameOfIfrsVariableValue)",
                "\n        ? (double.TryParse(row[nameOfIfrsVariableValue]?.ToString(), AllowedNumberStyles, CultureInfo.InvariantCulture, out var value)",
                "\n                ? value",
                "\n                : default(double?))",
                "\n        : default(double?));",
                "\n}"
            ],
            "metadata": {},
            "execution_count": 0,
            "outputs": []
        },
        {
            "cell_type": "code",
            "source": [
                "public IfrsVariable CreateVariable(IDataRow row, Guid partition, bool isScenario) {",
                "\n    var values = Enumerable.Range(0, numberOfProjections).Select(x => \"Values\" + x.ToString()).TakeWhile(x => row.Table.Columns.Contains(x))",
                "\n                .Select(x => ParseIfrsVariableValue(row, x)).Where(x => x != null).Select(x => (double)x).ToArray();",
                "\n",
                "\n    return new IfrsVariable(){AocType = row.Field<string>(nameof(IfrsVariable.AocType)),",
                "\n                          Partition = partition,",
                "\n                          Novelty = row.Field<string>(nameof(IfrsVariable.Novelty)),",
                "\n                          DataNode = row.Field<string>(nameof(IfrsVariable.DataNode)),",
                "\n                          EstimateType = row.Field<string>(nameof(IfrsVariable.EstimateType)),",
                "\n                          AmountType = row.Field<string>(nameof(IfrsVariable.AmountType)),",
                "\n                          AccidentYear = Int32.TryParse((row.Field<string>(nameof(IfrsVariable.AccidentYear))), out var accidentYear) ? accidentYear : (int?)null,",
                "\n                          EconomicBasis = row.Field<string>(nameof(IfrsVariable.EconomicBasis)),",
                "\n                          Values = isScenario ? values : values.Prune().Count() == 0 ? new []{0d} : values.Prune(),",
                "\n    };",
                "\n}    "
            ],
            "metadata": {},
            "execution_count": 0,
            "outputs": []
        },
        {
            "cell_type": "code",
            "source": [
                "public class BenchmarkTestResult",
                "\n{",
                "\n    public string ErrorMessage {get; set;}",
                "\n    public double[] ExpectedValue {get; set;}",
                "\n    public double[] ComputedValue {get; set;}",
                "\n    ",
                "\n    public string DataNode {get; set;}",
                "\n    public string EstimateType {get; set;}",
                "\n    public string AmountType {get; set;}",
                "\n    public string EconomicBasis {get; set;}",
                "\n",
                "\n    public BenchmarkTestResult (string message)",
                "\n    {",
                "\n        ErrorMessage = message;",
                "\n    }",
                "\n",
                "\n    public BenchmarkTestResult(string message, IfrsVariable v, double[] expValue, double[] compValue){",
                "\n        ErrorMessage = message;",
                "\n        ",
                "\n        ExpectedValue = expValue;",
                "\n        ComputedValue = compValue;",
                "\n",
                "\n        DataNode = v.DataNode;",
                "\n        EstimateType = v.EstimateType;",
                "\n        AmountType = v.AmountType;",
                "\n        EconomicBasis = v.EconomicBasis;",
                "\n    }",
                "\n}"
            ],
            "metadata": {},
            "execution_count": 0,
            "outputs": []
        },
        {
            "cell_type": "code",
            "source": [
                "var includingProperties = typeof(IfrsVariable).GetIdentityProperties().Select(x=>x.Name).ToArray();"
            ],
            "metadata": {},
            "execution_count": 0,
            "outputs": []
        },
        {
            "cell_type": "code",
            "source": [
                "public List<BenchmarkTestResult> CompareAgainstBm(List<BenchmarkTestResult> errors, IEnumerable<IfrsVariable> expected, IEnumerable<IfrsVariable> computed){",
                "\n    var comparer = IfrsVariableComparer.Instance(true); ",
                "\n    var comparerIfrs =  IfrsVariableComparer.Instance(false, BenchmarkPrecision);",
                "\n    var expectedNotComputed = expected.Where(x => x.Values.Any(y => Math.Abs(y) > BenchmarkPrecision)).Except(computed, comparer);",
                "\n    var computedNotExpected = computed.Where(x => x.Values.Any(y => Math.Abs(y) > BenchmarkPrecision)).Except(expected, comparer);",
                "\n    if (expectedNotComputed.Any()){",
                "\n        foreach(var element in expectedNotComputed){",
                "\n            errors.Add(new BenchmarkTestResult(\"Extra expected variable for: Partition \" + element.Partition + \", \" + element.ToIdentityString(), element, element.Values, null));",
                "\n        }",
                "\n    }",
                "\n    if (computedNotExpected.Any()){",
                "\n        foreach(var element in computedNotExpected){",
                "\n            errors.Add(new BenchmarkTestResult(\"Extra computed variable for: Partition \" + element.Partition  + \", \" + element.ToIdentityString(), element, null, element.Values));",
                "\n        }",
                "\n    }",
                "\n    foreach(var benchmarkVariable in expected){",
                "\n        var computedVariable = computed.FirstOrDefault(x => comparer.Equals(benchmarkVariable, x)) ?? null;",
                "\n        if (computedVariable == null) continue;",
                "\n        if (!comparerIfrs.Equals(benchmarkVariable, computedVariable)) errors.Add(new BenchmarkTestResult(\"Values do not match. Partition \" + benchmarkVariable.Partition + \", \" + benchmarkVariable.ToIdentityString(), ",
                "\n                                                                                                          benchmarkVariable, benchmarkVariable.Values, computedVariable.Values)); ",
                "\n    }",
                "\n    return errors;",
                "\n}"
            ],
            "metadata": {},
            "execution_count": 0,
            "outputs": []
        },
        {
            "cell_type": "markdown",
            "source": [
                "# Test Runner"
            ],
            "metadata": {},
            "execution_count": 0,
            "outputs": []
        },
        {
            "cell_type": "code",
            "source": [
                "public bool ValidateMainTab(IDataRow mainRow, string reportingNode, int year, int month)",
                "\n{",
                "\n    if (!int.TryParse(mainRow[nameof(PartitionByReportingNodeAndPeriod.Year)]?.ToString(), NumberStyles.AllowLeadingWhite | NumberStyles.AllowTrailingWhite , CultureInfo.InvariantCulture, out var mainYear))",
                "\n            throw new Exception(\"Value Year cannot be parsed.\"); ",
                "\n    if (!int.TryParse(mainRow[nameof(PartitionByReportingNodeAndPeriod.Month)]?.ToString(), NumberStyles.AllowLeadingWhite | NumberStyles.AllowTrailingWhite , CultureInfo.InvariantCulture, out var mainMonth))",
                "\n            throw new Exception(\"Value Month cannot be parsed.\"); ",
                "\n    var mainReportingNode = mainRow[nameof(PartitionByReportingNodeAndPeriod.ReportingNode)].ToString();",
                "\n    ",
                "\n    return reportingNode == mainReportingNode && year == mainYear && month == mainMonth;",
                "\n}"
            ],
            "metadata": {},
            "execution_count": 0,
            "outputs": []
        },
        {
            "cell_type": "code",
            "source": [
                "public static IfrsVariable[] RemoveProjectedValues(this IEnumerable<IfrsVariable> input) => ",
                "\n    input.Select(x => x with {Values = x.Values.Take(1).ToArray()}).Where(x => Math.Abs(x.Values.First()) >= Precision).ToArray();"
            ],
            "metadata": {},
            "execution_count": 0,
            "outputs": []
        },
        {
            "cell_type": "code",
            "source": [
                "public async Task<List<BenchmarkTestResult>> CheckIfrsVariablesValuesAsync(BenchmarkMetadata[] bmFiles, string[] excludedDataNodes, string[] includedDataNodes)",
                "\n{",
                "\n    var errorList = new List<BenchmarkTestResult>();",
                "\n    foreach (var g in bmFiles.GroupBy(x => (ReportingNode: x.ReportingNode, Year: x.Year, Month: x.Month, Scenario : x.Scenario)))",
                "\n    {",
                "\n        var reportingNode = g.Key.ReportingNode;",
                "\n        var year = g.Key.Year;",
                "\n        var month = g.Key.Month;",
                "\n        var scenario = g.Key.Scenario;",
                "\n    ",
                "\n        await workspace.Partition.SetAsync<PartitionByReportingNodeAndPeriod>(new {ReportingNode = reportingNode, Year = year, Month = month, Scenario = scenario});",
                "\n        var partition = (await workspace.Query<PartitionByReportingNodeAndPeriod>().ToArrayAsync())",
                "\n                            .SingleOrDefault(x => x.ReportingNode == reportingNode && x.Year == year && x.Month == month && x.Scenario == scenario)?.Id ?? ",
                "\n                            throw new Exception(\"Partition not found.\");",
                "\n    ",
                "\n        var allComputedVariables = (await workspace.Query<IfrsVariable>()",
                "\n                .Where(v => excludedDataNodes != null ? !excludedDataNodes.Contains(v.DataNode) : true) //Apply exclusing filter",
                "\n                .Where(v => includedDataNodes != null ?  includedDataNodes.Contains(v.DataNode) : true) //Apply inclusing filter",
                "\n                .ToArrayAsync());",
                "\n                ",
                "\n        if(!Projection.Enable)",
                "\n            allComputedVariables = allComputedVariables.RemoveProjectedValues();",
                "\n",
                "\n        var computedVariablesByEstimateType = allComputedVariables.ToDictionaryGrouped(x => x.EstimateType, x => x.ToArray());",
                "\n",
                "\n        foreach (var bmfile in g)",
                "\n        {",
                "\n            var extension = System.IO.Path.GetExtension(bmfile.FileName);",
                "\n            var stream = await Project.FileStorage.ReadAsync(bmfile.FileName);",
                "\n            //Read Bm csv",
                "\n            var bmDataTable = (await DataSetReader.ReadFromStream(stream).WithContentType(extension).ExecuteAsync()).DataSet;",
                "\n",
                "\n            var mainTab = bmDataTable.Tables[Main].Rows.First();",
                "\n            if(!ValidateMainTab(mainTab, reportingNode, year, month))",
                "\n                throw new Exception(\"Metadata and main tab of the Benchmark are different.\");",
                "\n",
                "\n            var bmTableName = bmDataTable.Tables.Single(x => x.TableName != Main).TableName;",
                "\n            var bmVariables = bmDataTable.Tables[bmTableName].Rows.Select(x => CreateVariable(x, partition, scenario != null));",
                "\n            if(!Projection.Enable)",
                "\n                bmVariables = bmVariables.RemoveProjectedValues();",
                "\n",
                "\n            //Get the computed Data",
                "\n            var computedVariables = computedVariablesByEstimateType.TryGetValue(bmTableName, out var ret) ? ret : Enumerable.Empty<IfrsVariable>();",
                "\n",
                "\n            //CompareAgainstBm",
                "\n            if(!computedVariables.Any() && bmVariables.Any())",
                "\n                errorList.Add(new BenchmarkTestResult(\"No variables are computed for: \"+reportingNode+year+month+scenario+\" and EstimateType: \" + bmTableName));",
                "\n            if(computedVariables.Any() && !bmVariables.Any())",
                "\n                errorList.Add(new BenchmarkTestResult(\"Empty benchmark provided for: \"+reportingNode+year+month+scenario+\" and EstimateType: \" + bmTableName));",
                "\n            if(computedVariables.Any() && bmVariables.Any())",
                "\n                errorList = errorList.Concat(CompareAgainstBm(errorList, bmVariables, computedVariables)).Distinct().ToList();",
                "\n        }",
                "\n    }",
                "\n    return errorList;",
                "\n}"
            ],
            "metadata": {},
            "execution_count": 0,
            "outputs": []
        },
        {
            "cell_type": "markdown",
            "source": [
                "## Projection 0 Test"
            ],
            "metadata": {},
            "execution_count": 0,
            "outputs": []
        },
        {
            "cell_type": "markdown",
            "source": [
                "### BenchMark"
            ],
            "metadata": {},
            "execution_count": 0,
            "outputs": []
        },
        {
            "cell_type": "code",
            "source": [
                "var bmFiles = new BenchmarkMetadata[]{",
                "\n    //2020 Q4",
                "\n    new BenchmarkMetadata(pathToBm+\"BM_CH_2020_12__A.csv\"   , \"CH\", 2020, 12),",
                "\n    new BenchmarkMetadata(pathToBm+\"BM_CH_2020_12__AA.csv\"  , \"CH\", 2020, 12),",
                "\n    new BenchmarkMetadata(pathToBm+\"BM_CH_2020_12__APA.csv\" , \"CH\", 2020, 12),",
                "\n    new BenchmarkMetadata(pathToBm+\"BM_CH_2020_12__BE.csv\"  , \"CH\", 2020, 12),",
                "\n    new BenchmarkMetadata(pathToBm+\"BM_CH_2020_12__BEPA.csv\", \"CH\", 2020, 12),",
                "\n    new BenchmarkMetadata(pathToBm+\"BM_CH_2020_12__C.csv\"   , \"CH\", 2020, 12),",
                "\n    new BenchmarkMetadata(pathToBm+\"BM_CH_2020_12__L.csv\"   , \"CH\", 2020, 12),",
                "\n    new BenchmarkMetadata(pathToBm+\"BM_CH_2020_12__DA.csv\"  , \"CH\", 2020, 12),",
                "\n    new BenchmarkMetadata(pathToBm+\"BM_CH_2020_12__F.csv\"   , \"CH\", 2020, 12),",
                "\n    new BenchmarkMetadata(pathToBm+\"BM_CH_2020_12__OA.csv\"  , \"CH\", 2020, 12),",
                "\n    new BenchmarkMetadata(pathToBm+\"BM_CH_2020_12__RA.csv\"  , \"CH\", 2020, 12),",
                "\n    // 2020 Q4 MTUP10pct",
                "\n    new BenchmarkMetadata(pathToBm+\"BM_CH_2020_12_MTUP10pct_BE.csv\"   , \"CH\", 2020, 12, \"MTUP10pct\"),",
                "\n    new BenchmarkMetadata(pathToBm+\"BM_CH_2020_12_MTUP10pct_A.csv\"    , \"CH\", 2020, 12, \"MTUP10pct\"),",
                "\n    new BenchmarkMetadata(pathToBm+\"BM_CH_2020_12_MTUP10pct_C.csv\"    , \"CH\", 2020, 12, \"MTUP10pct\"),",
                "\n    new BenchmarkMetadata(pathToBm+\"BM_CH_2020_12_MTUP10pct_L.csv\"    , \"CH\", 2020, 12, \"MTUP10pct\"),",
                "\n    new BenchmarkMetadata(pathToBm+\"BM_CH_2020_12_MTUP10pct_LR.csv\"   , \"CH\", 2020, 12, \"MTUP10pct\"),",
                "\n    // 2021 Q1",
                "\n    new BenchmarkMetadata(pathToBm+\"BM_CH_2021_3__A.csv\"    , \"CH\", 2021, 3),",
                "\n    new BenchmarkMetadata(pathToBm+\"BM_CH_2021_3__AA.csv\"   , \"CH\", 2021, 3),",
                "\n    new BenchmarkMetadata(pathToBm+\"BM_CH_2021_3__APA.csv\"  , \"CH\", 2021, 3),",
                "\n    new BenchmarkMetadata(pathToBm+\"BM_CH_2021_3__BE.csv\"   , \"CH\", 2021, 3),",
                "\n    new BenchmarkMetadata(pathToBm+\"BM_CH_2021_3__BEPA.csv\" , \"CH\", 2021, 3),",
                "\n    new BenchmarkMetadata(pathToBm+\"BM_CH_2021_3__DA.csv\"   , \"CH\", 2021, 3),",
                "\n    new BenchmarkMetadata(pathToBm+\"BM_CH_2021_3__F.csv\"    , \"CH\", 2021, 3),",
                "\n    new BenchmarkMetadata(pathToBm+\"BM_CH_2021_3__L.csv\"    , \"CH\", 2021, 3),",
                "\n    new BenchmarkMetadata(pathToBm+\"BM_CH_2021_3__OA.csv\"   , \"CH\", 2021, 3),",
                "\n    new BenchmarkMetadata(pathToBm+\"BM_CH_2021_3__RA.csv\"   , \"CH\", 2021, 3),",
                "\n    new BenchmarkMetadata(pathToBm+\"BM_CH_2021_3__C.csv\"    , \"CH\", 2021, 3),",
                "\n    new BenchmarkMetadata(pathToBm+\"BM_CH_2021_3__LR.csv\"   , \"CH\", 2021, 3),",
                "\n};",
                "\n"
            ],
            "metadata": {},
            "execution_count": 0,
            "outputs": []
        },
        {
            "cell_type": "markdown",
            "source": [
                "### Test"
            ],
            "metadata": {},
            "execution_count": 0,
            "outputs": []
        },
        {
            "cell_type": "code",
            "source": [
                "excludedDataNodes = null; // new string[]{\"DTP1.1\"};",
                "\nincludedDataNodes = null;",
                "\nvar errorList = await CheckIfrsVariablesValuesAsync(bmFiles, excludedDataNodes, includedDataNodes);"
            ],
            "metadata": {},
            "execution_count": 0,
            "outputs": []
        },
        {
            "cell_type": "code",
            "source": [
                "errorList.Count().Should().Be(0);"
            ],
            "metadata": {},
            "execution_count": 0,
            "outputs": []
        },
        {
            "cell_type": "code",
            "source": [
                "workspace.Dispose();"
            ],
            "metadata": {},
            "execution_count": 0,
            "outputs": []
        }
    ]
}