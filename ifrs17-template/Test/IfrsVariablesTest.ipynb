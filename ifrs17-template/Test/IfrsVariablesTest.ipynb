{
    "metadata": {
        "authors": [],
        "id": "L-jO5zRc-0WHi8WTFkhcWQ",
        "kernelspec": {
            "display_name": "Formula Framework",
            "language": "C#",
            "name": "C#"
        },
        "language_info": {
            "file_extension": ".cs",
            "mimetype": "text/plain",
            "name": "C#"
        }
    },
    "nbformat": 4,
    "nbformat_minor": 5,
    "cells": [
        {
            "cell_type": "markdown",
            "source": [
                "<p style=\"font-weight:bold;\"> <span style=\"font-size: 36px\"> Ifrs Variable </span> </p>"
            ],
            "metadata": {},
            "execution_count": 0,
            "outputs": []
        },
        {
            "cell_type": "code",
            "source": [
                "#!eval-notebook \"Data/InitSystemorphToMemoryForTesting\""
            ],
            "metadata": {},
            "execution_count": 0,
            "outputs": []
        },
        {
            "cell_type": "markdown",
            "source": [
                "# BenchMarks"
            ],
            "metadata": {},
            "execution_count": 0,
            "outputs": []
        },
        {
            "cell_type": "code",
            "source": [
                "var pathToBm = \"./Data/IfrsVariableBenchmarks/\";"
            ],
            "metadata": {},
            "execution_count": 0,
            "outputs": []
        },
        {
            "cell_type": "code",
            "source": [
                "public record BenchmarkMetadata(string FileName, string ReportingNode, int Year, int Month, string Scenario = null){} "
            ],
            "metadata": {},
            "execution_count": 0,
            "outputs": []
        },
        {
            "cell_type": "markdown",
            "source": [
                "## BenchMark to test Value0"
            ],
            "metadata": {},
            "execution_count": 0,
            "outputs": []
        },
        {
            "cell_type": "code",
            "source": [
                "var bmFiles = new BenchmarkMetadata[]{",
                "\n    //2020 Q4",
                "\n    new BenchmarkMetadata(pathToBm+\"BM_CH_2020_12__A.csv\"   , \"CH\", 2020, 12),",
                "\n    new BenchmarkMetadata(pathToBm+\"BM_CH_2020_12__AA.csv\"  , \"CH\", 2020, 12),",
                "\n    new BenchmarkMetadata(pathToBm+\"BM_CH_2020_12__APA.csv\" , \"CH\", 2020, 12),",
                "\n    new BenchmarkMetadata(pathToBm+\"BM_CH_2020_12__BE.csv\"  , \"CH\", 2020, 12),",
                "\n    new BenchmarkMetadata(pathToBm+\"BM_CH_2020_12__BEPA.csv\", \"CH\", 2020, 12),",
                "\n    new BenchmarkMetadata(pathToBm+\"BM_CH_2020_12__C.csv\"   , \"CH\", 2020, 12),",
                "\n    new BenchmarkMetadata(pathToBm+\"BM_CH_2020_12__DA.csv\"  , \"CH\", 2020, 12),",
                "\n    new BenchmarkMetadata(pathToBm+\"BM_CH_2020_12__F.csv\"   , \"CH\", 2020, 12),",
                "\n    new BenchmarkMetadata(pathToBm+\"BM_CH_2020_12__OA.csv\"  , \"CH\", 2020, 12),",
                "\n    new BenchmarkMetadata(pathToBm+\"BM_CH_2020_12__RA.csv\"  , \"CH\", 2020, 12),",
                "\n    // 2021 Q1",
                "\n    new BenchmarkMetadata(pathToBm+\"BM_CH_2021_3__A.csv\"    , \"CH\", 2021, 3),",
                "\n    new BenchmarkMetadata(pathToBm+\"BM_CH_2021_3__AA.csv\"   , \"CH\", 2021, 3),",
                "\n    new BenchmarkMetadata(pathToBm+\"BM_CH_2021_3__APA.csv\"  , \"CH\", 2021, 3),",
                "\n    new BenchmarkMetadata(pathToBm+\"BM_CH_2021_3__BE.csv\"   , \"CH\", 2021, 3),",
                "\n    new BenchmarkMetadata(pathToBm+\"BM_CH_2021_3__BEPA.csv\" , \"CH\", 2021, 3),",
                "\n    new BenchmarkMetadata(pathToBm+\"BM_CH_2021_3__C.csv\"    , \"CH\", 2021, 3),",
                "\n    new BenchmarkMetadata(pathToBm+\"BM_CH_2021_3__DA.csv\"   , \"CH\", 2021, 3),",
                "\n    new BenchmarkMetadata(pathToBm+\"BM_CH_2021_3__F.csv\"    , \"CH\", 2021, 3),",
                "\n    new BenchmarkMetadata(pathToBm+\"BM_CH_2021_3__L.csv\"    , \"CH\", 2021, 3),",
                "\n    new BenchmarkMetadata(pathToBm+\"BM_CH_2021_3__LR.csv\"   , \"CH\", 2021, 3),",
                "\n    new BenchmarkMetadata(pathToBm+\"BM_CH_2021_3__OA.csv\"   , \"CH\", 2021, 3),",
                "\n    new BenchmarkMetadata(pathToBm+\"BM_CH_2021_3__RA.csv\"   , \"CH\", 2021, 3),",
                "\n    // 2020 Q4",
                "\n    new BenchmarkMetadata(pathToBm+\"BM_CH_2020_12_MTUP10pct_BE.csv\"   , \"CH\", 2020, 12, \"MTUP10pct\"),",
                "\n    new BenchmarkMetadata(pathToBm+\"BM_CH_2020_12_MTUP10pct_BEPA.csv\" , \"CH\", 2020, 12, \"MTUP10pct\"),",
                "\n    new BenchmarkMetadata(pathToBm+\"BM_CH_2020_12_MTUP10pct_A.csv\"    , \"CH\", 2020, 12, \"MTUP10pct\"),",
                "\n    new BenchmarkMetadata(pathToBm+\"BM_CH_2020_12_MTUP10pct_APA.csv\"  , \"CH\", 2020, 12, \"MTUP10pct\"),",
                "\n    new BenchmarkMetadata(pathToBm+\"BM_CH_2020_12_MTUP10pct_DA.csv\"   , \"CH\", 2020, 12, \"MTUP10pct\"),",
                "\n    new BenchmarkMetadata(pathToBm+\"BM_CH_2020_12_MTUP10pct_C.csv\"    , \"CH\", 2020, 12, \"MTUP10pct\"),",
                "\n    new BenchmarkMetadata(pathToBm+\"BM_CH_2020_12_MTUP10pct_F.csv\"    , \"CH\", 2020, 12, \"MTUP10pct\"),",
                "\n    new BenchmarkMetadata(pathToBm+\"BM_CH_2020_12_MTUP10pct_RA.csv\"   , \"CH\", 2020, 12, \"MTUP10pct\"),",
                "\n};"
            ],
            "metadata": {},
            "execution_count": 0,
            "outputs": []
        },
        {
            "cell_type": "markdown",
            "source": [
                "## BenchMark to test Projections"
            ],
            "metadata": {},
            "execution_count": 0,
            "outputs": []
        },
        {
            "cell_type": "code",
            "source": [
                "var bmFilesTestProjection = new BenchmarkMetadata[]{",
                "\n    // 2021 Q1",
                "\n    new BenchmarkMetadata(pathToBm+\"BM_CH_2021_3__BE_Projection_DTP.csv\"   , \"CH\", 2021, 3)",
                "\n};"
            ],
            "metadata": {},
            "execution_count": 0,
            "outputs": []
        },
        {
            "cell_type": "code",
            "source": [
                "var excludedDataNodes = new string[]{};",
                "\nvar projectionDataNodes = new string[]{\"DTP1.1\"};"
            ],
            "metadata": {},
            "execution_count": 0,
            "outputs": []
        },
        {
            "cell_type": "markdown",
            "source": [
                "# Functions"
            ],
            "metadata": {},
            "execution_count": 0,
            "outputs": []
        },
        {
            "cell_type": "code",
            "source": [
                "public bool isCorrectValue(double value, bool isProjectedValue) => isProjectedValue? Math.Abs(value) <= BenchmarkPrecision : true;"
            ],
            "metadata": {},
            "execution_count": 0,
            "outputs": []
        },
        {
            "cell_type": "code",
            "source": [
                "var listIfrsValueProperties = new string[]{nameof(IfrsVariable.Value), nameof(IfrsVariable.Value1), nameof(IfrsVariable.Value2), nameof(IfrsVariable.Value3), nameof(IfrsVariable.Value4), nameof(IfrsVariable.Value5),",
                "\nnameof(IfrsVariable.Value6), nameof(IfrsVariable.Value7), nameof(IfrsVariable.Value8), nameof(IfrsVariable.Value9), nameof(IfrsVariable.Value10), nameof(IfrsVariable.Value11),",
                "\nnameof(IfrsVariable.Value12), nameof(IfrsVariable.Value13), nameof(IfrsVariable.Value14), nameof(IfrsVariable.Value15), nameof(IfrsVariable.Value16), nameof(IfrsVariable.Value17),",
                "\nnameof(IfrsVariable.Value18)};"
            ],
            "metadata": {},
            "execution_count": 0,
            "outputs": []
        },
        {
            "cell_type": "code",
            "source": [
                "public static NumberStyles AllowedNumberStyles = NumberStyles.Float | NumberStyles.AllowLeadingWhite | NumberStyles.AllowTrailingWhite | NumberStyles.AllowLeadingSign | NumberStyles.AllowTrailingSign | NumberStyles.AllowDecimalPoint;"
            ],
            "metadata": {},
            "execution_count": 0,
            "outputs": []
        },
        {
            "cell_type": "code",
            "source": [
                "public double ParseIfrsVariableValue(IDataRow row, string nameOfIfrsVariableValue)",
                "\n{",
                "\n    return (row.Table.Columns.Contains(nameOfIfrsVariableValue)",
                "\n                        ? (double.TryParse(row[nameOfIfrsVariableValue]?.ToString(), AllowedNumberStyles, CultureInfo.InvariantCulture, out var value) ",
                "\n                                ? value ",
                "\n                                : throw new Exception(nameOfIfrsVariableValue + \" cannot be parsed.\"))",
                "\n                        : default(double));",
                "\n}"
            ],
            "metadata": {},
            "execution_count": 0,
            "outputs": []
        },
        {
            "cell_type": "code",
            "source": [
                "public IfrsVariable CreateVariable(IDataRow row, Guid partition)",
                "\n    => new IfrsVariable(){AocType = row.Field<string>(nameof(IfrsVariable.AocType)),",
                "\n                          Partition = partition,",
                "\n                          Novelty = row.Field<string>(nameof(IfrsVariable.Novelty)),",
                "\n                          DataNode = row.Field<string>(nameof(IfrsVariable.DataNode)),",
                "\n                          EstimateType = row.Field<string>(nameof(IfrsVariable.EstimateType)),",
                "\n                          AmountType = row.Field<string>(nameof(IfrsVariable.AmountType)),",
                "\n                          AccidentYear = Int32.TryParse((row.Field<string>(nameof(IfrsVariable.AccidentYear))), out var accidentYear) ? accidentYear : (int?)null,",
                "\n                          EconomicBasis = row.Field<string>(nameof(IfrsVariable.EconomicBasis)),",
                "\n                          Value = (-1.0) * ParseIfrsVariableValue(row, nameof(IfrsVariable.Value)), ",
                "\n                          Value1 = (-1.0) * ParseIfrsVariableValue(row, nameof(IfrsVariable.Value1)), ",
                "\n                          Value2 = (-1.0) * ParseIfrsVariableValue(row, nameof(IfrsVariable.Value2)),",
                "\n                          Value3 = (-1.0) * ParseIfrsVariableValue(row, nameof(IfrsVariable.Value3)), ",
                "\n                          Value4 = (-1.0) * ParseIfrsVariableValue(row, nameof(IfrsVariable.Value4)), ",
                "\n                          Value5 = (-1.0) * ParseIfrsVariableValue(row, nameof(IfrsVariable.Value5)),                          ",
                "\n                          Value6 = (-1.0) * ParseIfrsVariableValue(row, nameof(IfrsVariable.Value6)), ",
                "\n                          Value7 = (-1.0) * ParseIfrsVariableValue(row, nameof(IfrsVariable.Value7)), ",
                "\n                          Value8 = (-1.0) * ParseIfrsVariableValue(row, nameof(IfrsVariable.Value8)),",
                "\n                          Value9 = (-1.0) * ParseIfrsVariableValue(row, nameof(IfrsVariable.Value9)), ",
                "\n                          Value10 = (-1.0) * ParseIfrsVariableValue(row, nameof(IfrsVariable.Value10)), ",
                "\n                          Value11 = (-1.0) * ParseIfrsVariableValue(row, nameof(IfrsVariable.Value11)),                          ",
                "\n                          Value12 = (-1.0) * ParseIfrsVariableValue(row, nameof(IfrsVariable.Value12)), ",
                "\n                          Value13 = (-1.0) * ParseIfrsVariableValue(row, nameof(IfrsVariable.Value13)), ",
                "\n                          Value14 = (-1.0) * ParseIfrsVariableValue(row, nameof(IfrsVariable.Value14)),",
                "\n                          Value15 = (-1.0) * ParseIfrsVariableValue(row, nameof(IfrsVariable.Value15)), ",
                "\n                          Value16 = (-1.0) * ParseIfrsVariableValue(row, nameof(IfrsVariable.Value16)), ",
                "\n                          Value17 = (-1.0) * ParseIfrsVariableValue(row, nameof(IfrsVariable.Value17)),",
                "\n                          Value18 = (-1.0) * ParseIfrsVariableValue(row, nameof(IfrsVariable.Value18))};"
            ],
            "metadata": {},
            "execution_count": 0,
            "outputs": []
        },
        {
            "cell_type": "code",
            "source": [
                "public class BenchmarkTestResult",
                "\n{",
                "\n    public string ErrorMessage {get; set;}",
                "\n    public double ExpectedValue {get; set;}",
                "\n    public double ComputedValue {get; set;}",
                "\n    public BenchmarkTestResult (string message)",
                "\n    {",
                "\n        ErrorMessage = message;",
                "\n    }",
                "\n    public BenchmarkTestResult (string message, double expValue, double compValue)",
                "\n    {",
                "\n        ErrorMessage = message;",
                "\n        ExpectedValue = expValue;",
                "\n        ComputedValue = compValue;    ",
                "\n    }",
                "\n}"
            ],
            "metadata": {},
            "execution_count": 0,
            "outputs": []
        },
        {
            "cell_type": "code",
            "source": [
                "public List<BenchmarkTestResult> CompareAgainstBm(List<BenchmarkTestResult> errors, IEnumerable<IfrsVariable> expected, IEnumerable<IfrsVariable> computed)",
                "\n{",
                "\n    var comparer = EqualityComparer<IfrsVariable>.Instance;",
                "\n    var expectedNotComputed = expected.Where(x => Math.Abs(x.Value) > BenchmarkPrecision).Except(computed, comparer);",
                "\n    var computedNotExpected = computed.Where(x => Math.Abs(x.Value) > BenchmarkPrecision).Except(expected, comparer);",
                "\n    if (expectedNotComputed.Any())",
                "\n        foreach (var variable in expectedNotComputed)",
                "\n            errors.Add(new BenchmarkTestResult(\"Extra expected variable for: Partition \" + variable.Partition + \", \" + variable.ToIdentityString()));",
                "\n    if (computedNotExpected.Any())",
                "\n        foreach (var variable in computedNotExpected)",
                "\n            errors.Add(new BenchmarkTestResult(\"Extra computed variable for: Partition \" + variable.Partition + \", \" + variable.ToIdentityString()));",
                "\n",
                "\n    var includingProperties = typeof(IfrsVariable).GetIdentityProperties().Select(x=>x.Name).ToArray();",
                "\n",
                "\n    var benchmarkErrors = expected.Concat(computed)",
                "\n            .GroupBy(x => new{Partition = x.Partition, IdentityString = x.ToStringWith(properties: includingProperties)})",
                "\n            .Where(g => g.Count() > 1)",
                "\n            .Select(g => new{ IfrsVariableKey = g.Key,",
                "\n                              IsCorrect = new bool[]{isCorrectValue(g.Sum(i => i.Value), true), isCorrectValue(g.Sum(i => i.Value1), ProjectionCount > 1), isCorrectValue(g.Sum(i => i.Value2), ProjectionCount > 2), isCorrectValue(g.Sum(i => i.Value3),ProjectionCount > 3),",
                "\n                                                        isCorrectValue(g.Sum(i => i.Value4), ProjectionCount > 4), isCorrectValue(g.Sum(i => i.Value5), ProjectionCount > 5), isCorrectValue(g.Sum(i => i.Value6), ProjectionCount > 6), isCorrectValue(g.Sum(i => i.Value7), ProjectionCount > 7), ",
                "\n                                                        isCorrectValue(g.Sum(i => i.Value8), ProjectionCount > 8), isCorrectValue(g.Sum(i => i.Value9), ProjectionCount > 9), isCorrectValue(g.Sum(i => i.Value10), ProjectionCount > 10), isCorrectValue(g.Sum(i => i.Value11), ProjectionCount > 11), ",
                "\n                                                        isCorrectValue(g.Sum(i => i.Value12), ProjectionCount > 12), isCorrectValue(g.Sum(i => i.Value13), ProjectionCount > 13), isCorrectValue(g.Sum(i => i.Value14), ProjectionCount > 14), isCorrectValue(g.Sum(i => i.Value15), ProjectionCount > 15),",
                "\n                                                        isCorrectValue(g.Sum(i => i.Value16), ProjectionCount > 16), isCorrectValue(g.Sum(i => i.Value17), ProjectionCount > 17), isCorrectValue(g.Sum(i => i.Value18), ProjectionCount > 18)}})",
                "\n            .SelectMany(y => y.IsCorrect.Select((isCorrect, ind) => !isCorrect? new BenchmarkTestResult(\"Value\" + (ind != 0 ? ind.ToString() : \"\") + \" does not match for Variable: Partition \" + y.IfrsVariableKey.Partition + \",\" + y.IfrsVariableKey.IdentityString) : default(BenchmarkTestResult)))",
                "\n            .Where(x => x != default(BenchmarkTestResult));",
                "\n",
                "\n    errors.AddRange(benchmarkErrors);",
                "\n",
                "\n    return errors;",
                "\n}"
            ],
            "metadata": {},
            "execution_count": 0,
            "outputs": []
        },
        {
            "cell_type": "markdown",
            "source": [
                "# Test Runner"
            ],
            "metadata": {},
            "execution_count": 0,
            "outputs": []
        },
        {
            "cell_type": "code",
            "source": [
                "public bool ValidateMainTab(IDataRow mainRow, string reportingNode, int year, int month)",
                "\n{",
                "\n    if (!int.TryParse(mainRow[nameof(PartitionByReportingNodeAndPeriod.Year)]?.ToString(), NumberStyles.AllowLeadingWhite | NumberStyles.AllowTrailingWhite , CultureInfo.InvariantCulture, out var mainYear))",
                "\n            throw new Exception(\"Value Year cannot be parsed.\"); ",
                "\n    if (!int.TryParse(mainRow[nameof(PartitionByReportingNodeAndPeriod.Month)]?.ToString(), NumberStyles.AllowLeadingWhite | NumberStyles.AllowTrailingWhite , CultureInfo.InvariantCulture, out var mainMonth))",
                "\n            throw new Exception(\"Value Month cannot be parsed.\"); ",
                "\n    var mainReportingNode = mainRow[nameof(PartitionByReportingNodeAndPeriod.ReportingNode)].ToString();",
                "\n    ",
                "\n    return reportingNode == mainReportingNode && year == mainYear && month == mainMonth;",
                "\n}"
            ],
            "metadata": {},
            "execution_count": 0,
            "outputs": []
        },
        {
            "cell_type": "code",
            "source": [
                "public async Task<List<BenchmarkTestResult>> CheckIfrsVariablesValuesAsync(BenchmarkMetadata[] bmFiles)",
                "\n{",
                "\n    var errorList = new List<BenchmarkTestResult>();",
                "\n    foreach (var g in bmFiles.GroupBy(x => (ReportingNode: x.ReportingNode, Year: x.Year, Month: x.Month, Scenario : x.Scenario)))",
                "\n    {",
                "\n        var reportingNode = g.Key.ReportingNode;",
                "\n        var year = g.Key.Year;",
                "\n        var month = g.Key.Month;",
                "\n        var scenario = g.Key.Scenario;",
                "\n    ",
                "\n        await DataSource.Partition.SetAsync<PartitionByReportingNodeAndPeriod>(new {ReportingNode = reportingNode, Year = year, Month = month, Scenario = scenario});",
                "\n        var partition = (await DataSource.Query<PartitionByReportingNodeAndPeriod>().ToArrayAsync())",
                "\n                            .SingleOrDefault(x => x.ReportingNode == reportingNode && x.Year == year && x.Month == month && x.Scenario == scenario)?.Id ?? ",
                "\n                            throw new Exception(\"Partition not found.\");",
                "\n    ",
                "\n        var computedVariablesByEstimateType = (await DataSource.Query<IfrsVariable>()",
                "\n                                                            .Where(v => !excludedDataNodes.Contains(v.DataNode))",
                "\n                                                            .Where(v => ProjectionCount > 1",
                "\n                                                                                        ? projectionDataNodes.Contains(v.DataNode)",
                "\n                                                                                        : !projectionDataNodes.Contains(v.DataNode))",
                "\n                                                            .ToArrayAsync())",
                "\n                                                            .ToDictionaryGrouped(x => x.EstimateType, x => x.ToArray());",
                "\n",
                "\n        foreach (var bmfile in g)",
                "\n        {",
                "\n            var extension = System.IO.Path.GetExtension(bmfile.FileName);",
                "\n            var stream = await Project.FileStorage.ReadAsync(bmfile.FileName);",
                "\n            //Read Bm csv",
                "\n            var bmDataTable = (await DataSetReader.ReadFromStream(stream).WithContentType(extension).ExecuteAsync()).DataSet;",
                "\n",
                "\n            var mainTab = bmDataTable.Tables[Main].Rows.First();",
                "\n            if(!ValidateMainTab(mainTab, reportingNode, year, month))",
                "\n                throw new Exception(\"Metadata and main tab of the Benchmark are different.\");",
                "\n",
                "\n            var bmTableName = bmDataTable.Tables.Single(x => x.TableName != Main).TableName;",
                "\n            var bmVariables = bmDataTable.Tables[bmTableName].Rows.Select(x => CreateVariable(x, partition));",
                "\n",
                "\n            //Get the computed Data",
                "\n            var computedVariables = computedVariablesByEstimateType.TryGetValue(bmTableName, out var ret) ? ret : Enumerable.Empty<IfrsVariable>();",
                "\n",
                "\n            if(!computedVariables.Any())",
                "\n                errorList.Add(new BenchmarkTestResult(\"No variables are computed for EstimateType: \" + bmTableName, 0, 0));",
                "\n            //CompareAgainstBm",
                "\n            if (bmVariables.Any() && computedVariables.Any()) //TODO we are adding duplicates here",
                "\n                errorList = errorList.Concat(CompareAgainstBm(errorList, bmVariables, computedVariables)).Distinct().ToList();",
                "\n        }",
                "\n    }",
                "\n    return errorList;",
                "\n}"
            ],
            "metadata": {},
            "execution_count": 0,
            "outputs": []
        },
        {
            "cell_type": "markdown",
            "source": [
                "## Test Value"
            ],
            "metadata": {},
            "execution_count": 0,
            "outputs": []
        },
        {
            "cell_type": "code",
            "source": [
                "ProjectionCount = 1;",
                "\nvar errorList = await CheckIfrsVariablesValuesAsync(bmFiles);"
            ],
            "metadata": {},
            "execution_count": 0,
            "outputs": []
        },
        {
            "cell_type": "code",
            "source": [
                "errorList.Count().Should().Be(0);"
            ],
            "metadata": {},
            "execution_count": 0,
            "outputs": []
        },
        {
            "cell_type": "markdown",
            "source": [
                "## Projection Test"
            ],
            "metadata": {},
            "execution_count": 0,
            "outputs": []
        },
        {
            "cell_type": "markdown",
            "source": [
                "When we set the ProjectionCount to 1, query on the DataSource ignores the projection data node DTP1.1, so this test <b>will fail</b>. At the moment this test is expected to succeed, when ProjectionCount is chosen to be in the range between 2 and 5, where the upper bound corresponds to the Projection = 4, which induces the calculation for the year 2022, month 12."
            ],
            "metadata": {},
            "execution_count": 0,
            "outputs": []
        },
        {
            "cell_type": "code",
            "source": [
                "ProjectionCount = 5;",
                "\nawait Import.FromFile(\"../Files/TransactionalData/NominalCashflows_CH_2020_12_Projection.csv\")",
                "\n            .WithFormat(ImportFormats.Cashflow)",
                "\n            .WithTarget(DataSource)",
                "\n            .WithActivityLog()",
                "\n            .ExecuteAsync();",
                "\nawait Import.FromFile(\"../Files/TransactionalData/NominalCashflows_CH_2021_3_Projection.csv\")",
                "\n            .WithFormat(ImportFormats.Cashflow)",
                "\n            .WithTarget(DataSource)",
                "\n            .WithActivityLog()",
                "\n            .ExecuteAsync();"
            ],
            "metadata": {},
            "execution_count": 0,
            "outputs": []
        },
        {
            "cell_type": "code",
            "source": [
                "var projectionErrorList = await CheckIfrsVariablesValuesAsync(bmFilesTestProjection);"
            ],
            "metadata": {},
            "execution_count": 0,
            "outputs": []
        },
        {
            "cell_type": "code",
            "source": [
                "projectionErrorList.Count().Should().Be(0);"
            ],
            "metadata": {},
            "execution_count": 0,
            "outputs": []
        }
    ]
}