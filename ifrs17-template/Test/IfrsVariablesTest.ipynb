{
    "metadata": {
        "authors": [],
        "id": "L-jO5zRc-0WHi8WTFkhcWQ",
        "kernelspec": {
            "display_name": "Formula Framework",
            "language": "C#",
            "name": "C#"
        },
        "language_info": {
            "file_extension": ".cs",
            "mimetype": "text/plain",
            "name": "C#"
        }
    },
    "nbformat": 4,
    "nbformat_minor": 5,
    "cells": [
        {
            "cell_type": "markdown",
            "source": [
                "<p style=\"font-weight:bold;\"> <span style=\"font-size: 36px\"> Ifrs Variable </span> </p>"
            ],
            "metadata": {},
            "execution_count": 0,
            "outputs": []
        },
        {
            "cell_type": "code",
            "source": [
                "#!eval-notebook \"Data/InitSystemorphToMemoryForTesting\""
            ],
            "metadata": {},
            "execution_count": 0,
            "outputs": []
        },
        {
            "cell_type": "markdown",
            "source": [
                "# BenchMarks"
            ],
            "metadata": {},
            "execution_count": 0,
            "outputs": []
        },
        {
            "cell_type": "code",
            "source": [
                "var pathToBm = \"./Data/IfrsVariableBenchmarks/\";"
            ],
            "metadata": {},
            "execution_count": 0,
            "outputs": []
        },
        {
            "cell_type": "code",
            "source": [
                "public record BenchmarkMetadata(string FileName, string ReportingNode, int Year, int Month, string Scenario = null){} "
            ],
            "metadata": {},
            "execution_count": 0,
            "outputs": []
        },
        {
            "cell_type": "code",
            "source": [
                "var bmFiles = new BenchmarkMetadata[]{",
                "\n    // 2020 Q4",
                "\n    new BenchmarkMetadata(pathToBm+\"BM_CH_2020_12__A.csv\"   , \"CH\", 2020, 12),",
                "\n    new BenchmarkMetadata(pathToBm+\"BM_CH_2020_12__AA.csv\"  , \"CH\", 2020, 12),",
                "\n    new BenchmarkMetadata(pathToBm+\"BM_CH_2020_12__APA.csv\" , \"CH\", 2020, 12),",
                "\n    new BenchmarkMetadata(pathToBm+\"BM_CH_2020_12__BE.csv\"  , \"CH\", 2020, 12),",
                "\n    new BenchmarkMetadata(pathToBm+\"BM_CH_2020_12__BEPA.csv\", \"CH\", 2020, 12),",
                "\n    new BenchmarkMetadata(pathToBm+\"BM_CH_2020_12__C.csv\"   , \"CH\", 2020, 12),",
                "\n    new BenchmarkMetadata(pathToBm+\"BM_CH_2020_12__DA.csv\"  , \"CH\", 2020, 12),",
                "\n    new BenchmarkMetadata(pathToBm+\"BM_CH_2020_12__F.csv\"   , \"CH\", 2020, 12),",
                "\n    new BenchmarkMetadata(pathToBm+\"BM_CH_2020_12__OA.csv\"  , \"CH\", 2020, 12),",
                "\n    new BenchmarkMetadata(pathToBm+\"BM_CH_2020_12__RA.csv\"  , \"CH\", 2020, 12),",
                "\n    // 2021 Q1",
                "\n    new BenchmarkMetadata(pathToBm+\"BM_CH_2021_3__A.csv\"    , \"CH\", 2021, 3),",
                "\n    new BenchmarkMetadata(pathToBm+\"BM_CH_2021_3__AA.csv\"   , \"CH\", 2021, 3),",
                "\n    new BenchmarkMetadata(pathToBm+\"BM_CH_2021_3__APA.csv\"  , \"CH\", 2021, 3),",
                "\n    new BenchmarkMetadata(pathToBm+\"BM_CH_2021_3__BE.csv\"   , \"CH\", 2021, 3),",
                "\n    new BenchmarkMetadata(pathToBm+\"BM_CH_2021_3__BEPA.csv\" , \"CH\", 2021, 3),",
                "\n    new BenchmarkMetadata(pathToBm+\"BM_CH_2021_3__C.csv\"    , \"CH\", 2021, 3),",
                "\n    new BenchmarkMetadata(pathToBm+\"BM_CH_2021_3__DA.csv\"   , \"CH\", 2021, 3),",
                "\n    new BenchmarkMetadata(pathToBm+\"BM_CH_2021_3__F.csv\"    , \"CH\", 2021, 3),",
                "\n    new BenchmarkMetadata(pathToBm+\"BM_CH_2021_3__L.csv\"    , \"CH\", 2021, 3),",
                "\n    new BenchmarkMetadata(pathToBm+\"BM_CH_2021_3__LR.csv\"   , \"CH\", 2021, 3),",
                "\n    new BenchmarkMetadata(pathToBm+\"BM_CH_2021_3__OA.csv\"   , \"CH\", 2021, 3),",
                "\n    new BenchmarkMetadata(pathToBm+\"BM_CH_2021_3__RA.csv\"   , \"CH\", 2021, 3),",
                "\n    // 2020 Q4",
                "\n    new BenchmarkMetadata(pathToBm+\"BM_CH_2020_12_MTUP10pct_BE.csv\"   , \"CH\", 2020, 12, \"MTUP10pct\"),",
                "\n    new BenchmarkMetadata(pathToBm+\"BM_CH_2020_12_MTUP10pct_BEPA.csv\" , \"CH\", 2020, 12, \"MTUP10pct\"),",
                "\n    new BenchmarkMetadata(pathToBm+\"BM_CH_2020_12_MTUP10pct_A.csv\"    , \"CH\", 2020, 12, \"MTUP10pct\"),",
                "\n    new BenchmarkMetadata(pathToBm+\"BM_CH_2020_12_MTUP10pct_APA.csv\"  , \"CH\", 2020, 12, \"MTUP10pct\"),",
                "\n    new BenchmarkMetadata(pathToBm+\"BM_CH_2020_12_MTUP10pct_DA.csv\"   , \"CH\", 2020, 12, \"MTUP10pct\"),",
                "\n    new BenchmarkMetadata(pathToBm+\"BM_CH_2020_12_MTUP10pct_C.csv\"    , \"CH\", 2020, 12, \"MTUP10pct\"),",
                "\n    new BenchmarkMetadata(pathToBm+\"BM_CH_2020_12_MTUP10pct_F.csv\"    , \"CH\", 2020, 12, \"MTUP10pct\"),",
                "\n    new BenchmarkMetadata(pathToBm+\"BM_CH_2020_12_MTUP10pct_RA.csv\"   , \"CH\", 2020, 12, \"MTUP10pct\"),",
                "\n};"
            ],
            "metadata": {},
            "execution_count": 0,
            "outputs": []
        },
        {
            "cell_type": "code",
            "source": [
                "var excludedDataNodes = new string[]{};"
            ],
            "metadata": {},
            "execution_count": 0,
            "outputs": []
        },
        {
            "cell_type": "markdown",
            "source": [
                "# Functions"
            ],
            "metadata": {},
            "execution_count": 0,
            "outputs": []
        },
        {
            "cell_type": "code",
            "source": [
                "public static NumberStyles AllowedNumberStyles = NumberStyles.Float | NumberStyles.AllowLeadingWhite | NumberStyles.AllowTrailingWhite | NumberStyles.AllowLeadingSign | NumberStyles.AllowTrailingSign | NumberStyles.AllowDecimalPoint;"
            ],
            "metadata": {},
            "execution_count": 0,
            "outputs": []
        },
        {
            "cell_type": "code",
            "source": [
                "public IfrsVariable CreateVariable(IDataRow row, Guid partition)",
                "\n{",
                "\n    if (!double.TryParse(row[nameof(IfrsVariable.Value)]?.ToString(), AllowedNumberStyles, CultureInfo.InvariantCulture, out var doubleValue))",
                "\n        throw new Exception(\"Value cannot be parsed.\");",
                "\n   ",
                "\n    return new IfrsVariable(){AocType = row.Field<string>(nameof(IfrsVariable.AocType)),",
                "\n                              Partition = partition,",
                "\n                              Novelty = row.Field<string>(nameof(IfrsVariable.Novelty)),",
                "\n                              DataNode = row.Field<string>(nameof(IfrsVariable.DataNode)),",
                "\n                              EstimateType = row.Field<string>(nameof(IfrsVariable.EstimateType)),",
                "\n                              AmountType = row.Field<string>(nameof(IfrsVariable.AmountType)),",
                "\n                              AccidentYear = Int32.TryParse((row.Field<string>(nameof(IfrsVariable.AccidentYear))), out var accidentYear) ? accidentYear : (int?)null,",
                "\n                              EconomicBasis = row.Field<string>(nameof(IfrsVariable.EconomicBasis)),",
                "\n                              Value = (-1.0) * doubleValue };",
                "\n}"
            ],
            "metadata": {},
            "execution_count": 0,
            "outputs": []
        },
        {
            "cell_type": "code",
            "source": [
                "public class BenchmarkTestResult",
                "\n{",
                "\n    public string ErrorMessage {get; set;}",
                "\n    public double ExpectedValue {get; set;}",
                "\n    public double ComputedValue {get; set;}",
                "\n    public BenchmarkTestResult (string message)",
                "\n    {",
                "\n        ErrorMessage = message;",
                "\n    }",
                "\n    public BenchmarkTestResult (string message, double expValue, double compValue)",
                "\n    {",
                "\n        ErrorMessage = message;",
                "\n        ExpectedValue = expValue;",
                "\n        ComputedValue = compValue;    ",
                "\n    }",
                "\n}"
            ],
            "metadata": {},
            "execution_count": 0,
            "outputs": []
        },
        {
            "cell_type": "code",
            "source": [
                "public List<BenchmarkTestResult> CompareAgainstBm(List<BenchmarkTestResult> errors, IEnumerable<IfrsVariable> expected, IEnumerable<IfrsVariable> computed)",
                "\n{",
                "\n    var expectedNotComputed = expected.Where(x => Math.Abs(x.Value) > BenchmarkPrecision).Except(computed, EqualityComparer<IfrsVariable>.Instance);",
                "\n    var computedNotExpected = computed.Where(x => Math.Abs(x.Value) > BenchmarkPrecision).Except(expected, EqualityComparer<IfrsVariable>.Instance);",
                "\n    if (expectedNotComputed.Any())",
                "\n        foreach (var variable in expectedNotComputed)",
                "\n            errors.Add(new BenchmarkTestResult(\"Extra expected variable for: Partition \" + variable.Partition + \", \" + variable.ToIdentityString()));",
                "\n    if (computedNotExpected.Any())",
                "\n        foreach (var variable in computedNotExpected)",
                "\n            errors.Add(new BenchmarkTestResult(\"Extra computed variable for: Partition \" + variable.Partition + \", \" + variable.ToIdentityString()));",
                "\n",
                "\n    var comparer = EqualityComparer<IfrsVariable>.Instance; ",
                "\n    foreach (var benchmarkVariable in expected) {",
                "\n        var computedVariable = computed.FirstOrDefault(y => comparer.Equals(benchmarkVariable,y))?? null;",
                "\n        if(computedVariable == null || Math.Abs(benchmarkVariable.Value + computedVariable.Value) < BenchmarkPrecision) continue;",
                "\n        errors.Add(new BenchmarkTestResult(\"Value does not match for Variable: Partition \" + benchmarkVariable.Partition + \", \" + benchmarkVariable.ToIdentityString(), -benchmarkVariable.Value, computedVariable.Value));",
                "\n    }",
                "\n",
                "\n    return errors;",
                "\n}"
            ],
            "metadata": {},
            "execution_count": 0,
            "outputs": []
        },
        {
            "cell_type": "markdown",
            "source": [
                "# Test Runner"
            ],
            "metadata": {},
            "execution_count": 0,
            "outputs": []
        },
        {
            "cell_type": "code",
            "source": [
                "public bool ValidateMainTab(IDataRow mainRow, string reportingNode, int year, int month)",
                "\n{",
                "\n    if (!int.TryParse(mainRow[nameof(PartitionByReportingNodeAndPeriod.Year)]?.ToString(), NumberStyles.AllowLeadingWhite | NumberStyles.AllowTrailingWhite , CultureInfo.InvariantCulture, out var mainYear))",
                "\n            throw new Exception(\"Value Year cannot be parsed.\"); ",
                "\n    if (!int.TryParse(mainRow[nameof(PartitionByReportingNodeAndPeriod.Month)]?.ToString(), NumberStyles.AllowLeadingWhite | NumberStyles.AllowTrailingWhite , CultureInfo.InvariantCulture, out var mainMonth))",
                "\n            throw new Exception(\"Value Month cannot be parsed.\"); ",
                "\n    var mainReportingNode = mainRow[nameof(PartitionByReportingNodeAndPeriod.ReportingNode)].ToString();",
                "\n    ",
                "\n    return reportingNode == mainReportingNode && year == mainYear && month == mainMonth;",
                "\n}"
            ],
            "metadata": {},
            "execution_count": 0,
            "outputs": []
        },
        {
            "cell_type": "code",
            "source": [
                "var errorList = new List<BenchmarkTestResult>();",
                "\nforeach (var g in bmFiles.GroupBy(x => (ReportingNode: x.ReportingNode, Year: x.Year, Month: x.Month, Scenario : x.Scenario)))",
                "\n{",
                "\n    var reportingNode = g.Key.ReportingNode;",
                "\n    var year = g.Key.Year;",
                "\n    var month = g.Key.Month;",
                "\n    var scenario = g.Key.Scenario;",
                "\n    ",
                "\n    await DataSource.Partition.SetAsync<PartitionByReportingNodeAndPeriod>(new {ReportingNode = reportingNode, Year = year, Month = month, Scenario = scenario});",
                "\n    var partition = (await DataSource.Query<PartitionByReportingNodeAndPeriod>().ToArrayAsync())",
                "\n                        .SingleOrDefault(x => x.ReportingNode == reportingNode && x.Year== year && x.Month == month && x.Scenario == scenario)?.Id ?? ",
                "\n                        throw new Exception(\"Partition not found.\");",
                "\n    ",
                "\n    var computedVariablesByEstimateType = (await DataSource.Query<IfrsVariable>()",
                "\n                                                            .Where(v => !excludedDataNodes.Contains(v.DataNode))",
                "\n                                                            .ToArrayAsync())",
                "\n                                                            .ToDictionaryGrouped(x => x.EstimateType, x => x.ToArray());",
                "\n",
                "\n    foreach (var bmfile in g)",
                "\n    {",
                "\n        var extension = System.IO.Path.GetExtension(bmfile.FileName);",
                "\n        var stream = await Project.FileStorage.ReadAsync(bmfile.FileName);",
                "\n        //Read Bm csv",
                "\n        var bmDataTable = (await DataSetReader.ReadFromStream(stream).WithContentType(extension).ExecuteAsync()).DataSet;",
                "\n",
                "\n        var mainTab = bmDataTable.Tables[Main].Rows.First();",
                "\n        if(!ValidateMainTab(mainTab, reportingNode, year, month))",
                "\n            throw new Exception(\"Metadata and main tab of the Benchmark are different.\");",
                "\n",
                "\n        var bmTableName = bmDataTable.Tables.Single(x => x.TableName != Main).TableName;",
                "\n        var bmVariables = bmDataTable.Tables[bmTableName].Rows.Select(x => CreateVariable(x, partition));",
                "\n",
                "\n        //Get the computed Data",
                "\n        var computedVariables = computedVariablesByEstimateType.TryGetValue(bmTableName, out var ret) ? ret : Enumerable.Empty<IfrsVariable>();",
                "\n",
                "\n        if(!computedVariables.Any())",
                "\n            errorList.Add(new BenchmarkTestResult(\"No variables are computed for EstimateType: \" + bmTableName, 0, 0));",
                "\n        //CompareAgainstBm",
                "\n        if (bmVariables.Any() && computedVariables.Any()) //TODO we are adding duplicates here",
                "\n            errorList = errorList.Concat(CompareAgainstBm(errorList, bmVariables, computedVariables)).Distinct().ToList();",
                "\n    }",
                "\n}"
            ],
            "metadata": {},
            "execution_count": 0,
            "outputs": []
        },
        {
            "cell_type": "code",
            "source": [
                "errorList.Count().Should().Be(0);"
            ],
            "metadata": {},
            "execution_count": 0,
            "outputs": []
        }
    ]
}