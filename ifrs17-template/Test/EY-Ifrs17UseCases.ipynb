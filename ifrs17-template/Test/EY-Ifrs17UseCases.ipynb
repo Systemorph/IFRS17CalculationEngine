{
    "metadata": {
        "authors": [],
        "id": "NzniNM2ytEex3iY4pdGWSA",
        "kernelspec": {
            "display_name": "Formula Framework",
            "language": "C#",
            "name": "C#"
        },
        "language_info": {
            "file_extension": ".cs",
            "mimetype": "text/plain",
            "name": "C#"
        }
    },
    "nbformat": 4,
    "nbformat_minor": 5,
    "cells": [
        {
            "cell_type": "markdown",
            "source": [
                "<p style=\"font-weight:bold;\"> <span style=\"font-size: 36px\"> EY IFRS 17 Use Cases </span> </p>"
            ],
            "metadata": {},
            "execution_count": 0,
            "outputs": []
        },
        {
            "cell_type": "markdown",
            "source": [
                "# Import and set up"
            ],
            "metadata": {},
            "execution_count": 0,
            "outputs": []
        },
        {
            "cell_type": "code",
            "source": [
                "#!import \"../Report/ReportEyCases\""
            ],
            "metadata": {},
            "execution_count": 0,
            "outputs": []
        },
        {
            "cell_type": "code",
            "source": [
                "using FluentAssertions;"
            ],
            "metadata": {},
            "execution_count": 0,
            "outputs": []
        },
        {
            "cell_type": "code",
            "source": [
                "var reportingNode = \"FR\";",
                "\nvar reportingPeriod = (2020, 12);"
            ],
            "metadata": {},
            "execution_count": 0,
            "outputs": []
        },
        {
            "cell_type": "markdown",
            "source": [
                "# Illustration 57"
            ],
            "metadata": {},
            "execution_count": 0,
            "outputs": []
        },
        {
            "cell_type": "markdown",
            "source": [
                "## Reinsurance Csm"
            ],
            "metadata": {},
            "execution_count": 0,
            "outputs": []
        },
        {
            "cell_type": "code",
            "source": [
                "allocatedTechnicalMargins.DataFilter = new []{(\"GroupOfContract\",\"EY57R.1\")};"
            ],
            "metadata": {},
            "execution_count": 0,
            "outputs": []
        },
        {
            "cell_type": "code",
            "source": [
                "var bop = allocatedTechnicalMargins.GetDataCube().Single(x => x.EstimateType == \"C\" && x.Novelty==\"N\" && x.VariableType==\"BOP\");",
                "\nvar am = allocatedTechnicalMargins.GetDataCube().Single(x => x.EstimateType == \"C\" && x.Novelty==\"C\" && x.VariableType==\"AM\");"
            ],
            "metadata": {},
            "execution_count": 0,
            "outputs": []
        },
        {
            "cell_type": "code",
            "source": [
                "bop.Value.Should().BeApproximately(-12d, Precision);",
                "\nam.Value.Should().BeApproximately(12d, Precision);"
            ],
            "metadata": {},
            "execution_count": 0,
            "outputs": []
        },
        {
            "cell_type": "markdown",
            "source": [
                "# Illustration 58"
            ],
            "metadata": {},
            "execution_count": 0,
            "outputs": []
        },
        {
            "cell_type": "markdown",
            "source": [
                "## Reinsurance Csm"
            ],
            "metadata": {},
            "execution_count": 0,
            "outputs": []
        },
        {
            "cell_type": "code",
            "source": [
                "allocatedTechnicalMargins.DataFilter = new []{(\"GroupOfContract\",\"EY58R.1\")};"
            ],
            "metadata": {},
            "execution_count": 0,
            "outputs": []
        },
        {
            "cell_type": "code",
            "source": [
                "var bop = allocatedTechnicalMargins.GetDataCube().Single(x => x.EstimateType == \"C\" && x.Novelty==\"N\" && x.VariableType==\"BOP\");",
                "\nvar am = allocatedTechnicalMargins.GetDataCube().Single(x => x.EstimateType == \"C\" && x.Novelty==\"C\" && x.VariableType==\"AM\");"
            ],
            "metadata": {},
            "execution_count": 0,
            "outputs": []
        },
        {
            "cell_type": "code",
            "source": [
                "bop.Value.Should().BeApproximately(-45d, Precision);",
                "\nam.Value.Should().BeApproximately(45d, Precision);"
            ],
            "metadata": {},
            "execution_count": 0,
            "outputs": []
        },
        {
            "cell_type": "markdown",
            "source": [
                "## LoReCo "
            ],
            "metadata": {},
            "execution_count": 0,
            "outputs": []
        },
        {
            "cell_type": "code",
            "source": [
                "var bop = allocatedTechnicalMargins.GetDataCube().Single(x => x.EstimateType == \"LR\" && x.Novelty==\"N\" && x.VariableType==\"BOP\");",
                "\nvar am = allocatedTechnicalMargins.GetDataCube().Single(x => x.EstimateType == \"LR\" && x.Novelty==\"C\" && x.VariableType==\"AM\");"
            ],
            "metadata": {},
            "execution_count": 0,
            "outputs": []
        },
        {
            "cell_type": "code",
            "source": [
                "bop.Value.Should().BeApproximately(-27d, Precision);",
                "\nam.Value.Should().BeApproximately(27d, Precision);"
            ],
            "metadata": {},
            "execution_count": 0,
            "outputs": []
        },
        {
            "cell_type": "markdown",
            "source": [
                "# Illustration 59"
            ],
            "metadata": {},
            "execution_count": 0,
            "outputs": []
        },
        {
            "cell_type": "markdown",
            "source": [
                "## Example A"
            ],
            "metadata": {},
            "execution_count": 0,
            "outputs": []
        },
        {
            "cell_type": "markdown",
            "source": [
                "### Reinsurance Csm"
            ],
            "metadata": {},
            "execution_count": 0,
            "outputs": []
        },
        {
            "cell_type": "code",
            "source": [
                "allocatedTechnicalMargins.DataFilter = new []{(\"GroupOfContract\",\"EY59R.1\")};"
            ],
            "metadata": {},
            "execution_count": 0,
            "outputs": []
        },
        {
            "cell_type": "code",
            "source": [
                "var bop = allocatedTechnicalMargins.GetDataCube().Single(x => x.EstimateType == \"C\" && x.Novelty==\"I\" && x.VariableType==\"BOP\");",
                "\nvar ev = allocatedTechnicalMargins.GetDataCube().Single(x => x.EstimateType == \"C\" && x.Novelty==\"I\" && x.VariableType==\"EV\");",
                "\nvar eop = allocatedTechnicalMargins.GetDataCube().Single(x => x.EstimateType == \"C\" && x.Novelty==\"C\" && x.VariableType==\"EOP\");"
            ],
            "metadata": {},
            "execution_count": 0,
            "outputs": []
        },
        {
            "cell_type": "code",
            "source": [
                "bop.Value.Should().BeApproximately(-25d, Precision);",
                "\nev.Value.Should().BeApproximately(15d, Precision);",
                "\neop.Value.Should().BeApproximately(-10d, Precision);"
            ],
            "metadata": {},
            "execution_count": 0,
            "outputs": []
        },
        {
            "cell_type": "markdown",
            "source": [
                "### Example B"
            ],
            "metadata": {},
            "execution_count": 0,
            "outputs": []
        },
        {
            "cell_type": "markdown",
            "source": [
                "### Reinsurance Csm"
            ],
            "metadata": {},
            "execution_count": 0,
            "outputs": []
        },
        {
            "cell_type": "code",
            "source": [
                "allocatedTechnicalMargins.DataFilter = new []{(\"GroupOfContract\",\"EY59R.2\")};"
            ],
            "metadata": {},
            "execution_count": 0,
            "outputs": []
        },
        {
            "cell_type": "code",
            "source": [
                "var bop = allocatedTechnicalMargins.GetDataCube().Single(x => x.EstimateType == \"C\" && x.Novelty==\"I\" && x.VariableType==\"BOP\");",
                "\nvar ev = allocatedTechnicalMargins.GetDataCube().Single(x => x.EstimateType == \"C\" && x.Novelty==\"I\" && x.VariableType==\"EV\");",
                "\nvar eop = allocatedTechnicalMargins.GetDataCube().Single(x => x.EstimateType == \"C\" && x.Novelty==\"C\" && x.VariableType==\"EOP\");"
            ],
            "metadata": {},
            "execution_count": 0,
            "outputs": []
        },
        {
            "cell_type": "code",
            "source": [
                "bop.Value.Should().BeApproximately(-25d, Precision);",
                "\nev.Value.Should().BeApproximately(48d, Precision);",
                "\neop.Value.Should().BeApproximately(23d, Precision);"
            ],
            "metadata": {},
            "execution_count": 0,
            "outputs": []
        },
        {
            "cell_type": "markdown",
            "source": [
                "### Reinsurance LoReCo"
            ],
            "metadata": {},
            "execution_count": 0,
            "outputs": []
        },
        {
            "cell_type": "code",
            "source": [
                "var ev = allocatedTechnicalMargins.GetDataCube().Single(x => x.EstimateType == \"LR\" && x.Novelty==\"I\" && x.VariableType==\"EV\");",
                "\nvar eop = allocatedTechnicalMargins.GetDataCube().Single(x => x.EstimateType == \"LR\" && x.Novelty==\"C\" && x.VariableType==\"EOP\");"
            ],
            "metadata": {},
            "execution_count": 0,
            "outputs": []
        },
        {
            "cell_type": "code",
            "source": [
                "ev.Value.Should().BeApproximately(-18d, Precision);",
                "\neop.Value.Should().BeApproximately(-18d, Precision);"
            ],
            "metadata": {},
            "execution_count": 0,
            "outputs": []
        },
        {
            "cell_type": "markdown",
            "source": [
                "# Illustration 63"
            ],
            "metadata": {},
            "execution_count": 0,
            "outputs": []
        },
        {
            "cell_type": "markdown",
            "source": [
                "## Reinsurance LoReCo"
            ],
            "metadata": {},
            "execution_count": 0,
            "outputs": []
        },
        {
            "cell_type": "code",
            "source": [
                "allocatedTechnicalMargins.DataFilter = new []{(\"GroupOfContract\",\"EY63R.1\")};"
            ],
            "metadata": {},
            "execution_count": 0,
            "outputs": []
        },
        {
            "cell_type": "code",
            "source": [
                "// var bop = allocatedTechnicalMargins.GetDataCube().Single(x => x.EstimateType == \"C\" && x.Novelty==\"N\" && x.VariableType==\"BOP\");",
                "\n// var ev = allocatedTechnicalMargins.GetDataCube().Single(x => x.EstimateType == \"C\" && x.Novelty==\"N\" && x.VariableType==\"EV\");",
                "\n// var eop = allocatedTechnicalMargins.GetDataCube().Single(x => x.EstimateType == \"C\" && x.Novelty==\"C\" && x.VariableType==\"EOP\");"
            ],
            "metadata": {},
            "execution_count": 0,
            "outputs": []
        },
        {
            "cell_type": "code",
            "source": [
                "// bop.Value.Should().BeApproximately(-5d, Precision);",
                "\n// ev.Value.Should().BeApproximately(7.5d, Precision);",
                "\n// eop.Value.Should().BeApproximately(2.5d, Precision);"
            ],
            "metadata": {},
            "execution_count": 0,
            "outputs": []
        },
        {
            "cell_type": "code",
            "source": [
                ""
            ],
            "metadata": {},
            "execution_count": 0,
            "outputs": []
        }
    ]
}