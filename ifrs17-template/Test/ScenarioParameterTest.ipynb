{
    "metadata": {
        "authors": [],
        "kernelspec": {
            "display_name": "Formula Framework",
            "language": "C#",
            "name": "C#"
        },
        "language_info": {
            "file_extension": ".cs",
            "mimetype": "text/plain",
            "name": "C#"
        }
    },
    "nbformat": 4,
    "nbformat_minor": 5,
    "cells": [
        {
            "cell_type": "markdown",
            "source": [
                "# Context"
            ],
            "metadata": {},
            "execution_count": 0,
            "outputs": []
        },
        {
            "cell_type": "code",
            "source": [
                "#!eval-notebook \"../Initialization/InitSystemorphToMemory\""
            ],
            "metadata": {},
            "execution_count": 0,
            "outputs": []
        },
        {
            "cell_type": "code",
            "source": [
                "Workspace.Reset(x => x.ResetInitializationRules().ResetCurrentPartitions());",
                "\nWorkspace.Initialize(x => x.FromSource(DataSource));",
                "\nvar defaultVarsBE = Workspace.Query<IfrsVariable>();"
            ],
            "metadata": {},
            "execution_count": 0,
            "outputs": []
        },
        {
            "cell_type": "markdown",
            "source": [
                "# Yield Curve Scenario"
            ],
            "metadata": {},
            "execution_count": 0,
            "outputs": []
        },
        {
            "cell_type": "code",
            "source": [
                "var yieldCurve = @\"",
                "\n@@YieldCurve",
                "\nCurrency,Year,Month,Scenario,Values0,Values1,Values2,Values3",
                "\nEUR,2020,3,,0.008685495,0.008685495,0.018498471,0.019966839",
                "\nCHF,2020,3,,0.002,0.002,0.002,0.002",
                "\nCHF,2021,3,,0.1,0.1,0.1,0.1",
                "\nUSD,2021,3,,0.005,0.005,0.005,0.005",
                "\nUSD,2020,12,,0.002,0.002,0.002,0.002",
                "\nUSD,2020,3,,0.002,0.002,0.002,0.002",
                "\nUSD,2020,1,,0.002,0.002,0.002,0.002",
                "\nEUR,2018,3,MTUP10pct,0.009554045,0.009554045,0.020348318,0.021963523",
                "\nCHF,2018,3,MTUP10pct,0.0022,0.0022,0.0022,0.0022",
                "\nCHF,2019,3,MTUP10pct,0.11,0.11,0.11,0.11",
                "\nUSD,2019,3,MTUP10pct,0.0055,0.0055,0.0055,0.0055",
                "\nUSD,2018,12,MTUP10pct,0.0022,0.0022,0.0022,0.0022",
                "\nUSD,2018,3,MTUP10pct,0.0022,0.0022,0.0022,0.0022",
                "\nUSD,2018,1,MTUP10pct,0.0022,0.0022,0.0022,0.0022",
                "\nEUR,2020,12,MTUP10pct,0.009554045,0.009554045,0.020348318,0.021963523",
                "\nCHF,2020,12,MTUP10pct,0.0022,0.0022,0.0022,0.0022",
                "\nCHF,2021,3,MTUP10pct,0.11,0.11,0.11,0.11",
                "\nUSD,2021,3,MTUP10pct,0.0055,0.0055,0.0055,0.0055",
                "\nUSD,2020,12,MTUP10pct,0.0022,0.0022,0.0022,0.0022",
                "\nUSD,2020,3,MTUP10pct,0.0022,0.0022,0.0022,0.0022",
                "\nUSD,2020,1,MTUP10pct,0.0022,0.0022,0.0022,0.0022\";"
            ],
            "metadata": {},
            "execution_count": 0,
            "outputs": []
        },
        {
            "cell_type": "code",
            "source": [
                "var log = await Import.FromString(yieldCurve).WithFormat(ImportFormats.YieldCurve).WithTarget(DataSource).ExecuteAsync();",
                "\nWorkspace.Reset(x => x.ResetInitializationRules().ResetCurrentPartitions());",
                "\nWorkspace.Initialize(x => x.FromSource(DataSource));",
                "\nlog.Warnings.Count().Should().Be(2);"
            ],
            "metadata": {},
            "execution_count": 0,
            "outputs": []
        },
        {
            "cell_type": "markdown",
            "source": [
                "## Test 2020Q4 with Scenario MTUP10pct"
            ],
            "metadata": {},
            "execution_count": 0,
            "outputs": []
        },
        {
            "cell_type": "code",
            "source": [
                "var argsBestEstimate = new ImportArgs (\"CH\",2020, 12, Periodicity.Quarterly, null, ImportFormats.Cashflow);",
                "\nvar defaultPartition = (Guid)(await DataSource.Partition.GetKeyForInstanceAsync<PartitionByReportingNodeAndPeriod>(argsBestEstimate)); ",
                "\n",
                "\nvar scenarioArgs = new ImportArgs (\"CH\",2020, 12, Periodicity.Quarterly, \"MTUP10pct\", ImportFormats.Cashflow);",
                "\nawait Workspace.Partition.SetAsync<PartitionByReportingNodeAndPeriod>(scenarioArgs);",
                "\nawait DataSource.Partition.SetAsync<PartitionByReportingNodeAndPeriod>(scenarioArgs);",
                "\nvar diffIfrsVars = Workspace.Query<IfrsVariable>().Except(defaultVarsBE.Where(x => x.Partition == defaultPartition).ToArray(), IfrsVariableComparer.Instance());",
                "\ndiffIfrsVars.ToArray().Length.Should().NotBe(0);"
            ],
            "metadata": {},
            "execution_count": 0,
            "outputs": []
        },
        {
            "cell_type": "markdown",
            "source": [
                "## Test 2021Q1 with Scenario MTUP10pct"
            ],
            "metadata": {},
            "execution_count": 0,
            "outputs": []
        },
        {
            "cell_type": "code",
            "source": [
                "var argsBestEstimate = new ImportArgs (\"CH\",2021, 3, Periodicity.Quarterly, null, ImportFormats.Cashflow);",
                "\nvar defaultPartition = (Guid)(await DataSource.Partition.GetKeyForInstanceAsync<PartitionByReportingNodeAndPeriod>(argsBestEstimate)); ",
                "\n",
                "\nvar scenarioArgs = new ImportArgs (\"CH\",2021, 3, Periodicity.Quarterly, \"MTUP10pct\", ImportFormats.Cashflow);",
                "\nawait Workspace.Partition.SetAsync<PartitionByReportingNodeAndPeriod>(scenarioArgs);",
                "\nawait DataSource.Partition.SetAsync<PartitionByReportingNodeAndPeriod>(scenarioArgs);",
                "\nvar diffIfrsVars = Workspace.Query<IfrsVariable>().Except(defaultVarsBE.Where(x => x.Partition == defaultPartition).ToArray(), IfrsVariableComparer.Instance());",
                "\ndiffIfrsVars.ToArray().Length.Should().NotBe(0);"
            ],
            "metadata": {},
            "execution_count": 0,
            "outputs": []
        },
        {
            "cell_type": "markdown",
            "source": [
                "## Robustness: Reimport does not trigger Calculations"
            ],
            "metadata": {},
            "execution_count": 0,
            "outputs": []
        },
        {
            "cell_type": "code",
            "source": [
                "var log = await Import.FromString(cashflows_scenarioTest).WithFormat(ImportFormats.YieldCurve).WithTarget(DataSource).ExecuteAsync();",
                "\nWorkspace.Reset(x => x.ResetInitializationRules().ResetCurrentPartitions());",
                "\nWorkspace.Initialize(x => x.FromSource(DataSource));",
                "\nlog.Warnings.Count().Should().Be(1);"
            ],
            "metadata": {},
            "execution_count": 0,
            "outputs": []
        },
        {
            "cell_type": "code",
            "source": [
                "var extension = System.IO.Path.GetExtension(file);",
                "\nvar stream = await Project.FileStorage.ReadAsync(file);",
                "\nvar mainTab = (await DataSetReader.ReadFromStream(stream).WithContentType(extension).ExecuteAsync()).DataSet.Tables[Main];\",",
                "\n",
                "\n"
            ],
            "metadata": {},
            "execution_count": 0,
            "outputs": []
        },
        {
            "cell_type": "code",
            "source": [
                ""
            ],
            "metadata": {},
            "execution_count": 0,
            "outputs": []
        }
    ]
}