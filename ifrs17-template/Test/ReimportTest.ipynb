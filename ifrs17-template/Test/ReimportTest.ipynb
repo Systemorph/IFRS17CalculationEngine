{
    "metadata": {
        "authors": [],
        "id": "VOS67A7-B0Omk1s4TFC3LQ",
        "kernelspec": {
            "display_name": "Formula Framework",
            "language": "C#",
            "name": "C#"
        },
        "language_info": {
            "file_extension": ".cs",
            "mimetype": "text/plain",
            "name": "C#"
        }
    },
    "nbformat": 4,
    "nbformat_minor": 8,
    "cells": [
        {
            "cell_type": "markdown",
            "source": [
                "<p style=\"font-weight:bold;\"> <span style=\"font-size: 36px\"> Reimport of Transactional Data Test</span> </p>"
            ],
            "metadata": {},
            "execution_count": 0,
            "outputs": []
        },
        {
            "cell_type": "code",
            "source": [
                "#!eval-notebook \"../Initialization/InitSystemorphBaseToMemory\""
            ],
            "metadata": {},
            "execution_count": 0,
            "outputs": []
        },
        {
            "cell_type": "markdown",
            "source": [
                "# Test Function"
            ],
            "metadata": {},
            "execution_count": 0,
            "outputs": []
        },
        {
            "cell_type": "code",
            "source": [
                "// public async Task<ActivityLog> ReimportAndCompare((string transactionalData, string importFormat)[] importInfo, DataNodeState[] dataNodeStates, IWorkspace workspace)",
                "\n// {",
                "\n//     Activity.Start();",
                "\n//     // var workspace = Workspace.CreateNew();",
                "\n//     workspace.Initialize(x => x.FromSource(DataSource)",
                "\n//                            .DisableInitialization<DataNodeState>());",
                "\n//     await workspace.UpdateAsync<DataNodeState>(dataNodeStates);",
                "\n",
                "\n//     foreach(var (transactionalData, importFormat) in importInfo)",
                "\n//         await Import.FromString(transactionalData).WithFormat(importFormat).WithTarget(workspace).ExecuteAsync();",
                "\n    ",
                "\n//     var originalRawVariables = workspace.Query<RawVariable>();",
                "\n//     var originalIfrsVariables = workspace.Query<IfrsVariable>();",
                "\n",
                "\n//     foreach(var (transactionalData, importFormat) in importInfo)",
                "\n//         await Import.FromString(transactionalData).WithFormat(importFormat).WithTarget(workspace).ExecuteAsync();",
                "\n",
                "\n//     var reimportedRawVariables = workspace.Query<RawVariable>();",
                "\n//     var reimportedIfrsVariables = workspace.Query<IfrsVariable>();",
                "\n",
                "\n//     List<string> errors = new();",
                "\n//     var missingRawVariables = originalRawVariables.Except(reimportedRawVariables);",
                "\n//     var missingIfrsVariables = originalIfrsVariables.Except(reimportedIfrsVariables);",
                "\n//     var extraRawVariables = reimportedRawVariables.Except(originalRawVariables);",
                "\n//     var extraIfrsVariables = reimportedIfrsVariables.Except(originalIfrsVariables);",
                "\n",
                "\n//     if(missingRawVariables.Any()) errors.Add($\"Reimport missed the following RawVariables: {string.Join(\", \", missingRawVariables)}.\");",
                "\n//     if(missingIfrsVariables.Any()) errors.Add($\"Reimport missed the following IfrsVariables: {string.Join(\", \", missingIfrsVariables)}.\");",
                "\n//     if(extraRawVariables.Any()) errors.Add($\"Reimport created RawVariables that it shouldn't: {string.Join(\", \", extraRawVariables)}.\");",
                "\n//     if(extraIfrsVariables.Any()) errors.Add($\"Reimport created IfrsVariables that it shouldn't: {string.Join(\", \", extraIfrsVariables)}.\");",
                "\n    ",
                "\n//     if(errors.Any()) ApplicationMessage.Log(Error.Generic, string.Join(\"\\n\", errors));",
                "\n",
                "\n//     ApplicationMessage.Log(Warning.Generic, \"Count of ifrs variables in workspace: \"+reimportedIfrsVariables.Count());",
                "\n//     if (reimportedIfrsVariables.Any()) ApplicationMessage.Log(Warning.Generic, string.Join(\"\\n\", reimportedIfrsVariables));",
                "\n",
                "\n//     return Activity.Finish();",
                "\n// }"
            ],
            "metadata": {},
            "execution_count": 0,
            "outputs": []
        },
        {
            "cell_type": "markdown",
            "source": [
                "#  Definitions"
            ],
            "metadata": {},
            "execution_count": 0,
            "outputs": []
        },
        {
            "cell_type": "markdown",
            "source": [
                "## Args"
            ],
            "metadata": {},
            "execution_count": 0,
            "outputs": []
        },
        {
            "cell_type": "code",
            "source": [
                "var args = new ImportArgs(\"CH\", 2021, 3, Periodicity.Quarterly, null, ImportFormats.Actual);",
                "\nvar previousArgs = new ImportArgs(\"CH\", 2020, 12, Periodicity.Quarterly, null, ImportFormats.Actual);",
                "\n",
                "\nvar partitionReportingNode = new PartitionByReportingNode { Id = (Guid)(await DataSource.Partition.GetKeyForInstanceAsync<PartitionByReportingNode>(args)), ReportingNode = args.ReportingNode };",
                "\n",
                "\nvar reimportTrials = 5;"
            ],
            "metadata": {},
            "execution_count": 0,
            "outputs": []
        },
        {
            "cell_type": "markdown",
            "source": [
                "## DataNodeState"
            ],
            "metadata": {},
            "execution_count": 0,
            "outputs": []
        },
        {
            "cell_type": "code",
            "source": [
                "var dt11StatePrevious = new DataNodeState {",
                "\n            DataNode = \"DT1.1\",",
                "\n            State = State.Active,",
                "\n            Year = previousArgs.Year,",
                "\n            Month = previousArgs.Month,",
                "\n            Partition = partitionReportingNode.Id",
                "\n        };",
                "\n",
                "\nvar dt11State = new DataNodeState {",
                "\n            DataNode = \"DT1.1\",",
                "\n            State = State.Active,",
                "\n            Year = args.Year,",
                "\n            Month = args.Month,",
                "\n            Partition = partitionReportingNode.Id",
                "\n        };",
                "\n",
                "\nvar dt13State = new DataNodeState {",
                "\n            DataNode = \"DT1.3\",",
                "\n            State = State.Active,",
                "\n            Year = args.Year,",
                "\n            Month = args.Month,",
                "\n            Partition = partitionReportingNode.Id",
                "\n        };",
                "\n",
                "\nvar dtr13State = new DataNodeState {",
                "\n            DataNode = \"DTR1.3\",",
                "\n            State = State.Active,",
                "\n            Year = args.Year,",
                "\n            Month = args.Month,",
                "\n            Partition = partitionReportingNode.Id",
                "\n        };",
                "\n",
                "\nvar dtr11StatePrevious = new DataNodeState {",
                "\n            DataNode = \"DTR1.1\",",
                "\n            State = State.Active,",
                "\n            Year = previousArgs.Year,",
                "\n            Month = previousArgs.Month,",
                "\n            Partition = partitionReportingNode.Id",
                "\n        };",
                "\n",
                "\nvar dtr11State = new DataNodeState {",
                "\n            DataNode = \"DTR1.1\",",
                "\n            State = State.Active,",
                "\n            Year = args.Year,",
                "\n            Month = args.Month,",
                "\n            Partition = partitionReportingNode.Id",
                "\n        };",
                "\n"
            ],
            "metadata": {},
            "execution_count": 0,
            "outputs": []
        },
        {
            "cell_type": "markdown",
            "source": [
                "# Case I: Reimport Openings for DataNode at Inception"
            ],
            "metadata": {},
            "execution_count": 0,
            "outputs": []
        },
        {
            "cell_type": "markdown",
            "source": [
                "## Disposable Workspace"
            ],
            "metadata": {},
            "execution_count": 0,
            "outputs": []
        },
        {
            "cell_type": "code",
            "source": [
                "var ws1 = Workspace.CreateNew();",
                "\nws1.Initialize(x=>x.FromSource(DataSource).DisableInitialization<DataNodeState>());",
                "\nawait ws1.UpdateAsync<DataNodeState>(new DataNodeState [] {dt11State, dtr11State});"
            ],
            "metadata": {},
            "execution_count": 0,
            "outputs": []
        },
        {
            "cell_type": "code",
            "source": [
                "var openings = ",
                "\n@\"@@Main,,,,",
                "\nReportingNode,Year,Month,,",
                "\nCH,2021,3,,",
                "\n@@Opening,,,,",
                "\nDataNode,EstimateType,AmountType,AccidentYear,Value",
                "\nDT1.1,C,,,72.2",
                "\nDT1.1,AA,PR,,-1.5",
                "\nDT1.1,OA,PR,,1.5",
                "\n\";"
            ],
            "metadata": {},
            "execution_count": 0,
            "outputs": []
        },
        {
            "cell_type": "markdown",
            "source": [
                "## Import Phase"
            ],
            "metadata": {},
            "execution_count": 0,
            "outputs": []
        },
        {
            "cell_type": "code",
            "source": [
                "await Import.FromString(openings).WithFormat(ImportFormats.Opening).WithTarget(ws1).ExecuteAsync()"
            ],
            "metadata": {},
            "execution_count": 0,
            "outputs": []
        },
        {
            "cell_type": "code",
            "source": [
                "var caseIQueries = new { ",
                "\n    IfrsVariables = ws1.Query<IfrsVariable>(), ",
                "\n    RawVariables = ws1.Query<RawVariable>()",
                "\n};"
            ],
            "metadata": {},
            "execution_count": 0,
            "outputs": []
        },
        {
            "cell_type": "markdown",
            "source": [
                "## Reimport Phase"
            ],
            "metadata": {},
            "execution_count": 0,
            "outputs": []
        },
        {
            "cell_type": "code",
            "source": [
                "for (int i=0; i < reimportTrials; i++)",
                "\n{",
                "\n    await Import.FromString(openings).WithFormat(ImportFormats.Opening).WithTarget(ws1).ExecuteAsync();",
                "\n}",
                "\n",
                "\nvar caseIQueriesReimported = new { ",
                "\n    IfrsVariables = ws1.Query<IfrsVariable>(), ",
                "\n    RawVariables = ws1.Query<RawVariable>()",
                "\n};"
            ],
            "metadata": {},
            "execution_count": 0,
            "outputs": []
        },
        {
            "cell_type": "markdown",
            "source": [
                "## Assertions"
            ],
            "metadata": {},
            "execution_count": 0,
            "outputs": []
        },
        {
            "cell_type": "code",
            "source": [
                "(   !caseIQueries.IfrsVariables.Except(caseIQueriesReimported.IfrsVariables).Any() && ",
                "\n    !caseIQueriesReimported.IfrsVariables.Except(caseIQueries.IfrsVariables).Any()  ).Should().Be(true);"
            ],
            "metadata": {},
            "execution_count": 0,
            "outputs": []
        },
        {
            "cell_type": "code",
            "source": [
                "(   !caseIQueries.RawVariables.Except(caseIQueriesReimported.RawVariables).Any() && ",
                "\n    !caseIQueriesReimported.RawVariables.Except(caseIQueries.RawVariables).Any()  ).Should().Be(true);"
            ],
            "metadata": {},
            "execution_count": 0,
            "outputs": []
        },
        {
            "cell_type": "markdown",
            "source": [
                "# Case II:  Reimport Actuals for DataNode at Inception and One Not at Inception"
            ],
            "metadata": {},
            "execution_count": 0,
            "outputs": []
        },
        {
            "cell_type": "markdown",
            "source": [
                "## Disposable Workspace"
            ],
            "metadata": {},
            "execution_count": 0,
            "outputs": []
        },
        {
            "cell_type": "code",
            "source": [
                "var ws2 = Workspace.CreateNew();",
                "\nws2.Initialize(x=>x.FromSource(DataSource).DisableInitialization<DataNodeState>());",
                "\nawait ws2.UpdateAsync<DataNodeState>(new DataNodeState [] {dt11StatePrevious, dtr11StatePrevious});//, dtr13State});"
            ],
            "metadata": {},
            "execution_count": 0,
            "outputs": []
        },
        {
            "cell_type": "markdown",
            "source": [
                "## Import Phase"
            ],
            "metadata": {},
            "execution_count": 0,
            "outputs": []
        },
        {
            "cell_type": "code",
            "source": [
                "var actuals = @\"",
                "\n@@Main,,,,,",
                "\nReportingNode,Year,Month,,,",
                "\nCH,2021,3,,,",
                "\n@@Actual,,,,,",
                "\nDataNode,AocType,AmountType,EstimateType,AccidentYear,Value",
                "\nDT1.1,CF,PR,A,,90",
                "\nDT1.1,CF,ICO,A,,-6",
                "\nDT1.1,CF,NIC,A,,-70",
                "\nDT1.1,CF,ACA,A,,-10",
                "\nDT1.1,CF,AEA,A,,-5",
                "\nDT1.3,CF,PR,A,,90",
                "\nDT1.3,CF,ICO,A,,-6",
                "\nDT1.3,CF,NIC,A,,-70",
                "\nDT1.3,CF,ACA,A,,-10",
                "\nDT1.3,CF,AEA,A,,-5\";"
            ],
            "metadata": {},
            "execution_count": 0,
            "outputs": []
        },
        {
            "cell_type": "code",
            "source": [
                "await Import.FromString(actuals).WithFormat(ImportFormats.Actual).WithTarget(ws2).ExecuteAsync()"
            ],
            "metadata": {},
            "execution_count": 0,
            "outputs": []
        },
        {
            "cell_type": "code",
            "source": [
                "var caseIIQueries = new { ",
                "\n    IfrsVariables = ws2.Query<IfrsVariable>(), ",
                "\n    RawVariables = ws2.Query<RawVariable>()",
                "\n};"
            ],
            "metadata": {},
            "execution_count": 0,
            "outputs": []
        },
        {
            "cell_type": "markdown",
            "source": [
                "##  Reimport Phase"
            ],
            "metadata": {},
            "execution_count": 0,
            "outputs": []
        },
        {
            "cell_type": "code",
            "source": [
                "for (int i=0; i < reimportTrials; i++)",
                "\n{",
                "\n    await Import.FromString(actuals).WithFormat(ImportFormats.Actual).WithTarget(ws2).ExecuteAsync();",
                "\n}",
                "\n",
                "\nvar caseIIQueriesReimported = new { ",
                "\n    IfrsVariables = ws2.Query<IfrsVariable>(), ",
                "\n    RawVariables = ws2.Query<RawVariable>()",
                "\n};"
            ],
            "metadata": {},
            "execution_count": 0,
            "outputs": []
        },
        {
            "cell_type": "markdown",
            "source": [
                "## Assertions"
            ],
            "metadata": {},
            "execution_count": 0,
            "outputs": []
        },
        {
            "cell_type": "code",
            "source": [
                "(   !caseIIQueries.IfrsVariables.Except(caseIIQueriesReimported.IfrsVariables).Any() && ",
                "\n    !caseIIQueriesReimported.IfrsVariables.Except(caseIIQueries.IfrsVariables).Any()  ).Should().Be(true);"
            ],
            "metadata": {},
            "execution_count": 0,
            "outputs": []
        },
        {
            "cell_type": "code",
            "source": [
                "(   !caseIIQueries.RawVariables.Except(caseIIQueriesReimported.RawVariables).Any() && ",
                "\n    !caseIIQueriesReimported.RawVariables.Except(caseIIQueries.RawVariables).Any()  ).Should().Be(true);"
            ],
            "metadata": {},
            "execution_count": 0,
            "outputs": []
        },
        {
            "cell_type": "markdown",
            "source": [
                "# Case III: Openings for Insurance at Inception and Cashflows for Linked Preexisitng Reinsurance Not at Inception"
            ],
            "metadata": {},
            "execution_count": 0,
            "outputs": []
        },
        {
            "cell_type": "markdown",
            "source": [
                "## Disposable Workspace"
            ],
            "metadata": {},
            "execution_count": 0,
            "outputs": []
        },
        {
            "cell_type": "code",
            "source": [
                "var ws3 = Workspace.CreateNew();",
                "\nws3.Initialize(x=>x.FromSource(DataSource).DisableInitialization<DataNodeState>());",
                "\nawait ws3.UpdateAsync<DataNodeState>(new DataNodeState [] {dt11State, dtr11StatePrevious, dt11StatePrevious});//, dtr13State});"
            ],
            "metadata": {},
            "execution_count": 0,
            "outputs": []
        },
        {
            "cell_type": "code",
            "source": [
                "ws3.Query<DataNodeState>()"
            ],
            "metadata": {},
            "execution_count": 0,
            "outputs": []
        },
        {
            "cell_type": "markdown",
            "source": [
                "## Import Phase"
            ],
            "metadata": {},
            "execution_count": 0,
            "outputs": []
        },
        {
            "cell_type": "code",
            "source": [
                "var actuals = @\"",
                "\n@@Main,,,,,",
                "\nReportingNode,Year,Month,,,",
                "\nCH,2020,12,,,",
                "\n@@Actual,,,,,",
                "\nDataNode,AocType,AmountType,EstimateType,AccidentYear,Value",
                "\nDTR1.1,CF,PR,A,,90",
                "\nDTR1.1,CF,ICO,A,,-6",
                "\nDTR1.1,CF,NIC,A,,-70",
                "\nDTR1.1,CF,ACA,A,,-10",
                "\nDTR1.1,CF,AEA,A,,-5",
                "\nDTR1.3,CF,PR,A,,90",
                "\nDTR1.3,CF,ICO,A,,-6",
                "\nDTR1.3,CF,NIC,A,,-70",
                "\nDTR1.3,CF,ACA,A,,-10",
                "\nDTR1.3,CF,AEA,A,,-5\";",
                "\n",
                "\nvar openings = ",
                "\n@\"@@Main",
                "\nReportingNode,Year,Month,,",
                "\nCH,2021,3,,",
                "\n@@Opening",
                "\nDataNode,EstimateType,AmountType,AccidentYear,Value",
                "\nDT1.1,C,,,72.2",
                "\nDT1.1,AA,PR,,-1.5",
                "\nDT1.1,OA,PR,,1.5",
                "\n\";",
                "\n",
                "\nvar cashflows = @\"",
                "\n@@Main",
                "\nReportingNode,Year,Month,",
                "\nCH,2021,3,",
                "\n@@Cashflow",
                "\nDataNode,AmountType,EstimateType,AocType,Novelty,AccidentYear,Values0,Values1,Values2,Values3,Values4,Values5,Values6,Values7,Values8,Values9,Values10,Values11,Values12,Values13,Values14,Values15,Values16,Values17,Values18,Values19,Values20",
                "\nDTR1.1,PR,BE,MC,I,,0,-55,0,0,-55,0,0,-55,0,0,-55,0,0,0,0,0,0,0,0,0,0",
                "\nDTR1.1,NIC,BE,MC,I,,10,10,10,10,10,10,10,10,10,10,10,10,0,0,0,0,0,0,0,0,0",
                "\nDTR1.1,,CU,MC,I,,-5,-2.5,-2.5,-2.5,-2.5,-2.5,-2.5,-2.5,-2.5,-2.5,-2.5,-1.5,0,0,0,0,0,0,0,0,0",
                "\nDTR1.1,,RA,MC,I,,1,1,1,1,1,1,1,1,1,1,1,1,0,0,0,0,0,0,0,0,0",
                "\nDTR1.1,PR,BE,BOP,N,,0,-5,0,0,-5,0,0,-5,0,0,-5,0,0,0,0,0,0,0,0,0,0",
                "\nDTR1.1,NIC,BE,BOP,N,,2.5,2.5,2.5,2.5,2.5,2.5,2.5,2.5,2.5,2.5,2.5,2.5,0,0,0,0,0,0,0,0,0",
                "\nDTR1.1,,RA,BOP,N,,0.5,0.5,0.5,0.5,0.5,0.5,0.5,0.5,0.5,0.5,0.5,0.5,0,0,0,0,0,0,0,0,0",
                "\nDTR1.1,PR,BE,EV,N,,0,-2.5,0,0,-2.5,0,0,-2.5,0,0,-2.5,0,0,0,0,0,0,0,0,0,0",
                "\nDTR1.1,NIC,BE,EV,N,,5,5,5,5,5,5,5,5,5,5,5,5,0,0,0,0,0,0,0,0,0",
                "\nDTR1.1,,RA,EV,N,,0.25,0.25,0.25,0.25,0.25,0.25,0.25,0.25,0.25,0.25,0.25,0.25,0,0,0,0,0,0,0,0,0",
                "\nDTR1.1,PR,BE,CL,C,,0,-57.5,0,0,-57.5,0,0,-57.5,0,0,-57.5,0,0,0,0,0,0,0,0,0,0",
                "\nDTR1.1,NIC,BE,CL,C,,15,15,15,15,15,15,15,15,15,15,15,15,0,0,0,0,0,0,0,0,0",
                "\nDTR1.1,,CU,CL,C,,-7.5,-3.5,-3.5,-3.5,-3.5,-3.5,-3.5,-3.5,-3.5,-3.5,-3.5,-2.5,0,0,0,0,0,0,0,0,0",
                "\nDTR1.1,,RA,CL,C,,1.25,1.25,1.25,1.25,1.25,1.25,1.25,1.25,1.25,1.25,1.25,1.25,0,0,0,0,0,0,0,0,0\";"
            ],
            "metadata": {},
            "execution_count": 0,
            "outputs": []
        },
        {
            "cell_type": "code",
            "source": [
                "await Import.FromString(actuals).WithFormat(ImportFormats.Actual).WithTarget(ws3).ExecuteAsync()"
            ],
            "metadata": {},
            "execution_count": 0,
            "outputs": []
        },
        {
            "cell_type": "code",
            "source": [
                "await Import.FromString(openings).WithFormat(ImportFormats.Opening).WithTarget(ws3).ExecuteAsync()"
            ],
            "metadata": {},
            "execution_count": 0,
            "outputs": []
        },
        {
            "cell_type": "code",
            "source": [
                "await Import.FromString(cashflows).WithFormat(ImportFormats.Cashflow).WithTarget(ws3).ExecuteAsync()"
            ],
            "metadata": {},
            "execution_count": 0,
            "outputs": []
        },
        {
            "cell_type": "code",
            "source": [
                "var caseIIIQueries = new { ",
                "\n    IfrsVariables = ws3.Query<IfrsVariable>(), ",
                "\n    RawVariables = ws3.Query<RawVariable>()",
                "\n};"
            ],
            "metadata": {},
            "execution_count": 0,
            "outputs": []
        },
        {
            "cell_type": "markdown",
            "source": [
                "## Reimport Phase"
            ],
            "metadata": {},
            "execution_count": 0,
            "outputs": []
        },
        {
            "cell_type": "markdown",
            "source": [
                "## Assertions"
            ],
            "metadata": {},
            "execution_count": 0,
            "outputs": []
        },
        {
            "cell_type": "code",
            "source": [
                "// var openingFormat = ImportFormats.Opening;",
                "\n// var cashflowFormat = ImportFormats.Cashflow;",
                "\n// var activity = await ReimportAndCompare(new[]{(openings, openingFormat), (cashflowFormat, cashflows)}, new[] {dt11State, dtr11StatePrevious, dtr11State});",
                "\n// activity"
            ],
            "metadata": {},
            "execution_count": 0,
            "outputs": []
        },
        {
            "cell_type": "code",
            "source": [
                "// activity.Status.Should().Be(ActivityLogStatus.Succeeded);"
            ],
            "metadata": {},
            "execution_count": 0,
            "outputs": []
        },
        {
            "cell_type": "code",
            "source": [
                "DataSource.Query<IfrsVariable>().Count()"
            ],
            "metadata": {},
            "execution_count": 0,
            "outputs": []
        },
        {
            "cell_type": "code",
            "source": [
                ""
            ],
            "metadata": {},
            "execution_count": 0,
            "outputs": []
        }
    ]
}