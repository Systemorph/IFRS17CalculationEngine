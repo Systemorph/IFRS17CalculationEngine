{
    "metadata": {
        "authors": [],
        "id": "VOS67A7-B0Omk1s4TFC3LQ",
        "kernelspec": {
            "display_name": "Formula Framework",
            "language": "C#",
            "name": "C#"
        },
        "language_info": {
            "file_extension": ".cs",
            "mimetype": "text/plain",
            "name": "C#"
        }
    },
    "nbformat": 4,
    "nbformat_minor": 8,
    "cells": [
        {
            "cell_type": "markdown",
            "source": [
                "<p style=\"font-weight:bold;\"> <span style=\"font-size: 36px\"> Reimport of Transactional Data Test</span> </p>"
            ],
            "metadata": {},
            "execution_count": 0,
            "outputs": []
        },
        {
            "cell_type": "code",
            "source": [
                "#!eval-notebook \"../Initialization/InitSystemorphBaseToMemory\""
            ],
            "metadata": {},
            "execution_count": 0,
            "outputs": []
        },
        {
            "cell_type": "markdown",
            "source": [
                "#  Definitions"
            ],
            "metadata": {},
            "execution_count": 0,
            "outputs": []
        },
        {
            "cell_type": "markdown",
            "source": [
                "## Args"
            ],
            "metadata": {},
            "execution_count": 0,
            "outputs": []
        },
        {
            "cell_type": "code",
            "source": [
                "var args = new ImportArgs(\"CH\", 2021, 3, Periodicity.Quarterly, null, ImportFormats.Actual);",
                "\nvar previousArgs = new ImportArgs(\"CH\", 2020, 12, Periodicity.Quarterly, null, ImportFormats.Actual);",
                "\n",
                "\nvar partitionReportingNode = new PartitionByReportingNode { Id = (Guid)(await DataSource.Partition.GetKeyForInstanceAsync<PartitionByReportingNode>(args)), ReportingNode = args.ReportingNode };",
                "\n",
                "\nvar reimportTrials = 5;"
            ],
            "metadata": {},
            "execution_count": 0,
            "outputs": []
        },
        {
            "cell_type": "markdown",
            "source": [
                "## DataNodeState"
            ],
            "metadata": {},
            "execution_count": 0,
            "outputs": []
        },
        {
            "cell_type": "code",
            "source": [
                "var dt11StatePrevious = new DataNodeState {",
                "\n            DataNode = \"DT1.1\",",
                "\n            State = State.Active,",
                "\n            Year = previousArgs.Year,",
                "\n            Month = previousArgs.Month,",
                "\n            Partition = partitionReportingNode.Id",
                "\n        };",
                "\n",
                "\nvar dtr11StatePrevious = new DataNodeState {",
                "\n            DataNode = \"DTR1.1\",",
                "\n            State = State.Active,",
                "\n            Year = previousArgs.Year,",
                "\n            Month = previousArgs.Month,",
                "\n            Partition = partitionReportingNode.Id",
                "\n        };",
                "\n",
                "\nvar dt11State = new DataNodeState {",
                "\n            DataNode = \"DT1.1\",",
                "\n            State = State.Active,",
                "\n            Year = args.Year,",
                "\n            Month = args.Month,",
                "\n            Partition = partitionReportingNode.Id",
                "\n        };",
                "\n",
                "\nvar dtr11State = new DataNodeState {",
                "\n            DataNode = \"DTR1.1\",",
                "\n            State = State.Active,",
                "\n            Year = args.Year,",
                "\n            Month = args.Month,",
                "\n            Partition = partitionReportingNode.Id",
                "\n        };",
                "\n",
                "\nvar dtr13StatePrevious = new DataNodeState {",
                "\n            DataNode = \"DTR1.3\",",
                "\n            State = State.Active,",
                "\n            Year = previousArgs.Year,",
                "\n            Month = previousArgs.Month,",
                "\n            Partition = partitionReportingNode.Id",
                "\n        };",
                "\n",
                "\nvar dt13State = new DataNodeState {",
                "\n            DataNode = \"DT1.3\",",
                "\n            State = State.Active,",
                "\n            Year = args.Year,",
                "\n            Month = args.Month,",
                "\n            Partition = partitionReportingNode.Id",
                "\n        };",
                "\n",
                "\nvar dtr13State = new DataNodeState {",
                "\n            DataNode = \"DTR1.3\",",
                "\n            State = State.Active,",
                "\n            Year = args.Year,",
                "\n            Month = args.Month,",
                "\n            Partition = partitionReportingNode.Id",
                "\n        };",
                "\n",
                "\nvar dt14State = new DataNodeState {",
                "\n            DataNode = \"DT1.4\",",
                "\n            State = State.Active,",
                "\n            Year = args.Year,",
                "\n            Month = args.Month,",
                "\n            Partition = partitionReportingNode.Id",
                "\n        };",
                "\n",
                "\nvar dtr14State = new DataNodeState {",
                "\n            DataNode = \"DTR1.4\",",
                "\n            State = State.Active,",
                "\n            Year = args.Year,",
                "\n            Month = args.Month,",
                "\n            Partition = partitionReportingNode.Id",
                "\n        };"
            ],
            "metadata": {},
            "execution_count": 0,
            "outputs": []
        },
        {
            "cell_type": "markdown",
            "source": [
                "# Case I: Reimport Openings for DataNode at Inception"
            ],
            "metadata": {},
            "execution_count": 0,
            "outputs": []
        },
        {
            "cell_type": "markdown",
            "source": [
                "## Disposable Workspace"
            ],
            "metadata": {},
            "execution_count": 0,
            "outputs": []
        },
        {
            "cell_type": "code",
            "source": [
                "var ws1 = Workspace.CreateNew();",
                "\nws1.Initialize(x=>x.FromSource(DataSource).DisableInitialization<DataNodeState>());",
                "\nawait ws1.UpdateAsync<DataNodeState>(new DataNodeState [] { //dt11StatePrevious with {State = State.Inactive},",
                "\n                                                            //dtr11StatePrevious with {State = State.Inactive},",
                "\n                                                            dt11State,",
                "\n                                                            dtr11State,",
                "\n                                                            // dtr13StatePrevious with {State = State.Inactive},",
                "\n                                                            // dt13State with {State = State.Inactive},",
                "\n                                                            // dtr13State with {State = State.Inactive},",
                "\n                                                            // dt14State with {State = State.Inactive},",
                "\n                                                            // dtr14State with {State = State.Inactive}",
                "\n                                                          }",
                "\n                                    );"
            ],
            "metadata": {},
            "execution_count": 0,
            "outputs": []
        },
        {
            "cell_type": "code",
            "source": [
                "var openings = @\"",
                "\n@@Main,,,,",
                "\nReportingNode,Year,Month,,",
                "\nCH,2021,3,,",
                "\n@@Opening,,,,",
                "\nDataNode,EstimateType,AmountType,AccidentYear,Value",
                "\nDT1.1,C,,,72.2",
                "\nDT1.1,AA,PR,,-1.5",
                "\nDT1.1,OA,PR,,1.5",
                "\n\";"
            ],
            "metadata": {},
            "execution_count": 0,
            "outputs": []
        },
        {
            "cell_type": "markdown",
            "source": [
                "## Import Phase"
            ],
            "metadata": {},
            "execution_count": 0,
            "outputs": []
        },
        {
            "cell_type": "code",
            "source": [
                "await Import.FromString(openings).WithFormat(ImportFormats.Opening).WithTarget(ws1).ExecuteAsync()"
            ],
            "metadata": {},
            "execution_count": 0,
            "outputs": []
        },
        {
            "cell_type": "code",
            "source": [
                "var caseIQueries = new { ",
                "\n    IfrsVariables = ws1.Query<IfrsVariable>(), ",
                "\n    RawVariables = ws1.Query<RawVariable>()",
                "\n};"
            ],
            "metadata": {},
            "execution_count": 0,
            "outputs": []
        },
        {
            "cell_type": "markdown",
            "source": [
                "## Reimport Phase"
            ],
            "metadata": {},
            "execution_count": 0,
            "outputs": []
        },
        {
            "cell_type": "code",
            "source": [
                "for (int i=0; i < reimportTrials; i++)",
                "\n{",
                "\n    await Import.FromString(openings).WithFormat(ImportFormats.Opening).WithTarget(ws1).ExecuteAsync();",
                "\n}",
                "\n",
                "\nvar caseIQueriesReimported = new { ",
                "\n    IfrsVariables = ws1.Query<IfrsVariable>(), ",
                "\n    RawVariables = ws1.Query<RawVariable>()",
                "\n};"
            ],
            "metadata": {},
            "execution_count": 0,
            "outputs": []
        },
        {
            "cell_type": "markdown",
            "source": [
                "## Assertions"
            ],
            "metadata": {},
            "execution_count": 0,
            "outputs": []
        },
        {
            "cell_type": "code",
            "source": [
                "(   !caseIQueries.IfrsVariables.Except(caseIQueriesReimported.IfrsVariables, IfrsVariableComparer.Instance(ignoreValue: false)).Any() && ",
                "\n    !caseIQueriesReimported.IfrsVariables.Except(caseIQueries.IfrsVariables, IfrsVariableComparer.Instance(ignoreValue: false)).Any()  ).Should().Be(true);"
            ],
            "metadata": {},
            "execution_count": 0,
            "outputs": []
        },
        {
            "cell_type": "code",
            "source": [
                "(   !caseIQueries.RawVariables.Except(caseIQueriesReimported.RawVariables, RawVariableComparer.Instance(ignoreValues: false)).Any() && ",
                "\n    !caseIQueriesReimported.RawVariables.Except(caseIQueries.RawVariables, RawVariableComparer.Instance(ignoreValues: false)).Any()  ).Should().Be(true);"
            ],
            "metadata": {},
            "execution_count": 0,
            "outputs": []
        },
        {
            "cell_type": "markdown",
            "source": [
                "# Case II:  Reimport Actuals for DataNode at Inception and One Not at Inception"
            ],
            "metadata": {},
            "execution_count": 0,
            "outputs": []
        },
        {
            "cell_type": "markdown",
            "source": [
                "## Disposable Workspace"
            ],
            "metadata": {},
            "execution_count": 0,
            "outputs": []
        },
        {
            "cell_type": "code",
            "source": [
                "var ws2 = Workspace.CreateNew();",
                "\nws2.Initialize(x=>x.FromSource(DataSource).DisableInitialization<DataNodeState>());",
                "\nawait ws2.UpdateAsync<DataNodeState>(new DataNodeState [] { // dt11StatePrevious with {State = State.Inactive},",
                "\n                                                            // dtr11StatePrevious with {State = State.Inactive},",
                "\n                                                            dt11State,",
                "\n                                                            dtr11State,",
                "\n                                                            // dtr13StatePrevious with {State = State.Inactive},",
                "\n                                                            dt13State,",
                "\n                                                            // dtr13State with {State = State.Inactive},",
                "\n                                                            // dt14State with {State = State.Inactive},",
                "\n                                                            // dtr14State with {State = State.Inactive} ",
                "\n                                                          }",
                "\n                                    );"
            ],
            "metadata": {},
            "execution_count": 0,
            "outputs": []
        },
        {
            "cell_type": "code",
            "source": [
                "var actuals = @\"",
                "\n@@Main,,,,,",
                "\nReportingNode,Year,Month,,,",
                "\nCH,2021,3,,,",
                "\n@@Actual,,,,,",
                "\nDataNode,AocType,AmountType,EstimateType,AccidentYear,Value",
                "\nDT1.1,CF,PR,A,,90",
                "\nDT1.1,CF,ICO,A,,-6",
                "\nDT1.1,CF,NIC,A,,-70",
                "\nDT1.1,CF,ACA,A,,-10",
                "\nDT1.1,CF,AEA,A,,-5",
                "\nDT1.3,CF,PR,A,,90",
                "\nDT1.3,CF,ICO,A,,-6",
                "\nDT1.3,CF,NIC,A,,-70",
                "\nDT1.3,CF,ACA,A,,-10",
                "\nDT1.3,CF,AEA,A,,-5\";"
            ],
            "metadata": {},
            "execution_count": 0,
            "outputs": []
        },
        {
            "cell_type": "markdown",
            "source": [
                "## Import Phase"
            ],
            "metadata": {},
            "execution_count": 0,
            "outputs": []
        },
        {
            "cell_type": "code",
            "source": [
                "await Import.FromString(actuals).WithFormat(ImportFormats.Actual).WithTarget(ws2).ExecuteAsync()"
            ],
            "metadata": {},
            "execution_count": 0,
            "outputs": []
        },
        {
            "cell_type": "code",
            "source": [
                "var caseIIQueries = new { ",
                "\n    IfrsVariables = ws2.Query<IfrsVariable>(), ",
                "\n    RawVariables = ws2.Query<RawVariable>()",
                "\n};"
            ],
            "metadata": {},
            "execution_count": 0,
            "outputs": []
        },
        {
            "cell_type": "markdown",
            "source": [
                "##  Reimport Phase"
            ],
            "metadata": {},
            "execution_count": 0,
            "outputs": []
        },
        {
            "cell_type": "code",
            "source": [
                "for (int i=0; i < reimportTrials; i++)",
                "\n{",
                "\n    await Import.FromString(actuals).WithFormat(ImportFormats.Actual).WithTarget(ws2).ExecuteAsync();",
                "\n}",
                "\n",
                "\nvar caseIIQueriesReimported = new { ",
                "\n    IfrsVariables = ws2.Query<IfrsVariable>(), ",
                "\n    RawVariables = ws2.Query<RawVariable>()",
                "\n};"
            ],
            "metadata": {},
            "execution_count": 0,
            "outputs": []
        },
        {
            "cell_type": "markdown",
            "source": [
                "## Assertions"
            ],
            "metadata": {},
            "execution_count": 0,
            "outputs": []
        },
        {
            "cell_type": "code",
            "source": [
                "(   !caseIIQueries.IfrsVariables.Except(caseIIQueriesReimported.IfrsVariables, IfrsVariableComparer.Instance(ignoreValue: false)).Any() && ",
                "\n    !caseIIQueriesReimported.IfrsVariables.Except(caseIIQueries.IfrsVariables, IfrsVariableComparer.Instance(ignoreValue: false)).Any()  ).Should().Be(true);"
            ],
            "metadata": {},
            "execution_count": 0,
            "outputs": []
        },
        {
            "cell_type": "code",
            "source": [
                "(   !caseIIQueries.RawVariables.Except(caseIIQueriesReimported.RawVariables, RawVariableComparer.Instance(ignoreValues: false)).Any() && ",
                "\n    !caseIIQueriesReimported.RawVariables.Except(caseIIQueries.RawVariables, RawVariableComparer.Instance(ignoreValues: false)).Any()  ).Should().Be(true);"
            ],
            "metadata": {},
            "execution_count": 0,
            "outputs": []
        },
        {
            "cell_type": "markdown",
            "source": [
                "# Case III: Openings for Insurance at Inception and Cashflows for Linked Preexisitng Reinsurance Not at Inception"
            ],
            "metadata": {},
            "execution_count": 0,
            "outputs": []
        },
        {
            "cell_type": "markdown",
            "source": [
                "## Disposable Workspace"
            ],
            "metadata": {},
            "execution_count": 0,
            "outputs": []
        },
        {
            "cell_type": "code",
            "source": [
                "var ws3 = Workspace.CreateNew();",
                "\nws3.Initialize(x=>x.FromSource(DataSource).DisableInitialization<DataNodeState>());",
                "\nawait ws3.UpdateAsync<DataNodeState>(new DataNodeState [] { // dt11StatePrevious with {State = State.Inactive},",
                "\n                                                            // dtr11StatePrevious with {State = State.Inactive},",
                "\n                                                            // dt11State with {State = State.Inactive},",
                "\n                                                            // dtr11State with {State = State.Inactive},",
                "\n                                                            dtr13StatePrevious,",
                "\n                                                            // dt13State with {State = State.Inactive},",
                "\n                                                            // dtr13State with {State = State.Inactive},",
                "\n                                                            dt14State,",
                "\n                                                            // dtr14State with {State = State.Inactive}",
                "\n                                                          }",
                "\n                                    );"
            ],
            "metadata": {},
            "execution_count": 0,
            "outputs": []
        },
        {
            "cell_type": "code",
            "source": [
                "var actuals = @\"",
                "\n@@Main,,,,,",
                "\nReportingNode,Year,Month,,,",
                "\nCH,2021,3,,,",
                "\n@@Actual,,,,,",
                "\nDataNode,AocType,AmountType,EstimateType,AccidentYear,Value",
                "\nDT1.4,CF,PR,A,,90",
                "\nDT1.4,CF,ICO,A,,-6",
                "\nDT1.4,CF,NIC,A,,-70",
                "\nDT1.4,CF,ACA,A,,-10",
                "\nDT1.4,CF,AEA,A,,-5\";",
                "\n",
                "\nvar openings = @\"",
                "\n@@Main",
                "\nReportingNode,Year,Month,,",
                "\nCH,2021,3,,",
                "\n@@Opening",
                "\nDataNode,EstimateType,AmountType,AccidentYear,Value",
                "\nDT1.4,C,,,72.2",
                "\nDT1.4,AA,PR,,-1.5",
                "\nDT1.4,OA,PR,,1.5\";",
                "\n",
                "\nvar cashflows = @\"",
                "\n@@Main,,,,,,,,,,,,,,,,,,,,,,,,,,,,,",
                "\nReportingNode,Year,Month,Scenario,,,,,,,,,,,,,,,,,,,,,,,,,,",
                "\nCH,2021,3,,,,,,,,,,,,,,,,,,,,,,,,,,,",
                "\n@@Cashflow,,,,,,,,,,,,,,,,,,,,,,,,,,,,,",
                "\nDataNode,AmountType,EstimateType,AocType,Novelty,AccidentYear,Values0,Values1,Values2,Values3,Values4,Values5,Values6,Values7,Values8,Values9,Values10,Values11,Values12,Values13,Values14,Values15,Values16,Values17,Values18,Values19,Values20,Values21,Values22,Values23",
                "\nDTR1.3,PR,BE,BOP,N,,100,0,0,100,0,0,100,0,0,100,0,0,0,100,0,0,100,0,0,100,0,0,100,0",
                "\nDTR1.3,NIC,BE,BOP,N,,-25,-25,-25,-25,-25,-25,-25,-25,-25,-25,-25,-25,-25,-25,-25,-25,-25,-25,-25,-25,-25,-25,-25,-25",
                "\nDTR1.3,,CU,BOP,N,,-10,-10,-10,-10,-10,-10,-10,-10,-10,-10,-10,-10,-10,-5,-5,-5,-5,-5,-5,-5,-5,-5,-5,-3",
                "\nDTR1.3,,RA,BOP,N,,-2.5,-2.5,-2.5,-2.5,-2.5,-2.5,-2.5,-2.5,-2.5,-2.5,-2.5,-2.5,-2.5,-2.5,-2.5,-2.5,-2.5,-2.5,-2.5,-2.5,-2.5,-2.5,-2.5,-2.5",
                "\nDTR1.3,PR,BE,CL,C,,100,0,0,100,0,0,100,0,0,100,0,0,0,100,0,0,100,0,0,100,0,0,100,0",
                "\nDTR1.3,NIC,BE,CL,C,,-25,-25,-25,-25,-25,-25,-25,-25,-25,-25,-25,-25,-25,-25,-25,-25,-25,-25,-25,-25,-25,-25,-25,-25",
                "\nDTR1.3,,CU,CL,C,,-10,-10,-10,-10,-10,-10,-10,-10,-10,-10,-10,-10,-10,-5,-5,-5,-5,-5,-5,-5,-5,-5,-5,-3",
                "\nDTR1.3,,RA,CL,C,,-2.5,-2.5,-2.5,-2.5,-2.5,-2.5,-2.5,-2.5,-2.5,-2.5,-2.5,-2.5,-2.5,-2.5,-2.5,-2.5,-2.5,-2.5,-2.5,-2.5,-2.5,-2.5,-2.5,-2.5",
                "\n\";"
            ],
            "metadata": {},
            "execution_count": 0,
            "outputs": []
        },
        {
            "cell_type": "markdown",
            "source": [
                "## Import Sequence Phase"
            ],
            "metadata": {},
            "execution_count": 0,
            "outputs": []
        },
        {
            "cell_type": "code",
            "source": [
                "var ws31 = Workspace.CreateNew();",
                "\nws31.Initialize(x=>x.FromSource(ws3));",
                "\nawait Import.FromString(actuals).WithFormat(ImportFormats.Actual).WithTarget(ws31).ExecuteAsync();",
                "\nawait Import.FromString(actuals).WithFormat(ImportFormats.Actual).WithTarget(ws3).ExecuteAsync()"
            ],
            "metadata": {},
            "execution_count": 0,
            "outputs": []
        },
        {
            "cell_type": "code",
            "source": [
                "var caseIIIQuery1= new { ",
                "\n    IfrsVariables = ws31.Query<IfrsVariable>(), ",
                "\n    RawVariables = ws31.Query<RawVariable>()",
                "\n};"
            ],
            "metadata": {},
            "execution_count": 0,
            "outputs": []
        },
        {
            "cell_type": "code",
            "source": [
                "var ws32 = Workspace.CreateNew();",
                "\nws32.Initialize(x=>x.FromSource(ws3).DisableInitialization<IfrsVariable>().DisableInitialization<RawVariable>());",
                "\nawait Import.FromString(openings).WithFormat(ImportFormats.Opening).WithTarget(ws32).ExecuteAsync();",
                "\nawait Import.FromString(openings).WithFormat(ImportFormats.Opening).WithTarget(ws3).ExecuteAsync()"
            ],
            "metadata": {},
            "execution_count": 0,
            "outputs": []
        },
        {
            "cell_type": "code",
            "source": [
                "var caseIIIQuery2 = new { ",
                "\n    IfrsVariables = ws32.Query<IfrsVariable>(), ",
                "\n    RawVariables = ws32.Query<RawVariable>()",
                "\n};"
            ],
            "metadata": {},
            "execution_count": 0,
            "outputs": []
        },
        {
            "cell_type": "code",
            "source": [
                "var ws33 = Workspace.CreateNew();",
                "\nws33.Initialize(x=>x.FromSource(ws3).DisableInitialization<IfrsVariable>().DisableInitialization<RawVariable>());",
                "\nawait Import.FromString(cashflows).WithFormat(ImportFormats.Cashflow).WithTarget(ws33).ExecuteAsync();",
                "\nawait Import.FromString(cashflows).WithFormat(ImportFormats.Cashflow).WithTarget(ws3).ExecuteAsync()"
            ],
            "metadata": {},
            "execution_count": 0,
            "outputs": []
        },
        {
            "cell_type": "code",
            "source": [
                "var caseIIIQuery3 = new { ",
                "\n    IfrsVariables = ws33.Query<IfrsVariable>(), ",
                "\n    RawVariables = ws33.Query<RawVariable>()",
                "\n};"
            ],
            "metadata": {},
            "execution_count": 0,
            "outputs": []
        },
        {
            "cell_type": "code",
            "source": [
                "var caseIIIQueries = new { ",
                "\n    IfrsVariables = ws3.Query<IfrsVariable>(), ",
                "\n    RawVariables = ws3.Query<RawVariable>()",
                "\n};"
            ],
            "metadata": {},
            "execution_count": 0,
            "outputs": []
        },
        {
            "cell_type": "markdown",
            "source": [
                "## Assertions"
            ],
            "metadata": {},
            "execution_count": 0,
            "outputs": []
        },
        {
            "cell_type": "markdown",
            "source": [
                "<HR>",
                "\n/NOTES ",
                "\n",
                "\nEXCEPT(... , **Raw**VariableComparer.Instance(ignoreValue**s**: false) and ",
                "\nEXCEPT(... , *Ifrs*VariableComparer.Instance(ignoreValue: false))",
                "\n",
                "\ncan be used to compare two queries from the workspace."
            ],
            "metadata": {},
            "execution_count": 0,
            "outputs": []
        },
        {
            "cell_type": "code",
            "source": [
                "caseIIIQueries.IfrsVariables.Except(",
                "\n                                        caseIIIQuery1.IfrsVariables.Union(caseIIIQuery2.IfrsVariables",
                "\n                                                                   .Union(caseIIIQuery3.IfrsVariables))",
                "\n                                        , IfrsVariableComparer.Instance(ignoreValue: false))"
            ],
            "metadata": {},
            "execution_count": 0,
            "outputs": []
        },
        {
            "cell_type": "code",
            "source": [
                "caseIIIQueries.RawVariables.Except(",
                "\n                                        caseIIIQuery1.RawVariables.Union(caseIIIQuery2.RawVariables",
                "\n                                                                  .Union(caseIIIQuery3.RawVariables)), RawVariableComparer.Instance(ignoreValues: false)",
                "\n                                        )"
            ],
            "metadata": {},
            "execution_count": 0,
            "outputs": []
        },
        {
            "cell_type": "code",
            "source": [
                "// caseIIIQueries.RawVariables.SequenceEqual(caseIIIQuery1.RawVariables.Union(caseIIIQuery2.RawVariables.Union(caseIIIQuery3.RawVariables)))"
            ],
            "metadata": {},
            "execution_count": 0,
            "outputs": []
        },
        {
            "cell_type": "markdown",
            "source": [
                "The assertion below shouldn't fail..."
            ],
            "metadata": {},
            "execution_count": 0,
            "outputs": []
        },
        {
            "cell_type": "markdown",
            "source": [
                "NOTES/",
                "\n<HR>"
            ],
            "metadata": {},
            "execution_count": 0,
            "outputs": []
        },
        {
            "cell_type": "code",
            "source": [
                "(   !caseIIIQueries.IfrsVariables.Except(",
                "\n                                        caseIIIQuery1.IfrsVariables.Union(caseIIIQuery2.IfrsVariables",
                "\n                                                                   .Union(caseIIIQuery3.IfrsVariables)),",
                "\n                                        IfrsVariableComparer.Instance(ignoreValue: false)",
                "\n                                        ).Any() && ",
                "\n    !caseIIIQueries.RawVariables.Except(",
                "\n                                        caseIIIQuery1.RawVariables.Union(caseIIIQuery2.RawVariables",
                "\n                                                                  .Union(caseIIIQuery3.RawVariables)),",
                "\n                                        RawVariableComparer.Instance(ignoreValues: false)",
                "\n                                        ).Any()",
                "\n).Should().Be(true);"
            ],
            "metadata": {},
            "execution_count": 0,
            "outputs": []
        },
        {
            "cell_type": "markdown",
            "source": [
                "# Case V: Reimport Modified Openings with CSM Deletion and LC Addition for the Same DataNode"
            ],
            "metadata": {},
            "execution_count": 0,
            "outputs": []
        },
        {
            "cell_type": "markdown",
            "source": [
                "## Disposable Workspace"
            ],
            "metadata": {},
            "execution_count": 0,
            "outputs": []
        },
        {
            "cell_type": "code",
            "source": [
                "var ws4 = Workspace.CreateNew();",
                "\nws4.Initialize(x=>x.FromSource(DataSource).DisableInitialization<DataNodeState>());",
                "\nawait ws4.UpdateAsync<DataNodeState>(new DataNodeState [] { //dt11StatePrevious with {State = State.Inactive},",
                "\n                                                            //dtr11StatePrevious with {State = State.Inactive},",
                "\n                                                            dt11State,",
                "\n                                                            dtr11State,",
                "\n                                                            // dtr13StatePrevious with {State = State.Inactive},",
                "\n                                                            // dt13State with {State = State.Inactive},",
                "\n                                                            // dtr13State with {State = State.Inactive},",
                "\n                                                            // dt14State with {State = State.Inactive},",
                "\n                                                            // dtr14State with {State = State.Inactive}",
                "\n                                                          }",
                "\n                                    );"
            ],
            "metadata": {},
            "execution_count": 0,
            "outputs": []
        },
        {
            "cell_type": "code",
            "source": [
                "var openings = @\"",
                "\n@@Main,,,,",
                "\nReportingNode,Year,Month,,",
                "\nCH,2021,3,,",
                "\n@@Opening,,,,",
                "\nDataNode,EstimateType,AmountType,AccidentYear,Value",
                "\nDT1.1,C,,,72.2",
                "\nDT1.1,AA,PR,,-1.5",
                "\nDT1.1,OA,PR,,1.5",
                "\n\";"
            ],
            "metadata": {},
            "execution_count": 0,
            "outputs": []
        },
        {
            "cell_type": "markdown",
            "source": [
                "## Import Sequence Phase"
            ],
            "metadata": {},
            "execution_count": 0,
            "outputs": []
        },
        {
            "cell_type": "code",
            "source": [
                "var ws41 = Workspace.CreateNew();",
                "\nws41.Initialize(x=>x.FromSource(ws4));",
                "\nawait Import.FromString(openings).WithFormat(ImportFormats.Opening).WithTarget(ws41).ExecuteAsync();",
                "\nawait Import.FromString(openings).WithFormat(ImportFormats.Opening).WithTarget(ws4).ExecuteAsync()"
            ],
            "metadata": {},
            "execution_count": 0,
            "outputs": []
        },
        {
            "cell_type": "code",
            "source": [
                "var caseVQuery1 = new { ",
                "\n    IfrsVariables = ws41.Query<IfrsVariable>(), ",
                "\n    RawVariables = ws41.Query<RawVariable>()",
                "\n};"
            ],
            "metadata": {},
            "execution_count": 0,
            "outputs": []
        },
        {
            "cell_type": "code",
            "source": [
                "var openings = @\"",
                "\n@@Main,,,,",
                "\nReportingNode,Year,Month,,",
                "\nCH,2021,3,,",
                "\n@@Opening,,,,",
                "\nDataNode,EstimateType,AmountType,AccidentYear,Value",
                "\nDT1.1,L,,,72.2",
                "\nDT1.1,AA,PR,,-1.5",
                "\nDT1.1,OA,PR,,1.5",
                "\n\";"
            ],
            "metadata": {},
            "execution_count": 0,
            "outputs": []
        },
        {
            "cell_type": "code",
            "source": [
                "var ws42 = Workspace.CreateNew();",
                "\nws42.Initialize(x=>x.FromSource(ws4).DisableInitialization<IfrsVariable>().DisableInitialization<RawVariable>());",
                "\nawait Import.FromString(openings).WithFormat(ImportFormats.Opening).WithTarget(ws42).ExecuteAsync();",
                "\nawait Import.FromString(openings).WithFormat(ImportFormats.Opening).WithTarget(ws4).ExecuteAsync()"
            ],
            "metadata": {},
            "execution_count": 0,
            "outputs": []
        },
        {
            "cell_type": "code",
            "source": [
                "var caseVQuery2 = new { ",
                "\n    IfrsVariables = ws42.Query<IfrsVariable>(), ",
                "\n    RawVariables = ws42.Query<RawVariable>()",
                "\n};"
            ],
            "metadata": {},
            "execution_count": 0,
            "outputs": []
        },
        {
            "cell_type": "code",
            "source": [
                "var caseVQueries = new { ",
                "\n    IfrsVariables = ws4.Query<IfrsVariable>(), ",
                "\n    RawVariables = ws4.Query<RawVariable>()",
                "\n};"
            ],
            "metadata": {},
            "execution_count": 0,
            "outputs": []
        },
        {
            "cell_type": "markdown",
            "source": [
                "## Assertions"
            ],
            "metadata": {},
            "execution_count": 0,
            "outputs": []
        },
        {
            "cell_type": "code",
            "source": [
                "(   !caseVQueries.IfrsVariables.Except(",
                "\n                                        caseVQuery1.IfrsVariables.Union(caseVQuery2.IfrsVariables),",
                "\n                                        IfrsVariableComparer.Instance(ignoreValue: false)",
                "\n                                      ).Any() && ",
                "\n    !caseVQueries.RawVariables.Except(",
                "\n                                        caseVQuery1.RawVariables.Union(caseVQuery2.RawVariables),",
                "\n                                        RawVariableComparer.Instance(ignoreValues: false)",
                "\n                                     ).Any()",
                "\n).Should().Be(true);"
            ],
            "metadata": {},
            "execution_count": 0,
            "outputs": []
        },
        {
            "cell_type": "code",
            "source": [
                ""
            ],
            "metadata": {},
            "execution_count": 0,
            "outputs": []
        }
    ]
}