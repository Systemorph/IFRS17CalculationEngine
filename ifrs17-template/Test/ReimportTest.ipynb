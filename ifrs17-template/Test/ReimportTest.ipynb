{
    "metadata": {
        "authors": [],
        "id": "VOS67A7-B0Omk1s4TFC3LQ",
        "kernelspec": {
            "display_name": "Formula Framework",
            "language": "C#",
            "name": "C#"
        },
        "language_info": {
            "file_extension": ".cs",
            "mimetype": "text/plain",
            "name": "C#"
        }
    },
    "nbformat": 4,
    "nbformat_minor": 5,
    "cells": [
        {
            "cell_type": "markdown",
            "source": [
                "<p style=\"font-weight:bold;\"> <span style=\"font-size: 36px\"> Reimport of Transactional Data Test</span> </p>"
            ],
            "metadata": {},
            "execution_count": 0,
            "outputs": []
        },
        {
            "cell_type": "code",
            "source": [
                "#!eval-notebook \"../Initialization/InitSystemorphBaseToMemory\""
            ],
            "metadata": {},
            "execution_count": 0,
            "outputs": []
        },
        {
            "cell_type": "markdown",
            "source": [
                "#  Definitions"
            ],
            "metadata": {},
            "execution_count": 0,
            "outputs": []
        },
        {
            "cell_type": "markdown",
            "source": [
                "## Args"
            ],
            "metadata": {},
            "execution_count": 0,
            "outputs": []
        },
        {
            "cell_type": "markdown",
            "source": [
                "Create:",
                "\n- Import args for current year (2021)",
                "\n- Import args for previous year (2020)",
                "\n- Partition by Reporting Node (using details from most recent args)"
            ],
            "metadata": {},
            "execution_count": 0,
            "outputs": []
        },
        {
            "cell_type": "code",
            "source": [
                "var args = new ImportArgs(\"CH\", 2021, 3, Periodicity.Quarterly, null, null);",
                "\nvar previousArgs = new ImportArgs(\"CH\", 2020, 12, Periodicity.Quarterly, null, null);",
                "\n",
                "\nvar partitionByReportingNode = new PartitionByReportingNode { Id = (Guid)(await DataSource.Partition.GetKeyForInstanceAsync<PartitionByReportingNode>(args)), ReportingNode = args.ReportingNode };"
            ],
            "metadata": {},
            "execution_count": 0,
            "outputs": []
        },
        {
            "cell_type": "markdown",
            "source": [
                "## DataNodeParameter"
            ],
            "metadata": {},
            "execution_count": 0,
            "outputs": []
        },
        {
            "cell_type": "markdown",
            "source": [
                "Create 1 data node parameter"
            ],
            "metadata": {},
            "execution_count": 0,
            "outputs": []
        },
        {
            "cell_type": "code",
            "source": [
                "var dtr13IParameter = new InterDataNodeParameter{ Partition = partitionByReportingNode.Id, DataNode = \"DTR1.3\", Year = args.Year, Month = args.Month, LinkedDataNode = \"DT1.4\", ReinsuranceCoverage = 1d };"
            ],
            "metadata": {},
            "execution_count": 0,
            "outputs": []
        },
        {
            "cell_type": "markdown",
            "source": [
                "## DataNodeState"
            ],
            "metadata": {},
            "execution_count": 0,
            "outputs": []
        },
        {
            "cell_type": "markdown",
            "source": [
                "Create 7 data node states:",
                "\n- dt11StatePrevious",
                "\n- dtr11StatePrevious",
                "\n- dt11State",
                "\n- dtr11State",
                "\n- dtr13StatePrevious",
                "\n- dt13State",
                "\n- dt14State"
            ],
            "metadata": {},
            "execution_count": 0,
            "outputs": []
        },
        {
            "cell_type": "code",
            "source": [
                "var dt11StatePrevious = new DataNodeState { DataNode = \"DT1.1\", State = State.Active, Year = previousArgs.Year, Month = previousArgs.Month, Partition = partitionByReportingNode.Id };",
                "\n",
                "\nvar dtr11StatePrevious = new DataNodeState { DataNode = \"DTR1.1\", State = State.Active, Year = previousArgs.Year, Month = previousArgs.Month, Partition = partitionByReportingNode.Id };",
                "\n",
                "\nvar dt11State = new DataNodeState { DataNode = \"DT1.1\", State = State.Active, Year = args.Year, Month = args.Month, Partition = partitionByReportingNode.Id };",
                "\n",
                "\nvar dtr11State = new DataNodeState { DataNode = \"DTR1.1\", State = State.Active, Year = args.Year, Month = args.Month, Partition = partitionByReportingNode.Id };",
                "\n",
                "\nvar dtr13StatePrevious = new DataNodeState { DataNode = \"DTR1.3\", State = State.Active, Year = previousArgs.Year, Month = previousArgs.Month, Partition = partitionByReportingNode.Id };",
                "\n",
                "\nvar dt13State = new DataNodeState { DataNode = \"DT1.3\", State = State.Active, Year = args.Year, Month = args.Month, Partition = partitionByReportingNode.Id };",
                "\n",
                "\nvar dt14State = new DataNodeState { DataNode = \"DT1.4\", State = State.Active, Year = args.Year, Month = args.Month, Partition = partitionByReportingNode.Id };"
            ],
            "metadata": {},
            "execution_count": 0,
            "outputs": []
        },
        {
            "cell_type": "markdown",
            "source": [
                "# Reimport Openings for DataNode at Inception"
            ],
            "metadata": {},
            "execution_count": 0,
            "outputs": []
        },
        {
            "cell_type": "markdown",
            "source": [
                "Create openings for a data node at inception (DT1.1) and import more than once."
            ],
            "metadata": {},
            "execution_count": 0,
            "outputs": []
        },
        {
            "cell_type": "markdown",
            "source": [
                "## Disposable Workspace"
            ],
            "metadata": {},
            "execution_count": 0,
            "outputs": []
        },
        {
            "cell_type": "code",
            "source": [
                "var ws = Workspace.CreateNew();",
                "\nws.Initialize(x=>x.FromSource(DataSource).DisableInitialization<DataNodeState>());",
                "\n",
                "\nawait ws.UpdateAsync<DataNodeState>(new DataNodeState [] { dt11State, dtr11State });"
            ],
            "metadata": {},
            "execution_count": 0,
            "outputs": []
        },
        {
            "cell_type": "markdown",
            "source": [
                "## Import Phase"
            ],
            "metadata": {},
            "execution_count": 0,
            "outputs": []
        },
        {
            "cell_type": "code",
            "source": [
                "var openings = @\"",
                "\n@@Main,,,,",
                "\nReportingNode,Year,Month,,",
                "\nCH,2021,3,,",
                "\n@@Opening,,,,",
                "\nDataNode,EstimateType,AmountType,AccidentYear,Value",
                "\nDT1.1,C,,,72.2",
                "\nDT1.1,AA,PR,,-1.5",
                "\nDT1.1,OA,PR,,1.5",
                "\n\";"
            ],
            "metadata": {},
            "execution_count": 0,
            "outputs": []
        },
        {
            "cell_type": "code",
            "source": [
                "await Import.FromString(openings).WithFormat(ImportFormats.Opening).WithTarget(ws).ExecuteAsync()"
            ],
            "metadata": {},
            "execution_count": 0,
            "outputs": []
        },
        {
            "cell_type": "markdown",
            "source": [
                "Collect the IfrsVariable and RawVariable workspace queries after import."
            ],
            "metadata": {},
            "execution_count": 0,
            "outputs": []
        },
        {
            "cell_type": "code",
            "source": [
                "var importQueries = new { ",
                "\n    IfrsVariables = ws.Query<IfrsVariable>().ToArray(), ",
                "\n    RawVariables = ws.Query<RawVariable>().ToArray()",
                "\n};"
            ],
            "metadata": {},
            "execution_count": 0,
            "outputs": []
        },
        {
            "cell_type": "markdown",
            "source": [
                "## Reimport Phase"
            ],
            "metadata": {},
            "execution_count": 0,
            "outputs": []
        },
        {
            "cell_type": "code",
            "source": [
                "await Import.FromString(openings).WithFormat(ImportFormats.Opening).WithTarget(ws).ExecuteAsync()"
            ],
            "metadata": {},
            "execution_count": 0,
            "outputs": []
        },
        {
            "cell_type": "markdown",
            "source": [
                "Collect the IfrsVariable and RawVariable workspace queries after reimport."
            ],
            "metadata": {},
            "execution_count": 0,
            "outputs": []
        },
        {
            "cell_type": "code",
            "source": [
                "var reimportQueries = new { ",
                "\n    IfrsVariables = ws.Query<IfrsVariable>().ToArray(), ",
                "\n    RawVariables = ws.Query<RawVariable>().ToArray()",
                "\n};"
            ],
            "metadata": {},
            "execution_count": 0,
            "outputs": []
        },
        {
            "cell_type": "markdown",
            "source": [
                "## Assertions"
            ],
            "metadata": {},
            "execution_count": 0,
            "outputs": []
        },
        {
            "cell_type": "markdown",
            "source": [
                "Check for IfrsVariables"
            ],
            "metadata": {},
            "execution_count": 0,
            "outputs": []
        },
        {
            "cell_type": "code",
            "source": [
                "importQueries.IfrsVariables.Should().BeEquivalentTo(reimportQueries.IfrsVariables);"
            ],
            "metadata": {},
            "execution_count": 0,
            "outputs": []
        },
        {
            "cell_type": "code",
            "source": [
                "importQueries.IfrsVariables.Count().Should().Be(7);"
            ],
            "metadata": {},
            "execution_count": 0,
            "outputs": []
        },
        {
            "cell_type": "code",
            "source": [
                "reimportQueries.IfrsVariables.Count().Should().Be(7);"
            ],
            "metadata": {},
            "execution_count": 0,
            "outputs": []
        },
        {
            "cell_type": "markdown",
            "source": [
                "Check for RawVariables"
            ],
            "metadata": {},
            "execution_count": 0,
            "outputs": []
        },
        {
            "cell_type": "code",
            "source": [
                "importQueries.RawVariables.Count().Should().Be(0);"
            ],
            "metadata": {},
            "execution_count": 0,
            "outputs": []
        },
        {
            "cell_type": "code",
            "source": [
                "reimportQueries.RawVariables.Count().Should().Be(0);"
            ],
            "metadata": {},
            "execution_count": 0,
            "outputs": []
        },
        {
            "cell_type": "markdown",
            "source": [
                "# Reimport Actuals for Both: DataNode at Inception and DataNode and Not at Inception"
            ],
            "metadata": {},
            "execution_count": 0,
            "outputs": []
        },
        {
            "cell_type": "markdown",
            "source": [
                "Create an actuals file that contains data for both a data node at inception (DT1.3) and a data node not at inception (DT1.1). ",
                "\n",
                "\nImport this file more than once."
            ],
            "metadata": {},
            "execution_count": 0,
            "outputs": []
        },
        {
            "cell_type": "markdown",
            "source": [
                "## Disposable Workspace"
            ],
            "metadata": {},
            "execution_count": 0,
            "outputs": []
        },
        {
            "cell_type": "code",
            "source": [
                "var ws = Workspace.CreateNew();",
                "\nws.Initialize(x=>x.FromSource(DataSource).DisableInitialization<DataNodeState>());",
                "\n",
                "\nawait ws.UpdateAsync<DataNodeState>(new DataNodeState [] { dt11StatePrevious, dtr11StatePrevious, dt13State });"
            ],
            "metadata": {},
            "execution_count": 0,
            "outputs": []
        },
        {
            "cell_type": "markdown",
            "source": [
                "## Import Phase"
            ],
            "metadata": {},
            "execution_count": 0,
            "outputs": []
        },
        {
            "cell_type": "code",
            "source": [
                "var actuals = @\"",
                "\n@@Main,,,,,",
                "\nReportingNode,Year,Month,,,",
                "\nCH,2021,3,,,",
                "\n@@Actual,,,,,",
                "\nDataNode,AocType,AmountType,EstimateType,AccidentYear,Value",
                "\nDT1.1,CF,PR,A,,90",
                "\nDT1.1,CF,ICO,A,,-6",
                "\nDT1.1,CF,NIC,A,,-70",
                "\nDT1.1,CF,ACA,A,,-10",
                "\nDT1.1,CF,AEA,A,,-5",
                "\nDT1.3,CF,PR,A,,90",
                "\nDT1.3,CF,ICO,A,,-6",
                "\nDT1.3,CF,NIC,A,,-70",
                "\nDT1.3,CF,ACA,A,,-10",
                "\nDT1.3,CF,AEA,A,,-5\";"
            ],
            "metadata": {},
            "execution_count": 0,
            "outputs": []
        },
        {
            "cell_type": "code",
            "source": [
                "await Import.FromString(actuals).WithFormat(ImportFormats.Actual).WithTarget(ws).ExecuteAsync()"
            ],
            "metadata": {},
            "execution_count": 0,
            "outputs": []
        },
        {
            "cell_type": "markdown",
            "source": [
                "Collect the IfrsVariable and RawVariable workspace queries after import."
            ],
            "metadata": {},
            "execution_count": 0,
            "outputs": []
        },
        {
            "cell_type": "code",
            "source": [
                "var importQueries = new { ",
                "\n    IfrsVariables = ws.Query<IfrsVariable>().ToArray(), ",
                "\n    RawVariables = ws.Query<RawVariable>().ToArray()",
                "\n};"
            ],
            "metadata": {},
            "execution_count": 0,
            "outputs": []
        },
        {
            "cell_type": "markdown",
            "source": [
                "##  Reimport Phase"
            ],
            "metadata": {},
            "execution_count": 0,
            "outputs": []
        },
        {
            "cell_type": "code",
            "source": [
                "await Import.FromString(actuals).WithFormat(ImportFormats.Actual).WithTarget(ws).ExecuteAsync();"
            ],
            "metadata": {},
            "execution_count": 0,
            "outputs": []
        },
        {
            "cell_type": "markdown",
            "source": [
                "Collect the IfrsVariable and RawVariable workspace queries after reimport."
            ],
            "metadata": {},
            "execution_count": 0,
            "outputs": []
        },
        {
            "cell_type": "code",
            "source": [
                "var reimportQueries = new { ",
                "\n    IfrsVariables = ws.Query<IfrsVariable>().ToArray(), ",
                "\n    RawVariables = ws.Query<RawVariable>().ToArray()",
                "\n};"
            ],
            "metadata": {},
            "execution_count": 0,
            "outputs": []
        },
        {
            "cell_type": "markdown",
            "source": [
                "## Assertions"
            ],
            "metadata": {},
            "execution_count": 0,
            "outputs": []
        },
        {
            "cell_type": "markdown",
            "source": [
                "Check for IfrsVariables"
            ],
            "metadata": {},
            "execution_count": 0,
            "outputs": []
        },
        {
            "cell_type": "code",
            "source": [
                "importQueries.IfrsVariables.Should().BeEquivalentTo(reimportQueries.IfrsVariables);"
            ],
            "metadata": {},
            "execution_count": 0,
            "outputs": []
        },
        {
            "cell_type": "code",
            "source": [
                "importQueries.IfrsVariables.Count().Should().Be(20);"
            ],
            "metadata": {},
            "execution_count": 0,
            "outputs": []
        },
        {
            "cell_type": "code",
            "source": [
                "reimportQueries.IfrsVariables.Count().Should().Be(20);"
            ],
            "metadata": {},
            "execution_count": 0,
            "outputs": []
        },
        {
            "cell_type": "markdown",
            "source": [
                "Check for RawVariables"
            ],
            "metadata": {},
            "execution_count": 0,
            "outputs": []
        },
        {
            "cell_type": "code",
            "source": [
                "importQueries.RawVariables.Count().Should().Be(0);"
            ],
            "metadata": {},
            "execution_count": 0,
            "outputs": []
        },
        {
            "cell_type": "code",
            "source": [
                "reimportQueries.RawVariables.Count().Should().Be(0);"
            ],
            "metadata": {},
            "execution_count": 0,
            "outputs": []
        },
        {
            "cell_type": "markdown",
            "source": [
                "# Import Cashflows for Pre-exisitng Reinsurance, Openings for Linked Insurance and Cashflows for the Reinsurance"
            ],
            "metadata": {},
            "execution_count": 0,
            "outputs": []
        },
        {
            "cell_type": "markdown",
            "source": [
                "Consider one GRIC (DTR1.3) that is linked to one GIC (DT1.4). The GRIC already existed the previous year, while the GIC is at inception.",
                "\n- Import Cashflows for the GRIC in the previous period.",
                "\n- Import Openings for the GIC in the current period.",
                "\n- Import Cashflows for the GRIC in the current period."
            ],
            "metadata": {},
            "execution_count": 0,
            "outputs": []
        },
        {
            "cell_type": "markdown",
            "source": [
                "## Disposable Workspace"
            ],
            "metadata": {},
            "execution_count": 0,
            "outputs": []
        },
        {
            "cell_type": "code",
            "source": [
                "var ws = Workspace.CreateNew();",
                "\nws.Initialize(x=>x.FromSource(DataSource).DisableInitialization<DataNodeState>().DisableInitialization<DataNodeParameter>().DisableInitialization<InterDataNodeParameter>());",
                "\n",
                "\nawait ws.UpdateAsync<DataNodeState>(new DataNodeState [] { dtr13StatePrevious, dt14State });",
                "\nawait ws.UpdateAsync<InterDataNodeParameter>(new InterDataNodeParameter [] { dtr13IParameter });"
            ],
            "metadata": {},
            "execution_count": 0,
            "outputs": []
        },
        {
            "cell_type": "markdown",
            "source": [
                "## Import Sequence Phase"
            ],
            "metadata": {},
            "execution_count": 0,
            "outputs": []
        },
        {
            "cell_type": "markdown",
            "source": [
                "### Import Cashflows for the GRIC in the Previous Period"
            ],
            "metadata": {},
            "execution_count": 0,
            "outputs": []
        },
        {
            "cell_type": "code",
            "source": [
                "var cashflows = @\"",
                "\n@@Main,,,,,,,,,,,,,,,,,,,,,,,,,,,,,",
                "\nReportingNode,Year,Month,Scenario,,,,,,,,,,,,,,,,,,,,,,,,,,",
                "\nCH,2020,12,,,,,,,,,,,,,,,,,,,,,,,,,,,",
                "\n@@Cashflow,,,,,,,,,,,,,,,,,,,,,,,,,,,,,",
                "\nDataNode,AmountType,EstimateType,AocType,Novelty,AccidentYear,Values0,Values1,Values2,Values3,Values4,Values5,Values6,Values7,Values8,Values9,Values10,Values11,Values12,Values13,Values14,Values15,Values16,Values17,Values18,Values19,Values20,Values21,Values22,Values23",
                "\nDTR1.3,PR,BE,CL,C,,100,0,0,100,0,0,100,0,0,100,0,0,0,100,0,0,100,0,0,100,0,0,100,0\";"
            ],
            "metadata": {},
            "execution_count": 0,
            "outputs": []
        },
        {
            "cell_type": "code",
            "source": [
                "await Import.FromString(cashflows).WithFormat(ImportFormats.Cashflow).WithTarget(ws).ExecuteAsync()"
            ],
            "metadata": {},
            "execution_count": 0,
            "outputs": []
        },
        {
            "cell_type": "markdown",
            "source": [
                "### Assertions"
            ],
            "metadata": {},
            "execution_count": 0,
            "outputs": []
        },
        {
            "cell_type": "code",
            "source": [
                "ws.Query<RawVariable>().Where(x => (x.EstimateType == \"BE\" && x.AmountType == \"PR\" && x.AocType == \"CL\" && x.Novelty == \"C\")).Count().Should().Be(1);"
            ],
            "metadata": {},
            "execution_count": 0,
            "outputs": []
        },
        {
            "cell_type": "code",
            "source": [
                "ws.Query<RawVariable>().Count().Should().Be(1);"
            ],
            "metadata": {},
            "execution_count": 0,
            "outputs": []
        },
        {
            "cell_type": "code",
            "source": [
                "ws.Query<IfrsVariable>().Where(x => (x.EconomicBasis == \"L\" && x.EstimateType == \"BE\" && x.AocType == \"CL\" && x.DataNode == \"DTR1.3\" && x.Novelty == \"C\" && x.Values[0] == -399.63392949885525)).Count().Should().Be(1);"
            ],
            "metadata": {},
            "execution_count": 0,
            "outputs": []
        },
        {
            "cell_type": "code",
            "source": [
                "ws.Query<IfrsVariable>().Where(x => (x.EconomicBasis == \"C\" && x.EstimateType == \"BE\" && x.AocType == \"CL\" && x.DataNode == \"DTR1.3\" && x.Novelty == \"C\" && x.Values[0] == -399.63392949885525)).Count().Should().Be(1);"
            ],
            "metadata": {},
            "execution_count": 0,
            "outputs": []
        },
        {
            "cell_type": "code",
            "source": [
                "ws.Query<IfrsVariable>().Where(x => (x.EconomicBasis == \"N\" && x.EstimateType == \"BE\" && x.AocType == \"CL\" && x.DataNode == \"DTR1.3\" && x.Novelty == \"C\" && x.Values[0] == -400d)).Count().Should().Be(1);"
            ],
            "metadata": {},
            "execution_count": 0,
            "outputs": []
        },
        {
            "cell_type": "code",
            "source": [
                "ws.Query<IfrsVariable>().Where(x => (x.EstimateType == \"C\" && x.AocType == \"CL\" && x.DataNode == \"DTR1.3\" && x.Novelty == \"C\" && x.Values[0] == 399.63392949885525)).Count().Should().Be(1);"
            ],
            "metadata": {},
            "execution_count": 0,
            "outputs": []
        },
        {
            "cell_type": "code",
            "source": [
                "ws.Query<IfrsVariable>().Where(x => (x.EconomicBasis == \"L\" && x.EstimateType == \"F\" && x.AocType == \"AM\" && x.DataNode == \"DTR1.3\" && x.Novelty == \"C\" && x.Values[0] == 1d)).Count().Should().Be(1);"
            ],
            "metadata": {},
            "execution_count": 0,
            "outputs": []
        },
        {
            "cell_type": "code",
            "source": [
                "ws.Query<IfrsVariable>().Where(x => (x.EstimateType == \"C\" && x.AocType == \"AM\" && x.DataNode == \"DTR1.3\" && x.Novelty == \"C\" && x.Values[0] == -399.63392949885525)).Count().Should().Be(1);"
            ],
            "metadata": {},
            "execution_count": 0,
            "outputs": []
        },
        {
            "cell_type": "code",
            "source": [
                "ws.Query<IfrsVariable>().Where(x => (x.EconomicBasis == \"L\" && x.EstimateType == \"BE\" && x.AocType == \"EOP\" && x.DataNode == \"DTR1.3\" && x.Novelty == \"C\" && x.Values[0] == -399.63392949885525)).Count().Should().Be(1);"
            ],
            "metadata": {},
            "execution_count": 0,
            "outputs": []
        },
        {
            "cell_type": "code",
            "source": [
                "ws.Query<IfrsVariable>().Where(x => (x.EconomicBasis == \"C\" && x.EstimateType == \"BE\" && x.AocType == \"EOP\" && x.DataNode == \"DTR1.3\" && x.Novelty == \"C\" && x.Values[0] == -399.63392949885525)).Count().Should().Be(1);"
            ],
            "metadata": {},
            "execution_count": 0,
            "outputs": []
        },
        {
            "cell_type": "code",
            "source": [
                "ws.Query<IfrsVariable>().Where(x => (x.EconomicBasis == \"N\" && x.EstimateType == \"BE\" && x.AocType == \"EOP\" && x.DataNode == \"DTR1.3\" && x.Novelty == \"C\" && x.Values[0] == -400)).Count().Should().Be(1);"
            ],
            "metadata": {},
            "execution_count": 0,
            "outputs": []
        },
        {
            "cell_type": "code",
            "source": [
                "ws.Query<IfrsVariable>().Count().Should().Be(9);"
            ],
            "metadata": {},
            "execution_count": 0,
            "outputs": []
        },
        {
            "cell_type": "markdown",
            "source": [
                "### Import Openings for the GIC in the Current Period"
            ],
            "metadata": {},
            "execution_count": 0,
            "outputs": []
        },
        {
            "cell_type": "code",
            "source": [
                "var openings = @\"",
                "\n@@Main",
                "\nReportingNode,Year,Month,,",
                "\nCH,2021,3,,",
                "\n@@Opening",
                "\nDataNode,EstimateType,AmountType,AccidentYear,Value",
                "\nDT1.4,C,,,1\";"
            ],
            "metadata": {},
            "execution_count": 0,
            "outputs": []
        },
        {
            "cell_type": "code",
            "source": [
                "await Import.FromString(openings).WithFormat(ImportFormats.Opening).WithTarget(ws).ExecuteAsync()"
            ],
            "metadata": {},
            "execution_count": 0,
            "outputs": []
        },
        {
            "cell_type": "markdown",
            "source": [
                "### Assertions (previous period)"
            ],
            "metadata": {},
            "execution_count": 0,
            "outputs": []
        },
        {
            "cell_type": "code",
            "source": [
                "await ws.Partition.SetAsync<PartitionByReportingNodeAndPeriod>(previousArgs)"
            ],
            "metadata": {},
            "execution_count": 0,
            "outputs": []
        },
        {
            "cell_type": "code",
            "source": [
                "ws.Query<RawVariable>().Where(x => (x.EstimateType == \"BE\" && x.AmountType == \"PR\" && x.AocType == \"CL\" && x.Novelty == \"C\")).Count().Should().Be(1);"
            ],
            "metadata": {},
            "execution_count": 0,
            "outputs": []
        },
        {
            "cell_type": "code",
            "source": [
                "ws.Query<RawVariable>().Count().Should().Be(1);"
            ],
            "metadata": {},
            "execution_count": 0,
            "outputs": []
        },
        {
            "cell_type": "code",
            "source": [
                "ws.Query<IfrsVariable>().Where(x => (x.EconomicBasis == \"L\" && x.EstimateType == \"BE\" && x.AocType == \"CL\" && x.DataNode == \"DTR1.3\" && x.Novelty == \"C\" && x.Values[0] == -399.63392949885525)).Count().Should().Be(1);"
            ],
            "metadata": {},
            "execution_count": 0,
            "outputs": []
        },
        {
            "cell_type": "code",
            "source": [
                "ws.Query<IfrsVariable>().Where(x => (x.EconomicBasis == \"C\" && x.EstimateType == \"BE\" && x.AocType == \"CL\" && x.DataNode == \"DTR1.3\" && x.Novelty == \"C\" && x.Values[0] == -399.63392949885525)).Count().Should().Be(1);"
            ],
            "metadata": {},
            "execution_count": 0,
            "outputs": []
        },
        {
            "cell_type": "code",
            "source": [
                "ws.Query<IfrsVariable>().Where(x => (x.EconomicBasis == \"N\" && x.EstimateType == \"BE\" && x.AocType == \"CL\" && x.DataNode == \"DTR1.3\" && x.Novelty == \"C\" && x.Values[0] == -400d)).Count().Should().Be(1);"
            ],
            "metadata": {},
            "execution_count": 0,
            "outputs": []
        },
        {
            "cell_type": "code",
            "source": [
                "ws.Query<IfrsVariable>().Where(x => (x.EstimateType == \"C\" && x.AocType == \"CL\" && x.DataNode == \"DTR1.3\" && x.Novelty == \"C\" && x.Values[0] == 399.63392949885525)).Count().Should().Be(1);"
            ],
            "metadata": {},
            "execution_count": 0,
            "outputs": []
        },
        {
            "cell_type": "code",
            "source": [
                "ws.Query<IfrsVariable>().Where(x => (x.EconomicBasis == \"L\" && x.EstimateType == \"F\" && x.AocType == \"AM\" && x.DataNode == \"DTR1.3\" && x.Novelty == \"C\" && x.Values[0] == 1d)).Count().Should().Be(1);"
            ],
            "metadata": {},
            "execution_count": 0,
            "outputs": []
        },
        {
            "cell_type": "code",
            "source": [
                "ws.Query<IfrsVariable>().Where(x => (x.EstimateType == \"C\" && x.AocType == \"AM\" && x.DataNode == \"DTR1.3\" && x.Novelty == \"C\" && x.Values[0] == -399.63392949885525)).Count().Should().Be(1);"
            ],
            "metadata": {},
            "execution_count": 0,
            "outputs": []
        },
        {
            "cell_type": "code",
            "source": [
                "ws.Query<IfrsVariable>().Where(x => (x.EconomicBasis == \"L\" && x.EstimateType == \"BE\" && x.AocType == \"EOP\" && x.DataNode == \"DTR1.3\" && x.Novelty == \"C\" && x.Values[0] == -399.63392949885525)).Count().Should().Be(1);"
            ],
            "metadata": {},
            "execution_count": 0,
            "outputs": []
        },
        {
            "cell_type": "code",
            "source": [
                "ws.Query<IfrsVariable>().Where(x => (x.EconomicBasis == \"C\" && x.EstimateType == \"BE\" && x.AocType == \"EOP\" && x.DataNode == \"DTR1.3\" && x.Novelty == \"C\" && x.Values[0] == -399.63392949885525)).Count().Should().Be(1);"
            ],
            "metadata": {},
            "execution_count": 0,
            "outputs": []
        },
        {
            "cell_type": "code",
            "source": [
                "ws.Query<IfrsVariable>().Where(x => (x.EconomicBasis == \"N\" && x.EstimateType == \"BE\" && x.AocType == \"EOP\" && x.DataNode == \"DTR1.3\" && x.Novelty == \"C\" && x.Values[0] == -400d)).Count().Should().Be(1);"
            ],
            "metadata": {},
            "execution_count": 0,
            "outputs": []
        },
        {
            "cell_type": "code",
            "source": [
                "ws.Query<IfrsVariable>().Count().Should().Be(9);"
            ],
            "metadata": {},
            "execution_count": 0,
            "outputs": []
        },
        {
            "cell_type": "markdown",
            "source": [
                "### Assertions (current period)"
            ],
            "metadata": {},
            "execution_count": 0,
            "outputs": []
        },
        {
            "cell_type": "code",
            "source": [
                "await ws.Partition.SetAsync<PartitionByReportingNodeAndPeriod>(args)"
            ],
            "metadata": {},
            "execution_count": 0,
            "outputs": []
        },
        {
            "cell_type": "code",
            "source": [
                "ws.Query<RawVariable>().Count().Should().Be(0);"
            ],
            "metadata": {},
            "execution_count": 0,
            "outputs": []
        },
        {
            "cell_type": "code",
            "source": [
                "ws.Query<IfrsVariable>().Where(x => (x.EstimateType == \"C\" && x.AocType == \"EOP\" && x.DataNode == \"DT1.4\" && x.Novelty == \"C\" && x.Values[0] == 1.0012476630625269)).Count().Should().Be(1);"
            ],
            "metadata": {},
            "execution_count": 0,
            "outputs": []
        },
        {
            "cell_type": "code",
            "source": [
                "ws.Query<IfrsVariable>().Where(x => (x.EstimateType == \"C\" && x.AocType == \"BOP\" && x.DataNode == \"DT1.4\" && x.Novelty == \"I\" && x.Values[0] == 1d)).Count().Should().Be(1);"
            ],
            "metadata": {},
            "execution_count": 0,
            "outputs": []
        },
        {
            "cell_type": "code",
            "source": [
                "ws.Query<IfrsVariable>().Where(x => (x.EstimateType == \"C\" && x.AocType == \"IA\" && x.DataNode == \"DT1.4\" && x.Novelty == \"I\" && x.Values[0] == 0.0012476630625268825)).Count().Should().Be(1);"
            ],
            "metadata": {},
            "execution_count": 0,
            "outputs": []
        },
        {
            "cell_type": "code",
            "source": [
                "ws.Query<IfrsVariable>().Count().Should().Be(3);"
            ],
            "metadata": {},
            "execution_count": 0,
            "outputs": []
        },
        {
            "cell_type": "markdown",
            "source": [
                "### Import Cashflows for the GRIC in the Current Period"
            ],
            "metadata": {},
            "execution_count": 0,
            "outputs": []
        },
        {
            "cell_type": "code",
            "source": [
                "var cashflows = @\"",
                "\n@@Main,,,,,,,,,,,,,,,,,,,,,,,,,,,,,",
                "\nReportingNode,Year,Month,Scenario,,,,,,,,,,,,,,,,,,,,,,,,,,",
                "\nCH,2021,3,,,,,,,,,,,,,,,,,,,,,,,,,,,",
                "\n@@Cashflow,,,,,,,,,,,,,,,,,,,,,,,,,,,,,",
                "\nDataNode,AmountType,EstimateType,AocType,Novelty,AccidentYear,Values0,Values1,Values2,Values3,Values4,Values5,Values6,Values7,Values8,Values9,Values10,Values11,Values12,Values13,Values14,Values15,Values16,Values17,Values18,Values19,Values20,Values21,Values22,Values23",
                "\nDTR1.3,PR,BE,CL,C,,100,0,0,100,0,0,100,0,0,100,0,0,0,100,0,0,100,0,0,100,0,0,100,0\";"
            ],
            "metadata": {},
            "execution_count": 0,
            "outputs": []
        },
        {
            "cell_type": "code",
            "source": [
                "await Import.FromString(cashflows).WithFormat(ImportFormats.Cashflow).WithTarget(ws).ExecuteAsync()"
            ],
            "metadata": {},
            "execution_count": 0,
            "outputs": []
        },
        {
            "cell_type": "markdown",
            "source": [
                "### Assertions (previous period)"
            ],
            "metadata": {},
            "execution_count": 0,
            "outputs": []
        },
        {
            "cell_type": "code",
            "source": [
                "await ws.Partition.SetAsync<PartitionByReportingNodeAndPeriod>(previousArgs)"
            ],
            "metadata": {},
            "execution_count": 0,
            "outputs": []
        },
        {
            "cell_type": "code",
            "source": [
                "ws.Query<RawVariable>().Where(x => (x.EstimateType == \"BE\" && x.AmountType == \"PR\" && x.AocType == \"CL\" && x.Novelty == \"C\")).Count().Should().Be(1);"
            ],
            "metadata": {},
            "execution_count": 0,
            "outputs": []
        },
        {
            "cell_type": "code",
            "source": [
                "ws.Query<RawVariable>().Count().Should().Be(1);"
            ],
            "metadata": {},
            "execution_count": 0,
            "outputs": []
        },
        {
            "cell_type": "code",
            "source": [
                "ws.Query<IfrsVariable>().Where(x => (x.EconomicBasis == \"L\" && x.EstimateType == \"BE\" && x.AocType == \"CL\" && x.DataNode == \"DTR1.3\" && x.Novelty == \"C\" && x.Values[0] == -399.63392949885525)).Count().Should().Be(1);"
            ],
            "metadata": {},
            "execution_count": 0,
            "outputs": []
        },
        {
            "cell_type": "code",
            "source": [
                "ws.Query<IfrsVariable>().Where(x => (x.EconomicBasis == \"C\" && x.EstimateType == \"BE\" && x.AocType == \"CL\" && x.DataNode == \"DTR1.3\" && x.Novelty == \"C\" && x.Values[0] == -399.63392949885525)).Count().Should().Be(1);"
            ],
            "metadata": {},
            "execution_count": 0,
            "outputs": []
        },
        {
            "cell_type": "code",
            "source": [
                "ws.Query<IfrsVariable>().Where(x => (x.EconomicBasis == \"N\" && x.EstimateType == \"BE\" && x.AocType == \"CL\" && x.DataNode == \"DTR1.3\" && x.Novelty == \"C\" && x.Values[0] == -400d)).Count().Should().Be(1);"
            ],
            "metadata": {},
            "execution_count": 0,
            "outputs": []
        },
        {
            "cell_type": "code",
            "source": [
                "ws.Query<IfrsVariable>().Where(x => (x.EstimateType == \"C\" && x.AocType == \"CL\" && x.DataNode == \"DTR1.3\" && x.Novelty == \"C\" && x.Values[0] == 399.63392949885525)).Count().Should().Be(1);"
            ],
            "metadata": {},
            "execution_count": 0,
            "outputs": []
        },
        {
            "cell_type": "code",
            "source": [
                "ws.Query<IfrsVariable>().Where(x => (x.EconomicBasis == \"L\" && x.EstimateType == \"F\" && x.AocType == \"AM\" && x.DataNode == \"DTR1.3\" && x.Novelty == \"C\" && x.Values[0] == 1d)).Count().Should().Be(1);"
            ],
            "metadata": {},
            "execution_count": 0,
            "outputs": []
        },
        {
            "cell_type": "code",
            "source": [
                "ws.Query<IfrsVariable>().Where(x => (x.EstimateType == \"C\" && x.AocType == \"AM\" && x.DataNode == \"DTR1.3\" && x.Novelty == \"C\" && x.Values[0] == -399.63392949885525)).Count().Should().Be(1);"
            ],
            "metadata": {},
            "execution_count": 0,
            "outputs": []
        },
        {
            "cell_type": "code",
            "source": [
                "ws.Query<IfrsVariable>().Where(x => (x.EconomicBasis == \"L\" && x.EstimateType == \"BE\" && x.AocType == \"EOP\" && x.DataNode == \"DTR1.3\" && x.Novelty == \"C\" && x.Values[0] == -399.63392949885525)).Count().Should().Be(1);"
            ],
            "metadata": {},
            "execution_count": 0,
            "outputs": []
        },
        {
            "cell_type": "code",
            "source": [
                "ws.Query<IfrsVariable>().Where(x => (x.EconomicBasis == \"C\" && x.EstimateType == \"BE\" && x.AocType == \"EOP\" && x.DataNode == \"DTR1.3\" && x.Novelty == \"C\" && x.Values[0] == -399.63392949885525)).Count().Should().Be(1);"
            ],
            "metadata": {},
            "execution_count": 0,
            "outputs": []
        },
        {
            "cell_type": "code",
            "source": [
                "ws.Query<IfrsVariable>().Where(x => (x.EconomicBasis == \"N\" && x.EstimateType == \"BE\" && x.AocType == \"EOP\" && x.DataNode == \"DTR1.3\" && x.Novelty == \"C\" && x.Values[0] == -400d)).Count().Should().Be(1);"
            ],
            "metadata": {},
            "execution_count": 0,
            "outputs": []
        },
        {
            "cell_type": "code",
            "source": [
                "ws.Query<IfrsVariable>().Count().Should().Be(9);"
            ],
            "metadata": {},
            "execution_count": 0,
            "outputs": []
        },
        {
            "cell_type": "markdown",
            "source": [
                "### Assertions (current period)"
            ],
            "metadata": {},
            "execution_count": 0,
            "outputs": []
        },
        {
            "cell_type": "code",
            "source": [
                "await ws.Partition.SetAsync<PartitionByReportingNodeAndPeriod>(args)"
            ],
            "metadata": {},
            "execution_count": 0,
            "outputs": []
        },
        {
            "cell_type": "code",
            "source": [
                "ws.Query<RawVariable>().Where(x => (x.EstimateType == \"BE\" && x.AmountType == \"PR\" && x.AocType == \"CL\" && x.DataNode == \"DTR1.3\" && x.Novelty == \"C\")).Count().Should().Be(1);"
            ],
            "metadata": {},
            "execution_count": 0,
            "outputs": []
        },
        {
            "cell_type": "code",
            "source": [
                "ws.Query<RawVariable>().Count().Should().Be(1);"
            ],
            "metadata": {},
            "execution_count": 0,
            "outputs": []
        },
        {
            "cell_type": "code",
            "source": [
                "ws.Query<IfrsVariable>().Where(x => (x.EconomicBasis == \"L\" && x.EstimateType == \"BE\" && x.AmountType == \"PR\" && x.DataNode == \"DTR1.3\" && x.AocType == \"BOP\" && x.Values[0] == -399.63392949885525)).Count().Should().Be(1);"
            ],
            "metadata": {},
            "execution_count": 0,
            "outputs": []
        },
        {
            "cell_type": "code",
            "source": [
                "ws.Query<IfrsVariable>().Where(x => (x.EconomicBasis == \"C\" && x.EstimateType == \"BE\" && x.AmountType == \"PR\" && x.DataNode == \"DTR1.3\" && x.AocType == \"BOP\" && x.Values[0] == -399.63392949885525)).Count().Should().Be(1);"
            ],
            "metadata": {},
            "execution_count": 0,
            "outputs": []
        },
        {
            "cell_type": "code",
            "source": [
                "ws.Query<IfrsVariable>().Where(x => (x.EconomicBasis == \"N\" && x.EstimateType == \"BE\" && x.AmountType == \"PR\" && x.DataNode == \"DTR1.3\" && x.AocType == \"BOP\" && x.Values[0] == -400)).Count().Should().Be(1);"
            ],
            "metadata": {},
            "execution_count": 0,
            "outputs": []
        },
        {
            "cell_type": "code",
            "source": [
                "ws.Query<IfrsVariable>().Where(x => (x.EstimateType == \"C\" && x.AocType == \"EOP\" && x.DataNode == \"DT1.4\" && x.Novelty == \"C\" && x.Values[0] == 1.0012476630625269)).Count().Should().Be(1);"
            ],
            "metadata": {},
            "execution_count": 0,
            "outputs": []
        },
        {
            "cell_type": "code",
            "source": [
                "ws.Query<IfrsVariable>().Where(x => (x.EstimateType == \"C\" && x.AocType == \"BOP\" && x.DataNode == \"DT1.4\" && x.Novelty == \"I\" && x.Values[0] == 1d)).Count().Should().Be(1);"
            ],
            "metadata": {},
            "execution_count": 0,
            "outputs": []
        },
        {
            "cell_type": "code",
            "source": [
                "ws.Query<IfrsVariable>().Where(x => (x.EstimateType == \"C\" && x.AocType == \"IA\" && x.DataNode == \"DT1.4\" && x.Novelty == \"I\" && x.Values[0] == 0.0012476630625268825)).Count().Should().Be(1);"
            ],
            "metadata": {},
            "execution_count": 0,
            "outputs": []
        },
        {
            "cell_type": "code",
            "source": [
                "ws.Query<IfrsVariable>().Where(x => (x.EconomicBasis == \"L\" && x.EstimateType == \"BE\" && x.AocType == \"CL\" && x.DataNode == \"DTR1.3\" && x.Novelty == \"C\" && x.Values[0] == -399.08544669484894)).Count().Should().Be(1);"
            ],
            "metadata": {},
            "execution_count": 0,
            "outputs": []
        },
        {
            "cell_type": "code",
            "source": [
                "ws.Query<IfrsVariable>().Where(x => (x.EconomicBasis == \"C\" && x.EstimateType == \"BE\" && x.AocType == \"CL\" && x.DataNode == \"DTR1.3\" && x.Novelty == \"C\" && x.Values[0] ==  -397.72149807405714)).Count().Should().Be(1);"
            ],
            "metadata": {},
            "execution_count": 0,
            "outputs": []
        },
        {
            "cell_type": "code",
            "source": [
                "ws.Query<IfrsVariable>().Where(x => (x.EconomicBasis == \"N\" && x.EstimateType == \"BE\" && x.AocType == \"CL\" && x.DataNode == \"DTR1.3\" && x.Novelty == \"C\" && x.Values[0] == -400d)).Count().Should().Be(1);"
            ],
            "metadata": {},
            "execution_count": 0,
            "outputs": []
        },
        {
            "cell_type": "code",
            "source": [
                "ws.Query<IfrsVariable>().Where(x => (x.EstimateType == \"C\" && x.AocType == \"CL\" && x.DataNode == \"DTR1.3\" && x.Novelty == \"C\" && x.Values[0] == 399.08544669484894)).Count().Should().Be(1);"
            ],
            "metadata": {},
            "execution_count": 0,
            "outputs": []
        },
        {
            "cell_type": "code",
            "source": [
                "ws.Query<IfrsVariable>().Where(x => (x.EconomicBasis == \"L\" && x.EstimateType == \"BE\" && x.AocType == \"BOP\" && x.DataNode == \"DTR1.3\" && x.Novelty == \"I\" && x.Values[0] ==  -399.63392949885525)).Count().Should().Be(1);"
            ],
            "metadata": {},
            "execution_count": 0,
            "outputs": []
        },
        {
            "cell_type": "code",
            "source": [
                "ws.Query<IfrsVariable>().Where(x => (x.EconomicBasis == \"C\" && x.EstimateType == \"BE\" && x.AocType == \"BOP\" && x.DataNode == \"DTR1.3\" && x.Novelty == \"I\" && x.Values[0] == -399.63392949885525)).Count().Should().Be(1);"
            ],
            "metadata": {},
            "execution_count": 0,
            "outputs": []
        },
        {
            "cell_type": "code",
            "source": [
                "ws.Query<IfrsVariable>().Where(x => (x.EconomicBasis == \"N\" && x.EstimateType == \"BE\" && x.AocType == \"BOP\" && x.DataNode == \"DTR1.3\" && x.Novelty == \"I\" && x.Values[0] == -400)).Count().Should().Be(1);"
            ],
            "metadata": {},
            "execution_count": 0,
            "outputs": []
        },
        {
            "cell_type": "code",
            "source": [
                "ws.Query<IfrsVariable>().Where(x => (x.EconomicBasis == \"L\" && x.EstimateType == \"F\" && x.AocType == \"AM\" && x.DataNode == \"DTR1.3\" && x.Novelty == \"C\" && x.Values[0] == 1d)).Count().Should().Be(1);"
            ],
            "metadata": {},
            "execution_count": 0,
            "outputs": []
        },
        {
            "cell_type": "code",
            "source": [
                "ws.Query<IfrsVariable>().Where(x => (x.EstimateType == \"C\" && x.AocType == \"AM\" && x.DataNode == \"DTR1.3\" && x.Novelty == \"C\" && x.Values[0] == -399.08544669484894)).Count().Should().Be(1);"
            ],
            "metadata": {},
            "execution_count": 0,
            "outputs": []
        },
        {
            "cell_type": "code",
            "source": [
                "ws.Query<IfrsVariable>().Where(x => (x.EconomicBasis == \"L\" && x.EstimateType == \"BE\" && x.AocType == \"EOP\" && x.DataNode == \"DTR1.3\" && x.Novelty == \"C\" && x.Values[0] == -698.8857378808717)).Count().Should().Be(1);"
            ],
            "metadata": {},
            "execution_count": 0,
            "outputs": []
        },
        {
            "cell_type": "code",
            "source": [
                "ws.Query<IfrsVariable>().Where(x => (x.EconomicBasis == \"C\" && x.EstimateType == \"BE\" && x.AocType == \"EOP\" && x.DataNode == \"DTR1.3\" && x.Novelty == \"C\" && x.Values[0] == -697.2233135002064 )).Count().Should().Be(1);"
            ],
            "metadata": {},
            "execution_count": 0,
            "outputs": []
        },
        {
            "cell_type": "code",
            "source": [
                "ws.Query<IfrsVariable>().Where(x => (x.EconomicBasis == \"N\" && x.EstimateType == \"BE\" && x.AocType == \"EOP\" && x.DataNode == \"DTR1.3\" && x.Novelty == \"C\" && x.Values[0] == -700d)).Count().Should().Be(1);"
            ],
            "metadata": {},
            "execution_count": 0,
            "outputs": []
        },
        {
            "cell_type": "code",
            "source": [
                "ws.Query<IfrsVariable>().Where(x => (x.EconomicBasis == \"L\" && x.EstimateType == \"BE\" && x.AocType == \"IA\" && x.DataNode == \"DTR1.3\" && x.Novelty == \"I\" && x.Values[0] == -0.1663616871675563)).Count().Should().Be(1);"
            ],
            "metadata": {},
            "execution_count": 0,
            "outputs": []
        },
        {
            "cell_type": "code",
            "source": [
                "ws.Query<IfrsVariable>().Where(x => (x.EconomicBasis == \"C\" && x.EstimateType == \"BE\" && x.AocType == \"IA\" && x.DataNode == \"DTR1.3\" && x.Novelty == \"I\" && x.Values[0] == -0.1663616871675563)).Count().Should().Be(1);"
            ],
            "metadata": {},
            "execution_count": 0,
            "outputs": []
        },
        {
            "cell_type": "code",
            "source": [
                "ws.Query<IfrsVariable>().Where(x => (x.EconomicBasis == \"N\" && x.EstimateType == \"BE\" && x.AocType == \"CF\" && x.DataNode == \"DTR1.3\" && x.Novelty == \"I\" && x.Values[0] == 100d)).Count().Should().Be(1);"
            ],
            "metadata": {},
            "execution_count": 0,
            "outputs": []
        },
        {
            "cell_type": "code",
            "source": [
                "ws.Query<IfrsVariable>().Where(x => (x.EconomicBasis == \"C\" && x.EstimateType == \"BE\" && x.AocType == \"CF\" && x.DataNode == \"DTR1.3\" && x.Novelty == \"I\" && x.Values[0] == 100d)).Count().Should().Be(1);"
            ],
            "metadata": {},
            "execution_count": 0,
            "outputs": []
        },
        {
            "cell_type": "code",
            "source": [
                "ws.Query<IfrsVariable>().Where(x => (x.EconomicBasis == \"L\" && x.EstimateType == \"BE\" && x.AocType == \"CF\" && x.DataNode == \"DTR1.3\" && x.Novelty == \"I\" && x.Values[0] == 100d)).Count().Should().Be(1);"
            ],
            "metadata": {},
            "execution_count": 0,
            "outputs": []
        },
        {
            "cell_type": "code",
            "source": [
                "ws.Query<IfrsVariable>().Where(x => (x.EconomicBasis == \"C\" && x.EstimateType == \"BE\" && x.AocType == \"YCU\" && x.DataNode == \"DTR1.3\" && x.Novelty == \"I\" && x.Values[0] ==  0.2984757598735541)).Count().Should().Be(1);"
            ],
            "metadata": {},
            "execution_count": 0,
            "outputs": []
        },
        {
            "cell_type": "code",
            "source": [
                "ws.Query<IfrsVariable>().Count().Should().Be(21);"
            ],
            "metadata": {},
            "execution_count": 0,
            "outputs": []
        },
		{
            "cell_type": "markdown",
            "source": [
                "# Import Actuals for Pre-existing Reinsurance, Openings for Linked Insurance and Cashflows for the Reinsurance"
            ],
            "metadata": {},
            "execution_count": 0,
            "outputs": []
        },
        {
            "cell_type": "markdown",
            "source": [
                "Consider one GRIC (DTR1.3) that is linked to one GIC (DT1.4). The GRIC already existed the previous year, while the GIC is at inception.",
                "\n- Import Actuals for the GRIC in the previous period.",
                "\n- Import Openings for the GIC in the current period.",
                "\n- Import Cashflows for the GRIC in the current period."
            ],
            "metadata": {},
            "execution_count": 0,
            "outputs": []
        },
        {
            "cell_type": "markdown",
            "source": [
                "## Disposable Workspace"
            ],
            "metadata": {},
            "execution_count": 0,
            "outputs": []
        },
        {
            "cell_type": "code",
            "source": [
                "var ws = Workspace.CreateNew();",
                "\nws.Initialize(x=>x.FromSource(DataSource).DisableInitialization<DataNodeState>().DisableInitialization<DataNodeParameter>().DisableInitialization<InterDataNodeParameter>());",
                "\n",
                "\nawait ws.UpdateAsync<DataNodeState>(new DataNodeState [] { dtr13StatePrevious, dt14State });",
                "\nawait ws.UpdateAsync<InterDataNodeParameter>(new InterDataNodeParameter [] { dtr13IParameter });"
            ],
            "metadata": {},
            "execution_count": 0,
            "outputs": []
        },
        {
            "cell_type": "markdown",
            "source": [
                "## Import Sequence Phase"
            ],
            "metadata": {},
            "execution_count": 0,
            "outputs": []
        },
        {
            "cell_type": "markdown",
            "source": [
                "### Import Actuals for the GRIC in the Previous Period"
            ],
            "metadata": {},
            "execution_count": 0,
            "outputs": []
        },
        {
            "cell_type": "code",
            "source": [
                "var actuals = @\"",
                "\n@@Main,,,,,",
                "\nReportingNode,Year,Month,,,",
                "\nCH,2020,12,,,",
                "\n@@Actual,,,,,",
                "\nDataNode,AocType,AmountType,EstimateType,AccidentYear,Value",
                "\nDTR1.3,CF,PR,AA,,1\";"
            ],
            "metadata": {},
            "execution_count": 0,
            "outputs": []
        },
        {
            "cell_type": "code",
            "source": [
                "await Import.FromString(actuals).WithFormat(ImportFormats.Actual).WithTarget(ws).ExecuteAsync()"
            ],
            "metadata": {},
            "execution_count": 0,
            "outputs": []
        },
        {
            "cell_type": "markdown",
            "source": [
                "### Assertions"
            ],
            "metadata": {},
            "execution_count": 0,
            "outputs": []
        },
        {
            "cell_type": "code",
            "source": [
                "ws.Query<RawVariable>().Count().Should().Be(0);"
            ],
            "metadata": {},
            "execution_count": 0,
            "outputs": []
        },
        {
            "cell_type": "code",
            "source": [
                "ws.Query<IfrsVariable>().Where(x => (x.EstimateType == \"AA\" && x.AmountType == \"PR\" && x.AocType == \"CF\" && x.Novelty == \"C\" && x.Values[0] == 1d)).Count().Should().Be(1);"
            ],
            "metadata": {},
            "execution_count": 0,
            "outputs": []
        },
        {
            "cell_type": "code",
            "source": [
                "ws.Query<IfrsVariable>().Where(x => (x.EstimateType == \"AA\" && x.AmountType == \"PR\" && x.AocType == \"EOP\" && x.Novelty == \"C\" && x.Values[0] == 1d)).Count().Should().Be(1);"
            ],
            "metadata": {},
            "execution_count": 0,
            "outputs": []
        },
        {
            "cell_type": "code",
            "source": [
                "ws.Query<IfrsVariable>().Count().Should().Be(2);"
            ],
            "metadata": {},
            "execution_count": 0,
            "outputs": []
        },
        {
            "cell_type": "markdown",
            "source": [
                "### Import Openings for the GIC in the Current Period"
            ],
            "metadata": {},
            "execution_count": 0,
            "outputs": []
        },
        {
            "cell_type": "code",
            "source": [
                "var openings = @\"",
                "\n@@Main",
                "\nReportingNode,Year,Month,,",
                "\nCH,2021,3,,",
                "\n@@Opening",
                "\nDataNode,EstimateType,AmountType,AccidentYear,Value",
                "\nDT1.4,C,,,1\";"
            ],
            "metadata": {},
            "execution_count": 0,
            "outputs": []
        },
        {
            "cell_type": "code",
            "source": [
                "await Import.FromString(openings).WithFormat(ImportFormats.Opening).WithTarget(ws).ExecuteAsync()"
            ],
            "metadata": {},
            "execution_count": 0,
            "outputs": []
        },
        {
            "cell_type": "markdown",
            "source": [
                "### Import Cashflows for the GRIC in the Current Period"
            ],
            "metadata": {},
            "execution_count": 0,
            "outputs": []
        },
        {
            "cell_type": "code",
            "source": [
                "var cashflows = @\"",
                "\n@@Main,,,,,,,,,,,,,,,,,,,,,,,,,,,,,",
                "\nReportingNode,Year,Month,Scenario,,,,,,,,,,,,,,,,,,,,,,,,,,",
                "\nCH,2021,3,,,,,,,,,,,,,,,,,,,,,,,,,,,",
                "\n@@Cashflow,,,,,,,,,,,,,,,,,,,,,,,,,,,,,",
                "\nDataNode,AmountType,EstimateType,AocType,Novelty,AccidentYear,Values0,Values1,Values2,Values3,Values4,Values5,Values6,Values7,Values8,Values9,Values10,Values11,Values12,Values13,Values14,Values15,Values16,Values17,Values18,Values19,Values20,Values21,Values22,Values23",
                "\nDTR1.3,PR,BE,CL,C,,100,0,0,100,0,0,100,0,0,100,0,0,0,100,0,0,100,0,0,100,0,0,100,0\";"
            ],
            "metadata": {},
            "execution_count": 0,
            "outputs": []
        },
        {
            "cell_type": "code",
            "source": [
                "await Import.FromString(cashflows).WithFormat(ImportFormats.Cashflow).WithTarget(ws).ExecuteAsync()"
            ],
            "metadata": {},
            "execution_count": 0,
            "outputs": []
        },
        {
            "cell_type": "markdown",
            "source": [
                "### Assertions (previous period)"
            ],
            "metadata": {},
            "execution_count": 0,
            "outputs": []
        },
        {
            "cell_type": "code",
            "source": [
                "await ws.Partition.SetAsync<PartitionByReportingNodeAndPeriod>(previousArgs)"
            ],
            "metadata": {},
            "execution_count": 0,
            "outputs": []
        },
        {
            "cell_type": "code",
            "source": [
                "ws.Query<RawVariable>().Count().Should().Be(0);"
            ],
            "metadata": {},
            "execution_count": 0,
            "outputs": []
        },
        {
            "cell_type": "code",
            "source": [
                "ws.Query<IfrsVariable>().Where(x => (x.EstimateType == \"AA\" && x.AmountType == \"PR\" && x.AocType == \"CF\" && x.Novelty == \"C\" && x.Values[0] == 1d)).Count().Should().Be(1);"
            ],
            "metadata": {},
            "execution_count": 0,
            "outputs": []
        },
        {
            "cell_type": "code",
            "source": [
                "ws.Query<IfrsVariable>().Where(x => (x.EstimateType == \"AA\" && x.AmountType == \"PR\" && x.AocType == \"EOP\" && x.Novelty == \"C\" && x.Values[0] == 1d)).Count().Should().Be(1);"
            ],
            "metadata": {},
            "execution_count": 0,
            "outputs": []
        },
        {
            "cell_type": "code",
            "source": [
                "ws.Query<IfrsVariable>().Count().Should().Be(2);"
            ],
            "metadata": {},
            "execution_count": 0,
            "outputs": []
        },
        {
            "cell_type": "markdown",
            "source": [
                "### Assertions (current period)"
            ],
            "metadata": {},
            "execution_count": 0,
            "outputs": []
        },
        {
            "cell_type": "code",
            "source": [
                "await ws.Partition.SetAsync<PartitionByReportingNodeAndPeriod>(args)"
            ],
            "metadata": {},
            "execution_count": 0,
            "outputs": []
        },
        {
            "cell_type": "code",
            "source": [
                "ws.Query<RawVariable>().Where(x => (x.EstimateType == \"BE\" && x.AmountType == \"PR\" && x.AocType == \"CL\" && x.DataNode == \"DTR1.3\" && x.Novelty == \"C\")).Count().Should().Be(1);"
            ],
            "metadata": {},
            "execution_count": 0,
            "outputs": []
        },
        {
            "cell_type": "code",
            "source": [
                "ws.Query<RawVariable>().Count().Should().Be(1);"
            ],
            "metadata": {},
            "execution_count": 0,
            "outputs": []
        },
        {
            "cell_type": "code",
            "source": [
                "ws.Query<IfrsVariable>().Where(x => (x.EstimateType == \"C\" && x.AocType == \"EOP\" && x.DataNode == \"DT1.4\" && x.Novelty == \"C\" && x.Values[0] ==  1.0012476630625269)).Count().Should().Be(1);"
            ],
            "metadata": {},
            "execution_count": 0,
            "outputs": []
        },
        {
            "cell_type": "code",
            "source": [
                "ws.Query<IfrsVariable>().Where(x => (x.EstimateType == \"C\" && x.AocType == \"BOP\" && x.DataNode == \"DT1.4\" && x.Novelty == \"I\" && x.Values[0] == 1d)).Count().Should().Be(1);"
            ],
            "metadata": {},
            "execution_count": 0,
            "outputs": []
        },
        {
            "cell_type": "code",
            "source": [
                "ws.Query<IfrsVariable>().Where(x => (x.EstimateType == \"C\" && x.AocType == \"IA\" && x.DataNode == \"DT1.4\" && x.Novelty == \"I\" && x.Values[0] == 0.0012476630625268825)).Count().Should().Be(1);"
            ],
            "metadata": {},
            "execution_count": 0,
            "outputs": []
        },
        {
            "cell_type": "code",
            "source": [
                "ws.Query<IfrsVariable>().Where(x => (x.EstimateType == \"AA\" && x.AmountType == \"PR\" && x.AocType == \"EOP\" && x.DataNode == \"DTR1.3\" && x.Novelty == \"C\" && x.Values[0] == 1d)).Count().Should().Be(1);"
            ],
            "metadata": {},
            "execution_count": 0,
            "outputs": []
        },
        {
            "cell_type": "code",
            "source": [
                "ws.Query<IfrsVariable>().Where(x => (x.EstimateType == \"AA\" && x.AmountType == \"PR\" && x.AocType == \"BOP\" && x.DataNode == \"DTR1.3\" && x.Novelty == \"I\" && x.Values[0] == 1d)).Count().Should().Be(1);"
            ],
            "metadata": {},
            "execution_count": 0,
            "outputs": []
        },
        {
            "cell_type": "code",
            "source": [
                "ws.Query<IfrsVariable>().Where(x => (x.EconomicBasis == \"L\" && x.EstimateType == \"BE\" && x.AocType == \"CL\" && x.DataNode == \"DTR1.3\" && x.Novelty == \"C\" && x.Values[0] ==  -698.8857378808717)).Count().Should().Be(1);"
            ],
            "metadata": {},
            "execution_count": 0,
            "outputs": []
        },
        {
            "cell_type": "code",
            "source": [
                "ws.Query<IfrsVariable>().Where(x => (x.EconomicBasis == \"C\" && x.EstimateType == \"BE\" && x.AocType == \"CL\" && x.DataNode == \"DTR1.3\" && x.Novelty == \"C\" && x.Values[0] == -697.2233135002064)).Count().Should().Be(1);"
            ],
            "metadata": {},
            "execution_count": 0,
            "outputs": []
        },
        {
            "cell_type": "code",
            "source": [
                "ws.Query<IfrsVariable>().Where(x => (x.EconomicBasis == \"N\" && x.EstimateType == \"BE\" && x.AocType == \"CL\" && x.DataNode == \"DTR1.3\" && x.Novelty == \"C\" && x.Values[0] == -700)).Count().Should().Be(1);"
            ],
            "metadata": {},
            "execution_count": 0,
            "outputs": []
        },
        {
            "cell_type": "code",
            "source": [
                "ws.Query<IfrsVariable>().Where(x => (x.EstimateType == \"C\" && x.AocType == \"CL\" && x.DataNode == \"DTR1.3\" && x.Novelty == \"C\" && x.Values[0] ==  698.8857378808717)).Count().Should().Be(1);"
            ],
            "metadata": {},
            "execution_count": 0,
            "outputs": []
        },
        {
            "cell_type": "code",
            "source": [
                "ws.Query<IfrsVariable>().Where(x => (x.EconomicBasis == \"L\" && x.EstimateType == \"F\" && x.AocType == \"AM\" && x.DataNode == \"DTR1.3\" && x.Novelty == \"C\" && x.Values[0] == 1d)).Count().Should().Be(1);"
            ],
            "metadata": {},
            "execution_count": 0,
            "outputs": []
        },
        {
            "cell_type": "code",
            "source": [
                "ws.Query<IfrsVariable>().Where(x => (x.EstimateType == \"C\" && x.AocType == \"AM\" && x.DataNode == \"DTR1.3\" && x.Novelty == \"C\" && x.Values[0] == -698.8857378808717)).Count().Should().Be(1);"
            ],
            "metadata": {},
            "execution_count": 0,
            "outputs": []
        },
        {
            "cell_type": "code",
            "source": [
                "ws.Query<IfrsVariable>().Where(x => (x.EconomicBasis == \"L\" && x.EstimateType == \"BE\" && x.AocType == \"EOP\" && x.DataNode == \"DTR1.3\" && x.Novelty == \"C\" && x.Values[0] ==  -698.8857378808717 )).Count().Should().Be(1);"
            ],
            "metadata": {},
            "execution_count": 0,
            "outputs": []
        },
        {
            "cell_type": "code",
            "source": [
                "ws.Query<IfrsVariable>().Where(x => (x.EconomicBasis == \"C\" && x.EstimateType == \"BE\" && x.AocType == \"EOP\" && x.DataNode == \"DTR1.3\" && x.Novelty == \"C\" && x.Values[0] == -697.2233135002064)).Count().Should().Be(1);"
            ],
            "metadata": {},
            "execution_count": 0,
            "outputs": []
        },
        {
            "cell_type": "code",
            "source": [
                "ws.Query<IfrsVariable>().Where(x => (x.EconomicBasis == \"N\" && x.EstimateType == \"BE\" && x.AocType == \"EOP\" && x.DataNode == \"DTR1.3\" && x.Novelty == \"C\" && x.Values[0] == -700)).Count().Should().Be(1);"
            ],
            "metadata": {},
            "execution_count": 0,
            "outputs": []
        },
        {
            "cell_type": "code",
            "source": [
                "ws.Query<IfrsVariable>().Count().Should().Be(14);"
            ],
            "metadata": {},
            "execution_count": 0,
            "outputs": []
        },
        {
            "cell_type": "markdown",
            "source": [
                "# Import Modified Openings with CSM Deletion and LC Addition for DataNode at Inception"
            ],
            "metadata": {},
            "execution_count": 0,
            "outputs": []
        },
        {
            "cell_type": "markdown",
            "source": [
                "Create openings for a data node at inception (DT1.1) and import. ",
                "\n",
                "\nImport again with the difference that CSM has been deleted and LC (for the same DataNode) has been added."
            ],
            "metadata": {},
            "execution_count": 0,
            "outputs": []
        },
        {
            "cell_type": "markdown",
            "source": [
                "## Disposable Workspace"
            ],
            "metadata": {},
            "execution_count": 0,
            "outputs": []
        },
        {
            "cell_type": "code",
            "source": [
                "var ws = Workspace.CreateNew();",
                "\nws.Initialize(x=>x.FromSource(DataSource).DisableInitialization<DataNodeState>());",
                "\n",
                "\nawait ws.UpdateAsync<DataNodeState>(new DataNodeState [] { dt11State, dtr11State });"
            ],
            "metadata": {},
            "execution_count": 0,
            "outputs": []
        },
        {
            "cell_type": "code",
            "source": [
                "var openings = @\"",
                "\n@@Main,,,,",
                "\nReportingNode,Year,Month,,",
                "\nCH,2021,3,,",
                "\n@@Opening,,,,",
                "\nDataNode,EstimateType,AmountType,AccidentYear,Value",
                "\nDT1.1,C,,,72.2",
                "\nDT1.1,AA,PR,,-1.5",
                "\nDT1.1,OA,PR,,1.5\";"
            ],
            "metadata": {},
            "execution_count": 0,
            "outputs": []
        },
        {
            "cell_type": "markdown",
            "source": [
                "## Import Phase"
            ],
            "metadata": {},
            "execution_count": 0,
            "outputs": []
        },
        {
            "cell_type": "code",
            "source": [
                "await Import.FromString(openings).WithFormat(ImportFormats.Opening).WithTarget(ws).ExecuteAsync()"
            ],
            "metadata": {},
            "execution_count": 0,
            "outputs": []
        },
        {
            "cell_type": "markdown",
            "source": [
                "## Assertions"
            ],
            "metadata": {},
            "execution_count": 0,
            "outputs": []
        },
        {
            "cell_type": "code",
            "source": [
                "ws.Query<RawVariable>().Count().Should().Be(0);"
            ],
            "metadata": {},
            "execution_count": 0,
            "outputs": []
        },
        {
            "cell_type": "code",
            "source": [
                "ws.Query<IfrsVariable>().Where(x => (x.EstimateType == \"C\")).Count().Should().Be(3);"
            ],
            "metadata": {},
            "execution_count": 0,
            "outputs": []
        },
        {
            "cell_type": "code",
            "source": [
                "ws.Query<IfrsVariable>().Count().Should().Be(7);"
            ],
            "metadata": {},
            "execution_count": 0,
            "outputs": []
        },
        {
            "cell_type": "markdown",
            "source": [
                "## Reimport Phase"
            ],
            "metadata": {},
            "execution_count": 0,
            "outputs": []
        },
        {
            "cell_type": "code",
            "source": [
                "var openings = @\"",
                "\n@@Main,,,,",
                "\nReportingNode,Year,Month,,",
                "\nCH,2021,3,,",
                "\n@@Opening,,,,",
                "\nDataNode,EstimateType,AmountType,AccidentYear,Value",
                "\nDT1.1,L,,,72.2",
                "\nDT1.1,AA,PR,,-1.5",
                "\nDT1.1,OA,PR,,1.5\";"
            ],
            "metadata": {},
            "execution_count": 0,
            "outputs": []
        },
        {
            "cell_type": "code",
            "source": [
                "await Import.FromString(openings).WithFormat(ImportFormats.Opening).WithTarget(ws).ExecuteAsync()"
            ],
            "metadata": {},
            "execution_count": 0,
            "outputs": []
        },
        {
            "cell_type": "markdown",
            "source": [
                "## Assertions"
            ],
            "metadata": {},
            "execution_count": 0,
            "outputs": []
        },
        {
            "cell_type": "code",
            "source": [
                "ws.Query<RawVariable>().Count().Should().Be(0);"
            ],
            "metadata": {},
            "execution_count": 0,
            "outputs": []
        },
        {
            "cell_type": "code",
            "source": [
                "ws.Query<IfrsVariable>().Where(x => (x.EstimateType == \"L\")).Count().Should().Be(3);"
            ],
            "metadata": {},
            "execution_count": 0,
            "outputs": []
        },
        {
            "cell_type": "code",
            "source": [
                "ws.Query<IfrsVariable>().Count().Should().Be(7);"
            ],
            "metadata": {},
            "execution_count": 0,
            "outputs": []
        },
        {
            "cell_type": "code",
            "source": [
                ""
            ],
            "metadata": {},
            "execution_count": 0,
            "outputs": []
        }
    ]
}