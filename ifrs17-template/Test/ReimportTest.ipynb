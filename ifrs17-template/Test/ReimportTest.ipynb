{
    "metadata": {
        "authors": [],
        "id": "VOS67A7-B0Omk1s4TFC3LQ",
        "kernelspec": {
            "display_name": "Formula Framework",
            "language": "C#",
            "name": "C#"
        },
        "language_info": {
            "file_extension": ".cs",
            "mimetype": "text/plain",
            "name": "C#"
        }
    },
    "nbformat": 4,
    "nbformat_minor": 5,
    "cells": [
        {
            "cell_type": "markdown",
            "source": [
                "<p style=\"font-weight:bold;\"> <span style=\"font-size: 36px\"> Reimport of Transactional Data Test</span> </p>"
            ],
            "metadata": {},
            "execution_count": 0,
            "outputs": []
        },
        {
            "cell_type": "code",
            "source": [
                "#!eval-notebook \"../Initialization/InitSystemorphBaseToMemory\""
            ],
            "metadata": {},
            "execution_count": 0,
            "outputs": []
        },
        {
            "cell_type": "markdown",
            "source": [
                "#  Definitions"
            ],
            "metadata": {},
            "execution_count": 0,
            "outputs": []
        },
        {
            "cell_type": "markdown",
            "source": [
                "## Args"
            ],
            "metadata": {},
            "execution_count": 0,
            "outputs": []
        },
        {
            "cell_type": "markdown",
            "source": [
                "Create:",
                "\n- Import args for year 2021",
                "\n- Import args for previous year",
                "\n- Partition by Reporting Node (using details from most recent args)"
            ],
            "metadata": {},
            "execution_count": 0,
            "outputs": []
        },
        {
            "cell_type": "code",
            "source": [
                "var args = new ImportArgs(\"CH\", 2021, 3, Periodicity.Quarterly, null, null);",
                "\nvar previousArgs = new ImportArgs(\"CH\", 2020, 12, Periodicity.Quarterly, null, null);",
                "\n",
                "\nvar partitionReportingNode = new PartitionByReportingNode { Id = (Guid)(await DataSource.Partition.GetKeyForInstanceAsync<PartitionByReportingNode>(args)), ReportingNode = args.ReportingNode };"
            ],
            "metadata": {},
            "execution_count": 0,
            "outputs": []
        },
        {
            "cell_type": "markdown",
            "source": [
                "## DataNodeParameter"
            ],
            "metadata": {},
            "execution_count": 0,
            "outputs": []
        },
        {
            "cell_type": "markdown",
            "source": [
                "Create 1 data node parameter"
            ],
            "metadata": {},
            "execution_count": 0,
            "outputs": []
        },
        {
            "cell_type": "code",
            "source": [
                "var dtr13IParameter = new InterDataNodeParameter{",
                "\n            Partition = partitionReportingNode.Id,",
                "\n            DataNode = \"DTR1.3\",",
                "\n            Year = args.Year,",
                "\n            Month = args.Month,",
                "\n            LinkedDataNode = \"DT1.4\",",
                "\n            ReinsuranceCoverage = 1d",
                "\n        };"
            ],
            "metadata": {},
            "execution_count": 0,
            "outputs": []
        },
        {
            "cell_type": "markdown",
            "source": [
                "## DataNodeState"
            ],
            "metadata": {},
            "execution_count": 0,
            "outputs": []
        },
        {
            "cell_type": "markdown",
            "source": [
                "Create 7 data node states:",
                "\n- dt11StatePrevious",
                "\n- dtr11StatePrevious",
                "\n- dt11State",
                "\n- dtr11State",
                "\n- dtr13StatePrevious",
                "\n- dt13State",
                "\n- dt14State"
            ],
            "metadata": {},
            "execution_count": 0,
            "outputs": []
        },
        {
            "cell_type": "code",
            "source": [
                "var dt11StatePrevious = new DataNodeState {",
                "\n            DataNode = \"DT1.1\",",
                "\n            State = State.Active,",
                "\n            Year = previousArgs.Year,",
                "\n            Month = previousArgs.Month,",
                "\n            Partition = partitionReportingNode.Id",
                "\n        };",
                "\n",
                "\nvar dtr11StatePrevious = new DataNodeState {",
                "\n            DataNode = \"DTR1.1\",",
                "\n            State = State.Active,",
                "\n            Year = previousArgs.Year,",
                "\n            Month = previousArgs.Month,",
                "\n            Partition = partitionReportingNode.Id",
                "\n        };",
                "\n",
                "\nvar dt11State = new DataNodeState {",
                "\n            DataNode = \"DT1.1\",",
                "\n            State = State.Active,",
                "\n            Year = args.Year,",
                "\n            Month = args.Month,",
                "\n            Partition = partitionReportingNode.Id",
                "\n        };",
                "\n",
                "\nvar dtr11State = new DataNodeState {",
                "\n            DataNode = \"DTR1.1\",",
                "\n            State = State.Active,",
                "\n            Year = args.Year,",
                "\n            Month = args.Month,",
                "\n            Partition = partitionReportingNode.Id",
                "\n        };",
                "\n",
                "\nvar dtr13StatePrevious = new DataNodeState {",
                "\n            DataNode = \"DTR1.3\",",
                "\n            State = State.Active,",
                "\n            Year = previousArgs.Year,",
                "\n            Month = previousArgs.Month,",
                "\n            Partition = partitionReportingNode.Id",
                "\n        };",
                "\n",
                "\nvar dt13State = new DataNodeState {",
                "\n            DataNode = \"DT1.3\",",
                "\n            State = State.Active,",
                "\n            Year = args.Year,",
                "\n            Month = args.Month,",
                "\n            Partition = partitionReportingNode.Id",
                "\n        };",
                "\n",
                "\nvar dt14State = new DataNodeState {",
                "\n            DataNode = \"DT1.4\",",
                "\n            State = State.Active,",
                "\n            Year = args.Year,",
                "\n            Month = args.Month,",
                "\n            Partition = partitionReportingNode.Id",
                "\n        };"
            ],
            "metadata": {},
            "execution_count": 0,
            "outputs": []
        },
        {
            "cell_type": "markdown",
            "source": [
                "# Reimport Openings for DataNode at Inception"
            ],
            "metadata": {},
            "execution_count": 0,
            "outputs": []
        },
        {
            "cell_type": "markdown",
            "source": [
                "Create openings for a data node at inception (DT1.1) and import more than once."
            ],
            "metadata": {},
            "execution_count": 0,
            "outputs": []
        },
        {
            "cell_type": "markdown",
            "source": [
                "## Disposable Workspace"
            ],
            "metadata": {},
            "execution_count": 0,
            "outputs": []
        },
        {
            "cell_type": "code",
            "source": [
                "var ws = Workspace.CreateNew();",
                "\nws.Initialize(x=>x.FromSource(DataSource).DisableInitialization<DataNodeState>());",
                "\nawait ws.UpdateAsync<DataNodeState>(new DataNodeState [] { // dt11StatePrevious with {State = State.Inactive},",
                "\n                                                           // dtr11StatePrevious with {State = State.Inactive},",
                "\n                                                            dt11State,",
                "\n                                                            dtr11State, // <-- linked data node",
                "\n                                                            // dtr13StatePrevious with {State = State.Inactive},",
                "\n                                                            // dt13State with {State = State.Inactive},",
                "\n                                                            // dt14State with {State = State.Inactive}",
                "\n                                                          }",
                "\n                                    );"
            ],
            "metadata": {},
            "execution_count": 0,
            "outputs": []
        },
        {
            "cell_type": "markdown",
            "source": [
                "## Import Phase"
            ],
            "metadata": {},
            "execution_count": 0,
            "outputs": []
        },
        {
            "cell_type": "code",
            "source": [
                "var openings = @\"",
                "\n@@Main,,,,",
                "\nReportingNode,Year,Month,,",
                "\nCH,2021,3,,",
                "\n@@Opening,,,,",
                "\nDataNode,EstimateType,AmountType,AccidentYear,Value",
                "\nDT1.1,C,,,72.2",
                "\nDT1.1,AA,PR,,-1.5",
                "\nDT1.1,OA,PR,,1.5",
                "\n\";"
            ],
            "metadata": {},
            "execution_count": 0,
            "outputs": []
        },
        {
            "cell_type": "code",
            "source": [
                "await Import.FromString(openings).WithFormat(ImportFormats.Opening).WithTarget(ws).ExecuteAsync()"
            ],
            "metadata": {},
            "execution_count": 0,
            "outputs": []
        },
        {
            "cell_type": "markdown",
            "source": [
                "Collect the IfrsVariable and RawVariable workspace queries after import."
            ],
            "metadata": {},
            "execution_count": 0,
            "outputs": []
        },
        {
            "cell_type": "code",
            "source": [
                "var importQueries = new { ",
                "\n    IfrsVariables = ws.Query<IfrsVariable>(), ",
                "\n    RawVariables = ws.Query<RawVariable>()",
                "\n};"
            ],
            "metadata": {},
            "execution_count": 0,
            "outputs": []
        },
        {
            "cell_type": "markdown",
            "source": [
                "## Reimport Phase"
            ],
            "metadata": {},
            "execution_count": 0,
            "outputs": []
        },
        {
            "cell_type": "code",
            "source": [
                "await Import.FromString(openings).WithFormat(ImportFormats.Opening).WithTarget(ws).ExecuteAsync()"
            ],
            "metadata": {},
            "execution_count": 0,
            "outputs": []
        },
        {
            "cell_type": "markdown",
            "source": [
                "Collect the IfrsVariable and RawVariable workspace queries after reimport."
            ],
            "metadata": {},
            "execution_count": 0,
            "outputs": []
        },
        {
            "cell_type": "code",
            "source": [
                "var reimportQueries = new { ",
                "\n    IfrsVariables = ws.Query<IfrsVariable>(), ",
                "\n    RawVariables = ws.Query<RawVariable>()",
                "\n};"
            ],
            "metadata": {},
            "execution_count": 0,
            "outputs": []
        },
        {
            "cell_type": "markdown",
            "source": [
                "## Assertions"
            ],
            "metadata": {},
            "execution_count": 0,
            "outputs": []
        },
        {
            "cell_type": "markdown",
            "source": [
                "$\\text{importQueries} \\subseteq \\text{reimportQueries} \\quad \\text{and}$",
                "\n",
                "\n$\\text{reimportQueries} \\subseteq \\text{importQueries} \\quad \\Rightarrow$ ",
                "\n",
                "\n$\\text{importQueries} = \\text{reimportQueries}$"
            ],
            "metadata": {},
            "execution_count": 0,
            "outputs": []
        },
        {
            "cell_type": "markdown",
            "source": [
                "Check for IfrsVariables"
            ],
            "metadata": {},
            "execution_count": 0,
            "outputs": []
        },
        {
            "cell_type": "code",
            "source": [
                "(   !importQueries.IfrsVariables.Except(reimportQueries.IfrsVariables, IfrsVariableComparer.Instance(ignoreValues: false)).Any() && ",
                "\n    !reimportQueries.IfrsVariables.Except(importQueries.IfrsVariables, IfrsVariableComparer.Instance(ignoreValues: false)).Any()  ).Should().Be(true);"
            ],
            "metadata": {},
            "execution_count": 0,
            "outputs": []
        },
        {
            "cell_type": "markdown",
            "source": [
                "Check for RawVariables (should be $\\emptyset$)"
            ],
            "metadata": {},
            "execution_count": 0,
            "outputs": []
        },
        {
            "cell_type": "code",
            "source": [
                "(   !importQueries.RawVariables.Except(reimportQueries.RawVariables, RawVariableComparer.Instance(ignoreValues: false)).Any() && ",
                "\n    !reimportQueries.RawVariables.Except(importQueries.RawVariables, RawVariableComparer.Instance(ignoreValues: false)).Any()  ).Should().Be(true);"
            ],
            "metadata": {},
            "execution_count": 0,
            "outputs": []
        },
        {
            "cell_type": "markdown",
            "source": [
                "# Reimport Actuals for Both: DataNode at Inception and DataNode and Not at Inception"
            ],
            "metadata": {},
            "execution_count": 0,
            "outputs": []
        },
        {
            "cell_type": "markdown",
            "source": [
                "Create an actuals file that contains data for both a data node at inception (DT1.3) and a data node not at inception (DT1.1). ",
                "\n",
                "\nImport this file more than once."
            ],
            "metadata": {},
            "execution_count": 0,
            "outputs": []
        },
        {
            "cell_type": "markdown",
            "source": [
                "## Disposable Workspace"
            ],
            "metadata": {},
            "execution_count": 0,
            "outputs": []
        },
        {
            "cell_type": "code",
            "source": [
                "var ws = Workspace.CreateNew();",
                "\nws.Initialize(x=>x.FromSource(DataSource).DisableInitialization<DataNodeState>());",
                "\nawait ws.UpdateAsync<DataNodeState>(new DataNodeState [] {  dt11StatePrevious,",
                "\n                                                            dtr11StatePrevious, // <-- linked data node",
                "\n                                                            // dt11State with {State = State.Inactive},",
                "\n                                                            // dtr11State with {State = State.Inactive},",
                "\n                                                            // dtr13StatePrevious with {State = State.Inactive},",
                "\n                                                            dt13State,",
                "\n                                                            // dt14State with {State = State.Inactive}",
                "\n                                                          }",
                "\n                                    );"
            ],
            "metadata": {},
            "execution_count": 0,
            "outputs": []
        },
        {
            "cell_type": "markdown",
            "source": [
                "## Import Phase"
            ],
            "metadata": {},
            "execution_count": 0,
            "outputs": []
        },
        {
            "cell_type": "code",
            "source": [
                "var actuals = @\"",
                "\n@@Main,,,,,",
                "\nReportingNode,Year,Month,,,",
                "\nCH,2021,3,,,",
                "\n@@Actual,,,,,",
                "\nDataNode,AocType,AmountType,EstimateType,AccidentYear,Value",
                "\nDT1.1,CF,PR,A,,90",
                "\nDT1.1,CF,ICO,A,,-6",
                "\nDT1.1,CF,NIC,A,,-70",
                "\nDT1.1,CF,ACA,A,,-10",
                "\nDT1.1,CF,AEA,A,,-5",
                "\nDT1.3,CF,PR,A,,90",
                "\nDT1.3,CF,ICO,A,,-6",
                "\nDT1.3,CF,NIC,A,,-70",
                "\nDT1.3,CF,ACA,A,,-10",
                "\nDT1.3,CF,AEA,A,,-5\";"
            ],
            "metadata": {},
            "execution_count": 0,
            "outputs": []
        },
        {
            "cell_type": "code",
            "source": [
                "await Import.FromString(actuals).WithFormat(ImportFormats.Actual).WithTarget(ws).ExecuteAsync()"
            ],
            "metadata": {},
            "execution_count": 0,
            "outputs": []
        },
        {
            "cell_type": "markdown",
            "source": [
                "Collect the IfrsVariable and RawVariable workspace queries after import."
            ],
            "metadata": {},
            "execution_count": 0,
            "outputs": []
        },
        {
            "cell_type": "code",
            "source": [
                "var importQueries = new { ",
                "\n    IfrsVariables = ws.Query<IfrsVariable>(), ",
                "\n    RawVariables = ws.Query<RawVariable>()",
                "\n};"
            ],
            "metadata": {},
            "execution_count": 0,
            "outputs": []
        },
        {
            "cell_type": "markdown",
            "source": [
                "##  Reimport Phase"
            ],
            "metadata": {},
            "execution_count": 0,
            "outputs": []
        },
        {
            "cell_type": "code",
            "source": [
                "await Import.FromString(actuals).WithFormat(ImportFormats.Actual).WithTarget(ws).ExecuteAsync();"
            ],
            "metadata": {},
            "execution_count": 0,
            "outputs": []
        },
        {
            "cell_type": "markdown",
            "source": [
                "Collect the IfrsVariable and RawVariable workspace queries after reimport."
            ],
            "metadata": {},
            "execution_count": 0,
            "outputs": []
        },
        {
            "cell_type": "code",
            "source": [
                "var reimportQueries = new { ",
                "\n    IfrsVariables = ws.Query<IfrsVariable>(), ",
                "\n    RawVariables = ws.Query<RawVariable>()",
                "\n};"
            ],
            "metadata": {},
            "execution_count": 0,
            "outputs": []
        },
        {
            "cell_type": "markdown",
            "source": [
                "## Assertions"
            ],
            "metadata": {},
            "execution_count": 0,
            "outputs": []
        },
        {
            "cell_type": "markdown",
            "source": [
                "$\\text{importQueries} \\subseteq \\text{reimportQueries} \\quad \\text{and}$",
                "\n",
                "\n$\\text{reimportQueries} \\subseteq \\text{importQueries} \\quad \\Rightarrow$ ",
                "\n",
                "\n$\\text{importQueries} = \\text{reimportQueries}$"
            ],
            "metadata": {},
            "execution_count": 0,
            "outputs": []
        },
        {
            "cell_type": "markdown",
            "source": [
                "Check for IfrsVariables"
            ],
            "metadata": {},
            "execution_count": 0,
            "outputs": []
        },
        {
            "cell_type": "code",
            "source": [
                "(   !importQueries.IfrsVariables.Except(reimportQueries.IfrsVariables, IfrsVariableComparer.Instance(ignoreValues: false)).Any() && ",
                "\n    !reimportQueries.IfrsVariables.Except(importQueries.IfrsVariables, IfrsVariableComparer.Instance(ignoreValues: false)).Any()  ).Should().Be(true);"
            ],
            "metadata": {},
            "execution_count": 0,
            "outputs": []
        },
        {
            "cell_type": "markdown",
            "source": [
                "Check for RawVariables"
            ],
            "metadata": {},
            "execution_count": 0,
            "outputs": []
        },
        {
            "cell_type": "code",
            "source": [
                "(   !importQueries.RawVariables.Except(reimportQueries.RawVariables, RawVariableComparer.Instance(ignoreValues: false)).Any() && ",
                "\n    !reimportQueries.RawVariables.Except(importQueries.RawVariables, RawVariableComparer.Instance(ignoreValues: false)).Any()  ).Should().Be(true);"
            ],
            "metadata": {},
            "execution_count": 0,
            "outputs": []
        },
        {
            "cell_type": "markdown",
            "source": [
                "# Import Actuals for Pre-exisitng Reinsurance, Openings for Linked Insurance and Cashflows for the Reinsurance"
            ],
            "metadata": {},
            "execution_count": 0,
            "outputs": []
        },
        {
            "cell_type": "markdown",
            "source": [
                "Consider one GRIC (DTR1.3) that is linked to one GIC (DT1.4). The GRIC already existed the previous year, while the GIC is at inception.",
                "\n- Import data for the GRIC in the previous period.",
                "\n- Import Openings for the GIC in the current period.",
                "\n- Import Cashflows for the GRIC in the current period."
            ],
            "metadata": {},
            "execution_count": 0,
            "outputs": []
        },
        {
            "cell_type": "markdown",
            "source": [
                "## Disposable Workspace"
            ],
            "metadata": {},
            "execution_count": 0,
            "outputs": []
        },
        {
            "cell_type": "code",
            "source": [
                "var ws = Workspace.CreateNew();",
                "\nws.Initialize(x=>x.FromSource(DataSource).DisableInitialization<DataNodeState>().DisableInitialization<DataNodeParameter>().DisableInitialization<InterDataNodeParameter>());",
                "\nawait ws.UpdateAsync<DataNodeState>(new DataNodeState [] {  // dt11StatePrevious with {State = State.Inactive},",
                "\n                                                            // dtr11StatePrevious with {State = State.Inactive},",
                "\n                                                            // dt11State with {State = State.Inactive},",
                "\n                                                            // dtr11State with {State = State.Inactive},",
                "\n                                                            dtr13StatePrevious,",
                "\n                                                            // dt13State with {State = State.Inactive},",
                "\n                                                            dt14State",
                "\n                                                          }",
                "\n                                    );",
                "\nawait ws.UpdateAsync<InterDataNodeParameter>(new InterDataNodeParameter [] { ",
                "\n                                                                              dtr13IParameter",
                "\n                                                                           }",
                "\n                                             );"
            ],
            "metadata": {},
            "execution_count": 0,
            "outputs": []
        },
        {
            "cell_type": "markdown",
            "source": [
                "## Import Sequence Phase"
            ],
            "metadata": {},
            "execution_count": 0,
            "outputs": []
        },
        {
            "cell_type": "markdown",
            "source": [
                "### Import Actuals for the GRIC in the Previous Period"
            ],
            "metadata": {},
            "execution_count": 0,
            "outputs": []
        },
        {
            "cell_type": "code",
            "source": [
                "var actuals = @\"",
                "\n@@Main,,,,,",
                "\nReportingNode,Year,Month,,,",
                "\nCH,2020,12,,,",
                "\n@@Actual,,,,,",
                "\nDataNode,AocType,AmountType,EstimateType,AccidentYear,Value",
                "\nDTR1.3,CF,PR,AA,,1\";"
            ],
            "metadata": {},
            "execution_count": 0,
            "outputs": []
        },
        {
            "cell_type": "code",
            "source": [
                "await Import.FromString(actuals).WithFormat(ImportFormats.Actual).WithTarget(ws).ExecuteAsync()"
            ],
            "metadata": {},
            "execution_count": 0,
            "outputs": []
        },
        {
            "cell_type": "markdown",
            "source": [
                "### Assertions"
            ],
            "metadata": {},
            "execution_count": 0,
            "outputs": []
        },
        {
            "cell_type": "code",
            "source": [
                "var rvAfterActuals = ws.Query<RawVariable>();"
            ],
            "metadata": {},
            "execution_count": 0,
            "outputs": []
        },
        {
            "cell_type": "code",
            "source": [
                "var ivAfterActuals = ws.Query<IfrsVariable>().Where(x => (x.EstimateType == \"AA\" && x.AmountType == \"PR\" && x.AocType == \"CF\" && x.Novelty == \"C\")",
                "\n                                                                || (x.EstimateType == \"AA\" && x.AmountType == \"PR\" && x.AocType == \"EOP\" && x.Novelty == \"C\"));"
            ],
            "metadata": {},
            "execution_count": 0,
            "outputs": []
        },
        {
            "cell_type": "code",
            "source": [
                "rvAfterActuals.Count().Should().Be(0);"
            ],
            "metadata": {},
            "execution_count": 0,
            "outputs": []
        },
        {
            "cell_type": "code",
            "source": [
                "ivAfterActuals.Count().Should().Be(2);"
            ],
            "metadata": {},
            "execution_count": 0,
            "outputs": []
        },
        {
            "cell_type": "markdown",
            "source": [
                "### Import Openings for the GIC in the Current Period"
            ],
            "metadata": {},
            "execution_count": 0,
            "outputs": []
        },
        {
            "cell_type": "code",
            "source": [
                "var openings = @\"",
                "\n@@Main",
                "\nReportingNode,Year,Month,,",
                "\nCH,2021,3,,",
                "\n@@Opening",
                "\nDataNode,EstimateType,AmountType,AccidentYear,Value",
                "\nDT1.4,C,,,1\";"
            ],
            "metadata": {},
            "execution_count": 0,
            "outputs": []
        },
        {
            "cell_type": "code",
            "source": [
                "await Import.FromString(openings).WithFormat(ImportFormats.Opening).WithTarget(ws).ExecuteAsync()"
            ],
            "metadata": {},
            "execution_count": 0,
            "outputs": []
        },
        {
            "cell_type": "markdown",
            "source": [
                "### Assertions"
            ],
            "metadata": {},
            "execution_count": 0,
            "outputs": []
        },
        {
            "cell_type": "code",
            "source": [
                "var rvAfterActuals = ws.Query<RawVariable>();"
            ],
            "metadata": {},
            "execution_count": 0,
            "outputs": []
        },
        {
            "cell_type": "code",
            "source": [
                "var ivAfterOpenings = ws.Query<IfrsVariable>().Where(x => (x.EstimateType == \"C\" && x.AocType == \"EOP\" && x.DataNode == \"DT1.4\" && x.Novelty == \"C\")",
                "\n                                            || (x.EstimateType == \"C\" && x.AocType == \"BOP\" && x.DataNode == \"DT1.4\" && x.Novelty == \"I\")",
                "\n                                            || (x.EstimateType == \"C\" && x.AocType == \"IA\" && x.DataNode == \"DT1.4\" && x.Novelty == \"I\")",
                "\n                                            || (x.EstimateType == \"AA\" && x.AmountType == \"PR\" && x.AocType == \"EOP\" && x.DataNode == \"DTR1.3\" && x.Novelty == \"C\")",
                "\n                                            || (x.EstimateType == \"AA\" && x.AmountType == \"PR\" && x.AocType == \"BOP\" && x.DataNode == \"DTR1.3\" && x.Novelty == \"I\"));"
            ],
            "metadata": {},
            "execution_count": 0,
            "outputs": []
        },
        {
            "cell_type": "code",
            "source": [
                "rvAfterActuals.Count().Should().Be(0);"
            ],
            "metadata": {},
            "execution_count": 0,
            "outputs": []
        },
        {
            "cell_type": "code",
            "source": [
                "ivAfterOpenings.Count().Should().Be(5);"
            ],
            "metadata": {},
            "execution_count": 0,
            "outputs": []
        },
        {
            "cell_type": "markdown",
            "source": [
                "### Import Cashflows for the GRIC in the Current Period"
            ],
            "metadata": {},
            "execution_count": 0,
            "outputs": []
        },
        {
            "cell_type": "code",
            "source": [
                "var cashflows = @\"",
                "\n@@Main,,,,,,,,,,,,,,,,,,,,,,,,,,,,,",
                "\nReportingNode,Year,Month,Scenario,,,,,,,,,,,,,,,,,,,,,,,,,,",
                "\nCH,2021,3,,,,,,,,,,,,,,,,,,,,,,,,,,,",
                "\n@@Cashflow,,,,,,,,,,,,,,,,,,,,,,,,,,,,,",
                "\nDataNode,AmountType,EstimateType,AocType,Novelty,AccidentYear,Values0,Values1,Values2,Values3,Values4,Values5,Values6,Values7,Values8,Values9,Values10,Values11,Values12,Values13,Values14,Values15,Values16,Values17,Values18,Values19,Values20,Values21,Values22,Values23",
                "\nDTR1.3,PR,AA,CL,C,,100,0,0,100,0,0,100,0,0,100,0,0,0,100,0,0,100,0,0,100,0,0,100,0\";"
            ],
            "metadata": {},
            "execution_count": 0,
            "outputs": []
        },
        {
            "cell_type": "code",
            "source": [
                "await Import.FromString(cashflows).WithFormat(ImportFormats.Cashflow).WithTarget(ws).ExecuteAsync()"
            ],
            "metadata": {},
            "execution_count": 0,
            "outputs": []
        },
        {
            "cell_type": "markdown",
            "source": [
                "### Assertions"
            ],
            "metadata": {},
            "execution_count": 0,
            "outputs": []
        },
        {
            "cell_type": "code",
            "source": [
                "var rvAfterCashflows = ws.Query<RawVariable>().Where(x => (x.EstimateType == \"AA\" && x.AmountType == \"PR\" && x.AocType == \"CL\" && x.DataNode == \"DTR1.3\" && x.Novelty == \"C\"));"
            ],
            "metadata": {},
            "execution_count": 0,
            "outputs": []
        },
        {
            "cell_type": "code",
            "source": [
                "var ivAfterCashflows = ws.Query<IfrsVariable>().Where(x => (x.EstimateType == \"C\" && x.AocType == \"EOP\" && x.DataNode == \"DT1.4\" && x.Novelty == \"C\")",
                "\n                                            || (x.EstimateType == \"C\" && x.AocType == \"BOP\" && x.DataNode == \"DT1.4\" && x.Novelty == \"I\")",
                "\n                                            || (x.EstimateType == \"C\" && x.AocType == \"IA\" && x.DataNode == \"DT1.4\" && x.Novelty == \"I\")",
                "\n                                            || (x.EstimateType == \"AA\" && x.AmountType == \"PR\" && x.AocType == \"EOP\" && x.DataNode == \"DTR1.3\" && x.Novelty == \"C\")",
                "\n                                            || (x.EstimateType == \"AA\" && x.AmountType == \"PR\" && x.AocType == \"BOP\" && x.DataNode == \"DTR1.3\" && x.Novelty == \"I\")",
                "\n                                            || (x.EconomicBasis == \"L\" && x.EstimateType == \"F\" && x.AocType == \"AM\" && x.DataNode == \"DTR1.3\" && x.Novelty == \"C\"));"
            ],
            "metadata": {},
            "execution_count": 0,
            "outputs": []
        },
        {
            "cell_type": "code",
            "source": [
                "rvAfterCashflows.Count().Should().Be(1);"
            ],
            "metadata": {},
            "execution_count": 0,
            "outputs": []
        },
        {
            "cell_type": "code",
            "source": [
                "ivAfterCashflows.Count().Should().Be(6);"
            ],
            "metadata": {},
            "execution_count": 0,
            "outputs": []
        },
        {
            "cell_type": "markdown",
            "source": [
                "# Import Cashflows for Pre-exisitng Reinsurance, Openings for Linked Insurance and Cashflows for the Reinsurance"
            ],
            "metadata": {},
            "execution_count": 0,
            "outputs": []
        },
        {
            "cell_type": "markdown",
            "source": [
                "Consider one GRIC (DTR1.3) that is linked to one GIC (DT1.4). The GRIC already existed the previous year, while the GIC is at inception.",
                "\n- Import Cashflows for the GRIC in the previous period.",
                "\n- Import Openings for the GIC in the current period.",
                "\n- Import Cashflows for the GRIC in the current period."
            ],
            "metadata": {},
            "execution_count": 0,
            "outputs": []
        },
        {
            "cell_type": "markdown",
            "source": [
                "## Disposable Workspace"
            ],
            "metadata": {},
            "execution_count": 0,
            "outputs": []
        },
        {
            "cell_type": "code",
            "source": [
                "var ws = Workspace.CreateNew();",
                "\nws.Initialize(x=>x.FromSource(DataSource).DisableInitialization<DataNodeState>().DisableInitialization<DataNodeParameter>().DisableInitialization<InterDataNodeParameter>());",
                "\nawait ws.UpdateAsync<DataNodeState>(new DataNodeState [] {  // dt11StatePrevious with {State = State.Inactive},",
                "\n                                                            // dtr11StatePrevious with {State = State.Inactive},",
                "\n                                                            // dt11State with {State = State.Inactive},",
                "\n                                                            // dtr11State with {State = State.Inactive},",
                "\n                                                            dtr13StatePrevious,",
                "\n                                                            // dt13State with {State = State.Inactive},",
                "\n                                                            dt14State",
                "\n                                                          }",
                "\n                                    );",
                "\nawait ws.UpdateAsync<InterDataNodeParameter>(new InterDataNodeParameter [] { ",
                "\n                                                                              dtr13IParameter",
                "\n                                                                           }",
                "\n                                             );"
            ],
            "metadata": {},
            "execution_count": 0,
            "outputs": []
        },
        {
            "cell_type": "markdown",
            "source": [
                "## Import Sequence Phase"
            ],
            "metadata": {},
            "execution_count": 0,
            "outputs": []
        },
        {
            "cell_type": "markdown",
            "source": [
                "### Import Cashflows for the GRIC in the Previous Period"
            ],
            "metadata": {},
            "execution_count": 0,
            "outputs": []
        },
        {
            "cell_type": "code",
            "source": [
                "var cashflows = @\"",
                "\n@@Main,,,,,,,,,,,,,,,,,,,,,,,,,,,,,",
                "\nReportingNode,Year,Month,Scenario,,,,,,,,,,,,,,,,,,,,,,,,,,",
                "\nCH,2020,12,,,,,,,,,,,,,,,,,,,,,,,,,,,",
                "\n@@Cashflow,,,,,,,,,,,,,,,,,,,,,,,,,,,,,",
                "\nDataNode,AmountType,EstimateType,AocType,Novelty,AccidentYear,Values0,Values1,Values2,Values3,Values4,Values5,Values6,Values7,Values8,Values9,Values10,Values11,Values12,Values13,Values14,Values15,Values16,Values17,Values18,Values19,Values20,Values21,Values22,Values23",
                "\nDTR1.3,PR,AA,CL,C,,100,0,0,100,0,0,100,0,0,100,0,0,0,100,0,0,100,0,0,100,0,0,100,0\";"
            ],
            "metadata": {},
            "execution_count": 0,
            "outputs": []
        },
        {
            "cell_type": "code",
            "source": [
                "await Import.FromString(cashflows).WithFormat(ImportFormats.Cashflow).WithTarget(ws).ExecuteAsync()"
            ],
            "metadata": {},
            "execution_count": 0,
            "outputs": []
        },
        {
            "cell_type": "markdown",
            "source": [
                "### Assertions"
            ],
            "metadata": {},
            "execution_count": 0,
            "outputs": []
        },
        {
            "cell_type": "code",
            "source": [
                "var rvAfterCashflows = ws.Query<RawVariable>().Where(x => (x.EstimateType == \"AA\" && x.AmountType == \"PR\" && x.AocType == \"CL\" && x.Novelty == \"C\"));"
            ],
            "metadata": {},
            "execution_count": 0,
            "outputs": []
        },
        {
            "cell_type": "code",
            "source": [
                "var ivAfterCashflows = ws.Query<IfrsVariable>().Where(x => (x.EstimateType == \"F\" && x.AocType == \"AM\" && x.Novelty == \"C\"));"
            ],
            "metadata": {},
            "execution_count": 0,
            "outputs": []
        },
        {
            "cell_type": "code",
            "source": [
                "rvAfterCashflows.Count().Should().Be(1);"
            ],
            "metadata": {},
            "execution_count": 0,
            "outputs": []
        },
        {
            "cell_type": "code",
            "source": [
                "ivAfterCashflows.Count().Should().Be(1);"
            ],
            "metadata": {},
            "execution_count": 0,
            "outputs": []
        },
        {
            "cell_type": "markdown",
            "source": [
                "### Import Openings for the GIC in the Current Period"
            ],
            "metadata": {},
            "execution_count": 0,
            "outputs": []
        },
        {
            "cell_type": "code",
            "source": [
                "var openings = @\"",
                "\n@@Main",
                "\nReportingNode,Year,Month,,",
                "\nCH,2021,3,,",
                "\n@@Opening",
                "\nDataNode,EstimateType,AmountType,AccidentYear,Value",
                "\nDT1.4,C,,,1\";"
            ],
            "metadata": {},
            "execution_count": 0,
            "outputs": []
        },
        {
            "cell_type": "code",
            "source": [
                "await Import.FromString(openings).WithFormat(ImportFormats.Opening).WithTarget(ws).ExecuteAsync()"
            ],
            "metadata": {},
            "execution_count": 0,
            "outputs": []
        },
        {
            "cell_type": "markdown",
            "source": [
                "### Assertions"
            ],
            "metadata": {},
            "execution_count": 0,
            "outputs": []
        },
        {
            "cell_type": "code",
            "source": [
                "var rvAfterOpenings = ws.Query<RawVariable>();"
            ],
            "metadata": {},
            "execution_count": 0,
            "outputs": []
        },
        {
            "cell_type": "code",
            "source": [
                "var ivAfterOpenings = ws.Query<IfrsVariable>().Where(x => (x.EstimateType == \"C\" && x.AocType == \"EOP\" && x.DataNode == \"DT1.4\" && x.Novelty == \"C\")",
                "\n                                            || (x.EstimateType == \"C\" && x.AocType == \"BOP\" && x.DataNode == \"DT1.4\" && x.Novelty == \"I\")",
                "\n                                            || (x.EstimateType == \"C\" && x.AocType == \"IA\" && x.DataNode == \"DT1.4\" && x.Novelty == \"I\"));"
            ],
            "metadata": {},
            "execution_count": 0,
            "outputs": []
        },
        {
            "cell_type": "code",
            "source": [
                "ivAfterOpenings.Count().Should().Be(3);"
            ],
            "metadata": {},
            "execution_count": 0,
            "outputs": []
        },
        {
            "cell_type": "code",
            "source": [
                "rvAfterOpenings.Count().Should().Be(0); //SUSPICOUS"
            ],
            "metadata": {},
            "execution_count": 0,
            "outputs": []
        },
        {
            "cell_type": "markdown",
            "source": [
                "### Import Cashflows for the GRIC in the Current Period"
            ],
            "metadata": {},
            "execution_count": 0,
            "outputs": []
        },
        {
            "cell_type": "code",
            "source": [
                "var cashflows = @\"",
                "\n@@Main,,,,,,,,,,,,,,,,,,,,,,,,,,,,,",
                "\nReportingNode,Year,Month,Scenario,,,,,,,,,,,,,,,,,,,,,,,,,,",
                "\nCH,2021,3,,,,,,,,,,,,,,,,,,,,,,,,,,,",
                "\n@@Cashflow,,,,,,,,,,,,,,,,,,,,,,,,,,,,,",
                "\nDataNode,AmountType,EstimateType,AocType,Novelty,AccidentYear,Values0,Values1,Values2,Values3,Values4,Values5,Values6,Values7,Values8,Values9,Values10,Values11,Values12,Values13,Values14,Values15,Values16,Values17,Values18,Values19,Values20,Values21,Values22,Values23",
                "\nDTR1.3,PR,AA,CL,C,,100,0,0,100,0,0,100,0,0,100,0,0,0,100,0,0,100,0,0,100,0,0,100,0\";"
            ],
            "metadata": {},
            "execution_count": 0,
            "outputs": []
        },
        {
            "cell_type": "code",
            "source": [
                "await Import.FromString(cashflows).WithFormat(ImportFormats.Cashflow).WithTarget(ws).ExecuteAsync()"
            ],
            "metadata": {},
            "execution_count": 0,
            "outputs": []
        },
        {
            "cell_type": "markdown",
            "source": [
                "### Assertions"
            ],
            "metadata": {},
            "execution_count": 0,
            "outputs": []
        },
        {
            "cell_type": "code",
            "source": [
                "var rvAfterCashflows = ws.Query<RawVariable>().Where(x => (x.EstimateType == \"AA\" && x.AmountType == \"PR\" && x.AocType == \"CL\" && x.DataNode == \"DTR1.3\" && x.Novelty == \"C\"));"
            ],
            "metadata": {},
            "execution_count": 0,
            "outputs": []
        },
        {
            "cell_type": "code",
            "source": [
                "var ivAfterCashflows = ws.Query<IfrsVariable>().Where(x => (x.EstimateType == \"C\" && x.AocType == \"EOP\" && x.DataNode == \"DT1.4\" && x.Novelty == \"C\")",
                "\n                                            || (x.EstimateType == \"C\" && x.AocType == \"BOP\" && x.DataNode == \"DT1.4\" && x.Novelty == \"I\")",
                "\n                                            || (x.EstimateType == \"C\" && x.AocType == \"IA\" && x.DataNode == \"DT1.4\" && x.Novelty == \"I\")",
                "\n                                            || (x.EconomicBasis == \"L\" && x.EstimateType == \"F\" && x.AocType == \"AM\" && x.DataNode == \"DTR1.3\" && x.Novelty == \"C\"));"
            ],
            "metadata": {},
            "execution_count": 0,
            "outputs": []
        },
        {
            "cell_type": "code",
            "source": [
                "rvAfterCashflows.Count().Should().Be(1);"
            ],
            "metadata": {},
            "execution_count": 0,
            "outputs": []
        },
        {
            "cell_type": "code",
            "source": [
                "ivAfterCashflows.Count().Should().Be(4);"
            ],
            "metadata": {},
            "execution_count": 0,
            "outputs": []
        },
        {
            "cell_type": "markdown",
            "source": [
                "# Import Modified Openings with CSM Deletion and LC Addition for DataNode at Inception"
            ],
            "metadata": {},
            "execution_count": 0,
            "outputs": []
        },
        {
            "cell_type": "markdown",
            "source": [
                "Create openings for a data node at inception (DT1.1) and import. ",
                "\n",
                "\nImport again with the difference that CSM has been deleted and LC (for the same DataNode) has been added."
            ],
            "metadata": {},
            "execution_count": 0,
            "outputs": []
        },
        {
            "cell_type": "markdown",
            "source": [
                "## Disposable Workspace"
            ],
            "metadata": {},
            "execution_count": 0,
            "outputs": []
        },
        {
            "cell_type": "code",
            "source": [
                "var ws = Workspace.CreateNew();",
                "\nws.Initialize(x=>x.FromSource(DataSource).DisableInitialization<DataNodeState>());",
                "\nawait ws.UpdateAsync<DataNodeState>(new DataNodeState [] { //dt11StatePrevious with {State = State.Inactive},",
                "\n                                                            //dtr11StatePrevious with {State = State.Inactive},",
                "\n                                                            dt11State,",
                "\n                                                            dtr11State,",
                "\n                                                            // dtr13StatePrevious with {State = State.Inactive},",
                "\n                                                            // dt13State with {State = State.Inactive},",
                "\n                                                            // dt14State with {State = State.Inactive}",
                "\n                                                          }",
                "\n                                    );"
            ],
            "metadata": {},
            "execution_count": 0,
            "outputs": []
        },
        {
            "cell_type": "code",
            "source": [
                "var openings = @\"",
                "\n@@Main,,,,",
                "\nReportingNode,Year,Month,,",
                "\nCH,2021,3,,",
                "\n@@Opening,,,,",
                "\nDataNode,EstimateType,AmountType,AccidentYear,Value",
                "\nDT1.1,C,,,72.2",
                "\nDT1.1,AA,PR,,-1.5",
                "\nDT1.1,OA,PR,,1.5",
                "\n\";"
            ],
            "metadata": {},
            "execution_count": 0,
            "outputs": []
        },
        {
            "cell_type": "markdown",
            "source": [
                "## Import Phase"
            ],
            "metadata": {},
            "execution_count": 0,
            "outputs": []
        },
        {
            "cell_type": "code",
            "source": [
                "await Import.FromString(openings).WithFormat(ImportFormats.Opening).WithTarget(ws).ExecuteAsync()"
            ],
            "metadata": {},
            "execution_count": 0,
            "outputs": []
        },
        {
            "cell_type": "markdown",
            "source": [
                "Collect the IfrsVariable and RawVariable workspace queries after import."
            ],
            "metadata": {},
            "execution_count": 0,
            "outputs": []
        },
        {
            "cell_type": "code",
            "source": [
                "var importQueries = new { ",
                "\n    IfrsVariables = ws.Query<IfrsVariable>(), ",
                "\n    RawVariables = ws.Query<RawVariable>()",
                "\n};"
            ],
            "metadata": {},
            "execution_count": 0,
            "outputs": []
        },
        {
            "cell_type": "code",
            "source": [
                "var openings = @\"",
                "\n@@Main,,,,",
                "\nReportingNode,Year,Month,,",
                "\nCH,2021,3,,",
                "\n@@Opening,,,,",
                "\nDataNode,EstimateType,AmountType,AccidentYear,Value",
                "\nDT1.1,L,,,72.2",
                "\nDT1.1,AA,PR,,-1.5",
                "\nDT1.1,OA,PR,,1.5",
                "\n\";"
            ],
            "metadata": {},
            "execution_count": 0,
            "outputs": []
        },
        {
            "cell_type": "markdown",
            "source": [
                "## Reimport Phase"
            ],
            "metadata": {},
            "execution_count": 0,
            "outputs": []
        },
        {
            "cell_type": "code",
            "source": [
                "await Import.FromString(openings).WithFormat(ImportFormats.Opening).WithTarget(ws).ExecuteAsync()"
            ],
            "metadata": {},
            "execution_count": 0,
            "outputs": []
        },
        {
            "cell_type": "markdown",
            "source": [
                "Collect the IfrsVariable and RawVariable workspace queries after reimport."
            ],
            "metadata": {},
            "execution_count": 0,
            "outputs": []
        },
        {
            "cell_type": "code",
            "source": [
                "var reimportQueries = new { ",
                "\n    IfrsVariables = ws.Query<IfrsVariable>(), ",
                "\n    RawVariables = ws.Query<RawVariable>()",
                "\n};"
            ],
            "metadata": {},
            "execution_count": 0,
            "outputs": []
        },
        {
            "cell_type": "markdown",
            "source": [
                "## Assertions"
            ],
            "metadata": {},
            "execution_count": 0,
            "outputs": []
        },
        {
            "cell_type": "markdown",
            "source": [
                "$\\text{importQueries} \\subseteq \\text{reimportQueries} \\quad \\text{and}$",
                "\n",
                "\n$\\text{reimportQueries} \\subseteq \\text{importQueries} \\quad \\Rightarrow$ ",
                "\n",
                "\n$\\text{importQueries} = \\text{reimportQueries}$"
            ],
            "metadata": {},
            "execution_count": 0,
            "outputs": []
        },
        {
            "cell_type": "markdown",
            "source": [
                "Check IfrsVariables"
            ],
            "metadata": {},
            "execution_count": 0,
            "outputs": []
        },
        {
            "cell_type": "code",
            "source": [
                "(   !importQueries.IfrsVariables.Except(reimportQueries.IfrsVariables, IfrsVariableComparer.Instance(ignoreValues: false)).Any() && ",
                "\n    !reimportQueries.IfrsVariables.Except(importQueries.IfrsVariables, IfrsVariableComparer.Instance(ignoreValues: false)).Any()  ).Should().Be(true);"
            ],
            "metadata": {},
            "execution_count": 0,
            "outputs": []
        },
        {
            "cell_type": "markdown",
            "source": [
                "Check RawVariables"
            ],
            "metadata": {},
            "execution_count": 0,
            "outputs": []
        },
        {
            "cell_type": "code",
            "source": [
                "(   !importQueries.RawVariables.Except(reimportQueries.RawVariables, RawVariableComparer.Instance(ignoreValues: false)).Any() && ",
                "\n    !reimportQueries.RawVariables.Except(importQueries.RawVariables, RawVariableComparer.Instance(ignoreValues: false)).Any()  ).Should().Be(true);"
            ],
            "metadata": {},
            "execution_count": 0,
            "outputs": []
        },
        {
            "cell_type": "code",
            "source": [
                ""
            ],
            "metadata": {},
            "execution_count": 0,
            "outputs": []
        }
    ]
}