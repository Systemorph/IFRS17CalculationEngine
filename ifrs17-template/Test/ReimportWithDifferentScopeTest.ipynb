{
    "metadata": {
        "authors": [],
        "id": "MW1tEAQXFUyIZF05Nm_9sw",
        "kernelspec": {
            "display_name": "Formula Framework",
            "language": "C#",
            "name": "C#"
        },
        "language_info": {
            "file_extension": ".cs",
            "mimetype": "text/plain",
            "name": "C#"
        }
    },
    "nbformat": 4,
    "nbformat_minor": 5,
    "cells": [
        {
            "cell_type": "markdown",
            "source": [
                "<p style=\"font-weight:bold;\"> <span style=\"font-size: 36px\"> Reimport With Different Scope Test </span> </p>"
            ],
            "metadata": {},
            "execution_count": 0,
            "outputs": []
        },
        {
            "cell_type": "code",
            "source": [
                "//#!eval-notebook \"../Initialization/InitSystemorphBaseToMemory\""
            ],
            "metadata": {},
            "execution_count": 0,
            "outputs": []
        },
        {
            "cell_type": "code",
            "source": [
                "var ws = Workspace.CreateNew();",
                "\nws.InitializeFrom(DataSource);"
            ],
            "metadata": {},
            "execution_count": 0,
            "outputs": []
        },
        {
            "cell_type": "markdown",
            "source": [
                "# Cash flow Import",
                "\n",
                "\nImporting a file with N GICs and GRICs."
            ],
            "metadata": {},
            "execution_count": 0,
            "outputs": []
        },
        {
            "cell_type": "code",
            "source": [
                "await Import.FromFile(\"../Files/TransactionalData/NominalCashflows_CH_2020_12.csv\")",
                "\n    .WithFormat(ImportFormats.Cashflow)",
                "\n    .WithTarget(ws)",
                "\n    .WithActivityLog()",
                "\n    .ExecuteAsync()"
            ],
            "metadata": {},
            "execution_count": 0,
            "outputs": []
        },
        {
            "cell_type": "code",
            "source": [
                "var ifrsVars1 = await ws.Query<IfrsVariable>().ToArrayAsync();",
                "\nvar dn1 = ifrsVars1.Select(x => x.DataNode).ToHashSet();",
                "\nvar dt11Prem1 = ifrsVars1.Where(x => x.DataNode == \"DT1.1\" && x.AmountType == \"PR\");",
                "\n(ifrsVars1.Count(), dn1.Count(), dt11Prem1.Count())"
            ],
            "metadata": {},
            "execution_count": 0,
            "outputs": []
        },
        {
            "cell_type": "markdown",
            "source": [
                "# Cash flow Import - restatement",
                "\nImporting a file for the same period as previous import but it only contains 1 GIC: DT1.1 where one amount type (Premium) has been removed"
            ],
            "metadata": {},
            "execution_count": 0,
            "outputs": []
        },
        {
            "cell_type": "code",
            "source": [
                "await Import.FromFile(\"Data/NominalCashflows_CH_2020_12_DT1.1NoPrem.csv\")",
                "\n    .WithFormat(ImportFormats.Cashflow)",
                "\n    .WithTarget(ws)",
                "\n    .WithActivityLog()",
                "\n    .ExecuteAsync()"
            ],
            "metadata": {},
            "execution_count": 0,
            "outputs": []
        },
        {
            "cell_type": "code",
            "source": [
                "var ifrsVars2 = await ws.Query<IfrsVariable>().ToArrayAsync();",
                "\nvar dn2 = ifrsVars2.Select(x => x.DataNode).ToHashSet();",
                "\nvar dt11Prem2 = ifrsVars2.Where(x => x.DataNode == \"DT1.1\" && x.AmountType == \"PR\");",
                "\n(ifrsVars2.Count(), dn2.Count(), dt11Prem2.Count())"
            ],
            "metadata": {},
            "execution_count": 0,
            "outputs": []
        },
        {
            "cell_type": "markdown",
            "source": [
                "# Test"
            ],
            "metadata": {},
            "execution_count": 0,
            "outputs": []
        },
        {
            "cell_type": "markdown",
            "source": [
                "## Import generate variables"
            ],
            "metadata": {},
            "execution_count": 0,
            "outputs": []
        },
        {
            "cell_type": "code",
            "source": [
                "ifrsVars1.Count().Should().NotBe(0);"
            ],
            "metadata": {},
            "execution_count": 0,
            "outputs": []
        },
        {
            "cell_type": "code",
            "source": [
                "ifrsVars2.Count().Should().NotBe(0);"
            ],
            "metadata": {},
            "execution_count": 0,
            "outputs": []
        },
        {
            "cell_type": "markdown",
            "source": [
                "## Count of data nodes does not change"
            ],
            "metadata": {},
            "execution_count": 0,
            "outputs": []
        },
        {
            "cell_type": "code",
            "source": [
                "dn2.Count().Should().Be(dn1.Count());"
            ],
            "metadata": {},
            "execution_count": 0,
            "outputs": []
        },
        {
            "cell_type": "markdown",
            "source": [
                "## Premiums are present with the first import and then deleted"
            ],
            "metadata": {},
            "execution_count": 0,
            "outputs": []
        },
        {
            "cell_type": "code",
            "source": [
                "dt11Prem1.Count().Should().NotBe(0);"
            ],
            "metadata": {},
            "execution_count": 0,
            "outputs": []
        },
        {
            "cell_type": "code",
            "source": [
                "dt11Prem2.Count().Should().Be(0);"
            ],
            "metadata": {},
            "execution_count": 0,
            "outputs": []
        },
        {
            "cell_type": "code",
            "source": [
                "ws.Dispose();"
            ],
            "metadata": {},
            "execution_count": 0,
            "outputs": []
        },
        {
            "cell_type": "code",
            "source": [
                "public async Task ReimportWithDifferentScopeTest(){",
                "\n    var workspace = Workspace.CreateNew();",
                "\n    workspace.InitializeFrom(DataSource);",
                "\n    var import1 = await Import.FromFile(\"../Files/TransactionalData/NominalCashflows_CH_2020_12.csv\")",
                "\n                            .WithFormat(ImportFormats.Cashflow)",
                "\n                            .WithTarget(workspace)",
                "\n                            .WithActivityLog()",
                "\n                            .ExecuteAsync();",
                "\n    import1.Status.Should().Be(ActivityLogStatus.Succeeded);",
                "\n    var ifrsVars1 = await workspaceg.Query<IfrsVariable>().ToArrayAsync();",
                "\n    var dn1 = ifrsVars1.Select(x => x.DataNode).ToHashSet();",
                "\n    var dt11Prem1 = ifrsVars1.Where(x => x.DataNode == \"DT1.1\" && x.AmountType == \"PR\");",
                "\n    ifrsVars1.Count().Should().NotBe(0);",
                "\n    dt11Prem1.Count().Should().Be(0);",
                "\n    var import2 = await Import.FromFile(\"Data/NominalCashflows_CH_2020_12_DT1.1NoPrem.csv\")",
                "\n                            .WithFormat(ImportFormats.Cashflow)",
                "\n                            .WithTarget(workspace)",
                "\n                            .WithActivityLog()",
                "\n                            .ExecuteAsync();",
                "\n    import2.Status.Should().Be(ActivityLogStatus.Succeeded);",
                "\n    var ifrsVars2 = await workspace.Query<IfrsVariable>().ToArrayAsync();",
                "\n    var dn2 = ifrsVars2.Select(x => x.DataNode).ToHashSet();",
                "\n    var dt11Prem2 = ifrsVars2.Where(x => x.DataNode == \"DT1.1\" && x.AmountType == \"PR\");",
                "\n    ifrsVars2.Count().Should().NotBe(0);",
                "\n    dt11Prem2.Count().Should().Be(0);",
                "\n    dn1.Count().Should().Be(dn2.Count());",
                "\n    workspace.Dispose();",
                "\n} "
            ],
            "metadata": {},
            "execution_count": 0,
            "outputs": []
        }
    ]
}