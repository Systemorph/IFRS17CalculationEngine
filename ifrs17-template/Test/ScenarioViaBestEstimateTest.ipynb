{
    "metadata": {
        "authors": [],
        "kernelspec": {
            "display_name": "Formula Framework",
            "language": "C#",
            "name": "C#"
        },
        "language_info": {
            "file_extension": ".cs",
            "mimetype": "text/plain",
            "name": "C#"
        }
    },
    "nbformat": 4,
    "nbformat_minor": 5,
    "cells": [
        {
            "cell_type": "code",
            "source": [
                "#!eval-notebook \"../Initialization/InitSystemorphToMemory\""
            ],
            "metadata": {},
            "execution_count": 0,
            "outputs": []
        },
        {
            "cell_type": "code",
            "source": [
                "Workspace.Reset(x => x.ResetInitializationRules().ResetCurrentPartitions());",
                "\nWorkspace.Initialize(x => x.FromSource(DataSource));",
                "\nvar defaulttRawVarsBE = await DataSource.Query<RawVariable>().ToArrayAsync();",
                "\nvar defaultVarsBE = await Workspace.Query<IfrsVariable>().ToArrayAsync();"
            ],
            "metadata": {},
            "execution_count": 0,
            "outputs": []
        },
        {
            "cell_type": "code",
            "source": [
                "var yieldCurve_Test = @\"",
                "\n@@YieldCurve",
                "\nCurrency,Year,Month,Scenario,Values0,Values1,Values2,Values3",
                "\nUSD,2021,6,,0.003,0.003,0.003,0.003",
                "\nUSD,2021,6,MTUP10pct,0.103,0.103,0.103,0.103\";"
            ],
            "metadata": {},
            "execution_count": 0,
            "outputs": []
        },
        {
            "cell_type": "code",
            "source": [
                "var cashflows_BestEstimate = @\"",
                "\n@@Main",
                "\nReportingNode,Year,Month,Scenario",
                "\nCH,2021,6,",
                "\n@@Cashflow",
                "\nDataNode,AmountType,AocType,Novelty,AccidentYear,Values0,Values1,Values2,Values3,Values4,Values5,Values6,Values7,Values8,Values9,Values10,Values11,Values12,Values13,Values14,Values15,Values16,Values17,Values18,Values19,Values20,Values21,Values22,Values23",
                "\nDT1.1,PR,CL,C,,110,0,0,110,0,0,110,0,0,110,0,0,0,110,0,0,110,0,0,110,0,0,110,0",
                "\nDT1.1,NIC,CL,C,,-27.5,-27.5,-27.5,-27.5,-27.5,-27.5,-27.5,-27.5,-27.5,-27.5,-27.5,-27.5,-27.5,-27.5,-27.5,-27.5,-27.5,-27.5,-27.5,-27.5,-27.5,-27.5,-27.5,-27.5",
                "\nDT1.1,CU,CL,C,,-11,-11,-11,-11,-11,-11,-11,-11,-11,-11,-11,-11,-11,-5.5,-5.5,-5.5,-5.5,-5.5,-5.5,-5.5,-5.5,-5.5,-5.5,-3.3",
                "\nDT1.1,RA,CL,C,,-2.75,-2.75,-2.75,-2.75,-2.75,-2.75,-2.75,-2.75,-2.75,-2.75,-2.75,-2.75,-2.75,-2.75,-2.75,-2.75,-2.75,-2.75,-2.75,-2.75,-2.75,-2.75,-2.75,-2.75\";"
            ],
            "metadata": {},
            "execution_count": 0,
            "outputs": []
        },
        {
            "cell_type": "code",
            "source": [
                "var actuals_BestEstimate = @\"",
                "\n@@Main",
                "\nReportingNode,Year,Month,Scenario",
                "\nCH,2021,6,",
                "\n@@Actual",
                "\nDataNode,AocType,ValueType,AccidentYear,Value",
                "\nDT1.1,CF,NIC,,-3008\";"
            ],
            "metadata": {},
            "execution_count": 0,
            "outputs": []
        },
        {
            "cell_type": "code",
            "source": [
                "var argsBestEstimate = new ImportArgs (\"CH\", 2021, 6, Periodicity.Quarterly, null, ImportFormats.Cashflow);",
                "\nvar argsScenario = new ImportArgs (\"CH\", 2021, 6, Periodicity.Quarterly, \"MTUP10pct\", ImportFormats.Cashflow);"
            ],
            "metadata": {},
            "execution_count": 0,
            "outputs": []
        },
        {
            "cell_type": "code",
            "source": [
                "var yieldCurveLog = await Import.FromString(yieldCurve_Test).WithFormat(ImportFormats.YieldCurve).WithTarget(DataSource).ExecuteAsync();",
                "\nWorkspace.Reset(x => x.ResetInitializationRules().ResetCurrentPartitions());",
                "\nWorkspace.Initialize(x => x.FromSource(DataSource));",
                "\nyieldCurveLog"
            ],
            "metadata": {},
            "execution_count": 0,
            "outputs": []
        },
        {
            "cell_type": "markdown",
            "source": [
                "# Import Cashflow"
            ],
            "metadata": {},
            "execution_count": 0,
            "outputs": []
        },
        {
            "cell_type": "code",
            "source": [
                "await Import.FromString(cashflows_BestEstimate).WithFormat(ImportFormats.Cashflow).WithTarget(DataSource).ExecuteAsync()"
            ],
            "metadata": {},
            "execution_count": 0,
            "outputs": []
        },
        {
            "cell_type": "code",
            "source": [
                "await DataSource.Partition.SetAsync<PartitionByReportingNode>(argsBestEstimate);",
                "\nawait DataSource.Partition.SetAsync<PartitionByReportingNodeAndPeriod>(argsBestEstimate);",
                "\nvar rawVarsBE = await DataSource.Query<RawVariable>().ToArrayAsync();",
                "\nvar ifrsVarsBE = await DataSource.Query<IfrsVariable>().ToArrayAsync();",
                "\nrawVarsBE.Length.Should().NotBe(0);",
                "\nifrsVarsBE.Length.Should().NotBe(0);"
            ],
            "metadata": {},
            "execution_count": 0,
            "outputs": []
        },
        {
            "cell_type": "code",
            "source": [
                "await DataSource.Partition.SetAsync<PartitionByReportingNode>(argsScenario);",
                "\nawait DataSource.Partition.SetAsync<PartitionByReportingNodeAndPeriod>(argsScenario);",
                "\nvar rawVarsSCE = await DataSource.Query<RawVariable>().ToArrayAsync();",
                "\nvar ifrsVarsSCE = await DataSource.Query<IfrsVariable>().ToArrayAsync();",
                "\nrawVarsSCE.Length.Should().Be(0);",
                "\nifrsVarsSCE.Length.Should().NotBe(0);"
            ],
            "metadata": {},
            "execution_count": 0,
            "outputs": []
        },
        {
            "cell_type": "code",
            "source": [
                "ifrsVarsSCE.Where(x => x.EconomicBasis == \"C\").Intersect(ifrsVarsBE.Where(x => x.EconomicBasis == \"C\"), IfrsVariableComparer.Instance()).ToArray().Length.Should().Be(0);"
            ],
            "metadata": {},
            "execution_count": 0,
            "outputs": []
        },
        {
            "cell_type": "markdown",
            "source": [
                "# Import Actuals"
            ],
            "metadata": {},
            "execution_count": 0,
            "outputs": []
        },
        {
            "cell_type": "code",
            "source": [
                "await Import.FromString(actuals_BestEstimate).WithFormat(ImportFormats.Actual).WithTarget(DataSource).ExecuteAsync()"
            ],
            "metadata": {},
            "execution_count": 0,
            "outputs": []
        },
        {
            "cell_type": "code",
            "source": [
                "await DataSource.Partition.SetAsync<PartitionByReportingNode>(argsBestEstimate);",
                "\nawait DataSource.Partition.SetAsync<PartitionByReportingNodeAndPeriod>(argsBestEstimate);",
                "\nvar newRawVarsBE = await DataSource.Query<RawVariable>().ToArrayAsync();",
                "\nvar newIfrsVarsBE = await DataSource.Query<IfrsVariable>().ToArrayAsync();",
                "\nnewRawVarsBE.Length.Should().NotBe(0);",
                "\nnewIfrsVarsBE.Length.Should().NotBe(0);"
            ],
            "metadata": {},
            "execution_count": 0,
            "outputs": []
        },
        {
            "cell_type": "code",
            "source": [
                "newIfrsVarsBE.Except(ifrsVarsBE, IfrsVariableComparer.Instance()).ToArray().Length.Should().NotBe(0);"
            ],
            "metadata": {},
            "execution_count": 0,
            "outputs": []
        },
        {
            "cell_type": "code",
            "source": [
                ""
            ],
            "metadata": {},
            "execution_count": 0,
            "outputs": []
        }
    ]
}