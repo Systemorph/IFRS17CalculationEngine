{
    "metadata": {
        "authors": [],
        "id": "zqa5Gis-qkCUXLkhzzM-LA",
        "kernelspec": {
            "display_name": "Formula Framework",
            "language": "C#",
            "name": "C#"
        },
        "language_info": {
            "file_extension": ".cs",
            "mimetype": "text/plain",
            "name": "C#"
        }
    },
    "nbformat": 4,
    "nbformat_minor": 5,
    "cells": [
        {
            "cell_type": "markdown",
            "source": [
                "<p style=\"font-weight:bold;\"> <span style=\"font-size: 36px\"> Ifrs Variable Exporter </span> </p>"
            ],
            "metadata": {},
            "execution_count": 0,
            "outputs": []
        },
        {
            "cell_type": "markdown",
            "source": [
                "# Infrastructure and Configuration"
            ],
            "metadata": {},
            "execution_count": 0,
            "outputs": []
        },
        {
            "cell_type": "markdown",
            "source": [
                "## Initialize Workspace"
            ],
            "metadata": {},
            "execution_count": 0,
            "outputs": []
        },
        {
            "cell_type": "code",
            "source": [
                "#!eval-notebook \"InitSystemorphToMemoryForTesting\""
            ],
            "metadata": {},
            "execution_count": 0,
            "outputs": []
        },
        {
            "cell_type": "markdown",
            "source": [
                "## Extra Imports"
            ],
            "metadata": {},
            "execution_count": 0,
            "outputs": []
        },
        {
            "cell_type": "markdown",
            "source": [
                "## Configurations"
            ],
            "metadata": {},
            "execution_count": 0,
            "outputs": []
        },
        {
            "cell_type": "code",
            "source": [
                "int roundingDigits = - (int)Math.Log10(BenchmarkPrecision) + 1;"
            ],
            "metadata": {},
            "execution_count": 0,
            "outputs": []
        },
        {
            "cell_type": "markdown",
            "source": [
                "# Defining Scope for the IfrsVariables"
            ],
            "metadata": {},
            "execution_count": 0,
            "outputs": []
        },
        {
            "cell_type": "markdown",
            "source": [
                "## Defining the Import Args"
            ],
            "metadata": {},
            "execution_count": 0,
            "outputs": []
        },
        {
            "cell_type": "code",
            "source": [
                "var exportScope = new ImportArgs[]{",
                "\n    new ImportArgs (\"CH\", 2020, 12, (Periodicity)default, null, null),",
                "\n    new ImportArgs (\"CH\", 2021, 3,  (Periodicity)default, null, null),",
                "\n    new ImportArgs (\"CH\", 2020, 12, (Periodicity)default, \"MTUP10pct\", null)",
                "\n    };"
            ],
            "metadata": {},
            "execution_count": 0,
            "outputs": []
        },
        {
            "cell_type": "markdown",
            "source": [
                "# Gathering Data"
            ],
            "metadata": {},
            "execution_count": 0,
            "outputs": []
        },
        {
            "cell_type": "code",
            "source": [
                "var args = exportScope[2];",
                "\nargs"
            ],
            "metadata": {},
            "execution_count": 0,
            "outputs": []
        },
        {
            "cell_type": "code",
            "source": [
                "await DataSource.Partition.SetAsync<PartitionByReportingNodeAndPeriod>(new {ReportingNode = args.ReportingNode, Year = args.Year, Month = args.Month, Scenario = args.Scenario});",
                "\nvar ifrsVariables = (await DataSource.Query<IfrsVariable>().ToArrayAsync())",
                "\n            //.Where(x => x.DataNode != \"DTP1.1\") //Extra Filter",
                "\n            .Select(v => v with {Values = v.Values.Select(x => Math.Round(x, roundingDigits)).ToArray()})",
                "\n            .OrderBy(v => v.DataNode).ThenBy(v => v.AccidentYear).ThenBy(v => v.EstimateType).ThenBy(v => v.EconomicBasis).ThenBy(v => v.AmountType).ThenBy(v => (v.AocType, v.Novelty))",
                "\n            .ThenBy(v => v.AocType)",
                "\n            .ToArray();"
            ],
            "metadata": {},
            "execution_count": 0,
            "outputs": []
        },
        {
            "cell_type": "markdown",
            "source": [
                "# Export"
            ],
            "metadata": {},
            "execution_count": 0,
            "outputs": []
        },
        {
            "cell_type": "markdown",
            "source": [
                "## Export SimpleValue"
            ],
            "metadata": {},
            "execution_count": 0,
            "outputs": []
        },
        {
            "cell_type": "code",
            "source": [
                "string fileNamePrefix = \"SimpleValue\";"
            ],
            "metadata": {},
            "execution_count": 0,
            "outputs": []
        },
        {
            "cell_type": "code",
            "source": [
                "// await Export.ToCsv(fileNamePrefix + \"_\" + args.ReportingNode + \"_\" + args.Year.ToString() + \"_\" + args.Month.ToString() + \"_\" + args.Scenario)",
                "\n//                                     .WithTable<ImportArgs>(tableConfig => tableConfig",
                "\n//                                                                     .AtBeginning()",
                "\n//                                                                     .WithName(Main)",
                "\n//                                                                     .WithSource(source => args.RepeatOnce().AsQueryable())",
                "\n//                                                                     .WithColumn(x => x.Periodicity, x => x.Delete())",
                "\n//                                                                     .WithColumn(x => x.ImportFormat, x => x.Delete())",
                "\n//                                                     )",
                "\n//                                     .WithTable<IfrsVariable>(tableConfig => tableConfig",
                "\n//                                                                   .WithSource(source => ifrsVariables.AsQueryable())",
                "\n//                                                                   .WithName(fileNamePrefix)",
                "\n//                                                                   .WithColumn(x => x.Partition, x => x.Delete())",
                "\n//                                                                   .WithColumn(x => x.Id, x => x.Delete())",
                "\n//                                                                  )",
                "\n//                                     .WithSource(DataSource)",
                "\n//                                     .ExecuteAsync()    "
            ],
            "metadata": {},
            "execution_count": 0,
            "outputs": []
        },
        {
            "cell_type": "markdown",
            "source": [
                "## Export by Estimate Type"
            ],
            "metadata": {},
            "execution_count": 0,
            "outputs": []
        },
        {
            "cell_type": "code",
            "source": [
                "string benchmarkFileNamePrefix = \"BM\";"
            ],
            "metadata": {},
            "execution_count": 0,
            "outputs": []
        },
        {
            "cell_type": "code",
            "source": [
                "string benchmarkFileNameSuffix = null;//\"Projection_DTP\";"
            ],
            "metadata": {},
            "execution_count": 0,
            "outputs": []
        },
        {
            "cell_type": "code",
            "source": [
                "ifrsVariables.Select(x => x.EstimateType).Distinct()"
            ],
            "metadata": {},
            "execution_count": 0,
            "outputs": []
        },
        {
            "cell_type": "code",
            "source": [
                "var estimateType = EstimateTypes.A;",
                "\n",
                "\nvar filteredData = ifrsVariables.Where(x => x.EstimateType == estimateType);"
            ],
            "metadata": {},
            "execution_count": 0,
            "outputs": []
        },
        {
            "cell_type": "code",
            "source": [
                "var filename = benchmarkFileNamePrefix + \"_\" + args.ReportingNode +\"_\" + args.Year.ToString() + \"_\" + args.Month.ToString() + \"_\" + args.Scenario + \"_\" + estimateType + (string.IsNullOrWhiteSpace(benchmarkFileNameSuffix) ? string.Empty : \"_\" + benchmarkFileNameSuffix);",
                "\nawait Export.ToCsv(filename)",
                "\n    .WithTable<ImportArgs>(tableConfig => tableConfig",
                "\n                                    .AtBeginning()",
                "\n                                    .WithName(Main)",
                "\n                                    .WithSource(source => args.RepeatOnce().AsQueryable())",
                "\n                                    .WithColumn(x => x.Periodicity, x => x.Delete())",
                "\n                                    .WithColumn(x => x.ImportFormat, x => x.Delete())",
                "\n                    )",
                "\n    .WithTable<IfrsVariable>(tableConfig => tableConfig",
                "\n    .WithSource(source => filteredData.AsQueryable())",
                "\n                                  .WithName(estimateType)",
                "\n                                  .WithColumn(x => x.Partition, x => x.Delete())",
                "\n                                  .WithColumn(x => x.Id, x => x.Delete())",
                "\n                                 )",
                "\n    .WithSource(DataSource)",
                "\n    .ExecuteAsync()                         "
            ],
            "metadata": {},
            "execution_count": 0,
            "outputs": []
        }
    ]
}