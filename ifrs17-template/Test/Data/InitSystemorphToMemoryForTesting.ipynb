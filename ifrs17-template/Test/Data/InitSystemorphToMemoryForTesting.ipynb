{
    "metadata": {
        "authors": [],
        "id": "bSinnaybPkGIZ8Km0b0H0Q",
        "kernelspec": {
            "display_name": "Formula Framework",
            "language": "C#",
            "name": "C#"
        },
        "language_info": {
            "file_extension": ".cs",
            "mimetype": "text/plain",
            "name": "C#"
        }
    },
    "nbformat": 4,
    "nbformat_minor": 5,
    "cells": [
        {
            "cell_type": "code",
            "source": [
                "#!eval-notebook \"../../Initialization/InitSystemorphToMemory\""
            ],
            "metadata": {},
            "execution_count": 0,
            "outputs": []
        },
        {
            "cell_type": "code",
            "source": [
                "await Import.FromFile(\"Actuals_CH_2020_12_MTUP10pct.csv\")",
                "\n            .WithFormat(ImportFormats.Actual)",
                "\n            .WithTarget(DataSource)",
                "\n            .WithActivityLog()",
                "\n            .ExecuteAsync()"
            ],
            "metadata": {},
            "execution_count": 0,
            "outputs": []
        },
        {
            "cell_type": "markdown",
            "source": [
                "<p style=\"font-size:150%\">Test Projection IfrsVariable value</p>"
            ],
            "metadata": {},
            "execution_count": 0,
            "outputs": []
        },
        {
            "cell_type": "code",
            "source": [
                "ImportStorage.DefaultProjectionCount = 5;",
                "\nawait Import.FromFile(\"../../Files/TransactionalData/NominalCashflows_CH_2021_3_Projection.csv\")",
                "\n            .WithFormat(ImportFormats.Cashflow)",
                "\n            .WithTarget(DataSource)",
                "\n            .WithActivityLog()",
                "\n            .ExecuteAsync()"
            ],
            "metadata": {},
            "execution_count": 0,
            "outputs": []
        },
        {
            "cell_type": "code",
            "source": [
                "Workspace.Reset(x => x.ResetInitializationRules().ResetCurrentPartitions());",
                "\nWorkspace.InitializeFrom(DataSource);"
            ],
            "metadata": {},
            "execution_count": 0,
            "outputs": []
        },
        {
            "cell_type": "code",
            "source": [
                ""
            ],
            "metadata": {},
            "execution_count": 0,
            "outputs": []
        },
        {
            "metadata": {},
            "execution_count": 0,
            "outputs": []
        }
    ]
}