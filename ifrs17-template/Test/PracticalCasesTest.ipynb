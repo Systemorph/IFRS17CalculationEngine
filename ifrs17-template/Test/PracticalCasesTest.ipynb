{
    "metadata": {
        "authors": [],
        "id": "bZ9mwrWya0Ox8CXAyFRn2Q",
        "kernelspec": {
            "display_name": "Formula Framework",
            "language": "C#",
            "name": "C#"
        },
        "language_info": {
            "file_extension": ".cs",
            "mimetype": "text/plain",
            "name": "C#"
        }
    },
    "nbformat": 4,
    "nbformat_minor": 5,
    "cells": [
        {
            "cell_type": "markdown",
            "source": [
                "<p style=\"font-weight:bold;\"> <span style=\"font-size: 36px\"> Test Practical Cases </span> </p>"
            ],
            "metadata": {},
            "execution_count": 0,
            "outputs": []
        },
        {
            "cell_type": "markdown",
            "source": [
                "# Csm Switch : Single vs Multiple"
            ],
            "metadata": {},
            "execution_count": 0,
            "outputs": []
        },
        {
            "cell_type": "code",
            "source": [
                "#!import \"../PracticalUseCases/SingleVsMultipleCsmSwitch/CsmSwitchReports\""
            ],
            "metadata": {},
            "execution_count": 0,
            "outputs": []
        },
        {
            "cell_type": "code",
            "source": [
                "using FluentAssertions;"
            ],
            "metadata": {},
            "execution_count": 0,
            "outputs": []
        },
        {
            "cell_type": "markdown",
            "source": [
                "## Fulfillment Cashflows"
            ],
            "metadata": {},
            "execution_count": 0,
            "outputs": []
        },
        {
            "cell_type": "code",
            "source": [
                "var fcf = fulfillmentCashflows.GetDataCube().ToDictionaryGrouped(x => x.GroupOfContract, x => x.ToArray());"
            ],
            "metadata": {},
            "execution_count": 0,
            "outputs": []
        },
        {
            "cell_type": "code",
            "source": [
                "fcf.Keys.Count.Should().Be(2);",
                "\nfcf[fcf.Keys.First()].All(x => Math.Abs(fcf[fcf.Keys.Last()].Single(y => y.VariableType == x.VariableType && y.Novelty == x.Novelty && ",
                "\n                                                                   y.EstimateType == x.EstimateType && y.EconomicBasis == x.EconomicBasis &&",
                "\n                                                                   y.AmountType == x.AmountType).Value - x.Value) < 10E-4)",
                "\n                                                                   .Should().BeTrue();"
            ],
            "metadata": {},
            "execution_count": 0,
            "outputs": []
        },
        {
            "cell_type": "markdown",
            "source": [
                "## Actuals"
            ],
            "metadata": {},
            "execution_count": 0,
            "outputs": []
        },
        {
            "cell_type": "code",
            "source": [
                "var actuals = writtenActual.GetDataCube().ToDictionaryGrouped(x => x.GroupOfContract, x => x.ToArray());"
            ],
            "metadata": {},
            "execution_count": 0,
            "outputs": []
        },
        {
            "cell_type": "code",
            "source": [
                "actuals.Keys.Count.Should().Be(2);",
                "\nactuals[actuals.Keys.First()].All(x => Math.Abs(actuals[actuals.Keys.Last()].Single(y => y.VariableType == x.VariableType && y.Novelty == x.Novelty && ",
                "\n                                                                   y.EstimateType == x.EstimateType && y.EconomicBasis == x.EconomicBasis &&",
                "\n                                                                   y.AmountType == x.AmountType).Value - x.Value) < 10E-4)",
                "\n                                                                   .Should().BeTrue();"
            ],
            "metadata": {},
            "execution_count": 0,
            "outputs": []
        },
        {
            "cell_type": "markdown",
            "source": [
                "## Allocated Technical Margin"
            ],
            "metadata": {},
            "execution_count": 0,
            "outputs": []
        },
        {
            "cell_type": "code",
            "source": [
                "allocatedTechnicalMargins.GetDataCube().Select(x => x.GroupOfContract).Distinct().Count().Should().Be(2);"
            ],
            "metadata": {},
            "execution_count": 0,
            "outputs": []
        },
        {
            "cell_type": "code",
            "source": [
                "var eops = allocatedTechnicalMargins.GetDataCube().Where(x => x.VariableType == \"EOP\");"
            ],
            "metadata": {},
            "execution_count": 0,
            "outputs": []
        },
        {
            "cell_type": "code",
            "source": [
                "eops.Where(x => x.EstimateType == \"C\").Count().Should().Be(2);",
                "\neops.Where(x => x.EstimateType == \"C\").All(x => Math.Abs(x.Value - 5.71) < 0.01).Should().BeTrue();",
                "\neops.Single(x => x.EstimateType == \"L\").Value.Should().BeApproximately(0,Precision);"
            ],
            "metadata": {},
            "execution_count": 0,
            "outputs": []
        },
        {
            "cell_type": "code",
            "source": [
                "var lc = allocatedTechnicalMargins.GetDataCube().Where(x => x.EstimateType == \"L\");",
                "\nvar lcIa = lc.Single(x => x.VariableType == \"IA\").Value;"
            ],
            "metadata": {},
            "execution_count": 0,
            "outputs": []
        },
        {
            "cell_type": "code",
            "source": [
                "lc.All(x => x.Novelty != \"I\" && x.GroupOfContract == \"MZ1.1\").Should().BeTrue();"
            ],
            "metadata": {},
            "execution_count": 0,
            "outputs": []
        },
        {
            "cell_type": "code",
            "source": [
                "var lcCombined = lc.Where(x => x.Novelty == \"C\" && x.GroupOfContract == \"MZ1.1\");"
            ],
            "metadata": {},
            "execution_count": 0,
            "outputs": []
        },
        {
            "cell_type": "code",
            "source": [
                "lcCombined.Count().Should().Be(2);",
                "\nlcCombined.Where(x => x.VariableType == \"CL\").Count().Should().Be(1);",
                "\nlcCombined.Where(x => x.VariableType == \"EOP\").Count().Should().Be(1);"
            ],
            "metadata": {},
            "execution_count": 0,
            "outputs": []
        },
        {
            "cell_type": "markdown",
            "source": [
                "## Financial Performance"
            ],
            "metadata": {},
            "execution_count": 0,
            "outputs": []
        },
        {
            "cell_type": "code",
            "source": [
                "var mz11 = financialPerformance.GetDataCube().Where(x => x.GroupOfContract == \"MZ1.1\");",
                "\nvar mz12 = financialPerformance.GetDataCube().Where(x => x.GroupOfContract == \"MZ1.2\");"
            ],
            "metadata": {},
            "execution_count": 0,
            "outputs": []
        },
        {
            "cell_type": "code",
            "source": [
                "mz11.Sum(x => x.Value).Should().BeApproximately(mz12.Sum(x => x.Value), 10E-4);"
            ],
            "metadata": {},
            "execution_count": 0,
            "outputs": []
        },
        {
            "cell_type": "code",
            "source": [
                "mz11.Single(x => x.VariableType == \"IR5\" && x.EstimateType ==\"C\").Value",
                "\n    .Should().BeApproximately(",
                "\n        mz12.Single(x => x.VariableType == \"IR5\" && x.EstimateType ==\"C\").Value + lcIa,",
                "\n        Precision",
                "\n    );"
            ],
            "metadata": {},
            "execution_count": 0,
            "outputs": []
        },
        {
            "cell_type": "code",
            "source": [
                "mz11.Single(x => x.VariableType == \"ISE11\").Value.Should().BeApproximately(lcIa,Precision);",
                "\nmz12.SingleOrDefault(x => x.VariableType == \"ISE11\")?.Value.Should().BeApproximately(0,Precision);"
            ],
            "metadata": {},
            "execution_count": 0,
            "outputs": []
        },
        {
            "cell_type": "code",
            "source": [
                "mz11.Single(x => x.VariableType == \"IFIE1\" && x.EstimateType ==\"C\").Value",
                "\n    .Should().BeApproximately(",
                "\n        mz12.Single(x => x.VariableType == \"IFIE1\" && x.EstimateType ==\"C\").Value - lcIa,",
                "\n        Precision",
                "\n    );"
            ],
            "metadata": {},
            "execution_count": 0,
            "outputs": []
        },
        {
            "cell_type": "code",
            "source": [
                "mz11.Single(x => x.VariableType == \"IFIE1\" && x.EstimateType == \"L\").Value.Should().BeApproximately(-lcIa,Precision);",
                "\nmz12.SingleOrDefault(x => x.VariableType == \"IFIE1\" && x.EstimateType == \"L\")?.Value.Should().BeApproximately(0,Precision);"
            ],
            "metadata": {},
            "execution_count": 0,
            "outputs": []
        },
        {
            "cell_type": "code",
            "source": [
                ""
            ],
            "metadata": {},
            "execution_count": 0,
            "outputs": []
        }
    ]
}