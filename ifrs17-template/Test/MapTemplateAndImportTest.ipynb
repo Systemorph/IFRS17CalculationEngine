{
    "metadata": {
        "authors": [],
        "id": "P6NgZqj6e0-iv6Td2_aRaQ",
        "kernelspec": {
            "display_name": "Formula Framework",
            "language": "C#",
            "name": "C#"
        },
        "language_info": {
            "file_extension": ".cs",
            "mimetype": "text/plain",
            "name": "C#"
        }
    },
    "nbformat": 4,
    "nbformat_minor": 5,
    "cells": [
        {
            "cell_type": "markdown",
            "source": [
                "<p style=\"font-weight:bold;\"> <span style=\"font-size: 36px\"> Test Map Template Export and Import </span> </p>"
            ],
            "metadata": {},
            "execution_count": 0,
            "outputs": []
        },
        {
            "cell_type": "markdown",
            "source": [
                "Uncomment this row if you are debugging this test or running it separately. "
            ],
            "metadata": {},
            "execution_count": 0,
            "outputs": []
        },
        {
            "cell_type": "code",
            "source": [
                "#!eval-notebook \"../Initialization/InitSystemorphBaseToMemory\""
            ],
            "metadata": {},
            "execution_count": 0,
            "outputs": []
        },
        {
            "cell_type": "code",
            "source": [
                "var workspace = Workspace.CreateNew();",
                "\nworkspace.InitializeFrom(DataSource);"
            ],
            "metadata": {},
            "execution_count": 0,
            "outputs": []
        },
        {
            "cell_type": "markdown",
            "source": [
                "# Test Empty Database"
            ],
            "metadata": {},
            "execution_count": 0,
            "outputs": []
        },
        {
            "cell_type": "code",
            "source": [
                "(await workspace.Query<DataNode>().ToArrayAsync()).Length.Should().NotBe(0);"
            ],
            "metadata": {},
            "execution_count": 0,
            "outputs": []
        },
        {
            "cell_type": "code",
            "source": [
                "(await workspace.Query<Portfolio>().ToArrayAsync()).Length.Should().NotBe(0);"
            ],
            "metadata": {},
            "execution_count": 0,
            "outputs": []
        },
        {
            "cell_type": "code",
            "source": [
                "(await workspace.Query<InsurancePortfolio>().ToArrayAsync()).Length.Should().NotBe(0);"
            ],
            "metadata": {},
            "execution_count": 0,
            "outputs": []
        },
        {
            "cell_type": "code",
            "source": [
                "(await workspace.Query<ReinsurancePortfolio>().ToArrayAsync()).Length.Should().NotBe(0);"
            ],
            "metadata": {},
            "execution_count": 0,
            "outputs": []
        },
        {
            "cell_type": "code",
            "source": [
                "(await workspace.Query<GroupOfContract>().ToArrayAsync()).Length.Should().NotBe(0);"
            ],
            "metadata": {},
            "execution_count": 0,
            "outputs": []
        },
        {
            "cell_type": "code",
            "source": [
                "(await workspace.Query<GroupOfInsuranceContract>().ToArrayAsync()).Length.Should().NotBe(0);"
            ],
            "metadata": {},
            "execution_count": 0,
            "outputs": []
        },
        {
            "cell_type": "code",
            "source": [
                "(await workspace.Query<GroupOfReinsuranceContract>().ToArrayAsync()).Length.Should().NotBe(0);"
            ],
            "metadata": {},
            "execution_count": 0,
            "outputs": []
        },
        {
            "cell_type": "code",
            "source": [
                "(await workspace.Query<DataNodeState>().ToArrayAsync()).Length.Should().NotBe(0);"
            ],
            "metadata": {},
            "execution_count": 0,
            "outputs": []
        },
        {
            "cell_type": "code",
            "source": [
                "(await workspace.Query<DataNodeParameter>().ToArrayAsync()).Length.Should().NotBe(0);"
            ],
            "metadata": {},
            "execution_count": 0,
            "outputs": []
        },
        {
            "cell_type": "markdown",
            "source": [
                "# Test Data Node Parameter"
            ],
            "metadata": {},
            "execution_count": 0,
            "outputs": []
        },
        {
            "cell_type": "code",
            "source": [
                "var singleParam = (await workspace.Query<SingleDataNodeParameter>().Where(x => x.DataNode == \"DT1.1\").ToArrayAsync()).Single();"
            ],
            "metadata": {},
            "execution_count": 0,
            "outputs": []
        },
        {
            "cell_type": "code",
            "source": [
                "singleParam.CashFlowPeriodicity.Should().Be((CashFlowPeriodicity)default);"
            ],
            "metadata": {},
            "execution_count": 0,
            "outputs": []
        },
        {
            "cell_type": "code",
            "source": [
                "singleParam.InterpolationMethod.Should().Be((InterpolationMethod)default);"
            ],
            "metadata": {},
            "execution_count": 0,
            "outputs": []
        },
        {
            "cell_type": "markdown",
            "source": [
                "# Test Map Template"
            ],
            "metadata": {},
            "execution_count": 0,
            "outputs": []
        },
        {
            "cell_type": "markdown",
            "source": [
                "## Data Node"
            ],
            "metadata": {},
            "execution_count": 0,
            "outputs": []
        },
        {
            "cell_type": "code",
            "source": [
                "//Workspace.InitializeFrom(DataSource);",
                "\n",
                "\nstatic var partition = new PartitionByReportingNode() { ReportingNode = \"CH\" };",
                "\nstatic var filename = \"TestMapTemplateDataNode\";",
                "\n",
                "\n//Workspace.InitializeFrom(DataSource);",
                "\nawait workspace.Partition.SetAsync<PartitionByReportingNode>( partition );",
                "\n",
                "\nvar ips = workspace.Query<InsurancePortfolio>().ToArray();",
                "\nvar rps = workspace.Query<ReinsurancePortfolio>().ToArray();",
                "\nvar gics = workspace.Query<GroupOfInsuranceContract>().ToArray();",
                "\nvar grics = workspace.Query<GroupOfReinsuranceContract>().ToArray();",
                "\n",
                "\nvar exportResult = await Export.ToExcel(filename)",
                "\n    .WithSource(workspace)",
                "\n    .PortfolioConfiguration<ReinsurancePortfolio>()",
                "\n    .PortfolioConfiguration<InsurancePortfolio>()",
                "\n    .GroupofContractConfiguration<GroupOfReinsuranceContract>(typeof(ReinsurancePortfolio))",
                "\n    .GroupofContractConfiguration<GroupOfInsuranceContract>(typeof(InsurancePortfolio))",
                "\n    .MainTabConfiguration(partition)",
                "\n    .WithActivityLog()",
                "\n    .ExecuteAsync();",
                "\n",
                "\nexportResult.ActivityLog.Status.Should().Be(ActivityLogStatus.Succeeded);"
            ],
            "metadata": {},
            "execution_count": 0,
            "outputs": []
        },
        {
            "cell_type": "code",
            "source": [
                "await Export.ToExcel(filename)",
                "\n    .WithSource(workspace)",
                "\n    .PortfolioConfiguration<ReinsurancePortfolio>()",
                "\n    .PortfolioConfiguration<InsurancePortfolio>()",
                "\n    .GroupofContractConfiguration<GroupOfReinsuranceContract>(typeof(ReinsurancePortfolio))",
                "\n    .GroupofContractConfiguration<GroupOfInsuranceContract>(typeof(InsurancePortfolio))",
                "\n    .MainTabConfiguration(partition)",
                "\n    .WithActivityLog()",
                "\n    .ExecuteAsync()"
            ],
            "metadata": {},
            "execution_count": 0,
            "outputs": []
        },
        {
            "cell_type": "code",
            "source": [
                "// Run this only after having imported the file exported in the above cell.",
                "\n/*",
                "\n// check that exporter generates only the desired columns ",
                "\nvar extension = \".xlsx\";",
                "\nvar stream = await Project.FileStorage.ReadAsync(filename + extension);",
                "\nvar tables = (await DataSetReader.ReadFromStream(stream).WithContentType(extension).ExecuteAsync()).DataSet;",
                "\nvar mainCols = new[]{nameof(PartitionByReportingNode.ReportingNode)};",
                "\nvar portfolioCols = new[]{nameof(Portfolio.SystemName),nameof(Portfolio.DisplayName),nameof(Portfolio.ContractualCurrency),",
                "\n                          nameof(Portfolio.LineOfBusiness),nameof(Portfolio.OciType),nameof(Portfolio.ValuationApproach)};",
                "\nvar gicCols = new[]{nameof(GroupOfContract.SystemName),nameof(GroupOfContract.DisplayName),nameof(GroupOfContract.AnnualCohort),",
                "\n                    nameof(GroupOfContract.LiabilityType),nameof(InsurancePortfolio),nameof(GroupOfContract.Profitability)};",
                "\nvar gricCols = new[]{nameof(GroupOfContract.SystemName),nameof(GroupOfContract.DisplayName),nameof(GroupOfContract.AnnualCohort),",
                "\n                     nameof(GroupOfContract.LiabilityType),nameof(ReinsurancePortfolio),nameof(GroupOfContract.Profitability),nameof(GroupOfContract.Partner)};",
                "\n",
                "\nmainCols.Intersect(tables.Tables[Main].Columns.Select(x => x.ColumnName).ToArray()).Count().Should().Be(mainCols.Length);",
                "\nportfolioCols.Intersect(tables.Tables[nameof(InsurancePortfolio)].Columns.Select(x => x.ColumnName).ToArray()).Count().Should().Be(portfolioCols.Length); ",
                "\nportfolioCols.Intersect(tables.Tables[nameof(ReinsurancePortfolio)].Columns.Select(x => x.ColumnName).ToArray()).Count().Should().Be(portfolioCols.Length); ",
                "\ngicCols.Intersect(tables.Tables[nameof(GroupOfInsuranceContract)].Columns.Select(x => x.ColumnName).ToArray()).Count().Should().Be(gicCols.Length); ",
                "\ngricCols.Intersect(tables.Tables[nameof(GroupOfReinsuranceContract)].Columns.Select(x => x.ColumnName).ToArray()).Count().Should().Be(gricCols.Length); ",
                "\n",
                "\n// check that imported data matches the exported data",
                "\nawait Import.FromFile(filename+\".xlsx\").WithFormat(ImportFormats.DataNode).WithTarget(workspace).ExecuteAsync();",
                "\nUtils.EqualityComparer<InsurancePortfolio>(ips, workspace.Query<InsurancePortfolio>().ToArray());",
                "\nUtils.EqualityComparer<ReinsurancePortfolio>(rps, workspace.Query<ReinsurancePortfolio>().ToArray());",
                "\nUtils.EqualityComparer<GroupOfInsuranceContract>(gics, workspace.Query<GroupOfInsuranceContract>().ToArray());",
                "\nUtils.EqualityComparer<GroupOfReinsuranceContract>(grics, workspace.Query<GroupOfReinsuranceContract>().ToArray());",
                "\n*/"
            ],
            "metadata": {},
            "execution_count": 0,
            "outputs": []
        },
        {
            "cell_type": "code",
            "source": [
                "workspace.Reset(x => x.ResetInitializationRules().ResetCurrentPartitions());"
            ],
            "metadata": {},
            "execution_count": 0,
            "outputs": []
        },
        {
            "cell_type": "markdown",
            "source": [
                "## Data Node State"
            ],
            "metadata": {},
            "execution_count": 0,
            "outputs": []
        },
        {
            "cell_type": "code",
            "source": [
                "static var partition = new PartitionByReportingNodeAndPeriod() { ReportingNode = \"CH\", Year = 2021, Month = 3 };",
                "\nstatic var filename = \"TestMapTemplateDataNodeState\";",
                "\n",
                "\nworkspace.InitializeFrom(DataSource);",
                "\nawait workspace.Partition.SetAsync<PartitionByReportingNode>( new PartitionByReportingNode() { ReportingNode = partition.ReportingNode } );",
                "\nawait workspace.Partition.SetAsync<PartitionByReportingNodeAndPeriod>( partition );",
                "\n",
                "\nvar dataNodeStates = await workspace.Query<DataNodeState>()",
                "\n                        .Where(x => (x.Year == partition.Year && x.Month <= partition.Month) || x.Year < partition.Year)",
                "\n                        .GroupBy(x => x.DataNode)",
                "\n                        .Select(x => x.OrderByDescending(y => y.Year).ThenByDescending(y => y.Month))",
                "\n                        .Select(x => x.Last())",
                "\n                        .ToArrayAsync();",
                "\n",
                "\nvar exportResult = await Export.ToExcel(filename)",
                "\n    .WithSource(workspace)",
                "\n    .StateEnumConfiguration() ",
                "\n    .DataNodeStateConfiguration(dataNodeStates)",
                "\n    .MainTabConfiguration(partition)",
                "\n    .WithActivityLog()",
                "\n    .ExecuteAsync();",
                "\n",
                "\nexportResult.ActivityLog.Status.Should().Be(ActivityLogStatus.Succeeded);"
            ],
            "metadata": {},
            "execution_count": 0,
            "outputs": []
        },
        {
            "cell_type": "code",
            "source": [
                "await Export.ToExcel(filename)",
                "\n    .WithSource(workspace)",
                "\n    .StateEnumConfiguration() ",
                "\n    .DataNodeStateConfiguration(dataNodeStates)",
                "\n    .MainTabConfiguration(partition)",
                "\n    .WithActivityLog()",
                "\n    .ExecuteAsync()"
            ],
            "metadata": {},
            "execution_count": 0,
            "outputs": []
        },
        {
            "cell_type": "code",
            "source": [
                "// Run this only after having imported the file exported in the above cell.",
                "\n/*",
                "\n// check that exporter generates only the desired columns ",
                "\nvar extension = \".xlsx\";",
                "\nvar stream = await Project.FileStorage.ReadAsync(filename + extension);",
                "\nvar tables = (await DataSetReader.ReadFromStream(stream).WithContentType(extension).ExecuteAsync()).DataSet;",
                "\nvar mainCols = new[]{nameof(PartitionByReportingNodeAndPeriod.ReportingNode),",
                "\n                     nameof(PartitionByReportingNodeAndPeriod.Year),",
                "\n                     nameof(PartitionByReportingNodeAndPeriod.Month)};",
                "\nvar dataNodeStateCols = new[]{nameof(DataNodeState.DataNode),nameof(DataNodeState.State)};",
                "\nmainCols.Intersect(tables.Tables[Main].Columns.Select(x => x.ColumnName).ToArray()).Count().Should().Be(mainCols.Length);",
                "\ndataNodeStateCols.Intersect(tables.Tables[\"DataNodeState\"].Columns.Select(x => x.ColumnName).ToArray()).Count().Should().Be(dataNodeStateCols.Length);",
                "\n",
                "\n// check that imported data matches the exported data ",
                "\nvar dataNodeStates = workspace.Query<DataNodeState>().ToArray();",
                "\nawait Import.FromFile(filename+\".xlsx\").WithFormat(ImportFormats.DataNodeState).WithTarget(Workspace).ExecuteAsync();",
                "\n// Workspace is empty because ValidateDataNodeStatesAsync removes the entry, since this is already present in the DataSource.",
                "\n(workspace.Query<DataNodeState>().ToArray().Except(dataNodeStates)).Should().BeEmpty();",
                "\n*/"
            ],
            "metadata": {},
            "execution_count": 0,
            "outputs": []
        },
        {
            "cell_type": "code",
            "source": [
                "workspace.Reset(x => x.ResetInitializationRules().ResetCurrentPartitions());"
            ],
            "metadata": {},
            "execution_count": 0,
            "outputs": []
        },
        {
            "cell_type": "markdown",
            "source": [
                "## DataNodeParameter"
            ],
            "metadata": {},
            "execution_count": 0,
            "outputs": []
        },
        {
            "cell_type": "code",
            "source": [
                "workspace.InitializeFrom(DataSource);",
                "\nstatic var partition = new PartitionByReportingNodeAndPeriod() { ReportingNode = \"CH\", Year = 2020, Month = 12 };",
                "\nvar partitionByReportingNode = (await workspace.Query<PartitionByReportingNode>().Where(x => x.ReportingNode == partition.ReportingNode).ToArrayAsync()).Single();",
                "\nstatic var filename = \"TestMapTemplateDataNodeParameter\";",
                "\nvar singleDataNodeParamBm = await workspace.Query<SingleDataNodeParameter>().Where(x => x.Year == partition.Year && x.Month == partition.Month && x.Partition == partitionByReportingNode.Id ).ToArrayAsync();",
                "\nvar interDataNodeParamBm = await workspace.Query<InterDataNodeParameter>().Where(x => x.Year == partition.Year && x.Month == partition.Month && x.Partition == partitionByReportingNode.Id ).ToArrayAsync();",
                "\nawait workspace.Partition.SetAsync<PartitionByReportingNode>( new PartitionByReportingNode() { ReportingNode = partition.ReportingNode } );",
                "\nawait workspace.Partition.SetAsync<PartitionByReportingNodeAndPeriod>( partition );",
                "\n//--------------------Export Map Template--------------------------",
                "\n//--------------------From MapTemplate NB--------------------------",
                "\nvar dataNodeParameters = (await workspace.Query<DataNodeParameter>()",
                "\n                        .Where(x => (x.Year == partition.Year && x.Month <= partition.Month) || x.Year < partition.Year).ToArrayAsync())",
                "\n                        .GroupBy(x => x.GetType().Name)",
                "\n                        .ToDictionary(x => x.Key, ",
                "\n                                      x => x.GroupBy(y => y.DataNode)",
                "\n                                            .Select(y => y.OrderByDescending(z => z.Year).ThenByDescending(z => z.Month))",
                "\n                                            .Select(y => y.First())",
                "\n                                            .ToArray() );",
                "\nvar exportResult = await Export.ToExcel(filename)",
                "\n    .WithSource(workspace)",
                "\n    .DataNodeParameterConfiguration(dataNodeParameters)",
                "\n    .MainTabConfiguration(partition)",
                "\n    .WithActivityLog()",
                "\n    .ExecuteAsync();",
                "\n",
                "\nexportResult.ActivityLog.Status.Should().Be(ActivityLogStatus.Succeeded);"
            ],
            "metadata": {},
            "execution_count": 0,
            "outputs": []
        },
        {
            "cell_type": "code",
            "source": [
                "await Export.ToExcel(filename)",
                "\n    .WithSource(workspace)",
                "\n    .DataNodeParameterConfiguration(dataNodeParameters)",
                "\n    .MainTabConfiguration(partition)",
                "\n    .WithActivityLog()",
                "\n    .ExecuteAsync()"
            ],
            "metadata": {},
            "execution_count": 0,
            "outputs": []
        },
        {
            "cell_type": "code",
            "source": [
                "// Run this only after having imported the file exported in the above cell.",
                "\n/*",
                "\n// check that exporter generates only the desired columns ",
                "\nvar extension = \".xlsx\";",
                "\nvar stream = await Project.FileStorage.ReadAsync(filename + extension);",
                "\nvar tables = (await DataSetReader.ReadFromStream(stream).WithContentType(extension).ExecuteAsync()).DataSet;",
                "\nvar mainCols = new[]{nameof(PartitionByReportingNodeAndPeriod.ReportingNode),",
                "\n                     nameof(PartitionByReportingNodeAndPeriod.Year),",
                "\n                     nameof(PartitionByReportingNodeAndPeriod.Month),",
                "\n                     nameof(PartitionByReportingNodeAndPeriod.Scenario)};",
                "\nvar singleDataNodeParamCols = new[]{nameof(DataNode),",
                "\n                                    nameof(SingleDataNodeParameter.PremiumAllocation),",
                "\n                                    nameof(SingleDataNodeParameter.CashFlowPeriodicity),",
                "\n                                    nameof(SingleDataNodeParameter.InterpolationMethod),",
                "\n                                    };",
                "\nvar interDataNodeParamCols = new[]{nameof(DataNodeParameter.DataNode),",
                "\n                                   nameof(InterDataNodeParameter.LinkedDataNode),",
                "\n                                   nameof(InterDataNodeParameter.ReinsuranceCoverage)};",
                "\nmainCols.Intersect(tables.Tables[Main].Columns.Select(x => x.ColumnName).ToArray()).Count().Should().Be(mainCols.Length);",
                "\nsingleDataNodeParamCols.Intersect(tables.Tables[nameof(SingleDataNodeParameter)].Columns.Select(x => x.ColumnName).ToArray()).Count().Should().Be(singleDataNodeParamCols.Length);",
                "\ninterDataNodeParamCols.Intersect(tables.Tables[nameof(InterDataNodeParameter)].Columns.Select(x => x.ColumnName).ToArray()).Count().Should().Be(interDataNodeParamCols.Length);",
                "\n// check that imported data matches the exported data ",
                "\nawait Import.FromFile(filename+\".xlsx\").WithFormat(ImportFormats.DataNodeParameter).WithTarget(workspace).ExecuteAsync();",
                "\nvar expectedSingleDataNodeParamBm = workspace.Query<SingleDataNodeParameter>().Where(x => x.Year == partition.Year && x.Month == partition.Month).ToArray();",
                "\nvar expectedInterDataNodeParamBm = workspace.Query<InterDataNodeParameter>().ToArray();",
                "\nUtils.EqualityComparer<SingleDataNodeParameter>(singleDataNodeParamBm, expectedSingleDataNodeParamBm);",
                "\nUtils.EqualityComparer<InterDataNodeParameter>(interDataNodeParamBm, expectedInterDataNodeParamBm);",
                "\n*/"
            ],
            "metadata": {},
            "execution_count": 0,
            "outputs": []
        },
        {
            "cell_type": "code",
            "source": [
                "workspace.Reset(x => x.ResetInitializationRules().ResetCurrentPartitions());"
            ],
            "metadata": {},
            "execution_count": 0,
            "outputs": []
        },
        {
            "cell_type": "markdown",
            "source": [
                "# Test Import Validation"
            ],
            "metadata": {},
            "execution_count": 0,
            "outputs": []
        },
        {
            "cell_type": "markdown",
            "source": [
                "## Data Node State: entries cannot be imported which change status from Inactive to Active"
            ],
            "metadata": {},
            "execution_count": 0,
            "outputs": []
        },
        {
            "cell_type": "code",
            "source": [
                "workspace.InitializeFrom(DataSource);",
                "\nvar partition = workspace.Query<PartitionByReportingNode>().Where(x => x.ReportingNode == \"CH\").ToArray().FirstOrDefault();",
                "\nawait workspace.Partition.SetAsync<PartitionByReportingNode>(partition);",
                "\n",
                "\nvar itemInactive = new DataNodeState { Year = 2022, Month = 9, DataNode = \"GIC1\", State = State.Inactive, Partition = partition.Id };",
                "\nvar itemActive = new DataNodeState { Year = 2022, Month = 9, DataNode = \"GIC1\", State = State.Active, Partition = partition.Id };",
                "\n",
                "\n// Define GIC1 State as Inactive",
                "\nvar persistentDataNodeDataByDataNode = new Dictionary<string, DataNodeData> ",
                "\n{",
                "\n    [\"GIC1\"] = new DataNodeData() {DataNode = \"GIC1\", State = itemInactive.State, Year = itemInactive.Year, Month =  itemInactive.Month},",
                "\n};",
                "\n",
                "\n// Set GIC1 from Inactive into Active",
                "\nawait workspace.DeleteAsync(Workspace.Query<DataNodeState>().ToArray());",
                "\nawait workspace.UpdateAsync(itemActive);",
                "\n",
                "\n// Test Validation",
                "\nActivity.Start();",
                "\n",
                "\nawait workspace.ValidateDataNodeStatesAsync(persistentDataNodeDataByDataNode);",
                "\nActivity.HasErrors().Should().Be(true);",
                "\nvar log = Activity.Finish().Errors.First().ToString().Substring(40);",
                "\n(log.Substring(0,log.Length-2) == Error.ChangeDataNodeState.GetMessage(\"GIC1\")).Should().Be(true);"
            ],
            "metadata": {},
            "execution_count": 0,
            "outputs": []
        },
        {
            "cell_type": "code",
            "source": [
                "workspace.Reset(x => x.ResetInitializationRules().ResetCurrentPartitions());"
            ],
            "metadata": {},
            "execution_count": 0,
            "outputs": []
        },
        {
            "cell_type": "markdown",
            "source": [
                "## Data Node State: Validation removes the entry when the DataSource already contains a previous version  "
            ],
            "metadata": {},
            "execution_count": 0,
            "outputs": []
        },
        {
            "cell_type": "code",
            "source": [
                "workspace.InitializeFrom(DataSource);",
                "\nvar partition = workspace.Query<PartitionByReportingNode>().Where(x => x.ReportingNode == \"CH\").ToArray().FirstOrDefault();",
                "\nawait workspace.Partition.SetAsync<PartitionByReportingNode>(partition);",
                "\n",
                "\nvar itemPrevious = new DataNodeState { Year = 2022, Month = 3, DataNode = \"GIC1\", State = State.Active, Partition = partition.Id };",
                "\nvar itemImport = new DataNodeState { Year = 2022, Month = 9, DataNode = \"GIC1\", State = State.Active, Partition = partition.Id };",
                "\n",
                "\n// Define persisted Data Node State",
                "\nvar persistentDataNodeDataByDataNode = new Dictionary<string, DataNodeData>",
                "\n{",
                "\n    [\"GIC1\"] = new DataNodeData() {DataNode = itemPrevious.DataNode, State = itemPrevious.State, Year = itemPrevious.Year, Month =  itemPrevious.Month},",
                "\n};",
                "\n",
                "\n// Reimport Data Node State for GIC1 with State unchanged",
                "\nawait workspace.DeleteAsync(workspace.Query<DataNodeState>().ToArray());",
                "\nawait workspace.UpdateAsync(itemImport);",
                "\nawait workspace.ValidateDataNodeStatesAsync(persistentDataNodeDataByDataNode);",
                "\n",
                "\n// Check that the new redundant State is removed from the Workspace",
                "\nworkspace.Query<DataNodeState>().ToArray().Should().BeEmpty();"
            ],
            "metadata": {},
            "execution_count": 0,
            "outputs": []
        },
        {
            "cell_type": "code",
            "source": [
                "//Workspace.Reset(x => x.ResetInitializationRules().ResetCurrentPartitions());",
                "\nworkspace.Dispose();"
            ],
            "metadata": {},
            "execution_count": 0,
            "outputs": []
        },
        {
            "cell_type": "code",
            "source": [
                ""
            ],
            "metadata": {},
            "execution_count": 0,
            "outputs": []
        }
    ]
}