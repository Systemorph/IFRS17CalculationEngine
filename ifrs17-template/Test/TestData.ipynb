{
    "metadata": {
        "authors": [],
        "kernelspec": {
            "display_name": "Formula Framework",
            "language": "C#",
            "name": "C#"
        },
        "language_info": {
            "file_extension": ".cs",
            "mimetype": "text/plain",
            "name": "C#"
        }
    },
    "nbformat": 4,
    "nbformat_minor": 5,
    "cells": [
        {
            "cell_type": "code",
            "source": [
                "#!import \"../../ifrs17/CalculationEngine\""
            ],
            "metadata": {},
            "execution_count": 0,
            "outputs": []
        },
        {
            "cell_type": "markdown",
            "source": [
                "# AoC Structure"
            ],
            "metadata": {},
            "execution_count": 0,
            "outputs": []
        },
        {
            "cell_type": "code",
            "source": [
                "string novelties = ",
                "\n@\"@@Novelty",
                "\nSystemName,DisplayName,Parent,Order",
                "\nI,In Force,,1",
                "\nN,New Business,,10",
                "\nC,Combined,,20\";",
                "\n",
                "\nstring canonicalAocTypes = ",
                "\n@\"@@AocType,,,,,,,,,,,",
                "\nSystemName,DisplayName,Parent,Order,,,,,,,,",
                "\nBOP,Opening Balance,,10,,,,,,,,",
                "\nMC,Model Correction,,20,,,,,,,,",
                "\nPC,Portfolio Changes,,30,,,,,,,,",
                "\nRCU,Reinsurance Coverage Update,PC,40,,,,,,,,",
                "\nCF,Cash flow,,50,,,,,,,,",
                "\nIA,Interest Accretion,,60,,,,,,,,",
                "\nAU,Assumption Update,,70,,,,,,,,",
                "\nFAU,Financial Assumption Update,,80,,,,,,,,",
                "\nYCU,Yield Curve Update,FAU,90,,,,,,,,",
                "\nCRU,Credit Risk Update,FAU,100,,,,,,,,",
                "\nEV,Experience Variance,,110,,,,,,,,",
                "\nWO,Write-Off,,120,,,,,,,,",
                "\nCL,Combined Liabilities,,130,,,,,,,,",
                "\nEA,Experience Adjustment,,140,,,,,,,,",
                "\nAM,Amortization,,150,,,,,,,,",
                "\nFX,FX Impact,,160,,,,,,,,",
                "\nEOP,Closing Balance,,170,,,,,,,,\";",
                "\n",
                "\nstring canonicalAocConfig = ",
                "\n@\"@@AocConfiguration,,,,,,,,,,,",
                "\nAocType,Novelty,DataType,InputSource,FxPeriod,YcPeriod,CdrPeriod,ValuationPeriod,RcPeriod,Order,Year,Month",
                "\nBOP,I,Optional,7,BeginningOfPeriod,BeginningOfPeriod,BeginningOfPeriod,BeginningOfPeriod,BeginningOfPeriod,10,1900,1",
                "\nMC,I,Optional,4,BeginningOfPeriod,BeginningOfPeriod,BeginningOfPeriod,BeginningOfPeriod,BeginningOfPeriod,20,1900,1",
                "\nRCU,I,Calculated,4,BeginningOfPeriod,BeginningOfPeriod,BeginningOfPeriod,BeginningOfPeriod,EndOfPeriod,30,1900,1",
                "\nCF,I,Calculated,4,Average,NotApplicable,BeginningOfPeriod,Delta,EndOfPeriod,40,1900,1",
                "\nIA,I,Calculated,5,Average,BeginningOfPeriod,BeginningOfPeriod,Delta,EndOfPeriod,50,1900,1",
                "\nAU,I,Optional,4,EndOfPeriod,BeginningOfPeriod,BeginningOfPeriod,EndOfPeriod,EndOfPeriod,60,1900,1",
                "\nYCU,I,CalculatedTelescopic,4,EndOfPeriod,EndOfPeriod,BeginningOfPeriod,EndOfPeriod,EndOfPeriod,70,1900,1",
                "\nCRU,I,CalculatedTelescopic,4,EndOfPeriod,EndOfPeriod,EndOfPeriod,EndOfPeriod,EndOfPeriod,80,1900,1",
                "\nEV,I,Optional,4,EndOfPeriod,EndOfPeriod,EndOfPeriod,EndOfPeriod,EndOfPeriod,90,1900,1",
                "\nBOP,N,Optional,4,Average,EndOfPeriod,EndOfPeriod,BeginningOfPeriod,EndOfPeriod,95,1900,1",
                "\nCF,N,Calculated,4,Average,NotApplicable,EndOfPeriod,Delta,EndOfPeriod,110,1900,1",
                "\nIA,N,Calculated,4,Average,EndOfPeriod,EndOfPeriod,Delta,EndOfPeriod,120,1900,1",
                "\nAU,N,Optional,4,EndOfPeriod,EndOfPeriod,EndOfPeriod,EndOfPeriod,EndOfPeriod,130,1900,1",
                "\nEV,N,Optional,4,EndOfPeriod,EndOfPeriod,EndOfPeriod,EndOfPeriod,EndOfPeriod,140,1900,1",
                "\nCF,C,Optional,2,Average,NotApplicable,NotApplicable,NotApplicable,NotApplicable,160,1900,1",
                "\nWO,C,Optional,2,Average,NotApplicable,NotApplicable,NotApplicable,NotApplicable,170,1900,1",
                "\nCL,C,Mandatory,4,EndOfPeriod,EndOfPeriod,EndOfPeriod,EndOfPeriod,EndOfPeriod,180,1900,1",
                "\nEA,C,Calculated,4,EndOfPeriod,NotApplicable,NotApplicable,NotApplicable,EndOfPeriod,190,1900,1",
                "\nAM,C,Calculated,6,EndOfPeriod,NotApplicable,NotApplicable,NotApplicable,EndOfPeriod,200,1900,1",
                "\nFX,C,Calculated,0,NotApplicable,NotApplicable,NotApplicable,NotApplicable,NotApplicable,210,1900,1",
                "\nEOP,C,Calculated,6,EndOfPeriod,EndOfPeriod,EndOfPeriod,EndOfPeriod,EndOfPeriod,220,1900,1\";"
            ],
            "metadata": {},
            "execution_count": 0,
            "outputs": []
        },
        {
            "cell_type": "markdown",
            "source": [
                "# Estimate Type"
            ],
            "metadata": {},
            "execution_count": 0,
            "outputs": []
        },
        {
            "cell_type": "code",
            "source": [
                "var estimateType = ",
                "\n@\"@@EstimateType,,,,,,,,,,,",
                "\nSystemName,DisplayName,Order,StructureType,InputSource,PeriodType,ExternalId0,ExternalId1,ExternalId2,ExternalId3,ExternalId4,",
                "\nBE,Best Estimate of Present Value,1,AoC,4,EndOfPeriod,,,,,,",
                "\nAA,Advance Actuals,60,AoC,3,NotApplicable,PayablePR,ReceivableNIC,ReceivableICO,RiReceivablePR,RiPayableNIC,",
                "\nOA,Overdue Actuals,70,AoC,3,NotApplicable,ReceivablePR,PayableNIC,PayableICO,RiPayablePR,RiReceivableNIC,",
                "\nDA,Deferrable Actuals,80,AoC,7,NotApplicable,,,,,,",
                "\nA,Actuals,90,None,2,NotApplicable,,,,,,",
                "\n,,,,,,,,,,,\";"
            ],
            "metadata": {},
            "execution_count": 0,
            "outputs": []
        },
        {
            "cell_type": "markdown",
            "source": [
                "# Projection Configuration"
            ],
            "metadata": {},
            "execution_count": 0,
            "outputs": []
        },
        {
            "cell_type": "code",
            "source": [
                "var projcetionConfigurationPrevious = new ProjectionConfiguration(){",
                "\n    Shift = 0,",
                "\n    TimeStep = 12,",
                "\n    SystemName = \"P11\",",
                "\n    DisplayName = \"End of December\"",
                "\n};"
            ],
            "metadata": {},
            "execution_count": 0,
            "outputs": []
        },
        {
            "cell_type": "markdown",
            "source": [
                "# Amount Type"
            ],
            "metadata": {},
            "execution_count": 0,
            "outputs": []
        },
        {
            "cell_type": "code",
            "source": [
                "var amountType = ",
                "\n@\"@@AmountType,,,,,,,,,,,",
                "\nSystemName,DisplayName,Parent,Order,PeriodType,ExternalId0,ExternalId1,ExternalId2,ExternalId3,,,",
                "\nPR,Premiums,,10,BeginningOfPeriod,PayablePR,ReceivablePR,RiPayablePR,RiReceivablePR,,,",
                "\nCL,Claims,,20,EndOfPeriod,,,,,,,",
                "\nICO,Investment Component,CL,40,EndOfPeriod,PayableICO,ReceivableICO,,,,,\";"
            ],
            "metadata": {},
            "execution_count": 0,
            "outputs": []
        },
        {
            "cell_type": "markdown",
            "source": [
                "# Reporting Nodes"
            ],
            "metadata": {},
            "execution_count": 0,
            "outputs": []
        },
        {
            "cell_type": "code",
            "source": [
                "var reportingNodeG = new ReportingNode() {",
                "\n    SystemName = \"G\",",
                "\n    DisplayName = \"Group\",",
                "\n    Currency = \"CHF\"",
                "\n};"
            ],
            "metadata": {},
            "execution_count": 0,
            "outputs": []
        },
        {
            "cell_type": "markdown",
            "source": [
                "# Variables"
            ],
            "metadata": {},
            "execution_count": 0,
            "outputs": []
        },
        {
            "cell_type": "code",
            "source": [
                "var groupOfInsuranceContracts = \"DT1.1\";",
                "\nvar groupOfReinsuranceContracts = \"DTR1.1\";",
                "\nvar reportingNode = \"CH\";",
                "\nvar scenario = (string)null;"
            ],
            "metadata": {},
            "execution_count": 0,
            "outputs": []
        },
        {
            "cell_type": "code",
            "source": [
                "var args = new ImportArgs(reportingNode, 2021, 3, Periodicity.Quarterly, scenario, ImportFormats.Actual);",
                "\nvar previousArgs = new ImportArgs(reportingNode, 2020, 12, Periodicity.Quarterly, scenario, ImportFormats.Actual);"
            ],
            "metadata": {},
            "execution_count": 0,
            "outputs": []
        },
        {
            "cell_type": "markdown",
            "source": [
                "# Partitions"
            ],
            "metadata": {},
            "execution_count": 0,
            "outputs": []
        },
        {
            "cell_type": "code",
            "source": [
                "var partition = new PartitionByReportingNodeAndPeriod { Id = (Guid)(await DataSource.Partition.GetKeyForInstanceAsync<PartitionByReportingNodeAndPeriod>(args)),",
                "\n                                                        ReportingNode = reportingNode, ",
                "\n                                                        Scenario = scenario, ",
                "\n                                                        Year = args.Year,",
                "\n                                                        Month = args.Month };",
                "\nvar previousPeriodPartition = new PartitionByReportingNodeAndPeriod { Id = (Guid)(await DataSource.Partition.GetKeyForInstanceAsync<PartitionByReportingNodeAndPeriod>(previousArgs)),",
                "\n                                                                      ReportingNode = reportingNode, ",
                "\n                                                                      Scenario = scenario, ",
                "\n                                                                      Year = previousArgs.Year,",
                "\n                                                                      Month = previousArgs.Month };",
                "\nvar partitionReportingNode = new PartitionByReportingNode { Id = (Guid)(await DataSource.Partition.GetKeyForInstanceAsync<PartitionByReportingNode>(args)),",
                "\n                                                        ReportingNode = args.ReportingNode};",
                "\n"
            ],
            "metadata": {},
            "execution_count": 0,
            "outputs": []
        },
        {
            "cell_type": "markdown",
            "source": [
                "# DataNodes and DataNodeData"
            ],
            "metadata": {},
            "execution_count": 0,
            "outputs": []
        },
        {
            "cell_type": "code",
            "source": [
                "var dt1 = new Portfolio(){",
                "\n    Partition = partitionReportingNode.Id,",
                "\n    ContractualCurrency = \"USD\",",
                "\n    LineOfBusiness = \"ANN\",",
                "\n    ValuationApproach =\"BBA\",",
                "\n    OciType = \"Default\",",
                "\n    SystemName = \"DT1\",",
                "\n    DisplayName = \"DT1 OCI\"",
                "\n};",
                "\n",
                "\nvar dtr1 = new Portfolio(){",
                "\n    Partition = partitionReportingNode.Id,",
                "\n    ContractualCurrency = \"USD\",",
                "\n    LineOfBusiness = \"ANN\",",
                "\n    ValuationApproach =\"BBA\",",
                "\n    OciType = \"Default\",",
                "\n    SystemName = \"DTR1\",",
                "\n    DisplayName = \"DTR1 OCI\"",
                "\n};",
                "\n",
                "\nvar dt11 = new GroupOfInsuranceContract(){",
                "\n    Portfolio = \"DT1\",",
                "\n    Profitability = \"P\",",
                "\n    LiabilityType = \"LRC\",",
                "\n    AnnualCohort = 2020,",
                "\n    Partition = partitionReportingNode.Id,",
                "\n    ContractualCurrency =  \"USD\",",
                "\n    LineOfBusiness = \"ANN\",",
                "\n    ValuationApproach = \"BBA\",",
                "\n    OciType =\"Default\" ,",
                "\n    SystemName = \"DT1.1\",",
                "\n    DisplayName = \"DT1.1 OCI LRC PA 0.8\"",
                "\n};",
                "\n",
                "\nvar dtr11 = new GroupOfReinsuranceContract(){",
                "\n    Portfolio = \"DTR1\",",
                "\n    Profitability = \"P\",",
                "\n    LiabilityType = \"LRC\",",
                "\n    AnnualCohort = 2020,",
                "\n    Partition = partitionReportingNode.Id,",
                "\n    ContractualCurrency =  \"USD\",",
                "\n    LineOfBusiness = \"ANN\",",
                "\n    ValuationApproach = \"BBA\",",
                "\n    OciType =\"Default\" ,",
                "\n    SystemName = \"DTR1.1\",",
                "\n    DisplayName = \"DTR1.1 OCI LRC PA 0.8\"",
                "\n};",
                "\nvar dt11State = new DataNodeState {",
                "\n            DataNode = \"DT1.1\",",
                "\n            State = State.Active,",
                "\n            Year = previousArgs.Year,",
                "\n            Month = previousArgs.Month,",
                "\n            Partition = partitionReportingNode.Id",
                "\n        };",
                "\n",
                "\nvar dtr11State = new DataNodeState {",
                "\n            DataNode = \"DTR1.1\",",
                "\n            State = State.Active,",
                "\n            Year = previousArgs.Year,",
                "\n            Month = previousArgs.Month,",
                "\n            Partition = partitionReportingNode.Id",
                "\n        };",
                "\n",
                "\nvar dt11SingleParameter = new SingleDataNodeParameter {",
                "\n                                        Year = previousArgs.Year,",
                "\n                                        Month = previousArgs.Month,",
                "\n                                        DataNode = \"DT1.1\",",
                "\n                                        PremiumAllocation = .8,",
                "\n                                        Partition = partitionReportingNode.Id",
                "\n                                    };",
                "\n",
                "\nvar dt11Inter = new InterDataNodeParameter{",
                "\n    LinkedDataNode = \"DTR1.1\",",
                "\n\tReinsuranceCoverage = 1,",
                "\n\tYear = args.Year,",
                "\n\tMonth = args.Month,",
                "\n\tDataNode = \"DT1.1\",",
                "\n\tScenario = args.Scenario,",
                "\n    Partition = partitionReportingNode.Id",
                "\n};"
            ],
            "metadata": {},
            "execution_count": 0,
            "outputs": []
        },
        {
            "cell_type": "markdown",
            "source": [
                "# YieldCurve"
            ],
            "metadata": {},
            "execution_count": 0,
            "outputs": []
        },
        {
            "cell_type": "code",
            "source": [
                "var yieldCurve = new YieldCurve(){",
                "\n    Currency = \"USD\",",
                "\n    Year = 2021,",
                "\n    Month = 3,",
                "\n    Values = new []{0.005,0.005,0.005,0.005}",
                "\n};",
                "\nvar yieldCurvePrevious = new YieldCurve(){",
                "\n    Currency = \"USD\",",
                "\n    Year = 2020,",
                "\n    Month = 12,",
                "\n    Values = new []{0.002, 0.002, 0.002, 0.002}",
                "\n};"
            ],
            "metadata": {},
            "execution_count": 0,
            "outputs": []
        }
    ]
}