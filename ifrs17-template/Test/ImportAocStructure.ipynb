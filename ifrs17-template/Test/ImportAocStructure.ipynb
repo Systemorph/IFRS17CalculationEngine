{
    "metadata": {
        "authors": [],
        "kernelspec": {
            "display_name": "Formula Framework",
            "language": "C#",
            "name": "C#"
        },
        "language_info": {
            "file_extension": ".cs",
            "mimetype": "text/plain",
            "name": "C#"
        }
    },
    "nbformat": 4,
    "nbformat_minor": 5,
    "cells": [
        {
            "cell_type": "code",
            "source": [
                "#!import \"../CalculationEngine\""
            ],
            "metadata": {},
            "execution_count": 0,
            "outputs": []
        },
        {
            "cell_type": "code",
            "source": [
                "string novelties = ",
                "\n@\"@@Novelty",
                "\nSystemName,DisplayName,Parent,Order",
                "\nI,In Force,,1",
                "\nN,New Business,,10",
                "\nC,Combined,,20\";",
                "\n",
                "\nstring canonicalAocTypes = ",
                "\n@\"@@AocType,,,,,,,,,,,",
                "\nSystemName,DisplayName,Parent,Order,,,,,,,,",
                "\nBOP,Opening Balance,,10,,,,,,,,",
                "\nMC,Model Correction,,20,,,,,,,,",
                "\nPC,Portfolio Changes,,30,,,,,,,,",
                "\nRCU,Reinsurance Coverage Update,PC,40,,,,,,,,",
                "\nCF,Cash flow,,50,,,,,,,,",
                "\nIA,Interest Accretion,,60,,,,,,,,",
                "\nAU,Assumption Update,,70,,,,,,,,",
                "\nFAU,Financial Assumption Update,,80,,,,,,,,",
                "\nYCU,Yield Curve Update,FAU,90,,,,,,,,",
                "\nCRU,Credit Risk Update,FAU,100,,,,,,,,",
                "\nEV,Experience Variance,,110,,,,,,,,",
                "\nWO,Write-Off,,120,,,,,,,,",
                "\nCL,Combined Liabilities,,130,,,,,,,,",
                "\nEA,Experience Adjustment,,140,,,,,,,,",
                "\nAM,Amortization,,150,,,,,,,,",
                "\nFX,FX Impact,,160,,,,,,,,",
                "\nEOP,Closing Balance,,170,,,,,,,,\";",
                "\n",
                "\nstring canonicalAocConfig = ",
                "\n@\"@@AocConfiguration,,,,,,,,,,,",
                "\nAocType,Novelty,DataType,InputSource,FxPeriod,YcPeriod,CdrPeriod,ValuationPeriod,RcPeriod,Order,Year,Month",
                "\nBOP,I,Optional,7,BeginningOfPeriod,BeginningOfPeriod,BeginningOfPeriod,BeginningOfPeriod,BeginningOfPeriod,10,1900,1",
                "\nMC,I,Optional,4,BeginningOfPeriod,BeginningOfPeriod,BeginningOfPeriod,BeginningOfPeriod,BeginningOfPeriod,20,1900,1",
                "\nRCU,I,Calculated,4,BeginningOfPeriod,BeginningOfPeriod,BeginningOfPeriod,BeginningOfPeriod,EndOfPeriod,30,1900,1",
                "\nCF,I,Calculated,4,Average,NotApplicable,BeginningOfPeriod,Delta,EndOfPeriod,40,1900,1",
                "\nIA,I,Calculated,5,Average,BeginningOfPeriod,BeginningOfPeriod,Delta,EndOfPeriod,50,1900,1",
                "\nAU,I,Optional,4,EndOfPeriod,BeginningOfPeriod,BeginningOfPeriod,EndOfPeriod,EndOfPeriod,60,1900,1",
                "\nYCU,I,CalculatedTelescopic,4,EndOfPeriod,EndOfPeriod,BeginningOfPeriod,EndOfPeriod,EndOfPeriod,70,1900,1",
                "\nCRU,I,CalculatedTelescopic,4,EndOfPeriod,EndOfPeriod,EndOfPeriod,EndOfPeriod,EndOfPeriod,80,1900,1",
                "\nEV,I,Optional,4,EndOfPeriod,EndOfPeriod,EndOfPeriod,EndOfPeriod,EndOfPeriod,90,1900,1",
                "\nBOP,N,Optional,4,Average,EndOfPeriod,EndOfPeriod,BeginningOfPeriod,EndOfPeriod,95,1900,1",
                "\nCF,N,Calculated,4,Average,NotApplicable,EndOfPeriod,Delta,EndOfPeriod,110,1900,1",
                "\nIA,N,Calculated,4,Average,EndOfPeriod,EndOfPeriod,Delta,EndOfPeriod,120,1900,1",
                "\nAU,N,Optional,4,EndOfPeriod,EndOfPeriod,EndOfPeriod,EndOfPeriod,EndOfPeriod,130,1900,1",
                "\nEV,N,Optional,4,EndOfPeriod,EndOfPeriod,EndOfPeriod,EndOfPeriod,EndOfPeriod,140,1900,1",
                "\nCF,C,Optional,2,Average,NotApplicable,NotApplicable,NotApplicable,NotApplicable,160,1900,1",
                "\nWO,C,Optional,2,Average,NotApplicable,NotApplicable,NotApplicable,NotApplicable,170,1900,1",
                "\nCL,C,Mandatory,4,EndOfPeriod,EndOfPeriod,EndOfPeriod,EndOfPeriod,EndOfPeriod,180,1900,1",
                "\nEA,C,Calculated,4,EndOfPeriod,NotApplicable,NotApplicable,NotApplicable,EndOfPeriod,190,1900,1",
                "\nAM,C,Calculated,6,EndOfPeriod,NotApplicable,NotApplicable,NotApplicable,EndOfPeriod,200,1900,1",
                "\nFX,C,Calculated,0,NotApplicable,NotApplicable,NotApplicable,NotApplicable,NotApplicable,210,1900,1",
                "\nEOP,C,Calculated,6,EndOfPeriod,EndOfPeriod,EndOfPeriod,EndOfPeriod,EndOfPeriod,220,1900,1\";",
                "\n"
            ],
            "metadata": {},
            "execution_count": 0,
            "outputs": []
        },
        {
            "cell_type": "code",
            "source": [
                "await Import.FromString(novelties).WithType<Novelty>().WithTarget(DataSource).ExecuteAsync();",
                "\nawait Import.FromString(canonicalAocTypes).WithType<AocType>().WithTarget(DataSource).ExecuteAsync();",
                "\nawait Import.FromString(canonicalAocConfig).WithFormat(\"AocConfiguration\").WithTarget(DataSource).ExecuteAsync();"
            ],
            "metadata": {},
            "execution_count": 0,
            "outputs": []
        },
        {
            "cell_type": "code",
            "source": [
                ""
            ],
            "metadata": {},
            "execution_count": 0,
            "outputs": []
        }
    ]
}