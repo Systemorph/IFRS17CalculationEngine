{
    "metadata": {
        "authors": [],
        "kernelspec": {
            "display_name": "Formula Framework",
            "language": "C#",
            "name": "C#"
        },
        "language_info": {
            "file_extension": ".cs",
            "mimetype": "text/plain",
            "name": "C#"
        },
        "toc-autonumbering": "True",
        "toc-showcode": "False"
    },
    "nbformat": 4,
    "nbformat_minor": 5,
    "cells": [
        {
            "cell_type": "markdown",
            "source": [
                "<p style=\"font-weight:bold;\"> <span style=\"font-size: 36px\"> Structure of the Cash flows, Actuals and Openings Files </span> </p>",
                "\n",
                "\nThis Notebook documents the structure of Cash flows, Actuals and Opening input files.",
                "\n",
                "\n<a id='cashflow'></a>",
                "\n# The Cash flows File Structure ",
                "\n",
                "\n<a name=\"TOC\"></a>",
                "\n<center><img src=\"./Images/CashflowFormat.png\" width=\"85%\" style=\"float:center;\">"
            ],
            "metadata": {},
            "execution_count": 0,
            "outputs": []
        },
        {
            "cell_type": "markdown",
            "source": [
                "A cash flow file is named **NominalCashflows** *\\_<reportingNode\\>* *\\_<year\\>* *\\_<month\\>* and is composed of two sections: **Main** and **Cashflow**.",
                "\n",
                "\nThe **Main** section contains information such as: Reporting Node, Year, Month and Scenario for which the data is being imported. This information is used to define the [partition](https://portal.systemorph.cloud/project/ifrs17/env/v1.1.0/DataModel/DataStructure#partitions) to which the data belongs.",
                "\n",
                "\nThe **Cashflow** section contains the cash flow data. Several pieces of information are required to characterize a cash flow correctly:",
                "\n- [DataNode](https://portal.systemorph.cloud/project/ifrs17/env/v1.1.0/DataModel/DataStructure#group-of-contracts) : lowest granularity of the Data Node, it is entered with its SystemName,",
                "\n- [AmountType](https://portal.systemorph.cloud/project/ifrs17/env/v1.1.0/DataModel/DataStructure#amount-type) : entered with its SystemName,",
                "\n- [EstimateType](https://portal.systemorph.cloud/project/ifrs17/env/v1.1.0/DataModel/DataStructure#estimate-type) : entered with its SystemName,",
                "\n- [AocType](https://portal.systemorph.cloud/project/ifrs17/env/v1.1.0/DataModel/DataStructure#aoc-type) : entered with its SystemName,",
                "\n- [Novelty](https://portal.systemorph.cloud/project/ifrs17/env/v1.1.0/DataModel/DataStructure#novelty) : entered with its SystemName,",
                "\n- AccidentYear : relevant for Data Node with Liability Type: Liability for Incurred Claims.",
                "\n",
                "\nAll valid combinations of AocType and Novelty can be found in [AocConfiguration](https://portal.systemorph.cloud/project/ifrs17/env/v1.1.0/DataModel/DataStructure#aoc-configuration) with DataType Optional or Mandatory.",
                "\n<br>The cash flow is entered in the columns named <code>ValuesN</code> where N goes from 0 to the lenght of cash flow. The Value0 corresponds to January of the Year entered in the **Main** section for every combination of AocType and Novelty. "
            ],
            "metadata": {},
            "execution_count": 0,
            "outputs": []
        },
        {
            "cell_type": "markdown",
            "source": [
                "<a id='actual'></a>",
                "\n# The Actuals File Structure ",
                "\n",
                "\n<a name=\"TOC\"></a>",
                "\n<center><img src=\"./Images/ActualFormat.png\" width=\"60%\" style=\"float:center;\">"
            ],
            "metadata": {},
            "execution_count": 0,
            "outputs": []
        },
        {
            "cell_type": "markdown",
            "source": [
                "An Actuals file is named **Actuals** *\\_<reportingNode\\>* *\\_<year\\>* *\\_<month\\>* and is composed of two sections: **Main** and **Actual**.",
                "\n",
                "\nThe **Main** section contains information such as: Reporting Node, Year, Month for which the data is being imported. This information is used to define the [partition](https://portal.systemorph.cloud/project/ifrs17/env/v1.1.0/DataModel/DataStructure#partition) to which the data belong.",
                "\n",
                "\nThe **Actual** section contains the actuals data. Several pieces of information are required to to characterize an Actuals amount correctly:",
                "\n- [DataNode](https://portal.systemorph.cloud/project/ifrs17/env/v1.1.0/DataModel/DataStructure#group-of-contracts) : lowest granularity of the Data Node, it is entered with its SystemName,",
                "\n- [AocType](https://portal.systemorph.cloud/project/ifrs17/env/v1.1.0/DataModel/DataStructure#aoc-type) : entered with its SystemName,",
                "\n- [AmountType](https://portal.systemorph.cloud/project/ifrs17/env/v1.1.0/DataModel/DataStructure#amount-type) : entered with its SystemName,",
                "\n- [EstimateType](https://portal.systemorph.cloud/project/ifrs17/env/v1.1.0/DataModel/DataStructure#estimate-type) : entered with its SystemName,",
                "\n- AccidentYear : relevant for Data Node with Liability Type: Liability for Incurred Claims."
            ],
            "metadata": {},
            "execution_count": 0,
            "outputs": []
        },
        {
            "cell_type": "markdown",
            "source": [
                "<a id='opening'></a>",
                "\n# The Openings File Structure ",
                "\n",
                "\n<a name=\"TOC\"></a>",
                "\n<center><img src=\"./Images/OpeningFormat.png\" width=\"85%\" style=\"float:center;\">"
            ],
            "metadata": {},
            "execution_count": 0,
            "outputs": []
        },
        {
            "cell_type": "markdown",
            "source": [
                "An Openings file is named **Openings** *\\_<reportingNode\\>* *\\_<year\\>* *\\_<month\\>* and is composed of two sections: **Main** and **Opening**.  In an AoC for one period, we only need one file with the year/month combination of the beginning of the period.  Some GICs do not need any entries in Openings.",
                "\n",
                "\nThe **Main** section contains information such as: Reporting Node, Year, Month for which the data is being imported. This information is used to define the [partition](https://portal.systemorph.cloud/project/ifrs17/env/v1.1.0/DataModel/DataStructure#partition) to which the data belong.",
                "\n",
                "\nThe **Opening** section contains values at opening of an analysis. Several pieces of information are required to to characterize an Opening amount correctly:",
                "\n- [DataNode](https://portal.systemorph.cloud/project/ifrs17/env/v1.1.0/DataModel/DataStructure#group-of-contracts) : lowest granularity of the Data Node, it is entered with its SystemName,",
                "\n- [AmountType](https://portal.systemorph.cloud/project/ifrs17/env/v1.1.0/DataModel/DataStructure#amount-type) : entered with its SystemName,",
                "\n- [EstimateType](https://portal.systemorph.cloud/project/ifrs17/env/v1.1.0/DataModel/DataStructure#estimate-type) : entered with its SystemName,",
                "\n- AccidentYear : relevant for Data Node with Liability Type: Liability for Incurred Claims."
            ],
            "metadata": {},
            "execution_count": 0,
            "outputs": []
        },
        {
            "cell_type": "markdown",
            "source": [
                ""
            ],
            "metadata": {},
            "execution_count": 0,
            "outputs": []
        }
    ]
}