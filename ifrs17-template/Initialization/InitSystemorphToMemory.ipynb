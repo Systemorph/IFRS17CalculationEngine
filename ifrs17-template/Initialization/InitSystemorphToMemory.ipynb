{
    "metadata": {
        "authors": [],
        "kernelspec": {
            "display_name": "Formula Framework",
            "language": "C#",
            "name": "C#"
        },
        "language_info": {
            "file_extension": ".cs",
            "mimetype": "text/plain",
            "name": "C#"
        },
        "toc-autonumbering": "True",
        "toc-showcode": "False"
    },
    "nbformat": 4,
    "nbformat_minor": 5,
    "cells": [
        {
            "cell_type": "markdown",
            "source": [
                "<p style=\"font-weight:bold;\"> <span style=\"font-size: 36px\"> In Memory Initialization of unconfigured DataSource </span> </p>",
                "\n",
                "\n<a id='init-to-memory'></a>"
            ],
            "metadata": {},
            "execution_count": 0,
            "outputs": []
        },
        {
            "cell_type": "code",
            "source": [
                "#!eval-notebook \"InitSystemorphBaseToMemory\""
            ],
            "metadata": {},
            "execution_count": 0,
            "outputs": []
        },
        {
            "cell_type": "code",
            "source": [
                "Workspace.Reset(x => x.ResetInitializationRules().ResetCurrentPartitions());"
            ],
            "metadata": {},
            "execution_count": 0,
            "outputs": []
        },
        {
            "cell_type": "code",
            "source": [
                "Workspace.InitializeFrom(DataSource);"
            ],
            "metadata": {},
            "execution_count": 0,
            "outputs": []
        },
        {
            "cell_type": "markdown",
            "source": [
                "# Import of Transactional Data"
            ],
            "metadata": {},
            "execution_count": 0,
            "outputs": []
        },
        {
            "cell_type": "code",
            "source": [
                "await Import.FromFile(\"../Files/TransactionalData/Openings_CH_2020_12.csv\")",
                "\n            .WithFormat(ImportFormats.Opening)",
                "\n            .WithTarget(DataSource)",
                "\n            .WithActivityLog(Session, DataSource, DataSetReader)",
                "\n            .ExecuteAsync()"
            ],
            "metadata": {},
            "execution_count": 0,
            "outputs": []
        },
        {
            "cell_type": "code",
            "source": [
                "await Import.FromFile(\"../Files/TransactionalData/NominalCashflows_CH_2020_12.csv\")",
                "\n            .WithFormat(ImportFormats.Cashflow)",
                "\n            .WithTarget(DataSource)",
                "\n            .WithActivityLog(Session, DataSource, DataSetReader)",
                "\n            .ExecuteAsync()"
            ],
            "metadata": {},
            "execution_count": 0,
            "outputs": []
        },
        {
            "cell_type": "code",
            "source": [
                "await Import.FromFile(\"../Files/TransactionalData/Actuals_CH_2020_12.csv\")",
                "\n            .WithFormat(ImportFormats.Actual)",
                "\n            .WithTarget(DataSource)",
                "\n            .WithActivityLog(Session, DataSource, DataSetReader)",
                "\n            .ExecuteAsync()"
            ],
            "metadata": {},
            "execution_count": 0,
            "outputs": []
        },
        {
            "cell_type": "code",
            "source": [
                "await Import.FromFile(\"../Files/TransactionalData/NominalCashflows_CH_2021_3.csv\")",
                "\n            .WithFormat(ImportFormats.Cashflow)",
                "\n            .WithTarget(DataSource)",
                "\n            .WithActivityLog(Session, DataSource, DataSetReader)",
                "\n            .ExecuteAsync()"
            ],
            "metadata": {},
            "execution_count": 0,
            "outputs": []
        },
        {
            "cell_type": "code",
            "source": [
                "await Import.FromFile(\"../Files/TransactionalData/Actuals_CH_2021_3.csv\")",
                "\n            .WithFormat(ImportFormats.Actual)",
                "\n            .WithTarget(DataSource)",
                "\n            .WithActivityLog(Session, DataSource, DataSetReader)",
                "\n            .ExecuteAsync()"
            ],
            "metadata": {},
            "execution_count": 0,
            "outputs": []
        },
        {
            "cell_type": "code",
            "source": [
                "await Import.FromFile(\"../Files/TransactionalData/SimpleValue_CH_2020_12.csv\")",
                "\n            .WithFormat(ImportFormats.SimpleValue )",
                "\n            .WithTarget(DataSource)",
                "\n            .WithActivityLog(Session, DataSource, DataSetReader)",
                "\n            .ExecuteAsync()"
            ],
            "metadata": {},
            "execution_count": 0,
            "outputs": []
        },
        {
            "cell_type": "code",
            "source": [
                "await Import.FromFile(\"../Files/TransactionalData/NominalCashflows_CH_2020_12_MTUP10pct.csv\")",
                "\n            .WithFormat(ImportFormats.Cashflow)",
                "\n            .WithTarget(DataSource)",
                "\n            .WithActivityLog(Session, DataSource, DataSetReader)",
                "\n            .ExecuteAsync()"
            ],
            "metadata": {},
            "execution_count": 0,
            "outputs": []
        },
        {
            "cell_type": "markdown",
            "source": [
                "# Reset Workspace"
            ],
            "metadata": {},
            "execution_count": 0,
            "outputs": []
        },
        {
            "cell_type": "code",
            "source": [
                "Workspace.Reset(x => x.ResetInitializationRules().ResetCurrentPartitions());"
            ],
            "metadata": {},
            "execution_count": 0,
            "outputs": []
        },
        {
            "cell_type": "code",
            "source": [
                ""
            ],
            "metadata": {},
            "execution_count": 0,
            "outputs": []
        }
    ]
}