{
    "metadata": {
        "authors": [],
        "id": "AYLw4Dn8fUutnnCGiIG6hA",
        "kernelspec": {
            "display_name": "Formula Framework",
            "language": "C#",
            "name": "C#"
        },
        "language_info": {
            "file_extension": ".cs",
            "mimetype": "text/plain",
            "name": "C#"
        }
    },
    "nbformat": 4,
    "nbformat_minor": 5,
    "cells": [
        {
            "cell_type": "code",
            "source": [
                "#!eval-notebook \"InitSystemorphRefDataToMemory\""
            ],
            "metadata": {},
            "execution_count": 0,
            "outputs": []
        },
        {
            "cell_type": "code",
            "source": [
                "Workspace.Reset(x => x.ResetInitializationRules().ResetCurrentPartitions());"
            ],
            "metadata": {},
            "execution_count": 0,
            "outputs": []
        },
        {
            "cell_type": "code",
            "source": [
                "Workspace.InitializeFrom(DataSource);"
            ],
            "metadata": {},
            "execution_count": 0,
            "outputs": []
        },
        {
            "cell_type": "code",
            "source": [
                "await Import.FromFile(pathToImport + \"DataNodes/DataNodes_FR.csv\")",
                "\n            .WithFormat(ImportFormats.DataNode)",
                "\n            .WithTarget(DataSource)",
                "\n            .WithActivityLog()",
                "\n            .ExecuteAsync()"
            ],
            "metadata": {},
            "execution_count": 0,
            "outputs": []
        },
        {
            "cell_type": "code",
            "source": [
                "await Import.FromFile(pathToImport + \"DataNodes/DataNodeStates_FR_2020_12.csv\")",
                "\n            .WithFormat(ImportFormats.DataNodeState)",
                "\n            .WithTarget(DataSource)",
                "\n            .WithActivityLog()",
                "\n            .ExecuteAsync()"
            ],
            "metadata": {},
            "execution_count": 0,
            "outputs": []
        },
        {
            "cell_type": "code",
            "source": [
                "await Import.FromFile(pathToImport + \"DataNodes/DataNodeParameters_FR_2020_12.csv\")",
                "\n            .WithFormat(ImportFormats.DataNodeParameter)",
                "\n            .WithTarget(DataSource)",
                "\n            .WithActivityLog()",
                "\n            .ExecuteAsync()"
            ],
            "metadata": {},
            "execution_count": 0,
            "outputs": []
        },
        {
            "cell_type": "code",
            "source": [
                "Workspace.Reset(x => x.ResetInitializationRules().ResetCurrentPartitions());"
            ],
            "metadata": {},
            "execution_count": 0,
            "outputs": []
        }
    ]
}