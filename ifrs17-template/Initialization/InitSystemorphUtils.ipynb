{
    "metadata": {
        "authors": [],
        "id": "6vRP2T2AiEq5rmfljOKoSQ",
        "kernelspec": {
            "display_name": "Formula Framework",
            "language": "C#",
            "name": "C#"
        },
        "language_info": {
            "file_extension": ".cs",
            "mimetype": "text/plain",
            "name": "C#"
        }
    },
    "nbformat": 4,
    "nbformat_minor": 5,
    "cells": [
        {
            "cell_type": "markdown",
            "source": [
                "<p style=\"font-weight:bold;\"> <span style=\"font-size: 36px\"> Utility Methods for Systemorph Initialization </span> </p>"
            ],
            "metadata": {},
            "execution_count": 0,
            "outputs": []
        },
        {
            "cell_type": "code",
            "source": [
                "using Systemorph.Vertex.DataSource;"
            ],
            "metadata": {},
            "execution_count": 0,
            "outputs": []
        },
        {
            "cell_type": "markdown",
            "source": [
                "# Files by Data Node"
            ],
            "metadata": {},
            "execution_count": 0,
            "outputs": []
        },
        {
            "cell_type": "code",
            "source": [
                "static readonly Dictionary<string,(string FileName, string Format)[]> DataNodeFiles = new Dictionary<string,(string FileName, string Format)[]>(){",
                "\n    {\"ES\", new (string, string)[]{(\"DataNodes/DataNodes_ES.csv\", ImportFormats.DataNode), ",
                "\n                                (\"DataNodes/DataNodeStates_ES_2020_12.csv\", ImportFormats.DataNodeState), ",
                "\n                                (\"DataNodes/DataNodeParameters_ES_2020_12.csv\", ImportFormats.DataNodeParameter)}}, ",
                "\n    {\"FR\", new (string, string)[]{(\"DataNodes/DataNodes_FR.csv\", ImportFormats.DataNode), ",
                "\n                                (\"DataNodes/DataNodeStates_FR_2020_12.csv\", ImportFormats.DataNodeState), ",
                "\n                                (\"DataNodes/DataNodeParameters_FR_2020_12.csv\", ImportFormats.DataNodeParameter)}}, ",
                "\n    {\"CH\", new (string, string)[]{(\"DataNodes/DataNodes_CH.csv\", ImportFormats.DataNode), ",
                "\n                                (\"DataNodes/DataNodeStates_CH_2020_12.csv\", ImportFormats.DataNodeState),  ",
                "\n                                (\"DataNodes/DataNodeParameters_CH_2020_12.csv\", ImportFormats.DataNodeParameter)}}};"
            ],
            "metadata": {},
            "execution_count": 0,
            "outputs": []
        },
        {
            "cell_type": "code",
            "source": [
                "static readonly Dictionary<string, (string FileName, string Format)[]> TransactionalFilesByDataNode = new Dictionary<string, (string FileName, string Format)[]>(){",
                "\n    {\"ES\", new (string, string)[]{(\"TransactionalData/Openings_ES_2020_12.csv\", ImportFormats.Opening), ",
                "\n                                (\"TransactionalData/NominalCashflows_ES_2020_12.csv\", ImportFormats.Cashflow), ",
                "\n                                (\"TransactionalData/Actuals_ES_2020_12.csv\", ImportFormats.Actual)}}, ",
                "\n    {\"FR\", new (string, string)[]{(\"TransactionalData/Openings_FR_2020_12.csv\", ImportFormats.Opening), ",
                "\n                                (\"TransactionalData/NominalCashflows_FR_2020_12.csv\", ImportFormats.Cashflow), ",
                "\n                                (\"TransactionalData/Actuals_FR_2020_12.csv\", ImportFormats.Actual)}}, ",
                "\n    {\"CH\", new (string, string)[]{(\"TransactionalData/Openings_CH_2020_12.csv\", ImportFormats.Opening), ",
                "\n                                (\"TransactionalData/NominalCashflows_CH_2020_12.csv\", ImportFormats.Cashflow),  ",
                "\n                                (\"TransactionalData/Actuals_CH_2020_12.csv\", ImportFormats.Actual), ",
                "\n                                (\"TransactionalData/SimpleValue_CH_2020_12.csv\", ImportFormats.SimpleValue), ",
                "\n                                (\"TransactionalData/NominalCashflows_CH_2020_12_MTUP10pct.csv\", ImportFormats.Cashflow), ",
                "\n                                (\"TransactionalData/NominalCashflows_CH_2021_3.csv\", ImportFormats.Cashflow), ",
                "\n                                (\"TransactionalData/Actuals_CH_2021_3.csv\", ImportFormats.Actual)}}};"
            ],
            "metadata": {},
            "execution_count": 0,
            "outputs": []
        },
        {
            "cell_type": "markdown",
            "source": [
                "# Import Tasks"
            ],
            "metadata": {},
            "execution_count": 0,
            "outputs": []
        },
        {
            "cell_type": "code",
            "source": [
                "public static async Task<ActivityLog[]> InitializeGenericAsync(this IImportVariable import, IDataSource dataSource, string pathToImport, ",
                "\n                                                                Dictionary<string, (string FileName, string Format)[]> filesDictionary, params string[] reportingNodes){",
                "\n    reportingNodes = !reportingNodes.Any() ? filesDictionary.Keys.ToArray() : reportingNodes;",
                "\n    var activitylogs = Enumerable.Empty<ActivityLog>().ToArray();",
                "\n    foreach(var reportingNode in reportingNodes){",
                "\n        foreach(var pair in filesDictionary[reportingNode]){",
                "\n            var currentActivityLog = await import.FromFile(pathToImport + pair.FileName).WithFormat(pair.Format).WithTarget(dataSource).WithActivityLog().ExecuteAsync();",
                "\n            activitylogs = activitylogs.Append(currentActivityLog).ToArray();",
                "\n        }",
                "\n    }",
                "\n    return activitylogs;",
                "\n}"
            ],
            "metadata": {},
            "execution_count": 0,
            "outputs": []
        },
        {
            "cell_type": "code",
            "source": [
                "public static async Task<ActivityLog[]> InitializeDataNodesAsync(this IImportVariable import, IDataSource dataSource, string pathToImport, params string[] reportingNodes) =>",
                "\n    await import.InitializeGenericAsync(dataSource, pathToImport, DataNodeFiles, reportingNodes);"
            ],
            "metadata": {},
            "execution_count": 0,
            "outputs": []
        },
        {
            "cell_type": "code",
            "source": [
                "public static async Task<ActivityLog[]> InitializeTransactionalDataAsync(this IImportVariable import, IDataSource dataSource, string pathToImport, params string[] reportingNodes) => ",
                "\n    await import.InitializeGenericAsync(dataSource, pathToImport, TransactionalFilesByDataNode, reportingNodes);"
            ],
            "metadata": {},
            "execution_count": 0,
            "outputs": []
        },
        {
            "cell_type": "code",
            "source": [
                "public static async Task<ActivityLog[]> InitializeFullAsync(this IImportVariable import, IDataSource dataSource, string pathToImport, params string[] reportingNodes) =>",
                "\n    (await import.InitializeDataNodesAsync(dataSource, pathToImport, reportingNodes)).Concat(await import.InitializeTransactionalDataAsync(dataSource, pathToImport, reportingNodes)).ToArray();"
            ],
            "metadata": {},
            "execution_count": 0,
            "outputs": []
        },
        {
            "cell_type": "code",
            "source": [
                ""
            ],
            "metadata": {},
            "execution_count": 0,
            "outputs": []
        }
    ]
}