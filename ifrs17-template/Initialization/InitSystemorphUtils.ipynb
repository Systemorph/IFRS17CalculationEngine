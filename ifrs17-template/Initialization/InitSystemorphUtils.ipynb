{
    "metadata": {
        "authors": [],
        "id": "6vRP2T2AiEq5rmfljOKoSQ",
        "kernelspec": {
            "display_name": "Formula Framework",
            "language": "C#",
            "name": "C#"
        },
        "language_info": {
            "file_extension": ".cs",
            "mimetype": "text/plain",
            "name": "C#"
        }
    },
    "nbformat": 4,
    "nbformat_minor": 5,
    "cells": [
        {
            "cell_type": "markdown",
            "source": [
                "<p style=\"font-weight:bold;\"> <span style=\"font-size: 36px\"> In Memory Initialization of unconfigured DataSource </span> </p>",
                "\n",
                "\n<a id='init-to-memory'></a>"
            ],
            "metadata": {},
            "execution_count": 0,
            "outputs": []
        },
        {
            "cell_type": "code",
            "source": [
                "#!eval-notebook \"InitSystemorphRefDataToMemory\""
            ],
            "metadata": {},
            "execution_count": 0,
            "outputs": []
        },
        {
            "cell_type": "code",
            "source": [
                "using Systemorph.Vertex.DataSource;"
            ],
            "metadata": {},
            "execution_count": 0,
            "outputs": []
        },
        {
            "cell_type": "markdown",
            "source": [
                "# Files by Data Node"
            ],
            "metadata": {},
            "execution_count": 0,
            "outputs": []
        },
        {
            "cell_type": "code",
            "source": [
                "var DataNodeFiles = new Dictionary<string,(string, string)[]>(){{\"ES\", new (string, string)[]{(\"DataNodes/DataNodes_ES.csv\", ImportFormats.DataNode), ",
                "\n                                                                        (\"DataNodes/DataNodeStates_ES_2020_12.csv\", ImportFormats.DataNodeState), ",
                "\n                                                                        (\"DataNodes/DataNodeParameters_ES_2020_12.csv\", ImportFormats.DataNodeParameter)}}, ",
                "\n                                                        {\"FR\", new (string, string)[]{(\"DataNodes/DataNodes_FR.csv\", ImportFormats.DataNode), ",
                "\n                                                                        (\"DataNodes/DataNodeStates_FR_2020_12.csv\", ImportFormats.DataNodeState), ",
                "\n                                                                        (\"DataNodes/DataNodeParameters_FR_2020_12.csv\", ImportFormats.DataNodeParameter)}}, ",
                "\n                                                        {\"CH\", new (string, string)[]{(\"DataNodes/DataNodes_CH.csv\", ImportFormats.DataNode), ",
                "\n                                                                        (\"DataNodes/DataNodeStates_CH_2020_12.csv\", ImportFormats.DataNodeState),  ",
                "\n                                                                        (\"DataNodes/DataNodeParameters_CH_2020_12.csv\", ImportFormats.DataNodeParameter)}}};"
            ],
            "metadata": {},
            "execution_count": 0,
            "outputs": []
        },
        {
            "cell_type": "code",
            "source": [
                "var TransactionalFilesByDataNode = new Dictionary<string, (string, string)[]>(){{\"ES\", new (string, string)[]{(\"TransactionalData/Openings_ES_2020_12.csv\", ImportFormats.Opening), ",
                "\n                                                                                        (\"TransactionalData/NominalCashflows_ES_2020_12.csv\", ImportFormats.Cashflow), ",
                "\n                                                                                        (\"TransactionalData/Actuals_ES_2020_12.csv\", ImportFormats.Actual)}}, ",
                "\n                                                                    {\"FR\", new (string, string)[]{(\"TransactionalData/Openings_FR_2020_12.csv\", ImportFormats.Opening), ",
                "\n                                                                                        (\"TransactionalData/NominalCashflows_FR_2020_12.csv\", ImportFormats.Cashflow), ",
                "\n                                                                                        (\"TransactionalData/Actuals_FR_2020_12.csv\", ImportFormats.Actual)}}, ",
                "\n                                                                    {\"CH\", new (string, string)[]{(\"TransactionalData/Openings_CH_2020_12.csv\", ImportFormats.Opening), ",
                "\n                                                                                        (\"TransactionalData/NominalCashflows_CH_2020_12.csv\", ImportFormats.Cashflow),  ",
                "\n                                                                                        (\"TransactionalData/Actuals_CH_2020_12.csv\", ImportFormats.Actual), ",
                "\n                                                                                        (\"TransactionalData/SimpleValue_CH_2020_12.csv\", ImportFormats.SimpleValue), ",
                "\n                                                                                        (\"TransactionalData/NominalCashflows_CH_2020_12_MTUP10pct.csv\", ImportFormats.Cashflow), ",
                "\n                                                                                        (\"TransactionalData/NominalCashflows_CH_2021_3.csv\", ImportFormats.Cashflow), ",
                "\n                                                                                        (\"TransactionalData/Actuals_CH_2021_3.csv\", ImportFormats.Actual)}}};"
            ],
            "metadata": {},
            "execution_count": 0,
            "outputs": []
        },
        {
            "cell_type": "markdown",
            "source": [
                "# Import Tasks"
            ],
            "metadata": {},
            "execution_count": 0,
            "outputs": []
        },
        {
            "cell_type": "code",
            "source": [
                "public async Task InitializeDataNodesAsync(IDataSourceVariable dataSource, string pathToImport, string[] nodes = null){",
                "\n    nodes = nodes ?? new string[]{\"ES\", \"FR\", \"CH\"};",
                "\n    var uploads = DataNodeFiles.Where(kvp => nodes.Contains(kvp.Key)).SelectMany(kvp => kvp.Value).ToArray();",
                "\n    foreach(var pair in uploads) ",
                "\n        await Import.FromFile(pathToImport + pair.Item1).WithFormat(pair.Item2).WithTarget(dataSource).WithActivityLog().ExecuteAsync();",
                "\n}"
            ],
            "metadata": {},
            "execution_count": 0,
            "outputs": []
        },
        {
            "cell_type": "code",
            "source": [
                "public async Task InitializeDataNodesAsync(IWorkspace workspace, string pathToImport, string[] nodes = null){",
                "\n    nodes = nodes ?? new string[]{\"ES\", \"FR\", \"CH\"};",
                "\n    var uploads = DataNodeFiles.Where(kvp => nodes.Contains(kvp.Key)).SelectMany(kvp => kvp.Value).ToArray();",
                "\n    foreach(var pair in uploads)",
                "\n        await Import.FromFile(pathToImport + pair.Item1).WithFormat(pair.Item2).WithTarget(workspace).WithActivityLog().ExecuteAsync();",
                "\n}"
            ],
            "metadata": {},
            "execution_count": 0,
            "outputs": []
        },
        {
            "cell_type": "code",
            "source": [
                "public async Task InitializeTransactionalDataAsync(IDataSourceVariable dataSource, string pathToImport, string[] nodes = null){",
                "\n    nodes = nodes ?? new string[]{\"ES\", \"FR\", \"CH\"};",
                "\n    var uploads = TransactionalFilesByDataNode.Where(kvp => nodes.Contains(kvp.Key)).SelectMany(kvp => kvp.Value).ToArray();",
                "\n    foreach(var pair in uploads)",
                "\n        await Import.FromFile(pathToImport + pair.Item1).WithFormat(pair.Item2).WithTarget(dataSource).WithActivityLog().ExecuteAsync();",
                "\n}"
            ],
            "metadata": {},
            "execution_count": 0,
            "outputs": []
        },
        {
            "cell_type": "code",
            "source": [
                "public async Task InitializeTransactionalDataAsync(IWorkspace workspace, string pathToImport, string[] nodes = null){",
                "\n    nodes = nodes ?? new string[]{\"ES\", \"FR\", \"CH\"};",
                "\n    var uploads = TransactionalFilesByDataNode.Where(kvp => nodes.Contains(kvp.Key)).SelectMany(kvp => kvp.Value).ToArray();",
                "\n    foreach(var pair in uploads)",
                "\n        await Import.FromFile(pathToImport + pair.Item1).WithFormat(pair.Item2).WithTarget(workspace).WithActivityLog().ExecuteAsync();",
                "\n}"
            ],
            "metadata": {},
            "execution_count": 0,
            "outputs": []
        },
        {
            "cell_type": "code",
            "source": [
                "//await InitializeDataNodesAsync();"
            ],
            "metadata": {},
            "execution_count": 0,
            "outputs": []
        },
        {
            "cell_type": "markdown",
            "source": [
                "# Import of Transactional Data"
            ],
            "metadata": {},
            "execution_count": 0,
            "outputs": []
        },
        {
            "cell_type": "markdown",
            "source": [
                "## FR Transactional Data"
            ],
            "metadata": {},
            "execution_count": 0,
            "outputs": []
        },
        {
            "cell_type": "code",
            "source": [
                "/* await Import.FromFile(pathToImport + \"TransactionalData/NominalCashflows_FR_2020_12.csv\")",
                "\n            .WithFormat(ImportFormats.Cashflow)",
                "\n            .WithTarget(DataSource)",
                "\n            .WithActivityLog()",
                "\n            .ExecuteAsync() */"
            ],
            "metadata": {},
            "execution_count": 0,
            "outputs": []
        },
        {
            "cell_type": "code",
            "source": [
                "/* await Import.FromFile(pathToImport + \"TransactionalData/Actuals_FR_2020_12.csv\")",
                "\n            .WithFormat(ImportFormats.Actual)",
                "\n            .WithTarget(DataSource)",
                "\n            .WithActivityLog()",
                "\n            .ExecuteAsync() */"
            ],
            "metadata": {},
            "execution_count": 0,
            "outputs": []
        },
        {
            "cell_type": "code",
            "source": [
                "//DataSource.Partition.GetCurrentPartitions()"
            ],
            "metadata": {},
            "execution_count": 0,
            "outputs": []
        },
        {
            "cell_type": "markdown",
            "source": [
                "## ES Transactional Data"
            ],
            "metadata": {},
            "execution_count": 0,
            "outputs": []
        },
        {
            "cell_type": "code",
            "source": [
                "/* await Import.FromFile(pathToImport + \"TransactionalData/Openings_ES_2020_12.csv\")",
                "\n            .WithFormat(ImportFormats.Opening)",
                "\n            .WithTarget(DataSource)",
                "\n            .WithActivityLog()",
                "\n            .ExecuteAsync() */"
            ],
            "metadata": {},
            "execution_count": 0,
            "outputs": []
        },
        {
            "cell_type": "code",
            "source": [
                "/* await Import.FromFile(pathToImport + \"TransactionalData/NominalCashflows_ES_2020_12.csv\")",
                "\n            .WithFormat(ImportFormats.Cashflow)",
                "\n            .WithTarget(DataSource)",
                "\n            .WithActivityLog()",
                "\n            .ExecuteAsync() */"
            ],
            "metadata": {},
            "execution_count": 0,
            "outputs": []
        },
        {
            "cell_type": "code",
            "source": [
                "/* await Import.FromFile(pathToImport + \"TransactionalData/Actuals_ES_2020_12.csv\")",
                "\n            .WithFormat(ImportFormats.Actual)",
                "\n            .WithTarget(DataSource)",
                "\n            .WithActivityLog()",
                "\n            .ExecuteAsync() */"
            ],
            "metadata": {},
            "execution_count": 0,
            "outputs": []
        },
        {
            "cell_type": "code",
            "source": [
                "//DataSource.Partition.GetCurrentPartitions()"
            ],
            "metadata": {},
            "execution_count": 0,
            "outputs": []
        },
        {
            "cell_type": "markdown",
            "source": [
                "## CH Transactional Data"
            ],
            "metadata": {},
            "execution_count": 0,
            "outputs": []
        },
        {
            "cell_type": "code",
            "source": [
                "/*await Import.FromFile(pathToImport + \"TransactionalData/Openings_CH_2020_12.csv\")",
                "\n            .WithFormat(ImportFormats.Opening)",
                "\n            .WithTarget(DataSource)",
                "\n            .WithActivityLog()",
                "\n            .ExecuteAsync()*/"
            ],
            "metadata": {},
            "execution_count": 0,
            "outputs": []
        },
        {
            "cell_type": "code",
            "source": [
                "/*await Import.FromFile(pathToImport + \"TransactionalData/NominalCashflows_CH_2020_12.csv\")",
                "\n            .WithFormat(ImportFormats.Cashflow)",
                "\n            .WithTarget(DataSource)",
                "\n            .WithActivityLog()",
                "\n            .ExecuteAsync()*/"
            ],
            "metadata": {},
            "execution_count": 0,
            "outputs": []
        },
        {
            "cell_type": "code",
            "source": [
                "/*await Import.FromFile(pathToImport + \"TransactionalData/Actuals_CH_2020_12.csv\")",
                "\n            .WithFormat(ImportFormats.Actual)",
                "\n            .WithTarget(DataSource)",
                "\n            .WithActivityLog()",
                "\n            .ExecuteAsync() */"
            ],
            "metadata": {},
            "execution_count": 0,
            "outputs": []
        },
        {
            "cell_type": "code",
            "source": [
                "/*await Import.FromFile(pathToImport + \"TransactionalData/SimpleValue_CH_2020_12.csv\")",
                "\n            .WithFormat(ImportFormats.SimpleValue )",
                "\n            .WithTarget(DataSource)",
                "\n            .WithActivityLog()",
                "\n            .ExecuteAsync() */"
            ],
            "metadata": {},
            "execution_count": 0,
            "outputs": []
        },
        {
            "cell_type": "code",
            "source": [
                "/*await Import.FromFile(pathToImport + \"TransactionalData/NominalCashflows_CH_2020_12_MTUP10pct.csv\")",
                "\n            .WithFormat(ImportFormats.Cashflow)",
                "\n            .WithTarget(DataSource)",
                "\n            .WithActivityLog()",
                "\n            .ExecuteAsync()*/"
            ],
            "metadata": {},
            "execution_count": 0,
            "outputs": []
        },
        {
            "cell_type": "code",
            "source": [
                "/*await Import.FromFile(pathToImport + \"TransactionalData/NominalCashflows_CH_2021_3.csv\")",
                "\n            .WithFormat(ImportFormats.Cashflow)",
                "\n            .WithTarget(DataSource)",
                "\n            .WithActivityLog()",
                "\n            .ExecuteAsync()*/"
            ],
            "metadata": {},
            "execution_count": 0,
            "outputs": []
        },
        {
            "cell_type": "code",
            "source": [
                "/*await Import.FromFile(pathToImport + \"TransactionalData/Actuals_CH_2021_3.csv\")",
                "\n            .WithFormat(ImportFormats.Actual)",
                "\n            .WithTarget(DataSource)",
                "\n            .WithActivityLog()",
                "\n            .ExecuteAsync() */"
            ],
            "metadata": {},
            "execution_count": 0,
            "outputs": []
        },
        {
            "cell_type": "markdown",
            "source": [
                "# Reset Workspace"
            ],
            "metadata": {},
            "execution_count": 0,
            "outputs": []
        },
        {
            "cell_type": "code",
            "source": [
                "//Workspace.Reset(x => x.ResetInitializationRules().ResetCurrentPartitions());"
            ],
            "metadata": {},
            "execution_count": 0,
            "outputs": []
        },
        {
            "cell_type": "code",
            "source": [
                "//DataSource.Partition.GetCurrentPartitions()"
            ],
            "metadata": {},
            "execution_count": 0,
            "outputs": []
        },
        {
            "cell_type": "code",
            "source": [
                ""
            ],
            "metadata": {},
            "execution_count": 0,
            "outputs": []
        }
    ]
}