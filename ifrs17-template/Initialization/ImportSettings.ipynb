{
    "metadata": {
        "authors": [],
        "id": "qm1URhtQPEmdOMumfNuQaQ",
        "kernelspec": {
            "display_name": "Formula Framework",
            "language": "C#",
            "name": "C#"
        },
        "language_info": {
            "file_extension": ".cs",
            "mimetype": "text/plain",
            "name": "C#"
        }
    },
    "nbformat": 4,
    "nbformat_minor": 5,
    "cells": [
        {
            "cell_type": "code",
            "source": [
                "var pathToImport = \"../Files/\";",
                "\n//#!import \"../Constants/Sharepoint\"",
                "\n//var fileStorage = SharePoint.Site(Sharepoint.Sites, Sharepoint.Tenant);",
                "\n//var pathToImport = Sharepoint.PathToImport",
                "\n//Import.SetDefaultFileStorage(fileStorage);"
            ],
            "metadata": {},
            "execution_count": 0,
            "outputs": []
        }
    ]
}