{
    "metadata": {
        "authors": [],
        "id": "qm1URhtQPEmdOMumfNuQaQ",
        "kernelspec": {
            "display_name": "Formula Framework",
            "language": "C#",
            "name": "C#"
        },
        "language_info": {
            "file_extension": ".cs",
            "mimetype": "text/plain",
            "name": "C#"
        }
    },
    "nbformat": 4,
    "nbformat_minor": 5,
    "cells": [
        {
            "cell_type": "markdown",
            "source": [
                "In order to allow direct export of the files into the sharepoint folder of choice, please comment out the first row of the following code and uncomment the rest of the code. In order to ensure that the import proceeds without errors, please make sure that you sharepoint import folder has a structure, similar to the one of the Files folder in our template. "
            ],
            "metadata": {},
            "execution_count": 0,
            "outputs": []
        },
        {
            "cell_type": "code",
            "source": [
                "var pathToImport = \"../Files/\";",
                "\n//#!import \"../Constants/Sharepoint\"",
                "\n//string importFolder = \"\";",
                "\n//var pathToImport = sharePointConnectionConfiguration.Root + importFolder;",
                "\n//Import.SetDefaultFileStorage(SharePoint);"
            ],
            "metadata": {},
            "execution_count": 0,
            "outputs": []
        }
    ]
}