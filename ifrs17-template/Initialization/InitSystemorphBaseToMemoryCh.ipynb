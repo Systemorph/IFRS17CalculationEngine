{
    "metadata": {
        "authors": [],
        "id": "sdpVZCDrU0uXpEu1IgO0jQ",
        "kernelspec": {
            "display_name": "Formula Framework",
            "language": "C#",
            "name": "C#"
        },
        "language_info": {
            "file_extension": ".cs",
            "mimetype": "text/plain",
            "name": "C#"
        }
    },
    "nbformat": 4,
    "nbformat_minor": 5,
    "cells": [
        {
            "cell_type": "markdown",
            "source": [
                "<p style=\"font-weight:bold;\"> <span style=\"font-size: 36px\"> In Memory Initialization of unconfigured DataSource </span> </p>",
                "\n<p style=\"font-weight:bold;\"> <span style=\"font-size: 24px\"> CH DataNode </span> </p>",
                "\n",
                "\n<a id='init-base-to-memory'></a>"
            ],
            "metadata": {},
            "execution_count": 0,
            "outputs": []
        },
        {
            "cell_type": "code",
            "source": [
                "#!eval-notebook \"InitSystemorphRefDataToMemory\""
            ],
            "metadata": {},
            "execution_count": 0,
            "outputs": []
        },
        {
            "cell_type": "markdown",
            "source": [
                "# Initialize Data Source"
            ],
            "metadata": {},
            "execution_count": 0,
            "outputs": []
        },
        {
            "cell_type": "code",
            "source": [
                "Workspace.Reset(x => x.ResetInitializationRules().ResetCurrentPartitions());"
            ],
            "metadata": {},
            "execution_count": 0,
            "outputs": []
        },
        {
            "cell_type": "code",
            "source": [
                "Workspace.InitializeFrom(DataSource);"
            ],
            "metadata": {},
            "execution_count": 0,
            "outputs": []
        },
        {
            "cell_type": "markdown",
            "source": [
                "# Import"
            ],
            "metadata": {},
            "execution_count": 0,
            "outputs": []
        },
        {
            "cell_type": "code",
            "source": [
                "await Import.FromFile(pathToImport + \"DataNodes/DataNodes_CH.csv\")",
                "\n            .WithFormat(ImportFormats.DataNode)",
                "\n            .WithTarget(DataSource)",
                "\n            .WithActivityLog()",
                "\n            .ExecuteAsync()"
            ],
            "metadata": {},
            "execution_count": 0,
            "outputs": []
        },
        {
            "cell_type": "code",
            "source": [
                "await Import.FromFile(pathToImport + \"DataNodes/DataNodeStates_CH_2020_12.csv\")",
                "\n            .WithFormat(ImportFormats.DataNodeState)",
                "\n            .WithTarget(DataSource)",
                "\n            .WithActivityLog()",
                "\n            .ExecuteAsync()"
            ],
            "metadata": {},
            "execution_count": 0,
            "outputs": []
        },
        {
            "cell_type": "code",
            "source": [
                "await Import.FromFile(pathToImport + \"DataNodes/DataNodeParameters_CH_2020_12.csv\")",
                "\n            .WithFormat(ImportFormats.DataNodeParameter)",
                "\n            .WithTarget(DataSource)",
                "\n            .WithActivityLog()",
                "\n            .ExecuteAsync()"
            ],
            "metadata": {},
            "execution_count": 0,
            "outputs": []
        },
        {
            "cell_type": "markdown",
            "source": [
                "# Reset Workspace"
            ],
            "metadata": {},
            "execution_count": 0,
            "outputs": []
        },
        {
            "cell_type": "code",
            "source": [
                "Workspace.Reset(x => x.ResetInitializationRules().ResetCurrentPartitions());"
            ],
            "metadata": {},
            "execution_count": 0,
            "outputs": []
        }
    ]
}