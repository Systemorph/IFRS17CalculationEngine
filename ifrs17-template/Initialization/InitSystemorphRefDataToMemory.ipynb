{
    "metadata": {
        "authors": [],
        "kernelspec": {
            "display_name": "Formula Framework",
            "language": "C#",
            "name": "C#"
        },
        "language_info": {
            "file_extension": ".cs",
            "mimetype": "text/plain",
            "name": "C#"
        },
        "toc-autonumbering": "True",
        "toc-showcode": "False"
    },
    "nbformat": 4,
    "nbformat_minor": 5,
    "cells": [
        {
            "cell_type": "markdown",
            "source": [
                "<p style=\"font-weight:bold;\"> <span style=\"font-size: 36px\"> In Memory Initialization of unconfigured DataSource </span> </p>",
                "\n<p style=\"font-weight:bold;\"> <span style=\"font-size: 24px\"> Reference Data </span> </p>",
                "\n",
                "\n<a id='init-base-to-memory'></a>"
            ],
            "metadata": {},
            "execution_count": 0,
            "outputs": []
        },
        {
            "cell_type": "code",
            "source": [
                "#!import \"../Constants/CalculationEngine\"",
                "\n#!eval calculationEngine"
            ],
            "metadata": {},
            "execution_count": 0,
            "outputs": []
        },
        {
            "cell_type": "markdown",
            "source": [
                "# Set default DataSource"
            ],
            "metadata": {},
            "execution_count": 0,
            "outputs": []
        },
        {
            "cell_type": "code",
            "source": [
                "await DataSource.SetAsync();",
                "\nDataSource.Reset(x => x.ResetCurrentPartitions());"
            ],
            "metadata": {},
            "execution_count": 0,
            "outputs": []
        },
        {
            "cell_type": "markdown",
            "source": [
                "# Initialize Workspace"
            ],
            "metadata": {},
            "execution_count": 0,
            "outputs": []
        },
        {
            "cell_type": "code",
            "source": [
                "Workspace.Reset(x => x.ResetInitializationRules().ResetCurrentPartitions());"
            ],
            "metadata": {},
            "execution_count": 0,
            "outputs": []
        },
        {
            "cell_type": "code",
            "source": [
                "Workspace.InitializeFrom(DataSource);"
            ],
            "metadata": {},
            "execution_count": 0,
            "outputs": []
        },
        {
            "cell_type": "markdown",
            "source": [
                "# Import Dimensions"
            ],
            "metadata": {},
            "execution_count": 0,
            "outputs": []
        },
        {
            "cell_type": "code",
            "source": [
                "await Import.FromFile(\"../Files/Dimensions.csv\")",
                "\n                .WithType<Novelty>()",
                "\n                .WithType<AocType>()",
                "\n                .WithType<PnlVariableType>()",
                "\n                .WithType<BsVariableType>()",
                "\n                .WithType<AmountType>()",
                "\n                .WithType<DeferrableAmountType>()",
                "\n                .WithType<RiskDriver>()",
                "\n                .WithType<EconomicBasis>()",
                "\n                .WithType<EstimateType>()",
                "\n                .WithType<ValuationApproach>()",
                "\n                .WithType<LineOfBusiness>()",
                "\n                .WithType<OciType>()",
                "\n                .WithType<LiabilityType>()",
                "\n                .WithType<Profitability>()",
                "\n                .WithType<Currency>()",
                "\n                .WithType<Partner>()",
                "\n                .WithType<CreditRiskRating>()",
                "\n                .WithType<Scenario>()",
                "\n                .WithType<ProjectionConfiguration>()",
                "\n                .WithTarget(DataSource)",
                "\n                .ExecuteAsync()"
            ],
            "metadata": {},
            "execution_count": 0,
            "outputs": []
        },
        {
            "cell_type": "code",
            "source": [
                "await Import.FromFile(\"../Files/Dimensions.csv\").WithFormat(ImportFormats.AocConfiguration).WithTarget(DataSource).ExecuteAsync()"
            ],
            "metadata": {},
            "execution_count": 0,
            "outputs": []
        },
        {
            "cell_type": "code",
            "source": [
                "await Import.FromFile(\"../Files/ReportingNodes/ReportingNodes.csv\").WithType<ReportingNode>().WithTarget(DataSource).ExecuteAsync()"
            ],
            "metadata": {},
            "execution_count": 0,
            "outputs": []
        },
        {
            "cell_type": "markdown",
            "source": [
                "# Import Parameters"
            ],
            "metadata": {},
            "execution_count": 0,
            "outputs": []
        },
        {
            "cell_type": "code",
            "source": [
                "//var log = await Import.FromFile(\"../Files/Parameters/YieldCurve_2020_1.csv\").WithType<YieldCurve>().SnapshotMode().WithTarget(DataSource).ExecuteAsync();",
                "\n//log.Merge(await Import.FromFile(\"../Files/Parameters/YieldCurve_2020_3.csv\").WithType<YieldCurve>().SnapshotMode().WithTarget(DataSource).ExecuteAsync());",
                "\n//log.Merge(await Import.FromFile(\"../Files/Parameters/YieldCurve_2020_12.csv\").WithType<YieldCurve>().SnapshotMode().WithTarget(DataSource).ExecuteAsync());",
                "\n//log.Merge(await Import.FromFile(\"../Files/Parameters/YieldCurve_2021_3.csv\").WithType<YieldCurve>().SnapshotMode().WithTarget(DataSource).ExecuteAsync());",
                "\n//log",
                "\n",
                "\n    var file = \"../Files/Parameters/YieldCurve_2021_3.csv\";",
                "\n    var extension = System.IO.Path.GetExtension(file);",
                "\n    var stream = await Project.FileStorage.ReadAsync(file);",
                "\n    var dataSet = (await DataSetReader.ReadFromStream(stream).WithContentType(extension).ExecuteAsync()).DataSet;",
                "\n",
                "\n    Activity.Start();",
                "\n    // Parsing Main",
                "\n    var mainTab = dataSet.Tables[Main];",
                "\n    if(mainTab == null) ApplicationMessage.Log(Error.NoMainTab);",
                "\n    if(mainTab.Rows.Count() == 0) ApplicationMessage.Log(Error.IncompleteMainTab);",
                "\n    if(mainTab.Columns.Where(x => x.ColumnName == nameof(YieldCurve.Year)).Count()!=1) ApplicationMessage.Log(Error.YearInMainNotFound);",
                "\n    if(mainTab.Columns.Where(x => x.ColumnName == nameof(YieldCurve.Month)).Count()!=1) ApplicationMessage.Log(Error.MonthInMainNotFound);",
                "\n    if(ApplicationMessage.HasErrors()) return Activity.Finish();",
                "\n    ",
                "\n    var main = mainTab.Rows.First();",
                "\n    var scenario = mainTab.Columns.Where(x => x.ColumnName == nameof(Scenario)).Count()>0? (string)main[nameof(Scenario)] : default(string);",
                "\n    var year = (int)Convert.ChangeType(main[nameof(YieldCurve.Year)], typeof(int));",
                "\n    var month = (int)Convert.ChangeType(main[nameof(YieldCurve.Month)], typeof(int));",
                "\n",
                "\n    var workspace = Workspace.CreateNew();",
                "\n    workspace.Initialize(x => x.FromSource(DataSource).DisableInitialization<RawVariable>().DisableInitialization<IfrsVariable>());",
                "\n   ",
                "\n    var importLog = await Import.FromDataSet(dataSet)",
                "\n        .WithType<YieldCurve>((dataset, datarow) => {",
                "\n            var currency = datarow.Field<string>(nameof(YieldCurve.Currency));",
                "\n            var values = datarow.Table.Columns.Where(c => c.ColumnName.StartsWith(nameof(YieldCurve.Values))).OrderBy(c => c.ColumnName.Length).ThenBy(c => c.ColumnName)",
                "\n                                .Select(x => datarow.Field<string>(x.ColumnName).CheckStringForExponentialAndConvertToDouble()).ToArray();",
                "\n            var item = new YieldCurve {",
                "\n                Currency = currency,",
                "\n                Year = year,",
                "\n                Month = month, ",
                "\n                Scenario = scenario,",
                "\n                Values = values",
                "\n            };",
                "\n            return item;",
                "\n        }).WithTarget(workspace).ExecuteAsync(); ",
                "\n    var oldYieldCurves = await DataSource.Query<YieldCurve>().ToArrayAsync();",
                "\n    if(importLog.Errors.Any()) return Activity.Finish().Merge(importLog); ",
                "\n    ",
                "\n    var newYieldCurves = await workspace.Query<YieldCurve>().ToArrayAsync();",
                "\n    newYieldCurves = newYieldCurves.Except(oldYieldCurves, YieldCurveComparer.Instance()).ToArray();",
                "\n    if (!newYieldCurves.Any()){",
                "\n        ApplicationMessage.Log(Warning.VariablesAlreadyImported);   ",
                "\n        return Activity.Finish().Merge(importLog);",
                "\n    }",
                "\n    ",
                "\n    await DataSource.UpdateAsync<YieldCurve>(newYieldCurves.Concat(oldYieldCurves));",
                "\n    await DataSource.CommitAsync();",
                "\n    var targetArgs = (await DataSource.Query<PartitionByReportingNodeAndPeriod>().ToArrayAsync())",
                "\n                                      .Where(x => x.Year == year && x.Month == month && x.Scenario == scenario)",
                "\n                                      .Select(x => new ImportArgs( x.ReportingNode,",
                "\n                                                                   x.Year, ",
                "\n                                                                   x.Month,",
                "\n                                                                   Periodicity.Quarterly,",
                "\n                                                                   x.Scenario,",
                "\n                                                                   ImportFormats.Cashflow)).ToArray();",
                "\n",
                "\n    //var calculationLog = await CalculationYieldCurvesAsync(targetArgs);",
                "\n    return Activity.Finish().Merge(importLog);",
                "\n"
            ],
            "metadata": {},
            "execution_count": 0,
            "outputs": []
        },
        {
            "cell_type": "code",
            "source": [
                "DataSource.Query<YieldCurve>()"
            ],
            "metadata": {},
            "execution_count": 0,
            "outputs": []
        },
        {
            "cell_type": "code",
            "source": [
                "DataSource.Reset(DataSource.Reset(x => x.ResetType<YieldCurve>()))"
            ],
            "metadata": {},
            "execution_count": 0,
            "outputs": []
        },
        {
            "cell_type": "code",
            "source": [
                "await Import.FromFile(\"../Files/Parameters/ExchangeRate.csv\").WithType<ExchangeRate>().SnapshotMode().WithTarget(DataSource).ExecuteAsync()"
            ],
            "metadata": {},
            "execution_count": 0,
            "outputs": []
        },
        {
            "cell_type": "code",
            "source": [
                "await Import.FromFile(\"../Files/Parameters/PartnerRating.csv\").WithType<PartnerRating>().SnapshotMode().WithTarget(DataSource).ExecuteAsync()"
            ],
            "metadata": {},
            "execution_count": 0,
            "outputs": []
        },
        {
            "cell_type": "code",
            "source": [
                "await Import.FromFile(\"../Files/Parameters/CreditDefaultRate.csv\").WithType<CreditDefaultRate>().SnapshotMode().WithTarget(DataSource).ExecuteAsync()"
            ],
            "metadata": {},
            "execution_count": 0,
            "outputs": []
        },
        {
            "cell_type": "markdown",
            "source": [
                "# Reset Workspace"
            ],
            "metadata": {},
            "execution_count": 0,
            "outputs": []
        },
        {
            "cell_type": "code",
            "source": [
                "Workspace.Reset(x => x.ResetInitializationRules().ResetCurrentPartitions());"
            ],
            "metadata": {},
            "execution_count": 0,
            "outputs": []
        },
        {
            "cell_type": "code",
            "source": [
                "DataSource.Query<YieldCurve>()"
            ],
            "metadata": {},
            "execution_count": 0,
            "outputs": []
        },
        {
            "cell_type": "code",
            "source": [
                "await Import.FromFile(\"../Files/Parameters/YieldCurve_2020_1.csv\").WithType<YieldCurve>().SnapshotMode().WithTarget(DataSource).ExecuteAsync();"
            ],
            "metadata": {},
            "execution_count": 0,
            "outputs": []
        },
        {
            "cell_type": "code",
            "source": [
                "DataSource.Query<YieldCurve>()"
            ],
            "metadata": {},
            "execution_count": 0,
            "outputs": []
        }
    ]
}