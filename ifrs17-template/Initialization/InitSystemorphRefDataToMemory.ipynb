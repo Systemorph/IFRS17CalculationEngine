{
    "metadata": {
        "authors": [],
        "kernelspec": {
            "display_name": "Formula Framework",
            "language": "C#",
            "name": "C#"
        },
        "language_info": {
            "file_extension": ".cs",
            "mimetype": "text/plain",
            "name": "C#"
        },
        "toc-autonumbering": "True",
        "toc-showcode": "False"
    },
    "nbformat": 4,
    "nbformat_minor": 5,
    "cells": [
        {
            "cell_type": "markdown",
            "source": [
                "<p style=\"font-weight:bold;\"> <span style=\"font-size: 36px\"> In Memory Initialization of unconfigured DataSource </span> </p>",
                "\n<p style=\"font-weight:bold;\"> <span style=\"font-size: 24px\"> Reference Data </span> </p>",
                "\n",
                "\n<a id='init-base-to-memory'></a>"
            ],
            "metadata": {},
            "execution_count": 0,
            "outputs": []
        },
        {
            "cell_type": "code",
            "source": [
                "#!import \"../Constants/CalculationEngine\"",
                "\n#!eval calculationEngine"
            ],
            "metadata": {},
            "execution_count": 0,
            "outputs": []
        },
        {
            "cell_type": "markdown",
            "source": [
                "# Set default DataSource"
            ],
            "metadata": {},
            "execution_count": 0,
            "outputs": []
        },
        {
            "cell_type": "code",
            "source": [
                "await DataSource.SetAsync();",
                "\nDataSource.Reset(x => x.ResetCurrentPartitions());"
            ],
            "metadata": {},
            "execution_count": 0,
            "outputs": []
        },
        {
            "cell_type": "markdown",
            "source": [
                "# Initialize Workspace"
            ],
            "metadata": {},
            "execution_count": 0,
            "outputs": []
        },
        {
            "cell_type": "code",
            "source": [
                "Workspace.Reset(x => x.ResetInitializationRules().ResetCurrentPartitions());"
            ],
            "metadata": {},
            "execution_count": 0,
            "outputs": []
        },
        {
            "cell_type": "code",
            "source": [
                "Workspace.InitializeFrom(DataSource);"
            ],
            "metadata": {},
            "execution_count": 0,
            "outputs": []
        },
        {
            "cell_type": "markdown",
            "source": [
                "# Import Dimensions"
            ],
            "metadata": {},
            "execution_count": 0,
            "outputs": []
        },
        {
            "cell_type": "code",
            "source": [
                "await Import.FromFile(\"../Files/Dimensions.csv\")",
                "\n                .WithType<Novelty>()",
                "\n                .WithType<AocType>()",
                "\n                .WithType<PnlVariableType>()",
                "\n                .WithType<BsVariableType>()",
                "\n                .WithType<AmountType>()",
                "\n                .WithType<DeferrableAmountType>()",
                "\n                .WithType<RiskDriver>()",
                "\n                .WithType<EconomicBasis>()",
                "\n                .WithType<EstimateType>()",
                "\n                .WithType<ValuationApproach>()",
                "\n                .WithType<LineOfBusiness>()",
                "\n                .WithType<OciType>()",
                "\n                .WithType<LiabilityType>()",
                "\n                .WithType<Profitability>()",
                "\n                .WithType<Currency>()",
                "\n                .WithType<Partner>()",
                "\n                .WithType<CreditRiskRating>()",
                "\n                .WithType<Scenario>()",
                "\n                .WithType<ProjectionConfiguration>()",
                "\n                .WithTarget(DataSource)",
                "\n                .ExecuteWithStoreActivityAsync(Session, DataSource, DataSetReader)"
            ],
            "metadata": {},
            "execution_count": 0,
            "outputs": []
        },
        {
            "cell_type": "code",
            "source": [
                "await Import.FromFile(\"../Files/Dimensions.csv\")",
                "\n                .WithFormat(ImportFormats.AocConfiguration)",
                "\n                .WithTarget(DataSource)",
                "\n                .ExecuteWithStoreActivityAsync(Session, DataSource, DataSetReader)"
            ],
            "metadata": {},
            "execution_count": 0,
            "outputs": []
        },
        {
            "cell_type": "code",
            "source": [
                "await Import.FromFile(\"../Files/ReportingNodes/ReportingNodes.csv\")",
                "\n                    .WithType<ReportingNode>()",
                "\n                    .WithTarget(DataSource)",
                "\n                    .ExecuteWithStoreActivityAsync(Session, DataSource, DataSetReader)"
            ],
            "metadata": {},
            "execution_count": 0,
            "outputs": []
        },
        {
            "cell_type": "markdown",
            "source": [
                "# Import Parameters"
            ],
            "metadata": {},
            "execution_count": 0,
            "outputs": []
        },
        {
            "cell_type": "code",
            "source": [
                "var log = await Import.FromFile(\"../Files/Parameters/YieldCurve_2019_12.csv\")",
                "\n                        .WithFormat(ImportFormats.YieldCurve)",
                "\n                        .WithTarget(DataSource)",
                "\n                        .ExecuteWithStoreActivityAsync(Session, DataSource, DataSetReader);",
                "\nlog.Merge(await Import.FromFile(\"../Files/Parameters/YieldCurve_2020_1.csv\")",
                "\n                        .WithFormat(ImportFormats.YieldCurve)",
                "\n                        .WithTarget(DataSource)",
                "\n                        .ExecuteWithStoreActivityAsync(Session, DataSource, DataSetReader)",
                "\n        );",
                "\nlog.Merge(await Import.FromFile(\"../Files/Parameters/YieldCurve_2020_3.csv\")",
                "\n                        .WithFormat(ImportFormats.YieldCurve)",
                "\n                        .WithTarget(DataSource)",
                "\n                        .ExecuteWithStoreActivityAsync(Session, DataSource, DataSetReader)",
                "\n        );",
                "\nlog.Merge(await Import.FromFile(\"../Files/Parameters/YieldCurve_2020_12.csv\")",
                "\n                        .WithFormat(ImportFormats.YieldCurve)",
                "\n                        .WithTarget(DataSource)",
                "\n                        .ExecuteWithStoreActivityAsync(Session, DataSource, DataSetReader)",
                "\n        );",
                "\nlog.Merge(await Import.FromFile(\"../Files/Parameters/YieldCurve_2021_3.csv\")",
                "\n                        .WithFormat(ImportFormats.YieldCurve)",
                "\n                        .WithTarget(DataSource)",
                "\n                        .ExecuteWithStoreActivityAsync(Session, DataSource, DataSetReader)",
                "\n        );",
                "\n/*log.Merge(await Import.FromFile(\"../Files/Parameters/YieldCurve_2021_6.csv\")",
                "\n                        .WithFormat(ImportFormats.YieldCurve)",
                "\n                        .WithTarget(DataSource)",
                "\n                        .ExecuteWithStoreActivityAsync(Session, DataSource, DataSetReader)",
                "\n        );",
                "\nlog.Merge(await Import.FromFile(\"../Files/Parameters/YieldCurve_2021_12.csv\")",
                "\n                        .WithFormat(ImportFormats.YieldCurve)",
                "\n                        .WithTarget(DataSource)",
                "\n                        .ExecuteWithStoreActivityAsync(Session, DataSource, DataSetReader));*/",
                "\nlog"
            ],
            "metadata": {},
            "execution_count": 0,
            "outputs": []
        },
        {
            "cell_type": "code",
            "source": [
                "await Import.FromFile(\"../Files/Parameters/ExchangeRate.csv\")",
                "\n                .WithType<ExchangeRate>()",
                "\n                .WithTarget(DataSource)",
                "\n                .ExecuteWithStoreActivityAsync(Session, DataSource, DataSetReader)"
            ],
            "metadata": {},
            "execution_count": 0,
            "outputs": []
        },
        {
            "cell_type": "code",
            "source": [
                "await Import.FromFile(\"../Files/Parameters/PartnerRating.csv\")",
                "\n                .WithType<PartnerRating>()",
                "\n                .WithTarget(DataSource)",
                "\n                .ExecuteWithStoreActivityAsync(Session, DataSource, DataSetReader)"
            ],
            "metadata": {},
            "execution_count": 0,
            "outputs": []
        },
        {
            "cell_type": "code",
            "source": [
                "await Import.FromFile(\"../Files/Parameters/CreditDefaultRate.csv\")",
                "\n                .WithType<CreditDefaultRate>()",
                "\n                .WithTarget(DataSource)",
                "\n                .ExecuteWithStoreActivityAsync(Session, DataSource, DataSetReader)"
            ],
            "metadata": {},
            "execution_count": 0,
            "outputs": []
        },
        {
            "cell_type": "markdown",
            "source": [
                "# Reset Workspace"
            ],
            "metadata": {},
            "execution_count": 0,
            "outputs": []
        },
        {
            "cell_type": "code",
            "source": [
                "Workspace.Reset(x => x.ResetInitializationRules().ResetCurrentPartitions());"
            ],
            "metadata": {},
            "execution_count": 0,
            "outputs": []
        }
    ]
}