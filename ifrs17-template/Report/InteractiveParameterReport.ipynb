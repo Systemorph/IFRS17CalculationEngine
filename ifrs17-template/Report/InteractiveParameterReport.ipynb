{
    "metadata": {
        "authors": [],
        "id": "SB2KH3IeJ0ayzI-af7eReA",
        "kernelspec": {
            "display_name": "Formula Framework",
            "language": "C#",
            "name": "C#"
        },
        "language_info": {
            "file_extension": ".cs",
            "mimetype": "text/plain",
            "name": "C#"
        }
    },
    "nbformat": 4,
    "nbformat_minor": 5,
    "cells": [
        {
            "cell_type": "markdown",
            "source": [
                "<a id='report-production'></a>",
                "\n<p style=\"font-weight:bold;\"> <span style=\"font-size: 36px\"> Interactive Parameter Reports</span> </p>"
            ],
            "metadata": {},
            "execution_count": 0,
            "outputs": []
        },
        {
            "cell_type": "markdown",
            "source": [
                "This notebook is the interactive version of [Parameter Reports](./ParameterReports). For demonstration purposes we import here data for some *Group of Insurance Contract* (GIC) and *Group of Reinsurance Contract* (GRIC) - the import is triggered in the [Set up data and configuration](#set-up-data-and-configuration) section.",
                "\n<br> The imported data set consists of cash flows, actuals, and parameters.",
                "\n<br> Input files can be found in the **File** directory. You are invited to change them or upload your own or add new data in the [CloseImportTemplate](../Import/CloseImportTemplate) notebook. ",
                "\n",
                "\nIn this notebook we show the parameters (provided to the calculation engine as inputs) used to performe the calculation of the reports shown in [Reports](Reports) notebook.",
                "\n",
                "\nSelect from the dropdown which *Report Type* you are interested in and the report adjust to the desired selection. "
            ],
            "metadata": {},
            "execution_count": 0,
            "outputs": []
        },
        {
            "cell_type": "markdown",
            "source": [
                "# Set up data and configuration",
                "\n",
                "\nChoose to run the Reports notebook either with the set of Systemorph data in memory or with the data present in the Database: ",
                "\n- #!eval-notebook \"../Database/Configure\" : connects to a physical Database",
                "\n- #!eval-notebook \"../Import/CloseImportTemplate\" : uses the in-memory set up",
                "\n",
                "\nWe use here the in-memory set up."
            ],
            "metadata": {},
            "execution_count": 0,
            "outputs": []
        },
        {
            "cell_type": "code",
            "source": [
                "#!eval-notebook \"../Import/CloseImportTemplate\"",
                "\nWorkspace.InitializeFrom(DataSource);"
            ],
            "metadata": {},
            "execution_count": 0,
            "outputs": []
        },
        {
            "cell_type": "code",
            "source": [
                "parameterInteractive.Reset(Workspace);"
            ],
            "metadata": {},
            "execution_count": 0,
            "outputs": []
        },
        {
            "cell_type": "markdown",
            "source": [
                "# Interactive view"
            ],
            "metadata": {},
            "execution_count": 0,
            "outputs": []
        },
        {
            "cell_type": "code",
            "source": [
                "parameterInteractive.GetFormsEntity<ParameterReportScope>()"
            ],
            "metadata": {},
            "execution_count": 0,
            "outputs": []
        },
        {
            "cell_type": "code",
            "source": [
                "parameterInteractive.GetReport<ParameterReportScope>()"
            ],
            "metadata": {},
            "execution_count": 0,
            "outputs": []
        }
    ]
}