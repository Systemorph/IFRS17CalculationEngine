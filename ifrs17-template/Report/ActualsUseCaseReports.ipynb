{
    "metadata": {
        "authors": [],
        "kernelspec": {
            "display_name": "Formula Framework",
            "language": "C#",
            "name": "C#"
        },
        "language_info": {
            "file_extension": ".cs",
            "mimetype": "text/plain",
            "name": "C#"
        },
        "toc-autonumbering": "True",
        "toc-showcode": "False"
    },
    "nbformat": 4,
    "nbformat_minor": 5,
    "cells": [
        {
            "cell_type": "markdown",
            "source": [
                "<p style=\"font-weight:bold;\"> <span style=\"font-size: 36px\"> Actuals Case</span> </p>"
            ],
            "metadata": {},
            "execution_count": 0,
            "outputs": []
        },
        {
            "cell_type": "markdown",
            "source": [
                "In this case study we look at actuals"
            ],
            "metadata": {},
            "execution_count": 0,
            "outputs": []
        },
        {
            "cell_type": "markdown",
            "source": [
                "# Data Import"
            ],
            "metadata": {},
            "execution_count": 0,
            "outputs": []
        },
        {
            "cell_type": "code",
            "source": [
                "#!import \"ActualsUseCaseDataImport\""
            ],
            "metadata": {},
            "execution_count": 0,
            "outputs": []
        },
        {
            "cell_type": "markdown",
            "source": [
                "# Best Estimate Present Value of Cashflows",
                "\n",
                "\n"
            ],
            "metadata": {},
            "execution_count": 0,
            "outputs": []
        },
        {
            "cell_type": "markdown",
            "source": [
                "## 2020 12"
            ],
            "metadata": {},
            "execution_count": 0,
            "outputs": []
        },
        {
            "cell_type": "code",
            "source": [
                "var pv = ifrs17.PresentValues;",
                "\npv.ReportingNode = \"CH\";",
                "\npv.ReportingPeriod = (2020, 12);",
                "\npv.CurrencyType = CurrencyType.Contractual;",
                "\npv.ColumnSlices = new string[]{\"GroupOfContract\", \"AmountType\"};",
                "\npv.DataFilter = new []{ (\"GroupOfContract\", \"MZ2.1\") };",
                "\n(await pv.ToReportAsync) with {Height = 720}"
            ],
            "metadata": {},
            "execution_count": 0,
            "outputs": []
        },
        {
            "cell_type": "markdown",
            "source": [
                "## 2021 6"
            ],
            "metadata": {},
            "execution_count": 0,
            "outputs": []
        },
        {
            "cell_type": "code",
            "source": [
                "var pv = ifrs17.PresentValues;",
                "\npv.ReportingNode = \"CH\";",
                "\npv.ReportingPeriod = (2021, 6);",
                "\npv.CurrencyType = CurrencyType.Contractual;",
                "\npv.ColumnSlices = new string[]{\"GroupOfContract\", \"AmountType\"};",
                "\npv.DataFilter = new []{ (\"GroupOfContract\", \"MZ2.1\") };",
                "\n(await pv.ToReportAsync) with {Height = 720}"
            ],
            "metadata": {},
            "execution_count": 0,
            "outputs": []
        },
        {
            "cell_type": "markdown",
            "source": [
                "## 2021 12"
            ],
            "metadata": {},
            "execution_count": 0,
            "outputs": []
        },
        {
            "cell_type": "code",
            "source": [
                "var pv = ifrs17.PresentValues;",
                "\npv.ReportingNode = \"CH\";",
                "\npv.ReportingPeriod = (2021, 12);",
                "\npv.CurrencyType = CurrencyType.Contractual;",
                "\npv.ColumnSlices = new string[]{\"GroupOfContract\", \"AmountType\"};",
                "\npv.DataFilter = new []{ (\"GroupOfContract\", \"MZ2.1\") };",
                "\n(await pv.ToReportAsync) with {Height = 720}"
            ],
            "metadata": {},
            "execution_count": 0,
            "outputs": []
        },
        {
            "cell_type": "markdown",
            "source": [
                "# Risk Adjustment"
            ],
            "metadata": {},
            "execution_count": 0,
            "outputs": []
        },
        {
            "cell_type": "markdown",
            "source": [
                "## 2020 12"
            ],
            "metadata": {},
            "execution_count": 0,
            "outputs": []
        },
        {
            "cell_type": "code",
            "source": [
                "var ra = ifrs17.RiskAdjustments;",
                "\nra.ReportingNode = \"CH\";",
                "\nra.ReportingPeriod = (2020, 12);",
                "\nra.ColumnSlices = new string[]{};",
                "\nra.DataFilter = new []{ (\"GroupOfContract\", \"MZ2.1\") };",
                "\n(await ra.ToReportAsync) with {Height = 800}"
            ],
            "metadata": {},
            "execution_count": 0,
            "outputs": []
        },
        {
            "cell_type": "markdown",
            "source": [
                "## 2021 6"
            ],
            "metadata": {},
            "execution_count": 0,
            "outputs": []
        },
        {
            "cell_type": "code",
            "source": [
                "var ra = ifrs17.RiskAdjustments;",
                "\nra.ReportingNode = \"CH\";",
                "\nra.ReportingPeriod = (2021, 6);",
                "\nra.ColumnSlices = new string[]{};",
                "\nra.DataFilter = new []{ (\"GroupOfContract\", \"MZ2.1\") };",
                "\n(await ra.ToReportAsync) with {Height = 800}"
            ],
            "metadata": {},
            "execution_count": 0,
            "outputs": []
        },
        {
            "cell_type": "markdown",
            "source": [
                "## 2021 12"
            ],
            "metadata": {},
            "execution_count": 0,
            "outputs": []
        },
        {
            "cell_type": "code",
            "source": [
                "var ra = ifrs17.RiskAdjustments;",
                "\nra.ReportingNode = \"CH\";",
                "\nra.ReportingPeriod = (2021, 12);",
                "\nra.ColumnSlices = new string[]{};",
                "\nra.DataFilter = new []{ (\"GroupOfContract\", \"MZ2.1\") };",
                "\n(await ra.ToReportAsync) with {Height = 800}"
            ],
            "metadata": {},
            "execution_count": 0,
            "outputs": []
        },
        {
            "cell_type": "markdown",
            "source": [
                "# Written Actuals"
            ],
            "metadata": {},
            "execution_count": 0,
            "outputs": []
        },
        {
            "cell_type": "markdown",
            "source": [
                "## 2020 12"
            ],
            "metadata": {},
            "execution_count": 0,
            "outputs": []
        },
        {
            "cell_type": "code",
            "source": [
                "var writtenActual = ifrs17.WrittenActuals;",
                "\nwrittenActual.ReportingNode = \"CH\";",
                "\nwrittenActual.ReportingPeriod = (2020, 12);",
                "\nwrittenActual.ColumnSlices = new string[]{};",
                "\nwrittenActual.DataFilter =  new []{ (\"GroupOfContract\", \"MZ2.1\") };",
                "\n(await writtenActual.ToReportAsync) with {Height = 400}"
            ],
            "metadata": {},
            "execution_count": 0,
            "outputs": []
        },
        {
            "cell_type": "markdown",
            "source": [
                "## 2020 6"
            ],
            "metadata": {},
            "execution_count": 0,
            "outputs": []
        },
        {
            "cell_type": "code",
            "source": [
                "var writtenActual = ifrs17.WrittenActuals;",
                "\nwrittenActual.ReportingNode = \"CH\";",
                "\nwrittenActual.ReportingPeriod = (2021, 6);",
                "\nwrittenActual.ColumnSlices = new string[]{};",
                "\nwrittenActual.DataFilter =  new []{ (\"GroupOfContract\", \"MZ2.1\") };",
                "\n(await writtenActual.ToReportAsync) with {Height = 400}"
            ],
            "metadata": {},
            "execution_count": 0,
            "outputs": []
        },
        {
            "cell_type": "markdown",
            "source": [
                "## 2021 12"
            ],
            "metadata": {},
            "execution_count": 0,
            "outputs": []
        },
        {
            "cell_type": "code",
            "source": [
                "var writtenActual = ifrs17.WrittenActuals;",
                "\nwrittenActual.ReportingNode = \"CH\";",
                "\nwrittenActual.ReportingPeriod = (2021, 12);",
                "\nwrittenActual.ColumnSlices = new string[]{};",
                "\nwrittenActual.DataFilter =  new []{ (\"GroupOfContract\", \"MZ2.1\") };",
                "\n(await writtenActual.ToReportAsync) with {Height = 400}"
            ],
            "metadata": {},
            "execution_count": 0,
            "outputs": []
        },
        {
            "cell_type": "markdown",
            "source": [
                "# Paid in Advance and Overdue Actuals"
            ],
            "metadata": {},
            "execution_count": 0,
            "outputs": []
        },
        {
            "cell_type": "markdown",
            "source": [
                "## 2020 12"
            ],
            "metadata": {},
            "execution_count": 0,
            "outputs": []
        },
        {
            "cell_type": "code",
            "source": [
                "var accrualActual = ifrs17.AccrualActuals;",
                "\naccrualActual.ReportingNode = \"CH\";",
                "\naccrualActual.ReportingPeriod = (2020, 12);",
                "\naccrualActual.ColumnSlices = new string[]{ \"GroupOfContract\", \"EstimateType\", \"AmountType\" };//\"GroupOfContract\", \"AmountType\"",
                "\naccrualActual.DataFilter = null; //new [] {(\"EstimateType\", \"AA\")};",
                "\n(await accrualActual.ToReportAsync) with {Height = 400}"
            ],
            "metadata": {},
            "execution_count": 0,
            "outputs": []
        },
        {
            "cell_type": "markdown",
            "source": [
                "## 2021 6"
            ],
            "metadata": {},
            "execution_count": 0,
            "outputs": []
        },
        {
            "cell_type": "code",
            "source": [
                "var accrualActual = ifrs17.AccrualActuals;",
                "\naccrualActual.ReportingNode = \"CH\";",
                "\naccrualActual.ReportingPeriod = (2021, 6);",
                "\naccrualActual.ColumnSlices = new string[]{ \"GroupOfContract\", \"EstimateType\", \"AmountType\" };//\"GroupOfContract\", \"AmountType\"",
                "\naccrualActual.DataFilter = null; //new [] {(\"EstimateType\", \"AA\")};",
                "\n(await accrualActual.ToReportAsync) with {Height = 400}"
            ],
            "metadata": {},
            "execution_count": 0,
            "outputs": []
        },
        {
            "cell_type": "markdown",
            "source": [
                "## 2021 12"
            ],
            "metadata": {},
            "execution_count": 0,
            "outputs": []
        },
        {
            "cell_type": "code",
            "source": [
                "var accrualActual = ifrs17.AccrualActuals;",
                "\naccrualActual.ReportingNode = \"CH\";",
                "\naccrualActual.ReportingPeriod = (2021, 12);",
                "\naccrualActual.ColumnSlices = new string[]{ \"GroupOfContract\", \"EstimateType\", \"AmountType\" };//\"GroupOfContract\", \"AmountType\"",
                "\naccrualActual.DataFilter = null; //new [] {(\"EstimateType\", \"AA\")};",
                "\n(await accrualActual.ToReportAsync) with {Height = 400}"
            ],
            "metadata": {},
            "execution_count": 0,
            "outputs": []
        },
        {
            "cell_type": "markdown",
            "source": [
                "# Fulfilment Cash flow"
            ],
            "metadata": {},
            "execution_count": 0,
            "outputs": []
        },
        {
            "cell_type": "markdown",
            "source": [
                "## 2020 12"
            ],
            "metadata": {},
            "execution_count": 0,
            "outputs": []
        },
        {
            "cell_type": "code",
            "source": [
                "var fulfillmentCashflows = ifrs17.FulfillmentCashflows;",
                "\nfulfillmentCashflows.ReportingNode = \"CH\";",
                "\nfulfillmentCashflows.ReportingPeriod = (2020, 12);",
                "\nfulfillmentCashflows.ColumnSlices = new string[]{\"EstimateType\"};",
                "\nfulfillmentCashflows.DataFilter = new []{ (\"GroupOfContract\", \"MZ2.1\") };",
                "\n(await fulfillmentCashflows.ToReportAsync) with {Height = 750}"
            ],
            "metadata": {},
            "execution_count": 0,
            "outputs": []
        },
        {
            "cell_type": "markdown",
            "source": [
                "## 2021 6"
            ],
            "metadata": {},
            "execution_count": 0,
            "outputs": []
        },
        {
            "cell_type": "code",
            "source": [
                "var fulfillmentCashflows = ifrs17.FulfillmentCashflows;",
                "\nfulfillmentCashflows.ReportingNode = \"CH\";",
                "\nfulfillmentCashflows.ReportingPeriod = (2021, 6);",
                "\nfulfillmentCashflows.ColumnSlices = new string[]{\"EstimateType\"};",
                "\nfulfillmentCashflows.DataFilter = new []{ (\"GroupOfContract\", \"MZ2.1\") };",
                "\n(await fulfillmentCashflows.ToReportAsync) with {Height = 750}"
            ],
            "metadata": {},
            "execution_count": 0,
            "outputs": []
        },
        {
            "cell_type": "markdown",
            "source": [
                "## 2021 12"
            ],
            "metadata": {},
            "execution_count": 0,
            "outputs": []
        },
        {
            "cell_type": "code",
            "source": [
                "var fulfillmentCashflows = ifrs17.FulfillmentCashflows;",
                "\nfulfillmentCashflows.ReportingNode = \"CH\";",
                "\nfulfillmentCashflows.ReportingPeriod = (2021, 12);",
                "\nfulfillmentCashflows.ColumnSlices = new string[]{\"EstimateType\"};",
                "\nfulfillmentCashflows.DataFilter = new []{ (\"GroupOfContract\", \"MZ2.1\") };",
                "\n(await fulfillmentCashflows.ToReportAsync) with {Height = 750}"
            ],
            "metadata": {},
            "execution_count": 0,
            "outputs": []
        },
        {
            "cell_type": "markdown",
            "source": [
                "# Actuarial Experience Adjustment"
            ],
            "metadata": {},
            "execution_count": 0,
            "outputs": []
        },
        {
            "cell_type": "markdown",
            "source": [
                "## 2020 12"
            ],
            "metadata": {},
            "execution_count": 0,
            "outputs": []
        },
        {
            "cell_type": "code",
            "source": [
                "var experienceAdjustments = ifrs17.ExperienceAdjustments;",
                "\nexperienceAdjustments.ReportingNode = \"CH\";",
                "\nexperienceAdjustments.ReportingPeriod = (2020, 12);",
                "\nexperienceAdjustments.ColumnSlices = new string[]{};",
                "\nexperienceAdjustments.DataFilter = new []{ (\"GroupOfContract\", \"MZ2.1\") };",
                "\n(await experienceAdjustments.ToReportAsync) with {Height = 300}"
            ],
            "metadata": {},
            "execution_count": 0,
            "outputs": []
        },
        {
            "cell_type": "markdown",
            "source": [
                "## 2021 6"
            ],
            "metadata": {},
            "execution_count": 0,
            "outputs": []
        },
        {
            "cell_type": "code",
            "source": [
                "var experienceAdjustments = ifrs17.ExperienceAdjustments;",
                "\nexperienceAdjustments.ReportingNode = \"CH\";",
                "\nexperienceAdjustments.ReportingPeriod = (2021, 6);",
                "\nexperienceAdjustments.ColumnSlices = new string[]{};",
                "\nexperienceAdjustments.DataFilter = new []{ (\"GroupOfContract\", \"MZ2.1\") };",
                "\n(await experienceAdjustments.ToReportAsync) with {Height = 300}"
            ],
            "metadata": {},
            "execution_count": 0,
            "outputs": []
        },
        {
            "cell_type": "markdown",
            "source": [
                "## 2021 12"
            ],
            "metadata": {},
            "execution_count": 0,
            "outputs": []
        },
        {
            "cell_type": "code",
            "source": [
                "var experienceAdjustments = ifrs17.ExperienceAdjustments;",
                "\nexperienceAdjustments.ReportingNode = \"CH\";",
                "\nexperienceAdjustments.ReportingPeriod = (2021, 12);",
                "\nexperienceAdjustments.ColumnSlices = new string[]{};",
                "\nexperienceAdjustments.DataFilter = new []{ (\"GroupOfContract\", \"MZ2.1\") };",
                "\n(await experienceAdjustments.ToReportAsync) with {Height = 300}"
            ],
            "metadata": {},
            "execution_count": 0,
            "outputs": []
        },
        {
            "cell_type": "markdown",
            "source": [
                "# Contractual Service Margin / Loss Component / Loss Recovery Component"
            ],
            "metadata": {},
            "execution_count": 0,
            "outputs": []
        },
        {
            "cell_type": "markdown",
            "source": [
                "## 2020 12"
            ],
            "metadata": {},
            "execution_count": 0,
            "outputs": []
        },
        {
            "cell_type": "code",
            "source": [
                "var allocatedTechnicalMargins = ifrs17.AllocatedTechnicalMargins;",
                "\nallocatedTechnicalMargins.ReportingNode = \"CH\";",
                "\nallocatedTechnicalMargins.ReportingPeriod = (2020, 12);",
                "\nallocatedTechnicalMargins.ColumnSlices = new string[]{};",
                "\nallocatedTechnicalMargins.DataFilter = new []{ (\"GroupOfContract\", \"MZ2.1\") };",
                "\n(await allocatedTechnicalMargins.ToReportAsync) with {Height = 700}"
            ],
            "metadata": {},
            "execution_count": 0,
            "outputs": []
        },
        {
            "cell_type": "markdown",
            "source": [
                "## 2021 6"
            ],
            "metadata": {},
            "execution_count": 0,
            "outputs": []
        },
        {
            "cell_type": "code",
            "source": [
                "var allocatedTechnicalMargins = ifrs17.AllocatedTechnicalMargins;",
                "\nallocatedTechnicalMargins.ReportingNode = \"CH\";",
                "\nallocatedTechnicalMargins.ReportingPeriod = (2021, 6);",
                "\nallocatedTechnicalMargins.ColumnSlices = new string[]{};",
                "\nallocatedTechnicalMargins.DataFilter = new []{ (\"GroupOfContract\", \"MZ2.1\") };",
                "\n(await allocatedTechnicalMargins.ToReportAsync) with {Height = 700}"
            ],
            "metadata": {},
            "execution_count": 0,
            "outputs": []
        },
        {
            "cell_type": "markdown",
            "source": [
                "## 2021 12"
            ],
            "metadata": {},
            "execution_count": 0,
            "outputs": []
        },
        {
            "cell_type": "code",
            "source": [
                "var allocatedTechnicalMargins = ifrs17.AllocatedTechnicalMargins;",
                "\nallocatedTechnicalMargins.ReportingNode = \"CH\";",
                "\nallocatedTechnicalMargins.ReportingPeriod = (2021, 12);",
                "\nallocatedTechnicalMargins.ColumnSlices = new string[]{};",
                "\nallocatedTechnicalMargins.DataFilter = new []{ (\"GroupOfContract\", \"MZ2.1\") };",
                "\n(await allocatedTechnicalMargins.ToReportAsync) with {Height = 700}"
            ],
            "metadata": {},
            "execution_count": 0,
            "outputs": []
        },
        {
            "cell_type": "markdown",
            "source": [
                "# LRC Actuarial"
            ],
            "metadata": {},
            "execution_count": 0,
            "outputs": []
        },
        {
            "cell_type": "markdown",
            "source": [
                "## 2020 12"
            ],
            "metadata": {},
            "execution_count": 0,
            "outputs": []
        },
        {
            "cell_type": "code",
            "source": [
                "var actuarialLrc = ifrs17.ActuarialLrc;",
                "\nactuarialLrc.ReportingNode = \"CH\";",
                "\nactuarialLrc.ReportingPeriod = (2020, 12);",
                "\nactuarialLrc.ColumnSlices = new string[]{};",
                "\nactuarialLrc.DataFilter = new []{ (\"GroupOfContract\", \"MZ2.1\") };",
                "\n(await actuarialLrc.ToReportAsync) with {Height = 750}"
            ],
            "metadata": {},
            "execution_count": 0,
            "outputs": []
        },
        {
            "cell_type": "markdown",
            "source": [
                "## 2021 6"
            ],
            "metadata": {},
            "execution_count": 0,
            "outputs": []
        },
        {
            "cell_type": "code",
            "source": [
                "var actuarialLrc = ifrs17.ActuarialLrc;",
                "\nactuarialLrc.ReportingNode = \"CH\";",
                "\nactuarialLrc.ReportingPeriod = (2021, 6);",
                "\nactuarialLrc.ColumnSlices = new string[]{};",
                "\nactuarialLrc.DataFilter = new []{ (\"GroupOfContract\", \"MZ2.1\") };",
                "\n(await actuarialLrc.ToReportAsync) with {Height = 750}"
            ],
            "metadata": {},
            "execution_count": 0,
            "outputs": []
        },
        {
            "cell_type": "markdown",
            "source": [
                "## 2021 12"
            ],
            "metadata": {},
            "execution_count": 0,
            "outputs": []
        },
        {
            "cell_type": "code",
            "source": [
                "var actuarialLrc = ifrs17.ActuarialLrc;",
                "\nactuarialLrc.ReportingNode = \"CH\";",
                "\nactuarialLrc.ReportingPeriod = (2021, 12);",
                "\nactuarialLrc.ColumnSlices = new string[]{};",
                "\nactuarialLrc.DataFilter = new []{ (\"GroupOfContract\", \"MZ2.1\") };",
                "\n(await actuarialLrc.ToReportAsync) with {Height = 750}"
            ],
            "metadata": {},
            "execution_count": 0,
            "outputs": []
        },
        {
            "cell_type": "markdown",
            "source": [
                "# LRC "
            ],
            "metadata": {},
            "execution_count": 0,
            "outputs": []
        },
        {
            "cell_type": "markdown",
            "source": [
                "## 2020 12"
            ],
            "metadata": {},
            "execution_count": 0,
            "outputs": []
        },
        {
            "cell_type": "code",
            "source": [
                "var lrc = ifrs17.Lrc;",
                "\nlrc.ReportingNode = \"CH\";",
                "\nlrc.ReportingPeriod = (2020, 12);",
                "\nlrc.ColumnSlices = new string[]{\"GroupOfContract\", \"EstimateType\"};",
                "\nlrc.DataFilter = null; //new [] {(\"GroupOfContract\", \"DT1.1\")};",
                "\n(await lrc.ToReportAsync) with {Height = 300}"
            ],
            "metadata": {},
            "execution_count": 0,
            "outputs": []
        },
        {
            "cell_type": "markdown",
            "source": [
                "## 2020 6"
            ],
            "metadata": {},
            "execution_count": 0,
            "outputs": []
        },
        {
            "cell_type": "code",
            "source": [
                "var lrc = ifrs17.Lrc;",
                "\nlrc.ReportingNode = \"CH\";",
                "\nlrc.ReportingPeriod = (2021, 6);",
                "\nlrc.ColumnSlices = new string[]{\"GroupOfContract\", \"EstimateType\"};",
                "\nlrc.DataFilter = null; //new [] {(\"GroupOfContract\", \"DT1.1\")};",
                "\n(await lrc.ToReportAsync) with {Height = 300}"
            ],
            "metadata": {},
            "execution_count": 0,
            "outputs": []
        },
        {
            "cell_type": "markdown",
            "source": [
                "## 2021 12"
            ],
            "metadata": {},
            "execution_count": 0,
            "outputs": []
        },
        {
            "cell_type": "code",
            "source": [
                "var lrc = ifrs17.Lrc;",
                "\nlrc.ReportingNode = \"CH\";",
                "\nlrc.ReportingPeriod = (2021, 12);",
                "\nlrc.ColumnSlices = new string[]{\"GroupOfContract\", \"EstimateType\"};",
                "\nlrc.DataFilter = null; //new [] {(\"GroupOfContract\", \"DT1.1\")};",
                "\n(await lrc.ToReportAsync) with {Height = 300}"
            ],
            "metadata": {},
            "execution_count": 0,
            "outputs": []
        },
        {
            "cell_type": "markdown",
            "source": [
                "# Financial Performance"
            ],
            "metadata": {},
            "execution_count": 0,
            "outputs": []
        },
        {
            "cell_type": "markdown",
            "source": [
                "## 2020 12"
            ],
            "metadata": {},
            "execution_count": 0,
            "outputs": []
        },
        {
            "cell_type": "code",
            "source": [
                "var financialPerformance = ifrs17.FinancialPerformance;",
                "\nfinancialPerformance.ReportingNode = \"CH\";",
                "\nfinancialPerformance.ReportingPeriod = (2020, 12);",
                "\nfinancialPerformance.ColumnSlices = new string[]{\"GroupOfContract\"};",
                "\nfinancialPerformance.DataFilter = null;",
                "\n(await financialPerformance.ToReportAsync) with { Height = 900, GroupDefaultExpanded = 3}"
            ],
            "metadata": {},
            "execution_count": 0,
            "outputs": []
        },
        {
            "cell_type": "markdown",
            "source": [
                "## 2021 6"
            ],
            "metadata": {},
            "execution_count": 0,
            "outputs": []
        },
        {
            "cell_type": "code",
            "source": [
                "var financialPerformance = ifrs17.FinancialPerformance;",
                "\nfinancialPerformance.ReportingNode = \"CH\";",
                "\nfinancialPerformance.ReportingPeriod = (2021, 6);",
                "\nfinancialPerformance.ColumnSlices = new string[]{\"GroupOfContract\"};",
                "\nfinancialPerformance.DataFilter = null;",
                "\n(await financialPerformance.ToReportAsync) with { Height = 900, GroupDefaultExpanded = 3}"
            ],
            "metadata": {},
            "execution_count": 0,
            "outputs": []
        },
        {
            "cell_type": "markdown",
            "source": [
                "## 2021 12"
            ],
            "metadata": {},
            "execution_count": 0,
            "outputs": []
        },
        {
            "cell_type": "code",
            "source": [
                "var financialPerformance = ifrs17.FinancialPerformance;",
                "\nfinancialPerformance.ReportingNode = \"CH\";",
                "\nfinancialPerformance.ReportingPeriod = (2021, 12);",
                "\nfinancialPerformance.ColumnSlices = new string[]{\"GroupOfContract\"};",
                "\nfinancialPerformance.DataFilter = null;",
                "\n(await financialPerformance.ToReportAsync) with { Height = 900, GroupDefaultExpanded = 3}"
            ],
            "metadata": {},
            "execution_count": 0,
            "outputs": []
        },
        {
            "cell_type": "code",
            "source": [
                ""
            ],
            "metadata": {},
            "execution_count": 0,
            "outputs": []
        }
    ]
}