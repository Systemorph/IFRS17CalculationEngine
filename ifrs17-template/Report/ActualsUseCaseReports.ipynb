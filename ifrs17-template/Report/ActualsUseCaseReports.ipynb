{
    "metadata": {
        "authors": [],
        "kernelspec": {
            "display_name": "Formula Framework",
            "language": "C#",
            "name": "C#"
        },
        "language_info": {
            "file_extension": ".cs",
            "mimetype": "text/plain",
            "name": "C#"
        },
        "toc-autonumbering": "True",
        "toc-showcode": "False"
    },
    "nbformat": 4,
    "nbformat_minor": 5,
    "cells": [
        {
            "cell_type": "markdown",
            "source": [
                "<p style=\"font-weight:bold;\"> <span style=\"font-size: 36px\"> Actuals Case</span> </p>"
            ],
            "metadata": {},
            "execution_count": 0,
            "outputs": []
        },
        {
            "cell_type": "markdown",
            "source": [
                "In this case study we look at actuals"
            ],
            "metadata": {},
            "execution_count": 0,
            "outputs": []
        },
        {
            "cell_type": "markdown",
            "source": [
                "# Set up data and configuration"
            ],
            "metadata": {},
            "execution_count": 0,
            "outputs": []
        },
        {
            "cell_type": "code",
            "source": [
                "#!import \"../Initialization/InitSystemorphRefDataToMemory\""
            ],
            "metadata": {},
            "execution_count": 0,
            "outputs": []
        },
        {
            "cell_type": "code",
            "source": [
                "Workspace.Reset(x => x.ResetInitializationRules().ResetCurrentPartitions());",
                "\nWorkspace.InitializeFrom(DataSource);"
            ],
            "metadata": {},
            "execution_count": 0,
            "outputs": []
        },
        {
            "cell_type": "code",
            "source": [
                "await Import.FromFile(\"../Files/DataNodes/DataNodes_ActualsCase_CH.csv\").WithFormat(ImportFormats.DataNode).WithTarget(DataSource).ExecuteAsync()"
            ],
            "metadata": {},
            "execution_count": 0,
            "outputs": []
        },
        {
            "cell_type": "code",
            "source": [
                "await Import.FromFile(\"../Files/DataNodes/DataNodeStates_ActualsCase_CH_2020_12.csv\").WithFormat(ImportFormats.DataNodeState).WithTarget(DataSource).ExecuteAsync()"
            ],
            "metadata": {},
            "execution_count": 0,
            "outputs": []
        },
        {
            "cell_type": "code",
            "source": [
                "await Import.FromFile(\"../Files/DataNodes/DataNodeParameters_ActualsCase_CH_2020_12.csv\").WithFormat(ImportFormats.DataNodeParameter).WithTarget(DataSource).ExecuteAsync()"
            ],
            "metadata": {},
            "execution_count": 0,
            "outputs": []
        },
        {
            "cell_type": "code",
            "source": [
                "Workspace.Reset(x => x.ResetInitializationRules().ResetCurrentPartitions());",
                "\nWorkspace.InitializeFrom(DataSource);"
            ],
            "metadata": {},
            "execution_count": 0,
            "outputs": []
        },
        {
            "cell_type": "code",
            "source": [
                "Workspace.Reset(x => x.ResetCurrentPartitions().ResetType<RawVariable>().ResetType<IfrsVariable>().ResetType<ReportVariable>())"
            ],
            "metadata": {},
            "execution_count": 0,
            "outputs": []
        },
        {
            "cell_type": "code",
            "source": [
                "await Import.FromFile(\"../Files/TransactionalData/NominalCashflows_ActualsCase_CH_2020_12.csv\").WithFormat(ImportFormats.Cashflow).WithTarget(DataSource).ExecuteAsync()"
            ],
            "metadata": {},
            "execution_count": 0,
            "outputs": []
        },
        {
            "cell_type": "code",
            "source": [
                "await Import.FromFile(\"../Files/TransactionalData/Actuals_ActualsCase_CH_2020_12.csv\").WithFormat(ImportFormats.Actual).WithTarget(DataSource).ExecuteAsync()"
            ],
            "metadata": {},
            "execution_count": 0,
            "outputs": []
        },
        {
            "cell_type": "code",
            "source": [
                "await Import.FromFile(\"../Files/TransactionalData/NominalCashflows_ActualsCase_CH_2021_6.csv\").WithFormat(ImportFormats.Cashflow).WithTarget(DataSource).ExecuteAsync()"
            ],
            "metadata": {},
            "execution_count": 0,
            "outputs": []
        },
        {
            "cell_type": "code",
            "source": [
                "await Import.FromFile(\"../Files/TransactionalData/Actuals_ActualsCase_CH_2021_6.csv\").WithFormat(ImportFormats.Actual).WithTarget(DataSource).ExecuteAsync()"
            ],
            "metadata": {},
            "execution_count": 0,
            "outputs": []
        },
        {
            "cell_type": "code",
            "source": [
                "await Import.FromFile(\"../Files/TransactionalData/NominalCashflows_ActualsCase_CH_2021_12.csv\").WithFormat(ImportFormats.Cashflow).WithTarget(DataSource).ExecuteAsync()"
            ],
            "metadata": {},
            "execution_count": 0,
            "outputs": []
        },
        {
            "cell_type": "code",
            "source": [
                "await Import.FromFile(\"../Files/TransactionalData/Actuals_ActualsCase_CH_2021_12.csv\").WithFormat(ImportFormats.Actual).WithTarget(DataSource).ExecuteAsync()"
            ],
            "metadata": {},
            "execution_count": 0,
            "outputs": []
        },
        {
            "cell_type": "code",
            "source": [
                "Workspace.Reset(x => x.ResetInitializationRules().ResetCurrentPartitions());"
            ],
            "metadata": {},
            "execution_count": 0,
            "outputs": []
        },
        {
            "cell_type": "code",
            "source": [
                "Workspace.InitializeFrom(DataSource);",
                "\nifrs17.Reset(Workspace)"
            ],
            "metadata": {},
            "execution_count": 0,
            "outputs": []
        },
        {
            "cell_type": "markdown",
            "source": [
                "# Best Estimate Present Value of Cashflows",
                "\n",
                "\n"
            ],
            "metadata": {},
            "execution_count": 0,
            "outputs": []
        },
        {
            "cell_type": "markdown",
            "source": [
                "## 2020 12"
            ],
            "metadata": {},
            "execution_count": 0,
            "outputs": []
        },
        {
            "cell_type": "code",
            "source": [
                "var pv = ifrs17.PresentValues;",
                "\npv.ReportingNode = \"CH\";",
                "\npv.ReportingPeriod = (2020, 12);",
                "\npv.CurrencyType = CurrencyType.Contractual;",
                "\npv.ColumnSlices = new string[]{\"GroupOfContract\", \"AmountType\"};//\"GroupOfContract\", \"AmountType\"",
                "\npv.DataFilter = new []{ (\"GroupOfContract\", \"MZ2.1\") };",
                "\n(await pv.ToReportAsync) with {Height = 720}"
            ],
            "metadata": {},
            "execution_count": 0,
            "outputs": []
        },
        {
            "cell_type": "markdown",
            "source": [
                "## 2021 6"
            ],
            "metadata": {},
            "execution_count": 0,
            "outputs": []
        },
        {
            "cell_type": "code",
            "source": [
                "var pv = ifrs17.PresentValues;",
                "\npv.ReportingNode = \"CH\";",
                "\npv.ReportingPeriod = (2021, 6);",
                "\npv.CurrencyType = CurrencyType.Contractual;",
                "\npv.ColumnSlices = new string[]{\"GroupOfContract\", \"AmountType\"};//\"GroupOfContract\", \"AmountType\"",
                "\npv.DataFilter = new []{ (\"GroupOfContract\", \"MZ2.1\") };",
                "\n(await pv.ToReportAsync) with {Height = 720}"
            ],
            "metadata": {},
            "execution_count": 0,
            "outputs": []
        },
        {
            "cell_type": "markdown",
            "source": [
                "## 2021 12"
            ],
            "metadata": {},
            "execution_count": 0,
            "outputs": []
        },
        {
            "cell_type": "code",
            "source": [
                "var pv = ifrs17.PresentValues;",
                "\npv.ReportingNode = \"CH\";",
                "\npv.ReportingPeriod = (2021, 12);",
                "\npv.CurrencyType = CurrencyType.Contractual;",
                "\npv.ColumnSlices = new string[]{\"GroupOfContract\", \"AmountType\"};//\"GroupOfContract\", \"AmountType\"",
                "\npv.DataFilter = new []{ (\"GroupOfContract\", \"MZ2.1\") };",
                "\n(await pv.ToReportAsync) with {Height = 720}"
            ],
            "metadata": {},
            "execution_count": 0,
            "outputs": []
        },
        {
            "cell_type": "markdown",
            "source": [
                "# Risk Adjustment"
            ],
            "metadata": {},
            "execution_count": 0,
            "outputs": []
        },
        {
            "cell_type": "markdown",
            "source": [
                "## 2020 12"
            ],
            "metadata": {},
            "execution_count": 0,
            "outputs": []
        },
        {
            "cell_type": "code",
            "source": [
                "var ra = ifrs17.RiskAdjustments;",
                "\nra.ReportingNode = \"CH\";",
                "\nra.ReportingPeriod = (2020, 12);",
                "\nra.ColumnSlices = new string[]{};//\"GroupOfContract\", \"EconomicBasis\"",
                "\nra.DataFilter = new []{ (\"GroupOfContract\", \"MZ2.1\") };",
                "\n(await ra.ToReportAsync) with {Height = 800}"
            ],
            "metadata": {},
            "execution_count": 0,
            "outputs": []
        },
        {
            "cell_type": "markdown",
            "source": [
                "## 2021 6"
            ],
            "metadata": {},
            "execution_count": 0,
            "outputs": []
        },
        {
            "cell_type": "code",
            "source": [
                "var ra = ifrs17.RiskAdjustments;",
                "\nra.ReportingNode = \"CH\";",
                "\nra.ReportingPeriod = (2021, 6);",
                "\nra.ColumnSlices = new string[]{};//\"GroupOfContract\", \"EconomicBasis\"",
                "\nra.DataFilter = new []{ (\"GroupOfContract\", \"MZ2.1\") };",
                "\n(await ra.ToReportAsync) with {Height = 800}"
            ],
            "metadata": {},
            "execution_count": 0,
            "outputs": []
        },
        {
            "cell_type": "markdown",
            "source": [
                "## 2021 12"
            ],
            "metadata": {},
            "execution_count": 0,
            "outputs": []
        },
        {
            "cell_type": "code",
            "source": [
                "var ra = ifrs17.RiskAdjustments;",
                "\nra.ReportingNode = \"CH\";",
                "\nra.ReportingPeriod = (2021, 12);",
                "\nra.ColumnSlices = new string[]{};//\"GroupOfContract\", \"EconomicBasis\"",
                "\nra.DataFilter = new []{ (\"GroupOfContract\", \"MZ2.1\") };",
                "\n(await ra.ToReportAsync) with {Height = 800}"
            ],
            "metadata": {},
            "execution_count": 0,
            "outputs": []
        },
        {
            "cell_type": "markdown",
            "source": [
                "# Written Actuals"
            ],
            "metadata": {},
            "execution_count": 0,
            "outputs": []
        },
        {
            "cell_type": "markdown",
            "source": [
                "## 2020 12"
            ],
            "metadata": {},
            "execution_count": 0,
            "outputs": []
        },
        {
            "cell_type": "code",
            "source": [
                "var writtenActual = ifrs17.WrittenActuals;",
                "\nwrittenActual.ReportingNode = \"CH\";",
                "\nwrittenActual.ReportingPeriod = (2020, 12);",
                "\nwrittenActual.ColumnSlices = new string[]{};//\"GroupOfContract\"",
                "\nwrittenActual.DataFilter =  new []{ (\"GroupOfContract\", \"MZ2.1\") };",
                "\n(await writtenActual.ToReportAsync) with {Height = 400}"
            ],
            "metadata": {},
            "execution_count": 0,
            "outputs": []
        },
        {
            "cell_type": "markdown",
            "source": [
                "## 2020 6"
            ],
            "metadata": {},
            "execution_count": 0,
            "outputs": []
        },
        {
            "cell_type": "code",
            "source": [
                "var writtenActual = ifrs17.WrittenActuals;",
                "\nwrittenActual.ReportingNode = \"CH\";",
                "\nwrittenActual.ReportingPeriod = (2021, 6);",
                "\nwrittenActual.ColumnSlices = new string[]{};//\"GroupOfContract\"",
                "\nwrittenActual.DataFilter =  new []{ (\"GroupOfContract\", \"MZ2.1\") };",
                "\n(await writtenActual.ToReportAsync) with {Height = 400}"
            ],
            "metadata": {},
            "execution_count": 0,
            "outputs": []
        },
        {
            "cell_type": "markdown",
            "source": [
                "## 2021 12"
            ],
            "metadata": {},
            "execution_count": 0,
            "outputs": []
        },
        {
            "cell_type": "code",
            "source": [
                "var writtenActual = ifrs17.WrittenActuals;",
                "\nwrittenActual.ReportingNode = \"CH\";",
                "\nwrittenActual.ReportingPeriod = (2021, 12);",
                "\nwrittenActual.ColumnSlices = new string[]{};//\"GroupOfContract\"",
                "\nwrittenActual.DataFilter =  new []{ (\"GroupOfContract\", \"MZ2.1\") };",
                "\n(await writtenActual.ToReportAsync) with {Height = 400}"
            ],
            "metadata": {},
            "execution_count": 0,
            "outputs": []
        },
        {
            "cell_type": "markdown",
            "source": [
                "## Advance, Overdue Actuals",
                "\n",
                "\nActuals payed in [Advance](https://portal.systemorph.cloud/project/ifrs17/env/v1.0.0/Report/ReportScopes#written-accrual-deferral)",
                "\nor [Overdue](https://portal.systemorph.cloud/project/ifrs17/env/v1.0.0/Report/ReportScopes#written-accrual-deferral) are shown here together in a simplified Analysis of Change. ",
                "\n",
                "\nCombining Filters and ColumnSlices facilitate the report analysis. For example, you can select \"GroupOfContract\" as column slices with a Filter on EstimateType \"AA\" to analyse the Advance Actuals for all Group of Contract. "
            ],
            "metadata": {},
            "execution_count": 0,
            "outputs": []
        },
        {
            "cell_type": "code",
            "source": [
                "var accrualActual = ifrs17.AccrualActuals;",
                "\naccrualActual.ReportingNode = \"CH\";",
                "\naccrualActual.ReportingPeriod = (2021, 3);",
                "\naccrualActual.ColumnSlices = new string[]{};//\"GroupOfContract\", \"AmountType\"",
                "\naccrualActual.DataFilter = null; //new [] {(\"EstimateType\", \"AA\")};",
                "\n(await accrualActual.ToReportAsync) with {Height = 400}"
            ],
            "metadata": {},
            "execution_count": 0,
            "outputs": []
        },
        {
            "cell_type": "markdown",
            "source": [
                "## Deferrable Actuals",
                "\n",
                "\n[Deferrable Actuals](https://portal.systemorph.cloud/project/ifrs17/env/v1.0.0/Report/ReportScopes#written-accrual-deferral) are shown here. Amortization of the deferrable amount is computed using the Coverage Unit pattern.  "
            ],
            "metadata": {},
            "execution_count": 0,
            "outputs": []
        },
        {
            "cell_type": "code",
            "source": [
                "var deferrableActual = ifrs17.DeferralActuals;",
                "\ndeferrableActual.ReportingNode = \"CH\";",
                "\ndeferrableActual.ReportingPeriod = (2021, 3);",
                "\ndeferrableActual.ColumnSlices = new string[]{};//\"GroupOfContract\", \"AmountType\"",
                "\ndeferrableActual.DataFilter = null;//new [] {(\"GroupOfContract\", \"DT1.1\")};",
                "\n(await deferrableActual.ToReportAsync) with {Height = 400}"
            ],
            "metadata": {},
            "execution_count": 0,
            "outputs": []
        },
        {
            "cell_type": "markdown",
            "source": [
                "# Fulfilment Cash flow"
            ],
            "metadata": {},
            "execution_count": 0,
            "outputs": []
        },
        {
            "cell_type": "markdown",
            "source": [
                "## 2020 12"
            ],
            "metadata": {},
            "execution_count": 0,
            "outputs": []
        },
        {
            "cell_type": "code",
            "source": [
                "var fulfillmentCashflows = ifrs17.FulfillmentCashflows;",
                "\nfulfillmentCashflows.ReportingNode = \"CH\";",
                "\nfulfillmentCashflows.ReportingPeriod = (2020, 12);",
                "\nfulfillmentCashflows.ColumnSlices = new string[]{\"EstimateType\"};",
                "\nfulfillmentCashflows.DataFilter = new []{ (\"GroupOfContract\", \"MZ2.1\") };",
                "\n(await fulfillmentCashflows.ToReportAsync) with {Height = 750}"
            ],
            "metadata": {},
            "execution_count": 0,
            "outputs": []
        },
        {
            "cell_type": "markdown",
            "source": [
                "## 2021 6"
            ],
            "metadata": {},
            "execution_count": 0,
            "outputs": []
        },
        {
            "cell_type": "code",
            "source": [
                "var fulfillmentCashflows = ifrs17.FulfillmentCashflows;",
                "\nfulfillmentCashflows.ReportingNode = \"CH\";",
                "\nfulfillmentCashflows.ReportingPeriod = (2021, 6);",
                "\nfulfillmentCashflows.ColumnSlices = new string[]{\"EstimateType\"};",
                "\nfulfillmentCashflows.DataFilter = new []{ (\"GroupOfContract\", \"MZ2.1\") };",
                "\n(await fulfillmentCashflows.ToReportAsync) with {Height = 750}"
            ],
            "metadata": {},
            "execution_count": 0,
            "outputs": []
        },
        {
            "cell_type": "markdown",
            "source": [
                "## 2021 12"
            ],
            "metadata": {},
            "execution_count": 0,
            "outputs": []
        },
        {
            "cell_type": "code",
            "source": [
                "var fulfillmentCashflows = ifrs17.FulfillmentCashflows;",
                "\nfulfillmentCashflows.ReportingNode = \"CH\";",
                "\nfulfillmentCashflows.ReportingPeriod = (2021, 12);",
                "\nfulfillmentCashflows.ColumnSlices = new string[]{\"EstimateType\"};",
                "\nfulfillmentCashflows.DataFilter = new []{ (\"GroupOfContract\", \"MZ2.1\") };",
                "\n(await fulfillmentCashflows.ToReportAsync) with {Height = 750}"
            ],
            "metadata": {},
            "execution_count": 0,
            "outputs": []
        },
        {
            "cell_type": "markdown",
            "source": [
                "# Actuarial Experience Adjustment"
            ],
            "metadata": {},
            "execution_count": 0,
            "outputs": []
        },
        {
            "cell_type": "markdown",
            "source": [
                "## 2020 12"
            ],
            "metadata": {},
            "execution_count": 0,
            "outputs": []
        },
        {
            "cell_type": "code",
            "source": [
                "var experienceAdjustments = ifrs17.ExperienceAdjustments;",
                "\nexperienceAdjustments.ReportingNode = \"CH\";",
                "\nexperienceAdjustments.ReportingPeriod = (2020, 12);",
                "\nexperienceAdjustments.ColumnSlices = new string[]{};//\"GroupOfContract\", \"AmountType\"",
                "\nexperienceAdjustments.DataFilter = new []{ (\"GroupOfContract\", \"MZ2.1\") };",
                "\n(await experienceAdjustments.ToReportAsync) with {Height = 300}"
            ],
            "metadata": {},
            "execution_count": 0,
            "outputs": []
        },
        {
            "cell_type": "markdown",
            "source": [
                "## 2021 6"
            ],
            "metadata": {},
            "execution_count": 0,
            "outputs": []
        },
        {
            "cell_type": "code",
            "source": [
                "var experienceAdjustments = ifrs17.ExperienceAdjustments;",
                "\nexperienceAdjustments.ReportingNode = \"CH\";",
                "\nexperienceAdjustments.ReportingPeriod = (2021, 6);",
                "\nexperienceAdjustments.ColumnSlices = new string[]{};//\"GroupOfContract\", \"AmountType\"",
                "\nexperienceAdjustments.DataFilter = new []{ (\"GroupOfContract\", \"MZ2.1\") };",
                "\n(await experienceAdjustments.ToReportAsync) with {Height = 300}"
            ],
            "metadata": {},
            "execution_count": 0,
            "outputs": []
        },
        {
            "cell_type": "markdown",
            "source": [
                "## 2021 12"
            ],
            "metadata": {},
            "execution_count": 0,
            "outputs": []
        },
        {
            "cell_type": "code",
            "source": [
                "var experienceAdjustments = ifrs17.ExperienceAdjustments;",
                "\nexperienceAdjustments.ReportingNode = \"CH\";",
                "\nexperienceAdjustments.ReportingPeriod = (2021, 12);",
                "\nexperienceAdjustments.ColumnSlices = new string[]{};//\"GroupOfContract\", \"AmountType\"",
                "\nexperienceAdjustments.DataFilter = new []{ (\"GroupOfContract\", \"MZ2.1\") };",
                "\n(await experienceAdjustments.ToReportAsync) with {Height = 300}"
            ],
            "metadata": {},
            "execution_count": 0,
            "outputs": []
        },
        {
            "cell_type": "markdown",
            "source": [
                "# Contractual Service Margin / Loss Component / Loss Recovery Component"
            ],
            "metadata": {},
            "execution_count": 0,
            "outputs": []
        },
        {
            "cell_type": "markdown",
            "source": [
                "## 2020 12"
            ],
            "metadata": {},
            "execution_count": 0,
            "outputs": []
        },
        {
            "cell_type": "code",
            "source": [
                "var allocatedTechnicalMargins = ifrs17.AllocatedTechnicalMargins;",
                "\nallocatedTechnicalMargins.ReportingNode = \"CH\";",
                "\nallocatedTechnicalMargins.ReportingPeriod = (2020, 12);",
                "\nallocatedTechnicalMargins.ColumnSlices = new string[]{};//\"GroupOfContract\", \"EstimateType\"",
                "\nallocatedTechnicalMargins.DataFilter = new []{ (\"GroupOfContract\", \"MZ2.1\") };",
                "\n(await allocatedTechnicalMargins.ToReportAsync) with {Height = 700}"
            ],
            "metadata": {},
            "execution_count": 0,
            "outputs": []
        },
        {
            "cell_type": "markdown",
            "source": [
                "## 2021 6"
            ],
            "metadata": {},
            "execution_count": 0,
            "outputs": []
        },
        {
            "cell_type": "code",
            "source": [
                "var allocatedTechnicalMargins = ifrs17.AllocatedTechnicalMargins;",
                "\nallocatedTechnicalMargins.ReportingNode = \"CH\";",
                "\nallocatedTechnicalMargins.ReportingPeriod = (2021, 6);",
                "\nallocatedTechnicalMargins.ColumnSlices = new string[]{};//\"GroupOfContract\", \"EstimateType\"",
                "\nallocatedTechnicalMargins.DataFilter = new []{ (\"GroupOfContract\", \"MZ2.1\") };",
                "\n(await allocatedTechnicalMargins.ToReportAsync) with {Height = 700}"
            ],
            "metadata": {},
            "execution_count": 0,
            "outputs": []
        },
        {
            "cell_type": "markdown",
            "source": [
                "## 2021 12"
            ],
            "metadata": {},
            "execution_count": 0,
            "outputs": []
        },
        {
            "cell_type": "code",
            "source": [
                "var allocatedTechnicalMargins = ifrs17.AllocatedTechnicalMargins;",
                "\nallocatedTechnicalMargins.ReportingNode = \"CH\";",
                "\nallocatedTechnicalMargins.ReportingPeriod = (2021, 12);",
                "\nallocatedTechnicalMargins.ColumnSlices = new string[]{};//\"GroupOfContract\", \"EstimateType\"",
                "\nallocatedTechnicalMargins.DataFilter = new []{ (\"GroupOfContract\", \"MZ2.1\") };",
                "\n(await allocatedTechnicalMargins.ToReportAsync) with {Height = 700}"
            ],
            "metadata": {},
            "execution_count": 0,
            "outputs": []
        },
        {
            "cell_type": "markdown",
            "source": [
                "# LRC Actuarial"
            ],
            "metadata": {},
            "execution_count": 0,
            "outputs": []
        },
        {
            "cell_type": "markdown",
            "source": [
                "## 2020 12"
            ],
            "metadata": {},
            "execution_count": 0,
            "outputs": []
        },
        {
            "cell_type": "code",
            "source": [
                "var actuarialLrc = ifrs17.ActuarialLrc;",
                "\nactuarialLrc.ReportingNode = \"CH\";",
                "\nactuarialLrc.ReportingPeriod = (2020, 12);",
                "\nactuarialLrc.ColumnSlices = new string[]{};//\"GroupOfContract\"",
                "\nactuarialLrc.DataFilter = new []{ (\"GroupOfContract\", \"MZ2.1\") };",
                "\n(await actuarialLrc.ToReportAsync) with {Height = 750}"
            ],
            "metadata": {},
            "execution_count": 0,
            "outputs": []
        },
        {
            "cell_type": "markdown",
            "source": [
                "## 2021 6"
            ],
            "metadata": {},
            "execution_count": 0,
            "outputs": []
        },
        {
            "cell_type": "code",
            "source": [
                "var actuarialLrc = ifrs17.ActuarialLrc;",
                "\nactuarialLrc.ReportingNode = \"CH\";",
                "\nactuarialLrc.ReportingPeriod = (2021, 6);",
                "\nactuarialLrc.ColumnSlices = new string[]{};//\"GroupOfContract\"",
                "\nactuarialLrc.DataFilter = new []{ (\"GroupOfContract\", \"MZ2.1\") };",
                "\n(await actuarialLrc.ToReportAsync) with {Height = 750}"
            ],
            "metadata": {},
            "execution_count": 0,
            "outputs": []
        },
        {
            "cell_type": "markdown",
            "source": [
                "## 2021 12"
            ],
            "metadata": {},
            "execution_count": 0,
            "outputs": []
        },
        {
            "cell_type": "code",
            "source": [
                "var actuarialLrc = ifrs17.ActuarialLrc;",
                "\nactuarialLrc.ReportingNode = \"CH\";",
                "\nactuarialLrc.ReportingPeriod = (2021, 12);",
                "\nactuarialLrc.ColumnSlices = new string[]{};//\"GroupOfContract\"",
                "\nactuarialLrc.DataFilter = new []{ (\"GroupOfContract\", \"MZ2.1\") };",
                "\n(await actuarialLrc.ToReportAsync) with {Height = 750}"
            ],
            "metadata": {},
            "execution_count": 0,
            "outputs": []
        },
        {
            "cell_type": "markdown",
            "source": [
                "# LRC",
                "\n",
                "\nThe [Liability for Remaining Coverage](https://portal.systemorph.cloud/project/ifrs17/env/v1.0.0/Report/ReportScopes#lrc-liability-for-remaining-coverage) report adds to the [Actuarial Liability for Remaining Coverage](#lrc-actuarial) the contribution of and accrual actuals. A simplified AoC Chain is used to allow comparison of the balance change between Actuals and Present Values. "
            ],
            "metadata": {},
            "execution_count": 0,
            "outputs": []
        },
        {
            "cell_type": "code",
            "source": [
                "var lrc = ifrs17.Lrc;",
                "\nlrc.ReportingNode = \"CH\";",
                "\nlrc.ReportingPeriod = (2021, 3);",
                "\nlrc.ColumnSlices = new string[]{};//\"GroupOfContract\",",
                "\nlrc.DataFilter = null; //new [] {(\"GroupOfContract\", \"DT1.1\")};",
                "\n(await lrc.ToReportAsync) with {Height = 250}"
            ],
            "metadata": {},
            "execution_count": 0,
            "outputs": []
        },
        {
            "cell_type": "markdown",
            "source": [
                "# Financial Performance",
                "\n",
                "\nThe [Financial Performance](https://portal.systemorph.cloud/project/ifrs17/env/v1.0.0/Report/ReportScopes#ifrs-17-financial-performance) report discloses the Change in Estimate of the IFRS 17 balance sheet items ([LRC](#lrc) and [LIC](#lic)) and the relevant incurred cash flows (Premiums, Claims, Expenses, etc...) for the given period.",
                "\n",
                "\nUse the expand and collapse buttons in the report rows to change the granularity of the figures displayed."
            ],
            "metadata": {},
            "execution_count": 0,
            "outputs": []
        },
        {
            "cell_type": "code",
            "source": [
                "var financialPerformance = ifrs17.FinancialPerformance;",
                "\nfinancialPerformance.ReportingNode = \"CH\";",
                "\nfinancialPerformance.ReportingPeriod = (2021, 3);",
                "\nfinancialPerformance.ColumnSlices = new string[]{};//\"GroupOfContract\"",
                "\nfinancialPerformance.DataFilter = null; //new [] {(\"GroupOfContract\", \"DT1.1\")};",
                "\n(await financialPerformance.ToReportAsync) with { Height = 900, GroupDefaultExpanded = 3}"
            ],
            "metadata": {},
            "execution_count": 0,
            "outputs": []
        },
        {
            "cell_type": "code",
            "source": [
                ""
            ],
            "metadata": {},
            "execution_count": 0,
            "outputs": []
        }
    ]
}