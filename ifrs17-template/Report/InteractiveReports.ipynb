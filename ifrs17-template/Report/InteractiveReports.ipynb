{
    "metadata": {
        "authors": [],
        "id": "wTla7_suu02MahikFpsz0A",
        "kernelspec": {
            "display_name": "Formula Framework",
            "language": "C#",
            "name": "C#"
        },
        "language_info": {
            "file_extension": ".cs",
            "mimetype": "text/plain",
            "name": "C#"
        }
    },
    "nbformat": 4,
    "nbformat_minor": 5,
    "cells": [
        {
            "cell_type": "markdown",
            "source": [
                "<a id='report-interactive'></a>",
                "\n<p style=\"font-weight:bold;\"> <span style=\"font-size: 36px\"> Interactive Reports</span> </p>"
            ],
            "metadata": {},
            "execution_count": 0,
            "outputs": []
        },
        {
            "cell_type": "markdown",
            "source": [
                "# Set up data and configuration",
                "\n",
                "\nChoose to run the Reports notebook either with the set of Systemorph data in memory or with the data present in the Database: ",
                "\n- #!eval-notebook \"../Database/Configure\" : connects to a physical Database",
                "\n- #!eval-notebook \"../Import/CloseImportTemplate\" : uses the in-memory set up",
                "\n",
                "\nWe use here the in-memory set up."
            ],
            "metadata": {},
            "execution_count": 0,
            "outputs": []
        },
        {
            "cell_type": "code",
            "source": [
                "#!import \"../Import/CloseImportTemplate\""
            ],
            "metadata": {},
            "execution_count": 0,
            "outputs": []
        },
        {
            "cell_type": "code",
            "source": [
                "Workspace.InitializeFrom(DataSource);",
                "\n//ifrs17Interactive.Reset(Workspace)"
            ],
            "metadata": {},
            "execution_count": 0,
            "outputs": []
        },
        {
            "cell_type": "code",
            "source": [
                "public class Ifrs17Interactive2 ",
                "\n{",
                "\n    private Systemorph.Vertex.Pivot.Builder.Interfaces.IPivotFactory report;",
                "\n    private Systemorph.InteractiveObjects.InteractiveObjectVariable interactiveObject;",
                "\n    private ReportStorage storage;",
                "\n",
                "\n    private IDictionary<string, Systemorph.Vertex.InteractiveObjects.InteractiveObjectView> interactiveObjectCache = new Dictionary<string, Systemorph.Vertex.InteractiveObjects.InteractiveObjectView>();",
                "\n",
                "\n    public Ifrs17Interactive2 (IWorkspace workspace, Systemorph.Vertex.Pivot.Builder.Interfaces.IPivotFactory report, Systemorph.InteractiveObjects.InteractiveObjectVariable interactiveObject)",
                "\n    {",
                "\n        this.report = report;",
                "\n        this.interactiveObject = interactiveObject;",
                "\n        storage = new ReportStorage(workspace, report);",
                "\n    }",
                "\n",
                "\n    public void Reset(IWorkspace workspace) {",
                "\n        storage = new ReportStorage(workspace, report);",
                "\n        interactiveObjectCache = new Dictionary<string, Systemorph.Vertex.InteractiveObjects.InteractiveObjectView>();",
                "\n    }",
                "\n",
                "\n    public Systemorph.Vertex.InteractiveObjects.InteractiveObjectView GetFormsEntity<T>(string name = null) where T : ReportScope {",
                "\n        var key = name ?? typeof(T).Name;",
                "\n        if(!interactiveObjectCache.TryGetValue($\"{key}FormsEntity\", out var ret))",
                "\n            ret = interactiveObjectCache[$\"{key}FormsEntity\"] = interactiveObject.CreateView($\"{key}FormsEntity\", _ => GetReportScope<T>());",
                "\n        return ret;",
                "\n    }",
                "\n",
                "\n    public Systemorph.Vertex.InteractiveObjects.InteractiveObjectView GetReport<T>(string name = null) where T : ReportScope, IWithToReportAsync {",
                "\n        var key = name ?? typeof(T).Name;",
                "\n        if(!interactiveObjectCache.TryGetValue(key, out var ret))",
                "\n        ret = interactiveObjectCache[key] = interactiveObject.CreateView(key,",
                "\n            _ => {",
                "\n                var scope = GetReportScope<T>();",
                "\n                var filters = scope.GetFilters(); // Not used and should be improved",
                "\n                return ((IWithToReportAsync)scope).ToReportAsync();",
                "\n            });",
                "\n        return ret;",
                "\n    }",
                "\n",
                "\n    public ReportScope GetReportScope<T>() where T : ReportScope => interactiveObject.State.GetScope<T>(typeof(T).Name, o => o.WithStorage(storage));",
                "\n}"
            ],
            "metadata": {},
            "execution_count": 0,
            "outputs": []
        },
        {
            "cell_type": "code",
            "source": [
                "var ifrs17Interactive2 = new Ifrs17Interactive2(Workspace, Report, InteractiveObject);",
                "\nifrs17Interactive2.Reset(Workspace)"
            ],
            "metadata": {},
            "execution_count": 0,
            "outputs": []
        },
        {
            "cell_type": "code",
            "source": [
                "ifrs17Interactive2.GetFormsEntity<PvReport>()"
            ],
            "metadata": {},
            "execution_count": 0,
            "outputs": []
        },
        {
            "cell_type": "code",
            "source": [
                "ifrs17Interactive2.GetReport<PvReport>()"
            ],
            "metadata": {},
            "execution_count": 0,
            "outputs": []
        },
        {
            "cell_type": "code",
            "source": [
                "var storage = new ReportStorage(Workspace, Report);"
            ],
            "metadata": {},
            "execution_count": 0,
            "outputs": []
        },
        {
            "cell_type": "code",
            "source": [
                "    static T ExpGetScope<T>(Systemorph.InteractiveObjects.InteractiveObjectVariable io, object storage) {",
                "\n        var ret = io.State.GetScope<T>(typeof(T).Name, o => o.WithStorage(storage));",
                "\n        return ret;",
                "\n    }"
            ],
            "metadata": {},
            "execution_count": 0,
            "outputs": []
        },
        {
            "cell_type": "code",
            "source": [
                "async static Task<object> ExpGetReport<T>(Systemorph.InteractiveObjects.InteractiveObjectVariable io, object storage, Func<object, Task<object>> resultFacory) ",
                "\n//where T : IWithToReportAsync",
                "\n {",
                "\n        var ret = ExpGetScope<T>(io, storage);",
                "\n        return await resultFacory(ret);",
                "\n    }"
            ],
            "metadata": {},
            "execution_count": 0,
            "outputs": []
        },
        {
            "cell_type": "code",
            "source": [
                "//var scope = ExpGetScope<PvReport>(InteractiveObject, storage);",
                "\n//await scope.ToReportAsync"
            ],
            "metadata": {},
            "execution_count": 0,
            "outputs": []
        },
        {
            "cell_type": "code",
            "source": [
                "await ExpGetReport<PvReport>(InteractiveObject, storage, async x => await x.ToReportAsync)"
            ],
            "metadata": {},
            "execution_count": 0,
            "outputs": []
        },
        {
            "cell_type": "code",
            "source": [
                "var a = ifrs17Interactive2.GetReportScope<PvReport>();"
            ],
            "metadata": {},
            "execution_count": 0,
            "outputs": []
        },
        {
            "cell_type": "code",
            "source": [
                "await a.ToReportAsync()"
            ],
            "metadata": {},
            "execution_count": 0,
            "outputs": []
        },
        {
            "cell_type": "code",
            "source": [
                "var b = (PvReport) a;"
            ],
            "metadata": {},
            "execution_count": 0,
            "outputs": []
        },
        {
            "cell_type": "code",
            "source": [
                "await b.ToReportAsync()"
            ],
            "metadata": {},
            "execution_count": 0,
            "outputs": []
        },
        {
            "cell_type": "code",
            "source": [
                "interface IA :IScope {",
                "\n    string M() => \"IA\";",
                "\n}",
                "\ninterface IB : IA {",
                "\n    string IA.M() => \"IB\";",
                "\n}",
                "\n",
                "\nInteractiveObject.State.GetScope<IB>().M()"
            ],
            "metadata": {},
            "execution_count": 0,
            "outputs": []
        },
        {
            "cell_type": "code",
            "source": [
                "string GetString<T>() where T : IA, new() {",
                "\n    var iii = new T();",
                "\n    return iii.M();",
                "\n}"
            ],
            "metadata": {},
            "execution_count": 0,
            "outputs": []
        },
        {
            "cell_type": "code",
            "source": [
                ""
            ],
            "metadata": {},
            "execution_count": 0,
            "outputs": []
        },
        {
            "cell_type": "code",
            "source": [
                ""
            ],
            "metadata": {},
            "execution_count": 0,
            "outputs": []
        },
        {
            "cell_type": "code",
            "source": [
                ""
            ],
            "metadata": {},
            "execution_count": 0,
            "outputs": []
        }
    ]
}