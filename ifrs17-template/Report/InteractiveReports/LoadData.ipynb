{
    "metadata": {
        "authors": [],
        "id": "HX-3ABD14UaeXjlLLekeNw",
        "kernelspec": {
            "display_name": "Formula Framework",
            "language": "C#",
            "name": "C#"
        },
        "language_info": {
            "file_extension": ".cs",
            "mimetype": "text/plain",
            "name": "C#"
        }
    },
    "nbformat": 4,
    "nbformat_minor": 5,
    "cells": [
        {
            "cell_type": "markdown",
            "source": [
                "<p style=\"font-weight:bold;\"> <span style=\"font-size: 36px\"> Set up and configurations </span> </p>"
            ],
            "metadata": {},
            "execution_count": 0,
            "outputs": []
        },
        {
            "cell_type": "markdown",
            "source": [
                "Choose to run the Report notebooks either with the set of Systemorph data in memory or with the data present in the Database:",
                "\n",
                "\n- #!eval-notebook \"../Database/Configure\" : connects to a physical Database",
                "\n- #!eval-notebook \"../Import/CloseImportTemplate\" : uses the in-memory set up",
                "\n",
                "\nWe use here the in-memory set up.",
                "\n",
                "\nThe current notebook is used by all interactive reports and any change made here is going to affect all interactive reports.",
                "\n"
            ],
            "metadata": {},
            "execution_count": 0,
            "outputs": []
        },
        {
            "cell_type": "code",
            "source": [
                "#!import \"../../Import/CloseImportTemplate\""
            ],
            "metadata": {},
            "execution_count": 0,
            "outputs": []
        },
        {
            "cell_type": "code",
            "source": [
                "Workspace.InitializeFrom(DataSource);",
                "\nifrs17Interactive.Reset(Workspace)"
            ],
            "metadata": {},
            "execution_count": 0,
            "outputs": []
        },
        {
            "cell_type": "markdown",
            "source": [
                "In order to allow direct export of the files into the sharepoint folder of choice, please comment out the first row of the following code and uncomment the rest of the code."
            ],
            "metadata": {},
            "execution_count": 0,
            "outputs": []
        },
        {
            "cell_type": "code",
            "source": [
                "var pathToExport = \"\";",
                "\n//#!import \"../../Constants/Sharepoint\"",
                "\n//var fileStorage = SharePoint.Site(Sharepoint.Sites, Sharepoint.Tenant);",
                "\n//var pathToExport = Sharepoint.Root + \"ExportFilesTest/\"; // Provide here the path to you default export folder",
                "\n//Export.SetDefaultFileStorage(fileStorage);"
            ],
            "metadata": {},
            "execution_count": 0,
            "outputs": []
        }
    ]
}