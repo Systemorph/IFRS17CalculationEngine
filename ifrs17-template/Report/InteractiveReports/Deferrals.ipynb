{
    "metadata": {
        "authors": [],
        "id": "T4bL4ggXtUu8qf7OrBY7lg",
        "kernelspec": {
            "display_name": "Formula Framework",
            "language": "C#",
            "name": "C#"
        },
        "language_info": {
            "file_extension": ".cs",
            "mimetype": "text/plain",
            "name": "C#"
        }
    },
    "nbformat": 4,
    "nbformat_minor": 5,
    "cells": [
        {
            "cell_type": "markdown",
            "source": [
                "<p style=\"font-weight:bold;\"> <span style=\"font-size: 36px\"> Deferrals</span> </p>"
            ],
            "metadata": {},
            "execution_count": 0,
            "outputs": []
        },
        {
            "cell_type": "code",
            "source": [
                "#!import \"LoadData\""
            ],
            "metadata": {},
            "execution_count": 0,
            "outputs": []
        },
        {
            "cell_type": "code",
            "source": [
                "ifrs17Interactive.GetFormsEntity<DeferralReport>()"
            ],
            "metadata": {},
            "execution_count": 0,
            "outputs": []
        },
        {
            "cell_type": "code",
            "source": [
                "ifrs17Interactive.GetReport<DeferralReport>()"
            ],
            "metadata": {},
            "execution_count": 0,
            "outputs": []
        },
        {
            "cell_type": "markdown",
            "source": [
                "The following row will output the report into excel. To change the name of the file, please change the string in the argument. The program will automatically attach the UTC creation date and time to the name that you chose. If you don not want the date and time to be attached, please change the addDataTime to false.  "
            ],
            "metadata": {},
            "execution_count": 0,
            "outputs": []
        },
        {
            "cell_type": "code",
            "source": [
                "await ifrs17Interactive.ExportToExcelAsync<PvReport>(\"DeferralsReport\", addDateTime : true)"
            ],
            "metadata": {},
            "execution_count": 0,
            "outputs": []
        }
    ]
}