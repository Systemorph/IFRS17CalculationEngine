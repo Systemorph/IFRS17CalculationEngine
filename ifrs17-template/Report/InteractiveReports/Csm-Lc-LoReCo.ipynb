{
    "metadata": {
        "authors": [],
        "id": "YfxenPHy6ky0dq9nEONroA",
        "kernelspec": {
            "display_name": "Formula Framework",
            "language": "C#",
            "name": "C#"
        },
        "language_info": {
            "file_extension": ".cs",
            "mimetype": "text/plain",
            "name": "C#"
        }
    },
    "nbformat": 4,
    "nbformat_minor": 5,
    "cells": [
        {
            "cell_type": "markdown",
            "source": [
                "<p style=\"font-weight:bold;\"> <span style=\"font-size: 36px\"> Contractual Service Margin / Loss Component / Loss Recovery Component</span> </p>"
            ],
            "metadata": {},
            "execution_count": 0,
            "outputs": []
        },
        {
            "cell_type": "code",
            "source": [
                "#!import \"LoadData\""
            ],
            "metadata": {},
            "execution_count": 0,
            "outputs": []
        },
        {
            "cell_type": "code",
            "source": [
                "Workspace.InitializeFrom(DataSource);",
                "\nifrs17Interactive.Reset(Workspace)"
            ],
            "metadata": {},
            "execution_count": 0,
            "outputs": []
        },
        {
            "cell_type": "code",
            "source": [
                "ifrs17Interactive.GetFormsEntity<CsmReport>()"
            ],
            "metadata": {},
            "execution_count": 0,
            "outputs": []
        },
        {
            "cell_type": "code",
            "source": [
                "ifrs17Interactive.GetReport<CsmReport>()"
            ],
            "metadata": {},
            "execution_count": 0,
            "outputs": []
        }
    ]
}