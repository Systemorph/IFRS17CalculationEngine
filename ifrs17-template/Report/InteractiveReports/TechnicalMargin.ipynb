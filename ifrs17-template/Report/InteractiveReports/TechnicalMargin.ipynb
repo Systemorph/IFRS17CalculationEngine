{
    "metadata": {
        "authors": [],
        "id": "c9ui1BTJv0-wnUoEiBU1pw",
        "kernelspec": {
            "display_name": "Formula Framework",
            "language": "C#",
            "name": "C#"
        },
        "language_info": {
            "file_extension": ".cs",
            "mimetype": "text/plain",
            "name": "C#"
        }
    },
    "nbformat": 4,
    "nbformat_minor": 5,
    "cells": [
        {
            "cell_type": "markdown",
            "source": [
                "<p style=\"font-weight:bold;\"> <span style=\"font-size: 36px\"> Technical Margin</span> </p>"
            ],
            "metadata": {},
            "execution_count": 0,
            "outputs": []
        },
        {
            "cell_type": "markdown",
            "source": [
                "# Load Data"
            ],
            "metadata": {},
            "execution_count": 0,
            "outputs": []
        },
        {
            "cell_type": "code",
            "source": [
                "#!import \"LoadData\""
            ],
            "metadata": {},
            "execution_count": 0,
            "outputs": []
        },
        {
            "cell_type": "markdown",
            "source": [
                "# Interactive report and export"
            ],
            "metadata": {},
            "execution_count": 0,
            "outputs": []
        },
        {
            "cell_type": "code",
            "source": [
                "ifrs17Interactive.GetFormsEntity<TmReport>()"
            ],
            "metadata": {},
            "execution_count": 0,
            "outputs": []
        },
        {
            "cell_type": "code",
            "source": [
                "ifrs17Interactive.GetReport<TmReport>()"
            ],
            "metadata": {},
            "execution_count": 0,
            "outputs": []
        },
        {
            "cell_type": "markdown",
            "source": [
                "Export the report to excel format using the next cell. Change the file name using the input string and disable appending UTC export time by chaging true to false. "
            ],
            "metadata": {},
            "execution_count": 0,
            "outputs": []
        },
        {
            "cell_type": "code",
            "source": [
                "await ifrs17Interactive.ExportToExcelAsync<TmReport>(pathToExport + \"TmReport\", addDateTime : true)"
            ],
            "metadata": {},
            "execution_count": 0,
            "outputs": []
        }
    ]
}