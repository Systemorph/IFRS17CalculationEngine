{
    "metadata": {
        "authors": [],
        "id": "kE0lIOQKnkOdWh63xf3cZA",
        "kernelspec": {
            "display_name": "Formula Framework",
            "language": "C#",
            "name": "C#"
        },
        "language_info": {
            "file_extension": ".cs",
            "mimetype": "text/plain",
            "name": "C#"
        }
    },
    "nbformat": 4,
    "nbformat_minor": 5,
    "cells": [
        {
            "cell_type": "markdown",
            "source": [
                "<a id='report-production'></a>",
                "\n<p style=\"font-weight:bold;\"> <span style=\"font-size: 36px\"> Reports</span> </p>"
            ],
            "metadata": {},
            "execution_count": 0,
            "outputs": []
        },
        {
            "cell_type": "markdown",
            "source": [
                "For demonstration purposes we import here data for some *Group of Insurance Contract* (GIC) and *Group of Reinsurance Contract* (GRIC) - the import is triggered in the [Set up data and configuration](#set-up-data-and-configuration) section.",
                "\n<br> The imported data set consists of cash flows, actuals, and parameters.",
                "\n<br> Input files can be found in the **File** directory. You are invited to change them or upload your own or add new data in the [CloseImportTemplate](../Import/CloseImportTemplate) notebook. ",
                "\n<br> For simplicity, we import similar transactional data for all GICs and GRICs. Each *Group of Contracts* produces different figures due to differences in parameters such as *Liability Type*, *Oci type* or *Premium allocation factor* to Contractual Service Margin.",
                "\n",
                "\nFollow the instructions below for a guided interaction with the reports."
            ],
            "metadata": {},
            "execution_count": 0,
            "outputs": []
        },
        {
            "cell_type": "markdown",
            "source": [
                "# Set up data and configuration",
                "\n",
                "\nChoose to run the Reports notebook either with the set of Systemorph data in memory or with the data present in the Database: ",
                "\n- #!eval-notebook \"../Database/Configure\" : connects to a physical Database",
                "\n- #!eval-notebook \"../Import/CloseImportTemplate\" : uses the in-memory set up",
                "\n",
                "\nWe use here the in-memory set up."
            ],
            "metadata": {},
            "execution_count": 0,
            "outputs": []
        },
        {
            "cell_type": "code",
            "source": [
                "#!eval-notebook \"../Import/CloseImportTemplate\""
            ],
            "metadata": {},
            "execution_count": 0,
            "outputs": []
        },
        {
            "cell_type": "code",
            "source": [
                "Workspace.InitializeFrom(DataSource);",
                "\nifrs17.Reset(Workspace)"
            ],
            "metadata": {},
            "execution_count": 0,
            "outputs": []
        },
        {
            "cell_type": "markdown",
            "source": [
                "# Best Estimate",
                "\n",
                "\nPresent values of the [best-estimate](https://portal.systemorph.cloud/project/ifrs17/env/v1.3.0/Report/ReportScopes#best-estimate) future cash flows are shown here in an Analysis of Change report.",
                "\n",
                "\nThe granularity of the reported figures can be modified by changing the Column Slices options.",
                "\nFor example one can add <code>\"GroupOfContract\"</code> to separate the contributions of the individual Group of Contracts.",
                "\n",
                "\nAggregated values are displayed when the data has a finer granularity than the one selected by the report slice options.",
                "\n",
                "\nThe Best Estimate scenario is selected by default. You can select other scenarios through the Scenario field. Possible options includes 'All' and 'Delta'. Select ColumnSlice Scenario if you chose one of these. "
            ],
            "metadata": {},
            "execution_count": 0,
            "outputs": []
        },
        {
            "cell_type": "code",
            "source": [
                "var pv = ifrs17.PresentValues;",
                "\npv.ReportingNode = \"CH\";",
                "\npv.ReportingPeriod = (2020, 12);",
                "\npv.CurrencyType = CurrencyType.Contractual;",
                "\npv.ColumnSlices = new string[]{\"GroupOfContract\", \"AmountType\"};//\"GroupOfContract\", \"AmountType\", \"Scenario\", \"ServicePeriod\"",
                "\npv.Scenario = null; //\"All\";",
                "\npv.DataFilter = new [] {(\"GroupOfContract\", \"DT1.1\")}; //new [] {(\"GroupOfContract\", \"DT1.2\"),(\"LiabilityType\", \"LIC\") };",
                "\n(await pv.ToReportAsync)"
            ],
            "metadata": {},
            "execution_count": 0,
            "outputs": []
        },
        {
            "cell_type": "markdown",
            "source": [
                "# Risk Adjustment",
                "\n",
                "\nPresent values of the [risk adjustment](https://portal.systemorph.cloud/project/ifrs17/env/v1.3.0/Report/ReportScopes#risk-adjustment) future cash flows are shown here.",
                "\n",
                "\nThe additional ColumnSlices are added to the view as the inner column. This can dicrease the readability of the report. For example, adding the slice by \"GroupOfContract\" leaves the lock-in and current rate contributions far apart and difficult to compare. The re-order of default slices with custom slices is achieved by esplicitly add the default slice among the custom slices. In our case, you can try entering both \"GroupOfContract\" and \"EconomicBasis\" separated by a comma in the ColumnSlices."
            ],
            "metadata": {},
            "execution_count": 0,
            "outputs": []
        },
        {
            "cell_type": "code",
            "source": [
                "var ra = ifrs17.RiskAdjustments;",
                "\nra.ReportingNode = \"CH\";",
                "\nra.ReportingPeriod = (2020, 12);",
                "\nra.ColumnSlices = new string[]{\"GroupOfContract\"};//\"GroupOfContract\", \"EconomicBasis\"",
                "\nra.DataFilter = new [] {(\"GroupOfContract\", \"DT1.1\")};//new [] {(\"GroupOfContract\", \"DT1.2\")};",
                "\n(await ra.ToReportAsync)"
            ],
            "metadata": {},
            "execution_count": 0,
            "outputs": []
        },
        {
            "cell_type": "markdown",
            "source": [
                "# Written Actuals",
                "\n",
                "\n[Written Actuals](https://portal.systemorph.cloud/project/ifrs17/env/v1.3.0/Report/ReportScopes#written-accrual-deferral) are shown here. ",
                "\n",
                "\nIn this case, the analysis of change view is replaced with a default slice by the **AmountTypes**. Only the amount type with non zero value are displayed. ",
                "\n<br>Filters can be applied to reports in order to isolate a sub-set of the data. They are specified by the name of the dimension to filter and the system name of the desired value. For example, to investigate the contribution of a single Group of Contract the following filter can be applied: new [] {(\"GroupOfContract\", \"DT1.1\")}."
            ],
            "metadata": {},
            "execution_count": 0,
            "outputs": []
        },
        {
            "cell_type": "code",
            "source": [
                "var writtenActual = ifrs17.WrittenActuals;",
                "\nwrittenActual.ReportingNode = \"CH\";",
                "\nwrittenActual.ReportingPeriod = (2021, 3);",
                "\nwrittenActual.ColumnSlices = new string[]{\"GroupOfContract\"};//\"GroupOfContract\"",
                "\nwrittenActual.DataFilter =  new [] {(\"GroupOfContract\", \"DT1.1\")}; //new [] {(\"GroupOfContract\", \"DT1.1\")};",
                "\n(await writtenActual.ToReportAsync)"
            ],
            "metadata": {},
            "execution_count": 0,
            "outputs": []
        },
        {
            "cell_type": "markdown",
            "source": [
                "## Advance, Overdue Actuals",
                "\n",
                "\nActuals payed in [Advance](https://portal.systemorph.cloud/project/ifrs17/env/v1.3.0/Report/ReportScopes#written-accrual-deferral)",
                "\nor [Overdue](https://portal.systemorph.cloud/project/ifrs17/env/v1.3.0/Report/ReportScopes#written-accrual-deferral) are shown here together in a simplified Analysis of Change. ",
                "\n",
                "\nCombining Filters and ColumnSlices facilitate the report analysis. For example, you can select \"GroupOfContract\" as column slices with a Filter on EstimateType \"AA\" to analyse the Advance Actuals for all Group of Contract. "
            ],
            "metadata": {},
            "execution_count": 0,
            "outputs": []
        },
        {
            "cell_type": "code",
            "source": [
                "var accrualActual = ifrs17.AccrualActuals;",
                "\naccrualActual.ReportingNode = \"CH\";",
                "\naccrualActual.ReportingPeriod = (2021, 3);",
                "\naccrualActual.ColumnSlices = new string[]{};//\"GroupOfContract\", \"AmountType\"",
                "\naccrualActual.DataFilter = new [] {(\"GroupOfContract\", \"DT1.1\")}; //new [] {(\"EstimateType\", \"AA\")};",
                "\n(await accrualActual.ToReportAsync)"
            ],
            "metadata": {},
            "execution_count": 0,
            "outputs": []
        },
        {
            "cell_type": "markdown",
            "source": [
                "## Deferrable Actuals",
                "\n",
                "\n[Deferrable Actuals](https://portal.systemorph.cloud/project/ifrs17/env/v1.3.0/Report/ReportScopes#written-accrual-deferral) are shown here. Amortization of the deferrable amount is computed using the Coverage Unit pattern.  "
            ],
            "metadata": {},
            "execution_count": 0,
            "outputs": []
        },
        {
            "cell_type": "code",
            "source": [
                "var deferrableActual = ifrs17.DeferralActuals;",
                "\ndeferrableActual.ReportingNode = \"CH\";",
                "\ndeferrableActual.ReportingPeriod = (2020, 12);",
                "\ndeferrableActual.ColumnSlices = new string[]{};//\"GroupOfContract\", \"AmountType\"",
                "\ndeferrableActual.DataFilter = new [] {(\"GroupOfContract\", \"DT1.1\")};//new [] {(\"GroupOfContract\", \"DT1.1\")};",
                "\n(await deferrableActual.ToReportAsync)"
            ],
            "metadata": {},
            "execution_count": 0,
            "outputs": []
        },
        {
            "cell_type": "markdown",
            "source": [
                "# Fulfilment Cash flow",
                "\n",
                "\nPresent Value of the [Fulfilment Cash flow](https://portal.systemorph.cloud/project/ifrs17/env/v1.3.0/Report/ReportScopes#fulfillment-cash-flows) are shown here. ",
                "\n<br> The individual contributions from Best Estimate and Risk Adjustment can be visualized slicing by **EstimateType**.",
                "\n",
                "\nFilters can be applied to report to isolate a sub-set of the data. For example you can Filter by a specific Group of Contract using its system name using : new [] {(\"GroupOfContract\", \"DT1.1\")}.",
                "\n"
            ],
            "metadata": {},
            "execution_count": 0,
            "outputs": []
        },
        {
            "cell_type": "code",
            "source": [
                "var fulfillmentCashflows = ifrs17.FulfillmentCashflows;",
                "\nfulfillmentCashflows.ReportingNode = \"CH\";",
                "\nfulfillmentCashflows.ReportingPeriod = (2020, 12);",
                "\nfulfillmentCashflows.ColumnSlices = new string[]{\"GroupOfContract\", \"EstimateType\"};//\"EstimateType\"",
                "\nfulfillmentCashflows.DataFilter =  new [] {(\"GroupOfContract\", \"DT1.1\")};",
                "\n(await fulfillmentCashflows.ToReportAsync)"
            ],
            "metadata": {},
            "execution_count": 0,
            "outputs": []
        },
        {
            "cell_type": "markdown",
            "source": [
                "# Actuarial Experience Adjustment",
                "\n",
                "\nA comparison between [Written Actual](#written-actual) and the Releases of the [Best Estimate](#present-value) is reported in the [Actuarial Experience Adjustment](https://portal.systemorph.cloud/project/ifrs17/env/v1.3.0/Report/ReportScopes#experience-adjustment)."
            ],
            "metadata": {},
            "execution_count": 0,
            "outputs": []
        },
        {
            "cell_type": "code",
            "source": [
                "var experienceAdjustments = ifrs17.ExperienceAdjustments;",
                "\nexperienceAdjustments.ReportingNode = \"CH\";",
                "\nexperienceAdjustments.ReportingPeriod = (2020, 12);",
                "\nexperienceAdjustments.ColumnSlices = new string[]{\"GroupOfContract\",\"AmountType\"};//\"GroupOfContract\", \"AmountType\"",
                "\nexperienceAdjustments.DataFilter = new [] {(\"GroupOfContract\", \"DT1.1\")}; //new [] {(\"GroupOfContract\", \"DT1.1\")};",
                "\n(await experienceAdjustments.ToReportAsync)"
            ],
            "metadata": {},
            "execution_count": 0,
            "outputs": []
        },
        {
            "cell_type": "markdown",
            "source": [
                "# LRC Technical Margin",
                "\n",
                "\nIn the [Technical Margin](https://portal.systemorph.cloud/project/ifrs17/env/v1.3.0/Report/ReportScopes#technical-margin) report we present a unified view on the figures that are allocated to either Contractual Service Margin or to Loss Component. ",
                "\n<br> The Analysis of Change is expanded with few more steps such as **Experience Adjustment** and **Amortization**."
            ],
            "metadata": {},
            "execution_count": 0,
            "outputs": []
        },
        {
            "cell_type": "code",
            "source": [
                "var technicalMargins = ifrs17.TechnicalMargins;",
                "\ntechnicalMargins.ReportingNode = \"CH\";",
                "\ntechnicalMargins.ReportingPeriod = (2020, 12);",
                "\ntechnicalMargins.ColumnSlices = new string[]{\"EstimateType\"};//\"GroupOfContract\", \"AmountType\"",
                "\ntechnicalMargins.DataFilter = new [] {(\"GroupOfContract\", \"DT1.1\")};",
                "\n(await technicalMargins.ToReportAsync)"
            ],
            "metadata": {},
            "execution_count": 0,
            "outputs": []
        },
        {
            "cell_type": "markdown",
            "source": [
                "# Contractual Service Margin / Loss Component / Loss Recovery Component",
                "\n",
                "\nThe Contractual Service Margin (CSM) / Loss Component (LC) / Loss Recovery Component (LR) [report](https://portal.systemorph.cloud/project/ifrs17/env/v1.3.0/Report/ReportScopes#technical-margin) are here shown side by side as the allocation to profit or loss is done at each step of the Analysis of Change. ",
                "\n",
                "\nA default slice by EstimateType - which distinguish between CSM, LC and LR contributions - is automatically enforced. "
            ],
            "metadata": {},
            "execution_count": 0,
            "outputs": []
        },
        {
            "cell_type": "code",
            "source": [
                "var allocatedTechnicalMargins = ifrs17.AllocatedTechnicalMargins;",
                "\nallocatedTechnicalMargins.ReportingNode = \"CH\";",
                "\nallocatedTechnicalMargins.ReportingPeriod = (2020, 12);",
                "\nallocatedTechnicalMargins.ColumnSlices = new string[]{};//\"GroupOfContract\", \"EstimateType\"",
                "\nallocatedTechnicalMargins.DataFilter = new [] {(\"GroupOfContract\", \"DT1.1\")}; //new [] {(\"GroupOfContract\", \"DT1.1\")};",
                "\n(await allocatedTechnicalMargins.ToReportAsync)"
            ],
            "metadata": {},
            "execution_count": 0,
            "outputs": []
        },
        {
            "cell_type": "markdown",
            "source": [
                "# LRC Actuarial",
                "\n",
                "\nThe [Actuarial Liability for Remaining Coverage](https://portal.systemorph.cloud/project/ifrs17/env/v1.3.0/Report/ReportScopes#lrc-actuarial-actuarial-liability-for-remaining-coverage) report shows figures from Fulfilment Cash flow discounted with current yield curve, and the allocated techinical margin. "
            ],
            "metadata": {},
            "execution_count": 0,
            "outputs": []
        },
        {
            "cell_type": "code",
            "source": [
                "var actuarialLrc = ifrs17.ActuarialLrc;",
                "\nactuarialLrc.ReportingNode = \"CH\";",
                "\nactuarialLrc.ReportingPeriod = (2020, 12);",
                "\nactuarialLrc.ColumnSlices = new string[]{};//\"GroupOfContract\"",
                "\nactuarialLrc.DataFilter = new [] {(\"GroupOfContract\", \"DT1.1\")}; //new [] {(\"GroupOfContract\", \"DT1.1\")};",
                "\n(await actuarialLrc.ToReportAsync)"
            ],
            "metadata": {},
            "execution_count": 0,
            "outputs": []
        },
        {
            "cell_type": "markdown",
            "source": [
                "# LRC",
                "\n",
                "\nThe [Liability for Remaining Coverage](https://portal.systemorph.cloud/project/ifrs17/env/v1.3.0/Report/ReportScopes#lrc-liability-for-remaining-coverage) report adds to the [Actuarial Liability for Remaining Coverage](#lrc-actuarial) the contribution of and accrual actuals. A simplified AoC Chain is used to allow comparison of the balance change between Actuals and Present Values. "
            ],
            "metadata": {},
            "execution_count": 0,
            "outputs": []
        },
        {
            "cell_type": "code",
            "source": [
                "var lrc = ifrs17.Lrc;",
                "\nlrc.ReportingNode = \"CH\";",
                "\nlrc.ReportingPeriod = (2020, 12);",
                "\nlrc.ColumnSlices = new string[]{};//\"GroupOfContract\",",
                "\nlrc.DataFilter = new [] {(\"GroupOfContract\", \"DT1.1\")}; //new [] {(\"GroupOfContract\", \"DT1.1\")};",
                "\n(await lrc.ToReportAsync)"
            ],
            "metadata": {},
            "execution_count": 0,
            "outputs": []
        },
        {
            "cell_type": "markdown",
            "source": [
                "# LIC Actuarial",
                "\n",
                "\nThe [Actuarial Liability of Incurred Claims](https://portal.systemorph.cloud/project/ifrs17/env/v1.3.0/Report/ReportScopes#lic-actuarial-actuarial-liability-for-incurred-claims) report shows figures from Fulfilment Cash flow discounted with current yield curve. "
            ],
            "metadata": {},
            "execution_count": 0,
            "outputs": []
        },
        {
            "cell_type": "code",
            "source": [
                "var actuarialLic = ifrs17.ActuarialLic;",
                "\nactuarialLic.ReportingNode = \"CH\";",
                "\nactuarialLic.ReportingPeriod = (2021, 3);",
                "\nactuarialLic.ColumnSlices = new string[]{};//\"GroupOfContract\", \"AmountType\"",
                "\nactuarialLic.DataFilter = null; //new [] {(\"GroupOfContract\", \"DT1.1\")};",
                "\n(await actuarialLic.ToReportAsync)"
            ],
            "metadata": {},
            "execution_count": 0,
            "outputs": []
        },
        {
            "cell_type": "markdown",
            "source": [
                "# LIC",
                "\n",
                "\nThe [Liability for Incurred Claims](https://portal.systemorph.cloud/project/ifrs17/env/v1.3.0/Report/ReportScopes#lic-liability-for-incurred-claims) adds to the [Actuarial Liability for Incurred Claims](#lic-actuarial) the contribution of and accrual actuals."
            ],
            "metadata": {},
            "execution_count": 0,
            "outputs": []
        },
        {
            "cell_type": "code",
            "source": [
                "var lic = ifrs17.Lic;",
                "\nlic.ReportingNode = \"CH\";",
                "\nlic.ReportingPeriod = (2021, 3);",
                "\nlic.ColumnSlices = new string[]{};//\"GroupOfContract\", \"AmountType\"",
                "\nlic.DataFilter = null; //new [] {(\"GroupOfContract\", \"DT1.1\")};",
                "\n(await lic.ToReportAsync)"
            ],
            "metadata": {},
            "execution_count": 0,
            "outputs": []
        },
        {
            "cell_type": "markdown",
            "source": [
                "# Financial Performance",
                "\n",
                "\nThe [Financial Performance](https://portal.systemorph.cloud/project/ifrs17/env/v1.3.0/Report/ReportScopes#ifrs-17-financial-performance) report discloses the Change in Estimate of the IFRS 17 balance sheet items ([LRC](#lrc) and [LIC](#lic)) and the relevant incurred cash flows (Premiums, Claims, Expenses, etc...) for the given period.",
                "\n",
                "\nUse the expand and collapse buttons in the report rows to change the granularity of the figures displayed."
            ],
            "metadata": {},
            "execution_count": 0,
            "outputs": []
        },
        {
            "cell_type": "code",
            "source": [
                "var financialPerformance = ifrs17.FinancialPerformance;",
                "\nfinancialPerformance.ReportingNode = \"CH\";",
                "\nfinancialPerformance.ReportingPeriod = (2020, 12);",
                "\nfinancialPerformance.ColumnSlices = new string[]{\"GroupOfContract\"};//\"GroupOfContract\"",
                "\nfinancialPerformance.DataFilter = null;//new [] {(\"GroupOfContract\", \"DTR1.1\")}; //new [] {(\"GroupOfContract\", \"DT1.1\")};",
                "\n(await financialPerformance.ToReportAsync) with {GroupDefaultExpanded = 3}"
            ],
            "metadata": {},
            "execution_count": 0,
            "outputs": []
        },
        {
            "cell_type": "code",
            "source": [
                "await Report.ForDataCube((ir+ise)",
                "\n//.Filter(x => x.GroupOfContract == \"DTR1.1\")",
                "\n)",
                "\n    .WithQuerySource(Workspace)",
                "\n    .SliceRowsBy(new [] {\"VariableType\", \"EstimateType\"})",
                "\n    .SliceColumnsBy(new [] {\"Currency\", \"GroupOfContract\"}.Concat(financialPerformance.ColumnSlices).ToArray())",
                "\n    .ReportGridOptions(headerColumnWidth: 500, groupDefaultExpanded: 3)",
                "\n    .ExecuteAsync()"
            ],
            "metadata": {},
            "execution_count": 0,
            "outputs": []
        },
        {
            "cell_type": "code",
            "source": [
                "public interface InsuranceRevenue: IScope<(ReportIdentity Id, CurrencyType CurrencyType), ReportStorage>, IDataCube<ReportVariable> {",
                "\n    static ApplicabilityBuilder ScopeApplicabilityBuilder(ApplicabilityBuilder builder) =>",
                "\n        builder.ForScope<InsuranceRevenue>(s => s.WithApplicability<InsuranceRevenueNotApplicable>(x => x.Identity.Id.IsReinsurance || x.Identity.Id.LiabilityType == LiabilityTypes.LIC));",
                "\n",
                "\n    // PAA Premiums",
                "\n    private IDataCube<ReportVariable> WrittenCashflow => GetScope<WrittenAndAccruals>(Identity).Written.Filter((\"VariableType\", \"CF\"));",
                "\n    private IDataCube<ReportVariable> AdvanceWriteOff => GetScope<WrittenAndAccruals>(Identity).Advance.Filter((\"VariableType\", \"WO\"));",
                "\n    private IDataCube<ReportVariable> OverdueWriteOff => GetScope<WrittenAndAccruals>(Identity).Overdue.Filter((\"VariableType\", \"WO\"));",
                "\n    private IDataCube<ReportVariable> EffectiveActuals => WrittenCashflow -1 * (AdvanceWriteOff + OverdueWriteOff);   ",
                "\n    ",
                "\n    private IDataCube<ReportVariable> PaaPremiums => Identity.Id switch {",
                "\n            { ValuationApproach: ValuationApproaches.PAA } => EffectiveActuals",
                "\n                .Where(x => GetStorage().GetHierarchy<AmountType>().Ancestors(x.AmountType, includeSelf: true).Any(x => x.SystemName == AmountTypes.PR))",
                "\n                .SelectToDataCube(v => v with { Novelty = Novelties.C, VariableType = \"IR11\" }),",
                "\n            _ => Enumerable.Empty<ReportVariable>().ToArray().ToDataCube()",
                "\n    };",
                "\n",
                "\n    // Experience Adjustment On Premiums",
                "\n    private IDataCube<ReportVariable> NotPaaActualPremiums => Identity.Id switch {",
                "\n        { ValuationApproach: ValuationApproaches.PAA } => Enumerable.Empty<ReportVariable>().ToArray().ToDataCube(),",
                "\n        _ => EffectiveActuals",
                "\n            .Where(x => GetStorage().GetHierarchy<AmountType>().Ancestors(x.AmountType, includeSelf: true).Any(x => x.SystemName == AmountTypes.PR))",
                "\n            .SelectToDataCube(v => v with { Novelty = Novelties.C }) ",
                "\n    };",
                "\n",
                "\n    private IDataCube<ReportVariable> NotPaaBestEstimatePremiums => Identity.Id switch {",
                "\n        { ValuationApproach: ValuationApproaches.PAA } => Enumerable.Empty<ReportVariable>().ToArray().ToDataCube(),",
                "\n        _ => GetScope<BestEstimate>(Identity).BestEstimate",
                "\n            .Filter((\"VariableType\", \"CF\"), (\"LiabilityType\", \"LRC\"))",
                "\n            .Where(x => GetStorage().GetHierarchy<AmountType>().Ancestors(x.AmountType, includeSelf: true).Any(x => x.SystemName == AmountTypes.PR))",
                "\n            .AggregateOver(nameof(Novelty))",
                "\n            .SelectToDataCube(rv => rv with { Novelty = Novelties.C })",
                "\n    };",
                "\n",
                "\n    private IDataCube<ReportVariable> WrittenPremiumsToCsm => GetScope<FxData>((Identity.Id, Identity.CurrencyType, EstimateTypes.APA)).FxData;",
                "\n    private IDataCube<ReportVariable> BestEstimatePremiumsToCsm => GetScope<FxData>((Identity.Id, Identity.CurrencyType, EstimateTypes.BEPA)).FxData;",
                "\n",
                "\n    private IDataCube<ReportVariable> ExperienceAdjustmentOnPremiums => (",
                "\n            (NotPaaActualPremiums - WrittenPremiumsToCsm).AggregateOver(nameof(EstimateType)).SelectToDataCube(rv => rv with { EstimateType = EstimateTypes.A }) -",
                "\n            (NotPaaBestEstimatePremiums - BestEstimatePremiumsToCsm).AggregateOver(nameof(EstimateType)).SelectToDataCube(rv => rv with { EstimateType = EstimateTypes.BE })",
                "\n        )",
                "\n        .AggregateOver(nameof(Novelty), nameof(VariableType))",
                "\n        .SelectToDataCube(v => v with { Novelty = Novelties.C, VariableType = \"IR12\" });        ",
                "\n",
                "\n    // Expected Best Estimate cash flow out Release",
                "\n    private IDataCube<ReportVariable> CfOut => -1 * GetScope<BestEstimate>(Identity).BestEstimate",
                "\n        .Filter((\"VariableType\", \"CF\"), (\"LiabilityType\", \"LRC\"))",
                "\n        .AggregateOver(nameof(Novelty))",
                "\n        .SelectToDataCube(rv => rv with { Novelty = Novelties.C });",
                "\n        ",
                "\n    private IDataCube<ReportVariable> ExpectedClaims => CfOut // --> Exclude NA Expenses",
                "\n        .Where(x => GetStorage().GetHierarchy<AmountType>().Ancestors(x.AmountType, includeSelf: true).Any(x => x.SystemName == AmountTypes.CL))",
                "\n        .SelectToDataCube(v => v with { VariableType = \"IR13\" });",
                "\n    private IDataCube<ReportVariable> ExpectedClaimsInvestmentComponent => -1 * CfOut",
                "\n        .Where(x => GetStorage().GetHierarchy<AmountType>().Ancestors(x.AmountType, includeSelf: true).Any(x => x.SystemName == AmountTypes.ICO))",
                "\n        .SelectToDataCube(v => v with { VariableType = \"IR2\" });",
                "\n    //private IDataCube<ReportVariable> ExpectedClaimsInvestmentComponentIse => -1 * ExpectedClaimsInvestmentComponentToIr;",
                "\n",
                "\n    private IDataCube<ReportVariable> ExpectedExpenses => CfOut",
                "\n        .Where(x => GetStorage().GetHierarchy<AmountType>().Ancestors(x.AmountType, includeSelf: true).Any(x => x.SystemName == AmountTypes.AE))",
                "\n        .SelectToDataCube(v => v with { VariableType = \"IR13\" });",
                "\n",
                "\n    private IDataCube<ReportVariable> ExpectedCommissions => CfOut",
                "\n        .Where(x => GetStorage().GetHierarchy<AmountType>().Ancestors(x.AmountType, includeSelf: true).Any(x => x.SystemName == AmountTypes.AC))",
                "\n        .SelectToDataCube(v => v with { VariableType = \"IR13\" });",
                "\n",
                "\n    // RA Release",
                "\n    private IDataCube<ReportVariable> RaRelease => -1 * GetScope<RiskAdjustment>(Identity).RiskAdjustment",
                "\n        .Filter((\"VariableType\", \"CF\"), (\"LiabilityType\", \"LRC\"))",
                "\n        .AggregateOver(nameof(Novelty))",
                "\n        .SelectToDataCube(rv => rv with { Novelty = Novelties.C, VariableType = \"IR13\" });",
                "\n",
                "\n    // CSM Release (Amortization)",
                "\n    private IDataCube<ReportVariable> CsmAmortization => -1 * GetScope<Csm>(Identity).Csm",
                "\n        .Filter((\"VariableType\", AocTypes.AM))",
                "\n        .SelectToDataCube(v => v with { VariableType = \"IR13\" });",
                "\n   ",
                "\n    // Loss Component Release (Amortization)",
                "\n    private IDataCube<ReportVariable> LossComponentAmortization => GetScope<Lc>(Identity).Lc",
                "\n        .Filter((\"VariableType\", AocTypes.AM))",
                "\n        .SelectToDataCube(v => v with { VariableType = \"IR13\" });",
                "\n",
                "\n    // Acquistion Expenses Release (Amortization)",
                "\n    private IDataCube<ReportVariable> AcquistionExpensesAmortization => GetScope<Deferrals>(Identity)",
                "\n        .Filter((\"VariableType\", AocTypes.AM))",
                "\n        .SelectToDataCube(v => v with { VariableType = \"IR13\" });",
                "\n",
                "\n    // InsuranceRevenue   ",
                "\n    IDataCube<ReportVariable> InsuranceRevenue => PaaPremiums + ExperienceAdjustmentOnPremiums + RaRelease + CsmAmortization + LossComponentAmortization + ExpectedClaims + ExpectedClaimsInvestmentComponent + ExpectedExpenses + ExpectedCommissions + AcquistionExpensesAmortization;",
                "\n",
                "\n}",
                "\n",
                "\npublic interface InsuranceRevenueNotApplicable : InsuranceRevenue {",
                "\n    IDataCube<ReportVariable> InsuranceRevenue.InsuranceRevenue => Enumerable.Empty<ReportVariable>().ToArray().ToDataCube(); ",
                "\n}"
            ],
            "metadata": {},
            "execution_count": 0,
            "outputs": []
        },
        {
            "cell_type": "code",
            "source": [
                "public interface InsuranceServiceExpense: IScope<(ReportIdentity Id, CurrencyType CurrencyType), ReportStorage>, IDataCube<ReportVariable> {",
                "\n    static ApplicabilityBuilder ScopeApplicabilityBuilder(ApplicabilityBuilder builder) =>",
                "\n        builder.ForScope<InsuranceServiceExpense>(s => s.WithApplicability<InsuranceServiceExpenseReinsurance>(x => x.Identity.Id.IsReinsurance));",
                "\n",
                "\n    // Actuals cash flow out Release",
                "\n    private IDataCube<ReportVariable> WrittenCashflow => GetScope<WrittenAndAccruals>(Identity).Written.Filter((\"VariableType\", \"CF\"));",
                "\n    private IDataCube<ReportVariable> AdvanceWriteOff => GetScope<WrittenAndAccruals>(Identity).Advance.Filter((\"VariableType\", \"WO\"));",
                "\n    private IDataCube<ReportVariable> OverdueWriteOff => GetScope<WrittenAndAccruals>(Identity).Overdue.Filter((\"VariableType\", \"WO\"));",
                "\n    protected IDataCube<ReportVariable> EffectiveActuals => WrittenCashflow -1 * (AdvanceWriteOff + OverdueWriteOff);   ",
                "\n    ",
                "\n    private IDataCube<ReportVariable> ActualClaims => EffectiveActuals",
                "\n        .Where(x => GetStorage().GetHierarchy<AmountType>().Ancestors(x.AmountType, includeSelf: true).Any(x => x.SystemName == AmountTypes.CL))",
                "\n        .SelectToDataCube(v => v with { VariableType = \"ISE2\" });",
                "\n    private IDataCube<ReportVariable> ActualClaimsInvestmentComponent => -1 * EffectiveActuals",
                "\n        .Where(x => GetStorage().GetHierarchy<AmountType>().Ancestors(x.AmountType, includeSelf: true).Any(x => x.SystemName == AmountTypes.ICO))",
                "\n        .SelectToDataCube(v => v with { VariableType = \"ISE5\" });",
                "\n",
                "\n    private IDataCube<ReportVariable> ActualExpenses => EffectiveActuals",
                "\n        .Where(x => GetStorage().GetHierarchy<AmountType>().Ancestors(x.AmountType, includeSelf: true).Any(x => x.SystemName == AmountTypes.AE))",
                "\n        .SelectToDataCube(v => v with { VariableType = \"ISE3\" });",
                "\n",
                "\n    private IDataCube<ReportVariable> ActualCommissions => EffectiveActuals",
                "\n        .Where(x => GetStorage().GetHierarchy<AmountType>().Ancestors(x.AmountType, includeSelf: true).Any(x => x.SystemName == AmountTypes.AC))",
                "\n        .SelectToDataCube(v => v with { VariableType = \"ISE4\" });",
                "\n",
                "\n    // Acquistion Expenses Release (Amortization)",
                "\n    private IDataCube<ReportVariable> AcquistionExpensesAmortization => -1 * GetScope<Deferrals>(Identity)",
                "\n        .Filter((\"VariableType\", AocTypes.AM))",
                "\n        .SelectToDataCube(v => v with { VariableType = \"ISE6\" });",
                "\n",
                "\n    // Loss Component",
                "\n    private IDataCube<ReportVariable> Lc => GetScope<Lc>(Identity).Lc.Filter((\"VariableType\", \"!BOP\"),(\"VariableType\", \"!EOP\")) +",
                "\n                                            GetScope<Lc>(Identity).Lc.Filter((\"VariableType\", AocTypes.BOP),(\"Novelty\", Novelties.N));",
                "\n    ",
                "\n    private IDataCube<ReportVariable> LcAmortization => -1 * Lc.Filter((\"VariableType\", AocTypes.AM)).SelectToDataCube(v => v with { VariableType = \"ISE9\" });",
                "\n    ",
                "\n    private IDataCube<ReportVariable> LcNonFinancialChanges => -1 * Lc",
                "\n        .Filter((\"VariableType\", \"!AM\"), (\"VariableType\", \"!IA\"), (\"VariableType\", \"!YCU\"), (\"VariableType\", \"!CRU\"), (\"VariableType\", \"!FX\"))",
                "\n        .AggregateOver(nameof(Novelty), nameof(VariableType))",
                "\n        .SelectToDataCube(v => v with { Novelty = Novelties.C, VariableType = \"ISE11\" });",
                "\n    ",
                "\n    // private IDataCube<ReportVariable> Fx => -1 * Lc.Filter((\"VariableType\", AocTypes.FX))",
                "\n    //     .AggregateOver(nameof(Novelty))",
                "\n    //     .SelectToDataCube(v => v with { VariableType = \"IFIE3\" });",
                "\n",
                "\n    // private IDataCube<ReportVariable> FinancialChanges => -1 * (Lc.Filter((\"VariableType\", AocTypes.IA)) + Lc.Filter((\"VariableType\", AocTypes.YCU)) + Lc.Filter((\"VariableType\", AocTypes.CRU)) )",
                "\n    //     .AggregateOver(nameof(Novelty), nameof(VariableType))",
                "\n    //     .SelectToDataCube(v => v with { Novelty = Novelties.C, VariableType = \"IFIE1\" });",
                "\n",
                "\n    // Change in LIC",
                "\n    private IDataCube<ReportVariable> FcfDeltas => (GetScope<Fcf>(Identity).Fcf.Filter((\"VariableType\", \"!BOP\"),(\"VariableType\", \"!EOP\")) +",
                "\n                                                   GetScope<Fcf>(Identity).Fcf.Filter((\"VariableType\", AocTypes.BOP),(\"Novelty\", Novelties.N)))",
                "\n                                                   .Filter((\"LiabilityType\", \"LIC\"));  // TODO, extract the LIC to a dedicated scope (whole thing, actually)",
                "\n    ",
                "\n    private IDataCube<ReportVariable> NonFinancialFcfDeltas => FcfDeltas",
                "\n        .Filter((\"VariableType\", \"!IA\"), (\"VariableType\", \"!YCU\"), (\"VariableType\", \"!CRU\"), (\"VariableType\", \"!FX\"));",
                "\n",
                "\n    private IDataCube<ReportVariable> FpNonFinancialLic => -1 * NonFinancialFcfDeltas",
                "\n        .AggregateOver(nameof(Novelty), nameof(VariableType))",
                "\n        .SelectToDataCube(rv => rv with { Novelty = Novelties.C, VariableType = \"ISE12\" });",
                "\n",
                "\n    // Reinsurance",
                "\n    IDataCube<ReportVariable> Reinsurance => Enumerable.Empty<ReportVariable>().ToArray().ToDataCube(); ",
                "\n",
                "\n    // Insurance Service Expense   ",
                "\n    IDataCube<ReportVariable> InsuranceServiceExpense => ActualClaims + ActualClaimsInvestmentComponent + ActualExpenses + ActualCommissions + AcquistionExpensesAmortization + LcAmortization + LcNonFinancialChanges + FpNonFinancialLic + Reinsurance;",
                "\n}",
                "\n",
                "\npublic interface InsuranceServiceExpenseReinsurance : InsuranceServiceExpense {",
                "\n    // Expected Best Estimate cash flow out Release",
                "\n    private IDataCube<ReportVariable> CfOut => -1 * GetScope<BestEstimate>(Identity).BestEstimate",
                "\n        .Filter((\"VariableType\", \"CF\"), (\"LiabilityType\", \"LRC\"))",
                "\n        .AggregateOver(nameof(Novelty))",
                "\n        .SelectToDataCube(rv => rv with { Novelty = Novelties.C });",
                "\n        ",
                "\n    private IDataCube<ReportVariable> ExpectedClaims => CfOut // --> Exclude NA Expenses",
                "\n        .Where(x => GetStorage().GetHierarchy<AmountType>().Ancestors(x.AmountType, includeSelf: true).Any(x => x.SystemName == AmountTypes.CL))",
                "\n        .SelectToDataCube(v => v with { VariableType = \"ISE22\" });",
                "\n    private IDataCube<ReportVariable> ExpectedClaimsInvestmentComponent => -1 * CfOut",
                "\n        .Where(x => GetStorage().GetHierarchy<AmountType>().Ancestors(x.AmountType, includeSelf: true).Any(x => x.SystemName == AmountTypes.ICO))",
                "\n        .SelectToDataCube(v => v with { VariableType = \"ISE23\" });",
                "\n    //private IDataCube<ReportVariable> ExpectedClaimsInvestmentComponentIse => -1 * ExpectedClaimsInvestmentComponentToIr;",
                "\n",
                "\n    private IDataCube<ReportVariable> ExpectedExpenses => CfOut",
                "\n        .Where(x => GetStorage().GetHierarchy<AmountType>().Ancestors(x.AmountType, includeSelf: true).Any(x => x.SystemName == AmountTypes.AE))",
                "\n        .SelectToDataCube(v => v with { VariableType = \"ISE22\" });",
                "\n",
                "\n    private IDataCube<ReportVariable> ExpectedCommissions => CfOut",
                "\n        .Where(x => GetStorage().GetHierarchy<AmountType>().Ancestors(x.AmountType, includeSelf: true).Any(x => x.SystemName == AmountTypes.AC))",
                "\n        .SelectToDataCube(v => v with { VariableType = \"ISE22\" });",
                "\n",
                "\n    // RA Release",
                "\n    private IDataCube<ReportVariable> RaRelease => -1 * GetScope<RiskAdjustment>(Identity).RiskAdjustment",
                "\n        .Filter((\"VariableType\", \"CF\"), (\"LiabilityType\", \"LRC\"))",
                "\n        .AggregateOver(nameof(Novelty))",
                "\n        .SelectToDataCube(rv => rv with { Novelty = Novelties.C, VariableType = \"ISE22\" });",
                "\n",
                "\n    // CSM Release (Amortization)",
                "\n    private IDataCube<ReportVariable> CsmAmortization => -1 * GetScope<Csm>(Identity).Csm",
                "\n        .Filter((\"VariableType\", AocTypes.AM))",
                "\n        .SelectToDataCube(v => v with { VariableType = \"ISE22\" });",
                "\n   ",
                "\n    // Loss Recovery Component (Amortization)",
                "\n    private IDataCube<ReportVariable> LoReCoAmortization => GetScope<Loreco>(Identity).Loreco",
                "\n        .Filter((\"VariableType\", AocTypes.AM))",
                "\n        .SelectToDataCube(v => v with { VariableType = \"ISE22\" });",
                "\n",
                "\n    // Experience Adjustment On Premiums",
                "\n    private IDataCube<ReportVariable> ReinsuranceActualPremiums => Identity.Id switch {",
                "\n        { ValuationApproach: ValuationApproaches.PAA } => Enumerable.Empty<ReportVariable>().ToArray().ToDataCube(),",
                "\n        _ => EffectiveActuals",
                "\n            .Where(x => GetStorage().GetHierarchy<AmountType>().Ancestors(x.AmountType, includeSelf: true).Any(x => x.SystemName == AmountTypes.PR))",
                "\n            .SelectToDataCube(v => v with { Novelty = Novelties.C }) ",
                "\n    };",
                "\n",
                "\n    private IDataCube<ReportVariable> ReinsuranceBestEstimatePremiums => Identity.Id switch {",
                "\n        { ValuationApproach: ValuationApproaches.PAA } => Enumerable.Empty<ReportVariable>().ToArray().ToDataCube(),",
                "\n        _ => GetScope<BestEstimate>(Identity).BestEstimate",
                "\n            .Filter((\"VariableType\", \"CF\"), (\"LiabilityType\", \"LRC\"))",
                "\n            .Where(x => GetStorage().GetHierarchy<AmountType>().Ancestors(x.AmountType, includeSelf: true).Any(x => x.SystemName == AmountTypes.PR))",
                "\n            .AggregateOver(nameof(Novelty))",
                "\n            .SelectToDataCube(rv => rv with { Novelty = Novelties.C })",
                "\n    };",
                "\n",
                "\n    private IDataCube<ReportVariable> ExperienceAdjustmentOnPremiums => (",
                "\n            (ReinsuranceActualPremiums).AggregateOver(nameof(EstimateType)).SelectToDataCube(rv => rv with { EstimateType = EstimateTypes.A }) -",
                "\n            (ReinsuranceBestEstimatePremiums).AggregateOver(nameof(EstimateType)).SelectToDataCube(rv => rv with { EstimateType = EstimateTypes.BE })",
                "\n        )",
                "\n        .AggregateOver(nameof(Novelty), nameof(VariableType))",
                "\n        .SelectToDataCube(v => v with { Novelty = Novelties.C, VariableType = \"ISE21\" });",
                "\n",
                "\n    // Reinsurance",
                "\n    IDataCube<ReportVariable> InsuranceServiceExpense.Reinsurance => ExpectedClaims + ExpectedClaimsInvestmentComponent + ExpectedExpenses + ExpectedCommissions + RaRelease + CsmAmortization + LoReCoAmortization + ExperienceAdjustmentOnPremiums;",
                "\n}",
                "\n"
            ],
            "metadata": {},
            "execution_count": 0,
            "outputs": []
        },
        {
            "cell_type": "code",
            "source": [
                "var reportStorage = new ReportStorage(Workspace, Report, Export);",
                "\nawait reportStorage.InitializeReportIndependentCacheAsync();",
                "\nvar mostRecentPartition = (await Workspace.Query<PartitionByReportingNodeAndPeriod>().Where(x => x.Scenario == null).OrderBy(x => x.Year).ThenBy(x => x.Month).ToArrayAsync()).Last();",
                "\nvar reportingNodeRoot = (await Workspace.Query<ReportingNode>().Where(x => x.Parent == null).ToArrayAsync()).First().SystemName;",
                "\n",
                "\n((int Year, int Month) Period, string ReportingNode, string Scenario, CurrencyType CurrencyType) Args = ((2020,12), \"CH\", null,CurrencyType.Contractual);",
                "\n",
                "\nawait reportStorage.InitializeAsync(Args.Period, Args.ReportingNode, Args.Scenario, Args.CurrencyType);",
                "\nvar identities = reportStorage.GetIdentities(Args.Period, Args.ReportingNode, Args.Scenario, Args.CurrencyType);",
                "\n",
                "\nvar universe = Scopes.ForSingleton().WithStorage(reportStorage).ToScope<IUniverse>();",
                "\n",
                "\nvar ir = universe.GetScopes<InsuranceRevenue>(identities).Aggregate().InsuranceRevenue;",
                "\nvar ise = universe.GetScopes<InsuranceServiceExpense>(identities).Aggregate().InsuranceServiceExpense;"
            ],
            "metadata": {},
            "execution_count": 0,
            "outputs": []
        },
        {
            "cell_type": "code",
            "source": [
                ""
            ],
            "metadata": {},
            "execution_count": 0,
            "outputs": []
        },
        {
            "cell_type": "code",
            "source": [
                ""
            ],
            "metadata": {},
            "execution_count": 0,
            "outputs": []
        }
    ]
}