{
    "metadata": {
        "authors": [],
        "id": "HX-3ABD14UaeXjlLLekeNw",
        "kernelspec": {
            "display_name": "Formula Framework",
            "language": "C#",
            "name": "C#"
        },
        "language_info": {
            "file_extension": ".cs",
            "mimetype": "text/plain",
            "name": "C#"
        }
    },
    "nbformat": 4,
    "nbformat_minor": 5,
    "cells": [
        {
            "cell_type": "markdown",
            "source": [
                "# Set up and configurations "
            ],
            "metadata": {},
            "execution_count": 0,
            "outputs": []
        },
        {
            "cell_type": "markdown",
            "source": [
                "Choose to run the Report notebooks either with the set of Systemorph data in memory or with the data present in the Database:",
                "\n",
                "\n- #!eval-notebook \"../Database/Configure\" : connects to a physical Database",
                "\n- #!eval-notebook \"../Import/CloseImportTemplate\" : uses the in-memory set up",
                "\nWe use here the in-memory set up.",
                "\n",
                "\nNote that all these definitions are located in the PresentValue notebook, and the rest of the notebooks simply import this notebook. Change the definitions in that file.",
                "\n",
                "\nEach report is located in a different notebook in order to improve the performance. Location multiple interactive reports in a single notebook, though possible, might potentially decrease the performance. "
            ],
            "metadata": {},
            "execution_count": 0,
            "outputs": []
        },
        {
            "cell_type": "markdown",
            "source": [
                "# Best Estimate",
                "\n",
                "\nPresent values of the [best-estimate](https://portal.systemorph.cloud/project/ifrs17/env/v1.1.0/Report/ReportScopes#best-estimate) future cash flows are shown here in an Analysis of Change report.",
                "\n",
                "\nThe granularity of the reported figures can be modified by changing the Column Slices options.",
                "\nFor example one can add <code>\"GroupOfContract\"</code> to separate the contributions of the individual Group of Contracts.",
                "\n",
                "\nAggregated values are displayed when the data has a finer granularity than the one selected by the report slice options."
            ],
            "metadata": {},
            "execution_count": 0,
            "outputs": []
        },
        {
            "cell_type": "markdown",
            "source": [
                ""
            ],
            "metadata": {},
            "execution_count": 0,
            "outputs": []
        }
    ]
}