{
    "metadata": {
        "authors": [],
        "kernelspec": {
            "display_name": "Formula Framework",
            "language": "C#",
            "name": "C#"
        },
        "language_info": {
            "file_extension": ".cs",
            "mimetype": "text/plain",
            "name": "C#"
        }
    },
    "nbformat": 4,
    "nbformat_minor": 5,
    "cells": [
        {
            "cell_type": "markdown",
            "source": [
                "<a id='report-production'></a>",
                "\n<p style=\"font-weight:bold;\"> <span style=\"font-size: 36px\"> Report for EY Cases</span> </p>"
            ],
            "metadata": {},
            "execution_count": 0,
            "outputs": []
        },
        {
            "cell_type": "markdown",
            "source": [
                "The Reports shown in this notebook are based on the cases presented on the \"Applying IFRS 17: A closer look at the new Insurance Contracts Standard\" report by EY (June 2021)"
            ],
            "metadata": {},
            "execution_count": 0,
            "outputs": []
        },
        {
            "cell_type": "markdown",
            "source": [
                "# Set up data and configuration"
            ],
            "metadata": {},
            "execution_count": 0,
            "outputs": []
        },
        {
            "cell_type": "code",
            "source": [
                "#!import \"../Initialization/InitSystemorphToMemory\""
            ],
            "metadata": {},
            "execution_count": 0,
            "outputs": []
        },
        {
            "cell_type": "code",
            "source": [
                "Workspace.InitializeFrom(DataSource);",
                "\nifrs17.Reset(Workspace)"
            ],
            "metadata": {},
            "execution_count": 0,
            "outputs": []
        },
        {
            "cell_type": "markdown",
            "source": [
                "# Report configuration"
            ],
            "metadata": {},
            "execution_count": 0,
            "outputs": []
        },
        {
            "cell_type": "code",
            "source": [
                "var reportingNode = \"FR\";",
                "\nvar reportingPeriod = (2020, 12);"
            ],
            "metadata": {},
            "execution_count": 0,
            "outputs": []
        },
        {
            "cell_type": "code",
            "source": [
                "var pv = ifrs17.PresentValues;",
                "\npv.ReportingNode = reportingNode;",
                "\npv.ReportingPeriod = reportingPeriod;",
                "\npv.ColumnSlices = new string[]{\"GroupOfContract\", \"AmountType\"};"
            ],
            "metadata": {},
            "execution_count": 0,
            "outputs": []
        },
        {
            "cell_type": "code",
            "source": [
                "var ra = ifrs17.RiskAdjustments;",
                "\nra.ReportingNode = reportingNode;",
                "\nra.ReportingPeriod = reportingPeriod;",
                "\nra.ColumnSlices = new string[]{\"GroupOfContract\"};"
            ],
            "metadata": {},
            "execution_count": 0,
            "outputs": []
        },
        {
            "cell_type": "code",
            "source": [
                "var experienceAdjustments = ifrs17.ExperienceAdjustments;",
                "\nexperienceAdjustments.ReportingNode = reportingNode;",
                "\nexperienceAdjustments.ReportingPeriod = reportingPeriod;",
                "\nexperienceAdjustments.RowSlices = new string[]{\"AmountType\", \"EstimateType\"};",
                "\nexperienceAdjustments.ColumnSlices = new string[]{\"GroupOfContract\"};"
            ],
            "metadata": {},
            "execution_count": 0,
            "outputs": []
        },
        {
            "cell_type": "code",
            "source": [
                "var allocatedTechnicalMargins = ifrs17.AllocatedTechnicalMargins;",
                "\nallocatedTechnicalMargins.ReportingNode = reportingNode;",
                "\nallocatedTechnicalMargins.ReportingPeriod = reportingPeriod;",
                "\nallocatedTechnicalMargins.ColumnSlices = new string[]{\"GroupOfContract\", \"EstimateType\"};"
            ],
            "metadata": {},
            "execution_count": 0,
            "outputs": []
        },
        {
            "cell_type": "code",
            "source": [
                "var actuarialLrc = ifrs17.ActuarialLrc;",
                "\nactuarialLrc.ReportingNode = reportingNode;",
                "\nactuarialLrc.ReportingPeriod = reportingPeriod;",
                "\nactuarialLrc.ColumnSlices = new string[]{\"GroupOfContract\", \"EstimateType\"};"
            ],
            "metadata": {},
            "execution_count": 0,
            "outputs": []
        },
        {
            "cell_type": "code",
            "source": [
                "var actuarialLic = ifrs17.ActuarialLic;",
                "\nactuarialLic.ReportingNode = reportingNode;",
                "\nactuarialLic.ReportingPeriod = reportingPeriod;",
                "\nactuarialLic.ColumnSlices = new string[]{\"GroupOfContract\", \"EstimateType\"};"
            ],
            "metadata": {},
            "execution_count": 0,
            "outputs": []
        },
        {
            "cell_type": "code",
            "source": [
                "var financialPerformance = ifrs17.FinancialPerformance;",
                "\nfinancialPerformance.ReportingNode = reportingNode;",
                "\nfinancialPerformance.ReportingPeriod = reportingPeriod;",
                "\nfinancialPerformance.ColumnSlices = new string[]{\"GroupOfContract\"};"
            ],
            "metadata": {},
            "execution_count": 0,
            "outputs": []
        },
        {
            "cell_type": "markdown",
            "source": [
                "# Illustration 52",
                "\nComparison of the liability for remaining coverage under the general model and the premium allocation approach when there are changes in expected cash flows.",
                "\n",
                "\nConsider a group of contracts measured in accordance with the general model. A premium of CU2,000 is received at the beginning of a two-year coverage period. The entity estimates fulfilment cash flows in years 1 and 2 will be CU900 each year. The opening contractual service margin is CU200 [CU2,000 — CU900 — CU900 = CU200] (for illustration purposes, discount and risk adjustment are ignored).",
                "\n",
                "\nThe entity incurs claims in year one, as expected, of CU900. At the end of year one, the entity assumes that cash flows in the following year of coverage will increase from the previous estimate of CU900 to CU950. In terms of paragraph 44(c), this change in the fulfilment cash flows relates to future services and consequently reduces the contractual service margin from CU200 to CU150. The amount recognised as insurance revenue because of the transfer of services in the period, determined by the allocation of the contractual service margin remaining at the end of the reporting period (before any allocation) over the current and remaining coverage period applying paragraph B119 amounts to CU75 (CU150 ÷ 2).",
                "\n",
                "\nThe liability for remaining coverage at the end of year 1, in accordance with the general model, would be CU950 + CU75 = CU1,025. Revenue in year 1 would be CU975 [expected insurance service expense of CU900 + release of the contractual service margin of CU75]. Revenue in year 2 would be CU1,025 [expected insurance service expense of CU950 + release of the contractual",
                "\nservice margin of CU75]. ",
                "\n",
                "\nIf the entity had applied the premium allocation approach, it would have allocated CU1,000 to profit or loss in year 1 (assuming that the expected release of risk would still not be differing significantly from the release of risk at the end of year 1), as revenue and the liability for remaining coverage at the end of year 1 would be",
                "\nCU1,000, i.e., a different amount compared with the general model. ",
                "\n",
                "\nThe requirement in the general model to allocate an amount of the contractual service margin in profit or loss after making adjustments for changes in expected cash flows relating to future service can cause the liability for remaining coverage (in accordance with the general model) to differ from the liability for remaining coverage (in accordance with the premium allocation approach)."
            ],
            "metadata": {},
            "execution_count": 0,
            "outputs": []
        },
        {
            "cell_type": "markdown",
            "source": [
                "**TODO** Add PAA and check projection 1"
            ],
            "metadata": {},
            "execution_count": 0,
            "outputs": []
        },
        {
            "cell_type": "code",
            "source": [
                "var dataFilter = new [] {",
                "\n    (\"Portfolio\", \"!EY57G\"), (\"Portfolio\", \"!EY58G\"), (\"Portfolio\", \"!EY59G\"), (\"Portfolio\", \"!EY63G\"),",
                "\n    (\"Portfolio\", \"!EY57R\"), (\"Portfolio\", \"!EY58R\"), (\"Portfolio\", \"!EY59R\"), (\"Portfolio\", \"!EY63R\")};"
            ],
            "metadata": {},
            "execution_count": 0,
            "outputs": []
        },
        {
            "cell_type": "markdown",
            "source": [
                "## Best Estimate"
            ],
            "metadata": {},
            "execution_count": 0,
            "outputs": []
        },
        {
            "cell_type": "code",
            "source": [
                "pv.DataFilter = dataFilter; (await pv.ToReportAsync)"
            ],
            "metadata": {},
            "execution_count": 0,
            "outputs": []
        },
        {
            "cell_type": "markdown",
            "source": [
                "## Actuarial Experience Adjustment"
            ],
            "metadata": {},
            "execution_count": 0,
            "outputs": []
        },
        {
            "cell_type": "code",
            "source": [
                "experienceAdjustments.DataFilter = dataFilter; (await experienceAdjustments.ToReportAsync)"
            ],
            "metadata": {},
            "execution_count": 0,
            "outputs": []
        },
        {
            "cell_type": "markdown",
            "source": [
                "## Contractual Service Margin / Loss Component / Loss Recovery Component"
            ],
            "metadata": {},
            "execution_count": 0,
            "outputs": []
        },
        {
            "cell_type": "code",
            "source": [
                "allocatedTechnicalMargins.DataFilter = dataFilter; (await allocatedTechnicalMargins.ToReportAsync)"
            ],
            "metadata": {},
            "execution_count": 0,
            "outputs": []
        },
        {
            "cell_type": "markdown",
            "source": [
                "## LRC Actuarial"
            ],
            "metadata": {},
            "execution_count": 0,
            "outputs": []
        },
        {
            "cell_type": "code",
            "source": [
                "actuarialLrc.DataFilter = dataFilter; (await actuarialLrc.ToReportAsync)"
            ],
            "metadata": {},
            "execution_count": 0,
            "outputs": []
        },
        {
            "cell_type": "markdown",
            "source": [
                "## Financial Performance"
            ],
            "metadata": {},
            "execution_count": 0,
            "outputs": []
        },
        {
            "cell_type": "code",
            "source": [
                "financialPerformance.DataFilter = dataFilter; (await financialPerformance.ToReportAsync) with {GroupDefaultExpanded = 3}"
            ],
            "metadata": {},
            "execution_count": 0,
            "outputs": []
        },
        {
            "cell_type": "markdown",
            "source": [
                "# Illustration 57",
                "\nMeasurement on initial recognition of groups of reinsurance contracts held [Example 11 in the Illustrative Examples to IFRS 17, IE124-129].",
                "\n",
                "\nAn entity enters into a reinsurance contract that, in return for a premium of CU300 m, covers 30% of each claim from the underlying insurance contracts. Applying the relevant criteria, the entity considers that the group comprises a single contract held. For simplicity, this example disregards the risk of non-performance of the reinsurer and all other amounts. The entity measures the estimates of the present value of future cash flows for the group of reinsurance contracts held using assumptions consistent with those used to measure the estimates of the present value of the future cash flows for the group of the underlying insurance contracts, as shown in the table below:"
            ],
            "metadata": {},
            "execution_count": 0,
            "outputs": []
        },
        {
            "cell_type": "code",
            "source": [
                "dataFilter = new [] {",
                "\n    (\"Portfolio\", \"!EY52BBA\"), (\"Portfolio\", \"!EY52BBA\"), (\"Portfolio\", \"!EY58G\"), (\"Portfolio\", \"!EY59G\"), (\"Portfolio\", \"!EY63G\"),",
                "\n    (\"Portfolio\", \"!EY58R\"), (\"Portfolio\", \"!EY59R\"), (\"Portfolio\", \"!EY63R\")};"
            ],
            "metadata": {},
            "execution_count": 0,
            "outputs": []
        },
        {
            "cell_type": "markdown",
            "source": [
                "## Best Estimate"
            ],
            "metadata": {},
            "execution_count": 0,
            "outputs": []
        },
        {
            "cell_type": "markdown",
            "source": [
                "The entity measures the present value of the future cash inflows consistent with the assumptions of the cash outflows of the underlying insurance contracts. Consequently, the estimate of cash inflows is CU270 m (i.e., 30% of CU900 m)."
            ],
            "metadata": {},
            "execution_count": 0,
            "outputs": []
        },
        {
            "cell_type": "code",
            "source": [
                "pv.DataFilter = dataFilter.Concat(new [] {(\"EconomicBasis\", \"L\")}); (await pv.ToReportAsync)"
            ],
            "metadata": {},
            "execution_count": 0,
            "outputs": []
        },
        {
            "cell_type": "markdown",
            "source": [
                "## Risk Adjustment"
            ],
            "metadata": {},
            "execution_count": 0,
            "outputs": []
        },
        {
            "cell_type": "markdown",
            "source": [
                "The risk adjustment is determined to represent the amount of risk being transferred by the holder of the reinsurance contract to the issuer of the contract. Consequently, the risk adjustment, which is treated as an inflow rather than an outflow, is CU18 m (i.e., estimated to be 30% of 60)."
            ],
            "metadata": {},
            "execution_count": 0,
            "outputs": []
        },
        {
            "cell_type": "code",
            "source": [
                "ra.DataFilter = dataFilter.Concat(new [] {(\"EconomicBasis\", \"L\")}); (await ra.ToReportAsync)"
            ],
            "metadata": {},
            "execution_count": 0,
            "outputs": []
        },
        {
            "cell_type": "markdown",
            "source": [
                "## Actuarial Experience Adjustment"
            ],
            "metadata": {},
            "execution_count": 0,
            "outputs": []
        },
        {
            "cell_type": "code",
            "source": [
                "experienceAdjustments.DataFilter = dataFilter; (await experienceAdjustments.ToReportAsync)"
            ],
            "metadata": {},
            "execution_count": 0,
            "outputs": []
        },
        {
            "cell_type": "markdown",
            "source": [
                "## Contractual Service Margin / Loss Component / Loss Recovery Component"
            ],
            "metadata": {},
            "execution_count": 0,
            "outputs": []
        },
        {
            "cell_type": "markdown",
            "source": [
                "The contractual service margin is an amount equal to the sum of the fulfilment cash flows and any cash flows arising at that date. In this example, there is a net loss on purchasing the reinsurance and the contractual service margin is an asset.",
                "\n",
                "\nIf the premium was only CU260 m, there would be a net gain of CU28 m on purchasing the reinsurance (i.e., inflows of CU270 m, plus the risk adjustment of CU18 m less outflows of CU260 m) and the contractual service margin would represent a liability of CU28 m to eliminate the net gain on inception."
            ],
            "metadata": {},
            "execution_count": 0,
            "outputs": []
        },
        {
            "cell_type": "code",
            "source": [
                "allocatedTechnicalMargins.DataFilter = dataFilter; (await allocatedTechnicalMargins.ToReportAsync)"
            ],
            "metadata": {},
            "execution_count": 0,
            "outputs": []
        },
        {
            "cell_type": "markdown",
            "source": [
                "## LRC Actuarial"
            ],
            "metadata": {},
            "execution_count": 0,
            "outputs": []
        },
        {
            "cell_type": "code",
            "source": [
                "actuarialLrc.DataFilter = dataFilter; (await actuarialLrc.ToReportAsync)"
            ],
            "metadata": {},
            "execution_count": 0,
            "outputs": []
        },
        {
            "cell_type": "markdown",
            "source": [
                "## Financial Performance"
            ],
            "metadata": {},
            "execution_count": 0,
            "outputs": []
        },
        {
            "cell_type": "code",
            "source": [
                "financialPerformance.DataFilter = dataFilter; (await financialPerformance.ToReportAsync) with {GroupDefaultExpanded = 3}"
            ],
            "metadata": {},
            "execution_count": 0,
            "outputs": []
        },
        {
            "cell_type": "markdown",
            "source": [
                "# Illustration 58",
                "\nInitial measurement of a group of reinsurance contracts held that provides coverage for groups of underlying insurance contracts, including an onerous group [Example 12 in the Illustrative Examples to IFRS 17, IE138A-138K].",
                "\n",
                "\nAt the beginning of Year 1, an entity enters into a reinsurance contract that in return for a fixed premium covers 30 per cent of each claim from the groups of underlying insurance contracts. The reinsurance held is the only contract in the group. The underlying insurance contracts are issued at the same time as the entity enters into the reinsurance contract held. For simplicity it is assumed that no contracts will lapse before the end of the coverage period, there are no changes in estimates and all other amounts, including the effect of discounting, the risk adjustment for non-performance risk and the risk of non-performance of the reinsurer are ignored.",
                "\n",
                "\nSome of the underlying insurance contracts are onerous at initial recognition. Thus, the entity establishes a group comprising the onerous contracts. The remainder of the underlying insurance contracts are expected to be profitable and, in this example, the entity establishes a single group comprising the profitable contracts. The coverage period of the underlying insurance contracts and the reinsurance contract held is three years from the beginning of Year one. Services is provided evenly over the coverage periods."
            ],
            "metadata": {},
            "execution_count": 0,
            "outputs": []
        },
        {
            "cell_type": "code",
            "source": [
                "dataFilter = new [] {",
                "\n    (\"Portfolio\", \"!EY52BBA\"), (\"Portfolio\", \"!EY52BBA\"), (\"Portfolio\", \"!EY57G\"), (\"Portfolio\", \"!EY59G\"), (\"Portfolio\", \"!EY63G\"),",
                "\n    (\"Portfolio\", \"!EY57R\"), (\"Portfolio\", \"!EY59R\"), (\"Portfolio\", \"!EY63R\")};"
            ],
            "metadata": {},
            "execution_count": 0,
            "outputs": []
        },
        {
            "cell_type": "markdown",
            "source": [
                "## Best Estimate"
            ],
            "metadata": {},
            "execution_count": 0,
            "outputs": []
        },
        {
            "cell_type": "markdown",
            "source": [
                "The entity expects to receive CU1,110 on the underlying insurance contracts immediately after initial recognition. Claims on the underlying insurance contracts are expected to be incurred evenly across the coverage period and are paid immediately after claims are incurred.",
                "\n",
                "\nThe entity establishes a group comprising a single reinsurance contract held that provides proportionate coverage. The entity pays a premium of CU315 to the reinsurer immediately after initial recognition. The entity expects to receive recoveries of claims from the reinsurer on the same day that the entity pays claims on the underlying insurance contracts.",
                "\n",
                "\nApplying IFRS 17, the entity measures the estimates of the present value of the future cash flows for the group of reinsurance contracts held using assumptions consistent with those used to measure the estimates of the present value of the future cash flows for the groups of underlying insurance contracts. Consequently, the estimate of the present value of the future cash inflows is CU270 (recovery of 30 per cent of the estimates of the present value of the future cash outflows for the groups of underlying insurance contracts of CU900).",
                "\n",
                "\nThe entity measures the group of underlying insurance contracts on initial recognition and the group of reinsurance contracts held on initial recognition, as follows:",
                "\n"
            ],
            "metadata": {},
            "execution_count": 0,
            "outputs": []
        },
        {
            "cell_type": "code",
            "source": [
                "pv.DataFilter = dataFilter.Concat(new [] {(\"EconomicBasis\", \"L\")}); (await pv.ToReportAsync)"
            ],
            "metadata": {},
            "execution_count": 0,
            "outputs": []
        },
        {
            "cell_type": "markdown",
            "source": [
                "## Actuarial Experience Adjustment"
            ],
            "metadata": {},
            "execution_count": 0,
            "outputs": []
        },
        {
            "cell_type": "code",
            "source": [
                "experienceAdjustments.DataFilter = dataFilter; (await experienceAdjustments.ToReportAsync)"
            ],
            "metadata": {},
            "execution_count": 0,
            "outputs": []
        },
        {
            "cell_type": "markdown",
            "source": [
                "## Contractual Service Margin / Loss Component / Loss Recovery Component"
            ],
            "metadata": {},
            "execution_count": 0,
            "outputs": []
        },
        {
            "cell_type": "markdown",
            "source": [
                "Applying IFRS 17, the entity adjusts the contractual service margin of the reinsurance contract held and recognises income to reflect the loss recovery. The entity determines the adjustment to the contractual service margin and the income recognised as CU27 (the loss of CU90 recognised for the onerous group of underlying insurance contracts multiplied by 30 per cent, the fixed percentage of claims the entity expects has the right to recover). ",
                "\n",
                "\nThe contractual service margin of CU45 is adjusted by CU27, resulting in a contractual service margin of CU72, reflecting a net cost on the reinsurance contract held. The reinsurance contract asset of CU27 comprises the fulfilment cash flows of CU45 (net outflows) and a contractual service margin reflecting a net cost of CU72. The entity establishes a loss-recovery component of the asset for remaining coverage of CU27 depicting the recovery of losses recognised."
            ],
            "metadata": {},
            "execution_count": 0,
            "outputs": []
        },
        {
            "cell_type": "markdown",
            "source": [
                "**TODO** Fix Loreco"
            ],
            "metadata": {},
            "execution_count": 0,
            "outputs": []
        },
        {
            "cell_type": "code",
            "source": [
                "allocatedTechnicalMargins.DataFilter = dataFilter; (await allocatedTechnicalMargins.ToReportAsync)"
            ],
            "metadata": {},
            "execution_count": 0,
            "outputs": []
        },
        {
            "cell_type": "markdown",
            "source": [
                "## LRC Actuarial"
            ],
            "metadata": {},
            "execution_count": 0,
            "outputs": []
        },
        {
            "cell_type": "code",
            "source": [
                "actuarialLrc.DataFilter = dataFilter; (await actuarialLrc.ToReportAsync)"
            ],
            "metadata": {},
            "execution_count": 0,
            "outputs": []
        },
        {
            "cell_type": "markdown",
            "source": [
                "## Financial Performance"
            ],
            "metadata": {},
            "execution_count": 0,
            "outputs": []
        },
        {
            "cell_type": "code",
            "source": [
                "financialPerformance.DataFilter = dataFilter; (await financialPerformance.ToReportAsync) with {GroupDefaultExpanded = 3}"
            ],
            "metadata": {},
            "execution_count": 0,
            "outputs": []
        },
        {
            "cell_type": "markdown",
            "source": [
                "# Illustration 59",
                "\nMeasurement subsequent to initial recognition of groups of reinsurance contracts held [Example 12A and 12B in the Illustrative Examples to IFRS 17, IE130-138].",
                "\n",
                "\nAn entity enters into a reinsurance contract that, in return for a fixed premium, covers 30% of each claim from the underlying insurance contracts (the entity assumes that it could transfer 30% of non-financial risk from the underlying contracts to the reinsurer). In this example, the effect of discounting, the risk of the reinsurer’s non-performance, and other amounts are disregarded for simplicity. Applying the relevant criteria, the entity considers that the group comprises a single contract held.",
                "\n",
                "\nImmediately before the end of year one, the entity measures the group of underlying insurance contracts and the reinsurance contract held, as shown below.",
                "\n",
                "\nIn this example, the difference between the contractual service margin for the reinsurance contract held of CU25m and 30% of the underlying group of insurance contracts of CU30m (30% X CU100) arises because of a different pricing policy between the underlying group of insurance contracts and the reinsurance contract held.",
                "\n",
                "\n*Example A*",
                "\n",
                "\nAt the end of year one, the entity revises its estimates of the fulfilment cash flows of the underlying group of contracts. The entity estimates there is an increase in the fulfilment cash flows of the underlying contracts of CU50m and a decrease in the contractual service margin by the same amount (the group of underlying insurance contracts is not onerous). The entity increases the fulfilment cash flows of the reinsurance contract held by 30 per cent of the change in fulfilment cash flows of the underlying group of insurance contracts ($15m = 30% of $50m). Applying paragraph 66, the entity adjusts the contractual service margin of the reinsurance contract held by the whole amount of the change in the fulfilment cash flows of this reinsurance contract held of CU15 m from CU(25) m to CU(10) m. This is because the whole change in the fulfilment cash flows allocated to the group of underlying insurance contracts adjusts the contractual service margin of those underlying insurance contracts. Therefore, at the end of year 1, the entity measures the insurance contracts liability and the reinsurance contract asset, as shown below. These changes do not affect estimates of profit and loss as all changes in the fulfilment cash flows go to the contractual service margin.",
                "\n",
                "\n*Example B*",
                "\n",
                "\nAt the end of year one, the entity revises its estimates of the fulfilment cash flows of the underlying group of contracts. The entity estimates that there is an increase in the fulfilment cash flows of the underlying group of insurance contracts of CU160 m. This change makes the underlying group of insurance contracts onerous and the entity decreases the contractual service margin by CU100 m to zero and recognises the remaining CU60 m as a loss in profit or loss. The entity increases the fulfilment cash flows of the reinsurance contract held by CU48 m which equals 30 per cent of the fulfilment cash flows of the underlying group of insurance contracts (CU48 m=30% of CU160 m). Applying paragraph 66, the entity adjusts the contractual service margin of the reinsurance contract held for the change in fulfilment cash flows that relate to future services to the extent this change results from a change in the fulfilment cash flows of the group of underlying insurance contracts that adjusts the contractual service margin for that group. Consequently, the change in the fulfilment cash flows of the reinsurance contract held of CU48 m are recognised as shown below.",
                "\n - Adjusting the contractual service margin of the reinsurance contract held for CU30 m of the change in the fulfilment cash flows. The CU30 m is equivalent to the change in the fulfilment cash flows that adjusts the contractual service margin of the underlying contracts of CU100 m (CU30 m = 30% x CU100 m). Consequently, the contractual service margin of the reinsurance contract held of CU5 m equals the contractual service margin on initial recognition of CU25 m adjusted for the part of the change in the fulfilment cash flows of CU30 m (CU5 m = CU(25) m + CU30 m). This represents a contractual service margin \"asset\".",
                "\n - Recognising the remaining change in the fulfilment cash flows of the reinsurance contract held, CU18 m (i.e. CU48 m - CU30 m) immediately in profit or loss.",
                "\n",
                "\nTherefore, at the end of year one, using these alternative estimates, the entity measures the insurance contract liability and the reinsurance contract asset, as shown below."
            ],
            "metadata": {},
            "execution_count": 0,
            "outputs": []
        },
        {
            "cell_type": "markdown",
            "source": [
                "**TODO** Check this example"
            ],
            "metadata": {},
            "execution_count": 0,
            "outputs": []
        },
        {
            "cell_type": "code",
            "source": [
                "dataFilter = new [] {",
                "\n    (\"Portfolio\", \"!EY52BBA\"), (\"Portfolio\", \"!EY52BBA\"), (\"Portfolio\", \"!EY57G\"), (\"Portfolio\", \"!EY58G\"), (\"Portfolio\", \"!EY63G\"),",
                "\n    (\"Portfolio\", \"!EY57R\"), (\"Portfolio\", \"!EY58R\"), (\"Portfolio\", \"!EY63R\")};"
            ],
            "metadata": {},
            "execution_count": 0,
            "outputs": []
        },
        {
            "cell_type": "markdown",
            "source": [
                "## Best Estimate"
            ],
            "metadata": {},
            "execution_count": 0,
            "outputs": []
        },
        {
            "cell_type": "code",
            "source": [
                "pv.DataFilter = dataFilter.Concat(new [] {(\"EconomicBasis\", \"L\")}); (await pv.ToReportAsync)"
            ],
            "metadata": {},
            "execution_count": 0,
            "outputs": []
        },
        {
            "cell_type": "markdown",
            "source": [
                "## Contractual Service Margin / Loss Component / Loss Recovery Component"
            ],
            "metadata": {},
            "execution_count": 0,
            "outputs": []
        },
        {
            "cell_type": "code",
            "source": [
                "allocatedTechnicalMargins.DataFilter = dataFilter; (await allocatedTechnicalMargins.ToReportAsync)"
            ],
            "metadata": {},
            "execution_count": 0,
            "outputs": []
        },
        {
            "cell_type": "markdown",
            "source": [
                "## LRC Actuarial"
            ],
            "metadata": {},
            "execution_count": 0,
            "outputs": []
        },
        {
            "cell_type": "code",
            "source": [
                "actuarialLrc.DataFilter = dataFilter; (await actuarialLrc.ToReportAsync)"
            ],
            "metadata": {},
            "execution_count": 0,
            "outputs": []
        },
        {
            "cell_type": "markdown",
            "source": [
                "## Financial Performance"
            ],
            "metadata": {},
            "execution_count": 0,
            "outputs": []
        },
        {
            "cell_type": "code",
            "source": [
                "financialPerformance.DataFilter = dataFilter; (await financialPerformance.ToReportAsync) with {GroupDefaultExpanded = 3}"
            ],
            "metadata": {},
            "execution_count": 0,
            "outputs": []
        },
        {
            "cell_type": "markdown",
            "source": [
                "# Illustration 63",
                "\nTreatment of changes in reinsurance recoveries arising from past events.",
                "\n",
                "\nCompany A (the cedant) has a liability for incurred claims of CU100. It decides to enter into a reinsurance contract under which it cedes 50% of the liability for incurred claims. The cedant pays a reinsurance premium of CU55 to the reinsurer at inception and cedes an amount of CU50 (i.e., 50%) of its liability for incurred claims. This results in a net cost of reinsurance of CU5 at initial recognition. The net cost of CU5 goes immediately through profit and loss following paragraph 65A of IFRS 17 (net cost of purchasing reinsurance coverage recognised as an expense).",
                "\n",
                "\nIn Year one, the liability for incurred claims of the underlying direct contracts increases from CU100 to CU115. As a consequence, the share of liability for incurred claims ceded to the reinsurer increases by CU7.5 (50% of CU15) and implies a favourable change (increase) in the asset for remaining coverage of the reinsurance contract held of $7.5.",
                "\n",
                "\nThe favourable change in the asset for remaining coverage of $7.5 should be credited direct to profit or loss to match the treatment for the change of the underlying liability for incurred claims and not to the contractual service margin. This accounting (i.e., direct to profit or loss) should be the same if the deviation was unfavourable."
            ],
            "metadata": {},
            "execution_count": 0,
            "outputs": []
        },
        {
            "cell_type": "code",
            "source": [
                "dataFilter = new [] {",
                "\n    (\"Portfolio\", \"!EY52BBA\"), (\"Portfolio\", \"!EY52BBA\"), (\"Portfolio\", \"!EY57G\"), (\"Portfolio\", \"!EY58G\"), (\"Portfolio\", \"!EY59G\"),",
                "\n    (\"Portfolio\", \"!EY57R\"), (\"Portfolio\", \"!EY58R\"), (\"Portfolio\", \"!EY59R\")};"
            ],
            "metadata": {},
            "execution_count": 0,
            "outputs": []
        },
        {
            "cell_type": "markdown",
            "source": [
                "## Best Estimate"
            ],
            "metadata": {},
            "execution_count": 0,
            "outputs": []
        },
        {
            "cell_type": "code",
            "source": [
                "pv.DataFilter = dataFilter; (await pv.ToReportAsync)"
            ],
            "metadata": {},
            "execution_count": 0,
            "outputs": []
        },
        {
            "cell_type": "markdown",
            "source": [
                "## Contractual Service Margin / Loss Component / Loss Recovery Component"
            ],
            "metadata": {},
            "execution_count": 0,
            "outputs": []
        },
        {
            "cell_type": "code",
            "source": [
                "allocatedTechnicalMargins.DataFilter = dataFilter; (await allocatedTechnicalMargins.ToReportAsync)"
            ],
            "metadata": {},
            "execution_count": 0,
            "outputs": []
        },
        {
            "cell_type": "markdown",
            "source": [
                "## LRC Actuarial"
            ],
            "metadata": {},
            "execution_count": 0,
            "outputs": []
        },
        {
            "cell_type": "code",
            "source": [
                "actuarialLrc.DataFilter = dataFilter; (await actuarialLrc.ToReportAsync)"
            ],
            "metadata": {},
            "execution_count": 0,
            "outputs": []
        },
        {
            "cell_type": "markdown",
            "source": [
                "## LIC Actuarial"
            ],
            "metadata": {},
            "execution_count": 0,
            "outputs": []
        },
        {
            "cell_type": "code",
            "source": [
                "actuarialLic.DataFilter = dataFilter; (await actuarialLic.ToReportAsync)"
            ],
            "metadata": {},
            "execution_count": 0,
            "outputs": []
        },
        {
            "cell_type": "markdown",
            "source": [
                "## Financial Performance"
            ],
            "metadata": {},
            "execution_count": 0,
            "outputs": []
        },
        {
            "cell_type": "code",
            "source": [
                "financialPerformance.DataFilter = dataFilter; (await financialPerformance.ToReportAsync) with {GroupDefaultExpanded = 3}"
            ],
            "metadata": {},
            "execution_count": 0,
            "outputs": []
        }
    ]
}