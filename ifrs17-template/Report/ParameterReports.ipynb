{
    "metadata": {
        "authors": [],
        "id": "owrOOpusB0qEDMpG2Uj9hg",
        "kernelspec": {
            "display_name": "Formula Framework",
            "language": "C#",
            "name": "C#"
        },
        "language_info": {
            "file_extension": ".cs",
            "mimetype": "text/plain",
            "name": "C#"
        }
    },
    "nbformat": 4,
    "nbformat_minor": 5,
    "cells": [
        {
            "cell_type": "markdown",
            "source": [
                "<a id='report-production'></a>",
                "\n<p style=\"font-weight:bold;\"> <span style=\"font-size: 36px\"> Parameter Reports</span> </p>"
            ],
            "metadata": {},
            "execution_count": 0,
            "outputs": []
        },
        {
            "cell_type": "markdown",
            "source": [
                "For demonstration purposes we import here data for some *Group of Insurance Contract* (GIC) and *Group of Reinsurance Contract* (GRIC) - the import is triggered in the [Set up data and configuration](#set-up-data-and-configuration) section.",
                "\n<br> The imported data set consists of cash flows, actuals, and parameters.",
                "\n<br> Input files can be found in the **File** directory. You are invited to change them or upload your own or add new data in the [CloseImportTemplate](../Import/CloseImportTemplate) notebook. ",
                "\n",
                "\nIn this notebook we show the parameters (provided to the calculation engine as inputs) used to performe the calculation of the reports shown in [Reports](Reports) notebook."
            ],
            "metadata": {},
            "execution_count": 0,
            "outputs": []
        },
        {
            "cell_type": "markdown",
            "source": [
                "# Set up data and configuration",
                "\n",
                "\nChoose to run the Reports notebook either with the set of Systemorph data in memory or with the data present in the Database: ",
                "\n- #!eval-notebook \"../Database/Configure\" : connects to a physical Database",
                "\n- #!eval-notebook \"../Import/CloseImportTemplate\" : uses the in-memory set up",
                "\n",
                "\nWe use here the in-memory set up."
            ],
            "metadata": {},
            "execution_count": 0,
            "outputs": []
        },
        {
            "cell_type": "code",
            "source": [
                "#!eval-notebook \"../Import/CloseImportTemplate\""
            ],
            "metadata": {},
            "execution_count": 0,
            "outputs": []
        },
        {
            "cell_type": "code",
            "source": [
                "Workspace.InitializeFrom(DataSource);"
            ],
            "metadata": {},
            "execution_count": 0,
            "outputs": []
        },
        {
            "cell_type": "markdown",
            "source": [
                "# Args",
                "\n",
                "\nDefine the reporting node, year, month, and scenario for which the parameter reports should be loaded. "
            ],
            "metadata": {},
            "execution_count": 0,
            "outputs": []
        },
        {
            "cell_type": "code",
            "source": [
                "var reportinNode = \"CH\";",
                "\nvar year = 2021;",
                "\nvar month = 3;",
                "\nvar scenario = (string)default;",
                "\nvar args = new ImportArgs(reportinNode, year, month, default, scenario, default);"
            ],
            "metadata": {},
            "execution_count": 0,
            "outputs": []
        },
        {
            "cell_type": "markdown",
            "source": [
                "# Retrieve data ",
                "\n",
                "\nThe parameters used for calculation of the provided period are here retrieved through queries.",
                "\nThe queries and the data model of the reported objects can be foud in the [ParameterReportQueries](https://portal.systemorph.cloud/project/ifrs17/env/v1.3.1/Report/ParameterReportsQueries#queries)"
            ],
            "metadata": {},
            "execution_count": 0,
            "outputs": []
        },
        {
            "cell_type": "code",
            "source": [
                "var dataNodeData = await Workspace.GetDataNodeDataReportParametersAsync(args);"
            ],
            "metadata": {},
            "execution_count": 0,
            "outputs": []
        },
        {
            "cell_type": "code",
            "source": [
                "var dataNodeStates = await Workspace.GetDataNodeStateReportParametersAsync(args);"
            ],
            "metadata": {},
            "execution_count": 0,
            "outputs": []
        },
        {
            "cell_type": "code",
            "source": [
                "var allYieldCurves = await Workspace.GetYieldCurveReportParametersAsync(args);"
            ],
            "metadata": {},
            "execution_count": 0,
            "outputs": []
        },
        {
            "cell_type": "code",
            "source": [
                "var singleDataNodeParameters = await Workspace.GetSingleDataNodeReportParametersAsync(args);"
            ],
            "metadata": {},
            "execution_count": 0,
            "outputs": []
        },
        {
            "cell_type": "code",
            "source": [
                "var interDataNodeParameters = await Workspace.GetInterDataNodeParametersAsync(args);"
            ],
            "metadata": {},
            "execution_count": 0,
            "outputs": []
        },
        {
            "cell_type": "code",
            "source": [
                "var currentPartnerRatings = await Workspace.GetCurrentPartnerRatingsReportParametersAsync(args);"
            ],
            "metadata": {},
            "execution_count": 0,
            "outputs": []
        },
        {
            "cell_type": "code",
            "source": [
                "var lockedPartnerRatings = await Workspace.GetLockedInPartnerRatingsReportParametersAsync(args);"
            ],
            "metadata": {},
            "execution_count": 0,
            "outputs": []
        },
        {
            "cell_type": "code",
            "source": [
                "var currentPartnerDefaultRates = await Workspace.GetCurrentCreditDefaultRatesReportParametersAsync(args);"
            ],
            "metadata": {},
            "execution_count": 0,
            "outputs": []
        },
        {
            "cell_type": "code",
            "source": [
                "var lockedPartnerDefaultRates = await Workspace.GetLockedInCreditDefaultRatesReportParametersAsync(args);"
            ],
            "metadata": {},
            "execution_count": 0,
            "outputs": []
        },
        {
            "cell_type": "markdown",
            "source": [
                "# Reports"
            ],
            "metadata": {},
            "execution_count": 0,
            "outputs": []
        },
        {
            "cell_type": "markdown",
            "source": [
                "## Data node",
                "\nProperties of the Group of Contracts and corresponding Portfolios are merged to provide a full description of the [Data Node](https://portal.systemorph.cloud/project/ifrs17/env/v1.3.1/DataModel/DataStructureDataStructure#data-node)"
            ],
            "metadata": {},
            "execution_count": 0,
            "outputs": []
        },
        {
            "cell_type": "code",
            "source": [
                "await Report.ForObjects(dataNodeData)",
                "\n            .WithQuerySource(Workspace)",
                "\n            .GroupRowsBy(x => x.Portfolio).GroupRowsBy(x => x.DataNode)",
                "\n            .ToTable()",
                "\n            .ExecuteAsync()"
            ],
            "metadata": {},
            "execution_count": 0,
            "outputs": []
        },
        {
            "cell_type": "markdown",
            "source": [
                "## Data node state",
                "\n",
                "\nCurrent and previous period [data node state](https://portal.systemorph.cloud/project/ifrs17/env/v1.3.1/DataModel/DataStructure#data-node-state)."
            ],
            "metadata": {},
            "execution_count": 0,
            "outputs": []
        },
        {
            "cell_type": "code",
            "source": [
                "await Report.ForObjects(dataNodeStates)",
                "\n            .WithQuerySource(Workspace)",
                "\n            .GroupRowsBy(x => x.GroupOfContract)",
                "\n            .GroupColumnsBy(x => x.Period)",
                "\n            .ToTable()",
                "\n            .ExecuteAsync()",
                "\n            "
            ],
            "metadata": {},
            "execution_count": 0,
            "outputs": []
        },
        {
            "cell_type": "markdown",
            "source": [
                "## Yield curve",
                "\n[Yield Curve](https://portal.systemorph.cloud/project/ifrs17/env/v1.3.1/DataModel/DataStructure#yield-curve) used for locked-in discounting and current rating discouning (curret period and previous period) are shown."
            ],
            "metadata": {},
            "execution_count": 0,
            "outputs": []
        },
        {
            "cell_type": "code",
            "source": [
                "await Report.ForObjects(allYieldCurves)",
                "\n            .WithQuerySource(Workspace)",
                "\n            .GroupRowsBy(x => x.GroupOfContract)",
                "\n            .GroupColumnsBy(x => x.YieldCurveType).GroupColumnsBy(x => x.Period)",
                "\n            .ToTable()",
                "\n            .ExecuteAsync()"
            ],
            "metadata": {},
            "execution_count": 0,
            "outputs": []
        },
        {
            "cell_type": "markdown",
            "source": [
                "## Single data node parameter",
                "\n[Single data node parameters](https://portal.systemorph.cloud/project/ifrs17/env/v1.3.1/DataModel/DataStructure#data-node-parameters) for current and previous period. "
            ],
            "metadata": {},
            "execution_count": 0,
            "outputs": []
        },
        {
            "cell_type": "code",
            "source": [
                "await Report.ForObjects(singleDataNodeParameters)",
                "\n            .WithQuerySource(Workspace)",
                "\n            .GroupRowsBy(x => x.GroupOfContract)",
                "\n            .GroupColumnsBy(x => x.Period)",
                "\n            .ToTable()",
                "\n            .ExecuteAsync()"
            ],
            "metadata": {},
            "execution_count": 0,
            "outputs": []
        },
        {
            "cell_type": "markdown",
            "source": [
                "## Inter data node parameter",
                "\n[Inter data node parameters](https://portal.systemorph.cloud/project/ifrs17/env/v1.3.1/DataModel/DataStructure#data-node-parameters) for current and previous period. "
            ],
            "metadata": {},
            "execution_count": 0,
            "outputs": []
        },
        {
            "cell_type": "code",
            "source": [
                "await Report.ForObjects(interDataNodeParameters)",
                "\n            .WithQuerySource(Workspace)",
                "\n            .GroupRowsBy(x => x.GroupOfContract).GroupRowsBy(x => x.LinkedDataNode)",
                "\n            .GroupColumnsBy(x => x.Period)",
                "\n            .ToTable()",
                "\n            .ExecuteAsync()"
            ],
            "metadata": {},
            "execution_count": 0,
            "outputs": []
        },
        {
            "cell_type": "markdown",
            "source": [
                "## Partner ratings",
                "\n[Partner ratings](https://portal.systemorph.cloud/project/ifrs17/env/v1.3.1/DataModel/DataStructure#partner-rating) for current and previous period."
            ],
            "metadata": {},
            "execution_count": 0,
            "outputs": []
        },
        {
            "cell_type": "code",
            "source": [
                "await Report.ForObjects(currentPartnerRatings)",
                "\n            .WithQuerySource(Workspace)",
                "\n            .GroupRowsBy(x => x.Partner)",
                "\n            .GroupColumnsBy(x => x.Period)",
                "\n            .ToTable()",
                "\n            .ExecuteAsync()"
            ],
            "metadata": {},
            "execution_count": 0,
            "outputs": []
        },
        {
            "cell_type": "markdown",
            "source": [
                "Locked in [partner ratings](https://portal.systemorph.cloud/project/ifrs17/env/v1.3.1/DataModel/DataStructure#partner-rating)."
            ],
            "metadata": {},
            "execution_count": 0,
            "outputs": []
        },
        {
            "cell_type": "code",
            "source": [
                "await Report.ForObjects(lockedPartnerRatings)",
                "\n            .WithQuerySource(Workspace)",
                "\n            .GroupRowsBy(x => x.Partner)",
                "\n            .GroupColumnsBy(x => x.PartnerRatingType).GroupColumnsBy(x => \"Initial Year: \" + x.InitialYear.ToString())",
                "\n            .ToTable()",
                "\n            .ExecuteAsync()"
            ],
            "metadata": {},
            "execution_count": 0,
            "outputs": []
        },
        {
            "cell_type": "markdown",
            "source": [
                "## Partner default rates",
                "\n[Partner default rates](https://portal.systemorph.cloud/project/ifrs17/env/v1.3.1/DataModel/DataStructure#credit-default-rate) for current and previous period."
            ],
            "metadata": {},
            "execution_count": 0,
            "outputs": []
        },
        {
            "cell_type": "code",
            "source": [
                "await Report.ForObjects(currentPartnerDefaultRates)",
                "\n            .WithQuerySource(Workspace)",
                "\n            .GroupRowsBy(x => x.CreditRiskRating)",
                "\n            .GroupColumnsBy(x => x.Period)",
                "\n            .ToTable()",
                "\n            .ExecuteAsync()"
            ],
            "metadata": {},
            "execution_count": 0,
            "outputs": []
        },
        {
            "cell_type": "markdown",
            "source": [
                "Locked in [partner default rates](https://portal.systemorph.cloud/project/ifrs17/env/v1.3.1/DataModel/DataStructure#credit-default-rate)."
            ],
            "metadata": {},
            "execution_count": 0,
            "outputs": []
        },
        {
            "cell_type": "code",
            "source": [
                "await Report.ForObjects(lockedPartnerDefaultRates)",
                "\n            .WithQuerySource(Workspace)",
                "\n            .GroupRowsBy(x => x.CreditRiskRating)",
                "\n            .GroupColumnsBy(x => x.CreditDefaultRatesType).GroupColumnsBy(x => \"Initial Year: \" + x.InitialYear)",
                "\n            .ToTable()",
                "\n            .ExecuteAsync()"
            ],
            "metadata": {},
            "execution_count": 0,
            "outputs": []
        }
    ]
}