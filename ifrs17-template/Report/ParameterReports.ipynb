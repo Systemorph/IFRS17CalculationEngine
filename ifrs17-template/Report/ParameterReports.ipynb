{
    "metadata": {
        "authors": [],
        "kernelspec": {
            "display_name": "Formula Framework",
            "language": "C#",
            "name": "C#"
        },
        "language_info": {
            "file_extension": ".cs",
            "mimetype": "text/plain",
            "name": "C#"
        }
    },
    "nbformat": 4,
    "nbformat_minor": 5,
    "cells": [
        {
            "cell_type": "markdown",
            "source": [
                "# Data Initialization"
            ],
            "metadata": {},
            "execution_count": 0,
            "outputs": []
        },
        {
            "cell_type": "code",
            "source": [
                "#!eval-notebook \"../Initialization/InitSystemorphBaseToMemory\""
            ],
            "metadata": {},
            "execution_count": 0,
            "outputs": []
        },
        {
            "cell_type": "code",
            "source": [
                "Workspace.Reset(x => x.ResetInitializationRules().ResetCurrentPartitions());"
            ],
            "metadata": {},
            "execution_count": 0,
            "outputs": []
        },
        {
            "cell_type": "code",
            "source": [
                "Workspace.InitializeFrom(DataSource);"
            ],
            "metadata": {},
            "execution_count": 0,
            "outputs": []
        },
        {
            "cell_type": "markdown",
            "source": [
                "# Args"
            ],
            "metadata": {},
            "execution_count": 0,
            "outputs": []
        },
        {
            "cell_type": "code",
            "source": [
                "var args = new ImportArgs(\"CH\", 2021, 3, default, default , ImportFormats.Cashflow);"
            ],
            "metadata": {},
            "execution_count": 0,
            "outputs": []
        },
        {
            "cell_type": "markdown",
            "source": [
                "# Data Node"
            ],
            "metadata": {},
            "execution_count": 0,
            "outputs": []
        },
        {
            "cell_type": "code",
            "source": [
                "var dataNodeData = (await Workspace.LoadDataNodesAsync(args))",
                "\n    .Values",
                "\n    .ToArray();",
                "\ndataNodeData.Take(2)"
            ],
            "metadata": {},
            "execution_count": 0,
            "outputs": []
        },
        {
            "cell_type": "code",
            "source": [
                "dataNodeData",
                "\n"
            ],
            "metadata": {},
            "execution_count": 0,
            "outputs": []
        },
        {
            "cell_type": "markdown",
            "source": [
                "# YieldCurve"
            ],
            "metadata": {},
            "execution_count": 0,
            "outputs": []
        },
        {
            "cell_type": "code",
            "source": [
                "var lockedYieldCurves = (await Workspace.LoadLockedInYieldCurveAsync(args, dataNodeData))",
                "\n    .Select(x => new { ",
                "\n        DataNode = x.Key, ",
                "\n        LockedIn = (x.Value.Year, x.Value.Month, x.Value.Scenario, x.Value.Currency, x.Value.Name)",
                "\n        })",
                "\n    .ToArray();",
                "\nlockedYieldCurves.Take(2)"
            ],
            "metadata": {},
            "execution_count": 0,
            "outputs": []
        },
        {
            "cell_type": "code",
            "source": [
                "var currentYieldCurves = (await Workspace.LoadCurrentYieldCurveAsync(args, dataNodeData))",
                "\n    .Values",
                "\n    .SelectMany(x => x.Select(y => new { ",
                "\n        Period = y.Key,",
                "\n        Current = (y.Value.Year, y.Value.Month, y.Value.Scenario, y.Value.Currency, y.Value.Name)",
                "\n        }))",
                "\n    .ToArray();",
                "\ncurrentYieldCurves.Take(2)"
            ],
            "metadata": {},
            "execution_count": 0,
            "outputs": []
        },
        {
            "cell_type": "markdown",
            "source": [
                "# Parameters"
            ],
            "metadata": {},
            "execution_count": 0,
            "outputs": []
        },
        {
            "cell_type": "code",
            "source": [
                "var singleDataNodeParameters = (await Workspace.LoadSingleDataNodeParametersAsync(args))",
                "\n    .Values",
                "\n    .SelectMany(x => x.Select(y => new { ",
                "\n        Period = y.Key, ",
                "\n        Parameter = (y.Value.Year, y.Value.Month, y.Value.Scenario, y.Value.DataNode, y.Value.PremiumAllocation)",
                "\n        }))",
                "\n    .ToArray();",
                "\nsingleDataNodeParameters.Take(2)"
            ],
            "metadata": {},
            "execution_count": 0,
            "outputs": []
        },
        {
            "cell_type": "code",
            "source": [
                "var interDataNodeParameters = (await Workspace.LoadInterDataNodeParametersAsync(args))",
                "\n    .Values",
                "\n    .SelectMany(x => x.SelectMany(y => y.Value.Select(z => new { ",
                "\n        Period = y.Key, ",
                "\n        //Parameter = (z.Year, z.Month, z.Scenario, z.DataNode, z.LinkedDataNode, z.ReinsuranceCoverage)",
                "\n        z.Year, z.Month, z.Scenario, z.DataNode, z.LinkedDataNode, z.ReinsuranceCoverage",
                "\n        })))",
                "\n    .Distinct()",
                "\n    .ToArray();",
                "\ninterDataNodeParameters.Take(2)"
            ],
            "metadata": {},
            "execution_count": 0,
            "outputs": []
        },
        {
            "cell_type": "markdown",
            "source": [
                "# Reports"
            ],
            "metadata": {},
            "execution_count": 0,
            "outputs": []
        },
        {
            "cell_type": "code",
            "source": [
                "await Report.ForObjects(interDataNodeParameters.OrderBy(x => x.DataNode))",
                "\n            .WithQuerySource(Workspace)",
                "\n            .ToTable()",
                "\n            .ExecuteAsync()"
            ],
            "metadata": {},
            "execution_count": 0,
            "outputs": []
        }
    ]
}