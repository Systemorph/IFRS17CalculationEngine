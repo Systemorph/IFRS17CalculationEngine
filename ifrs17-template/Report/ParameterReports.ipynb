{
    "metadata": {
        "authors": [],
        "kernelspec": {
            "display_name": "Formula Framework",
            "language": "C#",
            "name": "C#"
        },
        "language_info": {
            "file_extension": ".cs",
            "mimetype": "text/plain",
            "name": "C#"
        }
    },
    "nbformat": 4,
    "nbformat_minor": 5,
    "cells": [
        {
            "cell_type": "markdown",
            "source": [
                "# Data Initialization"
            ],
            "metadata": {},
            "execution_count": 0,
            "outputs": []
        },
        {
            "cell_type": "code",
            "source": [
                "#!eval-notebook \"../Initialization/InitSystemorphBaseToMemory\""
            ],
            "metadata": {},
            "execution_count": 0,
            "outputs": []
        },
        {
            "cell_type": "code",
            "source": [
                "Workspace.Reset(x => x.ResetInitializationRules().ResetCurrentPartitions());"
            ],
            "metadata": {},
            "execution_count": 0,
            "outputs": []
        },
        {
            "cell_type": "code",
            "source": [
                "Workspace.InitializeFrom(DataSource);"
            ],
            "metadata": {},
            "execution_count": 0,
            "outputs": []
        },
        {
            "cell_type": "markdown",
            "source": [
                "# Data Model"
            ],
            "metadata": {},
            "execution_count": 0,
            "outputs": []
        },
        {
            "cell_type": "code",
            "source": [
                "public enum Period { Previous = -1, Current = 0 };"
            ],
            "metadata": {},
            "execution_count": 0,
            "outputs": []
        },
        {
            "cell_type": "code",
            "source": [
                "public abstract record ReportParameter {",
                "\n    [Display(Order = -100)]",
                "\n    [IdentityProperty]",
                "\n    [NoArithmetics(ArithmeticOperation.Scale)]",
                "\n    [Dimension(typeof(int), nameof(Year))]",
                "\n    public int Year { get; init; }",
                "\n",
                "\n    [Display(Order = -90)]",
                "\n    [IdentityProperty]",
                "\n    [NoArithmetics(ArithmeticOperation.Scale)]",
                "\n    [Dimension(typeof(int), nameof(Month))]",
                "\n    public int Month { get; init; } ",
                "\n",
                "\n    [Display(Order = -80)]",
                "\n    [IdentityProperty]",
                "\n    [Dimension(typeof(Scenario))]",
                "\n    public string Scenario { get; init; }",
                "\n",
                "\n    [IdentityProperty]",
                "\n    [NotVisible]",
                "\n    public Period Period { get; init; }",
                "\n",
                "\n    [IdentityProperty]",
                "\n    [NotVisible]",
                "\n    [Dimension(typeof(GroupOfContract))]",
                "\n    public string GroupOfContract { get; init; }",
                "\n}"
            ],
            "metadata": {},
            "execution_count": 0,
            "outputs": []
        },
        {
            "cell_type": "code",
            "source": [
                "public record YieldCurveReportParameter : ReportParameter  {",
                "\n    [IdentityProperty]",
                "\n    [NotVisible]",
                "\n    public string YieldCurveType { get; init; }",
                "\n",
                "\n    [Dimension(typeof(Currency))]",
                "\n    public string Currency { get; init; }",
                "\n",
                "\n    public string Name { get; init; }",
                "\n}"
            ],
            "metadata": {},
            "execution_count": 0,
            "outputs": []
        },
        {
            "cell_type": "code",
            "source": [
                "public record SingleDataNodeReportParameter : ReportParameter  {",
                "\n    public double PremiumAllocation { get; init; }",
                "\n}"
            ],
            "metadata": {},
            "execution_count": 0,
            "outputs": []
        },
        {
            "cell_type": "code",
            "source": [
                "public record InterDataNodeReportParameter : ReportParameter  {",
                "\n    [Dimension(typeof(GroupOfContract), nameof(LinkedDataNode))]",
                "\n    public string LinkedDataNode { get; init; }",
                "\n",
                "\n    public double ReinsuranceCoverage { get; init; }",
                "\n}"
            ],
            "metadata": {},
            "execution_count": 0,
            "outputs": []
        },
        {
            "cell_type": "code",
            "source": [
                "public record DataNodeData {",
                "\n    public string DataNode { get; init; }",
                "\n",
                "\n    //Portfolio",
                "\n    [Dimension(typeof(Currency), nameof(ContractualCurrency))]",
                "\n    public string ContractualCurrency { get; init; }",
                "\n",
                "\n    [Dimension(typeof(Currency), nameof(FunctionalCurrency))]",
                "\n    public string FunctionalCurrency { get; init; }",
                "\n",
                "\n    [Dimension(typeof(LineOfBusiness))]",
                "\n    public string LineOfBusiness { get; init; }",
                "\n",
                "\n    [Dimension(typeof(ValuationApproach))]",
                "\n    public string ValuationApproach { get; init; }",
                "\n",
                "\n    public string OciType { get; init; }",
                "\n    ",
                "\n    //GroupOfContract",
                "\n    [Dimension(typeof(Portfolio))]",
                "\n    public string Portfolio { get; init; }",
                "\n",
                "\n    [Dimension(typeof(int), nameof(AnnualCohort))]",
                "\n    public int AnnualCohort { get; init; }",
                "\n    public string LiabilityType { get; init; }",
                "\n    public string Profitability { get; init; }",
                "\n    public string Partner { get; init; }",
                "\n    ",
                "\n    //DataNodeState",
                "\n    public int Year { get; init; }",
                "\n    public int Month { get; init; }",
                "\n    public State State { get; init; }",
                "\n    public State PreviousState { get; init; }",
                "\n    ",
                "\n    public bool IsReinsurance { get; init; }",
                "\n    public DataNodeData(){}",
                "\n}"
            ],
            "metadata": {},
            "execution_count": 0,
            "outputs": []
        },
        {
            "cell_type": "markdown",
            "source": [
                "# Args"
            ],
            "metadata": {},
            "execution_count": 0,
            "outputs": []
        },
        {
            "cell_type": "code",
            "source": [
                "var args = new ImportArgs(\"CH\", 2021, 3, default, default , default);"
            ],
            "metadata": {},
            "execution_count": 0,
            "outputs": []
        },
        {
            "cell_type": "markdown",
            "source": [
                "# Data Node"
            ],
            "metadata": {},
            "execution_count": 0,
            "outputs": []
        },
        {
            "cell_type": "code",
            "source": [
                "var dataNodeData = (await Workspace.LoadDataNodesAsync(args))",
                "\n    .Values",
                "\n    .ToArray();",
                "\ndataNodeData.Take(2)"
            ],
            "metadata": {},
            "execution_count": 0,
            "outputs": []
        },
        {
            "cell_type": "markdown",
            "source": [
                "# YieldCurve"
            ],
            "metadata": {},
            "execution_count": 0,
            "outputs": []
        },
        {
            "cell_type": "code",
            "source": [
                "var lockedYieldCurves = (await Workspace.LoadLockedInYieldCurveAsync(args, dataNodeData))",
                "\n    //.Select(x => new { DataNode = x.Key, LockedIn = ( x.Value.Year, x.Value.Month, x.Value.Scenario, x.Value.Currency, x.Value.Name)})",
                "\n    .Select(x => new YieldCurveReportParameter {",
                "\n        GroupOfContract = x.Key,",
                "\n        YieldCurveType = \"Locked-In Curve\",",
                "\n        Year = x.Value.Year,",
                "\n        Month = x.Value.Month,",
                "\n        Scenario = x.Value.Scenario,",
                "\n        Currency = x.Value.Currency,",
                "\n        Name = x.Value.Name }",
                "\n        )",
                "\n    .ToArray();",
                "\nlockedYieldCurves.Take(2)"
            ],
            "metadata": {},
            "execution_count": 0,
            "outputs": []
        },
        {
            "cell_type": "code",
            "source": [
                "var currentYieldCurves = (await Workspace.LoadCurrentYieldCurveAsync(args, dataNodeData))",
                "\n    .Values",
                "\n    //.SelectMany(x => x.Select(y => new { Period = y.Key, Current = ( y.Value.Year, y.Value.Month, y.Value.Scenario, y.Value.Currency, y.Value.Name)}))",
                "\n    .SelectMany(x => x.Select(y => new YieldCurveReportParameter {",
                "\n        Period = ((Period)y.Key),",
                "\n        YieldCurveType = \"Current Curve\",",
                "\n        Year = y.Value.Year,",
                "\n        Month = y.Value.Month,",
                "\n        Scenario = y.Value.Scenario,",
                "\n        Currency = y.Value.Currency,",
                "\n        Name = y.Value.Name}",
                "\n        ))",
                "\n    .ToArray();",
                "\ncurrentYieldCurves.Take(2)"
            ],
            "metadata": {},
            "execution_count": 0,
            "outputs": []
        },
        {
            "cell_type": "code",
            "source": [
                "var allYieldCurves = lockedYieldCurves.Concat(lockedYieldCurves.SelectMany(loc => currentYieldCurves.Select(cuc => new YieldCurveReportParameter {",
                "\n    GroupOfContract = loc.GroupOfContract,",
                "\n    Period = cuc.Period,",
                "\n    YieldCurveType = cuc.YieldCurveType,",
                "\n    Year = cuc.Year,",
                "\n    Month = cuc.Month,",
                "\n    Scenario = cuc.Scenario,",
                "\n    Currency = cuc.Currency,",
                "\n    Name = cuc.Name}",
                "\n    )))",
                "\n    .ToArray();"
            ],
            "metadata": {},
            "execution_count": 0,
            "outputs": []
        },
        {
            "cell_type": "markdown",
            "source": [
                "# Single Data Node Parameters"
            ],
            "metadata": {},
            "execution_count": 0,
            "outputs": []
        },
        {
            "cell_type": "code",
            "source": [
                "var singleDataNodeParameters = (await Workspace.LoadSingleDataNodeParametersAsync(args))",
                "\n    .Values",
                "\n    //.SelectMany(x => x.Select(y => new { Period = y.Key, Parameter = ( y.Value.Year, y.Value.Month, y.Value.Scenario, y.Value.DataNode, y.Value.PremiumAllocation)}))",
                "\n    .SelectMany(x => x.Select(y => new SingleDataNodeReportParameter {",
                "\n        GroupOfContract = y.Value.DataNode,",
                "\n        Period = ((Period)y.Key),",
                "\n        Year = y.Value.Year,",
                "\n        Month = y.Value.Month,",
                "\n        Scenario = y.Value.Scenario,",
                "\n        PremiumAllocation = y.Value.PremiumAllocation}",
                "\n        ))",
                "\n    .ToArray();",
                "\nsingleDataNodeParameters.Take(2)"
            ],
            "metadata": {},
            "execution_count": 0,
            "outputs": []
        },
        {
            "cell_type": "markdown",
            "source": [
                "# Inter Data Node Parameters"
            ],
            "metadata": {},
            "execution_count": 0,
            "outputs": []
        },
        {
            "cell_type": "code",
            "source": [
                "var interDataNodeParameters = (await Workspace.LoadInterDataNodeParametersAsync(args))",
                "\n    .Values",
                "\n    //.SelectMany(x => x.SelectMany(y => y.Value.Select(z => new { Period = y.Key,  Parameter = ( z.Year, z.Month, z.Scenario, z.DataNode, z.LinkedDataNode, z.ReinsuranceCoverage)})))",
                "\n    .SelectMany(x => x.SelectMany(y => y.Value.Select(z => ",
                "\n     new InterDataNodeReportParameter {",
                "\n         GroupOfContract = z.DataNode,",
                "\n         Period = ((Period)y.Key),",
                "\n         Year = z.Year,",
                "\n         Month = z.Month,",
                "\n         Scenario = z.Scenario,",
                "\n         LinkedDataNode = z.LinkedDataNode,",
                "\n         ReinsuranceCoverage = z.ReinsuranceCoverage}",
                "\n     )))",
                "\n    .Distinct()// Can be removed when we get rid of the dictionary",
                "\n    .SelectMany(x => new[]{x, x with { GroupOfContract = x.LinkedDataNode, LinkedDataNode = x.GroupOfContract}})",
                "\n    .ToArray();",
                "\ninterDataNodeParameters.Take(2)"
            ],
            "metadata": {},
            "execution_count": 0,
            "outputs": []
        },
        {
            "cell_type": "markdown",
            "source": [
                "# CDR"
            ],
            "metadata": {},
            "execution_count": 0,
            "outputs": []
        },
        {
            "cell_type": "code",
            "source": [
                "var partnerRatings = (await Workspace.LoadCurrentAndPreviousParameterAsync<PartnerRating>(args, x => x.Partner))",
                "\n    .Values",
                "\n    .SelectMany(x => x.Select(y => ",
                "\n    new {Period = ((Period)y.Key), y.Value}",
                "\n    ));",
                "\nvar creditDefaultRates = (await Workspace.LoadCurrentAndPreviousParameterAsync<CreditDefaultRate>(args, x => x.CreditRiskRating))",
                "\n    .Values",
                "\n    .SelectMany(x => x.Select(y =>",
                "\n    new {Period = ((Period)y.Key), y.Value}",
                "\n    ));",
                "\n//var partberDefaultRates"
            ],
            "metadata": {},
            "execution_count": 0,
            "outputs": []
        },
        {
            "cell_type": "code",
            "source": [
                "partnerRatings"
            ],
            "metadata": {},
            "execution_count": 0,
            "outputs": []
        },
        {
            "cell_type": "code",
            "source": [
                "creditDefaultRates"
            ],
            "metadata": {},
            "execution_count": 0,
            "outputs": []
        },
        {
            "cell_type": "markdown",
            "source": [
                "# Reports"
            ],
            "metadata": {},
            "execution_count": 0,
            "outputs": []
        },
        {
            "cell_type": "code",
            "source": [
                "await Report.ForObjects(allYieldCurves)",
                "\n            .WithQuerySource(Workspace)",
                "\n            .GroupRowsBy(x => x.GroupOfContract)",
                "\n            .GroupColumnsBy(x => x.YieldCurveType).GroupColumnsBy(x => x.Period)",
                "\n            .ToTable()",
                "\n            .ExecuteAsync()"
            ],
            "metadata": {},
            "execution_count": 0,
            "outputs": []
        },
        {
            "cell_type": "code",
            "source": [
                "await Report.ForObjects(singleDataNodeParameters)",
                "\n            .WithQuerySource(Workspace)",
                "\n            .GroupRowsBy(x => x.GroupOfContract)",
                "\n            .GroupColumnsBy(x => x.Period)",
                "\n            .ToTable()",
                "\n            .ExecuteAsync()"
            ],
            "metadata": {},
            "execution_count": 0,
            "outputs": []
        },
        {
            "cell_type": "code",
            "source": [
                "await Report.ForObjects(interDataNodeParameters)",
                "\n            .WithQuerySource(Workspace)",
                "\n            .GroupRowsBy(x => x.GroupOfContract).GroupRowsBy(x => x.LinkedDataNode)",
                "\n            .GroupColumnsBy(x => x.Period)",
                "\n            .ToTable()",
                "\n            .ExecuteAsync()"
            ],
            "metadata": {},
            "execution_count": 0,
            "outputs": []
        },
        {
            "cell_type": "code",
            "source": [
                ""
            ],
            "metadata": {},
            "execution_count": 0,
            "outputs": []
        }
    ]
}