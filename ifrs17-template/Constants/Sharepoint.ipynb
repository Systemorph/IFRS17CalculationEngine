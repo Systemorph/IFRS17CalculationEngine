{
    "metadata": {
        "authors": [],
        "id": "FhSOUFpXwkCCDrVeJ6_P0g",
        "kernelspec": {
            "display_name": "Formula Framework",
            "language": "C#",
            "name": "C#"
        },
        "language_info": {
            "file_extension": ".cs",
            "mimetype": "text/plain",
            "name": "C#"
        }
    },
    "nbformat": 4,
    "nbformat_minor": 5,
    "cells": [
        {
            "cell_type": "markdown",
            "source": [
                "Change these definitions to allow direct exports into your sharepoint folder."
            ],
            "metadata": {},
            "execution_count": 0,
            "outputs": []
        },
        {
            "cell_type": "code",
            "source": [
                "public class Sharepoint{",
                "\n    public const string Sites  = \"sites/XXX\"; //Sharepoint sites",
                "\n    public const string Tenant = \"systemorph.sharepoint.com\";             //Sharepoint tenant",
                "\n    public const string Root = \"Dev/\";                                    //Dev main directory",
                "\n}"
            ],
            "metadata": {},
            "execution_count": 0,
            "outputs": []
        }
    ]
}