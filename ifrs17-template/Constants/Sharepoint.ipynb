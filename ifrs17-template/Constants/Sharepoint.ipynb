{
    "metadata": {
        "authors": [],
        "id": "FhSOUFpXwkCCDrVeJ6_P0g",
        "kernelspec": {
            "display_name": "Formula Framework",
            "language": "C#",
            "name": "C#"
        },
        "language_info": {
            "file_extension": ".cs",
            "mimetype": "text/plain",
            "name": "C#"
        }
    },
    "nbformat": 4,
    "nbformat_minor": 5,
    "cells": [
        {
            "cell_type": "markdown",
            "source": [
                "<p style=\"font-weight:bold;\"> <span style=\"font-size: 36px\"> Sharepoint Settings </span> </p>"
            ],
            "metadata": {},
            "execution_count": 0,
            "outputs": []
        },
        {
            "cell_type": "markdown",
            "source": [
                "# Imports"
            ],
            "metadata": {},
            "execution_count": 0,
            "outputs": []
        },
        {
            "cell_type": "code",
            "source": [
                "#!import \"../Constants/CalculationEngine\"",
                "\n#!eval calculationEngine"
            ],
            "metadata": {},
            "execution_count": 0,
            "outputs": []
        },
        {
            "cell_type": "markdown",
            "source": [
                "# Settings "
            ],
            "metadata": {},
            "execution_count": 0,
            "outputs": []
        },
        {
            "cell_type": "markdown",
            "source": [
                "Change these definitions to allow direct exports into your sharepoint folder."
            ],
            "metadata": {},
            "execution_count": 0,
            "outputs": []
        },
        {
            "cell_type": "code",
            "source": [
                "public class Sharepoint{",
                "\n    public const string Sites  = \"sites/XXX\"; //Sharepoint sites",
                "\n    public const string Tenant = \"systemorph.sharepoint.com\";             //Sharepoint tenant",
                "\n    public const string Root = \"Dev/\";                                    //Dev main directory",
                "\n}"
            ],
            "metadata": {},
            "execution_count": 0,
            "outputs": []
        },
        {
            "cell_type": "markdown",
            "source": [
                "Please uncomment the following piece of code to configure the Sharepoint definitions and export all the files directly to a sharepoint folder of your preference."
            ],
            "metadata": {},
            "execution_count": 0,
            "outputs": []
        },
        {
            "cell_type": "code",
            "source": [
                "var pathToExport = \"\";",
                "\n//var fileStorage = SharePoint.Site(Sharepoint.Sites, Sharepoint.Tenant);",
                "\n//var pathToExport = Sharepoint.Root + \"ExportFilesTest/\"; // Provide here the path to you default export folder",
                "\n//Export.SetDefaultFileStorage(fileStorage);"
            ],
            "metadata": {},
            "execution_count": 0,
            "outputs": []
        }
    ]
}