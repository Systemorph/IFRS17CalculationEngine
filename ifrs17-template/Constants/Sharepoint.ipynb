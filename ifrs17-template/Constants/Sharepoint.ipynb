{
    "metadata": {
        "authors": [],
        "id": "FhSOUFpXwkCCDrVeJ6_P0g",
        "kernelspec": {
            "display_name": "Formula Framework",
            "language": "C#",
            "name": "C#"
        },
        "language_info": {
            "file_extension": ".cs",
            "mimetype": "text/plain",
            "name": "C#"
        }
    },
    "nbformat": 4,
    "nbformat_minor": 5,
    "cells": [
        {
            "cell_type": "markdown",
            "source": [
                "<p style=\"font-weight:bold;\"> <span style=\"font-size: 36px\"> Sharepoint Settings </span> </p>"
            ],
            "metadata": {},
            "execution_count": 0,
            "outputs": []
        },
        {
            "cell_type": "markdown",
            "source": [
                "This notebook allows to enter the details to connect the IFRS 17 calculation engine to your personal sharepoint. This allows the calculation engine to import data directly from your sharepoint and to export reports and other financial documents directly to your sharepoint."
            ],
            "metadata": {},
            "execution_count": 0,
            "outputs": []
        },
        {
            "cell_type": "code",
            "source": [
                "public class Sharepoint{",
                "\n    public const string Sites  = \"sites/XXX\"; //Sharepoint sites",
                "\n    public const string Tenant = \"systemorph.sharepoint.com\";             //Sharepoint tenant",
                "\n    public const string Root = \"Dev/\";                                    //Dev main directory",
                "\n    public const string PathToExport = Root + \"ExportFilesTest/\"          //Target export directory ",
                "\n}"
            ],
            "metadata": {},
            "execution_count": 0,
            "outputs": []
        }
    ]
}