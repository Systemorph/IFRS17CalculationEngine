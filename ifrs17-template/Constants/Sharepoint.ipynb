{
    "metadata": {
        "authors": [],
        "id": "FhSOUFpXwkCCDrVeJ6_P0g",
        "kernelspec": {
            "display_name": "Formula Framework",
            "language": "C#",
            "name": "C#"
        },
        "language_info": {
            "file_extension": ".cs",
            "mimetype": "text/plain",
            "name": "C#"
        }
    },
    "nbformat": 4,
    "nbformat_minor": 5,
    "cells": [
        {
            "cell_type": "markdown",
            "source": [
                "<p style=\"font-weight:bold;\"> <span style=\"font-size: 36px\"> Sharepoint Settings </span> </p>"
            ],
            "metadata": {},
            "execution_count": 0,
            "outputs": []
        },
        {
            "cell_type": "markdown",
            "source": [
                "This notebook allows to enter the details to connect the IFRS 17 calculation engine to your personal sharepoint. This allows the calculation engine to import data directly from your sharepoint and to export reports and other financial documents directly to your sharepoint."
            ],
            "metadata": {},
            "execution_count": 0,
            "outputs": []
        },
        {
            "cell_type": "code",
            "source": [
                "public record SharePointConnectionConfiguration(string Sites = \"sites/XXX\", string Tenant = \"systemorph.sharepoint.com\", string Root = \"Dev/\", bool isApplicationType = false);"
            ],
            "metadata": {},
            "execution_count": 0,
            "outputs": []
        },
        {
            "cell_type": "code",
            "source": [
                "public static void SetDefaults(this Systemorph.SharePoint.SharePointVariable sharePointVariable, SharePointConnectionConfiguration sharePointConnectionConfiguration) {",
                "\n    if(sharePointConnectionConfiguration.isApplicationType)",
                "\n        sharePointVariable.SetDefault(x => x.WithSitesSelected().Site(sharePointConnectionConfiguration.Sites, sharePointConnectionConfiguration.Tenant));",
                "\n    else",
                "\n        sharePointVariable.SetDefault(x => x.Site(sharePointConnectionConfiguration.Sites, sharePointConnectionConfiguration.Tenant));",
                "\n}"
            ],
            "metadata": {},
            "execution_count": 0,
            "outputs": []
        },
        {
            "cell_type": "markdown",
            "source": [
                "Change this definition appropriately if you have other SharePoint configurations:"
            ],
            "metadata": {},
            "execution_count": 0,
            "outputs": []
        },
        {
            "cell_type": "code",
            "source": [
                "var sharePointConnectionConfiguration = SharePointConnectionConfiguration();"
            ],
            "metadata": {},
            "execution_count": 0,
            "outputs": []
        },
        {
            "cell_type": "code",
            "source": [
                "SharePoint.SetDefault(sharePointConnectionConfiguration);"
            ],
            "metadata": {},
            "execution_count": 0,
            "outputs": []
        }
    ]
}