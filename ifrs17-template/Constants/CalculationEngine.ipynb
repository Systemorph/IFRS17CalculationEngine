{
    "metadata": {
        "authors": [],
        "id": "ORrEbLR_T0C1aoQoVcXCpA",
        "kernelspec": {
            "display_name": "Formula Framework",
            "language": "C#",
            "name": "C#"
        },
        "language_info": {
            "file_extension": ".cs",
            "mimetype": "text/plain",
            "name": "C#"
        }
    },
    "nbformat": 4,
    "nbformat_minor": 5,
    "cells": [
        {
            "cell_type": "code",
            "source": [
                "var projectName = \"ifrs17\";",
                "\nvar environmentName = \"v1.3.1\";",
                "\nvar notebookName = \"CalculationEngine\";",
                "\nvar calculationEngine = $\"#!import \\\"../../{projectName}/{environmentName}/{notebookName}\\\"\";"
            ],
            "metadata": {},
            "execution_count": 0,
            "outputs": []
        }
    ]
}