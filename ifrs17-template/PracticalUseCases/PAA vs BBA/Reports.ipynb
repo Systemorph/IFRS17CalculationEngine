{
    "metadata": {
        "authors": [],
        "id": "ebrqz9cx-E-XAuIYCwb2OQ",
        "kernelspec": {
            "display_name": "Formula Framework",
            "language": "C#",
            "name": "C#"
        },
        "language_info": {
            "file_extension": ".cs",
            "mimetype": "text/plain",
            "name": "C#"
        }
    },
    "nbformat": 4,
    "nbformat_minor": 5,
    "cells": [
        {
            "cell_type": "markdown",
            "source": [
                "<p style=\"font-weight:bold;\"> <span style=\"font-size: 36px\">PAA vs BBA Data Comparison</span> </p>",
                "\n"
            ],
            "metadata": {},
            "execution_count": 0,
            "outputs": []
        },
        {
            "cell_type": "markdown",
            "source": [
                "# Case Study",
                "\n",
                "\nWe compare IFRS 17 results under PAA and BBA valuation approaches."
            ],
            "metadata": {},
            "execution_count": 0,
            "outputs": []
        },
        {
            "cell_type": "markdown",
            "source": [
                "# Data Import"
            ],
            "metadata": {},
            "execution_count": 0,
            "outputs": []
        },
        {
            "cell_type": "code",
            "source": [
                "#!eval-notebook \"DataImport\""
            ],
            "metadata": {},
            "execution_count": 0,
            "outputs": []
        },
        {
            "cell_type": "code",
            "source": [
                "ifrs17 = new Ifrs17(Workspace, Scopes, Report, Export);"
            ],
            "metadata": {},
            "execution_count": 0,
            "outputs": []
        },
        {
            "cell_type": "code",
            "source": [
                "var reportingYear = 2023; ",
                "\nvar reportingMonth = 12;"
            ],
            "metadata": {},
            "execution_count": 0,
            "outputs": []
        },
        {
            "cell_type": "markdown",
            "source": [
                "# Best Estimate",
                "\n",
                "\n"
            ],
            "metadata": {},
            "execution_count": 0,
            "outputs": []
        },
        {
            "cell_type": "code",
            "source": [
                "var pv = ifrs17.PresentValues;",
                "\npv.ReportingNode = \"T1\";",
                "\npv.ReportingPeriod = (reportingYear, reportingMonth);",
                "\npv.CurrencyType = CurrencyType.Contractual;",
                "\npv.ColumnSlices = new string[]{\"EconomicBasis\",\"GroupOfContract\", \"AmountType\"};",
                "\npv.DataFilter = new [] {(\"EconomicBasis\", \"L\")};",
                "\n(await pv.ToReportAsync)"
            ],
            "metadata": {},
            "execution_count": 0,
            "outputs": []
        },
        {
            "cell_type": "markdown",
            "source": [
                "# Written Actuals"
            ],
            "metadata": {},
            "execution_count": 0,
            "outputs": []
        },
        {
            "cell_type": "code",
            "source": [
                "var writtenActual = ifrs17.WrittenActuals;",
                "\nwrittenActual.ReportingNode = \"T1\";",
                "\nwrittenActual.ReportingPeriod = (reportingYear, reportingMonth);",
                "\nwrittenActual.ColumnSlices = new string[]{\"Scenario\", \"GroupOfContract\"};",
                "\nwrittenActual.DataFilter =  null;",
                "\nwrittenActual.Scenario = \"All\";",
                "\n(await writtenActual.ToReportAsync) with { GroupDefaultExpanded = 0}"
            ],
            "metadata": {},
            "execution_count": 0,
            "outputs": []
        },
        {
            "cell_type": "markdown",
            "source": [
                "# Actuarial Experience Adjustment"
            ],
            "metadata": {},
            "execution_count": 0,
            "outputs": []
        },
        {
            "cell_type": "code",
            "source": [
                "var experienceAdjustments = ifrs17.ExperienceAdjustments;",
                "\nexperienceAdjustments.ReportingNode = \"T1\";",
                "\nexperienceAdjustments.ReportingPeriod = (reportingYear, reportingMonth);",
                "\nexperienceAdjustments.ColumnSlices = new string[]{\"GroupOfContract\"};",
                "\nexperienceAdjustments.RowSlices = new string[]{\"AmountType\",\"EstimateType\"};",
                "\nexperienceAdjustments.DataFilter = null;",
                "\n(await experienceAdjustments.ToReportAsync) with { GroupDefaultExpanded = 0}"
            ],
            "metadata": {},
            "execution_count": 0,
            "outputs": []
        },
        {
            "cell_type": "markdown",
            "source": [
                "# Deferrals"
            ],
            "metadata": {},
            "execution_count": 0,
            "outputs": []
        },
        {
            "cell_type": "code",
            "source": [
                "var deferrals = ifrs17.DeferralActuals;",
                "\ndeferrals.ReportingNode = \"T1\";",
                "\ndeferrals.ReportingPeriod = (reportingYear, reportingMonth);",
                "\ndeferrals.ColumnSlices = new string[]{\"GroupOfContract\"};",
                "\ndeferrals.DataFilter = null;",
                "\n(await deferrals.ToReportAsync) with {Height = 700}"
            ],
            "metadata": {},
            "execution_count": 0,
            "outputs": []
        },
        {
            "cell_type": "markdown",
            "source": [
                "# Contractual Service Margin / Loss Component"
            ],
            "metadata": {},
            "execution_count": 0,
            "outputs": []
        },
        {
            "cell_type": "code",
            "source": [
                "var allocatedTechnicalMargins = ifrs17.AllocatedTechnicalMargins;",
                "\nallocatedTechnicalMargins.ReportingNode = \"T1\";",
                "\nallocatedTechnicalMargins.ReportingPeriod = (reportingYear, reportingMonth);",
                "\nallocatedTechnicalMargins.ColumnSlices = new string[]{\"GroupOfContract\", \"EstimateType\"};",
                "\nallocatedTechnicalMargins.DataFilter = null;",
                "\n(await allocatedTechnicalMargins.ToReportAsync) with {Height = 700}"
            ],
            "metadata": {},
            "execution_count": 0,
            "outputs": []
        },
        {
            "cell_type": "markdown",
            "source": [
                "# LRC Actuarial",
                "\n"
            ],
            "metadata": {},
            "execution_count": 0,
            "outputs": []
        },
        {
            "cell_type": "code",
            "source": [
                "var actuarialLrc = ifrs17.ActuarialLrc;",
                "\nactuarialLrc.ReportingNode = \"T1\";",
                "\nactuarialLrc.ReportingPeriod = (reportingYear, reportingMonth);",
                "\nactuarialLrc.ColumnSlices = new string[]{\"GroupOfContract\",\"EstimateType\"};",
                "\nactuarialLrc.DataFilter = null;",
                "\n(await actuarialLrc.ToReportAsync) with {Height = 750}"
            ],
            "metadata": {},
            "execution_count": 0,
            "outputs": []
        },
        {
            "cell_type": "markdown",
            "source": [
                "# Financial Performance",
                "\n"
            ],
            "metadata": {},
            "execution_count": 0,
            "outputs": []
        },
        {
            "cell_type": "code",
            "source": [
                "// var financialPerformance = ifrs17.FinancialPerformance;",
                "\n// financialPerformance.ReportingNode = \"T1\";",
                "\n// financialPerformance.ReportingPeriod = (reportingYear, reportingMonth);",
                "\n// financialPerformance.ColumnSlices = new string[]{\"GroupOfContract\"};",
                "\n// financialPerformance.DataFilter = null;",
                "\n// (await financialPerformance.ToReportAsync) with { Height = 900, GroupDefaultExpanded = 3}"
            ],
            "metadata": {},
            "execution_count": 0,
            "outputs": []
        },
        {
            "cell_type": "code",
            "source": [
                "var FinancialPerformanceAlternative = ifrs17.FinancialPerformanceAlternative;",
                "\nFinancialPerformanceAlternative.ReportingNode = \"T1\";",
                "\nFinancialPerformanceAlternative.ReportingPeriod = (reportingYear, reportingMonth);",
                "\nFinancialPerformanceAlternative.ColumnSlices = new string[]{\"GroupOfContract\"};",
                "\nFinancialPerformanceAlternative.DataFilter = null;",
                "\n(await FinancialPerformanceAlternative.ToReportAsync) with { Height = 900, GroupDefaultExpanded = 3}"
            ],
            "metadata": {},
            "execution_count": 0,
            "outputs": []
        },
        {
            "cell_type": "code",
            "source": [
                ""
            ],
            "metadata": {},
            "execution_count": 0,
            "outputs": []
        }
    ]
}