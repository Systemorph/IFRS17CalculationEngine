{
    "metadata": {
        "authors": [],
        "id": "fSGCg4loXUOYruTUQPiNXg",
        "kernelspec": {
            "display_name": "Formula Framework",
            "language": "C#",
            "name": "C#"
        },
        "language_info": {
            "file_extension": ".cs",
            "mimetype": "text/plain",
            "name": "C#"
        }
    },
    "nbformat": 4,
    "nbformat_minor": 5,
    "cells": [
        {
            "cell_type": "markdown",
            "source": [
                "<p style=\"font-weight:bold;\"> <span style=\"font-size: 36px\"> Contractual Service Margin and Loss Component Switch</span> </p>",
                "\n",
                "\n<p style=\"font-weight:bold;\"> <span style=\"font-size: 21px\"> Impact of the switch logic to Financial Performance and Balance Sheet</span> </p>"
            ],
            "metadata": {},
            "execution_count": 0,
            "outputs": []
        },
        {
            "cell_type": "markdown",
            "source": [
                "# Theory ",
                "\nA fundamental concept introduced by IFRS 17 is the Contractual Service Margin (CSM). The CSM represents the unearned profit that an entity expects to earn as it provides services. It is defined at the minimum granularity being the Group of Insurance Contract (Unit Of Account) and it is relevant for all Liability of Remaining Coverage (LRC) approaches with the exception of the Premium Allocation Approach.",
                "\n",
                "\nThe main principles to understand the Contractual Sevice Margin and Loss Component in IFRS 17 are: ",
                "\n",
                "\n**Principle 1**: When an insurer writes profitable business, it must not be allowed to recognise the expected profits immediately and instead *must spread those profits over time*.",
                "\n",
                "\n**Principle 2**: When an insurer writes loss-making business, it must not be allowed to spread the expected losses for that business over time and instead *must recognise those losses immediately*.",
                "\n<br/><br/>",
                "\n<a name=\"TOC\"></a>",
                "\n<center><img src=\"../../Images/CsmLc.png\" width=\"45%\" style=\"float:center;\">",
                "\n<br/><br/><br/>",
                "\n",
                "\n**Principle 3**: The CSM must be adjusted for all changes (AoC Step) that relate to future service e.g. favourable mortality updates must increase the CSM; unfavourable lapse experience must decrease the CSM.",
                "\n",
                "\n**Principle 4**: When an insurer recognises that written business, that was previously expected to be profitable, is now expected to be loss-making, e.g. because of changes relating to future service, it must not be allowed to spread the expected losses for that business over time and instead must recognise those losses immediately. It will do so by first extinguishing the CSM and then establishing a Loss Component (LC) in respect of the remaining excess. This represents a switch of the CSM to LC. ",
                "\n<br/><br/>",
                "\n<a name=\"TOC\"></a>",
                "\n<center><img src=\"../../Images/Switch.png\" width=\"45%\" style=\"float:center;\">"
            ],
            "metadata": {},
            "execution_count": 0,
            "outputs": []
        },
        {
            "cell_type": "markdown",
            "source": [
                "# Case Study",
                "\nIn this case study we look at the allocation of the Technical Margin into Contractual Service Margin or Loss Component and its impact on the Financial Performance and Balance Sheet. ",
                "\n<br> In particular, we are going to consider two possible approaches for the **switch logic**, which determines how the Technical Margin turns from CSM to LC and vice versa throughout the Analysis of Change (AoC). ",
                "\n",
                "\nFor this exercise, we consider two hypothetical GICs with identical inputs: the same parameters, modelled cash flows, actuals, etc... We will then analyze the results obtained by applying two different implementations of the **switch logic** and its implications to financial figures.",
                "\n",
                "\nWe have defined the following GICs:",
                "\n - **MZ 1.1 Multiple Switches**: in this case the allocation of the Technical Margin to either CSM or LC can happen multiple times between the Beginning of Period (BoP) and End of Period (EoP). This means whenever the cumulative Technical Margin changes its sign due to the corresponding AoC contributions, a switch from CSM to LC (and vice versa) is observed.",
                "\n  ",
                "\n - **MZ 1.2 Single Switch**: in this case the allocation of the Technical Margin to either CSM or LC can happen only once between the Beginning of Period (BoP) and End of Period (EoP). This means only if there is an effective switch (i.e. the cumulative Technical Margin at the Beginning of Period (BoP) and at the End of Period (EoP) have different signs), a single switch is observed. Otherwise there is no switch.",
                "\n",
                "\nWe will look at the relevant reports for the first quarter of year 2021 (2021 3).",
                "\n",
                "\nIt is worth to mention that in our starndard implementation, we consider *In Force* and *New business* contributions seperately as most analysts consider the new business part of the CSM an important Key Performance Indicator (KPI)."
            ],
            "metadata": {},
            "execution_count": 0,
            "outputs": []
        },
        {
            "cell_type": "markdown",
            "source": [
                "# Data Import"
            ],
            "metadata": {},
            "execution_count": 0,
            "outputs": []
        },
        {
            "cell_type": "code",
            "source": [
                "#!import \"CsmSwitchDataImport\""
            ],
            "metadata": {},
            "execution_count": 0,
            "outputs": []
        },
        {
            "cell_type": "code",
            "source": [
                "ifrs17 = new Ifrs17(Workspace, Scopes, Report, Export);"
            ],
            "metadata": {},
            "execution_count": 0,
            "outputs": []
        },
        {
            "cell_type": "code",
            "source": [
                "var reportingYear = 2021; ",
                "\nvar reportingMonth = 3;"
            ],
            "metadata": {},
            "execution_count": 0,
            "outputs": []
        },
        {
            "cell_type": "markdown",
            "source": [
                "# Fulfilment Cash Flow (FCF)"
            ],
            "metadata": {},
            "execution_count": 0,
            "outputs": []
        },
        {
            "cell_type": "markdown",
            "source": [
                "We start by looking at the Fulfilment Cash Flows (FCF). Data and results for both cases are exactly the same."
            ],
            "metadata": {},
            "execution_count": 0,
            "outputs": []
        },
        {
            "cell_type": "code",
            "source": [
                "var fulfillmentCashflows = ifrs17.FulfillmentCashflows;",
                "\nfulfillmentCashflows.ReportingNode = \"CH\";",
                "\nfulfillmentCashflows.ReportingPeriod = (reportingYear, reportingMonth);",
                "\nfulfillmentCashflows.ColumnSlices = new string[]{\"GroupOfContract\",\"EstimateType\"};",
                "\nfulfillmentCashflows.DataFilter = null;",
                "\n(await fulfillmentCashflows.ToReportAsync) with {Height = 750}"
            ],
            "metadata": {},
            "execution_count": 0,
            "outputs": []
        },
        {
            "cell_type": "markdown",
            "source": [
                "# Written Actuals"
            ],
            "metadata": {},
            "execution_count": 0,
            "outputs": []
        },
        {
            "cell_type": "markdown",
            "source": [
                "Aslo the Actuals for both cases are exactly the same."
            ],
            "metadata": {},
            "execution_count": 0,
            "outputs": []
        },
        {
            "cell_type": "code",
            "source": [
                "var writtenActual = ifrs17.WrittenActuals;",
                "\nwrittenActual.ReportingNode = \"CH\";",
                "\nwrittenActual.ReportingPeriod = (reportingYear, reportingMonth);",
                "\nwrittenActual.ColumnSlices = new string[]{\"GroupOfContract\"};",
                "\nwrittenActual.DataFilter =  null;",
                "\n(await writtenActual.ToReportAsync) with {Height = 400}"
            ],
            "metadata": {},
            "execution_count": 0,
            "outputs": []
        },
        {
            "cell_type": "markdown",
            "source": [
                "# LRC Technical Margin (TM)",
                "\n",
                "\nIn the Technical Margin report we present a unified view on the figures that are allocated to either Contractual Service Margin or to Loss Component. ",
                "\n",
                "\nA negative value for Technical Margin correspond to an Asset character and thus allocated to the CSM. Conversely, a positive value of the Technical Margin represents a Liability character, which is then allocated to Loss Component.  ",
                "\n",
                "\nAn Analysis of Change (AoC) report allows one to explain how the closing value (EoP) is obtained from the opening value (BoP). Each change to the previous value (i.e. a delta) is captured in its dedicated AoC Step (Model Correction, Experience Variance, ...).",
                "\nAt each AoC step, the Technical Margin is recognized as Asset-like or Liability-like according to the sign of the accumulation (aggregation) of all figures of the Technical Margin starting from the opening (BoP) to a given AoC step in the chain.",
                "\n",
                "\nThrough the AoC steps it is possible that such aggregation of the Technical Margin oscillates from positive to negative and vice versa several times. How the Technical Margin figures are then allocated to CSM or LC is controlled by the implementation of the **switch logic**.",
                "\n",
                "\nAs we can see below, at this point, the Technical Margin is still the same for both cases considered, as no allocation to either CSM or LC is performed (i.e. the switch logic).",
                "\n",
                "\nWe also notice that the opening balance (BoP) has the same sign as the closing balance (EoP), thus one would not expect any switch intuitively.",
                "\n",
                "\nHowever, in this calculation approach the Technical Margin is calculated independently for each novelty (In Force and New Business) and the expected closing balance by novelty have opposite signs. While the In Force is always negative, the New Business is always positive.",
                "\n",
                "\nOnce the novelties are combined, we must look at the result of all contributions together. In our example, the In Force contribution is larger in magnitude than the New Business, thus the combined effect should be negative.",
                "\nSince the AoC Steps for combined novelties are still not large enough to change the sign (in this case the Experience Adjustment), the closing balance remains negative.  "
            ],
            "metadata": {},
            "execution_count": 0,
            "outputs": []
        },
        {
            "cell_type": "code",
            "source": [
                "var technicalMargins = ifrs17.TechnicalMargins;",
                "\ntechnicalMargins.ReportingNode = \"CH\";",
                "\ntechnicalMargins.ReportingPeriod = (reportingYear, reportingMonth);",
                "\ntechnicalMargins.ColumnSlices = new string[]{\"GroupOfContract\"};",
                "\ntechnicalMargins.DataFilter = null;",
                "\n(await technicalMargins.ToReportAsync) with {Height = 600}"
            ],
            "metadata": {},
            "execution_count": 0,
            "outputs": []
        },
        {
            "cell_type": "markdown",
            "source": [
                "# Contractual Service Margin / Loss Component",
                "\n",
                "\nHere, we show the result of two different implementations of the **switch logic** for the two GICs we are considering.",
                "\n",
                "\n- **MZ 1.1 Multiple Switches**: it is calculated with our standard methodology (**multiple switches**) which allows to switch at every AoC Step with no limitation of amount of switches. ",
                "\n- **MZ 1.2 Single Switch**: it is calculated with a switch logic (**single switch**) that shows only one switch when the number of total switches is odd (last relevant switch), none otherwise. ",
                "\n",
                "\nBecause only the New Business figures drive the Technical Margin to the Liability side, one can immediately realize the main difference between these two switch choices.",
                "\nMZ 1.2 does not recognize any Loss Component, as in practice the Technical Margin at the Beginning of Period has the same sign as at the End of Period (both negative).",
                "\n",
                "\nIn this case the **single switch** (MZ 1.2) logic does not show any switch as both opening and closing figures are negative. The New Business contributions are then forced on the CSM side of this report with a negative sign to reflect the fact that they are decreasing the value. ",
                "\n",
                "\nContrarily, the **multiple switches** (MZ 1.1) approach allows the New Business to be recognized in the Loss Component (as mentioned above, because we consider the novelties independently). This generates a discrepancy between the In Force (Asset-like allocated to the CSM) and New Business (Liability-like allocated to the Loss Component).",
                "\nThis is resolved in the Combined section of the report where both In Force and New Business figures are considered together.",
                "\nThe Combined Liability AoC Step takes care of adding the two contributions, releasing the Liability-like contributions and allocating the equivalent amount to the CSM. "
            ],
            "metadata": {},
            "execution_count": 0,
            "outputs": []
        },
        {
            "cell_type": "code",
            "source": [
                "var allocatedTechnicalMargins = ifrs17.AllocatedTechnicalMargins;",
                "\nallocatedTechnicalMargins.ReportingNode = \"CH\";",
                "\nallocatedTechnicalMargins.ReportingPeriod = (reportingYear, reportingMonth);",
                "\nallocatedTechnicalMargins.ColumnSlices = new string[]{\"GroupOfContract\", \"EstimateType\"};",
                "\nallocatedTechnicalMargins.DataFilter = null;",
                "\n(await allocatedTechnicalMargins.ToReportAsync) with {Height = 700}"
            ],
            "metadata": {},
            "execution_count": 0,
            "outputs": []
        },
        {
            "cell_type": "markdown",
            "source": [
                "# LRC Actuarial",
                "\nIn the LRC Balance Sheet view, the two approaches show the same Beginning of Period and End of Period (as expected) and can only be distinguished by looking at the AoC chains in detail, where indeed they behave differently.",
                "\n",
                "\nBy slicing in the data by EstimateType (i.e. the individual contributions to the LRC), we notice that the New Business section of the CSM of MZ 1.1 is completely missing (as it is allocated to the LC).",
                "\nHowever, the Combined Liability AoC Step (effectively a balancing item) in the CSM of MZ 1.1 brings the New Business contribution back to the CSM, netting the effect and restoring the overall closing balance.",
                "\n",
                "\nIn MZ 1.2, since we have never allocated any LC, the New Business contributions appear as negative CSM (as seen in the corresponding report above) and should cancel the FCF for equivalent AoC Steps. Moreover, the Combined Liability AoC Step should be zero, as there is nothing to balance."
            ],
            "metadata": {},
            "execution_count": 0,
            "outputs": []
        },
        {
            "cell_type": "code",
            "source": [
                "var actuarialLrc = ifrs17.ActuarialLrc;",
                "\nactuarialLrc.ReportingNode = \"CH\";",
                "\nactuarialLrc.ReportingPeriod = (reportingYear, reportingMonth);",
                "\nactuarialLrc.ColumnSlices = new string[]{\"GroupOfContract\", \"EstimateType\"};",
                "\nactuarialLrc.DataFilter = null;",
                "\n(await actuarialLrc.ToReportAsync) with {Height = 750}"
            ],
            "metadata": {},
            "execution_count": 0,
            "outputs": []
        },
        {
            "cell_type": "markdown",
            "source": [
                "# Financial Performance",
                "\n",
                "\nAs expected, the *Total comprehensive Income* is the same in both scenarios. ",
                "\n<br> One observes differences in the *Insurance Sevice Result* (ISE) and *Insurance Finance income/Expense* (IFIE) sections. These differences cancel out to produce the same value for *Profit and Loss*. The *Other Comprehensive Income* section reports the same figure in both scenarios. ",
                "\n",
                "\nDrilling down into the data granularity one can realize the source of the above mentioned differences. ",
                "\n<br>  Let's start from the IFIE contribution (Financial contributions): ",
                "\n- MZ 1.1 explicitly recognizes a contribution to Loss Component: this is the interest accretion on the Liability side of the Techinical Margin. Contrarily, MZ 1.2 does not recognizes any Loss Component. ",
                "\n- MZ 1.1 reports a bigger figure for CSM than MZ 1.2: this is because in MZ 1.2 the interest on the Asset and on the Liability are both allocated to CSM and reported here as summed up (they carry opposite sign - check the CSM/LC report above).",
                "\n",
                "\nContinuing with the ISE contribution, one sees that both *Insurance Revenue* and *Insurance service Expense* carries a difference between the two scenarios. ",
                "\n- The difference in *Insurance service Expense* is due to having explicitly allocated the New Business of the Techinical Margin to Loss Component. In this item the financial step (such as Interest Accretion (IA)) is excluded. Thus, because overall the Loss amounts to 0, the net effect of summing all the movements except IA result in $-$IA. This term cancels out the LC contribution reported in the Financial section. ",
                "\n- The difference in *Insurance Revenue* is produced by the CSM contribution to the *Non Financial LRC changes*. The MZ 1.1 GIC includes here the Combined Liability AoC Step which takes into account the contribution of the IA computed on the New Business (Liability-like).",
                "\n",
                "\nIt is worth to mention that our choice of splitting between financial and non-financial contributions for all figures reported in the Financial Performance creates additional items (rows) that cancel out when aggregated. While for some it might be confusing and counter intuitive, for others this adds transparency. ",
                "\nWe acknowledge that without this split for the Loss Component part, the Financial Performance would not report such items, producing the same final figures without explicit showing any Loss Component contribution.",
                "\n",
                "\nWe also point out that many KPIs can be defined based on some of these figures (CSM and/or LC), and although the Financial Performance in the end is the same, some of these KPIs might look significantly different."
            ],
            "metadata": {},
            "execution_count": 0,
            "outputs": []
        },
        {
            "cell_type": "code",
            "source": [
                "var financialPerformance = ifrs17.FinancialPerformance;",
                "\nfinancialPerformance.ReportingNode = \"CH\";",
                "\nfinancialPerformance.ReportingPeriod = (reportingYear, reportingMonth);",
                "\nfinancialPerformance.ColumnSlices = new string[]{\"GroupOfContract\"};",
                "\nfinancialPerformance.DataFilter = null;",
                "\n(await financialPerformance.ToReportAsync) with { Height = 900, GroupDefaultExpanded = 3}"
            ],
            "metadata": {},
            "execution_count": 0,
            "outputs": []
        },
        {
            "cell_type": "code",
            "source": [
                ""
            ],
            "metadata": {},
            "execution_count": 0,
            "outputs": []
        }
    ]
}