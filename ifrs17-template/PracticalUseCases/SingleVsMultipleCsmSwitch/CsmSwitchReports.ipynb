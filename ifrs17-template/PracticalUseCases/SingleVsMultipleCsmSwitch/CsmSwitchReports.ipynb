{
    "metadata": {
        "authors": [],
        "kernelspec": {
            "display_name": "Formula Framework",
            "language": "C#",
            "name": "C#"
        },
        "language_info": {
            "file_extension": ".cs",
            "mimetype": "text/plain",
            "name": "C#"
        },
        "toc-autonumbering": "True",
        "toc-showcode": "False"
    },
    "nbformat": 4,
    "nbformat_minor": 5,
    "cells": [
        {
            "cell_type": "markdown",
            "source": [
                "<p style=\"font-weight:bold;\"> <span style=\"font-size: 36px\"> Contractual Service Margin and Loss Component Switch</span> </p>",
                "\n",
                "\n<p style=\"font-weight:bold;\"> <span style=\"font-size: 21px\"> Impact of the switch logic to Financial Performance and Balance Sheet</span> </p>"
            ],
            "metadata": {},
            "execution_count": 0,
            "outputs": []
        },
        {
            "cell_type": "markdown",
            "source": [
                "In this case study we look at allocation of Technical Margin to Contractual Service Margin (CSM) and Loss Component (LC) and its impact on the Financial Performance and Balance Sheet. ",
                "\n<br> In particular, we are going to consider two possible implementation for the **switch logic** which controls how the allocation of technical margin swithces from CSM to LC and viceversa throughout the Analysis of Change (AoC). ",
                "\n",
                "\nIn practice, we consider two hypothetical GICs with the same parameters, modelled cash flows, actuals and we will look at the results obtained applying two different implementation of the **switch logic** and its implication to Financial figures.",
                "\n",
                "\n - **MZ 1.1 Multiple Switches**: the allocation of the Technical Margin to either CSM or LC can happen at any AoC Step. This means multiple switches can be observed, whenever the Technical Margin changes sign.",
                "\n - **MZ 1.2 Single Switch**: the allocation of the Technical Margin to either CSM or LC can happen only once. This means only if there is an effective switch (i.e. the technical margin changes sign between the Beginning of Period (BoP) and End of Period (EoP)), a switch is observed.",
                "\n",
                "\nWe will look at the reports for the first quarter of year 2021 (2021 3)."
            ],
            "metadata": {},
            "execution_count": 0,
            "outputs": []
        },
        {
            "cell_type": "markdown",
            "source": [
                "# Data Import"
            ],
            "metadata": {},
            "execution_count": 0,
            "outputs": []
        },
        {
            "cell_type": "code",
            "source": [
                "#!import \"CsmSwitchDataImport\""
            ],
            "metadata": {},
            "execution_count": 0,
            "outputs": []
        },
        {
            "cell_type": "code",
            "source": [
                "var reportingYear = 2021; ",
                "\nvar reportingMonth = 3;"
            ],
            "metadata": {},
            "execution_count": 0,
            "outputs": []
        },
        {
            "cell_type": "markdown",
            "source": [
                "# Fulfilment Cash Flow"
            ],
            "metadata": {},
            "execution_count": 0,
            "outputs": []
        },
        {
            "cell_type": "markdown",
            "source": [
                "We start by looking at the Fulfilment Cash Flows. Data for both cases are exactly the same."
            ],
            "metadata": {},
            "execution_count": 0,
            "outputs": []
        },
        {
            "cell_type": "code",
            "source": [
                "var fulfillmentCashflows = ifrs17.FulfillmentCashflows;",
                "\nfulfillmentCashflows.ReportingNode = \"CH\";",
                "\nfulfillmentCashflows.ReportingPeriod = (reportingYear, reportingMonth);",
                "\nfulfillmentCashflows.ColumnSlices = new string[]{\"GroupOfContract\",\"EstimateType\"};",
                "\nfulfillmentCashflows.DataFilter = null;",
                "\n(await fulfillmentCashflows.ToReportAsync) with {Height = 750}"
            ],
            "metadata": {},
            "execution_count": 0,
            "outputs": []
        },
        {
            "cell_type": "markdown",
            "source": [
                "# Written Actuals"
            ],
            "metadata": {},
            "execution_count": 0,
            "outputs": []
        },
        {
            "cell_type": "markdown",
            "source": [
                "Aslo the Actuals for both cases are exactly the same."
            ],
            "metadata": {},
            "execution_count": 0,
            "outputs": []
        },
        {
            "cell_type": "code",
            "source": [
                "var writtenActual = ifrs17.WrittenActuals;",
                "\nwrittenActual.ReportingNode = \"CH\";",
                "\nwrittenActual.ReportingPeriod = (reportingYear, reportingMonth);",
                "\nwrittenActual.ColumnSlices = new string[]{\"GroupOfContract\"};",
                "\nwrittenActual.DataFilter =  null;",
                "\n(await writtenActual.ToReportAsync) with {Height = 400}"
            ],
            "metadata": {},
            "execution_count": 0,
            "outputs": []
        },
        {
            "cell_type": "markdown",
            "source": [
                "# LRC Technical Margin (TM)",
                "\n",
                "\nIn the Technical Margin report we present a unified view on the figures that are allocated to either Contractual Service Margin or to Loss Component. ",
                "\n<br> The Analysis of Change is expanded with few more steps such as **Experience Adjustment** and **Amortization**.",
                "\n",
                "\n",
                "\nA negative value for Technical Margin correspond to an Asset and thus allocated to the CSM. Conversely, a positive value of the Technical Margin represents a Liability, which is then allocated to Loss Component.  ",
                "\n",
                "\nAn Analysis of Change report allows one to explain how the closing figure is obtained from the opening value and from each and every change to it captured in an individual step (Model Correction, Release, ...). At each AoC step, the Technical Margin is recognized as Asset or Liability by looking at the sign of the aggregation of all the figures of the Technical Margin starting from the Opening to a given AoC step.",
                "\n",
                "\nThrough the Analysis of Change steps it is possible that such aggregation of the Technical Margin oscillates from positive to negative and viceversa several times. How the Technical Margin figures are then allocated to CSM/LC is controlled by the implementation of the **switch logic**."
            ],
            "metadata": {},
            "execution_count": 0,
            "outputs": []
        },
        {
            "cell_type": "code",
            "source": [
                "var technicalMargins = ifrs17.TechnicalMargins;",
                "\ntechnicalMargins.ReportingNode = \"CH\";",
                "\ntechnicalMargins.ReportingPeriod = (reportingYear, reportingMonth);",
                "\ntechnicalMargins.ColumnSlices = new string[]{\"GroupOfContract\"};",
                "\ntechnicalMargins.DataFilter = null;",
                "\n(await technicalMargins.ToReportAsync) with {Height = 600}"
            ],
            "metadata": {},
            "execution_count": 0,
            "outputs": []
        },
        {
            "cell_type": "markdown",
            "source": [
                "# Contractual Service Margin / Loss Component / Loss Recovery Component",
                "\n",
                "\nThe Contractual Service Margin (CSM) / Loss Component (LC) / Loss Recovery Component (LR) [report](https://portal.systemorph.cloud/project/ifrs17/env/v1.0.0/Report/ReportScopes#technical-margin) are here shown side by side as the allocation to profit or loss is done at each step of the Analysis of Change. ",
                "\n",
                "\nHere, we show the result of two different implementations of the **switch logic** for the two Group of Insurance contract we are considering. ",
                "\n<br> Group of Insurance contract called \"MZ1.1\" is calculated with our standard methodology (**Many switches**) which allows to switch at every AoC Step with no limitation of amount of switches. ",
                "\n<br> Group of Insurance contract called \"MZ1.2\" is calculated with a switch logic (**One switch**) that shows only one switch when the number of total switches is odd, none otherwise. ",
                "\n",
                "\nBecause only the New Business figures drive the technical margin to the Liability side, one can immediately realize the main difference between these two switch choices: ",
                "\n<br> MZ1.2 does not recognize any Loss Component.",
                "\n",
                "\nIn this case the **One switch** logic does not show any switch as both opening and closing figures are assets. The New Business contributions are then forced on the CSM side of this report with a negative sign to reflect the fact that they are decreasing the asset. ",
                "\n",
                "\nContrarily, the **Many switches** approach allows the New Business to be recognized in the Loss component. This generates a discrepancy between the In Force (asset allocated to the CSM) and New Business (Liability allocated to the Loss Component). This is resolved in the Combined section of the report where both In Force and New Business figures are considered. The Combined Liability AoC Step takes care of adding the two contributions together cancelling the Liability contributions and allocating the equivalent amount to the CSM. "
            ],
            "metadata": {},
            "execution_count": 0,
            "outputs": []
        },
        {
            "cell_type": "code",
            "source": [
                "var allocatedTechnicalMargins = ifrs17.AllocatedTechnicalMargins;",
                "\nallocatedTechnicalMargins.ReportingNode = \"CH\";",
                "\nallocatedTechnicalMargins.ReportingPeriod = (reportingYear, reportingMonth);",
                "\nallocatedTechnicalMargins.ColumnSlices = new string[]{\"GroupOfContract\", \"EstimateType\"};",
                "\nallocatedTechnicalMargins.DataFilter = null;",
                "\n(await allocatedTechnicalMargins.ToReportAsync) with {Height = 700}"
            ],
            "metadata": {},
            "execution_count": 0,
            "outputs": []
        },
        {
            "cell_type": "markdown",
            "source": [
                "# LRC Actuarial",
                "\n",
                "\nThe [Actuarial Liability for Remaining Coverage](https://portal.systemorph.cloud/project/ifrs17/env/v1.0.0/Report/ReportScopes#lrc-actuarial-actuarial-liability-for-remaining-coverage) report shows figures from Fulfilment Cash flow discounted with current yield curve, and the allocated techinical margin. ",
                "\n",
                "\nIn the Balance Sheet view the two approaches can be distinguished only by slicing in the data by EstimateType and noticing that New Business section of the CSM for MZ1.1 is completely missing (as it is allocated to the LC). Note that the same closing balance is reached in both cases as the Combined Liability AoC Step in the CSM for MZ1.1 brings the New Business contribution to the CSM. "
            ],
            "metadata": {},
            "execution_count": 0,
            "outputs": []
        },
        {
            "cell_type": "code",
            "source": [
                "var actuarialLrc = ifrs17.ActuarialLrc;",
                "\nactuarialLrc.ReportingNode = \"CH\";",
                "\nactuarialLrc.ReportingPeriod = (reportingYear, reportingMonth);",
                "\nactuarialLrc.ColumnSlices = new string[]{\"GroupOfContract\", \"EstimateType\"};",
                "\nactuarialLrc.DataFilter = null;",
                "\n(await actuarialLrc.ToReportAsync) with {Height = 750}"
            ],
            "metadata": {},
            "execution_count": 0,
            "outputs": []
        },
        {
            "cell_type": "markdown",
            "source": [
                "# Financial Performance",
                "\n",
                "\nThe [Financial Performance](https://portal.systemorph.cloud/project/ifrs17/env/v1.0.0/Report/ReportScopes#ifrs-17-financial-performance) report discloses the Change in Estimate of the IFRS 17 balance sheet items ([LRC](#lrc) and [LIC](#lic)) and the relevant incurred cash flows (Premiums, Claims, Expenses, etc...) for the given period.",
                "\n",
                "\nAs expected, the *Total comprehensive Income* is the same in both scenarios. ",
                "\n<br> One observes differences in the *Insurance Sevice Result* (ISE) and *Insurance Finance income/Expense* (IFIE) sections of 0.0326 and -0.0326 respectively. These differences cancel out to produce the same value for *Profit and Loss*. The *Other Comprehensive Income* section reports the same figure in both scenarios. ",
                "\n",
                "\nDrilling down into the data granularity one can realize the source of the above mentioned differences. ",
                "\n<br>  Let's start from the IFIE contribution (Financial contributions): ",
                "\n- MZ1.1 esplicitly recognizes a contribution to loss: -0.0163 this is the interest accretion on the liability side of the techinical margin. Contrarily, MZ1.2 does not recognizes any loss. ",
                "\n- MZ1.1 reports a bigger figure for CSM than MZ1.2 this is because in MZ1.2 the interest on the asset and on the liability are both allocated to CSM and reported here as summed up (they carry opposite sign - check [CSM report](#contractual-service-margin-loss-component-loss-recovery-component)).",
                "\n",
                "\nContinuing with the ISE contribution, one sees that both *Insurance Revenue* and *Insurance service Expense* carries a difference of 0.0163 between the two scenarios. ",
                "\n- The difference in *Insurance service Expense* is due to having explicitly allocated the New Business of the TM to Loss Component. In this item the financial step (such as IA) is excluded. Thus, because overall the Loss amount to 0 the net effect of summing all the movements but IA result in $-$IA. This term cancels out the LC contribution reported in the Financial section. ",
                "\n- The difference in *Insurance Revenue* is produced by the CSM contribution to the *Non Financial LRC changes*. The MZ1.1 Group of Insurance Contract includes here the Combined Liability AoC Step which includes the contribution of the IA computed on the New Business (Liability).",
                "\n",
                "\n",
                "\nWorth to mention is how the choice of splitting between financial and non-financial contribution all figures reported in the Financial Performance makes explicit many contributions which finally cancel out but contribute to a trasparent report. ",
                "\n<br> We recognize that without this split on the Loss Component part the financial performance would not report any contribution to Loss. Just by splitting the CSM in financial and non-financial contributions would produce the same final figure without explicit reporting of the liability. "
            ],
            "metadata": {},
            "execution_count": 0,
            "outputs": []
        },
        {
            "cell_type": "code",
            "source": [
                "var financialPerformance = ifrs17.FinancialPerformance;",
                "\nfinancialPerformance.ReportingNode = \"CH\";",
                "\nfinancialPerformance.ReportingPeriod = (reportingYear, reportingMonth);",
                "\nfinancialPerformance.ColumnSlices = new string[]{\"GroupOfContract\"};",
                "\nfinancialPerformance.DataFilter = null;",
                "\n(await financialPerformance.ToReportAsync) with { Height = 900, GroupDefaultExpanded = 3}"
            ],
            "metadata": {},
            "execution_count": 0,
            "outputs": []
        },
        {
            "cell_type": "code",
            "source": [
                ""
            ],
            "metadata": {},
            "execution_count": 0,
            "outputs": []
        }
    ]
}