{
    "metadata": {
        "authors": [],
        "id": "YGWMnwRniU64QZaE1oBrFw",
        "kernelspec": {
            "display_name": "Formula Framework",
            "language": "C#",
            "name": "C#"
        },
        "language_info": {
            "file_extension": ".cs",
            "mimetype": "text/plain",
            "name": "C#"
        }
    },
    "nbformat": 4,
    "nbformat_minor": 5,
    "cells": [
        {
            "cell_type": "markdown",
            "source": [
                "<p style=\"font-weight:bold;\"> <span style=\"font-size: 36px\">Contractual Service Margin and Loss Component Switch Data Import</span> </p>"
            ],
            "metadata": {},
            "execution_count": 0,
            "outputs": []
        },
        {
            "cell_type": "markdown",
            "source": [
                "This is the Data Import notebook for the Contractual Service Margin and Loss Component Switch case.",
                "\n"
            ],
            "metadata": {},
            "execution_count": 0,
            "outputs": []
        },
        {
            "cell_type": "markdown",
            "source": [
                "# Set up and data import"
            ],
            "metadata": {},
            "execution_count": 0,
            "outputs": []
        },
        {
            "cell_type": "markdown",
            "source": [
                "## Reference Data and Parameters"
            ],
            "metadata": {},
            "execution_count": 0,
            "outputs": []
        },
        {
            "cell_type": "code",
            "source": [
                "#!import \"../../Initialization/InitSystemorphRefDataToMemory\""
            ],
            "metadata": {},
            "execution_count": 0,
            "outputs": []
        },
        {
            "cell_type": "markdown",
            "source": [
                "## Data Nodes"
            ],
            "metadata": {},
            "execution_count": 0,
            "outputs": []
        },
        {
            "cell_type": "code",
            "source": [
                "await Import.FromFile(\"DataNodes_CsmSwitch_CH.csv\")",
                "\n            .WithFormat(ImportFormats.DataNode)",
                "\n            .WithTarget(DataSource)",
                "\n            .WithActivityLog()",
                "\n            .ExecuteAsync()"
            ],
            "metadata": {},
            "execution_count": 0,
            "outputs": []
        },
        {
            "cell_type": "code",
            "source": [
                "await Import.FromFile(\"DataNodeStates_CsmSwitch_CH_2020_12.csv\")",
                "\n            .WithFormat(ImportFormats.DataNodeState)",
                "\n            .WithTarget(DataSource)",
                "\n            .WithActivityLog()",
                "\n            .ExecuteAsync()"
            ],
            "metadata": {},
            "execution_count": 0,
            "outputs": []
        },
        {
            "cell_type": "code",
            "source": [
                "await Import.FromFile(\"DataNodeParameters_CsmSwitch_CH_2020_12.csv\")",
                "\n            .WithFormat(ImportFormats.DataNodeParameter)",
                "\n            .WithTarget(DataSource)",
                "\n            .WithActivityLog()",
                "\n            .ExecuteAsync()"
            ],
            "metadata": {},
            "execution_count": 0,
            "outputs": []
        },
        {
            "cell_type": "markdown",
            "source": [
                "## Transactional Data"
            ],
            "metadata": {},
            "execution_count": 0,
            "outputs": []
        },
        {
            "cell_type": "markdown",
            "source": [
                "### importing first GIC: 2020 12 for fully retrospective calculation and 2021 3 for the current calculation"
            ],
            "metadata": {},
            "execution_count": 0,
            "outputs": []
        },
        {
            "cell_type": "code",
            "source": [
                "await Import.FromFile(\"NominalCashflows_CsmSwitch_CH_2020_12.csv\")",
                "\n            .WithFormat(ImportFormats.Cashflow)",
                "\n            .WithTarget(DataSource)",
                "\n            .WithActivityLog()",
                "\n            .ExecuteAsync()"
            ],
            "metadata": {},
            "execution_count": 0,
            "outputs": []
        },
        {
            "cell_type": "code",
            "source": [
                "await Import.FromFile(\"Actuals_CsmSwitch_CH_2020_12.csv\")",
                "\n            .WithFormat(ImportFormats.Actual)",
                "\n            .WithTarget(DataSource)",
                "\n            .WithActivityLog()",
                "\n            .ExecuteAsync()"
            ],
            "metadata": {},
            "execution_count": 0,
            "outputs": []
        },
        {
            "cell_type": "code",
            "source": [
                "await Import.FromFile(\"NominalCashflows_CsmSwitch_CH_2021_3.csv\")",
                "\n            .WithFormat(ImportFormats.Cashflow)",
                "\n            .WithTarget(DataSource)",
                "\n            .WithActivityLog()",
                "\n            .ExecuteAsync()"
            ],
            "metadata": {},
            "execution_count": 0,
            "outputs": []
        },
        {
            "cell_type": "code",
            "source": [
                "await Import.FromFile(\"Actuals_CsmSwitch_CH_2021_3.csv\")",
                "\n            .WithFormat(ImportFormats.Actual)",
                "\n            .WithTarget(DataSource)",
                "\n            .WithActivityLog()",
                "\n            .ExecuteAsync()"
            ],
            "metadata": {},
            "execution_count": 0,
            "outputs": []
        },
        {
            "cell_type": "markdown",
            "source": [
                "### importing second GIC: 2020 12 and 2021 3 as pre-calculated values"
            ],
            "metadata": {},
            "execution_count": 0,
            "outputs": []
        },
        {
            "cell_type": "code",
            "source": [
                "await Import.FromFile(\"SimpleValue_CsmSwitch_CH_2020_12.csv\")",
                "\n            .WithFormat(ImportFormats.SimpleValue)",
                "\n            .WithTarget(DataSource)",
                "\n            .WithActivityLog()",
                "\n            .ExecuteAsync()"
            ],
            "metadata": {},
            "execution_count": 0,
            "outputs": []
        },
        {
            "cell_type": "code",
            "source": [
                "await Import.FromFile(\"SimpleValue_CsmSwitch_CH_2021_3.csv\")",
                "\n            .WithFormat(ImportFormats.SimpleValue)",
                "\n            .WithTarget(DataSource)",
                "\n            .WithActivityLog()",
                "\n            .ExecuteAsync()"
            ],
            "metadata": {},
            "execution_count": 0,
            "outputs": []
        },
        {
            "cell_type": "markdown",
            "source": [
                "# Initialize Workspace"
            ],
            "metadata": {},
            "execution_count": 0,
            "outputs": []
        },
        {
            "cell_type": "code",
            "source": [
                "Workspace.Reset(x => x.ResetInitializationRules().ResetCurrentPartitions());",
                "\nWorkspace.InitializeFrom(DataSource);"
            ],
            "metadata": {},
            "execution_count": 0,
            "outputs": []
        },
        {
            "cell_type": "code",
            "source": [
                ""
            ],
            "metadata": {},
            "execution_count": 0,
            "outputs": []
        }
    ]
}