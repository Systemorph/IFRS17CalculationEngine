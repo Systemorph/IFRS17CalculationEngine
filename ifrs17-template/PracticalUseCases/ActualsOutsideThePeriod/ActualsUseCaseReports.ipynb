{
    "metadata": {
        "authors": [],
        "id": "Z8P8Xunhp0ynikLIE1omWQ",
        "kernelspec": {
            "display_name": "Formula Framework",
            "language": "C#",
            "name": "C#"
        },
        "language_info": {
            "file_extension": ".cs",
            "mimetype": "text/plain",
            "name": "C#"
        }
    },
    "nbformat": 4,
    "nbformat_minor": 5,
    "cells": [
        {
            "cell_type": "markdown",
            "source": [
                "<p style=\"font-weight:bold;\"> <span style=\"font-size: 36px\">  Actuals Outside the Period</span> </p>",
                "\n",
                "\n<p style=\"font-weight:bold;\"> <span style=\"font-size: 21px\"> Written vs Effective Cashflows (Gross business)</span> </p>"
            ],
            "metadata": {},
            "execution_count": 0,
            "outputs": []
        },
        {
            "cell_type": "markdown",
            "source": [
                "Usually, actuarial cashflows for portfolio valuations are modelled on a \"due\" or \"written\" basis, meaning they are derived from the corresponding contractual obligations.",
                "\nHowever, it is normal that the effective cashflows will not exactly follow the expected written ones and will therefore fall outside the reporting period.",
                "\n",
                "\nIn this case study we look at the effects of cashflows happening outside the expected reporting period, also referred to as Payables and Receivables in accounting language. The reconciliation between the written and effective cashflows is usually handled by the Actuals. This reconciliation must be taken into account, since the IFRS 17 Standard requires insurance liabilities to be measured according to the effective cashflows.",
                "\n",
                "\nWe can try to summarize the cases for In Advance and Overdue actuals in a table. On the colums we define the due date of the payments in relation to the reporting period, and in the rows we define the effective date of the payments in relation to the reporting period. If we exclude the write off (WO) for now, we are left with the following possibilities:",
                "\n",
                "\n<br>",
                "\n",
                "\n|                                                               | **payment due date<br>before the reporting period**                                                                     | **payment due date<br>in the reporting period**                                                                              | **payment due date<br>after the reporting period**                                                             |",
                "\n|---------------------------------------------------------------|-------------------------------------------------------------------------------------------------------------------------|------------------------------------------------------------------------------------------------------------------------------|----------------------------------------------------------------------------------------------------------------|",
                "\n| **payment effective date<br>before the reporting period**     | not relevant for this reporting period<br>*both due and effective payment dates are in the past*                        | release of balance sheet in advance position (-CF_A)<br>*payment due in this period already settled in previous periods*     | existing in advance balance<br>*remaining in advance reserve from previous periods and payment is not due yet* |",
                "\n| **payment effective date<br>in the reporting period**         | release of balance sheet overdue position (-CF_O)<br>*overdue payment from previous periods settled in this period*     | neither in advance nor overdue balance<br>*the due and effective payment dates fall within the reporting period*             | increase of balance sheet in advance position (CF_A)<br>*payment settled in this period is not due yet*        |",
                "\n| **payment effective date<br>after the reporting period**      | unchanged overdue balance<br>*existing overdue reserve from previous periods and payment has not been settled*          | increase of balance sheet overdue position (CF_O)<br>*payment due in this period has not been settled*                       | not relevant for this reporting period<br>*both due and effective payment dates are in the future*             |",
                "\n",
                "\n<br>",
                "\n",
                "\nWrite off (WO) of the Receivables (In Advance Claims and Overdue Premimus for Gross business) would also release the balance like the corresponding entries in the table above (-CF_A and -CF_O). However, while the releases shown in the table above do not impact the Financial Performance, written off amounts will. ",
                "\n",
                "\nWe will now look at a few scenarios in reference to a base case. We have modelled 3 reporting periods (2020 12, 2021 6 and 2021 12, where the first number is the reporting year and the second is the reporting month) and assume we start with only New Business in the beginning of 2020 and the portfolio completely runs-off in the end of 2021. In summary:",
                "\n",
                "\n- **2020 12**: End of year reporting for the first year: we see New Business coming in and the corresponding model adjustments for future services. We also introduce the outstanding Payables and Receivables according to the scenarios.",
                "\n- **2021  6**: Mid year reporting for the second year: we see the development of the GIC for half a year. Some New Businss stills comes in. We also see how Payables and Receivables have changed.",
                "\n- **2021 12**: End of year for the second year: we see the GIC goes into run-off and all liabilities should be relseased. This also applies to the outstanding balance for Payables and Receivables, which are completely released with settlement payments or write offs. ",
                "\n",
                "\nWe are modelling the Gross case and have defined the following GICs (Valuation Approach is BBA):",
                "\n",
                "\n - **MZ 2.1 Written**: all cashflows for this GIC follow exactly the written cashflows expected in the atuarial model. It is our base case.",
                "\n - **MZ 2.2 OA Premium**: in this case the **Premium is overdue** in the 1st reporting period (**Receivable Premium**). In the subsequent periods, some is received and some is written off.",
                "\n - **MZ 2.3 AA Claim**: in this case the **Claim is paid in advance** in the 1st reporting period (**Receivable Claim**). In the subsequent periods, some is received and some is written off.",
                "\n - **MZ 2.4 AA Premium / OA Claim**: in this case we have received **Premium in advance** (**Payable Premium**), and also have an **overdue Claim** payment (**Payable Claim**). In the subsequent periods, we have settled the actuals accordingly.",
                "\n",
                "\nThe only difference between all cases is the timing of the effective cashflows (paid in advance and overdue actuals), with all other inputs and parameters exctly the same. For simplicity, we only added Premium and Claims (Non Investment Component) amount types.",
                "\n"
            ],
            "metadata": {},
            "execution_count": 0,
            "outputs": []
        },
        {
            "cell_type": "markdown",
            "source": [
                "# Data Import"
            ],
            "metadata": {},
            "execution_count": 0,
            "outputs": []
        },
        {
            "cell_type": "markdown",
            "source": [
                "We call the ActualsUseCaseDataImport notebook, where the data is imported."
            ],
            "metadata": {},
            "execution_count": 0,
            "outputs": []
        },
        {
            "cell_type": "code",
            "source": [
                "#!import \"ActualsUseCaseDataImport\""
            ],
            "metadata": {},
            "execution_count": 0,
            "outputs": []
        },
        {
            "cell_type": "markdown",
            "source": [
                "# Best Estimate Present Value of Cashflows",
                "\n",
                "\n"
            ],
            "metadata": {},
            "execution_count": 0,
            "outputs": []
        },
        {
            "cell_type": "markdown",
            "source": [
                "We start by looking at the Best Estimate Present Value of Cashflows of MZ 2.1 Written (base case) for the 3 reporting periods."
            ],
            "metadata": {},
            "execution_count": 0,
            "outputs": []
        },
        {
            "cell_type": "markdown",
            "source": [
                "## 2020 12"
            ],
            "metadata": {},
            "execution_count": 0,
            "outputs": []
        },
        {
            "cell_type": "code",
            "source": [
                "var pv = ifrs17.PresentValues;",
                "\npv.ReportingNode = \"CH\";",
                "\npv.ReportingPeriod = (2020, 12);",
                "\npv.CurrencyType = CurrencyType.Contractual;",
                "\npv.ColumnSlices = new string[]{\"GroupOfContract\", \"AmountType\"};",
                "\npv.DataFilter = new []{ (\"GroupOfContract\", \"MZ2.1\") };",
                "\n(await pv.ToReportAsync) with {Height = 720}"
            ],
            "metadata": {},
            "execution_count": 0,
            "outputs": []
        },
        {
            "cell_type": "markdown",
            "source": [
                "## 2021 6"
            ],
            "metadata": {},
            "execution_count": 0,
            "outputs": []
        },
        {
            "cell_type": "code",
            "source": [
                "var pv = ifrs17.PresentValues;",
                "\npv.ReportingNode = \"CH\";",
                "\npv.ReportingPeriod = (2021, 6);",
                "\npv.CurrencyType = CurrencyType.Contractual;",
                "\npv.ColumnSlices = new string[]{\"GroupOfContract\", \"AmountType\"};",
                "\npv.DataFilter = new []{ (\"GroupOfContract\", \"MZ2.1\") };",
                "\n(await pv.ToReportAsync) with {Height = 720}"
            ],
            "metadata": {},
            "execution_count": 0,
            "outputs": []
        },
        {
            "cell_type": "markdown",
            "source": [
                "## 2021 12"
            ],
            "metadata": {},
            "execution_count": 0,
            "outputs": []
        },
        {
            "cell_type": "code",
            "source": [
                "var pv = ifrs17.PresentValues;",
                "\npv.ReportingNode = \"CH\";",
                "\npv.ReportingPeriod = (2021, 12);",
                "\npv.CurrencyType = CurrencyType.Contractual;",
                "\npv.ColumnSlices = new string[]{\"GroupOfContract\", \"AmountType\"};",
                "\npv.DataFilter = new []{ (\"GroupOfContract\", \"MZ2.1\") };",
                "\n(await pv.ToReportAsync) with {Height = 720}"
            ],
            "metadata": {},
            "execution_count": 0,
            "outputs": []
        },
        {
            "cell_type": "markdown",
            "source": [
                "# Risk Adjustment"
            ],
            "metadata": {},
            "execution_count": 0,
            "outputs": []
        },
        {
            "cell_type": "markdown",
            "source": [
                "We now look at the Best Estimate Risk Adjustment of MZ 2.1 Written (base case) for the 3 reporting periods."
            ],
            "metadata": {},
            "execution_count": 0,
            "outputs": []
        },
        {
            "cell_type": "markdown",
            "source": [
                "## 2020 12"
            ],
            "metadata": {},
            "execution_count": 0,
            "outputs": []
        },
        {
            "cell_type": "code",
            "source": [
                "var ra = ifrs17.RiskAdjustments;",
                "\nra.ReportingNode = \"CH\";",
                "\nra.ReportingPeriod = (2020, 12);",
                "\nra.ColumnSlices = new string[]{};",
                "\nra.DataFilter = new []{ (\"GroupOfContract\", \"MZ2.1\") };",
                "\n(await ra.ToReportAsync) with {Height = 800}"
            ],
            "metadata": {},
            "execution_count": 0,
            "outputs": []
        },
        {
            "cell_type": "markdown",
            "source": [
                "## 2021 6"
            ],
            "metadata": {},
            "execution_count": 0,
            "outputs": []
        },
        {
            "cell_type": "code",
            "source": [
                "var ra = ifrs17.RiskAdjustments;",
                "\nra.ReportingNode = \"CH\";",
                "\nra.ReportingPeriod = (2021, 6);",
                "\nra.ColumnSlices = new string[]{};",
                "\nra.DataFilter = new []{ (\"GroupOfContract\", \"MZ2.1\") };",
                "\n(await ra.ToReportAsync) with {Height = 800}"
            ],
            "metadata": {},
            "execution_count": 0,
            "outputs": []
        },
        {
            "cell_type": "markdown",
            "source": [
                "## 2021 12"
            ],
            "metadata": {},
            "execution_count": 0,
            "outputs": []
        },
        {
            "cell_type": "code",
            "source": [
                "var ra = ifrs17.RiskAdjustments;",
                "\nra.ReportingNode = \"CH\";",
                "\nra.ReportingPeriod = (2021, 12);",
                "\nra.ColumnSlices = new string[]{};",
                "\nra.DataFilter = new []{ (\"GroupOfContract\", \"MZ2.1\") };",
                "\n(await ra.ToReportAsync) with {Height = 800}"
            ],
            "metadata": {},
            "execution_count": 0,
            "outputs": []
        },
        {
            "cell_type": "markdown",
            "source": [
                "# Fulfilment Cash Flows"
            ],
            "metadata": {},
            "execution_count": 0,
            "outputs": []
        },
        {
            "cell_type": "markdown",
            "source": [
                "The corresponding Fulfilment Cash Flows of MZ 2.1 Written (base case) for the 3 reporting periods are shown below."
            ],
            "metadata": {},
            "execution_count": 0,
            "outputs": []
        },
        {
            "cell_type": "markdown",
            "source": [
                "## 2020 12"
            ],
            "metadata": {},
            "execution_count": 0,
            "outputs": []
        },
        {
            "cell_type": "code",
            "source": [
                "var fulfillmentCashflows = ifrs17.FulfillmentCashflows;",
                "\nfulfillmentCashflows.ReportingNode = \"CH\";",
                "\nfulfillmentCashflows.ReportingPeriod = (2020, 12);",
                "\nfulfillmentCashflows.ColumnSlices = new string[]{\"EstimateType\"};",
                "\nfulfillmentCashflows.DataFilter = new []{ (\"GroupOfContract\", \"MZ2.1\") };",
                "\n(await fulfillmentCashflows.ToReportAsync) with {Height = 750}"
            ],
            "metadata": {},
            "execution_count": 0,
            "outputs": []
        },
        {
            "cell_type": "markdown",
            "source": [
                "## 2021 6"
            ],
            "metadata": {},
            "execution_count": 0,
            "outputs": []
        },
        {
            "cell_type": "code",
            "source": [
                "var fulfillmentCashflows = ifrs17.FulfillmentCashflows;",
                "\nfulfillmentCashflows.ReportingNode = \"CH\";",
                "\nfulfillmentCashflows.ReportingPeriod = (2021, 6);",
                "\nfulfillmentCashflows.ColumnSlices = new string[]{\"EstimateType\"};",
                "\nfulfillmentCashflows.DataFilter = new []{ (\"GroupOfContract\", \"MZ2.1\") };",
                "\n(await fulfillmentCashflows.ToReportAsync) with {Height = 750}"
            ],
            "metadata": {},
            "execution_count": 0,
            "outputs": []
        },
        {
            "cell_type": "markdown",
            "source": [
                "## 2021 12"
            ],
            "metadata": {},
            "execution_count": 0,
            "outputs": []
        },
        {
            "cell_type": "code",
            "source": [
                "var fulfillmentCashflows = ifrs17.FulfillmentCashflows;",
                "\nfulfillmentCashflows.ReportingNode = \"CH\";",
                "\nfulfillmentCashflows.ReportingPeriod = (2021, 12);",
                "\nfulfillmentCashflows.ColumnSlices = new string[]{\"EstimateType\"};",
                "\nfulfillmentCashflows.DataFilter = new []{ (\"GroupOfContract\", \"MZ2.1\") };",
                "\n(await fulfillmentCashflows.ToReportAsync) with {Height = 750}"
            ],
            "metadata": {},
            "execution_count": 0,
            "outputs": []
        },
        {
            "cell_type": "markdown",
            "source": [
                "# Written Actuals"
            ],
            "metadata": {},
            "execution_count": 0,
            "outputs": []
        },
        {
            "cell_type": "markdown",
            "source": [
                "We now look at the Written Actuals of MZ 2.1 Written (base case) for the 3 reporting periods. These actuals are also the same for all cases, as they Written Actuals follow the contractual obligations."
            ],
            "metadata": {},
            "execution_count": 0,
            "outputs": []
        },
        {
            "cell_type": "markdown",
            "source": [
                "## 2020 12"
            ],
            "metadata": {},
            "execution_count": 0,
            "outputs": []
        },
        {
            "cell_type": "code",
            "source": [
                "var writtenActual = ifrs17.WrittenActuals;",
                "\nwrittenActual.ReportingNode = \"CH\";",
                "\nwrittenActual.ReportingPeriod = (2020, 12);",
                "\nwrittenActual.ColumnSlices = new string[]{};",
                "\nwrittenActual.DataFilter =  new []{ (\"GroupOfContract\", \"MZ2.1\") };",
                "\n(await writtenActual.ToReportAsync) with {Height = 400}"
            ],
            "metadata": {},
            "execution_count": 0,
            "outputs": []
        },
        {
            "cell_type": "markdown",
            "source": [
                "## 2021 6"
            ],
            "metadata": {},
            "execution_count": 0,
            "outputs": []
        },
        {
            "cell_type": "code",
            "source": [
                "var writtenActual = ifrs17.WrittenActuals;",
                "\nwrittenActual.ReportingNode = \"CH\";",
                "\nwrittenActual.ReportingPeriod = (2021, 6);",
                "\nwrittenActual.ColumnSlices = new string[]{};",
                "\nwrittenActual.DataFilter =  new []{ (\"GroupOfContract\", \"MZ2.1\") };",
                "\n(await writtenActual.ToReportAsync) with {Height = 400}"
            ],
            "metadata": {},
            "execution_count": 0,
            "outputs": []
        },
        {
            "cell_type": "markdown",
            "source": [
                "## 2021 12"
            ],
            "metadata": {},
            "execution_count": 0,
            "outputs": []
        },
        {
            "cell_type": "code",
            "source": [
                "var writtenActual = ifrs17.WrittenActuals;",
                "\nwrittenActual.ReportingNode = \"CH\";",
                "\nwrittenActual.ReportingPeriod = (2021, 12);",
                "\nwrittenActual.ColumnSlices = new string[]{};",
                "\nwrittenActual.DataFilter =  new []{ (\"GroupOfContract\", \"MZ2.1\") };",
                "\n(await writtenActual.ToReportAsync) with {Height = 400}"
            ],
            "metadata": {},
            "execution_count": 0,
            "outputs": []
        },
        {
            "cell_type": "markdown",
            "source": [
                "# Paid in Advance and Overdue Actuals"
            ],
            "metadata": {},
            "execution_count": 0,
            "outputs": []
        },
        {
            "cell_type": "markdown",
            "source": [
                "As this point we start to have differences for all scenarios. We show below the effective actuals, i.e., those falling outside the reporting period, also known as Payables and Receivables.",
                "\n",
                "\nThe case case MZ 2.1 Written will not show any data by design, as all effective actuals and corresponding due dates occur within the reporting period."
            ],
            "metadata": {},
            "execution_count": 0,
            "outputs": []
        },
        {
            "cell_type": "markdown",
            "source": [
                "## 2020 12"
            ],
            "metadata": {},
            "execution_count": 0,
            "outputs": []
        },
        {
            "cell_type": "markdown",
            "source": [
                "We are introducing In Advance and Overdue reserves for the scenarios described above (CF_A and CF_O cases in the table above), and it is important to note the sign convention (Receivables bear a negative sign, while Payables a positive sign). This convention becomes relavent when determining the Liability of Remaining Coverage below, as it will bring the LRC to either a more Asset-like character (negative) or a more Liability-like character (positive)."
            ],
            "metadata": {},
            "execution_count": 0,
            "outputs": []
        },
        {
            "cell_type": "code",
            "source": [
                "var accrualActual = ifrs17.AccrualActuals;",
                "\naccrualActual.ReportingNode = \"CH\";",
                "\naccrualActual.ReportingPeriod = (2020, 12);",
                "\naccrualActual.ColumnSlices = new string[]{ \"GroupOfContract\", \"EstimateType\", \"AmountType\" };",
                "\naccrualActual.DataFilter = null; //new [] {(\"EstimateType\", \"AA\")};",
                "\n(await accrualActual.ToReportAsync) with {Height = 400}"
            ],
            "metadata": {},
            "execution_count": 0,
            "outputs": []
        },
        {
            "cell_type": "markdown",
            "source": [
                "## 2021 6"
            ],
            "metadata": {},
            "execution_count": 0,
            "outputs": []
        },
        {
            "cell_type": "markdown",
            "source": [
                "We now see what happens to the In Advance and Overdue reserves for each scenarios. We have introduced some write off (WO) for the Receivables, and no settlement has been made yet. We also notice a further increase of In Advance Premium Payments (CF_A), while Overdue Claims remain unchanged."
            ],
            "metadata": {},
            "execution_count": 0,
            "outputs": []
        },
        {
            "cell_type": "code",
            "source": [
                "var accrualActual = ifrs17.AccrualActuals;",
                "\naccrualActual.ReportingNode = \"CH\";",
                "\naccrualActual.ReportingPeriod = (2021, 6);",
                "\naccrualActual.ColumnSlices = new string[]{ \"GroupOfContract\", \"EstimateType\", \"AmountType\" };",
                "\naccrualActual.DataFilter = null; //new [] {(\"EstimateType\", \"AA\")};",
                "\n(await accrualActual.ToReportAsync) with {Height = 400}"
            ],
            "metadata": {},
            "execution_count": 0,
            "outputs": []
        },
        {
            "cell_type": "markdown",
            "source": [
                "## 2021 12"
            ],
            "metadata": {},
            "execution_count": 0,
            "outputs": []
        },
        {
            "cell_type": "markdown",
            "source": [
                "Since all cases run-off in the end of the period, we must also check that all correspondings balances go to zero. We see that some Receivables have been settled (-CF_A and -CF_O), but also the write off (WO) increased, releasing the entire balance as expected. Payables have been also been fully settled (-CF_A and -CF_O) without write offs (as they are not applicable)."
            ],
            "metadata": {},
            "execution_count": 0,
            "outputs": []
        },
        {
            "cell_type": "code",
            "source": [
                "var accrualActual = ifrs17.AccrualActuals;",
                "\naccrualActual.ReportingNode = \"CH\";",
                "\naccrualActual.ReportingPeriod = (2021, 12);",
                "\naccrualActual.ColumnSlices = new string[]{ \"GroupOfContract\", \"EstimateType\", \"AmountType\" };",
                "\naccrualActual.DataFilter = null; //new [] {(\"EstimateType\", \"AA\")};",
                "\n(await accrualActual.ToReportAsync) with {Height = 400}"
            ],
            "metadata": {},
            "execution_count": 0,
            "outputs": []
        },
        {
            "cell_type": "markdown",
            "source": [
                "# Actuarial Experience Adjustment"
            ],
            "metadata": {},
            "execution_count": 0,
            "outputs": []
        },
        {
            "cell_type": "markdown",
            "source": [
                "We now look at the Actuarial Experience Adjustment of MZ 2.1 Written (base case) for the 3 reporting periods. Here we only look at Written Actuals and therefore the values for all scenarios is still exactly the same."
            ],
            "metadata": {},
            "execution_count": 0,
            "outputs": []
        },
        {
            "cell_type": "markdown",
            "source": [
                "## 2020 12"
            ],
            "metadata": {},
            "execution_count": 0,
            "outputs": []
        },
        {
            "cell_type": "code",
            "source": [
                "var experienceAdjustments = ifrs17.ExperienceAdjustments;",
                "\nexperienceAdjustments.ReportingNode = \"CH\";",
                "\nexperienceAdjustments.ReportingPeriod = (2020, 12);",
                "\nexperienceAdjustments.ColumnSlices = new string[]{};",
                "\nexperienceAdjustments.DataFilter = new []{ (\"GroupOfContract\", \"MZ2.1\") };",
                "\n(await experienceAdjustments.ToReportAsync) with {Height = 300}"
            ],
            "metadata": {},
            "execution_count": 0,
            "outputs": []
        },
        {
            "cell_type": "markdown",
            "source": [
                "## 2021 6"
            ],
            "metadata": {},
            "execution_count": 0,
            "outputs": []
        },
        {
            "cell_type": "code",
            "source": [
                "var experienceAdjustments = ifrs17.ExperienceAdjustments;",
                "\nexperienceAdjustments.ReportingNode = \"CH\";",
                "\nexperienceAdjustments.ReportingPeriod = (2021, 6);",
                "\nexperienceAdjustments.ColumnSlices = new string[]{};",
                "\nexperienceAdjustments.DataFilter = new []{ (\"GroupOfContract\", \"MZ2.1\") };",
                "\n(await experienceAdjustments.ToReportAsync) with {Height = 300}"
            ],
            "metadata": {},
            "execution_count": 0,
            "outputs": []
        },
        {
            "cell_type": "markdown",
            "source": [
                "## 2021 12"
            ],
            "metadata": {},
            "execution_count": 0,
            "outputs": []
        },
        {
            "cell_type": "code",
            "source": [
                "var experienceAdjustments = ifrs17.ExperienceAdjustments;",
                "\nexperienceAdjustments.ReportingNode = \"CH\";",
                "\nexperienceAdjustments.ReportingPeriod = (2021, 12);",
                "\nexperienceAdjustments.ColumnSlices = new string[]{};",
                "\nexperienceAdjustments.DataFilter = new []{ (\"GroupOfContract\", \"MZ2.1\") };",
                "\n(await experienceAdjustments.ToReportAsync) with {Height = 300}"
            ],
            "metadata": {},
            "execution_count": 0,
            "outputs": []
        },
        {
            "cell_type": "markdown",
            "source": [
                "# Contractual Service Margin / Loss Component / Loss Recovery Component"
            ],
            "metadata": {},
            "execution_count": 0,
            "outputs": []
        },
        {
            "cell_type": "markdown",
            "source": [
                "We now look at the Contractual Service Margin and Loss Component of MZ 2.1 Written (base case) for the 3 reporting periods."
            ],
            "metadata": {},
            "execution_count": 0,
            "outputs": []
        },
        {
            "cell_type": "markdown",
            "source": [
                "## 2020 12"
            ],
            "metadata": {},
            "execution_count": 0,
            "outputs": []
        },
        {
            "cell_type": "code",
            "source": [
                "var allocatedTechnicalMargins = ifrs17.AllocatedTechnicalMargins;",
                "\nallocatedTechnicalMargins.ReportingNode = \"CH\";",
                "\nallocatedTechnicalMargins.ReportingPeriod = (2020, 12);",
                "\nallocatedTechnicalMargins.ColumnSlices = new string[]{};",
                "\nallocatedTechnicalMargins.DataFilter = new []{ (\"GroupOfContract\", \"MZ2.1\") };",
                "\n(await allocatedTechnicalMargins.ToReportAsync) with {Height = 700}"
            ],
            "metadata": {},
            "execution_count": 0,
            "outputs": []
        },
        {
            "cell_type": "markdown",
            "source": [
                "## 2021 6"
            ],
            "metadata": {},
            "execution_count": 0,
            "outputs": []
        },
        {
            "cell_type": "code",
            "source": [
                "var allocatedTechnicalMargins = ifrs17.AllocatedTechnicalMargins;",
                "\nallocatedTechnicalMargins.ReportingNode = \"CH\";",
                "\nallocatedTechnicalMargins.ReportingPeriod = (2021, 6);",
                "\nallocatedTechnicalMargins.ColumnSlices = new string[]{};",
                "\nallocatedTechnicalMargins.DataFilter = new []{ (\"GroupOfContract\", \"MZ2.1\") };",
                "\n(await allocatedTechnicalMargins.ToReportAsync) with {Height = 700}"
            ],
            "metadata": {},
            "execution_count": 0,
            "outputs": []
        },
        {
            "cell_type": "markdown",
            "source": [
                "## 2021 12"
            ],
            "metadata": {},
            "execution_count": 0,
            "outputs": []
        },
        {
            "cell_type": "code",
            "source": [
                "var allocatedTechnicalMargins = ifrs17.AllocatedTechnicalMargins;",
                "\nallocatedTechnicalMargins.ReportingNode = \"CH\";",
                "\nallocatedTechnicalMargins.ReportingPeriod = (2021, 12);",
                "\nallocatedTechnicalMargins.ColumnSlices = new string[]{};",
                "\nallocatedTechnicalMargins.DataFilter = new []{ (\"GroupOfContract\", \"MZ2.1\") };",
                "\n(await allocatedTechnicalMargins.ToReportAsync) with {Height = 700}"
            ],
            "metadata": {},
            "execution_count": 0,
            "outputs": []
        },
        {
            "cell_type": "markdown",
            "source": [
                "# LRC Actuarial"
            ],
            "metadata": {},
            "execution_count": 0,
            "outputs": []
        },
        {
            "cell_type": "markdown",
            "source": [
                "We now look at the Actuarial Liability of Remaining Coverage of MZ 2.1 Written (base case) for the 3 reporting periods. This report does not include any effective actuals, as it show the actuarial view of the LRC. Therefore, also here the results are the same for all scenarios."
            ],
            "metadata": {},
            "execution_count": 0,
            "outputs": []
        },
        {
            "cell_type": "markdown",
            "source": [
                "## 2020 12"
            ],
            "metadata": {},
            "execution_count": 0,
            "outputs": []
        },
        {
            "cell_type": "code",
            "source": [
                "var actuarialLrc = ifrs17.ActuarialLrc;",
                "\nactuarialLrc.ReportingNode = \"CH\";",
                "\nactuarialLrc.ReportingPeriod = (2020, 12);",
                "\nactuarialLrc.ColumnSlices = new string[]{};",
                "\nactuarialLrc.DataFilter = new []{ (\"GroupOfContract\", \"MZ2.1\") };",
                "\n(await actuarialLrc.ToReportAsync) with {Height = 750}"
            ],
            "metadata": {},
            "execution_count": 0,
            "outputs": []
        },
        {
            "cell_type": "markdown",
            "source": [
                "## 2021 6"
            ],
            "metadata": {},
            "execution_count": 0,
            "outputs": []
        },
        {
            "cell_type": "code",
            "source": [
                "var actuarialLrc = ifrs17.ActuarialLrc;",
                "\nactuarialLrc.ReportingNode = \"CH\";",
                "\nactuarialLrc.ReportingPeriod = (2021, 6);",
                "\nactuarialLrc.ColumnSlices = new string[]{};",
                "\nactuarialLrc.DataFilter = new []{ (\"GroupOfContract\", \"MZ2.1\") };",
                "\n(await actuarialLrc.ToReportAsync) with {Height = 750}"
            ],
            "metadata": {},
            "execution_count": 0,
            "outputs": []
        },
        {
            "cell_type": "markdown",
            "source": [
                "## 2021 12"
            ],
            "metadata": {},
            "execution_count": 0,
            "outputs": []
        },
        {
            "cell_type": "code",
            "source": [
                "var actuarialLrc = ifrs17.ActuarialLrc;",
                "\nactuarialLrc.ReportingNode = \"CH\";",
                "\nactuarialLrc.ReportingPeriod = (2021, 12);",
                "\nactuarialLrc.ColumnSlices = new string[]{};",
                "\nactuarialLrc.DataFilter = new []{ (\"GroupOfContract\", \"MZ2.1\") };",
                "\n(await actuarialLrc.ToReportAsync) with {Height = 750}"
            ],
            "metadata": {},
            "execution_count": 0,
            "outputs": []
        },
        {
            "cell_type": "markdown",
            "source": [
                "# LRC "
            ],
            "metadata": {},
            "execution_count": 0,
            "outputs": []
        },
        {
            "cell_type": "markdown",
            "source": [
                "Finally we come to the effective Liability of Remaining Coverage, which includes the effect of the In Advanced and Overdue actuals. To take these into account, we must add these balances to the Actuarial LRC."
            ],
            "metadata": {},
            "execution_count": 0,
            "outputs": []
        },
        {
            "cell_type": "markdown",
            "source": [
                "## 2020 12"
            ],
            "metadata": {},
            "execution_count": 0,
            "outputs": []
        },
        {
            "cell_type": "markdown",
            "source": [
                "This is the first year of the GIC, meaning the opening is zero and all the balance comes from the New Business. Therefore, the changes in balance is equivalent to the closing balance (EOP).",
                "\n",
                "\nMZ 2.1 Written (base case) ends with a negative LRC balance, giving it a slight Asset-like character. This comes from favorable Best Estimate Present Value of Cashflows, where the Premium (cass flow in) outweighs the Claims (cash flow out).",
                "\n",
                "\nFor MZ 2.2 OA Premium and MZ 2.3 AA Claim, there is a future expectation of effective payments, as we have outstanding Receivables (In Advance Claims and Overdue Premium). For both cases this means a further decrease of the LRC balance (more negative).",
                "\nFor MZ 2.2 OA Premium, we must decrease the actuarial cash flows to incorporate the expected recovery of the overdue Premium.",
                "\nFor MZ 2.2 AA Claim, we must decrease the actuarial cash flows to incorporate the in advance payment of the Claim not due yet.",
                "\n",
                "\nFor MZ 2.4 AA Premium / OA Claim, the effect is exactly the opposite, as we are dealing with Payables. For this case we observe an increase of the LRC balance (becomes positive).",
                "\nFor MZ 2.4 AA Premium / OA Claim, we must increase the actuarial cash flows to incorporate the in advance payment of the Premium not due yet, and the delayed payment of the overdue Claim.",
                "\n"
            ],
            "metadata": {},
            "execution_count": 0,
            "outputs": []
        },
        {
            "cell_type": "code",
            "source": [
                "var lrc = ifrs17.Lrc;",
                "\nlrc.ReportingNode = \"CH\";",
                "\nlrc.ReportingPeriod = (2020, 12);",
                "\nlrc.ColumnSlices = new string[]{\"GroupOfContract\", \"EstimateType\"};",
                "\nlrc.DataFilter = null;",
                "\n(await lrc.ToReportAsync) with {Height = 300}"
            ],
            "metadata": {},
            "execution_count": 0,
            "outputs": []
        },
        {
            "cell_type": "markdown",
            "source": [
                "## 2021 6"
            ],
            "metadata": {},
            "execution_count": 0,
            "outputs": []
        },
        {
            "cell_type": "markdown",
            "source": [
                "Here we look at what happened half a year later.",
                "\nAs mentioned above we introduce some write off for the Receivables, and some increase in balance for the In Advance Premium Payments.",
                "\n",
                "\nFor MZ 2.1 Written (base case), some adverse devleopment heppened and the LRC becomes positive during the period. If we look into the details, there is a deterioration of the results (Actuals) and the expectation has also been adjusted. Furthermore, the CSM turns into a Loss Component.",
                "\n",
                "\nFor MZ 2.2 OA Premium and MZ 2.3 AA Claim, we have recognized some write offs for part of the overdue amounts, without any further release. This affects the LRC balance, but since there is still some outstanding balance, the LRC stll moves towards a more negative value when compared to the base case.",
                "\n",
                "\nFor MZ 2.4 AA Premium / OA Claim, we had no movements for the Overdue Claims, but we see an further increase in the In Advance Premium. Thus, it must increase even more the liability character of the LRC.",
                "\n"
            ],
            "metadata": {},
            "execution_count": 0,
            "outputs": []
        },
        {
            "cell_type": "code",
            "source": [
                "var lrc = ifrs17.Lrc;",
                "\nlrc.ReportingNode = \"CH\";",
                "\nlrc.ReportingPeriod = (2021, 6);",
                "\nlrc.ColumnSlices = new string[]{\"GroupOfContract\", \"EstimateType\"};",
                "\nlrc.DataFilter = null;",
                "\n(await lrc.ToReportAsync) with {Height = 300}"
            ],
            "metadata": {},
            "execution_count": 0,
            "outputs": []
        },
        {
            "cell_type": "markdown",
            "source": [
                "## 2021 12"
            ],
            "metadata": {},
            "execution_count": 0,
            "outputs": []
        },
        {
            "cell_type": "markdown",
            "source": [
                "This is the closing period of our example. All liability must be released at the end of the period. Indeed, the LRC balance goes to zero in all cases.",
                "\nAs seen above, the release os the In Advance or Overdue balances happens either with settlement of payments, or write off in the case of Receivables."
            ],
            "metadata": {},
            "execution_count": 0,
            "outputs": []
        },
        {
            "cell_type": "code",
            "source": [
                "var lrc = ifrs17.Lrc;",
                "\nlrc.ReportingNode = \"CH\";",
                "\nlrc.ReportingPeriod = (2021, 12);",
                "\nlrc.ColumnSlices = new string[]{\"GroupOfContract\", \"EstimateType\"};",
                "\nlrc.DataFilter = null;",
                "\n(await lrc.ToReportAsync) with {Height = 300}"
            ],
            "metadata": {},
            "execution_count": 0,
            "outputs": []
        },
        {
            "cell_type": "markdown",
            "source": [
                "# Financial Performance"
            ],
            "metadata": {},
            "execution_count": 0,
            "outputs": []
        },
        {
            "cell_type": "markdown",
            "source": [
                "The last part of the analsys refers to the Financial Performance"
            ],
            "metadata": {},
            "execution_count": 0,
            "outputs": []
        },
        {
            "cell_type": "markdown",
            "source": [
                "## 2020 12"
            ],
            "metadata": {},
            "execution_count": 0,
            "outputs": []
        },
        {
            "cell_type": "markdown",
            "source": [
                "This is the first period, and we did not have any write off. Thus, the Financial Performance is the same for all scenarios, as In Advance and Overdue balances do not have an impact."
            ],
            "metadata": {},
            "execution_count": 0,
            "outputs": []
        },
        {
            "cell_type": "code",
            "source": [
                "var financialPerformance = ifrs17.FinancialPerformance;",
                "\nfinancialPerformance.ReportingNode = \"CH\";",
                "\nfinancialPerformance.ReportingPeriod = (2020, 12);",
                "\nfinancialPerformance.ColumnSlices = new string[]{\"GroupOfContract\"};",
                "\nfinancialPerformance.DataFilter = null;",
                "\n(await financialPerformance.ToReportAsync) with { Height = 900, GroupDefaultExpanded = 3}"
            ],
            "metadata": {},
            "execution_count": 0,
            "outputs": []
        },
        {
            "cell_type": "markdown",
            "source": [
                "## 2021 6"
            ],
            "metadata": {},
            "execution_count": 0,
            "outputs": []
        },
        {
            "cell_type": "markdown",
            "source": [
                "In the subsequent period of this analsys, we introduced some write off for the Receivables. This impacts MZ 2.2 OA Premium and MZ 2.3 AA Claim, decreasing the Insurance Service Result by the ammounts written off. The remaining scenarios (MZ 2.1 Written and MZ 2.4 AA Premium / OA Claim) are still equal, as there no notion of write offs in these cases.",
                "\n",
                "\nFor MZ 2.2 OA Premium, the write off is recognized at the Insurance Revenue, Overdue Actuals.",
                "\n",
                "\nFor MZ 2.3 AA Claim, the write off is recognized at the Insurance Service Expense, Advance Actuals."
            ],
            "metadata": {},
            "execution_count": 0,
            "outputs": []
        },
        {
            "cell_type": "code",
            "source": [
                "var financialPerformance = ifrs17.FinancialPerformance;",
                "\nfinancialPerformance.ReportingNode = \"CH\";",
                "\nfinancialPerformance.ReportingPeriod = (2021, 6);",
                "\nfinancialPerformance.ColumnSlices = new string[]{\"GroupOfContract\"};",
                "\nfinancialPerformance.DataFilter = null;",
                "\n(await financialPerformance.ToReportAsync) with { Height = 900, GroupDefaultExpanded = 3}"
            ],
            "metadata": {},
            "execution_count": 0,
            "outputs": []
        },
        {
            "cell_type": "markdown",
            "source": [
                "## 2021 12"
            ],
            "metadata": {},
            "execution_count": 0,
            "outputs": []
        },
        {
            "cell_type": "markdown",
            "source": [
                "In the last period, we see the final results in the Financial Performance.",
                "\nAs before, MZ 2.2 OA Premium and MZ 2.3 AA Claim have a lower Insurance Service Result in comparison to MZ 2.1 Written (base case) due to the write offs.",
                "\nSimilarly, MZ 2.1 Written and MZ 2.4 AA Premium / OA Claim continue to show the same results."
            ],
            "metadata": {},
            "execution_count": 0,
            "outputs": []
        },
        {
            "cell_type": "code",
            "source": [
                "var financialPerformance = ifrs17.FinancialPerformance;",
                "\nfinancialPerformance.ReportingNode = \"CH\";",
                "\nfinancialPerformance.ReportingPeriod = (2021, 12);",
                "\nfinancialPerformance.ColumnSlices = new string[]{\"GroupOfContract\"};",
                "\nfinancialPerformance.DataFilter = null;",
                "\n(await financialPerformance.ToReportAsync) with { Height = 900, GroupDefaultExpanded = 3}"
            ],
            "metadata": {},
            "execution_count": 0,
            "outputs": []
        },
        {
            "cell_type": "code",
            "source": [
                ""
            ],
            "metadata": {},
            "execution_count": 0,
            "outputs": []
        }
    ]
}