{
    "metadata": {
        "authors": [],
        "kernelspec": {
            "display_name": "Formula Framework",
            "language": "C#",
            "name": "C#"
        },
        "language_info": {
            "file_extension": ".cs",
            "mimetype": "text/plain",
            "name": "C#"
        },
        "toc-autonumbering": "True",
        "toc-showcode": "False"
    },
    "nbformat": 4,
    "nbformat_minor": 5,
    "cells": [
        {
            "cell_type": "markdown",
            "source": [
                "<p style=\"font-weight:bold;\"> <span style=\"font-size: 36px\">  Actuals Outside the Period Case</span> </p>",
                "\n",
                "\n<p style=\"font-weight:bold;\"> <span style=\"font-size: 21px\"> Written vs Effective Cashflows Gross</span> </p>"
            ],
            "metadata": {},
            "execution_count": 0,
            "outputs": []
        },
        {
            "cell_type": "markdown",
            "source": [
                "Usually, actuarial cashflows for portfolio valuations are modelled on a \"due\" or \"written\" basis, meaning they are derived from the corresponding contractual obligations.",
                "\nHowever, it is normal that the efective cashflows will not exactly follow the expected written ones and will therefore fall outside the reporting period.",
                "\n",
                "\nIn this case study we look at the effects of cashflows happening outside the expected reporting period, also referred to as Payables and Receivables in accounting language. The reconciliation between the written and effective cashflows is usually handled by the Actuals. This reconciliation must be taken into account, since the IFRS 17 Standard requires insurance liabilities to be measured according to the effective cashflows.",
                "\n",
                "\nWe can try to summarize the the cases for in advance and overdue actuals in a table. On the colums we define the due date of the payments in relation to the reporting period, and in the rows we define the effective date of the payments in relation to the reporting period. If write off are not taken into account, we are left we the following:",
                "\n",
                "\n<br>",
                "\n",
                "\n|                                                           \t| **payment due date<br>before the reporting period**                                                                                \t| **payment due date<br>in the reporting period**                                                                                    \t| **payment due date<br>after the reporting period**                                                   \t\t\t\t\t\t\t\t|",
                "\n|-----------------------------------------------------------\t|------------------------------------------------------------------------------------------------------------------------------------\t|------------------------------------------------------------------------------------------------------------------------------------\t|----------------------------------------------------------------------------------------------------------------------------------\t|",
                "\n| **payment effective date<br>before the reporting period** \t| not relevant for this reporting period<br>both due and effective payment dates already happened                                    \t| payments in this period settled in advance in previous periods<br>this is a release to the balance sheet in advance position (-CF_A) \t| paid in advance balance<br>this is an in advance reserve from previous periods (BOP_A)\t\t\t\t\t\t\t\t\t\t\t|",
                "\n| **payment effective date<br>in the reporting period**     \t| outstanding payments from previous periods settled in this period<br>this is a release to the balance sheet overdue position (-CF_O) \t| in the period<br>in this case, the due and effective date fall within the period                                                   \t| paid in advance balance<br>this is an in advance reserve from previous periods plus an increase from this period (BOP_A + CF_A)\t|",
                "\n| **payment effective date<br>after the reporting period**  \t| overdue balance<br>this is an overdue reserve from previous periods (BOP_O)                                                        \t| overdue balance<br>this is an overdue reserve from previous periods plus an increase from this period (BOP_O + CF_O)                  | not relevant for this reporting period<br>neither the due nor the effective payment date is expected \t\t\t\t\t\t\t\t|",
                "\n",
                "\n<br>",
                "\n",
                "\nWrite off of the Receivables (In Advance Claims and Overdue Premimus) would also release the balance like the corresponding entries in the table above (-CF_A and -CF_O). However, while the releases shown in the table above do not impact the Financial Performance, the written off amounts will. ",
                "\n",
                "\n",
                "\n",
                "\n",
                "\nWe will now look at a few scenarios in reference to a base case. We have modelled 3 reporting periods (2020 12, 2021 6 and 2021 12, where the first number is the reporting year and the second is the reporting month) and assume that we start with New Business in the beginning of 2020 and the portfolio completely runs-off in the end of 2021.",
                "\n",
                "\nWe are modelling the Gross case and have defined the following GICs (Valuation Approach is BBA):",
                "\n",
                "\n - **MZ 2.1 Written**: all cashflows for this GIC follow exactly the written cashflows expected in the atuarial model. It is our base case.",
                "\n - **MZ 2.2 OA Premium**: in this case the **Premium is overdue** in the 1st reporting period (**Receivable Premium**). In the subsequent periods, some is received and some is written off.",
                "\n - **MZ 2.3 AA Claim**: in this case the **Claim is paid in advance** in the 1st reporting period (**Receivable Claim**). In the subsequent periods, some is received and some is written off.",
                "\n - **MZ 2.4 AA Premium / OA Claim**: in this case we have received **Premium in advance** (**Payable Premium**), and also have an **overdue Claim** payment (**Payable Claim**). In the subsequent periods, we have settled the actuals accordingly.",
                "\n",
                "\nThe only difference between all cases is the timing of the effective cashflows (paid in advance and overdue actuals), with all other inputs and parameters exctly the same. For simplicity, we only added Premium and Claims (Non Investment Component) amount types.",
                "\n"
            ],
            "metadata": {},
            "execution_count": 0,
            "outputs": []
        },
        {
            "cell_type": "markdown",
            "source": [
                "# Data Import"
            ],
            "metadata": {},
            "execution_count": 0,
            "outputs": []
        },
        {
            "cell_type": "markdown",
            "source": [
                "We call the ActualsUseCaseDataImport notebook, where the data is imported."
            ],
            "metadata": {},
            "execution_count": 0,
            "outputs": []
        },
        {
            "cell_type": "code",
            "source": [
                "#!import \"ActualsUseCaseDataImport\""
            ],
            "metadata": {},
            "execution_count": 0,
            "outputs": []
        },
        {
            "cell_type": "markdown",
            "source": [
                "# Best Estimate Present Value of Cashflows",
                "\n",
                "\n"
            ],
            "metadata": {},
            "execution_count": 0,
            "outputs": []
        },
        {
            "cell_type": "markdown",
            "source": [
                "We start by looking at the Best Estimate Present Value of Cashflows of MZ 2.1 Written (base case) for the 3 reporting periods."
            ],
            "metadata": {},
            "execution_count": 0,
            "outputs": []
        },
        {
            "cell_type": "markdown",
            "source": [
                "## 2020 12"
            ],
            "metadata": {},
            "execution_count": 0,
            "outputs": []
        },
        {
            "cell_type": "code",
            "source": [
                "var pv = ifrs17.PresentValues;",
                "\npv.ReportingNode = \"CH\";",
                "\npv.ReportingPeriod = (2020, 12);",
                "\npv.CurrencyType = CurrencyType.Contractual;",
                "\npv.ColumnSlices = new string[]{\"GroupOfContract\", \"AmountType\"};",
                "\npv.DataFilter = new []{ (\"GroupOfContract\", \"MZ2.1\") };",
                "\n(await pv.ToReportAsync) with {Height = 720}"
            ],
            "metadata": {},
            "execution_count": 0,
            "outputs": []
        },
        {
            "cell_type": "markdown",
            "source": [
                "## 2021 6"
            ],
            "metadata": {},
            "execution_count": 0,
            "outputs": []
        },
        {
            "cell_type": "code",
            "source": [
                "var pv = ifrs17.PresentValues;",
                "\npv.ReportingNode = \"CH\";",
                "\npv.ReportingPeriod = (2021, 6);",
                "\npv.CurrencyType = CurrencyType.Contractual;",
                "\npv.ColumnSlices = new string[]{\"GroupOfContract\", \"AmountType\"};",
                "\npv.DataFilter = new []{ (\"GroupOfContract\", \"MZ2.1\") };",
                "\n(await pv.ToReportAsync) with {Height = 720}"
            ],
            "metadata": {},
            "execution_count": 0,
            "outputs": []
        },
        {
            "cell_type": "markdown",
            "source": [
                "## 2021 12"
            ],
            "metadata": {},
            "execution_count": 0,
            "outputs": []
        },
        {
            "cell_type": "code",
            "source": [
                "var pv = ifrs17.PresentValues;",
                "\npv.ReportingNode = \"CH\";",
                "\npv.ReportingPeriod = (2021, 12);",
                "\npv.CurrencyType = CurrencyType.Contractual;",
                "\npv.ColumnSlices = new string[]{\"GroupOfContract\", \"AmountType\"};",
                "\npv.DataFilter = new []{ (\"GroupOfContract\", \"MZ2.1\") };",
                "\n(await pv.ToReportAsync) with {Height = 720}"
            ],
            "metadata": {},
            "execution_count": 0,
            "outputs": []
        },
        {
            "cell_type": "markdown",
            "source": [
                "# Risk Adjustment"
            ],
            "metadata": {},
            "execution_count": 0,
            "outputs": []
        },
        {
            "cell_type": "markdown",
            "source": [
                "We now look at the Best Estimate Risk Adjustment of MZ 2.1 Written (base case) for the 3 reporting periods."
            ],
            "metadata": {},
            "execution_count": 0,
            "outputs": []
        },
        {
            "cell_type": "markdown",
            "source": [
                "## 2020 12"
            ],
            "metadata": {},
            "execution_count": 0,
            "outputs": []
        },
        {
            "cell_type": "code",
            "source": [
                "var ra = ifrs17.RiskAdjustments;",
                "\nra.ReportingNode = \"CH\";",
                "\nra.ReportingPeriod = (2020, 12);",
                "\nra.ColumnSlices = new string[]{};",
                "\nra.DataFilter = new []{ (\"GroupOfContract\", \"MZ2.1\") };",
                "\n(await ra.ToReportAsync) with {Height = 800}"
            ],
            "metadata": {},
            "execution_count": 0,
            "outputs": []
        },
        {
            "cell_type": "markdown",
            "source": [
                "## 2021 6"
            ],
            "metadata": {},
            "execution_count": 0,
            "outputs": []
        },
        {
            "cell_type": "code",
            "source": [
                "var ra = ifrs17.RiskAdjustments;",
                "\nra.ReportingNode = \"CH\";",
                "\nra.ReportingPeriod = (2021, 6);",
                "\nra.ColumnSlices = new string[]{};",
                "\nra.DataFilter = new []{ (\"GroupOfContract\", \"MZ2.1\") };",
                "\n(await ra.ToReportAsync) with {Height = 800}"
            ],
            "metadata": {},
            "execution_count": 0,
            "outputs": []
        },
        {
            "cell_type": "markdown",
            "source": [
                "## 2021 12"
            ],
            "metadata": {},
            "execution_count": 0,
            "outputs": []
        },
        {
            "cell_type": "code",
            "source": [
                "var ra = ifrs17.RiskAdjustments;",
                "\nra.ReportingNode = \"CH\";",
                "\nra.ReportingPeriod = (2021, 12);",
                "\nra.ColumnSlices = new string[]{};",
                "\nra.DataFilter = new []{ (\"GroupOfContract\", \"MZ2.1\") };",
                "\n(await ra.ToReportAsync) with {Height = 800}"
            ],
            "metadata": {},
            "execution_count": 0,
            "outputs": []
        },
        {
            "cell_type": "markdown",
            "source": [
                "# Fulfilment Cash Flow"
            ],
            "metadata": {},
            "execution_count": 0,
            "outputs": []
        },
        {
            "cell_type": "markdown",
            "source": [
                "The corresponding Fulfilment Cash Flows of MZ 2.1 Written (base case) for the 3 reporting periods are shown below."
            ],
            "metadata": {},
            "execution_count": 0,
            "outputs": []
        },
        {
            "cell_type": "markdown",
            "source": [
                "## 2020 12"
            ],
            "metadata": {},
            "execution_count": 0,
            "outputs": []
        },
        {
            "cell_type": "code",
            "source": [
                "var fulfillmentCashflows = ifrs17.FulfillmentCashflows;",
                "\nfulfillmentCashflows.ReportingNode = \"CH\";",
                "\nfulfillmentCashflows.ReportingPeriod = (2020, 12);",
                "\nfulfillmentCashflows.ColumnSlices = new string[]{\"EstimateType\"};",
                "\nfulfillmentCashflows.DataFilter = new []{ (\"GroupOfContract\", \"MZ2.1\") };",
                "\n(await fulfillmentCashflows.ToReportAsync) with {Height = 750}"
            ],
            "metadata": {},
            "execution_count": 0,
            "outputs": []
        },
        {
            "cell_type": "markdown",
            "source": [
                "## 2021 6"
            ],
            "metadata": {},
            "execution_count": 0,
            "outputs": []
        },
        {
            "cell_type": "code",
            "source": [
                "var fulfillmentCashflows = ifrs17.FulfillmentCashflows;",
                "\nfulfillmentCashflows.ReportingNode = \"CH\";",
                "\nfulfillmentCashflows.ReportingPeriod = (2021, 6);",
                "\nfulfillmentCashflows.ColumnSlices = new string[]{\"EstimateType\"};",
                "\nfulfillmentCashflows.DataFilter = new []{ (\"GroupOfContract\", \"MZ2.1\") };",
                "\n(await fulfillmentCashflows.ToReportAsync) with {Height = 750}"
            ],
            "metadata": {},
            "execution_count": 0,
            "outputs": []
        },
        {
            "cell_type": "markdown",
            "source": [
                "## 2021 12"
            ],
            "metadata": {},
            "execution_count": 0,
            "outputs": []
        },
        {
            "cell_type": "code",
            "source": [
                "var fulfillmentCashflows = ifrs17.FulfillmentCashflows;",
                "\nfulfillmentCashflows.ReportingNode = \"CH\";",
                "\nfulfillmentCashflows.ReportingPeriod = (2021, 12);",
                "\nfulfillmentCashflows.ColumnSlices = new string[]{\"EstimateType\"};",
                "\nfulfillmentCashflows.DataFilter = new []{ (\"GroupOfContract\", \"MZ2.1\") };",
                "\n(await fulfillmentCashflows.ToReportAsync) with {Height = 750}"
            ],
            "metadata": {},
            "execution_count": 0,
            "outputs": []
        },
        {
            "cell_type": "markdown",
            "source": [
                "# Written Actuals"
            ],
            "metadata": {},
            "execution_count": 0,
            "outputs": []
        },
        {
            "cell_type": "markdown",
            "source": [
                "We now look at the Written Actuals of MZ 2.1 Written (base case) for the 3 reporting periods. These actuals are also the same for all cases, as they Written Actuals follow the contractual obligations."
            ],
            "metadata": {},
            "execution_count": 0,
            "outputs": []
        },
        {
            "cell_type": "markdown",
            "source": [
                "## 2020 12"
            ],
            "metadata": {},
            "execution_count": 0,
            "outputs": []
        },
        {
            "cell_type": "code",
            "source": [
                "var writtenActual = ifrs17.WrittenActuals;",
                "\nwrittenActual.ReportingNode = \"CH\";",
                "\nwrittenActual.ReportingPeriod = (2020, 12);",
                "\nwrittenActual.ColumnSlices = new string[]{};",
                "\nwrittenActual.DataFilter =  new []{ (\"GroupOfContract\", \"MZ2.1\") };",
                "\n(await writtenActual.ToReportAsync) with {Height = 400}"
            ],
            "metadata": {},
            "execution_count": 0,
            "outputs": []
        },
        {
            "cell_type": "markdown",
            "source": [
                "## 2020 6"
            ],
            "metadata": {},
            "execution_count": 0,
            "outputs": []
        },
        {
            "cell_type": "code",
            "source": [
                "var writtenActual = ifrs17.WrittenActuals;",
                "\nwrittenActual.ReportingNode = \"CH\";",
                "\nwrittenActual.ReportingPeriod = (2021, 6);",
                "\nwrittenActual.ColumnSlices = new string[]{};",
                "\nwrittenActual.DataFilter =  new []{ (\"GroupOfContract\", \"MZ2.1\") };",
                "\n(await writtenActual.ToReportAsync) with {Height = 400}"
            ],
            "metadata": {},
            "execution_count": 0,
            "outputs": []
        },
        {
            "cell_type": "markdown",
            "source": [
                "## 2021 12"
            ],
            "metadata": {},
            "execution_count": 0,
            "outputs": []
        },
        {
            "cell_type": "code",
            "source": [
                "var writtenActual = ifrs17.WrittenActuals;",
                "\nwrittenActual.ReportingNode = \"CH\";",
                "\nwrittenActual.ReportingPeriod = (2021, 12);",
                "\nwrittenActual.ColumnSlices = new string[]{};",
                "\nwrittenActual.DataFilter =  new []{ (\"GroupOfContract\", \"MZ2.1\") };",
                "\n(await writtenActual.ToReportAsync) with {Height = 400}"
            ],
            "metadata": {},
            "execution_count": 0,
            "outputs": []
        },
        {
            "cell_type": "markdown",
            "source": [
                "# Paid in Advance and Overdue Actuals"
            ],
            "metadata": {},
            "execution_count": 0,
            "outputs": []
        },
        {
            "cell_type": "markdown",
            "source": [
                "As this point we start to have differences for all scenarios. We show below the effective actuals, i.e., those falling outside the reporting period, also known as Payables and Receivables.",
                "\n",
                "\nThe case case MZ 2.1 Written will not show any data by design, as all effective actuals and corresponding due dates occur within the reporting period."
            ],
            "metadata": {},
            "execution_count": 0,
            "outputs": []
        },
        {
            "cell_type": "markdown",
            "source": [
                "## 2020 12"
            ],
            "metadata": {},
            "execution_count": 0,
            "outputs": []
        },
        {
            "cell_type": "code",
            "source": [
                "var accrualActual = ifrs17.AccrualActuals;",
                "\naccrualActual.ReportingNode = \"CH\";",
                "\naccrualActual.ReportingPeriod = (2020, 12);",
                "\naccrualActual.ColumnSlices = new string[]{ \"GroupOfContract\", \"EstimateType\", \"AmountType\" };//\"GroupOfContract\", \"AmountType\"",
                "\naccrualActual.DataFilter = null; //new [] {(\"EstimateType\", \"AA\")};",
                "\n(await accrualActual.ToReportAsync) with {Height = 400}"
            ],
            "metadata": {},
            "execution_count": 0,
            "outputs": []
        },
        {
            "cell_type": "markdown",
            "source": [
                "## 2021 6"
            ],
            "metadata": {},
            "execution_count": 0,
            "outputs": []
        },
        {
            "cell_type": "code",
            "source": [
                "var accrualActual = ifrs17.AccrualActuals;",
                "\naccrualActual.ReportingNode = \"CH\";",
                "\naccrualActual.ReportingPeriod = (2021, 6);",
                "\naccrualActual.ColumnSlices = new string[]{ \"GroupOfContract\", \"EstimateType\", \"AmountType\" };//\"GroupOfContract\", \"AmountType\"",
                "\naccrualActual.DataFilter = null; //new [] {(\"EstimateType\", \"AA\")};",
                "\n(await accrualActual.ToReportAsync) with {Height = 400}"
            ],
            "metadata": {},
            "execution_count": 0,
            "outputs": []
        },
        {
            "cell_type": "markdown",
            "source": [
                "## 2021 12"
            ],
            "metadata": {},
            "execution_count": 0,
            "outputs": []
        },
        {
            "cell_type": "code",
            "source": [
                "var accrualActual = ifrs17.AccrualActuals;",
                "\naccrualActual.ReportingNode = \"CH\";",
                "\naccrualActual.ReportingPeriod = (2021, 12);",
                "\naccrualActual.ColumnSlices = new string[]{ \"GroupOfContract\", \"EstimateType\", \"AmountType\" };//\"GroupOfContract\", \"AmountType\"",
                "\naccrualActual.DataFilter = null; //new [] {(\"EstimateType\", \"AA\")};",
                "\n(await accrualActual.ToReportAsync) with {Height = 400}"
            ],
            "metadata": {},
            "execution_count": 0,
            "outputs": []
        },
        {
            "cell_type": "markdown",
            "source": [
                "# Actuarial Experience Adjustment"
            ],
            "metadata": {},
            "execution_count": 0,
            "outputs": []
        },
        {
            "cell_type": "markdown",
            "source": [
                "We now look at the Actuarial Experience Adjustment of MZ 2.1 Written (base case) for the 3 reporting periods. Here we only look at Written Actuals and therefore the values for all scenarios is still exactly the same."
            ],
            "metadata": {},
            "execution_count": 0,
            "outputs": []
        },
        {
            "cell_type": "markdown",
            "source": [
                "## 2020 12"
            ],
            "metadata": {},
            "execution_count": 0,
            "outputs": []
        },
        {
            "cell_type": "code",
            "source": [
                "var experienceAdjustments = ifrs17.ExperienceAdjustments;",
                "\nexperienceAdjustments.ReportingNode = \"CH\";",
                "\nexperienceAdjustments.ReportingPeriod = (2020, 12);",
                "\nexperienceAdjustments.ColumnSlices = new string[]{};",
                "\nexperienceAdjustments.DataFilter = new []{ (\"GroupOfContract\", \"MZ2.1\") };",
                "\n(await experienceAdjustments.ToReportAsync) with {Height = 300}"
            ],
            "metadata": {},
            "execution_count": 0,
            "outputs": []
        },
        {
            "cell_type": "markdown",
            "source": [
                "## 2021 6"
            ],
            "metadata": {},
            "execution_count": 0,
            "outputs": []
        },
        {
            "cell_type": "code",
            "source": [
                "var experienceAdjustments = ifrs17.ExperienceAdjustments;",
                "\nexperienceAdjustments.ReportingNode = \"CH\";",
                "\nexperienceAdjustments.ReportingPeriod = (2021, 6);",
                "\nexperienceAdjustments.ColumnSlices = new string[]{};",
                "\nexperienceAdjustments.DataFilter = new []{ (\"GroupOfContract\", \"MZ2.1\") };",
                "\n(await experienceAdjustments.ToReportAsync) with {Height = 300}"
            ],
            "metadata": {},
            "execution_count": 0,
            "outputs": []
        },
        {
            "cell_type": "markdown",
            "source": [
                "## 2021 12"
            ],
            "metadata": {},
            "execution_count": 0,
            "outputs": []
        },
        {
            "cell_type": "code",
            "source": [
                "var experienceAdjustments = ifrs17.ExperienceAdjustments;",
                "\nexperienceAdjustments.ReportingNode = \"CH\";",
                "\nexperienceAdjustments.ReportingPeriod = (2021, 12);",
                "\nexperienceAdjustments.ColumnSlices = new string[]{};",
                "\nexperienceAdjustments.DataFilter = new []{ (\"GroupOfContract\", \"MZ2.1\") };",
                "\n(await experienceAdjustments.ToReportAsync) with {Height = 300}"
            ],
            "metadata": {},
            "execution_count": 0,
            "outputs": []
        },
        {
            "cell_type": "markdown",
            "source": [
                "# Contractual Service Margin / Loss Component / Loss Recovery Component"
            ],
            "metadata": {},
            "execution_count": 0,
            "outputs": []
        },
        {
            "cell_type": "markdown",
            "source": [
                "We now look at the Contractual Service Margin and Loss Component of MZ 2.1 Written (base case) for the 3 reporting periods."
            ],
            "metadata": {},
            "execution_count": 0,
            "outputs": []
        },
        {
            "cell_type": "markdown",
            "source": [
                "## 2020 12"
            ],
            "metadata": {},
            "execution_count": 0,
            "outputs": []
        },
        {
            "cell_type": "code",
            "source": [
                "var allocatedTechnicalMargins = ifrs17.AllocatedTechnicalMargins;",
                "\nallocatedTechnicalMargins.ReportingNode = \"CH\";",
                "\nallocatedTechnicalMargins.ReportingPeriod = (2020, 12);",
                "\nallocatedTechnicalMargins.ColumnSlices = new string[]{};",
                "\nallocatedTechnicalMargins.DataFilter = new []{ (\"GroupOfContract\", \"MZ2.1\") };",
                "\n(await allocatedTechnicalMargins.ToReportAsync) with {Height = 700}"
            ],
            "metadata": {},
            "execution_count": 0,
            "outputs": []
        },
        {
            "cell_type": "markdown",
            "source": [
                "## 2021 6"
            ],
            "metadata": {},
            "execution_count": 0,
            "outputs": []
        },
        {
            "cell_type": "code",
            "source": [
                "var allocatedTechnicalMargins = ifrs17.AllocatedTechnicalMargins;",
                "\nallocatedTechnicalMargins.ReportingNode = \"CH\";",
                "\nallocatedTechnicalMargins.ReportingPeriod = (2021, 6);",
                "\nallocatedTechnicalMargins.ColumnSlices = new string[]{};",
                "\nallocatedTechnicalMargins.DataFilter = new []{ (\"GroupOfContract\", \"MZ2.1\") };",
                "\n(await allocatedTechnicalMargins.ToReportAsync) with {Height = 700}"
            ],
            "metadata": {},
            "execution_count": 0,
            "outputs": []
        },
        {
            "cell_type": "markdown",
            "source": [
                "## 2021 12"
            ],
            "metadata": {},
            "execution_count": 0,
            "outputs": []
        },
        {
            "cell_type": "code",
            "source": [
                "var allocatedTechnicalMargins = ifrs17.AllocatedTechnicalMargins;",
                "\nallocatedTechnicalMargins.ReportingNode = \"CH\";",
                "\nallocatedTechnicalMargins.ReportingPeriod = (2021, 12);",
                "\nallocatedTechnicalMargins.ColumnSlices = new string[]{};",
                "\nallocatedTechnicalMargins.DataFilter = new []{ (\"GroupOfContract\", \"MZ2.1\") };",
                "\n(await allocatedTechnicalMargins.ToReportAsync) with {Height = 700}"
            ],
            "metadata": {},
            "execution_count": 0,
            "outputs": []
        },
        {
            "cell_type": "markdown",
            "source": [
                "# LRC Actuarial"
            ],
            "metadata": {},
            "execution_count": 0,
            "outputs": []
        },
        {
            "cell_type": "markdown",
            "source": [
                "We now look at the Actuarial Liability of Remaining Coverage of MZ 2.1 Written (base case) for the 3 reporting periods. This report does not include any effective actuals, as it show the actuarial view of the LRC. Therefore, also here the results are the same for all scenarios."
            ],
            "metadata": {},
            "execution_count": 0,
            "outputs": []
        },
        {
            "cell_type": "markdown",
            "source": [
                "## 2020 12"
            ],
            "metadata": {},
            "execution_count": 0,
            "outputs": []
        },
        {
            "cell_type": "code",
            "source": [
                "var actuarialLrc = ifrs17.ActuarialLrc;",
                "\nactuarialLrc.ReportingNode = \"CH\";",
                "\nactuarialLrc.ReportingPeriod = (2020, 12);",
                "\nactuarialLrc.ColumnSlices = new string[]{};",
                "\nactuarialLrc.DataFilter = new []{ (\"GroupOfContract\", \"MZ2.1\") };",
                "\n(await actuarialLrc.ToReportAsync) with {Height = 750}"
            ],
            "metadata": {},
            "execution_count": 0,
            "outputs": []
        },
        {
            "cell_type": "markdown",
            "source": [
                "## 2021 6"
            ],
            "metadata": {},
            "execution_count": 0,
            "outputs": []
        },
        {
            "cell_type": "code",
            "source": [
                "var actuarialLrc = ifrs17.ActuarialLrc;",
                "\nactuarialLrc.ReportingNode = \"CH\";",
                "\nactuarialLrc.ReportingPeriod = (2021, 6);",
                "\nactuarialLrc.ColumnSlices = new string[]{};",
                "\nactuarialLrc.DataFilter = new []{ (\"GroupOfContract\", \"MZ2.1\") };",
                "\n(await actuarialLrc.ToReportAsync) with {Height = 750}"
            ],
            "metadata": {},
            "execution_count": 0,
            "outputs": []
        },
        {
            "cell_type": "markdown",
            "source": [
                "## 2021 12"
            ],
            "metadata": {},
            "execution_count": 0,
            "outputs": []
        },
        {
            "cell_type": "code",
            "source": [
                "var actuarialLrc = ifrs17.ActuarialLrc;",
                "\nactuarialLrc.ReportingNode = \"CH\";",
                "\nactuarialLrc.ReportingPeriod = (2021, 12);",
                "\nactuarialLrc.ColumnSlices = new string[]{};",
                "\nactuarialLrc.DataFilter = new []{ (\"GroupOfContract\", \"MZ2.1\") };",
                "\n(await actuarialLrc.ToReportAsync) with {Height = 750}"
            ],
            "metadata": {},
            "execution_count": 0,
            "outputs": []
        },
        {
            "cell_type": "markdown",
            "source": [
                "# LRC "
            ],
            "metadata": {},
            "execution_count": 0,
            "outputs": []
        },
        {
            "cell_type": "markdown",
            "source": [
                "## 2020 12"
            ],
            "metadata": {},
            "execution_count": 0,
            "outputs": []
        },
        {
            "cell_type": "code",
            "source": [
                "var lrc = ifrs17.Lrc;",
                "\nlrc.ReportingNode = \"CH\";",
                "\nlrc.ReportingPeriod = (2020, 12);",
                "\nlrc.ColumnSlices = new string[]{\"GroupOfContract\", \"EstimateType\"};",
                "\nlrc.DataFilter = null;",
                "\n(await lrc.ToReportAsync) with {Height = 300}"
            ],
            "metadata": {},
            "execution_count": 0,
            "outputs": []
        },
        {
            "cell_type": "markdown",
            "source": [
                "## 2020 6"
            ],
            "metadata": {},
            "execution_count": 0,
            "outputs": []
        },
        {
            "cell_type": "code",
            "source": [
                "var lrc = ifrs17.Lrc;",
                "\nlrc.ReportingNode = \"CH\";",
                "\nlrc.ReportingPeriod = (2021, 6);",
                "\nlrc.ColumnSlices = new string[]{\"GroupOfContract\", \"EstimateType\"};",
                "\nlrc.DataFilter = null;",
                "\n(await lrc.ToReportAsync) with {Height = 300}"
            ],
            "metadata": {},
            "execution_count": 0,
            "outputs": []
        },
        {
            "cell_type": "markdown",
            "source": [
                "## 2021 12"
            ],
            "metadata": {},
            "execution_count": 0,
            "outputs": []
        },
        {
            "cell_type": "code",
            "source": [
                "var lrc = ifrs17.Lrc;",
                "\nlrc.ReportingNode = \"CH\";",
                "\nlrc.ReportingPeriod = (2021, 12);",
                "\nlrc.ColumnSlices = new string[]{\"GroupOfContract\", \"EstimateType\"};",
                "\nlrc.DataFilter = null;",
                "\n(await lrc.ToReportAsync) with {Height = 300}"
            ],
            "metadata": {},
            "execution_count": 0,
            "outputs": []
        },
        {
            "cell_type": "markdown",
            "source": [
                "# Financial Performance"
            ],
            "metadata": {},
            "execution_count": 0,
            "outputs": []
        },
        {
            "cell_type": "markdown",
            "source": [
                "## 2020 12"
            ],
            "metadata": {},
            "execution_count": 0,
            "outputs": []
        },
        {
            "cell_type": "code",
            "source": [
                "var financialPerformance = ifrs17.FinancialPerformance;",
                "\nfinancialPerformance.ReportingNode = \"CH\";",
                "\nfinancialPerformance.ReportingPeriod = (2020, 12);",
                "\nfinancialPerformance.ColumnSlices = new string[]{\"GroupOfContract\"};",
                "\nfinancialPerformance.DataFilter = null;",
                "\n(await financialPerformance.ToReportAsync) with { Height = 900, GroupDefaultExpanded = 3}"
            ],
            "metadata": {},
            "execution_count": 0,
            "outputs": []
        },
        {
            "cell_type": "markdown",
            "source": [
                "## 2021 6"
            ],
            "metadata": {},
            "execution_count": 0,
            "outputs": []
        },
        {
            "cell_type": "code",
            "source": [
                "var financialPerformance = ifrs17.FinancialPerformance;",
                "\nfinancialPerformance.ReportingNode = \"CH\";",
                "\nfinancialPerformance.ReportingPeriod = (2021, 6);",
                "\nfinancialPerformance.ColumnSlices = new string[]{\"GroupOfContract\"};",
                "\nfinancialPerformance.DataFilter = null;",
                "\n(await financialPerformance.ToReportAsync) with { Height = 900, GroupDefaultExpanded = 3}"
            ],
            "metadata": {},
            "execution_count": 0,
            "outputs": []
        },
        {
            "cell_type": "markdown",
            "source": [
                "## 2021 12"
            ],
            "metadata": {},
            "execution_count": 0,
            "outputs": []
        },
        {
            "cell_type": "code",
            "source": [
                "var financialPerformance = ifrs17.FinancialPerformance;",
                "\nfinancialPerformance.ReportingNode = \"CH\";",
                "\nfinancialPerformance.ReportingPeriod = (2021, 12);",
                "\nfinancialPerformance.ColumnSlices = new string[]{\"GroupOfContract\"};",
                "\nfinancialPerformance.DataFilter = null;",
                "\n(await financialPerformance.ToReportAsync) with { Height = 900, GroupDefaultExpanded = 3}"
            ],
            "metadata": {},
            "execution_count": 0,
            "outputs": []
        },
        {
            "cell_type": "code",
            "source": [
                ""
            ],
            "metadata": {},
            "execution_count": 0,
            "outputs": []
        }
    ]
}