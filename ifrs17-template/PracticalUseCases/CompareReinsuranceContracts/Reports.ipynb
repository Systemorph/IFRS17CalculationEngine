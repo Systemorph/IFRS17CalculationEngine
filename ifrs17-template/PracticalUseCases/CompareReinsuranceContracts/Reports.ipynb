{
    "metadata": {
        "authors": [],
        "id": "fSGCg42oXUOYruTUQPiNXg",
        "kernelspec": {
            "display_name": "Formula Framework",
            "language": "C#",
            "name": "C#"
        },
        "language_info": {
            "file_extension": ".cs",
            "mimetype": "text/plain",
            "name": "C#"
        }
    },
    "nbformat": 4,
    "nbformat_minor": 5,
    "cells": [
        {
            "cell_type": "markdown",
            "source": [
                "<p style=\"font-weight:bold;\"> <span style=\"font-size: 36px\"> Quota Share Reinsurance</span> </p>",
                "\n",
                "\n<p style=\"font-weight:bold;\"> <span style=\"font-size: 21px\"> Loss Ratio analysis</span> </p>"
            ],
            "metadata": {},
            "execution_count": 0,
            "outputs": []
        },
        {
            "cell_type": "markdown",
            "source": [
                "# Case Study",
                "\n",
                "\n## Modelling Cash-flow inputs",
                "\n",
                "\nA simple Group of Insurance Contract with New Business and End Of Period runs is modeled over one year period with an expected Loss Ratio (LR) of 60%. We modeled the cashflows evenly distributed over time for both premium (1000 USD total), Claims, and Expenses (estimated to be 30% of Premiums). A Reinsurance Contract covers the above mentioned Insurance Contract. A Quota Share of 30% is considered and a Reinsurance Commission of 35% on the Reinsurance Premiums is modeled. Actual values entered matching the expected values. ",
                "\n",
                "\nAll these parameters are summarized in the following tables: ",
                "\n<br/><br/>",
                "\n|    Insurance Contract |      |&#124;|  Reinsurance Contract |      |",
                "\n|-----------------------|------|-|-----------------------|------|",
                "\n| Total Premium (USD)   | 1000 |&#124;| Cession Share         | 30%  |",
                "\n| Internal Expense      | 30%  |&#124;| Commission            | 35%  |",
                "\n<br/>"
            ],
            "metadata": {},
            "execution_count": 0,
            "outputs": []
        },
        {
            "cell_type": "markdown",
            "source": [
                "## Scenarios ",
                "\n",
                "\nThe inputs descibed in [Modelling Cash-flow inputs](#modelling-cash-flow-inputs) defines the so called \"Best Estimate\" Scenario. This corresponds to what is expected to happen in reality. A scenario analysis is required by IFRS 17 Standards and it can be useful in many cases to analyse risks and take decisions on the future. For example one can easily study how the profit of the Insurance and Reinsuance Contracts modelled with the above mentioned parameter would perform under different values of Loss Ratio. ",
                "\n<br/><br/>",
                "\n<a name=\"TOC\"></a><div align=\"center\">",
                "\n<left><img src=\"../../Images/QuotaShareReinsurance.png\" width=\"45%\" style=\"float:center;\">",
                "\n<right><img src=\"../../Images/QuotaShareReinsurance2.png\" width=\"45%\" style=\"float:center;\">",
                "\n<br/><br/><br/>",
                "\n</div>",
                "\nIn the best estimate scenario (Loss Ratio 60%) we expect the net result of the Insurance and Reinsurance Group Contracts to be profitable, but the costs of having a Reinsurance Contract lower the total profit of the Insurance Group of Contract stand alone. At Loss Ratio of 70% the Group of Insurance Contracts is very close to zero margin and raising futher the Loss Ratio to 80% a Loss making scenario is obtained, where the effect of the Reinsurance contract clearly mitigates the losses as shown by the Net view. ",
                "\n<br/><br/>",
                "\nIn the current use case, we analyse the impact of the Loss Ratio on the relevant figures computed under IFRS 17 using our standard solution implementation.",
                "\nFor simplicity, we consider the contribution of Risk Adjustment to be zero and locked-in and current yield curves are the same. ",
                "\nWe have defined four scenarios in addition to the best estimate. We considered variations to the Loss Ratio up to 70% and 80%. In addition, we also studied the cases of having modelled the input cash flow assuming a Loss Ratio of 60% but the incurred actual cash flow producing a Loss Ratio of 70% and 80%. ",
                "\n<br/><br/>",
                "\n",
                "\n|    Scenario                  | Expected Loss Ratio | Actual Loss Ratio  |",
                "\n|------------------------------|---------------------|--------------------|",
                "\n| Best Estimate                |  60%                | as expected        |",
                "\n| Loss Ratio 70                |  70%                | as expected        |",
                "\n| Loss Ratio 80                |  80%                | as expected        |",
                "\n| Expected LR 60  Actual LR 70 |  60%                | 70%                |",
                "\n| Expected LR 60  Actual LR 80 |  60%                | 80%                |",
                "\n",
                "\n"
            ],
            "metadata": {},
            "execution_count": 0,
            "outputs": []
        },
        {
            "cell_type": "markdown",
            "source": [
                "# Data Import"
            ],
            "metadata": {},
            "execution_count": 0,
            "outputs": []
        },
        {
            "cell_type": "code",
            "source": [
                "#!eval-notebook \"DataImport\""
            ],
            "metadata": {},
            "execution_count": 0,
            "outputs": []
        },
        {
            "cell_type": "code",
            "source": [
                "ifrs17 = new Ifrs17(Workspace, Scopes, Report, Export);"
            ],
            "metadata": {},
            "execution_count": 0,
            "outputs": []
        },
        {
            "cell_type": "code",
            "source": [
                "var reportingYear = 2020; ",
                "\nvar reportingMonth = 12;"
            ],
            "metadata": {},
            "execution_count": 0,
            "outputs": []
        },
        {
            "cell_type": "markdown",
            "source": [
                "# Best Estimate",
                "\n",
                "\n"
            ],
            "metadata": {},
            "execution_count": 0,
            "outputs": []
        },
        {
            "cell_type": "code",
            "source": [
                "var pv = ifrs17.PresentValues;",
                "\npv.ReportingNode = \"CH\";",
                "\npv.ReportingPeriod = (reportingYear, reportingMonth);",
                "\npv.CurrencyType = CurrencyType.Contractual;",
                "\npv.ColumnSlices = new string[]{\"Scenario\",\"GroupOfContract\", \"AmountType\"};",
                "\npv.DataFilter = new [] {(\"EconomicBasis\", \"L\")};//,(\"Scenario\",\"!ELR60A70\"),(\"Scenario\",\"!ELR60A80\")};",
                "\npv.Scenario = \"All\";// null;//\"LR70\";//\"All\";",
                "\n(await pv.ToReportAsync)"
            ],
            "metadata": {},
            "execution_count": 0,
            "outputs": []
        },
        {
            "cell_type": "markdown",
            "source": [
                "# Written Actuals"
            ],
            "metadata": {},
            "execution_count": 0,
            "outputs": []
        },
        {
            "cell_type": "code",
            "source": [
                "var writtenActual = ifrs17.WrittenActuals;",
                "\nwrittenActual.ReportingNode = \"CH\";",
                "\nwrittenActual.ReportingPeriod = (reportingYear, reportingMonth);",
                "\nwrittenActual.ColumnSlices = new string[]{\"Scenario\", \"GroupOfContract\"};",
                "\nwrittenActual.DataFilter =  null;",
                "\nwrittenActual.Scenario = \"All\";",
                "\n(await writtenActual.ToReportAsync) with { GroupDefaultExpanded = 0}"
            ],
            "metadata": {},
            "execution_count": 0,
            "outputs": []
        },
        {
            "cell_type": "markdown",
            "source": [
                "# Actuarial Experience Adjustment"
            ],
            "metadata": {},
            "execution_count": 0,
            "outputs": []
        },
        {
            "cell_type": "code",
            "source": [
                "var experienceAdjustments = ifrs17.ExperienceAdjustments;",
                "\nexperienceAdjustments.ReportingNode = \"CH\";",
                "\nexperienceAdjustments.ReportingPeriod = (reportingYear, reportingMonth);",
                "\nexperienceAdjustments.ColumnSlices = new string[]{\"Scenario\",\"GroupOfContract\"};//\"GroupOfContract\", \"AmountType\"",
                "\nexperienceAdjustments.RowSlices = new string[]{\"AmountType\",\"EstimateType\"};//\"GroupOfContract\", \"AmountType\"",
                "\nexperienceAdjustments.DataFilter = null; //new [] {(\"Scenario\", \"!LR70\"),(\"Scenario\", \"!LR80\")};",
                "\nexperienceAdjustments.Scenario = \"All\";",
                "\n(await experienceAdjustments.ToReportAsync) with { GroupDefaultExpanded = 0}"
            ],
            "metadata": {},
            "execution_count": 0,
            "outputs": []
        },
        {
            "cell_type": "markdown",
            "source": [
                "# Contractual Service Margin / Loss Component"
            ],
            "metadata": {},
            "execution_count": 0,
            "outputs": []
        },
        {
            "cell_type": "code",
            "source": [
                "var allocatedTechnicalMargins = ifrs17.AllocatedTechnicalMargins;",
                "\nallocatedTechnicalMargins.ReportingNode = \"CH\";",
                "\nallocatedTechnicalMargins.ReportingPeriod = (reportingYear, reportingMonth);",
                "\nallocatedTechnicalMargins.ColumnSlices = new string[]{\"Scenario\", \"GroupOfContract\", \"EstimateType\"};",
                "\nallocatedTechnicalMargins.DataFilter = new [] {(\"Scenario\",\"!ELR60A70\"),(\"Scenario\",\"!ELR60A80\")}; //new [] {(\"Scenario\", \"!LR70\"),(\"Scenario\", \"!LR80\")};",
                "\n//allocatedTechnicalMargins.Scenario = null;",
                "\nallocatedTechnicalMargins.Scenario = \"All\";",
                "\n(await allocatedTechnicalMargins.ToReportAsync) with {Height = 700}"
            ],
            "metadata": {},
            "execution_count": 0,
            "outputs": []
        },
        {
            "cell_type": "markdown",
            "source": [
                "# LRC Actuarial",
                "\n"
            ],
            "metadata": {},
            "execution_count": 0,
            "outputs": []
        },
        {
            "cell_type": "code",
            "source": [
                "var actuarialLrc = ifrs17.ActuarialLrc;",
                "\nactuarialLrc.ReportingNode = \"CH\";",
                "\nactuarialLrc.ReportingPeriod = (reportingYear, reportingMonth);",
                "\nactuarialLrc.ColumnSlices = new string[]{\"Scenario\",\"GroupOfContract\",\"EstimateType\"};",
                "\nactuarialLrc.DataFilter = new [] {(\"Scenario\",\"!ELR60A70\"),(\"Scenario\",\"!ELR60A80\")};",
                "\nactuarialLrc.Scenario = \"All\";",
                "\n(await actuarialLrc.ToReportAsync) with {Height = 750}"
            ],
            "metadata": {},
            "execution_count": 0,
            "outputs": []
        },
        {
            "cell_type": "markdown",
            "source": [
                "# Financial Performance",
                "\n"
            ],
            "metadata": {},
            "execution_count": 0,
            "outputs": []
        },
        {
            "cell_type": "code",
            "source": [
                "var financialPerformance = ifrs17.FinancialPerformance;",
                "\nfinancialPerformance.ReportingNode = \"CH\";",
                "\nfinancialPerformance.ReportingPeriod = (reportingYear, reportingMonth);",
                "\nfinancialPerformance.ColumnSlices = new string[]{\"Scenario\", \"GroupOfContract\"};",
                "\nfinancialPerformance.RowSlices = new string[]{\"AmountType\"};",
                "\nfinancialPerformance.DataFilter = null; //new []{(\"Scenario\",\"!LR70\"),(\"Scenario\",\"!ELR60A70\")};//new []{(\"Scenario\",\"!ELR60A70\"),(\"Scenario\",\"!ELR60A80\")};",
                "\nfinancialPerformance.Scenario = \"All\";",
                "\n(await financialPerformance.ToReportAsync) with { Height = 900, GroupDefaultExpanded = 3}"
            ],
            "metadata": {},
            "execution_count": 0,
            "outputs": []
        },
        {
            "cell_type": "markdown",
            "source": [
                "# Key Performance Indicators (KPIs)"
            ],
            "metadata": {},
            "execution_count": 0,
            "outputs": []
        },
        {
            "cell_type": "markdown",
            "source": [
                "## Contractual Service Margine : value creation"
            ],
            "metadata": {},
            "execution_count": 0,
            "outputs": []
        },
        {
            "cell_type": "markdown",
            "source": [
                "### New Business"
            ],
            "metadata": {},
            "execution_count": 0,
            "outputs": []
        },
        {
            "cell_type": "code",
            "source": [
                "var csmNb = allocatedTechnicalMargins.GetDataCube().Where(x => x.VariableType == \"BOP\")",
                "\n                .Select(x => x.Scenario == null ? x with {Scenario = \"Best Estimate\"} : x);",
                "\n                // .Select(x => x.Scenario == null ? x with {Scenario = \"Best Estimate\", ",
                "\n                //                                       Value = x.EstimateType == \"C\" ? -x.Value : x.Value} : x with {Value = x.EstimateType == \"C\" ? -x.Value : x.Value});"
            ],
            "metadata": {},
            "execution_count": 0,
            "outputs": []
        },
        {
            "cell_type": "code",
            "source": [
                "await Report.ForDataCube(csmNb.ToDataCube()).WithQuerySource(Workspace)",
                "\n            .SliceRowsBy(\"VariableType\",\"GroupOfContract\")",
                "\n            .SliceColumnsBy(new[]{\"Currency\",\"Scenario\"})",
                "\n            .ReportGridOptions().ExecuteAsync()"
            ],
            "metadata": {},
            "execution_count": 0,
            "outputs": []
        },
        {
            "cell_type": "markdown",
            "source": [
                "### Amortization"
            ],
            "metadata": {},
            "execution_count": 0,
            "outputs": []
        },
        {
            "cell_type": "code",
            "source": [
                "var csmAM = allocatedTechnicalMargins.GetDataCube().Where(x => x.VariableType == \"AM\" && Math.Abs(x.Value) > 10E-5)",
                "\n            .Select(x => x.Scenario == null ? x with {Scenario = \"Best Estimate\", ",
                "\n                                                      Value = x.EstimateType == \"C\" ? -x.Value : x.Value} : x with {Value = x.EstimateType == \"C\" ? -x.Value : x.Value});"
            ],
            "metadata": {},
            "execution_count": 0,
            "outputs": []
        },
        {
            "cell_type": "code",
            "source": [
                "await Report.ForDataCube(csmAM.ToDataCube()).WithQuerySource(Workspace)",
                "\n            .SliceRowsBy(\"VariableType\",\"GroupOfContract\")",
                "\n            .SliceColumnsBy(new[]{\"Currency\",\"Scenario\",\"EstimateType\"})",
                "\n            .ReportGridOptions(headerColumnWidth: 300).ExecuteAsync()"
            ],
            "metadata": {},
            "execution_count": 0,
            "outputs": []
        },
        {
            "cell_type": "markdown",
            "source": [
                "## Financial Performance"
            ],
            "metadata": {},
            "execution_count": 0,
            "outputs": []
        },
        {
            "cell_type": "markdown",
            "source": [
                "### Total Comprehensive Income : profitability",
                "\nIn absence of the Other Comprehensive Income (OCI) this corresponds to the Profit and Loss as locked-in and current yield curves are the same. "
            ],
            "metadata": {},
            "execution_count": 0,
            "outputs": []
        },
        {
            "cell_type": "code",
            "source": [
                "var tci = financialPerformance.GetDataCube().Select(x => x.Scenario == null ? x with {Scenario = \"Best Estimate\"} : x);",
                "\nvar hierarchicalDimension = Workspace.ToHierarchicalDimensionCache();",
                "\nawait hierarchicalDimension.InitializeAsync<VariableType>();  ",
                "\nvar pnl = tci.Where(x => hierarchicalDimension.Get<VariableType>().Ancestors(x.VariableType, includeSelf: true).Any(x => x.SystemName == \"PNL\"));"
            ],
            "metadata": {},
            "execution_count": 0,
            "outputs": []
        },
        {
            "cell_type": "code",
            "source": [
                "await Report.ForDataCube(pnl.ToDataCube()).WithQuerySource(Workspace)",
                "\n            .SliceRowsBy(\"Scenario\")",
                "\n            .SliceColumnsBy(new[]{\"Currency\",\"GroupOfContract\"}) //\"GroupOfContract\"",
                "\n            .ReportGridOptions().ExecuteAsync()"
            ],
            "metadata": {},
            "execution_count": 0,
            "outputs": []
        },
        {
            "cell_type": "markdown",
            "source": [
                "### Insurance Revenue : business growth"
            ],
            "metadata": {},
            "execution_count": 0,
            "outputs": []
        },
        {
            "cell_type": "code",
            "source": [
                "var insRev = tci.Where(x => hierarchicalDimension.Get<VariableType>().Ancestors(x.VariableType, includeSelf: true).Any(x => x.SystemName == \"IR\"));"
            ],
            "metadata": {},
            "execution_count": 0,
            "outputs": []
        },
        {
            "cell_type": "code",
            "source": [
                "await Report.ForDataCube(insRev.ToDataCube()).WithQuerySource(Workspace)",
                "\n            .SliceRowsBy(\"Scenario\")",
                "\n            .SliceColumnsBy(new[]{\"Currency\",\"GroupOfContract\"})",
                "\n            .ReportGridOptions().ExecuteAsync() "
            ],
            "metadata": {},
            "execution_count": 0,
            "outputs": []
        },
        {
            "cell_type": "markdown",
            "source": [
                "## Experience Variance : business strategy",
                "\nThis indicator represent how well the expected values match the actual. It is not a financial key performance indicator rather a modelling key performance indicator, indicating how well the company expectations are met by the actual figures."
            ],
            "metadata": {},
            "execution_count": 0,
            "outputs": []
        },
        {
            "cell_type": "code",
            "source": [
                "experienceAdjustments.DataFilter = null;",
                "\nvar expAdj = experienceAdjustments.GetDataCube().Where(x => x.VariableType == \"CF\" && Math.Abs(x.Value) > 10E-5).Select(x => x.Scenario == null ? x with {Scenario = \"Best Estimate\"} : x);"
            ],
            "metadata": {},
            "execution_count": 0,
            "outputs": []
        },
        {
            "cell_type": "code",
            "source": [
                "await Report.ForDataCube(expAdj.ToDataCube()).WithQuerySource(Workspace)",
                "\n            .SliceRowsBy(\"Scenario\")",
                "\n            .SliceColumnsBy(new[]{\"Currency\",\"GroupOfContract\"})",
                "\n            .ReportGridOptions().ExecuteAsync()"
            ],
            "metadata": {},
            "execution_count": 0,
            "outputs": []
        },
        {
            "cell_type": "code",
            "source": [
                ""
            ],
            "metadata": {},
            "execution_count": 0,
            "outputs": []
        }
    ]
}