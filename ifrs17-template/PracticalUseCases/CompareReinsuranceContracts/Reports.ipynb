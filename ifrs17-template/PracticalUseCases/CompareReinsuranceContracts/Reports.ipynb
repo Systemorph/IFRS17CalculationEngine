{
    "metadata": {
        "authors": [],
        "id": "fSGCg42oXUOYruTUQPiNXg",
        "kernelspec": {
            "display_name": "Formula Framework",
            "language": "C#",
            "name": "C#"
        },
        "language_info": {
            "file_extension": ".cs",
            "mimetype": "text/plain",
            "name": "C#"
        }
    },
    "nbformat": 4,
    "nbformat_minor": 5,
    "cells": [
        {
            "cell_type": "markdown",
            "source": [
                "<p style=\"font-weight:bold;\"> <span style=\"font-size: 36px\"> Reinsurance</span> </p>",
                "\n",
                "\n<p style=\"font-weight:bold;\"> <span style=\"font-size: 21px\"> Model</span> </p>"
            ],
            "metadata": {},
            "execution_count": 0,
            "outputs": []
        },
        {
            "cell_type": "markdown",
            "source": [
                "# Data Import"
            ],
            "metadata": {},
            "execution_count": 0,
            "outputs": []
        },
        {
            "cell_type": "code",
            "source": [
                "#!eval-notebook \"DataImport\"",
                "\nWorkspace.InitializeFrom(DataSource);",
                "\n//ifrs17.Reset(Workspace) //This is not working"
            ],
            "metadata": {},
            "execution_count": 0,
            "outputs": []
        },
        {
            "cell_type": "code",
            "source": [
                "ifrs17 = new Ifrs17(Workspace, Scopes, Report);"
            ],
            "metadata": {},
            "execution_count": 0,
            "outputs": []
        },
        {
            "cell_type": "code",
            "source": [
                "var reportingYear = 2020; ",
                "\nvar reportingMonth = 12;"
            ],
            "metadata": {},
            "execution_count": 0,
            "outputs": []
        },
        {
            "cell_type": "markdown",
            "source": [
                "# Best Estimate",
                "\n",
                "\n"
            ],
            "metadata": {},
            "execution_count": 0,
            "outputs": []
        },
        {
            "cell_type": "code",
            "source": [
                "var pv = ifrs17.PresentValues;",
                "\npv.ReportingNode = \"CH\";",
                "\npv.ReportingPeriod = (reportingYear, reportingMonth);",
                "\npv.CurrencyType = CurrencyType.Contractual;",
                "\npv.ColumnSlices = new string[]{\"Scenario\",\"GroupOfContract\", \"AmountType\"};",
                "\npv.DataFilter = new [] {(\"EconomicBasis\", \"L\"),(\"Scenario\",\"!ELR60A70\"),(\"Scenario\",\"!ELR60A80\")};",
                "\npv.Scenario = \"All\";// null;//\"LR70\";//\"All\";",
                "\n(await pv.ToReportAsync)"
            ],
            "metadata": {},
            "execution_count": 0,
            "outputs": []
        },
        {
            "cell_type": "markdown",
            "source": [
                "# Written Actuals"
            ],
            "metadata": {},
            "execution_count": 0,
            "outputs": []
        },
        {
            "cell_type": "markdown",
            "source": [
                "Aslo the Actuals for both cases are exactly the same."
            ],
            "metadata": {},
            "execution_count": 0,
            "outputs": []
        },
        {
            "cell_type": "code",
            "source": [
                "var writtenActual = ifrs17.WrittenActuals;",
                "\nwrittenActual.ReportingNode = \"CH\";",
                "\nwrittenActual.ReportingPeriod = (reportingYear, reportingMonth);",
                "\nwrittenActual.ColumnSlices = new string[]{\"Scenario\", \"GroupOfContract\"};",
                "\nwrittenActual.DataFilter =  null;//new [] {(\"GroupOfContract\", \"RP1.1\")};",
                "\nwrittenActual.Scenario = \"All\";",
                "\n(await writtenActual.ToReportAsync) with {Height = 400}"
            ],
            "metadata": {},
            "execution_count": 0,
            "outputs": []
        },
        {
            "cell_type": "markdown",
            "source": [
                "# Actuarial Experience Adjustment"
            ],
            "metadata": {},
            "execution_count": 0,
            "outputs": []
        },
        {
            "cell_type": "code",
            "source": [
                "var experienceAdjustments = ifrs17.ExperienceAdjustments;",
                "\nexperienceAdjustments.ReportingNode = \"CH\";",
                "\nexperienceAdjustments.ReportingPeriod = (reportingYear, reportingMonth);",
                "\nexperienceAdjustments.ColumnSlices = new string[]{\"Scenario\",\"GroupOfContract\"};//\"GroupOfContract\", \"AmountType\"",
                "\nexperienceAdjustments.RowSlices = new string[]{\"AmountType\",\"EstimateType\"};//\"GroupOfContract\", \"AmountType\"",
                "\nexperienceAdjustments.DataFilter = null; //new []{(\"VariableType\", AocTypes.CF), (\"AmountType\",\"!CDR\")}; //new [] {(\"Scenario\",\"!ELR60A70\"),(\"Scenario\",\"!ELR60A80\")}; //new [] {(\"GroupOfContract\", \"DT1.1\")};",
                "\nexperienceAdjustments.Scenario = \"All\";",
                "\n(await experienceAdjustments.ToReportAsync)"
            ],
            "metadata": {},
            "execution_count": 0,
            "outputs": []
        },
        {
            "cell_type": "markdown",
            "source": [
                "# Contractual Service Margin / Loss Component"
            ],
            "metadata": {},
            "execution_count": 0,
            "outputs": []
        },
        {
            "cell_type": "code",
            "source": [
                "var allocatedTechnicalMargins = ifrs17.AllocatedTechnicalMargins;",
                "\nallocatedTechnicalMargins.ReportingNode = \"CH\";",
                "\nallocatedTechnicalMargins.ReportingPeriod = (reportingYear, reportingMonth);",
                "\nallocatedTechnicalMargins.ColumnSlices = new string[]{\"Scenario\", \"GroupOfContract\", \"EstimateType\"};",
                "\nallocatedTechnicalMargins.DataFilter = new [] {(\"Scenario\",\"!ELR60A70\"),(\"Scenario\",\"!ELR60A80\")}; //new [] {(\"Scenario\", \"!LR80\")};",
                "\n//allocatedTechnicalMargins.Scenario = null;",
                "\nallocatedTechnicalMargins.Scenario = \"All\";",
                "\n(await allocatedTechnicalMargins.ToReportAsync) with {Height = 700}"
            ],
            "metadata": {},
            "execution_count": 0,
            "outputs": []
        },
        {
            "cell_type": "markdown",
            "source": [
                "# LRC Actuarial",
                "\n"
            ],
            "metadata": {},
            "execution_count": 0,
            "outputs": []
        },
        {
            "cell_type": "code",
            "source": [
                "var actuarialLrc = ifrs17.ActuarialLrc;",
                "\nactuarialLrc.ReportingNode = \"CH\";",
                "\nactuarialLrc.ReportingPeriod = (reportingYear, reportingMonth);",
                "\nactuarialLrc.ColumnSlices = new string[]{\"Scenario\",\"GroupOfContract\",\"EstimateType\"};",
                "\nactuarialLrc.DataFilter = new [] {(\"Scenario\",\"!ELR60A70\"),(\"Scenario\",\"!ELR60A80\")};",
                "\nactuarialLrc.Scenario = \"All\";",
                "\n(await actuarialLrc.ToReportAsync) with {Height = 750}"
            ],
            "metadata": {},
            "execution_count": 0,
            "outputs": []
        },
        {
            "cell_type": "markdown",
            "source": [
                "# Financial Performance",
                "\n"
            ],
            "metadata": {},
            "execution_count": 0,
            "outputs": []
        },
        {
            "cell_type": "code",
            "source": [
                "var financialPerformance = ifrs17.FinancialPerformance;",
                "\nfinancialPerformance.ReportingNode = \"CH\";",
                "\nfinancialPerformance.ReportingPeriod = (reportingYear, reportingMonth);",
                "\nfinancialPerformance.ColumnSlices = new string[]{\"Scenario\", \"GroupOfContract\"};",
                "\nfinancialPerformance.RowSlices = new string[]{\"AmountType\"};",
                "\nfinancialPerformance.DataFilter = new []{(\"Scenario\",\"!LR70\"),(\"Scenario\",\"!ELR60A70\")};//new []{(\"Scenario\",\"!ELR60A70\"),(\"Scenario\",\"!ELR60A80\")};",
                "\nfinancialPerformance.Scenario = \"All\";",
                "\n(await financialPerformance.ToReportAsync) with { Height = 900, GroupDefaultExpanded = 3}"
            ],
            "metadata": {},
            "execution_count": 0,
            "outputs": []
        },
        {
            "cell_type": "markdown",
            "source": [
                "# KPIs"
            ],
            "metadata": {},
            "execution_count": 0,
            "outputs": []
        },
        {
            "cell_type": "markdown",
            "source": [
                "- CSM NB => Value Creation ",
                "\n- CSM AM => Value Creation ",
                "\n- Insurance Revenue => business Growth",
                "\n- TCI PnL => PnL with OCI = 0 ",
                "\n- Experience Variance => managing underling business"
            ],
            "metadata": {},
            "execution_count": 0,
            "outputs": []
        },
        {
            "cell_type": "code",
            "source": [
                ""
            ],
            "metadata": {},
            "execution_count": 0,
            "outputs": []
        }
    ]
}