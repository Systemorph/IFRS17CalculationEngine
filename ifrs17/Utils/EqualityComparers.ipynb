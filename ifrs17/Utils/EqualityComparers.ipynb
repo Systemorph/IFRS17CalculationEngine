{
    "metadata": {
        "authors": [],
        "kernelspec": {
            "display_name": "Formula Framework",
            "language": "C#",
            "name": "C#"
        },
        "language_info": {
            "file_extension": ".cs",
            "mimetype": "text/plain",
            "name": "C#"
        }
    },
    "nbformat": 4,
    "nbformat_minor": 5,
    "cells": [
        {
            "cell_type": "markdown",
            "source": [
                "<p style=\"font-weight:bold;\"> <span style=\"font-size: 36px\"> Equality Comparers </span> </p>"
            ],
            "metadata": {},
            "execution_count": 0,
            "outputs": []
        },
        {
            "cell_type": "code",
            "source": [
                "#!import \"../DataModel/DataStructure\"",
                "\nusing System;"
            ],
            "metadata": {},
            "execution_count": 0,
            "outputs": []
        },
        {
            "cell_type": "markdown",
            "source": [
                "SequenceEqual static extension method is a utility for double arrays to enable comparison with a pre-defined precision."
            ],
            "metadata": {},
            "execution_count": 0,
            "outputs": []
        },
        {
            "cell_type": "code",
            "source": [
                "public static bool SequenceEqual(this double[] defaultArray, double[] testArray, double precision)",
                "\n{",
                "\n    if ( defaultArray == null || testArray == null ) return false; ",
                "\n    if (defaultArray.Length != testArray.Length) return false;",
                "\n    for (int i = 0; i < defaultArray.Length; i++){",
                "\n        if(Math.Abs(defaultArray[i]-testArray[i]) >= precision) return false;",
                "\n    }",
                "\n    return true;",
                "\n}"
            ],
            "metadata": {},
            "execution_count": 0,
            "outputs": []
        },
        {
            "cell_type": "code",
            "source": [
                "class RawVariableComparer: IEqualityComparer<RawVariable>",
                "\n{",
                "\n    private bool IgnoreValues;",
                "\n    private RawVariableComparer(bool ignoreValues)",
                "\n    {",
                "\n        IgnoreValues = ignoreValues;",
                "\n    }",
                "\n",
                "\n    public bool Equals(RawVariable x, RawVariable y) =>",
                "\n        x.AccidentYear == y.AccidentYear && x.AmountType == y.AmountType && x.DataNode == y.DataNode && x.AocType == y.AocType && ",
                "\n        x.Novelty == y.Novelty && x.EstimateType == y.EstimateType && (IgnoreValues ? true : x.Values.SequenceEqual(y.Values, Precision));",
                "\n",
                "\n    public int GetHashCode(RawVariable v) => 0;",
                "\n",
                "\n    public static RawVariableComparer Instance(bool ignoreValues = false) => new RawVariableComparer(ignoreValues);",
                "\n}"
            ],
            "metadata": {},
            "execution_count": 0,
            "outputs": []
        },
        {
            "cell_type": "code",
            "source": [
                "class IfrsVariableComparer: IEqualityComparer<IfrsVariable>",
                "\n{",
                "\n    private bool IgnoreValue;",
                "\n    private IfrsVariableComparer(bool ignoreValue)",
                "\n    {",
                "\n        IgnoreValue = ignoreValue;",
                "\n    }",
                "\n",
                "\n    public bool Equals(IfrsVariable x, IfrsVariable y) =>",
                "\n        x.AccidentYear == y.AccidentYear && x.AmountType == y.AmountType && x.DataNode == y.DataNode && x.AocType == y.AocType && ",
                "\n        x.Novelty == y.Novelty && x.EstimateType == y.EstimateType && x.EconomicBasis == y.EconomicBasis && (IgnoreValue ? true : Math.Abs(x.Value - y.Value) < Precision); ",
                "\n",
                "\n    public int GetHashCode(IfrsVariable v) => 0;",
                "\n",
                "\n    public static IfrsVariableComparer Instance(bool ignoreValue = false) => new IfrsVariableComparer(ignoreValue);",
                "\n}"
            ],
            "metadata": {},
            "execution_count": 0,
            "outputs": []
        },
        {
            "cell_type": "code",
            "source": [
                "class YieldCurveComparer: IEqualityComparer<YieldCurve>",
                "\n{",
                "\n    private YieldCurveComparer(){}",
                "\n",
                "\n\tpublic bool Equals(YieldCurve x, YieldCurve y) => ",
                "\n        x.Year == y.Year && x.Month == y.Month && x.Scenario == y.Scenario && x.Currency == y.Currency && x.Id == y.Id && x.Values.SequenceEqual(y.Values, Precision);",
                "\n\t",
                "\n\tpublic int GetHashCode (YieldCurve x) => 0;",
                "\n",
                "\n    public static YieldCurveComparer Instance() => new YieldCurveComparer();",
                "\n}",
                "\n"
            ],
            "metadata": {},
            "execution_count": 0,
            "outputs": []
        },
        {
            "cell_type": "code",
            "source": [
                "using System;",
                "\nusing System.Collections.Generic;",
                "\nusing System.Diagnostics; ",
                "\nusing System.Linq;",
                "\nusing System.Linq.Expressions;",
                "\nusing System.Reflection;",
                "\nusing System.Threading;",
                "\n//using Systemorph.Domain;",
                "\n//using Systemorph.Utils.Reflection;",
                "\nusing static Systemorph.Vertex.Equality.IdentityPropertyExtensions;"
            ],
            "metadata": {},
            "execution_count": 0,
            "outputs": []
        },
        {
            "cell_type": "code",
            "source": [
                "class EqualityComparer<T> : IEqualityComparer<T>",
                "\n{",
                "\n    private static readonly System.Reflection.PropertyInfo[] IdentityProperties = typeof(T).GetIdentityProperties().ToArray();",
                "\n    private static Func<T, T, bool> compiledEqualityFunction;",
                "\n",
                "\n    private EqualityComparer() {",
                "\n        compiledEqualityFunction = GetEqualityFunction();",
                "\n    }",
                "\n",
                "\n    public static readonly EqualityComparer<T> Instance = new EqualityComparer<T>();",
                "\n",
                "\n    public bool Equals(T x, T y) => compiledEqualityFunction(x, y);",
                "\n    public int GetHashCode(T obj) => 0;",
                "\n",
                "\n    private static Func<T, T, bool> GetEqualityFunction()",
                "\n    {",
                "\n        var prm1 = Expression.Parameter(typeof(T));",
                "\n        var prm2 = Expression.Parameter(typeof(T));",
                "\n",
                "\n        // r1 == null && r2 == null",
                "\n        var nullConditionExpression = Expression.AndAlso(Expression.Equal(prm1, Expression.Constant(null, typeof(T))), Expression.Equal(prm2, Expression.Constant(null, typeof(T))));",
                "\n        // r1 != null && r2 != null",
                "\n        var nonNullConditionExpression = Expression.AndAlso(Expression.NotEqual(prm1, Expression.Constant(null, typeof(T))), Expression.NotEqual(prm2, Expression.Constant(null, typeof(T))));",
                "\n        // r1.prop1 == r2.prop1 && r1.prop2 == r2.prop2...... ",
                "\n        var allPropertiesEqualExpression = IdentityProperties.Select(propertyInfo => Expression.Equal(Expression.Property(prm1, propertyInfo), Expression.Property(prm2, propertyInfo))).Aggregate(Expression.AndAlso);",
                "\n",
                "\n        var equalityExpr = Expression.OrElse(nullConditionExpression, Expression.AndAlso(nonNullConditionExpression, allPropertiesEqualExpression));",
                "\n        return Expression.Lambda<Func<T, T, bool>>(equalityExpr, prm1, prm2).Compile();",
                "\n    }",
                "\n}"
            ],
            "metadata": {},
            "execution_count": 0,
            "outputs": []
        },
        {
            "cell_type": "code",
            "source": [
                "public class IdentityPropertyReader<T> where T:BaseVariableIdentity {",
                "\n    private static Func<T, string> identityReader;",
                "\n    ",
                "\n    private IdentityPropertyReader(){",
                "\n        identityReader = GetIdentityReader();",
                "\n    }",
                "\n    public static readonly IdentityPropertyReader<T> Instance = new IdentityPropertyReader<T>();",
                "\n",
                "\n    private Func<T, string> GetIdentityReader(){",
                "\n        var parameter = Expression.Parameter(typeof(RawVariable));",
                "\n        var identityProperties = typeof(RawVariable).GetIdentityProperties().Select(x=>x.Name).Where(x=> x != \"AocType\" && x != \"Novelty\").ToArray();",
                "\n        var expressionstToConcat = identityProperties.SelectMany(x=> new Expression[]{Expression.Constant(x+\": \"), Expression.Property(parameter, x) })",
                "\n                                                     .ToArray();",
                "\n        var partialConcatExpression = Expression.Call(typeof(IdentityPropertyReader<RawVariable>).GetMethod(\"concat\"), expressionstToConcat[0], expressionstToConcat[1]);",
                "\n        for (int i = 2; i < expressionstToConcat.Count(); i++){",
                "\n            if(i%2==0) partialConcatExpression = Expression.Call(typeof(IdentityPropertyReader<RawVariable>).GetMethod(\"concat\"), partialConcatExpression, Expression.Constant(\", \"));",
                "\n            if(i%2==1 && identityProperties[(int)Math.Floor((double)i/2)] == \"AccidentYear\"){",
                "\n                partialConcatExpression = Expression.Call(typeof(IdentityPropertyReader<RawVariable>).GetMethod(\"concat2\"), partialConcatExpression, expressionstToConcat[i]);   ",
                "\n            } else{",
                "\n                partialConcatExpression = Expression.Call(typeof(IdentityPropertyReader<RawVariable>).GetMethod(\"concat\"), partialConcatExpression, expressionstToConcat[i]);   ",
                "\n            }",
                "\n        } // i needed (imo) to do it like this, since int? gives problem as Object...",
                "\n        return Expression.Lambda<Func<T,string>>(partialConcatExpression, parameter).Compile();",
                "\n    }",
                "\n    public string GetIdentityString(T x) => identityReader(x);",
                "\n    ",
                "\n    public static string concat(Object? first, Object? second){",
                "\n        if(first == null) first = \"\";",
                "\n        if(second == null) second = \"\";",
                "\n        return first.ToString()+second.ToString();",
                "\n    }",
                "\n    ",
                "\n    public static string concat2(Object? first, int? second){",
                "\n        if(first == null) first = \"\";",
                "\n        if(second == null) return first.ToString();",
                "\n        return first.ToString()+second.ToString();",
                "\n    }",
                "\n}"
            ],
            "metadata": {},
            "execution_count": 0,
            "outputs": []
        },
        {
            "cell_type": "code",
            "source": [
                "var a = new RawVariable(){AccidentYear = null, AocType = \"CL\", Novelty = \"C\", DataNode = \"GIC1.1\", AmountType =\"CL\", EstimateType=\"BE\"};"
            ],
            "metadata": {},
            "execution_count": 0,
            "outputs": []
        },
        {
            "cell_type": "code",
            "source": [
                "var reader2 = IdentityPropertyReader<RawVariable>.Instance;"
            ],
            "metadata": {},
            "execution_count": 0,
            "outputs": []
        },
        {
            "cell_type": "code",
            "source": [
                "reader2.GetIdentityString(a)"
            ],
            "metadata": {},
            "execution_count": 0,
            "outputs": []
        },
        {
            "cell_type": "code",
            "source": [
                ""
            ],
            "metadata": {},
            "execution_count": 0,
            "outputs": []
        },
        {
            "cell_type": "code",
            "source": [
                ""
            ],
            "metadata": {},
            "execution_count": 0,
            "outputs": []
        },
        {
            "cell_type": "code",
            "source": [
                ""
            ],
            "metadata": {},
            "execution_count": 0,
            "outputs": []
        },
        {
            "cell_type": "code",
            "source": [
                ""
            ],
            "metadata": {},
            "execution_count": 0,
            "outputs": []
        },
        {
            "cell_type": "code",
            "source": [
                ""
            ],
            "metadata": {},
            "execution_count": 0,
            "outputs": []
        }
    ]
}