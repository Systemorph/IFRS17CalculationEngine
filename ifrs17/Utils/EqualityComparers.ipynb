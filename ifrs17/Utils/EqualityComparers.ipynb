{
    "metadata": {
        "authors": [],
        "id": "mCSaKAKB_kOGU2Lj-Wovrw",
        "kernelspec": {
            "display_name": "Formula Framework",
            "language": "C#",
            "name": "C#"
        },
        "language_info": {
            "file_extension": ".cs",
            "mimetype": "text/plain",
            "name": "C#"
        }
    },
    "nbformat": 4,
    "nbformat_minor": 5,
    "cells": [
        {
            "cell_type": "markdown",
            "source": [
                "<p style=\"font-weight:bold;\"> <span style=\"font-size: 36px\"> Equality Comparers </span> </p>"
            ],
            "metadata": {},
            "execution_count": 0,
            "outputs": []
        },
        {
            "cell_type": "code",
            "source": [
                "#!import \"../DataModel/DataStructure\"",
                "\nusing System;"
            ],
            "metadata": {},
            "execution_count": 0,
            "outputs": []
        },
        {
            "cell_type": "markdown",
            "source": [
                "SequenceEqual static extension method is a utility for double arrays to enable comparison with a pre-defined precision."
            ],
            "metadata": {},
            "execution_count": 0,
            "outputs": []
        },
        {
            "cell_type": "code",
            "source": [
                "public static bool SequenceEqual(this double[] defaultArray, double[] testArray, double precision)",
                "\n{",
                "\n    if ( defaultArray == null || testArray == null ) return false; ",
                "\n    if (defaultArray.Length != testArray.Length) return false;",
                "\n    for (int i = 0; i < defaultArray.Length; i++){",
                "\n        if(Math.Abs(defaultArray[i]-testArray[i]) >= precision) return false;",
                "\n    }",
                "\n    return true;",
                "\n}"
            ],
            "metadata": {},
            "execution_count": 0,
            "outputs": []
        },
        {
            "cell_type": "code",
            "source": [
                "class RawVariableComparer: IEqualityComparer<RawVariable>",
                "\n{",
                "\n    private bool IgnoreValues;",
                "\n    private RawVariableComparer(bool ignoreValues)",
                "\n    {",
                "\n        IgnoreValues = ignoreValues;",
                "\n    }",
                "\n",
                "\n    public bool Equals(RawVariable x, RawVariable y) =>",
                "\n        x.AccidentYear == y.AccidentYear && x.AmountType == y.AmountType && x.DataNode == y.DataNode && x.AocType == y.AocType && ",
                "\n        x.Novelty == y.Novelty && x.EstimateType == y.EstimateType && (IgnoreValues ? true : x.Values.SequenceEqual(y.Values, Precision));",
                "\n",
                "\n    public int GetHashCode(RawVariable v) => 0;",
                "\n",
                "\n    public static RawVariableComparer Instance(bool ignoreValues = false) => new RawVariableComparer(ignoreValues);",
                "\n}"
            ],
            "metadata": {},
            "execution_count": 0,
            "outputs": []
        },
        {
            "cell_type": "code",
            "source": [
                "class IfrsVariableComparer: IEqualityComparer<IfrsVariable>",
                "\n{",
                "\n    private bool IgnoreValue;",
                "\n    private double precision;",
                "\n    private IfrsVariableComparer(bool ignoreValue, double precision)",
                "\n    {",
                "\n        IgnoreValue = ignoreValue;",
                "\n        this.precision = precision;",
                "\n    }",
                "\n",
                "\n    private bool CompareValues(double[] value1, double[] value2){",
                "\n        if((value1 == null && value2 != null) || ",
                "\n            (value1 != null && value2 == null) || ",
                "\n            (value1.Count() != value2.Count())) return false;",
                "\n        if(value1 == null && value2 == null) return true;",
                "\n        return value1.Select((x, i) => Math.Abs(x - value2.ElementAt(i))).All(x => x < precision);",
                "\n    }",
                "\n",
                "\n    public bool Equals(IfrsVariable x, IfrsVariable y) =>",
                "\n        x.AccidentYear == y.AccidentYear && ",
                "\n        x.AmountType == y.AmountType && ",
                "\n        x.DataNode == y.DataNode && ",
                "\n        x.AocType == y.AocType && ",
                "\n        x.Novelty == y.Novelty && ",
                "\n        x.EstimateType == y.EstimateType && ",
                "\n        x.EconomicBasis == y.EconomicBasis && ",
                "\n        (IgnoreValue ? true : CompareValues(x.Value, y.Value)); ",
                "\n",
                "\n    public int GetHashCode(IfrsVariable v) => 0;",
                "\n",
                "\n    public static IfrsVariableComparer Instance(bool ignoreValue = false, double precision = Precision) => new IfrsVariableComparer(ignoreValue, precision);",
                "\n}"
            ],
            "metadata": {},
            "execution_count": 0,
            "outputs": []
        },
        {
            "cell_type": "code",
            "source": [
                "class YieldCurveComparer: IEqualityComparer<YieldCurve>",
                "\n{",
                "\n    private YieldCurveComparer(){}",
                "\n",
                "\n    public bool Equals(YieldCurve x, YieldCurve y)",
                "\n    {",
                "\n        if (x == null && y == null)",
                "\n            return true; ",
                "\n        if (x == null || y == null)",
                "\n            return false; ",
                "\n        if (!(x.Month == y.Month && x.Scenario == y.Scenario && x.Currency == y.Currency && x.Id == y.Id && x.Name == y.Name))",
                "\n            return false; ",
                "\n        if (x.Year == y.Year)",
                "\n            return x.Values.SequenceEqual(y.Values, YieldCurvePrecision); ",
                "\n        return x.Year > y.Year",
                "\n            ? x.Values.SequenceEqual(y.Values.Skip(x.Year - y.Year).ToArray(), YieldCurvePrecision)",
                "\n            : x.Values.Skip(y.Year - x.Year).ToArray().SequenceEqual(y.Values, YieldCurvePrecision);",
                "\n    }",
                "\n\t",
                "\n    public int GetHashCode (YieldCurve x) => 0;",
                "\n",
                "\n    public static YieldCurveComparer Instance() => new YieldCurveComparer();",
                "\n}"
            ],
            "metadata": {},
            "execution_count": 0,
            "outputs": []
        },
        {
            "cell_type": "code",
            "source": [
                "class ParametersComparer: IEqualityComparer<DataNodeParameter>",
                "\n{",
                "\n    private ParametersComparer(){}",
                "\n",
                "\n    public bool Equals(DataNodeParameter x, DataNodeParameter y) {",
                "\n        if (x == null && y == null) return true; ",
                "\n        if (x == null || y == null) return false; ",
                "\n        if (!(x.Year == y.Year && x.Month == y.Month && x.Scenario == y.Scenario)) return false; ",
                "\n        if (x is SingleDataNodeParameter && y is SingleDataNodeParameter && x.DataNode == y.DataNode &&",
                "\n            ((SingleDataNodeParameter)x).PremiumAllocation == ((SingleDataNodeParameter)y).PremiumAllocation) return true; ",
                "\n        if (x is InterDataNodeParameter && y is InterDataNodeParameter) {",
                "\n            var xi = (InterDataNodeParameter)x;",
                "\n            var yi = (InterDataNodeParameter)y;",
                "\n            if (xi.ReinsuranceCoverage != yi.ReinsuranceCoverage) return false;",
                "\n            if ((xi.LinkedDataNode == yi.LinkedDataNode && xi.DataNode == yi.DataNode) ||",
                "\n                (xi.LinkedDataNode == yi.DataNode && xi.DataNode == yi.LinkedDataNode)) return true;",
                "\n        }",
                "\n        return false;",
                "\n    }",
                "\n\t",
                "\n    public int GetHashCode (DataNodeParameter x) => 0;",
                "\n",
                "\n    public static ParametersComparer Instance() => new ParametersComparer();",
                "\n}"
            ],
            "metadata": {},
            "execution_count": 0,
            "outputs": []
        },
        {
            "cell_type": "code",
            "source": [
                "using System;",
                "\nusing System.Collections.Generic;",
                "\nusing System.Diagnostics; ",
                "\nusing System.Linq;",
                "\nusing System.Linq.Expressions;",
                "\nusing System.Reflection;",
                "\nusing System.Threading;",
                "\n//using Systemorph.Domain;",
                "\n//using Systemorph.Utils.Reflection;",
                "\nusing static Systemorph.Vertex.Equality.IdentityPropertyExtensions;"
            ],
            "metadata": {},
            "execution_count": 0,
            "outputs": []
        },
        {
            "cell_type": "code",
            "source": [
                "class EqualityComparer<T> : IEqualityComparer<T>",
                "\n{",
                "\n    private static readonly System.Reflection.PropertyInfo[] IdentityProperties = typeof(T).GetIdentityProperties().ToArray();",
                "\n    private static Func<T, T, bool> compiledEqualityFunction;",
                "\n",
                "\n    private EqualityComparer() {",
                "\n        compiledEqualityFunction = GetEqualityFunction();",
                "\n    }",
                "\n",
                "\n    public static readonly EqualityComparer<T> Instance = new EqualityComparer<T>();",
                "\n",
                "\n    public bool Equals(T x, T y) => compiledEqualityFunction(x, y);",
                "\n    public int GetHashCode(T obj) => 0;",
                "\n",
                "\n    private static Func<T, T, bool> GetEqualityFunction()",
                "\n    {",
                "\n        var prm1 = Expression.Parameter(typeof(T));",
                "\n        var prm2 = Expression.Parameter(typeof(T));",
                "\n",
                "\n        // r1 == null && r2 == null",
                "\n        var nullConditionExpression = Expression.AndAlso(Expression.Equal(prm1, Expression.Constant(null, typeof(T))), Expression.Equal(prm2, Expression.Constant(null, typeof(T))));",
                "\n        // r1 != null && r2 != null",
                "\n        var nonNullConditionExpression = Expression.AndAlso(Expression.NotEqual(prm1, Expression.Constant(null, typeof(T))), Expression.NotEqual(prm2, Expression.Constant(null, typeof(T))));",
                "\n        // r1.prop1 == r2.prop1 && r1.prop2 == r2.prop2...... ",
                "\n        var allPropertiesEqualExpression = IdentityProperties.Select(propertyInfo => Expression.Equal(Expression.Property(prm1, propertyInfo), Expression.Property(prm2, propertyInfo))).Aggregate(Expression.AndAlso);",
                "\n",
                "\n        var equalityExpr = Expression.OrElse(nullConditionExpression, Expression.AndAlso(nonNullConditionExpression, allPropertiesEqualExpression));",
                "\n        return Expression.Lambda<Func<T, T, bool>>(equalityExpr, prm1, prm2).Compile();",
                "\n    }",
                "\n}"
            ],
            "metadata": {},
            "execution_count": 0,
            "outputs": []
        }
    ]
}