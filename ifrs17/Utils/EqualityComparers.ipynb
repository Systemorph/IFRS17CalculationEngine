{
    "metadata": {
        "authors": [],
        "kernelspec": {
            "display_name": "Formula Framework",
            "language": "C#",
            "name": "C#"
        },
        "language_info": {
            "file_extension": ".cs",
            "mimetype": "text/plain",
            "name": "C#"
        }
    },
    "nbformat": 4,
    "nbformat_minor": 5,
    "cells": [
        {
            "cell_type": "markdown",
            "source": [
                "<p style=\"font-weight:bold;\"> <span style=\"font-size: 36px\"> Equality Comparers </span> </p>"
            ],
            "metadata": {},
            "execution_count": 0,
            "outputs": []
        },
        {
            "cell_type": "code",
            "source": [
                "#!import \"../DataModel/DataStructure\""
            ],
            "metadata": {},
            "execution_count": 0,
            "outputs": []
        },
        {
            "cell_type": "code",
            "source": [
                "class RawVariableComparer: IEqualityComparer<RawVariable>",
                "\n{",
                "\n    private bool IgnoreValues;",
                "\n    private RawVariableComparer(bool ignoreValues)",
                "\n    {",
                "\n        IgnoreValues = ignoreValues;",
                "\n    }",
                "\n",
                "\n    public bool Equals(RawVariable x, RawVariable y) =>",
                "\n        x.AccidentYear == y.AccidentYear && x.AmountType == y.AmountType && x.DataNode == y.DataNode && x.AocType == y.AocType && ",
                "\n        x.Novelty == y.Novelty && x.EstimateType == y.EstimateType && (IgnoreValues ? true : x.Values.SequenceEqual(y.Values)); // TODO: enable Precision",
                "\n",
                "\n    public int GetHashCode(RawVariable v) => IgnoreValues  ",
                "\n                                            ? HashCode.Combine(v.AccidentYear, v.AmountType, v.DataNode, v.AocType, v.Novelty) ",
                "\n                                            : HashCode.Combine(v.AccidentYear, v.AmountType, v.DataNode, v.AocType, v.Novelty, v.Values);",
                "\n",
                "\n    public static RawVariableComparer Instance(bool ignoreValues = false)",
                "\n    { ",
                "\n        return new RawVariableComparer(ignoreValues);",
                "\n    }",
                "\n}"
            ],
            "metadata": {},
            "execution_count": 0,
            "outputs": []
        },
        {
            "cell_type": "code",
            "source": [
                "class IfrsVariableComparer: IEqualityComparer<IfrsVariable>",
                "\n{",
                "\n    private bool IgnoreValue;",
                "\n    private IfrsVariableComparer(bool ignoreValue)",
                "\n    {",
                "\n        IgnoreValue = ignoreValue;",
                "\n    }",
                "\n",
                "\n    public bool Equals(IfrsVariable x, IfrsVariable y) =>",
                "\n        x.AccidentYear == y.AccidentYear && x.AmountType == y.AmountType && x.DataNode == y.DataNode && x.AocType == y.AocType && ",
                "\n        x.Novelty == y.Novelty && x.EstimateType == y.EstimateType && (IgnoreValue ? true : Math.Abs(x.Value - y.Value) < Precision); ",
                "\n",
                "\n    public int GetHashCode(IfrsVariable v) => IgnoreValue  ",
                "\n                                            ? HashCode.Combine(v.AccidentYear, v.AmountType, v.DataNode, v.AocType, v.Novelty) ",
                "\n                                            : HashCode.Combine(v.AccidentYear, v.AmountType, v.DataNode, v.AocType, v.Novelty, v.Value.ToString(\"F5\"));",
                "\n",
                "\n    public static IfrsVariableComparer Instance(bool ignoreValue = false)",
                "\n    { ",
                "\n        return new IfrsVariableComparer(ignoreValue);",
                "\n    }",
                "\n}"
            ],
            "metadata": {},
            "execution_count": 0,
            "outputs": []
        },
        {
            "cell_type": "code",
            "source": [
                "using System;",
                "\nusing System.Collections.Generic;",
                "\nusing System.Diagnostics; ",
                "\nusing System.Linq;",
                "\nusing System.Linq.Expressions;",
                "\nusing System.Reflection;",
                "\nusing System.Threading;",
                "\n//using Systemorph.Domain;",
                "\n//using Systemorph.Utils.Reflection;",
                "\nusing static Systemorph.Vertex.Equality.IdentityPropertyExtensions;"
            ],
            "metadata": {},
            "execution_count": 0,
            "outputs": []
        },
        {
            "cell_type": "code",
            "source": [
                "class EqualityComparer<T> : IEqualityComparer<T>",
                "\n{",
                "\n    private static readonly System.Reflection.PropertyInfo[] IdentityProperties = typeof(T).GetIdentityProperties().ToArray();",
                "\n    private static Func<T, T, bool> compiledEqualityFunction;",
                "\n",
                "\n    private EqualityComparer() {",
                "\n        compiledEqualityFunction = GetEqualityFunction();",
                "\n    }",
                "\n",
                "\n    public static readonly EqualityComparer<T> Instance = new EqualityComparer<T>();",
                "\n",
                "\n    public bool Equals(T x, T y) => compiledEqualityFunction(x, y);",
                "\n    public int GetHashCode(T obj) => 0;",
                "\n",
                "\n    private static Func<T, T, bool> GetEqualityFunction()",
                "\n    {",
                "\n        var prm1 = Expression.Parameter(typeof(T));",
                "\n        var prm2 = Expression.Parameter(typeof(T));",
                "\n",
                "\n        // r1 == null && r2 == null",
                "\n        var nullConditionExpression = Expression.AndAlso(Expression.Equal(prm1, Expression.Constant(null, typeof(T))), Expression.Equal(prm2, Expression.Constant(null, typeof(T))));",
                "\n        // r1 != null && r2 != null",
                "\n        var nonNullConditionExpression = Expression.AndAlso(Expression.NotEqual(prm1, Expression.Constant(null, typeof(T))), Expression.NotEqual(prm2, Expression.Constant(null, typeof(T))));",
                "\n        // r1.prop1 == r2.prop1 && r1.prop2 == r2.prop2...... ",
                "\n        var allPropertiesEqualExpression = IdentityProperties.Select(propertyInfo => Expression.Equal(Expression.Property(prm1, propertyInfo), Expression.Property(prm2, propertyInfo))).Aggregate(Expression.AndAlso);",
                "\n",
                "\n        var equalityExpr = Expression.OrElse(nullConditionExpression, Expression.AndAlso(nonNullConditionExpression, allPropertiesEqualExpression));",
                "\n        return Expression.Lambda<Func<T, T, bool>>(equalityExpr, prm1, prm2).Compile();",
                "\n    }",
                "\n}"
            ],
            "metadata": {},
            "execution_count": 0,
            "outputs": []
        },
        {
            "cell_type": "code",
            "source": [
                ""
            ],
            "metadata": {},
            "execution_count": 0,
            "outputs": []
        }
    ]
}