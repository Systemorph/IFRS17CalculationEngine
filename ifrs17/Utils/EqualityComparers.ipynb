{
    "metadata": {
        "authors": [],
        "kernelspec": {
            "display_name": "Formula Framework",
            "language": "C#",
            "name": "C#"
        },
        "language_info": {
            "file_extension": ".cs",
            "mimetype": "text/plain",
            "name": "C#"
        }
    },
    "nbformat": 4,
    "nbformat_minor": 5,
    "cells": [
        {
            "cell_type": "markdown",
            "source": [
                "<p style=\"font-weight:bold;\"> <span style=\"font-size: 36px\"> Equality Comparers </span> </p>"
            ]
        },
        {
            "cell_type": "code",
            "source": [
                "#!import \"../DataModel/DataStructure\""
            ]
        },
        {
            "cell_type": "code",
            "source": [
                "class RawVariableComparer: IEqualityComparer<RawVariable>",
                "\n{",
                "\n    private bool IgnoreValues;",
                "\n    private RawVariableComparer(bool ignoreValues)",
                "\n    {",
                "\n        IgnoreValues = ignoreValues;",
                "\n    }",
                "\n",
                "\n    public bool Equals(RawVariable x, RawVariable y) =>",
                "\n        x.AccidentYear == y.AccidentYear && x.AmountType == y.AmountType && x.DataNode == y.DataNode && x.AocType == y.AocType && ",
                "\n        x.Novelty == y.Novelty && x.EstimateType == y.EstimateType && (IgnoreValues ? true : x.Values.SequenceEqual(y.Values)); // TODO: enable Precision",
                "\n",
                "\n    public int GetHashCode(RawVariable v) => IgnoreValues  ",
                "\n                                            ? HashCode.Combine(v.AccidentYear, v.AmountType, v.DataNode, v.AocType, v.Novelty) ",
                "\n                                            : HashCode.Combine(v.AccidentYear, v.AmountType, v.DataNode, v.AocType, v.Novelty, v.Values);",
                "\n",
                "\n    public static RawVariableComparer Instance(bool ignoreValues = false)",
                "\n    { ",
                "\n        return new RawVariableComparer(ignoreValues);",
                "\n    }",
                "\n}"
            ]
        },
        {
            "cell_type": "code",
            "source": [
                "class IfrsVariableComparer: IEqualityComparer<IfrsVariable>",
                "\n{",
                "\n    private bool IgnoreValue;",
                "\n    private IfrsVariableComparer(bool ignoreValue)",
                "\n    {",
                "\n        IgnoreValue = ignoreValue;",
                "\n    }",
                "\n",
                "\n    public bool Equals(IfrsVariable x, IfrsVariable y) =>",
                "\n        x.AccidentYear == y.AccidentYear && x.AmountType == y.AmountType && x.DataNode == y.DataNode && x.AocType == y.AocType && ",
                "\n        x.Novelty == y.Novelty && x.EstimateType == y.EstimateType && (IgnoreValue ? true : Math.Abs(x.Value - y.Value) < Precision); ",
                "\n",
                "\n    public int GetHashCode(IfrsVariable v) => IgnoreValue  ",
                "\n                                            ? HashCode.Combine(v.AccidentYear, v.AmountType, v.DataNode, v.AocType, v.Novelty) ",
                "\n                                            : HashCode.Combine(v.AccidentYear, v.AmountType, v.DataNode, v.AocType, v.Novelty, v.Value.ToString(\"F5\"));",
                "\n",
                "\n    public static IfrsVariableComparer Instance(bool ignoreValue = false)",
                "\n    { ",
                "\n        return new IfrsVariableComparer(ignoreValue);",
                "\n    }",
                "\n}"
            ]
        }
    ]
}