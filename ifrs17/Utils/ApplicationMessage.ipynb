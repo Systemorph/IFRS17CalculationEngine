{
    "metadata": {
        "authors": [],
        "kernelspec": {
            "display_name": "Formula Framework",
            "language": "C#",
            "name": "C#"
        },
        "language_info": {
            "file_extension": ".cs",
            "mimetype": "text/plain",
            "name": "C#"
        },
        "toc-autonumbering": "True",
        "toc-showcode": "False",
        "toc-showmarkdowntxt": "False"
    },
    "nbformat": 4,
    "nbformat_minor": 5,
    "cells": [
        {
            "cell_type": "markdown",
            "source": [
                "<p style=\"font-weight:bold;\"> <span style=\"font-size: 36px\"> Application Message </span> </p>"
            ],
            "metadata": {},
            "execution_count": 0,
            "outputs": []
        },
        {
            "cell_type": "code",
            "source": [
                "#!import \"../Constants/Validations\"",
                "\n#!import \"../DataModel/DataStructure\""
            ],
            "metadata": {},
            "execution_count": 0,
            "outputs": []
        },
        {
            "cell_type": "code",
            "source": [
                "using Microsoft.Extensions.Logging;",
                "\n",
                "\npublic static class ApplicationMessage {",
                "\n    private static ILogger log;",
                "\n    ",
                "\n    private static IActivityVariable activity;",
                "\n    ",
                "\n    public static void Configure (ILogger log, IActivityVariable activity) ",
                "\n    {",
                "\n        ApplicationMessage.log = log;",
                "\n        ApplicationMessage.activity = activity;",
                "\n    }",
                "\n    ",
                "\n    public static Object Log (Error e, params string[] s) { log.LogError(Get(e,s)); return null; }",
                "\n    public static Object Log (Warning w, params string[] s) { log.LogWarning(Get(w,s)); return null; }",
                "\n    ",
                "\n    public static Object Log (ActivityLog activityLog) {",
                "\n        foreach(var error in activityLog.Errors) log.LogError(error.ToString());",
                "\n        foreach(var warning in activityLog.Warnings) log.LogWarning(warning.ToString());",
                "\n        return null;",
                "\n    }",
                "\n    ",
                "\n    public static bool HasErrors () => activity.HasErrors();",
                "\n    public static bool HasWarnings () => activity.HasWarnings();",
                "\n}"
            ],
            "metadata": {},
            "execution_count": 0,
            "outputs": []
        },
        {
            "cell_type": "code",
            "source": [
                "ApplicationMessage.Configure(Log, Activity)"
            ],
            "metadata": {},
            "execution_count": 0,
            "outputs": []
        },
        {
            "cell_type": "markdown",
            "source": [
                "# Utils"
            ],
            "metadata": {},
            "execution_count": 0,
            "outputs": []
        },
        {
            "cell_type": "code",
            "source": [
                "public static bool HasErrors (this ActivityLog[] logs) {",
                "\n    foreach (var log in logs)",
                "\n        if(log.Errors.Any())",
                "\n            return true;",
                "\n    return false;",
                "\n}"
            ],
            "metadata": {},
            "execution_count": 0,
            "outputs": []
        },
        {
            "cell_type": "code",
            "source": [
                "public static ActivityLog Merge (this ActivityLog a, ActivityLog b) {",
                "\n    return a with { ",
                "\n        Status         = a.Status == ActivityLogStatus.Failed || b.Status == ActivityLogStatus.Failed ? ActivityLogStatus.Failed : ActivityLogStatus.Succeeded,",
                "\n        StartDateTime  = a.StartDateTime < b.StartDateTime ? a.StartDateTime : b.StartDateTime,",
                "\n        FinishDateTime = a.FinishDateTime > b.FinishDateTime ? a.FinishDateTime : b.FinishDateTime,",
                "\n        Errors         = a.Errors.Concat(b.Errors).ToList(),",
                "\n        Warnings       = a.Warnings.Concat(b.Warnings).ToList(),",
                "\n        Infos          = a.Infos.Concat(b.Infos).ToList(),",
                "\n    };",
                "\n}",
                "\n",
                "\npublic static ActivityLog Merge (this ActivityLog[] logs) ",
                "\n{",
                "\n    if(logs == null || logs.Length == 0) return null;",
                "\n    return logs.Aggregate((x, y) => x.Merge(y));",
                "\n}",
                "\n",
                "\npublic static ActivityLog Merge (this ActivityLog[] logs, ActivityLog log) => logs.Merge().Merge(log);",
                "\npublic static ActivityLog Merge (this ActivityLog log, ActivityLog[] logs) => log.Merge(logs.Merge());"
            ],
            "metadata": {},
            "execution_count": 0,
            "outputs": []
        },
        {
            "cell_type": "code",
            "source": [
                ""
            ],
            "metadata": {},
            "execution_count": 0,
            "outputs": []
        }
    ]
}