{
    "metadata": {
        "authors": [],
        "kernelspec": {
            "display_name": "Formula Framework",
            "language": "C#",
            "name": "C#"
        },
        "language_info": {
            "file_extension": ".cs",
            "mimetype": "text/plain",
            "name": "C#"
        },
        "toc-autonumbering": "True",
        "toc-showcode": "False"
    },
    "nbformat": 4,
    "nbformat_minor": 5,
    "cells": [
        {
            "cell_type": "markdown",
            "source": [
                "<p style=\"font-weight:bold;\"> <span style=\"font-size: 36px\"> Import Calculation Methods </span> </p"
            ]
        },
        {
            "cell_type": "code",
            "source": [
                "#!import \"./Extensions\""
            ]
        },
        {
            "cell_type": "markdown",
            "source": [
                "# Get Previous Identities"
            ]
        },
        {
            "cell_type": "code",
            "source": [
                "public static Dictionary<AocStep,IEnumerable<AocStep>> GetPreviousIdentities(IEnumerable<AocStep> identities)",
                "\n{",
                "\n    var bopNovelties = identities.Where(id => id.AocType == AocTypes.BOP).Select(id => id.Novelty);",
                "\n    var previousStep = (new string[]{Novelties.N,Novelties.I,Novelties.C})",
                "\n                                        .ToDictionary(n => n, n => bopNovelties.Contains(n) ? new AocStep(AocTypes.BOP,n) : null);",
                "\n    return identities.Where(id =>  id.AocType != AocTypes.BOP)",
                "\n                                .ToDictionary(x => x, x => {var ret = x.AocType == AocTypes.CL ? previousStep.Where(kvp => kvp.Value != null).Select(kvp => kvp.Value).ToArray() ",
                "\n                                                                                               : previousStep[x.Novelty].RepeatOnce();",
                "\n                                                            previousStep[x.Novelty] = new AocStep(x.AocType, x.Novelty);",
                "\n                                                            return ret;});",
                "\n}"
            ]
        },
        {
            "cell_type": "markdown",
            "source": [
                "# Get Reference AocStep for calculated steps"
            ]
        },
        {
            "cell_type": "code",
            "source": [
                "public static AocStep GetReferenceAocStepForCalculated(this IEnumerable<AocStep> identities, Dictionary<AocStep, AocConfiguration> aocConfigurationByAocStep, AocStep identityAocStep)",
                "\n{",
                "\n    return identities.LastOrDefault(aocStep => aocConfigurationByAocStep[aocStep].DataType != DataType.Calculated",
                "\n                                            && aocConfigurationByAocStep[aocStep].DataType != DataType.CalculatedTelescopic",
                "\n                                            && aocConfigurationByAocStep[aocStep].Order < aocConfigurationByAocStep[identityAocStep].Order",
                "\n                                            && aocStep.Novelty == identityAocStep.Novelty) ",
                "\n        ?? new AocStep(default, default);",
                "\n}"
            ]
        },
        {
            "cell_type": "markdown",
            "source": [
                "# Discount and Cumulate"
            ]
        },
        {
            "cell_type": "code",
            "source": [
                "public static double[] ComputeDiscountAndCumulate(this double[] nominalValues, double[] monthlyDiscounting, PeriodType periodType) ",
                "\n{ ",
                "\n    if(nominalValues == null) return Enumerable.Empty<double>().ToArray();",
                "\n    ",
                "\n    var ret = new double[nominalValues.Length];",
                "\n    ",
                "\n    if(periodType == PeriodType.BeginningOfPeriod)",
                "\n    {",
                "\n        for (var i = nominalValues.Length - 1; i >= 0; i--)",
                "\n                ret[i] = nominalValues[i] + GetElementOrDefault(ret, i + 1) * GetElementOrDefault(monthlyDiscounting, i/12);",
                "\n        return ret;",
                "\n    }",
                "\n    ",
                "\n    for (var i = nominalValues.Length - 1; i >= 0; i--)",
                "\n                ret[i] = ( nominalValues[i] + GetElementOrDefault(ret, i + 1) ) * GetElementOrDefault(monthlyDiscounting, i/12);",
                "\n    ",
                "\n    return ret;",
                "\n}"
            ]
        },
        {
            "cell_type": "code",
            "source": [
                "public static double[] ComputeDiscountAndCumulateWithCreditDefaultRisk(this double[] nominalValues, double[] monthlyDiscounting, double nonPerformanceRiskRate) //Is it correct that NonPerformanceRiskRate is a double? Should it be an array that takes as input tau/t?",
                "\n{ ",
                "\n    return Enumerable.Range(0, nominalValues.Length)",
                "\n                     .Select( t => Enumerable.Range(t, nominalValues.Length-t)",
                "\n                                             .Select( tau => nominalValues[tau] * Math.Pow(GetElementOrDefault(monthlyDiscounting, t/12), tau-t+1) * (Math.Exp(-nonPerformanceRiskRate*(tau-t)) - 1) )",
                "\n                                             .Sum() )",
                "\n                     .ToArray();",
                "\n}"
            ]
        },
        {
            "cell_type": "markdown",
            "source": [
                "# Import Configuration "
            ]
        },
        {
            "cell_type": "markdown",
            "source": [
                "## Data Nodes"
            ]
        },
        {
            "cell_type": "code",
            "source": [
                "public GroupOfInsuranceContract ExtendGroupOfContract(GroupOfInsuranceContract gic, IDataRow datarow) => gic;"
            ]
        },
        {
            "cell_type": "code",
            "source": [
                "public GroupOfReinsuranceContract ExtendGroupOfContract(GroupOfReinsuranceContract gric, IDataRow datarow) => gric;"
            ]
        },
        {
            "cell_type": "markdown",
            "source": [
                "## Change Sign Rules"
            ]
        },
        {
            "cell_type": "code",
            "source": [
                "public static int GetSign((string AocType, string AmountType, string EstimateType, bool IsReinsurance) variable, Systemorph.Vertex.Hierarchies.IHierarchicalDimensionCache hierarchyCache) => 1;"
            ]
        },
        {
            "cell_type": "markdown",
            "source": [
                "## EstimateType And AmountType"
            ]
        },
        {
            "cell_type": "code",
            "source": [
                "public static Dictionary<string, HashSet<string>> GetAmountTypesByEstimateType(Systemorph.Vertex.Hierarchies.IHierarchicalDimensionCache hierarchyCache)",
                "\n{",
                "\n    return new Dictionary<string, HashSet<string>>(){",
                "\n        {EstimateTypes.RA, new string[]{}.ToHashSet()},",
                "\n        {EstimateTypes.C, new string[]{}.ToHashSet()},",
                "\n        {EstimateTypes.L, new string[]{}.ToHashSet()},",
                "\n        {EstimateTypes.LR, new string[]{}.ToHashSet()},",
                "\n   };",
                "\n}"
            ]
        },
        {
            "cell_type": "markdown",
            "source": [
                "## Technical Margin EstimateType"
            ]
        },
        {
            "cell_type": "code",
            "source": [
                "public static HashSet<string> GetTechnicalMarginEstimateType()",
                "\n{",
                "\n    return new []{EstimateTypes.C, EstimateTypes.L, EstimateTypes.LR, }.ToHashSet();",
                "\n}"
            ]
        }
    ]
}