{
    "metadata": {
        "authors": [],
        "id": "IA3IvuUbk0atrL8OxJVZ2Q",
        "kernelspec": {
            "display_name": "Formula Framework",
            "language": "C#",
            "name": "C#"
        },
        "language_info": {
            "file_extension": ".cs",
            "mimetype": "text/plain",
            "name": "C#"
        }
    },
    "nbformat": 4,
    "nbformat_minor": 5,
    "cells": [
        {
            "cell_type": "markdown",
            "source": [
                "<p style=\"font-weight:bold;\"> <span style=\"font-size: 36px\"> Import Calculation Methods </span> </p"
            ],
            "metadata": {},
            "execution_count": 0,
            "outputs": []
        },
        {
            "cell_type": "code",
            "source": [
                "#!import \"./Extensions\""
            ],
            "metadata": {},
            "execution_count": 0,
            "outputs": []
        },
        {
            "cell_type": "markdown",
            "source": [
                "# Discount and Cumulate",
                "\n",
                "\nCalculation method called from the Import Scopes. Expected inputs are nominal values and monthly discounting rate arrays and the period type which controls the details of the formula used. The monthly discounting rates can correspond to an empty array, this is the indication that this method should perform only the cumulation of the nominal withouth discounting. This is achieve by setting the monthly discounting to 1. "
            ],
            "metadata": {},
            "execution_count": 0,
            "outputs": []
        },
        {
            "cell_type": "code",
            "source": [
                "public static double[] ComputeDiscountAndCumulate(this double[] nominalValues, double[] monthlyDiscounting, PeriodType periodType) ",
                "\n{ ",
                "\n    if(nominalValues == null) return Enumerable.Empty<double>().ToArray();",
                "\n    if(!monthlyDiscounting.Any()) monthlyDiscounting = new double[]{1d}; //Empty discounting array triggers Cumulation. ",
                "\n",
                "\n    var ret = new double[nominalValues.Length];",
                "\n    ",
                "\n    if(periodType == PeriodType.BeginningOfPeriod)",
                "\n    {",
                "\n        for (var i = nominalValues.Length - 1; i >= 0; i--)",
                "\n                ret[i] = nominalValues[i] + ret.GetValidElement(i + 1) * monthlyDiscounting.GetValidElement(i/12);",
                "\n        return ret;",
                "\n    }",
                "\n    ",
                "\n    for (var i = nominalValues.Length - 1; i >= 0; i--)",
                "\n                ret[i] = ( nominalValues[i] + ret.GetValidElement(i + 1) ) * monthlyDiscounting.GetValidElement(i/12);",
                "\n    ",
                "\n    return ret;",
                "\n}"
            ],
            "metadata": {},
            "execution_count": 0,
            "outputs": []
        },
        {
            "cell_type": "code",
            "source": [
                "public static double[] ComputeDiscountAndCumulateWithCreditDefaultRisk(this double[] nominalValues, double[] monthlyDiscounting, double nonPerformanceRiskRate) //NonPerformanceRiskRate consider to be constant in time. Refinement would it be an array that takes as input tau/t.",
                "\n{ ",
                "\n    if(!monthlyDiscounting.Any()) monthlyDiscounting = new double[]{1d}; //Empty discounting array triggers Cumulation.",
                "\n    return Enumerable.Range(0, nominalValues.Length)",
                "\n                     .Select( t => Enumerable.Range(t, nominalValues.Length-t)",
                "\n                                             .Select( tau => nominalValues[tau] * Math.Pow(monthlyDiscounting.GetValidElement(t/12), tau-t+1) * (Math.Exp(-nonPerformanceRiskRate*(tau-t)) - 1) )",
                "\n                                             .Sum() )",
                "\n                     .ToArray();",
                "\n}"
            ],
            "metadata": {},
            "execution_count": 0,
            "outputs": []
        },
        {
            "cell_type": "code",
            "source": [
                "public static IDataCube<RawVariable> ComputeDiscountAndCumulate ( this IDataCube<RawVariable> nominalRawVariables, double[] yearlyDiscountRates, AmountType[] amountTypes ) ",
                "\n{",
                "\n    if(nominalRawVariables == null) return Enumerable.Empty<RawVariable>().ToDataCube();",
                "\n    var periodTypeByAmountType = amountTypes.ToDictionary(x => x.SystemName, x => x.PeriodType);",
                "\n       ",
                "\n    return nominalRawVariables.Select(rv => {",
                "\n        var values = rv.Values.ToArray();",
                "\n        var cdcf = new double[values.Length];",
                "\n        periodTypeByAmountType.TryGetValue(rv.AmountType, out var period);",
                "\n",
                "\n        if(period == PeriodType.BeginningOfPeriod)",
                "\n        {",
                "\n            for (var i = cdcf.Length - 1; i >= 0; i--)",
                "\n                cdcf[i] = values[i] + cdcf.GetValidElement(i + 1) * yearlyDiscountRates.GetValidElement(i/12);",
                "\n        }",
                "\n        else",
                "\n        { ",
                "\n            for (var i = cdcf.Length - 1; i >= 0; i--)",
                "\n                cdcf[i] = ( values[i] + cdcf.GetValidElement(i + 1) ) * yearlyDiscountRates.GetValidElement(i/12);",
                "\n        }",
                "\n        return rv with { Values = cdcf };",
                "\n    })",
                "\n    .ToDataCube();",
                "\n}"
            ],
            "metadata": {},
            "execution_count": 0,
            "outputs": []
        },
        {
            "cell_type": "markdown",
            "source": [
                "# Import Configuration "
            ],
            "metadata": {},
            "execution_count": 0,
            "outputs": []
        },
        {
            "cell_type": "markdown",
            "source": [
                "## Data Nodes"
            ],
            "metadata": {},
            "execution_count": 0,
            "outputs": []
        },
        {
            "cell_type": "code",
            "source": [
                "public GroupOfInsuranceContract ExtendGroupOfContract(GroupOfInsuranceContract gic, IDataRow datarow) => gic;"
            ],
            "metadata": {},
            "execution_count": 0,
            "outputs": []
        },
        {
            "cell_type": "code",
            "source": [
                "public GroupOfReinsuranceContract ExtendGroupOfContract(GroupOfReinsuranceContract gric, IDataRow datarow) => gric;"
            ],
            "metadata": {},
            "execution_count": 0,
            "outputs": []
        },
        {
            "cell_type": "markdown",
            "source": [
                "## Data Node Parameters"
            ],
            "metadata": {},
            "execution_count": 0,
            "outputs": []
        },
        {
            "cell_type": "code",
            "source": [
                "public SingleDataNodeParameter ExtendSingleDataNodeParameter(SingleDataNodeParameter singleDataNodeParameter, IDataRow datarow) => singleDataNodeParameter;"
            ],
            "metadata": {},
            "execution_count": 0,
            "outputs": []
        },
        {
            "cell_type": "markdown",
            "source": [
                "## Economic Basis Driver default"
            ],
            "metadata": {},
            "execution_count": 0,
            "outputs": []
        },
        {
            "cell_type": "code",
            "source": [
                "public static string GetDefaultEconomicBasisDriver(string valuationApproach, string liabilityType) {",
                "\n    return (valuationApproach, liabilityType) switch {",
                "\n        (ValuationApproaches.BBA, _) => EconomicBases.L,",
                "\n        (ValuationApproaches.VFA, _) => EconomicBases.C,",
                "\n        (ValuationApproaches.PAA, LiabilityTypes.LIC) => EconomicBases.C,",
                "\n        _ => EconomicBases.N,",
                "\n    };",
                "\n}"
            ],
            "metadata": {},
            "execution_count": 0,
            "outputs": []
        },
        {
            "cell_type": "markdown",
            "source": [
                "## Interpolate"
            ],
            "metadata": {},
            "execution_count": 0,
            "outputs": []
        },
        {
            "cell_type": "code",
            "source": [
                "public static double[] Interpolate(this double[] cashflowValues, CashFlowPeriodicity periodicity, InterpolationMethod interpolationMethod)",
                "\n{ ",
                "\n    if (periodicity == CashFlowPeriodicity.Monthly)",
                "\n        return cashflowValues;",
                "\n    ",
                "\n    var frequency = periodicity switch {",
                "\n        CashFlowPeriodicity.Yearly => 12,",
                "\n        CashFlowPeriodicity.Quarterly => 4,",
                "\n        _ => 1",
                "\n        };",
                "\n    ",
                "\n    return interpolationMethod switch {",
                "\n        InterpolationMethod.Start        => cashflowValues.SelectMany(v => Enumerable.Range(0, frequency).Select(x => x == 0 ? v : default)).ToArray(),",
                "\n        InterpolationMethod.Uniform or _ => cashflowValues.SelectMany(v => Enumerable.Range(0, frequency).Select( _ => v / (double)frequency)).ToArray()",
                "\n    };",
                "\n",
                "\n}"
            ],
            "metadata": {},
            "execution_count": 0,
            "outputs": []
        },
        {
            "cell_type": "markdown",
            "source": [
                "## Change Sign Rules"
            ],
            "metadata": {},
            "execution_count": 0,
            "outputs": []
        },
        {
            "cell_type": "code",
            "source": [
                "public static int GetSign(string importFormat, (string AocType, string AmountType, string EstimateType, bool IsReinsurance) variable, Systemorph.Vertex.Hierarchies.IHierarchicalDimensionCache hierarchyCache) => 1;"
            ],
            "metadata": {},
            "execution_count": 0,
            "outputs": []
        },
        {
            "cell_type": "markdown",
            "source": [
                "## Adjust Values for Cashflows"
            ],
            "metadata": {},
            "execution_count": 0,
            "outputs": []
        },
        {
            "cell_type": "code",
            "source": [
                "public static double[] AdjustValues(this double[] values, ImportArgs args, DataNodeData dataNodeData, int? AccidentYear) => values;"
            ],
            "metadata": {},
            "execution_count": 0,
            "outputs": []
        },
        {
            "cell_type": "markdown",
            "source": [
                "## Extend Parsed Raw Variables"
            ],
            "metadata": {},
            "execution_count": 0,
            "outputs": []
        },
        {
            "cell_type": "code",
            "source": [
                "public static async Task ExtendParsedVariables (this IWorkspace workspace, Systemorph.Vertex.Hierarchies.IHierarchicalDimensionCache hierarchyCache) {}"
            ],
            "metadata": {},
            "execution_count": 0,
            "outputs": []
        },
        {
            "cell_type": "markdown",
            "source": [
                "## EstimateType And AmountType"
            ],
            "metadata": {},
            "execution_count": 0,
            "outputs": []
        },
        {
            "cell_type": "code",
            "source": [
                "public static Dictionary<string, HashSet<string>> GetAmountTypesByEstimateType(Systemorph.Vertex.Hierarchies.IHierarchicalDimensionCache hierarchyCache)",
                "\n{",
                "\n    return new Dictionary<string, HashSet<string>>(){",
                "\n        {EstimateTypes.RA, new string[]{}.ToHashSet()},",
                "\n        {EstimateTypes.C, new string[]{}.ToHashSet()},",
                "\n        {EstimateTypes.L, new string[]{}.ToHashSet()},",
                "\n        {EstimateTypes.LR, new string[]{}.ToHashSet()},",
                "\n   };",
                "\n}"
            ],
            "metadata": {},
            "execution_count": 0,
            "outputs": []
        },
        {
            "cell_type": "code",
            "source": [
                "public static (string, string) ParseAmountAndEstimateType (this IDataRow datarow, string format, ",
                "\n    Dictionary<Type, Dictionary<string, string>> dimensionsWithExternalId, ",
                "\n    Dictionary<string, EstimateType> estimateTypes, ",
                "\n    Dictionary<string, AmountType> amountTypes) ",
                "\n{",
                "\n    return (datarow.Field<string>(nameof(RawVariable.AmountType)), datarow.Field<string>(nameof(RawVariable.EstimateType)));",
                "\n}"
            ],
            "metadata": {},
            "execution_count": 0,
            "outputs": []
        },
        {
            "cell_type": "markdown",
            "source": [
                "## Non Attributable AmountTypes"
            ],
            "metadata": {},
            "execution_count": 0,
            "outputs": []
        },
        {
            "cell_type": "code",
            "source": [
                "public static HashSet<string> GetNonAttributableAmountTypes() => new string[]{AmountTypes.NE}.ToHashSet();"
            ],
            "metadata": {},
            "execution_count": 0,
            "outputs": []
        },
        {
            "cell_type": "markdown",
            "source": [
                "## Technical Margin EstimateType"
            ],
            "metadata": {},
            "execution_count": 0,
            "outputs": []
        },
        {
            "cell_type": "code",
            "source": [
                "public static HashSet<string> GetTechnicalMarginEstimateType()",
                "\n{",
                "\n    return new []{EstimateTypes.C, EstimateTypes.L, EstimateTypes.LR, }.ToHashSet();",
                "\n}"
            ],
            "metadata": {},
            "execution_count": 0,
            "outputs": []
        },
        {
            "cell_type": "markdown",
            "source": [
                "## Import Actuals EstimateType"
            ],
            "metadata": {},
            "execution_count": 0,
            "outputs": []
        },
        {
            "cell_type": "code",
            "source": [
                "public static HashSet<string> GetImportActualEstimateType()",
                "\n{",
                "\n    return new []{EstimateTypes.A, EstimateTypes.AA, EstimateTypes.OA}.ToHashSet();",
                "\n}"
            ],
            "metadata": {},
            "execution_count": 0,
            "outputs": []
        },
        {
            "cell_type": "markdown",
            "source": [
                "## Simple Value and Opening Importer"
            ],
            "metadata": {},
            "execution_count": 0,
            "outputs": []
        },
        {
            "cell_type": "code",
            "source": [
                "public static HashSet<string> GetAocTypeWithoutCsmSwitch() => new []{AocTypes.BOP, AocTypes.EOP, AocTypes.AM, AocTypes.EA}.ToHashSet();"
            ],
            "metadata": {},
            "execution_count": 0,
            "outputs": []
        },
        {
            "cell_type": "markdown",
            "source": [
                "# Helper variables used in import calculation",
                "\n",
                "\nVariables defined here and used in the calculation:",
                "\n- AocTypeWithNoPv : used in [Present Value](../Import/2ImportScope-PresentValue#present-value-1) to trigger no calculation for some AoC Type.",
                "\n- ReferenceAocSteps : used in [Reference AoC Step](../Import/1ImportScope-Identities#reference-aoc-step) to over rule the standard defition of reference AoC Step. "
            ],
            "metadata": {},
            "execution_count": 0,
            "outputs": []
        },
        {
            "cell_type": "code",
            "source": [
                "public static class ComputationHelper{",
                "\n    public static HashSet<AocStep> AocStepWithNoPv = new AocStep[]{new AocStep(AocTypes.EA, Novelties.C), new AocStep(AocTypes.AM, Novelties.C), new AocStep(AocTypes.RCU, Novelties.I),}.ToHashSet();",
                "\n    public static HashSet<AocStep> AocStepWithNoCsm = new AocStep[]{new AocStep(AocTypes.CF, Novelties.C),new AocStep(AocTypes.WO, Novelties.C)}.ToHashSet();",
                "\n    public static HashSet<string> ReinsuranceAocType = new []{AocTypes.CRU, AocTypes.RCU}.ToHashSet();",
                "\n    ",
                "\n    public static Dictionary<AocStep, IEnumerable<AocStep>> ReferenceAocSteps => new ()",
                "\n    {",
                "\n        {new AocStep(AocTypes.EA, Novelties.C),  new []{new AocStep(AocTypes.CF, Novelties.C)}},",
                "\n        {new AocStep(AocTypes.AM, Novelties.C),  new []{new AocStep(AocTypes.CL, Novelties.C)}},",
                "\n        {new AocStep(AocTypes.EOP, Novelties.C), new []{new AocStep(AocTypes.CL, Novelties.C)}}, ",
                "\n    };    ",
                "\n    public static Dictionary<string,string> ExperienceAdjustEstimateTypeMapping = new Dictionary<string,string> {{EstimateTypes.A, EstimateTypes.APA}, {EstimateTypes.BE, EstimateTypes.BEPA}};",
                "\n} "
            ],
            "metadata": {},
            "execution_count": 0,
            "outputs": []
        },
        {
            "cell_type": "markdown",
            "source": [
                "# Initialize the values given the Period"
            ],
            "metadata": {},
            "execution_count": 0,
            "outputs": []
        },
        {
            "cell_type": "code",
            "source": [
                "public static double[] SetProjectionValue(double value, int period = 0) => ",
                "\n    period == 0 || Math.Abs(value) > Precision",
                "\n        ? Enumerable.Repeat(0d, period + 1).Select((y, i) => i == period ? value : y).ToArray()",
                "\n        : null; "
            ],
            "metadata": {},
            "execution_count": 0,
            "outputs": []
        },
        {
            "cell_type": "code",
            "source": [
                ""
            ],
            "metadata": {},
            "execution_count": 0,
            "outputs": []
        }
    ]
}