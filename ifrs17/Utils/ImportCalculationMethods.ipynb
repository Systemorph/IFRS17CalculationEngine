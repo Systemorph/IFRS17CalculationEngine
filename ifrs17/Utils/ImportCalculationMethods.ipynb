{
    "metadata": {
        "authors": [],
        "kernelspec": {
            "display_name": "Formula Framework",
            "language": "C#",
            "name": "C#"
        },
        "language_info": {
            "file_extension": ".cs",
            "mimetype": "text/plain",
            "name": "C#"
        },
        "toc-autonumbering": "True",
        "toc-showcode": "False"
    },
    "nbformat": 4,
    "nbformat_minor": 5,
    "cells": [
        {
            "cell_type": "markdown",
            "source": [
                "<p style=\"font-weight:bold;\"> <span style=\"font-size: 36px\"> Import Calculation Methods </span> </p"
            ],
            "metadata": {},
            "execution_count": 0,
            "outputs": []
        },
        {
            "cell_type": "code",
            "source": [
                "#!import \"./Extensions\""
            ],
            "metadata": {},
            "execution_count": 0,
            "outputs": []
        },
        {
            "cell_type": "markdown",
            "source": [
                "# Get Previous Identities"
            ],
            "metadata": {},
            "execution_count": 0,
            "outputs": []
        },
        {
            "cell_type": "code",
            "source": [
                "public static Dictionary<AocStep,IEnumerable<AocStep>> GetPreviousIdentities(IEnumerable<AocStep> identities)",
                "\n{",
                "\n    var bopNovelties = identities.Where(id => id.AocType == AocTypes.BOP).Select(id => id.Novelty);",
                "\n    var previousStep = (new string[]{Novelties.N,Novelties.I,Novelties.C})",
                "\n                                        .ToDictionary(n => n, n => bopNovelties.Contains(n) ? new AocStep(AocTypes.BOP,n) : null);",
                "\n    return identities.Where(id =>  id.AocType != AocTypes.BOP)",
                "\n                                .ToDictionary(x => x, x => {var ret = x.AocType == AocTypes.CL ? previousStep.Where(kvp => kvp.Value != null).Select(kvp => kvp.Value).ToArray() ",
                "\n                                                                                               : previousStep[x.Novelty].RepeatOnce();",
                "\n                                                            previousStep[x.Novelty] = new AocStep(x.AocType, x.Novelty);",
                "\n                                                            return ret;});",
                "\n}"
            ],
            "metadata": {},
            "execution_count": 0,
            "outputs": []
        },
        {
            "cell_type": "markdown",
            "source": [
                "# Get Reference AoC Step for calculated steps"
            ],
            "metadata": {},
            "execution_count": 0,
            "outputs": []
        },
        {
            "cell_type": "code",
            "source": [
                "public static AocStep GetReferenceAocStepForCalculated(this IEnumerable<AocStep> identities, Dictionary<AocStep, AocConfiguration> aocConfigurationByAocStep, AocStep identityAocStep)",
                "\n{",
                "\n    return identities.LastOrDefault(aocStep => aocConfigurationByAocStep[aocStep].DataType != DataType.Calculated",
                "\n                                            && aocConfigurationByAocStep[aocStep].DataType != DataType.CalculatedTelescopic",
                "\n                                            && aocConfigurationByAocStep[aocStep].Order < aocConfigurationByAocStep[identityAocStep].Order",
                "\n                                            && aocStep.Novelty == identityAocStep.Novelty) ",
                "\n        ?? new AocStep(default, default);",
                "\n}"
            ],
            "metadata": {},
            "execution_count": 0,
            "outputs": []
        },
        {
            "cell_type": "markdown",
            "source": [
                "# Discount and Cumulate"
            ],
            "metadata": {},
            "execution_count": 0,
            "outputs": []
        },
        {
            "cell_type": "code",
            "source": [
                "public static double[] ComputeDiscountAndCumulate(this double[] nominalValues, double[] monthlyDiscounting, PeriodType periodType) ",
                "\n{ ",
                "\n    if(nominalValues == null) return Enumerable.Empty<double>().ToArray();",
                "\n    ",
                "\n    var ret = new double[nominalValues.Length];",
                "\n    ",
                "\n    if(periodType == PeriodType.BeginningOfPeriod)",
                "\n    {",
                "\n        for (var i = nominalValues.Length - 1; i >= 0; i--)",
                "\n                ret[i] = nominalValues[i] + GetElementOrDefault(ret, i + 1) * GetElementOrDefault(monthlyDiscounting, i/12);",
                "\n        return ret;",
                "\n    }",
                "\n    ",
                "\n    for (var i = nominalValues.Length - 1; i >= 0; i--)",
                "\n                ret[i] = ( nominalValues[i] + GetElementOrDefault(ret, i + 1) ) * GetElementOrDefault(monthlyDiscounting, i/12);",
                "\n    ",
                "\n    return ret;",
                "\n}"
            ],
            "metadata": {},
            "execution_count": 0,
            "outputs": []
        },
        {
            "cell_type": "code",
            "source": [
                "public static double[] ComputeDiscountAndCumulateWithCreditDefaultRisk(this double[] nominalValues, double[] monthlyDiscounting, double nonPerformanceRiskRate) //Is it correct that NonPerformanceRiskRate is a double? Should it be an array that takes as input tau/t?",
                "\n{ ",
                "\n    return Enumerable.Range(0, nominalValues.Length)",
                "\n                     .Select( t => Enumerable.Range(t, nominalValues.Length-t)",
                "\n                                             .Select( tau => nominalValues[tau] * Math.Pow(GetElementOrDefault(monthlyDiscounting, t/12), tau-t+1) * (Math.Exp(-nonPerformanceRiskRate*(tau-t)) - 1) )",
                "\n                                             .Sum() )",
                "\n                     .ToArray();",
                "\n}"
            ],
            "metadata": {},
            "execution_count": 0,
            "outputs": []
        },
        {
            "cell_type": "code",
            "source": [
                "public static IDataCube<RawVariable> ComputeDiscountAndCumulate ( this IDataCube<RawVariable> nominalRawVariables, double[] yearlyDiscountRates, AmountType[] amountTypes ) ",
                "\n{",
                "\n    if(nominalRawVariables == null) return Enumerable.Empty<RawVariable>().ToDataCube();",
                "\n    var periodTypeByAmountType = amountTypes.ToDictionary(x => x.SystemName, x => x.PeriodType);",
                "\n       ",
                "\n    return nominalRawVariables.Select(rv => {",
                "\n        var values = rv.Values.ToArray();",
                "\n        var cdcf = new double[values.Length];",
                "\n        periodTypeByAmountType.TryGetValue(rv.AmountType, out var period);",
                "\n",
                "\n        if(period == PeriodType.BeginningOfPeriod)",
                "\n        {",
                "\n            for (var i = cdcf.Length - 1; i >= 0; i--)",
                "\n                cdcf[i] = values[i] + GetElementOrDefault(cdcf, i + 1) * GetElementOrDefault(yearlyDiscountRates, i/12);",
                "\n        }",
                "\n        else",
                "\n        { ",
                "\n            for (var i = cdcf.Length - 1; i >= 0; i--)",
                "\n                cdcf[i] = ( values[i] + GetElementOrDefault(cdcf, i + 1) ) * GetElementOrDefault(yearlyDiscountRates, i/12);",
                "\n        }",
                "\n        return rv with { Values = cdcf };",
                "\n    })",
                "\n    .ToDataCube();",
                "\n}"
            ],
            "metadata": {},
            "execution_count": 0,
            "outputs": []
        },
        {
            "cell_type": "markdown",
            "source": [
                "# Import Configuration "
            ],
            "metadata": {},
            "execution_count": 0,
            "outputs": []
        },
        {
            "cell_type": "markdown",
            "source": [
                "## Data Nodes"
            ],
            "metadata": {},
            "execution_count": 0,
            "outputs": []
        },
        {
            "cell_type": "code",
            "source": [
                "public GroupOfInsuranceContract ExtendGroupOfContract(GroupOfInsuranceContract gic, IDataRow datarow) => gic;"
            ],
            "metadata": {},
            "execution_count": 0,
            "outputs": []
        },
        {
            "cell_type": "code",
            "source": [
                "public GroupOfReinsuranceContract ExtendGroupOfContract(GroupOfReinsuranceContract gric, IDataRow datarow) => gric;"
            ],
            "metadata": {},
            "execution_count": 0,
            "outputs": []
        },
        {
            "cell_type": "markdown",
            "source": [
                "## Change Sign Rules"
            ],
            "metadata": {},
            "execution_count": 0,
            "outputs": []
        },
        {
            "cell_type": "code",
            "source": [
                "public static int GetSign((string AocType, string AmountType, string EstimateType, bool IsReinsurance) variable, Systemorph.Vertex.Hierarchies.IHierarchicalDimensionCache hierarchyCache) => 1;"
            ],
            "metadata": {},
            "execution_count": 0,
            "outputs": []
        },
        {
            "cell_type": "markdown",
            "source": [
                "## EstimateType And AmountType"
            ],
            "metadata": {},
            "execution_count": 0,
            "outputs": []
        },
        {
            "cell_type": "code",
            "source": [
                "public static Dictionary<string, HashSet<string>> GetAmountTypesByEstimateType(Systemorph.Vertex.Hierarchies.IHierarchicalDimensionCache hierarchyCache)",
                "\n{",
                "\n    return new Dictionary<string, HashSet<string>>(){",
                "\n        {EstimateTypes.RA, new string[]{}.ToHashSet()},",
                "\n        {EstimateTypes.C, new string[]{}.ToHashSet()},",
                "\n        {EstimateTypes.L, new string[]{}.ToHashSet()},",
                "\n        {EstimateTypes.LR, new string[]{}.ToHashSet()},",
                "\n   };",
                "\n}"
            ],
            "metadata": {},
            "execution_count": 0,
            "outputs": []
        },
        {
            "cell_type": "markdown",
            "source": [
                "## Technical Margin EstimateType"
            ],
            "metadata": {},
            "execution_count": 0,
            "outputs": []
        },
        {
            "cell_type": "code",
            "source": [
                "public static HashSet<string> GetTechnicalMarginEstimateType()",
                "\n{",
                "\n    return new []{EstimateTypes.C, EstimateTypes.L, EstimateTypes.LR, }.ToHashSet();",
                "\n}"
            ],
            "metadata": {},
            "execution_count": 0,
            "outputs": []
        }
    ]
}