{
    "metadata": {
        "authors": [],
        "kernelspec": {
            "display_name": "Formula Framework",
            "language": "C#",
            "name": "C#"
        },
        "language_info": {
            "file_extension": ".cs",
            "mimetype": "text/plain",
            "name": "C#"
        },
        "toc-autonumbering": "True",
        "toc-showcode": "False"
    },
    "nbformat": 4,
    "nbformat_minor": 5,
    "cells": [
        {
            "cell_type": "markdown",
            "source": [
                "<p style=\"font-weight:bold;\"> <span style=\"font-size: 36px\"> Test Helper Methods </span> </p"
            ]
        },
        {
            "cell_type": "code",
            "source": [
                "#!import \"../DataModel/DataStructure\""
            ]
        },
        {
            "cell_type": "code",
            "source": [
                "public static class Utils {",
                "\n    public static void EqualityComparer<T> (T[] collection1, T[] collection2) ",
                "\n    {",
                "\n        collection1.Length.Should().Be(collection2.Length);",
                "\n        var type = typeof(T);",
                "\n        var properties = type.GetProperties().Where(p => p.Name != \"Id\").ToArray();",
                "\n        if(properties.Count() == 0) {",
                "\n            bool isEqual = Enumerable.SequenceEqual(collection1, collection2);",
                "\n            isEqual.Should().Be(true);",
                "\n        }",
                "\n        foreach(var item1 in collection1) {",
                "\n            var item2 = collection2.Where(x => ",
                "\n                properties.All(prop => {",
                "\n                    var propType = prop.PropertyType;",
                "\n                    var val = prop.GetValue(item1);",
                "\n                    var otherVal = prop.GetValue(x);",
                "\n                    if(val == null && otherVal == null) return true;",
                "\n                    else if((val != null && otherVal == null) || (val == null && otherVal != null)) return false;",
                "\n                    else return Convert.ChangeType(otherVal, propType).Equals( Convert.ChangeType(val, propType) );",
                "\n                })",
                "\n            );",
                "\n            item2.Count().Should().NotBe(0);",
                "\n        }",
                "\n    }",
                "\n}"
            ]
        },
        {
            "cell_type": "code",
            "source": [
                "static var NumericalPrecisionEqualityChecker = 1.0E-10;",
                "\n",
                "\nstatic bool CheckEquality(this double[] arr1, double[] arr2) ",
                "\n{",
                "\n    if(arr1.Length != arr2.Length) return false;",
                "\n    for(int i = 0; i < arr1.Length; i++) {",
                "\n        double d1 = arr1[i];",
                "\n        double d2 = arr2[i];",
                "\n        if(Math.Abs(d1) < NumericalPrecisionEqualityChecker && Math.Abs(d1) < NumericalPrecisionEqualityChecker) continue;",
                "\n        if(Math.Abs( (d1 - d2) / d1 ) > NumericalPrecisionEqualityChecker) return false;",
                "\n    }",
                "\n    return true;",
                "\n}",
                "\n",
                "\nstatic bool CheckEquality(this IEnumerable<double> arr1, double[] arr2) => CheckEquality(arr1.ToArray(), arr2);",
                "\nstatic bool CheckEquality(this double[] arr1, IEnumerable<double> arr2) => CheckEquality(arr1, arr2.ToArray());",
                "\nstatic bool CheckEquality(this IEnumerable<double> arr1, IEnumerable<double> arr2) => CheckEquality(arr1.ToArray(), arr2.ToArray());",
                "\nstatic bool CheckEquality(this double d1, double d2) => CheckEquality(d1.RepeatOnce(), d2.RepeatOnce());",
                "\n",
                "\nstatic bool CheckEquality(this double? d1, double? d2) ",
                "\n{",
                "\n    if(d1 == null && d2 == null) return true;",
                "\n    else return CheckEquality((double)d1, (double)d2);",
                "\n}",
                "\n"
            ]
        },
        {
            "cell_type": "markdown",
            "source": [
                "# IfrsVariable Report configuration"
            ]
        },
        {
            "cell_type": "code",
            "source": [
                "using Systemorph.Vertex.Pivot.Reporting.Builder;"
            ]
        },
        {
            "cell_type": "code",
            "source": [
                "public static Systemorph.Vertex.Pivot.Reporting.Builder.ReportBuilder<IfrsVariable,IfrsVariable,IfrsVariable> WithGridOptionsForIfrsVariable",
                "\n(this Systemorph.Vertex.Pivot.Builder.PivotBuilder<IfrsVariable,IfrsVariable,IfrsVariable> reportBuilder, int reportHeight = 650)",
                "\n{",
                "\n    return reportBuilder.ToTable().WithOptions(go => ",
                "\n        go.WithColumns(cols => cols.Modify(\"Value\", c => c.WithWidth(300)",
                "\n                                   .WithFormat(\"new Intl.NumberFormat('en',{ minimumFractionDigits:2, maximumFractionDigits:2 }).format(value)\")))",
                "\n          .WithRows(rows => rows.Where(r => !r.RowGroup.SystemName.EndsWith(\"NullGroup\")).ToList())",
                "\n          .WithAutoGroupColumn(c => c.WithWidth(250) with { Pinned = \"left\" }) with { Height = reportHeight, GroupDefaultExpanded = 2, OnGridReady = null }",
                "\n    );",
                "\n}"
            ]
        }
    ]
}