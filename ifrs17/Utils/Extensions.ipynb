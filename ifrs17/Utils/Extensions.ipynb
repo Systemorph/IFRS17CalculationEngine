{
    "metadata": {
        "authors": [],
        "id": "NWvfpshro0mc6HFQvYxRaA",
        "kernelspec": {
            "display_name": "Formula Framework",
            "language": "C#",
            "name": "C#"
        },
        "language_info": {
            "file_extension": ".cs",
            "mimetype": "text/plain",
            "name": "C#"
        }
    },
    "nbformat": 4,
    "nbformat_minor": 5,
    "cells": [
        {
            "cell_type": "markdown",
            "source": [
                "<p style=\"font-weight:bold;\"> <span style=\"font-size: 36px\"> Extention Methods </span> </p"
            ],
            "metadata": {},
            "execution_count": 0,
            "outputs": []
        },
        {
            "cell_type": "code",
            "source": [
                "#!import \"../DataModel/DataStructure\"",
                "\n#!import \"ApplicationMessage\""
            ],
            "metadata": {},
            "execution_count": 0,
            "outputs": []
        },
        {
            "cell_type": "markdown",
            "source": [
                "# Loading external dependencies"
            ],
            "metadata": {},
            "execution_count": 0,
            "outputs": []
        },
        {
            "cell_type": "code",
            "source": [
                "#r \"nuget:morelinq\""
            ],
            "metadata": {},
            "execution_count": 0,
            "outputs": []
        },
        {
            "cell_type": "code",
            "source": [
                "using static MoreLinq.Extensions.ZipLongestExtension;"
            ],
            "metadata": {},
            "execution_count": 0,
            "outputs": []
        },
        {
            "cell_type": "markdown",
            "source": [
                "# Enumerable Extensions"
            ],
            "metadata": {},
            "execution_count": 0,
            "outputs": []
        },
        {
            "cell_type": "code",
            "source": [
                "static T GetValidElement<T>(this ICollection<T> collection, int index)",
                "\n{   ",
                "\n    var count = collection.Count;",
                "\n    if (collection == null || count == 0)",
                "\n        return default(T);",
                "\n",
                "\n    if (index < 0)",
                "\n    {",
                "\n        ApplicationMessage.Log(Error.NegativeIndex);",
                "\n        return default;",
                "\n    }",
                "\n",
                "\n    return index < count",
                "\n                ? collection.ElementAt(index)",
                "\n                : collection.ElementAt(count -1);",
                "\n}"
            ],
            "metadata": {},
            "execution_count": 0,
            "outputs": []
        },
        {
            "cell_type": "code",
            "source": [
                "public static Dictionary<TKey, TResult> ToDictionaryGrouped<TSource, TKey, TResult>(this IEnumerable<TSource> source, Func<TSource, TKey> keySelector, Func<IGrouping<TKey, TSource>, TResult> elementSelector) => source.GroupBy(keySelector).ToDictionary(g => g.Key, elementSelector);"
            ],
            "metadata": {},
            "execution_count": 0,
            "outputs": []
        },
        {
            "cell_type": "code",
            "source": [
                "public static IDataCube<TTarget> SelectToDataCube<TSource, TTarget>(this IEnumerable<TSource> source, Func<TSource, bool> whereClause, Func<TSource, TTarget> selector) => source.Where(whereClause).Select(selector).ToDataCube();"
            ],
            "metadata": {},
            "execution_count": 0,
            "outputs": []
        },
        {
            "cell_type": "code",
            "source": [
                "public static IDataCube<TTarget> SelectToDataCube<TSource, TTarget>(this IEnumerable<TSource> source, Func<TSource, TTarget> selector) => source.SelectToDataCube(x => true, selector);"
            ],
            "metadata": {},
            "execution_count": 0,
            "outputs": []
        },
        {
            "cell_type": "code",
            "source": [
                "public static double[] Prune(this IEnumerable<double> source, double precision = Precision) => source.Reverse().SkipWhile(x => Math.Abs(x) < precision).Reverse().ToArray();"
            ],
            "metadata": {},
            "execution_count": 0,
            "outputs": []
        },
        {
            "cell_type": "code",
            "source": [
                "public static double[] AggregateDoubleArray(this IEnumerable<IEnumerable<double>> source) => source.Where(x => x is not null).DefaultIfEmpty(Enumerable.Empty<double>()).Aggregate((x, y) => x.ZipLongest(y, (a, b) => a + b)).ToArray();"
            ],
            "metadata": {},
            "execution_count": 0,
            "outputs": []
        },
        {
            "cell_type": "code",
            "source": [
                "public static double[] Normalize(this IEnumerable<double> source) {",
                "\n    var norm = source?.Sum() ?? 0d;",
                "\n    if(Math.Abs(norm) < Precision)",
                "\n        return Enumerable.Empty<double>().ToArray();",
                "\n    return source.Select(v => v / norm).ToArray();}"
            ],
            "metadata": {},
            "execution_count": 0,
            "outputs": []
        },
        {
            "cell_type": "markdown",
            "source": [
                "# String Extensions"
            ],
            "metadata": {},
            "execution_count": 0,
            "outputs": []
        },
        {
            "cell_type": "code",
            "source": [
                "using System.Globalization;"
            ],
            "metadata": {},
            "execution_count": 0,
            "outputs": []
        },
        {
            "cell_type": "code",
            "source": [
                "public static double CheckStringForExponentialAndConvertToDouble (this string s)",
                "\n{   ",
                "\n    if (s == null) return default;",
                "\n    if (double.TryParse(s, NumberStyles.Number | NumberStyles.Float, CultureInfo.InvariantCulture, out var doubleValue)) return doubleValue;",
                "\n    ApplicationMessage.Log(Error.ParsingInvalidOrScientificValue, s);",
                "\n    return default; ",
                "\n}"
            ],
            "metadata": {},
            "execution_count": 0,
            "outputs": []
        },
        {
            "cell_type": "markdown",
            "source": [
                "# Enum Extentions"
            ],
            "metadata": {},
            "execution_count": 0,
            "outputs": []
        },
        {
            "cell_type": "code",
            "source": [
                "public static bool Contains<T>(this T value, T lookingForFlag) ",
                "\n    where T : struct",
                "\n{",
                "\n    int intValue = (int) (object) value;",
                "\n    int intLookingForFlag = (int) (object) lookingForFlag;",
                "\n    return ((intValue & intLookingForFlag) == intLookingForFlag);",
                "\n}"
            ],
            "metadata": {},
            "execution_count": 0,
            "outputs": []
        },
        {
            "cell_type": "markdown",
            "source": [
                "# Identity property reader"
            ],
            "metadata": {},
            "execution_count": 0,
            "outputs": []
        },
        {
            "cell_type": "code",
            "source": [
                "using static Systemorph.Vertex.Equality.IdentityPropertyExtensions;",
                "\nusing System.Linq.Expressions;",
                "\npublic static class IdentityReader<T> where T : class {",
                "\n    private static Dictionary<string, Func<T, string>> ExpressionsByExcludedProperties = new();",
                "\n    public static string Concat(string first, string second) => first + \" \" + second;",
                "\n    public static string GetString(Object item) => (item == null) ? \"\" : item.ToString();",
                "\n",
                "\n    private static Func<T, string> GetToIdentityExpression(string[] excludedProperties) {",
                "\n        var pm = Expression.Parameter(typeof(T));",
                "\n        var expression = typeof(T).GetIdentityProperties().Where(x => !excludedProperties.Contains(x.Name))",
                "\n                            .SelectMany(x => new Expression[]{ Expression.Constant(x.Name.ToString()+\":\"),",
                "\n                                Expression.Call(typeof(IdentityReader<T>).GetMethod(nameof(GetString)), Expression.Convert(Expression.Property(pm, x.Name), typeof(Object))) }",
                "\n                            ).Aggregate((x, y) => Expression.Call(typeof(IdentityReader<T>).GetMethod(nameof(IdentityReader<T>.Concat)), x, y));",
                "\n        return Expression.Lambda<Func<T,string>>(expression, pm).Compile();",
                "\n    }",
                "\n",
                "\n    public static string ToString(T x, string[] excludedProperties) {",
                "\n        var key = string.Join(\",\", excludedProperties.OrderBy(x => x));",
                "\n        if(!ExpressionsByExcludedProperties.TryGetValue(key, out var expression)) {",
                "\n            ExpressionsByExcludedProperties[key] = GetToIdentityExpression(excludedProperties);",
                "\n            return ExpressionsByExcludedProperties[key](x);",
                "\n        }",
                "\n        return expression(x);",
                "\n    }",
                "\n}"
            ],
            "metadata": {},
            "execution_count": 0,
            "outputs": []
        },
        {
            "cell_type": "markdown",
            "source": [
                "# ToString with excluding properties"
            ],
            "metadata": {},
            "execution_count": 0,
            "outputs": []
        },
        {
            "cell_type": "code",
            "source": [
                "public static string ToIdentityString<T>(this T variable, string[] ignoreProperties = null) where T : class",
                "\n{",
                "\n    if (ignoreProperties == null) ignoreProperties = new string[0];",
                "\n    return IdentityReader<T>.ToString(variable, ignoreProperties);",
                "\n}"
            ],
            "metadata": {},
            "execution_count": 0,
            "outputs": []
        },
        {
            "cell_type": "markdown",
            "source": [
                "# Ifrs Variable extension"
            ],
            "metadata": {},
            "execution_count": 0,
            "outputs": []
        },
        {
            "cell_type": "code",
            "source": [
                "public static IEnumerable<IfrsVariable> AggregateProjections(this IEnumerable<IfrsVariable> source) => source",
                "\n                            .GroupBy(x => new {EstimateType = x.EstimateType, ",
                "\n                                                AmountType = x.AmountType, ",
                "\n                                                EconomicBasis = x.EconomicBasis, ",
                "\n                                                AccidentYear = x.AccidentYear, ",
                "\n                                                DataNode = x.DataNode, ",
                "\n                                                AocType = x.AocType, ",
                "\n                                                Novelty = x.Novelty}, ",
                "\n                                        x => x.Values, ",
                "\n                                        (key, values) => ",
                "\n                                            new IfrsVariable() with {Values = values.AggregateDoubleArray(), ",
                "\n                                                                    AmountType = key.AmountType, ",
                "\n                                                                    EstimateType = key.EstimateType, ",
                "\n                                                                    EconomicBasis = key.EconomicBasis, ",
                "\n                                                                    AccidentYear = key.AccidentYear, ",
                "\n                                                                    DataNode = key.DataNode, ",
                "\n                                                                    AocType = key.AocType, ",
                "\n                                                                    Novelty = key.Novelty});"
            ],
            "metadata": {},
            "execution_count": 0,
            "outputs": []
        },
        {
            "cell_type": "markdown",
            "source": [
                "# Projection Configurations"
            ],
            "metadata": {},
            "execution_count": 0,
            "outputs": []
        },
        {
            "cell_type": "code",
            "source": [
                "public static ProjectionConfiguration[] SortRelevantProjections(this ProjectionConfiguration[] pc, int month) => ",
                "\n                                        pc.Where(x => x.Shift > 0 || x.TimeStep == month || (x.TimeStep > month && x.TimeStep % MonthInAQuarter == 0))",
                "\n                                            .OrderBy(x => x.Shift)",
                "\n                                            .ThenBy(x => x.TimeStep)",
                "\n                                            .ToArray();"
            ],
            "metadata": {},
            "execution_count": 0,
            "outputs": []
        }
    ]
}