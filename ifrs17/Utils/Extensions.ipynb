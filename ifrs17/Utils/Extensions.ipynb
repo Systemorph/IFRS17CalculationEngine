{
    "metadata": {
        "authors": [],
        "kernelspec": {
            "display_name": "Formula Framework",
            "language": "C#",
            "name": "C#"
        },
        "language_info": {
            "file_extension": ".cs",
            "mimetype": "text/plain",
            "name": "C#"
        },
        "toc-autonumbering": "True",
        "toc-showcode": "False"
    },
    "nbformat": 4,
    "nbformat_minor": 5,
    "cells": [
        {
            "id": "kP961wJ7dEew6dbWJDwtcw",
            "cell_type": "markdown",
            "source": [
                "<p style=\"font-weight:bold;\"> <span style=\"font-size: 36px\"> Extention Methods </span> </p"
            ],
            "metadata": {},
            "execution_count": 0,
            "outputs": []
        },
        {
            "id": "hCJQTI3SHU62-If8-vG2qA",
            "cell_type": "code",
            "source": [
                "#!import \"../DataModel/DataStructure\"",
                "\n#!import \"ApplicationMessage\""
            ],
            "metadata": {},
            "execution_count": 0,
            "outputs": []
        },
        {
            "id": "H40qmqEEOUmYITQ67Ee4jw",
            "cell_type": "markdown",
            "source": [
                "# Enumerable Extensions"
            ],
            "metadata": {},
            "execution_count": 0,
            "outputs": []
        },
        {
            "id": "QIrmIGl7ykysEwayttXArg",
            "cell_type": "code",
            "source": [
                "// because the default(T) is something else than the first/last element. What about \"static T GetValidElement<T>(this IList<T> array, int index)\"? ",
                "\nstatic T GetElementOrDefault<T>(this ICollection<T> array, int index)",
                "\n{   ",
                "\n    var count = array.Count;",
                "\n    if (array == null || count == 0)",
                "\n        return default(T);",
                "\n",
                "\n    return index < 0",
                "\n               ? array.ElementAt(0) // should this case be removed?",
                "\n               : index < count",
                "\n                   ? array.ElementAt(index)",
                "\n                   : array.ElementAt(count -1);",
                "\n}"
            ],
            "metadata": {},
            "execution_count": 0,
            "outputs": []
        },
        {
            "id": "i2B0Wly95UuAV9iCAu2jeA",
            "cell_type": "code",
            "source": [
                "public static Dictionary<TKey, TResult> ToDictionaryGrouped<TSource, TKey, TResult>(this IEnumerable<TSource> source, Func<TSource, TKey> keySelector, Func<IGrouping<TKey, TSource>, TResult> elementSelector) => source.GroupBy(keySelector).ToDictionary(g => g.Key, elementSelector);"
            ],
            "metadata": {},
            "execution_count": 0,
            "outputs": []
        },
        {
            "id": "TD885sR52US8-5FhrvBrmA",
            "cell_type": "code",
            "source": [
                "public static IDataCube<TTarget> SelectToDataCube<TSource, TTarget>(this IEnumerable<TSource> source, Func<TSource, bool> whereClause, Func<TSource, TTarget> selector) => source.Where(whereClause).Select(selector).ToDataCube();"
            ],
            "metadata": {},
            "execution_count": 0,
            "outputs": []
        },
        {
            "id": "osCULaaAr0eywdu8y9_KQQ",
            "cell_type": "code",
            "source": [
                "public static IDataCube<TTarget> SelectToDataCube<TSource, TTarget>(this IEnumerable<TSource> source, Func<TSource, TTarget> selector) => source.SelectToDataCube(x => true, selector);"
            ],
            "metadata": {},
            "execution_count": 0,
            "outputs": []
        },
        {
            "id": "NFy02Bu-s0qKiM6LE2BEgg",
            "cell_type": "code",
            "source": [
                "public static double[] Prune (this IEnumerable<double> source, double precision = Precision) => source.Reverse().SkipWhile(x => Math.Abs(x) < precision).Reverse().ToArray();"
            ],
            "metadata": {},
            "execution_count": 0,
            "outputs": []
        },
        {
            "id": "PCLtCNijOU26r_nHnXMcMg",
            "cell_type": "markdown",
            "source": [
                "# String Extensions"
            ],
            "metadata": {},
            "execution_count": 0,
            "outputs": []
        },
        {
            "id": "0dUJnp5FOUW6v6Rknne-EQ",
            "cell_type": "code",
            "source": [
                "using System.Globalization;"
            ],
            "metadata": {},
            "execution_count": 0,
            "outputs": []
        },
        {
            "id": "PYY2MgkdZkSbKcNWKS9Ciw",
            "cell_type": "code",
            "source": [
                "public static double CheckStringForExponentialAndConvertToDouble (this string s)",
                "\n{   ",
                "\n    if (s == null) return default;",
                "\n    if (double.TryParse(s, NumberStyles.Number, CultureInfo.InvariantCulture, out var doubleValue)) return doubleValue;",
                "\n    else { ApplicationMessage.Log(Error.ParsingScientificNotation, s); return 1; }",
                "\n}"
            ],
            "metadata": {},
            "execution_count": 0,
            "outputs": []
        },
        {
            "id": "4MQUvTli1UG8qrhPowh9IQ",
            "cell_type": "markdown",
            "source": [
                "# Enum Extentions"
            ],
            "metadata": {},
            "execution_count": 0,
            "outputs": []
        },
        {
            "id": "b8PEF87d_UemTA8W1hPOwQ",
            "cell_type": "code",
            "source": [
                "public static bool Contains<T>(this T value, T lookingForFlag) ",
                "\n    where T : struct",
                "\n{",
                "\n    int intValue = (int) (object) value;",
                "\n    int intLookingForFlag = (int) (object) lookingForFlag;",
                "\n    return ((intValue & intLookingForFlag) == intLookingForFlag);",
                "\n}"
            ],
            "metadata": {},
            "execution_count": 0,
            "outputs": []
        },
        {
            "id": "p-s-SyYx1U-FdV3Dn3WEMA",
            "cell_type": "markdown",
            "source": [
                "# ToIdentityString"
            ],
            "metadata": {},
            "execution_count": 0,
            "outputs": []
        },
        {
            "id": "7scll4L5qky4IYnE5bn8kw",
            "cell_type": "code",
            "source": [
                "using System.Text;",
                "\npublic static string ToIdentityString<T>(this T v) where T : class",
                "\n{",
                "\n   StringBuilder sb = new StringBuilder();",
                "\n   var propertyInfos = v.GetType()",
                "\n                        .GetProperties()",
                "\n                        .Where(x => Attribute.IsDefined(x, typeof(IdentityPropertyAttribute)))",
                "\n                        .OrderByDescending(x => x.PropertyType.Name).ThenByDescending(x => x.Name)",
                "\n                        .Select(x => sb.Append(x.Name).Append(\":\").Append(v.GetType().GetProperty(x.Name)?.GetValue(v, null)).Append(\", \")).ToArray();",
                "\n   return propertyInfos.Count() == 0? v.ToString() : propertyInfos.Select(p => p.ToString()).ToArray().Last();",
                "\n}"
            ],
            "metadata": {},
            "execution_count": 0,
            "outputs": []
        },
        {
            "id": "cJ_FyeZBIEW4kZI7AbcM2w",
            "cell_type": "code",
            "source": [
                ""
            ],
            "metadata": {},
            "execution_count": 0,
            "outputs": []
        }
    ]
}