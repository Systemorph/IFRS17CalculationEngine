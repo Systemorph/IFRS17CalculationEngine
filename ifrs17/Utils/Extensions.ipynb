{
    "metadata": {
        "authors": [],
        "kernelspec": {
            "display_name": "Formula Framework",
            "language": "C#",
            "name": "C#"
        },
        "language_info": {
            "file_extension": ".cs",
            "mimetype": "text/plain",
            "name": "C#"
        },
        "toc-autonumbering": "True",
        "toc-showcode": "False"
    },
    "nbformat": 4,
    "nbformat_minor": 5,
    "cells": [
        {
            "cell_type": "code",
            "source": [
                "#!import \"../DataModel/DataStructure\"",
                "\n#!import \"ApplicationMessage\""
            ]
        },
        {
            "cell_type": "markdown",
            "source": [
                "# Enumerable Extensions"
            ]
        },
        {
            "cell_type": "code",
            "source": [
                "// because the default(T) is something else than the first/last element. What about \"static T GetValidElement<T>(this IList<T> array, int index)\"? ",
                "\nstatic T GetElementOrDefault<T>(this ICollection<T> array, int index)",
                "\n{   ",
                "\n    var count = array.Count;",
                "\n    if (array == null || count == 0)",
                "\n        return default(T);",
                "\n",
                "\n    return index < 0",
                "\n               ? array.ElementAt(0) // should this case be removed?",
                "\n               : index < count",
                "\n                   ? array.ElementAt(index)",
                "\n                   : array.ElementAt(count -1);",
                "\n}"
            ]
        },
        {
            "cell_type": "code",
            "source": [
                "public static Dictionary<TKey, TResult> ToDictionaryGrouped<TSource, TKey, TResult>(this IEnumerable<TSource> source, Func<TSource, TKey> keySelector, Func<IGrouping<TKey, TSource>, TResult> elementSelector) => source.GroupBy(keySelector).ToDictionary(g => g.Key, elementSelector);"
            ]
        },
        {
            "cell_type": "code",
            "source": [
                "public static IDataCube<TTarget> SelectToDataCube<TSource, TTarget>(this IEnumerable<TSource> source, Func<TSource, bool> whereClause, Func<TSource, TTarget> selector) => source.Where(whereClause).Select(selector).ToDataCube();"
            ]
        },
        {
            "cell_type": "code",
            "source": [
                "public static IDataCube<TTarget> SelectToDataCube<TSource, TTarget>(this IEnumerable<TSource> source, Func<TSource, TTarget> selector) => source.SelectToDataCube(x => true, selector);"
            ]
        },
        {
            "cell_type": "code",
            "source": [
                "public static double[] Prune (this IEnumerable<double> source, double precision = Precision) => source.Reverse().SkipWhile(x => Math.Abs(x) < precision).Reverse().ToArray();"
            ]
        },
        {
            "cell_type": "markdown",
            "source": [
                "# String Extensions"
            ]
        },
        {
            "cell_type": "code",
            "source": [
                "using System.Globalization;"
            ]
        },
        {
            "cell_type": "code",
            "source": [
                "public static double CheckStringForExponentialAndConvertToDouble (this string s)",
                "\n{   ",
                "\n    if (s == null) return default;",
                "\n    if (double.TryParse(s, NumberStyles.Number, CultureInfo.InvariantCulture, out var doubleValue)) return doubleValue;",
                "\n    else { ApplicationMessage.Log(Error.ParsingScientificNotation, s); return 1; }",
                "\n}"
            ]
        },
        {
            "cell_type": "markdown",
            "source": [
                "# Enum Extentions"
            ]
        },
        {
            "cell_type": "code",
            "source": [
                "public static bool Contains<T>(this T value, T lookingForFlag) ",
                "\n    where T : struct",
                "\n{",
                "\n    int intValue = (int) (object) value;",
                "\n    int intLookingForFlag = (int) (object) lookingForFlag;",
                "\n    return ((intValue & intLookingForFlag) == intLookingForFlag);",
                "\n}"
            ]
        },
        {
            "cell_type": "markdown",
            "source": [
                "# ToIdentityString"
            ]
        },
        {
            "cell_type": "code",
            "source": [
                "using System.Text;",
                "\npublic static string ToIdentityString<T>(this T v)",
                "\n   where T : class",
                "\n{",
                "\n  StringBuilder sb = new StringBuilder();",
                "\n  var propertyInfos = v.GetType()",
                "\n                       .GetProperties()",
                "\n                       .Where(x => Attribute.IsDefined(x, typeof(IdentityPropertyAttribute)))",
                "\n                       .OrderByDescending(x => x.PropertyType.Name).ThenByDescending(x => x.Name)",
                "\n                       .Select(x => sb.Append(x.Name).Append(\":\").Append(v.GetType().GetProperty(x.Name)?.GetValue(v, null)).Append(\", \"));",
                "\n",
                "\nreturn propertyInfos.Select(p => p.ToString()).ToArray().Last();",
                "\n}"
            ]
        },
        {
            "cell_type": "code",
            "source": [
                ""
            ]
        }
    ]
}