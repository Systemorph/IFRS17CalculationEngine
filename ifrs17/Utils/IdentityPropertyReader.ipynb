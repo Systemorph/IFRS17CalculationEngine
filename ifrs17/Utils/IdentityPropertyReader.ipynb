{
    "metadata": {
        "authors": [],
        "kernelspec": {
            "display_name": "Formula Framework",
            "language": "C#",
            "name": "C#"
        },
        "language_info": {
            "file_extension": ".cs",
            "mimetype": "text/plain",
            "name": "C#"
        }
    },
    "nbformat": 4,
    "nbformat_minor": 5,
    "cells": [
        {
            "cell_type": "code",
            "source": [
                "#!import \"../DataModel/DataStructure\"",
                "\nusing System.Linq.Expressions;",
                "\nusing static Systemorph.Vertex.Equality.IdentityPropertyExtensions;"
            ],
            "metadata": {},
            "execution_count": 0,
            "outputs": []
        },
        {
            "cell_type": "code",
            "source": [
                "public class IdentityPropertyReader<T> where T : BaseVariableIdentity {",
                "\n    private Func<T, string> identityReader;",
                "\n    private string[] propertiesExcluded;",
                "\n    ",
                "\n    private IdentityPropertyReader(string[] props) {",
                "\n        propertiesExcluded = props;",
                "\n        identityReader = GetIdentityReader();",
                "\n    }",
                "\n",
                "\n    private static Dictionary<string, IdentityPropertyReader<T>> InstancesByExcludedProperties = new();",
                "\n",
                "\n    private Func<T, string> GetIdentityReader() {",
                "\n        var parameter = Expression.Parameter(typeof(T));",
                "\n        var expression = typeof(T).GetIdentityProperties().Where(x => !propertiesExcluded.Contains(x.Name))",
                "\n                                  .SelectMany(x => new Expression[]{ Expression.Constant(x.Name.ToString()+\":\"),",
                "\n                                                   Expression.Call(typeof(IdentityPropertyReader<T>).GetMethod(nameof(GetString)), Expression.Convert(Expression.Property(parameter, x.Name), typeof(Object))) }",
                "\n                                  ).Aggregate((x, y) => Expression.Call(typeof(IdentityPropertyReader<T>).GetMethod(nameof(IdentityPropertyReader<RawVariable>.Concat)), x, y) );",
                "\n        return Expression.Lambda<Func<T,string>>(expression, parameter).Compile();",
                "\n    }",
                "\n",
                "\n    public static IdentityPropertyReader<T> GetInstance(params string[] excludingProperties) {",
                "\n        var key = string.Join(\",\", excludingProperties.OrderBy(x=>x));",
                "\n        if(!InstancesByExcludedProperties.TryGetValue(key, out var instance))",
                "\n            return InstancesByExcludedProperties[key] = new IdentityPropertyReader<T>(excludingProperties);",
                "\n        return instance;",
                "\n    }",
                "\n    public string GetIdentityString(T x) => identityReader(x);",
                "\n    ",
                "\n    public static string Concat(string first, string second) => first + \" \" + second;",
                "\n    public static string GetString(Object item) => (item == null) ? \"\" : item.ToString();",
                "\n}"
            ],
            "metadata": {},
            "execution_count": 0,
            "outputs": []
        }
    ]
}