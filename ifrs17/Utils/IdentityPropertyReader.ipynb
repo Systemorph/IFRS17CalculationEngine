{
    "metadata": {
        "authors": [],
        "kernelspec": {
            "display_name": "Formula Framework",
            "language": "C#",
            "name": "C#"
        },
        "language_info": {
            "file_extension": ".cs",
            "mimetype": "text/plain",
            "name": "C#"
        }
    },
    "nbformat": 4,
    "nbformat_minor": 5,
    "cells": [
        {
            "cell_type": "code",
            "source": [
                "#!import \"../DataModel/DataStructure\"",
                "\nusing System.Linq.Expressions;",
                "\nusing static Systemorph.Vertex.Equality.IdentityPropertyExtensions;"
            ],
            "metadata": {},
            "execution_count": 0,
            "outputs": []
        },
        {
            "cell_type": "code",
            "source": [
                "public class IdentityPropertyReader<T> where T:BaseVariableIdentity {",
                "\n    private static Func<T, string> identityReader;",
                "\n    ",
                "\n    private IdentityPropertyReader(){",
                "\n        identityReader = GetIdentityReader();",
                "\n    }",
                "\n    public static readonly IdentityPropertyReader<T> Instance = new IdentityPropertyReader<T>();",
                "\n",
                "\n    private Func<T, string> GetIdentityReader(){",
                "\n        var parameter = Expression.Parameter(typeof(T));",
                "\n        var identityProperties = typeof(T).GetIdentityProperties().Select(x=>x.Name).Where(x=> x != \"AocType\" && x != \"Novelty\").ToArray();",
                "\n        var expressionstToConcat = identityProperties.SelectMany(x=> new Expression[]{Expression.Constant(x+\": \"), Expression.Property(parameter, x) })",
                "\n                                                     .ToArray();",
                "\n        var partialConcatExpression = Expression.Call(typeof(IdentityPropertyReader<T>).GetMethod(\"concat\"), expressionstToConcat[0], expressionstToConcat[1]);",
                "\n        for (int i = 2; i < expressionstToConcat.Count(); i++){",
                "\n            if(i%2==0) partialConcatExpression = Expression.Call(typeof(IdentityPropertyReader<T>).GetMethod(\"concat\"), partialConcatExpression, Expression.Constant(\", \"));",
                "\n            if(i%2==1 && identityProperties[(int)Math.Floor((double)i/2)] == \"AccidentYear\"){",
                "\n                partialConcatExpression = Expression.Call(typeof(IdentityPropertyReader<T>).GetMethod(\"concat2\"), partialConcatExpression, expressionstToConcat[i]);   ",
                "\n            } else{",
                "\n                partialConcatExpression = Expression.Call(typeof(IdentityPropertyReader<T>).GetMethod(\"concat\"), partialConcatExpression, expressionstToConcat[i]);   ",
                "\n            }",
                "\n        } // i needed (imo) to do it like this, since int? gives problem as Object...",
                "\n        return Expression.Lambda<Func<T,string>>(partialConcatExpression, parameter).Compile();",
                "\n    }",
                "\n    public string GetIdentityString(T x) => identityReader(x);",
                "\n    ",
                "\n    public static string concat(Object first, Object second) => first.ToString()+second.ToString();",
                "\n    ",
                "\n    public static string concat2(Object first, int? second){",
                "\n        if(second == null) return first.ToString();",
                "\n        return first.ToString()+second.ToString();",
                "\n    }",
                "\n}"
            ],
            "metadata": {},
            "execution_count": 0,
            "outputs": []
        },
        {
            "cell_type": "code",
            "source": [
                ""
            ],
            "metadata": {},
            "execution_count": 0,
            "outputs": []
        }
    ]
}