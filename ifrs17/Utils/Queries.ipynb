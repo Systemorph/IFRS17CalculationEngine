{
    "metadata": {
        "authors": [],
        "id": "COS_CBLUh0Gf_bKIABIZ0Q",
        "kernelspec": {
            "display_name": "Formula Framework",
            "language": "C#",
            "name": "C#"
        },
        "language_info": {
            "file_extension": ".cs",
            "mimetype": "text/plain",
            "name": "C#"
        }
    },
    "nbformat": 4,
    "nbformat_minor": 5,
    "cells": [
        {
            "cell_type": "markdown",
            "source": [
                "<p style=\"font-weight:bold;\"> <span style=\"font-size: 36px\"> Queries </span> </p"
            ],
            "metadata": {},
            "execution_count": 0,
            "outputs": []
        },
        {
            "cell_type": "code",
            "source": [
                "#!import \"./Extensions\""
            ],
            "metadata": {},
            "execution_count": 0,
            "outputs": []
        },
        {
            "cell_type": "code",
            "source": [
                "using System.Linq.Expressions;"
            ],
            "metadata": {},
            "execution_count": 0,
            "outputs": []
        },
        {
            "cell_type": "markdown",
            "source": [
                "# Exchange Rates"
            ],
            "metadata": {},
            "execution_count": 0,
            "outputs": []
        },
        {
            "cell_type": "code",
            "source": [
                "public static async Task<Dictionary<string, Dictionary<FxPeriod, double>>> GetExchangeRatesDictionaryAsync(this IQuerySource querySource, int year, int month)",
                "\n    => (await querySource.Query<ExchangeRate>()",
                "\n    .Where(x => x.Year == year - 1 && x.Month == MonthInAYear && x.FxType == FxType.Spot ||",
                "\n                x.Year == year && x.Month == month)",
                "\n    .ToArrayAsync())",
                "\n    .ToDictionaryGrouped(x => x.Currency,",
                "\n                         x => x.ToDictionary(y => (y.Year, y.Month, y.FxType) switch",
                "\n                                             {",
                "\n                                                 (_, _, _) when y.Year == year - 1 && y.Month == MonthInAYear && y.FxType == FxType.Spot    => FxPeriod.BeginningOfPeriod,",
                "\n                                                 (_, _, _) when y.Year == year     && y.Month == month        && y.FxType == FxType.Average => FxPeriod.Average,",
                "\n                                                 (_, _, _) when y.Year == year     && y.Month == month        && y.FxType == FxType.Spot    => FxPeriod.EndOfPeriod",
                "\n                                             },",
                "\n                                             y => y.FxToGroupCurrency));"
            ],
            "metadata": {},
            "execution_count": 0,
            "outputs": []
        },
        {
            "cell_type": "markdown",
            "source": [
                "# Current and Previous Parameters",
                "\n",
                "\nFor every parameter with a notion of Year and Month the following query methods provide the calculation engine with the current period value and with the previous period value. ",
                "\n",
                "\nThe current period is defined by the main table of the input file which triggers calculation. If no data is present for this period the value considered as current period is the last value provided in time. ",
                "\n",
                "\nIn the Year-to-Date view the previous period corresponds to end of previous year provided in the main table. A similar relaxed mechanism is applied for this query. If the value for the previous period is present it is returned. If the value it is not present the last value provided in time prior to the end of previous year is returned. ",
                "\n",
                "\nIn the case of Scenario calculations which are not Best Estimate, the data provided by the query for the current period belongs to the selected Scenario. If no data is available for the selected scenario (not even belonging to periods prior the current period), the previous period value for Best Estimate scenario is returned. In the case of the previous period value for a partition with Scenario not Best Estimate, the Best Estimate scenario for previous period is returned. In case this is not present in the data source, the current value for Best Estimate scenario is returned. "
            ],
            "metadata": {},
            "execution_count": 0,
            "outputs": []
        },
        {
            "cell_type": "code",
            "source": [
                "public static async Task<T[]> LoadParameterAsync<T>(",
                "\n    this IQuerySource querySource,",
                "\n    int year,",
                "\n    int month,",
                "\n    Expression<Func<T, bool>> filterExpression = null ) ",
                "\n    where T : IWithYearAndMonth",
                "\n{",
                "\n    return await querySource.Query<T>()",
                "\n                     .Where(x => x.Year == year && x.Month <= month || x.Year < year)",
                "\n                     .Where(filterExpression?? (Expression<Func<T, bool>>)(x => true))",
                "\n                     .ToArrayAsync();",
                "\n}"
            ],
            "metadata": {},
            "execution_count": 0,
            "outputs": []
        },
        {
            "cell_type": "code",
            "source": [
                "public static async Task<Dictionary<string, T>> LoadCurrentParameterAsync<T> (",
                "\n    this IQuerySource querySource,",
                "\n    Args args,",
                "\n    Func<T, string> identityExpression,",
                "\n    Expression<Func<T, bool>> filterExpression = null ) ",
                "\n    where T : IWithYearMonthAndScenario",
                "\n{",
                "\n    return (await querySource.LoadParameterAsync<T>(args.Year, args.Month, filterExpression))",
                "\n                             .Where(x => x.Scenario == args.Scenario || x.Scenario == null)",
                "\n                             .GroupBy(identityExpression)",
                "\n                             .Select(x => x.OrderByDescending(y => y.Year)",
                "\n                                           .ThenByDescending(y => y.Month)",
                "\n                                           .ThenByDescending(y => y.Scenario)",
                "\n                                           .FirstOrDefault())",
                "\n                             .ToDictionary(identityExpression);",
                "\n}"
            ],
            "metadata": {},
            "execution_count": 0,
            "outputs": []
        },
        {
            "cell_type": "code",
            "source": [
                "public static async Task<Dictionary<string, Dictionary<int, T>>> LoadCurrentAndPreviousParameterAsync<T> (",
                "\n    this IQuerySource querySource,",
                "\n    Args args,",
                "\n    Func<T, string> identityExpression,",
                "\n    Expression<Func<T, bool>> filterExpression = null ) ",
                "\n    where T : IWithYearMonthAndScenario",
                "\n{",
                "\n    var parameters = (await querySource.LoadParameterAsync<T>(args.Year, args.Month, filterExpression))",
                "\n                    .Where(yc => yc.Scenario == args.Scenario || yc.Scenario == null)",
                "\n                    .GroupBy(identityExpression);",
                "\n                                         ",
                "\n    var ret = new Dictionary<string, Dictionary<int, T>>();",
                "\n    foreach(var p in parameters)",
                "\n    {",
                "\n        var inner = ret.GetOrAdd(p.Key, _ => new Dictionary<int, T>());",
                "\n",
                "\n        var currentCandidate = p.Where(x => x.Year == args.Year).OrderByDescending(x => x.Month).ThenByDescending(x => x.Scenario).FirstOrDefault();",
                "\n        var previousCandidate = p.Where(x => x.Year < args.Year && x.Scenario == null).OrderByDescending(x => x.Year).ThenByDescending(x => x.Month).FirstOrDefault();",
                "\n        var currentCandidateBE = p.Where(x => x.Year <= args.Year && x.Scenario == null).OrderByDescending(x => x.Year).ThenByDescending(x => x.Month).FirstOrDefault();",
                "\n    ",
                "\n        inner.Add(CurrentPeriod, currentCandidate != null ? currentCandidate : previousCandidate);",
                "\n        inner.Add(PreviousPeriod, previousCandidate != null ? previousCandidate : (currentCandidateBE != null ? currentCandidateBE : currentCandidate));",
                "\n        // TODO: log error if currentCandidate is null",
                "\n    }",
                "\n    return ret;",
                "\n}"
            ],
            "metadata": {},
            "execution_count": 0,
            "outputs": []
        },
        {
            "cell_type": "markdown",
            "source": [
                "<a id='yield-curve'></a>",
                "\n# Yield Curve"
            ],
            "metadata": {},
            "execution_count": 0,
            "outputs": []
        },
        {
            "cell_type": "markdown",
            "source": [
                "## Locked-in"
            ],
            "metadata": {},
            "execution_count": 0,
            "outputs": []
        },
        {
            "cell_type": "code",
            "source": [
                "public static async Task<Dictionary<string, YieldCurve>> LoadLockedInYieldCurveAsync(this IQuerySource querySource, Args args, IEnumerable<DataNodeData> dataNodes)",
                "\n",
                "\n{",
                "\n    var lockedInYieldCurveByGoc = new Dictionary<string, YieldCurve>();",
                "\n    foreach (var dn in dataNodes.Where(x => x.ValuationApproach != ValuationApproaches.VFA))",
                "\n    {",
                "\n        var monthUpperLimit = args.Year == dn.Year ? args.Month : MonthInAYear;",
                "\n        var argsNew = args with {Year = dn.Year, Month = monthUpperLimit, Scenario = args.Scenario};",
                "\n        var loadedYc = (await querySource.LoadCurrentParameterAsync<YieldCurve>(argsNew, x => x.Currency, x => x.Currency == dn.ContractualCurrency && x.Name == dn.YieldCurveName));",
                "\n                                    ",
                "\n        if (!loadedYc.TryGetValue(dn.ContractualCurrency, out var lockedYc))",
                "\n            ApplicationMessage.Log(Error.YieldCurveNotFound, dn.DataNode, dn.ContractualCurrency, argsNew.Year.ToString(), argsNew.Month.ToString(), argsNew.Scenario, dn.YieldCurveName);",
                "\n        ",
                "\n        lockedInYieldCurveByGoc[dn.DataNode] = lockedYc;",
                "\n    }",
                "\n    ",
                "\n    return lockedInYieldCurveByGoc;",
                "\n}"
            ],
            "metadata": {},
            "execution_count": 0,
            "outputs": []
        },
        {
            "cell_type": "markdown",
            "source": [
                "## Current"
            ],
            "metadata": {},
            "execution_count": 0,
            "outputs": []
        },
        {
            "cell_type": "code",
            "source": [
                "public static async Task<Dictionary<string, Dictionary<int, YieldCurve>>> LoadCurrentYieldCurveAsync(this IQuerySource querySource, Args args,",
                "\n                                                                                                                                IEnumerable<DataNodeData> dataNodes)",
                "\n{    ",
                "\n    var currentYieldCurveByGoc = new Dictionary<string,  Dictionary<int, YieldCurve>>();",
                "\n",
                "\n    var dnByValAppContrCurrYcName = dataNodes.ToDictionaryGrouped(x => (ValuationApproach: x.ValuationApproach, ContractualCurrency: x.ContractualCurrency, YieldCurveName: x.YieldCurveName), ",
                "\n                                                                  x => x.Select(y => y.DataNode).ToArray());",
                "\n    ",
                "\n    foreach (var key in dnByValAppContrCurrYcName.Keys)",
                "\n    {",
                "\n                var loadedYc = await querySource.LoadCurrentAndPreviousParameterAsync<YieldCurve>(args, ",
                "\n                                                                            x => x.Currency,",
                "\n                                                                            x => x.Currency == key.ContractualCurrency ",
                "\n                                                                            && (key.ValuationApproach == ValuationApproaches.VFA",
                "\n                                                                                ? x.Name == key.YieldCurveName",
                "\n                                                                                :  x.Name == (string)null));",
                "\n    ",
                "\n        if (!loadedYc.TryGetValue(key.ContractualCurrency, out var currentYcDict))",
                "\n            ApplicationMessage.Log(Error.YieldCurveNotFound, key.ContractualCurrency, args.Year.ToString(), args.Month.ToString(), args.Scenario, key.YieldCurveName);",
                "\n",
                "\n        foreach(var dn in dnByValAppContrCurrYcName[key])",
                "\n        {",
                "\n            currentYieldCurveByGoc[dn] = loadedYc[key.ContractualCurrency];",
                "\n        }",
                "\n    }",
                "\n        ",
                "\n    return currentYieldCurveByGoc;",
                "\n}"
            ],
            "metadata": {},
            "execution_count": 0,
            "outputs": []
        },
        {
            "cell_type": "markdown",
            "source": [
                "# Data Node State"
            ],
            "metadata": {},
            "execution_count": 0,
            "outputs": []
        },
        {
            "cell_type": "code",
            "source": [
                "public static async Task<Dictionary<string, DataNodeState>> LoadDataNodeStateAsync(this IQuerySource querySource, Args args)",
                "\n{",
                "\n    return (await querySource.LoadCurrentAndPreviousParameterAsync<DataNodeState>(args, x => x.DataNode))",
                "\n                             .Where(x => x.Value[CurrentPeriod].State != State.Inactive)",
                "\n                             .ToDictionary(x => x.Key, x => x.Value[CurrentPeriod]);",
                "\n}"
            ],
            "metadata": {},
            "execution_count": 0,
            "outputs": []
        },
        {
            "cell_type": "markdown",
            "source": [
                "# Data Nodes"
            ],
            "metadata": {},
            "execution_count": 0,
            "outputs": []
        },
        {
            "cell_type": "code",
            "source": [
                "public static async Task<Dictionary<string, DataNodeData>> LoadDataNodesAsync(this IQuerySource querySource, Args args)",
                "\n{",
                "\n    var dataNodeStates = await querySource.LoadCurrentAndPreviousParameterAsync<DataNodeState>(args, x => x.DataNode);",
                "\n    var activeDataNodes = dataNodeStates.Where(kvp => kvp.Value[CurrentPeriod].State != State.Inactive).Select(kvp => kvp.Key);",
                "\n    ",
                "\n    return (await querySource.Query<GroupOfContract>().Where(dn => activeDataNodes.Contains(dn.SystemName)).ToArrayAsync())",
                "\n                            .ToDictionary(dn => dn.SystemName, dn => {",
                "\n                                                                      var dnCurrentState = dataNodeStates[dn.SystemName][CurrentPeriod];",
                "\n                                                                      var dnPreviousState = dataNodeStates[dn.SystemName][PreviousPeriod];",
                "\n                                                                      return new DataNodeData(dn){Year = dnPreviousState.Year, ",
                "\n                                                                                                  Month = dnPreviousState.Month,",
                "\n                                                                                                  State = dnCurrentState.State,",
                "\n                                                                                                  PreviousState = dnPreviousState.State",
                "\n                                                                                                  };",
                "\n                                                                     }",
                "\n                                         );",
                "\n}"
            ],
            "metadata": {},
            "execution_count": 0,
            "outputs": []
        },
        {
            "cell_type": "markdown",
            "source": [
                "# Data Node Parameters"
            ],
            "metadata": {},
            "execution_count": 0,
            "outputs": []
        },
        {
            "cell_type": "markdown",
            "source": [
                "## Single data Node"
            ],
            "metadata": {},
            "execution_count": 0,
            "outputs": []
        },
        {
            "cell_type": "code",
            "source": [
                "public static async Task<Dictionary<string, Dictionary<int, SingleDataNodeParameter>>> LoadSingleDataNodeParametersAsync(this IQuerySource querySource, Args args)",
                "\n{",
                "\n    return await querySource.LoadCurrentAndPreviousParameterAsync<SingleDataNodeParameter>(args, x => x.DataNode);",
                "\n}"
            ],
            "metadata": {},
            "execution_count": 0,
            "outputs": []
        },
        {
            "cell_type": "markdown",
            "source": [
                "## Inter data Node"
            ],
            "metadata": {},
            "execution_count": 0,
            "outputs": []
        },
        {
            "cell_type": "code",
            "source": [
                "public static async Task<Dictionary<string, Dictionary<int, HashSet<InterDataNodeParameter>>>> LoadInterDataNodeParametersAsync(this IQuerySource querySource, Args args)",
                "\n{",
                "\n    var identityExpressions = new Func<InterDataNodeParameter, string>[]{x => x.DataNode, x => x.LinkedDataNode,};",
                "\n    var parameterArray = (await querySource.LoadParameterAsync<InterDataNodeParameter>(args.Year, args.Month));",
                "\n    var parameters = identityExpressions.SelectMany(ie => parameterArray.GroupBy(ie));",
                "\n                                         ",
                "\n    return parameters.SelectMany(p => p",
                "\n                                 .GroupBy(x => x.DataNode != p.Key ? x.DataNode : x.LinkedDataNode)",
                "\n                                 .Select(gg =>",
                "\n                                         {",
                "\n                                             var currentCandidate = gg.Where(x => x.Year == args.Year).OrderByDescending(x => x.Month).ThenByDescending(x => x.Scenario).FirstOrDefault();",
                "\n                                             var previousCandidate = gg.Where(x => x.Year < args.Year && x.Scenario == null).OrderByDescending(x => x.Year).ThenByDescending(x => x.Month).FirstOrDefault();",
                "\n                                             return (key: p.Key,",
                "\n                                                     currentPeriod: currentCandidate != null ? currentCandidate : previousCandidate,",
                "\n                                                     previousPeriod: previousCandidate != null ? previousCandidate : currentCandidate);",
                "\n                                         })",
                "\n                                )",
                "\n        .ToDictionaryGrouped(x => x.key,",
                "\n                             x => new Dictionary<int, HashSet<InterDataNodeParameter>>{ {CurrentPeriod, x.Select(y => y.currentPeriod).ToHashSet()},",
                "\n                                                                                       {PreviousPeriod, x.Select(y => y.previousPeriod).ToHashSet()}});",
                "\n}"
            ],
            "metadata": {},
            "execution_count": 0,
            "outputs": []
        },
        {
            "cell_type": "markdown",
            "source": [
                "# AoC Step Configuration"
            ],
            "metadata": {},
            "execution_count": 0,
            "outputs": []
        },
        {
            "cell_type": "code",
            "source": [
                "public static async Task<IEnumerable<AocConfiguration>> LoadAocStepConfigurationAsync(this IQuerySource querySource, int year, int month)",
                "\n    => (await querySource.LoadParameterAsync<AocConfiguration>(year, month))",
                "\n            .GroupBy(x => (x.AocType, x.Novelty), ",
                "\n                    (k, v) => v.OrderByDescending(x => x.Year).ThenByDescending(x => x.Month).First()); "
            ],
            "metadata": {},
            "execution_count": 0,
            "outputs": []
        },
        {
            "cell_type": "code",
            "source": [
                "public static async Task<Dictionary<AocStep, AocConfiguration>> LoadAocStepConfigurationAsDictionaryAsync(this IQuerySource querySource, int year, int month) ",
                "\n    => (await querySource.LoadAocStepConfigurationAsync(year, month))",
                "\n            .ToDictionary(x => new AocStep(x.AocType, x.Novelty)); "
            ],
            "metadata": {},
            "execution_count": 0,
            "outputs": []
        },
        {
            "cell_type": "markdown",
            "source": [
                "# Data Variables",
                "\n",
                "\nThe following methods query the data source for RawVariable and IfrsVariable. ",
                "\nWhen Scenario is not Best Estimate, the result of the query to the partition with the desired Scenario is provided if not empty. In the case this set is empty the result of the query for the Best Estimate scenario is provided instead. "
            ],
            "metadata": {},
            "execution_count": 0,
            "outputs": []
        },
        {
            "cell_type": "code",
            "source": [
                "public static async Task<T[]> LoadPartitionedDataAsync<T,P>(this IDataSource querySource, Guid partition, Expression<Func<T, bool>> filterExpression = null)",
                "\n    where T : IPartitioned",
                "\n    where P : IPartition",
                "\n{",
                "\n    var partitionBackup = (Guid)(querySource.Partition.GetCurrent(typeof(P).Name)?? default(Guid));",
                "\n    await querySource.Partition.SetAsync<P>(partition);",
                "\n    // Temporary workaround for physical database: where clause is necessary",
                "\n    var data = await querySource.Query<T>().Where(x => x.Partition == partition).Where(filterExpression?? (Expression<Func<T, bool>>)(x => true)).ToArrayAsync();",
                "\n    if(partitionBackup == default(Guid)) await querySource.Partition.SetAsync<P>(null);",
                "\n    else await querySource.Partition.SetAsync<P>(partitionBackup);",
                "\n    return data;",
                "\n}"
            ],
            "metadata": {},
            "execution_count": 0,
            "outputs": []
        },
        {
            "cell_type": "code",
            "source": [
                "public static bool GetIsRelaxed<T>(string format)",
                "\n    where T : IPartitioned",
                "\n{",
                "\n    if(typeof(ImportFormats).GetFields().Select(x => x.Name).Contains(format)) //ifrs17 ImportFormats",
                "\n        return ((format != ImportFormats.Cashflow && typeof(T).Name == nameof(IfrsVariable)) ||",
                "\n               (format == ImportFormats.Cashflow && typeof(T).Name == nameof(RawVariable)));",
                "\n    ",
                "\n    //Override or simple expansion allows to extend this concept to other Formats",
                "\n    return true;",
                "\n    //Scenario == null (BE) => workspace",
                "\n    //Scenario == ",
                "\n}"
            ],
            "metadata": {},
            "execution_count": 0,
            "outputs": []
        },
        {
            "cell_type": "code",
            "source": [
                "public static async Task<T[]> QueryPartitionedDataAsync<T,P>(this IWorkspace workspace, IDataSource dataSource, ",
                "\n                                                                  Guid targetPartition, Guid defaultPartition, ",
                "\n                                                                  string format,",
                "\n                                                                  Expression<Func<T, bool>> filterExpression = null)",
                "\n    where T : IPartitioned",
                "\n    where P : IPartition",
                "\n{",
                "\n    //If Ifrs17 format",
                "\n    var isRelaxed = GetIsRelaxed<T>(format);",
                "\n",
                "\n    var variablesFromWorkspace = await workspace.LoadPartitionedDataAsync<T,P>(targetPartition, filterExpression);",
                "\n    if(!isRelaxed || variablesFromWorkspace.Any()) return variablesFromWorkspace;",
                "\n",
                "\n    // This is for scenario re-calculation",
                "\n    var variablesFromDataSource = await dataSource.LoadPartitionedDataAsync<T,P>(targetPartition, filterExpression);",
                "\n    if(variablesFromDataSource.Any()) return variablesFromDataSource;",
                "\n",
                "\n    // This is for scenarios affecting parameters solely",
                "\n    // And for the best estimate when parameters are updated",
                "\n    return await dataSource.LoadPartitionedDataAsync<T,P>(defaultPartition, filterExpression);",
                "\n}"
            ],
            "metadata": {},
            "execution_count": 0,
            "outputs": []
        }
    ]
}