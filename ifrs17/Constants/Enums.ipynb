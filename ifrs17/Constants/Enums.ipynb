{
    "metadata": {
        "authors": [],
        "kernelspec": {
            "display_name": "Formula Framework",
            "language": "C#",
            "name": "C#"
        },
        "language_info": {
            "file_extension": ".cs",
            "mimetype": "text/plain",
            "name": "C#"
        },
        "toc-autonumbering": "True",
        "toc-showcode": "False",
        "toc-showmarkdowntxt": "False"
    },
    "nbformat": 4,
    "nbformat_minor": 5,
    "cells": [
        {
            "id": "7yuu1-nMYEaz2VQbNmfnVw",
            "cell_type": "markdown",
            "source": [
                "# Enumerables",
                "\n",
                "\nIn the case of data which is not expected to change over time, it is convenient to introduce such data as variables of type \"enumerable\"."
            ],
            "metadata": {},
            "execution_count": 0,
            "outputs": []
        },
        {
            "id": "8g1l0R8T8U-IOna8oyfAkQ",
            "cell_type": "markdown",
            "source": [
                "## Exchange Rates",
                "\n",
                "\nFor exchange rates, we set the type for which the rates apply:"
            ],
            "metadata": {},
            "execution_count": 0,
            "outputs": []
        },
        {
            "id": "t7E7mhlo5UqfOkrGTtNXCQ",
            "cell_type": "code",
            "source": [
                "public enum FxType { Spot, Average }"
            ],
            "metadata": {},
            "execution_count": 0,
            "outputs": []
        },
        {
            "id": "49EFOFosTE2b01P6bAfyWg",
            "cell_type": "code",
            "source": [
                "public enum FxPeriod { NotApplicable, BeginningOfPeriod, Average, EndOfPeriod }"
            ],
            "metadata": {},
            "execution_count": 0,
            "outputs": []
        },
        {
            "id": "3Yzh44qo0U2qHjwX32hK-Q",
            "cell_type": "markdown",
            "source": [
                "## Currency Types"
            ],
            "metadata": {},
            "execution_count": 0,
            "outputs": []
        },
        {
            "id": "YSjrRCncdkeBD-tmDea0aw",
            "cell_type": "markdown",
            "source": [
                "Currency Types define which currency is used as standard at different aggregation levels (in the Data Level hierarchy).",
                "\n- Functional: this is the standard Currency Type at Reporting Node level",
                "\n- Group: this is the standard Currency Type at Group level",
                "\n- Contractual: this is the standard Currency Type at Data Node level",
                "\n- Transactional: this is the standard Currency Type at Transactional level (used typically for Actuals)"
            ],
            "metadata": {},
            "execution_count": 0,
            "outputs": []
        },
        {
            "id": "jh26RhXaOE68WpR0sEGl0g",
            "cell_type": "code",
            "source": [
                "public enum CurrencyType { Functional, Group, Contractual, Transactional }"
            ],
            "metadata": {},
            "execution_count": 0,
            "outputs": []
        },
        {
            "id": "AXpfx_ad4kqpIbUo1e4hXg",
            "cell_type": "markdown",
            "source": [
                "## Period Type"
            ],
            "metadata": {},
            "execution_count": 0,
            "outputs": []
        },
        {
            "id": "1vDIOyfLkkqGvUcpgyJVIA",
            "cell_type": "code",
            "source": [
                "public enum PeriodType { NotApplicable, BeginningOfPeriod, EndOfPeriod }"
            ],
            "metadata": {},
            "execution_count": 0,
            "outputs": []
        },
        {
            "id": "9R2qLiyExkineotVwbw6yQ",
            "cell_type": "markdown",
            "source": [
                "## Valuation Period"
            ],
            "metadata": {},
            "execution_count": 0,
            "outputs": []
        },
        {
            "id": "kn1YhpDnI0SPJtWUIvduDw",
            "cell_type": "code",
            "source": [
                "public enum ValuationPeriod { NotApplicable, BeginningOfPeriod, MidOfPeriod, Delta, EndOfPeriod }"
            ],
            "metadata": {},
            "execution_count": 0,
            "outputs": []
        },
        {
            "id": "UAJzid7q0kCp4u79twXYsQ",
            "cell_type": "markdown",
            "source": [
                "## Portfolio View"
            ],
            "metadata": {},
            "execution_count": 0,
            "outputs": []
        },
        {
            "id": "eu3i-_-KwUOHepJ1YTbv5Q",
            "cell_type": "code",
            "source": [
                "[Flags] public enum PortfolioView { Gross = 1, Reinsurance = 2, Net = Gross | Reinsurance }"
            ],
            "metadata": {},
            "execution_count": 0,
            "outputs": []
        },
        {
            "id": "ZczG-3Va7kOnWIrGVXZ-aw",
            "cell_type": "markdown",
            "source": [
                "## Structure Type"
            ],
            "metadata": {},
            "execution_count": 0,
            "outputs": []
        },
        {
            "id": "gmGAo-UcPEmslSK1baZNeQ",
            "cell_type": "code",
            "source": [
                "public enum StructureType { None, AoC }"
            ],
            "metadata": {},
            "execution_count": 0,
            "outputs": []
        },
        {
            "id": "eDEuq4VVoEupjX9Wjmw9Ng",
            "cell_type": "markdown",
            "source": [
                "## State"
            ],
            "metadata": {},
            "execution_count": 0,
            "outputs": []
        },
        {
            "id": "ec4mEQbChkSyzrRx1Ij2EA",
            "cell_type": "markdown",
            "source": [
                "State describes the state in which a Data Node can be - There are two types of states:",
                "\n- Active: visible in reports and queries",
                "\n- Inactive: not visible in reports and queries"
            ],
            "metadata": {},
            "execution_count": 0,
            "outputs": []
        },
        {
            "id": "jq_l63aH-E-av4ATdkUkow",
            "cell_type": "code",
            "source": [
                "public enum State { Active, Inactive }"
            ],
            "metadata": {},
            "execution_count": 0,
            "outputs": []
        },
        {
            "id": "V6J4366lpUGvmHxas_1KCg",
            "cell_type": "markdown",
            "source": [
                "## Periodicity"
            ],
            "metadata": {},
            "execution_count": 0,
            "outputs": []
        },
        {
            "id": "_9ab5Ioug0C_et8CKa3F9w",
            "cell_type": "code",
            "source": [
                "public enum Periodicity { Monthly, Quarterly, Yearly }"
            ],
            "metadata": {},
            "execution_count": 0,
            "outputs": []
        },
        {
            "id": "ysvJ9xOAJE6eZifRuEAlmA",
            "cell_type": "markdown",
            "source": [
                "## Input Source"
            ],
            "metadata": {},
            "execution_count": 0,
            "outputs": []
        },
        {
            "id": "8Ywgx90g20akkNb5hIv_uA",
            "cell_type": "code",
            "source": [
                "[Flags]",
                "\npublic enum InputSource {NotApplicable = 0, Opening = 1, Actual = 2, Cashflow = 4} ",
                "\n//Opening + Actual = 3,",
                "\n//Opening + Cashflow = 5",
                "\n//Actual + Cashflow = 6",
                "\n//Opening + Actual + Cashflow = 7"
            ],
            "metadata": {},
            "execution_count": 0,
            "outputs": []
        },
        {
            "id": "11Jg7So9Lki0g8WgkSutgQ",
            "cell_type": "markdown",
            "source": [
                "## Data Type"
            ],
            "metadata": {},
            "execution_count": 0,
            "outputs": []
        },
        {
            "id": "zcqKLY6iFEy6pw_IGCkIBQ",
            "cell_type": "code",
            "source": [
                "public enum DataType { Optional, Mandatory, Calculated, CalculatedTelescopic }"
            ],
            "metadata": {},
            "execution_count": 0,
            "outputs": []
        },
        {
            "id": "i99KRwwLuEqFL76t8d40uA",
            "cell_type": "markdown",
            "source": [
                "## Import Scope"
            ],
            "metadata": {},
            "execution_count": 0,
            "outputs": []
        },
        {
            "id": "JGosofbx-0ewke-S_TOXFA",
            "cell_type": "code",
            "source": [
                "public enum ImportScope { Primary, Secondary }"
            ],
            "metadata": {},
            "execution_count": 0,
            "outputs": []
        }
    ]
}