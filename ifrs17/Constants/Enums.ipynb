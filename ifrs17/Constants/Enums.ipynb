{
    "metadata": {
        "authors": [],
        "id": "miNXh_kJVE2HcvY8ujKdYw",
        "kernelspec": {
            "display_name": "Formula Framework",
            "language": "C#",
            "name": "C#"
        },
        "language_info": {
            "file_extension": ".cs",
            "mimetype": "text/plain",
            "name": "C#"
        }
    },
    "nbformat": 4,
    "nbformat_minor": 5,
    "cells": [
        {
            "cell_type": "markdown",
            "source": [
                "# Enumerables",
                "\n",
                "\nIn the case of data which is not expected to change over time, it is convenient to introduce such data as variables of type \"enumerable\"."
            ],
            "metadata": {},
            "execution_count": 0,
            "outputs": []
        },
        {
            "cell_type": "markdown",
            "source": [
                "## Exchange Rates",
                "\n",
                "\nFor exchange rates, we set the type for which the rates apply:"
            ],
            "metadata": {},
            "execution_count": 0,
            "outputs": []
        },
        {
            "cell_type": "code",
            "source": [
                "public enum FxType { Spot, Average }"
            ],
            "metadata": {},
            "execution_count": 0,
            "outputs": []
        },
        {
            "cell_type": "code",
            "source": [
                "public enum FxPeriod { NotApplicable, BeginningOfPeriod, Average, EndOfPeriod }"
            ],
            "metadata": {},
            "execution_count": 0,
            "outputs": []
        },
        {
            "cell_type": "markdown",
            "source": [
                "## Currency Types"
            ],
            "metadata": {},
            "execution_count": 0,
            "outputs": []
        },
        {
            "cell_type": "markdown",
            "source": [
                "Currency Types define which currency is used as standard at different aggregation levels (in the Data Level hierarchy).",
                "\n- Functional: this is the standard Currency Type at Reporting Node (leaf level)",
                "\n- Group: this is the standard Currency Type at Reporting Node (root level)",
                "\n- Contractual: this is the standard Currency Type at Data Node level",
                "\n- Transactional: this is the standard Currency Type at Transactional level (used typically for Actuals)"
            ],
            "metadata": {},
            "execution_count": 0,
            "outputs": []
        },
        {
            "cell_type": "code",
            "source": [
                "public enum CurrencyType { Functional, Group, Contractual, Transactional }"
            ],
            "metadata": {},
            "execution_count": 0,
            "outputs": []
        },
        {
            "cell_type": "markdown",
            "source": [
                "## Period Type"
            ],
            "metadata": {},
            "execution_count": 0,
            "outputs": []
        },
        {
            "cell_type": "code",
            "source": [
                "public enum PeriodType { NotApplicable, BeginningOfPeriod, EndOfPeriod }"
            ],
            "metadata": {},
            "execution_count": 0,
            "outputs": []
        },
        {
            "cell_type": "markdown",
            "source": [
                "## Valuation Period"
            ],
            "metadata": {},
            "execution_count": 0,
            "outputs": []
        },
        {
            "cell_type": "code",
            "source": [
                "public enum ValuationPeriod { NotApplicable, BeginningOfPeriod, MidOfPeriod, Delta, EndOfPeriod }"
            ],
            "metadata": {},
            "execution_count": 0,
            "outputs": []
        },
        {
            "cell_type": "markdown",
            "source": [
                "## Portfolio View"
            ],
            "metadata": {},
            "execution_count": 0,
            "outputs": []
        },
        {
            "cell_type": "code",
            "source": [
                "[Flags] public enum PortfolioView { Gross = 1, Reinsurance = 2, Net = Gross | Reinsurance }"
            ],
            "metadata": {},
            "execution_count": 0,
            "outputs": []
        },
        {
            "cell_type": "markdown",
            "source": [
                "## Structure Type"
            ],
            "metadata": {},
            "execution_count": 0,
            "outputs": []
        },
        {
            "cell_type": "code",
            "source": [
                "public enum StructureType { None, AoC }"
            ],
            "metadata": {},
            "execution_count": 0,
            "outputs": []
        },
        {
            "cell_type": "markdown",
            "source": [
                "## State"
            ],
            "metadata": {},
            "execution_count": 0,
            "outputs": []
        },
        {
            "cell_type": "markdown",
            "source": [
                "State describes the state in which a Data Node can be - There are two types of states:",
                "\n- Active: visible in reports and queries",
                "\n- Inactive: not visible in reports and queries"
            ],
            "metadata": {},
            "execution_count": 0,
            "outputs": []
        },
        {
            "cell_type": "code",
            "source": [
                "public enum State { Active, Inactive }"
            ],
            "metadata": {},
            "execution_count": 0,
            "outputs": []
        },
        {
            "cell_type": "markdown",
            "source": [
                "## Periodicity"
            ],
            "metadata": {},
            "execution_count": 0,
            "outputs": []
        },
        {
            "cell_type": "code",
            "source": [
                "public enum Periodicity { Monthly, Quarterly, Yearly }"
            ],
            "metadata": {},
            "execution_count": 0,
            "outputs": []
        },
        {
            "cell_type": "markdown",
            "source": [
                "## CashFlowPeriodicity"
            ],
            "metadata": {},
            "execution_count": 0,
            "outputs": []
        },
        {
            "cell_type": "code",
            "source": [
                "public enum CashFlowPeriodicity { Monthly, Quarterly, Yearly }"
            ],
            "metadata": {},
            "execution_count": 0,
            "outputs": []
        },
        {
            "cell_type": "markdown",
            "source": [
                "## Interpolation Method"
            ],
            "metadata": {},
            "execution_count": 0,
            "outputs": []
        },
        {
            "cell_type": "code",
            "source": [
                "public enum InterpolationMethod { NotApplicable, Uniform, Start, /*End  , Linear, Custom*/ }"
            ],
            "metadata": {},
            "execution_count": 0,
            "outputs": []
        },
        {
            "cell_type": "markdown",
            "source": [
                "## Input Source"
            ],
            "metadata": {},
            "execution_count": 0,
            "outputs": []
        },
        {
            "cell_type": "code",
            "source": [
                "[Flags]",
                "\npublic enum InputSource {NotApplicable = 0, Opening = 1, Actual = 2, Cashflow = 4} ",
                "\n//Opening + Actual = 3,",
                "\n//Opening + Cashflow = 5",
                "\n//Actual + Cashflow = 6",
                "\n//Opening + Actual + Cashflow = 7"
            ],
            "metadata": {},
            "execution_count": 0,
            "outputs": []
        },
        {
            "cell_type": "markdown",
            "source": [
                "## Data Type"
            ],
            "metadata": {},
            "execution_count": 0,
            "outputs": []
        },
        {
            "cell_type": "code",
            "source": [
                "[Flags]",
                "\npublic enum DataType {Optional = 1, Mandatory = 2, Calculated = 4, CalculatedTelescopic = 8}",
                "\n//Optional = 1 : used for AoC Step provided in input files but are not mandatory (can be missing from the file)",
                "\n//Mandatory = 2 : used for AoC Step that must be provided in input files",
                "\n//Calculated = 4 : used for AoC Step that are not provided in input files but are Calculated by the calculation engine",
                "\n//CalculatedTelescopic = 8 : used for AoC Step that are not provided in input files but are Calculated by the calculation engine through telescoping difference (Update of parameters YCU)",
                "\n//Optional + Mandatory = 3 : not allowed.",
                "\n//Optional + Calculated = 5 : used for AoC Step that are optional input for a certain scopes (Written Actual) and are computed for others (Deferral Actual) ",
                "\n//Optional + Mandatory + Calculated = 7 : not allowed.",
                "\n//Optional + CalculatedTelescopic = 9 : not allowed.",
                "\n//Mandatory + Calculated = 6 : not allowed.",
                "\n//Mandatory + CalculatedTelescopic = 10 : not allowed.",
                "\n//Calculated + CalculatedTelescopic = 12 : not allowed.",
                "\n//Optional + Mandatory + Calculated + CalculatedTelescopic = 15 : not allowed."
            ],
            "metadata": {},
            "execution_count": 0,
            "outputs": []
        },
        {
            "cell_type": "markdown",
            "source": [
                "## Import Scope",
                "\nImport Scope is used in the [ImportStorage](../Import/ImportStorage) and in the [Compute Function](../Import/Importers#calculate-ifrs-variables-for-all-scenarios) to drive the calculation of new IfrsVariables. Each import scope contains a collection of Data Node.",
                "\n",
                "\nIts values indicate: ",
                "\n- <code>Primary</code> : Data nodes for which [IfrsVariable](../DataModel/DataStructure#ifrs-variable) will be calculated.",
                "\n- <code>AddedToPrimary</code> : Subset of Primary. It contains data nodes linked to data nodes provided in input that need recalculation. ",
                "\n- <code>Secondary</code> : Data nodes that provide inputs to the Data nodes in primary scope. No variable will not be calculated."
            ],
            "metadata": {},
            "execution_count": 0,
            "outputs": []
        },
        {
            "cell_type": "code",
            "source": [
                "public enum ImportScope { Primary, AddedToPrimary, Secondary }"
            ],
            "metadata": {},
            "execution_count": 0,
            "outputs": []
        },
        {
            "cell_type": "markdown",
            "source": [
                "# Report Variable"
            ],
            "metadata": {},
            "execution_count": 0,
            "outputs": []
        },
        {
            "cell_type": "code",
            "source": [
                "public enum ServicePeriod{ NotApplicable, PastService, CurrentService, FutureService }"
            ],
            "metadata": {},
            "execution_count": 0,
            "outputs": []
        }
    ]
}