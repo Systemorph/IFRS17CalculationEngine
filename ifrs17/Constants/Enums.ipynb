{
    "metadata": {
        "authors": [],
        "id": "miNXh_kJVE2HcvY8ujKdYw",
        "kernelspec": {
            "display_name": "Formula Framework",
            "language": "C#",
            "name": "C#"
        },
        "language_info": {
            "file_extension": ".cs",
            "mimetype": "text/plain",
            "name": "C#"
        }
    },
    "nbformat": 4,
    "nbformat_minor": 5,
    "cells": [
        {
            "cell_type": "markdown",
            "source": [
                "# Enumerables",
                "\n",
                "\nIn the case of data which is not expected to change over time, it is convenient to introduce such data as variables of type \"enumerable\"."
            ],
            "metadata": {},
            "execution_count": 0,
            "outputs": []
        },
        {
            "cell_type": "markdown",
            "source": [
                "## Exchange Rates",
                "\n",
                "\nFor exchange rates, we set the type for which the rates apply:"
            ],
            "metadata": {},
            "execution_count": 0,
            "outputs": []
        },
        {
            "cell_type": "code",
            "source": [
                "public enum FxType { Spot, Average }"
            ],
            "metadata": {},
            "execution_count": 0,
            "outputs": []
        },
        {
            "cell_type": "code",
            "source": [
                "public enum FxPeriod { NotApplicable, BeginningOfPeriod, Average, EndOfPeriod }"
            ],
            "metadata": {},
            "execution_count": 0,
            "outputs": []
        },
        {
            "cell_type": "markdown",
            "source": [
                "## Currency Types"
            ],
            "metadata": {},
            "execution_count": 0,
            "outputs": []
        },
        {
            "cell_type": "markdown",
            "source": [
                "Currency Types define which currency is used as standard at different aggregation levels (in the Data Level hierarchy).",
                "\n- Functional: this is the standard Currency Type at Reporting Node (leaf level)",
                "\n- Group: this is the standard Currency Type at Reporting Node (root level)",
                "\n- Contractual: this is the standard Currency Type at Data Node level",
                "\n- Transactional: this is the standard Currency Type at Transactional level (used typically for Actuals)"
            ],
            "metadata": {},
            "execution_count": 0,
            "outputs": []
        },
        {
            "cell_type": "code",
            "source": [
                "public enum CurrencyType { Functional, Group, Contractual, Transactional }"
            ],
            "metadata": {},
            "execution_count": 0,
            "outputs": []
        },
        {
            "cell_type": "markdown",
            "source": [
                "## Period Type"
            ],
            "metadata": {},
            "execution_count": 0,
            "outputs": []
        },
        {
            "cell_type": "code",
            "source": [
                "public enum PeriodType { NotApplicable, BeginningOfPeriod, EndOfPeriod }"
            ],
            "metadata": {},
            "execution_count": 0,
            "outputs": []
        },
        {
            "cell_type": "markdown",
            "source": [
                "## Valuation Period"
            ],
            "metadata": {},
            "execution_count": 0,
            "outputs": []
        },
        {
            "cell_type": "code",
            "source": [
                "public enum ValuationPeriod { NotApplicable, BeginningOfPeriod, MidOfPeriod, Delta, EndOfPeriod }"
            ],
            "metadata": {},
            "execution_count": 0,
            "outputs": []
        },
        {
            "cell_type": "markdown",
            "source": [
                "## Portfolio View"
            ],
            "metadata": {},
            "execution_count": 0,
            "outputs": []
        },
        {
            "cell_type": "code",
            "source": [
                "[Flags] public enum PortfolioView { Gross = 1, Reinsurance = 2, Net = Gross | Reinsurance }"
            ],
            "metadata": {},
            "execution_count": 0,
            "outputs": []
        },
        {
            "cell_type": "markdown",
            "source": [
                "## Structure Type",
                "\nThe Structure Type defines the type of Analysis of Change structure. It is a property of [EstimateType](../DataModel/DataStructure#estimate-type) and ",
                "\n[AocConfiguration](../DataModel/DataStructure#aoc-configuration)."
            ],
            "metadata": {},
            "execution_count": 0,
            "outputs": []
        },
        {
            "cell_type": "code",
            "source": [
                "[Flags]",
                "\npublic enum StructureType { None = 1, AocPresentValue = 2, AocAccrual = 4, AocTechnicalMargin = 8 }",
                "\n//Combination in use in AocConfiguration:",
                "\n//AocPresentValue | AocAccrual | AocTechnicalMargin = 14 : BOP,I",
                "\n//AocPresentValue | AocTechnicalMargin = 10 : IA,I"
            ],
            "metadata": {},
            "execution_count": 0,
            "outputs": []
        },
        {
            "cell_type": "markdown",
            "source": [
                "## State"
            ],
            "metadata": {},
            "execution_count": 0,
            "outputs": []
        },
        {
            "cell_type": "markdown",
            "source": [
                "State describes the state in which a Data Node can be - There are two types of states:",
                "\n- Active: visible in reports and queries",
                "\n- Inactive: not visible in reports and queries"
            ],
            "metadata": {},
            "execution_count": 0,
            "outputs": []
        },
        {
            "cell_type": "code",
            "source": [
                "public enum State { Active, Inactive }"
            ],
            "metadata": {},
            "execution_count": 0,
            "outputs": []
        },
        {
            "cell_type": "markdown",
            "source": [
                "## Periodicity"
            ],
            "metadata": {},
            "execution_count": 0,
            "outputs": []
        },
        {
            "cell_type": "code",
            "source": [
                "public enum Periodicity { Monthly, Quarterly, Yearly }"
            ],
            "metadata": {},
            "execution_count": 0,
            "outputs": []
        },
        {
            "cell_type": "markdown",
            "source": [
                "## CashFlowPeriodicity"
            ],
            "metadata": {},
            "execution_count": 0,
            "outputs": []
        },
        {
            "cell_type": "code",
            "source": [
                "public enum CashFlowPeriodicity { Monthly, Quarterly, Yearly }"
            ],
            "metadata": {},
            "execution_count": 0,
            "outputs": []
        },
        {
            "cell_type": "markdown",
            "source": [
                "## Interpolation Method"
            ],
            "metadata": {},
            "execution_count": 0,
            "outputs": []
        },
        {
            "cell_type": "code",
            "source": [
                "public enum InterpolationMethod { NotApplicable, Uniform, Start, /*End  , Linear, Custom*/ }"
            ],
            "metadata": {},
            "execution_count": 0,
            "outputs": []
        },
        {
            "cell_type": "markdown",
            "source": [
                "## Input Source"
            ],
            "metadata": {},
            "execution_count": 0,
            "outputs": []
        },
        {
            "cell_type": "code",
            "source": [
                "[Flags]",
                "\npublic enum InputSource {NotApplicable = 0, Opening = 1, Actual = 2, Cashflow = 4} ",
                "\n//Opening + Actual = 3,",
                "\n//Opening + Cashflow = 5",
                "\n//Actual + Cashflow = 6",
                "\n//Opening + Actual + Cashflow = 7"
            ],
            "metadata": {},
            "execution_count": 0,
            "outputs": []
        },
        {
            "cell_type": "markdown",
            "source": [
                "## Data Type",
                "\nData Type describes the AoC Step and it is defined in the [AoC Configuration](../DataModel/DataStructure#aoc-configuration). It describes whether the data for each AoC Step can be provided in the input <code>Optional</code>, has to be provided in the input <code>Mandatory</code> or it is not accepted as input because it is a <code>Calculated</code> quantity. ",
                "\n",
                "\nAmong the <code>Calculated</code> AoC Steps we distinguish between three cathegories:",
                "\n- <code>Calculated</code> : the AoC Step is computed with a custom formula,",
                "\n- <code>CalculatedTelescopic</code> : the AoC Step is computed with the [telescoping formula](../Import/2ImportScope-PresentValue#telescoping-difference),",
                "\n- <code>CalculatedProjection</code> : the AoC Step is computed only during projection computation. ",
                "\n",
                "\nAoC Steps can be associated to more than one DataType. The following combinations are in use in the current version of the Calculation Engine:",
                "\n- <code>Optional</code> + <code>CalculatedProjection</code> : to identify an optional input for the current period but is calculated for projections (eg.: BOP-I). "
            ],
            "metadata": {},
            "execution_count": 0,
            "outputs": []
        },
        {
            "cell_type": "code",
            "source": [
                "[Flags]",
                "\npublic enum DataType {Optional = 1, Mandatory = 2, Calculated = 4, CalculatedTelescopic = 8, CalculatedProjection = 16}",
                "\n//Combination in use in AocConfiguration:",
                "\n",
                "\n//Optional + CalculatedProjection = 17 : used for AoC Step that are optional input and calculated in projections (eg BOP,I - CF,C - WO,C)",
                "\n//Calculated + CalculatedProjection = 20  : used for AoC Step that are calculated in current period (if the data allows) and are certainly calculated in projections",
                "\n"
            ],
            "metadata": {},
            "execution_count": 0,
            "outputs": []
        },
        {
            "cell_type": "markdown",
            "source": [
                "## Import Scope",
                "\nImport Scope is used in the [ImportStorage](../Import/ImportStorage) and in the [Compute Function](../Import/Importers#calculate-ifrs-variables-for-all-scenarios) to drive the calculation of new IfrsVariables. Each import scope contains a collection of Data Node.",
                "\n",
                "\nIts values indicate: ",
                "\n- <code>Primary</code> : Data Nodes for which [IfrsVariable](../DataModel/DataStructure#ifrs-variable) will be calculated. Data Node provided in input are considered part of this Import Scope.",
                "\n- <code>AddedToPrimary</code> : It contains Data Nodes linked to Data Nodes provided in input. Although any new input is provided, these Data Nodes require recalculation due to possible changes in their linked Data Node. During import calculation these Data Nodes are considered as part of the Primary Scope. Data Nodes linkage is defined through [InterDataNodeParameter](../DataModel/DataStructure#data-node-parameters).",
                "\n- <code>Secondary</code> : Data Nodes that provide inputs to the Data Nodes in primary scope. No variables will be calculated for the Data Node in this ImportScope."
            ],
            "metadata": {},
            "execution_count": 0,
            "outputs": []
        },
        {
            "cell_type": "code",
            "source": [
                "public enum ImportScope { Primary, AddedToPrimary, Secondary }"
            ],
            "metadata": {},
            "execution_count": 0,
            "outputs": []
        },
        {
            "cell_type": "markdown",
            "source": [
                "# Report Variable"
            ],
            "metadata": {},
            "execution_count": 0,
            "outputs": []
        },
        {
            "cell_type": "code",
            "source": [
                "public enum ServicePeriod{ NotApplicable, PastService, CurrentService, FutureService }"
            ],
            "metadata": {},
            "execution_count": 0,
            "outputs": []
        }
    ]
}