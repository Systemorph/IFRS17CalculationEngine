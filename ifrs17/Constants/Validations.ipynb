{
    "metadata": {
        "authors": [],
        "kernelspec": {
            "display_name": "Formula Framework",
            "language": "C#",
            "name": "C#"
        },
        "language_info": {
            "file_extension": ".cs",
            "mimetype": "text/plain",
            "name": "C#"
        },
        "toc-autonumbering": "True",
        "toc-showcode": "False",
        "toc-showmarkdowntxt": "False"
    },
    "nbformat": 4,
    "nbformat_minor": 5,
    "cells": [
        {
            "cell_type": "markdown",
            "source": [
                "<p style=\"font-weight:bold;\"> <span style=\"font-size: 36px\"> Errors and Warnings </span> </p>"
            ],
            "metadata": {},
            "execution_count": 0,
            "outputs": []
        },
        {
            "cell_type": "code",
            "source": [
                "#!import \"Enums\"",
                "\n#!import \"Consts\""
            ],
            "metadata": {},
            "execution_count": 0,
            "outputs": []
        },
        {
            "cell_type": "markdown",
            "source": [
                "# Codes"
            ],
            "metadata": {},
            "execution_count": 0,
            "outputs": []
        },
        {
            "cell_type": "code",
            "source": [
                "public enum Warning {",
                "\n    // Import",
                "\n    ActiveDataNodeWithCashflowBOPI, VariablesAlreadyImported, VariablesAlreadyCalculated, ScenarioReCalculations,",
                "\n    // Default",
                "\n    Generic",
                "\n}; "
            ],
            "metadata": {},
            "execution_count": 0,
            "outputs": []
        },
        {
            "cell_type": "code",
            "source": [
                "public enum Error { ",
                "\n    // Import",
                "\n    NoMainTab, IncompleteMainTab, ParsingScientificNotation, ValueTypeNotFound, ValueTypeNotValid, ",
                "\n    ReportingNodeInMainNotFound, YearInMainNotFound, MonthInMainNotFound, ScenarioInMainNotAvailable,",
                "\n    AocTypeNotValid, AocTypeCompulsoryNotFound, AocTypePositionNotSupported, AocConfigurationOrderNotUnique,",
                "\n    // Partition",
                "\n    PartitionNotFound, ParsedPartitionNotFound, PartititionNameNotFound, PartitionTypeNotFound,",
                "\n    // Dimensions",
                "\n    AmountTypeNotFound, EstimateTypeNotFound, ReportingNodeNotFound, AocTypeMapNotFound, AocTypeNotFound, PortfolioGicNotFound, PortfolioGricNotFound, ",
                "\n    InvalidAmountTypeEstimateType, MultipleTechnicalMarginOpening,",
                "\n    // Exchange Rate",
                "\n    ExchangeRateNotFound, ExchangeRateCurrency,",
                "\n    // Data Note State",
                "\n    ChangeDataNodeState, InactiveDataNodeState,",
                "\n    // Parameters",
                "\n    ReinsuranceCoverageDataNode, DuplicateInterDataNode, DuplicateSingleDataNode, InvalidDataNode, ",
                "\n    // Storage",
                "\n    DataNodeNotFound, PartnerNotFound, RatingNotFound, CreditDefaultRateNotFound, MissingPremiumAllocation, ReinsuranceCoverage, ",
                "\n    YieldCurveNotFound, YieldCurvePeriodNotApplicable, EconomicBasisNotFound, AccountingVariableTypeNotFound,",
                "\n    // Scopes",
                "\n    NotSupportedAocStepReference, MultipleEoP,",
                "\n    // Data completeness",
                "\n    MissingDataAtPosting, MissingCombinedLiability, MissingCoverageUnit, ",
                "\n    // Default",
                "\n    Generic",
                "\n};"
            ],
            "metadata": {},
            "execution_count": 0,
            "outputs": []
        },
        {
            "cell_type": "markdown",
            "source": [
                "# Messages"
            ],
            "metadata": {},
            "execution_count": 0,
            "outputs": []
        },
        {
            "cell_type": "code",
            "source": [
                "public static string Get (Error e, params string[] s) => (e, s.Length) switch ",
                "\n{",
                "\n    // Import",
                "\n    (Error.NoMainTab                      , _) => $\"No Main tab in the parsed file.\",",
                "\n    (Error.IncompleteMainTab              , _) => $\"Incomplete Main tab in the parsed file.\",",
                "\n    (Error.ParsingScientificNotation      , 1) => $\"While parsing found real number in scientific notation: {s[0]}.\",",
                "\n    (Error.ValueTypeNotFound              , _) => $\"Value Type not found.\",",
                "\n    (Error.ValueTypeNotValid              , 1) => $\"The Value Type {s[0]} is invalid.\",",
                "\n    (Error.ReportingNodeInMainNotFound    , _) => $\"Reporting Node missing from the Main tab.\",",
                "\n    (Error.YearInMainNotFound             , _) => $\"Year missing from the Main tab.\",",
                "\n    (Error.MonthInMainNotFound            , _) => $\"Month missing from the Main tab.\",",
                "\n    (Error.ScenarioInMainNotAvailable     , 1) => $\"Scenario {s[0]} has not been defined.\",",
                "\n    (Error.AocTypeNotValid                , 1) => $\"The parsed AoC Type {s[0]} is invalid.\",",
                "\n    (Error.AocTypeCompulsoryNotFound      , _) => $\"Not all compulsory AoC Types have been imported.\",",
                "\n    (Error.AocTypePositionNotSupported    , 1) => $\"The position of the AoC Type {s[0]} is not supported.\",",
                "\n    (Error.AocConfigurationOrderNotUnique , _) => $\"Two or more AoC Configurations have the same Order.\",",
                "\n    // Partition",
                "\n    (Error.PartitionNotFound              , _) => $\"Partition do not found.\",",
                "\n    (Error.ParsedPartitionNotFound        , 1) => $\"Parsed partition not available: ReportingNode {s[0]}.\",",
                "\n    (Error.ParsedPartitionNotFound        , 4) => $\"Parsed partition not available: ReportingNode {s[0]}, Year {s[1]}, Month {s[2]}, Scenario {s[3]}.\",",
                "\n    (Error.PartitionTypeNotFound          , 1) => $\"Partition type not found: {s[0]}.\",",
                "\n    // Dimensions",
                "\n    (Error.AmountTypeNotFound             , 1) => $\"AmountType {s[0]} not found.\",",
                "\n    (Error.EstimateTypeNotFound           , 1) => $\"EstimateType {s[0]} not found.\",",
                "\n    (Error.ReportingNodeNotFound          , 1) => $\"Reporting Node {s[0]} not found.\",",
                "\n    (Error.AocTypeNotFound                , 1) => $\"AoC Type {s[0]} not found.\",",
                "\n    (Error.AocTypeMapNotFound             , 2) => $\"AoC Type {s[0]} and Novelty {s[1]} combination not defined in the mapping.\",",
                "\n    (Error.PortfolioGicNotFound           , 2) => $\"Portfolio {s[0]} assigned to Group of Insurance Contract {s[1]} does not exist.\",",
                "\n    (Error.PortfolioGricNotFound          , 2) => $\"Portfolio {s[0]} assigned to Group of Reinsurance Contract {s[1]} does not exist.\",",
                "\n    (Error.InvalidAmountTypeEstimateType  , 2) => $\"Invalid combination of EstimateType {s[0]} and AmountType {s[1]}.\",",
                "\n    (Error.MultipleTechnicalMarginOpening , 1) => $\"Multiple opening for techincal margin are not allowed for DataNode {s[0]}.\",",
                "\n    // Exchange Rate",
                "\n    (Error.ExchangeRateNotFound           , 2) => $\"Exchange Rate for {s[0]} {s[1]} is not present.\",",
                "\n    (Error.ExchangeRateCurrency           , 1) => $\"{s[0]} does not have any Exchange Rate defined.\",    ",
                "\n    // Data Node State",
                "\n    (Error.ChangeDataNodeState            , 0) => $\"Data Node State can not change from Inactive state into Active state.\",",
                "\n    (Error.ChangeDataNodeState            , 1) => $\"Data Node State for {s[0]} can not change from Inactive state into Active state.\",",
                "\n    (Error.ChangeDataNodeState            , 3) => $\"Data Node State for {s[0]} can not change from {s[1]} state into {s[2]} state.\",",
                "\n    (Error.InactiveDataNodeState          , 1) => $\"Data imported for inactive Data Node {s[0]}.\",",
                "\n    //Parameters",
                "\n    (Error.ReinsuranceCoverageDataNode    , 2) => $\"Invalid Reinsurance Coverage parameter does not link a GroupOfReinsuranceContract to a GroupOfInsuranceContract. Provided GroupOfContracts are: {s[0]}, {s[1]}.\",",
                "\n    (Error.DuplicateInterDataNode         , 2) => $\"Duplicated Inter-DataNode parameter for {s[0]}-{s[1]} is found.\",",
                "\n    (Error.DuplicateSingleDataNode        , 1) => $\"Duplicated Single-DataNode parameter for {s[0]} is found.\",",
                "\n    (Error.InvalidDataNode                , 1) => $\"Data imported for invalid Data Node {s[0]}.\",",
                "\n    // Storage",
                "\n    (Error.DataNodeNotFound               , 1) => $\"DataNode {s[0]} not found.\",",
                "\n    (Error.PartnerNotFound                , 1) => $\"Partner not found for DataNode {s[0]}.\",",
                "\n    (Error.RatingNotFound                 , 1) => $\"Rating not found for Partner {s[0]}.\",",
                "\n    (Error.CreditDefaultRateNotFound      , 1) => $\"Credit Default Rate not found for rating {s[0]}.\",",
                "\n    (Error.MissingPremiumAllocation       , 1) => $\"Premium Allocation Rate not found for Group of Contract {s[0]}.\",  // TODO: this is now a warning to be produced by a validation in the importers (default is 1)",
                "\n    (Error.ReinsuranceCoverage            , 1) => $\"Reinsurance Allocation Rate not found for Group of Insurance Contract {s[0]}.\",",
                "\n    (Error.YieldCurveNotFound             , 5) => $\"Yield Curve not found for Currency {s[0]}, Year {s[1]}, Month {s[2]}, Scenario {(s[3] == null ? \"Best Estimate\" : s[3])} and Name {s[4]}.\",",
                "\n    (Error.YieldCurvePeriodNotApplicable  , 2) => $\"YieldCurve period NotApplicable not valid for AoC Step with AoC Type {s[0]} and Novelty {s[1]}.\",",
                "\n    (Error.EconomicBasisNotFound          , 1) => $\"EconomicBasis not valid for DataNode {s[0]}.\",",
                "\n    (Error.AccountingVariableTypeNotFound , 1) => $\"AccountingVariableType {s[0]} not found.\",",
                "\n    // Scopes",
                "\n    (Error.NotSupportedAocStepReference   , 1) => $\"Unsupported reference AoC Step for AoC Type {s[0]}.\",",
                "\n    (Error.MultipleEoP                    , 0) => $\"Closing Balance for both Csm and Lc are computed.\",",
                "\n    // Data Completeness",
                "\n    (Error.MissingDataAtPosting           , 1) => $\"Missing imported data for {s[0]} DataNode.\",",
                "\n    (Error.MissingCombinedLiability       , 2) => $\"Missing Combined Liability AoC Type for DataNode {s[0]} and AmountType {s[1]}.\",",
                "\n    (Error.MissingCoverageUnit            , 1) => $\"Missing Coverage Unit cash flow for {s[0]} DataNode.\",",
                "\n    // Default",
                "\n    (Error.Generic                        , _) => $\"{s[0]}\",",
                "\n    (_                                    , _) => $\"Error not found.\"",
                "\n};"
            ],
            "metadata": {},
            "execution_count": 0,
            "outputs": []
        },
        {
            "cell_type": "code",
            "source": [
                "public static string Get (Warning w, params string[] s) => (w, s.Length) switch {",
                "\n    // Import",
                "\n    (Warning.ActiveDataNodeWithCashflowBOPI , 1) => $\"Cash flow with AoC Type: {AocTypes.BOP} and Novelty: {Novelties.I} for Group of Contract {s[0]} is not allowed because previous period data are available.\",",
                "\n    (Warning.VariablesAlreadyImported       , 0) => $\"The import of the current file does not contain any new data. Hence, no data will be saved or calculations will be performed.\",",
                "\n    (Warning.ScenarioReCalculations         , 1) => $\"The present Best Estimate import makes the result of dependent Scenarios out of date. Hence, the following Scenarios are re-calculated: {s[0]}.\", ",
                "\n    // Default",
                "\n    (Warning.Generic                        , _) => $\"{s[0]}\",",
                "\n    (_                                      , _) => $\"Warning not found.\"",
                "\n};"
            ],
            "metadata": {},
            "execution_count": 0,
            "outputs": []
        },
        {
            "cell_type": "code",
            "source": [
                ""
            ],
            "metadata": {},
            "execution_count": 0,
            "outputs": []
        }
    ]
}