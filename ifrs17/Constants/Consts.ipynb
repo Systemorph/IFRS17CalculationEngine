{
    "metadata": {
        "authors": [],
        "id": "XKwOq8eRDkuYqDPJOmCi3w",
        "kernelspec": {
            "display_name": "Formula Framework",
            "language": "C#",
            "name": "C#"
        },
        "language_info": {
            "file_extension": ".cs",
            "mimetype": "text/plain",
            "name": "C#"
        }
    },
    "nbformat": 4,
    "nbformat_minor": 5,
    "cells": [
        {
            "cell_type": "markdown",
            "source": [
                "<p style=\"font-weight:bold;\"> <span style=\"font-size: 36px\"> Consts </span> </p>"
            ],
            "metadata": {},
            "execution_count": 0,
            "outputs": []
        },
        {
            "cell_type": "markdown",
            "source": [
                "# Numerical Precision"
            ],
            "metadata": {},
            "execution_count": 0,
            "outputs": []
        },
        {
            "cell_type": "code",
            "source": [
                "public const double Precision = 1E-5;"
            ],
            "metadata": {},
            "execution_count": 0,
            "outputs": []
        },
        {
            "cell_type": "code",
            "source": [
                "public const double ProjectionPrecision = 1E-3;"
            ],
            "metadata": {},
            "execution_count": 0,
            "outputs": []
        },
        {
            "cell_type": "code",
            "source": [
                "public const double BenchmarkPrecision = 1E-4;"
            ],
            "metadata": {},
            "execution_count": 0,
            "outputs": []
        },
        {
            "cell_type": "code",
            "source": [
                "public const double YieldCurvePrecision = 1E-8;"
            ],
            "metadata": {},
            "execution_count": 0,
            "outputs": []
        },
        {
            "cell_type": "markdown",
            "source": [
                "# Time Period"
            ],
            "metadata": {},
            "execution_count": 0,
            "outputs": []
        },
        {
            "cell_type": "code",
            "source": [
                "public const int CurrentPeriod = 0; "
            ],
            "metadata": {},
            "execution_count": 0,
            "outputs": []
        },
        {
            "cell_type": "code",
            "source": [
                "public const int PreviousPeriod = -1; "
            ],
            "metadata": {},
            "execution_count": 0,
            "outputs": []
        },
        {
            "cell_type": "code",
            "source": [
                "public const int MonthInAYear = 12;"
            ],
            "metadata": {},
            "execution_count": 0,
            "outputs": []
        },
        {
            "cell_type": "markdown",
            "source": [
                "# Defaults"
            ],
            "metadata": {},
            "execution_count": 0,
            "outputs": []
        },
        {
            "cell_type": "code",
            "source": [
                "public const int DefaultDataNodeActivationMonth = 1;"
            ],
            "metadata": {},
            "execution_count": 0,
            "outputs": []
        },
        {
            "cell_type": "code",
            "source": [
                "public const double DefaultPremiumExperienceAdjustmentFactor = 1.0;"
            ],
            "metadata": {},
            "execution_count": 0,
            "outputs": []
        },
        {
            "cell_type": "code",
            "source": [
                "public static int ProjectionCount = 1;"
            ],
            "metadata": {},
            "execution_count": 0,
            "outputs": []
        },
        {
            "cell_type": "markdown",
            "source": [
                "# Names"
            ],
            "metadata": {},
            "execution_count": 0,
            "outputs": []
        },
        {
            "cell_type": "code",
            "source": [
                "public const string Main = nameof(Main);"
            ],
            "metadata": {},
            "execution_count": 0,
            "outputs": []
        },
        {
            "cell_type": "code",
            "source": [
                "public const string Default = nameof(Default);"
            ],
            "metadata": {},
            "execution_count": 0,
            "outputs": []
        },
        {
            "cell_type": "code",
            "source": [
                "public const string ValueType = nameof(ValueType);"
            ],
            "metadata": {},
            "execution_count": 0,
            "outputs": []
        },
        {
            "cell_type": "markdown",
            "source": [
                "GroupCurrency defines the SystemName (from Currency Dimension) to be used as the Group Currency."
            ],
            "metadata": {},
            "execution_count": 0,
            "outputs": []
        },
        {
            "cell_type": "code",
            "source": [
                "public const string GroupCurrency = \"CHF\";"
            ],
            "metadata": {},
            "execution_count": 0,
            "outputs": []
        },
        {
            "cell_type": "markdown",
            "source": [
                "# Import Formats"
            ],
            "metadata": {},
            "execution_count": 0,
            "outputs": []
        },
        {
            "cell_type": "code",
            "source": [
                "public static class ImportFormats{",
                "\n    public const string Cashflow = nameof(Cashflow);                     // Importer for Nominal Cash flows",
                "\n    public const string Actual = nameof(Actual);                         // Importer for Actuals",
                "\n    public const string Opening = nameof(Opening);                       // Importer for Opening Balances (BOP Inforce of CSM/LC)",
                "\n    public const string SimpleValue = nameof(SimpleValue);               // Importer for Simple Values (pre-calculated direct import)",
                "\n",
                "\n    public const string YieldCurve = nameof(YieldCurve);                 // Importer for Yield Curve",
                "\n    public const string DataNode = nameof(DataNode);                     // Importer for Data Node",
                "\n    public const string DataNodeState = nameof(DataNodeState);           // Importer for Data Node State",
                "\n    public const string DataNodeParameter = nameof(DataNodeParameter);   // Importer for Data Node Parameters",
                "\n",
                "\n    public const string AocConfiguration = nameof(AocConfiguration);     // Importer for Analysis of Change Configuration settings",
                "\n}"
            ],
            "metadata": {},
            "execution_count": 0,
            "outputs": []
        },
        {
            "cell_type": "markdown",
            "source": [
                "# Import Types"
            ],
            "metadata": {},
            "execution_count": 0,
            "outputs": []
        },
        {
            "cell_type": "code",
            "source": [
                "public static class ImportTypes{",
                "\n    public const string ExchangeRate = nameof(ExchangeRate);",
                "\n    public const string PartnerRating = nameof(PartnerRating);",
                "\n    public const string CreditDefaultRate = nameof(CreditDefaultRate);",
                "\n}"
            ],
            "metadata": {},
            "execution_count": 0,
            "outputs": []
        },
        {
            "cell_type": "markdown",
            "source": [
                "# IFRS specific"
            ],
            "metadata": {},
            "execution_count": 0,
            "outputs": []
        },
        {
            "cell_type": "code",
            "source": [
                "public static class ValuationApproaches{",
                "\n    public const string BBA = nameof(BBA); //Building Block Approach",
                "\n    public const string VFA = nameof(VFA); //Variable Fee Approach",
                "\n    public const string PAA = nameof(PAA); //Premium Allocation Approach",
                "\n}"
            ],
            "metadata": {},
            "execution_count": 0,
            "outputs": []
        },
        {
            "cell_type": "code",
            "source": [
                "public static class LiabilityTypes{",
                "\n    public const string LRC = nameof(LRC); //Liability for Remaining Coverage",
                "\n    public const string LIC = nameof(LIC); //Liability Incurred Claims",
                "\n}"
            ],
            "metadata": {},
            "execution_count": 0,
            "outputs": []
        },
        {
            "cell_type": "code",
            "source": [
                "public static class EstimateTypes{",
                "\n    public const string BE = nameof(BE);     //Best Estimate",
                "\n    public const string RA = nameof(RA);     //Risk Adjustment",
                "\n    public const string CU = nameof(CU);     //Coverage Units",
                "\n    public const string A = nameof(A);       //Actuals",
                "\n    public const string AA = nameof(AA);     //Advance Actuals",
                "\n    public const string OA = nameof(OA);     //Overdue Actuals",
                "\n    public const string DA = nameof(DA);     //Deferrable Actuals",
                "\n    public const string C = nameof(C);       //Contractual Service Margin",
                "\n    public const string L = nameof(L);       //Loss Component",
                "\n    public const string LR = nameof(LR);     //Loss Recovery",
                "\n    public const string F = nameof(F);       //Factors",
                "\n    public const string FCF = nameof(FCF);   //Fulfilment Cash flows",
                "\n    public const string BEPA = nameof(BEPA); //Experience Adjusted BE Premium to Csm",
                "\n    public const string APA = nameof(APA);   //Experience Adjusted Written Actual Premium to Csm",
                "\n}"
            ],
            "metadata": {},
            "execution_count": 0,
            "outputs": []
        },
        {
            "cell_type": "code",
            "source": [
                "public static class AocTypes{",
                "\n    public const string BOP = nameof(BOP);     // Beginning of Period (opening value of an AOC chain)",
                "\n    public const string MC  = nameof(MC);      // Model Corrections (changes to the model)",
                "\n    public const string PC = nameof(PC);       // Portfolio Changes",
                "\n    public const string RCU  = nameof(RCU);    // Reinsurance Coverage Update",
                "\n    public const string CF  = nameof(CF);      // Cash flow (Nominal)",
                "\n    public const string IA  = nameof(IA);      // Interest Accretion",
                "\n    public const string AU = nameof(AU);       // Assumptions Update (changes to general assumptions)",
                "\n    public const string FAU = nameof(FAU);     // Financial Assumptions Update (changes to financial assumptions)",
                "\n    public const string YCU  = nameof(YCU);    // Yield Curve Update",
                "\n    public const string CRU  = nameof(CRU);    // Credit Default Risk Parameters Update",
                "\n    public const string WO  = nameof(WO);      // Write-off",
                "\n    public const string EV  = nameof(EV);      // Experience Variance",
                "\n    public const string CL  = nameof(CL);      // Combined Liabilities (control run where all changes are calculated together for all novelties)",
                "\n    public const string EA  = nameof(EA);      // Experience Adjustment",
                "\n    public const string AM  = nameof(AM);      // Amortization",
                "\n    public const string FX  = nameof(FX);      // Foreing Exchange",
                "\n    public const string EOP = nameof(EOP);     // End of Period (closing value of an AOC chain)",
                "\n}"
            ],
            "metadata": {},
            "execution_count": 0,
            "outputs": []
        },
        {
            "cell_type": "code",
            "source": [
                "public static class Novelties{",
                "\n    public const string I = nameof(I); //In-Force",
                "\n    public const string N = nameof(N); //New Business",
                "\n    public const string C = nameof(C); //All Novelties Combined",
                "\n}"
            ],
            "metadata": {},
            "execution_count": 0,
            "outputs": []
        },
        {
            "cell_type": "code",
            "source": [
                "public static class EconomicBases{",
                "\n    public const string L = nameof(L); //Locked Interest Rates",
                "\n    public const string C = nameof(C); //Current Interest Rates",
                "\n    public const string N = nameof(N); //Nominal",
                "\n}"
            ],
            "metadata": {},
            "execution_count": 0,
            "outputs": []
        },
        {
            "cell_type": "code",
            "source": [
                "public static class AmountTypes{",
                "\n    public const string ACA = nameof(ACA);  // Attributable Commissions Acquisition",
                "\n    public const string AEA = nameof(AEA);  // Attributable Expenses Acquisition",
                "\n    public const string CDR = nameof(CDR);  // Credit Default Risk",
                "\n    public const string CL = nameof(CL);    // Claims",
                "\n    public const string PR = nameof(PR);    // Premiums",
                "\n    public const string NIC = nameof(NIC);  // Claims Non-Investment component",
                "\n    public const string ICO = nameof(ICO);  // Claims Investment component",
                "\n    public const string NE = nameof(NE);    // Non Attributable Expenses",
                "\n    public const string ACM = nameof(ACM);  // Attributable Commissions Maintenance",
                "\n    public const string AEM = nameof(AEM);  // Attributable Expenses Maintenance",
                "\n    public const string AC = nameof(AC);    // Attributable Commissions",
                "\n    public const string AE = nameof(AE);    // Attributable Expenses",
                "\n    public const string ULE = nameof(ULE);  // Unallocated Loss Adjustment Expenses",
                "\n}"
            ],
            "metadata": {},
            "execution_count": 0,
            "outputs": []
        },
        {
            "cell_type": "markdown",
            "source": [
                "# Insurance specific"
            ],
            "metadata": {},
            "execution_count": 0,
            "outputs": []
        },
        {
            "cell_type": "code",
            "source": [
                "public static class LineOfBusinesses{",
                "\n    public const string LI = nameof(LI); //Life",
                "\n    public const string NL = nameof(NL); //Non-Life",
                "\n}"
            ],
            "metadata": {},
            "execution_count": 0,
            "outputs": []
        },
        {
            "cell_type": "markdown",
            "source": [
                "# Sensitivities"
            ],
            "metadata": {},
            "execution_count": 0,
            "outputs": []
        },
        {
            "cell_type": "code",
            "source": [
                "public static class Scenarios{",
                "\n    public static bool EnableScenario = true;",
                "\n    public const string Default = \"Best Estimate\";",
                "\n    public const string All = nameof(All);",
                "\n    public const string Delta = nameof(Delta);",
                "\n}"
            ],
            "metadata": {},
            "execution_count": 0,
            "outputs": []
        },
        {
            "cell_type": "markdown",
            "source": [
                "# Parameter Reports"
            ],
            "metadata": {},
            "execution_count": 0,
            "outputs": []
        },
        {
            "cell_type": "code",
            "source": [
                "public static class ParameterReportType{",
                "\n    public const string DataNode = nameof(DataNode);",
                "\n    public const string DataNodeState = nameof(DataNodeState);",
                "\n    public const string YieldCurves = nameof(YieldCurves);",
                "\n    public const string SingleDataNodeParameters = nameof(SingleDataNodeParameters);",
                "\n    public const string InterDataNodeParameters = nameof(InterDataNodeParameters);",
                "\n    public const string PartnerRating = nameof(PartnerRating);",
                "\n    public const string PartnerDefaultRates = nameof(PartnerDefaultRates);",
                "\n}"
            ],
            "metadata": {},
            "execution_count": 0,
            "outputs": []
        },
        {
            "cell_type": "markdown",
            "source": [
                "# Debug"
            ],
            "metadata": {},
            "execution_count": 0,
            "outputs": []
        },
        {
            "cell_type": "code",
            "source": [
                "public static class Debug{",
                "\n    public static bool Enable = false;",
                "\n}"
            ],
            "metadata": {},
            "execution_count": 0,
            "outputs": []
        }
    ]
}