{
    "metadata": {
        "authors": [],
        "id": "SuppWclYnkyuC51Dlg-6Rg",
        "kernelspec": {
            "display_name": "Formula Framework",
            "language": "C#",
            "name": "C#"
        },
        "language_info": {
            "file_extension": ".cs",
            "mimetype": "text/plain",
            "name": "C#"
        }
    },
    "nbformat": 4,
    "nbformat_minor": 5,
    "cells": [
        {
            "cell_type": "markdown",
            "source": [
                "<a id='report-mutable-scopes'></a>",
                "\n<p style=\"font-weight:bold;\"> <span style=\"font-size: 36px\"> Report Mutable Scopes</span> </p>"
            ],
            "metadata": {},
            "execution_count": 0,
            "outputs": []
        },
        {
            "cell_type": "markdown",
            "source": [
                "This notebook contains the set up of mutable scopes used to achieve high interactivity with reports."
            ],
            "metadata": {},
            "execution_count": 0,
            "outputs": []
        },
        {
            "cell_type": "markdown",
            "source": [
                "# References",
                "\nLibraries and other notebooks which are needed for this notebook are imported below."
            ],
            "metadata": {},
            "execution_count": 0,
            "outputs": []
        },
        {
            "cell_type": "code",
            "source": [
                "#!import \"ReportScopes\""
            ],
            "metadata": {},
            "execution_count": 0,
            "outputs": []
        },
        {
            "cell_type": "markdown",
            "source": [
                "# Form Entity Scopes"
            ],
            "metadata": {},
            "execution_count": 0,
            "outputs": []
        },
        {
            "cell_type": "markdown",
            "source": [
                "## Helper Scopes"
            ],
            "metadata": {},
            "execution_count": 0,
            "outputs": []
        },
        {
            "cell_type": "code",
            "source": [
                "public interface MutableScopeWithWorkspace : IMutableScopeWithStorage<ReportStorage> {",
                "\n    protected IWorkspace workspace => GetStorage().Workspace;   ",
                "\n}"
            ],
            "metadata": {},
            "execution_count": 0,
            "outputs": []
        },
        {
            "cell_type": "markdown",
            "source": [
                "## Currency Type"
            ],
            "metadata": {},
            "execution_count": 0,
            "outputs": []
        },
        {
            "cell_type": "code",
            "source": [
                "public interface CurrencyFormsEntity : IMutableScope {",
                "\n    [DropdownEnum(typeof(CurrencyType))]",
                "\n    CurrencyType CurrencyType { get; set; } ",
                "\n}"
            ],
            "metadata": {},
            "execution_count": 0,
            "outputs": []
        },
        {
            "cell_type": "markdown",
            "source": [
                "## Scenario"
            ],
            "metadata": {},
            "execution_count": 0,
            "outputs": []
        },
        {
            "cell_type": "code",
            "source": [
                "public interface ScenarioFormsEntity : MutableScopeWithWorkspace {",
                "\n    [DropdownMethod(nameof(GetScenarioAutocompleteAsync))]",
                "\n    [Display(Name = \"Scenario\")]",
                "\n    string ScenarioControl { get; set; }",
                "\n",
                "\n    [NotVisible] IDictionary<string, string> ScenarioMapping { get; set; }",
                "\n    protected string Scenario => !string.IsNullOrWhiteSpace(ScenarioControl) && ScenarioMapping is not null && ScenarioMapping.TryGetValue(ScenarioControl, out var value) ? value : null;",
                "\n    ",
                "\n    async Task<IReadOnlyCollection<string>> GetScenarioAutocompleteAsync(string userInput, int page, int pageSize) {",
                "\n        (ScenarioMapping, var orderedDropDownValues) = await workspace.GetAutocompleteMappings<Scenario>(true);",
                "\n        return orderedDropDownValues.Where(x => userInput == null || x.Contains(userInput, StringComparison.OrdinalIgnoreCase)).ToArray(); ",
                "\n    } ",
                "\n}"
            ],
            "metadata": {},
            "execution_count": 0,
            "outputs": []
        },
        {
            "cell_type": "markdown",
            "source": [
                "## Reporting Node"
            ],
            "metadata": {},
            "execution_count": 0,
            "outputs": []
        },
        {
            "cell_type": "code",
            "source": [
                "[InitializeScope(nameof(InitReportingNode))]",
                "\npublic interface ReportingNodeFormsEntity : MutableScopeWithWorkspace {",
                "\n    [DropdownMethod(nameof(GetReportingNodeAutocompleteAsync))]",
                "\n    [Display(Name = \"ReportingNode\")]",
                "\n    string ReportingNodeControl { get; set; }",
                "\n",
                "\n    [NotVisible] IDictionary<string, string>  ReportingNodeMapping { get; set; }",
                "\n    protected string ReportingNode => !string.IsNullOrWhiteSpace(ReportingNodeControl) && ReportingNodeMapping is not null && ReportingNodeMapping.TryGetValue( ReportingNodeControl, out var value)",
                "\n        ? value",
                "\n        : GetStorage().InitialReportingNode.SystemName; // Maybe these cases can be more specific",
                "\n",
                "\n    async Task<IReadOnlyCollection<string>> GetReportingNodeAutocompleteAsync(string userInput, int page, int pageSize) {",
                "\n        (ReportingNodeMapping, var orderedDropDownValues) = await workspace.GetAutocompleteMappings<ReportingNode>();",
                "\n        return orderedDropDownValues.Where(x => userInput == null || x.Contains(userInput, StringComparison.OrdinalIgnoreCase)).ToArray(); ",
                "\n    }",
                "\n",
                "\n    async void InitReportingNode() {",
                "\n        ReportingNodeControl = ParseDimensionToDisplayString(GetStorage().InitialReportingNode.SystemName, GetStorage().InitialReportingNode.DisplayName);",
                "\n    }",
                "\n}"
            ],
            "metadata": {},
            "execution_count": 0,
            "outputs": []
        },
        {
            "cell_type": "markdown",
            "source": [
                "## Reporting Period"
            ],
            "metadata": {},
            "execution_count": 0,
            "outputs": []
        },
        {
            "cell_type": "markdown",
            "source": [
                "### Monthly Period"
            ],
            "metadata": {},
            "execution_count": 0,
            "outputs": []
        },
        {
            "cell_type": "code",
            "source": [
                "[InitializeScope(nameof(InitReportingPeriod))]",
                "\npublic interface MonthlyPeriodFormsEntity : MutableScopeWithWorkspace {",
                "\n    [DropdownMethod(nameof(GetReportingPeriodAutocompleteAsync))]",
                "\n    string ReportingPeriod { get; set; }",
                "\n",
                "\n    private char separator => 'M';",
                "\n    private string[] ReportingPeriodSplit => ReportingPeriod.Split(separator);",
                "\n    private int ParseReportingPeriod(int index) => !string.IsNullOrWhiteSpace(ReportingPeriod) && ReportingPeriodSplit is not null && Int32.TryParse(ReportingPeriodSplit.ElementAtOrDefault(index), out int value)",
                "\n        ? value",
                "\n        : default;",
                "\n",
                "\n    protected int Year => ParseReportingPeriod(0);",
                "\n    protected int Month => ParseReportingPeriod(1);",
                "\n",
                "\n    async Task<IReadOnlyCollection<string>> GetReportingPeriodAutocompleteAsync(string userInput, int page, int pageSize) => ",
                "\n        await workspace.Query<PartitionByReportingNodeAndPeriod>()",
                "\n            .Where(x => x.Scenario == null)",
                "\n            .OrderByDescending(x => x.Year)",
                "\n            .ThenByDescending(x => x.Month)",
                "\n            .Select(x => ParseReportingPeriodToDisplayString(x.Year, x.Month, separator))",
                "\n            .Where(x => userInput == null || x.Contains(userInput, StringComparison.OrdinalIgnoreCase))",
                "\n            .ToArrayAsync();",
                "\n",
                "\n    async void InitReportingPeriod() {",
                "\n        ReportingPeriod = ParseReportingPeriodToDisplayString(GetStorage().InitialReportingPeriod.Year, GetStorage().InitialReportingPeriod.Month, separator);",
                "\n    }",
                "\n}"
            ],
            "metadata": {},
            "execution_count": 0,
            "outputs": []
        },
        {
            "cell_type": "markdown",
            "source": [
                "## Filters"
            ],
            "metadata": {},
            "execution_count": 0,
            "outputs": []
        },
        {
            "cell_type": "code",
            "source": [
                "public interface BasicFilterFormsEntity : MutableScopeWithWorkspace {",
                "\n    [DropdownValues(\"\", \"GroupOfContract\", \"Novelty\", \"EconomicBasis\")]",
                "\n    string FilterName { get; set; }",
                "\n",
                "\n    [DropdownMethod(nameof(GetBasicFilterAsync))]",
                "\n    string FilterValue { get; set; }",
                "\n",
                "\n    [DropdownValues(\"\", \"Add\", \"Remove\")]",
                "\n    string FilterAction { get; set; }",
                "\n    ",
                "\n    async Task<IReadOnlyCollection<string>> GetBasicFilterAsync(string userInput, int page, int pageSize) =>",
                "\n        new string[]{ null }.Concat(",
                "\n            await (FilterName switch",
                "\n            {",
                "\n                \"GroupOfContract\" => workspace.Query<DataNode>().Select(x => x.SystemName),",
                "\n                \"Novelty\" => workspace.Query<Novelty>().Select(x => x.SystemName),",
                "\n                \"EconomicBasis\" => workspace.Query<EconomicBasis>().Select(x => x.SystemName),",
                "\n                _ => Enumerable.Empty<string>().AsQueryable()",
                "\n            }) .Where(x => userInput == null || x.Contains(userInput, StringComparison.OrdinalIgnoreCase)).OrderBy(x => x).ToArrayAsync()).ToArray();",
                "\n        ",
                "\n    [NotVisible] IReadOnlyCollection<(string filterName, string filterValue)> InputDataFilter { get; set; }",
                "\n    ",
                "\n    // This is just a cast... do we need this?",
                "\n    protected (string filterName, object filterValue)[] dataFilter => (InputDataFilter is null ? Enumerable.Empty<(string, object)>() : InputDataFilter.Select(x => (x.filterName, (object)x.filterValue))).ToArray();",
                "\n",
                "\n    IReadOnlyCollection<(string filterName, string filterValue)> GetFilters()",
                "\n    {",
                "\n        if(FilterAction == \"Add\")",
                "\n            AddFilter(FilterName, FilterValue);",
                "\n        if(FilterAction == \"Remove\")",
                "\n            RemoveFilter(FilterName, FilterValue);",
                "\n        return InputDataFilter;",
                "\n    }",
                "\n",
                "\n    private void AddFilter(string filterName, string filterValue)",
                "\n    {",
                "\n        if(InputDataFilter == null)",
                "\n            InputDataFilter = Enumerable.Empty<(string, string)>().ToArray();",
                "\n        if(!InputDataFilter.Contains((filterName, filterValue)))",
                "\n            InputDataFilter = InputDataFilter.Append((filterName, filterValue)).ToArray();",
                "\n    }",
                "\n    ",
                "\n    private void RemoveFilter(string filterName, string filterValue)",
                "\n    {",
                "\n        if(InputDataFilter != null && InputDataFilter.Contains((filterName, filterValue)))",
                "\n        {   var f = InputDataFilter.ToList();",
                "\n            f.Remove((filterName, filterValue));",
                "\n            InputDataFilter = f.ToArray();",
                "\n        }",
                "\n    }",
                "\n}"
            ],
            "metadata": {},
            "execution_count": 0,
            "outputs": []
        },
        {
            "cell_type": "markdown",
            "source": [
                "## Slice and Dice"
            ],
            "metadata": {},
            "execution_count": 0,
            "outputs": []
        },
        {
            "cell_type": "code",
            "source": [
                "public interface BasicSliceAndDiceFormsEntity : MutableScopeWithWorkspace {",
                "\n    [DropdownValues(\"\", \"GroupOfContract\")]",
                "\n    string SliceRowName { get; set; }",
                "\n",
                "\n    [DropdownMethod(nameof(GetSliceColumnNameAutocomplete))]",
                "\n    string SliceColumnName { get; set; }",
                "\n",
                "\n    protected IReadOnlyCollection<string> InputRowSlices => (SliceRowName is null ? Enumerable.Empty<string>() : SliceRowName.RepeatOnce()).ToArray();",
                "\n    [NotVisible] IReadOnlyCollection<string> defaultRowSlices { get; set; }",
                "\n    protected string[] rowSlices => defaultRowSlices.Union(InputRowSlices).ToArray();",
                "\n",
                "\n    protected IReadOnlyCollection<string> InputColumnSlices => (SliceColumnName is null ? Enumerable.Empty<string>() : SliceColumnName.RepeatOnce()).ToArray();",
                "\n    [NotVisible] IReadOnlyCollection<string> defaultColumnSlices { get; set; }",
                "\n    protected string[] columnSlices => defaultColumnSlices.Union(InputColumnSlices).ToArray();",
                "\n",
                "\n    IReadOnlyCollection<string> GetSliceColumnNameAutocomplete() => new [] {\"\", \"GroupOfContract\", \"AmountType\"};",
                "\n}"
            ],
            "metadata": {},
            "execution_count": 0,
            "outputs": []
        },
        {
            "cell_type": "markdown",
            "source": [
                "# Report Scopes"
            ],
            "metadata": {},
            "execution_count": 0,
            "outputs": []
        },
        {
            "cell_type": "code",
            "source": [
                "public interface Data : IMutableScope<((int year, int month) reportingPeriod, string reportingNode, string scenario, CurrencyType currencyType, (string filterName, object filterValue)[] dataFilter)> {",
                "\n    IDataCube<ReportVariable> InputDataCube { get; set; }",
                "\n",
                "\n    IDataCube<ReportVariable> DataCube { get {",
                "\n        if(InputDataCube is null) return Enumerable.Empty<ReportVariable>().ToDataCube();",
                "\n        var filteredDataCube = (Identity.dataFilter is null || Identity.dataFilter.Length == 0) ? InputDataCube : InputDataCube.Filter(Identity.dataFilter); ",
                "\n        if(Identity.scenario != \"Delta\") return filteredDataCube;",
                "\n        var bestEstimateById = filteredDataCube.Where(x => x.Scenario == null).ToDictionary(x => x.ToIdentityString());",
                "\n        return filteredDataCube.Select(x => x.Scenario == null ? x : x with { Value = x.Value - (bestEstimateById.TryGetValue((x with {Scenario = null}).ToIdentityString(), out var be)? be.Value : 0d) }).ToDataCube();",
                "\n    }}",
                "\n} "
            ],
            "metadata": {},
            "execution_count": 0,
            "outputs": []
        },
        {
            "cell_type": "code",
            "source": [
                "[InitializeScope(nameof(InitReportStorageScopeAsync))]",
                "\npublic interface ReportScope : IMutableScope<string>, ReportingNodeFormsEntity, MonthlyPeriodFormsEntity, ScenarioFormsEntity, CurrencyFormsEntity, BasicSliceAndDiceFormsEntity, BasicFilterFormsEntity {",
                "\n    protected Systemorph.Vertex.Pivot.Builder.Interfaces.IPivotFactory report => GetStorage().Report;",
                "\n    protected int headerColumnWidthValue => 250;",
                "\n",
                "\n    HashSet<(ReportIdentity, CurrencyType)> GetDataIdentities() => GetStorage().GetIdentities((Year, Month), ReportingNode, Scenario, CurrencyType); // TODO, add filter for identities, if the property is exposed at this level",
                "\n",
                "\n    IDataCube<ReportVariable> GetData() => default;",
                "\n",
                "\n    async Task<GridOptions> ToReportAsync() {",
                "\n        await GetStorage().InitializeAsync((Year, Month), ReportingNode, Scenario, CurrencyType);",
                "\n        var dataScope = GetScope<Data>(((Year, Month), ReportingNode, Scenario, CurrencyType, dataFilter));",
                "\n        dataScope.InputDataCube = GetData();",
                "\n        return await GetReportTaskAsync(dataScope.DataCube);",
                "\n    }",
                "\n",
                "\n    async Task<GridOptions> GetReportTaskAsync(IDataCube<ReportVariable> data) {",
                "\n        return await report.ForDataCube(data)",
                "\n            .WithQuerySource(workspace)",
                "\n            .SliceRowsBy(rowSlices)",
                "\n            .SliceColumnsBy(columnSlices)",
                "\n            .ReportGridOptions(headerColumnWidth: headerColumnWidthValue)",
                "\n            .ExecuteAsync();",
                "\n    }",
                "\n",
                "\n    async Task InitReportStorageScopeAsync() { // This has the Async issue, but imo it should come in the future",
                "\n       await GetStorage().InitializeReportIndependentCacheAsync();",
                "\n    }",
                "\n}"
            ],
            "metadata": {},
            "execution_count": 0,
            "outputs": []
        },
        {
            "cell_type": "markdown",
            "source": [
                "# Report Scopes"
            ],
            "metadata": {},
            "execution_count": 0,
            "outputs": []
        },
        {
            "cell_type": "markdown",
            "source": [
                "## Best Estimate PV"
            ],
            "metadata": {},
            "execution_count": 0,
            "outputs": []
        },
        {
            "cell_type": "code",
            "source": [
                "[InitializeScope(nameof(Init))]",
                "\npublic interface PvReport : ReportScope {",
                "\n    ",
                "\n    IDataCube<ReportVariable> ReportScope.GetData() => GetScopes<LockedBestEstimate>(GetDataIdentities()).Aggregate().LockedBestEstimate + GetScopes<CurrentBestEstimate>(GetDataIdentities()).Aggregate().CurrentBestEstimate;",
                "\n",
                "\n     void Init() {",
                "\n         // BasicSliceAndDiceFormsEntity",
                "\n         defaultRowSlices = new string[] { \"Novelty\", \"VariableType\" };",
                "\n         defaultColumnSlices = new string[] { \"Currency\", \"LiabilityType\", \"EconomicBasis\" };",
                "\n    }",
                "\n}"
            ],
            "metadata": {},
            "execution_count": 0,
            "outputs": []
        },
        {
            "cell_type": "markdown",
            "source": [
                "## Risk Adjustment PV"
            ],
            "metadata": {},
            "execution_count": 0,
            "outputs": []
        },
        {
            "cell_type": "code",
            "source": [
                "[InitializeScope(nameof(Init))]",
                "\npublic interface RaReport : ReportScope {",
                "\n    ",
                "\n    IDataCube<ReportVariable> ReportScope.GetData() => GetScopes<LockedRiskAdjustment>(GetDataIdentities()).Aggregate().LockedRiskAdjustment + GetScopes<CurrentRiskAdjustment>(GetDataIdentities()).Aggregate().CurrentRiskAdjustment;",
                "\n",
                "\n     void Init() {",
                "\n         // BasicSliceAndDiceFormsEntity",
                "\n         defaultRowSlices = new string[] { \"Novelty\", \"VariableType\" };",
                "\n         defaultColumnSlices = new string[] { \"Currency\", \"LiabilityType\", \"EconomicBasis\" };",
                "\n    }",
                "\n}"
            ],
            "metadata": {},
            "execution_count": 0,
            "outputs": []
        },
        {
            "cell_type": "markdown",
            "source": [
                "## FCF PV"
            ],
            "metadata": {},
            "execution_count": 0,
            "outputs": []
        },
        {
            "cell_type": "code",
            "source": [
                "[InitializeScope(nameof(Init))]",
                "\npublic interface FcfReport : ReportScope {",
                "\n    ",
                "\n    IDataCube<ReportVariable> ReportScope.GetData() =>  GetScopes<Fcf>(GetDataIdentities()).Aggregate().Fcf;",
                "\n",
                "\n     void Init() {",
                "\n         // BasicSliceAndDiceFormsEntity",
                "\n         defaultRowSlices = new string[] { \"Novelty\", \"VariableType\" };",
                "\n         defaultColumnSlices = new string[] { \"Currency\", \"LiabilityType\", \"EconomicBasis\" };",
                "\n    }",
                "\n}"
            ],
            "metadata": {},
            "execution_count": 0,
            "outputs": []
        },
        {
            "cell_type": "markdown",
            "source": [
                "## Written"
            ],
            "metadata": {},
            "execution_count": 0,
            "outputs": []
        },
        {
            "cell_type": "code",
            "source": [
                "[InitializeScope(nameof(Init))]",
                "\npublic interface WrittenReport : ReportScope {",
                "\n    ",
                "\n    IDataCube<ReportVariable> ReportScope.GetData() => GetScopes<WrittenAndAccruals>(GetDataIdentities()).Aggregate().Written;",
                "\n",
                "\n     void Init() {",
                "\n         // BasicSliceAndDiceFormsEntity",
                "\n         defaultRowSlices = new string[] { \"AmountType\" };",
                "\n         defaultColumnSlices = new string[] { \"Currency\", \"LiabilityType\" };",
                "\n    }",
                "\n}"
            ],
            "metadata": {},
            "execution_count": 0,
            "outputs": []
        },
        {
            "cell_type": "markdown",
            "source": [
                "## Accruals"
            ],
            "metadata": {},
            "execution_count": 0,
            "outputs": []
        },
        {
            "cell_type": "code",
            "source": [
                "[InitializeScope(nameof(Init))]",
                "\npublic interface AccrualReport : ReportScope {",
                "\n    ",
                "\n    IDataCube<ReportVariable> ReportScope.GetData() => GetScopes<WrittenAndAccruals>(GetDataIdentities()).Aggregate().Advance + GetScopes<WrittenAndAccruals>(GetDataIdentities()).Aggregate().Overdue;",
                "\n",
                "\n     void Init() {",
                "\n         // BasicSliceAndDiceFormsEntity",
                "\n         defaultRowSlices = new string[] { \"VariableType\" };",
                "\n         defaultColumnSlices = new string[] { \"Currency\", \"LiabilityType\" };",
                "\n    }",
                "\n}"
            ],
            "metadata": {},
            "execution_count": 0,
            "outputs": []
        },
        {
            "cell_type": "markdown",
            "source": [
                "## Deferrals"
            ],
            "metadata": {},
            "execution_count": 0,
            "outputs": []
        },
        {
            "cell_type": "code",
            "source": [
                "[InitializeScope(nameof(Init))]",
                "\npublic interface DeferralReport : ReportScope {",
                "\n    ",
                "\n    IDataCube<ReportVariable> ReportScope.GetData() => GetScopes<Deferrals>(GetDataIdentities()).Aggregate().Deferrals;",
                "\n",
                "\n     void Init() {",
                "\n         // BasicSliceAndDiceFormsEntity",
                "\n         defaultRowSlices = new string[] { \"VariableType\" };",
                "\n         defaultColumnSlices = new string[] { \"Currency\", \"LiabilityType\" };",
                "\n    }",
                "\n}"
            ],
            "metadata": {},
            "execution_count": 0,
            "outputs": []
        },
        {
            "cell_type": "markdown",
            "source": [
                "## Experience Adjustment"
            ],
            "metadata": {},
            "execution_count": 0,
            "outputs": []
        },
        {
            "cell_type": "code",
            "source": [
                "[InitializeScope(nameof(Init))]",
                "\npublic interface ExpAdjReport: ReportScope {",
                "\n    ",
                "\n    IDataCube<ReportVariable> ReportScope.GetData() => GetScopes<ExperienceAdjustment>(GetDataIdentities()).Aggregate().ActuarialExperienceAdjustment;",
                "\n",
                "\n     void Init() {",
                "\n         // BasicSliceAndDiceFormsEntity",
                "\n         defaultRowSlices = new string[] { \"EstimateType\" };",
                "\n         defaultColumnSlices = new string[] { \"Currency\", \"AmountType\" };",
                "\n    }",
                "\n}"
            ],
            "metadata": {},
            "execution_count": 0,
            "outputs": []
        },
        {
            "cell_type": "markdown",
            "source": [
                "## Technical Margin"
            ],
            "metadata": {},
            "execution_count": 0,
            "outputs": []
        },
        {
            "cell_type": "code",
            "source": [
                "[InitializeScope(nameof(Init))]",
                "\npublic interface TmReport : ReportScope {",
                "\n    ",
                "\n    IDataCube<ReportVariable> ReportScope.GetData() => GetScopes<LrcTechnicalMargin>(GetDataIdentities()).Aggregate().LrcTechnicalMargin;",
                "\n",
                "\n     void Init() {",
                "\n         // BasicSliceAndDiceFormsEntity",
                "\n         defaultRowSlices = new string[] { \"Novelty\", \"VariableType\" };",
                "\n         defaultColumnSlices = new string[] { \"Currency\" };",
                "\n    }",
                "\n}"
            ],
            "metadata": {},
            "execution_count": 0,
            "outputs": []
        },
        {
            "cell_type": "markdown",
            "source": [
                "## CSM"
            ],
            "metadata": {},
            "execution_count": 0,
            "outputs": []
        },
        {
            "cell_type": "code",
            "source": [
                "[InitializeScope(nameof(Init))]",
                "\npublic interface CsmReport : ReportScope {",
                "\n    ",
                "\n    IDataCube<ReportVariable> ReportScope.GetData() => GetScopes<Csm>(GetDataIdentities()).Aggregate().Csm + GetScopes<Lc>(GetDataIdentities()).Aggregate().Lc + GetScopes<Loreco>(GetDataIdentities()).Aggregate().Loreco;",
                "\n",
                "\n     void Init() {",
                "\n         // BasicSliceAndDiceFormsEntity",
                "\n         defaultRowSlices = new string[] { \"Novelty\", \"VariableType\" };",
                "\n         defaultColumnSlices = new string[] { \"Currency\", \"EstimateType\" };",
                "\n    }",
                "\n}"
            ],
            "metadata": {},
            "execution_count": 0,
            "outputs": []
        },
        {
            "cell_type": "markdown",
            "source": [
                "## LRC"
            ],
            "metadata": {},
            "execution_count": 0,
            "outputs": []
        },
        {
            "cell_type": "code",
            "source": [
                "[InitializeScope(nameof(Init))]",
                "\npublic interface ActLrcReport : ReportScope {",
                "\n    ",
                "\n    IDataCube<ReportVariable> ReportScope.GetData() => GetScopes<LrcActuarial>(GetDataIdentities()).Aggregate().LrcActuarial;",
                "\n",
                "\n     void Init() {",
                "\n         // BasicSliceAndDiceFormsEntity",
                "\n         defaultRowSlices = new string[] { \"Novelty\", \"VariableType\" };",
                "\n         defaultColumnSlices = new string[] { \"Currency\", \"EstimateType\" };",
                "\n    }",
                "\n}"
            ],
            "metadata": {},
            "execution_count": 0,
            "outputs": []
        },
        {
            "cell_type": "code",
            "source": [
                "[InitializeScope(nameof(Init))]",
                "\npublic interface LrcReport : ReportScope {",
                "\n    ",
                "\n    IDataCube<ReportVariable> ReportScope.GetData() =>GetScopes<Lrc>(GetDataIdentities()).Aggregate().Lrc;",
                "\n",
                "\n     void Init() {",
                "\n         // BasicSliceAndDiceFormsEntity",
                "\n         defaultRowSlices = new string[] { \"VariableType\" };",
                "\n         defaultColumnSlices = new string[] { \"Currency\", \"EstimateType\" };",
                "\n    }",
                "\n}"
            ],
            "metadata": {},
            "execution_count": 0,
            "outputs": []
        },
        {
            "cell_type": "markdown",
            "source": [
                "## LIC"
            ],
            "metadata": {},
            "execution_count": 0,
            "outputs": []
        },
        {
            "cell_type": "code",
            "source": [
                "[InitializeScope(nameof(Init))]",
                "\npublic interface ActLicReport : ReportScope {",
                "\n    ",
                "\n    IDataCube<ReportVariable> ReportScope.GetData() => GetScopes<LicActuarial>(GetDataIdentities()).Aggregate().LicActuarial;",
                "\n",
                "\n     void Init() {",
                "\n         // BasicSliceAndDiceFormsEntity",
                "\n         defaultRowSlices = new string[] { \"Novelty\", \"VariableType\" };",
                "\n         defaultColumnSlices = new string[] { \"Currency\", \"EstimateType\" };",
                "\n    }",
                "\n}"
            ],
            "metadata": {},
            "execution_count": 0,
            "outputs": []
        },
        {
            "cell_type": "code",
            "source": [
                "[InitializeScope(nameof(Init))]",
                "\npublic interface LicReport : ReportScope {",
                "\n    ",
                "\n    IDataCube<ReportVariable> ReportScope.GetData() => GetScopes<Lic>(GetDataIdentities()).Aggregate().Lic;",
                "\n",
                "\n     void Init() {",
                "\n         // BasicSliceAndDiceFormsEntity",
                "\n         defaultRowSlices = new string[] { \"VariableType\" };",
                "\n         defaultColumnSlices = new string[] { \"Currency\", \"EstimateType\" };",
                "\n    }",
                "\n}"
            ],
            "metadata": {},
            "execution_count": 0,
            "outputs": []
        },
        {
            "cell_type": "markdown",
            "source": [
                "## Financial Performance"
            ],
            "metadata": {},
            "execution_count": 0,
            "outputs": []
        },
        {
            "cell_type": "code",
            "source": [
                "[InitializeScope(nameof(Init))]",
                "\npublic interface FpReport : ReportScope {",
                "\n    ",
                "\n    IDataCube<ReportVariable> ReportScope.GetData() => GetScopes<FinancialPerformance>(GetDataIdentities()).Aggregate().FinancialPerformance;",
                "\n",
                "\n     void Init() {",
                "\n         // BasicSliceAndDiceFormsEntity",
                "\n         defaultRowSlices = new string[] { \"VariableType\", \"EstimateType\" };",
                "\n         defaultColumnSlices = new string[] { \"Currency\", \"LiabilityType\" };",
                "\n    }",
                "\n}"
            ],
            "metadata": {},
            "execution_count": 0,
            "outputs": []
        },
        {
            "cell_type": "markdown",
            "source": [
                "# IFRS 17 Reports"
            ],
            "metadata": {},
            "execution_count": 0,
            "outputs": []
        },
        {
            "cell_type": "markdown",
            "source": [
                "This class is used to trigger the calculation of the reports and it is exposed to the end-user in the reports."
            ],
            "metadata": {},
            "execution_count": 0,
            "outputs": []
        },
        {
            "cell_type": "code",
            "source": [
                "public class Ifrs17Interactive {",
                "\n    private Systemorph.Vertex.Pivot.Builder.Interfaces.IPivotFactory report;",
                "\n    private Systemorph.InteractiveObjects.InteractiveObjectVariable interactiveObject;",
                "\n    private ReportStorage storage;",
                "\n",
                "\n    private IDictionary<string, Systemorph.Vertex.InteractiveObjects.InteractiveObjectView> interactiveObjectCache = new Dictionary<string, Systemorph.Vertex.InteractiveObjects.InteractiveObjectView>();",
                "\n",
                "\n    public Ifrs17Interactive (IWorkspace workspace, Systemorph.Vertex.Pivot.Builder.Interfaces.IPivotFactory report, Systemorph.InteractiveObjects.InteractiveObjectVariable interactiveObject)",
                "\n    {",
                "\n        this.report = report;",
                "\n        this.interactiveObject = interactiveObject;",
                "\n        storage = new ReportStorage(workspace, report);",
                "\n    }",
                "\n",
                "\n    public void Reset(IWorkspace workspace) {",
                "\n        storage = new ReportStorage(workspace, report);",
                "\n        interactiveObjectCache = new Dictionary<string, Systemorph.Vertex.InteractiveObjects.InteractiveObjectView>();",
                "\n    }",
                "\n",
                "\n    public Systemorph.Vertex.InteractiveObjects.InteractiveObjectView GetFormsEntity<T>(string name = null) where T : ReportScope {",
                "\n        var key = name ?? typeof(T).Name;",
                "\n        if(!interactiveObjectCache.TryGetValue($\"{key}FormsEntity\", out var ret))",
                "\n            ret = interactiveObjectCache[$\"{key}FormsEntity\"] = interactiveObject.CreateView($\"{key}FormsEntity\", _ => GetReportScope<T>(key));",
                "\n        return ret;",
                "\n    }",
                "\n",
                "\n    public Systemorph.Vertex.InteractiveObjects.InteractiveObjectView GetReport<T>(string name = null) where T : ReportScope {",
                "\n        var key = name ?? typeof(T).Name;",
                "\n        if(!interactiveObjectCache.TryGetValue(key, out var ret))",
                "\n            ret = interactiveObjectCache[key] = interactiveObject.CreateView(key,",
                "\n                _ => {",
                "\n                var scope = GetReportScope<T>(key);",
                "\n                  var filters = scope.GetFilters(); // Not used and should be improved",
                "\n                  return scope.ToReportAsync();",
                "\n               });",
                "\n        return ret;",
                "\n    }",
                "\n",
                "\n    public ReportScope GetReportScope<T>(string name = null) where T : ReportScope => interactiveObject.State.GetScope<T>(name ?? typeof(T).Name, o => o.WithStorage(storage));",
                "\n",
                "\n    // Keeping the old API",
                "\n    public ReportScope PresentValues => GetReportScope<PvReport>();",
                "\n    public ReportScope RiskAdjustments => GetReportScope<RaReport>();",
                "\n    public ReportScope FulfillmentCashflows => GetReportScope<FcfReport>();",
                "\n    public ReportScope WrittenActuals => GetReportScope<WrittenReport>();",
                "\n    public ReportScope AccrualActuals => GetReportScope<AccrualReport>();",
                "\n    public ReportScope DeferralActuals => GetReportScope<DeferralReport>();",
                "\n    public ReportScope ExperienceAdjustments => GetReportScope<ExpAdjReport>();",
                "\n    public ReportScope TechnicalMargins => GetReportScope<TmReport>();",
                "\n    public ReportScope AllocatedTechnicalMargins => GetReportScope<CsmReport>();",
                "\n    public ReportScope ActuarialLrc => GetReportScope<ActLrcReport>();",
                "\n    public ReportScope Lrc => GetReportScope<LrcReport>();",
                "\n    public ReportScope ActuarialLic => GetReportScope<ActLicReport>();",
                "\n    public ReportScope Lic => GetReportScope<LicReport>();",
                "\n    public ReportScope FinancialPerformance => GetReportScope<FpReport>();    ",
                "\n}"
            ],
            "metadata": {},
            "execution_count": 0,
            "outputs": []
        },
        {
            "cell_type": "code",
            "source": [
                ""
            ],
            "metadata": {},
            "execution_count": 0,
            "outputs": []
        }
    ]
}