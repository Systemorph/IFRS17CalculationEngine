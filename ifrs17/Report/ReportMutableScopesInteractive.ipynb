{
    "metadata": {
        "authors": [],
        "id": "SuppWclYnkyuC51Dlg-6Rg",
        "kernelspec": {
            "display_name": "Formula Framework",
            "language": "C#",
            "name": "C#"
        },
        "language_info": {
            "file_extension": ".cs",
            "mimetype": "text/plain",
            "name": "C#"
        }
    },
    "nbformat": 4,
    "nbformat_minor": 5,
    "cells": [
        {
            "cell_type": "markdown",
            "source": [
                "<a id='report-mutable-scopes'></a>",
                "\n<p style=\"font-weight:bold;\"> <span style=\"font-size: 36px\"> Report Mutable Scopes</span> </p>"
            ],
            "metadata": {},
            "execution_count": 0,
            "outputs": []
        },
        {
            "cell_type": "markdown",
            "source": [
                "This notebook contains the set up of mutable scopes used to achieve high interactivity with reports."
            ],
            "metadata": {},
            "execution_count": 0,
            "outputs": []
        },
        {
            "cell_type": "markdown",
            "source": [
                "# References",
                "\nLibraries and other notebooks which are needed for this notebook are imported below."
            ],
            "metadata": {},
            "execution_count": 0,
            "outputs": []
        },
        {
            "cell_type": "code",
            "source": [
                "#!import \"ReportScopes\""
            ],
            "metadata": {},
            "execution_count": 0,
            "outputs": []
        },
        {
            "cell_type": "code",
            "source": [
                "using Systemorph.Vertex.Pivot.Builder.Interfaces;",
                "\nusing Systemorph.InteractiveObjects;",
                "\nusing Systemorph.Vertex.Session;",
                "\nusing Systemorph.Vertex.Export;",
                "\nusing Systemorph.Vertex.Export.Factory;",
                "\nusing Systemorph.Vertex.InteractiveObjects;"
            ],
            "metadata": {},
            "execution_count": 0,
            "outputs": []
        },
        {
            "cell_type": "markdown",
            "source": [
                "# Form Entity Scopes"
            ],
            "metadata": {},
            "execution_count": 0,
            "outputs": []
        },
        {
            "cell_type": "markdown",
            "source": [
                "## Helper Scopes"
            ],
            "metadata": {},
            "execution_count": 0,
            "outputs": []
        },
        {
            "cell_type": "code",
            "source": [
                "public interface MutableScopeWithWorkspace<TStorage> : IMutableScopeWithStorage<TStorage> ",
                "\nwhere TStorage : ReportStorage",
                "\n{",
                "\n    protected IWorkspace workspace => GetStorage().Workspace;   ",
                "\n}"
            ],
            "metadata": {},
            "execution_count": 0,
            "outputs": []
        },
        {
            "cell_type": "markdown",
            "source": [
                "## Currency Type"
            ],
            "metadata": {},
            "execution_count": 0,
            "outputs": []
        },
        {
            "cell_type": "code",
            "source": [
                "public interface CurrencyFormsEntity : IMutableScope {",
                "\n    [DropdownEnum(typeof(CurrencyType))]",
                "\n    CurrencyType CurrencyType { get; set; } ",
                "\n}"
            ],
            "metadata": {},
            "execution_count": 0,
            "outputs": []
        },
        {
            "cell_type": "markdown",
            "source": [
                "## Scenario"
            ],
            "metadata": {},
            "execution_count": 0,
            "outputs": []
        },
        {
            "cell_type": "code",
            "source": [
                "public interface ScenarioFormsEntity<TStorage> : MutableScopeWithWorkspace<TStorage> ",
                "\nwhere TStorage : ReportStorage ",
                "\n{",
                "\n    [DropdownMethod(nameof(GetScenarioAutocompleteAsync))]",
                "\n    [Display(Name = \"Scenario\")]",
                "\n    string ScenarioControl { get; set; }",
                "\n",
                "\n    [NotVisible] IDictionary<string, string> ScenarioMapping { get; set; }",
                "\n    protected string Scenario => !string.IsNullOrWhiteSpace(ScenarioControl) && ",
                "\n                                  ScenarioMapping is not null && ",
                "\n                                  ScenarioMapping.TryGetValue(ScenarioControl, out var value) ",
                "\n                                    ? value ",
                "\n                                    : null;",
                "\n    ",
                "\n    async Task<IReadOnlyCollection<string>> GetScenarioAutocompleteAsync(string userInput, int page, int pageSize) {",
                "\n        (ScenarioMapping, var orderedDropDownValues) = await workspace.GetAutocompleteMappings<Scenario>(true);",
                "\n        ScenarioMapping[\"Delta\"] = \"Delta\";",
                "\n        ScenarioMapping[\"All\"] = \"All\";",
                "\n        return orderedDropDownValues.Concat(new string[] {\"Delta\", \"All\"})",
                "\n                                    .Where(x => userInput == null || x.Contains(userInput, StringComparison.OrdinalIgnoreCase))",
                "\n                                    .ToArray(); ",
                "\n    }",
                "\n}"
            ],
            "metadata": {},
            "execution_count": 0,
            "outputs": []
        },
        {
            "cell_type": "markdown",
            "source": [
                "## Reporting Node"
            ],
            "metadata": {},
            "execution_count": 0,
            "outputs": []
        },
        {
            "cell_type": "code",
            "source": [
                "[InitializeScope(nameof(InitReportingNode))]",
                "\npublic interface ReportingNodeFormsEntity<TStorage> : MutableScopeWithWorkspace<TStorage> ",
                "\nwhere TStorage : ReportStorage",
                "\n{",
                "\n    [DropdownMethod(nameof(GetReportingNodeAutocompleteAsync))]",
                "\n    [Display(Name = \"ReportingNode\")]",
                "\n    string ReportingNodeControl { get; set; }",
                "\n",
                "\n    [NotVisible] IDictionary<string, string>  ReportingNodeMapping { get; set; }",
                "\n    protected string ReportingNode => !string.IsNullOrWhiteSpace(ReportingNodeControl) && ",
                "\n                                      ReportingNodeMapping is not null && ",
                "\n                                      ReportingNodeMapping.TryGetValue(ReportingNodeControl, out var value)",
                "\n                                        ? value",
                "\n                                        : GetStorage().InitialReportingNode.SystemName; // Maybe these cases can be more specific",
                "\n",
                "\n    async Task<IReadOnlyCollection<string>> GetReportingNodeAutocompleteAsync(string userInput, int page, int pageSize) {",
                "\n        (ReportingNodeMapping, var orderedDropDownValues) = await workspace.GetAutocompleteMappings<ReportingNode>();",
                "\n        return orderedDropDownValues.Where(x => userInput == null || x.Contains(userInput, StringComparison.OrdinalIgnoreCase)).ToArray(); ",
                "\n    }",
                "\n",
                "\n    void InitReportingNode() {",
                "\n        ReportingNodeControl = ParseDimensionToDisplayString(GetStorage().InitialReportingNode.SystemName, GetStorage().InitialReportingNode.DisplayName);",
                "\n    }",
                "\n}"
            ],
            "metadata": {},
            "execution_count": 0,
            "outputs": []
        },
        {
            "cell_type": "markdown",
            "source": [
                "## Reporting Period"
            ],
            "metadata": {},
            "execution_count": 0,
            "outputs": []
        },
        {
            "cell_type": "markdown",
            "source": [
                "### Monthly Period"
            ],
            "metadata": {},
            "execution_count": 0,
            "outputs": []
        },
        {
            "cell_type": "code",
            "source": [
                "[InitializeScope(nameof(InitReportingPeriod))]",
                "\npublic interface MonthlyPeriodFormsEntity<TStorage> : MutableScopeWithWorkspace<TStorage> ",
                "\nwhere TStorage : ReportStorage",
                "\n{",
                "\n    [DropdownMethod(nameof(GetReportingPeriodAutocompleteAsync))]",
                "\n    string ReportingPeriod { get; set; }",
                "\n",
                "\n    private char separator => 'M';",
                "\n    private string[] ReportingPeriodSplit => ReportingPeriod.Split(separator);",
                "\n    private int ParseReportingPeriod(int index) => !string.IsNullOrWhiteSpace(ReportingPeriod) && ReportingPeriodSplit is not null && Int32.TryParse(ReportingPeriodSplit.ElementAtOrDefault(index), out int value)",
                "\n        ? value",
                "\n        : default;",
                "\n",
                "\n    protected int Year => ParseReportingPeriod(0);",
                "\n    protected int Month => ParseReportingPeriod(1);",
                "\n",
                "\n    async Task<IReadOnlyCollection<string>> GetReportingPeriodAutocompleteAsync(string userInput, int page, int pageSize) => ",
                "\n        await workspace.Query<PartitionByReportingNodeAndPeriod>()",
                "\n            .Where(x => x.Scenario == null)",
                "\n            .OrderByDescending(x => x.Year)",
                "\n            .ThenByDescending(x => x.Month)",
                "\n            .Select(x => ParseReportingPeriodToDisplayString(x.Year, x.Month, separator))",
                "\n            .Where(x => userInput == null || x.Contains(userInput, StringComparison.OrdinalIgnoreCase))",
                "\n            .ToArrayAsync();",
                "\n",
                "\n    void InitReportingPeriod() {",
                "\n        ReportingPeriod = ParseReportingPeriodToDisplayString(GetStorage().InitialReportingPeriod.Year, GetStorage().InitialReportingPeriod.Month, separator);",
                "\n    }",
                "\n}"
            ],
            "metadata": {},
            "execution_count": 0,
            "outputs": []
        },
        {
            "cell_type": "markdown",
            "source": [
                "## Filters"
            ],
            "metadata": {},
            "execution_count": 0,
            "outputs": []
        },
        {
            "cell_type": "code",
            "source": [
                "[InitializeScope(nameof(InitFilters))]",
                "\npublic interface BasicFilterFormsEntity<TStorage> : MutableScopeWithWorkspace<TStorage>",
                "\nwhere TStorage : ReportStorage",
                "\n{",
                "\n    [DropdownMethod(nameof(GetFilterName))]",
                "\n    string FilterName { get; set; }",
                "\n",
                "\n    [DropdownMethod(nameof(GetBasicFilterAsync))]",
                "\n    [Display(Name = \"Filter Value\")]",
                "\n    string FilterValueControl { get; set; }",
                "\n",
                "\n    [DropdownValues(\"\", \"Add\", \"Remove\")]",
                "\n    string FilterAction { get; set; }",
                "\n",
                "\n    protected string[] defaultFilters => new string[] {",
                "\n                        \"\",",
                "\n                        nameof(ReportVariable.GroupOfContract),",
                "\n                        nameof(ReportVariable.Portfolio),",
                "\n                        nameof(ReportVariable.LineOfBusiness),",
                "\n                        //nameof(ReportVariable.AnnualCohort),",
                "\n                        nameof(ReportVariable.LiabilityType),",
                "\n                        nameof(ReportVariable.ValuationApproach),",
                "\n                        nameof(ReportVariable.OciType),",
                "\n                        nameof(ReportVariable.InitialProfitability), //(\\\"Profitability\\\")",
                "\n                        };",
                "\n",
                "\n    [NotVisible] IReadOnlyCollection<string> specificFilters { get; set; }",
                "\n    IReadOnlyCollection<string> GetFilterName() => defaultFilters.Union(specificFilters).ToArray();",
                "\n",
                "\n    [NotVisible] IDictionary<string, IDictionary<string, string>> FilterMapping { get; set; }",
                "\n    protected string FilterValue => !string.IsNullOrWhiteSpace(FilterName) && !string.IsNullOrWhiteSpace(FilterValueControl) && ",
                "\n                                    FilterMapping is not null && FilterMapping.TryGetValue(FilterName, out var inner) &&",
                "\n                                    inner.TryGetValue(FilterValueControl, out var value)",
                "\n                                    ? value",
                "\n                                    : null;",
                "\n",
                "\n    async Task<IReadOnlyCollection<string>> GetFilterAutocompleteAsync<T>() where T : KeyedDimension {",
                "\n        (var filterMapping, var orderedDropDownValues) = await workspace.GetAutocompleteMappings<T>();",
                "\n        FilterMapping[typeof(T).Name] = filterMapping;",
                "\n        return orderedDropDownValues;",
                "\n    }",
                "\n",
                "\n    async Task<IReadOnlyCollection<string>> GetAnnualCohortFilterAutocompleteAsync()  {",
                "\n        (var filterMapping, var orderedDropDownValues) = await workspace.GetAnnualCohortAutocompleteMappings();",
                "\n        FilterMapping[nameof(ReportVariable.AnnualCohort)] = filterMapping;",
                "\n        return orderedDropDownValues;",
                "\n    }",
                "\n",
                "\n    async Task<IReadOnlyCollection<string>> GetBasicFilterAsync(string userInput, int page, int pageSize) =>",
                "\n        new string[]{ null }.Concat(",
                "\n            (FilterName switch",
                "\n            {",
                "\n                //GetAutocompleteMappings",
                "\n               nameof(ReportVariable.Portfolio) => await GetFilterAutocompleteAsync<Portfolio>(),",
                "\n               nameof(ReportVariable.GroupOfContract) => await GetFilterAutocompleteAsync<GroupOfContract>(),",
                "\n               nameof(ReportVariable.LineOfBusiness) => await GetFilterAutocompleteAsync<LineOfBusiness>(),",
                "\n               //nameof(ReportVariable.AnnualCohort) => await GetAnnualCohortFilterAutocompleteAsync(),//TODO the filter is not applied because the prop is an Int",
                "\n               nameof(ReportVariable.LiabilityType) => await GetFilterAutocompleteAsync<LiabilityType>(),",
                "\n               nameof(ReportVariable.ValuationApproach) => await GetFilterAutocompleteAsync<ValuationApproach>(),",
                "\n               nameof(ReportVariable.OciType) => await GetFilterAutocompleteAsync<OciType>(),",
                "\n               nameof(ReportVariable.InitialProfitability) => await GetFilterAutocompleteAsync<Profitability>(),",
                "\n",
                "\n               nameof(ReportVariable.Novelty) => await GetFilterAutocompleteAsync<Novelty>(),",
                "\n               nameof(ReportVariable.VariableType) => await GetFilterAutocompleteAsync<VariableType>(),",
                "\n               nameof(ReportVariable.EconomicBasis) => await GetFilterAutocompleteAsync<EconomicBasis>(),",
                "\n               nameof(ReportVariable.AmountType) => await GetFilterAutocompleteAsync<AmountType>(),",
                "\n               nameof(ReportVariable.EstimateType) => await GetFilterAutocompleteAsync<EstimateType>(),",
                "\n                 _ => Enumerable.Empty<string>().ToArray()",
                "\n            }).Where(x => userInput == null || x.Contains(userInput, StringComparison.OrdinalIgnoreCase)).OrderBy(x => x)).ToArray();",
                "\n        ",
                "\n    [NotVisible] IReadOnlyCollection<(string filterName, string filterValue)> InputDataFilter { get; set; }",
                "\n    ",
                "\n    protected (string fileName, object filterValue)[] dataFilter => InputDataFilter.Select(x => (x.filterName, (object)x.filterValue)).ToArray();",
                "\n",
                "\n    IReadOnlyCollection<(string filterName, string filterValue)> GetFilters()",
                "\n    {",
                "\n        if(FilterAction == \"Add\")",
                "\n            AddFilter(FilterName, FilterValue);",
                "\n        if(FilterAction == \"Remove\")",
                "\n            RemoveFilter(FilterName, FilterValue);",
                "\n        return InputDataFilter;",
                "\n    }",
                "\n",
                "\n    private void AddFilter(string filterName, string filterValue)",
                "\n    {",
                "\n        if(!InputDataFilter.Contains((filterName, filterValue)))",
                "\n            InputDataFilter = InputDataFilter.Append((filterName, filterValue)).ToArray();",
                "\n    }",
                "\n    ",
                "\n    private void RemoveFilter(string filterName, string filterValue)",
                "\n    {",
                "\n        if(InputDataFilter.Contains((filterName, filterValue)))",
                "\n        {   var f = InputDataFilter.ToList();",
                "\n            f.Remove((filterName, filterValue));",
                "\n            InputDataFilter = f.ToArray();",
                "\n        }",
                "\n    }",
                "\n",
                "\n    void InitFilters() {",
                "\n        FilterMapping = new Dictionary<string, IDictionary<string,string>>() ;",
                "\n        InputDataFilter = Enumerable.Empty<(string, string)>().ToArray();",
                "\n    }",
                "\n}"
            ],
            "metadata": {},
            "execution_count": 0,
            "outputs": []
        },
        {
            "cell_type": "markdown",
            "source": [
                "## Slice and Dice"
            ],
            "metadata": {},
            "execution_count": 0,
            "outputs": []
        },
        {
            "cell_type": "code",
            "source": [
                "public interface BasicSliceAndDiceRowsFormsEntity<TStorage> : MutableScopeWithWorkspace<TStorage> ",
                "\nwhere TStorage : ReportStorage",
                "\n{",
                "\n    [NotVisible] string SliceRowName { get; set; }",
                "\n",
                "\n    protected IReadOnlyCollection<string> InputRowSlices => (SliceRowName is null ? Enumerable.Empty<string>() : SliceRowName.RepeatOnce()).ToArray();",
                "\n    [NotVisible] IReadOnlyCollection<string> defaultRowSlices { get; set; }",
                "\n    protected string[] rowSlices => defaultRowSlices.Union(InputRowSlices).ToArray();",
                "\n}"
            ],
            "metadata": {},
            "execution_count": 0,
            "outputs": []
        },
        {
            "cell_type": "code",
            "source": [
                "public interface BasicSliceAndDiceColumnsFormsEntity<TStorage> : MutableScopeWithWorkspace<TStorage> ",
                "\nwhere TStorage : ReportStorage",
                "\n{",
                "\n    [DropdownMethod(nameof(GetSliceColumnNameAutocomplete))]",
                "\n    string SliceColumnName { get; set; }",
                "\n",
                "\n    protected IReadOnlyCollection<string> InputColumnSlices => (SliceColumnName is null ? Enumerable.Empty<string>() : SliceColumnName.RepeatOnce()).ToArray();",
                "\n    [NotVisible] IReadOnlyCollection<string> defaultColumnSlices { get; set; }",
                "\n    protected string[] columnSlices => defaultColumnSlices.Union(InputColumnSlices).ToArray();",
                "\n",
                "\n    IReadOnlyCollection<string> GetSliceColumnNameAutocomplete() => new [] {\"\", ",
                "\n            nameof(ReportVariable.ReportingNode), ",
                "\n            nameof(ReportVariable.Scenario),",
                "\n            nameof(ReportVariable.Portfolio), ",
                "\n            nameof(ReportVariable.GroupOfContract), ",
                "\n            nameof(ReportVariable.LineOfBusiness),",
                "\n            nameof(ReportVariable.LiabilityType),",
                "\n            nameof(ReportVariable.InitialProfitability),",
                "\n            nameof(ReportVariable.ValuationApproach),",
                "\n            nameof(ReportVariable.AnnualCohort),",
                "\n            nameof(ReportVariable.OciType),",
                "\n            nameof(ReportVariable.IsReinsurance),",
                "\n            nameof(ReportVariable.AccidentYear),",
                "\n            ",
                "\n            nameof(ReportVariable.AmountType),",
                "\n            nameof(ReportVariable.EstimateType),",
                "\n            nameof(ReportVariable.EconomicBasis)};",
                "\n}"
            ],
            "metadata": {},
            "execution_count": 0,
            "outputs": []
        },
        {
            "cell_type": "markdown",
            "source": [
                "# Generic Report Scope and Data Scope"
            ],
            "metadata": {},
            "execution_count": 0,
            "outputs": []
        },
        {
            "cell_type": "code",
            "source": [
                "public interface Data : IMutableScope<((int year, int month) reportingPeriod, string reportingNode, string scenario, CurrencyType currencyType, (string filterName, object filterValue)[] dataFilter)> {",
                "\n    IDataCube<ReportVariable> InputDataCube { get; set; }",
                "\n    IDataCube<ReportVariable> DataCube { get {",
                "\n        if(InputDataCube is null) return Enumerable.Empty<ReportVariable>().ToDataCube();",
                "\n        var filteredDataCube = (Identity.dataFilter is null || Identity.dataFilter.Length == 0) ? InputDataCube : InputDataCube.Filter(Identity.dataFilter); ",
                "\n        if(Identity.scenario == null) return filteredDataCube.Where(x => x.Scenario == null).ToDataCube();",
                "\n        if(Identity.scenario != \"All\" && Identity.scenario != \"Delta\") return filteredDataCube.Filter((\"Scenario\", Identity.scenario));",
                "\n        if(Identity.scenario == \"All\") return filteredDataCube.Select(x => x.Scenario == null ? x with {Scenario = \"Best Estimate\" } : x).ToDataCube();",
                "\n        var bestEstimateById = filteredDataCube.Where(x => x.Scenario == null).ToDictionary(x => x.ToIdentityString());",
                "\n        return filteredDataCube.Select(x => x.Scenario == null ? x with { Scenario = \"Best Estimate\" } ",
                "\n                                                : x with { Value = x.Value - (bestEstimateById.TryGetValue((x with {Scenario = null}).ToIdentityString(), out var be)? be.Value : 0.0) }).ToDataCube();",
                "\n    }}",
                "\n} "
            ],
            "metadata": {},
            "execution_count": 0,
            "outputs": []
        },
        {
            "cell_type": "code",
            "source": [
                "[InitializeScope(nameof(Init))]",
                "\npublic interface ReportScope : IMutableScope<string>, ",
                "\n                            ReportingNodeFormsEntity<ReportStorage>, ",
                "\n                            MonthlyPeriodFormsEntity<ReportStorage>, ",
                "\n                            ScenarioFormsEntity<ReportStorage>, ",
                "\n                            CurrencyFormsEntity, ",
                "\n                            BasicSliceAndDiceRowsFormsEntity<ReportStorage>, ",
                "\n                            BasicSliceAndDiceColumnsFormsEntity<ReportStorage>, ",
                "\n                            BasicFilterFormsEntity<ReportStorage> {",
                "\n    protected IPivotFactory report => GetStorage().Report;",
                "\n    protected IExportVariable export => GetStorage().Export;",
                "\n    protected int headerColumnWidthValue => 250;",
                "\n",
                "\n    HashSet<(ReportIdentity, CurrencyType)> GetDataIdentities() => GetStorage().GetIdentities((Year, Month), ReportingNode, Scenario, CurrencyType); // TODO, add filter for identities, if the property is exposed at this level",
                "\n",
                "\n    IDataCube<ReportVariable> GetData() => default;",
                "\n",
                "\n    async Task<GridOptions> ToReportAsync() {",
                "\n        await GetStorage().InitializeAsync((Year, Month), ReportingNode, Scenario, CurrencyType);",
                "\n        var dataScope = GetScope<Data>(((Year, Month), ReportingNode, Scenario, CurrencyType, dataFilter));",
                "\n        var dataCube = GetData();",
                "\n        // This is a temporary solution to avoid an error from the empty report",
                "\n        // Remove when the issue is solved on the platform - A.K.",
                "\n        if (!dataCube.ToArray().Any()) return null;",
                "\n        dataScope.InputDataCube = dataCube;",
                "\n        return await GetReportTaskAsync(dataScope.DataCube);",
                "\n    }",
                "\n",
                "\n    // Using this routine is highly discouraged due to the mutlithreading issue -A.K.",
                "\n    // Avoid using these methods if working with the DB -- it will trigger synchronization error in access to the DB",
                "\n    async Task<ExportResult> ToCsvAsync(string fileName){",
                "\n        await GetStorage().InitializeAsync((Year, Month), ReportingNode, Scenario, CurrencyType);",
                "\n        var dataScope = GetScope<Data>(((Year, Month), ReportingNode, Scenario, CurrencyType, dataFilter));",
                "\n        dataScope.InputDataCube = GetData();",
                "\n        return await export.ToCsv(fileName)",
                "\n                        .ForDataCube(dataScope.DataCube, config => config.WithQuerySource(workspace)",
                "\n                                                                        .SliceRowsBy(rowSlices)",
                "\n                                                                        .SliceColumnsBy(columnSlices))",
                "\n                        .ExecuteAsync();",
                "\n    }",
                "\n",
                "\n    async Task<ExportResult> ToExcelAsync(string fileName){",
                "\n        await GetStorage().InitializeAsync((Year, Month), ReportingNode, Scenario, CurrencyType);",
                "\n        var dataScope = GetScope<Data>(((Year, Month), ReportingNode, Scenario, CurrencyType, dataFilter));",
                "\n        dataScope.InputDataCube = GetData();",
                "\n        return await export.ToExcel(fileName)",
                "\n                        .ForDataCube(dataScope.DataCube, config => config.WithQuerySource(workspace) ",
                "\n                                                                        .SliceRowsBy(rowSlices)",
                "\n                                                                        .SliceColumnsBy(columnSlices))",
                "\n                        .ExecuteAsync();",
                "\n    }",
                "\n    ",
                "\n    async Task<GridOptions> GetReportTaskAsync(IDataCube<ReportVariable> data) {",
                "\n        return await report.ForDataCube(data)",
                "\n            .WithQuerySource(workspace)",
                "\n            .SliceRowsBy(rowSlices)",
                "\n            .SliceColumnsBy(columnSlices)",
                "\n            .ReportGridOptions(headerColumnWidth: headerColumnWidthValue)",
                "\n            .ExecuteAsync();",
                "\n    }",
                "\n",
                "\n    void Init(){",
                "\n        var task = InitReportStorageScopeAsync();",
                "\n        task.Wait();",
                "\n    }",
                "\n",
                "\n    async Task InitReportStorageScopeAsync() { // This has the Async issue, but imo it should come in the future",
                "\n       await GetStorage().InitializeReportIndependentCacheAsync();",
                "\n    }",
                "\n}"
            ],
            "metadata": {},
            "execution_count": 0,
            "outputs": []
        },
        {
            "cell_type": "markdown",
            "source": [
                "# Report Scopes"
            ],
            "metadata": {},
            "execution_count": 0,
            "outputs": []
        },
        {
            "cell_type": "markdown",
            "source": [
                "## Best Estimate PV"
            ],
            "metadata": {},
            "execution_count": 0,
            "outputs": []
        },
        {
            "cell_type": "code",
            "source": [
                "[InitializeScope(nameof(Init))]",
                "\npublic interface PvReport : ReportScope {",
                "\n    ",
                "\n    IDataCube<ReportVariable> ReportScope.GetData() => GetScopes<LockedBestEstimate>(GetDataIdentities()).Aggregate().LockedBestEstimate + GetScopes<CurrentBestEstimate>(GetDataIdentities()).Aggregate().CurrentBestEstimate;",
                "\n",
                "\n     void Init() {",
                "\n         // BasicSliceAndDiceFormsEntity",
                "\n         defaultRowSlices = new string[] { nameof(ReportVariable.Novelty), nameof(ReportVariable.VariableType) };",
                "\n         defaultColumnSlices = new string[] { nameof(ReportVariable.Currency), nameof(ReportVariable.EconomicBasis) };",
                "\n         // SpecificFiltersFormEntity",
                "\n         specificFilters = new string[] {nameof(ReportVariable.AmountType)};",
                "\n    }",
                "\n}"
            ],
            "metadata": {},
            "execution_count": 0,
            "outputs": []
        },
        {
            "cell_type": "markdown",
            "source": [
                "## Risk Adjustment PV"
            ],
            "metadata": {},
            "execution_count": 0,
            "outputs": []
        },
        {
            "cell_type": "code",
            "source": [
                "[InitializeScope(nameof(Init))]",
                "\npublic interface RaReport : ReportScope {",
                "\n    ",
                "\n    IDataCube<ReportVariable> ReportScope.GetData() => GetScopes<LockedRiskAdjustment>(GetDataIdentities()).Aggregate().LockedRiskAdjustment + GetScopes<CurrentRiskAdjustment>(GetDataIdentities()).Aggregate().CurrentRiskAdjustment;",
                "\n",
                "\n     void Init() {",
                "\n         // BasicSliceAndDiceFormsEntity",
                "\n         defaultRowSlices = new string[] { nameof(ReportVariable.Novelty), nameof(ReportVariable.VariableType) };",
                "\n         defaultColumnSlices = new string[] { nameof(ReportVariable.Currency), nameof(ReportVariable.EconomicBasis) };",
                "\n    }",
                "\n}"
            ],
            "metadata": {},
            "execution_count": 0,
            "outputs": []
        },
        {
            "cell_type": "markdown",
            "source": [
                "## FCF PV"
            ],
            "metadata": {},
            "execution_count": 0,
            "outputs": []
        },
        {
            "cell_type": "code",
            "source": [
                "[InitializeScope(nameof(Init))]",
                "\npublic interface FcfReport : ReportScope {",
                "\n    ",
                "\n    IDataCube<ReportVariable> ReportScope.GetData() =>  GetScopes<Fcf>(GetDataIdentities()).Aggregate().Fcf;",
                "\n",
                "\n     void Init() {",
                "\n         // BasicSliceAndDiceFormsEntity",
                "\n         defaultRowSlices = new string[] { nameof(ReportVariable.Novelty), nameof(ReportVariable.VariableType) };",
                "\n         defaultColumnSlices = new string[] { nameof(ReportVariable.Currency), nameof(ReportVariable.EconomicBasis) };",
                "\n    }",
                "\n}"
            ],
            "metadata": {},
            "execution_count": 0,
            "outputs": []
        },
        {
            "cell_type": "markdown",
            "source": [
                "## Written"
            ],
            "metadata": {},
            "execution_count": 0,
            "outputs": []
        },
        {
            "cell_type": "code",
            "source": [
                "[InitializeScope(nameof(Init))]",
                "\npublic interface WrittenReport : ReportScope {",
                "\n    ",
                "\n    IDataCube<ReportVariable> ReportScope.GetData() => GetScopes<WrittenAndAccruals>(GetDataIdentities()).Aggregate().Written;",
                "\n",
                "\n     void Init() {",
                "\n         // BasicSliceAndDiceFormsEntity",
                "\n         defaultRowSlices = new string[] { nameof(ReportVariable.AmountType) };",
                "\n         defaultColumnSlices = new string[] { nameof(ReportVariable.Currency) };",
                "\n    }",
                "\n}"
            ],
            "metadata": {},
            "execution_count": 0,
            "outputs": []
        },
        {
            "cell_type": "markdown",
            "source": [
                "## Accruals"
            ],
            "metadata": {},
            "execution_count": 0,
            "outputs": []
        },
        {
            "cell_type": "code",
            "source": [
                "[InitializeScope(nameof(Init))]",
                "\npublic interface AccrualReport : ReportScope {",
                "\n    ",
                "\n    IDataCube<ReportVariable> ReportScope.GetData() => GetScopes<WrittenAndAccruals>(GetDataIdentities()).Aggregate().Advance + GetScopes<WrittenAndAccruals>(GetDataIdentities()).Aggregate().Overdue;",
                "\n",
                "\n     void Init() {",
                "\n         // BasicSliceAndDiceFormsEntity",
                "\n         defaultRowSlices = new string[] { nameof(ReportVariable.VariableType) };",
                "\n         defaultColumnSlices = new string[] { nameof(ReportVariable.Currency) };",
                "\n         // SpecificFiltersFormEntity",
                "\n         specificFilters = new string[] {nameof(ReportVariable.AmountType)};",
                "\n    }",
                "\n}"
            ],
            "metadata": {},
            "execution_count": 0,
            "outputs": []
        },
        {
            "cell_type": "markdown",
            "source": [
                "## Deferrals"
            ],
            "metadata": {},
            "execution_count": 0,
            "outputs": []
        },
        {
            "cell_type": "code",
            "source": [
                "[InitializeScope(nameof(Init))]",
                "\npublic interface DeferralReport : ReportScope {",
                "\n    ",
                "\n    IDataCube<ReportVariable> ReportScope.GetData() => GetScopes<Deferrals>(GetDataIdentities()).Aggregate().Deferrals;",
                "\n",
                "\n     void Init() {",
                "\n         // BasicSliceAndDiceFormsEntity",
                "\n         defaultRowSlices = new string[] { nameof(ReportVariable.VariableType) };",
                "\n         defaultColumnSlices = new string[] { nameof(ReportVariable.Currency) };",
                "\n    }",
                "\n}"
            ],
            "metadata": {},
            "execution_count": 0,
            "outputs": []
        },
        {
            "cell_type": "markdown",
            "source": [
                "## Experience Adjustment"
            ],
            "metadata": {},
            "execution_count": 0,
            "outputs": []
        },
        {
            "cell_type": "code",
            "source": [
                "[InitializeScope(nameof(Init))]",
                "\npublic interface ExpAdjReport: ReportScope {",
                "\n    ",
                "\n    IDataCube<ReportVariable> ReportScope.GetData() => GetScopes<ExperienceAdjustment>(GetDataIdentities()).Aggregate().ActuarialExperienceAdjustment;",
                "\n",
                "\n     void Init() {",
                "\n         // BasicSliceAndDiceFormsEntity",
                "\n         defaultRowSlices = new string[] { nameof(ReportVariable.EstimateType) };",
                "\n         defaultColumnSlices = new string[] { nameof(ReportVariable.Currency), nameof(ReportVariable.AmountType) };",
                "\n         // SpecificFiltersFormEntity",
                "\n         specificFilters = new string[] {nameof(ReportVariable.AmountType)};",
                "\n    }",
                "\n}"
            ],
            "metadata": {},
            "execution_count": 0,
            "outputs": []
        },
        {
            "cell_type": "markdown",
            "source": [
                "## Technical Margin"
            ],
            "metadata": {},
            "execution_count": 0,
            "outputs": []
        },
        {
            "cell_type": "code",
            "source": [
                "[InitializeScope(nameof(Init))]",
                "\npublic interface TmReport : ReportScope {",
                "\n    ",
                "\n    IDataCube<ReportVariable> ReportScope.GetData() => GetScopes<LrcTechnicalMargin>(GetDataIdentities()).Aggregate().LrcTechnicalMargin;",
                "\n",
                "\n     void Init() {",
                "\n         // BasicSliceAndDiceFormsEntity",
                "\n         defaultRowSlices = new string[] { nameof(ReportVariable.Novelty), nameof(ReportVariable.VariableType) };",
                "\n         defaultColumnSlices = new string[] { nameof(ReportVariable.Currency) };",
                "\n    }",
                "\n}"
            ],
            "metadata": {},
            "execution_count": 0,
            "outputs": []
        },
        {
            "cell_type": "markdown",
            "source": [
                "## CSM"
            ],
            "metadata": {},
            "execution_count": 0,
            "outputs": []
        },
        {
            "cell_type": "code",
            "source": [
                "[InitializeScope(nameof(Init))]",
                "\npublic interface CsmReport : ReportScope {",
                "\n    ",
                "\n    IDataCube<ReportVariable> ReportScope.GetData() => GetScopes<Csm>(GetDataIdentities()).Aggregate().Csm + GetScopes<Lc>(GetDataIdentities()).Aggregate().Lc + GetScopes<Loreco>(GetDataIdentities()).Aggregate().Loreco;",
                "\n",
                "\n     void Init() {",
                "\n         // BasicSliceAndDiceFormsEntity",
                "\n         defaultRowSlices = new string[] { nameof(ReportVariable.Novelty), nameof(ReportVariable.VariableType) };",
                "\n         defaultColumnSlices = new string[] { nameof(ReportVariable.Currency), nameof(ReportVariable.EstimateType) };",
                "\n    }",
                "\n}"
            ],
            "metadata": {},
            "execution_count": 0,
            "outputs": []
        },
        {
            "cell_type": "markdown",
            "source": [
                "## LRC"
            ],
            "metadata": {},
            "execution_count": 0,
            "outputs": []
        },
        {
            "cell_type": "code",
            "source": [
                "[InitializeScope(nameof(Init))]",
                "\npublic interface ActLrcReport : ReportScope {",
                "\n    ",
                "\n    IDataCube<ReportVariable> ReportScope.GetData() => GetScopes<LrcActuarial>(GetDataIdentities()).Aggregate().LrcActuarial;",
                "\n",
                "\n     void Init() {",
                "\n         // BasicSliceAndDiceFormsEntity",
                "\n         defaultRowSlices = new string[] { nameof(ReportVariable.Novelty), nameof(ReportVariable.VariableType) };",
                "\n         defaultColumnSlices = new string[] { nameof(ReportVariable.Currency), nameof(ReportVariable.EstimateType) };",
                "\n    }",
                "\n}"
            ],
            "metadata": {},
            "execution_count": 0,
            "outputs": []
        },
        {
            "cell_type": "code",
            "source": [
                "[InitializeScope(nameof(Init))]",
                "\npublic interface LrcReport : ReportScope {",
                "\n    ",
                "\n    IDataCube<ReportVariable> ReportScope.GetData() =>GetScopes<Lrc>(GetDataIdentities()).Aggregate().Lrc;",
                "\n",
                "\n     void Init() {",
                "\n         // BasicSliceAndDiceFormsEntity",
                "\n         defaultRowSlices = new string[] { nameof(ReportVariable.VariableType) };",
                "\n         defaultColumnSlices = new string[] { nameof(ReportVariable.Currency), nameof(ReportVariable.EstimateType) };",
                "\n    }",
                "\n}"
            ],
            "metadata": {},
            "execution_count": 0,
            "outputs": []
        },
        {
            "cell_type": "markdown",
            "source": [
                "## LIC"
            ],
            "metadata": {},
            "execution_count": 0,
            "outputs": []
        },
        {
            "cell_type": "code",
            "source": [
                "[InitializeScope(nameof(Init))]",
                "\npublic interface ActLicReport : ReportScope {",
                "\n    ",
                "\n    IDataCube<ReportVariable> ReportScope.GetData() => GetScopes<LicActuarial>(GetDataIdentities()).Aggregate().LicActuarial;",
                "\n",
                "\n     void Init() {",
                "\n         // BasicSliceAndDiceFormsEntity",
                "\n         defaultRowSlices = new string[] { nameof(ReportVariable.Novelty), nameof(ReportVariable.VariableType) };",
                "\n         defaultColumnSlices = new string[] { nameof(ReportVariable.Currency), nameof(ReportVariable.EstimateType) };",
                "\n    }",
                "\n}"
            ],
            "metadata": {},
            "execution_count": 0,
            "outputs": []
        },
        {
            "cell_type": "code",
            "source": [
                "[InitializeScope(nameof(Init))]",
                "\npublic interface LicReport : ReportScope {",
                "\n    ",
                "\n    IDataCube<ReportVariable> ReportScope.GetData() => GetScopes<Lic>(GetDataIdentities()).Aggregate().Lic;",
                "\n",
                "\n     void Init() {",
                "\n         // BasicSliceAndDiceFormsEntity",
                "\n         defaultRowSlices = new string[] { nameof(ReportVariable.VariableType) };",
                "\n         defaultColumnSlices = new string[] { nameof(ReportVariable.Currency), nameof(ReportVariable.EstimateType) };",
                "\n    }",
                "\n}"
            ],
            "metadata": {},
            "execution_count": 0,
            "outputs": []
        },
        {
            "cell_type": "markdown",
            "source": [
                "## Financial Performance"
            ],
            "metadata": {},
            "execution_count": 0,
            "outputs": []
        },
        {
            "cell_type": "code",
            "source": [
                "[InitializeScope(nameof(Init))]",
                "\npublic interface FpReport : ReportScope {",
                "\n    ",
                "\n    IDataCube<ReportVariable> ReportScope.GetData() => GetScopes<FinancialPerformance>(GetDataIdentities()).Aggregate().FinancialPerformance;",
                "\n",
                "\n     void Init() {",
                "\n         // BasicSliceAndDiceFormsEntity",
                "\n         defaultRowSlices = new string[] { nameof(ReportVariable.VariableType), nameof(ReportVariable.EstimateType)  };",
                "\n         defaultColumnSlices = new string[] { nameof(ReportVariable.Currency)};",
                "\n    }",
                "\n}"
            ],
            "metadata": {},
            "execution_count": 0,
            "outputs": []
        },
        {
            "cell_type": "markdown",
            "source": [
                "# IFRS 17 Interactive "
            ],
            "metadata": {},
            "execution_count": 0,
            "outputs": []
        },
        {
            "cell_type": "markdown",
            "source": [
                "This class is used to trigger the calculation of the reports and it is exposed to the end-user in the reports."
            ],
            "metadata": {},
            "execution_count": 0,
            "outputs": []
        },
        {
            "cell_type": "code",
            "source": [
                "using Systemorph.Vertex.Pivot.Builder.Interfaces;",
                "\nusing Systemorph.InteractiveObjects;",
                "\nusing Systemorph.Vertex.Session;",
                "\npublic class Ifrs17Interactive {",
                "\n    private IPivotFactory report;",
                "\n    private IExportVariable export;",
                "\n    private InteractiveObjectVariable interactiveObject;",
                "\n    private ReportStorage storage;",
                "\n",
                "\n    private IDictionary<string, Systemorph.Vertex.InteractiveObjects.InteractiveObjectView> interactiveObjectCache = new Dictionary<string, Systemorph.Vertex.InteractiveObjects.InteractiveObjectView>();",
                "\n",
                "\n    public Ifrs17Interactive (IWorkspace workspace, ",
                "\n                            IPivotFactory report, ",
                "\n                            IExportVariable export,",
                "\n                            InteractiveObjectVariable interactiveObject)",
                "\n    {",
                "\n        this.report = report;",
                "\n        this.export = export;",
                "\n        this.interactiveObject = interactiveObject;",
                "\n        storage = new ReportStorage(workspace, report, export);",
                "\n    }",
                "\n",
                "\n    public void Reset(IWorkspace workspace) {",
                "\n        storage = new ReportStorage(workspace, report, export);",
                "\n        interactiveObjectCache = new Dictionary<string, Systemorph.Vertex.InteractiveObjects.InteractiveObjectView>();",
                "\n    }",
                "\n",
                "\n    public InteractiveObjectView GetFormsEntity<T>(string name = null) where T : ReportScope {",
                "\n        var key = name ?? typeof(T).Name;",
                "\n        if(!interactiveObjectCache.TryGetValue($\"{key}FormsEntity\", out var ret))",
                "\n            ret = interactiveObjectCache[$\"{key}FormsEntity\"] = interactiveObject.CreateView($\"{key}FormsEntity\", _ => GetReportScope<T>(key));",
                "\n        return ret;",
                "\n    }",
                "\n",
                "\n    public InteractiveObjectView GetReport<T>(string name = null) where T : ReportScope {",
                "\n        var key = name ?? typeof(T).Name;",
                "\n        if(!interactiveObjectCache.TryGetValue(key, out var ret)){",
                "\n            ret = interactiveObjectCache[key] = interactiveObject.CreateView(key,",
                "\n                _ => {",
                "\n                    var scope = GetReportScope<T>(key);",
                "\n                    var filters = scope.GetFilters(); // Not used and should be improved",
                "\n                    return scope.ToReportAsync(); ",
                "\n               }); ",
                "\n        }",
                "\n        return ret;",
                "\n    }",
                "\n",
                "\n    public async Task<ExportResult> ExportToCsvAsync<T>(string fileName, bool addDateTime = false)",
                "\n    where T : ReportScope",
                "\n    {",
                "\n        var fullFileName = addDateTime ? AttachDateTime(fileName) : fileName; ",
                "\n        var scope = GetReportScope<T>();",
                "\n        var _ = scope.GetFilters();",
                "\n        return await scope.ToCsvAsync(fullFileName);",
                "\n    } ",
                "\n",
                "\n",
                "\n    public async Task<ExportResult> ExportToExcelAsync<T>(string fileName, bool addDateTime = false)",
                "\n    where T : ReportScope",
                "\n    {",
                "\n        var fullFileName = addDateTime ? AttachDateTime(fileName) : fileName;",
                "\n        var scope = GetReportScope<T>();",
                "\n        var _ = scope.GetFilters();",
                "\n        return await scope.ToExcelAsync(fullFileName);",
                "\n    }",
                "\n",
                "\n    private string ToTwoDigitString(int number ) => number.ToString().Length == 1 ? \"0\" + number.ToString() : number.ToString();",
                "\n",
                "\n    private string AttachDateTime(string fileName)",
                "\n    {",
                "\n        DateTime creationTime = DateTime.UtcNow;",
                "\n        return fileName + \"_\" + creationTime.Year.ToString() + ToTwoDigitString(creationTime.Month) + ToTwoDigitString(creationTime.Day) +",
                "\n                ToTwoDigitString(creationTime.Hour) + ToTwoDigitString(creationTime.Minute) + ToTwoDigitString(creationTime.Second);",
                "\n    }",
                "\n",
                "\n    // This routine is still buggy, triggering an infinite loop. Not clear why. -- A.K.",
                "\n    public InteractiveObjectView ToExcelInteractive<T>(string fileName, bool addDateTime = false, string name = null)",
                "\n    where T : ReportScope",
                "\n    {",
                "\n        var key = name ?? typeof(T).Name;",
                "\n        var fullFileName = addDateTime ? AttachDateTime(fileName) : fileName; ",
                "\n        if (!interactiveObjectCache.TryGetValue($\"{key}.xlsx\", out var ret))",
                "\n            ret = interactiveObjectCache[$\"{key}.xlsx\"] = interactiveObject.CreateView($\"{key}.xlsx\", _ => ",
                "\n                {",
                "\n                    var scope = GetReportScope<T>();",
                "\n                    var filters = scope.GetFilters();",
                "\n                    return scope.ToExcelAsync(fullFileName);",
                "\n                });",
                "\n        return ret;",
                "\n    }",
                "\n    ",
                "\n",
                "\n    public ReportScope GetReportScope<T>(string name = null) where T : ReportScope => interactiveObject.State.GetScope<T>(name ?? typeof(T).Name, o => o.WithStorage(storage));",
                "\n",
                "\n    // Keeping the old API",
                "\n    public ReportScope PresentValues => GetReportScope<PvReport>();",
                "\n    public ReportScope RiskAdjustments => GetReportScope<RaReport>();",
                "\n    public ReportScope FulfillmentCashflows => GetReportScope<FcfReport>();",
                "\n    public ReportScope WrittenActuals => GetReportScope<WrittenReport>();",
                "\n    public ReportScope AccrualActuals => GetReportScope<AccrualReport>();",
                "\n    public ReportScope DeferralActuals => GetReportScope<DeferralReport>();",
                "\n    public ReportScope ExperienceAdjustments => GetReportScope<ExpAdjReport>();",
                "\n    public ReportScope TechnicalMargins => GetReportScope<TmReport>();",
                "\n    public ReportScope AllocatedTechnicalMargins => GetReportScope<CsmReport>();",
                "\n    public ReportScope ActuarialLrc => GetReportScope<ActLrcReport>();",
                "\n    public ReportScope Lrc => GetReportScope<LrcReport>();",
                "\n    public ReportScope ActuarialLic => GetReportScope<ActLicReport>();",
                "\n    public ReportScope Lic => GetReportScope<LicReport>();",
                "\n    public ReportScope FinancialPerformance => GetReportScope<FpReport>();  ",
                "\n}"
            ],
            "metadata": {},
            "execution_count": 0,
            "outputs": []
        },
        {
            "cell_type": "code",
            "source": [
                ""
            ],
            "metadata": {},
            "execution_count": 0,
            "outputs": []
        }
    ]
}