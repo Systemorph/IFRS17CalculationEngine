{
    "metadata": {
        "authors": [],
        "id": "XO1MGMO6q0GBeTH0YLwIWA",
        "kernelspec": {
            "display_name": "Formula Framework",
            "language": "C#",
            "name": "C#"
        },
        "language_info": {
            "file_extension": ".cs",
            "mimetype": "text/plain",
            "name": "C#"
        }
    },
    "nbformat": 4,
    "nbformat_minor": 5,
    "cells": [
        {
            "cell_type": "markdown",
            "source": [
                "<a id='report-scopes'></a>",
                "\n<p style=\"font-weight:bold;\"> <span style=\"font-size: 36px\"> Report Scopes (IFRS 17 Methodology Business Logic)</span> </p>"
            ],
            "metadata": {},
            "execution_count": 0,
            "outputs": []
        },
        {
            "cell_type": "markdown",
            "source": [
                "This notebook contains the logic used to perform calculations upon reporting of data."
            ],
            "metadata": {},
            "execution_count": 0,
            "outputs": []
        },
        {
            "cell_type": "markdown",
            "source": [
                "# References",
                "\nLibraries and other notebooks which are needed for this notebook are imported below."
            ],
            "metadata": {},
            "execution_count": 0,
            "outputs": []
        },
        {
            "cell_type": "markdown",
            "source": [
                "## Notebooks"
            ],
            "metadata": {},
            "execution_count": 0,
            "outputs": []
        },
        {
            "cell_type": "code",
            "source": [
                "#!import \"ReportStorage\""
            ],
            "metadata": {},
            "execution_count": 0,
            "outputs": []
        },
        {
            "cell_type": "markdown",
            "source": [
                "# Scopes"
            ],
            "metadata": {},
            "execution_count": 0,
            "outputs": []
        },
        {
            "cell_type": "markdown",
            "source": [
                "## Helper Scopes"
            ],
            "metadata": {},
            "execution_count": 0,
            "outputs": []
        },
        {
            "cell_type": "markdown",
            "source": [
                "### Universe"
            ],
            "metadata": {},
            "execution_count": 0,
            "outputs": []
        },
        {
            "cell_type": "code",
            "source": [
                "public interface IUniverse: IScopeWithStorage<ReportStorage> {}"
            ],
            "metadata": {},
            "execution_count": 0,
            "outputs": []
        },
        {
            "cell_type": "markdown",
            "source": [
                "## Data Transformation"
            ],
            "metadata": {},
            "execution_count": 0,
            "outputs": []
        },
        {
            "cell_type": "markdown",
            "source": [
                "### Retrieve Raw Data"
            ],
            "metadata": {},
            "execution_count": 0,
            "outputs": []
        },
        {
            "cell_type": "code",
            "source": [
                "public interface Data: IScope<(ReportIdentity ReportIdentity, string EstimateType), ReportStorage>, IDataCube<ReportVariable> {",
                "\n    static ApplicabilityBuilder ScopeApplicabilityBuilder(ApplicabilityBuilder builder) =>",
                "\n        builder.ForScope<Data>(s => s.WithApplicability<DataWrittenActual>(x => x.GetStorage().EstimateTypesWithoutAoc.Contains(x.Identity.EstimateType)));",
                "\n    ",
                "\n    protected IDataCube<ReportVariable> RawData => GetStorage().GetVariables(Identity.ReportIdentity, Identity.EstimateType);",
                "\n",
                "\n    private IDataCube<ReportVariable> RawEops => RawData.Filter((\"VariableType\", AocTypes.EOP));",
                "\n    private IDataCube<ReportVariable> NotEopsNotCls => RawData.Filter((\"VariableType\", \"!EOP\"),(\"VariableType\", \"!CL\")); // TODO negation must be hardcoded (also to avoid string concatenation)",
                "\n    ",
                "\n    private IDataCube<ReportVariable> CalculatedCl => (RawEops - NotEopsNotCls)",
                "\n                                                        .AggregateOver(nameof(Novelty), nameof(VariableType))",
                "\n                                                        .SelectToDataCube(x => Math.Abs(x.Value) >= Precision, x => x with { Novelty = Novelties.C, VariableType = AocTypes.CL });",
                "\n    ",
                "\n    private IDataCube<ReportVariable> CalculatedEops => (NotEopsNotCls + CalculatedCl)",
                "\n                                                        .AggregateOver(nameof(Novelty), nameof(VariableType))",
                "\n                                                        .SelectToDataCube(x => x with { VariableType = AocTypes.EOP, Novelty = Novelties.C });",
                "\n      ",
                "\n    IDataCube<ReportVariable> Data => NotEopsNotCls + CalculatedCl + CalculatedEops;",
                "\n}",
                "\npublic interface DataWrittenActual: Data {",
                "\n    IDataCube<ReportVariable> Data.Data => RawData;",
                "\n}"
            ],
            "metadata": {},
            "execution_count": 0,
            "outputs": []
        },
        {
            "cell_type": "markdown",
            "source": [
                "### Foreign Exchange (FX) Rates"
            ],
            "metadata": {},
            "execution_count": 0,
            "outputs": []
        },
        {
            "cell_type": "code",
            "source": [
                "public interface Fx: IScope<(string ContractualCurrency, string FunctionalCurrency, FxPeriod FxPeriod, (int, int) Period, CurrencyType CurrencyType), ReportStorage> {   ",
                "\n    private double groupFxRate => Identity.CurrencyType switch {",
                "\n            CurrencyType.Group => GetStorage().GetFx(Identity.Period, Identity.FunctionalCurrency, GroupCurrency, FxPeriod.Average),",
                "\n            _ => 1",
                "\n    };",
                "\n    ",
                "\n    private double GetFunctionalFxRate(FxPeriod fxPeriod) => Identity.CurrencyType switch {",
                "\n            CurrencyType.Contractual => 1,",
                "\n            _ => GetStorage().GetFx(Identity.Period, Identity.ContractualCurrency, Identity.FunctionalCurrency, fxPeriod)",
                "\n    };",
                "\n    ",
                "\n    double Fx => GetFunctionalFxRate(Identity.FxPeriod) * groupFxRate;",
                "\n}"
            ],
            "metadata": {},
            "execution_count": 0,
            "outputs": []
        },
        {
            "cell_type": "code",
            "source": [
                "public interface FxData: IScope<(ReportIdentity ReportIdentity, CurrencyType CurrencyType, string EstimateType), ReportStorage>, IDataCube<ReportVariable> {",
                "\n    static ApplicabilityBuilder ScopeApplicabilityBuilder(ApplicabilityBuilder builder) =>",
                "\n        builder.ForScope<FxData>(s => s.WithApplicability<FxDataWrittenActual>(x => x.GetStorage().EstimateTypesWithoutAoc.Contains(x.Identity.EstimateType)));",
                "\n    ",
                "\n    protected IDataCube<ReportVariable> Data => GetScope<Data>((Identity.ReportIdentity, Identity.EstimateType)).Data",
                "\n        .SelectToDataCube(x => Multiply( GetScope<Fx>((Identity.ReportIdentity.ContractualCurrency, ",
                "\n                                                       Identity.ReportIdentity.FunctionalCurrency, ",
                "\n                                                       GetStorage().GetFxPeriod(GetStorage().Args.Period, x.VariableType, x.Novelty),",
                "\n                                                       (Identity.ReportIdentity.Year, Identity.ReportIdentity.Month),",
                "\n                                                       Identity.CurrencyType)).Fx, x ) with { Currency = Identity.CurrencyType switch {",
                "\n                                                                                                                    CurrencyType.Contractual => x.ContractualCurrency,",
                "\n                                                                                                                    CurrencyType.Functional => x.FunctionalCurrency,",
                "\n                                                                                                                    _ => GroupCurrency }});",
                "\n    ",
                "\n    private IDataCube<ReportVariable> Eops => Data.Filter((\"VariableType\", AocTypes.EOP));",
                "\n    private IDataCube<ReportVariable> NotEops => Data.Filter((\"VariableType\", \"!EOP\")); // TODO negation must be hardcoded (also to avoid string concatenation)",
                "\n    ",
                "\n    private IDataCube<ReportVariable> Fx => (Eops - NotEops)",
                "\n        .AggregateOver(nameof(Novelty), nameof(VariableType))",
                "\n        .SelectToDataCube(x => Math.Abs(x.Value) >= Precision, x => x with { Novelty = Novelties.C, VariableType = AocTypes.FX });",
                "\n    ",
                "\n    IDataCube<ReportVariable> FxData => Data + Fx;",
                "\n}",
                "\n",
                "\npublic interface FxDataWrittenActual: FxData {",
                "\n    IDataCube<ReportVariable> FxData.FxData => Data;",
                "\n}"
            ],
            "metadata": {},
            "execution_count": 0,
            "outputs": []
        },
        {
            "cell_type": "markdown",
            "source": [
                "## Present Value"
            ],
            "metadata": {},
            "execution_count": 0,
            "outputs": []
        },
        {
            "cell_type": "markdown",
            "source": [
                "<a id='best-estimate'></a>",
                "\n### Best Estimate",
                "\n",
                "\nBest Estimate of Present Value (PV) report includes contributions from the [Present Value](../Import/ImportScopeCalculation#present-values) calculation. The result of the Locked-in calculation is used when the Valuation Approach is BBA and the flag for Oci is active."
            ],
            "metadata": {},
            "execution_count": 0,
            "outputs": []
        },
        {
            "cell_type": "code",
            "source": [
                "public interface BestEstimate: IScope<(ReportIdentity Id, CurrencyType CurrencyType), ReportStorage>, IDataCube<ReportVariable> {",
                "\n    IDataCube<ReportVariable> BestEstimate => Identity.Id switch {",
                "\n            { ValuationApproach: ValuationApproaches.BBA, IsOci: true } => GetScope<LockedBestEstimate>(Identity).LockedBestEstimate,",
                "\n            _ => GetScope<CurrentBestEstimate>(Identity).CurrentBestEstimate };",
                "\n}",
                "\n",
                "\npublic interface LockedBestEstimate: IScope<(ReportIdentity Id, CurrencyType CurrencyType), ReportStorage>, IDataCube<ReportVariable> {",
                "\n    IDataCube<ReportVariable> LockedBestEstimate => GetScope<FxData>((Identity.Id, Identity.CurrencyType, EstimateTypes.BE)).FxData",
                "\n        .Filter((\"LiabilityType\", Identity.Id.LiabilityType), (\"EconomicBasis\", EconomicBases.L));",
                "\n}",
                "\n",
                "\npublic interface CurrentBestEstimate: IScope<(ReportIdentity Id, CurrencyType CurrencyType), ReportStorage>, IDataCube<ReportVariable> {",
                "\n    IDataCube<ReportVariable> CurrentBestEstimate => GetScope<FxData>((Identity.Id, Identity.CurrencyType, EstimateTypes.BE)).FxData",
                "\n        .Filter((\"LiabilityType\", Identity.Id.LiabilityType), (\"EconomicBasis\", EconomicBases.C));",
                "\n}"
            ],
            "metadata": {},
            "execution_count": 0,
            "outputs": []
        },
        {
            "cell_type": "markdown",
            "source": [
                "<a id='risk-adjustment'></a>",
                "\n### Risk Adjustment",
                "\n",
                "\nRisk Adjustment (RA) report includes contributions from the [Risk Adjustment](../Import/ImportScopeCalculation#risk-adjustment) calculation. The result of the Locked-in calculation is used when the Valuation Approach is BBA and the flag for Oci is active."
            ],
            "metadata": {},
            "execution_count": 0,
            "outputs": []
        },
        {
            "cell_type": "code",
            "source": [
                "public interface RiskAdjustment: IScope<(ReportIdentity Id, CurrencyType CurrencyType), ReportStorage>, IDataCube<ReportVariable> {",
                "\n    IDataCube<ReportVariable> RiskAdjustment => Identity.Id switch {",
                "\n            { ValuationApproach: ValuationApproaches.BBA, IsOci: true } => GetScope<LockedRiskAdjustment>(Identity).LockedRiskAdjustment,",
                "\n            _ => GetScope<CurrentRiskAdjustment>(Identity).CurrentRiskAdjustment };",
                "\n}",
                "\n",
                "\npublic interface LockedRiskAdjustment: IScope<(ReportIdentity Id, CurrencyType CurrencyType), ReportStorage>, IDataCube<ReportVariable> {",
                "\n    IDataCube<ReportVariable> LockedRiskAdjustment => GetScope<FxData>((Identity.Id, Identity.CurrencyType, EstimateTypes.RA)).FxData",
                "\n        .Filter((\"LiabilityType\", Identity.Id.LiabilityType), (\"EconomicBasis\", EconomicBases.L));",
                "\n}",
                "\n",
                "\npublic interface CurrentRiskAdjustment: IScope<(ReportIdentity Id, CurrencyType CurrencyType), ReportStorage>, IDataCube<ReportVariable> {",
                "\n    IDataCube<ReportVariable> CurrentRiskAdjustment =>  GetScope<FxData>((Identity.Id, Identity.CurrencyType, EstimateTypes.RA)).FxData",
                "\n        .Filter((\"LiabilityType\", Identity.Id.LiabilityType), (\"EconomicBasis\", EconomicBases.C));",
                "\n}"
            ],
            "metadata": {},
            "execution_count": 0,
            "outputs": []
        },
        {
            "cell_type": "markdown",
            "source": [
                "<a id='fulfillment-cash-flows'></a>",
                "\n## Fulfillment Cash flows",
                "\nFulfillment Cash flows (FCF) report includes contributions from the [Best Estimate](#best-estimate) of Present Value and [Risk Adjustment](#risk-adjustment) Present Value."
            ],
            "metadata": {},
            "execution_count": 0,
            "outputs": []
        },
        {
            "cell_type": "code",
            "source": [
                "public interface Fcf: IScope<(ReportIdentity Id, CurrencyType CurrencyType), ReportStorage>, IDataCube<ReportVariable> {",
                "\n    private IDataCube<ReportVariable> BestEstimate => GetScope<BestEstimate>(Identity).BestEstimate;",
                "\n    private IDataCube<ReportVariable> RiskAdjustment => GetScope<RiskAdjustment>(Identity).RiskAdjustment;",
                "\n    ",
                "\n    IDataCube<ReportVariable> Fcf => BestEstimate + RiskAdjustment;",
                "\n}",
                "\n",
                "\npublic interface CurrentFcf: IScope<(ReportIdentity Id, CurrencyType CurrencyType), ReportStorage>, IDataCube<ReportVariable> {  ",
                "\n    private IDataCube<ReportVariable> BestEstimate => GetScope<CurrentBestEstimate>(Identity).CurrentBestEstimate;",
                "\n    private IDataCube<ReportVariable> RiskAdjustment => GetScope<CurrentRiskAdjustment>(Identity).CurrentRiskAdjustment;",
                "\n    ",
                "\n    IDataCube<ReportVariable> CurrentFcf => BestEstimate + RiskAdjustment;",
                "\n}",
                "\n",
                "\npublic interface LockedFcf: IScope<(ReportIdentity Id, CurrencyType CurrencyType), ReportStorage>, IDataCube<ReportVariable> {   ",
                "\n    private IDataCube<ReportVariable> BestEstimate => GetScope<LockedBestEstimate>(Identity).LockedBestEstimate;",
                "\n    private IDataCube<ReportVariable> RiskAdjustment => GetScope<LockedRiskAdjustment>(Identity).LockedRiskAdjustment;",
                "\n    ",
                "\n    IDataCube<ReportVariable> LockedFcf => BestEstimate + RiskAdjustment;",
                "\n}"
            ],
            "metadata": {},
            "execution_count": 0,
            "outputs": []
        },
        {
            "cell_type": "markdown",
            "source": [
                "<a id='technical-margin'></a>",
                "\n## LRC Technical Margin: CSM, LC, LoReCo",
                "\n",
                "\nThe LRC [Technical Margin](../Import/ImportScopeCalculation#technical-margin) is allocated to either Contractual Service Margin (CSM) or Loss Component (LC) or Loss Recovery Component (LoReCo). Therefore, the correponding report is available only for Liability for Remaining Coverage (LRC) and includes contributions from the calculation of [CSM](../Import/ImportScopeCalculation#csm), [LC](../Import/ImportScopeCalculation#csm), and [LoReCo](../Import/ImportScopeCalculation#csm)."
            ],
            "metadata": {},
            "execution_count": 0,
            "outputs": []
        },
        {
            "cell_type": "code",
            "source": [
                "public interface Csm: IScope<(ReportIdentity Id, CurrencyType CurrencyType), ReportStorage>, IDataCube<ReportVariable> {",
                "\n    IDataCube<ReportVariable> Csm => GetScope<FxData>((Identity.Id, Identity.CurrencyType, EstimateTypes.C)).FxData;",
                "\n}"
            ],
            "metadata": {},
            "execution_count": 0,
            "outputs": []
        },
        {
            "cell_type": "code",
            "source": [
                "public interface Lc: IScope<(ReportIdentity Id, CurrencyType CurrencyType), ReportStorage>, IDataCube<ReportVariable> {",
                "\n    IDataCube<ReportVariable> Lc => GetScope<FxData>((Identity.Id, Identity.CurrencyType, EstimateTypes.L)).FxData;",
                "\n}"
            ],
            "metadata": {},
            "execution_count": 0,
            "outputs": []
        },
        {
            "cell_type": "code",
            "source": [
                "public interface Loreco: IScope<(ReportIdentity Id, CurrencyType CurrencyType), ReportStorage>, IDataCube<ReportVariable> {",
                "\n    IDataCube<ReportVariable> Loreco => GetScope<FxData>((Identity.Id, Identity.CurrencyType, EstimateTypes.LR)).FxData;",
                "\n}"
            ],
            "metadata": {},
            "execution_count": 0,
            "outputs": []
        },
        {
            "cell_type": "code",
            "source": [
                "public interface LrcTechnicalMargin: IScope<(ReportIdentity Id, CurrencyType CurrencyType), ReportStorage>, IDataCube<ReportVariable> {",
                "\n    private IDataCube<ReportVariable> Csm => GetScope<Csm>(Identity).Csm;",
                "\n    private IDataCube<ReportVariable> Lc => GetScope<Lc>(Identity).Lc;",
                "\n    private IDataCube<ReportVariable> Loreco => GetScope<Loreco>(Identity).Loreco;",
                "\n    ",
                "\n    IDataCube<ReportVariable> LrcTechnicalMargin => Lc + Loreco - 1 * Csm;",
                "\n}"
            ],
            "metadata": {},
            "execution_count": 0,
            "outputs": []
        },
        {
            "cell_type": "markdown",
            "source": [
                "<a id='written-accrual-deferral'></a>",
                "\n## Written, Accruals and Deferrals ",
                "\n",
                "\nWritten Actual (Actual) report includes contributions from the [Actual](../Import/ImportScopeCalculation#actuals) import. ",
                "\n<br> Accrual Actuals (Advance, Overdue Actual) report includes contributions from the [Advance](../Import/ImportScopeCalculation#advance-actuals) and [Overdue](../Import/ImportScopeCalculation#overdue-actuals) Actual calculation.",
                "\n<br>Deferral (Deferral Actual) report includes contributions from the calculation of [Deferral](../Import/ImportScopeCalculation#deferrable-actuals) Actual."
            ],
            "metadata": {},
            "execution_count": 0,
            "outputs": []
        },
        {
            "cell_type": "code",
            "source": [
                "public interface WrittenAndAccruals: IScope<(ReportIdentity Id, CurrencyType CurrencyType), ReportStorage>, IDataCube<ReportVariable> {",
                "\n    IDataCube<ReportVariable> Written => GetScope<FxData>((Identity.Id, Identity.CurrencyType, EstimateTypes.A)).FxData;",
                "\n    IDataCube<ReportVariable> Advance => GetScope<FxData>((Identity.Id, Identity.CurrencyType, EstimateTypes.AA)).FxData;",
                "\n    IDataCube<ReportVariable> Overdue => GetScope<FxData>((Identity.Id, Identity.CurrencyType, EstimateTypes.OA)).FxData;",
                "\n}"
            ],
            "metadata": {},
            "execution_count": 0,
            "outputs": []
        },
        {
            "cell_type": "code",
            "source": [
                "public interface Deferrals: IScope<(ReportIdentity Id, CurrencyType CurrencyType), ReportStorage>, IDataCube<ReportVariable> {",
                "\n    IDataCube<ReportVariable> Deferrals => GetScope<FxData>((Identity.Id, Identity.CurrencyType, EstimateTypes.DA)).FxData;",
                "\n}"
            ],
            "metadata": {},
            "execution_count": 0,
            "outputs": []
        },
        {
            "cell_type": "markdown",
            "source": [
                "## Experience Adjustment",
                "\n",
                "\nExperience Adjustment (EA) report includes contributions from the [Written](#written-accrual-deferral) Actual report and the [Best Estimate](#best-estimate) of Present Value report (only the *Cash flow* AoC Step). "
            ],
            "metadata": {},
            "execution_count": 0,
            "outputs": []
        },
        {
            "cell_type": "code",
            "source": [
                "public interface ExperienceAdjustment: IScope<(ReportIdentity Id, CurrencyType CurrencyType), ReportStorage>, IDataCube<ReportVariable> {",
                "\n    private IDataCube<ReportVariable> WrittenCashflow => GetScope<WrittenAndAccruals>(Identity).Written",
                "\n        .Filter((\"VariableType\", AocTypes.CF));",
                "\n    ",
                "\n    private IDataCube<ReportVariable> BestEstimateCashflow => GetScope<BestEstimate>(Identity).BestEstimate",
                "\n        .Filter((\"VariableType\", AocTypes.CF))",
                "\n        .SelectToDataCube(rv => rv with { EconomicBasis = null, Novelty = Novelties.C });",
                "\n",
                "\n    IDataCube<ReportVariable> ActuarialExperienceAdjustment => WrittenCashflow - BestEstimateCashflow;",
                "\n}"
            ],
            "metadata": {},
            "execution_count": 0,
            "outputs": []
        },
        {
            "cell_type": "markdown",
            "source": [
                "<a id='lic-actuarial'></a>",
                "\n## LIC Actuarial (Actuarial Liability for Incurred Claims)",
                "\n",
                "\nActuarial Liability of Incurred Claims (LIC Actuarial) report includes the contributions from [Fulfillment cash flow](#fulfillment-cash-flows)."
            ],
            "metadata": {},
            "execution_count": 0,
            "outputs": []
        },
        {
            "cell_type": "code",
            "source": [
                "public interface LicActuarial: IScope<(ReportIdentity Id, CurrencyType CurrencyType), ReportStorage>, IDataCube<ReportVariable> {",
                "\n    IDataCube<ReportVariable> LicActuarial => GetScope<CurrentFcf>(Identity).CurrentFcf.Filter((\"LiabilityType\", LiabilityTypes.LIC));",
                "\n}"
            ],
            "metadata": {},
            "execution_count": 0,
            "outputs": []
        },
        {
            "cell_type": "markdown",
            "source": [
                "<a id='lic'></a>",
                "\n## LIC (Liability for Incurred Claims)",
                "\n",
                "\nLiability of Incurred Claims (LIC) report includes the contributions from [LIC Actuarial](#lic-actuarial) (Fullfilment Cash flow), [Advance](#written-accrual-deferral) Actual, and [Overdue](#written-accrual-deferral) Actual."
            ],
            "metadata": {},
            "execution_count": 0,
            "outputs": []
        },
        {
            "cell_type": "code",
            "source": [
                "public interface Lic: IScope<(ReportIdentity Id, CurrencyType CurrencyType), ReportStorage>, IDataCube<ReportVariable> {",
                "\n    private IDataCube<ReportVariable> licActuarial => GetScope<LicActuarial>(Identity).LicActuarial;",
                "\n    private IDataCube<ReportVariable> accrual => GetScope<WrittenAndAccruals>(Identity).Advance.Filter((\"LiabilityType\", LiabilityTypes.LIC)) + ",
                "\n        GetScope<WrittenAndAccruals>(Identity).Overdue.Filter((\"LiabilityType\", LiabilityTypes.LIC));",
                "\n    private IDataCube<ReportVariable> licData => licActuarial + accrual;",
                "\n    ",
                "\n    private IDataCube<ReportVariable> bop => licData.Filter((\"VariableType\", AocTypes.BOP), (\"Novelty\", Novelties.I));",
                "\n    private IDataCube<ReportVariable> delta => (licData.Filter((\"VariableType\",\"!BOP\"),(\"VariableType\",\"!EOP\")) + licData.Filter((\"VariableType\", AocTypes.BOP), (\"Novelty\", Novelties.N)))",
                "\n        .AggregateOver(nameof(Novelty), nameof(VariableType))",
                "\n        .SelectToDataCube(x => Math.Abs(x.Value) >= Precision, x => x with { Novelty = Novelties.C, VariableType = \"D\" });",
                "\n    private IDataCube<ReportVariable> eop => licData.Filter((\"VariableType\",AocTypes.EOP));",
                "\n    ",
                "\n    IDataCube<ReportVariable> Lic => bop + delta + eop;",
                "\n}"
            ],
            "metadata": {},
            "execution_count": 0,
            "outputs": []
        },
        {
            "cell_type": "markdown",
            "source": [
                "<a id='lrc-actuarial'></a>",
                "\n## LRC Actuarial (Actuarial Liability for Remaining Coverage)",
                "\n",
                "\nActuarial Liability for Remaining Coverage (LRC) report includes all the contributions from [Fulfillment cash flow](#fulfillment-cash-flows), [Contructual Sevice Margin](#technical-margin), [Loss Component](#technical-margin), and [Loss Recovery Component](#technical-margin)."
            ],
            "metadata": {},
            "execution_count": 0,
            "outputs": []
        },
        {
            "cell_type": "code",
            "source": [
                "public interface LrcActuarial: IScope<(ReportIdentity Id, CurrencyType CurrencyType), ReportStorage>, IDataCube<ReportVariable> {",
                "\n    private IDataCube<ReportVariable> Fcf => GetScope<CurrentFcf>(Identity).CurrentFcf.Filter((\"LiabilityType\", LiabilityTypes.LRC));",
                "\n    private IDataCube<ReportVariable> Csm => GetScope<Csm>(Identity).Csm;",
                "\n    private IDataCube<ReportVariable> Loreco => GetScope<Loreco>(Identity).Loreco;",
                "\n    ",
                "\n    IDataCube<ReportVariable> LrcActuarial => Fcf + Csm + Loreco;",
                "\n}"
            ],
            "metadata": {},
            "execution_count": 0,
            "outputs": []
        },
        {
            "cell_type": "markdown",
            "source": [
                "<a id='lrc'></a>",
                "\n## LRC (Liability for Remaining Coverage)",
                "\n",
                "\nLiability for Remaining Coverage (LRC) report includes all the contributions from [LRC Actuarial](#lrc-actuarial) (Fulfillment Cash flow, Contructual Sevice Margin, Loss Component, Loss Recovery Component) and, [Advance](#written-accrual-deferral) Actual, and [Overdue](#written-accrual-deferral) Actual."
            ],
            "metadata": {},
            "execution_count": 0,
            "outputs": []
        },
        {
            "cell_type": "code",
            "source": [
                "public interface Lrc: IScope<(ReportIdentity Id, CurrencyType CurrencyType), ReportStorage>, IDataCube<ReportVariable> {",
                "\n    private IDataCube<ReportVariable> lrcActuarial => GetScope<LrcActuarial>(Identity).LrcActuarial;",
                "\n    private IDataCube<ReportVariable> accrual => GetScope<WrittenAndAccruals>(Identity).Advance.Filter((\"LiabilityType\", LiabilityTypes.LRC)) + ",
                "\n                                                 GetScope<WrittenAndAccruals>(Identity).Overdue.Filter((\"LiabilityType\", LiabilityTypes.LRC));",
                "\n    private IDataCube<ReportVariable> lrcData => lrcActuarial + accrual;",
                "\n    ",
                "\n    private IDataCube<ReportVariable> bop => lrcData.Filter((\"VariableType\", AocTypes.BOP), (\"Novelty\", Novelties.I));",
                "\n    private IDataCube<ReportVariable> delta => (lrcData.Filter((\"VariableType\",\"!BOP\"),(\"VariableType\",\"!EOP\")) + lrcData.Filter((\"VariableType\", AocTypes.BOP), (\"Novelty\", Novelties.N)))",
                "\n        .AggregateOver(nameof(Novelty), nameof(VariableType))",
                "\n        .SelectToDataCube(x => Math.Abs(x.Value) >= Precision, x => x with { Novelty = Novelties.C, VariableType = \"D\" });",
                "\n    private IDataCube<ReportVariable> eop => lrcData.Filter((\"VariableType\",AocTypes.EOP));",
                "\n    ",
                "\n    IDataCube<ReportVariable> Lrc => bop + delta + eop;",
                "\n}"
            ],
            "metadata": {},
            "execution_count": 0,
            "outputs": []
        },
        {
            "cell_type": "markdown",
            "source": [
                "<a name=\"ifrs-17-financial-performance\"></a>",
                "\n# IFRS 17 Financial Performance"
            ],
            "metadata": {},
            "execution_count": 0,
            "outputs": []
        },
        {
            "cell_type": "markdown",
            "source": [
                "The IFRS 17 Financial Performance aims at disclosing the deltas (i.e. difference between EoP and BoP, or the Change in Estimate) of the IFRS 17 Balance Sheet items (LRC, LIC) and the relevant incurred cash flows (Premiums, Claims, Expenses, etc...) for the given period.",
                "\n",
                "\nIn addition, the IFRS 17 Financial Performance must split the results into at least 4 distinct sections:",
                "\n - Insurance Revenue ($IR$)",
                "\n - Insurance Service Expense ($ISE$)",
                "\n - Insurance Finance Income/Expense ($IFIE$)",
                "\n - Other Comprehensive Income ($OCI$)",
                "\n",
                "\nThese can be structured in a hierarchy, such that aggregation and intermediate results can be shown separately.",
                "\nAlso the granularity for some relevant items (e.g. Gross LRC vs Reinsurance LRC) must be split into the different sections, as the notion of Insurance Revenue and Insurance Service Expense must be consistent.",
                "\n",
                "\nThe overall formulas for each of the sections above are as follows:",
                "\n$$",
                "\n\\begin{array}{rl}",
                "\nIR =& -\\Delta \\text{ Gross Non-Financial LRC } - \\text{ Incurred Incoming Cash flows } - \\text{ Claims Investment Component } + \\text{ Amortization of the Insurance Acquisition Cash flows} - \\text{ Experience Adjustment On Premium }",
                "\n\\\\",
                "\nISE =& -\\Delta \\text{ Reinsurance Non-Financial LRC } - \\Delta \\text{ Non-Financial LIC } - \\Delta \\text{ Loss Component } - \\text{ Incurred Outgoing Cash flows } - \\text{ Amortization of the Insurance Acquisition Cash flows}",
                "\n\\\\",
                "\nIFIE =& -\\Delta \\text{ Financial LRC } - \\Delta \\text{ Financial LIC }",
                "\n\\\\",
                "\nOCI =& \\Delta \\text{ LRC excl. CSM/LC/LoReCo at Valuation Rates } + \\Delta \\text{ LIC at Valuation Rates } - \\Delta \\text{ LRC excl. CSM/LC/LoReCo at Current Rates } - \\Delta \\text{ LIC at Current Rates }",
                "\n\\end{array}",
                "\n$$",
                "\n",
                "\nFor CSM, LC and LoReCo (and implicit Amortization Factors / Coverage Units), the yield curve used is according to the methodology choice (e.g. BBA uses Locked-In rates). ",
                "\n",
                "\nThe Fulfillment Cash flows components for LIC and LRC are discounted using the appropriate yield curve (Locked-In or Current) according to the choice of the OCI option and methodology. We can distinguish 2 cases for the Building Block approach (BBA):",
                "\n - BBA, OCI option ***disabled***: FCF computed using Current rates",
                "\n - BBA, OCI option ***enabled***: FCF computed using Locked-In rates",
                "\n",
                "\nIn the case when the OCI option is disabled, the OCI contribution is zero. Otherwise, we have:",
                "\n",
                "\n$$",
                "\n\\begin{array}{rl}",
                "\nOCI =& \\Delta \\text{ LRC excl. CSM/LC/LoReCo at Locked-In Rates } + \\Delta \\text{ LIC at Locked-In Rates } - \\Delta \\text{ LRC excl. CSM/LC/LoReCo at Current Rates } - \\Delta \\text{ LIC at Current Rates }",
                "\n\\end{array}",
                "\n$$",
                "\n",
                "\nUsually, some more details on the items above are desired (e.g. separating the LRC into its components FCF, RA, CSM/LC or explicitly showing the CSM Amortization vs. other financial/non-financial adjustments to the CSM estimation). These are specific to each implementation and depend on the data granularity (e.g. how the Amount Types, AoC steps are detailed and structured). This level of detail is omitted from the generic documentation presented here, but are implicit to the way each item above is calculated. Nevertheless, this extra granularity is available when the reports are generated and sliced by the corresponding dimensions. "
            ],
            "metadata": {},
            "execution_count": 0,
            "outputs": []
        },
        {
            "cell_type": "markdown",
            "source": [
                "## Fulfillment Cash flows (excluding the Loss Component)"
            ],
            "metadata": {},
            "execution_count": 0,
            "outputs": []
        },
        {
            "cell_type": "markdown",
            "source": [
                "Let us first describe the Balance Sheet items, where we need to disclose the Changes in Estimate in the Financial Performance.",
                "\nAs mentioned, often the LRC and LIC contributions are broken down into smaller parts for disclosure and reconciliation purposes.",
                "\n",
                "\nThe Fulfillment Cashflows (which may include onerous contributions in some interpretations when a Loss Component is defined) contributions to the Financial Performance (Insurance Result and OCI) are detailed below.",
                "\nThe main requisite is to ensure the right mapping of its non-financial and financial components into the appropriate sections of the Financial Performance.",
                "\n",
                "\nFurthermore, we also need to distinguish the Reinsurance contributions to the LRC, as they are considered to be expenses and not revenue.",
                "\nThe OCI contribution is also performed here, as the only contributions to the OCI come from the FCF under the current methodology assumptions.",
                "\nTo all contributions a sign flip is applied. ",
                "\n",
                "\nIn particular: ",
                "\n- Financial component includes the AoC Type Interest Accreation, Yield Curve Update, and Credit Risk Update,",
                "\n- Non-Financial component includes all the remaining AoC Types.",
                "\n- Oci component includes the difference between the movement occured in the period computed applying the discounting with the current yield curve and the discounting with the locked-in yield curve.",
                "\n",
                "\nThe Financial contributions are reported in 'Financial LIC Changes' for a Group of Contract with Liability Type LIC and to 'Financial LRC Changes' for a Group of Contract with Liability Type LRC.",
                "\n<br>The Non Financial contributions are reported in 'Non Financial LIC Changes' for a Group of Contract with Liability Type LIC. For a Group of Contract with Liability Type LRC, they are reported in 'Non-Financial LRC Changes (Exc. CSM Amortization)' for a Group of Insurance Contract and in 'Non-Financial Reinsurance LRC Changes (Exc. LC/LoReCo)' for a Group of Reinsurance Contract.",
                "\n<br>The Oci contributions are reported in the 'Other Comprehensive Income' section under 'Financial LIC Changes' or a Group of Contract with Liability Type LIC and to 'Financial LRC Changes' for a Group of Contract with Liability Type LRC."
            ],
            "metadata": {},
            "execution_count": 0,
            "outputs": []
        },
        {
            "cell_type": "code",
            "source": [
                "public interface FcfChangeInEstimate: IScope<(ReportIdentity Id, CurrencyType CurrencyType), ReportStorage>, IDataCube<ReportVariable> {",
                "\n    private IDataCube<ReportVariable> FcfDeltas => GetScope<Fcf>(Identity).Fcf.Filter((\"VariableType\", \"!BOP\"),(\"VariableType\", \"!EOP\")) +",
                "\n                                                   GetScope<Fcf>(Identity).Fcf.Filter((\"VariableType\", AocTypes.BOP),(\"Novelty\", Novelties.N));",
                "\n    ",
                "\n    private IDataCube<ReportVariable> CurrentFcfDeltas => GetScope<CurrentFcf>(Identity).CurrentFcf.Filter((\"VariableType\", \"!BOP\"),(\"VariableType\", \"!EOP\")) +",
                "\n                                                          GetScope<CurrentFcf>(Identity).CurrentFcf.Filter((\"VariableType\", AocTypes.BOP),(\"Novelty\", Novelties.N));",
                "\n",
                "\n    // Non-Financial Fp",
                "\n    private string variableTypeNonFinancial => Identity.Id switch {",
                "\n            { LiabilityType: LiabilityTypes.LRC, IsReinsurance: false } => \"IR5\",",
                "\n            { LiabilityType: LiabilityTypes.LRC, IsReinsurance: true } => \"ISE10\",",
                "\n            { LiabilityType: LiabilityTypes.LIC } => \"ISE12\"",
                "\n            };",
                "\n    ",
                "\n    private IDataCube<ReportVariable> NonFinancialFcfDeltas => FcfDeltas",
                "\n        .Filter((\"VariableType\", \"!IA\"), (\"VariableType\", \"!YCU\"), (\"VariableType\", \"!CRU\"), (\"VariableType\", \"!FX\"));   ",
                "\n    ",
                "\n    IDataCube<ReportVariable> FpNonFinancial => -1 * NonFinancialFcfDeltas",
                "\n        .AggregateOver(nameof(Novelty), nameof(VariableType))",
                "\n        .SelectToDataCube(rv => rv with { Novelty = Novelties.C, VariableType = variableTypeNonFinancial });    ",
                "\n    ",
                "\n    // Financial Fp",
                "\n    private string variableTypeFpFinancial => Identity.Id switch {",
                "\n            { LiabilityType: LiabilityTypes.LRC } => \"IFIE1\",",
                "\n            { LiabilityType: LiabilityTypes.LIC } => \"IFIE2\",",
                "\n            };",
                "\n    ",
                "\n    // OCI ",
                "\n    private string variableTypeOciFinancial => Identity.Id switch {",
                "\n            { LiabilityType: LiabilityTypes.LRC } => \"OCI1\",",
                "\n            { LiabilityType: LiabilityTypes.LIC } => \"OCI2\",",
                "\n            };",
                "\n    ",
                "\n    private IDataCube<ReportVariable> FinancialFcfDeltas => FcfDeltas.Filter((\"VariableType\", AocTypes.IA)) + ",
                "\n                                                            FcfDeltas.Filter((\"VariableType\", AocTypes.YCU)) +",
                "\n                                                            FcfDeltas.Filter((\"VariableType\", AocTypes.CRU));",
                "\n    ",
                "\n    IDataCube<ReportVariable> FpFx => -1 * FcfDeltas",
                "\n        .Filter((\"VariableType\", AocTypes.FX))",
                "\n        .AggregateOver(nameof(Novelty))",
                "\n        .SelectToDataCube(rv => rv with { Novelty = Novelties.C, VariableType = \"IFIE3\"});",
                "\n    ",
                "\n    IDataCube<ReportVariable> FpFinancial => -1 * FinancialFcfDeltas",
                "\n        .AggregateOver(nameof(Novelty), nameof(VariableType))",
                "\n        .SelectToDataCube(rv => rv with { Novelty = Novelties.C, VariableType = variableTypeFpFinancial});",
                "\n",
                "\n    IDataCube<ReportVariable> OciFx => (FcfDeltas - CurrentFcfDeltas)",
                "\n        .Filter((\"VariableType\", AocTypes.FX))",
                "\n        .AggregateOver(nameof(Novelty))",
                "\n        .SelectToDataCube(rv => rv with { Novelty = Novelties.C, VariableType = \"OCI3\"});",
                "\n",
                "\n    IDataCube<ReportVariable> OciFinancial => (FcfDeltas - CurrentFcfDeltas)",
                "\n        .AggregateOver(nameof(Novelty), nameof(VariableType))",
                "\n        .SelectToDataCube(rv => rv with { Novelty = Novelties.C, VariableType = variableTypeOciFinancial});",
                "\n}"
            ],
            "metadata": {},
            "execution_count": 0,
            "outputs": []
        },
        {
            "cell_type": "markdown",
            "source": [
                "Subsequently, the Contractual Service Margin (CSM), Loss Component (LC) and Loss Recovery Component (LoReCo) are also divided into non-financial and financial components. In addition the corresponding amortization/releases (CSM Amortization, LC Release and LoReCo Release) are also explicitly shown."
            ],
            "metadata": {},
            "execution_count": 0,
            "outputs": []
        },
        {
            "cell_type": "markdown",
            "source": [
                "## Contractual Service Margin (CSM)",
                "\n",
                "\n[CSM](#lrc-technical-margin-csm-lc-loreco) contributes to the 'Insurance Revenue' in the case of a Group of Insurance Contract and to the 'Insurance Service Expense' in the case of a Group of Reinsurance Contract and to the 'Insurance Finance Income/Expense'. To all contributions a sign flip is applied. ",
                "\nIn particular, the CSM figures are separated in three cathegories: ",
                "\n- Amortization (including to AoC Type Amortization),",
                "\n- Financial contributions (including the AoC Types Interest Accreation, Yield Curve Update, and Credit Risk Update),",
                "\n- Non Financial contributions (including all the remaining AoC Types).",
                "\n",
                "\n<br>The Amortization contribution is reported in 'Insurance Revenue' under 'CSM Amortization' or in 'Insurance Service Expense' under 'Reinsurance CSM Amortization' for a Group of Insurance Contract and a Group of Reinsurance Contract, respectively. ",
                "\n<br>The Financial contributions are reported in 'Financial LRC Changes'.",
                "\n<br>The Non Financial contributions are reported in 'Non-Financial LRC Changes (Exc. CSM Amortization)' and 'Non-Financial Reinsurance LRC Changes (Exc. LC/LoReCo)' for a Group of Insurance Contract and a Group of Reinsurance Contract, respectively. "
            ],
            "metadata": {},
            "execution_count": 0,
            "outputs": []
        },
        {
            "cell_type": "code",
            "source": [
                "public interface CsmChangeInEstimate: IScope<(ReportIdentity Id, CurrencyType CurrencyType), ReportStorage>, IDataCube<ReportVariable> {",
                "\n    ",
                "\n    private (string amortization, string nonFinancial) variableType => Identity.Id switch {",
                "\n            { IsReinsurance: false} => (\"IR3\", \"IR5\"),",
                "\n            { IsReinsurance: true } => (\"ISE7\", \"ISE10\")",
                "\n            };",
                "\n    ",
                "\n    private IDataCube<ReportVariable> Csm => GetScope<Csm>(Identity).Csm.Filter((\"VariableType\", \"!BOP\"),(\"VariableType\", \"!EOP\")) +",
                "\n                                             GetScope<Csm>(Identity).Csm.Filter((\"VariableType\", AocTypes.BOP),(\"Novelty\", Novelties.N));",
                "\n    ",
                "\n    IDataCube<ReportVariable> Amortization => -1 * Csm.Filter((\"VariableType\", AocTypes.AM)).SelectToDataCube(v => v with { VariableType = variableType.amortization });",
                "\n    ",
                "\n    IDataCube<ReportVariable> NonFinancialChanges => -1 * Csm",
                "\n        .Filter((\"VariableType\", \"!AM\"), (\"VariableType\", \"!IA\"), (\"VariableType\", \"!YCU\"), (\"VariableType\", \"!CRU\"), (\"VariableType\", \"!FX\"))",
                "\n        .AggregateOver(nameof(Novelty), nameof(VariableType))",
                "\n        .SelectToDataCube(v => v with { Novelty = Novelties.C, VariableType = variableType.nonFinancial });",
                "\n",
                "\n    IDataCube<ReportVariable> Fx => -1 * Csm.Filter((\"VariableType\", AocTypes.FX))",
                "\n        .AggregateOver(nameof(Novelty))",
                "\n        .SelectToDataCube(v => v with { Novelty = Novelties.C, VariableType = \"IFIE3\" });",
                "\n",
                "\n    IDataCube<ReportVariable> FinancialChanges => -1 * (Csm.Filter((\"VariableType\", AocTypes.IA)) +",
                "\n                                                        Csm.Filter((\"VariableType\", AocTypes.YCU)) +",
                "\n                                                        Csm.Filter((\"VariableType\", AocTypes.CRU)) )",
                "\n        .AggregateOver(nameof(Novelty), nameof(VariableType))",
                "\n        .SelectToDataCube(v => v with { Novelty = Novelties.C, VariableType = \"IFIE1\" });",
                "\n}"
            ],
            "metadata": {},
            "execution_count": 0,
            "outputs": []
        },
        {
            "cell_type": "markdown",
            "source": [
                "## Loss Component (LC)",
                "\n",
                "\nLC contributes to the 'Insurance Service Expense' and to the 'Insurance Finance Income/Expense'. To all contributions a sign flip is applied. ",
                "\nIn particular, the LC figures  are separated in three cathegories: ",
                "\n- Amortization (including to AoC Type Amortization),",
                "\n- Financial contributions (including the AoC Types Interest Accreation, Yield Curve Update, and Credit Risk Update),",
                "\n- Non Financial contributions (including all the remaining AoC Types).",
                "\n",
                "\n<br>The Amortization contribution is reported in 'Loss Component Release'.",
                "\n<br>The Financial contributions are reported in 'Financial LRC Changes'.",
                "\n<br>The Non Financial contributions are reported in 'Loss Component / LoReCo Changes (Exc. Releases)'."
            ],
            "metadata": {},
            "execution_count": 0,
            "outputs": []
        },
        {
            "cell_type": "code",
            "source": [
                "public interface LcChangeInEstimate: IScope<(ReportIdentity Id, CurrencyType CurrencyType), ReportStorage>, IDataCube<ReportVariable> {",
                "\n    ",
                "\n    private IDataCube<ReportVariable> Lc => GetScope<Lc>(Identity).Lc.Filter((\"VariableType\", \"!BOP\"),(\"VariableType\", \"!EOP\")) +",
                "\n                                            GetScope<Lc>(Identity).Lc.Filter((\"VariableType\", AocTypes.BOP),(\"Novelty\", Novelties.N));",
                "\n    ",
                "\n    IDataCube<ReportVariable> Amortization => -1 * Lc.Filter((\"VariableType\", AocTypes.AM)).SelectToDataCube(v => v with { VariableType = \"ISE9\" });",
                "\n    ",
                "\n    IDataCube<ReportVariable> NonFinancialChanges => -1 * Lc",
                "\n        .Filter((\"VariableType\", \"!AM\"), (\"VariableType\", \"!IA\"), (\"VariableType\", \"!YCU\"), (\"VariableType\", \"!CRU\"), (\"VariableType\", \"!FX\"))",
                "\n        .AggregateOver(nameof(Novelty), nameof(VariableType))",
                "\n        .SelectToDataCube(v => v with { Novelty = Novelties.C, VariableType = \"ISE11\" });",
                "\n    ",
                "\n    IDataCube<ReportVariable> Fx => -1 * Lc.Filter((\"VariableType\", AocTypes.FX))",
                "\n        .AggregateOver(nameof(Novelty))",
                "\n        .SelectToDataCube(v => v with { VariableType = \"IFIE3\" });",
                "\n",
                "\n    IDataCube<ReportVariable> FinancialChanges => -1 * (Lc.Filter((\"VariableType\", AocTypes.IA)) +",
                "\n                                                        Lc.Filter((\"VariableType\", AocTypes.YCU)) +",
                "\n                                                        Lc.Filter((\"VariableType\", AocTypes.CRU)) )",
                "\n        .AggregateOver(nameof(Novelty), nameof(VariableType))",
                "\n        .SelectToDataCube(v => v with { Novelty = Novelties.C, VariableType = \"IFIE1\" });",
                "\n}"
            ],
            "metadata": {},
            "execution_count": 0,
            "outputs": []
        },
        {
            "cell_type": "markdown",
            "source": [
                "## Loss Recovery Component (LoReCo)",
                "\n",
                "\nLoReCo contributes to the 'Insurance Service Expense' and to the 'Insurance Finance Income/Expense'. To all contributions a sign flip is applied. ",
                "\nIn particular, the LoReCo figures  are separated in three cathegories: ",
                "\n- Amortization (including to AoC Type Amortization),",
                "\n- Financial contributions (including the AoC Types Interest Accreation, Yield Curve Update, and Credit Risk Update),",
                "\n- Non Financial contributions (including all the remaining AoC Types).",
                "\n",
                "\n<br>The Amortization contribution is reported in 'LoReCo Release'.",
                "\n<br>The Financial contributions are reported in 'Financial LRC Changes'.",
                "\n<br>The Non Financial contributions are reported in 'Loss Component / LoReCo Changes (Exc. Releases)'."
            ],
            "metadata": {},
            "execution_count": 0,
            "outputs": []
        },
        {
            "cell_type": "code",
            "source": [
                "public interface LorecoChangeInEstimate: IScope<(ReportIdentity Id, CurrencyType CurrencyType), ReportStorage>, IDataCube<ReportVariable> {",
                "\n    ",
                "\n    private IDataCube<ReportVariable> Loreco => GetScope<Loreco>(Identity).Loreco.Filter((\"VariableType\", \"!BOP\"),(\"VariableType\", \"!EOP\")) +",
                "\n                                                GetScope<Loreco>(Identity).Loreco.Filter((\"VariableType\", AocTypes.BOP),(\"Novelty\", Novelties.N));",
                "\n    ",
                "\n    IDataCube<ReportVariable> Amortization => -1 * Loreco.Filter((\"VariableType\", AocTypes.AM)).SelectToDataCube(v => v with { VariableType = \"ISE8\" });",
                "\n    ",
                "\n    IDataCube<ReportVariable> NonFinancialChanges => -1 * Loreco",
                "\n        .Filter((\"VariableType\", \"!AM\"), (\"VariableType\", \"!IA\"), (\"VariableType\", \"!YCU\"), (\"VariableType\", \"!CRU\"), (\"VariableType\", \"!FX\"))",
                "\n        .AggregateOver(nameof(Novelty), nameof(VariableType))",
                "\n        .SelectToDataCube(v => v with { Novelty = Novelties.C, VariableType = \"ISE11\" });",
                "\n    ",
                "\n    IDataCube<ReportVariable> Fx => -1 * Loreco.Filter((\"VariableType\", AocTypes.FX))",
                "\n        .AggregateOver(nameof(Novelty))",
                "\n        .SelectToDataCube(v => v with { VariableType = \"IFIE3\" });",
                "\n",
                "\n    IDataCube<ReportVariable> FinancialChanges => -1 * (Loreco.Filter((\"VariableType\", AocTypes.IA)) +",
                "\n                                                        Loreco.Filter((\"VariableType\", AocTypes.YCU)) +",
                "\n                                                        Loreco.Filter((\"VariableType\", AocTypes.CRU)) )",
                "\n        .AggregateOver(nameof(Novelty), nameof(VariableType))",
                "\n        .SelectToDataCube(v => v with { Novelty = Novelties.C, VariableType = \"IFIE1\" });",
                "\n}"
            ],
            "metadata": {},
            "execution_count": 0,
            "outputs": []
        },
        {
            "cell_type": "markdown",
            "source": [
                "## Incurred Actuals"
            ],
            "metadata": {},
            "execution_count": 0,
            "outputs": []
        },
        {
            "cell_type": "markdown",
            "source": [
                "After the main Balance Sheet items, we need to disclose the Incurred Cash flows (i.e. Effective Actuals) for the period in the Financial Performance (which takes into consideration Write-Off on Accruals).",
                "\nAs another requirement, we exclude any investment components explicitly.",
                "\n",
                "\nThese contributions are splitted by Amount Type to the following sections:",
                "\n- Premiums contributions are reported under 'Insurance Revenue' in 'Premiums' section or in 'Insurance Service Expense' under 'Reinsurance Premiums' for a Group of Insurance Contract and a Group of Reinsurance Contract, respectively,",
                "\n- Claims Non-Investment Component contributions are reported under 'Insurance Revenue' in 'Claims' section,",
                "\n- Claims Investment Component contributions are reported under 'Insurance Service Expense' in 'Acquisition Expenses' section and under 'Insurance Revenue' in 'Exc. Investment Components' section with a sign change,",
                "\n- Expenses contributions are reported under 'Insurance Service Expense' in 'Expenses' section,",
                "\n- Commissions contributions are reported under 'Insurance Service Expense' in 'Commissions' section."
            ],
            "metadata": {},
            "execution_count": 0,
            "outputs": []
        },
        {
            "cell_type": "code",
            "source": [
                "public interface IncurredActuals: IScope<(ReportIdentity Id, CurrencyType CurrencyType), ReportStorage>, IDataCube<ReportVariable> {",
                "\n    private IDataCube<ReportVariable> WrittenCashflow => GetScope<WrittenAndAccruals>(Identity).Written.Filter((\"VariableType\", \"CF\"));",
                "\n    private IDataCube<ReportVariable> AdvanceWriteOff => GetScope<WrittenAndAccruals>(Identity).Advance.Filter((\"VariableType\", \"WO\"));",
                "\n    private IDataCube<ReportVariable> OverdueWriteOff => GetScope<WrittenAndAccruals>(Identity).Overdue.Filter((\"VariableType\", \"WO\"));",
                "\n    private IDataCube<ReportVariable> EffectiveActuals => WrittenCashflow -1 * (AdvanceWriteOff + OverdueWriteOff);",
                "\n    ",
                "\n    private string premiumsVariableType => Identity.Id switch {",
                "\n            { IsReinsurance: false} => \"IR1\",",
                "\n            { IsReinsurance: true } => \"ISE1\"",
                "\n            }; ",
                "\n    ",
                "\n    IDataCube<ReportVariable> Premiums => EffectiveActuals",
                "\n        .Where(x => GetStorage().GetHierarchy<AmountType>().Ancestors(x.AmountType, includeSelf: true).Any(x => x.SystemName == AmountTypes.PR))",
                "\n        .SelectToDataCube(v => v with { Novelty = Novelties.C, VariableType = premiumsVariableType });",
                "\n    ",
                "\n    IDataCube<ReportVariable> ClaimsNic => EffectiveActuals",
                "\n        .Where(x => GetStorage().GetHierarchy<AmountType>().Ancestors(x.AmountType, includeSelf: true).Any(x => x.SystemName == AmountTypes.NIC))",
                "\n        .SelectToDataCube(v => v with { Novelty = Novelties.C, VariableType = \"ISE2\" });",
                "\n    ",
                "\n    private IDataCube<ReportVariable> ClaimsIco => EffectiveActuals",
                "\n        .Where(x => GetStorage().GetHierarchy<AmountType>().Ancestors(x.AmountType, includeSelf: true).Any(x => x.SystemName == AmountTypes.ICO)).ToDataCube();",
                "\n    ",
                "\n    IDataCube<ReportVariable> ClaimsIcoToIr => ClaimsIco.SelectToDataCube(v => v with { Novelty = Novelties.C, VariableType = \"IR2\" });",
                "\n    IDataCube<ReportVariable> ClaimsIcoToIse => (-1 * ClaimsIco).SelectToDataCube(v => v with { Novelty = Novelties.C, VariableType = \"ISE5\" });",
                "\n    ",
                "\n    IDataCube<ReportVariable> Expenses => EffectiveActuals",
                "\n        .Where(x => GetStorage().GetHierarchy<AmountType>().Ancestors(x.AmountType, includeSelf: true).Any(x => x.SystemName == AmountTypes.AE))",
                "\n        .SelectToDataCube(v => v with { Novelty = Novelties.C, VariableType = \"ISE3\" });",
                "\n",
                "\n    IDataCube<ReportVariable> Commissions => EffectiveActuals",
                "\n        .Where(x => GetStorage().GetHierarchy<AmountType>().Ancestors(x.AmountType, includeSelf: true).Any(x => x.SystemName == AmountTypes.AC))",
                "\n        .SelectToDataCube(v => v with { Novelty = Novelties.C, VariableType = \"ISE4\" });",
                "\n}"
            ],
            "metadata": {},
            "execution_count": 0,
            "outputs": []
        },
        {
            "cell_type": "markdown",
            "source": [
                "## Incurred Deferrals and Acquisition Expenses"
            ],
            "metadata": {},
            "execution_count": 0,
            "outputs": []
        },
        {
            "cell_type": "markdown",
            "source": [
                "The next item are the Deferrals, where the Amortization is the only contribution explicitly shown, but these do not have any direct impact on the Financial Performance under the current methodology assumptions. The Amortization contribution is here considered with its sign changed. This contribution is allocated under 'Insurance Service Expense' in 'Acquisition Expenses' section and under 'Insurance Revenue' in 'Acquistion Expenses Amortization' section with a sign change. "
            ],
            "metadata": {},
            "execution_count": 0,
            "outputs": []
        },
        {
            "cell_type": "code",
            "source": [
                "public interface IncurredDeferrals: IScope<(ReportIdentity Id, CurrencyType CurrencyType), ReportStorage>, IDataCube<ReportVariable> {",
                "\n    private IDataCube<ReportVariable> Deferrals => GetScope<Deferrals>(Identity).Filter((\"VariableType\", \"!BOP\"),(\"VariableType\", \"!EOP\"));",
                "\n        ",
                "\n    private IDataCube<ReportVariable> Amortization => -1 * Deferrals",
                "\n        .Filter((\"VariableType\", AocTypes.AM));",
                "\n    ",
                "\n    IDataCube<ReportVariable> AmortizationToIr => (-1 * Amortization).SelectToDataCube(v => v with { Novelty = Novelties.C, VariableType = \"IR4\" });",
                "\n    IDataCube<ReportVariable> AmortizationToIse => Amortization.SelectToDataCube(v => v with { Novelty = Novelties.C, VariableType = \"ISE6\" });",
                "\n}"
            ],
            "metadata": {},
            "execution_count": 0,
            "outputs": []
        },
        {
            "cell_type": "markdown",
            "source": [
                "## Experience Adjustment on Premium (allocation to CSM vs P&L recognition)"
            ],
            "metadata": {},
            "execution_count": 0,
            "outputs": []
        },
        {
            "cell_type": "markdown",
            "source": [
                "The figures disclosed in the Financial Performance as described above consider full Premiums for past, current and future services (for Best Estimate and Actuals).",
                "\nHowever, we applied the Premium Allocation factor in the CSM computations to adjust for the experience. To correct this, we need to exclude the Experience Adjustment on Premium part in the Financial Performance to avoid double counting and it is allocated under 'Insurance Revenue' in the 'Exc. Experience Adjustment on Premiums' section."
            ],
            "metadata": {},
            "execution_count": 0,
            "outputs": []
        },
        {
            "cell_type": "code",
            "source": [
                "public interface ExperienceAdjustmentOnPremium: IScope<(ReportIdentity Id, CurrencyType CurrencyType), ReportStorage>, IDataCube<ReportVariable> {",
                "\n    private IDataCube<ReportVariable> WrittenPremiumToCsm => -1 * GetScope<FxData>((Identity.Id, Identity.CurrencyType, EstimateTypes.APA)).FxData;",
                "\n    private IDataCube<ReportVariable> BestEstimatePremiumToCsm => -1 * GetScope<FxData>((Identity.Id, Identity.CurrencyType, EstimateTypes.BEPA)).FxData;",
                "\n        ",
                "\n    IDataCube<ReportVariable> ExperienceAdjustmentOnPremium => (WrittenPremiumToCsm - BestEstimatePremiumToCsm)",
                "\n        .AggregateOver(nameof(Novelty), nameof(VariableType))",
                "\n        .SelectToDataCube(v => v with { Novelty = Novelties.C, VariableType = \"IR6\" });",
                "\n}"
            ],
            "metadata": {},
            "execution_count": 0,
            "outputs": []
        },
        {
            "cell_type": "markdown",
            "source": [
                "## Financial Performance"
            ],
            "metadata": {},
            "execution_count": 0,
            "outputs": []
        },
        {
            "cell_type": "markdown",
            "source": [
                "As the last step, all the contributions above are calculated and combined into the Financial Performance, which will be used to generate the final report."
            ],
            "metadata": {},
            "execution_count": 0,
            "outputs": []
        },
        {
            "cell_type": "code",
            "source": [
                "public interface FinancialPerformance: IScope<(ReportIdentity Id, CurrencyType CurrencyType), ReportStorage>, IDataCube<ReportVariable> {",
                "\n    ",
                "\n    private IDataCube<ReportVariable> FcfChangeInEstimate => GetScope<FcfChangeInEstimate>(Identity);",
                "\n    private IDataCube<ReportVariable> CsmChangeInEstimate => GetScope<CsmChangeInEstimate>(Identity);",
                "\n    private IDataCube<ReportVariable> LcChangeInEstimate => GetScope<LcChangeInEstimate>(Identity);",
                "\n    private IDataCube<ReportVariable> LorecoChangeInEstimate => GetScope<LorecoChangeInEstimate>(Identity);",
                "\n    private IDataCube<ReportVariable> IncurredActuals => GetScope<IncurredActuals>(Identity);",
                "\n    private IDataCube<ReportVariable> IncurredDeferrals => GetScope<IncurredDeferrals>(Identity);",
                "\n    private IDataCube<ReportVariable> ExperienceAdjustmentOnPremium => GetScope<ExperienceAdjustmentOnPremium>(Identity);",
                "\n    ",
                "\n    IDataCube<ReportVariable> FinancialPerformance => FcfChangeInEstimate + CsmChangeInEstimate + LcChangeInEstimate + LorecoChangeInEstimate + IncurredActuals + IncurredDeferrals + ExperienceAdjustmentOnPremium;",
                "\n}"
            ],
            "metadata": {},
            "execution_count": 0,
            "outputs": []
        },
        {
            "cell_type": "code",
            "source": [
                ""
            ],
            "metadata": {},
            "execution_count": 0,
            "outputs": []
        }
    ]
}