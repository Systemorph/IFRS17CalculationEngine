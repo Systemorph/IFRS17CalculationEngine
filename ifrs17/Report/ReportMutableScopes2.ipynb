{
    "metadata": {
        "authors": [],
        "kernelspec": {
            "display_name": "Formula Framework",
            "language": "C#",
            "name": "C#"
        },
        "language_info": {
            "file_extension": ".cs",
            "mimetype": "text/plain",
            "name": "C#"
        }
    },
    "nbformat": 4,
    "nbformat_minor": 5,
    "cells": [
        {
            "cell_type": "markdown",
            "source": [
                "<a id='report-mutable-scopes'></a>",
                "\n<p style=\"font-weight:bold;\"> <span style=\"font-size: 36px\"> Report Mutable Scopes</span> </p>"
            ],
            "metadata": {},
            "execution_count": 0,
            "outputs": []
        },
        {
            "cell_type": "markdown",
            "source": [
                "This notebook contains the set up of mutable scopes used to achieve high interactivity with reports."
            ],
            "metadata": {},
            "execution_count": 0,
            "outputs": []
        },
        {
            "cell_type": "markdown",
            "source": [
                "# References",
                "\nLibraries and other notebooks which are needed for this notebook are imported below."
            ],
            "metadata": {},
            "execution_count": 0,
            "outputs": []
        },
        {
            "cell_type": "code",
            "source": [
                "#!import \"ReportScopes\""
            ],
            "metadata": {},
            "execution_count": 0,
            "outputs": []
        },
        {
            "cell_type": "markdown",
            "source": [
                "# Form Entity Scopes"
            ],
            "metadata": {},
            "execution_count": 0,
            "outputs": []
        },
        {
            "cell_type": "markdown",
            "source": [
                "## Helper Scopes"
            ],
            "metadata": {},
            "execution_count": 0,
            "outputs": []
        },
        {
            "cell_type": "code",
            "source": [
                "public interface MutableScopeWithWorkspace : IMutableScopeWithStorage<ReportStorage> {",
                "\n    protected IWorkspace workspace => GetStorage().Workspace;   ",
                "\n}"
            ],
            "metadata": {},
            "execution_count": 0,
            "outputs": []
        },
        {
            "cell_type": "markdown",
            "source": [
                "## Currency Type"
            ],
            "metadata": {},
            "execution_count": 0,
            "outputs": []
        },
        {
            "cell_type": "code",
            "source": [
                "public interface CurrencyFormsEntity : IMutableScope {",
                "\n    [DropdownEnum(typeof(CurrencyType))]",
                "\n    CurrencyType CurrencyType { get; set; } ",
                "\n}"
            ],
            "metadata": {},
            "execution_count": 0,
            "outputs": []
        },
        {
            "cell_type": "markdown",
            "source": [
                "## Scenario"
            ],
            "metadata": {},
            "execution_count": 0,
            "outputs": []
        },
        {
            "cell_type": "code",
            "source": [
                "public interface ScenarioFormsEntity : MutableScopeWithWorkspace {",
                "\n    [DropdownMethod(nameof(GetScenarioAutocompleteAsync))]",
                "\n    [Display(Name = \"Scenario\")]",
                "\n    string ScenarioControl { get; set; }",
                "\n",
                "\n    [NotVisible] IDictionary<string, string> ScenarioMapping { get; set; }",
                "\n    protected string Scenario => !string.IsNullOrWhiteSpace(ScenarioControl) && ScenarioMapping is not null && ScenarioMapping.TryGetValue(ScenarioControl, out var value) ? value : null;",
                "\n    ",
                "\n    async Task<IReadOnlyCollection<string>> GetScenarioAutocompleteAsync(string userInput, int page, int pageSize) {",
                "\n        (ScenarioMapping, var orderedDropDownValues) = await workspace.GetAutocompleteMappings<Scenario>(true);",
                "\n        return orderedDropDownValues.Where(x => userInput == null || x.Contains(userInput, StringComparison.OrdinalIgnoreCase)).ToArray(); ",
                "\n    } ",
                "\n}"
            ],
            "metadata": {},
            "execution_count": 0,
            "outputs": []
        },
        {
            "cell_type": "markdown",
            "source": [
                "## Reporting Node"
            ],
            "metadata": {},
            "execution_count": 0,
            "outputs": []
        },
        {
            "cell_type": "code",
            "source": [
                "[InitializeScope(nameof(InitReportingNode))]",
                "\npublic interface ReportingNodeFormsEntity : MutableScopeWithWorkspace {",
                "\n    [DropdownMethod(nameof(GetReportingNodeAutocompleteAsync))]",
                "\n    [Display(Name = \"ReportingNode\")]",
                "\n    string ReportingNodeControl { get; set; }",
                "\n",
                "\n    [NotVisible] IDictionary<string, string>  ReportingNodeMapping { get; set; }",
                "\n    protected string ReportingNode => !string.IsNullOrWhiteSpace(ReportingNodeControl) && ReportingNodeMapping is not null && ReportingNodeMapping.TryGetValue( ReportingNodeControl, out var value)",
                "\n        ? value",
                "\n        : GetStorage().InitialReportingNode.SystemName; // Maybe these cases can be more specific",
                "\n",
                "\n    async Task<IReadOnlyCollection<string>> GetReportingNodeAutocompleteAsync(string userInput, int page, int pageSize) {",
                "\n        (ReportingNodeMapping, var orderedDropDownValues) = await workspace.GetAutocompleteMappings<ReportingNode>();",
                "\n        return orderedDropDownValues.Where(x => userInput == null || x.Contains(userInput, StringComparison.OrdinalIgnoreCase)).ToArray(); ",
                "\n    }",
                "\n",
                "\n    async void InitReportingNode() {",
                "\n        ReportingNodeControl = GetStorage().InitialReportingNode.DisplayName;",
                "\n    }",
                "\n}"
            ],
            "metadata": {},
            "execution_count": 0,
            "outputs": []
        },
        {
            "cell_type": "markdown",
            "source": [
                "## Reporting Period"
            ],
            "metadata": {},
            "execution_count": 0,
            "outputs": []
        },
        {
            "cell_type": "markdown",
            "source": [
                "### Monthly Period"
            ],
            "metadata": {},
            "execution_count": 0,
            "outputs": []
        },
        {
            "cell_type": "code",
            "source": [
                "[InitializeScope(nameof(InitReportingPeriod))]",
                "\npublic interface MonthlyPeriodFormsEntity : MutableScopeWithWorkspace {",
                "\n    [DropdownMethod(nameof(GetReportingPeriodAutocompleteAsync))]",
                "\n    string ReportingPeriod { get; set; }",
                "\n",
                "\n    private char separator => 'M';",
                "\n    private string[] ReportingPeriodSplit => ReportingPeriod.Split(separator);",
                "\n    private int ParseReportingPeriod(int index) => !string.IsNullOrWhiteSpace(ReportingPeriod) && ReportingPeriodSplit is not null && Int32.TryParse(ReportingPeriodSplit.ElementAtOrDefault(index), out int value)",
                "\n        ? value",
                "\n        : default;",
                "\n",
                "\n    protected int Year => ParseReportingPeriod(0);",
                "\n    protected int Month => ParseReportingPeriod(1);",
                "\n",
                "\n    async Task<IReadOnlyCollection<string>> GetReportingPeriodAutocompleteAsync(string userInput, int page, int pageSize) => ",
                "\n        await workspace.Query<PartitionByReportingNodeAndPeriod>()",
                "\n            .Where(x => x.Scenario == null)",
                "\n            .OrderByDescending(x => x.Year)",
                "\n            .ThenByDescending(x => x.Month)",
                "\n            .Select(x => ParseReportingPeriodToDisplayString(x.Year, x.Month, separator))",
                "\n            .Where(x => userInput == null || x.Contains(userInput, StringComparison.OrdinalIgnoreCase))",
                "\n            .ToArrayAsync();",
                "\n",
                "\n    async void InitReportingPeriod() {",
                "\n        ReportingPeriod = ParseReportingPeriodToDisplayString(GetStorage().InitialReportingPeriod.Year, GetStorage().InitialReportingPeriod.Month, separator);",
                "\n    }",
                "\n}"
            ],
            "metadata": {},
            "execution_count": 0,
            "outputs": []
        },
        {
            "cell_type": "markdown",
            "source": [
                "## Filters"
            ],
            "metadata": {},
            "execution_count": 0,
            "outputs": []
        },
        {
            "cell_type": "code",
            "source": [
                "public interface BasicFilterFormsEntity : MutableScopeWithWorkspace {",
                "\n    [DropdownValues(\"\", \"GroupOfContract\", \"Novelty\", \"EconomicBasis\")]",
                "\n    string FilterName { get; set; }",
                "\n",
                "\n    [DropdownMethod(nameof(GetBasicFilterAsync))]",
                "\n    string FilterValue { get; set; }",
                "\n",
                "\n    [DropdownValues(\"\", \"Add\", \"Remove\")]",
                "\n    string FilterAction { get; set; }",
                "\n    ",
                "\n    async Task<IReadOnlyCollection<string>> GetBasicFilterAsync(string userInput, int page, int pageSize) =>",
                "\n        new string[]{ null }.Concat(",
                "\n            await (FilterName switch",
                "\n            {",
                "\n                \"GroupOfContract\" => workspace.Query<DataNode>().Select(x => x.SystemName),",
                "\n                \"Novelty\" => workspace.Query<Novelty>().Select(x => x.SystemName),",
                "\n                \"EconomicBasis\" => workspace.Query<EconomicBasis>().Select(x => x.SystemName),",
                "\n                _ => Enumerable.Empty<string>().AsQueryable()",
                "\n            }) .Where(x => userInput == null || x.Contains(userInput, StringComparison.OrdinalIgnoreCase)).OrderBy(x => x).ToArrayAsync()).ToArray();",
                "\n        ",
                "\n    [NotVisible] IReadOnlyCollection<(string filterName, string filterValue)> InputDataFilter { get; set; }",
                "\n    ",
                "\n    // This is just a cast... do we need this?",
                "\n    protected (string filterName, object filterValue)[] dataFilter => (InputDataFilter is null ? Enumerable.Empty<(string, object)>() : InputDataFilter.Select(x => (x.filterName, (object)x.filterValue))).ToArray();",
                "\n",
                "\n    IReadOnlyCollection<(string filterName, string filterValue)> GetFilters()",
                "\n    {",
                "\n        if(FilterAction == \"Add\")",
                "\n            AddFilter(FilterName, FilterValue);",
                "\n        if(FilterAction == \"Remove\")",
                "\n            RemoveFilter(FilterName, FilterValue);",
                "\n        return InputDataFilter;",
                "\n    }",
                "\n",
                "\n    private void AddFilter(string filterName, string filterValue)",
                "\n    {",
                "\n        if(InputDataFilter == null)",
                "\n            InputDataFilter = Enumerable.Empty<(string, string)>().ToArray();",
                "\n        if(!InputDataFilter.Contains((filterName, filterValue)))",
                "\n            InputDataFilter = InputDataFilter.Append((filterName, filterValue)).ToArray();",
                "\n    }",
                "\n    ",
                "\n    private void RemoveFilter(string filterName, string filterValue)",
                "\n    {",
                "\n        if(InputDataFilter != null && InputDataFilter.Contains((filterName, filterValue)))",
                "\n        {   var f = InputDataFilter.ToList();",
                "\n            f.Remove((filterName, filterValue));",
                "\n            InputDataFilter = f.ToArray();",
                "\n        }",
                "\n    }",
                "\n}"
            ],
            "metadata": {},
            "execution_count": 0,
            "outputs": []
        },
        {
            "cell_type": "markdown",
            "source": [
                "## Slice and Dice"
            ],
            "metadata": {},
            "execution_count": 0,
            "outputs": []
        },
        {
            "cell_type": "code",
            "source": [
                "public interface BasicSliceAndDiceFormsEntity : MutableScopeWithWorkspace {",
                "\n    [DropdownValues(\"\", \"GroupOfContract\")]",
                "\n    string SliceRowName { get; set; }",
                "\n",
                "\n    [DropdownMethod(nameof(GetSliceColumnNameAutocomplete))]",
                "\n    string SliceColumnName { get; set; }",
                "\n",
                "\n    protected IReadOnlyCollection<string> InputRowSlices => (SliceRowName is null ? Enumerable.Empty<string>() : SliceRowName.RepeatOnce()).ToArray();",
                "\n    [NotVisible] IReadOnlyCollection<string> defaultRowSlices { get; set; }",
                "\n    protected string[] rowSlices => defaultRowSlices.Union(InputRowSlices).ToArray();",
                "\n",
                "\n    protected IReadOnlyCollection<string> InputColumnSlices => (SliceColumnName is null ? Enumerable.Empty<string>() : SliceColumnName.RepeatOnce()).ToArray();",
                "\n    [NotVisible] IReadOnlyCollection<string> defaultColumnSlices { get; set; }",
                "\n    protected string[] columnSlices => defaultColumnSlices.Union(InputColumnSlices).ToArray();",
                "\n",
                "\n    IReadOnlyCollection<string> GetSliceColumnNameAutocomplete() => new [] {\"\", \"GroupOfContract\", \"AmountType\"};",
                "\n}"
            ],
            "metadata": {},
            "execution_count": 0,
            "outputs": []
        },
        {
            "cell_type": "markdown",
            "source": [
                "# Report Scopes"
            ],
            "metadata": {},
            "execution_count": 0,
            "outputs": []
        },
        {
            "cell_type": "code",
            "source": [
                "[InitializeScope(nameof(InitReportStorageScopeAsync))]",
                "\npublic interface ReportScope : IMutableScope<string>, ReportingNodeFormsEntity, MonthlyPeriodFormsEntity, ScenarioFormsEntity, CurrencyFormsEntity, BasicSliceAndDiceFormsEntity, BasicFilterFormsEntity {",
                "\n    protected Systemorph.Vertex.Pivot.Builder.Interfaces.IPivotFactory report => GetStorage().Report;",
                "\n    protected int headerColumnWidthValue => 250;",
                "\n",
                "\n    HashSet<(ReportIdentity, CurrencyType)> GetDataIdentities() => GetStorage().GetIdentities((Year, Month), ReportingNode, Scenario, CurrencyType); // TODO, add filter for identities, if the property is exposed at this level",
                "\n    IDataCube<ReportVariable> GetDataCube(IDataCube<ReportVariable> data) => InputDataFilter == null ? data : data.Filter(dataFilter);",
                "\n       ",
                "\n    async Task<GridOptions> GetReportTaskAsync(IDataCube<ReportVariable> data) {",
                "\n        return await report.ForDataCube(data)",
                "\n            .WithQuerySource(workspace)",
                "\n            .SliceRowsBy(rowSlices)",
                "\n            .SliceColumnsBy(columnSlices)",
                "\n            .ReportGridOptions(headerColumnWidth: headerColumnWidthValue)",
                "\n            .ExecuteAsync();",
                "\n    }",
                "\n",
                "\n    async Task InitReportStorageScopeAsync() { // This has the Async issue, but imo it should come in the future",
                "\n       await GetStorage().InitializeReportIndependentCacheAsync();",
                "\n    }",
                "\n}"
            ],
            "metadata": {},
            "execution_count": 0,
            "outputs": []
        },
        {
            "cell_type": "code",
            "source": [
                "public interface Data : IMutableScope<((int year, int month) reportingPeriod, string reportingNode, string scenario, CurrencyType currencyType, (string filterName, object filterValue)[] dataFilter)> {",
                "\n    IDataCube<ReportVariable> DataCube { get; set; }",
                "\n    ",
                "\n    IDataCube<ReportVariable> Cube { get {",
                "\n        if(DataCube is null) return Enumerable.Empty<ReportVariable>().ToDataCube();",
                "\n",
                "\n        if(Identity.scenario != \"Delta\") return DataCube;",
                "\n        var bestEstimateById = DataCube.Where(x => x.Scenario == null).ToDictionary(x => x.ToIdentityString());",
                "\n        return DataCube.Select(x => x.Scenario == null ? x : x with { Value = x.Value - (bestEstimateById.TryGetValue((x with {Scenario = null}).ToIdentityString(), out var be)? be.Value : 0d) }).ToDataCube();",
                "\n    }}",
                "\n} "
            ],
            "metadata": {},
            "execution_count": 0,
            "outputs": []
        },
        {
            "cell_type": "markdown",
            "source": [
                "# Report Scopes"
            ],
            "metadata": {},
            "execution_count": 0,
            "outputs": []
        },
        {
            "cell_type": "markdown",
            "source": [
                "## Best Estimate PV"
            ],
            "metadata": {},
            "execution_count": 0,
            "outputs": []
        },
        {
            "cell_type": "code",
            "source": [
                "[InitializeScope(nameof(Init))]",
                "\npublic interface PvReport : ReportScope {",
                "\n",
                "\n    public IDataCube<ReportVariable> GetData() => GetScopes<LockedBestEstimate>(GetDataIdentities()).Aggregate().LockedBestEstimate + GetScopes<CurrentBestEstimate>(GetDataIdentities()).Aggregate().CurrentBestEstimate;",
                "\n",
                "\n    async Task<GridOptions> ToReportAsync() {",
                "\n        await GetStorage().InitializeAsync((Year, Month), ReportingNode, Scenario, CurrencyType);",
                "\n        var dataScope = GetScope<Data>(((Year, Month), ReportingNode, Scenario, CurrencyType, dataFilter));",
                "\n        dataScope.DataCube = GetData();",
                "\n        return await GetReportTaskAsync(dataScope.DataCube);",
                "\n        return await GetReportTaskAsync(GetDataCube(GetData()));",
                "\n    }",
                "\n",
                "\n     void Init() {",
                "\n         // BasicSliceAndDiceFormsEntity",
                "\n         defaultRowSlices = new string[] { \"Novelty\", \"VariableType\" };",
                "\n         defaultColumnSlices = new string[] { \"Currency\", \"LiabilityType\", \"EconomicBasis\" };",
                "\n    }",
                "\n}"
            ],
            "metadata": {},
            "execution_count": 0,
            "outputs": []
        },
        {
            "cell_type": "markdown",
            "source": [
                "## Risk Adjustment PV"
            ],
            "metadata": {},
            "execution_count": 0,
            "outputs": []
        },
        {
            "cell_type": "code",
            "source": [
                ""
            ],
            "metadata": {},
            "execution_count": 0,
            "outputs": []
        },
        {
            "cell_type": "markdown",
            "source": [
                "# Mutable Scope"
            ],
            "metadata": {},
            "execution_count": 0,
            "outputs": []
        },
        {
            "cell_type": "markdown",
            "source": [
                "The IIfrs17Report mutable scope is created with applicabilities to control how the data for each individual report is retrieved from the [report scopes](./ReportScopes)"
            ],
            "metadata": {},
            "execution_count": 0,
            "outputs": []
        },
        {
            "cell_type": "code",
            "source": [
                "public interface ReportUniverse : IMutableScopeWithStorage<ReportStorage>{}"
            ],
            "metadata": {},
            "execution_count": 0,
            "outputs": []
        },
        {
            "cell_type": "code",
            "source": [
                "[InitializeScope(nameof(InitAsync))]",
                "\npublic interface IIfrs17Report : IMutableScope<string, ReportStorage> {",
                "\n    // Infrastructure",
                "\n    protected IWorkspace workspace => GetStorage().Workspace;",
                "\n    protected Systemorph.Vertex.Pivot.Builder.Interfaces.IPivotFactory report => GetStorage().Report;",
                "\n",
                "\n    static ApplicabilityBuilder ScopeApplicabilityBuilder(ApplicabilityBuilder builder) =>",
                "\n        builder.ForScope<IIfrs17Report>(s => s.WithApplicability<PvReport>(x => x.Identity == nameof(PvReport))",
                "\n                                              .WithApplicability<RaReport>(x => x.Identity == nameof(RaReport))",
                "\n                                              .WithApplicability<WrittenReport>(x => x.Identity == nameof(WrittenReport))",
                "\n                                              .WithApplicability<AccrualReport>(x => x.Identity == nameof(AccrualReport))",
                "\n                                              .WithApplicability<DeferralReport>(x => x.Identity == nameof(DeferralReport))",
                "\n                                              .WithApplicability<FcfReport>(x => x.Identity == nameof(FcfReport))",
                "\n                                              .WithApplicability<ExpAdjReport>(x => x.Identity == nameof(ExpAdjReport))",
                "\n                                              .WithApplicability<TmReport>(x => x.Identity == nameof(TmReport))",
                "\n                                              .WithApplicability<CsmReport>(x => x.Identity == nameof(CsmReport))",
                "\n                                              .WithApplicability<ActLrcReport>(x => x.Identity == nameof(ActLrcReport))",
                "\n                                              .WithApplicability<LrcReport>(x => x.Identity == nameof(LrcReport))",
                "\n                                              .WithApplicability<ActLicReport>(x => x.Identity == nameof(ActLicReport))",
                "\n                                              .WithApplicability<LicReport>(x => x.Identity == nameof(LicReport))",
                "\n                                              .WithApplicability<FpReport>(x => x.Identity == nameof(FpReport))",
                "\n                );",
                "\n",
                "\n     // Basic mutable properties",
                "\n    (int Year, int Month) ReportingPeriod { get; set; }",
                "\n    int Year => ReportingPeriod.Year;",
                "\n    int Month => ReportingPeriod.Month;",
                "\n    string ReportingNode { get; set; }",
                "\n    string Scenario { get; set; }  // TODO: Enable dropdown selection including All and Delta",
                "\n    string Comparison { get; set; }  // TODO: only for scenario at the beginning, meant to enable general purpose comparisons ",
                "\n    CurrencyType CurrencyType { get; set; }",
                "\n    ",
                "\n    ((int Year, int Month) ReportingPeriod, string ReportingNode, string Scenario, CurrencyType) ShowSettings => (ReportingPeriod, ReportingNode, Scenario, CurrencyType);",
                "\n    ",
                "\n    // Slice and Dice",
                "\n    protected string[] forbiddenSlices => new string[] { };",
                "\n",
                "\n    IEnumerable<string> RowSlices { get; set; }",
                "\n    protected string[] defaultRowSlices => new string[] { };",
                "\n    protected string[] rowSlices => RowSlices is null ? defaultRowSlices : defaultRowSlices.Concat(RowSlices).Where(x => !forbiddenSlices.Contains(x)).ToArray();",
                "\n",
                "\n    IEnumerable<string> ColumnSlices { get; set; }",
                "\n    protected string[] defaultColumnSlices => new string[] { };",
                "\n    protected string[] columnSlices { get{",
                "\n        var slices = ColumnSlices is null ? defaultColumnSlices : defaultColumnSlices.Where(cs => !ColumnSlices.Contains(cs)).Concat(ColumnSlices).Where(x => !forbiddenSlices.Contains(x)).ToArray();",
                "\n        return Scenario == \"All\" || Scenario == \"Delta\"",
                "\n            ? slices.Concat(nameof(Scenario).RepeatOnce()).ToArray() ",
                "\n            : Scenario is null ? slices : nameof(Scenario).RepeatOnce().Concat(slices).ToArray();",
                "\n    }}",
                "\n",
                "\n    // Identities",
                "\n    protected HashSet<(ReportIdentity, CurrencyType)> GetIdentities() => GetStorage().GetIdentities(ReportingPeriod, ReportingNode, Scenario, CurrencyType);",
                "\n    ",
                "\n    // Filter",
                "\n    IEnumerable<(string filterName, string filterValue)> DataFilter { get; set; }",
                "\n    protected (string filterName, object filterValue)[] dataFilter => (DataFilter is null ? Enumerable.Empty<(string, object)>() : DataFilter.Select(x => (x.filterName, (object)x.filterValue))).ToArray();",
                "\n",
                "\n    // Scope Initialization",
                "\n    async Task InitAsync() {",
                "\n        var mostRecentPartition = (await workspace.Query<PartitionByReportingNodeAndPeriod>().Where(x => x.Scenario == null).OrderBy(x => x.Year).ThenBy(x => x.Month).ToArrayAsync()).Last();  ",
                "\n        ReportingPeriod = (mostRecentPartition.Year, mostRecentPartition.Month);",
                "\n        ReportingNode = (await workspace.Query<ReportingNode>().Where(x => x.Parent == null).ToArrayAsync()).First().SystemName; // TODO: change once user permissions are available",
                "\n        Scenario = null;",
                "\n        CurrencyType = CurrencyType.Contractual;",
                "\n        await GetStorage().InitializeReportIndependentCacheAsync();",
                "\n    }  ",
                "\n",
                "\n    //Report",
                "\n    public IDataCube<ReportVariable> GetDataCube() => default;",
                "\n    protected int headerColumnWidthValue => 250;",
                "\n    public Task<GridOptions> ToReportAsync => GetReportTaskAsync();",
                "\n    private async Task<GridOptions> GetReportTaskAsync() {",
                "\n        await GetStorage().InitializeAsync(ReportingPeriod, ReportingNode, Scenario, CurrencyType);   ",
                "\n        return await report.ForDataCube(GetScope<Data>((ReportingPeriod, ReportingNode, Scenario, CurrencyType, Identity, dataFilter)).Cube)",
                "\n            .WithQuerySource(workspace)",
                "\n            .SliceRowsBy(rowSlices)",
                "\n            .SliceColumnsBy(columnSlices)",
                "\n            .ReportGridOptions(headerColumnWidth: headerColumnWidthValue)",
                "\n            .ExecuteAsync();",
                "\n    }",
                "\n}",
                "\n",
                "\npublic interface PvReport : IIfrs17Report {",
                "\n    string[] IIfrs17Report.defaultRowSlices => new string[] { \"Novelty\", \"VariableType\" };",
                "\n    string[] IIfrs17Report.defaultColumnSlices => new string[] { \"Currency\", \"LiabilityType\", \"EconomicBasis\" };",
                "\n    IDataCube<ReportVariable> IIfrs17Report.GetDataCube() => DataFilter == null ",
                "\n                                                                ? (GetScopes<LockedBestEstimate>(GetIdentities()).Aggregate().LockedBestEstimate + GetScopes<CurrentBestEstimate>(GetIdentities()).Aggregate().CurrentBestEstimate)",
                "\n                                                                : (GetScopes<LockedBestEstimate>(GetIdentities()).Aggregate().LockedBestEstimate + GetScopes<CurrentBestEstimate>(GetIdentities()).Aggregate().CurrentBestEstimate).Filter(dataFilter);",
                "\n}",
                "\n",
                "\npublic interface RaReport : IIfrs17Report {",
                "\n    string[] IIfrs17Report.forbiddenSlices => new string[] {\"AmountType\"};",
                "\n    string[] IIfrs17Report.defaultRowSlices => new string[] { \"Novelty\", \"VariableType\" };",
                "\n    string[] IIfrs17Report.defaultColumnSlices => new string[] { \"Currency\", \"LiabilityType\", \"EconomicBasis\" };",
                "\n    IDataCube<ReportVariable> IIfrs17Report.GetDataCube() => DataFilter == null ",
                "\n                                                                ? GetScopes<LockedRiskAdjustment>(GetIdentities()).Aggregate().LockedRiskAdjustment + ",
                "\n                                                             GetScopes<CurrentRiskAdjustment>(GetIdentities()).Aggregate().CurrentRiskAdjustment",
                "\n                                                                : GetScopes<LockedRiskAdjustment>(GetIdentities()).Aggregate().LockedRiskAdjustment.Filter(dataFilter) + ",
                "\n                                                             GetScopes<CurrentRiskAdjustment>(GetIdentities()).Aggregate().CurrentRiskAdjustment.Filter(dataFilter);",
                "\n}",
                "\n",
                "\npublic interface WrittenReport : IIfrs17Report {",
                "\n    string[] IIfrs17Report.forbiddenSlices => new string[] {nameof(EconomicBasis)};",
                "\n    string[] IIfrs17Report.defaultRowSlices => new string[] {\"AmountType\"};",
                "\n    string[] IIfrs17Report.defaultColumnSlices => new string[] { \"Currency\", \"LiabilityType\"};",
                "\n    IDataCube<ReportVariable> IIfrs17Report.GetDataCube() => DataFilter == null ",
                "\n                                                                ? GetScopes<WrittenAndAccruals>(GetIdentities()).Aggregate().Written",
                "\n                                                                : GetScopes<WrittenAndAccruals>(GetIdentities()).Aggregate().Written.Filter(dataFilter);",
                "\n}",
                "\n",
                "\npublic interface AccrualReport : IIfrs17Report {",
                "\n    string[] IIfrs17Report.defaultRowSlices => new string[] {\"VariableType\"};",
                "\n    string[] IIfrs17Report.defaultColumnSlices => new string[] { \"Currency\", \"EstimateType\"};",
                "\n    IDataCube<ReportVariable> IIfrs17Report.GetDataCube() => DataFilter == null ",
                "\n                                                                ? GetScopes<WrittenAndAccruals>(GetIdentities()).Aggregate().Advance + ",
                "\n                                                             GetScopes<WrittenAndAccruals>(GetIdentities()).Aggregate().Overdue",
                "\n                                                                : GetScopes<WrittenAndAccruals>(GetIdentities()).Aggregate().Advance.Filter(dataFilter) + ",
                "\n                                                             GetScopes<WrittenAndAccruals>(GetIdentities()).Aggregate().Overdue.Filter(dataFilter);",
                "\n}",
                "\n",
                "\npublic interface DeferralReport : IIfrs17Report {",
                "\n    string[] IIfrs17Report.defaultRowSlices => new string[] {\"VariableType\"};",
                "\n    string[] IIfrs17Report.defaultColumnSlices => new string[] { \"Currency\", \"LiabilityType\" };",
                "\n    IDataCube<ReportVariable> IIfrs17Report.GetDataCube() => DataFilter == null ",
                "\n                                                                ? GetScopes<Deferrals>(GetIdentities()).Aggregate().Deferrals",
                "\n                                                                : GetScopes<Deferrals>(GetIdentities()).Aggregate().Deferrals.Filter(dataFilter);",
                "\n}",
                "\n",
                "\npublic interface FcfReport : IIfrs17Report {",
                "\n    string[] IIfrs17Report.defaultRowSlices => new string[] {\"Novelty\",\"VariableType\"};",
                "\n    string[] IIfrs17Report.defaultColumnSlices => new string[] { \"Currency\", \"LiabilityType\", \"EconomicBasis\" };",
                "\n    IDataCube<ReportVariable> IIfrs17Report.GetDataCube() =>  DataFilter == null ",
                "\n                                                                ? GetScopes<Fcf>(GetIdentities()).Aggregate().Fcf",
                "\n                                                                : GetScopes<Fcf>(GetIdentities()).Aggregate().Fcf.Filter(dataFilter);",
                "\n}",
                "\n",
                "\npublic interface ExpAdjReport : IIfrs17Report {",
                "\n    string[] IIfrs17Report.defaultRowSlices => new string[] {\"EstimateType\"};",
                "\n    string[] IIfrs17Report.defaultColumnSlices => new string[] { \"Currency\", \"AmountType\" };",
                "\n    IDataCube<ReportVariable> IIfrs17Report.GetDataCube() => DataFilter == null ",
                "\n                                                                ? GetScopes<ExperienceAdjustment>(GetIdentities()).Aggregate().ActuarialExperienceAdjustment",
                "\n                                                                : GetScopes<ExperienceAdjustment>(GetIdentities()).Aggregate().ActuarialExperienceAdjustment.Filter(dataFilter);",
                "\n}",
                "\npublic interface TmReport : IIfrs17Report {",
                "\n    string[] IIfrs17Report.forbiddenSlices => new string[] {\"AmountType\", nameof(EconomicBasis)};",
                "\n    string[] IIfrs17Report.defaultRowSlices => new string[] {\"Novelty\", \"VariableType\"};",
                "\n    string[] IIfrs17Report.defaultColumnSlices => new string[] { \"Currency\" };",
                "\n    IDataCube<ReportVariable> IIfrs17Report.GetDataCube() => DataFilter == null ",
                "\n                                                                ? GetScopes<LrcTechnicalMargin>(GetIdentities()).Aggregate().LrcTechnicalMargin",
                "\n                                                                : GetScopes<LrcTechnicalMargin>(GetIdentities()).Aggregate().LrcTechnicalMargin.Filter(dataFilter);",
                "\n}",
                "\npublic interface CsmReport : IIfrs17Report {",
                "\n    string[] IIfrs17Report.forbiddenSlices => new string[] {\"AmountType\", nameof(EconomicBasis)};",
                "\n    string[] IIfrs17Report.defaultRowSlices => new string[] {\"Novelty\", \"VariableType\"};",
                "\n    string[] IIfrs17Report.defaultColumnSlices => new string[] { \"Currency\", \"EstimateType\" };",
                "\n    IDataCube<ReportVariable> IIfrs17Report.GetDataCube() => DataFilter == null ",
                "\n                                                                ? GetScopes<Csm>(GetIdentities()).Aggregate().Csm + ",
                "\n                                                             GetScopes<Lc>(GetIdentities()).Aggregate().Lc + ",
                "\n                                                             GetScopes<Loreco>(GetIdentities()).Aggregate().Loreco",
                "\n                                                                : GetScopes<Csm>(GetIdentities()).Aggregate().Csm.Filter(dataFilter) + ",
                "\n                                                             GetScopes<Lc>(GetIdentities()).Aggregate().Lc.Filter(dataFilter) + ",
                "\n                                                             GetScopes<Loreco>(GetIdentities()).Aggregate().Loreco.Filter(dataFilter);",
                "\n}",
                "\npublic interface ActLrcReport : IIfrs17Report {",
                "\n    string[] IIfrs17Report.forbiddenSlices => new string[] {\"AmountType\"};",
                "\n    string[] IIfrs17Report.defaultRowSlices => new string[] {\"Novelty\",\"VariableType\"};",
                "\n    string[] IIfrs17Report.defaultColumnSlices => new string[] { \"Currency\", \"EstimateType\" };",
                "\n    IDataCube<ReportVariable> IIfrs17Report.GetDataCube() => DataFilter == null ",
                "\n                                                                ? GetScopes<LrcActuarial>(GetIdentities()).Aggregate().LrcActuarial",
                "\n                                                                : GetScopes<LrcActuarial>(GetIdentities()).Aggregate().LrcActuarial.Filter(dataFilter);",
                "\n}",
                "\npublic interface LrcReport : IIfrs17Report {",
                "\n    string[] IIfrs17Report.forbiddenSlices => new string[] {\"AmountType\"};",
                "\n    string[] IIfrs17Report.defaultRowSlices => new string[] {\"VariableType\"};",
                "\n    string[] IIfrs17Report.defaultColumnSlices => new string[] { \"Currency\", \"EstimateType\" };",
                "\n    IDataCube<ReportVariable> IIfrs17Report.GetDataCube() => DataFilter == null ",
                "\n                                                                ? GetScopes<Lrc>(GetIdentities()).Aggregate().Lrc",
                "\n                                                                : GetScopes<Lrc>(GetIdentities()).Aggregate().Lrc.Filter(dataFilter);",
                "\n}",
                "\npublic interface ActLicReport : IIfrs17Report {",
                "\n    string[] IIfrs17Report.forbiddenSlices => new string[] {\"AmountType\"};",
                "\n    string[] IIfrs17Report.defaultRowSlices => new string[] {\"Novelty\",\"VariableType\"};",
                "\n    string[] IIfrs17Report.defaultColumnSlices => new string[] { \"Currency\", \"EstimateType\" };",
                "\n    IDataCube<ReportVariable> IIfrs17Report.GetDataCube() => DataFilter == null ",
                "\n                                                                ? GetScopes<LicActuarial>(GetIdentities()).Aggregate().LicActuarial",
                "\n                                                                : GetScopes<LicActuarial>(GetIdentities()).Aggregate().LicActuarial.Filter(dataFilter);",
                "\n}",
                "\npublic interface LicReport : IIfrs17Report {",
                "\n    string[] IIfrs17Report.forbiddenSlices => new string[] {\"AmountType\"};",
                "\n    string[] IIfrs17Report.defaultRowSlices => new string[] {\"VariableType\"};",
                "\n    string[] IIfrs17Report.defaultColumnSlices => new string[] { \"Currency\", \"EstimateType\" };",
                "\n    IDataCube<ReportVariable> IIfrs17Report.GetDataCube() => DataFilter == null ",
                "\n                                                                ? GetScopes<Lic>(GetIdentities()).Aggregate().Lic",
                "\n                                                                : GetScopes<Lic>(GetIdentities()).Aggregate().Lic.Filter(dataFilter);",
                "\n}",
                "\npublic interface FpReport : IIfrs17Report {",
                "\n    string[] IIfrs17Report.forbiddenSlices => new string[] {\"AmountType\", nameof(EconomicBasis)};",
                "\n    string[] IIfrs17Report.defaultRowSlices => new string[] {\"VariableType\", \"EstimateType\"};",
                "\n    string[] IIfrs17Report.defaultColumnSlices => new string[] { \"Currency\",\"LiabilityType\" };",
                "\n    int IIfrs17Report.headerColumnWidthValue => 500;",
                "\n    IDataCube<ReportVariable> IIfrs17Report.GetDataCube() => DataFilter == null ",
                "\n                                                                ? GetScopes<FinancialPerformance>(GetIdentities()).Aggregate().FinancialPerformance",
                "\n                                                                : GetScopes<FinancialPerformance>(GetIdentities()).Aggregate().FinancialPerformance.Filter(dataFilter);",
                "\n}",
                "\n",
                "\npublic interface Data : IMutableScope<((int year, int month) period, string reportingNode, string scenario, CurrencyType currencyType, ",
                "\n                                        string reportType, (string filterName, object filterValue)[] dataFilter)> ",
                "\n{",
                "\n    IDataCube<ReportVariable> Cube { get{",
                "\n        var dataCube = GetScope<IIfrs17Report>(Identity.reportType).GetDataCube();",
                "\n        // TODO: suggestion to place the filter here instead of having it in every applicability scope",
                "\n        if(Identity.scenario != \"Delta\") return dataCube;",
                "\n        var bestEstimateById = dataCube.Where(x => x.Scenario == null).ToDictionary(x => x.ToIdentityString());",
                "\n        return dataCube.Select(x => x.Scenario == null ? x : x with { Value = x.Value - (bestEstimateById.TryGetValue((x with {Scenario = null}).ToIdentityString(), out var be)? be.Value : 0.0) }).ToDataCube();",
                "\n    }}",
                "\n} "
            ],
            "metadata": {},
            "execution_count": 0,
            "outputs": []
        },
        {
            "cell_type": "markdown",
            "source": [
                "# IFRS 17 Reports"
            ],
            "metadata": {},
            "execution_count": 0,
            "outputs": []
        },
        {
            "cell_type": "markdown",
            "source": [
                "This class is used to trigger the calculation of the reports and it is exposed to the end-user in the reports."
            ],
            "metadata": {},
            "execution_count": 0,
            "outputs": []
        },
        {
            "cell_type": "code",
            "source": [
                "public class Ifrs17 ",
                "\n{",
                "\n    private Systemorph.Vertex.Scopes.Proxy.IScopeFactory scopes;",
                "\n    private Systemorph.Vertex.Pivot.Builder.Interfaces.IPivotFactory report;",
                "\n    private ReportStorage Storage;",
                "\n    private ReportUniverse reportUniverse;",
                "\n    ",
                "\n    //reset",
                "\n    public void Reset(IWorkspace workspace) => Storage = new ReportStorage(workspace, report);",
                "\n",
                "\n    //constructor",
                "\n    public Ifrs17 (IWorkspace workspace, Systemorph.Vertex.Scopes.Proxy.IScopeFactory scopes, Systemorph.Vertex.Pivot.Builder.Interfaces.IPivotFactory report)",
                "\n    {",
                "\n        this.scopes = scopes; ",
                "\n        this.report = report; ",
                "\n        Storage = new ReportStorage(workspace, report);",
                "\n        reportUniverse = scopes.ForSingleton().WithStorage(Storage).ToScope<ReportUniverse>();",
                "\n    }",
                "\n",
                "\n    public IIfrs17Report PresentValues => reportUniverse.GetScope<PvReport>();",
                "\n    public IIfrs17Report RiskAdjustments => reportUniverse.GetScope<RaReport>();",
                "\n    public IIfrs17Report WrittenActuals => reportUniverse.GetScope<WrittenReport>();",
                "\n    public IIfrs17Report AccrualActuals => reportUniverse.GetScope<AccrualReport>();",
                "\n    public IIfrs17Report DeferralActuals => reportUniverse.GetScope<DeferralReport>();",
                "\n    public IIfrs17Report FulfillmentCashflows => reportUniverse.GetScope<FcfReport>();",
                "\n    public IIfrs17Report ExperienceAdjustments => reportUniverse.GetScope<ExpAdjReport>();",
                "\n    public IIfrs17Report TechnicalMargins => reportUniverse.GetScope<TmReport>();",
                "\n    public IIfrs17Report AllocatedTechnicalMargins => reportUniverse.GetScope<CsmReport>();",
                "\n    public IIfrs17Report ActuarialLrc => reportUniverse.GetScope<ActLrcReport>();",
                "\n    public IIfrs17Report Lrc => reportUniverse.GetScope<LrcReport>();",
                "\n    public IIfrs17Report ActuarialLic => reportUniverse.GetScope<ActLicReport>();",
                "\n    public IIfrs17Report Lic => reportUniverse.GetScope<LicReport>();",
                "\n    public IIfrs17Report FinancialPerformance => reportUniverse.GetScope<FpReport>();",
                "\n}"
            ],
            "metadata": {},
            "execution_count": 0,
            "outputs": []
        },
        {
            "cell_type": "code",
            "source": [
                ""
            ],
            "metadata": {},
            "execution_count": 0,
            "outputs": []
        }
    ]
}