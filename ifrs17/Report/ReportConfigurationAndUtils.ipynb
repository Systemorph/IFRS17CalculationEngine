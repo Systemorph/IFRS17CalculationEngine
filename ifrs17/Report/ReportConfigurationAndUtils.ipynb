{
    "metadata": {
        "authors": [],
        "id": "6W4kCJVgzESvKeBwvjKoKA",
        "kernelspec": {
            "display_name": "Formula Framework",
            "language": "C#",
            "name": "C#"
        },
        "language_info": {
            "file_extension": ".cs",
            "mimetype": "text/plain",
            "name": "C#"
        }
    },
    "nbformat": 4,
    "nbformat_minor": 5,
    "cells": [
        {
            "cell_type": "markdown",
            "source": [
                "<p style=\"font-weight:bold;\"> <span style=\"font-size: 36px\"> Report Configuration And Utils </span> </p>"
            ],
            "metadata": {},
            "execution_count": 0,
            "outputs": []
        },
        {
            "cell_type": "code",
            "source": [
                "#!import \"../Utils/EqualityComparers\"",
                "\n#!import \"../Utils/Queries\"",
                "\n#!import \"../Utils/ActivityLog\""
            ],
            "metadata": {},
            "execution_count": 0,
            "outputs": []
        },
        {
            "cell_type": "code",
            "source": [
                "using Systemorph.Vertex.Pivot.Builder;",
                "\nusing Systemorph.Vertex.Pivot.Reporting.Builder;",
                "\nusing System.Collections.Immutable;",
                "\n",
                "\npublic static DataCubeReportBuilder<IDataCube<TVariable>, TVariable, TVariable ,TVariable> ReportGridOptions<TVariable>(",
                "\n    this DataCubePivotBuilder<IDataCube<TVariable>, TVariable, TVariable, TVariable> pivotBuilder,",
                "\n    int reportHeight = 700,",
                "\n    int valueColumnWidth = 250,",
                "\n    int headerColumnWidth = 250,",
                "\n    int groupDefaultExpanded = 2)",
                "\n    => pivotBuilder.ToTable().WithOptions(go => go",
                "\n                                     .WithColumns(cols => cols.Modify(\"Value\",c => c.WithWidth(valueColumnWidth).WithFormat(\"typeof(value) == 'number' ? new Intl.NumberFormat('en',{ minimumFractionDigits:2, maximumFractionDigits:2 }).format(value) : value\")))",
                "\n                                     .WithRows(rows => rows",
                "\n                                               .Where(r => !(r.RowGroup.Coordinates.Last() == \"NullGroup\"))",
                "\n                                               .Select(r => r with { RowGroup = r.RowGroup with { Coordinates = r.RowGroup.Coordinates.Where(c => c != \"NullGroup\").ToImmutableList() } })",
                "\n                                               .ToArray())",
                "\n                                      .HideRowValuesForDimension(\"Novelty\")",
                "\n                                     .WithAutoGroupColumn(c => c.WithWidth(headerColumnWidth) with { Pinned = \"left\" })",
                "\n                                     with { Height = reportHeight, GroupDefaultExpanded = groupDefaultExpanded, OnGridReady = null } );"
            ],
            "metadata": {},
            "execution_count": 0,
            "outputs": []
        },
        {
            "cell_type": "markdown",
            "source": [
                "# Currency methods"
            ],
            "metadata": {},
            "execution_count": 0,
            "outputs": []
        },
        {
            "cell_type": "code",
            "source": [
                "public static double GetCurrencyToGroupFx(Dictionary<string, Dictionary<FxPeriod, double>> exchangeRates, string currency, FxPeriod fxPeriod, string groupCurrency)",
                "\n{",
                "\n    if(currency == groupCurrency)",
                "\n      return 1;",
                "\n",
                "\n    if(!exchangeRates.TryGetValue(currency, out var currencyToGroup))",
                "\n      ApplicationMessage.Log(Error.ExchangeRateCurrency, currency);",
                "\n",
                "\n    if(!currencyToGroup.TryGetValue(fxPeriod, out var currencyToGroupFx))",
                "\n      ApplicationMessage.Log(Error.ExchangeRateNotFound, currency, fxPeriod.ToString());",
                "\n",
                "\n    return currencyToGroupFx;",
                "\n}"
            ],
            "metadata": {},
            "execution_count": 0,
            "outputs": []
        },
        {
            "cell_type": "markdown",
            "source": [
                "# Queries"
            ],
            "metadata": {},
            "execution_count": 0,
            "outputs": []
        },
        {
            "cell_type": "markdown",
            "source": [
                "## Query Report Variables"
            ],
            "metadata": {},
            "execution_count": 0,
            "outputs": []
        },
        {
            "cell_type": "code",
            "source": [
                "public static IEnumerable<ReportVariable> MergeGocWithIfrsIntoReportVariable(GroupOfContract goc, ",
                "\n                                                                                IfrsVariable iv, ",
                "\n                                                                                string reportingNode, ",
                "\n                                                                                string scenario, ",
                "\n                                                                                ProjectionConfiguration[] orderedProjectionConfigurations) => ",
                "\n    iv.Values.Select((val, ind) => new ReportVariable() with {",
                "\n                                            ReportingNode = reportingNode, ",
                "\n                                            Scenario = scenario, ",
                "\n                                            Portfolio = goc.Portfolio, ",
                "\n                                            GroupOfContract = goc.SystemName, ",
                "\n                                            FunctionalCurrency = goc.FunctionalCurrency, ",
                "\n                                            ContractualCurrency = goc.ContractualCurrency, ",
                "\n                                            ValuationApproach = goc.ValuationApproach, ",
                "\n                                            OciType = goc.OciType, ",
                "\n                                            InitialProfitability = goc.Profitability, ",
                "\n                                            LiabilityType = goc.LiabilityType, ",
                "\n                                            AnnualCohort = goc.AnnualCohort, ",
                "\n                                            LineOfBusiness = goc.LineOfBusiness,",
                "\n                                            IsReinsurance = goc is GroupOfReinsuranceContract, ",
                "\n                                            Partner = goc.Partner, ",
                "\n                                            EstimateType = iv.EstimateType, ",
                "\n                                            VariableType = iv.AocType, ",
                "\n                                            Novelty = iv.Novelty, ",
                "\n                                            AmountType = iv.AmountType, ",
                "\n                                            EconomicBasis = iv.EconomicBasis, ",
                "\n                                            AccidentYear = iv.AccidentYear == null ? default : (int)iv.AccidentYear, ",
                "\n                                            Projection = orderedProjectionConfigurations.ElementAtOrDefault(ind).SystemName,",
                "\n                                            Value = val});"
            ],
            "metadata": {},
            "execution_count": 0,
            "outputs": []
        },
        {
            "cell_type": "code",
            "source": [
                "public static async Task<ReportVariable[]> QueryReportVariablesSingleScenarioAsync(this IWorkspace workspace, (int Year, int Month, string ReportingNode, string Scenario) args, ",
                "\n                                                                                    ProjectionConfiguration[] orderedProjectionConfigurations) {",
                "\n",
                "\n    await workspace.Partition.SetAsync<PartitionByReportingNode>(new { ReportingNode = args.ReportingNode, Scenario = (string)null});",
                "\n    await workspace.Partition.SetAsync<PartitionByReportingNodeAndPeriod>(new { ReportingNode = args.ReportingNode, Scenario = args.Scenario, Year = args.Year, Month = args.Month });",
                "\n    var reportVariables = await workspace.Query<GroupOfContract>()",
                "\n            .Join(workspace.Query<IfrsVariable>(),",
                "\n                  dn => dn.SystemName,",
                "\n                  iv => iv.DataNode,",
                "\n                  (dn, iv) => MergeGocWithIfrsIntoReportVariable(dn, iv, args.ReportingNode, args.Scenario, orderedProjectionConfigurations)",
                "\n                  ).SelectMany(rv => rv) ",
                "\n        .ToArrayAsync();",
                "\n",
                "\n    await workspace.Partition.SetAsync<PartitionByReportingNode>(null);",
                "\n    await workspace.Partition.SetAsync<PartitionByReportingNodeAndPeriod>(null);",
                "\n    return reportVariables;",
                "\n}"
            ],
            "metadata": {},
            "execution_count": 0,
            "outputs": []
        },
        {
            "cell_type": "code",
            "source": [
                "public static async Task<ICollection<ReportVariable>> QueryReportVariablesAsync(this IWorkspace workspace, (int Year, int Month, string ReportingNode, string Scenario) args, ProjectionConfiguration[] orderedProjectionConfigurations) {",
                "\n    var bestEstimate = (await workspace.QueryReportVariablesSingleScenarioAsync((args.Year, args.Month, args.ReportingNode, null), orderedProjectionConfigurations));",
                "\n    return (args.Scenario == null) ",
                "\n        ? bestEstimate",
                "\n        : (await workspace.QueryReportVariablesSingleScenarioAsync((args.Year, args.Month, args.ReportingNode, args.Scenario), orderedProjectionConfigurations))",
                "\n            .Union(bestEstimate.Select(x => x with {Scenario = args.Scenario}), EqualityComparer<ReportVariable>.Instance).ToArray();",
                "\n}"
            ],
            "metadata": {},
            "execution_count": 0,
            "outputs": []
        },
        {
            "cell_type": "markdown",
            "source": [
                "# Mutable Reporting Scopes"
            ],
            "metadata": {},
            "execution_count": 0,
            "outputs": []
        },
        {
            "cell_type": "code",
            "source": [
                "public static string ParseReportingPeriodToDisplayString(int year, int periodOfYear, char separator) => $\"{year} {separator}{periodOfYear}\";"
            ],
            "metadata": {},
            "execution_count": 0,
            "outputs": []
        },
        {
            "cell_type": "code",
            "source": [
                "public static string ParseDimensionToDisplayString(string systemName, string displayName) => $\"{displayName} ({systemName})\";"
            ],
            "metadata": {},
            "execution_count": 0,
            "outputs": []
        },
        {
            "cell_type": "code",
            "source": [
                "public static async Task<(IDictionary<string, string>, IReadOnlyCollection<string>)> GetAutocompleteMappings<T> (this IQuerySource querySource, bool hasNullAsFirstValue = default) where T : KeyedDimension {",
                "\n    var query = await querySource.Query<T>().Select(x => new { x.SystemName, GuiName = ParseDimensionToDisplayString(x.SystemName, x.DisplayName), Order = 0 }).ToArrayAsync(); //TODO extentions: populate order if type T is an orderedDimension. If it is a Hierarchical dimension then the order ",
                "\n    var mappingDictionary = query.SelectMany(x => new [] { new {GuiName = x.SystemName, x.SystemName}, new {GuiName = x.GuiName, x.SystemName} }).ToDictionary(x => x.GuiName, x => x.SystemName);",
                "\n    var orderedDropDownValues = query.OrderBy(x => x.Order).ThenBy(x => x.GuiName).Select(x => x.GuiName);",
                "\n    return (mappingDictionary, (hasNullAsFirstValue ? new string[]{ null }.Concat(orderedDropDownValues) : orderedDropDownValues).ToArray());",
                "\n}"
            ],
            "metadata": {},
            "execution_count": 0,
            "outputs": []
        },
        {
            "cell_type": "markdown",
            "source": [
                "# Utils"
            ],
            "metadata": {},
            "execution_count": 0,
            "outputs": []
        },
        {
            "cell_type": "markdown",
            "source": [
                "## Report Types"
            ],
            "metadata": {},
            "execution_count": 0,
            "outputs": []
        },
        {
            "cell_type": "code",
            "source": [
                "public record YieldCurveReport : KeyedRecord, IWithYearMonthAndScenario",
                "\n{",
                "\n    [NotVisible] [Dimension(typeof(Currency))]",
                "\n    public string Currency { get; init; }",
                "\n",
                "\n    [NotVisible] [Dimension(typeof(int), nameof(Year))]",
                "\n    public int Year { get; init; }",
                "\n    ",
                "\n    [NotVisible] [Dimension(typeof(int), nameof(Month))]",
                "\n    public int Month { get; init; }",
                "\n",
                "\n    [NotVisible] [Dimension(typeof(Scenario))]",
                "\n    public string Scenario { get; init; }",
                "\n",
                "\n    [NotVisible] [Dimension(typeof(int), nameof(Index))]",
                "\n    public int Index { get; init; }",
                "\n",
                "\n    public double Value { get; init; }",
                "\n}"
            ],
            "metadata": {},
            "execution_count": 0,
            "outputs": []
        },
        {
            "cell_type": "code",
            "source": [
                "public record RawVariableReport",
                "\n{",
                "\n    [NotVisible] [Dimension(typeof(GroupOfContract))]",
                "\n    public string DataNode { get; init; }",
                "\n    ",
                "\n    [NotVisible] [AggregateBy]  [Dimension(typeof(AocType))]",
                "\n    public string AocType { get; init; }",
                "\n    ",
                "\n    [NotVisible] [Dimension(typeof(Novelty))]",
                "\n    public string Novelty { get; init; }",
                "\n",
                "\n    [NotVisible] [AggregateBy]  [Dimension(typeof(AmountType))]",
                "\n    public string AmountType { get; init; }",
                "\n",
                "\n    [NotVisible] [Dimension(typeof(EstimateType))]",
                "\n    public string EstimateType { get; init; }",
                "\n",
                "\n    [NotVisible] [Dimension(typeof(int), nameof(Index))]",
                "\n    public int Index { get; init; }",
                "\n",
                "\n    public double Value { get; init; }",
                "\n}"
            ],
            "metadata": {},
            "execution_count": 0,
            "outputs": []
        },
        {
            "cell_type": "markdown",
            "source": [
                "## Converter Methods"
            ],
            "metadata": {},
            "execution_count": 0,
            "outputs": []
        },
        {
            "cell_type": "code",
            "source": [
                "public static IDataCube<YieldCurveReport> ToReportType (this YieldCurve[] yieldCurves)",
                "\n    => yieldCurves.SelectMany(yc => yc.Values.Select((x,i) => new YieldCurveReport { Currency = yc.Currency, Year = yc.Year, Month = yc.Month, Scenario = yc.Scenario, Index = i, Value = x })).ToDataCube();"
            ],
            "metadata": {},
            "execution_count": 0,
            "outputs": []
        },
        {
            "cell_type": "code",
            "source": [
                "public static IDataCube<RawVariableReport> ToReportType (this IDataCube<RawVariable> rawVariable)",
                "\n    => rawVariable.SelectMany(rv => rv.Values.Select((x,i) => new RawVariableReport {",
                "\n        EstimateType = rv.EstimateType, AmountType = rv.AmountType, DataNode = rv.DataNode, AocType = rv.AocType, Novelty = rv.Novelty, Index = i, Value = x })).ToDataCube();"
            ],
            "metadata": {},
            "execution_count": 0,
            "outputs": []
        },
        {
            "cell_type": "code",
            "source": [
                ""
            ],
            "metadata": {},
            "execution_count": 0,
            "outputs": []
        }
    ]
}