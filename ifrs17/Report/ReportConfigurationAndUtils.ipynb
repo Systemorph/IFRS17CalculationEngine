{
    "metadata": {
        "authors": [],
        "kernelspec": {
            "display_name": "Formula Framework",
            "language": "C#",
            "name": "C#"
        },
        "language_info": {
            "file_extension": ".cs",
            "mimetype": "text/plain",
            "name": "C#"
        },
        "toc-autonumbering": "True",
        "toc-showcode": "False"
    },
    "nbformat": 4,
    "nbformat_minor": 5,
    "cells": [
        {
            "cell_type": "markdown",
            "source": [
                "<p style=\"font-weight:bold;\"> <span style=\"font-size: 36px\"> Report Configuration And Utils </span> </p>"
            ]
        },
        {
            "cell_type": "code",
            "source": [
                "#!import \"../Utils/EqualityComparers\"",
                "\n#!import \"../Utils/Queries\""
            ]
        },
        {
            "cell_type": "code",
            "source": [
                "using Systemorph.Vertex.Pivot.Builder;",
                "\nusing Systemorph.Vertex.Pivot.Reporting.Builder;",
                "\nusing System.Collections.Immutable;",
                "\n",
                "\npublic static DataCubeReportBuilder<IDataCube<TVariable>, TVariable, TVariable ,TVariable> ReportGridOptions<TVariable>(",
                "\n    this DataCubePivotBuilder<IDataCube<TVariable>, TVariable, TVariable, TVariable> reportBuilder,",
                "\n    int reportHeight = 700,",
                "\n    int valueColumnWidth = 250,",
                "\n    int headerColumnWidth = 250,",
                "\n    int groupDefaultExpanded = 2)",
                "\n    => reportBuilder.WithGridOptions(go => go",
                "\n                                     .WithColumns(cols => cols.Modify(\"Value\",c => c.WithWidth(valueColumnWidth).WithFormat(\"new Intl.NumberFormat('en',{ minimumFractionDigits:2, maximumFractionDigits:2 }).format(value)\")))",
                "\n                                     .WithRows(rows => rows",
                "\n                                               .Where(r => !(r.RowGroup.Coordinates.Last() == \"NullGroup\"))",
                "\n                                               .Select(r => r with { RowGroup = r.RowGroup with { Coordinates = r.RowGroup.Coordinates.Where(c => c != \"NullGroup\").ToImmutableList() } })",
                "\n                                               .ToArray())",
                "\n                                     .WithAutoGroupColumn(c => c.WithWidth(headerColumnWidth) with { Pinned = \"left\" })",
                "\n                                     with { Height = reportHeight, GroupDefaultExpanded = groupDefaultExpanded, OnGridReady = null } );"
            ]
        },
        {
            "cell_type": "markdown",
            "source": [
                "# Currency methods"
            ]
        },
        {
            "cell_type": "code",
            "source": [
                "public static double GetCurrencyToGroupFx(Dictionary<string, Dictionary<FxPeriod, double>> exchangeRates, string currency, FxPeriod fxPeriod, string groupCurrency)",
                "\n{",
                "\n    if(currency == groupCurrency)",
                "\n      return 1;",
                "\n",
                "\n    if(!exchangeRates.TryGetValue(currency, out var currencyToGroup))",
                "\n      ApplicationMessage.Log(Error.ExchangeRateCurrency, currency);",
                "\n",
                "\n    if(!currencyToGroup.TryGetValue(fxPeriod, out var currencyToGroupFx))",
                "\n      ApplicationMessage.Log(Error.ExchangeRateNotFound, currency, fxPeriod.ToString());",
                "\n",
                "\n    return currencyToGroupFx;",
                "\n}"
            ]
        },
        {
            "cell_type": "markdown",
            "source": [
                "# Queries"
            ]
        },
        {
            "cell_type": "markdown",
            "source": [
                "## Query Report Variables"
            ]
        },
        {
            "cell_type": "code",
            "source": [
                "public static async Task<ReportVariable[]> QueryReportVariablesSingleScenarioAsync(this IWorkspace workspace, (int Year, int Month, string ReportingNode, string Scenario) args ) {",
                "\n",
                "\n    await workspace.Partition.SetAsync<PartitionByReportingNode>(new { ReportingNode = args.ReportingNode, Scenario = (string)null}); // TODO: Scenario from args + relaxed query ",
                "\n    await workspace.Partition.SetAsync<PartitionByReportingNodeAndPeriod>(new { ReportingNode = args.ReportingNode, Scenario = args.Scenario, Year = args.Year, Month = args.Month });",
                "\n    ",
                "\n    var reportVariables = await workspace.Query<GroupOfContract>()",
                "\n            .Join(workspace.Query<IfrsVariable>(),",
                "\n                  dn => dn.SystemName,",
                "\n                  iv => iv.DataNode,",
                "\n                  (dn, iv) => new ReportVariable {",
                "\n                      // From Args/Inputs",
                "\n                      ReportingNode = args.ReportingNode,",
                "\n                      Scenario = args.Scenario,",
                "\n                      ",
                "\n                      // From Data Node",
                "\n                      Portfolio = dn.Portfolio,",
                "\n                      GroupOfContract = dn.SystemName,",
                "\n                      ",
                "\n                      FunctionalCurrency = dn.FunctionalCurrency,",
                "\n                      ContractualCurrency = dn.ContractualCurrency,",
                "\n                      ",
                "\n                      ValuationApproach = dn.ValuationApproach,",
                "\n                      OciType = dn.OciType,",
                "\n                      InitialProfitability = dn.Profitability,",
                "\n                      LiabilityType = dn.LiabilityType,",
                "\n                      AnnualCohort = dn.AnnualCohort,",
                "\n                      LineOfBusiness = dn.LineOfBusiness,",
                "\n                    ",
                "\n                      // Reinsurance",
                "\n                      IsReinsurance = dn is GroupOfReinsuranceContract, ",
                "\n                      Partner = dn.Partner,",
                "\n                      ",
                "\n                      // From Variable",
                "\n                      EstimateType = iv.EstimateType,",
                "\n                      VariableType = iv.AocType,",
                "\n                      Novelty = iv.Novelty,",
                "\n                      AmountType = iv.AmountType,",
                "\n                      EconomicBasis = iv.EconomicBasis,",
                "\n                      ",
                "\n                      //LIC",
                "\n                      AccidentYear = iv.AccidentYear == null ? default : (int)iv.AccidentYear,",
                "\n                      ",
                "\n                      Value = iv.Value })",
                "\n        .ToArrayAsync();",
                "\n",
                "\n    await workspace.Partition.SetAsync<PartitionByReportingNode>(null);",
                "\n    await workspace.Partition.SetAsync<PartitionByReportingNodeAndPeriod>(null);",
                "\n    return reportVariables;",
                "\n}"
            ]
        },
        {
            "cell_type": "code",
            "source": [
                "public static async Task<ICollection<ReportVariable>> QueryReportVariablesAsync(this IWorkspace workspace, (int Year, int Month, string ReportingNode, string Scenario) args ) {",
                "\n    ReportVariable[] reportVariables = new ReportVariable[0];",
                "\n    if(args.Scenario != null) ",
                "\n        reportVariables = (await workspace.QueryReportVariablesSingleScenarioAsync((args.Year, args.Month, args.ReportingNode, null)));",
                "\n    return (await workspace.QueryReportVariablesSingleScenarioAsync((args.Year, args.Month, args.ReportingNode, args.Scenario)))",
                "\n            .Union(reportVariables.Select(x => x with {Scenario = args.Scenario}), EqualityComparer<ReportVariable>.Instance).ToArray();",
                "\n}"
            ]
        },
        {
            "cell_type": "code",
            "source": [
                ""
            ]
        }
    ]
}