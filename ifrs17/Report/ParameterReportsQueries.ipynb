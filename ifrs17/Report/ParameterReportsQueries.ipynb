{
    "metadata": {
        "authors": [],
        "id": "GwzN3m9sLkuSwy-TfM130g",
        "kernelspec": {
            "display_name": "Formula Framework",
            "language": "C#",
            "name": "C#"
        },
        "language_info": {
            "file_extension": ".cs",
            "mimetype": "text/plain",
            "name": "C#"
        }
    },
    "nbformat": 4,
    "nbformat_minor": 5,
    "cells": [
        {
            "cell_type": "markdown",
            "source": [
                "<p style=\"font-weight:bold;\"> <span style=\"font-size: 36px\"> Parameter Report Queries </span> </p>"
            ],
            "metadata": {},
            "execution_count": 0,
            "outputs": []
        },
        {
            "cell_type": "markdown",
            "source": [
                "# Imports"
            ],
            "metadata": {},
            "execution_count": 0,
            "outputs": []
        },
        {
            "cell_type": "code",
            "source": [
                "#!import \"../Utils/Queries\""
            ],
            "metadata": {},
            "execution_count": 0,
            "outputs": []
        },
        {
            "cell_type": "markdown",
            "source": [
                "# Data Model",
                "\nThe data model is still in progress, but this version already allows for simple reports"
            ],
            "metadata": {},
            "execution_count": 0,
            "outputs": []
        },
        {
            "cell_type": "code",
            "source": [
                "public enum Period { Previous = -1, Current = 0 };"
            ],
            "metadata": {},
            "execution_count": 0,
            "outputs": []
        },
        {
            "cell_type": "code",
            "source": [
                "public abstract record ReportParameter {",
                "\n    [Display(Order = -100)]",
                "\n    [IdentityProperty]",
                "\n    [NotAggregated]",
                "\n    [Dimension(typeof(int), nameof(Year))]",
                "\n    public int Year { get; init; }",
                "\n",
                "\n    [Display(Order = -90)]",
                "\n    [IdentityProperty]",
                "\n    [NotAggregated]",
                "\n    [Dimension(typeof(int), nameof(Month))]",
                "\n    public int Month { get; init; } ",
                "\n",
                "\n    [Display(Order = -80)]",
                "\n    [IdentityProperty]",
                "\n    [Dimension(typeof(Scenario))]",
                "\n    public string Scenario { get; init; }",
                "\n",
                "\n    [IdentityProperty]",
                "\n    [NotVisible]",
                "\n    public Period Period { get; init; }",
                "\n",
                "\n    [IdentityProperty]",
                "\n    [NotVisible]",
                "\n    [Dimension(typeof(GroupOfContract))]",
                "\n    public string GroupOfContract { get; init; }",
                "\n}"
            ],
            "metadata": {},
            "execution_count": 0,
            "outputs": []
        },
        {
            "cell_type": "code",
            "source": [
                "public record DataNodeStateReportParameter : ReportParameter  {",
                "\n    public State State { get; init; }",
                "\n}"
            ],
            "metadata": {},
            "execution_count": 0,
            "outputs": []
        },
        {
            "cell_type": "code",
            "source": [
                "public record YieldCurveReportParameter : ReportParameter  {",
                "\n    [IdentityProperty]",
                "\n    [NotVisible]",
                "\n    public string YieldCurveType { get; init; }",
                "\n",
                "\n    [Dimension(typeof(Currency))]",
                "\n    public string Currency { get; init; }",
                "\n",
                "\n    public string Name { get; init; }",
                "\n}"
            ],
            "metadata": {},
            "execution_count": 0,
            "outputs": []
        },
        {
            "cell_type": "code",
            "source": [
                "public record SingleDataNodeReportParameter : ReportParameter  {",
                "\n",
                "\n    public double PremiumAllocation { get; init; }",
                "\n",
                "\n    [Dimension(typeof(CashFlowPeriodicity))]",
                "\n    public CashFlowPeriodicity CashFlowPeriodicity { get; init; }",
                "\n    ",
                "\n    [Dimension(typeof(InterpolationMethod))]",
                "\n    public InterpolationMethod InterpolationMethod { get; init; }    ",
                "\n}"
            ],
            "metadata": {},
            "execution_count": 0,
            "outputs": []
        },
        {
            "cell_type": "code",
            "source": [
                "public record InterDataNodeReportParameter : ReportParameter  {",
                "\n    [Dimension(typeof(GroupOfContract), nameof(LinkedDataNode))]",
                "\n    public string LinkedDataNode { get; init; }",
                "\n",
                "\n    public double ReinsuranceCoverage { get; init; }",
                "\n}"
            ],
            "metadata": {},
            "execution_count": 0,
            "outputs": []
        },
        {
            "cell_type": "code",
            "source": [
                "public record PartnerRatingsReportParameter : ReportParameter  {",
                "\n    [IdentityProperty]",
                "\n    [NotAggregated]",
                "\n    [Dimension(typeof(int), nameof(InitialYear))]",
                "\n    [NotVisible]",
                "\n    public int InitialYear { get; init; }",
                "\n",
                "\n    [IdentityProperty]",
                "\n    [NotVisible]",
                "\n    public string PartnerRatingType { get; init; }",
                "\n",
                "\n    [IdentityProperty]",
                "\n    [NotVisible]",
                "\n    [Dimension(typeof(Partner))]",
                "\n    public string Partner { get; init; }",
                "\n",
                "\n    [Dimension(typeof(CreditRiskRating))]",
                "\n    public string CreditRiskRating { get; init; }",
                "\n}",
                "\npublic record CreditDefaultRatesReportParameter : ReportParameter  {",
                "\n    [IdentityProperty]",
                "\n    [NotAggregated]",
                "\n    [Dimension(typeof(int), nameof(InitialYear))]",
                "\n    [NotVisible]",
                "\n    public int InitialYear { get; init; }",
                "\n    ",
                "\n    [IdentityProperty]",
                "\n    [NotVisible]",
                "\n    public string CreditDefaultRatesType { get; init; }",
                "\n",
                "\n    [IdentityProperty]",
                "\n    [Dimension(typeof(CreditRiskRating))]",
                "\n    [NotVisible]",
                "\n    public string CreditRiskRating { get; init; }",
                "\n}"
            ],
            "metadata": {},
            "execution_count": 0,
            "outputs": []
        },
        {
            "cell_type": "markdown",
            "source": [
                "# Queries"
            ],
            "metadata": {},
            "execution_count": 0,
            "outputs": []
        },
        {
            "cell_type": "markdown",
            "source": [
                "## Data Node"
            ],
            "metadata": {},
            "execution_count": 0,
            "outputs": []
        },
        {
            "cell_type": "code",
            "source": [
                "public static async Task<DataNodeData[]> GetDataNodeDataReportParametersAsync(this IWorkspace workspace, ImportArgs args) =>",
                "\n    (await workspace.LoadDataNodesAsync(args))",
                "\n    .Values",
                "\n    .ToArray();"
            ],
            "metadata": {},
            "execution_count": 0,
            "outputs": []
        },
        {
            "cell_type": "code",
            "source": [
                "public static async Task<DataNodeStateReportParameter[]> GetDataNodeStateReportParametersAsync(this IWorkspace workspace, ImportArgs args) =>",
                "\n    (await workspace.LoadCurrentAndPreviousParameterAsync<DataNodeState>(args, x => x.DataNode))",
                "\n    .Values",
                "\n    .SelectMany(x => x.Select(y => ",
                "\n        new DataNodeStateReportParameter {",
                "\n            GroupOfContract = y.Value.DataNode,",
                "\n            Period = ((Period)y.Key),",
                "\n            Year = y.Value.Year,",
                "\n            Month = y.Value.Month,",
                "\n            Scenario = y.Value.Scenario }",
                "\n        ))",
                "\n    .ToArray();"
            ],
            "metadata": {},
            "execution_count": 0,
            "outputs": []
        },
        {
            "cell_type": "markdown",
            "source": [
                "## YieldCurve"
            ],
            "metadata": {},
            "execution_count": 0,
            "outputs": []
        },
        {
            "cell_type": "code",
            "source": [
                "public static async Task<YieldCurveReportParameter[]> GetYieldCurveReportParametersAsync(this IWorkspace workspace, ImportArgs args) {",
                "\n    var dataNodeData = await workspace.GetDataNodeDataReportParametersAsync(args);",
                "\n",
                "\n    var lockedYieldCurves = (await workspace.LoadLockedInYieldCurveAsync(args, dataNodeData))",
                "\n    .Select(x => new YieldCurveReportParameter {",
                "\n        GroupOfContract = x.Key,",
                "\n        YieldCurveType = \"Locked-In Curve\",",
                "\n        Year = x.Value.Year,",
                "\n        Month = x.Value.Month,",
                "\n        Scenario = x.Value.Scenario,",
                "\n        Currency = x.Value.Currency,",
                "\n        Name = x.Value.Name }",
                "\n        )",
                "\n    .ToArray();",
                "\n",
                "\n    var currentYieldCurves = (await workspace.LoadCurrentYieldCurveAsync(args, dataNodeData))",
                "\n    .Values",
                "\n    .SelectMany(x => x.Select(y => new YieldCurveReportParameter {",
                "\n        Period = ((Period)y.Key),",
                "\n        YieldCurveType = \"Current Curve\",",
                "\n        Year = y.Value.Year,",
                "\n        Month = y.Value.Month,",
                "\n        Scenario = y.Value.Scenario,",
                "\n        Currency = y.Value.Currency,",
                "\n        Name = y.Value.Name}",
                "\n        ));",
                "\n",
                "\n    var allYieldCurves = lockedYieldCurves.Concat(lockedYieldCurves.SelectMany(loc => currentYieldCurves.Select(cuc => new YieldCurveReportParameter {",
                "\n    GroupOfContract = loc.GroupOfContract,",
                "\n    Period = cuc.Period,",
                "\n    YieldCurveType = cuc.YieldCurveType,",
                "\n    Year = cuc.Year,",
                "\n    Month = cuc.Month,",
                "\n    Scenario = cuc.Scenario,",
                "\n    Currency = cuc.Currency,",
                "\n    Name = cuc.Name}",
                "\n    )))",
                "\n    .ToArray();",
                "\n    ",
                "\n    return allYieldCurves;",
                "\n}"
            ],
            "metadata": {},
            "execution_count": 0,
            "outputs": []
        },
        {
            "cell_type": "markdown",
            "source": [
                "## Single Data Node Parameters"
            ],
            "metadata": {},
            "execution_count": 0,
            "outputs": []
        },
        {
            "cell_type": "code",
            "source": [
                "public static async Task<SingleDataNodeReportParameter[]> GetSingleDataNodeReportParametersAsync(this IWorkspace workspace, ImportArgs args) =>",
                "\n    (await workspace.LoadSingleDataNodeParametersAsync(args))",
                "\n    .Values",
                "\n    .SelectMany(x => x.Select(y => new SingleDataNodeReportParameter {",
                "\n        GroupOfContract = y.Value.DataNode,",
                "\n        Period = ((Period)y.Key),",
                "\n        Year = y.Value.Year,",
                "\n        Month = y.Value.Month,",
                "\n        Scenario = y.Value.Scenario,",
                "\n        PremiumAllocation = y.Value.PremiumAllocation,",
                "\n        CashFlowPeriodicity = y.Value.CashFlowPeriodicity,",
                "\n        InterpolationMethod = y.Value.InterpolationMethod",
                "\n        }",
                "\n        ))",
                "\n    .ToArray();"
            ],
            "metadata": {},
            "execution_count": 0,
            "outputs": []
        },
        {
            "cell_type": "markdown",
            "source": [
                "## Inter Data Node Parameters"
            ],
            "metadata": {},
            "execution_count": 0,
            "outputs": []
        },
        {
            "cell_type": "code",
            "source": [
                "public static async Task<InterDataNodeReportParameter[]> GetInterDataNodeParametersAsync(this IWorkspace workspace, ImportArgs args) =>",
                "\n    (await workspace.LoadInterDataNodeParametersAsync(args))",
                "\n    .Values",
                "\n    .SelectMany(x => x.SelectMany(y => y.Value.Select(z => ",
                "\n     new InterDataNodeReportParameter {",
                "\n         GroupOfContract = z.DataNode,",
                "\n         Period = ((Period)y.Key),",
                "\n         Year = z.Year,",
                "\n         Month = z.Month,",
                "\n         Scenario = z.Scenario,",
                "\n         LinkedDataNode = z.LinkedDataNode,",
                "\n         ReinsuranceCoverage = z.ReinsuranceCoverage}",
                "\n     )))",
                "\n    .Distinct()// Can be removed when we get rid of the dictionary",
                "\n    .SelectMany(x => new[]{x, x with { GroupOfContract = x.LinkedDataNode, LinkedDataNode = x.GroupOfContract}}",
                "\n    )",
                "\n    .ToArray();"
            ],
            "metadata": {},
            "execution_count": 0,
            "outputs": []
        },
        {
            "cell_type": "markdown",
            "source": [
                "## Partner Default Rates"
            ],
            "metadata": {},
            "execution_count": 0,
            "outputs": []
        },
        {
            "cell_type": "code",
            "source": [
                "public static async Task<PartnerRatingsReportParameter[]> GetCurrentPartnerRatingsReportParametersAsync(this IWorkspace workspace, ImportArgs args) {",
                "\n    var currentPartnerRating = (await workspace.LoadCurrentAndPreviousParameterAsync<PartnerRating>(args, x => x.Partner))",
                "\n    .Values",
                "\n    .SelectMany(x => x.Select(y => ",
                "\n    new PartnerRatingsReportParameter { ",
                "\n        Period = ((Period)y.Key),",
                "\n        Partner = y.Value.Partner,",
                "\n        Year = y.Value.Year,",
                "\n        Month = y.Value.Month,",
                "\n        Scenario = y.Value.Scenario,",
                "\n        CreditRiskRating = y.Value.CreditRiskRating",
                "\n        }",
                "\n    ))",
                "\n    .ToArray();",
                "\n    ",
                "\n    return currentPartnerRating;",
                "\n}"
            ],
            "metadata": {},
            "execution_count": 0,
            "outputs": []
        },
        {
            "cell_type": "code",
            "source": [
                "public static async Task<PartnerRatingsReportParameter[]> GetLockedInPartnerRatingsReportParametersAsync(this IWorkspace workspace, ImportArgs args) {",
                "\n    var initialYears = (await workspace.LoadDataNodesAsync(args)).Values.Select(dn => dn.Year).ToHashSet();",
                "\n    var lockedPartnerRating = Enumerable.Empty<PartnerRatingsReportParameter>();",
                "\n    foreach (var y in initialYears) {   ",
                "\n        var loadedPartnerRatingData = await workspace.LoadCurrentParameterAsync<PartnerRating>(args with { Year = y, Month = args.Year == y ? args.Month : MonthInAYear }, y => y.Partner);",
                "\n        lockedPartnerRating = lockedPartnerRating.Concat(loadedPartnerRatingData.Select(x => ",
                "\n                                                            new PartnerRatingsReportParameter {",
                "\n                                                                InitialYear = y,",
                "\n                                                                PartnerRatingType = \"Locked-In Rating\",",
                "\n                                                                Partner = x.Value.Partner,",
                "\n                                                                Year = x.Value.Year,",
                "\n                                                                Month = x.Value.Month,",
                "\n                                                                Scenario = x.Value.Scenario,",
                "\n                                                                CreditRiskRating = x.Value.CreditRiskRating",
                "\n                                                                }",
                "\n                                                            ));",
                "\n    ",
                "\n    }",
                "\n    ",
                "\n    return lockedPartnerRating.ToArray();",
                "\n}"
            ],
            "metadata": {},
            "execution_count": 0,
            "outputs": []
        },
        {
            "cell_type": "code",
            "source": [
                "public static async Task<CreditDefaultRatesReportParameter[]> GetCurrentCreditDefaultRatesReportParametersAsync(this IWorkspace workspace, ImportArgs args) {",
                "\n    var partnerRatings = await workspace.GetCurrentPartnerRatingsReportParametersAsync(args);",
                "\n    ",
                "\n    var currentCreditDefaultRates = (await workspace.LoadCurrentAndPreviousParameterAsync<CreditDefaultRate>(args, x => x.CreditRiskRating))",
                "\n    .Values",
                "\n    .SelectMany(x => x.Select(y =>",
                "\n    new CreditDefaultRatesReportParameter{",
                "\n        Period = ((Period)y.Key),",
                "\n        CreditRiskRating = y.Value.CreditRiskRating,",
                "\n        Year = y.Value.Year,",
                "\n        Month = y.Value.Month,",
                "\n        Scenario = y.Value.Scenario}",
                "\n    )).ToArray();",
                "\n",
                "\n    var partnerDefaultRates = partnerRatings.Join(",
                "\n    currentCreditDefaultRates,",
                "\n    pr => new {pr.Period, pr.CreditRiskRating},",
                "\n    cdr => new {cdr.Period, cdr.CreditRiskRating},",
                "\n    (pr, cdr) => ",
                "\n    new CreditDefaultRatesReportParameter {",
                "\n        Period = pr.Period,",
                "\n        CreditRiskRating = pr.CreditRiskRating,",
                "\n        Year = cdr.Year,",
                "\n        Month = cdr.Month,",
                "\n        Scenario = cdr.Scenario,",
                "\n        }",
                "\n    )",
                "\n    .ToArray();",
                "\n",
                "\n    return partnerDefaultRates;",
                "\n}"
            ],
            "metadata": {},
            "execution_count": 0,
            "outputs": []
        },
        {
            "cell_type": "code",
            "source": [
                "public static async Task<CreditDefaultRatesReportParameter[]> GetLockedInCreditDefaultRatesReportParametersAsync(this IWorkspace workspace, ImportArgs args) {",
                "\n    var initialYears = (await workspace.LoadDataNodesAsync(args)).Values.Select(dn => dn.Year).ToHashSet();",
                "\n    var lockedCreditDefaultRate = Enumerable.Empty<CreditDefaultRatesReportParameter>();",
                "\n    foreach (var y in initialYears) {   ",
                "\n        var loadedCreditDefaultRateData = await workspace.LoadCurrentParameterAsync<CreditDefaultRate>(args with { Year = y, Month = args.Year == y ? args.Month : MonthInAYear }, y => y.CreditRiskRating);",
                "\n        lockedCreditDefaultRate = lockedCreditDefaultRate.Concat(loadedCreditDefaultRateData.Select(x => ",
                "\n                                                        new CreditDefaultRatesReportParameter {",
                "\n                                                            InitialYear = y,",
                "\n                                                            CreditDefaultRatesType = \"Locked-In Rates\",",
                "\n                                                            CreditRiskRating = x.Value.CreditRiskRating,",
                "\n                                                            Year = x.Value.Year,",
                "\n                                                            Month = x.Value.Month,",
                "\n                                                            Scenario = x.Value.Scenario}",
                "\n                                                        ));",
                "\n    ",
                "\n    }",
                "\n",
                "\n    return lockedCreditDefaultRate.ToArray();",
                "\n}"
            ],
            "metadata": {},
            "execution_count": 0,
            "outputs": []
        },
        {
            "cell_type": "code",
            "source": [
                ""
            ],
            "metadata": {},
            "execution_count": 0,
            "outputs": []
        }
    ]
}