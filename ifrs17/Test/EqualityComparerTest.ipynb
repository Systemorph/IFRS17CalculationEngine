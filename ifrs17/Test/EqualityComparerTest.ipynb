{
    "metadata": {
        "authors": [],
        "id": "BLeYRQvV6kmFwHU_Sk6q4g",
        "kernelspec": {
            "display_name": "Formula Framework",
            "language": "C#",
            "name": "C#"
        },
        "language_info": {
            "file_extension": ".cs",
            "mimetype": "text/plain",
            "name": "C#"
        }
    },
    "nbformat": 4,
    "nbformat_minor": 5,
    "cells": [
        {
            "cell_type": "markdown",
            "source": [
                "<p style=\"font-weight:bold;\"> <span style=\"font-size: 36px\"> Equality Comparers Test </span> </p>"
            ],
            "metadata": {},
            "execution_count": 0,
            "outputs": []
        },
        {
            "cell_type": "markdown",
            "source": [
                "# Yield Curve"
            ],
            "metadata": {},
            "execution_count": 0,
            "outputs": []
        },
        {
            "cell_type": "code",
            "source": [
                "#!import \"../Utils/EqualityComparers\"",
                "\n#!import \"../Utils/TestHelper\""
            ],
            "metadata": {},
            "execution_count": 0,
            "outputs": []
        },
        {
            "cell_type": "code",
            "source": [
                "using FluentAssertions;"
            ],
            "metadata": {},
            "execution_count": 0,
            "outputs": []
        },
        {
            "cell_type": "code",
            "source": [
                "var comparer = YieldCurveComparer.Instance(); "
            ],
            "metadata": {},
            "execution_count": 0,
            "outputs": []
        },
        {
            "cell_type": "code",
            "source": [
                "var yc = new YieldCurve() {Currency = \"EUR\", ",
                "\n                           Year = 2000,",
                "\n                           Month = 1,",
                "\n                           Name = default, ",
                "\n                           Scenario = default, ",
                "\n                           Values = new double[]{0.001, 0.002, 0.003, 0.004}};"
            ],
            "metadata": {},
            "execution_count": 0,
            "outputs": []
        },
        {
            "cell_type": "code",
            "source": [
                "comparer.Equals(yc,yc).Should().BeTrue();"
            ],
            "metadata": {},
            "execution_count": 0,
            "outputs": []
        },
        {
            "cell_type": "code",
            "source": [
                "comparer.Equals(yc,null).Should().BeFalse();"
            ],
            "metadata": {},
            "execution_count": 0,
            "outputs": []
        },
        {
            "cell_type": "code",
            "source": [
                "comparer.Equals(yc,yc with { Month = 19}).Should().BeTrue();"
            ],
            "metadata": {},
            "execution_count": 0,
            "outputs": []
        },
        {
            "cell_type": "code",
            "source": [
                "comparer.Equals(yc,yc with { Year = 2001}).Should().BeFalse();"
            ],
            "metadata": {},
            "execution_count": 0,
            "outputs": []
        },
        {
            "cell_type": "code",
            "source": [
                "comparer.Equals(yc, yc with {Year = 2001, Values = new[] { 0.002, 0.003, 0.004 } }).Should().BeTrue();"
            ],
            "metadata": {},
            "execution_count": 0,
            "outputs": []
        },
        {
            "cell_type": "code",
            "source": [
                "comparer.Equals(yc,yc with { Year = 1999}).Should().BeFalse();"
            ],
            "metadata": {},
            "execution_count": 0,
            "outputs": []
        },
        {
            "cell_type": "code",
            "source": [
                "comparer.Equals(yc,yc with { Year = 1999, Values = new[] { 0.001, 0.001, 0.002, 0.003, 0.004 } }).Should().BeTrue();"
            ],
            "metadata": {},
            "execution_count": 0,
            "outputs": []
        },
        {
            "cell_type": "code",
            "source": [
                "comparer.Equals(yc,yc with {Values = new[] { 0.001, 0.001, 0.002, 0.003, 0.004 } }).Should().BeFalse();"
            ],
            "metadata": {},
            "execution_count": 0,
            "outputs": []
        },
        {
            "cell_type": "markdown",
            "source": [
                "# Ifrs Variable"
            ],
            "metadata": {},
            "execution_count": 0,
            "outputs": []
        },
        {
            "cell_type": "code",
            "source": [
                "var ifrsComparer = IfrsVariableComparer.Instance();"
            ],
            "metadata": {},
            "execution_count": 0,
            "outputs": []
        },
        {
            "cell_type": "code",
            "source": [
                "var iv1 = new IfrsVariable() {",
                "\n    AmountType = \"CL\", ",
                "\n    AccidentYear = 2021, ",
                "\n    Novelty = \"N\", ",
                "\n    DataNode = \"GR1\", ",
                "\n    AocType = \"EOP\",",
                "\n    EstimateType = \"PL\",",
                "\n    Values = new double [] {67.5, 57.0, 33.44, 30.12, 12.1, 0.0d}",
                "\n};",
                "\n",
                "\nvar iv2 = new IfrsVariable() {",
                "\n    AmountType = \"CL\", ",
                "\n    AccidentYear = 2021, ",
                "\n    Novelty = \"N\", ",
                "\n    DataNode = \"GR1\", ",
                "\n    AocType = \"EOP\",",
                "\n    EstimateType = \"PL\",",
                "\n    Values = new double [] {67.5, 57.0, 33.44, 30.12, 12.1, 5.03}",
                "\n};"
            ],
            "metadata": {},
            "execution_count": 0,
            "outputs": []
        },
        {
            "cell_type": "code",
            "source": [
                "ifrsComparer.Equals(iv1, iv1).Should().BeTrue()"
            ],
            "metadata": {},
            "execution_count": 0,
            "outputs": []
        },
        {
            "cell_type": "code",
            "source": [
                "ifrsComparer.Equals(iv1, iv2).Should().BeFalse()"
            ],
            "metadata": {},
            "execution_count": 0,
            "outputs": []
        },
        {
            "cell_type": "code",
            "source": [
                "ifrsComparer.Equals(iv1, iv1 with {Values = iv1.Values.Concat(new double[] {0, 0.1}).ToArray()}).Should().BeFalse()"
            ],
            "metadata": {},
            "execution_count": 0,
            "outputs": []
        },
        {
            "cell_type": "code",
            "source": [
                ""
            ],
            "metadata": {},
            "execution_count": 0,
            "outputs": []
        }
    ]
}