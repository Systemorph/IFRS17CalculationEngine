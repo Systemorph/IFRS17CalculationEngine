{
    "metadata": {
        "authors": [],
        "kernelspec": {
            "display_name": "Formula Framework",
            "language": "C#",
            "name": "C#"
        },
        "language_info": {
            "file_extension": ".cs",
            "mimetype": "text/plain",
            "name": "C#"
        }
    },
    "nbformat": 4,
    "nbformat_minor": 5,
    "cells": [
        {
            "cell_type": "code",
            "source": [
                "#!import \"../Utils/EqualityComparers\"",
                "\n#!import \"../Utils/TestHelper\""
            ],
            "metadata": {},
            "execution_count": 0,
            "outputs": []
        },
        {
            "cell_type": "code",
            "source": [
                "using FluentAssertions;"
            ],
            "metadata": {},
            "execution_count": 0,
            "outputs": []
        },
        {
            "cell_type": "code",
            "source": [
                "var comparer = YieldCurveComparer.Instance(); "
            ],
            "metadata": {},
            "execution_count": 0,
            "outputs": []
        },
        {
            "cell_type": "code",
            "source": [
                "var yc = new YieldCurve() {Currency = \"EUR\", ",
                "\n                           Year = 2000,",
                "\n                           Month = 1,",
                "\n                           Name = default, ",
                "\n                           Scenario = default, ",
                "\n                           Values = new double[]{0.001, 0.002, 0.003, 0.004}};"
            ],
            "metadata": {},
            "execution_count": 0,
            "outputs": []
        },
        {
            "cell_type": "code",
            "source": [
                "comparer.Equals(yc,yc).Should().BeTrue()"
            ],
            "metadata": {},
            "execution_count": 0,
            "outputs": []
        },
        {
            "cell_type": "code",
            "source": [
                "comparer.Equals(yc,null).Should().BeFalse()"
            ],
            "metadata": {},
            "execution_count": 0,
            "outputs": []
        },
        {
            "cell_type": "code",
            "source": [
                "var resyc3 = comp.Equals(yc1, yc1 with { Month = 19});",
                "\nvar resyc4 = comp.Equals(yc1, yc1 with {Year = 2001});",
                "\nvar resyc5 = comp.Equals(yc1, yc1 with {Year = 2001, Values = new[] { 2d, 3d } });",
                "\nvar resyc6 = comp.Equals(yc1, yc1 with { Year = 1999 });",
                "\nvar resyc7 = comp.Equals(yc1, yc1 with { Year = 1999, Values = new[] { 1d, 1d, 2d, 3d } });"
            ],
            "metadata": {},
            "execution_count": 0,
            "outputs": []
        },
        {
            "cell_type": "code",
            "source": [
                ""
            ],
            "metadata": {},
            "execution_count": 0,
            "outputs": []
        }
    ]
}