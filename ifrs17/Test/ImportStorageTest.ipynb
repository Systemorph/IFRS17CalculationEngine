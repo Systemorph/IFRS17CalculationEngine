{
    "metadata": {
        "authors": [],
        "id": "UBkQtzi400mCgXvIuhlVGw",
        "kernelspec": {
            "display_name": "Formula Framework",
            "language": "C#",
            "name": "C#"
        },
        "language_info": {
            "file_extension": ".cs",
            "mimetype": "text/plain",
            "name": "C#"
        }
    },
    "nbformat": 4,
    "nbformat_minor": 5,
    "cells": [
        {
            "cell_type": "markdown",
            "source": [
                "<p style=\"font-weight:bold;\"> <span style=\"font-size: 36px\"> Import Storage Test</span> </p>"
            ],
            "metadata": {},
            "execution_count": 0,
            "outputs": []
        },
        {
            "cell_type": "code",
            "source": [
                "#!import \"../Import/Importers\"",
                "\n#!import \"TestData\""
            ],
            "metadata": {},
            "execution_count": 0,
            "outputs": []
        },
        {
            "cell_type": "markdown",
            "source": [
                "# Initialization "
            ],
            "metadata": {},
            "execution_count": 0,
            "outputs": []
        },
        {
            "cell_type": "code",
            "source": [
                "static HashSet<string> myimportscopesatinception;",
                "\nstatic HashSet<string> myimportscopesnotatinception;",
                "\nstatic HashSet<string> myprimaryscope;",
                "\nstatic HashSet<string> mysecondaryscope;",
                "\nstatic HashSet<string> myprimaryscopefromparsed;",
                "\nstatic HashSet<string> myprimaryscopefromlinked;",
                "\n",
                "\npublic class ImportStorage",
                "\n{",
                "\n    private readonly IDataSource querySource; ",
                "\n    private readonly IWorkspace workspace;",
                "\n    private readonly Systemorph.Vertex.Hierarchies.IHierarchicalDimensionCache hierarchyCache;",
                "\n    private readonly ImportArgs args;",
                "\n    ",
                "\n    // Constants",
                "\n    private static int periodicityInMonths => 3; // Revisit",
                "\n    ",
                "\n    //Format",
                "\n    public string ImportFormat => args.ImportFormat; ",
                "\n    ",
                "\n    //Time Periods ",
                "\n    public (int Year, int Month) CurrentReportingPeriod => (args.Year, args.Month);",
                "\n    public (int Year, int Month) PreviousReportingPeriod => (args.Year - 1, MonthInAYear); // YTD Logic",
                "\n",
                "\n    //Partitions",
                "\n    public Guid PartitionByRn;",
                "\n    public Guid TargetPartition;",
                "\n    public Guid DefaultPartition;",
                "\n    public Guid PreviousPeriodPartition;    ",
                "\n",
                "\n    //Projections",
                "\n    private ProjectionConfiguration[] ProjectionConfiguration;",
                "\n    ",
                "\n    //DataNodes",
                "\n    public IDictionary<string, DataNodeData> DataNodeDataBySystemName { get; private set; }",
                "\n    public IDictionary<ImportScope, HashSet<string>> DataNodesByImportScope { get; private set; }",
                "\n    public IDictionary<string, ICollection<int?>> AccidentYearsByDataNode { get; private set; }",
                "\n    //Variables",
                "\n    public IDictionary<string, ICollection<RawVariable>> RawVariablesByImportIdentity { get; private set; }",
                "\n    public IDictionary<string, ICollection<IfrsVariable>> IfrsVariablesByImportIdentity { get; private set; }",
                "\n        ",
                "\n    //Parameters",
                "\n    public Dictionary<string, YieldCurve> LockedInYieldCurve { get; private set; }",
                "\n    public Dictionary<string, Dictionary<int, YieldCurve>> CurrentYieldCurve { get; private set; }",
                "\n    public Dictionary<string, Dictionary<int, PartnerRating>> PartnerRating { get; private set; }",
                "\n    public Dictionary<string, Dictionary<int, CreditDefaultRate>> CreditDefaultRates { get; private set; }",
                "\n    public Dictionary<string, Dictionary<int, SingleDataNodeParameter>> SingleDataNodeParametersByGoc { get; private set; }",
                "\n    public Dictionary<string, Dictionary<int, HashSet<InterDataNodeParameter>>> InterDataNodeParametersByGoc { get; private set; }",
                "\n    public Dictionary<AocStep, AocConfiguration> AocConfigurationByAocStep { get; private set; }",
                "\n    ",
                "\n    private Dictionary<InputSource, HashSet<AocStep>> aocStepByInputSource;",
                "\n    ",
                "\n    //Dimensions",
                "\n    public Dictionary<string, AmountType> AmountTypeDimension { get; private set; }",
                "\n    public Dictionary<string, Novelty> NoveltyDimension { get; private set; }",
                "\n    public Dictionary<string, EstimateType> EstimateTypeDimension { get; private set; }",
                "\n    public Dictionary<string, HashSet<string>> EstimateTypesByImportFormat { get; private set; }",
                "\n    public Dictionary<string, string> ExperienceAdjustEstimateTypeMapping { get; private set; } ",
                "\n    public HashSet<string> ImportActualEstimateTypes => GetImportActualEstimateType();",
                "\n",
                "\n    //Constructor",
                "\n    public ImportStorage(ImportArgs args, IDataSource querySource, IWorkspace workspace)",
                "\n    {",
                "\n        this.querySource = querySource;",
                "\n        this.workspace = workspace;",
                "\n        hierarchyCache = workspace.ToHierarchicalDimensionCache();",
                "\n        this.args = args;",
                "\n    }",
                "\n    ",
                "\n    //Initialize",
                "\n    public async Task InitializeAsync()",
                "\n    {   ",
                "\n        //Dimensions",
                "\n        var estimateTypes = await workspace.Query<EstimateType>().ToArrayAsync();",
                "\n        ",
                "\n        EstimateTypeDimension     = estimateTypes.ToDictionary(x => x.SystemName);",
                "\n        AmountTypeDimension       = (await workspace.Query<AmountType>().ToArrayAsync()).ToDictionary(x => x.SystemName);",
                "\n        NoveltyDimension          = (await workspace.Query<Novelty>().ToArrayAsync()).ToDictionary(x => x.SystemName);",
                "\n        ",
                "\n        ExperienceAdjustEstimateTypeMapping = new Dictionary<string,string>{{EstimateTypes.A, EstimateTypes.APA}}; //TODO move this logic",
                "\n        ",
                "\n        //Hierarchy Cache",
                "\n        await hierarchyCache.InitializeAsync<AmountType>();",
                "\n        ",
                "\n        //EstimateType to load and to update",
                "\n        EstimateTypesByImportFormat = new InputSource[] { InputSource.Opening, InputSource.Actual, InputSource.Cashflow }",
                "\n                                        .ToDictionary(x => x.ToString(), ",
                "\n                                                      x => estimateTypes",
                "\n                                                      .Where(et => et.InputSource.Contains(x))",
                "\n                                                      .Select(et => et.SystemName)",
                "\n                                                      .ToHashSet());",
                "\n        ",
                "\n        //ProjectionConfiguration : Current Period + projection for every Quarter End for current Year and next Years as in projectionConfiguration.csv",
                "\n        ProjectionConfiguration = (await workspace.Query<ProjectionConfiguration>()",
                "\n                                               .Where(x => x.Shift > 0 || x.TimeStep == args.Month || (x.TimeStep > args.Month && x.TimeStep % periodicityInMonths == 0))",
                "\n                                               .OrderBy(x => x.Shift).ThenBy(x => x.TimeStep).ToArrayAsync());",
                "\n        ",
                "\n        //Get Partitions",
                "\n        PartitionByRn = (await querySource.Query<PartitionByReportingNode>().Where(p => p.ReportingNode == args.ReportingNode).ToArrayAsync()).Single().Id;",
                "\n        TargetPartition = (await querySource.Query<PartitionByReportingNodeAndPeriod>().Where(p => p.ReportingNode == args.ReportingNode &&",
                "\n                                                                                                   p.Year == CurrentReportingPeriod.Year &&",
                "\n                                                                                                   p.Month == CurrentReportingPeriod.Month &&",
                "\n                                                                                                   p.Scenario == args.Scenario).ToArrayAsync()).Single().Id;",
                "\n        DefaultPartition = (await querySource.Query<PartitionByReportingNodeAndPeriod>().Where(p => p.ReportingNode == args.ReportingNode &&",
                "\n                                                                                                    p.Year == CurrentReportingPeriod.Year &&",
                "\n                                                                                                    p.Month == CurrentReportingPeriod.Month &&",
                "\n                                                                                                    p.Scenario == null).ToArrayAsync()).Single().Id;",
                "\n        //Set Partitions",
                "\n        await querySource.Partition.SetAsync<PartitionByReportingNode>(PartitionByRn);",
                "\n        await workspace.Partition.SetAsync<PartitionByReportingNode>(PartitionByRn);",
                "\n        ",
                "\n        await querySource.Partition.SetAsync<PartitionByReportingNodeAndPeriod>(TargetPartition);",
                "\n        await workspace.Partition.SetAsync<PartitionByReportingNodeAndPeriod>(TargetPartition);",
                "\n        ",
                "\n        //Get data from Workspace (result of parsing)",
                "\n        var parsedRawVariables = await workspace.QueryPartitionedDataAsync<RawVariable,PartitionByReportingNodeAndPeriod>(querySource, TargetPartition, DefaultPartition, ImportFormat);",
                "\n        var parsedIfrsVariables = await workspace.QueryPartitionedDataAsync<IfrsVariable,PartitionByReportingNodeAndPeriod>(querySource, TargetPartition, DefaultPartition, ImportFormat);",
                "\n        ",
                "\n        //DataNodes",
                "\n        DataNodeDataBySystemName = await workspace.LoadDataNodesAsync(args);",
                "\n        ",
                "\n        //Accident Years",
                "\n        AccidentYearsByDataNode = (IDictionary<string, ICollection<int?>>)",
                "\n            (ImportFormat == ImportFormats.Cashflow ? parsedRawVariables.Select(x => new {x.DataNode, x.AccidentYear}) : parsedIfrsVariables.Select(x => new {x.DataNode, x.AccidentYear}))",
                "\n            .ToDictionaryGrouped(x => x.DataNode, x => (ICollection<int?>)x.Select(y => y.AccidentYear).ToHashSet());",
                "\n        ",
                "\n        // Import Scopes and Data Node relationship parameters",
                "\n        InterDataNodeParametersByGoc = await workspace.LoadInterDataNodeParametersAsync(args);",
                "\n        ",
                "\n        var primaryScopeFromParsedVariables = (ImportFormat == ImportFormats.Cashflow ? parsedRawVariables.Select(x => x.DataNode) : parsedIfrsVariables.Select(x => x.DataNode)).ToHashSet();",
                "\n        var primaryScopeFromLinkedReinsurance = primaryScopeFromParsedVariables",
                "\n                                            .Where(goc => !DataNodeDataBySystemName[goc].IsReinsurance && DataNodeDataBySystemName[goc].LiabilityType == LiabilityTypes.LRC)",
                "\n                                            .SelectMany(goc => InterDataNodeParametersByGoc.TryGetValue(goc, out var interDataNodeParamByPeriod)",
                "\n                                                                  ? interDataNodeParamByPeriod[CurrentPeriod].Select(param => param.DataNode == goc ? param.LinkedDataNode : param.DataNode).Where(goc => !primaryScopeFromParsedVariables.Contains(goc))",
                "\n                                                                  : Enumerable.Empty<string>())",
                "\n                                            .ToHashSet();",
                "\n",
                "\n        var primaryScope = primaryScopeFromParsedVariables.Concat(primaryScopeFromLinkedReinsurance).ToHashSet();",
                "\n        var secondaryScope = InterDataNodeParametersByGoc",
                "\n                            .Where(kvp => primaryScope.Contains(kvp.Key))",
                "\n                            .SelectMany(kvp => { var linkedGocs = kvp.Value[CurrentPeriod].Select(param => param.DataNode == kvp.Key ? param.LinkedDataNode : param.DataNode);",
                "\n                                                return linkedGocs.Where(goc => !primaryScope.Contains(goc));}).ToHashSet();",
                "\n        var allImportScopes = new HashSet<string>(primaryScope.Concat(secondaryScope));",
                "\n        ",
                "\n        DataNodesByImportScope = new Dictionary<ImportScope, HashSet<string>> { { ImportScope.Primary, primaryScope }, { ImportScope.Secondary, secondaryScope } };",
                "\n        ",
                "\n        // Parameters",
                "\n        PartnerRating = await workspace.LoadCurrentAndPreviousParameterAsync<PartnerRating>(args, x => x.Partner);",
                "\n        CreditDefaultRates = await workspace.LoadCurrentAndPreviousParameterAsync<CreditDefaultRate>(args, x => x.CreditRiskRating);",
                "\n        SingleDataNodeParametersByGoc = await workspace.LoadSingleDataNodeParametersAsync(args);",
                "\n        LockedInYieldCurve = await workspace.LoadLockedInYieldCurveAsync(args, allImportScopes.Select(dn => DataNodeDataBySystemName[dn]));",
                "\n        CurrentYieldCurve = await workspace.LoadCurrentYieldCurveAsync(args, allImportScopes.Select(dn => DataNodeDataBySystemName[dn])); //TODO Rename this variable",
                "\n        ",
                "\n        AocConfigurationByAocStep = await querySource.LoadAocStepConfigurationAsDictionaryAsync(args.Year, args.Month);         ",
                "\n        aocStepByInputSource = ((InputSource[])Enum.GetValues(typeof(InputSource))).ToDictionary(x => x,",
                "\n                                                                                                 x => AocConfigurationByAocStep",
                "\n                                                                                                 .Where(kvp => kvp.Value.InputSource.Contains(x))",
                "\n                                                                                                 .Select(kvp => kvp.Key)",
                "\n                                                                                                 .ToHashSet());",
                "\n        ",
                "\n        //Previous Period",
                "\n        var openingRawVariables = Enumerable.Empty<RawVariable>();",
                "\n        var openingIfrsVariables = Enumerable.Empty<IfrsVariable>();",
                "\n",
                "\n        var allImportScopesAtInceptionYear = allImportScopes.Select(dn => DataNodeDataBySystemName[dn]).Where(dnd => dnd.Year == args.Year).Select(x => x.DataNode).ToHashSet();",
                "\n        var allImportScopesNotAtInceptionYear = allImportScopes.Except(allImportScopesAtInceptionYear).ToHashSet();",
                "\nmyimportscopesatinception=allImportScopesAtInceptionYear;",
                "\nmyimportscopesnotatinception=allImportScopesNotAtInceptionYear;",
                "\nmyprimaryscope = primaryScope;",
                "\nmysecondaryscope = secondaryScope;",
                "\nmyprimaryscopefromparsed = primaryScopeFromParsedVariables;",
                "\nmyprimaryscopefromlinked = primaryScopeFromLinkedReinsurance;",
                "\n        if(allImportScopesAtInceptionYear.Any()) {",
                "\n            var primaryScopeAtInceptionYear = allImportScopesAtInceptionYear.Where(dn => primaryScope.Contains(dn));",
                "\n            var secondaryScopeAtInceptionYear = allImportScopesAtInceptionYear.Where(dn => secondaryScope.Contains(dn));",
                "\n",
                "\n            openingIfrsVariables = await querySource.Query<IfrsVariable>()",
                "\n                                    .Where(iv => iv.Partition == TargetPartition && iv.AocType == AocTypes.BOP && iv.Novelty == Novelties.I)",
                "\n                                    .Where(iv => primaryScopeAtInceptionYear.Contains(iv.DataNode) && ImportFormat != ImportFormats.Opening",
                "\n                                                 && EstimateTypesByImportFormat[InputSource.Opening.ToString()].Contains(iv.EstimateType) ",
                "\n                                                 || secondaryScopeAtInceptionYear.Contains(iv.DataNode)).ToArrayAsync();",
                "\n        }",
                "\n",
                "\n        if(allImportScopesNotAtInceptionYear.Any()) {",
                "\n            PreviousPeriodPartition = (await querySource.Query<PartitionByReportingNodeAndPeriod>()",
                "\n                                        .Where(p => p.ReportingNode == args.ReportingNode && p.Year == PreviousReportingPeriod.Year ",
                "\n                                                 && p.Month == PreviousReportingPeriod.Month && p.Scenario == null).ToArrayAsync()).Single().Id;",
                "\n            ",
                "\n            await querySource.Partition.SetAsync<PartitionByReportingNodeAndPeriod>(PreviousPeriodPartition);",
                "\n        ",
                "\n            //Perform queries to previous Period",
                "\n            openingRawVariables = (await querySource.Query<RawVariable>()",
                "\n                                   .Where(rv => rv.Partition == PreviousPeriodPartition && rv.AocType == AocTypes.CL)",
                "\n                                   .Where(v => primaryScope.Contains(v.DataNode)).ToArrayAsync())",
                "\n                                   .Select(rv => rv with {AocType = AocTypes.BOP, Novelty = Novelties.I, ",
                "\n                                                 Values = rv.Values.Skip(MonthInAYear).ToArray(), Partition = TargetPartition});",
                "\n            ",
                "\n            openingIfrsVariables = openingIfrsVariables.Union((await querySource.Query<IfrsVariable>()",
                "\n                                    .Where(iv => iv.Partition == PreviousPeriodPartition && iv.AocType == AocTypes.EOP)",
                "\n                                    .Where(v => allImportScopesNotAtInceptionYear.Contains(v.DataNode)).ToArrayAsync())",
                "\n                                    .Select(iv => iv with {AocType = AocTypes.BOP, Novelty = Novelties.I, Partition = TargetPartition}),",
                "\n                                    EqualityComparer<IfrsVariable>.Instance);",
                "\n            ",
                "\n            await querySource.Partition.SetAsync<PartitionByReportingNodeAndPeriod>(TargetPartition);",
                "\n",
                "\n            // TODO: print error if ",
                "\n            //openingRawVariables.Select(x => x.DataNode).ToHashSet() != dataNodesWithPreviousPeriod",
                "\n        }",
                "\n        ",
                "\n        //Variables",
                "\n        var rawVariables = parsedRawVariables.Concat(openingRawVariables)",
                "\n                                             .Concat(await querySource.Query<RawVariable>()",
                "\n                                                                      .Where(rv => rv.Partition == TargetPartition)",
                "\n                                                                      .Where(rv => primaryScopeFromLinkedReinsurance.Contains(rv.DataNode)).ToArrayAsync()); ",
                "\n        ",
                "\n        var ifrsVariables = parsedIfrsVariables.Union(openingIfrsVariables, EqualityComparer<IfrsVariable>.Instance)",
                "\n                                               .Concat(await querySource.Query<IfrsVariable>()",
                "\n                                                                        .Where(iv => iv.Partition == TargetPartition && !(iv.AocType == AocTypes.BOP && iv.Novelty == Novelties.I))",
                "\n                                                                        .Where(iv => primaryScopeFromParsedVariables.Contains(iv.DataNode) ",
                "\n                                                                                     && !EstimateTypesByImportFormat[ImportFormat].Contains(iv.EstimateType)  ",
                "\n                                                                                     || primaryScopeFromLinkedReinsurance.Contains(iv.DataNode) ",
                "\n                                                                                     || secondaryScope.Contains(iv.DataNode)).ToArrayAsync());",
                "\n",
                "\n        if(DefaultPartition != TargetPartition) {",
                "\n            await querySource.Partition.SetAsync<PartitionByReportingNodeAndPeriod>(DefaultPartition);",
                "\n            var defaultRawVariables = await querySource.Query<RawVariable>().Where(rv => rv.Partition == DefaultPartition && primaryScope.Contains(rv.DataNode)).ToArrayAsync();",
                "\n            var defaultIfrsVariables = await querySource.Query<IfrsVariable>().Where(iv => iv.Partition == DefaultPartition && allImportScopes.Contains(iv.DataNode)).ToArrayAsync();         ",
                "\n            rawVariables = rawVariables.Union(defaultRawVariables, EqualityComparer<RawVariable>.Instance);",
                "\n            ifrsVariables = ifrsVariables.Union(defaultIfrsVariables, EqualityComparer<IfrsVariable>.Instance);",
                "\n            await querySource.Partition.SetAsync<PartitionByReportingNodeAndPeriod>(TargetPartition);",
                "\n        }",
                "\n",
                "\n        RawVariablesByImportIdentity = (IDictionary<string, ICollection<RawVariable>>)rawVariables.ToDictionaryGrouped(v => v.DataNode, v => (ICollection<RawVariable>)v.ToArray());",
                "\n        IfrsVariablesByImportIdentity = (IDictionary<string, ICollection<IfrsVariable>>)ifrsVariables.ToDictionaryGrouped(v => v.DataNode, v => (ICollection<IfrsVariable>)v.ToArray());",
                "\n    }",
                "\n    ",
                "\n    //Getters",
                "\n    ",
                "\n    //Periods",
                "\n    public ValuationPeriod GetValuationPeriod(ImportIdentity id) => AocConfigurationByAocStep[new AocStep(id.AocType, id.Novelty)].ValuationPeriod;",
                "\n    public PeriodType GetYieldCurvePeriod(ImportIdentity id) => AocConfigurationByAocStep[new AocStep(id.AocType, id.Novelty)].YcPeriod;",
                "\n    public PeriodType GetCreditDefaultRiskPeriod(ImportIdentity id) => AocConfigurationByAocStep[new AocStep(id.AocType, id.Novelty)].CdrPeriod;",
                "\n    ",
                "\n    public IEnumerable<AocStep> GetAllAocSteps(InputSource source) => aocStepByInputSource[source];",
                "\n    public IEnumerable<AocStep> GetCalculatedTelescopicAocSteps() => AocConfigurationByAocStep.Where(kvp => kvp.Value.DataType == DataType.CalculatedTelescopic).Select(kvp => kvp.Key);",
                "\n",
                "\n    //YieldCurve",
                "\n    public double[] GetYearlyYieldCurve(ImportIdentity id, string economicBasis) {",
                "\n        var yc = GetYieldCurve(id, economicBasis);",
                "\n        return yc.Values.Skip(args.Year - yc.Year).ToArray(); //Check if the returned array is empty? Log Warning?",
                "\n    }",
                "\n    ",
                "\n    public YieldCurve GetYieldCurve(ImportIdentity id, string economicBasis) => (economicBasis, GetYieldCurvePeriod(id)) switch {",
                "\n            (EconomicBases.C, PeriodType.BeginningOfPeriod ) => GetShift(id.ProjectionPeriod) > 0 ",
                "\n                                     ? CurrentYieldCurve[id.DataNode][CurrentPeriod]",
                "\n                                     : CurrentYieldCurve[id.DataNode][PreviousPeriod],",
                "\n            (EconomicBases.C, PeriodType.EndOfPeriod) => CurrentYieldCurve[id.DataNode][CurrentPeriod],            ",
                "\n            (EconomicBases.L, _ ) => LockedInYieldCurve[id.DataNode],",
                "\n            (_, PeriodType.NotApplicable) => (YieldCurve)ApplicationMessage.Log(Error.YieldCurvePeriodNotApplicable, id.AocType, id.Novelty),",
                "\n            (_, _) => (YieldCurve)ApplicationMessage.Log(Error.EconomicBasisNotFound, id.DataNode)",
                "\n       };",
                "\n",
                "\n    //int Identity.ProjectionPeriod ",
                "\n    public int GetProjectionCount() => ProjectionConfiguration.Count();",
                "\n    public int GetShift(int projectionPeriod) => ProjectionConfiguration[projectionPeriod].Shift;",
                "\n    public int GetTimeStep(int projectionPeriod) => ProjectionConfiguration[projectionPeriod].TimeStep;",
                "\n    ",
                "\n    public PeriodType GetPeriodType(string amountType, string estimateType) => ",
                "\n                    amountType != null && AmountTypeDimension.TryGetValue(amountType, out var at) ",
                "\n                                ? at.PeriodType",
                "\n                                : estimateType != null && EstimateTypeDimension.TryGetValue(estimateType, out var ct) ",
                "\n                                    ? ct.PeriodType : PeriodType.EndOfPeriod;",
                "\n",
                "\n    //Variables and Cash flows",
                "\n    ",
                "\n    public IEnumerable<RawVariable> GetRawVariables(string dataNode) => RawVariablesByImportIdentity.TryGetValue(dataNode, out var variableCollection) ? variableCollection : Enumerable.Empty<RawVariable>();",
                "\n    public IEnumerable<IfrsVariable> GetIfrsVariables(string dataNode) => IfrsVariablesByImportIdentity.TryGetValue(dataNode, out var variableCollection) ? variableCollection : Enumerable.Empty<IfrsVariable>();",
                "\n    ",
                "\n    public double[] GetValues(ImportIdentity id, Func<RawVariable, bool> whereClause) => GetRawVariables(id.DataNode).Where(v => (v.AocType, v.Novelty) == id.AocStep && whereClause(v)).Aggregate()?.Values ?? Enumerable.Empty<double>().ToArray();",
                "\n    public double GetValue(ImportIdentity id, Func<IfrsVariable, bool> whereClause) => GetIfrsVariables(id.DataNode).Where(v => (v.AocType, v.Novelty) == id.AocStep && whereClause(v)).Aggregate()?.Value ?? 0;",
                "\n    public double[] GetValues(ImportIdentity id, string amountType, string estimateType, int? accidentYear) => GetValues(id, v => v.AccidentYear == accidentYear && v.AmountType == amountType && v.EstimateType == estimateType);",
                "\n",
                "\n    public double GetValue(ImportIdentity id, string amountType, string estimateType, int? accidentYear) => GetValue(id, v => v.AccidentYear == accidentYear && v.AmountType == amountType && v.EstimateType == estimateType);",
                "\n    public double GetValue(ImportIdentity id, string amountType, string estimateType, string economicBasis, int? accidentYear) => GetValue(id, v => v.AccidentYear == accidentYear && v.AmountType == amountType && v.EstimateType == estimateType && v.EconomicBasis == economicBasis);",
                "\n   ",
                "\n    //Novelty",
                "\n    private IEnumerable<string> GetNoveltiesForAocType(string aocType, IEnumerable<AocStep> aocConfiguration) => aocConfiguration.Where(aocStep => aocStep.AocType == aocType).Select(aocStep => aocStep.Novelty);",
                "\n    public IEnumerable<string> GetNovelties() => NoveltyDimension.Keys;",
                "\n    public IEnumerable<string> GetNovelties(string aocType) => GetNoveltiesForAocType(aocType, AocConfigurationByAocStep.Keys);",
                "\n    public IEnumerable<string> GetNovelties(string aocType, InputSource inputSource) => GetNoveltiesForAocType(aocType, aocStepByInputSource[inputSource]);",
                "\n    ",
                "\n    //Accident years",
                "\n    public IEnumerable<int?> GetAccidentYears(string dataNode) => AccidentYearsByDataNode.TryGetValue(dataNode, out var accidentYear) ? accidentYear : new int?[] { null };",
                "\n    ",
                "\n    // Parameters",
                "\n    public double GetNonPerformanceRiskRate (ImportIdentity identity) {",
                "\n        var period = GetCreditDefaultRiskPeriod(identity) == PeriodType.BeginningOfPeriod ? PreviousPeriod : CurrentPeriod;",
                "\n       ",
                "\n        if(!DataNodeDataBySystemName.TryGetValue(identity.DataNode, out var dataNodeData))     ApplicationMessage.Log(Error.DataNodeNotFound, identity.DataNode);",
                "\n        if(dataNodeData.Partner == null)                                                       ApplicationMessage.Log(Error.PartnerNotFound, identity.DataNode);",
                "\n        // if Partner == Internal then return 0;",
                "\n        if(!PartnerRating.TryGetValue(dataNodeData.Partner, out var rating))                   ApplicationMessage.Log(Error.RatingNotFound, dataNodeData.Partner);",
                "\n        if(!CreditDefaultRates.TryGetValue(rating[period].CreditRiskRating, out var rate))     ApplicationMessage.Log(Error.CreditDefaultRateNotFound, rating[period].CreditRiskRating);",
                "\n        return Math.Pow(1d + rate[period].Values[0], 1d / 12d) - 1d;",
                "\n    }",
                "\n    ",
                "\n    public double GetPremiumAllocationFactor(ImportIdentity id) => SingleDataNodeParametersByGoc.TryGetValue(id.DataNode, out var singleDataNodeParameter) ",
                "\n                                                                                ? singleDataNodeParameter[CurrentPeriod].PremiumAllocation : DefaultPremiumExperienceAdjustmentFactor;",
                "\n    ",
                "\n    // Data Node relationships",
                "\n    public IEnumerable<string> GetUnderlyingGic(ImportIdentity id) => !InterDataNodeParametersByGoc.TryGetValue(id.DataNode, out var interDataNodeParameters)",
                "\n        ? Enumerable.Empty<string>()",
                "\n        : interDataNodeParameters[CurrentPeriod].Select(x => x.DataNode != id.DataNode ? x.DataNode : x.LinkedDataNode).Where(goc => !DataNodeDataBySystemName[goc].IsReinsurance);",
                "\n    ",
                "\n    public double GetReinsuranceCoverage (ImportIdentity id, string gic)  ",
                "\n    {",
                "\n        var targetPeriod = AocConfigurationByAocStep[new AocStep(id.AocType, id.Novelty)].RcPeriod == PeriodType.EndOfPeriod ? CurrentPeriod : PreviousPeriod;",
                "\n        return InterDataNodeParametersByGoc.TryGetValue(id.DataNode, out var interDataNodeParameters)",
                "\n            ? interDataNodeParameters[targetPeriod].FirstOrDefault(x => x.DataNode == gic || x.LinkedDataNode == gic).ReinsuranceCoverage",
                "\n            : (double)ApplicationMessage.Log(Error.ReinsuranceCoverage, id.DataNode);",
                "\n    }",
                "\n    ",
                "\n    // Import Scope",
                "\n    public bool IsPrimaryScope (string dataNode) => DataNodesByImportScope[ImportScope.Primary].Contains(dataNode);",
                "\n    public bool IsSecondaryScope (string dataNode) => DataNodesByImportScope[ImportScope.Secondary].Contains(dataNode);",
                "\n    ",
                "\n    // Other",
                "\n    public IEnumerable<string> GetNonAttributableAmountType() => new string[]{AmountTypes.NE};",
                "\n    public IEnumerable<string> GetAttributableExpenseAndCommissionAmountType() => hierarchyCache.Get<AmountType>(AmountTypes.ACA).Descendants(includeSelf : true).Select(x => x.SystemName)",
                "\n                                                                                   .Concat(hierarchyCache.Get<AmountType>(AmountTypes.AEA).Descendants(includeSelf : true).Select(x => x.SystemName));",
                "\n    public IEnumerable<string> GetInvestmentClaims() => hierarchyCache.Get<AmountType>(AmountTypes.ICO).Descendants(includeSelf : true).Select(x => x.SystemName);",
                "\n    public IEnumerable<string> GetPremiums() => hierarchyCache.Get<AmountType>(AmountTypes.PR).Descendants(includeSelf : true).Select(x => x.SystemName);",
                "\n    public IEnumerable<string> GetClaims() => hierarchyCache.Get<AmountType>(AmountTypes.CL).Descendants().Select(x => x.SystemName);",
                "\n}"
            ],
            "metadata": {},
            "execution_count": 0,
            "outputs": []
        },
        {
            "cell_type": "code",
            "source": [
                "await DataSource.SetAsync();",
                "\nDataSource.Reset(x => x.ResetCurrentPartitions());",
                "\nWorkspace.Reset(x => x.ResetCurrentPartitions());"
            ],
            "metadata": {},
            "execution_count": 0,
            "outputs": []
        },
        {
            "cell_type": "code",
            "source": [
                "await Import.FromString(novelties).WithType<Novelty>().WithTarget(DataSource).ExecuteAsync();",
                "\nawait Import.FromString(canonicalAocTypes).WithType<AocType>().WithTarget(DataSource).ExecuteAsync();",
                "\nawait Import.FromString(canonicalAocConfig).WithFormat(ImportFormats.AocConfiguration).WithTarget(DataSource).ExecuteAsync();"
            ],
            "metadata": {},
            "execution_count": 0,
            "outputs": []
        },
        {
            "cell_type": "code",
            "source": [
                "await DataSource.UpdateAsync<Portfolio>(new[]{ dt1 });",
                "\nawait DataSource.UpdateAsync<Portfolio>(new[]{ dtr1 });",
                "\nawait DataSource.UpdateAsync<GroupOfInsuranceContract>(new[]{ dt11 });",
                "\nawait DataSource.UpdateAsync<GroupOfReinsuranceContract>(new[]{ dtr11 });"
            ],
            "metadata": {},
            "execution_count": 0,
            "outputs": []
        },
        {
            "cell_type": "code",
            "source": [
                "await DataSource.UpdateAsync<DataNodeState>(new[]{ dt11State, dtr11State });",
                "\nawait DataSource.UpdateAsync(new[]{ dt11Inter });"
            ],
            "metadata": {},
            "execution_count": 0,
            "outputs": []
        },
        {
            "cell_type": "code",
            "source": [
                "await DataSource.UpdateAsync(new[]{ yieldCurve, yieldCurvePrevious });"
            ],
            "metadata": {},
            "execution_count": 0,
            "outputs": []
        },
        {
            "cell_type": "code",
            "source": [
                "await Import.FromString(estimateType).WithType<EstimateType>().WithTarget(DataSource).ExecuteAsync();"
            ],
            "metadata": {},
            "execution_count": 0,
            "outputs": []
        },
        {
            "cell_type": "code",
            "source": [
                "Workspace.Initialize(x => x.FromSource(DataSource).DisableInitialization<RawVariable>().DisableInitialization<IfrsVariable>());"
            ],
            "metadata": {},
            "execution_count": 0,
            "outputs": []
        },
        {
            "cell_type": "code",
            "source": [
                "await DataSource.UpdateAsync<PartitionByReportingNodeAndPeriod>(new[]{partition, previousPeriodPartition, partitionScenarioMTUP});",
                "\nawait DataSource.UpdateAsync<PartitionByReportingNode>(new[]{partitionReportingNode});"
            ],
            "metadata": {},
            "execution_count": 0,
            "outputs": []
        },
        {
            "cell_type": "markdown",
            "source": [
                "# Check method"
            ],
            "metadata": {},
            "execution_count": 0,
            "outputs": []
        },
        {
            "cell_type": "code",
            "source": [
                "static IfrsVariable[] mya;",
                "\nstatic IfrsVariable[] myb;",
                "\nstatic ImportStorage mystorage;",
                "\n",
                "\npublic async Task<ActivityLog> CheckIfrsVariablesFromImportStorageAsync(string importFormat, IEnumerable<IfrsVariable> inputDataSetForWorkspace, IEnumerable<IfrsVariable> inputDataSetForDataSource, IEnumerable<IfrsVariable> ivsBenchmark, ImportArgs args)",
                "\n{",
                "\n    Activity.Start();",
                "\n    //Prepare Workspace and DataSource",
                "\n    await Workspace.UpdateAsync<IfrsVariable>(inputDataSetForWorkspace);",
                "\n    await DataSource.UpdateAsync<IfrsVariable>(inputDataSetForDataSource);",
                "\n    ",
                "\n    //Set up import storage and test universe",
                "\n    var testStorage = new ImportStorage(args with {ImportFormat = importFormat}, DataSource, Workspace);",
                "\n    await testStorage.InitializeAsync();",
                "\n    var ivs = testStorage.IfrsVariablesByImportIdentity.SelectMany(x => x.Value);",
                "\n    ",
                "\n    //Clean up Workspace",
                "\n    //Workspace.Reset();    ",
                "\n    await Workspace.DeleteAsync<IfrsVariable>(inputDataSetForWorkspace);    ",
                "\n    await DataSource.DeleteAsync<IfrsVariable>(inputDataSetForDataSource);    ",
                "\n    ",
                "\n    var errors = new List<string>();",
                "\n    ",
                "\n    var extraVariablesInStorage = ivs.Except(ivsBenchmark).Select(x => x.ToIdentityString()+\" Value: \"+x.Value.ToString()).ToArray();",
                "\n    if(extraVariablesInStorage.Any()) errors.Add( $\"IfrsVariables in the storage contain the following items that are not present in the benchmark:\\n{string.Join(\"\\n\",extraVariablesInStorage)}.\" );",
                "\n       ",
                "\n    var extraVariablesInBenchmark = ivsBenchmark.Except(ivs).Select(x => x.ToIdentityString()+\" Value: \"+x.Value.ToString()).ToArray();",
                "\n    if(extraVariablesInBenchmark.Any()) errors.Add( $\"IfrsVariables in the benchmark contain the following items that are not present in the storage:\\n{string.Join(\"\\n\",extraVariablesInBenchmark)}.\" );",
                "\n        mya = ivs.Except(ivsBenchmark).ToArray();",
                "\n        myb = ivsBenchmark.Except(ivs).ToArray();",
                "\n        mystorage = testStorage;",
                "\n    //find duplicates in storage",
                "\n    var ivsByIdentityString = ivs.GroupBy(x => x.ToIdentityString()).Where(x => x.Count() > 1).Select(x => x.Key);",
                "\n    if(ivsByIdentityString.Any()) errors.Add($\"IfrsVariables in the storage have duplicated items for:\\n{string.Join(\"\\n\",ivsByIdentityString)}.\");",
                "\n    ",
                "\n    if(errors.Any()) ApplicationMessage.Log(Error.Generic, string.Join(\"\\n\", errors));",
                "\n    return Activity.Finish();",
                "\n}"
            ],
            "metadata": {},
            "execution_count": 0,
            "outputs": []
        },
        {
            "cell_type": "markdown",
            "source": [
                "# Test Best Estimate"
            ],
            "metadata": {},
            "execution_count": 0,
            "outputs": []
        },
        {
            "cell_type": "markdown",
            "source": [
                "## Actuals Import 1",
                "\n",
                "\nThere is a previous year, and it's the first time Actuals are imported for the current year."
            ],
            "metadata": {},
            "execution_count": 0,
            "outputs": []
        },
        {
            "cell_type": "code",
            "source": [
                "var basicIfrsVariable = new IfrsVariable{Partition = partition.Id, DataNode = groupOfInsuranceContracts, AccidentYear = null, AmountType = AmountTypes.PR, Novelty = Novelties.C, EstimateType = EstimateTypes.AA};",
                "\n",
                "\nvar inputDataSetForDataSource = new IfrsVariable[]{",
                "\n    basicIfrsVariable with {Partition = previousPeriodPartition.Id, AocType = AocTypes.EOP, Value = 100.0},",
                "\n    basicIfrsVariable with {Partition = previousPeriodPartition.Id, AocType = AocTypes.EOP, EstimateType = EstimateTypes.DA, Value = 1000.0},",
                "\n  };",
                "\n",
                "\nvar inputDataSetForWorkspace = new IfrsVariable[]{",
                "\n    basicIfrsVariable with {AocType = AocTypes.CF, Value = -10.0},",
                "\n    basicIfrsVariable with {AocType = AocTypes.WO, Value = 15.0},",
                "\n  };",
                "\n",
                "\nvar ivsBenchmark = new IfrsVariable[]{",
                "\n    basicIfrsVariable with {AocType = AocTypes.BOP, Novelty = Novelties.I, EstimateType = EstimateTypes.DA, Value = 1000.0},",
                "\n    basicIfrsVariable with {AocType = AocTypes.BOP, Novelty = Novelties.I, Value = 100.0},",
                "\n    basicIfrsVariable with {AocType = AocTypes.CF, Value = -10.0},",
                "\n    basicIfrsVariable with {AocType = AocTypes.WO, Value = 15.0},",
                "\n  };",
                "\nvar activity = await CheckIfrsVariablesFromImportStorageAsync(ImportFormats.Actual, inputDataSetForWorkspace, inputDataSetForDataSource, ivsBenchmark, args);",
                "\nactivity"
            ],
            "metadata": {},
            "execution_count": 0,
            "outputs": []
        },
        {
            "cell_type": "code",
            "source": [
                "activity.Status.Should().Be(ActivityLogStatus.Succeeded);"
            ],
            "metadata": {},
            "execution_count": 0,
            "outputs": []
        },
        {
            "cell_type": "markdown",
            "source": [
                "## Actuals Import 2",
                "\n",
                "\nThere is a previous year, cash flow were already imported and actuals are imported for the first time."
            ],
            "metadata": {},
            "execution_count": 0,
            "outputs": []
        },
        {
            "cell_type": "code",
            "source": [
                "var basicIfrsVariable = new IfrsVariable{Partition = partition.Id, DataNode = groupOfInsuranceContracts, AccidentYear = null, AmountType = AmountTypes.PR, Novelty = Novelties.I, EstimateType = EstimateTypes.BE};",
                "\n",
                "\nvar inputDataSetForDataSource = new IfrsVariable[]{",
                "\n    basicIfrsVariable with {Partition = previousPeriodPartition.Id, AocType = AocTypes.EOP, EstimateType = EstimateTypes.AA, Novelty = Novelties.C, Value = 100.0},",
                "\n    basicIfrsVariable with {Partition = previousPeriodPartition.Id, AocType = AocTypes.EOP, Value = 1000.0},",
                "\n    basicIfrsVariable with {AocType = AocTypes.BOP, Novelty = Novelties.I, Value = 1000.0},",
                "\n    basicIfrsVariable with {AocType = AocTypes.IA, Value = 1500.0},",
                "\n    basicIfrsVariable with {AocType = AocTypes.CF, Value = 2500.0},",
                "\n    basicIfrsVariable with {AocType = AocTypes.EOP, Value = 5000.0},",
                "\n  };",
                "\n",
                "\nvar inputDataSetForWorkspace = new IfrsVariable[]{",
                "\n    basicIfrsVariable with {AocType = AocTypes.CF, EstimateType = EstimateTypes.AA, Novelty = Novelties.C, Value = -15.0},",
                "\n    basicIfrsVariable with {AocType = AocTypes.WO, EstimateType = EstimateTypes.AA, Novelty = Novelties.C, Value = -20.0},",
                "\n  };",
                "\n",
                "\nvar ivsBenchmark = new IfrsVariable[]{",
                "\n    basicIfrsVariable with {AocType = AocTypes.BOP, Novelty = Novelties.I, Value = 1000.0},",
                "\n    basicIfrsVariable with {AocType = AocTypes.IA, Value = 1500.0},",
                "\n    basicIfrsVariable with {AocType = AocTypes.CF, Value = 2500.0},",
                "\n    basicIfrsVariable with {AocType = AocTypes.EOP, Value = 5000.0},",
                "\n    basicIfrsVariable with {AocType = AocTypes.BOP, Novelty = Novelties.I, EstimateType = EstimateTypes.AA, Value = 100.0},",
                "\n    basicIfrsVariable with {AocType = AocTypes.CF, EstimateType = EstimateTypes.AA, Novelty = Novelties.C, Value = -15.0},",
                "\n    basicIfrsVariable with {AocType = AocTypes.WO, EstimateType = EstimateTypes.AA, Novelty = Novelties.C, Value = -20.0},",
                "\n  };",
                "\n",
                "\nvar activity = await CheckIfrsVariablesFromImportStorageAsync(ImportFormats.Actual, inputDataSetForWorkspace, inputDataSetForDataSource, ivsBenchmark, args);",
                "\nactivity"
            ],
            "metadata": {},
            "execution_count": 0,
            "outputs": []
        },
        {
            "cell_type": "code",
            "source": [
                "activity.Status.Should().Be(ActivityLogStatus.Succeeded);"
            ],
            "metadata": {},
            "execution_count": 0,
            "outputs": []
        },
        {
            "cell_type": "markdown",
            "source": [
                "## Actuals Reimport",
                "\n",
                "\nThere is a previous year, and it's the second time Actuals are imported for the current year (reimport)."
            ],
            "metadata": {},
            "execution_count": 0,
            "outputs": []
        },
        {
            "cell_type": "code",
            "source": [
                "var basicIfrsVariable = new IfrsVariable{Partition = partition.Id, DataNode = groupOfInsuranceContracts, AccidentYear = null, AmountType = AmountTypes.PR, Novelty = Novelties.C, EstimateType = EstimateTypes.AA};",
                "\n",
                "\nvar inputDataSetForDataSource = new IfrsVariable[]{",
                "\n    basicIfrsVariable with {Partition = previousPeriodPartition.Id, AocType = AocTypes.EOP, Value = 100.0},",
                "\n    basicIfrsVariable with {Partition = previousPeriodPartition.Id, AocType = AocTypes.EOP, EstimateType = EstimateTypes.DA, Value = 1000.0},",
                "\n    basicIfrsVariable with {AocType = AocTypes.BOP, Novelty = Novelties.I, EstimateType = EstimateTypes.DA, Value = 1000.0},",
                "\n    basicIfrsVariable with {AocType = AocTypes.BOP, Novelty = Novelties.I, Value = 100.0},",
                "\n    basicIfrsVariable with {AocType = AocTypes.CF, Value = 150.0},",
                "\n    basicIfrsVariable with {AocType = AocTypes.WO, Value = 200.0},",
                "\n    basicIfrsVariable with {AocType = AocTypes.EOP, Value = 450.0},",
                "\n  };",
                "\n",
                "\nvar inputDataSetForWorkspace = new IfrsVariable[]{",
                "\n    basicIfrsVariable with {AocType = AocTypes.CF, Value = -15.0},",
                "\n    basicIfrsVariable with {AocType = AocTypes.WO, Value = -20.0},",
                "\n  };",
                "\n",
                "\nvar ivsBenchmark = new IfrsVariable[]{",
                "\n    basicIfrsVariable with {AocType = AocTypes.BOP, Novelty = Novelties.I, EstimateType = EstimateTypes.DA, Value = 1000.0},",
                "\n    basicIfrsVariable with {AocType = AocTypes.BOP, Novelty = Novelties.I, Value = 100.0},",
                "\n    basicIfrsVariable with {AocType = AocTypes.CF, Value = -15.0},",
                "\n    basicIfrsVariable with {AocType = AocTypes.WO, Value = -20.0},",
                "\n  };",
                "\n",
                "\nvar activity = await CheckIfrsVariablesFromImportStorageAsync(ImportFormats.Actual, inputDataSetForWorkspace, inputDataSetForDataSource, ivsBenchmark, args);",
                "\nactivity"
            ],
            "metadata": {},
            "execution_count": 0,
            "outputs": []
        },
        {
            "cell_type": "code",
            "source": [
                "activity.Status.Should().Be(ActivityLogStatus.Succeeded);"
            ],
            "metadata": {},
            "execution_count": 0,
            "outputs": []
        },
        {
            "cell_type": "markdown",
            "source": [
                "## Actuals Reimport with CF",
                "\n",
                "\nThere is a previous year, Cash flows and Actuals were already imported and Actuals are imported again."
            ],
            "metadata": {},
            "execution_count": 0,
            "outputs": []
        },
        {
            "cell_type": "code",
            "source": [
                "var basicAdvanceActualIfrsVariable = new IfrsVariable{Partition = partition.Id, DataNode = groupOfInsuranceContracts, AccidentYear = null, AmountType = AmountTypes.PR, Novelty = Novelties.C, EstimateType = EstimateTypes.AA};",
                "\nvar basicBeIfrsVariable = new IfrsVariable{Partition = partition.Id, DataNode = groupOfInsuranceContracts, AccidentYear = null, AmountType = AmountTypes.PR, Novelty = Novelties.I, EstimateType = EstimateTypes.BE};",
                "\n",
                "\nvar inputDataSetForDataSource = new IfrsVariable[]{",
                "\n    basicBeIfrsVariable            with {Partition = previousPeriodPartition.Id, AocType = AocTypes.EOP, Value = 1000.0},",
                "\n    basicBeIfrsVariable            with {AocType = AocTypes.BOP, Novelty = Novelties.I, Value = 1000.0},",
                "\n    basicBeIfrsVariable            with {AocType = AocTypes.IA, Value = 1500.0},",
                "\n    basicBeIfrsVariable            with {AocType = AocTypes.CF, Value = 2500.0},",
                "\n    basicBeIfrsVariable            with {AocType = AocTypes.EOP, Value = 5000.0},",
                "\n    basicAdvanceActualIfrsVariable with {Partition = previousPeriodPartition.Id, AocType = AocTypes.EOP, Value = 100.0},",
                "\n    basicAdvanceActualIfrsVariable with {Partition = previousPeriodPartition.Id, AocType = AocTypes.EOP, EstimateType = EstimateTypes.DA, Value = 1000.0},",
                "\n    basicAdvanceActualIfrsVariable with {AocType = AocTypes.BOP, Novelty = Novelties.I, EstimateType = EstimateTypes.DA, Value = 1000.0},",
                "\n    basicAdvanceActualIfrsVariable with {AocType = AocTypes.BOP, Novelty = Novelties.I, Value = 100.0},",
                "\n    basicAdvanceActualIfrsVariable with {AocType = AocTypes.CF, Value = 150.0},",
                "\n    basicAdvanceActualIfrsVariable with {AocType = AocTypes.WO, Value = 200.0},",
                "\n    basicAdvanceActualIfrsVariable with {AocType = AocTypes.EOP, Value = 450.0},",
                "\n  };",
                "\n",
                "\nvar inputDataSetForWorkspace = new IfrsVariable[]{",
                "\n    basicAdvanceActualIfrsVariable with {AocType = AocTypes.CF, Value = -15.0},",
                "\n    basicAdvanceActualIfrsVariable with {AocType = AocTypes.WO, Value = -20.0},",
                "\n  };",
                "\n",
                "\nvar ivsBenchmark = new IfrsVariable[]{",
                "\n    basicBeIfrsVariable            with {AocType = AocTypes.BOP, Novelty = Novelties.I, Value = 1000.0},",
                "\n    basicBeIfrsVariable            with {AocType = AocTypes.IA, Value = 1500.0},",
                "\n    basicBeIfrsVariable            with {AocType = AocTypes.CF, Value = 2500.0},",
                "\n    basicBeIfrsVariable            with {AocType = AocTypes.EOP, Value = 5000.0},",
                "\n    basicAdvanceActualIfrsVariable with {AocType = AocTypes.BOP, Novelty = Novelties.I, EstimateType = EstimateTypes.DA, Value = 1000.0},",
                "\n    basicAdvanceActualIfrsVariable with {AocType = AocTypes.BOP, Novelty = Novelties.I, Value = 100.0},",
                "\n    basicAdvanceActualIfrsVariable with {AocType = AocTypes.CF, Value = -15.0},",
                "\n    basicAdvanceActualIfrsVariable with {AocType = AocTypes.WO, Value = -20.0},",
                "\n  };",
                "\n",
                "\nvar activity = await CheckIfrsVariablesFromImportStorageAsync(ImportFormats.Actual, inputDataSetForWorkspace, inputDataSetForDataSource, ivsBenchmark, args);",
                "\nactivity"
            ],
            "metadata": {},
            "execution_count": 0,
            "outputs": []
        },
        {
            "cell_type": "code",
            "source": [
                "activity.Status.Should().Be(ActivityLogStatus.Succeeded);"
            ],
            "metadata": {},
            "execution_count": 0,
            "outputs": []
        },
        {
            "cell_type": "markdown",
            "source": [
                "## Actuals Reimport with Primary Secondary Scope",
                "\n",
                "\nThere is a previous year for Primary Scope (GRIC10) ",
                "\n",
                "\nThere is a previous and current year for Secondary Scope (GIC10), ",
                "\n",
                "\nIt's the first time Actuals are imported for the current year"
            ],
            "metadata": {},
            "execution_count": 0,
            "outputs": []
        },
        {
            "cell_type": "code",
            "source": [
                "var basicIfrsVariable = new IfrsVariable{Partition = partition.Id, DataNode = groupOfReinsuranceContracts, AccidentYear = null, AmountType = AmountTypes.PR, Novelty = Novelties.C, EstimateType = EstimateTypes.AA};",
                "\n",
                "\nvar inputDataSetForDataSource = new IfrsVariable[]{",
                "\n    //Year",
                "\n    basicIfrsVariable with {Partition = previousPeriodPartition.Id, AocType = AocTypes.EOP, Value = 100.0},",
                "\n    basicIfrsVariable with {Partition = previousPeriodPartition.Id, AocType = AocTypes.EOP, EstimateType = EstimateTypes.DA, Value = 1000.0},",
                "\n    basicIfrsVariable with {Partition = previousPeriodPartition.Id, AocType = AocTypes.EOP, DataNode = groupOfInsuranceContracts, EstimateType = EstimateTypes.DA, Value = 1000.0},",
                "\n    basicIfrsVariable with {Partition = previousPeriodPartition.Id, AocType = AocTypes.EOP, DataNode = groupOfInsuranceContracts, EstimateType = EstimateTypes.BE, EconomicBasis = EconomicBases.C, Value = 1000.0},",
                "\n    basicIfrsVariable with {Partition = previousPeriodPartition.Id, AocType = AocTypes.CL,  DataNode = groupOfInsuranceContracts, EstimateType = EstimateTypes.BE, EconomicBasis = EconomicBases.C, Value = 666.0},",
                "\n    basicIfrsVariable with {Partition = previousPeriodPartition.Id, AocType = AocTypes.EOP, DataNode = groupOfInsuranceContracts, EstimateType = EstimateTypes.BE, EconomicBasis = EconomicBases.L, Value = 1000.0},",
                "\n    basicIfrsVariable with {Partition = previousPeriodPartition.Id, AocType = AocTypes.CL,  DataNode = groupOfInsuranceContracts, EstimateType = EstimateTypes.BE, EconomicBasis = EconomicBases.L, Value = 666.0},",
                "\n    //Year -1",
                "\n    basicIfrsVariable with {AocType = AocTypes.IA, Novelty = Novelties.I, DataNode = groupOfInsuranceContracts, EstimateType = EstimateTypes.BE, EconomicBasis = EconomicBases.L, Value = 10.0},",
                "\n    basicIfrsVariable with {AocType = AocTypes.CF, Novelty = Novelties.I, DataNode = groupOfInsuranceContracts, EstimateType = EstimateTypes.BE, EconomicBasis = EconomicBases.L, Value = 10.0},",
                "\n  };",
                "\n",
                "\nvar inputDataSetForWorkspace = new IfrsVariable[]{",
                "\n    basicIfrsVariable with {AocType = AocTypes.CF, Value = -10.0},",
                "\n    basicIfrsVariable with {AocType = AocTypes.WO, Value = 15.0},",
                "\n  };",
                "\n",
                "\nvar ivsBenchmark = new IfrsVariable[]{",
                "\n    //From previous Period",
                "\n    //Actuals",
                "\n    basicIfrsVariable with {AocType = AocTypes.BOP, Novelty = Novelties.I, EstimateType = EstimateTypes.DA, Value = 1000.0},",
                "\n    basicIfrsVariable with {AocType = AocTypes.BOP, Novelty = Novelties.I, Value = 100.0},",
                "\n    basicIfrsVariable with {AocType = AocTypes.BOP, Novelty = Novelties.I, DataNode = groupOfInsuranceContracts, EstimateType = EstimateTypes.DA, Value = 1000.0},",
                "\n    //Cash flow",
                "\n    basicIfrsVariable with {AocType = AocTypes.BOP, Novelty = Novelties.I, DataNode = groupOfInsuranceContracts, EstimateType = EstimateTypes.BE, EconomicBasis = EconomicBases.L, Value = 1000.0},",
                "\n    basicIfrsVariable with {AocType = AocTypes.BOP, Novelty = Novelties.I, DataNode = groupOfInsuranceContracts, EstimateType = EstimateTypes.BE, EconomicBasis = EconomicBases.C, Value = 1000.0},",
                "\n    ",
                "\n    //From current Period",
                "\n    //from DB",
                "\n    basicIfrsVariable with {AocType = AocTypes.IA, Novelty = Novelties.I, DataNode = groupOfInsuranceContracts, EstimateType = EstimateTypes.BE, EconomicBasis = EconomicBases.L, Value = 10.0},",
                "\n    basicIfrsVariable with {AocType = AocTypes.CF, Novelty = Novelties.I, DataNode = groupOfInsuranceContracts, EstimateType = EstimateTypes.BE, EconomicBasis = EconomicBases.L, Value = 10.0},",
                "\n    ",
                "\n    //from workspace",
                "\n    basicIfrsVariable with {AocType = AocTypes.CF, Value = -10.0},",
                "\n    basicIfrsVariable with {AocType = AocTypes.WO, Value = 15.0},",
                "\n  };",
                "\n",
                "\nvar activity = await CheckIfrsVariablesFromImportStorageAsync(ImportFormats.Actual, inputDataSetForWorkspace, inputDataSetForDataSource, ivsBenchmark, args);",
                "\nactivity"
            ],
            "metadata": {},
            "execution_count": 0,
            "outputs": []
        },
        {
            "cell_type": "code",
            "source": [
                "activity.Status.Should().Be(ActivityLogStatus.Succeeded);"
            ],
            "metadata": {},
            "execution_count": 0,
            "outputs": []
        },
        {
            "cell_type": "markdown",
            "source": [
                "## Openings Reimport",
                "\n",
                "\nThere are openings for Primary Scope (GIC10) and for Secondary Scope (GRIC10). ",
                "\n",
                "\nThe Openings for the Secondary Scope are re-imported and the Primary Scope must be loaded in the storage. Both are at inception year."
            ],
            "metadata": {},
            "execution_count": 0,
            "outputs": []
        },
        {
            "cell_type": "code",
            "source": [
                "await Workspace.DeleteAsync(await Workspace.Query<DataNodeState>().ToArrayAsync());",
                "\nawait DataSource.DeleteAsync(await DataSource.Query<DataNodeState>().ToArrayAsync());",
                "\nawait Workspace.UpdateAsync(new[]{dt11State with {Year = args.Year, Month = args.Month}, dtr11State with {Year = args.Year, Month = args.Month}});",
                "\nawait DataSource.UpdateAsync(new[]{dt11State with {Year = args.Year, Month = args.Month}, dtr11State with {Year = args.Year, Month = args.Month}});"
            ],
            "metadata": {},
            "execution_count": 0,
            "outputs": []
        },
        {
            "cell_type": "code",
            "source": [
                "var basicIfrsVariable = new IfrsVariable{Partition = partition.Id, DataNode = groupOfInsuranceContracts, AccidentYear = null, AmountType = AmountTypes.PR, Novelty = Novelties.C, EstimateType = EstimateTypes.AA};",
                "\n",
                "\nvar inputDataSetForDataSource = new IfrsVariable[]{",
                "\n    basicIfrsVariable with {AocType = AocTypes.BOP, Novelty = Novelties.I, Value = 90.0},",
                "\n    basicIfrsVariable with {DataNode = groupOfReinsuranceContracts, AocType = AocTypes.BOP, Novelty = Novelties.I, Value = 89.0},",
                "\n  };",
                "\n",
                "\nvar inputDataSetForWorkspace = new IfrsVariable[]{",
                "\n    basicIfrsVariable with {DataNode = groupOfReinsuranceContracts, AocType = AocTypes.BOP, Novelty = Novelties.I, Value = 91.0},",
                "\n  };",
                "\n",
                "\nvar ivsBenchmark = new IfrsVariable[]{",
                "\n    basicIfrsVariable with {AocType = AocTypes.BOP, Novelty = Novelties.I, Value = 90.0},",
                "\n    basicIfrsVariable with {DataNode = groupOfReinsuranceContracts, AocType = AocTypes.BOP, Novelty = Novelties.I, Value = 91.0},",
                "\n  };",
                "\nvar activity = await CheckIfrsVariablesFromImportStorageAsync(ImportFormats.Opening, inputDataSetForWorkspace, inputDataSetForDataSource, ivsBenchmark, args);",
                "\nactivity"
            ],
            "metadata": {},
            "execution_count": 0,
            "outputs": []
        },
        {
            "cell_type": "code",
            "source": [
                "activity.Status.Should().Be(ActivityLogStatus.Succeeded);"
            ],
            "metadata": {},
            "execution_count": 0,
            "outputs": []
        },
        {
            "cell_type": "code",
            "source": [
                "// Restore workspace",
                "\nawait Workspace.DeleteAsync(await Workspace.Query<DataNodeState>().ToArrayAsync());",
                "\nawait DataSource.DeleteAsync(await DataSource.Query<DataNodeState>().ToArrayAsync());",
                "\nawait DataSource.UpdateAsync(new[]{ dt11State, dtr11State });",
                "\nawait Workspace.UpdateAsync(new[]{ dt11State, dtr11State });"
            ],
            "metadata": {},
            "execution_count": 0,
            "outputs": []
        },
        {
            "cell_type": "markdown",
            "source": [
                "# Test Scenario"
            ],
            "metadata": {},
            "execution_count": 0,
            "outputs": []
        },
        {
            "cell_type": "markdown",
            "source": [
                "## Relaxed query",
                "\n",
                "\nFor the current year Actuals are imported for Best Estimate and a given Scenario. The Relaxed query should return the union of the 2 giving priority to scenario data. "
            ],
            "metadata": {},
            "execution_count": 0,
            "outputs": []
        },
        {
            "cell_type": "code",
            "source": [
                "var basicIfrsVariable = new IfrsVariable{Partition = partition.Id, DataNode = groupOfInsuranceContracts, AccidentYear = null, AmountType = AmountTypes.PR, Novelty = Novelties.C, EstimateType = EstimateTypes.AA};",
                "\n",
                "\nvar inputDataSetForDataSource = new IfrsVariable[]{",
                "\n    basicIfrsVariable with {AocType = AocTypes.BOP, EstimateType = EstimateTypes.DA, Value = 1000.0},",
                "\n    basicIfrsVariable with {AocType = AocTypes.BOP, Value = 100.0},",
                "\n    basicIfrsVariable with {AocType = AocTypes.CL, Value = 150.0},",
                "\n  };",
                "\n",
                "\nvar inputDataSetForWorkspace = new IfrsVariable[]{",
                "\n    basicIfrsVariable with {Partition = partitionScenarioMTUP.Id, AocType = AocTypes.CL, Value = -15.0},",
                "\n    basicIfrsVariable with {Partition = partitionScenarioMTUP.Id, AmountType = AmountTypes.CL, AocType = AocTypes.CL, Value = -99.0},",
                "\n  };",
                "\n",
                "\nvar ivsBenchmark = new IfrsVariable[]{",
                "\n    basicIfrsVariable with {Partition = partition.Id, AocType = AocTypes.BOP, EstimateType = EstimateTypes.DA, Value = 1000.0},",
                "\n    basicIfrsVariable with {Partition = partition.Id, AocType = AocTypes.BOP, Value = 100.0},",
                "\n    basicIfrsVariable with {Partition = partitionScenarioMTUP.Id, AocType = AocTypes.CL, Value = -15.0},",
                "\n    basicIfrsVariable with {Partition = partitionScenarioMTUP.Id, AmountType = AmountTypes.CL, AocType = AocTypes.CL, Value = -99.0},",
                "\n  };",
                "\n",
                "\nvar activity = await CheckIfrsVariablesFromImportStorageAsync(ImportFormats.Actual, inputDataSetForWorkspace, inputDataSetForDataSource, ivsBenchmark, argsScenarioMTUP);",
                "\nactivity"
            ],
            "metadata": {},
            "execution_count": 0,
            "outputs": []
        },
        {
            "cell_type": "code",
            "source": [
                "activity.Status.Should().Be(ActivityLogStatus.Succeeded);"
            ],
            "metadata": {},
            "execution_count": 0,
            "outputs": []
        },
        {
            "cell_type": "markdown",
            "source": [
                "## Secondary scope",
                "\n",
                "\nThe primary scope is a GRIC scenario while the underlying GIC is Best Estimate."
            ],
            "metadata": {},
            "execution_count": 0,
            "outputs": []
        },
        {
            "cell_type": "code",
            "source": [
                "var basicIfrsVariable = new IfrsVariable{Partition = partition.Id, DataNode = groupOfInsuranceContracts, AccidentYear = null, AmountType = AmountTypes.PR, Novelty = Novelties.C, EstimateType = EstimateTypes.AA};",
                "\n",
                "\nvar inputDataSetForDataSource = new IfrsVariable[]{",
                "\n    basicIfrsVariable with {AocType = AocTypes.BOP, EstimateType = EstimateTypes.DA, Value = 1000.0},",
                "\n    basicIfrsVariable with {AocType = AocTypes.BOP, Value = 100.0},",
                "\n    basicIfrsVariable with {AocType = AocTypes.CL, Value = 150.0},",
                "\n};",
                "\n",
                "\nvar inputDataSetForWorkspace = new IfrsVariable[]{",
                "\n    basicIfrsVariable with {Partition = partitionScenarioMTUP.Id, DataNode = groupOfReinsuranceContracts, AocType = AocTypes.CL, Value = -15.0},",
                "\n    basicIfrsVariable with {Partition = partitionScenarioMTUP.Id, DataNode = groupOfReinsuranceContracts, AmountType = AmountTypes.CL, AocType = AocTypes.CL, Value = -99.0},",
                "\n};",
                "\n",
                "\nvar ivsBenchmark = new IfrsVariable[]{",
                "\n    basicIfrsVariable with {Partition = partition.Id, AocType = AocTypes.BOP, EstimateType = EstimateTypes.DA, Value = 1000.0},",
                "\n    basicIfrsVariable with {Partition = partition.Id, AocType = AocTypes.BOP, Value = 100.0},",
                "\n    basicIfrsVariable with {Partition = partition.Id, AocType = AocTypes.CL, Value = 150.0},",
                "\n    basicIfrsVariable with {Partition = partitionScenarioMTUP.Id, DataNode = groupOfReinsuranceContracts, AocType = AocTypes.CL, Value = -15.0},",
                "\n    basicIfrsVariable with {Partition = partitionScenarioMTUP.Id, DataNode = groupOfReinsuranceContracts, AmountType = AmountTypes.CL, AocType = AocTypes.CL, Value = -99.0},",
                "\n};",
                "\n",
                "\nvar activity = await CheckIfrsVariablesFromImportStorageAsync(ImportFormats.Actual, inputDataSetForWorkspace, inputDataSetForDataSource, ivsBenchmark, argsScenarioMTUP);",
                "\nactivity"
            ],
            "metadata": {},
            "execution_count": 0,
            "outputs": []
        },
        {
            "cell_type": "code",
            "source": [
                "activity.Status.Should().Be(ActivityLogStatus.Succeeded);"
            ],
            "metadata": {},
            "execution_count": 0,
            "outputs": []
        },
        {
            "cell_type": "markdown",
            "source": [
                "## Scenario Actuals Import 1",
                "\n",
                "\nImport of Scenario Actuals where DataSource contains openings for scenario and best estimate. Data Node is not at inception year."
            ],
            "metadata": {},
            "execution_count": 0,
            "outputs": []
        },
        {
            "cell_type": "code",
            "source": [
                "var basicIfrsVariable = new IfrsVariable{Partition = partition.Id, DataNode = groupOfInsuranceContracts, AccidentYear = null, AmountType = AmountTypes.PR, Novelty = Novelties.C, EstimateType = EstimateTypes.AA};",
                "\n",
                "\nvar inputDataSetForDataSource = new IfrsVariable[]{",
                "\n    basicIfrsVariable with {AocType = AocTypes.BOP, EstimateType = EstimateTypes.DA, Value = 1000.0},",
                "\n    basicIfrsVariable with {AocType = AocTypes.CL, Value = 150.0},",
                "\n    basicIfrsVariable with {AocType = AocTypes.BOP, Novelty = Novelties.I, Value = 90.0},",
                "\n    basicIfrsVariable with {Partition = partitionScenarioMTUP.Id, AocType = AocTypes.BOP, Novelty = Novelties.I, Value = 90.7},",
                "\n    basicIfrsVariable with {Partition = previousPeriodPartition.Id, AocType = AocTypes.EOP, Novelty = Novelties.C, Value = 89.5},",
                "\n    basicIfrsVariable with {Partition = previousPeriodPartitionScenarioMTUP.Id, AocType = AocTypes.EOP, Novelty = Novelties.C, Value = 89.1}",
                "\n};",
                "\n",
                "\nvar inputDataSetForWorkspace = new IfrsVariable[]{",
                "\n    basicIfrsVariable with {Partition = partitionScenarioMTUP.Id, AocType = AocTypes.CL, Value = -15.0},",
                "\n};",
                "\n",
                "\nvar ivsBenchmark = new IfrsVariable[]{",
                "\n    basicIfrsVariable with {Partition = partition.Id, AocType = AocTypes.BOP, EstimateType = EstimateTypes.DA, Value = 1000.0},  ",
                "\n    basicIfrsVariable with {Partition = partitionScenarioMTUP.Id, AocType = AocTypes.BOP, Novelty = Novelties.I, Value = 89.5},   ",
                "\n    basicIfrsVariable with {Partition = partitionScenarioMTUP.Id, AocType = AocTypes.CL, Value = -15.0},",
                "\n};",
                "\n",
                "\nvar activity = await CheckIfrsVariablesFromImportStorageAsync(ImportFormats.Actual, inputDataSetForWorkspace, inputDataSetForDataSource, ivsBenchmark, argsScenarioMTUP);",
                "\nactivity"
            ],
            "metadata": {},
            "execution_count": 0,
            "outputs": []
        },
        {
            "cell_type": "code",
            "source": [
                "activity.Status.Should().Be(ActivityLogStatus.Succeeded);"
            ],
            "metadata": {},
            "execution_count": 0,
            "outputs": []
        },
        {
            "cell_type": "markdown",
            "source": [
                "## Scenario Actuals Import 2",
                "\n",
                "\nImport of Scenario Actuals where DataSource contains openings for scenario and best estimate. Data Node is at inception year."
            ],
            "metadata": {},
            "execution_count": 0,
            "outputs": []
        },
        {
            "cell_type": "code",
            "source": [
                "await Workspace.DeleteAsync(await Workspace.Query<DataNodeState>().ToArrayAsync());",
                "\nawait DataSource.DeleteAsync(await DataSource.Query<DataNodeState>().ToArrayAsync());",
                "\nawait Workspace.UpdateAsync(new[]{dt11State with {Year = args.Year, Month = args.Month}, dtr11State with {Year = args.Year, Month = args.Month}});",
                "\nawait DataSource.UpdateAsync(new[]{dt11State with {Year = args.Year, Month = args.Month}, dtr11State with {Year = args.Year, Month = args.Month}});"
            ],
            "metadata": {},
            "execution_count": 0,
            "outputs": []
        },
        {
            "cell_type": "code",
            "source": [
                "var basicIfrsVariable = new IfrsVariable{Partition = partition.Id, DataNode = groupOfInsuranceContracts, AccidentYear = null, AmountType = AmountTypes.PR, Novelty = Novelties.C, EstimateType = EstimateTypes.AA};",
                "\n",
                "\nvar inputDataSetForDataSource = new IfrsVariable[]{",
                "\n    basicIfrsVariable with {AocType = AocTypes.CL, Value = 150.0},",
                "\n    basicIfrsVariable with {AocType = AocTypes.BOP, Novelty = Novelties.I, Value = 90.0},",
                "\n    basicIfrsVariable with {Partition = partitionScenarioMTUP.Id, AocType = AocTypes.BOP, Novelty = Novelties.I, Value = 90.7},",
                "\n    basicIfrsVariable with {Partition = previousPeriodPartition.Id, AocType = AocTypes.EOP, Novelty = Novelties.C, Value = 89.5},",
                "\n    basicIfrsVariable with {Partition = previousPeriodPartitionScenarioMTUP.Id, AocType = AocTypes.EOP, Novelty = Novelties.C, Value = 89.1}",
                "\n};",
                "\n",
                "\nvar inputDataSetForWorkspace = new IfrsVariable[]{",
                "\n    basicIfrsVariable with {Partition = partitionScenarioMTUP.Id, AocType = AocTypes.CL, Value = -15.0},",
                "\n};",
                "\n",
                "\nvar ivsBenchmark = new IfrsVariable[]{",
                "\n    basicIfrsVariable with {Partition = partitionScenarioMTUP.Id, AocType = AocTypes.BOP, Novelty = Novelties.I, Value = 90.7},   ",
                "\n    basicIfrsVariable with {Partition = partitionScenarioMTUP.Id, AocType = AocTypes.CL, Value = -15.0},",
                "\n};",
                "\n",
                "\nvar activity = await CheckIfrsVariablesFromImportStorageAsync(ImportFormats.Actual, inputDataSetForWorkspace, inputDataSetForDataSource, ivsBenchmark, argsScenarioMTUP);",
                "\nactivity"
            ],
            "metadata": {},
            "execution_count": 0,
            "outputs": []
        },
        {
            "cell_type": "code",
            "source": [
                "activity.Status.Should().Be(ActivityLogStatus.Succeeded);"
            ],
            "metadata": {},
            "execution_count": 0,
            "outputs": []
        },
        {
            "cell_type": "markdown",
            "source": [
                "## Scenario Actuals Import 3",
                "\n",
                "\nImport of Scenario Actuals where DataSource contains openings for scenario and best estimate. Only the GRIC is at inception year."
            ],
            "metadata": {},
            "execution_count": 0,
            "outputs": []
        },
        {
            "cell_type": "code",
            "source": [
                "await Workspace.DeleteAsync(await Workspace.Query<DataNodeState>().ToArrayAsync());",
                "\nawait DataSource.DeleteAsync(await DataSource.Query<DataNodeState>().ToArrayAsync());",
                "\nawait Workspace.UpdateAsync(new[]{dt11State, dtr11State with {Year = args.Year, Month = args.Month}});",
                "\nawait DataSource.UpdateAsync(new[]{dt11State, dtr11State with {Year = args.Year, Month = args.Month}});"
            ],
            "metadata": {},
            "execution_count": 0,
            "outputs": []
        },
        {
            "cell_type": "code",
            "source": [
                "var basicIfrsVariable = new IfrsVariable{Partition = partition.Id, DataNode = groupOfInsuranceContracts, AccidentYear = null, AmountType = AmountTypes.PR, Novelty = Novelties.C, EstimateType = EstimateTypes.AA};",
                "\n",
                "\nvar inputDataSetForDataSource = new IfrsVariable[]{",
                "\n    basicIfrsVariable with {AocType = AocTypes.CL, Value = 150.0},",
                "\n    basicIfrsVariable with {DataNode = groupOfReinsuranceContracts, AocType = AocTypes.BOP, Novelty = Novelties.I, Value = 90.0},",
                "\n    basicIfrsVariable with {Partition = partitionScenarioMTUP.Id, DataNode = groupOfReinsuranceContracts, AocType = AocTypes.BOP, Novelty = Novelties.I, Value = 90.7},",
                "\n    basicIfrsVariable with {Partition = previousPeriodPartition.Id, DataNode = groupOfInsuranceContracts, AocType = AocTypes.EOP, Novelty = Novelties.C, Value = 89.5},",
                "\n    basicIfrsVariable with {Partition = previousPeriodPartitionScenarioMTUP.Id, DataNode = groupOfInsuranceContracts, AocType = AocTypes.EOP, Novelty = Novelties.C, Value = 89.1}",
                "\n};",
                "\n",
                "\nvar inputDataSetForWorkspace = new IfrsVariable[]{",
                "\n    basicIfrsVariable with {Partition = partitionScenarioMTUP.Id, AocType = AocTypes.CL, Value = -15.0},",
                "\n};",
                "\n",
                "\nvar ivsBenchmark = new IfrsVariable[]{",
                "\n    basicIfrsVariable with {Partition = partitionScenarioMTUP.Id, AocType = AocTypes.BOP, Novelty = Novelties.I, Value = 89.5},",
                "\n    basicIfrsVariable with {Partition = partitionScenarioMTUP.Id, DataNode = groupOfReinsuranceContracts, AocType = AocTypes.BOP, Novelty = Novelties.I, Value = 90.7},",
                "\n    basicIfrsVariable with {Partition = partitionScenarioMTUP.Id, AocType = AocTypes.CL, Value = -15.0},",
                "\n};",
                "\n",
                "\nvar activity = await CheckIfrsVariablesFromImportStorageAsync(ImportFormats.Actual, inputDataSetForWorkspace, inputDataSetForDataSource, ivsBenchmark, argsScenarioMTUP);",
                "\nactivity"
            ],
            "metadata": {},
            "execution_count": 0,
            "outputs": []
        },
        {
            "cell_type": "code",
            "source": [
                "activity.Status.Should().Be(ActivityLogStatus.Succeeded);"
            ],
            "metadata": {},
            "execution_count": 0,
            "outputs": []
        },
        {
            "cell_type": "code",
            "source": [
                "// Restore workspace",
                "\nawait Workspace.DeleteAsync(await Workspace.Query<DataNodeState>().ToArrayAsync());",
                "\nawait DataSource.DeleteAsync(await DataSource.Query<DataNodeState>().ToArrayAsync());",
                "\nawait DataSource.UpdateAsync(new[]{ dt11State, dtr11State });",
                "\nawait Workspace.UpdateAsync(new[]{ dt11State, dtr11State });"
            ],
            "metadata": {},
            "execution_count": 0,
            "outputs": []
        },
        {
            "cell_type": "markdown",
            "source": [
                "## Scenario CF Import 1",
                "\n",
                "\nImport of a CF Scenario1 having (ifrsVar incl Opening) BE and Scenario2 in the DataSource."
            ],
            "metadata": {},
            "execution_count": 0,
            "outputs": []
        },
        {
            "cell_type": "code",
            "source": [
                "var basicRawVariable = new RawVariable{Partition = partition.Id, DataNode = groupOfInsuranceContracts, AccidentYear = null, AmountType = AmountTypes.PR, Novelty = Novelties.C, AocType = AocTypes.CL, EstimateType = EstimateTypes.BE};",
                "\nvar basicIfrsVariable = new IfrsVariable{Partition = partition.Id, DataNode = groupOfInsuranceContracts, AccidentYear = null, AmountType = AmountTypes.PR, Novelty = Novelties.C, EstimateType = EstimateTypes.AA};",
                "\n",
                "\nvar inputDataSetForDataSource = new IfrsVariable[]{",
                "\n    basicIfrsVariable with {Value = 150.0},",
                "\n    basicIfrsVariable with {Partition = previousPeriodPartition.Id, AocType = AocTypes.EOP, Novelty = Novelties.C, Value = 89.5},",
                "\n    basicIfrsVariable with {Partition = partitionScenarioMTUP2.Id, AocType = AocTypes.CL, Novelty = Novelties.C, Value = 89.1}",
                "\n};",
                "\n",
                "\nvar inputDataSetForWorkspace = new RawVariable[]{",
                "\n    basicRawVariable with {Partition = partitionScenarioMTUP.Id, Values = new[]{110.0}},",
                "\n};",
                "\n",
                "\nvar ivsBenchmark = new IfrsVariable[]{",
                "\n    basicIfrsVariable with {Value = 150.5},",
                "\n    basicIfrsVariable with {AocType = AocTypes.BOP, Novelty = Novelties.I, Value = 89.5},",
                "\n};",
                "\n",
                "\n//var activity = await CheckIfrsVariablesFromImportStorageAsync(ImportFormats.Cashflow, inputDataSetForWorkspace, inputDataSetForDataSource, ivsBenchmark, argsScenarioMTUP);",
                "\n//activity"
            ],
            "metadata": {},
            "execution_count": 0,
            "outputs": []
        },
        {
            "cell_type": "markdown",
            "source": [
                "## Scenario CF Import 2",
                "\n",
                "\nImport of a CF Scenario1 having (ifrsVar incl Opening) BE and Scenario1 in the DataSource."
            ],
            "metadata": {},
            "execution_count": 0,
            "outputs": []
        },
        {
            "cell_type": "code",
            "source": [
                "var basicRawVariable = new RawVariable{Partition = partition.Id, DataNode = groupOfInsuranceContracts, AccidentYear = null, AmountType = AmountTypes.PR, Novelty = Novelties.C, AocType = AocTypes.CL, EstimateType = EstimateTypes.BE};",
                "\nvar basicIfrsVariable = new IfrsVariable{Partition = partition.Id, DataNode = groupOfInsuranceContracts, AccidentYear = null, AmountType = AmountTypes.PR, Novelty = Novelties.C, EstimateType = EstimateTypes.AA};",
                "\n",
                "\nvar inputDataSetForDataSource = new IfrsVariable[]{",
                "\n    basicIfrsVariable with {Value = 150.0},",
                "\n    basicIfrsVariable with {Partition = previousPeriodPartition.Id, AocType = AocTypes.EOP, Novelty = Novelties.C, Value = 89.5},",
                "\n    basicIfrsVariable with {Partition = partitionScenarioMTUP.Id, AocType = AocTypes.CL, Novelty = Novelties.C, Value = 89.1}",
                "\n};",
                "\n",
                "\nvar inputDataSetForWorkspace = new RawVariable[]{",
                "\n    basicRawVariable with {Partition = partitionScenarioMTUP.Id, Values = new[]{110.0}},",
                "\n};",
                "\n",
                "\nvar ivsBenchmark = new IfrsVariable[]{",
                "\n    basicIfrsVariable with {Value = 150.5},",
                "\n    basicIfrsVariable with {AocType = AocTypes.BOP, Novelty = Novelties.I, Value = 89.5},",
                "\n    basicIfrsVariable with {Partition = partitionScenarioMTUP.Id, AocType = AocTypes.CL, Novelty = Novelties.C, Value = 89.1}",
                "\n};",
                "\n",
                "\n//var activity = await CheckIfrsVariablesFromImportStorageAsync(ImportFormats.Cashflow, inputDataSetForWorkspace, inputDataSetForDataSource, ivsBenchmark, argsScenarioMTUP);",
                "\n//activity"
            ],
            "metadata": {},
            "execution_count": 0,
            "outputs": []
        },
        {
            "cell_type": "markdown",
            "source": [
                "# Data Node Parameter related logic"
            ],
            "metadata": {},
            "execution_count": 0,
            "outputs": []
        },
        {
            "cell_type": "markdown",
            "source": [
                "## Data Preparation"
            ],
            "metadata": {},
            "execution_count": 0,
            "outputs": []
        },
        {
            "cell_type": "code",
            "source": [
                "//Define partition",
                "\nvar args = new ImportArgs(\"CH\", 2021, 3, Periodicity.Quarterly, null, ImportFormats.Cashflow);",
                "\n",
                "\nvar reportingNodePartition = DataSource.Query<PartitionByReportingNode>().FirstOrDefault(x => x.ReportingNode == args.ReportingNode);",
                "\nif(reportingNodePartition == null) ApplicationMessage.Log(Error.PartitionNotFound);",
                "\n",
                "\n",
                "\nvar currentPartition = DataSource.Query<PartitionByReportingNodeAndPeriod>().FirstOrDefault(x => x.ReportingNode == args.ReportingNode && x.Year == args.Year && ",
                "\n                                                                                    x.Month == args.Month && x.Scenario == args.Scenario);",
                "\nif(currentPartition == null) ApplicationMessage.Log(Error.PartitionNotFound);",
                "\n",
                "\n",
                "\nvar previousPeriodPartition = Workspace.Query<PartitionByReportingNodeAndPeriod>().FirstOrDefault(x => x.ReportingNode == args.ReportingNode && x.Year == args.Year - 1 && ",
                "\n                                                                                    x.Month == MonthInAYear && x.Scenario == args.Scenario);",
                "\nif(previousPeriodPartition == null) ApplicationMessage.Log(Error.PartitionNotFound);"
            ],
            "metadata": {},
            "execution_count": 0,
            "outputs": []
        },
        {
            "cell_type": "code",
            "source": [
                "var sampleGic = new GroupOfInsuranceContract(){Portfolio = \"P1\"};",
                "\nvar inputDataGic = new GroupOfInsuranceContract[]{ sampleGic with {SystemName = \"Gross1\", LiabilityType = LiabilityTypes.LRC, ContractualCurrency = \"USD\", ValuationApproach = \"BBA\"},",
                "\n                                                   sampleGic with {SystemName = \"Gross2\", LiabilityType = LiabilityTypes.LRC, ContractualCurrency = \"USD\", ValuationApproach = \"BBA\"},",
                "\n                                                   sampleGic with {SystemName = \"Gross3\", LiabilityType = LiabilityTypes.LRC, ContractualCurrency = \"USD\", ValuationApproach = \"BBA\"},",
                "\n                                                 };",
                "\n",
                "\nvar sampleGric = new GroupOfReinsuranceContract(){Portfolio = \"ReP1\"};",
                "\nvar inputDataGric = new GroupOfReinsuranceContract[]{ sampleGric with {SystemName = \"Reins1\", LiabilityType = LiabilityTypes.LRC, ContractualCurrency = \"USD\", ValuationApproach = \"BBA\"},",
                "\n                                                      sampleGric with {SystemName = \"Reins2\", LiabilityType = LiabilityTypes.LRC, ContractualCurrency = \"USD\", ValuationApproach = \"BBA\"},",
                "\n                                                      sampleGric with {SystemName = \"Reins3\", LiabilityType = LiabilityTypes.LRC, ContractualCurrency = \"USD\", ValuationApproach = \"BBA\"},",
                "\n                                                 };",
                "\nvar sampleDnState = new DataNodeState {Partition = reportingNodePartition.Id, Year = args.Year, Month = args.Month, State = State.Active};",
                "\nvar inputDataState = new DataNodeState[]{ sampleDnState with {DataNode = \"Gross1\"} ,",
                "\n                                         sampleDnState with {DataNode = \"Gross2\"} ,",
                "\n                                         sampleDnState with {DataNode = \"Gross3\"} ,",
                "\n                                         sampleDnState with {DataNode = \"Reins1\"} ,",
                "\n                                         sampleDnState with {DataNode = \"Reins2\"} ,",
                "\n                                         sampleDnState with {DataNode = \"Reins3\"} ,",
                "\n                                        };",
                "\n",
                "\nvar samplePreviousDnParam = new InterDataNodeParameter {Partition = reportingNodePartition.Id, ReinsuranceCoverage = 1, Year = args.Year -1, Month = args.Month};",
                "\nvar sampleCurrentDnParam = new InterDataNodeParameter {Partition = reportingNodePartition.Id, ReinsuranceCoverage = 1, Year = args.Year, Month = args.Month};",
                "\nvar inputDataParameter = new InterDataNodeParameter[]{",
                "\n                                                      samplePreviousDnParam with {DataNode = \"Gross3\", LinkedDataNode = \"Reins3\", ReinsuranceCoverage = 1},",
                "\n                                                      samplePreviousDnParam with {DataNode = \"Gross1\", LinkedDataNode = \"Reins1\", ReinsuranceCoverage = 0.1},",
                "\n                                                      samplePreviousDnParam with {DataNode = \"Gross1\", LinkedDataNode = \"Reins2\", ReinsuranceCoverage = 0.2},",
                "\n                                                      samplePreviousDnParam with {DataNode = \"Gross2\", LinkedDataNode = \"Reins2\", ReinsuranceCoverage = 0.3},",
                "\n                                                      sampleCurrentDnParam with {DataNode = \"Gross1\", LinkedDataNode = \"Reins1\", ReinsuranceCoverage = 0.5},",
                "\n                                                      sampleCurrentDnParam with {DataNode = \"Gross1\", LinkedDataNode = \"Reins2\", ReinsuranceCoverage = 0.6},",
                "\n                                                      sampleCurrentDnParam with {DataNode = \"Gross2\", LinkedDataNode = \"Reins2\", ReinsuranceCoverage = 0.7},",
                "\n                                                      sampleCurrentDnParam with {DataNode = \"Gross3\", LinkedDataNode = \"Reins3\", ReinsuranceCoverage = 1.0},",
                "\n                                        };",
                "\n",
                "\nvar sampleRawVar = new RawVariable{AmountType = AmountTypes.PR, AocType = AocTypes.CL, Novelty = Novelties.C, Partition = currentPartition.Id};"
            ],
            "metadata": {},
            "execution_count": 0,
            "outputs": []
        },
        {
            "cell_type": "code",
            "source": [
                "public async Task PrepareWorkspaceDataNodes()",
                "\n{",
                "\n    await Workspace.UpdateAsync<GroupOfInsuranceContract>(inputDataGic);",
                "\n    await Workspace.UpdateAsync<GroupOfReinsuranceContract>(inputDataGric);",
                "\n    await Workspace.UpdateAsync<DataNodeState>(inputDataState);",
                "\n    await Workspace.UpdateAsync<InterDataNodeParameter>(inputDataParameter);",
                "\n}"
            ],
            "metadata": {},
            "execution_count": 0,
            "outputs": []
        },
        {
            "cell_type": "code",
            "source": [
                "public async Task CleanWorkspaceDataNodes()",
                "\n{",
                "\n    await Workspace.DeleteAsync<GroupOfInsuranceContract>(inputDataGic);",
                "\n    await Workspace.DeleteAsync<GroupOfReinsuranceContract>(inputDataGric);",
                "\n    await Workspace.DeleteAsync<DataNodeState>(inputDataState);",
                "\n    await Workspace.DeleteAsync<InterDataNodeParameter>(inputDataParameter);",
                "\n}"
            ],
            "metadata": {},
            "execution_count": 0,
            "outputs": []
        },
        {
            "cell_type": "markdown",
            "source": [
                "## Get Underlying Gic"
            ],
            "metadata": {},
            "execution_count": 0,
            "outputs": []
        },
        {
            "cell_type": "code",
            "source": [
                "public async Task<ActivityLog> CheckGetUnderlyingGicsAsync(RawVariable[] inputDataVariable, Dictionary<string,IEnumerable<string>> underlyingGicBm)",
                "\n{",
                "\n    Activity.Start();",
                "\n    var errors = new List<string>();",
                "\n    ",
                "\n    await PrepareWorkspaceDataNodes();",
                "\n    await Workspace.UpdateAsync<RawVariable>(inputDataVariable);",
                "\n    var testStorage = new ImportStorage(args, DataSource, Workspace);",
                "\n    await testStorage.InitializeAsync();",
                "\n    ",
                "\n    var primaryScopeDn = testStorage.DataNodesByImportScope[ImportScope.Primary];",
                "\n    ",
                "\n    foreach (var dn in primaryScopeDn)",
                "\n    {",
                "\n        var id = new ImportIdentity(){DataNode = dn};",
                "\n        if ( underlyingGicBm[dn].Except(testStorage.GetUnderlyingGic(id)).Count() != 0 )",
                "\n            errors.Add( $\"Underlying Gics for DataNode {dn} not matching with BM. Computed: \\n{string.Join(\"\\n\",testStorage.GetUnderlyingGic(id))} \\n Expected : \\n{string.Join(\"\\n\",underlyingGicBm[dn])}\" );",
                "\n    }",
                "\n    ",
                "\n    await Workspace.DeleteAsync<RawVariable>(await Workspace.Query<RawVariable>().ToArrayAsync());",
                "\n    await CleanWorkspaceDataNodes();",
                "\n    if(errors.Any()) ApplicationMessage.Log(Error.Generic, string.Join(\"\\n\", errors));",
                "\n    return Activity.Finish();",
                "\n}"
            ],
            "metadata": {},
            "execution_count": 0,
            "outputs": []
        },
        {
            "cell_type": "code",
            "source": [
                "var inputDataVariable = new RawVariable[]{ sampleRawVar with {DataNode = \"Reins1\"},",
                "\n                                           sampleRawVar with {DataNode = \"Reins2\"},",
                "\n                                         };",
                "\nvar underlyingGicBm = new Dictionary<string,IEnumerable<string>>(){",
                "\n    {\"Reins1\",new string[]{\"Gross1\"}},",
                "\n    {\"Reins2\",new string[]{\"Gross1\",\"Gross2\"}},",
                "\n};",
                "\n",
                "\nvar activity = await CheckGetUnderlyingGicsAsync(inputDataVariable, underlyingGicBm);",
                "\nactivity"
            ],
            "metadata": {},
            "execution_count": 0,
            "outputs": []
        },
        {
            "cell_type": "code",
            "source": [
                "activity.Status.Should().Be(ActivityLogStatus.Succeeded);"
            ],
            "metadata": {},
            "execution_count": 0,
            "outputs": []
        },
        {
            "cell_type": "code",
            "source": [
                "var inputDataVariable = new RawVariable[]{ sampleRawVar with {DataNode = \"Reins2\"},",
                "\n                                         };",
                "\nvar underlyingGicBm = new Dictionary<string,IEnumerable<string>>(){",
                "\n    {\"Reins2\",new string[]{\"Gross1\",\"Gross2\"}},",
                "\n};",
                "\n",
                "\nvar activity = await CheckGetUnderlyingGicsAsync(inputDataVariable, underlyingGicBm);",
                "\nactivity"
            ],
            "metadata": {},
            "execution_count": 0,
            "outputs": []
        },
        {
            "cell_type": "code",
            "source": [
                "activity.Status.Should().Be(ActivityLogStatus.Succeeded);"
            ],
            "metadata": {},
            "execution_count": 0,
            "outputs": []
        },
        {
            "cell_type": "markdown",
            "source": [
                "## Get Reinsurance Coverage"
            ],
            "metadata": {},
            "execution_count": 0,
            "outputs": []
        },
        {
            "cell_type": "code",
            "source": [
                "public async Task<ActivityLog> CheckGetReinsuranceCoverageAsync(RawVariable[] inputDataVariable,  ",
                "\n                                                   Dictionary<(string, string),double> reinsCovBoPBm, ",
                "\n                                                   Dictionary<(string, string),double> reinsCovEoPBm)",
                "\n{",
                "\n    Activity.Start();",
                "\n    var errors = new List<string>();",
                "\n",
                "\n    await PrepareWorkspaceDataNodes();",
                "\n    await Workspace.UpdateAsync<RawVariable>(inputDataVariable);",
                "\n    var testStorage = new ImportStorage(args, DataSource, Workspace);",
                "\n    await testStorage.InitializeAsync();",
                "\n    ",
                "\n    var primaryScopeDn = testStorage.DataNodesByImportScope[ImportScope.Primary];",
                "\n    ",
                "\n    foreach (var dn in primaryScopeDn)",
                "\n    {",
                "\n        var aocTypes = new AocStep[]{ new AocStep(AocTypes.BOP, Novelties.I), new AocStep(AocTypes.RCU, Novelties.I) };",
                "\n        foreach (var aoc in aocTypes)",
                "\n        {",
                "\n            var bm = aoc.AocType == AocTypes.BOP ? reinsCovBoPBm : reinsCovEoPBm;",
                "\n            var id = new ImportIdentity(){DataNode = dn, AocType = aoc.AocType, Novelty = aoc.Novelty};",
                "\n            ",
                "\n            var computedReinsCov = testStorage.GetUnderlyingGic(id)",
                "\n                                              .Select(gic => (g: gic, value: testStorage.GetReinsuranceCoverage(id, gic)))",
                "\n                                              .ToDictionary(x => (dn,x.g), x => x.value);",
                "\n            ",
                "\n            if( bm.Keys.Where(x => x.Item1 == dn).Except(computedReinsCov.Keys).Count() != 0)",
                "\n               errors.Add( $\"Gric-Gic links not matching with BM for DataNode {dn} and AocType {aoc.AocType}. \\n Computed: \\n{string.Join(\"\\n\",computedReinsCov.Keys)} \\n Expected: \\n{string.Join(\"\\n\",bm.Keys)}\" );",
                "\n            ",
                "\n            foreach (var reinsCov in computedReinsCov)",
                "\n            {",
                "\n                var bmKvp = bm.Single(x => x.Key.Item1 == reinsCov.Key.Item1 && x.Key.Item2 == reinsCov.Key.Item2); ",
                "\n                if( Math.Abs(bmKvp.Value - reinsCov.Value) > Precision )",
                "\n                    errors.Add( $\"{dn}-{reinsCov.Key.Item2} Reinsurance Coverage not matching with BM for AocType {aoc.AocType}: \\n Computed: {reinsCov.Value} \\n Expected: {bmKvp.Value}\");",
                "\n            }",
                "\n        }",
                "\n    }",
                "\n    ",
                "\n    await Workspace.DeleteAsync<RawVariable>(await Workspace.Query<RawVariable>().ToArrayAsync());",
                "\n    await CleanWorkspaceDataNodes();",
                "\n    if(errors.Any()) ApplicationMessage.Log(Error.Generic, string.Join(\"\\n\", errors));",
                "\n    return Activity.Finish();",
                "\n}"
            ],
            "metadata": {},
            "execution_count": 0,
            "outputs": []
        },
        {
            "cell_type": "code",
            "source": [
                "var inputDataVariable = new RawVariable[]{ sampleRawVar with {DataNode = \"Reins1\"},",
                "\n                                           sampleRawVar with {DataNode = \"Reins2\"},",
                "\n                                         };",
                "\nvar reinsCovBoPBm = new Dictionary<(string, string),double>(){",
                "\n    {(\"Reins1\",\"Gross1\"),0.1},",
                "\n    {(\"Reins2\",\"Gross1\"),0.2},",
                "\n    {(\"Reins2\",\"Gross2\"),0.3},",
                "\n};",
                "\n",
                "\nvar reinsCovEoPBm = new Dictionary<(string, string),double>(){",
                "\n    {(\"Reins1\",\"Gross1\"),0.5},",
                "\n    {(\"Reins2\",\"Gross1\"),0.6},",
                "\n    {(\"Reins2\",\"Gross2\"),0.7},",
                "\n};",
                "\n",
                "\nvar activity = await CheckGetReinsuranceCoverageAsync(inputDataVariable, reinsCovBoPBm, reinsCovEoPBm);",
                "\nactivity"
            ],
            "metadata": {},
            "execution_count": 0,
            "outputs": []
        },
        {
            "cell_type": "code",
            "source": [
                "activity.Status.Should().Be(ActivityLogStatus.Succeeded);"
            ],
            "metadata": {},
            "execution_count": 0,
            "outputs": []
        },
        {
            "cell_type": "markdown",
            "source": [
                "## Primary and Secondary Scope"
            ],
            "metadata": {},
            "execution_count": 0,
            "outputs": []
        },
        {
            "cell_type": "code",
            "source": [
                "public async Task<ActivityLog> CheckSecondaryScopeAsync(RawVariable[] inputDataVariable, string[] primaryScopeBm, string[] secondaryScopeBm)",
                "\n{",
                "\n    Activity.Start();",
                "\n    var errors = new List<string>();",
                "\n    ",
                "\n    await PrepareWorkspaceDataNodes();",
                "\n    await Workspace.UpdateAsync<RawVariable>(inputDataVariable);",
                "\n    var testStorage = new ImportStorage(args, DataSource, Workspace);",
                "\n    await testStorage.InitializeAsync();",
                "\n    ",
                "\n    var activeDn = (await Workspace.Query<DataNodeState>().ToArrayAsync()).Select(x => x.DataNode);",
                "\n    ",
                "\n    var primaryScopeDn = testStorage.DataNodesByImportScope[ImportScope.Primary];",
                "\n    ",
                "\n    foreach (var dn in activeDn)",
                "\n    {",
                "\n        //PrimaryScope",
                "\n        if ( primaryScopeBm.Contains(dn) && !primaryScopeDn.Contains(dn))",
                "\n             errors.Add( $\"DataNode {dn} is not added to the primary scope.\" );",
                "\n        if( !primaryScopeBm.Contains(dn) && primaryScopeDn.Contains(dn))",
                "\n             errors.Add( $\"DataNode {dn} is added to the primary scope but should have not.\" );",
                "\n        ",
                "\n        //SecondaryScope",
                "\n        if ( secondaryScopeBm.Contains(dn) && !testStorage.IsSecondaryScope(dn))",
                "\n             errors.Add( $\"DataNode {dn} is not added to the secondary scope.\" );",
                "\n        if( !secondaryScopeBm.Contains(dn) && testStorage.IsSecondaryScope(dn))",
                "\n             errors.Add( $\"DataNode {dn} is added to the secondary scope but should have not.\" );",
                "\n    }",
                "\n    ",
                "\n    await Workspace.DeleteAsync<RawVariable>(await Workspace.Query<RawVariable>().ToArrayAsync());",
                "\n    await CleanWorkspaceDataNodes();",
                "\n    if(errors.Any()) ApplicationMessage.Log(Error.Generic, string.Join(\"\\n\", errors));",
                "\n    return Activity.Finish();",
                "\n}"
            ],
            "metadata": {},
            "execution_count": 0,
            "outputs": []
        },
        {
            "cell_type": "code",
            "source": [
                "var inputDataVariable = new RawVariable[]{ sampleRawVar with {DataNode = \"Reins1\"},",
                "\n                                           sampleRawVar with {DataNode = \"Reins2\"},",
                "\n                                         };",
                "\nvar primaryScopeBm = new string[]{\"Reins1\", \"Reins2\"};",
                "\nvar secondaryScopeBm = new string[]{\"Gross1\", \"Gross2\"};",
                "\nvar activity = await CheckSecondaryScopeAsync(inputDataVariable, primaryScopeBm, secondaryScopeBm);",
                "\nactivity"
            ],
            "metadata": {},
            "execution_count": 0,
            "outputs": []
        },
        {
            "cell_type": "code",
            "source": [
                "activity.Status.Should().Be(ActivityLogStatus.Succeeded);"
            ],
            "metadata": {},
            "execution_count": 0,
            "outputs": []
        },
        {
            "cell_type": "code",
            "source": [
                "var inputDataVariable = new RawVariable[]{ sampleRawVar with {DataNode = \"Reins1\"},",
                "\n                                           };",
                "\nvar primaryScopeBm = new string[]{\"Reins1\"};",
                "\nvar secondaryScopeBm = new string[]{\"Gross1\"};",
                "\nvar activity = await CheckSecondaryScopeAsync(inputDataVariable, primaryScopeBm, secondaryScopeBm);",
                "\nactivity"
            ],
            "metadata": {},
            "execution_count": 0,
            "outputs": []
        },
        {
            "cell_type": "code",
            "source": [
                "activity.Status.Should().Be(ActivityLogStatus.Succeeded);"
            ],
            "metadata": {},
            "execution_count": 0,
            "outputs": []
        },
        {
            "cell_type": "code",
            "source": [
                "var inputDataVariable = new RawVariable[]{ sampleRawVar with {DataNode = \"Reins1\"},",
                "\n                                           sampleRawVar with {DataNode = \"Gross1\"},",
                "\n                                           };",
                "\nvar primaryScopeBm = new string[]{\"Reins1\",\"Gross1\",\"Reins2\"};",
                "\nvar secondaryScopeBm = new string[]{\"Gross2\"};",
                "\nvar activity = await CheckSecondaryScopeAsync(inputDataVariable, primaryScopeBm, secondaryScopeBm);",
                "\nactivity"
            ],
            "metadata": {},
            "execution_count": 0,
            "outputs": []
        },
        {
            "cell_type": "code",
            "source": [
                "activity.Status.Should().Be(ActivityLogStatus.Succeeded);"
            ],
            "metadata": {},
            "execution_count": 0,
            "outputs": []
        },
        {
            "cell_type": "code",
            "source": [
                ""
            ],
            "metadata": {},
            "execution_count": 0,
            "outputs": []
        }
    ]
}