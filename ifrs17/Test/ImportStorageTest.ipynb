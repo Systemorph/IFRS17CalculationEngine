{
    "metadata": {
        "authors": [],
        "kernelspec": {
            "display_name": "Formula Framework",
            "language": "C#",
            "name": "C#"
        },
        "language_info": {
            "file_extension": ".cs",
            "mimetype": "text/plain",
            "name": "C#"
        },
        "toc-autonumbering": "True",
        "toc-showcode": "False"
    },
    "nbformat": 4,
    "nbformat_minor": 5,
    "cells": [
        {
            "cell_type": "markdown",
            "source": [
                "<p style=\"font-weight:bold;\"> <span style=\"font-size: 36px\"> Import Storage Test</span> </p>"
            ],
            "metadata": {},
            "execution_count": 0,
            "outputs": []
        },
        {
            "cell_type": "code",
            "source": [
                "#!import \"../Import/Importers\"",
                "\n#!import \"TestData\""
            ],
            "metadata": {},
            "execution_count": 0,
            "outputs": []
        },
        {
            "cell_type": "markdown",
            "source": [
                "# Workspace Initialization "
            ],
            "metadata": {},
            "execution_count": 0,
            "outputs": []
        },
        {
            "cell_type": "code",
            "source": [
                "await Import.FromString(novelties).WithType<Novelty>().WithTarget(DataSource).ExecuteAsync();",
                "\nawait Import.FromString(canonicalAocTypes).WithType<AocType>().WithTarget(DataSource).ExecuteAsync();",
                "\nawait Import.FromString(canonicalAocConfig).WithFormat(ImportFormats.AocConfiguration).WithTarget(DataSource).ExecuteAsync();"
            ],
            "metadata": {},
            "execution_count": 0,
            "outputs": []
        },
        {
            "cell_type": "code",
            "source": [
                "await DataSource.UpdateAsync<Portfolio>(dt1.RepeatOnce());",
                "\nawait DataSource.UpdateAsync<Portfolio>(dtr1.RepeatOnce());",
                "\nawait DataSource.UpdateAsync<GroupOfInsuranceContract>(new [] {dt11});",
                "\nawait DataSource.UpdateAsync<GroupOfReinsuranceContract>(new [] {dtr11});"
            ],
            "metadata": {},
            "execution_count": 0,
            "outputs": []
        },
        {
            "cell_type": "code",
            "source": [
                "await DataSource.UpdateAsync<DataNodeState>(new [ ] {dt11State, dtr11State});",
                "\nawait DataSource.UpdateAsync(new [ ] {dt11Inter});"
            ],
            "metadata": {},
            "execution_count": 0,
            "outputs": []
        },
        {
            "cell_type": "code",
            "source": [
                "await DataSource.UpdateAsync(new [ ] {yieldCurve, yieldCurvePrevious});"
            ],
            "metadata": {},
            "execution_count": 0,
            "outputs": []
        },
        {
            "cell_type": "code",
            "source": [
                "await Import.FromString(estimateType).WithType<EstimateType>().WithTarget(DataSource).ExecuteAsync();"
            ],
            "metadata": {},
            "execution_count": 0,
            "outputs": []
        },
        {
            "cell_type": "code",
            "source": [
                "Workspace.Initialize(x => x.FromSource(DataSource).DisableInitialization<RawVariable>().DisableInitialization<IfrsVariable>());"
            ],
            "metadata": {},
            "execution_count": 0,
            "outputs": []
        },
        {
            "cell_type": "code",
            "source": [
                "await DataSource.UpdateAsync<PartitionByReportingNodeAndPeriod>(new[]{partition, previousPeriodPartition});",
                "\nawait DataSource.UpdateAsync<PartitionByReportingNode>(new[]{partitionReportingNode});"
            ],
            "metadata": {},
            "execution_count": 0,
            "outputs": []
        },
        {
            "cell_type": "markdown",
            "source": [
                "# Test"
            ],
            "metadata": {},
            "execution_count": 0,
            "outputs": []
        },
        {
            "cell_type": "code",
            "source": [
                "public async Task<ActivityLog> CheckIfrsVariablesFromImportStorageAsync(string importFormat, IEnumerable<IfrsVariable> inputDataSetForWorkspace, IEnumerable<IfrsVariable> inputDataSetForDataSource, IEnumerable<IfrsVariable> ivsBenchmark)",
                "\n{",
                "\n    Activity.Start();",
                "\n    //Prepare Workspace and DataSource",
                "\n    await Workspace.UpdateAsync<IfrsVariable>(inputDataSetForWorkspace);",
                "\n    await DataSource.UpdateAsync<IfrsVariable>(inputDataSetForDataSource);",
                "\n    ",
                "\n    //Set up import storage and test universe",
                "\n    var testStorage = new ImportStorage(args with {ImportFormat = importFormat}, DataSource, Workspace);",
                "\n    await testStorage.InitializeAsync();",
                "\n    ",
                "\n    var ivs = testStorage.IfrsVariablesByImportIdentity.SelectMany(x => x.Value);",
                "\n    ",
                "\n    //Clean up Workspace",
                "\n    //Workspace.Reset();    ",
                "\n    await Workspace.DeleteAsync<IfrsVariable>(inputDataSetForWorkspace);    ",
                "\n    await DataSource.DeleteAsync<IfrsVariable>(inputDataSetForDataSource);    ",
                "\n    ",
                "\n    var errors = new List<string>();",
                "\n    ",
                "\n    var extraVariablesInStorage = ivs.Except(ivsBenchmark).Select(x => x.ToIdentityString()).ToArray();",
                "\n    if(extraVariablesInStorage.Any()) errors.Add( $\"IfrsVariables in the storage contain the following items that are not present in the benchmark:\\n{string.Join(\"\\n\",extraVariablesInStorage)}.\" );",
                "\n       ",
                "\n    var extraVariablesInBenchmark = ivsBenchmark.Except(ivs).Select(x => x.ToIdentityString()).ToArray();",
                "\n    if(extraVariablesInBenchmark.Count() > 0) errors.Add( $\"IfrsVariables in the benchmark contain the following items that are not present in the storage:\\n{string.Join(\"\\n\",extraVariablesInBenchmark)}.\" );",
                "\n        ",
                "\n    //find duplicates in storage",
                "\n    var ivsByIdentityString = ivs.GroupBy(x => x.ToIdentityString()).Where(x => x.Count() > 1).Select(x => x.Key);",
                "\n    if(ivsByIdentityString.Any()) errors.Add($\"IfrsVariables in the storage have duplicated items for:\\n{string.Join(\"\\n\",ivsByIdentityString)}.\");",
                "\n    ",
                "\n    if(errors.Any()) ApplicationMessage.Log(Error.Generic, string.Join(\"\\n\", errors));",
                "\n    return Activity.Finish();",
                "\n}"
            ],
            "metadata": {},
            "execution_count": 0,
            "outputs": []
        },
        {
            "cell_type": "code",
            "source": [
                "//There is a previous year, and it's the first time Actuals are imported for the current year",
                "\nvar basicIfrsVariable = new IfrsVariable{Partition = partition.Id, DataNode = groupOfInsuranceContracts, AccidentYear = null, AmountType = AmountTypes.PR, Novelty = Novelties.C, EstimateType = EstimateTypes.AA};",
                "\nvar inputDataSetForDataSource = new IfrsVariable[]{",
                "\n    basicIfrsVariable with {Partition = previousPeriodPartition.Id, AocType = AocTypes.EOP, Value = 100.0},",
                "\n    basicIfrsVariable with {Partition = previousPeriodPartition.Id, AocType = AocTypes.EOP, EstimateType = EstimateTypes.DA, Value = 1000.0},",
                "\n  };",
                "\n",
                "\nvar inputDataSetForWorkspace = new IfrsVariable[]{",
                "\n    basicIfrsVariable with {AocType = AocTypes.CF, Value = -10.0},",
                "\n    basicIfrsVariable with {AocType = AocTypes.WO, Value = 15.0},",
                "\n  };",
                "\n",
                "\nvar ivsBenchmark = new IfrsVariable[]{",
                "\n    basicIfrsVariable with {AocType = AocTypes.BOP, Novelty = Novelties.I, EstimateType = EstimateTypes.DA, Value = 1000.0},",
                "\n    basicIfrsVariable with {AocType = AocTypes.BOP, Novelty = Novelties.I, Value = 100.0},",
                "\n    basicIfrsVariable with {AocType = AocTypes.CF, Value = -10.0},",
                "\n    basicIfrsVariable with {AocType = AocTypes.WO, Value = 15.0},",
                "\n  };",
                "\nvar activity = await CheckIfrsVariablesFromImportStorageAsync(ImportFormats.Actual, inputDataSetForWorkspace, inputDataSetForDataSource, ivsBenchmark);",
                "\nactivity"
            ],
            "metadata": {},
            "execution_count": 0,
            "outputs": []
        },
        {
            "cell_type": "code",
            "source": [
                "activity.Status.Should().Be(ActivityLogStatus.Succeeded);"
            ],
            "metadata": {},
            "execution_count": 0,
            "outputs": []
        },
        {
            "cell_type": "code",
            "source": [
                "//There is a previous year, and it's the second time Actuals are imported for the current year (reimport)",
                "\nvar basicIfrsVariable = new IfrsVariable{Partition = partition.Id, DataNode = groupOfInsuranceContracts, AccidentYear = null, AmountType = AmountTypes.PR, Novelty = Novelties.C, EstimateType = EstimateTypes.AA};",
                "\nvar inputDataSetForDataSource = new IfrsVariable[]{",
                "\n    basicIfrsVariable with {Partition = previousPeriodPartition.Id, AocType = AocTypes.EOP, Value = 100.0},",
                "\n    basicIfrsVariable with {Partition = previousPeriodPartition.Id, AocType = AocTypes.EOP, EstimateType = EstimateTypes.DA, Value = 1000.0},",
                "\n    basicIfrsVariable with {AocType = AocTypes.BOP, Novelty = Novelties.I, EstimateType = EstimateTypes.DA, Value = 1000.0},",
                "\n    basicIfrsVariable with {AocType = AocTypes.BOP, Novelty = Novelties.I, Value = 100.0},",
                "\n    basicIfrsVariable with {AocType = AocTypes.CF, Value = 150.0},",
                "\n    basicIfrsVariable with {AocType = AocTypes.WO, Value = 200.0},",
                "\n    basicIfrsVariable with {AocType = AocTypes.EOP, Value = 450.0},",
                "\n  };",
                "\n",
                "\nvar inputDataSetForWorkspace = new IfrsVariable[]{",
                "\n    basicIfrsVariable with {AocType = AocTypes.CF, Value = -15.0},",
                "\n    basicIfrsVariable with {AocType = AocTypes.WO, Value = -20.0},",
                "\n  };",
                "\n",
                "\nvar ivsBenchmark = new IfrsVariable[]{",
                "\n    basicIfrsVariable with {AocType = AocTypes.BOP, Novelty = Novelties.I, EstimateType = EstimateTypes.DA, Value = 1000.0},",
                "\n    basicIfrsVariable with {AocType = AocTypes.BOP, Novelty = Novelties.I, Value = 100.0},",
                "\n    basicIfrsVariable with {AocType = AocTypes.CF, Value = -15.0},",
                "\n    basicIfrsVariable with {AocType = AocTypes.WO, Value = -20.0},",
                "\n  };",
                "\n",
                "\nvar activity = await CheckIfrsVariablesFromImportStorageAsync(ImportFormats.Actual, inputDataSetForWorkspace, inputDataSetForDataSource, ivsBenchmark);",
                "\nactivity"
            ],
            "metadata": {},
            "execution_count": 0,
            "outputs": []
        },
        {
            "cell_type": "code",
            "source": [
                "activity.Status.Should().Be(ActivityLogStatus.Succeeded);"
            ],
            "metadata": {},
            "execution_count": 0,
            "outputs": []
        },
        {
            "cell_type": "code",
            "source": [
                "//There is a previous year, Cash flows were already imported and Actuals are imported for the first time",
                "\nvar basicIfrsVariable = new IfrsVariable{Partition = partition.Id, DataNode = groupOfInsuranceContracts, AccidentYear = null, AmountType = AmountTypes.PR, Novelty = Novelties.I, EstimateType = EstimateTypes.BE};",
                "\nvar inputDataSetForDataSource = new IfrsVariable[]{",
                "\n    basicIfrsVariable with {Partition = previousPeriodPartition.Id, AocType = AocTypes.EOP, EstimateType = EstimateTypes.AA, Novelty = Novelties.C, Value = 100.0},",
                "\n    basicIfrsVariable with {Partition = previousPeriodPartition.Id, AocType = AocTypes.EOP, Value = 1000.0},",
                "\n    basicIfrsVariable with {AocType = AocTypes.BOP, Novelty = Novelties.I, Value = 1000.0},",
                "\n    basicIfrsVariable with {AocType = AocTypes.IA, Value = 1500.0},",
                "\n    basicIfrsVariable with {AocType = AocTypes.CF, Value = 2500.0},",
                "\n    basicIfrsVariable with {AocType = AocTypes.EOP, Value = 5000.0},",
                "\n  };",
                "\n",
                "\nvar inputDataSetForWorkspace = new IfrsVariable[]{",
                "\n    basicIfrsVariable with {AocType = AocTypes.CF, EstimateType = EstimateTypes.AA, Novelty = Novelties.C, Value = -15.0},",
                "\n    basicIfrsVariable with {AocType = AocTypes.WO, EstimateType = EstimateTypes.AA, Novelty = Novelties.C, Value = -20.0},",
                "\n  };",
                "\n",
                "\nvar ivsBenchmark = new IfrsVariable[]{",
                "\n    basicIfrsVariable with {AocType = AocTypes.BOP, Novelty = Novelties.I, Value = 1000.0},",
                "\n    basicIfrsVariable with {AocType = AocTypes.IA, Value = 1500.0},",
                "\n    basicIfrsVariable with {AocType = AocTypes.CF, Value = 2500.0},",
                "\n    basicIfrsVariable with {AocType = AocTypes.EOP, Value = 5000.0},",
                "\n    basicIfrsVariable with {AocType = AocTypes.BOP, Novelty = Novelties.I, EstimateType = EstimateTypes.AA, Value = 100.0},",
                "\n    basicIfrsVariable with {AocType = AocTypes.CF, EstimateType = EstimateTypes.AA, Novelty = Novelties.C, Value = -15.0},",
                "\n    basicIfrsVariable with {AocType = AocTypes.WO, EstimateType = EstimateTypes.AA, Novelty = Novelties.C, Value = -20.0},",
                "\n  };",
                "\n",
                "\nvar activity = await CheckIfrsVariablesFromImportStorageAsync(ImportFormats.Actual, inputDataSetForWorkspace, inputDataSetForDataSource, ivsBenchmark);",
                "\nactivity"
            ],
            "metadata": {},
            "execution_count": 0,
            "outputs": []
        },
        {
            "cell_type": "code",
            "source": [
                "activity.Status.Should().Be(ActivityLogStatus.Succeeded);"
            ],
            "metadata": {},
            "execution_count": 0,
            "outputs": []
        },
        {
            "cell_type": "code",
            "source": [
                "//There is a previous year, Cash flows and Actuals were already imported and Actuals are imported again",
                "\nvar basicAdvanceActualIfrsVariable = new IfrsVariable{Partition = partition.Id, DataNode = groupOfInsuranceContracts, AccidentYear = null, AmountType = AmountTypes.PR, Novelty = Novelties.C, EstimateType = EstimateTypes.AA};",
                "\nvar basicBeIfrsVariable = new IfrsVariable{Partition = partition.Id, DataNode = groupOfInsuranceContracts, AccidentYear = null, AmountType = AmountTypes.PR, Novelty = Novelties.I, EstimateType = EstimateTypes.BE};",
                "\nvar inputDataSetForDataSource = new IfrsVariable[]{",
                "\n    basicBeIfrsVariable            with {Partition = previousPeriodPartition.Id, AocType = AocTypes.EOP, Value = 1000.0},",
                "\n    basicBeIfrsVariable            with {AocType = AocTypes.BOP, Novelty = Novelties.I, Value = 1000.0},",
                "\n    basicBeIfrsVariable            with {AocType = AocTypes.IA, Value = 1500.0},",
                "\n    basicBeIfrsVariable            with {AocType = AocTypes.CF, Value = 2500.0},",
                "\n    basicBeIfrsVariable            with {AocType = AocTypes.EOP, Value = 5000.0},",
                "\n    basicAdvanceActualIfrsVariable with {Partition = previousPeriodPartition.Id, AocType = AocTypes.EOP, Value = 100.0},",
                "\n    basicAdvanceActualIfrsVariable with {Partition = previousPeriodPartition.Id, AocType = AocTypes.EOP, EstimateType = EstimateTypes.DA, Value = 1000.0},",
                "\n    basicAdvanceActualIfrsVariable with {AocType = AocTypes.BOP, Novelty = Novelties.I, EstimateType = EstimateTypes.DA, Value = 1000.0},",
                "\n    basicAdvanceActualIfrsVariable with {AocType = AocTypes.BOP, Novelty = Novelties.I, Value = 100.0},",
                "\n    basicAdvanceActualIfrsVariable with {AocType = AocTypes.CF, Value = 150.0},",
                "\n    basicAdvanceActualIfrsVariable with {AocType = AocTypes.WO, Value = 200.0},",
                "\n    basicAdvanceActualIfrsVariable with {AocType = AocTypes.EOP, Value = 450.0},",
                "\n  };",
                "\n",
                "\nvar inputDataSetForWorkspace = new IfrsVariable[]{",
                "\n    basicAdvanceActualIfrsVariable with {AocType = AocTypes.CF, Value = -15.0},",
                "\n    basicAdvanceActualIfrsVariable with {AocType = AocTypes.WO, Value = -20.0},",
                "\n  };",
                "\n",
                "\nvar ivsBenchmark = new IfrsVariable[]{",
                "\n    basicBeIfrsVariable            with {AocType = AocTypes.BOP, Novelty = Novelties.I, Value = 1000.0},",
                "\n    basicBeIfrsVariable            with {AocType = AocTypes.IA, Value = 1500.0},",
                "\n    basicBeIfrsVariable            with {AocType = AocTypes.CF, Value = 2500.0},",
                "\n    basicBeIfrsVariable            with {AocType = AocTypes.EOP, Value = 5000.0},",
                "\n    basicAdvanceActualIfrsVariable with {AocType = AocTypes.BOP, Novelty = Novelties.I, EstimateType = EstimateTypes.DA, Value = 1000.0},",
                "\n    basicAdvanceActualIfrsVariable with {AocType = AocTypes.BOP, Novelty = Novelties.I, Value = 100.0},",
                "\n    basicAdvanceActualIfrsVariable with {AocType = AocTypes.CF, Value = -15.0},",
                "\n    basicAdvanceActualIfrsVariable with {AocType = AocTypes.WO, Value = -20.0},",
                "\n  };",
                "\n",
                "\nvar activity = await CheckIfrsVariablesFromImportStorageAsync(ImportFormats.Actual, inputDataSetForWorkspace, inputDataSetForDataSource, ivsBenchmark);",
                "\nactivity"
            ],
            "metadata": {},
            "execution_count": 0,
            "outputs": []
        },
        {
            "cell_type": "code",
            "source": [
                "activity.Status.Should().Be(ActivityLogStatus.Succeeded);"
            ],
            "metadata": {},
            "execution_count": 0,
            "outputs": []
        },
        {
            "cell_type": "code",
            "source": [
                "//There is a previous year for Primary Scope (GRIC10) ",
                "\n//There is a previous and current year for Secondary Scope (GIC10), ",
                "\n//It's the first time Actuals are imported for the current year",
                "\n",
                "\nvar basicIfrsVariable = new IfrsVariable{Partition = partition.Id, DataNode = groupOfReinsuranceContracts, AccidentYear = null, AmountType = AmountTypes.PR, Novelty = Novelties.C, EstimateType = EstimateTypes.AA};",
                "\nvar inputDataSetForDataSource = new IfrsVariable[]{",
                "\n    //Year",
                "\n    basicIfrsVariable with {Partition = previousPeriodPartition.Id, AocType = AocTypes.EOP, Value = 100.0},",
                "\n    basicIfrsVariable with {Partition = previousPeriodPartition.Id, AocType = AocTypes.EOP, EstimateType = EstimateTypes.DA, Value = 1000.0},",
                "\n    basicIfrsVariable with {Partition = previousPeriodPartition.Id, AocType = AocTypes.EOP, DataNode = groupOfInsuranceContracts, EstimateType = EstimateTypes.DA, Value = 1000.0},",
                "\n    basicIfrsVariable with {Partition = previousPeriodPartition.Id, AocType = AocTypes.EOP, DataNode = groupOfInsuranceContracts, EstimateType = EstimateTypes.BE, EconomicBasis = EconomicBases.C, Value = 1000.0},",
                "\n    basicIfrsVariable with {Partition = previousPeriodPartition.Id, AocType = AocTypes.CL,  DataNode = groupOfInsuranceContracts, EstimateType = EstimateTypes.BE, EconomicBasis = EconomicBases.C, Value = 666.0},",
                "\n    basicIfrsVariable with {Partition = previousPeriodPartition.Id, AocType = AocTypes.EOP, DataNode = groupOfInsuranceContracts, EstimateType = EstimateTypes.BE, EconomicBasis = EconomicBases.L, Value = 1000.0},",
                "\n    basicIfrsVariable with {Partition = previousPeriodPartition.Id, AocType = AocTypes.CL,  DataNode = groupOfInsuranceContracts, EstimateType = EstimateTypes.BE, EconomicBasis = EconomicBases.L, Value = 666.0},",
                "\n    //Year -1",
                "\n    basicIfrsVariable with {AocType = AocTypes.IA, Novelty = Novelties.I, DataNode = groupOfInsuranceContracts, EstimateType = EstimateTypes.BE, EconomicBasis = EconomicBases.L, Value = 10.0},",
                "\n    basicIfrsVariable with {AocType = AocTypes.CF, Novelty = Novelties.I, DataNode = groupOfInsuranceContracts, EstimateType = EstimateTypes.BE, EconomicBasis = EconomicBases.L, Value = 10.0},",
                "\n  };",
                "\n",
                "\nvar inputDataSetForWorkspace = new IfrsVariable[]{",
                "\n    basicIfrsVariable with {AocType = AocTypes.CF, Value = -10.0},",
                "\n    basicIfrsVariable with {AocType = AocTypes.WO, Value = 15.0},",
                "\n  };",
                "\n",
                "\nvar ivsBenchmark = new IfrsVariable[]{",
                "\n    //From previous Period",
                "\n    //Actuals",
                "\n    basicIfrsVariable with {AocType = AocTypes.BOP, Novelty = Novelties.I, EstimateType = EstimateTypes.DA, Value = 1000.0},",
                "\n    basicIfrsVariable with {AocType = AocTypes.BOP, Novelty = Novelties.I, Value = 100.0},",
                "\n    basicIfrsVariable with {AocType = AocTypes.BOP, Novelty = Novelties.I, DataNode = groupOfInsuranceContracts, EstimateType = EstimateTypes.DA, Value = 1000.0},",
                "\n    //Cash flow",
                "\n    basicIfrsVariable with {AocType = AocTypes.BOP, Novelty = Novelties.I, DataNode = groupOfInsuranceContracts, EstimateType = EstimateTypes.BE, EconomicBasis = EconomicBases.L, Value = 1000.0},",
                "\n    basicIfrsVariable with {AocType = AocTypes.BOP, Novelty = Novelties.I, DataNode = groupOfInsuranceContracts, EstimateType = EstimateTypes.BE, EconomicBasis = EconomicBases.C, Value = 1000.0},",
                "\n    ",
                "\n    //From current Period",
                "\n    //from DB",
                "\n    basicIfrsVariable with {AocType = AocTypes.IA, Novelty = Novelties.I, DataNode = groupOfInsuranceContracts, EstimateType = EstimateTypes.BE, EconomicBasis = EconomicBases.L, Value = 10.0},",
                "\n    basicIfrsVariable with {AocType = AocTypes.CF, Novelty = Novelties.I, DataNode = groupOfInsuranceContracts, EstimateType = EstimateTypes.BE, EconomicBasis = EconomicBases.L, Value = 10.0},",
                "\n    ",
                "\n    //from workspace",
                "\n    basicIfrsVariable with {AocType = AocTypes.CF, Value = -10.0},",
                "\n    basicIfrsVariable with {AocType = AocTypes.WO, Value = 15.0},",
                "\n  };",
                "\n",
                "\nvar activity = await CheckIfrsVariablesFromImportStorageAsync(ImportFormats.Actual, inputDataSetForWorkspace, inputDataSetForDataSource, ivsBenchmark);",
                "\nactivity"
            ],
            "metadata": {},
            "execution_count": 0,
            "outputs": []
        },
        {
            "cell_type": "code",
            "source": [
                "activity.Status.Should().Be(ActivityLogStatus.Succeeded);"
            ],
            "metadata": {},
            "execution_count": 0,
            "outputs": []
        },
        {
            "cell_type": "markdown",
            "source": [
                "# Data Node Parameter related logic"
            ],
            "metadata": {},
            "execution_count": 0,
            "outputs": []
        },
        {
            "cell_type": "markdown",
            "source": [
                "## Data Preparation"
            ],
            "metadata": {},
            "execution_count": 0,
            "outputs": []
        },
        {
            "cell_type": "code",
            "source": [
                "//Define partition",
                "\nvar args = new ImportArgs(\"CH\", 2021, 3, Periodicity.Quarterly, null, ImportFormats.Cashflow);",
                "\n",
                "\nvar reportingNodePartition = DataSource.Query<PartitionByReportingNode>().FirstOrDefault(x => x.ReportingNode == args.ReportingNode);",
                "\nif(reportingNodePartition == null) ApplicationMessage.Log(Error.PartitionNotFound);",
                "\n",
                "\n",
                "\nvar currentPartition = DataSource.Query<PartitionByReportingNodeAndPeriod>().FirstOrDefault(x => x.ReportingNode == args.ReportingNode && x.Year == args.Year && ",
                "\n                                                                                    x.Month == args.Month && x.Scenario == args.Scenario);",
                "\nif(currentPartition == null) ApplicationMessage.Log(Error.PartitionNotFound);",
                "\n",
                "\n",
                "\nvar previousPeriodPartition = Workspace.Query<PartitionByReportingNodeAndPeriod>().FirstOrDefault(x => x.ReportingNode == args.ReportingNode && x.Year == args.Year - 1 && ",
                "\n                                                                                    x.Month == MonthInAYear && x.Scenario == args.Scenario);",
                "\nif(previousPeriodPartition == null) ApplicationMessage.Log(Error.PartitionNotFound);"
            ],
            "metadata": {},
            "execution_count": 0,
            "outputs": []
        },
        {
            "cell_type": "code",
            "source": [
                "var sampleGic = new GroupOfInsuranceContract(){Portfolio = \"P1\"};",
                "\nvar inputDataGic = new GroupOfInsuranceContract[]{ sampleGic with {SystemName = \"Gross1\", LiabilityType = LiabilityTypes.LRC, ContractualCurrency = \"USD\", ValuationApproach = \"BBA\"},",
                "\n                                                   sampleGic with {SystemName = \"Gross2\", LiabilityType = LiabilityTypes.LRC, ContractualCurrency = \"USD\", ValuationApproach = \"BBA\"},",
                "\n                                                   sampleGic with {SystemName = \"Gross3\", LiabilityType = LiabilityTypes.LRC, ContractualCurrency = \"USD\", ValuationApproach = \"BBA\"},",
                "\n                                                 };",
                "\n",
                "\nvar sampleGric = new GroupOfReinsuranceContract(){Portfolio = \"ReP1\"};",
                "\nvar inputDataGric = new GroupOfReinsuranceContract[]{ sampleGric with {SystemName = \"Reins1\", LiabilityType = LiabilityTypes.LRC, ContractualCurrency = \"USD\", ValuationApproach = \"BBA\"},",
                "\n                                                      sampleGric with {SystemName = \"Reins2\", LiabilityType = LiabilityTypes.LRC, ContractualCurrency = \"USD\", ValuationApproach = \"BBA\"},",
                "\n                                                      sampleGric with {SystemName = \"Reins3\", LiabilityType = LiabilityTypes.LRC, ContractualCurrency = \"USD\", ValuationApproach = \"BBA\"},",
                "\n                                                 };",
                "\nvar sampleDnState = new DataNodeState {Partition = reportingNodePartition.Id, Year = args.Year, Month = args.Month, State = State.Active};",
                "\nvar inputDataState = new DataNodeState[]{ sampleDnState with {DataNode = \"Gross1\"} ,",
                "\n                                         sampleDnState with {DataNode = \"Gross2\"} ,",
                "\n                                         sampleDnState with {DataNode = \"Gross3\"} ,",
                "\n                                         sampleDnState with {DataNode = \"Reins1\"} ,",
                "\n                                         sampleDnState with {DataNode = \"Reins2\"} ,",
                "\n                                         sampleDnState with {DataNode = \"Reins3\"} ,",
                "\n                                        };",
                "\n",
                "\nvar samplePreviousDnParam = new InterDataNodeParameter {Partition = reportingNodePartition.Id, ReinsuranceCoverage = 1, Year = args.Year -1, Month = args.Month};",
                "\nvar sampleCurrentDnParam = new InterDataNodeParameter {Partition = reportingNodePartition.Id, ReinsuranceCoverage = 1, Year = args.Year, Month = args.Month};",
                "\nvar inputDataParameter = new InterDataNodeParameter[]{",
                "\n                                                      samplePreviousDnParam with {DataNode = \"Gross3\", LinkedDataNode = \"Reins3\", ReinsuranceCoverage = 1},",
                "\n                                                      samplePreviousDnParam with {DataNode = \"Gross1\", LinkedDataNode = \"Reins1\", ReinsuranceCoverage = 0.1},",
                "\n                                                      samplePreviousDnParam with {DataNode = \"Gross1\", LinkedDataNode = \"Reins2\", ReinsuranceCoverage = 0.2},",
                "\n                                                      samplePreviousDnParam with {DataNode = \"Gross2\", LinkedDataNode = \"Reins2\", ReinsuranceCoverage = 0.3},",
                "\n                                                      sampleCurrentDnParam with {DataNode = \"Gross1\", LinkedDataNode = \"Reins1\", ReinsuranceCoverage = 0.5},",
                "\n                                                      sampleCurrentDnParam with {DataNode = \"Gross1\", LinkedDataNode = \"Reins2\", ReinsuranceCoverage = 0.6},",
                "\n                                                      sampleCurrentDnParam with {DataNode = \"Gross2\", LinkedDataNode = \"Reins2\", ReinsuranceCoverage = 0.7},",
                "\n                                                      sampleCurrentDnParam with {DataNode = \"Gross3\", LinkedDataNode = \"Reins3\", ReinsuranceCoverage = 1.0},",
                "\n                                        };",
                "\n",
                "\nvar sampleRawVar = new RawVariable{AmountType = AmountTypes.PR, AocType = AocTypes.CL, Novelty = Novelties.C, Partition = currentPartition.Id};"
            ],
            "metadata": {},
            "execution_count": 0,
            "outputs": []
        },
        {
            "cell_type": "code",
            "source": [
                "public async Task PrepareWorkspaceDataNodes()",
                "\n{",
                "\n    await Workspace.UpdateAsync<GroupOfInsuranceContract>(inputDataGic);",
                "\n    await Workspace.UpdateAsync<GroupOfReinsuranceContract>(inputDataGric);",
                "\n    await Workspace.UpdateAsync<DataNodeState>(inputDataState);",
                "\n    await Workspace.UpdateAsync<InterDataNodeParameter>(inputDataParameter);",
                "\n}"
            ],
            "metadata": {},
            "execution_count": 0,
            "outputs": []
        },
        {
            "cell_type": "code",
            "source": [
                "public async Task CleanWorkspaceDataNodes()",
                "\n{",
                "\n    await Workspace.DeleteAsync<GroupOfInsuranceContract>(inputDataGic);",
                "\n    await Workspace.DeleteAsync<GroupOfReinsuranceContract>(inputDataGric);",
                "\n    await Workspace.DeleteAsync<DataNodeState>(inputDataState);",
                "\n    await Workspace.DeleteAsync<InterDataNodeParameter>(inputDataParameter);",
                "\n}"
            ],
            "metadata": {},
            "execution_count": 0,
            "outputs": []
        },
        {
            "cell_type": "markdown",
            "source": [
                "## Get Underlying Gic"
            ],
            "metadata": {},
            "execution_count": 0,
            "outputs": []
        },
        {
            "cell_type": "code",
            "source": [
                "public async Task<ActivityLog> CheckGetUnderlyingGicsAsync(RawVariable[] inputDataVariable, Dictionary<string,IEnumerable<string>> underlyingGicBm)",
                "\n{",
                "\n    Activity.Start();",
                "\n    var errors = new List<string>();",
                "\n    ",
                "\n    await PrepareWorkspaceDataNodes();",
                "\n    await Workspace.UpdateAsync<RawVariable>(inputDataVariable);",
                "\n    var testStorage = new ImportStorage(args, DataSource, Workspace);",
                "\n    await testStorage.InitializeAsync();",
                "\n    ",
                "\n    var primaryScopeDn = testStorage.DataNodesByImportScope[ImportScope.Primary];",
                "\n    ",
                "\n    foreach (var dn in primaryScopeDn)",
                "\n    {",
                "\n        var id = new ImportIdentity(){DataNode = dn};",
                "\n        if ( underlyingGicBm[dn].Except(testStorage.GetUnderlyingGic(id)).Count() != 0 )",
                "\n            errors.Add( $\"Underlying Gics for DataNode {dn} not matching with BM. Computed: \\n{string.Join(\"\\n\",testStorage.GetUnderlyingGic(id))} \\n Expected : \\n{string.Join(\"\\n\",underlyingGicBm[dn])}\" );",
                "\n    }",
                "\n    ",
                "\n    await Workspace.DeleteAsync<RawVariable>(Workspace.Query<RawVariable>());",
                "\n    await CleanWorkspaceDataNodes();",
                "\n    if(errors.Any()) ApplicationMessage.Log(Error.Generic, string.Join(\"\\n\", errors));",
                "\n    return Activity.Finish();",
                "\n}"
            ],
            "metadata": {},
            "execution_count": 0,
            "outputs": []
        },
        {
            "cell_type": "code",
            "source": [
                "var inputDataVariable = new RawVariable[]{ sampleRawVar with {DataNode = \"Reins1\"},",
                "\n                                           sampleRawVar with {DataNode = \"Reins2\"},",
                "\n                                         };",
                "\nvar underlyingGicBm = new Dictionary<string,IEnumerable<string>>(){",
                "\n    {\"Reins1\",new string[]{\"Gross1\"}},",
                "\n    {\"Reins2\",new string[]{\"Gross1\",\"Gross2\"}},",
                "\n};",
                "\n",
                "\nvar activity = await CheckGetUnderlyingGicsAsync(inputDataVariable, underlyingGicBm);",
                "\nactivity"
            ],
            "metadata": {},
            "execution_count": 0,
            "outputs": []
        },
        {
            "cell_type": "code",
            "source": [
                "activity.Status.Should().Be(ActivityLogStatus.Succeeded);"
            ],
            "metadata": {},
            "execution_count": 0,
            "outputs": []
        },
        {
            "cell_type": "code",
            "source": [
                "var inputDataVariable = new RawVariable[]{ sampleRawVar with {DataNode = \"Reins2\"},",
                "\n                                         };",
                "\nvar underlyingGicBm = new Dictionary<string,IEnumerable<string>>(){",
                "\n    {\"Reins2\",new string[]{\"Gross1\",\"Gross2\"}},",
                "\n};",
                "\n",
                "\nvar activity = await CheckGetUnderlyingGicsAsync(inputDataVariable, underlyingGicBm);",
                "\nactivity"
            ],
            "metadata": {},
            "execution_count": 0,
            "outputs": []
        },
        {
            "cell_type": "code",
            "source": [
                "activity.Status.Should().Be(ActivityLogStatus.Succeeded);"
            ],
            "metadata": {},
            "execution_count": 0,
            "outputs": []
        },
        {
            "cell_type": "markdown",
            "source": [
                "## Get Reinsurance Coverage"
            ],
            "metadata": {},
            "execution_count": 0,
            "outputs": []
        },
        {
            "cell_type": "code",
            "source": [
                "public async Task<ActivityLog> CheckGetReinsuranceCoverageAsync(RawVariable[] inputDataVariable,  ",
                "\n                                                   Dictionary<(string, string),double> reinsCovBoPBm, ",
                "\n                                                   Dictionary<(string, string),double> reinsCovEoPBm)",
                "\n{",
                "\n    Activity.Start();",
                "\n    var errors = new List<string>();",
                "\n",
                "\n    await PrepareWorkspaceDataNodes();",
                "\n    await Workspace.UpdateAsync<RawVariable>(inputDataVariable);",
                "\n    var testStorage = new ImportStorage(args, DataSource, Workspace);",
                "\n    await testStorage.InitializeAsync();",
                "\n    ",
                "\n    var primaryScopeDn = testStorage.DataNodesByImportScope[ImportScope.Primary];",
                "\n    ",
                "\n    foreach (var dn in primaryScopeDn)",
                "\n    {",
                "\n        var aocTypes = new AocStep[]{ new AocStep(AocTypes.BOP, Novelties.I), new AocStep(AocTypes.RCU, Novelties.I) };",
                "\n        foreach (var aoc in aocTypes)",
                "\n        {",
                "\n            var bm = aoc.AocType == AocTypes.BOP ? reinsCovBoPBm : reinsCovEoPBm;",
                "\n            var id = new ImportIdentity(){DataNode = dn, AocType = aoc.AocType, Novelty = aoc.Novelty};",
                "\n            ",
                "\n            var computedReinsCov = testStorage.GetUnderlyingGic(id)",
                "\n                                              .Select(gic => (g: gic, value: testStorage.GetReinsuranceCoverage(id, gic)))",
                "\n                                              .ToDictionary(x => (dn,x.g), x => x.value);",
                "\n            ",
                "\n            if( bm.Keys.Where(x => x.Item1 == dn).Except(computedReinsCov.Keys).Count() != 0)",
                "\n               errors.Add( $\"Gric-Gic links not matching with BM for DataNode {dn} and AocType {aoc.AocType}. \\n Computed: \\n{string.Join(\"\\n\",computedReinsCov.Keys)} \\n Expected: \\n{string.Join(\"\\n\",bm.Keys)}\" );",
                "\n            ",
                "\n            foreach (var reinsCov in computedReinsCov)",
                "\n            {",
                "\n                var bmKvp = bm.Single(x => x.Key.Item1 == reinsCov.Key.Item1 && x.Key.Item2 == reinsCov.Key.Item2); ",
                "\n                if( Math.Abs(bmKvp.Value - reinsCov.Value) > Precision )",
                "\n                    errors.Add( $\"{dn}-{reinsCov.Key.Item2} Reinsurance Coverage not matching with BM for AocType {aoc.AocType}: \\n Computed: {reinsCov.Value} \\n Expected: {bmKvp.Value}\");",
                "\n            }",
                "\n        }",
                "\n    }",
                "\n    ",
                "\n    await Workspace.DeleteAsync<RawVariable>(Workspace.Query<RawVariable>());",
                "\n    await CleanWorkspaceDataNodes();",
                "\n    if(errors.Any()) ApplicationMessage.Log(Error.Generic, string.Join(\"\\n\", errors));",
                "\n    return Activity.Finish();",
                "\n}"
            ],
            "metadata": {},
            "execution_count": 0,
            "outputs": []
        },
        {
            "cell_type": "code",
            "source": [
                "var inputDataVariable = new RawVariable[]{ sampleRawVar with {DataNode = \"Reins1\"},",
                "\n                                           sampleRawVar with {DataNode = \"Reins2\"},",
                "\n                                         };",
                "\nvar reinsCovBoPBm = new Dictionary<(string, string),double>(){",
                "\n    {(\"Reins1\",\"Gross1\"),0.1},",
                "\n    {(\"Reins2\",\"Gross1\"),0.2},",
                "\n    {(\"Reins2\",\"Gross2\"),0.3},",
                "\n};",
                "\n",
                "\nvar reinsCovEoPBm = new Dictionary<(string, string),double>(){",
                "\n    {(\"Reins1\",\"Gross1\"),0.5},",
                "\n    {(\"Reins2\",\"Gross1\"),0.6},",
                "\n    {(\"Reins2\",\"Gross2\"),0.7},",
                "\n};",
                "\n",
                "\nvar activity = await CheckGetReinsuranceCoverageAsync(inputDataVariable, reinsCovBoPBm, reinsCovEoPBm);",
                "\nactivity"
            ],
            "metadata": {},
            "execution_count": 0,
            "outputs": []
        },
        {
            "cell_type": "code",
            "source": [
                "activity.Status.Should().Be(ActivityLogStatus.Succeeded);"
            ],
            "metadata": {},
            "execution_count": 0,
            "outputs": []
        },
        {
            "cell_type": "markdown",
            "source": [
                "## Primary and Secondary Scope"
            ],
            "metadata": {},
            "execution_count": 0,
            "outputs": []
        },
        {
            "cell_type": "code",
            "source": [
                "public async Task<ActivityLog> CheckSecondaryScopeAsync(RawVariable[] inputDataVariable, string[] primaryScopeBm, string[] secondaryScopeBm)",
                "\n{",
                "\n    Activity.Start();",
                "\n    var errors = new List<string>();",
                "\n    ",
                "\n    await PrepareWorkspaceDataNodes();",
                "\n    await Workspace.UpdateAsync<RawVariable>(inputDataVariable);",
                "\n    var testStorage = new ImportStorage(args, DataSource, Workspace);",
                "\n    await testStorage.InitializeAsync();",
                "\n    ",
                "\n    var activeDn = (await Workspace.Query<DataNodeState>().ToArrayAsync()).Select(x => x.DataNode);",
                "\n    ",
                "\n    var primaryScopeDn = testStorage.DataNodesByImportScope[ImportScope.Primary];",
                "\n    ",
                "\n    foreach (var dn in activeDn)",
                "\n    {",
                "\n        //PrimaryScope",
                "\n        if ( primaryScopeBm.Contains(dn) && !primaryScopeDn.Contains(dn))",
                "\n             errors.Add( $\"DataNode {dn} is not added to the primary scope.\" );",
                "\n        if( !primaryScopeBm.Contains(dn) && primaryScopeDn.Contains(dn))",
                "\n             errors.Add( $\"DataNode {dn} is added to the primary scope but should have not.\" );",
                "\n        ",
                "\n        //SecondaryScope",
                "\n        if ( secondaryScopeBm.Contains(dn) && !testStorage.IsSecondaryScope(dn))",
                "\n             errors.Add( $\"DataNode {dn} is not added to the secondary scope.\" );",
                "\n        if( !secondaryScopeBm.Contains(dn) && testStorage.IsSecondaryScope(dn))",
                "\n             errors.Add( $\"DataNode {dn} is added to the secondary scope but should have not.\" );",
                "\n    }",
                "\n    ",
                "\n    await Workspace.DeleteAsync<RawVariable>(Workspace.Query<RawVariable>());",
                "\n    await CleanWorkspaceDataNodes();",
                "\n    if(errors.Any()) ApplicationMessage.Log(Error.Generic, string.Join(\"\\n\", errors));",
                "\n    return Activity.Finish();",
                "\n}"
            ],
            "metadata": {},
            "execution_count": 0,
            "outputs": []
        },
        {
            "cell_type": "code",
            "source": [
                "var inputDataVariable = new RawVariable[]{ sampleRawVar with {DataNode = \"Reins1\"},",
                "\n                                           sampleRawVar with {DataNode = \"Reins2\"},",
                "\n                                         };",
                "\nvar primaryScopeBm = new string[]{\"Reins1\", \"Reins2\"};",
                "\nvar secondaryScopeBm = new string[]{\"Gross1\", \"Gross2\"};",
                "\nvar activity = await CheckSecondaryScopeAsync(inputDataVariable, primaryScopeBm, secondaryScopeBm);",
                "\nactivity"
            ],
            "metadata": {},
            "execution_count": 0,
            "outputs": []
        },
        {
            "cell_type": "code",
            "source": [
                "activity.Status.Should().Be(ActivityLogStatus.Succeeded);"
            ],
            "metadata": {},
            "execution_count": 0,
            "outputs": []
        },
        {
            "cell_type": "code",
            "source": [
                "var inputDataVariable = new RawVariable[]{ sampleRawVar with {DataNode = \"Reins1\"},",
                "\n                                           };",
                "\nvar primaryScopeBm = new string[]{\"Reins1\"};",
                "\nvar secondaryScopeBm = new string[]{\"Gross1\"};",
                "\nvar activity = await CheckSecondaryScopeAsync(inputDataVariable, primaryScopeBm, secondaryScopeBm);",
                "\nactivity"
            ],
            "metadata": {},
            "execution_count": 0,
            "outputs": []
        },
        {
            "cell_type": "code",
            "source": [
                "activity.Status.Should().Be(ActivityLogStatus.Succeeded);"
            ],
            "metadata": {},
            "execution_count": 0,
            "outputs": []
        },
        {
            "cell_type": "code",
            "source": [
                "var inputDataVariable = new RawVariable[]{ sampleRawVar with {DataNode = \"Reins1\"},",
                "\n                                           sampleRawVar with {DataNode = \"Gross1\"},",
                "\n                                           };",
                "\nvar primaryScopeBm = new string[]{\"Reins1\",\"Gross1\",\"Reins2\"};",
                "\nvar secondaryScopeBm = new string[]{\"Gross2\"};",
                "\nvar activity = await CheckSecondaryScopeAsync(inputDataVariable, primaryScopeBm, secondaryScopeBm);",
                "\nactivity"
            ],
            "metadata": {},
            "execution_count": 0,
            "outputs": []
        },
        {
            "cell_type": "code",
            "source": [
                "activity.Status.Should().Be(ActivityLogStatus.Succeeded);"
            ],
            "metadata": {},
            "execution_count": 0,
            "outputs": []
        },
        {
            "cell_type": "code",
            "source": [
                ""
            ],
            "metadata": {},
            "execution_count": 0,
            "outputs": []
        }
    ]
}