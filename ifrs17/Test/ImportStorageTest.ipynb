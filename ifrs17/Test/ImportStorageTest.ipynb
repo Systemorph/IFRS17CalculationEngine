{
    "metadata": {
        "authors": [],
        "id": "UBkQtzi400mCgXvIuhlVGw",
        "kernelspec": {
            "display_name": "Formula Framework",
            "language": "C#",
            "name": "C#"
        },
        "language_info": {
            "file_extension": ".cs",
            "mimetype": "text/plain",
            "name": "C#"
        }
    },
    "nbformat": 4,
    "nbformat_minor": 5,
    "cells": [
        {
            "cell_type": "markdown",
            "source": [
                "<p style=\"font-weight:bold;\"> <span style=\"font-size: 36px\"> Import Storage Test</span> </p>"
            ],
            "metadata": {},
            "execution_count": 0,
            "outputs": []
        },
        {
            "cell_type": "code",
            "source": [
                "#!import \"../Import/Importers\"",
                "\n#!import \"TestData\""
            ],
            "metadata": {},
            "execution_count": 0,
            "outputs": []
        },
        {
            "cell_type": "markdown",
            "source": [
                "# Initialization "
            ],
            "metadata": {},
            "execution_count": 0,
            "outputs": []
        },
        {
            "cell_type": "code",
            "source": [
                "DataSource.Reset();",
                "\nWorkspace.Reset();",
                "\nDataSource.Reset(x => x.ResetCurrentPartitions());",
                "\nWorkspace.Reset(x => x.ResetCurrentPartitions());"
            ],
            "metadata": {},
            "execution_count": 0,
            "outputs": []
        },
        {
            "cell_type": "code",
            "source": [
                "await DataSource.UpdateAsync(typeof(StructureTypes).GetFields().Select(fi => ",
                "\n    new StructureType { SystemName = (string) fi.GetValue(null), DisplayName = fi.Name })",
                "\n);"
            ],
            "metadata": {},
            "execution_count": 0,
            "outputs": []
        },
        {
            "cell_type": "code",
            "source": [
                "await Import.FromString(novelties).WithType<Novelty>().WithTarget(DataSource).ExecuteAsync();",
                "\nawait Import.FromString(canonicalAocTypes).WithType<AocType>().WithTarget(DataSource).ExecuteAsync();",
                "\nawait Import.FromString(canonicalAocConfig).WithFormat(ImportFormats.AocConfiguration).WithTarget(DataSource).ExecuteAsync();"
            ],
            "metadata": {},
            "execution_count": 0,
            "outputs": []
        },
        {
            "cell_type": "code",
            "source": [
                "await DataSource.UpdateAsync<Portfolio>(new[]{ dt1 });",
                "\nawait DataSource.UpdateAsync<Portfolio>(new[]{ dtr1 });",
                "\nawait DataSource.UpdateAsync<GroupOfInsuranceContract>(new[]{ dt11 });",
                "\nawait DataSource.UpdateAsync<GroupOfReinsuranceContract>(new[]{ dtr11 });"
            ],
            "metadata": {},
            "execution_count": 0,
            "outputs": []
        },
        {
            "cell_type": "code",
            "source": [
                "await DataSource.UpdateAsync<DataNodeState>(new[]{ dt11State, dtr11State });",
                "\nawait DataSource.UpdateAsync(new[]{ dt11Inter });"
            ],
            "metadata": {},
            "execution_count": 0,
            "outputs": []
        },
        {
            "cell_type": "code",
            "source": [
                "await DataSource.UpdateAsync(new[]{ yieldCurve, yieldCurvePrevious });"
            ],
            "metadata": {},
            "execution_count": 0,
            "outputs": []
        },
        {
            "cell_type": "code",
            "source": [
                "await Import.FromString(estimateType).WithType<EstimateType>().WithTarget(DataSource).ExecuteAsync();"
            ],
            "metadata": {},
            "execution_count": 0,
            "outputs": []
        },
        {
            "cell_type": "code",
            "source": [
                "Workspace.Initialize(x => x.FromSource(DataSource).DisableInitialization<RawVariable>().DisableInitialization<IfrsVariable>());"
            ],
            "metadata": {},
            "execution_count": 0,
            "outputs": []
        },
        {
            "cell_type": "code",
            "source": [
                "await DataSource.UpdateAsync<PartitionByReportingNodeAndPeriod>(new[]{partition, previousPeriodPartition, partitionScenarioMTUP});",
                "\nawait DataSource.UpdateAsync<PartitionByReportingNode>(new[]{partitionReportingNode});"
            ],
            "metadata": {},
            "execution_count": 0,
            "outputs": []
        },
        {
            "cell_type": "markdown",
            "source": [
                "# Check method"
            ],
            "metadata": {},
            "execution_count": 0,
            "outputs": []
        },
        {
            "cell_type": "code",
            "source": [
                "public async Task StorageInitializeAsync<T>(ImportStorage storage, IEnumerable<T> inputForWorkspace, IEnumerable<T> inputForDataSource, ImportArgs args) {",
                "\n    //Prepare Workspace and DataSource",
                "\n    await Workspace.UpdateAsync<T>(inputForWorkspace);",
                "\n    await DataSource.UpdateAsync<T>(inputForDataSource);",
                "\n    //Set up import storage and test universe",
                "\n    await storage.InitializeAsync();",
                "\n    //Clean up ",
                "\n    await Workspace.DeleteAsync<T>(inputForWorkspace);    ",
                "\n    await DataSource.DeleteAsync<T>(inputForDataSource);   ",
                "\n}"
            ],
            "metadata": {},
            "execution_count": 0,
            "outputs": []
        },
        {
            "cell_type": "code",
            "source": [
                "public async Task<ActivityLog> CheckIfrsVariableImportStorageAsync(IfrsVariable[] inputForWorkspace, IfrsVariable[] inputForDataSource, IfrsVariable[] benchmark, ImportArgs args)",
                "\n{",
                "\n    Activity.Start();",
                "\n    var storage = new ImportStorage(args, DataSource, Workspace);",
                "\n    await StorageInitializeAsync(storage, inputForWorkspace, inputForDataSource, args);",
                "\n    var variables = storage.IfrsVariablesByImportIdentity.SelectMany(x => x.Value);",
                "\n    var errors = new List<string>();",
                "\n",
                "\n    var ivc = IfrsVariableComparer.Instance();// This equality comparer does not take partition into account. For this test partition should also be included.",
                "\n    ",
                "\n    var extraVariablesInStorage = variables.Except(benchmark, ivc).Select(x => x.ToIdentityString()+\" Value: \"+String.Join(\",\", x.Values)).ToArray();",
                "\n    if(extraVariablesInStorage.Any()) errors.Add( $\"IfrsVariables in the storage contain the following items that are not present in the benchmark:\\n{string.Join(\"\\n\",extraVariablesInStorage)}.\" );",
                "\n       ",
                "\n    var extraVariablesInBenchmark = benchmark.Except(variables, ivc).Select(x => x.ToIdentityString()+\" Value: \"+String.Join(\",\", x.Values)).ToArray();",
                "\n    if(extraVariablesInBenchmark.Any()) errors.Add( $\"IfrsVariables in the benchmark contain the following items that are not present in the storage:\\n{string.Join(\"\\n\",extraVariablesInBenchmark)}.\" );",
                "\n",
                "\n    var ivsByIdentityString = variables.GroupBy(x => x.ToIdentityString()).Where(x => x.Count() > 1).Select(x => x.Key);",
                "\n    if(ivsByIdentityString.Any()) errors.Add($\"IfrsVariables in the storage have duplicated items for:\\n{string.Join(\"\\n\",ivsByIdentityString)}.\");",
                "\n    ",
                "\n    if(errors.Any()) ApplicationMessage.Log(Error.Generic, string.Join(\"\\n\", errors));",
                "\n    return Activity.Finish();",
                "\n}"
            ],
            "metadata": {},
            "execution_count": 0,
            "outputs": []
        },
        {
            "cell_type": "code",
            "source": [
                "public async Task<ActivityLog> CheckRawVariableImportStorageAsync(RawVariable[] inputForWorkspace, RawVariable[] inputForDataSource, RawVariable[] benchmark, ImportArgs args)",
                "\n{",
                "\n    Activity.Start();",
                "\n    var storage = new ImportStorage(args, DataSource, Workspace);",
                "\n    await StorageInitializeAsync(storage, inputForWorkspace, inputForDataSource, args);",
                "\n    var variables = storage.RawVariablesByImportIdentity.SelectMany(x => x.Value);",
                "\n    var errors = new List<string>();",
                "\n    ",
                "\n    var extraVariablesInStorage = variables.Except(benchmark, RawVariableComparer.Instance()).Select(x => x.ToIdentityString()+\" Values: \"+String.Join(\",\", x.Values)).ToArray();",
                "\n    if(extraVariablesInStorage.Any()) errors.Add( $\"RawVariables in the storage contain the following items that are not present in the benchmark:\\n{string.Join(\"\\n\",extraVariablesInStorage)}.\" );",
                "\n       ",
                "\n    var extraVariablesInBenchmark = benchmark.Except(variables, RawVariableComparer.Instance()).Select(x => x.ToIdentityString()+\" Values: \"+String.Join(\",\", x.Values)).ToArray();",
                "\n    if(extraVariablesInBenchmark.Any()) errors.Add( $\"RawVariables in the benchmark contain the following items that are not present in the storage:\\n{string.Join(\"\\n\",extraVariablesInBenchmark)}.\" );",
                "\n",
                "\n    var ivsByIdentityString = variables.GroupBy(x => x.ToIdentityString()).Where(x => x.Count() > 1).Select(x => x.Key);",
                "\n    if(ivsByIdentityString.Any()) errors.Add($\"RawVariables in the storage have duplicated items for:\\n{string.Join(\"\\n\",ivsByIdentityString)}.\");",
                "\n    ",
                "\n    if(errors.Any()) ApplicationMessage.Log(Error.Generic, string.Join(\"\\n\", errors));",
                "\n    return Activity.Finish();",
                "\n}"
            ],
            "metadata": {},
            "execution_count": 0,
            "outputs": []
        },
        {
            "cell_type": "markdown",
            "source": [
                "# Test Best Estimate"
            ],
            "metadata": {},
            "execution_count": 0,
            "outputs": []
        },
        {
            "cell_type": "markdown",
            "source": [
                "## Actuals Import 1",
                "\n",
                "\nThere is a previous year, and it's the first time Actuals are imported for the current year."
            ],
            "metadata": {},
            "execution_count": 0,
            "outputs": []
        },
        {
            "cell_type": "code",
            "source": [
                "var basicIfrsVariable = new IfrsVariable{Partition = partition.Id, DataNode = groupOfInsuranceContracts, AccidentYear = null, AmountType = AmountTypes.PR, Novelty = Novelties.C, EstimateType = EstimateTypes.AA};",
                "\n",
                "\nvar inputForDataSource = new IfrsVariable[]{",
                "\n    basicIfrsVariable with {Partition = previousPeriodPartition.Id, AocType = AocTypes.EOP, Values = new double[] {100.0}},",
                "\n    basicIfrsVariable with {Partition = previousPeriodPartition.Id, AocType = AocTypes.EOP, EstimateType = EstimateTypes.DA, Values = new double[] {1000.0}},",
                "\n  };",
                "\n",
                "\nvar inputForWorkspace = new IfrsVariable[]{",
                "\n    basicIfrsVariable with {AocType = AocTypes.CF, Values = new double[] {-10.0}},",
                "\n    basicIfrsVariable with {AocType = AocTypes.WO, Values = new double[] {15.0}},",
                "\n  };",
                "\n",
                "\nvar ivsBenchmark = new IfrsVariable[]{",
                "\n    basicIfrsVariable with {AocType = AocTypes.BOP, Novelty = Novelties.I, EstimateType = EstimateTypes.DA, Values = new double[] {1000.0}},",
                "\n    basicIfrsVariable with {AocType = AocTypes.BOP, Novelty = Novelties.I, Values = new double[] {100.0}},",
                "\n    basicIfrsVariable with {AocType = AocTypes.CF, Values = new double[] {-10.0}},",
                "\n    basicIfrsVariable with {AocType = AocTypes.WO, Values = new double[] {15.0}},",
                "\n  };",
                "\nvar activity = await CheckIfrsVariableImportStorageAsync(inputForWorkspace, inputForDataSource, ivsBenchmark, args with {ImportFormat = ImportFormats.Actual});",
                "\nactivity"
            ],
            "metadata": {},
            "execution_count": 0,
            "outputs": []
        },
        {
            "cell_type": "code",
            "source": [
                "activity.Status.Should().Be(ActivityLogStatus.Succeeded);"
            ],
            "metadata": {},
            "execution_count": 0,
            "outputs": []
        },
        {
            "cell_type": "markdown",
            "source": [
                "## Actuals Import 2",
                "\n",
                "\nThere is a previous year, cash flow were already imported and actuals are imported for the first time."
            ],
            "metadata": {},
            "execution_count": 0,
            "outputs": []
        },
        {
            "cell_type": "code",
            "source": [
                "var basicIfrsVariable = new IfrsVariable{Partition = partition.Id, DataNode = groupOfInsuranceContracts, AccidentYear = null, AmountType = AmountTypes.PR, Novelty = Novelties.I, EstimateType = EstimateTypes.BE};",
                "\n",
                "\nvar inputForDataSource = new IfrsVariable[]{",
                "\n    basicIfrsVariable with {Partition = previousPeriodPartition.Id, AocType = AocTypes.EOP, EstimateType = EstimateTypes.AA, Novelty = Novelties.C, Values = new double[] {100.0}},",
                "\n    basicIfrsVariable with {Partition = previousPeriodPartition.Id, AocType = AocTypes.EOP, Values = new double[] {1000.0}},",
                "\n    basicIfrsVariable with {AocType = AocTypes.BOP, Novelty = Novelties.I, Values = new double[] {1000.0}},",
                "\n    basicIfrsVariable with {AocType = AocTypes.IA, Values = new double[] {1500.0}},",
                "\n    basicIfrsVariable with {AocType = AocTypes.CF, Values = new double[] {2500.0}},",
                "\n    basicIfrsVariable with {AocType = AocTypes.EOP, Values = new double[] {5000.0}},",
                "\n  };",
                "\n",
                "\nvar inputForWorkspace = new IfrsVariable[]{",
                "\n    basicIfrsVariable with {AocType = AocTypes.CF, EstimateType = EstimateTypes.AA, Novelty = Novelties.C, Values = new double[] {-15.0}},",
                "\n    basicIfrsVariable with {AocType = AocTypes.WO, EstimateType = EstimateTypes.AA, Novelty = Novelties.C, Values = new double[] {-20.0}},",
                "\n  };",
                "\n",
                "\nvar ivsBenchmark = new IfrsVariable[]{",
                "\n    basicIfrsVariable with {AocType = AocTypes.BOP, Novelty = Novelties.I, Values = new double[] {1000.0}},",
                "\n    basicIfrsVariable with {AocType = AocTypes.IA, Values = new double[] {1500.0}},",
                "\n    basicIfrsVariable with {AocType = AocTypes.CF, Values = new double[] {2500.0}},",
                "\n    basicIfrsVariable with {AocType = AocTypes.EOP, Values = new double[] {5000.0}},",
                "\n    basicIfrsVariable with {AocType = AocTypes.BOP, Novelty = Novelties.I, EstimateType = EstimateTypes.AA, Values = new double[] {100.0}},",
                "\n    basicIfrsVariable with {AocType = AocTypes.CF, EstimateType = EstimateTypes.AA, Novelty = Novelties.C, Values = new double[] {-15.0}},",
                "\n    basicIfrsVariable with {AocType = AocTypes.WO, EstimateType = EstimateTypes.AA, Novelty = Novelties.C, Values = new double[] {-20.0}},",
                "\n  };",
                "\n",
                "\nvar activity = await CheckIfrsVariableImportStorageAsync(inputForWorkspace, inputForDataSource, ivsBenchmark, args with {ImportFormat = ImportFormats.Actual});",
                "\nactivity"
            ],
            "metadata": {},
            "execution_count": 0,
            "outputs": []
        },
        {
            "cell_type": "code",
            "source": [
                "activity.Status.Should().Be(ActivityLogStatus.Succeeded);"
            ],
            "metadata": {},
            "execution_count": 0,
            "outputs": []
        },
        {
            "cell_type": "markdown",
            "source": [
                "## Actuals Reimport",
                "\n",
                "\nThere is a previous year, and it's the second time Actuals are imported for the current year (reimport)."
            ],
            "metadata": {},
            "execution_count": 0,
            "outputs": []
        },
        {
            "cell_type": "code",
            "source": [
                "var basicIfrsVariable = new IfrsVariable{Partition = partition.Id, DataNode = groupOfInsuranceContracts, AccidentYear = null, AmountType = AmountTypes.PR, Novelty = Novelties.C, EstimateType = EstimateTypes.AA};",
                "\n",
                "\nvar inputForDataSource = new IfrsVariable[]{",
                "\n    basicIfrsVariable with {Partition = previousPeriodPartition.Id, AocType = AocTypes.EOP, Values = new double[] {100.0}},",
                "\n    basicIfrsVariable with {Partition = previousPeriodPartition.Id, AocType = AocTypes.EOP, EstimateType = EstimateTypes.DA, Values = new double[] {1000.0}},",
                "\n    basicIfrsVariable with {AocType = AocTypes.BOP, Novelty = Novelties.I, EstimateType = EstimateTypes.DA, Values = new double[] {1000.0}},",
                "\n    basicIfrsVariable with {AocType = AocTypes.BOP, Novelty = Novelties.I, Values = new double[] {100.0}},",
                "\n    basicIfrsVariable with {AocType = AocTypes.CF, Values = new double[] {150.0}},",
                "\n    basicIfrsVariable with {AocType = AocTypes.WO, Values = new double[] {200.0}},",
                "\n    basicIfrsVariable with {AocType = AocTypes.EOP, Values = new double[] {450.0}},",
                "\n  };",
                "\n",
                "\nvar inputForWorkspace = new IfrsVariable[]{",
                "\n    basicIfrsVariable with {AocType = AocTypes.CF, Values = new double[] {-15.0}},",
                "\n    basicIfrsVariable with {AocType = AocTypes.WO, Values = new double[] {-20.0}},",
                "\n  };",
                "\n",
                "\nvar ivsBenchmark = new IfrsVariable[]{",
                "\n    basicIfrsVariable with {AocType = AocTypes.BOP, Novelty = Novelties.I, EstimateType = EstimateTypes.DA, Values = new double[] {1000.0}},",
                "\n    basicIfrsVariable with {AocType = AocTypes.BOP, Novelty = Novelties.I, Values = new double[] {100.0}},",
                "\n    basicIfrsVariable with {AocType = AocTypes.CF, Values = new double[] {-15.0}},",
                "\n    basicIfrsVariable with {AocType = AocTypes.WO, Values = new double[] {-20.0}},",
                "\n    basicIfrsVariable with {AocType = AocTypes.EOP, Values = new double[] {450.0}},",
                "\n  };",
                "\n",
                "\nvar activity = await CheckIfrsVariableImportStorageAsync(inputForWorkspace, inputForDataSource, ivsBenchmark, args with {ImportFormat = ImportFormats.Actual});",
                "\nactivity"
            ],
            "metadata": {},
            "execution_count": 0,
            "outputs": []
        },
        {
            "cell_type": "code",
            "source": [
                "activity.Status.Should().Be(ActivityLogStatus.Succeeded);"
            ],
            "metadata": {},
            "execution_count": 0,
            "outputs": []
        },
        {
            "cell_type": "markdown",
            "source": [
                "## Actuals Reimport with CF",
                "\n",
                "\nThere is a previous year, Cash flows and Actuals were already imported and Actuals are imported again."
            ],
            "metadata": {},
            "execution_count": 0,
            "outputs": []
        },
        {
            "cell_type": "code",
            "source": [
                "var basicAdvanceActualIfrsVariable = new IfrsVariable{Partition = partition.Id, DataNode = groupOfInsuranceContracts, AccidentYear = null, AmountType = AmountTypes.PR, Novelty = Novelties.C, EstimateType = EstimateTypes.AA};",
                "\nvar basicBeIfrsVariable = new IfrsVariable{Partition = partition.Id, DataNode = groupOfInsuranceContracts, AccidentYear = null, AmountType = AmountTypes.PR, Novelty = Novelties.I, EstimateType = EstimateTypes.BE};",
                "\n",
                "\nvar inputForDataSource = new IfrsVariable[]{",
                "\n    basicBeIfrsVariable            with {Partition = previousPeriodPartition.Id, AocType = AocTypes.EOP, Values = new double[] {1000.0}},",
                "\n    basicBeIfrsVariable            with {AocType = AocTypes.BOP, Novelty = Novelties.I, Values = new double[] {1000.0}},",
                "\n    basicBeIfrsVariable            with {AocType = AocTypes.IA, Values = new double[] {1500.0}},",
                "\n    basicBeIfrsVariable            with {AocType = AocTypes.CF, Values = new double[] {2500.0}},",
                "\n    basicBeIfrsVariable            with {AocType = AocTypes.EOP, Values = new double[] {5000.0}},",
                "\n    basicAdvanceActualIfrsVariable with {Partition = previousPeriodPartition.Id, AocType = AocTypes.EOP, Values = new double[] {100.0}},",
                "\n    basicAdvanceActualIfrsVariable with {Partition = previousPeriodPartition.Id, AocType = AocTypes.EOP, EstimateType = EstimateTypes.DA, Values = new double[] {1000.0}},",
                "\n    basicAdvanceActualIfrsVariable with {AocType = AocTypes.BOP, Novelty = Novelties.I, EstimateType = EstimateTypes.DA, Values = new double[] {1000.0}},",
                "\n    basicAdvanceActualIfrsVariable with {AocType = AocTypes.BOP, Novelty = Novelties.I, Values = new double[] {100.0}},",
                "\n    basicAdvanceActualIfrsVariable with {AocType = AocTypes.CF, Values = new double[] {150.0}},",
                "\n    basicAdvanceActualIfrsVariable with {AocType = AocTypes.WO, Values = new double[] {200.0}},",
                "\n    basicAdvanceActualIfrsVariable with {AocType = AocTypes.EOP, Values = new double[] {450.0}},",
                "\n  };",
                "\n",
                "\nvar inputForWorkspace = new IfrsVariable[]{",
                "\n    basicAdvanceActualIfrsVariable with {AocType = AocTypes.CF, Values = new double[] {-15.0}},",
                "\n    basicAdvanceActualIfrsVariable with {AocType = AocTypes.WO, Values = new double[] {-20.0}},",
                "\n  };",
                "\n",
                "\nvar ivsBenchmark = new IfrsVariable[]{",
                "\n    basicBeIfrsVariable            with {AocType = AocTypes.BOP, Novelty = Novelties.I, Values = new double[] {1000.0}},",
                "\n    basicBeIfrsVariable            with {AocType = AocTypes.IA, Values = new double[] {1500.0}},",
                "\n    basicBeIfrsVariable            with {AocType = AocTypes.CF, Values = new double[] {2500.0}},",
                "\n    basicBeIfrsVariable            with {AocType = AocTypes.EOP, Values = new double[] {5000.0}},",
                "\n    basicAdvanceActualIfrsVariable with {AocType = AocTypes.BOP, Novelty = Novelties.I, EstimateType = EstimateTypes.DA, Values = new double[] {1000.0}},",
                "\n    basicAdvanceActualIfrsVariable with {AocType = AocTypes.BOP, Novelty = Novelties.I, Values = new double[] {100.0}},",
                "\n    basicAdvanceActualIfrsVariable with {AocType = AocTypes.CF, Values = new double[] {-15.0}},",
                "\n    basicAdvanceActualIfrsVariable with {AocType = AocTypes.WO, Values = new double[] {-20.0}},",
                "\n    basicAdvanceActualIfrsVariable with {AocType = AocTypes.EOP, Values = new double[] {450.0}},",
                "\n  };",
                "\n",
                "\nvar activity = await CheckIfrsVariableImportStorageAsync(inputForWorkspace, inputForDataSource, ivsBenchmark, args with {ImportFormat = ImportFormats.Actual});",
                "\nactivity"
            ],
            "metadata": {},
            "execution_count": 0,
            "outputs": []
        },
        {
            "cell_type": "code",
            "source": [
                "activity.Status.Should().Be(ActivityLogStatus.Succeeded);"
            ],
            "metadata": {},
            "execution_count": 0,
            "outputs": []
        },
        {
            "cell_type": "markdown",
            "source": [
                "## Actuals Reimport with Primary Secondary Scope",
                "\n",
                "\nThere is a previous year for Primary Scope (GRIC10) ",
                "\n",
                "\nThere is a previous and current year for Secondary Scope (GIC10), ",
                "\n",
                "\nIt's the first time Actuals are imported for the current year"
            ],
            "metadata": {},
            "execution_count": 0,
            "outputs": []
        },
        {
            "cell_type": "code",
            "source": [
                "var basicIfrsVariable = new IfrsVariable{Partition = partition.Id, DataNode = groupOfReinsuranceContracts, AccidentYear = null, AmountType = AmountTypes.PR, Novelty = Novelties.C, EstimateType = EstimateTypes.AA};",
                "\n",
                "\nvar inputForDataSource = new IfrsVariable[]{",
                "\n    //Year",
                "\n    basicIfrsVariable with {Partition = previousPeriodPartition.Id, AocType = AocTypes.EOP, Values = new double[] {100.0}},",
                "\n    basicIfrsVariable with {Partition = previousPeriodPartition.Id, AocType = AocTypes.EOP, EstimateType = EstimateTypes.DA, Values = new double[] {1000.0}},",
                "\n    basicIfrsVariable with {Partition = previousPeriodPartition.Id, AocType = AocTypes.EOP, DataNode = groupOfInsuranceContracts, EstimateType = EstimateTypes.DA, Values = new double[] {1000.0}},",
                "\n    basicIfrsVariable with {Partition = previousPeriodPartition.Id, AocType = AocTypes.EOP, DataNode = groupOfInsuranceContracts, EstimateType = EstimateTypes.BE, EconomicBasis = EconomicBases.C, Values = new double[] {1000.0}},",
                "\n    basicIfrsVariable with {Partition = previousPeriodPartition.Id, AocType = AocTypes.CL,  DataNode = groupOfInsuranceContracts, EstimateType = EstimateTypes.BE, EconomicBasis = EconomicBases.C, Values = new double[] {666.0}},",
                "\n    basicIfrsVariable with {Partition = previousPeriodPartition.Id, AocType = AocTypes.EOP, DataNode = groupOfInsuranceContracts, EstimateType = EstimateTypes.BE, EconomicBasis = EconomicBases.L, Values = new double[] {1000.0}},",
                "\n    basicIfrsVariable with {Partition = previousPeriodPartition.Id, AocType = AocTypes.CL,  DataNode = groupOfInsuranceContracts, EstimateType = EstimateTypes.BE, EconomicBasis = EconomicBases.L, Values = new double[] {666.0}},",
                "\n    //Year -1",
                "\n    basicIfrsVariable with {AocType = AocTypes.IA, Novelty = Novelties.I, DataNode = groupOfInsuranceContracts, EstimateType = EstimateTypes.BE, EconomicBasis = EconomicBases.L, Values = new double[] {10.0}},",
                "\n    basicIfrsVariable with {AocType = AocTypes.CF, Novelty = Novelties.I, DataNode = groupOfInsuranceContracts, EstimateType = EstimateTypes.BE, EconomicBasis = EconomicBases.L, Values = new double[] {10.0}},",
                "\n  };",
                "\n",
                "\nvar inputForWorkspace = new IfrsVariable[]{",
                "\n    basicIfrsVariable with {AocType = AocTypes.CF, Values = new double[] {-10.0}},",
                "\n    basicIfrsVariable with {AocType = AocTypes.WO, Values = new double[] {15.0}},",
                "\n  };",
                "\n",
                "\nvar ivsBenchmark = new IfrsVariable[]{",
                "\n    //From previous Period",
                "\n    //Actuals",
                "\n    basicIfrsVariable with {AocType = AocTypes.BOP, Novelty = Novelties.I, EstimateType = EstimateTypes.DA, Values = new double[] {1000.0}},",
                "\n    basicIfrsVariable with {AocType = AocTypes.BOP, Novelty = Novelties.I, Values = new double[] {100.0}},",
                "\n    basicIfrsVariable with {AocType = AocTypes.BOP, Novelty = Novelties.I, DataNode = groupOfInsuranceContracts, EstimateType = EstimateTypes.DA, Values = new double[] {1000.0}},",
                "\n    //Cash flow",
                "\n    basicIfrsVariable with {AocType = AocTypes.BOP, Novelty = Novelties.I, DataNode = groupOfInsuranceContracts, EstimateType = EstimateTypes.BE, EconomicBasis = EconomicBases.L, Values = new double[] {1000.0}},",
                "\n    basicIfrsVariable with {AocType = AocTypes.BOP, Novelty = Novelties.I, DataNode = groupOfInsuranceContracts, EstimateType = EstimateTypes.BE, EconomicBasis = EconomicBases.C, Values = new double[] {1000.0}},",
                "\n    ",
                "\n    //From current Period",
                "\n    //from DB",
                "\n    basicIfrsVariable with {AocType = AocTypes.IA, Novelty = Novelties.I, DataNode = groupOfInsuranceContracts, EstimateType = EstimateTypes.BE, EconomicBasis = EconomicBases.L, Values = new double[] {10.0}},",
                "\n    basicIfrsVariable with {AocType = AocTypes.CF, Novelty = Novelties.I, DataNode = groupOfInsuranceContracts, EstimateType = EstimateTypes.BE, EconomicBasis = EconomicBases.L, Values = new double[] {10.0}},",
                "\n    ",
                "\n    //from workspace",
                "\n    basicIfrsVariable with {AocType = AocTypes.CF, Values = new double[] {-10.0}},",
                "\n    basicIfrsVariable with {AocType = AocTypes.WO, Values = new double[] {15.0}},",
                "\n  };",
                "\n",
                "\nvar activity = await CheckIfrsVariableImportStorageAsync(inputForWorkspace, inputForDataSource, ivsBenchmark, args with {ImportFormat = ImportFormats.Actual});",
                "\nactivity"
            ],
            "metadata": {},
            "execution_count": 0,
            "outputs": []
        },
        {
            "cell_type": "code",
            "source": [
                "activity.Status.Should().Be(ActivityLogStatus.Succeeded);"
            ],
            "metadata": {},
            "execution_count": 0,
            "outputs": []
        },
        {
            "cell_type": "markdown",
            "source": [
                "## Openings Reimport for Gross",
                "\n",
                "\nThere are openings for GIC and for the correlated GRIC. ",
                "\n",
                "\nThe Openings for the GIC are re-imported and the GRIC must be loaded in the storage. Both are at inception year."
            ],
            "metadata": {},
            "execution_count": 0,
            "outputs": []
        },
        {
            "cell_type": "code",
            "source": [
                "await Workspace.DeleteAsync(await Workspace.Query<DataNodeState>().ToArrayAsync());",
                "\nawait DataSource.DeleteAsync(await DataSource.Query<DataNodeState>().ToArrayAsync());",
                "\nawait Workspace.UpdateAsync(new[]{dt11State with {Year = args.Year, Month = args.Month}, dtr11State with {Year = args.Year, Month = args.Month}});",
                "\nawait DataSource.UpdateAsync(new[]{dt11State with {Year = args.Year, Month = args.Month}, dtr11State with {Year = args.Year, Month = args.Month}});"
            ],
            "metadata": {},
            "execution_count": 0,
            "outputs": []
        },
        {
            "cell_type": "code",
            "source": [
                "var basicIfrsVariable = new IfrsVariable{Partition = partition.Id, DataNode = groupOfInsuranceContracts, AccidentYear = null, AmountType = AmountTypes.PR, Novelty = Novelties.C, EstimateType = EstimateTypes.A};",
                "\n",
                "\nvar inputForDataSource = new IfrsVariable[]{",
                "\n    basicIfrsVariable with {AocType = AocTypes.BOP, Novelty = Novelties.I, Values = new double[] {90.0}},",
                "\n    basicIfrsVariable with {DataNode = groupOfReinsuranceContracts, AocType = AocTypes.BOP, Novelty = Novelties.I, Values = new double[] {89.0}},",
                "\n  };",
                "\n",
                "\nvar inputForWorkspace = new IfrsVariable[]{",
                "\n    basicIfrsVariable with {AocType = AocTypes.BOP, Novelty = Novelties.I, Values = new double[] {91.0}},",
                "\n  };",
                "\n",
                "\nvar ivsBenchmark = new IfrsVariable[]{",
                "\n    basicIfrsVariable with {AocType = AocTypes.BOP, Novelty = Novelties.I, Values = new double[] {91.0}},",
                "\n    basicIfrsVariable with {DataNode = groupOfReinsuranceContracts, AocType = AocTypes.BOP, Novelty = Novelties.I, Values = new double[] {89.0}},",
                "\n  };",
                "\nvar activity = await CheckIfrsVariableImportStorageAsync(inputForWorkspace, inputForDataSource, ivsBenchmark, args with {ImportFormat = ImportFormats.Opening});",
                "\nactivity"
            ],
            "metadata": {},
            "execution_count": 0,
            "outputs": []
        },
        {
            "cell_type": "code",
            "source": [
                "activity.Status.Should().Be(ActivityLogStatus.Succeeded);"
            ],
            "metadata": {},
            "execution_count": 0,
            "outputs": []
        },
        {
            "cell_type": "code",
            "source": [
                "// Restore workspace",
                "\nawait Workspace.DeleteAsync(await Workspace.Query<DataNodeState>().ToArrayAsync());",
                "\nawait DataSource.DeleteAsync(await DataSource.Query<DataNodeState>().ToArrayAsync());",
                "\nawait DataSource.UpdateAsync(new[]{ dt11State, dtr11State });",
                "\nawait Workspace.UpdateAsync(new[]{ dt11State, dtr11State });"
            ],
            "metadata": {},
            "execution_count": 0,
            "outputs": []
        },
        {
            "cell_type": "markdown",
            "source": [
                "## Openings Reimport for Reinsurance",
                "\n",
                "\nThere are openings for GIC and for the correlated GRIC. ",
                "\n",
                "\nThe Openings for the GRIC are re-imported and the GIC must be loaded in the storage. Both are at inception year."
            ],
            "metadata": {},
            "execution_count": 0,
            "outputs": []
        },
        {
            "cell_type": "code",
            "source": [
                "await Workspace.DeleteAsync(await Workspace.Query<DataNodeState>().ToArrayAsync());",
                "\nawait DataSource.DeleteAsync(await DataSource.Query<DataNodeState>().ToArrayAsync());",
                "\nawait Workspace.UpdateAsync(new[]{dt11State with {Year = args.Year, Month = args.Month}, dtr11State with {Year = args.Year, Month = args.Month}});",
                "\nawait DataSource.UpdateAsync(new[]{dt11State with {Year = args.Year, Month = args.Month}, dtr11State with {Year = args.Year, Month = args.Month}});"
            ],
            "metadata": {},
            "execution_count": 0,
            "outputs": []
        },
        {
            "cell_type": "code",
            "source": [
                "var basicIfrsVariable = new IfrsVariable{Partition = partition.Id, DataNode = groupOfInsuranceContracts, AccidentYear = null, AmountType = AmountTypes.PR, Novelty = Novelties.C, EstimateType = EstimateTypes.A};",
                "\n",
                "\nvar inputForDataSource = new IfrsVariable[]{",
                "\n    basicIfrsVariable with {AocType = AocTypes.BOP, Novelty = Novelties.I, Values = new double[] {90.0}},",
                "\n    basicIfrsVariable with {DataNode = groupOfReinsuranceContracts, AocType = AocTypes.BOP, Novelty = Novelties.I, Values = new double[] {89.0}},",
                "\n  };",
                "\n",
                "\nvar inputForWorkspace = new IfrsVariable[]{",
                "\n    basicIfrsVariable with {DataNode = groupOfReinsuranceContracts, AocType = AocTypes.BOP, Novelty = Novelties.I, Values = new double[] {91.0}},",
                "\n  };",
                "\n",
                "\nvar ivsBenchmark = new IfrsVariable[]{",
                "\n    basicIfrsVariable with {AocType = AocTypes.BOP, Novelty = Novelties.I, Values = new double[] {90.0}},",
                "\n    basicIfrsVariable with {DataNode = groupOfReinsuranceContracts, AocType = AocTypes.BOP, Novelty = Novelties.I, Values = new double[] {91.0},}",
                "\n  };",
                "\nvar activity = await CheckIfrsVariableImportStorageAsync(inputForWorkspace, inputForDataSource, ivsBenchmark, args with {ImportFormat = ImportFormats.Opening});",
                "\nactivity"
            ],
            "metadata": {},
            "execution_count": 0,
            "outputs": []
        },
        {
            "cell_type": "code",
            "source": [
                "activity.Status.Should().Be(ActivityLogStatus.Succeeded);"
            ],
            "metadata": {},
            "execution_count": 0,
            "outputs": []
        },
        {
            "cell_type": "code",
            "source": [
                "// Restore workspace",
                "\nawait Workspace.DeleteAsync(await Workspace.Query<DataNodeState>().ToArrayAsync());",
                "\nawait DataSource.DeleteAsync(await DataSource.Query<DataNodeState>().ToArrayAsync());",
                "\nawait DataSource.UpdateAsync(new[]{ dt11State, dtr11State });",
                "\nawait Workspace.UpdateAsync(new[]{ dt11State, dtr11State });"
            ],
            "metadata": {},
            "execution_count": 0,
            "outputs": []
        },
        {
            "cell_type": "markdown",
            "source": [
                "# Test Scenario"
            ],
            "metadata": {},
            "execution_count": 0,
            "outputs": []
        },
        {
            "cell_type": "markdown",
            "source": [
                "## Relaxed query",
                "\n",
                "\nFor the current year Actuals are imported for Best Estimate and a given Scenario. The Relaxed query should return the union of the 2 giving priority to scenario data. "
            ],
            "metadata": {},
            "execution_count": 0,
            "outputs": []
        },
        {
            "cell_type": "code",
            "source": [
                "var basicIfrsVariable = new IfrsVariable{Partition = partition.Id, DataNode = groupOfInsuranceContracts, AccidentYear = null, AmountType = AmountTypes.PR, Novelty = Novelties.C, EstimateType = EstimateTypes.A};",
                "\n",
                "\nvar inputForDataSource = new IfrsVariable[]{",
                "\n    basicIfrsVariable with {AocType = AocTypes.BOP, EstimateType = EstimateTypes.DA, Values = new double[] {1000.0}},",
                "\n    basicIfrsVariable with {AocType = AocTypes.BOP, Values = new double[] {100.0}},",
                "\n    basicIfrsVariable with {AocType = AocTypes.CF, Values = new double[] {150.0}},",
                "\n  };",
                "\n",
                "\nvar inputForWorkspace = new IfrsVariable[]{",
                "\n    basicIfrsVariable with {Partition = partitionScenarioMTUP.Id, AocType = AocTypes.CF, Values = new double[] {-15.0}},",
                "\n    basicIfrsVariable with {Partition = partitionScenarioMTUP.Id, AmountType = AmountTypes.CL, AocType = AocTypes.CF, Values = new double[] {-99.0}},",
                "\n  };",
                "\n",
                "\nvar ivsBenchmark = new IfrsVariable[]{",
                "\n    basicIfrsVariable with {Partition = partition.Id, AocType = AocTypes.BOP, EstimateType = EstimateTypes.DA, Values = new double[] {1000.0}},",
                "\n    basicIfrsVariable with {Partition = partition.Id, AocType = AocTypes.BOP, Values = new double[] {100.0}},",
                "\n    basicIfrsVariable with {Partition = partitionScenarioMTUP.Id, AocType = AocTypes.CF, Values = new double[] {-15.0}},",
                "\n    basicIfrsVariable with {Partition = partitionScenarioMTUP.Id, AmountType = AmountTypes.CL, AocType = AocTypes.CF, Values = new double[] {-99.0}},",
                "\n  };",
                "\n",
                "\nvar activity = await CheckIfrsVariableImportStorageAsync(inputForWorkspace, inputForDataSource, ivsBenchmark, argsScenarioMTUP with {ImportFormat = ImportFormats.Actual});",
                "\nactivity"
            ],
            "metadata": {},
            "execution_count": 0,
            "outputs": []
        },
        {
            "cell_type": "code",
            "source": [
                "activity.Status.Should().Be(ActivityLogStatus.Succeeded);"
            ],
            "metadata": {},
            "execution_count": 0,
            "outputs": []
        },
        {
            "cell_type": "markdown",
            "source": [
                "## Secondary scope",
                "\n",
                "\nThe primary scope is a GRIC scenario while the underlying GIC is Best Estimate."
            ],
            "metadata": {},
            "execution_count": 0,
            "outputs": []
        },
        {
            "cell_type": "code",
            "source": [
                "var basicIfrsVariable = new IfrsVariable{Partition = partition.Id, DataNode = groupOfInsuranceContracts, AccidentYear = null, AmountType = AmountTypes.PR, Novelty = Novelties.C, EstimateType = EstimateTypes.A};",
                "\n",
                "\nvar inputForDataSource = new IfrsVariable[]{",
                "\n    basicIfrsVariable with {AocType = AocTypes.BOP, EstimateType = EstimateTypes.DA, Values = new double[] {1000.0}},",
                "\n    basicIfrsVariable with {AocType = AocTypes.BOP, Values = new double[] {100.0}},",
                "\n    basicIfrsVariable with {AocType = AocTypes.CF, Values = new double[] {150.0}},",
                "\n};",
                "\n",
                "\nvar inputForWorkspace = new IfrsVariable[]{",
                "\n    basicIfrsVariable with {Partition = partitionScenarioMTUP.Id, DataNode = groupOfReinsuranceContracts, AocType = AocTypes.CF, Values = new double[] {-15.0}},",
                "\n    basicIfrsVariable with {Partition = partitionScenarioMTUP.Id, DataNode = groupOfReinsuranceContracts, AmountType = AmountTypes.CL, AocType = AocTypes.CF, Values = new double[] {-99.0}},",
                "\n};",
                "\n",
                "\nvar ivsBenchmark = new IfrsVariable[]{",
                "\n    basicIfrsVariable with {Partition = partition.Id, AocType = AocTypes.BOP, EstimateType = EstimateTypes.DA, Values = new double[] {1000.0}},",
                "\n    basicIfrsVariable with {Partition = partition.Id, AocType = AocTypes.BOP, Values = new double[] {100.0}},",
                "\n    basicIfrsVariable with {Partition = partition.Id, AocType = AocTypes.CF, Values = new double[] {150.0}},",
                "\n    basicIfrsVariable with {Partition = partitionScenarioMTUP.Id, DataNode = groupOfReinsuranceContracts, AocType = AocTypes.CF, Values = new double[] {-15.0}},",
                "\n    basicIfrsVariable with {Partition = partitionScenarioMTUP.Id, DataNode = groupOfReinsuranceContracts, AmountType = AmountTypes.CL, AocType = AocTypes.CF, Values = new double[] {-99.0}},",
                "\n};",
                "\n",
                "\nvar activity = await CheckIfrsVariableImportStorageAsync(inputForWorkspace, inputForDataSource, ivsBenchmark, argsScenarioMTUP with {ImportFormat = ImportFormats.Actual});",
                "\nactivity"
            ],
            "metadata": {},
            "execution_count": 0,
            "outputs": []
        },
        {
            "cell_type": "code",
            "source": [
                "activity.Status.Should().Be(ActivityLogStatus.Succeeded);"
            ],
            "metadata": {},
            "execution_count": 0,
            "outputs": []
        },
        {
            "cell_type": "markdown",
            "source": [
                "## Scenario Actuals Import 1",
                "\n",
                "\nImport of Scenario Actuals where DataSource contains openings for scenario and best estimate. Data Node is not at inception year."
            ],
            "metadata": {},
            "execution_count": 0,
            "outputs": []
        },
        {
            "cell_type": "code",
            "source": [
                "var basicIfrsVariable = new IfrsVariable{Partition = partition.Id, DataNode = groupOfInsuranceContracts, AccidentYear = null, AmountType = AmountTypes.PR, Novelty = Novelties.C, EstimateType = EstimateTypes.A};",
                "\n",
                "\nvar inputForDataSource = new IfrsVariable[]{",
                "\n    basicIfrsVariable with {AocType = AocTypes.BOP, EstimateType = EstimateTypes.DA, Values = new double[] {1000.0}},",
                "\n    basicIfrsVariable with {AocType = AocTypes.CF, Values = new double[] {150.0}},",
                "\n    basicIfrsVariable with {AocType = AocTypes.BOP, Novelty = Novelties.I, Values = new double[] {90.0}},",
                "\n    basicIfrsVariable with {Partition = partitionScenarioMTUP.Id, AocType = AocTypes.BOP, Novelty = Novelties.I, Values = new double[] {90.7}},",
                "\n    basicIfrsVariable with {Partition = previousPeriodPartition.Id, AocType = AocTypes.EOP, Novelty = Novelties.C, Values = new double[] {89.5}},",
                "\n    basicIfrsVariable with {Partition = previousPeriodPartitionScenarioMTUP.Id, AocType = AocTypes.EOP, Novelty = Novelties.C, Values = new double[] {89.1}}",
                "\n};",
                "\n",
                "\nvar inputForWorkspace = new IfrsVariable[]{",
                "\n    basicIfrsVariable with {Partition = partitionScenarioMTUP.Id, AocType = AocTypes.CF, Values = new double[] {-15.0}},",
                "\n};",
                "\n",
                "\nvar ivsBenchmark = new IfrsVariable[]{",
                "\n    basicIfrsVariable with {Partition = partition.Id, AocType = AocTypes.BOP, EstimateType = EstimateTypes.DA, Values = new double[] {1000.0}},  ",
                "\n    basicIfrsVariable with {Partition = partitionScenarioMTUP.Id, AocType = AocTypes.BOP, Novelty = Novelties.I, Values = new double[] {89.5}},   ",
                "\n    basicIfrsVariable with {Partition = partitionScenarioMTUP.Id, AocType = AocTypes.CF, Values = new double[] {-15.0}},",
                "\n};",
                "\n",
                "\nvar activity = await CheckIfrsVariableImportStorageAsync(inputForWorkspace, inputForDataSource, ivsBenchmark, argsScenarioMTUP with {ImportFormat = ImportFormats.Actual});",
                "\nactivity"
            ],
            "metadata": {},
            "execution_count": 0,
            "outputs": []
        },
        {
            "cell_type": "code",
            "source": [
                "activity.Status.Should().Be(ActivityLogStatus.Succeeded);"
            ],
            "metadata": {},
            "execution_count": 0,
            "outputs": []
        },
        {
            "cell_type": "markdown",
            "source": [
                "## Scenario Actuals Import 2",
                "\n",
                "\nImport of Scenario Actuals where DataSource contains openings for scenario and best estimate. Data Node is at inception year."
            ],
            "metadata": {},
            "execution_count": 0,
            "outputs": []
        },
        {
            "cell_type": "code",
            "source": [
                "await Workspace.DeleteAsync(await Workspace.Query<DataNodeState>().ToArrayAsync());",
                "\nawait DataSource.DeleteAsync(await DataSource.Query<DataNodeState>().ToArrayAsync());",
                "\nawait Workspace.UpdateAsync(new[]{dt11State with {Year = args.Year, Month = args.Month}, dtr11State with {Year = args.Year, Month = args.Month}});",
                "\nawait DataSource.UpdateAsync(new[]{dt11State with {Year = args.Year, Month = args.Month}, dtr11State with {Year = args.Year, Month = args.Month}});"
            ],
            "metadata": {},
            "execution_count": 0,
            "outputs": []
        },
        {
            "cell_type": "code",
            "source": [
                "var basicIfrsVariable = new IfrsVariable{Partition = partition.Id, DataNode = groupOfInsuranceContracts, AccidentYear = null, AmountType = AmountTypes.PR, Novelty = Novelties.C, EstimateType = EstimateTypes.A};",
                "\n",
                "\nvar inputForDataSource = new IfrsVariable[]{",
                "\n    basicIfrsVariable with {AocType = AocTypes.CF, Values = new double[] {150.0}},",
                "\n    basicIfrsVariable with {AocType = AocTypes.BOP, Novelty = Novelties.I, EstimateType = EstimateTypes.AA, Values = new double[] {90.0}},",
                "\n    basicIfrsVariable with {Partition = partitionScenarioMTUP.Id, AocType = AocTypes.BOP, Novelty = Novelties.I, EstimateType = EstimateTypes.AA, Values = new double[] {90.7}},",
                "\n    basicIfrsVariable with {Partition = previousPeriodPartition.Id, AocType = AocTypes.EOP, Novelty = Novelties.C, EstimateType = EstimateTypes.AA, Values = new double[] {89.5}},",
                "\n    basicIfrsVariable with {Partition = previousPeriodPartitionScenarioMTUP.Id, AocType = AocTypes.EOP, Novelty = Novelties.C, EstimateType = EstimateTypes.AA, Values = new double[] {89.1}}",
                "\n};",
                "\n",
                "\nvar inputForWorkspace = new IfrsVariable[]{",
                "\n    basicIfrsVariable with {Partition = partitionScenarioMTUP.Id, AocType = AocTypes.CF, Values = new double[] {-15.0}},",
                "\n};",
                "\n",
                "\nvar ivsBenchmark = new IfrsVariable[]{",
                "\n    basicIfrsVariable with {Partition = partitionScenarioMTUP.Id, AocType = AocTypes.BOP, Novelty = Novelties.I, EstimateType = EstimateTypes.AA, Values = new double[] {90.7}},   ",
                "\n    basicIfrsVariable with {Partition = partitionScenarioMTUP.Id, AocType = AocTypes.CF, Values = new double[] {-15.0}},",
                "\n};",
                "\n",
                "\nvar activity = await CheckIfrsVariableImportStorageAsync(inputForWorkspace, inputForDataSource, ivsBenchmark, argsScenarioMTUP with {ImportFormat = ImportFormats.Actual});",
                "\nactivity"
            ],
            "metadata": {},
            "execution_count": 0,
            "outputs": []
        },
        {
            "cell_type": "code",
            "source": [
                "activity.Status.Should().Be(ActivityLogStatus.Succeeded);"
            ],
            "metadata": {},
            "execution_count": 0,
            "outputs": []
        },
        {
            "cell_type": "markdown",
            "source": [
                "## Scenario Actuals Import 3",
                "\n",
                "\nImport of Scenario Actuals where DataSource contains openings for best estimate. Data Node is at inception year."
            ],
            "metadata": {},
            "execution_count": 0,
            "outputs": []
        },
        {
            "cell_type": "code",
            "source": [
                "await Workspace.DeleteAsync(await Workspace.Query<DataNodeState>().ToArrayAsync());",
                "\nawait DataSource.DeleteAsync(await DataSource.Query<DataNodeState>().ToArrayAsync());",
                "\nawait Workspace.UpdateAsync(new[]{dt11State with {Year = args.Year, Month = args.Month}, dtr11State with {Year = args.Year, Month = args.Month}});",
                "\nawait DataSource.UpdateAsync(new[]{dt11State with {Year = args.Year, Month = args.Month}, dtr11State with {Year = args.Year, Month = args.Month}});"
            ],
            "metadata": {},
            "execution_count": 0,
            "outputs": []
        },
        {
            "cell_type": "code",
            "source": [
                "var basicIfrsVariable = new IfrsVariable{Partition = partition.Id, DataNode = groupOfInsuranceContracts, AccidentYear = null, AmountType = AmountTypes.PR, Novelty = Novelties.C, EstimateType = EstimateTypes.A};",
                "\n",
                "\nvar inputForDataSource = new IfrsVariable[]{",
                "\n    basicIfrsVariable with {AocType = AocTypes.CF, Values = new double[] {150.0}},",
                "\n    basicIfrsVariable with {AocType = AocTypes.BOP, Novelty = Novelties.I, EstimateType = EstimateTypes.AA, Values = new double[] {90.0}},",
                "\n    basicIfrsVariable with {Partition = previousPeriodPartition.Id, AocType = AocTypes.EOP, Novelty = Novelties.C, EstimateType = EstimateTypes.AA, Values = new double[] {89.5}},",
                "\n    basicIfrsVariable with {Partition = previousPeriodPartitionScenarioMTUP.Id, AocType = AocTypes.EOP, Novelty = Novelties.C, EstimateType = EstimateTypes.AA, Values = new double[] {89.1}}",
                "\n};",
                "\n",
                "\nvar inputForWorkspace = new IfrsVariable[]{",
                "\n    basicIfrsVariable with {Partition = partitionScenarioMTUP.Id, AocType = AocTypes.CF, Values = new double[] {-15.0}},",
                "\n};",
                "\n",
                "\nvar ivsBenchmark = new IfrsVariable[]{",
                "\n    basicIfrsVariable with {AocType = AocTypes.BOP, Novelty = Novelties.I, EstimateType = EstimateTypes.AA, Values = new double[] {90.0}},   ",
                "\n    basicIfrsVariable with {Partition = partitionScenarioMTUP.Id, AocType = AocTypes.CF, Values = new double[] {-15.0}},",
                "\n};",
                "\n",
                "\nvar activity = await CheckIfrsVariableImportStorageAsync(inputForWorkspace, inputForDataSource, ivsBenchmark, argsScenarioMTUP with {ImportFormat = ImportFormats.Actual});",
                "\nactivity"
            ],
            "metadata": {},
            "execution_count": 0,
            "outputs": []
        },
        {
            "cell_type": "code",
            "source": [
                "activity.Status.Should().Be(ActivityLogStatus.Succeeded);"
            ],
            "metadata": {},
            "execution_count": 0,
            "outputs": []
        },
        {
            "cell_type": "markdown",
            "source": [
                "## Scenario Actuals Import 4",
                "\n",
                "\nImport of Scenario Actuals where DataSource contains openings for scenario and best estimate. Only the GRIC is at inception year."
            ],
            "metadata": {},
            "execution_count": 0,
            "outputs": []
        },
        {
            "cell_type": "code",
            "source": [
                "await Workspace.DeleteAsync(await Workspace.Query<DataNodeState>().ToArrayAsync());",
                "\nawait DataSource.DeleteAsync(await DataSource.Query<DataNodeState>().ToArrayAsync());",
                "\nawait Workspace.UpdateAsync(new[]{dt11State, dtr11State with {Year = args.Year, Month = args.Month}});",
                "\nawait DataSource.UpdateAsync(new[]{dt11State, dtr11State with {Year = args.Year, Month = args.Month}});"
            ],
            "metadata": {},
            "execution_count": 0,
            "outputs": []
        },
        {
            "cell_type": "code",
            "source": [
                "var basicIfrsVariable = new IfrsVariable{Partition = partition.Id, DataNode = groupOfInsuranceContracts, AccidentYear = null, AmountType = AmountTypes.PR, Novelty = Novelties.C, EstimateType = EstimateTypes.A};",
                "\n",
                "\nvar inputForDataSource = new IfrsVariable[]{",
                "\n    basicIfrsVariable with {AocType = AocTypes.CF, Values = new double[] {150.0}},",
                "\n    basicIfrsVariable with {DataNode = groupOfReinsuranceContracts, AocType = AocTypes.BOP, Novelty = Novelties.I, Values = new double[] {90.0}},",
                "\n    basicIfrsVariable with {Partition = partitionScenarioMTUP.Id, DataNode = groupOfReinsuranceContracts, AocType = AocTypes.BOP, Novelty = Novelties.I, Values = new double[] {90.7}},",
                "\n    basicIfrsVariable with {Partition = previousPeriodPartition.Id, DataNode = groupOfInsuranceContracts, AocType = AocTypes.EOP, Novelty = Novelties.C, Values = new double[] {89.5}},",
                "\n    basicIfrsVariable with {Partition = previousPeriodPartitionScenarioMTUP.Id, DataNode = groupOfInsuranceContracts, AocType = AocTypes.EOP, Novelty = Novelties.C, Values = new double[] {89.1}}",
                "\n};",
                "\n",
                "\nvar inputForWorkspace = new IfrsVariable[]{",
                "\n    basicIfrsVariable with {Partition = partitionScenarioMTUP.Id, AocType = AocTypes.CF, Values = new double[] {-15.0}},",
                "\n};",
                "\n",
                "\nvar ivsBenchmark = new IfrsVariable[]{",
                "\n    basicIfrsVariable with {Partition = partitionScenarioMTUP.Id, AocType = AocTypes.BOP, Novelty = Novelties.I, Values = new double[] {89.5}},",
                "\n    basicIfrsVariable with {Partition = partitionScenarioMTUP.Id, DataNode = groupOfReinsuranceContracts, AocType = AocTypes.BOP, Novelty = Novelties.I, Values = new double[] {90.7}},",
                "\n    basicIfrsVariable with {Partition = partitionScenarioMTUP.Id, AocType = AocTypes.CF, Values = new double[] {-15.0}},",
                "\n};",
                "\n",
                "\nvar activity = await CheckIfrsVariableImportStorageAsync(inputForWorkspace, inputForDataSource, ivsBenchmark, argsScenarioMTUP with {ImportFormat = ImportFormats.Actual});",
                "\nactivity"
            ],
            "metadata": {},
            "execution_count": 0,
            "outputs": []
        },
        {
            "cell_type": "code",
            "source": [
                "activity.Status.Should().Be(ActivityLogStatus.Succeeded);"
            ],
            "metadata": {},
            "execution_count": 0,
            "outputs": []
        },
        {
            "cell_type": "code",
            "source": [
                "// Restore workspace",
                "\nawait Workspace.DeleteAsync(await Workspace.Query<DataNodeState>().ToArrayAsync());",
                "\nawait DataSource.DeleteAsync(await DataSource.Query<DataNodeState>().ToArrayAsync());",
                "\nawait DataSource.UpdateAsync(new[]{ dt11State, dtr11State });",
                "\nawait Workspace.UpdateAsync(new[]{ dt11State, dtr11State });"
            ],
            "metadata": {},
            "execution_count": 0,
            "outputs": []
        },
        {
            "cell_type": "markdown",
            "source": [
                "## Scenario CF Import 1",
                "\n",
                "\nImport of a CF Scenario1 having BE and Scenario2 in the DataSource."
            ],
            "metadata": {},
            "execution_count": 0,
            "outputs": []
        },
        {
            "cell_type": "code",
            "source": [
                "var basicRawVariable = new RawVariable{Partition = partition.Id, DataNode = groupOfInsuranceContracts, AccidentYear = null, AmountType = AmountTypes.PR, Novelty = Novelties.C, AocType = AocTypes.CL, EstimateType = EstimateTypes.BE};",
                "\n",
                "\nvar inputForDataSource = new RawVariable[]{",
                "\n    basicRawVariable with {Values = new[]{150.0}},",
                "\n    basicRawVariable with {AmountType = AmountTypes.CL, Values = new[]{99.0}},",
                "\n    basicRawVariable with {Partition = partitionScenarioMTDOWN.Id, AocType = AocTypes.CL, Novelty = Novelties.C, Values = new[]{130.0}}",
                "\n};",
                "\n",
                "\nvar inputForWorkspace = new RawVariable[]{",
                "\n    basicRawVariable with {Partition = partitionScenarioMTUP.Id, Values = new[]{110.0}},",
                "\n};",
                "\n",
                "\nvar ivsBenchmark = new RawVariable[]{",
                "\n    basicRawVariable with {AmountType = AmountTypes.CL, Values = new[]{99.0}},",
                "\n    basicRawVariable with {Partition = partitionScenarioMTUP.Id, Values = new[]{110.0}},",
                "\n};",
                "\n",
                "\nvar activity = await CheckRawVariableImportStorageAsync(inputForWorkspace, inputForDataSource, ivsBenchmark, argsScenarioMTUP with {ImportFormat = ImportFormats.Cashflow});",
                "\nactivity"
            ],
            "metadata": {},
            "execution_count": 0,
            "outputs": []
        },
        {
            "cell_type": "code",
            "source": [
                "activity.Status.Should().Be(ActivityLogStatus.Succeeded);"
            ],
            "metadata": {},
            "execution_count": 0,
            "outputs": []
        },
        {
            "cell_type": "markdown",
            "source": [
                "## Scenario CF Import 2",
                "\n",
                "\nImport of a CF Scenario1 having (ifrsVar incl Opening) BE and Scenario1 in the DataSource."
            ],
            "metadata": {},
            "execution_count": 0,
            "outputs": []
        },
        {
            "cell_type": "code",
            "source": [
                "var basicRawVariable = new RawVariable{Partition = partition.Id, DataNode = groupOfInsuranceContracts, AccidentYear = null, AmountType = AmountTypes.PR, Novelty = Novelties.C, AocType = AocTypes.CL, EstimateType = EstimateTypes.BE};",
                "\n",
                "\nvar inputForDataSource = new RawVariable[]{",
                "\n    basicRawVariable with {Values = new[]{150.0}},",
                "\n    basicRawVariable with {AmountType = AmountTypes.CL, Values = new[]{99.0}},",
                "\n    basicRawVariable with {Partition = partitionScenarioMTUP.Id, AmountType = AmountTypes.CL, Values = new[]{130.0}},",
                "\n    basicRawVariable with {Partition = partitionScenarioMTUP.Id, DataNode = groupOfReinsuranceContracts, AmountType = AmountTypes.CL, Values = new[]{125.0}}",
                "\n};",
                "\n",
                "\nvar inputForWorkspace = new RawVariable[]{",
                "\n    basicRawVariable with {Partition = partitionScenarioMTUP.Id, Values = new[]{110.0}},",
                "\n};",
                "\n",
                "\nvar ivsBenchmark = new RawVariable[]{",
                "\n    basicRawVariable with {AmountType = AmountTypes.CL, Values = new[]{99.0}},",
                "\n    basicRawVariable with {Partition = partitionScenarioMTUP.Id, DataNode = groupOfReinsuranceContracts, AmountType = AmountTypes.CL, Values = new[]{125.0}},",
                "\n    basicRawVariable with {Partition = partitionScenarioMTUP.Id, Values = new[]{110.0}},",
                "\n};",
                "\n",
                "\nvar activity = await CheckRawVariableImportStorageAsync(inputForWorkspace, inputForDataSource, ivsBenchmark, argsScenarioMTUP with {ImportFormat = ImportFormats.Cashflow});",
                "\nactivity"
            ],
            "metadata": {},
            "execution_count": 0,
            "outputs": []
        },
        {
            "cell_type": "code",
            "source": [
                "activity.Status.Should().Be(ActivityLogStatus.Succeeded);"
            ],
            "metadata": {},
            "execution_count": 0,
            "outputs": []
        },
        {
            "cell_type": "markdown",
            "source": [
                "# Data Node Parameter related logic"
            ],
            "metadata": {},
            "execution_count": 0,
            "outputs": []
        },
        {
            "cell_type": "markdown",
            "source": [
                "## Data Preparation"
            ],
            "metadata": {},
            "execution_count": 0,
            "outputs": []
        },
        {
            "cell_type": "code",
            "source": [
                "//Define partition",
                "\nvar args = new ImportArgs(\"CH\", 2021, 3, Periodicity.Quarterly, null, ImportFormats.Cashflow);",
                "\n",
                "\nvar reportingNodePartition = DataSource.Query<PartitionByReportingNode>().FirstOrDefault(x => x.ReportingNode == args.ReportingNode);",
                "\nif(reportingNodePartition == null) ApplicationMessage.Log(Error.PartitionNotFound);",
                "\n",
                "\n",
                "\nvar currentPartition = DataSource.Query<PartitionByReportingNodeAndPeriod>().FirstOrDefault(x => x.ReportingNode == args.ReportingNode && x.Year == args.Year && ",
                "\n                                                                                    x.Month == args.Month && x.Scenario == args.Scenario);",
                "\nif(currentPartition == null) ApplicationMessage.Log(Error.PartitionNotFound);",
                "\n",
                "\n",
                "\nvar previousPeriodPartition = Workspace.Query<PartitionByReportingNodeAndPeriod>().FirstOrDefault(x => x.ReportingNode == args.ReportingNode && x.Year == args.Year - 1 && ",
                "\n                                                                                    x.Month == MonthInAYear && x.Scenario == args.Scenario);",
                "\nif(previousPeriodPartition == null) ApplicationMessage.Log(Error.PartitionNotFound);"
            ],
            "metadata": {},
            "execution_count": 0,
            "outputs": []
        },
        {
            "cell_type": "code",
            "source": [
                "var sampleGic = new GroupOfInsuranceContract(){Portfolio = \"P1\"};",
                "\nvar inputDataGic = new GroupOfInsuranceContract[]{ sampleGic with {SystemName = \"Gross1\", LiabilityType = LiabilityTypes.LRC, ContractualCurrency = \"USD\", ValuationApproach = \"BBA\"},",
                "\n                                                   sampleGic with {SystemName = \"Gross2\", LiabilityType = LiabilityTypes.LRC, ContractualCurrency = \"USD\", ValuationApproach = \"BBA\"},",
                "\n                                                   sampleGic with {SystemName = \"Gross3\", LiabilityType = LiabilityTypes.LRC, ContractualCurrency = \"USD\", ValuationApproach = \"BBA\"},",
                "\n                                                 };",
                "\nvar inputDataPaaGic = new GroupOfInsuranceContract[]{ sampleGic with {SystemName = \"Paa1\", LiabilityType = LiabilityTypes.LRC, ContractualCurrency = \"USD\", ValuationApproach = \"PAA\"},",
                "\n                                                      sampleGic with {SystemName = \"Paa2\", LiabilityType = LiabilityTypes.LRC, ContractualCurrency = \"USD\", ValuationApproach = \"PAA\"},",
                "\n                                                      sampleGic with {SystemName = \"Paa3\", LiabilityType = LiabilityTypes.LRC, ContractualCurrency = \"USD\", ValuationApproach = \"PAA\"},",
                "\n                                                 };",
                "\nvar sampleGric = new GroupOfReinsuranceContract(){Portfolio = \"ReP1\"};",
                "\nvar inputDataGric = new GroupOfReinsuranceContract[]{ sampleGric with {SystemName = \"Reins1\", LiabilityType = LiabilityTypes.LRC, ContractualCurrency = \"USD\", ValuationApproach = \"BBA\"},",
                "\n                                                      sampleGric with {SystemName = \"Reins2\", LiabilityType = LiabilityTypes.LRC, ContractualCurrency = \"USD\", ValuationApproach = \"BBA\"},",
                "\n                                                      sampleGric with {SystemName = \"Reins3\", LiabilityType = LiabilityTypes.LRC, ContractualCurrency = \"USD\", ValuationApproach = \"BBA\"},",
                "\n                                                 };",
                "\nvar sampleDnState = new DataNodeState {Partition = reportingNodePartition.Id, Year = args.Year, Month = args.Month, State = State.Active};",
                "\nvar inputDataState = new DataNodeState[]{ sampleDnState with {DataNode = \"Gross1\"} ,",
                "\n                                         sampleDnState with {DataNode = \"Gross2\"} ,",
                "\n                                         sampleDnState with {DataNode = \"Gross3\"} ,",
                "\n                                         sampleDnState with {DataNode = \"Reins1\"} ,",
                "\n                                         sampleDnState with {DataNode = \"Reins2\"} ,",
                "\n                                         sampleDnState with {DataNode = \"Reins3\"} ,",
                "\n                                        };",
                "\nvar inputDataPaaState = new DataNodeState[]{ sampleDnState with {DataNode = \"Paa1\"} ,",
                "\n                                         sampleDnState with {DataNode = \"Paa2\"} ,",
                "\n                                         sampleDnState with {DataNode = \"Paa3\"} ,",
                "\n                                        };",
                "\n",
                "\nvar samplePreviousDnParam = new InterDataNodeParameter {Partition = reportingNodePartition.Id, ReinsuranceCoverage = 1, Year = args.Year -1, Month = args.Month};",
                "\nvar sampleCurrentDnParam = new InterDataNodeParameter {Partition = reportingNodePartition.Id, ReinsuranceCoverage = 1, Year = args.Year, Month = args.Month};",
                "\nvar inputDataParameter = new InterDataNodeParameter[]{",
                "\n                                                      samplePreviousDnParam with {DataNode = \"Gross3\", LinkedDataNode = \"Reins3\", ReinsuranceCoverage = 1},",
                "\n                                                      samplePreviousDnParam with {DataNode = \"Gross1\", LinkedDataNode = \"Reins1\", ReinsuranceCoverage = 0.1},",
                "\n                                                      samplePreviousDnParam with {DataNode = \"Gross1\", LinkedDataNode = \"Reins2\", ReinsuranceCoverage = 0.2},",
                "\n                                                      samplePreviousDnParam with {DataNode = \"Gross2\", LinkedDataNode = \"Reins2\", ReinsuranceCoverage = 0.3},",
                "\n                                                      sampleCurrentDnParam with {DataNode = \"Gross1\", LinkedDataNode = \"Reins1\", ReinsuranceCoverage = 0.5},",
                "\n                                                      sampleCurrentDnParam with {DataNode = \"Gross1\", LinkedDataNode = \"Reins2\", ReinsuranceCoverage = 0.6},",
                "\n                                                      sampleCurrentDnParam with {DataNode = \"Gross2\", LinkedDataNode = \"Reins2\", ReinsuranceCoverage = 0.7},",
                "\n                                                      sampleCurrentDnParam with {DataNode = \"Gross3\", LinkedDataNode = \"Reins3\", ReinsuranceCoverage = 1.0},",
                "\n                                        };",
                "\n",
                "\nvar sampleRawVar = new RawVariable{AmountType = AmountTypes.PR, AocType = AocTypes.CL, Novelty = Novelties.C, Partition = currentPartition.Id};"
            ],
            "metadata": {},
            "execution_count": 0,
            "outputs": []
        },
        {
            "cell_type": "code",
            "source": [
                "public async Task PrepareWorkspaceDataNodes()",
                "\n{",
                "\n    await Workspace.UpdateAsync<GroupOfInsuranceContract>(inputDataGic);",
                "\n    await Workspace.UpdateAsync<GroupOfReinsuranceContract>(inputDataGric);",
                "\n    await Workspace.UpdateAsync<DataNodeState>(inputDataState);",
                "\n    await Workspace.UpdateAsync<InterDataNodeParameter>(inputDataParameter);",
                "\n}"
            ],
            "metadata": {},
            "execution_count": 0,
            "outputs": []
        },
        {
            "cell_type": "code",
            "source": [
                "public async Task PrepareWorkspaceDataNodesBbaPaa()",
                "\n{",
                "\n    await Workspace.UpdateAsync<GroupOfInsuranceContract>(inputDataGic.Concat(inputDataPaaGic));",
                "\n    await Workspace.UpdateAsync<DataNodeState>(inputDataState.Concat(inputDataPaaState));",
                "\n}"
            ],
            "metadata": {},
            "execution_count": 0,
            "outputs": []
        },
        {
            "cell_type": "markdown",
            "source": [
                "## Get Underlying Gic"
            ],
            "metadata": {},
            "execution_count": 0,
            "outputs": []
        },
        {
            "cell_type": "code",
            "source": [
                "public async Task<ActivityLog> CheckGetUnderlyingGicsAsync(RawVariable[] inputDataVariable, Dictionary<string,IEnumerable<string>> underlyingGicBm)",
                "\n{",
                "\n    Activity.Start();",
                "\n    var errors = new List<string>();",
                "\n    ",
                "\n    await PrepareWorkspaceDataNodes();",
                "\n    await Workspace.UpdateAsync<RawVariable>(inputDataVariable);",
                "\n    var testStorage = new ImportStorage(args, DataSource, Workspace);",
                "\n    await testStorage.InitializeAsync();",
                "\n    ",
                "\n    var primaryScopeDn = testStorage.DataNodesByImportScope[ImportScope.Primary];",
                "\n    ",
                "\n    foreach (var dn in primaryScopeDn)",
                "\n    {",
                "\n        var id = new ImportIdentity(){DataNode = dn};",
                "\n        if ( underlyingGicBm[dn].Except(testStorage.GetUnderlyingGic(id)).Count() != 0 )",
                "\n            errors.Add( $\"Underlying Gics for DataNode {dn} not matching with BM. Computed: \\n{string.Join(\"\\n\",testStorage.GetUnderlyingGic(id))} \\n Expected : \\n{string.Join(\"\\n\",underlyingGicBm[dn])}\" );",
                "\n    }",
                "\n    ",
                "\n    await Workspace.DeleteAsync<RawVariable>(await Workspace.Query<RawVariable>().ToArrayAsync());",
                "\n",
                "\n    await Workspace.DeleteAsync<GroupOfInsuranceContract>(await Workspace.Query<GroupOfInsuranceContract>().ToArrayAsync());",
                "\n    await Workspace.DeleteAsync<GroupOfReinsuranceContract>(await Workspace.Query<GroupOfReinsuranceContract>().ToArrayAsync());",
                "\n    await Workspace.DeleteAsync<DataNodeState>(await Workspace.Query<DataNodeState>().ToArrayAsync());",
                "\n    await Workspace.DeleteAsync<InterDataNodeParameter>(await Workspace.Query<InterDataNodeParameter>().ToArrayAsync());",
                "\n",
                "\n    if(errors.Any()) ApplicationMessage.Log(Error.Generic, string.Join(\"\\n\", errors));",
                "\n    return Activity.Finish();",
                "\n}"
            ],
            "metadata": {},
            "execution_count": 0,
            "outputs": []
        },
        {
            "cell_type": "code",
            "source": [
                "var inputDataVariable = new RawVariable[]{ sampleRawVar with {DataNode = \"Reins1\"},",
                "\n                                           sampleRawVar with {DataNode = \"Reins2\"},",
                "\n                                         };",
                "\nvar underlyingGicBm = new Dictionary<string,IEnumerable<string>>(){",
                "\n    {\"Reins1\",new string[]{\"Gross1\"}},",
                "\n    {\"Reins2\",new string[]{\"Gross1\",\"Gross2\"}},",
                "\n};",
                "\n",
                "\nvar activity = await CheckGetUnderlyingGicsAsync(inputDataVariable, underlyingGicBm);",
                "\nactivity"
            ],
            "metadata": {},
            "execution_count": 0,
            "outputs": []
        },
        {
            "cell_type": "code",
            "source": [
                "activity.Status.Should().Be(ActivityLogStatus.Succeeded);"
            ],
            "metadata": {},
            "execution_count": 0,
            "outputs": []
        },
        {
            "cell_type": "code",
            "source": [
                "var inputDataVariable = new RawVariable[]{ sampleRawVar with {DataNode = \"Reins2\"},",
                "\n                                         };",
                "\nvar underlyingGicBm = new Dictionary<string,IEnumerable<string>>(){",
                "\n    {\"Reins2\",new string[]{\"Gross1\",\"Gross2\"}},",
                "\n};",
                "\n",
                "\nvar activity = await CheckGetUnderlyingGicsAsync(inputDataVariable, underlyingGicBm);",
                "\nactivity"
            ],
            "metadata": {},
            "execution_count": 0,
            "outputs": []
        },
        {
            "cell_type": "code",
            "source": [
                "activity.Status.Should().Be(ActivityLogStatus.Succeeded);"
            ],
            "metadata": {},
            "execution_count": 0,
            "outputs": []
        },
        {
            "cell_type": "markdown",
            "source": [
                "## Get Reinsurance Coverage"
            ],
            "metadata": {},
            "execution_count": 0,
            "outputs": []
        },
        {
            "cell_type": "code",
            "source": [
                "public async Task<ActivityLog> CheckGetReinsuranceCoverageAsync(RawVariable[] inputDataVariable,  ",
                "\n                                                   Dictionary<(string, string),double> reinsCovBoPBm, ",
                "\n                                                   Dictionary<(string, string),double> reinsCovEoPBm)",
                "\n{",
                "\n    Activity.Start();",
                "\n    var errors = new List<string>();",
                "\n",
                "\n    await PrepareWorkspaceDataNodes();",
                "\n    await Workspace.UpdateAsync<RawVariable>(inputDataVariable);",
                "\n    var testStorage = new ImportStorage(args, DataSource, Workspace);",
                "\n    await testStorage.InitializeAsync();",
                "\n    ",
                "\n    var primaryScopeDn = testStorage.DataNodesByImportScope[ImportScope.Primary];",
                "\n    ",
                "\n    foreach (var dn in primaryScopeDn)",
                "\n    {",
                "\n        var aocTypes = new AocStep[]{ new AocStep(AocTypes.BOP, Novelties.I), new AocStep(AocTypes.RCU, Novelties.I) };",
                "\n        foreach (var aoc in aocTypes)",
                "\n        {",
                "\n            var bm = aoc.AocType == AocTypes.BOP ? reinsCovBoPBm : reinsCovEoPBm;",
                "\n            var id = new ImportIdentity(){DataNode = dn, AocType = aoc.AocType, Novelty = aoc.Novelty};",
                "\n            ",
                "\n            var computedReinsCov = testStorage.GetUnderlyingGic(id)",
                "\n                                              .Select(gic => (g: gic, value: testStorage.GetReinsuranceCoverage(id, gic)))",
                "\n                                              .ToDictionary(x => (dn,x.g), x => x.value);",
                "\n            ",
                "\n            if( bm.Keys.Where(x => x.Item1 == dn).Except(computedReinsCov.Keys).Count() != 0)",
                "\n               errors.Add( $\"Gric-Gic links not matching with BM for DataNode {dn} and AocType {aoc.AocType}. \\n Computed: \\n{string.Join(\"\\n\",computedReinsCov.Keys)} \\n Expected: \\n{string.Join(\"\\n\",bm.Keys)}\" );",
                "\n            ",
                "\n            foreach (var reinsCov in computedReinsCov)",
                "\n            {",
                "\n                var bmKvp = bm.Single(x => x.Key.Item1 == reinsCov.Key.Item1 && x.Key.Item2 == reinsCov.Key.Item2); ",
                "\n                if( Math.Abs(bmKvp.Value - reinsCov.Value) > Precision )",
                "\n                    errors.Add( $\"{dn}-{reinsCov.Key.Item2} Reinsurance Coverage not matching with BM for AocType {aoc.AocType}: \\n Computed: {reinsCov.Value} \\n Expected: {bmKvp.Value}\");",
                "\n            }",
                "\n        }",
                "\n    }",
                "\n    ",
                "\n    await Workspace.DeleteAsync<RawVariable>(await Workspace.Query<RawVariable>().ToArrayAsync());",
                "\n    await Workspace.DeleteAsync<IfrsVariable>(await Workspace.Query<IfrsVariable>().ToArrayAsync());",
                "\n    await Workspace.DeleteAsync<RawVariable>(await Workspace.Query<RawVariable>().ToArrayAsync());",
                "\n    await Workspace.DeleteAsync<GroupOfInsuranceContract>(await Workspace.Query<GroupOfInsuranceContract>().ToArrayAsync());",
                "\n    await Workspace.DeleteAsync<GroupOfReinsuranceContract>(await Workspace.Query<GroupOfReinsuranceContract>().ToArrayAsync());",
                "\n    await Workspace.DeleteAsync<DataNodeState>(await Workspace.Query<DataNodeState>().ToArrayAsync());",
                "\n    await Workspace.DeleteAsync<InterDataNodeParameter>(await Workspace.Query<InterDataNodeParameter>().ToArrayAsync());",
                "\n    if(errors.Any()) ApplicationMessage.Log(Error.Generic, string.Join(\"\\n\", errors));",
                "\n    return Activity.Finish();",
                "\n}"
            ],
            "metadata": {},
            "execution_count": 0,
            "outputs": []
        },
        {
            "cell_type": "code",
            "source": [
                "var inputDataVariable = new RawVariable[]{ sampleRawVar with {DataNode = \"Reins1\"},",
                "\n                                           sampleRawVar with {DataNode = \"Reins2\"},",
                "\n                                         };",
                "\nvar reinsCovBoPBm = new Dictionary<(string, string),double>(){",
                "\n    {(\"Reins1\",\"Gross1\"),0.1},",
                "\n    {(\"Reins2\",\"Gross1\"),0.2},",
                "\n    {(\"Reins2\",\"Gross2\"),0.3},",
                "\n};",
                "\n",
                "\nvar reinsCovEoPBm = new Dictionary<(string, string),double>(){",
                "\n    {(\"Reins1\",\"Gross1\"),0.5},",
                "\n    {(\"Reins2\",\"Gross1\"),0.6},",
                "\n    {(\"Reins2\",\"Gross2\"),0.7},",
                "\n};",
                "\n",
                "\nvar activity = await CheckGetReinsuranceCoverageAsync(inputDataVariable, reinsCovBoPBm, reinsCovEoPBm);",
                "\nactivity"
            ],
            "metadata": {},
            "execution_count": 0,
            "outputs": []
        },
        {
            "cell_type": "code",
            "source": [
                "activity.Status.Should().Be(ActivityLogStatus.Succeeded);"
            ],
            "metadata": {},
            "execution_count": 0,
            "outputs": []
        },
        {
            "cell_type": "markdown",
            "source": [
                "# Primary and Secondary Scope"
            ],
            "metadata": {},
            "execution_count": 0,
            "outputs": []
        },
        {
            "cell_type": "markdown",
            "source": [
                "## Check Primary Scope"
            ],
            "metadata": {},
            "execution_count": 0,
            "outputs": []
        },
        {
            "cell_type": "code",
            "source": [
                "public async Task<ActivityLog> CheckPrimaryScopeAsync<T>(T[] inputDataVariable, string[] primaryScopeBm) where T : BaseDataRecord",
                "\n{",
                "\n    Activity.Start();",
                "\n    var errors = new List<string>();",
                "\n    ",
                "\n    await PrepareWorkspaceDataNodesBbaPaa();",
                "\n    if (typeof(T).Name == nameof(RawVariable))",
                "\n        await Workspace.UpdateAsync<RawVariable>(inputDataVariable.Cast<RawVariable>());",
                "\n    else ",
                "\n        await Workspace.UpdateAsync<IfrsVariable>(inputDataVariable.Cast<IfrsVariable>());",
                "\n",
                "\n    var testStorage = new ImportStorage(args, DataSource, Workspace);",
                "\n    await testStorage.InitializeAsync();",
                "\n    ",
                "\n    var activeDn = (await Workspace.Query<DataNodeState>().ToArrayAsync()).Select(x => x.DataNode);",
                "\n    ",
                "\n    var primaryScopeDn = testStorage.DataNodesByImportScope[ImportScope.Primary];",
                "\n    ",
                "\n    foreach (var dn in activeDn)",
                "\n    {",
                "\n        //PrimaryScope",
                "\n        if ( primaryScopeBm.Contains(dn) && !primaryScopeDn.Contains(dn))",
                "\n             errors.Add( $\"DataNode {dn} is not added to the primary scope.\" );",
                "\n        if( !primaryScopeBm.Contains(dn) && primaryScopeDn.Contains(dn))",
                "\n             errors.Add( $\"DataNode {dn} is added to the primary scope but should not have.\" );",
                "\n    }",
                "\n    ",
                "\n    await Workspace.DeleteAsync<IfrsVariable>(await Workspace.Query<IfrsVariable>().ToArrayAsync());",
                "\n    await Workspace.DeleteAsync<RawVariable>(await Workspace.Query<RawVariable>().ToArrayAsync());",
                "\n",
                "\n    await Workspace.DeleteAsync<GroupOfInsuranceContract>(await Workspace.Query<GroupOfInsuranceContract>().ToArrayAsync());",
                "\n    await Workspace.DeleteAsync<DataNodeState>(await Workspace.Query<DataNodeState>().ToArrayAsync());",
                "\n    if(errors.Any()) ApplicationMessage.Log(Error.Generic, string.Join(\"\\n\", errors));",
                "\n    return Activity.Finish();",
                "\n}"
            ],
            "metadata": {},
            "execution_count": 0,
            "outputs": []
        },
        {
            "cell_type": "code",
            "source": [
                "var inputDataVariable = new RawVariable[]{ sampleRawVar with {DataNode = \"Gross1\"},",
                "\n                                           sampleRawVar with {DataNode = \"Gross2\"},",
                "\n                                         };",
                "\nvar primaryScopeBm = new string[]{\"Gross1\", \"Gross2\", \"Paa1\", \"Paa2\", \"Paa3\"};",
                "\nvar activity = await CheckPrimaryScopeAsync<RawVariable>(inputDataVariable, primaryScopeBm);",
                "\nactivity"
            ],
            "metadata": {},
            "execution_count": 0,
            "outputs": []
        },
        {
            "cell_type": "code",
            "source": [
                "activity.Status.Should().Be(ActivityLogStatus.Succeeded);"
            ],
            "metadata": {},
            "execution_count": 0,
            "outputs": []
        },
        {
            "cell_type": "code",
            "source": [
                "var inputDataVariable = new RawVariable[]{ sampleRawVar with {DataNode = \"Paa1\"},",
                "\n                                         };",
                "\nvar primaryScopeBm = new string[]{\"Paa1\", \"Paa2\", \"Paa3\"};",
                "\nvar activity = await CheckPrimaryScopeAsync<RawVariable>(inputDataVariable, primaryScopeBm);",
                "\nactivity"
            ],
            "metadata": {},
            "execution_count": 0,
            "outputs": []
        },
        {
            "cell_type": "code",
            "source": [
                "activity.Status.Should().Be(ActivityLogStatus.Succeeded);"
            ],
            "metadata": {},
            "execution_count": 0,
            "outputs": []
        },
        {
            "cell_type": "code",
            "source": [
                "var inputDataSourceVariable = new IfrsVariable[]{ new IfrsVariable {DataNode = \"Paa1\", AocType = \"BOP\", Novelty = \"N\", Partition = sampleRawVar.Partition},",
                "\n                                         };",
                "\n",
                "\nawait DataSource.UpdateAsync<IfrsVariable>(inputDataSourceVariable);",
                "\n",
                "\nvar inputDataVariable = new RawVariable[]{ sampleRawVar with {DataNode = \"Gross1\"},",
                "\n                                         };",
                "\nvar primaryScopeBm = new string[]{\"Gross1\", \"Paa2\", \"Paa3\"};",
                "\nvar activity = await CheckPrimaryScopeAsync<RawVariable>(inputDataVariable, primaryScopeBm);",
                "\n",
                "\nawait DataSource.DeleteAsync<IfrsVariable>(inputDataSourceVariable);",
                "\nactivity"
            ],
            "metadata": {},
            "execution_count": 0,
            "outputs": []
        },
        {
            "cell_type": "code",
            "source": [
                "activity.Status.Should().Be(ActivityLogStatus.Succeeded);"
            ],
            "metadata": {},
            "execution_count": 0,
            "outputs": []
        },
        {
            "cell_type": "code",
            "source": [
                "var inputDataSourceVariable = new IfrsVariable[]{ new IfrsVariable {DataNode = \"Paa1\", AocType = \"BOP\", Novelty = \"N\", Partition = sampleRawVar.Partition},",
                "\n                                                  new IfrsVariable {DataNode = \"Paa2\", AocType = \"BOP\", Novelty = \"N\", Partition = sampleRawVar.Partition},",
                "\n                                         };",
                "\n",
                "\nawait DataSource.UpdateAsync<IfrsVariable>(inputDataSourceVariable);",
                "\n",
                "\nvar inputDataVariable = new RawVariable[]{ sampleRawVar with {DataNode = \"Gross1\"},",
                "\n                                           sampleRawVar with {DataNode = \"Paa1\"},",
                "\n                                         };",
                "\nvar primaryScopeBm = new string[]{\"Gross1\", \"Paa1\", \"Paa3\"};",
                "\nvar activity = await CheckPrimaryScopeAsync<RawVariable>(inputDataVariable, primaryScopeBm);",
                "\n",
                "\nawait DataSource.DeleteAsync<IfrsVariable>(inputDataSourceVariable);",
                "\nactivity"
            ],
            "metadata": {},
            "execution_count": 0,
            "outputs": []
        },
        {
            "cell_type": "code",
            "source": [
                "activity.Status.Should().Be(ActivityLogStatus.Succeeded);"
            ],
            "metadata": {},
            "execution_count": 0,
            "outputs": []
        },
        {
            "cell_type": "markdown",
            "source": [
                "## Check Secondary Scope"
            ],
            "metadata": {},
            "execution_count": 0,
            "outputs": []
        },
        {
            "cell_type": "code",
            "source": [
                "public async Task<ActivityLog> CheckPrimaryAndSecondaryScopeAsync<T>(T[] inputDataVariable, string[] primaryScopeBm , string[] secondaryScopeBm) ",
                "\n    where T : BaseDataRecord",
                "\n{",
                "\n    Activity.Start();",
                "\n    var errors = new List<string>();",
                "\n    ",
                "\n    await PrepareWorkspaceDataNodes();",
                "\n    if (typeof(T).Name == nameof(RawVariable))",
                "\n        await Workspace.UpdateAsync<RawVariable>(inputDataVariable.Cast<RawVariable>());",
                "\n    else ",
                "\n        await Workspace.UpdateAsync<IfrsVariable>(inputDataVariable.Cast<IfrsVariable>());",
                "\n",
                "\n    var testStorage = new ImportStorage(args, DataSource, Workspace);",
                "\n    await testStorage.InitializeAsync();",
                "\n    ",
                "\n    var activeDn = (await Workspace.Query<DataNodeState>().ToArrayAsync()).Select(x => x.DataNode);",
                "\n    ",
                "\n    var primaryScopeDn = testStorage.DataNodesByImportScope[ImportScope.Primary];",
                "\n    ",
                "\n    foreach (var dn in activeDn)",
                "\n    {",
                "\n        //PrimaryScope",
                "\n        if ( primaryScopeBm.Contains(dn) && !primaryScopeDn.Contains(dn))",
                "\n             errors.Add( $\"DataNode {dn} is not added to the primary scope.\" );",
                "\n        if( !primaryScopeBm.Contains(dn) && primaryScopeDn.Contains(dn))",
                "\n             errors.Add( $\"DataNode {dn} is added to the primary scope but should have not.\" );",
                "\n        ",
                "\n        //SecondaryScope",
                "\n        if ( secondaryScopeBm.Contains(dn) && !testStorage.IsSecondaryScope(dn))",
                "\n             errors.Add( $\"DataNode {dn} is not added to the secondary scope.\" );",
                "\n        if( !secondaryScopeBm.Contains(dn) && testStorage.IsSecondaryScope(dn))",
                "\n             errors.Add( $\"DataNode {dn} is added to the secondary scope but should have not.\" );",
                "\n    }",
                "\n    ",
                "\n    await Workspace.DeleteAsync<IfrsVariable>(await Workspace.Query<IfrsVariable>().ToArrayAsync());",
                "\n    await Workspace.DeleteAsync<RawVariable>(await Workspace.Query<RawVariable>().ToArrayAsync());",
                "\n    await Workspace.DeleteAsync<GroupOfInsuranceContract>(await Workspace.Query<GroupOfInsuranceContract>().ToArrayAsync());",
                "\n    await Workspace.DeleteAsync<GroupOfReinsuranceContract>(await Workspace.Query<GroupOfReinsuranceContract>().ToArrayAsync());",
                "\n    await Workspace.DeleteAsync<DataNodeState>(await Workspace.Query<DataNodeState>().ToArrayAsync());",
                "\n    await Workspace.DeleteAsync<InterDataNodeParameter>(await Workspace.Query<InterDataNodeParameter>().ToArrayAsync());",
                "\n    if(errors.Any()) ApplicationMessage.Log(Error.Generic, string.Join(\"\\n\", errors));",
                "\n    return Activity.Finish();",
                "\n}"
            ],
            "metadata": {},
            "execution_count": 0,
            "outputs": []
        },
        {
            "cell_type": "code",
            "source": [
                "var inputDataVariable = new RawVariable[]{ sampleRawVar with {DataNode = \"Reins1\"},",
                "\n                                           sampleRawVar with {DataNode = \"Reins2\"},",
                "\n                                         };",
                "\nvar primaryScopeBm = new string[]{\"Reins1\", \"Reins2\"};",
                "\nvar secondaryScopeBm = new string[]{\"Gross1\", \"Gross2\"};",
                "\nvar activity = await CheckPrimaryAndSecondaryScopeAsync<RawVariable>(inputDataVariable, primaryScopeBm, secondaryScopeBm);",
                "\nactivity"
            ],
            "metadata": {},
            "execution_count": 0,
            "outputs": []
        },
        {
            "cell_type": "code",
            "source": [
                "activity.Status.Should().Be(ActivityLogStatus.Succeeded);"
            ],
            "metadata": {},
            "execution_count": 0,
            "outputs": []
        },
        {
            "cell_type": "code",
            "source": [
                "var inputDataVariable = new RawVariable[]{ sampleRawVar with {DataNode = \"Reins1\"},",
                "\n                                           };",
                "\nvar primaryScopeBm = new string[]{\"Reins1\"};",
                "\nvar secondaryScopeBm = new string[]{\"Gross1\"};",
                "\nvar activity = await CheckPrimaryAndSecondaryScopeAsync<RawVariable>(inputDataVariable, primaryScopeBm, secondaryScopeBm);",
                "\nactivity"
            ],
            "metadata": {},
            "execution_count": 0,
            "outputs": []
        },
        {
            "cell_type": "code",
            "source": [
                "activity.Status.Should().Be(ActivityLogStatus.Succeeded);"
            ],
            "metadata": {},
            "execution_count": 0,
            "outputs": []
        },
        {
            "cell_type": "code",
            "source": [
                "var inputDataVariable = new RawVariable[]{ sampleRawVar with {DataNode = \"Reins1\"},",
                "\n                                           sampleRawVar with {DataNode = \"Gross1\"},",
                "\n                                           };",
                "\nvar primaryScopeBm = new string[]{\"Reins1\",\"Gross1\",\"Reins2\"};",
                "\nvar secondaryScopeBm = new string[]{\"Gross2\"};",
                "\nvar activity = await CheckPrimaryAndSecondaryScopeAsync<RawVariable>(inputDataVariable, primaryScopeBm, secondaryScopeBm);",
                "\nactivity"
            ],
            "metadata": {},
            "execution_count": 0,
            "outputs": []
        },
        {
            "cell_type": "code",
            "source": [
                "activity.Status.Should().Be(ActivityLogStatus.Succeeded);"
            ],
            "metadata": {},
            "execution_count": 0,
            "outputs": []
        },
        {
            "cell_type": "code",
            "source": [
                ""
            ],
            "metadata": {},
            "execution_count": 0,
            "outputs": []
        }
    ]
}