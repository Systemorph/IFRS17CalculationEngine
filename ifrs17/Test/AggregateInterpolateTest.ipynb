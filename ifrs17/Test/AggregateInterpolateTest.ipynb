{
    "metadata": {
        "authors": [],
        "id": "9UoN9BW_ykyK_lnYPCgI_Q",
        "kernelspec": {
            "display_name": "Formula Framework",
            "language": "C#",
            "name": "C#"
        },
        "language_info": {
            "file_extension": ".cs",
            "mimetype": "text/plain",
            "name": "C#"
        }
    },
    "nbformat": 4,
    "nbformat_minor": 5,
    "cells": [
        {
            "cell_type": "code",
            "source": [
                "#!import \"../Utils/ImportCalculationMethods\"",
                "\n#!import \"../Utils/TestHelper\""
            ],
            "metadata": {},
            "execution_count": 0,
            "outputs": []
        },
        {
            "cell_type": "markdown",
            "source": [
                "# Aggregation"
            ],
            "metadata": {},
            "execution_count": 0,
            "outputs": []
        },
        {
            "cell_type": "code",
            "source": [
                "public void CheckAggregateDoubleArray(double[][] arrayOfDoubleArrays, double[] bmAggregatedArray)",
                "\n{",
                "\n    var aggregatedArray = arrayOfDoubleArrays.AggregateDoubleArray();",
                "\n    aggregatedArray.Should().BeEquivalentTo(bmAggregatedArray);",
                "\n}"
            ],
            "metadata": {},
            "execution_count": 0,
            "outputs": []
        },
        {
            "cell_type": "code",
            "source": [
                "var array = new double [] [] {new[] {-100d,-50d }, new[] {-100d,-50d,-50d,-50d,0d,0d,0d,0d, 0d,0d,}, new[] {-100d,-50d,-50d,-50d,0d,0d,0d,0d, 0d,0d,}, new[] {-100d,-50d,-50d,-50d,0d,0d,0d,0d, 0d,0d,} };",
                "\nCheckAggregateDoubleArray(array, new[] {-400d,-200d,-150d,-150d,0d,0d,0d,0d, 0d,0d,})"
            ],
            "metadata": {},
            "execution_count": 0,
            "outputs": []
        },
        {
            "cell_type": "code",
            "source": [
                "array = new double [] [] {null, new[] {-100d,-50d }};",
                "\nCheckAggregateDoubleArray(array, new[] {-100d,-50d })"
            ],
            "metadata": {},
            "execution_count": 0,
            "outputs": []
        },
        {
            "cell_type": "code",
            "source": [
                "array = new double [] [] {new[] {-100d,-50d }, null};",
                "\nCheckAggregateDoubleArray(array, new[] {-100d,-50d })"
            ],
            "metadata": {},
            "execution_count": 0,
            "outputs": []
        },
        {
            "cell_type": "code",
            "source": [
                "array = new double [] [] {Enumerable.Empty<double>().ToArray(), new[] {-100d,-50d }};",
                "\nCheckAggregateDoubleArray(array, new[] {-100d,-50d })"
            ],
            "metadata": {},
            "execution_count": 0,
            "outputs": []
        },
        {
            "cell_type": "code",
            "source": [
                "array = new double [] [] {Enumerable.Empty<double>().ToArray(), Enumerable.Empty<double>().ToArray()};",
                "\nCheckAggregateDoubleArray(array, Enumerable.Empty<double>().ToArray())"
            ],
            "metadata": {},
            "execution_count": 0,
            "outputs": []
        },
        {
            "cell_type": "code",
            "source": [
                "array = new double [] [] {new[] {-100d,-50d }};",
                "\nCheckAggregateDoubleArray(array, new[] {-100d,-50d })"
            ],
            "metadata": {},
            "execution_count": 0,
            "outputs": []
        },
        {
            "cell_type": "code",
            "source": [
                "array = new double [] [] {Enumerable.Empty<double>().ToArray()};",
                "\nCheckAggregateDoubleArray(array, Enumerable.Empty<double>().ToArray())"
            ],
            "metadata": {},
            "execution_count": 0,
            "outputs": []
        },
        {
            "cell_type": "code",
            "source": [
                "array = new double [] [] {null};",
                "\nCheckAggregateDoubleArray(array, Enumerable.Empty<double>().ToArray())"
            ],
            "metadata": {},
            "execution_count": 0,
            "outputs": []
        },
        {
            "cell_type": "markdown",
            "source": [
                "# Values Interpolation"
            ],
            "metadata": {},
            "execution_count": 0,
            "outputs": []
        },
        {
            "cell_type": "code",
            "source": [
                "var cashflow = new double [] {120, 180} ;",
                "\nvar yearly = Interpolate(Periodicity.Yearly, InterpolationMethod.Uniform, cashflow);",
                "\n(yearly[0], yearly[11], yearly[12], yearly[23]).Should().Be((10, 10, 15, 15));"
            ],
            "metadata": {},
            "execution_count": 0,
            "outputs": []
        },
        {
            "cell_type": "code",
            "source": [
                "var quarterly = Interpolate(Periodicity.Quarterly, InterpolationMethod.Uniform, cashflow);",
                "\n(quarterly[0], quarterly[3], quarterly[4], quarterly[6]).Should().Be((30, 30, 45, 45));"
            ],
            "metadata": {},
            "execution_count": 0,
            "outputs": []
        },
        {
            "cell_type": "code",
            "source": [
                "var monthly = Interpolate(Periodicity.Monthly, InterpolationMethod.Uniform, cashflow);",
                "\n(monthly[0], monthly[1]).Should().Be((120,180));"
            ],
            "metadata": {},
            "execution_count": 0,
            "outputs": []
        },
        {
            "cell_type": "code",
            "source": [
                "var yearly = Interpolate(Periodicity.Yearly, InterpolationMethod.Start, cashflow);",
                "\n(yearly[0], yearly[11], yearly[12], yearly[23]).Should().Be((10, 10, 15, 15));"
            ],
            "metadata": {},
            "execution_count": 0,
            "outputs": []
        }
    ]
}