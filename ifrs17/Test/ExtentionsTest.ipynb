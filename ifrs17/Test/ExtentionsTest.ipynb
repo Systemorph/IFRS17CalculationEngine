{
    "metadata": {
        "authors": [],
        "id": "9UoN9BW_ykyK_lnYPCgI_Q",
        "kernelspec": {
            "display_name": "Formula Framework",
            "language": "C#",
            "name": "C#"
        },
        "language_info": {
            "file_extension": ".cs",
            "mimetype": "text/plain",
            "name": "C#"
        }
    },
    "nbformat": 4,
    "nbformat_minor": 5,
    "cells": [
        {
            "cell_type": "code",
            "source": [
                "#!import \"../Utils/ImportCalculationMethods\"",
                "\n#!import \"../Utils/TestHelper\""
            ],
            "metadata": {},
            "execution_count": 0,
            "outputs": []
        },
        {
            "cell_type": "markdown",
            "source": [
                "# Aggregation"
            ],
            "metadata": {},
            "execution_count": 0,
            "outputs": []
        },
        {
            "cell_type": "code",
            "source": [
                "public void CheckAggregateDoubleArray(double[][] arrayOfDoubleArrays, double[] bmAggregatedArray)",
                "\n{",
                "\n    var aggregatedArray = arrayOfDoubleArrays.AggregateDoubleArray();",
                "\n    aggregatedArray.Should().BeEquivalentTo(bmAggregatedArray);",
                "\n}"
            ],
            "metadata": {},
            "execution_count": 0,
            "outputs": []
        },
        {
            "cell_type": "code",
            "source": [
                "var array = new double [] [] {new[] {-100d,-50d }, new[] {-100d,-50d,-50d,-50d,0d,0d,0d,0d, 0d,0d,}, new[] {-100d,-50d,-50d,-50d,0d,0d,0d,0d, 0d,0d,}, new[] {-100d,-50d,-50d,-50d,0d,0d,0d,0d, 0d,0d,} };",
                "\nCheckAggregateDoubleArray(array, new[] {-400d,-200d,-150d,-150d,0d,0d,0d,0d, 0d,0d,})"
            ],
            "metadata": {},
            "execution_count": 0,
            "outputs": []
        },
        {
            "cell_type": "code",
            "source": [
                "array = new double [] [] {null, new[] {-100d,-50d }};",
                "\nCheckAggregateDoubleArray(array, new[] {-100d,-50d })"
            ],
            "metadata": {},
            "execution_count": 0,
            "outputs": []
        },
        {
            "cell_type": "code",
            "source": [
                "array = new double [] [] {new[] {-100d,-50d }, null};",
                "\nCheckAggregateDoubleArray(array, new[] {-100d,-50d })"
            ],
            "metadata": {},
            "execution_count": 0,
            "outputs": []
        },
        {
            "cell_type": "code",
            "source": [
                "array = new double [] [] {Enumerable.Empty<double>().ToArray(), new[] {-100d,-50d }};",
                "\nCheckAggregateDoubleArray(array, new[] {-100d,-50d })"
            ],
            "metadata": {},
            "execution_count": 0,
            "outputs": []
        },
        {
            "cell_type": "code",
            "source": [
                "array = new double [] [] {Enumerable.Empty<double>().ToArray(), Enumerable.Empty<double>().ToArray()};",
                "\nCheckAggregateDoubleArray(array, Enumerable.Empty<double>().ToArray())"
            ],
            "metadata": {},
            "execution_count": 0,
            "outputs": []
        },
        {
            "cell_type": "code",
            "source": [
                "array = new double [] [] {new[] {-100d,-50d }};",
                "\nCheckAggregateDoubleArray(array, new[] {-100d,-50d })"
            ],
            "metadata": {},
            "execution_count": 0,
            "outputs": []
        },
        {
            "cell_type": "code",
            "source": [
                "array = new double [] [] {Enumerable.Empty<double>().ToArray()};",
                "\nCheckAggregateDoubleArray(array, Enumerable.Empty<double>().ToArray())"
            ],
            "metadata": {},
            "execution_count": 0,
            "outputs": []
        },
        {
            "cell_type": "code",
            "source": [
                "array = new double [] [] {null};",
                "\nCheckAggregateDoubleArray(array, Enumerable.Empty<double>().ToArray())"
            ],
            "metadata": {},
            "execution_count": 0,
            "outputs": []
        },
        {
            "cell_type": "markdown",
            "source": [
                "# Values Interpolation"
            ],
            "metadata": {},
            "execution_count": 0,
            "outputs": []
        },
        {
            "cell_type": "markdown",
            "source": [
                "## Method: Uniform"
            ],
            "metadata": {},
            "execution_count": 0,
            "outputs": []
        },
        {
            "cell_type": "code",
            "source": [
                "var cashflow = new double [] {120, 180} ;",
                "\nvar yearly = cashflow.Interpolate(CashFlowPeriodicity.Yearly, InterpolationMethod.Uniform);",
                "\n(yearly[0], yearly[11], yearly[12], yearly[23]).Should().Be((10, 10, 15, 15));"
            ],
            "metadata": {},
            "execution_count": 0,
            "outputs": []
        },
        {
            "cell_type": "code",
            "source": [
                "var quarterly = cashflow.Interpolate(CashFlowPeriodicity.Quarterly, InterpolationMethod.Uniform);",
                "\n(quarterly[0], quarterly[3], quarterly[4], quarterly[6]).Should().Be((30, 30, 45, 45));"
            ],
            "metadata": {},
            "execution_count": 0,
            "outputs": []
        },
        {
            "cell_type": "code",
            "source": [
                "var monthly = cashflow.Interpolate(CashFlowPeriodicity.Monthly, InterpolationMethod.Uniform);",
                "\n(monthly[0], monthly[1]).Should().Be((120,180));"
            ],
            "metadata": {},
            "execution_count": 0,
            "outputs": []
        },
        {
            "cell_type": "markdown",
            "source": [
                "## Method: At Start"
            ],
            "metadata": {},
            "execution_count": 0,
            "outputs": []
        },
        {
            "cell_type": "code",
            "source": [
                "var yearly = cashflow.Interpolate(CashFlowPeriodicity.Yearly, InterpolationMethod.Start);",
                "\n(yearly[0], yearly[11], yearly[12], yearly[23]).Should().Be((120, 0, 180, 0));"
            ],
            "metadata": {},
            "execution_count": 0,
            "outputs": []
        },
        {
            "cell_type": "markdown",
            "source": [
                "## Method: Not Applicable"
            ],
            "metadata": {},
            "execution_count": 0,
            "outputs": []
        },
        {
            "cell_type": "code",
            "source": [
                "var yearly = cashflow.Interpolate(CashFlowPeriodicity.Yearly, InterpolationMethod.NotApplicable);",
                "\n(yearly[0], yearly[11], yearly[12], yearly[23]).Should().Be((10, 10, 15, 15));"
            ],
            "metadata": {},
            "execution_count": 0,
            "outputs": []
        },
        {
            "cell_type": "markdown",
            "source": [
                "# Normalize"
            ],
            "metadata": {},
            "execution_count": 0,
            "outputs": []
        },
        {
            "cell_type": "code",
            "source": [
                "public void CheckNormalizedArray(IEnumerable<double> source, double[] benchmark)",
                "\n{",
                "\n    var res = source.Normalize();",
                "\n    res.Should().BeEquivalentTo(benchmark);",
                "\n}"
            ],
            "metadata": {},
            "execution_count": 0,
            "outputs": []
        },
        {
            "cell_type": "code",
            "source": [
                "var array = new double[]{1,1,1};",
                "\nvar benchmark = new double[]{1d/3d,1d/3d,1d/3d};",
                "\nCheckNormalizedArray(array, benchmark);"
            ],
            "metadata": {},
            "execution_count": 0,
            "outputs": []
        },
        {
            "cell_type": "code",
            "source": [
                "var array = new double[]{-1,-1,-1};",
                "\nvar benchmark = new double[]{1d/3d,1d/3d,1d/3d};",
                "\nCheckNormalizedArray(array, benchmark);"
            ],
            "metadata": {},
            "execution_count": 0,
            "outputs": []
        },
        {
            "cell_type": "code",
            "source": [
                "var array = new double[]{-1,+1,-1,+1};",
                "\nvar benchmark = Enumerable.Empty<double>().ToArray();",
                "\nCheckNormalizedArray(array, benchmark);"
            ],
            "metadata": {},
            "execution_count": 0,
            "outputs": []
        },
        {
            "cell_type": "code",
            "source": [
                "var array = new double[]{};",
                "\nvar benchmark = Enumerable.Empty<double>().ToArray();",
                "\nCheckNormalizedArray(array, benchmark);"
            ],
            "metadata": {},
            "execution_count": 0,
            "outputs": []
        },
        {
            "cell_type": "markdown",
            "source": [
                "# Enum Contains"
            ],
            "metadata": {},
            "execution_count": 0,
            "outputs": []
        },
        {
            "cell_type": "markdown",
            "source": [
                "## Contain Flag Enum"
            ],
            "metadata": {},
            "execution_count": 0,
            "outputs": []
        },
        {
            "cell_type": "code",
            "source": [
                "DataType.CalculatedTelescopic.Contains(DataType.Optional).Should().BeFalse();",
                "\n(DataType.Optional | DataType.Calculated).Contains(DataType.CalculatedTelescopic).Should().BeFalse();",
                "\n(DataType.Optional | DataType.Calculated).Contains(DataType.Optional).Should().BeTrue();"
            ],
            "metadata": {},
            "execution_count": 0,
            "outputs": []
        },
        {
            "cell_type": "markdown",
            "source": [
                "## Enumerable ContainsEnum Flag Enum"
            ],
            "metadata": {},
            "execution_count": 0,
            "outputs": []
        },
        {
            "cell_type": "code",
            "source": [
                "var datatypes = new DataType[]{DataType.CalculatedTelescopic, DataType.Optional | DataType.Calculated};"
            ],
            "metadata": {},
            "execution_count": 0,
            "outputs": []
        },
        {
            "cell_type": "code",
            "source": [
                "datatypes.ContainsEnum(DataType.Optional).Should().BeTrue();",
                "\ndatatypes.ContainsEnum(DataType.Calculated).Should().BeTrue();",
                "\ndatatypes.ContainsEnum(DataType.Mandatory).Should().BeFalse();"
            ],
            "metadata": {},
            "execution_count": 0,
            "outputs": []
        },
        {
            "cell_type": "code",
            "source": [
                ""
            ],
            "metadata": {},
            "execution_count": 0,
            "outputs": []
        }
    ]
}