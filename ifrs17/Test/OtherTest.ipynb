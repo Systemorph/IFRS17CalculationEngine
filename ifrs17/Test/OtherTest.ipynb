{
    "metadata": {
        "authors": [],
        "id": "1U_cVldqmUm__oFM2pioGQ",
        "kernelspec": {
            "display_name": "Formula Framework",
            "language": "C#",
            "name": "C#"
        },
        "language_info": {
            "file_extension": ".cs",
            "mimetype": "text/plain",
            "name": "C#"
        }
    },
    "nbformat": 4,
    "nbformat_minor": 5,
    "cells": [
        {
            "cell_type": "markdown",
            "source": [
                "<p style=\"font-weight:bold;\"> <span style=\"font-size: 36px\"> Other Test </span> </p>"
            ],
            "metadata": {},
            "execution_count": 0,
            "outputs": []
        },
        {
            "cell_type": "markdown",
            "source": [
                "# New Business Interest Accretion"
            ],
            "metadata": {},
            "execution_count": 0,
            "outputs": []
        },
        {
            "cell_type": "code",
            "source": [
                "#!eval-notebook \"../Utils/ImportCalculationMethods\""
            ],
            "metadata": {},
            "execution_count": 0,
            "outputs": []
        },
        {
            "cell_type": "code",
            "source": [
                "Enumerable.Repeat(1e6/12, 12)",
                "\n    .NewBusinessInterestAccretion(new[]{1.00407412378365}, 12, 0)",
                "\n    .Should().BeApproximately(26881.4607, 0.001)"
            ],
            "metadata": {},
            "execution_count": 0,
            "outputs": []
        },
        {
            "cell_type": "code",
            "source": [
                "Enumerable.Repeat(1e6/12, 12)",
                "\n    .NewBusinessInterestAccretion(new[]{1.0}, 12, 0)",
                "\n    .Should().BeApproximately(0, 0.001)"
            ],
            "metadata": {},
            "execution_count": 0,
            "outputs": []
        },
        {
            "cell_type": "code",
            "source": [
                ""
            ],
            "metadata": {},
            "execution_count": 0,
            "outputs": []
        }
    ]
}