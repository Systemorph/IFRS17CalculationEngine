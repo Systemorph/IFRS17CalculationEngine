{
    "metadata": {
        "authors": [],
        "id": "1U_cVldqmUm__oFM2pioGQ",
        "kernelspec": {
            "display_name": "Formula Framework",
            "language": "C#",
            "name": "C#"
        },
        "language_info": {
            "file_extension": ".cs",
            "mimetype": "text/plain",
            "name": "C#"
        }
    },
    "nbformat": 4,
    "nbformat_minor": 5,
    "cells": [
        {
            "cell_type": "markdown",
            "source": [
                "<p style=\"font-weight:bold;\"> <span style=\"font-size: 36px\"> Other Test </span> </p>"
            ],
            "metadata": {},
            "execution_count": 0,
            "outputs": []
        },
        {
            "cell_type": "markdown",
            "source": [
                "# New Business Interest Accretion"
            ],
            "metadata": {},
            "execution_count": 0,
            "outputs": []
        },
        {
            "cell_type": "code",
            "source": [
                "#!eval-notebook \"../Utils/ImportCalculationMethods\""
            ],
            "metadata": {},
            "execution_count": 0,
            "outputs": []
        },
        {
            "cell_type": "code",
            "source": [
                "Enumerable.Repeat(1e6/12, 12)",
                "\n    .NewBusinessInterestAccretion(new[]{1.00407412378365}, 12, 0)",
                "\n    .Should().BeApproximately(26881.4607, 0.001);"
            ],
            "metadata": {},
            "execution_count": 0,
            "outputs": []
        },
        {
            "cell_type": "code",
            "source": [
                "Enumerable.Repeat(1e6/12, 12)",
                "\n    .NewBusinessInterestAccretion(new[]{1.0}, 12, 0)",
                "\n    .Should().BeApproximately(0, 0.001);"
            ],
            "metadata": {},
            "execution_count": 0,
            "outputs": []
        },
        {
            "cell_type": "markdown",
            "source": [
                "# Prune"
            ],
            "metadata": {},
            "execution_count": 0,
            "outputs": []
        },
        {
            "cell_type": "code",
            "source": [
                "#!import \"../Utils/Extensions\""
            ],
            "metadata": {},
            "execution_count": 0,
            "outputs": []
        },
        {
            "cell_type": "code",
            "source": [
                "new [] {0.5,0.4,0.3,0.2,0.1}.Prune(1e-5).SequenceEqual(new [] {0.5,0.4,0.3,0.2,0.1}).Should().BeTrue();"
            ],
            "metadata": {},
            "execution_count": 0,
            "outputs": []
        },
        {
            "cell_type": "code",
            "source": [
                "new [] {0.5,0.4,0.3,0.2,0.1}.Prune(0.2).SequenceEqual(new [] {0.5,0.4,0.3,0.2}).Should().BeTrue();"
            ],
            "metadata": {},
            "execution_count": 0,
            "outputs": []
        },
        {
            "cell_type": "code",
            "source": [
                "new [] {0.5,0.4,0.3,0.2,0.1}.Prune(0.3).SequenceEqual(new [] {0.5,0.4,0.3}).Should().BeTrue();"
            ],
            "metadata": {},
            "execution_count": 0,
            "outputs": []
        },
        {
            "cell_type": "code",
            "source": [
                "new [] {0.5,0.4,0.3,0.2,0.1}.PruneButFirst(0.3).SequenceEqual(new [] {0.5,0.4,0.3,0.0}).Should().BeTrue();"
            ],
            "metadata": {},
            "execution_count": 0,
            "outputs": []
        },
        {
            "cell_type": "code",
            "source": [
                "new [] {0.5,0.2,0.0,0.0,0.0}.PruneButFirst(0.3).SequenceEqual(new [] {0.5,0.0}).Should().BeTrue();"
            ],
            "metadata": {},
            "execution_count": 0,
            "outputs": []
        },
        {
            "cell_type": "code",
            "source": [
                "new [] {0.5,0.0,0.0,0.0,0.0}.PruneButFirst(0.3).SequenceEqual(new [] {0.5,0.0}).Should().BeTrue();"
            ],
            "metadata": {},
            "execution_count": 0,
            "outputs": []
        },
        {
            "cell_type": "code",
            "source": [
                ""
            ],
            "metadata": {},
            "execution_count": 0,
            "outputs": []
        }
    ]
}