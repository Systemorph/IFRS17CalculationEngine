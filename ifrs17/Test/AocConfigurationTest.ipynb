{
    "metadata": {
        "authors": [],
        "kernelspec": {
            "display_name": "Formula Framework",
            "language": "C#",
            "name": "C#"
        },
        "language_info": {
            "file_extension": ".cs",
            "mimetype": "text/plain",
            "name": "C#"
        }
    },
    "nbformat": 4,
    "nbformat_minor": 5,
    "cells": [
        {
            "cell_type": "markdown",
            "source": [
                "<p style=\"font-weight:bold;\"> <span style=\"font-size: 36px\"> Test Aoc Configuration </span> </p>"
            ]
        },
        {
            "cell_type": "code",
            "source": [
                "#!import \"../CalculationEngine\""
            ]
        },
        {
            "cell_type": "markdown",
            "source": [
                "# Workspace Initialization "
            ]
        },
        {
            "cell_type": "code",
            "source": [
                "string novelties = ",
                "\n@\"@@Novelty",
                "\nSystemName,DisplayName,Parent,Order",
                "\nI,In Force,,1",
                "\nN,New Business,,10",
                "\nC,Combined,,20\";"
            ]
        },
        {
            "cell_type": "code",
            "source": [
                "await Import.FromString(novelties).WithType<Novelty>().WithTarget(DataSource).ExecuteAsync()"
            ]
        },
        {
            "cell_type": "code",
            "source": [
                "var workspace = Workspace.CreateNew();",
                "\nworkspace.InitializeFrom(DataSource);"
            ]
        },
        {
            "cell_type": "markdown",
            "source": [
                "# Canonical Aoc Types and Configurations"
            ]
        },
        {
            "cell_type": "code",
            "source": [
                "string canonicalAocTypes = ",
                "\n@\"@@AocType,,,,,,,,,,,",
                "\nSystemName,DisplayName,Parent,Order,,,,,,,,",
                "\nBOP,Opening Balance,,10,,,,,,,,",
                "\nMC,Model Correction,,20,,,,,,,,",
                "\nPC,Portfolio Changes,,30,,,,,,,,",
                "\nRCU,Reinsurance Coverage Update,PC,40,,,,,,,,",
                "\nCF,Cash flow,,50,,,,,,,,",
                "\nIA,Interest Accretion,,60,,,,,,,,",
                "\nAU,Assumption Update,,70,,,,,,,,",
                "\nFAU,Financial Assumption Update,,80,,,,,,,,",
                "\nYCU,Yield Curve Update,FAU,90,,,,,,,,",
                "\nCRU,Credit Risk Update,FAU,100,,,,,,,,",
                "\nEV,Experience Variance,,110,,,,,,,,",
                "\nWO,Write-Off,,120,,,,,,,,",
                "\nCL,Combined Liabilities,,130,,,,,,,,",
                "\nEA,Experience Adjustment,,140,,,,,,,,",
                "\nAM,Amortization,,150,,,,,,,,",
                "\nFX,FX Impact,,160,,,,,,,,",
                "\nEOP,Closing Balance,,170,,,,,,,,\";"
            ]
        },
        {
            "cell_type": "code",
            "source": [
                "string canonicalAocConfig = ",
                "\n@\"@@AocConfiguration,,,,,,,,,,,",
                "\nAocType,Novelty,DataType,InputSource,FxPeriod,YcPeriod,CdrPeriod,ValuationPeriod,RcPeriod,Order,Year,Month",
                "\nBOP,I,Optional,7,BeginningOfPeriod,BeginningOfPeriod,BeginningOfPeriod,BeginningOfPeriod,BeginningOfPeriod,10,1900,1",
                "\nMC,I,Optional,4,BeginningOfPeriod,BeginningOfPeriod,BeginningOfPeriod,BeginningOfPeriod,BeginningOfPeriod,20,1900,1",
                "\nRCU,I,Calculated,4,BeginningOfPeriod,BeginningOfPeriod,BeginningOfPeriod,BeginningOfPeriod,EndOfPeriod,30,1900,1",
                "\nCF,I,Calculated,4,Average,NotApplicable,BeginningOfPeriod,Delta,EndOfPeriod,40,1900,1",
                "\nIA,I,Calculated,5,Average,BeginningOfPeriod,BeginningOfPeriod,Delta,EndOfPeriod,50,1900,1",
                "\nAU,I,Optional,4,EndOfPeriod,BeginningOfPeriod,BeginningOfPeriod,EndOfPeriod,EndOfPeriod,60,1900,1",
                "\nYCU,I,CalculatedTelescopic,4,EndOfPeriod,EndOfPeriod,BeginningOfPeriod,EndOfPeriod,EndOfPeriod,70,1900,1",
                "\nCRU,I,CalculatedTelescopic,4,EndOfPeriod,EndOfPeriod,EndOfPeriod,EndOfPeriod,EndOfPeriod,80,1900,1",
                "\nEV,I,Optional,4,EndOfPeriod,EndOfPeriod,EndOfPeriod,EndOfPeriod,EndOfPeriod,90,1900,1",
                "\nBOP,N,Optional,4,Average,EndOfPeriod,EndOfPeriod,BeginningOfPeriod,EndOfPeriod,95,1900,1",
                "\nCF,N,Calculated,4,Average,NotApplicable,EndOfPeriod,Delta,EndOfPeriod,110,1900,1",
                "\nIA,N,Calculated,4,Average,EndOfPeriod,EndOfPeriod,Delta,EndOfPeriod,120,1900,1",
                "\nAU,N,Optional,4,EndOfPeriod,EndOfPeriod,EndOfPeriod,EndOfPeriod,EndOfPeriod,130,1900,1",
                "\nEV,N,Optional,4,EndOfPeriod,EndOfPeriod,EndOfPeriod,EndOfPeriod,EndOfPeriod,140,1900,1",
                "\nCF,C,Optional,2,Average,NotApplicable,NotApplicable,NotApplicable,NotApplicable,160,1900,1",
                "\nWO,C,Optional,2,Average,NotApplicable,NotApplicable,NotApplicable,NotApplicable,170,1900,1",
                "\nCL,C,Mandatory,4,EndOfPeriod,EndOfPeriod,EndOfPeriod,EndOfPeriod,EndOfPeriod,180,1900,1",
                "\nEA,C,Calculated,4,EndOfPeriod,NotApplicable,NotApplicable,NotApplicable,EndOfPeriod,190,1900,1",
                "\nAM,C,Calculated,6,EndOfPeriod,NotApplicable,NotApplicable,NotApplicable,EndOfPeriod,200,1900,1",
                "\nFX,C,Calculated,0,NotApplicable,NotApplicable,NotApplicable,NotApplicable,NotApplicable,210,1900,1",
                "\nEOP,C,Calculated,6,EndOfPeriod,EndOfPeriod,EndOfPeriod,EndOfPeriod,EndOfPeriod,220,1900,1\";"
            ]
        },
        {
            "cell_type": "markdown",
            "source": [
                "# Test"
            ]
        },
        {
            "cell_type": "code",
            "source": [
                "public async Task<ActivityLog> CheckAocConfigurationDefault(AocType[] newAocTypes)",
                "\n{",
                "\n    await workspace.DeleteAsync<AocType>( await workspace.Query<AocType>().ToArrayAsync() );",
                "\n    await workspace.DeleteAsync<AocConfiguration>( await workspace.Query<AocConfiguration>().ToArrayAsync() );",
                "\n    await workspace.CommitAsync();",
                "\n",
                "\n    var aocTypeLog = await Import.FromString(canonicalAocTypes).WithType<AocType>().WithTarget(workspace).ExecuteAsync();",
                "\n    aocTypeLog.Errors.Any().Should().Be(false);",
                "\n",
                "\n    await workspace.UpdateAsync(newAocTypes);",
                "\n    await workspace.CommitAsync();",
                "\n",
                "\n    return await Import.FromString(canonicalAocConfig).WithFormat(\"AocConfiguration\").WithTarget(workspace).ExecuteAsync();",
                "\n}"
            ]
        },
        {
            "cell_type": "markdown",
            "source": [
                "## NewAoc < RCU"
            ]
        },
        {
            "cell_type": "code",
            "source": [
                "var aocConfigLog = await CheckAocConfigurationDefault( new[]{ new AocType{SystemName = \"A1\", DisplayName = \"a1\", Order = 25} } );",
                "\naocConfigLog.Errors.Any().Should().Be(false);"
            ]
        },
        {
            "cell_type": "code",
            "source": [
                "var newConfigExpected = (await workspace.Query<AocConfiguration>().ToArrayAsync()).First(x => ",
                "\n                         x.AocType == AocTypes.MC && x.Novelty == Novelties.I) with {AocType = \"A1\", Order = 21, DataType = DataType.Optional};",
                "\nvar newConfigCalculated = await workspace.Query<AocConfiguration>().Where(x => x == newConfigExpected).ToArrayAsync();",
                "\nnewConfigCalculated.Count().Should().Be(1);"
            ]
        },
        {
            "cell_type": "markdown",
            "source": [
                "## RCU < NewAoc < CF"
            ]
        },
        {
            "cell_type": "code",
            "source": [
                "var aocConfigLog = await CheckAocConfigurationDefault( new[]{ new AocType{SystemName = \"A1\", DisplayName = \"a1\", Order = 45} } );",
                "\naocConfigLog.Errors.Any().Should().Be(false);"
            ]
        },
        {
            "cell_type": "code",
            "source": [
                "var newConfigExpected = (await workspace.Query<AocConfiguration>().ToArrayAsync()).First(x => ",
                "\n                         x.AocType == AocTypes.RCU && x.Novelty == Novelties.I) with {AocType = \"A1\", Order = 31, DataType = DataType.Optional};",
                "\nvar newConfigCalculated = await workspace.Query<AocConfiguration>().Where(x => x == newConfigExpected).ToArrayAsync();",
                "\nnewConfigCalculated.Count().Should().Be(1);"
            ]
        },
        {
            "cell_type": "markdown",
            "source": [
                "## IA < NewAoc < YCU"
            ]
        },
        {
            "cell_type": "code",
            "source": [
                "var aocConfigLog = await CheckAocConfigurationDefault( new[]{ new AocType{SystemName = \"A1\", DisplayName = \"a1\", Order = 82} } );",
                "\naocConfigLog.Errors.Any().Should().Be(false);"
            ]
        },
        {
            "cell_type": "code",
            "source": [
                "var newConfigExpected = (await workspace.Query<AocConfiguration>().ToArrayAsync()).First(x => ",
                "\n                         x.AocType == AocTypes.AU && x.Novelty == Novelties.I) with {AocType = \"A1\", Order = 61, DataType = DataType.Optional};",
                "\nvar newConfigCalculated = await workspace.Query<AocConfiguration>().Where(x => x == newConfigExpected).ToArrayAsync();",
                "\nnewConfigCalculated.Count().Should().Be(1);"
            ]
        },
        {
            "cell_type": "code",
            "source": [
                "var newConfigExpected = (await workspace.Query<AocConfiguration>().ToArrayAsync()).First(x => ",
                "\n                         x.AocType == AocTypes.AU && x.Novelty == Novelties.N) with {AocType = \"A1\", Order = 131, DataType = DataType.Optional};",
                "\nvar newConfigCalculated = await workspace.Query<AocConfiguration>().Where(x => x == newConfigExpected).ToArrayAsync();",
                "\nnewConfigCalculated.Count().Should().Be(1);"
            ]
        },
        {
            "cell_type": "markdown",
            "source": [
                "## CRU < NewAoc < EV"
            ]
        },
        {
            "cell_type": "code",
            "source": [
                "var aocConfigLog = await CheckAocConfigurationDefault( new[]{ new AocType{SystemName = \"A1\", DisplayName = \"a1\", Order = 106} } );",
                "\naocConfigLog.Errors.Any().Should().Be(false);"
            ]
        },
        {
            "cell_type": "code",
            "source": [
                "var newConfigExpected = (await workspace.Query<AocConfiguration>().ToArrayAsync()).First(x => ",
                "\n                         x.AocType == AocTypes.EV && x.Novelty == Novelties.I) with {AocType = \"A1\", Order = 81};",
                "\nvar newConfigCalculated = await workspace.Query<AocConfiguration>().Where(x => x == newConfigExpected).ToArrayAsync();",
                "\nnewConfigCalculated.Count().Should().Be(1);"
            ]
        },
        {
            "cell_type": "code",
            "source": [
                "var newConfigExpected = (await workspace.Query<AocConfiguration>().ToArrayAsync()).First(x => ",
                "\n                         x.AocType == AocTypes.EV && x.Novelty == Novelties.N) with {AocType = \"A1\", Order = 131};",
                "\nvar newConfigCalculated = await workspace.Query<AocConfiguration>().Where(x => x == newConfigExpected).ToArrayAsync();",
                "\nnewConfigCalculated.Count().Should().Be(1);"
            ]
        },
        {
            "cell_type": "markdown",
            "source": [
                "## EV < NewAoc < WO"
            ]
        },
        {
            "cell_type": "code",
            "source": [
                "var aocConfigLog = await CheckAocConfigurationDefault( new[]{ new AocType{SystemName = \"A1\", DisplayName = \"a1\", Order = 116} } );",
                "\naocConfigLog.Errors.Any().Should().Be(false);"
            ]
        },
        {
            "cell_type": "code",
            "source": [
                "var newConfigExpected = (await workspace.Query<AocConfiguration>().ToArrayAsync()).First(x => ",
                "\n                         x.AocType == AocTypes.EV && x.Novelty == Novelties.I) with {AocType = \"A1\", Order = 91};",
                "\nvar newConfigCalculated = await workspace.Query<AocConfiguration>().Where(x => x == newConfigExpected).ToArrayAsync();",
                "\nnewConfigCalculated.Count().Should().Be(1);"
            ]
        },
        {
            "cell_type": "code",
            "source": [
                "var newConfigExpected = (await workspace.Query<AocConfiguration>().ToArrayAsync()).First(x => ",
                "\n                         x.AocType == AocTypes.EV && x.Novelty == Novelties.N) with {AocType = \"A1\", Order = 141};",
                "\nvar newConfigCalculated = await workspace.Query<AocConfiguration>().Where(x => x == newConfigExpected).ToArrayAsync();",
                "\nnewConfigCalculated.Count().Should().Be(1);"
            ]
        },
        {
            "cell_type": "markdown",
            "source": [
                "## WO < NewAoc < CL"
            ]
        },
        {
            "cell_type": "code",
            "source": [
                "var aocConfigLog = await CheckAocConfigurationDefault( new[]{ new AocType{SystemName = \"A1\", DisplayName = \"a1\", Order = 125} } );",
                "\naocConfigLog.Errors.Any().Should().Be(false);"
            ]
        },
        {
            "cell_type": "code",
            "source": [
                "var newConfigExpected = (await workspace.Query<AocConfiguration>().ToArrayAsync()).First(x => ",
                "\n                         x.AocType == AocTypes.WO && x.Novelty == Novelties.C) with {AocType = \"A1\", Order = 171};",
                "\nvar newConfigCalculated = await workspace.Query<AocConfiguration>().Where(x => x == newConfigExpected).ToArrayAsync();",
                "\nnewConfigCalculated.Count().Should().Be(1);"
            ]
        },
        {
            "cell_type": "markdown",
            "source": [
                "## Two or more Aoc Config with same Order"
            ]
        },
        {
            "cell_type": "code",
            "source": [
                "var aocConfigLog = await CheckAocConfigurationDefault( new[]{ new AocType{SystemName = \"A1\", DisplayName = \"a1\", Order = 111},",
                "\n                                                              new AocType{SystemName = \"A2\", DisplayName = \"a1\", Order = 112},",
                "\n                                                              new AocType{SystemName = \"A3\", DisplayName = \"a1\", Order = 113},",
                "\n                                                              new AocType{SystemName = \"A4\", DisplayName = \"a1\", Order = 114},",
                "\n                                                              new AocType{SystemName = \"A5\", DisplayName = \"a1\", Order = 115} } );",
                "\n(aocConfigLog.Errors.First().ToString() == \"ActivityMessageNotification { Message = Two or more Aoc Configurations have the same Order. }\").Should().Be(true);"
            ]
        },
        {
            "cell_type": "code",
            "source": [
                ""
            ]
        }
    ]
}