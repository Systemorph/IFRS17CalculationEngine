{
    "metadata": {
        "authors": [],
        "id": "VfWtlFCxmU6_3pZQBTUVxg",
        "kernelspec": {
            "display_name": "Formula Framework",
            "language": "C#",
            "name": "C#"
        },
        "language_info": {
            "file_extension": ".cs",
            "mimetype": "text/plain",
            "name": "C#"
        }
    },
    "nbformat": 4,
    "nbformat_minor": 5,
    "cells": [
        {
            "cell_type": "markdown",
            "source": [
                "<p style=\"font-weight:bold;\"> <span style=\"font-size: 36px\"> Test AoC Configuration </span> </p>"
            ],
            "metadata": {},
            "execution_count": 0,
            "outputs": []
        },
        {
            "cell_type": "code",
            "source": [
                "#!import \"../CalculationEngine\""
            ],
            "metadata": {},
            "execution_count": 0,
            "outputs": []
        },
        {
            "cell_type": "markdown",
            "source": [
                "# Workspace Initialization "
            ],
            "metadata": {},
            "execution_count": 0,
            "outputs": []
        },
        {
            "cell_type": "code",
            "source": [
                "DataSource.Reset();"
            ],
            "metadata": {},
            "execution_count": 0,
            "outputs": []
        },
        {
            "cell_type": "code",
            "source": [
                "string novelties = ",
                "\n@\"@@Novelty",
                "\nSystemName,DisplayName,Parent,Order",
                "\nI,In Force,,1",
                "\nN,New Business,,10",
                "\nC,Combined,,20\";"
            ],
            "metadata": {},
            "execution_count": 0,
            "outputs": []
        },
        {
            "cell_type": "code",
            "source": [
                "await Import.FromString(novelties).WithType<Novelty>().WithTarget(DataSource).ExecuteAsync()"
            ],
            "metadata": {},
            "execution_count": 0,
            "outputs": []
        },
        {
            "cell_type": "code",
            "source": [
                "var workspace = Workspace.CreateNew();",
                "\nworkspace.InitializeFrom(DataSource);"
            ],
            "metadata": {},
            "execution_count": 0,
            "outputs": []
        },
        {
            "cell_type": "code",
            "source": [
                "await workspace.UpdateAsync(typeof(StructureTypes).GetFields().Select(fi => ",
                "\n    new StructureType { SystemName = (string) fi.GetValue(null), DisplayName = fi.Name })",
                "\n);"
            ],
            "metadata": {},
            "execution_count": 0,
            "outputs": []
        },
        {
            "cell_type": "markdown",
            "source": [
                "# Canonical AoC Types and Configurations"
            ],
            "metadata": {},
            "execution_count": 0,
            "outputs": []
        },
        {
            "cell_type": "code",
            "source": [
                "string canonicalAocTypes = ",
                "\n@\"@@AocType,,,,,,,,,,,",
                "\nSystemName,DisplayName,Parent,Order,,,,,,,,",
                "\nBOP,Opening Balance,,10,,,,,,,,",
                "\nMC,Model Correction,,20,,,,,,,,",
                "\nPC,Portfolio Changes,,30,,,,,,,,",
                "\nRCU,Reinsurance Coverage Update,PC,40,,,,,,,,",
                "\nCF,Cash flow,,50,,,,,,,,",
                "\nIA,Interest Accretion,,60,,,,,,,,",
                "\nAU,Assumption Update,,70,,,,,,,,",
                "\nFAU,Financial Assumption Update,,80,,,,,,,,",
                "\nYCU,Yield Curve Update,FAU,90,,,,,,,,",
                "\nCRU,Credit Risk Update,FAU,100,,,,,,,,",
                "\nEV,Experience Variance,,110,,,,,,,,",
                "\nCL,Combined Liabilities,,130,,,,,,,,",
                "\nEA,Experience Adjustment,,140,,,,,,,,",
                "\nAM,Amortization,,150,,,,,,,,",
                "\nWO,Write-Off,,155,,,,,,,,",
                "\nEOP,Closing Balance,,170,,,,,,,,\";"
            ],
            "metadata": {},
            "execution_count": 0,
            "outputs": []
        },
        {
            "cell_type": "code",
            "source": [
                "string canonicalAocConfig = ",
                "\n@\"@@AocConfiguration,,,,,,,,,,,,",
                "\nAocType,Novelty,DataType,InputSource,StructureType,FxPeriod,YcPeriod,CdrPeriod,ValuationPeriod,RcPeriod,Order,Year,Month",
                "\nBOP,I,17,7,PV|AC|TM,BeginningOfPeriod,BeginningOfPeriod,BeginningOfPeriod,BeginningOfPeriod,BeginningOfPeriod,10,1900,1",
                "\nMC,I,1,4,PV|TM,BeginningOfPeriod,BeginningOfPeriod,BeginningOfPeriod,BeginningOfPeriod,BeginningOfPeriod,20,1900,1",
                "\nRCU,I,4,4,TM,BeginningOfPeriod,BeginningOfPeriod,BeginningOfPeriod,BeginningOfPeriod,EndOfPeriod,30,1900,1",
                "\nCF,I,20,4,PV,Average,NotApplicable,BeginningOfPeriod,Delta,EndOfPeriod,40,1900,1",
                "\nIA,I,20,5,PV|TM,Average,BeginningOfPeriod,BeginningOfPeriod,Delta,EndOfPeriod,50,1900,1",
                "\nAU,I,1,4,PV|TM,EndOfPeriod,BeginningOfPeriod,BeginningOfPeriod,EndOfPeriod,EndOfPeriod,60,1900,1",
                "\nYCU,I,8,4,PV|TM,EndOfPeriod,EndOfPeriod,BeginningOfPeriod,EndOfPeriod,EndOfPeriod,70,1900,1",
                "\nCRU,I,8,4,PV|TM,EndOfPeriod,EndOfPeriod,EndOfPeriod,EndOfPeriod,EndOfPeriod,80,1900,1",
                "\nEV,I,1,4,PV|TM,EndOfPeriod,EndOfPeriod,EndOfPeriod,EndOfPeriod,EndOfPeriod,90,1900,1",
                "\nBOP,N,1,4,PV|TM,Average,EndOfPeriod,EndOfPeriod,BeginningOfPeriod,EndOfPeriod,100,1900,1",
                "\nMC,N,1,4,PV|TM,Average,EndOfPeriod,EndOfPeriod,BeginningOfPeriod,EndOfPeriod,105,1900,1",
                "\nCF,N,4,4,PV,Average,NotApplicable,EndOfPeriod,Delta,EndOfPeriod,110,1900,1",
                "\nIA,N,4,4,PV|TM,Average,EndOfPeriod,EndOfPeriod,Delta,EndOfPeriod,120,1900,1",
                "\nAU,N,1,4,PV|TM,EndOfPeriod,EndOfPeriod,EndOfPeriod,EndOfPeriod,EndOfPeriod,130,1900,1",
                "\nEV,N,1,4,PV|TM,EndOfPeriod,EndOfPeriod,EndOfPeriod,EndOfPeriod,EndOfPeriod,140,1900,1",
                "\nCL,C,2,4,PV|TM,EndOfPeriod,EndOfPeriod,EndOfPeriod,EndOfPeriod,EndOfPeriod,180,1900,1",
                "\nEA,C,4,4,TM,EndOfPeriod,NotApplicable,NotApplicable,NotApplicable,EndOfPeriod,190,1900,1",
                "\nCF,C,17,6,AC,Average,NotApplicable,NotApplicable,NotApplicable,NotApplicable,193,1900,1",
                "\nWO,C,17,2,AC,Average,NotApplicable,NotApplicable,NotApplicable,NotApplicable,195,1900,1",
                "\nAM,C,4,6,TM,EndOfPeriod,NotApplicable,NotApplicable,NotApplicable,EndOfPeriod,200,1900,1",
                "\nEOP,C,4,6,PV|AC|TM,EndOfPeriod,EndOfPeriod,EndOfPeriod,EndOfPeriod,EndOfPeriod,220,1900,1\";"
            ],
            "metadata": {},
            "execution_count": 0,
            "outputs": []
        },
        {
            "cell_type": "markdown",
            "source": [
                "# Test"
            ],
            "metadata": {},
            "execution_count": 0,
            "outputs": []
        },
        {
            "cell_type": "code",
            "source": [
                "public async Task<ActivityLog> CheckAocConfigurationDefault(AocType[] newAocTypes)",
                "\n{",
                "\n    await workspace.DeleteAsync<AocType>( await workspace.Query<AocType>().ToArrayAsync() );",
                "\n    await workspace.DeleteAsync<AocConfiguration>( await workspace.Query<AocConfiguration>().ToArrayAsync() );",
                "\n    await workspace.CommitAsync();",
                "\n",
                "\n    var aocTypeLog = await Import.FromString(canonicalAocTypes).WithType<AocType>().WithTarget(workspace).ExecuteAsync();",
                "\n    aocTypeLog.Errors.Any().Should().Be(false);",
                "\n",
                "\n    await workspace.UpdateAsync(newAocTypes);",
                "\n    await workspace.CommitAsync();",
                "\n",
                "\n    return await Import.FromString(canonicalAocConfig).WithFormat(\"AocConfiguration\").WithTarget(workspace).ExecuteAsync();",
                "\n}"
            ],
            "metadata": {},
            "execution_count": 0,
            "outputs": []
        },
        {
            "cell_type": "markdown",
            "source": [
                "## NewAoC < RCU"
            ],
            "metadata": {},
            "execution_count": 0,
            "outputs": []
        },
        {
            "cell_type": "code",
            "source": [
                "var aocConfigLog = await CheckAocConfigurationDefault( new[]{ new AocType{SystemName = \"A1\", DisplayName = \"a1\", Order = 25} } );",
                "\naocConfigLog.Errors.Any().Should().Be(false);"
            ],
            "metadata": {},
            "execution_count": 0,
            "outputs": []
        },
        {
            "cell_type": "code",
            "source": [
                "var newConfigExpected = (await workspace.Query<AocConfiguration>().ToArrayAsync()).First(x => ",
                "\n                         x.AocType == AocTypes.MC && x.Novelty == Novelties.I) with {AocType = \"A1\", Order = 21, DataType = DataType.Optional};",
                "\nvar newConfigCalculated = await workspace.Query<AocConfiguration>().Where(x => x == newConfigExpected).ToArrayAsync();",
                "\nnewConfigCalculated.Count().Should().Be(1);"
            ],
            "metadata": {},
            "execution_count": 0,
            "outputs": []
        },
        {
            "cell_type": "markdown",
            "source": [
                "## RCU < NewAoC < CF"
            ],
            "metadata": {},
            "execution_count": 0,
            "outputs": []
        },
        {
            "cell_type": "code",
            "source": [
                "var aocConfigLog = await CheckAocConfigurationDefault( new[]{ new AocType{SystemName = \"A1\", DisplayName = \"a1\", Order = 45} } );",
                "\naocConfigLog.Errors.Any().Should().Be(false);"
            ],
            "metadata": {},
            "execution_count": 0,
            "outputs": []
        },
        {
            "cell_type": "code",
            "source": [
                "var newConfigExpected = (await workspace.Query<AocConfiguration>().ToArrayAsync()).First(x => ",
                "\n                         x.AocType == AocTypes.RCU && x.Novelty == Novelties.I) with {AocType = \"A1\", Order = 31, DataType = DataType.Optional};",
                "\nvar newConfigCalculated = await workspace.Query<AocConfiguration>().Where(x => x == newConfigExpected).ToArrayAsync();",
                "\nnewConfigCalculated.Count().Should().Be(1);"
            ],
            "metadata": {},
            "execution_count": 0,
            "outputs": []
        },
        {
            "cell_type": "markdown",
            "source": [
                "## IA < NewAoC < YCU"
            ],
            "metadata": {},
            "execution_count": 0,
            "outputs": []
        },
        {
            "cell_type": "code",
            "source": [
                "var aocConfigLog = await CheckAocConfigurationDefault( new[]{ new AocType{SystemName = \"A1\", DisplayName = \"a1\", Order = 82} } );",
                "\naocConfigLog.Errors.Any().Should().Be(false);"
            ],
            "metadata": {},
            "execution_count": 0,
            "outputs": []
        },
        {
            "cell_type": "code",
            "source": [
                "var newConfigExpected = (await workspace.Query<AocConfiguration>().ToArrayAsync()).First(x => ",
                "\n                         x.AocType == AocTypes.AU && x.Novelty == Novelties.I) with {AocType = \"A1\", Order = 61, DataType = DataType.Optional};",
                "\nvar newConfigCalculated = await workspace.Query<AocConfiguration>().Where(x => x == newConfigExpected).ToArrayAsync();",
                "\nnewConfigCalculated.Count().Should().Be(1);"
            ],
            "metadata": {},
            "execution_count": 0,
            "outputs": []
        },
        {
            "cell_type": "code",
            "source": [
                "var newConfigExpected = (await workspace.Query<AocConfiguration>().ToArrayAsync()).First(x => ",
                "\n                         x.AocType == AocTypes.AU && x.Novelty == Novelties.N) with {AocType = \"A1\", Order = 131, DataType = DataType.Optional};",
                "\nvar newConfigCalculated = await workspace.Query<AocConfiguration>().Where(x => x == newConfigExpected).ToArrayAsync();",
                "\nnewConfigCalculated.Count().Should().Be(1);"
            ],
            "metadata": {},
            "execution_count": 0,
            "outputs": []
        },
        {
            "cell_type": "markdown",
            "source": [
                "## CRU < NewAoC < EV"
            ],
            "metadata": {},
            "execution_count": 0,
            "outputs": []
        },
        {
            "cell_type": "code",
            "source": [
                "var aocConfigLog = await CheckAocConfigurationDefault( new[]{ new AocType{SystemName = \"A1\", DisplayName = \"a1\", Order = 106} } );",
                "\naocConfigLog.Errors.Any().Should().Be(false);"
            ],
            "metadata": {},
            "execution_count": 0,
            "outputs": []
        },
        {
            "cell_type": "code",
            "source": [
                "var newConfigExpected = (await workspace.Query<AocConfiguration>().ToArrayAsync()).First(x => ",
                "\n                         x.AocType == AocTypes.EV && x.Novelty == Novelties.I) with {AocType = \"A1\", Order = 81};",
                "\nvar newConfigCalculated = await workspace.Query<AocConfiguration>().Where(x => x == newConfigExpected).ToArrayAsync();",
                "\nnewConfigCalculated.Count().Should().Be(1);"
            ],
            "metadata": {},
            "execution_count": 0,
            "outputs": []
        },
        {
            "cell_type": "code",
            "source": [
                "var newConfigExpected = (await workspace.Query<AocConfiguration>().ToArrayAsync()).First(x => ",
                "\n                         x.AocType == AocTypes.EV && x.Novelty == Novelties.N) with {AocType = \"A1\", Order = 131};",
                "\nvar newConfigCalculated = await workspace.Query<AocConfiguration>().Where(x => x == newConfigExpected).ToArrayAsync();",
                "\nnewConfigCalculated.Count().Should().Be(1);"
            ],
            "metadata": {},
            "execution_count": 0,
            "outputs": []
        },
        {
            "cell_type": "markdown",
            "source": [
                "## EV < NewAoC < WO"
            ],
            "metadata": {},
            "execution_count": 0,
            "outputs": []
        },
        {
            "cell_type": "code",
            "source": [
                "var aocConfigLog = await CheckAocConfigurationDefault( new[]{ new AocType{SystemName = \"A1\", DisplayName = \"a1\", Order = 116} } );",
                "\naocConfigLog.Errors.Any().Should().Be(false);"
            ],
            "metadata": {},
            "execution_count": 0,
            "outputs": []
        },
        {
            "cell_type": "code",
            "source": [
                "var newConfigExpected = (await workspace.Query<AocConfiguration>().ToArrayAsync()).First(x => ",
                "\n                         x.AocType == AocTypes.EV && x.Novelty == Novelties.I) with {AocType = \"A1\", Order = 91};",
                "\nvar newConfigCalculated = await workspace.Query<AocConfiguration>().Where(x => x == newConfigExpected).ToArrayAsync();",
                "\nnewConfigCalculated.Count().Should().Be(1);"
            ],
            "metadata": {},
            "execution_count": 0,
            "outputs": []
        },
        {
            "cell_type": "code",
            "source": [
                "var newConfigExpected = (await workspace.Query<AocConfiguration>().ToArrayAsync()).First(x => ",
                "\n                         x.AocType == AocTypes.EV && x.Novelty == Novelties.N) with {AocType = \"A1\", Order = 141};",
                "\nvar newConfigCalculated = await workspace.Query<AocConfiguration>().Where(x => x == newConfigExpected).ToArrayAsync();",
                "\nnewConfigCalculated.Count().Should().Be(1);"
            ],
            "metadata": {},
            "execution_count": 0,
            "outputs": []
        },
        {
            "cell_type": "markdown",
            "source": [
                "## WO < NewAoC < CL"
            ],
            "metadata": {},
            "execution_count": 0,
            "outputs": []
        },
        {
            "cell_type": "code",
            "source": [
                "var aocConfigLog = await CheckAocConfigurationDefault( new[]{ new AocType{SystemName = \"A1\", DisplayName = \"a1\", Order = 152} } );",
                "\naocConfigLog.Errors.Any().Should().Be(false);"
            ],
            "metadata": {},
            "execution_count": 0,
            "outputs": []
        },
        {
            "cell_type": "code",
            "source": [
                "var newConfigExpected = (await workspace.Query<AocConfiguration>().ToArrayAsync()).First(x => ",
                "\n                         x.AocType == AocTypes.WO && x.Novelty == Novelties.C) with {AocType = \"A1\", Order = 196};",
                "\nvar newConfigCalculated = await workspace.Query<AocConfiguration>().Where(x => x == newConfigExpected).ToArrayAsync();"
            ],
            "metadata": {},
            "execution_count": 0,
            "outputs": []
        },
        {
            "cell_type": "code",
            "source": [
                "newConfigCalculated.Count().Should().Be(1);"
            ],
            "metadata": {},
            "execution_count": 0,
            "outputs": []
        },
        {
            "cell_type": "markdown",
            "source": [
                "## Two or more AoC Config with same Order"
            ],
            "metadata": {},
            "execution_count": 0,
            "outputs": []
        },
        {
            "cell_type": "code",
            "source": [
                "var aocConfigLog = await CheckAocConfigurationDefault( new[]{ new AocType{SystemName = \"A1\", DisplayName = \"a1\", Order = 111},",
                "\n                                                              new AocType{SystemName = \"A2\", DisplayName = \"a1\", Order = 112},",
                "\n                                                              new AocType{SystemName = \"A3\", DisplayName = \"a1\", Order = 113},",
                "\n                                                              new AocType{SystemName = \"A4\", DisplayName = \"a1\", Order = 114},",
                "\n                                                              new AocType{SystemName = \"A5\", DisplayName = \"a1\", Order = 115},",
                "\n                                                               } );",
                "\n"
            ],
            "metadata": {},
            "execution_count": 0,
            "outputs": []
        },
        {
            "cell_type": "code",
            "source": [
                "(aocConfigLog.Errors.First().ToString() == \"ActivityMessageNotification { Message = Two or more AoC Configurations have the same Order. }\")",
                "\n.Should().Be(true);"
            ],
            "metadata": {},
            "execution_count": 0,
            "outputs": []
        },
        {
            "cell_type": "code",
            "source": [
                "workspace.Dispose()"
            ],
            "metadata": {},
            "execution_count": 0,
            "outputs": []
        },
        {
            "cell_type": "code",
            "source": [
                ""
            ],
            "metadata": {},
            "execution_count": 0,
            "outputs": []
        }
    ]
}