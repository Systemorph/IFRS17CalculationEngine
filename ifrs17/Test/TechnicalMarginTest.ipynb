{
    "metadata": {
        "authors": [],
        "id": "OJ1IUniidUKv0PyIHZFe6w",
        "kernelspec": {
            "display_name": "Formula Framework",
            "language": "C#",
            "name": "C#"
        },
        "language_info": {
            "file_extension": ".cs",
            "mimetype": "text/plain",
            "name": "C#"
        }
    },
    "nbformat": 4,
    "nbformat_minor": 5,
    "cells": [
        {
            "cell_type": "markdown",
            "source": [
                "<p style=\"font-weight:bold;\"> <span style=\"font-size: 36px\"> Technical Margin Allocation</span> </p>"
            ],
            "metadata": {},
            "execution_count": 0,
            "outputs": []
        },
        {
            "cell_type": "code",
            "source": [
                "#!import \"../Import/Importers\"",
                "\n#!import \"TestData\""
            ],
            "metadata": {},
            "execution_count": 0,
            "outputs": []
        },
        {
            "cell_type": "markdown",
            "source": [
                "# Workspace Initialization "
            ],
            "metadata": {},
            "execution_count": 0,
            "outputs": []
        },
        {
            "cell_type": "code",
            "source": [
                "await Import.FromString(novelties).WithType<Novelty>().WithTarget(DataSource).ExecuteAsync();",
                "\nawait Import.FromString(canonicalAocTypes).WithType<AocType>().WithTarget(DataSource).ExecuteAsync();",
                "\nawait Import.FromString(canonicalAocConfig).WithFormat(ImportFormats.AocConfiguration).WithTarget(DataSource).ExecuteAsync();"
            ],
            "metadata": {},
            "execution_count": 0,
            "outputs": []
        },
        {
            "cell_type": "code",
            "source": [
                "await DataSource.UpdateAsync<Portfolio>(new []{dt1, dtr1});",
                "\nawait DataSource.UpdateAsync<GroupOfContract>(new[]{dt11});",
                "\nawait DataSource.UpdateAsync<GroupOfReinsuranceContract>(new[]{dtr11});",
                "\nawait DataSource.UpdateAsync(new[]{dt11State, dtr11State});",
                "\nawait DataSource.UpdateAsync(new[]{dt11SingleParameter});",
                "\nawait DataSource.UpdateAsync(new[]{dt11Inter});"
            ],
            "metadata": {},
            "execution_count": 0,
            "outputs": []
        },
        {
            "cell_type": "code",
            "source": [
                "await Import.FromString(amountType).WithType<AmountType>().WithTarget(DataSource).ExecuteAsync();",
                "\nawait Import.FromString(estimateType).WithType<EstimateType>().WithTarget(DataSource).ExecuteAsync();"
            ],
            "metadata": {},
            "execution_count": 0,
            "outputs": []
        },
        {
            "cell_type": "code",
            "source": [
                "await Import.FromString(projectionConfiguration).WithType<ProjectionConfiguration>().WithTarget(DataSource).ExecuteAsync();"
            ],
            "metadata": {},
            "execution_count": 0,
            "outputs": []
        },
        {
            "cell_type": "code",
            "source": [
                "await DataSource.UpdateAsync(new [ ] {yieldCurve, yieldCurvePrevious});"
            ],
            "metadata": {},
            "execution_count": 0,
            "outputs": []
        },
        {
            "cell_type": "code",
            "source": [
                "Workspace.Initialize(x => x.FromSource(DataSource).DisableInitialization<RawVariable>().DisableInitialization<IfrsVariable>());"
            ],
            "metadata": {},
            "execution_count": 0,
            "outputs": []
        },
        {
            "cell_type": "code",
            "source": [
                "await DataSource.UpdateAsync<PartitionByReportingNode>(partitionReportingNode.RepeatOnce());",
                "\nawait DataSource.UpdateAsync<PartitionByReportingNodeAndPeriod>(previousPeriodPartition.RepeatOnce());",
                "\nawait DataSource.UpdateAsync<PartitionByReportingNodeAndPeriod>(partition.RepeatOnce());"
            ],
            "metadata": {},
            "execution_count": 0,
            "outputs": []
        },
        {
            "cell_type": "markdown",
            "source": [
                "# Test Runner"
            ],
            "metadata": {},
            "execution_count": 0,
            "outputs": []
        },
        {
            "cell_type": "markdown",
            "source": [
                "## Error logger",
                "\nIt compares the result of a calculation of a single Group of Contract against benchmarks and logs the errors."
            ],
            "metadata": {},
            "execution_count": 0,
            "outputs": []
        },
        {
            "cell_type": "code",
            "source": [
                "public async Task<List<string>> ErrorLoggerAsync(IEnumerable<AllocateTechnicalMargin> csm, ",
                "\n                                                 IEnumerable<AllocateTechnicalMargin> loss, ",
                "\n                                                 Dictionary<AocStep,(double valueCsm, double valueLoss)> csmBenchmark, ",
                "\n                                                 Dictionary<AocStep,(double valueCsm, double valueLoss)> lossBenchmark)",
                "\n{",
                "\n    var errors = new List<string>();",
                "\n    if(csm.Count() > csmBenchmark.Count()) ",
                "\n    {",
                "\n        var extraVariables = csm.Where(x => !csmBenchmark.Keys.Contains(new AocStep(x.Identity.AocType, x.Identity.Novelty)))",
                "\n            .Select(x => $\"AocType:{x.Identity.AocType}, Novelty:{x.Identity.Novelty}, EstimateType:{x.EstimateType}, Value:{x.Value}.\");",
                "\n        errors.Add( $\"{nameof(AllocateTechnicalMargin)} scope for CSM has more non zero items than benchmark. Extra computed variables : \\n {string.Join(\"\\n\", extraVariables)}.\" );",
                "\n    }",
                "\n    if(loss.Count() > lossBenchmark.Count()) ",
                "\n    {",
                "\n        var extraVariables = loss.Where(x => !lossBenchmark.Keys.Contains(new AocStep(x.Identity.AocType, x.Identity.Novelty)))",
                "\n            .Select(x => $\"AocType:{x.Identity.AocType}, Novelty:{x.Identity.Novelty}, EstimateType:{x.EstimateType}, Value:{x.Value}, \");",
                "\n        errors.Add( $\"{nameof(AllocateTechnicalMargin)} scope for LOSS(LC/LoReCo) has more non zero items compared to benchmark: \\n {string.Join(\"\\n\", extraVariables)}.\" );",
                "\n    }",
                "\n    ",
                "\n    //Check ValueCsm",
                "\n    foreach(var kvp in csmBenchmark)",
                "\n    {",
                "\n        var scopeSwitch = csm.SingleOrDefault(y => y.Identity.AocType == kvp.Key.AocType && y.Identity.Novelty == kvp.Key.Novelty);",
                "\n        ",
                "\n        if(scopeSwitch == null)",
                "\n        {",
                "\n            errors.Add( $\"Missing calculated scope for AocType and Novelty: {kvp.Key.AocType}, {kvp.Key.Novelty}.\" );",
                "\n            continue;",
                "\n        }",
                "\n        ",
                "\n        if(Math.Abs(-1.0 * scopeSwitch.Value - kvp.Value.valueCsm) > Precision) ",
                "\n            errors.Add( $\"Values not matching for AocType {kvp.Key.AocType} and Novelty {kvp.Key.Novelty}. Scope: Csm {-1 * scopeSwitch.Value}; Benchmark: Csm {kvp.Value.valueCsm}.\" );",
                "\n    }",
                "\n    //Check ValueLoss",
                "\n    foreach(var kvp in lossBenchmark)",
                "\n    {",
                "\n        var scopeSwitch = loss.SingleOrDefault(y => y.Identity.AocType == kvp.Key.AocType && y.Identity.Novelty == kvp.Key.Novelty);",
                "\n        ",
                "\n        if(scopeSwitch == null)",
                "\n        {",
                "\n            errors.Add( $\"Missing calculated scope for AocType and Novelty: {kvp.Key.AocType}, {kvp.Key.Novelty}.\" );",
                "\n            continue;",
                "\n        }",
                "\n        ",
                "\n        if(Math.Abs(scopeSwitch.Value - kvp.Value.valueLoss) > Precision) ",
                "\n            errors.Add( $\"Values not matching for AocType {kvp.Key.AocType} and Novelty {kvp.Key.Novelty}. Scope: Lc/LoReCo {scopeSwitch.Value}; Benchmark: Lc/LoReCo {kvp.Value.valueLoss}.\" );",
                "\n    }",
                "\n    ",
                "\n    return errors;",
                "\n}"
            ],
            "metadata": {},
            "execution_count": 0,
            "outputs": []
        },
        {
            "cell_type": "markdown",
            "source": [
                "## Computation runner"
            ],
            "metadata": {},
            "execution_count": 0,
            "outputs": []
        },
        {
            "cell_type": "code",
            "source": [
                "public async Task<(IEnumerable<AllocateTechnicalMargin>,IEnumerable<AllocateTechnicalMargin>)> ComputeScopesAsync (IEnumerable<IfrsVariable> inputDataSet,",
                "\n                                                                                                                   Guid partitionId, ",
                "\n                                                                                                                   string primaryDataNode)",
                "\n{",
                "\n    await Workspace.DeleteAsync<IfrsVariable>(await Workspace.Query<IfrsVariable>().ToArrayAsync());",
                "\n    await Workspace.UpdateAsync<IfrsVariable>(inputDataSet);",
                "\n",
                "\n    var partition = (await Workspace.Query<PartitionByReportingNodeAndPeriod>().ToArrayAsync()).Single(x => x.Id == partitionId);",
                "\n    var args = new ImportArgs(partition.ReportingNode, partition.Year, partition.Month, Periodicity.Quarterly, partition.Scenario, ImportFormats.Actual);",
                "\n    var testStorage = new ImportStorage(args, DataSource, Workspace);",
                "\n    await testStorage.InitializeAsync();",
                "\n    var testUniverse = Scopes.ForStorage(testStorage).ToScope<IModel>();",
                "\n    var identities = testUniverse.GetScopes<GetIdentities>(testStorage.DataNodesByImportScope[ImportScope.Primary].Where(dn => dn == primaryDataNode)).SelectMany(s => s.Identities);",
                "\n    var csm = testUniverse.GetScopes<AllocateTechnicalMargin>(identities, o => o.WithContext(EstimateTypes.C)).Where(x => Math.Abs(x.Value) > Precision);",
                "\n    IEnumerable<AllocateTechnicalMargin> loss = Enumerable.Empty<AllocateTechnicalMargin>();",
                "\n    if (primaryDataNode == groupOfInsuranceContracts) loss = testUniverse.GetScopes<AllocateTechnicalMargin>(identities, o => o.WithContext(EstimateTypes.L)).Where(x => Math.Abs(x.Value) > Precision);",
                "\n    if (primaryDataNode == groupOfReinsuranceContracts) loss = testUniverse.GetScopes<AllocateTechnicalMargin>(identities, o => o.WithContext(EstimateTypes.LR)).Where(x => Math.Abs(x.Value) > Precision);",
                "\n    ",
                "\n    await Workspace.DeleteAsync<IfrsVariable>(await Workspace.Query<IfrsVariable>().ToArrayAsync());",
                "\n",
                "\n    return (csm, loss);",
                "\n}"
            ],
            "metadata": {},
            "execution_count": 0,
            "outputs": []
        },
        {
            "cell_type": "markdown",
            "source": [
                "## Test runner ",
                "\nProvided inputs and benchmarks computes the results and calls the error logger routine."
            ],
            "metadata": {},
            "execution_count": 0,
            "outputs": []
        },
        {
            "cell_type": "code",
            "source": [
                "public async Task<ActivityLog> CheckSwitchLogicAsync(IEnumerable<IfrsVariable> inputDataSet, ",
                "\n                                                     Dictionary<AocStep,(double valueCsm, double valueLoss)> csmLcSwitchBenchmark,",
                "\n                                                     Dictionary<AocStep,(double valueCsm, double valueLoss)> reinsuranceCsmLcSwitchBenchmark = null)",
                "\n{",
                "\n    Activity.Start();",
                "\n    //SET UP COMPUTATION",
                "\n    var gross = (await DataSource.Query<GroupOfInsuranceContract>().ToArrayAsync()).Select(x => x.SystemName);",
                "\n    var dn = inputDataSet.Select(x => x.DataNode).ToHashSet();",
                "\n    var dnByType = dn.ToDictionary(x => gross.Contains(x) ? nameof(GroupOfInsuranceContract) : nameof(GroupOfReinsuranceContract), x => x);",
                "\n    var partitionId = inputDataSet.First().Partition;",
                "\n    ",
                "\n    //Gross",
                "\n    var errorsGross = new List<string>();",
                "\n    if(dnByType.TryGetValue(nameof(GroupOfInsuranceContract), out var primaryDataNode)){",
                "\n        //set up bm",
                "\n        var csmBenchmark = csmLcSwitchBenchmark.Where(x => Math.Abs(x.Value.valueCsm) > Precision).ToDictionary(x => x.Key, x => x.Value);",
                "\n        var lossBenchmark = csmLcSwitchBenchmark.Where(x => Math.Abs(x.Value.valueLoss) > Precision).ToDictionary(x => x.Key, x => x.Value);",
                "\n        //Set up import storage and test universe",
                "\n        var (csm, loss) = await ComputeScopesAsync(inputDataSet, partitionId, primaryDataNode);",
                "\n        errorsGross = await ErrorLoggerAsync(csm, loss, csmBenchmark, lossBenchmark);",
                "\n    }",
                "\n",
                "\n    //Reinsurance ",
                "\n    var errorsReins = new List<string>();",
                "\n    if(dnByType.TryGetValue(nameof(GroupOfReinsuranceContract), out primaryDataNode)){",
                "\n        //set up bm",
                "\n        var csmBenchmark = reinsuranceCsmLcSwitchBenchmark.Where(x => Math.Abs(x.Value.valueCsm) > Precision).ToDictionary(x => x.Key, x => x.Value);",
                "\n        var lossBenchmark = reinsuranceCsmLcSwitchBenchmark.Where(x => Math.Abs(x.Value.valueLoss) > Precision).ToDictionary(x => x.Key, x => x.Value);",
                "\n        //Set up import storage and test universe",
                "\n        var (csm, loss) = await ComputeScopesAsync(inputDataSet, partitionId, primaryDataNode);",
                "\n        errorsReins = await ErrorLoggerAsync(csm, loss, csmBenchmark, lossBenchmark);",
                "\n    }",
                "\n",
                "\n    //Clean up Workspace",
                "\n    await Workspace.DeleteAsync<IfrsVariable>(await Workspace.Query<IfrsVariable>().ToArrayAsync());",
                "\n    //await Workspace.DeleteAsync<IfrsVariable>(inputDataSet);",
                "\n    ",
                "\n    if(errorsGross.Any()) ApplicationMessage.Log(Error.Generic, string.Join(\"Gross Errors: \\n\", errorsGross));",
                "\n    if(errorsReins.Any()) ApplicationMessage.Log(Error.Generic, string.Join(\"Reinsurance Errors : \\n\", errorsReins));",
                "\n    ",
                "\n    return Activity.Finish();",
                "\n}"
            ],
            "metadata": {},
            "execution_count": 0,
            "outputs": []
        },
        {
            "cell_type": "markdown",
            "source": [
                "# Use cases"
            ],
            "metadata": {},
            "execution_count": 0,
            "outputs": []
        },
        {
            "cell_type": "markdown",
            "source": [
                "## Gross, no switch "
            ],
            "metadata": {},
            "execution_count": 0,
            "outputs": []
        },
        {
            "cell_type": "code",
            "source": [
                "var basicIfrsVariable = new IfrsVariable{Partition = previousPeriodPartition.Id, DataNode = groupOfInsuranceContracts, AccidentYear = null, AmountType = \"PR\", EstimateType = \"BE\", EconomicBasis = \"L\"};",
                "\nvar inputDataSet = new IfrsVariable[]{",
                "\n    basicIfrsVariable with {AocType = \"BOP\", Novelty = \"N\", Values = new double[] {100.0}},",
                "\n    basicIfrsVariable with {AocType = \"CF\", Novelty = \"N\", Values = new double[] {-10.0}},",
                "\n    basicIfrsVariable with {AocType = \"IA\", Novelty = \"N\", Values = new double[] {15.0}},",
                "\n    basicIfrsVariable with {AocType = \"EV\", Novelty = \"N\", Values = new double[] {100.0}},",
                "\n    basicIfrsVariable with {AocType = \"CL\", Novelty = \"C\", Values = new double[] {100.0}},",
                "\n    basicIfrsVariable with {AocType = \"AM\", Novelty = \"C\", Values = new double[] {0.5}, EstimateType = \"F\", AmountType = null},",
                "\n  };",
                "\n",
                "\nvar csmLcSwitch_benchmark = new Dictionary<AocStep,(double valueCsm, double valueLc)>()",
                "\n    {",
                "\n        {new AocStep(\"BOP\",\"N\"),(0d, 100d)},",
                "\n        {new AocStep(\"IA\",\"N\"), (0d,  15d)},",
                "\n        {new AocStep(\"EV\",\"N\"), (0d, 100d)},",
                "\n        {new AocStep(\"CL\",\"C\"), (0d, 100d)},",
                "\n        {new AocStep(\"EA\",\"C\"), (0d, -8.0)},",
                "\n        {new AocStep(\"AM\",\"C\"), (0d, -153.5)},",
                "\n        {new AocStep(\"EOP\",\"C\"),(0d, 153.5)},",
                "\n    };",
                "\n",
                "\nvar activity = await CheckSwitchLogicAsync(inputDataSet, csmLcSwitch_benchmark);",
                "\nactivity"
            ],
            "metadata": {},
            "execution_count": 0,
            "outputs": []
        },
        {
            "cell_type": "code",
            "source": [
                "activity.Status.Should().Be(ActivityLogStatus.Succeeded);"
            ],
            "metadata": {},
            "execution_count": 0,
            "outputs": []
        },
        {
            "cell_type": "markdown",
            "source": [
                "## Gross switch at CL"
            ],
            "metadata": {},
            "execution_count": 0,
            "outputs": []
        },
        {
            "cell_type": "code",
            "source": [
                "var basicIfrsVariable = new IfrsVariable{Partition = previousPeriodPartition.Id, DataNode = groupOfInsuranceContracts, AccidentYear = null, AmountType = \"PR\", EstimateType = \"BE\", EconomicBasis = \"L\"};",
                "\nvar inputDataSet = new IfrsVariable[]{",
                "\n    basicIfrsVariable with {AocType = \"BOP\", Novelty = \"N\", Values = new double[] {100.0}},",
                "\n    basicIfrsVariable with {AocType = \"CF\", Novelty = \"N\", Values = new double[] {-10.0}},",
                "\n    basicIfrsVariable with {AocType = \"IA\", Novelty = \"N\", Values = new double[] {15.0}},",
                "\n    basicIfrsVariable with {AocType = \"EV\", Novelty = \"N\", Values = new double[] {100.0}},",
                "\n    basicIfrsVariable with {AocType = \"CL\", Novelty = \"C\", Values = new double[] {-500.0}},",
                "\n    basicIfrsVariable with {AocType = \"AM\", Novelty = \"C\", Values = new double[] {0.5}, EstimateType = \"F\", AmountType = null},",
                "\n  };",
                "\n",
                "\nvar csmLcSwitch_benchmark = new Dictionary<AocStep,(double valueCsm, double valueLc)>()",
                "\n    {",
                "\n        {new AocStep(\"BOP\",\"N\"),(0d, 100d)},",
                "\n        {new AocStep(\"IA\",\"N\"), (0d,  15d)},",
                "\n        {new AocStep(\"EV\",\"N\"), (0d, 100d)},",
                "\n        {new AocStep(\"CL\",\"C\"), (285d, -215d)},",
                "\n        {new AocStep(\"EA\",\"C\"), (8d, 0d)},",
                "\n        {new AocStep(\"AM\",\"C\"), (-146.5d, 0d)},",
                "\n        {new AocStep(\"EOP\",\"C\"),(146.5d, 0d)},",
                "\n    };",
                "\n",
                "\nvar activity = await CheckSwitchLogicAsync(inputDataSet, csmLcSwitch_benchmark);",
                "\nactivity"
            ],
            "metadata": {},
            "execution_count": 0,
            "outputs": []
        },
        {
            "cell_type": "code",
            "source": [
                "activity.Status.Should().Be(ActivityLogStatus.Succeeded);"
            ],
            "metadata": {},
            "execution_count": 0,
            "outputs": []
        },
        {
            "cell_type": "markdown",
            "source": [
                "## Gross with switch without CL"
            ],
            "metadata": {},
            "execution_count": 0,
            "outputs": []
        },
        {
            "cell_type": "code",
            "source": [
                "var basicIfrsVariable = new IfrsVariable{Partition = previousPeriodPartition.Id, DataNode = groupOfInsuranceContracts, AccidentYear = null, AmountType = \"PR\", EstimateType = \"BE\", EconomicBasis = \"L\"};",
                "\nvar inputDataSet = new IfrsVariable[]{",
                "\n    basicIfrsVariable with {AocType = \"BOP\", Novelty = \"N\", Values = new double[] {100.0}},",
                "\n    basicIfrsVariable with {AocType = \"CF\", Novelty = \"N\", Values = new double[] {-10.0}},",
                "\n    basicIfrsVariable with {AocType = \"IA\", Novelty = \"N\", Values = new double[] {-150.0}},",
                "\n    basicIfrsVariable with {AocType = \"AM\", Novelty = \"C\", Values = new double[] {0.5}, EstimateType = \"F\", AmountType = null},",
                "\n  };",
                "\n",
                "\nvar csmLcSwitch_benchmark = new Dictionary<AocStep,(double valueCsm, double valueLc)>()",
                "\n    {",
                "\n        {new AocStep(\"BOP\",\"N\"), (0d, 100d)},",
                "\n        {new AocStep(\"IA\",\"N\"), (50d, -100d)},",
                "\n        {new AocStep(\"EA\",\"C\"), (8d,   0d)},",
                "\n        {new AocStep(\"AM\",\"C\"), (-29d,   0d)},",
                "\n        {new AocStep(\"EOP\",\"C\"),(29d,   0d)},",
                "\n    };",
                "\n",
                "\nvar activity = await CheckSwitchLogicAsync(inputDataSet, csmLcSwitch_benchmark);",
                "\nactivity"
            ],
            "metadata": {},
            "execution_count": 0,
            "outputs": []
        },
        {
            "cell_type": "code",
            "source": [
                "activity.Status.Should().Be(ActivityLogStatus.Succeeded);"
            ],
            "metadata": {},
            "execution_count": 0,
            "outputs": []
        },
        {
            "cell_type": "markdown",
            "source": [
                "## Gross : multiple switch",
                "\n",
                "\nSwitch in the in force component, opposite switch in the new business component. CL AoC Step to correct the allocation of the combined section."
            ],
            "metadata": {},
            "execution_count": 0,
            "outputs": []
        },
        {
            "cell_type": "code",
            "source": [
                "var basicIfrsVariable = new IfrsVariable{Partition = previousPeriodPartition.Id, DataNode = groupOfInsuranceContracts, AccidentYear = null, AmountType = \"PR\", EstimateType = \"BE\", EconomicBasis = \"L\"};",
                "\nvar inputDataSet = new IfrsVariable[]{",
                "\n    basicIfrsVariable with {AocType = \"BOP\", Novelty = \"I\", Values = new double[] {5010.0}, EstimateType = \"L\", AmountType = null},",
                "\n    basicIfrsVariable with {AocType = \"MC\", Novelty = \"I\", Values = new double[] {-10.0}},",
                "\n    basicIfrsVariable with {AocType = \"EV\", Novelty = \"I\", Values = new double[] {-5015.0}},",
                "\n    basicIfrsVariable with {AocType = \"BOP\", Novelty = \"N\", Values = new double[] {-100.0}},",
                "\n    basicIfrsVariable with {AocType = \"CF\", Novelty = \"N\", Values = new double[] {10.0}},",
                "\n    basicIfrsVariable with {AocType = \"IA\", Novelty = \"N\", Values = new double[] {150.0}},",
                "\n    basicIfrsVariable with {AocType = \"EV\", Novelty = \"N\", Values = new double[] {-45.0}},",
                "\n    basicIfrsVariable with {AocType = \"CL\", Novelty = \"C\", Values = new double[] {-30.0}},",
                "\n    basicIfrsVariable with {AocType = \"AM\", Novelty = \"C\", Values = new double[] {0.5}, EstimateType = \"F\", AmountType = null},",
                "\n  };",
                "\n",
                "\nvar csmLcSwitch_benchmark = new Dictionary<AocStep,(double valueCsm, double valueLc)>()",
                "\n    {",
                "\n        {new AocStep(\"BOP\",\"I\"),(  0d, 5010.0)},",
                "\n        {new AocStep(\"MC\",\"I\"), (  0d, -10d)},",
                "\n        {new AocStep(\"IA\",\"I\"), (  0d, 10d)},",
                "\n        {new AocStep(\"EV\",\"I\"), (  5d,-5010d)},",
                "\n    ",
                "\n        {new AocStep(\"BOP\",\"N\"),(100d,   0d)},",
                "\n        {new AocStep(\"IA\",\"N\"), (-100d,  50d)},",
                "\n        {new AocStep(\"EV\",\"N\"), (  0d, -45d)},",
                "\n    ",
                "\n        {new AocStep(\"CL\",\"C\"), ( 25d,  -5d)},",
                "\n        {new AocStep(\"EA\",\"C\"), ( -8d,   0d)},",
                "\n        {new AocStep(\"AM\",\"C\"), ( -11d,   0d)},",
                "\n        {new AocStep(\"EOP\",\"C\"),( 11d,   0d)},",
                "\n    };",
                "\n",
                "\nvar activity = await CheckSwitchLogicAsync(inputDataSet, csmLcSwitch_benchmark);",
                "\nactivity"
            ],
            "metadata": {},
            "execution_count": 0,
            "outputs": []
        },
        {
            "cell_type": "code",
            "source": [
                "activity.Status.Should().Be(ActivityLogStatus.Succeeded);"
            ],
            "metadata": {},
            "execution_count": 0,
            "outputs": []
        },
        {
            "cell_type": "markdown",
            "source": [
                "## Reinsurance no LoReCo with Gross no switch"
            ],
            "metadata": {},
            "execution_count": 0,
            "outputs": []
        },
        {
            "cell_type": "code",
            "source": [
                "var reinsBasicIfrsVariable = new IfrsVariable{Partition = partition.Id, DataNode = groupOfReinsuranceContracts, AccidentYear = null, AmountType = \"PR\", EstimateType = \"BE\", EconomicBasis = \"L\"};",
                "\nvar grossBasicIfrsVariable = new IfrsVariable{Partition = partition.Id, DataNode = groupOfInsuranceContracts, AccidentYear = null, AmountType = \"Cl\", EstimateType = \"BE\", EconomicBasis = \"L\"};",
                "\nvar inputDataSet = new IfrsVariable[]{",
                "\n    grossBasicIfrsVariable with {AocType = \"BOP\", Novelty = \"N\", Values = new double[] {-100.0}},",
                "\n    grossBasicIfrsVariable with {AocType = \"CF\", Novelty = \"N\", Values = new double[] {10.0}},",
                "\n    grossBasicIfrsVariable with {AocType = \"IA\", Novelty = \"N\", Values = new double[] {-15.0}},",
                "\n    grossBasicIfrsVariable with {AocType = \"EV\", Novelty = \"N\", Values = new double[] {-100.0}},",
                "\n    grossBasicIfrsVariable with {AocType = \"CL\", Novelty = \"C\", Values = new double[] {+100.0}},",
                "\n    grossBasicIfrsVariable with {AocType = \"AM\", Novelty = \"C\", Values = new double[] {0.5}, EstimateType = \"F\", AmountType = null},",
                "\n",
                "\n    reinsBasicIfrsVariable with {AocType = \"BOP\", Novelty = \"N\", Values = new double[] {100.0}},",
                "\n    reinsBasicIfrsVariable with {AocType = \"IA\", Novelty = \"N\", Values = new double[] {-10.0}},",
                "\n    reinsBasicIfrsVariable with {AocType = \"CL\", Novelty = \"C\", Values = new double[] {-30.0}},",
                "\n    reinsBasicIfrsVariable with {AocType = \"AM\", Novelty = \"C\", Values = new double[] {0.5}, EstimateType = \"F\", AmountType = null},",
                "\n  };",
                "\n",
                "\nvar csmLcSwitch_benchmark = new Dictionary<AocStep,(double valueCsm, double valueLc)>()",
                "\n    {",
                "\n        {new AocStep(\"BOP\",\"N\"),(100d, 0d)},",
                "\n        {new AocStep(\"IA\",\"N\"), (15d,  0d)},",
                "\n        {new AocStep(\"EV\",\"N\"), (100d, 0d)},",
                "\n        {new AocStep(\"CL\",\"C\"), (-100d, 0d)},",
                "\n        {new AocStep(\"AM\",\"C\"), (-57.5, 0d)},",
                "\n        {new AocStep(\"EOP\",\"C\"),(57.5, 0d)},",
                "\n    };",
                "\n",
                "\nvar reinsCsmLcSwitch_benchmark = new Dictionary<AocStep,(double valueCsm, double valueLc)>()",
                "\n    {",
                "\n        {new AocStep(\"BOP\",\"N\"),(-100d,  0d)},",
                "\n        {new AocStep(\"IA\",\"N\"),(+10d,    0d)},",
                "\n        {new AocStep(\"CL\",\"C\"), (+30d,   0d)},",
                "\n        {new AocStep(\"AM\",\"C\"), (+30d,   0d)},",
                "\n        {new AocStep(\"EOP\",\"C\"),(-30d,   0d)},",
                "\n    };",
                "\n"
            ],
            "metadata": {},
            "execution_count": 0,
            "outputs": []
        },
        {
            "cell_type": "code",
            "source": [
                "var activity = await CheckSwitchLogicAsync(inputDataSet, csmLcSwitch_benchmark, reinsCsmLcSwitch_benchmark);",
                "\n activity"
            ],
            "metadata": {},
            "execution_count": 0,
            "outputs": []
        },
        {
            "cell_type": "code",
            "source": [
                "activity.Status.Should().Be(ActivityLogStatus.Succeeded);"
            ],
            "metadata": {},
            "execution_count": 0,
            "outputs": []
        },
        {
            "cell_type": "markdown",
            "source": [
                "## Reinsurance with Gross from [one switch](#gross-with-switch-without-cl) use case"
            ],
            "metadata": {},
            "execution_count": 0,
            "outputs": []
        },
        {
            "cell_type": "code",
            "source": [
                "var reinsBasicIfrsVariable = new IfrsVariable{Partition = partition.Id, DataNode = groupOfReinsuranceContracts, AccidentYear = null, AmountType = \"PR\", EstimateType = \"BE\", EconomicBasis = \"L\"};",
                "\nvar grossBasicIfrsVariable = new IfrsVariable{Partition = partition.Id, DataNode = groupOfInsuranceContracts, AccidentYear = null, AmountType = \"PR\", EstimateType = \"BE\", EconomicBasis = \"L\"};",
                "\nvar basicIfrsVariable = new IfrsVariable{Partition = previousPeriodPartition.Id, DataNode = groupOfInsuranceContracts, AccidentYear = null, AmountType = \"PR\", EstimateType = \"BE\", EconomicBasis = \"L\"};",
                "\nvar inputDataSet = new IfrsVariable[]{",
                "\n    grossBasicIfrsVariable with {AocType = \"BOP\", Novelty = \"N\", Values = new double[] {100.0}},",
                "\n    grossBasicIfrsVariable with {AocType = \"CF\", Novelty = \"N\", Values = new double[] {-10.0}},",
                "\n    grossBasicIfrsVariable with {AocType = \"IA\", Novelty = \"N\", Values = new double[] {-150.0}}, ",
                "\n    grossBasicIfrsVariable with {AocType = \"AM\", Novelty = \"C\", Values = new double[] {0.5}, EstimateType = \"F\", AmountType = null},",
                "\n",
                "\n    reinsBasicIfrsVariable with {AocType = \"BOP\", Novelty = \"N\", Values = new double[] {-100.0}},",
                "\n    reinsBasicIfrsVariable with {AocType = \"IA\", Novelty = \"N\", Values = new double[] {-10.0}},",
                "\n    reinsBasicIfrsVariable with {AocType = \"CL\", Novelty = \"C\", Values = new double[] {-30.0}},",
                "\n    reinsBasicIfrsVariable with {AocType = \"AM\", Novelty = \"C\", Values = new double[] {0.5}, EstimateType = \"F\", AmountType = null},",
                "\n  };",
                "\n",
                "\n//Gross CSM-LC",
                "\nvar csmLcSwitch_benchmark = new Dictionary<AocStep,(double valueCsm, double valueLc)>()",
                "\n    {",
                "\n        {new AocStep(\"BOP\",\"N\"),  (0d, 100d)},",
                "\n        {new AocStep(\"IA\",\"N\"),  (50d, -100d)},",
                "\n        {new AocStep(\"EA\",\"C\"), (8d,   0d)},",
                "\n        {new AocStep(\"AM\",\"C\"), (-29d,   0d)},",
                "\n        {new AocStep(\"EOP\",\"C\"), (29d,   0d)},",
                "\n    };",
                "\n",
                "\nvar reinsCsmLcSwitch_benchmark = new Dictionary<AocStep,(double valueCsm, double valueLc)>()",
                "\n    {",
                "\n        {new AocStep(\"BOP\",\"N\"),(0d,   -100d)},",
                "\n        {new AocStep(\"IA\",\"N\"),(110d,  100d)},",
                "\n        {new AocStep(\"CL\",\"C\"), (+30d,   0d)},",
                "\n        {new AocStep(\"AM\",\"C\"), (-70d,   0d)},",
                "\n        {new AocStep(\"EOP\",\"C\"),(+70d,   0d)},",
                "\n    };"
            ],
            "metadata": {},
            "execution_count": 0,
            "outputs": []
        },
        {
            "cell_type": "code",
            "source": [
                "var activity = await CheckSwitchLogicAsync(inputDataSet, csmLcSwitch_benchmark, reinsCsmLcSwitch_benchmark);",
                "\n activity"
            ],
            "metadata": {},
            "execution_count": 0,
            "outputs": []
        },
        {
            "cell_type": "code",
            "source": [
                "activity.Status.Should().Be(ActivityLogStatus.Succeeded);"
            ],
            "metadata": {},
            "execution_count": 0,
            "outputs": []
        },
        {
            "cell_type": "markdown",
            "source": [
                "## Reinsurance with Gross all LC"
            ],
            "metadata": {},
            "execution_count": 0,
            "outputs": []
        },
        {
            "cell_type": "code",
            "source": [
                "var reinsBasicIfrsVariable = new IfrsVariable{Partition = partition.Id, DataNode = groupOfReinsuranceContracts, AccidentYear = null, AmountType = \"PR\", EstimateType = \"BE\", EconomicBasis = \"L\"};",
                "\nvar grossBasicIfrsVariable = new IfrsVariable{Partition = partition.Id, DataNode = groupOfInsuranceContracts, AccidentYear = null, AmountType = \"Cl\", EstimateType = \"BE\", EconomicBasis = \"L\"};",
                "\nvar inputDataSet = new IfrsVariable[]{",
                "\n    grossBasicIfrsVariable with {AocType = \"BOP\", Novelty = \"N\", Values = new double[] {100.0}},",
                "\n    grossBasicIfrsVariable with {AocType = \"IA\", Novelty = \"N\", Values = new double[] {-50.0}}, ",
                "\n    grossBasicIfrsVariable with {AocType = \"AM\", Novelty = \"C\", Values = new double[] {0.5}, EstimateType = \"F\", AmountType = null},",
                "\n",
                "\n    reinsBasicIfrsVariable with {AocType = \"BOP\", Novelty = \"N\", Values = new double[] {-100.0}},",
                "\n    reinsBasicIfrsVariable with {AocType = \"IA\", Novelty = \"N\", Values = new double[] {-10.0}},",
                "\n    reinsBasicIfrsVariable with {AocType = \"CL\", Novelty = \"C\", Values = new double[] {-30.0}},",
                "\n    reinsBasicIfrsVariable with {AocType = \"AM\", Novelty = \"C\", Values = new double[] {0.5}, EstimateType = \"F\", AmountType = null},",
                "\n  };",
                "\n",
                "\n//Gross CSM-LC",
                "\nvar csmLcSwitch_benchmark = new Dictionary<AocStep,(double valueCsm, double valueLc)>()",
                "\n    {",
                "\n        {new AocStep(\"BOP\",\"N\"), (0d, 100d)},",
                "\n        {new AocStep(\"IA\",\"N\"), (0d,  -50d)}, //IA of the gross has opposite sign wrt the others (triggers switching)",
                "\n        {new AocStep(\"AM\",\"C\"), (0d,  -25d)},",
                "\n        {new AocStep(\"EOP\",\"C\"),(0d,   25d)},",
                "\n    };",
                "\n",
                "\nvar reinsCsmLcSwitch_benchmark = new Dictionary<AocStep,(double valueCsm, double valueLc)>()",
                "\n    {",
                "\n        {new AocStep(\"BOP\",\"N\"),(0d,   -100d)},",
                "\n        {new AocStep(\"IA\",\"N\"),(0d,     -10d)},",
                "\n        {new AocStep(\"CL\",\"C\"), (0d,    -30d)},",
                "\n        {new AocStep(\"AM\",\"C\"), (0d,     70d)},",
                "\n        {new AocStep(\"EOP\",\"C\"),(0d,    -70d)},",
                "\n    };"
            ],
            "metadata": {},
            "execution_count": 0,
            "outputs": []
        },
        {
            "cell_type": "code",
            "source": [
                "var activity = await CheckSwitchLogicAsync(inputDataSet, csmLcSwitch_benchmark, reinsCsmLcSwitch_benchmark);",
                "\nactivity"
            ],
            "metadata": {},
            "execution_count": 0,
            "outputs": []
        },
        {
            "cell_type": "code",
            "source": [
                "activity.Status.Should().Be(ActivityLogStatus.Succeeded);"
            ],
            "metadata": {},
            "execution_count": 0,
            "outputs": []
        },
        {
            "cell_type": "markdown",
            "source": [
                "## Reinsurance with Gross with CL balancing item"
            ],
            "metadata": {},
            "execution_count": 0,
            "outputs": []
        },
        {
            "cell_type": "code",
            "source": [
                "var reinsBasicIfrsVariable = new IfrsVariable{Partition = partition.Id, DataNode = groupOfReinsuranceContracts, AccidentYear = null, AmountType = \"PR\", EstimateType = \"BE\", EconomicBasis = \"L\"};",
                "\nvar grossBasicIfrsVariable = new IfrsVariable{Partition = partition.Id, DataNode = groupOfInsuranceContracts, AccidentYear = null, AmountType = \"Cl\", EstimateType = \"BE\", EconomicBasis = \"L\"};",
                "\nvar inputDataSet = new IfrsVariable[]{",
                "\n    grossBasicIfrsVariable with {AocType = \"BOP\", Novelty = \"I\", Values = new double[] {100.0}, EstimateType = \"C\", AmountType = null},",
                "\n    grossBasicIfrsVariable with {AocType = \"IA\", Novelty = \"I\", Values = new double[] {10.0}}, ",
                "\n    grossBasicIfrsVariable with {AocType = \"BOP\", Novelty = \"N\", Values = new double[] {50.0}},",
                "\n    grossBasicIfrsVariable with {AocType = \"IA\", Novelty = \"N\", Values = new double[] {-10.0}}, ",
                "\n    grossBasicIfrsVariable with {AocType = \"AM\", Novelty = \"C\", Values = new double[] {0.5}, EstimateType = \"F\", AmountType = null},",
                "\n",
                "\n    reinsBasicIfrsVariable with {AocType = \"BOP\", Novelty = \"N\", Values = new double[] {-100.0}},",
                "\n    reinsBasicIfrsVariable with {AocType = \"IA\", Novelty = \"N\", Values = new double[] {-10.0}},",
                "\n    reinsBasicIfrsVariable with {AocType = \"CL\", Novelty = \"C\", Values = new double[] {-30.0}},",
                "\n    reinsBasicIfrsVariable with {AocType = \"AM\", Novelty = \"C\", Values = new double[] {0.5}, EstimateType = \"F\", AmountType = null},",
                "\n  };",
                "\n",
                "\n//Gross CSM-LC",
                "\nvar csmLcSwitch_benchmark = new Dictionary<AocStep,(double valueCsm, double valueLc)>()",
                "\n    {",
                "\n        {new AocStep(\"BOP\",\"I\"), (100d, 0d)},",
                "\n        {new AocStep(\"IA\",\"I\"), (0.049962543d,  0d)},",
                "\n        {new AocStep(\"BOP\",\"N\"), (0d,  50d)},",
                "\n        {new AocStep(\"IA\",\"N\"), (0d,  -10d)},",
                "\n        {new AocStep(\"CL\",\"C\"), (-40d,  -40d)},",
                "\n        {new AocStep(\"AM\",\"C\"), (-30.024981271d,  0d)},",
                "\n        {new AocStep(\"EOP\",\"C\"),(30.024981271d,   0d)},",
                "\n    };",
                "\n",
                "\nvar reinsCsmLcSwitch_benchmark = new Dictionary<AocStep,(double valueCsm, double valueLc)>()",
                "\n    {",
                "\n        {new AocStep(\"BOP\",\"N\"),(0d,   -100d)},",
                "\n        {new AocStep(\"IA\",\"N\"), (0d,    -10d)},",
                "\n        {new AocStep(\"CL\",\"C\"), (140d,   110d)},",
                "\n        {new AocStep(\"AM\",\"C\"), (-70d,    0d)},",
                "\n        {new AocStep(\"EOP\",\"C\"),(70d,     0d)},",
                "\n    };"
            ],
            "metadata": {},
            "execution_count": 0,
            "outputs": []
        },
        {
            "cell_type": "code",
            "source": [
                "var activity = await CheckSwitchLogicAsync(inputDataSet, csmLcSwitch_benchmark, reinsCsmLcSwitch_benchmark);",
                "\nactivity"
            ],
            "metadata": {},
            "execution_count": 0,
            "outputs": []
        },
        {
            "cell_type": "code",
            "source": [
                "activity.Status.Should().Be(ActivityLogStatus.Succeeded);"
            ],
            "metadata": {},
            "execution_count": 0,
            "outputs": []
        }
    ]
}