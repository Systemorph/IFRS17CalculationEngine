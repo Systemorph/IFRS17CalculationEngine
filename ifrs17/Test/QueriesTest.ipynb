{
    "metadata": {
        "authors": [],
        "id": "UhYcUg0YDU2EVWpCprNDfg",
        "kernelspec": {
            "display_name": "Formula Framework",
            "language": "C#",
            "name": "C#"
        },
        "language_info": {
            "file_extension": ".cs",
            "mimetype": "text/plain",
            "name": "C#"
        }
    },
    "nbformat": 4,
    "nbformat_minor": 5,
    "cells": [
        {
            "cell_type": "code",
            "source": [
                "#!import \"../CalculationEngine\""
            ],
            "metadata": {},
            "execution_count": 0,
            "outputs": []
        },
        {
            "cell_type": "code",
            "source": [
                "var gic = \"DT1.1\";",
                "\nvar scenario = \"MTUP\";"
            ],
            "metadata": {},
            "execution_count": 0,
            "outputs": []
        },
        {
            "cell_type": "markdown",
            "source": [
                "# Test Load Current and Previous Parameter for Yield Curve"
            ],
            "metadata": {},
            "execution_count": 0,
            "outputs": []
        },
        {
            "cell_type": "code",
            "source": [
                "Workspace.Reset(x => x.ResetInitializationRules().ResetCurrentPartitions());"
            ],
            "metadata": {},
            "execution_count": 0,
            "outputs": []
        },
        {
            "cell_type": "code",
            "source": [
                "public async Task<ActivityLog> CheckLoadCurrentAndPreviousParameterForYieldCurveAsync(Args args, IEnumerable<YieldCurve> testData, ",
                "\n                                                                         (int Year, int Month, string Scenario) expectedCurrentPeriod, ",
                "\n                                                                         (int Year, int Month, string Scenario) expectedPreviousPeriod)",
                "\n{",
                "\n    Activity.Start();",
                "\n    await Workspace.UpdateAsync(testData);",
                "\n    var eurCurrentAndPreviousYieldCurve = (await Workspace.LoadCurrentAndPreviousParameterAsync<YieldCurve>(args, x => x.Currency))[\"EUR\"];",
                "\n    ",
                "\n    //Check Current Period",
                "\n    eurCurrentAndPreviousYieldCurve[CurrentPeriod].Year.Should().Be(expectedCurrentPeriod.Year);",
                "\n    eurCurrentAndPreviousYieldCurve[CurrentPeriod].Month.Should().Be(expectedCurrentPeriod.Month);",
                "\n    eurCurrentAndPreviousYieldCurve[CurrentPeriod].Scenario.Should().Be(expectedCurrentPeriod.Scenario);",
                "\n    ",
                "\n    //Check Previous Period",
                "\n    eurCurrentAndPreviousYieldCurve[PreviousPeriod].Year.Should().Be(expectedPreviousPeriod.Year);",
                "\n    eurCurrentAndPreviousYieldCurve[PreviousPeriod].Month.Should().Be(expectedPreviousPeriod.Month);",
                "\n    eurCurrentAndPreviousYieldCurve[PreviousPeriod].Scenario.Should().Be(expectedPreviousPeriod.Scenario);",
                "\n    ",
                "\n    await Workspace.DeleteAsync(Workspace.Query<YieldCurve>().ToArray());",
                "\n    return Activity.Finish();",
                "\n}"
            ],
            "metadata": {},
            "execution_count": 0,
            "outputs": []
        },
        {
            "cell_type": "code",
            "source": [
                "var args = new Args(\"CH\",2020,9,Periodicity.Monthly,null);",
                "\nvar testData = new YieldCurve{ Currency = \"EUR\", Year = 2020, Month = 9};",
                "\nvar activity = await CheckLoadCurrentAndPreviousParameterForYieldCurveAsync(args, testData.RepeatOnce(), (2020, 9, null),(2020, 9, null));",
                "\nactivity"
            ],
            "metadata": {},
            "execution_count": 0,
            "outputs": []
        },
        {
            "cell_type": "code",
            "source": [
                "activity.Status.Should().Be(ActivityLogStatus.Succeeded);"
            ],
            "metadata": {},
            "execution_count": 0,
            "outputs": []
        },
        {
            "cell_type": "code",
            "source": [
                "var args = new Args(\"CH\",2020,9,Periodicity.Monthly,scenario);",
                "\nvar testData = new[] { new YieldCurve{ Currency = \"EUR\", Year = 2020, Month = 9, Scenario = scenario }, ",
                "\n                       new YieldCurve{ Currency = \"EUR\", Year = 2020, Month = 9 } };",
                "\nvar activity = await CheckLoadCurrentAndPreviousParameterForYieldCurveAsync(args, testData, (2020, 9, scenario),(2020, 9, null));",
                "\nactivity"
            ],
            "metadata": {},
            "execution_count": 0,
            "outputs": []
        },
        {
            "cell_type": "code",
            "source": [
                "activity.Status.Should().Be(ActivityLogStatus.Succeeded);"
            ],
            "metadata": {},
            "execution_count": 0,
            "outputs": []
        },
        {
            "cell_type": "code",
            "source": [
                "var args = new Args(\"CH\",2020,9,Periodicity.Monthly,null);",
                "\nvar testData = new YieldCurve{ Currency = \"EUR\", Year = 2019, Month = 12, Scenario = null};",
                "\nvar activity = await CheckLoadCurrentAndPreviousParameterForYieldCurveAsync(args, testData.RepeatOnce(), (2019, 12, null), (2019, 12, null));",
                "\nactivity"
            ],
            "metadata": {},
            "execution_count": 0,
            "outputs": []
        },
        {
            "cell_type": "code",
            "source": [
                "activity.Status.Should().Be(ActivityLogStatus.Succeeded);"
            ],
            "metadata": {},
            "execution_count": 0,
            "outputs": []
        },
        {
            "cell_type": "code",
            "source": [
                "var args = new Args(\"CH\",2020,9,Periodicity.Monthly,scenario);",
                "\nvar testData = new YieldCurve[] {new YieldCurve{ Currency = \"EUR\", Year = 2020, Month = 9, Scenario = scenario},",
                "\n                                 new YieldCurve{ Currency = \"EUR\", Year = 2019, Month = 12, Scenario = null}};",
                "\nvar activity = await CheckLoadCurrentAndPreviousParameterForYieldCurveAsync(args, testData, (2020, 9, scenario), (2019, 12, null));",
                "\nactivity"
            ],
            "metadata": {},
            "execution_count": 0,
            "outputs": []
        },
        {
            "cell_type": "code",
            "source": [
                "activity.Status.Should().Be(ActivityLogStatus.Succeeded);"
            ],
            "metadata": {},
            "execution_count": 0,
            "outputs": []
        },
        {
            "cell_type": "code",
            "source": [
                "var args = new Args(\"CH\",2020,9,Periodicity.Monthly,null);",
                "\nvar testData = new YieldCurve[] {new YieldCurve{ Currency = \"EUR\", Year = 2020, Month = 6, Scenario = null}, ",
                "\n                                 new YieldCurve{ Currency = \"EUR\", Year = 2020, Month = 3, Scenario = null}};",
                "\nvar activity = await CheckLoadCurrentAndPreviousParameterForYieldCurveAsync(args, testData, (2020, 6, null), (2020, 6, null));",
                "\nactivity"
            ],
            "metadata": {},
            "execution_count": 0,
            "outputs": []
        },
        {
            "cell_type": "code",
            "source": [
                "activity.Status.Should().Be(ActivityLogStatus.Succeeded);"
            ],
            "metadata": {},
            "execution_count": 0,
            "outputs": []
        },
        {
            "cell_type": "code",
            "source": [
                "var args = new Args(\"CH\",2020,9,Periodicity.Monthly,scenario);",
                "\nvar testData = new YieldCurve[] {new YieldCurve{ Currency = \"EUR\", Year = 2020, Month = 6, Scenario = null}, ",
                "\n                                 new YieldCurve{ Currency = \"EUR\", Year = 2020, Month = 3, Scenario = null}};",
                "\nvar activity = await CheckLoadCurrentAndPreviousParameterForYieldCurveAsync(args, testData, (2020, 6, null), (2020, 6, null));",
                "\nactivity"
            ],
            "metadata": {},
            "execution_count": 0,
            "outputs": []
        },
        {
            "cell_type": "code",
            "source": [
                "activity.Status.Should().Be(ActivityLogStatus.Succeeded);"
            ],
            "metadata": {},
            "execution_count": 0,
            "outputs": []
        },
        {
            "cell_type": "code",
            "source": [
                "var args = new Args(\"CH\",2020,9,Periodicity.Monthly,scenario);",
                "\nvar testData = new YieldCurve[] {new YieldCurve{ Currency = \"EUR\", Year = 2020, Month = 6, Scenario = null}, ",
                "\n                                 new YieldCurve{ Currency = \"EUR\", Year = 2019, Month = 3, Scenario = null}};",
                "\nvar activity = await CheckLoadCurrentAndPreviousParameterForYieldCurveAsync(args, testData, (2020, 6, null), (2019, 3, null));",
                "\nactivity"
            ],
            "metadata": {},
            "execution_count": 0,
            "outputs": []
        },
        {
            "cell_type": "code",
            "source": [
                "activity.Status.Should().Be(ActivityLogStatus.Succeeded);"
            ],
            "metadata": {},
            "execution_count": 0,
            "outputs": []
        },
        {
            "cell_type": "code",
            "source": [
                "var args = new Args(\"CH\",2020,9,Periodicity.Monthly,null);",
                "\nvar testData = new YieldCurve[] {new YieldCurve{ Currency = \"EUR\", Year = 2020, Month = 9, Scenario = null}, ",
                "\n                                 new YieldCurve{ Currency = \"EUR\", Year = 2020, Month = 6, Scenario = null}};",
                "\nvar activity = await CheckLoadCurrentAndPreviousParameterForYieldCurveAsync(args, testData, (2020, 9, null), (2020, 9, null));",
                "\nactivity"
            ],
            "metadata": {},
            "execution_count": 0,
            "outputs": []
        },
        {
            "cell_type": "code",
            "source": [
                "activity.Status.Should().Be(ActivityLogStatus.Succeeded);"
            ],
            "metadata": {},
            "execution_count": 0,
            "outputs": []
        },
        {
            "cell_type": "code",
            "source": [
                "var args = new Args(\"CH\",2020,9,Periodicity.Monthly,null);",
                "\nvar testData = new YieldCurve[] {new YieldCurve{ Currency = \"EUR\", Year = 2019, Month = 9, Scenario = null}, ",
                "\n                                 new YieldCurve{ Currency = \"EUR\", Year = 2020, Month = 9, Scenario = null}};",
                "\nvar activity = await CheckLoadCurrentAndPreviousParameterForYieldCurveAsync(args, testData, (2020, 9, null), (2019, 9, null));",
                "\nactivity"
            ],
            "metadata": {},
            "execution_count": 0,
            "outputs": []
        },
        {
            "cell_type": "code",
            "source": [
                "activity.Status.Should().Be(ActivityLogStatus.Succeeded);"
            ],
            "metadata": {},
            "execution_count": 0,
            "outputs": []
        },
        {
            "cell_type": "code",
            "source": [
                "var args = new Args(\"EUR\",2020,9,Periodicity.Monthly,scenario);",
                "\nvar testData = new YieldCurve[] {new YieldCurve{ Currency = \"EUR\", Year = 2020, Month = 9, Scenario = scenario},",
                "\n                                 new YieldCurve{ Currency = \"EUR\", Year = 2019, Month = 12, Scenario = scenario},",
                "\n                                 new YieldCurve{ Currency = \"EUR\", Year = 2019, Month = 12, Scenario = null}};",
                "\nvar activity = await CheckLoadCurrentAndPreviousParameterForYieldCurveAsync(args, testData, (2020, 9, scenario), (2019, 12, null));",
                "\nactivity"
            ],
            "metadata": {},
            "execution_count": 0,
            "outputs": []
        },
        {
            "cell_type": "code",
            "source": [
                "activity.Status.Should().Be(ActivityLogStatus.Succeeded);"
            ],
            "metadata": {},
            "execution_count": 0,
            "outputs": []
        },
        {
            "cell_type": "code",
            "source": [
                "var args = new Args(\"CH\",2020,9,Periodicity.Monthly,null);",
                "\nvar testData = new YieldCurve[] {new YieldCurve{ Currency = \"EUR\", Year = 2019, Month = 12, Scenario = null}, ",
                "\n                                 new YieldCurve{ Currency = \"EUR\", Year = 2019, Month = 9, Scenario = null}};",
                "\nvar activity = await CheckLoadCurrentAndPreviousParameterForYieldCurveAsync(args, testData, (2019, 12, null), (2019, 12, null));",
                "\nactivity"
            ],
            "metadata": {},
            "execution_count": 0,
            "outputs": []
        },
        {
            "cell_type": "code",
            "source": [
                "activity.Status.Should().Be(ActivityLogStatus.Succeeded);"
            ],
            "metadata": {},
            "execution_count": 0,
            "outputs": []
        },
        {
            "cell_type": "code",
            "source": [
                "var args = new Args(\"CH\",2020,9,Periodicity.Monthly,null);",
                "\nvar testData = new YieldCurve[] {new YieldCurve{ Currency = \"EUR\", Year = 2019, Month = 12, Scenario = null}, ",
                "\n                                 new YieldCurve{ Currency = \"EUR\", Year = 2018, Month = 9, Scenario = null}};",
                "\nvar activity = await CheckLoadCurrentAndPreviousParameterForYieldCurveAsync(args, testData, (2019, 12, null), (2019, 12, null));",
                "\nactivity"
            ],
            "metadata": {},
            "execution_count": 0,
            "outputs": []
        },
        {
            "cell_type": "code",
            "source": [
                "activity.Status.Should().Be(ActivityLogStatus.Succeeded);"
            ],
            "metadata": {},
            "execution_count": 0,
            "outputs": []
        },
        {
            "cell_type": "code",
            "source": [
                "var args = new Args(\"CH\",2020,9,Periodicity.Monthly,null);",
                "\nvar testData = new YieldCurve[] {new YieldCurve{ Currency = \"EUR\", Year = 2019, Month = 6, Scenario = null}, ",
                "\n                                 new YieldCurve{ Currency = \"EUR\", Year = 2016, Month = 9, Scenario = null},",
                "\n                                 new YieldCurve{ Currency = \"EUR\", Year = 2016, Month = 6, Scenario = null}};",
                "\nvar activity = await CheckLoadCurrentAndPreviousParameterForYieldCurveAsync(args, testData, (2019, 6, null), (2019, 6, null));",
                "\nactivity"
            ],
            "metadata": {},
            "execution_count": 0,
            "outputs": []
        },
        {
            "cell_type": "code",
            "source": [
                "activity.Status.Should().Be(ActivityLogStatus.Succeeded);"
            ],
            "metadata": {},
            "execution_count": 0,
            "outputs": []
        },
        {
            "cell_type": "code",
            "source": [
                "var args = new Args(\"CH\",2020,9,Periodicity.Monthly, scenario);",
                "\nvar testData = new YieldCurve[] {new YieldCurve{ Currency = \"EUR\", Year = 2019, Month = 6, Scenario = scenario},",
                "\n                                 new YieldCurve{ Currency = \"EUR\", Year = 2019, Month = 6, Scenario = null},",
                "\n                                 new YieldCurve{ Currency = \"EUR\", Year = 2016, Month = 9, Scenario = null},",
                "\n                                 new YieldCurve{ Currency = \"EUR\", Year = 2016, Month = 6, Scenario = null}};",
                "\nvar activity = await CheckLoadCurrentAndPreviousParameterForYieldCurveAsync(args, testData, (2019, 6, null), (2019, 6, null));",
                "\nactivity"
            ],
            "metadata": {},
            "execution_count": 0,
            "outputs": []
        },
        {
            "cell_type": "code",
            "source": [
                "activity.Status.Should().Be(ActivityLogStatus.Succeeded);"
            ],
            "metadata": {},
            "execution_count": 0,
            "outputs": []
        },
        {
            "cell_type": "code",
            "source": [
                "var args = new Args(\"CH\",2020,9,Periodicity.Monthly,null);",
                "\nvar testData = new YieldCurve[] {new YieldCurve{ Currency = \"EUR\", Year = 2020, Month = 6, Scenario = null}, ",
                "\n                                 new YieldCurve{ Currency = \"EUR\", Year = 2020, Month = 3, Scenario = null}, ",
                "\n                                 new YieldCurve{ Currency = \"EUR\", Year = 2015, Month = 9, Scenario = null},",
                "\n                                 new YieldCurve{ Currency = \"EUR\", Year = 2016, Month = 3, Scenario = null}};",
                "\nvar activity = await CheckLoadCurrentAndPreviousParameterForYieldCurveAsync(args, testData, (2020, 6, null), (2016, 3, null));",
                "\nactivity"
            ],
            "metadata": {},
            "execution_count": 0,
            "outputs": []
        },
        {
            "cell_type": "code",
            "source": [
                "activity.Status.Should().Be(ActivityLogStatus.Succeeded);"
            ],
            "metadata": {},
            "execution_count": 0,
            "outputs": []
        },
        {
            "cell_type": "code",
            "source": [
                "var args = new Args(\"CH\",2020,9,Periodicity.Monthly,null);",
                "\nvar testData = new YieldCurve[] {new YieldCurve{ Currency = \"EUR\", Year = 2020, Month = 6, Scenario = null}, ",
                "\n                                 new YieldCurve{ Currency = \"EUR\", Year = 2020, Month = 3, Scenario = null}, ",
                "\n                                 new YieldCurve{ Currency = \"EUR\", Year = 2021, Month = 9, Scenario = null},",
                "\n                                 new YieldCurve{ Currency = \"EUR\", Year = 2016, Month = 3, Scenario = null}};",
                "\n",
                "\nvar activity = await CheckLoadCurrentAndPreviousParameterForYieldCurveAsync(args, testData, (2020, 6, null), (2016, 3, null));",
                "\nactivity"
            ],
            "metadata": {},
            "execution_count": 0,
            "outputs": []
        },
        {
            "cell_type": "code",
            "source": [
                "activity.Status.Should().Be(ActivityLogStatus.Succeeded);"
            ],
            "metadata": {},
            "execution_count": 0,
            "outputs": []
        },
        {
            "cell_type": "markdown",
            "source": [
                "# Test Data Node State Query"
            ],
            "metadata": {},
            "execution_count": 0,
            "outputs": []
        },
        {
            "cell_type": "code",
            "source": [
                "public async Task<ActivityLog> CheckLoadDataNodeStateAsync(Args args, IEnumerable<DataNodeState> testData, bool isExpectedToBeActive)",
                "\n{",
                "\n    Activity.Start();",
                "\n    await Workspace.Partition.SetAsync<PartitionByReportingNode>(args);",
                "\n    await Workspace.UpdateAsync(testData);",
                "\n    var isActive = (await Workspace.LoadDataNodeStateAsync(args)).Keys.Contains(gic);",
                "\n    ",
                "\n    isActive.Should().Be(isExpectedToBeActive);",
                "\n    ",
                "\n    Workspace.Reset(x => x.ResetCurrentPartitions());",
                "\n    return Activity.Finish();",
                "\n}"
            ],
            "metadata": {},
            "execution_count": 0,
            "outputs": []
        },
        {
            "cell_type": "code",
            "source": [
                "var args = new Args(\"CH\",2020,12,Periodicity.Monthly,null);",
                "\nvar testData = new DataNodeState[] {new DataNodeState{ DataNode = gic, Year = 2019, Month = 12, State = State.Active },",
                "\n                                    new DataNodeState{ DataNode = gic, Year = 2020, Month = 6, State = State.Inactive }};",
                "\nvar activity = await CheckLoadDataNodeStateAsync(args, testData, false);",
                "\nactivity"
            ],
            "metadata": {},
            "execution_count": 0,
            "outputs": []
        },
        {
            "cell_type": "code",
            "source": [
                "activity.Status.Should().Be(ActivityLogStatus.Succeeded);"
            ],
            "metadata": {},
            "execution_count": 0,
            "outputs": []
        },
        {
            "cell_type": "code",
            "source": [
                "var args = new Args(\"CH\",2020,12,Periodicity.Monthly,null);",
                "\nvar testData = new DataNodeState[] {new DataNodeState{ DataNode = gic, Year = 2020, Month = 3, State = State.Active },",
                "\n                                    new DataNodeState{ DataNode = gic, Year = 2020, Month = 9, State = State.Inactive }};",
                "\nvar activity = await CheckLoadDataNodeStateAsync(args, testData, false);",
                "\nactivity"
            ],
            "metadata": {},
            "execution_count": 0,
            "outputs": []
        },
        {
            "cell_type": "code",
            "source": [
                "activity.Status.Should().Be(ActivityLogStatus.Succeeded);"
            ],
            "metadata": {},
            "execution_count": 0,
            "outputs": []
        },
        {
            "cell_type": "markdown",
            "source": [
                "# Test Load Yield Curve"
            ],
            "metadata": {},
            "execution_count": 0,
            "outputs": []
        },
        {
            "cell_type": "code",
            "source": [
                "public async Task<ActivityLog> CheckLoadYieldCurveAsync(Args args, IEnumerable<YieldCurve> testData, ",
                "\n                                           (int year , int month, string yieldCurveName, string valuationApproach) dataNodeTestData, ",
                "\n                                           double expectedCurrentPreviousFirstYcValue = default(double),",
                "\n                                           double expectedCurrentFirstYcValue = default(double),",
                "\n                                           double expectedLockedFirstYcValue = default(double))",
                "\n{",
                "\n    Activity.Start();",
                "\n    await Workspace.Partition.SetAsync<PartitionByReportingNode>(args);",
                "\n    await Workspace.UpdateAsync(testData);",
                "\n    await Workspace.UpdateAsync<ReportingNode>(new ReportingNode[]{new ReportingNode{Currency=\"EUR\",SystemName=\"CH\"}});",
                "\n    ",
                "\n    var dataNodes = new DataNodeData[]{new DataNodeData{ValuationApproach=dataNodeTestData.valuationApproach, Year = dataNodeTestData.year, Month = dataNodeTestData.month, DataNode = gic, ContractualCurrency = \"EUR\", YieldCurveName = dataNodeTestData.yieldCurveName}};",
                "\n    var eurLockedYieldCurve = (await LoadLockedInYieldCurveAsync(Workspace, args, dataNodes));",
                "\n    var eurCurrentYieldCurve = (await LoadCurrentYieldCurveAsync(Workspace, args, dataNodes));",
                "\n    ",
                "\n    Workspace.Reset(x => x.ResetCurrentPartitions());",
                "\n    ",
                "\n    var errors = new List<string>();",
                "\n    if (eurCurrentYieldCurve[gic] == null)",
                "\n        return Activity.Finish();",
                "\n    var currentPrevPeriod = eurCurrentYieldCurve[gic][PreviousPeriod].Values.First();",
                "\n    if(Math.Abs(currentPrevPeriod - expectedCurrentPreviousFirstYcValue) > 1E-8)",
                "\n        errors.Add( $\"Current YieldCurve for Previous Period not matching:\\n Expected {expectedCurrentPreviousFirstYcValue} \\n Computed {currentPrevPeriod}.\" );",
                "\n    ",
                "\n    var currentCurrPeriod = eurCurrentYieldCurve[gic][CurrentPeriod].Values.First();",
                "\n    if(Math.Abs(currentCurrPeriod - expectedCurrentFirstYcValue) > 1E-8)",
                "\n        errors.Add( $\"Current YieldCurve for Current Period not matching:\\n Expected {expectedCurrentFirstYcValue} \\n Computed {currentCurrPeriod}.\" );",
                "\n    ",
                "\n    if(dataNodeTestData.valuationApproach == ValuationApproaches.BBA)",
                "\n    {",
                "\n        if (eurLockedYieldCurve[gic] == null)",
                "\n            return Activity.Finish();",
                "\n        var lockedYc = eurLockedYieldCurve[gic].Values.First();",
                "\n        if(Math.Abs(lockedYc - expectedLockedFirstYcValue) > 1E-8)",
                "\n            errors.Add( $\"LockedIn YieldCurve not matching:\\n Expected {expectedLockedFirstYcValue} \\n Computed {lockedYc}.\" );",
                "\n    }",
                "\n    if(errors.Any()) ApplicationMessage.Log(Error.Generic, string.Join(\"\\n\", errors));        ",
                "\n    return Activity.Finish();",
                "\n}"
            ],
            "metadata": {},
            "execution_count": 0,
            "outputs": []
        },
        {
            "cell_type": "code",
            "source": [
                "var args = new Args(\"CH\",2020,12,Periodicity.Monthly,null);",
                "\nvar testData = new YieldCurve[] {",
                "\n                                 new YieldCurve{ Currency = \"EUR\", Year = 2020, Month = 12, Name = \"A\", Values = new double[]{7.1,7.2,7.3,7.4,7.5,7.6} },",
                "\n                                 new YieldCurve{ Currency = \"EUR\", Year = 2020, Month = 12, Values = new double[]{0.1,0.2,0.3,0.4,0.5,0.6} }, ",
                "\n                                ",
                "\n                                 };",
                "\n",
                "\n(int year , int month, string yieldCurveName, string valuationApproach) dataNodeTestData = (2020, 12, \"A\", \"BBA\");",
                "\nvar activity = await CheckLoadYieldCurveAsync(args, testData, dataNodeTestData, 0.1, 0.1, 7.1);",
                "\nactivity"
            ],
            "metadata": {},
            "execution_count": 0,
            "outputs": []
        },
        {
            "cell_type": "code",
            "source": [
                "activity.Status.Should().Be(ActivityLogStatus.Succeeded);"
            ],
            "metadata": {},
            "execution_count": 0,
            "outputs": []
        },
        {
            "cell_type": "code",
            "source": [
                "var args = new Args(\"CH\",2020,9,Periodicity.Monthly,null);",
                "\nvar testData = new YieldCurve[] {",
                "\n                                 new YieldCurve{ Currency = \"EUR\", Year = 2020, Month = 12, Name = \"A\", Values = new double[]{7.1,7.2,7.3,7.4,7.5,7.6} },",
                "\n                                 new YieldCurve{ Currency = \"EUR\", Year = 2020, Month = 12, Values = new double[]{0.1,0.2,0.3,0.4,0.5,0.6} }, ",
                "\n                                 new YieldCurve{ Currency = \"EUR\", Year = 2020, Month = 9, Name = \"A\", Values = new double[]{6.1,6.2,6.3,6.4,6.5,6.6} },",
                "\n                                 new YieldCurve{ Currency = \"EUR\", Year = 2020, Month = 9, Values = new double[]{0.01,0.02,0.03,0.04,0.05,0.06} },",
                "\n                                 };",
                "\n",
                "\n(int year , int month, string yieldCurveName, string valuationApproach) dataNodeTestData = (2020, 1, \"A\", \"BBA\");",
                "\nvar activity = await CheckLoadYieldCurveAsync(args, testData, dataNodeTestData, 0.01, 0.01, 6.1);",
                "\nactivity"
            ],
            "metadata": {},
            "execution_count": 0,
            "outputs": []
        },
        {
            "cell_type": "code",
            "source": [
                "activity.Status.Should().Be(ActivityLogStatus.Succeeded);"
            ],
            "metadata": {},
            "execution_count": 0,
            "outputs": []
        },
        {
            "cell_type": "code",
            "source": [
                "var args = new Args(\"CH\",2020,9,Periodicity.Monthly,null);",
                "\nvar testData = new YieldCurve[] {new YieldCurve{ Currency = \"EUR\", Year = 2020, Month = 6, Values = new double[]{0.1,0.2,0.3,0.4,0.5,0.6} }, ",
                "\n                                 new YieldCurve{ Currency = \"EUR\", Year = 2020, Month = 6, Name = \"A\", Values = new double[]{7.1,7.2,7.3,7.4,7.5,7.6} }, ",
                "\n                                 new YieldCurve{ Currency = \"EUR\", Year = 2020, Month = 3, Values = new double[]{2.1,2.2,2.3,2.4,2.5,2.6} }, ",
                "\n                                 new YieldCurve{ Currency = \"EUR\", Year = 2021, Month = 9, Values = new double[]{4.1,4.2,4.3,4.4,4.5,4.6} },",
                "\n                                 new YieldCurve{ Currency = \"EUR\", Year = 2016, Month = 3, Values = new double[]{6.1,6.2,6.3,6.4,6.5,6.6} },",
                "\n                                 new YieldCurve{ Currency = \"EUR\", Year = 2016, Month = 3, Name = \"A\",  Values = new double[]{9.1,9.2,9.3,9.4,9.5,9.6} }};",
                "\n",
                "\n(int year , int month, string yieldCurveName, string valuationApproach) dataNodeTestData = (2016, 6, null, \"BBA\");",
                "\nvar activity = await CheckLoadYieldCurveAsync(args, testData, dataNodeTestData, 6.1, 0.1, 6.1);",
                "\nactivity"
            ],
            "metadata": {},
            "execution_count": 0,
            "outputs": []
        },
        {
            "cell_type": "code",
            "source": [
                "activity.Status.Should().Be(ActivityLogStatus.Succeeded);"
            ],
            "metadata": {},
            "execution_count": 0,
            "outputs": []
        },
        {
            "cell_type": "code",
            "source": [
                "var args = new Args(\"CH\",2020,9,Periodicity.Monthly,null);",
                "\nvar testData = new YieldCurve[] {new YieldCurve{ Currency = \"EUR\", Year = 2020, Month = 6, Name = \"A\", Values = new double[]{0.1,0.2,0.3,0.4,0.5,0.6} }, ",
                "\n                                 new YieldCurve{ Currency = \"EUR\", Year = 2020, Month = 6, Values = new double[]{1.1,1.2,1.3,1.4,1.5,1.6} }, ",
                "\n                                 new YieldCurve{ Currency = \"CHF\", Year = 2020, Month = 6, Name = \"A\", Values = new double[]{3.1,3.2,3.3,3.4,3.5,3.6} }, ",
                "\n                                 new YieldCurve{ Currency = \"EUR\", Year = 2020, Month = 6, Name = \"B\", Values = new double[]{2.1,2.2,2.3,2.4,2.5,2.6} }, ",
                "\n                                 new YieldCurve{ Currency = \"EUR\", Year = 2016, Month = 3, Name = \"A\", Values = new double[]{6.1,6.2,6.3,6.4,6.5,6.6} },",
                "\n                                 new YieldCurve{ Currency = \"EUR\", Year = 2016, Month = 3, Values = new double[]{9.1,9.2,9.3,9.4,9.5,9.6} },",
                "\n                                 new YieldCurve{ Currency = \"CHF\", Year = 2016, Month = 3, Name = \"A\", Values = new double[]{8.1,8.2,8.3,8.4,8.5,8.6} },",
                "\n                                 new YieldCurve{ Currency = \"EUR\", Year = 2016, Month = 3, Name = \"B\", Values = new double[]{7.1,7.2,7.3,7.4,7.5,7.6} }};",
                "\n",
                "\n(int year , int month, string yieldCurveName, string valuationApproach) dataNodeTestData = (2016, 6, \"A\", \"BBA\");",
                "\nvar activity = await CheckLoadYieldCurveAsync(args, testData, dataNodeTestData, 9.1, 1.1, 6.1);",
                "\nactivity"
            ],
            "metadata": {},
            "execution_count": 0,
            "outputs": []
        },
        {
            "cell_type": "code",
            "source": [
                "activity.Status.Should().Be(ActivityLogStatus.Succeeded);"
            ],
            "metadata": {},
            "execution_count": 0,
            "outputs": []
        },
        {
            "cell_type": "code",
            "source": [
                "var args = new Args(\"CH\",2020,9,Periodicity.Monthly,null);",
                "\nvar testData = new YieldCurve[] {new YieldCurve{ Currency = \"EUR\", Year = 2020, Month = 12, Name = \"A\", Values = new double[]{11.1,11.2,11.3,11.4,11.5,11.6} }, ",
                "\n                                 new YieldCurve{ Currency = \"EUR\", Year = 2020, Month = 12, Values = new double[]{100.1,100.2,100.3,100.4,100.5,100.6} }, ",
                "\n                                 new YieldCurve{ Currency = \"EUR\", Year = 2020, Month = 9, Name = \"A\", Values = new double[]{12.1,12.2,12.3,12.4,12.5,12.6} },",
                "\n                                 new YieldCurve{ Currency = \"EUR\", Year = 2020, Month = 9, Values = new double[]{90.1,90.2,90.3,90.4,90.5,90.6} }, ",
                "\n                                 new YieldCurve{ Currency = \"EUR\", Year = 2020, Month = 6, Name = \"A\", Values = new double[]{13.1,13.2,13.3,13.4,13.5,13.6} },",
                "\n                                 new YieldCurve{ Currency = \"EUR\", Year = 2020, Month = 6, Values = new double[]{80.1,80.2,80.3,80.4,80.5,80.6} }, ",
                "\n                                 new YieldCurve{ Currency = \"EUR\", Year = 2020, Month = 3, Name = \"A\", Values = new double[]{1.1,1.2,1.3,1.4,1.5,1.6} }, ",
                "\n                                 new YieldCurve{ Currency = \"EUR\", Year = 2020, Month = 3, Values = new double[]{70.1,70.2,70.3,70.4,70.5,70.6} }, ",
                "\n                                 new YieldCurve{ Currency = \"EUR\", Year = 2019, Month = 12, Name = \"A\", Values = new double[]{9.1,9.2,9.3,9.4,9.5,9.6} },",
                "\n                                 new YieldCurve{ Currency = \"EUR\", Year = 2019, Month = 12, Values = new double[]{60.1,60.2,60.3,60.4,60.5,60.6} },",
                "\n                                 new YieldCurve{ Currency = \"EUR\", Year = 2019, Month = 9, Name = \"A\", Values = new double[]{10.1,10.2,10.3,10.4,10.5,10.6} }, ",
                "\n                                 new YieldCurve{ Currency = \"EUR\", Year = 2019, Month = 9, Values = new double[]{50.1,50.2,50.3,50.4,50.5,50.6} },",
                "\n                                 new YieldCurve{ Currency = \"EUR\", Year = 2019, Month = 6, Name = \"A\", Values = new double[]{2.1,2.2,2.3,2.4,2.5,2.6} },",
                "\n                                 new YieldCurve{ Currency = \"EUR\", Year = 2019, Month = 6, Values = new double[]{40.1,40.2,40.3,40.4,40.5,40.6} },",
                "\n                                 new YieldCurve{ Currency = \"EUR\", Year = 2019, Month = 3, Name = \"A\", Values = new double[]{7.1,7.2,7.3,7.4,7.5,7.6} },",
                "\n                                 new YieldCurve{ Currency = \"EUR\", Year = 2019, Month = 3, Values = new double[]{30.1,30.2,30.3,30.4,30.5,30.6} },",
                "\n                                 new YieldCurve{ Currency = \"EUR\", Year = 2018, Month = 6, Name = \"A\", Values = new double[]{3.1,3.2,3.3,3.4,3.5,3.6} },",
                "\n                                 new YieldCurve{ Currency = \"EUR\", Year = 2018, Month = 6, Values = new double[]{20.1,20.2,20.3,20.4,20.5,20.6} },",
                "\n                                 new YieldCurve{ Currency = \"EUR\", Year = 2017, Month = 6, Name = \"A\", Values = new double[]{4.1,4.2,4.3,4.4,4.5,4.6} }, ",
                "\n                                 new YieldCurve{ Currency = \"EUR\", Year = 2016, Month = 12, Name = \"A\", Values = new double[]{8.1,8.2,8.3,8.4,8.5,8.6} },",
                "\n                                 new YieldCurve{ Currency = \"EUR\", Year = 2016, Month = 3, Name = \"A\", Values = new double[]{6.1,6.2,6.3,6.4,6.5,6.6} }};",
                "\n",
                "\n(int year , int month, string yieldCurveName, string valuationApproach) dataNodeTestData = (2016, 6, \"A\", \"BBA\");",
                "\nvar activity = await CheckLoadYieldCurveAsync(args, testData, dataNodeTestData, 60.1, 90.1, 8.1);",
                "\nactivity"
            ],
            "metadata": {},
            "execution_count": 0,
            "outputs": []
        },
        {
            "cell_type": "code",
            "source": [
                "activity.Status.Should().Be(ActivityLogStatus.Succeeded);"
            ],
            "metadata": {},
            "execution_count": 0,
            "outputs": []
        },
        {
            "cell_type": "code",
            "source": [
                "var args = new Args(\"CH\",2020,9,Periodicity.Monthly,null);",
                "\nvar testData = new YieldCurve[] {new YieldCurve{ Currency = \"EUR\", Year = 2020, Month = 6, Name = \"A\", Values = new double[]{0.1,0.2,0.3,0.4,0.5,0.6} }, ",
                "\n                                 new YieldCurve{ Currency = \"EUR\", Year = 2020, Month = 6, Name = \"B\", Values = new double[]{2.1,2.2,2.3,2.4,2.5,2.6} }, ",
                "\n                                 new YieldCurve{ Currency = \"EUR\", Year = 2016, Month = 3, Name = \"A\", Values = new double[]{6.1,6.2,6.3,6.4,6.5,6.6} },",
                "\n                                 new YieldCurve{ Currency = \"EUR\", Year = 2016, Month = 3, Name = \"B\", Values = new double[]{4.1,4.2,4.3,4.4,4.5,4.6}  }};",
                "\n                                 ",
                "\n(int year , int month, string yieldCurveName, string valuationApproach) dataNodeTestData = (2016, 6, \"A\", \"VFA\");",
                "\nvar activity = await CheckLoadYieldCurveAsync(args, testData, dataNodeTestData, 6.1, 0.1);",
                "\nactivity"
            ],
            "metadata": {},
            "execution_count": 0,
            "outputs": []
        },
        {
            "cell_type": "code",
            "source": [
                "activity.Status.Should().Be(ActivityLogStatus.Succeeded);"
            ],
            "metadata": {},
            "execution_count": 0,
            "outputs": []
        },
        {
            "cell_type": "code",
            "source": [
                "var args = new Args(\"CH\",2020,9,Periodicity.Monthly,null);",
                "\nvar testData = new YieldCurve[] {new YieldCurve{ Currency = \"EUR\", Year = 2020, Month = 6, Name = \"B\", Values = new double[]{0.1,0.2,0.3,0.4,0.5,0.6} },",
                "\n                                 new YieldCurve{ Currency = \"EUR\", Year = 2020, Month = 6, Values = new double[]{10.1,10.2,10.3,10.4,10.5,10.6} }, ",
                "\n                                 new YieldCurve{ Currency = \"EUR\", Year = 2020, Month = 6, Name = \"B\", Values = new double[]{2.1,2.2,2.3,2.4,2.5,2.6} }, ",
                "\n                                 new YieldCurve{ Currency = \"EUR\", Year = 2016, Month = 3, Name = \"C\", Values = new double[]{4.1,4.2,4.3,4.4,4.5,4.6} },",
                "\n                                 new YieldCurve{ Currency = \"EUR\", Year = 2016, Month = 3, Name = \"B\", Values = new double[]{6.1,6.2,6.3,6.4,6.5,6.6} }};",
                "\n",
                "\n(int year , int month, string yieldCurveName, string valuationApproach) dataNodeTestData = (2016, 2, \"A\", \"BBA\");",
                "\nvar activity = await CheckLoadYieldCurveAsync(args, testData, dataNodeTestData, 10.1, 10.1);",
                "\nactivity"
            ],
            "metadata": {},
            "execution_count": 0,
            "outputs": []
        },
        {
            "cell_type": "code",
            "source": [
                "activity.Status.Should().Be(ActivityLogStatus.Failed);",
                "\nactivity.Errors.Count().Should().Be(1)"
            ],
            "metadata": {},
            "execution_count": 0,
            "outputs": []
        },
        {
            "cell_type": "code",
            "source": [
                "var expectedErrorMessage = Get(Error.YieldCurveNotFound, \"EUR\",\"2016\",\"12\",\"Best Estimate\",\"A\");",
                "\nvar errorMessage = activity.Errors.First().ToString();",
                "\nerrorMessage.Contains(expectedErrorMessage).Should().Be(true);"
            ],
            "metadata": {},
            "execution_count": 0,
            "outputs": []
        },
        {
            "cell_type": "code",
            "source": [
                "var args = new Args(\"CH\",2016,9,Periodicity.Monthly,null);",
                "\nvar testData = new YieldCurve[] {new YieldCurve{ Currency = \"EUR\", Year = 2020, Month = 6, Name = \"B\", Values = new double[]{0.1,0.2,0.3,0.4,0.5,0.6} },",
                "\n                                 new YieldCurve{ Currency = \"EUR\", Year = 2016, Month = 6, Values = new double[]{10.1,10.2,10.3,10.4,10.5,10.6} }, ",
                "\n                                 new YieldCurve{ Currency = \"EUR\", Year = 2020, Month = 6, Name = \"B\", Values = new double[]{2.1,2.2,2.3,2.4,2.5,2.6} }, ",
                "\n                                 new YieldCurve{ Currency = \"EUR\", Year = 2016, Month = 3, Name = \"C\", Values = new double[]{4.1,4.2,4.3,4.4,4.5,4.6} },",
                "\n                                 new YieldCurve{ Currency = \"EUR\", Year = 2016, Month = 3, Name = \"B\", Values = new double[]{6.1,6.2,6.3,6.4,6.5,6.6} }};",
                "\n",
                "\n(int year , int month, string yieldCurveName, string valuationApproach) dataNodeTestData = (2016, 2, \"A\", \"BBA\");",
                "\nvar activity = await CheckLoadYieldCurveAsync(args, testData, dataNodeTestData, 10.1, 10.1);",
                "\nactivity"
            ],
            "metadata": {},
            "execution_count": 0,
            "outputs": []
        },
        {
            "cell_type": "code",
            "source": [
                "activity.Status.Should().Be(ActivityLogStatus.Failed);",
                "\nactivity.Errors.Count().Should().Be(1);"
            ],
            "metadata": {},
            "execution_count": 0,
            "outputs": []
        },
        {
            "cell_type": "code",
            "source": [
                "var expectedErrorMessage = Get(Error.YieldCurveNotFound, \"EUR\",\"2016\",\"9\",\"Best Estimate\",\"A\");",
                "\nvar errorMessage = activity.Errors.First().ToString();",
                "\nerrorMessage.Contains(expectedErrorMessage).Should().Be(true);"
            ],
            "metadata": {},
            "execution_count": 0,
            "outputs": []
        },
        {
            "cell_type": "code",
            "source": [
                "var args = new Args(\"CH\",2020,9,Periodicity.Monthly,\"YCUP\");",
                "\nvar testData = new YieldCurve[] {new YieldCurve{ Currency = \"EUR\", Year = 2020, Month = 6, Name = \"A\", Values = new double[]{0.1,0.2,0.3,0.4,0.5,0.6} }, ",
                "\n                                 new YieldCurve{ Currency = \"EUR\", Year = 2020, Month = 6, Values = new double[]{1.1,1.2,1.3,1.4,1.5,1.6} }, ",
                "\n                                 new YieldCurve{ Currency = \"CHF\", Year = 2020, Month = 6, Name = \"A\", Values = new double[]{3.1,3.2,3.3,3.4,3.5,3.6} }, ",
                "\n                                 new YieldCurve{ Currency = \"EUR\", Year = 2020, Month = 6, Name = \"B\", Values = new double[]{2.1,2.2,2.3,2.4,2.5,2.6} }, ",
                "\n                                 new YieldCurve{ Currency = \"EUR\", Year = 2016, Month = 3, Name = \"A\", Values = new double[]{6.1,6.2,6.3,6.4,6.5,6.6} },",
                "\n                                 new YieldCurve{ Currency = \"EUR\", Year = 2016, Month = 3, Values = new double[]{9.1,9.2,9.3,9.4,9.5,9.6} },",
                "\n                                 new YieldCurve{ Currency = \"CHF\", Year = 2016, Month = 3, Name = \"A\", Values = new double[]{8.1,8.2,8.3,8.4,8.5,8.6} },",
                "\n                                 new YieldCurve{ Currency = \"EUR\", Year = 2016, Month = 3, Name = \"B\", Values = new double[]{7.1,7.2,7.3,7.4,7.5,7.6} }};",
                "\n",
                "\n(int year , int month, string yieldCurveName, string valuationApproach) dataNodeTestData = (2016, 6, \"A\", \"BBA\");",
                "\nvar activity = await CheckLoadYieldCurveAsync(args, testData, dataNodeTestData, 9.1, 1.1, 6.1);",
                "\nactivity"
            ],
            "metadata": {},
            "execution_count": 0,
            "outputs": []
        },
        {
            "cell_type": "code",
            "source": [
                "activity.Status.Should().Be(ActivityLogStatus.Succeeded);"
            ],
            "metadata": {},
            "execution_count": 0,
            "outputs": []
        },
        {
            "cell_type": "code",
            "source": [
                "var args = new Args(\"CH\",2020,9,Periodicity.Monthly,\"YCUP\");",
                "\nvar testData = new YieldCurve[] {new YieldCurve{ Currency = \"EUR\", Year = 2020, Month = 6, Name = \"A\", Values = new double[]{0.1,0.2,0.3,0.4,0.5,0.6} }, ",
                "\n                                 new YieldCurve{ Currency = \"EUR\", Year = 2020, Month = 6, Values = new double[]{1.1,1.2,1.3,1.4,1.5,1.6} }, ",
                "\n                                 new YieldCurve{ Currency = \"CHF\", Year = 2020, Month = 6, Name = \"A\", Values = new double[]{3.1,3.2,3.3,3.4,3.5,3.6} }, ",
                "\n                                 new YieldCurve{ Currency = \"EUR\", Year = 2020, Month = 6, Name = \"B\", Values = new double[]{2.1,2.2,2.3,2.4,2.5,2.6} }, ",
                "\n                                 new YieldCurve{ Currency = \"EUR\", Year = 2016, Month = 3, Name = \"A\", Values = new double[]{6.1,6.2,6.3,6.4,6.5,6.6} },",
                "\n                                 new YieldCurve{ Currency = \"EUR\", Year = 2016, Month = 3, Values = new double[]{9.1,9.2,9.3,9.4,9.5,9.6} },",
                "\n                                 new YieldCurve{ Currency = \"CHF\", Year = 2016, Month = 3, Name = \"A\", Values = new double[]{8.1,8.2,8.3,8.4,8.5,8.6} },",
                "\n                                 new YieldCurve{ Currency = \"EUR\", Year = 2016, Month = 3, Name = \"B\", Values = new double[]{7.1,7.2,7.3,7.4,7.5,7.6} },",
                "\n                                 new YieldCurve{ Currency = \"EUR\", Year = 2016, Month = 3, Scenario = \"YCUP\", Values = new double[]{90.1,9.2,9.3} },",
                "\n                                 new YieldCurve{ Currency = \"EUR\", Year = 2020, Month = 6, Scenario = \"YCUP\", Values = new double[]{10.1,1.2,1.3} },",
                "\n                                 new YieldCurve{ Currency = \"EUR\", Year = 2016, Month = 3, Name = \"A\", Scenario = \"YCUP\", Values = new double[]{60.1,6.2,6.3} }, };",
                "\n",
                "\n(int year , int month, string yieldCurveName, string valuationApproach) dataNodeTestData = (2016, 6, \"A\", \"BBA\");",
                "\nvar activity = await CheckLoadYieldCurveAsync(args, testData, dataNodeTestData, 9.1, 10.1, 60.1);",
                "\nactivity"
            ],
            "metadata": {},
            "execution_count": 0,
            "outputs": []
        },
        {
            "cell_type": "code",
            "source": [
                "activity.Status.Should().Be(ActivityLogStatus.Succeeded);"
            ],
            "metadata": {},
            "execution_count": 0,
            "outputs": []
        },
        {
            "cell_type": "markdown",
            "source": [
                "# Test Load Data Node Parameter"
            ],
            "metadata": {},
            "execution_count": 0,
            "outputs": []
        },
        {
            "cell_type": "code",
            "source": [
                "var gic2 = \"gic2\";",
                "\nvar xgic = \"xgic\";",
                "\nvar gric1 = \"gric1\";"
            ],
            "metadata": {},
            "execution_count": 0,
            "outputs": []
        },
        {
            "cell_type": "code",
            "source": [
                "public async Task<ActivityLog> CheckLoadInterDataNodeParameterAsync(Args args, IEnumerable<InterDataNodeParameter> testData, ",
                "\n                                                       int previousYear,",
                "\n                                                       int? currentYear = null)",
                "\n{",
                "\n    Activity.Start();",
                "\n    currentYear = currentYear ?? previousYear;",
                "\n    await Workspace.Partition.SetAsync<PartitionByReportingNode>(args);",
                "\n    await Workspace.UpdateAsync(testData);",
                "\n        ",
                "\n    var interDataNodeParameters = await LoadInterDataNodeParametersAsync(Workspace, args);",
                "\n   ",
                "\n    //Check Keys",
                "\n    var uniqueLinks = testData.Select(x => x.DataNode).Concat(testData.Select(x => x.LinkedDataNode)).ToHashSet();",
                "\n    uniqueLinks.Intersect(interDataNodeParameters.Keys).Count().Should().Be(uniqueLinks.Count());",
                "\n    ",
                "\n    //CheckInnerDictionaries",
                "\n    var currentYearData = testData.Where(x => x.Year == currentYear);",
                "\n    var previousYearData = testData.Where(x => x.Year == previousYear);",
                "\n    ",
                "\n    var errors = new List<string>();",
                "\n    foreach(var dn in uniqueLinks)",
                "\n    {",
                "\n        //Set up BM counts",
                "\n        var currentLinks = currentYearData.Select(x => x.DataNode).Concat(currentYearData.Select(x => x.LinkedDataNode));",
                "\n        var currentLinksCount = currentLinks.Where(x => x == dn).Count();",
                "\n        var prevlinks = previousYearData.Select(x => x.DataNode).Concat(previousYearData.Select(x => x.LinkedDataNode));",
                "\n        var previousLinksCount = prevlinks.Where(x => x == dn).Count();",
                "\n        ",
                "\n        //Current Period",
                "\n        var computedCount = interDataNodeParameters[dn][CurrentPeriod].Count();",
                "\n",
                "\n        if (currentYearData.Any())",
                "\n        {",
                "\n            if(computedCount != currentLinksCount)",
                "\n                errors.Add( $\"Current DataNode parameter count for {dn} not matching:\\n Expected {currentLinksCount} \\n Computed {computedCount}.\" );",
                "\n        }",
                "\n        else if(computedCount != previousLinksCount)",
                "\n                errors.Add( $\"Current DataNode parameter count for {dn} not matching:\\n Expected {previousLinksCount} \\n Computed {computedCount}.\" );",
                "\n        ",
                "\n        foreach (var param in interDataNodeParameters[dn][CurrentPeriod])",
                "\n        {",
                "\n            var linkedDn = param.DataNode == dn ? param.LinkedDataNode : param.DataNode;",
                "\n            var isLinkInPrevPeriod = previousYearData.Any(x => x.DataNode == dn && x.LinkedDataNode == linkedDn || x.DataNode == linkedDn && x.LinkedDataNode == dn);",
                "\n            var isLinkInCurrPeriod = currentYearData.Any(x => x.DataNode == dn && x.LinkedDataNode == linkedDn || x.DataNode == linkedDn && x.LinkedDataNode == dn); ",
                "\n            ",
                "\n           if(isLinkInPrevPeriod && !isLinkInCurrPeriod)",
                "\n            {    ",
                "\n                if (param.ReinsuranceCoverage != ((double)previousYear)/1000)",
                "\n                    errors.Add( $\"Current Reinsurance Coverage for {dn} linked to {linkedDn} not matching:\\n Expected {((double)previousYear)/1000} \\n Computed {param.ReinsuranceCoverage}.\" );",
                "\n            }",
                "\n            else if( param.ReinsuranceCoverage != ((double)currentYear)/1000)",
                "\n                errors.Add( $\"Current Reinsurance Coverage for {dn} linked to {linkedDn} not matching:\\n Expected {((double)currentYear)/1000} \\n Computed {param.ReinsuranceCoverage}.\" );",
                "\n        }",
                "\n",
                "\n        //Previous Period",
                "\n        computedCount = interDataNodeParameters[dn][PreviousPeriod].Count();",
                "\n       ",
                "\n        if (currentYearData.Any())",
                "\n        {",
                "\n            if(computedCount != currentLinksCount)",
                "\n                errors.Add( $\"Previous DataNode parameter count for {dn} not matching:\\n Expected {currentLinksCount} \\n Computed {computedCount}.\" );",
                "\n        }",
                "\n        else if(computedCount != previousLinksCount)",
                "\n                errors.Add( $\"Previous DataNode parameter count for {dn} not matching:\\n Expected {previousLinksCount} \\n Computed {computedCount}.\" );",
                "\n        ",
                "\n        foreach (var param in interDataNodeParameters[dn][PreviousPeriod])",
                "\n        {",
                "\n            var linkedDn = param.DataNode == dn ? param.LinkedDataNode : param.DataNode;",
                "\n            var isLinkInPrevPeriod = previousYearData.Any(x => x.DataNode == dn && x.LinkedDataNode == linkedDn || x.DataNode == linkedDn && x.LinkedDataNode == dn);",
                "\n            var isLinkInCurrPeriod = currentYearData.Any(x => x.DataNode == dn && x.LinkedDataNode == linkedDn || x.DataNode == linkedDn && x.LinkedDataNode == dn); ",
                "\n            ",
                "\n           if(!isLinkInPrevPeriod && isLinkInCurrPeriod)",
                "\n            {    ",
                "\n                if (param.ReinsuranceCoverage != ((double)currentYear)/1000)",
                "\n                    errors.Add( $\"Previous Reinsurance Coverage for {dn} linked to {linkedDn} not matching:\\n Expected {((double)currentYear)/1000} \\n Computed {param.ReinsuranceCoverage}.\" );",
                "\n            }",
                "\n            else if( param.ReinsuranceCoverage != ((double)previousYear)/1000)",
                "\n                errors.Add( $\"Previous Reinsurance Coverage for {dn} linked to {linkedDn} not matching:\\n Expected {((double)previousYear)/1000} \\n Computed {param.ReinsuranceCoverage}.\" );",
                "\n        }",
                "\n    }",
                "\n    ",
                "\n    Workspace.Reset(x => x.ResetCurrentPartitions());",
                "\n   ",
                "\n    if(errors.Any()) ApplicationMessage.Log(Error.Generic, string.Join(\"\\n\", errors));",
                "\n    return Activity.Finish();",
                "\n}"
            ],
            "metadata": {},
            "execution_count": 0,
            "outputs": []
        },
        {
            "cell_type": "code",
            "source": [
                "var args = new Args(\"CH\",2020,9,Periodicity.Monthly,null);",
                "\nint previousYear = 2019;",
                "\nvar testData = new InterDataNodeParameter[] ",
                "\n                                {new InterDataNodeParameter{ DataNode = gic, LinkedDataNode = gric1, ReinsuranceCoverage = ((double)previousYear)/1000, Year = previousYear, Month = 3}, ",
                "\n                                 new InterDataNodeParameter{ DataNode = gic2, LinkedDataNode = gric1, ReinsuranceCoverage = ((double)previousYear)/1000, Year = previousYear, Month = 3}, ",
                "\n                                 new InterDataNodeParameter{ DataNode = gric1, LinkedDataNode = xgic, ReinsuranceCoverage = ((double)previousYear)/1000, Year = previousYear, Month = 3}, ",
                "\n                                 };",
                "\n",
                "\nvar activity = await CheckLoadInterDataNodeParameterAsync(args, testData, previousYear);",
                "\nactivity"
            ],
            "metadata": {},
            "execution_count": 0,
            "outputs": []
        },
        {
            "cell_type": "code",
            "source": [
                "activity.Status.Should().Be(ActivityLogStatus.Succeeded);"
            ],
            "metadata": {},
            "execution_count": 0,
            "outputs": []
        },
        {
            "cell_type": "code",
            "source": [
                "var args = new Args(\"CH\",2020,9,Periodicity.Monthly,null);",
                "\nint previousYear = 2019;",
                "\nint currentYear = 2020;",
                "\nvar testData = new InterDataNodeParameter[] ",
                "\n                                {",
                "\n                                 new InterDataNodeParameter{ DataNode = gic, LinkedDataNode = gric1, ReinsuranceCoverage = ((double)previousYear)/1000, Year = previousYear, Month = 3}, ",
                "\n                                 new InterDataNodeParameter{ DataNode = gric1, LinkedDataNode = xgic, ReinsuranceCoverage = ((double)previousYear)/1000, Year = previousYear, Month = 3}, ",
                "\n                                 new InterDataNodeParameter{ DataNode = gic, LinkedDataNode = gric1, ReinsuranceCoverage = ((double)currentYear)/1000, Year = currentYear, Month = 9},",
                "\n                                 new InterDataNodeParameter{ DataNode = gic2, LinkedDataNode = gric1, ReinsuranceCoverage = ((double)currentYear)/1000, Year = currentYear, Month = 9}, ",
                "\n                                 new InterDataNodeParameter{ DataNode = gric1, LinkedDataNode = xgic, ReinsuranceCoverage = ((double)currentYear)/1000, Year = currentYear, Month = 9}, ",
                "\n                                };",
                "\n",
                "\nvar activity = await CheckLoadInterDataNodeParameterAsync(args, testData, previousYear, currentYear);",
                "\nactivity"
            ],
            "metadata": {},
            "execution_count": 0,
            "outputs": []
        },
        {
            "cell_type": "code",
            "source": [
                "activity.Status.Should().Be(ActivityLogStatus.Succeeded);"
            ],
            "metadata": {},
            "execution_count": 0,
            "outputs": []
        },
        {
            "cell_type": "code",
            "source": [
                "var args = new Args(\"CH\",2020,9,Periodicity.Monthly,null);",
                "\nint previousYear = 2019;",
                "\nint currentYear = 2020;",
                "\nvar testData = new InterDataNodeParameter[] ",
                "\n                                {",
                "\n                                 new InterDataNodeParameter{ DataNode = gic, LinkedDataNode = gric1, ReinsuranceCoverage = ((double)previousYear)/1000, Year = previousYear, Month = 3}, ",
                "\n                                 new InterDataNodeParameter{ DataNode = gric1, LinkedDataNode = xgic, ReinsuranceCoverage = ((double)previousYear)/1000, Year = previousYear, Month = 3}, ",
                "\n                                };",
                "\n",
                "\nvar activity = await CheckLoadInterDataNodeParameterAsync(args, testData, previousYear, currentYear);",
                "\nactivity"
            ],
            "metadata": {},
            "execution_count": 0,
            "outputs": []
        },
        {
            "cell_type": "code",
            "source": [
                "activity.Status.Should().Be(ActivityLogStatus.Succeeded);"
            ],
            "metadata": {},
            "execution_count": 0,
            "outputs": []
        },
        {
            "cell_type": "code",
            "source": [
                "var args = new Args(\"CH\",2020,9,Periodicity.Monthly,null);",
                "\nint previousYear = 2019;",
                "\nint currentYear = 2020;",
                "\nvar testData = new InterDataNodeParameter[] ",
                "\n                                {",
                "\n                                 new InterDataNodeParameter{ DataNode = gic, LinkedDataNode = gric1, ReinsuranceCoverage = ((double)currentYear)/1000, Year = currentYear, Month = 3}, ",
                "\n                                 new InterDataNodeParameter{ DataNode = gric1, LinkedDataNode = xgic, ReinsuranceCoverage = ((double)currentYear)/1000, Year = currentYear, Month = 3}, ",
                "\n                                };",
                "\n",
                "\nvar activity = await CheckLoadInterDataNodeParameterAsync(args, testData, previousYear, currentYear);",
                "\nactivity"
            ],
            "metadata": {},
            "execution_count": 0,
            "outputs": []
        },
        {
            "cell_type": "code",
            "source": [
                "activity.Status.Should().Be(ActivityLogStatus.Succeeded);"
            ],
            "metadata": {},
            "execution_count": 0,
            "outputs": []
        },
        {
            "cell_type": "code",
            "source": [
                ""
            ],
            "metadata": {},
            "execution_count": 0,
            "outputs": []
        }
    ]
}
