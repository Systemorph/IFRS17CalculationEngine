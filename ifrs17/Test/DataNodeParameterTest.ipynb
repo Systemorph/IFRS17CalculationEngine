{
    "metadata": {
        "authors": [],
        "id": "NpyHCIZoQUC0-mOcSyoLvw",
        "kernelspec": {
            "display_name": "Formula Framework",
            "language": "C#",
            "name": "C#"
        },
        "language_info": {
            "file_extension": ".cs",
            "mimetype": "text/plain",
            "name": "C#"
        }
    },
    "nbformat": 4,
    "nbformat_minor": 5,
    "cells": [
        {
            "cell_type": "markdown",
            "source": [
                "<p style=\"font-weight:bold;\"> <span style=\"font-size: 36px\"> Test DataNode Validation </span> </p>"
            ],
            "metadata": {},
            "execution_count": 0,
            "outputs": []
        },
        {
            "cell_type": "code",
            "source": [
                "#!import \"../Import/Importers\""
            ],
            "metadata": {},
            "execution_count": 0,
            "outputs": []
        },
        {
            "cell_type": "code",
            "source": [
                "#!import \"TestData\""
            ],
            "metadata": {},
            "execution_count": 0,
            "outputs": []
        },
        {
            "cell_type": "markdown",
            "source": [
                "# Workspace Initialization "
            ],
            "metadata": {},
            "execution_count": 0,
            "outputs": []
        },
        {
            "cell_type": "code",
            "source": [
                "await Import.FromString(novelties).WithType<Novelty>().WithTarget(DataSource).ExecuteAsync();",
                "\nawait Import.FromString(canonicalAocTypes).WithType<AocType>().WithTarget(DataSource).ExecuteAsync();",
                "\nawait Import.FromString(canonicalAocConfig).WithFormat(ImportFormats.AocConfiguration).WithTarget(DataSource).ExecuteAsync();"
            ],
            "metadata": {},
            "execution_count": 0,
            "outputs": []
        },
        {
            "cell_type": "code",
            "source": [
                "await DataSource.UpdateAsync(reportingNodes);",
                "\nawait DataSource.UpdateAsync<Portfolio>(dt1.RepeatOnce());",
                "\nawait DataSource.UpdateAsync<Portfolio>(dtr1.RepeatOnce());",
                "\nawait DataSource.UpdateAsync<GroupOfInsuranceContract>(new [] {dt11});",
                "\nawait DataSource.UpdateAsync<GroupOfReinsuranceContract>(new [] {dtr11});"
            ],
            "metadata": {},
            "execution_count": 0,
            "outputs": []
        },
        {
            "cell_type": "code",
            "source": [
                "await DataSource.UpdateAsync(new [ ] {dt11State,dtr11State});"
            ],
            "metadata": {},
            "execution_count": 0,
            "outputs": []
        },
        {
            "cell_type": "code",
            "source": [
                "await Import.FromString(estimateType).WithType<EstimateType>().WithTarget(DataSource).ExecuteAsync();",
                "\nawait Import.FromString(economicBasis).WithType<EconomicBasis>().WithTarget(DataSource).ExecuteAsync();"
            ],
            "metadata": {},
            "execution_count": 0,
            "outputs": []
        },
        {
            "cell_type": "code",
            "source": [
                "await DataSource.UpdateAsync(new [ ] {yieldCurvePrevious});"
            ],
            "metadata": {},
            "execution_count": 0,
            "outputs": []
        },
        {
            "cell_type": "code",
            "source": [
                "await DataSource.UpdateAsync(new[]{partition, previousPeriodPartition});",
                "\nawait DataSource.UpdateAsync(new[]{partitionReportingNode});"
            ],
            "metadata": {},
            "execution_count": 0,
            "outputs": []
        },
        {
            "cell_type": "code",
            "source": [
                "Workspace.Initialize(x => x.FromSource(DataSource).DisableInitialization<RawVariable>().DisableInitialization<IfrsVariable>());"
            ],
            "metadata": {},
            "execution_count": 0,
            "outputs": []
        },
        {
            "cell_type": "markdown",
            "source": [
                "# Test"
            ],
            "metadata": {},
            "execution_count": 0,
            "outputs": []
        },
        {
            "cell_type": "code",
            "source": [
                "public async Task<ActivityLog> TestValidation(string inputFile,  List<string> errorBms){",
                "\n    var ws = Workspace.CreateNew();",
                "\n    ws.InitializeFrom(DataSource);",
                "\n    Activity.Start();",
                "\n    var log = await Import.FromString(inputFile).WithFormat(ImportFormats.DataNodeParameter).WithTarget(ws).ExecuteAsync();",
                "\n    log.Errors.Count().Should().Be(errorBms.Count());",
                "\n    errorBms.Intersect(log.Errors.Select(x => x.ToString().Substring(0,x.ToString().Length-2).Substring(40)).ToArray()).Count().Should().Be(errorBms.Count());",
                "\n    return Activity.Finish();",
                "\n}"
            ],
            "metadata": {},
            "execution_count": 0,
            "outputs": []
        },
        {
            "cell_type": "markdown",
            "source": [
                "# Use Cases"
            ],
            "metadata": {},
            "execution_count": 0,
            "outputs": []
        },
        {
            "cell_type": "markdown",
            "source": [
                "## Invalid DataNode in Single and Inter Parameter"
            ],
            "metadata": {},
            "execution_count": 0,
            "outputs": []
        },
        {
            "cell_type": "code",
            "source": [
                "var inputFile = ",
                "\n@\"@@Main",
                "\nReportingNode,Year,Month",
                "\nCH,2020,12",
                "\n",
                "\n@@SingleDataNodeParameter",
                "\nDataNode,PremiumAllocation,CashFlowPeriodicity,InterpolationMethod",
                "\nDT1.1,0.9,Monthly,Uniform",
                "\nDataNodeInvalid0,0.85,Monthly,Uniform",
                "\n",
                "\n@@InterDataNodeParameter",
                "\nDataNode,LinkedDataNode,ReinsuranceCoverage",
                "\nDTR1.1,DT1.1,1",
                "\nDataNodeInvalid1,DTR1.1,1",
                "\nDTR1.1,DataNodeInvalid2,1\";",
                "\n",
                "\nvar errorsBm = new List<string>(){Error.InvalidDataNode.GetMessage(\"DataNodeInvalid0\"),",
                "\n                                  Error.InvalidDataNode.GetMessage(\"DataNodeInvalid1\"),",
                "\n                                  Error.InvalidDataNode.GetMessage(\"DataNodeInvalid2\")};"
            ],
            "metadata": {},
            "execution_count": 0,
            "outputs": []
        },
        {
            "cell_type": "code",
            "source": [
                "var activity = await TestValidation(inputFile, errorsBm);",
                "\nactivity"
            ],
            "metadata": {},
            "execution_count": 0,
            "outputs": []
        },
        {
            "cell_type": "markdown",
            "source": [
                "## Duplicated DataNode"
            ],
            "metadata": {},
            "execution_count": 0,
            "outputs": []
        },
        {
            "cell_type": "code",
            "source": [
                "var inputFile = ",
                "\n@\"@@Main",
                "\nReportingNode,Year,Month",
                "\nCH,2020,12",
                "\n",
                "\n@@SingleDataNodeParameter",
                "\nDataNode,PremiumAllocation",
                "\nDT1.1,0.9",
                "\nDT1.1,0.9",
                "\n",
                "\n@@InterDataNodeParameter",
                "\nDataNode,LinkedDataNode,ReinsuranceCoverage",
                "\nDTR1.1,DT1.1,1",
                "\nDT1.1,DTR1.1,1",
                "\n\";",
                "\nvar errorsBm = new List<string>(){Error.DuplicateSingleDataNode.GetMessage(\"DT1.1\"),",
                "\n                                  Error.DuplicateInterDataNode.GetMessage(\"DT1.1\",\"DTR1.1\"),};"
            ],
            "metadata": {},
            "execution_count": 0,
            "outputs": []
        },
        {
            "cell_type": "code",
            "source": [
                "var activity = await TestValidation(inputFile, errorsBm);",
                "\nactivity"
            ],
            "metadata": {},
            "execution_count": 0,
            "outputs": []
        },
        {
            "cell_type": "markdown",
            "source": [
                "## Single Data Node without Premium Allocation"
            ],
            "metadata": {},
            "execution_count": 0,
            "outputs": []
        },
        {
            "cell_type": "code",
            "source": [
                "var minimalParametersScenario = @\"",
                "\n@@Main",
                "\nReportingNode,Year,Month",
                "\nCH,2020,12",
                "\n@@SingleDataNodeParameter",
                "\nDataNode",
                "\nDT1.1",
                "\n@@InterDataNodeParameter",
                "\nDataNode,LinkedDataNode,ReinsuranceCoverage",
                "\nDT1.1,DTR1.1,0.62\";"
            ],
            "metadata": {},
            "execution_count": 0,
            "outputs": []
        },
        {
            "cell_type": "code",
            "source": [
                "var log = await Import.FromString(minimalParametersScenario).WithFormat(ImportFormats.DataNodeParameter).WithTarget(DataSource).ExecuteAsync();",
                "\nlog.Status.Should().Be(ActivityLogStatus.Succeeded);"
            ],
            "metadata": {},
            "execution_count": 0,
            "outputs": []
        },
        {
            "cell_type": "markdown",
            "source": [
                "## Reinsurance Coverage"
            ],
            "metadata": {},
            "execution_count": 0,
            "outputs": []
        },
        {
            "cell_type": "code",
            "source": [
                "var inputFile = ",
                "\n@\"",
                "\n@@Main",
                "\nReportingNode,Year,Month",
                "\nCH,2020,12",
                "\n",
                "\n@@SingleDataNodeParameter",
                "\nDataNode,PremiumAllocation,",
                "\nDT1.1,0.85,",
                "\n@@InterDataNodeParameter",
                "\nDataNode,LinkedDataNode,ReinsuranceCoverage",
                "\nDT1.1,DT1.1,1",
                "\n\";",
                "\nvar errorsBm = new List<string>(){Error.ReinsuranceCoverageDataNode.GetMessage(\"DT1.1\",\"DT1.1\")};"
            ],
            "metadata": {},
            "execution_count": 0,
            "outputs": []
        },
        {
            "cell_type": "code",
            "source": [
                "var activity = await TestValidation(inputFile, errorsBm);",
                "\nactivity"
            ],
            "metadata": {},
            "execution_count": 0,
            "outputs": []
        },
        {
            "cell_type": "markdown",
            "source": [
                "## Interpolation Method"
            ],
            "metadata": {},
            "execution_count": 0,
            "outputs": []
        },
        {
            "cell_type": "markdown",
            "source": [
                "### Wrong value fails"
            ],
            "metadata": {},
            "execution_count": 0,
            "outputs": []
        },
        {
            "cell_type": "code",
            "source": [
                "var inputFile = ",
                "\n@\"@@Main",
                "\nReportingNode,Year,Month",
                "\nCH,2020,12",
                "\n",
                "\n@@SingleDataNodeParameter",
                "\nDataNode,PremiumAllocation,CashFlowPeriodicity,InterpolationMethod",
                "\nDT1.1,0.85,Monthly,InvalidEntry",
                "\n\";",
                "\nvar errorsBm = new List<string>(){Error.InvalidInterpolationMethod.GetMessage(\"DT1.1\"),};"
            ],
            "metadata": {},
            "execution_count": 0,
            "outputs": []
        },
        {
            "cell_type": "code",
            "source": [
                "var activity = await TestValidation(inputFile, errorsBm);",
                "\nactivity"
            ],
            "metadata": {},
            "execution_count": 0,
            "outputs": []
        },
        {
            "cell_type": "markdown",
            "source": [
                "### Null value passes when interpolation is required "
            ],
            "metadata": {},
            "execution_count": 0,
            "outputs": []
        },
        {
            "cell_type": "code",
            "source": [
                "var inputFile = ",
                "\n@\"@@Main",
                "\nReportingNode,Year,Month",
                "\nCH,2020,12",
                "\n",
                "\n@@SingleDataNodeParameter",
                "\nDataNode,PremiumAllocation,CashFlowPeriodicity,InterpolationMethod",
                "\nDT1.1,0.85,Monthly,,",
                "\n\";",
                "\nvar errorsBm = new List<string>(){};//Get(Error.InvalidInterpolationMethod, \"DT1.1\"),};"
            ],
            "metadata": {},
            "execution_count": 0,
            "outputs": []
        },
        {
            "cell_type": "code",
            "source": [
                "var activity = await TestValidation(inputFile, errorsBm);",
                "\nactivity"
            ],
            "metadata": {},
            "execution_count": 0,
            "outputs": []
        },
        {
            "cell_type": "markdown",
            "source": [
                "### Null value is not accepted when interpolation is required"
            ],
            "metadata": {},
            "execution_count": 0,
            "outputs": []
        },
        {
            "cell_type": "code",
            "source": [
                "var inputFile = ",
                "\n@\"@@Main",
                "\nReportingNode,Year,Month",
                "\nCH,2020,12",
                "\n",
                "\n@@SingleDataNodeParameter",
                "\nDataNode,PremiumAllocation,CashFlowPeriodicity,InterpolationMethod",
                "\nDT1.1,0.85,Yearly,,",
                "\n\";",
                "\nvar errorsBm = new List<string>(){Error.InvalidInterpolationMethod.GetMessage(\"DT1.1\"),};"
            ],
            "metadata": {},
            "execution_count": 0,
            "outputs": []
        },
        {
            "cell_type": "code",
            "source": [
                "var activity = await TestValidation(inputFile, errorsBm);",
                "\nactivity"
            ],
            "metadata": {},
            "execution_count": 0,
            "outputs": []
        },
        {
            "cell_type": "markdown",
            "source": [
                "## CashFlow Periodicity"
            ],
            "metadata": {},
            "execution_count": 0,
            "outputs": []
        },
        {
            "cell_type": "markdown",
            "source": [
                "### Wrong Value"
            ],
            "metadata": {},
            "execution_count": 0,
            "outputs": []
        },
        {
            "cell_type": "code",
            "source": [
                "var inputFile = ",
                "\n@\"@@Main",
                "\nReportingNode,Year,Month",
                "\nCH,2020,12",
                "\n",
                "\n@@SingleDataNodeParameter",
                "\nDataNode,PremiumAllocation,CashFlowPeriodicity,InterpolationMethod",
                "\nDT1.1,0.85,A,,",
                "\n\";",
                "\nvar errorsBm = new List<string>(){Error.InvalidCashFlowPeriodicity.GetMessage(\"DT1.1\"),};"
            ],
            "metadata": {},
            "execution_count": 0,
            "outputs": []
        },
        {
            "cell_type": "code",
            "source": [
                "var activity = await TestValidation(inputFile, errorsBm);",
                "\nactivity"
            ],
            "metadata": {},
            "execution_count": 0,
            "outputs": []
        },
        {
            "cell_type": "markdown",
            "source": [
                "### Null value not allowed",
                "\n#### Case 1 : with a valid interpolation "
            ],
            "metadata": {},
            "execution_count": 0,
            "outputs": []
        },
        {
            "cell_type": "code",
            "source": [
                "var inputFile = ",
                "\n@\"@@Main",
                "\nReportingNode,Year,Month",
                "\nCH,2020,12",
                "\n",
                "\n@@SingleDataNodeParameter",
                "\nDataNode,PremiumAllocation,CashFlowPeriodicity,InterpolationMethod",
                "\nDT1.1,0.85,,Uniform,",
                "\n\";",
                "\nvar errorsBm = new List<string>(){Error.InvalidCashFlowPeriodicity.GetMessage(\"DT1.1\"),};"
            ],
            "metadata": {},
            "execution_count": 0,
            "outputs": []
        },
        {
            "cell_type": "code",
            "source": [
                "var activity = await TestValidation(inputFile, errorsBm);",
                "\nactivity"
            ],
            "metadata": {},
            "execution_count": 0,
            "outputs": []
        },
        {
            "cell_type": "markdown",
            "source": [
                "#### Case 2 : without a valid interpolation "
            ],
            "metadata": {},
            "execution_count": 0,
            "outputs": []
        },
        {
            "cell_type": "code",
            "source": [
                "var inputFile = ",
                "\n@\"@@Main",
                "\nReportingNode,Year,Month",
                "\nCH,2020,12",
                "\n",
                "\n@@SingleDataNodeParameter",
                "\nDataNode,PremiumAllocation,CashFlowPeriodicity,InterpolationMethod",
                "\nDT1.1,0.85,,,",
                "\n\";",
                "\nvar errorsBm = new List<string>(){Error.InvalidCashFlowPeriodicity.GetMessage(\"DT1.1\"),};"
            ],
            "metadata": {},
            "execution_count": 0,
            "outputs": []
        },
        {
            "cell_type": "code",
            "source": [
                "var activity = await TestValidation(inputFile, errorsBm);",
                "\nactivity"
            ],
            "metadata": {},
            "execution_count": 0,
            "outputs": []
        },
        {
            "cell_type": "markdown",
            "source": [
                "## EconomicBasis"
            ],
            "metadata": {},
            "execution_count": 0,
            "outputs": []
        },
        {
            "cell_type": "markdown",
            "source": [
                "### Wrong Value"
            ],
            "metadata": {},
            "execution_count": 0,
            "outputs": []
        },
        {
            "cell_type": "code",
            "source": [
                "var inputFile = ",
                "\n@\"@@Main",
                "\nReportingNode,Year,Month",
                "\nCH,2020,12",
                "\n",
                "\n@@SingleDataNodeParameter",
                "\nDataNode,PremiumAllocation,EconomicBasisDriver",
                "\nDT1.1,0.85,A",
                "\n\";",
                "\nvar errorsBm = new List<string>(){Error.InvalidEconomicBasisDriver.GetMessage(\"DT1.1\"),};"
            ],
            "metadata": {},
            "execution_count": 0,
            "outputs": []
        },
        {
            "cell_type": "code",
            "source": [
                "var activity = await TestValidation(inputFile, errorsBm);",
                "\nactivity"
            ],
            "metadata": {},
            "execution_count": 0,
            "outputs": []
        },
        {
            "cell_type": "markdown",
            "source": [
                "### Default values"
            ],
            "metadata": {},
            "execution_count": 0,
            "outputs": []
        },
        {
            "cell_type": "code",
            "source": [
                "var inputFile = ",
                "\n@\"@@Main",
                "\nReportingNode,Year,Month",
                "\nCH,2020,12",
                "\n",
                "\n@@SingleDataNodeParameter",
                "\nDataNode,PremiumAllocation,EconomicBasisDriver",
                "\nDT1.1,0.85,",
                "\n\";"
            ],
            "metadata": {},
            "execution_count": 0,
            "outputs": []
        },
        {
            "cell_type": "code",
            "source": [
                "var economicBasisDriverByValuationApproach = new Dictionary<(string,string),string>{",
                "\n     {(ValuationApproaches.BBA, LiabilityTypes.LIC), EconomicBases.L},",
                "\n     {(ValuationApproaches.BBA, LiabilityTypes.LRC), EconomicBases.L},",
                "\n     {(ValuationApproaches.VFA, LiabilityTypes.LIC), EconomicBases.C},",
                "\n     {(ValuationApproaches.VFA, LiabilityTypes.LRC), EconomicBases.C},",
                "\n     {(ValuationApproaches.PAA, LiabilityTypes.LIC), EconomicBases.C},",
                "\n     {(ValuationApproaches.PAA, LiabilityTypes.LRC), EconomicBases.N},",
                "\n    };"
            ],
            "metadata": {},
            "execution_count": 0,
            "outputs": []
        },
        {
            "cell_type": "code",
            "source": [
                "public async Task<bool> CheckDefaultEbDriver((string va, string lt) key, string eb){",
                "\n    var ws = Workspace.CreateNew();",
                "\n    ws.InitializeFrom(DataSource);",
                "\n    ws.InitializeFrom(DataSource);",
                "\n    await ws.DeleteAsync(ws.Query<GroupOfInsuranceContract>());",
                "\n    await ws.UpdateAsync<GroupOfInsuranceContract>(new [] {dt11 with {ValuationApproach = key.va, LiabilityType = key.lt}});",
                "\n    ",
                "\n    var log = await Import.FromString(inputFile).WithFormat(ImportFormats.DataNodeParameter).WithTarget(ws).ExecuteAsync();",
                "\n    log.Status.Should().Be(ActivityLogStatus.Succeeded);",
                "\n    return (await ws.Query<SingleDataNodeParameter>().ToArrayAsync()).Single().EconomicBasisDriver == eb;",
                "\n}"
            ],
            "metadata": {},
            "execution_count": 0,
            "outputs": []
        },
        {
            "cell_type": "code",
            "source": [
                "var comparison = new Dictionary<(string,string),bool>();",
                "\nforeach (var kvp in economicBasisDriverByValuationApproach)",
                "\n    comparison[kvp.Key] = await CheckDefaultEbDriver(kvp.Key, kvp.Value);"
            ],
            "metadata": {},
            "execution_count": 0,
            "outputs": []
        },
        {
            "cell_type": "code",
            "source": [
                "comparison.All(x => x.Value).Should().BeTrue();"
            ],
            "metadata": {},
            "execution_count": 0,
            "outputs": []
        },
        {
            "cell_type": "markdown",
            "source": [
                "## Release Pattern"
            ],
            "metadata": {},
            "execution_count": 0,
            "outputs": []
        },
        {
            "cell_type": "markdown",
            "source": [
                "### Wrong Value"
            ],
            "metadata": {},
            "execution_count": 0,
            "outputs": []
        },
        {
            "cell_type": "code",
            "source": [
                "var inputFile = ",
                "\n@\"@@Main",
                "\nReportingNode,Year,Month",
                "\nCH,2020,12",
                "\n",
                "\n@@SingleDataNodeParameter",
                "\nDataNode,PremiumAllocation,ReleasePattern0,ReleasePattern1",
                "\nDT1.1,0.85,InvalidValue0,InvalidValue1",
                "\n\";",
                "\nvar errorsBm = new List<string>(){Error.ParsingInvalidOrScientificValue.GetMessage(\"InvalidValue0\"), Error.ParsingInvalidOrScientificValue.GetMessage(\"InvalidValue1\")};"
            ],
            "metadata": {},
            "execution_count": 0,
            "outputs": []
        },
        {
            "cell_type": "code",
            "source": [
                "var activity = await TestValidation(inputFile, errorsBm);",
                "\nactivity"
            ],
            "metadata": {},
            "execution_count": 0,
            "outputs": []
        },
        {
            "cell_type": "markdown",
            "source": [
                "### Valid or Null Value "
            ],
            "metadata": {},
            "execution_count": 0,
            "outputs": []
        },
        {
            "cell_type": "code",
            "source": [
                "var inputFile = ",
                "\n@\"@@Main",
                "\nReportingNode,Year,Month",
                "\nCH,2020,12",
                "\n",
                "\n@@SingleDataNodeParameter",
                "\nDataNode,PremiumAllocation,ReleasePattern0,ReleasePattern1",
                "\nDT1.1,0.1,1,2",
                "\nDTR1.1,0.85",
                "\n\";",
                "\nvar errorsBm = new List<string>(){};"
            ],
            "metadata": {},
            "execution_count": 0,
            "outputs": []
        },
        {
            "cell_type": "code",
            "source": [
                "var activity = await TestValidation(inputFile, errorsBm);",
                "\nactivity"
            ],
            "metadata": {},
            "execution_count": 0,
            "outputs": []
        },
        {
            "cell_type": "code",
            "source": [
                ""
            ],
            "metadata": {},
            "execution_count": 0,
            "outputs": []
        }
    ]
}