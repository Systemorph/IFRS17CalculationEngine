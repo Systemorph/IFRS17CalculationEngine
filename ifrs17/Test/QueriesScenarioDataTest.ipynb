{
    "metadata": {
        "authors": [],
        "id": "rHk2-5mImky-sdiEfRUCdw",
        "kernelspec": {
            "display_name": "Formula Framework",
            "language": "C#",
            "name": "C#"
        },
        "language_info": {
            "file_extension": ".cs",
            "mimetype": "text/plain",
            "name": "C#"
        }
    },
    "nbformat": 4,
    "nbformat_minor": 5,
    "cells": [
        {
            "cell_type": "code",
            "source": [
                "#!import \"../Utils/Queries\"",
                "\n#!import \"../Utils/ImportCalculationMethods\"",
                "\n#!import \"../Report/ReportConfigurationAndUtils\"",
                "\n#!import \"TestData\""
            ],
            "metadata": {},
            "execution_count": 0,
            "outputs": []
        },
        {
            "cell_type": "markdown",
            "source": [
                "# Initialization"
            ],
            "metadata": {},
            "execution_count": 0,
            "outputs": []
        },
        {
            "cell_type": "code",
            "source": [
                "await DataSource.UpdateAsync( new[] { partitionReportingNode } );",
                "\nawait DataSource.UpdateAsync( new[] { partition, previousPeriodPartition, partitionScenarioMTUP, previousPeriodPartitionScenarioMTUP } );",
                "\nawait DataSource.UpdateAsync( new[] { dt11 } );"
            ],
            "metadata": {},
            "execution_count": 0,
            "outputs": []
        },
        {
            "cell_type": "markdown",
            "source": [
                "# Import Queries: Raw Variables"
            ],
            "metadata": {},
            "execution_count": 0,
            "outputs": []
        },
        {
            "cell_type": "markdown",
            "source": [
                "## Data definition"
            ],
            "metadata": {},
            "execution_count": 0,
            "outputs": []
        },
        {
            "cell_type": "code",
            "source": [
                "var bestEstimateRawVars = new[] { new RawVariable { AmountType = \"PR\", AocType = \"CL\", Novelty = \"I\", Partition = partition.Id, Values = new[] {1.0} }, ",
                "\n                                  new RawVariable { AmountType = \"PR\", AocType = \"AU\", Novelty = \"I\", Partition = partition.Id, Values = new[] {2.0} },",
                "\n                                  new RawVariable { AmountType = \"PR\", AocType = \"EV\", Novelty = \"I\", Partition = partition.Id, Values = new[] {3.0} },",
                "\n                                  new RawVariable { AmountType = \"CL\", AocType = \"CL\", Novelty = \"I\", Partition = partition.Id, Values = new[] {4.0} },",
                "\n                                  new RawVariable { AmountType = \"CL\", AocType = \"AU\", Novelty = \"I\", Partition = partition.Id, Values = new[] {5.0} },",
                "\n                                  new RawVariable { AmountType = \"CL\", AocType = \"EV\", Novelty = \"I\", Partition = partition.Id, Values = new[] {6.0} } };"
            ],
            "metadata": {},
            "execution_count": 0,
            "outputs": []
        },
        {
            "cell_type": "code",
            "source": [
                "var previousScenarioRawVars = new[] { new RawVariable { AmountType = \"PR\", AocType = \"CL\", Novelty = \"I\", Partition = previousPeriodPartitionScenarioMTUP.Id, Values = new[] {3.15} }, ",
                "\n                                      new RawVariable { AmountType = \"PR\", AocType = \"AU\", Novelty = \"I\", Partition = previousPeriodPartitionScenarioMTUP.Id, Values = new[] {7.17} } };"
            ],
            "metadata": {},
            "execution_count": 0,
            "outputs": []
        },
        {
            "cell_type": "code",
            "source": [
                "var scenarioRawVars = new[] { new RawVariable { AmountType = \"PR\", AocType = \"CL\", Novelty = \"I\", Partition = partitionScenarioMTUP.Id, Values = new[] {1.1} }, ",
                "\n                              new RawVariable { AmountType = \"PR\", AocType = \"AU\", Novelty = \"I\", Partition = partitionScenarioMTUP.Id, Values = new[] {2.1} } };"
            ],
            "metadata": {},
            "execution_count": 0,
            "outputs": []
        },
        {
            "cell_type": "code",
            "source": [
                "var newScenarioRawVars = new[] { new RawVariable { AmountType = \"PR\", AocType = \"CL\", Novelty = \"I\", Partition = partitionScenarioMTUP.Id, Values = new[] {11.0} }, ",
                "\n                                 new RawVariable { AmountType = \"CL\", AocType = \"CL\", Novelty = \"I\", Partition = partitionScenarioMTUP.Id, Values = new[] {41.0} } };"
            ],
            "metadata": {},
            "execution_count": 0,
            "outputs": []
        },
        {
            "cell_type": "markdown",
            "source": [
                "## Scenario Query and Workspace with new scenario",
                "\n",
                "\nRaw variable query test. <br>",
                "\nScenario cashflow re-import. <br>",
                "\nDataSource with BestEstimate and Scenario raw variable, Workspace with new raw variable for Scenario. <br>",
                "\n "
            ],
            "metadata": {},
            "execution_count": 0,
            "outputs": []
        },
        {
            "cell_type": "code",
            "source": [
                "await DataSource.DeleteAsync( await DataSource.Query<RawVariable>().ToArrayAsync() );",
                "\nawait DataSource.UpdateAsync( bestEstimateRawVars.Concat(scenarioRawVars).ToArray() );",
                "\nvar ws = Workspace.CreateNew();",
                "\nws.Initialize(x => x.FromSource(DataSource).DisableInitialization<RawVariable>().DisableInitialization<IfrsVariable>());",
                "\nawait ws.UpdateAsync(newScenarioRawVars);"
            ],
            "metadata": {},
            "execution_count": 0,
            "outputs": []
        },
        {
            "cell_type": "code",
            "source": [
                "var queriedRawVars = await ws.QueryPartitionedDataAsync<RawVariable,PartitionByReportingNodeAndPeriod>(DataSource, partitionScenarioMTUP.Id, partition.Id, ImportFormats.Cashflow);"
            ],
            "metadata": {},
            "execution_count": 0,
            "outputs": []
        },
        {
            "cell_type": "code",
            "source": [
                "queriedRawVars.SelectMany(x => x.Values).Sum().Should().Be(52.0);"
            ],
            "metadata": {},
            "execution_count": 0,
            "outputs": []
        },
        {
            "cell_type": "markdown",
            "source": [
                "## Scenario query, Workspace with no scenario, mismatching format",
                "\n",
                "\nRaw variable query test. <br>",
                "\nScenario Actual import. <br>",
                "\nDataSource with BestEstimate and Scenario raw variable. <br>"
            ],
            "metadata": {},
            "execution_count": 0,
            "outputs": []
        },
        {
            "cell_type": "code",
            "source": [
                "await DataSource.DeleteAsync( await DataSource.Query<RawVariable>().ToArrayAsync() );",
                "\nawait DataSource.UpdateAsync( bestEstimateRawVars.Concat(scenarioRawVars).ToArray() );",
                "\nvar ws = Workspace.CreateNew();",
                "\nws.Initialize(x => x.FromSource(DataSource).DisableInitialization<RawVariable>().DisableInitialization<IfrsVariable>());"
            ],
            "metadata": {},
            "execution_count": 0,
            "outputs": []
        },
        {
            "cell_type": "code",
            "source": [
                "var queriedRawVars = await ws.QueryPartitionedDataAsync<RawVariable,PartitionByReportingNodeAndPeriod>(DataSource, partitionScenarioMTUP.Id, partition.Id, ImportFormats.Actual);"
            ],
            "metadata": {},
            "execution_count": 0,
            "outputs": []
        },
        {
            "cell_type": "code",
            "source": [
                "queriedRawVars.SelectMany(x => x.Values).Sum().Should().Be(0);"
            ],
            "metadata": {},
            "execution_count": 0,
            "outputs": []
        },
        {
            "cell_type": "markdown",
            "source": [
                "## Scenario query, Workspace with no scenario and DataSource with scenario",
                "\n",
                "\nRaw variable query test. <br>",
                "\nScenario parameter (re-)import. <br>",
                "\nDataSource with BestEstimate and Scenario raw variable, Workspace without any raw variable. <br>"
            ],
            "metadata": {},
            "execution_count": 0,
            "outputs": []
        },
        {
            "cell_type": "code",
            "source": [
                "await DataSource.DeleteAsync( await DataSource.Query<RawVariable>().ToArrayAsync() );",
                "\nawait DataSource.UpdateAsync( bestEstimateRawVars.Concat(scenarioRawVars).ToArray() );",
                "\nvar ws = Workspace.CreateNew();",
                "\nws.Initialize(x => x.FromSource(DataSource).DisableInitialization<RawVariable>().DisableInitialization<IfrsVariable>());"
            ],
            "metadata": {},
            "execution_count": 0,
            "outputs": []
        },
        {
            "cell_type": "code",
            "source": [
                "var queriedRawVars = await ws.QueryPartitionedDataAsync<RawVariable,PartitionByReportingNodeAndPeriod>(DataSource, partitionScenarioMTUP.Id, partition.Id, ImportFormats.Cashflow);"
            ],
            "metadata": {},
            "execution_count": 0,
            "outputs": []
        },
        {
            "cell_type": "code",
            "source": [
                "queriedRawVars.SelectMany(x => x.Values).Sum().Should().Be(3.2);"
            ],
            "metadata": {},
            "execution_count": 0,
            "outputs": []
        },
        {
            "cell_type": "markdown",
            "source": [
                "## Scenario query, Workspace with no scenario and DataSource with only Best Estimate",
                "\n",
                "\nRaw variable query test. <br>",
                "\nScenario parameter (re-)import. <br>",
                "\nDataSource with BestEstimate raw variable, Workspace without any raw variable. <br>"
            ],
            "metadata": {},
            "execution_count": 0,
            "outputs": []
        },
        {
            "cell_type": "code",
            "source": [
                "await DataSource.DeleteAsync( await DataSource.Query<RawVariable>().ToArrayAsync() );",
                "\nawait DataSource.UpdateAsync( bestEstimateRawVars.ToArray() );",
                "\nvar ws = Workspace.CreateNew();",
                "\nws.Initialize(x => x.FromSource(DataSource).DisableInitialization<RawVariable>().DisableInitialization<IfrsVariable>());"
            ],
            "metadata": {},
            "execution_count": 0,
            "outputs": []
        },
        {
            "cell_type": "code",
            "source": [
                "var queriedRawVars = await ws.QueryPartitionedDataAsync<RawVariable,PartitionByReportingNodeAndPeriod>(DataSource, partitionScenarioMTUP.Id, partition.Id, ImportFormats.Cashflow);"
            ],
            "metadata": {},
            "execution_count": 0,
            "outputs": []
        },
        {
            "cell_type": "code",
            "source": [
                "queriedRawVars.SelectMany(x => x.Values).Sum().Should().Be(21);"
            ],
            "metadata": {},
            "execution_count": 0,
            "outputs": []
        },
        {
            "cell_type": "markdown",
            "source": [
                "## Scenario query, Workspace with no scenario and DataSource with Best Estimate and previous period scenario",
                "\n",
                "\nRaw variable query test. <br>",
                "\nScenario parameter (re-)import. <br>",
                "\nDataSource with BestEstimate and previous period Scenario raw variable, Workspace without any raw variable. <br>"
            ],
            "metadata": {},
            "execution_count": 0,
            "outputs": []
        },
        {
            "cell_type": "code",
            "source": [
                "await DataSource.DeleteAsync( await DataSource.Query<RawVariable>().ToArrayAsync() );",
                "\nawait DataSource.UpdateAsync( bestEstimateRawVars.Concat(previousScenarioRawVars).ToArray() );",
                "\nvar ws = Workspace.CreateNew();",
                "\nws.Initialize(x => x.FromSource(DataSource).DisableInitialization<RawVariable>().DisableInitialization<IfrsVariable>());"
            ],
            "metadata": {},
            "execution_count": 0,
            "outputs": []
        },
        {
            "cell_type": "code",
            "source": [
                "var queriedRawVars = await ws.QueryPartitionedDataAsync<RawVariable,PartitionByReportingNodeAndPeriod>(DataSource, partitionScenarioMTUP.Id, partition.Id, ImportFormats.Cashflow);"
            ],
            "metadata": {},
            "execution_count": 0,
            "outputs": []
        },
        {
            "cell_type": "code",
            "source": [
                "queriedRawVars.SelectMany(x => x.Values).Sum().Should().Be(21);"
            ],
            "metadata": {},
            "execution_count": 0,
            "outputs": []
        },
        {
            "cell_type": "markdown",
            "source": [
                "# Import Queries: Ifrs Variables"
            ],
            "metadata": {},
            "execution_count": 0,
            "outputs": []
        },
        {
            "cell_type": "markdown",
            "source": [
                "## Data definition"
            ],
            "metadata": {},
            "execution_count": 0,
            "outputs": []
        },
        {
            "cell_type": "code",
            "source": [
                "var bestEstimateIfrsVars = new[] { new IfrsVariable { AmountType = \"PR\", AocType = \"CL\", Novelty = \"I\", Partition = partition.Id, Values = SetProjectionValue(1.0) }, ",
                "\n                                   new IfrsVariable { AmountType = \"PR\", AocType = \"AU\", Novelty = \"I\", Partition = partition.Id, Values = SetProjectionValue(2.0) },",
                "\n                                   new IfrsVariable { AmountType = \"PR\", AocType = \"EV\", Novelty = \"I\", Partition = partition.Id, Values = SetProjectionValue(3.0)},",
                "\n                                   new IfrsVariable { AmountType = \"CL\", AocType = \"CL\", Novelty = \"I\", Partition = partition.Id, Values = SetProjectionValue(4.0)},",
                "\n                                   new IfrsVariable { AmountType = \"CL\", AocType = \"AU\", Novelty = \"I\", Partition = partition.Id, Values = SetProjectionValue(5.0)},",
                "\n                                   new IfrsVariable { AmountType = \"CL\", AocType = \"EV\", Novelty = \"I\", Partition = partition.Id, Values = SetProjectionValue(6.0)} };"
            ],
            "metadata": {},
            "execution_count": 0,
            "outputs": []
        },
        {
            "cell_type": "code",
            "source": [
                "var previousScenarioIfrsVars = new[] { new IfrsVariable { AmountType = \"PR\", AocType = \"CL\", Novelty = \"I\", Partition = previousPeriodPartitionScenarioMTUP.Id, Values = SetProjectionValue(3.15) }, ",
                "\n                                       new IfrsVariable { AmountType = \"PR\", AocType = \"AU\", Novelty = \"I\", Partition = previousPeriodPartitionScenarioMTUP.Id, Values = SetProjectionValue(7.17) } };"
            ],
            "metadata": {},
            "execution_count": 0,
            "outputs": []
        },
        {
            "cell_type": "code",
            "source": [
                "var scenarioIfrsVars = new[] { new IfrsVariable { AmountType = \"PR\", AocType = \"CL\", Novelty = \"I\", Partition = partitionScenarioMTUP.Id, Values = SetProjectionValue(1.1) }, ",
                "\n                               new IfrsVariable { AmountType = \"PR\", AocType = \"AU\", Novelty = \"I\", Partition = partitionScenarioMTUP.Id, Values = SetProjectionValue(2.1) } };"
            ],
            "metadata": {},
            "execution_count": 0,
            "outputs": []
        },
        {
            "cell_type": "code",
            "source": [
                "var newScenarioIfrsVars = new[] { new IfrsVariable { AmountType = \"PR\", AocType = \"CL\", Novelty = \"I\", Partition = partitionScenarioMTUP.Id, Values = SetProjectionValue(11.0) }, ",
                "\n                                  new IfrsVariable { AmountType = \"CL\", AocType = \"CL\", Novelty = \"I\", Partition = partitionScenarioMTUP.Id, Values = SetProjectionValue(41.0) } };"
            ],
            "metadata": {},
            "execution_count": 0,
            "outputs": []
        },
        {
            "cell_type": "markdown",
            "source": [
                "## Scenario Query and Workspace with new scenario",
                "\n",
                "\nIfrs variable query test. <br>",
                "\nScenario Actual re-import. <br>",
                "\nDataSource with BestEstimate and Scenario ifrs variable, Workspace with new ifrs variable for Scenario. <br>"
            ],
            "metadata": {},
            "execution_count": 0,
            "outputs": []
        },
        {
            "cell_type": "code",
            "source": [
                "await DataSource.DeleteAsync( await DataSource.Query<IfrsVariable>().ToArrayAsync() );",
                "\nawait DataSource.UpdateAsync( bestEstimateIfrsVars.Concat(scenarioIfrsVars).ToArray() );",
                "\nvar ws = Workspace.CreateNew();",
                "\nws.Initialize(x => x.FromSource(DataSource).DisableInitialization<RawVariable>().DisableInitialization<IfrsVariable>());",
                "\nawait ws.UpdateAsync(newScenarioIfrsVars);"
            ],
            "metadata": {},
            "execution_count": 0,
            "outputs": []
        },
        {
            "cell_type": "code",
            "source": [
                "var queriedIfrsVars = await ws.QueryPartitionedDataAsync<IfrsVariable,PartitionByReportingNodeAndPeriod>(DataSource, partitionScenarioMTUP.Id, partition.Id, ImportFormats.Actual);"
            ],
            "metadata": {},
            "execution_count": 0,
            "outputs": []
        },
        {
            "cell_type": "code",
            "source": [
                "queriedIfrsVars.Select(x => x.Values.Sum()).Sum().Should().Be(52.0);"
            ],
            "metadata": {},
            "execution_count": 0,
            "outputs": []
        },
        {
            "cell_type": "markdown",
            "source": [
                "## Scenario query, Workspace with no scenario, mismatching format",
                "\n",
                "\nIfrs variable query test. <br>",
                "\nScenario parameter (re-)import. <br>",
                "\nDataSource with BestEstimate and Scenario ifrs variable, Workspace without any ifrs variable. <br>"
            ],
            "metadata": {},
            "execution_count": 0,
            "outputs": []
        },
        {
            "cell_type": "code",
            "source": [
                "await DataSource.DeleteAsync( await DataSource.Query<IfrsVariable>().ToArrayAsync() );",
                "\nawait DataSource.UpdateAsync( bestEstimateIfrsVars.Concat(scenarioIfrsVars).ToArray() );",
                "\nvar ws = Workspace.CreateNew();",
                "\nws.Initialize(x => x.FromSource(DataSource).DisableInitialization<RawVariable>().DisableInitialization<IfrsVariable>());"
            ],
            "metadata": {},
            "execution_count": 0,
            "outputs": []
        },
        {
            "cell_type": "code",
            "source": [
                "var queriedIfrsVars = await ws.QueryPartitionedDataAsync<IfrsVariable,PartitionByReportingNodeAndPeriod>(DataSource, partitionScenarioMTUP.Id, partition.Id, ImportFormats.Cashflow);"
            ],
            "metadata": {},
            "execution_count": 0,
            "outputs": []
        },
        {
            "cell_type": "code",
            "source": [
                "queriedIfrsVars.Select(x => x.Values.Sum()).Sum().Should().Be(0);"
            ],
            "metadata": {},
            "execution_count": 0,
            "outputs": []
        },
        {
            "cell_type": "markdown",
            "source": [
                "## Scenario query, Workspace with no scenario and DataSource with scenario",
                "\n",
                "\nIfrs variable query test. <br>",
                "\nScenario Actual import of an empty file. <br>",
                "\nDataSource with BestEstimate and Scenario ifrs variable, Workspace without any ifrs variable. <br>"
            ],
            "metadata": {},
            "execution_count": 0,
            "outputs": []
        },
        {
            "cell_type": "code",
            "source": [
                "await DataSource.DeleteAsync( await DataSource.Query<IfrsVariable>().ToArrayAsync() );",
                "\nawait DataSource.UpdateAsync( bestEstimateIfrsVars.Concat(scenarioIfrsVars).ToArray() );",
                "\nvar ws = Workspace.CreateNew();",
                "\nws.Initialize(x => x.FromSource(DataSource).DisableInitialization<RawVariable>().DisableInitialization<IfrsVariable>());"
            ],
            "metadata": {},
            "execution_count": 0,
            "outputs": []
        },
        {
            "cell_type": "code",
            "source": [
                "var queriedIfrsVars = await ws.QueryPartitionedDataAsync<IfrsVariable,PartitionByReportingNodeAndPeriod>(DataSource, partitionScenarioMTUP.Id, partition.Id, ImportFormats.Actual);"
            ],
            "metadata": {},
            "execution_count": 0,
            "outputs": []
        },
        {
            "cell_type": "code",
            "source": [
                "queriedIfrsVars.Select(x => x.Values.Sum()).Sum().Should().Be(3.2);"
            ],
            "metadata": {},
            "execution_count": 0,
            "outputs": []
        },
        {
            "cell_type": "markdown",
            "source": [
                "## Scenario query, Workspace with no new scenario and DataSource with only Best Estimate",
                "\n",
                "\nIfrs variable query test. <br>",
                "\nScenario Actual import of an empty file. <br>",
                "\nDataSource with BestEstimate ifrs variable, Workspace without any ifrs variable. <br>"
            ],
            "metadata": {},
            "execution_count": 0,
            "outputs": []
        },
        {
            "cell_type": "code",
            "source": [
                "await DataSource.DeleteAsync( await DataSource.Query<IfrsVariable>().ToArrayAsync() );",
                "\nawait DataSource.UpdateAsync( bestEstimateIfrsVars.ToArray() );",
                "\nvar ws = Workspace.CreateNew();",
                "\nws.Initialize(x => x.FromSource(DataSource).DisableInitialization<RawVariable>().DisableInitialization<IfrsVariable>());"
            ],
            "metadata": {},
            "execution_count": 0,
            "outputs": []
        },
        {
            "cell_type": "code",
            "source": [
                "var queriedIfrsVars = await ws.QueryPartitionedDataAsync<IfrsVariable,PartitionByReportingNodeAndPeriod>(DataSource, partitionScenarioMTUP.Id, partition.Id, ImportFormats.Actual);"
            ],
            "metadata": {},
            "execution_count": 0,
            "outputs": []
        },
        {
            "cell_type": "code",
            "source": [
                "queriedIfrsVars.Select(x => x.Values.Sum()).Sum().Should().Be(3.2);"
            ],
            "metadata": {},
            "execution_count": 0,
            "outputs": []
        },
        {
            "cell_type": "markdown",
            "source": [
                "## Scenario query, Workspace with no scenario and DataSource with Best Estimate and previous period scenario",
                "\n",
                "\nIfrs variable query test. <br>",
                "\nScenario Actual import of an empty file. <br>",
                "\nDataSource with BestEstimate and previous period Scenario ifrs variable, Workspace without any ifrs variable. <br>"
            ],
            "metadata": {},
            "execution_count": 0,
            "outputs": []
        },
        {
            "cell_type": "code",
            "source": [
                "await DataSource.DeleteAsync( await DataSource.Query<IfrsVariable>().ToArrayAsync() );",
                "\nawait DataSource.UpdateAsync( bestEstimateIfrsVars.Concat(previousScenarioIfrsVars).ToArray() );",
                "\nvar ws = Workspace.CreateNew();",
                "\nws.Initialize(x => x.FromSource(DataSource).DisableInitialization<RawVariable>().DisableInitialization<IfrsVariable>());"
            ],
            "metadata": {},
            "execution_count": 0,
            "outputs": []
        },
        {
            "cell_type": "code",
            "source": [
                "var queriedIfrsVars = await ws.QueryPartitionedDataAsync<IfrsVariable,PartitionByReportingNodeAndPeriod>(DataSource, partitionScenarioMTUP.Id, partition.Id, ImportFormats.Actual);"
            ],
            "metadata": {},
            "execution_count": 0,
            "outputs": []
        },
        {
            "cell_type": "code",
            "source": [
                "queriedIfrsVars.Select(x => x.Values.Sum()).Sum().Should().Be(21);"
            ],
            "metadata": {},
            "execution_count": 0,
            "outputs": []
        },
        {
            "cell_type": "markdown",
            "source": [
                "# Report"
            ],
            "metadata": {},
            "execution_count": 0,
            "outputs": []
        },
        {
            "cell_type": "markdown",
            "source": [
                "## Data"
            ],
            "metadata": {},
            "execution_count": 0,
            "outputs": []
        },
        {
            "cell_type": "code",
            "source": [
                "var bestEstimateIfrsVars = new[] { new IfrsVariable { DataNode = \"DT1.1\", AmountType = \"PR\", AocType = \"CL\", Novelty = \"I\", Partition = partition.Id, Values = SetProjectionValue(1.0) }, ",
                "\n                                   new IfrsVariable { DataNode = \"DT1.1\", AmountType = \"PR\", AocType = \"AU\", Novelty = \"I\", Partition = partition.Id, Values = SetProjectionValue(2.0) },",
                "\n                                   new IfrsVariable { DataNode = \"DT1.1\", AmountType = \"PR\", AocType = \"EV\", Novelty = \"I\", Partition = partition.Id, Values = SetProjectionValue(3.0) },",
                "\n                                   new IfrsVariable { DataNode = \"DT1.1\", AmountType = \"CL\", AocType = \"CL\", Novelty = \"I\", Partition = partition.Id, Values = SetProjectionValue(4.0) },",
                "\n                                   new IfrsVariable { DataNode = \"DT1.1\", AmountType = \"CL\", AocType = \"AU\", Novelty = \"I\", Partition = partition.Id, Values = SetProjectionValue(5.0) },",
                "\n                                   new IfrsVariable { DataNode = \"DT1.1\", AmountType = \"CL\", AocType = \"EV\", Novelty = \"I\", Partition = partition.Id, Values = SetProjectionValue(6.0) } };"
            ],
            "metadata": {},
            "execution_count": 0,
            "outputs": []
        },
        {
            "cell_type": "code",
            "source": [
                "var scenarioIfrsVars = new[] { new IfrsVariable { DataNode = \"DT1.1\", AmountType = \"PR\", AocType = \"CL\", Novelty = \"I\", Partition = partitionScenarioMTUP.Id, Values = SetProjectionValue(1.1) }, ",
                "\n                               new IfrsVariable { DataNode = \"DT1.1\", AmountType = \"PR\", AocType = \"AU\", Novelty = \"I\", Partition = partitionScenarioMTUP.Id, Values = SetProjectionValue(2.1) } };"
            ],
            "metadata": {},
            "execution_count": 0,
            "outputs": []
        },
        {
            "cell_type": "markdown",
            "source": [
                "## Best estimate query",
                "\n",
                "\nReport variable query test. <br>",
                "\nReport for Best Estimate ( or Scenario Delta and Scenario All). <br>",
                "\nDataSource and Workspace with BestEstimate and Scenario ifrs variable. <br>"
            ],
            "metadata": {},
            "execution_count": 0,
            "outputs": []
        },
        {
            "cell_type": "code",
            "source": [
                "var ws = Workspace.CreateNew();",
                "\nws.Initialize(x => x.FromSource(DataSource).DisableInitialization<RawVariable>().DisableInitialization<IfrsVariable>());"
            ],
            "metadata": {},
            "execution_count": 0,
            "outputs": []
        },
        {
            "cell_type": "code",
            "source": [
                "await ws.UpdateAsync(bestEstimateIfrsVars);",
                "\nawait ws.UpdateAsync(scenarioIfrsVars);"
            ],
            "metadata": {},
            "execution_count": 0,
            "outputs": []
        },
        {
            "cell_type": "code",
            "source": [
                "(await ws.QueryReportVariablesAsync((args.Year, args.Month, args.ReportingNode, args.Scenario))).Select(x => x.Value).Sum().Should().Be(21);"
            ],
            "metadata": {},
            "execution_count": 0,
            "outputs": []
        },
        {
            "cell_type": "markdown",
            "source": [
                "## Scenario query",
                "\n",
                "\nReport variable query test. <br>",
                "\nReport for Scenario. <br>",
                "\nDataSource and Workspace with BestEstimate and Scenario ifrs variable. <br>"
            ],
            "metadata": {},
            "execution_count": 0,
            "outputs": []
        },
        {
            "cell_type": "code",
            "source": [
                "var ws = Workspace.CreateNew();",
                "\nws.Initialize(x => x.FromSource(DataSource).DisableInitialization<RawVariable>().DisableInitialization<IfrsVariable>());"
            ],
            "metadata": {},
            "execution_count": 0,
            "outputs": []
        },
        {
            "cell_type": "code",
            "source": [
                "await ws.UpdateAsync(bestEstimateIfrsVars);",
                "\nawait ws.UpdateAsync(scenarioIfrsVars);"
            ],
            "metadata": {},
            "execution_count": 0,
            "outputs": []
        },
        {
            "cell_type": "code",
            "source": [
                "(await ws.QueryReportVariablesAsync((args.Year, args.Month, args.ReportingNode, argsScenarioMTUP.Scenario))).Select(x => x.Value).Sum().Should().Be(21.2);"
            ],
            "metadata": {},
            "execution_count": 0,
            "outputs": []
        },
        {
            "cell_type": "code",
            "source": [
                ""
            ],
            "metadata": {},
            "execution_count": 0,
            "outputs": []
        }
    ]
}