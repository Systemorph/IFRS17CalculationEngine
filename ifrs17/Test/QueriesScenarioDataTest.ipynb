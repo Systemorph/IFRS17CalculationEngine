{
    "metadata": {
        "authors": [],
        "kernelspec": {
            "display_name": "Formula Framework",
            "language": "C#",
            "name": "C#"
        },
        "language_info": {
            "file_extension": ".cs",
            "mimetype": "text/plain",
            "name": "C#"
        }
    },
    "nbformat": 4,
    "nbformat_minor": 5,
    "cells": [
        {
            "cell_type": "code",
            "source": [
                "#!import \"../Utils/Queries\"",
                "\n#!import \"../Report/ReportConfigurationAndUtils\"",
                "\n#!import \"TestData\""
            ],
            "metadata": {},
            "execution_count": 0,
            "outputs": []
        },
        {
            "cell_type": "markdown",
            "source": [
                "# Initialization"
            ],
            "metadata": {},
            "execution_count": 0,
            "outputs": []
        },
        {
            "cell_type": "code",
            "source": [
                "await DataSource.UpdateAsync( new[] { partitionReportingNode } );",
                "\nawait DataSource.UpdateAsync( new[] { partition, previousPeriodPartition, partitionScenarioMTUP } );",
                "\nawait DataSource.UpdateAsync( new[] { dt11 } );"
            ],
            "metadata": {},
            "execution_count": 0,
            "outputs": []
        },
        {
            "cell_type": "markdown",
            "source": [
                "# Import"
            ],
            "metadata": {},
            "execution_count": 0,
            "outputs": []
        },
        {
            "cell_type": "markdown",
            "source": [
                "## Data"
            ],
            "metadata": {},
            "execution_count": 0,
            "outputs": []
        },
        {
            "cell_type": "code",
            "source": [
                "var bestEstimateRawVars = new[] { new RawVariable { AmountType = \"PR\", AocType = \"CL\", Novelty = \"I\", Partition = partition.Id, Values = new[] {1.0} }, ",
                "\n                                  new RawVariable { AmountType = \"PR\", AocType = \"AU\", Novelty = \"I\", Partition = partition.Id, Values = new[] {2.0} },",
                "\n                                  new RawVariable { AmountType = \"PR\", AocType = \"EV\", Novelty = \"I\", Partition = partition.Id, Values = new[] {3.0} },",
                "\n                                  new RawVariable { AmountType = \"CL\", AocType = \"CL\", Novelty = \"I\", Partition = partition.Id, Values = new[] {4.0} },",
                "\n                                  new RawVariable { AmountType = \"CL\", AocType = \"AU\", Novelty = \"I\", Partition = partition.Id, Values = new[] {5.0} },",
                "\n                                  new RawVariable { AmountType = \"CL\", AocType = \"EV\", Novelty = \"I\", Partition = partition.Id, Values = new[] {6.0} } };"
            ],
            "metadata": {},
            "execution_count": 0,
            "outputs": []
        },
        {
            "cell_type": "code",
            "source": [
                "var scenarioRawVars = new[] { new RawVariable { AmountType = \"PR\", AocType = \"CL\", Novelty = \"I\", Partition = partitionScenarioMTUP.Id, Values = new[] {1.1} }, ",
                "\n                              new RawVariable { AmountType = \"PR\", AocType = \"AU\", Novelty = \"I\", Partition = partitionScenarioMTUP.Id, Values = new[] {2.1} } };"
            ],
            "metadata": {},
            "execution_count": 0,
            "outputs": []
        },
        {
            "cell_type": "code",
            "source": [
                "var newScenarioRawVars = new[] { new RawVariable { AmountType = \"PR\", AocType = \"CL\", Novelty = \"I\", Partition = partitionScenarioMTUP.Id, Values = new[] {11.0} }, ",
                "\n                                 new RawVariable { AmountType = \"CL\", AocType = \"CL\", Novelty = \"I\", Partition = partitionScenarioMTUP.Id, Values = new[] {41.0} } };"
            ],
            "metadata": {},
            "execution_count": 0,
            "outputs": []
        },
        {
            "cell_type": "markdown",
            "source": [
                "## Scenario Query and Workspace with scenario data"
            ],
            "metadata": {},
            "execution_count": 0,
            "outputs": []
        },
        {
            "cell_type": "code",
            "source": [
                "await DataSource.DeleteAsync( await DataSource.Query<RawVariable>().ToArrayAsync() );",
                "\nawait DataSource.UpdateAsync( bestEstimateRawVars.Concat(scenarioRawVars).ToArray() );",
                "\nvar ws = Workspace.CreateNew();",
                "\nws.Initialize(x => x.FromSource(DataSource).DisableInitialization<RawVariable>().DisableInitialization<IfrsVariable>());"
            ],
            "metadata": {},
            "execution_count": 0,
            "outputs": []
        },
        {
            "cell_type": "code",
            "source": [
                "await ws.UpdateAsync(newScenarioRawVars);",
                "\nvar queriedRawVars = await ws.QueryPartitionedDataAsync<RawVariable,PartitionByReportingNodeAndPeriod>(DataSource, partitionScenarioMTUP.Id, partition.Id, ImportFormats.Cashflow);"
            ],
            "metadata": {},
            "execution_count": 0,
            "outputs": []
        },
        {
            "cell_type": "code",
            "source": [
                "queriedRawVars.SelectMany(x => x.Values).Sum().Should().Be(52.0);"
            ],
            "metadata": {},
            "execution_count": 0,
            "outputs": []
        },
        {
            "cell_type": "markdown",
            "source": [
                "## Scenario query, Workspace with no new scenario data, mismatching import format"
            ],
            "metadata": {},
            "execution_count": 0,
            "outputs": []
        },
        {
            "cell_type": "code",
            "source": [
                "await DataSource.DeleteAsync( await DataSource.Query<RawVariable>().ToArrayAsync() );",
                "\nawait DataSource.UpdateAsync( bestEstimateRawVars.Concat(scenarioRawVars).ToArray() );",
                "\nvar ws = Workspace.CreateNew();",
                "\nws.Initialize(x => x.FromSource(DataSource).DisableInitialization<RawVariable>().DisableInitialization<IfrsVariable>());"
            ],
            "metadata": {},
            "execution_count": 0,
            "outputs": []
        },
        {
            "cell_type": "code",
            "source": [
                "var queriedRawVars = await ws.QueryPartitionedDataAsync<RawVariable,PartitionByReportingNodeAndPeriod>(DataSource, partitionScenarioMTUP.Id, partition.Id, ImportFormats.Actual);"
            ],
            "metadata": {},
            "execution_count": 0,
            "outputs": []
        },
        {
            "cell_type": "code",
            "source": [
                "queriedRawVars.SelectMany(x => x.Values).Sum().Should().Be(0);"
            ],
            "metadata": {},
            "execution_count": 0,
            "outputs": []
        },
        {
            "cell_type": "markdown",
            "source": [
                "## Scenario query, Workspace with no new scenario data and DataSource with scenario data"
            ],
            "metadata": {},
            "execution_count": 0,
            "outputs": []
        },
        {
            "cell_type": "code",
            "source": [
                "await DataSource.DeleteAsync( await DataSource.Query<RawVariable>().ToArrayAsync() );",
                "\nawait DataSource.UpdateAsync( bestEstimateRawVars.Concat(scenarioRawVars).ToArray() );",
                "\nvar ws = Workspace.CreateNew();",
                "\nws.Initialize(x => x.FromSource(DataSource).DisableInitialization<RawVariable>().DisableInitialization<IfrsVariable>());"
            ],
            "metadata": {},
            "execution_count": 0,
            "outputs": []
        },
        {
            "cell_type": "code",
            "source": [
                "var queriedRawVars = await ws.QueryPartitionedDataAsync<RawVariable,PartitionByReportingNodeAndPeriod>(DataSource, partitionScenarioMTUP.Id, partition.Id, ImportFormats.Cashflow);"
            ],
            "metadata": {},
            "execution_count": 0,
            "outputs": []
        },
        {
            "cell_type": "code",
            "source": [
                "queriedRawVars.SelectMany(x => x.Values).Sum().Should().Be(3.2);"
            ],
            "metadata": {},
            "execution_count": 0,
            "outputs": []
        },
        {
            "cell_type": "markdown",
            "source": [
                "## Scenario query, Workspace with no new scenario data and DataSource with only Best Estimate data"
            ],
            "metadata": {},
            "execution_count": 0,
            "outputs": []
        },
        {
            "cell_type": "code",
            "source": [
                "await DataSource.DeleteAsync( await DataSource.Query<RawVariable>().ToArrayAsync() );",
                "\nawait DataSource.UpdateAsync( bestEstimateRawVars.ToArray() );",
                "\nvar ws = Workspace.CreateNew();",
                "\nws.Initialize(x => x.FromSource(DataSource).DisableInitialization<RawVariable>().DisableInitialization<IfrsVariable>());"
            ],
            "metadata": {},
            "execution_count": 0,
            "outputs": []
        },
        {
            "cell_type": "code",
            "source": [
                "var queriedRawVars = await ws.QueryPartitionedDataAsync<RawVariable,PartitionByReportingNodeAndPeriod>(DataSource, partitionScenarioMTUP.Id, partition.Id, ImportFormats.Cashflow);"
            ],
            "metadata": {},
            "execution_count": 0,
            "outputs": []
        },
        {
            "cell_type": "code",
            "source": [
                "queriedRawVars.SelectMany(x => x.Values).Sum().Should().Be(21);"
            ],
            "metadata": {},
            "execution_count": 0,
            "outputs": []
        },
        {
            "cell_type": "markdown",
            "source": [
                "# Report"
            ],
            "metadata": {},
            "execution_count": 0,
            "outputs": []
        },
        {
            "cell_type": "markdown",
            "source": [
                "## Data"
            ],
            "metadata": {},
            "execution_count": 0,
            "outputs": []
        },
        {
            "cell_type": "code",
            "source": [
                "var bestEstimateIfrsVars = new[] { new IfrsVariable { DataNode = \"DT1.1\", AmountType = \"PR\", AocType = \"CL\", Novelty = \"I\", Partition = partition.Id, Value = 1.0 }, ",
                "\n                                   new IfrsVariable { DataNode = \"DT1.1\", AmountType = \"PR\", AocType = \"AU\", Novelty = \"I\", Partition = partition.Id, Value = 2.0 },",
                "\n                                   new IfrsVariable { DataNode = \"DT1.1\", AmountType = \"PR\", AocType = \"EV\", Novelty = \"I\", Partition = partition.Id, Value = 3.0 },",
                "\n                                   new IfrsVariable { DataNode = \"DT1.1\", AmountType = \"CL\", AocType = \"CL\", Novelty = \"I\", Partition = partition.Id, Value = 4.0 },",
                "\n                                   new IfrsVariable { DataNode = \"DT1.1\", AmountType = \"CL\", AocType = \"AU\", Novelty = \"I\", Partition = partition.Id, Value = 5.0 },",
                "\n                                   new IfrsVariable { DataNode = \"DT1.1\", AmountType = \"CL\", AocType = \"EV\", Novelty = \"I\", Partition = partition.Id, Value = 6.0 } };"
            ],
            "metadata": {},
            "execution_count": 0,
            "outputs": []
        },
        {
            "cell_type": "code",
            "source": [
                "var scenarioIfrsVars = new[] { new IfrsVariable { DataNode = \"DT1.1\", AmountType = \"PR\", AocType = \"CL\", Novelty = \"I\", Partition = partitionScenarioMTUP.Id, Value = 1.1 }, ",
                "\n                               new IfrsVariable { DataNode = \"DT1.1\", AmountType = \"PR\", AocType = \"AU\", Novelty = \"I\", Partition = partitionScenarioMTUP.Id, Value = 2.1 } };"
            ],
            "metadata": {},
            "execution_count": 0,
            "outputs": []
        },
        {
            "cell_type": "markdown",
            "source": [
                "## Best estimate query"
            ],
            "metadata": {},
            "execution_count": 0,
            "outputs": []
        },
        {
            "cell_type": "code",
            "source": [
                "var ws = Workspace.CreateNew();",
                "\nws.Initialize(x => x.FromSource(DataSource).DisableInitialization<RawVariable>().DisableInitialization<IfrsVariable>());"
            ],
            "metadata": {},
            "execution_count": 0,
            "outputs": []
        },
        {
            "cell_type": "code",
            "source": [
                "await ws.UpdateAsync(bestEstimateIfrsVars);",
                "\nawait ws.UpdateAsync(scenarioIfrsVars);"
            ],
            "metadata": {},
            "execution_count": 0,
            "outputs": []
        },
        {
            "cell_type": "code",
            "source": [
                "(await ws.QueryReportVariablesAsync((args.Year, args.Month, args.ReportingNode, args.Scenario))).Select(x => x.Value).Sum().Should().Be(21);"
            ],
            "metadata": {},
            "execution_count": 0,
            "outputs": []
        },
        {
            "cell_type": "markdown",
            "source": [
                "## Scenario query"
            ],
            "metadata": {},
            "execution_count": 0,
            "outputs": []
        },
        {
            "cell_type": "code",
            "source": [
                "var ws = Workspace.CreateNew();",
                "\nws.Initialize(x => x.FromSource(DataSource).DisableInitialization<RawVariable>().DisableInitialization<IfrsVariable>());"
            ],
            "metadata": {},
            "execution_count": 0,
            "outputs": []
        },
        {
            "cell_type": "code",
            "source": [
                "await ws.UpdateAsync(bestEstimateIfrsVars);",
                "\nawait ws.UpdateAsync(scenarioIfrsVars);"
            ],
            "metadata": {},
            "execution_count": 0,
            "outputs": []
        },
        {
            "cell_type": "code",
            "source": [
                "(await ws.QueryReportVariablesAsync((args.Year, args.Month, args.ReportingNode, argsScenarioMTUP.Scenario))).Select(x => x.Value).Sum().Should().Be(21.2);"
            ],
            "metadata": {},
            "execution_count": 0,
            "outputs": []
        },
        {
            "cell_type": "code",
            "source": [
                ""
            ],
            "metadata": {},
            "execution_count": 0,
            "outputs": []
        }
    ]
}
