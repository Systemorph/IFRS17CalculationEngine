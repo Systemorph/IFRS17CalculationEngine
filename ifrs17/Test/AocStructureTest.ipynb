{
    "metadata": {
        "authors": [],
        "id": "zu2TE0r0G0-N-Fs0ghCaGg",
        "kernelspec": {
            "display_name": "Formula Framework",
            "language": "C#",
            "name": "C#"
        },
        "language_info": {
            "file_extension": ".cs",
            "mimetype": "text/plain",
            "name": "C#"
        }
    },
    "nbformat": 4,
    "nbformat_minor": 5,
    "cells": [
        {
            "cell_type": "markdown",
            "source": [
                "<p style=\"font-weight:bold;\"> <span style=\"font-size: 36px\"> Test AoC Management </span> </p>"
            ],
            "metadata": {},
            "execution_count": 0,
            "outputs": []
        },
        {
            "cell_type": "code",
            "source": [
                "#!import \"../Import/Importers\""
            ],
            "metadata": {},
            "execution_count": 0,
            "outputs": []
        },
        {
            "cell_type": "code",
            "source": [
                "#!import \"TestData\""
            ],
            "metadata": {},
            "execution_count": 0,
            "outputs": []
        },
        {
            "cell_type": "markdown",
            "source": [
                "# Workspace Initialization "
            ],
            "metadata": {},
            "execution_count": 0,
            "outputs": []
        },
        {
            "cell_type": "code",
            "source": [
                "await Import.FromString(novelties).WithType<Novelty>().WithTarget(DataSource).ExecuteAsync();",
                "\nawait Import.FromString(canonicalAocTypes).WithType<AocType>().WithTarget(DataSource).ExecuteAsync();",
                "\nawait Import.FromString(canonicalAocConfig).WithFormat(ImportFormats.AocConfiguration).WithTarget(DataSource).ExecuteAsync();"
            ],
            "metadata": {},
            "execution_count": 0,
            "outputs": []
        },
        {
            "cell_type": "code",
            "source": [
                "await DataSource.UpdateAsync<Portfolio>(dt1.RepeatOnce());",
                "\nawait DataSource.UpdateAsync<Portfolio>(dtr1.RepeatOnce());",
                "\nawait DataSource.UpdateAsync<GroupOfInsuranceContract>(new [] {dt11});",
                "\nawait DataSource.UpdateAsync<GroupOfReinsuranceContract>(new [] {dtr11});"
            ],
            "metadata": {},
            "execution_count": 0,
            "outputs": []
        },
        {
            "cell_type": "code",
            "source": [
                "await DataSource.UpdateAsync(new [ ] {dt11State,dtr11State});",
                "\nawait DataSource.UpdateAsync(new [ ] {dt11Inter});"
            ],
            "metadata": {},
            "execution_count": 0,
            "outputs": []
        },
        {
            "cell_type": "code",
            "source": [
                "await Import.FromString(estimateType).WithType<EstimateType>().WithTarget(DataSource).ExecuteAsync();"
            ],
            "metadata": {},
            "execution_count": 0,
            "outputs": []
        },
        {
            "cell_type": "code",
            "source": [
                "await DataSource.UpdateAsync(new [ ] {yieldCurvePrevious});"
            ],
            "metadata": {},
            "execution_count": 0,
            "outputs": []
        },
        {
            "cell_type": "code",
            "source": [
                "Workspace.Initialize(x => x.FromSource(DataSource).DisableInitialization<RawVariable>().DisableInitialization<IfrsVariable>());"
            ],
            "metadata": {},
            "execution_count": 0,
            "outputs": []
        },
        {
            "cell_type": "code",
            "source": [
                "await DataSource.UpdateAsync(new[]{partition, previousPeriodPartition});",
                "\nawait DataSource.UpdateAsync(new[]{partitionReportingNode});"
            ],
            "metadata": {},
            "execution_count": 0,
            "outputs": []
        },
        {
            "cell_type": "markdown",
            "source": [
                "# Test"
            ],
            "metadata": {},
            "execution_count": 0,
            "outputs": []
        },
        {
            "cell_type": "code",
            "source": [
                "public async Task<ActivityLog> CheckAocStepStructureAsync(IEnumerable<BaseDataRecord> inputVariables, ",
                "\n                                             Dictionary<AocStep,IEnumerable<AocStep>> parentBm, ",
                "\n                                             Dictionary<AocStep,AocStep> referenceBm, ",
                "\n                                             Dictionary<AocStep,IEnumerable<AocStep>> fullAocBm,",
                "\n                                             Dictionary<AocStep,IEnumerable<AocStep>> parentBmCdr = null)",
                "\n{",
                "\n    Activity.Start();",
                "\n    //Save test input data",
                "\n    var importFormat = ImportFormats.Cashflow;",
                "\n    var inputSource = InputSource.Cashflow;",
                "\n    if (inputVariables.First() is RawVariable)",
                "\n    {",
                "\n        await Workspace.UpdateAsync<RawVariable>(inputVariables.Cast<RawVariable>());",
                "\n    }",
                "\n    if (inputVariables.First() is IfrsVariable)",
                "\n    {",
                "\n        await Workspace.UpdateAsync<IfrsVariable>(inputVariables.Cast<IfrsVariable>());",
                "\n        importFormat = ImportFormats.Actual;",
                "\n        inputSource = InputSource.Actual;",
                "\n    }",
                "\n    ",
                "\n    var newArgs = args with {ImportFormat = importFormat };",
                "\n    //Set up import storage and test universe",
                "\n    var testStorage = new ImportStorage(newArgs, DataSource, Workspace);",
                "\n    await testStorage.InitializeAsync();",
                "\n    var isReinsurance = testStorage.DataNodeDataBySystemName[inputVariables.First().DataNode].IsReinsurance;",
                "\n    var testUniverse = Scopes.ForStorage(testStorage).ToScope<IModel>();",
                "\n    //Clean up Workspace",
                "\n    await Workspace.DeleteAsync<RawVariable>(await Workspace.Query<RawVariable>().ToArrayAsync());   ",
                "\n    await Workspace.DeleteAsync<IfrsVariable>(await Workspace.Query<IfrsVariable>().ToArrayAsync());   ",
                "\n    ",
                "\n    var errors = new List<string>();",
                "\n    ",
                "\n    var goc = inputVariables.First().DataNode;",
                "\n    var identities = testUniverse.GetScopes<GetIdentities>(testStorage.DataNodesByImportScope[ImportScope.Primary].Where(dn => dn == goc)).SelectMany(s => s.Identities);",
                "\n    ",
                "\n   //Assert Parents",
                "\n    if (importFormat != ImportFormats.Actual)",
                "\n    {",
                "\n        var parents = testUniverse.GetScopes<ParentAocStep>(identities.Select(id => (object)(id, \"PR\")), o => o.WithStorage(testStorage)).Where(x => x.Values != Enumerable.Empty<AocStep>()).ToArray();",
                "\n        if (parentBm.Count() != parents.Count()) ",
                "\n        {",
                "\n            var computedIds = parents.Select(s => $\"AocType:{s.Identity.Id.AocType}, Novelty:{s.Identity.Id.Novelty}\");",
                "\n            var expectedIds = parentBm.Keys.Select(aoc => $\"AocType:{aoc.AocType}, Novelty:{aoc.Novelty}\");",
                "\n            errors.Add( $\"Parent count does not match expected: \\n Computed {parents.Count()} \\n {string.Join(\"\\n\", computedIds)} \\n Expected {parentBm.Count()} \\n {string.Join(\"\\n\", expectedIds)}.\" );",
                "\n        }",
                "\n    ",
                "\n    foreach(var kvp in parentBm)",
                "\n    {",
                "\n        var scopeParents = parents.Where(y => y.Identity.Id.AocType == kvp.Key.AocType && y.Identity.Id.Novelty == kvp.Key.Novelty);",
                "\n        if(scopeParents.Count() != 1)",
                "\n            errors.Add( $\"Parent not found for AocStep: {kvp.Key.AocType}, {kvp.Key.Novelty}.\");",
                "\n        else{",
                "\n            var scopeParent = scopeParents.First();",
                "\n            if( kvp.Value.Intersect(scopeParent.Values).Count() != kvp.Value.Count() ||",
                "\n                kvp.Value.Intersect(scopeParent.Values).Count() != scopeParent.Values.Count()){",
                "\n                var computedAocSteps = scopeParent.Values.Select(aoc => $\"AocType:{aoc.AocType}, Novelty:{aoc.Novelty}\");",
                "\n                var expectedAocSteps = kvp.Value.Select(aoc => $\"AocType:{aoc.AocType}, Novelty:{aoc.Novelty}\"); ",
                "\n                errors.Add( $\"Parents of {kvp.Key.AocType}, {kvp.Key.Novelty} do not match expected value: \\n Computed: \\n {string.Join(\"\\n\", computedAocSteps)} \\n Expected: \\n {string.Join(\"\\n\", expectedAocSteps)}.\" );",
                "\n            }",
                "\n        }",
                "\n    }",
                "\n    ",
                "\n    //Parents for CDR",
                "\n    if(isReinsurance)",
                "\n    {",
                "\n        var parentsCdr = testUniverse.GetScopes<ParentAocStep>(identities.Select(id => (object)(id, AmountTypes.CDR)), o => o.WithStorage(testStorage));",
                "\n        ",
                "\n        var countP = parentsCdr.Where(x => x.Values != Enumerable.Empty<AocStep>()).Count();",
                "\n        if (parentBmCdr.Count() != countP) ",
                "\n            errors.Add( $\"Parent count for AmountType CDR does not match expected: \\n Computed {countP} \\n Expected {parentBm.Count()}.\" );",
                "\n    ",
                "\n        foreach(var kvp in parentBmCdr)",
                "\n        {",
                "\n            var scopeParents = parentsCdr.Where(y => y.Identity.Id.AocType == kvp.Key.AocType && y.Identity.Id.Novelty == kvp.Key.Novelty);",
                "\n            if(scopeParents.Count() != 1)",
                "\n                errors.Add( $\"Parent for CDR not found for AocStep: {kvp.Key.AocType}, {kvp.Key.Novelty}.\");",
                "\n            else{",
                "\n                var scopeParent = scopeParents.First();",
                "\n                if( kvp.Value.Intersect(scopeParent.Values).Count() != kvp.Value.Count() || ",
                "\n                    kvp.Value.Intersect(scopeParent.Values).Count() != scopeParent.Values.Count() ){",
                "\n                    var computedAocSteps = scopeParent.Values.Select(aoc => $\"AocType:{aoc.AocType}, Novelty:{aoc.Novelty}\");",
                "\n                    var expectedAocSteps = kvp.Value.Select(aoc => $\"AocType:{aoc.AocType}, Novelty:{aoc.Novelty}\"); ",
                "\n                    errors.Add( $\"Parents of {kvp.Key.AocType}, {kvp.Key.Novelty} for AmountType CDR do not match expected value: \\n Computed: \\n {string.Join(\"\\n\", computedAocSteps)} \\n Expected: \\n {string.Join(\"\\n\", expectedAocSteps)}.\" );",
                "\n                }",
                "\n            }",
                "\n        } ",
                "\n    }",
                "\n    }",
                "\n    ",
                "\n    //Assert Reference",
                "\n    if (importFormat != ImportFormats.Actual)",
                "\n    {",
                "\n        var reference = testUniverse.GetScopes<ReferenceAocStep>(identities, o => o.WithStorage(testStorage)).ToArray();",
                "\n        var countR = reference.Select(x => x.Value).Count();",
                "\n        if (referenceBm.Count() != countR) ",
                "\n            errors.Add( $\"Reference count does not match expected: \\n Computed {countR} \\n Expected {referenceBm.Count()}.\" );",
                "\n    ",
                "\n        foreach(var kvp in referenceBm)",
                "\n        {",
                "\n            var scopeReferences = reference.Where(y => y.Identity.AocType == kvp.Key.AocType && y.Identity.Novelty == kvp.Key.Novelty);",
                "\n            if(scopeReferences.Count() != 1)",
                "\n                errors.Add( $\"Reference not found for AocStep: {kvp.Key.AocType}, {kvp.Key.Novelty}.\");",
                "\n            else{",
                "\n                var scopeReference = scopeReferences.First();",
                "\n                if( kvp.Value.AocType != scopeReference.Value.AocType || kvp.Value.Novelty != scopeReference.Value.Novelty )",
                "\n                    errors.Add( $\"Reference of {kvp.Key.AocType}, {kvp.Key.Novelty} do not match expected value: \\n Computed {scopeReference.Value} \\n Expected {kvp.Value}.\" );",
                "\n            }",
                "\n        }",
                "\n    }",
                "\n    ",
                "\n    //Assert FullAoc",
                "\n    var fullAoc = testUniverse.GetScopes<PreviousAocSteps>(identities.Select(id => (object)(id, inputSource)), o => o.WithStorage(testStorage)).Where(s => s.Values.Any());",
                "\n    var count = fullAoc.Count();",
                "\n    if (fullAocBm.Count() != count)",
                "\n    {",
                "\n        var computedAocSteps = fullAoc.Select(x => $\"AocType:{x.Identity.Id.AocType}, Novelty:{x.Identity.Id.Novelty}\");",
                "\n        var benchmarkKeys = fullAocBm.Keys.Select(aoc => $\"AocType:{aoc.AocType}, Novelty:{aoc.Novelty}\");",
                "\n        errors.Add( $\"Full AoC count does not match expected: \\n Computed {count} \\n Expected {fullAocBm.Count()}.\" );    ",
                "\n        errors.Add( $\"In particular, \\n Computed Identities \\n {string.Join(\"\\n\", computedAocSteps)} \\n Expected \\n {string.Join(\"\\n\", benchmarkKeys)}.\" );    ",
                "\n    }",
                "\n ",
                "\n    foreach(var kvp in fullAocBm)",
                "\n    {",
                "\n       var scopeAocFulls = fullAoc.Where(y => y.Identity.Id.AocType == kvp.Key.AocType && y.Identity.Id.Novelty == kvp.Key.Novelty);",
                "\n        if(scopeAocFulls.Count() != 1){",
                "\n            errors.Add( $\"Full AocStep not found for AocStep: {kvp.Key.AocType}, {kvp.Key.Novelty}.\");}",
                "\n        else{",
                "\n            var scopeAocFull = scopeAocFulls.First();",
                "\n            if( kvp.Value.Intersect(scopeAocFull.Values).Count() != kvp.Value.Count() || ",
                "\n                kvp.Value.Intersect(scopeAocFull.Values).Count() != scopeAocFull.Values.Count() ){",
                "\n                var computedAocSteps = scopeAocFull.Values.Select(aoc => $\"AocType:{aoc.AocType}, Novelty:{aoc.Novelty}\");",
                "\n                var expectedAocSteps = kvp.Value.Select(aoc => $\"AocType:{aoc.AocType}, Novelty:{aoc.Novelty}\"); ",
                "\n                errors.Add( $\"AocFull for {kvp.Key.AocType}, {kvp.Key.Novelty} do not match expected value: \\n Computed \\n {string.Join(\"\\n\", computedAocSteps)} \\n Expected: \\n {string.Join(\"\\n\", expectedAocSteps)}.\" );",
                "\n            }",
                "\n        }",
                "\n    }",
                "\n    ",
                "\n    if(errors.Any()) ApplicationMessage.Log(Error.Generic, string.Join(\"\\n\", errors));",
                "\n    return Activity.Finish();",
                "\n}",
                "\n"
            ],
            "metadata": {},
            "execution_count": 0,
            "outputs": []
        },
        {
            "cell_type": "markdown",
            "source": [
                "# Use Cases"
            ],
            "metadata": {},
            "execution_count": 0,
            "outputs": []
        },
        {
            "cell_type": "markdown",
            "source": [
                "## Gross Cash flow: InForce, NewBusiness, and Combined"
            ],
            "metadata": {},
            "execution_count": 0,
            "outputs": []
        },
        {
            "cell_type": "code",
            "source": [
                "var inputRawVariables = new RawVariable[]{",
                "\n    new RawVariable{Partition = partition.Id, Values = new []{1.0}, DataNode = groupOfInsuranceContracts, AocType = \"BOP\", Novelty = \"I\", AccidentYear = null, AmountType = \"PR\", EstimateType = \"BE\"},",
                "\n    new RawVariable{Partition = partition.Id, Values = new []{1.0}, DataNode = groupOfInsuranceContracts, AocType = \"MC\", Novelty = \"I\", AccidentYear = null, AmountType = \"PR\", EstimateType = \"BE\"},",
                "\n    new RawVariable{Partition = partition.Id, Values = new []{1.0}, DataNode = groupOfInsuranceContracts, AocType = \"BOP\", Novelty = \"N\", AccidentYear = null, AmountType = \"PR\", EstimateType = \"BE\"},",
                "\n    new RawVariable{Partition = partition.Id, Values = new []{1.0}, DataNode = groupOfInsuranceContracts, AocType = \"EV\", Novelty = \"N\", AccidentYear = null, AmountType = \"PR\", EstimateType = \"BE\"},",
                "\n    new RawVariable{Partition = partition.Id, Values = new []{1.0}, DataNode = groupOfInsuranceContracts, AocType = \"CL\", Novelty = \"C\", AccidentYear = null, AmountType = \"PR\", EstimateType = \"BE\"},",
                "\n};"
            ],
            "metadata": {},
            "execution_count": 0,
            "outputs": []
        },
        {
            "cell_type": "code",
            "source": [
                "var parentBm = new Dictionary<AocStep,IEnumerable<AocStep>>()",
                "\n    {",
                "\n        {new AocStep(\"MC\",\"I\"), new AocStep[]{new AocStep(\"BOP\",\"I\")}},",
                "\n        {new AocStep(\"YCU\",\"I\"), new AocStep[]{new AocStep(\"MC\",\"I\")}}, ",
                "\n        {new AocStep(\"EV\",\"N\"), new AocStep[]{new AocStep(\"BOP\",\"N\")}},",
                "\n        {new AocStep(\"CL\",\"C\"), new AocStep[]{new AocStep(\"YCU\",\"I\"), new AocStep(\"EV\",\"N\"),}},",
                "\n    };"
            ],
            "metadata": {},
            "execution_count": 0,
            "outputs": []
        },
        {
            "cell_type": "code",
            "source": [
                "var referenceBm = new Dictionary<AocStep,AocStep>()",
                "\n    {",
                "\n        {new AocStep(\"BOP\",\"I\"), new AocStep(\"BOP\",\"I\")},",
                "\n        {new AocStep(\"MC\",\"I\"), new AocStep(\"MC\",\"I\")},",
                "\n        {new AocStep(\"CF\",\"I\"), new AocStep(\"MC\",\"I\")},",
                "\n        {new AocStep(\"IA\",\"I\"), new AocStep(\"MC\",\"I\")},",
                "\n        {new AocStep(\"YCU\",\"I\"), new AocStep(\"MC\",\"I\")}, ",
                "\n        {new AocStep(\"BOP\",\"N\"), new AocStep(\"BOP\",\"N\")},",
                "\n        {new AocStep(\"CF\",\"N\"), new AocStep(\"BOP\",\"N\")},",
                "\n        {new AocStep(\"IA\",\"N\"), new AocStep(\"BOP\",\"N\")},",
                "\n        {new AocStep(\"EV\",\"N\"), new AocStep(\"EV\",\"N\")},",
                "\n        {new AocStep(\"CL\",\"C\"), new AocStep(\"CL\",\"C\")},",
                "\n        {new AocStep(\"EA\",\"C\"), new AocStep(\"CF\",\"C\")},",
                "\n        {new AocStep(\"AM\",\"C\"), new AocStep(\"CL\",\"C\")},",
                "\n        {new AocStep(\"EOP\",\"C\"), new AocStep(\"CL\",\"C\")},",
                "\n        {new AocStep(\"CF\",\"C\"), new AocStep(\"CF\",\"C\")},",
                "\n    };"
            ],
            "metadata": {},
            "execution_count": 0,
            "outputs": []
        },
        {
            "cell_type": "code",
            "source": [
                "var fullAocBm = new Dictionary<AocStep,IEnumerable<AocStep>>()",
                "\n    {",
                "\n        //{new AocStep(\"BOP\",\"I\"), Enumerable.Empty<AocStep>()},",
                "\n        {new AocStep(\"MC\",\"I\"), new AocStep[]{new AocStep(\"BOP\",\"I\")}},",
                "\n        {new AocStep(\"CF\",\"I\"), new AocStep[]{new AocStep(\"BOP\",\"I\"), new AocStep(\"MC\",\"I\")}},",
                "\n        {new AocStep(\"IA\",\"I\"), new AocStep[]{new AocStep(\"BOP\",\"I\"), new AocStep(\"MC\",\"I\"), new AocStep(\"CF\",\"I\")}},",
                "\n        {new AocStep(\"YCU\",\"I\"), new AocStep[]{new AocStep(\"IA\",\"I\"), new AocStep(\"BOP\",\"I\"), new AocStep(\"MC\",\"I\"), new AocStep(\"CF\",\"I\")}},",
                "\n        //{new AocStep(\"BOP\",\"N\"), Enumerable.Empty<AocStep>()},",
                "\n        {new AocStep(\"CF\",\"N\"), new AocStep[]{new AocStep(\"BOP\",\"N\")}},",
                "\n        {new AocStep(\"IA\",\"N\"), new AocStep[]{new AocStep(\"BOP\",\"N\"), new AocStep(\"CF\",\"N\")}},",
                "\n        {new AocStep(\"EV\",\"N\"), new AocStep[]{new AocStep(\"BOP\",\"N\"), new AocStep(\"CF\",\"N\"), new AocStep(\"IA\",\"N\")}},",
                "\n        ",
                "\n        {new AocStep(\"CL\",\"C\"), new AocStep[]{new AocStep(\"BOP\",\"I\"), new AocStep(\"MC\",\"I\"), new AocStep(\"CF\",\"I\"), new AocStep(\"IA\",\"I\"), new AocStep(\"YCU\",\"I\"),",
                "\n                                              new AocStep(\"BOP\",\"N\"), new AocStep(\"CF\",\"N\"), new AocStep(\"IA\",\"N\"), new AocStep(\"EV\",\"N\"),",
                "\n                                              }},",
                "\n        {new AocStep(\"EA\",\"C\"), new AocStep[]{new AocStep(\"BOP\",\"I\"), new AocStep(\"MC\",\"I\"),new AocStep(\"CF\",\"I\"), new AocStep(\"IA\",\"I\"),new AocStep(\"YCU\",\"I\"), ",
                "\n                                              new AocStep(\"BOP\",\"N\"), new AocStep(\"CF\",\"N\"), new AocStep(\"IA\",\"N\"), new AocStep(\"EV\",\"N\"), ",
                "\n                                              new AocStep(\"CL\",\"C\"),",
                "\n                                             }},",
                "\n        {new AocStep(\"AM\",\"C\"), new AocStep[]{new AocStep(\"BOP\",\"I\"), new AocStep(\"MC\",\"I\"), new AocStep(\"CF\",\"I\"), new AocStep(\"IA\",\"I\"), new AocStep(\"YCU\",\"I\"),",
                "\n                                              new AocStep(\"BOP\",\"N\"), new AocStep(\"CF\",\"N\"), new AocStep(\"IA\",\"N\"), new AocStep(\"EV\",\"N\"), ",
                "\n                                              new AocStep(\"EA\",\"C\"), new AocStep(\"CL\",\"C\"),",
                "\n                                             }},",
                "\n        {new AocStep(\"EOP\",\"C\"), new AocStep[]{new AocStep(\"BOP\",\"I\"), new AocStep(\"MC\",\"I\"), new AocStep(\"CF\",\"I\"), new AocStep(\"IA\",\"I\"), new AocStep(\"YCU\",\"I\"),",
                "\n                                               new AocStep(\"BOP\",\"N\"), new AocStep(\"CF\",\"N\"), new AocStep(\"IA\",\"N\"), new AocStep(\"EV\",\"N\"), ",
                "\n                                                new AocStep(\"EA\",\"C\"), new AocStep(\"AM\",\"C\"), new AocStep(\"CL\",\"C\"),",
                "\n                                               }},",
                "\n        //{new AocStep(\"CF\",\"C\"), Enumerable.Empty<AocStep>()},",
                "\n    };",
                "\n"
            ],
            "metadata": {},
            "execution_count": 0,
            "outputs": []
        },
        {
            "cell_type": "code",
            "source": [
                "var activity = await CheckAocStepStructureAsync(inputRawVariables, parentBm, referenceBm, fullAocBm);",
                "\nactivity"
            ],
            "metadata": {},
            "execution_count": 0,
            "outputs": []
        },
        {
            "cell_type": "code",
            "source": [
                "activity.Status.Should().Be(ActivityLogStatus.Succeeded);"
            ],
            "metadata": {},
            "execution_count": 0,
            "outputs": []
        },
        {
            "cell_type": "markdown",
            "source": [
                "## Reinsurance Cash flow: InForce, NewBusiness, and Combined"
            ],
            "metadata": {},
            "execution_count": 0,
            "outputs": []
        },
        {
            "cell_type": "code",
            "source": [
                "inputRawVariables = new RawVariable[]{",
                "\n    new RawVariable{Partition = partition.Id, Values = new []{1.0}, DataNode = groupOfReinsuranceContracts, AocType = \"BOP\", Novelty = \"I\", AccidentYear = null, AmountType = \"PR\", EstimateType = \"BE\"},",
                "\n    new RawVariable{Partition = partition.Id, Values = new []{1.0}, DataNode = groupOfReinsuranceContracts, AocType = \"MC\", Novelty = \"I\", AccidentYear = null, AmountType = \"PR\", EstimateType = \"BE\"},",
                "\n    new RawVariable{Partition = partition.Id, Values = new []{1.0}, DataNode = groupOfReinsuranceContracts, AocType = \"BOP\", Novelty = \"N\", AccidentYear = null, AmountType = \"PR\", EstimateType = \"BE\"},",
                "\n    new RawVariable{Partition = partition.Id, Values = new []{1.0}, DataNode = groupOfReinsuranceContracts, AocType = \"EV\", Novelty = \"N\", AccidentYear = null, AmountType = \"PR\", EstimateType = \"BE\"},",
                "\n    new RawVariable{Partition = partition.Id, Values = new []{1.0}, DataNode = groupOfReinsuranceContracts, AocType = \"CL\", Novelty = \"C\", AccidentYear = null, AmountType = \"PR\", EstimateType = \"BE\"},",
                "\n};"
            ],
            "metadata": {},
            "execution_count": 0,
            "outputs": []
        },
        {
            "cell_type": "code",
            "source": [
                "parentBm = new Dictionary<AocStep,IEnumerable<AocStep>>()",
                "\n    {",
                "\n        {new AocStep(\"MC\",\"I\"), new AocStep[]{new AocStep(\"BOP\",\"I\")}},",
                "\n        {new AocStep(\"YCU\",\"I\"), new AocStep[]{new AocStep(\"MC\",\"I\")}},",
                "\n        {new AocStep(\"CRU\",\"I\"), new AocStep[]{new AocStep(\"YCU\",\"I\")}}, ",
                "\n        {new AocStep(\"EV\",\"N\"), new AocStep[]{new AocStep(\"BOP\",\"N\")}},",
                "\n        {new AocStep(\"CL\",\"C\"), new AocStep[]{new AocStep(\"YCU\",\"I\"), new AocStep(\"EV\",\"N\"),}},",
                "\n    };"
            ],
            "metadata": {},
            "execution_count": 0,
            "outputs": []
        },
        {
            "cell_type": "code",
            "source": [
                "var parentBm_CDR = new Dictionary<AocStep,IEnumerable<AocStep>>()",
                "\n    {",
                "\n        {new AocStep(\"MC\",\"I\"), new AocStep[]{new AocStep(\"BOP\",\"I\")}},",
                "\n        {new AocStep(\"YCU\",\"I\"), new AocStep[]{new AocStep(\"MC\",\"I\")}}, ",
                "\n        {new AocStep(\"CRU\",\"I\"), new AocStep[]{new AocStep(\"YCU\",\"I\")}}, ",
                "\n        {new AocStep(\"EV\",\"N\"), new AocStep[]{new AocStep(\"BOP\",\"N\")}},",
                "\n        {new AocStep(\"CL\",\"C\"), new AocStep[]{new AocStep(\"CRU\",\"I\"), new AocStep(\"EV\",\"N\"),}},",
                "\n    };"
            ],
            "metadata": {},
            "execution_count": 0,
            "outputs": []
        },
        {
            "cell_type": "code",
            "source": [
                "referenceBm = new Dictionary<AocStep,AocStep>()",
                "\n    {",
                "\n        {new AocStep(\"BOP\",\"I\"), new AocStep(\"BOP\",\"I\")},",
                "\n        {new AocStep(\"MC\",\"I\"), new AocStep(\"MC\",\"I\")},",
                "\n        {new AocStep(\"RCU\",\"I\"), new AocStep(\"MC\",\"I\")}, ",
                "\n        {new AocStep(\"CF\",\"I\"), new AocStep(\"MC\",\"I\")},",
                "\n        {new AocStep(\"IA\",\"I\"), new AocStep(\"MC\",\"I\")},",
                "\n        {new AocStep(\"YCU\",\"I\"), new AocStep(\"MC\",\"I\")}, ",
                "\n        {new AocStep(\"CRU\",\"I\"), new AocStep(\"MC\",\"I\")}, ",
                "\n        {new AocStep(\"BOP\",\"N\"), new AocStep(\"BOP\",\"N\")},",
                "\n        {new AocStep(\"CF\",\"N\"), new AocStep(\"BOP\",\"N\")},",
                "\n        {new AocStep(\"IA\",\"N\"), new AocStep(\"BOP\",\"N\")},",
                "\n        {new AocStep(\"EV\",\"N\"), new AocStep(\"EV\",\"N\")},",
                "\n        {new AocStep(\"CL\",\"C\"), new AocStep(\"CL\",\"C\")},",
                "\n        {new AocStep(\"EA\",\"C\"), new AocStep(\"CF\",\"C\")},",
                "\n        {new AocStep(\"AM\",\"C\"), new AocStep(\"CL\",\"C\")},",
                "\n        {new AocStep(\"EOP\",\"C\"), new AocStep(\"CL\",\"C\")},",
                "\n        {new AocStep(\"CF\",\"C\"), new AocStep(\"CF\",\"C\")},",
                "\n    };"
            ],
            "metadata": {},
            "execution_count": 0,
            "outputs": []
        },
        {
            "cell_type": "code",
            "source": [
                "fullAocBm = new Dictionary<AocStep,IEnumerable<AocStep>>()",
                "\n    {",
                "\n        //{new AocStep(\"BOP\",\"I\"), Enumerable.Empty<AocStep>()},",
                "\n        {new AocStep(\"MC\",\"I\"), new AocStep[]{new AocStep(\"BOP\",\"I\")}},",
                "\n        {new AocStep(\"RCU\",\"I\"), new AocStep[]{new AocStep(\"BOP\",\"I\"), new AocStep(\"MC\",\"I\")}},",
                "\n        {new AocStep(\"CF\",\"I\"), new AocStep[]{new AocStep(\"RCU\",\"I\"), new AocStep(\"BOP\",\"I\"), new AocStep(\"MC\",\"I\")}},",
                "\n        {new AocStep(\"IA\",\"I\"), new AocStep[]{new AocStep(\"RCU\",\"I\"), new AocStep(\"BOP\",\"I\"), new AocStep(\"MC\",\"I\"), new AocStep(\"CF\",\"I\")}},",
                "\n        {new AocStep(\"YCU\",\"I\"), new AocStep[]{new AocStep(\"IA\",\"I\"), new AocStep(\"RCU\",\"I\"), new AocStep(\"BOP\",\"I\"), new AocStep(\"MC\",\"I\"), new AocStep(\"CF\",\"I\")}},",
                "\n        {new AocStep(\"CRU\",\"I\"), new AocStep[]{new AocStep(\"YCU\",\"I\"), new AocStep(\"IA\",\"I\"), new AocStep(\"RCU\",\"I\"), new AocStep(\"BOP\",\"I\"), new AocStep(\"MC\",\"I\"), new AocStep(\"CF\",\"I\")}},",
                "\n        //{new AocStep(\"BOP\",\"N\"), Enumerable.Empty<AocStep>()},",
                "\n        {new AocStep(\"CF\",\"N\"), new AocStep[]{new AocStep(\"BOP\",\"N\")}},",
                "\n        {new AocStep(\"IA\",\"N\"), new AocStep[]{new AocStep(\"BOP\",\"N\"), new AocStep(\"CF\",\"N\")}},",
                "\n        {new AocStep(\"EV\",\"N\"), new AocStep[]{new AocStep(\"BOP\",\"N\"), new AocStep(\"CF\",\"N\"), new AocStep(\"IA\",\"N\")}},",
                "\n        ",
                "\n        {new AocStep(\"CL\",\"C\"), new AocStep[]{new AocStep(\"BOP\",\"I\"), new AocStep(\"MC\",\"I\"), new AocStep(\"RCU\",\"I\"), new AocStep(\"CF\",\"I\"), new AocStep(\"IA\",\"I\"), new AocStep(\"YCU\",\"I\"), new AocStep(\"CRU\",\"I\"),",
                "\n                                              new AocStep(\"BOP\",\"N\"), new AocStep(\"CF\",\"N\"), new AocStep(\"IA\",\"N\"), new AocStep(\"EV\",\"N\"),",
                "\n                                              }},",
                "\n        {new AocStep(\"EA\",\"C\"), new AocStep[]{new AocStep(\"BOP\",\"I\"), new AocStep(\"MC\",\"I\"), new AocStep(\"RCU\",\"I\"), new AocStep(\"CF\",\"I\"), new AocStep(\"IA\",\"I\"),new AocStep(\"YCU\",\"I\"), new AocStep(\"CRU\",\"I\"),",
                "\n                                              new AocStep(\"BOP\",\"N\"), new AocStep(\"CF\",\"N\"), new AocStep(\"IA\",\"N\"), new AocStep(\"EV\",\"N\"), ",
                "\n                                              new AocStep(\"CL\",\"C\"),",
                "\n                                             }},",
                "\n        {new AocStep(\"AM\",\"C\"), new AocStep[]{new AocStep(\"BOP\",\"I\"), new AocStep(\"MC\",\"I\"), new AocStep(\"RCU\",\"I\"), new AocStep(\"CF\",\"I\"), new AocStep(\"IA\",\"I\"),new AocStep(\"YCU\",\"I\"), new AocStep(\"CRU\",\"I\"),",
                "\n                                              new AocStep(\"BOP\",\"N\"), new AocStep(\"CF\",\"N\"), new AocStep(\"IA\",\"N\"), new AocStep(\"EV\",\"N\"), ",
                "\n                                              new AocStep(\"EA\",\"C\"), new AocStep(\"CL\",\"C\"),",
                "\n                                             }},",
                "\n        {new AocStep(\"EOP\",\"C\"), new AocStep[]{new AocStep(\"BOP\",\"I\"), new AocStep(\"MC\",\"I\"), new AocStep(\"RCU\",\"I\"), new AocStep(\"CF\",\"I\"), new AocStep(\"IA\",\"I\"),new AocStep(\"YCU\",\"I\"), new AocStep(\"CRU\",\"I\"),",
                "\n                                               new AocStep(\"BOP\",\"N\"), new AocStep(\"CF\",\"N\"), new AocStep(\"IA\",\"N\"), new AocStep(\"EV\",\"N\"), ",
                "\n                                               new AocStep(\"EA\",\"C\"), new AocStep(\"AM\",\"C\"), new AocStep(\"CL\",\"C\"),",
                "\n                                               }},",
                "\n        //{new AocStep(\"CF\",\"C\"), Enumerable.Empty<AocStep>()},",
                "\n        ",
                "\n    };"
            ],
            "metadata": {},
            "execution_count": 0,
            "outputs": []
        },
        {
            "cell_type": "code",
            "source": [
                "var activity = await CheckAocStepStructureAsync(inputRawVariables, parentBm, referenceBm, fullAocBm, parentBm_CDR);",
                "\nactivity"
            ],
            "metadata": {},
            "execution_count": 0,
            "outputs": []
        },
        {
            "cell_type": "code",
            "source": [
                "activity.Status.Should().Be(ActivityLogStatus.Succeeded);"
            ],
            "metadata": {},
            "execution_count": 0,
            "outputs": []
        },
        {
            "cell_type": "markdown",
            "source": [
                "## Cash flow: InForce, and Combined"
            ],
            "metadata": {},
            "execution_count": 0,
            "outputs": []
        },
        {
            "cell_type": "code",
            "source": [
                "inputRawVariables = new RawVariable[]{",
                "\n    new RawVariable{Partition = partition.Id, Values = new []{1.0}, DataNode = groupOfInsuranceContracts, AocType = \"BOP\", Novelty = \"I\", AccidentYear = null, AmountType = \"PR\", EstimateType = \"BE\"},",
                "\n    new RawVariable{Partition = partition.Id, Values = new []{1.0}, DataNode = groupOfInsuranceContracts, AocType = \"MC\", Novelty = \"I\", AccidentYear = null, AmountType = \"PR\", EstimateType = \"BE\"},",
                "\n    new RawVariable{Partition = partition.Id, Values = new []{1.0}, DataNode = groupOfInsuranceContracts, AocType = \"EV\", Novelty = \"I\", AccidentYear = null, AmountType = \"PR\", EstimateType = \"BE\"},",
                "\n    new RawVariable{Partition = partition.Id, Values = new []{1.0}, DataNode = groupOfInsuranceContracts, AocType = \"CL\", Novelty = \"C\", AccidentYear = null, AmountType = \"PR\", EstimateType = \"BE\"},",
                "\n};"
            ],
            "metadata": {},
            "execution_count": 0,
            "outputs": []
        },
        {
            "cell_type": "code",
            "source": [
                "parentBm = new Dictionary<AocStep,IEnumerable<AocStep>>()",
                "\n    {",
                "\n        {new AocStep(\"MC\",\"I\"), new AocStep[]{new AocStep(\"BOP\",\"I\")}},",
                "\n        {new AocStep(\"YCU\",\"I\"), new AocStep[]{new AocStep(\"MC\",\"I\")}}, ",
                "\n        {new AocStep(\"EV\",\"I\"), new AocStep[]{new AocStep(\"YCU\",\"I\")}},",
                "\n        {new AocStep(\"CL\",\"C\"), new AocStep[]{new AocStep(\"EV\",\"I\")}},",
                "\n    };"
            ],
            "metadata": {},
            "execution_count": 0,
            "outputs": []
        },
        {
            "cell_type": "code",
            "source": [
                "referenceBm = new Dictionary<AocStep,AocStep>()",
                "\n    {",
                "\n        {new AocStep(\"BOP\",\"I\"), new AocStep(\"BOP\",\"I\")},",
                "\n        {new AocStep(\"MC\",\"I\"), new AocStep(\"MC\",\"I\")},",
                "\n        {new AocStep(\"CF\",\"I\"), new AocStep(\"MC\",\"I\")},",
                "\n        {new AocStep(\"IA\",\"I\"), new AocStep(\"MC\",\"I\")},",
                "\n        {new AocStep(\"YCU\",\"I\"), new AocStep(\"MC\",\"I\")}, ",
                "\n        {new AocStep(\"EV\",\"I\"), new AocStep(\"EV\",\"I\")}, ",
                "\n        {new AocStep(\"CL\",\"C\"), new AocStep(\"CL\",\"C\")},",
                "\n        {new AocStep(\"EA\",\"C\"), new AocStep(\"CF\",\"C\")},",
                "\n        {new AocStep(\"AM\",\"C\"), new AocStep(\"CL\",\"C\")},",
                "\n        {new AocStep(\"EOP\",\"C\"), new AocStep(\"CL\",\"C\")},",
                "\n        {new AocStep(\"CF\",\"C\"), new AocStep(\"CF\",\"C\")},",
                "\n    };"
            ],
            "metadata": {},
            "execution_count": 0,
            "outputs": []
        },
        {
            "cell_type": "code",
            "source": [
                "fullAocBm = new Dictionary<AocStep,IEnumerable<AocStep>>()",
                "\n    {",
                "\n        //{new AocStep(\"BOP\",\"I\"), Enumerable.Empty<AocStep>()},",
                "\n        {new AocStep(\"MC\",\"I\"), new AocStep[]{new AocStep(\"BOP\",\"I\")}},",
                "\n        {new AocStep(\"CF\",\"I\"), new AocStep[]{new AocStep(\"BOP\",\"I\"), new AocStep(\"MC\",\"I\")}},",
                "\n        {new AocStep(\"IA\",\"I\"), new AocStep[]{new AocStep(\"BOP\",\"I\"), new AocStep(\"MC\",\"I\"), new AocStep(\"CF\",\"I\")}},",
                "\n        {new AocStep(\"YCU\",\"I\"), new AocStep[]{new AocStep(\"BOP\",\"I\"), new AocStep(\"MC\",\"I\"), new AocStep(\"CF\",\"I\"), new AocStep(\"IA\",\"I\")}},",
                "\n        {new AocStep(\"EV\",\"I\"), new AocStep[]{new AocStep(\"BOP\",\"I\"), new AocStep(\"MC\",\"I\"), new AocStep(\"CF\",\"I\"), new AocStep(\"IA\",\"I\"), new AocStep(\"YCU\",\"I\")}},",
                "\n        ",
                "\n        {new AocStep(\"CL\",\"C\"), new AocStep[]{new AocStep(\"BOP\",\"I\"), new AocStep(\"MC\",\"I\"), new AocStep(\"CF\",\"I\"), new AocStep(\"IA\",\"I\"), new AocStep(\"YCU\",\"I\"), new AocStep(\"EV\",\"I\"),",
                "\n                                            }},",
                "\n    ",
                "\n        {new AocStep(\"EA\",\"C\"), new AocStep[]{new AocStep(\"BOP\",\"I\"), new AocStep(\"MC\",\"I\"),new AocStep(\"CF\",\"I\"), new AocStep(\"IA\",\"I\"), new AocStep(\"YCU\",\"I\"), new AocStep(\"EV\",\"I\"),",
                "\n                                              new AocStep(\"CL\",\"C\"),}},",
                "\n        {new AocStep(\"AM\",\"C\"), new AocStep[]{new AocStep(\"BOP\",\"I\"), new AocStep(\"MC\",\"I\"),new AocStep(\"CF\",\"I\"), new AocStep(\"IA\",\"I\"), new AocStep(\"YCU\",\"I\"), new AocStep(\"EV\",\"I\"),",
                "\n                                              new AocStep(\"CL\",\"C\"), new AocStep(\"EA\",\"C\"),}},",
                "\n        {new AocStep(\"EOP\",\"C\"), new AocStep[]{new AocStep(\"BOP\",\"I\"), new AocStep(\"MC\",\"I\"),new AocStep(\"CF\",\"I\"), new AocStep(\"IA\",\"I\"), new AocStep(\"YCU\",\"I\"), new AocStep(\"EV\",\"I\"),",
                "\n                                               new AocStep(\"CL\",\"C\"), new AocStep(\"EA\",\"C\"), new AocStep(\"AM\",\"C\"),}},",
                "\n        //{new AocStep(\"CF\",\"C\"), Enumerable.Empty<AocStep>()},",
                "\n    };"
            ],
            "metadata": {},
            "execution_count": 0,
            "outputs": []
        },
        {
            "cell_type": "code",
            "source": [
                "var activity = await CheckAocStepStructureAsync(inputRawVariables, parentBm, referenceBm, fullAocBm);",
                "\nactivity"
            ],
            "metadata": {},
            "execution_count": 0,
            "outputs": []
        },
        {
            "cell_type": "code",
            "source": [
                "activity.Status.Should().Be(ActivityLogStatus.Succeeded);"
            ],
            "metadata": {},
            "execution_count": 0,
            "outputs": []
        },
        {
            "cell_type": "markdown",
            "source": [
                "## Cash flow: Extend Combined Session"
            ],
            "metadata": {},
            "execution_count": 0,
            "outputs": []
        },
        {
            "cell_type": "markdown",
            "source": [
                "### Preparation"
            ],
            "metadata": {},
            "execution_count": 0,
            "outputs": []
        },
        {
            "cell_type": "code",
            "source": [
                "string newAocConfig = ",
                "\n@\"@@AocConfiguration,,,,,,,,,,,",
                "\nAocType,Novelty,DataType,InputSource,FxPeriod,YcPeriod,CdrPeriod,ValuationPeriod,RcPeriod,Order,Year,Month",
                "\nBOP,I,Optional,7,BeginningOfPeriod,BeginningOfPeriod,BeginningOfPeriod,BeginningOfPeriod,BeginningOfPeriod,10,1900,1",
                "\nMC,I,Optional,4,BeginningOfPeriod,BeginningOfPeriod,BeginningOfPeriod,BeginningOfPeriod,BeginningOfPeriod,20,1900,1",
                "\nRCU,I,Calculated,4,BeginningOfPeriod,BeginningOfPeriod,BeginningOfPeriod,BeginningOfPeriod,EndOfPeriod,30,1900,1",
                "\nCF,I,Calculated,4,Average,NotApplicable,BeginningOfPeriod,Delta,EndOfPeriod,40,1900,1",
                "\nIA,I,Calculated,5,Average,BeginningOfPeriod,BeginningOfPeriod,Delta,EndOfPeriod,50,1900,1",
                "\nAU,I,Optional,4,EndOfPeriod,BeginningOfPeriod,BeginningOfPeriod,EndOfPeriod,EndOfPeriod,60,1900,1",
                "\nYCU,I,CalculatedTelescopic,4,EndOfPeriod,EndOfPeriod,BeginningOfPeriod,EndOfPeriod,EndOfPeriod,70,1900,1",
                "\nCRU,I,CalculatedTelescopic,4,EndOfPeriod,EndOfPeriod,EndOfPeriod,EndOfPeriod,EndOfPeriod,80,1900,1",
                "\nEV,I,Optional,4,EndOfPeriod,EndOfPeriod,EndOfPeriod,EndOfPeriod,EndOfPeriod,90,1900,1",
                "\nBOP,N,Optional,4,Average,EndOfPeriod,EndOfPeriod,BeginningOfPeriod,EndOfPeriod,95,1900,1",
                "\nCF,N,Calculated,4,Average,NotApplicable,EndOfPeriod,Delta,EndOfPeriod,110,1900,1",
                "\nIA,N,Calculated,4,Average,EndOfPeriod,EndOfPeriod,Delta,EndOfPeriod,120,1900,1",
                "\nAU,N,Optional,4,EndOfPeriod,EndOfPeriod,EndOfPeriod,EndOfPeriod,EndOfPeriod,130,1900,1",
                "\nEV,N,Optional,4,EndOfPeriod,EndOfPeriod,EndOfPeriod,EndOfPeriod,EndOfPeriod,140,1900,1",
                "\nCF,C,Optional,2,Average,NotApplicable,NotApplicable,NotApplicable,NotApplicable,160,1900,1",
                "\nWO,C,Optional,2,Average,NotApplicable,NotApplicable,NotApplicable,NotApplicable,170,1900,1",
                "\nEV,C,Optional,4,EndOfPeriod,EndOfPeriod,EndOfPeriod,EndOfPeriod,EndOfPeriod,175,1900,1",
                "\nCL,C,Mandatory,4,EndOfPeriod,EndOfPeriod,EndOfPeriod,EndOfPeriod,EndOfPeriod,180,1900,1",
                "\nEA,C,Calculated,4,EndOfPeriod,NotApplicable,NotApplicable,NotApplicable,EndOfPeriod,190,1900,1",
                "\nAM,C,Calculated,6,EndOfPeriod,NotApplicable,NotApplicable,NotApplicable,EndOfPeriod,200,1900,1",
                "\nFX,C,Calculated,0,NotApplicable,NotApplicable,NotApplicable,NotApplicable,NotApplicable,210,1900,1",
                "\nEOP,C,Calculated,6,EndOfPeriod,EndOfPeriod,EndOfPeriod,EndOfPeriod,EndOfPeriod,220,1900,1\";"
            ],
            "metadata": {},
            "execution_count": 0,
            "outputs": []
        },
        {
            "cell_type": "code",
            "source": [
                "await DataSource.DeleteAsync(DataSource.Query<AocConfiguration>());",
                "\nawait Import.FromString(newAocConfig).WithFormat(ImportFormats.AocConfiguration).WithTarget(DataSource).ExecuteAsync();"
            ],
            "metadata": {},
            "execution_count": 0,
            "outputs": []
        },
        {
            "cell_type": "markdown",
            "source": [
                "### In Force Combined"
            ],
            "metadata": {},
            "execution_count": 0,
            "outputs": []
        },
        {
            "cell_type": "code",
            "source": [
                "inputRawVariables = new RawVariable[]{",
                "\n    new RawVariable{Partition = partition.Id, Values = new []{1.0}, DataNode = groupOfInsuranceContracts, AocType = \"BOP\", Novelty = \"I\", AccidentYear = null, AmountType = \"PR\", EstimateType = \"BE\"},",
                "\n    new RawVariable{Partition = partition.Id, Values = new []{1.0}, DataNode = groupOfInsuranceContracts, AocType = \"MC\", Novelty = \"I\", AccidentYear = null, AmountType = \"PR\", EstimateType = \"BE\"},",
                "\n    new RawVariable{Partition = partition.Id, Values = new []{1.0}, DataNode = groupOfInsuranceContracts, AocType = \"CL\", Novelty = \"C\", AccidentYear = null, AmountType = \"PR\", EstimateType = \"BE\"},",
                "\n    new RawVariable{Partition = partition.Id, Values = new []{1.0}, DataNode = groupOfInsuranceContracts, AocType = \"EV\", Novelty = \"C\", AccidentYear = null, AmountType = \"PR\", EstimateType = \"BE\"},",
                "\n};"
            ],
            "metadata": {},
            "execution_count": 0,
            "outputs": []
        },
        {
            "cell_type": "code",
            "source": [
                "parentBm = new Dictionary<AocStep,IEnumerable<AocStep>>()",
                "\n    {",
                "\n        {new AocStep(\"MC\",\"I\"), new AocStep[]{new AocStep(\"BOP\",\"I\")}},",
                "\n        {new AocStep(\"YCU\",\"I\"), new AocStep[]{new AocStep(\"MC\",\"I\")}}, ",
                "\n        {new AocStep(\"EV\",\"C\"), new AocStep[]{new AocStep(\"YCU\",\"I\")}},",
                "\n        {new AocStep(\"CL\",\"C\"), new AocStep[]{new AocStep(\"EV\",\"C\")}},",
                "\n    };"
            ],
            "metadata": {},
            "execution_count": 0,
            "outputs": []
        },
        {
            "cell_type": "code",
            "source": [
                "referenceBm = new Dictionary<AocStep,AocStep>()",
                "\n    {",
                "\n        {new AocStep(\"BOP\",\"I\"), new AocStep(\"BOP\",\"I\")},",
                "\n        {new AocStep(\"MC\",\"I\"), new AocStep(\"MC\",\"I\")},",
                "\n        {new AocStep(\"CF\",\"I\"), new AocStep(\"MC\",\"I\")},",
                "\n        {new AocStep(\"IA\",\"I\"), new AocStep(\"MC\",\"I\")},",
                "\n        {new AocStep(\"YCU\",\"I\"), new AocStep(\"MC\",\"I\")}, ",
                "\n        {new AocStep(\"EV\",\"C\"), new AocStep(\"EV\",\"C\")},",
                "\n        {new AocStep(\"CL\",\"C\"), new AocStep(\"CL\",\"C\")},",
                "\n        {new AocStep(\"EA\",\"C\"), new AocStep(\"CF\",\"C\")},",
                "\n        {new AocStep(\"AM\",\"C\"), new AocStep(\"CL\",\"C\")},",
                "\n        {new AocStep(\"EOP\",\"C\"), new AocStep(\"CL\",\"C\")},",
                "\n        {new AocStep(\"CF\",\"C\"), new AocStep(\"CF\",\"C\")},",
                "\n    };"
            ],
            "metadata": {},
            "execution_count": 0,
            "outputs": []
        },
        {
            "cell_type": "code",
            "source": [
                "fullAocBm = new Dictionary<AocStep,IEnumerable<AocStep>>()",
                "\n    {",
                "\n        {new AocStep(\"MC\",\"I\"), new AocStep[]{new AocStep(\"BOP\",\"I\")}},",
                "\n        {new AocStep(\"CF\",\"I\"), new AocStep[]{new AocStep(\"BOP\",\"I\"), new AocStep(\"MC\",\"I\")}},",
                "\n        {new AocStep(\"IA\",\"I\"), new AocStep[]{new AocStep(\"BOP\",\"I\"), new AocStep(\"MC\",\"I\"), new AocStep(\"CF\",\"I\")}},",
                "\n        {new AocStep(\"YCU\",\"I\"), new AocStep[]{new AocStep(\"BOP\",\"I\"), new AocStep(\"MC\",\"I\"), new AocStep(\"CF\",\"I\"), new AocStep(\"IA\",\"I\")}},",
                "\n        ",
                "\n        {new AocStep(\"EV\",\"C\"), new AocStep[]{new AocStep(\"BOP\",\"I\"), new AocStep(\"MC\",\"I\"), new AocStep(\"CF\",\"I\"), new AocStep(\"IA\",\"I\"), new AocStep(\"YCU\",\"I\"), ",
                "\n                                            }},",
                "\n        {new AocStep(\"CL\",\"C\"), new AocStep[]{new AocStep(\"BOP\",\"I\"), new AocStep(\"MC\",\"I\"),new AocStep(\"CF\",\"I\"), new AocStep(\"IA\",\"I\"), new AocStep(\"YCU\",\"I\"),",
                "\n                                              new AocStep(\"EV\",\"C\"),}},",
                "\n        {new AocStep(\"EA\",\"C\"), new AocStep[]{new AocStep(\"BOP\",\"I\"), new AocStep(\"MC\",\"I\"),new AocStep(\"CF\",\"I\"), new AocStep(\"IA\",\"I\"), new AocStep(\"YCU\",\"I\"),",
                "\n                                              new AocStep(\"EV\",\"C\"), new AocStep(\"CL\",\"C\"),}},",
                "\n        {new AocStep(\"AM\",\"C\"), new AocStep[]{new AocStep(\"BOP\",\"I\"), new AocStep(\"MC\",\"I\"),new AocStep(\"CF\",\"I\"), new AocStep(\"IA\",\"I\"), new AocStep(\"YCU\",\"I\"),",
                "\n                                              new AocStep(\"EV\",\"C\"), new AocStep(\"CL\",\"C\"), new AocStep(\"EA\",\"C\")}},",
                "\n        {new AocStep(\"EOP\",\"C\"), new AocStep[]{new AocStep(\"BOP\",\"I\"), new AocStep(\"MC\",\"I\"),new AocStep(\"CF\",\"I\"), new AocStep(\"IA\",\"I\"), new AocStep(\"YCU\",\"I\"),",
                "\n                                               new AocStep(\"EV\",\"C\"), new AocStep(\"CL\",\"C\"), new AocStep(\"EA\",\"C\"), new AocStep(\"AM\",\"C\")}},",
                "\n    };"
            ],
            "metadata": {},
            "execution_count": 0,
            "outputs": []
        },
        {
            "cell_type": "code",
            "source": [
                "var activity = await CheckAocStepStructureAsync(inputRawVariables, parentBm, referenceBm, fullAocBm);",
                "\nactivity"
            ],
            "metadata": {},
            "execution_count": 0,
            "outputs": []
        },
        {
            "cell_type": "code",
            "source": [
                "activity.Status.Should().Be(ActivityLogStatus.Succeeded);"
            ],
            "metadata": {},
            "execution_count": 0,
            "outputs": []
        },
        {
            "cell_type": "markdown",
            "source": [
                "### InForce, NewBusiness, Combined"
            ],
            "metadata": {},
            "execution_count": 0,
            "outputs": []
        },
        {
            "cell_type": "code",
            "source": [
                "inputRawVariables = new RawVariable[]{",
                "\n    new RawVariable{Partition = partition.Id, Values = new []{1.0}, DataNode = groupOfInsuranceContracts, AocType = \"BOP\", Novelty = \"I\", AccidentYear = null, AmountType = \"PR\", EstimateType = \"BE\"},",
                "\n    new RawVariable{Partition = partition.Id, Values = new []{1.0}, DataNode = groupOfInsuranceContracts, AocType = \"MC\", Novelty = \"I\", AccidentYear = null, AmountType = \"PR\", EstimateType = \"BE\"},",
                "\n    new RawVariable{Partition = partition.Id, Values = new []{1.0}, DataNode = groupOfInsuranceContracts, AocType = \"BOP\", Novelty = \"N\", AccidentYear = null, AmountType = \"PR\", EstimateType = \"BE\"},",
                "\n    new RawVariable{Partition = partition.Id, Values = new []{1.0}, DataNode = groupOfInsuranceContracts, AocType = \"AU\", Novelty = \"N\", AccidentYear = null, AmountType = \"PR\", EstimateType = \"BE\"},",
                "\n    new RawVariable{Partition = partition.Id, Values = new []{1.0}, DataNode = groupOfInsuranceContracts, AocType = \"CL\", Novelty = \"C\", AccidentYear = null, AmountType = \"PR\", EstimateType = \"BE\"},",
                "\n    new RawVariable{Partition = partition.Id, Values = new []{1.0}, DataNode = groupOfInsuranceContracts, AocType = \"EV\", Novelty = \"C\", AccidentYear = null, AmountType = \"PR\", EstimateType = \"BE\"},",
                "\n};"
            ],
            "metadata": {},
            "execution_count": 0,
            "outputs": []
        },
        {
            "cell_type": "code",
            "source": [
                "parentBm = new Dictionary<AocStep,IEnumerable<AocStep>>()",
                "\n    {",
                "\n        {new AocStep(\"MC\",\"I\"), new AocStep[]{new AocStep(\"BOP\",\"I\")}},",
                "\n        {new AocStep(\"YCU\",\"I\"), new AocStep[]{new AocStep(\"MC\",\"I\")}}, ",
                "\n        {new AocStep(\"AU\",\"N\"), new AocStep[]{new AocStep(\"BOP\",\"N\")}},",
                "\n        {new AocStep(\"EV\",\"C\"), new AocStep[]{new AocStep(\"YCU\",\"I\"), new AocStep(\"AU\",\"N\")}},",
                "\n        {new AocStep(\"CL\",\"C\"), new AocStep[]{new AocStep(\"EV\",\"C\")}},",
                "\n    };"
            ],
            "metadata": {},
            "execution_count": 0,
            "outputs": []
        },
        {
            "cell_type": "code",
            "source": [
                "referenceBm = new Dictionary<AocStep,AocStep>()",
                "\n    {",
                "\n        {new AocStep(\"BOP\",\"I\"), new AocStep(\"BOP\",\"I\")},",
                "\n        {new AocStep(\"MC\",\"I\"), new AocStep(\"MC\",\"I\")},",
                "\n        {new AocStep(\"CF\",\"I\"), new AocStep(\"MC\",\"I\")},",
                "\n        {new AocStep(\"IA\",\"I\"), new AocStep(\"MC\",\"I\")},",
                "\n        {new AocStep(\"YCU\",\"I\"), new AocStep(\"MC\",\"I\")}, ",
                "\n        {new AocStep(\"BOP\",\"N\"), new AocStep(\"BOP\",\"N\")}, ",
                "\n        {new AocStep(\"CF\",\"N\"), new AocStep(\"BOP\",\"N\")}, ",
                "\n        {new AocStep(\"IA\",\"N\"), new AocStep(\"BOP\",\"N\")}, ",
                "\n        {new AocStep(\"AU\",\"N\"), new AocStep(\"AU\",\"N\")}, ",
                "\n        {new AocStep(\"EV\",\"C\"), new AocStep(\"EV\",\"C\")},",
                "\n        {new AocStep(\"CL\",\"C\"), new AocStep(\"CL\",\"C\")},",
                "\n        {new AocStep(\"EA\",\"C\"), new AocStep(\"CF\",\"C\")},",
                "\n        {new AocStep(\"AM\",\"C\"), new AocStep(\"CL\",\"C\")},",
                "\n        {new AocStep(\"EOP\",\"C\"), new AocStep(\"CL\",\"C\")},",
                "\n        {new AocStep(\"CF\",\"C\"), new AocStep(\"CF\",\"C\")},",
                "\n    };"
            ],
            "metadata": {},
            "execution_count": 0,
            "outputs": []
        },
        {
            "cell_type": "code",
            "source": [
                "fullAocBm = new Dictionary<AocStep,IEnumerable<AocStep>>()",
                "\n    {",
                "\n        {new AocStep(\"MC\",\"I\"), new AocStep[]{new AocStep(\"BOP\",\"I\")}},",
                "\n        {new AocStep(\"CF\",\"I\"), new AocStep[]{new AocStep(\"BOP\",\"I\"), new AocStep(\"MC\",\"I\")}},",
                "\n        {new AocStep(\"IA\",\"I\"), new AocStep[]{new AocStep(\"BOP\",\"I\"), new AocStep(\"MC\",\"I\"), new AocStep(\"CF\",\"I\")}},",
                "\n        {new AocStep(\"YCU\",\"I\"), new AocStep[]{new AocStep(\"BOP\",\"I\"), new AocStep(\"MC\",\"I\"), new AocStep(\"CF\",\"I\"), new AocStep(\"IA\",\"I\")}},",
                "\n        ",
                "\n        {new AocStep(\"CF\",\"N\"), new AocStep[]{new AocStep(\"BOP\",\"N\")}},",
                "\n        {new AocStep(\"IA\",\"N\"), new AocStep[]{new AocStep(\"BOP\",\"N\"),new AocStep(\"CF\",\"N\")}},",
                "\n        {new AocStep(\"AU\",\"N\"), new AocStep[]{new AocStep(\"BOP\",\"N\"),new AocStep(\"CF\",\"N\"),new AocStep(\"IA\",\"N\")}},",
                "\n",
                "\n        {new AocStep(\"EV\",\"C\"), new AocStep[]{new AocStep(\"BOP\",\"I\"), new AocStep(\"MC\",\"I\"), new AocStep(\"CF\",\"I\"), new AocStep(\"IA\",\"I\"), new AocStep(\"YCU\",\"I\"), ",
                "\n                                              new AocStep(\"BOP\",\"N\"),new AocStep(\"CF\",\"N\"),new AocStep(\"IA\",\"N\"),new AocStep(\"AU\",\"N\"),",
                "\n                                              }},",
                "\n        {new AocStep(\"CL\",\"C\"), new AocStep[]{new AocStep(\"BOP\",\"I\"), new AocStep(\"MC\",\"I\"),new AocStep(\"CF\",\"I\"), new AocStep(\"IA\",\"I\"), new AocStep(\"YCU\",\"I\"),",
                "\n                                              new AocStep(\"BOP\",\"N\"),new AocStep(\"CF\",\"N\"),new AocStep(\"IA\",\"N\"),new AocStep(\"AU\",\"N\"),",
                "\n                                              new AocStep(\"EV\",\"C\"),}},",
                "\n        {new AocStep(\"EA\",\"C\"), new AocStep[]{new AocStep(\"BOP\",\"I\"), new AocStep(\"MC\",\"I\"),new AocStep(\"CF\",\"I\"), new AocStep(\"IA\",\"I\"), new AocStep(\"YCU\",\"I\"),",
                "\n                                              new AocStep(\"BOP\",\"N\"),new AocStep(\"CF\",\"N\"),new AocStep(\"IA\",\"N\"),new AocStep(\"AU\",\"N\"),",
                "\n                                              new AocStep(\"EV\",\"C\"), new AocStep(\"CL\",\"C\"),}},",
                "\n        {new AocStep(\"AM\",\"C\"), new AocStep[]{new AocStep(\"BOP\",\"I\"), new AocStep(\"MC\",\"I\"),new AocStep(\"CF\",\"I\"), new AocStep(\"IA\",\"I\"), new AocStep(\"YCU\",\"I\"),",
                "\n                                              new AocStep(\"BOP\",\"N\"),new AocStep(\"CF\",\"N\"),new AocStep(\"IA\",\"N\"),new AocStep(\"AU\",\"N\"),",
                "\n                                              new AocStep(\"EV\",\"C\"), new AocStep(\"CL\",\"C\"), new AocStep(\"EA\",\"C\")}},",
                "\n        {new AocStep(\"EOP\",\"C\"), new AocStep[]{new AocStep(\"BOP\",\"I\"), new AocStep(\"MC\",\"I\"),new AocStep(\"CF\",\"I\"), new AocStep(\"IA\",\"I\"), new AocStep(\"YCU\",\"I\"),",
                "\n                                               new AocStep(\"BOP\",\"N\"),new AocStep(\"CF\",\"N\"),new AocStep(\"IA\",\"N\"),new AocStep(\"AU\",\"N\"),",
                "\n                                               new AocStep(\"EV\",\"C\"), new AocStep(\"CL\",\"C\"), new AocStep(\"EA\",\"C\"), new AocStep(\"AM\",\"C\")}},",
                "\n    };"
            ],
            "metadata": {},
            "execution_count": 0,
            "outputs": []
        },
        {
            "cell_type": "code",
            "source": [
                "var activity = await CheckAocStepStructureAsync(inputRawVariables, parentBm, referenceBm, fullAocBm);",
                "\nactivity"
            ],
            "metadata": {},
            "execution_count": 0,
            "outputs": []
        },
        {
            "cell_type": "code",
            "source": [
                "activity.Status.Should().Be(ActivityLogStatus.Succeeded);"
            ],
            "metadata": {},
            "execution_count": 0,
            "outputs": []
        },
        {
            "cell_type": "markdown",
            "source": [
                "### Reset"
            ],
            "metadata": {},
            "execution_count": 0,
            "outputs": []
        },
        {
            "cell_type": "code",
            "source": [
                "await DataSource.DeleteAsync(DataSource.Query<AocConfiguration>());",
                "\nawait Import.FromString(canonicalAocConfig).WithFormat(ImportFormats.AocConfiguration).WithTarget(DataSource).ExecuteAsync();"
            ],
            "metadata": {},
            "execution_count": 0,
            "outputs": []
        },
        {
            "cell_type": "markdown",
            "source": [
                "## Actual"
            ],
            "metadata": {},
            "execution_count": 0,
            "outputs": []
        },
        {
            "cell_type": "code",
            "source": [
                "var inputIfrsVariables = new IfrsVariable[]{",
                "\n    new IfrsVariable{Partition = partition.Id, Value = 1.0, DataNode = groupOfInsuranceContracts, AocType = \"BOP\", Novelty = \"C\", AccidentYear = null, AmountType = \"PR\", EstimateType = \"AA\"},",
                "\n    new IfrsVariable{Partition = partition.Id, Value = 1.0, DataNode = groupOfInsuranceContracts, AocType = \"CF\", Novelty = \"C\", AccidentYear = null, AmountType = \"PR\", EstimateType = \"AA\"},",
                "\n    new IfrsVariable{Partition = partition.Id, Value = 1.0, DataNode = groupOfInsuranceContracts, AocType = \"CF\", Novelty = \"C\", AccidentYear = null, AmountType = \"ACA\", EstimateType = \"A\"},",
                "\n    new IfrsVariable{Partition = partition.Id, Value = 1.0, DataNode = groupOfInsuranceContracts, AocType = \"WO\", Novelty = \"C\", AccidentYear = null, AmountType = \"PR\", EstimateType = \"OA\"},",
                "\n};"
            ],
            "metadata": {},
            "execution_count": 0,
            "outputs": []
        },
        {
            "cell_type": "code",
            "source": [
                "parentBm = null;"
            ],
            "metadata": {},
            "execution_count": 0,
            "outputs": []
        },
        {
            "cell_type": "code",
            "source": [
                "referenceBm = null;"
            ],
            "metadata": {},
            "execution_count": 0,
            "outputs": []
        },
        {
            "cell_type": "code",
            "source": [
                "fullAocBm = new Dictionary<AocStep,IEnumerable<AocStep>>()",
                "\n    {",
                "\n        //{new AocStep(\"BOP\",\"I\"), Enumerable.Empty<AocStep>()},",
                "\n        {new AocStep(\"CF\",\"C\"), new AocStep[]{new AocStep(\"BOP\",\"I\"),}},",
                "\n        {new AocStep(\"WO\",\"C\"), new AocStep[]{new AocStep(\"BOP\",\"I\"), new AocStep(\"CF\",\"C\"),}},",
                "\n        {new AocStep(\"AM\",\"C\"), new AocStep[]{new AocStep(\"BOP\",\"I\"), new AocStep(\"CF\",\"C\"), new AocStep(\"WO\",\"C\"),}},",
                "\n        {new AocStep(\"EOP\",\"C\"), new AocStep[]{new AocStep(\"BOP\",\"I\"), new AocStep(\"CF\",\"C\"), new AocStep(\"WO\",\"C\"), new AocStep(\"AM\",\"C\"),}},",
                "\n    };"
            ],
            "metadata": {},
            "execution_count": 0,
            "outputs": []
        },
        {
            "cell_type": "code",
            "source": [
                "var activity = await CheckAocStepStructureAsync(inputIfrsVariables, parentBm, referenceBm, fullAocBm);",
                "\nactivity"
            ],
            "metadata": {},
            "execution_count": 0,
            "outputs": []
        },
        {
            "cell_type": "code",
            "source": [
                "activity.Status.Should().Be(ActivityLogStatus.Succeeded);"
            ],
            "metadata": {},
            "execution_count": 0,
            "outputs": []
        },
        {
            "cell_type": "code",
            "source": [
                ""
            ],
            "metadata": {},
            "execution_count": 0,
            "outputs": []
        }
    ]
}