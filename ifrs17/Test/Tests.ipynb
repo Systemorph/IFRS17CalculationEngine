{
    "metadata": {
        "authors": [],
        "kernelspec": {
            "display_name": "Formula Framework",
            "language": "C#",
            "name": "C#"
        },
        "language_info": {
            "file_extension": ".cs",
            "mimetype": "text/plain",
            "name": "C#"
        }
    },
    "nbformat": 4,
    "nbformat_minor": 5,
    "cells": [
        {
            "id": "tIV7Q4vx8UeFi8kmrwPcEg",
            "cell_type": "markdown",
            "source": [
                "<p style=\"font-weight:bold;\"> <span style=\"font-size: 36px\"> Tests </span> </p>"
            ],
            "metadata": {},
            "execution_count": 0,
            "outputs": []
        },
        {
            "id": "afu9qRQM0EK0X8DYxEDABQ",
            "cell_type": "code",
            "source": [
                "#!eval-notebook \"AocConfigurationTest\""
            ],
            "metadata": {},
            "execution_count": 0,
            "outputs": []
        },
        {
            "id": "eiuXjlas1kCmW7Fty4gKoQ",
            "cell_type": "code",
            "source": [
                "#!eval-notebook \"QueriesTest\""
            ],
            "metadata": {},
            "execution_count": 0,
            "outputs": []
        }
    ]
}