{
    "metadata": {
        "authors": [],
        "kernelspec": {
            "display_name": "Formula Framework",
            "language": "C#",
            "name": "C#"
        },
        "language_info": {
            "file_extension": ".cs",
            "mimetype": "text/plain",
            "name": "C#"
        }
    },
    "nbformat": 4,
    "nbformat_minor": 5,
    "cells": [
        {
            "cell_type": "markdown",
            "source": [
                "<p style=\"font-weight:bold;\"> <span style=\"font-size: 36px\"> Tests </span> </p>"
            ]
        },
        {
            "cell_type": "code",
            "source": [
                "#!eval-notebook \"AocConfigurationTest\""
            ]
        },
        {
            "cell_type": "code",
            "source": [
                "#!eval-notebook \"QueriesTest\""
            ]
        }
    ]
}