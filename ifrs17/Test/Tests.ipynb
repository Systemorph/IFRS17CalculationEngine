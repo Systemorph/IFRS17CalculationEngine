{
    "metadata": {
        "authors": [],
        "kernelspec": {
            "display_name": "Formula Framework",
            "language": "C#",
            "name": "C#"
        },
        "language_info": {
            "file_extension": ".cs",
            "mimetype": "text/plain",
            "name": "C#"
        }
    },
    "nbformat": 4,
    "nbformat_minor": 5,
    "cells": [
        {
            "id": "X7V6C5H97UKIb2f6xTMh7Q",
            "cell_type": "markdown",
            "source": [
                "<p style=\"font-weight:bold;\"> <span style=\"font-size: 36px\"> Tests </span> </p>"
            ],
            "metadata": {},
            "execution_count": 0,
            "outputs": []
        },
        {
            "id": "R-KZ1LHnxEOe0yuidNr8QQ",
            "cell_type": "code",
            "source": [
                "#!eval-notebook \"AocConfigurationTest\""
            ],
            "metadata": {},
            "execution_count": 0,
            "outputs": []
        },
        {
            "id": "B6uVCz3wr0KSn3PFE1I47Q",
            "cell_type": "code",
            "source": [
                "#!eval-notebook \"QueriesTest\""
            ],
            "metadata": {},
            "execution_count": 0,
            "outputs": []
        }
    ]
}