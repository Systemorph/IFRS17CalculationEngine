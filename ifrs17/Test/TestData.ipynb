{
    "metadata": {
        "authors": [],
        "id": "2te-PqA6Wk2b8-olomgbmA",
        "kernelspec": {
            "display_name": "Formula Framework",
            "language": "C#",
            "name": "C#"
        },
        "language_info": {
            "file_extension": ".cs",
            "mimetype": "text/plain",
            "name": "C#"
        }
    },
    "nbformat": 4,
    "nbformat_minor": 5,
    "cells": [
        {
            "cell_type": "markdown",
            "source": [
                "# AoC Structure"
            ],
            "metadata": {},
            "execution_count": 0,
            "outputs": []
        },
        {
            "cell_type": "code",
            "source": [
                "string novelties = ",
                "\n@\"@@Novelty",
                "\nSystemName,DisplayName,Parent,Order",
                "\nI,In Force,,1",
                "\nN,New Business,,10",
                "\nC,Combined,,20\";",
                "\n",
                "\nstring canonicalAocTypes = ",
                "\n@\"@@AocType,,,,,,,,,,,",
                "\nSystemName,DisplayName,Parent,Order,,,,,,,,",
                "\nBOP,Opening Balance,,10,,,,,,,,",
                "\nMC,Model Correction,,20,,,,,,,,",
                "\nPC,Portfolio Changes,,30,,,,,,,,",
                "\nRCU,Reinsurance Coverage Update,PC,40,,,,,,,,",
                "\nCF,Cash flow,,50,,,,,,,,",
                "\nIA,Interest Accretion,,60,,,,,,,,",
                "\nAU,Assumption Update,,70,,,,,,,,",
                "\nFAU,Financial Assumption Update,,80,,,,,,,,",
                "\nYCU,Yield Curve Update,FAU,90,,,,,,,,",
                "\nCRU,Credit Risk Update,FAU,100,,,,,,,,",
                "\nEV,Experience Variance,,110,,,,,,,,",
                "\nWO,Write-Off,,120,,,,,,,,",
                "\nCL,Combined Liabilities,,130,,,,,,,,",
                "\nEA,Experience Adjustment,,140,,,,,,,,",
                "\nAM,Amortization,,150,,,,,,,,",
                "\nFX,FX Impact,,160,,,,,,,,",
                "\nEOP,Closing Balance,,170,,,,,,,,\";",
                "\n",
                "\nstring canonicalAocConfig = ",
                "\n@\"@@AocConfiguration,,,,,,,,,,,",
                "\nAocType,Novelty,DataType,InputSource,FxPeriod,YcPeriod,CdrPeriod,ValuationPeriod,RcPeriod,Order,Year,Month",
                "\nBOP,I,Optional,7,BeginningOfPeriod,BeginningOfPeriod,BeginningOfPeriod,BeginningOfPeriod,BeginningOfPeriod,10,1900,1",
                "\nMC,I,Optional,4,BeginningOfPeriod,BeginningOfPeriod,BeginningOfPeriod,BeginningOfPeriod,BeginningOfPeriod,20,1900,1",
                "\nRCU,I,Calculated,4,BeginningOfPeriod,BeginningOfPeriod,BeginningOfPeriod,BeginningOfPeriod,EndOfPeriod,30,1900,1",
                "\nCF,I,Calculated,4,Average,NotApplicable,BeginningOfPeriod,Delta,EndOfPeriod,40,1900,1",
                "\nIA,I,Calculated,5,Average,BeginningOfPeriod,BeginningOfPeriod,Delta,EndOfPeriod,50,1900,1",
                "\nAU,I,Optional,4,EndOfPeriod,BeginningOfPeriod,BeginningOfPeriod,EndOfPeriod,EndOfPeriod,60,1900,1",
                "\nYCU,I,CalculatedTelescopic,4,EndOfPeriod,EndOfPeriod,BeginningOfPeriod,EndOfPeriod,EndOfPeriod,70,1900,1",
                "\nCRU,I,CalculatedTelescopic,4,EndOfPeriod,EndOfPeriod,EndOfPeriod,EndOfPeriod,EndOfPeriod,80,1900,1",
                "\nEV,I,Optional,4,EndOfPeriod,EndOfPeriod,EndOfPeriod,EndOfPeriod,EndOfPeriod,90,1900,1",
                "\nBOP,N,Optional,4,Average,EndOfPeriod,EndOfPeriod,BeginningOfPeriod,EndOfPeriod,95,1900,1",
                "\nMC,N,Optional,4,Average,EndOfPeriod,EndOfPeriod,BeginningOfPeriod,EndOfPeriod,100,1900,1",
                "\nCF,N,Calculated,4,Average,NotApplicable,EndOfPeriod,Delta,EndOfPeriod,110,1900,1",
                "\nIA,N,Calculated,4,Average,EndOfPeriod,EndOfPeriod,Delta,EndOfPeriod,120,1900,1",
                "\nAU,N,Optional,4,EndOfPeriod,EndOfPeriod,EndOfPeriod,EndOfPeriod,EndOfPeriod,130,1900,1",
                "\nEV,N,Optional,4,EndOfPeriod,EndOfPeriod,EndOfPeriod,EndOfPeriod,EndOfPeriod,140,1900,1",
                "\nCF,C,Optional,2,Average,NotApplicable,NotApplicable,NotApplicable,NotApplicable,160,1900,1",
                "\nWO,C,Optional,2,Average,NotApplicable,NotApplicable,NotApplicable,NotApplicable,170,1900,1",
                "\nCL,C,Mandatory,4,EndOfPeriod,EndOfPeriod,EndOfPeriod,EndOfPeriod,EndOfPeriod,180,1900,1",
                "\nEA,C,Calculated,4,EndOfPeriod,NotApplicable,NotApplicable,NotApplicable,EndOfPeriod,190,1900,1",
                "\nAM,C,Calculated,6,EndOfPeriod,NotApplicable,NotApplicable,NotApplicable,EndOfPeriod,200,1900,1",
                "\nFX,C,Calculated,0,NotApplicable,NotApplicable,NotApplicable,NotApplicable,NotApplicable,210,1900,1",
                "\nEOP,C,Calculated,6,EndOfPeriod,EndOfPeriod,EndOfPeriod,EndOfPeriod,EndOfPeriod,220,1900,1\";"
            ],
            "metadata": {},
            "execution_count": 0,
            "outputs": []
        },
        {
            "cell_type": "markdown",
            "source": [
                "# Estimate Type"
            ],
            "metadata": {},
            "execution_count": 0,
            "outputs": []
        },
        {
            "cell_type": "code",
            "source": [
                "var estimateType = ",
                "\n@\"@@EstimateType,,,,,,,,,,,",
                "\nSystemName,DisplayName,Order,StructureType,InputSource,PeriodType,ExternalId0,ExternalId1,ExternalId2,ExternalId3,ExternalId4,",
                "\nBE,Best Estimate of Present Value,1,AoC,4,EndOfPeriod,,,,,,",
                "\nAA,Advance Actuals,60,AoC,3,NotApplicable,PayablePR,ReceivableNIC,ReceivableICO,RiReceivablePR,RiPayableNIC,",
                "\nOA,Overdue Actuals,70,AoC,3,NotApplicable,ReceivablePR,PayableNIC,PayableICO,RiPayablePR,RiReceivableNIC,",
                "\nDA,Deferrable Actuals,80,AoC,7,NotApplicable,,,,,,",
                "\nA,Actuals,90,None,2,NotApplicable,,,,,,\";"
            ],
            "metadata": {},
            "execution_count": 0,
            "outputs": []
        },
        {
            "cell_type": "markdown",
            "source": [
                "# Economic Basis"
            ],
            "metadata": {},
            "execution_count": 0,
            "outputs": []
        },
        {
            "cell_type": "code",
            "source": [
                "var economicBasis = ",
                "\n@\"@@EconomicBasis,,,,,,,,,,,",
                "\nSystemName,DisplayName,Order",
                "\nL,Locked-in,1",
                "\nC,Current,10",
                "\nN,Nominal,20\";"
            ],
            "metadata": {},
            "execution_count": 0,
            "outputs": []
        },
        {
            "cell_type": "markdown",
            "source": [
                "# Projection Configuration"
            ],
            "metadata": {},
            "execution_count": 0,
            "outputs": []
        },
        {
            "cell_type": "code",
            "source": [
                "var projectionConfiguration = ",
                "\n@\"@@ProjectionConfiguration,,,,,,,,,,,",
                "\nSystemName,DisplayName,Shift,TimeStep,Order,,,,,,,",
                "\nP0,End of January,0,1,10,,,,,,,",
                "\nP1,End of February,0,2,20,,,,,,,",
                "\nP2,End of March,0,3,30,,,,,,,",
                "\nP3,End of April,0,4,40,,,,,,,",
                "\nP4,End of May,0,5,50,,,,,,,",
                "\nP5,End of June,0,6,60,,,,,,,",
                "\nP6,End of July,0,7,70,,,,,,,",
                "\nP7,End of August,0,8,80,,,,,,,",
                "\nP8,End of September,0,9,90,,,,,,,",
                "\nP9,End of October,0,10,100,,,,,,,",
                "\nP10,End of November,0,11,110,,,,,,,",
                "\nP11,End of December,0,12,120,,,,,,,",
                "\nP12,End of Year+1,12,12,130,,,,,,,",
                "\nP13,End of Year+2,24,12,140,,,,,,,",
                "\nP14,End of Year+3,36,12,150,,,,,,,",
                "\nP15,End of Year+4,48,12,160,,,,,,,",
                "\nP16,Year+5 to Year+10,60,60,170,,,,,,,",
                "\nP17,Year+10 to Year+15,120,60,180,,,,,,,",
                "\nP18,Year+15 to Year+20,180,60,190,,,,,,,",
                "\nP19,Years Over +20,240,9999,200,,,,,,,\";"
            ],
            "metadata": {},
            "execution_count": 0,
            "outputs": []
        },
        {
            "cell_type": "markdown",
            "source": [
                "# Amount Type"
            ],
            "metadata": {},
            "execution_count": 0,
            "outputs": []
        },
        {
            "cell_type": "code",
            "source": [
                "var amountType = ",
                "\n@\"@@AmountType,,,,,,,,,,,",
                "\nSystemName,DisplayName,Parent,Order,PeriodType,,,,,,,",
                "\nPR,Premiums,,10,BeginningOfPeriod,,,,,,,",
                "\nCL,Claims,,20,EndOfPeriod,,,,,,,",
                "\nNIC,Non Investment Component,CL,30,EndOfPeriod,,,,,,,",
                "\nICO,Investment Component,CL,40,EndOfPeriod,,,,,,,",
                "\nCDR,Credit Default Risk,CL,50,EndOfPeriod,,,,,,,",
                "\nCE,Claim Expenses,CL,200,EndOfPeriod,,,,,,,",
                "\nALE,Allocated Loss Adjustment Expenses,CE,210,EndOfPeriod,,,,,,,",
                "\nULE,Unallocated Loss Adjustment Expenses,CE,220,EndOfPeriod,,,,,,,",
                "\nAE,Attributable Expenses,,80,BeginningOfPeriod,,,,,,,",
                "\nAEA,Aquisition,AE,90,BeginningOfPeriod,,,,,,,",
                "\nAEM,Maintenance,AE,100,BeginningOfPeriod,,,,,,,",
                "\nNE,Non Attributable Expenses,,110,BeginningOfPeriod,,,,,,,",
                "\nAC,Attributable Commission,,120,BeginningOfPeriod,,,,,,,",
                "\nACA,Aquisition,AC,130,BeginningOfPeriod,,,,,,,",
                "\nACM,Maitenance,AC,140,BeginningOfPeriod,,,,,,,\";"
            ],
            "metadata": {},
            "execution_count": 0,
            "outputs": []
        },
        {
            "cell_type": "markdown",
            "source": [
                "# Reporting Nodes"
            ],
            "metadata": {},
            "execution_count": 0,
            "outputs": []
        },
        {
            "cell_type": "code",
            "source": [
                "var reportingNodes = new ReportingNode[] {",
                "\n    new ReportingNode() {SystemName = \"CH\",DisplayName = \"Switzerland\",Currency = \"CHF\"},",
                "\n    new ReportingNode() {SystemName = \"G\",DisplayName = \"Group\",Currency = \"CHF\"},",
                "\n};"
            ],
            "metadata": {},
            "execution_count": 0,
            "outputs": []
        },
        {
            "cell_type": "markdown",
            "source": [
                "# Variables"
            ],
            "metadata": {},
            "execution_count": 0,
            "outputs": []
        },
        {
            "cell_type": "code",
            "source": [
                "var groupOfInsuranceContracts = \"DT1.1\";",
                "\nvar groupOfReinsuranceContracts = \"DTR1.1\";",
                "\nvar reportingNode = \"CH\";",
                "\nvar scenarioBestEstimate = (string)null;",
                "\nvar scenarioMortalityUp = \"MTUP\";",
                "\nvar scenarioMortalityDown = \"MTDOWN\";"
            ],
            "metadata": {},
            "execution_count": 0,
            "outputs": []
        },
        {
            "cell_type": "code",
            "source": [
                "var args = new ImportArgs(reportingNode, 2021, 3, Periodicity.Quarterly, scenarioBestEstimate, ImportFormats.Actual);",
                "\nvar previousArgs = new ImportArgs(reportingNode, 2020, 12, Periodicity.Quarterly, scenarioBestEstimate, ImportFormats.Actual);",
                "\nvar argsScenarioMTUP = new ImportArgs(reportingNode, 2021, 3, Periodicity.Quarterly, scenarioMortalityUp, ImportFormats.Actual);",
                "\nvar previousScenarioArgsMTUP = new ImportArgs(reportingNode, 2020, 12, Periodicity.Quarterly, scenarioMortalityUp, ImportFormats.Actual);",
                "\nvar argsScenarioMTDOWN = new ImportArgs(reportingNode, 2021, 3, Periodicity.Quarterly, scenarioMortalityDown, ImportFormats.Actual);",
                "\nvar previousScenarioArgsMTDOWN = new ImportArgs(reportingNode, 2020, 12, Periodicity.Quarterly, scenarioMortalityDown, ImportFormats.Actual);"
            ],
            "metadata": {},
            "execution_count": 0,
            "outputs": []
        },
        {
            "cell_type": "markdown",
            "source": [
                "# Partitions"
            ],
            "metadata": {},
            "execution_count": 0,
            "outputs": []
        },
        {
            "cell_type": "code",
            "source": [
                "var partitionReportingNode = new PartitionByReportingNode { Id = (Guid)(await DataSource.Partition.GetKeyForInstanceAsync<PartitionByReportingNode>(args)),",
                "\n                                                            ReportingNode = args.ReportingNode};"
            ],
            "metadata": {},
            "execution_count": 0,
            "outputs": []
        },
        {
            "cell_type": "code",
            "source": [
                "var partition = new PartitionByReportingNodeAndPeriod { Id = (Guid)(await DataSource.Partition.GetKeyForInstanceAsync<PartitionByReportingNodeAndPeriod>(args)),",
                "\n                                                        ReportingNode = reportingNode, ",
                "\n                                                        Scenario = scenarioBestEstimate, ",
                "\n                                                        Year = args.Year,",
                "\n                                                        Month = args.Month };",
                "\nvar previousPeriodPartition = new PartitionByReportingNodeAndPeriod { Id = (Guid)(await DataSource.Partition.GetKeyForInstanceAsync<PartitionByReportingNodeAndPeriod>(previousArgs)),",
                "\n                                                                      ReportingNode = reportingNode, ",
                "\n                                                                      Scenario = scenarioBestEstimate, ",
                "\n                                                                      Year = previousArgs.Year,",
                "\n                                                                      Month = previousArgs.Month };",
                "\nvar partitionScenarioMTUP = new PartitionByReportingNodeAndPeriod { Id = (Guid)(await DataSource.Partition.GetKeyForInstanceAsync<PartitionByReportingNodeAndPeriod>(argsScenarioMTUP)),",
                "\n                                                                    ReportingNode = reportingNode, ",
                "\n                                                                    Scenario = scenarioMortalityUp, ",
                "\n                                                                    Year = args.Year,",
                "\n                                                                    Month = args.Month };",
                "\nvar previousPeriodPartitionScenarioMTUP = new PartitionByReportingNodeAndPeriod { Id = (Guid)(await DataSource.Partition.GetKeyForInstanceAsync<PartitionByReportingNodeAndPeriod>(previousScenarioArgsMTUP)),",
                "\n                                                                                  ReportingNode = reportingNode, ",
                "\n                                                                                  Scenario = scenarioMortalityUp, ",
                "\n                                                                                  Year = previousScenarioArgsMTUP.Year,",
                "\n                                                                                  Month = previousScenarioArgsMTUP.Month };",
                "\nvar partitionScenarioMTDOWN = new PartitionByReportingNodeAndPeriod { Id = (Guid)(await DataSource.Partition.GetKeyForInstanceAsync<PartitionByReportingNodeAndPeriod>(argsScenarioMTUP)),",
                "\n                                                                    ReportingNode = reportingNode, ",
                "\n                                                                    Scenario = scenarioMortalityDown, ",
                "\n                                                                    Year = args.Year,",
                "\n                                                                    Month = args.Month };",
                "\nvar previousPeriodPartitionScenarioMTDOWN = new PartitionByReportingNodeAndPeriod { Id = (Guid)(await DataSource.Partition.GetKeyForInstanceAsync<PartitionByReportingNodeAndPeriod>(previousScenarioArgsMTUP)),",
                "\n                                                                                    ReportingNode = reportingNode, ",
                "\n                                                                                    Scenario = scenarioMortalityDown, ",
                "\n                                                                                    Year = previousScenarioArgsMTDOWN.Year,",
                "\n                                                                                    Month = previousScenarioArgsMTDOWN.Month };"
            ],
            "metadata": {},
            "execution_count": 0,
            "outputs": []
        },
        {
            "cell_type": "markdown",
            "source": [
                "# DataNodes and DataNodeData"
            ],
            "metadata": {},
            "execution_count": 0,
            "outputs": []
        },
        {
            "cell_type": "code",
            "source": [
                "var dt1 = new Portfolio(){",
                "\n    Partition = partitionReportingNode.Id,",
                "\n    ContractualCurrency = \"USD\",",
                "\n    LineOfBusiness = \"ANN\",",
                "\n    ValuationApproach =\"BBA\",",
                "\n    OciType = \"Default\",",
                "\n    SystemName = \"DT1\",",
                "\n    DisplayName = \"DT1 OCI\"",
                "\n};",
                "\n",
                "\nvar dtr1 = new Portfolio(){",
                "\n    Partition = partitionReportingNode.Id,",
                "\n    ContractualCurrency = \"USD\",",
                "\n    LineOfBusiness = \"ANN\",",
                "\n    ValuationApproach =\"BBA\",",
                "\n    OciType = \"Default\",",
                "\n    SystemName = \"DTR1\",",
                "\n    DisplayName = \"DTR1 OCI\"",
                "\n};",
                "\n",
                "\nvar dt11 = new GroupOfInsuranceContract(){",
                "\n    Portfolio = \"DT1\",",
                "\n    Profitability = \"P\",",
                "\n    LiabilityType = \"LRC\",",
                "\n    AnnualCohort = 2020,",
                "\n    Partition = partitionReportingNode.Id,",
                "\n    ContractualCurrency =  \"USD\",",
                "\n    LineOfBusiness = \"ANN\",",
                "\n    ValuationApproach = \"BBA\",",
                "\n    OciType =\"Default\" ,",
                "\n    SystemName = \"DT1.1\",",
                "\n    DisplayName = \"DT1.1 OCI LRC PA 0.8\"",
                "\n};",
                "\n",
                "\nvar dtr11 = new GroupOfReinsuranceContract(){",
                "\n    Portfolio = \"DTR1\",",
                "\n    Profitability = \"P\",",
                "\n    LiabilityType = \"LRC\",",
                "\n    AnnualCohort = 2020,",
                "\n    Partition = partitionReportingNode.Id,",
                "\n    ContractualCurrency =  \"USD\",",
                "\n    LineOfBusiness = \"ANN\",",
                "\n    ValuationApproach = \"BBA\",",
                "\n    OciType =\"Default\" ,",
                "\n    SystemName = \"DTR1.1\",",
                "\n    DisplayName = \"DTR1.1 OCI LRC PA 0.8\"",
                "\n};",
                "\n",
                "\nvar dt11State = new DataNodeState {",
                "\n            DataNode = \"DT1.1\",",
                "\n            State = State.Active,",
                "\n            Year = previousArgs.Year,",
                "\n            Month = previousArgs.Month,",
                "\n            Partition = partitionReportingNode.Id",
                "\n        };",
                "\n",
                "\nvar dtr11State = new DataNodeState {",
                "\n            DataNode = \"DTR1.1\",",
                "\n            State = State.Active,",
                "\n            Year = previousArgs.Year,",
                "\n            Month = previousArgs.Month,",
                "\n            Partition = partitionReportingNode.Id",
                "\n        };",
                "\n",
                "\nvar dt11SingleParameter = new SingleDataNodeParameter {",
                "\n                                        Year = previousArgs.Year,",
                "\n                                        Month = previousArgs.Month,",
                "\n                                        DataNode = \"DT1.1\",",
                "\n                                        PremiumAllocation = .8,",
                "\n                                        Partition = partitionReportingNode.Id",
                "\n                                    };",
                "\n",
                "\nvar dt11Inter = new InterDataNodeParameter{",
                "\n    LinkedDataNode = \"DTR1.1\",",
                "\n\tReinsuranceCoverage = 1,",
                "\n\tYear = args.Year,",
                "\n\tMonth = args.Month,",
                "\n\tDataNode = \"DT1.1\",",
                "\n\tScenario = args.Scenario,",
                "\n    Partition = partitionReportingNode.Id",
                "\n};"
            ],
            "metadata": {},
            "execution_count": 0,
            "outputs": []
        },
        {
            "cell_type": "markdown",
            "source": [
                "# YieldCurve"
            ],
            "metadata": {},
            "execution_count": 0,
            "outputs": []
        },
        {
            "cell_type": "code",
            "source": [
                "var yieldCurve = new YieldCurve(){",
                "\n    Currency = \"USD\",",
                "\n    Year = 2021,",
                "\n    Month = 3,",
                "\n    Values = new []{0.005,0.005,0.005,0.005}",
                "\n};",
                "\n",
                "\nvar yieldCurvePrevious = new YieldCurve(){",
                "\n    Currency = \"USD\",",
                "\n    Year = 2020,",
                "\n    Month = 12,",
                "\n    Values = new []{0.002, 0.002, 0.002, 0.002}",
                "\n};"
            ],
            "metadata": {},
            "execution_count": 0,
            "outputs": []
        }
    ]
}