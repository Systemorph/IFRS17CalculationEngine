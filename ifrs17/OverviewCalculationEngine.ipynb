{
    "metadata": {
        "authors": [],
        "id": "GWa_XHVeh026hh_HafLWog",
        "kernelspec": {
            "display_name": "Formula Framework",
            "language": "C#",
            "name": "C#"
        },
        "language_info": {
            "file_extension": ".cs",
            "mimetype": "text/plain",
            "name": "C#"
        }
    },
    "nbformat": 4,
    "nbformat_minor": 5,
    "cells": [
        {
            "cell_type": "markdown",
            "source": [
                "<p style=\"font-weight:bold;\"> <span style=\"font-size: 36px\"> IFRS 17 Calculation Engine - an Overview</span> </p>"
            ],
            "metadata": {},
            "execution_count": 0,
            "outputs": []
        },
        {
            "cell_type": "markdown",
            "source": [
                "# Introduction",
                "\n",
                "\nThe Systemorph IFRS 17 Calculation Engine is an essential toolkit to conduct the data imports, data transformations, calculations and reports for an IFRS 17 solution. The basic inputs are: modeled future **cash flows**, actual amounts for **groups of insurance contracts** and other relevant parameters (Yield Curve, FX rates, etc...). Alternatively, pre-computed figures can also be imported in the solution. The output is a set of calculated results (Contractual Service Margin, Loss Component, Financial Performance, etc...) displayed in interactive and intuitive reports. These results can further be used for IFRS 17 reporting, analysis, accounting, steering and other management information.",
                "\n",
                "\nThis notebook provides an **overview** of Systemorph IFRS 17 Calculation Engine with brief introductions to all the main steps.",
                "\n",
                "\nThere are numerous **links** to several notebooks of the Calculation Engine. These notebooks contain specifications, code and also some detailed explanations with formulas in markdown blocks. The most important ones in this respect are [DataStructure](./DataModel/DataStructure#data-structure), ImportScopes family starting from [identities](./Import/1ImportScope-Identities) and [ReportScopes](./Report/ReportScopes#report-scopes)."
            ],
            "metadata": {},
            "execution_count": 0,
            "outputs": []
        },
        {
            "cell_type": "markdown",
            "source": [
                "<a id='ifrs17-intro'></a>",
                "\n# IFRS 17",
                "\n",
                "\nIFRS 17 is an accounting standard for insurance contracts that will be effective from 1 January 2023. The previous standard IFRS 4, which is based on nominal accounting, is replaced by the economic accounting standard IFRS 17.",
                "\n",
                "\nSome key points are repeated here briefly.",
                "\n",
                "\nIFRS 17 deals with insurance contracts which are on the liability side of the balance sheet.  Other accounting standards deal with other parts of the business, primarily IFRS 9 for invested assets.",
                "\n",
                "\nInsurance policies need to be allocated to homogeneous groups of insurance contracts (GICs for gross, GRICs for reinsurance) according to high-level principles established by the IFRS 17 standard, such as contract type, line of business, annual cohort etc. Insurers have some degree of freedom to optmize those GICs, as long as they respect the high-level principles.",
                "\n",
                "\nInsurance contracts generate different types of cash flows. For example, **Amount Type** is a dimension refering to premiums, claims, expenses of different kinds, etc. for these cash flows. The Calculation Engine presented here expects input files of all the projected cash flows for each GIC for the different accounting periods, and corresponding actual amounts observed for the corresponding accounting period. ",
                "\n",
                "\nEach cash flow is characterized by all the necessary attributes: reporting node (typically the company or legal entity), start time, amount type, novelty of business etc. and projected cash flow amounts in a regular time grid (monthly granularity) until the final run-off of all contracts.",
                "\n",
                "\nIf the entered cash flows are nominal (the usual case), the the present value (PV) of each cash flow is computed using proper yield curves for discounting.",
                "\n",
                "\nA central element of IFRS 17 is the Analysis of Change (AoC). The present value of the business (future cash flows) changes from the beginning to the end of the accounting period due to different effects, each of them constituting a modeled AoC step.",
                "\n",
                "\nIn IFRS 17, the value of future profitable business has a component called the Contractual Service Margin (CSM), defined at GIC level. The profit measured as CSM is recognized slowly over time rather than immediately in financial performance statements. On the other hand, a GIC can be onerous and produce a Loss Component (LC) instead, which needs to be recognized immediately in the financial performance statements.",
                "\n",
                "\nSeveral reports on the valuation of cash flows, balance sheet and financial performance can be produced, each dealing with different aspects, such as",
                "\n - Present Value of Future Cash Flows (PVFCF)",
                "\n - Contractual Service Margin (CSM) and Loss Component (LC)",
                "\n - Actuals, Deferrals and Accruals",
                "\n - Liability for Remaining Coverage (LRC)",
                "\n - Liability for Incurred Claims (LIC)",
                "\n - Financial Performance",
                "\n - Accounting Events"
            ],
            "metadata": {},
            "execution_count": 0,
            "outputs": []
        },
        {
            "cell_type": "markdown",
            "source": [
                "<a id='data-input'></a>",
                "\n# Data Model, Data Import",
                "\n",
                "\nThe IFRS 17 calculations are based on a well-defined [DataModel](./DataModel/DataStructure#data-structure).  The data input files are set up according to the data model, and the data import and all the ensuing calculations up to the final report generation respect the data model conventions.",
                "\n",
                "\nThe IFRS 17 calculations occur on the fly, meaning that reports are generated based on the data available to the system at the time the report was requested. For performance reasons, some of these calculations need to be performed at data import time due to the data granularity required (e.g. CSM Amortization). Therefore, the more complex calculations are pre-computed. The more complex IFRS 17 Business Logic is defined in the ImportScopes family starting from [identities](./Import/1ImportScope-Identities) notebook.",
                "\n",
                "\nOther simpler calculations occur at report generation (e.g FX conversion), as they do not require a very high data granularity and therefore do not impact the reports significantly. This IFRS 17 Business Logic is defined in the [ReportScopes](./Report/ReportScopes#report-scopes) notebook. ",
                "\n",
                "\nTherefore, we normally start by importing the data input files (parameters, cash flows, actuals, ...) for the pre-computation of complex quantities. This basis will later be used to calculate and generate different reports."
            ],
            "metadata": {},
            "execution_count": 0,
            "outputs": []
        },
        {
            "cell_type": "markdown",
            "source": [
                "<a id='data-model'></a>",
                "\n## Data Model",
                "\n",
                "\nThe data model includes the definition of reporting nodes and dimensions to be used, including identities, amount types, group of insurance contracts and many more.",
                "\n",
                "\nThe notebook [DataStructure](./DataModel/DataStructure#data-structure) defines the data records, dimensions and interfaces of the data model. There is a long section on the many [dimensions](./DataModel/DataStructure#dimensions) used to characterize the business and its IFRS 17 model.",
                "\n",
                "\nThe [input files](#data-input-dim-nodes) for ReportingNodes and especially Dimensions provide an overview of data structures actually used. Some dimensions are hierarchical, so some entries have parent entries.",
                "\n",
                "\nMany abbreviations and acronyms used later in the documentation and the code are the **System Names**, where the corresponding **Display Names** can be found in the corresponding input files together with the attributes. The System Name can be seen as a speaking ID for the given dimension. It is immutable by design and used for reference. On the other hand, the Display Name is the full name of the dimension and normally displayed to end users in the reports (it should not be used for reference, as it can be changed). "
            ],
            "metadata": {},
            "execution_count": 0,
            "outputs": []
        },
        {
            "cell_type": "markdown",
            "source": [
                "<a id='calc-import'></a>",
                "\n## Data import and related calculations",
                "\n",
                "\nSeveral notebooks organize the data import.  Methods for importing and accessing data are in the [Importers](./Import/Importers) notebook. The [ImportStorage](./Import/ImportStorage#import-storage) prepare the data to perfom the calculation required.  Finally, methods for the calculations are in ImportScopes family notebooks starting from [identities](./Import/1ImportScope-Identities).",
                "\n",
                "\nHowever, the import as such is conducted by other notebooks which use the methods of Importers, ImportStorage and ImportScope family in a chain of notebook imports:",
                "\n",
                "\nImportStorage --> ImportScope Family --> Importers",
                "\n",
                "\nThe calculations of ImportScopeCalculation cover a large part of the IFRS 17 methodology and are explained in the section below."
            ],
            "metadata": {},
            "execution_count": 0,
            "outputs": []
        },
        {
            "cell_type": "markdown",
            "source": [
                "<a id='model-calc'></a>",
                "\n# IFRS 17 Model Calculations",
                "\n",
                "\nThe notebook family **ImportScopes** starting with [identites](./Import/1ImportScope-Identities) has all the calculations to be executed upon data import.  The methods used are explained there with formulas.  The centerpiece is the Analysis of Change (AoC) of the insurance business over one period (here: quarter).  The formulas often use acronyms (System Names) as listed in the input file *DimensionsAndPartitions*.",
                "\n",
                "\nThe main concepts and parts of ImportScope family notebooks are listed here, with links.",
                "\n- Structure and sequence of the **[Analysis of Change (AoC)](./Import/1ImportScope-Identities)** steps for the given period",
                "\n$$",
                "\n$$",
                "\n- **[Discounting](./Import/2ImportScope-PresentValue#discounting-calculation)** projected cash flows using yield curves (current or locked in)",
                "\n$$",
                "\n$$",
                "\n- **[Nominal](./Import/2ImportScope-PresentValue#nominal-values)** cash flow amounts per AoC step",
                "\n$$",
                "\n$$",
                "\n- **[Present Values (PV)](./Import/2ImportScope-PresentValue#present-values)** of cash flow amounts for all AoC steps:",
                "\n    - [Cumulated discounted](./Import/2ImportScope-PresentValue#cumulated-discounted-cash-flows) cash flow amounts for all AoC steps",
                "\n    - [Telescoping difference](./Import/2ImportScope-PresentValue#telescoping-difference) calculation of cumulated discounted cash flows per AoC step, where the total PV change over the period is the telescoping sum of all these differences",
                "\n    - [Present Value calculation](./Import/2ImportScope-PresentValue#present-value) at the beginning and end of the period, with its underlying calculations for different AoC types and for [current and locked-in](./Import/2ImportScope-PresentValue#current-and-locked) yield curves",
                "\n    - [Interest accretion](./Import/2ImportScope-PresentValue#interest-accretion) cash flow calculation (one of the AoC steps)",
                "\n- **[Risk Adjustment (RA)](./Import/2ImportScope-PresentValue#risk-adjustment)** calculation, a requirement of the IFRS 17 standard",
                "\n$$",
                "\n$$",
                "\n- **[Amortization](./Import/2ImportScope-PresentValue#amortization)**, the AoC step dealing with the reduction of the remaining exposure over the period:",
                "\n    - [Coverage Unit (CU)](./Import/2ImportScope-PresentValue#coverage-units), the quantity of services provided by a given GIC, considering one period (reflecting the run-off pattern of the GIC)",
                "\n    - [Amortization factor](./Import/2ImportScope-PresentValue#amortization-factor), the relative size of the amortization of a GIC, monthly and for a longer time interval",
                "\n$$",
                "\n$$",
                "\n- **[Actuals](./Import/3ImportScope-Actuals)**, treatment of actual values per GIC or GRIC, distinguished according to by their Estimate Type: Ordinary Actuals, Advance Actuals, Overdue Actuals and Deferrable Actuals",
                "\n    - Calculation of [Actuals Base](./Import/3ImportScope-Actuals#actual-base) values for a given GIC and per Estimate Type and Amount Type",
                "\n    - Different Estimate Types of Actuals and their calculations: Written [Actuals](./Import/3ImportScope-Actuals#actuals), [Advance Actuals](./Import/3ImportScope-Actuals#advance-actuals) paid before the due date which is inside the AoC period, [Overdue Actuals](./Import/3ImportScope-Actuals#overdue-actuals) paid after the AoC period, [Deferrable Actuals](./Import/3ImportScope-Actuals#deferrable-actuals) whose recognition is deferred (typically used for expenses of different kinds)",
                "\n",
                "\n$$",
                "\n$$",
                "\n- **[Contractual Service Margin (CSM), Loss Component LC) and Loss Recovery Component (LoReCo)](./Import/4ImportScope-TechnicalMargin)**, modeling the treatment of unearned profits (CSM) and losses (LC, LRC) as required by the IFRS 17 standard, per GIC or GRIC:",
                "\n    - [Technical Margin](./Import/4ImportScope-TechnicalMargin#technical-margin), which is the sum of best estimate and risk adjustment PV with special rules for different AoC steps including the Amortization step, also using and calculating the Interest Accretion Factor, Premiums, Deferrals and Investment Claims",
                "\n    - [Switch Logic for CSM and LC](./Import/4ImportScope-TechnicalMargin#switch-logic), switching between CSM and LC for a given AoC step in the AoC period; one of the two is always zero depending on the sign of the Technical Margin; distinguishing the [gross case](./Import/4ImportScope-TechnicalMargin#gross-case) (no reinsurance) from the [reinsurance case](./Import/4ImportScope-TechnicalMargin#reinsurance-case) which applies reinsurance coverage weights"
            ],
            "metadata": {},
            "execution_count": 0,
            "outputs": []
        },
        {
            "cell_type": "markdown",
            "source": [
                "<a id='reports'></a>",
                "\n# Reports",
                "\n",
                "\nSeveral types of reports can be generated from the same model basis.  The notebook **[ReportScopes](./Report/ReportScopes#report-scopes)** has many methods to produce different reports to be executed after the end of all data imports.",
                "\n",
                "\nThe reports are generated with the help of **DataCube**, a Systemorph concept that allows for the targeted retrieval of information from a large multi-dimensional (in-memory) database, selecting the desired categories, items and degrees of granularity and aggregation across different dimensions.",
                "\n",
                "\nSome reports of ReportScopes just present existing data from the database, namely the imported data and the results already calculated using the methods of [ImportScopes](#model-calc).",
                "\n",
                "\nSome other reports related to **[Financial Performance](./Report/ReportScopes#ifrs-17-financial-performance)** (profit & loss) require further calculations provided by ReportScopes. An IFRS 17 financial performance report has at least four sections: Insurance Revenue, Insurance Service Expense, Insurance Finance Income/Expense and Other Comprehensive Income.  Formulas are provided [here](./Report/ReportScopes#ifrs-17-financial-performance).",
                "\n"
            ],
            "metadata": {},
            "execution_count": 0,
            "outputs": []
        },
        {
            "cell_type": "markdown",
            "source": [
                "<a id='functionality'></a>",
                "\n# Functionality",
                "\n",
                "\nThe Systemorph IFRS 17 Calculation Engine is constantly being maintained and enhanced for additional functionality.",
                "\n",
                "\nThe main features available are mentioned below (not an exhaustive list):",
                "\n- IFRS 17 Data Import: Nominal Cash flows, Actuals, Opening and/or Pre-Calculated values",
                "\n- Discounting using Current or Locked In economic assumptions",
                "\n- Calculation: BBA for Gross and Reinsurance",
                "\n- Liability for Remaining Coverage (LRC) and Liability for Incurred Claims (LIC)",
                "\n- Timing consideration for Effective Actuals (Payables and Receivables mapped into Paid in Advance or Overdue Actuals)",
                "\n- Credit Default Risk for Reinsurance",
                "\n- Financial Performance (FP) and Other Comprehensive Income (OCI)",
                "\n- Scenario and Sensitivity analysis",
                "\n- Run-off Projections (coming soon)",
                "\n ",
                "\n",
                "\n For more information on the latest developments, please refer to our [GitHub](https://github.com/Systemorph/IFRS17CalculationEngine) project page. From there, you can get to know about future releases, place requests, track the current work and report issues."
            ],
            "metadata": {},
            "execution_count": 0,
            "outputs": []
        }
    ]
}