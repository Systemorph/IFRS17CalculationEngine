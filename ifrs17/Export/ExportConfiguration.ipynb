{
    "metadata": {
        "authors": [],
        "kernelspec": {
            "display_name": "Formula Framework",
            "language": "C#",
            "name": "C#"
        },
        "language_info": {
            "file_extension": ".cs",
            "mimetype": "text/plain",
            "name": "C#"
        },
        "toc-autonumbering": "True",
        "toc-showcode": "False"
    },
    "nbformat": 4,
    "nbformat_minor": 5,
    "cells": [
        {
            "id": "daOV8MxP6Ui5mKJN8viMjA",
            "cell_type": "markdown",
            "source": [
                "<p style=\"font-weight:bold;\"> <span style=\"font-size: 36px\"> Export Configuration </span> </p>"
            ],
            "metadata": {},
            "execution_count": 0,
            "outputs": []
        },
        {
            "id": "2ziuUCWAY0misqDTXMV0jw",
            "cell_type": "code",
            "source": [
                "#!import \"../DataModel/DataStructure\""
            ],
            "metadata": {},
            "execution_count": 0,
            "outputs": []
        },
        {
            "id": "mWG_1aqfyEqZoQ3M8h5Cyg",
            "cell_type": "code",
            "source": [
                "using Systemorph.Vertex.Export.Builders.Interfaces;",
                "\nusing Systemorph.Vertex.Export.Excel.Builders.Interfaces;"
            ],
            "metadata": {},
            "execution_count": 0,
            "outputs": []
        },
        {
            "id": "qs5jm7GNvES6hIpyYC6dVw",
            "cell_type": "markdown",
            "source": [
                "# Main Tab"
            ],
            "metadata": {},
            "execution_count": 0,
            "outputs": []
        },
        {
            "id": "1lHyfSn1V0yTaeaxnKvgaQ",
            "cell_type": "code",
            "source": [
                "public static IDocumentBuilder MainTabConfigurationWoScenario<T>(this IDocumentBuilder builder, T args) where T : IfrsPartition",
                "\n    => builder.WithTable<T>( config => config .AtBeginning() ",
                "\n        .WithName(Main) ",
                "\n        .WithSource(source => args.RepeatOnce().AsQueryable()) ",
                "\n        .WithColumn(x => x.Id, x => x.Delete())",
                "\n        .WithColumn(x => x.Scenario, x => x.Delete()));"
            ],
            "metadata": {},
            "execution_count": 0,
            "outputs": []
        },
        {
            "id": "58IPzDBaL0uSaECe1BPoUg",
            "cell_type": "code",
            "source": [
                "public static IDocumentBuilder MainTabConfiguration<T>(this IDocumentBuilder builder, T args) where T : IfrsPartition",
                "\n    => builder.WithTable<T>( config => config .AtBeginning() ",
                "\n        .WithName(Main) ",
                "\n        .WithSource(source => args.RepeatOnce().AsQueryable()) ",
                "\n        .WithColumn(x => x.Id, x => x.Delete()));"
            ],
            "metadata": {},
            "execution_count": 0,
            "outputs": []
        },
        {
            "id": "pvRdcX2EeE6VfuckBX25Bg",
            "cell_type": "markdown",
            "source": [
                "# Porfolio"
            ],
            "metadata": {},
            "execution_count": 0,
            "outputs": []
        },
        {
            "id": "nPqS5p9lCE6520FzUGHZ9A",
            "cell_type": "code",
            "source": [
                "public static IDocumentBuilder PortfolioConfiguration<T>(this IDocumentBuilder builder, Type DependsOnType = default) where T : Portfolio",
                "\n    => builder.WithTable<T>(config => { ",
                "\n        if(DependsOnType != default)",
                "\n            config = config.DependsOn(DependsOnType);               ",
                "\n        return config .AtBeginning() ",
                "\n            .WithColumn(x => x.DisplayName, x => x.AtBeginning())",
                "\n            .WithColumn(x => x.SystemName, x => x.AtBeginning())",
                "\n            .WithColumn(x => x.Partition, x => x.Delete())",
                "\n            .WithColumn(x => x.FunctionalCurrency, x => x.Delete());",
                "\n    });"
            ],
            "metadata": {},
            "execution_count": 0,
            "outputs": []
        },
        {
            "id": "Gx1UBWAD0UmOPH4fjArAlg",
            "cell_type": "markdown",
            "source": [
                "# Group of Contract"
            ],
            "metadata": {},
            "execution_count": 0,
            "outputs": []
        },
        {
            "id": "vgIs_PvqTkWQyAbhd_CJ6g",
            "cell_type": "code",
            "source": [
                "public static IDocumentBuilder GroupofContractConfiguration<T>(this IDocumentBuilder builder, Type DependsOnType = default) where T : GroupOfContract",
                "\n    => builder.WithTable<T>(config => { ",
                "\n        if(DependsOnType != default)",
                "\n            config = config.DependsOn(DependsOnType);      ",
                "\n        if(typeof(T).Name == nameof(GroupOfInsuranceContract))",
                "\n            config = config.WithColumn(x => x.Partner, x => x.Delete());",
                "\n        return config .AtBeginning() ",
                "\n            .WithColumn(x => x.DisplayName, x => x.AtBeginning())",
                "\n            .WithColumn(x => x.SystemName, x => x.AtBeginning())",
                "\n            .WithColumn(x => x.Partition, x => x.Delete())",
                "\n            .WithColumn(x => x.ContractualCurrency, x => x.Delete())",
                "\n            .WithColumn(x => x.FunctionalCurrency, x => x.Delete())",
                "\n            .WithColumn(x => x.LineOfBusiness, x => x.Delete())",
                "\n            .WithColumn(x => x.OciType, x => x.Delete())",
                "\n            .WithColumn(x => x.ValuationApproach, x => x.Delete());",
                "\n    });"
            ],
            "metadata": {},
            "execution_count": 0,
            "outputs": []
        },
        {
            "id": "zNIFie-L7kWAXiBzMyTxyA",
            "cell_type": "markdown",
            "source": [
                "# Data Node State"
            ],
            "metadata": {},
            "execution_count": 0,
            "outputs": []
        },
        {
            "id": "v7pwUf00iUmlPfhPXWIMgA",
            "cell_type": "code",
            "source": [
                "using DocumentFormat.OpenXml.Spreadsheet;"
            ],
            "metadata": {},
            "execution_count": 0,
            "outputs": []
        },
        {
            "id": "7wdtaJOT4k-4La-dtXOdhA",
            "cell_type": "code",
            "source": [
                "public record HelperState { public string State {get; init;} }"
            ],
            "metadata": {},
            "execution_count": 0,
            "outputs": []
        },
        {
            "id": "yFq_p-qLpE-8ICT_GMtkiA",
            "cell_type": "code",
            "source": [
                "public static IExcelDocumentBuilder DataNodeStateConfiguration (this IExcelDocumentBuilder builder, DataNodeState[] data)",
                "\n    => builder",
                "\n        .WithTable<LiabilityType>(x => x.Delete())",
                "\n        .WithTable<Profitability>(x => x.Delete())",
                "\n        .WithTable<Portfolio>(x => x.Delete())",
                "\n        .WithTable<Currency>(x => x.Delete())",
                "\n        .WithTable<LineOfBusiness>(x => x.Delete())",
                "\n        .WithTable<ValuationApproach>(x => x.Delete())",
                "\n        .WithTable<OciType>(x => x.Delete())",
                "\n        .WithTable<Partner>(x => x.Delete())",
                "\n        .WithTable<ReportingNode>(x => x.Delete())",
                "\n        .WithTable<Scenario>(x => x.Delete())",
                "\n        .WithTable<DataNodeState>(config => config       ",
                "\n            .AtBeginning() ",
                "\n            .WithSource(source => data.AsQueryable())",
                "\n            .WithColumn(x => x.Partition, x => x.Delete())",
                "\n            .WithColumn(x => x.Month, x => x.Delete())",
                "\n            .WithColumn(x => x.Year, x => x.Delete())",
                "\n            .WithColumn(x => x.Id, x => x.Delete())",
                "\n            .WithColumn(x => x.State, y => y.WithDataValidation(z => z.WithReferenceTo<HelperState, string>(t => t.State)))",
                "\n        );"
            ],
            "metadata": {},
            "execution_count": 0,
            "outputs": []
        },
        {
            "id": "PW5QzVjEUkuqBn33vQLpYA",
            "cell_type": "code",
            "source": [
                "public static IExcelDocumentBuilder StateEnumConfiguration (this IExcelDocumentBuilder builder)",
                "\n{",
                "\n    var helperState = new[] {new HelperState {State = \"Active\"}, new HelperState {State = \"Inactive\"} }; ",
                "\n    return builder.WithTable<HelperState>( config => config .WithSheetVisibility(SheetStateValues.Hidden)",
                "\n                //.WithColumn(x => x.State, z => z.WithNamedRange(y => y.WithName(\"HelperState_State\")))",
                "\n                .WithColumn(x => x.State, z => z.WithDefaultNamedRange())",
                "\n                .WithSource(source => helperState.AsQueryable()) );",
                "\n}"
            ],
            "metadata": {},
            "execution_count": 0,
            "outputs": []
        },
        {
            "id": "M9IwaYNdmkWcN4gGWBKY-Q",
            "cell_type": "markdown",
            "source": [
                "# Data Node Parameter"
            ],
            "metadata": {},
            "execution_count": 0,
            "outputs": []
        },
        {
            "id": "FtctYuNyp0eS9ozEQb7INA",
            "cell_type": "code",
            "source": [
                "public static IExcelDocumentBuilder DataNodeParameterConfiguration (this IExcelDocumentBuilder builder, Dictionary<string, DataNodeParameter[]> data)",
                "\n    => builder",
                "\n        .WithTable<LiabilityType>(x => x.Delete())",
                "\n        .WithTable<Profitability>(x => x.Delete())",
                "\n        .WithTable<Portfolio>(x => x.Delete())",
                "\n        .WithTable<Currency>(x => x.Delete())",
                "\n        .WithTable<LineOfBusiness>(x => x.Delete())",
                "\n        .WithTable<ValuationApproach>(x => x.Delete())",
                "\n        .WithTable<OciType>(x => x.Delete())",
                "\n        .WithTable<Partner>(x => x.Delete())",
                "\n        .WithTable<ReportingNode>(x => x.Delete())",
                "\n        .WithTable<Scenario>(x => x.Delete())",
                "\n        .WithTable<InterDataNodeParameter>(config => config       ",
                "\n            .AtBeginning() ",
                "\n            .WithSource(source => data[nameof(InterDataNodeParameter)].Cast<InterDataNodeParameter>().AsQueryable())",
                "\n            .WithColumn(x => x.Partition, x => x.Delete())",
                "\n            .WithColumn(x => x.Month, x => x.Delete())",
                "\n            .WithColumn(x => x.Id, x => x.Delete())",
                "\n            .WithColumn(x => x.Year, x => x.Delete())",
                "\n        )",
                "\n        .WithTable<SingleDataNodeParameter>(config => config       ",
                "\n            .AtBeginning() ",
                "\n            .WithSource(source => data[nameof(SingleDataNodeParameter)].Cast<SingleDataNodeParameter>().AsQueryable())",
                "\n            .WithColumn(x => x.DataNode, x => x.WithHeader(\"DataNode\"))",
                "\n            .WithColumn(x => x.Partition, x => x.Delete())",
                "\n            .WithColumn(x => x.Month, x => x.Delete())",
                "\n            .WithColumn(x => x.Year, x => x.Delete())",
                "\n            .WithColumn(x => x.Year, x => x.Delete())",
                "\n            .WithColumn(x => x.Id, x => x.Delete())",
                "\n        );"
            ],
            "metadata": {},
            "execution_count": 0,
            "outputs": []
        },
        {
            "id": "pp_5UWldPEmuY8sCZT0dXg",
            "cell_type": "code",
            "source": [
                ""
            ],
            "metadata": {},
            "execution_count": 0,
            "outputs": []
        }
    ]
}