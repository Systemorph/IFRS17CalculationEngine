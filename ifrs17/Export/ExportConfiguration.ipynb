{
    "metadata": {
        "authors": [],
        "id": "uk_-HpozgUOIpbUIynU8vw",
        "kernelspec": {
            "display_name": "Formula Framework",
            "language": "C#",
            "name": "C#"
        },
        "language_info": {
            "file_extension": ".cs",
            "mimetype": "text/plain",
            "name": "C#"
        }
    },
    "nbformat": 4,
    "nbformat_minor": 8,
    "cells": [
        {
            "cell_type": "markdown",
            "source": [
                "<p style=\"font-weight:bold;\"> <span style=\"font-size: 36px\"> Export Configuration </span> </p>",
                "\n",
                "\nIn this notebook we define the configuration for exporting MapTemplate files. ",
                "\nConfiguration for the following tables are defined:",
                "\n- main : contains information about the [partition](../DataModel/DataStructure#partitions)",
                "\n- [portfolio](../DataModel/DataStructure#portfolios) ",
                "\n- [group of contract](../DataModel/DataStructure#group-of-contracts)",
                "\n- [data node state](../DataModel/DataStructure#data-node-state)",
                "\n- [data node parameter](../DataModel/DataStructure#data-node-parameters)"
            ],
            "metadata": {},
            "execution_count": 0,
            "outputs": []
        },
        {
            "cell_type": "code",
            "source": [
                "#!import \"../DataModel/DataStructure\""
            ],
            "metadata": {},
            "execution_count": 0,
            "outputs": []
        },
        {
            "cell_type": "code",
            "source": [
                "using Systemorph.Vertex.Export.Builders.Interfaces;",
                "\nusing Systemorph.Vertex.Export.Excel.Builders.Interfaces;"
            ],
            "metadata": {},
            "execution_count": 0,
            "outputs": []
        },
        {
            "cell_type": "markdown",
            "source": [
                "# Main Tab"
            ],
            "metadata": {},
            "execution_count": 0,
            "outputs": []
        },
        {
            "cell_type": "code",
            "source": [
                "public static IDocumentBuilder MainTabConfiguration<T>(this IDocumentBuilder builder, T args) where T : IfrsPartition",
                "\n    => builder.WithTable<T>( config => config .AtBeginning() ",
                "\n        .WithName(Main) ",
                "\n        .WithSource(source => args.RepeatOnce().AsQueryable()) ",
                "\n        .WithColumn(x => x.Id, x => x.Delete()));"
            ],
            "metadata": {},
            "execution_count": 0,
            "outputs": []
        },
        {
            "cell_type": "markdown",
            "source": [
                "# Porfolio"
            ],
            "metadata": {},
            "execution_count": 0,
            "outputs": []
        },
        {
            "cell_type": "code",
            "source": [
                "public static IDocumentBuilder PortfolioConfiguration<T>(this IDocumentBuilder builder, Type DependsOnType = default) where T : Portfolio",
                "\n    => builder.WithTable<T>(config => { ",
                "\n        if(DependsOnType != default)",
                "\n            config = config.DependsOn(DependsOnType);               ",
                "\n        return config .AtBeginning() ",
                "\n            .WithColumn(x => x.DisplayName, x => x.AtBeginning())",
                "\n            .WithColumn(x => x.SystemName, x => x.AtBeginning())",
                "\n            .WithColumn(x => x.Partition, x => x.Delete())",
                "\n            .WithColumn(x => x.FunctionalCurrency, x => x.Delete());",
                "\n    });"
            ],
            "metadata": {},
            "execution_count": 0,
            "outputs": []
        },
        {
            "cell_type": "markdown",
            "source": [
                "# Group of Contract"
            ],
            "metadata": {},
            "execution_count": 0,
            "outputs": []
        },
        {
            "cell_type": "code",
            "source": [
                "public static IDocumentBuilder GroupofContractConfiguration<T>(this IDocumentBuilder builder, Type DependsOnType = default) where T : GroupOfContract",
                "\n    => builder.WithTable<T>(config => { ",
                "\n        if(DependsOnType != default)",
                "\n            config = config.DependsOn(DependsOnType);      ",
                "\n        if(typeof(T).Name == nameof(GroupOfInsuranceContract))",
                "\n            config = config.WithColumn(x => x.Partner, x => x.Delete());",
                "\n        return config .AtBeginning() ",
                "\n            .WithColumn(x => x.DisplayName, x => x.AtBeginning())",
                "\n            .WithColumn(x => x.SystemName, x => x.AtBeginning())",
                "\n            .WithColumn(x => x.Partition, x => x.Delete())",
                "\n            .WithColumn(x => x.ContractualCurrency, x => x.Delete())",
                "\n            .WithColumn(x => x.FunctionalCurrency, x => x.Delete())",
                "\n            .WithColumn(x => x.LineOfBusiness, x => x.Delete())",
                "\n            .WithColumn(x => x.OciType, x => x.Delete())",
                "\n            .WithColumn(x => x.ValuationApproach, x => x.Delete());",
                "\n    });"
            ],
            "metadata": {},
            "execution_count": 0,
            "outputs": []
        },
        {
            "cell_type": "markdown",
            "source": [
                "# Data Node State"
            ],
            "metadata": {},
            "execution_count": 0,
            "outputs": []
        },
        {
            "cell_type": "code",
            "source": [
                "using DocumentFormat.OpenXml.Spreadsheet;"
            ],
            "metadata": {},
            "execution_count": 0,
            "outputs": []
        },
        {
            "cell_type": "code",
            "source": [
                "public record HelperState { public string State {get; init;} }"
            ],
            "metadata": {},
            "execution_count": 0,
            "outputs": []
        },
        {
            "cell_type": "code",
            "source": [
                "public static IExcelDocumentBuilder DataNodeStateConfiguration (this IExcelDocumentBuilder builder, DataNodeState[] data)",
                "\n    => builder",
                "\n        .WithTable<LiabilityType>(x => x.Delete())",
                "\n        .WithTable<Profitability>(x => x.Delete())",
                "\n        .WithTable<Portfolio>(x => x.Delete())",
                "\n        .WithTable<Currency>(x => x.Delete())",
                "\n        .WithTable<LineOfBusiness>(x => x.Delete())",
                "\n        .WithTable<ValuationApproach>(x => x.Delete())",
                "\n        .WithTable<OciType>(x => x.Delete())",
                "\n        .WithTable<Partner>(x => x.Delete())",
                "\n        .WithTable<ReportingNode>(x => x.Delete())",
                "\n        .WithTable<Scenario>(x => x.Delete())",
                "\n        .WithTable<DataNodeState>(config => config       ",
                "\n            .AtBeginning() ",
                "\n            .WithSource(source => data.AsQueryable())",
                "\n            .WithColumn(x => x.Partition, x => x.Delete())",
                "\n            .WithColumn(x => x.Month, x => x.Delete())",
                "\n            .WithColumn(x => x.Year, x => x.Delete())",
                "\n            .WithColumn(x => x.Id, x => x.Delete())",
                "\n            .WithColumn(x => x.Scenario, x => x.Delete())",
                "\n            .WithColumn(x => x.State, y => y.WithDataValidation(z => z.WithReferenceTo<HelperState, string>(t => t.State)))",
                "\n        );"
            ],
            "metadata": {},
            "execution_count": 0,
            "outputs": []
        },
        {
            "cell_type": "code",
            "source": [
                "public static IExcelDocumentBuilder StateEnumConfiguration (this IExcelDocumentBuilder builder)",
                "\n{",
                "\n    var helperState = new[] {new HelperState {State = \"Active\"}, new HelperState {State = \"Inactive\"} }; ",
                "\n    return builder.WithTable<HelperState>( config => config .WithSheetVisibility(SheetStateValues.Hidden)",
                "\n                //.WithColumn(x => x.State, z => z.WithNamedRange(y => y.WithName(\"HelperState_State\")))",
                "\n                .WithColumn(x => x.State, z => z.WithDefaultNamedRange())",
                "\n                .WithSource(source => helperState.AsQueryable()) );",
                "\n}"
            ],
            "metadata": {},
            "execution_count": 0,
            "outputs": []
        },
        {
            "cell_type": "markdown",
            "source": [
                "# Data Node Parameter"
            ],
            "metadata": {},
            "execution_count": 0,
            "outputs": []
        },
        {
            "cell_type": "code",
            "source": [
                "public static IExcelDocumentBuilder DataNodeParameterConfiguration (this IExcelDocumentBuilder builder, Dictionary<string, DataNodeParameter[]> data)",
                "\n    => builder",
                "\n        .WithTable<LiabilityType>(x => x.Delete())",
                "\n        .WithTable<Profitability>(x => x.Delete())",
                "\n        .WithTable<Portfolio>(x => x.Delete())",
                "\n        .WithTable<Currency>(x => x.Delete())",
                "\n        .WithTable<LineOfBusiness>(x => x.Delete())",
                "\n        .WithTable<ValuationApproach>(x => x.Delete())",
                "\n        .WithTable<OciType>(x => x.Delete())",
                "\n        .WithTable<Partner>(x => x.Delete())",
                "\n        .WithTable<ReportingNode>(x => x.Delete())",
                "\n        .WithTable<Scenario>(x => x.Delete())",
                "\n        .WithTable<InterDataNodeParameter>(config => config       ",
                "\n            .AtBeginning() ",
                "\n            .WithSource(source => data[nameof(InterDataNodeParameter)].Cast<InterDataNodeParameter>().AsQueryable())",
                "\n            .WithColumn(x => x.Partition, x => x.Delete())",
                "\n            .WithColumn(x => x.Month, x => x.Delete())",
                "\n            .WithColumn(x => x.Id, x => x.Delete())",
                "\n            .WithColumn(x => x.Scenario, x => x.Delete())",
                "\n            .WithColumn(x => x.Year, x => x.Delete())",
                "\n        )",
                "\n        .WithTable<SingleDataNodeParameter>(config => config       ",
                "\n            .AtBeginning() ",
                "\n            .WithSource(source => data[nameof(SingleDataNodeParameter)].Cast<SingleDataNodeParameter>().AsQueryable())",
                "\n            .WithColumn(x => x.DataNode, x => x.WithHeader(\"DataNode\"))",
                "\n            .WithColumn(x => x.Partition, x => x.Delete())",
                "\n            .WithColumn(x => x.Month, x => x.Delete())",
                "\n            .WithColumn(x => x.Year, x => x.Delete())",
                "\n            .WithColumn(x => x.Year, x => x.Delete())",
                "\n            .WithColumn(x => x.Id, x => x.Delete())",
                "\n            .WithColumn(x => x.Scenario, x => x.Delete())",
                "\n        );"
            ],
            "metadata": {},
            "execution_count": 0,
            "outputs": []
        },
        {
            "cell_type": "code",
            "source": [
                ""
            ],
            "metadata": {},
            "execution_count": 0,
            "outputs": []
        }
    ]
}