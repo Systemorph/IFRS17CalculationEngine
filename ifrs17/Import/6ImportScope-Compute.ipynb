{
    "metadata": {
        "authors": [],
        "id": "1-Sd2C2w2kaytthWS3cL1L",
        "kernelspec": {
            "display_name": "Formula Framework",
            "language": "C#",
            "name": "C#"
        },
        "language_info": {
            "file_extension": ".cs",
            "mimetype": "text/plain",
            "name": "C#"
        }
    },
    "nbformat": 4,
    "nbformat_minor": 5,
    "cells": [
        {
            "cell_type": "markdown",
            "source": [
                "<p style=\"font-weight:bold;\"> <span style=\"font-size: 36px\"> IFRS 17 Methodology </span> </p>",
                "\n<p style=\"font-weight:bold;\"> <span style=\"font-size: 24px\"> Business Logic with Scopes  </span> </p>"
            ],
            "metadata": {},
            "execution_count": 0,
            "outputs": []
        },
        {
            "cell_type": "markdown",
            "source": [
                "In this notebook the focus is on the calculation of the minimal set of Ifrs Variable given the import Format. "
            ],
            "metadata": {},
            "execution_count": 0,
            "outputs": []
        },
        {
            "cell_type": "markdown",
            "source": [
                "# References",
                "\nLibraries and other notebooks which are needed for this notebook are imported below."
            ],
            "metadata": {},
            "execution_count": 0,
            "outputs": []
        },
        {
            "cell_type": "markdown",
            "source": [
                "## Notebooks"
            ],
            "metadata": {},
            "execution_count": 0,
            "outputs": []
        },
        {
            "cell_type": "code",
            "source": [
                "#!import \"5ImportScope-ToIfrsVar\""
            ],
            "metadata": {},
            "execution_count": 0,
            "outputs": []
        },
        {
            "cell_type": "code",
            "source": [
                "public static IEnumerable<IfrsVariable> AggregateWithMultipleValues(this IEnumerable<IfrsVariable> source) => source",
                "\n                            .GroupBy(x => new {EstimateType = x.EstimateType, ",
                "\n                                                AmountType = x.AmountType, ",
                "\n                                                EconomicBasis = x.EconomicBasis, ",
                "\n                                                AccidentYear = x.AccidentYear, ",
                "\n                                                DataNode = x.DataNode, ",
                "\n                                                AocType = x.AocType, ",
                "\n                                                Novelty = x.Novelty}, ",
                "\n                                        x => x.Value, ",
                "\n                                        (key, values) => ",
                "\n                                            new IfrsVariable() with {Value = values.AggregateDoubleArray(), ",
                "\n                                                                    AmountType = key.AmountType, ",
                "\n                                                                    EstimateType = key.EstimateType, ",
                "\n                                                                    EconomicBasis = key.EconomicBasis, ",
                "\n                                                                    AccidentYear = key.AccidentYear, ",
                "\n                                                                    DataNode = key.DataNode, ",
                "\n                                                                    AocType = key.AocType, ",
                "\n                                                                    Novelty = key.Novelty});"
            ],
            "metadata": {},
            "execution_count": 0,
            "outputs": []
        },
        {
            "cell_type": "markdown",
            "source": [
                "# Actual dependent variables"
            ],
            "metadata": {},
            "execution_count": 0,
            "outputs": []
        },
        {
            "cell_type": "code",
            "source": [
                "public interface ComputeIfrsVarsActuals : ActualToIfrsVariable, DeferrableToIfrsVariable, EaForPremiumToIfrsVariable, TmToIfrsVariable",
                "\n{",
                "\n    IEnumerable<IfrsVariable> CalculatedIfrsVariables => Actual.Concat(AdvanceActual).Concat(OverdueActual)",
                "\n                                                               .Concat(ActEAForPremium).Concat(DeferrableActual).Concat(Csms).Concat(Loss);",
                "\n}"
            ],
            "metadata": {},
            "execution_count": 0,
            "outputs": []
        },
        {
            "cell_type": "markdown",
            "source": [
                "# Cashflow dependent variables"
            ],
            "metadata": {},
            "execution_count": 0,
            "outputs": []
        },
        {
            "cell_type": "code",
            "source": [
                "public interface ComputeIfrsVarsCashflows : PvToIfrsVariable, RaToIfrsVariable, DeferrableToIfrsVariable, EaForPremiumToIfrsVariable, TmToIfrsVariable, NominalToIfrsVariable",
                "\n{",
                "\n    IEnumerable<IfrsVariable> CalculatedIfrsVariables => Identity.ValuationApproach switch {",
                "\n        ValuationApproaches.VFA => PvCurrent.Concat(CumulatedNominal).Concat(RaCurrent).Concat(AmortizationFactor)",
                "\n                                   .Concat(BeEAForPremium).Concat(DeferrableActual).Concat(Csms).Concat(Loss),",
                "\n        _ => PvLocked.Concat(PvCurrent).Concat(CumulatedNominal).Concat(RaCurrent).Concat(RaLocked).Concat(AmortizationFactor)",
                "\n             .Concat(BeEAForPremium).Concat(DeferrableActual).Concat(Csms).Concat(Loss),",
                "\n    };",
                "\n}"
            ],
            "metadata": {},
            "execution_count": 0,
            "outputs": []
        },
        {
            "cell_type": "markdown",
            "source": [
                "# Chashflows with Projections"
            ],
            "metadata": {},
            "execution_count": 0,
            "outputs": []
        },
        {
            "cell_type": "code",
            "source": [
                "public interface ComputeIfrsVarsCashflowsWithProjection : IScope<ImportIdentity, ImportStorage>{",
                "\n    IEnumerable<IfrsVariable> CalculatedIfrsVariables => Enumerable.Range(0,ProjectionCount)",
                "\n                                                                    .Select(x => GetScope<ComputeIfrsVarsCashflows>(Identity with { ProjectionPeriod = x} )",
                "\n                                                                                            .CalculatedIfrsVariables)",
                "\n                                                                    .SelectMany(l => l)",
                "\n                                                                    .AggregateWithMultipleValues()",
                "\n                                                                    .Select(x => x with {Partition = GetStorage().TargetPartition});",
                "\n}"
            ],
            "metadata": {},
            "execution_count": 0,
            "outputs": []
        },
        {
            "cell_type": "markdown",
            "source": [
                "# Opening dependent variables"
            ],
            "metadata": {},
            "execution_count": 0,
            "outputs": []
        },
        {
            "cell_type": "code",
            "source": [
                "public interface ComputeIfrsVarsOpenings : ActualToIfrsVariable, DeferrableToIfrsVariable, TmToIfrsVariable",
                "\n{",
                "\n    IEnumerable<IfrsVariable> CalculatedIfrsVariables => AdvanceActual.Concat(OverdueActual)",
                "\n                                                                      .Concat(DeferrableActual).Concat(Csms).Concat(Loss);",
                "\n}"
            ],
            "metadata": {},
            "execution_count": 0,
            "outputs": []
        },
        {
            "cell_type": "markdown",
            "source": [
                "# Compute "
            ],
            "metadata": {},
            "execution_count": 0,
            "outputs": []
        },
        {
            "cell_type": "code",
            "source": [
                "public interface ComputeAllScopes: IScope<ImportIdentity, ImportStorage>",
                "\n{",
                "\n   IEnumerable<IfrsVariable> CalculatedIfrsVariables => GetStorage().ImportFormat switch {",
                "\n            ImportFormats.Actual   => GetScope<ComputeIfrsVarsActuals>(Identity).CalculatedIfrsVariables,",
                "\n            ImportFormats.Cashflow => GetScope<ComputeIfrsVarsCashflowsWithProjection>(Identity).CalculatedIfrsVariables,",
                "\n            ImportFormats.Opening  => GetScope<ComputeIfrsVarsOpenings>(Identity).CalculatedIfrsVariables,",
                "\n   };",
                "\n}"
            ],
            "metadata": {},
            "execution_count": 0,
            "outputs": []
        },
        {
            "cell_type": "markdown",
            "source": [
                "# Debugging part"
            ],
            "metadata": {},
            "execution_count": 0,
            "outputs": []
        },
        {
            "cell_type": "code",
            "source": [
                "var tryList = new List<(string id, double[] numbers)> {(\"a\", new double[] {1, 2, 3}), ",
                "\n                                                        (\"b\", new double[] {10, 11, 31}), ",
                "\n                                                        (\"a\", new double[] {7, 7, 9})};"
            ],
            "metadata": {},
            "execution_count": 0,
            "outputs": []
        },
        {
            "cell_type": "code",
            "source": [
                "tryList.GroupBy(x => x.id)"
            ],
            "metadata": {},
            "execution_count": 0,
            "outputs": []
        },
        {
            "cell_type": "code",
            "source": [
                "tryList.GroupBy(element => element.id, element => element.numbers, (_, nums) => nums.AggregateDoubleArray()) "
            ],
            "metadata": {},
            "execution_count": 0,
            "outputs": []
        },
        {
            "cell_type": "markdown",
            "source": [
                "Do the same with identities"
            ],
            "metadata": {},
            "execution_count": 0,
            "outputs": []
        },
        {
            "cell_type": "code",
            "source": [
                "typeof(IfrsVariable).GetProperties().Where(x => x.CustomAttributes.Any(y => y.AttributeType == typeof(IdentityPropertyAttribute))).Select(x => x.Name)"
            ],
            "metadata": {},
            "execution_count": 0,
            "outputs": []
        },
        {
            "cell_type": "code",
            "source": [
                ""
            ],
            "metadata": {},
            "execution_count": 0,
            "outputs": []
        }
    ]
}