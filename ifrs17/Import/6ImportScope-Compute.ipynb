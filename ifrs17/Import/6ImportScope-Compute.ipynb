{
    "metadata": {
        "authors": [],
        "id": "1-Sd2C2w2kaytthWS3cL1L",
        "kernelspec": {
            "display_name": "Formula Framework",
            "language": "C#",
            "name": "C#"
        },
        "language_info": {
            "file_extension": ".cs",
            "mimetype": "text/plain",
            "name": "C#"
        }
    },
    "nbformat": 4,
    "nbformat_minor": 5,
    "cells": [
        {
            "cell_type": "markdown",
            "source": [
                "<p style=\"font-weight:bold;\"> <span style=\"font-size: 36px\"> IFRS 17 Methodology </span> </p>",
                "\n<p style=\"font-weight:bold;\"> <span style=\"font-size: 24px\"> Business Logic with Scopes  </span> </p>"
            ],
            "metadata": {},
            "execution_count": 0,
            "outputs": []
        },
        {
            "cell_type": "markdown",
            "source": [
                "Import scopes are divided in several notebooks:",
                "\n- [Calculation of Identities](../Import/1ImportScope-Identities)",
                "\n- [Calculation of Present Values](../Import/2ImportScope-PresentValue)",
                "\n- [Calculation of Actuals](../Import/3ImportScope-Actuals)",
                "\n- [Calculation of Technical Margin](../Import/4ImportScope-TechnicalMargin)",
                "\n- [Creation of Ifrs Variables](../Import/5ImportScope-ToIfrsVar)",
                "\n- Calculation of Ifrs Variables",
                "\n",
                "\n<br><br>",
                "\nIn this notebook the focus is on the calculation of the minimal set of Ifrs Variable given the import Format."
            ],
            "metadata": {},
            "execution_count": 0,
            "outputs": []
        },
        {
            "cell_type": "markdown",
            "source": [
                "# References",
                "\nLibraries and other notebooks which are needed for this notebook are imported below."
            ],
            "metadata": {},
            "execution_count": 0,
            "outputs": []
        },
        {
            "cell_type": "markdown",
            "source": [
                "## Notebooks"
            ],
            "metadata": {},
            "execution_count": 0,
            "outputs": []
        },
        {
            "cell_type": "code",
            "source": [
                "#!import \"5ImportScope-ToIfrsVar\""
            ],
            "metadata": {},
            "execution_count": 0,
            "outputs": []
        },
        {
            "cell_type": "markdown",
            "source": [
                "# Actual dependent variables"
            ],
            "metadata": {},
            "execution_count": 0,
            "outputs": []
        },
        {
            "cell_type": "code",
            "source": [
                "public interface ComputeIfrsVarsActuals : ActualToIfrsVariable, DeferrableToIfrsVariable, EaForPremiumToIfrsVariable, TmToIfrsVariable",
                "\n{",
                "\n    IEnumerable<IfrsVariable> CalculatedIfrsVariables => Actual.Concat(AdvanceActual).Concat(OverdueActual)",
                "\n        .Concat(ActEAForPremium).Concat(Deferrable).Concat(Csms).Concat(Loss);",
                "\n}"
            ],
            "metadata": {},
            "execution_count": 0,
            "outputs": []
        },
        {
            "cell_type": "markdown",
            "source": [
                "# Cashflow dependent variables"
            ],
            "metadata": {},
            "execution_count": 0,
            "outputs": []
        },
        {
            "cell_type": "code",
            "source": [
                "public interface ComputeIfrsVarsCashflows : PvToIfrsVariable, RaToIfrsVariable, DeferrableToIfrsVariable, EaForPremiumToIfrsVariable, ",
                "\n    TmToIfrsVariable, NominalToIfrsVariable, RevenueToIfrsVariable, ActualToIfrsVariable",
                "\n{",
                "\n    IEnumerable<IfrsVariable> amortizationFactors => Identity.ValuationApproach switch {",
                "\n        ValuationApproaches.PAA => AmortizationFactor.Union(DeferrableAmFactor, EqualityComparer<IfrsVariable>.Instance),",
                "\n//.Union(RevenueAmFactor, EqualityComparer<IfrsVariable>.Instance),//No need to RevenueAmFactor as long as Revenue depends only on Cashflow",
                "\n        _ => AmortizationFactor.Union(DeferrableAmFactor, EqualityComparer<IfrsVariable>.Instance),",
                "\n    };",
                "\n    ",
                "\n    IEnumerable<IfrsVariable> CalculatedIfrsVariables => ( (Identity.ValuationApproach, GetStorage().DataNodeDataBySystemName[Identity.DataNode].LiabilityType) switch {",
                "\n        (ValuationApproaches.VFA, _) => PvCurrent.Concat(CumulatedNominal).Concat(RaCurrent).Concat(amortizationFactors)",
                "\n            .Concat(BeEAForPremium).Concat(Deferrable).Concat(Csms).Concat(Loss),",
                "\n        (ValuationApproaches.PAA, LiabilityTypes.LIC) => PvLocked.Concat(PvCurrent).Concat(CumulatedNominal).Concat(RaCurrent).Concat(RaLocked),                           ",
                "\n        (ValuationApproaches.PAA, LiabilityTypes.LRC) => PvLocked.Concat(CumulatedNominal).Concat(RaLocked).Concat(amortizationFactors).Concat(BeEAForPremium)",
                "\n            .Concat(Deferrable).Concat(Loss).Concat(Revenue),",
                "\n        _ => PvLocked.Concat(PvCurrent).Concat(CumulatedNominal).Concat(RaCurrent).Concat(RaLocked).Concat(amortizationFactors)",
                "\n             .Concat(BeEAForPremium).Concat(Deferrable).Concat(Csms).Concat(Loss),",
                "\n    } )",
                "\n    // Adding Actuals.",
                "\n    .Concat(Actual).Concat(ActEAForPremium);",
                "\n}"
            ],
            "metadata": {},
            "execution_count": 0,
            "outputs": []
        },
        {
            "cell_type": "markdown",
            "source": [
                "# Opening dependent variables"
            ],
            "metadata": {},
            "execution_count": 0,
            "outputs": []
        },
        {
            "cell_type": "code",
            "source": [
                "public interface ComputeIfrsVarsOpenings : ActualToIfrsVariable, DeferrableToIfrsVariable, TmToIfrsVariable",
                "\n{",
                "\n    IEnumerable<IfrsVariable> CalculatedIfrsVariables => AdvanceActual.Concat(OverdueActual)",
                "\n        .Concat(Deferrable).Concat(Csms).Concat(Loss);//.Concat(Revenue)?",
                "\n}"
            ],
            "metadata": {},
            "execution_count": 0,
            "outputs": []
        },
        {
            "cell_type": "markdown",
            "source": [
                "# Inject Projections"
            ],
            "metadata": {},
            "execution_count": 0,
            "outputs": []
        },
        {
            "cell_type": "code",
            "source": [
                "public interface ProjectionCount : IScope<string, ImportStorage>{",
                "\n    private int rawVariableMaxLength => GetStorage().GetRawVariables(Identity).Max(rawVariable => rawVariable.Values.Length);",
                "\n    int Value => Enumerable.Range(0, GetStorage().GetProjectionCount()).Where(projCount => ",
                "\n        rawVariableMaxLength > GetStorage().GetShift(projCount)).Count();",
                "\n}"
            ],
            "metadata": {},
            "execution_count": 0,
            "outputs": []
        },
        {
            "cell_type": "code",
            "source": [
                "public interface ComputeIfrsVarsCashflowsWithProjection : IScope<string, ImportStorage>{",
                "\n    private IEnumerable<ImportIdentity> identities => GetScope<GetIdentities>(Identity).Identities;",
                "\n    ",
                "\n    private IEnumerable<ImportIdentity> identitiesWithProjection => Enumerable.Range(0, GetScope<ProjectionCount>(Identity).Value)",
                "\n        .SelectMany(projectionPeriod => identities.Select(id => id with { ProjectionPeriod = projectionPeriod})); //temp?",
                "\n    ",
                "\n    IEnumerable<IfrsVariable> CalculatedIfrsVariables => identitiesWithProjection",
                "\n        .SelectMany(identity => GetScope<ComputeIfrsVarsCashflows>(identity).CalculatedIfrsVariables)",
                "\n        .AggregateProjections()",
                "\n        .Select(ifrsVariable => ifrsVariable with {Partition = GetStorage().TargetPartition});",
                "\n}"
            ],
            "metadata": {},
            "execution_count": 0,
            "outputs": []
        },
        {
            "cell_type": "code",
            "source": [
                "public interface ComputeIfrsVarsActualsWithProjection : IScope<string, ImportStorage>{",
                "\n    private IEnumerable<ImportIdentity> identities => GetScope<GetIdentities>(Identity).Identities;",
                "\n    ",
                "\n    private IEnumerable<ImportIdentity> identitiesWithProjection => Enumerable.Range(0, GetScope<ProjectionCount>(Identity).Value)",
                "\n        .SelectMany(projectionPeriod => identities.Select(id => id with { ProjectionPeriod = projectionPeriod})); //temp?",
                "\n    ",
                "\n    IEnumerable<IfrsVariable> CalculatedIfrsVariables => identitiesWithProjection",
                "\n        .SelectMany(identity => GetScope<ComputeIfrsVarsActuals>(identity).CalculatedIfrsVariables)",
                "\n        .AggregateProjections()",
                "\n        .Select(ifrsVariable => ifrsVariable with {Partition = GetStorage().TargetPartition});",
                "\n}"
            ],
            "metadata": {},
            "execution_count": 0,
            "outputs": []
        },
        {
            "cell_type": "code",
            "source": [
                "public interface ComputeIfrsVarsOpeningsWithProjection : IScope<string, ImportStorage>{",
                "\n    private IEnumerable<ImportIdentity> identities => GetScope<GetIdentities>(Identity).Identities;",
                "\n    ",
                "\n    private IEnumerable<ImportIdentity> identitiesWithProjection => Enumerable.Range(0, GetScope<ProjectionCount>(Identity).Value)",
                "\n        .SelectMany(projectionPeriod => identities.Select(id => id with { ProjectionPeriod = projectionPeriod})); //temp?",
                "\n    ",
                "\n    IEnumerable<IfrsVariable> CalculatedIfrsVariables => identitiesWithProjection",
                "\n        .SelectMany(identity => GetScope<ComputeIfrsVarsOpenings>(identity).CalculatedIfrsVariables)",
                "\n        .AggregateProjections()",
                "\n        .Select(ifrsVariable => ifrsVariable with {Partition = GetStorage().TargetPartition});",
                "\n}"
            ],
            "metadata": {},
            "execution_count": 0,
            "outputs": []
        },
        {
            "cell_type": "markdown",
            "source": [
                "# Compute "
            ],
            "metadata": {},
            "execution_count": 0,
            "outputs": []
        },
        {
            "cell_type": "code",
            "source": [
                "public interface ComputeAllScopes: IScope<string, ImportStorage>",
                "\n{",
                "\n   IEnumerable<IfrsVariable> CalculatedIfrsVariables => GetStorage().ImportFormat switch {",
                "\n            ImportFormats.Actual   => GetScope<ComputeIfrsVarsActualsWithProjection >(Identity).CalculatedIfrsVariables,",
                "\n            ImportFormats.Cashflow => GetScope<ComputeIfrsVarsCashflowsWithProjection>(Identity).CalculatedIfrsVariables,",
                "\n            ImportFormats.Opening  => GetScope<ComputeIfrsVarsOpeningsWithProjection>(Identity).CalculatedIfrsVariables,",
                "\n   };",
                "\n}"
            ],
            "metadata": {},
            "execution_count": 0,
            "outputs": []
        },
        {
            "cell_type": "code",
            "source": [
                ""
            ],
            "metadata": {},
            "execution_count": 0,
            "outputs": []
        }
    ]
}