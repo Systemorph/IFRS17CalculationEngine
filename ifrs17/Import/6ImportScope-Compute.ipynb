{
    "metadata": {
        "authors": [],
        "id": "1-Sd2C2w2kaytthWS3cL1L",
        "kernelspec": {
            "display_name": "Formula Framework",
            "language": "C#",
            "name": "C#"
        },
        "language_info": {
            "file_extension": ".cs",
            "mimetype": "text/plain",
            "name": "C#"
        }
    },
    "nbformat": 4,
    "nbformat_minor": 5,
    "cells": [
        {
            "cell_type": "markdown",
            "source": [
                "<p style=\"font-weight:bold;\"> <span style=\"font-size: 36px\"> IFRS 17 Methodology </span> </p>",
                "\n<p style=\"font-weight:bold;\"> <span style=\"font-size: 24px\"> Business Logic with Scopes  </span> </p>"
            ],
            "metadata": {},
            "execution_count": 0,
            "outputs": []
        },
        {
            "cell_type": "markdown",
            "source": [
                "Import scopes are divided in several notebooks:",
                "\n- [Calculation of Identities](../Import/1ImportScope-Identities)",
                "\n- [Calculation of Present Values](../Import/2ImportScope-PresentValue)",
                "\n- [Calculation of Actuals](../Import/3ImportScope-Actuals)",
                "\n- [Calculation of Technical Margin](../Import/4ImportScope-TechnicalMargin)",
                "\n- [Creation of Ifrs Variables](../Import/5ImportScope-ToIfrsVar)",
                "\n- Calculation of Ifrs Variables",
                "\n",
                "\n<br><br>",
                "\nIn this notebook the focus is on the calculation of the minimal set of Ifrs Variable given the import Format."
            ],
            "metadata": {},
            "execution_count": 0,
            "outputs": []
        },
        {
            "cell_type": "markdown",
            "source": [
                "# References",
                "\nLibraries and other notebooks which are needed for this notebook are imported below."
            ],
            "metadata": {},
            "execution_count": 0,
            "outputs": []
        },
        {
            "cell_type": "markdown",
            "source": [
                "## Notebooks"
            ],
            "metadata": {},
            "execution_count": 0,
            "outputs": []
        },
        {
            "cell_type": "code",
            "source": [
                "#!import \"5ImportScope-ToIfrsVar\""
            ],
            "metadata": {},
            "execution_count": 0,
            "outputs": []
        },
        {
            "cell_type": "markdown",
            "source": [
                "# Actual dependent variables"
            ],
            "metadata": {},
            "execution_count": 0,
            "outputs": []
        },
        {
            "cell_type": "code",
            "source": [
                "public interface ComputeIfrsVarsActuals : ActualToIfrsVariable, DeferrableToIfrsVariable, EaForPremiumToIfrsVariable, TmToIfrsVariable",
                "\n{",
                "\n    IEnumerable<IfrsVariable> CalculatedIfrsVariables => Actual.Concat(AdvanceActual).Concat(OverdueActual)",
                "\n                                                               .Concat(ActEAForPremium).Concat(Deferrable).Concat(Csms).Concat(Loss);",
                "\n}"
            ],
            "metadata": {},
            "execution_count": 0,
            "outputs": []
        },
        {
            "cell_type": "markdown",
            "source": [
                "# Cashflow dependent variables"
            ],
            "metadata": {},
            "execution_count": 0,
            "outputs": []
        },
        {
            "cell_type": "code",
            "source": [
                "public interface ComputeIfrsVarsCashflows : PvToIfrsVariable, RaToIfrsVariable, DeferrableToIfrsVariable, EaForPremiumToIfrsVariable, TmToIfrsVariable, NominalToIfrsVariable, DeferrableAmortizationFactorToIfrsVariable",
                "\n{",
                "\n    private IEnumerable<IfrsVariable> amortizationFactors => AmortizationFactor.Union(DeferrableAmFactor, EqualityComparer<IfrsVariable>.Instance);",
                "\n    ",
                "\n    IEnumerable<IfrsVariable> CalculatedIfrsVariables => Identity.ValuationApproach switch {",
                "\n        ValuationApproaches.VFA => PvCurrent.Concat(CumulatedNominal).Concat(RaCurrent).Concat(amortizationFactors)",
                "\n                                   .Concat(BeEAForPremium).Concat(Deferrable).Concat(Csms).Concat(Loss),",
                "\n        _ => PvLocked.Concat(PvCurrent).Concat(CumulatedNominal).Concat(RaCurrent).Concat(RaLocked).Concat(amortizationFactors)",
                "\n             .Concat(BeEAForPremium).Concat(Deferrable).Concat(Csms).Concat(Loss),",
                "\n    };",
                "\n}"
            ],
            "metadata": {},
            "execution_count": 0,
            "outputs": []
        },
        {
            "cell_type": "markdown",
            "source": [
                "# Chashflows with Projections"
            ],
            "metadata": {},
            "execution_count": 0,
            "outputs": []
        },
        {
            "cell_type": "code",
            "source": [
                "public interface ComputeIfrsVarsCashflowsWithProjection : IScope<ImportIdentity, ImportStorage>{",
                "\n    IEnumerable<IfrsVariable> CalculatedIfrsVariables => Enumerable.Range(0,ProjectionCount)",
                "\n                                                                    .SelectMany(x => GetScope<ComputeIfrsVarsCashflows>(Identity with { ProjectionPeriod = x} ).CalculatedIfrsVariables)",
                "\n                                                                    .AggregateProjections()",
                "\n                                                                    .Select(x => x with {Partition = GetStorage().TargetPartition});",
                "\n}"
            ],
            "metadata": {},
            "execution_count": 0,
            "outputs": []
        },
        {
            "cell_type": "markdown",
            "source": [
                "# Opening dependent variables"
            ],
            "metadata": {},
            "execution_count": 0,
            "outputs": []
        },
        {
            "cell_type": "code",
            "source": [
                "public interface ComputeIfrsVarsOpenings : ActualToIfrsVariable, DeferrableToIfrsVariable, TmToIfrsVariable",
                "\n{",
                "\n    IEnumerable<IfrsVariable> CalculatedIfrsVariables => AdvanceActual.Concat(OverdueActual)",
                "\n                                                                      .Concat(Deferrable).Concat(Csms).Concat(Loss);",
                "\n}"
            ],
            "metadata": {},
            "execution_count": 0,
            "outputs": []
        },
        {
            "cell_type": "markdown",
            "source": [
                "# Compute "
            ],
            "metadata": {},
            "execution_count": 0,
            "outputs": []
        },
        {
            "cell_type": "code",
            "source": [
                "public interface ComputeAllScopes: IScope<ImportIdentity, ImportStorage>",
                "\n{",
                "\n   IEnumerable<IfrsVariable> CalculatedIfrsVariables => GetStorage().ImportFormat switch {",
                "\n            ImportFormats.Actual   => GetScope<ComputeIfrsVarsActuals>(Identity).CalculatedIfrsVariables,",
                "\n            ImportFormats.Cashflow => GetScope<ComputeIfrsVarsCashflowsWithProjection>(Identity).CalculatedIfrsVariables,",
                "\n            ImportFormats.Opening  => GetScope<ComputeIfrsVarsOpenings>(Identity).CalculatedIfrsVariables,",
                "\n   };",
                "\n}"
            ],
            "metadata": {},
            "execution_count": 0,
            "outputs": []
        },
        {
            "cell_type": "code",
            "source": [
                ""
            ],
            "metadata": {},
            "execution_count": 0,
            "outputs": []
        }
    ]
}