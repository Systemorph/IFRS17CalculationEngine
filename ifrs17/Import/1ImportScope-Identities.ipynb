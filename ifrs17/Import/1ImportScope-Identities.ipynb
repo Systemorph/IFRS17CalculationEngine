{
    "metadata": {
        "authors": [],
        "id": "1-Sd2C2w2kaytthWS3cL1F",
        "kernelspec": {
            "display_name": "Formula Framework",
            "language": "C#",
            "name": "C#"
        },
        "language_info": {
            "file_extension": ".cs",
            "mimetype": "text/plain",
            "name": "C#"
        }
    },
    "nbformat": 4,
    "nbformat_minor": 5,
    "cells": [
        {
            "cell_type": "markdown",
            "source": [
                "<p style=\"font-weight:bold;\"> <span style=\"font-size: 36px\"> IFRS 17 Methodology </span> </p>",
                "\n<p style=\"font-weight:bold;\"> <span style=\"font-size: 24px\"> Business Logic with Scopes  </span> </p>",
                "\n"
            ],
            "metadata": {},
            "execution_count": 0,
            "outputs": []
        },
        {
            "cell_type": "markdown",
            "source": [
                "This notebook contains the logic used to perform calculations upon import of data (actuals and cash flows). This is also called 'Data Loading' and the concept of Scope is used here to define the logic and provide the means of executing the logic. Scopes are used to define and perform data handling in a structured and easy-to-read-through fashion.",
                "\n",
                "\n<br><br>",
                "\nImport scopes are divided in several notebooks:",
                "\n- Calculation of Identities",
                "\n- [Calculation of Present Values](../Import/2ImportScope-PresentValue)",
                "\n- [Calculation of Actuals](../Import/3ImportScope-Actuals)",
                "\n- [Calculation of Technical Margin](../Import/4ImportScope-TechnicalMargin)",
                "\n- [Creation of Ifrs Variables](../Import/5ImportScope-ToIfrsVar)",
                "\n- [Calculation of Ifrs Variables](../Import/6ImportScope-Compute)",
                "\n",
                "\n<br><br>",
                "\nIn this notebook the focus is on the defintion of the Identities and on the AoC Step structure and relations required for the computations. ",
                "\n"
            ],
            "metadata": {},
            "execution_count": 0,
            "outputs": []
        },
        {
            "cell_type": "markdown",
            "source": [
                "# References",
                "\nLibraries and other notebooks which are needed for this notebook are imported below."
            ],
            "metadata": {},
            "execution_count": 0,
            "outputs": []
        },
        {
            "cell_type": "markdown",
            "source": [
                "## Notebooks"
            ],
            "metadata": {},
            "execution_count": 0,
            "outputs": []
        },
        {
            "cell_type": "code",
            "source": [
                "#!import \"ImportStorage\""
            ],
            "metadata": {},
            "execution_count": 0,
            "outputs": []
        },
        {
            "cell_type": "markdown",
            "source": [
                "# IModel ",
                "\n",
                "\nThe <code>IModel</code> interface below will be used to execute calculations (i.e. evaluate the scopes) based on imported data."
            ],
            "metadata": {},
            "execution_count": 0,
            "outputs": []
        },
        {
            "cell_type": "code",
            "source": [
                "public interface IModel : IMutableScopeWithStorage<ImportStorage>{}"
            ],
            "metadata": {},
            "execution_count": 0,
            "outputs": []
        },
        {
            "cell_type": "markdown",
            "source": [
                "# Generate Identities",
                "\n",
                "\nAn [Identity](../DataModel/DataStructure#import-identity) is a set of identifiers for a certain set of data. In particular, an identity consists of a certain [AoC Type](../DataModel/DataStructure#aoc-type), [Novelty](../DataModel/DataStructure#novelty), [Data Node](../DataModel/DataStructure#data-node), Accident Year, and information on whether the data is for reinsurance or not. ",
                "\n",
                "\nGiven a certain Data Node and Accident Year, the interface <code>GetIdentities</code> returns all the existing identities (e.g. for Actuals and Cash flows) which have that Data Node and Accident Year."
            ],
            "metadata": {},
            "execution_count": 0,
            "outputs": []
        },
        {
            "cell_type": "code",
            "source": [
                "public interface AllCfIdentities : IScope<string, ImportStorage> // Identity corresponds to the DataNode",
                "\n{",
                "\n    IEnumerable<ImportIdentity> ids => GetStorage().GetAllAocSteps(InputSource.Cashflow)",
                "\n        .Select(aocStep => new ImportIdentity {AocType = aocStep.AocType, Novelty = aocStep.Novelty, DataNode = Identity });",
                "\n}"
            ],
            "metadata": {},
            "execution_count": 0,
            "outputs": []
        },
        {
            "cell_type": "code",
            "source": [
                "public interface GetParsedAocSteps : IScope<string, ImportStorage>",
                "\n{",
                "\n    IEnumerable<AocStep> Values => GetStorage().GetRawVariables(Identity).Select(x => new AocStep(x.AocType, x.Novelty)).Distinct();",
                "\n}"
            ],
            "metadata": {},
            "execution_count": 0,
            "outputs": []
        },
        {
            "cell_type": "code",
            "source": [
                "public interface GetIdentities : IScope<string, ImportStorage>",
                "\n{",
                "\n    static ApplicabilityBuilder ScopeApplicabilityBuilder(ApplicabilityBuilder builder) =>",
                "\n        builder.ForScope<GetIdentities>(s => s.WithApplicability<GetCashflowIdentities>(x => x.GetStorage().ImportFormat == ImportFormats.Cashflow));",
                "\n    ",
                "\n    protected IEnumerable<ImportIdentity> allIdentities => GetStorage().AocConfigurationByAocStep.Values.Select(x => new ImportIdentity {AocType = x.AocType, Novelty = x.Novelty, DataNode = Identity });",
                "\n",
                "\n    IEnumerable<ImportIdentity> Identities => allIdentities.Select(id => id with { IsReinsurance = GetStorage().DataNodeDataBySystemName[id.DataNode].IsReinsurance,",
                "\n                                                                                   ValuationApproach = GetStorage().DataNodeDataBySystemName[id.DataNode].ValuationApproach});",
                "\n}",
                "\n",
                "\npublic interface GetCashflowIdentities : GetIdentities",
                "\n{",
                "\n    private bool isReinsurance => GetStorage().DataNodeDataBySystemName[Identity].IsReinsurance;",
                "\n    ",
                "\n    private IEnumerable<ImportIdentity> ParsedIdentities => GetScope<GetParsedAocSteps>(Identity).Values.Select(aocStep => new ImportIdentity {AocType = aocStep.AocType, Novelty = aocStep.Novelty, DataNode = Identity});",
                "\n    ",
                "\n    private IEnumerable<string> rawVariableNovelties => GetStorage().GetRawVariables(Identity).Select(rv => rv.Novelty).Distinct().Concat(Novelties.C.RepeatOnce());",
                "\n",
                "\n    private IEnumerable<AocStep> calculatedAocSteps => GetStorage().AocConfigurationByAocStep.Values.Where(x => new DataType[]{DataType.Calculated, DataType.CalculatedTelescopic}.Contains(x.DataType) &&",
                "\n        (!isReinsurance ? !new []{AocTypes.CRU, AocTypes.RCU}.Contains(x.AocType) : true) && rawVariableNovelties.Contains(x.Novelty) ).Select(x => new AocStep(x.AocType, x.Novelty));",
                "\n",
                "\n    private IEnumerable<ImportIdentity> SpecialIdentities => calculatedAocSteps.Select(x => new ImportIdentity {AocType = x.AocType, Novelty = x.Novelty, DataNode = Identity })",
                "\n        .Concat(new ImportIdentity {AocType = AocTypes.CF, Novelty = Novelties.C,DataNode = Identity}.RepeatOnce()) //Add CF for Deferral",
                "\n        .Concat(GetStorage().GetAllAocSteps(InputSource.Opening).Select(aocStep => new ImportIdentity {AocType = aocStep.AocType, Novelty = aocStep.Novelty, DataNode = Identity}));//Add BOP,I and IA,I",
                "\n",
                "\n    IEnumerable<ImportIdentity> GetIdentities.allIdentities => ParsedIdentities.Concat(SpecialIdentities).Distinct();       ",
                "\n}"
            ],
            "metadata": {},
            "execution_count": 0,
            "outputs": []
        },
        {
            "cell_type": "markdown",
            "source": [
                "# Relevant Amount Types",
                "\n",
                "\nSimilarly, given a certain Data Node and Accident Year, the interface <code>ValidAmountType</code> returns all the amount types which are used in imported data with that Data Node and Accident Year."
            ],
            "metadata": {},
            "execution_count": 0,
            "outputs": []
        },
        {
            "cell_type": "code",
            "source": [
                "public interface ValidAmountType : IScope<string, ImportStorage>",
                "\n{",
                "\n    static ApplicabilityBuilder ScopeApplicabilityBuilder(ApplicabilityBuilder builder) =>",
                "\n                builder.ForScope<ValidAmountType>(s => s.WithApplicability<BeAmountTypesFromIfrsVariables>(x => x.GetStorage().ImportFormat != ImportFormats.Cashflow ||",
                "\n                                                                                                                x.GetStorage().IsSecondaryScope(x.Identity)));",
                "\n    ",
                "\n    IEnumerable<string> BeAmountTypes => GetStorage().GetRawVariables(Identity)",
                "\n                                            .Where(rv => rv.AmountType != null)",
                "\n                                            .Select(x => x.AmountType)",
                "\n                                            .Concat(GetStorage().DataNodeDataBySystemName[Identity].IsReinsurance ",
                "\n                                                    ? GetStorage().DataNodeDataBySystemName[Identity].LiabilityType == LiabilityTypes.LIC ",
                "\n                                                        ? new []{AmountTypes.CDR} : new []{AmountTypes.CDRI, AmountTypes.CDR} ",
                "\n                                                    : Enumerable.Empty<string>()).ToHashSet();",
                "\n    ",
                "\n    ",
                "\n    IEnumerable<string> ActualAmountTypes => GetStorage().GetIfrsVariables(Identity)",
                "\n                                                         .Where(iv => GetStorage().ImportActualEstimateTypes.Contains(iv.EstimateType))",
                "\n                                                         .Select(x => x.AmountType)",
                "\n                                                         .ToHashSet();",
                "\n}",
                "\npublic interface BeAmountTypesFromIfrsVariables : ValidAmountType",
                "\n{",
                "\n    IEnumerable<string> ValidAmountType.BeAmountTypes => GetStorage().GetIfrsVariables(Identity)",
                "\n                                                         .Where(iv => GetStorage().EstimateTypesByImportFormat[ImportFormats.Cashflow].Contains(iv.EstimateType) && iv.AmountType != null)",
                "\n                                                         .Select(x => x.AmountType)",
                "\n                                                         .ToHashSet();",
                "\n}"
            ],
            "metadata": {},
            "execution_count": 0,
            "outputs": []
        },
        {
            "cell_type": "markdown",
            "source": [
                "# AoC Step Structure",
                "\n",
                "\nThe AoC Step structure is constructed from the data which is delivered as input. It is assumed that it depends only on the Group of Contract (i.e. it is invariant across Amount types or Accident Year). "
            ],
            "metadata": {},
            "execution_count": 0,
            "outputs": []
        },
        {
            "cell_type": "markdown",
            "source": [
                "## Parent AoC Step ",
                "\nThe **ParentAocStep** scope computes and provides an important piece of information for each [Identity](../DataModel/DataStructure#import-identity), i.e. for a certain [AoC Type](../DataModel/DataStructure#aoc-type) and [Novelty](../DataModel/DataStructure#novelty).",
                "\n",
                "\nIt provides the list of the adjacent AoC Steps prior to Identity one. It can be more than one only for the step **CL** where a parent for each novelty is considered.",
                "\nParentAocStep is critical when computing the *telescoping* differences. ",
                "\n",
                "\nThey are defined as follows:",
                "\n",
                "\n$$",
                "\n\\text{ParentAocStep}(\\text{AoC Step}) = \\left\\{",
                "\n\\begin{array}{cl}",
                "\n\\text{AoC Step with AoC Type YCU and Novelty I} & \\text{if AoC Type CRU} \\\\",
                "\n\\text{The last AoC Step with Data Type != Calculated and same Novelty as the AoC Step} & \\text{if AoC Type YCU} \\\\",
                "\n\\text{The AoC Step which comes before in terms of order (as defined by AoC Type)} & \\text{otherwise} \\\\",
                "\n\\end{array}",
                "\n\\right.",
                "\n$$",
                "\n"
            ],
            "metadata": {},
            "execution_count": 0,
            "outputs": []
        },
        {
            "cell_type": "code",
            "source": [
                "public interface ParentAocStep : IScope<(ImportIdentity Id, string AmountType), ImportStorage>",
                "\n{",
                "\n    static ApplicabilityBuilder ScopeApplicabilityBuilder(ApplicabilityBuilder builder) =>",
                "\n                builder.ForScope<ParentAocStep>(s => s.WithApplicability<ParentAocStepForCreditRisk>(x => x.Identity.AmountType != AmountTypes.CDR));",
                "\n    ",
                "\n    private IEnumerable<AocStep> ParsedAocSteps => GetScope<GetParsedAocSteps>(Identity.Id.DataNode).Values;",
                "\n    private IEnumerable<AocStep> OrderedParsedAocSteps => ParsedAocSteps.Concat(CalculatedTelescopicAocStep).OrderBy(x => GetStorage().AocConfigurationByAocStep[x].Order);",
                "\n    ",
                "\n    private Dictionary<AocStep,IEnumerable<AocStep>> ParentParsedIdentities => GetPreviousIdentities(OrderedParsedAocSteps);",
                "\n    private AocStep identityAocStep => new AocStep(Identity.Id.AocType, Identity.Id.Novelty);",
                "\n    ",
                "\n    IEnumerable<AocStep> CalculatedTelescopicAocStep => GetStorage().GetCalculatedTelescopicAocSteps();",
                "\n    ",
                "\n    IEnumerable<AocStep> Values => ",
                "\n        Identity.Id.AocType switch {",
                "\n                 AocTypes.CRU => new AocStep(AocTypes.YCU, Novelties.I).RepeatOnce(),",
                "\n                 AocTypes.YCU => OrderedParsedAocSteps.GetReferenceAocStepForCalculated(GetStorage().AocConfigurationByAocStep, identityAocStep).RepeatOnce(),",
                "\n                 _ => ParentParsedIdentities.TryGetValue(identityAocStep, out var parents) ? parents : Enumerable.Empty<AocStep>(),",
                "\n    };",
                "\n}",
                "\n",
                "\npublic interface ParentAocStepForCreditRisk : ParentAocStep",
                "\n{",
                "\n   IEnumerable<AocStep> ParentAocStep.CalculatedTelescopicAocStep => ",
                "\n       GetStorage().GetCalculatedTelescopicAocSteps().Where(aoc => aoc.AocType != AocTypes.CRU);",
                "\n}"
            ],
            "metadata": {},
            "execution_count": 0,
            "outputs": []
        },
        {
            "cell_type": "markdown",
            "source": [
                "## Reference AoC Step",
                "\n",
                "\nThe **ReferenceAocStep** scope provides the AoC Step from which to retrieve the data in order to compute its value (e.g. AoC Step EA retrieves Present Values, while AoC Step YCU retrieves Nominal).",
                "\n",
                "\nThey are defined as follows:",
                "\n",
                "\n$$",
                "\n\\text{ReferenceAocStep}(\\text{AoC Step}) = \\left\\{",
                "\n\\begin{array}{cl}",
                "\n\\text{self} & \\text{if AoC Step InputSource is not Calculated} \\\\",
                "\n\\text{The last AoC Step with Data Type != Calculated and same Novelty as the input AoC Step} ~, & \\text{if AoC Type } \\in \\text{\\{RCU, CF, IA, YCU, CRU\\}} \\\\",
                "\n\\text{AoC Step with AoC Type CF and Novelty as the AoC Step} & \\text{if AoC Type EA} \\\\",
                "\n\\text{AoC Step with AoC Type CL and Novelty C} & \\text{if AoC Type $\\in$ \\{AM, EOP\\}} \\\\",
                "\n\\text{empty} & \\text{if AoC Type is BOP} \\\\",
                "\n\\text{log NotSupportedAocStepReference error} & \\text{otherwise} \\\\",
                "\n\\end{array}",
                "\n\\right.",
                "\n$$",
                "\n",
                "\nwhere the last AoC Step is obtained by ordering the AoC Steps according to their order (as defined by its AoC Type) and taking the last one."
            ],
            "metadata": {},
            "execution_count": 0,
            "outputs": []
        },
        {
            "cell_type": "code",
            "source": [
                "public interface ReferenceAocStep : IScope<ImportIdentity, ImportStorage> ",
                "\n{",
                "\n    private IEnumerable<AocStep> OrderedParsedAocSteps => GetScope<GetParsedAocSteps>(Identity.DataNode).Values.OrderBy(aocStep => GetStorage().AocConfigurationByAocStep[aocStep].Order);",
                "\n    private AocStep identityAocStep => new AocStep(Identity.AocType, Identity.Novelty);",
                "\n    private AocStep GetReferenceAocStep(string aocType) {",
                "\n        return aocType switch {",
                "\n               AocTypes.RCU or AocTypes.CF or AocTypes.IA or AocTypes.YCU or AocTypes.CRU => OrderedParsedAocSteps.GetReferenceAocStepForCalculated(GetStorage().AocConfigurationByAocStep, identityAocStep),",
                "\n               AocTypes.EA => new AocStep(AocTypes.CF, Identity.Novelty),",
                "\n               AocTypes.AM or AocTypes.EOP => new AocStep(AocTypes.CL, Novelties.C),",
                "\n               AocTypes.BOP => GetStorage().GetShift(Identity.ProjectionPeriod) >= MonthInAYear && Identity.Novelty == Novelties.I ? new AocStep(AocTypes.CL, Novelties.C) : new AocStep(default, default), //BOP, C has DataType == Calculated. See ReferenceAocStep condition.",
                "\n               _ => (AocStep)ApplicationMessage.Log(Error.NotSupportedAocStepReference, Identity.AocType),",
                "\n        };",
                "\n    }",
                "\n",
                "\n    // The Reference AocStep from which get data (Nominal or PV) to compute",
                "\n    AocStep Value => GetStorage().AocConfigurationByAocStep[identityAocStep].DataType == DataType.Calculated ",
                "\n                     || GetStorage().AocConfigurationByAocStep[identityAocStep].DataType == DataType.CalculatedTelescopic ",
                "\n                                                ? GetReferenceAocStep(Identity.AocType)",
                "\n                                                : identityAocStep;",
                "\n}"
            ],
            "metadata": {},
            "execution_count": 0,
            "outputs": []
        },
        {
            "cell_type": "markdown",
            "source": [
                "## Previous AoC Steps",
                "\nThe **PreviousAocSteps** scope computes and provides another important piece of information for each [Identity](../DataModel/DataStructure#import-identity), i.e. for a certain [AoC Type](../DataModel/DataStructure#aoc-type) and [Novelty](../DataModel/DataStructure#novelty).",
                "\n",
                "\nIt provides the list of all previous AoC Steps up to the **BOP** step, whereby a Combined novelty will branch into the InForce and  New Business AoC Types.",
                "\n",
                "\nPreviousAocSteps is critical when computing aggregated values along the various dimensions (such as for example Line of Business) and ",
                "\nis formed by the ParentAocStep and its parent and so on until there is no parent.",
                "\n",
                "\n$$",
                "\n\\text{PreviousAocSteps}(\\rm{AocStep}) = \\{PAS_1, PAS_2, \\ldots\\}",
                "\n$$",
                "\nwhere",
                "\n$$",
                "\n\\rm{PAS}_1 = \\rm{ParentAocStep}(\\rm{AoC Step})",
                "\n$$",
                "\n$$",
                "\n\\rm{PAS}_2 = \\rm{ParentAocStep}(\\rm{PAS}_1).",
                "\n$$",
                "\n",
                "\nThis scope depends on the InputSource (Actual or Cashflow) for which the PreviousSteps are requested due to the AocChain differences between Actual reports and the rest."
            ],
            "metadata": {},
            "execution_count": 0,
            "outputs": []
        },
        {
            "cell_type": "code",
            "source": [
                "public interface PreviousAocSteps : IScope<(ImportIdentity Id, InputSource ScopeInputSource), ImportStorage> ",
                "\n{   ",
                "\n    private AocStep identityAocStep => new AocStep(Identity.Id.AocType, Identity.Id.Novelty);",
                "\n    private int aocStepOrder => GetStorage().AocConfigurationByAocStep[identityAocStep].Order;",
                "\n    private HashSet<AocStep> allAocSteps => GetStorage().GetAllAocSteps(Identity.ScopeInputSource).ToHashSet();",
                "\n    IEnumerable<AocStep> Values => allAocSteps.Contains(identityAocStep)",
                "\n                                        ? GetScope<GetIdentities>(Identity.Id.DataNode).Identities",
                "\n                                                                 .Select(id => new AocStep(id.AocType, id.Novelty))",
                "\n                                                                 .Distinct()",
                "\n                                                                 .Where(aoc => allAocSteps.Contains(aoc) && ",
                "\n                                                                               GetStorage().AocConfigurationByAocStep[aoc].Order < aocStepOrder && ",
                "\n                                                                               (Identity.Id.Novelty != Novelties.C ? aoc.Novelty == Identity.Id.Novelty : true) )",
                "\n                                                                 .OrderBy(aoc => GetStorage().AocConfigurationByAocStep[aoc].Order)",
                "\n                                        : Enumerable.Empty<AocStep>();",
                "\n} "
            ],
            "metadata": {},
            "execution_count": 0,
            "outputs": []
        },
        {
            "cell_type": "markdown",
            "source": [
                "The exact structure being return depends on the **order** of the AoC Steps (which is set by the [AoC Type](../DataModel/DataStructure#aoc-type)), and on which AoC steps exist."
            ],
            "metadata": {},
            "execution_count": 0,
            "outputs": []
        },
        {
            "cell_type": "code",
            "source": [
                ""
            ],
            "metadata": {},
            "execution_count": 0,
            "outputs": []
        }
    ]
}