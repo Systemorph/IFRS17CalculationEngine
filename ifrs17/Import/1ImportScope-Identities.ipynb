{
    "metadata": {
        "authors": [],
        "id": "1-Sd2C2w2kaytthWS3cL1F",
        "kernelspec": {
            "display_name": "Formula Framework",
            "language": "C#",
            "name": "C#"
        },
        "language_info": {
            "file_extension": ".cs",
            "mimetype": "text/plain",
            "name": "C#"
        }
    },
    "nbformat": 4,
    "nbformat_minor": 5,
    "cells": [
        {
            "cell_type": "markdown",
            "source": [
                "<p style=\"font-weight:bold;\"> <span style=\"font-size: 36px\"> IFRS 17 Methodology </span> </p>",
                "\n<p style=\"font-weight:bold;\"> <span style=\"font-size: 24px\"> Business Logic with Scopes  </span> </p>",
                "\n"
            ],
            "metadata": {},
            "execution_count": 0,
            "outputs": []
        },
        {
            "cell_type": "markdown",
            "source": [
                "This notebook contains the logic used to perform calculations upon import of data (actuals and cash flows). This is also called 'Data Loading' and the concept of Scope is used here to define the logic and provide the means of executing the logic. Scopes are used to define and perform data handling in a structured and easy-to-read-through fashion.",
                "\n",
                "\n<br><br>",
                "\nIn this notebook the focus is on the defintion of the Identities and on the AoC Step structure and relations required for the computations. ",
                "\n"
            ],
            "metadata": {},
            "execution_count": 0,
            "outputs": []
        },
        {
            "cell_type": "markdown",
            "source": [
                "# References",
                "\nLibraries and other notebooks which are needed for this notebook are imported below."
            ],
            "metadata": {},
            "execution_count": 0,
            "outputs": []
        },
        {
            "cell_type": "markdown",
            "source": [
                "## Notebooks"
            ],
            "metadata": {},
            "execution_count": 0,
            "outputs": []
        },
        {
            "cell_type": "code",
            "source": [
                "#!import \"ImportStorage\""
            ],
            "metadata": {},
            "execution_count": 0,
            "outputs": []
        },
        {
            "cell_type": "markdown",
            "source": [
                "# IModel ",
                "\n",
                "\nThe <code>IModel</code> interface below will be used to execute calculations (i.e. evaluate the scopes) based on imported data."
            ],
            "metadata": {},
            "execution_count": 0,
            "outputs": []
        },
        {
            "cell_type": "code",
            "source": [
                "public interface IModel : IMutableScopeWithStorage<ImportStorage>{}"
            ],
            "metadata": {},
            "execution_count": 0,
            "outputs": []
        },
        {
            "cell_type": "markdown",
            "source": [
                "# Generate Identities",
                "\n",
                "\nAn [Identity](../DataModel/DataStructure#import-identity) is a set of identifiers for a certain set of data. In particular, an identity consists of a certain [AoC Type](../DataModel/DataStructure#aoc-type), [Novelty](../DataModel/DataStructure#novelty), [Data Node](../DataModel/DataStructure#data-node), Accident Year, and information on whether the data is for reinsurance or not. ",
                "\n",
                "\nGiven a certain Data Node and Accident Year, the interface <code>GetIdentities</code> returns all the existing identities (e.g. for Actuals and Cash flows) which have that Data Node and Accident Year."
            ],
            "metadata": {},
            "execution_count": 0,
            "outputs": []
        },
        {
            "cell_type": "code",
            "source": [
                "public interface AllCfIdentities : IScope<string, ImportStorage> // string represents a DataNode",
                "\n{",
                "\n    public IEnumerable<ImportIdentity> ids => GetStorage().GetAllAocSteps(InputSource.Cashflow)",
                "\n                                                          .Select(aocStep => new ImportIdentity {",
                "\n                                                              AocType = aocStep.AocType,",
                "\n                                                              Novelty = aocStep.Novelty,",
                "\n                                                              DataNode = Identity",
                "\n                                                              });",
                "\n}"
            ],
            "metadata": {},
            "execution_count": 0,
            "outputs": []
        },
        {
            "cell_type": "code",
            "source": [
                "public interface GetIdentities : IScope<string, ImportStorage>",
                "\n{",
                "\n    static ApplicabilityBuilder ScopeApplicabilityBuilder(ApplicabilityBuilder builder) =>",
                "\n        builder.ForScope<GetIdentities>(s => s.WithApplicability<AllCashflowIdentities>(x => x.GetStorage().IsSecondaryScope(x.Identity))",
                "\n                                              .WithApplicability<GetActualIdentities>(x => x.GetStorage().ImportFormat == ImportFormats.Actual)",
                "\n                                              .WithApplicability<GetCashflowIdentities>(x => x.GetStorage().ImportFormat == ImportFormats.Cashflow)",
                "\n                                              .WithApplicability<GetAllIdentities>(x => x.GetStorage().ImportFormat == ImportFormats.Opening)",
                "\n                                        );",
                "\n    ",
                "\n    private IEnumerable<ImportIdentity> computedIdentities => new string[]{AocTypes.EA, AocTypes.AM, AocTypes.EOP}",
                "\n                                                                .Select(aocType => new ImportIdentity {",
                "\n                                                                AocType = aocType,",
                "\n                                                                Novelty = Novelties.C,",
                "\n                                                                DataNode = Identity",
                "\n                                                                });",
                "\n    private IEnumerable<ImportIdentity> allIdentities => ParsedIdentities.Concat(computedIdentities).Concat(SpecialIdentities).ToHashSet();                                                                                                   ",
                "\n                                                                                                       ",
                "\n    IEnumerable<ImportIdentity> ParsedIdentities => Enumerable.Empty<ImportIdentity>();    ",
                "\n    IEnumerable<ImportIdentity> SpecialIdentities => Enumerable.Empty<ImportIdentity>();",
                "\n    ",
                "\n    //Set DataNode properties and ProjectionPeriod",
                "\n    IEnumerable<ImportIdentity> Identities => allIdentities.Select(id => id with { IsReinsurance = GetStorage().DataNodeDataBySystemName[id.DataNode].IsReinsurance,",
                "\n                                                                                   ValuationApproach = GetStorage().DataNodeDataBySystemName[id.DataNode].ValuationApproach",
                "\n                                                                                 });",
                "\n                                                          /* .SelectMany(id => Enumerable.Range(0,GetStorage().GetProjectionCount() + 1)",
                "\n                                                                               .Select(pp => id with {ProjectionPeriod = pp })",
                "\n                                                                       );*/",
                "\n}",
                "\n",
                "\npublic interface AllCashflowIdentities : GetIdentities",
                "\n{",
                "\n    IEnumerable<ImportIdentity> GetIdentities.SpecialIdentities => GetScope<AllCfIdentities>(Identity).ids;",
                "\n}",
                "\n",
                "\n",
                "\npublic interface GetActualIdentities : GetIdentities",
                "\n{",
                "\n    private IEnumerable<string> actualEstimateTypes => GetStorage().EstimateTypesByImportFormat[ImportFormats.Actual];",
                "\n                                                                                                   ",
                "\n    IEnumerable<ImportIdentity> GetIdentities.ParsedIdentities => GetStorage().GetIfrsVariables(Identity).Where(iv => actualEstimateTypes.Contains(iv.EstimateType)).Select(v => new ImportIdentity(v));",
                "\n    IEnumerable<ImportIdentity> GetIdentities.SpecialIdentities => GetScope<AllCfIdentities>(Identity).ids",
                "\n                                                                                            .Concat(GetStorage().GetAllAocSteps(InputSource.Opening)",
                "\n                                                                                              .Select(aocStep => new ImportIdentity {AocType = aocStep.AocType, ",
                "\n                                                                                                 Novelty = aocStep.Novelty,",
                "\n                                                                                                 DataNode = Identity",
                "\n                                                                                                 }));",
                "\n}",
                "\n",
                "\npublic interface GetCashflowIdentities : GetIdentities",
                "\n{",
                "\n    private bool isReinsurance => GetStorage().DataNodeDataBySystemName[Identity].IsReinsurance; //clean up in the next PR",
                "\n    ",
                "\n    IEnumerable<ImportIdentity> GetIdentities.ParsedIdentities => GetStorage().GetRawVariables(Identity).Select(v => new ImportIdentity(v));",
                "\n    ",
                "\n    IEnumerable<ImportIdentity> GetIdentities.SpecialIdentities => ParsedIdentities.Where(id => id.Novelty != Novelties.C)",
                "\n                                                                                   .Select(id => id.Novelty).ToHashSet()",
                "\n                                                                                   .SelectMany(n => (n == Novelties.N ",
                "\n                                                                                   ? new string[]{AocTypes.IA, AocTypes.CF} //Add IA, CF, for New Business",
                "\n                                                                                   : isReinsurance ",
                "\n                                                                                       ? new string[]{AocTypes.IA, AocTypes.CF, AocTypes.YCU, AocTypes.CRU, AocTypes.RCU} //Add IA, CF, YCU, CRU, RCU for in force",
                "\n                                                                                       : new string[]{AocTypes.IA, AocTypes.CF, AocTypes.YCU}) //Add IA, CF, YCU,",
                "\n                                                                                   .Select(aocType => new ImportIdentity {",
                "\n                                                                                   AocType = aocType,",
                "\n                                                                                   Novelty = n,",
                "\n                                                                                   DataNode = Identity }))",
                "\n                                                                                   .Concat(new ImportIdentity {",
                "\n                                                                                   AocType = AocTypes.CF, //Add CF for Deferral",
                "\n                                                                                   Novelty = Novelties.C,",
                "\n                                                                                   DataNode = Identity",
                "\n                                                                                   }.RepeatOnce())   ",
                "\n                                                                                    .Concat(GetStorage().GetAllAocSteps(InputSource.Opening)",
                "\n                                                                                              .Select(aocStep => new ImportIdentity {AocType = aocStep.AocType, ",
                "\n                                                                                                 Novelty = aocStep.Novelty,",
                "\n                                                                                                 DataNode = Identity",
                "\n                                                                                                 }));   ",
                "\n}",
                "\n",
                "\npublic interface GetAllIdentities : GetIdentities",
                "\n{",
                "\n    IEnumerable<ImportIdentity> GetIdentities.SpecialIdentities => GetScope<AllCfIdentities>(Identity).ids",
                "\n                                                                    .Concat(GetStorage().GetAllAocSteps(InputSource.Actual)",
                "\n                                                                          .Select(aocStep => new ImportIdentity {AocType = aocStep.AocType, ",
                "\n                                                                                                                 Novelty = aocStep.Novelty,",
                "\n                                                                                                                 DataNode = Identity,",
                "\n                                                                                                                 }));",
                "\n}"
            ],
            "metadata": {},
            "execution_count": 0,
            "outputs": []
        },
        {
            "cell_type": "markdown",
            "source": [
                "# Relevant Amount Types",
                "\n",
                "\nSimilarly, given a certain Data Node and Accident Year, the interface <code>ValidAmountType</code> returns all the amount types which are used in imported data with that Data Node and Accident Year."
            ],
            "metadata": {},
            "execution_count": 0,
            "outputs": []
        },
        {
            "cell_type": "code",
            "source": [
                "public interface ValidAmountType : IScope<string, ImportStorage>",
                "\n{",
                "\n    static ApplicabilityBuilder ScopeApplicabilityBuilder(ApplicabilityBuilder builder) =>",
                "\n                builder.ForScope<ValidAmountType>(s => s.WithApplicability<BeAmountTypesFromIfrsVariables>(x => x.GetStorage().ImportFormat != ImportFormats.Cashflow ||",
                "\n                                                                                                                x.GetStorage().IsSecondaryScope(x.Identity)));",
                "\n    ",
                "\n    IEnumerable<string> BeAmountTypes => GetStorage().GetRawVariables(Identity)",
                "\n                                            .Where(rv => rv.AmountType != null)",
                "\n                                            .Select(x => x.AmountType)",
                "\n                                            .Concat(GetStorage().DataNodeDataBySystemName[Identity].IsReinsurance ",
                "\n                                                    ? GetStorage().DataNodeDataBySystemName[Identity].LiabilityType == LiabilityTypes.LIC ",
                "\n                                                        ? new []{AmountTypes.CDR} : new []{AmountTypes.CDRI, AmountTypes.CDR} ",
                "\n                                                    : Enumerable.Empty<string>()).ToHashSet();",
                "\n    ",
                "\n    ",
                "\n    IEnumerable<string> ActualAmountTypes => GetStorage().GetIfrsVariables(Identity)",
                "\n                                                         .Where(iv => GetStorage().ImportActualEstimateTypes.Contains(iv.EstimateType))",
                "\n                                                         .Select(x => x.AmountType)",
                "\n                                                         .ToHashSet();",
                "\n}",
                "\npublic interface BeAmountTypesFromIfrsVariables : ValidAmountType",
                "\n{",
                "\n    IEnumerable<string> ValidAmountType.BeAmountTypes => GetStorage().GetIfrsVariables(Identity)",
                "\n                                                         .Where(iv => GetStorage().EstimateTypesByImportFormat[ImportFormats.Cashflow].Contains(iv.EstimateType) && iv.AmountType != null)",
                "\n                                                         .Select(x => x.AmountType)",
                "\n                                                         .ToHashSet();",
                "\n}"
            ],
            "metadata": {},
            "execution_count": 0,
            "outputs": []
        },
        {
            "cell_type": "markdown",
            "source": [
                "# AoC Step Structure",
                "\n",
                "\nThe AoC Step structure is constructed from the data which is delivered as input. It is assumed that it depends only on the Group of Contrat (i.e. it is invariant across Amount types or Accident Year). "
            ],
            "metadata": {},
            "execution_count": 0,
            "outputs": []
        },
        {
            "cell_type": "markdown",
            "source": [
                "## Parent AoC Step ",
                "\nThe **ParentAocStep** scope computes and provides an important piece of information for each [Identity](../DataModel/DataStructure#import-identity), i.e. for a certain [AoC Type](../DataModel/DataStructure#aoc-type) and [Novelty](../DataModel/DataStructure#novelty).",
                "\n",
                "\nIt provides the list of the adjacent AoC Steps prior to Identity one. It can be more than one only for the step **CL** where a parent for each novelty is considered.",
                "\nParentAocStep is critical when computing the *telescoping* differences. ",
                "\n",
                "\nThey are defined as follows:",
                "\n",
                "\n$$",
                "\n\\text{ParentAocStep}(\\text{AoC Step}) = \\left\\{",
                "\n\\begin{array}{cl}",
                "\n\\text{AoC Step with AoC Type YCU and Novelty I} & \\text{if AoC Type CRU} \\\\",
                "\n\\text{The last AoC Step with Data Type != Calculated and same Novelty as the AoC Step} & \\text{if AoC Type YCU} \\\\",
                "\n\\text{The AoC Step which comes before in terms of order (as defined by AoC Type)} & \\text{otherwise} \\\\",
                "\n\\end{array}",
                "\n\\right.",
                "\n$$",
                "\n"
            ],
            "metadata": {},
            "execution_count": 0,
            "outputs": []
        },
        {
            "cell_type": "code",
            "source": [
                "public interface ParentAocStep : IScope<(ImportIdentity Id, string AmountType), ImportStorage>",
                "\n{",
                "\n    static ApplicabilityBuilder ScopeApplicabilityBuilder(ApplicabilityBuilder builder) =>",
                "\n                builder.ForScope<ParentAocStep>(s => s.WithApplicability<ParentAocStepForCreditRisk>(x => x.Identity.AmountType != AmountTypes.CDR));",
                "\n    ",
                "\n    private HashSet<AocStep> ParsedAocSteps => GetScope<GetIdentities>(Identity.Id.DataNode).ParsedIdentities.Select(id => new AocStep(id.AocType, id.Novelty)).ToHashSet();",
                "\n    private IEnumerable<AocStep> OrderedParsedAocSteps => ParsedAocSteps.Concat(CalculatedTelescopicAocStep).OrderBy(x => GetStorage().AocConfigurationByAocStep[x].Order);",
                "\n    ",
                "\n    private Dictionary<AocStep,IEnumerable<AocStep>> ParentParsedIdentities => GetPreviousIdentities(OrderedParsedAocSteps);",
                "\n    private AocStep identityAocStep => new AocStep(Identity.Id.AocType, Identity.Id.Novelty);",
                "\n    ",
                "\n    IEnumerable<AocStep> CalculatedTelescopicAocStep => GetStorage().GetCalculatedTelescopicAocSteps();",
                "\n    ",
                "\n    IEnumerable<AocStep> Values => ",
                "\n        Identity.Id.AocType switch {",
                "\n                 AocTypes.CRU => new AocStep(AocTypes.YCU, Novelties.I).RepeatOnce(),",
                "\n                 AocTypes.YCU => OrderedParsedAocSteps.GetReferenceAocStepForCalculated(GetStorage().AocConfigurationByAocStep, identityAocStep).RepeatOnce(),",
                "\n                 _ => ParentParsedIdentities.TryGetValue(identityAocStep, out var parents) ? parents : Enumerable.Empty<AocStep>(),",
                "\n    };",
                "\n}",
                "\n",
                "\npublic interface ParentAocStepForCreditRisk : ParentAocStep",
                "\n{",
                "\n   IEnumerable<AocStep> ParentAocStep.CalculatedTelescopicAocStep => ",
                "\n       GetStorage().GetCalculatedTelescopicAocSteps().Where(aoc => aoc.AocType != AocTypes.CRU);",
                "\n}"
            ],
            "metadata": {},
            "execution_count": 0,
            "outputs": []
        },
        {
            "cell_type": "markdown",
            "source": [
                "## Reference AoC Step",
                "\n",
                "\nThe **ReferenceAocStep** scope provides the AoC Step from which to retrieve the data in order to compute its value (e.g. AoC Step EA retrieves Present Values, while AoC Step YCU retrieves Nominal).",
                "\n",
                "\nThey are defined as follows:",
                "\n",
                "\n$$",
                "\n\\text{ReferenceAocStep}(\\text{AoC Step}) = \\left\\{",
                "\n\\begin{array}{cl}",
                "\n\\text{self} & \\text{if AoC Step InputSource is not Calculated} \\\\",
                "\n\\text{The last AoC Step with Data Type != Calculated and same Novelty as the input AoC Step} ~, & \\text{if AoC Type } \\in \\text{\\{RCU, CF, IA, YCU, CRU\\}} \\\\",
                "\n\\text{AoC Step with AoC Type CF and Novelty as the AoC Step} & \\text{if AoC Type EA} \\\\",
                "\n\\text{AoC Step with AoC Type CL and Novelty C} & \\text{if AoC Type $\\in$ \\{AM, EOP\\}} \\\\",
                "\n\\text{empty} & \\text{if AoC Type is BOP} \\\\",
                "\n\\text{log NotSupportedAocStepReference error} & \\text{otherwise} \\\\",
                "\n\\end{array}",
                "\n\\right.",
                "\n$$",
                "\n",
                "\nwhere the last AoC Step is obtained by ordering the AoC Steps according to their order (as defined by its AoC Type) and taking the last one."
            ],
            "metadata": {},
            "execution_count": 0,
            "outputs": []
        },
        {
            "cell_type": "code",
            "source": [
                "public interface ReferenceAocStep : IScope<ImportIdentity, ImportStorage> ",
                "\n{",
                "\n    private IEnumerable<AocStep> OrderedParsedAocSteps => GetScope<GetIdentities>(Identity.DataNode).ParsedIdentities",
                "\n                                                                 .Select(id => new AocStep(id.AocType, id.Novelty))",
                "\n                                                                 .Distinct()",
                "\n                                                                 .OrderBy(aocStep => GetStorage().AocConfigurationByAocStep[aocStep].Order);",
                "\n    private AocStep identityAocStep => new AocStep(Identity.AocType, Identity.Novelty);",
                "\n    private AocStep GetReferenceAocStep(string aocType) {",
                "\n        return aocType switch {",
                "\n               AocTypes.RCU or AocTypes.CF or AocTypes.IA or AocTypes.YCU or AocTypes.CRU => OrderedParsedAocSteps.GetReferenceAocStepForCalculated(GetStorage().AocConfigurationByAocStep, identityAocStep),",
                "\n               AocTypes.EA => new AocStep(AocTypes.CF, Identity.Novelty),",
                "\n               AocTypes.AM or AocTypes.EOP => new AocStep(AocTypes.CL, Novelties.C),",
                "\n               AocTypes.BOP => GetStorage().GetShift(Identity.ProjectionPeriod) >= MonthInAYear && Identity.Novelty == Novelties.I ? new AocStep(AocTypes.CL, Novelties.C) : new AocStep(default, default), //BOP, C has DataType == Calculated. See ReferenceAocStep condition.",
                "\n               _ => (AocStep)ApplicationMessage.Log(Error.NotSupportedAocStepReference, Identity.AocType),",
                "\n        };",
                "\n    }",
                "\n",
                "\n    // The Reference AocStep from which get data (Nominal or PV) to compute",
                "\n    AocStep Value => GetStorage().AocConfigurationByAocStep[identityAocStep].DataType == DataType.Calculated ",
                "\n                     || GetStorage().AocConfigurationByAocStep[identityAocStep].DataType == DataType.CalculatedTelescopic ",
                "\n                                                ? GetReferenceAocStep(Identity.AocType)",
                "\n                                                : identityAocStep;",
                "\n}"
            ],
            "metadata": {},
            "execution_count": 0,
            "outputs": []
        },
        {
            "cell_type": "markdown",
            "source": [
                "## Previous AoC Steps",
                "\nThe **PreviousAocSteps** scope computes and provides another important piece of information for each [Identity](../DataModel/DataStructure#import-identity), i.e. for a certain [AoC Type](../DataModel/DataStructure#aoc-type) and [Novelty](../DataModel/DataStructure#novelty).",
                "\n",
                "\nIt provides the list of all previous AoC Steps up to the **BOP** step, whereby a Combined novelty will branch into the InForce and  New Business AoC Types.",
                "\n",
                "\nPreviousAocSteps is critical when computing aggregated values along the various dimensions (such as for example Line of Business) and ",
                "\nis formed by the ParentAocStep and its parent and so on until there is no parent.",
                "\n",
                "\n$$",
                "\n\\text{PreviousAocSteps}(\\rm{AocStep}) = \\{PAS_1, PAS_2, \\ldots\\}",
                "\n$$",
                "\nwhere",
                "\n$$",
                "\n\\rm{PAS}_1 = \\rm{ParentAocStep}(\\rm{AoC Step})",
                "\n$$",
                "\n$$",
                "\n\\rm{PAS}_2 = \\rm{ParentAocStep}(\\rm{PAS}_1).",
                "\n$$",
                "\n",
                "\nThis scope depends on the InputSource (Actual or Cashflow) for which the PreviousSteps are requested due to the AocChain differences between Actual reports and the rest."
            ],
            "metadata": {},
            "execution_count": 0,
            "outputs": []
        },
        {
            "cell_type": "code",
            "source": [
                "public interface PreviousAocSteps : IScope<(ImportIdentity Id, InputSource ScopeInputSource), ImportStorage> ",
                "\n{   ",
                "\n    private AocStep identityAocStep => new AocStep(Identity.Id.AocType, Identity.Id.Novelty);",
                "\n    private int aocStepOrder => GetStorage().AocConfigurationByAocStep[identityAocStep].Order;",
                "\n    private HashSet<AocStep> allAocSteps => GetStorage().GetAllAocSteps(Identity.ScopeInputSource).ToHashSet();",
                "\n    IEnumerable<AocStep> Values => allAocSteps.Contains(identityAocStep)",
                "\n                                        ? GetScope<GetIdentities>(Identity.Id.DataNode).Identities",
                "\n                                                                 .Select(id => new AocStep(id.AocType, id.Novelty))",
                "\n                                                                 .Distinct()",
                "\n                                                                 .Where(aoc => allAocSteps.Contains(aoc) && ",
                "\n                                                                               GetStorage().AocConfigurationByAocStep[aoc].Order < aocStepOrder && ",
                "\n                                                                               (Identity.Id.Novelty != Novelties.C ? aoc.Novelty == Identity.Id.Novelty : true) )",
                "\n                                                                 .OrderBy(aoc => GetStorage().AocConfigurationByAocStep[aoc].Order)",
                "\n                                        : Enumerable.Empty<AocStep>();",
                "\n} "
            ],
            "metadata": {},
            "execution_count": 0,
            "outputs": []
        },
        {
            "cell_type": "markdown",
            "source": [
                "The exact structure being return depends on the **order** of the AoC Steps (which is set by the [AoC Type](../DataModel/DataStructure#aoc-type)), and on which AoC steps exist."
            ],
            "metadata": {},
            "execution_count": 0,
            "outputs": []
        },
        {
            "cell_type": "code",
            "source": [
                ""
            ],
            "metadata": {},
            "execution_count": 0,
            "outputs": []
        }
    ]
}