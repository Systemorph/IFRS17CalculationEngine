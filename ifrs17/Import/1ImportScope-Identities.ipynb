{
    "metadata": {
        "authors": [],
        "id": "1-Sd2C2w2kaytthWS3cL1F",
        "kernelspec": {
            "display_name": "Formula Framework",
            "language": "C#",
            "name": "C#"
        },
        "language_info": {
            "file_extension": ".cs",
            "mimetype": "text/plain",
            "name": "C#"
        }
    },
    "nbformat": 4,
    "nbformat_minor": 5,
    "cells": [
        {
            "cell_type": "markdown",
            "source": [
                "<p style=\"font-weight:bold;\"> <span style=\"font-size: 36px\"> IFRS 17 Methodology </span> </p>",
                "\n<p style=\"font-weight:bold;\"> <span style=\"font-size: 24px\"> Business Logic with Scopes  </span> </p>",
                "\n"
            ],
            "metadata": {},
            "execution_count": 0,
            "outputs": []
        },
        {
            "cell_type": "markdown",
            "source": [
                "This notebook contains the logic used to perform calculations upon import of data (actuals and cash flows). This is also called 'Data Loading' and the concept of Scope is used here to define the logic and provide the means of executing the logic. Scopes are used to define and perform data handling in a structured and easy-to-read-through fashion.",
                "\n",
                "\n<br><br>",
                "\nImport scopes are divided in several notebooks:",
                "\n- Calculation of Identities",
                "\n- [Calculation of Present Values](../Import/2ImportScope-PresentValue)",
                "\n- [Calculation of Actuals](../Import/3ImportScope-Actuals)",
                "\n- [Calculation of Technical Margin](../Import/4ImportScope-TechnicalMargin)",
                "\n- [Creation of Ifrs Variables](../Import/5ImportScope-ToIfrsVar)",
                "\n- [Calculation of Ifrs Variables](../Import/6ImportScope-Compute)",
                "\n",
                "\n<br><br>",
                "\nIn this notebook the focus is on the defintion of the Identities and on the AoC Step structure and relations required for the computations. ",
                "\n"
            ],
            "metadata": {},
            "execution_count": 0,
            "outputs": []
        },
        {
            "cell_type": "markdown",
            "source": [
                "# References",
                "\nLibraries and other notebooks which are needed for this notebook are imported below."
            ],
            "metadata": {},
            "execution_count": 0,
            "outputs": []
        },
        {
            "cell_type": "markdown",
            "source": [
                "## Notebooks"
            ],
            "metadata": {},
            "execution_count": 0,
            "outputs": []
        },
        {
            "cell_type": "code",
            "source": [
                "#!import \"ImportStorage\""
            ],
            "metadata": {},
            "execution_count": 0,
            "outputs": []
        },
        {
            "cell_type": "markdown",
            "source": [
                "# IModel ",
                "\n",
                "\nThe <code>IModel</code> interface below will be used to execute calculations (i.e. evaluate the scopes) based on imported data."
            ],
            "metadata": {},
            "execution_count": 0,
            "outputs": []
        },
        {
            "cell_type": "code",
            "source": [
                "public interface IModel : IMutableScopeWithStorage<ImportStorage>{}"
            ],
            "metadata": {},
            "execution_count": 0,
            "outputs": []
        },
        {
            "cell_type": "markdown",
            "source": [
                "# Generate Identities",
                "\n",
                "\nAn [Identity](../DataModel/DataStructure#import-identity) is a set of identifiers for a certain set of data. In particular, an identity consists of a certain [AoC Type](../DataModel/DataStructure#aoc-type), [Novelty](../DataModel/DataStructure#novelty), [Data Node](../DataModel/DataStructure#data-node), Accident Year, and information on whether the data is for reinsurance or not. ",
                "\n",
                "\nGiven a certain Data Node and Accident Year, the interface <code>GetIdentities</code> returns all the existing identities (e.g. for Actuals and Cash flows) which have that Data Node and Accident Year."
            ],
            "metadata": {},
            "execution_count": 0,
            "outputs": []
        },
        {
            "cell_type": "code",
            "source": [
                "public interface GetParsedAocSteps : IScope<string, ImportStorage>",
                "\n{",
                "\n    IEnumerable<AocStep> Values => GetStorage().GetRawVariables(Identity).Select(x => new AocStep(x.AocType, x.Novelty)).Distinct();",
                "\n}"
            ],
            "metadata": {},
            "execution_count": 0,
            "outputs": []
        },
        {
            "cell_type": "code",
            "source": [
                "public interface GetIdentities : IScope<string, ImportStorage>",
                "\n{",
                "\n    static ApplicabilityBuilder ScopeApplicabilityBuilder(ApplicabilityBuilder builder) =>",
                "\n        builder.ForScope<GetIdentities>(s => s.WithApplicability<GetCashflowIdentities>(x => x.GetStorage().ImportFormat == ImportFormats.Cashflow));",
                "\n    ",
                "\n    protected IEnumerable<ImportIdentity> allIdentities => GetStorage().AocConfigurationByAocStep.Values.Select(x => new ImportIdentity {AocType = x.AocType, Novelty = x.Novelty, DataNode = Identity });",
                "\n",
                "\n    IEnumerable<ImportIdentity> Identities => allIdentities.Select(id => id with { IsReinsurance = GetStorage().DataNodeDataBySystemName[id.DataNode].IsReinsurance,",
                "\n                                                                                   ValuationApproach = GetStorage().DataNodeDataBySystemName[id.DataNode].ValuationApproach,",
                "\n                                                                                   LiabilityType = GetStorage().DataNodeDataBySystemName[id.DataNode].LiabilityType });",
                "\n    IEnumerable<AocStep> AocSteps => Identities.Select(id => new AocStep(id.AocType, id.Novelty)).Distinct();",
                "\n}",
                "\n",
                "\npublic interface GetCashflowIdentities : GetIdentities",
                "\n{",
                "\n    private bool isReinsurance => GetStorage().DataNodeDataBySystemName[Identity].IsReinsurance;",
                "\n    private IEnumerable<ImportIdentity> ParsedIdentities => GetScope<GetParsedAocSteps>(Identity).Values.Select(aocStep => new ImportIdentity {AocType = aocStep.AocType, Novelty = aocStep.Novelty, DataNode = Identity});",
                "\n    private IEnumerable<string> rawVariableNovelties => GetStorage().GetRawVariables(Identity).Select(rv => rv.Novelty).Concat(Novelties.C.RepeatOnce()).ToHashSet();",
                "\n    private IEnumerable<AocStep> calculatedAocSteps => GetStorage().AocConfigurationByAocStep.Values.Where(x => ComputationHelper.CurrentPeriodCalculatedDataTypes.Any(y => x.DataType.Contains(y)) &&",
                "\n        (!isReinsurance ? !ComputationHelper.ReinsuranceAocType.Contains(x.AocType) : true) && rawVariableNovelties.Contains(x.Novelty) ",
                "\n        || x.DataType.Contains(DataType.CalculatedProjection) ).Select(x => new AocStep(x.AocType, x.Novelty));",
                "\n    private IEnumerable<ImportIdentity> specialIdentities => calculatedAocSteps.Select(x => new ImportIdentity {AocType = x.AocType, Novelty = x.Novelty, DataNode = Identity })",
                "\n        .Concat(GetStorage().AocConfigurationByAocStep.Values.Where(x => (!isReinsurance ? !ComputationHelper.ReinsuranceAocType.Contains(x.AocType) : true) && x.DataType.Contains(DataType.Calculated) && x.Novelty == Novelties.I)",
                "\n        .Select(aocStep => new ImportIdentity{AocType = aocStep.AocType, Novelty = aocStep.Novelty, DataNode = Identity}));",
                "\n",
                "\n    IEnumerable<ImportIdentity> GetIdentities.allIdentities => ParsedIdentities.Concat(specialIdentities).Distinct();       ",
                "\n}"
            ],
            "metadata": {},
            "execution_count": 0,
            "outputs": []
        },
        {
            "cell_type": "markdown",
            "source": [
                "# Relevant Amount Types",
                "\n",
                "\nSimilarly, given a certain Data Node and Accident Year, the interface <code>ValidAmountType</code> returns all the amount types which are used in imported data with that Data Node and Accident Year."
            ],
            "metadata": {},
            "execution_count": 0,
            "outputs": []
        },
        {
            "cell_type": "code",
            "source": [
                "public interface ValidAmountType : IScope<string, ImportStorage>",
                "\n{",
                "\n    static ApplicabilityBuilder ScopeApplicabilityBuilder(ApplicabilityBuilder builder) =>",
                "\n                builder.ForScope<ValidAmountType>(s => s.WithApplicability<BeAmountTypesFromIfrsVariables>(x => x.GetStorage().ImportFormat != ImportFormats.Cashflow ||",
                "\n                                                                                                                x.GetStorage().IsSecondaryScope(x.Identity)));",
                "\n    ",
                "\n    IEnumerable<string> BeAmountTypes => GetStorage().GetRawVariables(Identity)",
                "\n        .Where(rv => rv.AmountType != null).Select(x => x.AmountType).Concat(",
                "\n            GetStorage().DataNodeDataBySystemName[Identity].IsReinsurance ",
                "\n                ? GetStorage().DataNodeDataBySystemName[Identity].LiabilityType == LiabilityTypes.LIC ",
                "\n                    ? new []{AmountTypes.CDR} : new []{AmountTypes.CDRI, AmountTypes.CDR} ",
                "\n                    : Enumerable.Empty<string>()).ToHashSet();",
                "\n    ",
                "\n    IEnumerable<string> ActualAmountTypes => GetStorage().GetIfrsVariables(Identity)",
                "\n        .Where(iv => GetStorage().EstimateTypesByImportFormat[ImportFormats.Actual].Contains(iv.EstimateType))",
                "\n        .Select(x => x.AmountType).ToHashSet();",
                "\n",
                "\n    IEnumerable<string> AllImportedAmountTypes => BeAmountTypes.Union(ActualAmountTypes);",
                "\n}",
                "\npublic interface BeAmountTypesFromIfrsVariables : ValidAmountType",
                "\n{",
                "\n    IEnumerable<string> ValidAmountType.BeAmountTypes => GetStorage().GetIfrsVariables(Identity)",
                "\n        .Where(iv => GetStorage().EstimateTypesByImportFormat[ImportFormats.Cashflow].Contains(iv.EstimateType) && iv.AmountType != null)",
                "\n        .Select(x => x.AmountType).ToHashSet();",
                "\n}"
            ],
            "metadata": {},
            "execution_count": 0,
            "outputs": []
        },
        {
            "cell_type": "markdown",
            "source": [
                "# AoC Step Structure",
                "\n",
                "\nThe AoC Step structure is constructed from the data which is delivered as input. It is assumed that it depends only on the Group of Contract (i.e. it is invariant across Amount types or Accident Year). "
            ],
            "metadata": {},
            "execution_count": 0,
            "outputs": []
        },
        {
            "cell_type": "markdown",
            "source": [
                "## Previous AoC Steps",
                "\nThe **PreviousAocSteps** scope computes and provides an important piece of information for each [Identity](../DataModel/DataStructure#import-identity), i.e. for a certain [AoC Type](../DataModel/DataStructure#aoc-type) and [Novelty](../DataModel/DataStructure#novelty).",
                "\n",
                "\nIt provides the list of all previous AoC Steps up to the **BOP** step, whereby a Combined novelty will branch into the InForce and New Business (and all other novelties) AoC Types.",
                "\n",
                "\nPreviousAocSteps is critical when computing aggregated values along the various dimensions (such as for example Line of Business) and ",
                "\nis used to compute the Parent AoC Steps and the Reference AoC Steps.",
                "\n",
                "\nThe adjacent AoC Steps prior to Identity one is called Parent Aoc Step (PAS). Thus the PreviousAocSteps is the collection of the identity parents and their parents and so on until there is no parent.",
                "\n",
                "\n$$",
                "\n\\text{PreviousAocSteps}(\\rm{AocStep}) = \\{PAS_1, PAS_2, \\ldots\\}",
                "\n$$",
                "\nwhere",
                "\n$$",
                "\n\\rm{PAS}_1 = \\rm{ParentAocStep}(\\rm{AoC Step})",
                "\n$$",
                "\n$$",
                "\n\\rm{PAS}_2 = \\rm{ParentAocStep}(\\rm{PAS}_1).",
                "\n$$",
                "\n",
                "\nThis scope depends on the InputSource (Actual or Cashflow) for which the PreviousSteps are requested due to the Aoc Chain differences between Actual reports and the rest.",
                "\n",
                "\nThe exact structure being return depends on the **order** of the AoC Steps (which is set by the [AoC Step Configuration](../DataModel/DataStructure#aoc-configuration)), and on which AoC steps exist."
            ],
            "metadata": {},
            "execution_count": 0,
            "outputs": []
        },
        {
            "cell_type": "code",
            "source": [
                "public interface PreviousAocSteps : IScope<(ImportIdentity Id, StructureType AocStructure), ImportStorage>",
                "\n{   ",
                "\n    private AocStep identityAocStep => new AocStep(Identity.Id.AocType, Identity.Id.Novelty);",
                "\n    private int aocStepOrder => GetStorage().AocConfigurationByAocStep[identityAocStep].Order;",
                "\n    private IEnumerable<AocStep> aocChainSteps => GetStorage().GetAllAocSteps(Identity.AocStructure);",
                "\n    IEnumerable<AocStep> Values => aocChainSteps.Contains(identityAocStep)",
                "\n        ? GetScope<GetIdentities>(Identity.Id.DataNode).AocSteps",
                "\n            .Where(aoc => aocChainSteps.Contains(aoc) && GetStorage().AocConfigurationByAocStep[aoc].Order < aocStepOrder && ",
                "\n                          (Identity.Id.Novelty != Novelties.C ? aoc.Novelty == Identity.Id.Novelty : true) )",
                "\n            .OrderBy(aoc => GetStorage().AocConfigurationByAocStep[aoc].Order)",
                "\n        : Enumerable.Empty<AocStep>();",
                "\n} "
            ],
            "metadata": {},
            "execution_count": 0,
            "outputs": []
        },
        {
            "cell_type": "markdown",
            "source": [
                "## Parent AoC Step ",
                "\nThe **ParentAocStep** scope computes and provides an important piece of information for each [Identity](../DataModel/DataStructure#import-identity), i.e. for a certain [AoC Type](../DataModel/DataStructure#aoc-type) and [Novelty](../DataModel/DataStructure#novelty).",
                "\n",
                "\nIt provides the list of the adjacent AoC Steps prior to Identity one. It can be more than one only for the step **CL** where a parent for each novelty is considered.",
                "\nParentAocStep is critical when computing the *telescoping* differences. ",
                "\n",
                "\nThey are defined as follows:",
                "\n",
                "\n$$",
                "\n\\text{ParentAocStep}(\\text{AoC Step}) = \\left\\{",
                "\n\\begin{array}{cl}",
                "\n\\text{empty} & \\text{if AoC Type BOP or is of DataType Calculated} \\\\",
                "\n\\text{Last of previous AoC Step for each Novelty} & \\text{if not BOP or Calculated but it is the first Combined AoC Step} \\\\",
                "\n\\text{Last of previous AoC Step of the same Novelty} & \\text{if not BOP or Calculated and not the first Combined AoC Step} \\\\",
                "\n\\end{array}",
                "\n\\right.",
                "\n$$",
                "\n",
                "\nwhere the last AoC Step is obtained by ordering the AoC Steps according to their order (as defined by its AoC Type) and taking the last one.",
                "\nNote that the DataType of an AocStep is defined in the [AoC Step Configuration](../DataModel/DataStructure#aoc-configuration) table.",
                "\n"
            ],
            "metadata": {},
            "execution_count": 0,
            "outputs": []
        },
        {
            "cell_type": "code",
            "source": [
                "public interface ParentAocStep : IScope<(ImportIdentity Id, string AmountType, StructureType AocStructure), ImportStorage>",
                "\n{",
                "\n    private IEnumerable<AocStep> CalculatedAocStep => GetStorage().AocConfigurationByAocStep.Where(kvp => kvp.Value.DataType.Contains(DataType.Calculated)).Select(kvp => kvp.Key);",
                "\n    ",
                "\n    private IEnumerable<AocStep> TelescopicStepToBeRemoved => Identity.AmountType == AmountTypes.CDR ? Enumerable.Empty<AocStep>() : GetStorage().AocConfigurationByAocStep.Where(kvp => kvp.Value.AocType == AocTypes.CRU).Select(kvp => kvp.Key);",
                "\n    private IEnumerable<AocStep> PreviousAocStepsNotCalculated => GetScope<PreviousAocSteps>((Identity.Id, Identity.AocStructure)).Values.Where(aoc => !CalculatedAocStep.Concat(TelescopicStepToBeRemoved).Contains(aoc));",
                "\n    private bool IsFirstCombinedStep => Identity.Id.Novelty == Novelties.C && !PreviousAocStepsNotCalculated.Any(aoc => aoc.Novelty == Novelties.C);",
                "\n    private bool IsCalculatedStep => CalculatedAocStep.Contains(new AocStep(Identity.Id.AocType, Identity.Id.Novelty));",
                "\n",
                "\n    IEnumerable<AocStep> Values => (Identity.Id.AocType == AocTypes.BOP || IsCalculatedStep, IsFirstCombinedStep) switch {",
                "\n        (true, _ ) => Enumerable.Empty<AocStep>(),",
                "\n        (false, true) => PreviousAocStepsNotCalculated.GroupBy(g => g.Novelty, (g, val) => val.Last()),",
                "\n        (false, false) => PreviousAocStepsNotCalculated.Last(aoc => aoc.Novelty == Identity.Id.Novelty).RepeatOnce(),",
                "\n    };",
                "\n}"
            ],
            "metadata": {},
            "execution_count": 0,
            "outputs": []
        },
        {
            "cell_type": "markdown",
            "source": [
                "## Reference AoC Step",
                "\n",
                "\nThe **ReferenceAocStep** scope provides the AoC Step from which to retrieve the data in order to compute its value (e.g. AoC Step EA retrieves Present Values, while AoC Step YCU retrieves Nominal).",
                "\n",
                "\nThey are defined as follows:",
                "\n",
                "\n$$",
                "\n\\text{ReferenceAocStep}(\\text{AoC Step}) = \\left\\{",
                "\n\\begin{array}{cl}",
                "\n\\text{The last AoC Step with Data Type != Calculated} ~, & \\text{if AoC Step is of DataType Calculated or CalculatedTelescopic} \\\\",
                "\n\\text{As defined by a custom setting} & \\text{otherwise if provided custom settings} \\\\",
                "\n\\text{self} & \\text{all other cases} \\\\",
                "\n\\end{array}",
                "\n\\right.",
                "\n$$",
                "\n",
                "\nwhere the last AoC Step is obtained by ordering the AoC Steps according to their order (as defined by its AoC Type) and taking the last one.",
                "\nCustom settings for the Reference AoC Step is given in [helper variables](../Utils/ImportCalculationMethods#helper-variables-used-in-calculation) and can be overwritten in custom projects. "
            ],
            "metadata": {},
            "execution_count": 0,
            "outputs": []
        },
        {
            "cell_type": "code",
            "source": [
                "// The Reference AocStep from which the data (Nominal or PV) is retrieved to to compute the current AoC Step",
                "\npublic interface ReferenceAocStep : IScope<ImportIdentity, ImportStorage>",
                "\n{",
                "\n    static ApplicabilityBuilder ScopeApplicabilityBuilder(ApplicabilityBuilder builder) =>",
                "\n                builder.ForScope<ReferenceAocStep>(s => s.WithApplicability<ReferenceAocStepForProjections>(x => x.GetStorage().GetShift(x.Identity.ProjectionPeriod) >= MonthInAYear));",
                "\n",
                "\n    protected AocStep identityAocStep => new AocStep(Identity.AocType, Identity.Novelty);",
                "\n",
                "\n    protected IEnumerable<AocStep> referenceForCalculated => GetScope<PreviousAocSteps>((Identity, StructureType.AocPresentValue)).Values",
                "\n        .GroupBy(g => g.Novelty, (g, val) => val.Last(aocStep => !ComputationHelper.CurrentPeriodCalculatedDataTypes.Any(dt => GetStorage().AocConfigurationByAocStep[aocStep].DataType.Contains(dt))));",
                "\n                ",
                "\n    protected bool IsCalculatedAocStep => ComputationHelper.CurrentPeriodCalculatedDataTypes.Any(dt => GetStorage().AocConfigurationByAocStep[identityAocStep].DataType.Contains(dt));",
                "\n    ",
                "\n    IEnumerable<AocStep> Values => (",
                "\n        IsCalculatedAocStep, ",
                "\n        ComputationHelper.ReferenceAocSteps.TryGetValue(identityAocStep, out var CustomDefinedReferenceAocStep) //IsCustomDefined",
                "\n        ) switch {",
                "\n            (true, false) => referenceForCalculated.Any(x => x.Novelty == Novelties.C) ? referenceForCalculated.Where(x => x.Novelty == Novelties.C) : referenceForCalculated,",
                "\n            (true, true) => CustomDefinedReferenceAocStep,",
                "\n            (false, _) => identityAocStep.RepeatOnce(),",
                "\n            };",
                "\n}",
                "\n",
                "\npublic interface ReferenceAocStepForProjections : ReferenceAocStep",
                "\n{",
                "\n    private bool IsInforce => Identity.Novelty == Novelties.I;",
                "\n",
                "\n    IEnumerable<AocStep> ReferenceAocStep.Values => (",
                "\n        IsCalculatedAocStep, ",
                "\n        ComputationHelper.ReferenceAocSteps.TryGetValue(identityAocStep, out var CustomDefinedReferenceAocStep), //IsCustomDefined",
                "\n        IsInforce",
                "\n        ) switch {",
                "\n            (true, false, false) => referenceForCalculated.Any(x => x.Novelty == Novelties.C) ? referenceForCalculated.Where(x => x.Novelty == Novelties.C) : referenceForCalculated,",
                "\n            (true, false, true) or (false, false, true) => new []{new AocStep(AocTypes.CL, Novelties.C)},",
                "\n            (true, true, _) or (false, true, true) => CustomDefinedReferenceAocStep,",
                "\n            (false, true, false) or (false, false, false) => identityAocStep.RepeatOnce(),",
                "\n            };",
                "\n}"
            ],
            "metadata": {},
            "execution_count": 0,
            "outputs": []
        },
        {
            "cell_type": "code",
            "source": [
                ""
            ],
            "metadata": {},
            "execution_count": 0,
            "outputs": []
        }
    ]
}