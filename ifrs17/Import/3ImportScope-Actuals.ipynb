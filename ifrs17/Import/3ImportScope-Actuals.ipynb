{
    "metadata": {
        "authors": [],
        "id": "1-Sd2C2w2kaytthWS3cL1P",
        "kernelspec": {
            "display_name": "Formula Framework",
            "language": "C#",
            "name": "C#"
        },
        "language_info": {
            "file_extension": ".cs",
            "mimetype": "text/plain",
            "name": "C#"
        }
    },
    "nbformat": 4,
    "nbformat_minor": 5,
    "cells": [
        {
            "cell_type": "markdown",
            "source": [
                "<p style=\"font-weight:bold;\"> <span style=\"font-size: 36px\"> IFRS 17 Methodology </span> </p>",
                "\n<p style=\"font-weight:bold;\"> <span style=\"font-size: 24px\"> Business Logic with Scopes  </span> </p>"
            ],
            "metadata": {},
            "execution_count": 0,
            "outputs": []
        },
        {
            "cell_type": "markdown",
            "source": [
                "In this notebook the focus is on the calculation of actuals values. "
            ],
            "metadata": {},
            "execution_count": 0,
            "outputs": []
        },
        {
            "cell_type": "markdown",
            "source": [
                "# References",
                "\nLibraries and other notebooks which are needed for this notebook are imported below."
            ],
            "metadata": {},
            "execution_count": 0,
            "outputs": []
        },
        {
            "cell_type": "markdown",
            "source": [
                "## Notebooks"
            ],
            "metadata": {},
            "execution_count": 0,
            "outputs": []
        },
        {
            "cell_type": "code",
            "source": [
                "#!import \"2ImportScope-PresentValue\""
            ],
            "metadata": {},
            "execution_count": 0,
            "outputs": []
        },
        {
            "cell_type": "markdown",
            "source": [
                "# Actual Values",
                "\n",
                "\nWe consider 4 types of Actual values, which are distinguished through their [Estimate Type](../DataModel/DataStructure#estimate-type):",
                "\n- [Actuals](#actuals) (A)",
                "\n- [Advance Actuals](#advance-actuals) (AA)",
                "\n- [Overdue Actuals](#overdue-actuals) (OA)",
                "\n- [Deferrable Actuals](#deferrable-actuals) (DA)",
                "\n",
                "\nwith the Estimate Type's system name shown between parenthesis above.",
                "\n",
                "\nThe following simplified AoC Chain applies for Advance and Overdue Actuals:",
                "\n<br>&emsp;BOP",
                "\n<br>&emsp;Release",
                "\n<br>&emsp;Write-off",
                "\n<br>&emsp;EOP"
            ],
            "metadata": {},
            "execution_count": 0,
            "outputs": []
        },
        {
            "cell_type": "markdown",
            "source": [
                "## Actual Base",
                "\n",
                "\nThe Actual Base sets values for actual, advance, and overdue as follows:",
                "\n",
                "\n$$",
                "\n\\text{Actual Base} (\\text{AoC step}) = \\left\\{",
                "\n\\begin{array}{rl}",
                "\n0 ~, & \\text{if AoC Step's AoC Type = AM} \\\\",
                "\n\\text{Actual Base}(\\rm{BOP}) + \\text{Actual Base}(\\rm{CF}) + \\text{Actual Base}(\\rm{WO}) ~, & \\text{if AoC Step's AoC Type = EOP and EstimateType is not A} \\\\",
                "\n\\text{Imported Actual} ~, & \\text{otherwise}",
                "\n\\end{array}",
                "\n\\right.",
                "\n$$",
                "\n",
                "\nwhere the value is also function of the [Estimate Type](../DataModel/DataStructure#EstimateType) and [Amount Type](../DataModel/DataStructure#AmountType), and the $\\text{Imported Actual}$ value is described [here]()."
            ],
            "metadata": {},
            "execution_count": 0,
            "outputs": []
        },
        {
            "cell_type": "code",
            "source": [
                "public interface ActualBase : IScope<(ImportIdentity Id, string AmountType, string EstimateType, int? AccidentYear), ImportStorage>",
                "\n{",
                "\n    static ApplicabilityBuilder ScopeApplicabilityBuilder(ApplicabilityBuilder builder) =>",
                "\n            builder.ForScope<ActualBase>(s => s.WithApplicability<EmptyValuesActual>(x => x.GetStorage().ImportFormat == ImportFormats.Actual ",
                "\n                                                                                       && !x.GetStorage().IsSecondaryScope(x.Identity.Id.DataNode)",
                "\n                                                                                       && x.Identity.Id.AocType == AocTypes.AM)",
                "\n                                               .WithApplicability<EndOfPeriodActual>(x => x.GetStorage().ImportFormat != ImportFormats.Cashflow ",
                "\n                                                                                       && !x.GetStorage().IsSecondaryScope(x.Identity.Id.DataNode)",
                "\n                                                                                       && x.Identity.Id.AocType == AocTypes.EOP ",
                "\n                                                                                       && x.Identity.EstimateType != EstimateTypes.A)",
                "\n                                       );",
                "\n    public double Value => GetStorage().GetValue(Identity.Id, Identity.AmountType, Identity.EstimateType, Identity.AccidentYear); ",
                "\n}",
                "\n",
                "\npublic interface EndOfPeriodActual : ActualBase",
                "\n{",
                "\n    double ActualBase.Value => GetScope<PreviousAocSteps>((Identity.Id, InputSource.Actual)).Values",
                "\n                                        .Sum(aocStep => GetScope<ActualBase>((Identity.Id with {AocType = aocStep.AocType, Novelty = aocStep.Novelty}, Identity.AmountType, Identity.EstimateType, Identity.AccidentYear)).Value);",
                "\n}",
                "\n",
                "\npublic interface EmptyValuesActual : ActualBase",
                "\n{",
                "\n    double ActualBase.Value => 0;",
                "\n}"
            ],
            "metadata": {},
            "execution_count": 0,
            "outputs": []
        },
        {
            "cell_type": "markdown",
            "source": [
                "## Actuals",
                "\nThe Actuals correspond to ActualBase values with estimate type $A$.",
                "\nThe only valid AoC Step is Release:",
                "\n",
                "\n$$",
                "\n\\text{Actual} (\\text{Release}) = \\text{Actual Base} (\\text{Release})|_{\\text{Estimate Type} = A}",
                "\n$$"
            ],
            "metadata": {},
            "execution_count": 0,
            "outputs": []
        },
        {
            "cell_type": "code",
            "source": [
                "public interface Actual : IScope<ImportIdentity, ImportStorage>",
                "\n{",
                "\n    [IdentityProperty][NotVisible][Dimension(typeof(EstimateType))]",
                "\n    string EstimateType => EstimateTypes.A;",
                "\n    ",
                "\n    private int?[] accidentYears => GetStorage().GetAccidentYears(Identity.DataNode).ToArray();",
                "\n    ",
                "\n    [NotVisible]",
                "\n    ActualBase[] Actuals => GetScope<ValidAmountType>(Identity.DataNode).ActualAmountTypes",
                "\n                                                            .SelectMany(at => accidentYears",
                "\n                                                                .Select(ay => GetScope<ActualBase>((Identity, at, EstimateType, ay)))).ToArray();",
                "\n}"
            ],
            "metadata": {},
            "execution_count": 0,
            "outputs": []
        },
        {
            "cell_type": "markdown",
            "source": [
                "## Advance Actuals",
                "\n",
                "\nAdvance Actuals are cash flows with due date inside the reporting period but occured *before* the reporting period - They include:",
                "\n- Receivable Claims",
                "\n- Receivable Expenses",
                "\n- Payable Premiums",
                "\n",
                "\nAdvance Actuals are given by",
                "\n",
                "\n$$",
                "\n\\text{Advance Actual} (\\text{AoC step}) = \\text{Actual Base} (\\text{AoC step})|_{\\text{Estimate Type} = AA}",
                "\n$$"
            ],
            "metadata": {},
            "execution_count": 0,
            "outputs": []
        },
        {
            "cell_type": "code",
            "source": [
                "public interface AdvanceActual : IScope<ImportIdentity, ImportStorage>",
                "\n{",
                "\n    [IdentityProperty][NotVisible][Dimension(typeof(EstimateType))]",
                "\n    string EstimateType => EstimateTypes.AA;",
                "\n    ",
                "\n    private int?[] accidentYears => GetStorage().GetAccidentYears(Identity.DataNode).ToArray();",
                "\n    ",
                "\n    [NotVisible]",
                "\n    ActualBase[] Actuals => GetScope<ValidAmountType>(Identity.DataNode).ActualAmountTypes",
                "\n                                                            .SelectMany(at => accidentYears",
                "\n                                                                .Select(ay => GetScope<ActualBase>((Identity, at, EstimateType, ay)))).ToArray();",
                "\n}"
            ],
            "metadata": {},
            "execution_count": 0,
            "outputs": []
        },
        {
            "cell_type": "markdown",
            "source": [
                "## Overdue Actuals",
                "\n",
                "\nOverdue Actuals are cash flows with due date inside the reporting period but occur *after* the reporting period - They contain:",
                "\n- Payable Claims",
                "\n- Payable Expenses",
                "\n- Receivable Premiums",
                "\n",
                "\nThe sign convention is the inverse of the default behavior - In particular: Premiums have positive value, whereas Claims and Expenses have negative value.",
                "\n",
                "\nThe Overdue Actuals are given by",
                "\n",
                "\n$$",
                "\n\\text{Overdue Actual} (\\text{AoC step}) = \\text{Actual Base} (\\text{AoC step})|_{\\text{Estimate Type} = OA}",
                "\n$$"
            ],
            "metadata": {},
            "execution_count": 0,
            "outputs": []
        },
        {
            "cell_type": "code",
            "source": [
                "public interface OverdueActual : IScope<ImportIdentity, ImportStorage>",
                "\n{",
                "\n    [IdentityProperty][NotVisible][Dimension(typeof(EstimateType))]",
                "\n    string EstimateType => EstimateTypes.OA;",
                "\n    ",
                "\n    private int?[] accidentYears => GetStorage().GetAccidentYears(Identity.DataNode).ToArray();",
                "\n    ",
                "\n    [NotVisible]",
                "\n    ActualBase[] Actuals => GetScope<ValidAmountType>(Identity.DataNode).ActualAmountTypes",
                "\n                                                            .SelectMany(at => accidentYears",
                "\n                                                                .Select(ay => GetScope<ActualBase>((Identity, at, EstimateType, ay)))).ToArray();",
                "\n}"
            ],
            "metadata": {},
            "execution_count": 0,
            "outputs": []
        },
        {
            "cell_type": "markdown",
            "source": [
                "## Deferrable Actuals",
                "\n",
                "\nFinally, Deferrable Actuals are given by",
                "\n",
                "\n$$",
                "\n\\text{Deferrable Actual} (\\text{AoC step}) = \\left\\{",
                "\n\\begin{array}{rl}",
                "\n\\sum_{\\text{Amount Type}~\\in~\\text{\\{ACA, AEA}\\}}\\text{Actual Base}(\\rm{CF})|_{\\text{Estimate Type = A}} ~, & \\text{if AoC Step's AoC Type = CF } \\\\",
                "\n- \\text{Amortization Factor} \\cdot \\big(  \\text{Deferrable Actual}(\\rm{BOP}) + \\text{Deferrable Actual}(\\rm{CF}) \\big) ~, & \\text{if AoC Step's AoC Type = AM } \\\\",
                "\n\\text{Deferrable Actual}(\\rm{BOP}) + \\text{Deferrable Actual}(\\rm{CF}) + \\text{Deferrable Actual}(\\rm{AM}) ~, & \\text{if AoC Step's AoC Type = EOP } \\\\",
                "\n\\text{Input Actual}|_{\\text{Estimate Type = DA}} ~, & \\text{ otherwise } \\\\",
                "\n\\end{array}",
                "\n\\right.",
                "\n$$",
                "\n",
                "\nwhere $ACA$ and $AEA$ are *Aquisition* Amount Types from **Attributable Commission** and **Attributable Expenses**, respectively."
            ],
            "metadata": {},
            "execution_count": 0,
            "outputs": []
        },
        {
            "cell_type": "code",
            "source": [
                "public interface DeferrableActual : IScope<ImportIdentity, ImportStorage>",
                "\n{",
                "\n    static ApplicabilityBuilder ScopeApplicabilityBuilder(ApplicabilityBuilder builder) =>",
                "\n            builder.ForScope<DeferrableActual>(s => s.WithApplicability<DeferrableActualForCurrentBasis>(x => x.Identity.ValuationApproach == ValuationApproaches.VFA, ",
                "\n                                                                                                              p => p.ForMember(s => s.EconomicBasis))",
                "\n                                                     .WithApplicability<ReleaseDeferrable>(x => x.Identity.AocType == AocTypes.CF)",
                "\n                                                     .WithApplicability<AmortizationDeferrable>(x => x.Identity.AocType == AocTypes.AM)",
                "\n                                                     .WithApplicability<EndOfPeriodDeferrable>(x => x.Identity.AocType == AocTypes.EOP)",
                "\n                                       );",
                "\n    ",
                "\n    [IdentityProperty][NotVisible][Dimension(typeof(EstimateType))]",
                "\n    string EstimateType => EstimateTypes.DA;",
                "\n    ",
                "\n    [NotVisible] string EconomicBasis => EconomicBases.L;",
                "\n    ",
                "\n    public double Value => GetStorage().GetValue(Identity, (string)null, EstimateType, (int?)null);",
                "\n}",
                "\n",
                "\npublic interface DeferrableActualForCurrentBasis : DeferrableActual",
                "\n{",
                "\n    [NotVisible] string DeferrableActual.EconomicBasis => EconomicBases.C;",
                "\n}",
                "\n",
                "\npublic interface ReleaseDeferrable : DeferrableActual",
                "\n{",
                "\n    double DeferrableActual.Value => GetStorage().GetAttributableExpenseAndCommissionAmountType().Sum(at => GetScope<ActualBase>((Identity, at, EstimateTypes.A, (int?)null)).Value);",
                "\n}",
                "\n",
                "\npublic interface AmortizationDeferrable : DeferrableActual",
                "\n{",
                "\n    private double AmortizationFactor => GetScope<CurrentPeriodAmortizationFactor>(Identity, o => o.WithContext(EconomicBasis)).Value;",
                "\n    private double AggregatedDeferrable => GetScope<PreviousAocSteps>((Identity, InputSource.Actual)).Values",
                "\n                                            .Sum(aocStep => GetScope<DeferrableActual>(Identity with {AocType = aocStep.AocType, Novelty = aocStep.Novelty}).Value);",
                "\n    double DeferrableActual.Value => -1d * AggregatedDeferrable * AmortizationFactor;",
                "\n}",
                "\n",
                "\npublic interface EndOfPeriodDeferrable : DeferrableActual",
                "\n{",
                "\n    double DeferrableActual.Value => GetScope<PreviousAocSteps>((Identity, InputSource.Actual)).Values",
                "\n                                        .Sum(aocStep => GetScope<DeferrableActual>(Identity with {AocType = aocStep.AocType, Novelty = aocStep.Novelty}).Value);",
                "\n}"
            ],
            "metadata": {},
            "execution_count": 0,
            "outputs": []
        },
        {
            "cell_type": "code",
            "source": [
                ""
            ],
            "metadata": {},
            "execution_count": 0,
            "outputs": []
        }
    ]
}