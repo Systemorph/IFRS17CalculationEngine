{
    "metadata": {
        "authors": [],
        "id": "1-Sd2C2w2kaytthWS3cL1W",
        "kernelspec": {
            "display_name": "Formula Framework",
            "language": "C#",
            "name": "C#"
        },
        "language_info": {
            "file_extension": ".cs",
            "mimetype": "text/plain",
            "name": "C#"
        }
    },
    "nbformat": 4,
    "nbformat_minor": 5,
    "cells": [
        {
            "cell_type": "markdown",
            "source": [
                "<p style=\"font-weight:bold;\"> <span style=\"font-size: 36px\"> IFRS 17 Methodology </span> </p>",
                "\n<p style=\"font-weight:bold;\"> <span style=\"font-size: 24px\"> Business Logic with Scopes  </span> </p>"
            ],
            "metadata": {},
            "execution_count": 0,
            "outputs": []
        },
        {
            "cell_type": "markdown",
            "source": [
                "Import scopes are divided in several notebooks:",
                "\n- [Calculation of Identities](../Import/1ImportScope-Identities)",
                "\n- [Calculation of Present Values](../Import/2ImportScope-PresentValue)",
                "\n- [Calculation of Actuals](../Import/3ImportScope-Actuals)",
                "\n- [Calculation of Technical Margin](../Import/4ImportScope-TechnicalMargin)",
                "\n- Creation of Ifrs Variables",
                "\n- [Calculation of Ifrs Variables](../Import/6ImportScope-Compute)",
                "\n",
                "\n<br><br>",
                "\nIn this notebook the focus is on the creation of Ifrs Variable from the Scopes."
            ],
            "metadata": {},
            "execution_count": 0,
            "outputs": []
        },
        {
            "cell_type": "markdown",
            "source": [
                "# References",
                "\nLibraries and other notebooks which are needed for this notebook are imported below."
            ],
            "metadata": {},
            "execution_count": 0,
            "outputs": []
        },
        {
            "cell_type": "markdown",
            "source": [
                "## Notebooks"
            ],
            "metadata": {},
            "execution_count": 0,
            "outputs": []
        },
        {
            "cell_type": "code",
            "source": [
                "#!import \"4ImportScope-TechnicalMargin\""
            ],
            "metadata": {},
            "execution_count": 0,
            "outputs": []
        },
        {
            "cell_type": "markdown",
            "source": [
                "# Computing All Scopes",
                "\n",
                "\nSince all the calculations defined in the various scopes are to be performed together, it is useful to introduce the scopes: <code>ComputeIfrsVarsActuals</code>, <code>ComputeIfrsVarsCashflows</code> and the <code>ComputeIfrsVarsOpenings</code> below, which given a certain Import Format and Import Storage, performs all the calculations (defined above) based on the corresponding data:"
            ],
            "metadata": {},
            "execution_count": 0,
            "outputs": []
        },
        {
            "cell_type": "code",
            "source": [
                "public interface PvToIfrsVariable: IScope<ImportIdentity, ImportStorage>",
                "\n{",
                "\n    IEnumerable<IfrsVariable> PvLocked => GetScope<PvLocked>(Identity).PresentValues.Select(x => ",
                "\n      new IfrsVariable{ EconomicBasis = x.EconomicBasis, ",
                "\n                        EstimateType = x.Identity.EstimateType, ",
                "\n                        DataNode = x.Identity.Id.DataNode, ",
                "\n                        AocType = x.Identity.Id.AocType, ",
                "\n                        Novelty = x.Identity.Id.Novelty, ",
                "\n                        AccidentYear = x.Identity.AccidentYear,",
                "\n                        AmountType = x.Identity.AmountType,",
                "\n                        Values = SetProjectionValue(x.Value, x.Identity.Id.ProjectionPeriod),",
                "\n                        Partition = GetStorage().TargetPartition });",
                "\n",
                "\n    IEnumerable<IfrsVariable> PvCurrent => GetScope<PvCurrent>(Identity).PresentValues.Select(x => ",
                "\n      new IfrsVariable{ EconomicBasis = x.EconomicBasis, ",
                "\n                        EstimateType = x.Identity.EstimateType, ",
                "\n                        DataNode = x.Identity.Id.DataNode, ",
                "\n                        AocType = x.Identity.Id.AocType, ",
                "\n                        Novelty = x.Identity.Id.Novelty, ",
                "\n                        AccidentYear = x.Identity.AccidentYear,",
                "\n                        AmountType = x.Identity.AmountType,",
                "\n                        Values = SetProjectionValue(x.Value, x.Identity.Id.ProjectionPeriod),",
                "\n                        Partition = GetStorage().TargetPartition });",
                "\n}"
            ],
            "metadata": {},
            "execution_count": 0,
            "outputs": []
        },
        {
            "cell_type": "code",
            "source": [
                "public interface NominalToIfrsVariable: IScope<ImportIdentity, ImportStorage>",
                "\n{",
                "\n    IEnumerable<IfrsVariable> CumulatedNominal => GetScope<CumulatedNominalBE>(Identity).PresentValues",
                "\n    .Concat(GetScope<CumulatedNominalRA>(Identity).PresentValues)",
                "\n    .Select(x => new IfrsVariable{ EconomicBasis = x.EconomicBasis, ",
                "\n                        EstimateType = x.Identity.EstimateType, ",
                "\n                        DataNode = x.Identity.Id.DataNode, ",
                "\n                        AocType = x.Identity.Id.AocType, ",
                "\n                        Novelty = x.Identity.Id.Novelty, ",
                "\n                        AccidentYear = x.Identity.AccidentYear,",
                "\n                        AmountType = x.Identity.AmountType,",
                "\n                        Values = SetProjectionValue(x.Value, x.Identity.Id.ProjectionPeriod), ",
                "\n                        Partition = GetStorage().TargetPartition });",
                "\n}"
            ],
            "metadata": {},
            "execution_count": 0,
            "outputs": []
        },
        {
            "cell_type": "code",
            "source": [
                "public interface RaToIfrsVariable: IScope<ImportIdentity, ImportStorage>",
                "\n{",
                "\n    IEnumerable<IfrsVariable> RaCurrent => GetScope<RaCurrent>(Identity).PresentValues.Select(x => ",
                "\n      new IfrsVariable{ EconomicBasis = x.EconomicBasis, ",
                "\n                        EstimateType = x.Identity.EstimateType, ",
                "\n                        DataNode = x.Identity.Id.DataNode, ",
                "\n                        AocType = x.Identity.Id.AocType, ",
                "\n                        Novelty = x.Identity.Id.Novelty, ",
                "\n                        AccidentYear = x.Identity.AccidentYear,",
                "\n                        AmountType = null,",
                "\n                        Values = SetProjectionValue(x.Value, x.Identity.Id.ProjectionPeriod),",
                "\n                        Partition = GetStorage().TargetPartition });",
                "\n                        ",
                "\n    IEnumerable<IfrsVariable> RaLocked => GetScope<RaLocked>(Identity).PresentValues.Select(x => ",
                "\n      new IfrsVariable{ EconomicBasis = x.EconomicBasis, ",
                "\n                        EstimateType = x.Identity.EstimateType, ",
                "\n                        DataNode = x.Identity.Id.DataNode, ",
                "\n                        AocType = x.Identity.Id.AocType, ",
                "\n                        Novelty = x.Identity.Id.Novelty, ",
                "\n                        AccidentYear = x.Identity.AccidentYear,",
                "\n                        AmountType = null,",
                "\n                        Values = SetProjectionValue(x.Value, x.Identity.Id.ProjectionPeriod),",
                "\n                        Partition = GetStorage().TargetPartition });",
                "\n}"
            ],
            "metadata": {},
            "execution_count": 0,
            "outputs": []
        },
        {
            "cell_type": "code",
            "source": [
                "public interface ActualToIfrsVariable: IScope<ImportIdentity, ImportStorage>",
                "\n{",
                "\n    IEnumerable<IfrsVariable> Actual => GetScope<Actual>(Identity).Actuals.Select(x => ",
                "\n      new IfrsVariable{ EstimateType = x.Identity.EstimateType,",
                "\n                        DataNode = x.Identity.Id.DataNode,",
                "\n                        AocType = x.Identity.Id.AocType,",
                "\n                        Novelty = x.Identity.Id.Novelty,",
                "\n                        AccidentYear = x.Identity.AccidentYear,",
                "\n                        AmountType = x.Identity.AmountType,",
                "\n                        Values = SetProjectionValue(x.Value, x.Identity.Id.ProjectionPeriod),",
                "\n                        Partition = GetStorage().TargetPartition });",
                "\n                        ",
                "\n    IEnumerable<IfrsVariable> AdvanceActual => GetScope<AdvanceActual>(Identity).Actuals.Select(x => ",
                "\n      new IfrsVariable{ EstimateType = x.Identity.EstimateType,",
                "\n                        DataNode = x.Identity.Id.DataNode,",
                "\n                        AocType = x.Identity.Id.AocType,",
                "\n                        Novelty = x.Identity.Id.Novelty,",
                "\n                        AccidentYear = x.Identity.AccidentYear,",
                "\n                        AmountType = x.Identity.AmountType,",
                "\n                        Values = SetProjectionValue(x.Value, x.Identity.Id.ProjectionPeriod),",
                "\n                        Partition = GetStorage().TargetPartition });",
                "\n",
                "\n   IEnumerable<IfrsVariable> OverdueActual => GetScope<OverdueActual>(Identity).Actuals.Select(x => ",
                "\n      new IfrsVariable{ EstimateType = x.Identity.EstimateType,",
                "\n                        DataNode = x.Identity.Id.DataNode,",
                "\n                        AocType = x.Identity.Id.AocType,",
                "\n                        Novelty = x.Identity.Id.Novelty,",
                "\n                        AccidentYear = x.Identity.AccidentYear,",
                "\n                        AmountType = x.Identity.AmountType,",
                "\n                        Values = SetProjectionValue(x.Value, x.Identity.Id.ProjectionPeriod),",
                "\n                        Partition = GetStorage().TargetPartition });",
                "\n}"
            ],
            "metadata": {},
            "execution_count": 0,
            "outputs": []
        },
        {
            "cell_type": "code",
            "source": [
                "public interface DeferrableToIfrsVariable: IScope<ImportIdentity, ImportStorage>",
                "\n{",
                "\n    IEnumerable<IfrsVariable> DeferrableActual => GetScope<DeferrableActual>(Identity).RepeatOnce().Select(x => ",
                "\n        new IfrsVariable{ EstimateType = x.EstimateType,",
                "\n                          DataNode = x.Identity.DataNode,",
                "\n                          AocType = x.Identity.AocType,",
                "\n                          Novelty = x.Identity.Novelty,",
                "\n                          AccidentYear = null,",
                "\n                          Values = SetProjectionValue(x.Value, x.Identity.ProjectionPeriod),",
                "\n                          Partition = GetStorage().TargetPartition });",
                "\n}"
            ],
            "metadata": {},
            "execution_count": 0,
            "outputs": []
        },
        {
            "cell_type": "code",
            "source": [
                "public interface EaForPremiumToIfrsVariable: IScope<ImportIdentity, ImportStorage>",
                "\n{",
                "\n    IEnumerable<IfrsVariable> BeEAForPremium => GetStorage().DataNodeDataBySystemName[Identity.DataNode].LiabilityType == LiabilityTypes.LIC",
                "\n                                                || Identity.IsReinsurance",
                "\n                            ? Enumerable.Empty<IfrsVariable>()",
                "\n                            : GetScope<BeExperienceAdjustmentForPremium>(Identity)",
                "\n                              .ByAmountType",
                "\n                              .Select(sc => new IfrsVariable{ EstimateType = GetScope<BeExperienceAdjustmentForPremium>(Identity).EstimateType, ",
                "\n                                                              DataNode = sc.Identity.Id.DataNode, ",
                "\n                                                              AocType = sc.Identity.Id.AocType, ",
                "\n                                                              Novelty = sc.Identity.Id.Novelty, ",
                "\n                                                              AccidentYear = sc.Identity.AccidentYear,",
                "\n                                                              EconomicBasis = sc.EconomicBasis,",
                "\n                                                              AmountType = sc.Identity.AmountType,",
                "\n                                                              Values = SetProjectionValue(sc.Value, sc.Identity.Id.ProjectionPeriod),",
                "\n                                                              Partition = sc.GetStorage().TargetPartition });",
                "\n    ",
                "\n    IEnumerable<IfrsVariable> ActEAForPremium => GetStorage().DataNodeDataBySystemName[Identity.DataNode].LiabilityType == LiabilityTypes.LIC",
                "\n                                                 || Identity.IsReinsurance",
                "\n                            ? Enumerable.Empty<IfrsVariable>()",
                "\n                            : GetScope<ActualExperienceAdjustmentOnPremium>(Identity)",
                "\n                                .ByAmountTypeAndEstimateType",
                "\n                                .Select(sc => new IfrsVariable{ EstimateType = GetStorage().ExperienceAdjustEstimateTypeMapping[sc.Identity.EstimateType], ",
                "\n                                                 DataNode = sc.Identity.Id.DataNode, ",
                "\n                                                 AocType = sc.Identity.Id.AocType, ",
                "\n                                                 Novelty = sc.Identity.Id.Novelty, ",
                "\n                                                 AccidentYear = sc.Identity.AccidentYear,",
                "\n                                                 //EconomicBasis = scope.EconomicBasis,",
                "\n                                                 AmountType = sc.Identity.AmountType,",
                "\n                                                 Values = SetProjectionValue(sc.Value, sc.Identity.Id.ProjectionPeriod),",
                "\n                                                 Partition = GetStorage().TargetPartition });",
                "\n}"
            ],
            "metadata": {},
            "execution_count": 0,
            "outputs": []
        },
        {
            "cell_type": "code",
            "source": [
                "public interface TmToIfrsVariable: IScope<ImportIdentity, ImportStorage>",
                "\n{",
                "\n    private string EconomicBasis => Identity.ValuationApproach == ValuationApproaches.VFA ? EconomicBases.C : EconomicBases.L;",
                "\n    IEnumerable<IfrsVariable> AmortizationFactor => Identity.AocType == AocTypes.AM",
                "\n                                                                            ? GetScope<CurrentPeriodAmortizationFactor>(Identity, o => o.WithContext(EconomicBasis))",
                "\n                                                                                .RepeatOnce()",
                "\n                                                                                .Select(x => new IfrsVariable{ EstimateType = x.EstimateType,",
                "\n                                                                                                               DataNode = x.Identity.DataNode,",
                "\n                                                                                                               AocType = x.Identity.AocType,",
                "\n                                                                                                               Novelty = x.Identity.Novelty,",
                "\n                                                                                                               EconomicBasis = x.EconomicBasis,",
                "\n                                                                                                               Values = SetProjectionValue(x.Value, x.Identity.ProjectionPeriod),",
                "\n                                                                                                               Partition = GetStorage().TargetPartition",
                "\n                                                                                                               })",
                "\n                                                                            : Enumerable.Empty<IfrsVariable>();",
                "\n    IEnumerable<IfrsVariable> Csms => GetStorage().DataNodeDataBySystemName[Identity.DataNode].LiabilityType == LiabilityTypes.LIC",
                "\n                            ? Enumerable.Empty<IfrsVariable>()",
                "\n                            : GetScope<ContractualServiceMargin>(Identity).RepeatOnce()",
                "\n                              .Select(x => new IfrsVariable{ EstimateType = x.EstimateType,",
                "\n                                   DataNode = x.Identity.DataNode,",
                "\n                                   AocType = x.Identity.AocType,",
                "\n                                   Novelty = x.Identity.Novelty,",
                "\n                                   Values = SetProjectionValue(x.Value, x.Identity.ProjectionPeriod),",
                "\n                                   Partition = GetStorage().TargetPartition",
                "\n                                });",
                "\n",
                "\n     IEnumerable<IfrsVariable> Loss => GetStorage().DataNodeDataBySystemName[Identity.DataNode].LiabilityType == LiabilityTypes.LIC",
                "\n                             ? Enumerable.Empty<IfrsVariable>()",
                "\n                             : Identity.IsReinsurance ",
                "\n                                ? GetScope<LossRecoveryComponent>(Identity).RepeatOnce()",
                "\n                                    .Select(x => new IfrsVariable{ EstimateType = x.EstimateType,",
                "\n                                                                   DataNode = x.Identity.DataNode,",
                "\n                                                                   AocType = x.Identity.AocType,",
                "\n                                                                   Novelty = x.Identity.Novelty,",
                "\n                                                                   Values = SetProjectionValue(x.Value, x.Identity.ProjectionPeriod),",
                "\n                                                                   Partition = GetStorage().TargetPartition",
                "\n                                                                })",
                "\n                                : GetScope<LossComponent>(Identity).RepeatOnce()",
                "\n                                    .Select(x => new IfrsVariable{ EstimateType = x.EstimateType,",
                "\n                                                                   DataNode = x.Identity.DataNode,",
                "\n                                                                   AocType = x.Identity.AocType,",
                "\n                                                                   Novelty = x.Identity.Novelty,",
                "\n                                                                   Values = SetProjectionValue(x.Value, x.Identity.ProjectionPeriod),",
                "\n                                                                   Partition = GetStorage().TargetPartition",
                "\n                                                                });",
                "\n}"
            ],
            "metadata": {},
            "execution_count": 0,
            "outputs": []
        },
        {
            "cell_type": "code",
            "source": [
                ""
            ],
            "metadata": {},
            "execution_count": 0,
            "outputs": []
        }
    ]
}