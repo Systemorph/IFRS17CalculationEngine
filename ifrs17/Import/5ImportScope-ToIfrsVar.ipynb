{
    "metadata": {
        "authors": [],
        "id": "1-Sd2C2w2kaytthWS3cL1W",
        "kernelspec": {
            "display_name": "Formula Framework",
            "language": "C#",
            "name": "C#"
        },
        "language_info": {
            "file_extension": ".cs",
            "mimetype": "text/plain",
            "name": "C#"
        }
    },
    "nbformat": 4,
    "nbformat_minor": 5,
    "cells": [
        {
            "cell_type": "markdown",
            "source": [
                "<p style=\"font-weight:bold;\"> <span style=\"font-size: 36px\"> IFRS 17 Methodology </span> </p>",
                "\n<p style=\"font-weight:bold;\"> <span style=\"font-size: 24px\"> Business Logic with Scopes  </span> </p>"
            ],
            "metadata": {},
            "execution_count": 0,
            "outputs": []
        },
        {
            "cell_type": "markdown",
            "source": [
                "Import scopes are divided in several notebooks:",
                "\n- [Calculation of Identities](../Import/1ImportScope-Identities)",
                "\n- [Calculation of Present Values](../Import/2ImportScope-PresentValue)",
                "\n- [Calculation of Actuals](../Import/3ImportScope-Actuals)",
                "\n- [Calculation of Technical Margin](../Import/4ImportScope-TechnicalMargin)",
                "\n- Creation of Ifrs Variables",
                "\n- [Calculation of Ifrs Variables](../Import/6ImportScope-Compute)",
                "\n",
                "\n<br><br>",
                "\nIn this notebook the focus is on the creation of Ifrs Variable from the Scopes."
            ],
            "metadata": {},
            "execution_count": 0,
            "outputs": []
        },
        {
            "cell_type": "markdown",
            "source": [
                "# References",
                "\nLibraries and other notebooks which are needed for this notebook are imported below."
            ],
            "metadata": {},
            "execution_count": 0,
            "outputs": []
        },
        {
            "cell_type": "markdown",
            "source": [
                "## Notebooks"
            ],
            "metadata": {},
            "execution_count": 0,
            "outputs": []
        },
        {
            "cell_type": "code",
            "source": [
                "#!import \"4ImportScope-TechnicalMargin\""
            ],
            "metadata": {},
            "execution_count": 0,
            "outputs": []
        },
        {
            "cell_type": "markdown",
            "source": [
                "# Computing All Scopes",
                "\n",
                "\nSince all the calculations defined in the various scopes are to be performed together, it is useful to introduce the scopes: <code>ComputeIfrsVarsActuals</code>, <code>ComputeIfrsVarsCashflows</code> and the <code>ComputeIfrsVarsOpenings</code> below, which given a certain Import Format and Import Storage, performs all the calculations (defined above) based on the corresponding data:"
            ],
            "metadata": {},
            "execution_count": 0,
            "outputs": []
        },
        {
            "cell_type": "markdown",
            "source": [
                "## Pv"
            ],
            "metadata": {},
            "execution_count": 0,
            "outputs": []
        },
        {
            "cell_type": "code",
            "source": [
                "public interface PvToIfrsVariable: IScope<ImportIdentity, ImportStorage>",
                "\n{",
                "\n  static ApplicabilityBuilder ScopeApplicabilityBuilder(ApplicabilityBuilder builder) =>",
                "\n        builder.ForScope<PvToIfrsVariable>(s => s.WithApplicability<EmptyPvIfrsVariable>(x => ComputationHelper.AocStepWithNoPv.Contains(new AocStep(x.Identity.AocType, x.Identity.Novelty))));",
                "\n",
                "\n  IEnumerable<IfrsVariable> PvLocked => GetScope<PvLocked>(Identity).PresentValues.Select(x => ",
                "\n    new IfrsVariable{ EconomicBasis = x.EconomicBasis, ",
                "\n                      EstimateType = x.Identity.EstimateType, ",
                "\n                      DataNode = x.Identity.Id.DataNode, ",
                "\n                      AocType = x.Identity.Id.AocType, ",
                "\n                      Novelty = x.Identity.Id.Novelty, ",
                "\n                      AccidentYear = x.Identity.AccidentYear,",
                "\n                      AmountType = x.Identity.AmountType,",
                "\n                      Values = SetProjectionValue(x.Value, x.Identity.Id.ProjectionPeriod),",
                "\n                      Partition = GetStorage().TargetPartition });",
                "\n  IEnumerable<IfrsVariable> PvCurrent => GetScope<PvCurrent>(Identity).PresentValues.Select(x => ",
                "\n    new IfrsVariable{ EconomicBasis = x.EconomicBasis, ",
                "\n                      EstimateType = x.Identity.EstimateType, ",
                "\n                      DataNode = x.Identity.Id.DataNode, ",
                "\n                      AocType = x.Identity.Id.AocType, ",
                "\n                      Novelty = x.Identity.Id.Novelty, ",
                "\n                      AccidentYear = x.Identity.AccidentYear,",
                "\n                      AmountType = x.Identity.AmountType,",
                "\n                      Values = SetProjectionValue(x.Value, x.Identity.Id.ProjectionPeriod),",
                "\n                      Partition = GetStorage().TargetPartition });",
                "\n}",
                "\n",
                "\npublic interface EmptyPvIfrsVariable: PvToIfrsVariable{",
                "\n  IEnumerable<IfrsVariable> PvToIfrsVariable.PvLocked => Enumerable.Empty<IfrsVariable>();",
                "\n  IEnumerable<IfrsVariable> PvToIfrsVariable.PvCurrent => Enumerable.Empty<IfrsVariable>();",
                "\n}",
                "\n"
            ],
            "metadata": {},
            "execution_count": 0,
            "outputs": []
        },
        {
            "cell_type": "markdown",
            "source": [
                "## Nominal"
            ],
            "metadata": {},
            "execution_count": 0,
            "outputs": []
        },
        {
            "cell_type": "code",
            "source": [
                "public interface NominalToIfrsVariable: IScope<ImportIdentity, ImportStorage>",
                "\n{",
                "\n    IEnumerable<IfrsVariable> CumulatedNominal => GetScope<CumulatedNominalBE>(Identity).PresentValues",
                "\n    .Concat(GetScope<CumulatedNominalRA>(Identity).PresentValues)",
                "\n    .Select(x => new IfrsVariable{ EconomicBasis = x.EconomicBasis, ",
                "\n                        EstimateType = x.Identity.EstimateType, ",
                "\n                        DataNode = x.Identity.Id.DataNode, ",
                "\n                        AocType = x.Identity.Id.AocType, ",
                "\n                        Novelty = x.Identity.Id.Novelty, ",
                "\n                        AccidentYear = x.Identity.AccidentYear,",
                "\n                        AmountType = x.Identity.AmountType,",
                "\n                        Values = SetProjectionValue(x.Value, x.Identity.Id.ProjectionPeriod), ",
                "\n                        Partition = GetStorage().TargetPartition });",
                "\n}"
            ],
            "metadata": {},
            "execution_count": 0,
            "outputs": []
        },
        {
            "cell_type": "markdown",
            "source": [
                "## RiskAdjustment"
            ],
            "metadata": {},
            "execution_count": 0,
            "outputs": []
        },
        {
            "cell_type": "code",
            "source": [
                "public interface RaToIfrsVariable: IScope<ImportIdentity, ImportStorage>",
                "\n{",
                "\n    IEnumerable<IfrsVariable> RaCurrent => GetScope<RaCurrent>(Identity).PresentValues.Select(x => ",
                "\n      new IfrsVariable{ EconomicBasis = x.EconomicBasis, ",
                "\n                        EstimateType = x.Identity.EstimateType, ",
                "\n                        DataNode = x.Identity.Id.DataNode, ",
                "\n                        AocType = x.Identity.Id.AocType, ",
                "\n                        Novelty = x.Identity.Id.Novelty, ",
                "\n                        AccidentYear = x.Identity.AccidentYear,",
                "\n                        AmountType = null,",
                "\n                        Values = SetProjectionValue(x.Value, x.Identity.Id.ProjectionPeriod),",
                "\n                        Partition = GetStorage().TargetPartition });",
                "\n                        ",
                "\n    IEnumerable<IfrsVariable> RaLocked => GetScope<RaLocked>(Identity).PresentValues.Select(x => ",
                "\n      new IfrsVariable{ EconomicBasis = x.EconomicBasis, ",
                "\n                        EstimateType = x.Identity.EstimateType, ",
                "\n                        DataNode = x.Identity.Id.DataNode, ",
                "\n                        AocType = x.Identity.Id.AocType, ",
                "\n                        Novelty = x.Identity.Id.Novelty, ",
                "\n                        AccidentYear = x.Identity.AccidentYear,",
                "\n                        AmountType = null,",
                "\n                        Values = SetProjectionValue(x.Value, x.Identity.Id.ProjectionPeriod),",
                "\n                        Partition = GetStorage().TargetPartition });",
                "\n}"
            ],
            "metadata": {},
            "execution_count": 0,
            "outputs": []
        },
        {
            "cell_type": "markdown",
            "source": [
                "## Actuals"
            ],
            "metadata": {},
            "execution_count": 0,
            "outputs": []
        },
        {
            "cell_type": "code",
            "source": [
                "public interface ActualToIfrsVariable: IScope<ImportIdentity, ImportStorage>",
                "\n{",
                "\n    IEnumerable<IfrsVariable> Actual => GetScope<Actual>(Identity).Actuals.Select(x => ",
                "\n      new IfrsVariable{ EstimateType = x.Identity.EstimateType,",
                "\n                        DataNode = x.Identity.Id.DataNode,",
                "\n                        AocType = x.Identity.Id.AocType,",
                "\n                        Novelty = x.Identity.Id.Novelty,",
                "\n                        AccidentYear = x.Identity.AccidentYear,",
                "\n                        AmountType = x.Identity.AmountType,",
                "\n                        Values = SetProjectionValue(x.Value, x.Identity.Id.ProjectionPeriod),",
                "\n                        Partition = GetStorage().TargetPartition });",
                "\n                        ",
                "\n    IEnumerable<IfrsVariable> AdvanceActual => GetScope<AdvanceActual>(Identity).Actuals.Select(x => ",
                "\n      new IfrsVariable{ EstimateType = x.Identity.EstimateType,",
                "\n                        DataNode = x.Identity.Id.DataNode,",
                "\n                        AocType = x.Identity.Id.AocType,",
                "\n                        Novelty = x.Identity.Id.Novelty,",
                "\n                        AccidentYear = x.Identity.AccidentYear,",
                "\n                        AmountType = x.Identity.AmountType,",
                "\n                        Values = SetProjectionValue(x.Value, x.Identity.Id.ProjectionPeriod),",
                "\n                        Partition = GetStorage().TargetPartition });",
                "\n",
                "\n   IEnumerable<IfrsVariable> OverdueActual => GetScope<OverdueActual>(Identity).Actuals.Select(x => ",
                "\n      new IfrsVariable{ EstimateType = x.Identity.EstimateType,",
                "\n                        DataNode = x.Identity.Id.DataNode,",
                "\n                        AocType = x.Identity.Id.AocType,",
                "\n                        Novelty = x.Identity.Id.Novelty,",
                "\n                        AccidentYear = x.Identity.AccidentYear,",
                "\n                        AmountType = x.Identity.AmountType,",
                "\n                        Values = SetProjectionValue(x.Value, x.Identity.Id.ProjectionPeriod),",
                "\n                        Partition = GetStorage().TargetPartition });",
                "\n}"
            ],
            "metadata": {},
            "execution_count": 0,
            "outputs": []
        },
        {
            "cell_type": "markdown",
            "source": [
                "## Deferrable"
            ],
            "metadata": {},
            "execution_count": 0,
            "outputs": []
        },
        {
            "cell_type": "code",
            "source": [
                "public interface DeferrableToIfrsVariable: IScope<ImportIdentity, ImportStorage>",
                "\n{",
                "\n    protected string EconomicBasis => GetStorage().GetEconomicBasisDriver(Identity.DataNode);",
                "\n    private int timeStep => GetStorage().GetTimeStep(Identity.ProjectionPeriod); ",
                "\n",
                "\n    IEnumerable<IfrsVariable> Deferrable => EconomicBasis switch {",
                "\n        EconomicBases.N => Enumerable.Range(0, timeStep).SelectMany(shift => ",
                "\n            GetScope<NominalDeferrable>((Identity, shift)).RepeatOnce()",
                "\n                .Select(x => new IfrsVariable{ EstimateType = x.EstimateType,",
                "\n                          EconomicBasis = EconomicBases.N,",
                "\n                          DataNode = x.Identity.Id.DataNode,",
                "\n                          AocType = x.Identity.Id.AocType,",
                "\n                          Novelty = x.Identity.Id.Novelty,",
                "\n                          AccidentYear = shift,",
                "\n                          Values = SetProjectionValue(x.Value, x.Identity.Id.ProjectionPeriod),",
                "\n                          Partition = GetStorage().TargetPartition })),",
                "\n        _ => GetScope<DiscountedDeferrable>(Identity).RepeatOnce()",
                "\n                .Select(x => new IfrsVariable{ EstimateType = x.EstimateType,",
                "\n                          EconomicBasis = x.EconomicBasis,",
                "\n                          DataNode = x.Identity.DataNode,",
                "\n                          AocType = x.Identity.AocType,",
                "\n                          Novelty = x.Identity.Novelty,",
                "\n                          Values = SetProjectionValue(x.Value, x.Identity.ProjectionPeriod),",
                "\n                          Partition = GetStorage().TargetPartition }),",
                "\n    };",
                "\n",
                "\n    private IEnumerable<IfrsVariable> amortizationStep => Deferrable.Where(iv => iv.Values != null).Where(iv => Math.Abs(iv.Values.GetValidElement(Identity.ProjectionPeriod)) > Precision);",
                "\n",
                "\n    IEnumerable<IfrsVariable> DeferrableAmFactor => (Identity.AocType, amortizationStep.Any(), EconomicBasis) switch {",
                "\n        (AocTypes.AM, true, EconomicBases.N) => amortizationStep.Select(x => x.AccidentYear.Value).SelectMany(shift => ",
                "\n            GetScope<CurrentPeriodAmortizationFactor>((Identity, AmountTypes.DAE, shift), o => o.WithContext(EconomicBases.N)).RepeatOnce() //hardcoded AmountType: DAE for pattern",
                "\n                .Select(x => new IfrsVariable{ EstimateType = x.EstimateType,",
                "\n                          EconomicBasis = EconomicBases.N,",
                "\n                          DataNode = x.Identity.Id.DataNode,",
                "\n                          AocType = Identity.AocType,",
                "\n                          Novelty = Identity.Novelty,",
                "\n                          AmountType = x.EffectiveAmountType,",
                "\n                          AccidentYear = shift,",
                "\n                          Values = SetProjectionValue(x.Value, x.Identity.Id.ProjectionPeriod),",
                "\n                          Partition = GetStorage().TargetPartition })),",
                "\n        (AocTypes.AM, true, _) => GetScope<DiscountedAmortizationFactorForDeferrals>(Identity, o => o.WithContext(EconomicBasis)).RepeatOnce()",
                "\n            .Select(x => new IfrsVariable{ EstimateType = EstimateTypes.F,",
                "\n                          EconomicBasis = EconomicBasis,",
                "\n                          DataNode = x.Identity.DataNode,",
                "\n                          AocType = x.Identity.AocType,",
                "\n                          Novelty = x.Identity.Novelty,",
                "\n                          AmountType = x.EffectiveAmountType,",
                "\n                          Values = SetProjectionValue(x.Value, x.Identity.ProjectionPeriod),",
                "\n                          Partition = GetStorage().TargetPartition }),",
                "\n        (_) => Enumerable.Empty<IfrsVariable>(),",
                "\n    };",
                "\n}"
            ],
            "metadata": {},
            "execution_count": 0,
            "outputs": []
        },
        {
            "cell_type": "markdown",
            "source": [
                "## Premium Revenues"
            ],
            "metadata": {},
            "execution_count": 0,
            "outputs": []
        },
        {
            "cell_type": "code",
            "source": [
                "public interface RevenueToIfrsVariable: IScope<ImportIdentity, ImportStorage>",
                "\n{",
                "\n    static ApplicabilityBuilder ScopeApplicabilityBuilder(ApplicabilityBuilder builder) =>",
                "\n        builder.ForScope<RevenueToIfrsVariable>(s => s",
                "\n            .WithApplicability<EmptyRevenue>(x => !(x.Identity.ValuationApproach == ValuationApproaches.PAA && x.GetStorage().DataNodeDataBySystemName[x.Identity.DataNode].LiabilityType == LiabilityTypes.LRC)));",
                "\n",
                "\n    protected string EconomicBasis => GetStorage().GetEconomicBasisDriver(Identity.DataNode);",
                "\n    private int timeStep => GetStorage().GetTimeStep(Identity.ProjectionPeriod); ",
                "\n",
                "\n    IEnumerable<IfrsVariable> Revenue => GetScope<PremiumRevenue>(Identity).RepeatOnce()",
                "\n            .Select(x => new IfrsVariable{ EstimateType = x.EstimateType,",
                "\n                          EconomicBasis = x.EconomicBasis,",
                "\n                          DataNode = x.Identity.DataNode,",
                "\n                          AocType = x.Identity.AocType,",
                "\n                          Novelty = x.Identity.Novelty,",
                "\n                          Values = SetProjectionValue(x.Value, x.Identity.ProjectionPeriod),",
                "\n                          Partition = GetStorage().TargetPartition });",
                "\n    ",
                "\n    private bool hasAmortizationStep => Revenue.Where(iv => iv.Values != null).Any(iv => Math.Abs(iv.Values.GetValidElement(Identity.ProjectionPeriod)) > Precision);",
                "\n",
                "\n    IEnumerable<IfrsVariable> RevenueAmFactor =>  Identity.AocType == AocTypes.AM && hasAmortizationStep",
                "\n        ? GetScope<DiscountedAmortizationFactorForRevenues>(Identity, o => o.WithContext(EconomicBasis)).RepeatOnce()",
                "\n            .Select(x => new IfrsVariable{ EstimateType = EstimateTypes.F,",
                "\n                          EconomicBasis = EconomicBasis,",
                "\n                          DataNode = x.Identity.DataNode,",
                "\n                          AocType = x.Identity.AocType,",
                "\n                          Novelty = x.Identity.Novelty,",
                "\n                          AmountType = x.EffectiveAmountType,",
                "\n                          Values = SetProjectionValue(x.Value, x.Identity.ProjectionPeriod),",
                "\n                          Partition = GetStorage().TargetPartition })",
                "\n        : Enumerable.Empty<IfrsVariable>();",
                "\n}",
                "\npublic interface EmptyRevenue : RevenueToIfrsVariable{",
                "\n    IEnumerable<IfrsVariable> RevenueToIfrsVariable.Revenue => Enumerable.Empty<IfrsVariable>();",
                "\n    IEnumerable<IfrsVariable> RevenueToIfrsVariable.RevenueAmFactor => Enumerable.Empty<IfrsVariable>();",
                "\n}"
            ],
            "metadata": {},
            "execution_count": 0,
            "outputs": []
        },
        {
            "cell_type": "markdown",
            "source": [
                "## Experience Adj. for Premium"
            ],
            "metadata": {},
            "execution_count": 0,
            "outputs": []
        },
        {
            "cell_type": "code",
            "source": [
                "public interface EaForPremiumToIfrsVariable: IScope<ImportIdentity, ImportStorage>",
                "\n{",
                "\n  private string EconomicBasis => GetStorage().GetEconomicBasisDriver(Identity.DataNode);",
                "\n  IEnumerable<IfrsVariable> BeEAForPremium => GetStorage().DataNodeDataBySystemName[Identity.DataNode].LiabilityType == LiabilityTypes.LIC || Identity.IsReinsurance",
                "\n    ? Enumerable.Empty<IfrsVariable>()",
                "\n    : GetScope<BeExperienceAdjustmentForPremium>(Identity, o => o.WithContext(EconomicBasis)).RepeatOnce()",
                "\n      .Select(sc => new IfrsVariable{ EstimateType = sc.EstimateType, ",
                "\n                                      DataNode = sc.Identity.DataNode, ",
                "\n                                      AocType = sc.Identity.AocType, ",
                "\n                                      Novelty = sc.Identity.Novelty, ",
                "\n                                      EconomicBasis = sc.EconomicBasis,",
                "\n                                      AmountType = sc.AmountType,",
                "\n                                      Values = SetProjectionValue(sc.Value, sc.Identity.ProjectionPeriod),",
                "\n                                      Partition = sc.GetStorage().TargetPartition });",
                "\n    ",
                "\n  IEnumerable<IfrsVariable> ActEAForPremium => GetStorage().DataNodeDataBySystemName[Identity.DataNode].LiabilityType == LiabilityTypes.LIC || Identity.IsReinsurance",
                "\n    ? Enumerable.Empty<IfrsVariable>()",
                "\n    : GetScope<ActualExperienceAdjustmentOnPremium>(Identity).RepeatOnce()",
                "\n        .Select(sc => new IfrsVariable{ EstimateType = sc.EstimateType, ",
                "\n                         DataNode = sc.Identity.DataNode, ",
                "\n                         AocType = sc.Identity.AocType, ",
                "\n                         Novelty = sc.Identity.Novelty, ",
                "\n                         AmountType = sc.AmountType,",
                "\n                         Values = SetProjectionValue(sc.Value, sc.Identity.ProjectionPeriod),",
                "\n                         Partition = GetStorage().TargetPartition });",
                "\n}"
            ],
            "metadata": {},
            "execution_count": 0,
            "outputs": []
        },
        {
            "cell_type": "markdown",
            "source": [
                "## Technical margin"
            ],
            "metadata": {},
            "execution_count": 0,
            "outputs": []
        },
        {
            "cell_type": "code",
            "source": [
                "public interface TmToIfrsVariable: IScope<ImportIdentity, ImportStorage>",
                "\n{",
                "\n    static ApplicabilityBuilder ScopeApplicabilityBuilder(ApplicabilityBuilder builder) =>",
                "\n        builder.ForScope<TmToIfrsVariable>(s => s.WithApplicability<EmptyTmIfrsVariable>(x => ComputationHelper.AocStepWithNoCsm.Contains(new AocStep(x.Identity.AocType, x.Identity.Novelty))));",
                "\n",
                "\n    private string economicBasis => Identity.ValuationApproach == ValuationApproaches.VFA ? EconomicBases.C : EconomicBases.L;",
                "\n    private IEnumerable<string> amountTypesForTm => GetScope<TechnicalMarginAmountType>((Identity, EstimateTypes.C)).Values;",
                "\n    private bool hasTechnicalMargin => GetStorage().ImportFormat switch {",
                "\n        ImportFormats.Cashflow => GetStorage().GetRawVariables(Identity.DataNode).Any(x => x.EstimateType == EstimateTypes.RA || ",
                "\n            (x.EstimateType == EstimateTypes.BE && amountTypesForTm.Contains(x.AmountType))),",
                "\n        _ => GetStorage().GetIfrsVariables(Identity.DataNode).Any(x => !GetStorage().EstimateTypesByImportFormat[ImportFormats.Actual].Contains(x.EstimateType) && ",
                "\n            amountTypesForTm.Contains(x.AmountType))",
                "\n    };",
                "\n",
                "\n    IEnumerable<IfrsVariable> Csms => GetStorage().DataNodeDataBySystemName[Identity.DataNode].LiabilityType == LiabilityTypes.LIC || Identity.ValuationApproach == ValuationApproaches.PAA",
                "\n        ? Enumerable.Empty<IfrsVariable>()",
                "\n        : GetScope<ContractualServiceMargin>(Identity).RepeatOnce()",
                "\n          .Select(x => new IfrsVariable{ EstimateType = x.EstimateType,",
                "\n               DataNode = x.Identity.DataNode,",
                "\n               AocType = x.Identity.AocType,",
                "\n               Novelty = x.Identity.Novelty,",
                "\n               EconomicBasis = economicBasis,",
                "\n               Values = SetProjectionValue(x.Value, x.Identity.ProjectionPeriod),",
                "\n               Partition = GetStorage().TargetPartition",
                "\n            });",
                "\n",
                "\n     IEnumerable<IfrsVariable> Loss => GetStorage().DataNodeDataBySystemName[Identity.DataNode].LiabilityType == LiabilityTypes.LIC ||",
                "\n                                       (Identity.ValuationApproach == ValuationApproaches.PAA && !hasTechnicalMargin )",
                "\n        ? Enumerable.Empty<IfrsVariable>()",
                "\n        : Identity.IsReinsurance ",
                "\n           ? GetScope<LossRecoveryComponent>(Identity).RepeatOnce()",
                "\n               .Select(x => new IfrsVariable{ EstimateType = x.EstimateType,",
                "\n                                              DataNode = x.Identity.DataNode,",
                "\n                                              AocType = x.Identity.AocType,",
                "\n                                              Novelty = x.Identity.Novelty,",
                "\n                                              EconomicBasis = economicBasis,",
                "\n                                              Values = SetProjectionValue(x.Value, x.Identity.ProjectionPeriod),",
                "\n                                              Partition = GetStorage().TargetPartition",
                "\n                                           })",
                "\n           : GetScope<LossComponent>(Identity).RepeatOnce()",
                "\n               .Select(x => new IfrsVariable{ EstimateType = x.EstimateType,",
                "\n                                              DataNode = x.Identity.DataNode,",
                "\n                                              AocType = x.Identity.AocType,",
                "\n                                              Novelty = x.Identity.Novelty,",
                "\n                                              EconomicBasis = economicBasis,",
                "\n                                              Values = SetProjectionValue(x.Value, x.Identity.ProjectionPeriod),",
                "\n                                              Partition = GetStorage().TargetPartition",
                "\n                                           });",
                "\n    ",
                "\n    IEnumerable<IfrsVariable> AmortizationFactor =>  Identity.AocType == AocTypes.AM && Loss.Concat(Csms).Where(x => x.Values != null).Any(x => Math.Abs(x.Values.GetValidElement(Identity.ProjectionPeriod)) > Precision)",
                "\n        && GetStorage().DataNodeDataBySystemName[Identity.DataNode].LiabilityType == LiabilityTypes.LRC && ",
                "\n        (Identity.ValuationApproach != ValuationApproaches.PAA || hasTechnicalMargin )",
                "\n        ? GetScope<CurrentPeriodAmortizationFactor>((Identity, AmountTypes.CU, 0), o => o.WithContext(economicBasis)).RepeatOnce()",
                "\n            .Select(x => new IfrsVariable{ EstimateType = x.EstimateType,",
                "\n                                           DataNode = x.Identity.Id.DataNode,",
                "\n                                           AocType = x.Identity.Id.AocType,",
                "\n                                           Novelty = x.Identity.Id.Novelty,",
                "\n                                           AmountType = x.EffectiveAmountType,",
                "\n                                           EconomicBasis = x.EconomicBasis,",
                "\n                                           Values = SetProjectionValue(x.Value, x.Identity.Id.ProjectionPeriod),",
                "\n                                           Partition = GetStorage().TargetPartition",
                "\n                                           })",
                "\n        : Enumerable.Empty<IfrsVariable>();",
                "\n}",
                "\n",
                "\npublic interface EmptyTmIfrsVariable: TmToIfrsVariable {",
                "\n    IEnumerable<IfrsVariable> TmToIfrsVariable.Csms => Enumerable.Empty<IfrsVariable>();",
                "\n    IEnumerable<IfrsVariable> TmToIfrsVariable.Loss => Enumerable.Empty<IfrsVariable>();",
                "\n    IEnumerable<IfrsVariable> TmToIfrsVariable.AmortizationFactor => Enumerable.Empty<IfrsVariable>();",
                "\n}"
            ],
            "metadata": {},
            "execution_count": 0,
            "outputs": []
        },
        {
            "cell_type": "code",
            "source": [
                ""
            ],
            "metadata": {},
            "execution_count": 0,
            "outputs": []
        }
    ]
}