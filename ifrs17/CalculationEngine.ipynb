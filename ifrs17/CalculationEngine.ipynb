{
    "metadata": {
        "authors": [],
        "id": "3_nIwm38IECvWgOZZlFUPw",
        "kernelspec": {
            "display_name": "Formula Framework",
            "language": "C#",
            "name": "C#"
        },
        "language_info": {
            "file_extension": ".cs",
            "mimetype": "text/plain",
            "name": "C#"
        }
    },
    "nbformat": 4,
    "nbformat_minor": 5,
    "cells": [
        {
            "cell_type": "code",
            "source": [
                "#!import \"DataModel/DataStructure\"",
                "\n#!import \"Report/ReportMutableScopes\"",
                "\n#!import \"Report/ReportMutableScopesInteractive\"",
                "\n#!import \"Import/Importers\"",
                "\n#!import \"Export/ExportConfiguration\"",
                "\n#!import \"Utils/TestHelper\"",
                "\n#!import \"Utils/ActivityLog\"",
                "\n#!import \"Report/ParameterReportsQueries\""
            ],
            "metadata": {},
            "execution_count": 0,
            "outputs": []
        },
        {
            "cell_type": "code",
            "source": [
                "var ifrs17 = new Ifrs17(Workspace, Scopes, Report, Export);"
            ],
            "metadata": {},
            "execution_count": 0,
            "outputs": []
        },
        {
            "cell_type": "code",
            "source": [
                "var ifrs17Interactive = new Ifrs17Interactive(Workspace, Report, Export, InteractiveObject);"
            ],
            "metadata": {},
            "execution_count": 0,
            "outputs": []
        }
    ]
}