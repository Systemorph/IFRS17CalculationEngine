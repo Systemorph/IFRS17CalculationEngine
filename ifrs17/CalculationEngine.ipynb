{
    "metadata": {
        "authors": [],
        "kernelspec": {
            "display_name": "Formula Framework",
            "language": "C#",
            "name": "C#"
        },
        "language_info": {
            "file_extension": ".cs",
            "mimetype": "text/plain",
            "name": "C#"
        }
    },
    "nbformat": 4,
    "nbformat_minor": 5,
    "cells": [
        {
            "id": "lx6moIFczkyb5a8hEBu_6Q",
            "cell_type": "code",
            "source": [
                "#!import \"DataModel/DataStructure\"",
                "\n#!import \"Report/ReportMutableScopes\"",
                "\n#!import \"Import/Importers\"",
                "\n#!import \"Export/ExportConfiguration\"",
                "\n#!import \"Utils/TestHelper\""
            ],
            "metadata": {},
            "execution_count": 0,
            "outputs": []
        },
        {
            "id": "Tc-fiN15c0q-DNnqPEEVQg",
            "cell_type": "code",
            "source": [
                "var ifrs17Report = new Ifrs17Reports(Workspace, Scopes, Report);"
            ],
            "metadata": {},
            "execution_count": 0,
            "outputs": []
        }
    ]
}