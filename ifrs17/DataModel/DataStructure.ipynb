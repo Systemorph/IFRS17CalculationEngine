{
    "metadata": {
        "authors": [],
        "id": "zcY4j_S910ekEPwNfp1dWA",
        "kernelspec": {
            "display_name": "Formula Framework",
            "language": "C#",
            "name": "C#"
        },
        "language_info": {
            "file_extension": ".cs",
            "mimetype": "text/plain",
            "name": "C#"
        }
    },
    "nbformat": 4,
    "nbformat_minor": 5,
    "cells": [
        {
            "cell_type": "markdown",
            "source": [
                "<a id='data-structure'></a>",
                "\n<p style=\"font-weight:bold;\"> <span style=\"font-size: 36px\"> Data Model </span> </p>",
                "\n",
                "\nThis notebook has the main structures used to hold data - This is usually called the **data model**."
            ],
            "metadata": {},
            "execution_count": 0,
            "outputs": []
        },
        {
            "cell_type": "markdown",
            "source": [
                "# References",
                "\nThis section initializes libraries and code from other notebooks, which will be used here, as well as information needed for querying data from the database."
            ],
            "metadata": {},
            "execution_count": 0,
            "outputs": []
        },
        {
            "cell_type": "markdown",
            "source": [
                "## Libraries"
            ],
            "metadata": {},
            "execution_count": 0,
            "outputs": []
        },
        {
            "cell_type": "code",
            "source": [
                "#r \"nuget:Systemorph.Activities,1.6.5\"",
                "\n#r \"nuget:Systemorph.Arithmetics,1.6.5\"",
                "\n#r \"nuget:Systemorph.Workspace,1.6.4\"",
                "\n#r \"nuget:Systemorph.InteractiveObjects,1.6.5\"",
                "\n//#r \"nuget:Systemorph.SharePoint,1.6.5\"",
                "\n//#r \"nuget:Systemorph.OneDrive,1.6.5\"",
                "\n#r \"nuget:Systemorph.Scopes,1.6.5\"",
                "\n#r \"nuget:Systemorph.Import,1.6.7\"",
                "\n#r \"nuget:Systemorph.Test,1.6.5\"",
                "\n#r \"nuget:Systemorph.Export,1.6.7\"",
                "\n#r \"nuget:Systemorph.DataSetReader,1.6.6\"",
                "\n#r \"nuget:Systemorph.DataSource,1.6.4\"",
                "\n#r \"nuget:Systemorph.DataSource.Conversions,1.6.4\"",
                "\n#r \"nuget:Systemorph.Reporting,1.6.5\"",
                "\n#r \"nuget:Systemorph.Charting,1.6.5\"",
                "\n#r \"nuget:Systemorph.SchemaMigrations,1.6.4\""
            ],
            "metadata": {},
            "execution_count": 0,
            "outputs": []
        },
        {
            "cell_type": "markdown",
            "source": [
                "## Usings"
            ],
            "metadata": {},
            "execution_count": 0,
            "outputs": []
        },
        {
            "cell_type": "code",
            "source": [
                "using System.ComponentModel.DataAnnotations;",
                "\nusing System.ComponentModel.DataAnnotations.Schema;",
                "\nusing Systemorph.Vertex.Grid.Model;",
                "\nusing Systemorph.Vertex.Workspace;",
                "\nusing Systemorph.Vertex.Activities;",
                "\nusing Systemorph.Vertex.Import;",
                "\nusing static Systemorph.Vertex.Arithmetics.ArithmeticOperations;"
            ],
            "metadata": {},
            "execution_count": 0,
            "outputs": []
        },
        {
            "cell_type": "markdown",
            "source": [
                "## Notebooks"
            ],
            "metadata": {},
            "execution_count": 0,
            "outputs": []
        },
        {
            "cell_type": "code",
            "source": [
                "#!import \"../Constants/Enums\"",
                "\n#!import \"../Constants/Consts\"",
                "\n#!import \"../Constants/Validations\""
            ],
            "metadata": {},
            "execution_count": 0,
            "outputs": []
        },
        {
            "cell_type": "markdown",
            "source": [
                "# Data Infrastructure"
            ],
            "metadata": {},
            "execution_count": 0,
            "outputs": []
        },
        {
            "cell_type": "markdown",
            "source": [
                "<a id='base-interfaces'></a>",
                "\n## Base Interfaces",
                "\nThe following interfaces are used to define the granularity at which data is stored.",
                "\n",
                "\nFor instance, the IKeyed interface corresponds to the lowest granularity which is simply a unique identifier for a certain generic piece of data."
            ],
            "metadata": {},
            "execution_count": 0,
            "outputs": []
        },
        {
            "cell_type": "code",
            "source": [
                "public interface IKeyed",
                "\n{   ",
                "\n    public Guid Id { get; init; }",
                "\n}"
            ],
            "metadata": {},
            "execution_count": 0,
            "outputs": []
        },
        {
            "cell_type": "markdown",
            "source": [
                "The interface IPartition identifies the partitions in the system."
            ],
            "metadata": {},
            "execution_count": 0,
            "outputs": []
        },
        {
            "cell_type": "code",
            "source": [
                "public interface IPartition : IKeyed {}"
            ],
            "metadata": {},
            "execution_count": 0,
            "outputs": []
        },
        {
            "cell_type": "markdown",
            "source": [
                "The interface IPartitioned simply assigns a unique identifier for elements of a data partition - The exact definition of such elements can be found in the [partition](#partition) section below."
            ],
            "metadata": {},
            "execution_count": 0,
            "outputs": []
        },
        {
            "cell_type": "code",
            "source": [
                "public interface IPartitioned",
                "\n{",
                "\n    public Guid Partition { get; init; }",
                "\n}"
            ],
            "metadata": {},
            "execution_count": 0,
            "outputs": []
        },
        {
            "cell_type": "markdown",
            "source": [
                "The interface IWithYearAndMonth allows to specify to which year and month a certain piece of data applies to."
            ],
            "metadata": {},
            "execution_count": 0,
            "outputs": []
        },
        {
            "cell_type": "code",
            "source": [
                "public interface IWithYearAndMonth",
                "\n{",
                "\n    public int Year { get; init; }",
                "\n    ",
                "\n    public int Month { get; init; }",
                "\n}"
            ],
            "metadata": {},
            "execution_count": 0,
            "outputs": []
        },
        {
            "cell_type": "markdown",
            "source": [
                "The interface IWithYearMonthAndScenario allows to identify the year, month and scenario associated to the data."
            ],
            "metadata": {},
            "execution_count": 0,
            "outputs": []
        },
        {
            "cell_type": "code",
            "source": [
                "public interface IWithYearMonthAndScenario : IWithYearAndMonth",
                "\n{",
                "\n    public string Scenario { get; init; }",
                "\n}"
            ],
            "metadata": {},
            "execution_count": 0,
            "outputs": []
        },
        {
            "cell_type": "markdown",
            "source": [
                "<a id='abstract-classes'></a>",
                "\n## Abstract Classes",
                "\nThese classes are not reflected in the database, i.e. are not persisted."
            ],
            "metadata": {},
            "execution_count": 0,
            "outputs": []
        },
        {
            "cell_type": "code",
            "source": [
                "public abstract record KeyedRecord : IKeyed {",
                "\n    [Key]",
                "\n    [NotVisible]     ",
                "\n    public Guid Id { get; init; }",
                "\n}"
            ],
            "metadata": {},
            "execution_count": 0,
            "outputs": []
        },
        {
            "cell_type": "code",
            "source": [
                "public abstract record KeyedDimension : INamed {",
                "\n    [Key]",
                "\n    [IdentityProperty]",
                "\n    [StringLength(50)]",
                "\n    public string SystemName { get; init; }",
                "\n    ",
                "\n    [NotVisible]",
                "\n    public string DisplayName { get; init; }",
                "\n}"
            ],
            "metadata": {},
            "execution_count": 0,
            "outputs": []
        },
        {
            "cell_type": "code",
            "source": [
                "public abstract record KeyedOrderedDimension : KeyedDimension, IOrdered {",
                "\n    [NotVisible]",
                "\n    public int Order { get; init; }",
                "\n}"
            ],
            "metadata": {},
            "execution_count": 0,
            "outputs": []
        },
        {
            "cell_type": "code",
            "source": [
                "public abstract record KeyedOrderedDimensionWithExternalId : KeyedOrderedDimension {",
                "\n    [Conversion(typeof(JsonConverter<string[]>))]",
                "\n    public string[] ExternalId { get; init; }",
                "\n}"
            ],
            "metadata": {},
            "execution_count": 0,
            "outputs": []
        },
        {
            "cell_type": "markdown",
            "source": [
                "<a id='dimensions'></a>",
                "\n# Dimensions",
                "\n",
                "\nDimensions are data which typically can be given a short name, here called 'System Name'. They also change slowly with time. A typical example is currencies, and examples of System Names are EUR, CHF, etc.",
                "\n",
                "\nThe advantages of using Dimensions are:",
                "\n- The data is easier to maintain (the data is said to be 'normalized');",
                "\n- The business logic is easier to read;",
                "\n- Easier scructuring of the data, e.g. in a data-cube."
            ],
            "metadata": {},
            "execution_count": 0,
            "outputs": []
        },
        {
            "cell_type": "markdown",
            "source": [
                "<a id='hierarchical-dimension-with-level'></a>",
                "\n## Hierarchical Dimension With Level",
                "\nHierarchical dimensions are useful to define for example the legal structure of a company (reporting nodes and their parents).",
                "\n",
                "\nBelow we introduce the concept of a hierarchical dimension with level, which is a simple way to keep track of the \"level\" in a hierarchical dimension."
            ],
            "metadata": {},
            "execution_count": 0,
            "outputs": []
        },
        {
            "cell_type": "code",
            "source": [
                "public record HierarchicalDimensionWithLevel(string SystemName, string DisplayName, string Parent, int Level) : IHierarchicalDimension;"
            ],
            "metadata": {},
            "execution_count": 0,
            "outputs": []
        },
        {
            "cell_type": "markdown",
            "source": [
                "<a id='amount-type'></a>",
                "\n## Amount Type"
            ],
            "metadata": {},
            "execution_count": 0,
            "outputs": []
        },
        {
            "cell_type": "markdown",
            "source": [
                "Amount Type is a dimension used to describe the nature of numbers. For example: Numbers associated to the payment of premiums have Amount Type 'Premiums'; Numbers associated to the payment of claims have Amount Type 'Claims'; Numbers associated to expenses have Amount Type 'Expenses'. ",
                "\n",
                "\nIt is defined as a hierarchical dimension so that higher-granularity types can be introduced. For example: 'Claim Expenses' have parent 'Claims'.",
                "\n",
                "\nAmount Types are a central piece in the IFRS 17 application and are used for instance to name the different types of cash flows. For example: There might be cash flows for 'Premiums'; Cash flows for 'Claims', etc. In case the mapping between cash flow and amount type is non-trivial, then specific mappings are introduced through the use of <code>ExternalId</code>."
            ],
            "metadata": {},
            "execution_count": 0,
            "outputs": []
        },
        {
            "cell_type": "code",
            "source": [
                "public record AmountType : KeyedOrderedDimensionWithExternalId, IHierarchicalDimension",
                "\n{",
                "\n    [Dimension(typeof(AmountType))]",
                "\n    public string Parent { get; init; }",
                "\n    ",
                "\n    [Dimension(typeof(PeriodType))]",
                "\n    public PeriodType PeriodType { get; init; }",
                "\n}"
            ],
            "metadata": {},
            "execution_count": 0,
            "outputs": []
        },
        {
            "cell_type": "markdown",
            "source": [
                "We distinguish between amount types used for cash flows and actuals (**Present Value Amount Types**), and amount types used for deferrable values (**Deferrable Amount Types**). In particular, deferrable amount types are for costs and expenses that can be deferred to the future. These amounts are treated separately from the Present Value Amount Types because they are not considered for the calculation of Contractual Service Margin and Loss Component."
            ],
            "metadata": {},
            "execution_count": 0,
            "outputs": []
        },
        {
            "cell_type": "code",
            "source": [
                "public record DeferrableAmountType : AmountType {}"
            ],
            "metadata": {},
            "execution_count": 0,
            "outputs": []
        },
        {
            "cell_type": "markdown",
            "source": [
                "<a id='risk-driver'></a>",
                "\n## Risk Driver",
                "\n",
                "\nRisk drivers are used to distinguish between the different Risk Adjustment numbers. For instance: Mortality, Disability, Longevity, etc.",
                "\n",
                "\nWhen only total risk adjustment values are used, then there is no need to use risk drivers."
            ],
            "metadata": {},
            "execution_count": 0,
            "outputs": []
        },
        {
            "cell_type": "code",
            "source": [
                "public record RiskDriver : KeyedOrderedDimension, IHierarchicalDimension",
                "\n{",
                "\n    [Dimension(typeof(RiskDriver))]",
                "\n    public string Parent { get; init; }",
                "\n}"
            ],
            "metadata": {},
            "execution_count": 0,
            "outputs": []
        },
        {
            "cell_type": "markdown",
            "source": [
                "<a id='estimate-type'></a>",
                "\n## Estimate Type",
                "\n",
                "\nEstimate Type is a [dimension](#dimensions) used to distinguish the context to which numbers belong to. For instance: Numbers for present values of Best Estimate have Estimate Type 'Best Estimate'; Numbers for present values of Risk Adjustments have Estimate Type 'Risk Adjustment'.",
                "\n",
                "\nIt holds information about the <code>StructureType</code> which is used in the [ReportScopes](Report/ReportScopes#data-transformation) to efficiently transform the data before visualization. To this scope it is relevant to distinguish between <code>None</code> and defined <code>StructureType</code>."
            ],
            "metadata": {},
            "execution_count": 0,
            "outputs": []
        },
        {
            "cell_type": "code",
            "source": [
                "public record EstimateType : KeyedOrderedDimensionWithExternalId",
                "\n{",
                "\n    public InputSource InputSource { get; init; }",
                "\n    ",
                "\n    public StructureType StructureType { get; init; }",
                "\n",
                "\n    [Dimension(typeof(PeriodType))]",
                "\n    public PeriodType PeriodType { get; init; }",
                "\n}"
            ],
            "metadata": {},
            "execution_count": 0,
            "outputs": []
        },
        {
            "cell_type": "markdown",
            "source": [
                "<a id='novelty'></a>",
                "\n## Novelty",
                "\n",
                "\nNovelty is a [dimension](#dimensions) used to identity the novelty of the business. Typical examples of Novelty are New Busines, In-Force, and Combined."
            ],
            "metadata": {},
            "execution_count": 0,
            "outputs": []
        },
        {
            "cell_type": "code",
            "source": [
                "public record Novelty : KeyedOrderedDimension {}"
            ],
            "metadata": {},
            "execution_count": 0,
            "outputs": []
        },
        {
            "cell_type": "markdown",
            "source": [
                "<a id='variable-type'></a>",
                "\n## Variable Type"
            ],
            "metadata": {},
            "execution_count": 0,
            "outputs": []
        },
        {
            "cell_type": "code",
            "source": [
                "public record VariableType : KeyedOrderedDimension, IHierarchicalDimension",
                "\n{    ",
                "\n    public string Parent { get; init; }",
                "\n}"
            ],
            "metadata": {},
            "execution_count": 0,
            "outputs": []
        },
        {
            "cell_type": "markdown",
            "source": [
                "<a id='aoc-type'></a>",
                "\n### AoC Variable Type",
                "\n",
                "\nThe AoC Type describes the type of the Analysis of Change step - For example: Amortization, Cash flow, Combined Liabilities etc.",
                "\n",
                "\nThe **Combined Liability** AoC Type aims in capturing the difference between the sum of all relevant previous AoC Steps and the end of period AoC Step. Unexplained changes (not captured by any other defined AoC Step), are then visible in this AoC Step. Note that the nominal cash flows input in the cash flow input file corresponds to cash flow projection for the end of period step.",
                "\nIn addition, this step distinguishes itself from the others for:",
                "\n- It is a mandatory AoC Type as it is used to trigger the Run off of the cash flow. This is achieved by providing a cash flow of 0s. ",
                "\n- It is the first AoC Type for the Combined Novelty and therefore it carries the contribution of combining In force and New business.",
                "\n- Its present value is computed as telescoping difference with the last AoC Step for the In-Force novelty and the New Business novelty.",
                "\n- In the technical margin calculation it is used to merge the profitability of the In-Force and New business components, which may result in a forced switch.",
                "\n- If ReleasePattern is provided in the Cash Flows it must be provided for this AocType."
            ],
            "metadata": {},
            "execution_count": 0,
            "outputs": []
        },
        {
            "cell_type": "code",
            "source": [
                "public record AocType : VariableType",
                "\n{    ",
                "\n    [Dimension(typeof(AocType))]",
                "\n    public string Parent { get; init; }",
                "\n}"
            ],
            "metadata": {},
            "execution_count": 0,
            "outputs": []
        },
        {
            "cell_type": "code",
            "source": [
                "public record AocStep(string AocType, string Novelty){}"
            ],
            "metadata": {},
            "execution_count": 0,
            "outputs": []
        },
        {
            "cell_type": "markdown",
            "source": [
                "<a id='pnl-variable-type'></a>",
                "\n### PnL Variable Type",
                "\n",
                "\nThe PnlVariableType is used to describe the various profit and loss sections and the corresponding hierarchy."
            ],
            "metadata": {},
            "execution_count": 0,
            "outputs": []
        },
        {
            "cell_type": "code",
            "source": [
                "public record PnlVariableType : VariableType {}"
            ],
            "metadata": {},
            "execution_count": 0,
            "outputs": []
        },
        {
            "cell_type": "markdown",
            "source": [
                "<a id='bs-variable-type'></a>",
                "\n## Balance Sheet Variable Type",
                "\n",
                "\nThe BsVariableType is used to descibe the Analysis of change of the Balance Sheet reports."
            ],
            "metadata": {},
            "execution_count": 0,
            "outputs": []
        },
        {
            "cell_type": "code",
            "source": [
                "public record BsVariableType : VariableType {}"
            ],
            "metadata": {},
            "execution_count": 0,
            "outputs": []
        },
        {
            "cell_type": "markdown",
            "source": [
                "## Accounting Variable Type",
                "\nThe AccountingVariableType is used to describe the accounting events that are posted in the accounting output file."
            ],
            "metadata": {},
            "execution_count": 0,
            "outputs": []
        },
        {
            "cell_type": "code",
            "source": [
                "public record AccountingVariableType : VariableType {}"
            ],
            "metadata": {},
            "execution_count": 0,
            "outputs": []
        },
        {
            "cell_type": "markdown",
            "source": [
                "<a id='scenario'></a>",
                "\n## Scenario",
                "\nThe <code>Scenario</code> record holds the various Scenarios used for Sensitivity analysis. ",
                "\n",
                "\nAny Scenario-case can be defined with this record by providing a SystemName and a DisplayName. During data collection phase the Scenario column of the [main](../Import/Importers#parse-the-main-tab) table of the input can be populated with the SystemName of the desired Scenario. The default Scenario (i.e. the default one, with no-stress situations applied) is referred to as 'Best Estimate' and its identifier is a null string, allowing the input files to not specify any value under the column Scenario or to lack the column itself."
            ],
            "metadata": {},
            "execution_count": 0,
            "outputs": []
        },
        {
            "cell_type": "code",
            "source": [
                "public record Scenario : KeyedDimension {}"
            ],
            "metadata": {},
            "execution_count": 0,
            "outputs": []
        },
        {
            "cell_type": "markdown",
            "source": [
                "### Scenario and inputs",
                "\n",
                "\nUnder a particular Scenario, several data types can be imported (e.g. nominal cash flows, parameters, yield-curvers, etc.). However, we suggest arranging a different Scenario for every desired type of stress to facilitate the analysis of the results.",
                "\n",
                "\n### Dependecy with Best Estimate scenario: same period",
                "\n",
                "\nWhen a file is imported for a specific Scenario, the calculation engine integrates the set of inputs taking the remaining from the best estimate scenario. In this way the user is not required to input again all data for each Scenario calculation but only the file with the stressed input. This is achieved through our system of [Relaxed Queries](../Utils/Queries). The assumption here is that the Best Estimate scenario is the first to be imported, and the stressed scenarios follow. ",
                "\n",
                "\nIn the case of re-import, the Engine considers the dependency between each scenario and the Best Estimate scenario. In this case, one import automatically triggers calculation in several partitions allowing all dependant cases to be updated. For more details on how the calculation is performed refer to [Calculate IFRS Variables: for all scenarios](../Import/Importers#calculate-ifrs-variables-for-all-scenarios).",
                "\n",
                "\nThe only exception to this is applied to time dependency. When the user imports figures for periods $P$ and $P+1$ are imported for all scenarios and a new input for Best Estimate period $P$ is provided, only the scenarios for period $P$ are automatically updated. A manual update of period $P+1$ is then required to update the figures of $P+1$. We consider the case of restating previous periods particularly sensitive and defer to the user the resposability to ensure that all results are up to date. ",
                "\n",
                "\n### Dependecy with Best Estimate scenario: across periods",
                "\n",
                "\nWhen a stress scenario is imported for a period $P$ and a previous period $P-1$ is available, the End of Period values ($P-1$) of the Best Estimate scenario is considered as Beginning of Period ($P$) for the stressed and no-stress scenarios. This implies that:",
                "\n1. scenarios can be occasionally not be calculated without impacting their calculation in future periods,",
                "\n2. new scenarios can be added at any time in a production environment,",
                "\n3. in each period the scenario depends only on the perturbation provided in the period and is not applied on top of the previous period perturbation."
            ],
            "metadata": {},
            "execution_count": 0,
            "outputs": []
        },
        {
            "cell_type": "markdown",
            "source": [
                "<a id='line-of-business'></a>",
                "\n## Line Of Business"
            ],
            "metadata": {},
            "execution_count": 0,
            "outputs": []
        },
        {
            "cell_type": "markdown",
            "source": [
                "Line Of Business is a dimension used to identity insurance business according to usual business classifications (usually a market or company-specific business classification representing a convolution of risk covered, 1st party / 3rd party cover type, product type, etc...)",
                "\nTypical examples of Line of Business are Motor, Property, Endowment, etc... This is a hierarchical dimension."
            ],
            "metadata": {},
            "execution_count": 0,
            "outputs": []
        },
        {
            "cell_type": "code",
            "source": [
                "public record LineOfBusiness : KeyedOrderedDimension, IHierarchicalDimension",
                "\n{",
                "\n    [Dimension(typeof(LineOfBusiness))]",
                "\n    public string Parent { get; init; }",
                "\n}"
            ],
            "metadata": {},
            "execution_count": 0,
            "outputs": []
        },
        {
            "cell_type": "markdown",
            "source": [
                "<a id='currency'></a>",
                "\n## Currency"
            ],
            "metadata": {},
            "execution_count": 0,
            "outputs": []
        },
        {
            "cell_type": "markdown",
            "source": [
                "Currency is a dimension used to identity the currency.",
                "\nTypical examples of Currency are their ISO codes: EUR, CHF, USD, etc."
            ],
            "metadata": {},
            "execution_count": 0,
            "outputs": []
        },
        {
            "cell_type": "code",
            "source": [
                "public record Currency : KeyedDimension {}"
            ],
            "metadata": {},
            "execution_count": 0,
            "outputs": []
        },
        {
            "cell_type": "markdown",
            "source": [
                "<a id='economic-basis'></a>",
                "\n## Economic Basis",
                "\n",
                "\nThe Economic Basis defines the discount type which is used in calculations. Examples are: Nominal, Current and Locked."
            ],
            "metadata": {},
            "execution_count": 0,
            "outputs": []
        },
        {
            "cell_type": "code",
            "source": [
                "public record EconomicBasis : KeyedDimension {}"
            ],
            "metadata": {},
            "execution_count": 0,
            "outputs": []
        },
        {
            "cell_type": "markdown",
            "source": [
                "<a id='valuation-approach'></a>",
                "\n## Valuation Approach",
                "\nThis dimension holds the various methodologies used in the calculations: BBA, VFA and PAA."
            ],
            "metadata": {},
            "execution_count": 0,
            "outputs": []
        },
        {
            "cell_type": "code",
            "source": [
                "public record ValuationApproach : KeyedDimension {}"
            ],
            "metadata": {},
            "execution_count": 0,
            "outputs": []
        },
        {
            "cell_type": "markdown",
            "source": [
                "<a id='liability-type'></a>",
                "\n## Liability Type",
                "\nThe Liability Type distinguishes betweeen e.g. liabilities for incurred claims and liabilities for remaining coverage."
            ],
            "metadata": {},
            "execution_count": 0,
            "outputs": []
        },
        {
            "cell_type": "code",
            "source": [
                "public record LiabilityType : KeyedOrderedDimension, IHierarchicalDimension",
                "\n{",
                "\n    [Dimension(typeof(LiabilityType))]",
                "\n    public string Parent { get; init; }",
                "\n}"
            ],
            "metadata": {},
            "execution_count": 0,
            "outputs": []
        },
        {
            "cell_type": "markdown",
            "source": [
                "<a id='oci-type'></a>",
                "\n## OCI Type",
                "\nOther Comprehensive Income (OCI) Type describes how the financial contributions to the IFRS 17 Financial Performance is apportioned between the P&L and the OCI sections."
            ],
            "metadata": {},
            "execution_count": 0,
            "outputs": []
        },
        {
            "cell_type": "code",
            "source": [
                "public record OciType : KeyedDimension {}"
            ],
            "metadata": {},
            "execution_count": 0,
            "outputs": []
        },
        {
            "cell_type": "markdown",
            "source": [
                "<a id='profitability'></a>",
                "\n## Profitability"
            ],
            "metadata": {},
            "execution_count": 0,
            "outputs": []
        },
        {
            "cell_type": "markdown",
            "source": [
                "Profitability is a dimension used in IFRS 17 to describe the profitability of a Group of Contracts (GIC/GRIC).",
                "\nTypical examples of Profitability are Profitable, Non-Profitable, etc."
            ],
            "metadata": {},
            "execution_count": 0,
            "outputs": []
        },
        {
            "cell_type": "code",
            "source": [
                "public record Profitability : KeyedDimension {}"
            ],
            "metadata": {},
            "execution_count": 0,
            "outputs": []
        },
        {
            "cell_type": "markdown",
            "source": [
                "<a id='partner'></a>",
                "\n## Partner",
                "\nPartner is the counterparty of a reinsurance contract."
            ],
            "metadata": {},
            "execution_count": 0,
            "outputs": []
        },
        {
            "cell_type": "code",
            "source": [
                "public record Partner : KeyedDimension {}"
            ],
            "metadata": {},
            "execution_count": 0,
            "outputs": []
        },
        {
            "cell_type": "markdown",
            "source": [
                "<a id='credit-risk-rating'></a>",
                "\n## Credit Risk Rating",
                "\nThis holds the credit risk rating of each Partner."
            ],
            "metadata": {},
            "execution_count": 0,
            "outputs": []
        },
        {
            "cell_type": "code",
            "source": [
                "public record CreditRiskRating : KeyedDimension {}"
            ],
            "metadata": {},
            "execution_count": 0,
            "outputs": []
        },
        {
            "cell_type": "markdown",
            "source": [
                "<a id='reporting-node'></a>",
                "\n## Reporting Node",
                "\nA Reporting Node is an element in the reporting structure of the company. It has a hierarchical structure and the end nodes is the level at which data is imported."
            ],
            "metadata": {},
            "execution_count": 0,
            "outputs": []
        },
        {
            "cell_type": "code",
            "source": [
                "public record ReportingNode : KeyedDimension, IHierarchicalDimension ",
                "\n{",
                "\n    [Dimension(typeof(ReportingNode))]",
                "\n    public string Parent { get; init; }",
                "\n    ",
                "\n    [Required]",
                "\n    [Dimension(typeof(Currency))]",
                "\n    public virtual string Currency { get; init; }",
                "\n}"
            ],
            "metadata": {},
            "execution_count": 0,
            "outputs": []
        },
        {
            "cell_type": "markdown",
            "source": [
                "<a id='projection-configuration'></a>",
                "\n## Projection Configuration"
            ],
            "metadata": {},
            "execution_count": 0,
            "outputs": []
        },
        {
            "cell_type": "markdown",
            "source": [
                "Projections are configured by defining the following 2 parameters:",
                "\n",
                "\n- <b>Shift</b> defines how many months are in the cash flow file before the first value of the period in interest.<br> ",
                "\n- <b>TimeStep</b> defines how many months are in the period of interest. <br>",
                "\n",
                "\nBoth <b>Shift</b> and <b>TimeStep</b> are measured in terms of number of months.",
                "\nFor instance, for the current year and year-to-date view we have $\\rm{Shift}=0$ and $TimeStep=3$ for the first quarter, $TimeStep=6$ for the 2nd quarter and so on."
            ],
            "metadata": {},
            "execution_count": 0,
            "outputs": []
        },
        {
            "cell_type": "code",
            "source": [
                "public record ProjectionConfiguration : KeyedOrderedDimension",
                "\n{",
                "\n    [IdentityProperty]",
                "\n    public int Shift { get; init; }",
                "\n    [IdentityProperty]",
                "\n    public int TimeStep { get; init; }",
                "\n}"
            ],
            "metadata": {},
            "execution_count": 0,
            "outputs": []
        },
        {
            "cell_type": "markdown",
            "source": [
                "<a id='parameters'></a>",
                "\n# Parameters"
            ],
            "metadata": {},
            "execution_count": 0,
            "outputs": []
        },
        {
            "cell_type": "markdown",
            "source": [
                "<a id='aoc-configuration'></a>",
                "\n## AoC Step Configuration"
            ],
            "metadata": {},
            "execution_count": 0,
            "outputs": []
        },
        {
            "cell_type": "markdown",
            "source": [
                "The record below holds parameters over time for each combination of AoC Type and Novelty. In particular:",
                "\n- <code>DataType</code> identifies between Calculated AoC Steps and Optional inputs or Mandatory inputs.",
                "\n- <code>InputSource</code> identifies whether an AoC Step is relevant for Actuals, Cash flow or both calculations.",
                "\n- <code>StructureType</code> identifies the analysis of change chain to which the AoC Step is used.",
                "\n- <code>FxPeriod</code> identifies which fx rate should be used.",
                "\n- <code>YcPeriod</code> identifies which Yield Curve should be used (from current or previous period).",
                "\n- <code>CdrPeriod</code> identifies which Credit Default Rate should be used (from current or previous period).",
                "\n- <code>ValuationPeriod</code> identifies which value from the Cash flow corresponds to the Present Value.",
                "\n- <code>RcPeriod</code> identifies which Reinsurance Coverage should be used (from current or previous period).",
                "\n",
                "\n<br>The values for each parameter can be found in [Enums Notebook](../Constants/Enums)."
            ],
            "metadata": {},
            "execution_count": 0,
            "outputs": []
        },
        {
            "cell_type": "code",
            "source": [
                "public record AocConfiguration : KeyedRecord, IWithYearAndMonth, IOrdered",
                "\n{",
                "\n    [Required]",
                "\n    [IdentityProperty]",
                "\n    [NoArithmetics(ArithmeticOperation.Scale)]",
                "\n    [Dimension(typeof(int), nameof(Year))]",
                "\n    [Range(1900, 2100, ErrorMessage = \"Value for {0} must be between {1} and {2}.\")]",
                "\n    public int Year { get; init; }",
                "\n    ",
                "\n    [Required]",
                "\n    [IdentityProperty]",
                "\n    [NoArithmetics(ArithmeticOperation.Scale)]",
                "\n    [Dimension(typeof(int), nameof(Month))]",
                "\n    [Range(1, 12, ErrorMessage = \"Value for {0} must be between {1} and {2}.\")]",
                "\n    public int Month { get; init; }",
                "\n    ",
                "\n    [IdentityProperty]",
                "\n    [Dimension(typeof(AocType))]",
                "\n    public string AocType { get; init; }",
                "\n    ",
                "\n    [IdentityProperty]",
                "\n    [Dimension(typeof(Novelty))]",
                "\n    public string Novelty { get; init; }",
                "\n    ",
                "\n    [Dimension(typeof(DataType))]",
                "\n    public DataType DataType { get; init; }",
                "\n    ",
                "\n    [Dimension(typeof(StructureType))]",
                "\n    public StructureType StructureType { get; init; }",
                "\n",
                "\n    [Dimension(typeof(InputSource))]",
                "\n    public InputSource InputSource { get; init; }",
                "\n    ",
                "\n    [Dimension(typeof(FxPeriod))]",
                "\n    public FxPeriod FxPeriod { get; init; }",
                "\n    ",
                "\n    [Dimension(typeof(PeriodType), nameof(YcPeriod))]",
                "\n    public PeriodType YcPeriod { get; init; }",
                "\n    ",
                "\n    [Dimension(typeof(PeriodType), nameof(CdrPeriod))]",
                "\n    public PeriodType CdrPeriod { get; init; }",
                "\n    ",
                "\n    [Dimension(typeof(ValuationPeriod))]",
                "\n    public ValuationPeriod ValuationPeriod { get; init; }",
                "\n    ",
                "\n    [Dimension(typeof(PeriodType), nameof(RcPeriod))]",
                "\n    public PeriodType RcPeriod { get; init; }",
                "\n    ",
                "\n    [NotVisible]",
                "\n    public int Order { get; init; }",
                "\n}"
            ],
            "metadata": {},
            "execution_count": 0,
            "outputs": []
        },
        {
            "cell_type": "markdown",
            "source": [
                "<a id='exchange-rate'></a>",
                "\n## Exchange Rate",
                "\nThe record below holds the Exchange Rates over time and for each exchange type ([FxType](./Constants/Enums)). Exchange Rate must be updated every reporting period as part of the close preparation. In general, the last month of the reporting period should be used to import the new data for the period. ",
                "\n",
                "\nIn case the Exchange Rate for the current period is missing, an error is returned. "
            ],
            "metadata": {},
            "execution_count": 0,
            "outputs": []
        },
        {
            "cell_type": "code",
            "source": [
                "public record ExchangeRate : KeyedRecord, IWithYearMonthAndScenario",
                "\n{    ",
                "\n    [Required]",
                "\n    [IdentityProperty]",
                "\n    [Dimension(typeof(Currency))]",
                "\n    public string Currency { get; init; }",
                "\n",
                "\n    [Required]",
                "\n    [IdentityProperty]",
                "\n    [NoArithmetics(ArithmeticOperation.Scale)]",
                "\n    [Dimension(typeof(int), nameof(Year))]",
                "\n    [Range(1900, 2100, ErrorMessage = \"Value for {0} must be between {1} and {2}.\")]",
                "\n    public int Year { get; init; }",
                "\n    ",
                "\n    [Required]",
                "\n    [IdentityProperty]",
                "\n    [NoArithmetics(ArithmeticOperation.Scale)]",
                "\n    [Dimension(typeof(int), nameof(Month))]",
                "\n    [Range(1, 12, ErrorMessage = \"Value for {0} must be between {1} and {2}.\")]",
                "\n    public int Month { get; init; }",
                "\n",
                "\n    [IdentityProperty]",
                "\n    [Required]",
                "\n    public FxType FxType { get; init; }",
                "\n",
                "\n    public double FxToGroupCurrency { get; init; }",
                "\n",
                "\n    [IdentityProperty]",
                "\n    [Dimension(typeof(Scenario))]",
                "\n    public string Scenario { get; init; }",
                "\n}"
            ],
            "metadata": {},
            "execution_count": 0,
            "outputs": []
        },
        {
            "cell_type": "markdown",
            "source": [
                "<a id='credit-default-rate'></a>",
                "\n## Credit Default Rate",
                "\nThe record below holds the Credit Default Rates over time for each [Credit Risk Rating](#credit-risk-rating). Credit Default Rate can be updated every month as part of the close preparation. In general, the last month of the reporting period should be use to import the new data for the period. ",
                "\n",
                "\nThe Credit Default Rate values must be entered with monthly granularity, i.e. every value corresponds to the default rate for a certain month. The first month entered in column Values0 always corresponds to January of the year entered in column <code>Year</code>. The last value is considered valid also for the following years (for which no value has been provided). ",
                "\n",
                "\nThe latest Credit Default Rate available in the system with Year and Month earlier or equal to Year and Month of the closing period will be used as the current value during calculation. When the current period Credit Default Rate differs from previous period value, the analysis of change for the Credit Default Rate amount type computes the contribution of such update as an additional step (Credit Risk Update). During calculation we approximate the Credit Default Rate to be constant over time as considering all projected values only accounts for marginal changes. "
            ],
            "metadata": {},
            "execution_count": 0,
            "outputs": []
        },
        {
            "cell_type": "code",
            "source": [
                "public record CreditDefaultRate : KeyedRecord, IWithYearMonthAndScenario",
                "\n{    ",
                "\n    [Required]",
                "\n    [IdentityProperty]",
                "\n    [Dimension(typeof(CreditRiskRating))]",
                "\n    public string CreditRiskRating { get; init; }",
                "\n",
                "\n    [Required]",
                "\n    [IdentityProperty]",
                "\n    [NoArithmetics(ArithmeticOperation.Scale)]",
                "\n    [Dimension(typeof(int), nameof(Year))]",
                "\n    [Range(1900, 2100, ErrorMessage = \"Value for {0} must be between {1} and {2}.\")]",
                "\n    public int Year { get; init; }",
                "\n    ",
                "\n    [Required]",
                "\n    [IdentityProperty]",
                "\n    [NoArithmetics(ArithmeticOperation.Scale)]",
                "\n    [Dimension(typeof(int), nameof(Month))]",
                "\n    [Range(1, 12, ErrorMessage = \"Value for {0} must be between {1} and {2}.\")]",
                "\n    public int Month { get; init; }",
                "\n    ",
                "\n    [Conversion(typeof(PrimitiveArrayConverter))]",
                "\n    public double[] Values { get; init; }",
                "\n",
                "\n    [IdentityProperty]",
                "\n    [Dimension(typeof(Scenario))]",
                "\n    public string Scenario { get; init; }",
                "\n}"
            ],
            "metadata": {},
            "execution_count": 0,
            "outputs": []
        },
        {
            "cell_type": "markdown",
            "source": [
                "<a id='yield-curve'></a>",
                "\n## Yield Curve",
                "\nThe record below holds the forward rate Yield Curves across time for each [Currency](#currency) and [Scenario](#scenario).",
                "\nYield curves can be updated every month as part of the close preparation. In general, the last month of the reporting period should be used to import the new data for the period. ",
                "\n",
                "\nThe Yield Curve values must be entered with **yearly** granularity, i.e. every value corresponds to the rate of the whole year starting from the year entered in column <code>Year</code>. The last value is considered valid also for the following years (for which no value has been provided). ",
                "\n",
                "\nDuring calculation, the Yield Curve values are retrieved from the DataSource. The Yield Curve Name defined for each group-of-contracts will be used to match the Name of the Yield Curve to be considered. This occurs only for the curve that is used in the computation of the Contractual Service Margin (locked-in for BBA valuation approach, current otherwise). The calculation engine allows the update of the locked-in curve during the entire inception year of the group-of-contracts. When the locked-in Yield Curve is used, the latest Yield Curve available in the system with Year earlier or equal to the inception Year of the group-of-contracts will be used. When the current Yield Curve is used in the calculation, the latest Yield Curve available in the system with Year and Month earlier or equal to Year and Month of the closing period will be used. When the current period Yield Curve differs from previous period value, the analysis of change computes the contribution of such update as an additional step (Yield Curve Update)."
            ],
            "metadata": {},
            "execution_count": 0,
            "outputs": []
        },
        {
            "cell_type": "code",
            "source": [
                "public record YieldCurve : KeyedRecord, IWithYearMonthAndScenario",
                "\n{    ",
                "\n    [Required]",
                "\n    [IdentityProperty]",
                "\n    [Dimension(typeof(Currency))]",
                "\n    public string Currency { get; init; }",
                "\n",
                "\n    [Required]",
                "\n    [IdentityProperty]",
                "\n    [NoArithmetics(ArithmeticOperation.Scale)]",
                "\n    [Dimension(typeof(int), nameof(Year))]",
                "\n    [Range(1900, 2100, ErrorMessage = \"Value for {0} must be between {1} and {2}.\")]",
                "\n    public int Year { get; init; }",
                "\n    ",
                "\n    [Required]",
                "\n    [IdentityProperty]",
                "\n    [NoArithmetics(ArithmeticOperation.Scale)]",
                "\n    [Dimension(typeof(int), nameof(Month))]",
                "\n    [Range(1, 12, ErrorMessage = \"Value for {0} must be between {1} and {2}.\")]",
                "\n    public int Month { get; init; }",
                "\n",
                "\n    [IdentityProperty]",
                "\n    [Dimension(typeof(Scenario))]",
                "\n    public string Scenario { get; init; }",
                "\n",
                "\n    [IdentityProperty]",
                "\n    public string Name { get; init; }",
                "\n    ",
                "\n    [Conversion(typeof(PrimitiveArrayConverter))]",
                "\n    public double[] Values { get; init; }",
                "\n}"
            ],
            "metadata": {},
            "execution_count": 0,
            "outputs": []
        },
        {
            "cell_type": "markdown",
            "source": [
                "<a id='partner-rating'></a>",
                "\n## Partner Rating",
                "\nThe record below holds the [Credit Risk Rating](#credit-risk-partner) for each [Partner](#partner) across time. Partner Rating can be updated every month as part of the close preparation. In general, the last month of the reporting period should be use to import the new data for the period. The Credit Default Rates for each rating is defined through the import of [Credit Default Rates](#credit-default-rate)."
            ],
            "metadata": {},
            "execution_count": 0,
            "outputs": []
        },
        {
            "cell_type": "code",
            "source": [
                "public record PartnerRating : KeyedRecord, IWithYearMonthAndScenario",
                "\n{    ",
                "\n    [Required]",
                "\n    [IdentityProperty]",
                "\n    [Dimension(typeof(Partner))]",
                "\n    public string Partner { get; init; }",
                "\n",
                "\n    [Required]",
                "\n    [Dimension(typeof(CreditRiskRating))]",
                "\n    public string CreditRiskRating { get; init; }",
                "\n",
                "\n    [Required]",
                "\n    [IdentityProperty]",
                "\n    [NoArithmetics(ArithmeticOperation.Scale)]",
                "\n    [Dimension(typeof(int), nameof(Year))]",
                "\n    [Range(1900, 2100, ErrorMessage = \"Value for {0} must be between {1} and {2}.\")]",
                "\n    public int Year { get; init; }",
                "\n    ",
                "\n    [Required]",
                "\n    [IdentityProperty]",
                "\n    [NoArithmetics(ArithmeticOperation.Scale)]",
                "\n    [Dimension(typeof(int), nameof(Month))]",
                "\n    [Range(1, 12, ErrorMessage = \"Value for {0} must be between {1} and {2}.\")]",
                "\n    public int Month { get; init; }",
                "\n",
                "\n    [IdentityProperty]",
                "\n    [Dimension(typeof(Scenario))]",
                "\n    public string Scenario { get; init; }",
                "\n}"
            ],
            "metadata": {},
            "execution_count": 0,
            "outputs": []
        },
        {
            "cell_type": "markdown",
            "source": [
                "<a id='partitions'></a>",
                "\n# Partitions",
                "\nThe notion of Partition is used internally to the calculation engine to define small but meaningful sets of data, called partitions. Partitions are then used to optimize the extraction of data from the database, i.e. only the data for a certain partition is retrieved. For example, a specific combination of Year and Month defines a partition."
            ],
            "metadata": {},
            "execution_count": 0,
            "outputs": []
        },
        {
            "cell_type": "code",
            "source": [
                "public abstract record IfrsPartition : IPartition {",
                "\n    [Key]",
                "\n    [PartitionId]",
                "\n    public Guid Id { get; init; }",
                "\n",
                "\n    [Required]",
                "\n    [Dimension(typeof(ReportingNode))]",
                "\n    [IdentityProperty]",
                "\n    [Display(Order = 10)]",
                "\n    public string ReportingNode { get; init; }",
                "\n}"
            ],
            "metadata": {},
            "execution_count": 0,
            "outputs": []
        },
        {
            "cell_type": "markdown",
            "source": [
                "For instance, the data pertaining to a certain [Reporting Node](#reporting-node) for a certain [Scenario](#scenario) is called an <code>IfrsPartition</code> and assigned a unique identifier."
            ],
            "metadata": {},
            "execution_count": 0,
            "outputs": []
        },
        {
            "cell_type": "code",
            "source": [
                "public record PartitionByReportingNode : IfrsPartition {}"
            ],
            "metadata": {},
            "execution_count": 0,
            "outputs": []
        },
        {
            "cell_type": "markdown",
            "source": [
                "The partition </code>PartitionByReportingNodeAndPeriod</code> is a further partition of the <code>IfrsPartition</code> sets. In particular, it defines sets for the data pertaining to a certain [Reporting Node](#reporting-node), [Scenario](#scenario), year and month. The value of the <code>Month</code> is the last month of the reporting period to which the data belongs to. "
            ],
            "metadata": {},
            "execution_count": 0,
            "outputs": []
        },
        {
            "cell_type": "code",
            "source": [
                "public record PartitionByReportingNodeAndPeriod : IfrsPartition {",
                "\n    [Dimension(typeof(int), nameof(Year))]",
                "\n    [IdentityProperty]",
                "\n    [Display(Order = 20)]",
                "\n    public int Year { get; init; }",
                "\n",
                "\n    [Dimension(typeof(int), nameof(Month))]",
                "\n    [IdentityProperty]",
                "\n    [Display(Order = 30)]",
                "\n    public int Month { get; init; }",
                "\n    ",
                "\n    [Dimension(typeof(Scenario))]",
                "\n    [IdentityProperty]",
                "\n    [Display(Order = 40)]",
                "\n    public string Scenario { get; init; }",
                "\n}"
            ],
            "metadata": {},
            "execution_count": 0,
            "outputs": []
        },
        {
            "cell_type": "markdown",
            "source": [
                "<a id='policy-related-data-structures'></a>",
                "\n# Policy-related Data Structures",
                "\n",
                "\nThe data structures below are the pieces of the data model where policy-related data is held."
            ],
            "metadata": {},
            "execution_count": 0,
            "outputs": []
        },
        {
            "cell_type": "markdown",
            "source": [
                "<a id='data-node'></a>",
                "\n## Data Node",
                "\n",
                "\nA data node is basically a set of labels which identify data according to its:",
                "\n- Reporting Node",
                "\n- Scenario",
                "\n- Contractual Currency",
                "\n- FunctionalCurrency",
                "\n- LineOfBusiness",
                "\n- ValuationApproach",
                "\n- OCI Type"
            ],
            "metadata": {},
            "execution_count": 0,
            "outputs": []
        },
        {
            "cell_type": "code",
            "source": [
                "public record DataNode : KeyedDimension, IPartitioned {",
                "\n    [NotVisible]",
                "\n    [PartitionKey(typeof(PartitionByReportingNode))]",
                "\n    public Guid Partition { get; init; }",
                "\n    ",
                "\n    [NotVisible]    ",
                "\n    [Dimension(typeof(Currency))]",
                "\n    //[Immutable]",
                "\n    public string ContractualCurrency { get; init; }",
                "\n    ",
                "\n    [NotVisible]    ",
                "\n    [Dimension(typeof(Currency))]",
                "\n    //[Immutable]",
                "\n    public string FunctionalCurrency { get; init; }",
                "\n    ",
                "\n    [NotVisible]    ",
                "\n    [Dimension(typeof(LineOfBusiness))]",
                "\n    //[Immutable]",
                "\n    public string LineOfBusiness { get; init; }",
                "\n    ",
                "\n    [NotVisible]    ",
                "\n    [Dimension(typeof(ValuationApproach))]",
                "\n    [Required]",
                "\n    //[Immutable]",
                "\n    public string ValuationApproach { get; init; }",
                "\n    ",
                "\n    [NotVisible]    ",
                "\n    [Dimension(typeof(OciType))]",
                "\n    //[Immutable]",
                "\n    public string OciType { get; init; }",
                "\n}"
            ],
            "metadata": {},
            "execution_count": 0,
            "outputs": []
        },
        {
            "cell_type": "markdown",
            "source": [
                "<a id='portfolios'></a>",
                "\n## Portfolios",
                "\n",
                "\nA Portfolio is a set of Group of Contracts. The relationship is set on the Group of Contracts (see below).",
                "\n",
                "\nPortfolios are of type DataNode and there are two types: Insurance Portfolio and Reinsurance Portfolios."
            ],
            "metadata": {},
            "execution_count": 0,
            "outputs": []
        },
        {
            "cell_type": "code",
            "source": [
                "public record Portfolio : DataNode {}",
                "\n",
                "\npublic record InsurancePortfolio : Portfolio {}",
                "\npublic record ReinsurancePortfolio : Portfolio {}"
            ],
            "metadata": {},
            "execution_count": 0,
            "outputs": []
        },
        {
            "cell_type": "markdown",
            "source": [
                "<a id='group-of-contracts'></a>",
                "\n## Group of Contracts",
                "\n",
                "\nA Group of Contract is a set of contracts with the same Annual Cohort, Liability Type, Profitability and Partner (in case the contracts are done with a re-insurer).",
                "\n",
                "\nVarious Group of Contracts are put together into portfolios."
            ],
            "metadata": {},
            "execution_count": 0,
            "outputs": []
        },
        {
            "cell_type": "code",
            "source": [
                "public record GroupOfContract : DataNode {",
                "\n    [NotVisible]    ",
                "\n    [Dimension(typeof(int), nameof(AnnualCohort))]",
                "\n    //[Immutable]",
                "\n    public int AnnualCohort { get; init; }",
                "\n    ",
                "\n    [NotVisible]    ",
                "\n    [Dimension(typeof(LiabilityType))]",
                "\n    //[Immutable]",
                "\n    public string LiabilityType { get; init; }",
                "\n    ",
                "\n    [NotVisible]    ",
                "\n    [Dimension(typeof(Profitability))]",
                "\n    //[Immutable]",
                "\n    public string Profitability { get; init; }",
                "\n ",
                "\n    [Required]",
                "\n    [NotVisible]    ",
                "\n    [Dimension(typeof(Portfolio))]",
                "\n    //[Immutable]",
                "\n    public string Portfolio { get; init; }",
                "\n",
                "\n    [NotVisible]",
                "\n    //[Immutable]",
                "\n    public string YieldCurveName { get; init; }",
                "\n    ",
                "\n    public virtual string Partner { get; init; }",
                "\n}"
            ],
            "metadata": {},
            "execution_count": 0,
            "outputs": []
        },
        {
            "cell_type": "markdown",
            "source": [
                "A group of insurance contracts is called a **GIC** and has no information on Partner.",
                "\n",
                "\nOnly Groups of Reinsurance Contracts, defined below and usually called **GRIC**s, have Partner information."
            ],
            "metadata": {},
            "execution_count": 0,
            "outputs": []
        },
        {
            "cell_type": "code",
            "source": [
                "public record GroupOfInsuranceContract : GroupOfContract {",
                "\n    [Required]",
                "\n    [NotVisible]    ",
                "\n    [Display(Name = \"InsurancePortfolio\")]",
                "\n    [Dimension(typeof(InsurancePortfolio))]",
                "\n    //[Immutable]",
                "\n    public string Portfolio { get => base.Portfolio; init => base.Portfolio = value; }",
                "\n    ",
                "\n    // TODO: for the case of internal reinsurance the Partner would be the reporting node, hence not null.",
                "\n    // If this is true we need the [Required] attribute here, add some validation at dataNode import ",
                "\n    // and to add logic in the GetNonPerformanceRiskRate method in ImportStorage.",
                "\n    [NotVisible]    ",
                "\n    [NotMapped]",
                "\n    //[Immutable]",
                "\n    public override string Partner => null;",
                "\n}",
                "\n",
                "\npublic record GroupOfReinsuranceContract : GroupOfContract {",
                "\n    [Required]",
                "\n    [NotVisible]    ",
                "\n    [Display(Name = \"ReinsurancePortfolio\")]",
                "\n    [Dimension(typeof(ReinsurancePortfolio))]",
                "\n    //[Immutable]",
                "\n    public string Portfolio { get => base.Portfolio; init => base.Portfolio = value; }",
                "\n}"
            ],
            "metadata": {},
            "execution_count": 0,
            "outputs": []
        },
        {
            "cell_type": "markdown",
            "source": [
                "<a id='data-node-state'></a>",
                "\n## Data Node State",
                "\n",
                "\nThe Data State is used to track whether a Group of Contract is Active or Inactive across time (year and month). ",
                "\nIt is only possible to update the state of a Group of Contract from Active to Inactive."
            ],
            "metadata": {},
            "execution_count": 0,
            "outputs": []
        },
        {
            "cell_type": "code",
            "source": [
                "public record DataNodeState : KeyedRecord, IPartitioned, IWithYearMonthAndScenario",
                "\n{",
                "\n    [NotVisible]",
                "\n    [PartitionKey(typeof(PartitionByReportingNode))]",
                "\n    public Guid Partition { get; init; }",
                "\n    ",
                "\n    [Required]",
                "\n    [IdentityProperty]",
                "\n    [Dimension(typeof(GroupOfContract))]",
                "\n    public string DataNode { get; init; }",
                "\n    ",
                "\n    [Required]",
                "\n    [IdentityProperty]",
                "\n    [NoArithmetics(ArithmeticOperation.Scale)]",
                "\n    [Dimension(typeof(int), nameof(Year))]",
                "\n    [Range(1900, 2100, ErrorMessage = \"Value for {0} must be between {1} and {2}.\")]",
                "\n    public int Year { get; init; }",
                "\n    ",
                "\n    [Required]",
                "\n    [IdentityProperty]",
                "\n    [NoArithmetics(ArithmeticOperation.Scale)]",
                "\n    [Dimension(typeof(int), nameof(Month))]",
                "\n    [Range(1, 12, ErrorMessage = \"Value for {0} must be between {1} and {2}.\")]",
                "\n    [DefaultValue(DefaultDataNodeActivationMonth)]",
                "\n    public int Month { get; init; } = DefaultDataNodeActivationMonth;",
                "\n    ",
                "\n    [Required]",
                "\n    [DefaultValue(State.Active)]",
                "\n    public State State { get; init; } = State.Active;",
                "\n",
                "\n    [IdentityProperty]",
                "\n    [Dimension(typeof(Scenario))]",
                "\n    public string Scenario { get; init; }",
                "\n}"
            ],
            "metadata": {},
            "execution_count": 0,
            "outputs": []
        },
        {
            "cell_type": "markdown",
            "source": [
                "<a id='data-node-parameters'></a>",
                "\n## Data Node Parameters",
                "\n",
                "\nData Node Parameters are used to keep track of other parameters pertaining to each Data Node, and their movements in time (year and month).",
                "\n",
                "\n<br> <code>PremiumAllocation</code> : defines the weight of Premium to be included in the Experience Adjustement AoC Type of the Technical Margin and is valid only for Group of Insurance Contract with LiabilityType : Liability for Remaining Coverage.",
                "\n",
                "\n<br> <code>CashFlowPeriodicity</code> : defines the periodicity of the provided cash flows, it is not a mandatory input column. Supported values can be found [here](../Constants/Enums#cashflowperiodicity). When the column *CashFlowPeriodicity* is missing from the input file it is assumed a monthly periodicity (default value). When the *CashFlowPeriodicity* column is present, a valid value must be entered. If the Cashflow file does not contain a specific CashflowPeriodicity, this parameter value is used for the whole of DataNode.",
                "\n",
                "\n<br> <code>InterpolationMethod</code> : defines the interpolation method to be applied to interpolate the cash flow from non-default (monthly) periodicity. It is not a mandatory input column, unless CashflowPeriodicity column is provided. Supported values can be found [here](../Constants/Enums#interpolation-method). When the *InterpolationMethod* is not present in the input file and it is required because *CashFlowPeriodicity* is not monthly, then the default value for the *InterpolationMethod* is applied. The default value is 'NotApplicable'.",
                "\n",
                "\n<br> <code>ReleasePattern</code> : defines the pattern of factors that will be used to defer and amortize any AmountType over the course of contract term. It is not a mandatory input.  This pattern is used, if no *ReleasePattern* is provided in the Cashflows (which is specific for combinations of AmountType and EstimateType). If provided, the ReleasePattern needs at least a column with 'ReleasePattern0' header. The 'ReleasePattern0' corresponds to the first value of the AnnualCohort which is defined in [GroupOfContracts](#group-of-contracts). Pattern for multiple years can be provided by adding columns 'ReleasePattern1', 'ReleasePattern2' etc. Even if the ReleasePattern header is present, the values for any given DataNode are still optional.",
                "\n",
                "\n<br> <code>EconomicBasisDriver</code> : defines the economic basis that will be used in discounting any Release Pattern. It is not a mandatory input column. Supported values are the defined values for [EconomicBasis](#economic-basis). When the *EconomicBasisDriver* is not present in the input file, then the default value for the *EconomicBasisDriver* is applied. The default value is *Locked-in* rates for Building Block Approach, *Current* rates for Variable Fee Approach and Premium Allocation Approach for liabilities of incurred claims and *Nominal* for Premium Allocation Approach for liabilities of remaining coverage.",
                "\n",
                "\n<br> <code>ReinsuranceCoverage</code> : defines the weight of the underlying gross business to be considered in the computation of the allocation of the Technical Margin in a Reinsurance case. In other words, it represents the percentage to which claims in the underlying GICs are expected to be reinboursed by the Reinsurance Contracts belonging to the GRIC. For proportional contracts, this factor is given by the cession while for other contracts it should be estimated. ",
                "\n",
                "\nThe latest Data Node Parameters available in the system with Year and Month earlier or equal to Year and Month of the closing period will be used as the current value during calculation."
            ],
            "metadata": {},
            "execution_count": 0,
            "outputs": []
        },
        {
            "cell_type": "code",
            "source": [
                "public record DataNodeParameter : KeyedRecord, IPartitioned, IWithYearMonthAndScenario",
                "\n{",
                "\n    [NotVisible]",
                "\n    [PartitionKey(typeof(PartitionByReportingNode))]",
                "\n    public Guid Partition { get; init; }",
                "\n        ",
                "\n    [Required]",
                "\n    [IdentityProperty]",
                "\n    [NoArithmetics(ArithmeticOperation.Scale)]",
                "\n    [Dimension(typeof(int), nameof(Year))]",
                "\n    [Range(1900, 2100, ErrorMessage = \"Value for {0} must be between {1} and {2}.\")]",
                "\n    public int Year { get; init; }",
                "\n    ",
                "\n    [Required]",
                "\n    [IdentityProperty]",
                "\n    [NoArithmetics(ArithmeticOperation.Scale)]",
                "\n    [Dimension(typeof(int), nameof(Month))]",
                "\n    [Range(1, 12, ErrorMessage = \"Value for {0} must be between {1} and {2}.\")]",
                "\n    [DefaultValue(DefaultDataNodeActivationMonth)]",
                "\n    public int Month { get; init; } = DefaultDataNodeActivationMonth;",
                "\n        ",
                "\n    [Required]",
                "\n    [IdentityProperty]",
                "\n    [Dimension(typeof(GroupOfContract))]",
                "\n    [Display(Order = 1)]",
                "\n    public string DataNode { get; init; }",
                "\n",
                "\n    [IdentityProperty]",
                "\n    [Dimension(typeof(Scenario))]",
                "\n    public string Scenario { get; init; }",
                "\n}"
            ],
            "metadata": {},
            "execution_count": 0,
            "outputs": []
        },
        {
            "cell_type": "code",
            "source": [
                "public record SingleDataNodeParameter : DataNodeParameter {",
                "\n    [DefaultValue(DefaultPremiumExperienceAdjustmentFactor)]",
                "\n    [Range(0, 1, ErrorMessage = \"Value for {0} must be between {1} and {2}.\")]",
                "\n    [Display(Order = 20)]",
                "\n    public double PremiumAllocation { get; init; } = DefaultPremiumExperienceAdjustmentFactor;",
                "\n",
                "\n    [Dimension(typeof(CashFlowPeriodicity))]",
                "\n    [Display(Order = 30)]",
                "\n    public CashFlowPeriodicity CashFlowPeriodicity { get; init; }",
                "\n",
                "\n    [Dimension(typeof(InterpolationMethod))]",
                "\n    [Display(Order = 40)]",
                "\n    public InterpolationMethod InterpolationMethod { get; init; }",
                "\n",
                "\n    [Dimension(typeof(EconomicBasis))]",
                "\n    [Display(Order = 50)]",
                "\n    public string EconomicBasisDriver {get; init;}",
                "\n",
                "\n    [Conversion(typeof(PrimitiveArrayConverter))]",
                "\n    [Display(Order = 60)]",
                "\n    public double[] ReleasePattern {get; init;}",
                "\n",
                "\n}",
                "\n",
                "\npublic record InterDataNodeParameter : DataNodeParameter {",
                "\n    [Required]",
                "\n    [IdentityProperty]",
                "\n    [Dimension(typeof(GroupOfContract))]",
                "\n    [Display(Order = 10)]",
                "\n    public string LinkedDataNode { get; init; }",
                "\n    ",
                "\n    [Range(0, 1, ErrorMessage = \"Value for {0} must be between {1} and {2}.\")]",
                "\n    [Display(Order = 20)]",
                "\n    public double ReinsuranceCoverage { get; init; }",
                "\n}"
            ],
            "metadata": {},
            "execution_count": 0,
            "outputs": []
        },
        {
            "cell_type": "markdown",
            "source": [
                "## DataNodeData",
                "\nThe <code>DataNodeData</code> type is not persisted (i.e. not stored in the database) and is used in order to hold Data Node data (i.e information from the dimension [data node](#data-node) and the data node [State](#data-node-state)) during data manipulations e.g import and report computations."
            ],
            "metadata": {},
            "execution_count": 0,
            "outputs": []
        },
        {
            "cell_type": "code",
            "source": [
                "public record DataNodeData {",
                "\n    public string DataNode { get; init; }",
                "\n    ",
                "\n    //Portfolio",
                "\n    public string ContractualCurrency { get; init; }",
                "\n    public string FunctionalCurrency { get; init; }",
                "\n    public string LineOfBusiness { get; init; }",
                "\n    public string ValuationApproach { get; init; }",
                "\n    public string OciType { get; init; }",
                "\n    ",
                "\n    //GroupOfContract",
                "\n    public string Portfolio { get; init; }",
                "\n    public int AnnualCohort { get; init; }",
                "\n    public string LiabilityType { get; init; }",
                "\n    public string Profitability { get; init; }",
                "\n    public string Partner { get; init; }",
                "\n    public string YieldCurveName { get; init; }",
                "\n    ",
                "\n    ",
                "\n    //DataNodeState",
                "\n    public int Year { get; init; }",
                "\n    public int Month { get; init; }",
                "\n    public State State { get; init; }",
                "\n    public State PreviousState { get; init; }",
                "\n    ",
                "\n    public bool IsReinsurance { get; init; }",
                "\n",
                "\n    public DataNodeData(){}",
                "\n",
                "\n    public DataNodeData(GroupOfContract dn)",
                "\n    {",
                "\n        DataNode = dn.SystemName;",
                "\n        ContractualCurrency  = dn.ContractualCurrency;",
                "\n        FunctionalCurrency  = dn.FunctionalCurrency;",
                "\n        LineOfBusiness  = dn.LineOfBusiness;",
                "\n        ValuationApproach  = dn.ValuationApproach;",
                "\n        OciType  = dn.OciType;",
                "\n        Portfolio  = dn.Portfolio;",
                "\n        AnnualCohort  = dn.AnnualCohort;",
                "\n        LiabilityType  = dn.LiabilityType;",
                "\n        Profitability  = dn.Profitability;",
                "\n        Partner  = dn.Partner;",
                "\n        IsReinsurance  = dn.GetType().Name == nameof(GroupOfReinsuranceContract);",
                "\n        YieldCurveName = dn.YieldCurveName;",
                "\n    }",
                "\n}"
            ],
            "metadata": {},
            "execution_count": 0,
            "outputs": []
        },
        {
            "cell_type": "markdown",
            "source": [
                "<a id='raw-variables'></a>",
                "\n## Raw Variables (Cash flows)",
                "\n",
                "\nRaw Variables are used to store **cash flows** on the database during import, i.e. *after* mappings are applied and *before* calculations are applied.",
                "\n",
                "\nThey are stored on the database for both audit and re-calculation purposes."
            ],
            "metadata": {},
            "execution_count": 0,
            "outputs": []
        },
        {
            "cell_type": "code",
            "source": [
                "public abstract record BaseVariableIdentity {",
                "\n    [NotVisible]",
                "\n    [Dimension(typeof(GroupOfContract))]",
                "\n    [IdentityProperty]",
                "\n    public string DataNode { get; init; }",
                "\n    ",
                "\n    [NotVisible]    ",
                "\n    [Dimension(typeof(AocType))]",
                "\n    [IdentityProperty]",
                "\n    public string AocType { get; init; }",
                "\n    ",
                "\n    [NotVisible]    ",
                "\n    [Dimension(typeof(Novelty))]",
                "\n    [IdentityProperty]",
                "\n    public string Novelty { get; init; }",
                "\n}"
            ],
            "metadata": {},
            "execution_count": 0,
            "outputs": []
        },
        {
            "cell_type": "code",
            "source": [
                "public abstract record BaseDataRecord : BaseVariableIdentity, IKeyed, IPartitioned {",
                "\n    [Key]",
                "\n    [NotVisible]     ",
                "\n    public Guid Id { get; init; }",
                "\n    ",
                "\n    [NotVisible]",
                "\n    [PartitionKey(typeof(PartitionByReportingNodeAndPeriod))]",
                "\n    public Guid Partition { get; init; }",
                "\n    ",
                "\n    [Conversion(typeof(PrimitiveArrayConverter))]",
                "\n    public double[] Values {get; set;}",
                "\n    ",
                "\n    [NotVisible]    ",
                "\n    [Dimension(typeof(EstimateType))]",
                "\n    [IdentityProperty]",
                "\n    public string EstimateType { get; init; }",
                "\n    ",
                "\n    [NotVisible]    ",
                "\n    [Dimension(typeof(AmountType))]",
                "\n    [IdentityProperty]",
                "\n    public string AmountType { get; init; }",
                "\n    ",
                "\n    [NotVisible]    ",
                "\n    [Dimension(typeof(int),nameof(AccidentYear))]",
                "\n    [IdentityProperty]",
                "\n    public int? AccidentYear { get; init; }",
                "\n}"
            ],
            "metadata": {},
            "execution_count": 0,
            "outputs": []
        },
        {
            "cell_type": "markdown",
            "source": [
                "Basically, <code>RawVariable</code> is defined for a certain Reporting Node, Scenario, Year, Month, Amount Type and Estimate Type."
            ],
            "metadata": {},
            "execution_count": 0,
            "outputs": []
        },
        {
            "cell_type": "code",
            "source": [
                "public record RawVariable : BaseDataRecord {}"
            ],
            "metadata": {},
            "execution_count": 0,
            "outputs": []
        },
        {
            "cell_type": "markdown",
            "source": [
                "<a id='ifrs-variable'></a>",
                "\n## Ifrs Variable",
                "\n",
                "\nIfrs Variables are used to store:",
                "\n",
                "\n- **Actual Values**",
                "\n- **Present Values**",
                "\n",
                "\nPresent Values are calculated from the [raw variables](#raw-variables) during the import of cash flows.",
                "\n",
                "\nIfrs Variables are stored on the database, i.e. they are 'persisted', for performance purposes."
            ],
            "metadata": {},
            "execution_count": 0,
            "outputs": []
        },
        {
            "cell_type": "code",
            "source": [
                "public record IfrsVariable : BaseDataRecord",
                "\n{",
                "\n    [NotVisible]    ",
                "\n    [Dimension(typeof(EconomicBasis))]",
                "\n    [IdentityProperty]",
                "\n    public string EconomicBasis { get; init; }",
                "\n    ",
                "\n    public IfrsVariable (){}",
                "\n}"
            ],
            "metadata": {},
            "execution_count": 0,
            "outputs": []
        },
        {
            "cell_type": "markdown",
            "source": [
                "<a id='import-identity'></a>",
                "\n## Import Identity",
                "\nThe Import Identity contains the data elements used to determine the data sets which are used when performing data manipulations, e.g. during a [data import](./Import/1ImportScope-Identities). In particular, an Import Identity is defined by: DataNode, AoC Type, Novelty, and whether it's reinsurance data or not."
            ],
            "metadata": {},
            "execution_count": 0,
            "outputs": []
        },
        {
            "cell_type": "code",
            "source": [
                "public record ImportIdentity : BaseVariableIdentity {",
                "\n      ",
                "\n    [NotVisible]",
                "\n    public bool IsReinsurance { get; init; }",
                "\n    ",
                "\n    [NotVisible]",
                "\n    public string ValuationApproach { get; init; }",
                "\n",
                "\n    [NotVisible]",
                "\n    public string LiabilityType { get; init; }",
                "\n    ",
                "\n    [NotVisible]",
                "\n    public int ProjectionPeriod { get; init; }",
                "\n    ",
                "\n    public AocStep AocStep => new AocStep(AocType, Novelty);",
                "\n    ",
                "\n    public ImportScope ImportScope { get; init; }",
                "\n    ",
                "\n    public ImportIdentity(RawVariable rv){",
                "\n        DataNode = rv.DataNode;",
                "\n        AocType = rv.AocType;",
                "\n        Novelty = rv.Novelty;",
                "\n    }",
                "\n    ",
                "\n    public ImportIdentity(IfrsVariable iv){",
                "\n        DataNode = iv.DataNode;",
                "\n        AocType = iv.AocType;",
                "\n        Novelty = iv.Novelty;",
                "\n    }",
                "\n",
                "\n    public ImportIdentity(){}",
                "\n}"
            ],
            "metadata": {},
            "execution_count": 0,
            "outputs": []
        },
        {
            "cell_type": "markdown",
            "source": [
                "<a id='report-variable'></a>",
                "\n# Report Variable",
                "\n",
                "\nReport Variables are used to hold data after data manipulations and before being outputed in the form of a report. They are not persisted, i.e. they are not saved on the database."
            ],
            "metadata": {},
            "execution_count": 0,
            "outputs": []
        },
        {
            "cell_type": "code",
            "source": [
                "public record ReportVariable {",
                "\n",
                "\n    [NotVisible]",
                "\n    [Dimension(typeof(ReportingNode))]",
                "\n    [IdentityProperty]",
                "\n    public string ReportingNode { get; init; }",
                "\n    ",
                "\n    [NotVisible]",
                "\n    [Dimension(typeof(Scenario))]",
                "\n    [IdentityProperty]",
                "\n    public string Scenario { get; init; }",
                "\n",
                "\n    [NotVisible]",
                "\n    [Dimension(typeof(Currency))]",
                "\n    [IdentityProperty]",
                "\n    [AggregateBy]",
                "\n    public string Currency { get; init; }",
                "\n    ",
                "\n    [NotVisible]",
                "\n    [Dimension(typeof(Currency), nameof(FunctionalCurrency))]",
                "\n    [IdentityProperty]",
                "\n    public string FunctionalCurrency { get; init; }",
                "\n    ",
                "\n    [NotVisible]",
                "\n    [Dimension(typeof(Currency), nameof(ContractualCurrency))]",
                "\n    [IdentityProperty]",
                "\n    public string ContractualCurrency { get; init; }",
                "\n    ",
                "\n    [NotVisible]",
                "\n    [Dimension(typeof(GroupOfContract))]",
                "\n    [IdentityProperty]",
                "\n    public string GroupOfContract { get; init; }",
                "\n    ",
                "\n    [NotVisible]",
                "\n    [Dimension(typeof(Portfolio))]",
                "\n    [IdentityProperty]",
                "\n    public string Portfolio { get; init; }",
                "\n    ",
                "\n    [NotVisible]",
                "\n    [Dimension(typeof(LineOfBusiness))]",
                "\n    [IdentityProperty]",
                "\n    public string LineOfBusiness { get; init; }",
                "\n    ",
                "\n    [NotVisible]",
                "\n    [Dimension(typeof(LiabilityType))]",
                "\n    [IdentityProperty]",
                "\n    public string LiabilityType { get; init; }",
                "\n    ",
                "\n    [NotVisible]",
                "\n    [Dimension(typeof(Profitability), nameof(InitialProfitability))]",
                "\n    [IdentityProperty]",
                "\n    public string InitialProfitability { get; init; }",
                "\n    ",
                "\n    [NotVisible]",
                "\n    [Dimension(typeof(ValuationApproach))]",
                "\n    [IdentityProperty]",
                "\n    public string ValuationApproach { get; init; }",
                "\n    ",
                "\n    [NotVisible]",
                "\n    [NoArithmetics(ArithmeticOperation.Scale)]",
                "\n    [Dimension(typeof(int), nameof(AnnualCohort))]",
                "\n    [IdentityProperty]",
                "\n    public int AnnualCohort { get; init; }",
                "\n    ",
                "\n    [NotVisible]",
                "\n    [Dimension(typeof(OciType))]",
                "\n    [IdentityProperty]",
                "\n    public string OciType { get; init; }",
                "\n    ",
                "\n    [NotVisible]",
                "\n    [Dimension(typeof(Partner))]",
                "\n    [IdentityProperty]",
                "\n    public string Partner { get; init; }",
                "\n        ",
                "\n    [NotVisible]",
                "\n    [IdentityProperty]",
                "\n    public bool IsReinsurance { get; init; }",
                "\n    ",
                "\n    [NotVisible]",
                "\n    [NoArithmetics(ArithmeticOperation.Scale)]",
                "\n    [Dimension(typeof(int), nameof(AccidentYear))]",
                "\n    [IdentityProperty]",
                "\n    public int AccidentYear { get; init; }",
                "\n",
                "\n    [NotVisible]",
                "\n    [Dimension(typeof(ServicePeriod))]",
                "\n    [IdentityProperty]",
                "\n    public ServicePeriod ServicePeriod { get; init; }",
                "\n",
                "\n    [NotVisible]",
                "\n    [NoArithmetics(ArithmeticOperation.Scale)]",
                "\n    [Dimension(typeof(ProjectionConfiguration), nameof(Projection))]",
                "\n    [IdentityProperty]",
                "\n    public string Projection { get; init;}",
                "\n    ",
                "\n    [NotVisible]",
                "\n    [Dimension(typeof(VariableType))]",
                "\n    [IdentityProperty]",
                "\n    public string VariableType { get; init; }",
                "\n    ",
                "\n    [NotVisible]",
                "\n    [Dimension(typeof(Novelty))]",
                "\n    [IdentityProperty]",
                "\n    public string Novelty { get; init; }",
                "\n    ",
                "\n    [NotVisible]",
                "\n    [Dimension(typeof(AmountType))]",
                "\n    [IdentityProperty]",
                "\n    public string AmountType { get; init; }",
                "\n    ",
                "\n    [NotVisible]",
                "\n    [Dimension(typeof(EstimateType))]",
                "\n    [IdentityProperty]",
                "\n    public string EstimateType { get; init; }",
                "\n    ",
                "\n    [NotVisible]",
                "\n    [Dimension(typeof(EconomicBasis))]",
                "\n    [IdentityProperty]",
                "\n    public string EconomicBasis { get; init; }",
                "\n    ",
                "\n    public double Value { get; init; }",
                "\n    ",
                "\n    public ReportVariable(){}",
                "\n    public ReportVariable(ReportVariable rv){",
                "\n        ReportingNode = rv.ReportingNode;",
                "\n        Scenario = rv.Scenario;",
                "\n        Currency = rv.Currency;",
                "\n        FunctionalCurrency = rv.FunctionalCurrency;",
                "\n        ContractualCurrency = rv.ContractualCurrency;",
                "\n        GroupOfContract = rv.GroupOfContract;",
                "\n        Portfolio = rv.Portfolio;",
                "\n        LineOfBusiness = rv.LineOfBusiness;",
                "\n        LiabilityType = rv.LiabilityType;",
                "\n        InitialProfitability = rv.InitialProfitability;",
                "\n        ValuationApproach = rv.ValuationApproach;",
                "\n        AnnualCohort = rv.AnnualCohort;",
                "\n        OciType = rv.OciType;",
                "\n        Partner = rv.Partner;",
                "\n        IsReinsurance = rv.IsReinsurance;",
                "\n        AccidentYear = rv.AccidentYear;",
                "\n        ServicePeriod = rv.ServicePeriod;",
                "\n        Projection = rv.Projection;",
                "\n        VariableType = rv.VariableType;",
                "\n        Novelty = rv.Novelty;",
                "\n        AmountType = rv.AmountType;",
                "\n        EstimateType = rv.EstimateType;",
                "\n        EconomicBasis = rv.EconomicBasis;",
                "\n        Value = rv.Value;",
                "\n    }",
                "\n}"
            ],
            "metadata": {},
            "execution_count": 0,
            "outputs": []
        },
        {
            "cell_type": "markdown",
            "source": [
                "# Args",
                "\n",
                "\nArgs are used to hold data related to the partition and additional information required to perform calculation at import and report. ",
                "\nThey are not persisted, i.e. they are not saved on the database."
            ],
            "metadata": {},
            "execution_count": 0,
            "outputs": []
        },
        {
            "cell_type": "code",
            "source": [
                "public record Args",
                "\n{",
                "\n    [Required]",
                "\n    [IdentityProperty]",
                "\n    [Dimension(typeof(ReportingNode))]",
                "\n    public string ReportingNode { get; init; }",
                "\n",
                "\n    [Required]",
                "\n    [IdentityProperty]",
                "\n    [NoArithmetics(ArithmeticOperation.Scale)]",
                "\n    [Dimension(typeof(int), nameof(Year))]",
                "\n    [Range(1900, 2100, ErrorMessage = \"Value for {0} must be between {1} and {2}.\")]",
                "\n    public int Year { get; init; }",
                "\n",
                "\n    [Required]",
                "\n    [IdentityProperty]",
                "\n    [NoArithmetics(ArithmeticOperation.Scale)]",
                "\n    [Dimension(typeof(int), nameof(Month))]",
                "\n    [Range(1, 12, ErrorMessage = \"Value for {0} must be between {1} and {2}.\")]",
                "\n    public int Month { get; init; } ",
                "\n    ",
                "\n    [IdentityProperty]",
                "\n    [Dimension(typeof(Scenario))]",
                "\n    public string Scenario { get; init; }",
                "\n",
                "\n    [IdentityProperty]",
                "\n    public Periodicity Periodicity{ get; init; }",
                "\n",
                "\n    public Args(string reportingNode, int year, int month, Periodicity periodicity, string scenario)",
                "\n    {",
                "\n        ReportingNode = reportingNode;",
                "\n        Year = year;",
                "\n        Month = month;",
                "\n        Periodicity = periodicity;",
                "\n        Scenario = scenario;",
                "\n    }",
                "\n}"
            ],
            "metadata": {},
            "execution_count": 0,
            "outputs": []
        },
        {
            "cell_type": "code",
            "source": [
                "public record ImportArgs : Args",
                "\n{",
                "\n    public string ImportFormat { get; init; }",
                "\n       ",
                "\n    public ImportArgs(string reportingNode, int year, int month, Periodicity periodicity, string scenario, string importFormat)",
                "\n        : base(reportingNode, year, month, periodicity, scenario)",
                "\n    {",
                "\n        ImportFormat = importFormat;",
                "\n    }",
                "\n}"
            ],
            "metadata": {},
            "execution_count": 0,
            "outputs": []
        },
        {
            "cell_type": "code",
            "source": [
                "public record ReportArgs : Args",
                "\n{",
                "\n    public string HierarchyName { get; init; }",
                "\n    ",
                "\n    public CurrencyType CurrencyType { get; init; }",
                "\n    ",
                "\n    public string ReportName { get; init; } // this is the key to which data to load (like loading behavior). If null, loads everything",
                "\n    ",
                "\n    public ReportArgs(string reportingNode, int year, int month, Periodicity periodicity, string scenario, string hierarchyName, CurrencyType currencyType)",
                "\n        : base(reportingNode, year, month, periodicity, scenario)",
                "\n    {",
                "\n        CurrencyType = currencyType;",
                "\n        HierarchyName = hierarchyName;",
                "\n    }",
                "\n}"
            ],
            "metadata": {},
            "execution_count": 0,
            "outputs": []
        },
        {
            "cell_type": "code",
            "source": [
                ""
            ],
            "metadata": {},
            "execution_count": 0,
            "outputs": []
        }
    ]
}