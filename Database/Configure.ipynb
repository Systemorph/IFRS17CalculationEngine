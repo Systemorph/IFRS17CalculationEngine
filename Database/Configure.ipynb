{
  "metadata": {
    "toc-showmarkdowntxt": "False",
    "toc-showcode": "False",
    "language_info": {
      "file_extension": ".cs",
      "mimetype": "text/plain",
      "name": "C#"
    },
    "authors": [],
    "kernelspec": {
      "display_name": "Formula Framework",
      "language": "C#",
      "name": "C#"
    },
    "toc-autonumbering": "True"
  },
  "nbformat": 4,
  "nbformat_minor": 5,
  "cells": [
    {
      "id": "vWKQtrDv20CeZFovAj82Vw",
      "cell_type": "markdown",
      "source": [
        "<p style=\"font-weight:bold;\"> <span style=\"font-size: 36px\"> DataSource Configuration </span> </p>"
      ],
      "metadata": {}
    },
    {
      "id": "ekOMREP2YkKF0vgtOn6cyQ",
      "cell_type": "code",
      "source": [
        "#!import \"../DataModel/DataStructure\""
      ],
      "metadata": {},
      "execution_count": 1,
      "outputs": []
    },
    {
      "id": "eEI7AS2fc0-CFjAR_WzdHg",
      "cell_type": "code",
      "source": [
        "#!import \"PersonalConnection\""
      ],
      "metadata": {},
      "execution_count": 1,
      "outputs": []
    },
    {
      "id": "ZoHg5nndvEWdxnUy6nU0aQ",
      "cell_type": "code",
      "source": [
        "using System.Reflection;"
      ],
      "metadata": {},
      "execution_count": 1,
      "outputs": []
    },
    {
      "id": "V3sPPe7bkEOIAjZHtM5oTw",
      "cell_type": "markdown",
      "source": [
        "# Database Configure"
      ],
      "metadata": {}
    },
    {
      "id": "ZxIo5q84i02LBlbq4AQnNA",
      "cell_type": "code",
      "source": [
        "var allTypes = AppDomain.CurrentDomain.GetAssemblies().SelectMany(a => a.GetTypes())",
        "\n    .Where(t => (t.IsAssignableTo(typeof(IKeyed)) || t.IsAssignableTo(typeof(KeyedDimension)))",
        "\n                && !t.IsInterface",
        "\n                && !t.IsAbstract",
        "\n    ).ToArray();"
      ],
      "metadata": {},
      "execution_count": 1,
      "outputs": []
    },
    {
      "id": "Wi93Z_KSukSEMiLoOfsKXA",
      "cell_type": "code",
      "source": [
        "await DataSource.Configure().UseMsSql(opt => opt.WithConnectionString(connectionStringMsSql)",
        "\n                                                .WithTypes(allTypes)) .ConnectAsync();"
      ],
      "metadata": {},
      "execution_count": 1,
      "outputs": []
    },
    {
      "id": "4jSr3apQzEm6bXs7ot9uJQ",
      "cell_type": "code",
      "source": [
        "await DataSource.CommitAsync();"
      ],
      "metadata": {},
      "execution_count": 1,
      "outputs": []
    },
    {
      "id": "SUiuO25f-0S6Uv5at0MehA",
      "cell_type": "markdown",
      "source": [
        "# Reset Workspace"
      ],
      "metadata": {}
    },
    {
      "id": "T0pNd11nrkuDwN6S0YgItg",
      "cell_type": "code",
      "source": [
        "Workspace.Reset(x => x.ResetInitializationRules());"
      ],
      "metadata": {},
      "execution_count": 1,
      "outputs": []
    },
    {
      "id": "sAYMeiwmiUWC-T3QYXi7aw",
      "cell_type": "code",
      "source": [
        ""
      ],
      "metadata": {},
      "execution_count": 1,
      "outputs": []
    }
  ]
}