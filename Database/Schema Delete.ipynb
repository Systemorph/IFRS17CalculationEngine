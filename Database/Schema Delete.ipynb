{
    "metadata": {
        "language_info": {
            "file_extension": ".cs",
            "mimetype": "text/plain",
            "name": "C#"
        },
        "authors": [],
        "documentInfo": "{\r\n            \"authors\": [\r\n                \"Peter Kunszt\"\r\n            ],\r\n            \"contributors\": [],\r\n            \"tags\": [\r\n                \"storage\",\r\n                \"database\",\r\n                \"persistence\",\r\n                \"dependency\"\r\n            ],\r\n            \"title\": \"Multiple Storages with Persistence\",\r\n            \"description\": \"Demo the usage of database backend to resolve a data dependency.\",\r\n            \"createdDate\": \"Jan. 2022\",\r\n            \"publishedDate\": \"Jan. 2022\",\r\n            \"changelog\": [\r\n                {\r\n                    \"version\": \"1.0\",\r\n                    \"description\": \"Initial Notebook\"\r\n                }\r\n            ]\r\n        }",
        "kernelspec": {
            "display_name": "Formula Framework",
            "language": "C#",
            "name": "C#"
        }
    },
    "nbformat": 4,
    "nbformat_minor": 5,
    "cells": [
        {
            "cell_type": "code",
            "source": [
                "#!import \"PersonalConnection\""
            ]
        },
        {
            "cell_type": "code",
            "source": [
                "#r \"nuget:SqlConnection,1.0.4\""
            ]
        },
        {
            "cell_type": "code",
            "source": [
                "string[] split = connectionStringMsSql.Split(new char[] { '=', ':', ',', ';'  });",
                "\n",
                "\nstring serverName = split[2];",
                "\nstring database = split[5];",
                "\nstring userID = split[9];",
                "\nstring password = split[11];"
            ]
        },
        {
            "cell_type": "code",
            "source": [
                "using SQLConnection;",
                "\nusing System;",
                "\nusing System.Data.SqlClient;"
            ]
        },
        {
            "cell_type": "code",
            "source": [
                "string query = \"DECLARE @sql NVARCHAR(max)='' SELECT @sql += ' Drop table ' + QUOTENAME(TABLE_SCHEMA) + '.'+ QUOTENAME(TABLE_NAME) + '; 'FROM   INFORMATION_SCHEMA.TABLES WHERE  TABLE_TYPE = 'BASE TABLE' Exec Sp_executesql @sql\";"
            ]
        },
        {
            "cell_type": "code",
            "source": [
                "int rowAffect = SqlServer.AzureSqlConnection(serverName, database, userID, password, query);"
            ]
        }
    ]
}