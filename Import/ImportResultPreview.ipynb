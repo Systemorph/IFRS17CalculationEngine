{
  "metadata": {
    "kernelspec": {
      "display_name": "Formula Framework",
      "language": "C#",
      "name": "C#"
    },
    "toc-autonumbering": "True",
    "toc-showcode": "False",
    "authors": [],
    "language_info": {
      "file_extension": ".cs",
      "mimetype": "text/plain",
      "name": "C#"
    }
  },
  "nbformat": 4,
  "nbformat_minor": 5,
  "cells": [
    {
      "id": "9Q5yj6YN-EKdGXz1kK8Q6A",
      "cell_type": "markdown",
      "source": [
        "# Temporary for debugging (initialize data and construct/initialize storage)"
      ],
      "metadata": {}
    },
    {
      "id": "maDeKWCseEWbze58VbJlyw",
      "cell_type": "code",
      "source": [
        "#!eval-notebook \"../Initialization/InitSystemorphToMemory\""
      ],
      "metadata": {},
      "execution_count": 1,
      "outputs": []
    },
    {
      "id": "S2vYnVC3LUuldJH71p8jfA",
      "cell_type": "code",
      "source": [
        "#!import \"../Test/SpecificationsSetup\""
      ],
      "metadata": {},
      "execution_count": 1,
      "outputs": []
    },
    {
      "id": "BmCoR4B2rEuIBBIgZnqI1w",
      "cell_type": "markdown",
      "source": [
        "<font size=\"+1\">",
        "\nGiven the current status of the implementation, in order to display Actual reports it is necessary to set Actual format in the Args while to display Cashflow it is necessary to set Cashflow format."
      ],
      "metadata": {}
    },
    {
      "id": "trcP0qut1kWbOQTgIF35cg",
      "cell_type": "code",
      "source": [
        "var year          = 2021   ;",
        "\nvar month         = 3      ;",
        "\nvar reportingNode = \"CH\"   ;",
        "\nvar economicBasis = \"L\"    ;"
      ],
      "metadata": {},
      "execution_count": 1,
      "outputs": []
    },
    {
      "id": "2m1t-aisOEiw325jWesNXQ",
      "cell_type": "code",
      "source": [
        "var UniversePreview = await StartCalculatorAsync(reportingNode, year, month, economicBasis, Periodicity.Quarterly, ImportFormats.Cashflow);"
      ],
      "metadata": {},
      "execution_count": 1,
      "outputs": []
    },
    {
      "id": "AbkLGXiDFk6sdSdWtinXjA",
      "cell_type": "code",
      "source": [
        "var importStorage = UniversePreview.GetStorage();"
      ],
      "metadata": {},
      "execution_count": 1,
      "outputs": []
    },
    {
      "id": "k9qNkaSwjUqp_Y_vGf9RwA",
      "cell_type": "markdown",
      "source": [
        "# Import Preview"
      ],
      "metadata": {}
    },
    {
      "id": "5EP-6YDPFkeMJcxDTaO7qw",
      "cell_type": "markdown",
      "source": [
        "## Present Value"
      ],
      "metadata": {}
    },
    {
      "id": "XTFLl2lau0SjbCIEtOTHpA",
      "cell_type": "code",
      "source": [
        "var identities = UniversePreview.GetScopes<GetIdentities>(importStorage.DataNodesByImportScope[ImportScope.Primary]).SelectMany(s => s.Identities);"
      ],
      "metadata": {},
      "execution_count": 1,
      "outputs": []
    },
    {
      "id": "yEjsrBVzEk26kz9jgLkJ-Q",
      "cell_type": "code",
      "source": [
        "var pvs = UniversePreview.GetScopes<ComputeAllScopes>(identities, o => o.WithStorage(importStorage)).SelectMany(x => x.PvCurrent.Concat(x.PvLocked));"
      ],
      "metadata": {},
      "execution_count": 1,
      "outputs": []
    },
    {
      "id": "ck9xZbpeDUyh_Tw6FOoxKg",
      "cell_type": "code",
      "source": [
        "Report",
        "\n    .ForObjects<IfrsVariable>(pvs",
        "\n                        //.Where(x => x.DataNode == \"DTR1.1\")",
        "\n    )",
        "\n    .WithQuerySource(Workspace)",
        "\n    .GroupColumnsBy(x => x.EconomicBasis)",
        "\n    //.GroupColumnsBy(x => x.AmountType)",
        "\n    .GroupColumnsBy(x => x.DataNode)",
        "\n    .GroupRowsBy(x => x.Novelty)",
        "\n    .GroupRowsBy(x => x.AocType)",
        "\n    //VariableType",
        "\n    //.GroupColumnsBy(x => x.DataNode)",
        "\n    //.GroupColumnsBy(x => x.Novelty)",
        "\n    .WithGridOptionsForIfrsVariable(720)",
        "\n    .ToReport()"
      ],
      "metadata": {},
      "execution_count": 1,
      "outputs": []
    },
    {
      "id": "XIPJIPxfyEy6P4JYfRAXTA",
      "cell_type": "markdown",
      "source": [
        "## Risk Adjustment"
      ],
      "metadata": {}
    },
    {
      "id": "4bBaRnP3pE-ZbxPKKnxOCA",
      "cell_type": "code",
      "source": [
        "var ras = UniversePreview.GetScopes<ComputeAllScopes>(identities).SelectMany(x => x.RaCurrent.Concat(x.RaLocked));"
      ],
      "metadata": {},
      "execution_count": 1,
      "outputs": []
    },
    {
      "id": "AiOWaeI_Hku1SDbNB-xlXA",
      "cell_type": "code",
      "source": [
        "Report",
        "\n    .ForObjects<IfrsVariable>(ras)",
        "\n    .WithQuerySource(Workspace)",
        "\n    .GroupColumnsBy(x => x.EconomicBasis)",
        "\n    //.GroupRowsBy(x => x.DataNode)",
        "\n    .GroupRowsBy(x => x.Novelty)",
        "\n    .GroupRowsBy(x => x.AocType)",
        "\n    //VariableType",
        "\n    //.GroupColumnsBy(x => x.DataNode)",
        "\n    //.GroupColumnsBy(x => x.Novelty)",
        "\n    .WithGridOptionsForIfrsVariable()",
        "\n    .ToReport()"
      ],
      "metadata": {},
      "execution_count": 1,
      "outputs": []
    },
    {
      "id": "rqCr51d6kUGgBzGRAqrtXw",
      "cell_type": "markdown",
      "source": [
        "## Actuals"
      ],
      "metadata": {}
    },
    {
      "id": "vl8E9tTAT06fpVUcTfflbg",
      "cell_type": "code",
      "source": [
        "var actuals = UniversePreview.GetScopes<ComputeAllScopes>(identities).SelectMany(x => x.Actual);"
      ],
      "metadata": {},
      "execution_count": 1,
      "outputs": []
    },
    {
      "id": "hQUJ7t1AB0O-L0PVYPqsVw",
      "cell_type": "code",
      "source": [
        "Report",
        "\n    .ForObjects<IfrsVariable>(actuals)",
        "\n    .WithQuerySource(Workspace)",
        "\n    .GroupRowsBy(x => x.AmountType)",
        "\n    //.GroupColumnsBy(x => x.DataNode)",
        "\n    .WithGridOptionsForIfrsVariable(550)",
        "\n    .ToReport()"
      ],
      "metadata": {},
      "execution_count": 1,
      "outputs": []
    },
    {
      "id": "nwWJHZ5vTUuJsHqFTGwLQw",
      "cell_type": "markdown",
      "source": [
        "## Advance, Overdue Actuals"
      ],
      "metadata": {}
    },
    {
      "id": "UYvTQnP0NUe4pLm0fnYEAA",
      "cell_type": "code",
      "source": [
        "var aoActuals = UniversePreview.GetScopes<ComputeAllScopes>(identities).SelectMany(x => x.AdvanceActual.Concat(x.OverdueActual));"
      ],
      "metadata": {},
      "execution_count": 1,
      "outputs": []
    },
    {
      "id": "1v6tcALrVEGG-vdRDV7HIQ",
      "cell_type": "code",
      "source": [
        "Report",
        "\n    .ForObjects<IfrsVariable>(aoActuals)",
        "\n    .WithQuerySource(Workspace)",
        "\n    .GroupColumnsBy(x => x.DataNode)",
        "\n    .GroupColumnsBy(x => x.EstimateType)",
        "\n    .GroupColumnsBy(x => x.AmountType)",
        "\n    .GroupRowsBy(x => x.AocType)",
        "\n    .WithGridOptionsForIfrsVariable(300)",
        "\n    .ToReport()"
      ],
      "metadata": {},
      "execution_count": 1,
      "outputs": []
    },
    {
      "id": "ab2P4J7DO0mkVrlsP09fhQ",
      "cell_type": "markdown",
      "source": [
        "## Deferrable Actuals"
      ],
      "metadata": {}
    },
    {
      "id": "KCZlxRFa10CYDduJ65KMHg",
      "cell_type": "code",
      "source": [
        "var deferrableActuals = UniversePreview.GetScopes<ComputeAllScopes>(identities).SelectMany(x => x.DeferrableActual);"
      ],
      "metadata": {},
      "execution_count": 1,
      "outputs": []
    },
    {
      "id": "zln4EOOdqUiUTFbwoqTirw",
      "cell_type": "code",
      "source": [
        "Report",
        "\n    .ForObjects<IfrsVariable>(deferrableActuals)",
        "\n    .WithQuerySource(Workspace)",
        "\n    .GroupColumnsBy(x => x.DataNode)",
        "\n    .GroupRowsBy(x => x.AocType)",
        "\n    .WithGridOptionsForIfrsVariable(350)",
        "\n    .ToReport()"
      ],
      "metadata": {},
      "execution_count": 1,
      "outputs": []
    },
    {
      "id": "l5uZz5MhKUOYLsKpzNZwvQ",
      "cell_type": "markdown",
      "source": [
        "## Csm Lc LoReCo"
      ],
      "metadata": {}
    },
    {
      "id": "WZ_xvxUBtEKO2jingfCpRQ",
      "cell_type": "code",
      "source": [
        "var csm = UniversePreview.GetScopes<ComputeAllScopes>(identities).SelectMany(x => x.Csms);",
        "\nvar loss = UniversePreview.GetScopes<ComputeAllScopes>(identities).SelectMany(x => x.Loss);",
        "\nvar csmLcLoReCo = Enumerable.Empty<IfrsVariable>().Concat(csm).Concat(loss);"
      ],
      "metadata": {},
      "execution_count": 1,
      "outputs": []
    },
    {
      "id": "RAN7qdbDLECNmb-kxUNx1A",
      "cell_type": "code",
      "source": [
        "Report",
        "\n    .ForObjects<IfrsVariable>(csmLcLoReCo",
        "\n                            //.Where(x => x.DataNode == \"DT1.1\")",
        "\n                            )",
        "\n    .WithQuerySource(Workspace)",
        "\n    .GroupColumnsBy(x => x.DataNode)",
        "\n    .GroupColumnsBy(x => x.EstimateType)",
        "\n    .GroupRowsBy(x => x.Novelty)",
        "\n    .GroupRowsBy(x => x.AocType)",
        "\n    .WithGridOptionsForIfrsVariable()",
        "\n    .ToReport()"
      ],
      "metadata": {},
      "execution_count": 1,
      "outputs": []
    },
    {
      "id": "GszVX-_KiEa9h0m0P0rlhQ",
      "cell_type": "code",
      "source": [
        ""
      ],
      "metadata": {},
      "execution_count": 1,
      "outputs": []
    }
  ]
}