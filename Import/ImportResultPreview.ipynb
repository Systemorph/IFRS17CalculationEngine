{
    "metadata": {
        "language_info": {
            "file_extension": ".cs",
            "mimetype": "text/plain",
            "name": "C#"
        },
        "authors": [],
        "kernelspec": {
            "display_name": "Formula Framework",
            "language": "C#",
            "name": "C#"
        },
        "toc-autonumbering": "True",
        "toc-showcode": "False"
    },
    "nbformat": 4,
    "nbformat_minor": 5,
    "cells": [
        {
            "cell_type": "markdown",
            "source": [
                "# Temporary for debugging (initialize data and construct/initialize storage)"
            ]
        },
        {
            "cell_type": "code",
            "source": [
                "#!eval-notebook \"../Initialization/InitSystemorphToMemory\""
            ]
        },
        {
            "cell_type": "code",
            "source": [
                "#!import \"../Test/SpecificationsSetup\""
            ]
        },
        {
            "cell_type": "markdown",
            "source": [
                "<font size=\"+1\">",
                "\nGiven the current status of the implementation, in order to display Actual reports it is necessary to set Actual format in the Args while to display Cashflow it is necessary to set Cashflow format."
            ]
        },
        {
            "cell_type": "code",
            "source": [
                "var year          = 2021   ;",
                "\nvar month         = 3      ;",
                "\nvar reportingNode = \"CH\"   ;",
                "\nvar economicBasis = \"L\"    ;"
            ]
        },
        {
            "cell_type": "code",
            "source": [
                "var UniversePreview = await StartCalculatorAsync(reportingNode, year, month, economicBasis, Periodicity.Quarterly, ImportFormats.Cashflow);"
            ]
        },
        {
            "cell_type": "code",
            "source": [
                "var importStorage = UniversePreview.GetStorage();"
            ]
        },
        {
            "cell_type": "markdown",
            "source": [
                "# Import Preview"
            ]
        },
        {
            "cell_type": "markdown",
            "source": [
                "## Present Value"
            ]
        },
        {
            "cell_type": "code",
            "source": [
                "var identities = UniversePreview.GetScopes<GetIdentities>(importStorage.DataNodesByImportScope[ImportScope.Primary]).SelectMany(s => s.Identities);"
            ]
        },
        {
            "cell_type": "code",
            "source": [
                "var pvs = UniversePreview.GetScopes<ComputeAllScopes>(identities, o => o.WithStorage(importStorage)).SelectMany(x => x.PvCurrent.Concat(x.PvLocked));"
            ]
        },
        {
            "cell_type": "code",
            "source": [
                "Report",
                "\n    .ForObjects<IfrsVariable>(pvs",
                "\n                        //.Where(x => x.DataNode == \"DTR1.1\")",
                "\n    )",
                "\n    .WithQuerySource(Workspace)",
                "\n    .GroupColumnsBy(x => x.EconomicBasis)",
                "\n    //.GroupColumnsBy(x => x.AmountType)",
                "\n    .GroupColumnsBy(x => x.DataNode)",
                "\n    .GroupRowsBy(x => x.Novelty)",
                "\n    .GroupRowsBy(x => x.AocType)",
                "\n    //VariableType",
                "\n    //.GroupColumnsBy(x => x.DataNode)",
                "\n    //.GroupColumnsBy(x => x.Novelty)",
                "\n    .WithGridOptionsForIfrsVariable(720)",
                "\n    .ToReport()"
            ]
        },
        {
            "cell_type": "markdown",
            "source": [
                "## Risk Adjustment"
            ]
        },
        {
            "cell_type": "code",
            "source": [
                "var ras = UniversePreview.GetScopes<ComputeAllScopes>(identities).SelectMany(x => x.RaCurrent.Concat(x.RaLocked));"
            ]
        },
        {
            "cell_type": "code",
            "source": [
                "Report",
                "\n    .ForObjects<IfrsVariable>(ras)",
                "\n    .WithQuerySource(Workspace)",
                "\n    .GroupColumnsBy(x => x.EconomicBasis)",
                "\n    //.GroupRowsBy(x => x.DataNode)",
                "\n    .GroupRowsBy(x => x.Novelty)",
                "\n    .GroupRowsBy(x => x.AocType)",
                "\n    //VariableType",
                "\n    //.GroupColumnsBy(x => x.DataNode)",
                "\n    //.GroupColumnsBy(x => x.Novelty)",
                "\n    .WithGridOptionsForIfrsVariable()",
                "\n    .ToReport()"
            ]
        },
        {
            "cell_type": "markdown",
            "source": [
                "## Actuals"
            ]
        },
        {
            "cell_type": "code",
            "source": [
                "var actuals = UniversePreview.GetScopes<ComputeAllScopes>(identities).SelectMany(x => x.Actual);"
            ]
        },
        {
            "cell_type": "code",
            "source": [
                "Report",
                "\n    .ForObjects<IfrsVariable>(actuals)",
                "\n    .WithQuerySource(Workspace)",
                "\n    .GroupRowsBy(x => x.AmountType)",
                "\n    //.GroupColumnsBy(x => x.DataNode)",
                "\n    .WithGridOptionsForIfrsVariable(550)",
                "\n    .ToReport()"
            ]
        },
        {
            "cell_type": "markdown",
            "source": [
                "## Advance, Overdue Actuals"
            ]
        },
        {
            "cell_type": "code",
            "source": [
                "var aoActuals = UniversePreview.GetScopes<ComputeAllScopes>(identities).SelectMany(x => x.AdvanceActual.Concat(x.OverdueActual));"
            ]
        },
        {
            "cell_type": "code",
            "source": [
                "Report",
                "\n    .ForObjects<IfrsVariable>(aoActuals)",
                "\n    .WithQuerySource(Workspace)",
                "\n    .GroupColumnsBy(x => x.DataNode)",
                "\n    .GroupColumnsBy(x => x.EstimateType)",
                "\n    .GroupColumnsBy(x => x.AmountType)",
                "\n    .GroupRowsBy(x => x.AocType)",
                "\n    .WithGridOptionsForIfrsVariable(300)",
                "\n    .ToReport()"
            ]
        },
        {
            "cell_type": "markdown",
            "source": [
                "## Deferrable Actuals"
            ]
        },
        {
            "cell_type": "code",
            "source": [
                "var deferrableActuals = UniversePreview.GetScopes<ComputeAllScopes>(identities).SelectMany(x => x.DeferrableActual);"
            ]
        },
        {
            "cell_type": "code",
            "source": [
                "Report",
                "\n    .ForObjects<IfrsVariable>(deferrableActuals)",
                "\n    .WithQuerySource(Workspace)",
                "\n    .GroupColumnsBy(x => x.DataNode)",
                "\n    .GroupRowsBy(x => x.AocType)",
                "\n    .WithGridOptionsForIfrsVariable(350)",
                "\n    .ToReport()"
            ]
        },
        {
            "cell_type": "markdown",
            "source": [
                "## Csm Lc LoReCo"
            ]
        },
        {
            "cell_type": "code",
            "source": [
                "var csm = UniversePreview.GetScopes<ComputeAllScopes>(identities).SelectMany(x => x.Csms);",
                "\nvar loss = UniversePreview.GetScopes<ComputeAllScopes>(identities).SelectMany(x => x.Loss);",
                "\nvar csmLcLoReCo = Enumerable.Empty<IfrsVariable>().Concat(csm).Concat(loss);"
            ]
        },
        {
            "cell_type": "code",
            "source": [
                "Report",
                "\n    .ForObjects<IfrsVariable>(csmLcLoReCo",
                "\n                            //.Where(x => x.DataNode == \"DT1.1\")",
                "\n                            )",
                "\n    .WithQuerySource(Workspace)",
                "\n    .GroupColumnsBy(x => x.DataNode)",
                "\n    .GroupColumnsBy(x => x.EstimateType)",
                "\n    .GroupRowsBy(x => x.Novelty)",
                "\n    .GroupRowsBy(x => x.AocType)",
                "\n    .WithGridOptionsForIfrsVariable()",
                "\n    .ToReport()"
            ]
        },
        {
            "cell_type": "code",
            "source": [
                ""
            ]
        }
    ]
}