{
    "metadata": {
        "authors": [],
        "kernelspec": {
            "display_name": "Formula Framework",
            "language": "C#",
            "name": "C#"
        },
        "language_info": {
            "file_extension": ".cs",
            "mimetype": "text/plain",
            "name": "C#"
        },
        "toc-autonumbering": "True",
        "toc-showcode": "False"
    },
    "nbformat": 4,
    "nbformat_minor": 5,
    "cells": [
        {
            "cell_type": "markdown",
            "source": [
                "<p style=\"font-weight:bold;\"> <span style=\"font-size: 36px\"> Map Template </span> </p>"
            ]
        },
        {
            "cell_type": "markdown",
            "source": [
                "This Notebook exports the Data nodes, states, and parameters for the target partition to a spreadsheet file which can be read, modified, and is ready to be re-imported."
            ]
        },
        {
            "cell_type": "markdown",
            "source": [
                "After setting the desired target Partition, the Data present in the workspace is ready to be exported. "
            ]
        },
        {
            "cell_type": "markdown",
            "source": [
                "# Import dependencies"
            ]
        },
        {
            "cell_type": "code",
            "source": [
                "#!import \"../Utils/UtilityMethods\""
            ]
        },
        {
            "cell_type": "markdown",
            "source": [
                "# Select Initialization"
            ]
        },
        {
            "cell_type": "markdown",
            "source": [
                "Choose to run the Map Template either with the set of Systemorph data in memory or with the data present in the Database. Uncomment the desired option."
            ]
        },
        {
            "cell_type": "code",
            "source": [
                "/* The DataSource is configured and connected to real database */",
                "\n//#!eval-notebook \"Database/Configure\"",
                "\n/* The Systemorph set of dimensions + mockdata are dispatched to the unconfigured in-memory DataSource */",
                "\n#!eval-notebook \"../Initialization/InitSystemorphBaseToMemory\""
            ]
        },
        {
            "cell_type": "markdown",
            "source": [
                "# Workspace Initialization "
            ]
        },
        {
            "cell_type": "markdown",
            "source": [
                "Firstly, the Workspace is initialized with basic dimensions and with Data Nodes. For a list of the dimensions please refer to the DataModel/DataStructure notebook."
            ]
        },
        {
            "cell_type": "code",
            "source": [
                "Workspace.InitializeFrom(DataSource);"
            ]
        },
        {
            "cell_type": "markdown",
            "source": [
                "# Map Template: Data Node"
            ]
        },
        {
            "cell_type": "markdown",
            "source": [
                "## Set Partition"
            ]
        },
        {
            "cell_type": "code",
            "source": [
                "static var partition = new PartitionByReportingNode() { ReportingNode = \"CH\" };"
            ]
        },
        {
            "cell_type": "code",
            "source": [
                "await Workspace.Partition.SetAsync<PartitionByReportingNode>( partition );"
            ]
        },
        {
            "cell_type": "markdown",
            "source": [
                "## Export"
            ]
        },
        {
            "cell_type": "code",
            "source": [
                "await Export.ToExcel(\"DataNodes\")",
                "\n    .WithSource(Workspace)",
                "\n    .PortfolioConfiguration<ReinsurancePortfolio>()",
                "\n    .PortfolioConfiguration<InsurancePortfolio>()",
                "\n    .GroupofContractConfiguration<GroupOfReinsuranceContract>(typeof(ReinsurancePortfolio))",
                "\n    .GroupofContractConfiguration<GroupOfInsuranceContract>(typeof(InsurancePortfolio))",
                "\n    .MainTabConfigurationWoScenario(partition)",
                "\n.ExecuteAsync()"
            ]
        },
        {
            "cell_type": "markdown",
            "source": [
                "# Map Template: Data Node State"
            ]
        },
        {
            "cell_type": "markdown",
            "source": [
                "## Set Partition"
            ]
        },
        {
            "cell_type": "code",
            "source": [
                "static var partition = new PartitionByReportingNodeAndPeriod() { ReportingNode = \"CH\", Year = 2020, Month = 12 };"
            ]
        },
        {
            "cell_type": "code",
            "source": [
                "await Workspace.Partition.SetAsync<PartitionByReportingNode>( new PartitionByReportingNode() { ReportingNode = partition.ReportingNode } );"
            ]
        },
        {
            "cell_type": "markdown",
            "source": [
                "## Export"
            ]
        },
        {
            "cell_type": "code",
            "source": [
                "var dataNodeStates = (await Workspace.Query<DataNodeState>()",
                "\n                        .Where(x => (x.Year == partition.Year && x.Month <= partition.Month) || x.Year < partition.Year).ToArrayAsync())",
                "\n                        .GroupBy(x => x.DataNode)",
                "\n                        .Select(x => x.OrderByDescending(y => y.Year).ThenByDescending(y => y.Month))",
                "\n                        .Select(x => x.Last())",
                "\n                        .ToArray();"
            ]
        },
        {
            "cell_type": "code",
            "source": [
                "await Export.ToExcel(\"DataNodeState\")",
                "\n    .WithSource(Workspace)",
                "\n    .StateEnumConfiguration() ",
                "\n    .DataNodeStateConfiguration(dataNodeStates)",
                "\n    .MainTabConfigurationWoScenario(partition)",
                "\n.ExecuteAsync()"
            ]
        },
        {
            "cell_type": "markdown",
            "source": [
                "# Map Template: Data Node Parameter"
            ]
        },
        {
            "cell_type": "markdown",
            "source": [
                "## Set Partition"
            ]
        },
        {
            "cell_type": "code",
            "source": [
                "static var partition = new PartitionByReportingNodeAndPeriod() { ReportingNode = \"CH\", Year = 2020, Month = 12 };"
            ]
        },
        {
            "cell_type": "code",
            "source": [
                "await Workspace.Partition.SetAsync<PartitionByReportingNode>( new PartitionByReportingNode() { ReportingNode = partition.ReportingNode } );"
            ]
        },
        {
            "cell_type": "markdown",
            "source": [
                "## Export"
            ]
        },
        {
            "cell_type": "code",
            "source": [
                "var dataNodeParameters = (await Workspace.Query<DataNodeParameter>()",
                "\n                        .Where(x => (x.Year == partition.Year && x.Month <= partition.Month) || x.Year < partition.Year).ToArrayAsync())",
                "\n                        .GroupBy(x => x.GetType().Name)",
                "\n                        .ToDictionary(x => x.Key, ",
                "\n                                      x => x.GroupBy(y => y.DataNode)",
                "\n                                            .Select(y => y.OrderByDescending(z => z.Year).ThenByDescending(z => z.Month))",
                "\n                                            .Select(y => y.Last())",
                "\n                                            .ToArray() );"
            ]
        },
        {
            "cell_type": "code",
            "source": [
                "await Export.ToExcel(\"DataNodeParameter\")",
                "\n    .WithSource(Workspace)",
                "\n    .DataNodeParameterConfiguration(dataNodeParameters)",
                "\n    .MainTabConfiguration(partition)",
                "\n.ExecuteAsync()"
            ]
        },
        {
            "cell_type": "code",
            "source": [
                ""
            ]
        }
    ]
}