{
  "metadata": {
    "kernelspec": {
      "display_name": "Formula Framework",
      "language": "C#",
      "name": "C#"
    },
    "toc-autonumbering": "True",
    "toc-showcode": "False",
    "authors": [],
    "language_info": {
      "file_extension": ".cs",
      "mimetype": "text/plain",
      "name": "C#"
    }
  },
  "nbformat": 4,
  "nbformat_minor": 5,
  "cells": [
    {
      "id": "J7Lk0NfjhkC9DBXVAnd4ag",
      "cell_type": "markdown",
      "source": [
        "<p style=\"font-weight:bold;\"> <span style=\"font-size: 36px\"> Map Template </span> </p>"
      ],
      "metadata": {}
    },
    {
      "id": "nJozo1XeSkeGCLiQXUPlzA",
      "cell_type": "markdown",
      "source": [
        "This Notebook exports the Data nodes, states, and parameters for the target partition to a spreadsheet file which can be read, modified, and is ready to be re-imported."
      ],
      "metadata": {}
    },
    {
      "id": "T4LYGKNFjke1IDEPU8E44Q",
      "cell_type": "markdown",
      "source": [
        "After setting the desired target Partition, the Data present in the workspace is ready to be exported. "
      ],
      "metadata": {}
    },
    {
      "id": "J3Om4qznT0qnFdizsJg6gA",
      "cell_type": "markdown",
      "source": [
        "# Import dependencies"
      ],
      "metadata": {}
    },
    {
      "id": "jz0ZzjaNNkyPlNjH7p_9CQ",
      "cell_type": "code",
      "source": [
        "#!import \"../Utils/UtilityMethods\""
      ],
      "metadata": {},
      "execution_count": 1,
      "outputs": []
    },
    {
      "id": "4kGmVeM2F0y1LR3iEJJAaA",
      "cell_type": "markdown",
      "source": [
        "# Select Initialization"
      ],
      "metadata": {}
    },
    {
      "id": "nVFGNWhtb0iw49kOFNKpUQ",
      "cell_type": "markdown",
      "source": [
        "Choose to run the Map Template either with the set of Systemorph data in memory or with the data present in the Database. Uncomment the desired option."
      ],
      "metadata": {}
    },
    {
      "id": "MbQiJg5acUurtMhQFZOPtw",
      "cell_type": "code",
      "source": [
        "/* The DataSource is configured and connected to real database */",
        "\n//#!eval-notebook \"Database/Configure\"",
        "\n/* The Systemorph set of dimensions + mockdata are dispatched to the unconfigured in-memory DataSource */",
        "\n#!eval-notebook \"../Initialization/InitSystemorphBaseToMemory\""
      ],
      "metadata": {},
      "execution_count": 1,
      "outputs": []
    },
    {
      "id": "Ma-JBoxkmUqAb81Pb2v8EA",
      "cell_type": "markdown",
      "source": [
        "# Workspace Initialization "
      ],
      "metadata": {}
    },
    {
      "id": "zaO0K3_d3UOftmtrwhqrFg",
      "cell_type": "markdown",
      "source": [
        "Firstly, the Workspace is initialized with basic dimensions and with Data Nodes. For a list of the dimensions please refer to the DataModel/DataStructure notebook."
      ],
      "metadata": {}
    },
    {
      "id": "BP4HG8krfkul6dXSvdGHnw",
      "cell_type": "code",
      "source": [
        "Workspace.InitializeFrom(DataSource);"
      ],
      "metadata": {},
      "execution_count": 1,
      "outputs": []
    },
    {
      "id": "CirOR3dQA0iqxXipYfNcFQ",
      "cell_type": "markdown",
      "source": [
        "# Map Template: Data Node"
      ],
      "metadata": {}
    },
    {
      "id": "z1pGwBuU20ywRLjN6Gj5eg",
      "cell_type": "markdown",
      "source": [
        "## Set Partition"
      ],
      "metadata": {}
    },
    {
      "id": "8y9ezk2H7EetGACPthoNUw",
      "cell_type": "code",
      "source": [
        "static var partition = new PartitionByReportingNode() { ReportingNode = \"CH\" };"
      ],
      "metadata": {},
      "execution_count": 1,
      "outputs": []
    },
    {
      "id": "XFPlV7vwiUCUY7llRpEeEQ",
      "cell_type": "code",
      "source": [
        "await Workspace.Partition.SetAsync<PartitionByReportingNode>( partition );"
      ],
      "metadata": {},
      "execution_count": 1,
      "outputs": []
    },
    {
      "id": "7MTJTAXvjUCDuc6-sHSUQQ",
      "cell_type": "markdown",
      "source": [
        "## Export"
      ],
      "metadata": {}
    },
    {
      "id": "yBbsPeQ5XkO5M_mXJtkiTw",
      "cell_type": "code",
      "source": [
        "await Export.ToExcel(\"DataNodes\")",
        "\n    .WithSource(Workspace)",
        "\n    .PortfolioConfiguration<ReinsurancePortfolio>()",
        "\n    .PortfolioConfiguration<InsurancePortfolio>()",
        "\n    .GroupofContractConfiguration<GroupOfReinsuranceContract>(typeof(ReinsurancePortfolio))",
        "\n    .GroupofContractConfiguration<GroupOfInsuranceContract>(typeof(InsurancePortfolio))",
        "\n    .MainTabConfigurationWoScenario(partition)",
        "\n.ExecuteAsync()"
      ],
      "metadata": {},
      "execution_count": 1,
      "outputs": []
    },
    {
      "id": "SG9iYPdfGkOJqrcbjN-cIQ",
      "cell_type": "markdown",
      "source": [
        "# Map Template: Data Node State"
      ],
      "metadata": {}
    },
    {
      "id": "go7LKWKxBECDgXOhv9Se8g",
      "cell_type": "markdown",
      "source": [
        "## Set Partition"
      ],
      "metadata": {}
    },
    {
      "id": "b7xD5r6TuE2QTO-J6L8q-Q",
      "cell_type": "code",
      "source": [
        "static var partition = new PartitionByReportingNodeAndPeriod() { ReportingNode = \"CH\", Year = 2020, Month = 12 };"
      ],
      "metadata": {},
      "execution_count": 1,
      "outputs": []
    },
    {
      "id": "q1MIgSZcNE60Sx6cCGC9YA",
      "cell_type": "code",
      "source": [
        "await Workspace.Partition.SetAsync<PartitionByReportingNode>( new PartitionByReportingNode() { ReportingNode = partition.ReportingNode } );"
      ],
      "metadata": {},
      "execution_count": 1,
      "outputs": []
    },
    {
      "id": "reWr-I2FeUijpPeiXGdOCA",
      "cell_type": "markdown",
      "source": [
        "## Export"
      ],
      "metadata": {}
    },
    {
      "id": "iW-JFPjuS0q_aGWGSn4Ujg",
      "cell_type": "code",
      "source": [
        "var dataNodeStates = (await Workspace.Query<DataNodeState>()",
        "\n                        .Where(x => (x.Year == partition.Year && x.Month <= partition.Month) || x.Year < partition.Year).ToArrayAsync())",
        "\n                        .GroupBy(x => x.DataNode)",
        "\n                        .Select(x => x.OrderByDescending(y => y.Year).ThenByDescending(y => y.Month))",
        "\n                        .Select(x => x.Last())",
        "\n                        .ToArray();"
      ],
      "metadata": {},
      "execution_count": 1,
      "outputs": []
    },
    {
      "id": "64_Gk6W_qkuh47zAJ1xcZw",
      "cell_type": "code",
      "source": [
        "await Export.ToExcel(\"DataNodeState\")",
        "\n    .WithSource(Workspace)",
        "\n    .StateEnumConfiguration() ",
        "\n    .DataNodeStateConfiguration(dataNodeStates)",
        "\n    .MainTabConfigurationWoScenario(partition)",
        "\n.ExecuteAsync()"
      ],
      "metadata": {},
      "execution_count": 1,
      "outputs": []
    },
    {
      "id": "Aolg5llKGkWX3-v94jBP8A",
      "cell_type": "markdown",
      "source": [
        "# Map Template: Data Node Parameter"
      ],
      "metadata": {}
    },
    {
      "id": "amCy5h6BA0K6wxCh7NvZrg",
      "cell_type": "markdown",
      "source": [
        "## Set Partition"
      ],
      "metadata": {}
    },
    {
      "id": "kMTcDi7DFEC6FuMagh5uDg",
      "cell_type": "code",
      "source": [
        "static var partition = new PartitionByReportingNodeAndPeriod() { ReportingNode = \"CH\", Year = 2020, Month = 12 };"
      ],
      "metadata": {},
      "execution_count": 1,
      "outputs": []
    },
    {
      "id": "-tmD3uOmwUmFUX_q78nD7A",
      "cell_type": "code",
      "source": [
        "await Workspace.Partition.SetAsync<PartitionByReportingNode>( new PartitionByReportingNode() { ReportingNode = partition.ReportingNode } );"
      ],
      "metadata": {},
      "execution_count": 1,
      "outputs": []
    },
    {
      "id": "z6pkleZXd0mZN82EQprS3w",
      "cell_type": "markdown",
      "source": [
        "## Export"
      ],
      "metadata": {}
    },
    {
      "id": "0zdLZPrPw0Sm4w1TjesGMQ",
      "cell_type": "code",
      "source": [
        "var dataNodeParameters = (await Workspace.Query<DataNodeParameter>()",
        "\n                        .Where(x => (x.Year == partition.Year && x.Month <= partition.Month) || x.Year < partition.Year).ToArrayAsync())",
        "\n                        .GroupBy(x => x.GetType().Name)",
        "\n                        .ToDictionary(x => x.Key, ",
        "\n                                      x => x.GroupBy(y => y.DataNode)",
        "\n                                            .Select(y => y.OrderByDescending(z => z.Year).ThenByDescending(z => z.Month))",
        "\n                                            .Select(y => y.Last())",
        "\n                                            .ToArray() );"
      ],
      "metadata": {},
      "execution_count": 1,
      "outputs": []
    },
    {
      "id": "xp0dlpVqC0mQfbqqrpn8Aw",
      "cell_type": "code",
      "source": [
        "await Export.ToExcel(\"DataNodeParameter\")",
        "\n    .WithSource(Workspace)",
        "\n    .DataNodeParameterConfiguration(dataNodeParameters)",
        "\n    .MainTabConfiguration(partition)",
        "\n.ExecuteAsync()"
      ],
      "metadata": {},
      "execution_count": 1,
      "outputs": []
    },
    {
      "id": "3tf3mjl0gUqui_fD_X7OmQ",
      "cell_type": "code",
      "source": [
        ""
      ],
      "metadata": {},
      "execution_count": 1,
      "outputs": []
    }
  ]
}