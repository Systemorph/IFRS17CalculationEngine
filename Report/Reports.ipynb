{
  "metadata": {
    "language_info": {
      "file_extension": ".cs",
      "mimetype": "text/plain",
      "name": "C#"
    },
    "authors": [],
    "kernelspec": {
      "display_name": "Formula Framework",
      "language": "C#",
      "name": "C#"
    },
    "toc-autonumbering": "True",
    "toc-showcode": "False"
  },
  "nbformat": 4,
  "nbformat_minor": 5,
  "cells": [
    {
      "id": "1U3-hU_f80qwkFwNsbnfIQ",
      "cell_type": "markdown",
      "source": [
        "<p style=\"font-weight:bold;\"> <span style=\"font-size: 36px\"> Reports</span> </p>",
        "\n",
        "\n<a id='report-production'></a>"
      ],
      "metadata": {}
    },
    {
      "id": "me2hD-9UBkqUzPChAMdGSA",
      "cell_type": "markdown",
      "source": [
        "# Infrastructure and Configuration"
      ],
      "metadata": {}
    },
    {
      "id": "u0H8pAlgYkS1PDtJ2VPLCw",
      "cell_type": "markdown",
      "source": [
        "## Initialize data"
      ],
      "metadata": {}
    },
    {
      "id": "uGtbh5xjQkit56ozbyiS5g",
      "cell_type": "code",
      "source": [
        "/* DataSource is configured and connected to real database */",
        "\n//#!eval-notebook \"../Database/Configure\""
      ],
      "metadata": {},
      "execution_count": 1,
      "outputs": []
    },
    {
      "id": "TDC5BXyEaEeRJ3z9MmQClw",
      "cell_type": "code",
      "source": [
        "#!eval-notebook \"../Initialization/InitSystemorphToMemory\""
      ],
      "metadata": {},
      "execution_count": 1,
      "outputs": []
    },
    {
      "id": "jZ-XCFkJ2kqGHwxkU5vMWA",
      "cell_type": "code",
      "source": [
        "Workspace.InitializeFrom(DataSource);"
      ],
      "metadata": {},
      "execution_count": 1,
      "outputs": []
    },
    {
      "id": "QyUqnd2bSkOLW_SKU1cJBw",
      "cell_type": "markdown",
      "source": [
        "## Imports and Configurations"
      ],
      "metadata": {}
    },
    {
      "id": "I99Rcm-9LUmvvSjstjY9Hw",
      "cell_type": "code",
      "source": [
        "#!import \"ReportScopes\""
      ],
      "metadata": {},
      "execution_count": 1,
      "outputs": []
    },
    {
      "id": "LpptbT8Q_ESVOFAw3M1HQg",
      "cell_type": "code",
      "source": [
        "var reportStorage = new ReportStorage(Workspace, Report);",
        "\nawait reportStorage.InitializeReportIndependentCacheAsync();",
        "\nvar mostRecentPartition = (await Workspace.Query<PartitionByReportingNodeAndPeriod>().Where(x => x.Scenario == null).OrderBy(x => x.Year).ThenBy(x => x.Month).ToArrayAsync()).Last();",
        "\nvar reportingNodeRoot = (await Workspace.Query<ReportingNode>().Where(x => x.Parent == null).ToArrayAsync()).First().SystemName;",
        "\nawait reportStorage.InitializeAsync((mostRecentPartition.Year, mostRecentPartition.Month), reportingNodeRoot, null, CurrencyType.Contractual);",
        "\nvar identities = reportStorage.GetIdentities((mostRecentPartition.Year, mostRecentPartition.Month), reportingNodeRoot, null, CurrencyType.Contractual);"
      ],
      "metadata": {},
      "execution_count": 1,
      "outputs": []
    },
    {
      "id": "COjZVjOdgkSk8q3E6JHEgg",
      "cell_type": "markdown",
      "source": [
        "## Calling Scope"
      ],
      "metadata": {}
    },
    {
      "id": "SMyYdCikXUua1hdjbI4OmA",
      "cell_type": "code",
      "source": [
        "var universe = Scopes.ForSingleton().WithStorage(reportStorage).ToScope<IUniverse>();"
      ],
      "metadata": {},
      "execution_count": 1,
      "outputs": []
    },
    {
      "id": "538kYx9ba0GWU4_h7XqOqA",
      "cell_type": "markdown",
      "source": [
        "# Report Settings and Storage Update"
      ],
      "metadata": {}
    },
    {
      "id": "UuYESB0ub0-pmUPR8T6jIQ",
      "cell_type": "code",
      "source": [
        "((int Year, int Month) Period, string ReportingNode, string Scenario, CurrencyType CurrencyType) Args =",
        "\n    //((2020, 12), reportingNodeRoot, null,CurrencyType.Contractual)",
        "\n    ((2021, 3), reportingNodeRoot, null,CurrencyType.Contractual)",
        "\n    //((2021, 3), reportingNodeRoot, null,CurrencyType.Functional)",
        "\n    //((2021, 3), reportingNodeRoot, null,CurrencyType.Group)",
        "\n     ;",
        "\n",
        "\nawait reportStorage.InitializeAsync(Args.Period, Args.ReportingNode, Args.Scenario, Args.CurrencyType);",
        "\nidentities = reportStorage.GetIdentities(Args.Period, Args.ReportingNode, Args.Scenario, Args.CurrencyType);"
      ],
      "metadata": {},
      "execution_count": 1,
      "outputs": []
    },
    {
      "id": "30b39e5d-9bc6-40f1-94c3-124f313592d6",
      "cell_type": "markdown",
      "source": [
        "# Data Constellation",
        "\n",
        "\nWe have "
      ],
      "metadata": {}
    },
    {
      "id": "spXqsA5i2k-QnXdIiPiN8g",
      "cell_type": "markdown",
      "source": [
        "# Present Value",
        "\n",
        "\nPresent values of the best estimate of future cashflows are shown here in an Analysis of Chain report.",
        "\n",
        "\nThe report view can be modified by changing the Slice options for the columns by changing the <code>SliceColumnBy</code> inputs in the next command cell.",
        "\nThe figures displayed in the report are automatically aggreggated to meet the granularity desired by the user.",
        "\n",
        "\nCurrenlty, the data is sliced by :",
        "\n- CurrencyType",
        "\n- LiabilityType",
        "\n- EconomicBasis",
        "\n",
        "\nFor example one can add <code>\"GroupOfContract\"</code> to separate the contributions of the individual Group of Contracts.",
        "\n<br> We suggest to add this slice between the <code>\"LiabilityType\"</code> and the <code>\"EconomicBasis\"</code> as the the order of the inputs corresponds to the order of the columns shown in the report to expand the data."
      ],
      "metadata": {}
    },
    {
      "id": "D2Y8VUl5EkSZ6EaxxjHxQw",
      "cell_type": "code",
      "source": [
        "Report.ForDataCube((universe.GetScopes<LockedBestEstimate>(identities).Aggregate().LockedBestEstimate + universe.GetScopes<CurrentBestEstimate>(identities).Aggregate().CurrentBestEstimate)",
        "\n                   //.Filter((\"GroupOfContract\", \"DT1.1\"))",
        "\n                  )",
        "\n    .WithQuerySource(DataSource)",
        "\n    .SliceRowsBy(\"Novelty\",\"VariableType\")",
        "\n    .SliceColumnsBy(CurrencyGrouper(Args.CurrencyType), \"LiabilityType\", \"EconomicBasis\") //\"GroupOfContract\"",
        "\n    .ReportGridOptions()",
        "\n    .ToReport()"
      ],
      "metadata": {},
      "execution_count": 1,
      "outputs": []
    },
    {
      "id": "IB3NvnT2k0uFqLZP9EBMAw",
      "cell_type": "markdown",
      "source": [
        "# Risk Adjustment",
        "\n",
        "\nExplain the Filter "
      ],
      "metadata": {}
    },
    {
      "id": "Vx4bYAkCsE2OfLFbPg380w",
      "cell_type": "code",
      "source": [
        "Report.ForDataCube((universe.GetScopes<LockedRiskAdjustment>(identities).Aggregate().LockedRiskAdjustment + universe.GetScopes<CurrentRiskAdjustment>(identities).Aggregate().CurrentRiskAdjustment)",
        "\n                   //.Filter((\"GroupOfContract\", \"DT1.1\"))",
        "\n                  )",
        "\n    .WithQuerySource(DataSource)",
        "\n    .SliceRowsBy(\"Novelty\",\"VariableType\")",
        "\n    .SliceColumnsBy(CurrencyGrouper(Args.CurrencyType), \"EconomicBasis\", \"LiabilityType\",\"GroupOfContract\")",
        "\n    .ReportGridOptions()",
        "\n    .ToReport()"
      ],
      "metadata": {},
      "execution_count": 1,
      "outputs": []
    },
    {
      "id": "ncU2iZ7tvEy2fxjWmU3Iqg",
      "cell_type": "markdown",
      "source": [
        "# Actuals"
      ],
      "metadata": {}
    },
    {
      "id": "lUNkYQ-KvUqVSA4cxDP-cg",
      "cell_type": "code",
      "source": [
        "Report.ForDataCube(universe.GetScopes<WrittenAndAccruals>(identities).Aggregate().Written",
        "\n                   //.Filter((\"GroupOfContract\", \"DT1.1\"))",
        "\n                  )",
        "\n    .WithQuerySource(DataSource)",
        "\n    .SliceRowsBy(\"AmountType\")",
        "\n    .SliceColumnsBy(CurrencyGrouper(Args.CurrencyType), \"LiabilityType\",\"GroupOfContract\")",
        "\n    .ReportGridOptions(reportHeight: 450)",
        "\n    .ToReport()"
      ],
      "metadata": {},
      "execution_count": 1,
      "outputs": []
    },
    {
      "id": "5p79FR5-wUKCtkk4E1UKsQ",
      "cell_type": "markdown",
      "source": [
        "## Advance, Overdue Actuals",
        "\n",
        "\nAdd <code>\"AmountType\"\"</code> in the slices."
      ],
      "metadata": {}
    },
    {
      "id": "9xxC0nELUk6ZaH6064_mqw",
      "cell_type": "code",
      "source": [
        "Report.ForDataCube((universe.GetScopes<WrittenAndAccruals>(identities).Aggregate().Advance + universe.GetScopes<WrittenAndAccruals>(identities).Aggregate().Overdue)",
        "\n                   //.Filter((\"GroupOfContract\", \"DT1.1\"))",
        "\n                  )",
        "\n    .WithQuerySource(DataSource)",
        "\n    .SliceRowsBy(\"VariableType\")",
        "\n    .SliceColumnsBy(CurrencyGrouper(Args.CurrencyType), \"LiabilityType\",\"GroupOfContract\", \"EstimateType\")",
        "\n    .ReportGridOptions(reportHeight: 400)",
        "\n    .ToReport()"
      ],
      "metadata": {},
      "execution_count": 1,
      "outputs": []
    },
    {
      "id": "5wuvd2c6O02jxhFkFp49GA",
      "cell_type": "markdown",
      "source": [
        "## Deferrable Actuals"
      ],
      "metadata": {}
    },
    {
      "id": "FlZFgvuEikyv4qcH6xvZYw",
      "cell_type": "code",
      "source": [
        "Report.ForDataCube(universe.GetScopes<Deferrals>(identities).Aggregate().Deferrals",
        "\n                   //.Filter((\"GroupOfContract\", \"DT1.1\"))",
        "\n                  )",
        "\n    .WithQuerySource(DataSource)",
        "\n    .SliceRowsBy(\"VariableType\")",
        "\n    .SliceColumnsBy(CurrencyGrouper(Args.CurrencyType), \"LiabilityType\",\"GroupOfContract\")",
        "\n    .ReportGridOptions(reportHeight: 400)",
        "\n    .ToReport()"
      ],
      "metadata": {},
      "execution_count": 1,
      "outputs": []
    },
    {
      "id": "MAO2KskzTEeZSNhRJLd0Zg",
      "cell_type": "markdown",
      "source": [
        "# Fulfilment Cashflow"
      ],
      "metadata": {}
    },
    {
      "id": "yQAAlgUfUkuF5u60nLLPcw",
      "cell_type": "code",
      "source": [
        "Report.ForDataCube(universe.GetScopes<Fcf>(identities).Aggregate().Fcf    ",
        "\n                   //.Filter((\"GroupOfContract\", \"DT1.1\"))",
        "\n                  )",
        "\n    .WithQuerySource(DataSource)",
        "\n    .SliceRowsBy(\"Novelty\",\"VariableType\")",
        "\n    .SliceColumnsBy(CurrencyGrouper(Args.CurrencyType), \"LiabilityType\",\"GroupOfContract\", \"EconomicBasis\")//, \"EstimateType\")//, \"AmountType\")",
        "\n    .ReportGridOptions()",
        "\n    .ToReport()"
      ],
      "metadata": {},
      "execution_count": 1,
      "outputs": []
    },
    {
      "id": "uF8DY0mc7UqiiYqQ6l6uxQ",
      "cell_type": "markdown",
      "source": [
        "# Actuarial Experience Adjustment"
      ],
      "metadata": {}
    },
    {
      "id": "HhH_UKImy0CsdcsI6-f6NA",
      "cell_type": "code",
      "source": [
        "Report.ForDataCube(universe.GetScopes<ExperienceAdjustment>(identities).Aggregate().ActuarialExperienceAdjustment",
        "\n                   //.Filter((\"GroupOfContract\", \"DT1.1\"))",
        "\n                  )",
        "\n    .WithQuerySource(DataSource)",
        "\n    .SliceRowsBy(\"EstimateType\")",
        "\n    .SliceColumnsBy(CurrencyGrouper(Args.CurrencyType), \"GroupOfContract\", \"AmountType\" )//\"LiabilityType\", \"EstimateType\")",
        "\n    .ReportGridOptions(reportHeight: 300, headerColumnWidth: 300)",
        "\n    .ToReport() "
      ],
      "metadata": {},
      "execution_count": 1,
      "outputs": []
    },
    {
      "id": "4P1Lq_n2rkC67MsvbYyLeg",
      "cell_type": "markdown",
      "source": [
        "# LRC Technical Margin"
      ],
      "metadata": {}
    },
    {
      "id": "2qHsCZAs806CvGJgBNEVVQ",
      "cell_type": "code",
      "source": [
        "Report.ForDataCube(universe.GetScopes<LrcTechnicalMargin>(identities).Aggregate().LrcTechnicalMargin",
        "\n                   //.Filter((\"GroupOfContract\", \"DT1.1\"))",
        "\n                  )",
        "\n    .WithQuerySource(DataSource)",
        "\n    .SliceRowsBy(\"Novelty\",\"VariableType\")",
        "\n    .SliceColumnsBy(CurrencyGrouper(Args.CurrencyType), \"GroupOfContract\")",
        "\n    .ReportGridOptions(reportHeight: 600)",
        "\n    .ToReport()"
      ],
      "metadata": {},
      "execution_count": 1,
      "outputs": []
    },
    {
      "id": "3F3PhlQxqkWBa0AnU5W6mA",
      "cell_type": "markdown",
      "source": [
        "# Contractual Service Margin / Loss Component / Loss Recovery Component"
      ],
      "metadata": {}
    },
    {
      "id": "gs0gMZiNAk2Jx8IKLuVcvA",
      "cell_type": "code",
      "source": [
        "Report.ForDataCube((universe.GetScopes<Csm>(identities).Aggregate().Csm + universe.GetScopes<Lc>(identities).Aggregate().Lc + universe.GetScopes<Loreco>(identities).Aggregate().Loreco)",
        "\n                   //.Filter((\"GroupOfContract\", \"DT1.1\"))",
        "\n                  )",
        "\n    .WithQuerySource(DataSource)",
        "\n    .SliceRowsBy(\"Novelty\",\"VariableType\")",
        "\n    .SliceColumnsBy(CurrencyGrouper(Args.CurrencyType), \"GroupOfContract\", \"EstimateType\")",
        "\n    .ReportGridOptions()",
        "\n    .ToReport()"
      ],
      "metadata": {},
      "execution_count": 1,
      "outputs": []
    },
    {
      "id": "39j6UxhSA0uSJNFLzSMRYg",
      "cell_type": "markdown",
      "source": [
        "# LRC Actuarial"
      ],
      "metadata": {}
    },
    {
      "id": "4kG8l2FHpkCjcnv-q5Rwkw",
      "cell_type": "code",
      "source": [
        "Report.ForDataCube((universe.GetScopes<LrcActuarial>(identities).Aggregate().LrcActuarial)",
        "\n                   //.Filter((\"GroupOfContract\", \"DT1.1\"))",
        "\n                  )",
        "\n    .WithQuerySource(DataSource)",
        "\n    .SliceRowsBy(\"Novelty\",\"VariableType\")",
        "\n    .SliceColumnsBy(CurrencyGrouper(Args.CurrencyType), /*\"LiabilityType\",\"GroupOfContract\",*/ \"EstimateType\")",
        "\n    .ReportGridOptions()",
        "\n    .ToReport()"
      ],
      "metadata": {},
      "execution_count": 1,
      "outputs": []
    },
    {
      "id": "Igfu5McpcUa4ORph4McI6g",
      "cell_type": "markdown",
      "source": [
        "# LRC"
      ],
      "metadata": {}
    },
    {
      "id": "jQtxFjgD9U2imsZ5CiVx2g",
      "cell_type": "code",
      "source": [
        "Report.ForDataCube((universe.GetScopes<Lrc>(identities).Aggregate().Lrc)",
        "\n                   //.Filter((\"GroupOfContract\", \"DT1.1\"))",
        "\n                  )",
        "\n    .WithQuerySource(DataSource)",
        "\n    .SliceRowsBy(\"VariableType\")",
        "\n    .SliceColumnsBy(CurrencyGrouper(Args.CurrencyType),\"GroupOfContract\", \"EstimateType\")",
        "\n    .ReportGridOptions(300)",
        "\n    .ToReport()"
      ],
      "metadata": {},
      "execution_count": 1,
      "outputs": []
    },
    {
      "id": "dZ8KVTA4WkuJZdxC09iuiQ",
      "cell_type": "markdown",
      "source": [
        "# LIC Actuarial"
      ],
      "metadata": {}
    },
    {
      "id": "CAXoAvfKdk6VKSgwRZplgA",
      "cell_type": "code",
      "source": [
        "Report.ForDataCube((universe.GetScopes<LicActuarial>(identities).Aggregate().LicActuarial)",
        "\n                   //.Filter((\"GroupOfContract\", \"DT1.1\"))",
        "\n                  )",
        "\n    .WithQuerySource(DataSource)",
        "\n    .SliceRowsBy(\"Novelty\",\"VariableType\")",
        "\n    .SliceColumnsBy(CurrencyGrouper(Args.CurrencyType), /*\"GroupOfContract\",*/ \"EstimateType\")",
        "\n    .ReportGridOptions()",
        "\n    .ToReport()"
      ],
      "metadata": {},
      "execution_count": 1,
      "outputs": []
    },
    {
      "id": "q1RxJxSTCk2zVjInVNdAzg",
      "cell_type": "markdown",
      "source": [
        "# LIC"
      ],
      "metadata": {}
    },
    {
      "id": "rc1o2W9lvUOBLnbn-MxRRw",
      "cell_type": "code",
      "source": [
        "Report.ForDataCube((universe.GetScopes<Lic>(identities).Aggregate().Lic)",
        "\n                   //.Filter((\"GroupOfContract\", \"DT1.1\"))",
        "\n                  )",
        "\n    .WithQuerySource(DataSource)",
        "\n    .SliceRowsBy(\"VariableType\")",
        "\n    .SliceColumnsBy(CurrencyGrouper(Args.CurrencyType), /*\"GroupOfContract\",*/ \"EstimateType\")",
        "\n    .ReportGridOptions(300)",
        "\n    .ToReport()"
      ],
      "metadata": {},
      "execution_count": 1,
      "outputs": []
    },
    {
      "id": "dI-BtkhyEkOSQkwJRxs0dQ",
      "cell_type": "markdown",
      "source": [
        "# Financial Performance",
        "\n",
        "\nUse the expand and collapse buttons in the report rows to change the granularity of the figures displayed."
      ],
      "metadata": {}
    },
    {
      "id": "e7jpS8lNhE2913hj-FXjxw",
      "cell_type": "code",
      "source": [
        "Report.ForDataCube(universe.GetScopes<FinancialPerformance>(identities).Aggregate().FinancialPerformance",
        "\n                   //.Filter((\"GroupOfContract\", \"DT1.1\"))",
        "\n                  )",
        "\n    .WithQuerySource(DataSource)",
        "\n    .SliceRowsBy(\"VariableType\", \"EstimateType\")",
        "\n    .SliceColumnsBy(CurrencyGrouper(Args.CurrencyType), \"LiabilityType\",\"GroupOfContract\")",
        "\n    .ReportGridOptions(reportHeight: 900, headerColumnWidth: 500, groupDefaultExpanded: 3)",
        "\n    .ToReport()"
      ],
      "metadata": {},
      "execution_count": 1,
      "outputs": []
    },
    {
      "id": "CIY_4o8vO0KJafPttQEQcA",
      "cell_type": "code",
      "source": [
        ""
      ],
      "metadata": {},
      "execution_count": 1,
      "outputs": []
    }
  ]
}