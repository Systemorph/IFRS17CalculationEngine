{
    "metadata": {
        "authors": [],
        "kernelspec": {
            "display_name": "Formula Framework",
            "language": "C#",
            "name": "C#"
        },
        "language_info": {
            "file_extension": ".cs",
            "mimetype": "text/plain",
            "name": "C#"
        },
        "toc-autonumbering": "True",
        "toc-showcode": "False"
    },
    "nbformat": 4,
    "nbformat_minor": 5,
    "cells": [
        {
            "cell_type": "markdown",
            "source": [
                "<p style=\"font-weight:bold;\"> <span style=\"font-size: 36px\"> Reports</span> </p>",
                "\n",
                "\n<a id='report-production'></a>"
            ]
        },
        {
            "cell_type": "markdown",
            "source": [
                "# Infrastructure and Configuration"
            ]
        },
        {
            "cell_type": "markdown",
            "source": [
                "## Initialize data"
            ]
        },
        {
            "cell_type": "code",
            "source": [
                "/* DataSource is configured and connected to real database */",
                "\n//#!eval-notebook \"../Database/Configure\""
            ]
        },
        {
            "cell_type": "code",
            "source": [
                "#!eval-notebook \"../Initialization/InitSystemorphToMemory\""
            ]
        },
        {
            "cell_type": "code",
            "source": [
                "Workspace.InitializeFrom(DataSource);"
            ]
        },
        {
            "cell_type": "markdown",
            "source": [
                "## Imports and Configurations"
            ]
        },
        {
            "cell_type": "code",
            "source": [
                "#!import \"ReportScopes\""
            ]
        },
        {
            "cell_type": "code",
            "source": [
                "var reportStorage = new ReportStorage(Workspace, Report);",
                "\nawait reportStorage.InitializeReportIndependentCacheAsync();",
                "\nvar mostRecentPartition = (await Workspace.Query<PartitionByReportingNodeAndPeriod>().Where(x => x.Scenario == null).OrderBy(x => x.Year).ThenBy(x => x.Month).ToArrayAsync()).Last();",
                "\nvar reportingNodeRoot = (await Workspace.Query<ReportingNode>().Where(x => x.Parent == null).ToArrayAsync()).First().SystemName;",
                "\nawait reportStorage.InitializeAsync((mostRecentPartition.Year, mostRecentPartition.Month), reportingNodeRoot, null, CurrencyType.Contractual);",
                "\nvar identities = reportStorage.GetIdentities((mostRecentPartition.Year, mostRecentPartition.Month), reportingNodeRoot, null, CurrencyType.Contractual);"
            ]
        },
        {
            "cell_type": "markdown",
            "source": [
                "## Calling Scope"
            ]
        },
        {
            "cell_type": "code",
            "source": [
                "var universe = Scopes.ForSingleton().WithStorage(reportStorage).ToScope<IUniverse>();"
            ]
        },
        {
            "cell_type": "markdown",
            "source": [
                "# Report Settings and Storage Update"
            ]
        },
        {
            "cell_type": "code",
            "source": [
                "((int Year, int Month) Period, string ReportingNode, string Scenario, CurrencyType CurrencyType) Args =",
                "\n    //((2020, 12), reportingNodeRoot, null,CurrencyType.Contractual)",
                "\n    ((2021, 3), reportingNodeRoot, null,CurrencyType.Contractual)",
                "\n    //((2021, 12), reportingNodeRoot, null,CurrencyType.Contractual)",
                "\n    //((2021, 3), reportingNodeRoot, null,CurrencyType.Functional)",
                "\n    //((2021, 3), reportingNodeRoot, null,CurrencyType.Group)",
                "\n     ;",
                "\n",
                "\nawait reportStorage.InitializeAsync(Args.Period, Args.ReportingNode, Args.Scenario, Args.CurrencyType);",
                "\nidentities = reportStorage.GetIdentities(Args.Period, Args.ReportingNode, Args.Scenario, Args.CurrencyType);"
            ]
        },
        {
            "cell_type": "markdown",
            "source": [
                "# Present Value"
            ]
        },
        {
            "cell_type": "code",
            "source": [
                "Report.ForDataCube((universe.GetScopes<LockedBestEstimate>(identities).Aggregate().LockedBestEstimate + universe.GetScopes<CurrentBestEstimate>(identities).Aggregate().CurrentBestEstimate)",
                "\n                   //.Filter((\"GroupOfContract\", \"DT1.1\"))",
                "\n                  )",
                "\n    .WithQuerySource(DataSource)",
                "\n    .SliceRowsBy(\"Novelty\",\"VariableType\")",
                "\n    .SliceColumnsBy(CurrencyGrouper(Args.CurrencyType), \"LiabilityType\",\"GroupOfContract\", \"EconomicBasis\")",
                "\n    .ReportGridOptions()",
                "\n    .ToReport()"
            ]
        },
        {
            "cell_type": "markdown",
            "source": [
                "# Risk Adjustment"
            ]
        },
        {
            "cell_type": "code",
            "source": [
                "Report.ForDataCube((universe.GetScopes<LockedRiskAdjustment>(identities).Aggregate().LockedRiskAdjustment + universe.GetScopes<CurrentRiskAdjustment>(identities).Aggregate().CurrentRiskAdjustment)",
                "\n                   //.Filter((\"GroupOfContract\", \"DT1.1\"))",
                "\n                  )",
                "\n    .WithQuerySource(DataSource)",
                "\n    .SliceRowsBy(\"Novelty\",\"VariableType\")",
                "\n    .SliceColumnsBy(CurrencyGrouper(Args.CurrencyType), \"EconomicBasis\", \"LiabilityType\",\"GroupOfContract\")",
                "\n    .ReportGridOptions()",
                "\n    .ToReport()"
            ]
        },
        {
            "cell_type": "markdown",
            "source": [
                "# Actuals"
            ]
        },
        {
            "cell_type": "code",
            "source": [
                "Report.ForDataCube(universe.GetScopes<WrittenAndAccruals>(identities).Aggregate().Written",
                "\n                   //.Filter((\"GroupOfContract\", \"DT1.1\"))",
                "\n                  )",
                "\n    .WithQuerySource(DataSource)",
                "\n    .SliceRowsBy(\"AmountType\")",
                "\n    .SliceColumnsBy(CurrencyGrouper(Args.CurrencyType), \"LiabilityType\",\"GroupOfContract\")",
                "\n    .ReportGridOptions(reportHeight: 450)",
                "\n    .ToReport()"
            ]
        },
        {
            "cell_type": "markdown",
            "source": [
                "## Advance, Overdue Actuals"
            ]
        },
        {
            "cell_type": "code",
            "source": [
                "Report.ForDataCube((universe.GetScopes<WrittenAndAccruals>(identities).Aggregate().Advance + universe.GetScopes<WrittenAndAccruals>(identities).Aggregate().Overdue)",
                "\n                   //.Filter((\"GroupOfContract\", \"DT1.1\"))",
                "\n                  )",
                "\n    .WithQuerySource(DataSource)",
                "\n    .SliceRowsBy(\"VariableType\")",
                "\n    .SliceColumnsBy(CurrencyGrouper(Args.CurrencyType), \"LiabilityType\",\"GroupOfContract\", \"EstimateType\")",
                "\n    .ReportGridOptions(reportHeight: 400)",
                "\n    .ToReport()"
            ]
        },
        {
            "cell_type": "markdown",
            "source": [
                "## Deferrable Actuals"
            ]
        },
        {
            "cell_type": "code",
            "source": [
                "Report.ForDataCube(universe.GetScopes<Deferrals>(identities).Aggregate().Deferrals",
                "\n                   //.Filter((\"GroupOfContract\", \"DT1.1\"))",
                "\n                  )",
                "\n    .WithQuerySource(DataSource)",
                "\n    .SliceRowsBy(\"VariableType\")",
                "\n    .SliceColumnsBy(CurrencyGrouper(Args.CurrencyType), \"LiabilityType\",\"GroupOfContract\")",
                "\n    .ReportGridOptions(reportHeight: 400)",
                "\n    .ToReport()"
            ]
        },
        {
            "cell_type": "markdown",
            "source": [
                "# Fulfilment Cashflow"
            ]
        },
        {
            "cell_type": "code",
            "source": [
                "Report.ForDataCube(universe.GetScopes<Fcf>(identities).Aggregate().Fcf    ",
                "\n                   //.Filter((\"GroupOfContract\", \"DT1.1\"))",
                "\n                  )",
                "\n    .WithQuerySource(DataSource)",
                "\n    .SliceRowsBy(\"Novelty\",\"VariableType\")",
                "\n    .SliceColumnsBy(CurrencyGrouper(Args.CurrencyType), \"LiabilityType\",\"GroupOfContract\", \"EconomicBasis\")//, \"EstimateType\")//, \"AmountType\")",
                "\n    .ReportGridOptions()",
                "\n    .ToReport()"
            ]
        },
        {
            "cell_type": "markdown",
            "source": [
                "# Actuarial Experience Adjustment"
            ]
        },
        {
            "cell_type": "code",
            "source": [
                "Report.ForDataCube(universe.GetScopes<ExperienceAdjustment>(identities).Aggregate().ActuarialExperienceAdjustment",
                "\n                   //.Filter((\"GroupOfContract\", \"DT1.1\"))",
                "\n                  )",
                "\n    .WithQuerySource(DataSource)",
                "\n    .SliceRowsBy(\"EstimateType\")",
                "\n    .SliceColumnsBy(CurrencyGrouper(Args.CurrencyType), \"GroupOfContract\", \"AmountType\" )//\"LiabilityType\", \"EstimateType\")",
                "\n    .ReportGridOptions(reportHeight: 300, headerColumnWidth: 300)",
                "\n    .ToReport() "
            ]
        },
        {
            "cell_type": "markdown",
            "source": [
                "# LRC Technical Margin"
            ]
        },
        {
            "cell_type": "code",
            "source": [
                "Report.ForDataCube(universe.GetScopes<LrcTechnicalMargin>(identities).Aggregate().LrcTechnicalMargin",
                "\n                   //.Filter((\"GroupOfContract\", \"DT1.1\"))",
                "\n                  )",
                "\n    .WithQuerySource(DataSource)",
                "\n    .SliceRowsBy(\"Novelty\",\"VariableType\")",
                "\n    .SliceColumnsBy(CurrencyGrouper(Args.CurrencyType), \"GroupOfContract\")",
                "\n    .ReportGridOptions(reportHeight: 600)",
                "\n    .ToReport()"
            ]
        },
        {
            "cell_type": "markdown",
            "source": [
                "# Contractual Service Margin / Loss Component / Loss Recovery Component"
            ]
        },
        {
            "cell_type": "code",
            "source": [
                "Report.ForDataCube((universe.GetScopes<Csm>(identities).Aggregate().Csm + universe.GetScopes<Lc>(identities).Aggregate().Lc + universe.GetScopes<Loreco>(identities).Aggregate().Loreco)",
                "\n                   //.Filter((\"GroupOfContract\", \"DT1.1\"))",
                "\n                  )",
                "\n    .WithQuerySource(DataSource)",
                "\n    .SliceRowsBy(\"Novelty\",\"VariableType\")",
                "\n    .SliceColumnsBy(CurrencyGrouper(Args.CurrencyType), \"GroupOfContract\", \"EstimateType\")",
                "\n    .ReportGridOptions()",
                "\n    .ToReport()"
            ]
        },
        {
            "cell_type": "markdown",
            "source": [
                "# LRC Actuarial"
            ]
        },
        {
            "cell_type": "code",
            "source": [
                "Report.ForDataCube((universe.GetScopes<LrcActuarial>(identities).Aggregate().LrcActuarial)",
                "\n                   //.Filter((\"GroupOfContract\", \"DT1.1\"))",
                "\n                  )",
                "\n    .WithQuerySource(DataSource)",
                "\n    .SliceRowsBy(\"Novelty\",\"VariableType\")",
                "\n    .SliceColumnsBy(CurrencyGrouper(Args.CurrencyType), /*\"LiabilityType\",\"GroupOfContract\",*/ \"EstimateType\")",
                "\n    .ReportGridOptions()",
                "\n    .ToReport()"
            ]
        },
        {
            "cell_type": "markdown",
            "source": [
                "# LRC"
            ]
        },
        {
            "cell_type": "code",
            "source": [
                "Report.ForDataCube((universe.GetScopes<Lrc>(identities).Aggregate().Lrc)",
                "\n                   //.Filter((\"GroupOfContract\", \"DT1.1\"))",
                "\n                  )",
                "\n    .WithQuerySource(DataSource)",
                "\n    .SliceRowsBy(\"VariableType\")",
                "\n    .SliceColumnsBy(CurrencyGrouper(Args.CurrencyType),\"GroupOfContract\", \"EstimateType\")",
                "\n    .ReportGridOptions(300)",
                "\n    .ToReport()"
            ]
        },
        {
            "cell_type": "markdown",
            "source": [
                "# LIC Actuarial"
            ]
        },
        {
            "cell_type": "code",
            "source": [
                "Report.ForDataCube((universe.GetScopes<LicActuarial>(identities).Aggregate().LicActuarial)",
                "\n                   //.Filter((\"GroupOfContract\", \"DT1.1\"))",
                "\n                  )",
                "\n    .WithQuerySource(DataSource)",
                "\n    .SliceRowsBy(\"Novelty\",\"VariableType\")",
                "\n    .SliceColumnsBy(CurrencyGrouper(Args.CurrencyType), /*\"GroupOfContract\",*/ \"EstimateType\")",
                "\n    .ReportGridOptions()",
                "\n    .ToReport()"
            ]
        },
        {
            "cell_type": "markdown",
            "source": [
                "# LIC"
            ]
        },
        {
            "cell_type": "code",
            "source": [
                "Report.ForDataCube((universe.GetScopes<Lic>(identities).Aggregate().Lic)",
                "\n                   //.Filter((\"GroupOfContract\", \"DT1.1\"))",
                "\n                  )",
                "\n    .WithQuerySource(DataSource)",
                "\n    .SliceRowsBy(\"VariableType\")",
                "\n    .SliceColumnsBy(CurrencyGrouper(Args.CurrencyType), /*\"GroupOfContract\",*/ \"EstimateType\")",
                "\n    .ReportGridOptions(300)",
                "\n    .ToReport()"
            ]
        },
        {
            "cell_type": "markdown",
            "source": [
                "# Financial Performance"
            ]
        },
        {
            "cell_type": "code",
            "source": [
                "Report.ForDataCube(universe.GetScopes<FinancialPerformance>(identities).Aggregate().FinancialPerformance",
                "\n                   //.Filter((\"GroupOfContract\", \"DT1.1\"))",
                "\n                  )",
                "\n    .WithQuerySource(DataSource)",
                "\n    .SliceRowsBy(\"VariableType\", \"EstimateType\")",
                "\n    .SliceColumnsBy(CurrencyGrouper(Args.CurrencyType), \"LiabilityType\",\"GroupOfContract\")",
                "\n    .ReportGridOptions(reportHeight: 900, headerColumnWidth: 500, groupDefaultExpanded: 3)",
                "\n    .ToReport()"
            ]
        },
        {
            "cell_type": "code",
            "source": [
                ""
            ]
        }
    ]
}